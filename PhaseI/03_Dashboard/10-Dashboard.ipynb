{
 "cells": [
  {
   "cell_type": "markdown",
   "metadata": {},
   "source": [
    "# San Francisco Rental Prices Dashboard\n",
    "\n",
    "In this notebook, you will compile the visualizations from the previous analysis into functions that can be used for a Panel dashboard."
   ]
  },
  {
   "cell_type": "code",
   "execution_count": 12,
   "metadata": {},
   "outputs": [],
   "source": [
    "# System imports\n",
    "import os\n",
    "import pandas as pd\n",
    "import matplotlib.pyplot as plt\n",
    "import plotly.express as px\n",
    "import hvplot.pandas\n",
    "import panel as pn\n",
    "from pathlib import Path\n",
    "from dotenv import load_dotenv\n",
    "from panel.interact import interact\n",
    "from panel import widgets\n",
    "from string import digits\n",
    "from numpy import array\n",
    "from dotenv import load_dotenv\n",
    "import csv\n",
    "import json\n",
    "import numpy as np\n",
    "import dateparser\n",
    "import panel as pn\n",
    "import matplotlib.ticker as tkr\n",
    "\n",
    "plt.style.use('seaborn-white')\n",
    "\n",
    "pn.extension('plotly')\n",
    "\n",
    "pn.extension()\n",
    "\n",
    "%matplotlib inline\n"
   ]
  },
  {
   "cell_type": "code",
   "execution_count": 13,
   "metadata": {},
   "outputs": [
    {
     "output_type": "execute_result",
     "data": {
      "text/plain": [
       "True"
      ]
     },
     "metadata": {},
     "execution_count": 13
    }
   ],
   "source": [
    "# Read the Mapbox API key\n",
    "mapbox_token = os.getenv(\"MAPBOX_API_KEY\")\n",
    "load_dotenv()"
   ]
  },
  {
   "cell_type": "code",
   "execution_count": 14,
   "metadata": {},
   "outputs": [],
   "source": [
    "# Local imports\n",
    "import sys\n",
    "sys.path.append(\"../lib2\")\n",
    "\n",
    "from Constants import Constants\n",
    "from ProcessingTools import DateProcessingTools\n"
   ]
  },
  {
   "cell_type": "markdown",
   "metadata": {},
   "source": [
    "# Import Data"
   ]
  },
  {
   "cell_type": "code",
   "execution_count": 15,
   "metadata": {},
   "outputs": [],
   "source": [
    "# Construct the tools\n",
    "debug_level = 0\n",
    "constants = Constants()\n",
    "tool_data_processing = DateProcessingTools(debug_level)\n"
   ]
  },
  {
   "cell_type": "code",
   "execution_count": 16,
   "metadata": {},
   "outputs": [],
   "source": [
    "# Import all preprocessed data\n",
    "atlas           = pd.read_pickle(constants.PREPROCESSED_ATLAS_FILE_PATH)\n",
    "forecast        = pd.read_pickle(constants.PREPROCESSED_FORECAST_DATA_FILE_PATH)\n",
    "revenue2020     = pd.read_pickle(constants.PREPROCESSED_REVENUE2020_FILE_PATH)\n",
    "revenue2020A    = pd.read_pickle(constants.PREPROCESSED_REVENUE2020A_FILE_PATH)\n"
   ]
  },
  {
   "cell_type": "code",
   "execution_count": 17,
   "metadata": {},
   "outputs": [],
   "source": [
    "atlas = atlas.sort_values(by='Invoice Date')"
   ]
  },
  {
   "cell_type": "code",
   "execution_count": 18,
   "metadata": {},
   "outputs": [
    {
     "output_type": "execute_result",
     "data": {
      "text/plain": [
       "          Customers  Number of Users              Invoice Date  Invoice #  \\\n",
       "0      University 1           7050.0 2015-03-20 00:00:00-04:00  ATLAS 315   \n",
       "1      University 2            250.0 2015-05-28 00:00:00-04:00      AJ501   \n",
       "2      University 3            100.0 2015-06-23 00:00:00-04:00      AJ502   \n",
       "3      University 4            500.0 2015-06-26 00:00:00-04:00      AJ503   \n",
       "4      University 5             15.0 2015-10-07 00:00:00-04:00      AJ504   \n",
       "..              ...              ...                       ...        ...   \n",
       "695  University 300            200.0 2020-12-08 00:00:00-05:00   NB120920   \n",
       "696   University 81            200.0 2020-12-08 00:00:00-05:00   NB12092B   \n",
       "697  University 236            350.0 2020-12-08 00:00:00-05:00   NB120820   \n",
       "698  University 392             50.0 2020-12-08 00:00:00-05:00  NB120920A   \n",
       "699  University 393            300.0 2020-12-09 00:00:00-05:00  NB120920C   \n",
       "\n",
       "     Year     Month  Invoice Amount Subscription 2021 Prediction  \\\n",
       "0    2015     March         72000.0       1 Year             NaN   \n",
       "1    2015       May          3500.0       1 Year             NaN   \n",
       "2    2015      June          3500.0       1 Year             NaN   \n",
       "3    2015      June          6500.0       1 Year             NaN   \n",
       "4    2015   October           750.0       1 Year             NaN   \n",
       "..    ...       ...             ...          ...             ...   \n",
       "695  2020  December          1750.0     6 Months      $1,750.00    \n",
       "696  2020  December          2000.0       1 Year      $2,000.00    \n",
       "697  2020  December          2500.0     6 Months      $2,500.00    \n",
       "698  2020  December          1000.0       1 Year        $500.00    \n",
       "699  2020  December          4500.0       1 Year             NaN   \n",
       "\n",
       "    Customers Status            Account Code   \\\n",
       "0               Lost  4700-0-00-00000-18-0000   \n",
       "1             Active  4700-0-00-00000-16-0000   \n",
       "2             Active  4700-0-00-00000-17-0000   \n",
       "3               Lost  4700-0-00-00000-32-0000   \n",
       "4               Lost  4700-0-00-00000-20-0000   \n",
       "..               ...                      ...   \n",
       "695              New  4700-0-00-00000-00-0000   \n",
       "696           Active  4700-0-00-00000-00-0000   \n",
       "697              New  4700-0-00-00000-00-0000   \n",
       "698              New  4700-0-00-00000-00-0000   \n",
       "699              New  4700-0-00-00000-00-0000   \n",
       "\n",
       "                                               Address   State        Lat  \\\n",
       "0              1201 N 3rd St #6, Baton Rouge, LA 70802      LA  30.460190   \n",
       "1                     1 Kellogg Cir, Emporia, KS 66801      KS  38.392609   \n",
       "2              150 University Blvd, Morehead, KY 40351      KY  38.184921   \n",
       "3                 44 Pierrepont Ave, Potsdam, NY 13676      NY  44.663780   \n",
       "4            47645 College Dr, St Marys City, MD 20686      MD  38.190601   \n",
       "..                                                 ...     ...        ...   \n",
       "695                 435 College Ave, Modesto, CA 95350      CA  37.651310   \n",
       "696             601 S College Rd, Wilmington, NC 28403      NC  34.223991   \n",
       "697  1812 Sir Isaac Brock Way, St. Catharines, Onta...  Canada  43.118799   \n",
       "698           303 Homestead Avenue, Holyoke, MA  01040      MA  42.193910   \n",
       "699  820 Main Street, Wardlaw 221, Columbia, SC  29208      SC  33.996170   \n",
       "\n",
       "           Long             Service Start               Service End  \\\n",
       "0    -91.188530 2015-03-18 00:00:00-04:00 2016-06-30 00:00:00-04:00   \n",
       "1    -96.181396 2015-06-01 00:00:00-04:00 2016-06-30 00:00:00-04:00   \n",
       "2    -83.434441 2015-06-10 00:00:00-04:00 2016-06-30 00:00:00-04:00   \n",
       "3    -74.978409 2015-06-01 00:00:00-04:00 2016-06-30 00:00:00-04:00   \n",
       "4    -76.426300 2015-10-05 00:00:00-04:00 2016-09-30 00:00:00-04:00   \n",
       "..          ...                       ...                       ...   \n",
       "695 -121.009726 2021-03-01 00:00:00-05:00 2021-08-31 00:00:00-04:00   \n",
       "696  -77.867764 2020-08-31 00:00:00-04:00 2021-08-31 00:00:00-04:00   \n",
       "697  -79.238508 2020-12-09 00:00:00-05:00 2021-05-31 00:00:00-04:00   \n",
       "698  -72.647450 2021-01-01 00:00:00-05:00 2021-12-31 00:00:00-05:00   \n",
       "699  -81.031200 2021-01-01 00:00:00-05:00 2021-12-31 00:00:00-05:00   \n",
       "\n",
       "    Subscription Duration  \n",
       "0                365 days  \n",
       "1                365 days  \n",
       "2                365 days  \n",
       "3                365 days  \n",
       "4                365 days  \n",
       "..                    ...  \n",
       "695              180 days  \n",
       "696              365 days  \n",
       "697              180 days  \n",
       "698              365 days  \n",
       "699              365 days  \n",
       "\n",
       "[700 rows x 18 columns]"
      ],
      "text/html": "<div>\n<style scoped>\n    .dataframe tbody tr th:only-of-type {\n        vertical-align: middle;\n    }\n\n    .dataframe tbody tr th {\n        vertical-align: top;\n    }\n\n    .dataframe thead th {\n        text-align: right;\n    }\n</style>\n<table border=\"1\" class=\"dataframe\">\n  <thead>\n    <tr style=\"text-align: right;\">\n      <th></th>\n      <th>Customers</th>\n      <th>Number of Users</th>\n      <th>Invoice Date</th>\n      <th>Invoice #</th>\n      <th>Year</th>\n      <th>Month</th>\n      <th>Invoice Amount</th>\n      <th>Subscription</th>\n      <th>2021 Prediction</th>\n      <th>Customers Status</th>\n      <th>Account Code</th>\n      <th>Address</th>\n      <th>State</th>\n      <th>Lat</th>\n      <th>Long</th>\n      <th>Service Start</th>\n      <th>Service End</th>\n      <th>Subscription Duration</th>\n    </tr>\n  </thead>\n  <tbody>\n    <tr>\n      <th>0</th>\n      <td>University 1</td>\n      <td>7050.0</td>\n      <td>2015-03-20 00:00:00-04:00</td>\n      <td>ATLAS 315</td>\n      <td>2015</td>\n      <td>March</td>\n      <td>72000.0</td>\n      <td>1 Year</td>\n      <td>NaN</td>\n      <td>Lost</td>\n      <td>4700-0-00-00000-18-0000</td>\n      <td>1201 N 3rd St #6, Baton Rouge, LA 70802</td>\n      <td>LA</td>\n      <td>30.460190</td>\n      <td>-91.188530</td>\n      <td>2015-03-18 00:00:00-04:00</td>\n      <td>2016-06-30 00:00:00-04:00</td>\n      <td>365 days</td>\n    </tr>\n    <tr>\n      <th>1</th>\n      <td>University 2</td>\n      <td>250.0</td>\n      <td>2015-05-28 00:00:00-04:00</td>\n      <td>AJ501</td>\n      <td>2015</td>\n      <td>May</td>\n      <td>3500.0</td>\n      <td>1 Year</td>\n      <td>NaN</td>\n      <td>Active</td>\n      <td>4700-0-00-00000-16-0000</td>\n      <td>1 Kellogg Cir, Emporia, KS 66801</td>\n      <td>KS</td>\n      <td>38.392609</td>\n      <td>-96.181396</td>\n      <td>2015-06-01 00:00:00-04:00</td>\n      <td>2016-06-30 00:00:00-04:00</td>\n      <td>365 days</td>\n    </tr>\n    <tr>\n      <th>2</th>\n      <td>University 3</td>\n      <td>100.0</td>\n      <td>2015-06-23 00:00:00-04:00</td>\n      <td>AJ502</td>\n      <td>2015</td>\n      <td>June</td>\n      <td>3500.0</td>\n      <td>1 Year</td>\n      <td>NaN</td>\n      <td>Active</td>\n      <td>4700-0-00-00000-17-0000</td>\n      <td>150 University Blvd, Morehead, KY 40351</td>\n      <td>KY</td>\n      <td>38.184921</td>\n      <td>-83.434441</td>\n      <td>2015-06-10 00:00:00-04:00</td>\n      <td>2016-06-30 00:00:00-04:00</td>\n      <td>365 days</td>\n    </tr>\n    <tr>\n      <th>3</th>\n      <td>University 4</td>\n      <td>500.0</td>\n      <td>2015-06-26 00:00:00-04:00</td>\n      <td>AJ503</td>\n      <td>2015</td>\n      <td>June</td>\n      <td>6500.0</td>\n      <td>1 Year</td>\n      <td>NaN</td>\n      <td>Lost</td>\n      <td>4700-0-00-00000-32-0000</td>\n      <td>44 Pierrepont Ave, Potsdam, NY 13676</td>\n      <td>NY</td>\n      <td>44.663780</td>\n      <td>-74.978409</td>\n      <td>2015-06-01 00:00:00-04:00</td>\n      <td>2016-06-30 00:00:00-04:00</td>\n      <td>365 days</td>\n    </tr>\n    <tr>\n      <th>4</th>\n      <td>University 5</td>\n      <td>15.0</td>\n      <td>2015-10-07 00:00:00-04:00</td>\n      <td>AJ504</td>\n      <td>2015</td>\n      <td>October</td>\n      <td>750.0</td>\n      <td>1 Year</td>\n      <td>NaN</td>\n      <td>Lost</td>\n      <td>4700-0-00-00000-20-0000</td>\n      <td>47645 College Dr, St Marys City, MD 20686</td>\n      <td>MD</td>\n      <td>38.190601</td>\n      <td>-76.426300</td>\n      <td>2015-10-05 00:00:00-04:00</td>\n      <td>2016-09-30 00:00:00-04:00</td>\n      <td>365 days</td>\n    </tr>\n    <tr>\n      <th>...</th>\n      <td>...</td>\n      <td>...</td>\n      <td>...</td>\n      <td>...</td>\n      <td>...</td>\n      <td>...</td>\n      <td>...</td>\n      <td>...</td>\n      <td>...</td>\n      <td>...</td>\n      <td>...</td>\n      <td>...</td>\n      <td>...</td>\n      <td>...</td>\n      <td>...</td>\n      <td>...</td>\n      <td>...</td>\n      <td>...</td>\n    </tr>\n    <tr>\n      <th>695</th>\n      <td>University 300</td>\n      <td>200.0</td>\n      <td>2020-12-08 00:00:00-05:00</td>\n      <td>NB120920</td>\n      <td>2020</td>\n      <td>December</td>\n      <td>1750.0</td>\n      <td>6 Months</td>\n      <td>$1,750.00</td>\n      <td>New</td>\n      <td>4700-0-00-00000-00-0000</td>\n      <td>435 College Ave, Modesto, CA 95350</td>\n      <td>CA</td>\n      <td>37.651310</td>\n      <td>-121.009726</td>\n      <td>2021-03-01 00:00:00-05:00</td>\n      <td>2021-08-31 00:00:00-04:00</td>\n      <td>180 days</td>\n    </tr>\n    <tr>\n      <th>696</th>\n      <td>University 81</td>\n      <td>200.0</td>\n      <td>2020-12-08 00:00:00-05:00</td>\n      <td>NB12092B</td>\n      <td>2020</td>\n      <td>December</td>\n      <td>2000.0</td>\n      <td>1 Year</td>\n      <td>$2,000.00</td>\n      <td>Active</td>\n      <td>4700-0-00-00000-00-0000</td>\n      <td>601 S College Rd, Wilmington, NC 28403</td>\n      <td>NC</td>\n      <td>34.223991</td>\n      <td>-77.867764</td>\n      <td>2020-08-31 00:00:00-04:00</td>\n      <td>2021-08-31 00:00:00-04:00</td>\n      <td>365 days</td>\n    </tr>\n    <tr>\n      <th>697</th>\n      <td>University 236</td>\n      <td>350.0</td>\n      <td>2020-12-08 00:00:00-05:00</td>\n      <td>NB120820</td>\n      <td>2020</td>\n      <td>December</td>\n      <td>2500.0</td>\n      <td>6 Months</td>\n      <td>$2,500.00</td>\n      <td>New</td>\n      <td>4700-0-00-00000-00-0000</td>\n      <td>1812 Sir Isaac Brock Way, St. Catharines, Onta...</td>\n      <td>Canada</td>\n      <td>43.118799</td>\n      <td>-79.238508</td>\n      <td>2020-12-09 00:00:00-05:00</td>\n      <td>2021-05-31 00:00:00-04:00</td>\n      <td>180 days</td>\n    </tr>\n    <tr>\n      <th>698</th>\n      <td>University 392</td>\n      <td>50.0</td>\n      <td>2020-12-08 00:00:00-05:00</td>\n      <td>NB120920A</td>\n      <td>2020</td>\n      <td>December</td>\n      <td>1000.0</td>\n      <td>1 Year</td>\n      <td>$500.00</td>\n      <td>New</td>\n      <td>4700-0-00-00000-00-0000</td>\n      <td>303 Homestead Avenue, Holyoke, MA  01040</td>\n      <td>MA</td>\n      <td>42.193910</td>\n      <td>-72.647450</td>\n      <td>2021-01-01 00:00:00-05:00</td>\n      <td>2021-12-31 00:00:00-05:00</td>\n      <td>365 days</td>\n    </tr>\n    <tr>\n      <th>699</th>\n      <td>University 393</td>\n      <td>300.0</td>\n      <td>2020-12-09 00:00:00-05:00</td>\n      <td>NB120920C</td>\n      <td>2020</td>\n      <td>December</td>\n      <td>4500.0</td>\n      <td>1 Year</td>\n      <td>NaN</td>\n      <td>New</td>\n      <td>4700-0-00-00000-00-0000</td>\n      <td>820 Main Street, Wardlaw 221, Columbia, SC  29208</td>\n      <td>SC</td>\n      <td>33.996170</td>\n      <td>-81.031200</td>\n      <td>2021-01-01 00:00:00-05:00</td>\n      <td>2021-12-31 00:00:00-05:00</td>\n      <td>365 days</td>\n    </tr>\n  </tbody>\n</table>\n<p>700 rows × 18 columns</p>\n</div>"
     },
     "metadata": {},
     "execution_count": 18
    }
   ],
   "source": [
    "atlas.reset_index(inplace=True)\n",
    "atlas"
   ]
  },
  {
   "cell_type": "markdown",
   "metadata": {},
   "source": [
    "- - -"
   ]
  },
  {
   "cell_type": "markdown",
   "metadata": {},
   "source": [
    "## Panel Visualizations\n",
    "\n",
    "In this section, you will copy the code for each plot type from your analysis notebook and place it into separate functions that Panel can use to create panes for the dashboard. \n",
    "\n",
    "These functions will convert the plot object to a Panel pane.\n",
    "\n",
    "Be sure to include any DataFrame transformation/manipulation code required along with the plotting code.\n",
    "\n",
    "Return a Panel pane object from each function that can be used to build the dashboard.\n",
    "\n",
    "Note: Remove any `.show()` lines from the code. We want to return the plots instead of showing them. The Panel dashboard will then display the plots."
   ]
  },
  {
   "cell_type": "code",
   "execution_count": 19,
   "metadata": {},
   "outputs": [],
   "source": [
    "# Define Panel Visualization Functions\n",
    "def Housing_Units_Per_Year():\n",
    "    \"\"\"Housing Units Per Year.\"\"\"\n",
    "    Mean_Housing_Units = SFO_Data.groupby([\"year\"])[\"housing_units\"].mean()\n",
    "    SFO_Grouped_MIN = SFO_Data.groupby([\"year\"])[\"housing_units\"].min().min()\n",
    "    SFO_Grouped_MAX = SFO_Data.groupby([\"year\"])[\"housing_units\"].max().max()\n",
    "    SFO_Grouped_STD = SFO_Data[\"housing_units\"].std()\n",
    "    #TODO fix years...\n",
    "    First_Year = Mean_Housing_Units.index[0]\n",
    "    Last_Year = Mean_Housing_Units.index[-1]\n",
    "    Fig_Housing_Units = px.bar(Mean_Housing_Units,\n",
    "                               title= \"Housing Units from 2010 to 2016 in San Francisco\")\n",
    "    return Fig_Housing_Units\n",
    "\n",
    "def Average_Gross_Rent():\n",
    "    \"\"\"Average Gross Rent in San Francisco Per Year.\"\"\"\n",
    "    SFO_Grouped_by_Year = SFO_Data.groupby([\"year\"])\n",
    "    Mean_Gross_Rent = SFO_Grouped_by_Year[\"gross_rent\"].mean()\n",
    "    Mean_Gross_Rent_Plot = px.line(Mean_Gross_Rent,\n",
    "                                   title =\"Average Gross Rent in San Francisco\")\n",
    "    return Mean_Gross_Rent_Plot\n",
    "\n",
    "def Average_Sales_Price():\n",
    "    \"\"\"Average Sales Price Per Year.\"\"\"\n",
    "    SFO_Grouped_by_Year = SFO_Data.groupby([\"year\"])\n",
    "    Mean_Price_per_SQFT = SFO_Grouped_by_Year[\"sale_price_sqr_foot\"].mean()\n",
    "    Mean_Price_per_SQFT_Plot = px.line(Mean_Price_per_SQFT,\n",
    "                                       title = \"Average Sales Price per Year in San Francisco\")\n",
    "    return Mean_Price_per_SQFT_Plot\n",
    "\n",
    "def Average_Price_by_Neighborhood():\n",
    "    \"\"\"Average Prices by Neighborhood.\"\"\"\n",
    "    SFO_Neighborhood = pd.read_csv(\"Data/sfo_neighborhoods_census_data.csv\")\n",
    "    SFO_Grouped_by_Year_and_NBHD = SFO_Neighborhood.groupby([\"year\", \"neighborhood\"])\n",
    "    SFO_Grouped_by_Year_and_NBHD.head()\n",
    "    Avg_Price_Mean = SFO_Grouped_by_Year_and_NBHD.mean()\n",
    "    SFO_Grouped_Year_and_NBHD_Plot = Avg_Price_Mean.hvplot.line(\n",
    "        x='year',\n",
    "        y='sale_price_sqr_foot',\n",
    "        xlabel='Year',\n",
    "        ylabel='Price per Sqr Foot',\n",
    "        groupby='neighborhood',\n",
    "        width=600\n",
    "        ).opts(yformatter='%0f')\n",
    "    return SFO_Grouped_Year_and_NBHD_Plot\n",
    "\n",
    "def TOP_Expensive_Neighborhoods():\n",
    "    \"\"\"Top 10 Most Expensive Neighborhoods.\"\"\"\n",
    "    Groupby_Neighborhood = SFO_Data.groupby([\"neighborhood\"]).mean()\n",
    "    TOP_10_Expensive = Groupby_Neighborhood.sort_values(by=\"sale_price_sqr_foot\", ascending=False).head(10)\n",
    "    TOP_10_Expensive = TOP_10_Expensive.reset_index()\n",
    "    TOP_10_Expensive_Plot = TOP_10_Expensive.hvplot.bar(\n",
    "        x=\"neighborhood\",\n",
    "        y=\"sale_price_sqr_foot\",\n",
    "        xlabel = \"Neighborhoods\",\n",
    "        ylabel = \"Average Sale Price Per Square Foot\",\n",
    "        title=\"Top 10 Most Expensive Neighborhoods in SFO\",\n",
    "        height=400,\n",
    "        rot=90)\n",
    "    return TOP_10_Expensive_Plot\n",
    "\n",
    "def Parallel_Coordinates():\n",
    "    \"\"\"Parallel Coordinates Plot.\"\"\"\n",
    "    Groupby_Neighborhood = SFO_Data.groupby([\"neighborhood\"]).mean()\n",
    "    TOP_10_Expensive_1 = Groupby_Neighborhood.sort_values(by=\"sale_price_sqr_foot\", ascending=False).head(10)\n",
    "    TOP_10_Expensive_1 = TOP_10_Expensive_1.reset_index()\n",
    "    TOP_10_Expensive_Parallel = px.parallel_coordinates(TOP_10_Expensive_1, color='sale_price_sqr_foot')\n",
    "    return TOP_10_Expensive_Parallel\n",
    "\n",
    "def Parallel_Categories():\n",
    "    \"\"\"Parallel Categories Plot.\"\"\"\n",
    "    Groupby_Neighborhood = SFO_Data.groupby([\"neighborhood\"]).mean()\n",
    "    TOP_10_Expensive_2 = Groupby_Neighborhood.sort_values(by=\"sale_price_sqr_foot\", ascending=False).head(10)\n",
    "    TOP_10_Expensive_2 = TOP_10_Expensive_2.reset_index()\n",
    "    TOP_10_Expensive_Categories =  px.parallel_categories(\n",
    "            TOP_10_Expensive_2,\n",
    "            dimensions=[\"neighborhood\", \"sale_price_sqr_foot\", \"housing_units\", \"gross_rent\"],\n",
    "            color=\"sale_price_sqr_foot\",\n",
    "            color_continuous_scale=px.colors.sequential.Inferno,\n",
    "        )\n",
    "    return TOP_10_Expensive_Categories\n",
    "\n",
    "def Neighborhood_Map():\n",
    "    \"\"\"Neighborhood Map\"\"\"\n",
    "    Mean_Data = SFO_Data.groupby([\"neighborhood\"]).mean()\n",
    "    Mean_Data.reset_index(inplace=True)\n",
    "    Combined_Data = pd.concat([DF_Neighborhood_Locations, Mean_Data], axis='columns', join='inner')\n",
    "    Combined_Data = Combined_Data.iloc[:, 1:]\n",
    "    px.set_mapbox_access_token(mapbox_token)\n",
    "    Neighborhood_Map_Plot = px.scatter_mapbox(\n",
    "            Combined_Data,\n",
    "            lat=\"Lat\",\n",
    "            lon=\"Lon\",\n",
    "            size=\"gross_rent\",\n",
    "            color=\"neighborhood\"\n",
    "        )\n",
    "    return Neighborhood_Map_Plot"
   ]
  },
  {
   "cell_type": "markdown",
   "metadata": {},
   "source": [
    "## Panel Dashboard\n",
    "\n",
    "In this section, you will combine all of the plots into a single dashboard view using Panel. Be creative with your dashboard design!"
   ]
  },
  {
   "cell_type": "code",
   "execution_count": 20,
   "metadata": {},
   "outputs": [
    {
     "output_type": "error",
     "ename": "NameError",
     "evalue": "name 'SFO_Data' is not defined",
     "traceback": [
      "\u001b[1;31m---------------------------------------------------------------------------\u001b[0m",
      "\u001b[1;31mNameError\u001b[0m                                 Traceback (most recent call last)",
      "\u001b[1;32m<ipython-input-20-325feee6612a>\u001b[0m in \u001b[0;36m<module>\u001b[1;34m\u001b[0m\n\u001b[0;32m      1\u001b[0m Housing_Units = pn.Column(\n\u001b[1;32m----> 2\u001b[1;33m     \u001b[0mHousing_Units_Per_Year\u001b[0m\u001b[1;33m(\u001b[0m\u001b[1;33m)\u001b[0m\u001b[1;33m,\u001b[0m\u001b[1;33m\u001b[0m\u001b[1;33m\u001b[0m\u001b[0m\n\u001b[0m\u001b[0;32m      3\u001b[0m     \u001b[0mAverage_Gross_Rent\u001b[0m\u001b[1;33m(\u001b[0m\u001b[1;33m)\u001b[0m\u001b[1;33m,\u001b[0m\u001b[1;33m\u001b[0m\u001b[1;33m\u001b[0m\u001b[0m\n\u001b[0;32m      4\u001b[0m     \u001b[0mAverage_Sales_Price\u001b[0m\u001b[1;33m(\u001b[0m\u001b[1;33m)\u001b[0m\u001b[1;33m\u001b[0m\u001b[1;33m\u001b[0m\u001b[0m\n\u001b[0;32m      5\u001b[0m )\n",
      "\u001b[1;32m<ipython-input-19-3516e1cd050e>\u001b[0m in \u001b[0;36mHousing_Units_Per_Year\u001b[1;34m()\u001b[0m\n\u001b[0;32m      2\u001b[0m \u001b[1;32mdef\u001b[0m \u001b[0mHousing_Units_Per_Year\u001b[0m\u001b[1;33m(\u001b[0m\u001b[1;33m)\u001b[0m\u001b[1;33m:\u001b[0m\u001b[1;33m\u001b[0m\u001b[1;33m\u001b[0m\u001b[0m\n\u001b[0;32m      3\u001b[0m     \u001b[1;34m\"\"\"Housing Units Per Year.\"\"\"\u001b[0m\u001b[1;33m\u001b[0m\u001b[1;33m\u001b[0m\u001b[0m\n\u001b[1;32m----> 4\u001b[1;33m     \u001b[0mMean_Housing_Units\u001b[0m \u001b[1;33m=\u001b[0m \u001b[0mSFO_Data\u001b[0m\u001b[1;33m.\u001b[0m\u001b[0mgroupby\u001b[0m\u001b[1;33m(\u001b[0m\u001b[1;33m[\u001b[0m\u001b[1;34m\"year\"\u001b[0m\u001b[1;33m]\u001b[0m\u001b[1;33m)\u001b[0m\u001b[1;33m[\u001b[0m\u001b[1;34m\"housing_units\"\u001b[0m\u001b[1;33m]\u001b[0m\u001b[1;33m.\u001b[0m\u001b[0mmean\u001b[0m\u001b[1;33m(\u001b[0m\u001b[1;33m)\u001b[0m\u001b[1;33m\u001b[0m\u001b[1;33m\u001b[0m\u001b[0m\n\u001b[0m\u001b[0;32m      5\u001b[0m     \u001b[0mSFO_Grouped_MIN\u001b[0m \u001b[1;33m=\u001b[0m \u001b[0mSFO_Data\u001b[0m\u001b[1;33m.\u001b[0m\u001b[0mgroupby\u001b[0m\u001b[1;33m(\u001b[0m\u001b[1;33m[\u001b[0m\u001b[1;34m\"year\"\u001b[0m\u001b[1;33m]\u001b[0m\u001b[1;33m)\u001b[0m\u001b[1;33m[\u001b[0m\u001b[1;34m\"housing_units\"\u001b[0m\u001b[1;33m]\u001b[0m\u001b[1;33m.\u001b[0m\u001b[0mmin\u001b[0m\u001b[1;33m(\u001b[0m\u001b[1;33m)\u001b[0m\u001b[1;33m.\u001b[0m\u001b[0mmin\u001b[0m\u001b[1;33m(\u001b[0m\u001b[1;33m)\u001b[0m\u001b[1;33m\u001b[0m\u001b[1;33m\u001b[0m\u001b[0m\n\u001b[0;32m      6\u001b[0m     \u001b[0mSFO_Grouped_MAX\u001b[0m \u001b[1;33m=\u001b[0m \u001b[0mSFO_Data\u001b[0m\u001b[1;33m.\u001b[0m\u001b[0mgroupby\u001b[0m\u001b[1;33m(\u001b[0m\u001b[1;33m[\u001b[0m\u001b[1;34m\"year\"\u001b[0m\u001b[1;33m]\u001b[0m\u001b[1;33m)\u001b[0m\u001b[1;33m[\u001b[0m\u001b[1;34m\"housing_units\"\u001b[0m\u001b[1;33m]\u001b[0m\u001b[1;33m.\u001b[0m\u001b[0mmax\u001b[0m\u001b[1;33m(\u001b[0m\u001b[1;33m)\u001b[0m\u001b[1;33m.\u001b[0m\u001b[0mmax\u001b[0m\u001b[1;33m(\u001b[0m\u001b[1;33m)\u001b[0m\u001b[1;33m\u001b[0m\u001b[1;33m\u001b[0m\u001b[0m\n",
      "\u001b[1;31mNameError\u001b[0m: name 'SFO_Data' is not defined"
     ]
    }
   ],
   "source": [
    "Housing_Units = pn.Column(\n",
    "    Housing_Units_Per_Year(),\n",
    "    Average_Gross_Rent(),\n",
    "    Average_Sales_Price()\n",
    ")\n",
    "\n",
    "Housing_Avg = pn.Column(\n",
    "    Average_Price_by_Neighborhood(),\n",
    "    TOP_Expensive_Neighborhoods()\n",
    ")\n",
    "\n",
    "Parallel_Plots = pn.Column(\n",
    "    Parallel_Coordinates(),\n",
    "    Parallel_Categories()\n",
    ")\n",
    "\n",
    "Map_Plot = pn.Column(\n",
    "    Neighborhood_Map()\n",
    ")\n",
    "\n",
    "Dashboard = pn.Tabs(\n",
    "                (\"Welcome\", Map_Plot),\n",
    "                (\"Yearly Market Analysis\", Housing_Units),\n",
    "                (\"Neighborhood Analysis\", Housing_Avg),\n",
    "                (\"Parallel Plots\", Parallel_Plots))        \n",
    "Dashboard"
   ]
  },
  {
   "cell_type": "markdown",
   "metadata": {},
   "source": [
    "## Serve the Panel Dashboard\n"
   ]
  },
  {
   "cell_type": "code",
   "execution_count": null,
   "metadata": {},
   "outputs": [],
   "source": []
  },
  {
   "cell_type": "code",
   "execution_count": null,
   "metadata": {},
   "outputs": [],
   "source": []
  },
  {
   "cell_type": "code",
   "execution_count": null,
   "metadata": {},
   "outputs": [],
   "source": []
  }
 ],
 "metadata": {
  "file_extension": ".py",
  "kernelspec": {
   "name": "python3",
   "display_name": "Python 3.8.3 64-bit (conda)",
   "metadata": {
    "interpreter": {
     "hash": "b3ba2566441a7c06988d0923437866b63cedc61552a5af99d1f4fb67d367b25f"
    }
   }
  },
  "language_info": {
   "codemirror_mode": {
    "name": "ipython",
    "version": 3
   },
   "file_extension": ".py",
   "mimetype": "text/x-python",
   "name": "python",
   "nbconvert_exporter": "python",
   "pygments_lexer": "ipython3",
   "version": "3.8.3-final"
  },
  "mimetype": "text/x-python",
  "name": "python",
  "npconvert_exporter": "python",
  "pygments_lexer": "ipython3",
  "version": 3
 },
 "nbformat": 4,
 "nbformat_minor": 4
}