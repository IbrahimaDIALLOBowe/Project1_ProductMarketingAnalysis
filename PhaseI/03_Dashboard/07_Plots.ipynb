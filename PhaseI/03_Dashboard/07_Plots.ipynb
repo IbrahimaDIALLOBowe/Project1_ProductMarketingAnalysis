{
 "cells": [
  {
   "cell_type": "code",
   "execution_count": 60,
   "metadata": {},
   "outputs": [],
   "source": [
    "# System imports\n",
    "import os\n",
    "import pandas as pd\n",
    "import matplotlib.pyplot as plt\n",
    "import plotly.express as px\n",
    "import hvplot.pandas\n",
    "import panel as pn\n",
    "from pathlib import Path\n",
    "from dotenv import load_dotenv\n",
    "from panel.interact import interact\n",
    "from panel import widgets\n",
    "from string import digits\n",
    "from numpy import array\n",
    "import csv\n",
    "import json\n",
    "import numpy as np\n",
    "import dateparser\n",
    "import panel as pn\n",
    "import matplotlib.ticker as tkr\n",
    "\n",
    "plt.style.use('seaborn-white')\n",
    "\n",
    "\n",
    "pn.extension()\n",
    "\n",
    "%matplotlib inline\n"
   ]
  },
  {
   "cell_type": "code",
   "execution_count": 61,
   "metadata": {},
   "outputs": [],
   "source": [
    "# Local imports\n",
    "import sys\n",
    "sys.path.append(\"../lib2\")\n",
    "\n",
    "from Constants import Constants\n",
    "from ProcessingTools import DateProcessingTools\n"
   ]
  },
  {
   "cell_type": "code",
   "execution_count": 62,
   "metadata": {},
   "outputs": [],
   "source": [
    "load_dotenv()\n",
    "mapbox_token = os.getenv(\"MAPBOX_API_KEY\")\n",
    "px.set_mapbox_access_token(mapbox_token)\n"
   ]
  },
  {
   "cell_type": "code",
   "execution_count": 63,
   "metadata": {},
   "outputs": [],
   "source": [
    "# Construct the tools\n",
    "debug_level = 0\n",
    "constants = Constants()\n",
    "tool_data_processing = DateProcessingTools(debug_level)\n"
   ]
  },
  {
   "cell_type": "code",
   "execution_count": 64,
   "metadata": {},
   "outputs": [],
   "source": [
    "# Import all preprocessed data\n",
    "atlas           = pd.read_pickle(constants.PREPROCESSED_ATLAS_FILE_PATH)\n",
    "forecast        = pd.read_pickle(constants.PREPROCESSED_FORECAST_DATA_FILE_PATH)\n",
    "revenue2020     = pd.read_pickle(constants.PREPROCESSED_REVENUE2020_FILE_PATH)\n",
    "revenue2020A    = pd.read_pickle(constants.PREPROCESSED_REVENUE2020A_FILE_PATH)\n"
   ]
  },
  {
   "cell_type": "code",
   "execution_count": 65,
   "metadata": {},
   "outputs": [],
   "source": [
    "atlas = atlas.sort_values(by='Invoice Date')"
   ]
  },
  {
   "cell_type": "code",
   "execution_count": 66,
   "metadata": {},
   "outputs": [],
   "source": [
    "atlas.reset_index(inplace=True)"
   ]
  },
  {
   "cell_type": "code",
   "execution_count": 67,
   "metadata": {},
   "outputs": [],
   "source": [
    "yearly_income = atlas.iloc[:, [0, 6, 4]]"
   ]
  },
  {
   "cell_type": "code",
   "execution_count": 68,
   "metadata": {},
   "outputs": [],
   "source": [
    "grp_yearly_income = yearly_income.groupby('Year').sum()"
   ]
  },
  {
   "cell_type": "code",
   "execution_count": 69,
   "metadata": {},
   "outputs": [],
   "source": [
    "grp_yearly_income['Invoice Amount'] = grp_yearly_income['Invoice Amount'] / 1000"
   ]
  },
  {
   "cell_type": "code",
   "execution_count": 70,
   "metadata": {},
   "outputs": [
    {
     "output_type": "display_data",
     "data": {},
     "metadata": {}
    },
    {
     "output_type": "execute_result",
     "data": {
      "text/html": "<div id='5417'>\n\n\n\n\n\n  <div class=\"bk-root\" id=\"6b1ee6cc-a75d-4916-a7a4-7a76d564c135\" data-root-id=\"5417\"></div>\n</div>\n<script type=\"application/javascript\">(function(root) {\n  function embed_document(root) {\n  var docs_json = {\"fb6b16bc-abbb-4fd7-8da3-aeaa1daa6b3e\":{\"roots\":{\"references\":[{\"attributes\":{\"axis\":{\"id\":\"5434\"},\"dimension\":1,\"ticker\":{\"id\":\"5435\"}},\"id\":\"5437\",\"type\":\"Grid\"},{\"attributes\":{\"align\":null,\"below\":[{\"id\":\"5431\"}],\"center\":[{\"id\":\"5433\"},{\"id\":\"5437\"}],\"left\":[{\"id\":\"5434\"}],\"margin\":null,\"min_border_bottom\":10,\"min_border_left\":10,\"min_border_right\":10,\"min_border_top\":10,\"plot_width\":1200,\"renderers\":[{\"id\":\"5457\"}],\"sizing_mode\":\"fixed\",\"title\":{\"id\":\"5423\"},\"toolbar\":{\"id\":\"5444\"},\"x_range\":{\"id\":\"5419\"},\"x_scale\":{\"id\":\"5427\"},\"y_range\":{\"id\":\"5420\"},\"y_scale\":{\"id\":\"5429\"}},\"id\":\"5422\",\"subtype\":\"Figure\",\"type\":\"Plot\"},{\"attributes\":{},\"id\":\"5438\",\"type\":\"SaveTool\"},{\"attributes\":{\"text\":\"Total Sales by Year from 2015 to 2020\",\"text_color\":{\"value\":\"black\"},\"text_font_size\":{\"value\":\"25pt\"}},\"id\":\"5423\",\"type\":\"Title\"},{\"attributes\":{\"margin\":[5,5,5,5],\"name\":\"HSpacer08135\",\"sizing_mode\":\"stretch_width\"},\"id\":\"5418\",\"type\":\"Spacer\"},{\"attributes\":{},\"id\":\"5435\",\"type\":\"BasicTicker\"},{\"attributes\":{\"axis_label\":\"Yearly Income (Tounsands of Dollars)\",\"axis_label_text_font_size\":\"20pt\",\"bounds\":\"auto\",\"formatter\":{\"id\":\"5459\"},\"major_label_orientation\":\"horizontal\",\"major_label_text_font_size\":\"20pt\",\"ticker\":{\"id\":\"5435\"}},\"id\":\"5434\",\"type\":\"LinearAxis\"},{\"attributes\":{},\"id\":\"5429\",\"type\":\"LinearScale\"},{\"attributes\":{},\"id\":\"5439\",\"type\":\"PanTool\"},{\"attributes\":{\"fill_color\":{\"value\":\"#1f77b3\"},\"top\":{\"field\":\"Invoice_Amount\"},\"width\":{\"value\":0.8},\"x\":{\"field\":\"Year\"}},\"id\":\"5454\",\"type\":\"VBar\"},{\"attributes\":{\"callback\":null,\"renderers\":[{\"id\":\"5457\"}],\"tags\":[\"hv_created\"],\"tooltips\":[[\"Year\",\"@{Year}\"],[\"Invoice Amount\",\"@{Invoice_Amount}\"]]},\"id\":\"5421\",\"type\":\"HoverTool\"},{\"attributes\":{},\"id\":\"5440\",\"type\":\"WheelZoomTool\"},{\"attributes\":{\"active_drag\":\"auto\",\"active_inspect\":\"auto\",\"active_multi\":null,\"active_scroll\":\"auto\",\"active_tap\":\"auto\",\"tools\":[{\"id\":\"5421\"},{\"id\":\"5438\"},{\"id\":\"5439\"},{\"id\":\"5440\"},{\"id\":\"5441\"},{\"id\":\"5442\"}]},\"id\":\"5444\",\"type\":\"Toolbar\"},{\"attributes\":{\"axis_label\":\"Total Number of Years\",\"axis_label_text_font_size\":\"20pt\",\"bounds\":\"auto\",\"formatter\":{\"id\":\"5461\"},\"group_text_font_size\":\"18pt\",\"major_label_orientation\":\"horizontal\",\"major_label_text_font_size\":\"18pt\",\"ticker\":{\"id\":\"5432\"}},\"id\":\"5431\",\"type\":\"CategoricalAxis\"},{\"attributes\":{\"data\":{\"Invoice_Amount\":{\"__ndarray__\":\"MzMzMzOLaUCamZmZmWFvQBsv3SQGW3JACtejcD1ybkAzMzMzMyFwQF75LM9DZJFA\",\"dtype\":\"float64\",\"shape\":[6]},\"Year\":[\"2015\",\"2016\",\"2017\",\"2018\",\"2019\",\"2020\"]},\"selected\":{\"id\":\"5452\"},\"selection_policy\":{\"id\":\"5473\"}},\"id\":\"5451\",\"type\":\"ColumnDataSource\"},{\"attributes\":{\"overlay\":{\"id\":\"5443\"}},\"id\":\"5441\",\"type\":\"BoxZoomTool\"},{\"attributes\":{},\"id\":\"5442\",\"type\":\"ResetTool\"},{\"attributes\":{\"fill_alpha\":{\"value\":0.1},\"fill_color\":{\"value\":\"#1f77b3\"},\"line_alpha\":{\"value\":0.1},\"top\":{\"field\":\"Invoice_Amount\"},\"width\":{\"value\":0.8},\"x\":{\"field\":\"Year\"}},\"id\":\"5455\",\"type\":\"VBar\"},{\"attributes\":{},\"id\":\"5452\",\"type\":\"Selection\"},{\"attributes\":{\"factors\":[\"2015\",\"2016\",\"2017\",\"2018\",\"2019\",\"2020\"],\"tags\":[[[\"Year\",\"Year\",null]]]},\"id\":\"5419\",\"type\":\"FactorRange\"},{\"attributes\":{\"fill_alpha\":{\"value\":0.2},\"fill_color\":{\"value\":\"#1f77b3\"},\"line_alpha\":{\"value\":0.2},\"top\":{\"field\":\"Invoice_Amount\"},\"width\":{\"value\":0.8},\"x\":{\"field\":\"Year\"}},\"id\":\"5456\",\"type\":\"VBar\"},{\"attributes\":{},\"id\":\"5473\",\"type\":\"UnionRenderers\"},{\"attributes\":{},\"id\":\"5432\",\"type\":\"CategoricalTicker\"},{\"attributes\":{\"margin\":[5,5,5,5],\"name\":\"HSpacer08136\",\"sizing_mode\":\"stretch_width\"},\"id\":\"5475\",\"type\":\"Spacer\"},{\"attributes\":{\"children\":[{\"id\":\"5418\"},{\"id\":\"5422\"},{\"id\":\"5475\"}],\"margin\":[0,0,0,0],\"name\":\"Row08131\",\"tags\":[\"embedded\"]},\"id\":\"5417\",\"type\":\"Row\"},{\"attributes\":{\"data_source\":{\"id\":\"5451\"},\"glyph\":{\"id\":\"5454\"},\"hover_glyph\":null,\"muted_glyph\":{\"id\":\"5456\"},\"nonselection_glyph\":{\"id\":\"5455\"},\"selection_glyph\":null,\"view\":{\"id\":\"5458\"}},\"id\":\"5457\",\"type\":\"GlyphRenderer\"},{\"attributes\":{\"source\":{\"id\":\"5451\"}},\"id\":\"5458\",\"type\":\"CDSView\"},{\"attributes\":{\"format\":\"$%.0f\"},\"id\":\"5459\",\"type\":\"PrintfTickFormatter\"},{\"attributes\":{},\"id\":\"5461\",\"type\":\"CategoricalTickFormatter\"},{\"attributes\":{\"bottom_units\":\"screen\",\"fill_alpha\":0.5,\"fill_color\":\"lightgrey\",\"left_units\":\"screen\",\"level\":\"overlay\",\"line_alpha\":1.0,\"line_color\":\"black\",\"line_dash\":[4,4],\"line_width\":2,\"render_mode\":\"css\",\"right_units\":\"screen\",\"top_units\":\"screen\"},\"id\":\"5443\",\"type\":\"BoxAnnotation\"},{\"attributes\":{},\"id\":\"5427\",\"type\":\"CategoricalScale\"},{\"attributes\":{\"axis\":{\"id\":\"5431\"},\"ticker\":{\"id\":\"5432\"}},\"id\":\"5433\",\"type\":\"Grid\"},{\"attributes\":{\"end\":1203.9378420000003,\"reset_end\":1203.9378420000003,\"reset_start\":0.0,\"tags\":[[[\"Invoice Amount\",\"Invoice Amount\",null]]]},\"id\":\"5420\",\"type\":\"Range1d\"}],\"root_ids\":[\"5417\"]},\"title\":\"Bokeh Application\",\"version\":\"2.0.2\"}};\n  var render_items = [{\"docid\":\"fb6b16bc-abbb-4fd7-8da3-aeaa1daa6b3e\",\"root_ids\":[\"5417\"],\"roots\":{\"5417\":\"6b1ee6cc-a75d-4916-a7a4-7a76d564c135\"}}];\n  root.Bokeh.embed.embed_items_notebook(docs_json, render_items);\n  }\nif (root.Bokeh !== undefined) {\n    embed_document(root);\n  } else {\n    var attempts = 0;\n    var timer = setInterval(function(root) {\n      if (root.Bokeh !== undefined) {\n        clearInterval(timer);\n        embed_document(root);\n      } else if (document.readyState == \"complete\") {\n        attempts++;\n        if (attempts > 100) {\n          clearInterval(timer);\n          console.log(\"Bokeh: ERROR: Unable to run BokehJS code because BokehJS library is missing\");\n        }\n      }\n    }, 10, root)\n  }\n})(window);</script>",
      "application/vnd.holoviews_exec.v0+json": "",
      "text/plain": [
       ":Bars   [Year]   (Invoice Amount)"
      ]
     },
     "metadata": {
      "application/vnd.holoviews_exec.v0+json": {
       "id": "5417"
      }
     },
     "execution_count": 70
    }
   ],
   "source": [
    " grp_yearly_income.hvplot(\n",
    "     y='Invoice Amount',\n",
    "     figsize=(20,15), \n",
    "     kind='bar', \n",
    "     subplots=True, \n",
    "     title=('Total Sales by Year from 2015 to 2020'), \n",
    "     ylabel='Yearly Income (Tounsands of Dollars)', \n",
    "     xlabel='Total Number of Years',\n",
    "     height=600,\n",
    "     grid=True,\n",
    "     width=1200).opts(yformatter='$%.0f', fontsize={'title': 25, 'labels': 20, 'xticks': 18, 'yticks': 20})"
   ]
  },
  {
   "cell_type": "code",
   "execution_count": 71,
   "metadata": {},
   "outputs": [
    {
     "output_type": "display_data",
     "data": {},
     "metadata": {}
    },
    {
     "output_type": "execute_result",
     "data": {
      "text/html": "<div id='5512'>\n\n\n\n\n\n  <div class=\"bk-root\" id=\"43d0020e-b085-496e-a3ef-98e83cf69d47\" data-root-id=\"5512\"></div>\n</div>\n<script type=\"application/javascript\">(function(root) {\n  function embed_document(root) {\n  var docs_json = {\"678480e0-3cfc-472f-a2f9-3db2d75d07f2\":{\"roots\":{\"references\":[{\"attributes\":{},\"id\":\"5517\",\"type\":\"NumberEditor\"},{\"attributes\":{\"children\":[{\"id\":\"5513\"},{\"id\":\"5521\"},{\"id\":\"5525\"}],\"margin\":[0,0,0,0],\"name\":\"Row08258\",\"tags\":[\"embedded\"]},\"id\":\"5512\",\"type\":\"Row\"},{\"attributes\":{\"columns\":[{\"id\":\"5518\"}],\"height\":300,\"reorderable\":false,\"source\":{\"id\":\"5514\"},\"view\":{\"id\":\"5522\"},\"width\":700},\"id\":\"5521\",\"type\":\"DataTable\"},{\"attributes\":{},\"id\":\"5524\",\"type\":\"UnionRenderers\"},{\"attributes\":{\"data\":{\"Invoice_Amount\":{\"__ndarray__\":\"MzMzMzOLaUCamZmZmWFvQBsv3SQGW3JACtejcD1ybkAzMzMzMyFwQF75LM9DZJFA\",\"dtype\":\"float64\",\"shape\":[6]}},\"selected\":{\"id\":\"5515\"},\"selection_policy\":{\"id\":\"5524\"}},\"id\":\"5514\",\"type\":\"ColumnDataSource\"},{\"attributes\":{},\"id\":\"5515\",\"type\":\"Selection\"},{\"attributes\":{\"editor\":{\"id\":\"5517\"},\"field\":\"Invoice_Amount\",\"formatter\":{\"id\":\"5516\"},\"title\":\"Invoice Amount\"},\"id\":\"5518\",\"type\":\"TableColumn\"},{\"attributes\":{\"format\":\"0,0.0[00000]\"},\"id\":\"5516\",\"type\":\"NumberFormatter\"},{\"attributes\":{\"source\":{\"id\":\"5514\"}},\"id\":\"5522\",\"type\":\"CDSView\"},{\"attributes\":{\"margin\":[5,5,5,5],\"name\":\"HSpacer08263\",\"sizing_mode\":\"stretch_width\"},\"id\":\"5525\",\"type\":\"Spacer\"},{\"attributes\":{\"margin\":[5,5,5,5],\"name\":\"HSpacer08262\",\"sizing_mode\":\"stretch_width\"},\"id\":\"5513\",\"type\":\"Spacer\"}],\"root_ids\":[\"5512\"]},\"title\":\"Bokeh Application\",\"version\":\"2.0.2\"}};\n  var render_items = [{\"docid\":\"678480e0-3cfc-472f-a2f9-3db2d75d07f2\",\"root_ids\":[\"5512\"],\"roots\":{\"5512\":\"43d0020e-b085-496e-a3ef-98e83cf69d47\"}}];\n  root.Bokeh.embed.embed_items_notebook(docs_json, render_items);\n  }\nif (root.Bokeh !== undefined) {\n    embed_document(root);\n  } else {\n    var attempts = 0;\n    var timer = setInterval(function(root) {\n      if (root.Bokeh !== undefined) {\n        clearInterval(timer);\n        embed_document(root);\n      } else if (document.readyState == \"complete\") {\n        attempts++;\n        if (attempts > 100) {\n          clearInterval(timer);\n          console.log(\"Bokeh: ERROR: Unable to run BokehJS code because BokehJS library is missing\");\n        }\n      }\n    }, 10, root)\n  }\n})(window);</script>",
      "application/vnd.holoviews_exec.v0+json": "",
      "text/plain": [
       ":Table   [Invoice Amount]"
      ]
     },
     "metadata": {
      "application/vnd.holoviews_exec.v0+json": {
       "id": "5512"
      }
     },
     "execution_count": 71
    }
   ],
   "source": [
    "grp_yearly_income.hvplot(kind='table')"
   ]
  },
  {
   "cell_type": "code",
   "execution_count": 72,
   "metadata": {},
   "outputs": [
    {
     "output_type": "execute_result",
     "data": {
      "text/plain": [
       "          Customers     Month  Invoice Amount              Invoice Date  Year\n",
       "0      University 1     March         72000.0 2015-03-20 00:00:00-04:00  2015\n",
       "1      University 2       May          3500.0 2015-05-28 00:00:00-04:00  2015\n",
       "2      University 3      June          3500.0 2015-06-23 00:00:00-04:00  2015\n",
       "3      University 4      June          6500.0 2015-06-26 00:00:00-04:00  2015\n",
       "4      University 5   October           750.0 2015-10-07 00:00:00-04:00  2015\n",
       "..              ...       ...             ...                       ...   ...\n",
       "697  University 236  December          2500.0 2020-12-08 00:00:00-05:00  2020\n",
       "698  University 392  December          1000.0 2020-12-08 00:00:00-05:00  2020\n",
       "695  University 300  December          1750.0 2020-12-08 00:00:00-05:00  2020\n",
       "696   University 81  December          2000.0 2020-12-08 00:00:00-05:00  2020\n",
       "699  University 393  December          4500.0 2020-12-09 00:00:00-05:00  2020\n",
       "\n",
       "[700 rows x 5 columns]"
      ],
      "text/html": "<div>\n<style scoped>\n    .dataframe tbody tr th:only-of-type {\n        vertical-align: middle;\n    }\n\n    .dataframe tbody tr th {\n        vertical-align: top;\n    }\n\n    .dataframe thead th {\n        text-align: right;\n    }\n</style>\n<table border=\"1\" class=\"dataframe\">\n  <thead>\n    <tr style=\"text-align: right;\">\n      <th></th>\n      <th>Customers</th>\n      <th>Month</th>\n      <th>Invoice Amount</th>\n      <th>Invoice Date</th>\n      <th>Year</th>\n    </tr>\n  </thead>\n  <tbody>\n    <tr>\n      <th>0</th>\n      <td>University 1</td>\n      <td>March</td>\n      <td>72000.0</td>\n      <td>2015-03-20 00:00:00-04:00</td>\n      <td>2015</td>\n    </tr>\n    <tr>\n      <th>1</th>\n      <td>University 2</td>\n      <td>May</td>\n      <td>3500.0</td>\n      <td>2015-05-28 00:00:00-04:00</td>\n      <td>2015</td>\n    </tr>\n    <tr>\n      <th>2</th>\n      <td>University 3</td>\n      <td>June</td>\n      <td>3500.0</td>\n      <td>2015-06-23 00:00:00-04:00</td>\n      <td>2015</td>\n    </tr>\n    <tr>\n      <th>3</th>\n      <td>University 4</td>\n      <td>June</td>\n      <td>6500.0</td>\n      <td>2015-06-26 00:00:00-04:00</td>\n      <td>2015</td>\n    </tr>\n    <tr>\n      <th>4</th>\n      <td>University 5</td>\n      <td>October</td>\n      <td>750.0</td>\n      <td>2015-10-07 00:00:00-04:00</td>\n      <td>2015</td>\n    </tr>\n    <tr>\n      <th>...</th>\n      <td>...</td>\n      <td>...</td>\n      <td>...</td>\n      <td>...</td>\n      <td>...</td>\n    </tr>\n    <tr>\n      <th>697</th>\n      <td>University 236</td>\n      <td>December</td>\n      <td>2500.0</td>\n      <td>2020-12-08 00:00:00-05:00</td>\n      <td>2020</td>\n    </tr>\n    <tr>\n      <th>698</th>\n      <td>University 392</td>\n      <td>December</td>\n      <td>1000.0</td>\n      <td>2020-12-08 00:00:00-05:00</td>\n      <td>2020</td>\n    </tr>\n    <tr>\n      <th>695</th>\n      <td>University 300</td>\n      <td>December</td>\n      <td>1750.0</td>\n      <td>2020-12-08 00:00:00-05:00</td>\n      <td>2020</td>\n    </tr>\n    <tr>\n      <th>696</th>\n      <td>University 81</td>\n      <td>December</td>\n      <td>2000.0</td>\n      <td>2020-12-08 00:00:00-05:00</td>\n      <td>2020</td>\n    </tr>\n    <tr>\n      <th>699</th>\n      <td>University 393</td>\n      <td>December</td>\n      <td>4500.0</td>\n      <td>2020-12-09 00:00:00-05:00</td>\n      <td>2020</td>\n    </tr>\n  </tbody>\n</table>\n<p>700 rows × 5 columns</p>\n</div>"
     },
     "metadata": {},
     "execution_count": 72
    }
   ],
   "source": [
    "monthly_income = atlas.iloc[:, [0, 5, 6, 2, 4]]\n",
    "monthly_income.sort_values(by='Invoice Date')"
   ]
  },
  {
   "cell_type": "code",
   "execution_count": 73,
   "metadata": {},
   "outputs": [],
   "source": [
    "month_names = [ \"January\", \"February\", \"March\", \"April\", \"May\", \"June\", \"July\", \"August\", \"September\", \"October\", \"November\", \"December\" ]\n",
    "grp_monthly_income = monthly_income[ (monthly_income[\"Year\"] >= 2015) & (monthly_income[\"Year\"] <= 2019) ].groupby('Month').sum().reindex(month_names)\n",
    "grp_monthly_income_plt = grp_monthly_income.hvplot.area(\n",
    "    y='Invoice Amount',\n",
    "    title='Total Sales by Month from 2015 to 2019', \n",
    "    ylabel='Monthly Income', \n",
    "    xlabel='Months', \n",
    "    figsize=(20,15), \n",
    "    subplots=True,\n",
    "    color='Orange',\n",
    "    height=800,\n",
    "    grid=True,\n",
    "    rot=45,\n",
    "    width=1400).opts(yformatter='$%.0f', fontsize={'title': 25, 'labels': 20, 'xticks': 18, 'yticks': 20})"
   ]
  },
  {
   "cell_type": "code",
   "execution_count": 74,
   "metadata": {},
   "outputs": [
    {
     "output_type": "display_data",
     "data": {},
     "metadata": {}
    },
    {
     "output_type": "execute_result",
     "data": {
      "text/html": "<div id='5537'>\n\n\n\n\n\n  <div class=\"bk-root\" id=\"fa9b8037-c936-48b7-a823-7ce55ca8babc\" data-root-id=\"5537\"></div>\n</div>\n<script type=\"application/javascript\">(function(root) {\n  function embed_document(root) {\n  var docs_json = {\"c96a3107-51f4-4171-b693-edc99f9cc462\":{\"roots\":{\"references\":[{\"attributes\":{},\"id\":\"5547\",\"type\":\"IntEditor\"},{\"attributes\":{\"editor\":{\"id\":\"5547\"},\"field\":\"Year\",\"formatter\":{\"id\":\"5546\"},\"title\":\"Year\"},\"id\":\"5548\",\"type\":\"TableColumn\"},{\"attributes\":{\"margin\":[5,5,5,5],\"name\":\"HSpacer08474\",\"sizing_mode\":\"stretch_width\"},\"id\":\"5555\",\"type\":\"Spacer\"},{\"attributes\":{},\"id\":\"5554\",\"type\":\"UnionRenderers\"},{\"attributes\":{\"source\":{\"id\":\"5539\"}},\"id\":\"5552\",\"type\":\"CDSView\"},{\"attributes\":{\"format\":\"0,0.0[00000]\"},\"id\":\"5541\",\"type\":\"NumberFormatter\"},{\"attributes\":{\"margin\":[5,5,5,5],\"name\":\"HSpacer08473\",\"sizing_mode\":\"stretch_width\"},\"id\":\"5538\",\"type\":\"Spacer\"},{\"attributes\":{\"editor\":{\"id\":\"5542\"},\"field\":\"Invoice_Amount\",\"formatter\":{\"id\":\"5541\"},\"title\":\"Invoice Amount\"},\"id\":\"5543\",\"type\":\"TableColumn\"},{\"attributes\":{},\"id\":\"5546\",\"type\":\"NumberFormatter\"},{\"attributes\":{},\"id\":\"5542\",\"type\":\"NumberEditor\"},{\"attributes\":{\"data\":{\"Invoice_Amount\":{\"__ndarray__\":\"AAAAAICz4kAAAAAAwI3SQAAAAABAiAlBAAAAAIDX8UAAAAAAWG4BQQAAAAAwDAlBAAAAAID18UAAAAAAABLxQAAAAADgxvxAAAAAAMBbAUEAAAAAQNzqQAAAAACgjPlA\",\"dtype\":\"float64\",\"shape\":[12]},\"Year\":[32285,18156,32276,42377,80697,58492,36324,50432,58517,48414,48432,20174]},\"selected\":{\"id\":\"5540\"},\"selection_policy\":{\"id\":\"5554\"}},\"id\":\"5539\",\"type\":\"ColumnDataSource\"},{\"attributes\":{\"children\":[{\"id\":\"5538\"},{\"id\":\"5551\"},{\"id\":\"5555\"}],\"margin\":[0,0,0,0],\"name\":\"Row08469\",\"tags\":[\"embedded\"]},\"id\":\"5537\",\"type\":\"Row\"},{\"attributes\":{\"columns\":[{\"id\":\"5543\"},{\"id\":\"5548\"}],\"height\":300,\"reorderable\":false,\"source\":{\"id\":\"5539\"},\"view\":{\"id\":\"5552\"},\"width\":700},\"id\":\"5551\",\"type\":\"DataTable\"},{\"attributes\":{},\"id\":\"5540\",\"type\":\"Selection\"}],\"root_ids\":[\"5537\"]},\"title\":\"Bokeh Application\",\"version\":\"2.0.2\"}};\n  var render_items = [{\"docid\":\"c96a3107-51f4-4171-b693-edc99f9cc462\",\"root_ids\":[\"5537\"],\"roots\":{\"5537\":\"fa9b8037-c936-48b7-a823-7ce55ca8babc\"}}];\n  root.Bokeh.embed.embed_items_notebook(docs_json, render_items);\n  }\nif (root.Bokeh !== undefined) {\n    embed_document(root);\n  } else {\n    var attempts = 0;\n    var timer = setInterval(function(root) {\n      if (root.Bokeh !== undefined) {\n        clearInterval(timer);\n        embed_document(root);\n      } else if (document.readyState == \"complete\") {\n        attempts++;\n        if (attempts > 100) {\n          clearInterval(timer);\n          console.log(\"Bokeh: ERROR: Unable to run BokehJS code because BokehJS library is missing\");\n        }\n      }\n    }, 10, root)\n  }\n})(window);</script>",
      "application/vnd.holoviews_exec.v0+json": "",
      "text/plain": [
       ":Table   [Invoice Amount,Year]"
      ]
     },
     "metadata": {
      "application/vnd.holoviews_exec.v0+json": {
       "id": "5537"
      }
     },
     "execution_count": 74
    }
   ],
   "source": [
    "grp_monthly_income.hvplot.table()"
   ]
  },
  {
   "cell_type": "code",
   "execution_count": 75,
   "metadata": {},
   "outputs": [],
   "source": [
    "month_names = [ \"January\", \"February\", \"March\", \"April\", \"May\", \"June\", \"July\", \"August\", \"September\", \"October\", \"November\", \"December\" ]\n",
    "grp_monthly_income = monthly_income[ (monthly_income[\"Year\"] >= 2015) & (monthly_income[\"Year\"] <= 2020) ].groupby('Month').sum().reindex(month_names)\n",
    "grp_monthly_income_plt_3 = grp_monthly_income.hvplot.area(\n",
    "    y='Invoice Amount',\n",
    "    title='Total Sales Comparison between 2015-2019 VS. 2020', \n",
    "    ylabel='Average Monthly Income', \n",
    "    xlabel='Months', \n",
    "    figsize=(20,15), \n",
    "    subplots=True, \n",
    "    height=800,\n",
    "    grid=True,\n",
    "    rot=45,\n",
    "    width=1400).opts(yformatter='$%.0f', fontsize={'title': 25, 'labels': 20, 'xticks': 18, 'yticks': 20})"
   ]
  },
  {
   "cell_type": "code",
   "execution_count": 76,
   "metadata": {},
   "outputs": [
    {
     "output_type": "display_data",
     "data": {},
     "metadata": {}
    },
    {
     "output_type": "execute_result",
     "data": {
      "text/html": "<div id='5567'>\n\n\n\n\n\n  <div class=\"bk-root\" id=\"a655a33b-5c5a-4bfe-a66d-e9ba6afac332\" data-root-id=\"5567\"></div>\n</div>\n<script type=\"application/javascript\">(function(root) {\n  function embed_document(root) {\n  var docs_json = {\"c1b7150b-2f64-4abe-8132-b6732a5ece0c\":{\"roots\":{\"references\":[{\"attributes\":{\"axis_label\":\"Average Monthly Income\",\"axis_label_text_font_size\":\"20pt\",\"bounds\":\"auto\",\"formatter\":{\"id\":\"5602\"},\"major_label_orientation\":\"horizontal\",\"major_label_text_font_size\":\"20pt\",\"ticker\":{\"id\":\"5586\"}},\"id\":\"5585\",\"type\":\"LinearAxis\"},{\"attributes\":{},\"id\":\"5632\",\"type\":\"UnionRenderers\"},{\"attributes\":{\"axis_label\":\"Months\",\"axis_label_text_font_size\":\"20pt\",\"bounds\":\"auto\",\"formatter\":{\"id\":\"5604\"},\"group_text_font_size\":\"18pt\",\"major_label_orientation\":0.7853981633974483,\"major_label_text_font_size\":\"18pt\",\"ticker\":{\"id\":\"5583\"}},\"id\":\"5582\",\"type\":\"CategoricalAxis\"},{\"attributes\":{\"fill_alpha\":0.2,\"fill_color\":\"Orange\",\"line_alpha\":0.2,\"x\":{\"field\":\"x\"},\"y\":{\"field\":\"y\"}},\"id\":\"5624\",\"type\":\"Patch\"},{\"attributes\":{},\"id\":\"5586\",\"type\":\"BasicTicker\"},{\"attributes\":{},\"id\":\"5620\",\"type\":\"Selection\"},{\"attributes\":{\"axis\":{\"id\":\"5582\"},\"ticker\":{\"id\":\"5583\"}},\"id\":\"5584\",\"type\":\"Grid\"},{\"attributes\":{},\"id\":\"5583\",\"type\":\"CategoricalTicker\"},{\"attributes\":{},\"id\":\"5578\",\"type\":\"CategoricalScale\"},{\"attributes\":{\"axis\":{\"id\":\"5585\"},\"dimension\":1,\"ticker\":{\"id\":\"5586\"}},\"id\":\"5588\",\"type\":\"Grid\"},{\"attributes\":{\"children\":[{\"id\":\"5568\"},{\"id\":\"5573\"},{\"id\":\"5699\"}],\"margin\":[0,0,0,0],\"name\":\"Row08631\",\"tags\":[\"embedded\"]},\"id\":\"5567\",\"type\":\"Row\"},{\"attributes\":{\"fill_alpha\":1,\"fill_color\":\"Orange\",\"line_alpha\":1,\"x\":{\"field\":\"x\"},\"y\":{\"field\":\"y\"}},\"id\":\"5623\",\"type\":\"Patch\"},{\"attributes\":{},\"id\":\"5590\",\"type\":\"PanTool\"},{\"attributes\":{\"data_source\":{\"id\":\"5619\"},\"glyph\":{\"id\":\"5622\"},\"hover_glyph\":null,\"muted_glyph\":{\"id\":\"5624\"},\"nonselection_glyph\":{\"id\":\"5623\"},\"selection_glyph\":null,\"view\":{\"id\":\"5626\"}},\"id\":\"5625\",\"type\":\"GlyphRenderer\"},{\"attributes\":{},\"id\":\"5589\",\"type\":\"SaveTool\"},{\"attributes\":{\"fill_color\":\"Orange\",\"x\":{\"field\":\"x\"},\"y\":{\"field\":\"y\"}},\"id\":\"5622\",\"type\":\"Patch\"},{\"attributes\":{\"align\":null,\"below\":[{\"id\":\"5582\"}],\"center\":[{\"id\":\"5584\"},{\"id\":\"5588\"}],\"left\":[{\"id\":\"5585\"}],\"margin\":null,\"min_border_bottom\":10,\"min_border_left\":10,\"min_border_right\":10,\"min_border_top\":10,\"plot_height\":800,\"plot_width\":1400,\"renderers\":[{\"id\":\"5617\"},{\"id\":\"5625\"}],\"sizing_mode\":\"fixed\",\"title\":{\"id\":\"5574\"},\"toolbar\":{\"id\":\"5595\"},\"x_range\":{\"id\":\"5569\"},\"x_scale\":{\"id\":\"5578\"},\"y_range\":{\"id\":\"5570\"},\"y_scale\":{\"id\":\"5580\"}},\"id\":\"5573\",\"subtype\":\"Figure\",\"type\":\"Plot\"},{\"attributes\":{\"active_drag\":\"auto\",\"active_inspect\":\"auto\",\"active_multi\":null,\"active_scroll\":\"auto\",\"active_tap\":\"auto\",\"tools\":[{\"id\":\"5571\"},{\"id\":\"5589\"},{\"id\":\"5590\"},{\"id\":\"5591\"},{\"id\":\"5592\"},{\"id\":\"5593\"}]},\"id\":\"5595\",\"type\":\"Toolbar\"},{\"attributes\":{},\"id\":\"5591\",\"type\":\"WheelZoomTool\"},{\"attributes\":{\"source\":{\"id\":\"5619\"}},\"id\":\"5626\",\"type\":\"CDSView\"},{\"attributes\":{\"overlay\":{\"id\":\"5594\"}},\"id\":\"5592\",\"type\":\"BoxZoomTool\"},{\"attributes\":{},\"id\":\"5593\",\"type\":\"ResetTool\"},{\"attributes\":{},\"id\":\"5634\",\"type\":\"UnionRenderers\"},{\"attributes\":{\"format\":\"$%.0f\"},\"id\":\"5602\",\"type\":\"PrintfTickFormatter\"},{\"attributes\":{\"data\":{\"x\":[\"January\",\"February\",\"March\",\"April\",\"May\",\"June\",\"July\",\"August\",\"September\",\"October\",\"November\",\"December\",\"December\",\"November\",\"October\",\"September\",\"August\",\"July\",\"June\",\"May\",\"April\",\"March\",\"February\",\"January\"],\"y\":{\"__ndarray__\":\"AAAAAAAAAAAAAAAAAAAAAAAAAAAAAAAAAAAAAAAAAAAAAAAAAAAAAAAAAAAAAAAAAAAAAAAAAAAAAAAAAAAAAAAAAAAAAAAAAAAAAAAAAAAAAAAAAAAAAAAAAAAAAAAAAAAAAKCM+UAAAAAAQNzqQAAAAADAWwFBAAAAAODG/EAAAAAAABLxQAAAAACA9fFAAAAAADAMCUEAAAAAWG4BQQAAAACA1/FAAAAAAECICUEAAAAAwI3SQAAAAACAs+JA\",\"dtype\":\"float64\",\"shape\":[24]}},\"selected\":{\"id\":\"5620\"},\"selection_policy\":{\"id\":\"5634\"}},\"id\":\"5619\",\"type\":\"ColumnDataSource\"},{\"attributes\":{},\"id\":\"5604\",\"type\":\"CategoricalTickFormatter\"},{\"attributes\":{\"text\":\"Total Sales Comparison between 2015-2019 VS. 2020\",\"text_color\":{\"value\":\"black\"},\"text_font_size\":{\"value\":\"25pt\"}},\"id\":\"5574\",\"type\":\"Title\"},{\"attributes\":{\"factors\":[\"January\",\"February\",\"March\",\"April\",\"May\",\"June\",\"July\",\"August\",\"September\",\"October\",\"November\",\"December\"],\"tags\":[[[\"Month\",\"Month\",null]]]},\"id\":\"5569\",\"type\":\"FactorRange\"},{\"attributes\":{\"margin\":[5,5,5,5],\"name\":\"HSpacer08636\",\"sizing_mode\":\"stretch_width\"},\"id\":\"5699\",\"type\":\"Spacer\"},{\"attributes\":{\"source\":{\"id\":\"5611\"}},\"id\":\"5618\",\"type\":\"CDSView\"},{\"attributes\":{\"fill_color\":\"#1f77b3\",\"x\":{\"field\":\"x\"},\"y\":{\"field\":\"y\"}},\"id\":\"5614\",\"type\":\"Patch\"},{\"attributes\":{\"data\":{\"x\":[\"January\",\"February\",\"March\",\"April\",\"May\",\"June\",\"July\",\"August\",\"September\",\"October\",\"November\",\"December\",\"December\",\"November\",\"October\",\"September\",\"August\",\"July\",\"June\",\"May\",\"April\",\"March\",\"February\",\"January\"],\"y\":{\"__ndarray__\":\"AAAAAAAAAAAAAAAAAAAAAAAAAAAAAAAAAAAAAAAAAAAAAAAAAAAAAAAAAAAAAAAAAAAAAAAAAAAAAAAAAAAAAAAAAAAAAAAAAAAAAAAAAAAAAAAAAAAAAAAAAAAAAAAAAAAAADhwAUEAAAAAUNv+QAAAAAA0ZhBBmZmZmWtqFEGkcD0KlpEQQQAAAABoAQNBUrgehS0mE0EAAAAAINkFQQrXo3DzMwpBAAAAAFyPEUEAAAAAQP7SQAAAAACAROhA\",\"dtype\":\"float64\",\"shape\":[24]}},\"selected\":{\"id\":\"5612\"},\"selection_policy\":{\"id\":\"5632\"}},\"id\":\"5611\",\"type\":\"ColumnDataSource\"},{\"attributes\":{\"fill_alpha\":0.2,\"fill_color\":\"#1f77b3\",\"line_alpha\":0.2,\"x\":{\"field\":\"x\"},\"y\":{\"field\":\"y\"}},\"id\":\"5616\",\"type\":\"Patch\"},{\"attributes\":{\"fill_alpha\":1,\"fill_color\":\"#1f77b3\",\"line_alpha\":1,\"x\":{\"field\":\"x\"},\"y\":{\"field\":\"y\"}},\"id\":\"5615\",\"type\":\"Patch\"},{\"attributes\":{},\"id\":\"5580\",\"type\":\"LinearScale\"},{\"attributes\":{\"bottom_units\":\"screen\",\"fill_alpha\":0.5,\"fill_color\":\"lightgrey\",\"left_units\":\"screen\",\"level\":\"overlay\",\"line_alpha\":1.0,\"line_color\":\"black\",\"line_dash\":[4,4],\"line_width\":2,\"render_mode\":\"css\",\"right_units\":\"screen\",\"top_units\":\"screen\"},\"id\":\"5594\",\"type\":\"BoxAnnotation\"},{\"attributes\":{\"data_source\":{\"id\":\"5611\"},\"glyph\":{\"id\":\"5614\"},\"hover_glyph\":null,\"muted_glyph\":{\"id\":\"5616\"},\"nonselection_glyph\":{\"id\":\"5615\"},\"selection_glyph\":null,\"view\":{\"id\":\"5618\"}},\"id\":\"5617\",\"type\":\"GlyphRenderer\"},{\"attributes\":{},\"id\":\"5612\",\"type\":\"Selection\"},{\"attributes\":{\"margin\":[5,5,5,5],\"name\":\"HSpacer08635\",\"sizing_mode\":\"stretch_width\"},\"id\":\"5568\",\"type\":\"Spacer\"},{\"attributes\":{\"callback\":null,\"renderers\":[{\"id\":\"5617\"},{\"id\":\"5625\"}],\"tags\":[\"hv_created\"],\"tooltips\":[[\"Month\",\"@{Month}\"],[\"Invoice Amount\",\"@{Invoice_Amount}\"]]},\"id\":\"5571\",\"type\":\"HoverTool\"},{\"attributes\":{\"end\":366040.08999999997,\"reset_end\":366040.08999999997,\"reset_start\":0.0,\"tags\":[[[\"Invoice Amount\",\"Invoice Amount\",null]]]},\"id\":\"5570\",\"type\":\"Range1d\"}],\"root_ids\":[\"5567\"]},\"title\":\"Bokeh Application\",\"version\":\"2.0.2\"}};\n  var render_items = [{\"docid\":\"c1b7150b-2f64-4abe-8132-b6732a5ece0c\",\"root_ids\":[\"5567\"],\"roots\":{\"5567\":\"a655a33b-5c5a-4bfe-a66d-e9ba6afac332\"}}];\n  root.Bokeh.embed.embed_items_notebook(docs_json, render_items);\n  }\nif (root.Bokeh !== undefined) {\n    embed_document(root);\n  } else {\n    var attempts = 0;\n    var timer = setInterval(function(root) {\n      if (root.Bokeh !== undefined) {\n        clearInterval(timer);\n        embed_document(root);\n      } else if (document.readyState == \"complete\") {\n        attempts++;\n        if (attempts > 100) {\n          clearInterval(timer);\n          console.log(\"Bokeh: ERROR: Unable to run BokehJS code because BokehJS library is missing\");\n        }\n      }\n    }, 10, root)\n  }\n})(window);</script>",
      "application/vnd.holoviews_exec.v0+json": "",
      "text/plain": [
       ":Overlay\n",
       "   .Area.I  :Area   [Month]   (Invoice Amount)\n",
       "   .Area.II :Area   [Month]   (Invoice Amount)"
      ]
     },
     "metadata": {
      "application/vnd.holoviews_exec.v0+json": {
       "id": "5567"
      }
     },
     "execution_count": 76
    }
   ],
   "source": [
    "combined_income = grp_monthly_income_plt_3 * grp_monthly_income_plt\n",
    "combined_income"
   ]
  },
  {
   "cell_type": "code",
   "execution_count": 77,
   "metadata": {},
   "outputs": [
    {
     "output_type": "display_data",
     "data": {},
     "metadata": {}
    },
    {
     "output_type": "execute_result",
     "data": {
      "text/html": "<div id='5746'>\n\n\n\n\n\n  <div class=\"bk-root\" id=\"25b5f485-fb85-4af3-a0de-d6fd7db3b17b\" data-root-id=\"5746\"></div>\n</div>\n<script type=\"application/javascript\">(function(root) {\n  function embed_document(root) {\n  var docs_json = {\"3706593c-82e1-4db0-834b-37a3894b1e30\":{\"roots\":{\"references\":[{\"attributes\":{},\"id\":\"5755\",\"type\":\"NumberFormatter\"},{\"attributes\":{\"source\":{\"id\":\"5748\"}},\"id\":\"5761\",\"type\":\"CDSView\"},{\"attributes\":{\"editor\":{\"id\":\"5751\"},\"field\":\"Invoice_Amount\",\"formatter\":{\"id\":\"5750\"},\"title\":\"Invoice Amount\"},\"id\":\"5752\",\"type\":\"TableColumn\"},{\"attributes\":{},\"id\":\"5749\",\"type\":\"Selection\"},{\"attributes\":{},\"id\":\"5763\",\"type\":\"UnionRenderers\"},{\"attributes\":{\"columns\":[{\"id\":\"5752\"},{\"id\":\"5757\"}],\"height\":300,\"reorderable\":false,\"source\":{\"id\":\"5748\"},\"view\":{\"id\":\"5761\"},\"width\":700},\"id\":\"5760\",\"type\":\"DataTable\"},{\"attributes\":{},\"id\":\"5751\",\"type\":\"NumberEditor\"},{\"attributes\":{\"children\":[{\"id\":\"5747\"},{\"id\":\"5760\"},{\"id\":\"5764\"}],\"margin\":[0,0,0,0],\"name\":\"Row09021\",\"tags\":[\"embedded\"]},\"id\":\"5746\",\"type\":\"Row\"},{\"attributes\":{\"margin\":[5,5,5,5],\"name\":\"HSpacer09025\",\"sizing_mode\":\"stretch_width\"},\"id\":\"5747\",\"type\":\"Spacer\"},{\"attributes\":{},\"id\":\"5756\",\"type\":\"IntEditor\"},{\"attributes\":{\"format\":\"0,0.0[00000]\"},\"id\":\"5750\",\"type\":\"NumberFormatter\"},{\"attributes\":{\"editor\":{\"id\":\"5756\"},\"field\":\"Year\",\"formatter\":{\"id\":\"5755\"},\"title\":\"Year\"},\"id\":\"5757\",\"type\":\"TableColumn\"},{\"attributes\":{\"margin\":[5,5,5,5],\"name\":\"HSpacer09026\",\"sizing_mode\":\"stretch_width\"},\"id\":\"5764\",\"type\":\"Spacer\"},{\"attributes\":{\"data\":{\"Invoice_Amount\":{\"__ndarray__\":\"AAAAAIBE6EAAAAAAQP7SQAAAAABcjxFBCtejcPMzCkEAAAAAINkFQVK4HoUtJhNBAAAAAGgBA0GkcD0KlpEQQZmZmZlrahRBAAAAADRmEEEAAAAAUNv+QAAAAAA4cAFB\",\"dtype\":\"float64\",\"shape\":[12]},\"Year\":[48445,20176,113076,129237,108977,127172,107024,207992,260517,135274,96912,58554]},\"selected\":{\"id\":\"5749\"},\"selection_policy\":{\"id\":\"5763\"}},\"id\":\"5748\",\"type\":\"ColumnDataSource\"}],\"root_ids\":[\"5746\"]},\"title\":\"Bokeh Application\",\"version\":\"2.0.2\"}};\n  var render_items = [{\"docid\":\"3706593c-82e1-4db0-834b-37a3894b1e30\",\"root_ids\":[\"5746\"],\"roots\":{\"5746\":\"25b5f485-fb85-4af3-a0de-d6fd7db3b17b\"}}];\n  root.Bokeh.embed.embed_items_notebook(docs_json, render_items);\n  }\nif (root.Bokeh !== undefined) {\n    embed_document(root);\n  } else {\n    var attempts = 0;\n    var timer = setInterval(function(root) {\n      if (root.Bokeh !== undefined) {\n        clearInterval(timer);\n        embed_document(root);\n      } else if (document.readyState == \"complete\") {\n        attempts++;\n        if (attempts > 100) {\n          clearInterval(timer);\n          console.log(\"Bokeh: ERROR: Unable to run BokehJS code because BokehJS library is missing\");\n        }\n      }\n    }, 10, root)\n  }\n})(window);</script>",
      "application/vnd.holoviews_exec.v0+json": "",
      "text/plain": [
       ":Table   [Invoice Amount,Year]"
      ]
     },
     "metadata": {
      "application/vnd.holoviews_exec.v0+json": {
       "id": "5746"
      }
     },
     "execution_count": 77
    }
   ],
   "source": [
    "grp_monthly_income.hvplot(kind='table')"
   ]
  },
  {
   "cell_type": "code",
   "execution_count": 78,
   "metadata": {},
   "outputs": [
    {
     "output_type": "execute_result",
     "data": {
      "text/plain": [
       "          Customers  Invoice Amount Subscription              Invoice Date\n",
       "0      University 1         72000.0       1 Year 2015-03-20 00:00:00-04:00\n",
       "1      University 2          3500.0       1 Year 2015-05-28 00:00:00-04:00\n",
       "2      University 3          3500.0       1 Year 2015-06-23 00:00:00-04:00\n",
       "3      University 4          6500.0       1 Year 2015-06-26 00:00:00-04:00\n",
       "4      University 5           750.0       1 Year 2015-10-07 00:00:00-04:00\n",
       "..              ...             ...          ...                       ...\n",
       "697  University 236          2500.0     6 Months 2020-12-08 00:00:00-05:00\n",
       "698  University 392          1000.0       1 Year 2020-12-08 00:00:00-05:00\n",
       "695  University 300          1750.0     6 Months 2020-12-08 00:00:00-05:00\n",
       "696   University 81          2000.0       1 Year 2020-12-08 00:00:00-05:00\n",
       "699  University 393          4500.0       1 Year 2020-12-09 00:00:00-05:00\n",
       "\n",
       "[700 rows x 4 columns]"
      ],
      "text/html": "<div>\n<style scoped>\n    .dataframe tbody tr th:only-of-type {\n        vertical-align: middle;\n    }\n\n    .dataframe tbody tr th {\n        vertical-align: top;\n    }\n\n    .dataframe thead th {\n        text-align: right;\n    }\n</style>\n<table border=\"1\" class=\"dataframe\">\n  <thead>\n    <tr style=\"text-align: right;\">\n      <th></th>\n      <th>Customers</th>\n      <th>Invoice Amount</th>\n      <th>Subscription</th>\n      <th>Invoice Date</th>\n    </tr>\n  </thead>\n  <tbody>\n    <tr>\n      <th>0</th>\n      <td>University 1</td>\n      <td>72000.0</td>\n      <td>1 Year</td>\n      <td>2015-03-20 00:00:00-04:00</td>\n    </tr>\n    <tr>\n      <th>1</th>\n      <td>University 2</td>\n      <td>3500.0</td>\n      <td>1 Year</td>\n      <td>2015-05-28 00:00:00-04:00</td>\n    </tr>\n    <tr>\n      <th>2</th>\n      <td>University 3</td>\n      <td>3500.0</td>\n      <td>1 Year</td>\n      <td>2015-06-23 00:00:00-04:00</td>\n    </tr>\n    <tr>\n      <th>3</th>\n      <td>University 4</td>\n      <td>6500.0</td>\n      <td>1 Year</td>\n      <td>2015-06-26 00:00:00-04:00</td>\n    </tr>\n    <tr>\n      <th>4</th>\n      <td>University 5</td>\n      <td>750.0</td>\n      <td>1 Year</td>\n      <td>2015-10-07 00:00:00-04:00</td>\n    </tr>\n    <tr>\n      <th>...</th>\n      <td>...</td>\n      <td>...</td>\n      <td>...</td>\n      <td>...</td>\n    </tr>\n    <tr>\n      <th>697</th>\n      <td>University 236</td>\n      <td>2500.0</td>\n      <td>6 Months</td>\n      <td>2020-12-08 00:00:00-05:00</td>\n    </tr>\n    <tr>\n      <th>698</th>\n      <td>University 392</td>\n      <td>1000.0</td>\n      <td>1 Year</td>\n      <td>2020-12-08 00:00:00-05:00</td>\n    </tr>\n    <tr>\n      <th>695</th>\n      <td>University 300</td>\n      <td>1750.0</td>\n      <td>6 Months</td>\n      <td>2020-12-08 00:00:00-05:00</td>\n    </tr>\n    <tr>\n      <th>696</th>\n      <td>University 81</td>\n      <td>2000.0</td>\n      <td>1 Year</td>\n      <td>2020-12-08 00:00:00-05:00</td>\n    </tr>\n    <tr>\n      <th>699</th>\n      <td>University 393</td>\n      <td>4500.0</td>\n      <td>1 Year</td>\n      <td>2020-12-09 00:00:00-05:00</td>\n    </tr>\n  </tbody>\n</table>\n<p>700 rows × 4 columns</p>\n</div>"
     },
     "metadata": {},
     "execution_count": 78
    }
   ],
   "source": [
    "subscription_income = atlas.iloc[:, [0, 6, 7, 2]]\n",
    "subscription_income.sort_values(by='Invoice Date')"
   ]
  },
  {
   "cell_type": "code",
   "execution_count": 79,
   "metadata": {},
   "outputs": [
    {
     "output_type": "display_data",
     "data": {},
     "metadata": {}
    },
    {
     "output_type": "execute_result",
     "data": {
      "text/html": "<div id='5776'>\n\n\n\n\n\n  <div class=\"bk-root\" id=\"910762e8-9ca2-4ba9-91a3-3c4b31fa6a8e\" data-root-id=\"5776\"></div>\n</div>\n<script type=\"application/javascript\">(function(root) {\n  function embed_document(root) {\n  var docs_json = {\"9edd76c9-a3bf-42fb-954f-59c1e61227ca\":{\"roots\":{\"references\":[{\"attributes\":{},\"id\":\"5788\",\"type\":\"LinearScale\"},{\"attributes\":{\"axis_label\":\"Average Monthly Income\",\"axis_label_text_font_size\":\"20pt\",\"bounds\":\"auto\",\"formatter\":{\"id\":\"5818\"},\"major_label_orientation\":\"horizontal\",\"major_label_text_font_size\":\"20pt\",\"ticker\":{\"id\":\"5794\"}},\"id\":\"5793\",\"type\":\"LinearAxis\"},{\"attributes\":{\"margin\":[5,5,5,5],\"name\":\"HSpacer09182\",\"sizing_mode\":\"stretch_width\"},\"id\":\"5777\",\"type\":\"Spacer\"},{\"attributes\":{\"margin\":[5,5,5,5],\"name\":\"HSpacer09183\",\"sizing_mode\":\"stretch_width\"},\"id\":\"5834\",\"type\":\"Spacer\"},{\"attributes\":{},\"id\":\"5794\",\"type\":\"BasicTicker\"},{\"attributes\":{\"axis\":{\"id\":\"5790\"},\"ticker\":{\"id\":\"5791\"}},\"id\":\"5792\",\"type\":\"Grid\"},{\"attributes\":{\"axis\":{\"id\":\"5793\"},\"dimension\":1,\"ticker\":{\"id\":\"5794\"}},\"id\":\"5796\",\"type\":\"Grid\"},{\"attributes\":{\"callback\":null,\"renderers\":[{\"id\":\"5816\"}],\"tags\":[\"hv_created\"],\"tooltips\":[[\"Month\",\"@{Month}\"],[\"Invoice Amount\",\"@{Invoice_Amount}\"]]},\"id\":\"5780\",\"type\":\"HoverTool\"},{\"attributes\":{},\"id\":\"5791\",\"type\":\"CategoricalTicker\"},{\"attributes\":{},\"id\":\"5797\",\"type\":\"SaveTool\"},{\"attributes\":{},\"id\":\"5798\",\"type\":\"PanTool\"},{\"attributes\":{\"data\":{\"Invoice_Amount\":{\"__ndarray__\":\"AAAAAIBE6EAAAAAAQP7SQAAAAABcjxFBCtejcPMzCkEAAAAAINkFQVK4HoUtJhNBAAAAAGgBA0GkcD0KlpEQQZmZmZlrahRBAAAAADRmEEEAAAAAUNv+QAAAAAA4cAFB\",\"dtype\":\"float64\",\"shape\":[12]},\"Month\":[\"January\",\"February\",\"March\",\"April\",\"May\",\"June\",\"July\",\"August\",\"September\",\"October\",\"November\",\"December\"]},\"selected\":{\"id\":\"5811\"},\"selection_policy\":{\"id\":\"5832\"}},\"id\":\"5810\",\"type\":\"ColumnDataSource\"},{\"attributes\":{},\"id\":\"5799\",\"type\":\"WheelZoomTool\"},{\"attributes\":{\"overlay\":{\"id\":\"5802\"}},\"id\":\"5800\",\"type\":\"BoxZoomTool\"},{\"attributes\":{},\"id\":\"5801\",\"type\":\"ResetTool\"},{\"attributes\":{\"fill_alpha\":{\"value\":0.1},\"fill_color\":{\"value\":\"Orange\"},\"line_alpha\":{\"value\":0.1},\"top\":{\"field\":\"Invoice_Amount\"},\"width\":{\"value\":0.8},\"x\":{\"field\":\"Month\"}},\"id\":\"5814\",\"type\":\"VBar\"},{\"attributes\":{\"active_drag\":\"auto\",\"active_inspect\":\"auto\",\"active_multi\":null,\"active_scroll\":\"auto\",\"active_tap\":\"auto\",\"tools\":[{\"id\":\"5780\"},{\"id\":\"5797\"},{\"id\":\"5798\"},{\"id\":\"5799\"},{\"id\":\"5800\"},{\"id\":\"5801\"}]},\"id\":\"5803\",\"type\":\"Toolbar\"},{\"attributes\":{},\"id\":\"5811\",\"type\":\"Selection\"},{\"attributes\":{\"fill_color\":{\"value\":\"Orange\"},\"top\":{\"field\":\"Invoice_Amount\"},\"width\":{\"value\":0.8},\"x\":{\"field\":\"Month\"}},\"id\":\"5813\",\"type\":\"VBar\"},{\"attributes\":{\"fill_alpha\":{\"value\":0.2},\"fill_color\":{\"value\":\"Orange\"},\"line_alpha\":{\"value\":0.2},\"top\":{\"field\":\"Invoice_Amount\"},\"width\":{\"value\":0.8},\"x\":{\"field\":\"Month\"}},\"id\":\"5815\",\"type\":\"VBar\"},{\"attributes\":{\"align\":null,\"below\":[{\"id\":\"5790\"}],\"center\":[{\"id\":\"5792\"},{\"id\":\"5796\"}],\"left\":[{\"id\":\"5793\"}],\"margin\":null,\"min_border_bottom\":10,\"min_border_left\":10,\"min_border_right\":10,\"min_border_top\":10,\"plot_height\":800,\"plot_width\":1400,\"renderers\":[{\"id\":\"5816\"}],\"sizing_mode\":\"fixed\",\"title\":{\"id\":\"5782\"},\"toolbar\":{\"id\":\"5803\"},\"x_range\":{\"id\":\"5778\"},\"x_scale\":{\"id\":\"5786\"},\"y_range\":{\"id\":\"5779\"},\"y_scale\":{\"id\":\"5788\"}},\"id\":\"5781\",\"subtype\":\"Figure\",\"type\":\"Plot\"},{\"attributes\":{\"factors\":[\"January\",\"February\",\"March\",\"April\",\"May\",\"June\",\"July\",\"August\",\"September\",\"October\",\"November\",\"December\"],\"tags\":[[[\"Month\",\"Month\",null]]]},\"id\":\"5778\",\"type\":\"FactorRange\"},{\"attributes\":{},\"id\":\"5820\",\"type\":\"CategoricalTickFormatter\"},{\"attributes\":{\"data_source\":{\"id\":\"5810\"},\"glyph\":{\"id\":\"5813\"},\"hover_glyph\":null,\"muted_glyph\":{\"id\":\"5815\"},\"nonselection_glyph\":{\"id\":\"5814\"},\"selection_glyph\":null,\"view\":{\"id\":\"5817\"}},\"id\":\"5816\",\"type\":\"GlyphRenderer\"},{\"attributes\":{},\"id\":\"5832\",\"type\":\"UnionRenderers\"},{\"attributes\":{\"source\":{\"id\":\"5810\"}},\"id\":\"5817\",\"type\":\"CDSView\"},{\"attributes\":{\"format\":\"$%.0f\"},\"id\":\"5818\",\"type\":\"PrintfTickFormatter\"},{\"attributes\":{\"text\":\"Busiest Months of the Year for Sales from 2015 to 2020\",\"text_color\":{\"value\":\"black\"},\"text_font_size\":{\"value\":\"25pt\"}},\"id\":\"5782\",\"type\":\"Title\"},{\"attributes\":{},\"id\":\"5786\",\"type\":\"CategoricalScale\"},{\"attributes\":{\"bottom_units\":\"screen\",\"fill_alpha\":0.5,\"fill_color\":\"lightgrey\",\"left_units\":\"screen\",\"level\":\"overlay\",\"line_alpha\":1.0,\"line_color\":\"black\",\"line_dash\":[4,4],\"line_width\":2,\"render_mode\":\"css\",\"right_units\":\"screen\",\"top_units\":\"screen\"},\"id\":\"5802\",\"type\":\"BoxAnnotation\"},{\"attributes\":{\"children\":[{\"id\":\"5777\"},{\"id\":\"5781\"},{\"id\":\"5834\"}],\"margin\":[0,0,0,0],\"name\":\"Row09178\",\"tags\":[\"embedded\"]},\"id\":\"5776\",\"type\":\"Row\"},{\"attributes\":{\"end\":365995.08999999997,\"reset_end\":365995.08999999997,\"reset_start\":0.0,\"tags\":[[[\"Invoice Amount\",\"Invoice Amount\",null]]]},\"id\":\"5779\",\"type\":\"Range1d\"},{\"attributes\":{\"axis_label\":\"Months\",\"axis_label_text_font_size\":\"20pt\",\"bounds\":\"auto\",\"formatter\":{\"id\":\"5820\"},\"group_text_font_size\":\"18pt\",\"major_label_orientation\":0.7853981633974483,\"major_label_text_font_size\":\"18pt\",\"ticker\":{\"id\":\"5791\"}},\"id\":\"5790\",\"type\":\"CategoricalAxis\"}],\"root_ids\":[\"5776\"]},\"title\":\"Bokeh Application\",\"version\":\"2.0.2\"}};\n  var render_items = [{\"docid\":\"9edd76c9-a3bf-42fb-954f-59c1e61227ca\",\"root_ids\":[\"5776\"],\"roots\":{\"5776\":\"910762e8-9ca2-4ba9-91a3-3c4b31fa6a8e\"}}];\n  root.Bokeh.embed.embed_items_notebook(docs_json, render_items);\n  }\nif (root.Bokeh !== undefined) {\n    embed_document(root);\n  } else {\n    var attempts = 0;\n    var timer = setInterval(function(root) {\n      if (root.Bokeh !== undefined) {\n        clearInterval(timer);\n        embed_document(root);\n      } else if (document.readyState == \"complete\") {\n        attempts++;\n        if (attempts > 100) {\n          clearInterval(timer);\n          console.log(\"Bokeh: ERROR: Unable to run BokehJS code because BokehJS library is missing\");\n        }\n      }\n    }, 10, root)\n  }\n})(window);</script>",
      "application/vnd.holoviews_exec.v0+json": "",
      "text/plain": [
       ":Bars   [Month]   (Invoice Amount)"
      ]
     },
     "metadata": {
      "application/vnd.holoviews_exec.v0+json": {
       "id": "5776"
      }
     },
     "execution_count": 79
    }
   ],
   "source": [
    "month_names = [ \"January\", \"February\", \"March\", \"April\", \"May\", \"June\", \"July\", \"August\", \"September\", \"October\", \"November\", \"December\" ]\n",
    "grp_monthly_income = monthly_income[ (monthly_income[\"Year\"] >= 2015) & (monthly_income[\"Year\"] <= 2020) ].groupby('Month').sum().reindex(month_names)\n",
    "grp_monthly_income_plt_3 = grp_monthly_income.hvplot.bar(\n",
    "    y='Invoice Amount',\n",
    "    title='Busiest Months of the Year for Sales from 2015 to 2020',\n",
    "    color='Orange',\n",
    "    ylabel='Average Monthly Income', \n",
    "    xlabel='Months', \n",
    "    figsize=(20,15), \n",
    "    subplots=True, \n",
    "    height=800,\n",
    "    grid=True,\n",
    "    rot=45,\n",
    "    width=1400).opts(yformatter='$%.0f', fontsize={'title': 25, 'labels': 20, 'xticks': 18, 'yticks': 20})\n",
    "grp_monthly_income_plt_3"
   ]
  },
  {
   "cell_type": "code",
   "execution_count": 80,
   "metadata": {},
   "outputs": [
    {
     "output_type": "display_data",
     "data": {},
     "metadata": {}
    },
    {
     "output_type": "execute_result",
     "data": {
      "text/html": "<div id='5871'>\n\n\n\n\n\n  <div class=\"bk-root\" id=\"f4593b7a-b9b1-46e1-9ff7-2c9e06e7d499\" data-root-id=\"5871\"></div>\n</div>\n<script type=\"application/javascript\">(function(root) {\n  function embed_document(root) {\n  var docs_json = {\"0e6a23c0-1ed7-40b2-ba81-7f0b25a46d5e\":{\"roots\":{\"references\":[{\"attributes\":{},\"id\":\"5881\",\"type\":\"IntEditor\"},{\"attributes\":{},\"id\":\"5874\",\"type\":\"Selection\"},{\"attributes\":{\"columns\":[{\"id\":\"5877\"},{\"id\":\"5882\"}],\"height\":300,\"reorderable\":false,\"source\":{\"id\":\"5873\"},\"view\":{\"id\":\"5886\"},\"width\":700},\"id\":\"5885\",\"type\":\"DataTable\"},{\"attributes\":{\"margin\":[5,5,5,5],\"name\":\"HSpacer09312\",\"sizing_mode\":\"stretch_width\"},\"id\":\"5889\",\"type\":\"Spacer\"},{\"attributes\":{},\"id\":\"5876\",\"type\":\"NumberEditor\"},{\"attributes\":{},\"id\":\"5880\",\"type\":\"NumberFormatter\"},{\"attributes\":{\"source\":{\"id\":\"5873\"}},\"id\":\"5886\",\"type\":\"CDSView\"},{\"attributes\":{\"editor\":{\"id\":\"5876\"},\"field\":\"Invoice_Amount\",\"formatter\":{\"id\":\"5875\"},\"title\":\"Invoice Amount\"},\"id\":\"5877\",\"type\":\"TableColumn\"},{\"attributes\":{\"format\":\"0,0.0[00000]\"},\"id\":\"5875\",\"type\":\"NumberFormatter\"},{\"attributes\":{\"data\":{\"Invoice_Amount\":{\"__ndarray__\":\"AAAAAIBE6EAAAAAAQP7SQAAAAABcjxFBCtejcPMzCkEAAAAAINkFQVK4HoUtJhNBAAAAAGgBA0GkcD0KlpEQQZmZmZlrahRBAAAAADRmEEEAAAAAUNv+QAAAAAA4cAFB\",\"dtype\":\"float64\",\"shape\":[12]},\"Year\":[48445,20176,113076,129237,108977,127172,107024,207992,260517,135274,96912,58554]},\"selected\":{\"id\":\"5874\"},\"selection_policy\":{\"id\":\"5888\"}},\"id\":\"5873\",\"type\":\"ColumnDataSource\"},{\"attributes\":{\"editor\":{\"id\":\"5881\"},\"field\":\"Year\",\"formatter\":{\"id\":\"5880\"},\"title\":\"Year\"},\"id\":\"5882\",\"type\":\"TableColumn\"},{\"attributes\":{\"children\":[{\"id\":\"5872\"},{\"id\":\"5885\"},{\"id\":\"5889\"}],\"margin\":[0,0,0,0],\"name\":\"Row09307\",\"tags\":[\"embedded\"]},\"id\":\"5871\",\"type\":\"Row\"},{\"attributes\":{},\"id\":\"5888\",\"type\":\"UnionRenderers\"},{\"attributes\":{\"margin\":[5,5,5,5],\"name\":\"HSpacer09311\",\"sizing_mode\":\"stretch_width\"},\"id\":\"5872\",\"type\":\"Spacer\"}],\"root_ids\":[\"5871\"]},\"title\":\"Bokeh Application\",\"version\":\"2.0.2\"}};\n  var render_items = [{\"docid\":\"0e6a23c0-1ed7-40b2-ba81-7f0b25a46d5e\",\"root_ids\":[\"5871\"],\"roots\":{\"5871\":\"f4593b7a-b9b1-46e1-9ff7-2c9e06e7d499\"}}];\n  root.Bokeh.embed.embed_items_notebook(docs_json, render_items);\n  }\nif (root.Bokeh !== undefined) {\n    embed_document(root);\n  } else {\n    var attempts = 0;\n    var timer = setInterval(function(root) {\n      if (root.Bokeh !== undefined) {\n        clearInterval(timer);\n        embed_document(root);\n      } else if (document.readyState == \"complete\") {\n        attempts++;\n        if (attempts > 100) {\n          clearInterval(timer);\n          console.log(\"Bokeh: ERROR: Unable to run BokehJS code because BokehJS library is missing\");\n        }\n      }\n    }, 10, root)\n  }\n})(window);</script>",
      "application/vnd.holoviews_exec.v0+json": "",
      "text/plain": [
       ":Table   [Invoice Amount,Year]"
      ]
     },
     "metadata": {
      "application/vnd.holoviews_exec.v0+json": {
       "id": "5871"
      }
     },
     "execution_count": 80
    }
   ],
   "source": [
    "grp_monthly_income.hvplot.table()"
   ]
  },
  {
   "cell_type": "code",
   "execution_count": 81,
   "metadata": {},
   "outputs": [],
   "source": [
    "subscription_types = subscription_income.groupby(['Subscription']).sum()\n",
    "subscription_type = subscription_types.sort_values(by=\"Invoice Amount\", ascending=False).head(10)\n",
    "subscription_type = subscription_type.reset_index()"
   ]
  },
  {
   "cell_type": "code",
   "execution_count": 82,
   "metadata": {},
   "outputs": [],
   "source": [
    "subscription_type['Invoice Amount'] = subscription_type['Invoice Amount'] / 1000"
   ]
  },
  {
   "cell_type": "code",
   "execution_count": 83,
   "metadata": {},
   "outputs": [
    {
     "output_type": "display_data",
     "data": {},
     "metadata": {}
    },
    {
     "output_type": "execute_result",
     "data": {
      "text/html": "<div id='5901'>\n\n\n\n\n\n  <div class=\"bk-root\" id=\"f2bc7b87-9e94-47d0-b834-02dba9b1b6e3\" data-root-id=\"5901\"></div>\n</div>\n<script type=\"application/javascript\">(function(root) {\n  function embed_document(root) {\n  var docs_json = {\"7a5a0ba2-a287-4c23-a0f1-b8d42ff5a7d3\":{\"roots\":{\"references\":[{\"attributes\":{},\"id\":\"5945\",\"type\":\"CategoricalTickFormatter\"},{\"attributes\":{\"axis_label\":\"Subscription Types\",\"axis_label_text_font_size\":\"20pt\",\"bounds\":\"auto\",\"formatter\":{\"id\":\"5945\"},\"group_text_font_size\":\"18pt\",\"major_label_orientation\":\"horizontal\",\"major_label_text_font_size\":\"18pt\",\"ticker\":{\"id\":\"5916\"}},\"id\":\"5915\",\"type\":\"CategoricalAxis\"},{\"attributes\":{},\"id\":\"5911\",\"type\":\"CategoricalScale\"},{\"attributes\":{\"children\":[{\"id\":\"5902\"},{\"id\":\"5906\"},{\"id\":\"5959\"}],\"margin\":[0,0,0,0],\"name\":\"Row09465\",\"tags\":[\"embedded\"]},\"id\":\"5901\",\"type\":\"Row\"},{\"attributes\":{},\"id\":\"5913\",\"type\":\"LinearScale\"},{\"attributes\":{\"axis_label\":\"Total Sales by Subscription (Tounsands of Dollars)\",\"axis_label_text_font_size\":\"20pt\",\"bounds\":\"auto\",\"formatter\":{\"id\":\"5943\"},\"major_label_orientation\":\"horizontal\",\"major_label_text_font_size\":\"20pt\",\"ticker\":{\"id\":\"5919\"}},\"id\":\"5918\",\"type\":\"LinearAxis\"},{\"attributes\":{},\"id\":\"5919\",\"type\":\"BasicTicker\"},{\"attributes\":{\"axis\":{\"id\":\"5915\"},\"ticker\":{\"id\":\"5916\"}},\"id\":\"5917\",\"type\":\"Grid\"},{\"attributes\":{\"axis\":{\"id\":\"5918\"},\"dimension\":1,\"ticker\":{\"id\":\"5919\"}},\"id\":\"5921\",\"type\":\"Grid\"},{\"attributes\":{\"margin\":[5,5,5,5],\"name\":\"HSpacer09470\",\"sizing_mode\":\"stretch_width\"},\"id\":\"5959\",\"type\":\"Spacer\"},{\"attributes\":{\"data\":{\"Invoice_Amount\":{\"__ndarray__\":\"f5HQlrPbmEAX2c73U2WAQIWUn1T7lF9A3SQGgZULV0AAAAAAAIA9QJqZmZmZmck/\",\"dtype\":\"float64\",\"shape\":[6]},\"Subscription\":[\"1 Year\",\"3 Years\",\"3 Months\",\"6 Months\",\"2 Years\",\"30 Days\"]},\"selected\":{\"id\":\"5936\"},\"selection_policy\":{\"id\":\"5957\"}},\"id\":\"5935\",\"type\":\"ColumnDataSource\"},{\"attributes\":{},\"id\":\"5916\",\"type\":\"CategoricalTicker\"},{\"attributes\":{},\"id\":\"5922\",\"type\":\"SaveTool\"},{\"attributes\":{},\"id\":\"5923\",\"type\":\"PanTool\"},{\"attributes\":{\"margin\":[5,5,5,5],\"name\":\"HSpacer09469\",\"sizing_mode\":\"stretch_width\"},\"id\":\"5902\",\"type\":\"Spacer\"},{\"attributes\":{\"fill_color\":{\"value\":\"#1f77b3\"},\"top\":{\"field\":\"Invoice_Amount\"},\"width\":{\"value\":0.8},\"x\":{\"field\":\"Subscription\"}},\"id\":\"5938\",\"type\":\"VBar\"},{\"attributes\":{},\"id\":\"5924\",\"type\":\"WheelZoomTool\"},{\"attributes\":{\"active_drag\":\"auto\",\"active_inspect\":\"auto\",\"active_multi\":null,\"active_scroll\":\"auto\",\"active_tap\":\"auto\",\"tools\":[{\"id\":\"5905\"},{\"id\":\"5922\"},{\"id\":\"5923\"},{\"id\":\"5924\"},{\"id\":\"5925\"},{\"id\":\"5926\"}]},\"id\":\"5928\",\"type\":\"Toolbar\"},{\"attributes\":{\"overlay\":{\"id\":\"5927\"}},\"id\":\"5925\",\"type\":\"BoxZoomTool\"},{\"attributes\":{},\"id\":\"5926\",\"type\":\"ResetTool\"},{\"attributes\":{\"fill_alpha\":{\"value\":0.1},\"fill_color\":{\"value\":\"#1f77b3\"},\"line_alpha\":{\"value\":0.1},\"top\":{\"field\":\"Invoice_Amount\"},\"width\":{\"value\":0.8},\"x\":{\"field\":\"Subscription\"}},\"id\":\"5939\",\"type\":\"VBar\"},{\"attributes\":{},\"id\":\"5936\",\"type\":\"Selection\"},{\"attributes\":{\"factors\":[\"1 Year\",\"3 Years\",\"3 Months\",\"6 Months\",\"2 Years\",\"30 Days\"],\"tags\":[[[\"Subscription\",\"Subscription\",null]]]},\"id\":\"5903\",\"type\":\"FactorRange\"},{\"attributes\":{\"fill_alpha\":{\"value\":0.2},\"fill_color\":{\"value\":\"#1f77b3\"},\"line_alpha\":{\"value\":0.2},\"top\":{\"field\":\"Invoice_Amount\"},\"width\":{\"value\":0.8},\"x\":{\"field\":\"Subscription\"}},\"id\":\"5940\",\"type\":\"VBar\"},{\"attributes\":{\"end\":1749.9979180000005,\"reset_end\":1749.9979180000005,\"reset_start\":0.0,\"tags\":[[[\"Invoice Amount\",\"Invoice Amount\",null]]]},\"id\":\"5904\",\"type\":\"Range1d\"},{\"attributes\":{\"align\":null,\"below\":[{\"id\":\"5915\"}],\"center\":[{\"id\":\"5917\"},{\"id\":\"5921\"}],\"left\":[{\"id\":\"5918\"}],\"margin\":null,\"min_border_bottom\":10,\"min_border_left\":10,\"min_border_right\":10,\"min_border_top\":10,\"plot_height\":800,\"plot_width\":1400,\"renderers\":[{\"id\":\"5941\"}],\"sizing_mode\":\"fixed\",\"title\":{\"id\":\"5907\"},\"toolbar\":{\"id\":\"5928\"},\"x_range\":{\"id\":\"5903\"},\"x_scale\":{\"id\":\"5911\"},\"y_range\":{\"id\":\"5904\"},\"y_scale\":{\"id\":\"5913\"}},\"id\":\"5906\",\"subtype\":\"Figure\",\"type\":\"Plot\"},{\"attributes\":{\"data_source\":{\"id\":\"5935\"},\"glyph\":{\"id\":\"5938\"},\"hover_glyph\":null,\"muted_glyph\":{\"id\":\"5940\"},\"nonselection_glyph\":{\"id\":\"5939\"},\"selection_glyph\":null,\"view\":{\"id\":\"5942\"}},\"id\":\"5941\",\"type\":\"GlyphRenderer\"},{\"attributes\":{},\"id\":\"5957\",\"type\":\"UnionRenderers\"},{\"attributes\":{\"text\":\"Total Income by Subscription Type from 2015 to 2020\",\"text_color\":{\"value\":\"black\"},\"text_font_size\":{\"value\":\"25pt\"}},\"id\":\"5907\",\"type\":\"Title\"},{\"attributes\":{\"source\":{\"id\":\"5935\"}},\"id\":\"5942\",\"type\":\"CDSView\"},{\"attributes\":{\"format\":\"$%.0f\"},\"id\":\"5943\",\"type\":\"PrintfTickFormatter\"},{\"attributes\":{\"callback\":null,\"renderers\":[{\"id\":\"5941\"}],\"tags\":[\"hv_created\"],\"tooltips\":[[\"Subscription\",\"@{Subscription}\"],[\"Invoice Amount\",\"@{Invoice_Amount}\"]]},\"id\":\"5905\",\"type\":\"HoverTool\"},{\"attributes\":{\"bottom_units\":\"screen\",\"fill_alpha\":0.5,\"fill_color\":\"lightgrey\",\"left_units\":\"screen\",\"level\":\"overlay\",\"line_alpha\":1.0,\"line_color\":\"black\",\"line_dash\":[4,4],\"line_width\":2,\"render_mode\":\"css\",\"right_units\":\"screen\",\"top_units\":\"screen\"},\"id\":\"5927\",\"type\":\"BoxAnnotation\"}],\"root_ids\":[\"5901\"]},\"title\":\"Bokeh Application\",\"version\":\"2.0.2\"}};\n  var render_items = [{\"docid\":\"7a5a0ba2-a287-4c23-a0f1-b8d42ff5a7d3\",\"root_ids\":[\"5901\"],\"roots\":{\"5901\":\"f2bc7b87-9e94-47d0-b834-02dba9b1b6e3\"}}];\n  root.Bokeh.embed.embed_items_notebook(docs_json, render_items);\n  }\nif (root.Bokeh !== undefined) {\n    embed_document(root);\n  } else {\n    var attempts = 0;\n    var timer = setInterval(function(root) {\n      if (root.Bokeh !== undefined) {\n        clearInterval(timer);\n        embed_document(root);\n      } else if (document.readyState == \"complete\") {\n        attempts++;\n        if (attempts > 100) {\n          clearInterval(timer);\n          console.log(\"Bokeh: ERROR: Unable to run BokehJS code because BokehJS library is missing\");\n        }\n      }\n    }, 10, root)\n  }\n})(window);</script>",
      "application/vnd.holoviews_exec.v0+json": "",
      "text/plain": [
       ":Bars   [Subscription]   (Invoice Amount)"
      ]
     },
     "metadata": {
      "application/vnd.holoviews_exec.v0+json": {
       "id": "5901"
      }
     },
     "execution_count": 83
    }
   ],
   "source": [
    "# Plotting the data from the subscription type\n",
    "subscription_type.hvplot.bar(\n",
    "    x=\"Subscription\", \n",
    "    y=\"Invoice Amount\", \n",
    "    xlabel = \"Subscription Types\",\n",
    "    ylabel = \"Total Sales by Subscription (Tounsands of Dollars)\",\n",
    "    title=\"Total Income by Subscription Type from 2015 to 2020\", \n",
    "    figsize=(20,15), \n",
    "    subplots=True, \n",
    "    height=800,\n",
    "    grid=True,\n",
    "    width=1400).opts(yformatter='$%.0f', fontsize={'title': 25, 'labels': 20, 'xticks': 18, 'yticks': 20})"
   ]
  },
  {
   "cell_type": "code",
   "execution_count": 84,
   "metadata": {},
   "outputs": [
    {
     "output_type": "display_data",
     "data": {},
     "metadata": {}
    },
    {
     "output_type": "execute_result",
     "data": {
      "text/html": "<div id='5996'>\n\n\n\n\n\n  <div class=\"bk-root\" id=\"2f7dcc99-96c7-4e20-aa3f-7b1ddb9df32c\" data-root-id=\"5996\"></div>\n</div>\n<script type=\"application/javascript\">(function(root) {\n  function embed_document(root) {\n  var docs_json = {\"67fa44a5-0006-4d06-9636-f22677df5fe6\":{\"roots\":{\"references\":[{\"attributes\":{},\"id\":\"5999\",\"type\":\"Selection\"},{\"attributes\":{\"data\":{\"Invoice_Amount\":{\"__ndarray__\":\"f5HQlrPbmEAX2c73U2WAQIWUn1T7lF9A3SQGgZULV0AAAAAAAIA9QJqZmZmZmck/\",\"dtype\":\"float64\",\"shape\":[6]},\"Subscription\":[\"1 Year\",\"3 Years\",\"3 Months\",\"6 Months\",\"2 Years\",\"30 Days\"]},\"selected\":{\"id\":\"5999\"},\"selection_policy\":{\"id\":\"6013\"}},\"id\":\"5998\",\"type\":\"ColumnDataSource\"},{\"attributes\":{\"editor\":{\"id\":\"6001\"},\"field\":\"Subscription\",\"formatter\":{\"id\":\"6000\"},\"title\":\"Subscription\"},\"id\":\"6002\",\"type\":\"TableColumn\"},{\"attributes\":{\"editor\":{\"id\":\"6006\"},\"field\":\"Invoice_Amount\",\"formatter\":{\"id\":\"6005\"},\"title\":\"Invoice Amount\"},\"id\":\"6007\",\"type\":\"TableColumn\"},{\"attributes\":{\"margin\":[5,5,5,5],\"name\":\"HSpacer09598\",\"sizing_mode\":\"stretch_width\"},\"id\":\"5997\",\"type\":\"Spacer\"},{\"attributes\":{\"margin\":[5,5,5,5],\"name\":\"HSpacer09599\",\"sizing_mode\":\"stretch_width\"},\"id\":\"6014\",\"type\":\"Spacer\"},{\"attributes\":{},\"id\":\"6001\",\"type\":\"StringEditor\"},{\"attributes\":{},\"id\":\"6006\",\"type\":\"NumberEditor\"},{\"attributes\":{\"columns\":[{\"id\":\"6002\"},{\"id\":\"6007\"}],\"height\":300,\"reorderable\":false,\"source\":{\"id\":\"5998\"},\"view\":{\"id\":\"6011\"},\"width\":700},\"id\":\"6010\",\"type\":\"DataTable\"},{\"attributes\":{},\"id\":\"6000\",\"type\":\"StringFormatter\"},{\"attributes\":{\"children\":[{\"id\":\"5997\"},{\"id\":\"6010\"},{\"id\":\"6014\"}],\"margin\":[0,0,0,0],\"name\":\"Row09594\",\"tags\":[\"embedded\"]},\"id\":\"5996\",\"type\":\"Row\"},{\"attributes\":{},\"id\":\"6013\",\"type\":\"UnionRenderers\"},{\"attributes\":{\"source\":{\"id\":\"5998\"}},\"id\":\"6011\",\"type\":\"CDSView\"},{\"attributes\":{\"format\":\"0,0.0[00000]\"},\"id\":\"6005\",\"type\":\"NumberFormatter\"}],\"root_ids\":[\"5996\"]},\"title\":\"Bokeh Application\",\"version\":\"2.0.2\"}};\n  var render_items = [{\"docid\":\"67fa44a5-0006-4d06-9636-f22677df5fe6\",\"root_ids\":[\"5996\"],\"roots\":{\"5996\":\"2f7dcc99-96c7-4e20-aa3f-7b1ddb9df32c\"}}];\n  root.Bokeh.embed.embed_items_notebook(docs_json, render_items);\n  }\nif (root.Bokeh !== undefined) {\n    embed_document(root);\n  } else {\n    var attempts = 0;\n    var timer = setInterval(function(root) {\n      if (root.Bokeh !== undefined) {\n        clearInterval(timer);\n        embed_document(root);\n      } else if (document.readyState == \"complete\") {\n        attempts++;\n        if (attempts > 100) {\n          clearInterval(timer);\n          console.log(\"Bokeh: ERROR: Unable to run BokehJS code because BokehJS library is missing\");\n        }\n      }\n    }, 10, root)\n  }\n})(window);</script>",
      "application/vnd.holoviews_exec.v0+json": "",
      "text/plain": [
       ":Table   [Subscription,Invoice Amount]"
      ]
     },
     "metadata": {
      "application/vnd.holoviews_exec.v0+json": {
       "id": "5996"
      }
     },
     "execution_count": 84
    }
   ],
   "source": [
    "subscription_type.hvplot.table()"
   ]
  },
  {
   "cell_type": "code",
   "execution_count": 85,
   "metadata": {},
   "outputs": [],
   "source": [
    "new_customers = atlas.iloc[:, [0, 2, 6, 9]]"
   ]
  },
  {
   "cell_type": "code",
   "execution_count": 86,
   "metadata": {},
   "outputs": [],
   "source": [
    "Group_Customers = new_customers.groupby(['Customers']).sum()\n",
    "TOP_10_Highest = Group_Customers.sort_values(by=\"Invoice Amount\", ascending=False).head(10)\n",
    "TOP_10_Highest = TOP_10_Highest.reset_index()"
   ]
  },
  {
   "cell_type": "code",
   "execution_count": 87,
   "metadata": {},
   "outputs": [
    {
     "output_type": "display_data",
     "data": {},
     "metadata": {}
    },
    {
     "output_type": "execute_result",
     "data": {
      "text/html": "<div id='6026'>\n\n\n\n\n\n  <div class=\"bk-root\" id=\"be86b8a4-3f86-4348-b5ed-9ba4bf584125\" data-root-id=\"6026\"></div>\n</div>\n<script type=\"application/javascript\">(function(root) {\n  function embed_document(root) {\n  var docs_json = {\"ef0ee204-ddb7-4400-92cf-c79b564d8539\":{\"roots\":{\"references\":[{\"attributes\":{\"bottom_units\":\"screen\",\"fill_alpha\":0.5,\"fill_color\":\"lightgrey\",\"left_units\":\"screen\",\"level\":\"overlay\",\"line_alpha\":1.0,\"line_color\":\"black\",\"line_dash\":[4,4],\"line_width\":2,\"render_mode\":\"css\",\"right_units\":\"screen\",\"top_units\":\"screen\"},\"id\":\"6052\",\"type\":\"BoxAnnotation\"},{\"attributes\":{\"text\":\"Top 10 Highest Paying Customers of All Time out of 392 Customers\",\"text_color\":{\"value\":\"black\"},\"text_font_size\":{\"value\":\"25pt\"}},\"id\":\"6032\",\"type\":\"Title\"},{\"attributes\":{\"margin\":[5,5,5,5],\"name\":\"HSpacer09756\",\"sizing_mode\":\"stretch_width\"},\"id\":\"6027\",\"type\":\"Spacer\"},{\"attributes\":{\"callback\":null,\"renderers\":[{\"id\":\"6066\"}],\"tags\":[\"hv_created\"],\"tooltips\":[[\"Customers\",\"@{Customers}\"],[\"Invoice Amount\",\"@{Invoice_Amount}\"]]},\"id\":\"6030\",\"type\":\"HoverTool\"},{\"attributes\":{\"axis_label\":\"Highest Paying Customers\",\"axis_label_text_font_size\":\"20pt\",\"bounds\":\"auto\",\"formatter\":{\"id\":\"6070\"},\"group_text_font_size\":\"18pt\",\"major_label_orientation\":0.7853981633974483,\"major_label_text_font_size\":\"18pt\",\"ticker\":{\"id\":\"6041\"}},\"id\":\"6040\",\"type\":\"CategoricalAxis\"},{\"attributes\":{},\"id\":\"6036\",\"type\":\"CategoricalScale\"},{\"attributes\":{\"data\":{\"Customers\":[\"University 30\",\"University 1\",\"University 44\",\"University 71\",\"University 7\",\"University 147\",\"University 164\",\"University 75\",\"University 88\",\"University 378\"],\"Invoice_Amount\":{\"__ndarray__\":\"AAAAAIBPAkEAAAAAwPcAQQAAAAAA5/hAAAAAAABq+EAAAAAAANbvQAAAAAAAzt1AAAAAAABF3UAAAAAAANXbQAAAAACAotlAAAAAAICi2UA=\",\"dtype\":\"float64\",\"shape\":[10]}},\"selected\":{\"id\":\"6061\"},\"selection_policy\":{\"id\":\"6082\"}},\"id\":\"6060\",\"type\":\"ColumnDataSource\"},{\"attributes\":{},\"id\":\"6038\",\"type\":\"LinearScale\"},{\"attributes\":{\"source\":{\"id\":\"6060\"}},\"id\":\"6067\",\"type\":\"CDSView\"},{\"attributes\":{\"axis_label\":\"Total Sales\",\"axis_label_text_font_size\":\"20pt\",\"bounds\":\"auto\",\"formatter\":{\"id\":\"6068\"},\"major_label_orientation\":\"horizontal\",\"major_label_text_font_size\":\"20pt\",\"ticker\":{\"id\":\"6044\"}},\"id\":\"6043\",\"type\":\"LinearAxis\"},{\"attributes\":{},\"id\":\"6044\",\"type\":\"BasicTicker\"},{\"attributes\":{\"axis\":{\"id\":\"6040\"},\"ticker\":{\"id\":\"6041\"}},\"id\":\"6042\",\"type\":\"Grid\"},{\"attributes\":{\"axis\":{\"id\":\"6043\"},\"dimension\":1,\"ticker\":{\"id\":\"6044\"}},\"id\":\"6046\",\"type\":\"Grid\"},{\"attributes\":{},\"id\":\"6041\",\"type\":\"CategoricalTicker\"},{\"attributes\":{},\"id\":\"6047\",\"type\":\"SaveTool\"},{\"attributes\":{},\"id\":\"6048\",\"type\":\"PanTool\"},{\"attributes\":{\"fill_color\":{\"value\":\"#1f77b3\"},\"top\":{\"field\":\"Invoice_Amount\"},\"width\":{\"value\":0.8},\"x\":{\"field\":\"Customers\"}},\"id\":\"6063\",\"type\":\"VBar\"},{\"attributes\":{},\"id\":\"6049\",\"type\":\"WheelZoomTool\"},{\"attributes\":{\"active_drag\":\"auto\",\"active_inspect\":\"auto\",\"active_multi\":null,\"active_scroll\":\"auto\",\"active_tap\":\"auto\",\"tools\":[{\"id\":\"6030\"},{\"id\":\"6047\"},{\"id\":\"6048\"},{\"id\":\"6049\"},{\"id\":\"6050\"},{\"id\":\"6051\"}]},\"id\":\"6053\",\"type\":\"Toolbar\"},{\"attributes\":{\"margin\":[5,5,5,5],\"name\":\"HSpacer09757\",\"sizing_mode\":\"stretch_width\"},\"id\":\"6084\",\"type\":\"Spacer\"},{\"attributes\":{\"overlay\":{\"id\":\"6052\"}},\"id\":\"6050\",\"type\":\"BoxZoomTool\"},{\"attributes\":{\"format\":\"$%.0f\"},\"id\":\"6068\",\"type\":\"PrintfTickFormatter\"},{\"attributes\":{},\"id\":\"6051\",\"type\":\"ResetTool\"},{\"attributes\":{\"fill_alpha\":{\"value\":0.1},\"fill_color\":{\"value\":\"#1f77b3\"},\"line_alpha\":{\"value\":0.1},\"top\":{\"field\":\"Invoice_Amount\"},\"width\":{\"value\":0.8},\"x\":{\"field\":\"Customers\"}},\"id\":\"6064\",\"type\":\"VBar\"},{\"attributes\":{},\"id\":\"6061\",\"type\":\"Selection\"},{\"attributes\":{\"end\":162375.0,\"reset_end\":162375.0,\"reset_start\":0.0,\"tags\":[[[\"Invoice Amount\",\"Invoice Amount\",null]]]},\"id\":\"6029\",\"type\":\"Range1d\"},{\"attributes\":{},\"id\":\"6070\",\"type\":\"CategoricalTickFormatter\"},{\"attributes\":{\"children\":[{\"id\":\"6027\"},{\"id\":\"6031\"},{\"id\":\"6084\"}],\"margin\":[0,0,0,0],\"name\":\"Row09752\",\"tags\":[\"embedded\"]},\"id\":\"6026\",\"type\":\"Row\"},{\"attributes\":{\"align\":null,\"below\":[{\"id\":\"6040\"}],\"center\":[{\"id\":\"6042\"},{\"id\":\"6046\"}],\"left\":[{\"id\":\"6043\"}],\"margin\":null,\"min_border_bottom\":10,\"min_border_left\":10,\"min_border_right\":10,\"min_border_top\":10,\"plot_height\":900,\"plot_width\":1400,\"renderers\":[{\"id\":\"6066\"}],\"sizing_mode\":\"fixed\",\"title\":{\"id\":\"6032\"},\"toolbar\":{\"id\":\"6053\"},\"x_range\":{\"id\":\"6028\"},\"x_scale\":{\"id\":\"6036\"},\"y_range\":{\"id\":\"6029\"},\"y_scale\":{\"id\":\"6038\"}},\"id\":\"6031\",\"subtype\":\"Figure\",\"type\":\"Plot\"},{\"attributes\":{\"factors\":[\"University 30\",\"University 1\",\"University 44\",\"University 71\",\"University 7\",\"University 147\",\"University 164\",\"University 75\",\"University 88\",\"University 378\"],\"tags\":[[[\"Customers\",\"Customers\",null]]]},\"id\":\"6028\",\"type\":\"FactorRange\"},{\"attributes\":{},\"id\":\"6082\",\"type\":\"UnionRenderers\"},{\"attributes\":{\"fill_alpha\":{\"value\":0.2},\"fill_color\":{\"value\":\"#1f77b3\"},\"line_alpha\":{\"value\":0.2},\"top\":{\"field\":\"Invoice_Amount\"},\"width\":{\"value\":0.8},\"x\":{\"field\":\"Customers\"}},\"id\":\"6065\",\"type\":\"VBar\"},{\"attributes\":{\"data_source\":{\"id\":\"6060\"},\"glyph\":{\"id\":\"6063\"},\"hover_glyph\":null,\"muted_glyph\":{\"id\":\"6065\"},\"nonselection_glyph\":{\"id\":\"6064\"},\"selection_glyph\":null,\"view\":{\"id\":\"6067\"}},\"id\":\"6066\",\"type\":\"GlyphRenderer\"}],\"root_ids\":[\"6026\"]},\"title\":\"Bokeh Application\",\"version\":\"2.0.2\"}};\n  var render_items = [{\"docid\":\"ef0ee204-ddb7-4400-92cf-c79b564d8539\",\"root_ids\":[\"6026\"],\"roots\":{\"6026\":\"be86b8a4-3f86-4348-b5ed-9ba4bf584125\"}}];\n  root.Bokeh.embed.embed_items_notebook(docs_json, render_items);\n  }\nif (root.Bokeh !== undefined) {\n    embed_document(root);\n  } else {\n    var attempts = 0;\n    var timer = setInterval(function(root) {\n      if (root.Bokeh !== undefined) {\n        clearInterval(timer);\n        embed_document(root);\n      } else if (document.readyState == \"complete\") {\n        attempts++;\n        if (attempts > 100) {\n          clearInterval(timer);\n          console.log(\"Bokeh: ERROR: Unable to run BokehJS code because BokehJS library is missing\");\n        }\n      }\n    }, 10, root)\n  }\n})(window);</script>",
      "application/vnd.holoviews_exec.v0+json": "",
      "text/plain": [
       ":Bars   [Customers]   (Invoice Amount)"
      ]
     },
     "metadata": {
      "application/vnd.holoviews_exec.v0+json": {
       "id": "6026"
      }
     },
     "execution_count": 87
    }
   ],
   "source": [
    "# Plotting the data from the top 10 Highest Customers\n",
    "TOP_10_Highest.hvplot.bar(\n",
    "    x=\"Customers\", \n",
    "    y=\"Invoice Amount\", \n",
    "    xlabel = \"Highest Paying Customers\",\n",
    "    ylabel = \"Total Sales\",\n",
    "    title=\"Top 10 Highest Paying Customers of All Time out of 392 Customers\", \n",
    "    figsize=(20,15), \n",
    "    subplots=True, \n",
    "    height=900,\n",
    "    grid=True,\n",
    "    rot=45,\n",
    "    width=1400).opts(yformatter='$%.0f', fontsize={'title': 25, 'labels': 20, 'xticks': 18, 'yticks': 20})"
   ]
  },
  {
   "cell_type": "code",
   "execution_count": 88,
   "metadata": {},
   "outputs": [
    {
     "output_type": "display_data",
     "data": {},
     "metadata": {}
    },
    {
     "output_type": "execute_result",
     "data": {
      "text/html": "<div id='6121'>\n\n\n\n\n\n  <div class=\"bk-root\" id=\"14b1b3fe-f066-4930-b8db-7cdcf5699708\" data-root-id=\"6121\"></div>\n</div>\n<script type=\"application/javascript\">(function(root) {\n  function embed_document(root) {\n  var docs_json = {\"994c3cf6-41de-4d77-bcfc-f4b2016eae64\":{\"roots\":{\"references\":[{\"attributes\":{\"format\":\"0,0.0[00000]\"},\"id\":\"6130\",\"type\":\"NumberFormatter\"},{\"attributes\":{\"source\":{\"id\":\"6123\"}},\"id\":\"6136\",\"type\":\"CDSView\"},{\"attributes\":{},\"id\":\"6126\",\"type\":\"StringEditor\"},{\"attributes\":{},\"id\":\"6138\",\"type\":\"UnionRenderers\"},{\"attributes\":{\"editor\":{\"id\":\"6126\"},\"field\":\"Customers\",\"formatter\":{\"id\":\"6125\"},\"title\":\"Customers\"},\"id\":\"6127\",\"type\":\"TableColumn\"},{\"attributes\":{\"children\":[{\"id\":\"6122\"},{\"id\":\"6135\"},{\"id\":\"6139\"}],\"margin\":[0,0,0,0],\"name\":\"Row09881\",\"tags\":[\"embedded\"]},\"id\":\"6121\",\"type\":\"Row\"},{\"attributes\":{\"editor\":{\"id\":\"6131\"},\"field\":\"Invoice_Amount\",\"formatter\":{\"id\":\"6130\"},\"title\":\"Invoice Amount\"},\"id\":\"6132\",\"type\":\"TableColumn\"},{\"attributes\":{\"data\":{\"Customers\":[\"University 30\",\"University 1\",\"University 44\",\"University 71\",\"University 7\",\"University 147\",\"University 164\",\"University 75\",\"University 88\",\"University 378\"],\"Invoice_Amount\":{\"__ndarray__\":\"AAAAAIBPAkEAAAAAwPcAQQAAAAAA5/hAAAAAAABq+EAAAAAAANbvQAAAAAAAzt1AAAAAAABF3UAAAAAAANXbQAAAAACAotlAAAAAAICi2UA=\",\"dtype\":\"float64\",\"shape\":[10]}},\"selected\":{\"id\":\"6124\"},\"selection_policy\":{\"id\":\"6138\"}},\"id\":\"6123\",\"type\":\"ColumnDataSource\"},{\"attributes\":{\"margin\":[5,5,5,5],\"name\":\"HSpacer09885\",\"sizing_mode\":\"stretch_width\"},\"id\":\"6122\",\"type\":\"Spacer\"},{\"attributes\":{\"margin\":[5,5,5,5],\"name\":\"HSpacer09886\",\"sizing_mode\":\"stretch_width\"},\"id\":\"6139\",\"type\":\"Spacer\"},{\"attributes\":{},\"id\":\"6124\",\"type\":\"Selection\"},{\"attributes\":{},\"id\":\"6125\",\"type\":\"StringFormatter\"},{\"attributes\":{},\"id\":\"6131\",\"type\":\"NumberEditor\"},{\"attributes\":{\"columns\":[{\"id\":\"6127\"},{\"id\":\"6132\"}],\"height\":300,\"reorderable\":false,\"source\":{\"id\":\"6123\"},\"view\":{\"id\":\"6136\"},\"width\":700},\"id\":\"6135\",\"type\":\"DataTable\"}],\"root_ids\":[\"6121\"]},\"title\":\"Bokeh Application\",\"version\":\"2.0.2\"}};\n  var render_items = [{\"docid\":\"994c3cf6-41de-4d77-bcfc-f4b2016eae64\",\"root_ids\":[\"6121\"],\"roots\":{\"6121\":\"14b1b3fe-f066-4930-b8db-7cdcf5699708\"}}];\n  root.Bokeh.embed.embed_items_notebook(docs_json, render_items);\n  }\nif (root.Bokeh !== undefined) {\n    embed_document(root);\n  } else {\n    var attempts = 0;\n    var timer = setInterval(function(root) {\n      if (root.Bokeh !== undefined) {\n        clearInterval(timer);\n        embed_document(root);\n      } else if (document.readyState == \"complete\") {\n        attempts++;\n        if (attempts > 100) {\n          clearInterval(timer);\n          console.log(\"Bokeh: ERROR: Unable to run BokehJS code because BokehJS library is missing\");\n        }\n      }\n    }, 10, root)\n  }\n})(window);</script>",
      "application/vnd.holoviews_exec.v0+json": "",
      "text/plain": [
       ":Table   [Customers,Invoice Amount]"
      ]
     },
     "metadata": {
      "application/vnd.holoviews_exec.v0+json": {
       "id": "6121"
      }
     },
     "execution_count": 88
    }
   ],
   "source": [
    "TOP_10_Highest.hvplot.table()"
   ]
  },
  {
   "cell_type": "code",
   "execution_count": 89,
   "metadata": {},
   "outputs": [],
   "source": [
    "Group_Customers_2 = new_customers.groupby(['Customers']).sum()\n",
    "TOP_10_Lowest = Group_Customers_2.sort_values(by=\"Invoice Amount\", ascending=True).head(10)\n",
    "TOP_10_Lowest = TOP_10_Lowest.reset_index()"
   ]
  },
  {
   "cell_type": "code",
   "execution_count": 90,
   "metadata": {},
   "outputs": [
    {
     "output_type": "display_data",
     "data": {},
     "metadata": {}
    },
    {
     "output_type": "execute_result",
     "data": {
      "text/html": "<div id='6151'>\n\n\n\n\n\n  <div class=\"bk-root\" id=\"40a5b990-1204-4c8e-9645-4eb6c1e4379c\" data-root-id=\"6151\"></div>\n</div>\n<script type=\"application/javascript\">(function(root) {\n  function embed_document(root) {\n  var docs_json = {\"94ba0e2a-5657-4474-9894-3a868181e09c\":{\"roots\":{\"references\":[{\"attributes\":{},\"id\":\"6186\",\"type\":\"Selection\"},{\"attributes\":{\"fill_color\":{\"value\":\"#1f77b3\"},\"top\":{\"field\":\"Invoice_Amount\"},\"width\":{\"value\":0.8},\"x\":{\"field\":\"Customers\"}},\"id\":\"6188\",\"type\":\"VBar\"},{\"attributes\":{\"fill_alpha\":{\"value\":0.2},\"fill_color\":{\"value\":\"#1f77b3\"},\"line_alpha\":{\"value\":0.2},\"top\":{\"field\":\"Invoice_Amount\"},\"width\":{\"value\":0.8},\"x\":{\"field\":\"Customers\"}},\"id\":\"6190\",\"type\":\"VBar\"},{\"attributes\":{},\"id\":\"6207\",\"type\":\"UnionRenderers\"},{\"attributes\":{},\"id\":\"6163\",\"type\":\"LinearScale\"},{\"attributes\":{\"callback\":null,\"renderers\":[{\"id\":\"6191\"}],\"tags\":[\"hv_created\"],\"tooltips\":[[\"Customers\",\"@{Customers}\"],[\"Invoice Amount\",\"@{Invoice_Amount}\"]]},\"id\":\"6155\",\"type\":\"HoverTool\"},{\"attributes\":{\"data_source\":{\"id\":\"6185\"},\"glyph\":{\"id\":\"6188\"},\"hover_glyph\":null,\"muted_glyph\":{\"id\":\"6190\"},\"nonselection_glyph\":{\"id\":\"6189\"},\"selection_glyph\":null,\"view\":{\"id\":\"6192\"}},\"id\":\"6191\",\"type\":\"GlyphRenderer\"},{\"attributes\":{\"source\":{\"id\":\"6185\"}},\"id\":\"6192\",\"type\":\"CDSView\"},{\"attributes\":{},\"id\":\"6161\",\"type\":\"CategoricalScale\"},{\"attributes\":{\"end\":427.5,\"reset_end\":427.5,\"reset_start\":0.0,\"tags\":[[[\"Invoice Amount\",\"Invoice Amount\",null]]]},\"id\":\"6154\",\"type\":\"Range1d\"},{\"attributes\":{\"format\":\"$%.0f\"},\"id\":\"6193\",\"type\":\"PrintfTickFormatter\"},{\"attributes\":{},\"id\":\"6195\",\"type\":\"CategoricalTickFormatter\"},{\"attributes\":{\"bottom_units\":\"screen\",\"fill_alpha\":0.5,\"fill_color\":\"lightgrey\",\"left_units\":\"screen\",\"level\":\"overlay\",\"line_alpha\":1.0,\"line_color\":\"black\",\"line_dash\":[4,4],\"line_width\":2,\"render_mode\":\"css\",\"right_units\":\"screen\",\"top_units\":\"screen\"},\"id\":\"6177\",\"type\":\"BoxAnnotation\"},{\"attributes\":{\"align\":null,\"below\":[{\"id\":\"6165\"}],\"center\":[{\"id\":\"6167\"},{\"id\":\"6171\"}],\"left\":[{\"id\":\"6168\"}],\"margin\":null,\"min_border_bottom\":10,\"min_border_left\":10,\"min_border_right\":10,\"min_border_top\":10,\"plot_height\":800,\"plot_width\":1400,\"renderers\":[{\"id\":\"6191\"}],\"sizing_mode\":\"fixed\",\"title\":{\"id\":\"6157\"},\"toolbar\":{\"id\":\"6178\"},\"x_range\":{\"id\":\"6153\"},\"x_scale\":{\"id\":\"6161\"},\"y_range\":{\"id\":\"6154\"},\"y_scale\":{\"id\":\"6163\"}},\"id\":\"6156\",\"subtype\":\"Figure\",\"type\":\"Plot\"},{\"attributes\":{\"axis_label\":\"Lowest Paying Customers\",\"axis_label_text_font_size\":\"20pt\",\"bounds\":\"auto\",\"formatter\":{\"id\":\"6195\"},\"group_text_font_size\":\"18pt\",\"major_label_orientation\":0.7853981633974483,\"major_label_text_font_size\":\"18pt\",\"ticker\":{\"id\":\"6166\"}},\"id\":\"6165\",\"type\":\"CategoricalAxis\"},{\"attributes\":{\"axis_label\":\"Total Sales\",\"axis_label_text_font_size\":\"20pt\",\"bounds\":\"auto\",\"formatter\":{\"id\":\"6193\"},\"major_label_orientation\":\"horizontal\",\"major_label_text_font_size\":\"20pt\",\"ticker\":{\"id\":\"6169\"}},\"id\":\"6168\",\"type\":\"LinearAxis\"},{\"attributes\":{\"margin\":[5,5,5,5],\"name\":\"HSpacer10043\",\"sizing_mode\":\"stretch_width\"},\"id\":\"6152\",\"type\":\"Spacer\"},{\"attributes\":{},\"id\":\"6169\",\"type\":\"BasicTicker\"},{\"attributes\":{\"children\":[{\"id\":\"6152\"},{\"id\":\"6156\"},{\"id\":\"6209\"}],\"margin\":[0,0,0,0],\"name\":\"Row10039\",\"tags\":[\"embedded\"]},\"id\":\"6151\",\"type\":\"Row\"},{\"attributes\":{\"axis\":{\"id\":\"6165\"},\"ticker\":{\"id\":\"6166\"}},\"id\":\"6167\",\"type\":\"Grid\"},{\"attributes\":{\"axis\":{\"id\":\"6168\"},\"dimension\":1,\"ticker\":{\"id\":\"6169\"}},\"id\":\"6171\",\"type\":\"Grid\"},{\"attributes\":{},\"id\":\"6166\",\"type\":\"CategoricalTicker\"},{\"attributes\":{},\"id\":\"6172\",\"type\":\"SaveTool\"},{\"attributes\":{},\"id\":\"6173\",\"type\":\"PanTool\"},{\"attributes\":{\"data\":{\"Customers\":[\"University 346\",\"University 191\",\"University 218\",\"University 360\",\"University 171\",\"University 107\",\"University 337\",\"University 327\",\"University 359\",\"University 302\"],\"Invoice_Amount\":{\"__ndarray__\":\"AAAAAABAX0AAAAAAAMBiQAAAAAAAAGRAAAAAAAAAaUAAAAAAAEBvQAAAAAAAwHJAAAAAAAAwdkAAAAAAAHB4QAAAAAAAsHhAAAAAAAAAeUA=\",\"dtype\":\"float64\",\"shape\":[10]}},\"selected\":{\"id\":\"6186\"},\"selection_policy\":{\"id\":\"6207\"}},\"id\":\"6185\",\"type\":\"ColumnDataSource\"},{\"attributes\":{\"text\":\"Top 10 Lowest Paying Customers of All Time out of 392 Customers\",\"text_color\":{\"value\":\"black\"},\"text_font_size\":{\"value\":\"25pt\"}},\"id\":\"6157\",\"type\":\"Title\"},{\"attributes\":{},\"id\":\"6174\",\"type\":\"WheelZoomTool\"},{\"attributes\":{\"overlay\":{\"id\":\"6177\"}},\"id\":\"6175\",\"type\":\"BoxZoomTool\"},{\"attributes\":{\"factors\":[\"University 346\",\"University 191\",\"University 218\",\"University 360\",\"University 171\",\"University 107\",\"University 337\",\"University 327\",\"University 359\",\"University 302\"],\"tags\":[[[\"Customers\",\"Customers\",null]]]},\"id\":\"6153\",\"type\":\"FactorRange\"},{\"attributes\":{},\"id\":\"6176\",\"type\":\"ResetTool\"},{\"attributes\":{\"active_drag\":\"auto\",\"active_inspect\":\"auto\",\"active_multi\":null,\"active_scroll\":\"auto\",\"active_tap\":\"auto\",\"tools\":[{\"id\":\"6155\"},{\"id\":\"6172\"},{\"id\":\"6173\"},{\"id\":\"6174\"},{\"id\":\"6175\"},{\"id\":\"6176\"}]},\"id\":\"6178\",\"type\":\"Toolbar\"},{\"attributes\":{\"margin\":[5,5,5,5],\"name\":\"HSpacer10044\",\"sizing_mode\":\"stretch_width\"},\"id\":\"6209\",\"type\":\"Spacer\"},{\"attributes\":{\"fill_alpha\":{\"value\":0.1},\"fill_color\":{\"value\":\"#1f77b3\"},\"line_alpha\":{\"value\":0.1},\"top\":{\"field\":\"Invoice_Amount\"},\"width\":{\"value\":0.8},\"x\":{\"field\":\"Customers\"}},\"id\":\"6189\",\"type\":\"VBar\"}],\"root_ids\":[\"6151\"]},\"title\":\"Bokeh Application\",\"version\":\"2.0.2\"}};\n  var render_items = [{\"docid\":\"94ba0e2a-5657-4474-9894-3a868181e09c\",\"root_ids\":[\"6151\"],\"roots\":{\"6151\":\"40a5b990-1204-4c8e-9645-4eb6c1e4379c\"}}];\n  root.Bokeh.embed.embed_items_notebook(docs_json, render_items);\n  }\nif (root.Bokeh !== undefined) {\n    embed_document(root);\n  } else {\n    var attempts = 0;\n    var timer = setInterval(function(root) {\n      if (root.Bokeh !== undefined) {\n        clearInterval(timer);\n        embed_document(root);\n      } else if (document.readyState == \"complete\") {\n        attempts++;\n        if (attempts > 100) {\n          clearInterval(timer);\n          console.log(\"Bokeh: ERROR: Unable to run BokehJS code because BokehJS library is missing\");\n        }\n      }\n    }, 10, root)\n  }\n})(window);</script>",
      "application/vnd.holoviews_exec.v0+json": "",
      "text/plain": [
       ":Bars   [Customers]   (Invoice Amount)"
      ]
     },
     "metadata": {
      "application/vnd.holoviews_exec.v0+json": {
       "id": "6151"
      }
     },
     "execution_count": 90
    }
   ],
   "source": [
    "# Plotting the data from the top 10 Lowest Customers\n",
    "TOP_10_Lowest.hvplot.bar(\n",
    "    x=\"Customers\", \n",
    "    y=\"Invoice Amount\", \n",
    "    xlabel = \"Lowest Paying Customers\",\n",
    "    ylabel = \"Total Sales\",\n",
    "    title=\"Top 10 Lowest Paying Customers of All Time out of 392 Customers\", \n",
    "    figsize=(20,15), \n",
    "    subplots=True, \n",
    "    height=800,\n",
    "    grid=True,\n",
    "    rot=45,\n",
    "    width=1400).opts(yformatter='$%.0f', fontsize={'title': 25, 'labels': 20, 'xticks': 18, 'yticks': 20})"
   ]
  },
  {
   "cell_type": "code",
   "execution_count": 91,
   "metadata": {},
   "outputs": [
    {
     "output_type": "display_data",
     "data": {},
     "metadata": {}
    },
    {
     "output_type": "execute_result",
     "data": {
      "text/html": "<div id='6246'>\n\n\n\n\n\n  <div class=\"bk-root\" id=\"c48c11c4-3578-4f80-9093-64c98185d00e\" data-root-id=\"6246\"></div>\n</div>\n<script type=\"application/javascript\">(function(root) {\n  function embed_document(root) {\n  var docs_json = {\"6fdfb7eb-cb95-4b3b-9c8a-4a751d77956a\":{\"roots\":{\"references\":[{\"attributes\":{\"margin\":[5,5,5,5],\"name\":\"HSpacer10172\",\"sizing_mode\":\"stretch_width\"},\"id\":\"6247\",\"type\":\"Spacer\"},{\"attributes\":{\"source\":{\"id\":\"6248\"}},\"id\":\"6261\",\"type\":\"CDSView\"},{\"attributes\":{\"data\":{\"Customers\":[\"University 346\",\"University 191\",\"University 218\",\"University 360\",\"University 171\",\"University 107\",\"University 337\",\"University 327\",\"University 359\",\"University 302\"],\"Invoice_Amount\":{\"__ndarray__\":\"AAAAAABAX0AAAAAAAMBiQAAAAAAAAGRAAAAAAAAAaUAAAAAAAEBvQAAAAAAAwHJAAAAAAAAwdkAAAAAAAHB4QAAAAAAAsHhAAAAAAAAAeUA=\",\"dtype\":\"float64\",\"shape\":[10]}},\"selected\":{\"id\":\"6249\"},\"selection_policy\":{\"id\":\"6263\"}},\"id\":\"6248\",\"type\":\"ColumnDataSource\"},{\"attributes\":{\"editor\":{\"id\":\"6251\"},\"field\":\"Customers\",\"formatter\":{\"id\":\"6250\"},\"title\":\"Customers\"},\"id\":\"6252\",\"type\":\"TableColumn\"},{\"attributes\":{\"editor\":{\"id\":\"6256\"},\"field\":\"Invoice_Amount\",\"formatter\":{\"id\":\"6255\"},\"title\":\"Invoice Amount\"},\"id\":\"6257\",\"type\":\"TableColumn\"},{\"attributes\":{},\"id\":\"6251\",\"type\":\"StringEditor\"},{\"attributes\":{},\"id\":\"6263\",\"type\":\"UnionRenderers\"},{\"attributes\":{},\"id\":\"6256\",\"type\":\"NumberEditor\"},{\"attributes\":{\"margin\":[5,5,5,5],\"name\":\"HSpacer10173\",\"sizing_mode\":\"stretch_width\"},\"id\":\"6264\",\"type\":\"Spacer\"},{\"attributes\":{},\"id\":\"6250\",\"type\":\"StringFormatter\"},{\"attributes\":{\"children\":[{\"id\":\"6247\"},{\"id\":\"6260\"},{\"id\":\"6264\"}],\"margin\":[0,0,0,0],\"name\":\"Row10168\",\"tags\":[\"embedded\"]},\"id\":\"6246\",\"type\":\"Row\"},{\"attributes\":{},\"id\":\"6249\",\"type\":\"Selection\"},{\"attributes\":{\"columns\":[{\"id\":\"6252\"},{\"id\":\"6257\"}],\"height\":300,\"reorderable\":false,\"source\":{\"id\":\"6248\"},\"view\":{\"id\":\"6261\"},\"width\":700},\"id\":\"6260\",\"type\":\"DataTable\"},{\"attributes\":{\"format\":\"0,0.0[00000]\"},\"id\":\"6255\",\"type\":\"NumberFormatter\"}],\"root_ids\":[\"6246\"]},\"title\":\"Bokeh Application\",\"version\":\"2.0.2\"}};\n  var render_items = [{\"docid\":\"6fdfb7eb-cb95-4b3b-9c8a-4a751d77956a\",\"root_ids\":[\"6246\"],\"roots\":{\"6246\":\"c48c11c4-3578-4f80-9093-64c98185d00e\"}}];\n  root.Bokeh.embed.embed_items_notebook(docs_json, render_items);\n  }\nif (root.Bokeh !== undefined) {\n    embed_document(root);\n  } else {\n    var attempts = 0;\n    var timer = setInterval(function(root) {\n      if (root.Bokeh !== undefined) {\n        clearInterval(timer);\n        embed_document(root);\n      } else if (document.readyState == \"complete\") {\n        attempts++;\n        if (attempts > 100) {\n          clearInterval(timer);\n          console.log(\"Bokeh: ERROR: Unable to run BokehJS code because BokehJS library is missing\");\n        }\n      }\n    }, 10, root)\n  }\n})(window);</script>",
      "application/vnd.holoviews_exec.v0+json": "",
      "text/plain": [
       ":Table   [Customers,Invoice Amount]"
      ]
     },
     "metadata": {
      "application/vnd.holoviews_exec.v0+json": {
       "id": "6246"
      }
     },
     "execution_count": 91
    }
   ],
   "source": [
    "TOP_10_Lowest.hvplot.table()"
   ]
  },
  {
   "cell_type": "code",
   "execution_count": 92,
   "metadata": {},
   "outputs": [
    {
     "output_type": "execute_result",
     "data": {
      "text/plain": [
       "          Customers              Invoice Date  Invoice Amount   State\n",
       "0      University 1 2015-03-20 00:00:00-04:00         72000.0      LA\n",
       "1      University 2 2015-05-28 00:00:00-04:00          3500.0      KS\n",
       "2      University 3 2015-06-23 00:00:00-04:00          3500.0      KY\n",
       "3      University 4 2015-06-26 00:00:00-04:00          6500.0      NY\n",
       "4      University 5 2015-10-07 00:00:00-04:00           750.0      MD\n",
       "..              ...                       ...             ...     ...\n",
       "695  University 300 2020-12-08 00:00:00-05:00          1750.0      CA\n",
       "696   University 81 2020-12-08 00:00:00-05:00          2000.0      NC\n",
       "697  University 236 2020-12-08 00:00:00-05:00          2500.0  Canada\n",
       "698  University 392 2020-12-08 00:00:00-05:00          1000.0      MA\n",
       "699  University 393 2020-12-09 00:00:00-05:00          4500.0      SC\n",
       "\n",
       "[700 rows x 4 columns]"
      ],
      "text/html": "<div>\n<style scoped>\n    .dataframe tbody tr th:only-of-type {\n        vertical-align: middle;\n    }\n\n    .dataframe tbody tr th {\n        vertical-align: top;\n    }\n\n    .dataframe thead th {\n        text-align: right;\n    }\n</style>\n<table border=\"1\" class=\"dataframe\">\n  <thead>\n    <tr style=\"text-align: right;\">\n      <th></th>\n      <th>Customers</th>\n      <th>Invoice Date</th>\n      <th>Invoice Amount</th>\n      <th>State</th>\n    </tr>\n  </thead>\n  <tbody>\n    <tr>\n      <th>0</th>\n      <td>University 1</td>\n      <td>2015-03-20 00:00:00-04:00</td>\n      <td>72000.0</td>\n      <td>LA</td>\n    </tr>\n    <tr>\n      <th>1</th>\n      <td>University 2</td>\n      <td>2015-05-28 00:00:00-04:00</td>\n      <td>3500.0</td>\n      <td>KS</td>\n    </tr>\n    <tr>\n      <th>2</th>\n      <td>University 3</td>\n      <td>2015-06-23 00:00:00-04:00</td>\n      <td>3500.0</td>\n      <td>KY</td>\n    </tr>\n    <tr>\n      <th>3</th>\n      <td>University 4</td>\n      <td>2015-06-26 00:00:00-04:00</td>\n      <td>6500.0</td>\n      <td>NY</td>\n    </tr>\n    <tr>\n      <th>4</th>\n      <td>University 5</td>\n      <td>2015-10-07 00:00:00-04:00</td>\n      <td>750.0</td>\n      <td>MD</td>\n    </tr>\n    <tr>\n      <th>...</th>\n      <td>...</td>\n      <td>...</td>\n      <td>...</td>\n      <td>...</td>\n    </tr>\n    <tr>\n      <th>695</th>\n      <td>University 300</td>\n      <td>2020-12-08 00:00:00-05:00</td>\n      <td>1750.0</td>\n      <td>CA</td>\n    </tr>\n    <tr>\n      <th>696</th>\n      <td>University 81</td>\n      <td>2020-12-08 00:00:00-05:00</td>\n      <td>2000.0</td>\n      <td>NC</td>\n    </tr>\n    <tr>\n      <th>697</th>\n      <td>University 236</td>\n      <td>2020-12-08 00:00:00-05:00</td>\n      <td>2500.0</td>\n      <td>Canada</td>\n    </tr>\n    <tr>\n      <th>698</th>\n      <td>University 392</td>\n      <td>2020-12-08 00:00:00-05:00</td>\n      <td>1000.0</td>\n      <td>MA</td>\n    </tr>\n    <tr>\n      <th>699</th>\n      <td>University 393</td>\n      <td>2020-12-09 00:00:00-05:00</td>\n      <td>4500.0</td>\n      <td>SC</td>\n    </tr>\n  </tbody>\n</table>\n<p>700 rows × 4 columns</p>\n</div>"
     },
     "metadata": {},
     "execution_count": 92
    }
   ],
   "source": [
    "customers_states = atlas.loc[:, ['Customers', 'Invoice Date', 'Invoice Amount', 'State']]\n",
    "customers_states"
   ]
  },
  {
   "cell_type": "code",
   "execution_count": 93,
   "metadata": {},
   "outputs": [
    {
     "output_type": "display_data",
     "data": {},
     "metadata": {}
    },
    {
     "output_type": "execute_result",
     "data": {
      "text/html": "<div id='6276'>\n\n\n\n\n\n  <div class=\"bk-root\" id=\"56c101b0-eae8-438b-b941-07b81cb24106\" data-root-id=\"6276\"></div>\n</div>\n<script type=\"application/javascript\">(function(root) {\n  function embed_document(root) {\n  var docs_json = {\"99a69d3d-2fe9-4047-8d93-21a7c5442b85\":{\"roots\":{\"references\":[{\"attributes\":{\"axis_label\":\"States\",\"axis_label_text_font_size\":\"20pt\",\"bounds\":\"auto\",\"formatter\":{\"id\":\"6320\"},\"group_text_font_size\":\"25pt\",\"major_label_orientation\":\"horizontal\",\"major_label_text_font_size\":\"25pt\",\"ticker\":{\"id\":\"6291\"}},\"id\":\"6290\",\"type\":\"CategoricalAxis\"},{\"attributes\":{},\"id\":\"6286\",\"type\":\"CategoricalScale\"},{\"attributes\":{},\"id\":\"6288\",\"type\":\"LinearScale\"},{\"attributes\":{\"children\":[{\"id\":\"6277\"},{\"id\":\"6281\"},{\"id\":\"6334\"}],\"margin\":[0,0,0,0],\"name\":\"Row10325\",\"tags\":[\"embedded\"]},\"id\":\"6276\",\"type\":\"Row\"},{\"attributes\":{\"text\":\"Top 10 Highest Paying States of All Time out of 50 States\",\"text_color\":{\"value\":\"black\"},\"text_font_size\":{\"value\":\"25pt\"}},\"id\":\"6282\",\"type\":\"Title\"},{\"attributes\":{\"axis_label\":\"Total Invoiced ($)\",\"axis_label_text_font_size\":\"20pt\",\"bounds\":\"auto\",\"formatter\":{\"id\":\"6318\"},\"major_label_orientation\":\"horizontal\",\"major_label_text_font_size\":\"20pt\",\"ticker\":{\"id\":\"6294\"}},\"id\":\"6293\",\"type\":\"LinearAxis\"},{\"attributes\":{},\"id\":\"6294\",\"type\":\"BasicTicker\"},{\"attributes\":{\"data\":{\"Invoice_Amount\":{\"__ndarray__\":\"MzMzM+0hE0EAAAAAwGYGQQAAAAB4RwNBAAAAABDUAkFmZmZmorwBQQAAAAAQnv1AAAAAAHCp/EAAAAAAAFL8QAAAAACYE/hAAAAAAEiX80AAAAAAgBfzQA==\",\"dtype\":\"float64\",\"shape\":[11]},\"State\":[\"AL\",\"LA\",\"GA\",\"NC\",\"CA\",\"KY\",\"NY\",\"UT\",\"IL\",\"TN\",\"DC\"]},\"selected\":{\"id\":\"6311\"},\"selection_policy\":{\"id\":\"6332\"}},\"id\":\"6310\",\"type\":\"ColumnDataSource\"},{\"attributes\":{\"axis\":{\"id\":\"6290\"},\"ticker\":{\"id\":\"6291\"}},\"id\":\"6292\",\"type\":\"Grid\"},{\"attributes\":{\"axis\":{\"id\":\"6293\"},\"dimension\":1,\"ticker\":{\"id\":\"6294\"}},\"id\":\"6296\",\"type\":\"Grid\"},{\"attributes\":{\"margin\":[5,5,5,5],\"name\":\"HSpacer10330\",\"sizing_mode\":\"stretch_width\"},\"id\":\"6334\",\"type\":\"Spacer\"},{\"attributes\":{},\"id\":\"6291\",\"type\":\"CategoricalTicker\"},{\"attributes\":{},\"id\":\"6297\",\"type\":\"SaveTool\"},{\"attributes\":{},\"id\":\"6298\",\"type\":\"PanTool\"},{\"attributes\":{\"fill_color\":{\"value\":\"#1f77b3\"},\"top\":{\"field\":\"Invoice_Amount\"},\"width\":{\"value\":0.8},\"x\":{\"field\":\"State\"}},\"id\":\"6313\",\"type\":\"VBar\"},{\"attributes\":{},\"id\":\"6299\",\"type\":\"WheelZoomTool\"},{\"attributes\":{\"active_drag\":\"auto\",\"active_inspect\":\"auto\",\"active_multi\":null,\"active_scroll\":\"auto\",\"active_tap\":\"auto\",\"tools\":[{\"id\":\"6280\"},{\"id\":\"6297\"},{\"id\":\"6298\"},{\"id\":\"6299\"},{\"id\":\"6300\"},{\"id\":\"6301\"}]},\"id\":\"6303\",\"type\":\"Toolbar\"},{\"attributes\":{\"overlay\":{\"id\":\"6302\"}},\"id\":\"6300\",\"type\":\"BoxZoomTool\"},{\"attributes\":{},\"id\":\"6301\",\"type\":\"ResetTool\"},{\"attributes\":{},\"id\":\"6332\",\"type\":\"UnionRenderers\"},{\"attributes\":{\"fill_alpha\":{\"value\":0.1},\"fill_color\":{\"value\":\"#1f77b3\"},\"line_alpha\":{\"value\":0.1},\"top\":{\"field\":\"Invoice_Amount\"},\"width\":{\"value\":0.8},\"x\":{\"field\":\"State\"}},\"id\":\"6314\",\"type\":\"VBar\"},{\"attributes\":{},\"id\":\"6311\",\"type\":\"Selection\"},{\"attributes\":{\"fill_alpha\":{\"value\":0.2},\"fill_color\":{\"value\":\"#1f77b3\"},\"line_alpha\":{\"value\":0.2},\"top\":{\"field\":\"Invoice_Amount\"},\"width\":{\"value\":0.8},\"x\":{\"field\":\"State\"}},\"id\":\"6315\",\"type\":\"VBar\"},{\"attributes\":{\"margin\":[5,5,5,5],\"name\":\"HSpacer10329\",\"sizing_mode\":\"stretch_width\"},\"id\":\"6277\",\"type\":\"Spacer\"},{\"attributes\":{\"end\":336994.02999999997,\"reset_end\":336994.02999999997,\"reset_start\":0.0,\"tags\":[[[\"Invoice Amount\",\"Invoice Amount\",null]]]},\"id\":\"6279\",\"type\":\"Range1d\"},{\"attributes\":{\"format\":\"$%.0f\"},\"id\":\"6318\",\"type\":\"PrintfTickFormatter\"},{\"attributes\":{\"data_source\":{\"id\":\"6310\"},\"glyph\":{\"id\":\"6313\"},\"hover_glyph\":null,\"muted_glyph\":{\"id\":\"6315\"},\"nonselection_glyph\":{\"id\":\"6314\"},\"selection_glyph\":null,\"view\":{\"id\":\"6317\"}},\"id\":\"6316\",\"type\":\"GlyphRenderer\"},{\"attributes\":{\"source\":{\"id\":\"6310\"}},\"id\":\"6317\",\"type\":\"CDSView\"},{\"attributes\":{\"callback\":null,\"renderers\":[{\"id\":\"6316\"}],\"tags\":[\"hv_created\"],\"tooltips\":[[\"State\",\"@{State}\"],[\"Invoice Amount\",\"@{Invoice_Amount}\"]]},\"id\":\"6280\",\"type\":\"HoverTool\"},{\"attributes\":{},\"id\":\"6320\",\"type\":\"CategoricalTickFormatter\"},{\"attributes\":{\"factors\":[\"AL\",\"LA\",\"GA\",\"NC\",\"CA\",\"KY\",\"NY\",\"UT\",\"IL\",\"TN\",\"DC\"],\"tags\":[[[\"State\",\"State\",null]]]},\"id\":\"6278\",\"type\":\"FactorRange\"},{\"attributes\":{\"align\":null,\"below\":[{\"id\":\"6290\"}],\"center\":[{\"id\":\"6292\"},{\"id\":\"6296\"}],\"left\":[{\"id\":\"6293\"}],\"margin\":null,\"min_border_bottom\":10,\"min_border_left\":10,\"min_border_right\":10,\"min_border_top\":10,\"plot_height\":800,\"plot_width\":1400,\"renderers\":[{\"id\":\"6316\"}],\"sizing_mode\":\"fixed\",\"title\":{\"id\":\"6282\"},\"toolbar\":{\"id\":\"6303\"},\"x_range\":{\"id\":\"6278\"},\"x_scale\":{\"id\":\"6286\"},\"y_range\":{\"id\":\"6279\"},\"y_scale\":{\"id\":\"6288\"}},\"id\":\"6281\",\"subtype\":\"Figure\",\"type\":\"Plot\"},{\"attributes\":{\"bottom_units\":\"screen\",\"fill_alpha\":0.5,\"fill_color\":\"lightgrey\",\"left_units\":\"screen\",\"level\":\"overlay\",\"line_alpha\":1.0,\"line_color\":\"black\",\"line_dash\":[4,4],\"line_width\":2,\"render_mode\":\"css\",\"right_units\":\"screen\",\"top_units\":\"screen\"},\"id\":\"6302\",\"type\":\"BoxAnnotation\"}],\"root_ids\":[\"6276\"]},\"title\":\"Bokeh Application\",\"version\":\"2.0.2\"}};\n  var render_items = [{\"docid\":\"99a69d3d-2fe9-4047-8d93-21a7c5442b85\",\"root_ids\":[\"6276\"],\"roots\":{\"6276\":\"56c101b0-eae8-438b-b941-07b81cb24106\"}}];\n  root.Bokeh.embed.embed_items_notebook(docs_json, render_items);\n  }\nif (root.Bokeh !== undefined) {\n    embed_document(root);\n  } else {\n    var attempts = 0;\n    var timer = setInterval(function(root) {\n      if (root.Bokeh !== undefined) {\n        clearInterval(timer);\n        embed_document(root);\n      } else if (document.readyState == \"complete\") {\n        attempts++;\n        if (attempts > 100) {\n          clearInterval(timer);\n          console.log(\"Bokeh: ERROR: Unable to run BokehJS code because BokehJS library is missing\");\n        }\n      }\n    }, 10, root)\n  }\n})(window);</script>",
      "application/vnd.holoviews_exec.v0+json": "",
      "text/plain": [
       ":Bars   [State]   (Invoice Amount)"
      ]
     },
     "metadata": {
      "application/vnd.holoviews_exec.v0+json": {
       "id": "6276"
      }
     },
     "execution_count": 93
    }
   ],
   "source": [
    "# Highest Income by State\n",
    "top10payingstates = customers_states.reset_index().groupby(\"State\").sum()[\"Invoice Amount\"].nlargest(11)\n",
    "top10payingstates.hvplot.bar(\n",
    "    title=\"Top 10 Highest Paying States of All Time out of 50 States\", \n",
    "    xlabel=\"States\", \n",
    "    ylabel=\"Total Invoiced ($)\",\n",
    "    figsize=(20,15), \n",
    "    subplots=True, \n",
    "    height=800,\n",
    "    grid=True,\n",
    "    width=1400).opts(yformatter='$%.0f', fontsize={'title': 25, 'labels': 20, 'xticks': 25, 'yticks': 20})"
   ]
  },
  {
   "cell_type": "code",
   "execution_count": 94,
   "metadata": {},
   "outputs": [
    {
     "output_type": "display_data",
     "data": {},
     "metadata": {}
    },
    {
     "output_type": "execute_result",
     "data": {
      "text/html": "<div id='6371'>\n\n\n\n\n\n  <div class=\"bk-root\" id=\"270e6341-a15e-4c79-97f3-48da3c6246e1\" data-root-id=\"6371\"></div>\n</div>\n<script type=\"application/javascript\">(function(root) {\n  function embed_document(root) {\n  var docs_json = {\"db4b5798-8870-487d-85c8-c74aea2e0f60\":{\"roots\":{\"references\":[{\"attributes\":{\"margin\":[5,5,5,5],\"name\":\"HSpacer10456\",\"sizing_mode\":\"stretch_width\"},\"id\":\"6372\",\"type\":\"Spacer\"},{\"attributes\":{\"children\":[{\"id\":\"6372\"},{\"id\":\"6380\"},{\"id\":\"6384\"}],\"margin\":[0,0,0,0],\"name\":\"Row10452\",\"tags\":[\"embedded\"]},\"id\":\"6371\",\"type\":\"Row\"},{\"attributes\":{\"columns\":[{\"id\":\"6377\"}],\"height\":300,\"reorderable\":false,\"source\":{\"id\":\"6373\"},\"view\":{\"id\":\"6381\"},\"width\":700},\"id\":\"6380\",\"type\":\"DataTable\"},{\"attributes\":{},\"id\":\"6374\",\"type\":\"Selection\"},{\"attributes\":{\"editor\":{\"id\":\"6376\"},\"field\":\"Invoice_Amount\",\"formatter\":{\"id\":\"6375\"},\"title\":\"Invoice Amount\"},\"id\":\"6377\",\"type\":\"TableColumn\"},{\"attributes\":{\"format\":\"0,0.0[00000]\"},\"id\":\"6375\",\"type\":\"NumberFormatter\"},{\"attributes\":{\"source\":{\"id\":\"6373\"}},\"id\":\"6381\",\"type\":\"CDSView\"},{\"attributes\":{\"margin\":[5,5,5,5],\"name\":\"HSpacer10457\",\"sizing_mode\":\"stretch_width\"},\"id\":\"6384\",\"type\":\"Spacer\"},{\"attributes\":{\"data\":{\"Invoice_Amount\":{\"__ndarray__\":\"MzMzM+0hE0EAAAAAwGYGQQAAAAB4RwNBAAAAABDUAkFmZmZmorwBQQAAAAAQnv1AAAAAAHCp/EAAAAAAAFL8QAAAAACYE/hAAAAAAEiX80AAAAAAgBfzQA==\",\"dtype\":\"float64\",\"shape\":[11]}},\"selected\":{\"id\":\"6374\"},\"selection_policy\":{\"id\":\"6383\"}},\"id\":\"6373\",\"type\":\"ColumnDataSource\"},{\"attributes\":{},\"id\":\"6376\",\"type\":\"NumberEditor\"},{\"attributes\":{},\"id\":\"6383\",\"type\":\"UnionRenderers\"}],\"root_ids\":[\"6371\"]},\"title\":\"Bokeh Application\",\"version\":\"2.0.2\"}};\n  var render_items = [{\"docid\":\"db4b5798-8870-487d-85c8-c74aea2e0f60\",\"root_ids\":[\"6371\"],\"roots\":{\"6371\":\"270e6341-a15e-4c79-97f3-48da3c6246e1\"}}];\n  root.Bokeh.embed.embed_items_notebook(docs_json, render_items);\n  }\nif (root.Bokeh !== undefined) {\n    embed_document(root);\n  } else {\n    var attempts = 0;\n    var timer = setInterval(function(root) {\n      if (root.Bokeh !== undefined) {\n        clearInterval(timer);\n        embed_document(root);\n      } else if (document.readyState == \"complete\") {\n        attempts++;\n        if (attempts > 100) {\n          clearInterval(timer);\n          console.log(\"Bokeh: ERROR: Unable to run BokehJS code because BokehJS library is missing\");\n        }\n      }\n    }, 10, root)\n  }\n})(window);</script>",
      "application/vnd.holoviews_exec.v0+json": "",
      "text/plain": [
       ":Table   [Invoice Amount]"
      ]
     },
     "metadata": {
      "application/vnd.holoviews_exec.v0+json": {
       "id": "6371"
      }
     },
     "execution_count": 94
    }
   ],
   "source": [
    "top10payingstates.hvplot.table()"
   ]
  },
  {
   "cell_type": "code",
   "execution_count": 95,
   "metadata": {},
   "outputs": [
    {
     "output_type": "display_data",
     "data": {},
     "metadata": {}
    },
    {
     "output_type": "execute_result",
     "data": {
      "text/html": "<div id='6396'>\n\n\n\n\n\n  <div class=\"bk-root\" id=\"7393b077-bfe4-44a0-b26d-956f45bcd8cf\" data-root-id=\"6396\"></div>\n</div>\n<script type=\"application/javascript\">(function(root) {\n  function embed_document(root) {\n  var docs_json = {\"abf11a4f-b3e7-4162-96dd-95df006af4e1\":{\"roots\":{\"references\":[{\"attributes\":{\"margin\":[5,5,5,5],\"name\":\"HSpacer10613\",\"sizing_mode\":\"stretch_width\"},\"id\":\"6454\",\"type\":\"Spacer\"},{\"attributes\":{\"end\":5255.0,\"reset_end\":5255.0,\"reset_start\":0.0,\"tags\":[[[\"Invoice Amount\",\"Invoice Amount\",null]]]},\"id\":\"6399\",\"type\":\"Range1d\"},{\"attributes\":{\"axis_label\":\"States\",\"axis_label_text_font_size\":\"20pt\",\"bounds\":\"auto\",\"formatter\":{\"id\":\"6440\"},\"group_text_font_size\":\"25pt\",\"major_label_orientation\":\"horizontal\",\"major_label_text_font_size\":\"25pt\",\"ticker\":{\"id\":\"6411\"}},\"id\":\"6410\",\"type\":\"CategoricalAxis\"},{\"attributes\":{},\"id\":\"6408\",\"type\":\"LinearScale\"},{\"attributes\":{\"axis_label\":\"Total Invoiced ($)\",\"axis_label_text_font_size\":\"20pt\",\"bounds\":\"auto\",\"formatter\":{\"id\":\"6438\"},\"major_label_orientation\":\"horizontal\",\"major_label_text_font_size\":\"20pt\",\"ticker\":{\"id\":\"6414\"}},\"id\":\"6413\",\"type\":\"LinearAxis\"},{\"attributes\":{},\"id\":\"6414\",\"type\":\"BasicTicker\"},{\"attributes\":{\"callback\":null,\"renderers\":[{\"id\":\"6436\"}],\"tags\":[\"hv_created\"],\"tooltips\":[[\"State\",\"@{State}\"],[\"Invoice Amount\",\"@{Invoice_Amount}\"]]},\"id\":\"6400\",\"type\":\"HoverTool\"},{\"attributes\":{\"axis\":{\"id\":\"6410\"},\"ticker\":{\"id\":\"6411\"}},\"id\":\"6412\",\"type\":\"Grid\"},{\"attributes\":{\"axis\":{\"id\":\"6413\"},\"dimension\":1,\"ticker\":{\"id\":\"6414\"}},\"id\":\"6416\",\"type\":\"Grid\"},{\"attributes\":{},\"id\":\"6411\",\"type\":\"CategoricalTicker\"},{\"attributes\":{},\"id\":\"6417\",\"type\":\"SaveTool\"},{\"attributes\":{},\"id\":\"6418\",\"type\":\"PanTool\"},{\"attributes\":{\"margin\":[5,5,5,5],\"name\":\"HSpacer10612\",\"sizing_mode\":\"stretch_width\"},\"id\":\"6397\",\"type\":\"Spacer\"},{\"attributes\":{\"data\":{\"Invoice_Amount\":{\"__ndarray__\":\"AAAAAABAb0AAAAAAAOCFQAAAAAAAUJRAAAAAAABwl0AAAAAAAHCXQAAAAAAAcKdAAAAAAABYq0AAAAAAAFivQAAAAAAAaLBAAAAAAABmsUAAAAAAAMCyQA==\",\"dtype\":\"float64\",\"shape\":[11]},\"State\":[\"GU\",\"OK\",\"NE\",\"MT\",\"SA\",\"NH\",\"DE\",\"Canada\",\"VT\",\"ND\",\"WY\"]},\"selected\":{\"id\":\"6431\"},\"selection_policy\":{\"id\":\"6452\"}},\"id\":\"6430\",\"type\":\"ColumnDataSource\"},{\"attributes\":{},\"id\":\"6419\",\"type\":\"WheelZoomTool\"},{\"attributes\":{\"children\":[{\"id\":\"6397\"},{\"id\":\"6401\"},{\"id\":\"6454\"}],\"margin\":[0,0,0,0],\"name\":\"Row10608\",\"tags\":[\"embedded\"]},\"id\":\"6396\",\"type\":\"Row\"},{\"attributes\":{\"overlay\":{\"id\":\"6422\"}},\"id\":\"6420\",\"type\":\"BoxZoomTool\"},{\"attributes\":{},\"id\":\"6421\",\"type\":\"ResetTool\"},{\"attributes\":{\"active_drag\":\"auto\",\"active_inspect\":\"auto\",\"active_multi\":null,\"active_scroll\":\"auto\",\"active_tap\":\"auto\",\"tools\":[{\"id\":\"6400\"},{\"id\":\"6417\"},{\"id\":\"6418\"},{\"id\":\"6419\"},{\"id\":\"6420\"},{\"id\":\"6421\"}]},\"id\":\"6423\",\"type\":\"Toolbar\"},{\"attributes\":{\"fill_alpha\":{\"value\":0.1},\"fill_color\":{\"value\":\"#1f77b3\"},\"line_alpha\":{\"value\":0.1},\"top\":{\"field\":\"Invoice_Amount\"},\"width\":{\"value\":0.8},\"x\":{\"field\":\"State\"}},\"id\":\"6434\",\"type\":\"VBar\"},{\"attributes\":{},\"id\":\"6431\",\"type\":\"Selection\"},{\"attributes\":{\"align\":null,\"below\":[{\"id\":\"6410\"}],\"center\":[{\"id\":\"6412\"},{\"id\":\"6416\"}],\"left\":[{\"id\":\"6413\"}],\"margin\":null,\"min_border_bottom\":10,\"min_border_left\":10,\"min_border_right\":10,\"min_border_top\":10,\"plot_height\":800,\"plot_width\":1400,\"renderers\":[{\"id\":\"6436\"}],\"sizing_mode\":\"fixed\",\"title\":{\"id\":\"6402\"},\"toolbar\":{\"id\":\"6423\"},\"x_range\":{\"id\":\"6398\"},\"x_scale\":{\"id\":\"6406\"},\"y_range\":{\"id\":\"6399\"},\"y_scale\":{\"id\":\"6408\"}},\"id\":\"6401\",\"subtype\":\"Figure\",\"type\":\"Plot\"},{\"attributes\":{\"fill_color\":{\"value\":\"#1f77b3\"},\"top\":{\"field\":\"Invoice_Amount\"},\"width\":{\"value\":0.8},\"x\":{\"field\":\"State\"}},\"id\":\"6433\",\"type\":\"VBar\"},{\"attributes\":{\"factors\":[\"GU\",\"OK\",\"NE\",\"MT\",\"SA\",\"NH\",\"DE\",\"Canada\",\"VT\",\"ND\",\"WY\"],\"tags\":[[[\"State\",\"State\",null]]]},\"id\":\"6398\",\"type\":\"FactorRange\"},{\"attributes\":{\"fill_alpha\":{\"value\":0.2},\"fill_color\":{\"value\":\"#1f77b3\"},\"line_alpha\":{\"value\":0.2},\"top\":{\"field\":\"Invoice_Amount\"},\"width\":{\"value\":0.8},\"x\":{\"field\":\"State\"}},\"id\":\"6435\",\"type\":\"VBar\"},{\"attributes\":{},\"id\":\"6452\",\"type\":\"UnionRenderers\"},{\"attributes\":{\"data_source\":{\"id\":\"6430\"},\"glyph\":{\"id\":\"6433\"},\"hover_glyph\":null,\"muted_glyph\":{\"id\":\"6435\"},\"nonselection_glyph\":{\"id\":\"6434\"},\"selection_glyph\":null,\"view\":{\"id\":\"6437\"}},\"id\":\"6436\",\"type\":\"GlyphRenderer\"},{\"attributes\":{\"source\":{\"id\":\"6430\"}},\"id\":\"6437\",\"type\":\"CDSView\"},{\"attributes\":{\"format\":\"$%.0f\"},\"id\":\"6438\",\"type\":\"PrintfTickFormatter\"},{\"attributes\":{\"text\":\"Top 10 Lowest Paying States of All Time out of 50 States\",\"text_color\":{\"value\":\"black\"},\"text_font_size\":{\"value\":\"25pt\"}},\"id\":\"6402\",\"type\":\"Title\"},{\"attributes\":{},\"id\":\"6440\",\"type\":\"CategoricalTickFormatter\"},{\"attributes\":{},\"id\":\"6406\",\"type\":\"CategoricalScale\"},{\"attributes\":{\"bottom_units\":\"screen\",\"fill_alpha\":0.5,\"fill_color\":\"lightgrey\",\"left_units\":\"screen\",\"level\":\"overlay\",\"line_alpha\":1.0,\"line_color\":\"black\",\"line_dash\":[4,4],\"line_width\":2,\"render_mode\":\"css\",\"right_units\":\"screen\",\"top_units\":\"screen\"},\"id\":\"6422\",\"type\":\"BoxAnnotation\"}],\"root_ids\":[\"6396\"]},\"title\":\"Bokeh Application\",\"version\":\"2.0.2\"}};\n  var render_items = [{\"docid\":\"abf11a4f-b3e7-4162-96dd-95df006af4e1\",\"root_ids\":[\"6396\"],\"roots\":{\"6396\":\"7393b077-bfe4-44a0-b26d-956f45bcd8cf\"}}];\n  root.Bokeh.embed.embed_items_notebook(docs_json, render_items);\n  }\nif (root.Bokeh !== undefined) {\n    embed_document(root);\n  } else {\n    var attempts = 0;\n    var timer = setInterval(function(root) {\n      if (root.Bokeh !== undefined) {\n        clearInterval(timer);\n        embed_document(root);\n      } else if (document.readyState == \"complete\") {\n        attempts++;\n        if (attempts > 100) {\n          clearInterval(timer);\n          console.log(\"Bokeh: ERROR: Unable to run BokehJS code because BokehJS library is missing\");\n        }\n      }\n    }, 10, root)\n  }\n})(window);</script>",
      "application/vnd.holoviews_exec.v0+json": "",
      "text/plain": [
       ":Bars   [State]   (Invoice Amount)"
      ]
     },
     "metadata": {
      "application/vnd.holoviews_exec.v0+json": {
       "id": "6396"
      }
     },
     "execution_count": 95
    }
   ],
   "source": [
    "# Lowest Income by State\n",
    "top10lowpayingstates = customers_states.reset_index().groupby(\"State\").sum()[\"Invoice Amount\"].nsmallest(11)\n",
    "top10lowpayingstates.hvplot.bar(\n",
    "    title=\"Top 10 Lowest Paying States of All Time out of 50 States\", \n",
    "    xlabel=\"States\", \n",
    "    ylabel=\"Total Invoiced ($)\",\n",
    "    figsize=(20,15), \n",
    "    subplots=True, \n",
    "    height=800,\n",
    "    grid=True,\n",
    "    width=1400).opts(yformatter='$%.0f', fontsize={'title': 25, 'labels': 20, 'xticks': 25, 'yticks': 20})"
   ]
  },
  {
   "cell_type": "code",
   "execution_count": 96,
   "metadata": {},
   "outputs": [
    {
     "output_type": "display_data",
     "data": {},
     "metadata": {}
    },
    {
     "output_type": "execute_result",
     "data": {
      "text/html": "<div id='6491'>\n\n\n\n\n\n  <div class=\"bk-root\" id=\"8d850b40-b835-4523-aa25-ea4f1600c4a5\" data-root-id=\"6491\"></div>\n</div>\n<script type=\"application/javascript\">(function(root) {\n  function embed_document(root) {\n  var docs_json = {\"9da50642-df7a-45d2-9b77-d420ce5ed2d9\":{\"roots\":{\"references\":[{\"attributes\":{\"margin\":[5,5,5,5],\"name\":\"HSpacer10740\",\"sizing_mode\":\"stretch_width\"},\"id\":\"6504\",\"type\":\"Spacer\"},{\"attributes\":{},\"id\":\"6494\",\"type\":\"Selection\"},{\"attributes\":{\"editor\":{\"id\":\"6496\"},\"field\":\"Invoice_Amount\",\"formatter\":{\"id\":\"6495\"},\"title\":\"Invoice Amount\"},\"id\":\"6497\",\"type\":\"TableColumn\"},{\"attributes\":{\"format\":\"0,0.0[00000]\"},\"id\":\"6495\",\"type\":\"NumberFormatter\"},{\"attributes\":{\"source\":{\"id\":\"6493\"}},\"id\":\"6501\",\"type\":\"CDSView\"},{\"attributes\":{\"margin\":[5,5,5,5],\"name\":\"HSpacer10739\",\"sizing_mode\":\"stretch_width\"},\"id\":\"6492\",\"type\":\"Spacer\"},{\"attributes\":{\"children\":[{\"id\":\"6492\"},{\"id\":\"6500\"},{\"id\":\"6504\"}],\"margin\":[0,0,0,0],\"name\":\"Row10735\",\"tags\":[\"embedded\"]},\"id\":\"6491\",\"type\":\"Row\"},{\"attributes\":{},\"id\":\"6496\",\"type\":\"NumberEditor\"},{\"attributes\":{\"columns\":[{\"id\":\"6497\"}],\"height\":300,\"reorderable\":false,\"source\":{\"id\":\"6493\"},\"view\":{\"id\":\"6501\"},\"width\":700},\"id\":\"6500\",\"type\":\"DataTable\"},{\"attributes\":{\"data\":{\"Invoice_Amount\":{\"__ndarray__\":\"AAAAAABAb0AAAAAAAOCFQAAAAAAAUJRAAAAAAABwl0AAAAAAAHCXQAAAAAAAcKdAAAAAAABYq0AAAAAAAFivQAAAAAAAaLBAAAAAAABmsUAAAAAAAMCyQA==\",\"dtype\":\"float64\",\"shape\":[11]}},\"selected\":{\"id\":\"6494\"},\"selection_policy\":{\"id\":\"6503\"}},\"id\":\"6493\",\"type\":\"ColumnDataSource\"},{\"attributes\":{},\"id\":\"6503\",\"type\":\"UnionRenderers\"}],\"root_ids\":[\"6491\"]},\"title\":\"Bokeh Application\",\"version\":\"2.0.2\"}};\n  var render_items = [{\"docid\":\"9da50642-df7a-45d2-9b77-d420ce5ed2d9\",\"root_ids\":[\"6491\"],\"roots\":{\"6491\":\"8d850b40-b835-4523-aa25-ea4f1600c4a5\"}}];\n  root.Bokeh.embed.embed_items_notebook(docs_json, render_items);\n  }\nif (root.Bokeh !== undefined) {\n    embed_document(root);\n  } else {\n    var attempts = 0;\n    var timer = setInterval(function(root) {\n      if (root.Bokeh !== undefined) {\n        clearInterval(timer);\n        embed_document(root);\n      } else if (document.readyState == \"complete\") {\n        attempts++;\n        if (attempts > 100) {\n          clearInterval(timer);\n          console.log(\"Bokeh: ERROR: Unable to run BokehJS code because BokehJS library is missing\");\n        }\n      }\n    }, 10, root)\n  }\n})(window);</script>",
      "application/vnd.holoviews_exec.v0+json": "",
      "text/plain": [
       ":Table   [Invoice Amount]"
      ]
     },
     "metadata": {
      "application/vnd.holoviews_exec.v0+json": {
       "id": "6491"
      }
     },
     "execution_count": 96
    }
   ],
   "source": [
    "top10lowpayingstates.hvplot.table()"
   ]
  },
  {
   "cell_type": "code",
   "execution_count": 97,
   "metadata": {},
   "outputs": [],
   "source": [
    "# Functions\n",
    "\n",
    "import pandas as pd\n",
    "import plotly as px\n",
    "import hvplot.pandas\n",
    "import matplotlib.pyplot as plt\n",
    "import panel as pn\n",
    "import plotly.express as px\n",
    "\n",
    "def generate_plot__px_bar(\n",
    "    data, x, y, color,                  # Data\n",
    "    title, xlabel=None, ylabel=None,    # Labels\n",
    "    barmode=None, width=None, height=None, rot=None    # Display options\n",
    "    ):\n",
    "\n",
    "    # Defaults\n",
    "    if barmode is None:\n",
    "        barmode=\"stack\"\n",
    "\n",
    "    # Build plot\n",
    "    plt_ = px.bar(\n",
    "        data, x=x, y=y, color=color,\n",
    "        title=title,\n",
    "        barmode=barmode\n",
    "        )\n",
    "    \n",
    "    # Optional parameters\n",
    "    if xlabel is not None:\n",
    "        plt_.update_xaxes(title_text=xlabel)\n",
    "    if ylabel is not None:\n",
    "        plt_.update_yaxes(title_text=ylabel)\n",
    "\n",
    "    if width is not None:\n",
    "        plt_.update_layout(width=width)\n",
    "    if height is not None:\n",
    "        plt_.update_layout(height=height)\n",
    "    if rot is not None:\n",
    "        plt_.update_xaxes(tickangle=rot)\n",
    "\n",
    "    # plt_.update_layout(\n",
    "    #     margin=dict(l=20, r=20, t=20, b=20),\n",
    "    #     paper_bgcolor=\"LightSteelBlue\",\n",
    "    # )\n",
    "\n",
    "    return plt_\n",
    "\n",
    "def generate_plot__hvplot_bar(\n",
    "    data,                  # Data\n",
    "    title, xlabel, ylabel,    # Labels\n",
    "    stacked=False, rot=0, width=None, height=None, yformatter=\"%f\"    # Display options\n",
    "    ):\n",
    "\n",
    "    # Defaults\n",
    "\n",
    "\n",
    "    # Build plot\n",
    "    if (width is not None) and (height is not None):\n",
    "        plt_ = data.hvplot.bar(\n",
    "            title=title, xlabel=xlabel, ylabel=ylabel,\n",
    "            stacked=stacked, width=width, height=height, rot=rot\n",
    "            ).opts(yformatter=yformatter)\n",
    "    else:\n",
    "        plt_ = data.hvplot.bar(\n",
    "            title=title, xlabel=xlabel, ylabel=ylabel,\n",
    "            stacked=stacked, rot=rot\n",
    "            ).opts(yformatter=yformatter)\n",
    "\n",
    "    return plt_\n",
    "    \n",
    "def generate_plot__hvplot_line(\n",
    "    data,                  # Data\n",
    "    title, xlabel, ylabel,    # Labels\n",
    "    rot=0, width=None, height=None, yformatter=\"%f\"    # Display options\n",
    "    ):\n",
    "\n",
    "\n",
    "    # Build plot\n",
    "    if (width is not None) and (height is not None):\n",
    "        plt_ = data.hvplot.line(\n",
    "            title=title, xlabel=xlabel, ylabel=ylabel,\n",
    "            width=width, height=height, rot=rot\n",
    "            ).opts(yformatter=yformatter)\n",
    "    else:\n",
    "        plt_ = data.hvplot.line(\n",
    "            title=title, xlabel=xlabel, ylabel=ylabel,\n",
    "            rot=rot\n",
    "            ).opts(yformatter=yformatter)\n",
    "\n",
    "    return plt_\n"
   ]
  },
  {
   "cell_type": "code",
   "execution_count": 98,
   "metadata": {},
   "outputs": [],
   "source": [
    "customers_subscriptions = atlas.loc[:, ['Customers', 'Invoice Date', 'Invoice Amount', 'Year', 'Subscription', 'Number of Users']]"
   ]
  },
  {
   "cell_type": "code",
   "execution_count": 99,
   "metadata": {},
   "outputs": [
    {
     "output_type": "display_data",
     "data": {
      "application/vnd.plotly.v1+json": {
       "config": {
        "plotlyServerURL": "https://plot.ly"
       },
       "data": [
        {
         "alignmentgroup": "True",
         "hovertemplate": "Subscription=1 Year<br>Year=%{x}<br>Invoice Amount=%{y}<extra></extra>",
         "legendgroup": "1 Year",
         "marker": {
          "color": "#636efa"
         },
         "name": "1 Year",
         "offsetgroup": "1 Year",
         "orientation": "v",
         "showlegend": true,
         "textposition": "auto",
         "type": "bar",
         "x": [
          2015,
          2016,
          2017,
          2018,
          2019,
          2020
         ],
         "xaxis": "x",
         "y": [
          20435,
          3217.0454545454545,
          3647.6190476190477,
          3276.730769230769,
          3066.206896551724,
          3164.2356595744686
         ],
         "yaxis": "y"
        },
        {
         "alignmentgroup": "True",
         "hovertemplate": "Subscription=3 Years<br>Year=%{x}<br>Invoice Amount=%{y}<extra></extra>",
         "legendgroup": "3 Years",
         "marker": {
          "color": "#EF553B"
         },
         "name": "3 Years",
         "offsetgroup": "3 Years",
         "orientation": "v",
         "showlegend": true,
         "textposition": "auto",
         "type": "bar",
         "x": [
          2016,
          2017,
          2018,
          2019,
          2020
         ],
         "xaxis": "x",
         "y": [
          9954.545454545454,
          9768.384615384615,
          6652.727272727273,
          4498.928571428572,
          5429
         ],
         "yaxis": "y"
        },
        {
         "alignmentgroup": "True",
         "hovertemplate": "Subscription=2 Years<br>Year=%{x}<br>Invoice Amount=%{y}<extra></extra>",
         "legendgroup": "2 Years",
         "marker": {
          "color": "#00cc96"
         },
         "name": "2 Years",
         "offsetgroup": "2 Years",
         "orientation": "v",
         "showlegend": true,
         "textposition": "auto",
         "type": "bar",
         "x": [
          2017,
          2019
         ],
         "xaxis": "x",
         "y": [
          6750,
          16000
         ],
         "yaxis": "y"
        },
        {
         "alignmentgroup": "True",
         "hovertemplate": "Subscription=6 Months<br>Year=%{x}<br>Invoice Amount=%{y}<extra></extra>",
         "legendgroup": "6 Months",
         "marker": {
          "color": "#ab63fa"
         },
         "name": "6 Months",
         "offsetgroup": "6 Months",
         "orientation": "v",
         "showlegend": true,
         "textposition": "auto",
         "type": "bar",
         "x": [
          2019,
          2020
         ],
         "xaxis": "x",
         "y": [
          1250,
          1623.767857142857
         ],
         "yaxis": "y"
        },
        {
         "alignmentgroup": "True",
         "hovertemplate": "Subscription=3 Months<br>Year=%{x}<br>Invoice Amount=%{y}<extra></extra>",
         "legendgroup": "3 Months",
         "marker": {
          "color": "#FFA15A"
         },
         "name": "3 Months",
         "offsetgroup": "3 Months",
         "orientation": "v",
         "showlegend": true,
         "textposition": "auto",
         "type": "bar",
         "x": [
          2020
         ],
         "xaxis": "x",
         "y": [
          1061.5784873949578
         ],
         "yaxis": "y"
        },
        {
         "alignmentgroup": "True",
         "hovertemplate": "Subscription=30 Days<br>Year=%{x}<br>Invoice Amount=%{y}<extra></extra>",
         "legendgroup": "30 Days",
         "marker": {
          "color": "#19d3f3"
         },
         "name": "30 Days",
         "offsetgroup": "30 Days",
         "orientation": "v",
         "showlegend": true,
         "textposition": "auto",
         "type": "bar",
         "x": [
          2020
         ],
         "xaxis": "x",
         "y": [
          200
         ],
         "yaxis": "y"
        }
       ],
       "layout": {
        "barmode": "group",
        "height": 600,
        "legend": {
         "title": {
          "text": "Subscription"
         },
         "tracegroupgap": 0
        },
        "template": {
         "data": {
          "bar": [
           {
            "error_x": {
             "color": "#2a3f5f"
            },
            "error_y": {
             "color": "#2a3f5f"
            },
            "marker": {
             "line": {
              "color": "#E5ECF6",
              "width": 0.5
             }
            },
            "type": "bar"
           }
          ],
          "barpolar": [
           {
            "marker": {
             "line": {
              "color": "#E5ECF6",
              "width": 0.5
             }
            },
            "type": "barpolar"
           }
          ],
          "carpet": [
           {
            "aaxis": {
             "endlinecolor": "#2a3f5f",
             "gridcolor": "white",
             "linecolor": "white",
             "minorgridcolor": "white",
             "startlinecolor": "#2a3f5f"
            },
            "baxis": {
             "endlinecolor": "#2a3f5f",
             "gridcolor": "white",
             "linecolor": "white",
             "minorgridcolor": "white",
             "startlinecolor": "#2a3f5f"
            },
            "type": "carpet"
           }
          ],
          "choropleth": [
           {
            "colorbar": {
             "outlinewidth": 0,
             "ticks": ""
            },
            "type": "choropleth"
           }
          ],
          "contour": [
           {
            "colorbar": {
             "outlinewidth": 0,
             "ticks": ""
            },
            "colorscale": [
             [
              0,
              "#0d0887"
             ],
             [
              0.1111111111111111,
              "#46039f"
             ],
             [
              0.2222222222222222,
              "#7201a8"
             ],
             [
              0.3333333333333333,
              "#9c179e"
             ],
             [
              0.4444444444444444,
              "#bd3786"
             ],
             [
              0.5555555555555556,
              "#d8576b"
             ],
             [
              0.6666666666666666,
              "#ed7953"
             ],
             [
              0.7777777777777778,
              "#fb9f3a"
             ],
             [
              0.8888888888888888,
              "#fdca26"
             ],
             [
              1,
              "#f0f921"
             ]
            ],
            "type": "contour"
           }
          ],
          "contourcarpet": [
           {
            "colorbar": {
             "outlinewidth": 0,
             "ticks": ""
            },
            "type": "contourcarpet"
           }
          ],
          "heatmap": [
           {
            "colorbar": {
             "outlinewidth": 0,
             "ticks": ""
            },
            "colorscale": [
             [
              0,
              "#0d0887"
             ],
             [
              0.1111111111111111,
              "#46039f"
             ],
             [
              0.2222222222222222,
              "#7201a8"
             ],
             [
              0.3333333333333333,
              "#9c179e"
             ],
             [
              0.4444444444444444,
              "#bd3786"
             ],
             [
              0.5555555555555556,
              "#d8576b"
             ],
             [
              0.6666666666666666,
              "#ed7953"
             ],
             [
              0.7777777777777778,
              "#fb9f3a"
             ],
             [
              0.8888888888888888,
              "#fdca26"
             ],
             [
              1,
              "#f0f921"
             ]
            ],
            "type": "heatmap"
           }
          ],
          "heatmapgl": [
           {
            "colorbar": {
             "outlinewidth": 0,
             "ticks": ""
            },
            "colorscale": [
             [
              0,
              "#0d0887"
             ],
             [
              0.1111111111111111,
              "#46039f"
             ],
             [
              0.2222222222222222,
              "#7201a8"
             ],
             [
              0.3333333333333333,
              "#9c179e"
             ],
             [
              0.4444444444444444,
              "#bd3786"
             ],
             [
              0.5555555555555556,
              "#d8576b"
             ],
             [
              0.6666666666666666,
              "#ed7953"
             ],
             [
              0.7777777777777778,
              "#fb9f3a"
             ],
             [
              0.8888888888888888,
              "#fdca26"
             ],
             [
              1,
              "#f0f921"
             ]
            ],
            "type": "heatmapgl"
           }
          ],
          "histogram": [
           {
            "marker": {
             "colorbar": {
              "outlinewidth": 0,
              "ticks": ""
             }
            },
            "type": "histogram"
           }
          ],
          "histogram2d": [
           {
            "colorbar": {
             "outlinewidth": 0,
             "ticks": ""
            },
            "colorscale": [
             [
              0,
              "#0d0887"
             ],
             [
              0.1111111111111111,
              "#46039f"
             ],
             [
              0.2222222222222222,
              "#7201a8"
             ],
             [
              0.3333333333333333,
              "#9c179e"
             ],
             [
              0.4444444444444444,
              "#bd3786"
             ],
             [
              0.5555555555555556,
              "#d8576b"
             ],
             [
              0.6666666666666666,
              "#ed7953"
             ],
             [
              0.7777777777777778,
              "#fb9f3a"
             ],
             [
              0.8888888888888888,
              "#fdca26"
             ],
             [
              1,
              "#f0f921"
             ]
            ],
            "type": "histogram2d"
           }
          ],
          "histogram2dcontour": [
           {
            "colorbar": {
             "outlinewidth": 0,
             "ticks": ""
            },
            "colorscale": [
             [
              0,
              "#0d0887"
             ],
             [
              0.1111111111111111,
              "#46039f"
             ],
             [
              0.2222222222222222,
              "#7201a8"
             ],
             [
              0.3333333333333333,
              "#9c179e"
             ],
             [
              0.4444444444444444,
              "#bd3786"
             ],
             [
              0.5555555555555556,
              "#d8576b"
             ],
             [
              0.6666666666666666,
              "#ed7953"
             ],
             [
              0.7777777777777778,
              "#fb9f3a"
             ],
             [
              0.8888888888888888,
              "#fdca26"
             ],
             [
              1,
              "#f0f921"
             ]
            ],
            "type": "histogram2dcontour"
           }
          ],
          "mesh3d": [
           {
            "colorbar": {
             "outlinewidth": 0,
             "ticks": ""
            },
            "type": "mesh3d"
           }
          ],
          "parcoords": [
           {
            "line": {
             "colorbar": {
              "outlinewidth": 0,
              "ticks": ""
             }
            },
            "type": "parcoords"
           }
          ],
          "pie": [
           {
            "automargin": true,
            "type": "pie"
           }
          ],
          "scatter": [
           {
            "marker": {
             "colorbar": {
              "outlinewidth": 0,
              "ticks": ""
             }
            },
            "type": "scatter"
           }
          ],
          "scatter3d": [
           {
            "line": {
             "colorbar": {
              "outlinewidth": 0,
              "ticks": ""
             }
            },
            "marker": {
             "colorbar": {
              "outlinewidth": 0,
              "ticks": ""
             }
            },
            "type": "scatter3d"
           }
          ],
          "scattercarpet": [
           {
            "marker": {
             "colorbar": {
              "outlinewidth": 0,
              "ticks": ""
             }
            },
            "type": "scattercarpet"
           }
          ],
          "scattergeo": [
           {
            "marker": {
             "colorbar": {
              "outlinewidth": 0,
              "ticks": ""
             }
            },
            "type": "scattergeo"
           }
          ],
          "scattergl": [
           {
            "marker": {
             "colorbar": {
              "outlinewidth": 0,
              "ticks": ""
             }
            },
            "type": "scattergl"
           }
          ],
          "scattermapbox": [
           {
            "marker": {
             "colorbar": {
              "outlinewidth": 0,
              "ticks": ""
             }
            },
            "type": "scattermapbox"
           }
          ],
          "scatterpolar": [
           {
            "marker": {
             "colorbar": {
              "outlinewidth": 0,
              "ticks": ""
             }
            },
            "type": "scatterpolar"
           }
          ],
          "scatterpolargl": [
           {
            "marker": {
             "colorbar": {
              "outlinewidth": 0,
              "ticks": ""
             }
            },
            "type": "scatterpolargl"
           }
          ],
          "scatterternary": [
           {
            "marker": {
             "colorbar": {
              "outlinewidth": 0,
              "ticks": ""
             }
            },
            "type": "scatterternary"
           }
          ],
          "surface": [
           {
            "colorbar": {
             "outlinewidth": 0,
             "ticks": ""
            },
            "colorscale": [
             [
              0,
              "#0d0887"
             ],
             [
              0.1111111111111111,
              "#46039f"
             ],
             [
              0.2222222222222222,
              "#7201a8"
             ],
             [
              0.3333333333333333,
              "#9c179e"
             ],
             [
              0.4444444444444444,
              "#bd3786"
             ],
             [
              0.5555555555555556,
              "#d8576b"
             ],
             [
              0.6666666666666666,
              "#ed7953"
             ],
             [
              0.7777777777777778,
              "#fb9f3a"
             ],
             [
              0.8888888888888888,
              "#fdca26"
             ],
             [
              1,
              "#f0f921"
             ]
            ],
            "type": "surface"
           }
          ],
          "table": [
           {
            "cells": {
             "fill": {
              "color": "#EBF0F8"
             },
             "line": {
              "color": "white"
             }
            },
            "header": {
             "fill": {
              "color": "#C8D4E3"
             },
             "line": {
              "color": "white"
             }
            },
            "type": "table"
           }
          ]
         },
         "layout": {
          "annotationdefaults": {
           "arrowcolor": "#2a3f5f",
           "arrowhead": 0,
           "arrowwidth": 1
          },
          "coloraxis": {
           "colorbar": {
            "outlinewidth": 0,
            "ticks": ""
           }
          },
          "colorscale": {
           "diverging": [
            [
             0,
             "#8e0152"
            ],
            [
             0.1,
             "#c51b7d"
            ],
            [
             0.2,
             "#de77ae"
            ],
            [
             0.3,
             "#f1b6da"
            ],
            [
             0.4,
             "#fde0ef"
            ],
            [
             0.5,
             "#f7f7f7"
            ],
            [
             0.6,
             "#e6f5d0"
            ],
            [
             0.7,
             "#b8e186"
            ],
            [
             0.8,
             "#7fbc41"
            ],
            [
             0.9,
             "#4d9221"
            ],
            [
             1,
             "#276419"
            ]
           ],
           "sequential": [
            [
             0,
             "#0d0887"
            ],
            [
             0.1111111111111111,
             "#46039f"
            ],
            [
             0.2222222222222222,
             "#7201a8"
            ],
            [
             0.3333333333333333,
             "#9c179e"
            ],
            [
             0.4444444444444444,
             "#bd3786"
            ],
            [
             0.5555555555555556,
             "#d8576b"
            ],
            [
             0.6666666666666666,
             "#ed7953"
            ],
            [
             0.7777777777777778,
             "#fb9f3a"
            ],
            [
             0.8888888888888888,
             "#fdca26"
            ],
            [
             1,
             "#f0f921"
            ]
           ],
           "sequentialminus": [
            [
             0,
             "#0d0887"
            ],
            [
             0.1111111111111111,
             "#46039f"
            ],
            [
             0.2222222222222222,
             "#7201a8"
            ],
            [
             0.3333333333333333,
             "#9c179e"
            ],
            [
             0.4444444444444444,
             "#bd3786"
            ],
            [
             0.5555555555555556,
             "#d8576b"
            ],
            [
             0.6666666666666666,
             "#ed7953"
            ],
            [
             0.7777777777777778,
             "#fb9f3a"
            ],
            [
             0.8888888888888888,
             "#fdca26"
            ],
            [
             1,
             "#f0f921"
            ]
           ]
          },
          "colorway": [
           "#636efa",
           "#EF553B",
           "#00cc96",
           "#ab63fa",
           "#FFA15A",
           "#19d3f3",
           "#FF6692",
           "#B6E880",
           "#FF97FF",
           "#FECB52"
          ],
          "font": {
           "color": "#2a3f5f"
          },
          "geo": {
           "bgcolor": "white",
           "lakecolor": "white",
           "landcolor": "#E5ECF6",
           "showlakes": true,
           "showland": true,
           "subunitcolor": "white"
          },
          "hoverlabel": {
           "align": "left"
          },
          "hovermode": "closest",
          "mapbox": {
           "style": "light"
          },
          "paper_bgcolor": "white",
          "plot_bgcolor": "#E5ECF6",
          "polar": {
           "angularaxis": {
            "gridcolor": "white",
            "linecolor": "white",
            "ticks": ""
           },
           "bgcolor": "#E5ECF6",
           "radialaxis": {
            "gridcolor": "white",
            "linecolor": "white",
            "ticks": ""
           }
          },
          "scene": {
           "xaxis": {
            "backgroundcolor": "#E5ECF6",
            "gridcolor": "white",
            "gridwidth": 2,
            "linecolor": "white",
            "showbackground": true,
            "ticks": "",
            "zerolinecolor": "white"
           },
           "yaxis": {
            "backgroundcolor": "#E5ECF6",
            "gridcolor": "white",
            "gridwidth": 2,
            "linecolor": "white",
            "showbackground": true,
            "ticks": "",
            "zerolinecolor": "white"
           },
           "zaxis": {
            "backgroundcolor": "#E5ECF6",
            "gridcolor": "white",
            "gridwidth": 2,
            "linecolor": "white",
            "showbackground": true,
            "ticks": "",
            "zerolinecolor": "white"
           }
          },
          "shapedefaults": {
           "line": {
            "color": "#2a3f5f"
           }
          },
          "ternary": {
           "aaxis": {
            "gridcolor": "white",
            "linecolor": "white",
            "ticks": ""
           },
           "baxis": {
            "gridcolor": "white",
            "linecolor": "white",
            "ticks": ""
           },
           "bgcolor": "#E5ECF6",
           "caxis": {
            "gridcolor": "white",
            "linecolor": "white",
            "ticks": ""
           }
          },
          "title": {
           "x": 0.05
          },
          "xaxis": {
           "automargin": true,
           "gridcolor": "white",
           "linecolor": "white",
           "ticks": "",
           "title": {
            "standoff": 15
           },
           "zerolinecolor": "white",
           "zerolinewidth": 2
          },
          "yaxis": {
           "automargin": true,
           "gridcolor": "white",
           "linecolor": "white",
           "ticks": "",
           "title": {
            "standoff": 15
           },
           "zerolinecolor": "white",
           "zerolinewidth": 2
          }
         }
        },
        "title": {
         "text": "Avgerage of Sales and User Accounts: 2015 - 2020"
        },
        "width": 1000,
        "xaxis": {
         "anchor": "y",
         "domain": [
          0,
          1
         ],
         "title": {
          "text": "Number of Year"
         }
        },
        "yaxis": {
         "anchor": "x",
         "domain": [
          0,
          1
         ],
         "title": {
          "text": "Sale Amount over Number of Users"
         }
        }
       }
      }
     },
     "metadata": {}
    },
    {
     "output_type": "display_data",
     "data": {
      "application/vnd.plotly.v1+json": {
       "config": {
        "plotlyServerURL": "https://plot.ly"
       },
       "data": [
        {
         "alignmentgroup": "True",
         "hovertemplate": "Subscription=1 Year<br>Year=%{x}<br>Invoice Amount=%{y}<extra></extra>",
         "legendgroup": "1 Year",
         "marker": {
          "color": "#636efa"
         },
         "name": "1 Year",
         "offsetgroup": "1 Year",
         "orientation": "v",
         "showlegend": true,
         "textposition": "auto",
         "type": "bar",
         "x": [
          2015,
          2016,
          2017,
          2018,
          2019,
          2020
         ],
         "xaxis": "x",
         "y": [
          204350,
          141550,
          153200,
          170390,
          177840,
          743595.3800000001
         ],
         "yaxis": "y"
        },
        {
         "alignmentgroup": "True",
         "hovertemplate": "Subscription=3 Years<br>Year=%{x}<br>Invoice Amount=%{y}<extra></extra>",
         "legendgroup": "3 Years",
         "marker": {
          "color": "#EF553B"
         },
         "name": "3 Years",
         "offsetgroup": "3 Years",
         "orientation": "v",
         "showlegend": true,
         "textposition": "auto",
         "type": "bar",
         "x": [
          2016,
          2017,
          2018,
          2019,
          2020
         ],
         "xaxis": "x",
         "y": [
          109500,
          126989,
          73180,
          62985,
          152012
         ],
         "yaxis": "y"
        },
        {
         "alignmentgroup": "True",
         "hovertemplate": "Subscription=2 Years<br>Year=%{x}<br>Invoice Amount=%{y}<extra></extra>",
         "legendgroup": "2 Years",
         "marker": {
          "color": "#00cc96"
         },
         "name": "2 Years",
         "offsetgroup": "2 Years",
         "orientation": "v",
         "showlegend": true,
         "textposition": "auto",
         "type": "bar",
         "x": [
          2017,
          2019
         ],
         "xaxis": "x",
         "y": [
          13500,
          16000
         ],
         "yaxis": "y"
        },
        {
         "alignmentgroup": "True",
         "hovertemplate": "Subscription=6 Months<br>Year=%{x}<br>Invoice Amount=%{y}<extra></extra>",
         "legendgroup": "6 Months",
         "marker": {
          "color": "#ab63fa"
         },
         "name": "6 Months",
         "offsetgroup": "6 Months",
         "orientation": "v",
         "showlegend": true,
         "textposition": "auto",
         "type": "bar",
         "x": [
          2019,
          2020
         ],
         "xaxis": "x",
         "y": [
          1250,
          90931
         ],
         "yaxis": "y"
        },
        {
         "alignmentgroup": "True",
         "hovertemplate": "Subscription=3 Months<br>Year=%{x}<br>Invoice Amount=%{y}<extra></extra>",
         "legendgroup": "3 Months",
         "marker": {
          "color": "#FFA15A"
         },
         "name": "3 Months",
         "offsetgroup": "3 Months",
         "orientation": "v",
         "showlegend": true,
         "textposition": "auto",
         "type": "bar",
         "x": [
          2020
         ],
         "xaxis": "x",
         "y": [
          126327.84
         ],
         "yaxis": "y"
        },
        {
         "alignmentgroup": "True",
         "hovertemplate": "Subscription=30 Days<br>Year=%{x}<br>Invoice Amount=%{y}<extra></extra>",
         "legendgroup": "30 Days",
         "marker": {
          "color": "#19d3f3"
         },
         "name": "30 Days",
         "offsetgroup": "30 Days",
         "orientation": "v",
         "showlegend": true,
         "textposition": "auto",
         "type": "bar",
         "x": [
          2020
         ],
         "xaxis": "x",
         "y": [
          200
         ],
         "yaxis": "y"
        }
       ],
       "layout": {
        "barmode": "group",
        "height": 600,
        "legend": {
         "title": {
          "text": "Subscription"
         },
         "tracegroupgap": 0
        },
        "template": {
         "data": {
          "bar": [
           {
            "error_x": {
             "color": "#2a3f5f"
            },
            "error_y": {
             "color": "#2a3f5f"
            },
            "marker": {
             "line": {
              "color": "#E5ECF6",
              "width": 0.5
             }
            },
            "type": "bar"
           }
          ],
          "barpolar": [
           {
            "marker": {
             "line": {
              "color": "#E5ECF6",
              "width": 0.5
             }
            },
            "type": "barpolar"
           }
          ],
          "carpet": [
           {
            "aaxis": {
             "endlinecolor": "#2a3f5f",
             "gridcolor": "white",
             "linecolor": "white",
             "minorgridcolor": "white",
             "startlinecolor": "#2a3f5f"
            },
            "baxis": {
             "endlinecolor": "#2a3f5f",
             "gridcolor": "white",
             "linecolor": "white",
             "minorgridcolor": "white",
             "startlinecolor": "#2a3f5f"
            },
            "type": "carpet"
           }
          ],
          "choropleth": [
           {
            "colorbar": {
             "outlinewidth": 0,
             "ticks": ""
            },
            "type": "choropleth"
           }
          ],
          "contour": [
           {
            "colorbar": {
             "outlinewidth": 0,
             "ticks": ""
            },
            "colorscale": [
             [
              0,
              "#0d0887"
             ],
             [
              0.1111111111111111,
              "#46039f"
             ],
             [
              0.2222222222222222,
              "#7201a8"
             ],
             [
              0.3333333333333333,
              "#9c179e"
             ],
             [
              0.4444444444444444,
              "#bd3786"
             ],
             [
              0.5555555555555556,
              "#d8576b"
             ],
             [
              0.6666666666666666,
              "#ed7953"
             ],
             [
              0.7777777777777778,
              "#fb9f3a"
             ],
             [
              0.8888888888888888,
              "#fdca26"
             ],
             [
              1,
              "#f0f921"
             ]
            ],
            "type": "contour"
           }
          ],
          "contourcarpet": [
           {
            "colorbar": {
             "outlinewidth": 0,
             "ticks": ""
            },
            "type": "contourcarpet"
           }
          ],
          "heatmap": [
           {
            "colorbar": {
             "outlinewidth": 0,
             "ticks": ""
            },
            "colorscale": [
             [
              0,
              "#0d0887"
             ],
             [
              0.1111111111111111,
              "#46039f"
             ],
             [
              0.2222222222222222,
              "#7201a8"
             ],
             [
              0.3333333333333333,
              "#9c179e"
             ],
             [
              0.4444444444444444,
              "#bd3786"
             ],
             [
              0.5555555555555556,
              "#d8576b"
             ],
             [
              0.6666666666666666,
              "#ed7953"
             ],
             [
              0.7777777777777778,
              "#fb9f3a"
             ],
             [
              0.8888888888888888,
              "#fdca26"
             ],
             [
              1,
              "#f0f921"
             ]
            ],
            "type": "heatmap"
           }
          ],
          "heatmapgl": [
           {
            "colorbar": {
             "outlinewidth": 0,
             "ticks": ""
            },
            "colorscale": [
             [
              0,
              "#0d0887"
             ],
             [
              0.1111111111111111,
              "#46039f"
             ],
             [
              0.2222222222222222,
              "#7201a8"
             ],
             [
              0.3333333333333333,
              "#9c179e"
             ],
             [
              0.4444444444444444,
              "#bd3786"
             ],
             [
              0.5555555555555556,
              "#d8576b"
             ],
             [
              0.6666666666666666,
              "#ed7953"
             ],
             [
              0.7777777777777778,
              "#fb9f3a"
             ],
             [
              0.8888888888888888,
              "#fdca26"
             ],
             [
              1,
              "#f0f921"
             ]
            ],
            "type": "heatmapgl"
           }
          ],
          "histogram": [
           {
            "marker": {
             "colorbar": {
              "outlinewidth": 0,
              "ticks": ""
             }
            },
            "type": "histogram"
           }
          ],
          "histogram2d": [
           {
            "colorbar": {
             "outlinewidth": 0,
             "ticks": ""
            },
            "colorscale": [
             [
              0,
              "#0d0887"
             ],
             [
              0.1111111111111111,
              "#46039f"
             ],
             [
              0.2222222222222222,
              "#7201a8"
             ],
             [
              0.3333333333333333,
              "#9c179e"
             ],
             [
              0.4444444444444444,
              "#bd3786"
             ],
             [
              0.5555555555555556,
              "#d8576b"
             ],
             [
              0.6666666666666666,
              "#ed7953"
             ],
             [
              0.7777777777777778,
              "#fb9f3a"
             ],
             [
              0.8888888888888888,
              "#fdca26"
             ],
             [
              1,
              "#f0f921"
             ]
            ],
            "type": "histogram2d"
           }
          ],
          "histogram2dcontour": [
           {
            "colorbar": {
             "outlinewidth": 0,
             "ticks": ""
            },
            "colorscale": [
             [
              0,
              "#0d0887"
             ],
             [
              0.1111111111111111,
              "#46039f"
             ],
             [
              0.2222222222222222,
              "#7201a8"
             ],
             [
              0.3333333333333333,
              "#9c179e"
             ],
             [
              0.4444444444444444,
              "#bd3786"
             ],
             [
              0.5555555555555556,
              "#d8576b"
             ],
             [
              0.6666666666666666,
              "#ed7953"
             ],
             [
              0.7777777777777778,
              "#fb9f3a"
             ],
             [
              0.8888888888888888,
              "#fdca26"
             ],
             [
              1,
              "#f0f921"
             ]
            ],
            "type": "histogram2dcontour"
           }
          ],
          "mesh3d": [
           {
            "colorbar": {
             "outlinewidth": 0,
             "ticks": ""
            },
            "type": "mesh3d"
           }
          ],
          "parcoords": [
           {
            "line": {
             "colorbar": {
              "outlinewidth": 0,
              "ticks": ""
             }
            },
            "type": "parcoords"
           }
          ],
          "pie": [
           {
            "automargin": true,
            "type": "pie"
           }
          ],
          "scatter": [
           {
            "marker": {
             "colorbar": {
              "outlinewidth": 0,
              "ticks": ""
             }
            },
            "type": "scatter"
           }
          ],
          "scatter3d": [
           {
            "line": {
             "colorbar": {
              "outlinewidth": 0,
              "ticks": ""
             }
            },
            "marker": {
             "colorbar": {
              "outlinewidth": 0,
              "ticks": ""
             }
            },
            "type": "scatter3d"
           }
          ],
          "scattercarpet": [
           {
            "marker": {
             "colorbar": {
              "outlinewidth": 0,
              "ticks": ""
             }
            },
            "type": "scattercarpet"
           }
          ],
          "scattergeo": [
           {
            "marker": {
             "colorbar": {
              "outlinewidth": 0,
              "ticks": ""
             }
            },
            "type": "scattergeo"
           }
          ],
          "scattergl": [
           {
            "marker": {
             "colorbar": {
              "outlinewidth": 0,
              "ticks": ""
             }
            },
            "type": "scattergl"
           }
          ],
          "scattermapbox": [
           {
            "marker": {
             "colorbar": {
              "outlinewidth": 0,
              "ticks": ""
             }
            },
            "type": "scattermapbox"
           }
          ],
          "scatterpolar": [
           {
            "marker": {
             "colorbar": {
              "outlinewidth": 0,
              "ticks": ""
             }
            },
            "type": "scatterpolar"
           }
          ],
          "scatterpolargl": [
           {
            "marker": {
             "colorbar": {
              "outlinewidth": 0,
              "ticks": ""
             }
            },
            "type": "scatterpolargl"
           }
          ],
          "scatterternary": [
           {
            "marker": {
             "colorbar": {
              "outlinewidth": 0,
              "ticks": ""
             }
            },
            "type": "scatterternary"
           }
          ],
          "surface": [
           {
            "colorbar": {
             "outlinewidth": 0,
             "ticks": ""
            },
            "colorscale": [
             [
              0,
              "#0d0887"
             ],
             [
              0.1111111111111111,
              "#46039f"
             ],
             [
              0.2222222222222222,
              "#7201a8"
             ],
             [
              0.3333333333333333,
              "#9c179e"
             ],
             [
              0.4444444444444444,
              "#bd3786"
             ],
             [
              0.5555555555555556,
              "#d8576b"
             ],
             [
              0.6666666666666666,
              "#ed7953"
             ],
             [
              0.7777777777777778,
              "#fb9f3a"
             ],
             [
              0.8888888888888888,
              "#fdca26"
             ],
             [
              1,
              "#f0f921"
             ]
            ],
            "type": "surface"
           }
          ],
          "table": [
           {
            "cells": {
             "fill": {
              "color": "#EBF0F8"
             },
             "line": {
              "color": "white"
             }
            },
            "header": {
             "fill": {
              "color": "#C8D4E3"
             },
             "line": {
              "color": "white"
             }
            },
            "type": "table"
           }
          ]
         },
         "layout": {
          "annotationdefaults": {
           "arrowcolor": "#2a3f5f",
           "arrowhead": 0,
           "arrowwidth": 1
          },
          "coloraxis": {
           "colorbar": {
            "outlinewidth": 0,
            "ticks": ""
           }
          },
          "colorscale": {
           "diverging": [
            [
             0,
             "#8e0152"
            ],
            [
             0.1,
             "#c51b7d"
            ],
            [
             0.2,
             "#de77ae"
            ],
            [
             0.3,
             "#f1b6da"
            ],
            [
             0.4,
             "#fde0ef"
            ],
            [
             0.5,
             "#f7f7f7"
            ],
            [
             0.6,
             "#e6f5d0"
            ],
            [
             0.7,
             "#b8e186"
            ],
            [
             0.8,
             "#7fbc41"
            ],
            [
             0.9,
             "#4d9221"
            ],
            [
             1,
             "#276419"
            ]
           ],
           "sequential": [
            [
             0,
             "#0d0887"
            ],
            [
             0.1111111111111111,
             "#46039f"
            ],
            [
             0.2222222222222222,
             "#7201a8"
            ],
            [
             0.3333333333333333,
             "#9c179e"
            ],
            [
             0.4444444444444444,
             "#bd3786"
            ],
            [
             0.5555555555555556,
             "#d8576b"
            ],
            [
             0.6666666666666666,
             "#ed7953"
            ],
            [
             0.7777777777777778,
             "#fb9f3a"
            ],
            [
             0.8888888888888888,
             "#fdca26"
            ],
            [
             1,
             "#f0f921"
            ]
           ],
           "sequentialminus": [
            [
             0,
             "#0d0887"
            ],
            [
             0.1111111111111111,
             "#46039f"
            ],
            [
             0.2222222222222222,
             "#7201a8"
            ],
            [
             0.3333333333333333,
             "#9c179e"
            ],
            [
             0.4444444444444444,
             "#bd3786"
            ],
            [
             0.5555555555555556,
             "#d8576b"
            ],
            [
             0.6666666666666666,
             "#ed7953"
            ],
            [
             0.7777777777777778,
             "#fb9f3a"
            ],
            [
             0.8888888888888888,
             "#fdca26"
            ],
            [
             1,
             "#f0f921"
            ]
           ]
          },
          "colorway": [
           "#636efa",
           "#EF553B",
           "#00cc96",
           "#ab63fa",
           "#FFA15A",
           "#19d3f3",
           "#FF6692",
           "#B6E880",
           "#FF97FF",
           "#FECB52"
          ],
          "font": {
           "color": "#2a3f5f"
          },
          "geo": {
           "bgcolor": "white",
           "lakecolor": "white",
           "landcolor": "#E5ECF6",
           "showlakes": true,
           "showland": true,
           "subunitcolor": "white"
          },
          "hoverlabel": {
           "align": "left"
          },
          "hovermode": "closest",
          "mapbox": {
           "style": "light"
          },
          "paper_bgcolor": "white",
          "plot_bgcolor": "#E5ECF6",
          "polar": {
           "angularaxis": {
            "gridcolor": "white",
            "linecolor": "white",
            "ticks": ""
           },
           "bgcolor": "#E5ECF6",
           "radialaxis": {
            "gridcolor": "white",
            "linecolor": "white",
            "ticks": ""
           }
          },
          "scene": {
           "xaxis": {
            "backgroundcolor": "#E5ECF6",
            "gridcolor": "white",
            "gridwidth": 2,
            "linecolor": "white",
            "showbackground": true,
            "ticks": "",
            "zerolinecolor": "white"
           },
           "yaxis": {
            "backgroundcolor": "#E5ECF6",
            "gridcolor": "white",
            "gridwidth": 2,
            "linecolor": "white",
            "showbackground": true,
            "ticks": "",
            "zerolinecolor": "white"
           },
           "zaxis": {
            "backgroundcolor": "#E5ECF6",
            "gridcolor": "white",
            "gridwidth": 2,
            "linecolor": "white",
            "showbackground": true,
            "ticks": "",
            "zerolinecolor": "white"
           }
          },
          "shapedefaults": {
           "line": {
            "color": "#2a3f5f"
           }
          },
          "ternary": {
           "aaxis": {
            "gridcolor": "white",
            "linecolor": "white",
            "ticks": ""
           },
           "baxis": {
            "gridcolor": "white",
            "linecolor": "white",
            "ticks": ""
           },
           "bgcolor": "#E5ECF6",
           "caxis": {
            "gridcolor": "white",
            "linecolor": "white",
            "ticks": ""
           }
          },
          "title": {
           "x": 0.05
          },
          "xaxis": {
           "automargin": true,
           "gridcolor": "white",
           "linecolor": "white",
           "ticks": "",
           "title": {
            "standoff": 15
           },
           "zerolinecolor": "white",
           "zerolinewidth": 2
          },
          "yaxis": {
           "automargin": true,
           "gridcolor": "white",
           "linecolor": "white",
           "ticks": "",
           "title": {
            "standoff": 15
           },
           "zerolinecolor": "white",
           "zerolinewidth": 2
          }
         }
        },
        "title": {
         "text": "Total Invoice Amount per Subscription: 2015 - 2020"
        },
        "width": 1000,
        "xaxis": {
         "anchor": "y",
         "domain": [
          0,
          1
         ],
         "title": {
          "text": "Number of Years"
         }
        },
        "yaxis": {
         "anchor": "x",
         "domain": [
          0,
          1
         ],
         "title": {
          "text": "Total Sales of ATLAS Subscription"
         }
        }
       }
      }
     },
     "metadata": {}
    },
    {
     "output_type": "display_data",
     "data": {
      "application/vnd.plotly.v1+json": {
       "config": {
        "plotlyServerURL": "https://plot.ly"
       },
       "data": [
        {
         "alignmentgroup": "True",
         "hovertemplate": "Subscription=1 Year<br>Year=%{x}<br>Invoice Amount=%{y}<extra></extra>",
         "legendgroup": "1 Year",
         "marker": {
          "color": "#636efa"
         },
         "name": "1 Year",
         "offsetgroup": "1 Year",
         "orientation": "v",
         "showlegend": true,
         "textposition": "auto",
         "type": "bar",
         "x": [
          2015,
          2016,
          2017,
          2018,
          2019,
          2020
         ],
         "xaxis": "x",
         "y": [
          10,
          44,
          42,
          52,
          58,
          235
         ],
         "yaxis": "y"
        },
        {
         "alignmentgroup": "True",
         "hovertemplate": "Subscription=3 Years<br>Year=%{x}<br>Invoice Amount=%{y}<extra></extra>",
         "legendgroup": "3 Years",
         "marker": {
          "color": "#EF553B"
         },
         "name": "3 Years",
         "offsetgroup": "3 Years",
         "orientation": "v",
         "showlegend": true,
         "textposition": "auto",
         "type": "bar",
         "x": [
          2016,
          2017,
          2018,
          2019,
          2020
         ],
         "xaxis": "x",
         "y": [
          11,
          13,
          11,
          14,
          28
         ],
         "yaxis": "y"
        },
        {
         "alignmentgroup": "True",
         "hovertemplate": "Subscription=2 Years<br>Year=%{x}<br>Invoice Amount=%{y}<extra></extra>",
         "legendgroup": "2 Years",
         "marker": {
          "color": "#00cc96"
         },
         "name": "2 Years",
         "offsetgroup": "2 Years",
         "orientation": "v",
         "showlegend": true,
         "textposition": "auto",
         "type": "bar",
         "x": [
          2017,
          2019
         ],
         "xaxis": "x",
         "y": [
          2,
          1
         ],
         "yaxis": "y"
        },
        {
         "alignmentgroup": "True",
         "hovertemplate": "Subscription=6 Months<br>Year=%{x}<br>Invoice Amount=%{y}<extra></extra>",
         "legendgroup": "6 Months",
         "marker": {
          "color": "#ab63fa"
         },
         "name": "6 Months",
         "offsetgroup": "6 Months",
         "orientation": "v",
         "showlegend": true,
         "textposition": "auto",
         "type": "bar",
         "x": [
          2019,
          2020
         ],
         "xaxis": "x",
         "y": [
          1,
          56
         ],
         "yaxis": "y"
        },
        {
         "alignmentgroup": "True",
         "hovertemplate": "Subscription=3 Months<br>Year=%{x}<br>Invoice Amount=%{y}<extra></extra>",
         "legendgroup": "3 Months",
         "marker": {
          "color": "#FFA15A"
         },
         "name": "3 Months",
         "offsetgroup": "3 Months",
         "orientation": "v",
         "showlegend": true,
         "textposition": "auto",
         "type": "bar",
         "x": [
          2020
         ],
         "xaxis": "x",
         "y": [
          119
         ],
         "yaxis": "y"
        },
        {
         "alignmentgroup": "True",
         "hovertemplate": "Subscription=30 Days<br>Year=%{x}<br>Invoice Amount=%{y}<extra></extra>",
         "legendgroup": "30 Days",
         "marker": {
          "color": "#19d3f3"
         },
         "name": "30 Days",
         "offsetgroup": "30 Days",
         "orientation": "v",
         "showlegend": true,
         "textposition": "auto",
         "type": "bar",
         "x": [
          2020
         ],
         "xaxis": "x",
         "y": [
          1
         ],
         "yaxis": "y"
        }
       ],
       "layout": {
        "barmode": "group",
        "height": 600,
        "legend": {
         "title": {
          "text": "Subscription"
         },
         "tracegroupgap": 0
        },
        "template": {
         "data": {
          "bar": [
           {
            "error_x": {
             "color": "#2a3f5f"
            },
            "error_y": {
             "color": "#2a3f5f"
            },
            "marker": {
             "line": {
              "color": "#E5ECF6",
              "width": 0.5
             }
            },
            "type": "bar"
           }
          ],
          "barpolar": [
           {
            "marker": {
             "line": {
              "color": "#E5ECF6",
              "width": 0.5
             }
            },
            "type": "barpolar"
           }
          ],
          "carpet": [
           {
            "aaxis": {
             "endlinecolor": "#2a3f5f",
             "gridcolor": "white",
             "linecolor": "white",
             "minorgridcolor": "white",
             "startlinecolor": "#2a3f5f"
            },
            "baxis": {
             "endlinecolor": "#2a3f5f",
             "gridcolor": "white",
             "linecolor": "white",
             "minorgridcolor": "white",
             "startlinecolor": "#2a3f5f"
            },
            "type": "carpet"
           }
          ],
          "choropleth": [
           {
            "colorbar": {
             "outlinewidth": 0,
             "ticks": ""
            },
            "type": "choropleth"
           }
          ],
          "contour": [
           {
            "colorbar": {
             "outlinewidth": 0,
             "ticks": ""
            },
            "colorscale": [
             [
              0,
              "#0d0887"
             ],
             [
              0.1111111111111111,
              "#46039f"
             ],
             [
              0.2222222222222222,
              "#7201a8"
             ],
             [
              0.3333333333333333,
              "#9c179e"
             ],
             [
              0.4444444444444444,
              "#bd3786"
             ],
             [
              0.5555555555555556,
              "#d8576b"
             ],
             [
              0.6666666666666666,
              "#ed7953"
             ],
             [
              0.7777777777777778,
              "#fb9f3a"
             ],
             [
              0.8888888888888888,
              "#fdca26"
             ],
             [
              1,
              "#f0f921"
             ]
            ],
            "type": "contour"
           }
          ],
          "contourcarpet": [
           {
            "colorbar": {
             "outlinewidth": 0,
             "ticks": ""
            },
            "type": "contourcarpet"
           }
          ],
          "heatmap": [
           {
            "colorbar": {
             "outlinewidth": 0,
             "ticks": ""
            },
            "colorscale": [
             [
              0,
              "#0d0887"
             ],
             [
              0.1111111111111111,
              "#46039f"
             ],
             [
              0.2222222222222222,
              "#7201a8"
             ],
             [
              0.3333333333333333,
              "#9c179e"
             ],
             [
              0.4444444444444444,
              "#bd3786"
             ],
             [
              0.5555555555555556,
              "#d8576b"
             ],
             [
              0.6666666666666666,
              "#ed7953"
             ],
             [
              0.7777777777777778,
              "#fb9f3a"
             ],
             [
              0.8888888888888888,
              "#fdca26"
             ],
             [
              1,
              "#f0f921"
             ]
            ],
            "type": "heatmap"
           }
          ],
          "heatmapgl": [
           {
            "colorbar": {
             "outlinewidth": 0,
             "ticks": ""
            },
            "colorscale": [
             [
              0,
              "#0d0887"
             ],
             [
              0.1111111111111111,
              "#46039f"
             ],
             [
              0.2222222222222222,
              "#7201a8"
             ],
             [
              0.3333333333333333,
              "#9c179e"
             ],
             [
              0.4444444444444444,
              "#bd3786"
             ],
             [
              0.5555555555555556,
              "#d8576b"
             ],
             [
              0.6666666666666666,
              "#ed7953"
             ],
             [
              0.7777777777777778,
              "#fb9f3a"
             ],
             [
              0.8888888888888888,
              "#fdca26"
             ],
             [
              1,
              "#f0f921"
             ]
            ],
            "type": "heatmapgl"
           }
          ],
          "histogram": [
           {
            "marker": {
             "colorbar": {
              "outlinewidth": 0,
              "ticks": ""
             }
            },
            "type": "histogram"
           }
          ],
          "histogram2d": [
           {
            "colorbar": {
             "outlinewidth": 0,
             "ticks": ""
            },
            "colorscale": [
             [
              0,
              "#0d0887"
             ],
             [
              0.1111111111111111,
              "#46039f"
             ],
             [
              0.2222222222222222,
              "#7201a8"
             ],
             [
              0.3333333333333333,
              "#9c179e"
             ],
             [
              0.4444444444444444,
              "#bd3786"
             ],
             [
              0.5555555555555556,
              "#d8576b"
             ],
             [
              0.6666666666666666,
              "#ed7953"
             ],
             [
              0.7777777777777778,
              "#fb9f3a"
             ],
             [
              0.8888888888888888,
              "#fdca26"
             ],
             [
              1,
              "#f0f921"
             ]
            ],
            "type": "histogram2d"
           }
          ],
          "histogram2dcontour": [
           {
            "colorbar": {
             "outlinewidth": 0,
             "ticks": ""
            },
            "colorscale": [
             [
              0,
              "#0d0887"
             ],
             [
              0.1111111111111111,
              "#46039f"
             ],
             [
              0.2222222222222222,
              "#7201a8"
             ],
             [
              0.3333333333333333,
              "#9c179e"
             ],
             [
              0.4444444444444444,
              "#bd3786"
             ],
             [
              0.5555555555555556,
              "#d8576b"
             ],
             [
              0.6666666666666666,
              "#ed7953"
             ],
             [
              0.7777777777777778,
              "#fb9f3a"
             ],
             [
              0.8888888888888888,
              "#fdca26"
             ],
             [
              1,
              "#f0f921"
             ]
            ],
            "type": "histogram2dcontour"
           }
          ],
          "mesh3d": [
           {
            "colorbar": {
             "outlinewidth": 0,
             "ticks": ""
            },
            "type": "mesh3d"
           }
          ],
          "parcoords": [
           {
            "line": {
             "colorbar": {
              "outlinewidth": 0,
              "ticks": ""
             }
            },
            "type": "parcoords"
           }
          ],
          "pie": [
           {
            "automargin": true,
            "type": "pie"
           }
          ],
          "scatter": [
           {
            "marker": {
             "colorbar": {
              "outlinewidth": 0,
              "ticks": ""
             }
            },
            "type": "scatter"
           }
          ],
          "scatter3d": [
           {
            "line": {
             "colorbar": {
              "outlinewidth": 0,
              "ticks": ""
             }
            },
            "marker": {
             "colorbar": {
              "outlinewidth": 0,
              "ticks": ""
             }
            },
            "type": "scatter3d"
           }
          ],
          "scattercarpet": [
           {
            "marker": {
             "colorbar": {
              "outlinewidth": 0,
              "ticks": ""
             }
            },
            "type": "scattercarpet"
           }
          ],
          "scattergeo": [
           {
            "marker": {
             "colorbar": {
              "outlinewidth": 0,
              "ticks": ""
             }
            },
            "type": "scattergeo"
           }
          ],
          "scattergl": [
           {
            "marker": {
             "colorbar": {
              "outlinewidth": 0,
              "ticks": ""
             }
            },
            "type": "scattergl"
           }
          ],
          "scattermapbox": [
           {
            "marker": {
             "colorbar": {
              "outlinewidth": 0,
              "ticks": ""
             }
            },
            "type": "scattermapbox"
           }
          ],
          "scatterpolar": [
           {
            "marker": {
             "colorbar": {
              "outlinewidth": 0,
              "ticks": ""
             }
            },
            "type": "scatterpolar"
           }
          ],
          "scatterpolargl": [
           {
            "marker": {
             "colorbar": {
              "outlinewidth": 0,
              "ticks": ""
             }
            },
            "type": "scatterpolargl"
           }
          ],
          "scatterternary": [
           {
            "marker": {
             "colorbar": {
              "outlinewidth": 0,
              "ticks": ""
             }
            },
            "type": "scatterternary"
           }
          ],
          "surface": [
           {
            "colorbar": {
             "outlinewidth": 0,
             "ticks": ""
            },
            "colorscale": [
             [
              0,
              "#0d0887"
             ],
             [
              0.1111111111111111,
              "#46039f"
             ],
             [
              0.2222222222222222,
              "#7201a8"
             ],
             [
              0.3333333333333333,
              "#9c179e"
             ],
             [
              0.4444444444444444,
              "#bd3786"
             ],
             [
              0.5555555555555556,
              "#d8576b"
             ],
             [
              0.6666666666666666,
              "#ed7953"
             ],
             [
              0.7777777777777778,
              "#fb9f3a"
             ],
             [
              0.8888888888888888,
              "#fdca26"
             ],
             [
              1,
              "#f0f921"
             ]
            ],
            "type": "surface"
           }
          ],
          "table": [
           {
            "cells": {
             "fill": {
              "color": "#EBF0F8"
             },
             "line": {
              "color": "white"
             }
            },
            "header": {
             "fill": {
              "color": "#C8D4E3"
             },
             "line": {
              "color": "white"
             }
            },
            "type": "table"
           }
          ]
         },
         "layout": {
          "annotationdefaults": {
           "arrowcolor": "#2a3f5f",
           "arrowhead": 0,
           "arrowwidth": 1
          },
          "coloraxis": {
           "colorbar": {
            "outlinewidth": 0,
            "ticks": ""
           }
          },
          "colorscale": {
           "diverging": [
            [
             0,
             "#8e0152"
            ],
            [
             0.1,
             "#c51b7d"
            ],
            [
             0.2,
             "#de77ae"
            ],
            [
             0.3,
             "#f1b6da"
            ],
            [
             0.4,
             "#fde0ef"
            ],
            [
             0.5,
             "#f7f7f7"
            ],
            [
             0.6,
             "#e6f5d0"
            ],
            [
             0.7,
             "#b8e186"
            ],
            [
             0.8,
             "#7fbc41"
            ],
            [
             0.9,
             "#4d9221"
            ],
            [
             1,
             "#276419"
            ]
           ],
           "sequential": [
            [
             0,
             "#0d0887"
            ],
            [
             0.1111111111111111,
             "#46039f"
            ],
            [
             0.2222222222222222,
             "#7201a8"
            ],
            [
             0.3333333333333333,
             "#9c179e"
            ],
            [
             0.4444444444444444,
             "#bd3786"
            ],
            [
             0.5555555555555556,
             "#d8576b"
            ],
            [
             0.6666666666666666,
             "#ed7953"
            ],
            [
             0.7777777777777778,
             "#fb9f3a"
            ],
            [
             0.8888888888888888,
             "#fdca26"
            ],
            [
             1,
             "#f0f921"
            ]
           ],
           "sequentialminus": [
            [
             0,
             "#0d0887"
            ],
            [
             0.1111111111111111,
             "#46039f"
            ],
            [
             0.2222222222222222,
             "#7201a8"
            ],
            [
             0.3333333333333333,
             "#9c179e"
            ],
            [
             0.4444444444444444,
             "#bd3786"
            ],
            [
             0.5555555555555556,
             "#d8576b"
            ],
            [
             0.6666666666666666,
             "#ed7953"
            ],
            [
             0.7777777777777778,
             "#fb9f3a"
            ],
            [
             0.8888888888888888,
             "#fdca26"
            ],
            [
             1,
             "#f0f921"
            ]
           ]
          },
          "colorway": [
           "#636efa",
           "#EF553B",
           "#00cc96",
           "#ab63fa",
           "#FFA15A",
           "#19d3f3",
           "#FF6692",
           "#B6E880",
           "#FF97FF",
           "#FECB52"
          ],
          "font": {
           "color": "#2a3f5f"
          },
          "geo": {
           "bgcolor": "white",
           "lakecolor": "white",
           "landcolor": "#E5ECF6",
           "showlakes": true,
           "showland": true,
           "subunitcolor": "white"
          },
          "hoverlabel": {
           "align": "left"
          },
          "hovermode": "closest",
          "mapbox": {
           "style": "light"
          },
          "paper_bgcolor": "white",
          "plot_bgcolor": "#E5ECF6",
          "polar": {
           "angularaxis": {
            "gridcolor": "white",
            "linecolor": "white",
            "ticks": ""
           },
           "bgcolor": "#E5ECF6",
           "radialaxis": {
            "gridcolor": "white",
            "linecolor": "white",
            "ticks": ""
           }
          },
          "scene": {
           "xaxis": {
            "backgroundcolor": "#E5ECF6",
            "gridcolor": "white",
            "gridwidth": 2,
            "linecolor": "white",
            "showbackground": true,
            "ticks": "",
            "zerolinecolor": "white"
           },
           "yaxis": {
            "backgroundcolor": "#E5ECF6",
            "gridcolor": "white",
            "gridwidth": 2,
            "linecolor": "white",
            "showbackground": true,
            "ticks": "",
            "zerolinecolor": "white"
           },
           "zaxis": {
            "backgroundcolor": "#E5ECF6",
            "gridcolor": "white",
            "gridwidth": 2,
            "linecolor": "white",
            "showbackground": true,
            "ticks": "",
            "zerolinecolor": "white"
           }
          },
          "shapedefaults": {
           "line": {
            "color": "#2a3f5f"
           }
          },
          "ternary": {
           "aaxis": {
            "gridcolor": "white",
            "linecolor": "white",
            "ticks": ""
           },
           "baxis": {
            "gridcolor": "white",
            "linecolor": "white",
            "ticks": ""
           },
           "bgcolor": "#E5ECF6",
           "caxis": {
            "gridcolor": "white",
            "linecolor": "white",
            "ticks": ""
           }
          },
          "title": {
           "x": 0.05
          },
          "xaxis": {
           "automargin": true,
           "gridcolor": "white",
           "linecolor": "white",
           "ticks": "",
           "title": {
            "standoff": 15
           },
           "zerolinecolor": "white",
           "zerolinewidth": 2
          },
          "yaxis": {
           "automargin": true,
           "gridcolor": "white",
           "linecolor": "white",
           "ticks": "",
           "title": {
            "standoff": 15
           },
           "zerolinecolor": "white",
           "zerolinewidth": 2
          }
         }
        },
        "title": {
         "text": "Total Number of Invoices per Subscription: 2015 - 2020"
        },
        "width": 1000,
        "xaxis": {
         "anchor": "y",
         "domain": [
          0,
          1
         ],
         "title": {
          "text": "Number of Years"
         }
        },
        "yaxis": {
         "anchor": "x",
         "domain": [
          0,
          1
         ],
         "title": {
          "text": "Total Number of Invoices Submitted"
         }
        }
       }
      }
     },
     "metadata": {}
    },
    {
     "output_type": "display_data",
     "data": {
      "application/vnd.plotly.v1+json": {
       "config": {
        "plotlyServerURL": "https://plot.ly"
       },
       "data": [
        {
         "alignmentgroup": "True",
         "hovertemplate": "Subscription=1 Year<br>Year=%{x}<br>Number of Users=%{y}<extra></extra>",
         "legendgroup": "1 Year",
         "marker": {
          "color": "#636efa"
         },
         "name": "1 Year",
         "offsetgroup": "1 Year",
         "orientation": "v",
         "showlegend": true,
         "textposition": "auto",
         "type": "bar",
         "x": [
          2015,
          2016,
          2017,
          2018,
          2019,
          2020
         ],
         "xaxis": "x",
         "y": [
          19025,
          11685,
          10475,
          11627,
          10892,
          55634
         ],
         "yaxis": "y"
        },
        {
         "alignmentgroup": "True",
         "hovertemplate": "Subscription=3 Years<br>Year=%{x}<br>Number of Users=%{y}<extra></extra>",
         "legendgroup": "3 Years",
         "marker": {
          "color": "#EF553B"
         },
         "name": "3 Years",
         "offsetgroup": "3 Years",
         "orientation": "v",
         "showlegend": true,
         "textposition": "auto",
         "type": "bar",
         "x": [
          2016,
          2017,
          2018,
          2019,
          2020
         ],
         "xaxis": "x",
         "y": [
          9020,
          3321,
          3048,
          2758,
          3882
         ],
         "yaxis": "y"
        },
        {
         "alignmentgroup": "True",
         "hovertemplate": "Subscription=2 Years<br>Year=%{x}<br>Number of Users=%{y}<extra></extra>",
         "legendgroup": "2 Years",
         "marker": {
          "color": "#00cc96"
         },
         "name": "2 Years",
         "offsetgroup": "2 Years",
         "orientation": "v",
         "showlegend": true,
         "textposition": "auto",
         "type": "bar",
         "x": [
          2017,
          2019
         ],
         "xaxis": "x",
         "y": [
          375,
          5000
         ],
         "yaxis": "y"
        },
        {
         "alignmentgroup": "True",
         "hovertemplate": "Subscription=6 Months<br>Year=%{x}<br>Number of Users=%{y}<extra></extra>",
         "legendgroup": "6 Months",
         "marker": {
          "color": "#ab63fa"
         },
         "name": "6 Months",
         "offsetgroup": "6 Months",
         "orientation": "v",
         "showlegend": true,
         "textposition": "auto",
         "type": "bar",
         "x": [
          2019,
          2020
         ],
         "xaxis": "x",
         "y": [
          100,
          8724
         ],
         "yaxis": "y"
        },
        {
         "alignmentgroup": "True",
         "hovertemplate": "Subscription=3 Months<br>Year=%{x}<br>Number of Users=%{y}<extra></extra>",
         "legendgroup": "3 Months",
         "marker": {
          "color": "#FFA15A"
         },
         "name": "3 Months",
         "offsetgroup": "3 Months",
         "orientation": "v",
         "showlegend": true,
         "textposition": "auto",
         "type": "bar",
         "x": [
          2020
         ],
         "xaxis": "x",
         "y": [
          32337
         ],
         "yaxis": "y"
        },
        {
         "alignmentgroup": "True",
         "hovertemplate": "Subscription=30 Days<br>Year=%{x}<br>Number of Users=%{y}<extra></extra>",
         "legendgroup": "30 Days",
         "marker": {
          "color": "#19d3f3"
         },
         "name": "30 Days",
         "offsetgroup": "30 Days",
         "orientation": "v",
         "showlegend": true,
         "textposition": "auto",
         "type": "bar",
         "x": [
          2020
         ],
         "xaxis": "x",
         "y": [
          90
         ],
         "yaxis": "y"
        }
       ],
       "layout": {
        "barmode": "group",
        "height": 600,
        "legend": {
         "title": {
          "text": "Subscription"
         },
         "tracegroupgap": 0
        },
        "template": {
         "data": {
          "bar": [
           {
            "error_x": {
             "color": "#2a3f5f"
            },
            "error_y": {
             "color": "#2a3f5f"
            },
            "marker": {
             "line": {
              "color": "#E5ECF6",
              "width": 0.5
             }
            },
            "type": "bar"
           }
          ],
          "barpolar": [
           {
            "marker": {
             "line": {
              "color": "#E5ECF6",
              "width": 0.5
             }
            },
            "type": "barpolar"
           }
          ],
          "carpet": [
           {
            "aaxis": {
             "endlinecolor": "#2a3f5f",
             "gridcolor": "white",
             "linecolor": "white",
             "minorgridcolor": "white",
             "startlinecolor": "#2a3f5f"
            },
            "baxis": {
             "endlinecolor": "#2a3f5f",
             "gridcolor": "white",
             "linecolor": "white",
             "minorgridcolor": "white",
             "startlinecolor": "#2a3f5f"
            },
            "type": "carpet"
           }
          ],
          "choropleth": [
           {
            "colorbar": {
             "outlinewidth": 0,
             "ticks": ""
            },
            "type": "choropleth"
           }
          ],
          "contour": [
           {
            "colorbar": {
             "outlinewidth": 0,
             "ticks": ""
            },
            "colorscale": [
             [
              0,
              "#0d0887"
             ],
             [
              0.1111111111111111,
              "#46039f"
             ],
             [
              0.2222222222222222,
              "#7201a8"
             ],
             [
              0.3333333333333333,
              "#9c179e"
             ],
             [
              0.4444444444444444,
              "#bd3786"
             ],
             [
              0.5555555555555556,
              "#d8576b"
             ],
             [
              0.6666666666666666,
              "#ed7953"
             ],
             [
              0.7777777777777778,
              "#fb9f3a"
             ],
             [
              0.8888888888888888,
              "#fdca26"
             ],
             [
              1,
              "#f0f921"
             ]
            ],
            "type": "contour"
           }
          ],
          "contourcarpet": [
           {
            "colorbar": {
             "outlinewidth": 0,
             "ticks": ""
            },
            "type": "contourcarpet"
           }
          ],
          "heatmap": [
           {
            "colorbar": {
             "outlinewidth": 0,
             "ticks": ""
            },
            "colorscale": [
             [
              0,
              "#0d0887"
             ],
             [
              0.1111111111111111,
              "#46039f"
             ],
             [
              0.2222222222222222,
              "#7201a8"
             ],
             [
              0.3333333333333333,
              "#9c179e"
             ],
             [
              0.4444444444444444,
              "#bd3786"
             ],
             [
              0.5555555555555556,
              "#d8576b"
             ],
             [
              0.6666666666666666,
              "#ed7953"
             ],
             [
              0.7777777777777778,
              "#fb9f3a"
             ],
             [
              0.8888888888888888,
              "#fdca26"
             ],
             [
              1,
              "#f0f921"
             ]
            ],
            "type": "heatmap"
           }
          ],
          "heatmapgl": [
           {
            "colorbar": {
             "outlinewidth": 0,
             "ticks": ""
            },
            "colorscale": [
             [
              0,
              "#0d0887"
             ],
             [
              0.1111111111111111,
              "#46039f"
             ],
             [
              0.2222222222222222,
              "#7201a8"
             ],
             [
              0.3333333333333333,
              "#9c179e"
             ],
             [
              0.4444444444444444,
              "#bd3786"
             ],
             [
              0.5555555555555556,
              "#d8576b"
             ],
             [
              0.6666666666666666,
              "#ed7953"
             ],
             [
              0.7777777777777778,
              "#fb9f3a"
             ],
             [
              0.8888888888888888,
              "#fdca26"
             ],
             [
              1,
              "#f0f921"
             ]
            ],
            "type": "heatmapgl"
           }
          ],
          "histogram": [
           {
            "marker": {
             "colorbar": {
              "outlinewidth": 0,
              "ticks": ""
             }
            },
            "type": "histogram"
           }
          ],
          "histogram2d": [
           {
            "colorbar": {
             "outlinewidth": 0,
             "ticks": ""
            },
            "colorscale": [
             [
              0,
              "#0d0887"
             ],
             [
              0.1111111111111111,
              "#46039f"
             ],
             [
              0.2222222222222222,
              "#7201a8"
             ],
             [
              0.3333333333333333,
              "#9c179e"
             ],
             [
              0.4444444444444444,
              "#bd3786"
             ],
             [
              0.5555555555555556,
              "#d8576b"
             ],
             [
              0.6666666666666666,
              "#ed7953"
             ],
             [
              0.7777777777777778,
              "#fb9f3a"
             ],
             [
              0.8888888888888888,
              "#fdca26"
             ],
             [
              1,
              "#f0f921"
             ]
            ],
            "type": "histogram2d"
           }
          ],
          "histogram2dcontour": [
           {
            "colorbar": {
             "outlinewidth": 0,
             "ticks": ""
            },
            "colorscale": [
             [
              0,
              "#0d0887"
             ],
             [
              0.1111111111111111,
              "#46039f"
             ],
             [
              0.2222222222222222,
              "#7201a8"
             ],
             [
              0.3333333333333333,
              "#9c179e"
             ],
             [
              0.4444444444444444,
              "#bd3786"
             ],
             [
              0.5555555555555556,
              "#d8576b"
             ],
             [
              0.6666666666666666,
              "#ed7953"
             ],
             [
              0.7777777777777778,
              "#fb9f3a"
             ],
             [
              0.8888888888888888,
              "#fdca26"
             ],
             [
              1,
              "#f0f921"
             ]
            ],
            "type": "histogram2dcontour"
           }
          ],
          "mesh3d": [
           {
            "colorbar": {
             "outlinewidth": 0,
             "ticks": ""
            },
            "type": "mesh3d"
           }
          ],
          "parcoords": [
           {
            "line": {
             "colorbar": {
              "outlinewidth": 0,
              "ticks": ""
             }
            },
            "type": "parcoords"
           }
          ],
          "pie": [
           {
            "automargin": true,
            "type": "pie"
           }
          ],
          "scatter": [
           {
            "marker": {
             "colorbar": {
              "outlinewidth": 0,
              "ticks": ""
             }
            },
            "type": "scatter"
           }
          ],
          "scatter3d": [
           {
            "line": {
             "colorbar": {
              "outlinewidth": 0,
              "ticks": ""
             }
            },
            "marker": {
             "colorbar": {
              "outlinewidth": 0,
              "ticks": ""
             }
            },
            "type": "scatter3d"
           }
          ],
          "scattercarpet": [
           {
            "marker": {
             "colorbar": {
              "outlinewidth": 0,
              "ticks": ""
             }
            },
            "type": "scattercarpet"
           }
          ],
          "scattergeo": [
           {
            "marker": {
             "colorbar": {
              "outlinewidth": 0,
              "ticks": ""
             }
            },
            "type": "scattergeo"
           }
          ],
          "scattergl": [
           {
            "marker": {
             "colorbar": {
              "outlinewidth": 0,
              "ticks": ""
             }
            },
            "type": "scattergl"
           }
          ],
          "scattermapbox": [
           {
            "marker": {
             "colorbar": {
              "outlinewidth": 0,
              "ticks": ""
             }
            },
            "type": "scattermapbox"
           }
          ],
          "scatterpolar": [
           {
            "marker": {
             "colorbar": {
              "outlinewidth": 0,
              "ticks": ""
             }
            },
            "type": "scatterpolar"
           }
          ],
          "scatterpolargl": [
           {
            "marker": {
             "colorbar": {
              "outlinewidth": 0,
              "ticks": ""
             }
            },
            "type": "scatterpolargl"
           }
          ],
          "scatterternary": [
           {
            "marker": {
             "colorbar": {
              "outlinewidth": 0,
              "ticks": ""
             }
            },
            "type": "scatterternary"
           }
          ],
          "surface": [
           {
            "colorbar": {
             "outlinewidth": 0,
             "ticks": ""
            },
            "colorscale": [
             [
              0,
              "#0d0887"
             ],
             [
              0.1111111111111111,
              "#46039f"
             ],
             [
              0.2222222222222222,
              "#7201a8"
             ],
             [
              0.3333333333333333,
              "#9c179e"
             ],
             [
              0.4444444444444444,
              "#bd3786"
             ],
             [
              0.5555555555555556,
              "#d8576b"
             ],
             [
              0.6666666666666666,
              "#ed7953"
             ],
             [
              0.7777777777777778,
              "#fb9f3a"
             ],
             [
              0.8888888888888888,
              "#fdca26"
             ],
             [
              1,
              "#f0f921"
             ]
            ],
            "type": "surface"
           }
          ],
          "table": [
           {
            "cells": {
             "fill": {
              "color": "#EBF0F8"
             },
             "line": {
              "color": "white"
             }
            },
            "header": {
             "fill": {
              "color": "#C8D4E3"
             },
             "line": {
              "color": "white"
             }
            },
            "type": "table"
           }
          ]
         },
         "layout": {
          "annotationdefaults": {
           "arrowcolor": "#2a3f5f",
           "arrowhead": 0,
           "arrowwidth": 1
          },
          "coloraxis": {
           "colorbar": {
            "outlinewidth": 0,
            "ticks": ""
           }
          },
          "colorscale": {
           "diverging": [
            [
             0,
             "#8e0152"
            ],
            [
             0.1,
             "#c51b7d"
            ],
            [
             0.2,
             "#de77ae"
            ],
            [
             0.3,
             "#f1b6da"
            ],
            [
             0.4,
             "#fde0ef"
            ],
            [
             0.5,
             "#f7f7f7"
            ],
            [
             0.6,
             "#e6f5d0"
            ],
            [
             0.7,
             "#b8e186"
            ],
            [
             0.8,
             "#7fbc41"
            ],
            [
             0.9,
             "#4d9221"
            ],
            [
             1,
             "#276419"
            ]
           ],
           "sequential": [
            [
             0,
             "#0d0887"
            ],
            [
             0.1111111111111111,
             "#46039f"
            ],
            [
             0.2222222222222222,
             "#7201a8"
            ],
            [
             0.3333333333333333,
             "#9c179e"
            ],
            [
             0.4444444444444444,
             "#bd3786"
            ],
            [
             0.5555555555555556,
             "#d8576b"
            ],
            [
             0.6666666666666666,
             "#ed7953"
            ],
            [
             0.7777777777777778,
             "#fb9f3a"
            ],
            [
             0.8888888888888888,
             "#fdca26"
            ],
            [
             1,
             "#f0f921"
            ]
           ],
           "sequentialminus": [
            [
             0,
             "#0d0887"
            ],
            [
             0.1111111111111111,
             "#46039f"
            ],
            [
             0.2222222222222222,
             "#7201a8"
            ],
            [
             0.3333333333333333,
             "#9c179e"
            ],
            [
             0.4444444444444444,
             "#bd3786"
            ],
            [
             0.5555555555555556,
             "#d8576b"
            ],
            [
             0.6666666666666666,
             "#ed7953"
            ],
            [
             0.7777777777777778,
             "#fb9f3a"
            ],
            [
             0.8888888888888888,
             "#fdca26"
            ],
            [
             1,
             "#f0f921"
            ]
           ]
          },
          "colorway": [
           "#636efa",
           "#EF553B",
           "#00cc96",
           "#ab63fa",
           "#FFA15A",
           "#19d3f3",
           "#FF6692",
           "#B6E880",
           "#FF97FF",
           "#FECB52"
          ],
          "font": {
           "color": "#2a3f5f"
          },
          "geo": {
           "bgcolor": "white",
           "lakecolor": "white",
           "landcolor": "#E5ECF6",
           "showlakes": true,
           "showland": true,
           "subunitcolor": "white"
          },
          "hoverlabel": {
           "align": "left"
          },
          "hovermode": "closest",
          "mapbox": {
           "style": "light"
          },
          "paper_bgcolor": "white",
          "plot_bgcolor": "#E5ECF6",
          "polar": {
           "angularaxis": {
            "gridcolor": "white",
            "linecolor": "white",
            "ticks": ""
           },
           "bgcolor": "#E5ECF6",
           "radialaxis": {
            "gridcolor": "white",
            "linecolor": "white",
            "ticks": ""
           }
          },
          "scene": {
           "xaxis": {
            "backgroundcolor": "#E5ECF6",
            "gridcolor": "white",
            "gridwidth": 2,
            "linecolor": "white",
            "showbackground": true,
            "ticks": "",
            "zerolinecolor": "white"
           },
           "yaxis": {
            "backgroundcolor": "#E5ECF6",
            "gridcolor": "white",
            "gridwidth": 2,
            "linecolor": "white",
            "showbackground": true,
            "ticks": "",
            "zerolinecolor": "white"
           },
           "zaxis": {
            "backgroundcolor": "#E5ECF6",
            "gridcolor": "white",
            "gridwidth": 2,
            "linecolor": "white",
            "showbackground": true,
            "ticks": "",
            "zerolinecolor": "white"
           }
          },
          "shapedefaults": {
           "line": {
            "color": "#2a3f5f"
           }
          },
          "ternary": {
           "aaxis": {
            "gridcolor": "white",
            "linecolor": "white",
            "ticks": ""
           },
           "baxis": {
            "gridcolor": "white",
            "linecolor": "white",
            "ticks": ""
           },
           "bgcolor": "#E5ECF6",
           "caxis": {
            "gridcolor": "white",
            "linecolor": "white",
            "ticks": ""
           }
          },
          "title": {
           "x": 0.05
          },
          "xaxis": {
           "automargin": true,
           "gridcolor": "white",
           "linecolor": "white",
           "ticks": "",
           "title": {
            "standoff": 15
           },
           "zerolinecolor": "white",
           "zerolinewidth": 2
          },
          "yaxis": {
           "automargin": true,
           "gridcolor": "white",
           "linecolor": "white",
           "ticks": "",
           "title": {
            "standoff": 15
           },
           "zerolinecolor": "white",
           "zerolinewidth": 2
          }
         }
        },
        "title": {
         "text": "Total Number of ATLAS Subscribers per Subscription: 2015 - 2020"
        },
        "width": 1000,
        "xaxis": {
         "anchor": "y",
         "domain": [
          0,
          1
         ],
         "title": {
          "text": "Number of Years"
         }
        },
        "yaxis": {
         "anchor": "x",
         "domain": [
          0,
          1
         ],
         "title": {
          "text": "Total Number of ATLAS Subscribers"
         }
        }
       }
      }
     },
     "metadata": {}
    },
    {
     "output_type": "display_data",
     "data": {},
     "metadata": {}
    },
    {
     "output_type": "execute_result",
     "data": {
      "text/html": "<div id='6516'>\n\n\n\n\n\n  <div class=\"bk-root\" id=\"f79cb94d-e0e1-4109-b0d0-9f149fcb2a1c\" data-root-id=\"6516\"></div>\n</div>\n<script type=\"application/javascript\">(function(root) {\n  function embed_document(root) {\n  var docs_json = {\"be2ba3ca-7852-4b49-9c06-4e7c415a15a2\":{\"roots\":{\"references\":[{\"attributes\":{\"children\":[{\"id\":\"6517\"},{\"id\":\"6518\"},{\"id\":\"6519\"},{\"id\":\"6520\"}],\"margin\":[0,0,0,0],\"name\":\"Column10781\"},\"id\":\"6516\",\"type\":\"Column\"},{\"attributes\":{\"client_comm_id\":\"55abd4f3b4f74481a0e74b276655d1c9\",\"comm_id\":\"602b87b840eb4ba390644f7064a0d52a\",\"plot_id\":\"6516\"},\"id\":\"6521\",\"type\":\"panel.models.comm_manager.CommManager\"},{\"attributes\":{\"margin\":[5,5,5,5],\"name\":\"Str10773\"},\"id\":\"6517\",\"type\":\"panel.models.markup.HTML\"},{\"attributes\":{\"margin\":[5,5,5,5],\"name\":\"Str10777\"},\"id\":\"6519\",\"type\":\"panel.models.markup.HTML\"},{\"attributes\":{\"margin\":[5,5,5,5],\"name\":\"Str10779\"},\"id\":\"6520\",\"type\":\"panel.models.markup.HTML\"},{\"attributes\":{\"margin\":[5,5,5,5],\"name\":\"Str10775\"},\"id\":\"6518\",\"type\":\"panel.models.markup.HTML\"}],\"root_ids\":[\"6516\",\"6521\"]},\"title\":\"Bokeh Application\",\"version\":\"2.0.2\"}};\n  var render_items = [{\"docid\":\"be2ba3ca-7852-4b49-9c06-4e7c415a15a2\",\"root_ids\":[\"6516\"],\"roots\":{\"6516\":\"f79cb94d-e0e1-4109-b0d0-9f149fcb2a1c\"}}];\n  root.Bokeh.embed.embed_items_notebook(docs_json, render_items);\n  }\nif (root.Bokeh !== undefined) {\n    embed_document(root);\n  } else {\n    var attempts = 0;\n    var timer = setInterval(function(root) {\n      if (root.Bokeh !== undefined) {\n        clearInterval(timer);\n        embed_document(root);\n      } else if (document.readyState == \"complete\") {\n        attempts++;\n        if (attempts > 100) {\n          clearInterval(timer);\n          console.log(\"Bokeh: ERROR: Unable to run BokehJS code because BokehJS library is missing\");\n        }\n      }\n    }, 10, root)\n  }\n})(window);</script>",
      "application/vnd.holoviews_exec.v0+json": "",
      "text/plain": [
       "Column\n",
       "    [0] Str(None)\n",
       "    [1] Str(None)\n",
       "    [2] Str(None)\n",
       "    [3] Str(None)"
      ]
     },
     "metadata": {
      "application/vnd.holoviews_exec.v0+json": {
       "id": "6516"
      }
     },
     "execution_count": 99
    }
   ],
   "source": [
    "invoice_data_by_service_start = customers_subscriptions.copy().reset_index().set_index(\"Invoice Date\").sort_index(ascending=True)\n",
    "\n",
    "\n",
    "# Subscription quantity per subscription type\n",
    "atlas_grouped__year_subscription__mean  = invoice_data_by_service_start.groupby([\"Year\", \"Subscription\"]).mean()\n",
    "atlas_grouped__year_subscription__sum   = invoice_data_by_service_start.groupby([\"Year\", \"Subscription\"]).sum()\n",
    "atlas_grouped__year_subscription__count = invoice_data_by_service_start.groupby([\"Year\", \"Subscription\"]).count()\n",
    "\n",
    "plt__atlas_grouped__year_subscription__mean = generate_plot__px_bar(\n",
    "    data=atlas_grouped__year_subscription__mean.reset_index(),\n",
    "    x=\"Year\",\n",
    "    y=\"Invoice Amount\",\n",
    "    color=\"Subscription\",\n",
    "    title=\"Avgerage of Sales and User Accounts: 2015 - 2020\",\n",
    "    xlabel=\"Number of Year\",\n",
    "    ylabel=\"Sale Amount over Number of Users\",\n",
    "    barmode=\"group\", width=1000, height=600\n",
    "    )\n",
    "\n",
    "plt__atlas_grouped__year_subscription__sum = generate_plot__px_bar(\n",
    "    data=atlas_grouped__year_subscription__sum.reset_index(),\n",
    "    x=\"Year\",\n",
    "    y=\"Invoice Amount\",\n",
    "    color=\"Subscription\",\n",
    "    title=\"Total Invoice Amount per Subscription: 2015 - 2020\",\n",
    "    xlabel=\"Number of Years\",\n",
    "    ylabel=\"Total Sales of ATLAS Subscription\",\n",
    "    barmode=\"group\", width=1000, height=600\n",
    "    )\n",
    "\n",
    "plt__atlas_grouped__year_subscription__count = generate_plot__px_bar(\n",
    "    data=atlas_grouped__year_subscription__count.reset_index(),\n",
    "    x=\"Year\",\n",
    "    y=\"Invoice Amount\",\n",
    "    color=\"Subscription\",\n",
    "    title=\"Total Number of Invoices per Subscription: 2015 - 2020\",\n",
    "    xlabel=\"Number of Years\",\n",
    "    ylabel=\"Total Number of Invoices Submitted\",\n",
    "    barmode=\"group\", width=1000, height=600\n",
    "    )\n",
    "\n",
    "plt__atlas_grouped__year_subscription__nbrusers = generate_plot__px_bar(\n",
    "    data=atlas_grouped__year_subscription__sum.reset_index(),\n",
    "    x=\"Year\",\n",
    "    y=\"Number of Users\",\n",
    "    color=\"Subscription\",\n",
    "    title=\"Total Number of ATLAS Subscribers per Subscription: 2015 - 2020\",\n",
    "    xlabel=\"Number of Years\",\n",
    "    ylabel=\"Total Number of ATLAS Subscribers\",\n",
    "    barmode=\"group\", width=1000, height=600\n",
    "    )\n",
    "\n",
    "pn.Column(\n",
    "    plt__atlas_grouped__year_subscription__mean.show(),\n",
    "    plt__atlas_grouped__year_subscription__sum.show(),\n",
    "    plt__atlas_grouped__year_subscription__count.show(),\n",
    "    plt__atlas_grouped__year_subscription__nbrusers.show()\n",
    ")\n",
    "\n",
    "\n",
    "\n",
    "# plt__atlas_grouped__year_subscription__count.show()\n",
    "\n",
    "# .plot.pie(x=\"Customers\", y=\"Invoice Amount\", figsize=(8, 8))\n",
    "\n",
    "\n",
    "# TODO Subscription count per subscription type\n",
    "\n",
    "# TODO hvplot forall\n",
    "\n",
    "# TODO use new data (removes 18months 5months)\n"
   ]
  },
  {
   "cell_type": "code",
   "execution_count": 100,
   "metadata": {},
   "outputs": [],
   "source": [
    "customers_status_1 = atlas.loc[:, ['Customers', 'Invoice Date', 'Number of Users', 'Year', 'Customers Status']]"
   ]
  },
  {
   "cell_type": "code",
   "execution_count": 101,
   "metadata": {},
   "outputs": [
    {
     "output_type": "display_data",
     "data": {},
     "metadata": {}
    },
    {
     "output_type": "execute_result",
     "data": {
      "text/html": "<div id='6522'>\n\n\n\n\n\n  <div class=\"bk-root\" id=\"8c88b27c-0ebd-480d-8a36-a6ada5c86331\" data-root-id=\"6522\"></div>\n</div>\n<script type=\"application/javascript\">(function(root) {\n  function embed_document(root) {\n  var docs_json = {\"23e24c40-79f7-4915-b4ee-146dacaee964\":{\"roots\":{\"references\":[{\"attributes\":{},\"id\":\"6526\",\"type\":\"NumberFormatter\"},{\"attributes\":{\"columns\":[{\"id\":\"6528\"},{\"id\":\"6533\"},{\"id\":\"6538\"},{\"id\":\"6543\"},{\"id\":\"6548\"},{\"id\":\"6553\"}],\"height\":300,\"reorderable\":false,\"source\":{\"id\":\"6524\"},\"view\":{\"id\":\"6557\"},\"width\":700},\"id\":\"6556\",\"type\":\"DataTable\"},{\"attributes\":{},\"id\":\"6542\",\"type\":\"IntEditor\"},{\"attributes\":{\"source\":{\"id\":\"6524\"}},\"id\":\"6557\",\"type\":\"CDSView\"},{\"attributes\":{\"editor\":{\"id\":\"6532\"},\"field\":\"Subscription\",\"formatter\":{\"id\":\"6531\"},\"title\":\"Subscription\"},\"id\":\"6533\",\"type\":\"TableColumn\"},{\"attributes\":{\"margin\":[5,5,5,5],\"name\":\"HSpacer10849\",\"sizing_mode\":\"stretch_width\"},\"id\":\"6560\",\"type\":\"Spacer\"},{\"attributes\":{\"margin\":[5,5,5,5],\"name\":\"HSpacer10848\",\"sizing_mode\":\"stretch_width\"},\"id\":\"6523\",\"type\":\"Spacer\"},{\"attributes\":{\"editor\":{\"id\":\"6527\"},\"field\":\"Year\",\"formatter\":{\"id\":\"6526\"},\"title\":\"Year\"},\"id\":\"6528\",\"type\":\"TableColumn\"},{\"attributes\":{\"data\":{\"Customers\":[10,44,11,42,2,13,53,11,58,1,15,1,235,119,28,1,56],\"Invoice_Amount\":[10,44,11,42,2,13,52,11,58,1,14,1,235,119,28,1,56],\"Number_of_Users\":[10,44,11,42,2,13,53,11,57,1,14,1,235,119,28,1,56],\"Subscription\":[\"1 Year\",\"1 Year\",\"3 Years\",\"1 Year\",\"2 Years\",\"3 Years\",\"1 Year\",\"3 Years\",\"1 Year\",\"2 Years\",\"3 Years\",\"6 Months\",\"1 Year\",\"3 Months\",\"3 Years\",\"30 Days\",\"6 Months\"],\"Year\":[2015,2016,2016,2017,2017,2017,2018,2018,2019,2019,2019,2019,2020,2020,2020,2020,2020],\"index\":[10,44,11,42,2,13,53,11,58,1,15,1,235,119,28,1,56]},\"selected\":{\"id\":\"6525\"},\"selection_policy\":{\"id\":\"6559\"}},\"id\":\"6524\",\"type\":\"ColumnDataSource\"},{\"attributes\":{},\"id\":\"6546\",\"type\":\"NumberFormatter\"},{\"attributes\":{},\"id\":\"6525\",\"type\":\"Selection\"},{\"attributes\":{\"editor\":{\"id\":\"6552\"},\"field\":\"Number_of_Users\",\"formatter\":{\"id\":\"6551\"},\"title\":\"Number of Users\"},\"id\":\"6553\",\"type\":\"TableColumn\"},{\"attributes\":{},\"id\":\"6527\",\"type\":\"IntEditor\"},{\"attributes\":{\"editor\":{\"id\":\"6542\"},\"field\":\"Customers\",\"formatter\":{\"id\":\"6541\"},\"title\":\"Customers\"},\"id\":\"6543\",\"type\":\"TableColumn\"},{\"attributes\":{},\"id\":\"6541\",\"type\":\"NumberFormatter\"},{\"attributes\":{},\"id\":\"6537\",\"type\":\"IntEditor\"},{\"attributes\":{},\"id\":\"6532\",\"type\":\"StringEditor\"},{\"attributes\":{},\"id\":\"6531\",\"type\":\"StringFormatter\"},{\"attributes\":{\"children\":[{\"id\":\"6523\"},{\"id\":\"6556\"},{\"id\":\"6560\"}],\"margin\":[0,0,0,0],\"name\":\"Row10844\",\"tags\":[\"embedded\"]},\"id\":\"6522\",\"type\":\"Row\"},{\"attributes\":{},\"id\":\"6551\",\"type\":\"NumberFormatter\"},{\"attributes\":{},\"id\":\"6547\",\"type\":\"IntEditor\"},{\"attributes\":{\"editor\":{\"id\":\"6537\"},\"field\":\"index\",\"formatter\":{\"id\":\"6536\"},\"title\":\"index\"},\"id\":\"6538\",\"type\":\"TableColumn\"},{\"attributes\":{},\"id\":\"6552\",\"type\":\"IntEditor\"},{\"attributes\":{},\"id\":\"6536\",\"type\":\"NumberFormatter\"},{\"attributes\":{\"editor\":{\"id\":\"6547\"},\"field\":\"Invoice_Amount\",\"formatter\":{\"id\":\"6546\"},\"title\":\"Invoice Amount\"},\"id\":\"6548\",\"type\":\"TableColumn\"},{\"attributes\":{},\"id\":\"6559\",\"type\":\"UnionRenderers\"}],\"root_ids\":[\"6522\"]},\"title\":\"Bokeh Application\",\"version\":\"2.0.2\"}};\n  var render_items = [{\"docid\":\"23e24c40-79f7-4915-b4ee-146dacaee964\",\"root_ids\":[\"6522\"],\"roots\":{\"6522\":\"8c88b27c-0ebd-480d-8a36-a6ada5c86331\"}}];\n  root.Bokeh.embed.embed_items_notebook(docs_json, render_items);\n  }\nif (root.Bokeh !== undefined) {\n    embed_document(root);\n  } else {\n    var attempts = 0;\n    var timer = setInterval(function(root) {\n      if (root.Bokeh !== undefined) {\n        clearInterval(timer);\n        embed_document(root);\n      } else if (document.readyState == \"complete\") {\n        attempts++;\n        if (attempts > 100) {\n          clearInterval(timer);\n          console.log(\"Bokeh: ERROR: Unable to run BokehJS code because BokehJS library is missing\");\n        }\n      }\n    }, 10, root)\n  }\n})(window);</script>",
      "application/vnd.holoviews_exec.v0+json": "",
      "text/plain": [
       ":Table   [Year,Subscription,index,Customers,Invoice Amount,Number of Users]"
      ]
     },
     "metadata": {
      "application/vnd.holoviews_exec.v0+json": {
       "id": "6522"
      }
     },
     "execution_count": 101
    }
   ],
   "source": [
    "atlas_grouped__year_subscription__count.hvplot.table()"
   ]
  },
  {
   "cell_type": "code",
   "execution_count": 102,
   "metadata": {},
   "outputs": [
    {
     "output_type": "display_data",
     "data": {
      "application/vnd.plotly.v1+json": {
       "config": {
        "plotlyServerURL": "https://plot.ly"
       },
       "data": [
        {
         "alignmentgroup": "True",
         "hovertemplate": "Customers Status=Active<br>Year=%{x}<br>Number of Users=%{y}<extra></extra>",
         "legendgroup": "Active",
         "marker": {
          "color": "#636efa"
         },
         "name": "Active",
         "offsetgroup": "Active",
         "orientation": "v",
         "showlegend": true,
         "textposition": "auto",
         "type": "bar",
         "x": [
          2015,
          2016,
          2017,
          2018,
          2019,
          2020
         ],
         "xaxis": "x",
         "y": [
          5,
          26,
          25,
          44,
          61,
          91
         ],
         "yaxis": "y"
        },
        {
         "alignmentgroup": "True",
         "hovertemplate": "Customers Status=Lost<br>Year=%{x}<br>Number of Users=%{y}<extra></extra>",
         "legendgroup": "Lost",
         "marker": {
          "color": "#EF553B"
         },
         "name": "Lost",
         "offsetgroup": "Lost",
         "orientation": "v",
         "showlegend": true,
         "textposition": "auto",
         "type": "bar",
         "x": [
          2015,
          2016,
          2017,
          2018,
          2019,
          2020
         ],
         "xaxis": "x",
         "y": [
          5,
          29,
          32,
          20,
          11,
          21
         ],
         "yaxis": "y"
        },
        {
         "alignmentgroup": "True",
         "hovertemplate": "Customers Status=New<br>Year=%{x}<br>Number of Users=%{y}<extra></extra>",
         "legendgroup": "New",
         "marker": {
          "color": "#00cc96"
         },
         "name": "New",
         "offsetgroup": "New",
         "orientation": "v",
         "showlegend": true,
         "textposition": "auto",
         "type": "bar",
         "x": [
          2019,
          2020
         ],
         "xaxis": "x",
         "y": [
          1,
          327
         ],
         "yaxis": "y"
        }
       ],
       "layout": {
        "barmode": "group",
        "height": 800,
        "legend": {
         "title": {
          "text": "Customers Status"
         },
         "tracegroupgap": 0
        },
        "template": {
         "data": {
          "bar": [
           {
            "error_x": {
             "color": "#2a3f5f"
            },
            "error_y": {
             "color": "#2a3f5f"
            },
            "marker": {
             "line": {
              "color": "#E5ECF6",
              "width": 0.5
             }
            },
            "type": "bar"
           }
          ],
          "barpolar": [
           {
            "marker": {
             "line": {
              "color": "#E5ECF6",
              "width": 0.5
             }
            },
            "type": "barpolar"
           }
          ],
          "carpet": [
           {
            "aaxis": {
             "endlinecolor": "#2a3f5f",
             "gridcolor": "white",
             "linecolor": "white",
             "minorgridcolor": "white",
             "startlinecolor": "#2a3f5f"
            },
            "baxis": {
             "endlinecolor": "#2a3f5f",
             "gridcolor": "white",
             "linecolor": "white",
             "minorgridcolor": "white",
             "startlinecolor": "#2a3f5f"
            },
            "type": "carpet"
           }
          ],
          "choropleth": [
           {
            "colorbar": {
             "outlinewidth": 0,
             "ticks": ""
            },
            "type": "choropleth"
           }
          ],
          "contour": [
           {
            "colorbar": {
             "outlinewidth": 0,
             "ticks": ""
            },
            "colorscale": [
             [
              0,
              "#0d0887"
             ],
             [
              0.1111111111111111,
              "#46039f"
             ],
             [
              0.2222222222222222,
              "#7201a8"
             ],
             [
              0.3333333333333333,
              "#9c179e"
             ],
             [
              0.4444444444444444,
              "#bd3786"
             ],
             [
              0.5555555555555556,
              "#d8576b"
             ],
             [
              0.6666666666666666,
              "#ed7953"
             ],
             [
              0.7777777777777778,
              "#fb9f3a"
             ],
             [
              0.8888888888888888,
              "#fdca26"
             ],
             [
              1,
              "#f0f921"
             ]
            ],
            "type": "contour"
           }
          ],
          "contourcarpet": [
           {
            "colorbar": {
             "outlinewidth": 0,
             "ticks": ""
            },
            "type": "contourcarpet"
           }
          ],
          "heatmap": [
           {
            "colorbar": {
             "outlinewidth": 0,
             "ticks": ""
            },
            "colorscale": [
             [
              0,
              "#0d0887"
             ],
             [
              0.1111111111111111,
              "#46039f"
             ],
             [
              0.2222222222222222,
              "#7201a8"
             ],
             [
              0.3333333333333333,
              "#9c179e"
             ],
             [
              0.4444444444444444,
              "#bd3786"
             ],
             [
              0.5555555555555556,
              "#d8576b"
             ],
             [
              0.6666666666666666,
              "#ed7953"
             ],
             [
              0.7777777777777778,
              "#fb9f3a"
             ],
             [
              0.8888888888888888,
              "#fdca26"
             ],
             [
              1,
              "#f0f921"
             ]
            ],
            "type": "heatmap"
           }
          ],
          "heatmapgl": [
           {
            "colorbar": {
             "outlinewidth": 0,
             "ticks": ""
            },
            "colorscale": [
             [
              0,
              "#0d0887"
             ],
             [
              0.1111111111111111,
              "#46039f"
             ],
             [
              0.2222222222222222,
              "#7201a8"
             ],
             [
              0.3333333333333333,
              "#9c179e"
             ],
             [
              0.4444444444444444,
              "#bd3786"
             ],
             [
              0.5555555555555556,
              "#d8576b"
             ],
             [
              0.6666666666666666,
              "#ed7953"
             ],
             [
              0.7777777777777778,
              "#fb9f3a"
             ],
             [
              0.8888888888888888,
              "#fdca26"
             ],
             [
              1,
              "#f0f921"
             ]
            ],
            "type": "heatmapgl"
           }
          ],
          "histogram": [
           {
            "marker": {
             "colorbar": {
              "outlinewidth": 0,
              "ticks": ""
             }
            },
            "type": "histogram"
           }
          ],
          "histogram2d": [
           {
            "colorbar": {
             "outlinewidth": 0,
             "ticks": ""
            },
            "colorscale": [
             [
              0,
              "#0d0887"
             ],
             [
              0.1111111111111111,
              "#46039f"
             ],
             [
              0.2222222222222222,
              "#7201a8"
             ],
             [
              0.3333333333333333,
              "#9c179e"
             ],
             [
              0.4444444444444444,
              "#bd3786"
             ],
             [
              0.5555555555555556,
              "#d8576b"
             ],
             [
              0.6666666666666666,
              "#ed7953"
             ],
             [
              0.7777777777777778,
              "#fb9f3a"
             ],
             [
              0.8888888888888888,
              "#fdca26"
             ],
             [
              1,
              "#f0f921"
             ]
            ],
            "type": "histogram2d"
           }
          ],
          "histogram2dcontour": [
           {
            "colorbar": {
             "outlinewidth": 0,
             "ticks": ""
            },
            "colorscale": [
             [
              0,
              "#0d0887"
             ],
             [
              0.1111111111111111,
              "#46039f"
             ],
             [
              0.2222222222222222,
              "#7201a8"
             ],
             [
              0.3333333333333333,
              "#9c179e"
             ],
             [
              0.4444444444444444,
              "#bd3786"
             ],
             [
              0.5555555555555556,
              "#d8576b"
             ],
             [
              0.6666666666666666,
              "#ed7953"
             ],
             [
              0.7777777777777778,
              "#fb9f3a"
             ],
             [
              0.8888888888888888,
              "#fdca26"
             ],
             [
              1,
              "#f0f921"
             ]
            ],
            "type": "histogram2dcontour"
           }
          ],
          "mesh3d": [
           {
            "colorbar": {
             "outlinewidth": 0,
             "ticks": ""
            },
            "type": "mesh3d"
           }
          ],
          "parcoords": [
           {
            "line": {
             "colorbar": {
              "outlinewidth": 0,
              "ticks": ""
             }
            },
            "type": "parcoords"
           }
          ],
          "pie": [
           {
            "automargin": true,
            "type": "pie"
           }
          ],
          "scatter": [
           {
            "marker": {
             "colorbar": {
              "outlinewidth": 0,
              "ticks": ""
             }
            },
            "type": "scatter"
           }
          ],
          "scatter3d": [
           {
            "line": {
             "colorbar": {
              "outlinewidth": 0,
              "ticks": ""
             }
            },
            "marker": {
             "colorbar": {
              "outlinewidth": 0,
              "ticks": ""
             }
            },
            "type": "scatter3d"
           }
          ],
          "scattercarpet": [
           {
            "marker": {
             "colorbar": {
              "outlinewidth": 0,
              "ticks": ""
             }
            },
            "type": "scattercarpet"
           }
          ],
          "scattergeo": [
           {
            "marker": {
             "colorbar": {
              "outlinewidth": 0,
              "ticks": ""
             }
            },
            "type": "scattergeo"
           }
          ],
          "scattergl": [
           {
            "marker": {
             "colorbar": {
              "outlinewidth": 0,
              "ticks": ""
             }
            },
            "type": "scattergl"
           }
          ],
          "scattermapbox": [
           {
            "marker": {
             "colorbar": {
              "outlinewidth": 0,
              "ticks": ""
             }
            },
            "type": "scattermapbox"
           }
          ],
          "scatterpolar": [
           {
            "marker": {
             "colorbar": {
              "outlinewidth": 0,
              "ticks": ""
             }
            },
            "type": "scatterpolar"
           }
          ],
          "scatterpolargl": [
           {
            "marker": {
             "colorbar": {
              "outlinewidth": 0,
              "ticks": ""
             }
            },
            "type": "scatterpolargl"
           }
          ],
          "scatterternary": [
           {
            "marker": {
             "colorbar": {
              "outlinewidth": 0,
              "ticks": ""
             }
            },
            "type": "scatterternary"
           }
          ],
          "surface": [
           {
            "colorbar": {
             "outlinewidth": 0,
             "ticks": ""
            },
            "colorscale": [
             [
              0,
              "#0d0887"
             ],
             [
              0.1111111111111111,
              "#46039f"
             ],
             [
              0.2222222222222222,
              "#7201a8"
             ],
             [
              0.3333333333333333,
              "#9c179e"
             ],
             [
              0.4444444444444444,
              "#bd3786"
             ],
             [
              0.5555555555555556,
              "#d8576b"
             ],
             [
              0.6666666666666666,
              "#ed7953"
             ],
             [
              0.7777777777777778,
              "#fb9f3a"
             ],
             [
              0.8888888888888888,
              "#fdca26"
             ],
             [
              1,
              "#f0f921"
             ]
            ],
            "type": "surface"
           }
          ],
          "table": [
           {
            "cells": {
             "fill": {
              "color": "#EBF0F8"
             },
             "line": {
              "color": "white"
             }
            },
            "header": {
             "fill": {
              "color": "#C8D4E3"
             },
             "line": {
              "color": "white"
             }
            },
            "type": "table"
           }
          ]
         },
         "layout": {
          "annotationdefaults": {
           "arrowcolor": "#2a3f5f",
           "arrowhead": 0,
           "arrowwidth": 1
          },
          "coloraxis": {
           "colorbar": {
            "outlinewidth": 0,
            "ticks": ""
           }
          },
          "colorscale": {
           "diverging": [
            [
             0,
             "#8e0152"
            ],
            [
             0.1,
             "#c51b7d"
            ],
            [
             0.2,
             "#de77ae"
            ],
            [
             0.3,
             "#f1b6da"
            ],
            [
             0.4,
             "#fde0ef"
            ],
            [
             0.5,
             "#f7f7f7"
            ],
            [
             0.6,
             "#e6f5d0"
            ],
            [
             0.7,
             "#b8e186"
            ],
            [
             0.8,
             "#7fbc41"
            ],
            [
             0.9,
             "#4d9221"
            ],
            [
             1,
             "#276419"
            ]
           ],
           "sequential": [
            [
             0,
             "#0d0887"
            ],
            [
             0.1111111111111111,
             "#46039f"
            ],
            [
             0.2222222222222222,
             "#7201a8"
            ],
            [
             0.3333333333333333,
             "#9c179e"
            ],
            [
             0.4444444444444444,
             "#bd3786"
            ],
            [
             0.5555555555555556,
             "#d8576b"
            ],
            [
             0.6666666666666666,
             "#ed7953"
            ],
            [
             0.7777777777777778,
             "#fb9f3a"
            ],
            [
             0.8888888888888888,
             "#fdca26"
            ],
            [
             1,
             "#f0f921"
            ]
           ],
           "sequentialminus": [
            [
             0,
             "#0d0887"
            ],
            [
             0.1111111111111111,
             "#46039f"
            ],
            [
             0.2222222222222222,
             "#7201a8"
            ],
            [
             0.3333333333333333,
             "#9c179e"
            ],
            [
             0.4444444444444444,
             "#bd3786"
            ],
            [
             0.5555555555555556,
             "#d8576b"
            ],
            [
             0.6666666666666666,
             "#ed7953"
            ],
            [
             0.7777777777777778,
             "#fb9f3a"
            ],
            [
             0.8888888888888888,
             "#fdca26"
            ],
            [
             1,
             "#f0f921"
            ]
           ]
          },
          "colorway": [
           "#636efa",
           "#EF553B",
           "#00cc96",
           "#ab63fa",
           "#FFA15A",
           "#19d3f3",
           "#FF6692",
           "#B6E880",
           "#FF97FF",
           "#FECB52"
          ],
          "font": {
           "color": "#2a3f5f"
          },
          "geo": {
           "bgcolor": "white",
           "lakecolor": "white",
           "landcolor": "#E5ECF6",
           "showlakes": true,
           "showland": true,
           "subunitcolor": "white"
          },
          "hoverlabel": {
           "align": "left"
          },
          "hovermode": "closest",
          "mapbox": {
           "style": "light"
          },
          "paper_bgcolor": "white",
          "plot_bgcolor": "#E5ECF6",
          "polar": {
           "angularaxis": {
            "gridcolor": "white",
            "linecolor": "white",
            "ticks": ""
           },
           "bgcolor": "#E5ECF6",
           "radialaxis": {
            "gridcolor": "white",
            "linecolor": "white",
            "ticks": ""
           }
          },
          "scene": {
           "xaxis": {
            "backgroundcolor": "#E5ECF6",
            "gridcolor": "white",
            "gridwidth": 2,
            "linecolor": "white",
            "showbackground": true,
            "ticks": "",
            "zerolinecolor": "white"
           },
           "yaxis": {
            "backgroundcolor": "#E5ECF6",
            "gridcolor": "white",
            "gridwidth": 2,
            "linecolor": "white",
            "showbackground": true,
            "ticks": "",
            "zerolinecolor": "white"
           },
           "zaxis": {
            "backgroundcolor": "#E5ECF6",
            "gridcolor": "white",
            "gridwidth": 2,
            "linecolor": "white",
            "showbackground": true,
            "ticks": "",
            "zerolinecolor": "white"
           }
          },
          "shapedefaults": {
           "line": {
            "color": "#2a3f5f"
           }
          },
          "ternary": {
           "aaxis": {
            "gridcolor": "white",
            "linecolor": "white",
            "ticks": ""
           },
           "baxis": {
            "gridcolor": "white",
            "linecolor": "white",
            "ticks": ""
           },
           "bgcolor": "#E5ECF6",
           "caxis": {
            "gridcolor": "white",
            "linecolor": "white",
            "ticks": ""
           }
          },
          "title": {
           "x": 0.05
          },
          "xaxis": {
           "automargin": true,
           "gridcolor": "white",
           "linecolor": "white",
           "ticks": "",
           "title": {
            "standoff": 15
           },
           "zerolinecolor": "white",
           "zerolinewidth": 2
          },
          "yaxis": {
           "automargin": true,
           "gridcolor": "white",
           "linecolor": "white",
           "ticks": "",
           "title": {
            "standoff": 15
           },
           "zerolinecolor": "white",
           "zerolinewidth": 2
          }
         }
        },
        "title": {
         "text": "Customers Status based on Activities: 2015 - 2020"
        },
        "width": 1000,
        "xaxis": {
         "anchor": "y",
         "domain": [
          0,
          1
         ],
         "title": {
          "text": "Year"
         }
        },
        "yaxis": {
         "anchor": "x",
         "domain": [
          0,
          1
         ],
         "title": {
          "text": "Total Number of Customers"
         }
        }
       }
      }
     },
     "metadata": {}
    }
   ],
   "source": [
    "invoice_data_by_service_start_1 = customers_status_1.copy().reset_index().set_index(\"Invoice Date\").sort_index(ascending=True)\n",
    "\n",
    "\n",
    "# Subscription quantity per subscription type\n",
    "\n",
    "atlas_grouped__year_subscription__count_1 = invoice_data_by_service_start_1.groupby([\"Year\", \"Customers Status\"]).count()\n",
    "\n",
    "\n",
    "plt__atlas_grouped__year_subscription__count_1 = generate_plot__px_bar(\n",
    "    data=atlas_grouped__year_subscription__count_1.reset_index(),\n",
    "    x=\"Year\",\n",
    "    y=\"Number of Users\",\n",
    "    color=\"Customers Status\",\n",
    "    title=\"Customers Status based on Activities: 2015 - 2020\",\n",
    "    xlabel=\"Year\",\n",
    "    ylabel=\"Total Number of Customers\",\n",
    "    barmode=\"group\", width=1000, height=800\n",
    "    )\n",
    "\n",
    "plt__atlas_grouped__year_subscription__count_1.show()"
   ]
  },
  {
   "cell_type": "code",
   "execution_count": 126,
   "metadata": {},
   "outputs": [
    {
     "output_type": "execute_result",
     "data": {
      "text/plain": [
       "          Customers  Number of Users              Invoice Date  Invoice #  \\\n",
       "0      University 1           7050.0 2015-03-20 00:00:00-04:00  ATLAS 315   \n",
       "1      University 2            250.0 2015-05-28 00:00:00-04:00      AJ501   \n",
       "2      University 3            100.0 2015-06-23 00:00:00-04:00      AJ502   \n",
       "3      University 4            500.0 2015-06-26 00:00:00-04:00      AJ503   \n",
       "4      University 5             15.0 2015-10-07 00:00:00-04:00      AJ504   \n",
       "..              ...              ...                       ...        ...   \n",
       "695  University 300            200.0 2020-12-08 00:00:00-05:00   NB120920   \n",
       "696   University 81            200.0 2020-12-08 00:00:00-05:00   NB12092B   \n",
       "697  University 236            350.0 2020-12-08 00:00:00-05:00   NB120820   \n",
       "698  University 392             50.0 2020-12-08 00:00:00-05:00  NB120920A   \n",
       "699  University 393            300.0 2020-12-09 00:00:00-05:00  NB120920C   \n",
       "\n",
       "     Year     Month  Invoice Amount Subscription 2021 Prediction  \\\n",
       "0    2015     March         72000.0       1 Year             NaN   \n",
       "1    2015       May          3500.0       1 Year             NaN   \n",
       "2    2015      June          3500.0       1 Year             NaN   \n",
       "3    2015      June          6500.0       1 Year             NaN   \n",
       "4    2015   October           750.0       1 Year             NaN   \n",
       "..    ...       ...             ...          ...             ...   \n",
       "695  2020  December          1750.0     6 Months      $1,750.00    \n",
       "696  2020  December          2000.0       1 Year      $2,000.00    \n",
       "697  2020  December          2500.0     6 Months      $2,500.00    \n",
       "698  2020  December          1000.0       1 Year        $500.00    \n",
       "699  2020  December          4500.0       1 Year             NaN   \n",
       "\n",
       "    Customers Status            Account Code   \\\n",
       "0               Lost  4700-0-00-00000-18-0000   \n",
       "1             Active  4700-0-00-00000-16-0000   \n",
       "2             Active  4700-0-00-00000-17-0000   \n",
       "3               Lost  4700-0-00-00000-32-0000   \n",
       "4               Lost  4700-0-00-00000-20-0000   \n",
       "..               ...                      ...   \n",
       "695              New  4700-0-00-00000-00-0000   \n",
       "696           Active  4700-0-00-00000-00-0000   \n",
       "697              New  4700-0-00-00000-00-0000   \n",
       "698              New  4700-0-00-00000-00-0000   \n",
       "699              New  4700-0-00-00000-00-0000   \n",
       "\n",
       "                                               Address   State        Lat  \\\n",
       "0              1201 N 3rd St #6, Baton Rouge, LA 70802      LA  30.460190   \n",
       "1                     1 Kellogg Cir, Emporia, KS 66801      KS  38.392609   \n",
       "2              150 University Blvd, Morehead, KY 40351      KY  38.184921   \n",
       "3                 44 Pierrepont Ave, Potsdam, NY 13676      NY  44.663780   \n",
       "4            47645 College Dr, St Marys City, MD 20686      MD  38.190601   \n",
       "..                                                 ...     ...        ...   \n",
       "695                 435 College Ave, Modesto, CA 95350      CA  37.651310   \n",
       "696             601 S College Rd, Wilmington, NC 28403      NC  34.223991   \n",
       "697  1812 Sir Isaac Brock Way, St. Catharines, Onta...  Canada  43.118799   \n",
       "698           303 Homestead Avenue, Holyoke, MA  01040      MA  42.193910   \n",
       "699  820 Main Street, Wardlaw 221, Columbia, SC  29208      SC  33.996170   \n",
       "\n",
       "           Long             Service Start               Service End  \\\n",
       "0    -91.188530 2015-03-18 00:00:00-04:00 2016-06-30 00:00:00-04:00   \n",
       "1    -96.181396 2015-06-01 00:00:00-04:00 2016-06-30 00:00:00-04:00   \n",
       "2    -83.434441 2015-06-10 00:00:00-04:00 2016-06-30 00:00:00-04:00   \n",
       "3    -74.978409 2015-06-01 00:00:00-04:00 2016-06-30 00:00:00-04:00   \n",
       "4    -76.426300 2015-10-05 00:00:00-04:00 2016-09-30 00:00:00-04:00   \n",
       "..          ...                       ...                       ...   \n",
       "695 -121.009726 2021-03-01 00:00:00-05:00 2021-08-31 00:00:00-04:00   \n",
       "696  -77.867764 2020-08-31 00:00:00-04:00 2021-08-31 00:00:00-04:00   \n",
       "697  -79.238508 2020-12-09 00:00:00-05:00 2021-05-31 00:00:00-04:00   \n",
       "698  -72.647450 2021-01-01 00:00:00-05:00 2021-12-31 00:00:00-05:00   \n",
       "699  -81.031200 2021-01-01 00:00:00-05:00 2021-12-31 00:00:00-05:00   \n",
       "\n",
       "    Subscription Duration  \n",
       "0                365 days  \n",
       "1                365 days  \n",
       "2                365 days  \n",
       "3                365 days  \n",
       "4                365 days  \n",
       "..                    ...  \n",
       "695              180 days  \n",
       "696              365 days  \n",
       "697              180 days  \n",
       "698              365 days  \n",
       "699              365 days  \n",
       "\n",
       "[700 rows x 18 columns]"
      ],
      "text/html": "<div>\n<style scoped>\n    .dataframe tbody tr th:only-of-type {\n        vertical-align: middle;\n    }\n\n    .dataframe tbody tr th {\n        vertical-align: top;\n    }\n\n    .dataframe thead th {\n        text-align: right;\n    }\n</style>\n<table border=\"1\" class=\"dataframe\">\n  <thead>\n    <tr style=\"text-align: right;\">\n      <th></th>\n      <th>Customers</th>\n      <th>Number of Users</th>\n      <th>Invoice Date</th>\n      <th>Invoice #</th>\n      <th>Year</th>\n      <th>Month</th>\n      <th>Invoice Amount</th>\n      <th>Subscription</th>\n      <th>2021 Prediction</th>\n      <th>Customers Status</th>\n      <th>Account Code</th>\n      <th>Address</th>\n      <th>State</th>\n      <th>Lat</th>\n      <th>Long</th>\n      <th>Service Start</th>\n      <th>Service End</th>\n      <th>Subscription Duration</th>\n    </tr>\n  </thead>\n  <tbody>\n    <tr>\n      <th>0</th>\n      <td>University 1</td>\n      <td>7050.0</td>\n      <td>2015-03-20 00:00:00-04:00</td>\n      <td>ATLAS 315</td>\n      <td>2015</td>\n      <td>March</td>\n      <td>72000.0</td>\n      <td>1 Year</td>\n      <td>NaN</td>\n      <td>Lost</td>\n      <td>4700-0-00-00000-18-0000</td>\n      <td>1201 N 3rd St #6, Baton Rouge, LA 70802</td>\n      <td>LA</td>\n      <td>30.460190</td>\n      <td>-91.188530</td>\n      <td>2015-03-18 00:00:00-04:00</td>\n      <td>2016-06-30 00:00:00-04:00</td>\n      <td>365 days</td>\n    </tr>\n    <tr>\n      <th>1</th>\n      <td>University 2</td>\n      <td>250.0</td>\n      <td>2015-05-28 00:00:00-04:00</td>\n      <td>AJ501</td>\n      <td>2015</td>\n      <td>May</td>\n      <td>3500.0</td>\n      <td>1 Year</td>\n      <td>NaN</td>\n      <td>Active</td>\n      <td>4700-0-00-00000-16-0000</td>\n      <td>1 Kellogg Cir, Emporia, KS 66801</td>\n      <td>KS</td>\n      <td>38.392609</td>\n      <td>-96.181396</td>\n      <td>2015-06-01 00:00:00-04:00</td>\n      <td>2016-06-30 00:00:00-04:00</td>\n      <td>365 days</td>\n    </tr>\n    <tr>\n      <th>2</th>\n      <td>University 3</td>\n      <td>100.0</td>\n      <td>2015-06-23 00:00:00-04:00</td>\n      <td>AJ502</td>\n      <td>2015</td>\n      <td>June</td>\n      <td>3500.0</td>\n      <td>1 Year</td>\n      <td>NaN</td>\n      <td>Active</td>\n      <td>4700-0-00-00000-17-0000</td>\n      <td>150 University Blvd, Morehead, KY 40351</td>\n      <td>KY</td>\n      <td>38.184921</td>\n      <td>-83.434441</td>\n      <td>2015-06-10 00:00:00-04:00</td>\n      <td>2016-06-30 00:00:00-04:00</td>\n      <td>365 days</td>\n    </tr>\n    <tr>\n      <th>3</th>\n      <td>University 4</td>\n      <td>500.0</td>\n      <td>2015-06-26 00:00:00-04:00</td>\n      <td>AJ503</td>\n      <td>2015</td>\n      <td>June</td>\n      <td>6500.0</td>\n      <td>1 Year</td>\n      <td>NaN</td>\n      <td>Lost</td>\n      <td>4700-0-00-00000-32-0000</td>\n      <td>44 Pierrepont Ave, Potsdam, NY 13676</td>\n      <td>NY</td>\n      <td>44.663780</td>\n      <td>-74.978409</td>\n      <td>2015-06-01 00:00:00-04:00</td>\n      <td>2016-06-30 00:00:00-04:00</td>\n      <td>365 days</td>\n    </tr>\n    <tr>\n      <th>4</th>\n      <td>University 5</td>\n      <td>15.0</td>\n      <td>2015-10-07 00:00:00-04:00</td>\n      <td>AJ504</td>\n      <td>2015</td>\n      <td>October</td>\n      <td>750.0</td>\n      <td>1 Year</td>\n      <td>NaN</td>\n      <td>Lost</td>\n      <td>4700-0-00-00000-20-0000</td>\n      <td>47645 College Dr, St Marys City, MD 20686</td>\n      <td>MD</td>\n      <td>38.190601</td>\n      <td>-76.426300</td>\n      <td>2015-10-05 00:00:00-04:00</td>\n      <td>2016-09-30 00:00:00-04:00</td>\n      <td>365 days</td>\n    </tr>\n    <tr>\n      <th>...</th>\n      <td>...</td>\n      <td>...</td>\n      <td>...</td>\n      <td>...</td>\n      <td>...</td>\n      <td>...</td>\n      <td>...</td>\n      <td>...</td>\n      <td>...</td>\n      <td>...</td>\n      <td>...</td>\n      <td>...</td>\n      <td>...</td>\n      <td>...</td>\n      <td>...</td>\n      <td>...</td>\n      <td>...</td>\n      <td>...</td>\n    </tr>\n    <tr>\n      <th>695</th>\n      <td>University 300</td>\n      <td>200.0</td>\n      <td>2020-12-08 00:00:00-05:00</td>\n      <td>NB120920</td>\n      <td>2020</td>\n      <td>December</td>\n      <td>1750.0</td>\n      <td>6 Months</td>\n      <td>$1,750.00</td>\n      <td>New</td>\n      <td>4700-0-00-00000-00-0000</td>\n      <td>435 College Ave, Modesto, CA 95350</td>\n      <td>CA</td>\n      <td>37.651310</td>\n      <td>-121.009726</td>\n      <td>2021-03-01 00:00:00-05:00</td>\n      <td>2021-08-31 00:00:00-04:00</td>\n      <td>180 days</td>\n    </tr>\n    <tr>\n      <th>696</th>\n      <td>University 81</td>\n      <td>200.0</td>\n      <td>2020-12-08 00:00:00-05:00</td>\n      <td>NB12092B</td>\n      <td>2020</td>\n      <td>December</td>\n      <td>2000.0</td>\n      <td>1 Year</td>\n      <td>$2,000.00</td>\n      <td>Active</td>\n      <td>4700-0-00-00000-00-0000</td>\n      <td>601 S College Rd, Wilmington, NC 28403</td>\n      <td>NC</td>\n      <td>34.223991</td>\n      <td>-77.867764</td>\n      <td>2020-08-31 00:00:00-04:00</td>\n      <td>2021-08-31 00:00:00-04:00</td>\n      <td>365 days</td>\n    </tr>\n    <tr>\n      <th>697</th>\n      <td>University 236</td>\n      <td>350.0</td>\n      <td>2020-12-08 00:00:00-05:00</td>\n      <td>NB120820</td>\n      <td>2020</td>\n      <td>December</td>\n      <td>2500.0</td>\n      <td>6 Months</td>\n      <td>$2,500.00</td>\n      <td>New</td>\n      <td>4700-0-00-00000-00-0000</td>\n      <td>1812 Sir Isaac Brock Way, St. Catharines, Onta...</td>\n      <td>Canada</td>\n      <td>43.118799</td>\n      <td>-79.238508</td>\n      <td>2020-12-09 00:00:00-05:00</td>\n      <td>2021-05-31 00:00:00-04:00</td>\n      <td>180 days</td>\n    </tr>\n    <tr>\n      <th>698</th>\n      <td>University 392</td>\n      <td>50.0</td>\n      <td>2020-12-08 00:00:00-05:00</td>\n      <td>NB120920A</td>\n      <td>2020</td>\n      <td>December</td>\n      <td>1000.0</td>\n      <td>1 Year</td>\n      <td>$500.00</td>\n      <td>New</td>\n      <td>4700-0-00-00000-00-0000</td>\n      <td>303 Homestead Avenue, Holyoke, MA  01040</td>\n      <td>MA</td>\n      <td>42.193910</td>\n      <td>-72.647450</td>\n      <td>2021-01-01 00:00:00-05:00</td>\n      <td>2021-12-31 00:00:00-05:00</td>\n      <td>365 days</td>\n    </tr>\n    <tr>\n      <th>699</th>\n      <td>University 393</td>\n      <td>300.0</td>\n      <td>2020-12-09 00:00:00-05:00</td>\n      <td>NB120920C</td>\n      <td>2020</td>\n      <td>December</td>\n      <td>4500.0</td>\n      <td>1 Year</td>\n      <td>NaN</td>\n      <td>New</td>\n      <td>4700-0-00-00000-00-0000</td>\n      <td>820 Main Street, Wardlaw 221, Columbia, SC  29208</td>\n      <td>SC</td>\n      <td>33.996170</td>\n      <td>-81.031200</td>\n      <td>2021-01-01 00:00:00-05:00</td>\n      <td>2021-12-31 00:00:00-05:00</td>\n      <td>365 days</td>\n    </tr>\n  </tbody>\n</table>\n<p>700 rows × 18 columns</p>\n</div>"
     },
     "metadata": {},
     "execution_count": 126
    }
   ],
   "source": [
    "atlas"
   ]
  },
  {
   "cell_type": "code",
   "execution_count": 132,
   "metadata": {},
   "outputs": [],
   "source": [
    "parallel_look = atlas.loc[:, ['Customers', 'Number of Users', 'Invoice Amount', 'Year']]"
   ]
  },
  {
   "cell_type": "code",
   "execution_count": 133,
   "metadata": {},
   "outputs": [
    {
     "output_type": "display_data",
     "data": {
      "application/vnd.plotly.v1+json": {
       "config": {
        "plotlyServerURL": "https://plot.ly"
       },
       "data": [
        {
         "dimensions": [
          {
           "label": "Number of Users",
           "values": [
            7050,
            250,
            100,
            500,
            15,
            190,
            2650,
            1470,
            6550,
            250,
            15,
            15,
            250,
            250,
            15,
            15,
            100,
            250,
            270,
            200,
            310,
            20,
            100,
            100,
            500,
            500,
            100,
            100,
            50,
            200,
            645,
            75,
            250,
            100,
            15,
            250,
            250,
            250,
            100,
            4700,
            1000,
            100,
            250,
            100,
            100,
            1000,
            250,
            100,
            100,
            250,
            250,
            250,
            100,
            100,
            100,
            5000,
            250,
            100,
            85,
            300,
            250,
            100,
            75,
            50,
            450,
            50,
            25,
            200,
            50,
            40,
            50,
            50,
            250,
            250,
            100,
            13,
            100,
            500,
            10,
            250,
            100,
            200,
            100,
            100,
            250,
            75,
            300,
            50,
            300,
            100,
            4850,
            300,
            100,
            30,
            25,
            500,
            50,
            350,
            50,
            6,
            20,
            100,
            85,
            126,
            50,
            200,
            20,
            456,
            100,
            25,
            20,
            75,
            1000,
            50,
            1000,
            25,
            20,
            25,
            400,
            250,
            50,
            300,
            50,
            50,
            25,
            25,
            250,
            50,
            500,
            100,
            4700,
            50,
            246,
            50,
            300,
            100,
            100,
            25,
            250,
            25,
            200,
            100,
            1275,
            250,
            25,
            100,
            200,
            150,
            267,
            25,
            75,
            300,
            200,
            35,
            200,
            126,
            50,
            75,
            110,
            435,
            23,
            51,
            50,
            100,
            20,
            200,
            150,
            500,
            20,
            135,
            20,
            300,
            125,
            25,
            50,
            150,
            250,
            50,
            75,
            130,
            77,
            300,
            60,
            20,
            500,
            200,
            50,
            50,
            200,
            135,
            50,
            385,
            250,
            20,
            20,
            4850,
            100,
            25,
            null,
            100,
            50,
            100,
            250,
            50,
            100,
            300,
            50,
            31,
            100,
            151,
            50,
            50,
            200,
            135,
            750,
            60,
            250,
            435,
            300,
            50,
            350,
            20,
            200,
            50,
            50,
            200,
            135,
            50,
            500,
            5,
            250,
            50,
            50,
            200,
            38,
            135,
            100,
            51,
            250,
            50,
            200,
            50,
            50,
            52,
            null,
            5000,
            100,
            55,
            20,
            31,
            50,
            15,
            25,
            45,
            75,
            150,
            10,
            30,
            10,
            151,
            200,
            40,
            250,
            135,
            50,
            20,
            50,
            50,
            500,
            45,
            10,
            50,
            23,
            31,
            100,
            50,
            700,
            250,
            13,
            100,
            600,
            250,
            1000,
            75,
            150,
            75,
            175,
            1419,
            700,
            100,
            85,
            50,
            100,
            2200,
            3200,
            100,
            50,
            100,
            125,
            100,
            61,
            50,
            182,
            400,
            20,
            173,
            500,
            580,
            61,
            250,
            150,
            500,
            25,
            200,
            106,
            100,
            53,
            50,
            300,
            200,
            40,
            800,
            4700,
            41,
            13,
            60,
            400,
            100,
            27,
            100,
            100,
            100,
            100,
            200,
            50,
            30,
            200,
            20,
            50,
            200,
            200,
            100,
            500,
            5000,
            55,
            250,
            200,
            100,
            50,
            100,
            120,
            2000,
            50,
            100,
            17,
            200,
            250,
            200,
            100,
            50,
            40,
            150,
            100,
            100,
            100,
            50,
            200,
            30,
            200,
            150,
            200,
            150,
            500,
            150,
            300,
            130,
            300,
            1300,
            200,
            75,
            50,
            30,
            85,
            300,
            50,
            150,
            100,
            75,
            10,
            50,
            300,
            300,
            150,
            100,
            500,
            60,
            350,
            200,
            350,
            10,
            300,
            50,
            400,
            200,
            60,
            190,
            115,
            50,
            75,
            35,
            100,
            300,
            42,
            100,
            70,
            200,
            100,
            15,
            15,
            90,
            150,
            200,
            350,
            250,
            50,
            150,
            550,
            200,
            500,
            80,
            100,
            97,
            250,
            60,
            75,
            150,
            152,
            20,
            110,
            50,
            150,
            200,
            370,
            50,
            200,
            350,
            70,
            115,
            200,
            100,
            90,
            137,
            200,
            95,
            110,
            700,
            75,
            450,
            150,
            150,
            70,
            150,
            85,
            400,
            700,
            30,
            985,
            50,
            280,
            80,
            172,
            30,
            150,
            100,
            101,
            350,
            80,
            150,
            106,
            186,
            153,
            100,
            200,
            150,
            100,
            300,
            75,
            250,
            350,
            250,
            350,
            200,
            100,
            150,
            300,
            57,
            10,
            250,
            250,
            400,
            100,
            50,
            15,
            170,
            50,
            95,
            75,
            15,
            500,
            25,
            120,
            250,
            70,
            360,
            100,
            580,
            10,
            100,
            425,
            72,
            100,
            400,
            100,
            150,
            75,
            150,
            220,
            25,
            50,
            60,
            21,
            400,
            300,
            260,
            50,
            150,
            150,
            20,
            100,
            500,
            25,
            100,
            359,
            525,
            85,
            250,
            375,
            98,
            450,
            150,
            1430,
            170,
            150,
            80,
            50,
            150,
            325,
            116,
            300,
            40,
            50,
            171,
            50,
            40,
            200,
            55,
            45,
            125,
            134,
            50,
            11,
            100,
            150,
            50,
            34,
            350,
            50,
            200,
            150,
            200,
            71,
            50,
            50,
            600,
            70,
            100,
            200,
            125,
            200,
            200,
            35,
            13,
            25,
            358,
            100,
            425,
            200,
            75,
            56,
            300,
            10,
            36,
            100,
            50,
            150,
            100,
            1150,
            750,
            100,
            130,
            10,
            35,
            75,
            100,
            20,
            19,
            350,
            10,
            500,
            50,
            10,
            150,
            130,
            30,
            20,
            40,
            738,
            500,
            90,
            8,
            110,
            52,
            250,
            50,
            1950,
            500,
            320,
            20,
            100,
            300,
            14,
            500,
            300,
            15,
            60,
            30,
            50,
            100,
            100,
            6271,
            20,
            40,
            350,
            75,
            20,
            30,
            311,
            50,
            1000,
            200,
            100,
            50,
            50,
            20,
            75,
            20,
            50,
            155,
            100,
            50,
            5,
            35,
            50,
            100,
            4,
            20,
            200,
            106,
            10,
            85,
            100,
            60,
            90,
            6,
            200,
            50,
            150,
            350,
            10,
            300,
            350,
            20,
            150,
            475,
            200,
            200,
            200,
            350,
            50,
            300
           ]
          },
          {
           "label": "Invoice Amount",
           "values": [
            72000,
            3500,
            3500,
            6500,
            750,
            3400,
            28000,
            16200,
            67000,
            3500,
            750,
            750,
            6500,
            3500,
            750,
            750,
            750,
            3500,
            4200,
            3500,
            4600,
            750,
            1000,
            750,
            6600,
            2850,
            3500,
            750,
            750,
            3500,
            9450,
            750,
            3500,
            750,
            750,
            2450,
            2450,
            2450,
            750,
            50000,
            13650,
            750,
            3500,
            750,
            1000,
            3500,
            3500,
            750,
            750,
            3500,
            3500,
            750,
            750,
            750,
            750,
            50000,
            8000,
            750,
            750,
            5500,
            3500,
            7350,
            4750,
            1500,
            7500,
            750,
            4999,
            4500,
            1500,
            750,
            1500,
            6300,
            3500,
            3000,
            750,
            2630,
            750,
            15750,
            2550,
            10500,
            750,
            3500,
            750,
            750,
            10500,
            4500,
            9000,
            3000,
            11500,
            750,
            50000,
            4500,
            750,
            5880,
            1750,
            7500,
            6300,
            12600,
            6300,
            2560,
            2700,
            750,
            750,
            3760,
            750,
            3500,
            1700,
            7560,
            2500,
            1750,
            1700,
            1500,
            12500,
            2000,
            26250,
            750,
            1700,
            2700,
            6500,
            3500,
            1500,
            4500,
            1500,
            null,
            250,
            2750,
            3500,
            2650,
            7500,
            750,
            50000,
            750,
            5460,
            1500,
            5500,
            750,
            750,
            5775,
            1900,
            500,
            1700,
            750,
            15750,
            6825,
            500,
            3100,
            3000,
            300,
            5670,
            6300,
            1500,
            4500,
            5000,
            2850,
            3500,
            2760,
            6300,
            1500,
            3600,
            7350,
            1500,
            510,
            750,
            750,
            1700,
            3500,
            3000,
            7500,
            1700,
            1700,
            2700,
            4500,
            2000,
            5250,
            1500,
            1500,
            3500,
            1550,
            1750,
            2800,
            2270,
            4500,
            2100,
            1500,
            7500,
            1500,
            750,
            4200,
            3500,
            1000,
            1750,
            6850,
            3500,
            1250,
            1000,
            50000,
            1250,
            750,
            1000,
            4000,
            7350,
            2100,
            1000,
            5250,
            750,
            8425,
            1000,
            3850,
            1000,
            6450,
            2500,
            2000,
            3000,
            1950,
            4500,
            3600,
            2180,
            7350,
            4500,
            1000,
            2500,
            170,
            2000,
            20000,
            1000,
            3260,
            750,
            2000,
            2500,
            1550,
            2710,
            1500,
            3500,
            1200,
            1880,
            1200,
            1000,
            510,
            1500,
            750,
            1500,
            6000,
            1500,
            15000,
            null,
            16000,
            1000,
            2000,
            860,
            130,
            1250,
            1650,
            500,
            200,
            1250,
            2500,
            250,
            600,
            1100,
            250,
            2500,
            2300,
            3000,
            2350,
            1000,
            250,
            500,
            750,
            1250,
            450,
            1600,
            750,
            1730,
            310,
            6000,
            1000,
            1750,
            3500,
            412,
            875,
            7500,
            1000,
            2875,
            1125,
            875,
            563,
            438,
            3922,
            2125,
            250,
            587,
            1000,
            625,
            5500,
            13920,
            625,
            516,
            2500,
            687,
            625,
            4830,
            250,
            455,
            1375,
            425,
            807,
            1625,
            1825,
            100,
            1666,
            750,
            1625,
            62.5,
            875,
            265,
            625,
            132.5,
            500,
            3000,
            875,
            1900,
            1375,
            50000,
            1900,
            130,
            2100,
            5500,
            625,
            3810,
            625,
            547.43,
            625,
            225,
            875,
            150,
            450,
            500,
            1700,
            250,
            3500,
            875,
            1600,
            5250,
            16000,
            527,
            1000,
            2000,
            625,
            500,
            2500,
            2700,
            21500,
            1000,
            2500,
            476,
            2059,
            10500,
            500,
            6000,
            1000,
            1900,
            3000,
            2000,
            750,
            2500,
            1000,
            2000,
            1800,
            4800,
            2250,
            875,
            375,
            7500,
            7500,
            4500,
            2882,
            1158,
            12500,
            3344.25,
            5252,
            2000,
            1800,
            5500,
            4500,
            1000,
            3000,
            625,
            500,
            160,
            1029,
            4500,
            3500,
            3000,
            2500,
            6500,
            540.33,
            2500,
            2058.8,
            2500,
            1600,
            4500,
            1000,
            2750,
            3500,
            525,
            1700,
            2650,
            1000,
            2250,
            1850,
            2500,
            3000,
            1920,
            2500,
            2200,
            2000,
            2000,
            1650,
            421,
            1200,
            750,
            3500,
            1222,
            4000,
            4500,
            1500,
            7000,
            2500,
            6500,
            2300,
            2500,
            1470,
            2000,
            525,
            2250,
            3000,
            7560,
            425,
            2600,
            2000,
            1500,
            3500,
            3700,
            1000,
            1750,
            2600,
            550,
            1150,
            875,
            2000,
            2100,
            738.01,
            3500,
            237.5,
            2600,
            8500,
            562,
            6000,
            750,
            750,
            550,
            750,
            2350,
            1375,
            8000,
            1800,
            11350,
            2000,
            4300,
            2300,
            1610,
            450,
            1500,
            2500,
            2510,
            12600,
            575,
            1500,
            1280,
            1680,
            3030,
            2500,
            1750,
            3300,
            2500,
            4000,
            562,
            2500,
            5000,
            2500,
            1750,
            3500,
            1250,
            3000,
            4500,
            2070,
            800,
            2500,
            2500,
            4000,
            400,
            500,
            150,
            1700,
            1000,
            950,
            565,
            1650,
            6500,
            437,
            6600,
            4000,
            550,
            5100,
            2100,
            1825,
            400,
            625,
            5750,
            555,
            1000,
            5500,
            625,
            1500,
            2250,
            3000,
            3700,
            500,
            1000,
            525,
            1710,
            5000,
            4500,
            10800,
            500,
            1500,
            1500,
            208.3,
            1250,
            6000,
            875,
            625,
            5090,
            4650,
            587,
            3000,
            937.5,
            2480,
            4500,
            3000,
            15800,
            800,
            1500,
            2300,
            2000,
            375,
            3250,
            290,
            4500,
            1976.3,
            1000,
            1710,
            2000,
            1976.3,
            875,
            512.5,
            4350,
            2750,
            700,
            500,
            391,
            625,
            3000,
            500,
            1840,
            5000,
            2000,
            875,
            750,
            3500,
            355,
            250,
            500,
            7500,
            700,
            1000,
            875,
            2750,
            1750,
            3500,
            462,
            130,
            875,
            1270,
            2500,
            4500,
            3000,
            2250,
            1030,
            4500,
            100,
            360,
            2500,
            125,
            750,
            2500,
            3250,
            2125,
            1000,
            1400,
            800,
            50,
            2250,
            2500,
            200,
            190,
            1250,
            100,
            3250,
            500,
            400,
            3000,
            700,
            450,
            200,
            1900,
            8880,
            1625,
            200,
            395,
            495,
            15520,
            3500,
            500,
            21000,
            3250,
            4700,
            1200,
            1000,
            4500,
            1640,
            6500,
            4500,
            75,
            4800,
            410,
            500,
            2500,
            750,
            16052,
            425,
            100,
            5000,
            562,
            100,
            300,
            3366,
            500,
            26250,
            3500,
            2500,
            500,
            40,
            200,
            2250,
            1700,
            2000,
            1525,
            6000,
            1000,
            1550,
            350,
            1000,
            6000,
            1540,
            200,
            1750,
            624,
            100,
            4300,
            6000,
            4800,
            1200,
            780,
            1750,
            1500,
            1500,
            3500,
            100,
            2250,
            2500,
            200,
            1500,
            3125,
            1750,
            1750,
            2000,
            2500,
            1000,
            4500
           ]
          },
          {
           "label": "Year",
           "values": [
            2015,
            2015,
            2015,
            2015,
            2015,
            2015,
            2015,
            2015,
            2015,
            2015,
            2016,
            2016,
            2016,
            2016,
            2016,
            2016,
            2016,
            2016,
            2016,
            2016,
            2016,
            2016,
            2016,
            2016,
            2016,
            2016,
            2016,
            2016,
            2016,
            2016,
            2016,
            2016,
            2016,
            2016,
            2016,
            2016,
            2016,
            2016,
            2016,
            2016,
            2016,
            2016,
            2016,
            2016,
            2016,
            2016,
            2016,
            2016,
            2016,
            2016,
            2016,
            2016,
            2016,
            2016,
            2016,
            2016,
            2016,
            2016,
            2016,
            2016,
            2016,
            2016,
            2016,
            2016,
            2016,
            2017,
            2017,
            2017,
            2017,
            2017,
            2017,
            2017,
            2017,
            2017,
            2017,
            2017,
            2017,
            2017,
            2017,
            2017,
            2017,
            2017,
            2017,
            2017,
            2017,
            2017,
            2017,
            2017,
            2017,
            2017,
            2017,
            2017,
            2017,
            2017,
            2017,
            2017,
            2017,
            2017,
            2017,
            2017,
            2017,
            2017,
            2017,
            2017,
            2017,
            2017,
            2017,
            2017,
            2017,
            2017,
            2017,
            2017,
            2017,
            2017,
            2017,
            2017,
            2017,
            2017,
            2017,
            2017,
            2017,
            2017,
            2018,
            2018,
            2018,
            2018,
            2018,
            2018,
            2018,
            2018,
            2018,
            2018,
            2018,
            2018,
            2018,
            2018,
            2018,
            2018,
            2018,
            2018,
            2018,
            2018,
            2018,
            2018,
            2018,
            2018,
            2018,
            2018,
            2018,
            2018,
            2018,
            2018,
            2018,
            2018,
            2018,
            2018,
            2018,
            2018,
            2018,
            2018,
            2018,
            2018,
            2018,
            2018,
            2018,
            2018,
            2018,
            2018,
            2018,
            2018,
            2018,
            2018,
            2018,
            2018,
            2018,
            2018,
            2018,
            2018,
            2018,
            2018,
            2018,
            2018,
            2018,
            2018,
            2018,
            2018,
            2019,
            2019,
            2019,
            2019,
            2019,
            2019,
            2019,
            2019,
            2019,
            2019,
            2019,
            2019,
            2019,
            2019,
            2019,
            2019,
            2019,
            2019,
            2019,
            2019,
            2019,
            2019,
            2019,
            2019,
            2019,
            2019,
            2019,
            2019,
            2019,
            2019,
            2019,
            2019,
            2019,
            2019,
            2019,
            2019,
            2019,
            2019,
            2019,
            2019,
            2019,
            2019,
            2019,
            2019,
            2019,
            2019,
            2019,
            2019,
            2019,
            2019,
            2019,
            2019,
            2019,
            2019,
            2019,
            2019,
            2019,
            2019,
            2019,
            2019,
            2019,
            2019,
            2019,
            2019,
            2019,
            2019,
            2019,
            2019,
            2019,
            2019,
            2019,
            2019,
            2019,
            2019,
            2019,
            2020,
            2020,
            2020,
            2020,
            2020,
            2020,
            2020,
            2020,
            2020,
            2020,
            2020,
            2020,
            2020,
            2020,
            2020,
            2020,
            2020,
            2020,
            2020,
            2020,
            2020,
            2020,
            2020,
            2020,
            2020,
            2020,
            2020,
            2020,
            2020,
            2020,
            2020,
            2020,
            2020,
            2020,
            2020,
            2020,
            2020,
            2020,
            2020,
            2020,
            2020,
            2020,
            2020,
            2020,
            2020,
            2020,
            2020,
            2020,
            2020,
            2020,
            2020,
            2020,
            2020,
            2020,
            2020,
            2020,
            2020,
            2020,
            2020,
            2020,
            2020,
            2020,
            2020,
            2020,
            2020,
            2020,
            2020,
            2020,
            2020,
            2020,
            2020,
            2020,
            2020,
            2020,
            2020,
            2020,
            2020,
            2020,
            2020,
            2020,
            2020,
            2020,
            2020,
            2020,
            2020,
            2020,
            2020,
            2020,
            2020,
            2020,
            2020,
            2020,
            2020,
            2020,
            2020,
            2020,
            2020,
            2020,
            2020,
            2020,
            2020,
            2020,
            2020,
            2020,
            2020,
            2020,
            2020,
            2020,
            2020,
            2020,
            2020,
            2020,
            2020,
            2020,
            2020,
            2020,
            2020,
            2020,
            2020,
            2020,
            2020,
            2020,
            2020,
            2020,
            2020,
            2020,
            2020,
            2020,
            2020,
            2020,
            2020,
            2020,
            2020,
            2020,
            2020,
            2020,
            2020,
            2020,
            2020,
            2020,
            2020,
            2020,
            2020,
            2020,
            2020,
            2020,
            2020,
            2020,
            2020,
            2020,
            2020,
            2020,
            2020,
            2020,
            2020,
            2020,
            2020,
            2020,
            2020,
            2020,
            2020,
            2020,
            2020,
            2020,
            2020,
            2020,
            2020,
            2020,
            2020,
            2020,
            2020,
            2020,
            2020,
            2020,
            2020,
            2020,
            2020,
            2020,
            2020,
            2020,
            2020,
            2020,
            2020,
            2020,
            2020,
            2020,
            2020,
            2020,
            2020,
            2020,
            2020,
            2020,
            2020,
            2020,
            2020,
            2020,
            2020,
            2020,
            2020,
            2020,
            2020,
            2020,
            2020,
            2020,
            2020,
            2020,
            2020,
            2020,
            2020,
            2020,
            2020,
            2020,
            2020,
            2020,
            2020,
            2020,
            2020,
            2020,
            2020,
            2020,
            2020,
            2020,
            2020,
            2020,
            2020,
            2020,
            2020,
            2020,
            2020,
            2020,
            2020,
            2020,
            2020,
            2020,
            2020,
            2020,
            2020,
            2020,
            2020,
            2020,
            2020,
            2020,
            2020,
            2020,
            2020,
            2020,
            2020,
            2020,
            2020,
            2020,
            2020,
            2020,
            2020,
            2020,
            2020,
            2020,
            2020,
            2020,
            2020,
            2020,
            2020,
            2020,
            2020,
            2020,
            2020,
            2020,
            2020,
            2020,
            2020,
            2020,
            2020,
            2020,
            2020,
            2020,
            2020,
            2020,
            2020,
            2020,
            2020,
            2020,
            2020,
            2020,
            2020,
            2020,
            2020,
            2020,
            2020,
            2020,
            2020,
            2020,
            2020,
            2020,
            2020,
            2020,
            2020,
            2020,
            2020,
            2020,
            2020,
            2020,
            2020,
            2020,
            2020,
            2020,
            2020,
            2020,
            2020,
            2020,
            2020,
            2020,
            2020,
            2020,
            2020,
            2020,
            2020,
            2020,
            2020,
            2020,
            2020,
            2020,
            2020,
            2020,
            2020,
            2020,
            2020,
            2020,
            2020,
            2020,
            2020,
            2020,
            2020,
            2020,
            2020,
            2020,
            2020,
            2020,
            2020,
            2020,
            2020,
            2020,
            2020,
            2020,
            2020,
            2020,
            2020,
            2020,
            2020,
            2020,
            2020,
            2020,
            2020,
            2020,
            2020,
            2020,
            2020,
            2020,
            2020,
            2020,
            2020,
            2020,
            2020,
            2020,
            2020,
            2020,
            2020,
            2020,
            2020,
            2020,
            2020,
            2020,
            2020,
            2020,
            2020,
            2020,
            2020,
            2020,
            2020,
            2020,
            2020,
            2020,
            2020,
            2020,
            2020,
            2020,
            2020,
            2020,
            2020,
            2020,
            2020,
            2020,
            2020,
            2020,
            2020,
            2020,
            2020,
            2020,
            2020,
            2020,
            2020,
            2020,
            2020,
            2020,
            2020,
            2020,
            2020,
            2020,
            2020,
            2020,
            2020,
            2020,
            2020,
            2020,
            2020,
            2020,
            2020,
            2020,
            2020,
            2020,
            2020,
            2020,
            2020,
            2020,
            2020,
            2020,
            2020,
            2020,
            2020,
            2020,
            2020,
            2020,
            2020,
            2020,
            2020,
            2020,
            2020,
            2020,
            2020,
            2020,
            2020
           ]
          }
         ],
         "domain": {
          "x": [
           0,
           1
          ],
          "y": [
           0,
           1
          ]
         },
         "line": {
          "color": [
           72000,
           3500,
           3500,
           6500,
           750,
           3400,
           28000,
           16200,
           67000,
           3500,
           750,
           750,
           6500,
           3500,
           750,
           750,
           750,
           3500,
           4200,
           3500,
           4600,
           750,
           1000,
           750,
           6600,
           2850,
           3500,
           750,
           750,
           3500,
           9450,
           750,
           3500,
           750,
           750,
           2450,
           2450,
           2450,
           750,
           50000,
           13650,
           750,
           3500,
           750,
           1000,
           3500,
           3500,
           750,
           750,
           3500,
           3500,
           750,
           750,
           750,
           750,
           50000,
           8000,
           750,
           750,
           5500,
           3500,
           7350,
           4750,
           1500,
           7500,
           750,
           4999,
           4500,
           1500,
           750,
           1500,
           6300,
           3500,
           3000,
           750,
           2630,
           750,
           15750,
           2550,
           10500,
           750,
           3500,
           750,
           750,
           10500,
           4500,
           9000,
           3000,
           11500,
           750,
           50000,
           4500,
           750,
           5880,
           1750,
           7500,
           6300,
           12600,
           6300,
           2560,
           2700,
           750,
           750,
           3760,
           750,
           3500,
           1700,
           7560,
           2500,
           1750,
           1700,
           1500,
           12500,
           2000,
           26250,
           750,
           1700,
           2700,
           6500,
           3500,
           1500,
           4500,
           1500,
           null,
           250,
           2750,
           3500,
           2650,
           7500,
           750,
           50000,
           750,
           5460,
           1500,
           5500,
           750,
           750,
           5775,
           1900,
           500,
           1700,
           750,
           15750,
           6825,
           500,
           3100,
           3000,
           300,
           5670,
           6300,
           1500,
           4500,
           5000,
           2850,
           3500,
           2760,
           6300,
           1500,
           3600,
           7350,
           1500,
           510,
           750,
           750,
           1700,
           3500,
           3000,
           7500,
           1700,
           1700,
           2700,
           4500,
           2000,
           5250,
           1500,
           1500,
           3500,
           1550,
           1750,
           2800,
           2270,
           4500,
           2100,
           1500,
           7500,
           1500,
           750,
           4200,
           3500,
           1000,
           1750,
           6850,
           3500,
           1250,
           1000,
           50000,
           1250,
           750,
           1000,
           4000,
           7350,
           2100,
           1000,
           5250,
           750,
           8425,
           1000,
           3850,
           1000,
           6450,
           2500,
           2000,
           3000,
           1950,
           4500,
           3600,
           2180,
           7350,
           4500,
           1000,
           2500,
           170,
           2000,
           20000,
           1000,
           3260,
           750,
           2000,
           2500,
           1550,
           2710,
           1500,
           3500,
           1200,
           1880,
           1200,
           1000,
           510,
           1500,
           750,
           1500,
           6000,
           1500,
           15000,
           null,
           16000,
           1000,
           2000,
           860,
           130,
           1250,
           1650,
           500,
           200,
           1250,
           2500,
           250,
           600,
           1100,
           250,
           2500,
           2300,
           3000,
           2350,
           1000,
           250,
           500,
           750,
           1250,
           450,
           1600,
           750,
           1730,
           310,
           6000,
           1000,
           1750,
           3500,
           412,
           875,
           7500,
           1000,
           2875,
           1125,
           875,
           563,
           438,
           3922,
           2125,
           250,
           587,
           1000,
           625,
           5500,
           13920,
           625,
           516,
           2500,
           687,
           625,
           4830,
           250,
           455,
           1375,
           425,
           807,
           1625,
           1825,
           100,
           1666,
           750,
           1625,
           62.5,
           875,
           265,
           625,
           132.5,
           500,
           3000,
           875,
           1900,
           1375,
           50000,
           1900,
           130,
           2100,
           5500,
           625,
           3810,
           625,
           547.43,
           625,
           225,
           875,
           150,
           450,
           500,
           1700,
           250,
           3500,
           875,
           1600,
           5250,
           16000,
           527,
           1000,
           2000,
           625,
           500,
           2500,
           2700,
           21500,
           1000,
           2500,
           476,
           2059,
           10500,
           500,
           6000,
           1000,
           1900,
           3000,
           2000,
           750,
           2500,
           1000,
           2000,
           1800,
           4800,
           2250,
           875,
           375,
           7500,
           7500,
           4500,
           2882,
           1158,
           12500,
           3344.25,
           5252,
           2000,
           1800,
           5500,
           4500,
           1000,
           3000,
           625,
           500,
           160,
           1029,
           4500,
           3500,
           3000,
           2500,
           6500,
           540.33,
           2500,
           2058.8,
           2500,
           1600,
           4500,
           1000,
           2750,
           3500,
           525,
           1700,
           2650,
           1000,
           2250,
           1850,
           2500,
           3000,
           1920,
           2500,
           2200,
           2000,
           2000,
           1650,
           421,
           1200,
           750,
           3500,
           1222,
           4000,
           4500,
           1500,
           7000,
           2500,
           6500,
           2300,
           2500,
           1470,
           2000,
           525,
           2250,
           3000,
           7560,
           425,
           2600,
           2000,
           1500,
           3500,
           3700,
           1000,
           1750,
           2600,
           550,
           1150,
           875,
           2000,
           2100,
           738.01,
           3500,
           237.5,
           2600,
           8500,
           562,
           6000,
           750,
           750,
           550,
           750,
           2350,
           1375,
           8000,
           1800,
           11350,
           2000,
           4300,
           2300,
           1610,
           450,
           1500,
           2500,
           2510,
           12600,
           575,
           1500,
           1280,
           1680,
           3030,
           2500,
           1750,
           3300,
           2500,
           4000,
           562,
           2500,
           5000,
           2500,
           1750,
           3500,
           1250,
           3000,
           4500,
           2070,
           800,
           2500,
           2500,
           4000,
           400,
           500,
           150,
           1700,
           1000,
           950,
           565,
           1650,
           6500,
           437,
           6600,
           4000,
           550,
           5100,
           2100,
           1825,
           400,
           625,
           5750,
           555,
           1000,
           5500,
           625,
           1500,
           2250,
           3000,
           3700,
           500,
           1000,
           525,
           1710,
           5000,
           4500,
           10800,
           500,
           1500,
           1500,
           208.3,
           1250,
           6000,
           875,
           625,
           5090,
           4650,
           587,
           3000,
           937.5,
           2480,
           4500,
           3000,
           15800,
           800,
           1500,
           2300,
           2000,
           375,
           3250,
           290,
           4500,
           1976.3,
           1000,
           1710,
           2000,
           1976.3,
           875,
           512.5,
           4350,
           2750,
           700,
           500,
           391,
           625,
           3000,
           500,
           1840,
           5000,
           2000,
           875,
           750,
           3500,
           355,
           250,
           500,
           7500,
           700,
           1000,
           875,
           2750,
           1750,
           3500,
           462,
           130,
           875,
           1270,
           2500,
           4500,
           3000,
           2250,
           1030,
           4500,
           100,
           360,
           2500,
           125,
           750,
           2500,
           3250,
           2125,
           1000,
           1400,
           800,
           50,
           2250,
           2500,
           200,
           190,
           1250,
           100,
           3250,
           500,
           400,
           3000,
           700,
           450,
           200,
           1900,
           8880,
           1625,
           200,
           395,
           495,
           15520,
           3500,
           500,
           21000,
           3250,
           4700,
           1200,
           1000,
           4500,
           1640,
           6500,
           4500,
           75,
           4800,
           410,
           500,
           2500,
           750,
           16052,
           425,
           100,
           5000,
           562,
           100,
           300,
           3366,
           500,
           26250,
           3500,
           2500,
           500,
           40,
           200,
           2250,
           1700,
           2000,
           1525,
           6000,
           1000,
           1550,
           350,
           1000,
           6000,
           1540,
           200,
           1750,
           624,
           100,
           4300,
           6000,
           4800,
           1200,
           780,
           1750,
           1500,
           1500,
           3500,
           100,
           2250,
           2500,
           200,
           1500,
           3125,
           1750,
           1750,
           2000,
           2500,
           1000,
           4500
          ],
          "coloraxis": "coloraxis"
         },
         "name": "",
         "type": "parcoords"
        }
       ],
       "layout": {
        "coloraxis": {
         "colorbar": {
          "title": {
           "text": "Invoice Amount"
          }
         },
         "colorscale": [
          [
           0,
           "#0d0887"
          ],
          [
           0.1111111111111111,
           "#46039f"
          ],
          [
           0.2222222222222222,
           "#7201a8"
          ],
          [
           0.3333333333333333,
           "#9c179e"
          ],
          [
           0.4444444444444444,
           "#bd3786"
          ],
          [
           0.5555555555555556,
           "#d8576b"
          ],
          [
           0.6666666666666666,
           "#ed7953"
          ],
          [
           0.7777777777777778,
           "#fb9f3a"
          ],
          [
           0.8888888888888888,
           "#fdca26"
          ],
          [
           1,
           "#f0f921"
          ]
         ]
        },
        "legend": {
         "tracegroupgap": 0
        },
        "template": {
         "data": {
          "bar": [
           {
            "error_x": {
             "color": "#2a3f5f"
            },
            "error_y": {
             "color": "#2a3f5f"
            },
            "marker": {
             "line": {
              "color": "#E5ECF6",
              "width": 0.5
             }
            },
            "type": "bar"
           }
          ],
          "barpolar": [
           {
            "marker": {
             "line": {
              "color": "#E5ECF6",
              "width": 0.5
             }
            },
            "type": "barpolar"
           }
          ],
          "carpet": [
           {
            "aaxis": {
             "endlinecolor": "#2a3f5f",
             "gridcolor": "white",
             "linecolor": "white",
             "minorgridcolor": "white",
             "startlinecolor": "#2a3f5f"
            },
            "baxis": {
             "endlinecolor": "#2a3f5f",
             "gridcolor": "white",
             "linecolor": "white",
             "minorgridcolor": "white",
             "startlinecolor": "#2a3f5f"
            },
            "type": "carpet"
           }
          ],
          "choropleth": [
           {
            "colorbar": {
             "outlinewidth": 0,
             "ticks": ""
            },
            "type": "choropleth"
           }
          ],
          "contour": [
           {
            "colorbar": {
             "outlinewidth": 0,
             "ticks": ""
            },
            "colorscale": [
             [
              0,
              "#0d0887"
             ],
             [
              0.1111111111111111,
              "#46039f"
             ],
             [
              0.2222222222222222,
              "#7201a8"
             ],
             [
              0.3333333333333333,
              "#9c179e"
             ],
             [
              0.4444444444444444,
              "#bd3786"
             ],
             [
              0.5555555555555556,
              "#d8576b"
             ],
             [
              0.6666666666666666,
              "#ed7953"
             ],
             [
              0.7777777777777778,
              "#fb9f3a"
             ],
             [
              0.8888888888888888,
              "#fdca26"
             ],
             [
              1,
              "#f0f921"
             ]
            ],
            "type": "contour"
           }
          ],
          "contourcarpet": [
           {
            "colorbar": {
             "outlinewidth": 0,
             "ticks": ""
            },
            "type": "contourcarpet"
           }
          ],
          "heatmap": [
           {
            "colorbar": {
             "outlinewidth": 0,
             "ticks": ""
            },
            "colorscale": [
             [
              0,
              "#0d0887"
             ],
             [
              0.1111111111111111,
              "#46039f"
             ],
             [
              0.2222222222222222,
              "#7201a8"
             ],
             [
              0.3333333333333333,
              "#9c179e"
             ],
             [
              0.4444444444444444,
              "#bd3786"
             ],
             [
              0.5555555555555556,
              "#d8576b"
             ],
             [
              0.6666666666666666,
              "#ed7953"
             ],
             [
              0.7777777777777778,
              "#fb9f3a"
             ],
             [
              0.8888888888888888,
              "#fdca26"
             ],
             [
              1,
              "#f0f921"
             ]
            ],
            "type": "heatmap"
           }
          ],
          "heatmapgl": [
           {
            "colorbar": {
             "outlinewidth": 0,
             "ticks": ""
            },
            "colorscale": [
             [
              0,
              "#0d0887"
             ],
             [
              0.1111111111111111,
              "#46039f"
             ],
             [
              0.2222222222222222,
              "#7201a8"
             ],
             [
              0.3333333333333333,
              "#9c179e"
             ],
             [
              0.4444444444444444,
              "#bd3786"
             ],
             [
              0.5555555555555556,
              "#d8576b"
             ],
             [
              0.6666666666666666,
              "#ed7953"
             ],
             [
              0.7777777777777778,
              "#fb9f3a"
             ],
             [
              0.8888888888888888,
              "#fdca26"
             ],
             [
              1,
              "#f0f921"
             ]
            ],
            "type": "heatmapgl"
           }
          ],
          "histogram": [
           {
            "marker": {
             "colorbar": {
              "outlinewidth": 0,
              "ticks": ""
             }
            },
            "type": "histogram"
           }
          ],
          "histogram2d": [
           {
            "colorbar": {
             "outlinewidth": 0,
             "ticks": ""
            },
            "colorscale": [
             [
              0,
              "#0d0887"
             ],
             [
              0.1111111111111111,
              "#46039f"
             ],
             [
              0.2222222222222222,
              "#7201a8"
             ],
             [
              0.3333333333333333,
              "#9c179e"
             ],
             [
              0.4444444444444444,
              "#bd3786"
             ],
             [
              0.5555555555555556,
              "#d8576b"
             ],
             [
              0.6666666666666666,
              "#ed7953"
             ],
             [
              0.7777777777777778,
              "#fb9f3a"
             ],
             [
              0.8888888888888888,
              "#fdca26"
             ],
             [
              1,
              "#f0f921"
             ]
            ],
            "type": "histogram2d"
           }
          ],
          "histogram2dcontour": [
           {
            "colorbar": {
             "outlinewidth": 0,
             "ticks": ""
            },
            "colorscale": [
             [
              0,
              "#0d0887"
             ],
             [
              0.1111111111111111,
              "#46039f"
             ],
             [
              0.2222222222222222,
              "#7201a8"
             ],
             [
              0.3333333333333333,
              "#9c179e"
             ],
             [
              0.4444444444444444,
              "#bd3786"
             ],
             [
              0.5555555555555556,
              "#d8576b"
             ],
             [
              0.6666666666666666,
              "#ed7953"
             ],
             [
              0.7777777777777778,
              "#fb9f3a"
             ],
             [
              0.8888888888888888,
              "#fdca26"
             ],
             [
              1,
              "#f0f921"
             ]
            ],
            "type": "histogram2dcontour"
           }
          ],
          "mesh3d": [
           {
            "colorbar": {
             "outlinewidth": 0,
             "ticks": ""
            },
            "type": "mesh3d"
           }
          ],
          "parcoords": [
           {
            "line": {
             "colorbar": {
              "outlinewidth": 0,
              "ticks": ""
             }
            },
            "type": "parcoords"
           }
          ],
          "pie": [
           {
            "automargin": true,
            "type": "pie"
           }
          ],
          "scatter": [
           {
            "marker": {
             "colorbar": {
              "outlinewidth": 0,
              "ticks": ""
             }
            },
            "type": "scatter"
           }
          ],
          "scatter3d": [
           {
            "line": {
             "colorbar": {
              "outlinewidth": 0,
              "ticks": ""
             }
            },
            "marker": {
             "colorbar": {
              "outlinewidth": 0,
              "ticks": ""
             }
            },
            "type": "scatter3d"
           }
          ],
          "scattercarpet": [
           {
            "marker": {
             "colorbar": {
              "outlinewidth": 0,
              "ticks": ""
             }
            },
            "type": "scattercarpet"
           }
          ],
          "scattergeo": [
           {
            "marker": {
             "colorbar": {
              "outlinewidth": 0,
              "ticks": ""
             }
            },
            "type": "scattergeo"
           }
          ],
          "scattergl": [
           {
            "marker": {
             "colorbar": {
              "outlinewidth": 0,
              "ticks": ""
             }
            },
            "type": "scattergl"
           }
          ],
          "scattermapbox": [
           {
            "marker": {
             "colorbar": {
              "outlinewidth": 0,
              "ticks": ""
             }
            },
            "type": "scattermapbox"
           }
          ],
          "scatterpolar": [
           {
            "marker": {
             "colorbar": {
              "outlinewidth": 0,
              "ticks": ""
             }
            },
            "type": "scatterpolar"
           }
          ],
          "scatterpolargl": [
           {
            "marker": {
             "colorbar": {
              "outlinewidth": 0,
              "ticks": ""
             }
            },
            "type": "scatterpolargl"
           }
          ],
          "scatterternary": [
           {
            "marker": {
             "colorbar": {
              "outlinewidth": 0,
              "ticks": ""
             }
            },
            "type": "scatterternary"
           }
          ],
          "surface": [
           {
            "colorbar": {
             "outlinewidth": 0,
             "ticks": ""
            },
            "colorscale": [
             [
              0,
              "#0d0887"
             ],
             [
              0.1111111111111111,
              "#46039f"
             ],
             [
              0.2222222222222222,
              "#7201a8"
             ],
             [
              0.3333333333333333,
              "#9c179e"
             ],
             [
              0.4444444444444444,
              "#bd3786"
             ],
             [
              0.5555555555555556,
              "#d8576b"
             ],
             [
              0.6666666666666666,
              "#ed7953"
             ],
             [
              0.7777777777777778,
              "#fb9f3a"
             ],
             [
              0.8888888888888888,
              "#fdca26"
             ],
             [
              1,
              "#f0f921"
             ]
            ],
            "type": "surface"
           }
          ],
          "table": [
           {
            "cells": {
             "fill": {
              "color": "#EBF0F8"
             },
             "line": {
              "color": "white"
             }
            },
            "header": {
             "fill": {
              "color": "#C8D4E3"
             },
             "line": {
              "color": "white"
             }
            },
            "type": "table"
           }
          ]
         },
         "layout": {
          "annotationdefaults": {
           "arrowcolor": "#2a3f5f",
           "arrowhead": 0,
           "arrowwidth": 1
          },
          "coloraxis": {
           "colorbar": {
            "outlinewidth": 0,
            "ticks": ""
           }
          },
          "colorscale": {
           "diverging": [
            [
             0,
             "#8e0152"
            ],
            [
             0.1,
             "#c51b7d"
            ],
            [
             0.2,
             "#de77ae"
            ],
            [
             0.3,
             "#f1b6da"
            ],
            [
             0.4,
             "#fde0ef"
            ],
            [
             0.5,
             "#f7f7f7"
            ],
            [
             0.6,
             "#e6f5d0"
            ],
            [
             0.7,
             "#b8e186"
            ],
            [
             0.8,
             "#7fbc41"
            ],
            [
             0.9,
             "#4d9221"
            ],
            [
             1,
             "#276419"
            ]
           ],
           "sequential": [
            [
             0,
             "#0d0887"
            ],
            [
             0.1111111111111111,
             "#46039f"
            ],
            [
             0.2222222222222222,
             "#7201a8"
            ],
            [
             0.3333333333333333,
             "#9c179e"
            ],
            [
             0.4444444444444444,
             "#bd3786"
            ],
            [
             0.5555555555555556,
             "#d8576b"
            ],
            [
             0.6666666666666666,
             "#ed7953"
            ],
            [
             0.7777777777777778,
             "#fb9f3a"
            ],
            [
             0.8888888888888888,
             "#fdca26"
            ],
            [
             1,
             "#f0f921"
            ]
           ],
           "sequentialminus": [
            [
             0,
             "#0d0887"
            ],
            [
             0.1111111111111111,
             "#46039f"
            ],
            [
             0.2222222222222222,
             "#7201a8"
            ],
            [
             0.3333333333333333,
             "#9c179e"
            ],
            [
             0.4444444444444444,
             "#bd3786"
            ],
            [
             0.5555555555555556,
             "#d8576b"
            ],
            [
             0.6666666666666666,
             "#ed7953"
            ],
            [
             0.7777777777777778,
             "#fb9f3a"
            ],
            [
             0.8888888888888888,
             "#fdca26"
            ],
            [
             1,
             "#f0f921"
            ]
           ]
          },
          "colorway": [
           "#636efa",
           "#EF553B",
           "#00cc96",
           "#ab63fa",
           "#FFA15A",
           "#19d3f3",
           "#FF6692",
           "#B6E880",
           "#FF97FF",
           "#FECB52"
          ],
          "font": {
           "color": "#2a3f5f"
          },
          "geo": {
           "bgcolor": "white",
           "lakecolor": "white",
           "landcolor": "#E5ECF6",
           "showlakes": true,
           "showland": true,
           "subunitcolor": "white"
          },
          "hoverlabel": {
           "align": "left"
          },
          "hovermode": "closest",
          "mapbox": {
           "style": "light"
          },
          "paper_bgcolor": "white",
          "plot_bgcolor": "#E5ECF6",
          "polar": {
           "angularaxis": {
            "gridcolor": "white",
            "linecolor": "white",
            "ticks": ""
           },
           "bgcolor": "#E5ECF6",
           "radialaxis": {
            "gridcolor": "white",
            "linecolor": "white",
            "ticks": ""
           }
          },
          "scene": {
           "xaxis": {
            "backgroundcolor": "#E5ECF6",
            "gridcolor": "white",
            "gridwidth": 2,
            "linecolor": "white",
            "showbackground": true,
            "ticks": "",
            "zerolinecolor": "white"
           },
           "yaxis": {
            "backgroundcolor": "#E5ECF6",
            "gridcolor": "white",
            "gridwidth": 2,
            "linecolor": "white",
            "showbackground": true,
            "ticks": "",
            "zerolinecolor": "white"
           },
           "zaxis": {
            "backgroundcolor": "#E5ECF6",
            "gridcolor": "white",
            "gridwidth": 2,
            "linecolor": "white",
            "showbackground": true,
            "ticks": "",
            "zerolinecolor": "white"
           }
          },
          "shapedefaults": {
           "line": {
            "color": "#2a3f5f"
           }
          },
          "ternary": {
           "aaxis": {
            "gridcolor": "white",
            "linecolor": "white",
            "ticks": ""
           },
           "baxis": {
            "gridcolor": "white",
            "linecolor": "white",
            "ticks": ""
           },
           "bgcolor": "#E5ECF6",
           "caxis": {
            "gridcolor": "white",
            "linecolor": "white",
            "ticks": ""
           }
          },
          "title": {
           "x": 0.05
          },
          "xaxis": {
           "automargin": true,
           "gridcolor": "white",
           "linecolor": "white",
           "ticks": "",
           "title": {
            "standoff": 15
           },
           "zerolinecolor": "white",
           "zerolinewidth": 2
          },
          "yaxis": {
           "automargin": true,
           "gridcolor": "white",
           "linecolor": "white",
           "ticks": "",
           "title": {
            "standoff": 15
           },
           "zerolinecolor": "white",
           "zerolinewidth": 2
          }
         }
        },
        "title": {
         "text": "Parallel View of Invoices along with Number of Users from 2015 to 2020"
        },
        "width": 1800
       }
      }
     },
     "metadata": {}
    }
   ],
   "source": [
    "# Parallel Coordinates Plot\n",
    "px.parallel_coordinates(parallel_look, color='Invoice Amount', title=\"Parallel View of Invoices along with Number of Users from 2015 to 2020\", width=1800)"
   ]
  },
  {
   "cell_type": "code",
   "execution_count": 105,
   "metadata": {},
   "outputs": [
    {
     "output_type": "display_data",
     "data": {
      "application/vnd.plotly.v1+json": {
       "config": {
        "plotlyServerURL": "https://plot.ly"
       },
       "data": [
        {
         "dimensions": [
          {
           "label": "Customers Status",
           "values": [
            "Lost",
            "Active",
            "Active",
            "Lost",
            "Lost",
            "Active",
            "Active",
            "Active",
            "Lost",
            "Lost",
            "Active",
            "Active",
            "Active",
            "Lost",
            "Lost",
            "Lost",
            "Active",
            "Active",
            "Lost",
            "Active",
            "Lost",
            "Lost",
            "Active",
            "Active",
            "Active",
            "Active",
            "Lost",
            "Active",
            "Active",
            "Lost",
            "Active",
            "Lost",
            "Lost",
            "Lost",
            "Lost",
            "Lost",
            "Lost",
            "Lost",
            "Lost",
            "Active",
            "Lost",
            "Active",
            "Lost",
            "Active",
            "Lost",
            "Active",
            "Lost",
            "Lost",
            "Active",
            "Active",
            "Active",
            "Active",
            "Active",
            "Lost",
            "Lost",
            "Active",
            "Lost",
            "Lost",
            "Lost",
            "Active",
            "Lost",
            "Lost",
            "Lost",
            "Active",
            "Active",
            "Active",
            "Lost",
            "Lost",
            "Lost",
            "Lost",
            "Lost",
            "Active",
            "Active",
            "Active",
            "Active",
            "Lost",
            "Lost",
            "Lost",
            "Lost",
            "Active",
            "Active",
            "Lost",
            "Lost",
            "Active",
            "Active",
            "Lost",
            "Active",
            "Lost",
            "Active",
            "Active",
            "Lost",
            "Active",
            "Active",
            "Lost",
            "Lost",
            "Active",
            "Lost",
            "Active",
            "Lost",
            "Lost",
            "Lost",
            "Active",
            "Lost",
            "Active",
            "Active",
            "Active",
            "Active",
            "Lost",
            "Lost",
            "Lost",
            "Lost",
            "Lost",
            "Lost",
            "Lost",
            "Lost",
            "Lost",
            "Lost",
            "Lost",
            "Active",
            "Active",
            "Active",
            "Active",
            "Active",
            "Active",
            "Lost",
            "Lost",
            "Active",
            "Active",
            "Active",
            "Active",
            "Active",
            "Active",
            "Active",
            "Lost",
            "Active",
            "Active",
            "Active",
            "Active",
            "Active",
            "Lost",
            "Lost",
            "Active",
            "Active",
            "Lost",
            "Lost",
            "Active",
            "Active",
            "Lost",
            "Active",
            "Active",
            "Active",
            "Active",
            "Active",
            "Active",
            "Lost",
            "Active",
            "Active",
            "Lost",
            "Lost",
            "Active",
            "Active",
            "Lost",
            "Active",
            "Active",
            "Lost",
            "Active",
            "Lost",
            "Active",
            "Lost",
            "Active",
            "Lost",
            "Active",
            "Active",
            "Active",
            "Active",
            "Lost",
            "Lost",
            "Active",
            "Active",
            "Active",
            "Lost",
            "Active",
            "Lost",
            "Active",
            "Active",
            "Active",
            "Active",
            "Active",
            "Active",
            "Active",
            "Active",
            "Active",
            "Active",
            "Active",
            "Lost",
            "Lost",
            "Active",
            "Active",
            "Lost",
            "Active",
            "Active",
            "Active",
            "Active",
            "Active",
            "Active",
            "Active",
            "Active",
            "Active",
            "Active",
            "Active",
            "Active",
            "Active",
            "Active",
            "Active",
            "Active",
            "Active",
            "Active",
            "Active",
            "Active",
            "Active",
            "Active",
            "Active",
            "Active",
            "Active",
            "Active",
            "Active",
            "Active",
            "Lost",
            "Active",
            "Lost",
            "Active",
            "Active",
            "Active",
            "Lost",
            "Lost",
            "Active",
            "Active",
            "Lost",
            "Active",
            "Active",
            "Active",
            "Active",
            "Active",
            "Active",
            "Active",
            "Active",
            "Lost",
            "Active",
            "Active",
            "Active",
            "Lost",
            "Active",
            "Lost",
            "Active",
            "Active",
            "Active",
            "Lost",
            "New",
            "Active",
            "Active",
            "Active",
            "Active",
            "Active",
            "Active",
            "Active",
            "Active",
            "Active",
            "Active",
            "Active",
            "Active",
            "New",
            "Active",
            "Active",
            "Active",
            "Active",
            "New",
            "Active",
            "New",
            "New",
            "Active",
            "New",
            "Active",
            "New",
            "Active",
            "New",
            "New",
            "Active",
            "New",
            "New",
            "Active",
            "Lost",
            "New",
            "Active",
            "New",
            "New",
            "New",
            "New",
            "New",
            "Lost",
            "New",
            "New",
            "Lost",
            "New",
            "New",
            "New",
            "New",
            "Active",
            "New",
            "New",
            "New",
            "Lost",
            "New",
            "Active",
            "New",
            "New",
            "New",
            "Active",
            "New",
            "Active",
            "New",
            "New",
            "New",
            "Active",
            "Active",
            "New",
            "Active",
            "New",
            "Lost",
            "Active",
            "New",
            "Active",
            "New",
            "New",
            "Active",
            "Lost",
            "Lost",
            "New",
            "New",
            "New",
            "New",
            "New",
            "Active",
            "New",
            "Active",
            "New",
            "New",
            "Active",
            "Lost",
            "New",
            "New",
            "New",
            "New",
            "Active",
            "New",
            "Active",
            "New",
            "Active",
            "New",
            "Active",
            "New",
            "New",
            "New",
            "Active",
            "Active",
            "Active",
            "Active",
            "Active",
            "Active",
            "Active",
            "Lost",
            "New",
            "New",
            "Active",
            "Active",
            "Active",
            "New",
            "New",
            "New",
            "New",
            "New",
            "New",
            "New",
            "New",
            "Active",
            "New",
            "New",
            "New",
            "Active",
            "Lost",
            "New",
            "New",
            "New",
            "New",
            "New",
            "New",
            "New",
            "New",
            "New",
            "New",
            "New",
            "Active",
            "New",
            "New",
            "Active",
            "New",
            "New",
            "New",
            "New",
            "New",
            "New",
            "New",
            "Active",
            "New",
            "New",
            "New",
            "Active",
            "New",
            "New",
            "New",
            "New",
            "New",
            "New",
            "New",
            "New",
            "Active",
            "Active",
            "New",
            "New",
            "Active",
            "New",
            "New",
            "New",
            "New",
            "New",
            "New",
            "New",
            "New",
            "Lost",
            "New",
            "New",
            "Active",
            "New",
            "New",
            "Active",
            "New",
            "Active",
            "New",
            "Active",
            "New",
            "New",
            "New",
            "New",
            "New",
            "New",
            "New",
            "Active",
            "Lost",
            "New",
            "New",
            "New",
            "New",
            "New",
            "New",
            "New",
            "Active",
            "New",
            "New",
            "New",
            "New",
            "New",
            "New",
            "New",
            "New",
            "New",
            "New",
            "Active",
            "Lost",
            "New",
            "New",
            "New",
            "New",
            "New",
            "Active",
            "New",
            "New",
            "New",
            "New",
            "New",
            "New",
            "New",
            "New",
            "Active",
            "New",
            "New",
            "New",
            "New",
            "Lost",
            "New",
            "New",
            "New",
            "New",
            "New",
            "Active",
            "New",
            "New",
            "New",
            "New",
            "New",
            "New",
            "New",
            "New",
            "New",
            "Lost",
            "Active",
            "New",
            "New",
            "Lost",
            "New",
            "New",
            "New",
            "New",
            "New",
            "New",
            "New",
            "New",
            "New",
            "New",
            "New",
            "New",
            "New",
            "New",
            "New",
            "New",
            "Active",
            "New",
            "New",
            "New",
            "New",
            "Lost",
            "New",
            "New",
            "New",
            "New",
            "New",
            "New",
            "New",
            "Active",
            "New",
            "Active",
            "New",
            "New",
            "Lost",
            "Active",
            "New",
            "New",
            "New",
            "New",
            "New",
            "New",
            "New",
            "New",
            "Active",
            "New",
            "New",
            "New",
            "New",
            "New",
            "Active",
            "New",
            "New",
            "New",
            "New",
            "New",
            "New",
            "New",
            "New",
            "Active",
            "Lost",
            "New",
            "New",
            "New",
            "New",
            "New",
            "Active",
            "New",
            "New",
            "New",
            "New",
            "New",
            "New",
            "New",
            "New",
            "New",
            "New",
            "New",
            "New",
            "New",
            "New",
            "New",
            "New",
            "New",
            "New",
            "New",
            "New",
            "New",
            "New",
            "New",
            "New",
            "Active",
            "New",
            "New",
            "New",
            "New",
            "New",
            "New",
            "New",
            "New",
            "New",
            "New",
            "New",
            "New",
            "New",
            "New",
            "New",
            "Active",
            "New",
            "New",
            "New",
            "Lost",
            "New",
            "New",
            "Active",
            "New",
            "New",
            "Active",
            "New",
            "New",
            "Active",
            "Active",
            "New",
            "New",
            "Active",
            "New",
            "New",
            "New",
            "New",
            "New",
            "New",
            "Active",
            "New",
            "New",
            "New",
            "New",
            "New",
            "New",
            "New",
            "New",
            "New",
            "Active",
            "New",
            "New",
            "New",
            "New",
            "New",
            "Active",
            "New",
            "New",
            "Lost",
            "New",
            "New",
            "Active",
            "New",
            "New",
            "New",
            "New",
            "Active",
            "New",
            "New",
            "New",
            "Active",
            "Active",
            "New",
            "New",
            "New",
            "New",
            "Active",
            "New",
            "New",
            "New",
            "New",
            "New",
            "New",
            "New",
            "New",
            "New",
            "New",
            "Active",
            "New",
            "New",
            "New"
           ]
          },
          {
           "label": "Year",
           "values": [
            2015,
            2015,
            2015,
            2015,
            2015,
            2015,
            2015,
            2015,
            2015,
            2015,
            2016,
            2016,
            2016,
            2016,
            2016,
            2016,
            2016,
            2016,
            2016,
            2016,
            2016,
            2016,
            2016,
            2016,
            2016,
            2016,
            2016,
            2016,
            2016,
            2016,
            2016,
            2016,
            2016,
            2016,
            2016,
            2016,
            2016,
            2016,
            2016,
            2016,
            2016,
            2016,
            2016,
            2016,
            2016,
            2016,
            2016,
            2016,
            2016,
            2016,
            2016,
            2016,
            2016,
            2016,
            2016,
            2016,
            2016,
            2016,
            2016,
            2016,
            2016,
            2016,
            2016,
            2016,
            2016,
            2017,
            2017,
            2017,
            2017,
            2017,
            2017,
            2017,
            2017,
            2017,
            2017,
            2017,
            2017,
            2017,
            2017,
            2017,
            2017,
            2017,
            2017,
            2017,
            2017,
            2017,
            2017,
            2017,
            2017,
            2017,
            2017,
            2017,
            2017,
            2017,
            2017,
            2017,
            2017,
            2017,
            2017,
            2017,
            2017,
            2017,
            2017,
            2017,
            2017,
            2017,
            2017,
            2017,
            2017,
            2017,
            2017,
            2017,
            2017,
            2017,
            2017,
            2017,
            2017,
            2017,
            2017,
            2017,
            2017,
            2017,
            2018,
            2018,
            2018,
            2018,
            2018,
            2018,
            2018,
            2018,
            2018,
            2018,
            2018,
            2018,
            2018,
            2018,
            2018,
            2018,
            2018,
            2018,
            2018,
            2018,
            2018,
            2018,
            2018,
            2018,
            2018,
            2018,
            2018,
            2018,
            2018,
            2018,
            2018,
            2018,
            2018,
            2018,
            2018,
            2018,
            2018,
            2018,
            2018,
            2018,
            2018,
            2018,
            2018,
            2018,
            2018,
            2018,
            2018,
            2018,
            2018,
            2018,
            2018,
            2018,
            2018,
            2018,
            2018,
            2018,
            2018,
            2018,
            2018,
            2018,
            2018,
            2018,
            2018,
            2018,
            2019,
            2019,
            2019,
            2019,
            2019,
            2019,
            2019,
            2019,
            2019,
            2019,
            2019,
            2019,
            2019,
            2019,
            2019,
            2019,
            2019,
            2019,
            2019,
            2019,
            2019,
            2019,
            2019,
            2019,
            2019,
            2019,
            2019,
            2019,
            2019,
            2019,
            2019,
            2019,
            2019,
            2019,
            2019,
            2019,
            2019,
            2019,
            2019,
            2019,
            2019,
            2019,
            2019,
            2019,
            2019,
            2019,
            2019,
            2019,
            2019,
            2019,
            2019,
            2019,
            2019,
            2019,
            2019,
            2019,
            2019,
            2019,
            2019,
            2019,
            2019,
            2019,
            2019,
            2019,
            2019,
            2019,
            2019,
            2019,
            2019,
            2019,
            2019,
            2019,
            2019,
            2019,
            2019,
            2020,
            2020,
            2020,
            2020,
            2020,
            2020,
            2020,
            2020,
            2020,
            2020,
            2020,
            2020,
            2020,
            2020,
            2020,
            2020,
            2020,
            2020,
            2020,
            2020,
            2020,
            2020,
            2020,
            2020,
            2020,
            2020,
            2020,
            2020,
            2020,
            2020,
            2020,
            2020,
            2020,
            2020,
            2020,
            2020,
            2020,
            2020,
            2020,
            2020,
            2020,
            2020,
            2020,
            2020,
            2020,
            2020,
            2020,
            2020,
            2020,
            2020,
            2020,
            2020,
            2020,
            2020,
            2020,
            2020,
            2020,
            2020,
            2020,
            2020,
            2020,
            2020,
            2020,
            2020,
            2020,
            2020,
            2020,
            2020,
            2020,
            2020,
            2020,
            2020,
            2020,
            2020,
            2020,
            2020,
            2020,
            2020,
            2020,
            2020,
            2020,
            2020,
            2020,
            2020,
            2020,
            2020,
            2020,
            2020,
            2020,
            2020,
            2020,
            2020,
            2020,
            2020,
            2020,
            2020,
            2020,
            2020,
            2020,
            2020,
            2020,
            2020,
            2020,
            2020,
            2020,
            2020,
            2020,
            2020,
            2020,
            2020,
            2020,
            2020,
            2020,
            2020,
            2020,
            2020,
            2020,
            2020,
            2020,
            2020,
            2020,
            2020,
            2020,
            2020,
            2020,
            2020,
            2020,
            2020,
            2020,
            2020,
            2020,
            2020,
            2020,
            2020,
            2020,
            2020,
            2020,
            2020,
            2020,
            2020,
            2020,
            2020,
            2020,
            2020,
            2020,
            2020,
            2020,
            2020,
            2020,
            2020,
            2020,
            2020,
            2020,
            2020,
            2020,
            2020,
            2020,
            2020,
            2020,
            2020,
            2020,
            2020,
            2020,
            2020,
            2020,
            2020,
            2020,
            2020,
            2020,
            2020,
            2020,
            2020,
            2020,
            2020,
            2020,
            2020,
            2020,
            2020,
            2020,
            2020,
            2020,
            2020,
            2020,
            2020,
            2020,
            2020,
            2020,
            2020,
            2020,
            2020,
            2020,
            2020,
            2020,
            2020,
            2020,
            2020,
            2020,
            2020,
            2020,
            2020,
            2020,
            2020,
            2020,
            2020,
            2020,
            2020,
            2020,
            2020,
            2020,
            2020,
            2020,
            2020,
            2020,
            2020,
            2020,
            2020,
            2020,
            2020,
            2020,
            2020,
            2020,
            2020,
            2020,
            2020,
            2020,
            2020,
            2020,
            2020,
            2020,
            2020,
            2020,
            2020,
            2020,
            2020,
            2020,
            2020,
            2020,
            2020,
            2020,
            2020,
            2020,
            2020,
            2020,
            2020,
            2020,
            2020,
            2020,
            2020,
            2020,
            2020,
            2020,
            2020,
            2020,
            2020,
            2020,
            2020,
            2020,
            2020,
            2020,
            2020,
            2020,
            2020,
            2020,
            2020,
            2020,
            2020,
            2020,
            2020,
            2020,
            2020,
            2020,
            2020,
            2020,
            2020,
            2020,
            2020,
            2020,
            2020,
            2020,
            2020,
            2020,
            2020,
            2020,
            2020,
            2020,
            2020,
            2020,
            2020,
            2020,
            2020,
            2020,
            2020,
            2020,
            2020,
            2020,
            2020,
            2020,
            2020,
            2020,
            2020,
            2020,
            2020,
            2020,
            2020,
            2020,
            2020,
            2020,
            2020,
            2020,
            2020,
            2020,
            2020,
            2020,
            2020,
            2020,
            2020,
            2020,
            2020,
            2020,
            2020,
            2020,
            2020,
            2020,
            2020,
            2020,
            2020,
            2020,
            2020,
            2020,
            2020,
            2020,
            2020,
            2020,
            2020,
            2020,
            2020,
            2020,
            2020,
            2020,
            2020,
            2020,
            2020,
            2020,
            2020,
            2020,
            2020,
            2020,
            2020,
            2020,
            2020,
            2020,
            2020,
            2020,
            2020,
            2020,
            2020,
            2020,
            2020,
            2020,
            2020,
            2020,
            2020,
            2020,
            2020,
            2020,
            2020,
            2020,
            2020,
            2020,
            2020,
            2020,
            2020,
            2020,
            2020,
            2020,
            2020,
            2020,
            2020,
            2020,
            2020,
            2020,
            2020,
            2020,
            2020,
            2020,
            2020,
            2020,
            2020,
            2020,
            2020,
            2020,
            2020,
            2020,
            2020,
            2020,
            2020,
            2020,
            2020,
            2020,
            2020,
            2020,
            2020,
            2020,
            2020,
            2020,
            2020,
            2020,
            2020,
            2020,
            2020,
            2020,
            2020,
            2020,
            2020,
            2020,
            2020,
            2020,
            2020,
            2020,
            2020,
            2020,
            2020,
            2020,
            2020,
            2020,
            2020,
            2020,
            2020,
            2020,
            2020,
            2020,
            2020,
            2020,
            2020,
            2020,
            2020,
            2020,
            2020,
            2020
           ]
          },
          {
           "label": "Invoice Amount",
           "values": [
            72000,
            3500,
            3500,
            6500,
            750,
            3400,
            28000,
            16200,
            67000,
            3500,
            750,
            750,
            6500,
            3500,
            750,
            750,
            750,
            3500,
            4200,
            3500,
            4600,
            750,
            1000,
            750,
            6600,
            2850,
            3500,
            750,
            750,
            3500,
            9450,
            750,
            3500,
            750,
            750,
            2450,
            2450,
            2450,
            750,
            50000,
            13650,
            750,
            3500,
            750,
            1000,
            3500,
            3500,
            750,
            750,
            3500,
            3500,
            750,
            750,
            750,
            750,
            50000,
            8000,
            750,
            750,
            5500,
            3500,
            7350,
            4750,
            1500,
            7500,
            750,
            4999,
            4500,
            1500,
            750,
            1500,
            6300,
            3500,
            3000,
            750,
            2630,
            750,
            15750,
            2550,
            10500,
            750,
            3500,
            750,
            750,
            10500,
            4500,
            9000,
            3000,
            11500,
            750,
            50000,
            4500,
            750,
            5880,
            1750,
            7500,
            6300,
            12600,
            6300,
            2560,
            2700,
            750,
            750,
            3760,
            750,
            3500,
            1700,
            7560,
            2500,
            1750,
            1700,
            1500,
            12500,
            2000,
            26250,
            750,
            1700,
            2700,
            6500,
            3500,
            1500,
            4500,
            1500,
            null,
            250,
            2750,
            3500,
            2650,
            7500,
            750,
            50000,
            750,
            5460,
            1500,
            5500,
            750,
            750,
            5775,
            1900,
            500,
            1700,
            750,
            15750,
            6825,
            500,
            3100,
            3000,
            300,
            5670,
            6300,
            1500,
            4500,
            5000,
            2850,
            3500,
            2760,
            6300,
            1500,
            3600,
            7350,
            1500,
            510,
            750,
            750,
            1700,
            3500,
            3000,
            7500,
            1700,
            1700,
            2700,
            4500,
            2000,
            5250,
            1500,
            1500,
            3500,
            1550,
            1750,
            2800,
            2270,
            4500,
            2100,
            1500,
            7500,
            1500,
            750,
            4200,
            3500,
            1000,
            1750,
            6850,
            3500,
            1250,
            1000,
            50000,
            1250,
            750,
            1000,
            4000,
            7350,
            2100,
            1000,
            5250,
            750,
            8425,
            1000,
            3850,
            1000,
            6450,
            2500,
            2000,
            3000,
            1950,
            4500,
            3600,
            2180,
            7350,
            4500,
            1000,
            2500,
            170,
            2000,
            20000,
            1000,
            3260,
            750,
            2000,
            2500,
            1550,
            2710,
            1500,
            3500,
            1200,
            1880,
            1200,
            1000,
            510,
            1500,
            750,
            1500,
            6000,
            1500,
            15000,
            null,
            16000,
            1000,
            2000,
            860,
            130,
            1250,
            1650,
            500,
            200,
            1250,
            2500,
            250,
            600,
            1100,
            250,
            2500,
            2300,
            3000,
            2350,
            1000,
            250,
            500,
            750,
            1250,
            450,
            1600,
            750,
            1730,
            310,
            6000,
            1000,
            1750,
            3500,
            412,
            875,
            7500,
            1000,
            2875,
            1125,
            875,
            563,
            438,
            3922,
            2125,
            250,
            587,
            1000,
            625,
            5500,
            13920,
            625,
            516,
            2500,
            687,
            625,
            4830,
            250,
            455,
            1375,
            425,
            807,
            1625,
            1825,
            100,
            1666,
            750,
            1625,
            62.5,
            875,
            265,
            625,
            132.5,
            500,
            3000,
            875,
            1900,
            1375,
            50000,
            1900,
            130,
            2100,
            5500,
            625,
            3810,
            625,
            547.43,
            625,
            225,
            875,
            150,
            450,
            500,
            1700,
            250,
            3500,
            875,
            1600,
            5250,
            16000,
            527,
            1000,
            2000,
            625,
            500,
            2500,
            2700,
            21500,
            1000,
            2500,
            476,
            2059,
            10500,
            500,
            6000,
            1000,
            1900,
            3000,
            2000,
            750,
            2500,
            1000,
            2000,
            1800,
            4800,
            2250,
            875,
            375,
            7500,
            7500,
            4500,
            2882,
            1158,
            12500,
            3344.25,
            5252,
            2000,
            1800,
            5500,
            4500,
            1000,
            3000,
            625,
            500,
            160,
            1029,
            4500,
            3500,
            3000,
            2500,
            6500,
            540.33,
            2500,
            2058.8,
            2500,
            1600,
            4500,
            1000,
            2750,
            3500,
            525,
            1700,
            2650,
            1000,
            2250,
            1850,
            2500,
            3000,
            1920,
            2500,
            2200,
            2000,
            2000,
            1650,
            421,
            1200,
            750,
            3500,
            1222,
            4000,
            4500,
            1500,
            7000,
            2500,
            6500,
            2300,
            2500,
            1470,
            2000,
            525,
            2250,
            3000,
            7560,
            425,
            2600,
            2000,
            1500,
            3500,
            3700,
            1000,
            1750,
            2600,
            550,
            1150,
            875,
            2000,
            2100,
            738.01,
            3500,
            237.5,
            2600,
            8500,
            562,
            6000,
            750,
            750,
            550,
            750,
            2350,
            1375,
            8000,
            1800,
            11350,
            2000,
            4300,
            2300,
            1610,
            450,
            1500,
            2500,
            2510,
            12600,
            575,
            1500,
            1280,
            1680,
            3030,
            2500,
            1750,
            3300,
            2500,
            4000,
            562,
            2500,
            5000,
            2500,
            1750,
            3500,
            1250,
            3000,
            4500,
            2070,
            800,
            2500,
            2500,
            4000,
            400,
            500,
            150,
            1700,
            1000,
            950,
            565,
            1650,
            6500,
            437,
            6600,
            4000,
            550,
            5100,
            2100,
            1825,
            400,
            625,
            5750,
            555,
            1000,
            5500,
            625,
            1500,
            2250,
            3000,
            3700,
            500,
            1000,
            525,
            1710,
            5000,
            4500,
            10800,
            500,
            1500,
            1500,
            208.3,
            1250,
            6000,
            875,
            625,
            5090,
            4650,
            587,
            3000,
            937.5,
            2480,
            4500,
            3000,
            15800,
            800,
            1500,
            2300,
            2000,
            375,
            3250,
            290,
            4500,
            1976.3,
            1000,
            1710,
            2000,
            1976.3,
            875,
            512.5,
            4350,
            2750,
            700,
            500,
            391,
            625,
            3000,
            500,
            1840,
            5000,
            2000,
            875,
            750,
            3500,
            355,
            250,
            500,
            7500,
            700,
            1000,
            875,
            2750,
            1750,
            3500,
            462,
            130,
            875,
            1270,
            2500,
            4500,
            3000,
            2250,
            1030,
            4500,
            100,
            360,
            2500,
            125,
            750,
            2500,
            3250,
            2125,
            1000,
            1400,
            800,
            50,
            2250,
            2500,
            200,
            190,
            1250,
            100,
            3250,
            500,
            400,
            3000,
            700,
            450,
            200,
            1900,
            8880,
            1625,
            200,
            395,
            495,
            15520,
            3500,
            500,
            21000,
            3250,
            4700,
            1200,
            1000,
            4500,
            1640,
            6500,
            4500,
            75,
            4800,
            410,
            500,
            2500,
            750,
            16052,
            425,
            100,
            5000,
            562,
            100,
            300,
            3366,
            500,
            26250,
            3500,
            2500,
            500,
            40,
            200,
            2250,
            1700,
            2000,
            1525,
            6000,
            1000,
            1550,
            350,
            1000,
            6000,
            1540,
            200,
            1750,
            624,
            100,
            4300,
            6000,
            4800,
            1200,
            780,
            1750,
            1500,
            1500,
            3500,
            100,
            2250,
            2500,
            200,
            1500,
            3125,
            1750,
            1750,
            2000,
            2500,
            1000,
            4500
           ]
          },
          {
           "label": "Number of Users",
           "values": [
            7050,
            250,
            100,
            500,
            15,
            190,
            2650,
            1470,
            6550,
            250,
            15,
            15,
            250,
            250,
            15,
            15,
            100,
            250,
            270,
            200,
            310,
            20,
            100,
            100,
            500,
            500,
            100,
            100,
            50,
            200,
            645,
            75,
            250,
            100,
            15,
            250,
            250,
            250,
            100,
            4700,
            1000,
            100,
            250,
            100,
            100,
            1000,
            250,
            100,
            100,
            250,
            250,
            250,
            100,
            100,
            100,
            5000,
            250,
            100,
            85,
            300,
            250,
            100,
            75,
            50,
            450,
            50,
            25,
            200,
            50,
            40,
            50,
            50,
            250,
            250,
            100,
            13,
            100,
            500,
            10,
            250,
            100,
            200,
            100,
            100,
            250,
            75,
            300,
            50,
            300,
            100,
            4850,
            300,
            100,
            30,
            25,
            500,
            50,
            350,
            50,
            6,
            20,
            100,
            85,
            126,
            50,
            200,
            20,
            456,
            100,
            25,
            20,
            75,
            1000,
            50,
            1000,
            25,
            20,
            25,
            400,
            250,
            50,
            300,
            50,
            50,
            25,
            25,
            250,
            50,
            500,
            100,
            4700,
            50,
            246,
            50,
            300,
            100,
            100,
            25,
            250,
            25,
            200,
            100,
            1275,
            250,
            25,
            100,
            200,
            150,
            267,
            25,
            75,
            300,
            200,
            35,
            200,
            126,
            50,
            75,
            110,
            435,
            23,
            51,
            50,
            100,
            20,
            200,
            150,
            500,
            20,
            135,
            20,
            300,
            125,
            25,
            50,
            150,
            250,
            50,
            75,
            130,
            77,
            300,
            60,
            20,
            500,
            200,
            50,
            50,
            200,
            135,
            50,
            385,
            250,
            20,
            20,
            4850,
            100,
            25,
            null,
            100,
            50,
            100,
            250,
            50,
            100,
            300,
            50,
            31,
            100,
            151,
            50,
            50,
            200,
            135,
            750,
            60,
            250,
            435,
            300,
            50,
            350,
            20,
            200,
            50,
            50,
            200,
            135,
            50,
            500,
            5,
            250,
            50,
            50,
            200,
            38,
            135,
            100,
            51,
            250,
            50,
            200,
            50,
            50,
            52,
            null,
            5000,
            100,
            55,
            20,
            31,
            50,
            15,
            25,
            45,
            75,
            150,
            10,
            30,
            10,
            151,
            200,
            40,
            250,
            135,
            50,
            20,
            50,
            50,
            500,
            45,
            10,
            50,
            23,
            31,
            100,
            50,
            700,
            250,
            13,
            100,
            600,
            250,
            1000,
            75,
            150,
            75,
            175,
            1419,
            700,
            100,
            85,
            50,
            100,
            2200,
            3200,
            100,
            50,
            100,
            125,
            100,
            61,
            50,
            182,
            400,
            20,
            173,
            500,
            580,
            61,
            250,
            150,
            500,
            25,
            200,
            106,
            100,
            53,
            50,
            300,
            200,
            40,
            800,
            4700,
            41,
            13,
            60,
            400,
            100,
            27,
            100,
            100,
            100,
            100,
            200,
            50,
            30,
            200,
            20,
            50,
            200,
            200,
            100,
            500,
            5000,
            55,
            250,
            200,
            100,
            50,
            100,
            120,
            2000,
            50,
            100,
            17,
            200,
            250,
            200,
            100,
            50,
            40,
            150,
            100,
            100,
            100,
            50,
            200,
            30,
            200,
            150,
            200,
            150,
            500,
            150,
            300,
            130,
            300,
            1300,
            200,
            75,
            50,
            30,
            85,
            300,
            50,
            150,
            100,
            75,
            10,
            50,
            300,
            300,
            150,
            100,
            500,
            60,
            350,
            200,
            350,
            10,
            300,
            50,
            400,
            200,
            60,
            190,
            115,
            50,
            75,
            35,
            100,
            300,
            42,
            100,
            70,
            200,
            100,
            15,
            15,
            90,
            150,
            200,
            350,
            250,
            50,
            150,
            550,
            200,
            500,
            80,
            100,
            97,
            250,
            60,
            75,
            150,
            152,
            20,
            110,
            50,
            150,
            200,
            370,
            50,
            200,
            350,
            70,
            115,
            200,
            100,
            90,
            137,
            200,
            95,
            110,
            700,
            75,
            450,
            150,
            150,
            70,
            150,
            85,
            400,
            700,
            30,
            985,
            50,
            280,
            80,
            172,
            30,
            150,
            100,
            101,
            350,
            80,
            150,
            106,
            186,
            153,
            100,
            200,
            150,
            100,
            300,
            75,
            250,
            350,
            250,
            350,
            200,
            100,
            150,
            300,
            57,
            10,
            250,
            250,
            400,
            100,
            50,
            15,
            170,
            50,
            95,
            75,
            15,
            500,
            25,
            120,
            250,
            70,
            360,
            100,
            580,
            10,
            100,
            425,
            72,
            100,
            400,
            100,
            150,
            75,
            150,
            220,
            25,
            50,
            60,
            21,
            400,
            300,
            260,
            50,
            150,
            150,
            20,
            100,
            500,
            25,
            100,
            359,
            525,
            85,
            250,
            375,
            98,
            450,
            150,
            1430,
            170,
            150,
            80,
            50,
            150,
            325,
            116,
            300,
            40,
            50,
            171,
            50,
            40,
            200,
            55,
            45,
            125,
            134,
            50,
            11,
            100,
            150,
            50,
            34,
            350,
            50,
            200,
            150,
            200,
            71,
            50,
            50,
            600,
            70,
            100,
            200,
            125,
            200,
            200,
            35,
            13,
            25,
            358,
            100,
            425,
            200,
            75,
            56,
            300,
            10,
            36,
            100,
            50,
            150,
            100,
            1150,
            750,
            100,
            130,
            10,
            35,
            75,
            100,
            20,
            19,
            350,
            10,
            500,
            50,
            10,
            150,
            130,
            30,
            20,
            40,
            738,
            500,
            90,
            8,
            110,
            52,
            250,
            50,
            1950,
            500,
            320,
            20,
            100,
            300,
            14,
            500,
            300,
            15,
            60,
            30,
            50,
            100,
            100,
            6271,
            20,
            40,
            350,
            75,
            20,
            30,
            311,
            50,
            1000,
            200,
            100,
            50,
            50,
            20,
            75,
            20,
            50,
            155,
            100,
            50,
            5,
            35,
            50,
            100,
            4,
            20,
            200,
            106,
            10,
            85,
            100,
            60,
            90,
            6,
            200,
            50,
            150,
            350,
            10,
            300,
            350,
            20,
            150,
            475,
            200,
            200,
            200,
            350,
            50,
            300
           ]
          }
         ],
         "domain": {
          "x": [
           0,
           1
          ],
          "y": [
           0,
           1
          ]
         },
         "line": {
          "color": [
           2015,
           2015,
           2015,
           2015,
           2015,
           2015,
           2015,
           2015,
           2015,
           2015,
           2016,
           2016,
           2016,
           2016,
           2016,
           2016,
           2016,
           2016,
           2016,
           2016,
           2016,
           2016,
           2016,
           2016,
           2016,
           2016,
           2016,
           2016,
           2016,
           2016,
           2016,
           2016,
           2016,
           2016,
           2016,
           2016,
           2016,
           2016,
           2016,
           2016,
           2016,
           2016,
           2016,
           2016,
           2016,
           2016,
           2016,
           2016,
           2016,
           2016,
           2016,
           2016,
           2016,
           2016,
           2016,
           2016,
           2016,
           2016,
           2016,
           2016,
           2016,
           2016,
           2016,
           2016,
           2016,
           2017,
           2017,
           2017,
           2017,
           2017,
           2017,
           2017,
           2017,
           2017,
           2017,
           2017,
           2017,
           2017,
           2017,
           2017,
           2017,
           2017,
           2017,
           2017,
           2017,
           2017,
           2017,
           2017,
           2017,
           2017,
           2017,
           2017,
           2017,
           2017,
           2017,
           2017,
           2017,
           2017,
           2017,
           2017,
           2017,
           2017,
           2017,
           2017,
           2017,
           2017,
           2017,
           2017,
           2017,
           2017,
           2017,
           2017,
           2017,
           2017,
           2017,
           2017,
           2017,
           2017,
           2017,
           2017,
           2017,
           2017,
           2018,
           2018,
           2018,
           2018,
           2018,
           2018,
           2018,
           2018,
           2018,
           2018,
           2018,
           2018,
           2018,
           2018,
           2018,
           2018,
           2018,
           2018,
           2018,
           2018,
           2018,
           2018,
           2018,
           2018,
           2018,
           2018,
           2018,
           2018,
           2018,
           2018,
           2018,
           2018,
           2018,
           2018,
           2018,
           2018,
           2018,
           2018,
           2018,
           2018,
           2018,
           2018,
           2018,
           2018,
           2018,
           2018,
           2018,
           2018,
           2018,
           2018,
           2018,
           2018,
           2018,
           2018,
           2018,
           2018,
           2018,
           2018,
           2018,
           2018,
           2018,
           2018,
           2018,
           2018,
           2019,
           2019,
           2019,
           2019,
           2019,
           2019,
           2019,
           2019,
           2019,
           2019,
           2019,
           2019,
           2019,
           2019,
           2019,
           2019,
           2019,
           2019,
           2019,
           2019,
           2019,
           2019,
           2019,
           2019,
           2019,
           2019,
           2019,
           2019,
           2019,
           2019,
           2019,
           2019,
           2019,
           2019,
           2019,
           2019,
           2019,
           2019,
           2019,
           2019,
           2019,
           2019,
           2019,
           2019,
           2019,
           2019,
           2019,
           2019,
           2019,
           2019,
           2019,
           2019,
           2019,
           2019,
           2019,
           2019,
           2019,
           2019,
           2019,
           2019,
           2019,
           2019,
           2019,
           2019,
           2019,
           2019,
           2019,
           2019,
           2019,
           2019,
           2019,
           2019,
           2019,
           2019,
           2019,
           2020,
           2020,
           2020,
           2020,
           2020,
           2020,
           2020,
           2020,
           2020,
           2020,
           2020,
           2020,
           2020,
           2020,
           2020,
           2020,
           2020,
           2020,
           2020,
           2020,
           2020,
           2020,
           2020,
           2020,
           2020,
           2020,
           2020,
           2020,
           2020,
           2020,
           2020,
           2020,
           2020,
           2020,
           2020,
           2020,
           2020,
           2020,
           2020,
           2020,
           2020,
           2020,
           2020,
           2020,
           2020,
           2020,
           2020,
           2020,
           2020,
           2020,
           2020,
           2020,
           2020,
           2020,
           2020,
           2020,
           2020,
           2020,
           2020,
           2020,
           2020,
           2020,
           2020,
           2020,
           2020,
           2020,
           2020,
           2020,
           2020,
           2020,
           2020,
           2020,
           2020,
           2020,
           2020,
           2020,
           2020,
           2020,
           2020,
           2020,
           2020,
           2020,
           2020,
           2020,
           2020,
           2020,
           2020,
           2020,
           2020,
           2020,
           2020,
           2020,
           2020,
           2020,
           2020,
           2020,
           2020,
           2020,
           2020,
           2020,
           2020,
           2020,
           2020,
           2020,
           2020,
           2020,
           2020,
           2020,
           2020,
           2020,
           2020,
           2020,
           2020,
           2020,
           2020,
           2020,
           2020,
           2020,
           2020,
           2020,
           2020,
           2020,
           2020,
           2020,
           2020,
           2020,
           2020,
           2020,
           2020,
           2020,
           2020,
           2020,
           2020,
           2020,
           2020,
           2020,
           2020,
           2020,
           2020,
           2020,
           2020,
           2020,
           2020,
           2020,
           2020,
           2020,
           2020,
           2020,
           2020,
           2020,
           2020,
           2020,
           2020,
           2020,
           2020,
           2020,
           2020,
           2020,
           2020,
           2020,
           2020,
           2020,
           2020,
           2020,
           2020,
           2020,
           2020,
           2020,
           2020,
           2020,
           2020,
           2020,
           2020,
           2020,
           2020,
           2020,
           2020,
           2020,
           2020,
           2020,
           2020,
           2020,
           2020,
           2020,
           2020,
           2020,
           2020,
           2020,
           2020,
           2020,
           2020,
           2020,
           2020,
           2020,
           2020,
           2020,
           2020,
           2020,
           2020,
           2020,
           2020,
           2020,
           2020,
           2020,
           2020,
           2020,
           2020,
           2020,
           2020,
           2020,
           2020,
           2020,
           2020,
           2020,
           2020,
           2020,
           2020,
           2020,
           2020,
           2020,
           2020,
           2020,
           2020,
           2020,
           2020,
           2020,
           2020,
           2020,
           2020,
           2020,
           2020,
           2020,
           2020,
           2020,
           2020,
           2020,
           2020,
           2020,
           2020,
           2020,
           2020,
           2020,
           2020,
           2020,
           2020,
           2020,
           2020,
           2020,
           2020,
           2020,
           2020,
           2020,
           2020,
           2020,
           2020,
           2020,
           2020,
           2020,
           2020,
           2020,
           2020,
           2020,
           2020,
           2020,
           2020,
           2020,
           2020,
           2020,
           2020,
           2020,
           2020,
           2020,
           2020,
           2020,
           2020,
           2020,
           2020,
           2020,
           2020,
           2020,
           2020,
           2020,
           2020,
           2020,
           2020,
           2020,
           2020,
           2020,
           2020,
           2020,
           2020,
           2020,
           2020,
           2020,
           2020,
           2020,
           2020,
           2020,
           2020,
           2020,
           2020,
           2020,
           2020,
           2020,
           2020,
           2020,
           2020,
           2020,
           2020,
           2020,
           2020,
           2020,
           2020,
           2020,
           2020,
           2020,
           2020,
           2020,
           2020,
           2020,
           2020,
           2020,
           2020,
           2020,
           2020,
           2020,
           2020,
           2020,
           2020,
           2020,
           2020,
           2020,
           2020,
           2020,
           2020,
           2020,
           2020,
           2020,
           2020,
           2020,
           2020,
           2020,
           2020,
           2020,
           2020,
           2020,
           2020,
           2020,
           2020,
           2020,
           2020,
           2020,
           2020,
           2020,
           2020,
           2020,
           2020,
           2020,
           2020,
           2020,
           2020,
           2020,
           2020,
           2020,
           2020,
           2020,
           2020,
           2020,
           2020,
           2020,
           2020,
           2020,
           2020,
           2020,
           2020,
           2020,
           2020,
           2020,
           2020,
           2020,
           2020,
           2020,
           2020,
           2020,
           2020,
           2020,
           2020,
           2020,
           2020,
           2020,
           2020,
           2020,
           2020,
           2020,
           2020,
           2020,
           2020,
           2020,
           2020,
           2020,
           2020,
           2020,
           2020,
           2020,
           2020,
           2020,
           2020,
           2020,
           2020,
           2020,
           2020,
           2020,
           2020,
           2020,
           2020,
           2020,
           2020,
           2020,
           2020,
           2020,
           2020,
           2020,
           2020,
           2020,
           2020,
           2020,
           2020,
           2020,
           2020,
           2020,
           2020,
           2020,
           2020,
           2020,
           2020,
           2020,
           2020,
           2020,
           2020
          ],
          "coloraxis": "coloraxis"
         },
         "name": "",
         "type": "parcats"
        }
       ],
       "layout": {
        "coloraxis": {
         "colorbar": {
          "title": {
           "text": "Year"
          }
         },
         "colorscale": [
          [
           0,
           "#000004"
          ],
          [
           0.1111111111111111,
           "#1b0c41"
          ],
          [
           0.2222222222222222,
           "#4a0c6b"
          ],
          [
           0.3333333333333333,
           "#781c6d"
          ],
          [
           0.4444444444444444,
           "#a52c60"
          ],
          [
           0.5555555555555556,
           "#cf4446"
          ],
          [
           0.6666666666666666,
           "#ed6925"
          ],
          [
           0.7777777777777778,
           "#fb9b06"
          ],
          [
           0.8888888888888888,
           "#f7d13d"
          ],
          [
           1,
           "#fcffa4"
          ]
         ]
        },
        "height": 1400,
        "legend": {
         "tracegroupgap": 0
        },
        "template": {
         "data": {
          "bar": [
           {
            "error_x": {
             "color": "#2a3f5f"
            },
            "error_y": {
             "color": "#2a3f5f"
            },
            "marker": {
             "line": {
              "color": "#E5ECF6",
              "width": 0.5
             }
            },
            "type": "bar"
           }
          ],
          "barpolar": [
           {
            "marker": {
             "line": {
              "color": "#E5ECF6",
              "width": 0.5
             }
            },
            "type": "barpolar"
           }
          ],
          "carpet": [
           {
            "aaxis": {
             "endlinecolor": "#2a3f5f",
             "gridcolor": "white",
             "linecolor": "white",
             "minorgridcolor": "white",
             "startlinecolor": "#2a3f5f"
            },
            "baxis": {
             "endlinecolor": "#2a3f5f",
             "gridcolor": "white",
             "linecolor": "white",
             "minorgridcolor": "white",
             "startlinecolor": "#2a3f5f"
            },
            "type": "carpet"
           }
          ],
          "choropleth": [
           {
            "colorbar": {
             "outlinewidth": 0,
             "ticks": ""
            },
            "type": "choropleth"
           }
          ],
          "contour": [
           {
            "colorbar": {
             "outlinewidth": 0,
             "ticks": ""
            },
            "colorscale": [
             [
              0,
              "#0d0887"
             ],
             [
              0.1111111111111111,
              "#46039f"
             ],
             [
              0.2222222222222222,
              "#7201a8"
             ],
             [
              0.3333333333333333,
              "#9c179e"
             ],
             [
              0.4444444444444444,
              "#bd3786"
             ],
             [
              0.5555555555555556,
              "#d8576b"
             ],
             [
              0.6666666666666666,
              "#ed7953"
             ],
             [
              0.7777777777777778,
              "#fb9f3a"
             ],
             [
              0.8888888888888888,
              "#fdca26"
             ],
             [
              1,
              "#f0f921"
             ]
            ],
            "type": "contour"
           }
          ],
          "contourcarpet": [
           {
            "colorbar": {
             "outlinewidth": 0,
             "ticks": ""
            },
            "type": "contourcarpet"
           }
          ],
          "heatmap": [
           {
            "colorbar": {
             "outlinewidth": 0,
             "ticks": ""
            },
            "colorscale": [
             [
              0,
              "#0d0887"
             ],
             [
              0.1111111111111111,
              "#46039f"
             ],
             [
              0.2222222222222222,
              "#7201a8"
             ],
             [
              0.3333333333333333,
              "#9c179e"
             ],
             [
              0.4444444444444444,
              "#bd3786"
             ],
             [
              0.5555555555555556,
              "#d8576b"
             ],
             [
              0.6666666666666666,
              "#ed7953"
             ],
             [
              0.7777777777777778,
              "#fb9f3a"
             ],
             [
              0.8888888888888888,
              "#fdca26"
             ],
             [
              1,
              "#f0f921"
             ]
            ],
            "type": "heatmap"
           }
          ],
          "heatmapgl": [
           {
            "colorbar": {
             "outlinewidth": 0,
             "ticks": ""
            },
            "colorscale": [
             [
              0,
              "#0d0887"
             ],
             [
              0.1111111111111111,
              "#46039f"
             ],
             [
              0.2222222222222222,
              "#7201a8"
             ],
             [
              0.3333333333333333,
              "#9c179e"
             ],
             [
              0.4444444444444444,
              "#bd3786"
             ],
             [
              0.5555555555555556,
              "#d8576b"
             ],
             [
              0.6666666666666666,
              "#ed7953"
             ],
             [
              0.7777777777777778,
              "#fb9f3a"
             ],
             [
              0.8888888888888888,
              "#fdca26"
             ],
             [
              1,
              "#f0f921"
             ]
            ],
            "type": "heatmapgl"
           }
          ],
          "histogram": [
           {
            "marker": {
             "colorbar": {
              "outlinewidth": 0,
              "ticks": ""
             }
            },
            "type": "histogram"
           }
          ],
          "histogram2d": [
           {
            "colorbar": {
             "outlinewidth": 0,
             "ticks": ""
            },
            "colorscale": [
             [
              0,
              "#0d0887"
             ],
             [
              0.1111111111111111,
              "#46039f"
             ],
             [
              0.2222222222222222,
              "#7201a8"
             ],
             [
              0.3333333333333333,
              "#9c179e"
             ],
             [
              0.4444444444444444,
              "#bd3786"
             ],
             [
              0.5555555555555556,
              "#d8576b"
             ],
             [
              0.6666666666666666,
              "#ed7953"
             ],
             [
              0.7777777777777778,
              "#fb9f3a"
             ],
             [
              0.8888888888888888,
              "#fdca26"
             ],
             [
              1,
              "#f0f921"
             ]
            ],
            "type": "histogram2d"
           }
          ],
          "histogram2dcontour": [
           {
            "colorbar": {
             "outlinewidth": 0,
             "ticks": ""
            },
            "colorscale": [
             [
              0,
              "#0d0887"
             ],
             [
              0.1111111111111111,
              "#46039f"
             ],
             [
              0.2222222222222222,
              "#7201a8"
             ],
             [
              0.3333333333333333,
              "#9c179e"
             ],
             [
              0.4444444444444444,
              "#bd3786"
             ],
             [
              0.5555555555555556,
              "#d8576b"
             ],
             [
              0.6666666666666666,
              "#ed7953"
             ],
             [
              0.7777777777777778,
              "#fb9f3a"
             ],
             [
              0.8888888888888888,
              "#fdca26"
             ],
             [
              1,
              "#f0f921"
             ]
            ],
            "type": "histogram2dcontour"
           }
          ],
          "mesh3d": [
           {
            "colorbar": {
             "outlinewidth": 0,
             "ticks": ""
            },
            "type": "mesh3d"
           }
          ],
          "parcoords": [
           {
            "line": {
             "colorbar": {
              "outlinewidth": 0,
              "ticks": ""
             }
            },
            "type": "parcoords"
           }
          ],
          "pie": [
           {
            "automargin": true,
            "type": "pie"
           }
          ],
          "scatter": [
           {
            "marker": {
             "colorbar": {
              "outlinewidth": 0,
              "ticks": ""
             }
            },
            "type": "scatter"
           }
          ],
          "scatter3d": [
           {
            "line": {
             "colorbar": {
              "outlinewidth": 0,
              "ticks": ""
             }
            },
            "marker": {
             "colorbar": {
              "outlinewidth": 0,
              "ticks": ""
             }
            },
            "type": "scatter3d"
           }
          ],
          "scattercarpet": [
           {
            "marker": {
             "colorbar": {
              "outlinewidth": 0,
              "ticks": ""
             }
            },
            "type": "scattercarpet"
           }
          ],
          "scattergeo": [
           {
            "marker": {
             "colorbar": {
              "outlinewidth": 0,
              "ticks": ""
             }
            },
            "type": "scattergeo"
           }
          ],
          "scattergl": [
           {
            "marker": {
             "colorbar": {
              "outlinewidth": 0,
              "ticks": ""
             }
            },
            "type": "scattergl"
           }
          ],
          "scattermapbox": [
           {
            "marker": {
             "colorbar": {
              "outlinewidth": 0,
              "ticks": ""
             }
            },
            "type": "scattermapbox"
           }
          ],
          "scatterpolar": [
           {
            "marker": {
             "colorbar": {
              "outlinewidth": 0,
              "ticks": ""
             }
            },
            "type": "scatterpolar"
           }
          ],
          "scatterpolargl": [
           {
            "marker": {
             "colorbar": {
              "outlinewidth": 0,
              "ticks": ""
             }
            },
            "type": "scatterpolargl"
           }
          ],
          "scatterternary": [
           {
            "marker": {
             "colorbar": {
              "outlinewidth": 0,
              "ticks": ""
             }
            },
            "type": "scatterternary"
           }
          ],
          "surface": [
           {
            "colorbar": {
             "outlinewidth": 0,
             "ticks": ""
            },
            "colorscale": [
             [
              0,
              "#0d0887"
             ],
             [
              0.1111111111111111,
              "#46039f"
             ],
             [
              0.2222222222222222,
              "#7201a8"
             ],
             [
              0.3333333333333333,
              "#9c179e"
             ],
             [
              0.4444444444444444,
              "#bd3786"
             ],
             [
              0.5555555555555556,
              "#d8576b"
             ],
             [
              0.6666666666666666,
              "#ed7953"
             ],
             [
              0.7777777777777778,
              "#fb9f3a"
             ],
             [
              0.8888888888888888,
              "#fdca26"
             ],
             [
              1,
              "#f0f921"
             ]
            ],
            "type": "surface"
           }
          ],
          "table": [
           {
            "cells": {
             "fill": {
              "color": "#EBF0F8"
             },
             "line": {
              "color": "white"
             }
            },
            "header": {
             "fill": {
              "color": "#C8D4E3"
             },
             "line": {
              "color": "white"
             }
            },
            "type": "table"
           }
          ]
         },
         "layout": {
          "annotationdefaults": {
           "arrowcolor": "#2a3f5f",
           "arrowhead": 0,
           "arrowwidth": 1
          },
          "coloraxis": {
           "colorbar": {
            "outlinewidth": 0,
            "ticks": ""
           }
          },
          "colorscale": {
           "diverging": [
            [
             0,
             "#8e0152"
            ],
            [
             0.1,
             "#c51b7d"
            ],
            [
             0.2,
             "#de77ae"
            ],
            [
             0.3,
             "#f1b6da"
            ],
            [
             0.4,
             "#fde0ef"
            ],
            [
             0.5,
             "#f7f7f7"
            ],
            [
             0.6,
             "#e6f5d0"
            ],
            [
             0.7,
             "#b8e186"
            ],
            [
             0.8,
             "#7fbc41"
            ],
            [
             0.9,
             "#4d9221"
            ],
            [
             1,
             "#276419"
            ]
           ],
           "sequential": [
            [
             0,
             "#0d0887"
            ],
            [
             0.1111111111111111,
             "#46039f"
            ],
            [
             0.2222222222222222,
             "#7201a8"
            ],
            [
             0.3333333333333333,
             "#9c179e"
            ],
            [
             0.4444444444444444,
             "#bd3786"
            ],
            [
             0.5555555555555556,
             "#d8576b"
            ],
            [
             0.6666666666666666,
             "#ed7953"
            ],
            [
             0.7777777777777778,
             "#fb9f3a"
            ],
            [
             0.8888888888888888,
             "#fdca26"
            ],
            [
             1,
             "#f0f921"
            ]
           ],
           "sequentialminus": [
            [
             0,
             "#0d0887"
            ],
            [
             0.1111111111111111,
             "#46039f"
            ],
            [
             0.2222222222222222,
             "#7201a8"
            ],
            [
             0.3333333333333333,
             "#9c179e"
            ],
            [
             0.4444444444444444,
             "#bd3786"
            ],
            [
             0.5555555555555556,
             "#d8576b"
            ],
            [
             0.6666666666666666,
             "#ed7953"
            ],
            [
             0.7777777777777778,
             "#fb9f3a"
            ],
            [
             0.8888888888888888,
             "#fdca26"
            ],
            [
             1,
             "#f0f921"
            ]
           ]
          },
          "colorway": [
           "#636efa",
           "#EF553B",
           "#00cc96",
           "#ab63fa",
           "#FFA15A",
           "#19d3f3",
           "#FF6692",
           "#B6E880",
           "#FF97FF",
           "#FECB52"
          ],
          "font": {
           "color": "#2a3f5f"
          },
          "geo": {
           "bgcolor": "white",
           "lakecolor": "white",
           "landcolor": "#E5ECF6",
           "showlakes": true,
           "showland": true,
           "subunitcolor": "white"
          },
          "hoverlabel": {
           "align": "left"
          },
          "hovermode": "closest",
          "mapbox": {
           "style": "light"
          },
          "paper_bgcolor": "white",
          "plot_bgcolor": "#E5ECF6",
          "polar": {
           "angularaxis": {
            "gridcolor": "white",
            "linecolor": "white",
            "ticks": ""
           },
           "bgcolor": "#E5ECF6",
           "radialaxis": {
            "gridcolor": "white",
            "linecolor": "white",
            "ticks": ""
           }
          },
          "scene": {
           "xaxis": {
            "backgroundcolor": "#E5ECF6",
            "gridcolor": "white",
            "gridwidth": 2,
            "linecolor": "white",
            "showbackground": true,
            "ticks": "",
            "zerolinecolor": "white"
           },
           "yaxis": {
            "backgroundcolor": "#E5ECF6",
            "gridcolor": "white",
            "gridwidth": 2,
            "linecolor": "white",
            "showbackground": true,
            "ticks": "",
            "zerolinecolor": "white"
           },
           "zaxis": {
            "backgroundcolor": "#E5ECF6",
            "gridcolor": "white",
            "gridwidth": 2,
            "linecolor": "white",
            "showbackground": true,
            "ticks": "",
            "zerolinecolor": "white"
           }
          },
          "shapedefaults": {
           "line": {
            "color": "#2a3f5f"
           }
          },
          "ternary": {
           "aaxis": {
            "gridcolor": "white",
            "linecolor": "white",
            "ticks": ""
           },
           "baxis": {
            "gridcolor": "white",
            "linecolor": "white",
            "ticks": ""
           },
           "bgcolor": "#E5ECF6",
           "caxis": {
            "gridcolor": "white",
            "linecolor": "white",
            "ticks": ""
           }
          },
          "title": {
           "x": 0.05
          },
          "xaxis": {
           "automargin": true,
           "gridcolor": "white",
           "linecolor": "white",
           "ticks": "",
           "title": {
            "standoff": 15
           },
           "zerolinecolor": "white",
           "zerolinewidth": 2
          },
          "yaxis": {
           "automargin": true,
           "gridcolor": "white",
           "linecolor": "white",
           "ticks": "",
           "title": {
            "standoff": 15
           },
           "zerolinecolor": "white",
           "zerolinewidth": 2
          }
         }
        },
        "title": {
         "text": "Customers Status from 2015 to 2020 based on Most Loyal (Active), New Customers, and Lost Customers"
        }
       }
      }
     },
     "metadata": {}
    }
   ],
   "source": [
    "# Parallel Categories Plot\n",
    "px.parallel_categories(\n",
    "    parallel_look,\n",
    "    dimensions=[\"Customers Status\", \"Year\", \"Invoice Amount\", \"Number of Users\"],\n",
    "    title=\"Customers Status from 2015 to 2020 based on Most Loyal (Active), New Customers, and Lost Customers\",\n",
    "    color=\"Year\",\n",
    "    height=1400,\n",
    "    color_continuous_scale=px.colors.sequential.Inferno,\n",
    ")"
   ]
  },
  {
   "cell_type": "code",
   "execution_count": 106,
   "metadata": {},
   "outputs": [],
   "source": [
    "parallel_look_two = atlas.loc[:, ['Customers', 'Number of Users', 'Invoice Amount', 'Year', 'State']]"
   ]
  },
  {
   "cell_type": "code",
   "execution_count": 107,
   "metadata": {},
   "outputs": [],
   "source": [
    "# Group by year and neighborhood and then create a new dataframe of the mean values\n",
    "SFO_Grouped_Year_and_NBHD = parallel_look_two.groupby([\"Year\", \"State\"])"
   ]
  },
  {
   "cell_type": "code",
   "execution_count": 108,
   "metadata": {},
   "outputs": [
    {
     "output_type": "display_data",
     "data": {},
     "metadata": {}
    },
    {
     "output_type": "execute_result",
     "data": {
      "text/html": "<div id='6572'>\n\n\n\n\n\n  <div class=\"bk-root\" id=\"da72939b-a215-4099-a999-507fd8a054a0\" data-root-id=\"6572\"></div>\n</div>\n<script type=\"application/javascript\">(function(root) {\n  function embed_document(root) {\n  var docs_json = {\"d861d8d9-6f42-45e4-a982-946c317d759e\":{\"roots\":{\"references\":[{\"attributes\":{},\"id\":\"6584\",\"type\":\"LinearScale\"},{\"attributes\":{\"factors\":[\"2015\",\"2016\",\"2018\",\"2019\",\"2020\"],\"tags\":[[[\"Year\",\"Year\",null]]]},\"id\":\"6574\",\"type\":\"FactorRange\"},{\"attributes\":{},\"id\":\"6630\",\"type\":\"UnionRenderers\"},{\"attributes\":{\"axis_label\":\"Year\",\"axis_label_text_font_size\":\"20pt\",\"bounds\":\"auto\",\"formatter\":{\"id\":\"6616\"},\"group_text_font_size\":\"20pt\",\"major_label_orientation\":\"horizontal\",\"major_label_text_font_size\":\"20pt\",\"ticker\":{\"id\":\"6587\"}},\"id\":\"6586\",\"type\":\"CategoricalAxis\"},{\"attributes\":{\"callback\":null,\"renderers\":[{\"id\":\"6612\"}],\"tags\":[\"hv_created\"],\"tooltips\":[[\"Year\",\"@{Year}\"],[\"Invoice Amount\",\"@{Invoice_Amount}\"]]},\"id\":\"6576\",\"type\":\"HoverTool\"},{\"attributes\":{},\"id\":\"6594\",\"type\":\"PanTool\"},{\"attributes\":{},\"id\":\"6607\",\"type\":\"Selection\"},{\"attributes\":{\"source\":{\"id\":\"6606\"}},\"id\":\"6613\",\"type\":\"CDSView\"},{\"attributes\":{\"children\":[{\"id\":\"6636\"}],\"css_classes\":[\"widget-box\"],\"margin\":[5,5,5,5],\"name\":\"WidgetBox10920\"},\"id\":\"6635\",\"type\":\"Column\"},{\"attributes\":{\"margin\":[20,20,20,20],\"min_width\":250,\"options\":[\"DC\",\"KS\",\"KY\",\"LA\",\"MD\",\"NV\",\"NY\",\"VA\",\"AL\",\"CA\",\"CT\",\"DE\",\"FL\",\"GA\",\"HI\",\"IL\",\"MI\",\"MO\",\"MS\",\"MT\",\"NC\",\"NJ\",\"OH\",\"OR\",\"PA\",\"SC\",\"UT\",\"VT\",\"AZ\",\"ND\",\"SA\",\"TN\",\"TX\",\"WA\",\"MA\",\"NM\",\"AR\",\"CO\",\"IN\",\"NH\",\"Canada\",\"GU\",\"ME\",\"MN\",\"NE\",\"OK\",\"RI\",\"WI\",\"WV\",\"WY\"],\"title\":\"State\",\"value\":\"DC\",\"width\":250},\"id\":\"6636\",\"type\":\"Select\"},{\"attributes\":{\"text\":\"Interactive Line Chart of the Average Income by State\",\"text_color\":{\"value\":\"black\"},\"text_font_size\":{\"value\":\"25pt\"}},\"id\":\"6578\",\"type\":\"Title\"},{\"attributes\":{\"margin\":[5,5,5,5],\"name\":\"VSpacer10926\",\"sizing_mode\":\"stretch_height\"},\"id\":\"6637\",\"type\":\"Spacer\"},{\"attributes\":{\"fill_color\":{\"value\":\"#1f77b3\"},\"top\":{\"field\":\"Invoice_Amount\"},\"width\":{\"value\":0.8},\"x\":{\"field\":\"Year\"}},\"id\":\"6609\",\"type\":\"VBar\"},{\"attributes\":{},\"id\":\"6582\",\"type\":\"CategoricalScale\"},{\"attributes\":{\"margin\":[5,5,5,5],\"name\":\"VSpacer10925\",\"sizing_mode\":\"stretch_height\"},\"id\":\"6634\",\"type\":\"Spacer\"},{\"attributes\":{\"margin\":[5,5,5,5],\"name\":\"HSpacer10928\",\"sizing_mode\":\"stretch_width\"},\"id\":\"6573\",\"type\":\"Spacer\"},{\"attributes\":{\"client_comm_id\":\"fcee0f977e354550a670c58f1b95526a\",\"comm_id\":\"ca71898c9c62449294a51fb170f84ca5\",\"plot_id\":\"6572\"},\"id\":\"6659\",\"type\":\"panel.models.comm_manager.CommManager\"},{\"attributes\":{\"axis\":{\"id\":\"6586\"},\"grid_line_color\":null,\"ticker\":null},\"id\":\"6588\",\"type\":\"Grid\"},{\"attributes\":{\"fill_alpha\":{\"value\":0.2},\"fill_color\":{\"value\":\"#1f77b3\"},\"line_alpha\":{\"value\":0.2},\"top\":{\"field\":\"Invoice_Amount\"},\"width\":{\"value\":0.8},\"x\":{\"field\":\"Year\"}},\"id\":\"6611\",\"type\":\"VBar\"},{\"attributes\":{\"align\":null,\"below\":[{\"id\":\"6586\"}],\"center\":[{\"id\":\"6588\"},{\"id\":\"6592\"}],\"left\":[{\"id\":\"6589\"}],\"margin\":null,\"min_border_bottom\":10,\"min_border_left\":10,\"min_border_right\":10,\"min_border_top\":10,\"plot_height\":500,\"plot_width\":1000,\"renderers\":[{\"id\":\"6612\"}],\"sizing_mode\":\"fixed\",\"title\":{\"id\":\"6578\"},\"toolbar\":{\"id\":\"6599\"},\"x_range\":{\"id\":\"6574\"},\"x_scale\":{\"id\":\"6582\"},\"y_range\":{\"id\":\"6575\"},\"y_scale\":{\"id\":\"6584\"}},\"id\":\"6577\",\"subtype\":\"Figure\",\"type\":\"Plot\"},{\"attributes\":{\"axis\":{\"id\":\"6589\"},\"dimension\":1,\"grid_line_color\":null,\"ticker\":null},\"id\":\"6592\",\"type\":\"Grid\"},{\"attributes\":{\"axis_label\":\"Total Sales\",\"axis_label_text_font_size\":\"20pt\",\"bounds\":\"auto\",\"formatter\":{\"id\":\"6614\"},\"major_label_orientation\":\"horizontal\",\"major_label_text_font_size\":\"20pt\",\"ticker\":{\"id\":\"6590\"}},\"id\":\"6589\",\"type\":\"LinearAxis\"},{\"attributes\":{\"active_drag\":\"auto\",\"active_inspect\":\"auto\",\"active_multi\":null,\"active_scroll\":\"auto\",\"active_tap\":\"auto\",\"tools\":[{\"id\":\"6576\"},{\"id\":\"6593\"},{\"id\":\"6594\"},{\"id\":\"6595\"},{\"id\":\"6596\"},{\"id\":\"6597\"}]},\"id\":\"6599\",\"type\":\"Toolbar\"},{\"attributes\":{},\"id\":\"6593\",\"type\":\"SaveTool\"},{\"attributes\":{},\"id\":\"6590\",\"type\":\"BasicTicker\"},{\"attributes\":{\"fill_alpha\":{\"value\":0.1},\"fill_color\":{\"value\":\"#1f77b3\"},\"line_alpha\":{\"value\":0.1},\"top\":{\"field\":\"Invoice_Amount\"},\"width\":{\"value\":0.8},\"x\":{\"field\":\"Year\"}},\"id\":\"6610\",\"type\":\"VBar\"},{\"attributes\":{},\"id\":\"6587\",\"type\":\"CategoricalTicker\"},{\"attributes\":{\"overlay\":{\"id\":\"6598\"}},\"id\":\"6596\",\"type\":\"BoxZoomTool\"},{\"attributes\":{\"data_source\":{\"id\":\"6606\"},\"glyph\":{\"id\":\"6609\"},\"hover_glyph\":null,\"muted_glyph\":{\"id\":\"6611\"},\"nonselection_glyph\":{\"id\":\"6610\"},\"selection_glyph\":null,\"view\":{\"id\":\"6613\"}},\"id\":\"6612\",\"type\":\"GlyphRenderer\"},{\"attributes\":{},\"id\":\"6597\",\"type\":\"ResetTool\"},{\"attributes\":{\"bottom_units\":\"screen\",\"fill_alpha\":0.5,\"fill_color\":\"lightgrey\",\"left_units\":\"screen\",\"level\":\"overlay\",\"line_alpha\":1.0,\"line_color\":\"black\",\"line_dash\":[4,4],\"line_width\":2,\"render_mode\":\"css\",\"right_units\":\"screen\",\"top_units\":\"screen\"},\"id\":\"6598\",\"type\":\"BoxAnnotation\"},{\"attributes\":{\"children\":[{\"id\":\"6634\"},{\"id\":\"6635\"},{\"id\":\"6637\"}],\"margin\":[0,0,0,0],\"name\":\"Column10927\"},\"id\":\"6633\",\"type\":\"Column\"},{\"attributes\":{},\"id\":\"6595\",\"type\":\"WheelZoomTool\"},{\"attributes\":{\"end\":24110.0,\"reset_end\":24110.0,\"reset_start\":0.0,\"tags\":[[[\"Invoice Amount\",\"Invoice Amount\",null]]]},\"id\":\"6575\",\"type\":\"Range1d\"},{\"attributes\":{\"children\":[{\"id\":\"6573\"},{\"id\":\"6577\"},{\"id\":\"6632\"},{\"id\":\"6633\"}],\"margin\":[0,0,0,0],\"name\":\"Row10919\"},\"id\":\"6572\",\"type\":\"Row\"},{\"attributes\":{},\"id\":\"6616\",\"type\":\"CategoricalTickFormatter\"},{\"attributes\":{\"format\":\"$%.0f\"},\"id\":\"6614\",\"type\":\"PrintfTickFormatter\"},{\"attributes\":{\"data\":{\"Invoice_Amount\":{\"__ndarray__\":\"AAAAAACV1UAAAAAAAEC/QAAAAAAAcKdAAAAAAABAn0AAAAAAAILUQA==\",\"dtype\":\"float64\",\"shape\":[5]},\"Year\":[\"2015\",\"2016\",\"2018\",\"2019\",\"2020\"]},\"selected\":{\"id\":\"6607\"},\"selection_policy\":{\"id\":\"6630\"}},\"id\":\"6606\",\"type\":\"ColumnDataSource\"},{\"attributes\":{\"margin\":[5,5,5,5],\"name\":\"HSpacer10929\",\"sizing_mode\":\"stretch_width\"},\"id\":\"6632\",\"type\":\"Spacer\"}],\"root_ids\":[\"6572\",\"6659\"]},\"title\":\"Bokeh Application\",\"version\":\"2.0.2\"}};\n  var render_items = [{\"docid\":\"d861d8d9-6f42-45e4-a982-946c317d759e\",\"root_ids\":[\"6572\"],\"roots\":{\"6572\":\"da72939b-a215-4099-a999-507fd8a054a0\"}}];\n  root.Bokeh.embed.embed_items_notebook(docs_json, render_items);\n  }\nif (root.Bokeh !== undefined) {\n    embed_document(root);\n  } else {\n    var attempts = 0;\n    var timer = setInterval(function(root) {\n      if (root.Bokeh !== undefined) {\n        clearInterval(timer);\n        embed_document(root);\n      } else if (document.readyState == \"complete\") {\n        attempts++;\n        if (attempts > 100) {\n          clearInterval(timer);\n          console.log(\"Bokeh: ERROR: Unable to run BokehJS code because BokehJS library is missing\");\n        }\n      }\n    }, 10, root)\n  }\n})(window);</script>",
      "application/vnd.holoviews_exec.v0+json": "",
      "text/plain": [
       ":DynamicMap   [State]\n",
       "   :Bars   [Year]   (Invoice Amount)"
      ]
     },
     "metadata": {
      "application/vnd.holoviews_exec.v0+json": {
       "id": "6572"
      }
     },
     "execution_count": 108
    }
   ],
   "source": [
    "# Use hvplot to create an interactive line chart of the average price per sq ft.\n",
    "AVG_Price_Mean = SFO_Grouped_Year_and_NBHD.mean()\n",
    "SFO_Grouped_Year_and_NBHD = AVG_Price_Mean.hvplot.bar(\n",
    "    x='Year',\n",
    "    y='Invoice Amount',\n",
    "    xlabel='Year',\n",
    "    ylabel='Total Sales',\n",
    "    title='Interactive Line Chart of the Average Income by State',\n",
    "    groupby='State',\n",
    "    figsize=(20,15), \n",
    "    height=500,\n",
    "    width=1000).opts(yformatter='$%.0f', fontsize={'title': 25, 'labels': 20, 'xticks': 20, 'yticks': 20})\n",
    "\n",
    "SFO_Grouped_Year_and_NBHD"
   ]
  },
  {
   "cell_type": "code",
   "execution_count": 109,
   "metadata": {},
   "outputs": [],
   "source": [
    "correlation_one = atlas.loc[:, ['Number of Users', 'Invoice Amount', 'Year']]"
   ]
  },
  {
   "cell_type": "code",
   "execution_count": 110,
   "metadata": {},
   "outputs": [],
   "source": [
    "daily_returns = correlation_one.pct_change()"
   ]
  },
  {
   "cell_type": "code",
   "execution_count": 111,
   "metadata": {},
   "outputs": [
    {
     "output_type": "execute_result",
     "data": {
      "text/plain": [
       "                 Number of Users  Invoice Amount      Year\n",
       "Number of Users         1.000000        0.489759 -0.025607\n",
       "Invoice Amount          0.489759        1.000000 -0.030304\n",
       "Year                   -0.025607       -0.030304  1.000000"
      ],
      "text/html": "<div>\n<style scoped>\n    .dataframe tbody tr th:only-of-type {\n        vertical-align: middle;\n    }\n\n    .dataframe tbody tr th {\n        vertical-align: top;\n    }\n\n    .dataframe thead th {\n        text-align: right;\n    }\n</style>\n<table border=\"1\" class=\"dataframe\">\n  <thead>\n    <tr style=\"text-align: right;\">\n      <th></th>\n      <th>Number of Users</th>\n      <th>Invoice Amount</th>\n      <th>Year</th>\n    </tr>\n  </thead>\n  <tbody>\n    <tr>\n      <th>Number of Users</th>\n      <td>1.000000</td>\n      <td>0.489759</td>\n      <td>-0.025607</td>\n    </tr>\n    <tr>\n      <th>Invoice Amount</th>\n      <td>0.489759</td>\n      <td>1.000000</td>\n      <td>-0.030304</td>\n    </tr>\n    <tr>\n      <th>Year</th>\n      <td>-0.025607</td>\n      <td>-0.030304</td>\n      <td>1.000000</td>\n    </tr>\n  </tbody>\n</table>\n</div>"
     },
     "metadata": {},
     "execution_count": 111
    }
   ],
   "source": [
    "# Use the `corr` function to calculate correlations for each stock pair\n",
    "correlation = daily_returns.corr()\n",
    "correlation"
   ]
  },
  {
   "cell_type": "code",
   "execution_count": 112,
   "metadata": {},
   "outputs": [
    {
     "output_type": "display_data",
     "data": {
      "text/plain": "<Figure size 432x288 with 2 Axes>",
      "image/svg+xml": "<?xml version=\"1.0\" encoding=\"utf-8\" standalone=\"no\"?>\r\n<!DOCTYPE svg PUBLIC \"-//W3C//DTD SVG 1.1//EN\"\r\n  \"http://www.w3.org/Graphics/SVG/1.1/DTD/svg11.dtd\">\r\n<!-- Created with matplotlib (https://matplotlib.org/) -->\r\n<svg height=\"248.064219pt\" version=\"1.1\" viewBox=\"0 0 417.725437 248.064219\" width=\"417.725437pt\" xmlns=\"http://www.w3.org/2000/svg\" xmlns:xlink=\"http://www.w3.org/1999/xlink\">\r\n <defs>\r\n  <style type=\"text/css\">\r\n*{stroke-linecap:butt;stroke-linejoin:round;}\r\n  </style>\r\n </defs>\r\n <g id=\"figure_1\">\r\n  <g id=\"patch_1\">\r\n   <path d=\"M 0 248.064219 \r\nL 417.725437 248.064219 \r\nL 417.725437 0 \r\nL 0 0 \r\nz\r\n\" style=\"fill:none;\"/>\r\n  </g>\r\n  <g id=\"axes_1\">\r\n   <g id=\"patch_2\">\r\n    <path d=\"M 86.271875 228.218906 \r\nL 354.111875 228.218906 \r\nL 354.111875 10.778906 \r\nL 86.271875 10.778906 \r\nz\r\n\" style=\"fill:#ffffff;\"/>\r\n   </g>\r\n   <g id=\"matplotlib.axis_1\">\r\n    <g id=\"xtick_1\">\r\n     <g id=\"line2d_1\"/>\r\n     <g id=\"text_1\">\r\n      <!-- Number of Users -->\r\n      <defs>\r\n       <path d=\"M 7.625 0 \r\nL 7.625 71.578125 \r\nL 17.328125 71.578125 \r\nL 54.9375 15.375 \r\nL 54.9375 71.578125 \r\nL 64.015625 71.578125 \r\nL 64.015625 0 \r\nL 54.296875 0 \r\nL 16.703125 56.25 \r\nL 16.703125 0 \r\nz\r\n\" id=\"ArialMT-78\"/>\r\n       <path d=\"M 40.578125 0 \r\nL 40.578125 7.625 \r\nQ 34.515625 -1.171875 24.125 -1.171875 \r\nQ 19.53125 -1.171875 15.546875 0.578125 \r\nQ 11.578125 2.34375 9.640625 5 \r\nQ 7.71875 7.671875 6.9375 11.53125 \r\nQ 6.390625 14.109375 6.390625 19.734375 \r\nL 6.390625 51.859375 \r\nL 15.1875 51.859375 \r\nL 15.1875 23.09375 \r\nQ 15.1875 16.21875 15.71875 13.8125 \r\nQ 16.546875 10.359375 19.234375 8.375 \r\nQ 21.921875 6.390625 25.875 6.390625 \r\nQ 29.828125 6.390625 33.296875 8.421875 \r\nQ 36.765625 10.453125 38.203125 13.9375 \r\nQ 39.65625 17.4375 39.65625 24.078125 \r\nL 39.65625 51.859375 \r\nL 48.4375 51.859375 \r\nL 48.4375 0 \r\nz\r\n\" id=\"ArialMT-117\"/>\r\n       <path d=\"M 6.59375 0 \r\nL 6.59375 51.859375 \r\nL 14.453125 51.859375 \r\nL 14.453125 44.578125 \r\nQ 16.890625 48.390625 20.9375 50.703125 \r\nQ 25 53.03125 30.171875 53.03125 \r\nQ 35.9375 53.03125 39.625 50.640625 \r\nQ 43.3125 48.25 44.828125 43.953125 \r\nQ 50.984375 53.03125 60.84375 53.03125 \r\nQ 68.5625 53.03125 72.703125 48.75 \r\nQ 76.859375 44.484375 76.859375 35.59375 \r\nL 76.859375 0 \r\nL 68.109375 0 \r\nL 68.109375 32.671875 \r\nQ 68.109375 37.9375 67.25 40.25 \r\nQ 66.40625 42.578125 64.15625 43.984375 \r\nQ 61.921875 45.40625 58.890625 45.40625 \r\nQ 53.421875 45.40625 49.796875 41.765625 \r\nQ 46.1875 38.140625 46.1875 30.125 \r\nL 46.1875 0 \r\nL 37.40625 0 \r\nL 37.40625 33.6875 \r\nQ 37.40625 39.546875 35.25 42.46875 \r\nQ 33.109375 45.40625 28.21875 45.40625 \r\nQ 24.515625 45.40625 21.359375 43.453125 \r\nQ 18.21875 41.5 16.796875 37.734375 \r\nQ 15.375 33.984375 15.375 26.90625 \r\nL 15.375 0 \r\nz\r\n\" id=\"ArialMT-109\"/>\r\n       <path d=\"M 14.703125 0 \r\nL 6.546875 0 \r\nL 6.546875 71.578125 \r\nL 15.328125 71.578125 \r\nL 15.328125 46.046875 \r\nQ 20.90625 53.03125 29.546875 53.03125 \r\nQ 34.328125 53.03125 38.59375 51.09375 \r\nQ 42.875 49.171875 45.625 45.671875 \r\nQ 48.390625 42.1875 49.953125 37.25 \r\nQ 51.515625 32.328125 51.515625 26.703125 \r\nQ 51.515625 13.375 44.921875 6.09375 \r\nQ 38.328125 -1.171875 29.109375 -1.171875 \r\nQ 19.921875 -1.171875 14.703125 6.5 \r\nz\r\nM 14.59375 26.3125 \r\nQ 14.59375 17 17.140625 12.84375 \r\nQ 21.296875 6.0625 28.375 6.0625 \r\nQ 34.125 6.0625 38.328125 11.0625 \r\nQ 42.53125 16.0625 42.53125 25.984375 \r\nQ 42.53125 36.140625 38.5 40.96875 \r\nQ 34.46875 45.796875 28.765625 45.796875 \r\nQ 23 45.796875 18.796875 40.796875 \r\nQ 14.59375 35.796875 14.59375 26.3125 \r\nz\r\n\" id=\"ArialMT-98\"/>\r\n       <path d=\"M 42.09375 16.703125 \r\nL 51.171875 15.578125 \r\nQ 49.03125 7.625 43.21875 3.21875 \r\nQ 37.40625 -1.171875 28.375 -1.171875 \r\nQ 17 -1.171875 10.328125 5.828125 \r\nQ 3.65625 12.84375 3.65625 25.484375 \r\nQ 3.65625 38.578125 10.390625 45.796875 \r\nQ 17.140625 53.03125 27.875 53.03125 \r\nQ 38.28125 53.03125 44.875 45.953125 \r\nQ 51.46875 38.875 51.46875 26.03125 \r\nQ 51.46875 25.25 51.421875 23.6875 \r\nL 12.75 23.6875 \r\nQ 13.234375 15.140625 17.578125 10.59375 \r\nQ 21.921875 6.0625 28.421875 6.0625 \r\nQ 33.25 6.0625 36.671875 8.59375 \r\nQ 40.09375 11.140625 42.09375 16.703125 \r\nz\r\nM 13.234375 30.90625 \r\nL 42.1875 30.90625 \r\nQ 41.609375 37.453125 38.875 40.71875 \r\nQ 34.671875 45.796875 27.984375 45.796875 \r\nQ 21.921875 45.796875 17.796875 41.75 \r\nQ 13.671875 37.703125 13.234375 30.90625 \r\nz\r\n\" id=\"ArialMT-101\"/>\r\n       <path d=\"M 6.5 0 \r\nL 6.5 51.859375 \r\nL 14.40625 51.859375 \r\nL 14.40625 44 \r\nQ 17.4375 49.515625 20 51.265625 \r\nQ 22.5625 53.03125 25.640625 53.03125 \r\nQ 30.078125 53.03125 34.671875 50.203125 \r\nL 31.640625 42.046875 \r\nQ 28.421875 43.953125 25.203125 43.953125 \r\nQ 22.3125 43.953125 20.015625 42.21875 \r\nQ 17.71875 40.484375 16.75 37.40625 \r\nQ 15.28125 32.71875 15.28125 27.15625 \r\nL 15.28125 0 \r\nz\r\n\" id=\"ArialMT-114\"/>\r\n       <path id=\"ArialMT-32\"/>\r\n       <path d=\"M 3.328125 25.921875 \r\nQ 3.328125 40.328125 11.328125 47.265625 \r\nQ 18.015625 53.03125 27.640625 53.03125 \r\nQ 38.328125 53.03125 45.109375 46.015625 \r\nQ 51.90625 39.015625 51.90625 26.65625 \r\nQ 51.90625 16.65625 48.90625 10.90625 \r\nQ 45.90625 5.171875 40.15625 2 \r\nQ 34.421875 -1.171875 27.640625 -1.171875 \r\nQ 16.75 -1.171875 10.03125 5.8125 \r\nQ 3.328125 12.796875 3.328125 25.921875 \r\nz\r\nM 12.359375 25.921875 \r\nQ 12.359375 15.96875 16.703125 11.015625 \r\nQ 21.046875 6.0625 27.640625 6.0625 \r\nQ 34.1875 6.0625 38.53125 11.03125 \r\nQ 42.875 16.015625 42.875 26.21875 \r\nQ 42.875 35.84375 38.5 40.796875 \r\nQ 34.125 45.75 27.640625 45.75 \r\nQ 21.046875 45.75 16.703125 40.8125 \r\nQ 12.359375 35.890625 12.359375 25.921875 \r\nz\r\n\" id=\"ArialMT-111\"/>\r\n       <path d=\"M 8.6875 0 \r\nL 8.6875 45.015625 \r\nL 0.921875 45.015625 \r\nL 0.921875 51.859375 \r\nL 8.6875 51.859375 \r\nL 8.6875 57.375 \r\nQ 8.6875 62.59375 9.625 65.140625 \r\nQ 10.890625 68.5625 14.078125 70.671875 \r\nQ 17.28125 72.796875 23.046875 72.796875 \r\nQ 26.765625 72.796875 31.25 71.921875 \r\nL 29.9375 64.265625 \r\nQ 27.203125 64.75 24.75 64.75 \r\nQ 20.75 64.75 19.09375 63.03125 \r\nQ 17.4375 61.328125 17.4375 56.640625 \r\nL 17.4375 51.859375 \r\nL 27.546875 51.859375 \r\nL 27.546875 45.015625 \r\nL 17.4375 45.015625 \r\nL 17.4375 0 \r\nz\r\n\" id=\"ArialMT-102\"/>\r\n       <path d=\"M 54.6875 71.578125 \r\nL 64.15625 71.578125 \r\nL 64.15625 30.21875 \r\nQ 64.15625 19.4375 61.71875 13.078125 \r\nQ 59.28125 6.734375 52.90625 2.75 \r\nQ 46.53125 -1.21875 36.1875 -1.21875 \r\nQ 26.125 -1.21875 19.71875 2.25 \r\nQ 13.328125 5.71875 10.59375 12.28125 \r\nQ 7.859375 18.84375 7.859375 30.21875 \r\nL 7.859375 71.578125 \r\nL 17.328125 71.578125 \r\nL 17.328125 30.28125 \r\nQ 17.328125 20.953125 19.0625 16.53125 \r\nQ 20.796875 12.109375 25.015625 9.71875 \r\nQ 29.25 7.328125 35.359375 7.328125 \r\nQ 45.796875 7.328125 50.234375 12.0625 \r\nQ 54.6875 16.796875 54.6875 30.28125 \r\nz\r\n\" id=\"ArialMT-85\"/>\r\n       <path d=\"M 3.078125 15.484375 \r\nL 11.765625 16.84375 \r\nQ 12.5 11.625 15.84375 8.84375 \r\nQ 19.1875 6.0625 25.203125 6.0625 \r\nQ 31.25 6.0625 34.171875 8.515625 \r\nQ 37.109375 10.984375 37.109375 14.3125 \r\nQ 37.109375 17.28125 34.515625 19 \r\nQ 32.71875 20.171875 25.53125 21.96875 \r\nQ 15.875 24.421875 12.140625 26.203125 \r\nQ 8.40625 27.984375 6.46875 31.125 \r\nQ 4.546875 34.28125 4.546875 38.09375 \r\nQ 4.546875 41.546875 6.125 44.5 \r\nQ 7.71875 47.46875 10.453125 49.421875 \r\nQ 12.5 50.921875 16.03125 51.96875 \r\nQ 19.578125 53.03125 23.640625 53.03125 \r\nQ 29.734375 53.03125 34.34375 51.265625 \r\nQ 38.96875 49.515625 41.15625 46.5 \r\nQ 43.359375 43.5 44.1875 38.484375 \r\nL 35.59375 37.3125 \r\nQ 35.015625 41.3125 32.203125 43.546875 \r\nQ 29.390625 45.796875 24.265625 45.796875 \r\nQ 18.21875 45.796875 15.625 43.796875 \r\nQ 13.03125 41.796875 13.03125 39.109375 \r\nQ 13.03125 37.40625 14.109375 36.03125 \r\nQ 15.1875 34.625 17.484375 33.6875 \r\nQ 18.796875 33.203125 25.25 31.453125 \r\nQ 34.578125 28.953125 38.25 27.359375 \r\nQ 41.9375 25.78125 44.03125 22.75 \r\nQ 46.140625 19.734375 46.140625 15.234375 \r\nQ 46.140625 10.84375 43.578125 6.953125 \r\nQ 41.015625 3.078125 36.171875 0.953125 \r\nQ 31.34375 -1.171875 25.25 -1.171875 \r\nQ 15.140625 -1.171875 9.84375 3.03125 \r\nQ 4.546875 7.234375 3.078125 15.484375 \r\nz\r\n\" id=\"ArialMT-115\"/>\r\n      </defs>\r\n      <g style=\"fill:#262626;\" transform=\"translate(93.125938 238.876719)scale(0.1 -0.1)\">\r\n       <use xlink:href=\"#ArialMT-78\"/>\r\n       <use x=\"72.216797\" xlink:href=\"#ArialMT-117\"/>\r\n       <use x=\"127.832031\" xlink:href=\"#ArialMT-109\"/>\r\n       <use x=\"211.132812\" xlink:href=\"#ArialMT-98\"/>\r\n       <use x=\"266.748047\" xlink:href=\"#ArialMT-101\"/>\r\n       <use x=\"322.363281\" xlink:href=\"#ArialMT-114\"/>\r\n       <use x=\"355.664062\" xlink:href=\"#ArialMT-32\"/>\r\n       <use x=\"383.447266\" xlink:href=\"#ArialMT-111\"/>\r\n       <use x=\"439.0625\" xlink:href=\"#ArialMT-102\"/>\r\n       <use x=\"466.845703\" xlink:href=\"#ArialMT-32\"/>\r\n       <use x=\"494.628906\" xlink:href=\"#ArialMT-85\"/>\r\n       <use x=\"566.845703\" xlink:href=\"#ArialMT-115\"/>\r\n       <use x=\"616.845703\" xlink:href=\"#ArialMT-101\"/>\r\n       <use x=\"672.460938\" xlink:href=\"#ArialMT-114\"/>\r\n       <use x=\"705.761719\" xlink:href=\"#ArialMT-115\"/>\r\n      </g>\r\n     </g>\r\n    </g>\r\n    <g id=\"xtick_2\">\r\n     <g id=\"line2d_2\"/>\r\n     <g id=\"text_2\">\r\n      <!-- Invoice Amount -->\r\n      <defs>\r\n       <path d=\"M 9.328125 0 \r\nL 9.328125 71.578125 \r\nL 18.796875 71.578125 \r\nL 18.796875 0 \r\nz\r\n\" id=\"ArialMT-73\"/>\r\n       <path d=\"M 6.59375 0 \r\nL 6.59375 51.859375 \r\nL 14.5 51.859375 \r\nL 14.5 44.484375 \r\nQ 20.21875 53.03125 31 53.03125 \r\nQ 35.6875 53.03125 39.625 51.34375 \r\nQ 43.5625 49.65625 45.515625 46.921875 \r\nQ 47.46875 44.1875 48.25 40.4375 \r\nQ 48.734375 37.984375 48.734375 31.890625 \r\nL 48.734375 0 \r\nL 39.9375 0 \r\nL 39.9375 31.546875 \r\nQ 39.9375 36.921875 38.90625 39.578125 \r\nQ 37.890625 42.234375 35.28125 43.8125 \r\nQ 32.671875 45.40625 29.15625 45.40625 \r\nQ 23.53125 45.40625 19.453125 41.84375 \r\nQ 15.375 38.28125 15.375 28.328125 \r\nL 15.375 0 \r\nz\r\n\" id=\"ArialMT-110\"/>\r\n       <path d=\"M 21 0 \r\nL 1.265625 51.859375 \r\nL 10.546875 51.859375 \r\nL 21.6875 20.796875 \r\nQ 23.484375 15.765625 25 10.359375 \r\nQ 26.171875 14.453125 28.265625 20.21875 \r\nL 39.796875 51.859375 \r\nL 48.828125 51.859375 \r\nL 29.203125 0 \r\nz\r\n\" id=\"ArialMT-118\"/>\r\n       <path d=\"M 6.640625 61.46875 \r\nL 6.640625 71.578125 \r\nL 15.4375 71.578125 \r\nL 15.4375 61.46875 \r\nz\r\nM 6.640625 0 \r\nL 6.640625 51.859375 \r\nL 15.4375 51.859375 \r\nL 15.4375 0 \r\nz\r\n\" id=\"ArialMT-105\"/>\r\n       <path d=\"M 40.4375 19 \r\nL 49.078125 17.875 \r\nQ 47.65625 8.9375 41.8125 3.875 \r\nQ 35.984375 -1.171875 27.484375 -1.171875 \r\nQ 16.84375 -1.171875 10.375 5.78125 \r\nQ 3.90625 12.75 3.90625 25.734375 \r\nQ 3.90625 34.125 6.6875 40.421875 \r\nQ 9.46875 46.734375 15.15625 49.875 \r\nQ 20.84375 53.03125 27.546875 53.03125 \r\nQ 35.984375 53.03125 41.359375 48.75 \r\nQ 46.734375 44.484375 48.25 36.625 \r\nL 39.703125 35.296875 \r\nQ 38.484375 40.53125 35.375 43.15625 \r\nQ 32.28125 45.796875 27.875 45.796875 \r\nQ 21.234375 45.796875 17.078125 41.03125 \r\nQ 12.9375 36.28125 12.9375 25.984375 \r\nQ 12.9375 15.53125 16.9375 10.796875 \r\nQ 20.953125 6.0625 27.390625 6.0625 \r\nQ 32.5625 6.0625 36.03125 9.234375 \r\nQ 39.5 12.40625 40.4375 19 \r\nz\r\n\" id=\"ArialMT-99\"/>\r\n       <path d=\"M -0.140625 0 \r\nL 27.34375 71.578125 \r\nL 37.546875 71.578125 \r\nL 66.84375 0 \r\nL 56.0625 0 \r\nL 47.703125 21.6875 \r\nL 17.78125 21.6875 \r\nL 9.90625 0 \r\nz\r\nM 20.515625 29.390625 \r\nL 44.78125 29.390625 \r\nL 37.3125 49.21875 \r\nQ 33.890625 58.25 32.234375 64.0625 \r\nQ 30.859375 57.171875 28.375 50.390625 \r\nz\r\n\" id=\"ArialMT-65\"/>\r\n       <path d=\"M 25.78125 7.859375 \r\nL 27.046875 0.09375 \r\nQ 23.34375 -0.6875 20.40625 -0.6875 \r\nQ 15.625 -0.6875 12.984375 0.828125 \r\nQ 10.359375 2.34375 9.28125 4.8125 \r\nQ 8.203125 7.28125 8.203125 15.1875 \r\nL 8.203125 45.015625 \r\nL 1.765625 45.015625 \r\nL 1.765625 51.859375 \r\nL 8.203125 51.859375 \r\nL 8.203125 64.703125 \r\nL 16.9375 69.96875 \r\nL 16.9375 51.859375 \r\nL 25.78125 51.859375 \r\nL 25.78125 45.015625 \r\nL 16.9375 45.015625 \r\nL 16.9375 14.703125 \r\nQ 16.9375 10.9375 17.40625 9.859375 \r\nQ 17.875 8.796875 18.921875 8.15625 \r\nQ 19.96875 7.515625 21.921875 7.515625 \r\nQ 23.390625 7.515625 25.78125 7.859375 \r\nz\r\n\" id=\"ArialMT-116\"/>\r\n      </defs>\r\n      <g style=\"fill:#262626;\" transform=\"translate(185.734844 238.876719)scale(0.1 -0.1)\">\r\n       <use xlink:href=\"#ArialMT-73\"/>\r\n       <use x=\"27.783203\" xlink:href=\"#ArialMT-110\"/>\r\n       <use x=\"83.398438\" xlink:href=\"#ArialMT-118\"/>\r\n       <use x=\"133.398438\" xlink:href=\"#ArialMT-111\"/>\r\n       <use x=\"189.013672\" xlink:href=\"#ArialMT-105\"/>\r\n       <use x=\"211.230469\" xlink:href=\"#ArialMT-99\"/>\r\n       <use x=\"261.230469\" xlink:href=\"#ArialMT-101\"/>\r\n       <use x=\"316.845703\" xlink:href=\"#ArialMT-32\"/>\r\n       <use x=\"344.550781\" xlink:href=\"#ArialMT-65\"/>\r\n       <use x=\"411.25\" xlink:href=\"#ArialMT-109\"/>\r\n       <use x=\"494.550781\" xlink:href=\"#ArialMT-111\"/>\r\n       <use x=\"550.166016\" xlink:href=\"#ArialMT-117\"/>\r\n       <use x=\"605.78125\" xlink:href=\"#ArialMT-110\"/>\r\n       <use x=\"661.396484\" xlink:href=\"#ArialMT-116\"/>\r\n      </g>\r\n     </g>\r\n    </g>\r\n    <g id=\"xtick_3\">\r\n     <g id=\"line2d_3\"/>\r\n     <g id=\"text_3\">\r\n      <!-- Year -->\r\n      <defs>\r\n       <path d=\"M 27.875 0 \r\nL 27.875 30.328125 \r\nL 0.296875 71.578125 \r\nL 11.8125 71.578125 \r\nL 25.921875 50 \r\nQ 29.828125 43.953125 33.203125 37.890625 \r\nQ 36.421875 43.5 41.015625 50.53125 \r\nL 54.890625 71.578125 \r\nL 65.921875 71.578125 \r\nL 37.359375 30.328125 \r\nL 37.359375 0 \r\nz\r\n\" id=\"ArialMT-89\"/>\r\n       <path d=\"M 40.4375 6.390625 \r\nQ 35.546875 2.25 31.03125 0.53125 \r\nQ 26.515625 -1.171875 21.34375 -1.171875 \r\nQ 12.796875 -1.171875 8.203125 3 \r\nQ 3.609375 7.171875 3.609375 13.671875 \r\nQ 3.609375 17.484375 5.34375 20.625 \r\nQ 7.078125 23.78125 9.890625 25.6875 \r\nQ 12.703125 27.59375 16.21875 28.5625 \r\nQ 18.796875 29.25 24.03125 29.890625 \r\nQ 34.671875 31.15625 39.703125 32.90625 \r\nQ 39.75 34.71875 39.75 35.203125 \r\nQ 39.75 40.578125 37.25 42.78125 \r\nQ 33.890625 45.75 27.25 45.75 \r\nQ 21.046875 45.75 18.09375 43.578125 \r\nQ 15.140625 41.40625 13.71875 35.890625 \r\nL 5.125 37.0625 \r\nQ 6.296875 42.578125 8.984375 45.96875 \r\nQ 11.671875 49.359375 16.75 51.1875 \r\nQ 21.828125 53.03125 28.515625 53.03125 \r\nQ 35.15625 53.03125 39.296875 51.46875 \r\nQ 43.453125 49.90625 45.40625 47.53125 \r\nQ 47.359375 45.171875 48.140625 41.546875 \r\nQ 48.578125 39.3125 48.578125 33.453125 \r\nL 48.578125 21.734375 \r\nQ 48.578125 9.46875 49.140625 6.21875 \r\nQ 49.703125 2.984375 51.375 0 \r\nL 42.1875 0 \r\nQ 40.828125 2.734375 40.4375 6.390625 \r\nz\r\nM 39.703125 26.03125 \r\nQ 34.90625 24.078125 25.34375 22.703125 \r\nQ 19.921875 21.921875 17.671875 20.9375 \r\nQ 15.4375 19.96875 14.203125 18.09375 \r\nQ 12.984375 16.21875 12.984375 13.921875 \r\nQ 12.984375 10.40625 15.640625 8.0625 \r\nQ 18.3125 5.71875 23.4375 5.71875 \r\nQ 28.515625 5.71875 32.46875 7.9375 \r\nQ 36.421875 10.15625 38.28125 14.015625 \r\nQ 39.703125 17 39.703125 22.796875 \r\nz\r\n\" id=\"ArialMT-97\"/>\r\n      </defs>\r\n      <g style=\"fill:#262626;\" transform=\"translate(298.917969 238.876719)scale(0.1 -0.1)\">\r\n       <use xlink:href=\"#ArialMT-89\"/>\r\n       <use x=\"66.558594\" xlink:href=\"#ArialMT-101\"/>\r\n       <use x=\"122.173828\" xlink:href=\"#ArialMT-97\"/>\r\n       <use x=\"177.789062\" xlink:href=\"#ArialMT-114\"/>\r\n      </g>\r\n     </g>\r\n    </g>\r\n   </g>\r\n   <g id=\"matplotlib.axis_2\">\r\n    <g id=\"ytick_1\">\r\n     <g id=\"line2d_4\"/>\r\n     <g id=\"text_4\">\r\n      <!-- Number of Users -->\r\n      <g style=\"fill:#262626;\" transform=\"translate(7.2 50.597812)scale(0.1 -0.1)\">\r\n       <use xlink:href=\"#ArialMT-78\"/>\r\n       <use x=\"72.216797\" xlink:href=\"#ArialMT-117\"/>\r\n       <use x=\"127.832031\" xlink:href=\"#ArialMT-109\"/>\r\n       <use x=\"211.132812\" xlink:href=\"#ArialMT-98\"/>\r\n       <use x=\"266.748047\" xlink:href=\"#ArialMT-101\"/>\r\n       <use x=\"322.363281\" xlink:href=\"#ArialMT-114\"/>\r\n       <use x=\"355.664062\" xlink:href=\"#ArialMT-32\"/>\r\n       <use x=\"383.447266\" xlink:href=\"#ArialMT-111\"/>\r\n       <use x=\"439.0625\" xlink:href=\"#ArialMT-102\"/>\r\n       <use x=\"466.845703\" xlink:href=\"#ArialMT-32\"/>\r\n       <use x=\"494.628906\" xlink:href=\"#ArialMT-85\"/>\r\n       <use x=\"566.845703\" xlink:href=\"#ArialMT-115\"/>\r\n       <use x=\"616.845703\" xlink:href=\"#ArialMT-101\"/>\r\n       <use x=\"672.460938\" xlink:href=\"#ArialMT-114\"/>\r\n       <use x=\"705.761719\" xlink:href=\"#ArialMT-115\"/>\r\n      </g>\r\n     </g>\r\n    </g>\r\n    <g id=\"ytick_2\">\r\n     <g id=\"line2d_5\"/>\r\n     <g id=\"text_5\">\r\n      <!-- Invoice Amount -->\r\n      <g style=\"fill:#262626;\" transform=\"translate(13.857813 123.077812)scale(0.1 -0.1)\">\r\n       <use xlink:href=\"#ArialMT-73\"/>\r\n       <use x=\"27.783203\" xlink:href=\"#ArialMT-110\"/>\r\n       <use x=\"83.398438\" xlink:href=\"#ArialMT-118\"/>\r\n       <use x=\"133.398438\" xlink:href=\"#ArialMT-111\"/>\r\n       <use x=\"189.013672\" xlink:href=\"#ArialMT-105\"/>\r\n       <use x=\"211.230469\" xlink:href=\"#ArialMT-99\"/>\r\n       <use x=\"261.230469\" xlink:href=\"#ArialMT-101\"/>\r\n       <use x=\"316.845703\" xlink:href=\"#ArialMT-32\"/>\r\n       <use x=\"344.550781\" xlink:href=\"#ArialMT-65\"/>\r\n       <use x=\"411.25\" xlink:href=\"#ArialMT-109\"/>\r\n       <use x=\"494.550781\" xlink:href=\"#ArialMT-111\"/>\r\n       <use x=\"550.166016\" xlink:href=\"#ArialMT-117\"/>\r\n       <use x=\"605.78125\" xlink:href=\"#ArialMT-110\"/>\r\n       <use x=\"661.396484\" xlink:href=\"#ArialMT-116\"/>\r\n      </g>\r\n     </g>\r\n    </g>\r\n    <g id=\"ytick_3\">\r\n     <g id=\"line2d_6\"/>\r\n     <g id=\"text_6\">\r\n      <!-- Year -->\r\n      <g style=\"fill:#262626;\" transform=\"translate(61.664063 195.557812)scale(0.1 -0.1)\">\r\n       <use xlink:href=\"#ArialMT-89\"/>\r\n       <use x=\"66.558594\" xlink:href=\"#ArialMT-101\"/>\r\n       <use x=\"122.173828\" xlink:href=\"#ArialMT-97\"/>\r\n       <use x=\"177.789062\" xlink:href=\"#ArialMT-114\"/>\r\n      </g>\r\n     </g>\r\n    </g>\r\n   </g>\r\n   <g id=\"QuadMesh_1\">\r\n    <path clip-path=\"url(#p616865ea03)\" d=\"M 86.271875 10.778906 \r\nL 175.551875 10.778906 \r\nL 175.551875 83.258906 \r\nL 86.271875 83.258906 \r\nL 86.271875 10.778906 \r\n\" style=\"fill:#faebdd;\"/>\r\n    <path clip-path=\"url(#p616865ea03)\" d=\"M 175.551875 10.778906 \r\nL 264.831875 10.778906 \r\nL 264.831875 83.258906 \r\nL 175.551875 83.258906 \r\nL 175.551875 10.778906 \r\n\" style=\"fill:#f4845d;\"/>\r\n    <path clip-path=\"url(#p616865ea03)\" d=\"M 264.831875 10.778906 \r\nL 354.111875 10.778906 \r\nL 354.111875 83.258906 \r\nL 264.831875 83.258906 \r\nL 264.831875 10.778906 \r\n\" style=\"fill:#c51852;\"/>\r\n    <path clip-path=\"url(#p616865ea03)\" d=\"M 86.271875 83.258906 \r\nL 175.551875 83.258906 \r\nL 175.551875 155.738906 \r\nL 86.271875 155.738906 \r\nL 86.271875 83.258906 \r\n\" style=\"fill:#f4845d;\"/>\r\n    <path clip-path=\"url(#p616865ea03)\" d=\"M 175.551875 83.258906 \r\nL 264.831875 83.258906 \r\nL 264.831875 155.738906 \r\nL 175.551875 155.738906 \r\nL 175.551875 83.258906 \r\n\" style=\"fill:#faebdd;\"/>\r\n    <path clip-path=\"url(#p616865ea03)\" d=\"M 264.831875 83.258906 \r\nL 354.111875 83.258906 \r\nL 354.111875 155.738906 \r\nL 264.831875 155.738906 \r\nL 264.831875 83.258906 \r\n\" style=\"fill:#c51852;\"/>\r\n    <path clip-path=\"url(#p616865ea03)\" d=\"M 86.271875 155.738906 \r\nL 175.551875 155.738906 \r\nL 175.551875 228.218906 \r\nL 86.271875 228.218906 \r\nL 86.271875 155.738906 \r\n\" style=\"fill:#c51852;\"/>\r\n    <path clip-path=\"url(#p616865ea03)\" d=\"M 175.551875 155.738906 \r\nL 264.831875 155.738906 \r\nL 264.831875 228.218906 \r\nL 175.551875 228.218906 \r\nL 175.551875 155.738906 \r\n\" style=\"fill:#c51852;\"/>\r\n    <path clip-path=\"url(#p616865ea03)\" d=\"M 264.831875 155.738906 \r\nL 354.111875 155.738906 \r\nL 354.111875 228.218906 \r\nL 264.831875 228.218906 \r\nL 264.831875 155.738906 \r\n\" style=\"fill:#faebdd;\"/>\r\n   </g>\r\n  </g>\r\n  <g id=\"axes_2\">\r\n   <g id=\"patch_3\">\r\n    <path clip-path=\"url(#pbc63a81bee)\" d=\"M 370.851875 228.218906 \r\nL 370.851875 227.369531 \r\nL 370.851875 11.628281 \r\nL 370.851875 10.778906 \r\nL 381.723875 10.778906 \r\nL 381.723875 11.628281 \r\nL 381.723875 227.369531 \r\nL 381.723875 228.218906 \r\nz\r\n\" style=\"fill:#ffffff;stroke:#ffffff;stroke-linejoin:miter;stroke-width:0.01;\"/>\r\n   </g>\r\n   <g id=\"matplotlib.axis_3\"/>\r\n   <g id=\"matplotlib.axis_4\">\r\n    <g id=\"ytick_4\">\r\n     <g id=\"line2d_7\"/>\r\n     <g id=\"text_7\">\r\n      <!-- −1.00 -->\r\n      <defs>\r\n       <path d=\"M 52.828125 31.203125 \r\nL 5.5625 31.203125 \r\nL 5.5625 39.40625 \r\nL 52.828125 39.40625 \r\nz\r\n\" id=\"ArialMT-8722\"/>\r\n       <path d=\"M 37.25 0 \r\nL 28.46875 0 \r\nL 28.46875 56 \r\nQ 25.296875 52.984375 20.140625 49.953125 \r\nQ 14.984375 46.921875 10.890625 45.40625 \r\nL 10.890625 53.90625 \r\nQ 18.265625 57.375 23.78125 62.296875 \r\nQ 29.296875 67.234375 31.59375 71.875 \r\nL 37.25 71.875 \r\nz\r\n\" id=\"ArialMT-49\"/>\r\n       <path d=\"M 9.078125 0 \r\nL 9.078125 10.015625 \r\nL 19.09375 10.015625 \r\nL 19.09375 0 \r\nz\r\n\" id=\"ArialMT-46\"/>\r\n       <path d=\"M 4.15625 35.296875 \r\nQ 4.15625 48 6.765625 55.734375 \r\nQ 9.375 63.484375 14.515625 67.671875 \r\nQ 19.671875 71.875 27.484375 71.875 \r\nQ 33.25 71.875 37.59375 69.546875 \r\nQ 41.9375 67.234375 44.765625 62.859375 \r\nQ 47.609375 58.5 49.21875 52.21875 \r\nQ 50.828125 45.953125 50.828125 35.296875 \r\nQ 50.828125 22.703125 48.234375 14.96875 \r\nQ 45.65625 7.234375 40.5 3 \r\nQ 35.359375 -1.21875 27.484375 -1.21875 \r\nQ 17.140625 -1.21875 11.234375 6.203125 \r\nQ 4.15625 15.140625 4.15625 35.296875 \r\nz\r\nM 13.1875 35.296875 \r\nQ 13.1875 17.671875 17.3125 11.828125 \r\nQ 21.4375 6 27.484375 6 \r\nQ 33.546875 6 37.671875 11.859375 \r\nQ 41.796875 17.71875 41.796875 35.296875 \r\nQ 41.796875 52.984375 37.671875 58.78125 \r\nQ 33.546875 64.59375 27.390625 64.59375 \r\nQ 21.34375 64.59375 17.71875 59.46875 \r\nQ 13.1875 52.9375 13.1875 35.296875 \r\nz\r\n\" id=\"ArialMT-48\"/>\r\n      </defs>\r\n      <g style=\"fill:#262626;\" transform=\"translate(385.223875 231.797812)scale(0.1 -0.1)\">\r\n       <use xlink:href=\"#ArialMT-8722\"/>\r\n       <use x=\"58.398438\" xlink:href=\"#ArialMT-49\"/>\r\n       <use x=\"114.013672\" xlink:href=\"#ArialMT-46\"/>\r\n       <use x=\"141.796875\" xlink:href=\"#ArialMT-48\"/>\r\n       <use x=\"197.412109\" xlink:href=\"#ArialMT-48\"/>\r\n      </g>\r\n     </g>\r\n    </g>\r\n    <g id=\"ytick_5\">\r\n     <g id=\"line2d_8\"/>\r\n     <g id=\"text_8\">\r\n      <!-- −0.75 -->\r\n      <defs>\r\n       <path d=\"M 4.734375 62.203125 \r\nL 4.734375 70.65625 \r\nL 51.078125 70.65625 \r\nL 51.078125 63.8125 \r\nQ 44.234375 56.546875 37.515625 44.484375 \r\nQ 30.8125 32.421875 27.15625 19.671875 \r\nQ 24.515625 10.6875 23.78125 0 \r\nL 14.75 0 \r\nQ 14.890625 8.453125 18.0625 20.40625 \r\nQ 21.234375 32.375 27.171875 43.484375 \r\nQ 33.109375 54.59375 39.796875 62.203125 \r\nz\r\n\" id=\"ArialMT-55\"/>\r\n       <path d=\"M 4.15625 18.75 \r\nL 13.375 19.53125 \r\nQ 14.40625 12.796875 18.140625 9.390625 \r\nQ 21.875 6 27.15625 6 \r\nQ 33.5 6 37.890625 10.78125 \r\nQ 42.28125 15.578125 42.28125 23.484375 \r\nQ 42.28125 31 38.0625 35.34375 \r\nQ 33.84375 39.703125 27 39.703125 \r\nQ 22.75 39.703125 19.328125 37.765625 \r\nQ 15.921875 35.84375 13.96875 32.765625 \r\nL 5.71875 33.84375 \r\nL 12.640625 70.609375 \r\nL 48.25 70.609375 \r\nL 48.25 62.203125 \r\nL 19.671875 62.203125 \r\nL 15.828125 42.96875 \r\nQ 22.265625 47.46875 29.34375 47.46875 \r\nQ 38.71875 47.46875 45.15625 40.96875 \r\nQ 51.609375 34.46875 51.609375 24.265625 \r\nQ 51.609375 14.546875 45.953125 7.46875 \r\nQ 39.0625 -1.21875 27.15625 -1.21875 \r\nQ 17.390625 -1.21875 11.203125 4.25 \r\nQ 5.03125 9.71875 4.15625 18.75 \r\nz\r\n\" id=\"ArialMT-53\"/>\r\n      </defs>\r\n      <g style=\"fill:#262626;\" transform=\"translate(385.223875 204.617812)scale(0.1 -0.1)\">\r\n       <use xlink:href=\"#ArialMT-8722\"/>\r\n       <use x=\"58.398438\" xlink:href=\"#ArialMT-48\"/>\r\n       <use x=\"114.013672\" xlink:href=\"#ArialMT-46\"/>\r\n       <use x=\"141.796875\" xlink:href=\"#ArialMT-55\"/>\r\n       <use x=\"197.412109\" xlink:href=\"#ArialMT-53\"/>\r\n      </g>\r\n     </g>\r\n    </g>\r\n    <g id=\"ytick_6\">\r\n     <g id=\"line2d_9\"/>\r\n     <g id=\"text_9\">\r\n      <!-- −0.50 -->\r\n      <g style=\"fill:#262626;\" transform=\"translate(385.223875 177.437812)scale(0.1 -0.1)\">\r\n       <use xlink:href=\"#ArialMT-8722\"/>\r\n       <use x=\"58.398438\" xlink:href=\"#ArialMT-48\"/>\r\n       <use x=\"114.013672\" xlink:href=\"#ArialMT-46\"/>\r\n       <use x=\"141.796875\" xlink:href=\"#ArialMT-53\"/>\r\n       <use x=\"197.412109\" xlink:href=\"#ArialMT-48\"/>\r\n      </g>\r\n     </g>\r\n    </g>\r\n    <g id=\"ytick_7\">\r\n     <g id=\"line2d_10\"/>\r\n     <g id=\"text_10\">\r\n      <!-- −0.25 -->\r\n      <defs>\r\n       <path d=\"M 50.34375 8.453125 \r\nL 50.34375 0 \r\nL 3.03125 0 \r\nQ 2.9375 3.171875 4.046875 6.109375 \r\nQ 5.859375 10.9375 9.828125 15.625 \r\nQ 13.8125 20.3125 21.34375 26.46875 \r\nQ 33.015625 36.03125 37.109375 41.625 \r\nQ 41.21875 47.21875 41.21875 52.203125 \r\nQ 41.21875 57.421875 37.46875 61 \r\nQ 33.734375 64.59375 27.734375 64.59375 \r\nQ 21.390625 64.59375 17.578125 60.78125 \r\nQ 13.765625 56.984375 13.71875 50.25 \r\nL 4.6875 51.171875 \r\nQ 5.609375 61.28125 11.65625 66.578125 \r\nQ 17.71875 71.875 27.9375 71.875 \r\nQ 38.234375 71.875 44.234375 66.15625 \r\nQ 50.25 60.453125 50.25 52 \r\nQ 50.25 47.703125 48.484375 43.546875 \r\nQ 46.734375 39.40625 42.65625 34.8125 \r\nQ 38.578125 30.21875 29.109375 22.21875 \r\nQ 21.1875 15.578125 18.9375 13.203125 \r\nQ 16.703125 10.84375 15.234375 8.453125 \r\nz\r\n\" id=\"ArialMT-50\"/>\r\n      </defs>\r\n      <g style=\"fill:#262626;\" transform=\"translate(385.223875 150.257812)scale(0.1 -0.1)\">\r\n       <use xlink:href=\"#ArialMT-8722\"/>\r\n       <use x=\"58.398438\" xlink:href=\"#ArialMT-48\"/>\r\n       <use x=\"114.013672\" xlink:href=\"#ArialMT-46\"/>\r\n       <use x=\"141.796875\" xlink:href=\"#ArialMT-50\"/>\r\n       <use x=\"197.412109\" xlink:href=\"#ArialMT-53\"/>\r\n      </g>\r\n     </g>\r\n    </g>\r\n    <g id=\"ytick_8\">\r\n     <g id=\"line2d_11\"/>\r\n     <g id=\"text_11\">\r\n      <!-- 0.00 -->\r\n      <g style=\"fill:#262626;\" transform=\"translate(385.223875 123.077812)scale(0.1 -0.1)\">\r\n       <use xlink:href=\"#ArialMT-48\"/>\r\n       <use x=\"55.615234\" xlink:href=\"#ArialMT-46\"/>\r\n       <use x=\"83.398438\" xlink:href=\"#ArialMT-48\"/>\r\n       <use x=\"139.013672\" xlink:href=\"#ArialMT-48\"/>\r\n      </g>\r\n     </g>\r\n    </g>\r\n    <g id=\"ytick_9\">\r\n     <g id=\"line2d_12\"/>\r\n     <g id=\"text_12\">\r\n      <!-- 0.25 -->\r\n      <g style=\"fill:#262626;\" transform=\"translate(385.223875 95.897812)scale(0.1 -0.1)\">\r\n       <use xlink:href=\"#ArialMT-48\"/>\r\n       <use x=\"55.615234\" xlink:href=\"#ArialMT-46\"/>\r\n       <use x=\"83.398438\" xlink:href=\"#ArialMT-50\"/>\r\n       <use x=\"139.013672\" xlink:href=\"#ArialMT-53\"/>\r\n      </g>\r\n     </g>\r\n    </g>\r\n    <g id=\"ytick_10\">\r\n     <g id=\"line2d_13\"/>\r\n     <g id=\"text_13\">\r\n      <!-- 0.50 -->\r\n      <g style=\"fill:#262626;\" transform=\"translate(385.223875 68.717812)scale(0.1 -0.1)\">\r\n       <use xlink:href=\"#ArialMT-48\"/>\r\n       <use x=\"55.615234\" xlink:href=\"#ArialMT-46\"/>\r\n       <use x=\"83.398438\" xlink:href=\"#ArialMT-53\"/>\r\n       <use x=\"139.013672\" xlink:href=\"#ArialMT-48\"/>\r\n      </g>\r\n     </g>\r\n    </g>\r\n    <g id=\"ytick_11\">\r\n     <g id=\"line2d_14\"/>\r\n     <g id=\"text_14\">\r\n      <!-- 0.75 -->\r\n      <g style=\"fill:#262626;\" transform=\"translate(385.223875 41.537812)scale(0.1 -0.1)\">\r\n       <use xlink:href=\"#ArialMT-48\"/>\r\n       <use x=\"55.615234\" xlink:href=\"#ArialMT-46\"/>\r\n       <use x=\"83.398438\" xlink:href=\"#ArialMT-55\"/>\r\n       <use x=\"139.013672\" xlink:href=\"#ArialMT-53\"/>\r\n      </g>\r\n     </g>\r\n    </g>\r\n    <g id=\"ytick_12\">\r\n     <g id=\"line2d_15\"/>\r\n     <g id=\"text_15\">\r\n      <!-- 1.00 -->\r\n      <g style=\"fill:#262626;\" transform=\"translate(385.223875 14.357812)scale(0.1 -0.1)\">\r\n       <use xlink:href=\"#ArialMT-49\"/>\r\n       <use x=\"55.615234\" xlink:href=\"#ArialMT-46\"/>\r\n       <use x=\"83.398438\" xlink:href=\"#ArialMT-48\"/>\r\n       <use x=\"139.013672\" xlink:href=\"#ArialMT-48\"/>\r\n      </g>\r\n     </g>\r\n    </g>\r\n   </g>\r\n   <image height=\"217\" id=\"imagefc41d43f25\" transform=\"scale(1 -1)translate(0 -217)\" width=\"11\" x=\"371\" xlink:href=\"data:image/png;base64,\r\niVBORw0KGgoAAAANSUhEUgAAAAsAAADZCAYAAAD2WsoCAAAABHNCSVQICAgIfAhkiAAAAVdJREFUaIHV2sltxDAQRFFuk4Tzj9PjFPgOH6B1LhSqfzcXCZrn8/Mdl8+Zc95qVTxAvNeKnFdW4JIY5Ew0uhgd5z2l3WFTnpg6o9EN/xvOROOV4X+kwGtpOxsZDYxx/5SbjIhPNs9Go2t35twNf4cOaUCMEF2WmWg8kpli2OoWZyvw+vXg39IQsdDAAp+IgfuGxJDM/5JGNxvfe+twDa4sxh7ibJyrzMgZYhgNEkO/Q3QT9oKzRbxETDHQ+Vo7zl6/kXNYICxCy7w20MDMEIPQhTRONhuUOUO3ThVjdLPRieHec0YWA53lZg43DosxKIaIwxhwbKKzfLIgZxTL97qMxpDPhh2NeTY4h5mf4Gw0Xmm3ONMahFfelIZ0kGJsKjDjbM4VurFp+LMYXYHk3M3GIzSowG7BzjemLqTRnbC0MX4i51cWLHGWdtNfFq8USNee8ByMCvwDld0qI2rfrLkAAAAASUVORK5CYII=\" y=\"-11\"/>\r\n   <g id=\"patch_4\">\r\n    <path d=\"M 370.851875 228.218906 \r\nL 370.851875 227.369531 \r\nL 370.851875 11.628281 \r\nL 370.851875 10.778906 \r\nL 381.723875 10.778906 \r\nL 381.723875 11.628281 \r\nL 381.723875 227.369531 \r\nL 381.723875 228.218906 \r\nz\r\n\" style=\"fill:none;\"/>\r\n   </g>\r\n  </g>\r\n </g>\r\n <defs>\r\n  <clipPath id=\"p616865ea03\">\r\n   <rect height=\"217.44\" width=\"267.84\" x=\"86.271875\" y=\"10.778906\"/>\r\n  </clipPath>\r\n  <clipPath id=\"pbc63a81bee\">\r\n   <rect height=\"217.44\" width=\"10.872\" x=\"370.851875\" y=\"10.778906\"/>\r\n  </clipPath>\r\n </defs>\r\n</svg>\r\n",
      "image/png": "[encoded data removed]"
     },
     "metadata": {
      "needs_background": "light"
     }
    }
   ],
   "source": [
    "import seaborn as sns\n",
    "\n",
    "sns.heatmap(correlation, vmin=-1, vmax=1);"
   ]
  },
  {
   "cell_type": "code",
   "execution_count": 113,
   "metadata": {},
   "outputs": [],
   "source": [
    "mapbox_token = os.getenv(\"MAPBOX_API_KEY\")\n",
    "px.set_mapbox_access_token(mapbox_token) "
   ]
  },
  {
   "cell_type": "code",
   "execution_count": 114,
   "metadata": {},
   "outputs": [],
   "source": [
    "# Define Panel Visualization Functions\n",
    "def Housing_Units_Per_Year():\n",
    "    \"\"\"Housing Units Per Year.\"\"\"\n",
    "    grp_yearly_income = yearly_income.groupby('Year').sum()\n",
    "    grp_yearly_income['Invoice Amount'] = grp_yearly_income['Invoice Amount'] / 1000\n",
    "    Fig_Housing_Units = grp_yearly_income.hvplot(\n",
    "        y='Invoice Amount',\n",
    "        figsize=(20,15), \n",
    "        kind='bar', \n",
    "        subplots=True, \n",
    "        title=('Total Sales by Year from 2015 to 2020'), \n",
    "        ylabel='Yearly Income (Tounsands of Dollars)', \n",
    "        xlabel='Total Number of Years',\n",
    "        height=600,\n",
    "        grid=True,\n",
    "        width=1200).opts(yformatter='$%.0f', fontsize={'title': 25, 'labels': 20, 'xticks': 18, 'yticks': 20})\n",
    "    return Fig_Housing_Units\n",
    "\n",
    "def Average_Gross_Rent():\n",
    "    \"\"\"Average Gross Rent in San Francisco Per Year.\"\"\"\n",
    "    combined_income = grp_monthly_income_plt_3 * grp_monthly_income_plt\n",
    "    return combined_income\n",
    "\n",
    "def Average_Sales_Price():\n",
    "    \"\"\"Average Sales Price Per Year.\"\"\"\n",
    "    subscription_types = subscription_income.groupby(['Subscription']).sum()\n",
    "    subscription_type = subscription_types.sort_values(by=\"Invoice Amount\", ascending=False).head(10)\n",
    "    subscription_type = subscription_type.reset_index()\n",
    "    subscription_type['Invoice Amount'] = subscription_type['Invoice Amount'] / 1000\n",
    "    Mean_Price_per_SQFT_Plot = subscription_type.hvplot.bar(\n",
    "        x=\"Subscription\", \n",
    "        y=\"Invoice Amount\", \n",
    "        xlabel = \"Subscription Types\",\n",
    "        ylabel = \"Total Sales by Subscription (Tounsands of Dollars)\",\n",
    "        title=\"Total Income by Subscription Type from 2015 to 2020\", \n",
    "        figsize=(20,15), \n",
    "        subplots=True, \n",
    "        height=800,\n",
    "        grid=True,\n",
    "        width=1400).opts(yformatter='$%.0f', fontsize={'title': 25, 'labels': 20, 'xticks': 18, 'yticks': 20})\n",
    "\n",
    "    return Mean_Price_per_SQFT_Plot\n",
    "\n",
    "def Average_Price_by_Neighborhood():\n",
    "    \"\"\"Average Prices by Neighborhood.\"\"\"\n",
    "    Group_Customers = new_customers.groupby(['Customers']).sum()\n",
    "    TOP_10_Highest = Group_Customers.sort_values(by=\"Invoice Amount\", ascending=False).head(10)\n",
    "    TOP_10_Highest = TOP_10_Highest.reset_index()\n",
    "# Plotting the data from the top 10 Highest Customers\n",
    "    SFO_Grouped_Year_and_NBHD_Plot = TOP_10_Highest.hvplot.bar(\n",
    "    x=\"Customers\", \n",
    "    y=\"Invoice Amount\", \n",
    "    xlabel = \"Highest Paying Customers\",\n",
    "    ylabel = \"Total Sales\",\n",
    "    title=\"Top 10 Highest Paying Customers of All Time\", \n",
    "    figsize=(20,15), \n",
    "    subplots=True, \n",
    "    height=900,\n",
    "    grid=True,\n",
    "    rot=45,\n",
    "    width=1400).opts(yformatter='$%.0f', fontsize={'title': 25, 'labels': 20, 'xticks': 18, 'yticks': 20})\n",
    "    \n",
    "    return SFO_Grouped_Year_and_NBHD_Plot\n",
    "\n",
    "def TOP_Expensive_Neighborhoods():\n",
    "    \"\"\"Top 10 Most Expensive Neighborhoods.\"\"\"\n",
    "    Group_Customers_2 = new_customers.groupby(['Customers']).sum()\n",
    "    TOP_10_Lowest = Group_Customers_2.sort_values(by=\"Invoice Amount\", ascending=True).head(10)\n",
    "    TOP_10_Lowest = TOP_10_Lowest.reset_index()\n",
    "# Plotting the data from the top 10 Lowest Customers\n",
    "    TOP_10_Expensive_Plot = TOP_10_Lowest.hvplot.bar(\n",
    "    x=\"Customers\", \n",
    "    y=\"Invoice Amount\", \n",
    "    xlabel = \"Lowest Paying Customers\",\n",
    "    ylabel = \"Total Sales\",\n",
    "    title=\"Top 10 Lowest Paying Customers of All Time\", \n",
    "    figsize=(20,15), \n",
    "    subplots=True, \n",
    "    height=800,\n",
    "    grid=True,\n",
    "    rot=45,\n",
    "    width=1400).opts(yformatter='$%.0f', fontsize={'title': 25, 'labels': 20, 'xticks': 18, 'yticks': 20})\n",
    "\n",
    "    return TOP_10_Expensive_Plot\n",
    "\n",
    "def TOP_Paying_Customers_State():\n",
    "    # Highest Income by State\n",
    "    top10payingstates = customers_states.reset_index().groupby(\"State\").sum()[\"Invoice Amount\"].nlargest(10)\n",
    "    top10payingstates_plt = top10payingstates.hvplot.bar(\n",
    "    title=\"Top 10 Highest Paying States of All Time\", \n",
    "    xlabel=\"States\", \n",
    "    ylabel=\"Total Invoiced ($)\",\n",
    "    figsize=(20,15), \n",
    "    subplots=True, \n",
    "    height=800,\n",
    "    grid=True,\n",
    "    width=1400).opts(yformatter='$%.0f', fontsize={'title': 25, 'labels': 20, 'xticks': 25, 'yticks': 20})\n",
    "    \n",
    "    return top10payingstates_plt\n",
    "\n",
    "def TOP_Lowest_Paying_State():\n",
    "    # Lowest Income by State\n",
    "    top10lowpayingstates = customers_states.reset_index().groupby(\"State\").sum()[\"Invoice Amount\"].nsmallest(10)\n",
    "    top10lowpayingstates_plt = top10lowpayingstates.hvplot.bar(\n",
    "    title=\"Top 10 Lowest Paying States of All Time\", \n",
    "    xlabel=\"States\", \n",
    "    ylabel=\"Total Invoiced ($)\",\n",
    "    figsize=(20,15), \n",
    "    subplots=True, \n",
    "    height=800,\n",
    "    grid=True,\n",
    "    width=1400).opts(yformatter='$%.0f', fontsize={'title': 25, 'labels': 20, 'xticks': 25, 'yticks': 20})\n",
    "    \n",
    "    return top10lowpayingstates_plt\n",
    "\n",
    "def Parallel_Coordinates():\n",
    "    \"\"\"Parallel Coordinates Plot.\"\"\"\n",
    "    Parallel = px.parallel_coordinates(parallel_look, color='Invoice Amount', title=\"Parallel View of Invoices along with Number of Users from 2015 to 2020\")\n",
    "    \n",
    "    return Parallel\n",
    "\n",
    "def Parallel_Categories():\n",
    "    \"\"\"Parallel Categories Plot.\"\"\"\n",
    "    Parallel_Category = px.parallel_categories(\n",
    "    parallel_look,\n",
    "    dimensions=[\"Customers Status\", \"Year\", \"Invoice Amount\", \"Number of Users\"],\n",
    "    title=\"Customers Status from 2015 to 2020 based on Most Loyal (Active), New Customers, and Lost Customers\",\n",
    "    color=\"Year\",\n",
    "    height=1400,\n",
    "    color_continuous_scale=px.colors.sequential.Inferno,\n",
    ")\n",
    "    return Parallel_Category\n",
    "\n",
    "def Dropdown_Plots():\n",
    "    # Group by year and neighborhood and then create a new dataframe of the mean values\n",
    "    SFO_Grouped_Year_and_NBHD = parallel_look_two.groupby([\"Year\", \"State\"])\n",
    "# Use hvplot to create an interactive line chart of the average price per sq ft.\n",
    "    AVG_Price_Mean = SFO_Grouped_Year_and_NBHD.mean()\n",
    "    SFO_Grouped_Year_and_NBHD = AVG_Price_Mean.hvplot.bar(\n",
    "    x='Year',\n",
    "    y='Invoice Amount',\n",
    "    xlabel='Year',\n",
    "    ylabel='Total Sales',\n",
    "    title='Interactive Line Chart of the Average Income by State',\n",
    "    groupby='State',\n",
    "    figsize=(20,15), \n",
    "    height=500,\n",
    "    width=1000).opts(yformatter='$%.0f', fontsize={'title': 25, 'labels': 20, 'xticks': 20, 'yticks': 20})\n",
    "\n",
    "    return SFO_Grouped_Year_and_NBHD"
   ]
  },
  {
   "cell_type": "code",
   "execution_count": 115,
   "metadata": {},
   "outputs": [
    {
     "output_type": "display_data",
     "data": {
      "application/vnd.plotly.v1+json": {
       "config": {
        "plotlyServerURL": "https://plot.ly"
       },
       "data": [
        {
         "alignmentgroup": "True",
         "hovertemplate": "Subscription=1 Year<br>Year=%{x}<br>Invoice Amount=%{y}<extra></extra>",
         "legendgroup": "1 Year",
         "marker": {
          "color": "#636efa"
         },
         "name": "1 Year",
         "offsetgroup": "1 Year",
         "orientation": "v",
         "showlegend": true,
         "textposition": "auto",
         "type": "bar",
         "x": [
          2015,
          2016,
          2017,
          2018,
          2019,
          2020
         ],
         "xaxis": "x",
         "y": [
          20435,
          3217.0454545454545,
          3647.6190476190477,
          3276.730769230769,
          3066.206896551724,
          3164.2356595744686
         ],
         "yaxis": "y"
        },
        {
         "alignmentgroup": "True",
         "hovertemplate": "Subscription=3 Years<br>Year=%{x}<br>Invoice Amount=%{y}<extra></extra>",
         "legendgroup": "3 Years",
         "marker": {
          "color": "#EF553B"
         },
         "name": "3 Years",
         "offsetgroup": "3 Years",
         "orientation": "v",
         "showlegend": true,
         "textposition": "auto",
         "type": "bar",
         "x": [
          2016,
          2017,
          2018,
          2019,
          2020
         ],
         "xaxis": "x",
         "y": [
          9954.545454545454,
          9768.384615384615,
          6652.727272727273,
          4498.928571428572,
          5429
         ],
         "yaxis": "y"
        },
        {
         "alignmentgroup": "True",
         "hovertemplate": "Subscription=2 Years<br>Year=%{x}<br>Invoice Amount=%{y}<extra></extra>",
         "legendgroup": "2 Years",
         "marker": {
          "color": "#00cc96"
         },
         "name": "2 Years",
         "offsetgroup": "2 Years",
         "orientation": "v",
         "showlegend": true,
         "textposition": "auto",
         "type": "bar",
         "x": [
          2017,
          2019
         ],
         "xaxis": "x",
         "y": [
          6750,
          16000
         ],
         "yaxis": "y"
        },
        {
         "alignmentgroup": "True",
         "hovertemplate": "Subscription=6 Months<br>Year=%{x}<br>Invoice Amount=%{y}<extra></extra>",
         "legendgroup": "6 Months",
         "marker": {
          "color": "#ab63fa"
         },
         "name": "6 Months",
         "offsetgroup": "6 Months",
         "orientation": "v",
         "showlegend": true,
         "textposition": "auto",
         "type": "bar",
         "x": [
          2019,
          2020
         ],
         "xaxis": "x",
         "y": [
          1250,
          1623.767857142857
         ],
         "yaxis": "y"
        },
        {
         "alignmentgroup": "True",
         "hovertemplate": "Subscription=3 Months<br>Year=%{x}<br>Invoice Amount=%{y}<extra></extra>",
         "legendgroup": "3 Months",
         "marker": {
          "color": "#FFA15A"
         },
         "name": "3 Months",
         "offsetgroup": "3 Months",
         "orientation": "v",
         "showlegend": true,
         "textposition": "auto",
         "type": "bar",
         "x": [
          2020
         ],
         "xaxis": "x",
         "y": [
          1061.5784873949578
         ],
         "yaxis": "y"
        },
        {
         "alignmentgroup": "True",
         "hovertemplate": "Subscription=30 Days<br>Year=%{x}<br>Invoice Amount=%{y}<extra></extra>",
         "legendgroup": "30 Days",
         "marker": {
          "color": "#19d3f3"
         },
         "name": "30 Days",
         "offsetgroup": "30 Days",
         "orientation": "v",
         "showlegend": true,
         "textposition": "auto",
         "type": "bar",
         "x": [
          2020
         ],
         "xaxis": "x",
         "y": [
          200
         ],
         "yaxis": "y"
        }
       ],
       "layout": {
        "barmode": "group",
        "height": 600,
        "legend": {
         "title": {
          "text": "Subscription"
         },
         "tracegroupgap": 0
        },
        "template": {
         "data": {
          "bar": [
           {
            "error_x": {
             "color": "#2a3f5f"
            },
            "error_y": {
             "color": "#2a3f5f"
            },
            "marker": {
             "line": {
              "color": "#E5ECF6",
              "width": 0.5
             }
            },
            "type": "bar"
           }
          ],
          "barpolar": [
           {
            "marker": {
             "line": {
              "color": "#E5ECF6",
              "width": 0.5
             }
            },
            "type": "barpolar"
           }
          ],
          "carpet": [
           {
            "aaxis": {
             "endlinecolor": "#2a3f5f",
             "gridcolor": "white",
             "linecolor": "white",
             "minorgridcolor": "white",
             "startlinecolor": "#2a3f5f"
            },
            "baxis": {
             "endlinecolor": "#2a3f5f",
             "gridcolor": "white",
             "linecolor": "white",
             "minorgridcolor": "white",
             "startlinecolor": "#2a3f5f"
            },
            "type": "carpet"
           }
          ],
          "choropleth": [
           {
            "colorbar": {
             "outlinewidth": 0,
             "ticks": ""
            },
            "type": "choropleth"
           }
          ],
          "contour": [
           {
            "colorbar": {
             "outlinewidth": 0,
             "ticks": ""
            },
            "colorscale": [
             [
              0,
              "#0d0887"
             ],
             [
              0.1111111111111111,
              "#46039f"
             ],
             [
              0.2222222222222222,
              "#7201a8"
             ],
             [
              0.3333333333333333,
              "#9c179e"
             ],
             [
              0.4444444444444444,
              "#bd3786"
             ],
             [
              0.5555555555555556,
              "#d8576b"
             ],
             [
              0.6666666666666666,
              "#ed7953"
             ],
             [
              0.7777777777777778,
              "#fb9f3a"
             ],
             [
              0.8888888888888888,
              "#fdca26"
             ],
             [
              1,
              "#f0f921"
             ]
            ],
            "type": "contour"
           }
          ],
          "contourcarpet": [
           {
            "colorbar": {
             "outlinewidth": 0,
             "ticks": ""
            },
            "type": "contourcarpet"
           }
          ],
          "heatmap": [
           {
            "colorbar": {
             "outlinewidth": 0,
             "ticks": ""
            },
            "colorscale": [
             [
              0,
              "#0d0887"
             ],
             [
              0.1111111111111111,
              "#46039f"
             ],
             [
              0.2222222222222222,
              "#7201a8"
             ],
             [
              0.3333333333333333,
              "#9c179e"
             ],
             [
              0.4444444444444444,
              "#bd3786"
             ],
             [
              0.5555555555555556,
              "#d8576b"
             ],
             [
              0.6666666666666666,
              "#ed7953"
             ],
             [
              0.7777777777777778,
              "#fb9f3a"
             ],
             [
              0.8888888888888888,
              "#fdca26"
             ],
             [
              1,
              "#f0f921"
             ]
            ],
            "type": "heatmap"
           }
          ],
          "heatmapgl": [
           {
            "colorbar": {
             "outlinewidth": 0,
             "ticks": ""
            },
            "colorscale": [
             [
              0,
              "#0d0887"
             ],
             [
              0.1111111111111111,
              "#46039f"
             ],
             [
              0.2222222222222222,
              "#7201a8"
             ],
             [
              0.3333333333333333,
              "#9c179e"
             ],
             [
              0.4444444444444444,
              "#bd3786"
             ],
             [
              0.5555555555555556,
              "#d8576b"
             ],
             [
              0.6666666666666666,
              "#ed7953"
             ],
             [
              0.7777777777777778,
              "#fb9f3a"
             ],
             [
              0.8888888888888888,
              "#fdca26"
             ],
             [
              1,
              "#f0f921"
             ]
            ],
            "type": "heatmapgl"
           }
          ],
          "histogram": [
           {
            "marker": {
             "colorbar": {
              "outlinewidth": 0,
              "ticks": ""
             }
            },
            "type": "histogram"
           }
          ],
          "histogram2d": [
           {
            "colorbar": {
             "outlinewidth": 0,
             "ticks": ""
            },
            "colorscale": [
             [
              0,
              "#0d0887"
             ],
             [
              0.1111111111111111,
              "#46039f"
             ],
             [
              0.2222222222222222,
              "#7201a8"
             ],
             [
              0.3333333333333333,
              "#9c179e"
             ],
             [
              0.4444444444444444,
              "#bd3786"
             ],
             [
              0.5555555555555556,
              "#d8576b"
             ],
             [
              0.6666666666666666,
              "#ed7953"
             ],
             [
              0.7777777777777778,
              "#fb9f3a"
             ],
             [
              0.8888888888888888,
              "#fdca26"
             ],
             [
              1,
              "#f0f921"
             ]
            ],
            "type": "histogram2d"
           }
          ],
          "histogram2dcontour": [
           {
            "colorbar": {
             "outlinewidth": 0,
             "ticks": ""
            },
            "colorscale": [
             [
              0,
              "#0d0887"
             ],
             [
              0.1111111111111111,
              "#46039f"
             ],
             [
              0.2222222222222222,
              "#7201a8"
             ],
             [
              0.3333333333333333,
              "#9c179e"
             ],
             [
              0.4444444444444444,
              "#bd3786"
             ],
             [
              0.5555555555555556,
              "#d8576b"
             ],
             [
              0.6666666666666666,
              "#ed7953"
             ],
             [
              0.7777777777777778,
              "#fb9f3a"
             ],
             [
              0.8888888888888888,
              "#fdca26"
             ],
             [
              1,
              "#f0f921"
             ]
            ],
            "type": "histogram2dcontour"
           }
          ],
          "mesh3d": [
           {
            "colorbar": {
             "outlinewidth": 0,
             "ticks": ""
            },
            "type": "mesh3d"
           }
          ],
          "parcoords": [
           {
            "line": {
             "colorbar": {
              "outlinewidth": 0,
              "ticks": ""
             }
            },
            "type": "parcoords"
           }
          ],
          "pie": [
           {
            "automargin": true,
            "type": "pie"
           }
          ],
          "scatter": [
           {
            "marker": {
             "colorbar": {
              "outlinewidth": 0,
              "ticks": ""
             }
            },
            "type": "scatter"
           }
          ],
          "scatter3d": [
           {
            "line": {
             "colorbar": {
              "outlinewidth": 0,
              "ticks": ""
             }
            },
            "marker": {
             "colorbar": {
              "outlinewidth": 0,
              "ticks": ""
             }
            },
            "type": "scatter3d"
           }
          ],
          "scattercarpet": [
           {
            "marker": {
             "colorbar": {
              "outlinewidth": 0,
              "ticks": ""
             }
            },
            "type": "scattercarpet"
           }
          ],
          "scattergeo": [
           {
            "marker": {
             "colorbar": {
              "outlinewidth": 0,
              "ticks": ""
             }
            },
            "type": "scattergeo"
           }
          ],
          "scattergl": [
           {
            "marker": {
             "colorbar": {
              "outlinewidth": 0,
              "ticks": ""
             }
            },
            "type": "scattergl"
           }
          ],
          "scattermapbox": [
           {
            "marker": {
             "colorbar": {
              "outlinewidth": 0,
              "ticks": ""
             }
            },
            "type": "scattermapbox"
           }
          ],
          "scatterpolar": [
           {
            "marker": {
             "colorbar": {
              "outlinewidth": 0,
              "ticks": ""
             }
            },
            "type": "scatterpolar"
           }
          ],
          "scatterpolargl": [
           {
            "marker": {
             "colorbar": {
              "outlinewidth": 0,
              "ticks": ""
             }
            },
            "type": "scatterpolargl"
           }
          ],
          "scatterternary": [
           {
            "marker": {
             "colorbar": {
              "outlinewidth": 0,
              "ticks": ""
             }
            },
            "type": "scatterternary"
           }
          ],
          "surface": [
           {
            "colorbar": {
             "outlinewidth": 0,
             "ticks": ""
            },
            "colorscale": [
             [
              0,
              "#0d0887"
             ],
             [
              0.1111111111111111,
              "#46039f"
             ],
             [
              0.2222222222222222,
              "#7201a8"
             ],
             [
              0.3333333333333333,
              "#9c179e"
             ],
             [
              0.4444444444444444,
              "#bd3786"
             ],
             [
              0.5555555555555556,
              "#d8576b"
             ],
             [
              0.6666666666666666,
              "#ed7953"
             ],
             [
              0.7777777777777778,
              "#fb9f3a"
             ],
             [
              0.8888888888888888,
              "#fdca26"
             ],
             [
              1,
              "#f0f921"
             ]
            ],
            "type": "surface"
           }
          ],
          "table": [
           {
            "cells": {
             "fill": {
              "color": "#EBF0F8"
             },
             "line": {
              "color": "white"
             }
            },
            "header": {
             "fill": {
              "color": "#C8D4E3"
             },
             "line": {
              "color": "white"
             }
            },
            "type": "table"
           }
          ]
         },
         "layout": {
          "annotationdefaults": {
           "arrowcolor": "#2a3f5f",
           "arrowhead": 0,
           "arrowwidth": 1
          },
          "coloraxis": {
           "colorbar": {
            "outlinewidth": 0,
            "ticks": ""
           }
          },
          "colorscale": {
           "diverging": [
            [
             0,
             "#8e0152"
            ],
            [
             0.1,
             "#c51b7d"
            ],
            [
             0.2,
             "#de77ae"
            ],
            [
             0.3,
             "#f1b6da"
            ],
            [
             0.4,
             "#fde0ef"
            ],
            [
             0.5,
             "#f7f7f7"
            ],
            [
             0.6,
             "#e6f5d0"
            ],
            [
             0.7,
             "#b8e186"
            ],
            [
             0.8,
             "#7fbc41"
            ],
            [
             0.9,
             "#4d9221"
            ],
            [
             1,
             "#276419"
            ]
           ],
           "sequential": [
            [
             0,
             "#0d0887"
            ],
            [
             0.1111111111111111,
             "#46039f"
            ],
            [
             0.2222222222222222,
             "#7201a8"
            ],
            [
             0.3333333333333333,
             "#9c179e"
            ],
            [
             0.4444444444444444,
             "#bd3786"
            ],
            [
             0.5555555555555556,
             "#d8576b"
            ],
            [
             0.6666666666666666,
             "#ed7953"
            ],
            [
             0.7777777777777778,
             "#fb9f3a"
            ],
            [
             0.8888888888888888,
             "#fdca26"
            ],
            [
             1,
             "#f0f921"
            ]
           ],
           "sequentialminus": [
            [
             0,
             "#0d0887"
            ],
            [
             0.1111111111111111,
             "#46039f"
            ],
            [
             0.2222222222222222,
             "#7201a8"
            ],
            [
             0.3333333333333333,
             "#9c179e"
            ],
            [
             0.4444444444444444,
             "#bd3786"
            ],
            [
             0.5555555555555556,
             "#d8576b"
            ],
            [
             0.6666666666666666,
             "#ed7953"
            ],
            [
             0.7777777777777778,
             "#fb9f3a"
            ],
            [
             0.8888888888888888,
             "#fdca26"
            ],
            [
             1,
             "#f0f921"
            ]
           ]
          },
          "colorway": [
           "#636efa",
           "#EF553B",
           "#00cc96",
           "#ab63fa",
           "#FFA15A",
           "#19d3f3",
           "#FF6692",
           "#B6E880",
           "#FF97FF",
           "#FECB52"
          ],
          "font": {
           "color": "#2a3f5f"
          },
          "geo": {
           "bgcolor": "white",
           "lakecolor": "white",
           "landcolor": "#E5ECF6",
           "showlakes": true,
           "showland": true,
           "subunitcolor": "white"
          },
          "hoverlabel": {
           "align": "left"
          },
          "hovermode": "closest",
          "mapbox": {
           "style": "light"
          },
          "paper_bgcolor": "white",
          "plot_bgcolor": "#E5ECF6",
          "polar": {
           "angularaxis": {
            "gridcolor": "white",
            "linecolor": "white",
            "ticks": ""
           },
           "bgcolor": "#E5ECF6",
           "radialaxis": {
            "gridcolor": "white",
            "linecolor": "white",
            "ticks": ""
           }
          },
          "scene": {
           "xaxis": {
            "backgroundcolor": "#E5ECF6",
            "gridcolor": "white",
            "gridwidth": 2,
            "linecolor": "white",
            "showbackground": true,
            "ticks": "",
            "zerolinecolor": "white"
           },
           "yaxis": {
            "backgroundcolor": "#E5ECF6",
            "gridcolor": "white",
            "gridwidth": 2,
            "linecolor": "white",
            "showbackground": true,
            "ticks": "",
            "zerolinecolor": "white"
           },
           "zaxis": {
            "backgroundcolor": "#E5ECF6",
            "gridcolor": "white",
            "gridwidth": 2,
            "linecolor": "white",
            "showbackground": true,
            "ticks": "",
            "zerolinecolor": "white"
           }
          },
          "shapedefaults": {
           "line": {
            "color": "#2a3f5f"
           }
          },
          "ternary": {
           "aaxis": {
            "gridcolor": "white",
            "linecolor": "white",
            "ticks": ""
           },
           "baxis": {
            "gridcolor": "white",
            "linecolor": "white",
            "ticks": ""
           },
           "bgcolor": "#E5ECF6",
           "caxis": {
            "gridcolor": "white",
            "linecolor": "white",
            "ticks": ""
           }
          },
          "title": {
           "x": 0.05
          },
          "xaxis": {
           "automargin": true,
           "gridcolor": "white",
           "linecolor": "white",
           "ticks": "",
           "title": {
            "standoff": 15
           },
           "zerolinecolor": "white",
           "zerolinewidth": 2
          },
          "yaxis": {
           "automargin": true,
           "gridcolor": "white",
           "linecolor": "white",
           "ticks": "",
           "title": {
            "standoff": 15
           },
           "zerolinecolor": "white",
           "zerolinewidth": 2
          }
         }
        },
        "title": {
         "text": "Avgerage of Sales and User Accounts: 2015 - 2020"
        },
        "width": 1000,
        "xaxis": {
         "anchor": "y",
         "domain": [
          0,
          1
         ],
         "title": {
          "text": "Number of Year"
         }
        },
        "yaxis": {
         "anchor": "x",
         "domain": [
          0,
          1
         ],
         "title": {
          "text": "Sale Amount over Number of Users"
         }
        }
       }
      }
     },
     "metadata": {}
    },
    {
     "output_type": "display_data",
     "data": {
      "application/vnd.plotly.v1+json": {
       "config": {
        "plotlyServerURL": "https://plot.ly"
       },
       "data": [
        {
         "alignmentgroup": "True",
         "hovertemplate": "Subscription=1 Year<br>Year=%{x}<br>Invoice Amount=%{y}<extra></extra>",
         "legendgroup": "1 Year",
         "marker": {
          "color": "#636efa"
         },
         "name": "1 Year",
         "offsetgroup": "1 Year",
         "orientation": "v",
         "showlegend": true,
         "textposition": "auto",
         "type": "bar",
         "x": [
          2015,
          2016,
          2017,
          2018,
          2019,
          2020
         ],
         "xaxis": "x",
         "y": [
          204350,
          141550,
          153200,
          170390,
          177840,
          743595.3800000001
         ],
         "yaxis": "y"
        },
        {
         "alignmentgroup": "True",
         "hovertemplate": "Subscription=3 Years<br>Year=%{x}<br>Invoice Amount=%{y}<extra></extra>",
         "legendgroup": "3 Years",
         "marker": {
          "color": "#EF553B"
         },
         "name": "3 Years",
         "offsetgroup": "3 Years",
         "orientation": "v",
         "showlegend": true,
         "textposition": "auto",
         "type": "bar",
         "x": [
          2016,
          2017,
          2018,
          2019,
          2020
         ],
         "xaxis": "x",
         "y": [
          109500,
          126989,
          73180,
          62985,
          152012
         ],
         "yaxis": "y"
        },
        {
         "alignmentgroup": "True",
         "hovertemplate": "Subscription=2 Years<br>Year=%{x}<br>Invoice Amount=%{y}<extra></extra>",
         "legendgroup": "2 Years",
         "marker": {
          "color": "#00cc96"
         },
         "name": "2 Years",
         "offsetgroup": "2 Years",
         "orientation": "v",
         "showlegend": true,
         "textposition": "auto",
         "type": "bar",
         "x": [
          2017,
          2019
         ],
         "xaxis": "x",
         "y": [
          13500,
          16000
         ],
         "yaxis": "y"
        },
        {
         "alignmentgroup": "True",
         "hovertemplate": "Subscription=6 Months<br>Year=%{x}<br>Invoice Amount=%{y}<extra></extra>",
         "legendgroup": "6 Months",
         "marker": {
          "color": "#ab63fa"
         },
         "name": "6 Months",
         "offsetgroup": "6 Months",
         "orientation": "v",
         "showlegend": true,
         "textposition": "auto",
         "type": "bar",
         "x": [
          2019,
          2020
         ],
         "xaxis": "x",
         "y": [
          1250,
          90931
         ],
         "yaxis": "y"
        },
        {
         "alignmentgroup": "True",
         "hovertemplate": "Subscription=3 Months<br>Year=%{x}<br>Invoice Amount=%{y}<extra></extra>",
         "legendgroup": "3 Months",
         "marker": {
          "color": "#FFA15A"
         },
         "name": "3 Months",
         "offsetgroup": "3 Months",
         "orientation": "v",
         "showlegend": true,
         "textposition": "auto",
         "type": "bar",
         "x": [
          2020
         ],
         "xaxis": "x",
         "y": [
          126327.84
         ],
         "yaxis": "y"
        },
        {
         "alignmentgroup": "True",
         "hovertemplate": "Subscription=30 Days<br>Year=%{x}<br>Invoice Amount=%{y}<extra></extra>",
         "legendgroup": "30 Days",
         "marker": {
          "color": "#19d3f3"
         },
         "name": "30 Days",
         "offsetgroup": "30 Days",
         "orientation": "v",
         "showlegend": true,
         "textposition": "auto",
         "type": "bar",
         "x": [
          2020
         ],
         "xaxis": "x",
         "y": [
          200
         ],
         "yaxis": "y"
        }
       ],
       "layout": {
        "barmode": "group",
        "height": 600,
        "legend": {
         "title": {
          "text": "Subscription"
         },
         "tracegroupgap": 0
        },
        "template": {
         "data": {
          "bar": [
           {
            "error_x": {
             "color": "#2a3f5f"
            },
            "error_y": {
             "color": "#2a3f5f"
            },
            "marker": {
             "line": {
              "color": "#E5ECF6",
              "width": 0.5
             }
            },
            "type": "bar"
           }
          ],
          "barpolar": [
           {
            "marker": {
             "line": {
              "color": "#E5ECF6",
              "width": 0.5
             }
            },
            "type": "barpolar"
           }
          ],
          "carpet": [
           {
            "aaxis": {
             "endlinecolor": "#2a3f5f",
             "gridcolor": "white",
             "linecolor": "white",
             "minorgridcolor": "white",
             "startlinecolor": "#2a3f5f"
            },
            "baxis": {
             "endlinecolor": "#2a3f5f",
             "gridcolor": "white",
             "linecolor": "white",
             "minorgridcolor": "white",
             "startlinecolor": "#2a3f5f"
            },
            "type": "carpet"
           }
          ],
          "choropleth": [
           {
            "colorbar": {
             "outlinewidth": 0,
             "ticks": ""
            },
            "type": "choropleth"
           }
          ],
          "contour": [
           {
            "colorbar": {
             "outlinewidth": 0,
             "ticks": ""
            },
            "colorscale": [
             [
              0,
              "#0d0887"
             ],
             [
              0.1111111111111111,
              "#46039f"
             ],
             [
              0.2222222222222222,
              "#7201a8"
             ],
             [
              0.3333333333333333,
              "#9c179e"
             ],
             [
              0.4444444444444444,
              "#bd3786"
             ],
             [
              0.5555555555555556,
              "#d8576b"
             ],
             [
              0.6666666666666666,
              "#ed7953"
             ],
             [
              0.7777777777777778,
              "#fb9f3a"
             ],
             [
              0.8888888888888888,
              "#fdca26"
             ],
             [
              1,
              "#f0f921"
             ]
            ],
            "type": "contour"
           }
          ],
          "contourcarpet": [
           {
            "colorbar": {
             "outlinewidth": 0,
             "ticks": ""
            },
            "type": "contourcarpet"
           }
          ],
          "heatmap": [
           {
            "colorbar": {
             "outlinewidth": 0,
             "ticks": ""
            },
            "colorscale": [
             [
              0,
              "#0d0887"
             ],
             [
              0.1111111111111111,
              "#46039f"
             ],
             [
              0.2222222222222222,
              "#7201a8"
             ],
             [
              0.3333333333333333,
              "#9c179e"
             ],
             [
              0.4444444444444444,
              "#bd3786"
             ],
             [
              0.5555555555555556,
              "#d8576b"
             ],
             [
              0.6666666666666666,
              "#ed7953"
             ],
             [
              0.7777777777777778,
              "#fb9f3a"
             ],
             [
              0.8888888888888888,
              "#fdca26"
             ],
             [
              1,
              "#f0f921"
             ]
            ],
            "type": "heatmap"
           }
          ],
          "heatmapgl": [
           {
            "colorbar": {
             "outlinewidth": 0,
             "ticks": ""
            },
            "colorscale": [
             [
              0,
              "#0d0887"
             ],
             [
              0.1111111111111111,
              "#46039f"
             ],
             [
              0.2222222222222222,
              "#7201a8"
             ],
             [
              0.3333333333333333,
              "#9c179e"
             ],
             [
              0.4444444444444444,
              "#bd3786"
             ],
             [
              0.5555555555555556,
              "#d8576b"
             ],
             [
              0.6666666666666666,
              "#ed7953"
             ],
             [
              0.7777777777777778,
              "#fb9f3a"
             ],
             [
              0.8888888888888888,
              "#fdca26"
             ],
             [
              1,
              "#f0f921"
             ]
            ],
            "type": "heatmapgl"
           }
          ],
          "histogram": [
           {
            "marker": {
             "colorbar": {
              "outlinewidth": 0,
              "ticks": ""
             }
            },
            "type": "histogram"
           }
          ],
          "histogram2d": [
           {
            "colorbar": {
             "outlinewidth": 0,
             "ticks": ""
            },
            "colorscale": [
             [
              0,
              "#0d0887"
             ],
             [
              0.1111111111111111,
              "#46039f"
             ],
             [
              0.2222222222222222,
              "#7201a8"
             ],
             [
              0.3333333333333333,
              "#9c179e"
             ],
             [
              0.4444444444444444,
              "#bd3786"
             ],
             [
              0.5555555555555556,
              "#d8576b"
             ],
             [
              0.6666666666666666,
              "#ed7953"
             ],
             [
              0.7777777777777778,
              "#fb9f3a"
             ],
             [
              0.8888888888888888,
              "#fdca26"
             ],
             [
              1,
              "#f0f921"
             ]
            ],
            "type": "histogram2d"
           }
          ],
          "histogram2dcontour": [
           {
            "colorbar": {
             "outlinewidth": 0,
             "ticks": ""
            },
            "colorscale": [
             [
              0,
              "#0d0887"
             ],
             [
              0.1111111111111111,
              "#46039f"
             ],
             [
              0.2222222222222222,
              "#7201a8"
             ],
             [
              0.3333333333333333,
              "#9c179e"
             ],
             [
              0.4444444444444444,
              "#bd3786"
             ],
             [
              0.5555555555555556,
              "#d8576b"
             ],
             [
              0.6666666666666666,
              "#ed7953"
             ],
             [
              0.7777777777777778,
              "#fb9f3a"
             ],
             [
              0.8888888888888888,
              "#fdca26"
             ],
             [
              1,
              "#f0f921"
             ]
            ],
            "type": "histogram2dcontour"
           }
          ],
          "mesh3d": [
           {
            "colorbar": {
             "outlinewidth": 0,
             "ticks": ""
            },
            "type": "mesh3d"
           }
          ],
          "parcoords": [
           {
            "line": {
             "colorbar": {
              "outlinewidth": 0,
              "ticks": ""
             }
            },
            "type": "parcoords"
           }
          ],
          "pie": [
           {
            "automargin": true,
            "type": "pie"
           }
          ],
          "scatter": [
           {
            "marker": {
             "colorbar": {
              "outlinewidth": 0,
              "ticks": ""
             }
            },
            "type": "scatter"
           }
          ],
          "scatter3d": [
           {
            "line": {
             "colorbar": {
              "outlinewidth": 0,
              "ticks": ""
             }
            },
            "marker": {
             "colorbar": {
              "outlinewidth": 0,
              "ticks": ""
             }
            },
            "type": "scatter3d"
           }
          ],
          "scattercarpet": [
           {
            "marker": {
             "colorbar": {
              "outlinewidth": 0,
              "ticks": ""
             }
            },
            "type": "scattercarpet"
           }
          ],
          "scattergeo": [
           {
            "marker": {
             "colorbar": {
              "outlinewidth": 0,
              "ticks": ""
             }
            },
            "type": "scattergeo"
           }
          ],
          "scattergl": [
           {
            "marker": {
             "colorbar": {
              "outlinewidth": 0,
              "ticks": ""
             }
            },
            "type": "scattergl"
           }
          ],
          "scattermapbox": [
           {
            "marker": {
             "colorbar": {
              "outlinewidth": 0,
              "ticks": ""
             }
            },
            "type": "scattermapbox"
           }
          ],
          "scatterpolar": [
           {
            "marker": {
             "colorbar": {
              "outlinewidth": 0,
              "ticks": ""
             }
            },
            "type": "scatterpolar"
           }
          ],
          "scatterpolargl": [
           {
            "marker": {
             "colorbar": {
              "outlinewidth": 0,
              "ticks": ""
             }
            },
            "type": "scatterpolargl"
           }
          ],
          "scatterternary": [
           {
            "marker": {
             "colorbar": {
              "outlinewidth": 0,
              "ticks": ""
             }
            },
            "type": "scatterternary"
           }
          ],
          "surface": [
           {
            "colorbar": {
             "outlinewidth": 0,
             "ticks": ""
            },
            "colorscale": [
             [
              0,
              "#0d0887"
             ],
             [
              0.1111111111111111,
              "#46039f"
             ],
             [
              0.2222222222222222,
              "#7201a8"
             ],
             [
              0.3333333333333333,
              "#9c179e"
             ],
             [
              0.4444444444444444,
              "#bd3786"
             ],
             [
              0.5555555555555556,
              "#d8576b"
             ],
             [
              0.6666666666666666,
              "#ed7953"
             ],
             [
              0.7777777777777778,
              "#fb9f3a"
             ],
             [
              0.8888888888888888,
              "#fdca26"
             ],
             [
              1,
              "#f0f921"
             ]
            ],
            "type": "surface"
           }
          ],
          "table": [
           {
            "cells": {
             "fill": {
              "color": "#EBF0F8"
             },
             "line": {
              "color": "white"
             }
            },
            "header": {
             "fill": {
              "color": "#C8D4E3"
             },
             "line": {
              "color": "white"
             }
            },
            "type": "table"
           }
          ]
         },
         "layout": {
          "annotationdefaults": {
           "arrowcolor": "#2a3f5f",
           "arrowhead": 0,
           "arrowwidth": 1
          },
          "coloraxis": {
           "colorbar": {
            "outlinewidth": 0,
            "ticks": ""
           }
          },
          "colorscale": {
           "diverging": [
            [
             0,
             "#8e0152"
            ],
            [
             0.1,
             "#c51b7d"
            ],
            [
             0.2,
             "#de77ae"
            ],
            [
             0.3,
             "#f1b6da"
            ],
            [
             0.4,
             "#fde0ef"
            ],
            [
             0.5,
             "#f7f7f7"
            ],
            [
             0.6,
             "#e6f5d0"
            ],
            [
             0.7,
             "#b8e186"
            ],
            [
             0.8,
             "#7fbc41"
            ],
            [
             0.9,
             "#4d9221"
            ],
            [
             1,
             "#276419"
            ]
           ],
           "sequential": [
            [
             0,
             "#0d0887"
            ],
            [
             0.1111111111111111,
             "#46039f"
            ],
            [
             0.2222222222222222,
             "#7201a8"
            ],
            [
             0.3333333333333333,
             "#9c179e"
            ],
            [
             0.4444444444444444,
             "#bd3786"
            ],
            [
             0.5555555555555556,
             "#d8576b"
            ],
            [
             0.6666666666666666,
             "#ed7953"
            ],
            [
             0.7777777777777778,
             "#fb9f3a"
            ],
            [
             0.8888888888888888,
             "#fdca26"
            ],
            [
             1,
             "#f0f921"
            ]
           ],
           "sequentialminus": [
            [
             0,
             "#0d0887"
            ],
            [
             0.1111111111111111,
             "#46039f"
            ],
            [
             0.2222222222222222,
             "#7201a8"
            ],
            [
             0.3333333333333333,
             "#9c179e"
            ],
            [
             0.4444444444444444,
             "#bd3786"
            ],
            [
             0.5555555555555556,
             "#d8576b"
            ],
            [
             0.6666666666666666,
             "#ed7953"
            ],
            [
             0.7777777777777778,
             "#fb9f3a"
            ],
            [
             0.8888888888888888,
             "#fdca26"
            ],
            [
             1,
             "#f0f921"
            ]
           ]
          },
          "colorway": [
           "#636efa",
           "#EF553B",
           "#00cc96",
           "#ab63fa",
           "#FFA15A",
           "#19d3f3",
           "#FF6692",
           "#B6E880",
           "#FF97FF",
           "#FECB52"
          ],
          "font": {
           "color": "#2a3f5f"
          },
          "geo": {
           "bgcolor": "white",
           "lakecolor": "white",
           "landcolor": "#E5ECF6",
           "showlakes": true,
           "showland": true,
           "subunitcolor": "white"
          },
          "hoverlabel": {
           "align": "left"
          },
          "hovermode": "closest",
          "mapbox": {
           "style": "light"
          },
          "paper_bgcolor": "white",
          "plot_bgcolor": "#E5ECF6",
          "polar": {
           "angularaxis": {
            "gridcolor": "white",
            "linecolor": "white",
            "ticks": ""
           },
           "bgcolor": "#E5ECF6",
           "radialaxis": {
            "gridcolor": "white",
            "linecolor": "white",
            "ticks": ""
           }
          },
          "scene": {
           "xaxis": {
            "backgroundcolor": "#E5ECF6",
            "gridcolor": "white",
            "gridwidth": 2,
            "linecolor": "white",
            "showbackground": true,
            "ticks": "",
            "zerolinecolor": "white"
           },
           "yaxis": {
            "backgroundcolor": "#E5ECF6",
            "gridcolor": "white",
            "gridwidth": 2,
            "linecolor": "white",
            "showbackground": true,
            "ticks": "",
            "zerolinecolor": "white"
           },
           "zaxis": {
            "backgroundcolor": "#E5ECF6",
            "gridcolor": "white",
            "gridwidth": 2,
            "linecolor": "white",
            "showbackground": true,
            "ticks": "",
            "zerolinecolor": "white"
           }
          },
          "shapedefaults": {
           "line": {
            "color": "#2a3f5f"
           }
          },
          "ternary": {
           "aaxis": {
            "gridcolor": "white",
            "linecolor": "white",
            "ticks": ""
           },
           "baxis": {
            "gridcolor": "white",
            "linecolor": "white",
            "ticks": ""
           },
           "bgcolor": "#E5ECF6",
           "caxis": {
            "gridcolor": "white",
            "linecolor": "white",
            "ticks": ""
           }
          },
          "title": {
           "x": 0.05
          },
          "xaxis": {
           "automargin": true,
           "gridcolor": "white",
           "linecolor": "white",
           "ticks": "",
           "title": {
            "standoff": 15
           },
           "zerolinecolor": "white",
           "zerolinewidth": 2
          },
          "yaxis": {
           "automargin": true,
           "gridcolor": "white",
           "linecolor": "white",
           "ticks": "",
           "title": {
            "standoff": 15
           },
           "zerolinecolor": "white",
           "zerolinewidth": 2
          }
         }
        },
        "title": {
         "text": "Total Invoice Amount per Subscription: 2015 - 2020"
        },
        "width": 1000,
        "xaxis": {
         "anchor": "y",
         "domain": [
          0,
          1
         ],
         "title": {
          "text": "Number of Years"
         }
        },
        "yaxis": {
         "anchor": "x",
         "domain": [
          0,
          1
         ],
         "title": {
          "text": "Total Sales of ATLAS Subscription"
         }
        }
       }
      }
     },
     "metadata": {}
    },
    {
     "output_type": "display_data",
     "data": {
      "application/vnd.plotly.v1+json": {
       "config": {
        "plotlyServerURL": "https://plot.ly"
       },
       "data": [
        {
         "alignmentgroup": "True",
         "hovertemplate": "Subscription=1 Year<br>Year=%{x}<br>Invoice Amount=%{y}<extra></extra>",
         "legendgroup": "1 Year",
         "marker": {
          "color": "#636efa"
         },
         "name": "1 Year",
         "offsetgroup": "1 Year",
         "orientation": "v",
         "showlegend": true,
         "textposition": "auto",
         "type": "bar",
         "x": [
          2015,
          2016,
          2017,
          2018,
          2019,
          2020
         ],
         "xaxis": "x",
         "y": [
          10,
          44,
          42,
          52,
          58,
          235
         ],
         "yaxis": "y"
        },
        {
         "alignmentgroup": "True",
         "hovertemplate": "Subscription=3 Years<br>Year=%{x}<br>Invoice Amount=%{y}<extra></extra>",
         "legendgroup": "3 Years",
         "marker": {
          "color": "#EF553B"
         },
         "name": "3 Years",
         "offsetgroup": "3 Years",
         "orientation": "v",
         "showlegend": true,
         "textposition": "auto",
         "type": "bar",
         "x": [
          2016,
          2017,
          2018,
          2019,
          2020
         ],
         "xaxis": "x",
         "y": [
          11,
          13,
          11,
          14,
          28
         ],
         "yaxis": "y"
        },
        {
         "alignmentgroup": "True",
         "hovertemplate": "Subscription=2 Years<br>Year=%{x}<br>Invoice Amount=%{y}<extra></extra>",
         "legendgroup": "2 Years",
         "marker": {
          "color": "#00cc96"
         },
         "name": "2 Years",
         "offsetgroup": "2 Years",
         "orientation": "v",
         "showlegend": true,
         "textposition": "auto",
         "type": "bar",
         "x": [
          2017,
          2019
         ],
         "xaxis": "x",
         "y": [
          2,
          1
         ],
         "yaxis": "y"
        },
        {
         "alignmentgroup": "True",
         "hovertemplate": "Subscription=6 Months<br>Year=%{x}<br>Invoice Amount=%{y}<extra></extra>",
         "legendgroup": "6 Months",
         "marker": {
          "color": "#ab63fa"
         },
         "name": "6 Months",
         "offsetgroup": "6 Months",
         "orientation": "v",
         "showlegend": true,
         "textposition": "auto",
         "type": "bar",
         "x": [
          2019,
          2020
         ],
         "xaxis": "x",
         "y": [
          1,
          56
         ],
         "yaxis": "y"
        },
        {
         "alignmentgroup": "True",
         "hovertemplate": "Subscription=3 Months<br>Year=%{x}<br>Invoice Amount=%{y}<extra></extra>",
         "legendgroup": "3 Months",
         "marker": {
          "color": "#FFA15A"
         },
         "name": "3 Months",
         "offsetgroup": "3 Months",
         "orientation": "v",
         "showlegend": true,
         "textposition": "auto",
         "type": "bar",
         "x": [
          2020
         ],
         "xaxis": "x",
         "y": [
          119
         ],
         "yaxis": "y"
        },
        {
         "alignmentgroup": "True",
         "hovertemplate": "Subscription=30 Days<br>Year=%{x}<br>Invoice Amount=%{y}<extra></extra>",
         "legendgroup": "30 Days",
         "marker": {
          "color": "#19d3f3"
         },
         "name": "30 Days",
         "offsetgroup": "30 Days",
         "orientation": "v",
         "showlegend": true,
         "textposition": "auto",
         "type": "bar",
         "x": [
          2020
         ],
         "xaxis": "x",
         "y": [
          1
         ],
         "yaxis": "y"
        }
       ],
       "layout": {
        "barmode": "group",
        "height": 600,
        "legend": {
         "title": {
          "text": "Subscription"
         },
         "tracegroupgap": 0
        },
        "template": {
         "data": {
          "bar": [
           {
            "error_x": {
             "color": "#2a3f5f"
            },
            "error_y": {
             "color": "#2a3f5f"
            },
            "marker": {
             "line": {
              "color": "#E5ECF6",
              "width": 0.5
             }
            },
            "type": "bar"
           }
          ],
          "barpolar": [
           {
            "marker": {
             "line": {
              "color": "#E5ECF6",
              "width": 0.5
             }
            },
            "type": "barpolar"
           }
          ],
          "carpet": [
           {
            "aaxis": {
             "endlinecolor": "#2a3f5f",
             "gridcolor": "white",
             "linecolor": "white",
             "minorgridcolor": "white",
             "startlinecolor": "#2a3f5f"
            },
            "baxis": {
             "endlinecolor": "#2a3f5f",
             "gridcolor": "white",
             "linecolor": "white",
             "minorgridcolor": "white",
             "startlinecolor": "#2a3f5f"
            },
            "type": "carpet"
           }
          ],
          "choropleth": [
           {
            "colorbar": {
             "outlinewidth": 0,
             "ticks": ""
            },
            "type": "choropleth"
           }
          ],
          "contour": [
           {
            "colorbar": {
             "outlinewidth": 0,
             "ticks": ""
            },
            "colorscale": [
             [
              0,
              "#0d0887"
             ],
             [
              0.1111111111111111,
              "#46039f"
             ],
             [
              0.2222222222222222,
              "#7201a8"
             ],
             [
              0.3333333333333333,
              "#9c179e"
             ],
             [
              0.4444444444444444,
              "#bd3786"
             ],
             [
              0.5555555555555556,
              "#d8576b"
             ],
             [
              0.6666666666666666,
              "#ed7953"
             ],
             [
              0.7777777777777778,
              "#fb9f3a"
             ],
             [
              0.8888888888888888,
              "#fdca26"
             ],
             [
              1,
              "#f0f921"
             ]
            ],
            "type": "contour"
           }
          ],
          "contourcarpet": [
           {
            "colorbar": {
             "outlinewidth": 0,
             "ticks": ""
            },
            "type": "contourcarpet"
           }
          ],
          "heatmap": [
           {
            "colorbar": {
             "outlinewidth": 0,
             "ticks": ""
            },
            "colorscale": [
             [
              0,
              "#0d0887"
             ],
             [
              0.1111111111111111,
              "#46039f"
             ],
             [
              0.2222222222222222,
              "#7201a8"
             ],
             [
              0.3333333333333333,
              "#9c179e"
             ],
             [
              0.4444444444444444,
              "#bd3786"
             ],
             [
              0.5555555555555556,
              "#d8576b"
             ],
             [
              0.6666666666666666,
              "#ed7953"
             ],
             [
              0.7777777777777778,
              "#fb9f3a"
             ],
             [
              0.8888888888888888,
              "#fdca26"
             ],
             [
              1,
              "#f0f921"
             ]
            ],
            "type": "heatmap"
           }
          ],
          "heatmapgl": [
           {
            "colorbar": {
             "outlinewidth": 0,
             "ticks": ""
            },
            "colorscale": [
             [
              0,
              "#0d0887"
             ],
             [
              0.1111111111111111,
              "#46039f"
             ],
             [
              0.2222222222222222,
              "#7201a8"
             ],
             [
              0.3333333333333333,
              "#9c179e"
             ],
             [
              0.4444444444444444,
              "#bd3786"
             ],
             [
              0.5555555555555556,
              "#d8576b"
             ],
             [
              0.6666666666666666,
              "#ed7953"
             ],
             [
              0.7777777777777778,
              "#fb9f3a"
             ],
             [
              0.8888888888888888,
              "#fdca26"
             ],
             [
              1,
              "#f0f921"
             ]
            ],
            "type": "heatmapgl"
           }
          ],
          "histogram": [
           {
            "marker": {
             "colorbar": {
              "outlinewidth": 0,
              "ticks": ""
             }
            },
            "type": "histogram"
           }
          ],
          "histogram2d": [
           {
            "colorbar": {
             "outlinewidth": 0,
             "ticks": ""
            },
            "colorscale": [
             [
              0,
              "#0d0887"
             ],
             [
              0.1111111111111111,
              "#46039f"
             ],
             [
              0.2222222222222222,
              "#7201a8"
             ],
             [
              0.3333333333333333,
              "#9c179e"
             ],
             [
              0.4444444444444444,
              "#bd3786"
             ],
             [
              0.5555555555555556,
              "#d8576b"
             ],
             [
              0.6666666666666666,
              "#ed7953"
             ],
             [
              0.7777777777777778,
              "#fb9f3a"
             ],
             [
              0.8888888888888888,
              "#fdca26"
             ],
             [
              1,
              "#f0f921"
             ]
            ],
            "type": "histogram2d"
           }
          ],
          "histogram2dcontour": [
           {
            "colorbar": {
             "outlinewidth": 0,
             "ticks": ""
            },
            "colorscale": [
             [
              0,
              "#0d0887"
             ],
             [
              0.1111111111111111,
              "#46039f"
             ],
             [
              0.2222222222222222,
              "#7201a8"
             ],
             [
              0.3333333333333333,
              "#9c179e"
             ],
             [
              0.4444444444444444,
              "#bd3786"
             ],
             [
              0.5555555555555556,
              "#d8576b"
             ],
             [
              0.6666666666666666,
              "#ed7953"
             ],
             [
              0.7777777777777778,
              "#fb9f3a"
             ],
             [
              0.8888888888888888,
              "#fdca26"
             ],
             [
              1,
              "#f0f921"
             ]
            ],
            "type": "histogram2dcontour"
           }
          ],
          "mesh3d": [
           {
            "colorbar": {
             "outlinewidth": 0,
             "ticks": ""
            },
            "type": "mesh3d"
           }
          ],
          "parcoords": [
           {
            "line": {
             "colorbar": {
              "outlinewidth": 0,
              "ticks": ""
             }
            },
            "type": "parcoords"
           }
          ],
          "pie": [
           {
            "automargin": true,
            "type": "pie"
           }
          ],
          "scatter": [
           {
            "marker": {
             "colorbar": {
              "outlinewidth": 0,
              "ticks": ""
             }
            },
            "type": "scatter"
           }
          ],
          "scatter3d": [
           {
            "line": {
             "colorbar": {
              "outlinewidth": 0,
              "ticks": ""
             }
            },
            "marker": {
             "colorbar": {
              "outlinewidth": 0,
              "ticks": ""
             }
            },
            "type": "scatter3d"
           }
          ],
          "scattercarpet": [
           {
            "marker": {
             "colorbar": {
              "outlinewidth": 0,
              "ticks": ""
             }
            },
            "type": "scattercarpet"
           }
          ],
          "scattergeo": [
           {
            "marker": {
             "colorbar": {
              "outlinewidth": 0,
              "ticks": ""
             }
            },
            "type": "scattergeo"
           }
          ],
          "scattergl": [
           {
            "marker": {
             "colorbar": {
              "outlinewidth": 0,
              "ticks": ""
             }
            },
            "type": "scattergl"
           }
          ],
          "scattermapbox": [
           {
            "marker": {
             "colorbar": {
              "outlinewidth": 0,
              "ticks": ""
             }
            },
            "type": "scattermapbox"
           }
          ],
          "scatterpolar": [
           {
            "marker": {
             "colorbar": {
              "outlinewidth": 0,
              "ticks": ""
             }
            },
            "type": "scatterpolar"
           }
          ],
          "scatterpolargl": [
           {
            "marker": {
             "colorbar": {
              "outlinewidth": 0,
              "ticks": ""
             }
            },
            "type": "scatterpolargl"
           }
          ],
          "scatterternary": [
           {
            "marker": {
             "colorbar": {
              "outlinewidth": 0,
              "ticks": ""
             }
            },
            "type": "scatterternary"
           }
          ],
          "surface": [
           {
            "colorbar": {
             "outlinewidth": 0,
             "ticks": ""
            },
            "colorscale": [
             [
              0,
              "#0d0887"
             ],
             [
              0.1111111111111111,
              "#46039f"
             ],
             [
              0.2222222222222222,
              "#7201a8"
             ],
             [
              0.3333333333333333,
              "#9c179e"
             ],
             [
              0.4444444444444444,
              "#bd3786"
             ],
             [
              0.5555555555555556,
              "#d8576b"
             ],
             [
              0.6666666666666666,
              "#ed7953"
             ],
             [
              0.7777777777777778,
              "#fb9f3a"
             ],
             [
              0.8888888888888888,
              "#fdca26"
             ],
             [
              1,
              "#f0f921"
             ]
            ],
            "type": "surface"
           }
          ],
          "table": [
           {
            "cells": {
             "fill": {
              "color": "#EBF0F8"
             },
             "line": {
              "color": "white"
             }
            },
            "header": {
             "fill": {
              "color": "#C8D4E3"
             },
             "line": {
              "color": "white"
             }
            },
            "type": "table"
           }
          ]
         },
         "layout": {
          "annotationdefaults": {
           "arrowcolor": "#2a3f5f",
           "arrowhead": 0,
           "arrowwidth": 1
          },
          "coloraxis": {
           "colorbar": {
            "outlinewidth": 0,
            "ticks": ""
           }
          },
          "colorscale": {
           "diverging": [
            [
             0,
             "#8e0152"
            ],
            [
             0.1,
             "#c51b7d"
            ],
            [
             0.2,
             "#de77ae"
            ],
            [
             0.3,
             "#f1b6da"
            ],
            [
             0.4,
             "#fde0ef"
            ],
            [
             0.5,
             "#f7f7f7"
            ],
            [
             0.6,
             "#e6f5d0"
            ],
            [
             0.7,
             "#b8e186"
            ],
            [
             0.8,
             "#7fbc41"
            ],
            [
             0.9,
             "#4d9221"
            ],
            [
             1,
             "#276419"
            ]
           ],
           "sequential": [
            [
             0,
             "#0d0887"
            ],
            [
             0.1111111111111111,
             "#46039f"
            ],
            [
             0.2222222222222222,
             "#7201a8"
            ],
            [
             0.3333333333333333,
             "#9c179e"
            ],
            [
             0.4444444444444444,
             "#bd3786"
            ],
            [
             0.5555555555555556,
             "#d8576b"
            ],
            [
             0.6666666666666666,
             "#ed7953"
            ],
            [
             0.7777777777777778,
             "#fb9f3a"
            ],
            [
             0.8888888888888888,
             "#fdca26"
            ],
            [
             1,
             "#f0f921"
            ]
           ],
           "sequentialminus": [
            [
             0,
             "#0d0887"
            ],
            [
             0.1111111111111111,
             "#46039f"
            ],
            [
             0.2222222222222222,
             "#7201a8"
            ],
            [
             0.3333333333333333,
             "#9c179e"
            ],
            [
             0.4444444444444444,
             "#bd3786"
            ],
            [
             0.5555555555555556,
             "#d8576b"
            ],
            [
             0.6666666666666666,
             "#ed7953"
            ],
            [
             0.7777777777777778,
             "#fb9f3a"
            ],
            [
             0.8888888888888888,
             "#fdca26"
            ],
            [
             1,
             "#f0f921"
            ]
           ]
          },
          "colorway": [
           "#636efa",
           "#EF553B",
           "#00cc96",
           "#ab63fa",
           "#FFA15A",
           "#19d3f3",
           "#FF6692",
           "#B6E880",
           "#FF97FF",
           "#FECB52"
          ],
          "font": {
           "color": "#2a3f5f"
          },
          "geo": {
           "bgcolor": "white",
           "lakecolor": "white",
           "landcolor": "#E5ECF6",
           "showlakes": true,
           "showland": true,
           "subunitcolor": "white"
          },
          "hoverlabel": {
           "align": "left"
          },
          "hovermode": "closest",
          "mapbox": {
           "style": "light"
          },
          "paper_bgcolor": "white",
          "plot_bgcolor": "#E5ECF6",
          "polar": {
           "angularaxis": {
            "gridcolor": "white",
            "linecolor": "white",
            "ticks": ""
           },
           "bgcolor": "#E5ECF6",
           "radialaxis": {
            "gridcolor": "white",
            "linecolor": "white",
            "ticks": ""
           }
          },
          "scene": {
           "xaxis": {
            "backgroundcolor": "#E5ECF6",
            "gridcolor": "white",
            "gridwidth": 2,
            "linecolor": "white",
            "showbackground": true,
            "ticks": "",
            "zerolinecolor": "white"
           },
           "yaxis": {
            "backgroundcolor": "#E5ECF6",
            "gridcolor": "white",
            "gridwidth": 2,
            "linecolor": "white",
            "showbackground": true,
            "ticks": "",
            "zerolinecolor": "white"
           },
           "zaxis": {
            "backgroundcolor": "#E5ECF6",
            "gridcolor": "white",
            "gridwidth": 2,
            "linecolor": "white",
            "showbackground": true,
            "ticks": "",
            "zerolinecolor": "white"
           }
          },
          "shapedefaults": {
           "line": {
            "color": "#2a3f5f"
           }
          },
          "ternary": {
           "aaxis": {
            "gridcolor": "white",
            "linecolor": "white",
            "ticks": ""
           },
           "baxis": {
            "gridcolor": "white",
            "linecolor": "white",
            "ticks": ""
           },
           "bgcolor": "#E5ECF6",
           "caxis": {
            "gridcolor": "white",
            "linecolor": "white",
            "ticks": ""
           }
          },
          "title": {
           "x": 0.05
          },
          "xaxis": {
           "automargin": true,
           "gridcolor": "white",
           "linecolor": "white",
           "ticks": "",
           "title": {
            "standoff": 15
           },
           "zerolinecolor": "white",
           "zerolinewidth": 2
          },
          "yaxis": {
           "automargin": true,
           "gridcolor": "white",
           "linecolor": "white",
           "ticks": "",
           "title": {
            "standoff": 15
           },
           "zerolinecolor": "white",
           "zerolinewidth": 2
          }
         }
        },
        "title": {
         "text": "Total Number of Invoices per Subscription: 2015 - 2020"
        },
        "width": 1000,
        "xaxis": {
         "anchor": "y",
         "domain": [
          0,
          1
         ],
         "title": {
          "text": "Number of Years"
         }
        },
        "yaxis": {
         "anchor": "x",
         "domain": [
          0,
          1
         ],
         "title": {
          "text": "Total Number of Invoices Submitted"
         }
        }
       }
      }
     },
     "metadata": {}
    },
    {
     "output_type": "display_data",
     "data": {
      "application/vnd.plotly.v1+json": {
       "config": {
        "plotlyServerURL": "https://plot.ly"
       },
       "data": [
        {
         "alignmentgroup": "True",
         "hovertemplate": "Subscription=1 Year<br>Year=%{x}<br>Number of Users=%{y}<extra></extra>",
         "legendgroup": "1 Year",
         "marker": {
          "color": "#636efa"
         },
         "name": "1 Year",
         "offsetgroup": "1 Year",
         "orientation": "v",
         "showlegend": true,
         "textposition": "auto",
         "type": "bar",
         "x": [
          2015,
          2016,
          2017,
          2018,
          2019,
          2020
         ],
         "xaxis": "x",
         "y": [
          19025,
          11685,
          10475,
          11627,
          10892,
          55634
         ],
         "yaxis": "y"
        },
        {
         "alignmentgroup": "True",
         "hovertemplate": "Subscription=3 Years<br>Year=%{x}<br>Number of Users=%{y}<extra></extra>",
         "legendgroup": "3 Years",
         "marker": {
          "color": "#EF553B"
         },
         "name": "3 Years",
         "offsetgroup": "3 Years",
         "orientation": "v",
         "showlegend": true,
         "textposition": "auto",
         "type": "bar",
         "x": [
          2016,
          2017,
          2018,
          2019,
          2020
         ],
         "xaxis": "x",
         "y": [
          9020,
          3321,
          3048,
          2758,
          3882
         ],
         "yaxis": "y"
        },
        {
         "alignmentgroup": "True",
         "hovertemplate": "Subscription=2 Years<br>Year=%{x}<br>Number of Users=%{y}<extra></extra>",
         "legendgroup": "2 Years",
         "marker": {
          "color": "#00cc96"
         },
         "name": "2 Years",
         "offsetgroup": "2 Years",
         "orientation": "v",
         "showlegend": true,
         "textposition": "auto",
         "type": "bar",
         "x": [
          2017,
          2019
         ],
         "xaxis": "x",
         "y": [
          375,
          5000
         ],
         "yaxis": "y"
        },
        {
         "alignmentgroup": "True",
         "hovertemplate": "Subscription=6 Months<br>Year=%{x}<br>Number of Users=%{y}<extra></extra>",
         "legendgroup": "6 Months",
         "marker": {
          "color": "#ab63fa"
         },
         "name": "6 Months",
         "offsetgroup": "6 Months",
         "orientation": "v",
         "showlegend": true,
         "textposition": "auto",
         "type": "bar",
         "x": [
          2019,
          2020
         ],
         "xaxis": "x",
         "y": [
          100,
          8724
         ],
         "yaxis": "y"
        },
        {
         "alignmentgroup": "True",
         "hovertemplate": "Subscription=3 Months<br>Year=%{x}<br>Number of Users=%{y}<extra></extra>",
         "legendgroup": "3 Months",
         "marker": {
          "color": "#FFA15A"
         },
         "name": "3 Months",
         "offsetgroup": "3 Months",
         "orientation": "v",
         "showlegend": true,
         "textposition": "auto",
         "type": "bar",
         "x": [
          2020
         ],
         "xaxis": "x",
         "y": [
          32337
         ],
         "yaxis": "y"
        },
        {
         "alignmentgroup": "True",
         "hovertemplate": "Subscription=30 Days<br>Year=%{x}<br>Number of Users=%{y}<extra></extra>",
         "legendgroup": "30 Days",
         "marker": {
          "color": "#19d3f3"
         },
         "name": "30 Days",
         "offsetgroup": "30 Days",
         "orientation": "v",
         "showlegend": true,
         "textposition": "auto",
         "type": "bar",
         "x": [
          2020
         ],
         "xaxis": "x",
         "y": [
          90
         ],
         "yaxis": "y"
        }
       ],
       "layout": {
        "barmode": "group",
        "height": 600,
        "legend": {
         "title": {
          "text": "Subscription"
         },
         "tracegroupgap": 0
        },
        "template": {
         "data": {
          "bar": [
           {
            "error_x": {
             "color": "#2a3f5f"
            },
            "error_y": {
             "color": "#2a3f5f"
            },
            "marker": {
             "line": {
              "color": "#E5ECF6",
              "width": 0.5
             }
            },
            "type": "bar"
           }
          ],
          "barpolar": [
           {
            "marker": {
             "line": {
              "color": "#E5ECF6",
              "width": 0.5
             }
            },
            "type": "barpolar"
           }
          ],
          "carpet": [
           {
            "aaxis": {
             "endlinecolor": "#2a3f5f",
             "gridcolor": "white",
             "linecolor": "white",
             "minorgridcolor": "white",
             "startlinecolor": "#2a3f5f"
            },
            "baxis": {
             "endlinecolor": "#2a3f5f",
             "gridcolor": "white",
             "linecolor": "white",
             "minorgridcolor": "white",
             "startlinecolor": "#2a3f5f"
            },
            "type": "carpet"
           }
          ],
          "choropleth": [
           {
            "colorbar": {
             "outlinewidth": 0,
             "ticks": ""
            },
            "type": "choropleth"
           }
          ],
          "contour": [
           {
            "colorbar": {
             "outlinewidth": 0,
             "ticks": ""
            },
            "colorscale": [
             [
              0,
              "#0d0887"
             ],
             [
              0.1111111111111111,
              "#46039f"
             ],
             [
              0.2222222222222222,
              "#7201a8"
             ],
             [
              0.3333333333333333,
              "#9c179e"
             ],
             [
              0.4444444444444444,
              "#bd3786"
             ],
             [
              0.5555555555555556,
              "#d8576b"
             ],
             [
              0.6666666666666666,
              "#ed7953"
             ],
             [
              0.7777777777777778,
              "#fb9f3a"
             ],
             [
              0.8888888888888888,
              "#fdca26"
             ],
             [
              1,
              "#f0f921"
             ]
            ],
            "type": "contour"
           }
          ],
          "contourcarpet": [
           {
            "colorbar": {
             "outlinewidth": 0,
             "ticks": ""
            },
            "type": "contourcarpet"
           }
          ],
          "heatmap": [
           {
            "colorbar": {
             "outlinewidth": 0,
             "ticks": ""
            },
            "colorscale": [
             [
              0,
              "#0d0887"
             ],
             [
              0.1111111111111111,
              "#46039f"
             ],
             [
              0.2222222222222222,
              "#7201a8"
             ],
             [
              0.3333333333333333,
              "#9c179e"
             ],
             [
              0.4444444444444444,
              "#bd3786"
             ],
             [
              0.5555555555555556,
              "#d8576b"
             ],
             [
              0.6666666666666666,
              "#ed7953"
             ],
             [
              0.7777777777777778,
              "#fb9f3a"
             ],
             [
              0.8888888888888888,
              "#fdca26"
             ],
             [
              1,
              "#f0f921"
             ]
            ],
            "type": "heatmap"
           }
          ],
          "heatmapgl": [
           {
            "colorbar": {
             "outlinewidth": 0,
             "ticks": ""
            },
            "colorscale": [
             [
              0,
              "#0d0887"
             ],
             [
              0.1111111111111111,
              "#46039f"
             ],
             [
              0.2222222222222222,
              "#7201a8"
             ],
             [
              0.3333333333333333,
              "#9c179e"
             ],
             [
              0.4444444444444444,
              "#bd3786"
             ],
             [
              0.5555555555555556,
              "#d8576b"
             ],
             [
              0.6666666666666666,
              "#ed7953"
             ],
             [
              0.7777777777777778,
              "#fb9f3a"
             ],
             [
              0.8888888888888888,
              "#fdca26"
             ],
             [
              1,
              "#f0f921"
             ]
            ],
            "type": "heatmapgl"
           }
          ],
          "histogram": [
           {
            "marker": {
             "colorbar": {
              "outlinewidth": 0,
              "ticks": ""
             }
            },
            "type": "histogram"
           }
          ],
          "histogram2d": [
           {
            "colorbar": {
             "outlinewidth": 0,
             "ticks": ""
            },
            "colorscale": [
             [
              0,
              "#0d0887"
             ],
             [
              0.1111111111111111,
              "#46039f"
             ],
             [
              0.2222222222222222,
              "#7201a8"
             ],
             [
              0.3333333333333333,
              "#9c179e"
             ],
             [
              0.4444444444444444,
              "#bd3786"
             ],
             [
              0.5555555555555556,
              "#d8576b"
             ],
             [
              0.6666666666666666,
              "#ed7953"
             ],
             [
              0.7777777777777778,
              "#fb9f3a"
             ],
             [
              0.8888888888888888,
              "#fdca26"
             ],
             [
              1,
              "#f0f921"
             ]
            ],
            "type": "histogram2d"
           }
          ],
          "histogram2dcontour": [
           {
            "colorbar": {
             "outlinewidth": 0,
             "ticks": ""
            },
            "colorscale": [
             [
              0,
              "#0d0887"
             ],
             [
              0.1111111111111111,
              "#46039f"
             ],
             [
              0.2222222222222222,
              "#7201a8"
             ],
             [
              0.3333333333333333,
              "#9c179e"
             ],
             [
              0.4444444444444444,
              "#bd3786"
             ],
             [
              0.5555555555555556,
              "#d8576b"
             ],
             [
              0.6666666666666666,
              "#ed7953"
             ],
             [
              0.7777777777777778,
              "#fb9f3a"
             ],
             [
              0.8888888888888888,
              "#fdca26"
             ],
             [
              1,
              "#f0f921"
             ]
            ],
            "type": "histogram2dcontour"
           }
          ],
          "mesh3d": [
           {
            "colorbar": {
             "outlinewidth": 0,
             "ticks": ""
            },
            "type": "mesh3d"
           }
          ],
          "parcoords": [
           {
            "line": {
             "colorbar": {
              "outlinewidth": 0,
              "ticks": ""
             }
            },
            "type": "parcoords"
           }
          ],
          "pie": [
           {
            "automargin": true,
            "type": "pie"
           }
          ],
          "scatter": [
           {
            "marker": {
             "colorbar": {
              "outlinewidth": 0,
              "ticks": ""
             }
            },
            "type": "scatter"
           }
          ],
          "scatter3d": [
           {
            "line": {
             "colorbar": {
              "outlinewidth": 0,
              "ticks": ""
             }
            },
            "marker": {
             "colorbar": {
              "outlinewidth": 0,
              "ticks": ""
             }
            },
            "type": "scatter3d"
           }
          ],
          "scattercarpet": [
           {
            "marker": {
             "colorbar": {
              "outlinewidth": 0,
              "ticks": ""
             }
            },
            "type": "scattercarpet"
           }
          ],
          "scattergeo": [
           {
            "marker": {
             "colorbar": {
              "outlinewidth": 0,
              "ticks": ""
             }
            },
            "type": "scattergeo"
           }
          ],
          "scattergl": [
           {
            "marker": {
             "colorbar": {
              "outlinewidth": 0,
              "ticks": ""
             }
            },
            "type": "scattergl"
           }
          ],
          "scattermapbox": [
           {
            "marker": {
             "colorbar": {
              "outlinewidth": 0,
              "ticks": ""
             }
            },
            "type": "scattermapbox"
           }
          ],
          "scatterpolar": [
           {
            "marker": {
             "colorbar": {
              "outlinewidth": 0,
              "ticks": ""
             }
            },
            "type": "scatterpolar"
           }
          ],
          "scatterpolargl": [
           {
            "marker": {
             "colorbar": {
              "outlinewidth": 0,
              "ticks": ""
             }
            },
            "type": "scatterpolargl"
           }
          ],
          "scatterternary": [
           {
            "marker": {
             "colorbar": {
              "outlinewidth": 0,
              "ticks": ""
             }
            },
            "type": "scatterternary"
           }
          ],
          "surface": [
           {
            "colorbar": {
             "outlinewidth": 0,
             "ticks": ""
            },
            "colorscale": [
             [
              0,
              "#0d0887"
             ],
             [
              0.1111111111111111,
              "#46039f"
             ],
             [
              0.2222222222222222,
              "#7201a8"
             ],
             [
              0.3333333333333333,
              "#9c179e"
             ],
             [
              0.4444444444444444,
              "#bd3786"
             ],
             [
              0.5555555555555556,
              "#d8576b"
             ],
             [
              0.6666666666666666,
              "#ed7953"
             ],
             [
              0.7777777777777778,
              "#fb9f3a"
             ],
             [
              0.8888888888888888,
              "#fdca26"
             ],
             [
              1,
              "#f0f921"
             ]
            ],
            "type": "surface"
           }
          ],
          "table": [
           {
            "cells": {
             "fill": {
              "color": "#EBF0F8"
             },
             "line": {
              "color": "white"
             }
            },
            "header": {
             "fill": {
              "color": "#C8D4E3"
             },
             "line": {
              "color": "white"
             }
            },
            "type": "table"
           }
          ]
         },
         "layout": {
          "annotationdefaults": {
           "arrowcolor": "#2a3f5f",
           "arrowhead": 0,
           "arrowwidth": 1
          },
          "coloraxis": {
           "colorbar": {
            "outlinewidth": 0,
            "ticks": ""
           }
          },
          "colorscale": {
           "diverging": [
            [
             0,
             "#8e0152"
            ],
            [
             0.1,
             "#c51b7d"
            ],
            [
             0.2,
             "#de77ae"
            ],
            [
             0.3,
             "#f1b6da"
            ],
            [
             0.4,
             "#fde0ef"
            ],
            [
             0.5,
             "#f7f7f7"
            ],
            [
             0.6,
             "#e6f5d0"
            ],
            [
             0.7,
             "#b8e186"
            ],
            [
             0.8,
             "#7fbc41"
            ],
            [
             0.9,
             "#4d9221"
            ],
            [
             1,
             "#276419"
            ]
           ],
           "sequential": [
            [
             0,
             "#0d0887"
            ],
            [
             0.1111111111111111,
             "#46039f"
            ],
            [
             0.2222222222222222,
             "#7201a8"
            ],
            [
             0.3333333333333333,
             "#9c179e"
            ],
            [
             0.4444444444444444,
             "#bd3786"
            ],
            [
             0.5555555555555556,
             "#d8576b"
            ],
            [
             0.6666666666666666,
             "#ed7953"
            ],
            [
             0.7777777777777778,
             "#fb9f3a"
            ],
            [
             0.8888888888888888,
             "#fdca26"
            ],
            [
             1,
             "#f0f921"
            ]
           ],
           "sequentialminus": [
            [
             0,
             "#0d0887"
            ],
            [
             0.1111111111111111,
             "#46039f"
            ],
            [
             0.2222222222222222,
             "#7201a8"
            ],
            [
             0.3333333333333333,
             "#9c179e"
            ],
            [
             0.4444444444444444,
             "#bd3786"
            ],
            [
             0.5555555555555556,
             "#d8576b"
            ],
            [
             0.6666666666666666,
             "#ed7953"
            ],
            [
             0.7777777777777778,
             "#fb9f3a"
            ],
            [
             0.8888888888888888,
             "#fdca26"
            ],
            [
             1,
             "#f0f921"
            ]
           ]
          },
          "colorway": [
           "#636efa",
           "#EF553B",
           "#00cc96",
           "#ab63fa",
           "#FFA15A",
           "#19d3f3",
           "#FF6692",
           "#B6E880",
           "#FF97FF",
           "#FECB52"
          ],
          "font": {
           "color": "#2a3f5f"
          },
          "geo": {
           "bgcolor": "white",
           "lakecolor": "white",
           "landcolor": "#E5ECF6",
           "showlakes": true,
           "showland": true,
           "subunitcolor": "white"
          },
          "hoverlabel": {
           "align": "left"
          },
          "hovermode": "closest",
          "mapbox": {
           "style": "light"
          },
          "paper_bgcolor": "white",
          "plot_bgcolor": "#E5ECF6",
          "polar": {
           "angularaxis": {
            "gridcolor": "white",
            "linecolor": "white",
            "ticks": ""
           },
           "bgcolor": "#E5ECF6",
           "radialaxis": {
            "gridcolor": "white",
            "linecolor": "white",
            "ticks": ""
           }
          },
          "scene": {
           "xaxis": {
            "backgroundcolor": "#E5ECF6",
            "gridcolor": "white",
            "gridwidth": 2,
            "linecolor": "white",
            "showbackground": true,
            "ticks": "",
            "zerolinecolor": "white"
           },
           "yaxis": {
            "backgroundcolor": "#E5ECF6",
            "gridcolor": "white",
            "gridwidth": 2,
            "linecolor": "white",
            "showbackground": true,
            "ticks": "",
            "zerolinecolor": "white"
           },
           "zaxis": {
            "backgroundcolor": "#E5ECF6",
            "gridcolor": "white",
            "gridwidth": 2,
            "linecolor": "white",
            "showbackground": true,
            "ticks": "",
            "zerolinecolor": "white"
           }
          },
          "shapedefaults": {
           "line": {
            "color": "#2a3f5f"
           }
          },
          "ternary": {
           "aaxis": {
            "gridcolor": "white",
            "linecolor": "white",
            "ticks": ""
           },
           "baxis": {
            "gridcolor": "white",
            "linecolor": "white",
            "ticks": ""
           },
           "bgcolor": "#E5ECF6",
           "caxis": {
            "gridcolor": "white",
            "linecolor": "white",
            "ticks": ""
           }
          },
          "title": {
           "x": 0.05
          },
          "xaxis": {
           "automargin": true,
           "gridcolor": "white",
           "linecolor": "white",
           "ticks": "",
           "title": {
            "standoff": 15
           },
           "zerolinecolor": "white",
           "zerolinewidth": 2
          },
          "yaxis": {
           "automargin": true,
           "gridcolor": "white",
           "linecolor": "white",
           "ticks": "",
           "title": {
            "standoff": 15
           },
           "zerolinecolor": "white",
           "zerolinewidth": 2
          }
         }
        },
        "title": {
         "text": "Total Number of ATLAS Subscribers per Subscription: 2015 - 2020"
        },
        "width": 1000,
        "xaxis": {
         "anchor": "y",
         "domain": [
          0,
          1
         ],
         "title": {
          "text": "Number of Years"
         }
        },
        "yaxis": {
         "anchor": "x",
         "domain": [
          0,
          1
         ],
         "title": {
          "text": "Total Number of ATLAS Subscribers"
         }
        }
       }
      }
     },
     "metadata": {}
    },
    {
     "output_type": "display_data",
     "data": {
      "application/vnd.plotly.v1+json": {
       "config": {
        "plotlyServerURL": "https://plot.ly"
       },
       "data": [
        {
         "alignmentgroup": "True",
         "hovertemplate": "Customers Status=Active<br>Year=%{x}<br>Number of Users=%{y}<extra></extra>",
         "legendgroup": "Active",
         "marker": {
          "color": "#636efa"
         },
         "name": "Active",
         "offsetgroup": "Active",
         "orientation": "v",
         "showlegend": true,
         "textposition": "auto",
         "type": "bar",
         "x": [
          2015,
          2016,
          2017,
          2018,
          2019,
          2020
         ],
         "xaxis": "x",
         "y": [
          5,
          26,
          25,
          44,
          61,
          91
         ],
         "yaxis": "y"
        },
        {
         "alignmentgroup": "True",
         "hovertemplate": "Customers Status=Lost<br>Year=%{x}<br>Number of Users=%{y}<extra></extra>",
         "legendgroup": "Lost",
         "marker": {
          "color": "#EF553B"
         },
         "name": "Lost",
         "offsetgroup": "Lost",
         "orientation": "v",
         "showlegend": true,
         "textposition": "auto",
         "type": "bar",
         "x": [
          2015,
          2016,
          2017,
          2018,
          2019,
          2020
         ],
         "xaxis": "x",
         "y": [
          5,
          29,
          32,
          20,
          11,
          21
         ],
         "yaxis": "y"
        },
        {
         "alignmentgroup": "True",
         "hovertemplate": "Customers Status=New<br>Year=%{x}<br>Number of Users=%{y}<extra></extra>",
         "legendgroup": "New",
         "marker": {
          "color": "#00cc96"
         },
         "name": "New",
         "offsetgroup": "New",
         "orientation": "v",
         "showlegend": true,
         "textposition": "auto",
         "type": "bar",
         "x": [
          2019,
          2020
         ],
         "xaxis": "x",
         "y": [
          1,
          327
         ],
         "yaxis": "y"
        }
       ],
       "layout": {
        "barmode": "group",
        "height": 800,
        "legend": {
         "title": {
          "text": "Customers Status"
         },
         "tracegroupgap": 0
        },
        "template": {
         "data": {
          "bar": [
           {
            "error_x": {
             "color": "#2a3f5f"
            },
            "error_y": {
             "color": "#2a3f5f"
            },
            "marker": {
             "line": {
              "color": "#E5ECF6",
              "width": 0.5
             }
            },
            "type": "bar"
           }
          ],
          "barpolar": [
           {
            "marker": {
             "line": {
              "color": "#E5ECF6",
              "width": 0.5
             }
            },
            "type": "barpolar"
           }
          ],
          "carpet": [
           {
            "aaxis": {
             "endlinecolor": "#2a3f5f",
             "gridcolor": "white",
             "linecolor": "white",
             "minorgridcolor": "white",
             "startlinecolor": "#2a3f5f"
            },
            "baxis": {
             "endlinecolor": "#2a3f5f",
             "gridcolor": "white",
             "linecolor": "white",
             "minorgridcolor": "white",
             "startlinecolor": "#2a3f5f"
            },
            "type": "carpet"
           }
          ],
          "choropleth": [
           {
            "colorbar": {
             "outlinewidth": 0,
             "ticks": ""
            },
            "type": "choropleth"
           }
          ],
          "contour": [
           {
            "colorbar": {
             "outlinewidth": 0,
             "ticks": ""
            },
            "colorscale": [
             [
              0,
              "#0d0887"
             ],
             [
              0.1111111111111111,
              "#46039f"
             ],
             [
              0.2222222222222222,
              "#7201a8"
             ],
             [
              0.3333333333333333,
              "#9c179e"
             ],
             [
              0.4444444444444444,
              "#bd3786"
             ],
             [
              0.5555555555555556,
              "#d8576b"
             ],
             [
              0.6666666666666666,
              "#ed7953"
             ],
             [
              0.7777777777777778,
              "#fb9f3a"
             ],
             [
              0.8888888888888888,
              "#fdca26"
             ],
             [
              1,
              "#f0f921"
             ]
            ],
            "type": "contour"
           }
          ],
          "contourcarpet": [
           {
            "colorbar": {
             "outlinewidth": 0,
             "ticks": ""
            },
            "type": "contourcarpet"
           }
          ],
          "heatmap": [
           {
            "colorbar": {
             "outlinewidth": 0,
             "ticks": ""
            },
            "colorscale": [
             [
              0,
              "#0d0887"
             ],
             [
              0.1111111111111111,
              "#46039f"
             ],
             [
              0.2222222222222222,
              "#7201a8"
             ],
             [
              0.3333333333333333,
              "#9c179e"
             ],
             [
              0.4444444444444444,
              "#bd3786"
             ],
             [
              0.5555555555555556,
              "#d8576b"
             ],
             [
              0.6666666666666666,
              "#ed7953"
             ],
             [
              0.7777777777777778,
              "#fb9f3a"
             ],
             [
              0.8888888888888888,
              "#fdca26"
             ],
             [
              1,
              "#f0f921"
             ]
            ],
            "type": "heatmap"
           }
          ],
          "heatmapgl": [
           {
            "colorbar": {
             "outlinewidth": 0,
             "ticks": ""
            },
            "colorscale": [
             [
              0,
              "#0d0887"
             ],
             [
              0.1111111111111111,
              "#46039f"
             ],
             [
              0.2222222222222222,
              "#7201a8"
             ],
             [
              0.3333333333333333,
              "#9c179e"
             ],
             [
              0.4444444444444444,
              "#bd3786"
             ],
             [
              0.5555555555555556,
              "#d8576b"
             ],
             [
              0.6666666666666666,
              "#ed7953"
             ],
             [
              0.7777777777777778,
              "#fb9f3a"
             ],
             [
              0.8888888888888888,
              "#fdca26"
             ],
             [
              1,
              "#f0f921"
             ]
            ],
            "type": "heatmapgl"
           }
          ],
          "histogram": [
           {
            "marker": {
             "colorbar": {
              "outlinewidth": 0,
              "ticks": ""
             }
            },
            "type": "histogram"
           }
          ],
          "histogram2d": [
           {
            "colorbar": {
             "outlinewidth": 0,
             "ticks": ""
            },
            "colorscale": [
             [
              0,
              "#0d0887"
             ],
             [
              0.1111111111111111,
              "#46039f"
             ],
             [
              0.2222222222222222,
              "#7201a8"
             ],
             [
              0.3333333333333333,
              "#9c179e"
             ],
             [
              0.4444444444444444,
              "#bd3786"
             ],
             [
              0.5555555555555556,
              "#d8576b"
             ],
             [
              0.6666666666666666,
              "#ed7953"
             ],
             [
              0.7777777777777778,
              "#fb9f3a"
             ],
             [
              0.8888888888888888,
              "#fdca26"
             ],
             [
              1,
              "#f0f921"
             ]
            ],
            "type": "histogram2d"
           }
          ],
          "histogram2dcontour": [
           {
            "colorbar": {
             "outlinewidth": 0,
             "ticks": ""
            },
            "colorscale": [
             [
              0,
              "#0d0887"
             ],
             [
              0.1111111111111111,
              "#46039f"
             ],
             [
              0.2222222222222222,
              "#7201a8"
             ],
             [
              0.3333333333333333,
              "#9c179e"
             ],
             [
              0.4444444444444444,
              "#bd3786"
             ],
             [
              0.5555555555555556,
              "#d8576b"
             ],
             [
              0.6666666666666666,
              "#ed7953"
             ],
             [
              0.7777777777777778,
              "#fb9f3a"
             ],
             [
              0.8888888888888888,
              "#fdca26"
             ],
             [
              1,
              "#f0f921"
             ]
            ],
            "type": "histogram2dcontour"
           }
          ],
          "mesh3d": [
           {
            "colorbar": {
             "outlinewidth": 0,
             "ticks": ""
            },
            "type": "mesh3d"
           }
          ],
          "parcoords": [
           {
            "line": {
             "colorbar": {
              "outlinewidth": 0,
              "ticks": ""
             }
            },
            "type": "parcoords"
           }
          ],
          "pie": [
           {
            "automargin": true,
            "type": "pie"
           }
          ],
          "scatter": [
           {
            "marker": {
             "colorbar": {
              "outlinewidth": 0,
              "ticks": ""
             }
            },
            "type": "scatter"
           }
          ],
          "scatter3d": [
           {
            "line": {
             "colorbar": {
              "outlinewidth": 0,
              "ticks": ""
             }
            },
            "marker": {
             "colorbar": {
              "outlinewidth": 0,
              "ticks": ""
             }
            },
            "type": "scatter3d"
           }
          ],
          "scattercarpet": [
           {
            "marker": {
             "colorbar": {
              "outlinewidth": 0,
              "ticks": ""
             }
            },
            "type": "scattercarpet"
           }
          ],
          "scattergeo": [
           {
            "marker": {
             "colorbar": {
              "outlinewidth": 0,
              "ticks": ""
             }
            },
            "type": "scattergeo"
           }
          ],
          "scattergl": [
           {
            "marker": {
             "colorbar": {
              "outlinewidth": 0,
              "ticks": ""
             }
            },
            "type": "scattergl"
           }
          ],
          "scattermapbox": [
           {
            "marker": {
             "colorbar": {
              "outlinewidth": 0,
              "ticks": ""
             }
            },
            "type": "scattermapbox"
           }
          ],
          "scatterpolar": [
           {
            "marker": {
             "colorbar": {
              "outlinewidth": 0,
              "ticks": ""
             }
            },
            "type": "scatterpolar"
           }
          ],
          "scatterpolargl": [
           {
            "marker": {
             "colorbar": {
              "outlinewidth": 0,
              "ticks": ""
             }
            },
            "type": "scatterpolargl"
           }
          ],
          "scatterternary": [
           {
            "marker": {
             "colorbar": {
              "outlinewidth": 0,
              "ticks": ""
             }
            },
            "type": "scatterternary"
           }
          ],
          "surface": [
           {
            "colorbar": {
             "outlinewidth": 0,
             "ticks": ""
            },
            "colorscale": [
             [
              0,
              "#0d0887"
             ],
             [
              0.1111111111111111,
              "#46039f"
             ],
             [
              0.2222222222222222,
              "#7201a8"
             ],
             [
              0.3333333333333333,
              "#9c179e"
             ],
             [
              0.4444444444444444,
              "#bd3786"
             ],
             [
              0.5555555555555556,
              "#d8576b"
             ],
             [
              0.6666666666666666,
              "#ed7953"
             ],
             [
              0.7777777777777778,
              "#fb9f3a"
             ],
             [
              0.8888888888888888,
              "#fdca26"
             ],
             [
              1,
              "#f0f921"
             ]
            ],
            "type": "surface"
           }
          ],
          "table": [
           {
            "cells": {
             "fill": {
              "color": "#EBF0F8"
             },
             "line": {
              "color": "white"
             }
            },
            "header": {
             "fill": {
              "color": "#C8D4E3"
             },
             "line": {
              "color": "white"
             }
            },
            "type": "table"
           }
          ]
         },
         "layout": {
          "annotationdefaults": {
           "arrowcolor": "#2a3f5f",
           "arrowhead": 0,
           "arrowwidth": 1
          },
          "coloraxis": {
           "colorbar": {
            "outlinewidth": 0,
            "ticks": ""
           }
          },
          "colorscale": {
           "diverging": [
            [
             0,
             "#8e0152"
            ],
            [
             0.1,
             "#c51b7d"
            ],
            [
             0.2,
             "#de77ae"
            ],
            [
             0.3,
             "#f1b6da"
            ],
            [
             0.4,
             "#fde0ef"
            ],
            [
             0.5,
             "#f7f7f7"
            ],
            [
             0.6,
             "#e6f5d0"
            ],
            [
             0.7,
             "#b8e186"
            ],
            [
             0.8,
             "#7fbc41"
            ],
            [
             0.9,
             "#4d9221"
            ],
            [
             1,
             "#276419"
            ]
           ],
           "sequential": [
            [
             0,
             "#0d0887"
            ],
            [
             0.1111111111111111,
             "#46039f"
            ],
            [
             0.2222222222222222,
             "#7201a8"
            ],
            [
             0.3333333333333333,
             "#9c179e"
            ],
            [
             0.4444444444444444,
             "#bd3786"
            ],
            [
             0.5555555555555556,
             "#d8576b"
            ],
            [
             0.6666666666666666,
             "#ed7953"
            ],
            [
             0.7777777777777778,
             "#fb9f3a"
            ],
            [
             0.8888888888888888,
             "#fdca26"
            ],
            [
             1,
             "#f0f921"
            ]
           ],
           "sequentialminus": [
            [
             0,
             "#0d0887"
            ],
            [
             0.1111111111111111,
             "#46039f"
            ],
            [
             0.2222222222222222,
             "#7201a8"
            ],
            [
             0.3333333333333333,
             "#9c179e"
            ],
            [
             0.4444444444444444,
             "#bd3786"
            ],
            [
             0.5555555555555556,
             "#d8576b"
            ],
            [
             0.6666666666666666,
             "#ed7953"
            ],
            [
             0.7777777777777778,
             "#fb9f3a"
            ],
            [
             0.8888888888888888,
             "#fdca26"
            ],
            [
             1,
             "#f0f921"
            ]
           ]
          },
          "colorway": [
           "#636efa",
           "#EF553B",
           "#00cc96",
           "#ab63fa",
           "#FFA15A",
           "#19d3f3",
           "#FF6692",
           "#B6E880",
           "#FF97FF",
           "#FECB52"
          ],
          "font": {
           "color": "#2a3f5f"
          },
          "geo": {
           "bgcolor": "white",
           "lakecolor": "white",
           "landcolor": "#E5ECF6",
           "showlakes": true,
           "showland": true,
           "subunitcolor": "white"
          },
          "hoverlabel": {
           "align": "left"
          },
          "hovermode": "closest",
          "mapbox": {
           "style": "light"
          },
          "paper_bgcolor": "white",
          "plot_bgcolor": "#E5ECF6",
          "polar": {
           "angularaxis": {
            "gridcolor": "white",
            "linecolor": "white",
            "ticks": ""
           },
           "bgcolor": "#E5ECF6",
           "radialaxis": {
            "gridcolor": "white",
            "linecolor": "white",
            "ticks": ""
           }
          },
          "scene": {
           "xaxis": {
            "backgroundcolor": "#E5ECF6",
            "gridcolor": "white",
            "gridwidth": 2,
            "linecolor": "white",
            "showbackground": true,
            "ticks": "",
            "zerolinecolor": "white"
           },
           "yaxis": {
            "backgroundcolor": "#E5ECF6",
            "gridcolor": "white",
            "gridwidth": 2,
            "linecolor": "white",
            "showbackground": true,
            "ticks": "",
            "zerolinecolor": "white"
           },
           "zaxis": {
            "backgroundcolor": "#E5ECF6",
            "gridcolor": "white",
            "gridwidth": 2,
            "linecolor": "white",
            "showbackground": true,
            "ticks": "",
            "zerolinecolor": "white"
           }
          },
          "shapedefaults": {
           "line": {
            "color": "#2a3f5f"
           }
          },
          "ternary": {
           "aaxis": {
            "gridcolor": "white",
            "linecolor": "white",
            "ticks": ""
           },
           "baxis": {
            "gridcolor": "white",
            "linecolor": "white",
            "ticks": ""
           },
           "bgcolor": "#E5ECF6",
           "caxis": {
            "gridcolor": "white",
            "linecolor": "white",
            "ticks": ""
           }
          },
          "title": {
           "x": 0.05
          },
          "xaxis": {
           "automargin": true,
           "gridcolor": "white",
           "linecolor": "white",
           "ticks": "",
           "title": {
            "standoff": 15
           },
           "zerolinecolor": "white",
           "zerolinewidth": 2
          },
          "yaxis": {
           "automargin": true,
           "gridcolor": "white",
           "linecolor": "white",
           "ticks": "",
           "title": {
            "standoff": 15
           },
           "zerolinecolor": "white",
           "zerolinewidth": 2
          }
         }
        },
        "title": {
         "text": "Customers Status based on Activities: 2015 - 2020"
        },
        "width": 1000,
        "xaxis": {
         "anchor": "y",
         "domain": [
          0,
          1
         ],
         "title": {
          "text": "Year"
         }
        },
        "yaxis": {
         "anchor": "x",
         "domain": [
          0,
          1
         ],
         "title": {
          "text": "Total Number of Customers"
         }
        }
       }
      }
     },
     "metadata": {}
    },
    {
     "output_type": "display_data",
     "data": {},
     "metadata": {}
    },
    {
     "output_type": "display_data",
     "data": {},
     "metadata": {}
    },
    {
     "output_type": "execute_result",
     "data": {
      "text/html": "<div id='6695'>\n\n\n\n\n\n  <div class=\"bk-root\" id=\"009e455c-0b46-4b13-9a13-cff1543942bf\" data-root-id=\"6695\"></div>\n</div>\n<script type=\"application/javascript\">(function(root) {\n  function embed_document(root) {\n  var docs_json = {\"bd6d4433-82af-4348-a7be-62e157cdd1fa\":{\"roots\":{\"references\":[{\"attributes\":{\"bottom_units\":\"screen\",\"fill_alpha\":0.5,\"fill_color\":\"lightgrey\",\"left_units\":\"screen\",\"level\":\"overlay\",\"line_alpha\":1.0,\"line_color\":\"black\",\"line_dash\":[4,4],\"line_width\":2,\"render_mode\":\"css\",\"right_units\":\"screen\",\"top_units\":\"screen\"},\"id\":\"6778\",\"type\":\"BoxAnnotation\"},{\"attributes\":{\"axis\":{\"id\":\"7186\"},\"grid_line_color\":null,\"ticker\":null},\"id\":\"7188\",\"type\":\"Grid\"},{\"attributes\":{},\"id\":\"7187\",\"type\":\"CategoricalTicker\"},{\"attributes\":{},\"id\":\"7190\",\"type\":\"BasicTicker\"},{\"attributes\":{\"axis\":{\"id\":\"7189\"},\"dimension\":1,\"grid_line_color\":null,\"ticker\":null},\"id\":\"7192\",\"type\":\"Grid\"},{\"attributes\":{\"align\":null,\"below\":[{\"id\":\"7186\"}],\"center\":[{\"id\":\"7188\"},{\"id\":\"7192\"}],\"left\":[{\"id\":\"7189\"}],\"margin\":null,\"min_border_bottom\":10,\"min_border_left\":10,\"min_border_right\":10,\"min_border_top\":10,\"plot_height\":500,\"plot_width\":1000,\"renderers\":[{\"id\":\"7212\"}],\"sizing_mode\":\"fixed\",\"title\":{\"id\":\"7178\"},\"toolbar\":{\"id\":\"7199\"},\"x_range\":{\"id\":\"6697\"},\"x_scale\":{\"id\":\"7182\"},\"y_range\":{\"id\":\"6698\"},\"y_scale\":{\"id\":\"7184\"}},\"id\":\"7177\",\"subtype\":\"Figure\",\"type\":\"Plot\"},{\"attributes\":{\"axis_label\":\"Total Sales\",\"axis_label_text_font_size\":\"20pt\",\"bounds\":\"auto\",\"formatter\":{\"id\":\"7214\"},\"major_label_orientation\":\"horizontal\",\"major_label_text_font_size\":\"20pt\",\"ticker\":{\"id\":\"7190\"}},\"id\":\"7189\",\"type\":\"LinearAxis\"},{\"attributes\":{\"format\":\"$%.0f\"},\"id\":\"6786\",\"type\":\"PrintfTickFormatter\"},{\"attributes\":{},\"id\":\"7184\",\"type\":\"LinearScale\"},{\"attributes\":{},\"id\":\"6788\",\"type\":\"CategoricalTickFormatter\"},{\"attributes\":{\"axis_label\":\"Year\",\"axis_label_text_font_size\":\"20pt\",\"bounds\":\"auto\",\"formatter\":{\"id\":\"7216\"},\"group_text_font_size\":\"20pt\",\"major_label_orientation\":\"horizontal\",\"major_label_text_font_size\":\"20pt\",\"ticker\":{\"id\":\"7187\"}},\"id\":\"7186\",\"type\":\"CategoricalAxis\"},{\"attributes\":{},\"id\":\"7194\",\"type\":\"PanTool\"},{\"attributes\":{\"callback\":null,\"renderers\":[{\"id\":\"7212\"}],\"tags\":[\"hv_created\"],\"tooltips\":[[\"Year\",\"@{Year}\"],[\"Invoice Amount\",\"@{Invoice_Amount}\"]]},\"id\":\"7176\",\"type\":\"HoverTool\"},{\"attributes\":{\"text\":\"Interactive Line Chart of the Average Income by State\",\"text_color\":{\"value\":\"black\"},\"text_font_size\":{\"value\":\"25pt\"}},\"id\":\"7178\",\"type\":\"Title\"},{\"attributes\":{\"source\":{\"id\":\"6795\"}},\"id\":\"6802\",\"type\":\"CDSView\"},{\"attributes\":{},\"id\":\"7182\",\"type\":\"CategoricalScale\"},{\"attributes\":{\"data_source\":{\"id\":\"6803\"},\"glyph\":{\"id\":\"6806\"},\"hover_glyph\":null,\"muted_glyph\":{\"id\":\"6808\"},\"nonselection_glyph\":{\"id\":\"6807\"},\"selection_glyph\":null,\"view\":{\"id\":\"6810\"}},\"id\":\"6809\",\"type\":\"GlyphRenderer\"},{\"attributes\":{\"axis_label\":\"Lowest Paying Customers\",\"axis_label_text_font_size\":\"20pt\",\"bounds\":\"auto\",\"formatter\":{\"id\":\"7039\"},\"group_text_font_size\":\"18pt\",\"major_label_orientation\":0.7853981633974483,\"major_label_text_font_size\":\"18pt\",\"ticker\":{\"id\":\"7010\"}},\"id\":\"7009\",\"type\":\"CategoricalAxis\"},{\"attributes\":{\"fill_color\":{\"value\":\"Orange\"},\"top\":{\"field\":\"Invoice_Amount\"},\"width\":{\"value\":0.8},\"x\":{\"field\":\"Month\"}},\"id\":\"6798\",\"type\":\"VBar\"},{\"attributes\":{},\"id\":\"7193\",\"type\":\"SaveTool\"},{\"attributes\":{\"data\":{\"Invoice_Amount\":{\"__ndarray__\":\"AAAAAACV1UAAAAAAAEC/QAAAAAAAcKdAAAAAAABAn0AAAAAAAILUQA==\",\"dtype\":\"float64\",\"shape\":[5]},\"Year\":[\"2015\",\"2016\",\"2018\",\"2019\",\"2020\"]},\"selected\":{\"id\":\"7207\"},\"selection_policy\":{\"id\":\"7230\"}},\"id\":\"7206\",\"type\":\"ColumnDataSource\"},{\"attributes\":{},\"id\":\"7195\",\"type\":\"WheelZoomTool\"},{\"attributes\":{\"data_source\":{\"id\":\"6795\"},\"glyph\":{\"id\":\"6798\"},\"hover_glyph\":null,\"muted_glyph\":{\"id\":\"6800\"},\"nonselection_glyph\":{\"id\":\"6799\"},\"selection_glyph\":null,\"view\":{\"id\":\"6802\"}},\"id\":\"6801\",\"type\":\"GlyphRenderer\"},{\"attributes\":{\"overlay\":{\"id\":\"7198\"}},\"id\":\"7196\",\"type\":\"BoxZoomTool\"},{\"attributes\":{\"fill_alpha\":{\"value\":0.1},\"fill_color\":{\"value\":\"Orange\"},\"line_alpha\":{\"value\":0.1},\"top\":{\"field\":\"Invoice_Amount\"},\"width\":{\"value\":0.8},\"x\":{\"field\":\"Month\"}},\"id\":\"6799\",\"type\":\"VBar\"},{\"attributes\":{},\"id\":\"7197\",\"type\":\"ResetTool\"},{\"attributes\":{\"fill_color\":\"Orange\",\"x\":{\"field\":\"x\"},\"y\":{\"field\":\"y\"}},\"id\":\"6806\",\"type\":\"Patch\"},{\"attributes\":{\"active_drag\":\"auto\",\"active_inspect\":\"auto\",\"active_multi\":null,\"active_scroll\":\"auto\",\"active_tap\":\"auto\",\"tools\":[{\"id\":\"7176\"},{\"id\":\"7193\"},{\"id\":\"7194\"},{\"id\":\"7195\"},{\"id\":\"7196\"},{\"id\":\"7197\"}]},\"id\":\"7199\",\"type\":\"Toolbar\"},{\"attributes\":{\"fill_alpha\":1,\"fill_color\":\"Orange\",\"line_alpha\":1,\"x\":{\"field\":\"x\"},\"y\":{\"field\":\"y\"}},\"id\":\"6807\",\"type\":\"Patch\"},{\"attributes\":{},\"id\":\"6796\",\"type\":\"Selection\"},{\"attributes\":{\"children\":[{\"id\":\"7234\"}],\"css_classes\":[\"widget-box\"],\"margin\":[5,5,5,5],\"name\":\"WidgetBox11939\"},\"id\":\"7233\",\"type\":\"Column\"},{\"attributes\":{\"fill_alpha\":{\"value\":0.2},\"fill_color\":{\"value\":\"Orange\"},\"line_alpha\":{\"value\":0.2},\"top\":{\"field\":\"Invoice_Amount\"},\"width\":{\"value\":0.8},\"x\":{\"field\":\"Month\"}},\"id\":\"6800\",\"type\":\"VBar\"},{\"attributes\":{\"children\":[{\"id\":\"7233\"},{\"id\":\"7235\"}],\"margin\":[0,0,0,0],\"name\":\"Column11945\"},\"id\":\"7232\",\"type\":\"Column\"},{\"attributes\":{},\"id\":\"6804\",\"type\":\"Selection\"},{\"attributes\":{\"fill_alpha\":0.2,\"fill_color\":\"Orange\",\"line_alpha\":0.2,\"x\":{\"field\":\"x\"},\"y\":{\"field\":\"y\"}},\"id\":\"6808\",\"type\":\"Patch\"},{\"attributes\":{\"data\":{\"x\":[\"January\",\"February\",\"March\",\"April\",\"May\",\"June\",\"July\",\"August\",\"September\",\"October\",\"November\",\"December\",\"December\",\"November\",\"October\",\"September\",\"August\",\"July\",\"June\",\"May\",\"April\",\"March\",\"February\",\"January\"],\"y\":{\"__ndarray__\":\"AAAAAAAAAAAAAAAAAAAAAAAAAAAAAAAAAAAAAAAAAAAAAAAAAAAAAAAAAAAAAAAAAAAAAAAAAAAAAAAAAAAAAAAAAAAAAAAAAAAAAAAAAAAAAAAAAAAAAAAAAAAAAAAAAAAAAKCM+UAAAAAAQNzqQAAAAADAWwFBAAAAAODG/EAAAAAAABLxQAAAAACA9fFAAAAAADAMCUEAAAAAWG4BQQAAAACA1/FAAAAAAECICUEAAAAAwI3SQAAAAACAs+JA\",\"dtype\":\"float64\",\"shape\":[24]}},\"selected\":{\"id\":\"6804\"},\"selection_policy\":{\"id\":\"6818\"}},\"id\":\"6803\",\"type\":\"ColumnDataSource\"},{\"attributes\":{\"source\":{\"id\":\"6803\"}},\"id\":\"6810\",\"type\":\"CDSView\"},{\"attributes\":{\"text\":\"Total Income by Subscription Type from 2015 to 2020\",\"text_color\":{\"value\":\"black\"},\"text_font_size\":{\"value\":\"25pt\"}},\"id\":\"6887\",\"type\":\"Title\"},{\"attributes\":{},\"id\":\"6891\",\"type\":\"CategoricalScale\"},{\"attributes\":{\"text\":\"Total Sales by Year from 2015 to 2020\",\"text_color\":{\"value\":\"black\"},\"text_font_size\":{\"value\":\"25pt\"}},\"id\":\"6701\",\"type\":\"Title\"},{\"attributes\":{\"axis_label\":\"Subscription Types\",\"axis_label_text_font_size\":\"20pt\",\"bounds\":\"auto\",\"formatter\":{\"id\":\"6925\"},\"group_text_font_size\":\"18pt\",\"major_label_orientation\":\"horizontal\",\"major_label_text_font_size\":\"18pt\",\"ticker\":{\"id\":\"6896\"}},\"id\":\"6895\",\"type\":\"CategoricalAxis\"},{\"attributes\":{},\"id\":\"6893\",\"type\":\"LinearScale\"},{\"attributes\":{},\"id\":\"7107\",\"type\":\"UnionRenderers\"},{\"attributes\":{\"axis_label\":\"Total Sales by Subscription (Tounsands of Dollars)\",\"axis_label_text_font_size\":\"20pt\",\"bounds\":\"auto\",\"formatter\":{\"id\":\"6923\"},\"major_label_orientation\":\"horizontal\",\"major_label_text_font_size\":\"20pt\",\"ticker\":{\"id\":\"6899\"}},\"id\":\"6898\",\"type\":\"LinearAxis\"},{\"attributes\":{\"end\":1203.9378420000003,\"reset_end\":1203.9378420000003,\"reset_start\":0.0,\"tags\":[[[\"Invoice Amount\",\"Invoice Amount\",null]]]},\"id\":\"6698\",\"type\":\"Range1d\"},{\"attributes\":{\"margin\":[5,5,5,5],\"name\":\"VSpacer11944\",\"sizing_mode\":\"stretch_height\"},\"id\":\"7235\",\"type\":\"Spacer\"},{\"attributes\":{},\"id\":\"6899\",\"type\":\"BasicTicker\"},{\"attributes\":{\"margin\":[20,20,20,20],\"min_width\":250,\"options\":[\"DC\",\"KS\",\"KY\",\"LA\",\"MD\",\"NV\",\"NY\",\"VA\",\"AL\",\"CA\",\"CT\",\"DE\",\"FL\",\"GA\",\"HI\",\"IL\",\"MI\",\"MO\",\"MS\",\"MT\",\"NC\",\"NJ\",\"OH\",\"OR\",\"PA\",\"SC\",\"UT\",\"VT\",\"AZ\",\"ND\",\"SA\",\"TN\",\"TX\",\"WA\",\"MA\",\"NM\",\"AR\",\"CO\",\"IN\",\"NH\",\"Canada\",\"GU\",\"ME\",\"MN\",\"NE\",\"OK\",\"RI\",\"WI\",\"WV\",\"WY\"],\"title\":\"State\",\"value\":\"DC\",\"width\":250},\"id\":\"7234\",\"type\":\"Select\"},{\"attributes\":{},\"id\":\"6705\",\"type\":\"CategoricalScale\"},{\"attributes\":{\"axis\":{\"id\":\"6895\"},\"ticker\":{\"id\":\"6896\"}},\"id\":\"6897\",\"type\":\"Grid\"},{\"attributes\":{\"margin\":[5,5,5,5],\"name\":\"Str11951\"},\"id\":\"7240\",\"type\":\"panel.models.markup.HTML\"},{\"attributes\":{\"axis\":{\"id\":\"6898\"},\"dimension\":1,\"ticker\":{\"id\":\"6899\"}},\"id\":\"6901\",\"type\":\"Grid\"},{\"attributes\":{},\"id\":\"6937\",\"type\":\"UnionRenderers\"},{\"attributes\":{},\"id\":\"6896\",\"type\":\"CategoricalTicker\"},{\"attributes\":{},\"id\":\"6902\",\"type\":\"SaveTool\"},{\"attributes\":{\"child\":{\"id\":\"7172\"},\"name\":\"Column11946\",\"title\":\"Interactive Plotting\"},\"id\":\"7236\",\"type\":\"Panel\"},{\"attributes\":{\"child\":{\"id\":\"7237\"},\"name\":\"Column11957\",\"title\":\"Subscription Analysis\"},\"id\":\"7243\",\"type\":\"Panel\"},{\"attributes\":{},\"id\":\"6713\",\"type\":\"BasicTicker\"},{\"attributes\":{},\"id\":\"6903\",\"type\":\"PanTool\"},{\"attributes\":{\"fill_color\":{\"value\":\"#1f77b3\"},\"top\":{\"field\":\"Invoice_Amount\"},\"width\":{\"value\":0.8},\"x\":{\"field\":\"Subscription\"}},\"id\":\"6918\",\"type\":\"VBar\"},{\"attributes\":{},\"id\":\"6904\",\"type\":\"WheelZoomTool\"},{\"attributes\":{\"overlay\":{\"id\":\"6907\"}},\"id\":\"6905\",\"type\":\"BoxZoomTool\"},{\"attributes\":{\"margin\":[5,5,5,5],\"name\":\"Str11949\"},\"id\":\"7239\",\"type\":\"panel.models.markup.HTML\"},{\"attributes\":{\"factors\":[\"2015\",\"2016\",\"2017\",\"2018\",\"2019\",\"2020\"],\"tags\":[[[\"Year\",\"Year\",null]]]},\"id\":\"6697\",\"type\":\"FactorRange\"},{\"attributes\":{},\"id\":\"6906\",\"type\":\"ResetTool\"},{\"attributes\":{\"margin\":[5,5,5,5],\"name\":\"Str11947\"},\"id\":\"7238\",\"type\":\"panel.models.markup.HTML\"},{\"attributes\":{\"align\":null,\"below\":[{\"id\":\"6709\"}],\"center\":[{\"id\":\"6711\"},{\"id\":\"6715\"}],\"left\":[{\"id\":\"6712\"}],\"margin\":null,\"min_border_bottom\":10,\"min_border_left\":10,\"min_border_right\":10,\"min_border_top\":10,\"plot_width\":1200,\"renderers\":[{\"id\":\"6735\"}],\"sizing_mode\":\"fixed\",\"title\":{\"id\":\"6701\"},\"toolbar\":{\"id\":\"6722\"},\"x_range\":{\"id\":\"6697\"},\"x_scale\":{\"id\":\"6705\"},\"y_range\":{\"id\":\"6698\"},\"y_scale\":{\"id\":\"6707\"}},\"id\":\"6700\",\"subtype\":\"Figure\",\"type\":\"Plot\"},{\"attributes\":{\"callback\":null,\"renderers\":[{\"id\":\"6735\"}],\"tags\":[\"hv_created\"],\"tooltips\":[[\"Year\",\"@{Year}\"],[\"Invoice Amount\",\"@{Invoice_Amount}\"]]},\"id\":\"6699\",\"type\":\"HoverTool\"},{\"attributes\":{},\"id\":\"6816\",\"type\":\"UnionRenderers\"},{\"attributes\":{\"format\":\"$%.0f\"},\"id\":\"6923\",\"type\":\"PrintfTickFormatter\"},{\"attributes\":{\"margin\":[5,5,5,5],\"name\":\"Str11953\"},\"id\":\"7241\",\"type\":\"panel.models.markup.HTML\"},{\"attributes\":{},\"id\":\"6710\",\"type\":\"CategoricalTicker\"},{\"attributes\":{\"margin\":[5,5,5,5],\"name\":\"Str11955\"},\"id\":\"7242\",\"type\":\"panel.models.markup.HTML\"},{\"attributes\":{\"axis_label\":\"Yearly Income (Tounsands of Dollars)\",\"axis_label_text_font_size\":\"20pt\",\"bounds\":\"auto\",\"formatter\":{\"id\":\"6737\"},\"major_label_orientation\":\"horizontal\",\"major_label_text_font_size\":\"20pt\",\"ticker\":{\"id\":\"6713\"}},\"id\":\"6712\",\"type\":\"LinearAxis\"},{\"attributes\":{\"axis_label\":\"Total Number of Years\",\"axis_label_text_font_size\":\"20pt\",\"bounds\":\"auto\",\"formatter\":{\"id\":\"6739\"},\"group_text_font_size\":\"18pt\",\"major_label_orientation\":\"horizontal\",\"major_label_text_font_size\":\"18pt\",\"ticker\":{\"id\":\"6710\"}},\"id\":\"6709\",\"type\":\"CategoricalAxis\"},{\"attributes\":{},\"id\":\"6925\",\"type\":\"CategoricalTickFormatter\"},{\"attributes\":{\"axis\":{\"id\":\"6709\"},\"ticker\":{\"id\":\"6710\"}},\"id\":\"6711\",\"type\":\"Grid\"},{\"attributes\":{\"axis\":{\"id\":\"6712\"},\"dimension\":1,\"ticker\":{\"id\":\"6713\"}},\"id\":\"6715\",\"type\":\"Grid\"},{\"attributes\":{\"child\":{\"id\":\"6696\"},\"name\":\"Column11409\",\"title\":\"Yearly Market Analysis\"},\"id\":\"6939\",\"type\":\"Panel\"},{\"attributes\":{},\"id\":\"6707\",\"type\":\"LinearScale\"},{\"attributes\":{\"align\":null,\"below\":[{\"id\":\"7121\"}],\"center\":[{\"id\":\"7123\"},{\"id\":\"7127\"}],\"left\":[{\"id\":\"7124\"}],\"margin\":null,\"min_border_bottom\":10,\"min_border_left\":10,\"min_border_right\":10,\"min_border_top\":10,\"plot_height\":800,\"plot_width\":1400,\"renderers\":[{\"id\":\"7147\"}],\"sizing_mode\":\"fixed\",\"title\":{\"id\":\"7113\"},\"toolbar\":{\"id\":\"7134\"},\"x_range\":{\"id\":\"7053\"},\"x_scale\":{\"id\":\"7117\"},\"y_range\":{\"id\":\"6698\"},\"y_scale\":{\"id\":\"7119\"}},\"id\":\"7112\",\"subtype\":\"Figure\",\"type\":\"Plot\"},{\"attributes\":{},\"id\":\"6716\",\"type\":\"SaveTool\"},{\"attributes\":{},\"id\":\"6717\",\"type\":\"PanTool\"},{\"attributes\":{},\"id\":\"6730\",\"type\":\"Selection\"},{\"attributes\":{},\"id\":\"6718\",\"type\":\"WheelZoomTool\"},{\"attributes\":{\"text\":\"Top 10 Highest Paying Customers of All Time\",\"text_color\":{\"value\":\"black\"},\"text_font_size\":{\"value\":\"25pt\"}},\"id\":\"6945\",\"type\":\"Title\"},{\"attributes\":{\"overlay\":{\"id\":\"6721\"}},\"id\":\"6719\",\"type\":\"BoxZoomTool\"},{\"attributes\":{\"bottom_units\":\"screen\",\"fill_alpha\":0.5,\"fill_color\":\"lightgrey\",\"left_units\":\"screen\",\"level\":\"overlay\",\"line_alpha\":1.0,\"line_color\":\"black\",\"line_dash\":[4,4],\"line_width\":2,\"render_mode\":\"css\",\"right_units\":\"screen\",\"top_units\":\"screen\"},\"id\":\"6907\",\"type\":\"BoxAnnotation\"},{\"attributes\":{\"children\":[{\"id\":\"7168\"},{\"id\":\"7170\"}],\"margin\":[0,0,0,0],\"name\":\"Column11905\"},\"id\":\"7166\",\"type\":\"Column\"},{\"attributes\":{},\"id\":\"6720\",\"type\":\"ResetTool\"},{\"attributes\":{\"callback\":null,\"renderers\":[{\"id\":\"6979\"}],\"tags\":[\"hv_created\"],\"tooltips\":[[\"Customers\",\"@{Customers}\"],[\"Invoice Amount\",\"@{Invoice_Amount}\"]]},\"id\":\"6943\",\"type\":\"HoverTool\"},{\"attributes\":{},\"id\":\"7117\",\"type\":\"CategoricalScale\"},{\"attributes\":{\"callback\":null,\"renderers\":[{\"id\":\"7147\"}],\"tags\":[\"hv_created\"],\"tooltips\":[[\"State\",\"@{State}\"],[\"Invoice Amount\",\"@{Invoice_Amount}\"]]},\"id\":\"7111\",\"type\":\"HoverTool\"},{\"attributes\":{\"text\":\"Top 10 Lowest Paying States of All Time\",\"text_color\":{\"value\":\"black\"},\"text_font_size\":{\"value\":\"25pt\"}},\"id\":\"7113\",\"type\":\"Title\"},{\"attributes\":{\"axis_label\":\"Total Invoiced ($)\",\"axis_label_text_font_size\":\"20pt\",\"bounds\":\"auto\",\"formatter\":{\"id\":\"7149\"},\"major_label_orientation\":\"horizontal\",\"major_label_text_font_size\":\"20pt\",\"ticker\":{\"id\":\"7125\"}},\"id\":\"7124\",\"type\":\"LinearAxis\"},{\"attributes\":{\"axis_label\":\"States\",\"axis_label_text_font_size\":\"20pt\",\"bounds\":\"auto\",\"formatter\":{\"id\":\"7151\"},\"group_text_font_size\":\"25pt\",\"major_label_orientation\":\"horizontal\",\"major_label_text_font_size\":\"25pt\",\"ticker\":{\"id\":\"7122\"}},\"id\":\"7121\",\"type\":\"CategoricalAxis\"},{\"attributes\":{},\"id\":\"7119\",\"type\":\"LinearScale\"},{\"attributes\":{},\"id\":\"7125\",\"type\":\"BasicTicker\"},{\"attributes\":{\"axis\":{\"id\":\"7121\"},\"ticker\":{\"id\":\"7122\"}},\"id\":\"7123\",\"type\":\"Grid\"},{\"attributes\":{\"data\":{\"Customers\":[\"University 30\",\"University 1\",\"University 44\",\"University 71\",\"University 7\",\"University 147\",\"University 164\",\"University 75\",\"University 88\",\"University 378\"],\"Invoice_Amount\":{\"__ndarray__\":\"AAAAAIBPAkEAAAAAwPcAQQAAAAAA5/hAAAAAAABq+EAAAAAAANbvQAAAAAAAzt1AAAAAAABF3UAAAAAAANXbQAAAAACAotlAAAAAAICi2UA=\",\"dtype\":\"float64\",\"shape\":[10]}},\"selected\":{\"id\":\"6974\"},\"selection_policy\":{\"id\":\"6995\"}},\"id\":\"6973\",\"type\":\"ColumnDataSource\"},{\"attributes\":{\"factors\":[\"University 30\",\"University 1\",\"University 44\",\"University 71\",\"University 7\",\"University 147\",\"University 164\",\"University 75\",\"University 88\",\"University 378\",\"University 346\",\"University 191\",\"University 218\",\"University 360\",\"University 171\",\"University 107\",\"University 337\",\"University 327\",\"University 359\",\"University 302\"],\"tags\":[[[\"Customers\",\"Customers\",null]]]},\"id\":\"6941\",\"type\":\"FactorRange\"},{\"attributes\":{\"axis\":{\"id\":\"7124\"},\"dimension\":1,\"ticker\":{\"id\":\"7125\"}},\"id\":\"7127\",\"type\":\"Grid\"},{\"attributes\":{\"active_drag\":\"auto\",\"active_inspect\":\"auto\",\"active_multi\":null,\"active_scroll\":\"auto\",\"active_tap\":\"auto\",\"tools\":[{\"id\":\"6885\"},{\"id\":\"6902\"},{\"id\":\"6903\"},{\"id\":\"6904\"},{\"id\":\"6905\"},{\"id\":\"6906\"}]},\"id\":\"6908\",\"type\":\"Toolbar\"},{\"attributes\":{},\"id\":\"7122\",\"type\":\"CategoricalTicker\"},{\"attributes\":{\"align\":null,\"below\":[{\"id\":\"6953\"}],\"center\":[{\"id\":\"6955\"},{\"id\":\"6959\"}],\"left\":[{\"id\":\"6956\"}],\"margin\":null,\"min_border_bottom\":10,\"min_border_left\":10,\"min_border_right\":10,\"min_border_top\":10,\"plot_height\":900,\"plot_width\":1400,\"renderers\":[{\"id\":\"6979\"}],\"sizing_mode\":\"fixed\",\"title\":{\"id\":\"6945\"},\"toolbar\":{\"id\":\"6966\"},\"x_range\":{\"id\":\"6941\"},\"x_scale\":{\"id\":\"6949\"},\"y_range\":{\"id\":\"6698\"},\"y_scale\":{\"id\":\"6951\"}},\"id\":\"6944\",\"subtype\":\"Figure\",\"type\":\"Plot\"},{\"attributes\":{},\"id\":\"7128\",\"type\":\"SaveTool\"},{\"attributes\":{\"bottom_units\":\"screen\",\"fill_alpha\":0.5,\"fill_color\":\"lightgrey\",\"left_units\":\"screen\",\"level\":\"overlay\",\"line_alpha\":1.0,\"line_color\":\"black\",\"line_dash\":[4,4],\"line_width\":2,\"render_mode\":\"css\",\"right_units\":\"screen\",\"top_units\":\"screen\"},\"id\":\"6721\",\"type\":\"BoxAnnotation\"},{\"attributes\":{},\"id\":\"7129\",\"type\":\"PanTool\"},{\"attributes\":{\"fill_alpha\":{\"value\":0.1},\"fill_color\":{\"value\":\"#1f77b3\"},\"line_alpha\":{\"value\":0.1},\"top\":{\"field\":\"Invoice_Amount\"},\"width\":{\"value\":0.8},\"x\":{\"field\":\"Subscription\"}},\"id\":\"6919\",\"type\":\"VBar\"},{\"attributes\":{\"active_drag\":\"auto\",\"active_inspect\":\"auto\",\"active_multi\":null,\"active_scroll\":\"auto\",\"active_tap\":\"auto\",\"tools\":[{\"id\":\"7055\"},{\"id\":\"7072\"},{\"id\":\"7073\"},{\"id\":\"7074\"},{\"id\":\"7075\"},{\"id\":\"7076\"}]},\"id\":\"7078\",\"type\":\"Toolbar\"},{\"attributes\":{\"data\":{\"Invoice_Amount\":{\"__ndarray__\":\"AAAAAABAb0AAAAAAAOCFQAAAAAAAUJRAAAAAAABwl0AAAAAAAHCXQAAAAAAAcKdAAAAAAABYq0AAAAAAAFivQAAAAAAAaLBAAAAAAABmsUA=\",\"dtype\":\"float64\",\"shape\":[10]},\"State\":[\"GU\",\"OK\",\"NE\",\"MT\",\"SA\",\"NH\",\"DE\",\"Canada\",\"VT\",\"ND\"]},\"selected\":{\"id\":\"7142\"},\"selection_policy\":{\"id\":\"7163\"}},\"id\":\"7141\",\"type\":\"ColumnDataSource\"},{\"attributes\":{},\"id\":\"6916\",\"type\":\"Selection\"},{\"attributes\":{},\"id\":\"7130\",\"type\":\"WheelZoomTool\"},{\"attributes\":{\"client_comm_id\":\"236122d181ec45c699a43d9bdaaad098\",\"comm_id\":\"c26c65cfb8194ab49e8ee00a9bac8607\",\"plot_id\":\"6695\"},\"id\":\"7430\",\"type\":\"panel.models.comm_manager.CommManager\"},{\"attributes\":{\"margin\":[0,0,0,0],\"tabs\":[{\"id\":\"6939\"},{\"id\":\"7165\"},{\"id\":\"7171\"},{\"id\":\"7236\"},{\"id\":\"7243\"}]},\"id\":\"6695\",\"type\":\"Tabs\"},{\"attributes\":{\"callback\":null,\"renderers\":[{\"id\":\"6921\"}],\"tags\":[\"hv_created\"],\"tooltips\":[[\"Subscription\",\"@{Subscription}\"],[\"Invoice Amount\",\"@{Invoice_Amount}\"]]},\"id\":\"6885\",\"type\":\"HoverTool\"},{\"attributes\":{\"children\":[{\"id\":\"6700\"},{\"id\":\"6757\"},{\"id\":\"6886\"}],\"margin\":[0,0,0,0],\"name\":\"Column11409\"},\"id\":\"6696\",\"type\":\"Column\"},{\"attributes\":{\"fill_alpha\":{\"value\":0.2},\"fill_color\":{\"value\":\"#1f77b3\"},\"line_alpha\":{\"value\":0.2},\"top\":{\"field\":\"Invoice_Amount\"},\"width\":{\"value\":0.8},\"x\":{\"field\":\"Subscription\"}},\"id\":\"6920\",\"type\":\"VBar\"},{\"attributes\":{\"overlay\":{\"id\":\"7133\"}},\"id\":\"7131\",\"type\":\"BoxZoomTool\"},{\"attributes\":{},\"id\":\"7272\",\"type\":\"Selection\"},{\"attributes\":{\"children\":[{\"id\":\"6944\"},{\"id\":\"7000\"},{\"id\":\"7056\"},{\"id\":\"7112\"}],\"margin\":[0,0,0,0],\"name\":\"Column11900\"},\"id\":\"6940\",\"type\":\"Column\"},{\"attributes\":{},\"id\":\"7132\",\"type\":\"ResetTool\"},{\"attributes\":{},\"id\":\"7273\",\"type\":\"UnionRenderers\"},{\"attributes\":{},\"id\":\"6949\",\"type\":\"CategoricalScale\"},{\"attributes\":{\"active_drag\":\"auto\",\"active_inspect\":\"auto\",\"active_multi\":null,\"active_scroll\":\"auto\",\"active_tap\":\"auto\",\"tools\":[{\"id\":\"7111\"},{\"id\":\"7128\"},{\"id\":\"7129\"},{\"id\":\"7130\"},{\"id\":\"7131\"},{\"id\":\"7132\"}]},\"id\":\"7134\",\"type\":\"Toolbar\"},{\"attributes\":{\"align\":null,\"below\":[{\"id\":\"6895\"}],\"center\":[{\"id\":\"6897\"},{\"id\":\"6901\"}],\"left\":[{\"id\":\"6898\"}],\"margin\":null,\"min_border_bottom\":10,\"min_border_left\":10,\"min_border_right\":10,\"min_border_top\":10,\"plot_height\":800,\"plot_width\":1400,\"renderers\":[{\"id\":\"6921\"}],\"sizing_mode\":\"fixed\",\"title\":{\"id\":\"6887\"},\"toolbar\":{\"id\":\"6908\"},\"x_range\":{\"id\":\"6883\"},\"x_scale\":{\"id\":\"6891\"},\"y_range\":{\"id\":\"6698\"},\"y_scale\":{\"id\":\"6893\"}},\"id\":\"6886\",\"subtype\":\"Figure\",\"type\":\"Plot\"},{\"attributes\":{\"data\":{\"Invoice_Amount\":{\"__ndarray__\":\"MzMzMzOLaUCamZmZmWFvQBsv3SQGW3JACtejcD1ybkAzMzMzMyFwQF75LM9DZJFA\",\"dtype\":\"float64\",\"shape\":[6]},\"Year\":[\"2015\",\"2016\",\"2017\",\"2018\",\"2019\",\"2020\"]},\"selected\":{\"id\":\"6730\"},\"selection_policy\":{\"id\":\"6751\"}},\"id\":\"6729\",\"type\":\"ColumnDataSource\"},{\"attributes\":{},\"id\":\"6951\",\"type\":\"LinearScale\"},{\"attributes\":{},\"id\":\"7274\",\"type\":\"Selection\"},{\"attributes\":{\"data_source\":{\"id\":\"6915\"},\"glyph\":{\"id\":\"6918\"},\"hover_glyph\":null,\"muted_glyph\":{\"id\":\"6920\"},\"nonselection_glyph\":{\"id\":\"6919\"},\"selection_glyph\":null,\"view\":{\"id\":\"6922\"}},\"id\":\"6921\",\"type\":\"GlyphRenderer\"},{\"attributes\":{},\"id\":\"7275\",\"type\":\"UnionRenderers\"},{\"attributes\":{\"factors\":[\"1 Year\",\"3 Years\",\"3 Months\",\"6 Months\",\"2 Years\",\"30 Days\"],\"tags\":[[[\"Subscription\",\"Subscription\",null]]]},\"id\":\"6883\",\"type\":\"FactorRange\"},{\"attributes\":{\"source\":{\"id\":\"6915\"}},\"id\":\"6922\",\"type\":\"CDSView\"},{\"attributes\":{\"active_drag\":\"auto\",\"active_inspect\":\"auto\",\"active_multi\":null,\"active_scroll\":\"auto\",\"active_tap\":\"auto\",\"tools\":[{\"id\":\"6699\"},{\"id\":\"6716\"},{\"id\":\"6717\"},{\"id\":\"6718\"},{\"id\":\"6719\"},{\"id\":\"6720\"}]},\"id\":\"6722\",\"type\":\"Toolbar\"},{\"attributes\":{\"axis_label\":\"Total Sales\",\"axis_label_text_font_size\":\"20pt\",\"bounds\":\"auto\",\"formatter\":{\"id\":\"6981\"},\"major_label_orientation\":\"horizontal\",\"major_label_text_font_size\":\"20pt\",\"ticker\":{\"id\":\"6957\"}},\"id\":\"6956\",\"type\":\"LinearAxis\"},{\"attributes\":{},\"id\":\"6954\",\"type\":\"CategoricalTicker\"},{\"attributes\":{\"axis\":{\"id\":\"6953\"},\"ticker\":{\"id\":\"6954\"}},\"id\":\"6955\",\"type\":\"Grid\"},{\"attributes\":{\"fill_color\":{\"value\":\"#1f77b3\"},\"top\":{\"field\":\"Invoice_Amount\"},\"width\":{\"value\":0.8},\"x\":{\"field\":\"Year\"}},\"id\":\"6732\",\"type\":\"VBar\"},{\"attributes\":{\"data\":{\"Invoice_Amount\":{\"__ndarray__\":\"f5HQlrPbmEAX2c73U2WAQIWUn1T7lF9A3SQGgZULV0AAAAAAAIA9QJqZmZmZmck/\",\"dtype\":\"float64\",\"shape\":[6]},\"Subscription\":[\"1 Year\",\"3 Years\",\"3 Months\",\"6 Months\",\"2 Years\",\"30 Days\"]},\"selected\":{\"id\":\"6916\"},\"selection_policy\":{\"id\":\"6937\"}},\"id\":\"6915\",\"type\":\"ColumnDataSource\"},{\"attributes\":{\"axis_label\":\"Highest Paying Customers\",\"axis_label_text_font_size\":\"20pt\",\"bounds\":\"auto\",\"formatter\":{\"id\":\"6983\"},\"group_text_font_size\":\"18pt\",\"major_label_orientation\":0.7853981633974483,\"major_label_text_font_size\":\"18pt\",\"ticker\":{\"id\":\"6954\"}},\"id\":\"6953\",\"type\":\"CategoricalAxis\"},{\"attributes\":{\"bottom_units\":\"screen\",\"fill_alpha\":0.5,\"fill_color\":\"lightgrey\",\"left_units\":\"screen\",\"level\":\"overlay\",\"line_alpha\":1.0,\"line_color\":\"black\",\"line_dash\":[4,4],\"line_width\":2,\"render_mode\":\"css\",\"right_units\":\"screen\",\"top_units\":\"screen\"},\"id\":\"7133\",\"type\":\"BoxAnnotation\"},{\"attributes\":{\"bottom_units\":\"screen\",\"fill_alpha\":0.5,\"fill_color\":\"lightgrey\",\"left_units\":\"screen\",\"level\":\"overlay\",\"line_alpha\":1.0,\"line_color\":\"black\",\"line_dash\":[4,4],\"line_width\":2,\"render_mode\":\"css\",\"right_units\":\"screen\",\"top_units\":\"screen\"},\"id\":\"7077\",\"type\":\"BoxAnnotation\"},{\"attributes\":{\"fill_alpha\":{\"value\":0.1},\"fill_color\":{\"value\":\"#1f77b3\"},\"line_alpha\":{\"value\":0.1},\"top\":{\"field\":\"Invoice_Amount\"},\"width\":{\"value\":0.8},\"x\":{\"field\":\"State\"}},\"id\":\"7145\",\"type\":\"VBar\"},{\"attributes\":{},\"id\":\"7142\",\"type\":\"Selection\"},{\"attributes\":{\"fill_color\":{\"value\":\"#1f77b3\"},\"top\":{\"field\":\"Invoice_Amount\"},\"width\":{\"value\":0.8},\"x\":{\"field\":\"State\"}},\"id\":\"7144\",\"type\":\"VBar\"},{\"attributes\":{\"fill_alpha\":{\"value\":0.2},\"fill_color\":{\"value\":\"#1f77b3\"},\"line_alpha\":{\"value\":0.2},\"top\":{\"field\":\"Invoice_Amount\"},\"width\":{\"value\":0.8},\"x\":{\"field\":\"State\"}},\"id\":\"7146\",\"type\":\"VBar\"},{\"attributes\":{},\"id\":\"6767\",\"type\":\"CategoricalTicker\"},{\"attributes\":{\"data_source\":{\"id\":\"7141\"},\"glyph\":{\"id\":\"7144\"},\"hover_glyph\":null,\"muted_glyph\":{\"id\":\"7146\"},\"nonselection_glyph\":{\"id\":\"7145\"},\"selection_glyph\":null,\"view\":{\"id\":\"7148\"}},\"id\":\"7147\",\"type\":\"GlyphRenderer\"},{\"attributes\":{\"source\":{\"id\":\"7141\"}},\"id\":\"7148\",\"type\":\"CDSView\"},{\"attributes\":{\"fill_alpha\":{\"value\":0.1},\"fill_color\":{\"value\":\"#1f77b3\"},\"line_alpha\":{\"value\":0.1},\"top\":{\"field\":\"Invoice_Amount\"},\"width\":{\"value\":0.8},\"x\":{\"field\":\"State\"}},\"id\":\"7089\",\"type\":\"VBar\"},{\"attributes\":{\"format\":\"$%.0f\"},\"id\":\"7149\",\"type\":\"PrintfTickFormatter\"},{\"attributes\":{},\"id\":\"7086\",\"type\":\"Selection\"},{\"attributes\":{\"child\":{\"id\":\"6940\"},\"name\":\"Column11900\",\"title\":\"Neighborhood Analysis\"},\"id\":\"7165\",\"type\":\"Panel\"},{\"attributes\":{\"fill_color\":{\"value\":\"#1f77b3\"},\"top\":{\"field\":\"Invoice_Amount\"},\"width\":{\"value\":0.8},\"x\":{\"field\":\"State\"}},\"id\":\"7088\",\"type\":\"VBar\"},{\"attributes\":{},\"id\":\"6770\",\"type\":\"BasicTicker\"},{\"attributes\":{\"fill_alpha\":{\"value\":0.2},\"fill_color\":{\"value\":\"#1f77b3\"},\"line_alpha\":{\"value\":0.2},\"top\":{\"field\":\"Invoice_Amount\"},\"width\":{\"value\":0.8},\"x\":{\"field\":\"State\"}},\"id\":\"7090\",\"type\":\"VBar\"},{\"attributes\":{},\"id\":\"7151\",\"type\":\"CategoricalTickFormatter\"},{\"attributes\":{\"data_source\":{\"id\":\"7085\"},\"glyph\":{\"id\":\"7088\"},\"hover_glyph\":null,\"muted_glyph\":{\"id\":\"7090\"},\"nonselection_glyph\":{\"id\":\"7089\"},\"selection_glyph\":null,\"view\":{\"id\":\"7092\"}},\"id\":\"7091\",\"type\":\"GlyphRenderer\"},{\"attributes\":{\"source\":{\"id\":\"7085\"}},\"id\":\"7092\",\"type\":\"CDSView\"},{\"attributes\":{\"format\":\"$%.0f\"},\"id\":\"7093\",\"type\":\"PrintfTickFormatter\"},{\"attributes\":{},\"id\":\"6762\",\"type\":\"CategoricalScale\"},{\"attributes\":{\"align\":null,\"below\":[{\"id\":\"6766\"}],\"center\":[{\"id\":\"6768\"},{\"id\":\"6772\"}],\"left\":[{\"id\":\"6769\"}],\"margin\":null,\"min_border_bottom\":10,\"min_border_left\":10,\"min_border_right\":10,\"min_border_top\":10,\"plot_height\":800,\"plot_width\":1400,\"renderers\":[{\"id\":\"6801\"},{\"id\":\"6809\"}],\"sizing_mode\":\"fixed\",\"title\":{\"id\":\"6758\"},\"toolbar\":{\"id\":\"6779\"},\"x_range\":{\"id\":\"6753\"},\"x_scale\":{\"id\":\"6762\"},\"y_range\":{\"id\":\"6698\"},\"y_scale\":{\"id\":\"6764\"}},\"id\":\"6757\",\"subtype\":\"Figure\",\"type\":\"Plot\"},{\"attributes\":{},\"id\":\"7095\",\"type\":\"CategoricalTickFormatter\"},{\"attributes\":{\"callback\":null,\"renderers\":[{\"id\":\"6801\"},{\"id\":\"6809\"}],\"tags\":[\"hv_created\"],\"tooltips\":[[\"Month\",\"@{Month}\"],[\"Invoice Amount\",\"@{Invoice_Amount}\"]]},\"id\":\"6755\",\"type\":\"HoverTool\"},{\"attributes\":{\"text\":\"Busiest Months of the Year for Sales from 2015 to 2020\",\"text_color\":{\"value\":\"black\"},\"text_font_size\":{\"value\":\"25pt\"}},\"id\":\"6758\",\"type\":\"Title\"},{\"attributes\":{\"axis\":{\"id\":\"6769\"},\"dimension\":1,\"ticker\":{\"id\":\"6770\"}},\"id\":\"6772\",\"type\":\"Grid\"},{\"attributes\":{\"axis_label\":\"Average Monthly Income\",\"axis_label_text_font_size\":\"20pt\",\"bounds\":\"auto\",\"formatter\":{\"id\":\"6786\"},\"major_label_orientation\":\"horizontal\",\"major_label_text_font_size\":\"20pt\",\"ticker\":{\"id\":\"6770\"}},\"id\":\"6769\",\"type\":\"LinearAxis\"},{\"attributes\":{},\"id\":\"6764\",\"type\":\"LinearScale\"},{\"attributes\":{\"axis\":{\"id\":\"6766\"},\"ticker\":{\"id\":\"6767\"}},\"id\":\"6768\",\"type\":\"Grid\"},{\"attributes\":{},\"id\":\"6773\",\"type\":\"SaveTool\"},{\"attributes\":{\"axis_label\":\"Months\",\"axis_label_text_font_size\":\"20pt\",\"bounds\":\"auto\",\"formatter\":{\"id\":\"6788\"},\"group_text_font_size\":\"18pt\",\"major_label_orientation\":0.7853981633974483,\"major_label_text_font_size\":\"18pt\",\"ticker\":{\"id\":\"6767\"}},\"id\":\"6766\",\"type\":\"CategoricalAxis\"},{\"attributes\":{},\"id\":\"7163\",\"type\":\"UnionRenderers\"},{\"attributes\":{\"factors\":[\"January\",\"February\",\"March\",\"April\",\"May\",\"June\",\"July\",\"August\",\"September\",\"October\",\"November\",\"December\"],\"tags\":[[[\"Month\",\"Month\",null]]]},\"id\":\"6753\",\"type\":\"FactorRange\"},{\"attributes\":{},\"id\":\"6774\",\"type\":\"PanTool\"},{\"attributes\":{},\"id\":\"6775\",\"type\":\"WheelZoomTool\"},{\"attributes\":{},\"id\":\"6818\",\"type\":\"UnionRenderers\"},{\"attributes\":{\"overlay\":{\"id\":\"6778\"}},\"id\":\"6776\",\"type\":\"BoxZoomTool\"},{\"attributes\":{},\"id\":\"6777\",\"type\":\"ResetTool\"},{\"attributes\":{\"active_drag\":\"auto\",\"active_inspect\":\"auto\",\"active_multi\":null,\"active_scroll\":\"auto\",\"active_tap\":\"auto\",\"tools\":[{\"id\":\"6755\"},{\"id\":\"6773\"},{\"id\":\"6774\"},{\"id\":\"6775\"},{\"id\":\"6776\"},{\"id\":\"6777\"}]},\"id\":\"6779\",\"type\":\"Toolbar\"},{\"attributes\":{},\"id\":\"7013\",\"type\":\"BasicTicker\"},{\"attributes\":{\"bottom_units\":\"screen\",\"fill_alpha\":0.5,\"fill_color\":\"lightgrey\",\"left_units\":\"screen\",\"level\":\"overlay\",\"line_alpha\":1.0,\"line_color\":\"black\",\"line_dash\":[4,4],\"line_width\":2,\"render_mode\":\"css\",\"right_units\":\"screen\",\"top_units\":\"screen\"},\"id\":\"7198\",\"type\":\"BoxAnnotation\"},{\"attributes\":{\"fill_alpha\":{\"value\":0.2},\"fill_color\":{\"value\":\"#1f77b3\"},\"line_alpha\":{\"value\":0.2},\"top\":{\"field\":\"Invoice_Amount\"},\"width\":{\"value\":0.8},\"x\":{\"field\":\"Year\"}},\"id\":\"6734\",\"type\":\"VBar\"},{\"attributes\":{},\"id\":\"6957\",\"type\":\"BasicTicker\"},{\"attributes\":{\"axis\":{\"id\":\"6956\"},\"dimension\":1,\"ticker\":{\"id\":\"6957\"}},\"id\":\"6959\",\"type\":\"Grid\"},{\"attributes\":{\"axis\":{\"id\":\"7012\"},\"dimension\":1,\"ticker\":{\"id\":\"7013\"}},\"id\":\"7015\",\"type\":\"Grid\"},{\"attributes\":{\"fill_alpha\":{\"value\":0.1},\"fill_color\":{\"value\":\"#1f77b3\"},\"line_alpha\":{\"value\":0.1},\"top\":{\"field\":\"Invoice_Amount\"},\"width\":{\"value\":0.8},\"x\":{\"field\":\"Year\"}},\"id\":\"6733\",\"type\":\"VBar\"},{\"attributes\":{},\"id\":\"6961\",\"type\":\"PanTool\"},{\"attributes\":{},\"id\":\"7017\",\"type\":\"PanTool\"},{\"attributes\":{\"fill_color\":{\"value\":\"#1f77b3\"},\"top\":{\"field\":\"Invoice_Amount\"},\"width\":{\"value\":0.8},\"x\":{\"field\":\"Customers\"}},\"id\":\"7032\",\"type\":\"VBar\"},{\"attributes\":{\"child\":{\"id\":\"7166\"},\"name\":\"Column11905\",\"title\":\"Parallel Plots\"},\"id\":\"7171\",\"type\":\"Panel\"},{\"attributes\":{\"fill_color\":{\"value\":\"#1f77b3\"},\"top\":{\"field\":\"Invoice_Amount\"},\"width\":{\"value\":0.8},\"x\":{\"field\":\"Customers\"}},\"id\":\"6976\",\"type\":\"VBar\"},{\"attributes\":{\"data\":{\"dimensions.0.values\":[{\"__ndarray__\":\"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\",\"dtype\":\"float64\",\"shape\":[700]}],\"dimensions.1.values\":[{\"__ndarray__\":\"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\",\"dtype\":\"float64\",\"shape\":[700]}],\"dimensions.2.values\":[[2015,2015,2015,2015,2015,2015,2015,2015,2015,2015,2016,2016,2016,2016,2016,2016,2016,2016,2016,2016,2016,2016,2016,2016,2016,2016,2016,2016,2016,2016,2016,2016,2016,2016,2016,2016,2016,2016,2016,2016,2016,2016,2016,2016,2016,2016,2016,2016,2016,2016,2016,2016,2016,2016,2016,2016,2016,2016,2016,2016,2016,2016,2016,2016,2016,2017,2017,2017,2017,2017,2017,2017,2017,2017,2017,2017,2017,2017,2017,2017,2017,2017,2017,2017,2017,2017,2017,2017,2017,2017,2017,2017,2017,2017,2017,2017,2017,2017,2017,2017,2017,2017,2017,2017,2017,2017,2017,2017,2017,2017,2017,2017,2017,2017,2017,2017,2017,2017,2017,2017,2017,2017,2018,2018,2018,2018,2018,2018,2018,2018,2018,2018,2018,2018,2018,2018,2018,2018,2018,2018,2018,2018,2018,2018,2018,2018,2018,2018,2018,2018,2018,2018,2018,2018,2018,2018,2018,2018,2018,2018,2018,2018,2018,2018,2018,2018,2018,2018,2018,2018,2018,2018,2018,2018,2018,2018,2018,2018,2018,2018,2018,2018,2018,2018,2018,2018,2019,2019,2019,2019,2019,2019,2019,2019,2019,2019,2019,2019,2019,2019,2019,2019,2019,2019,2019,2019,2019,2019,2019,2019,2019,2019,2019,2019,2019,2019,2019,2019,2019,2019,2019,2019,2019,2019,2019,2019,2019,2019,2019,2019,2019,2019,2019,2019,2019,2019,2019,2019,2019,2019,2019,2019,2019,2019,2019,2019,2019,2019,2019,2019,2019,2019,2019,2019,2019,2019,2019,2019,2019,2019,2019,2020,2020,2020,2020,2020,2020,2020,2020,2020,2020,2020,2020,2020,2020,2020,2020,2020,2020,2020,2020,2020,2020,2020,2020,2020,2020,2020,2020,2020,2020,2020,2020,2020,2020,2020,2020,2020,2020,2020,2020,2020,2020,2020,2020,2020,2020,2020,2020,2020,2020,2020,2020,2020,2020,2020,2020,2020,2020,2020,2020,2020,2020,2020,2020,2020,2020,2020,2020,2020,2020,2020,2020,2020,2020,2020,2020,2020,2020,2020,2020,2020,2020,2020,2020,2020,2020,2020,2020,2020,2020,2020,2020,2020,2020,2020,2020,2020,2020,2020,2020,2020,2020,2020,2020,2020,2020,2020,2020,2020,2020,2020,2020,2020,2020,2020,2020,2020,2020,2020,2020,2020,2020,2020,2020,2020,2020,2020,2020,2020,2020,2020,2020,2020,2020,2020,2020,2020,2020,2020,2020,2020,2020,2020,2020,2020,2020,2020,2020,2020,2020,2020,2020,2020,2020,2020,2020,2020,2020,2020,2020,2020,2020,2020,2020,2020,2020,2020,2020,2020,2020,2020,2020,2020,2020,2020,2020,2020,2020,2020,2020,2020,2020,2020,2020,2020,2020,2020,2020,2020,2020,2020,2020,2020,2020,2020,2020,2020,2020,2020,2020,2020,2020,2020,2020,2020,2020,2020,2020,2020,2020,2020,2020,2020,2020,2020,2020,2020,2020,2020,2020,2020,2020,2020,2020,2020,2020,2020,2020,2020,2020,2020,2020,2020,2020,2020,2020,2020,2020,2020,2020,2020,2020,2020,2020,2020,2020,2020,2020,2020,2020,2020,2020,2020,2020,2020,2020,2020,2020,2020,2020,2020,2020,2020,2020,2020,2020,2020,2020,2020,2020,2020,2020,2020,2020,2020,2020,2020,2020,2020,2020,2020,2020,2020,2020,2020,2020,2020,2020,2020,2020,2020,2020,2020,2020,2020,2020,2020,2020,2020,2020,2020,2020,2020,2020,2020,2020,2020,2020,2020,2020,2020,2020,2020,2020,2020,2020,2020,2020,2020,2020,2020,2020,2020,2020,2020,2020,2020,2020,2020,2020,2020,2020,2020,2020,2020,2020,2020,2020,2020,2020,2020,2020,2020,2020,2020,2020,2020,2020,2020,2020,2020,2020,2020,2020,2020,2020,2020,2020,2020,2020,2020,2020,2020,2020,2020,2020,2020,2020,2020,2020,2020,2020,2020,2020,2020,2020,2020,2020,2020,2020,2020,2020,2020,2020,2020,2020,2020,2020,2020,2020,2020,2020,2020,2020,2020,2020,2020,2020,2020,2020,2020,2020,2020,2020,2020,2020,2020,2020,2020,2020,2020,2020,2020,2020,2020,2020,2020,2020,2020,2020,2020,2020,2020,2020,2020,2020,2020,2020,2020,2020,2020,2020,2020,2020,2020,2020,2020,2020,2020]],\"line.color\":[{\"__ndarray__\":\"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\",\"dtype\":\"float64\",\"shape\":[700]}]},\"selected\":{\"id\":\"7272\"},\"selection_policy\":{\"id\":\"7273\"}},\"id\":\"7167\",\"type\":\"ColumnDataSource\"},{\"attributes\":{},\"id\":\"6960\",\"type\":\"SaveTool\"},{\"attributes\":{},\"id\":\"7016\",\"type\":\"SaveTool\"},{\"attributes\":{\"children\":[{\"id\":\"7173\"}],\"margin\":[0,0,0,0],\"name\":\"Column11946\"},\"id\":\"7172\",\"type\":\"Column\"},{\"attributes\":{},\"id\":\"6962\",\"type\":\"WheelZoomTool\"},{\"attributes\":{},\"id\":\"7018\",\"type\":\"WheelZoomTool\"},{\"attributes\":{\"_render_count\":0,\"config\":null,\"data\":[{\"dimensions\":[{\"label\":\"Number of Users\"},{\"label\":\"Invoice Amount\"},{\"label\":\"Year\"}],\"domain\":{\"x\":[0.0,1.0],\"y\":[0.0,1.0]},\"line\":{\"coloraxis\":\"coloraxis\"},\"name\":\"\",\"type\":\"parcoords\"}],\"data_sources\":[{\"id\":\"7167\"}],\"layout\":{\"coloraxis\":{\"colorbar\":{\"title\":{\"text\":\"Invoice Amount\"}},\"colorscale\":[[0.0,\"#0d0887\"],[0.1111111111111111,\"#46039f\"],[0.2222222222222222,\"#7201a8\"],[0.3333333333333333,\"#9c179e\"],[0.4444444444444444,\"#bd3786\"],[0.5555555555555556,\"#d8576b\"],[0.6666666666666666,\"#ed7953\"],[0.7777777777777778,\"#fb9f3a\"],[0.8888888888888888,\"#fdca26\"],[1.0,\"#f0f921\"]]},\"legend\":{\"tracegroupgap\":0},\"template\":{\"data\":{\"bar\":[{\"error_x\":{\"color\":\"#2a3f5f\"},\"error_y\":{\"color\":\"#2a3f5f\"},\"marker\":{\"line\":{\"color\":\"#E5ECF6\",\"width\":0.5}},\"type\":\"bar\"}],\"barpolar\":[{\"marker\":{\"line\":{\"color\":\"#E5ECF6\",\"width\":0.5}},\"type\":\"barpolar\"}],\"carpet\":[{\"aaxis\":{\"endlinecolor\":\"#2a3f5f\",\"gridcolor\":\"white\",\"linecolor\":\"white\",\"minorgridcolor\":\"white\",\"startlinecolor\":\"#2a3f5f\"},\"baxis\":{\"endlinecolor\":\"#2a3f5f\",\"gridcolor\":\"white\",\"linecolor\":\"white\",\"minorgridcolor\":\"white\",\"startlinecolor\":\"#2a3f5f\"},\"type\":\"carpet\"}],\"choropleth\":[{\"colorbar\":{\"outlinewidth\":0,\"ticks\":\"\"},\"type\":\"choropleth\"}],\"contour\":[{\"colorbar\":{\"outlinewidth\":0,\"ticks\":\"\"},\"colorscale\":[[0.0,\"#0d0887\"],[0.1111111111111111,\"#46039f\"],[0.2222222222222222,\"#7201a8\"],[0.3333333333333333,\"#9c179e\"],[0.4444444444444444,\"#bd3786\"],[0.5555555555555556,\"#d8576b\"],[0.6666666666666666,\"#ed7953\"],[0.7777777777777778,\"#fb9f3a\"],[0.8888888888888888,\"#fdca26\"],[1.0,\"#f0f921\"]],\"type\":\"contour\"}],\"contourcarpet\":[{\"colorbar\":{\"outlinewidth\":0,\"ticks\":\"\"},\"type\":\"contourcarpet\"}],\"heatmap\":[{\"colorbar\":{\"outlinewidth\":0,\"ticks\":\"\"},\"colorscale\":[[0.0,\"#0d0887\"],[0.1111111111111111,\"#46039f\"],[0.2222222222222222,\"#7201a8\"],[0.3333333333333333,\"#9c179e\"],[0.4444444444444444,\"#bd3786\"],[0.5555555555555556,\"#d8576b\"],[0.6666666666666666,\"#ed7953\"],[0.7777777777777778,\"#fb9f3a\"],[0.8888888888888888,\"#fdca26\"],[1.0,\"#f0f921\"]],\"type\":\"heatmap\"}],\"heatmapgl\":[{\"colorbar\":{\"outlinewidth\":0,\"ticks\":\"\"},\"colorscale\":[[0.0,\"#0d0887\"],[0.1111111111111111,\"#46039f\"],[0.2222222222222222,\"#7201a8\"],[0.3333333333333333,\"#9c179e\"],[0.4444444444444444,\"#bd3786\"],[0.5555555555555556,\"#d8576b\"],[0.6666666666666666,\"#ed7953\"],[0.7777777777777778,\"#fb9f3a\"],[0.8888888888888888,\"#fdca26\"],[1.0,\"#f0f921\"]],\"type\":\"heatmapgl\"}],\"histogram\":[{\"marker\":{\"colorbar\":{\"outlinewidth\":0,\"ticks\":\"\"}},\"type\":\"histogram\"}],\"histogram2d\":[{\"colorbar\":{\"outlinewidth\":0,\"ticks\":\"\"},\"colorscale\":[[0.0,\"#0d0887\"],[0.1111111111111111,\"#46039f\"],[0.2222222222222222,\"#7201a8\"],[0.3333333333333333,\"#9c179e\"],[0.4444444444444444,\"#bd3786\"],[0.5555555555555556,\"#d8576b\"],[0.6666666666666666,\"#ed7953\"],[0.7777777777777778,\"#fb9f3a\"],[0.8888888888888888,\"#fdca26\"],[1.0,\"#f0f921\"]],\"type\":\"histogram2d\"}],\"histogram2dcontour\":[{\"colorbar\":{\"outlinewidth\":0,\"ticks\":\"\"},\"colorscale\":[[0.0,\"#0d0887\"],[0.1111111111111111,\"#46039f\"],[0.2222222222222222,\"#7201a8\"],[0.3333333333333333,\"#9c179e\"],[0.4444444444444444,\"#bd3786\"],[0.5555555555555556,\"#d8576b\"],[0.6666666666666666,\"#ed7953\"],[0.7777777777777778,\"#fb9f3a\"],[0.8888888888888888,\"#fdca26\"],[1.0,\"#f0f921\"]],\"type\":\"histogram2dcontour\"}],\"mesh3d\":[{\"colorbar\":{\"outlinewidth\":0,\"ticks\":\"\"},\"type\":\"mesh3d\"}],\"parcoords\":[{\"line\":{\"colorbar\":{\"outlinewidth\":0,\"ticks\":\"\"}},\"type\":\"parcoords\"}],\"pie\":[{\"automargin\":true,\"type\":\"pie\"}],\"scatter\":[{\"marker\":{\"colorbar\":{\"outlinewidth\":0,\"ticks\":\"\"}},\"type\":\"scatter\"}],\"scatter3d\":[{\"line\":{\"colorbar\":{\"outlinewidth\":0,\"ticks\":\"\"}},\"marker\":{\"colorbar\":{\"outlinewidth\":0,\"ticks\":\"\"}},\"type\":\"scatter3d\"}],\"scattercarpet\":[{\"marker\":{\"colorbar\":{\"outlinewidth\":0,\"ticks\":\"\"}},\"type\":\"scattercarpet\"}],\"scattergeo\":[{\"marker\":{\"colorbar\":{\"outlinewidth\":0,\"ticks\":\"\"}},\"type\":\"scattergeo\"}],\"scattergl\":[{\"marker\":{\"colorbar\":{\"outlinewidth\":0,\"ticks\":\"\"}},\"type\":\"scattergl\"}],\"scattermapbox\":[{\"marker\":{\"colorbar\":{\"outlinewidth\":0,\"ticks\":\"\"}},\"type\":\"scattermapbox\"}],\"scatterpolar\":[{\"marker\":{\"colorbar\":{\"outlinewidth\":0,\"ticks\":\"\"}},\"type\":\"scatterpolar\"}],\"scatterpolargl\":[{\"marker\":{\"colorbar\":{\"outlinewidth\":0,\"ticks\":\"\"}},\"type\":\"scatterpolargl\"}],\"scatterternary\":[{\"marker\":{\"colorbar\":{\"outlinewidth\":0,\"ticks\":\"\"}},\"type\":\"scatterternary\"}],\"surface\":[{\"colorbar\":{\"outlinewidth\":0,\"ticks\":\"\"},\"colorscale\":[[0.0,\"#0d0887\"],[0.1111111111111111,\"#46039f\"],[0.2222222222222222,\"#7201a8\"],[0.3333333333333333,\"#9c179e\"],[0.4444444444444444,\"#bd3786\"],[0.5555555555555556,\"#d8576b\"],[0.6666666666666666,\"#ed7953\"],[0.7777777777777778,\"#fb9f3a\"],[0.8888888888888888,\"#fdca26\"],[1.0,\"#f0f921\"]],\"type\":\"surface\"}],\"table\":[{\"cells\":{\"fill\":{\"color\":\"#EBF0F8\"},\"line\":{\"color\":\"white\"}},\"header\":{\"fill\":{\"color\":\"#C8D4E3\"},\"line\":{\"color\":\"white\"}},\"type\":\"table\"}]},\"layout\":{\"annotationdefaults\":{\"arrowcolor\":\"#2a3f5f\",\"arrowhead\":0,\"arrowwidth\":1},\"coloraxis\":{\"colorbar\":{\"outlinewidth\":0,\"ticks\":\"\"}},\"colorscale\":{\"diverging\":[[0,\"#8e0152\"],[0.1,\"#c51b7d\"],[0.2,\"#de77ae\"],[0.3,\"#f1b6da\"],[0.4,\"#fde0ef\"],[0.5,\"#f7f7f7\"],[0.6,\"#e6f5d0\"],[0.7,\"#b8e186\"],[0.8,\"#7fbc41\"],[0.9,\"#4d9221\"],[1,\"#276419\"]],\"sequential\":[[0.0,\"#0d0887\"],[0.1111111111111111,\"#46039f\"],[0.2222222222222222,\"#7201a8\"],[0.3333333333333333,\"#9c179e\"],[0.4444444444444444,\"#bd3786\"],[0.5555555555555556,\"#d8576b\"],[0.6666666666666666,\"#ed7953\"],[0.7777777777777778,\"#fb9f3a\"],[0.8888888888888888,\"#fdca26\"],[1.0,\"#f0f921\"]],\"sequentialminus\":[[0.0,\"#0d0887\"],[0.1111111111111111,\"#46039f\"],[0.2222222222222222,\"#7201a8\"],[0.3333333333333333,\"#9c179e\"],[0.4444444444444444,\"#bd3786\"],[0.5555555555555556,\"#d8576b\"],[0.6666666666666666,\"#ed7953\"],[0.7777777777777778,\"#fb9f3a\"],[0.8888888888888888,\"#fdca26\"],[1.0,\"#f0f921\"]]},\"colorway\":[\"#636efa\",\"#EF553B\",\"#00cc96\",\"#ab63fa\",\"#FFA15A\",\"#19d3f3\",\"#FF6692\",\"#B6E880\",\"#FF97FF\",\"#FECB52\"],\"font\":{\"color\":\"#2a3f5f\"},\"geo\":{\"bgcolor\":\"white\",\"lakecolor\":\"white\",\"landcolor\":\"#E5ECF6\",\"showlakes\":true,\"showland\":true,\"subunitcolor\":\"white\"},\"hoverlabel\":{\"align\":\"left\"},\"hovermode\":\"closest\",\"mapbox\":{\"style\":\"light\"},\"paper_bgcolor\":\"white\",\"plot_bgcolor\":\"#E5ECF6\",\"polar\":{\"angularaxis\":{\"gridcolor\":\"white\",\"linecolor\":\"white\",\"ticks\":\"\"},\"bgcolor\":\"#E5ECF6\",\"radialaxis\":{\"gridcolor\":\"white\",\"linecolor\":\"white\",\"ticks\":\"\"}},\"scene\":{\"xaxis\":{\"backgroundcolor\":\"#E5ECF6\",\"gridcolor\":\"white\",\"gridwidth\":2,\"linecolor\":\"white\",\"showbackground\":true,\"ticks\":\"\",\"zerolinecolor\":\"white\"},\"yaxis\":{\"backgroundcolor\":\"#E5ECF6\",\"gridcolor\":\"white\",\"gridwidth\":2,\"linecolor\":\"white\",\"showbackground\":true,\"ticks\":\"\",\"zerolinecolor\":\"white\"},\"zaxis\":{\"backgroundcolor\":\"#E5ECF6\",\"gridcolor\":\"white\",\"gridwidth\":2,\"linecolor\":\"white\",\"showbackground\":true,\"ticks\":\"\",\"zerolinecolor\":\"white\"}},\"shapedefaults\":{\"line\":{\"color\":\"#2a3f5f\"}},\"ternary\":{\"aaxis\":{\"gridcolor\":\"white\",\"linecolor\":\"white\",\"ticks\":\"\"},\"baxis\":{\"gridcolor\":\"white\",\"linecolor\":\"white\",\"ticks\":\"\"},\"bgcolor\":\"#E5ECF6\",\"caxis\":{\"gridcolor\":\"white\",\"linecolor\":\"white\",\"ticks\":\"\"}},\"title\":{\"x\":0.05},\"xaxis\":{\"automargin\":true,\"gridcolor\":\"white\",\"linecolor\":\"white\",\"ticks\":\"\",\"title\":{\"standoff\":15},\"zerolinecolor\":\"white\",\"zerolinewidth\":2},\"yaxis\":{\"automargin\":true,\"gridcolor\":\"white\",\"linecolor\":\"white\",\"ticks\":\"\",\"title\":{\"standoff\":15},\"zerolinecolor\":\"white\",\"zerolinewidth\":2}}},\"title\":{\"text\":\"Parallel View of Invoices along with Number of Users from 2015 to 2020\"}},\"margin\":[5,5,5,5],\"name\":\"Plotly11901\",\"viewport_update_throttle\":200},\"id\":\"7168\",\"type\":\"panel.models.plotly.PlotlyPlot\"},{\"attributes\":{\"data_source\":{\"id\":\"6729\"},\"glyph\":{\"id\":\"6732\"},\"hover_glyph\":null,\"muted_glyph\":{\"id\":\"6734\"},\"nonselection_glyph\":{\"id\":\"6733\"},\"selection_glyph\":null,\"view\":{\"id\":\"6736\"}},\"id\":\"6735\",\"type\":\"GlyphRenderer\"},{\"attributes\":{\"overlay\":{\"id\":\"6965\"}},\"id\":\"6963\",\"type\":\"BoxZoomTool\"},{\"attributes\":{\"_render_count\":0,\"config\":null,\"data\":[{\"dimensions\":[{\"label\":\"Customers Status\"},{\"label\":\"Year\"},{\"label\":\"Invoice Amount\"},{\"label\":\"Number of Users\"}],\"domain\":{\"x\":[0.0,1.0],\"y\":[0.0,1.0]},\"line\":{\"coloraxis\":\"coloraxis\"},\"name\":\"\",\"type\":\"parcats\"}],\"data_sources\":[{\"id\":\"7169\"}],\"layout\":{\"coloraxis\":{\"colorbar\":{\"title\":{\"text\":\"Year\"}},\"colorscale\":[[0.0,\"#000004\"],[0.1111111111111111,\"#1b0c41\"],[0.2222222222222222,\"#4a0c6b\"],[0.3333333333333333,\"#781c6d\"],[0.4444444444444444,\"#a52c60\"],[0.5555555555555556,\"#cf4446\"],[0.6666666666666666,\"#ed6925\"],[0.7777777777777778,\"#fb9b06\"],[0.8888888888888888,\"#f7d13d\"],[1.0,\"#fcffa4\"]]},\"height\":1400,\"legend\":{\"tracegroupgap\":0},\"template\":{\"data\":{\"bar\":[{\"error_x\":{\"color\":\"#2a3f5f\"},\"error_y\":{\"color\":\"#2a3f5f\"},\"marker\":{\"line\":{\"color\":\"#E5ECF6\",\"width\":0.5}},\"type\":\"bar\"}],\"barpolar\":[{\"marker\":{\"line\":{\"color\":\"#E5ECF6\",\"width\":0.5}},\"type\":\"barpolar\"}],\"carpet\":[{\"aaxis\":{\"endlinecolor\":\"#2a3f5f\",\"gridcolor\":\"white\",\"linecolor\":\"white\",\"minorgridcolor\":\"white\",\"startlinecolor\":\"#2a3f5f\"},\"baxis\":{\"endlinecolor\":\"#2a3f5f\",\"gridcolor\":\"white\",\"linecolor\":\"white\",\"minorgridcolor\":\"white\",\"startlinecolor\":\"#2a3f5f\"},\"type\":\"carpet\"}],\"choropleth\":[{\"colorbar\":{\"outlinewidth\":0,\"ticks\":\"\"},\"type\":\"choropleth\"}],\"contour\":[{\"colorbar\":{\"outlinewidth\":0,\"ticks\":\"\"},\"colorscale\":[[0.0,\"#0d0887\"],[0.1111111111111111,\"#46039f\"],[0.2222222222222222,\"#7201a8\"],[0.3333333333333333,\"#9c179e\"],[0.4444444444444444,\"#bd3786\"],[0.5555555555555556,\"#d8576b\"],[0.6666666666666666,\"#ed7953\"],[0.7777777777777778,\"#fb9f3a\"],[0.8888888888888888,\"#fdca26\"],[1.0,\"#f0f921\"]],\"type\":\"contour\"}],\"contourcarpet\":[{\"colorbar\":{\"outlinewidth\":0,\"ticks\":\"\"},\"type\":\"contourcarpet\"}],\"heatmap\":[{\"colorbar\":{\"outlinewidth\":0,\"ticks\":\"\"},\"colorscale\":[[0.0,\"#0d0887\"],[0.1111111111111111,\"#46039f\"],[0.2222222222222222,\"#7201a8\"],[0.3333333333333333,\"#9c179e\"],[0.4444444444444444,\"#bd3786\"],[0.5555555555555556,\"#d8576b\"],[0.6666666666666666,\"#ed7953\"],[0.7777777777777778,\"#fb9f3a\"],[0.8888888888888888,\"#fdca26\"],[1.0,\"#f0f921\"]],\"type\":\"heatmap\"}],\"heatmapgl\":[{\"colorbar\":{\"outlinewidth\":0,\"ticks\":\"\"},\"colorscale\":[[0.0,\"#0d0887\"],[0.1111111111111111,\"#46039f\"],[0.2222222222222222,\"#7201a8\"],[0.3333333333333333,\"#9c179e\"],[0.4444444444444444,\"#bd3786\"],[0.5555555555555556,\"#d8576b\"],[0.6666666666666666,\"#ed7953\"],[0.7777777777777778,\"#fb9f3a\"],[0.8888888888888888,\"#fdca26\"],[1.0,\"#f0f921\"]],\"type\":\"heatmapgl\"}],\"histogram\":[{\"marker\":{\"colorbar\":{\"outlinewidth\":0,\"ticks\":\"\"}},\"type\":\"histogram\"}],\"histogram2d\":[{\"colorbar\":{\"outlinewidth\":0,\"ticks\":\"\"},\"colorscale\":[[0.0,\"#0d0887\"],[0.1111111111111111,\"#46039f\"],[0.2222222222222222,\"#7201a8\"],[0.3333333333333333,\"#9c179e\"],[0.4444444444444444,\"#bd3786\"],[0.5555555555555556,\"#d8576b\"],[0.6666666666666666,\"#ed7953\"],[0.7777777777777778,\"#fb9f3a\"],[0.8888888888888888,\"#fdca26\"],[1.0,\"#f0f921\"]],\"type\":\"histogram2d\"}],\"histogram2dcontour\":[{\"colorbar\":{\"outlinewidth\":0,\"ticks\":\"\"},\"colorscale\":[[0.0,\"#0d0887\"],[0.1111111111111111,\"#46039f\"],[0.2222222222222222,\"#7201a8\"],[0.3333333333333333,\"#9c179e\"],[0.4444444444444444,\"#bd3786\"],[0.5555555555555556,\"#d8576b\"],[0.6666666666666666,\"#ed7953\"],[0.7777777777777778,\"#fb9f3a\"],[0.8888888888888888,\"#fdca26\"],[1.0,\"#f0f921\"]],\"type\":\"histogram2dcontour\"}],\"mesh3d\":[{\"colorbar\":{\"outlinewidth\":0,\"ticks\":\"\"},\"type\":\"mesh3d\"}],\"parcoords\":[{\"line\":{\"colorbar\":{\"outlinewidth\":0,\"ticks\":\"\"}},\"type\":\"parcoords\"}],\"pie\":[{\"automargin\":true,\"type\":\"pie\"}],\"scatter\":[{\"marker\":{\"colorbar\":{\"outlinewidth\":0,\"ticks\":\"\"}},\"type\":\"scatter\"}],\"scatter3d\":[{\"line\":{\"colorbar\":{\"outlinewidth\":0,\"ticks\":\"\"}},\"marker\":{\"colorbar\":{\"outlinewidth\":0,\"ticks\":\"\"}},\"type\":\"scatter3d\"}],\"scattercarpet\":[{\"marker\":{\"colorbar\":{\"outlinewidth\":0,\"ticks\":\"\"}},\"type\":\"scattercarpet\"}],\"scattergeo\":[{\"marker\":{\"colorbar\":{\"outlinewidth\":0,\"ticks\":\"\"}},\"type\":\"scattergeo\"}],\"scattergl\":[{\"marker\":{\"colorbar\":{\"outlinewidth\":0,\"ticks\":\"\"}},\"type\":\"scattergl\"}],\"scattermapbox\":[{\"marker\":{\"colorbar\":{\"outlinewidth\":0,\"ticks\":\"\"}},\"type\":\"scattermapbox\"}],\"scatterpolar\":[{\"marker\":{\"colorbar\":{\"outlinewidth\":0,\"ticks\":\"\"}},\"type\":\"scatterpolar\"}],\"scatterpolargl\":[{\"marker\":{\"colorbar\":{\"outlinewidth\":0,\"ticks\":\"\"}},\"type\":\"scatterpolargl\"}],\"scatterternary\":[{\"marker\":{\"colorbar\":{\"outlinewidth\":0,\"ticks\":\"\"}},\"type\":\"scatterternary\"}],\"surface\":[{\"colorbar\":{\"outlinewidth\":0,\"ticks\":\"\"},\"colorscale\":[[0.0,\"#0d0887\"],[0.1111111111111111,\"#46039f\"],[0.2222222222222222,\"#7201a8\"],[0.3333333333333333,\"#9c179e\"],[0.4444444444444444,\"#bd3786\"],[0.5555555555555556,\"#d8576b\"],[0.6666666666666666,\"#ed7953\"],[0.7777777777777778,\"#fb9f3a\"],[0.8888888888888888,\"#fdca26\"],[1.0,\"#f0f921\"]],\"type\":\"surface\"}],\"table\":[{\"cells\":{\"fill\":{\"color\":\"#EBF0F8\"},\"line\":{\"color\":\"white\"}},\"header\":{\"fill\":{\"color\":\"#C8D4E3\"},\"line\":{\"color\":\"white\"}},\"type\":\"table\"}]},\"layout\":{\"annotationdefaults\":{\"arrowcolor\":\"#2a3f5f\",\"arrowhead\":0,\"arrowwidth\":1},\"coloraxis\":{\"colorbar\":{\"outlinewidth\":0,\"ticks\":\"\"}},\"colorscale\":{\"diverging\":[[0,\"#8e0152\"],[0.1,\"#c51b7d\"],[0.2,\"#de77ae\"],[0.3,\"#f1b6da\"],[0.4,\"#fde0ef\"],[0.5,\"#f7f7f7\"],[0.6,\"#e6f5d0\"],[0.7,\"#b8e186\"],[0.8,\"#7fbc41\"],[0.9,\"#4d9221\"],[1,\"#276419\"]],\"sequential\":[[0.0,\"#0d0887\"],[0.1111111111111111,\"#46039f\"],[0.2222222222222222,\"#7201a8\"],[0.3333333333333333,\"#9c179e\"],[0.4444444444444444,\"#bd3786\"],[0.5555555555555556,\"#d8576b\"],[0.6666666666666666,\"#ed7953\"],[0.7777777777777778,\"#fb9f3a\"],[0.8888888888888888,\"#fdca26\"],[1.0,\"#f0f921\"]],\"sequentialminus\":[[0.0,\"#0d0887\"],[0.1111111111111111,\"#46039f\"],[0.2222222222222222,\"#7201a8\"],[0.3333333333333333,\"#9c179e\"],[0.4444444444444444,\"#bd3786\"],[0.5555555555555556,\"#d8576b\"],[0.6666666666666666,\"#ed7953\"],[0.7777777777777778,\"#fb9f3a\"],[0.8888888888888888,\"#fdca26\"],[1.0,\"#f0f921\"]]},\"colorway\":[\"#636efa\",\"#EF553B\",\"#00cc96\",\"#ab63fa\",\"#FFA15A\",\"#19d3f3\",\"#FF6692\",\"#B6E880\",\"#FF97FF\",\"#FECB52\"],\"font\":{\"color\":\"#2a3f5f\"},\"geo\":{\"bgcolor\":\"white\",\"lakecolor\":\"white\",\"landcolor\":\"#E5ECF6\",\"showlakes\":true,\"showland\":true,\"subunitcolor\":\"white\"},\"hoverlabel\":{\"align\":\"left\"},\"hovermode\":\"closest\",\"mapbox\":{\"style\":\"light\"},\"paper_bgcolor\":\"white\",\"plot_bgcolor\":\"#E5ECF6\",\"polar\":{\"angularaxis\":{\"gridcolor\":\"white\",\"linecolor\":\"white\",\"ticks\":\"\"},\"bgcolor\":\"#E5ECF6\",\"radialaxis\":{\"gridcolor\":\"white\",\"linecolor\":\"white\",\"ticks\":\"\"}},\"scene\":{\"xaxis\":{\"backgroundcolor\":\"#E5ECF6\",\"gridcolor\":\"white\",\"gridwidth\":2,\"linecolor\":\"white\",\"showbackground\":true,\"ticks\":\"\",\"zerolinecolor\":\"white\"},\"yaxis\":{\"backgroundcolor\":\"#E5ECF6\",\"gridcolor\":\"white\",\"gridwidth\":2,\"linecolor\":\"white\",\"showbackground\":true,\"ticks\":\"\",\"zerolinecolor\":\"white\"},\"zaxis\":{\"backgroundcolor\":\"#E5ECF6\",\"gridcolor\":\"white\",\"gridwidth\":2,\"linecolor\":\"white\",\"showbackground\":true,\"ticks\":\"\",\"zerolinecolor\":\"white\"}},\"shapedefaults\":{\"line\":{\"color\":\"#2a3f5f\"}},\"ternary\":{\"aaxis\":{\"gridcolor\":\"white\",\"linecolor\":\"white\",\"ticks\":\"\"},\"baxis\":{\"gridcolor\":\"white\",\"linecolor\":\"white\",\"ticks\":\"\"},\"bgcolor\":\"#E5ECF6\",\"caxis\":{\"gridcolor\":\"white\",\"linecolor\":\"white\",\"ticks\":\"\"}},\"title\":{\"x\":0.05},\"xaxis\":{\"automargin\":true,\"gridcolor\":\"white\",\"linecolor\":\"white\",\"ticks\":\"\",\"title\":{\"standoff\":15},\"zerolinecolor\":\"white\",\"zerolinewidth\":2},\"yaxis\":{\"automargin\":true,\"gridcolor\":\"white\",\"linecolor\":\"white\",\"ticks\":\"\",\"title\":{\"standoff\":15},\"zerolinecolor\":\"white\",\"zerolinewidth\":2}}},\"title\":{\"text\":\"Customers Status from 2015 to 2020 based on Most Loyal (Active), New Customers, and Lost Customers\"}},\"margin\":[5,5,5,5],\"name\":\"Plotly11903\",\"viewport_update_throttle\":200},\"id\":\"7170\",\"type\":\"panel.models.plotly.PlotlyPlot\"},{\"attributes\":{\"source\":{\"id\":\"6729\"}},\"id\":\"6736\",\"type\":\"CDSView\"},{\"attributes\":{},\"id\":\"6964\",\"type\":\"ResetTool\"},{\"attributes\":{\"overlay\":{\"id\":\"7021\"}},\"id\":\"7019\",\"type\":\"BoxZoomTool\"},{\"attributes\":{},\"id\":\"7020\",\"type\":\"ResetTool\"},{\"attributes\":{},\"id\":\"7063\",\"type\":\"LinearScale\"},{\"attributes\":{\"align\":null,\"below\":[{\"id\":\"7065\"}],\"center\":[{\"id\":\"7067\"},{\"id\":\"7071\"}],\"left\":[{\"id\":\"7068\"}],\"margin\":null,\"min_border_bottom\":10,\"min_border_left\":10,\"min_border_right\":10,\"min_border_top\":10,\"plot_height\":800,\"plot_width\":1400,\"renderers\":[{\"id\":\"7091\"}],\"sizing_mode\":\"fixed\",\"title\":{\"id\":\"7057\"},\"toolbar\":{\"id\":\"7078\"},\"x_range\":{\"id\":\"7053\"},\"x_scale\":{\"id\":\"7061\"},\"y_range\":{\"id\":\"6698\"},\"y_scale\":{\"id\":\"7063\"}},\"id\":\"7056\",\"subtype\":\"Figure\",\"type\":\"Plot\"},{\"attributes\":{\"format\":\"$%.0f\"},\"id\":\"6737\",\"type\":\"PrintfTickFormatter\"},{\"attributes\":{\"axis_label\":\"States\",\"axis_label_text_font_size\":\"20pt\",\"bounds\":\"auto\",\"formatter\":{\"id\":\"7095\"},\"group_text_font_size\":\"25pt\",\"major_label_orientation\":\"horizontal\",\"major_label_text_font_size\":\"25pt\",\"ticker\":{\"id\":\"7066\"}},\"id\":\"7065\",\"type\":\"CategoricalAxis\"},{\"attributes\":{},\"id\":\"7061\",\"type\":\"CategoricalScale\"},{\"attributes\":{},\"id\":\"6995\",\"type\":\"UnionRenderers\"},{\"attributes\":{},\"id\":\"7051\",\"type\":\"UnionRenderers\"},{\"attributes\":{\"data\":{\"dimensions.0.values\":[[\"Lost\",\"Active\",\"Active\",\"Lost\",\"Lost\",\"Active\",\"Active\",\"Active\",\"Lost\",\"Lost\",\"Active\",\"Active\",\"Active\",\"Lost\",\"Lost\",\"Lost\",\"Active\",\"Active\",\"Lost\",\"Active\",\"Lost\",\"Lost\",\"Active\",\"Active\",\"Active\",\"Active\",\"Lost\",\"Active\",\"Active\",\"Lost\",\"Active\",\"Lost\",\"Lost\",\"Lost\",\"Lost\",\"Lost\",\"Lost\",\"Lost\",\"Lost\",\"Active\",\"Lost\",\"Active\",\"Lost\",\"Active\",\"Lost\",\"Active\",\"Lost\",\"Lost\",\"Active\",\"Active\",\"Active\",\"Active\",\"Active\",\"Lost\",\"Lost\",\"Active\",\"Lost\",\"Lost\",\"Lost\",\"Active\",\"Lost\",\"Lost\",\"Lost\",\"Active\",\"Active\",\"Active\",\"Lost\",\"Lost\",\"Lost\",\"Lost\",\"Lost\",\"Active\",\"Active\",\"Active\",\"Active\",\"Lost\",\"Lost\",\"Lost\",\"Lost\",\"Active\",\"Active\",\"Lost\",\"Lost\",\"Active\",\"Active\",\"Lost\",\"Active\",\"Lost\",\"Active\",\"Active\",\"Lost\",\"Active\",\"Active\",\"Lost\",\"Lost\",\"Active\",\"Lost\",\"Active\",\"Lost\",\"Lost\",\"Lost\",\"Active\",\"Lost\",\"Active\",\"Active\",\"Active\",\"Active\",\"Lost\",\"Lost\",\"Lost\",\"Lost\",\"Lost\",\"Lost\",\"Lost\",\"Lost\",\"Lost\",\"Lost\",\"Lost\",\"Active\",\"Active\",\"Active\",\"Active\",\"Active\",\"Active\",\"Lost\",\"Lost\",\"Active\",\"Active\",\"Active\",\"Active\",\"Active\",\"Active\",\"Active\",\"Lost\",\"Active\",\"Active\",\"Active\",\"Active\",\"Active\",\"Lost\",\"Lost\",\"Active\",\"Active\",\"Lost\",\"Lost\",\"Active\",\"Active\",\"Lost\",\"Active\",\"Active\",\"Active\",\"Active\",\"Active\",\"Active\",\"Lost\",\"Active\",\"Active\",\"Lost\",\"Lost\",\"Active\",\"Active\",\"Lost\",\"Active\",\"Active\",\"Lost\",\"Active\",\"Lost\",\"Active\",\"Lost\",\"Active\",\"Lost\",\"Active\",\"Active\",\"Active\",\"Active\",\"Lost\",\"Lost\",\"Active\",\"Active\",\"Active\",\"Lost\",\"Active\",\"Lost\",\"Active\",\"Active\",\"Active\",\"Active\",\"Active\",\"Active\",\"Active\",\"Active\",\"Active\",\"Active\",\"Active\",\"Lost\",\"Lost\",\"Active\",\"Active\",\"Lost\",\"Active\",\"Active\",\"Active\",\"Active\",\"Active\",\"Active\",\"Active\",\"Active\",\"Active\",\"Active\",\"Active\",\"Active\",\"Active\",\"Active\",\"Active\",\"Active\",\"Active\",\"Active\",\"Active\",\"Active\",\"Active\",\"Active\",\"Active\",\"Active\",\"Active\",\"Active\",\"Active\",\"Active\",\"Lost\",\"Active\",\"Lost\",\"Active\",\"Active\",\"Active\",\"Lost\",\"Lost\",\"Active\",\"Active\",\"Lost\",\"Active\",\"Active\",\"Active\",\"Active\",\"Active\",\"Active\",\"Active\",\"Active\",\"Lost\",\"Active\",\"Active\",\"Active\",\"Lost\",\"Active\",\"Lost\",\"Active\",\"Active\",\"Active\",\"Lost\",\"New\",\"Active\",\"Active\",\"Active\",\"Active\",\"Active\",\"Active\",\"Active\",\"Active\",\"Active\",\"Active\",\"Active\",\"Active\",\"New\",\"Active\",\"Active\",\"Active\",\"Active\",\"New\",\"Active\",\"New\",\"New\",\"Active\",\"New\",\"Active\",\"New\",\"Active\",\"New\",\"New\",\"Active\",\"New\",\"New\",\"Active\",\"Lost\",\"New\",\"Active\",\"New\",\"New\",\"New\",\"New\",\"New\",\"Lost\",\"New\",\"New\",\"Lost\",\"New\",\"New\",\"New\",\"New\",\"Active\",\"New\",\"New\",\"New\",\"Lost\",\"New\",\"Active\",\"New\",\"New\",\"New\",\"Active\",\"New\",\"Active\",\"New\",\"New\",\"New\",\"Active\",\"Active\",\"New\",\"Active\",\"New\",\"Lost\",\"Active\",\"New\",\"Active\",\"New\",\"New\",\"Active\",\"Lost\",\"Lost\",\"New\",\"New\",\"New\",\"New\",\"New\",\"Active\",\"New\",\"Active\",\"New\",\"New\",\"Active\",\"Lost\",\"New\",\"New\",\"New\",\"New\",\"Active\",\"New\",\"Active\",\"New\",\"Active\",\"New\",\"Active\",\"New\",\"New\",\"New\",\"Active\",\"Active\",\"Active\",\"Active\",\"Active\",\"Active\",\"Active\",\"Lost\",\"New\",\"New\",\"Active\",\"Active\",\"Active\",\"New\",\"New\",\"New\",\"New\",\"New\",\"New\",\"New\",\"New\",\"Active\",\"New\",\"New\",\"New\",\"Active\",\"Lost\",\"New\",\"New\",\"New\",\"New\",\"New\",\"New\",\"New\",\"New\",\"New\",\"New\",\"New\",\"Active\",\"New\",\"New\",\"Active\",\"New\",\"New\",\"New\",\"New\",\"New\",\"New\",\"New\",\"Active\",\"New\",\"New\",\"New\",\"Active\",\"New\",\"New\",\"New\",\"New\",\"New\",\"New\",\"New\",\"New\",\"Active\",\"Active\",\"New\",\"New\",\"Active\",\"New\",\"New\",\"New\",\"New\",\"New\",\"New\",\"New\",\"New\",\"Lost\",\"New\",\"New\",\"Active\",\"New\",\"New\",\"Active\",\"New\",\"Active\",\"New\",\"Active\",\"New\",\"New\",\"New\",\"New\",\"New\",\"New\",\"New\",\"Active\",\"Lost\",\"New\",\"New\",\"New\",\"New\",\"New\",\"New\",\"New\",\"Active\",\"New\",\"New\",\"New\",\"New\",\"New\",\"New\",\"New\",\"New\",\"New\",\"New\",\"Active\",\"Lost\",\"New\",\"New\",\"New\",\"New\",\"New\",\"Active\",\"New\",\"New\",\"New\",\"New\",\"New\",\"New\",\"New\",\"New\",\"Active\",\"New\",\"New\",\"New\",\"New\",\"Lost\",\"New\",\"New\",\"New\",\"New\",\"New\",\"Active\",\"New\",\"New\",\"New\",\"New\",\"New\",\"New\",\"New\",\"New\",\"New\",\"Lost\",\"Active\",\"New\",\"New\",\"Lost\",\"New\",\"New\",\"New\",\"New\",\"New\",\"New\",\"New\",\"New\",\"New\",\"New\",\"New\",\"New\",\"New\",\"New\",\"New\",\"New\",\"Active\",\"New\",\"New\",\"New\",\"New\",\"Lost\",\"New\",\"New\",\"New\",\"New\",\"New\",\"New\",\"New\",\"Active\",\"New\",\"Active\",\"New\",\"New\",\"Lost\",\"Active\",\"New\",\"New\",\"New\",\"New\",\"New\",\"New\",\"New\",\"New\",\"Active\",\"New\",\"New\",\"New\",\"New\",\"New\",\"Active\",\"New\",\"New\",\"New\",\"New\",\"New\",\"New\",\"New\",\"New\",\"Active\",\"Lost\",\"New\",\"New\",\"New\",\"New\",\"New\",\"Active\",\"New\",\"New\",\"New\",\"New\",\"New\",\"New\",\"New\",\"New\",\"New\",\"New\",\"New\",\"New\",\"New\",\"New\",\"New\",\"New\",\"New\",\"New\",\"New\",\"New\",\"New\",\"New\",\"New\",\"New\",\"Active\",\"New\",\"New\",\"New\",\"New\",\"New\",\"New\",\"New\",\"New\",\"New\",\"New\",\"New\",\"New\",\"New\",\"New\",\"New\",\"Active\",\"New\",\"New\",\"New\",\"Lost\",\"New\",\"New\",\"Active\",\"New\",\"New\",\"Active\",\"New\",\"New\",\"Active\",\"Active\",\"New\",\"New\",\"Active\",\"New\",\"New\",\"New\",\"New\",\"New\",\"New\",\"Active\",\"New\",\"New\",\"New\",\"New\",\"New\",\"New\",\"New\",\"New\",\"New\",\"Active\",\"New\",\"New\",\"New\",\"New\",\"New\",\"Active\",\"New\",\"New\",\"Lost\",\"New\",\"New\",\"Active\",\"New\",\"New\",\"New\",\"New\",\"Active\",\"New\",\"New\",\"New\",\"Active\",\"Active\",\"New\",\"New\",\"New\",\"New\",\"Active\",\"New\",\"New\",\"New\",\"New\",\"New\",\"New\",\"New\",\"New\",\"New\",\"New\",\"Active\",\"New\",\"New\",\"New\"]],\"dimensions.1.values\":[[2015,2015,2015,2015,2015,2015,2015,2015,2015,2015,2016,2016,2016,2016,2016,2016,2016,2016,2016,2016,2016,2016,2016,2016,2016,2016,2016,2016,2016,2016,2016,2016,2016,2016,2016,2016,2016,2016,2016,2016,2016,2016,2016,2016,2016,2016,2016,2016,2016,2016,2016,2016,2016,2016,2016,2016,2016,2016,2016,2016,2016,2016,2016,2016,2016,2017,2017,2017,2017,2017,2017,2017,2017,2017,2017,2017,2017,2017,2017,2017,2017,2017,2017,2017,2017,2017,2017,2017,2017,2017,2017,2017,2017,2017,2017,2017,2017,2017,2017,2017,2017,2017,2017,2017,2017,2017,2017,2017,2017,2017,2017,2017,2017,2017,2017,2017,2017,2017,2017,2017,2017,2017,2018,2018,2018,2018,2018,2018,2018,2018,2018,2018,2018,2018,2018,2018,2018,2018,2018,2018,2018,2018,2018,2018,2018,2018,2018,2018,2018,2018,2018,2018,2018,2018,2018,2018,2018,2018,2018,2018,2018,2018,2018,2018,2018,2018,2018,2018,2018,2018,2018,2018,2018,2018,2018,2018,2018,2018,2018,2018,2018,2018,2018,2018,2018,2018,2019,2019,2019,2019,2019,2019,2019,2019,2019,2019,2019,2019,2019,2019,2019,2019,2019,2019,2019,2019,2019,2019,2019,2019,2019,2019,2019,2019,2019,2019,2019,2019,2019,2019,2019,2019,2019,2019,2019,2019,2019,2019,2019,2019,2019,2019,2019,2019,2019,2019,2019,2019,2019,2019,2019,2019,2019,2019,2019,2019,2019,2019,2019,2019,2019,2019,2019,2019,2019,2019,2019,2019,2019,2019,2019,2020,2020,2020,2020,2020,2020,2020,2020,2020,2020,2020,2020,2020,2020,2020,2020,2020,2020,2020,2020,2020,2020,2020,2020,2020,2020,2020,2020,2020,2020,2020,2020,2020,2020,2020,2020,2020,2020,2020,2020,2020,2020,2020,2020,2020,2020,2020,2020,2020,2020,2020,2020,2020,2020,2020,2020,2020,2020,2020,2020,2020,2020,2020,2020,2020,2020,2020,2020,2020,2020,2020,2020,2020,2020,2020,2020,2020,2020,2020,2020,2020,2020,2020,2020,2020,2020,2020,2020,2020,2020,2020,2020,2020,2020,2020,2020,2020,2020,2020,2020,2020,2020,2020,2020,2020,2020,2020,2020,2020,2020,2020,2020,2020,2020,2020,2020,2020,2020,2020,2020,2020,2020,2020,2020,2020,2020,2020,2020,2020,2020,2020,2020,2020,2020,2020,2020,2020,2020,2020,2020,2020,2020,2020,2020,2020,2020,2020,2020,2020,2020,2020,2020,2020,2020,2020,2020,2020,2020,2020,2020,2020,2020,2020,2020,2020,2020,2020,2020,2020,2020,2020,2020,2020,2020,2020,2020,2020,2020,2020,2020,2020,2020,2020,2020,2020,2020,2020,2020,2020,2020,2020,2020,2020,2020,2020,2020,2020,2020,2020,2020,2020,2020,2020,2020,2020,2020,2020,2020,2020,2020,2020,2020,2020,2020,2020,2020,2020,2020,2020,2020,2020,2020,2020,2020,2020,2020,2020,2020,2020,2020,2020,2020,2020,2020,2020,2020,2020,2020,2020,2020,2020,2020,2020,2020,2020,2020,2020,2020,2020,2020,2020,2020,2020,2020,2020,2020,2020,2020,2020,2020,2020,2020,2020,2020,2020,2020,2020,2020,2020,2020,2020,2020,2020,2020,2020,2020,2020,2020,2020,2020,2020,2020,2020,2020,2020,2020,2020,2020,2020,2020,2020,2020,2020,2020,2020,2020,2020,2020,2020,2020,2020,2020,2020,2020,2020,2020,2020,2020,2020,2020,2020,2020,2020,2020,2020,2020,2020,2020,2020,2020,2020,2020,2020,2020,2020,2020,2020,2020,2020,2020,2020,2020,2020,2020,2020,2020,2020,2020,2020,2020,2020,2020,2020,2020,2020,2020,2020,2020,2020,2020,2020,2020,2020,2020,2020,2020,2020,2020,2020,2020,2020,2020,2020,2020,2020,2020,2020,2020,2020,2020,2020,2020,2020,2020,2020,2020,2020,2020,2020,2020,2020,2020,2020,2020,2020,2020,2020,2020,2020,2020,2020,2020,2020,2020,2020,2020,2020,2020,2020,2020,2020,2020,2020,2020,2020,2020,2020,2020,2020,2020,2020,2020,2020,2020,2020,2020,2020,2020,2020,2020,2020,2020,2020,2020,2020,2020,2020,2020,2020,2020,2020,2020,2020,2020,2020,2020,2020,2020,2020]],\"dimensions.2.values\":[{\"__ndarray__\":\"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\",\"dtype\":\"float64\",\"shape\":[700]}],\"dimensions.3.values\":[{\"__ndarray__\":\"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\",\"dtype\":\"float64\",\"shape\":[700]}],\"line.color\":[[2015,2015,2015,2015,2015,2015,2015,2015,2015,2015,2016,2016,2016,2016,2016,2016,2016,2016,2016,2016,2016,2016,2016,2016,2016,2016,2016,2016,2016,2016,2016,2016,2016,2016,2016,2016,2016,2016,2016,2016,2016,2016,2016,2016,2016,2016,2016,2016,2016,2016,2016,2016,2016,2016,2016,2016,2016,2016,2016,2016,2016,2016,2016,2016,2016,2017,2017,2017,2017,2017,2017,2017,2017,2017,2017,2017,2017,2017,2017,2017,2017,2017,2017,2017,2017,2017,2017,2017,2017,2017,2017,2017,2017,2017,2017,2017,2017,2017,2017,2017,2017,2017,2017,2017,2017,2017,2017,2017,2017,2017,2017,2017,2017,2017,2017,2017,2017,2017,2017,2017,2017,2017,2018,2018,2018,2018,2018,2018,2018,2018,2018,2018,2018,2018,2018,2018,2018,2018,2018,2018,2018,2018,2018,2018,2018,2018,2018,2018,2018,2018,2018,2018,2018,2018,2018,2018,2018,2018,2018,2018,2018,2018,2018,2018,2018,2018,2018,2018,2018,2018,2018,2018,2018,2018,2018,2018,2018,2018,2018,2018,2018,2018,2018,2018,2018,2018,2019,2019,2019,2019,2019,2019,2019,2019,2019,2019,2019,2019,2019,2019,2019,2019,2019,2019,2019,2019,2019,2019,2019,2019,2019,2019,2019,2019,2019,2019,2019,2019,2019,2019,2019,2019,2019,2019,2019,2019,2019,2019,2019,2019,2019,2019,2019,2019,2019,2019,2019,2019,2019,2019,2019,2019,2019,2019,2019,2019,2019,2019,2019,2019,2019,2019,2019,2019,2019,2019,2019,2019,2019,2019,2019,2020,2020,2020,2020,2020,2020,2020,2020,2020,2020,2020,2020,2020,2020,2020,2020,2020,2020,2020,2020,2020,2020,2020,2020,2020,2020,2020,2020,2020,2020,2020,2020,2020,2020,2020,2020,2020,2020,2020,2020,2020,2020,2020,2020,2020,2020,2020,2020,2020,2020,2020,2020,2020,2020,2020,2020,2020,2020,2020,2020,2020,2020,2020,2020,2020,2020,2020,2020,2020,2020,2020,2020,2020,2020,2020,2020,2020,2020,2020,2020,2020,2020,2020,2020,2020,2020,2020,2020,2020,2020,2020,2020,2020,2020,2020,2020,2020,2020,2020,2020,2020,2020,2020,2020,2020,2020,2020,2020,2020,2020,2020,2020,2020,2020,2020,2020,2020,2020,2020,2020,2020,2020,2020,2020,2020,2020,2020,2020,2020,2020,2020,2020,2020,2020,2020,2020,2020,2020,2020,2020,2020,2020,2020,2020,2020,2020,2020,2020,2020,2020,2020,2020,2020,2020,2020,2020,2020,2020,2020,2020,2020,2020,2020,2020,2020,2020,2020,2020,2020,2020,2020,2020,2020,2020,2020,2020,2020,2020,2020,2020,2020,2020,2020,2020,2020,2020,2020,2020,2020,2020,2020,2020,2020,2020,2020,2020,2020,2020,2020,2020,2020,2020,2020,2020,2020,2020,2020,2020,2020,2020,2020,2020,2020,2020,2020,2020,2020,2020,2020,2020,2020,2020,2020,2020,2020,2020,2020,2020,2020,2020,2020,2020,2020,2020,2020,2020,2020,2020,2020,2020,2020,2020,2020,2020,2020,2020,2020,2020,2020,2020,2020,2020,2020,2020,2020,2020,2020,2020,2020,2020,2020,2020,2020,2020,2020,2020,2020,2020,2020,2020,2020,2020,2020,2020,2020,2020,2020,2020,2020,2020,2020,2020,2020,2020,2020,2020,2020,2020,2020,2020,2020,2020,2020,2020,2020,2020,2020,2020,2020,2020,2020,2020,2020,2020,2020,2020,2020,2020,2020,2020,2020,2020,2020,2020,2020,2020,2020,2020,2020,2020,2020,2020,2020,2020,2020,2020,2020,2020,2020,2020,2020,2020,2020,2020,2020,2020,2020,2020,2020,2020,2020,2020,2020,2020,2020,2020,2020,2020,2020,2020,2020,2020,2020,2020,2020,2020,2020,2020,2020,2020,2020,2020,2020,2020,2020,2020,2020,2020,2020,2020,2020,2020,2020,2020,2020,2020,2020,2020,2020,2020,2020,2020,2020,2020,2020,2020,2020,2020,2020,2020,2020,2020,2020,2020,2020,2020,2020,2020,2020,2020,2020,2020,2020,2020,2020,2020,2020,2020,2020,2020,2020,2020,2020,2020,2020,2020,2020,2020,2020,2020,2020,2020,2020,2020,2020,2020,2020,2020,2020,2020,2020,2020,2020,2020,2020,2020,2020,2020,2020]]},\"selected\":{\"id\":\"7274\"},\"selection_policy\":{\"id\":\"7275\"}},\"id\":\"7169\",\"type\":\"ColumnDataSource\"},{\"attributes\":{},\"id\":\"6739\",\"type\":\"CategoricalTickFormatter\"},{\"attributes\":{},\"id\":\"7066\",\"type\":\"CategoricalTicker\"},{\"attributes\":{\"factors\":[\"AL\",\"LA\",\"GA\",\"NC\",\"CA\",\"KY\",\"NY\",\"UT\",\"IL\",\"TN\",\"GU\",\"OK\",\"NE\",\"MT\",\"SA\",\"NH\",\"DE\",\"Canada\",\"VT\",\"ND\"],\"tags\":[[[\"State\",\"State\",null]]]},\"id\":\"7053\",\"type\":\"FactorRange\"},{\"attributes\":{\"callback\":null,\"renderers\":[{\"id\":\"7091\"}],\"tags\":[\"hv_created\"],\"tooltips\":[[\"State\",\"@{State}\"],[\"Invoice Amount\",\"@{Invoice_Amount}\"]]},\"id\":\"7055\",\"type\":\"HoverTool\"},{\"attributes\":{\"fill_alpha\":{\"value\":0.1},\"fill_color\":{\"value\":\"#1f77b3\"},\"line_alpha\":{\"value\":0.1},\"top\":{\"field\":\"Invoice_Amount\"},\"width\":{\"value\":0.8},\"x\":{\"field\":\"Year\"}},\"id\":\"7210\",\"type\":\"VBar\"},{\"attributes\":{\"children\":[{\"id\":\"7177\"},{\"id\":\"7232\"}],\"margin\":[0,0,0,0],\"name\":\"Row11938\"},\"id\":\"7173\",\"type\":\"Row\"},{\"attributes\":{\"text\":\"Top 10 Highest Paying States of All Time\",\"text_color\":{\"value\":\"black\"},\"text_font_size\":{\"value\":\"25pt\"}},\"id\":\"7057\",\"type\":\"Title\"},{\"attributes\":{\"children\":[{\"id\":\"7238\"},{\"id\":\"7239\"},{\"id\":\"7240\"},{\"id\":\"7241\"},{\"id\":\"7242\"}],\"margin\":[0,0,0,0],\"name\":\"Column11957\"},\"id\":\"7237\",\"type\":\"Column\"},{\"attributes\":{},\"id\":\"7207\",\"type\":\"Selection\"},{\"attributes\":{\"axis\":{\"id\":\"7065\"},\"ticker\":{\"id\":\"7066\"}},\"id\":\"7067\",\"type\":\"Grid\"},{\"attributes\":{\"fill_color\":{\"value\":\"#1f77b3\"},\"top\":{\"field\":\"Invoice_Amount\"},\"width\":{\"value\":0.8},\"x\":{\"field\":\"Year\"}},\"id\":\"7209\",\"type\":\"VBar\"},{\"attributes\":{\"fill_alpha\":{\"value\":0.2},\"fill_color\":{\"value\":\"#1f77b3\"},\"line_alpha\":{\"value\":0.2},\"top\":{\"field\":\"Invoice_Amount\"},\"width\":{\"value\":0.8},\"x\":{\"field\":\"Year\"}},\"id\":\"7211\",\"type\":\"VBar\"},{\"attributes\":{\"bottom_units\":\"screen\",\"fill_alpha\":0.5,\"fill_color\":\"lightgrey\",\"left_units\":\"screen\",\"level\":\"overlay\",\"line_alpha\":1.0,\"line_color\":\"black\",\"line_dash\":[4,4],\"line_width\":2,\"render_mode\":\"css\",\"right_units\":\"screen\",\"top_units\":\"screen\"},\"id\":\"6965\",\"type\":\"BoxAnnotation\"},{\"attributes\":{\"bottom_units\":\"screen\",\"fill_alpha\":0.5,\"fill_color\":\"lightgrey\",\"left_units\":\"screen\",\"level\":\"overlay\",\"line_alpha\":1.0,\"line_color\":\"black\",\"line_dash\":[4,4],\"line_width\":2,\"render_mode\":\"css\",\"right_units\":\"screen\",\"top_units\":\"screen\"},\"id\":\"7021\",\"type\":\"BoxAnnotation\"},{\"attributes\":{},\"id\":\"6751\",\"type\":\"UnionRenderers\"},{\"attributes\":{\"data_source\":{\"id\":\"7206\"},\"glyph\":{\"id\":\"7209\"},\"hover_glyph\":null,\"muted_glyph\":{\"id\":\"7211\"},\"nonselection_glyph\":{\"id\":\"7210\"},\"selection_glyph\":null,\"view\":{\"id\":\"7213\"}},\"id\":\"7212\",\"type\":\"GlyphRenderer\"},{\"attributes\":{\"source\":{\"id\":\"7206\"}},\"id\":\"7213\",\"type\":\"CDSView\"},{\"attributes\":{\"format\":\"$%.0f\"},\"id\":\"7214\",\"type\":\"PrintfTickFormatter\"},{\"attributes\":{},\"id\":\"7216\",\"type\":\"CategoricalTickFormatter\"},{\"attributes\":{\"text\":\"Top 10 Lowest Paying Customers of All Time\",\"text_color\":{\"value\":\"black\"},\"text_font_size\":{\"value\":\"25pt\"}},\"id\":\"7001\",\"type\":\"Title\"},{\"attributes\":{},\"id\":\"7076\",\"type\":\"ResetTool\"},{\"attributes\":{\"active_drag\":\"auto\",\"active_inspect\":\"auto\",\"active_multi\":null,\"active_scroll\":\"auto\",\"active_tap\":\"auto\",\"tools\":[{\"id\":\"6943\"},{\"id\":\"6960\"},{\"id\":\"6961\"},{\"id\":\"6962\"},{\"id\":\"6963\"},{\"id\":\"6964\"}]},\"id\":\"6966\",\"type\":\"Toolbar\"},{\"attributes\":{\"active_drag\":\"auto\",\"active_inspect\":\"auto\",\"active_multi\":null,\"active_scroll\":\"auto\",\"active_tap\":\"auto\",\"tools\":[{\"id\":\"6999\"},{\"id\":\"7016\"},{\"id\":\"7017\"},{\"id\":\"7018\"},{\"id\":\"7019\"},{\"id\":\"7020\"}]},\"id\":\"7022\",\"type\":\"Toolbar\"},{\"attributes\":{\"axis\":{\"id\":\"7009\"},\"ticker\":{\"id\":\"7010\"}},\"id\":\"7011\",\"type\":\"Grid\"},{\"attributes\":{\"fill_alpha\":{\"value\":0.1},\"fill_color\":{\"value\":\"#1f77b3\"},\"line_alpha\":{\"value\":0.1},\"top\":{\"field\":\"Invoice_Amount\"},\"width\":{\"value\":0.8},\"x\":{\"field\":\"Customers\"}},\"id\":\"6977\",\"type\":\"VBar\"},{\"attributes\":{\"fill_alpha\":{\"value\":0.1},\"fill_color\":{\"value\":\"#1f77b3\"},\"line_alpha\":{\"value\":0.1},\"top\":{\"field\":\"Invoice_Amount\"},\"width\":{\"value\":0.8},\"x\":{\"field\":\"Customers\"}},\"id\":\"7033\",\"type\":\"VBar\"},{\"attributes\":{},\"id\":\"6974\",\"type\":\"Selection\"},{\"attributes\":{},\"id\":\"7030\",\"type\":\"Selection\"},{\"attributes\":{\"fill_alpha\":{\"value\":0.2},\"fill_color\":{\"value\":\"#1f77b3\"},\"line_alpha\":{\"value\":0.2},\"top\":{\"field\":\"Invoice_Amount\"},\"width\":{\"value\":0.8},\"x\":{\"field\":\"Customers\"}},\"id\":\"6978\",\"type\":\"VBar\"},{\"attributes\":{\"fill_alpha\":{\"value\":0.2},\"fill_color\":{\"value\":\"#1f77b3\"},\"line_alpha\":{\"value\":0.2},\"top\":{\"field\":\"Invoice_Amount\"},\"width\":{\"value\":0.8},\"x\":{\"field\":\"Customers\"}},\"id\":\"7034\",\"type\":\"VBar\"},{\"attributes\":{\"callback\":null,\"renderers\":[{\"id\":\"7035\"}],\"tags\":[\"hv_created\"],\"tooltips\":[[\"Customers\",\"@{Customers}\"],[\"Invoice Amount\",\"@{Invoice_Amount}\"]]},\"id\":\"6999\",\"type\":\"HoverTool\"},{\"attributes\":{\"data\":{\"Customers\":[\"University 346\",\"University 191\",\"University 218\",\"University 360\",\"University 171\",\"University 107\",\"University 337\",\"University 327\",\"University 359\",\"University 302\"],\"Invoice_Amount\":{\"__ndarray__\":\"AAAAAABAX0AAAAAAAMBiQAAAAAAAAGRAAAAAAAAAaUAAAAAAAEBvQAAAAAAAwHJAAAAAAAAwdkAAAAAAAHB4QAAAAAAAsHhAAAAAAAAAeUA=\",\"dtype\":\"float64\",\"shape\":[10]}},\"selected\":{\"id\":\"7030\"},\"selection_policy\":{\"id\":\"7051\"}},\"id\":\"7029\",\"type\":\"ColumnDataSource\"},{\"attributes\":{\"axis\":{\"id\":\"7068\"},\"dimension\":1,\"ticker\":{\"id\":\"7069\"}},\"id\":\"7071\",\"type\":\"Grid\"},{\"attributes\":{\"data\":{\"Invoice_Amount\":{\"__ndarray__\":\"AAAAAIBE6EAAAAAAQP7SQAAAAABcjxFBCtejcPMzCkEAAAAAINkFQVK4HoUtJhNBAAAAAGgBA0GkcD0KlpEQQZmZmZlrahRBAAAAADRmEEEAAAAAUNv+QAAAAAA4cAFB\",\"dtype\":\"float64\",\"shape\":[12]},\"Month\":[\"January\",\"February\",\"March\",\"April\",\"May\",\"June\",\"July\",\"August\",\"September\",\"October\",\"November\",\"December\"]},\"selected\":{\"id\":\"6796\"},\"selection_policy\":{\"id\":\"6816\"}},\"id\":\"6795\",\"type\":\"ColumnDataSource\"},{\"attributes\":{\"align\":null,\"below\":[{\"id\":\"7009\"}],\"center\":[{\"id\":\"7011\"},{\"id\":\"7015\"}],\"left\":[{\"id\":\"7012\"}],\"margin\":null,\"min_border_bottom\":10,\"min_border_left\":10,\"min_border_right\":10,\"min_border_top\":10,\"plot_height\":800,\"plot_width\":1400,\"renderers\":[{\"id\":\"7035\"}],\"sizing_mode\":\"fixed\",\"title\":{\"id\":\"7001\"},\"toolbar\":{\"id\":\"7022\"},\"x_range\":{\"id\":\"6941\"},\"x_scale\":{\"id\":\"7005\"},\"y_range\":{\"id\":\"6698\"},\"y_scale\":{\"id\":\"7007\"}},\"id\":\"7000\",\"subtype\":\"Figure\",\"type\":\"Plot\"},{\"attributes\":{},\"id\":\"7230\",\"type\":\"UnionRenderers\"},{\"attributes\":{\"data_source\":{\"id\":\"6973\"},\"glyph\":{\"id\":\"6976\"},\"hover_glyph\":null,\"muted_glyph\":{\"id\":\"6978\"},\"nonselection_glyph\":{\"id\":\"6977\"},\"selection_glyph\":null,\"view\":{\"id\":\"6980\"}},\"id\":\"6979\",\"type\":\"GlyphRenderer\"},{\"attributes\":{\"data_source\":{\"id\":\"7029\"},\"glyph\":{\"id\":\"7032\"},\"hover_glyph\":null,\"muted_glyph\":{\"id\":\"7034\"},\"nonselection_glyph\":{\"id\":\"7033\"},\"selection_glyph\":null,\"view\":{\"id\":\"7036\"}},\"id\":\"7035\",\"type\":\"GlyphRenderer\"},{\"attributes\":{\"source\":{\"id\":\"6973\"}},\"id\":\"6980\",\"type\":\"CDSView\"},{\"attributes\":{\"source\":{\"id\":\"7029\"}},\"id\":\"7036\",\"type\":\"CDSView\"},{\"attributes\":{},\"id\":\"7069\",\"type\":\"BasicTicker\"},{\"attributes\":{\"format\":\"$%.0f\"},\"id\":\"6981\",\"type\":\"PrintfTickFormatter\"},{\"attributes\":{\"format\":\"$%.0f\"},\"id\":\"7037\",\"type\":\"PrintfTickFormatter\"},{\"attributes\":{},\"id\":\"7074\",\"type\":\"WheelZoomTool\"},{\"attributes\":{},\"id\":\"7005\",\"type\":\"CategoricalScale\"},{\"attributes\":{\"axis_label\":\"Total Invoiced ($)\",\"axis_label_text_font_size\":\"20pt\",\"bounds\":\"auto\",\"formatter\":{\"id\":\"7093\"},\"major_label_orientation\":\"horizontal\",\"major_label_text_font_size\":\"20pt\",\"ticker\":{\"id\":\"7069\"}},\"id\":\"7068\",\"type\":\"LinearAxis\"},{\"attributes\":{},\"id\":\"6983\",\"type\":\"CategoricalTickFormatter\"},{\"attributes\":{},\"id\":\"7039\",\"type\":\"CategoricalTickFormatter\"},{\"attributes\":{},\"id\":\"7073\",\"type\":\"PanTool\"},{\"attributes\":{},\"id\":\"7007\",\"type\":\"LinearScale\"},{\"attributes\":{\"data\":{\"Invoice_Amount\":{\"__ndarray__\":\"MzMzM+0hE0EAAAAAwGYGQQAAAAB4RwNBAAAAABDUAkFmZmZmorwBQQAAAAAQnv1AAAAAAHCp/EAAAAAAAFL8QAAAAACYE/hAAAAAAEiX80A=\",\"dtype\":\"float64\",\"shape\":[10]},\"State\":[\"AL\",\"LA\",\"GA\",\"NC\",\"CA\",\"KY\",\"NY\",\"UT\",\"IL\",\"TN\"]},\"selected\":{\"id\":\"7086\"},\"selection_policy\":{\"id\":\"7107\"}},\"id\":\"7085\",\"type\":\"ColumnDataSource\"},{\"attributes\":{},\"id\":\"7072\",\"type\":\"SaveTool\"},{\"attributes\":{\"overlay\":{\"id\":\"7077\"}},\"id\":\"7075\",\"type\":\"BoxZoomTool\"},{\"attributes\":{\"axis_label\":\"Total Sales\",\"axis_label_text_font_size\":\"20pt\",\"bounds\":\"auto\",\"formatter\":{\"id\":\"7037\"},\"major_label_orientation\":\"horizontal\",\"major_label_text_font_size\":\"20pt\",\"ticker\":{\"id\":\"7013\"}},\"id\":\"7012\",\"type\":\"LinearAxis\"},{\"attributes\":{},\"id\":\"7010\",\"type\":\"CategoricalTicker\"}],\"root_ids\":[\"6695\",\"7430\"]},\"title\":\"Bokeh Application\",\"version\":\"2.0.2\"}};\n  var render_items = [{\"docid\":\"bd6d4433-82af-4348-a7be-62e157cdd1fa\",\"root_ids\":[\"6695\"],\"roots\":{\"6695\":\"009e455c-0b46-4b13-9a13-cff1543942bf\"}}];\n  root.Bokeh.embed.embed_items_notebook(docs_json, render_items);\n  }\nif (root.Bokeh !== undefined) {\n    embed_document(root);\n  } else {\n    var attempts = 0;\n    var timer = setInterval(function(root) {\n      if (root.Bokeh !== undefined) {\n        clearInterval(timer);\n        embed_document(root);\n      } else if (document.readyState == \"complete\") {\n        attempts++;\n        if (attempts > 100) {\n          clearInterval(timer);\n          console.log(\"Bokeh: ERROR: Unable to run BokehJS code because BokehJS library is missing\");\n        }\n      }\n    }, 10, root)\n  }\n})(window);</script>",
      "application/vnd.holoviews_exec.v0+json": "",
      "text/plain": [
       "Tabs\n",
       "    [0] Column\n",
       "        [0] HoloViews(Bars)\n",
       "        [1] HoloViews(Overlay)\n",
       "        [2] HoloViews(Bars)\n",
       "    [1] Column\n",
       "        [0] HoloViews(Bars)\n",
       "        [1] HoloViews(Bars)\n",
       "        [2] HoloViews(Bars)\n",
       "        [3] HoloViews(Bars)\n",
       "    [2] Column\n",
       "        [0] Plotly(Figure)\n",
       "        [1] Plotly(Figure)\n",
       "    [3] Column\n",
       "        [0] Row\n",
       "            [0] HoloViews(DynamicMap)\n",
       "            [1] Column\n",
       "                [0] WidgetBox\n",
       "                    [0] Select(margin=(20, 20, 20, 20), name='State', options=['DC', 'KS', 'KY', ...], value='DC', width=250)\n",
       "                [1] VSpacer()\n",
       "    [4] Column\n",
       "        [0] Str(None)\n",
       "        [1] Str(None)\n",
       "        [2] Str(None)\n",
       "        [3] Str(None)\n",
       "        [4] Str(None)"
      ]
     },
     "metadata": {
      "application/vnd.holoviews_exec.v0+json": {
       "id": "6695"
      }
     },
     "execution_count": 115
    }
   ],
   "source": [
    "\n",
    "Housing_Units = pn.Column(\n",
    "    Housing_Units_Per_Year(),\n",
    "    Average_Gross_Rent(),\n",
    "    Average_Sales_Price())\n",
    "\n",
    "Housing_Avg = pn.Column(\n",
    "    Average_Price_by_Neighborhood(),\n",
    "    TOP_Expensive_Neighborhoods(),\n",
    "    TOP_Paying_Customers_State(),\n",
    "    TOP_Lowest_Paying_State())\n",
    "\n",
    "Parallel_Plots = pn.Column(\n",
    "    Parallel_Coordinates(),\n",
    "    Parallel_Categories())\n",
    "\n",
    "DropDown = pn.Column(\n",
    "    Dropdown_Plots())\n",
    "\n",
    "subscription_grouping = pn.Column(\n",
    "    plt__atlas_grouped__year_subscription__mean.show(),\n",
    "    plt__atlas_grouped__year_subscription__sum.show(),\n",
    "    plt__atlas_grouped__year_subscription__count.show(),\n",
    "    plt__atlas_grouped__year_subscription__nbrusers.show(),\n",
    "    plt__atlas_grouped__year_subscription__count_1.show())\n",
    "\n",
    "#Map_Plot = pn.Column(\n",
    "#    Neighborhood_Map())\n",
    "\n",
    "Dashboard = pn.Tabs(\n",
    "#                (\"Welcome\", Map_Plot),\n",
    "                (\"Yearly Market Analysis\", Housing_Units),\n",
    "                (\"Neighborhood Analysis\", Housing_Avg),\n",
    "                (\"Parallel Plots\", Parallel_Plots),\n",
    "                (\"Interactive Plotting\", DropDown),\n",
    "                (\"Subscription Analysis\", subscription_grouping))        \n",
    "Dashboard"
   ]
  },
  {
   "cell_type": "code",
   "execution_count": 116,
   "metadata": {},
   "outputs": [
    {
     "output_type": "display_data",
     "data": {},
     "metadata": {}
    },
    {
     "output_type": "display_data",
     "data": {},
     "metadata": {}
    },
    {
     "output_type": "execute_result",
     "data": {
      "text/html": "<div id='7741'>\n\n\n\n\n\n  <div class=\"bk-root\" id=\"6297cade-569f-4f48-a728-611f605ee8a3\" data-root-id=\"7741\"></div>\n</div>\n<script type=\"application/javascript\">(function(root) {\n  function embed_document(root) {\n  var docs_json = {\"7a7ef103-bdab-47da-b4cd-8c39dc785899\":{\"roots\":{\"references\":[{\"attributes\":{\"bottom_units\":\"screen\",\"fill_alpha\":0.5,\"fill_color\":\"lightgrey\",\"left_units\":\"screen\",\"level\":\"overlay\",\"line_alpha\":1.0,\"line_color\":\"black\",\"line_dash\":[4,4],\"line_width\":2,\"render_mode\":\"css\",\"right_units\":\"screen\",\"top_units\":\"screen\"},\"id\":\"8244\",\"type\":\"BoxAnnotation\"},{\"attributes\":{\"bottom_units\":\"screen\",\"fill_alpha\":0.5,\"fill_color\":\"lightgrey\",\"left_units\":\"screen\",\"level\":\"overlay\",\"line_alpha\":1.0,\"line_color\":\"black\",\"line_dash\":[4,4],\"line_width\":2,\"render_mode\":\"css\",\"right_units\":\"screen\",\"top_units\":\"screen\"},\"id\":\"7767\",\"type\":\"BoxAnnotation\"},{\"attributes\":{\"margin\":[5,5,5,5],\"name\":\"VSpacer11944\",\"sizing_mode\":\"stretch_height\"},\"id\":\"8281\",\"type\":\"Spacer\"},{\"attributes\":{\"margin\":[20,20,20,20],\"min_width\":250,\"options\":[\"DC\",\"KS\",\"KY\",\"LA\",\"MD\",\"NV\",\"NY\",\"VA\",\"AL\",\"CA\",\"CT\",\"DE\",\"FL\",\"GA\",\"HI\",\"IL\",\"MI\",\"MO\",\"MS\",\"MT\",\"NC\",\"NJ\",\"OH\",\"OR\",\"PA\",\"SC\",\"UT\",\"VT\",\"AZ\",\"ND\",\"SA\",\"TN\",\"TX\",\"WA\",\"MA\",\"NM\",\"AR\",\"CO\",\"IN\",\"NH\",\"Canada\",\"GU\",\"ME\",\"MN\",\"NE\",\"OK\",\"RI\",\"WI\",\"WV\",\"WY\"],\"title\":\"State\",\"value\":\"DC\",\"width\":250},\"id\":\"8280\",\"type\":\"Select\"},{\"attributes\":{\"margin\":[5,5,5,5],\"name\":\"Str11951\"},\"id\":\"8286\",\"type\":\"panel.models.markup.HTML\"},{\"attributes\":{\"child\":{\"id\":\"8218\"},\"name\":\"Column11946\",\"title\":\"Interactive Plotting\"},\"id\":\"8282\",\"type\":\"Panel\"},{\"attributes\":{\"child\":{\"id\":\"8283\"},\"name\":\"Column11957\",\"title\":\"Subscription Analysis\"},\"id\":\"8289\",\"type\":\"Panel\"},{\"attributes\":{\"margin\":[5,5,5,5],\"name\":\"Str11949\"},\"id\":\"8285\",\"type\":\"panel.models.markup.HTML\"},{\"attributes\":{\"margin\":[5,5,5,5],\"name\":\"Str11947\"},\"id\":\"8284\",\"type\":\"panel.models.markup.HTML\"},{\"attributes\":{\"margin\":[5,5,5,5],\"name\":\"Str11953\"},\"id\":\"8287\",\"type\":\"panel.models.markup.HTML\"},{\"attributes\":{\"margin\":[5,5,5,5],\"name\":\"Str11955\"},\"id\":\"8288\",\"type\":\"panel.models.markup.HTML\"},{\"attributes\":{\"fill_alpha\":{\"value\":0.1},\"fill_color\":{\"value\":\"#1f77b3\"},\"line_alpha\":{\"value\":0.1},\"top\":{\"field\":\"Invoice_Amount\"},\"width\":{\"value\":0.8},\"x\":{\"field\":\"Year\"}},\"id\":\"8256\",\"type\":\"VBar\"},{\"attributes\":{},\"id\":\"8253\",\"type\":\"Selection\"},{\"attributes\":{\"fill_color\":{\"value\":\"#1f77b3\"},\"top\":{\"field\":\"Invoice_Amount\"},\"width\":{\"value\":0.8},\"x\":{\"field\":\"Year\"}},\"id\":\"8255\",\"type\":\"VBar\"},{\"attributes\":{\"fill_alpha\":{\"value\":0.2},\"fill_color\":{\"value\":\"#1f77b3\"},\"line_alpha\":{\"value\":0.2},\"top\":{\"field\":\"Invoice_Amount\"},\"width\":{\"value\":0.8},\"x\":{\"field\":\"Year\"}},\"id\":\"8257\",\"type\":\"VBar\"},{\"attributes\":{\"children\":[{\"id\":\"7990\"},{\"id\":\"8046\"},{\"id\":\"8102\"},{\"id\":\"8158\"}],\"margin\":[0,0,0,0],\"name\":\"Column11900\"},\"id\":\"7986\",\"type\":\"Column\"},{\"attributes\":{\"data\":{\"Invoice_Amount\":{\"__ndarray__\":\"MzMzM+0hE0EAAAAAwGYGQQAAAAB4RwNBAAAAABDUAkFmZmZmorwBQQAAAAAQnv1AAAAAAHCp/EAAAAAAAFL8QAAAAACYE/hAAAAAAEiX80A=\",\"dtype\":\"float64\",\"shape\":[10]},\"State\":[\"AL\",\"LA\",\"GA\",\"NC\",\"CA\",\"KY\",\"NY\",\"UT\",\"IL\",\"TN\"]},\"selected\":{\"id\":\"8132\"},\"selection_policy\":{\"id\":\"8153\"}},\"id\":\"8131\",\"type\":\"ColumnDataSource\"},{\"attributes\":{},\"id\":\"7776\",\"type\":\"Selection\"},{\"attributes\":{},\"id\":\"8122\",\"type\":\"ResetTool\"},{\"attributes\":{\"data_source\":{\"id\":\"8252\"},\"glyph\":{\"id\":\"8255\"},\"hover_glyph\":null,\"muted_glyph\":{\"id\":\"8257\"},\"nonselection_glyph\":{\"id\":\"8256\"},\"selection_glyph\":null,\"view\":{\"id\":\"8259\"}},\"id\":\"8258\",\"type\":\"GlyphRenderer\"},{\"attributes\":{\"source\":{\"id\":\"8252\"}},\"id\":\"8259\",\"type\":\"CDSView\"},{\"attributes\":{\"format\":\"$%.0f\"},\"id\":\"8260\",\"type\":\"PrintfTickFormatter\"},{\"attributes\":{\"children\":[{\"id\":\"8279\"},{\"id\":\"8281\"}],\"margin\":[0,0,0,0],\"name\":\"Column11945\"},\"id\":\"8278\",\"type\":\"Column\"},{\"attributes\":{},\"id\":\"8262\",\"type\":\"CategoricalTickFormatter\"},{\"attributes\":{\"format\":\"$%.0f\"},\"id\":\"7783\",\"type\":\"PrintfTickFormatter\"},{\"attributes\":{},\"id\":\"8276\",\"type\":\"UnionRenderers\"},{\"attributes\":{},\"id\":\"7797\",\"type\":\"UnionRenderers\"},{\"attributes\":{},\"id\":\"8318\",\"type\":\"Selection\"},{\"attributes\":{},\"id\":\"8319\",\"type\":\"UnionRenderers\"},{\"attributes\":{\"child\":{\"id\":\"8212\"},\"name\":\"Column11905\",\"title\":\"Parallel Plots\"},\"id\":\"8217\",\"type\":\"Panel\"},{\"attributes\":{\"data\":{\"dimensions.0.values\":[{\"__ndarray__\":\"AAAAAACKu0AAAAAAAEBvQAAAAAAAAFlAAAAAAABAf0AAAAAAAAAuQAAAAAAAwGdAAAAAAAC0pEAAAAAAAPiWQAAAAAAAlrlAAAAAAABAb0AAAAAAAAAuQAAAAAAAAC5AAAAAAABAb0AAAAAAAEBvQAAAAAAAAC5AAAAAAAAALkAAAAAAAABZQAAAAAAAQG9AAAAAAADgcEAAAAAAAABpQAAAAAAAYHNAAAAAAAAANEAAAAAAAABZQAAAAAAAAFlAAAAAAABAf0AAAAAAAEB/QAAAAAAAAFlAAAAAAAAAWUAAAAAAAABJQAAAAAAAAGlAAAAAAAAohEAAAAAAAMBSQAAAAAAAQG9AAAAAAAAAWUAAAAAAAAAuQAAAAAAAQG9AAAAAAABAb0AAAAAAAEBvQAAAAAAAAFlAAAAAAABcskAAAAAAAECPQAAAAAAAAFlAAAAAAABAb0AAAAAAAABZQAAAAAAAAFlAAAAAAABAj0AAAAAAAEBvQAAAAAAAAFlAAAAAAAAAWUAAAAAAAEBvQAAAAAAAQG9AAAAAAABAb0AAAAAAAABZQAAAAAAAAFlAAAAAAAAAWUAAAAAAAIizQAAAAAAAQG9AAAAAAAAAWUAAAAAAAEBVQAAAAAAAwHJAAAAAAABAb0AAAAAAAABZQAAAAAAAwFJAAAAAAAAASUAAAAAAACB8QAAAAAAAAElAAAAAAAAAOUAAAAAAAABpQAAAAAAAAElAAAAAAAAAREAAAAAAAABJQAAAAAAAAElAAAAAAABAb0AAAAAAAEBvQAAAAAAAAFlAAAAAAAAAKkAAAAAAAABZQAAAAAAAQH9AAAAAAAAAJEAAAAAAAEBvQAAAAAAAAFlAAAAAAAAAaUAAAAAAAABZQAAAAAAAAFlAAAAAAABAb0AAAAAAAMBSQAAAAAAAwHJAAAAAAAAASUAAAAAAAMByQAAAAAAAAFlAAAAAAADyskAAAAAAAMByQAAAAAAAAFlAAAAAAAAAPkAAAAAAAAA5QAAAAAAAQH9AAAAAAAAASUAAAAAAAOB1QAAAAAAAAElAAAAAAAAAGEAAAAAAAAA0QAAAAAAAAFlAAAAAAABAVUAAAAAAAIBfQAAAAAAAAElAAAAAAAAAaUAAAAAAAAA0QAAAAAAAgHxAAAAAAAAAWUAAAAAAAAA5QAAAAAAAADRAAAAAAADAUkAAAAAAAECPQAAAAAAAAElAAAAAAABAj0AAAAAAAAA5QAAAAAAAADRAAAAAAAAAOUAAAAAAAAB5QAAAAAAAQG9AAAAAAAAASUAAAAAAAMByQAAAAAAAAElAAAAAAAAASUAAAAAAAAA5QAAAAAAAADlAAAAAAABAb0AAAAAAAABJQAAAAAAAQH9AAAAAAAAAWUAAAAAAAFyyQAAAAAAAAElAAAAAAADAbkAAAAAAAABJQAAAAAAAwHJAAAAAAAAAWUAAAAAAAABZQAAAAAAAADlAAAAAAABAb0AAAAAAAAA5QAAAAAAAAGlAAAAAAAAAWUAAAAAAAOyTQAAAAAAAQG9AAAAAAAAAOUAAAAAAAABZQAAAAAAAAGlAAAAAAADAYkAAAAAAALBwQAAAAAAAADlAAAAAAADAUkAAAAAAAMByQAAAAAAAAGlAAAAAAACAQUAAAAAAAABpQAAAAAAAgF9AAAAAAAAASUAAAAAAAMBSQAAAAAAAgFtAAAAAAAAwe0AAAAAAAAA3QAAAAAAAgElAAAAAAAAASUAAAAAAAABZQAAAAAAAADRAAAAAAAAAaUAAAAAAAMBiQAAAAAAAQH9AAAAAAAAANEAAAAAAAOBgQAAAAAAAADRAAAAAAADAckAAAAAAAEBfQAAAAAAAADlAAAAAAAAASUAAAAAAAMBiQAAAAAAAQG9AAAAAAAAASUAAAAAAAMBSQAAAAAAAQGBAAAAAAABAU0AAAAAAAMByQAAAAAAAAE5AAAAAAAAANEAAAAAAAEB/QAAAAAAAAGlAAAAAAAAASUAAAAAAAABJQAAAAAAAAGlAAAAAAADgYEAAAAAAAABJQAAAAAAAEHhAAAAAAABAb0AAAAAAAAA0QAAAAAAAADRAAAAAAADyskAAAAAAAABZQAAAAAAAADlAAAAAAAAA+H8AAAAAAABZQAAAAAAAAElAAAAAAAAAWUAAAAAAAEBvQAAAAAAAAElAAAAAAAAAWUAAAAAAAMByQAAAAAAAAElAAAAAAAAAP0AAAAAAAABZQAAAAAAA4GJAAAAAAAAASUAAAAAAAABJQAAAAAAAAGlAAAAAAADgYEAAAAAAAHCHQAAAAAAAAE5AAAAAAABAb0AAAAAAADB7QAAAAAAAwHJAAAAAAAAASUAAAAAAAOB1QAAAAAAAADRAAAAAAAAAaUAAAAAAAABJQAAAAAAAAElAAAAAAAAAaUAAAAAAAOBgQAAAAAAAAElAAAAAAABAf0AAAAAAAAAUQAAAAAAAQG9AAAAAAAAASUAAAAAAAABJQAAAAAAAAGlAAAAAAAAAQ0AAAAAAAOBgQAAAAAAAAFlAAAAAAACASUAAAAAAAEBvQAAAAAAAAElAAAAAAAAAaUAAAAAAAABJQAAAAAAAAElAAAAAAAAASkAAAAAAAAD4fwAAAAAAiLNAAAAAAAAAWUAAAAAAAIBLQAAAAAAAADRAAAAAAAAAP0AAAAAAAABJQAAAAAAAAC5AAAAAAAAAOUAAAAAAAIBGQAAAAAAAwFJAAAAAAADAYkAAAAAAAAAkQAAAAAAAAD5AAAAAAAAAJEAAAAAAAOBiQAAAAAAAAGlAAAAAAAAAREAAAAAAAEBvQAAAAAAA4GBAAAAAAAAASUAAAAAAAAA0QAAAAAAAAElAAAAAAAAASUAAAAAAAEB/QAAAAAAAgEZAAAAAAAAAJEAAAAAAAABJQAAAAAAAADdAAAAAAAAAP0AAAAAAAABZQAAAAAAAAElAAAAAAADghUAAAAAAAEBvQAAAAAAAACpAAAAAAAAAWUAAAAAAAMCCQAAAAAAAQG9AAAAAAABAj0AAAAAAAMBSQAAAAAAAwGJAAAAAAADAUkAAAAAAAOBlQAAAAAAALJZAAAAAAADghUAAAAAAAABZQAAAAAAAQFVAAAAAAAAASUAAAAAAAABZQAAAAAAAMKFAAAAAAAAAqUAAAAAAAABZQAAAAAAAAElAAAAAAAAAWUAAAAAAAEBfQAAAAAAAAFlAAAAAAACATkAAAAAAAABJQAAAAAAAwGZAAAAAAAAAeUAAAAAAAAA0QAAAAAAAoGVAAAAAAABAf0AAAAAAACCCQAAAAAAAgE5AAAAAAABAb0AAAAAAAMBiQAAAAAAAQH9AAAAAAAAAOUAAAAAAAABpQAAAAAAAgFpAAAAAAAAAWUAAAAAAAIBKQAAAAAAAAElAAAAAAADAckAAAAAAAABpQAAAAAAAAERAAAAAAAAAiUAAAAAAAFyyQAAAAAAAgERAAAAAAAAAKkAAAAAAAABOQAAAAAAAAHlAAAAAAAAAWUAAAAAAAAA7QAAAAAAAAFlAAAAAAAAAWUAAAAAAAABZQAAAAAAAAFlAAAAAAAAAaUAAAAAAAABJQAAAAAAAAD5AAAAAAAAAaUAAAAAAAAA0QAAAAAAAAElAAAAAAAAAaUAAAAAAAABpQAAAAAAAAFlAAAAAAABAf0AAAAAAAIizQAAAAAAAgEtAAAAAAABAb0AAAAAAAABpQAAAAAAAAFlAAAAAAAAASUAAAAAAAABZQAAAAAAAAF5AAAAAAABAn0AAAAAAAABJQAAAAAAAAFlAAAAAAAAAMUAAAAAAAABpQAAAAAAAQG9AAAAAAAAAaUAAAAAAAABZQAAAAAAAAElAAAAAAAAAREAAAAAAAMBiQAAAAAAAAFlAAAAAAAAAWUAAAAAAAABZQAAAAAAAAElAAAAAAAAAaUAAAAAAAAA+QAAAAAAAAGlAAAAAAADAYkAAAAAAAABpQAAAAAAAwGJAAAAAAABAf0AAAAAAAMBiQAAAAAAAwHJAAAAAAABAYEAAAAAAAMByQAAAAAAAUJRAAAAAAAAAaUAAAAAAAMBSQAAAAAAAAElAAAAAAAAAPkAAAAAAAEBVQAAAAAAAwHJAAAAAAAAASUAAAAAAAMBiQAAAAAAAAFlAAAAAAADAUkAAAAAAAAAkQAAAAAAAAElAAAAAAADAckAAAAAAAMByQAAAAAAAwGJAAAAAAAAAWUAAAAAAAEB/QAAAAAAAAE5AAAAAAADgdUAAAAAAAABpQAAAAAAA4HVAAAAAAAAAJEAAAAAAAMByQAAAAAAAAElAAAAAAAAAeUAAAAAAAABpQAAAAAAAAE5AAAAAAADAZ0AAAAAAAMBcQAAAAAAAAElAAAAAAADAUkAAAAAAAIBBQAAAAAAAAFlAAAAAAADAckAAAAAAAABFQAAAAAAAAFlAAAAAAACAUUAAAAAAAABpQAAAAAAAAFlAAAAAAAAALkAAAAAAAAAuQAAAAAAAgFZAAAAAAADAYkAAAAAAAABpQAAAAAAA4HVAAAAAAABAb0AAAAAAAABJQAAAAAAAwGJAAAAAAAAwgUAAAAAAAABpQAAAAAAAQH9AAAAAAAAAVEAAAAAAAABZQAAAAAAAQFhAAAAAAABAb0AAAAAAAABOQAAAAAAAwFJAAAAAAADAYkAAAAAAAABjQAAAAAAAADRAAAAAAACAW0AAAAAAAABJQAAAAAAAwGJAAAAAAAAAaUAAAAAAACB3QAAAAAAAAElAAAAAAAAAaUAAAAAAAOB1QAAAAAAAgFFAAAAAAADAXEAAAAAAAABpQAAAAAAAAFlAAAAAAACAVkAAAAAAACBhQAAAAAAAAGlAAAAAAADAV0AAAAAAAIBbQAAAAAAA4IVAAAAAAADAUkAAAAAAACB8QAAAAAAAwGJAAAAAAADAYkAAAAAAAIBRQAAAAAAAwGJAAAAAAABAVUAAAAAAAAB5QAAAAAAA4IVAAAAAAAAAPkAAAAAAAMiOQAAAAAAAAElAAAAAAACAcUAAAAAAAABUQAAAAAAAgGVAAAAAAAAAPkAAAAAAAMBiQAAAAAAAAFlAAAAAAABAWUAAAAAAAOB1QAAAAAAAAFRAAAAAAADAYkAAAAAAAIBaQAAAAAAAQGdAAAAAAAAgY0AAAAAAAABZQAAAAAAAAGlAAAAAAADAYkAAAAAAAABZQAAAAAAAwHJAAAAAAADAUkAAAAAAAEBvQAAAAAAA4HVAAAAAAABAb0AAAAAAAOB1QAAAAAAAAGlAAAAAAAAAWUAAAAAAAMBiQAAAAAAAwHJAAAAAAACATEAAAAAAAAAkQAAAAAAAQG9AAAAAAABAb0AAAAAAAAB5QAAAAAAAAFlAAAAAAAAASUAAAAAAAAAuQAAAAAAAQGVAAAAAAAAASUAAAAAAAMBXQAAAAAAAwFJAAAAAAAAALkAAAAAAAEB/QAAAAAAAADlAAAAAAAAAXkAAAAAAAEBvQAAAAAAAgFFAAAAAAACAdkAAAAAAAABZQAAAAAAAIIJAAAAAAAAAJEAAAAAAAABZQAAAAAAAkHpAAAAAAAAAUkAAAAAAAABZQAAAAAAAAHlAAAAAAAAAWUAAAAAAAMBiQAAAAAAAwFJAAAAAAADAYkAAAAAAAIBrQAAAAAAAADlAAAAAAAAASUAAAAAAAABOQAAAAAAAADVAAAAAAAAAeUAAAAAAAMByQAAAAAAAQHBAAAAAAAAASUAAAAAAAMBiQAAAAAAAwGJAAAAAAAAANEAAAAAAAABZQAAAAAAAQH9AAAAAAAAAOUAAAAAAAABZQAAAAAAAcHZAAAAAAABogEAAAAAAAEBVQAAAAAAAQG9AAAAAAABwd0AAAAAAAIBYQAAAAAAAIHxAAAAAAADAYkAAAAAAAFiWQAAAAAAAQGVAAAAAAADAYkAAAAAAAABUQAAAAAAAAElAAAAAAADAYkAAAAAAAFB0QAAAAAAAAF1AAAAAAADAckAAAAAAAABEQAAAAAAAAElAAAAAAABgZUAAAAAAAABJQAAAAAAAAERAAAAAAAAAaUAAAAAAAIBLQAAAAAAAgEZAAAAAAABAX0AAAAAAAMBgQAAAAAAAAElAAAAAAAAAJkAAAAAAAABZQAAAAAAAwGJAAAAAAAAASUAAAAAAAABBQAAAAAAA4HVAAAAAAAAASUAAAAAAAABpQAAAAAAAwGJAAAAAAAAAaUAAAAAAAMBRQAAAAAAAAElAAAAAAAAASUAAAAAAAMCCQAAAAAAAgFFAAAAAAAAAWUAAAAAAAABpQAAAAAAAQF9AAAAAAAAAaUAAAAAAAABpQAAAAAAAgEFAAAAAAAAAKkAAAAAAAAA5QAAAAAAAYHZAAAAAAAAAWUAAAAAAAJB6QAAAAAAAAGlAAAAAAADAUkAAAAAAAABMQAAAAAAAwHJAAAAAAAAAJEAAAAAAAABCQAAAAAAAAFlAAAAAAAAASUAAAAAAAMBiQAAAAAAAAFlAAAAAAAD4kUAAAAAAAHCHQAAAAAAAAFlAAAAAAABAYEAAAAAAAAAkQAAAAAAAgEFAAAAAAADAUkAAAAAAAABZQAAAAAAAADRAAAAAAAAAM0AAAAAAAOB1QAAAAAAAACRAAAAAAABAf0AAAAAAAABJQAAAAAAAACRAAAAAAADAYkAAAAAAAEBgQAAAAAAAAD5AAAAAAAAANEAAAAAAAABEQAAAAAAAEIdAAAAAAABAf0AAAAAAAIBWQAAAAAAAACBAAAAAAACAW0AAAAAAAABKQAAAAAAAQG9AAAAAAAAASUAAAAAAAHieQAAAAAAAQH9AAAAAAAAAdEAAAAAAAAA0QAAAAAAAAFlAAAAAAADAckAAAAAAAAAsQAAAAAAAQH9AAAAAAADAckAAAAAAAAAuQAAAAAAAAE5AAAAAAAAAPkAAAAAAAABJQAAAAAAAAFlAAAAAAAAAWUAAAAAAAH+4QAAAAAAAADRAAAAAAAAAREAAAAAAAOB1QAAAAAAAwFJAAAAAAAAANEAAAAAAAAA+QAAAAAAAcHNAAAAAAAAASUAAAAAAAECPQAAAAAAAAGlAAAAAAAAAWUAAAAAAAABJQAAAAAAAAElAAAAAAAAANEAAAAAAAMBSQAAAAAAAADRAAAAAAAAASUAAAAAAAGBjQAAAAAAAAFlAAAAAAAAASUAAAAAAAAAUQAAAAAAAgEFAAAAAAAAASUAAAAAAAABZQAAAAAAAABBAAAAAAAAANEAAAAAAAABpQAAAAAAAgFpAAAAAAAAAJEAAAAAAAEBVQAAAAAAAAFlAAAAAAAAATkAAAAAAAIBWQAAAAAAAABhAAAAAAAAAaUAAAAAAAABJQAAAAAAAwGJAAAAAAADgdUAAAAAAAAAkQAAAAAAAwHJAAAAAAADgdUAAAAAAAAA0QAAAAAAAwGJAAAAAAACwfUAAAAAAAABpQAAAAAAAAGlAAAAAAAAAaUAAAAAAAOB1QAAAAAAAAElAAAAAAADAckA=\",\"dtype\":\"float64\",\"shape\":[700]}],\"dimensions.1.values\":[{\"__ndarray__\":\"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\",\"dtype\":\"float64\",\"shape\":[700]}],\"dimensions.2.values\":[[2015,2015,2015,2015,2015,2015,2015,2015,2015,2015,2016,2016,2016,2016,2016,2016,2016,2016,2016,2016,2016,2016,2016,2016,2016,2016,2016,2016,2016,2016,2016,2016,2016,2016,2016,2016,2016,2016,2016,2016,2016,2016,2016,2016,2016,2016,2016,2016,2016,2016,2016,2016,2016,2016,2016,2016,2016,2016,2016,2016,2016,2016,2016,2016,2016,2017,2017,2017,2017,2017,2017,2017,2017,2017,2017,2017,2017,2017,2017,2017,2017,2017,2017,2017,2017,2017,2017,2017,2017,2017,2017,2017,2017,2017,2017,2017,2017,2017,2017,2017,2017,2017,2017,2017,2017,2017,2017,2017,2017,2017,2017,2017,2017,2017,2017,2017,2017,2017,2017,2017,2017,2017,2018,2018,2018,2018,2018,2018,2018,2018,2018,2018,2018,2018,2018,2018,2018,2018,2018,2018,2018,2018,2018,2018,2018,2018,2018,2018,2018,2018,2018,2018,2018,2018,2018,2018,2018,2018,2018,2018,2018,2018,2018,2018,2018,2018,2018,2018,2018,2018,2018,2018,2018,2018,2018,2018,2018,2018,2018,2018,2018,2018,2018,2018,2018,2018,2019,2019,2019,2019,2019,2019,2019,2019,2019,2019,2019,2019,2019,2019,2019,2019,2019,2019,2019,2019,2019,2019,2019,2019,2019,2019,2019,2019,2019,2019,2019,2019,2019,2019,2019,2019,2019,2019,2019,2019,2019,2019,2019,2019,2019,2019,2019,2019,2019,2019,2019,2019,2019,2019,2019,2019,2019,2019,2019,2019,2019,2019,2019,2019,2019,2019,2019,2019,2019,2019,2019,2019,2019,2019,2019,2020,2020,2020,2020,2020,2020,2020,2020,2020,2020,2020,2020,2020,2020,2020,2020,2020,2020,2020,2020,2020,2020,2020,2020,2020,2020,2020,2020,2020,2020,2020,2020,2020,2020,2020,2020,2020,2020,2020,2020,2020,2020,2020,2020,2020,2020,2020,2020,2020,2020,2020,2020,2020,2020,2020,2020,2020,2020,2020,2020,2020,2020,2020,2020,2020,2020,2020,2020,2020,2020,2020,2020,2020,2020,2020,2020,2020,2020,2020,2020,2020,2020,2020,2020,2020,2020,2020,2020,2020,2020,2020,2020,2020,2020,2020,2020,2020,2020,2020,2020,2020,2020,2020,2020,2020,2020,2020,2020,2020,2020,2020,2020,2020,2020,2020,2020,2020,2020,2020,2020,2020,2020,2020,2020,2020,2020,2020,2020,2020,2020,2020,2020,2020,2020,2020,2020,2020,2020,2020,2020,2020,2020,2020,2020,2020,2020,2020,2020,2020,2020,2020,2020,2020,2020,2020,2020,2020,2020,2020,2020,2020,2020,2020,2020,2020,2020,2020,2020,2020,2020,2020,2020,2020,2020,2020,2020,2020,2020,2020,2020,2020,2020,2020,2020,2020,2020,2020,2020,2020,2020,2020,2020,2020,2020,2020,2020,2020,2020,2020,2020,2020,2020,2020,2020,2020,2020,2020,2020,2020,2020,2020,2020,2020,2020,2020,2020,2020,2020,2020,2020,2020,2020,2020,2020,2020,2020,2020,2020,2020,2020,2020,2020,2020,2020,2020,2020,2020,2020,2020,2020,2020,2020,2020,2020,2020,2020,2020,2020,2020,2020,2020,2020,2020,2020,2020,2020,2020,2020,2020,2020,2020,2020,2020,2020,2020,2020,2020,2020,2020,2020,2020,2020,2020,2020,2020,2020,2020,2020,2020,2020,2020,2020,2020,2020,2020,2020,2020,2020,2020,2020,2020,2020,2020,2020,2020,2020,2020,2020,2020,2020,2020,2020,2020,2020,2020,2020,2020,2020,2020,2020,2020,2020,2020,2020,2020,2020,2020,2020,2020,2020,2020,2020,2020,2020,2020,2020,2020,2020,2020,2020,2020,2020,2020,2020,2020,2020,2020,2020,2020,2020,2020,2020,2020,2020,2020,2020,2020,2020,2020,2020,2020,2020,2020,2020,2020,2020,2020,2020,2020,2020,2020,2020,2020,2020,2020,2020,2020,2020,2020,2020,2020,2020,2020,2020,2020,2020,2020,2020,2020,2020,2020,2020,2020,2020,2020,2020,2020,2020,2020,2020,2020,2020,2020,2020,2020,2020,2020,2020,2020,2020,2020,2020,2020,2020,2020,2020,2020,2020,2020,2020,2020,2020,2020,2020,2020,2020,2020,2020,2020,2020,2020,2020,2020,2020,2020,2020,2020,2020,2020,2020,2020,2020,2020,2020,2020,2020,2020,2020,2020]],\"line.color\":[{\"__ndarray__\":\"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\",\"dtype\":\"float64\",\"shape\":[700]}]},\"selected\":{\"id\":\"8318\"},\"selection_policy\":{\"id\":\"8319\"}},\"id\":\"8213\",\"type\":\"ColumnDataSource\"},{\"attributes\":{\"data\":{\"Invoice_Amount\":{\"__ndarray__\":\"AAAAAIBE6EAAAAAAQP7SQAAAAABcjxFBCtejcPMzCkEAAAAAINkFQVK4HoUtJhNBAAAAAGgBA0GkcD0KlpEQQZmZmZlrahRBAAAAADRmEEEAAAAAUNv+QAAAAAA4cAFB\",\"dtype\":\"float64\",\"shape\":[12]},\"Month\":[\"January\",\"February\",\"March\",\"April\",\"May\",\"June\",\"July\",\"August\",\"September\",\"October\",\"November\",\"December\"]},\"selected\":{\"id\":\"7842\"},\"selection_policy\":{\"id\":\"7862\"}},\"id\":\"7841\",\"type\":\"ColumnDataSource\"},{\"attributes\":{\"children\":[{\"id\":\"8219\"}],\"margin\":[0,0,0,0],\"name\":\"Column11946\"},\"id\":\"8218\",\"type\":\"Column\"},{\"attributes\":{\"_render_count\":0,\"config\":null,\"data\":[{\"dimensions\":[{\"label\":\"Number of Users\"},{\"label\":\"Invoice Amount\"},{\"label\":\"Year\"}],\"domain\":{\"x\":[0.0,1.0],\"y\":[0.0,1.0]},\"line\":{\"coloraxis\":\"coloraxis\"},\"name\":\"\",\"type\":\"parcoords\"}],\"data_sources\":[{\"id\":\"8213\"}],\"layout\":{\"coloraxis\":{\"colorbar\":{\"title\":{\"text\":\"Invoice Amount\"}},\"colorscale\":[[0.0,\"#0d0887\"],[0.1111111111111111,\"#46039f\"],[0.2222222222222222,\"#7201a8\"],[0.3333333333333333,\"#9c179e\"],[0.4444444444444444,\"#bd3786\"],[0.5555555555555556,\"#d8576b\"],[0.6666666666666666,\"#ed7953\"],[0.7777777777777778,\"#fb9f3a\"],[0.8888888888888888,\"#fdca26\"],[1.0,\"#f0f921\"]]},\"legend\":{\"tracegroupgap\":0},\"template\":{\"data\":{\"bar\":[{\"error_x\":{\"color\":\"#2a3f5f\"},\"error_y\":{\"color\":\"#2a3f5f\"},\"marker\":{\"line\":{\"color\":\"#E5ECF6\",\"width\":0.5}},\"type\":\"bar\"}],\"barpolar\":[{\"marker\":{\"line\":{\"color\":\"#E5ECF6\",\"width\":0.5}},\"type\":\"barpolar\"}],\"carpet\":[{\"aaxis\":{\"endlinecolor\":\"#2a3f5f\",\"gridcolor\":\"white\",\"linecolor\":\"white\",\"minorgridcolor\":\"white\",\"startlinecolor\":\"#2a3f5f\"},\"baxis\":{\"endlinecolor\":\"#2a3f5f\",\"gridcolor\":\"white\",\"linecolor\":\"white\",\"minorgridcolor\":\"white\",\"startlinecolor\":\"#2a3f5f\"},\"type\":\"carpet\"}],\"choropleth\":[{\"colorbar\":{\"outlinewidth\":0,\"ticks\":\"\"},\"type\":\"choropleth\"}],\"contour\":[{\"colorbar\":{\"outlinewidth\":0,\"ticks\":\"\"},\"colorscale\":[[0.0,\"#0d0887\"],[0.1111111111111111,\"#46039f\"],[0.2222222222222222,\"#7201a8\"],[0.3333333333333333,\"#9c179e\"],[0.4444444444444444,\"#bd3786\"],[0.5555555555555556,\"#d8576b\"],[0.6666666666666666,\"#ed7953\"],[0.7777777777777778,\"#fb9f3a\"],[0.8888888888888888,\"#fdca26\"],[1.0,\"#f0f921\"]],\"type\":\"contour\"}],\"contourcarpet\":[{\"colorbar\":{\"outlinewidth\":0,\"ticks\":\"\"},\"type\":\"contourcarpet\"}],\"heatmap\":[{\"colorbar\":{\"outlinewidth\":0,\"ticks\":\"\"},\"colorscale\":[[0.0,\"#0d0887\"],[0.1111111111111111,\"#46039f\"],[0.2222222222222222,\"#7201a8\"],[0.3333333333333333,\"#9c179e\"],[0.4444444444444444,\"#bd3786\"],[0.5555555555555556,\"#d8576b\"],[0.6666666666666666,\"#ed7953\"],[0.7777777777777778,\"#fb9f3a\"],[0.8888888888888888,\"#fdca26\"],[1.0,\"#f0f921\"]],\"type\":\"heatmap\"}],\"heatmapgl\":[{\"colorbar\":{\"outlinewidth\":0,\"ticks\":\"\"},\"colorscale\":[[0.0,\"#0d0887\"],[0.1111111111111111,\"#46039f\"],[0.2222222222222222,\"#7201a8\"],[0.3333333333333333,\"#9c179e\"],[0.4444444444444444,\"#bd3786\"],[0.5555555555555556,\"#d8576b\"],[0.6666666666666666,\"#ed7953\"],[0.7777777777777778,\"#fb9f3a\"],[0.8888888888888888,\"#fdca26\"],[1.0,\"#f0f921\"]],\"type\":\"heatmapgl\"}],\"histogram\":[{\"marker\":{\"colorbar\":{\"outlinewidth\":0,\"ticks\":\"\"}},\"type\":\"histogram\"}],\"histogram2d\":[{\"colorbar\":{\"outlinewidth\":0,\"ticks\":\"\"},\"colorscale\":[[0.0,\"#0d0887\"],[0.1111111111111111,\"#46039f\"],[0.2222222222222222,\"#7201a8\"],[0.3333333333333333,\"#9c179e\"],[0.4444444444444444,\"#bd3786\"],[0.5555555555555556,\"#d8576b\"],[0.6666666666666666,\"#ed7953\"],[0.7777777777777778,\"#fb9f3a\"],[0.8888888888888888,\"#fdca26\"],[1.0,\"#f0f921\"]],\"type\":\"histogram2d\"}],\"histogram2dcontour\":[{\"colorbar\":{\"outlinewidth\":0,\"ticks\":\"\"},\"colorscale\":[[0.0,\"#0d0887\"],[0.1111111111111111,\"#46039f\"],[0.2222222222222222,\"#7201a8\"],[0.3333333333333333,\"#9c179e\"],[0.4444444444444444,\"#bd3786\"],[0.5555555555555556,\"#d8576b\"],[0.6666666666666666,\"#ed7953\"],[0.7777777777777778,\"#fb9f3a\"],[0.8888888888888888,\"#fdca26\"],[1.0,\"#f0f921\"]],\"type\":\"histogram2dcontour\"}],\"mesh3d\":[{\"colorbar\":{\"outlinewidth\":0,\"ticks\":\"\"},\"type\":\"mesh3d\"}],\"parcoords\":[{\"line\":{\"colorbar\":{\"outlinewidth\":0,\"ticks\":\"\"}},\"type\":\"parcoords\"}],\"pie\":[{\"automargin\":true,\"type\":\"pie\"}],\"scatter\":[{\"marker\":{\"colorbar\":{\"outlinewidth\":0,\"ticks\":\"\"}},\"type\":\"scatter\"}],\"scatter3d\":[{\"line\":{\"colorbar\":{\"outlinewidth\":0,\"ticks\":\"\"}},\"marker\":{\"colorbar\":{\"outlinewidth\":0,\"ticks\":\"\"}},\"type\":\"scatter3d\"}],\"scattercarpet\":[{\"marker\":{\"colorbar\":{\"outlinewidth\":0,\"ticks\":\"\"}},\"type\":\"scattercarpet\"}],\"scattergeo\":[{\"marker\":{\"colorbar\":{\"outlinewidth\":0,\"ticks\":\"\"}},\"type\":\"scattergeo\"}],\"scattergl\":[{\"marker\":{\"colorbar\":{\"outlinewidth\":0,\"ticks\":\"\"}},\"type\":\"scattergl\"}],\"scattermapbox\":[{\"marker\":{\"colorbar\":{\"outlinewidth\":0,\"ticks\":\"\"}},\"type\":\"scattermapbox\"}],\"scatterpolar\":[{\"marker\":{\"colorbar\":{\"outlinewidth\":0,\"ticks\":\"\"}},\"type\":\"scatterpolar\"}],\"scatterpolargl\":[{\"marker\":{\"colorbar\":{\"outlinewidth\":0,\"ticks\":\"\"}},\"type\":\"scatterpolargl\"}],\"scatterternary\":[{\"marker\":{\"colorbar\":{\"outlinewidth\":0,\"ticks\":\"\"}},\"type\":\"scatterternary\"}],\"surface\":[{\"colorbar\":{\"outlinewidth\":0,\"ticks\":\"\"},\"colorscale\":[[0.0,\"#0d0887\"],[0.1111111111111111,\"#46039f\"],[0.2222222222222222,\"#7201a8\"],[0.3333333333333333,\"#9c179e\"],[0.4444444444444444,\"#bd3786\"],[0.5555555555555556,\"#d8576b\"],[0.6666666666666666,\"#ed7953\"],[0.7777777777777778,\"#fb9f3a\"],[0.8888888888888888,\"#fdca26\"],[1.0,\"#f0f921\"]],\"type\":\"surface\"}],\"table\":[{\"cells\":{\"fill\":{\"color\":\"#EBF0F8\"},\"line\":{\"color\":\"white\"}},\"header\":{\"fill\":{\"color\":\"#C8D4E3\"},\"line\":{\"color\":\"white\"}},\"type\":\"table\"}]},\"layout\":{\"annotationdefaults\":{\"arrowcolor\":\"#2a3f5f\",\"arrowhead\":0,\"arrowwidth\":1},\"coloraxis\":{\"colorbar\":{\"outlinewidth\":0,\"ticks\":\"\"}},\"colorscale\":{\"diverging\":[[0,\"#8e0152\"],[0.1,\"#c51b7d\"],[0.2,\"#de77ae\"],[0.3,\"#f1b6da\"],[0.4,\"#fde0ef\"],[0.5,\"#f7f7f7\"],[0.6,\"#e6f5d0\"],[0.7,\"#b8e186\"],[0.8,\"#7fbc41\"],[0.9,\"#4d9221\"],[1,\"#276419\"]],\"sequential\":[[0.0,\"#0d0887\"],[0.1111111111111111,\"#46039f\"],[0.2222222222222222,\"#7201a8\"],[0.3333333333333333,\"#9c179e\"],[0.4444444444444444,\"#bd3786\"],[0.5555555555555556,\"#d8576b\"],[0.6666666666666666,\"#ed7953\"],[0.7777777777777778,\"#fb9f3a\"],[0.8888888888888888,\"#fdca26\"],[1.0,\"#f0f921\"]],\"sequentialminus\":[[0.0,\"#0d0887\"],[0.1111111111111111,\"#46039f\"],[0.2222222222222222,\"#7201a8\"],[0.3333333333333333,\"#9c179e\"],[0.4444444444444444,\"#bd3786\"],[0.5555555555555556,\"#d8576b\"],[0.6666666666666666,\"#ed7953\"],[0.7777777777777778,\"#fb9f3a\"],[0.8888888888888888,\"#fdca26\"],[1.0,\"#f0f921\"]]},\"colorway\":[\"#636efa\",\"#EF553B\",\"#00cc96\",\"#ab63fa\",\"#FFA15A\",\"#19d3f3\",\"#FF6692\",\"#B6E880\",\"#FF97FF\",\"#FECB52\"],\"font\":{\"color\":\"#2a3f5f\"},\"geo\":{\"bgcolor\":\"white\",\"lakecolor\":\"white\",\"landcolor\":\"#E5ECF6\",\"showlakes\":true,\"showland\":true,\"subunitcolor\":\"white\"},\"hoverlabel\":{\"align\":\"left\"},\"hovermode\":\"closest\",\"mapbox\":{\"style\":\"light\"},\"paper_bgcolor\":\"white\",\"plot_bgcolor\":\"#E5ECF6\",\"polar\":{\"angularaxis\":{\"gridcolor\":\"white\",\"linecolor\":\"white\",\"ticks\":\"\"},\"bgcolor\":\"#E5ECF6\",\"radialaxis\":{\"gridcolor\":\"white\",\"linecolor\":\"white\",\"ticks\":\"\"}},\"scene\":{\"xaxis\":{\"backgroundcolor\":\"#E5ECF6\",\"gridcolor\":\"white\",\"gridwidth\":2,\"linecolor\":\"white\",\"showbackground\":true,\"ticks\":\"\",\"zerolinecolor\":\"white\"},\"yaxis\":{\"backgroundcolor\":\"#E5ECF6\",\"gridcolor\":\"white\",\"gridwidth\":2,\"linecolor\":\"white\",\"showbackground\":true,\"ticks\":\"\",\"zerolinecolor\":\"white\"},\"zaxis\":{\"backgroundcolor\":\"#E5ECF6\",\"gridcolor\":\"white\",\"gridwidth\":2,\"linecolor\":\"white\",\"showbackground\":true,\"ticks\":\"\",\"zerolinecolor\":\"white\"}},\"shapedefaults\":{\"line\":{\"color\":\"#2a3f5f\"}},\"ternary\":{\"aaxis\":{\"gridcolor\":\"white\",\"linecolor\":\"white\",\"ticks\":\"\"},\"baxis\":{\"gridcolor\":\"white\",\"linecolor\":\"white\",\"ticks\":\"\"},\"bgcolor\":\"#E5ECF6\",\"caxis\":{\"gridcolor\":\"white\",\"linecolor\":\"white\",\"ticks\":\"\"}},\"title\":{\"x\":0.05},\"xaxis\":{\"automargin\":true,\"gridcolor\":\"white\",\"linecolor\":\"white\",\"ticks\":\"\",\"title\":{\"standoff\":15},\"zerolinecolor\":\"white\",\"zerolinewidth\":2},\"yaxis\":{\"automargin\":true,\"gridcolor\":\"white\",\"linecolor\":\"white\",\"ticks\":\"\",\"title\":{\"standoff\":15},\"zerolinecolor\":\"white\",\"zerolinewidth\":2}}},\"title\":{\"text\":\"Parallel View of Invoices along with Number of Users from 2015 to 2020\"}},\"margin\":[5,5,5,5],\"name\":\"Plotly11901\",\"viewport_update_throttle\":200},\"id\":\"8214\",\"type\":\"panel.models.plotly.PlotlyPlot\"},{\"attributes\":{\"_render_count\":0,\"config\":null,\"data\":[{\"dimensions\":[{\"label\":\"Customers Status\"},{\"label\":\"Year\"},{\"label\":\"Invoice Amount\"},{\"label\":\"Number of Users\"}],\"domain\":{\"x\":[0.0,1.0],\"y\":[0.0,1.0]},\"line\":{\"coloraxis\":\"coloraxis\"},\"name\":\"\",\"type\":\"parcats\"}],\"data_sources\":[{\"id\":\"8215\"}],\"layout\":{\"coloraxis\":{\"colorbar\":{\"title\":{\"text\":\"Year\"}},\"colorscale\":[[0.0,\"#000004\"],[0.1111111111111111,\"#1b0c41\"],[0.2222222222222222,\"#4a0c6b\"],[0.3333333333333333,\"#781c6d\"],[0.4444444444444444,\"#a52c60\"],[0.5555555555555556,\"#cf4446\"],[0.6666666666666666,\"#ed6925\"],[0.7777777777777778,\"#fb9b06\"],[0.8888888888888888,\"#f7d13d\"],[1.0,\"#fcffa4\"]]},\"height\":1400,\"legend\":{\"tracegroupgap\":0},\"template\":{\"data\":{\"bar\":[{\"error_x\":{\"color\":\"#2a3f5f\"},\"error_y\":{\"color\":\"#2a3f5f\"},\"marker\":{\"line\":{\"color\":\"#E5ECF6\",\"width\":0.5}},\"type\":\"bar\"}],\"barpolar\":[{\"marker\":{\"line\":{\"color\":\"#E5ECF6\",\"width\":0.5}},\"type\":\"barpolar\"}],\"carpet\":[{\"aaxis\":{\"endlinecolor\":\"#2a3f5f\",\"gridcolor\":\"white\",\"linecolor\":\"white\",\"minorgridcolor\":\"white\",\"startlinecolor\":\"#2a3f5f\"},\"baxis\":{\"endlinecolor\":\"#2a3f5f\",\"gridcolor\":\"white\",\"linecolor\":\"white\",\"minorgridcolor\":\"white\",\"startlinecolor\":\"#2a3f5f\"},\"type\":\"carpet\"}],\"choropleth\":[{\"colorbar\":{\"outlinewidth\":0,\"ticks\":\"\"},\"type\":\"choropleth\"}],\"contour\":[{\"colorbar\":{\"outlinewidth\":0,\"ticks\":\"\"},\"colorscale\":[[0.0,\"#0d0887\"],[0.1111111111111111,\"#46039f\"],[0.2222222222222222,\"#7201a8\"],[0.3333333333333333,\"#9c179e\"],[0.4444444444444444,\"#bd3786\"],[0.5555555555555556,\"#d8576b\"],[0.6666666666666666,\"#ed7953\"],[0.7777777777777778,\"#fb9f3a\"],[0.8888888888888888,\"#fdca26\"],[1.0,\"#f0f921\"]],\"type\":\"contour\"}],\"contourcarpet\":[{\"colorbar\":{\"outlinewidth\":0,\"ticks\":\"\"},\"type\":\"contourcarpet\"}],\"heatmap\":[{\"colorbar\":{\"outlinewidth\":0,\"ticks\":\"\"},\"colorscale\":[[0.0,\"#0d0887\"],[0.1111111111111111,\"#46039f\"],[0.2222222222222222,\"#7201a8\"],[0.3333333333333333,\"#9c179e\"],[0.4444444444444444,\"#bd3786\"],[0.5555555555555556,\"#d8576b\"],[0.6666666666666666,\"#ed7953\"],[0.7777777777777778,\"#fb9f3a\"],[0.8888888888888888,\"#fdca26\"],[1.0,\"#f0f921\"]],\"type\":\"heatmap\"}],\"heatmapgl\":[{\"colorbar\":{\"outlinewidth\":0,\"ticks\":\"\"},\"colorscale\":[[0.0,\"#0d0887\"],[0.1111111111111111,\"#46039f\"],[0.2222222222222222,\"#7201a8\"],[0.3333333333333333,\"#9c179e\"],[0.4444444444444444,\"#bd3786\"],[0.5555555555555556,\"#d8576b\"],[0.6666666666666666,\"#ed7953\"],[0.7777777777777778,\"#fb9f3a\"],[0.8888888888888888,\"#fdca26\"],[1.0,\"#f0f921\"]],\"type\":\"heatmapgl\"}],\"histogram\":[{\"marker\":{\"colorbar\":{\"outlinewidth\":0,\"ticks\":\"\"}},\"type\":\"histogram\"}],\"histogram2d\":[{\"colorbar\":{\"outlinewidth\":0,\"ticks\":\"\"},\"colorscale\":[[0.0,\"#0d0887\"],[0.1111111111111111,\"#46039f\"],[0.2222222222222222,\"#7201a8\"],[0.3333333333333333,\"#9c179e\"],[0.4444444444444444,\"#bd3786\"],[0.5555555555555556,\"#d8576b\"],[0.6666666666666666,\"#ed7953\"],[0.7777777777777778,\"#fb9f3a\"],[0.8888888888888888,\"#fdca26\"],[1.0,\"#f0f921\"]],\"type\":\"histogram2d\"}],\"histogram2dcontour\":[{\"colorbar\":{\"outlinewidth\":0,\"ticks\":\"\"},\"colorscale\":[[0.0,\"#0d0887\"],[0.1111111111111111,\"#46039f\"],[0.2222222222222222,\"#7201a8\"],[0.3333333333333333,\"#9c179e\"],[0.4444444444444444,\"#bd3786\"],[0.5555555555555556,\"#d8576b\"],[0.6666666666666666,\"#ed7953\"],[0.7777777777777778,\"#fb9f3a\"],[0.8888888888888888,\"#fdca26\"],[1.0,\"#f0f921\"]],\"type\":\"histogram2dcontour\"}],\"mesh3d\":[{\"colorbar\":{\"outlinewidth\":0,\"ticks\":\"\"},\"type\":\"mesh3d\"}],\"parcoords\":[{\"line\":{\"colorbar\":{\"outlinewidth\":0,\"ticks\":\"\"}},\"type\":\"parcoords\"}],\"pie\":[{\"automargin\":true,\"type\":\"pie\"}],\"scatter\":[{\"marker\":{\"colorbar\":{\"outlinewidth\":0,\"ticks\":\"\"}},\"type\":\"scatter\"}],\"scatter3d\":[{\"line\":{\"colorbar\":{\"outlinewidth\":0,\"ticks\":\"\"}},\"marker\":{\"colorbar\":{\"outlinewidth\":0,\"ticks\":\"\"}},\"type\":\"scatter3d\"}],\"scattercarpet\":[{\"marker\":{\"colorbar\":{\"outlinewidth\":0,\"ticks\":\"\"}},\"type\":\"scattercarpet\"}],\"scattergeo\":[{\"marker\":{\"colorbar\":{\"outlinewidth\":0,\"ticks\":\"\"}},\"type\":\"scattergeo\"}],\"scattergl\":[{\"marker\":{\"colorbar\":{\"outlinewidth\":0,\"ticks\":\"\"}},\"type\":\"scattergl\"}],\"scattermapbox\":[{\"marker\":{\"colorbar\":{\"outlinewidth\":0,\"ticks\":\"\"}},\"type\":\"scattermapbox\"}],\"scatterpolar\":[{\"marker\":{\"colorbar\":{\"outlinewidth\":0,\"ticks\":\"\"}},\"type\":\"scatterpolar\"}],\"scatterpolargl\":[{\"marker\":{\"colorbar\":{\"outlinewidth\":0,\"ticks\":\"\"}},\"type\":\"scatterpolargl\"}],\"scatterternary\":[{\"marker\":{\"colorbar\":{\"outlinewidth\":0,\"ticks\":\"\"}},\"type\":\"scatterternary\"}],\"surface\":[{\"colorbar\":{\"outlinewidth\":0,\"ticks\":\"\"},\"colorscale\":[[0.0,\"#0d0887\"],[0.1111111111111111,\"#46039f\"],[0.2222222222222222,\"#7201a8\"],[0.3333333333333333,\"#9c179e\"],[0.4444444444444444,\"#bd3786\"],[0.5555555555555556,\"#d8576b\"],[0.6666666666666666,\"#ed7953\"],[0.7777777777777778,\"#fb9f3a\"],[0.8888888888888888,\"#fdca26\"],[1.0,\"#f0f921\"]],\"type\":\"surface\"}],\"table\":[{\"cells\":{\"fill\":{\"color\":\"#EBF0F8\"},\"line\":{\"color\":\"white\"}},\"header\":{\"fill\":{\"color\":\"#C8D4E3\"},\"line\":{\"color\":\"white\"}},\"type\":\"table\"}]},\"layout\":{\"annotationdefaults\":{\"arrowcolor\":\"#2a3f5f\",\"arrowhead\":0,\"arrowwidth\":1},\"coloraxis\":{\"colorbar\":{\"outlinewidth\":0,\"ticks\":\"\"}},\"colorscale\":{\"diverging\":[[0,\"#8e0152\"],[0.1,\"#c51b7d\"],[0.2,\"#de77ae\"],[0.3,\"#f1b6da\"],[0.4,\"#fde0ef\"],[0.5,\"#f7f7f7\"],[0.6,\"#e6f5d0\"],[0.7,\"#b8e186\"],[0.8,\"#7fbc41\"],[0.9,\"#4d9221\"],[1,\"#276419\"]],\"sequential\":[[0.0,\"#0d0887\"],[0.1111111111111111,\"#46039f\"],[0.2222222222222222,\"#7201a8\"],[0.3333333333333333,\"#9c179e\"],[0.4444444444444444,\"#bd3786\"],[0.5555555555555556,\"#d8576b\"],[0.6666666666666666,\"#ed7953\"],[0.7777777777777778,\"#fb9f3a\"],[0.8888888888888888,\"#fdca26\"],[1.0,\"#f0f921\"]],\"sequentialminus\":[[0.0,\"#0d0887\"],[0.1111111111111111,\"#46039f\"],[0.2222222222222222,\"#7201a8\"],[0.3333333333333333,\"#9c179e\"],[0.4444444444444444,\"#bd3786\"],[0.5555555555555556,\"#d8576b\"],[0.6666666666666666,\"#ed7953\"],[0.7777777777777778,\"#fb9f3a\"],[0.8888888888888888,\"#fdca26\"],[1.0,\"#f0f921\"]]},\"colorway\":[\"#636efa\",\"#EF553B\",\"#00cc96\",\"#ab63fa\",\"#FFA15A\",\"#19d3f3\",\"#FF6692\",\"#B6E880\",\"#FF97FF\",\"#FECB52\"],\"font\":{\"color\":\"#2a3f5f\"},\"geo\":{\"bgcolor\":\"white\",\"lakecolor\":\"white\",\"landcolor\":\"#E5ECF6\",\"showlakes\":true,\"showland\":true,\"subunitcolor\":\"white\"},\"hoverlabel\":{\"align\":\"left\"},\"hovermode\":\"closest\",\"mapbox\":{\"style\":\"light\"},\"paper_bgcolor\":\"white\",\"plot_bgcolor\":\"#E5ECF6\",\"polar\":{\"angularaxis\":{\"gridcolor\":\"white\",\"linecolor\":\"white\",\"ticks\":\"\"},\"bgcolor\":\"#E5ECF6\",\"radialaxis\":{\"gridcolor\":\"white\",\"linecolor\":\"white\",\"ticks\":\"\"}},\"scene\":{\"xaxis\":{\"backgroundcolor\":\"#E5ECF6\",\"gridcolor\":\"white\",\"gridwidth\":2,\"linecolor\":\"white\",\"showbackground\":true,\"ticks\":\"\",\"zerolinecolor\":\"white\"},\"yaxis\":{\"backgroundcolor\":\"#E5ECF6\",\"gridcolor\":\"white\",\"gridwidth\":2,\"linecolor\":\"white\",\"showbackground\":true,\"ticks\":\"\",\"zerolinecolor\":\"white\"},\"zaxis\":{\"backgroundcolor\":\"#E5ECF6\",\"gridcolor\":\"white\",\"gridwidth\":2,\"linecolor\":\"white\",\"showbackground\":true,\"ticks\":\"\",\"zerolinecolor\":\"white\"}},\"shapedefaults\":{\"line\":{\"color\":\"#2a3f5f\"}},\"ternary\":{\"aaxis\":{\"gridcolor\":\"white\",\"linecolor\":\"white\",\"ticks\":\"\"},\"baxis\":{\"gridcolor\":\"white\",\"linecolor\":\"white\",\"ticks\":\"\"},\"bgcolor\":\"#E5ECF6\",\"caxis\":{\"gridcolor\":\"white\",\"linecolor\":\"white\",\"ticks\":\"\"}},\"title\":{\"x\":0.05},\"xaxis\":{\"automargin\":true,\"gridcolor\":\"white\",\"linecolor\":\"white\",\"ticks\":\"\",\"title\":{\"standoff\":15},\"zerolinecolor\":\"white\",\"zerolinewidth\":2},\"yaxis\":{\"automargin\":true,\"gridcolor\":\"white\",\"linecolor\":\"white\",\"ticks\":\"\",\"title\":{\"standoff\":15},\"zerolinecolor\":\"white\",\"zerolinewidth\":2}}},\"title\":{\"text\":\"Customers Status from 2015 to 2020 based on Most Loyal (Active), New Customers, and Lost Customers\"}},\"margin\":[5,5,5,5],\"name\":\"Plotly11903\",\"viewport_update_throttle\":200},\"id\":\"8216\",\"type\":\"panel.models.plotly.PlotlyPlot\"},{\"attributes\":{\"data\":{\"dimensions.0.values\":[[\"Lost\",\"Active\",\"Active\",\"Lost\",\"Lost\",\"Active\",\"Active\",\"Active\",\"Lost\",\"Lost\",\"Active\",\"Active\",\"Active\",\"Lost\",\"Lost\",\"Lost\",\"Active\",\"Active\",\"Lost\",\"Active\",\"Lost\",\"Lost\",\"Active\",\"Active\",\"Active\",\"Active\",\"Lost\",\"Active\",\"Active\",\"Lost\",\"Active\",\"Lost\",\"Lost\",\"Lost\",\"Lost\",\"Lost\",\"Lost\",\"Lost\",\"Lost\",\"Active\",\"Lost\",\"Active\",\"Lost\",\"Active\",\"Lost\",\"Active\",\"Lost\",\"Lost\",\"Active\",\"Active\",\"Active\",\"Active\",\"Active\",\"Lost\",\"Lost\",\"Active\",\"Lost\",\"Lost\",\"Lost\",\"Active\",\"Lost\",\"Lost\",\"Lost\",\"Active\",\"Active\",\"Active\",\"Lost\",\"Lost\",\"Lost\",\"Lost\",\"Lost\",\"Active\",\"Active\",\"Active\",\"Active\",\"Lost\",\"Lost\",\"Lost\",\"Lost\",\"Active\",\"Active\",\"Lost\",\"Lost\",\"Active\",\"Active\",\"Lost\",\"Active\",\"Lost\",\"Active\",\"Active\",\"Lost\",\"Active\",\"Active\",\"Lost\",\"Lost\",\"Active\",\"Lost\",\"Active\",\"Lost\",\"Lost\",\"Lost\",\"Active\",\"Lost\",\"Active\",\"Active\",\"Active\",\"Active\",\"Lost\",\"Lost\",\"Lost\",\"Lost\",\"Lost\",\"Lost\",\"Lost\",\"Lost\",\"Lost\",\"Lost\",\"Lost\",\"Active\",\"Active\",\"Active\",\"Active\",\"Active\",\"Active\",\"Lost\",\"Lost\",\"Active\",\"Active\",\"Active\",\"Active\",\"Active\",\"Active\",\"Active\",\"Lost\",\"Active\",\"Active\",\"Active\",\"Active\",\"Active\",\"Lost\",\"Lost\",\"Active\",\"Active\",\"Lost\",\"Lost\",\"Active\",\"Active\",\"Lost\",\"Active\",\"Active\",\"Active\",\"Active\",\"Active\",\"Active\",\"Lost\",\"Active\",\"Active\",\"Lost\",\"Lost\",\"Active\",\"Active\",\"Lost\",\"Active\",\"Active\",\"Lost\",\"Active\",\"Lost\",\"Active\",\"Lost\",\"Active\",\"Lost\",\"Active\",\"Active\",\"Active\",\"Active\",\"Lost\",\"Lost\",\"Active\",\"Active\",\"Active\",\"Lost\",\"Active\",\"Lost\",\"Active\",\"Active\",\"Active\",\"Active\",\"Active\",\"Active\",\"Active\",\"Active\",\"Active\",\"Active\",\"Active\",\"Lost\",\"Lost\",\"Active\",\"Active\",\"Lost\",\"Active\",\"Active\",\"Active\",\"Active\",\"Active\",\"Active\",\"Active\",\"Active\",\"Active\",\"Active\",\"Active\",\"Active\",\"Active\",\"Active\",\"Active\",\"Active\",\"Active\",\"Active\",\"Active\",\"Active\",\"Active\",\"Active\",\"Active\",\"Active\",\"Active\",\"Active\",\"Active\",\"Active\",\"Lost\",\"Active\",\"Lost\",\"Active\",\"Active\",\"Active\",\"Lost\",\"Lost\",\"Active\",\"Active\",\"Lost\",\"Active\",\"Active\",\"Active\",\"Active\",\"Active\",\"Active\",\"Active\",\"Active\",\"Lost\",\"Active\",\"Active\",\"Active\",\"Lost\",\"Active\",\"Lost\",\"Active\",\"Active\",\"Active\",\"Lost\",\"New\",\"Active\",\"Active\",\"Active\",\"Active\",\"Active\",\"Active\",\"Active\",\"Active\",\"Active\",\"Active\",\"Active\",\"Active\",\"New\",\"Active\",\"Active\",\"Active\",\"Active\",\"New\",\"Active\",\"New\",\"New\",\"Active\",\"New\",\"Active\",\"New\",\"Active\",\"New\",\"New\",\"Active\",\"New\",\"New\",\"Active\",\"Lost\",\"New\",\"Active\",\"New\",\"New\",\"New\",\"New\",\"New\",\"Lost\",\"New\",\"New\",\"Lost\",\"New\",\"New\",\"New\",\"New\",\"Active\",\"New\",\"New\",\"New\",\"Lost\",\"New\",\"Active\",\"New\",\"New\",\"New\",\"Active\",\"New\",\"Active\",\"New\",\"New\",\"New\",\"Active\",\"Active\",\"New\",\"Active\",\"New\",\"Lost\",\"Active\",\"New\",\"Active\",\"New\",\"New\",\"Active\",\"Lost\",\"Lost\",\"New\",\"New\",\"New\",\"New\",\"New\",\"Active\",\"New\",\"Active\",\"New\",\"New\",\"Active\",\"Lost\",\"New\",\"New\",\"New\",\"New\",\"Active\",\"New\",\"Active\",\"New\",\"Active\",\"New\",\"Active\",\"New\",\"New\",\"New\",\"Active\",\"Active\",\"Active\",\"Active\",\"Active\",\"Active\",\"Active\",\"Lost\",\"New\",\"New\",\"Active\",\"Active\",\"Active\",\"New\",\"New\",\"New\",\"New\",\"New\",\"New\",\"New\",\"New\",\"Active\",\"New\",\"New\",\"New\",\"Active\",\"Lost\",\"New\",\"New\",\"New\",\"New\",\"New\",\"New\",\"New\",\"New\",\"New\",\"New\",\"New\",\"Active\",\"New\",\"New\",\"Active\",\"New\",\"New\",\"New\",\"New\",\"New\",\"New\",\"New\",\"Active\",\"New\",\"New\",\"New\",\"Active\",\"New\",\"New\",\"New\",\"New\",\"New\",\"New\",\"New\",\"New\",\"Active\",\"Active\",\"New\",\"New\",\"Active\",\"New\",\"New\",\"New\",\"New\",\"New\",\"New\",\"New\",\"New\",\"Lost\",\"New\",\"New\",\"Active\",\"New\",\"New\",\"Active\",\"New\",\"Active\",\"New\",\"Active\",\"New\",\"New\",\"New\",\"New\",\"New\",\"New\",\"New\",\"Active\",\"Lost\",\"New\",\"New\",\"New\",\"New\",\"New\",\"New\",\"New\",\"Active\",\"New\",\"New\",\"New\",\"New\",\"New\",\"New\",\"New\",\"New\",\"New\",\"New\",\"Active\",\"Lost\",\"New\",\"New\",\"New\",\"New\",\"New\",\"Active\",\"New\",\"New\",\"New\",\"New\",\"New\",\"New\",\"New\",\"New\",\"Active\",\"New\",\"New\",\"New\",\"New\",\"Lost\",\"New\",\"New\",\"New\",\"New\",\"New\",\"Active\",\"New\",\"New\",\"New\",\"New\",\"New\",\"New\",\"New\",\"New\",\"New\",\"Lost\",\"Active\",\"New\",\"New\",\"Lost\",\"New\",\"New\",\"New\",\"New\",\"New\",\"New\",\"New\",\"New\",\"New\",\"New\",\"New\",\"New\",\"New\",\"New\",\"New\",\"New\",\"Active\",\"New\",\"New\",\"New\",\"New\",\"Lost\",\"New\",\"New\",\"New\",\"New\",\"New\",\"New\",\"New\",\"Active\",\"New\",\"Active\",\"New\",\"New\",\"Lost\",\"Active\",\"New\",\"New\",\"New\",\"New\",\"New\",\"New\",\"New\",\"New\",\"Active\",\"New\",\"New\",\"New\",\"New\",\"New\",\"Active\",\"New\",\"New\",\"New\",\"New\",\"New\",\"New\",\"New\",\"New\",\"Active\",\"Lost\",\"New\",\"New\",\"New\",\"New\",\"New\",\"Active\",\"New\",\"New\",\"New\",\"New\",\"New\",\"New\",\"New\",\"New\",\"New\",\"New\",\"New\",\"New\",\"New\",\"New\",\"New\",\"New\",\"New\",\"New\",\"New\",\"New\",\"New\",\"New\",\"New\",\"New\",\"Active\",\"New\",\"New\",\"New\",\"New\",\"New\",\"New\",\"New\",\"New\",\"New\",\"New\",\"New\",\"New\",\"New\",\"New\",\"New\",\"Active\",\"New\",\"New\",\"New\",\"Lost\",\"New\",\"New\",\"Active\",\"New\",\"New\",\"Active\",\"New\",\"New\",\"Active\",\"Active\",\"New\",\"New\",\"Active\",\"New\",\"New\",\"New\",\"New\",\"New\",\"New\",\"Active\",\"New\",\"New\",\"New\",\"New\",\"New\",\"New\",\"New\",\"New\",\"New\",\"Active\",\"New\",\"New\",\"New\",\"New\",\"New\",\"Active\",\"New\",\"New\",\"Lost\",\"New\",\"New\",\"Active\",\"New\",\"New\",\"New\",\"New\",\"Active\",\"New\",\"New\",\"New\",\"Active\",\"Active\",\"New\",\"New\",\"New\",\"New\",\"Active\",\"New\",\"New\",\"New\",\"New\",\"New\",\"New\",\"New\",\"New\",\"New\",\"New\",\"Active\",\"New\",\"New\",\"New\"]],\"dimensions.1.values\":[[2015,2015,2015,2015,2015,2015,2015,2015,2015,2015,2016,2016,2016,2016,2016,2016,2016,2016,2016,2016,2016,2016,2016,2016,2016,2016,2016,2016,2016,2016,2016,2016,2016,2016,2016,2016,2016,2016,2016,2016,2016,2016,2016,2016,2016,2016,2016,2016,2016,2016,2016,2016,2016,2016,2016,2016,2016,2016,2016,2016,2016,2016,2016,2016,2016,2017,2017,2017,2017,2017,2017,2017,2017,2017,2017,2017,2017,2017,2017,2017,2017,2017,2017,2017,2017,2017,2017,2017,2017,2017,2017,2017,2017,2017,2017,2017,2017,2017,2017,2017,2017,2017,2017,2017,2017,2017,2017,2017,2017,2017,2017,2017,2017,2017,2017,2017,2017,2017,2017,2017,2017,2017,2018,2018,2018,2018,2018,2018,2018,2018,2018,2018,2018,2018,2018,2018,2018,2018,2018,2018,2018,2018,2018,2018,2018,2018,2018,2018,2018,2018,2018,2018,2018,2018,2018,2018,2018,2018,2018,2018,2018,2018,2018,2018,2018,2018,2018,2018,2018,2018,2018,2018,2018,2018,2018,2018,2018,2018,2018,2018,2018,2018,2018,2018,2018,2018,2019,2019,2019,2019,2019,2019,2019,2019,2019,2019,2019,2019,2019,2019,2019,2019,2019,2019,2019,2019,2019,2019,2019,2019,2019,2019,2019,2019,2019,2019,2019,2019,2019,2019,2019,2019,2019,2019,2019,2019,2019,2019,2019,2019,2019,2019,2019,2019,2019,2019,2019,2019,2019,2019,2019,2019,2019,2019,2019,2019,2019,2019,2019,2019,2019,2019,2019,2019,2019,2019,2019,2019,2019,2019,2019,2020,2020,2020,2020,2020,2020,2020,2020,2020,2020,2020,2020,2020,2020,2020,2020,2020,2020,2020,2020,2020,2020,2020,2020,2020,2020,2020,2020,2020,2020,2020,2020,2020,2020,2020,2020,2020,2020,2020,2020,2020,2020,2020,2020,2020,2020,2020,2020,2020,2020,2020,2020,2020,2020,2020,2020,2020,2020,2020,2020,2020,2020,2020,2020,2020,2020,2020,2020,2020,2020,2020,2020,2020,2020,2020,2020,2020,2020,2020,2020,2020,2020,2020,2020,2020,2020,2020,2020,2020,2020,2020,2020,2020,2020,2020,2020,2020,2020,2020,2020,2020,2020,2020,2020,2020,2020,2020,2020,2020,2020,2020,2020,2020,2020,2020,2020,2020,2020,2020,2020,2020,2020,2020,2020,2020,2020,2020,2020,2020,2020,2020,2020,2020,2020,2020,2020,2020,2020,2020,2020,2020,2020,2020,2020,2020,2020,2020,2020,2020,2020,2020,2020,2020,2020,2020,2020,2020,2020,2020,2020,2020,2020,2020,2020,2020,2020,2020,2020,2020,2020,2020,2020,2020,2020,2020,2020,2020,2020,2020,2020,2020,2020,2020,2020,2020,2020,2020,2020,2020,2020,2020,2020,2020,2020,2020,2020,2020,2020,2020,2020,2020,2020,2020,2020,2020,2020,2020,2020,2020,2020,2020,2020,2020,2020,2020,2020,2020,2020,2020,2020,2020,2020,2020,2020,2020,2020,2020,2020,2020,2020,2020,2020,2020,2020,2020,2020,2020,2020,2020,2020,2020,2020,2020,2020,2020,2020,2020,2020,2020,2020,2020,2020,2020,2020,2020,2020,2020,2020,2020,2020,2020,2020,2020,2020,2020,2020,2020,2020,2020,2020,2020,2020,2020,2020,2020,2020,2020,2020,2020,2020,2020,2020,2020,2020,2020,2020,2020,2020,2020,2020,2020,2020,2020,2020,2020,2020,2020,2020,2020,2020,2020,2020,2020,2020,2020,2020,2020,2020,2020,2020,2020,2020,2020,2020,2020,2020,2020,2020,2020,2020,2020,2020,2020,2020,2020,2020,2020,2020,2020,2020,2020,2020,2020,2020,2020,2020,2020,2020,2020,2020,2020,2020,2020,2020,2020,2020,2020,2020,2020,2020,2020,2020,2020,2020,2020,2020,2020,2020,2020,2020,2020,2020,2020,2020,2020,2020,2020,2020,2020,2020,2020,2020,2020,2020,2020,2020,2020,2020,2020,2020,2020,2020,2020,2020,2020,2020,2020,2020,2020,2020,2020,2020,2020,2020,2020,2020,2020,2020,2020,2020,2020,2020,2020,2020,2020,2020,2020,2020,2020,2020,2020,2020,2020,2020,2020,2020,2020,2020,2020,2020,2020,2020,2020,2020,2020,2020,2020,2020,2020,2020,2020,2020,2020,2020,2020,2020,2020,2020,2020]],\"dimensions.2.values\":[{\"__ndarray__\":\"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\",\"dtype\":\"float64\",\"shape\":[700]}],\"dimensions.3.values\":[{\"__ndarray__\":\"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\",\"dtype\":\"float64\",\"shape\":[700]}],\"line.color\":[[2015,2015,2015,2015,2015,2015,2015,2015,2015,2015,2016,2016,2016,2016,2016,2016,2016,2016,2016,2016,2016,2016,2016,2016,2016,2016,2016,2016,2016,2016,2016,2016,2016,2016,2016,2016,2016,2016,2016,2016,2016,2016,2016,2016,2016,2016,2016,2016,2016,2016,2016,2016,2016,2016,2016,2016,2016,2016,2016,2016,2016,2016,2016,2016,2016,2017,2017,2017,2017,2017,2017,2017,2017,2017,2017,2017,2017,2017,2017,2017,2017,2017,2017,2017,2017,2017,2017,2017,2017,2017,2017,2017,2017,2017,2017,2017,2017,2017,2017,2017,2017,2017,2017,2017,2017,2017,2017,2017,2017,2017,2017,2017,2017,2017,2017,2017,2017,2017,2017,2017,2017,2017,2018,2018,2018,2018,2018,2018,2018,2018,2018,2018,2018,2018,2018,2018,2018,2018,2018,2018,2018,2018,2018,2018,2018,2018,2018,2018,2018,2018,2018,2018,2018,2018,2018,2018,2018,2018,2018,2018,2018,2018,2018,2018,2018,2018,2018,2018,2018,2018,2018,2018,2018,2018,2018,2018,2018,2018,2018,2018,2018,2018,2018,2018,2018,2018,2019,2019,2019,2019,2019,2019,2019,2019,2019,2019,2019,2019,2019,2019,2019,2019,2019,2019,2019,2019,2019,2019,2019,2019,2019,2019,2019,2019,2019,2019,2019,2019,2019,2019,2019,2019,2019,2019,2019,2019,2019,2019,2019,2019,2019,2019,2019,2019,2019,2019,2019,2019,2019,2019,2019,2019,2019,2019,2019,2019,2019,2019,2019,2019,2019,2019,2019,2019,2019,2019,2019,2019,2019,2019,2019,2020,2020,2020,2020,2020,2020,2020,2020,2020,2020,2020,2020,2020,2020,2020,2020,2020,2020,2020,2020,2020,2020,2020,2020,2020,2020,2020,2020,2020,2020,2020,2020,2020,2020,2020,2020,2020,2020,2020,2020,2020,2020,2020,2020,2020,2020,2020,2020,2020,2020,2020,2020,2020,2020,2020,2020,2020,2020,2020,2020,2020,2020,2020,2020,2020,2020,2020,2020,2020,2020,2020,2020,2020,2020,2020,2020,2020,2020,2020,2020,2020,2020,2020,2020,2020,2020,2020,2020,2020,2020,2020,2020,2020,2020,2020,2020,2020,2020,2020,2020,2020,2020,2020,2020,2020,2020,2020,2020,2020,2020,2020,2020,2020,2020,2020,2020,2020,2020,2020,2020,2020,2020,2020,2020,2020,2020,2020,2020,2020,2020,2020,2020,2020,2020,2020,2020,2020,2020,2020,2020,2020,2020,2020,2020,2020,2020,2020,2020,2020,2020,2020,2020,2020,2020,2020,2020,2020,2020,2020,2020,2020,2020,2020,2020,2020,2020,2020,2020,2020,2020,2020,2020,2020,2020,2020,2020,2020,2020,2020,2020,2020,2020,2020,2020,2020,2020,2020,2020,2020,2020,2020,2020,2020,2020,2020,2020,2020,2020,2020,2020,2020,2020,2020,2020,2020,2020,2020,2020,2020,2020,2020,2020,2020,2020,2020,2020,2020,2020,2020,2020,2020,2020,2020,2020,2020,2020,2020,2020,2020,2020,2020,2020,2020,2020,2020,2020,2020,2020,2020,2020,2020,2020,2020,2020,2020,2020,2020,2020,2020,2020,2020,2020,2020,2020,2020,2020,2020,2020,2020,2020,2020,2020,2020,2020,2020,2020,2020,2020,2020,2020,2020,2020,2020,2020,2020,2020,2020,2020,2020,2020,2020,2020,2020,2020,2020,2020,2020,2020,2020,2020,2020,2020,2020,2020,2020,2020,2020,2020,2020,2020,2020,2020,2020,2020,2020,2020,2020,2020,2020,2020,2020,2020,2020,2020,2020,2020,2020,2020,2020,2020,2020,2020,2020,2020,2020,2020,2020,2020,2020,2020,2020,2020,2020,2020,2020,2020,2020,2020,2020,2020,2020,2020,2020,2020,2020,2020,2020,2020,2020,2020,2020,2020,2020,2020,2020,2020,2020,2020,2020,2020,2020,2020,2020,2020,2020,2020,2020,2020,2020,2020,2020,2020,2020,2020,2020,2020,2020,2020,2020,2020,2020,2020,2020,2020,2020,2020,2020,2020,2020,2020,2020,2020,2020,2020,2020,2020,2020,2020,2020,2020,2020,2020,2020,2020,2020,2020,2020,2020,2020,2020,2020,2020,2020,2020,2020,2020,2020,2020,2020,2020,2020,2020,2020,2020,2020,2020,2020,2020,2020,2020,2020,2020,2020,2020,2020,2020,2020,2020,2020]]},\"selected\":{\"id\":\"8320\"},\"selection_policy\":{\"id\":\"8321\"}},\"id\":\"8215\",\"type\":\"ColumnDataSource\"},{\"attributes\":{\"callback\":null,\"renderers\":[{\"id\":\"7967\"}],\"tags\":[\"hv_created\"],\"tooltips\":[[\"Subscription\",\"@{Subscription}\"],[\"Invoice Amount\",\"@{Invoice_Amount}\"]]},\"id\":\"7931\",\"type\":\"HoverTool\"},{\"attributes\":{\"children\":[{\"id\":\"8223\"},{\"id\":\"8278\"}],\"margin\":[0,0,0,0],\"name\":\"Row11938\"},\"id\":\"8219\",\"type\":\"Row\"},{\"attributes\":{\"children\":[{\"id\":\"8284\"},{\"id\":\"8285\"},{\"id\":\"8286\"},{\"id\":\"8287\"},{\"id\":\"8288\"}],\"margin\":[0,0,0,0],\"name\":\"Column11957\"},\"id\":\"8283\",\"type\":\"Column\"},{\"attributes\":{},\"id\":\"7937\",\"type\":\"CategoricalScale\"},{\"attributes\":{},\"id\":\"7939\",\"type\":\"LinearScale\"},{\"attributes\":{\"align\":null,\"below\":[{\"id\":\"7941\"}],\"center\":[{\"id\":\"7943\"},{\"id\":\"7947\"}],\"left\":[{\"id\":\"7944\"}],\"margin\":null,\"min_border_bottom\":10,\"min_border_left\":10,\"min_border_right\":10,\"min_border_top\":10,\"plot_height\":800,\"plot_width\":1400,\"renderers\":[{\"id\":\"7967\"}],\"sizing_mode\":\"fixed\",\"title\":{\"id\":\"7933\"},\"toolbar\":{\"id\":\"7954\"},\"x_range\":{\"id\":\"7929\"},\"x_scale\":{\"id\":\"7937\"},\"y_range\":{\"id\":\"7744\"},\"y_scale\":{\"id\":\"7939\"}},\"id\":\"7932\",\"subtype\":\"Figure\",\"type\":\"Plot\"},{\"attributes\":{\"axis_label\":\"Subscription Types\",\"axis_label_text_font_size\":\"20pt\",\"bounds\":\"auto\",\"formatter\":{\"id\":\"7971\"},\"group_text_font_size\":\"18pt\",\"major_label_orientation\":\"horizontal\",\"major_label_text_font_size\":\"18pt\",\"ticker\":{\"id\":\"7942\"}},\"id\":\"7941\",\"type\":\"CategoricalAxis\"},{\"attributes\":{\"factors\":[\"1 Year\",\"3 Years\",\"3 Months\",\"6 Months\",\"2 Years\",\"30 Days\"],\"tags\":[[[\"Subscription\",\"Subscription\",null]]]},\"id\":\"7929\",\"type\":\"FactorRange\"},{\"attributes\":{\"text\":\"Total Income by Subscription Type from 2015 to 2020\",\"text_color\":{\"value\":\"black\"},\"text_font_size\":{\"value\":\"25pt\"}},\"id\":\"7933\",\"type\":\"Title\"},{\"attributes\":{\"axis_label\":\"Total Sales by Subscription (Tounsands of Dollars)\",\"axis_label_text_font_size\":\"20pt\",\"bounds\":\"auto\",\"formatter\":{\"id\":\"7969\"},\"major_label_orientation\":\"horizontal\",\"major_label_text_font_size\":\"20pt\",\"ticker\":{\"id\":\"7945\"}},\"id\":\"7944\",\"type\":\"LinearAxis\"},{\"attributes\":{},\"id\":\"7945\",\"type\":\"BasicTicker\"},{\"attributes\":{\"axis\":{\"id\":\"7941\"},\"ticker\":{\"id\":\"7942\"}},\"id\":\"7943\",\"type\":\"Grid\"},{\"attributes\":{\"axis\":{\"id\":\"7944\"},\"dimension\":1,\"ticker\":{\"id\":\"7945\"}},\"id\":\"7947\",\"type\":\"Grid\"},{\"attributes\":{},\"id\":\"7942\",\"type\":\"CategoricalTicker\"},{\"attributes\":{},\"id\":\"7948\",\"type\":\"SaveTool\"},{\"attributes\":{},\"id\":\"7949\",\"type\":\"PanTool\"},{\"attributes\":{\"data\":{\"Invoice_Amount\":{\"__ndarray__\":\"f5HQlrPbmEAX2c73U2WAQIWUn1T7lF9A3SQGgZULV0AAAAAAAIA9QJqZmZmZmck/\",\"dtype\":\"float64\",\"shape\":[6]},\"Subscription\":[\"1 Year\",\"3 Years\",\"3 Months\",\"6 Months\",\"2 Years\",\"30 Days\"]},\"selected\":{\"id\":\"7962\"},\"selection_policy\":{\"id\":\"7983\"}},\"id\":\"7961\",\"type\":\"ColumnDataSource\"},{\"attributes\":{},\"id\":\"7950\",\"type\":\"WheelZoomTool\"},{\"attributes\":{\"children\":[{\"id\":\"8280\"}],\"css_classes\":[\"widget-box\"],\"margin\":[5,5,5,5],\"name\":\"WidgetBox11939\"},\"id\":\"8279\",\"type\":\"Column\"},{\"attributes\":{\"axis_label\":\"Year\",\"axis_label_text_font_size\":\"20pt\",\"bounds\":\"auto\",\"formatter\":{\"id\":\"8262\"},\"group_text_font_size\":\"20pt\",\"major_label_orientation\":\"horizontal\",\"major_label_text_font_size\":\"20pt\",\"ticker\":{\"id\":\"8233\"}},\"id\":\"8232\",\"type\":\"CategoricalAxis\"},{\"attributes\":{\"overlay\":{\"id\":\"7953\"}},\"id\":\"7951\",\"type\":\"BoxZoomTool\"},{\"attributes\":{\"source\":{\"id\":\"7775\"}},\"id\":\"7782\",\"type\":\"CDSView\"},{\"attributes\":{},\"id\":\"7952\",\"type\":\"ResetTool\"},{\"attributes\":{\"text\":\"Interactive Line Chart of the Average Income by State\",\"text_color\":{\"value\":\"black\"},\"text_font_size\":{\"value\":\"25pt\"}},\"id\":\"8224\",\"type\":\"Title\"},{\"attributes\":{\"data_source\":{\"id\":\"7775\"},\"glyph\":{\"id\":\"7778\"},\"hover_glyph\":null,\"muted_glyph\":{\"id\":\"7780\"},\"nonselection_glyph\":{\"id\":\"7779\"},\"selection_glyph\":null,\"view\":{\"id\":\"7782\"}},\"id\":\"7781\",\"type\":\"GlyphRenderer\"},{\"attributes\":{\"active_drag\":\"auto\",\"active_inspect\":\"auto\",\"active_multi\":null,\"active_scroll\":\"auto\",\"active_tap\":\"auto\",\"tools\":[{\"id\":\"7931\"},{\"id\":\"7948\"},{\"id\":\"7949\"},{\"id\":\"7950\"},{\"id\":\"7951\"},{\"id\":\"7952\"}]},\"id\":\"7954\",\"type\":\"Toolbar\"},{\"attributes\":{},\"id\":\"8120\",\"type\":\"WheelZoomTool\"},{\"attributes\":{\"callback\":null,\"renderers\":[{\"id\":\"8258\"}],\"tags\":[\"hv_created\"],\"tooltips\":[[\"Year\",\"@{Year}\"],[\"Invoice Amount\",\"@{Invoice_Amount}\"]]},\"id\":\"8222\",\"type\":\"HoverTool\"},{\"attributes\":{\"align\":null,\"below\":[{\"id\":\"8232\"}],\"center\":[{\"id\":\"8234\"},{\"id\":\"8238\"}],\"left\":[{\"id\":\"8235\"}],\"margin\":null,\"min_border_bottom\":10,\"min_border_left\":10,\"min_border_right\":10,\"min_border_top\":10,\"plot_height\":500,\"plot_width\":1000,\"renderers\":[{\"id\":\"8258\"}],\"sizing_mode\":\"fixed\",\"title\":{\"id\":\"8224\"},\"toolbar\":{\"id\":\"8245\"},\"x_range\":{\"id\":\"7743\"},\"x_scale\":{\"id\":\"8228\"},\"y_range\":{\"id\":\"7744\"},\"y_scale\":{\"id\":\"8230\"}},\"id\":\"8223\",\"subtype\":\"Figure\",\"type\":\"Plot\"},{\"attributes\":{\"axis\":{\"id\":\"8114\"},\"dimension\":1,\"ticker\":{\"id\":\"8115\"}},\"id\":\"8117\",\"type\":\"Grid\"},{\"attributes\":{},\"id\":\"8115\",\"type\":\"BasicTicker\"},{\"attributes\":{},\"id\":\"8228\",\"type\":\"CategoricalScale\"},{\"attributes\":{},\"id\":\"8119\",\"type\":\"PanTool\"},{\"attributes\":{\"axis_label\":\"Total Sales\",\"axis_label_text_font_size\":\"20pt\",\"bounds\":\"auto\",\"formatter\":{\"id\":\"8260\"},\"major_label_orientation\":\"horizontal\",\"major_label_text_font_size\":\"20pt\",\"ticker\":{\"id\":\"8236\"}},\"id\":\"8235\",\"type\":\"LinearAxis\"},{\"attributes\":{},\"id\":\"8118\",\"type\":\"SaveTool\"},{\"attributes\":{},\"id\":\"8230\",\"type\":\"LinearScale\"},{\"attributes\":{\"align\":null,\"below\":[{\"id\":\"8167\"}],\"center\":[{\"id\":\"8169\"},{\"id\":\"8173\"}],\"left\":[{\"id\":\"8170\"}],\"margin\":null,\"min_border_bottom\":10,\"min_border_left\":10,\"min_border_right\":10,\"min_border_top\":10,\"plot_height\":800,\"plot_width\":1400,\"renderers\":[{\"id\":\"8193\"}],\"sizing_mode\":\"fixed\",\"title\":{\"id\":\"8159\"},\"toolbar\":{\"id\":\"8180\"},\"x_range\":{\"id\":\"8099\"},\"x_scale\":{\"id\":\"8163\"},\"y_range\":{\"id\":\"7744\"},\"y_scale\":{\"id\":\"8165\"}},\"id\":\"8158\",\"subtype\":\"Figure\",\"type\":\"Plot\"},{\"attributes\":{\"overlay\":{\"id\":\"8123\"}},\"id\":\"8121\",\"type\":\"BoxZoomTool\"},{\"attributes\":{\"axis\":{\"id\":\"8111\"},\"ticker\":{\"id\":\"8112\"}},\"id\":\"8113\",\"type\":\"Grid\"},{\"attributes\":{},\"id\":\"8236\",\"type\":\"BasicTicker\"},{\"attributes\":{\"axis\":{\"id\":\"8232\"},\"grid_line_color\":null,\"ticker\":null},\"id\":\"8234\",\"type\":\"Grid\"},{\"attributes\":{\"active_drag\":\"auto\",\"active_inspect\":\"auto\",\"active_multi\":null,\"active_scroll\":\"auto\",\"active_tap\":\"auto\",\"tools\":[{\"id\":\"8101\"},{\"id\":\"8118\"},{\"id\":\"8119\"},{\"id\":\"8120\"},{\"id\":\"8121\"},{\"id\":\"8122\"}]},\"id\":\"8124\",\"type\":\"Toolbar\"},{\"attributes\":{\"axis\":{\"id\":\"8235\"},\"dimension\":1,\"grid_line_color\":null,\"ticker\":null},\"id\":\"8238\",\"type\":\"Grid\"},{\"attributes\":{\"client_comm_id\":\"7b819923fa8645e187fa14b554305b1f\",\"comm_id\":\"0264cab2c140499f946628f8cee1a299\",\"plot_id\":\"7741\"},\"id\":\"8476\",\"type\":\"panel.models.comm_manager.CommManager\"},{\"attributes\":{\"axis_label\":\"Total Invoiced ($)\",\"axis_label_text_font_size\":\"20pt\",\"bounds\":\"auto\",\"formatter\":{\"id\":\"8139\"},\"major_label_orientation\":\"horizontal\",\"major_label_text_font_size\":\"20pt\",\"ticker\":{\"id\":\"8115\"}},\"id\":\"8114\",\"type\":\"LinearAxis\"},{\"attributes\":{},\"id\":\"8233\",\"type\":\"CategoricalTicker\"},{\"attributes\":{},\"id\":\"8239\",\"type\":\"SaveTool\"},{\"attributes\":{},\"id\":\"8240\",\"type\":\"PanTool\"},{\"attributes\":{\"data\":{\"Invoice_Amount\":{\"__ndarray__\":\"AAAAAACV1UAAAAAAAEC/QAAAAAAAcKdAAAAAAABAn0AAAAAAAILUQA==\",\"dtype\":\"float64\",\"shape\":[5]},\"Year\":[\"2015\",\"2016\",\"2018\",\"2019\",\"2020\"]},\"selected\":{\"id\":\"8253\"},\"selection_policy\":{\"id\":\"8276\"}},\"id\":\"8252\",\"type\":\"ColumnDataSource\"},{\"attributes\":{\"bottom_units\":\"screen\",\"fill_alpha\":0.5,\"fill_color\":\"lightgrey\",\"left_units\":\"screen\",\"level\":\"overlay\",\"line_alpha\":1.0,\"line_color\":\"black\",\"line_dash\":[4,4],\"line_width\":2,\"render_mode\":\"css\",\"right_units\":\"screen\",\"top_units\":\"screen\"},\"id\":\"7953\",\"type\":\"BoxAnnotation\"},{\"attributes\":{},\"id\":\"8241\",\"type\":\"WheelZoomTool\"},{\"attributes\":{\"children\":[{\"id\":\"7746\"},{\"id\":\"7803\"},{\"id\":\"7932\"}],\"margin\":[0,0,0,0],\"name\":\"Column11409\"},\"id\":\"7742\",\"type\":\"Column\"},{\"attributes\":{\"overlay\":{\"id\":\"8244\"}},\"id\":\"8242\",\"type\":\"BoxZoomTool\"},{\"attributes\":{},\"id\":\"8243\",\"type\":\"ResetTool\"},{\"attributes\":{\"margin\":[0,0,0,0],\"tabs\":[{\"id\":\"7985\"},{\"id\":\"8211\"},{\"id\":\"8217\"},{\"id\":\"8282\"},{\"id\":\"8289\"}]},\"id\":\"7741\",\"type\":\"Tabs\"},{\"attributes\":{\"active_drag\":\"auto\",\"active_inspect\":\"auto\",\"active_multi\":null,\"active_scroll\":\"auto\",\"active_tap\":\"auto\",\"tools\":[{\"id\":\"8222\"},{\"id\":\"8239\"},{\"id\":\"8240\"},{\"id\":\"8241\"},{\"id\":\"8242\"},{\"id\":\"8243\"}]},\"id\":\"8245\",\"type\":\"Toolbar\"},{\"attributes\":{\"fill_color\":{\"value\":\"#1f77b3\"},\"top\":{\"field\":\"Invoice_Amount\"},\"width\":{\"value\":0.8},\"x\":{\"field\":\"Customers\"}},\"id\":\"8078\",\"type\":\"VBar\"},{\"attributes\":{},\"id\":\"8320\",\"type\":\"Selection\"},{\"attributes\":{},\"id\":\"7816\",\"type\":\"BasicTicker\"},{\"attributes\":{},\"id\":\"8321\",\"type\":\"UnionRenderers\"},{\"attributes\":{\"callback\":null,\"renderers\":[{\"id\":\"7847\"},{\"id\":\"7855\"}],\"tags\":[\"hv_created\"],\"tooltips\":[[\"Month\",\"@{Month}\"],[\"Invoice Amount\",\"@{Invoice_Amount}\"]]},\"id\":\"7801\",\"type\":\"HoverTool\"},{\"attributes\":{\"fill_alpha\":{\"value\":0.1},\"fill_color\":{\"value\":\"#1f77b3\"},\"line_alpha\":{\"value\":0.1},\"top\":{\"field\":\"Invoice_Amount\"},\"width\":{\"value\":0.8},\"x\":{\"field\":\"Customers\"}},\"id\":\"8079\",\"type\":\"VBar\"},{\"attributes\":{\"fill_alpha\":{\"value\":0.2},\"fill_color\":{\"value\":\"#1f77b3\"},\"line_alpha\":{\"value\":0.2},\"top\":{\"field\":\"Invoice_Amount\"},\"width\":{\"value\":0.8},\"x\":{\"field\":\"Customers\"}},\"id\":\"8080\",\"type\":\"VBar\"},{\"attributes\":{},\"id\":\"7808\",\"type\":\"CategoricalScale\"},{\"attributes\":{\"fill_alpha\":{\"value\":0.2},\"fill_color\":{\"value\":\"#1f77b3\"},\"line_alpha\":{\"value\":0.2},\"top\":{\"field\":\"Invoice_Amount\"},\"width\":{\"value\":0.8},\"x\":{\"field\":\"Year\"}},\"id\":\"7780\",\"type\":\"VBar\"},{\"attributes\":{},\"id\":\"8153\",\"type\":\"UnionRenderers\"},{\"attributes\":{\"align\":null,\"below\":[{\"id\":\"7999\"}],\"center\":[{\"id\":\"8001\"},{\"id\":\"8005\"}],\"left\":[{\"id\":\"8002\"}],\"margin\":null,\"min_border_bottom\":10,\"min_border_left\":10,\"min_border_right\":10,\"min_border_top\":10,\"plot_height\":900,\"plot_width\":1400,\"renderers\":[{\"id\":\"8025\"}],\"sizing_mode\":\"fixed\",\"title\":{\"id\":\"7991\"},\"toolbar\":{\"id\":\"8012\"},\"x_range\":{\"id\":\"7987\"},\"x_scale\":{\"id\":\"7995\"},\"y_range\":{\"id\":\"7744\"},\"y_scale\":{\"id\":\"7997\"}},\"id\":\"7990\",\"subtype\":\"Figure\",\"type\":\"Plot\"},{\"attributes\":{\"children\":[{\"id\":\"8214\"},{\"id\":\"8216\"}],\"margin\":[0,0,0,0],\"name\":\"Column11905\"},\"id\":\"8212\",\"type\":\"Column\"},{\"attributes\":{\"source\":{\"id\":\"8075\"}},\"id\":\"8082\",\"type\":\"CDSView\"},{\"attributes\":{\"align\":null,\"below\":[{\"id\":\"8055\"}],\"center\":[{\"id\":\"8057\"},{\"id\":\"8061\"}],\"left\":[{\"id\":\"8058\"}],\"margin\":null,\"min_border_bottom\":10,\"min_border_left\":10,\"min_border_right\":10,\"min_border_top\":10,\"plot_height\":800,\"plot_width\":1400,\"renderers\":[{\"id\":\"8081\"}],\"sizing_mode\":\"fixed\",\"title\":{\"id\":\"8047\"},\"toolbar\":{\"id\":\"8068\"},\"x_range\":{\"id\":\"7987\"},\"x_scale\":{\"id\":\"8051\"},\"y_range\":{\"id\":\"7744\"},\"y_scale\":{\"id\":\"8053\"}},\"id\":\"8046\",\"subtype\":\"Figure\",\"type\":\"Plot\"},{\"attributes\":{\"data_source\":{\"id\":\"8075\"},\"glyph\":{\"id\":\"8078\"},\"hover_glyph\":null,\"muted_glyph\":{\"id\":\"8080\"},\"nonselection_glyph\":{\"id\":\"8079\"},\"selection_glyph\":null,\"view\":{\"id\":\"8082\"}},\"id\":\"8081\",\"type\":\"GlyphRenderer\"},{\"attributes\":{\"callback\":null,\"renderers\":[{\"id\":\"8025\"}],\"tags\":[\"hv_created\"],\"tooltips\":[[\"Customers\",\"@{Customers}\"],[\"Invoice Amount\",\"@{Invoice_Amount}\"]]},\"id\":\"7989\",\"type\":\"HoverTool\"},{\"attributes\":{},\"id\":\"7810\",\"type\":\"LinearScale\"},{\"attributes\":{\"text\":\"Busiest Months of the Year for Sales from 2015 to 2020\",\"text_color\":{\"value\":\"black\"},\"text_font_size\":{\"value\":\"25pt\"}},\"id\":\"7804\",\"type\":\"Title\"},{\"attributes\":{\"align\":null,\"below\":[{\"id\":\"7755\"}],\"center\":[{\"id\":\"7757\"},{\"id\":\"7761\"}],\"left\":[{\"id\":\"7758\"}],\"margin\":null,\"min_border_bottom\":10,\"min_border_left\":10,\"min_border_right\":10,\"min_border_top\":10,\"plot_width\":1200,\"renderers\":[{\"id\":\"7781\"}],\"sizing_mode\":\"fixed\",\"title\":{\"id\":\"7747\"},\"toolbar\":{\"id\":\"7768\"},\"x_range\":{\"id\":\"7743\"},\"x_scale\":{\"id\":\"7751\"},\"y_range\":{\"id\":\"7744\"},\"y_scale\":{\"id\":\"7753\"}},\"id\":\"7746\",\"subtype\":\"Figure\",\"type\":\"Plot\"},{\"attributes\":{\"align\":null,\"below\":[{\"id\":\"7812\"}],\"center\":[{\"id\":\"7814\"},{\"id\":\"7818\"}],\"left\":[{\"id\":\"7815\"}],\"margin\":null,\"min_border_bottom\":10,\"min_border_left\":10,\"min_border_right\":10,\"min_border_top\":10,\"plot_height\":800,\"plot_width\":1400,\"renderers\":[{\"id\":\"7847\"},{\"id\":\"7855\"}],\"sizing_mode\":\"fixed\",\"title\":{\"id\":\"7804\"},\"toolbar\":{\"id\":\"7825\"},\"x_range\":{\"id\":\"7799\"},\"x_scale\":{\"id\":\"7808\"},\"y_range\":{\"id\":\"7744\"},\"y_scale\":{\"id\":\"7810\"}},\"id\":\"7803\",\"subtype\":\"Figure\",\"type\":\"Plot\"},{\"attributes\":{},\"id\":\"8053\",\"type\":\"LinearScale\"},{\"attributes\":{\"format\":\"$%.0f\"},\"id\":\"8083\",\"type\":\"PrintfTickFormatter\"},{\"attributes\":{\"factors\":[\"January\",\"February\",\"March\",\"April\",\"May\",\"June\",\"July\",\"August\",\"September\",\"October\",\"November\",\"December\"],\"tags\":[[[\"Month\",\"Month\",null]]]},\"id\":\"7799\",\"type\":\"FactorRange\"},{\"attributes\":{\"fill_alpha\":{\"value\":0.1},\"fill_color\":{\"value\":\"#1f77b3\"},\"line_alpha\":{\"value\":0.1},\"top\":{\"field\":\"Invoice_Amount\"},\"width\":{\"value\":0.8},\"x\":{\"field\":\"Customers\"}},\"id\":\"8023\",\"type\":\"VBar\"},{\"attributes\":{\"axis_label\":\"Total Number of Years\",\"axis_label_text_font_size\":\"20pt\",\"bounds\":\"auto\",\"formatter\":{\"id\":\"7785\"},\"group_text_font_size\":\"18pt\",\"major_label_orientation\":\"horizontal\",\"major_label_text_font_size\":\"18pt\",\"ticker\":{\"id\":\"7756\"}},\"id\":\"7755\",\"type\":\"CategoricalAxis\"},{\"attributes\":{},\"id\":\"8020\",\"type\":\"Selection\"},{\"attributes\":{\"axis_label\":\"Average Monthly Income\",\"axis_label_text_font_size\":\"20pt\",\"bounds\":\"auto\",\"formatter\":{\"id\":\"7832\"},\"major_label_orientation\":\"horizontal\",\"major_label_text_font_size\":\"20pt\",\"ticker\":{\"id\":\"7816\"}},\"id\":\"7815\",\"type\":\"LinearAxis\"},{\"attributes\":{\"fill_color\":{\"value\":\"#1f77b3\"},\"top\":{\"field\":\"Invoice_Amount\"},\"width\":{\"value\":0.8},\"x\":{\"field\":\"Customers\"}},\"id\":\"8022\",\"type\":\"VBar\"},{\"attributes\":{},\"id\":\"8085\",\"type\":\"CategoricalTickFormatter\"},{\"attributes\":{\"fill_alpha\":{\"value\":0.2},\"fill_color\":{\"value\":\"#1f77b3\"},\"line_alpha\":{\"value\":0.2},\"top\":{\"field\":\"Invoice_Amount\"},\"width\":{\"value\":0.8},\"x\":{\"field\":\"Customers\"}},\"id\":\"8024\",\"type\":\"VBar\"},{\"attributes\":{},\"id\":\"7751\",\"type\":\"CategoricalScale\"},{\"attributes\":{},\"id\":\"8051\",\"type\":\"CategoricalScale\"},{\"attributes\":{\"callback\":null,\"renderers\":[{\"id\":\"8081\"}],\"tags\":[\"hv_created\"],\"tooltips\":[[\"Customers\",\"@{Customers}\"],[\"Invoice Amount\",\"@{Invoice_Amount}\"]]},\"id\":\"8045\",\"type\":\"HoverTool\"},{\"attributes\":{\"bottom_units\":\"screen\",\"fill_alpha\":0.5,\"fill_color\":\"lightgrey\",\"left_units\":\"screen\",\"level\":\"overlay\",\"line_alpha\":1.0,\"line_color\":\"black\",\"line_dash\":[4,4],\"line_width\":2,\"render_mode\":\"css\",\"right_units\":\"screen\",\"top_units\":\"screen\"},\"id\":\"8123\",\"type\":\"BoxAnnotation\"},{\"attributes\":{\"text\":\"Top 10 Lowest Paying Customers of All Time\",\"text_color\":{\"value\":\"black\"},\"text_font_size\":{\"value\":\"25pt\"}},\"id\":\"8047\",\"type\":\"Title\"},{\"attributes\":{},\"id\":\"7813\",\"type\":\"CategoricalTicker\"},{\"attributes\":{\"axis\":{\"id\":\"7812\"},\"ticker\":{\"id\":\"7813\"}},\"id\":\"7814\",\"type\":\"Grid\"},{\"attributes\":{\"text\":\"Top 10 Highest Paying Customers of All Time\",\"text_color\":{\"value\":\"black\"},\"text_font_size\":{\"value\":\"25pt\"}},\"id\":\"7991\",\"type\":\"Title\"},{\"attributes\":{\"axis\":{\"id\":\"7815\"},\"dimension\":1,\"ticker\":{\"id\":\"7816\"}},\"id\":\"7818\",\"type\":\"Grid\"},{\"attributes\":{\"factors\":[\"University 30\",\"University 1\",\"University 44\",\"University 71\",\"University 7\",\"University 147\",\"University 164\",\"University 75\",\"University 88\",\"University 378\",\"University 346\",\"University 191\",\"University 218\",\"University 360\",\"University 171\",\"University 107\",\"University 337\",\"University 327\",\"University 359\",\"University 302\"],\"tags\":[[[\"Customers\",\"Customers\",null]]]},\"id\":\"7987\",\"type\":\"FactorRange\"},{\"attributes\":{},\"id\":\"7819\",\"type\":\"SaveTool\"},{\"attributes\":{\"axis_label\":\"Months\",\"axis_label_text_font_size\":\"20pt\",\"bounds\":\"auto\",\"formatter\":{\"id\":\"7834\"},\"group_text_font_size\":\"18pt\",\"major_label_orientation\":0.7853981633974483,\"major_label_text_font_size\":\"18pt\",\"ticker\":{\"id\":\"7813\"}},\"id\":\"7812\",\"type\":\"CategoricalAxis\"},{\"attributes\":{\"data_source\":{\"id\":\"8019\"},\"glyph\":{\"id\":\"8022\"},\"hover_glyph\":null,\"muted_glyph\":{\"id\":\"8024\"},\"nonselection_glyph\":{\"id\":\"8023\"},\"selection_glyph\":null,\"view\":{\"id\":\"8026\"}},\"id\":\"8025\",\"type\":\"GlyphRenderer\"},{\"attributes\":{\"source\":{\"id\":\"8019\"}},\"id\":\"8026\",\"type\":\"CDSView\"},{\"attributes\":{},\"id\":\"7820\",\"type\":\"PanTool\"},{\"attributes\":{},\"id\":\"7821\",\"type\":\"WheelZoomTool\"},{\"attributes\":{\"format\":\"$%.0f\"},\"id\":\"8027\",\"type\":\"PrintfTickFormatter\"},{\"attributes\":{\"text\":\"Top 10 Highest Paying States of All Time\",\"text_color\":{\"value\":\"black\"},\"text_font_size\":{\"value\":\"25pt\"}},\"id\":\"8103\",\"type\":\"Title\"},{\"attributes\":{\"overlay\":{\"id\":\"7824\"}},\"id\":\"7822\",\"type\":\"BoxZoomTool\"},{\"attributes\":{},\"id\":\"8029\",\"type\":\"CategoricalTickFormatter\"},{\"attributes\":{\"align\":null,\"below\":[{\"id\":\"8111\"}],\"center\":[{\"id\":\"8113\"},{\"id\":\"8117\"}],\"left\":[{\"id\":\"8114\"}],\"margin\":null,\"min_border_bottom\":10,\"min_border_left\":10,\"min_border_right\":10,\"min_border_top\":10,\"plot_height\":800,\"plot_width\":1400,\"renderers\":[{\"id\":\"8137\"}],\"sizing_mode\":\"fixed\",\"title\":{\"id\":\"8103\"},\"toolbar\":{\"id\":\"8124\"},\"x_range\":{\"id\":\"8099\"},\"x_scale\":{\"id\":\"8107\"},\"y_range\":{\"id\":\"7744\"},\"y_scale\":{\"id\":\"8109\"}},\"id\":\"8102\",\"subtype\":\"Figure\",\"type\":\"Plot\"},{\"attributes\":{},\"id\":\"7995\",\"type\":\"CategoricalScale\"},{\"attributes\":{},\"id\":\"7823\",\"type\":\"ResetTool\"},{\"attributes\":{\"callback\":null,\"renderers\":[{\"id\":\"8193\"}],\"tags\":[\"hv_created\"],\"tooltips\":[[\"State\",\"@{State}\"],[\"Invoice Amount\",\"@{Invoice_Amount}\"]]},\"id\":\"8157\",\"type\":\"HoverTool\"},{\"attributes\":{},\"id\":\"7997\",\"type\":\"LinearScale\"},{\"attributes\":{},\"id\":\"8165\",\"type\":\"LinearScale\"},{\"attributes\":{\"text\":\"Total Sales by Year from 2015 to 2020\",\"text_color\":{\"value\":\"black\"},\"text_font_size\":{\"value\":\"25pt\"}},\"id\":\"7747\",\"type\":\"Title\"},{\"attributes\":{},\"id\":\"8076\",\"type\":\"Selection\"},{\"attributes\":{\"axis_label\":\"Highest Paying Customers\",\"axis_label_text_font_size\":\"20pt\",\"bounds\":\"auto\",\"formatter\":{\"id\":\"8029\"},\"group_text_font_size\":\"18pt\",\"major_label_orientation\":0.7853981633974483,\"major_label_text_font_size\":\"18pt\",\"ticker\":{\"id\":\"8000\"}},\"id\":\"7999\",\"type\":\"CategoricalAxis\"},{\"attributes\":{},\"id\":\"7756\",\"type\":\"CategoricalTicker\"},{\"attributes\":{\"data\":{\"Invoice_Amount\":{\"__ndarray__\":\"MzMzMzOLaUCamZmZmWFvQBsv3SQGW3JACtejcD1ybkAzMzMzMyFwQF75LM9DZJFA\",\"dtype\":\"float64\",\"shape\":[6]},\"Year\":[\"2015\",\"2016\",\"2017\",\"2018\",\"2019\",\"2020\"]},\"selected\":{\"id\":\"7776\"},\"selection_policy\":{\"id\":\"7797\"}},\"id\":\"7775\",\"type\":\"ColumnDataSource\"},{\"attributes\":{},\"id\":\"8066\",\"type\":\"ResetTool\"},{\"attributes\":{\"fill_alpha\":{\"value\":0.1},\"fill_color\":{\"value\":\"#1f77b3\"},\"line_alpha\":{\"value\":0.1},\"top\":{\"field\":\"Invoice_Amount\"},\"width\":{\"value\":0.8},\"x\":{\"field\":\"State\"}},\"id\":\"8135\",\"type\":\"VBar\"},{\"attributes\":{\"axis_label\":\"Total Sales\",\"axis_label_text_font_size\":\"20pt\",\"bounds\":\"auto\",\"formatter\":{\"id\":\"8027\"},\"major_label_orientation\":\"horizontal\",\"major_label_text_font_size\":\"20pt\",\"ticker\":{\"id\":\"8003\"}},\"id\":\"8002\",\"type\":\"LinearAxis\"},{\"attributes\":{},\"id\":\"8163\",\"type\":\"CategoricalScale\"},{\"attributes\":{},\"id\":\"8132\",\"type\":\"Selection\"},{\"attributes\":{},\"id\":\"8097\",\"type\":\"UnionRenderers\"},{\"attributes\":{\"axis_label\":\"States\",\"axis_label_text_font_size\":\"20pt\",\"bounds\":\"auto\",\"formatter\":{\"id\":\"8197\"},\"group_text_font_size\":\"25pt\",\"major_label_orientation\":\"horizontal\",\"major_label_text_font_size\":\"25pt\",\"ticker\":{\"id\":\"8168\"}},\"id\":\"8167\",\"type\":\"CategoricalAxis\"},{\"attributes\":{},\"id\":\"8003\",\"type\":\"BasicTicker\"},{\"attributes\":{\"fill_color\":{\"value\":\"#1f77b3\"},\"top\":{\"field\":\"Invoice_Amount\"},\"width\":{\"value\":0.8},\"x\":{\"field\":\"State\"}},\"id\":\"8134\",\"type\":\"VBar\"},{\"attributes\":{\"axis\":{\"id\":\"7999\"},\"ticker\":{\"id\":\"8000\"}},\"id\":\"8001\",\"type\":\"Grid\"},{\"attributes\":{\"text\":\"Top 10 Lowest Paying States of All Time\",\"text_color\":{\"value\":\"black\"},\"text_font_size\":{\"value\":\"25pt\"}},\"id\":\"8159\",\"type\":\"Title\"},{\"attributes\":{},\"id\":\"7759\",\"type\":\"BasicTicker\"},{\"attributes\":{\"end\":1203.9378420000003,\"reset_end\":1203.9378420000003,\"reset_start\":0.0,\"tags\":[[[\"Invoice Amount\",\"Invoice Amount\",null]]]},\"id\":\"7744\",\"type\":\"Range1d\"},{\"attributes\":{\"axis\":{\"id\":\"8002\"},\"dimension\":1,\"ticker\":{\"id\":\"8003\"}},\"id\":\"8005\",\"type\":\"Grid\"},{\"attributes\":{\"fill_alpha\":{\"value\":0.2},\"fill_color\":{\"value\":\"#1f77b3\"},\"line_alpha\":{\"value\":0.2},\"top\":{\"field\":\"Invoice_Amount\"},\"width\":{\"value\":0.8},\"x\":{\"field\":\"State\"}},\"id\":\"8136\",\"type\":\"VBar\"},{\"attributes\":{\"callback\":null,\"renderers\":[{\"id\":\"8137\"}],\"tags\":[\"hv_created\"],\"tooltips\":[[\"State\",\"@{State}\"],[\"Invoice Amount\",\"@{Invoice_Amount}\"]]},\"id\":\"8101\",\"type\":\"HoverTool\"},{\"attributes\":{},\"id\":\"8112\",\"type\":\"CategoricalTicker\"},{\"attributes\":{\"axis_label\":\"Yearly Income (Tounsands of Dollars)\",\"axis_label_text_font_size\":\"20pt\",\"bounds\":\"auto\",\"formatter\":{\"id\":\"7783\"},\"major_label_orientation\":\"horizontal\",\"major_label_text_font_size\":\"20pt\",\"ticker\":{\"id\":\"7759\"}},\"id\":\"7758\",\"type\":\"LinearAxis\"},{\"attributes\":{},\"id\":\"8107\",\"type\":\"CategoricalScale\"},{\"attributes\":{},\"id\":\"8000\",\"type\":\"CategoricalTicker\"},{\"attributes\":{},\"id\":\"8109\",\"type\":\"LinearScale\"},{\"attributes\":{},\"id\":\"7763\",\"type\":\"PanTool\"},{\"attributes\":{},\"id\":\"8006\",\"type\":\"SaveTool\"},{\"attributes\":{\"axis\":{\"id\":\"8167\"},\"ticker\":{\"id\":\"8168\"}},\"id\":\"8169\",\"type\":\"Grid\"},{\"attributes\":{},\"id\":\"7834\",\"type\":\"CategoricalTickFormatter\"},{\"attributes\":{\"factors\":[\"AL\",\"LA\",\"GA\",\"NC\",\"CA\",\"KY\",\"NY\",\"UT\",\"IL\",\"TN\",\"GU\",\"OK\",\"NE\",\"MT\",\"SA\",\"NH\",\"DE\",\"Canada\",\"VT\",\"ND\"],\"tags\":[[[\"State\",\"State\",null]]]},\"id\":\"8099\",\"type\":\"FactorRange\"},{\"attributes\":{\"axis_label\":\"Total Invoiced ($)\",\"axis_label_text_font_size\":\"20pt\",\"bounds\":\"auto\",\"formatter\":{\"id\":\"8195\"},\"major_label_orientation\":\"horizontal\",\"major_label_text_font_size\":\"20pt\",\"ticker\":{\"id\":\"8171\"}},\"id\":\"8170\",\"type\":\"LinearAxis\"},{\"attributes\":{},\"id\":\"7762\",\"type\":\"SaveTool\"},{\"attributes\":{\"data_source\":{\"id\":\"8131\"},\"glyph\":{\"id\":\"8134\"},\"hover_glyph\":null,\"muted_glyph\":{\"id\":\"8136\"},\"nonselection_glyph\":{\"id\":\"8135\"},\"selection_glyph\":null,\"view\":{\"id\":\"8138\"}},\"id\":\"8137\",\"type\":\"GlyphRenderer\"},{\"attributes\":{\"data\":{\"Customers\":[\"University 30\",\"University 1\",\"University 44\",\"University 71\",\"University 7\",\"University 147\",\"University 164\",\"University 75\",\"University 88\",\"University 378\"],\"Invoice_Amount\":{\"__ndarray__\":\"AAAAAIBPAkEAAAAAwPcAQQAAAAAA5/hAAAAAAABq+EAAAAAAANbvQAAAAAAAzt1AAAAAAABF3UAAAAAAANXbQAAAAACAotlAAAAAAICi2UA=\",\"dtype\":\"float64\",\"shape\":[10]}},\"selected\":{\"id\":\"8020\"},\"selection_policy\":{\"id\":\"8041\"}},\"id\":\"8019\",\"type\":\"ColumnDataSource\"},{\"attributes\":{},\"id\":\"8171\",\"type\":\"BasicTicker\"},{\"attributes\":{\"source\":{\"id\":\"8131\"}},\"id\":\"8138\",\"type\":\"CDSView\"},{\"attributes\":{\"bottom_units\":\"screen\",\"fill_alpha\":0.5,\"fill_color\":\"lightgrey\",\"left_units\":\"screen\",\"level\":\"overlay\",\"line_alpha\":1.0,\"line_color\":\"black\",\"line_dash\":[4,4],\"line_width\":2,\"render_mode\":\"css\",\"right_units\":\"screen\",\"top_units\":\"screen\"},\"id\":\"7824\",\"type\":\"BoxAnnotation\"},{\"attributes\":{\"axis_label\":\"States\",\"axis_label_text_font_size\":\"20pt\",\"bounds\":\"auto\",\"formatter\":{\"id\":\"8141\"},\"group_text_font_size\":\"25pt\",\"major_label_orientation\":\"horizontal\",\"major_label_text_font_size\":\"25pt\",\"ticker\":{\"id\":\"8112\"}},\"id\":\"8111\",\"type\":\"CategoricalAxis\"},{\"attributes\":{\"overlay\":{\"id\":\"8011\"}},\"id\":\"8009\",\"type\":\"BoxZoomTool\"},{\"attributes\":{\"axis\":{\"id\":\"8170\"},\"dimension\":1,\"ticker\":{\"id\":\"8171\"}},\"id\":\"8173\",\"type\":\"Grid\"},{\"attributes\":{},\"id\":\"8010\",\"type\":\"ResetTool\"},{\"attributes\":{\"active_drag\":\"auto\",\"active_inspect\":\"auto\",\"active_multi\":null,\"active_scroll\":\"auto\",\"active_tap\":\"auto\",\"tools\":[{\"id\":\"7989\"},{\"id\":\"8006\"},{\"id\":\"8007\"},{\"id\":\"8008\"},{\"id\":\"8009\"},{\"id\":\"8010\"}]},\"id\":\"8012\",\"type\":\"Toolbar\"},{\"attributes\":{\"format\":\"$%.0f\"},\"id\":\"8139\",\"type\":\"PrintfTickFormatter\"},{\"attributes\":{\"axis\":{\"id\":\"7758\"},\"dimension\":1,\"ticker\":{\"id\":\"7759\"}},\"id\":\"7761\",\"type\":\"Grid\"},{\"attributes\":{\"data\":{\"Customers\":[\"University 346\",\"University 191\",\"University 218\",\"University 360\",\"University 171\",\"University 107\",\"University 337\",\"University 327\",\"University 359\",\"University 302\"],\"Invoice_Amount\":{\"__ndarray__\":\"AAAAAABAX0AAAAAAAMBiQAAAAAAAAGRAAAAAAAAAaUAAAAAAAEBvQAAAAAAAwHJAAAAAAAAwdkAAAAAAAHB4QAAAAAAAsHhAAAAAAAAAeUA=\",\"dtype\":\"float64\",\"shape\":[10]}},\"selected\":{\"id\":\"8076\"},\"selection_policy\":{\"id\":\"8097\"}},\"id\":\"8075\",\"type\":\"ColumnDataSource\"},{\"attributes\":{},\"id\":\"8168\",\"type\":\"CategoricalTicker\"},{\"attributes\":{\"axis\":{\"id\":\"8058\"},\"dimension\":1,\"ticker\":{\"id\":\"8059\"}},\"id\":\"8061\",\"type\":\"Grid\"},{\"attributes\":{},\"id\":\"8174\",\"type\":\"SaveTool\"},{\"attributes\":{\"axis_label\":\"Total Sales\",\"axis_label_text_font_size\":\"20pt\",\"bounds\":\"auto\",\"formatter\":{\"id\":\"8083\"},\"major_label_orientation\":\"horizontal\",\"major_label_text_font_size\":\"20pt\",\"ticker\":{\"id\":\"8059\"}},\"id\":\"8058\",\"type\":\"LinearAxis\"},{\"attributes\":{},\"id\":\"8141\",\"type\":\"CategoricalTickFormatter\"},{\"attributes\":{\"bottom_units\":\"screen\",\"fill_alpha\":0.5,\"fill_color\":\"lightgrey\",\"left_units\":\"screen\",\"level\":\"overlay\",\"line_alpha\":1.0,\"line_color\":\"black\",\"line_dash\":[4,4],\"line_width\":2,\"render_mode\":\"css\",\"right_units\":\"screen\",\"top_units\":\"screen\"},\"id\":\"8067\",\"type\":\"BoxAnnotation\"},{\"attributes\":{},\"id\":\"8175\",\"type\":\"PanTool\"},{\"attributes\":{},\"id\":\"8041\",\"type\":\"UnionRenderers\"},{\"attributes\":{},\"id\":\"8063\",\"type\":\"PanTool\"},{\"attributes\":{\"data\":{\"Invoice_Amount\":{\"__ndarray__\":\"AAAAAABAb0AAAAAAAOCFQAAAAAAAUJRAAAAAAABwl0AAAAAAAHCXQAAAAAAAcKdAAAAAAABYq0AAAAAAAFivQAAAAAAAaLBAAAAAAABmsUA=\",\"dtype\":\"float64\",\"shape\":[10]},\"State\":[\"GU\",\"OK\",\"NE\",\"MT\",\"SA\",\"NH\",\"DE\",\"Canada\",\"VT\",\"ND\"]},\"selected\":{\"id\":\"8188\"},\"selection_policy\":{\"id\":\"8209\"}},\"id\":\"8187\",\"type\":\"ColumnDataSource\"},{\"attributes\":{},\"id\":\"8062\",\"type\":\"SaveTool\"},{\"attributes\":{},\"id\":\"8176\",\"type\":\"WheelZoomTool\"},{\"attributes\":{},\"id\":\"8064\",\"type\":\"WheelZoomTool\"},{\"attributes\":{\"axis\":{\"id\":\"8055\"},\"ticker\":{\"id\":\"8056\"}},\"id\":\"8057\",\"type\":\"Grid\"},{\"attributes\":{\"overlay\":{\"id\":\"8179\"}},\"id\":\"8177\",\"type\":\"BoxZoomTool\"},{\"attributes\":{\"callback\":null,\"renderers\":[{\"id\":\"7781\"}],\"tags\":[\"hv_created\"],\"tooltips\":[[\"Year\",\"@{Year}\"],[\"Invoice Amount\",\"@{Invoice_Amount}\"]]},\"id\":\"7745\",\"type\":\"HoverTool\"},{\"attributes\":{},\"id\":\"8056\",\"type\":\"CategoricalTicker\"},{\"attributes\":{},\"id\":\"8178\",\"type\":\"ResetTool\"},{\"attributes\":{\"factors\":[\"2015\",\"2016\",\"2017\",\"2018\",\"2019\",\"2020\"],\"tags\":[[[\"Year\",\"Year\",null]]]},\"id\":\"7743\",\"type\":\"FactorRange\"},{\"attributes\":{\"active_drag\":\"auto\",\"active_inspect\":\"auto\",\"active_multi\":null,\"active_scroll\":\"auto\",\"active_tap\":\"auto\",\"tools\":[{\"id\":\"8157\"},{\"id\":\"8174\"},{\"id\":\"8175\"},{\"id\":\"8176\"},{\"id\":\"8177\"},{\"id\":\"8178\"}]},\"id\":\"8180\",\"type\":\"Toolbar\"},{\"attributes\":{},\"id\":\"8059\",\"type\":\"BasicTicker\"},{\"attributes\":{\"axis_label\":\"Lowest Paying Customers\",\"axis_label_text_font_size\":\"20pt\",\"bounds\":\"auto\",\"formatter\":{\"id\":\"8085\"},\"group_text_font_size\":\"18pt\",\"major_label_orientation\":0.7853981633974483,\"major_label_text_font_size\":\"18pt\",\"ticker\":{\"id\":\"8056\"}},\"id\":\"8055\",\"type\":\"CategoricalAxis\"},{\"attributes\":{\"overlay\":{\"id\":\"8067\"}},\"id\":\"8065\",\"type\":\"BoxZoomTool\"},{\"attributes\":{},\"id\":\"7753\",\"type\":\"LinearScale\"},{\"attributes\":{\"active_drag\":\"auto\",\"active_inspect\":\"auto\",\"active_multi\":null,\"active_scroll\":\"auto\",\"active_tap\":\"auto\",\"tools\":[{\"id\":\"7801\"},{\"id\":\"7819\"},{\"id\":\"7820\"},{\"id\":\"7821\"},{\"id\":\"7822\"},{\"id\":\"7823\"}]},\"id\":\"7825\",\"type\":\"Toolbar\"},{\"attributes\":{\"axis\":{\"id\":\"7755\"},\"ticker\":{\"id\":\"7756\"}},\"id\":\"7757\",\"type\":\"Grid\"},{\"attributes\":{\"format\":\"$%.0f\"},\"id\":\"7832\",\"type\":\"PrintfTickFormatter\"},{\"attributes\":{\"bottom_units\":\"screen\",\"fill_alpha\":0.5,\"fill_color\":\"lightgrey\",\"left_units\":\"screen\",\"level\":\"overlay\",\"line_alpha\":1.0,\"line_color\":\"black\",\"line_dash\":[4,4],\"line_width\":2,\"render_mode\":\"css\",\"right_units\":\"screen\",\"top_units\":\"screen\"},\"id\":\"8011\",\"type\":\"BoxAnnotation\"},{\"attributes\":{\"active_drag\":\"auto\",\"active_inspect\":\"auto\",\"active_multi\":null,\"active_scroll\":\"auto\",\"active_tap\":\"auto\",\"tools\":[{\"id\":\"8045\"},{\"id\":\"8062\"},{\"id\":\"8063\"},{\"id\":\"8064\"},{\"id\":\"8065\"},{\"id\":\"8066\"}]},\"id\":\"8068\",\"type\":\"Toolbar\"},{\"attributes\":{\"bottom_units\":\"screen\",\"fill_alpha\":0.5,\"fill_color\":\"lightgrey\",\"left_units\":\"screen\",\"level\":\"overlay\",\"line_alpha\":1.0,\"line_color\":\"black\",\"line_dash\":[4,4],\"line_width\":2,\"render_mode\":\"css\",\"right_units\":\"screen\",\"top_units\":\"screen\"},\"id\":\"8179\",\"type\":\"BoxAnnotation\"},{\"attributes\":{},\"id\":\"7862\",\"type\":\"UnionRenderers\"},{\"attributes\":{\"source\":{\"id\":\"7841\"}},\"id\":\"7848\",\"type\":\"CDSView\"},{\"attributes\":{\"fill_color\":{\"value\":\"#1f77b3\"},\"top\":{\"field\":\"Invoice_Amount\"},\"width\":{\"value\":0.8},\"x\":{\"field\":\"Year\"}},\"id\":\"7778\",\"type\":\"VBar\"},{\"attributes\":{\"data_source\":{\"id\":\"7841\"},\"glyph\":{\"id\":\"7844\"},\"hover_glyph\":null,\"muted_glyph\":{\"id\":\"7846\"},\"nonselection_glyph\":{\"id\":\"7845\"},\"selection_glyph\":null,\"view\":{\"id\":\"7848\"}},\"id\":\"7847\",\"type\":\"GlyphRenderer\"},{\"attributes\":{\"fill_alpha\":1,\"fill_color\":\"Orange\",\"line_alpha\":1,\"x\":{\"field\":\"x\"},\"y\":{\"field\":\"y\"}},\"id\":\"7853\",\"type\":\"Patch\"},{\"attributes\":{\"fill_color\":{\"value\":\"Orange\"},\"top\":{\"field\":\"Invoice_Amount\"},\"width\":{\"value\":0.8},\"x\":{\"field\":\"Month\"}},\"id\":\"7844\",\"type\":\"VBar\"},{\"attributes\":{},\"id\":\"8007\",\"type\":\"PanTool\"},{\"attributes\":{\"fill_alpha\":{\"value\":0.1},\"fill_color\":{\"value\":\"#1f77b3\"},\"line_alpha\":{\"value\":0.1},\"top\":{\"field\":\"Invoice_Amount\"},\"width\":{\"value\":0.8},\"x\":{\"field\":\"Subscription\"}},\"id\":\"7965\",\"type\":\"VBar\"},{\"attributes\":{},\"id\":\"7842\",\"type\":\"Selection\"},{\"attributes\":{\"fill_color\":\"Orange\",\"x\":{\"field\":\"x\"},\"y\":{\"field\":\"y\"}},\"id\":\"7852\",\"type\":\"Patch\"},{\"attributes\":{},\"id\":\"7962\",\"type\":\"Selection\"},{\"attributes\":{\"fill_color\":{\"value\":\"#1f77b3\"},\"top\":{\"field\":\"Invoice_Amount\"},\"width\":{\"value\":0.8},\"x\":{\"field\":\"Subscription\"}},\"id\":\"7964\",\"type\":\"VBar\"},{\"attributes\":{\"fill_alpha\":{\"value\":0.2},\"fill_color\":{\"value\":\"#1f77b3\"},\"line_alpha\":{\"value\":0.2},\"top\":{\"field\":\"Invoice_Amount\"},\"width\":{\"value\":0.8},\"x\":{\"field\":\"Subscription\"}},\"id\":\"7966\",\"type\":\"VBar\"},{\"attributes\":{\"fill_alpha\":{\"value\":0.1},\"fill_color\":{\"value\":\"#1f77b3\"},\"line_alpha\":{\"value\":0.1},\"top\":{\"field\":\"Invoice_Amount\"},\"width\":{\"value\":0.8},\"x\":{\"field\":\"Year\"}},\"id\":\"7779\",\"type\":\"VBar\"},{\"attributes\":{\"fill_alpha\":{\"value\":0.1},\"fill_color\":{\"value\":\"Orange\"},\"line_alpha\":{\"value\":0.1},\"top\":{\"field\":\"Invoice_Amount\"},\"width\":{\"value\":0.8},\"x\":{\"field\":\"Month\"}},\"id\":\"7845\",\"type\":\"VBar\"},{\"attributes\":{\"active_drag\":\"auto\",\"active_inspect\":\"auto\",\"active_multi\":null,\"active_scroll\":\"auto\",\"active_tap\":\"auto\",\"tools\":[{\"id\":\"7745\"},{\"id\":\"7762\"},{\"id\":\"7763\"},{\"id\":\"7764\"},{\"id\":\"7765\"},{\"id\":\"7766\"}]},\"id\":\"7768\",\"type\":\"Toolbar\"},{\"attributes\":{\"fill_alpha\":{\"value\":0.2},\"fill_color\":{\"value\":\"Orange\"},\"line_alpha\":{\"value\":0.2},\"top\":{\"field\":\"Invoice_Amount\"},\"width\":{\"value\":0.8},\"x\":{\"field\":\"Month\"}},\"id\":\"7846\",\"type\":\"VBar\"},{\"attributes\":{},\"id\":\"8008\",\"type\":\"WheelZoomTool\"},{\"attributes\":{\"data_source\":{\"id\":\"7849\"},\"glyph\":{\"id\":\"7852\"},\"hover_glyph\":null,\"muted_glyph\":{\"id\":\"7854\"},\"nonselection_glyph\":{\"id\":\"7853\"},\"selection_glyph\":null,\"view\":{\"id\":\"7856\"}},\"id\":\"7855\",\"type\":\"GlyphRenderer\"},{\"attributes\":{\"child\":{\"id\":\"7742\"},\"name\":\"Column11409\",\"title\":\"Yearly Market Analysis\"},\"id\":\"7985\",\"type\":\"Panel\"},{\"attributes\":{},\"id\":\"7766\",\"type\":\"ResetTool\"},{\"attributes\":{\"data_source\":{\"id\":\"7961\"},\"glyph\":{\"id\":\"7964\"},\"hover_glyph\":null,\"muted_glyph\":{\"id\":\"7966\"},\"nonselection_glyph\":{\"id\":\"7965\"},\"selection_glyph\":null,\"view\":{\"id\":\"7968\"}},\"id\":\"7967\",\"type\":\"GlyphRenderer\"},{\"attributes\":{\"source\":{\"id\":\"7961\"}},\"id\":\"7968\",\"type\":\"CDSView\"},{\"attributes\":{\"fill_alpha\":{\"value\":0.1},\"fill_color\":{\"value\":\"#1f77b3\"},\"line_alpha\":{\"value\":0.1},\"top\":{\"field\":\"Invoice_Amount\"},\"width\":{\"value\":0.8},\"x\":{\"field\":\"State\"}},\"id\":\"8191\",\"type\":\"VBar\"},{\"attributes\":{},\"id\":\"7850\",\"type\":\"Selection\"},{\"attributes\":{\"format\":\"$%.0f\"},\"id\":\"7969\",\"type\":\"PrintfTickFormatter\"},{\"attributes\":{},\"id\":\"8188\",\"type\":\"Selection\"},{\"attributes\":{\"fill_color\":{\"value\":\"#1f77b3\"},\"top\":{\"field\":\"Invoice_Amount\"},\"width\":{\"value\":0.8},\"x\":{\"field\":\"State\"}},\"id\":\"8190\",\"type\":\"VBar\"},{\"attributes\":{\"fill_alpha\":{\"value\":0.2},\"fill_color\":{\"value\":\"#1f77b3\"},\"line_alpha\":{\"value\":0.2},\"top\":{\"field\":\"Invoice_Amount\"},\"width\":{\"value\":0.8},\"x\":{\"field\":\"State\"}},\"id\":\"8192\",\"type\":\"VBar\"},{\"attributes\":{\"fill_alpha\":0.2,\"fill_color\":\"Orange\",\"line_alpha\":0.2,\"x\":{\"field\":\"x\"},\"y\":{\"field\":\"y\"}},\"id\":\"7854\",\"type\":\"Patch\"},{\"attributes\":{},\"id\":\"7971\",\"type\":\"CategoricalTickFormatter\"},{\"attributes\":{\"data\":{\"x\":[\"January\",\"February\",\"March\",\"April\",\"May\",\"June\",\"July\",\"August\",\"September\",\"October\",\"November\",\"December\",\"December\",\"November\",\"October\",\"September\",\"August\",\"July\",\"June\",\"May\",\"April\",\"March\",\"February\",\"January\"],\"y\":{\"__ndarray__\":\"AAAAAAAAAAAAAAAAAAAAAAAAAAAAAAAAAAAAAAAAAAAAAAAAAAAAAAAAAAAAAAAAAAAAAAAAAAAAAAAAAAAAAAAAAAAAAAAAAAAAAAAAAAAAAAAAAAAAAAAAAAAAAAAAAAAAAKCM+UAAAAAAQNzqQAAAAADAWwFBAAAAAODG/EAAAAAAABLxQAAAAACA9fFAAAAAADAMCUEAAAAAWG4BQQAAAACA1/FAAAAAAECICUEAAAAAwI3SQAAAAACAs+JA\",\"dtype\":\"float64\",\"shape\":[24]}},\"selected\":{\"id\":\"7850\"},\"selection_policy\":{\"id\":\"7864\"}},\"id\":\"7849\",\"type\":\"ColumnDataSource\"},{\"attributes\":{\"source\":{\"id\":\"7849\"}},\"id\":\"7856\",\"type\":\"CDSView\"},{\"attributes\":{\"data_source\":{\"id\":\"8187\"},\"glyph\":{\"id\":\"8190\"},\"hover_glyph\":null,\"muted_glyph\":{\"id\":\"8192\"},\"nonselection_glyph\":{\"id\":\"8191\"},\"selection_glyph\":null,\"view\":{\"id\":\"8194\"}},\"id\":\"8193\",\"type\":\"GlyphRenderer\"},{\"attributes\":{\"source\":{\"id\":\"8187\"}},\"id\":\"8194\",\"type\":\"CDSView\"},{\"attributes\":{\"format\":\"$%.0f\"},\"id\":\"8195\",\"type\":\"PrintfTickFormatter\"},{\"attributes\":{\"child\":{\"id\":\"7986\"},\"name\":\"Column11900\",\"title\":\"Neighborhood Analysis\"},\"id\":\"8211\",\"type\":\"Panel\"},{\"attributes\":{},\"id\":\"8197\",\"type\":\"CategoricalTickFormatter\"},{\"attributes\":{},\"id\":\"7785\",\"type\":\"CategoricalTickFormatter\"},{\"attributes\":{},\"id\":\"7864\",\"type\":\"UnionRenderers\"},{\"attributes\":{},\"id\":\"7983\",\"type\":\"UnionRenderers\"},{\"attributes\":{},\"id\":\"8209\",\"type\":\"UnionRenderers\"},{\"attributes\":{\"overlay\":{\"id\":\"7767\"}},\"id\":\"7765\",\"type\":\"BoxZoomTool\"},{\"attributes\":{},\"id\":\"7764\",\"type\":\"WheelZoomTool\"}],\"root_ids\":[\"7741\",\"8476\"]},\"title\":\"Bokeh Application\",\"version\":\"2.0.2\"}};\n  var render_items = [{\"docid\":\"7a7ef103-bdab-47da-b4cd-8c39dc785899\",\"root_ids\":[\"7741\"],\"roots\":{\"7741\":\"6297cade-569f-4f48-a728-611f605ee8a3\"}}];\n  root.Bokeh.embed.embed_items_notebook(docs_json, render_items);\n  }\nif (root.Bokeh !== undefined) {\n    embed_document(root);\n  } else {\n    var attempts = 0;\n    var timer = setInterval(function(root) {\n      if (root.Bokeh !== undefined) {\n        clearInterval(timer);\n        embed_document(root);\n      } else if (document.readyState == \"complete\") {\n        attempts++;\n        if (attempts > 100) {\n          clearInterval(timer);\n          console.log(\"Bokeh: ERROR: Unable to run BokehJS code because BokehJS library is missing\");\n        }\n      }\n    }, 10, root)\n  }\n})(window);</script>",
      "application/vnd.holoviews_exec.v0+json": "",
      "text/plain": [
       "Tabs\n",
       "    [0] Column\n",
       "        [0] HoloViews(Bars)\n",
       "        [1] HoloViews(Overlay)\n",
       "        [2] HoloViews(Bars)\n",
       "    [1] Column\n",
       "        [0] HoloViews(Bars)\n",
       "        [1] HoloViews(Bars)\n",
       "        [2] HoloViews(Bars)\n",
       "        [3] HoloViews(Bars)\n",
       "    [2] Column\n",
       "        [0] Plotly(Figure)\n",
       "        [1] Plotly(Figure)\n",
       "    [3] Column\n",
       "        [0] Row\n",
       "            [0] HoloViews(DynamicMap)\n",
       "            [1] Column\n",
       "                [0] WidgetBox\n",
       "                    [0] Select(margin=(20, 20, 20, 20), name='State', options=['DC', 'KS', 'KY', ...], value='DC', width=250)\n",
       "                [1] VSpacer()\n",
       "    [4] Column\n",
       "        [0] Str(None)\n",
       "        [1] Str(None)\n",
       "        [2] Str(None)\n",
       "        [3] Str(None)\n",
       "        [4] Str(None)"
      ]
     },
     "metadata": {
      "application/vnd.holoviews_exec.v0+json": {
       "id": "7741"
      }
     },
     "execution_count": 116
    }
   ],
   "source": [
    "Dashboard"
   ]
  },
  {
   "cell_type": "code",
   "execution_count": 117,
   "metadata": {},
   "outputs": [
    {
     "output_type": "display_data",
     "data": {},
     "metadata": {}
    },
    {
     "output_type": "display_data",
     "data": {},
     "metadata": {}
    },
    {
     "output_type": "execute_result",
     "data": {
      "text/html": "<div id='8787'>\n\n\n\n\n\n  <div class=\"bk-root\" id=\"a3483a04-273b-4120-a872-4972df83491e\" data-root-id=\"8787\"></div>\n</div>\n<script type=\"application/javascript\">(function(root) {\n  function embed_document(root) {\n  var docs_json = {\"92f56bad-f785-439d-927b-cc1ef2c01e0e\":{\"roots\":{\"references\":[{\"attributes\":{\"callback\":null,\"renderers\":[{\"id\":\"9127\"}],\"tags\":[\"hv_created\"],\"tooltips\":[[\"Customers\",\"@{Customers}\"],[\"Invoice Amount\",\"@{Invoice_Amount}\"]]},\"id\":\"9091\",\"type\":\"HoverTool\"},{\"attributes\":{},\"id\":\"9255\",\"type\":\"UnionRenderers\"},{\"attributes\":{},\"id\":\"9097\",\"type\":\"CategoricalScale\"},{\"attributes\":{},\"id\":\"9099\",\"type\":\"LinearScale\"},{\"attributes\":{\"align\":null,\"below\":[{\"id\":\"9101\"}],\"center\":[{\"id\":\"9103\"},{\"id\":\"9107\"}],\"left\":[{\"id\":\"9104\"}],\"margin\":null,\"min_border_bottom\":10,\"min_border_left\":10,\"min_border_right\":10,\"min_border_top\":10,\"plot_height\":800,\"plot_width\":1400,\"renderers\":[{\"id\":\"9127\"}],\"sizing_mode\":\"fixed\",\"title\":{\"id\":\"9093\"},\"toolbar\":{\"id\":\"9114\"},\"x_range\":{\"id\":\"9033\"},\"x_scale\":{\"id\":\"9097\"},\"y_range\":{\"id\":\"8790\"},\"y_scale\":{\"id\":\"9099\"}},\"id\":\"9092\",\"subtype\":\"Figure\",\"type\":\"Plot\"},{\"attributes\":{\"axis_label\":\"Lowest Paying Customers\",\"axis_label_text_font_size\":\"20pt\",\"bounds\":\"auto\",\"formatter\":{\"id\":\"9131\"},\"group_text_font_size\":\"18pt\",\"major_label_orientation\":0.7853981633974483,\"major_label_text_font_size\":\"18pt\",\"ticker\":{\"id\":\"9102\"}},\"id\":\"9101\",\"type\":\"CategoricalAxis\"},{\"attributes\":{\"text\":\"Top 10 Lowest Paying Customers of All Time\",\"text_color\":{\"value\":\"black\"},\"text_font_size\":{\"value\":\"25pt\"}},\"id\":\"9093\",\"type\":\"Title\"},{\"attributes\":{\"axis_label\":\"Total Sales\",\"axis_label_text_font_size\":\"20pt\",\"bounds\":\"auto\",\"formatter\":{\"id\":\"9129\"},\"major_label_orientation\":\"horizontal\",\"major_label_text_font_size\":\"20pt\",\"ticker\":{\"id\":\"9105\"}},\"id\":\"9104\",\"type\":\"LinearAxis\"},{\"attributes\":{},\"id\":\"9105\",\"type\":\"BasicTicker\"},{\"attributes\":{\"axis\":{\"id\":\"9101\"},\"ticker\":{\"id\":\"9102\"}},\"id\":\"9103\",\"type\":\"Grid\"},{\"attributes\":{},\"id\":\"9109\",\"type\":\"PanTool\"},{\"attributes\":{\"fill_color\":{\"value\":\"#1f77b3\"},\"top\":{\"field\":\"Invoice_Amount\"},\"width\":{\"value\":0.8},\"x\":{\"field\":\"Customers\"}},\"id\":\"9124\",\"type\":\"VBar\"},{\"attributes\":{},\"id\":\"9102\",\"type\":\"CategoricalTicker\"},{\"attributes\":{},\"id\":\"9155\",\"type\":\"LinearScale\"},{\"attributes\":{},\"id\":\"9108\",\"type\":\"SaveTool\"},{\"attributes\":{},\"id\":\"9110\",\"type\":\"WheelZoomTool\"},{\"attributes\":{\"callback\":null,\"renderers\":[{\"id\":\"9013\"}],\"tags\":[\"hv_created\"],\"tooltips\":[[\"Subscription\",\"@{Subscription}\"],[\"Invoice Amount\",\"@{Invoice_Amount}\"]]},\"id\":\"8977\",\"type\":\"HoverTool\"},{\"attributes\":{\"overlay\":{\"id\":\"9113\"}},\"id\":\"9111\",\"type\":\"BoxZoomTool\"},{\"attributes\":{},\"id\":\"9112\",\"type\":\"ResetTool\"},{\"attributes\":{\"children\":[{\"id\":\"9269\"},{\"id\":\"9324\"}],\"margin\":[0,0,0,0],\"name\":\"Row11938\"},\"id\":\"9265\",\"type\":\"Row\"},{\"attributes\":{},\"id\":\"9161\",\"type\":\"BasicTicker\"},{\"attributes\":{\"child\":{\"id\":\"9258\"},\"name\":\"Column11905\",\"title\":\"Parallel Plots\"},\"id\":\"9263\",\"type\":\"Panel\"},{\"attributes\":{},\"id\":\"9153\",\"type\":\"CategoricalScale\"},{\"attributes\":{\"children\":[{\"id\":\"9330\"},{\"id\":\"9331\"},{\"id\":\"9332\"},{\"id\":\"9333\"},{\"id\":\"9334\"}],\"margin\":[0,0,0,0],\"name\":\"Column11957\"},\"id\":\"9329\",\"type\":\"Column\"},{\"attributes\":{\"axis_label\":\"States\",\"axis_label_text_font_size\":\"20pt\",\"bounds\":\"auto\",\"formatter\":{\"id\":\"9187\"},\"group_text_font_size\":\"25pt\",\"major_label_orientation\":\"horizontal\",\"major_label_text_font_size\":\"25pt\",\"ticker\":{\"id\":\"9158\"}},\"id\":\"9157\",\"type\":\"CategoricalAxis\"},{\"attributes\":{},\"id\":\"9158\",\"type\":\"CategoricalTicker\"},{\"attributes\":{},\"id\":\"8983\",\"type\":\"CategoricalScale\"},{\"attributes\":{\"axis\":{\"id\":\"9160\"},\"dimension\":1,\"ticker\":{\"id\":\"9161\"}},\"id\":\"9163\",\"type\":\"Grid\"},{\"attributes\":{},\"id\":\"8985\",\"type\":\"LinearScale\"},{\"attributes\":{\"text\":\"Top 10 Highest Paying States of All Time\",\"text_color\":{\"value\":\"black\"},\"text_font_size\":{\"value\":\"25pt\"}},\"id\":\"9149\",\"type\":\"Title\"},{\"attributes\":{\"align\":null,\"below\":[{\"id\":\"8987\"}],\"center\":[{\"id\":\"8989\"},{\"id\":\"8993\"}],\"left\":[{\"id\":\"8990\"}],\"margin\":null,\"min_border_bottom\":10,\"min_border_left\":10,\"min_border_right\":10,\"min_border_top\":10,\"plot_height\":800,\"plot_width\":1400,\"renderers\":[{\"id\":\"9013\"}],\"sizing_mode\":\"fixed\",\"title\":{\"id\":\"8979\"},\"toolbar\":{\"id\":\"9000\"},\"x_range\":{\"id\":\"8975\"},\"x_scale\":{\"id\":\"8983\"},\"y_range\":{\"id\":\"8790\"},\"y_scale\":{\"id\":\"8985\"}},\"id\":\"8978\",\"subtype\":\"Figure\",\"type\":\"Plot\"},{\"attributes\":{\"align\":null,\"below\":[{\"id\":\"9157\"}],\"center\":[{\"id\":\"9159\"},{\"id\":\"9163\"}],\"left\":[{\"id\":\"9160\"}],\"margin\":null,\"min_border_bottom\":10,\"min_border_left\":10,\"min_border_right\":10,\"min_border_top\":10,\"plot_height\":800,\"plot_width\":1400,\"renderers\":[{\"id\":\"9183\"}],\"sizing_mode\":\"fixed\",\"title\":{\"id\":\"9149\"},\"toolbar\":{\"id\":\"9170\"},\"x_range\":{\"id\":\"9145\"},\"x_scale\":{\"id\":\"9153\"},\"y_range\":{\"id\":\"8790\"},\"y_scale\":{\"id\":\"9155\"}},\"id\":\"9148\",\"subtype\":\"Figure\",\"type\":\"Plot\"},{\"attributes\":{\"axis\":{\"id\":\"9157\"},\"ticker\":{\"id\":\"9158\"}},\"id\":\"9159\",\"type\":\"Grid\"},{\"attributes\":{\"axis_label\":\"Subscription Types\",\"axis_label_text_font_size\":\"20pt\",\"bounds\":\"auto\",\"formatter\":{\"id\":\"9017\"},\"group_text_font_size\":\"18pt\",\"major_label_orientation\":\"horizontal\",\"major_label_text_font_size\":\"18pt\",\"ticker\":{\"id\":\"8988\"}},\"id\":\"8987\",\"type\":\"CategoricalAxis\"},{\"attributes\":{\"data\":{\"Invoice_Amount\":{\"__ndarray__\":\"MzMzM+0hE0EAAAAAwGYGQQAAAAB4RwNBAAAAABDUAkFmZmZmorwBQQAAAAAQnv1AAAAAAHCp/EAAAAAAAFL8QAAAAACYE/hAAAAAAEiX80A=\",\"dtype\":\"float64\",\"shape\":[10]},\"State\":[\"AL\",\"LA\",\"GA\",\"NC\",\"CA\",\"KY\",\"NY\",\"UT\",\"IL\",\"TN\"]},\"selected\":{\"id\":\"9178\"},\"selection_policy\":{\"id\":\"9199\"}},\"id\":\"9177\",\"type\":\"ColumnDataSource\"},{\"attributes\":{\"factors\":[\"1 Year\",\"3 Years\",\"3 Months\",\"6 Months\",\"2 Years\",\"30 Days\"],\"tags\":[[[\"Subscription\",\"Subscription\",null]]]},\"id\":\"8975\",\"type\":\"FactorRange\"},{\"attributes\":{\"data_source\":{\"id\":\"9121\"},\"glyph\":{\"id\":\"9124\"},\"hover_glyph\":null,\"muted_glyph\":{\"id\":\"9126\"},\"nonselection_glyph\":{\"id\":\"9125\"},\"selection_glyph\":null,\"view\":{\"id\":\"9128\"}},\"id\":\"9127\",\"type\":\"GlyphRenderer\"},{\"attributes\":{\"text\":\"Total Income by Subscription Type from 2015 to 2020\",\"text_color\":{\"value\":\"black\"},\"text_font_size\":{\"value\":\"25pt\"}},\"id\":\"8979\",\"type\":\"Title\"},{\"attributes\":{\"axis_label\":\"Total Sales by Subscription (Tounsands of Dollars)\",\"axis_label_text_font_size\":\"20pt\",\"bounds\":\"auto\",\"formatter\":{\"id\":\"9015\"},\"major_label_orientation\":\"horizontal\",\"major_label_text_font_size\":\"20pt\",\"ticker\":{\"id\":\"8991\"}},\"id\":\"8990\",\"type\":\"LinearAxis\"},{\"attributes\":{\"bottom_units\":\"screen\",\"fill_alpha\":0.5,\"fill_color\":\"lightgrey\",\"left_units\":\"screen\",\"level\":\"overlay\",\"line_alpha\":1.0,\"line_color\":\"black\",\"line_dash\":[4,4],\"line_width\":2,\"render_mode\":\"css\",\"right_units\":\"screen\",\"top_units\":\"screen\"},\"id\":\"9113\",\"type\":\"BoxAnnotation\"},{\"attributes\":{},\"id\":\"8991\",\"type\":\"BasicTicker\"},{\"attributes\":{\"axis\":{\"id\":\"8987\"},\"ticker\":{\"id\":\"8988\"}},\"id\":\"8989\",\"type\":\"Grid\"},{\"attributes\":{\"axis\":{\"id\":\"8990\"},\"dimension\":1,\"ticker\":{\"id\":\"8991\"}},\"id\":\"8993\",\"type\":\"Grid\"},{\"attributes\":{},\"id\":\"8988\",\"type\":\"CategoricalTicker\"},{\"attributes\":{},\"id\":\"8994\",\"type\":\"SaveTool\"},{\"attributes\":{},\"id\":\"8995\",\"type\":\"PanTool\"},{\"attributes\":{\"data\":{\"Invoice_Amount\":{\"__ndarray__\":\"f5HQlrPbmEAX2c73U2WAQIWUn1T7lF9A3SQGgZULV0AAAAAAAIA9QJqZmZmZmck/\",\"dtype\":\"float64\",\"shape\":[6]},\"Subscription\":[\"1 Year\",\"3 Years\",\"3 Months\",\"6 Months\",\"2 Years\",\"30 Days\"]},\"selected\":{\"id\":\"9008\"},\"selection_policy\":{\"id\":\"9029\"}},\"id\":\"9007\",\"type\":\"ColumnDataSource\"},{\"attributes\":{},\"id\":\"8996\",\"type\":\"WheelZoomTool\"},{\"attributes\":{\"overlay\":{\"id\":\"8999\"}},\"id\":\"8997\",\"type\":\"BoxZoomTool\"},{\"attributes\":{},\"id\":\"8998\",\"type\":\"ResetTool\"},{\"attributes\":{\"active_drag\":\"auto\",\"active_inspect\":\"auto\",\"active_multi\":null,\"active_scroll\":\"auto\",\"active_tap\":\"auto\",\"tools\":[{\"id\":\"8977\"},{\"id\":\"8994\"},{\"id\":\"8995\"},{\"id\":\"8996\"},{\"id\":\"8997\"},{\"id\":\"8998\"}]},\"id\":\"9000\",\"type\":\"Toolbar\"},{\"attributes\":{\"source\":{\"id\":\"9121\"}},\"id\":\"9128\",\"type\":\"CDSView\"},{\"attributes\":{\"format\":\"$%.0f\"},\"id\":\"9015\",\"type\":\"PrintfTickFormatter\"},{\"attributes\":{},\"id\":\"9017\",\"type\":\"CategoricalTickFormatter\"},{\"attributes\":{\"text\":\"Interactive Line Chart of the Average Income by State\",\"text_color\":{\"value\":\"black\"},\"text_font_size\":{\"value\":\"25pt\"}},\"id\":\"9270\",\"type\":\"Title\"},{\"attributes\":{\"active_drag\":\"auto\",\"active_inspect\":\"auto\",\"active_multi\":null,\"active_scroll\":\"auto\",\"active_tap\":\"auto\",\"tools\":[{\"id\":\"9091\"},{\"id\":\"9108\"},{\"id\":\"9109\"},{\"id\":\"9110\"},{\"id\":\"9111\"},{\"id\":\"9112\"}]},\"id\":\"9114\",\"type\":\"Toolbar\"},{\"attributes\":{\"callback\":null,\"renderers\":[{\"id\":\"9304\"}],\"tags\":[\"hv_created\"],\"tooltips\":[[\"Year\",\"@{Year}\"],[\"Invoice Amount\",\"@{Invoice_Amount}\"]]},\"id\":\"9268\",\"type\":\"HoverTool\"},{\"attributes\":{\"align\":null,\"below\":[{\"id\":\"9278\"}],\"center\":[{\"id\":\"9280\"},{\"id\":\"9284\"}],\"left\":[{\"id\":\"9281\"}],\"margin\":null,\"min_border_bottom\":10,\"min_border_left\":10,\"min_border_right\":10,\"min_border_top\":10,\"plot_height\":500,\"plot_width\":1000,\"renderers\":[{\"id\":\"9304\"}],\"sizing_mode\":\"fixed\",\"title\":{\"id\":\"9270\"},\"toolbar\":{\"id\":\"9291\"},\"x_range\":{\"id\":\"8789\"},\"x_scale\":{\"id\":\"9274\"},\"y_range\":{\"id\":\"8790\"},\"y_scale\":{\"id\":\"9276\"}},\"id\":\"9269\",\"subtype\":\"Figure\",\"type\":\"Plot\"},{\"attributes\":{},\"id\":\"9274\",\"type\":\"CategoricalScale\"},{\"attributes\":{\"axis_label\":\"Total Invoiced ($)\",\"axis_label_text_font_size\":\"20pt\",\"bounds\":\"auto\",\"formatter\":{\"id\":\"9185\"},\"major_label_orientation\":\"horizontal\",\"major_label_text_font_size\":\"20pt\",\"ticker\":{\"id\":\"9161\"}},\"id\":\"9160\",\"type\":\"LinearAxis\"},{\"attributes\":{\"axis_label\":\"Year\",\"axis_label_text_font_size\":\"20pt\",\"bounds\":\"auto\",\"formatter\":{\"id\":\"9308\"},\"group_text_font_size\":\"20pt\",\"major_label_orientation\":\"horizontal\",\"major_label_text_font_size\":\"20pt\",\"ticker\":{\"id\":\"9279\"}},\"id\":\"9278\",\"type\":\"CategoricalAxis\"},{\"attributes\":{\"fill_alpha\":{\"value\":0.1},\"fill_color\":{\"value\":\"#1f77b3\"},\"line_alpha\":{\"value\":0.1},\"top\":{\"field\":\"Invoice_Amount\"},\"width\":{\"value\":0.8},\"x\":{\"field\":\"Customers\"}},\"id\":\"9125\",\"type\":\"VBar\"},{\"attributes\":{\"data_source\":{\"id\":\"9007\"},\"glyph\":{\"id\":\"9010\"},\"hover_glyph\":null,\"muted_glyph\":{\"id\":\"9012\"},\"nonselection_glyph\":{\"id\":\"9011\"},\"selection_glyph\":null,\"view\":{\"id\":\"9014\"}},\"id\":\"9013\",\"type\":\"GlyphRenderer\"},{\"attributes\":{},\"id\":\"9122\",\"type\":\"Selection\"},{\"attributes\":{\"source\":{\"id\":\"9007\"}},\"id\":\"9014\",\"type\":\"CDSView\"},{\"attributes\":{},\"id\":\"9276\",\"type\":\"LinearScale\"},{\"attributes\":{\"data\":{\"Invoice_Amount\":{\"__ndarray__\":\"AAAAAACV1UAAAAAAAEC/QAAAAAAAcKdAAAAAAABAn0AAAAAAAILUQA==\",\"dtype\":\"float64\",\"shape\":[5]},\"Year\":[\"2015\",\"2016\",\"2018\",\"2019\",\"2020\"]},\"selected\":{\"id\":\"9299\"},\"selection_policy\":{\"id\":\"9322\"}},\"id\":\"9298\",\"type\":\"ColumnDataSource\"},{\"attributes\":{\"fill_alpha\":{\"value\":0.2},\"fill_color\":{\"value\":\"#1f77b3\"},\"line_alpha\":{\"value\":0.2},\"top\":{\"field\":\"Invoice_Amount\"},\"width\":{\"value\":0.8},\"x\":{\"field\":\"Customers\"}},\"id\":\"9126\",\"type\":\"VBar\"},{\"attributes\":{\"axis\":{\"id\":\"9278\"},\"grid_line_color\":null,\"ticker\":null},\"id\":\"9280\",\"type\":\"Grid\"},{\"attributes\":{},\"id\":\"9279\",\"type\":\"CategoricalTicker\"},{\"attributes\":{\"_render_count\":0,\"config\":null,\"data\":[{\"dimensions\":[{\"label\":\"Customers Status\"},{\"label\":\"Year\"},{\"label\":\"Invoice Amount\"},{\"label\":\"Number of Users\"}],\"domain\":{\"x\":[0.0,1.0],\"y\":[0.0,1.0]},\"line\":{\"coloraxis\":\"coloraxis\"},\"name\":\"\",\"type\":\"parcats\"}],\"data_sources\":[{\"id\":\"9261\"}],\"layout\":{\"coloraxis\":{\"colorbar\":{\"title\":{\"text\":\"Year\"}},\"colorscale\":[[0.0,\"#000004\"],[0.1111111111111111,\"#1b0c41\"],[0.2222222222222222,\"#4a0c6b\"],[0.3333333333333333,\"#781c6d\"],[0.4444444444444444,\"#a52c60\"],[0.5555555555555556,\"#cf4446\"],[0.6666666666666666,\"#ed6925\"],[0.7777777777777778,\"#fb9b06\"],[0.8888888888888888,\"#f7d13d\"],[1.0,\"#fcffa4\"]]},\"height\":1400,\"legend\":{\"tracegroupgap\":0},\"template\":{\"data\":{\"bar\":[{\"error_x\":{\"color\":\"#2a3f5f\"},\"error_y\":{\"color\":\"#2a3f5f\"},\"marker\":{\"line\":{\"color\":\"#E5ECF6\",\"width\":0.5}},\"type\":\"bar\"}],\"barpolar\":[{\"marker\":{\"line\":{\"color\":\"#E5ECF6\",\"width\":0.5}},\"type\":\"barpolar\"}],\"carpet\":[{\"aaxis\":{\"endlinecolor\":\"#2a3f5f\",\"gridcolor\":\"white\",\"linecolor\":\"white\",\"minorgridcolor\":\"white\",\"startlinecolor\":\"#2a3f5f\"},\"baxis\":{\"endlinecolor\":\"#2a3f5f\",\"gridcolor\":\"white\",\"linecolor\":\"white\",\"minorgridcolor\":\"white\",\"startlinecolor\":\"#2a3f5f\"},\"type\":\"carpet\"}],\"choropleth\":[{\"colorbar\":{\"outlinewidth\":0,\"ticks\":\"\"},\"type\":\"choropleth\"}],\"contour\":[{\"colorbar\":{\"outlinewidth\":0,\"ticks\":\"\"},\"colorscale\":[[0.0,\"#0d0887\"],[0.1111111111111111,\"#46039f\"],[0.2222222222222222,\"#7201a8\"],[0.3333333333333333,\"#9c179e\"],[0.4444444444444444,\"#bd3786\"],[0.5555555555555556,\"#d8576b\"],[0.6666666666666666,\"#ed7953\"],[0.7777777777777778,\"#fb9f3a\"],[0.8888888888888888,\"#fdca26\"],[1.0,\"#f0f921\"]],\"type\":\"contour\"}],\"contourcarpet\":[{\"colorbar\":{\"outlinewidth\":0,\"ticks\":\"\"},\"type\":\"contourcarpet\"}],\"heatmap\":[{\"colorbar\":{\"outlinewidth\":0,\"ticks\":\"\"},\"colorscale\":[[0.0,\"#0d0887\"],[0.1111111111111111,\"#46039f\"],[0.2222222222222222,\"#7201a8\"],[0.3333333333333333,\"#9c179e\"],[0.4444444444444444,\"#bd3786\"],[0.5555555555555556,\"#d8576b\"],[0.6666666666666666,\"#ed7953\"],[0.7777777777777778,\"#fb9f3a\"],[0.8888888888888888,\"#fdca26\"],[1.0,\"#f0f921\"]],\"type\":\"heatmap\"}],\"heatmapgl\":[{\"colorbar\":{\"outlinewidth\":0,\"ticks\":\"\"},\"colorscale\":[[0.0,\"#0d0887\"],[0.1111111111111111,\"#46039f\"],[0.2222222222222222,\"#7201a8\"],[0.3333333333333333,\"#9c179e\"],[0.4444444444444444,\"#bd3786\"],[0.5555555555555556,\"#d8576b\"],[0.6666666666666666,\"#ed7953\"],[0.7777777777777778,\"#fb9f3a\"],[0.8888888888888888,\"#fdca26\"],[1.0,\"#f0f921\"]],\"type\":\"heatmapgl\"}],\"histogram\":[{\"marker\":{\"colorbar\":{\"outlinewidth\":0,\"ticks\":\"\"}},\"type\":\"histogram\"}],\"histogram2d\":[{\"colorbar\":{\"outlinewidth\":0,\"ticks\":\"\"},\"colorscale\":[[0.0,\"#0d0887\"],[0.1111111111111111,\"#46039f\"],[0.2222222222222222,\"#7201a8\"],[0.3333333333333333,\"#9c179e\"],[0.4444444444444444,\"#bd3786\"],[0.5555555555555556,\"#d8576b\"],[0.6666666666666666,\"#ed7953\"],[0.7777777777777778,\"#fb9f3a\"],[0.8888888888888888,\"#fdca26\"],[1.0,\"#f0f921\"]],\"type\":\"histogram2d\"}],\"histogram2dcontour\":[{\"colorbar\":{\"outlinewidth\":0,\"ticks\":\"\"},\"colorscale\":[[0.0,\"#0d0887\"],[0.1111111111111111,\"#46039f\"],[0.2222222222222222,\"#7201a8\"],[0.3333333333333333,\"#9c179e\"],[0.4444444444444444,\"#bd3786\"],[0.5555555555555556,\"#d8576b\"],[0.6666666666666666,\"#ed7953\"],[0.7777777777777778,\"#fb9f3a\"],[0.8888888888888888,\"#fdca26\"],[1.0,\"#f0f921\"]],\"type\":\"histogram2dcontour\"}],\"mesh3d\":[{\"colorbar\":{\"outlinewidth\":0,\"ticks\":\"\"},\"type\":\"mesh3d\"}],\"parcoords\":[{\"line\":{\"colorbar\":{\"outlinewidth\":0,\"ticks\":\"\"}},\"type\":\"parcoords\"}],\"pie\":[{\"automargin\":true,\"type\":\"pie\"}],\"scatter\":[{\"marker\":{\"colorbar\":{\"outlinewidth\":0,\"ticks\":\"\"}},\"type\":\"scatter\"}],\"scatter3d\":[{\"line\":{\"colorbar\":{\"outlinewidth\":0,\"ticks\":\"\"}},\"marker\":{\"colorbar\":{\"outlinewidth\":0,\"ticks\":\"\"}},\"type\":\"scatter3d\"}],\"scattercarpet\":[{\"marker\":{\"colorbar\":{\"outlinewidth\":0,\"ticks\":\"\"}},\"type\":\"scattercarpet\"}],\"scattergeo\":[{\"marker\":{\"colorbar\":{\"outlinewidth\":0,\"ticks\":\"\"}},\"type\":\"scattergeo\"}],\"scattergl\":[{\"marker\":{\"colorbar\":{\"outlinewidth\":0,\"ticks\":\"\"}},\"type\":\"scattergl\"}],\"scattermapbox\":[{\"marker\":{\"colorbar\":{\"outlinewidth\":0,\"ticks\":\"\"}},\"type\":\"scattermapbox\"}],\"scatterpolar\":[{\"marker\":{\"colorbar\":{\"outlinewidth\":0,\"ticks\":\"\"}},\"type\":\"scatterpolar\"}],\"scatterpolargl\":[{\"marker\":{\"colorbar\":{\"outlinewidth\":0,\"ticks\":\"\"}},\"type\":\"scatterpolargl\"}],\"scatterternary\":[{\"marker\":{\"colorbar\":{\"outlinewidth\":0,\"ticks\":\"\"}},\"type\":\"scatterternary\"}],\"surface\":[{\"colorbar\":{\"outlinewidth\":0,\"ticks\":\"\"},\"colorscale\":[[0.0,\"#0d0887\"],[0.1111111111111111,\"#46039f\"],[0.2222222222222222,\"#7201a8\"],[0.3333333333333333,\"#9c179e\"],[0.4444444444444444,\"#bd3786\"],[0.5555555555555556,\"#d8576b\"],[0.6666666666666666,\"#ed7953\"],[0.7777777777777778,\"#fb9f3a\"],[0.8888888888888888,\"#fdca26\"],[1.0,\"#f0f921\"]],\"type\":\"surface\"}],\"table\":[{\"cells\":{\"fill\":{\"color\":\"#EBF0F8\"},\"line\":{\"color\":\"white\"}},\"header\":{\"fill\":{\"color\":\"#C8D4E3\"},\"line\":{\"color\":\"white\"}},\"type\":\"table\"}]},\"layout\":{\"annotationdefaults\":{\"arrowcolor\":\"#2a3f5f\",\"arrowhead\":0,\"arrowwidth\":1},\"coloraxis\":{\"colorbar\":{\"outlinewidth\":0,\"ticks\":\"\"}},\"colorscale\":{\"diverging\":[[0,\"#8e0152\"],[0.1,\"#c51b7d\"],[0.2,\"#de77ae\"],[0.3,\"#f1b6da\"],[0.4,\"#fde0ef\"],[0.5,\"#f7f7f7\"],[0.6,\"#e6f5d0\"],[0.7,\"#b8e186\"],[0.8,\"#7fbc41\"],[0.9,\"#4d9221\"],[1,\"#276419\"]],\"sequential\":[[0.0,\"#0d0887\"],[0.1111111111111111,\"#46039f\"],[0.2222222222222222,\"#7201a8\"],[0.3333333333333333,\"#9c179e\"],[0.4444444444444444,\"#bd3786\"],[0.5555555555555556,\"#d8576b\"],[0.6666666666666666,\"#ed7953\"],[0.7777777777777778,\"#fb9f3a\"],[0.8888888888888888,\"#fdca26\"],[1.0,\"#f0f921\"]],\"sequentialminus\":[[0.0,\"#0d0887\"],[0.1111111111111111,\"#46039f\"],[0.2222222222222222,\"#7201a8\"],[0.3333333333333333,\"#9c179e\"],[0.4444444444444444,\"#bd3786\"],[0.5555555555555556,\"#d8576b\"],[0.6666666666666666,\"#ed7953\"],[0.7777777777777778,\"#fb9f3a\"],[0.8888888888888888,\"#fdca26\"],[1.0,\"#f0f921\"]]},\"colorway\":[\"#636efa\",\"#EF553B\",\"#00cc96\",\"#ab63fa\",\"#FFA15A\",\"#19d3f3\",\"#FF6692\",\"#B6E880\",\"#FF97FF\",\"#FECB52\"],\"font\":{\"color\":\"#2a3f5f\"},\"geo\":{\"bgcolor\":\"white\",\"lakecolor\":\"white\",\"landcolor\":\"#E5ECF6\",\"showlakes\":true,\"showland\":true,\"subunitcolor\":\"white\"},\"hoverlabel\":{\"align\":\"left\"},\"hovermode\":\"closest\",\"mapbox\":{\"style\":\"light\"},\"paper_bgcolor\":\"white\",\"plot_bgcolor\":\"#E5ECF6\",\"polar\":{\"angularaxis\":{\"gridcolor\":\"white\",\"linecolor\":\"white\",\"ticks\":\"\"},\"bgcolor\":\"#E5ECF6\",\"radialaxis\":{\"gridcolor\":\"white\",\"linecolor\":\"white\",\"ticks\":\"\"}},\"scene\":{\"xaxis\":{\"backgroundcolor\":\"#E5ECF6\",\"gridcolor\":\"white\",\"gridwidth\":2,\"linecolor\":\"white\",\"showbackground\":true,\"ticks\":\"\",\"zerolinecolor\":\"white\"},\"yaxis\":{\"backgroundcolor\":\"#E5ECF6\",\"gridcolor\":\"white\",\"gridwidth\":2,\"linecolor\":\"white\",\"showbackground\":true,\"ticks\":\"\",\"zerolinecolor\":\"white\"},\"zaxis\":{\"backgroundcolor\":\"#E5ECF6\",\"gridcolor\":\"white\",\"gridwidth\":2,\"linecolor\":\"white\",\"showbackground\":true,\"ticks\":\"\",\"zerolinecolor\":\"white\"}},\"shapedefaults\":{\"line\":{\"color\":\"#2a3f5f\"}},\"ternary\":{\"aaxis\":{\"gridcolor\":\"white\",\"linecolor\":\"white\",\"ticks\":\"\"},\"baxis\":{\"gridcolor\":\"white\",\"linecolor\":\"white\",\"ticks\":\"\"},\"bgcolor\":\"#E5ECF6\",\"caxis\":{\"gridcolor\":\"white\",\"linecolor\":\"white\",\"ticks\":\"\"}},\"title\":{\"x\":0.05},\"xaxis\":{\"automargin\":true,\"gridcolor\":\"white\",\"linecolor\":\"white\",\"ticks\":\"\",\"title\":{\"standoff\":15},\"zerolinecolor\":\"white\",\"zerolinewidth\":2},\"yaxis\":{\"automargin\":true,\"gridcolor\":\"white\",\"linecolor\":\"white\",\"ticks\":\"\",\"title\":{\"standoff\":15},\"zerolinecolor\":\"white\",\"zerolinewidth\":2}}},\"title\":{\"text\":\"Customers Status from 2015 to 2020 based on Most Loyal (Active), New Customers, and Lost Customers\"}},\"margin\":[5,5,5,5],\"name\":\"Plotly11903\",\"viewport_update_throttle\":200},\"id\":\"9262\",\"type\":\"panel.models.plotly.PlotlyPlot\"},{\"attributes\":{\"callback\":null,\"renderers\":[{\"id\":\"9183\"}],\"tags\":[\"hv_created\"],\"tooltips\":[[\"State\",\"@{State}\"],[\"Invoice Amount\",\"@{Invoice_Amount}\"]]},\"id\":\"9147\",\"type\":\"HoverTool\"},{\"attributes\":{},\"id\":\"9224\",\"type\":\"ResetTool\"},{\"attributes\":{},\"id\":\"8843\",\"type\":\"UnionRenderers\"},{\"attributes\":{\"_render_count\":0,\"config\":null,\"data\":[{\"dimensions\":[{\"label\":\"Number of Users\"},{\"label\":\"Invoice Amount\"},{\"label\":\"Year\"}],\"domain\":{\"x\":[0.0,1.0],\"y\":[0.0,1.0]},\"line\":{\"coloraxis\":\"coloraxis\"},\"name\":\"\",\"type\":\"parcoords\"}],\"data_sources\":[{\"id\":\"9259\"}],\"layout\":{\"coloraxis\":{\"colorbar\":{\"title\":{\"text\":\"Invoice Amount\"}},\"colorscale\":[[0.0,\"#0d0887\"],[0.1111111111111111,\"#46039f\"],[0.2222222222222222,\"#7201a8\"],[0.3333333333333333,\"#9c179e\"],[0.4444444444444444,\"#bd3786\"],[0.5555555555555556,\"#d8576b\"],[0.6666666666666666,\"#ed7953\"],[0.7777777777777778,\"#fb9f3a\"],[0.8888888888888888,\"#fdca26\"],[1.0,\"#f0f921\"]]},\"legend\":{\"tracegroupgap\":0},\"template\":{\"data\":{\"bar\":[{\"error_x\":{\"color\":\"#2a3f5f\"},\"error_y\":{\"color\":\"#2a3f5f\"},\"marker\":{\"line\":{\"color\":\"#E5ECF6\",\"width\":0.5}},\"type\":\"bar\"}],\"barpolar\":[{\"marker\":{\"line\":{\"color\":\"#E5ECF6\",\"width\":0.5}},\"type\":\"barpolar\"}],\"carpet\":[{\"aaxis\":{\"endlinecolor\":\"#2a3f5f\",\"gridcolor\":\"white\",\"linecolor\":\"white\",\"minorgridcolor\":\"white\",\"startlinecolor\":\"#2a3f5f\"},\"baxis\":{\"endlinecolor\":\"#2a3f5f\",\"gridcolor\":\"white\",\"linecolor\":\"white\",\"minorgridcolor\":\"white\",\"startlinecolor\":\"#2a3f5f\"},\"type\":\"carpet\"}],\"choropleth\":[{\"colorbar\":{\"outlinewidth\":0,\"ticks\":\"\"},\"type\":\"choropleth\"}],\"contour\":[{\"colorbar\":{\"outlinewidth\":0,\"ticks\":\"\"},\"colorscale\":[[0.0,\"#0d0887\"],[0.1111111111111111,\"#46039f\"],[0.2222222222222222,\"#7201a8\"],[0.3333333333333333,\"#9c179e\"],[0.4444444444444444,\"#bd3786\"],[0.5555555555555556,\"#d8576b\"],[0.6666666666666666,\"#ed7953\"],[0.7777777777777778,\"#fb9f3a\"],[0.8888888888888888,\"#fdca26\"],[1.0,\"#f0f921\"]],\"type\":\"contour\"}],\"contourcarpet\":[{\"colorbar\":{\"outlinewidth\":0,\"ticks\":\"\"},\"type\":\"contourcarpet\"}],\"heatmap\":[{\"colorbar\":{\"outlinewidth\":0,\"ticks\":\"\"},\"colorscale\":[[0.0,\"#0d0887\"],[0.1111111111111111,\"#46039f\"],[0.2222222222222222,\"#7201a8\"],[0.3333333333333333,\"#9c179e\"],[0.4444444444444444,\"#bd3786\"],[0.5555555555555556,\"#d8576b\"],[0.6666666666666666,\"#ed7953\"],[0.7777777777777778,\"#fb9f3a\"],[0.8888888888888888,\"#fdca26\"],[1.0,\"#f0f921\"]],\"type\":\"heatmap\"}],\"heatmapgl\":[{\"colorbar\":{\"outlinewidth\":0,\"ticks\":\"\"},\"colorscale\":[[0.0,\"#0d0887\"],[0.1111111111111111,\"#46039f\"],[0.2222222222222222,\"#7201a8\"],[0.3333333333333333,\"#9c179e\"],[0.4444444444444444,\"#bd3786\"],[0.5555555555555556,\"#d8576b\"],[0.6666666666666666,\"#ed7953\"],[0.7777777777777778,\"#fb9f3a\"],[0.8888888888888888,\"#fdca26\"],[1.0,\"#f0f921\"]],\"type\":\"heatmapgl\"}],\"histogram\":[{\"marker\":{\"colorbar\":{\"outlinewidth\":0,\"ticks\":\"\"}},\"type\":\"histogram\"}],\"histogram2d\":[{\"colorbar\":{\"outlinewidth\":0,\"ticks\":\"\"},\"colorscale\":[[0.0,\"#0d0887\"],[0.1111111111111111,\"#46039f\"],[0.2222222222222222,\"#7201a8\"],[0.3333333333333333,\"#9c179e\"],[0.4444444444444444,\"#bd3786\"],[0.5555555555555556,\"#d8576b\"],[0.6666666666666666,\"#ed7953\"],[0.7777777777777778,\"#fb9f3a\"],[0.8888888888888888,\"#fdca26\"],[1.0,\"#f0f921\"]],\"type\":\"histogram2d\"}],\"histogram2dcontour\":[{\"colorbar\":{\"outlinewidth\":0,\"ticks\":\"\"},\"colorscale\":[[0.0,\"#0d0887\"],[0.1111111111111111,\"#46039f\"],[0.2222222222222222,\"#7201a8\"],[0.3333333333333333,\"#9c179e\"],[0.4444444444444444,\"#bd3786\"],[0.5555555555555556,\"#d8576b\"],[0.6666666666666666,\"#ed7953\"],[0.7777777777777778,\"#fb9f3a\"],[0.8888888888888888,\"#fdca26\"],[1.0,\"#f0f921\"]],\"type\":\"histogram2dcontour\"}],\"mesh3d\":[{\"colorbar\":{\"outlinewidth\":0,\"ticks\":\"\"},\"type\":\"mesh3d\"}],\"parcoords\":[{\"line\":{\"colorbar\":{\"outlinewidth\":0,\"ticks\":\"\"}},\"type\":\"parcoords\"}],\"pie\":[{\"automargin\":true,\"type\":\"pie\"}],\"scatter\":[{\"marker\":{\"colorbar\":{\"outlinewidth\":0,\"ticks\":\"\"}},\"type\":\"scatter\"}],\"scatter3d\":[{\"line\":{\"colorbar\":{\"outlinewidth\":0,\"ticks\":\"\"}},\"marker\":{\"colorbar\":{\"outlinewidth\":0,\"ticks\":\"\"}},\"type\":\"scatter3d\"}],\"scattercarpet\":[{\"marker\":{\"colorbar\":{\"outlinewidth\":0,\"ticks\":\"\"}},\"type\":\"scattercarpet\"}],\"scattergeo\":[{\"marker\":{\"colorbar\":{\"outlinewidth\":0,\"ticks\":\"\"}},\"type\":\"scattergeo\"}],\"scattergl\":[{\"marker\":{\"colorbar\":{\"outlinewidth\":0,\"ticks\":\"\"}},\"type\":\"scattergl\"}],\"scattermapbox\":[{\"marker\":{\"colorbar\":{\"outlinewidth\":0,\"ticks\":\"\"}},\"type\":\"scattermapbox\"}],\"scatterpolar\":[{\"marker\":{\"colorbar\":{\"outlinewidth\":0,\"ticks\":\"\"}},\"type\":\"scatterpolar\"}],\"scatterpolargl\":[{\"marker\":{\"colorbar\":{\"outlinewidth\":0,\"ticks\":\"\"}},\"type\":\"scatterpolargl\"}],\"scatterternary\":[{\"marker\":{\"colorbar\":{\"outlinewidth\":0,\"ticks\":\"\"}},\"type\":\"scatterternary\"}],\"surface\":[{\"colorbar\":{\"outlinewidth\":0,\"ticks\":\"\"},\"colorscale\":[[0.0,\"#0d0887\"],[0.1111111111111111,\"#46039f\"],[0.2222222222222222,\"#7201a8\"],[0.3333333333333333,\"#9c179e\"],[0.4444444444444444,\"#bd3786\"],[0.5555555555555556,\"#d8576b\"],[0.6666666666666666,\"#ed7953\"],[0.7777777777777778,\"#fb9f3a\"],[0.8888888888888888,\"#fdca26\"],[1.0,\"#f0f921\"]],\"type\":\"surface\"}],\"table\":[{\"cells\":{\"fill\":{\"color\":\"#EBF0F8\"},\"line\":{\"color\":\"white\"}},\"header\":{\"fill\":{\"color\":\"#C8D4E3\"},\"line\":{\"color\":\"white\"}},\"type\":\"table\"}]},\"layout\":{\"annotationdefaults\":{\"arrowcolor\":\"#2a3f5f\",\"arrowhead\":0,\"arrowwidth\":1},\"coloraxis\":{\"colorbar\":{\"outlinewidth\":0,\"ticks\":\"\"}},\"colorscale\":{\"diverging\":[[0,\"#8e0152\"],[0.1,\"#c51b7d\"],[0.2,\"#de77ae\"],[0.3,\"#f1b6da\"],[0.4,\"#fde0ef\"],[0.5,\"#f7f7f7\"],[0.6,\"#e6f5d0\"],[0.7,\"#b8e186\"],[0.8,\"#7fbc41\"],[0.9,\"#4d9221\"],[1,\"#276419\"]],\"sequential\":[[0.0,\"#0d0887\"],[0.1111111111111111,\"#46039f\"],[0.2222222222222222,\"#7201a8\"],[0.3333333333333333,\"#9c179e\"],[0.4444444444444444,\"#bd3786\"],[0.5555555555555556,\"#d8576b\"],[0.6666666666666666,\"#ed7953\"],[0.7777777777777778,\"#fb9f3a\"],[0.8888888888888888,\"#fdca26\"],[1.0,\"#f0f921\"]],\"sequentialminus\":[[0.0,\"#0d0887\"],[0.1111111111111111,\"#46039f\"],[0.2222222222222222,\"#7201a8\"],[0.3333333333333333,\"#9c179e\"],[0.4444444444444444,\"#bd3786\"],[0.5555555555555556,\"#d8576b\"],[0.6666666666666666,\"#ed7953\"],[0.7777777777777778,\"#fb9f3a\"],[0.8888888888888888,\"#fdca26\"],[1.0,\"#f0f921\"]]},\"colorway\":[\"#636efa\",\"#EF553B\",\"#00cc96\",\"#ab63fa\",\"#FFA15A\",\"#19d3f3\",\"#FF6692\",\"#B6E880\",\"#FF97FF\",\"#FECB52\"],\"font\":{\"color\":\"#2a3f5f\"},\"geo\":{\"bgcolor\":\"white\",\"lakecolor\":\"white\",\"landcolor\":\"#E5ECF6\",\"showlakes\":true,\"showland\":true,\"subunitcolor\":\"white\"},\"hoverlabel\":{\"align\":\"left\"},\"hovermode\":\"closest\",\"mapbox\":{\"style\":\"light\"},\"paper_bgcolor\":\"white\",\"plot_bgcolor\":\"#E5ECF6\",\"polar\":{\"angularaxis\":{\"gridcolor\":\"white\",\"linecolor\":\"white\",\"ticks\":\"\"},\"bgcolor\":\"#E5ECF6\",\"radialaxis\":{\"gridcolor\":\"white\",\"linecolor\":\"white\",\"ticks\":\"\"}},\"scene\":{\"xaxis\":{\"backgroundcolor\":\"#E5ECF6\",\"gridcolor\":\"white\",\"gridwidth\":2,\"linecolor\":\"white\",\"showbackground\":true,\"ticks\":\"\",\"zerolinecolor\":\"white\"},\"yaxis\":{\"backgroundcolor\":\"#E5ECF6\",\"gridcolor\":\"white\",\"gridwidth\":2,\"linecolor\":\"white\",\"showbackground\":true,\"ticks\":\"\",\"zerolinecolor\":\"white\"},\"zaxis\":{\"backgroundcolor\":\"#E5ECF6\",\"gridcolor\":\"white\",\"gridwidth\":2,\"linecolor\":\"white\",\"showbackground\":true,\"ticks\":\"\",\"zerolinecolor\":\"white\"}},\"shapedefaults\":{\"line\":{\"color\":\"#2a3f5f\"}},\"ternary\":{\"aaxis\":{\"gridcolor\":\"white\",\"linecolor\":\"white\",\"ticks\":\"\"},\"baxis\":{\"gridcolor\":\"white\",\"linecolor\":\"white\",\"ticks\":\"\"},\"bgcolor\":\"#E5ECF6\",\"caxis\":{\"gridcolor\":\"white\",\"linecolor\":\"white\",\"ticks\":\"\"}},\"title\":{\"x\":0.05},\"xaxis\":{\"automargin\":true,\"gridcolor\":\"white\",\"linecolor\":\"white\",\"ticks\":\"\",\"title\":{\"standoff\":15},\"zerolinecolor\":\"white\",\"zerolinewidth\":2},\"yaxis\":{\"automargin\":true,\"gridcolor\":\"white\",\"linecolor\":\"white\",\"ticks\":\"\",\"title\":{\"standoff\":15},\"zerolinecolor\":\"white\",\"zerolinewidth\":2}}},\"title\":{\"text\":\"Parallel View of Invoices along with Number of Users from 2015 to 2020\"}},\"margin\":[5,5,5,5],\"name\":\"Plotly11901\",\"viewport_update_throttle\":200},\"id\":\"9260\",\"type\":\"panel.models.plotly.PlotlyPlot\"},{\"attributes\":{\"data\":{\"dimensions.0.values\":[[\"Lost\",\"Active\",\"Active\",\"Lost\",\"Lost\",\"Active\",\"Active\",\"Active\",\"Lost\",\"Lost\",\"Active\",\"Active\",\"Active\",\"Lost\",\"Lost\",\"Lost\",\"Active\",\"Active\",\"Lost\",\"Active\",\"Lost\",\"Lost\",\"Active\",\"Active\",\"Active\",\"Active\",\"Lost\",\"Active\",\"Active\",\"Lost\",\"Active\",\"Lost\",\"Lost\",\"Lost\",\"Lost\",\"Lost\",\"Lost\",\"Lost\",\"Lost\",\"Active\",\"Lost\",\"Active\",\"Lost\",\"Active\",\"Lost\",\"Active\",\"Lost\",\"Lost\",\"Active\",\"Active\",\"Active\",\"Active\",\"Active\",\"Lost\",\"Lost\",\"Active\",\"Lost\",\"Lost\",\"Lost\",\"Active\",\"Lost\",\"Lost\",\"Lost\",\"Active\",\"Active\",\"Active\",\"Lost\",\"Lost\",\"Lost\",\"Lost\",\"Lost\",\"Active\",\"Active\",\"Active\",\"Active\",\"Lost\",\"Lost\",\"Lost\",\"Lost\",\"Active\",\"Active\",\"Lost\",\"Lost\",\"Active\",\"Active\",\"Lost\",\"Active\",\"Lost\",\"Active\",\"Active\",\"Lost\",\"Active\",\"Active\",\"Lost\",\"Lost\",\"Active\",\"Lost\",\"Active\",\"Lost\",\"Lost\",\"Lost\",\"Active\",\"Lost\",\"Active\",\"Active\",\"Active\",\"Active\",\"Lost\",\"Lost\",\"Lost\",\"Lost\",\"Lost\",\"Lost\",\"Lost\",\"Lost\",\"Lost\",\"Lost\",\"Lost\",\"Active\",\"Active\",\"Active\",\"Active\",\"Active\",\"Active\",\"Lost\",\"Lost\",\"Active\",\"Active\",\"Active\",\"Active\",\"Active\",\"Active\",\"Active\",\"Lost\",\"Active\",\"Active\",\"Active\",\"Active\",\"Active\",\"Lost\",\"Lost\",\"Active\",\"Active\",\"Lost\",\"Lost\",\"Active\",\"Active\",\"Lost\",\"Active\",\"Active\",\"Active\",\"Active\",\"Active\",\"Active\",\"Lost\",\"Active\",\"Active\",\"Lost\",\"Lost\",\"Active\",\"Active\",\"Lost\",\"Active\",\"Active\",\"Lost\",\"Active\",\"Lost\",\"Active\",\"Lost\",\"Active\",\"Lost\",\"Active\",\"Active\",\"Active\",\"Active\",\"Lost\",\"Lost\",\"Active\",\"Active\",\"Active\",\"Lost\",\"Active\",\"Lost\",\"Active\",\"Active\",\"Active\",\"Active\",\"Active\",\"Active\",\"Active\",\"Active\",\"Active\",\"Active\",\"Active\",\"Lost\",\"Lost\",\"Active\",\"Active\",\"Lost\",\"Active\",\"Active\",\"Active\",\"Active\",\"Active\",\"Active\",\"Active\",\"Active\",\"Active\",\"Active\",\"Active\",\"Active\",\"Active\",\"Active\",\"Active\",\"Active\",\"Active\",\"Active\",\"Active\",\"Active\",\"Active\",\"Active\",\"Active\",\"Active\",\"Active\",\"Active\",\"Active\",\"Active\",\"Lost\",\"Active\",\"Lost\",\"Active\",\"Active\",\"Active\",\"Lost\",\"Lost\",\"Active\",\"Active\",\"Lost\",\"Active\",\"Active\",\"Active\",\"Active\",\"Active\",\"Active\",\"Active\",\"Active\",\"Lost\",\"Active\",\"Active\",\"Active\",\"Lost\",\"Active\",\"Lost\",\"Active\",\"Active\",\"Active\",\"Lost\",\"New\",\"Active\",\"Active\",\"Active\",\"Active\",\"Active\",\"Active\",\"Active\",\"Active\",\"Active\",\"Active\",\"Active\",\"Active\",\"New\",\"Active\",\"Active\",\"Active\",\"Active\",\"New\",\"Active\",\"New\",\"New\",\"Active\",\"New\",\"Active\",\"New\",\"Active\",\"New\",\"New\",\"Active\",\"New\",\"New\",\"Active\",\"Lost\",\"New\",\"Active\",\"New\",\"New\",\"New\",\"New\",\"New\",\"Lost\",\"New\",\"New\",\"Lost\",\"New\",\"New\",\"New\",\"New\",\"Active\",\"New\",\"New\",\"New\",\"Lost\",\"New\",\"Active\",\"New\",\"New\",\"New\",\"Active\",\"New\",\"Active\",\"New\",\"New\",\"New\",\"Active\",\"Active\",\"New\",\"Active\",\"New\",\"Lost\",\"Active\",\"New\",\"Active\",\"New\",\"New\",\"Active\",\"Lost\",\"Lost\",\"New\",\"New\",\"New\",\"New\",\"New\",\"Active\",\"New\",\"Active\",\"New\",\"New\",\"Active\",\"Lost\",\"New\",\"New\",\"New\",\"New\",\"Active\",\"New\",\"Active\",\"New\",\"Active\",\"New\",\"Active\",\"New\",\"New\",\"New\",\"Active\",\"Active\",\"Active\",\"Active\",\"Active\",\"Active\",\"Active\",\"Lost\",\"New\",\"New\",\"Active\",\"Active\",\"Active\",\"New\",\"New\",\"New\",\"New\",\"New\",\"New\",\"New\",\"New\",\"Active\",\"New\",\"New\",\"New\",\"Active\",\"Lost\",\"New\",\"New\",\"New\",\"New\",\"New\",\"New\",\"New\",\"New\",\"New\",\"New\",\"New\",\"Active\",\"New\",\"New\",\"Active\",\"New\",\"New\",\"New\",\"New\",\"New\",\"New\",\"New\",\"Active\",\"New\",\"New\",\"New\",\"Active\",\"New\",\"New\",\"New\",\"New\",\"New\",\"New\",\"New\",\"New\",\"Active\",\"Active\",\"New\",\"New\",\"Active\",\"New\",\"New\",\"New\",\"New\",\"New\",\"New\",\"New\",\"New\",\"Lost\",\"New\",\"New\",\"Active\",\"New\",\"New\",\"Active\",\"New\",\"Active\",\"New\",\"Active\",\"New\",\"New\",\"New\",\"New\",\"New\",\"New\",\"New\",\"Active\",\"Lost\",\"New\",\"New\",\"New\",\"New\",\"New\",\"New\",\"New\",\"Active\",\"New\",\"New\",\"New\",\"New\",\"New\",\"New\",\"New\",\"New\",\"New\",\"New\",\"Active\",\"Lost\",\"New\",\"New\",\"New\",\"New\",\"New\",\"Active\",\"New\",\"New\",\"New\",\"New\",\"New\",\"New\",\"New\",\"New\",\"Active\",\"New\",\"New\",\"New\",\"New\",\"Lost\",\"New\",\"New\",\"New\",\"New\",\"New\",\"Active\",\"New\",\"New\",\"New\",\"New\",\"New\",\"New\",\"New\",\"New\",\"New\",\"Lost\",\"Active\",\"New\",\"New\",\"Lost\",\"New\",\"New\",\"New\",\"New\",\"New\",\"New\",\"New\",\"New\",\"New\",\"New\",\"New\",\"New\",\"New\",\"New\",\"New\",\"New\",\"Active\",\"New\",\"New\",\"New\",\"New\",\"Lost\",\"New\",\"New\",\"New\",\"New\",\"New\",\"New\",\"New\",\"Active\",\"New\",\"Active\",\"New\",\"New\",\"Lost\",\"Active\",\"New\",\"New\",\"New\",\"New\",\"New\",\"New\",\"New\",\"New\",\"Active\",\"New\",\"New\",\"New\",\"New\",\"New\",\"Active\",\"New\",\"New\",\"New\",\"New\",\"New\",\"New\",\"New\",\"New\",\"Active\",\"Lost\",\"New\",\"New\",\"New\",\"New\",\"New\",\"Active\",\"New\",\"New\",\"New\",\"New\",\"New\",\"New\",\"New\",\"New\",\"New\",\"New\",\"New\",\"New\",\"New\",\"New\",\"New\",\"New\",\"New\",\"New\",\"New\",\"New\",\"New\",\"New\",\"New\",\"New\",\"Active\",\"New\",\"New\",\"New\",\"New\",\"New\",\"New\",\"New\",\"New\",\"New\",\"New\",\"New\",\"New\",\"New\",\"New\",\"New\",\"Active\",\"New\",\"New\",\"New\",\"Lost\",\"New\",\"New\",\"Active\",\"New\",\"New\",\"Active\",\"New\",\"New\",\"Active\",\"Active\",\"New\",\"New\",\"Active\",\"New\",\"New\",\"New\",\"New\",\"New\",\"New\",\"Active\",\"New\",\"New\",\"New\",\"New\",\"New\",\"New\",\"New\",\"New\",\"New\",\"Active\",\"New\",\"New\",\"New\",\"New\",\"New\",\"Active\",\"New\",\"New\",\"Lost\",\"New\",\"New\",\"Active\",\"New\",\"New\",\"New\",\"New\",\"Active\",\"New\",\"New\",\"New\",\"Active\",\"Active\",\"New\",\"New\",\"New\",\"New\",\"Active\",\"New\",\"New\",\"New\",\"New\",\"New\",\"New\",\"New\",\"New\",\"New\",\"New\",\"Active\",\"New\",\"New\",\"New\"]],\"dimensions.1.values\":[[2015,2015,2015,2015,2015,2015,2015,2015,2015,2015,2016,2016,2016,2016,2016,2016,2016,2016,2016,2016,2016,2016,2016,2016,2016,2016,2016,2016,2016,2016,2016,2016,2016,2016,2016,2016,2016,2016,2016,2016,2016,2016,2016,2016,2016,2016,2016,2016,2016,2016,2016,2016,2016,2016,2016,2016,2016,2016,2016,2016,2016,2016,2016,2016,2016,2017,2017,2017,2017,2017,2017,2017,2017,2017,2017,2017,2017,2017,2017,2017,2017,2017,2017,2017,2017,2017,2017,2017,2017,2017,2017,2017,2017,2017,2017,2017,2017,2017,2017,2017,2017,2017,2017,2017,2017,2017,2017,2017,2017,2017,2017,2017,2017,2017,2017,2017,2017,2017,2017,2017,2017,2017,2018,2018,2018,2018,2018,2018,2018,2018,2018,2018,2018,2018,2018,2018,2018,2018,2018,2018,2018,2018,2018,2018,2018,2018,2018,2018,2018,2018,2018,2018,2018,2018,2018,2018,2018,2018,2018,2018,2018,2018,2018,2018,2018,2018,2018,2018,2018,2018,2018,2018,2018,2018,2018,2018,2018,2018,2018,2018,2018,2018,2018,2018,2018,2018,2019,2019,2019,2019,2019,2019,2019,2019,2019,2019,2019,2019,2019,2019,2019,2019,2019,2019,2019,2019,2019,2019,2019,2019,2019,2019,2019,2019,2019,2019,2019,2019,2019,2019,2019,2019,2019,2019,2019,2019,2019,2019,2019,2019,2019,2019,2019,2019,2019,2019,2019,2019,2019,2019,2019,2019,2019,2019,2019,2019,2019,2019,2019,2019,2019,2019,2019,2019,2019,2019,2019,2019,2019,2019,2019,2020,2020,2020,2020,2020,2020,2020,2020,2020,2020,2020,2020,2020,2020,2020,2020,2020,2020,2020,2020,2020,2020,2020,2020,2020,2020,2020,2020,2020,2020,2020,2020,2020,2020,2020,2020,2020,2020,2020,2020,2020,2020,2020,2020,2020,2020,2020,2020,2020,2020,2020,2020,2020,2020,2020,2020,2020,2020,2020,2020,2020,2020,2020,2020,2020,2020,2020,2020,2020,2020,2020,2020,2020,2020,2020,2020,2020,2020,2020,2020,2020,2020,2020,2020,2020,2020,2020,2020,2020,2020,2020,2020,2020,2020,2020,2020,2020,2020,2020,2020,2020,2020,2020,2020,2020,2020,2020,2020,2020,2020,2020,2020,2020,2020,2020,2020,2020,2020,2020,2020,2020,2020,2020,2020,2020,2020,2020,2020,2020,2020,2020,2020,2020,2020,2020,2020,2020,2020,2020,2020,2020,2020,2020,2020,2020,2020,2020,2020,2020,2020,2020,2020,2020,2020,2020,2020,2020,2020,2020,2020,2020,2020,2020,2020,2020,2020,2020,2020,2020,2020,2020,2020,2020,2020,2020,2020,2020,2020,2020,2020,2020,2020,2020,2020,2020,2020,2020,2020,2020,2020,2020,2020,2020,2020,2020,2020,2020,2020,2020,2020,2020,2020,2020,2020,2020,2020,2020,2020,2020,2020,2020,2020,2020,2020,2020,2020,2020,2020,2020,2020,2020,2020,2020,2020,2020,2020,2020,2020,2020,2020,2020,2020,2020,2020,2020,2020,2020,2020,2020,2020,2020,2020,2020,2020,2020,2020,2020,2020,2020,2020,2020,2020,2020,2020,2020,2020,2020,2020,2020,2020,2020,2020,2020,2020,2020,2020,2020,2020,2020,2020,2020,2020,2020,2020,2020,2020,2020,2020,2020,2020,2020,2020,2020,2020,2020,2020,2020,2020,2020,2020,2020,2020,2020,2020,2020,2020,2020,2020,2020,2020,2020,2020,2020,2020,2020,2020,2020,2020,2020,2020,2020,2020,2020,2020,2020,2020,2020,2020,2020,2020,2020,2020,2020,2020,2020,2020,2020,2020,2020,2020,2020,2020,2020,2020,2020,2020,2020,2020,2020,2020,2020,2020,2020,2020,2020,2020,2020,2020,2020,2020,2020,2020,2020,2020,2020,2020,2020,2020,2020,2020,2020,2020,2020,2020,2020,2020,2020,2020,2020,2020,2020,2020,2020,2020,2020,2020,2020,2020,2020,2020,2020,2020,2020,2020,2020,2020,2020,2020,2020,2020,2020,2020,2020,2020,2020,2020,2020,2020,2020,2020,2020,2020,2020,2020,2020,2020,2020,2020,2020,2020,2020,2020,2020,2020,2020,2020,2020,2020,2020,2020,2020,2020,2020,2020,2020,2020,2020,2020,2020,2020,2020,2020,2020,2020,2020,2020,2020,2020,2020]],\"dimensions.2.values\":[{\"__ndarray__\":\"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\",\"dtype\":\"float64\",\"shape\":[700]}],\"dimensions.3.values\":[{\"__ndarray__\":\"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\",\"dtype\":\"float64\",\"shape\":[700]}],\"line.color\":[[2015,2015,2015,2015,2015,2015,2015,2015,2015,2015,2016,2016,2016,2016,2016,2016,2016,2016,2016,2016,2016,2016,2016,2016,2016,2016,2016,2016,2016,2016,2016,2016,2016,2016,2016,2016,2016,2016,2016,2016,2016,2016,2016,2016,2016,2016,2016,2016,2016,2016,2016,2016,2016,2016,2016,2016,2016,2016,2016,2016,2016,2016,2016,2016,2016,2017,2017,2017,2017,2017,2017,2017,2017,2017,2017,2017,2017,2017,2017,2017,2017,2017,2017,2017,2017,2017,2017,2017,2017,2017,2017,2017,2017,2017,2017,2017,2017,2017,2017,2017,2017,2017,2017,2017,2017,2017,2017,2017,2017,2017,2017,2017,2017,2017,2017,2017,2017,2017,2017,2017,2017,2017,2018,2018,2018,2018,2018,2018,2018,2018,2018,2018,2018,2018,2018,2018,2018,2018,2018,2018,2018,2018,2018,2018,2018,2018,2018,2018,2018,2018,2018,2018,2018,2018,2018,2018,2018,2018,2018,2018,2018,2018,2018,2018,2018,2018,2018,2018,2018,2018,2018,2018,2018,2018,2018,2018,2018,2018,2018,2018,2018,2018,2018,2018,2018,2018,2019,2019,2019,2019,2019,2019,2019,2019,2019,2019,2019,2019,2019,2019,2019,2019,2019,2019,2019,2019,2019,2019,2019,2019,2019,2019,2019,2019,2019,2019,2019,2019,2019,2019,2019,2019,2019,2019,2019,2019,2019,2019,2019,2019,2019,2019,2019,2019,2019,2019,2019,2019,2019,2019,2019,2019,2019,2019,2019,2019,2019,2019,2019,2019,2019,2019,2019,2019,2019,2019,2019,2019,2019,2019,2019,2020,2020,2020,2020,2020,2020,2020,2020,2020,2020,2020,2020,2020,2020,2020,2020,2020,2020,2020,2020,2020,2020,2020,2020,2020,2020,2020,2020,2020,2020,2020,2020,2020,2020,2020,2020,2020,2020,2020,2020,2020,2020,2020,2020,2020,2020,2020,2020,2020,2020,2020,2020,2020,2020,2020,2020,2020,2020,2020,2020,2020,2020,2020,2020,2020,2020,2020,2020,2020,2020,2020,2020,2020,2020,2020,2020,2020,2020,2020,2020,2020,2020,2020,2020,2020,2020,2020,2020,2020,2020,2020,2020,2020,2020,2020,2020,2020,2020,2020,2020,2020,2020,2020,2020,2020,2020,2020,2020,2020,2020,2020,2020,2020,2020,2020,2020,2020,2020,2020,2020,2020,2020,2020,2020,2020,2020,2020,2020,2020,2020,2020,2020,2020,2020,2020,2020,2020,2020,2020,2020,2020,2020,2020,2020,2020,2020,2020,2020,2020,2020,2020,2020,2020,2020,2020,2020,2020,2020,2020,2020,2020,2020,2020,2020,2020,2020,2020,2020,2020,2020,2020,2020,2020,2020,2020,2020,2020,2020,2020,2020,2020,2020,2020,2020,2020,2020,2020,2020,2020,2020,2020,2020,2020,2020,2020,2020,2020,2020,2020,2020,2020,2020,2020,2020,2020,2020,2020,2020,2020,2020,2020,2020,2020,2020,2020,2020,2020,2020,2020,2020,2020,2020,2020,2020,2020,2020,2020,2020,2020,2020,2020,2020,2020,2020,2020,2020,2020,2020,2020,2020,2020,2020,2020,2020,2020,2020,2020,2020,2020,2020,2020,2020,2020,2020,2020,2020,2020,2020,2020,2020,2020,2020,2020,2020,2020,2020,2020,2020,2020,2020,2020,2020,2020,2020,2020,2020,2020,2020,2020,2020,2020,2020,2020,2020,2020,2020,2020,2020,2020,2020,2020,2020,2020,2020,2020,2020,2020,2020,2020,2020,2020,2020,2020,2020,2020,2020,2020,2020,2020,2020,2020,2020,2020,2020,2020,2020,2020,2020,2020,2020,2020,2020,2020,2020,2020,2020,2020,2020,2020,2020,2020,2020,2020,2020,2020,2020,2020,2020,2020,2020,2020,2020,2020,2020,2020,2020,2020,2020,2020,2020,2020,2020,2020,2020,2020,2020,2020,2020,2020,2020,2020,2020,2020,2020,2020,2020,2020,2020,2020,2020,2020,2020,2020,2020,2020,2020,2020,2020,2020,2020,2020,2020,2020,2020,2020,2020,2020,2020,2020,2020,2020,2020,2020,2020,2020,2020,2020,2020,2020,2020,2020,2020,2020,2020,2020,2020,2020,2020,2020,2020,2020,2020,2020,2020,2020,2020,2020,2020,2020,2020,2020,2020,2020,2020,2020,2020,2020,2020,2020,2020,2020,2020,2020,2020,2020,2020,2020,2020,2020]]},\"selected\":{\"id\":\"9366\"},\"selection_policy\":{\"id\":\"9367\"}},\"id\":\"9261\",\"type\":\"ColumnDataSource\"},{\"attributes\":{},\"id\":\"9168\",\"type\":\"ResetTool\"},{\"attributes\":{},\"id\":\"9165\",\"type\":\"PanTool\"},{\"attributes\":{},\"id\":\"9166\",\"type\":\"WheelZoomTool\"},{\"attributes\":{\"children\":[{\"id\":\"9265\"}],\"margin\":[0,0,0,0],\"name\":\"Column11946\"},\"id\":\"9264\",\"type\":\"Column\"},{\"attributes\":{\"overlay\":{\"id\":\"9169\"}},\"id\":\"9167\",\"type\":\"BoxZoomTool\"},{\"attributes\":{\"factors\":[\"AL\",\"LA\",\"GA\",\"NC\",\"CA\",\"KY\",\"NY\",\"UT\",\"IL\",\"TN\",\"GU\",\"OK\",\"NE\",\"MT\",\"SA\",\"NH\",\"DE\",\"Canada\",\"VT\",\"ND\"],\"tags\":[[[\"State\",\"State\",null]]]},\"id\":\"9145\",\"type\":\"FactorRange\"},{\"attributes\":{},\"id\":\"9164\",\"type\":\"SaveTool\"},{\"attributes\":{\"text\":\"Top 10 Lowest Paying States of All Time\",\"text_color\":{\"value\":\"black\"},\"text_font_size\":{\"value\":\"25pt\"}},\"id\":\"9205\",\"type\":\"Title\"},{\"attributes\":{\"bottom_units\":\"screen\",\"fill_alpha\":0.5,\"fill_color\":\"lightgrey\",\"left_units\":\"screen\",\"level\":\"overlay\",\"line_alpha\":1.0,\"line_color\":\"black\",\"line_dash\":[4,4],\"line_width\":2,\"render_mode\":\"css\",\"right_units\":\"screen\",\"top_units\":\"screen\"},\"id\":\"9225\",\"type\":\"BoxAnnotation\"},{\"attributes\":{\"align\":null,\"below\":[{\"id\":\"9213\"}],\"center\":[{\"id\":\"9215\"},{\"id\":\"9219\"}],\"left\":[{\"id\":\"9216\"}],\"margin\":null,\"min_border_bottom\":10,\"min_border_left\":10,\"min_border_right\":10,\"min_border_top\":10,\"plot_height\":800,\"plot_width\":1400,\"renderers\":[{\"id\":\"9239\"}],\"sizing_mode\":\"fixed\",\"title\":{\"id\":\"9205\"},\"toolbar\":{\"id\":\"9226\"},\"x_range\":{\"id\":\"9145\"},\"x_scale\":{\"id\":\"9209\"},\"y_range\":{\"id\":\"8790\"},\"y_scale\":{\"id\":\"9211\"}},\"id\":\"9204\",\"subtype\":\"Figure\",\"type\":\"Plot\"},{\"attributes\":{},\"id\":\"9209\",\"type\":\"CategoricalScale\"},{\"attributes\":{},\"id\":\"8888\",\"type\":\"Selection\"},{\"attributes\":{\"bottom_units\":\"screen\",\"fill_alpha\":0.5,\"fill_color\":\"lightgrey\",\"left_units\":\"screen\",\"level\":\"overlay\",\"line_alpha\":1.0,\"line_color\":\"black\",\"line_dash\":[4,4],\"line_width\":2,\"render_mode\":\"css\",\"right_units\":\"screen\",\"top_units\":\"screen\"},\"id\":\"9169\",\"type\":\"BoxAnnotation\"},{\"attributes\":{\"active_drag\":\"auto\",\"active_inspect\":\"auto\",\"active_multi\":null,\"active_scroll\":\"auto\",\"active_tap\":\"auto\",\"tools\":[{\"id\":\"9203\"},{\"id\":\"9220\"},{\"id\":\"9221\"},{\"id\":\"9222\"},{\"id\":\"9223\"},{\"id\":\"9224\"}]},\"id\":\"9226\",\"type\":\"Toolbar\"},{\"attributes\":{\"fill_alpha\":{\"value\":0.1},\"fill_color\":{\"value\":\"#1f77b3\"},\"line_alpha\":{\"value\":0.1},\"top\":{\"field\":\"Invoice_Amount\"},\"width\":{\"value\":0.8},\"x\":{\"field\":\"State\"}},\"id\":\"9237\",\"type\":\"VBar\"},{\"attributes\":{},\"id\":\"9234\",\"type\":\"Selection\"},{\"attributes\":{\"fill_color\":{\"value\":\"#1f77b3\"},\"top\":{\"field\":\"Invoice_Amount\"},\"width\":{\"value\":0.8},\"x\":{\"field\":\"State\"}},\"id\":\"9236\",\"type\":\"VBar\"},{\"attributes\":{\"fill_alpha\":{\"value\":0.2},\"fill_color\":{\"value\":\"#1f77b3\"},\"line_alpha\":{\"value\":0.2},\"top\":{\"field\":\"Invoice_Amount\"},\"width\":{\"value\":0.8},\"x\":{\"field\":\"State\"}},\"id\":\"9238\",\"type\":\"VBar\"},{\"attributes\":{\"child\":{\"id\":\"9032\"},\"name\":\"Column11900\",\"title\":\"Neighborhood Analysis\"},\"id\":\"9257\",\"type\":\"Panel\"},{\"attributes\":{\"data_source\":{\"id\":\"9233\"},\"glyph\":{\"id\":\"9236\"},\"hover_glyph\":null,\"muted_glyph\":{\"id\":\"9238\"},\"nonselection_glyph\":{\"id\":\"9237\"},\"selection_glyph\":null,\"view\":{\"id\":\"9240\"}},\"id\":\"9239\",\"type\":\"GlyphRenderer\"},{\"attributes\":{\"active_drag\":\"auto\",\"active_inspect\":\"auto\",\"active_multi\":null,\"active_scroll\":\"auto\",\"active_tap\":\"auto\",\"tools\":[{\"id\":\"9147\"},{\"id\":\"9164\"},{\"id\":\"9165\"},{\"id\":\"9166\"},{\"id\":\"9167\"},{\"id\":\"9168\"}]},\"id\":\"9170\",\"type\":\"Toolbar\"},{\"attributes\":{\"source\":{\"id\":\"9233\"}},\"id\":\"9240\",\"type\":\"CDSView\"},{\"attributes\":{\"format\":\"$%.0f\"},\"id\":\"9241\",\"type\":\"PrintfTickFormatter\"},{\"attributes\":{\"data\":{\"dimensions.0.values\":[{\"__ndarray__\":\"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\",\"dtype\":\"float64\",\"shape\":[700]}],\"dimensions.1.values\":[{\"__ndarray__\":\"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\",\"dtype\":\"float64\",\"shape\":[700]}],\"dimensions.2.values\":[[2015,2015,2015,2015,2015,2015,2015,2015,2015,2015,2016,2016,2016,2016,2016,2016,2016,2016,2016,2016,2016,2016,2016,2016,2016,2016,2016,2016,2016,2016,2016,2016,2016,2016,2016,2016,2016,2016,2016,2016,2016,2016,2016,2016,2016,2016,2016,2016,2016,2016,2016,2016,2016,2016,2016,2016,2016,2016,2016,2016,2016,2016,2016,2016,2016,2017,2017,2017,2017,2017,2017,2017,2017,2017,2017,2017,2017,2017,2017,2017,2017,2017,2017,2017,2017,2017,2017,2017,2017,2017,2017,2017,2017,2017,2017,2017,2017,2017,2017,2017,2017,2017,2017,2017,2017,2017,2017,2017,2017,2017,2017,2017,2017,2017,2017,2017,2017,2017,2017,2017,2017,2017,2018,2018,2018,2018,2018,2018,2018,2018,2018,2018,2018,2018,2018,2018,2018,2018,2018,2018,2018,2018,2018,2018,2018,2018,2018,2018,2018,2018,2018,2018,2018,2018,2018,2018,2018,2018,2018,2018,2018,2018,2018,2018,2018,2018,2018,2018,2018,2018,2018,2018,2018,2018,2018,2018,2018,2018,2018,2018,2018,2018,2018,2018,2018,2018,2019,2019,2019,2019,2019,2019,2019,2019,2019,2019,2019,2019,2019,2019,2019,2019,2019,2019,2019,2019,2019,2019,2019,2019,2019,2019,2019,2019,2019,2019,2019,2019,2019,2019,2019,2019,2019,2019,2019,2019,2019,2019,2019,2019,2019,2019,2019,2019,2019,2019,2019,2019,2019,2019,2019,2019,2019,2019,2019,2019,2019,2019,2019,2019,2019,2019,2019,2019,2019,2019,2019,2019,2019,2019,2019,2020,2020,2020,2020,2020,2020,2020,2020,2020,2020,2020,2020,2020,2020,2020,2020,2020,2020,2020,2020,2020,2020,2020,2020,2020,2020,2020,2020,2020,2020,2020,2020,2020,2020,2020,2020,2020,2020,2020,2020,2020,2020,2020,2020,2020,2020,2020,2020,2020,2020,2020,2020,2020,2020,2020,2020,2020,2020,2020,2020,2020,2020,2020,2020,2020,2020,2020,2020,2020,2020,2020,2020,2020,2020,2020,2020,2020,2020,2020,2020,2020,2020,2020,2020,2020,2020,2020,2020,2020,2020,2020,2020,2020,2020,2020,2020,2020,2020,2020,2020,2020,2020,2020,2020,2020,2020,2020,2020,2020,2020,2020,2020,2020,2020,2020,2020,2020,2020,2020,2020,2020,2020,2020,2020,2020,2020,2020,2020,2020,2020,2020,2020,2020,2020,2020,2020,2020,2020,2020,2020,2020,2020,2020,2020,2020,2020,2020,2020,2020,2020,2020,2020,2020,2020,2020,2020,2020,2020,2020,2020,2020,2020,2020,2020,2020,2020,2020,2020,2020,2020,2020,2020,2020,2020,2020,2020,2020,2020,2020,2020,2020,2020,2020,2020,2020,2020,2020,2020,2020,2020,2020,2020,2020,2020,2020,2020,2020,2020,2020,2020,2020,2020,2020,2020,2020,2020,2020,2020,2020,2020,2020,2020,2020,2020,2020,2020,2020,2020,2020,2020,2020,2020,2020,2020,2020,2020,2020,2020,2020,2020,2020,2020,2020,2020,2020,2020,2020,2020,2020,2020,2020,2020,2020,2020,2020,2020,2020,2020,2020,2020,2020,2020,2020,2020,2020,2020,2020,2020,2020,2020,2020,2020,2020,2020,2020,2020,2020,2020,2020,2020,2020,2020,2020,2020,2020,2020,2020,2020,2020,2020,2020,2020,2020,2020,2020,2020,2020,2020,2020,2020,2020,2020,2020,2020,2020,2020,2020,2020,2020,2020,2020,2020,2020,2020,2020,2020,2020,2020,2020,2020,2020,2020,2020,2020,2020,2020,2020,2020,2020,2020,2020,2020,2020,2020,2020,2020,2020,2020,2020,2020,2020,2020,2020,2020,2020,2020,2020,2020,2020,2020,2020,2020,2020,2020,2020,2020,2020,2020,2020,2020,2020,2020,2020,2020,2020,2020,2020,2020,2020,2020,2020,2020,2020,2020,2020,2020,2020,2020,2020,2020,2020,2020,2020,2020,2020,2020,2020,2020,2020,2020,2020,2020,2020,2020,2020,2020,2020,2020,2020,2020,2020,2020,2020,2020,2020,2020,2020,2020,2020,2020,2020,2020,2020,2020,2020,2020,2020,2020,2020,2020,2020,2020,2020,2020,2020,2020,2020,2020,2020,2020,2020,2020,2020,2020,2020,2020,2020,2020,2020,2020,2020,2020,2020,2020,2020,2020,2020,2020,2020]],\"line.color\":[{\"__ndarray__\":\"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\",\"dtype\":\"float64\",\"shape\":[700]}]},\"selected\":{\"id\":\"9364\"},\"selection_policy\":{\"id\":\"9365\"}},\"id\":\"9259\",\"type\":\"ColumnDataSource\"},{\"attributes\":{\"fill_alpha\":{\"value\":0.1},\"fill_color\":{\"value\":\"#1f77b3\"},\"line_alpha\":{\"value\":0.1},\"top\":{\"field\":\"Invoice_Amount\"},\"width\":{\"value\":0.8},\"x\":{\"field\":\"State\"}},\"id\":\"9181\",\"type\":\"VBar\"},{\"attributes\":{},\"id\":\"9243\",\"type\":\"CategoricalTickFormatter\"},{\"attributes\":{},\"id\":\"9178\",\"type\":\"Selection\"},{\"attributes\":{\"fill_color\":{\"value\":\"#1f77b3\"},\"top\":{\"field\":\"Invoice_Amount\"},\"width\":{\"value\":0.8},\"x\":{\"field\":\"State\"}},\"id\":\"9180\",\"type\":\"VBar\"},{\"attributes\":{\"fill_alpha\":{\"value\":0.2},\"fill_color\":{\"value\":\"#1f77b3\"},\"line_alpha\":{\"value\":0.2},\"top\":{\"field\":\"Invoice_Amount\"},\"width\":{\"value\":0.8},\"x\":{\"field\":\"State\"}},\"id\":\"9182\",\"type\":\"VBar\"},{\"attributes\":{\"callback\":null,\"renderers\":[{\"id\":\"9239\"}],\"tags\":[\"hv_created\"],\"tooltips\":[[\"State\",\"@{State}\"],[\"Invoice Amount\",\"@{Invoice_Amount}\"]]},\"id\":\"9203\",\"type\":\"HoverTool\"},{\"attributes\":{\"data\":{\"x\":[\"January\",\"February\",\"March\",\"April\",\"May\",\"June\",\"July\",\"August\",\"September\",\"October\",\"November\",\"December\",\"December\",\"November\",\"October\",\"September\",\"August\",\"July\",\"June\",\"May\",\"April\",\"March\",\"February\",\"January\"],\"y\":{\"__ndarray__\":\"AAAAAAAAAAAAAAAAAAAAAAAAAAAAAAAAAAAAAAAAAAAAAAAAAAAAAAAAAAAAAAAAAAAAAAAAAAAAAAAAAAAAAAAAAAAAAAAAAAAAAAAAAAAAAAAAAAAAAAAAAAAAAAAAAAAAAKCM+UAAAAAAQNzqQAAAAADAWwFBAAAAAODG/EAAAAAAABLxQAAAAACA9fFAAAAAADAMCUEAAAAAWG4BQQAAAACA1/FAAAAAAECICUEAAAAAwI3SQAAAAACAs+JA\",\"dtype\":\"float64\",\"shape\":[24]}},\"selected\":{\"id\":\"8896\"},\"selection_policy\":{\"id\":\"8910\"}},\"id\":\"8895\",\"type\":\"ColumnDataSource\"},{\"attributes\":{\"data_source\":{\"id\":\"9177\"},\"glyph\":{\"id\":\"9180\"},\"hover_glyph\":null,\"muted_glyph\":{\"id\":\"9182\"},\"nonselection_glyph\":{\"id\":\"9181\"},\"selection_glyph\":null,\"view\":{\"id\":\"9184\"}},\"id\":\"9183\",\"type\":\"GlyphRenderer\"},{\"attributes\":{\"source\":{\"id\":\"9177\"}},\"id\":\"9184\",\"type\":\"CDSView\"},{\"attributes\":{\"fill_color\":{\"value\":\"Orange\"},\"top\":{\"field\":\"Invoice_Amount\"},\"width\":{\"value\":0.8},\"x\":{\"field\":\"Month\"}},\"id\":\"8890\",\"type\":\"VBar\"},{\"attributes\":{\"format\":\"$%.0f\"},\"id\":\"9185\",\"type\":\"PrintfTickFormatter\"},{\"attributes\":{},\"id\":\"9187\",\"type\":\"CategoricalTickFormatter\"},{\"attributes\":{\"axis_label\":\"Yearly Income (Tounsands of Dollars)\",\"axis_label_text_font_size\":\"20pt\",\"bounds\":\"auto\",\"formatter\":{\"id\":\"8829\"},\"major_label_orientation\":\"horizontal\",\"major_label_text_font_size\":\"20pt\",\"ticker\":{\"id\":\"8805\"}},\"id\":\"8804\",\"type\":\"LinearAxis\"},{\"attributes\":{\"axis_label\":\"Total Sales\",\"axis_label_text_font_size\":\"20pt\",\"bounds\":\"auto\",\"formatter\":{\"id\":\"9306\"},\"major_label_orientation\":\"horizontal\",\"major_label_text_font_size\":\"20pt\",\"ticker\":{\"id\":\"9282\"}},\"id\":\"9281\",\"type\":\"LinearAxis\"},{\"attributes\":{},\"id\":\"8805\",\"type\":\"BasicTicker\"},{\"attributes\":{},\"id\":\"9282\",\"type\":\"BasicTicker\"},{\"attributes\":{\"axis\":{\"id\":\"8801\"},\"ticker\":{\"id\":\"8802\"}},\"id\":\"8803\",\"type\":\"Grid\"},{\"attributes\":{\"callback\":null,\"renderers\":[{\"id\":\"9071\"}],\"tags\":[\"hv_created\"],\"tooltips\":[[\"Customers\",\"@{Customers}\"],[\"Invoice Amount\",\"@{Invoice_Amount}\"]]},\"id\":\"9035\",\"type\":\"HoverTool\"},{\"attributes\":{\"bottom_units\":\"screen\",\"fill_alpha\":0.5,\"fill_color\":\"lightgrey\",\"left_units\":\"screen\",\"level\":\"overlay\",\"line_alpha\":1.0,\"line_color\":\"black\",\"line_dash\":[4,4],\"line_width\":2,\"render_mode\":\"css\",\"right_units\":\"screen\",\"top_units\":\"screen\"},\"id\":\"8999\",\"type\":\"BoxAnnotation\"},{\"attributes\":{\"axis\":{\"id\":\"9281\"},\"dimension\":1,\"grid_line_color\":null,\"ticker\":null},\"id\":\"9284\",\"type\":\"Grid\"},{\"attributes\":{},\"id\":\"9286\",\"type\":\"PanTool\"},{\"attributes\":{\"axis\":{\"id\":\"8804\"},\"dimension\":1,\"ticker\":{\"id\":\"8805\"}},\"id\":\"8807\",\"type\":\"Grid\"},{\"attributes\":{\"fill_color\":{\"value\":\"#1f77b3\"},\"top\":{\"field\":\"Invoice_Amount\"},\"width\":{\"value\":0.8},\"x\":{\"field\":\"Year\"}},\"id\":\"9301\",\"type\":\"VBar\"},{\"attributes\":{},\"id\":\"8809\",\"type\":\"PanTool\"},{\"attributes\":{},\"id\":\"9285\",\"type\":\"SaveTool\"},{\"attributes\":{\"fill_color\":{\"value\":\"#1f77b3\"},\"top\":{\"field\":\"Invoice_Amount\"},\"width\":{\"value\":0.8},\"x\":{\"field\":\"Year\"}},\"id\":\"8824\",\"type\":\"VBar\"},{\"attributes\":{},\"id\":\"9287\",\"type\":\"WheelZoomTool\"},{\"attributes\":{},\"id\":\"8808\",\"type\":\"SaveTool\"},{\"attributes\":{},\"id\":\"8810\",\"type\":\"WheelZoomTool\"},{\"attributes\":{},\"id\":\"9041\",\"type\":\"CategoricalScale\"},{\"attributes\":{\"overlay\":{\"id\":\"9290\"}},\"id\":\"9288\",\"type\":\"BoxZoomTool\"},{\"attributes\":{\"format\":\"$%.0f\"},\"id\":\"8878\",\"type\":\"PrintfTickFormatter\"},{\"attributes\":{},\"id\":\"9289\",\"type\":\"ResetTool\"},{\"attributes\":{},\"id\":\"8856\",\"type\":\"LinearScale\"},{\"attributes\":{},\"id\":\"9043\",\"type\":\"LinearScale\"},{\"attributes\":{\"overlay\":{\"id\":\"8813\"}},\"id\":\"8811\",\"type\":\"BoxZoomTool\"},{\"attributes\":{\"align\":null,\"below\":[{\"id\":\"9045\"}],\"center\":[{\"id\":\"9047\"},{\"id\":\"9051\"}],\"left\":[{\"id\":\"9048\"}],\"margin\":null,\"min_border_bottom\":10,\"min_border_left\":10,\"min_border_right\":10,\"min_border_top\":10,\"plot_height\":900,\"plot_width\":1400,\"renderers\":[{\"id\":\"9071\"}],\"sizing_mode\":\"fixed\",\"title\":{\"id\":\"9037\"},\"toolbar\":{\"id\":\"9058\"},\"x_range\":{\"id\":\"9033\"},\"x_scale\":{\"id\":\"9041\"},\"y_range\":{\"id\":\"8790\"},\"y_scale\":{\"id\":\"9043\"}},\"id\":\"9036\",\"subtype\":\"Figure\",\"type\":\"Plot\"},{\"attributes\":{},\"id\":\"8812\",\"type\":\"ResetTool\"},{\"attributes\":{\"axis_label\":\"Highest Paying Customers\",\"axis_label_text_font_size\":\"20pt\",\"bounds\":\"auto\",\"formatter\":{\"id\":\"9075\"},\"group_text_font_size\":\"18pt\",\"major_label_orientation\":0.7853981633974483,\"major_label_text_font_size\":\"18pt\",\"ticker\":{\"id\":\"9046\"}},\"id\":\"9045\",\"type\":\"CategoricalAxis\"},{\"attributes\":{},\"id\":\"8862\",\"type\":\"BasicTicker\"},{\"attributes\":{},\"id\":\"8854\",\"type\":\"CategoricalScale\"},{\"attributes\":{},\"id\":\"8880\",\"type\":\"CategoricalTickFormatter\"},{\"attributes\":{\"factors\":[\"University 30\",\"University 1\",\"University 44\",\"University 71\",\"University 7\",\"University 147\",\"University 164\",\"University 75\",\"University 88\",\"University 378\",\"University 346\",\"University 191\",\"University 218\",\"University 360\",\"University 171\",\"University 107\",\"University 337\",\"University 327\",\"University 359\",\"University 302\"],\"tags\":[[[\"Customers\",\"Customers\",null]]]},\"id\":\"9033\",\"type\":\"FactorRange\"},{\"attributes\":{\"text\":\"Top 10 Highest Paying Customers of All Time\",\"text_color\":{\"value\":\"black\"},\"text_font_size\":{\"value\":\"25pt\"}},\"id\":\"9037\",\"type\":\"Title\"},{\"attributes\":{\"fill_color\":\"Orange\",\"x\":{\"field\":\"x\"},\"y\":{\"field\":\"y\"}},\"id\":\"8898\",\"type\":\"Patch\"},{\"attributes\":{\"axis_label\":\"Total Sales\",\"axis_label_text_font_size\":\"20pt\",\"bounds\":\"auto\",\"formatter\":{\"id\":\"9073\"},\"major_label_orientation\":\"horizontal\",\"major_label_text_font_size\":\"20pt\",\"ticker\":{\"id\":\"9049\"}},\"id\":\"9048\",\"type\":\"LinearAxis\"},{\"attributes\":{},\"id\":\"9049\",\"type\":\"BasicTicker\"},{\"attributes\":{},\"id\":\"9199\",\"type\":\"UnionRenderers\"},{\"attributes\":{\"axis\":{\"id\":\"9045\"},\"ticker\":{\"id\":\"9046\"}},\"id\":\"9047\",\"type\":\"Grid\"},{\"attributes\":{\"axis\":{\"id\":\"9048\"},\"dimension\":1,\"ticker\":{\"id\":\"9049\"}},\"id\":\"9051\",\"type\":\"Grid\"},{\"attributes\":{\"callback\":null,\"renderers\":[{\"id\":\"8893\"},{\"id\":\"8901\"}],\"tags\":[\"hv_created\"],\"tooltips\":[[\"Month\",\"@{Month}\"],[\"Invoice Amount\",\"@{Invoice_Amount}\"]]},\"id\":\"8847\",\"type\":\"HoverTool\"},{\"attributes\":{\"fill_alpha\":{\"value\":0.1},\"fill_color\":{\"value\":\"#1f77b3\"},\"line_alpha\":{\"value\":0.1},\"top\":{\"field\":\"Invoice_Amount\"},\"width\":{\"value\":0.8},\"x\":{\"field\":\"Subscription\"}},\"id\":\"9011\",\"type\":\"VBar\"},{\"attributes\":{\"margin\":[0,0,0,0],\"tabs\":[{\"id\":\"9031\"},{\"id\":\"9257\"},{\"id\":\"9263\"},{\"id\":\"9328\"},{\"id\":\"9335\"}]},\"id\":\"8787\",\"type\":\"Tabs\"},{\"attributes\":{},\"id\":\"9046\",\"type\":\"CategoricalTicker\"},{\"attributes\":{},\"id\":\"9008\",\"type\":\"Selection\"},{\"attributes\":{\"data_source\":{\"id\":\"8887\"},\"glyph\":{\"id\":\"8890\"},\"hover_glyph\":null,\"muted_glyph\":{\"id\":\"8892\"},\"nonselection_glyph\":{\"id\":\"8891\"},\"selection_glyph\":null,\"view\":{\"id\":\"8894\"}},\"id\":\"8893\",\"type\":\"GlyphRenderer\"},{\"attributes\":{\"fill_color\":{\"value\":\"#1f77b3\"},\"top\":{\"field\":\"Invoice_Amount\"},\"width\":{\"value\":0.8},\"x\":{\"field\":\"Subscription\"}},\"id\":\"9010\",\"type\":\"VBar\"},{\"attributes\":{},\"id\":\"9052\",\"type\":\"SaveTool\"},{\"attributes\":{\"source\":{\"id\":\"8887\"}},\"id\":\"8894\",\"type\":\"CDSView\"},{\"attributes\":{\"fill_alpha\":{\"value\":0.2},\"fill_color\":{\"value\":\"#1f77b3\"},\"line_alpha\":{\"value\":0.2},\"top\":{\"field\":\"Invoice_Amount\"},\"width\":{\"value\":0.8},\"x\":{\"field\":\"Subscription\"}},\"id\":\"9012\",\"type\":\"VBar\"},{\"attributes\":{\"children\":[{\"id\":\"9325\"},{\"id\":\"9327\"}],\"margin\":[0,0,0,0],\"name\":\"Column11945\"},\"id\":\"9324\",\"type\":\"Column\"},{\"attributes\":{},\"id\":\"9053\",\"type\":\"PanTool\"},{\"attributes\":{},\"id\":\"8896\",\"type\":\"Selection\"},{\"attributes\":{\"text\":\"Busiest Months of the Year for Sales from 2015 to 2020\",\"text_color\":{\"value\":\"black\"},\"text_font_size\":{\"value\":\"25pt\"}},\"id\":\"8850\",\"type\":\"Title\"},{\"attributes\":{\"fill_color\":{\"value\":\"#1f77b3\"},\"top\":{\"field\":\"Invoice_Amount\"},\"width\":{\"value\":0.8},\"x\":{\"field\":\"Customers\"}},\"id\":\"9068\",\"type\":\"VBar\"},{\"attributes\":{\"align\":null,\"below\":[{\"id\":\"8858\"}],\"center\":[{\"id\":\"8860\"},{\"id\":\"8864\"}],\"left\":[{\"id\":\"8861\"}],\"margin\":null,\"min_border_bottom\":10,\"min_border_left\":10,\"min_border_right\":10,\"min_border_top\":10,\"plot_height\":800,\"plot_width\":1400,\"renderers\":[{\"id\":\"8893\"},{\"id\":\"8901\"}],\"sizing_mode\":\"fixed\",\"title\":{\"id\":\"8850\"},\"toolbar\":{\"id\":\"8871\"},\"x_range\":{\"id\":\"8845\"},\"x_scale\":{\"id\":\"8854\"},\"y_range\":{\"id\":\"8790\"},\"y_scale\":{\"id\":\"8856\"}},\"id\":\"8849\",\"subtype\":\"Figure\",\"type\":\"Plot\"},{\"attributes\":{\"data_source\":{\"id\":\"8895\"},\"glyph\":{\"id\":\"8898\"},\"hover_glyph\":null,\"muted_glyph\":{\"id\":\"8900\"},\"nonselection_glyph\":{\"id\":\"8899\"},\"selection_glyph\":null,\"view\":{\"id\":\"8902\"}},\"id\":\"8901\",\"type\":\"GlyphRenderer\"},{\"attributes\":{},\"id\":\"9054\",\"type\":\"WheelZoomTool\"},{\"attributes\":{\"fill_alpha\":{\"value\":0.2},\"fill_color\":{\"value\":\"Orange\"},\"line_alpha\":{\"value\":0.2},\"top\":{\"field\":\"Invoice_Amount\"},\"width\":{\"value\":0.8},\"x\":{\"field\":\"Month\"}},\"id\":\"8892\",\"type\":\"VBar\"},{\"attributes\":{\"bottom_units\":\"screen\",\"fill_alpha\":0.5,\"fill_color\":\"lightgrey\",\"left_units\":\"screen\",\"level\":\"overlay\",\"line_alpha\":1.0,\"line_color\":\"black\",\"line_dash\":[4,4],\"line_width\":2,\"render_mode\":\"css\",\"right_units\":\"screen\",\"top_units\":\"screen\"},\"id\":\"9290\",\"type\":\"BoxAnnotation\"},{\"attributes\":{\"factors\":[\"January\",\"February\",\"March\",\"April\",\"May\",\"June\",\"July\",\"August\",\"September\",\"October\",\"November\",\"December\"],\"tags\":[[[\"Month\",\"Month\",null]]]},\"id\":\"8845\",\"type\":\"FactorRange\"},{\"attributes\":{\"bottom_units\":\"screen\",\"fill_alpha\":0.5,\"fill_color\":\"lightgrey\",\"left_units\":\"screen\",\"level\":\"overlay\",\"line_alpha\":1.0,\"line_color\":\"black\",\"line_dash\":[4,4],\"line_width\":2,\"render_mode\":\"css\",\"right_units\":\"screen\",\"top_units\":\"screen\"},\"id\":\"8813\",\"type\":\"BoxAnnotation\"},{\"attributes\":{\"overlay\":{\"id\":\"9057\"}},\"id\":\"9055\",\"type\":\"BoxZoomTool\"},{\"attributes\":{\"axis_label\":\"Average Monthly Income\",\"axis_label_text_font_size\":\"20pt\",\"bounds\":\"auto\",\"formatter\":{\"id\":\"8878\"},\"major_label_orientation\":\"horizontal\",\"major_label_text_font_size\":\"20pt\",\"ticker\":{\"id\":\"8862\"}},\"id\":\"8861\",\"type\":\"LinearAxis\"},{\"attributes\":{},\"id\":\"9056\",\"type\":\"ResetTool\"},{\"attributes\":{},\"id\":\"9029\",\"type\":\"UnionRenderers\"},{\"attributes\":{\"client_comm_id\":\"ceecf61639064c29b39d02d8e6354036\",\"comm_id\":\"e97604356dc44f4e8e7cbf6fe53c6bc5\",\"plot_id\":\"8787\"},\"id\":\"9522\",\"type\":\"panel.models.comm_manager.CommManager\"},{\"attributes\":{\"fill_alpha\":{\"value\":0.1},\"fill_color\":{\"value\":\"Orange\"},\"line_alpha\":{\"value\":0.1},\"top\":{\"field\":\"Invoice_Amount\"},\"width\":{\"value\":0.8},\"x\":{\"field\":\"Month\"}},\"id\":\"8891\",\"type\":\"VBar\"},{\"attributes\":{},\"id\":\"8859\",\"type\":\"CategoricalTicker\"},{\"attributes\":{\"axis\":{\"id\":\"8858\"},\"ticker\":{\"id\":\"8859\"}},\"id\":\"8860\",\"type\":\"Grid\"},{\"attributes\":{\"child\":{\"id\":\"8788\"},\"name\":\"Column11409\",\"title\":\"Yearly Market Analysis\"},\"id\":\"9031\",\"type\":\"Panel\"},{\"attributes\":{\"fill_alpha\":1,\"fill_color\":\"Orange\",\"line_alpha\":1,\"x\":{\"field\":\"x\"},\"y\":{\"field\":\"y\"}},\"id\":\"8899\",\"type\":\"Patch\"},{\"attributes\":{\"children\":[{\"id\":\"8792\"},{\"id\":\"8849\"},{\"id\":\"8978\"}],\"margin\":[0,0,0,0],\"name\":\"Column11409\"},\"id\":\"8788\",\"type\":\"Column\"},{\"attributes\":{\"axis\":{\"id\":\"8861\"},\"dimension\":1,\"ticker\":{\"id\":\"8862\"}},\"id\":\"8864\",\"type\":\"Grid\"},{\"attributes\":{\"children\":[{\"id\":\"9036\"},{\"id\":\"9092\"},{\"id\":\"9148\"},{\"id\":\"9204\"}],\"margin\":[0,0,0,0],\"name\":\"Column11900\"},\"id\":\"9032\",\"type\":\"Column\"},{\"attributes\":{},\"id\":\"8865\",\"type\":\"SaveTool\"},{\"attributes\":{\"axis_label\":\"Months\",\"axis_label_text_font_size\":\"20pt\",\"bounds\":\"auto\",\"formatter\":{\"id\":\"8880\"},\"group_text_font_size\":\"18pt\",\"major_label_orientation\":0.7853981633974483,\"major_label_text_font_size\":\"18pt\",\"ticker\":{\"id\":\"8859\"}},\"id\":\"8858\",\"type\":\"CategoricalAxis\"},{\"attributes\":{\"fill_alpha\":0.2,\"fill_color\":\"Orange\",\"line_alpha\":0.2,\"x\":{\"field\":\"x\"},\"y\":{\"field\":\"y\"}},\"id\":\"8900\",\"type\":\"Patch\"},{\"attributes\":{\"source\":{\"id\":\"8895\"}},\"id\":\"8902\",\"type\":\"CDSView\"},{\"attributes\":{\"factors\":[\"2015\",\"2016\",\"2017\",\"2018\",\"2019\",\"2020\"],\"tags\":[[[\"Year\",\"Year\",null]]]},\"id\":\"8789\",\"type\":\"FactorRange\"},{\"attributes\":{\"end\":1203.9378420000003,\"reset_end\":1203.9378420000003,\"reset_start\":0.0,\"tags\":[[[\"Invoice Amount\",\"Invoice Amount\",null]]]},\"id\":\"8790\",\"type\":\"Range1d\"},{\"attributes\":{},\"id\":\"8866\",\"type\":\"PanTool\"},{\"attributes\":{},\"id\":\"8867\",\"type\":\"WheelZoomTool\"},{\"attributes\":{\"active_drag\":\"auto\",\"active_inspect\":\"auto\",\"active_multi\":null,\"active_scroll\":\"auto\",\"active_tap\":\"auto\",\"tools\":[{\"id\":\"9268\"},{\"id\":\"9285\"},{\"id\":\"9286\"},{\"id\":\"9287\"},{\"id\":\"9288\"},{\"id\":\"9289\"}]},\"id\":\"9291\",\"type\":\"Toolbar\"},{\"attributes\":{\"overlay\":{\"id\":\"8870\"}},\"id\":\"8868\",\"type\":\"BoxZoomTool\"},{\"attributes\":{\"active_drag\":\"auto\",\"active_inspect\":\"auto\",\"active_multi\":null,\"active_scroll\":\"auto\",\"active_tap\":\"auto\",\"tools\":[{\"id\":\"8791\"},{\"id\":\"8808\"},{\"id\":\"8809\"},{\"id\":\"8810\"},{\"id\":\"8811\"},{\"id\":\"8812\"}]},\"id\":\"8814\",\"type\":\"Toolbar\"},{\"attributes\":{},\"id\":\"8869\",\"type\":\"ResetTool\"},{\"attributes\":{\"active_drag\":\"auto\",\"active_inspect\":\"auto\",\"active_multi\":null,\"active_scroll\":\"auto\",\"active_tap\":\"auto\",\"tools\":[{\"id\":\"8847\"},{\"id\":\"8865\"},{\"id\":\"8866\"},{\"id\":\"8867\"},{\"id\":\"8868\"},{\"id\":\"8869\"}]},\"id\":\"8871\",\"type\":\"Toolbar\"},{\"attributes\":{},\"id\":\"8910\",\"type\":\"UnionRenderers\"},{\"attributes\":{\"bottom_units\":\"screen\",\"fill_alpha\":0.5,\"fill_color\":\"lightgrey\",\"left_units\":\"screen\",\"level\":\"overlay\",\"line_alpha\":1.0,\"line_color\":\"black\",\"line_dash\":[4,4],\"line_width\":2,\"render_mode\":\"css\",\"right_units\":\"screen\",\"top_units\":\"screen\"},\"id\":\"9057\",\"type\":\"BoxAnnotation\"},{\"attributes\":{\"fill_alpha\":{\"value\":0.1},\"fill_color\":{\"value\":\"#1f77b3\"},\"line_alpha\":{\"value\":0.1},\"top\":{\"field\":\"Invoice_Amount\"},\"width\":{\"value\":0.8},\"x\":{\"field\":\"Year\"}},\"id\":\"9302\",\"type\":\"VBar\"},{\"attributes\":{},\"id\":\"9299\",\"type\":\"Selection\"},{\"attributes\":{\"fill_alpha\":{\"value\":0.1},\"fill_color\":{\"value\":\"#1f77b3\"},\"line_alpha\":{\"value\":0.1},\"top\":{\"field\":\"Invoice_Amount\"},\"width\":{\"value\":0.8},\"x\":{\"field\":\"Year\"}},\"id\":\"8825\",\"type\":\"VBar\"},{\"attributes\":{},\"id\":\"8822\",\"type\":\"Selection\"},{\"attributes\":{\"fill_alpha\":{\"value\":0.2},\"fill_color\":{\"value\":\"#1f77b3\"},\"line_alpha\":{\"value\":0.2},\"top\":{\"field\":\"Invoice_Amount\"},\"width\":{\"value\":0.8},\"x\":{\"field\":\"Year\"}},\"id\":\"9303\",\"type\":\"VBar\"},{\"attributes\":{\"fill_alpha\":{\"value\":0.2},\"fill_color\":{\"value\":\"#1f77b3\"},\"line_alpha\":{\"value\":0.2},\"top\":{\"field\":\"Invoice_Amount\"},\"width\":{\"value\":0.8},\"x\":{\"field\":\"Year\"}},\"id\":\"8826\",\"type\":\"VBar\"},{\"attributes\":{\"text\":\"Total Sales by Year from 2015 to 2020\",\"text_color\":{\"value\":\"black\"},\"text_font_size\":{\"value\":\"25pt\"}},\"id\":\"8793\",\"type\":\"Title\"},{\"attributes\":{},\"id\":\"9211\",\"type\":\"LinearScale\"},{\"attributes\":{\"axis\":{\"id\":\"9216\"},\"dimension\":1,\"ticker\":{\"id\":\"9217\"}},\"id\":\"9219\",\"type\":\"Grid\"},{\"attributes\":{\"data_source\":{\"id\":\"9298\"},\"glyph\":{\"id\":\"9301\"},\"hover_glyph\":null,\"muted_glyph\":{\"id\":\"9303\"},\"nonselection_glyph\":{\"id\":\"9302\"},\"selection_glyph\":null,\"view\":{\"id\":\"9305\"}},\"id\":\"9304\",\"type\":\"GlyphRenderer\"},{\"attributes\":{\"axis\":{\"id\":\"9213\"},\"ticker\":{\"id\":\"9214\"}},\"id\":\"9215\",\"type\":\"Grid\"},{\"attributes\":{},\"id\":\"8802\",\"type\":\"CategoricalTicker\"},{\"attributes\":{\"source\":{\"id\":\"9298\"}},\"id\":\"9305\",\"type\":\"CDSView\"},{\"attributes\":{\"children\":[{\"id\":\"9260\"},{\"id\":\"9262\"}],\"margin\":[0,0,0,0],\"name\":\"Column11905\"},\"id\":\"9258\",\"type\":\"Column\"},{\"attributes\":{\"data_source\":{\"id\":\"8821\"},\"glyph\":{\"id\":\"8824\"},\"hover_glyph\":null,\"muted_glyph\":{\"id\":\"8826\"},\"nonselection_glyph\":{\"id\":\"8825\"},\"selection_glyph\":null,\"view\":{\"id\":\"8828\"}},\"id\":\"8827\",\"type\":\"GlyphRenderer\"},{\"attributes\":{\"axis_label\":\"States\",\"axis_label_text_font_size\":\"20pt\",\"bounds\":\"auto\",\"formatter\":{\"id\":\"9243\"},\"group_text_font_size\":\"25pt\",\"major_label_orientation\":\"horizontal\",\"major_label_text_font_size\":\"25pt\",\"ticker\":{\"id\":\"9214\"}},\"id\":\"9213\",\"type\":\"CategoricalAxis\"},{\"attributes\":{\"source\":{\"id\":\"8821\"}},\"id\":\"8828\",\"type\":\"CDSView\"},{\"attributes\":{\"data\":{\"Customers\":[\"University 30\",\"University 1\",\"University 44\",\"University 71\",\"University 7\",\"University 147\",\"University 164\",\"University 75\",\"University 88\",\"University 378\"],\"Invoice_Amount\":{\"__ndarray__\":\"AAAAAIBPAkEAAAAAwPcAQQAAAAAA5/hAAAAAAABq+EAAAAAAANbvQAAAAAAAzt1AAAAAAABF3UAAAAAAANXbQAAAAACAotlAAAAAAICi2UA=\",\"dtype\":\"float64\",\"shape\":[10]}},\"selected\":{\"id\":\"9066\"},\"selection_policy\":{\"id\":\"9087\"}},\"id\":\"9065\",\"type\":\"ColumnDataSource\"},{\"attributes\":{\"format\":\"$%.0f\"},\"id\":\"9306\",\"type\":\"PrintfTickFormatter\"},{\"attributes\":{},\"id\":\"9221\",\"type\":\"PanTool\"},{\"attributes\":{\"format\":\"$%.0f\"},\"id\":\"8829\",\"type\":\"PrintfTickFormatter\"},{\"attributes\":{\"children\":[{\"id\":\"9326\"}],\"css_classes\":[\"widget-box\"],\"margin\":[5,5,5,5],\"name\":\"WidgetBox11939\"},\"id\":\"9325\",\"type\":\"Column\"},{\"attributes\":{\"bottom_units\":\"screen\",\"fill_alpha\":0.5,\"fill_color\":\"lightgrey\",\"left_units\":\"screen\",\"level\":\"overlay\",\"line_alpha\":1.0,\"line_color\":\"black\",\"line_dash\":[4,4],\"line_width\":2,\"render_mode\":\"css\",\"right_units\":\"screen\",\"top_units\":\"screen\"},\"id\":\"8870\",\"type\":\"BoxAnnotation\"},{\"attributes\":{},\"id\":\"9308\",\"type\":\"CategoricalTickFormatter\"},{\"attributes\":{},\"id\":\"8908\",\"type\":\"UnionRenderers\"},{\"attributes\":{\"active_drag\":\"auto\",\"active_inspect\":\"auto\",\"active_multi\":null,\"active_scroll\":\"auto\",\"active_tap\":\"auto\",\"tools\":[{\"id\":\"9035\"},{\"id\":\"9052\"},{\"id\":\"9053\"},{\"id\":\"9054\"},{\"id\":\"9055\"},{\"id\":\"9056\"}]},\"id\":\"9058\",\"type\":\"Toolbar\"},{\"attributes\":{\"callback\":null,\"renderers\":[{\"id\":\"8827\"}],\"tags\":[\"hv_created\"],\"tooltips\":[[\"Year\",\"@{Year}\"],[\"Invoice Amount\",\"@{Invoice_Amount}\"]]},\"id\":\"8791\",\"type\":\"HoverTool\"},{\"attributes\":{},\"id\":\"8831\",\"type\":\"CategoricalTickFormatter\"},{\"attributes\":{\"data\":{\"Invoice_Amount\":{\"__ndarray__\":\"AAAAAIBE6EAAAAAAQP7SQAAAAABcjxFBCtejcPMzCkEAAAAAINkFQVK4HoUtJhNBAAAAAGgBA0GkcD0KlpEQQZmZmZlrahRBAAAAADRmEEEAAAAAUNv+QAAAAAA4cAFB\",\"dtype\":\"float64\",\"shape\":[12]},\"Month\":[\"January\",\"February\",\"March\",\"April\",\"May\",\"June\",\"July\",\"August\",\"September\",\"October\",\"November\",\"December\"]},\"selected\":{\"id\":\"8888\"},\"selection_policy\":{\"id\":\"8908\"}},\"id\":\"8887\",\"type\":\"ColumnDataSource\"},{\"attributes\":{\"data\":{\"Invoice_Amount\":{\"__ndarray__\":\"AAAAAABAb0AAAAAAAOCFQAAAAAAAUJRAAAAAAABwl0AAAAAAAHCXQAAAAAAAcKdAAAAAAABYq0AAAAAAAFivQAAAAAAAaLBAAAAAAABmsUA=\",\"dtype\":\"float64\",\"shape\":[10]},\"State\":[\"GU\",\"OK\",\"NE\",\"MT\",\"SA\",\"NH\",\"DE\",\"Canada\",\"VT\",\"ND\"]},\"selected\":{\"id\":\"9234\"},\"selection_policy\":{\"id\":\"9255\"}},\"id\":\"9233\",\"type\":\"ColumnDataSource\"},{\"attributes\":{},\"id\":\"8797\",\"type\":\"CategoricalScale\"},{\"attributes\":{},\"id\":\"9222\",\"type\":\"WheelZoomTool\"},{\"attributes\":{\"axis_label\":\"Total Number of Years\",\"axis_label_text_font_size\":\"20pt\",\"bounds\":\"auto\",\"formatter\":{\"id\":\"8831\"},\"group_text_font_size\":\"18pt\",\"major_label_orientation\":\"horizontal\",\"major_label_text_font_size\":\"18pt\",\"ticker\":{\"id\":\"8802\"}},\"id\":\"8801\",\"type\":\"CategoricalAxis\"},{\"attributes\":{\"axis_label\":\"Total Invoiced ($)\",\"axis_label_text_font_size\":\"20pt\",\"bounds\":\"auto\",\"formatter\":{\"id\":\"9241\"},\"major_label_orientation\":\"horizontal\",\"major_label_text_font_size\":\"20pt\",\"ticker\":{\"id\":\"9217\"}},\"id\":\"9216\",\"type\":\"LinearAxis\"},{\"attributes\":{\"axis\":{\"id\":\"9104\"},\"dimension\":1,\"ticker\":{\"id\":\"9105\"}},\"id\":\"9107\",\"type\":\"Grid\"},{\"attributes\":{},\"id\":\"9214\",\"type\":\"CategoricalTicker\"},{\"attributes\":{\"fill_alpha\":{\"value\":0.1},\"fill_color\":{\"value\":\"#1f77b3\"},\"line_alpha\":{\"value\":0.1},\"top\":{\"field\":\"Invoice_Amount\"},\"width\":{\"value\":0.8},\"x\":{\"field\":\"Customers\"}},\"id\":\"9069\",\"type\":\"VBar\"},{\"attributes\":{},\"id\":\"9217\",\"type\":\"BasicTicker\"},{\"attributes\":{},\"id\":\"8799\",\"type\":\"LinearScale\"},{\"attributes\":{},\"id\":\"9220\",\"type\":\"SaveTool\"},{\"attributes\":{},\"id\":\"9066\",\"type\":\"Selection\"},{\"attributes\":{\"align\":null,\"below\":[{\"id\":\"8801\"}],\"center\":[{\"id\":\"8803\"},{\"id\":\"8807\"}],\"left\":[{\"id\":\"8804\"}],\"margin\":null,\"min_border_bottom\":10,\"min_border_left\":10,\"min_border_right\":10,\"min_border_top\":10,\"plot_width\":1200,\"renderers\":[{\"id\":\"8827\"}],\"sizing_mode\":\"fixed\",\"title\":{\"id\":\"8793\"},\"toolbar\":{\"id\":\"8814\"},\"x_range\":{\"id\":\"8789\"},\"x_scale\":{\"id\":\"8797\"},\"y_range\":{\"id\":\"8790\"},\"y_scale\":{\"id\":\"8799\"}},\"id\":\"8792\",\"subtype\":\"Figure\",\"type\":\"Plot\"},{\"attributes\":{\"data\":{\"Invoice_Amount\":{\"__ndarray__\":\"MzMzMzOLaUCamZmZmWFvQBsv3SQGW3JACtejcD1ybkAzMzMzMyFwQF75LM9DZJFA\",\"dtype\":\"float64\",\"shape\":[6]},\"Year\":[\"2015\",\"2016\",\"2017\",\"2018\",\"2019\",\"2020\"]},\"selected\":{\"id\":\"8822\"},\"selection_policy\":{\"id\":\"8843\"}},\"id\":\"8821\",\"type\":\"ColumnDataSource\"},{\"attributes\":{\"fill_alpha\":{\"value\":0.2},\"fill_color\":{\"value\":\"#1f77b3\"},\"line_alpha\":{\"value\":0.2},\"top\":{\"field\":\"Invoice_Amount\"},\"width\":{\"value\":0.8},\"x\":{\"field\":\"Customers\"}},\"id\":\"9070\",\"type\":\"VBar\"},{\"attributes\":{\"overlay\":{\"id\":\"9225\"}},\"id\":\"9223\",\"type\":\"BoxZoomTool\"},{\"attributes\":{\"data_source\":{\"id\":\"9065\"},\"glyph\":{\"id\":\"9068\"},\"hover_glyph\":null,\"muted_glyph\":{\"id\":\"9070\"},\"nonselection_glyph\":{\"id\":\"9069\"},\"selection_glyph\":null,\"view\":{\"id\":\"9072\"}},\"id\":\"9071\",\"type\":\"GlyphRenderer\"},{\"attributes\":{\"source\":{\"id\":\"9065\"}},\"id\":\"9072\",\"type\":\"CDSView\"},{\"attributes\":{\"format\":\"$%.0f\"},\"id\":\"9129\",\"type\":\"PrintfTickFormatter\"},{\"attributes\":{\"format\":\"$%.0f\"},\"id\":\"9073\",\"type\":\"PrintfTickFormatter\"},{\"attributes\":{},\"id\":\"9131\",\"type\":\"CategoricalTickFormatter\"},{\"attributes\":{},\"id\":\"9322\",\"type\":\"UnionRenderers\"},{\"attributes\":{},\"id\":\"9075\",\"type\":\"CategoricalTickFormatter\"},{\"attributes\":{},\"id\":\"9364\",\"type\":\"Selection\"},{\"attributes\":{},\"id\":\"9365\",\"type\":\"UnionRenderers\"},{\"attributes\":{},\"id\":\"9366\",\"type\":\"Selection\"},{\"attributes\":{},\"id\":\"9367\",\"type\":\"UnionRenderers\"},{\"attributes\":{\"data\":{\"Customers\":[\"University 346\",\"University 191\",\"University 218\",\"University 360\",\"University 171\",\"University 107\",\"University 337\",\"University 327\",\"University 359\",\"University 302\"],\"Invoice_Amount\":{\"__ndarray__\":\"AAAAAABAX0AAAAAAAMBiQAAAAAAAAGRAAAAAAAAAaUAAAAAAAEBvQAAAAAAAwHJAAAAAAAAwdkAAAAAAAHB4QAAAAAAAsHhAAAAAAAAAeUA=\",\"dtype\":\"float64\",\"shape\":[10]}},\"selected\":{\"id\":\"9122\"},\"selection_policy\":{\"id\":\"9143\"}},\"id\":\"9121\",\"type\":\"ColumnDataSource\"},{\"attributes\":{\"margin\":[5,5,5,5],\"name\":\"VSpacer11944\",\"sizing_mode\":\"stretch_height\"},\"id\":\"9327\",\"type\":\"Spacer\"},{\"attributes\":{\"margin\":[20,20,20,20],\"min_width\":250,\"options\":[\"DC\",\"KS\",\"KY\",\"LA\",\"MD\",\"NV\",\"NY\",\"VA\",\"AL\",\"CA\",\"CT\",\"DE\",\"FL\",\"GA\",\"HI\",\"IL\",\"MI\",\"MO\",\"MS\",\"MT\",\"NC\",\"NJ\",\"OH\",\"OR\",\"PA\",\"SC\",\"UT\",\"VT\",\"AZ\",\"ND\",\"SA\",\"TN\",\"TX\",\"WA\",\"MA\",\"NM\",\"AR\",\"CO\",\"IN\",\"NH\",\"Canada\",\"GU\",\"ME\",\"MN\",\"NE\",\"OK\",\"RI\",\"WI\",\"WV\",\"WY\"],\"title\":\"State\",\"value\":\"DC\",\"width\":250},\"id\":\"9326\",\"type\":\"Select\"},{\"attributes\":{\"margin\":[5,5,5,5],\"name\":\"Str11951\"},\"id\":\"9332\",\"type\":\"panel.models.markup.HTML\"},{\"attributes\":{},\"id\":\"9143\",\"type\":\"UnionRenderers\"},{\"attributes\":{},\"id\":\"9087\",\"type\":\"UnionRenderers\"},{\"attributes\":{\"child\":{\"id\":\"9264\"},\"name\":\"Column11946\",\"title\":\"Interactive Plotting\"},\"id\":\"9328\",\"type\":\"Panel\"},{\"attributes\":{\"child\":{\"id\":\"9329\"},\"name\":\"Column11957\",\"title\":\"Subscription Analysis\"},\"id\":\"9335\",\"type\":\"Panel\"},{\"attributes\":{\"margin\":[5,5,5,5],\"name\":\"Str11949\"},\"id\":\"9331\",\"type\":\"panel.models.markup.HTML\"},{\"attributes\":{\"margin\":[5,5,5,5],\"name\":\"Str11947\"},\"id\":\"9330\",\"type\":\"panel.models.markup.HTML\"},{\"attributes\":{\"margin\":[5,5,5,5],\"name\":\"Str11953\"},\"id\":\"9333\",\"type\":\"panel.models.markup.HTML\"},{\"attributes\":{\"margin\":[5,5,5,5],\"name\":\"Str11955\"},\"id\":\"9334\",\"type\":\"panel.models.markup.HTML\"}],\"root_ids\":[\"8787\",\"9522\"]},\"title\":\"Bokeh Application\",\"version\":\"2.0.2\"}};\n  var render_items = [{\"docid\":\"92f56bad-f785-439d-927b-cc1ef2c01e0e\",\"root_ids\":[\"8787\"],\"roots\":{\"8787\":\"a3483a04-273b-4120-a872-4972df83491e\"}}];\n  root.Bokeh.embed.embed_items_notebook(docs_json, render_items);\n  }\nif (root.Bokeh !== undefined) {\n    embed_document(root);\n  } else {\n    var attempts = 0;\n    var timer = setInterval(function(root) {\n      if (root.Bokeh !== undefined) {\n        clearInterval(timer);\n        embed_document(root);\n      } else if (document.readyState == \"complete\") {\n        attempts++;\n        if (attempts > 100) {\n          clearInterval(timer);\n          console.log(\"Bokeh: ERROR: Unable to run BokehJS code because BokehJS library is missing\");\n        }\n      }\n    }, 10, root)\n  }\n})(window);</script>",
      "application/vnd.holoviews_exec.v0+json": "",
      "text/plain": [
       "Tabs\n",
       "    [0] Column\n",
       "        [0] HoloViews(Bars)\n",
       "        [1] HoloViews(Overlay)\n",
       "        [2] HoloViews(Bars)\n",
       "    [1] Column\n",
       "        [0] HoloViews(Bars)\n",
       "        [1] HoloViews(Bars)\n",
       "        [2] HoloViews(Bars)\n",
       "        [3] HoloViews(Bars)\n",
       "    [2] Column\n",
       "        [0] Plotly(Figure)\n",
       "        [1] Plotly(Figure)\n",
       "    [3] Column\n",
       "        [0] Row\n",
       "            [0] HoloViews(DynamicMap)\n",
       "            [1] Column\n",
       "                [0] WidgetBox\n",
       "                    [0] Select(margin=(20, 20, 20, 20), name='State', options=['DC', 'KS', 'KY', ...], value='DC', width=250)\n",
       "                [1] VSpacer()\n",
       "    [4] Column\n",
       "        [0] Str(None)\n",
       "        [1] Str(None)\n",
       "        [2] Str(None)\n",
       "        [3] Str(None)\n",
       "        [4] Str(None)"
      ]
     },
     "metadata": {
      "application/vnd.holoviews_exec.v0+json": {
       "id": "8787"
      }
     },
     "execution_count": 117
    }
   ],
   "source": [
    "\n",
    "Dashboard.servable()"
   ]
  }
 ],
 "metadata": {
  "kernelspec": {
   "name": "python3",
   "display_name": "Python 3.8.3 64-bit (conda)",
   "metadata": {
    "interpreter": {
     "hash": "b3ba2566441a7c06988d0923437866b63cedc61552a5af99d1f4fb67d367b25f"
    }
   }
  },
  "language_info": {
   "codemirror_mode": {
    "name": "ipython",
    "version": 3
   },
   "file_extension": ".py",
   "mimetype": "text/x-python",
   "name": "python",
   "nbconvert_exporter": "python",
   "pygments_lexer": "ipython3",
   "version": "3.8.3-final"
  }
 },
 "nbformat": 4,
 "nbformat_minor": 4
}