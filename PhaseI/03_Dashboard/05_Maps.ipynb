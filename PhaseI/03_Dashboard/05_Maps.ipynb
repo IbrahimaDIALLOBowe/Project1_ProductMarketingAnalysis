{
 "cells": [
  {
   "cell_type": "code",
   "execution_count": 3,
   "metadata": {},
   "outputs": [],
   "source": [
    "# System imports\n",
    "import os\n",
    "import pandas as pd\n",
    "import matplotlib.pyplot as plt\n",
    "import plotly.express as px\n",
    "import hvplot.pandas\n",
    "import panel as pn\n",
    "from pathlib import Path\n",
    "from dotenv import load_dotenv\n",
    "from panel.interact import interact\n",
    "from panel import widgets\n",
    "from string import digits\n",
    "import csv\n",
    "import json\n",
    "import numpy as np\n",
    "import dateparser\n",
    "import panel as pn\n",
    "\n",
    "pn.extension()\n",
    "\n",
    "%matplotlib inline\n"
   ]
  },
  {
   "cell_type": "code",
   "execution_count": 4,
   "metadata": {},
   "outputs": [],
   "source": [
    "# Local imports\n",
    "import sys\n",
    "sys.path.append(\"../libs\")\n",
    "\n",
    "from Constants import Constants\n",
    "from ProcessingTools import DateProcessingTools\n"
   ]
  },
  {
   "cell_type": "code",
   "execution_count": 5,
   "metadata": {},
   "outputs": [],
   "source": [
    "# Construct the tools\n",
    "debug_level = 0\n",
    "constants = Constants()\n",
    "tool_data_processing = DateProcessingTools(debug_level)\n"
   ]
  },
  {
   "cell_type": "code",
   "execution_count": 6,
   "metadata": {},
   "outputs": [],
   "source": [
    "# Import all preprocessed data\n",
    "atlas           = pd.read_pickle(constants.PREPROCESSED_ATLAS_FILE_PATH)\n",
    "forecast        = pd.read_pickle(constants.PREPROCESSED_FORECAST_DATA_FILE_PATH)\n",
    "revenue2020     = pd.read_pickle(constants.PREPROCESSED_REVENUE2020_FILE_PATH)\n",
    "revenue2020A    = pd.read_pickle(constants.PREPROCESSED_REVENUE2020A_FILE_PATH)\n"
   ]
  },
  {
   "cell_type": "code",
   "execution_count": 7,
   "metadata": {},
   "outputs": [],
   "source": [
    "load_dotenv()\n",
    "mapbox_token = os.getenv(\"MAPBOX_API_KEY\")\n",
    "px.set_mapbox_access_token(mapbox_token)"
   ]
  },
  {
   "cell_type": "code",
   "execution_count": 8,
   "metadata": {},
   "outputs": [
    {
     "output_type": "execute_result",
     "data": {
      "text/plain": [
       "              Number of Users              Invoice Date  Invoice #  Year  \\\n",
       "Customers                                                                  \n",
       "University 1           7050.0 2015-03-20 00:00:00-04:00  ATLAS 315  2015   \n",
       "University 2            250.0 2015-05-28 00:00:00-04:00      AJ501  2015   \n",
       "University 3            100.0 2015-06-23 00:00:00-04:00      AJ502  2015   \n",
       "University 4            500.0 2015-06-26 00:00:00-04:00      AJ503  2015   \n",
       "University 5             15.0 2015-10-07 00:00:00-04:00      AJ504  2015   \n",
       "\n",
       "                Month  Invoice Amount Subscription 2021 Prediction  \\\n",
       "Customers                                                            \n",
       "University 1    March         72000.0       1 Year             NaN   \n",
       "University 2      May          3500.0       1 Year             NaN   \n",
       "University 3     June          3500.0       1 Year             NaN   \n",
       "University 4     June          6500.0       1 Year             NaN   \n",
       "University 5  October           750.0       1 Year             NaN   \n",
       "\n",
       "             Customers Status            Account Code   \\\n",
       "Customers                                                \n",
       "University 1             Lost  4700-0-00-00000-18-0000   \n",
       "University 2           Active  4700-0-00-00000-16-0000   \n",
       "University 3           Active  4700-0-00-00000-17-0000   \n",
       "University 4             Lost  4700-0-00-00000-32-0000   \n",
       "University 5             Lost  4700-0-00-00000-20-0000   \n",
       "\n",
       "                                                Address State        Lat  \\\n",
       "Customers                                                                  \n",
       "University 1    1201 N 3rd St #6, Baton Rouge, LA 70802    LA  30.460190   \n",
       "University 2           1 Kellogg Cir, Emporia, KS 66801    KS  38.392609   \n",
       "University 3    150 University Blvd, Morehead, KY 40351    KY  38.184921   \n",
       "University 4       44 Pierrepont Ave, Potsdam, NY 13676    NY  44.663780   \n",
       "University 5  47645 College Dr, St Marys City, MD 20686    MD  38.190601   \n",
       "\n",
       "                   Long             Service Start               Service End  \\\n",
       "Customers                                                                     \n",
       "University 1 -91.188530 2015-03-18 00:00:00-04:00 2016-06-30 00:00:00-04:00   \n",
       "University 2 -96.181396 2015-06-01 00:00:00-04:00 2016-06-30 00:00:00-04:00   \n",
       "University 3 -83.434441 2015-06-10 00:00:00-04:00 2016-06-30 00:00:00-04:00   \n",
       "University 4 -74.978409 2015-06-01 00:00:00-04:00 2016-06-30 00:00:00-04:00   \n",
       "University 5 -76.426300 2015-10-05 00:00:00-04:00 2016-09-30 00:00:00-04:00   \n",
       "\n",
       "             Subscription Duration  \n",
       "Customers                           \n",
       "University 1              365 days  \n",
       "University 2              365 days  \n",
       "University 3              365 days  \n",
       "University 4              365 days  \n",
       "University 5              365 days  "
      ],
      "text/html": "<div>\n<style scoped>\n    .dataframe tbody tr th:only-of-type {\n        vertical-align: middle;\n    }\n\n    .dataframe tbody tr th {\n        vertical-align: top;\n    }\n\n    .dataframe thead th {\n        text-align: right;\n    }\n</style>\n<table border=\"1\" class=\"dataframe\">\n  <thead>\n    <tr style=\"text-align: right;\">\n      <th></th>\n      <th>Number of Users</th>\n      <th>Invoice Date</th>\n      <th>Invoice #</th>\n      <th>Year</th>\n      <th>Month</th>\n      <th>Invoice Amount</th>\n      <th>Subscription</th>\n      <th>2021 Prediction</th>\n      <th>Customers Status</th>\n      <th>Account Code</th>\n      <th>Address</th>\n      <th>State</th>\n      <th>Lat</th>\n      <th>Long</th>\n      <th>Service Start</th>\n      <th>Service End</th>\n      <th>Subscription Duration</th>\n    </tr>\n    <tr>\n      <th>Customers</th>\n      <th></th>\n      <th></th>\n      <th></th>\n      <th></th>\n      <th></th>\n      <th></th>\n      <th></th>\n      <th></th>\n      <th></th>\n      <th></th>\n      <th></th>\n      <th></th>\n      <th></th>\n      <th></th>\n      <th></th>\n      <th></th>\n      <th></th>\n    </tr>\n  </thead>\n  <tbody>\n    <tr>\n      <th>University 1</th>\n      <td>7050.0</td>\n      <td>2015-03-20 00:00:00-04:00</td>\n      <td>ATLAS 315</td>\n      <td>2015</td>\n      <td>March</td>\n      <td>72000.0</td>\n      <td>1 Year</td>\n      <td>NaN</td>\n      <td>Lost</td>\n      <td>4700-0-00-00000-18-0000</td>\n      <td>1201 N 3rd St #6, Baton Rouge, LA 70802</td>\n      <td>LA</td>\n      <td>30.460190</td>\n      <td>-91.188530</td>\n      <td>2015-03-18 00:00:00-04:00</td>\n      <td>2016-06-30 00:00:00-04:00</td>\n      <td>365 days</td>\n    </tr>\n    <tr>\n      <th>University 2</th>\n      <td>250.0</td>\n      <td>2015-05-28 00:00:00-04:00</td>\n      <td>AJ501</td>\n      <td>2015</td>\n      <td>May</td>\n      <td>3500.0</td>\n      <td>1 Year</td>\n      <td>NaN</td>\n      <td>Active</td>\n      <td>4700-0-00-00000-16-0000</td>\n      <td>1 Kellogg Cir, Emporia, KS 66801</td>\n      <td>KS</td>\n      <td>38.392609</td>\n      <td>-96.181396</td>\n      <td>2015-06-01 00:00:00-04:00</td>\n      <td>2016-06-30 00:00:00-04:00</td>\n      <td>365 days</td>\n    </tr>\n    <tr>\n      <th>University 3</th>\n      <td>100.0</td>\n      <td>2015-06-23 00:00:00-04:00</td>\n      <td>AJ502</td>\n      <td>2015</td>\n      <td>June</td>\n      <td>3500.0</td>\n      <td>1 Year</td>\n      <td>NaN</td>\n      <td>Active</td>\n      <td>4700-0-00-00000-17-0000</td>\n      <td>150 University Blvd, Morehead, KY 40351</td>\n      <td>KY</td>\n      <td>38.184921</td>\n      <td>-83.434441</td>\n      <td>2015-06-10 00:00:00-04:00</td>\n      <td>2016-06-30 00:00:00-04:00</td>\n      <td>365 days</td>\n    </tr>\n    <tr>\n      <th>University 4</th>\n      <td>500.0</td>\n      <td>2015-06-26 00:00:00-04:00</td>\n      <td>AJ503</td>\n      <td>2015</td>\n      <td>June</td>\n      <td>6500.0</td>\n      <td>1 Year</td>\n      <td>NaN</td>\n      <td>Lost</td>\n      <td>4700-0-00-00000-32-0000</td>\n      <td>44 Pierrepont Ave, Potsdam, NY 13676</td>\n      <td>NY</td>\n      <td>44.663780</td>\n      <td>-74.978409</td>\n      <td>2015-06-01 00:00:00-04:00</td>\n      <td>2016-06-30 00:00:00-04:00</td>\n      <td>365 days</td>\n    </tr>\n    <tr>\n      <th>University 5</th>\n      <td>15.0</td>\n      <td>2015-10-07 00:00:00-04:00</td>\n      <td>AJ504</td>\n      <td>2015</td>\n      <td>October</td>\n      <td>750.0</td>\n      <td>1 Year</td>\n      <td>NaN</td>\n      <td>Lost</td>\n      <td>4700-0-00-00000-20-0000</td>\n      <td>47645 College Dr, St Marys City, MD 20686</td>\n      <td>MD</td>\n      <td>38.190601</td>\n      <td>-76.426300</td>\n      <td>2015-10-05 00:00:00-04:00</td>\n      <td>2016-09-30 00:00:00-04:00</td>\n      <td>365 days</td>\n    </tr>\n  </tbody>\n</table>\n</div>"
     },
     "metadata": {},
     "execution_count": 8
    }
   ],
   "source": [
    "atlas.head()\n"
   ]
  },
  {
   "cell_type": "code",
   "execution_count": 9,
   "metadata": {},
   "outputs": [],
   "source": [
    "total_data = atlas.loc[:, [\"Number of Users\", \"Invoice Amount\"]].groupby([\"Customers\"]).sum()\n",
    "# total_data.dropna(inplace=True)\n",
    "total_data\n",
    "\n",
    "atlas_with_totals = pd.concat([atlas.drop(columns=[\"Number of Users\", \"Invoice Amount\"]), total_data], axis=\"columns\", join=\"inner\")"
   ]
  },
  {
   "cell_type": "code",
   "execution_count": 10,
   "metadata": {},
   "outputs": [
    {
     "output_type": "display_data",
     "data": {
      "application/vnd.plotly.v1+json": {
       "config": {
        "plotlyServerURL": "https://plot.ly"
       },
       "data": [
        {
         "hovertemplate": "Customers=University 1<br>Invoice Amount=%{marker.size}<br>Lat=%{lat}<br>Long=%{lon}<extra></extra>",
         "lat": [
          30.46019,
          30.459975
         ],
         "legendgroup": "University 1",
         "lon": [
          -91.18853,
          -91.188601
         ],
         "marker": {
          "color": "#636efa",
          "size": [
           139000,
           139000
          ],
          "sizemode": "area",
          "sizeref": 375
         },
         "mode": "markers",
         "name": "University 1",
         "showlegend": true,
         "subplot": "mapbox",
         "type": "scattermapbox"
        },
        {
         "hovertemplate": "Customers=University 2<br>Invoice Amount=%{marker.size}<br>Lat=%{lat}<br>Long=%{lon}<extra></extra>",
         "lat": [
          38.392609,
          38.392609,
          38.392609,
          38.392609,
          38.392609,
          38.392609
         ],
         "legendgroup": "University 2",
         "lon": [
          -96.181396,
          -96.181396,
          -96.181396,
          -96.181396,
          -96.181396,
          -96.181396
         ],
         "marker": {
          "color": "#EF553B",
          "size": [
           14400,
           14400,
           14400,
           14400,
           14400,
           14400
          ],
          "sizemode": "area",
          "sizeref": 375
         },
         "mode": "markers",
         "name": "University 2",
         "showlegend": true,
         "subplot": "mapbox",
         "type": "scattermapbox"
        },
        {
         "hovertemplate": "Customers=University 3<br>Invoice Amount=%{marker.size}<br>Lat=%{lat}<br>Long=%{lon}<extra></extra>",
         "lat": [
          38.184921,
          38.186526,
          38.186526,
          38.184921,
          38.184921,
          38.184921
         ],
         "legendgroup": "University 3",
         "lon": [
          -83.434441,
          -83.43560500000002,
          -83.43560500000002,
          -83.434441,
          -83.434441,
          -83.434441
         ],
         "marker": {
          "color": "#00cc96",
          "size": [
           10375,
           10375,
           10375,
           10375,
           10375,
           10375
          ],
          "sizemode": "area",
          "sizeref": 375
         },
         "mode": "markers",
         "name": "University 3",
         "showlegend": true,
         "subplot": "mapbox",
         "type": "scattermapbox"
        },
        {
         "hovertemplate": "Customers=University 4<br>Invoice Amount=%{marker.size}<br>Lat=%{lat}<br>Long=%{lon}<extra></extra>",
         "lat": [
          44.66378
         ],
         "legendgroup": "University 4",
         "lon": [
          -74.978409
         ],
         "marker": {
          "color": "#ab63fa",
          "size": [
           6500
          ],
          "sizemode": "area",
          "sizeref": 375
         },
         "mode": "markers",
         "name": "University 4",
         "showlegend": true,
         "subplot": "mapbox",
         "type": "scattermapbox"
        },
        {
         "hovertemplate": "Customers=University 5<br>Invoice Amount=%{marker.size}<br>Lat=%{lat}<br>Long=%{lon}<extra></extra>",
         "lat": [
          38.190601,
          38.188827
         ],
         "legendgroup": "University 5",
         "lon": [
          -76.4263,
          -76.42549
         ],
         "marker": {
          "color": "#FFA15A",
          "size": [
           1500,
           1500
          ],
          "sizemode": "area",
          "sizeref": 375
         },
         "mode": "markers",
         "name": "University 5",
         "showlegend": true,
         "subplot": "mapbox",
         "type": "scattermapbox"
        },
        {
         "hovertemplate": "Customers=University 6<br>Invoice Amount=%{marker.size}<br>Lat=%{lat}<br>Long=%{lon}<extra></extra>",
         "lat": [
          36.112561,
          36.112561
         ],
         "legendgroup": "University 6",
         "lon": [
          -115.109222,
          -115.109222
         ],
         "marker": {
          "color": "#19d3f3",
          "size": [
           10750,
           10750
          ],
          "sizemode": "area",
          "sizeref": 375
         },
         "mode": "markers",
         "name": "University 6",
         "showlegend": true,
         "subplot": "mapbox",
         "type": "scattermapbox"
        },
        {
         "hovertemplate": "Customers=University 7<br>Invoice Amount=%{marker.size}<br>Lat=%{lat}<br>Long=%{lon}<extra></extra>",
         "lat": [
          38.89445300000001,
          38.89445300000001,
          38.89445300000001
         ],
         "legendgroup": "University 7",
         "lon": [
          -77.042603,
          -77.042603,
          -77.042603
         ],
         "marker": {
          "color": "#FF6692",
          "size": [
           65200,
           65200,
           65200
          ],
          "sizemode": "area",
          "sizeref": 375
         },
         "mode": "markers",
         "name": "University 7",
         "showlegend": true,
         "subplot": "mapbox",
         "type": "scattermapbox"
        },
        {
         "hovertemplate": "Customers=University 8<br>Invoice Amount=%{marker.size}<br>Lat=%{lat}<br>Long=%{lon}<extra></extra>",
         "lat": [
          37.27174,
          37.27174,
          37.27174,
          37.27174
         ],
         "legendgroup": "University 8",
         "lon": [
          -76.71426,
          -76.71426,
          -76.71426,
          -76.71426
         ],
         "marker": {
          "color": "#B6E880",
          "size": [
           10400,
           10400,
           10400,
           10400
          ],
          "sizemode": "area",
          "sizeref": 375
         },
         "mode": "markers",
         "name": "University 8",
         "showlegend": true,
         "subplot": "mapbox",
         "type": "scattermapbox"
        },
        {
         "hovertemplate": "Customers=University 9<br>Invoice Amount=%{marker.size}<br>Lat=%{lat}<br>Long=%{lon}<extra></extra>",
         "lat": [
          33.080841,
          33.080841,
          33.080841,
          33.080841,
          33.080841
         ],
         "legendgroup": "University 9",
         "lon": [
          -83.231778,
          -83.231778,
          -83.231778,
          -83.231778,
          -83.231778
         ],
         "marker": {
          "color": "#FF97FF",
          "size": [
           7650,
           7650,
           7650,
           7650,
           7650
          ],
          "sizemode": "area",
          "sizeref": 375
         },
         "mode": "markers",
         "name": "University 9",
         "showlegend": true,
         "subplot": "mapbox",
         "type": "scattermapbox"
        },
        {
         "hovertemplate": "Customers=University 10<br>Invoice Amount=%{marker.size}<br>Lat=%{lat}<br>Long=%{lon}<extra></extra>",
         "lat": [
          39.73221,
          39.73221,
          39.73221
         ],
         "legendgroup": "University 10",
         "lon": [
          -90.246947,
          -90.246947,
          -90.246947
         ],
         "marker": {
          "color": "#FECB52",
          "size": [
           11200,
           11200,
           11200
          ],
          "sizemode": "area",
          "sizeref": 375
         },
         "mode": "markers",
         "name": "University 10",
         "showlegend": true,
         "subplot": "mapbox",
         "type": "scattermapbox"
        },
        {
         "hovertemplate": "Customers=University 11<br>Invoice Amount=%{marker.size}<br>Lat=%{lat}<br>Long=%{lon}<extra></extra>",
         "lat": [
          37.986014,
          37.986014,
          37.986014,
          37.986014,
          37.986014
         ],
         "legendgroup": "University 11",
         "lon": [
          -84.396001,
          -84.396001,
          -84.396001,
          -84.396001,
          -84.396001
         ],
         "marker": {
          "color": "#636efa",
          "size": [
           18800,
           18800,
           18800,
           18800,
           18800
          ],
          "sizemode": "area",
          "sizeref": 375
         },
         "mode": "markers",
         "name": "University 11",
         "showlegend": true,
         "subplot": "mapbox",
         "type": "scattermapbox"
        },
        {
         "hovertemplate": "Customers=University 12<br>Invoice Amount=%{marker.size}<br>Lat=%{lat}<br>Long=%{lon}<extra></extra>",
         "lat": [
          34.263421,
          34.263421
         ],
         "legendgroup": "University 12",
         "lon": [
          -85.189688,
          -85.189688
         ],
         "marker": {
          "color": "#EF553B",
          "size": [
           1500,
           1500
          ],
          "sizemode": "area",
          "sizeref": 375
         },
         "mode": "markers",
         "name": "University 12",
         "showlegend": true,
         "subplot": "mapbox",
         "type": "scattermapbox"
        },
        {
         "hovertemplate": "Customers=University 13<br>Invoice Amount=%{marker.size}<br>Lat=%{lat}<br>Long=%{lon}<extra></extra>",
         "lat": [
          34.938466,
          34.938466,
          34.938466,
          34.938466,
          34.938466,
          34.938466,
          34.938466
         ],
         "legendgroup": "University 13",
         "lon": [
          -81.029872,
          -81.029872,
          -81.029872,
          -81.029872,
          -81.029872,
          -81.029872,
          -81.029872
         ],
         "marker": {
          "color": "#00cc96",
          "size": [
           6062.5,
           6062.5,
           6062.5,
           6062.5,
           6062.5,
           6062.5,
           6062.5
          ],
          "sizemode": "area",
          "sizeref": 375
         },
         "mode": "markers",
         "name": "University 13",
         "showlegend": true,
         "subplot": "mapbox",
         "type": "scattermapbox"
        },
        {
         "hovertemplate": "Customers=University 14<br>Invoice Amount=%{marker.size}<br>Lat=%{lat}<br>Long=%{lon}<extra></extra>",
         "lat": [
          41.887482
         ],
         "legendgroup": "University 14",
         "lon": [
          -87.67518000000003
         ],
         "marker": {
          "color": "#ab63fa",
          "size": [
           4600
          ],
          "sizemode": "area",
          "sizeref": 375
         },
         "mode": "markers",
         "name": "University 14",
         "showlegend": true,
         "subplot": "mapbox",
         "type": "scattermapbox"
        },
        {
         "hovertemplate": "Customers=University 15<br>Invoice Amount=%{marker.size}<br>Lat=%{lat}<br>Long=%{lon}<extra></extra>",
         "lat": [
          40.829705
         ],
         "legendgroup": "University 15",
         "lon": [
          -74.111522
         ],
         "marker": {
          "color": "#FFA15A",
          "size": [
           750
          ],
          "sizemode": "area",
          "sizeref": 375
         },
         "mode": "markers",
         "name": "University 15",
         "showlegend": true,
         "subplot": "mapbox",
         "type": "scattermapbox"
        },
        {
         "hovertemplate": "Customers=University 16<br>Invoice Amount=%{marker.size}<br>Lat=%{lat}<br>Long=%{lon}<extra></extra>",
         "lat": [
          44.248238
         ],
         "legendgroup": "University 16",
         "lon": [
          -72.56259200000002
         ],
         "marker": {
          "color": "#19d3f3",
          "size": [
           4200
          ],
          "sizemode": "area",
          "sizeref": 375
         },
         "mode": "markers",
         "name": "University 16",
         "showlegend": true,
         "subplot": "mapbox",
         "type": "scattermapbox"
        },
        {
         "hovertemplate": "Customers=University 17<br>Invoice Amount=%{marker.size}<br>Lat=%{lat}<br>Long=%{lon}<extra></extra>",
         "lat": [
          36.065616,
          36.065616,
          36.065616,
          36.065616,
          36.065616
         ],
         "legendgroup": "University 17",
         "lon": [
          -79.81305,
          -79.81305,
          -79.81305,
          -79.81305,
          -79.81305
         ],
         "marker": {
          "color": "#FF6692",
          "size": [
           17500,
           17500,
           17500,
           17500,
           17500
          ],
          "sizemode": "area",
          "sizeref": 375
         },
         "mode": "markers",
         "name": "University 17",
         "showlegend": true,
         "subplot": "mapbox",
         "type": "scattermapbox"
        },
        {
         "hovertemplate": "Customers=University 18<br>Invoice Amount=%{marker.size}<br>Lat=%{lat}<br>Long=%{lon}<extra></extra>",
         "lat": [
          42.08068,
          42.08068
         ],
         "legendgroup": "University 18",
         "lon": [
          -78.48354300000003,
          -78.48354300000003
         ],
         "marker": {
          "color": "#B6E880",
          "size": [
           6100,
           6100
          ],
          "sizemode": "area",
          "sizeref": 375
         },
         "mode": "markers",
         "name": "University 18",
         "showlegend": true,
         "subplot": "mapbox",
         "type": "scattermapbox"
        },
        {
         "hovertemplate": "Customers=University 19<br>Invoice Amount=%{marker.size}<br>Lat=%{lat}<br>Long=%{lon}<extra></extra>",
         "lat": [
          33.470787,
          33.470787,
          33.470787,
          33.470787,
          33.470787,
          33.470787,
          33.470787
         ],
         "legendgroup": "University 19",
         "lon": [
          -81.98959,
          -81.98959,
          -81.98959,
          -81.98959,
          -81.98959,
          -81.98959,
          -81.98959
         ],
         "marker": {
          "color": "#FF97FF",
          "size": [
           7875,
           7875,
           7875,
           7875,
           7875,
           7875,
           7875
          ],
          "sizemode": "area",
          "sizeref": 375
         },
         "mode": "markers",
         "name": "University 19",
         "showlegend": true,
         "subplot": "mapbox",
         "type": "scattermapbox"
        },
        {
         "hovertemplate": "Customers=University 20<br>Invoice Amount=%{marker.size}<br>Lat=%{lat}<br>Long=%{lon}<extra></extra>",
         "lat": [
          40.065615,
          40.065615,
          40.065615
         ],
         "legendgroup": "University 20",
         "lon": [
          -79.885932,
          -79.885932,
          -79.885932
         ],
         "marker": {
          "color": "#FECB52",
          "size": [
           17950,
           17950,
           17950
          ],
          "sizemode": "area",
          "sizeref": 375
         },
         "mode": "markers",
         "name": "University 20",
         "showlegend": true,
         "subplot": "mapbox",
         "type": "scattermapbox"
        },
        {
         "hovertemplate": "Customers=University 21<br>Invoice Amount=%{marker.size}<br>Lat=%{lat}<br>Long=%{lon}<extra></extra>",
         "lat": [
          33.529999,
          33.52991
         ],
         "legendgroup": "University 21",
         "lon": [
          -117.185591,
          -117.18548
         ],
         "marker": {
          "color": "#636efa",
          "size": [
           6000,
           6000
          ],
          "sizemode": "area",
          "sizeref": 375
         },
         "mode": "markers",
         "name": "University 21",
         "showlegend": true,
         "subplot": "mapbox",
         "type": "scattermapbox"
        },
        {
         "hovertemplate": "Customers=University 22<br>Invoice Amount=%{marker.size}<br>Lat=%{lat}<br>Long=%{lon}<extra></extra>",
         "lat": [
          37.403801,
          37.403801,
          37.403801,
          37.403801,
          37.403801
         ],
         "legendgroup": "University 22",
         "lon": [
          -75.910387,
          -75.910387,
          -75.910387,
          -75.910387,
          -75.910387
         ],
         "marker": {
          "color": "#EF553B",
          "size": [
           3750,
           3750,
           3750,
           3750,
           3750
          ],
          "sizemode": "area",
          "sizeref": 375
         },
         "mode": "markers",
         "name": "University 22",
         "showlegend": true,
         "subplot": "mapbox",
         "type": "scattermapbox"
        },
        {
         "hovertemplate": "Customers=University 23<br>Invoice Amount=%{marker.size}<br>Lat=%{lat}<br>Long=%{lon}<extra></extra>",
         "lat": [
          34.183905,
          34.183905,
          34.183905,
          34.183905,
          34.183905
         ],
         "legendgroup": "University 23",
         "lon": [
          -118.575077,
          -118.575077,
          -118.575077,
          -118.575077,
          -118.575077
         ],
         "marker": {
          "color": "#00cc96",
          "size": [
           3750,
           3750,
           3750,
           3750,
           3750
          ],
          "sizemode": "area",
          "sizeref": 375
         },
         "mode": "markers",
         "name": "University 23",
         "showlegend": true,
         "subplot": "mapbox",
         "type": "scattermapbox"
        },
        {
         "hovertemplate": "Customers=University 24<br>Invoice Amount=%{marker.size}<br>Lat=%{lat}<br>Long=%{lon}<extra></extra>",
         "lat": [
          41.331619,
          41.331619
         ],
         "legendgroup": "University 24",
         "lon": [
          -72.946852,
          -72.946852
         ],
         "marker": {
          "color": "#ab63fa",
          "size": [
           16800,
           16800
          ],
          "sizemode": "area",
          "sizeref": 375
         },
         "mode": "markers",
         "name": "University 24",
         "showlegend": true,
         "subplot": "mapbox",
         "type": "scattermapbox"
        },
        {
         "hovertemplate": "Customers=University 25<br>Invoice Amount=%{marker.size}<br>Lat=%{lat}<br>Long=%{lon}<extra></extra>",
         "lat": [
          39.709696
         ],
         "legendgroup": "University 25",
         "lon": [
          -75.120704
         ],
         "marker": {
          "color": "#FFA15A",
          "size": [
           750
          ],
          "sizemode": "area",
          "sizeref": 375
         },
         "mode": "markers",
         "name": "University 25",
         "showlegend": true,
         "subplot": "mapbox",
         "type": "scattermapbox"
        },
        {
         "hovertemplate": "Customers=University 26<br>Invoice Amount=%{marker.size}<br>Lat=%{lat}<br>Long=%{lon}<extra></extra>",
         "lat": [
          41.5028
         ],
         "legendgroup": "University 26",
         "lon": [
          -87.68429300000003
         ],
         "marker": {
          "color": "#19d3f3",
          "size": [
           3500
          ],
          "sizemode": "area",
          "sizeref": 375
         },
         "mode": "markers",
         "name": "University 26",
         "showlegend": true,
         "subplot": "mapbox",
         "type": "scattermapbox"
        },
        {
         "hovertemplate": "Customers=University 27<br>Invoice Amount=%{marker.size}<br>Lat=%{lat}<br>Long=%{lon}<extra></extra>",
         "lat": [
          39.088975
         ],
         "legendgroup": "University 27",
         "lon": [
          -94.58516
         ],
         "marker": {
          "color": "#FF6692",
          "size": [
           750
          ],
          "sizemode": "area",
          "sizeref": 375
         },
         "mode": "markers",
         "name": "University 27",
         "showlegend": true,
         "subplot": "mapbox",
         "type": "scattermapbox"
        },
        {
         "hovertemplate": "Customers=University 28<br>Invoice Amount=%{marker.size}<br>Lat=%{lat}<br>Long=%{lon}<extra></extra>",
         "lat": [
          31.978808,
          31.978808,
          31.978808
         ],
         "legendgroup": "University 28",
         "lon": [
          -81.16297800000002,
          -81.16297800000002,
          -81.16297800000002
         ],
         "marker": {
          "color": "#B6E880",
          "size": [
           7350,
           7350,
           7350
          ],
          "sizemode": "area",
          "sizeref": 375
         },
         "mode": "markers",
         "name": "University 28",
         "showlegend": true,
         "subplot": "mapbox",
         "type": "scattermapbox"
        },
        {
         "hovertemplate": "Customers=University 29<br>Invoice Amount=%{marker.size}<br>Lat=%{lat}<br>Long=%{lon}<extra></extra>",
         "lat": [
          42.41484000000001,
          42.41484000000001
         ],
         "legendgroup": "University 29",
         "lon": [
          -83.137876,
          -83.137876
         ],
         "marker": {
          "color": "#FF97FF",
          "size": [
           1500,
           1500
          ],
          "sizemode": "area",
          "sizeref": 375
         },
         "mode": "markers",
         "name": "University 29",
         "showlegend": true,
         "subplot": "mapbox",
         "type": "scattermapbox"
        },
        {
         "hovertemplate": "Customers=University 30<br>Invoice Amount=%{marker.size}<br>Lat=%{lat}<br>Long=%{lon}<extra></extra>",
         "lat": [
          33.533925,
          33.533925,
          33.533925
         ],
         "legendgroup": "University 30",
         "lon": [
          -86.877531,
          -86.877531,
          -86.877531
         ],
         "marker": {
          "color": "#FECB52",
          "size": [
           150000,
           150000,
           150000
          ],
          "sizemode": "area",
          "sizeref": 375
         },
         "mode": "markers",
         "name": "University 30",
         "showlegend": true,
         "subplot": "mapbox",
         "type": "scattermapbox"
        },
        {
         "hovertemplate": "Customers=University 31<br>Invoice Amount=%{marker.size}<br>Lat=%{lat}<br>Long=%{lon}<extra></extra>",
         "lat": [
          33.203634
         ],
         "legendgroup": "University 31",
         "lon": [
          -87.56214399999998
         ],
         "marker": {
          "color": "#636efa",
          "size": [
           13650
          ],
          "sizemode": "area",
          "sizeref": 375
         },
         "mode": "markers",
         "name": "University 31",
         "showlegend": true,
         "subplot": "mapbox",
         "type": "scattermapbox"
        },
        {
         "hovertemplate": "Customers=University 32<br>Invoice Amount=%{marker.size}<br>Lat=%{lat}<br>Long=%{lon}<extra></extra>",
         "lat": [
          38.892942,
          38.892942,
          38.892942,
          38.892942
         ],
         "legendgroup": "University 32",
         "lon": [
          -89.410143,
          -89.410143,
          -89.410143,
          -89.410143
         ],
         "marker": {
          "color": "#EF553B",
          "size": [
           3250,
           3250,
           3250,
           3250
          ],
          "sizemode": "area",
          "sizeref": 375
         },
         "mode": "markers",
         "name": "University 32",
         "showlegend": true,
         "subplot": "mapbox",
         "type": "scattermapbox"
        },
        {
         "hovertemplate": "Customers=University 33<br>Invoice Amount=%{marker.size}<br>Lat=%{lat}<br>Long=%{lon}<extra></extra>",
         "lat": [
          36.73702700000001
         ],
         "legendgroup": "University 33",
         "lon": [
          -84.162826
         ],
         "marker": {
          "color": "#00cc96",
          "size": [
           3500
          ],
          "sizemode": "area",
          "sizeref": 375
         },
         "mode": "markers",
         "name": "University 33",
         "showlegend": true,
         "subplot": "mapbox",
         "type": "scattermapbox"
        },
        {
         "hovertemplate": "Customers=University 34<br>Invoice Amount=%{marker.size}<br>Lat=%{lat}<br>Long=%{lon}<extra></extra>",
         "lat": [
          40.731274,
          40.731274,
          40.731274,
          40.731274,
          40.729393
         ],
         "legendgroup": "University 34",
         "lon": [
          -73.990999,
          -73.990999,
          -73.990999,
          -73.990999,
          -73.99713
         ],
         "marker": {
          "color": "#ab63fa",
          "size": [
           18750,
           18750,
           18750,
           18750,
           18750
          ],
          "sizemode": "area",
          "sizeref": 375
         },
         "mode": "markers",
         "name": "University 34",
         "showlegend": true,
         "subplot": "mapbox",
         "type": "scattermapbox"
        },
        {
         "hovertemplate": "Customers=University 35<br>Invoice Amount=%{marker.size}<br>Lat=%{lat}<br>Long=%{lon}<extra></extra>",
         "lat": [
          40.897169
         ],
         "legendgroup": "University 35",
         "lon": [
          -74.02901800000002
         ],
         "marker": {
          "color": "#FFA15A",
          "size": [
           1000
          ],
          "sizemode": "area",
          "sizeref": 375
         },
         "mode": "markers",
         "name": "University 35",
         "showlegend": true,
         "subplot": "mapbox",
         "type": "scattermapbox"
        },
        {
         "hovertemplate": "Customers=University 36<br>Invoice Amount=%{marker.size}<br>Lat=%{lat}<br>Long=%{lon}<extra></extra>",
         "lat": [
          39.65839
         ],
         "legendgroup": "University 36",
         "lon": [
          -75.717762
         ],
         "marker": {
          "color": "#19d3f3",
          "size": [
           3500
          ],
          "sizemode": "area",
          "sizeref": 375
         },
         "mode": "markers",
         "name": "University 36",
         "showlegend": true,
         "subplot": "mapbox",
         "type": "scattermapbox"
        },
        {
         "hovertemplate": "Customers=University 37<br>Invoice Amount=%{marker.size}<br>Lat=%{lat}<br>Long=%{lon}<extra></extra>",
         "lat": [
          39.509498
         ],
         "legendgroup": "University 37",
         "lon": [
          -84.734465
         ],
         "marker": {
          "color": "#FF6692",
          "size": [
           750
          ],
          "sizemode": "area",
          "sizeref": 375
         },
         "mode": "markers",
         "name": "University 37",
         "showlegend": true,
         "subplot": "mapbox",
         "type": "scattermapbox"
        },
        {
         "hovertemplate": "Customers=University 38<br>Invoice Amount=%{marker.size}<br>Lat=%{lat}<br>Long=%{lon}<extra></extra>",
         "lat": [
          33.673152,
          33.673152,
          33.673152,
          33.673152
         ],
         "legendgroup": "University 38",
         "lon": [
          -117.880738,
          -117.880738,
          -117.880738,
          -117.880738
         ],
         "marker": {
          "color": "#B6E880",
          "size": [
           9650,
           9650,
           9650,
           9650
          ],
          "sizemode": "area",
          "sizeref": 375
         },
         "mode": "markers",
         "name": "University 38",
         "showlegend": true,
         "subplot": "mapbox",
         "type": "scattermapbox"
        },
        {
         "hovertemplate": "Customers=University 39<br>Invoice Amount=%{marker.size}<br>Lat=%{lat}<br>Long=%{lon}<extra></extra>",
         "lat": [
          34.566567,
          34.566567,
          34.566567,
          34.566567,
          34.566567,
          34.566567
         ],
         "legendgroup": "University 39",
         "lon": [
          -83.54284,
          -83.54284,
          -83.54284,
          -83.54284,
          -83.54284,
          -83.54284
         ],
         "marker": {
          "color": "#FF97FF",
          "size": [
           16500,
           16500,
           16500,
           16500,
           16500,
           16500
          ],
          "sizemode": "area",
          "sizeref": 375
         },
         "mode": "markers",
         "name": "University 39",
         "showlegend": true,
         "subplot": "mapbox",
         "type": "scattermapbox"
        },
        {
         "hovertemplate": "Customers=University 40<br>Invoice Amount=%{marker.size}<br>Lat=%{lat}<br>Long=%{lon}<extra></extra>",
         "lat": [
          35.072882,
          35.072882,
          35.072882,
          35.072882,
          35.072882
         ],
         "legendgroup": "University 40",
         "lon": [
          -78.893753,
          -78.893753,
          -78.893753,
          -78.893753,
          -78.893753
         ],
         "marker": {
          "color": "#FECB52",
          "size": [
           9000,
           9000,
           9000,
           9000,
           9000
          ],
          "sizemode": "area",
          "sizeref": 375
         },
         "mode": "markers",
         "name": "University 40",
         "showlegend": true,
         "subplot": "mapbox",
         "type": "scattermapbox"
        },
        {
         "hovertemplate": "Customers=University 41<br>Invoice Amount=%{marker.size}<br>Lat=%{lat}<br>Long=%{lon}<extra></extra>",
         "lat": [
          34.033208,
          34.033208,
          34.033208,
          34.033208
         ],
         "legendgroup": "University 41",
         "lon": [
          -84.581906,
          -84.581906,
          -84.581906,
          -84.581906
         ],
         "marker": {
          "color": "#636efa",
          "size": [
           8600,
           8600,
           8600,
           8600
          ],
          "sizemode": "area",
          "sizeref": 375
         },
         "mode": "markers",
         "name": "University 41",
         "showlegend": true,
         "subplot": "mapbox",
         "type": "scattermapbox"
        },
        {
         "hovertemplate": "Customers=University 42<br>Invoice Amount=%{marker.size}<br>Lat=%{lat}<br>Long=%{lon}<extra></extra>",
         "lat": [
          35.050377000000005
         ],
         "legendgroup": "University 42",
         "lon": [
          -80.949466
         ],
         "marker": {
          "color": "#EF553B",
          "size": [
           750
          ],
          "sizemode": "area",
          "sizeref": 375
         },
         "mode": "markers",
         "name": "University 42",
         "showlegend": true,
         "subplot": "mapbox",
         "type": "scattermapbox"
        },
        {
         "hovertemplate": "Customers=University 43<br>Invoice Amount=%{marker.size}<br>Lat=%{lat}<br>Long=%{lon}<extra></extra>",
         "lat": [
          26.384204
         ],
         "legendgroup": "University 43",
         "lon": [
          -80.14575
         ],
         "marker": {
          "color": "#00cc96",
          "size": [
           750
          ],
          "sizemode": "area",
          "sizeref": 375
         },
         "mode": "markers",
         "name": "University 43",
         "showlegend": true,
         "subplot": "mapbox",
         "type": "scattermapbox"
        },
        {
         "hovertemplate": "Customers=University 44<br>Invoice Amount=%{marker.size}<br>Lat=%{lat}<br>Long=%{lon}<extra></extra>",
         "lat": [
          40.684882,
          40.684882,
          40.684882,
          40.684882
         ],
         "legendgroup": "University 44",
         "lon": [
          -111.869961,
          -111.869961,
          -111.869961,
          -111.869961
         ],
         "marker": {
          "color": "#ab63fa",
          "size": [
           102000,
           102000,
           102000,
           102000
          ],
          "sizemode": "area",
          "sizeref": 375
         },
         "mode": "markers",
         "name": "University 44",
         "showlegend": true,
         "subplot": "mapbox",
         "type": "scattermapbox"
        },
        {
         "hovertemplate": "Customers=University 45<br>Invoice Amount=%{marker.size}<br>Lat=%{lat}<br>Long=%{lon}<extra></extra>",
         "lat": [
          38.89583
         ],
         "legendgroup": "University 45",
         "lon": [
          -77.009828
         ],
         "marker": {
          "color": "#FFA15A",
          "size": [
           8000
          ],
          "sizemode": "area",
          "sizeref": 375
         },
         "mode": "markers",
         "name": "University 45",
         "showlegend": true,
         "subplot": "mapbox",
         "type": "scattermapbox"
        },
        {
         "hovertemplate": "Customers=University 46<br>Invoice Amount=%{marker.size}<br>Lat=%{lat}<br>Long=%{lon}<extra></extra>",
         "lat": [
          21.36711
         ],
         "legendgroup": "University 46",
         "lon": [
          -157.90399399999995
         ],
         "marker": {
          "color": "#19d3f3",
          "size": [
           750
          ],
          "sizemode": "area",
          "sizeref": 375
         },
         "mode": "markers",
         "name": "University 46",
         "showlegend": true,
         "subplot": "mapbox",
         "type": "scattermapbox"
        },
        {
         "hovertemplate": "Customers=University 47<br>Invoice Amount=%{marker.size}<br>Lat=%{lat}<br>Long=%{lon}<extra></extra>",
         "lat": [
          45.78457,
          45.78457
         ],
         "legendgroup": "University 47",
         "lon": [
          -108.526828,
          -108.526828
         ],
         "marker": {
          "color": "#FF6692",
          "size": [
           1500,
           1500
          ],
          "sizemode": "area",
          "sizeref": 375
         },
         "mode": "markers",
         "name": "University 47",
         "showlegend": true,
         "subplot": "mapbox",
         "type": "scattermapbox"
        },
        {
         "hovertemplate": "Customers=University 48<br>Invoice Amount=%{marker.size}<br>Lat=%{lat}<br>Long=%{lon}<extra></extra>",
         "lat": [
          45.511825,
          34.223991,
          34.223991,
          34.223991
         ],
         "legendgroup": "University 48",
         "lon": [
          -122.684286,
          -77.86776400000002,
          -77.86776400000002,
          -77.86776400000002
         ],
         "marker": {
          "color": "#B6E880",
          "size": [
           14450,
           14450,
           14450,
           14450
          ],
          "sizemode": "area",
          "sizeref": 375
         },
         "mode": "markers",
         "name": "University 48",
         "showlegend": true,
         "subplot": "mapbox",
         "type": "scattermapbox"
        },
        {
         "hovertemplate": "Customers=University 49<br>Invoice Amount=%{marker.size}<br>Lat=%{lat}<br>Long=%{lon}<extra></extra>",
         "lat": [
          34.358185
         ],
         "legendgroup": "University 49",
         "lon": [
          -89.548378
         ],
         "marker": {
          "color": "#FF97FF",
          "size": [
           7350
          ],
          "sizemode": "area",
          "sizeref": 375
         },
         "mode": "markers",
         "name": "University 49",
         "showlegend": true,
         "subplot": "mapbox",
         "type": "scattermapbox"
        },
        {
         "hovertemplate": "Customers=University 50<br>Invoice Amount=%{marker.size}<br>Lat=%{lat}<br>Long=%{lon}<extra></extra>",
         "lat": [
          33.453832
         ],
         "legendgroup": "University 50",
         "lon": [
          -88.794057
         ],
         "marker": {
          "color": "#FECB52",
          "size": [
           4750
          ],
          "sizemode": "area",
          "sizeref": 375
         },
         "mode": "markers",
         "name": "University 50",
         "showlegend": true,
         "subplot": "mapbox",
         "type": "scattermapbox"
        },
        {
         "hovertemplate": "Customers=University 51<br>Invoice Amount=%{marker.size}<br>Lat=%{lat}<br>Long=%{lon}<extra></extra>",
         "lat": [
          40.732544,
          40.732544,
          40.732544,
          40.732544,
          40.732544
         ],
         "legendgroup": "University 51",
         "lon": [
          -75.263954,
          -75.263954,
          -75.263954,
          -75.263954,
          -75.263954
         ],
         "marker": {
          "color": "#636efa",
          "size": [
           7500,
           7500,
           7500,
           7500,
           7500
          ],
          "sizemode": "area",
          "sizeref": 375
         },
         "mode": "markers",
         "name": "University 51",
         "showlegend": true,
         "subplot": "mapbox",
         "type": "scattermapbox"
        },
        {
         "hovertemplate": "Customers=University 52<br>Invoice Amount=%{marker.size}<br>Lat=%{lat}<br>Long=%{lon}<extra></extra>",
         "lat": [
          39.033781,
          39.033781
         ],
         "legendgroup": "University 52",
         "lon": [
          -94.577827,
          -94.577827
         ],
         "marker": {
          "color": "#EF553B",
          "size": [
           12500,
           12500
          ],
          "sizemode": "area",
          "sizeref": 375
         },
         "mode": "markers",
         "name": "University 52",
         "showlegend": true,
         "subplot": "mapbox",
         "type": "scattermapbox"
        },
        {
         "hovertemplate": "Customers=University 53<br>Invoice Amount=%{marker.size}<br>Lat=%{lat}<br>Long=%{lon}<extra></extra>",
         "lat": [
          41.027843,
          41.027843,
          41.027843,
          41.027843
         ],
         "legendgroup": "University 53",
         "lon": [
          -73.92519300000002,
          -73.92519300000002,
          -73.92519300000002,
          -73.92519300000002
         ],
         "marker": {
          "color": "#00cc96",
          "size": [
           3000,
           3000,
           3000,
           3000
          ],
          "sizemode": "area",
          "sizeref": 375
         },
         "mode": "markers",
         "name": "University 53",
         "showlegend": true,
         "subplot": "mapbox",
         "type": "scattermapbox"
        },
        {
         "hovertemplate": "Customers=University 54<br>Invoice Amount=%{marker.size}<br>Lat=%{lat}<br>Long=%{lon}<extra></extra>",
         "lat": [
          32.302802
         ],
         "legendgroup": "University 54",
         "lon": [
          -90.183909
         ],
         "marker": {
          "color": "#ab63fa",
          "size": [
           4999
          ],
          "sizemode": "area",
          "sizeref": 375
         },
         "mode": "markers",
         "name": "University 54",
         "showlegend": true,
         "subplot": "mapbox",
         "type": "scattermapbox"
        },
        {
         "hovertemplate": "Customers=University 55<br>Invoice Amount=%{marker.size}<br>Lat=%{lat}<br>Long=%{lon}<extra></extra>",
         "lat": [
          29.558454
         ],
         "legendgroup": "University 55",
         "lon": [
          -95.786392
         ],
         "marker": {
          "color": "#FFA15A",
          "size": [
           4500
          ],
          "sizemode": "area",
          "sizeref": 375
         },
         "mode": "markers",
         "name": "University 55",
         "showlegend": true,
         "subplot": "mapbox",
         "type": "scattermapbox"
        },
        {
         "hovertemplate": "Customers=University 56<br>Invoice Amount=%{marker.size}<br>Lat=%{lat}<br>Long=%{lon}<extra></extra>",
         "lat": [
          38.049883,
          38.049883
         ],
         "legendgroup": "University 56",
         "lon": [
          -78.501288,
          -78.501288
         ],
         "marker": {
          "color": "#19d3f3",
          "size": [
           3000,
           3000
          ],
          "sizemode": "area",
          "sizeref": 375
         },
         "mode": "markers",
         "name": "University 56",
         "showlegend": true,
         "subplot": "mapbox",
         "type": "scattermapbox"
        },
        {
         "hovertemplate": "Customers=University 57<br>Invoice Amount=%{marker.size}<br>Lat=%{lat}<br>Long=%{lon}<extra></extra>",
         "lat": [
          37.981067
         ],
         "legendgroup": "University 57",
         "lon": [
          -121.308951
         ],
         "marker": {
          "color": "#FF6692",
          "size": [
           750
          ],
          "sizemode": "area",
          "sizeref": 375
         },
         "mode": "markers",
         "name": "University 57",
         "showlegend": true,
         "subplot": "mapbox",
         "type": "scattermapbox"
        },
        {
         "hovertemplate": "Customers=University 58<br>Invoice Amount=%{marker.size}<br>Lat=%{lat}<br>Long=%{lon}<extra></extra>",
         "lat": [
          -34.927341
         ],
         "legendgroup": "University 58",
         "lon": [
          138.602002
         ],
         "marker": {
          "color": "#B6E880",
          "size": [
           1500
          ],
          "sizemode": "area",
          "sizeref": 375
         },
         "mode": "markers",
         "name": "University 58",
         "showlegend": true,
         "subplot": "mapbox",
         "type": "scattermapbox"
        },
        {
         "hovertemplate": "Customers=University 59<br>Invoice Amount=%{marker.size}<br>Lat=%{lat}<br>Long=%{lon}<extra></extra>",
         "lat": [
          33.746861,
          33.746861
         ],
         "legendgroup": "University 59",
         "lon": [
          -90.736779,
          -90.736779
         ],
         "marker": {
          "color": "#FF97FF",
          "size": [
           10800,
           10800
          ],
          "sizemode": "area",
          "sizeref": 375
         },
         "mode": "markers",
         "name": "University 59",
         "showlegend": true,
         "subplot": "mapbox",
         "type": "scattermapbox"
        },
        {
         "hovertemplate": "Customers=University 60<br>Invoice Amount=%{marker.size}<br>Lat=%{lat}<br>Long=%{lon}<extra></extra>",
         "lat": [
          46.065081,
          46.065081
         ],
         "legendgroup": "University 60",
         "lon": [
          -118.32958700000002,
          -118.32958700000002
         ],
         "marker": {
          "color": "#FECB52",
          "size": [
           5300,
           5300
          ],
          "sizemode": "area",
          "sizeref": 375
         },
         "mode": "markers",
         "name": "University 60",
         "showlegend": true,
         "subplot": "mapbox",
         "type": "scattermapbox"
        },
        {
         "hovertemplate": "Customers=University 61<br>Invoice Amount=%{marker.size}<br>Lat=%{lat}<br>Long=%{lon}<extra></extra>",
         "lat": [
          35.99726300000001
         ],
         "legendgroup": "University 61",
         "lon": [
          -78.897667
         ],
         "marker": {
          "color": "#636efa",
          "size": [
           2630
          ],
          "sizemode": "area",
          "sizeref": 375
         },
         "mode": "markers",
         "name": "University 61",
         "showlegend": true,
         "subplot": "mapbox",
         "type": "scattermapbox"
        },
        {
         "hovertemplate": "Customers=University 62<br>Invoice Amount=%{marker.size}<br>Lat=%{lat}<br>Long=%{lon}<extra></extra>",
         "lat": [
          35.30615200000001
         ],
         "legendgroup": "University 62",
         "lon": [
          -80.734562
         ],
         "marker": {
          "color": "#EF553B",
          "size": [
           15750
          ],
          "sizemode": "area",
          "sizeref": 375
         },
         "mode": "markers",
         "name": "University 62",
         "showlegend": true,
         "subplot": "mapbox",
         "type": "scattermapbox"
        },
        {
         "hovertemplate": "Customers=University 63<br>Invoice Amount=%{marker.size}<br>Lat=%{lat}<br>Long=%{lon}<extra></extra>",
         "lat": [
          46.882198
         ],
         "legendgroup": "University 63",
         "lon": [
          -102.799866
         ],
         "marker": {
          "color": "#00cc96",
          "size": [
           2550
          ],
          "sizemode": "area",
          "sizeref": 375
         },
         "mode": "markers",
         "name": "University 63",
         "showlegend": true,
         "subplot": "mapbox",
         "type": "scattermapbox"
        },
        {
         "hovertemplate": "Customers=University 64<br>Invoice Amount=%{marker.size}<br>Lat=%{lat}<br>Long=%{lon}<extra></extra>",
         "lat": [
          39.73221,
          39.73221
         ],
         "legendgroup": "University 64",
         "lon": [
          -90.246947,
          -90.246947
         ],
         "marker": {
          "color": "#ab63fa",
          "size": [
           16500,
           16500
          ],
          "sizemode": "area",
          "sizeref": 375
         },
         "mode": "markers",
         "name": "University 64",
         "showlegend": true,
         "subplot": "mapbox",
         "type": "scattermapbox"
        },
        {
         "hovertemplate": "Customers=University 65<br>Invoice Amount=%{marker.size}<br>Lat=%{lat}<br>Long=%{lon}<extra></extra>",
         "lat": [
          39.088975
         ],
         "legendgroup": "University 65",
         "lon": [
          -94.58516
         ],
         "marker": {
          "color": "#FFA15A",
          "size": [
           750
          ],
          "sizemode": "area",
          "sizeref": 375
         },
         "mode": "markers",
         "name": "University 65",
         "showlegend": true,
         "subplot": "mapbox",
         "type": "scattermapbox"
        },
        {
         "hovertemplate": "Customers=University 66<br>Invoice Amount=%{marker.size}<br>Lat=%{lat}<br>Long=%{lon}<extra></extra>",
         "lat": [
          41.68339,
          41.68339
         ],
         "legendgroup": "University 66",
         "lon": [
          -72.767385,
          -72.767385
         ],
         "marker": {
          "color": "#19d3f3",
          "size": [
           18000,
           18000
          ],
          "sizemode": "area",
          "sizeref": 375
         },
         "mode": "markers",
         "name": "University 66",
         "showlegend": true,
         "subplot": "mapbox",
         "type": "scattermapbox"
        },
        {
         "hovertemplate": "Customers=University 67<br>Invoice Amount=%{marker.size}<br>Lat=%{lat}<br>Long=%{lon}<extra></extra>",
         "lat": [
          29.912261
         ],
         "legendgroup": "University 67",
         "lon": [
          -89.995129
         ],
         "marker": {
          "color": "#FF6692",
          "size": [
           4500
          ],
          "sizemode": "area",
          "sizeref": 375
         },
         "mode": "markers",
         "name": "University 67",
         "showlegend": true,
         "subplot": "mapbox",
         "type": "scattermapbox"
        },
        {
         "hovertemplate": "Customers=University 68<br>Invoice Amount=%{marker.size}<br>Lat=%{lat}<br>Long=%{lon}<extra></extra>",
         "lat": [
          31.750141,
          31.750141,
          31.750141
         ],
         "legendgroup": "University 68",
         "lon": [
          -93.097768,
          -93.097768,
          -93.097768
         ],
         "marker": {
          "color": "#B6E880",
          "size": [
           13000,
           13000,
           13000
          ],
          "sizemode": "area",
          "sizeref": 375
         },
         "mode": "markers",
         "name": "University 68",
         "showlegend": true,
         "subplot": "mapbox",
         "type": "scattermapbox"
        },
        {
         "hovertemplate": "Customers=University 69<br>Invoice Amount=%{marker.size}<br>Lat=%{lat}<br>Long=%{lon}<extra></extra>",
         "lat": [
          36.30044,
          36.30044,
          36.30044,
          36.30044
         ],
         "legendgroup": "University 69",
         "lon": [
          -82.362131,
          -82.362131,
          -82.362131,
          -82.362131
         ],
         "marker": {
          "color": "#FF97FF",
          "size": [
           18148,
           18148,
           18148,
           18148
          ],
          "sizemode": "area",
          "sizeref": 375
         },
         "mode": "markers",
         "name": "University 69",
         "showlegend": true,
         "subplot": "mapbox",
         "type": "scattermapbox"
        },
        {
         "hovertemplate": "Customers=University 70<br>Invoice Amount=%{marker.size}<br>Lat=%{lat}<br>Long=%{lon}<extra></extra>",
         "lat": [
          29.849649
         ],
         "legendgroup": "University 70",
         "lon": [
          -95.498476
         ],
         "marker": {
          "color": "#FECB52",
          "size": [
           3000
          ],
          "sizemode": "area",
          "sizeref": 375
         },
         "mode": "markers",
         "name": "University 70",
         "showlegend": true,
         "subplot": "mapbox",
         "type": "scattermapbox"
        },
        {
         "hovertemplate": "Customers=University 71<br>Invoice Amount=%{marker.size}<br>Lat=%{lat}<br>Long=%{lon}<extra></extra>",
         "lat": [
          33.498228999999995,
          33.498228999999995
         ],
         "legendgroup": "University 71",
         "lon": [
          -86.8073,
          -86.8073
         ],
         "marker": {
          "color": "#636efa",
          "size": [
           100000,
           100000
          ],
          "sizemode": "area",
          "sizeref": 375
         },
         "mode": "markers",
         "name": "University 71",
         "showlegend": true,
         "subplot": "mapbox",
         "type": "scattermapbox"
        },
        {
         "hovertemplate": "Customers=University 72<br>Invoice Amount=%{marker.size}<br>Lat=%{lat}<br>Long=%{lon}<extra></extra>",
         "lat": [
          33.980705,
          34.05945,
          33.980705,
          33.980705,
          33.980705,
          33.980705,
          33.980705
         ],
         "legendgroup": "University 72",
         "lon": [
          -84.00120799999998,
          -84.05721199999998,
          -84.00120799999998,
          -84.00120799999998,
          -84.00120799999998,
          -84.00120799999998,
          -84.00120799999998
         ],
         "marker": {
          "color": "#EF553B",
          "size": [
           17350,
           17350,
           17350,
           17350,
           17350,
           17350,
           17350
          ],
          "sizemode": "area",
          "sizeref": 375
         },
         "mode": "markers",
         "name": "University 72",
         "showlegend": true,
         "subplot": "mapbox",
         "type": "scattermapbox"
        },
        {
         "hovertemplate": "Customers=University 73<br>Invoice Amount=%{marker.size}<br>Lat=%{lat}<br>Long=%{lon}<extra></extra>",
         "lat": [
          33.994748
         ],
         "legendgroup": "University 73",
         "lon": [
          -118.08086000000002
         ],
         "marker": {
          "color": "#00cc96",
          "size": [
           5880
          ],
          "sizemode": "area",
          "sizeref": 375
         },
         "mode": "markers",
         "name": "University 73",
         "showlegend": true,
         "subplot": "mapbox",
         "type": "scattermapbox"
        },
        {
         "hovertemplate": "Customers=University 74<br>Invoice Amount=%{marker.size}<br>Lat=%{lat}<br>Long=%{lon}<extra></extra>",
         "lat": [
          32.432158
         ],
         "legendgroup": "University 74",
         "lon": [
          -93.701816
         ],
         "marker": {
          "color": "#ab63fa",
          "size": [
           1750
          ],
          "sizemode": "area",
          "sizeref": 375
         },
         "mode": "markers",
         "name": "University 74",
         "showlegend": true,
         "subplot": "mapbox",
         "type": "scattermapbox"
        },
        {
         "hovertemplate": "Customers=University 75<br>Invoice Amount=%{marker.size}<br>Lat=%{lat}<br>Long=%{lon}<extra></extra>",
         "lat": [
          39.189982,
          39.189982,
          39.189982,
          39.189982
         ],
         "legendgroup": "University 75",
         "lon": [
          -96.578842,
          -96.578842,
          -96.578842,
          -96.578842
         ],
         "marker": {
          "color": "#FFA15A",
          "size": [
           28500,
           28500,
           28500,
           28500
          ],
          "sizemode": "area",
          "sizeref": 375
         },
         "mode": "markers",
         "name": "University 75",
         "showlegend": true,
         "subplot": "mapbox",
         "type": "scattermapbox"
        },
        {
         "hovertemplate": "Customers=University 76<br>Invoice Amount=%{marker.size}<br>Lat=%{lat}<br>Long=%{lon}<extra></extra>",
         "lat": [
          34.497007
         ],
         "legendgroup": "University 76",
         "lon": [
          -114.331063
         ],
         "marker": {
          "color": "#19d3f3",
          "size": [
           6300
          ],
          "sizemode": "area",
          "sizeref": 375
         },
         "mode": "markers",
         "name": "University 76",
         "showlegend": true,
         "subplot": "mapbox",
         "type": "scattermapbox"
        },
        {
         "hovertemplate": "Customers=University 77<br>Invoice Amount=%{marker.size}<br>Lat=%{lat}<br>Long=%{lon}<extra></extra>",
         "lat": [
          35.847744,
          35.847744
         ],
         "legendgroup": "University 77",
         "lon": [
          -86.363676,
          -86.363676
         ],
         "marker": {
          "color": "#FF6692",
          "size": [
           25200,
           25200
          ],
          "sizemode": "area",
          "sizeref": 375
         },
         "mode": "markers",
         "name": "University 77",
         "showlegend": true,
         "subplot": "mapbox",
         "type": "scattermapbox"
        },
        {
         "hovertemplate": "Customers=University 78<br>Invoice Amount=%{marker.size}<br>Lat=%{lat}<br>Long=%{lon}<extra></extra>",
         "lat": [
          41.27981
         ],
         "legendgroup": "University 78",
         "lon": [
          -105.59022
         ],
         "marker": {
          "color": "#B6E880",
          "size": [
           6300
          ],
          "sizemode": "area",
          "sizeref": 375
         },
         "mode": "markers",
         "name": "University 78",
         "showlegend": true,
         "subplot": "mapbox",
         "type": "scattermapbox"
        },
        {
         "hovertemplate": "Customers=University 79<br>Invoice Amount=%{marker.size}<br>Lat=%{lat}<br>Long=%{lon}<extra></extra>",
         "lat": [
          36.045904
         ],
         "legendgroup": "University 79",
         "lon": [
          -114.980388
         ],
         "marker": {
          "color": "#FF97FF",
          "size": [
           2560
          ],
          "sizemode": "area",
          "sizeref": 375
         },
         "mode": "markers",
         "name": "University 79",
         "showlegend": true,
         "subplot": "mapbox",
         "type": "scattermapbox"
        },
        {
         "hovertemplate": "Customers=University 80<br>Invoice Amount=%{marker.size}<br>Lat=%{lat}<br>Long=%{lon}<extra></extra>",
         "lat": [
          35.40913300000001,
          35.40913300000001
         ],
         "legendgroup": "University 80",
         "lon": [
          -78.73821099999998,
          -78.73821099999998
         ],
         "marker": {
          "color": "#FECB52",
          "size": [
           4400,
           4400
          ],
          "sizemode": "area",
          "sizeref": 375
         },
         "mode": "markers",
         "name": "University 80",
         "showlegend": true,
         "subplot": "mapbox",
         "type": "scattermapbox"
        },
        {
         "hovertemplate": "Customers=University 81<br>Invoice Amount=%{marker.size}<br>Lat=%{lat}<br>Long=%{lon}<extra></extra>",
         "lat": [
          34.223991,
          34.223991,
          34.223991,
          34.223991,
          34.223991,
          34.223991
         ],
         "legendgroup": "University 81",
         "lon": [
          -77.86776400000002,
          -77.86776400000002,
          -77.86776400000002,
          -77.86776400000002,
          -77.86776400000002,
          -77.86776400000002
         ],
         "marker": {
          "color": "#636efa",
          "size": [
           21030,
           21030,
           21030,
           21030,
           21030,
           21030
          ],
          "sizemode": "area",
          "sizeref": 375
         },
         "mode": "markers",
         "name": "University 81",
         "showlegend": true,
         "subplot": "mapbox",
         "type": "scattermapbox"
        },
        {
         "hovertemplate": "Customers=University 82<br>Invoice Amount=%{marker.size}<br>Lat=%{lat}<br>Long=%{lon}<extra></extra>",
         "lat": [
          31.327811,
          31.327811,
          31.327811,
          31.327811
         ],
         "legendgroup": "University 82",
         "lon": [
          -89.332063,
          -89.332063,
          -89.332063,
          -89.332063
         ],
         "marker": {
          "color": "#EF553B",
          "size": [
           5800,
           5800,
           5800,
           5800
          ],
          "sizemode": "area",
          "sizeref": 375
         },
         "mode": "markers",
         "name": "University 82",
         "showlegend": true,
         "subplot": "mapbox",
         "type": "scattermapbox"
        },
        {
         "hovertemplate": "Customers=University 83<br>Invoice Amount=%{marker.size}<br>Lat=%{lat}<br>Long=%{lon}<extra></extra>",
         "lat": [
          38.187538
         ],
         "legendgroup": "University 83",
         "lon": [
          -84.84676400000002
         ],
         "marker": {
          "color": "#00cc96",
          "size": [
           7560
          ],
          "sizemode": "area",
          "sizeref": 375
         },
         "mode": "markers",
         "name": "University 83",
         "showlegend": true,
         "subplot": "mapbox",
         "type": "scattermapbox"
        },
        {
         "hovertemplate": "Customers=University 84<br>Invoice Amount=%{marker.size}<br>Lat=%{lat}<br>Long=%{lon}<extra></extra>",
         "lat": [
          32.527899,
          32.527899
         ],
         "legendgroup": "University 84",
         "lon": [
          -92.074492,
          -92.074492
         ],
         "marker": {
          "color": "#ab63fa",
          "size": [
           4000,
           4000
          ],
          "sizemode": "area",
          "sizeref": 375
         },
         "mode": "markers",
         "name": "University 84",
         "showlegend": true,
         "subplot": "mapbox",
         "type": "scattermapbox"
        },
        {
         "hovertemplate": "Customers=University 85<br>Invoice Amount=%{marker.size}<br>Lat=%{lat}<br>Long=%{lon}<extra></extra>",
         "lat": [
          35.803142
         ],
         "legendgroup": "University 85",
         "lon": [
          -78.67826099999998
         ],
         "marker": {
          "color": "#FFA15A",
          "size": [
           1500
          ],
          "sizemode": "area",
          "sizeref": 375
         },
         "mode": "markers",
         "name": "University 85",
         "showlegend": true,
         "subplot": "mapbox",
         "type": "scattermapbox"
        },
        {
         "hovertemplate": "Customers=University 86<br>Invoice Amount=%{marker.size}<br>Lat=%{lat}<br>Long=%{lon}<extra></extra>",
         "lat": [
          33.411341
         ],
         "legendgroup": "University 86",
         "lon": [
          -112.01269
         ],
         "marker": {
          "color": "#19d3f3",
          "size": [
           12500
          ],
          "sizemode": "area",
          "sizeref": 375
         },
         "mode": "markers",
         "name": "University 86",
         "showlegend": true,
         "subplot": "mapbox",
         "type": "scattermapbox"
        },
        {
         "hovertemplate": "Customers=University 87<br>Invoice Amount=%{marker.size}<br>Lat=%{lat}<br>Long=%{lon}<extra></extra>",
         "lat": [
          30.025674
         ],
         "legendgroup": "University 87",
         "lon": [
          -90.044837
         ],
         "marker": {
          "color": "#FF6692",
          "size": [
           2000
          ],
          "sizemode": "area",
          "sizeref": 375
         },
         "mode": "markers",
         "name": "University 87",
         "showlegend": true,
         "subplot": "mapbox",
         "type": "scattermapbox"
        },
        {
         "hovertemplate": "Customers=University 88<br>Invoice Amount=%{marker.size}<br>Lat=%{lat}<br>Long=%{lon}<extra></extra>",
         "lat": [
          33.412756
         ],
         "legendgroup": "University 88",
         "lon": [
          -111.974037
         ],
         "marker": {
          "color": "#B6E880",
          "size": [
           26250
          ],
          "sizemode": "area",
          "sizeref": 375
         },
         "mode": "markers",
         "name": "University 88",
         "showlegend": true,
         "subplot": "mapbox",
         "type": "scattermapbox"
        },
        {
         "hovertemplate": "Customers=University 89<br>Invoice Amount=%{marker.size}<br>Lat=%{lat}<br>Long=%{lon}<extra></extra>",
         "lat": [
          38.873463
         ],
         "legendgroup": "University 89",
         "lon": [
          -77.083371
         ],
         "marker": {
          "color": "#FF97FF",
          "size": [
           750
          ],
          "sizemode": "area",
          "sizeref": 375
         },
         "mode": "markers",
         "name": "University 89",
         "showlegend": true,
         "subplot": "mapbox",
         "type": "scattermapbox"
        },
        {
         "hovertemplate": "Customers=University 90<br>Invoice Amount=%{marker.size}<br>Lat=%{lat}<br>Long=%{lon}<extra></extra>",
         "lat": [
          31.87571
         ],
         "legendgroup": "University 90",
         "lon": [
          -91.141739
         ],
         "marker": {
          "color": "#FECB52",
          "size": [
           1700
          ],
          "sizemode": "area",
          "sizeref": 375
         },
         "mode": "markers",
         "name": "University 90",
         "showlegend": true,
         "subplot": "mapbox",
         "type": "scattermapbox"
        },
        {
         "hovertemplate": "Customers=University 91<br>Invoice Amount=%{marker.size}<br>Lat=%{lat}<br>Long=%{lon}<extra></extra>",
         "lat": [
          32.595875
         ],
         "legendgroup": "University 91",
         "lon": [
          -92.609638
         ],
         "marker": {
          "color": "#636efa",
          "size": [
           2700
          ],
          "sizemode": "area",
          "sizeref": 375
         },
         "mode": "markers",
         "name": "University 91",
         "showlegend": true,
         "subplot": "mapbox",
         "type": "scattermapbox"
        },
        {
         "hovertemplate": "Customers=University 92<br>Invoice Amount=%{marker.size}<br>Lat=%{lat}<br>Long=%{lon}<extra></extra>",
         "lat": [
          36.53188,
          36.53188,
          36.53188,
          36.53188
         ],
         "legendgroup": "University 92",
         "lon": [
          -87.35472,
          -87.35472,
          -87.35472,
          -87.35472
         ],
         "marker": {
          "color": "#EF553B",
          "size": [
           14000,
           14000,
           14000,
           14000
          ],
          "sizemode": "area",
          "sizeref": 375
         },
         "mode": "markers",
         "name": "University 92",
         "showlegend": true,
         "subplot": "mapbox",
         "type": "scattermapbox"
        },
        {
         "hovertemplate": "Customers=University 93<br>Invoice Amount=%{marker.size}<br>Lat=%{lat}<br>Long=%{lon}<extra></extra>",
         "lat": [
          36.302022,
          36.302022,
          36.302022
         ],
         "legendgroup": "University 93",
         "lon": [
          -82.294791,
          -82.294791,
          -82.294791
         ],
         "marker": {
          "color": "#00cc96",
          "size": [
           2500,
           2500,
           2500
          ],
          "sizemode": "area",
          "sizeref": 375
         },
         "mode": "markers",
         "name": "University 93",
         "showlegend": true,
         "subplot": "mapbox",
         "type": "scattermapbox"
        },
        {
         "hovertemplate": "Customers=University 94<br>Invoice Amount=%{marker.size}<br>Lat=%{lat}<br>Long=%{lon}<extra></extra>",
         "lat": [
          35.669625,
          35.669625,
          35.669625
         ],
         "legendgroup": "University 94",
         "lon": [
          -105.952009,
          -105.952009,
          -105.952009
         ],
         "marker": {
          "color": "#ab63fa",
          "size": [
           1000,
           1000,
           1000
          ],
          "sizemode": "area",
          "sizeref": 375
         },
         "mode": "markers",
         "name": "University 94",
         "showlegend": true,
         "subplot": "mapbox",
         "type": "scattermapbox"
        },
        {
         "hovertemplate": "Customers=University 95<br>Invoice Amount=%{marker.size}<br>Lat=%{lat}<br>Long=%{lon}<extra></extra>",
         "lat": [
          45.510138
         ],
         "legendgroup": "University 95",
         "lon": [
          -122.680312
         ],
         "marker": {
          "color": "#FFA15A",
          "size": [
           2750
          ],
          "sizemode": "area",
          "sizeref": 375
         },
         "mode": "markers",
         "name": "University 95",
         "showlegend": true,
         "subplot": "mapbox",
         "type": "scattermapbox"
        },
        {
         "hovertemplate": "Customers=University 96<br>Invoice Amount=%{marker.size}<br>Lat=%{lat}<br>Long=%{lon}<extra></extra>",
         "lat": [
          35.611135,
          35.611135,
          35.611135,
          35.611135,
          35.611135,
          35.611135,
          35.611135
         ],
         "legendgroup": "University 96",
         "lon": [
          -77.408715,
          -77.408715,
          -77.408715,
          -77.408715,
          -77.408715,
          -77.408715,
          -77.408715
         ],
         "marker": {
          "color": "#19d3f3",
          "size": [
           18275,
           18275,
           18275,
           18275,
           18275,
           18275,
           18275
          ],
          "sizemode": "area",
          "sizeref": 375
         },
         "mode": "markers",
         "name": "University 96",
         "showlegend": true,
         "subplot": "mapbox",
         "type": "scattermapbox"
        },
        {
         "hovertemplate": "Customers=University 97<br>Invoice Amount=%{marker.size}<br>Lat=%{lat}<br>Long=%{lon}<extra></extra>",
         "lat": [
          40.277261,
          40.277261
         ],
         "legendgroup": "University 97",
         "lon": [
          -111.7129,
          -111.7129
         ],
         "marker": {
          "color": "#FF6692",
          "size": [
           14000,
           14000
          ],
          "sizemode": "area",
          "sizeref": 375
         },
         "mode": "markers",
         "name": "University 97",
         "showlegend": true,
         "subplot": "mapbox",
         "type": "scattermapbox"
        },
        {
         "hovertemplate": "Customers=University 98<br>Invoice Amount=%{marker.size}<br>Lat=%{lat}<br>Long=%{lon}<extra></extra>",
         "lat": [
          34.785061
         ],
         "legendgroup": "University 98",
         "lon": [
          -86.57328000000003
         ],
         "marker": {
          "color": "#B6E880",
          "size": [
           5460
          ],
          "sizemode": "area",
          "sizeref": 375
         },
         "mode": "markers",
         "name": "University 98",
         "showlegend": true,
         "subplot": "mapbox",
         "type": "scattermapbox"
        },
        {
         "hovertemplate": "Customers=University 99<br>Invoice Amount=%{marker.size}<br>Lat=%{lat}<br>Long=%{lon}<extra></extra>",
         "lat": [
          35.78502,
          35.78502,
          35.78502
         ],
         "legendgroup": "University 99",
         "lon": [
          -78.66534,
          -78.66534,
          -78.66534
         ],
         "marker": {
          "color": "#FF97FF",
          "size": [
           14500,
           14500,
           14500
          ],
          "sizemode": "area",
          "sizeref": 375
         },
         "mode": "markers",
         "name": "University 99",
         "showlegend": true,
         "subplot": "mapbox",
         "type": "scattermapbox"
        },
        {
         "hovertemplate": "Customers=University 100<br>Invoice Amount=%{marker.size}<br>Lat=%{lat}<br>Long=%{lon}<extra></extra>",
         "lat": [
          39.598072
         ],
         "legendgroup": "University 100",
         "lon": [
          -77.764449
         ],
         "marker": {
          "color": "#FECB52",
          "size": [
           5775
          ],
          "sizemode": "area",
          "sizeref": 375
         },
         "mode": "markers",
         "name": "University 100",
         "showlegend": true,
         "subplot": "mapbox",
         "type": "scattermapbox"
        },
        {
         "hovertemplate": "Customers=University 101<br>Invoice Amount=%{marker.size}<br>Lat=%{lat}<br>Long=%{lon}<extra></extra>",
         "lat": [
          42.298693,
          42.298693
         ],
         "legendgroup": "University 101",
         "lon": [
          -71.073436,
          -71.073436
         ],
         "marker": {
          "color": "#636efa",
          "size": [
           1000,
           1000
          ],
          "sizemode": "area",
          "sizeref": 375
         },
         "mode": "markers",
         "name": "University 101",
         "showlegend": true,
         "subplot": "mapbox",
         "type": "scattermapbox"
        },
        {
         "hovertemplate": "Customers=University 102<br>Invoice Amount=%{marker.size}<br>Lat=%{lat}<br>Long=%{lon}<extra></extra>",
         "lat": [
          32.502968
         ],
         "legendgroup": "University 102",
         "lon": [
          -84.939428
         ],
         "marker": {
          "color": "#EF553B",
          "size": [
           15750
          ],
          "sizemode": "area",
          "sizeref": 375
         },
         "mode": "markers",
         "name": "University 102",
         "showlegend": true,
         "subplot": "mapbox",
         "type": "scattermapbox"
        },
        {
         "hovertemplate": "Customers=University 103<br>Invoice Amount=%{marker.size}<br>Lat=%{lat}<br>Long=%{lon}<extra></extra>",
         "lat": [
          34.278778
         ],
         "legendgroup": "University 103",
         "lon": [
          -85.169274
         ],
         "marker": {
          "color": "#00cc96",
          "size": [
           6825
          ],
          "sizemode": "area",
          "sizeref": 375
         },
         "mode": "markers",
         "name": "University 103",
         "showlegend": true,
         "subplot": "mapbox",
         "type": "scattermapbox"
        },
        {
         "hovertemplate": "Customers=University 104<br>Invoice Amount=%{marker.size}<br>Lat=%{lat}<br>Long=%{lon}<extra></extra>",
         "lat": [
          null,
          null
         ],
         "legendgroup": "University 104",
         "lon": [
          null,
          null
         ],
         "marker": {
          "color": "#ab63fa",
          "size": [
           2900,
           2900
          ],
          "sizemode": "area",
          "sizeref": 375
         },
         "mode": "markers",
         "name": "University 104",
         "showlegend": true,
         "subplot": "mapbox",
         "type": "scattermapbox"
        },
        {
         "hovertemplate": "Customers=University 105<br>Invoice Amount=%{marker.size}<br>Lat=%{lat}<br>Long=%{lon}<extra></extra>",
         "lat": [
          33.210856,
          33.210856,
          33.210856
         ],
         "legendgroup": "University 105",
         "lon": [
          -97.147165,
          -97.147165,
          -97.147165
         ],
         "marker": {
          "color": "#FFA15A",
          "size": [
           6800,
           6800,
           6800
          ],
          "sizemode": "area",
          "sizeref": 375
         },
         "mode": "markers",
         "name": "University 105",
         "showlegend": true,
         "subplot": "mapbox",
         "type": "scattermapbox"
        },
        {
         "hovertemplate": "Customers=University 106<br>Invoice Amount=%{marker.size}<br>Lat=%{lat}<br>Long=%{lon}<extra></extra>",
         "lat": [
          37.334492,
          37.334492,
          37.334492,
          37.334492,
          37.334492
         ],
         "legendgroup": "University 106",
         "lon": [
          -121.879842,
          -121.879842,
          -121.879842,
          -121.879842,
          -121.879842
         ],
         "marker": {
          "color": "#19d3f3",
          "size": [
           12700,
           12700,
           12700,
           12700,
           12700
          ],
          "sizemode": "area",
          "sizeref": 375
         },
         "mode": "markers",
         "name": "University 106",
         "showlegend": true,
         "subplot": "mapbox",
         "type": "scattermapbox"
        },
        {
         "hovertemplate": "Customers=University 107<br>Invoice Amount=%{marker.size}<br>Lat=%{lat}<br>Long=%{lon}<extra></extra>",
         "lat": [
          null
         ],
         "legendgroup": "University 107",
         "lon": [
          null
         ],
         "marker": {
          "color": "#FF6692",
          "size": [
           300
          ],
          "sizemode": "area",
          "sizeref": 375
         },
         "mode": "markers",
         "name": "University 107",
         "showlegend": true,
         "subplot": "mapbox",
         "type": "scattermapbox"
        },
        {
         "hovertemplate": "Customers=University 108<br>Invoice Amount=%{marker.size}<br>Lat=%{lat}<br>Long=%{lon}<extra></extra>",
         "lat": [
          41.331299
         ],
         "legendgroup": "University 108",
         "lon": [
          -72.92144
         ],
         "marker": {
          "color": "#B6E880",
          "size": [
           5670
          ],
          "sizemode": "area",
          "sizeref": 375
         },
         "mode": "markers",
         "name": "University 108",
         "showlegend": true,
         "subplot": "mapbox",
         "type": "scattermapbox"
        },
        {
         "hovertemplate": "Customers=University 109<br>Invoice Amount=%{marker.size}<br>Lat=%{lat}<br>Long=%{lon}<extra></extra>",
         "lat": [
          32.581327,
          32.581327
         ],
         "legendgroup": "University 109",
         "lon": [
          -88.18576800000002,
          -88.18576800000002
         ],
         "marker": {
          "color": "#FF97FF",
          "size": [
           6362.5,
           6362.5
          ],
          "sizemode": "area",
          "sizeref": 375
         },
         "mode": "markers",
         "name": "University 109",
         "showlegend": true,
         "subplot": "mapbox",
         "type": "scattermapbox"
        },
        {
         "hovertemplate": "Customers=University 110<br>Invoice Amount=%{marker.size}<br>Lat=%{lat}<br>Long=%{lon}<extra></extra>",
         "lat": [
          33.516737,
          33.516737,
          33.516737
         ],
         "legendgroup": "University 110",
         "lon": [
          -86.85171,
          -86.85171,
          -86.85171
         ],
         "marker": {
          "color": "#FECB52",
          "size": [
           3500,
           3500,
           3500
          ],
          "sizemode": "area",
          "sizeref": 375
         },
         "mode": "markers",
         "name": "University 110",
         "showlegend": true,
         "subplot": "mapbox",
         "type": "scattermapbox"
        },
        {
         "hovertemplate": "Customers=University 111<br>Invoice Amount=%{marker.size}<br>Lat=%{lat}<br>Long=%{lon}<extra></extra>",
         "lat": [
          33.47746
         ],
         "legendgroup": "University 111",
         "lon": [
          -86.80564100000002
         ],
         "marker": {
          "color": "#636efa",
          "size": [
           6300
          ],
          "sizemode": "area",
          "sizeref": 375
         },
         "mode": "markers",
         "name": "University 111",
         "showlegend": true,
         "subplot": "mapbox",
         "type": "scattermapbox"
        },
        {
         "hovertemplate": "Customers=University 112<br>Invoice Amount=%{marker.size}<br>Lat=%{lat}<br>Long=%{lon}<extra></extra>",
         "lat": [
          null
         ],
         "legendgroup": "University 112",
         "lon": [
          null
         ],
         "marker": {
          "color": "#EF553B",
          "size": [
           1500
          ],
          "sizemode": "area",
          "sizeref": 375
         },
         "mode": "markers",
         "name": "University 112",
         "showlegend": true,
         "subplot": "mapbox",
         "type": "scattermapbox"
        },
        {
         "hovertemplate": "Customers=University 113<br>Invoice Amount=%{marker.size}<br>Lat=%{lat}<br>Long=%{lon}<extra></extra>",
         "lat": [
          null
         ],
         "legendgroup": "University 113",
         "lon": [
          null
         ],
         "marker": {
          "color": "#00cc96",
          "size": [
           3600
          ],
          "sizemode": "area",
          "sizeref": 375
         },
         "mode": "markers",
         "name": "University 113",
         "showlegend": true,
         "subplot": "mapbox",
         "type": "scattermapbox"
        },
        {
         "hovertemplate": "Customers=University 114<br>Invoice Amount=%{marker.size}<br>Lat=%{lat}<br>Long=%{lon}<extra></extra>",
         "lat": [
          38.829487,
          38.829487
         ],
         "legendgroup": "University 114",
         "lon": [
          -77.117672,
          -77.117672
         ],
         "marker": {
          "color": "#ab63fa",
          "size": [
           3230,
           3230
          ],
          "sizemode": "area",
          "sizeref": 375
         },
         "mode": "markers",
         "name": "University 114",
         "showlegend": true,
         "subplot": "mapbox",
         "type": "scattermapbox"
        },
        {
         "hovertemplate": "Customers=University 115<br>Invoice Amount=%{marker.size}<br>Lat=%{lat}<br>Long=%{lon}<extra></extra>",
         "lat": [
          36.409388,
          36.409388
         ],
         "legendgroup": "University 115",
         "lon": [
          -105.575909,
          -105.575909
         ],
         "marker": {
          "color": "#FFA15A",
          "size": [
           1020,
           1020
          ],
          "sizemode": "area",
          "sizeref": 375
         },
         "mode": "markers",
         "name": "University 115",
         "showlegend": true,
         "subplot": "mapbox",
         "type": "scattermapbox"
        },
        {
         "hovertemplate": "Customers=University 116<br>Invoice Amount=%{marker.size}<br>Lat=%{lat}<br>Long=%{lon}<extra></extra>",
         "lat": [
          38.93739,
          38.93739
         ],
         "legendgroup": "University 116",
         "lon": [
          -77.0892,
          -77.0892
         ],
         "marker": {
          "color": "#19d3f3",
          "size": [
           5000,
           5000
          ],
          "sizemode": "area",
          "sizeref": 375
         },
         "mode": "markers",
         "name": "University 116",
         "showlegend": true,
         "subplot": "mapbox",
         "type": "scattermapbox"
        },
        {
         "hovertemplate": "Customers=University 117<br>Invoice Amount=%{marker.size}<br>Lat=%{lat}<br>Long=%{lon}<extra></extra>",
         "lat": [
          null,
          null,
          null
         ],
         "legendgroup": "University 117",
         "lon": [
          null,
          null,
          null
         ],
         "marker": {
          "color": "#FF6692",
          "size": [
           16500,
           16500,
           16500
          ],
          "sizemode": "area",
          "sizeref": 375
         },
         "mode": "markers",
         "name": "University 117",
         "showlegend": true,
         "subplot": "mapbox",
         "type": "scattermapbox"
        },
        {
         "hovertemplate": "Customers=University 118<br>Invoice Amount=%{marker.size}<br>Lat=%{lat}<br>Long=%{lon}<extra></extra>",
         "lat": [
          37.546856
         ],
         "legendgroup": "University 118",
         "lon": [
          -77.453638
         ],
         "marker": {
          "color": "#B6E880",
          "size": [
           2700
          ],
          "sizemode": "area",
          "sizeref": 375
         },
         "mode": "markers",
         "name": "University 118",
         "showlegend": true,
         "subplot": "mapbox",
         "type": "scattermapbox"
        },
        {
         "hovertemplate": "Customers=University 119<br>Invoice Amount=%{marker.size}<br>Lat=%{lat}<br>Long=%{lon}<extra></extra>",
         "lat": [
          37.981987,
          37.981987,
          37.981987
         ],
         "legendgroup": "University 119",
         "lon": [
          -121.30867,
          -121.30867,
          -121.30867
         ],
         "marker": {
          "color": "#FF97FF",
          "size": [
           6250,
           6250,
           6250
          ],
          "sizemode": "area",
          "sizeref": 375
         },
         "mode": "markers",
         "name": "University 119",
         "showlegend": true,
         "subplot": "mapbox",
         "type": "scattermapbox"
        },
        {
         "hovertemplate": "Customers=University 120<br>Invoice Amount=%{marker.size}<br>Lat=%{lat}<br>Long=%{lon}<extra></extra>",
         "lat": [
          34.941683000000005,
          34.941683000000005,
          34.941683000000005
         ],
         "legendgroup": "University 120",
         "lon": [
          -81.029894,
          -81.029894,
          -81.029894
         ],
         "marker": {
          "color": "#FECB52",
          "size": [
           6000,
           6000,
           6000
          ],
          "sizemode": "area",
          "sizeref": 375
         },
         "mode": "markers",
         "name": "University 120",
         "showlegend": true,
         "subplot": "mapbox",
         "type": "scattermapbox"
        },
        {
         "hovertemplate": "Customers=University 121<br>Invoice Amount=%{marker.size}<br>Lat=%{lat}<br>Long=%{lon}<extra></extra>",
         "lat": [
          33.974234,
          33.974234,
          33.974234,
          33.974234
         ],
         "legendgroup": "University 121",
         "lon": [
          -117.327129,
          -117.327129,
          -117.327129,
          -117.327129
         ],
         "marker": {
          "color": "#636efa",
          "size": [
           5750,
           5750,
           5750,
           5750
          ],
          "sizemode": "area",
          "sizeref": 375
         },
         "mode": "markers",
         "name": "University 121",
         "showlegend": true,
         "subplot": "mapbox",
         "type": "scattermapbox"
        },
        {
         "hovertemplate": "Customers=University 122<br>Invoice Amount=%{marker.size}<br>Lat=%{lat}<br>Long=%{lon}<extra></extra>",
         "lat": [
          35.09241
         ],
         "legendgroup": "University 122",
         "lon": [
          -106.64295
         ],
         "marker": {
          "color": "#EF553B",
          "size": [
           2270
          ],
          "sizemode": "area",
          "sizeref": 375
         },
         "mode": "markers",
         "name": "University 122",
         "showlegend": true,
         "subplot": "mapbox",
         "type": "scattermapbox"
        },
        {
         "hovertemplate": "Customers=University 123<br>Invoice Amount=%{marker.size}<br>Lat=%{lat}<br>Long=%{lon}<extra></extra>",
         "lat": [
          34.934079,
          34.934079
         ],
         "legendgroup": "University 123",
         "lon": [
          -83.846801,
          -83.846801
         ],
         "marker": {
          "color": "#00cc96",
          "size": [
           3350,
           3350
          ],
          "sizemode": "area",
          "sizeref": 375
         },
         "mode": "markers",
         "name": "University 123",
         "showlegend": true,
         "subplot": "mapbox",
         "type": "scattermapbox"
        },
        {
         "hovertemplate": "Customers=University 124<br>Invoice Amount=%{marker.size}<br>Lat=%{lat}<br>Long=%{lon}<extra></extra>",
         "lat": [
          37.426347,
          37.426347,
          37.426347,
          37.426347,
          37.426347,
          37.426347
         ],
         "legendgroup": "University 124",
         "lon": [
          -122.168351,
          -122.168351,
          -122.168351,
          -122.168351,
          -122.168351,
          -122.168351
         ],
         "marker": {
          "color": "#ab63fa",
          "size": [
           4506,
           4506,
           4506,
           4506,
           4506,
           4506
          ],
          "sizemode": "area",
          "sizeref": 375
         },
         "mode": "markers",
         "name": "University 124",
         "showlegend": true,
         "subplot": "mapbox",
         "type": "scattermapbox"
        },
        {
         "hovertemplate": "Customers=University 125<br>Invoice Amount=%{marker.size}<br>Lat=%{lat}<br>Long=%{lon}<extra></extra>",
         "lat": [
          35.597141,
          35.597141
         ],
         "legendgroup": "University 125",
         "lon": [
          -77.400734,
          -77.400734
         ],
         "marker": {
          "color": "#FFA15A",
          "size": [
           3000,
           3000
          ],
          "sizemode": "area",
          "sizeref": 375
         },
         "mode": "markers",
         "name": "University 125",
         "showlegend": true,
         "subplot": "mapbox",
         "type": "scattermapbox"
        },
        {
         "hovertemplate": "Customers=University 126<br>Invoice Amount=%{marker.size}<br>Lat=%{lat}<br>Long=%{lon}<extra></extra>",
         "lat": [
          39.769704
         ],
         "legendgroup": "University 126",
         "lon": [
          -86.16018000000003
         ],
         "marker": {
          "color": "#19d3f3",
          "size": [
           6850
          ],
          "sizemode": "area",
          "sizeref": 375
         },
         "mode": "markers",
         "name": "University 126",
         "showlegend": true,
         "subplot": "mapbox",
         "type": "scattermapbox"
        },
        {
         "hovertemplate": "Customers=University 127<br>Invoice Amount=%{marker.size}<br>Lat=%{lat}<br>Long=%{lon}<extra></extra>",
         "lat": [
          35.248064
         ],
         "legendgroup": "University 127",
         "lon": [
          -81.414194
         ],
         "marker": {
          "color": "#FF6692",
          "size": [
           1000
          ],
          "sizemode": "area",
          "sizeref": 375
         },
         "mode": "markers",
         "name": "University 127",
         "showlegend": true,
         "subplot": "mapbox",
         "type": "scattermapbox"
        },
        {
         "hovertemplate": "Customers=University 128<br>Invoice Amount=%{marker.size}<br>Lat=%{lat}<br>Long=%{lon}<extra></extra>",
         "lat": [
          32.981204,
          32.981204
         ],
         "legendgroup": "University 128",
         "lon": [
          -80.071966,
          -80.071966
         ],
         "marker": {
          "color": "#B6E880",
          "size": [
           12050,
           12050
          ],
          "sizemode": "area",
          "sizeref": 375
         },
         "mode": "markers",
         "name": "University 128",
         "showlegend": true,
         "subplot": "mapbox",
         "type": "scattermapbox"
        },
        {
         "hovertemplate": "Customers=University 129<br>Invoice Amount=%{marker.size}<br>Lat=%{lat}<br>Long=%{lon}<extra></extra>",
         "lat": [
          43.039739
         ],
         "legendgroup": "University 129",
         "lon": [
          -71.454722
         ],
         "marker": {
          "color": "#FF97FF",
          "size": [
           1000
          ],
          "sizemode": "area",
          "sizeref": 375
         },
         "mode": "markers",
         "name": "University 129",
         "showlegend": true,
         "subplot": "mapbox",
         "type": "scattermapbox"
        },
        {
         "hovertemplate": "Customers=University 130<br>Invoice Amount=%{marker.size}<br>Lat=%{lat}<br>Long=%{lon}<extra></extra>",
         "lat": [
          41.446696,
          41.446696,
          41.446696
         ],
         "legendgroup": "University 130",
         "lon": [
          -87.719756,
          -87.719756,
          -87.719756
         ],
         "marker": {
          "color": "#FECB52",
          "size": [
           6375,
           6375,
           6375
          ],
          "sizemode": "area",
          "sizeref": 375
         },
         "mode": "markers",
         "name": "University 130",
         "showlegend": true,
         "subplot": "mapbox",
         "type": "scattermapbox"
        },
        {
         "hovertemplate": "Customers=University 131<br>Invoice Amount=%{marker.size}<br>Lat=%{lat}<br>Long=%{lon}<extra></extra>",
         "lat": [
          32.056276000000004
         ],
         "legendgroup": "University 131",
         "lon": [
          -84.216298
         ],
         "marker": {
          "color": "#636efa",
          "size": [
           7350
          ],
          "sizemode": "area",
          "sizeref": 375
         },
         "mode": "markers",
         "name": "University 131",
         "showlegend": true,
         "subplot": "mapbox",
         "type": "scattermapbox"
        },
        {
         "hovertemplate": "Customers=University 132<br>Invoice Amount=%{marker.size}<br>Lat=%{lat}<br>Long=%{lon}<extra></extra>",
         "lat": [
          32.42616,
          32.42616,
          32.42616
         ],
         "legendgroup": "University 132",
         "lon": [
          -81.784036,
          -81.784036,
          -81.784036
         ],
         "marker": {
          "color": "#EF553B",
          "size": [
           10250,
           10250,
           10250
          ],
          "sizemode": "area",
          "sizeref": 375
         },
         "mode": "markers",
         "name": "University 132",
         "showlegend": true,
         "subplot": "mapbox",
         "type": "scattermapbox"
        },
        {
         "hovertemplate": "Customers=University 133<br>Invoice Amount=%{marker.size}<br>Lat=%{lat}<br>Long=%{lon}<extra></extra>",
         "lat": [
          37.137908
         ],
         "legendgroup": "University 133",
         "lon": [
          -80.546811
         ],
         "marker": {
          "color": "#00cc96",
          "size": [
           8425
          ],
          "sizemode": "area",
          "sizeref": 375
         },
         "mode": "markers",
         "name": "University 133",
         "showlegend": true,
         "subplot": "mapbox",
         "type": "scattermapbox"
        },
        {
         "hovertemplate": "Customers=University 134<br>Invoice Amount=%{marker.size}<br>Lat=%{lat}<br>Long=%{lon}<extra></extra>",
         "lat": [
          35.079817,
          35.079817
         ],
         "legendgroup": "University 134",
         "lon": [
          -92.455656,
          -92.455656
         ],
         "marker": {
          "color": "#ab63fa",
          "size": [
           2000,
           2000
          ],
          "sizemode": "area",
          "sizeref": 375
         },
         "mode": "markers",
         "name": "University 134",
         "showlegend": true,
         "subplot": "mapbox",
         "type": "scattermapbox"
        },
        {
         "hovertemplate": "Customers=University 135<br>Invoice Amount=%{marker.size}<br>Lat=%{lat}<br>Long=%{lon}<extra></extra>",
         "lat": [
          36.341367,
          36.341367,
          36.341367,
          36.341367
         ],
         "legendgroup": "University 135",
         "lon": [
          -88.86476,
          -88.86476,
          -88.86476,
          -88.86476
         ],
         "marker": {
          "color": "#FFA15A",
          "size": [
           4422.5,
           4422.5,
           4422.5,
           4422.5
          ],
          "sizemode": "area",
          "sizeref": 375
         },
         "mode": "markers",
         "name": "University 135",
         "showlegend": true,
         "subplot": "mapbox",
         "type": "scattermapbox"
        },
        {
         "hovertemplate": "Customers=University 136<br>Invoice Amount=%{marker.size}<br>Lat=%{lat}<br>Long=%{lon}<extra></extra>",
         "lat": [
          37.756893,
          37.756893,
          37.756893,
          37.756893
         ],
         "legendgroup": "University 136",
         "lon": [
          -84.299737,
          -84.299737,
          -84.299737,
          -84.299737
         ],
         "marker": {
          "color": "#19d3f3",
          "size": [
           7350,
           7350,
           7350,
           7350
          ],
          "sizemode": "area",
          "sizeref": 375
         },
         "mode": "markers",
         "name": "University 136",
         "showlegend": true,
         "subplot": "mapbox",
         "type": "scattermapbox"
        },
        {
         "hovertemplate": "Customers=University 137<br>Invoice Amount=%{marker.size}<br>Lat=%{lat}<br>Long=%{lon}<extra></extra>",
         "lat": [
          33.94177,
          33.94177,
          33.94177
         ],
         "legendgroup": "University 137",
         "lon": [
          -83.372991,
          -83.372991,
          -83.372991
         ],
         "marker": {
          "color": "#FF6692",
          "size": [
           5950,
           5950,
           5950
          ],
          "sizemode": "area",
          "sizeref": 375
         },
         "mode": "markers",
         "name": "University 137",
         "showlegend": true,
         "subplot": "mapbox",
         "type": "scattermapbox"
        },
        {
         "hovertemplate": "Customers=University 138<br>Invoice Amount=%{marker.size}<br>Lat=%{lat}<br>Long=%{lon}<extra></extra>",
         "lat": [
          null
         ],
         "legendgroup": "University 138",
         "lon": [
          null
         ],
         "marker": {
          "color": "#B6E880",
          "size": [
           4500
          ],
          "sizemode": "area",
          "sizeref": 375
         },
         "mode": "markers",
         "name": "University 138",
         "showlegend": true,
         "subplot": "mapbox",
         "type": "scattermapbox"
        },
        {
         "hovertemplate": "Customers=University 139<br>Invoice Amount=%{marker.size}<br>Lat=%{lat}<br>Long=%{lon}<extra></extra>",
         "lat": [
          47.638782
         ],
         "legendgroup": "University 139",
         "lon": [
          -122.521704
         ],
         "marker": {
          "color": "#FF97FF",
          "size": [
           3600
          ],
          "sizemode": "area",
          "sizeref": 375
         },
         "mode": "markers",
         "name": "University 139",
         "showlegend": true,
         "subplot": "mapbox",
         "type": "scattermapbox"
        },
        {
         "hovertemplate": "Customers=University 140<br>Invoice Amount=%{marker.size}<br>Lat=%{lat}<br>Long=%{lon}<extra></extra>",
         "lat": [
          39.36988,
          39.36988
         ],
         "legendgroup": "University 140",
         "lon": [
          -76.654921,
          -76.654921
         ],
         "marker": {
          "color": "#FECB52",
          "size": [
           3980,
           3980
          ],
          "sizemode": "area",
          "sizeref": 375
         },
         "mode": "markers",
         "name": "University 140",
         "showlegend": true,
         "subplot": "mapbox",
         "type": "scattermapbox"
        },
        {
         "hovertemplate": "Customers=University 141<br>Invoice Amount=%{marker.size}<br>Lat=%{lat}<br>Long=%{lon}<extra></extra>",
         "lat": [
          34.30189,
          34.30189
         ],
         "legendgroup": "University 141",
         "lon": [
          -83.822057,
          -83.822057
         ],
         "marker": {
          "color": "#636efa",
          "size": [
           5100,
           5100
          ],
          "sizemode": "area",
          "sizeref": 375
         },
         "mode": "markers",
         "name": "University 141",
         "showlegend": true,
         "subplot": "mapbox",
         "type": "scattermapbox"
        },
        {
         "hovertemplate": "Customers=University 142<br>Invoice Amount=%{marker.size}<br>Lat=%{lat}<br>Long=%{lon}<extra></extra>",
         "lat": [
          30.708564000000006,
          30.708564000000006
         ],
         "legendgroup": "University 142",
         "lon": [
          -95.546707,
          -95.546707
         ],
         "marker": {
          "color": "#EF553B",
          "size": [
           3000,
           3000
          ],
          "sizemode": "area",
          "sizeref": 375
         },
         "mode": "markers",
         "name": "University 142",
         "showlegend": true,
         "subplot": "mapbox",
         "type": "scattermapbox"
        },
        {
         "hovertemplate": "Customers=University 143<br>Invoice Amount=%{marker.size}<br>Lat=%{lat}<br>Long=%{lon}<extra></extra>",
         "lat": [
          33.032915
         ],
         "legendgroup": "University 143",
         "lon": [
          -83.932551
         ],
         "marker": {
          "color": "#00cc96",
          "size": [
           2710
          ],
          "sizemode": "area",
          "sizeref": 375
         },
         "mode": "markers",
         "name": "University 143",
         "showlegend": true,
         "subplot": "mapbox",
         "type": "scattermapbox"
        },
        {
         "hovertemplate": "Customers=University 144<br>Invoice Amount=%{marker.size}<br>Lat=%{lat}<br>Long=%{lon}<extra></extra>",
         "lat": [
          39.782005
         ],
         "legendgroup": "University 144",
         "lon": [
          -75.123172
         ],
         "marker": {
          "color": "#ab63fa",
          "size": [
           1550
          ],
          "sizemode": "area",
          "sizeref": 375
         },
         "mode": "markers",
         "name": "University 144",
         "showlegend": true,
         "subplot": "mapbox",
         "type": "scattermapbox"
        },
        {
         "hovertemplate": "Customers=University 145<br>Invoice Amount=%{marker.size}<br>Lat=%{lat}<br>Long=%{lon}<extra></extra>",
         "lat": [
          47.00033300000001,
          47.00033300000001
         ],
         "legendgroup": "University 145",
         "lon": [
          -120.541972,
          -120.541972
         ],
         "marker": {
          "color": "#FFA15A",
          "size": [
           2047.4299999999998,
           2047.4299999999998
          ],
          "sizemode": "area",
          "sizeref": 375
         },
         "mode": "markers",
         "name": "University 145",
         "showlegend": true,
         "subplot": "mapbox",
         "type": "scattermapbox"
        },
        {
         "hovertemplate": "Customers=University 146<br>Invoice Amount=%{marker.size}<br>Lat=%{lat}<br>Long=%{lon}<extra></extra>",
         "lat": [
          43.323493
         ],
         "legendgroup": "University 146",
         "lon": [
          -78.39410500000002
         ],
         "marker": {
          "color": "#19d3f3",
          "size": [
           1880
          ],
          "sizemode": "area",
          "sizeref": 375
         },
         "mode": "markers",
         "name": "University 146",
         "showlegend": true,
         "subplot": "mapbox",
         "type": "scattermapbox"
        },
        {
         "hovertemplate": "Customers=University 147<br>Invoice Amount=%{marker.size}<br>Lat=%{lat}<br>Long=%{lon}<extra></extra>",
         "lat": [
          37.44416,
          37.44416,
          37.44416
         ],
         "legendgroup": "University 147",
         "lon": [
          -122.163743,
          -122.163743,
          -122.163743
         ],
         "marker": {
          "color": "#FF6692",
          "size": [
           30520,
           30520,
           30520
          ],
          "sizemode": "area",
          "sizeref": 375
         },
         "mode": "markers",
         "name": "University 147",
         "showlegend": true,
         "subplot": "mapbox",
         "type": "scattermapbox"
        },
        {
         "hovertemplate": "Customers=University 148<br>Invoice Amount=%{marker.size}<br>Lat=%{lat}<br>Long=%{lon}<extra></extra>",
         "lat": [
          35.785701,
          35.785701
         ],
         "legendgroup": "University 148",
         "lon": [
          -78.666354,
          -78.666354
         ],
         "marker": {
          "color": "#B6E880",
          "size": [
           4000,
           4000
          ],
          "sizemode": "area",
          "sizeref": 375
         },
         "mode": "markers",
         "name": "University 148",
         "showlegend": true,
         "subplot": "mapbox",
         "type": "scattermapbox"
        },
        {
         "hovertemplate": "Customers=University 149<br>Invoice Amount=%{marker.size}<br>Lat=%{lat}<br>Long=%{lon}<extra></extra>",
         "lat": [
          36.992329,
          36.992329
         ],
         "legendgroup": "University 149",
         "lon": [
          -86.447825,
          -86.447825
         ],
         "marker": {
          "color": "#FF97FF",
          "size": [
           3200,
           3200
          ],
          "sizemode": "area",
          "sizeref": 375
         },
         "mode": "markers",
         "name": "University 149",
         "showlegend": true,
         "subplot": "mapbox",
         "type": "scattermapbox"
        },
        {
         "hovertemplate": "Customers=University 150<br>Invoice Amount=%{marker.size}<br>Lat=%{lat}<br>Long=%{lon}<extra></extra>",
         "lat": [
          39.740309
         ],
         "legendgroup": "University 150",
         "lon": [
          -104.983191
         ],
         "marker": {
          "color": "#FECB52",
          "size": [
           600
          ],
          "sizemode": "area",
          "sizeref": 375
         },
         "mode": "markers",
         "name": "University 150",
         "showlegend": true,
         "subplot": "mapbox",
         "type": "scattermapbox"
        },
        {
         "hovertemplate": "Customers=University 151<br>Invoice Amount=%{marker.size}<br>Lat=%{lat}<br>Long=%{lon}<extra></extra>",
         "lat": [
          32.214126
         ],
         "legendgroup": "University 151",
         "lon": [
          -90.165412
         ],
         "marker": {
          "color": "#636efa",
          "size": [
           1600
          ],
          "sizemode": "area",
          "sizeref": 375
         },
         "mode": "markers",
         "name": "University 151",
         "showlegend": true,
         "subplot": "mapbox",
         "type": "scattermapbox"
        },
        {
         "hovertemplate": "Customers=University 152<br>Invoice Amount=%{marker.size}<br>Lat=%{lat}<br>Long=%{lon}<extra></extra>",
         "lat": [
          35.691116
         ],
         "legendgroup": "University 152",
         "lon": [
          -80.481124
         ],
         "marker": {
          "color": "#EF553B",
          "size": [
           1000
          ],
          "sizemode": "area",
          "sizeref": 375
         },
         "mode": "markers",
         "name": "University 152",
         "showlegend": true,
         "subplot": "mapbox",
         "type": "scattermapbox"
        },
        {
         "hovertemplate": "Customers=University 153<br>Invoice Amount=%{marker.size}<br>Lat=%{lat}<br>Long=%{lon}<extra></extra>",
         "lat": [
          32.829056,
          32.829056,
          32.829056
         ],
         "legendgroup": "University 153",
         "lon": [
          -83.649261,
          -83.649261,
          -83.649261
         ],
         "marker": {
          "color": "#00cc96",
          "size": [
           8500,
           8500,
           8500
          ],
          "sizemode": "area",
          "sizeref": 375
         },
         "mode": "markers",
         "name": "University 153",
         "showlegend": true,
         "subplot": "mapbox",
         "type": "scattermapbox"
        },
        {
         "hovertemplate": "Customers=University 154<br>Invoice Amount=%{marker.size}<br>Lat=%{lat}<br>Long=%{lon}<extra></extra>",
         "lat": [
          39.906112,
          39.906112,
          39.906112
         ],
         "legendgroup": "University 154",
         "lon": [
          -75.352001,
          -75.352001,
          -75.352001
         ],
         "marker": {
          "color": "#ab63fa",
          "size": [
           2142,
           2142,
           2142
          ],
          "sizemode": "area",
          "sizeref": 375
         },
         "mode": "markers",
         "name": "University 154",
         "showlegend": true,
         "subplot": "mapbox",
         "type": "scattermapbox"
        },
        {
         "hovertemplate": "Customers=University 155<br>Invoice Amount=%{marker.size}<br>Lat=%{lat}<br>Long=%{lon}<extra></extra>",
         "lat": [
          38.4448,
          38.4448,
          38.4448
         ],
         "legendgroup": "University 155",
         "lon": [
          -78.878649,
          -78.878649,
          -78.878649
         ],
         "marker": {
          "color": "#FFA15A",
          "size": [
           18719.25,
           18719.25,
           18719.25
          ],
          "sizemode": "area",
          "sizeref": 375
         },
         "mode": "markers",
         "name": "University 155",
         "showlegend": true,
         "subplot": "mapbox",
         "type": "scattermapbox"
        },
        {
         "hovertemplate": "Customers=University 156<br>Invoice Amount=%{marker.size}<br>Lat=%{lat}<br>Long=%{lon}<extra></extra>",
         "lat": [
          41.437593
         ],
         "legendgroup": "University 156",
         "lon": [
          -96.489772
         ],
         "marker": {
          "color": "#19d3f3",
          "size": [
           875
          ],
          "sizemode": "area",
          "sizeref": 375
         },
         "mode": "markers",
         "name": "University 156",
         "showlegend": true,
         "subplot": "mapbox",
         "type": "scattermapbox"
        },
        {
         "hovertemplate": "Customers=University 157<br>Invoice Amount=%{marker.size}<br>Lat=%{lat}<br>Long=%{lon}<extra></extra>",
         "lat": [
          35.309247
         ],
         "legendgroup": "University 157",
         "lon": [
          -83.183142
         ],
         "marker": {
          "color": "#FF6692",
          "size": [
           7500
          ],
          "sizemode": "area",
          "sizeref": 375
         },
         "mode": "markers",
         "name": "University 157",
         "showlegend": true,
         "subplot": "mapbox",
         "type": "scattermapbox"
        },
        {
         "hovertemplate": "Customers=University 158<br>Invoice Amount=%{marker.size}<br>Lat=%{lat}<br>Long=%{lon}<extra></extra>",
         "lat": [
          31.180761,
          31.180761
         ],
         "legendgroup": "University 158",
         "lon": [
          -81.487082,
          -81.487082
         ],
         "marker": {
          "color": "#B6E880",
          "size": [
           3263,
           3263
          ],
          "sizemode": "area",
          "sizeref": 375
         },
         "mode": "markers",
         "name": "University 158",
         "showlegend": true,
         "subplot": "mapbox",
         "type": "scattermapbox"
        },
        {
         "hovertemplate": "Customers=University 159<br>Invoice Amount=%{marker.size}<br>Lat=%{lat}<br>Long=%{lon}<extra></extra>",
         "lat": [
          38.058479,
          38.058479
         ],
         "legendgroup": "University 159",
         "lon": [
          -84.727961,
          -84.727961
         ],
         "marker": {
          "color": "#FF97FF",
          "size": [
           15272,
           15272
          ],
          "sizemode": "area",
          "sizeref": 375
         },
         "mode": "markers",
         "name": "University 159",
         "showlegend": true,
         "subplot": "mapbox",
         "type": "scattermapbox"
        },
        {
         "hovertemplate": "Customers=University 160<br>Invoice Amount=%{marker.size}<br>Lat=%{lat}<br>Long=%{lon}<extra></extra>",
         "lat": [
          38.835479,
          38.835479,
          38.835479
         ],
         "legendgroup": "University 160",
         "lon": [
          -77.30904,
          -77.30904,
          -77.30904
         ],
         "marker": {
          "color": "#FECB52",
          "size": [
           7125,
           7125,
           7125
          ],
          "sizemode": "area",
          "sizeref": 375
         },
         "mode": "markers",
         "name": "University 160",
         "showlegend": true,
         "subplot": "mapbox",
         "type": "scattermapbox"
        },
        {
         "hovertemplate": "Customers=University 161<br>Invoice Amount=%{marker.size}<br>Lat=%{lat}<br>Long=%{lon}<extra></extra>",
         "lat": [
          33.470787
         ],
         "legendgroup": "University 161",
         "lon": [
          -81.98959
         ],
         "marker": {
          "color": "#636efa",
          "size": [
           587
          ],
          "sizemode": "area",
          "sizeref": 375
         },
         "mode": "markers",
         "name": "University 161",
         "showlegend": true,
         "subplot": "mapbox",
         "type": "scattermapbox"
        },
        {
         "hovertemplate": "Customers=University 162<br>Invoice Amount=%{marker.size}<br>Lat=%{lat}<br>Long=%{lon}<extra></extra>",
         "lat": [
          42.818179
         ],
         "legendgroup": "University 162",
         "lon": [
          -75.53522099999998
         ],
         "marker": {
          "color": "#EF553B",
          "size": [
           1000
          ],
          "sizemode": "area",
          "sizeref": 375
         },
         "mode": "markers",
         "name": "University 162",
         "showlegend": true,
         "subplot": "mapbox",
         "type": "scattermapbox"
        },
        {
         "hovertemplate": "Customers=University 163<br>Invoice Amount=%{marker.size}<br>Lat=%{lat}<br>Long=%{lon}<extra></extra>",
         "lat": [
          40.521031,
          40.521031,
          40.521031
         ],
         "legendgroup": "University 163",
         "lon": [
          -75.7759,
          -75.7759,
          -75.7759
         ],
         "marker": {
          "color": "#00cc96",
          "size": [
           14500,
           14500,
           14500
          ],
          "sizemode": "area",
          "sizeref": 375
         },
         "mode": "markers",
         "name": "University 163",
         "showlegend": true,
         "subplot": "mapbox",
         "type": "scattermapbox"
        },
        {
         "hovertemplate": "Customers=University 164<br>Invoice Amount=%{marker.size}<br>Lat=%{lat}<br>Long=%{lon}<extra></extra>",
         "lat": [
          42.648054,
          42.648054
         ],
         "legendgroup": "University 164",
         "lon": [
          -73.749797,
          -73.749797
         ],
         "marker": {
          "color": "#ab63fa",
          "size": [
           29972,
           29972
          ],
          "sizemode": "area",
          "sizeref": 375
         },
         "mode": "markers",
         "name": "University 164",
         "showlegend": true,
         "subplot": "mapbox",
         "type": "scattermapbox"
        },
        {
         "hovertemplate": "Customers=University 165<br>Invoice Amount=%{marker.size}<br>Lat=%{lat}<br>Long=%{lon}<extra></extra>",
         "lat": [
          30.03503,
          30.03503
         ],
         "legendgroup": "University 165",
         "lon": [
          -90.04316,
          -90.04316
         ],
         "marker": {
          "color": "#FFA15A",
          "size": [
           3625,
           3625
          ],
          "sizemode": "area",
          "sizeref": 375
         },
         "mode": "markers",
         "name": "University 165",
         "showlegend": true,
         "subplot": "mapbox",
         "type": "scattermapbox"
        },
        {
         "hovertemplate": "Customers=University 166<br>Invoice Amount=%{marker.size}<br>Lat=%{lat}<br>Long=%{lon}<extra></extra>",
         "lat": [
          39.945975,
          39.945975
         ],
         "legendgroup": "University 166",
         "lon": [
          -75.16555600000002,
          -75.16555600000002
         ],
         "marker": {
          "color": "#19d3f3",
          "size": [
           1071,
           1071
          ],
          "sizemode": "area",
          "sizeref": 375
         },
         "mode": "markers",
         "name": "University 166",
         "showlegend": true,
         "subplot": "mapbox",
         "type": "scattermapbox"
        },
        {
         "hovertemplate": "Customers=University 167<br>Invoice Amount=%{marker.size}<br>Lat=%{lat}<br>Long=%{lon}<extra></extra>",
         "lat": [
          36.204101,
          36.204101
         ],
         "legendgroup": "University 167",
         "lon": [
          -86.291933,
          -86.291933
         ],
         "marker": {
          "color": "#FF6692",
          "size": [
           3135,
           3135
          ],
          "sizemode": "area",
          "sizeref": 375
         },
         "mode": "markers",
         "name": "University 167",
         "showlegend": true,
         "subplot": "mapbox",
         "type": "scattermapbox"
        },
        {
         "hovertemplate": "Customers=University 168<br>Invoice Amount=%{marker.size}<br>Lat=%{lat}<br>Long=%{lon}<extra></extra>",
         "lat": [
          39.416484,
          39.416484
         ],
         "legendgroup": "University 168",
         "lon": [
          -81.448914,
          -81.448914
         ],
         "marker": {
          "color": "#B6E880",
          "size": [
           4930,
           4930
          ],
          "sizemode": "area",
          "sizeref": 375
         },
         "mode": "markers",
         "name": "University 168",
         "showlegend": true,
         "subplot": "mapbox",
         "type": "scattermapbox"
        },
        {
         "hovertemplate": "Customers=University 169<br>Invoice Amount=%{marker.size}<br>Lat=%{lat}<br>Long=%{lon}<extra></extra>",
         "lat": [
          40.424396
         ],
         "legendgroup": "University 169",
         "lon": [
          -86.912772
         ],
         "marker": {
          "color": "#FF97FF",
          "size": [
           2500
          ],
          "sizemode": "area",
          "sizeref": 375
         },
         "mode": "markers",
         "name": "University 169",
         "showlegend": true,
         "subplot": "mapbox",
         "type": "scattermapbox"
        },
        {
         "hovertemplate": "Customers=University 170<br>Invoice Amount=%{marker.size}<br>Lat=%{lat}<br>Long=%{lon}<extra></extra>",
         "lat": [
          35.44527100000001
         ],
         "legendgroup": "University 170",
         "lon": [
          -84.59259300000002
         ],
         "marker": {
          "color": "#FECB52",
          "size": [
           687
          ],
          "sizemode": "area",
          "sizeref": 375
         },
         "mode": "markers",
         "name": "University 170",
         "showlegend": true,
         "subplot": "mapbox",
         "type": "scattermapbox"
        },
        {
         "hovertemplate": "Customers=University 171<br>Invoice Amount=%{marker.size}<br>Lat=%{lat}<br>Long=%{lon}<extra></extra>",
         "lat": [
          13.469559
         ],
         "legendgroup": "University 171",
         "lon": [
          144.74388100000004
         ],
         "marker": {
          "color": "#636efa",
          "size": [
           250
          ],
          "sizemode": "area",
          "sizeref": 375
         },
         "mode": "markers",
         "name": "University 171",
         "showlegend": true,
         "subplot": "mapbox",
         "type": "scattermapbox"
        },
        {
         "hovertemplate": "Customers=University 172<br>Invoice Amount=%{marker.size}<br>Lat=%{lat}<br>Long=%{lon}<extra></extra>",
         "lat": [
          40.859162,
          40.859162,
          40.859162
         ],
         "legendgroup": "University 172",
         "lon": [
          -74.198483,
          -74.198483,
          -74.198483
         ],
         "marker": {
          "color": "#EF553B",
          "size": [
           2640,
           2640,
           2640
          ],
          "sizemode": "area",
          "sizeref": 375
         },
         "mode": "markers",
         "name": "University 172",
         "showlegend": true,
         "subplot": "mapbox",
         "type": "scattermapbox"
        },
        {
         "hovertemplate": "Customers=University 173<br>Invoice Amount=%{marker.size}<br>Lat=%{lat}<br>Long=%{lon}<extra></extra>",
         "lat": [
          42.467927,
          42.467927
         ],
         "legendgroup": "University 173",
         "lon": [
          -75.061262,
          -75.061262
         ],
         "marker": {
          "color": "#00cc96",
          "size": [
           2955,
           2955
          ],
          "sizemode": "area",
          "sizeref": 375
         },
         "mode": "markers",
         "name": "University 173",
         "showlegend": true,
         "subplot": "mapbox",
         "type": "scattermapbox"
        },
        {
         "hovertemplate": "Customers=University 174<br>Invoice Amount=%{marker.size}<br>Lat=%{lat}<br>Long=%{lon}<extra></extra>",
         "lat": [
          36.628813,
          36.628813
         ],
         "legendgroup": "University 174",
         "lon": [
          -88.32239100000002,
          -88.32239100000002
         ],
         "marker": {
          "color": "#ab63fa",
          "size": [
           7575,
           7575
          ],
          "sizemode": "area",
          "sizeref": 375
         },
         "mode": "markers",
         "name": "University 174",
         "showlegend": true,
         "subplot": "mapbox",
         "type": "scattermapbox"
        },
        {
         "hovertemplate": "Customers=University 175<br>Invoice Amount=%{marker.size}<br>Lat=%{lat}<br>Long=%{lon}<extra></extra>",
         "lat": [
          38.539524,
          38.539524,
          38.539524,
          38.539524
         ],
         "legendgroup": "University 175",
         "lon": [
          -121.751673,
          -121.751673,
          -121.751673,
          -121.751673
         ],
         "marker": {
          "color": "#FFA15A",
          "size": [
           6314,
           6314,
           6314,
           6314
          ],
          "sizemode": "area",
          "sizeref": 375
         },
         "mode": "markers",
         "name": "University 175",
         "showlegend": true,
         "subplot": "mapbox",
         "type": "scattermapbox"
        },
        {
         "hovertemplate": "Customers=University 176<br>Invoice Amount=%{marker.size}<br>Lat=%{lat}<br>Long=%{lon}<extra></extra>",
         "lat": [
          21.297989,
          21.297989
         ],
         "legendgroup": "University 176",
         "lon": [
          -157.822518,
          -157.822518
         ],
         "marker": {
          "color": "#19d3f3",
          "size": [
           3455,
           3455
          ],
          "sizemode": "area",
          "sizeref": 375
         },
         "mode": "markers",
         "name": "University 176",
         "showlegend": true,
         "subplot": "mapbox",
         "type": "scattermapbox"
        },
        {
         "hovertemplate": "Customers=University 177<br>Invoice Amount=%{marker.size}<br>Lat=%{lat}<br>Long=%{lon}<extra></extra>",
         "lat": [
          40.006036
         ],
         "legendgroup": "University 177",
         "lon": [
          -76.360078
         ],
         "marker": {
          "color": "#FF6692",
          "size": [
           1666
          ],
          "sizemode": "area",
          "sizeref": 375
         },
         "mode": "markers",
         "name": "University 177",
         "showlegend": true,
         "subplot": "mapbox",
         "type": "scattermapbox"
        },
        {
         "hovertemplate": "Customers=University 178<br>Invoice Amount=%{marker.size}<br>Lat=%{lat}<br>Long=%{lon}<extra></extra>",
         "lat": [
          43.209991
         ],
         "legendgroup": "University 178",
         "lon": [
          -77.95217
         ],
         "marker": {
          "color": "#B6E880",
          "size": [
           750
          ],
          "sizemode": "area",
          "sizeref": 375
         },
         "mode": "markers",
         "name": "University 178",
         "showlegend": true,
         "subplot": "mapbox",
         "type": "scattermapbox"
        },
        {
         "hovertemplate": "Customers=University 179<br>Invoice Amount=%{marker.size}<br>Lat=%{lat}<br>Long=%{lon}<extra></extra>",
         "lat": [
          40.81010300000001,
          40.81010300000001
         ],
         "legendgroup": "University 179",
         "lon": [
          -73.960643,
          -73.960643
         ],
         "marker": {
          "color": "#FF97FF",
          "size": [
           6625,
           6625
          ],
          "sizemode": "area",
          "sizeref": 375
         },
         "mode": "markers",
         "name": "University 179",
         "showlegend": true,
         "subplot": "mapbox",
         "type": "scattermapbox"
        },
        {
         "hovertemplate": "Customers=University 180<br>Invoice Amount=%{marker.size}<br>Lat=%{lat}<br>Long=%{lon}<extra></extra>",
         "lat": [
          41.032181,
          41.032181,
          41.032181,
          41.032181
         ],
         "legendgroup": "University 180",
         "lon": [
          -73.71566800000002,
          -73.71566800000002,
          -73.71566800000002,
          -73.71566800000002
         ],
         "marker": {
          "color": "#FECB52",
          "size": [
           4375,
           4375,
           4375,
           4375
          ],
          "sizemode": "area",
          "sizeref": 375
         },
         "mode": "markers",
         "name": "University 180",
         "showlegend": true,
         "subplot": "mapbox",
         "type": "scattermapbox"
        },
        {
         "hovertemplate": "Customers=University 181<br>Invoice Amount=%{marker.size}<br>Lat=%{lat}<br>Long=%{lon}<extra></extra>",
         "lat": [
          35.053059999999995,
          35.053059999999995
         ],
         "legendgroup": "University 181",
         "lon": [
          -85.05028,
          -85.05028
         ],
         "marker": {
          "color": "#636efa",
          "size": [
           3125,
           3125
          ],
          "sizemode": "area",
          "sizeref": 375
         },
         "mode": "markers",
         "name": "University 181",
         "showlegend": true,
         "subplot": "mapbox",
         "type": "scattermapbox"
        },
        {
         "hovertemplate": "Customers=University 182<br>Invoice Amount=%{marker.size}<br>Lat=%{lat}<br>Long=%{lon}<extra></extra>",
         "lat": [
          47.610656,
          47.610656
         ],
         "legendgroup": "University 182",
         "lon": [
          -122.317113,
          -122.317113
         ],
         "marker": {
          "color": "#EF553B",
          "size": [
           3000,
           3000
          ],
          "sizemode": "area",
          "sizeref": 375
         },
         "mode": "markers",
         "name": "University 182",
         "showlegend": true,
         "subplot": "mapbox",
         "type": "scattermapbox"
        },
        {
         "hovertemplate": "Customers=University 183<br>Invoice Amount=%{marker.size}<br>Lat=%{lat}<br>Long=%{lon}<extra></extra>",
         "lat": [
          41.898597,
          37.423644,
          41.898597
         ],
         "legendgroup": "University 183",
         "lon": [
          -87.809426,
          -81.018206,
          -87.809426
         ],
         "marker": {
          "color": "#00cc96",
          "size": [
           2613.01,
           2613.01,
           2613.01
          ],
          "sizemode": "area",
          "sizeref": 375
         },
         "mode": "markers",
         "name": "University 183",
         "showlegend": true,
         "subplot": "mapbox",
         "type": "scattermapbox"
        },
        {
         "hovertemplate": "Customers=University 184<br>Invoice Amount=%{marker.size}<br>Lat=%{lat}<br>Long=%{lon}<extra></extra>",
         "lat": [
          33.745248
         ],
         "legendgroup": "University 184",
         "lon": [
          -84.411351
         ],
         "marker": {
          "color": "#ab63fa",
          "size": [
           1900
          ],
          "sizemode": "area",
          "sizeref": 375
         },
         "mode": "markers",
         "name": "University 184",
         "showlegend": true,
         "subplot": "mapbox",
         "type": "scattermapbox"
        },
        {
         "hovertemplate": "Customers=University 185<br>Invoice Amount=%{marker.size}<br>Lat=%{lat}<br>Long=%{lon}<extra></extra>",
         "lat": [
          43.041453,
          43.041453
         ],
         "legendgroup": "University 185",
         "lon": [
          -76.13467800000002,
          -76.13467800000002
         ],
         "marker": {
          "color": "#FFA15A",
          "size": [
           4125,
           4125
          ],
          "sizemode": "area",
          "sizeref": 375
         },
         "mode": "markers",
         "name": "University 185",
         "showlegend": true,
         "subplot": "mapbox",
         "type": "scattermapbox"
        },
        {
         "hovertemplate": "Customers=University 186<br>Invoice Amount=%{marker.size}<br>Lat=%{lat}<br>Long=%{lon}<extra></extra>",
         "lat": [
          33.793603999999995
         ],
         "legendgroup": "University 186",
         "lon": [
          -117.851581
         ],
         "marker": {
          "color": "#19d3f3",
          "size": [
           625
          ],
          "sizemode": "area",
          "sizeref": 375
         },
         "mode": "markers",
         "name": "University 186",
         "showlegend": true,
         "subplot": "mapbox",
         "type": "scattermapbox"
        },
        {
         "hovertemplate": "Customers=University 187<br>Invoice Amount=%{marker.size}<br>Lat=%{lat}<br>Long=%{lon}<extra></extra>",
         "lat": [
          38.184579
         ],
         "legendgroup": "University 187",
         "lon": [
          -84.848764
         ],
         "marker": {
          "color": "#FF6692",
          "size": [
           3810
          ],
          "sizemode": "area",
          "sizeref": 375
         },
         "mode": "markers",
         "name": "University 187",
         "showlegend": true,
         "subplot": "mapbox",
         "type": "scattermapbox"
        },
        {
         "hovertemplate": "Customers=University 188<br>Invoice Amount=%{marker.size}<br>Lat=%{lat}<br>Long=%{lon}<extra></extra>",
         "lat": [
          38.219491,
          38.219491,
          38.219491
         ],
         "legendgroup": "University 188",
         "lon": [
          -85.757346,
          -85.757346,
          -85.757346
         ],
         "marker": {
          "color": "#B6E880",
          "size": [
           18625,
           18625,
           18625
          ],
          "sizemode": "area",
          "sizeref": 375
         },
         "mode": "markers",
         "name": "University 188",
         "showlegend": true,
         "subplot": "mapbox",
         "type": "scattermapbox"
        },
        {
         "hovertemplate": "Customers=University 189<br>Invoice Amount=%{marker.size}<br>Lat=%{lat}<br>Long=%{lon}<extra></extra>",
         "lat": [
          31.8207,
          31.8207,
          31.8207
         ],
         "legendgroup": "University 189",
         "lon": [
          -85.98306,
          -85.98306,
          -85.98306
         ],
         "marker": {
          "color": "#FF97FF",
          "size": [
           9617.8,
           9617.8,
           9617.8
          ],
          "sizemode": "area",
          "sizeref": 375
         },
         "mode": "markers",
         "name": "University 189",
         "showlegend": true,
         "subplot": "mapbox",
         "type": "scattermapbox"
        },
        {
         "hovertemplate": "Customers=University 190<br>Invoice Amount=%{marker.size}<br>Lat=%{lat}<br>Long=%{lon}<extra></extra>",
         "lat": [
          40.75081,
          40.75081,
          40.75081,
          40.75081,
          40.75081
         ],
         "legendgroup": "University 190",
         "lon": [
          -73.973537,
          -73.973537,
          -73.973537,
          -73.973537,
          -73.973537
         ],
         "marker": {
          "color": "#FECB52",
          "size": [
           5295,
           5295,
           5295,
           5295,
           5295
          ],
          "sizemode": "area",
          "sizeref": 375
         },
         "mode": "markers",
         "name": "University 190",
         "showlegend": true,
         "subplot": "mapbox",
         "type": "scattermapbox"
        },
        {
         "hovertemplate": "Customers=University 191<br>Invoice Amount=%{marker.size}<br>Lat=%{lat}<br>Long=%{lon}<extra></extra>",
         "lat": [
          42.881777
         ],
         "legendgroup": "University 191",
         "lon": [
          -78.872598
         ],
         "marker": {
          "color": "#636efa",
          "size": [
           150
          ],
          "sizemode": "area",
          "sizeref": 375
         },
         "mode": "markers",
         "name": "University 191",
         "showlegend": true,
         "subplot": "mapbox",
         "type": "scattermapbox"
        },
        {
         "hovertemplate": "Customers=University 192<br>Invoice Amount=%{marker.size}<br>Lat=%{lat}<br>Long=%{lon}<extra></extra>",
         "lat": [
          44.694415
         ],
         "legendgroup": "University 192",
         "lon": [
          -73.466024
         ],
         "marker": {
          "color": "#EF553B",
          "size": [
           450
          ],
          "sizemode": "area",
          "sizeref": 375
         },
         "mode": "markers",
         "name": "University 192",
         "showlegend": true,
         "subplot": "mapbox",
         "type": "scattermapbox"
        },
        {
         "hovertemplate": "Customers=University 193<br>Invoice Amount=%{marker.size}<br>Lat=%{lat}<br>Long=%{lon}<extra></extra>",
         "lat": [
          34.8933,
          34.8933,
          34.8933,
          34.8933,
          34.8933
         ],
         "legendgroup": "University 193",
         "lon": [
          -87.63739,
          -87.63739,
          -87.63739,
          -87.63739,
          -87.63739
         ],
         "marker": {
          "color": "#00cc96",
          "size": [
           5000,
           5000,
           5000,
           5000,
           5000
          ],
          "sizemode": "area",
          "sizeref": 375
         },
         "mode": "markers",
         "name": "University 193",
         "showlegend": true,
         "subplot": "mapbox",
         "type": "scattermapbox"
        },
        {
         "hovertemplate": "Customers=University 194<br>Invoice Amount=%{marker.size}<br>Lat=%{lat}<br>Long=%{lon}<extra></extra>",
         "lat": [
          37.575799
         ],
         "legendgroup": "University 194",
         "lon": [
          -77.543513
         ],
         "marker": {
          "color": "#ab63fa",
          "size": [
           1700
          ],
          "sizemode": "area",
          "sizeref": 375
         },
         "mode": "markers",
         "name": "University 194",
         "showlegend": true,
         "subplot": "mapbox",
         "type": "scattermapbox"
        },
        {
         "hovertemplate": "Customers=University 195<br>Invoice Amount=%{marker.size}<br>Lat=%{lat}<br>Long=%{lon}<extra></extra>",
         "lat": [
          44.527988,
          44.527988
         ],
         "legendgroup": "University 195",
         "lon": [
          -89.572315,
          -89.572315
         ],
         "marker": {
          "color": "#FFA15A",
          "size": [
           4750,
           4750
          ],
          "sizemode": "area",
          "sizeref": 375
         },
         "mode": "markers",
         "name": "University 195",
         "showlegend": true,
         "subplot": "mapbox",
         "type": "scattermapbox"
        },
        {
         "hovertemplate": "Customers=University 196<br>Invoice Amount=%{marker.size}<br>Lat=%{lat}<br>Long=%{lon}<extra></extra>",
         "lat": [
          42.42216,
          42.42216
         ],
         "legendgroup": "University 196",
         "lon": [
          -76.500039,
          -76.500039
         ],
         "marker": {
          "color": "#19d3f3",
          "size": [
           1750,
           1750
          ],
          "sizemode": "area",
          "sizeref": 375
         },
         "mode": "markers",
         "name": "University 196",
         "showlegend": true,
         "subplot": "mapbox",
         "type": "scattermapbox"
        },
        {
         "hovertemplate": "Customers=University 197<br>Invoice Amount=%{marker.size}<br>Lat=%{lat}<br>Long=%{lon}<extra></extra>",
         "lat": [
          37.776451,
          37.776451
         ],
         "legendgroup": "University 197",
         "lon": [
          -122.451994,
          -122.451994
         ],
         "marker": {
          "color": "#FF6692",
          "size": [
           3600,
           3600
          ],
          "sizemode": "area",
          "sizeref": 375
         },
         "mode": "markers",
         "name": "University 197",
         "showlegend": true,
         "subplot": "mapbox",
         "type": "scattermapbox"
        },
        {
         "hovertemplate": "Customers=University 198<br>Invoice Amount=%{marker.size}<br>Lat=%{lat}<br>Long=%{lon}<extra></extra>",
         "lat": [
          35.30615200000001,
          35.30615200000001
         ],
         "legendgroup": "University 198",
         "lon": [
          -80.734562,
          -80.734562
         ],
         "marker": {
          "color": "#B6E880",
          "size": [
           5625,
           5625
          ],
          "sizemode": "area",
          "sizeref": 375
         },
         "mode": "markers",
         "name": "University 198",
         "showlegend": true,
         "subplot": "mapbox",
         "type": "scattermapbox"
        },
        {
         "hovertemplate": "Customers=University 199<br>Invoice Amount=%{marker.size}<br>Lat=%{lat}<br>Long=%{lon}<extra></extra>",
         "lat": [
          32.602286,
          32.602286
         ],
         "legendgroup": "University 199",
         "lon": [
          -85.486081,
          -85.486081
         ],
         "marker": {
          "color": "#FF97FF",
          "size": [
           2827,
           2827
          ],
          "sizemode": "area",
          "sizeref": 375
         },
         "mode": "markers",
         "name": "University 199",
         "showlegend": true,
         "subplot": "mapbox",
         "type": "scattermapbox"
        },
        {
         "hovertemplate": "Customers=University 200<br>Invoice Amount=%{marker.size}<br>Lat=%{lat}<br>Long=%{lon}<extra></extra>",
         "lat": [
          40.912795
         ],
         "legendgroup": "University 200",
         "lon": [
          -73.902821
         ],
         "marker": {
          "color": "#FECB52",
          "size": [
           625
          ],
          "sizemode": "area",
          "sizeref": 375
         },
         "mode": "markers",
         "name": "University 200",
         "showlegend": true,
         "subplot": "mapbox",
         "type": "scattermapbox"
        },
        {
         "hovertemplate": "Customers=University 201<br>Invoice Amount=%{marker.size}<br>Lat=%{lat}<br>Long=%{lon}<extra></extra>",
         "lat": [
          32.349157,
          32.349157,
          32.349157,
          32.349157
         ],
         "legendgroup": "University 201",
         "lon": [
          -88.71589300000002,
          -88.71589300000002,
          -88.71589300000002,
          -88.71589300000002
         ],
         "marker": {
          "color": "#636efa",
          "size": [
           2600,
           2600,
           2600,
           2600
          ],
          "sizemode": "area",
          "sizeref": 375
         },
         "mode": "markers",
         "name": "University 201",
         "showlegend": true,
         "subplot": "mapbox",
         "type": "scattermapbox"
        },
        {
         "hovertemplate": "Customers=University 202<br>Invoice Amount=%{marker.size}<br>Lat=%{lat}<br>Long=%{lon}<extra></extra>",
         "lat": [
          44.565004,
          44.565004
         ],
         "legendgroup": "University 202",
         "lon": [
          -123.276064,
          -123.276064
         ],
         "marker": {
          "color": "#EF553B",
          "size": [
           4000,
           4000
          ],
          "sizemode": "area",
          "sizeref": 375
         },
         "mode": "markers",
         "name": "University 202",
         "showlegend": true,
         "subplot": "mapbox",
         "type": "scattermapbox"
        },
        {
         "hovertemplate": "Customers=University 203<br>Invoice Amount=%{marker.size}<br>Lat=%{lat}<br>Long=%{lon}<extra></extra>",
         "lat": [
          30.69538
         ],
         "legendgroup": "University 203",
         "lon": [
          -88.175177
         ],
         "marker": {
          "color": "#00cc96",
          "size": [
           2500
          ],
          "sizemode": "area",
          "sizeref": 375
         },
         "mode": "markers",
         "name": "University 203",
         "showlegend": true,
         "subplot": "mapbox",
         "type": "scattermapbox"
        },
        {
         "hovertemplate": "Customers=University 204<br>Invoice Amount=%{marker.size}<br>Lat=%{lat}<br>Long=%{lon}<extra></extra>",
         "lat": [
          30.61102
         ],
         "legendgroup": "University 204",
         "lon": [
          -96.35275
         ],
         "marker": {
          "color": "#ab63fa",
          "size": [
           21500
          ],
          "sizemode": "area",
          "sizeref": 375
         },
         "mode": "markers",
         "name": "University 204",
         "showlegend": true,
         "subplot": "mapbox",
         "type": "scattermapbox"
        },
        {
         "hovertemplate": "Customers=University 205<br>Invoice Amount=%{marker.size}<br>Lat=%{lat}<br>Long=%{lon}<extra></extra>",
         "lat": [
          38.218713,
          38.218713,
          38.218713
         ],
         "legendgroup": "University 205",
         "lon": [
          -85.705324,
          -85.705324,
          -85.705324
         ],
         "marker": {
          "color": "#FFA15A",
          "size": [
           3100,
           3100,
           3100
          ],
          "sizemode": "area",
          "sizeref": 375
         },
         "mode": "markers",
         "name": "University 205",
         "showlegend": true,
         "subplot": "mapbox",
         "type": "scattermapbox"
        },
        {
         "hovertemplate": "Customers=University 206<br>Invoice Amount=%{marker.size}<br>Lat=%{lat}<br>Long=%{lon}<extra></extra>",
         "lat": [
          36.072981
         ],
         "legendgroup": "University 206",
         "lon": [
          -79.772479
         ],
         "marker": {
          "color": "#19d3f3",
          "size": [
           10500
          ],
          "sizemode": "area",
          "sizeref": 375
         },
         "mode": "markers",
         "name": "University 206",
         "showlegend": true,
         "subplot": "mapbox",
         "type": "scattermapbox"
        },
        {
         "hovertemplate": "Customers=University 207<br>Invoice Amount=%{marker.size}<br>Lat=%{lat}<br>Long=%{lon}<extra></extra>",
         "lat": [
          43.826541,
          43.826541
         ],
         "legendgroup": "University 207",
         "lon": [
          -70.48047199999998,
          -70.48047199999998
         ],
         "marker": {
          "color": "#FF6692",
          "size": [
           3250,
           3250
          ],
          "sizemode": "area",
          "sizeref": 375
         },
         "mode": "markers",
         "name": "University 207",
         "showlegend": true,
         "subplot": "mapbox",
         "type": "scattermapbox"
        },
        {
         "hovertemplate": "Customers=University 208<br>Invoice Amount=%{marker.size}<br>Lat=%{lat}<br>Long=%{lon}<extra></extra>",
         "lat": [
          30.414918,
          30.414918
         ],
         "legendgroup": "University 208",
         "lon": [
          -91.180665,
          -91.180665
         ],
         "marker": {
          "color": "#B6E880",
          "size": [
           7000,
           7000
          ],
          "sizemode": "area",
          "sizeref": 375
         },
         "mode": "markers",
         "name": "University 208",
         "showlegend": true,
         "subplot": "mapbox",
         "type": "scattermapbox"
        },
        {
         "hovertemplate": "Customers=University 209<br>Invoice Amount=%{marker.size}<br>Lat=%{lat}<br>Long=%{lon}<extra></extra>",
         "lat": [
          40.945173
         ],
         "legendgroup": "University 209",
         "lon": [
          -74.200317
         ],
         "marker": {
          "color": "#FF97FF",
          "size": [
           1900
          ],
          "sizemode": "area",
          "sizeref": 375
         },
         "mode": "markers",
         "name": "University 209",
         "showlegend": true,
         "subplot": "mapbox",
         "type": "scattermapbox"
        },
        {
         "hovertemplate": "Customers=University 210<br>Invoice Amount=%{marker.size}<br>Lat=%{lat}<br>Long=%{lon}<extra></extra>",
         "lat": [
          30.60431,
          30.60431
         ],
         "legendgroup": "University 210",
         "lon": [
          -87.072233,
          -87.072233
         ],
         "marker": {
          "color": "#FECB52",
          "size": [
           4658,
           4658
          ],
          "sizemode": "area",
          "sizeref": 375
         },
         "mode": "markers",
         "name": "University 210",
         "showlegend": true,
         "subplot": "mapbox",
         "type": "scattermapbox"
        },
        {
         "hovertemplate": "Customers=University 211<br>Invoice Amount=%{marker.size}<br>Lat=%{lat}<br>Long=%{lon}<extra></extra>",
         "lat": [
          40.406378
         ],
         "legendgroup": "University 211",
         "lon": [
          -104.68532
         ],
         "marker": {
          "color": "#636efa",
          "size": [
           5252
          ],
          "sizemode": "area",
          "sizeref": 375
         },
         "mode": "markers",
         "name": "University 211",
         "showlegend": true,
         "subplot": "mapbox",
         "type": "scattermapbox"
        },
        {
         "hovertemplate": "Customers=University 212<br>Invoice Amount=%{marker.size}<br>Lat=%{lat}<br>Long=%{lon}<extra></extra>",
         "lat": [
          31.327811
         ],
         "legendgroup": "University 212",
         "lon": [
          -89.332063
         ],
         "marker": {
          "color": "#EF553B",
          "size": [
           2000
          ],
          "sizemode": "area",
          "sizeref": 375
         },
         "mode": "markers",
         "name": "University 212",
         "showlegend": true,
         "subplot": "mapbox",
         "type": "scattermapbox"
        },
        {
         "hovertemplate": "Customers=University 213<br>Invoice Amount=%{marker.size}<br>Lat=%{lat}<br>Long=%{lon}<extra></extra>",
         "lat": [
          34.062015
         ],
         "legendgroup": "University 213",
         "lon": [
          -118.294481
         ],
         "marker": {
          "color": "#00cc96",
          "size": [
           1800
          ],
          "sizemode": "area",
          "sizeref": 375
         },
         "mode": "markers",
         "name": "University 213",
         "showlegend": true,
         "subplot": "mapbox",
         "type": "scattermapbox"
        },
        {
         "hovertemplate": "Customers=University 214<br>Invoice Amount=%{marker.size}<br>Lat=%{lat}<br>Long=%{lon}<extra></extra>",
         "lat": [
          21.650377
         ],
         "legendgroup": "University 214",
         "lon": [
          -157.924912
         ],
         "marker": {
          "color": "#ab63fa",
          "size": [
           3000
          ],
          "sizemode": "area",
          "sizeref": 375
         },
         "mode": "markers",
         "name": "University 214",
         "showlegend": true,
         "subplot": "mapbox",
         "type": "scattermapbox"
        },
        {
         "hovertemplate": "Customers=University 215<br>Invoice Amount=%{marker.size}<br>Lat=%{lat}<br>Long=%{lon}<extra></extra>",
         "lat": [
          44.827225
         ],
         "legendgroup": "University 215",
         "lon": [
          -68.791326
         ],
         "marker": {
          "color": "#FFA15A",
          "size": [
           1000
          ],
          "sizemode": "area",
          "sizeref": 375
         },
         "mode": "markers",
         "name": "University 215",
         "showlegend": true,
         "subplot": "mapbox",
         "type": "scattermapbox"
        },
        {
         "hovertemplate": "Customers=University 216<br>Invoice Amount=%{marker.size}<br>Lat=%{lat}<br>Long=%{lon}<extra></extra>",
         "lat": [
          35.186311
         ],
         "legendgroup": "University 216",
         "lon": [
          -111.654065
         ],
         "marker": {
          "color": "#19d3f3",
          "size": [
           625
          ],
          "sizemode": "area",
          "sizeref": 375
         },
         "mode": "markers",
         "name": "University 216",
         "showlegend": true,
         "subplot": "mapbox",
         "type": "scattermapbox"
        },
        {
         "hovertemplate": "Customers=University 217<br>Invoice Amount=%{marker.size}<br>Lat=%{lat}<br>Long=%{lon}<extra></extra>",
         "lat": [
          47.252981
         ],
         "legendgroup": "University 217",
         "lon": [
          -122.437398
         ],
         "marker": {
          "color": "#FF6692",
          "size": [
           5500
          ],
          "sizemode": "area",
          "sizeref": 375
         },
         "mode": "markers",
         "name": "University 217",
         "showlegend": true,
         "subplot": "mapbox",
         "type": "scattermapbox"
        },
        {
         "hovertemplate": "Customers=University 218<br>Invoice Amount=%{marker.size}<br>Lat=%{lat}<br>Long=%{lon}<extra></extra>",
         "lat": [
          43.802091
         ],
         "legendgroup": "University 218",
         "lon": [
          -91.244954
         ],
         "marker": {
          "color": "#B6E880",
          "size": [
           160
          ],
          "sizemode": "area",
          "sizeref": 375
         },
         "mode": "markers",
         "name": "University 218",
         "showlegend": true,
         "subplot": "mapbox",
         "type": "scattermapbox"
        },
        {
         "hovertemplate": "Customers=University 219<br>Invoice Amount=%{marker.size}<br>Lat=%{lat}<br>Long=%{lon}<extra></extra>",
         "lat": [
          34.057959999999994
         ],
         "legendgroup": "University 219",
         "lon": [
          -117.822688
         ],
         "marker": {
          "color": "#FF97FF",
          "size": [
           1029
          ],
          "sizemode": "area",
          "sizeref": 375
         },
         "mode": "markers",
         "name": "University 219",
         "showlegend": true,
         "subplot": "mapbox",
         "type": "scattermapbox"
        },
        {
         "hovertemplate": "Customers=University 220<br>Invoice Amount=%{marker.size}<br>Lat=%{lat}<br>Long=%{lon}<extra></extra>",
         "lat": [
          40.278681
         ],
         "legendgroup": "University 220",
         "lon": [
          -74.73614
         ],
         "marker": {
          "color": "#FECB52",
          "size": [
           4500
          ],
          "sizemode": "area",
          "sizeref": 375
         },
         "mode": "markers",
         "name": "University 220",
         "showlegend": true,
         "subplot": "mapbox",
         "type": "scattermapbox"
        },
        {
         "hovertemplate": "Customers=University 221<br>Invoice Amount=%{marker.size}<br>Lat=%{lat}<br>Long=%{lon}<extra></extra>",
         "lat": [
          35.95354000000001
         ],
         "legendgroup": "University 221",
         "lon": [
          -83.9272
         ],
         "marker": {
          "color": "#636efa",
          "size": [
           3500
          ],
          "sizemode": "area",
          "sizeref": 375
         },
         "mode": "markers",
         "name": "University 221",
         "showlegend": true,
         "subplot": "mapbox",
         "type": "scattermapbox"
        },
        {
         "hovertemplate": "Customers=University 222<br>Invoice Amount=%{marker.size}<br>Lat=%{lat}<br>Long=%{lon}<extra></extra>",
         "lat": [
          41.707169,
          41.707169,
          41.707169
         ],
         "legendgroup": "University 222",
         "lon": [
          -87.713854,
          -87.713854,
          -87.713854
         ],
         "marker": {
          "color": "#EF553B",
          "size": [
           3400,
           3400,
           3400
          ],
          "sizemode": "area",
          "sizeref": 375
         },
         "mode": "markers",
         "name": "University 222",
         "showlegend": true,
         "subplot": "mapbox",
         "type": "scattermapbox"
        },
        {
         "hovertemplate": "Customers=University 223<br>Invoice Amount=%{marker.size}<br>Lat=%{lat}<br>Long=%{lon}<extra></extra>",
         "lat": [
          34.681999
         ],
         "legendgroup": "University 223",
         "lon": [
          -82.782158
         ],
         "marker": {
          "color": "#00cc96",
          "size": [
           540.33
          ],
          "sizemode": "area",
          "sizeref": 375
         },
         "mode": "markers",
         "name": "University 223",
         "showlegend": true,
         "subplot": "mapbox",
         "type": "scattermapbox"
        },
        {
         "hovertemplate": "Customers=University 224<br>Invoice Amount=%{marker.size}<br>Lat=%{lat}<br>Long=%{lon}<extra></extra>",
         "lat": [
          41.981343
         ],
         "legendgroup": "University 224",
         "lon": [
          -87.718562
         ],
         "marker": {
          "color": "#ab63fa",
          "size": [
           6500
          ],
          "sizemode": "area",
          "sizeref": 375
         },
         "mode": "markers",
         "name": "University 224",
         "showlegend": true,
         "subplot": "mapbox",
         "type": "scattermapbox"
        },
        {
         "hovertemplate": "Customers=University 225<br>Invoice Amount=%{marker.size}<br>Lat=%{lat}<br>Long=%{lon}<extra></extra>",
         "lat": [
          41.532977
         ],
         "legendgroup": "University 225",
         "lon": [
          -88.098109
         ],
         "marker": {
          "color": "#FFA15A",
          "size": [
           2500
          ],
          "sizemode": "area",
          "sizeref": 375
         },
         "mode": "markers",
         "name": "University 225",
         "showlegend": true,
         "subplot": "mapbox",
         "type": "scattermapbox"
        },
        {
         "hovertemplate": "Customers=University 226<br>Invoice Amount=%{marker.size}<br>Lat=%{lat}<br>Long=%{lon}<extra></extra>",
         "lat": [
          32.318452
         ],
         "legendgroup": "University 226",
         "lon": [
          -90.169203
         ],
         "marker": {
          "color": "#19d3f3",
          "size": [
           2650
          ],
          "sizemode": "area",
          "sizeref": 375
         },
         "mode": "markers",
         "name": "University 226",
         "showlegend": true,
         "subplot": "mapbox",
         "type": "scattermapbox"
        },
        {
         "hovertemplate": "Customers=University 227<br>Invoice Amount=%{marker.size}<br>Lat=%{lat}<br>Long=%{lon}<extra></extra>",
         "lat": [
          41.41311500000001,
          41.41311500000001
         ],
         "legendgroup": "University 227",
         "lon": [
          -82.07361800000002,
          -82.07361800000002
         ],
         "marker": {
          "color": "#FF6692",
          "size": [
           1725,
           1725
          ],
          "sizemode": "area",
          "sizeref": 375
         },
         "mode": "markers",
         "name": "University 227",
         "showlegend": true,
         "subplot": "mapbox",
         "type": "scattermapbox"
        },
        {
         "hovertemplate": "Customers=University 228<br>Invoice Amount=%{marker.size}<br>Lat=%{lat}<br>Long=%{lon}<extra></extra>",
         "lat": [
          39.729471
         ],
         "legendgroup": "University 228",
         "lon": [
          -89.616833
         ],
         "marker": {
          "color": "#B6E880",
          "size": [
           2250
          ],
          "sizemode": "area",
          "sizeref": 375
         },
         "mode": "markers",
         "name": "University 228",
         "showlegend": true,
         "subplot": "mapbox",
         "type": "scattermapbox"
        },
        {
         "hovertemplate": "Customers=University 229<br>Invoice Amount=%{marker.size}<br>Lat=%{lat}<br>Long=%{lon}<extra></extra>",
         "lat": [
          43.097673,
          43.097673
         ],
         "legendgroup": "University 229",
         "lon": [
          -73.78331899999998,
          -73.78331899999998
         ],
         "marker": {
          "color": "#FF97FF",
          "size": [
           1900,
           1900
          ],
          "sizemode": "area",
          "sizeref": 375
         },
         "mode": "markers",
         "name": "University 229",
         "showlegend": true,
         "subplot": "mapbox",
         "type": "scattermapbox"
        },
        {
         "hovertemplate": "Customers=University 230<br>Invoice Amount=%{marker.size}<br>Lat=%{lat}<br>Long=%{lon}<extra></extra>",
         "lat": [
          35.99895
         ],
         "legendgroup": "University 230",
         "lon": [
          -78.94028
         ],
         "marker": {
          "color": "#FECB52",
          "size": [
           1920
          ],
          "sizemode": "area",
          "sizeref": 375
         },
         "mode": "markers",
         "name": "University 230",
         "showlegend": true,
         "subplot": "mapbox",
         "type": "scattermapbox"
        },
        {
         "hovertemplate": "Customers=University 231<br>Invoice Amount=%{marker.size}<br>Lat=%{lat}<br>Long=%{lon}<extra></extra>",
         "lat": [
          41.87599,
          41.87599
         ],
         "legendgroup": "University 231",
         "lon": [
          -87.624897,
          -87.624897
         ],
         "marker": {
          "color": "#636efa",
          "size": [
           4000,
           4000
          ],
          "sizemode": "area",
          "sizeref": 375
         },
         "mode": "markers",
         "name": "University 231",
         "showlegend": true,
         "subplot": "mapbox",
         "type": "scattermapbox"
        },
        {
         "hovertemplate": "Customers=University 232<br>Invoice Amount=%{marker.size}<br>Lat=%{lat}<br>Long=%{lon}<extra></extra>",
         "lat": [
          37.52499,
          37.52499,
          37.52499,
          37.52499,
          37.52499,
          37.52499,
          37.52499
         ],
         "legendgroup": "University 232",
         "lon": [
          -120.858459,
          -120.858459,
          -120.858459,
          -120.858459,
          -120.858459,
          -120.858459,
          -120.858459
         ],
         "marker": {
          "color": "#EF553B",
          "size": [
           7550,
           7550,
           7550,
           7550,
           7550,
           7550,
           7550
          ],
          "sizemode": "area",
          "sizeref": 375
         },
         "mode": "markers",
         "name": "University 232",
         "showlegend": true,
         "subplot": "mapbox",
         "type": "scattermapbox"
        },
        {
         "hovertemplate": "Customers=University 233<br>Invoice Amount=%{marker.size}<br>Lat=%{lat}<br>Long=%{lon}<extra></extra>",
         "lat": [
          41.473756,
          41.473756
         ],
         "legendgroup": "University 233",
         "lon": [
          -71.299017,
          -71.299017
         ],
         "marker": {
          "color": "#00cc96",
          "size": [
           1858.3,
           1858.3
          ],
          "sizemode": "area",
          "sizeref": 375
         },
         "mode": "markers",
         "name": "University 233",
         "showlegend": true,
         "subplot": "mapbox",
         "type": "scattermapbox"
        },
        {
         "hovertemplate": "Customers=University 234<br>Invoice Amount=%{marker.size}<br>Lat=%{lat}<br>Long=%{lon}<extra></extra>",
         "lat": [
          36.810853,
          36.810853
         ],
         "legendgroup": "University 234",
         "lon": [
          -83.31662,
          -83.31662
         ],
         "marker": {
          "color": "#ab63fa",
          "size": [
           1621,
           1621
          ],
          "sizemode": "area",
          "sizeref": 375
         },
         "mode": "markers",
         "name": "University 234",
         "showlegend": true,
         "subplot": "mapbox",
         "type": "scattermapbox"
        },
        {
         "hovertemplate": "Customers=University 235<br>Invoice Amount=%{marker.size}<br>Lat=%{lat}<br>Long=%{lon}<extra></extra>",
         "lat": [
          37.717467,
          37.717467
         ],
         "legendgroup": "University 235",
         "lon": [
          -89.223262,
          -89.223262
         ],
         "marker": {
          "color": "#FFA15A",
          "size": [
           2250,
           2250
          ],
          "sizemode": "area",
          "sizeref": 375
         },
         "mode": "markers",
         "name": "University 235",
         "showlegend": true,
         "subplot": "mapbox",
         "type": "scattermapbox"
        },
        {
         "hovertemplate": "Customers=University 236<br>Invoice Amount=%{marker.size}<br>Lat=%{lat}<br>Long=%{lon}<extra></extra>",
         "lat": [
          43.118799,
          43.118799,
          43.118799
         ],
         "legendgroup": "University 236",
         "lon": [
          -79.238508,
          -79.238508,
          -79.238508
         ],
         "marker": {
          "color": "#19d3f3",
          "size": [
           4012,
           4012,
           4012
          ],
          "sizemode": "area",
          "sizeref": 375
         },
         "mode": "markers",
         "name": "University 236",
         "showlegend": true,
         "subplot": "mapbox",
         "type": "scattermapbox"
        },
        {
         "hovertemplate": "Customers=University 237<br>Invoice Amount=%{marker.size}<br>Lat=%{lat}<br>Long=%{lon}<extra></extra>",
         "lat": [
          39.729732,
          39.729732
         ],
         "legendgroup": "University 237",
         "lon": [
          -121.844783,
          -121.844783
         ],
         "marker": {
          "color": "#FF6692",
          "size": [
           4500,
           4500
          ],
          "sizemode": "area",
          "sizeref": 375
         },
         "mode": "markers",
         "name": "University 237",
         "showlegend": true,
         "subplot": "mapbox",
         "type": "scattermapbox"
        },
        {
         "hovertemplate": "Customers=University 238<br>Invoice Amount=%{marker.size}<br>Lat=%{lat}<br>Long=%{lon}<extra></extra>",
         "lat": [
          37.986014,
          37.986014
         ],
         "legendgroup": "University 238",
         "lon": [
          -84.396001,
          -84.396001
         ],
         "marker": {
          "color": "#B6E880",
          "size": [
           4000,
           4000
          ],
          "sizemode": "area",
          "sizeref": 375
         },
         "mode": "markers",
         "name": "University 238",
         "showlegend": true,
         "subplot": "mapbox",
         "type": "scattermapbox"
        },
        {
         "hovertemplate": "Customers=University 239<br>Invoice Amount=%{marker.size}<br>Lat=%{lat}<br>Long=%{lon}<extra></extra>",
         "lat": [
          34.100836
         ],
         "legendgroup": "University 239",
         "lon": [
          -117.77346
         ],
         "marker": {
          "color": "#FF97FF",
          "size": [
           7000
          ],
          "sizemode": "area",
          "sizeref": 375
         },
         "mode": "markers",
         "name": "University 239",
         "showlegend": true,
         "subplot": "mapbox",
         "type": "scattermapbox"
        },
        {
         "hovertemplate": "Customers=University 240<br>Invoice Amount=%{marker.size}<br>Lat=%{lat}<br>Long=%{lon}<extra></extra>",
         "lat": [
          41.71658
         ],
         "legendgroup": "University 240",
         "lon": [
          -87.60847199999998
         ],
         "marker": {
          "color": "#FECB52",
          "size": [
           2500
          ],
          "sizemode": "area",
          "sizeref": 375
         },
         "mode": "markers",
         "name": "University 240",
         "showlegend": true,
         "subplot": "mapbox",
         "type": "scattermapbox"
        },
        {
         "hovertemplate": "Customers=University 241<br>Invoice Amount=%{marker.size}<br>Lat=%{lat}<br>Long=%{lon}<extra></extra>",
         "lat": [
          33.594374
         ],
         "legendgroup": "University 241",
         "lon": [
          -84.328396
         ],
         "marker": {
          "color": "#636efa",
          "size": [
           2500
          ],
          "sizemode": "area",
          "sizeref": 375
         },
         "mode": "markers",
         "name": "University 241",
         "showlegend": true,
         "subplot": "mapbox",
         "type": "scattermapbox"
        },
        {
         "hovertemplate": "Customers=University 242<br>Invoice Amount=%{marker.size}<br>Lat=%{lat}<br>Long=%{lon}<extra></extra>",
         "lat": [
          38.986456,
          38.986456,
          38.986456,
          38.986456
         ],
         "legendgroup": "University 242",
         "lon": [
          -76.94730600000003,
          -76.94730600000003,
          -76.94730600000003,
          -76.94730600000003
         ],
         "marker": {
          "color": "#EF553B",
          "size": [
           5600,
           5600,
           5600,
           5600
          ],
          "sizemode": "area",
          "sizeref": 375
         },
         "mode": "markers",
         "name": "University 242",
         "showlegend": true,
         "subplot": "mapbox",
         "type": "scattermapbox"
        },
        {
         "hovertemplate": "Customers=University 243<br>Invoice Amount=%{marker.size}<br>Lat=%{lat}<br>Long=%{lon}<extra></extra>",
         "lat": [
          37.399234,
          37.399234
         ],
         "legendgroup": "University 243",
         "lon": [
          -79.184348,
          -79.184348
         ],
         "marker": {
          "color": "#00cc96",
          "size": [
           762.5,
           762.5
          ],
          "sizemode": "area",
          "sizeref": 375
         },
         "mode": "markers",
         "name": "University 243",
         "showlegend": true,
         "subplot": "mapbox",
         "type": "scattermapbox"
        },
        {
         "hovertemplate": "Customers=University 244<br>Invoice Amount=%{marker.size}<br>Lat=%{lat}<br>Long=%{lon}<extra></extra>",
         "lat": [
          35.965663
         ],
         "legendgroup": "University 244",
         "lon": [
          -79.054063
         ],
         "marker": {
          "color": "#ab63fa",
          "size": [
           2250
          ],
          "sizemode": "area",
          "sizeref": 375
         },
         "mode": "markers",
         "name": "University 244",
         "showlegend": true,
         "subplot": "mapbox",
         "type": "scattermapbox"
        },
        {
         "hovertemplate": "Customers=University 245<br>Invoice Amount=%{marker.size}<br>Lat=%{lat}<br>Long=%{lon}<extra></extra>",
         "lat": [
          40.471244,
          40.471244
         ],
         "legendgroup": "University 245",
         "lon": [
          -90.685787,
          -90.685787
         ],
         "marker": {
          "color": "#FFA15A",
          "size": [
           4000,
           4000
          ],
          "sizemode": "area",
          "sizeref": 375
         },
         "mode": "markers",
         "name": "University 245",
         "showlegend": true,
         "subplot": "mapbox",
         "type": "scattermapbox"
        },
        {
         "hovertemplate": "Customers=University 246<br>Invoice Amount=%{marker.size}<br>Lat=%{lat}<br>Long=%{lon}<extra></extra>",
         "lat": [
          36.211015,
          36.211015
         ],
         "legendgroup": "University 246",
         "lon": [
          -81.6777,
          -81.6777
         ],
         "marker": {
          "color": "#19d3f3",
          "size": [
           5700,
           5700
          ],
          "sizemode": "area",
          "sizeref": 375
         },
         "mode": "markers",
         "name": "University 246",
         "showlegend": true,
         "subplot": "mapbox",
         "type": "scattermapbox"
        },
        {
         "hovertemplate": "Customers=University 247<br>Invoice Amount=%{marker.size}<br>Lat=%{lat}<br>Long=%{lon}<extra></extra>",
         "lat": [
          37.646278
         ],
         "legendgroup": "University 247",
         "lon": [
          -84.271598
         ],
         "marker": {
          "color": "#FF6692",
          "size": [
           2600
          ],
          "sizemode": "area",
          "sizeref": 375
         },
         "mode": "markers",
         "name": "University 247",
         "showlegend": true,
         "subplot": "mapbox",
         "type": "scattermapbox"
        },
        {
         "hovertemplate": "Customers=University 248<br>Invoice Amount=%{marker.size}<br>Lat=%{lat}<br>Long=%{lon}<extra></extra>",
         "lat": [
          41.26541
         ],
         "legendgroup": "University 248",
         "lon": [
          -95.947789
         ],
         "marker": {
          "color": "#B6E880",
          "size": [
           425
          ],
          "sizemode": "area",
          "sizeref": 375
         },
         "mode": "markers",
         "name": "University 248",
         "showlegend": true,
         "subplot": "mapbox",
         "type": "scattermapbox"
        },
        {
         "hovertemplate": "Customers=University 249<br>Invoice Amount=%{marker.size}<br>Lat=%{lat}<br>Long=%{lon}<extra></extra>",
         "lat": [
          39.975266,
          39.975266
         ],
         "legendgroup": "University 249",
         "lon": [
          -75.279752,
          -75.279752
         ],
         "marker": {
          "color": "#FF97FF",
          "size": [
           9060,
           9060
          ],
          "sizemode": "area",
          "sizeref": 375
         },
         "mode": "markers",
         "name": "University 249",
         "showlegend": true,
         "subplot": "mapbox",
         "type": "scattermapbox"
        },
        {
         "hovertemplate": "Customers=University 250<br>Invoice Amount=%{marker.size}<br>Lat=%{lat}<br>Long=%{lon}<extra></extra>",
         "lat": [
          33.574397
         ],
         "legendgroup": "University 250",
         "lon": [
          -85.09905400000002
         ],
         "marker": {
          "color": "#FECB52",
          "size": [
           3500
          ],
          "sizemode": "area",
          "sizeref": 375
         },
         "mode": "markers",
         "name": "University 250",
         "showlegend": true,
         "subplot": "mapbox",
         "type": "scattermapbox"
        },
        {
         "hovertemplate": "Customers=University 251<br>Invoice Amount=%{marker.size}<br>Lat=%{lat}<br>Long=%{lon}<extra></extra>",
         "lat": [
          43.095287
         ],
         "legendgroup": "University 251",
         "lon": [
          -75.271726
         ],
         "marker": {
          "color": "#636efa",
          "size": [
           1750
          ],
          "sizemode": "area",
          "sizeref": 375
         },
         "mode": "markers",
         "name": "University 251",
         "showlegend": true,
         "subplot": "mapbox",
         "type": "scattermapbox"
        },
        {
         "hovertemplate": "Customers=University 252<br>Invoice Amount=%{marker.size}<br>Lat=%{lat}<br>Long=%{lon}<extra></extra>",
         "lat": [
          33.653502
         ],
         "legendgroup": "University 252",
         "lon": [
          -117.809732
         ],
         "marker": {
          "color": "#EF553B",
          "size": [
           550
          ],
          "sizemode": "area",
          "sizeref": 375
         },
         "mode": "markers",
         "name": "University 252",
         "showlegend": true,
         "subplot": "mapbox",
         "type": "scattermapbox"
        },
        {
         "hovertemplate": "Customers=University 253<br>Invoice Amount=%{marker.size}<br>Lat=%{lat}<br>Long=%{lon}<extra></extra>",
         "lat": [
          33.782523
         ],
         "legendgroup": "University 253",
         "lon": [
          -118.122205
         ],
         "marker": {
          "color": "#00cc96",
          "size": [
           2000
          ],
          "sizemode": "area",
          "sizeref": 375
         },
         "mode": "markers",
         "name": "University 253",
         "showlegend": true,
         "subplot": "mapbox",
         "type": "scattermapbox"
        },
        {
         "hovertemplate": "Customers=University 254<br>Invoice Amount=%{marker.size}<br>Lat=%{lat}<br>Long=%{lon}<extra></extra>",
         "lat": [
          34.196573
         ],
         "legendgroup": "University 254",
         "lon": [
          -79.655068
         ],
         "marker": {
          "color": "#ab63fa",
          "size": [
           2100
          ],
          "sizemode": "area",
          "sizeref": 375
         },
         "mode": "markers",
         "name": "University 254",
         "showlegend": true,
         "subplot": "mapbox",
         "type": "scattermapbox"
        },
        {
         "hovertemplate": "Customers=University 255<br>Invoice Amount=%{marker.size}<br>Lat=%{lat}<br>Long=%{lon}<extra></extra>",
         "lat": [
          40.874542,
          40.874542,
          40.874542
         ],
         "legendgroup": "University 255",
         "lon": [
          -124.079145,
          -124.079145,
          -124.079145
         ],
         "marker": {
          "color": "#FFA15A",
          "size": [
           4350,
           4350,
           4350
          ],
          "sizemode": "area",
          "sizeref": 375
         },
         "mode": "markers",
         "name": "University 255",
         "showlegend": true,
         "subplot": "mapbox",
         "type": "scattermapbox"
        },
        {
         "hovertemplate": "Customers=University 256<br>Invoice Amount=%{marker.size}<br>Lat=%{lat}<br>Long=%{lon}<extra></extra>",
         "lat": [
          38.378931
         ],
         "legendgroup": "University 256",
         "lon": [
          -78.970686
         ],
         "marker": {
          "color": "#19d3f3",
          "size": [
           2600
          ],
          "sizemode": "area",
          "sizeref": 375
         },
         "mode": "markers",
         "name": "University 256",
         "showlegend": true,
         "subplot": "mapbox",
         "type": "scattermapbox"
        },
        {
         "hovertemplate": "Customers=University 257<br>Invoice Amount=%{marker.size}<br>Lat=%{lat}<br>Long=%{lon}<extra></extra>",
         "lat": [
          31.197474
         ],
         "legendgroup": "University 257",
         "lon": [
          -92.42179
         ],
         "marker": {
          "color": "#FF6692",
          "size": [
           562
          ],
          "sizemode": "area",
          "sizeref": 375
         },
         "mode": "markers",
         "name": "University 257",
         "showlegend": true,
         "subplot": "mapbox",
         "type": "scattermapbox"
        },
        {
         "hovertemplate": "Customers=University 258<br>Invoice Amount=%{marker.size}<br>Lat=%{lat}<br>Long=%{lon}<extra></extra>",
         "lat": [
          33.453832,
          33.453832
         ],
         "legendgroup": "University 258",
         "lon": [
          -88.794057,
          -88.794057
         ],
         "marker": {
          "color": "#B6E880",
          "size": [
           8500,
           8500
          ],
          "sizemode": "area",
          "sizeref": 375
         },
         "mode": "markers",
         "name": "University 258",
         "showlegend": true,
         "subplot": "mapbox",
         "type": "scattermapbox"
        },
        {
         "hovertemplate": "Customers=University 259<br>Invoice Amount=%{marker.size}<br>Lat=%{lat}<br>Long=%{lon}<extra></extra>",
         "lat": [
          40.091913
         ],
         "legendgroup": "University 259",
         "lon": [
          -75.16529399999997
         ],
         "marker": {
          "color": "#FF97FF",
          "size": [
           1800
          ],
          "sizemode": "area",
          "sizeref": 375
         },
         "mode": "markers",
         "name": "University 259",
         "showlegend": true,
         "subplot": "mapbox",
         "type": "scattermapbox"
        },
        {
         "hovertemplate": "Customers=University 260<br>Invoice Amount=%{marker.size}<br>Lat=%{lat}<br>Long=%{lon}<extra></extra>",
         "lat": [
          30.440722,
          30.440722
         ],
         "legendgroup": "University 260",
         "lon": [
          -84.299188,
          -84.299188
         ],
         "marker": {
          "color": "#FECB52",
          "size": [
           4050,
           4050
          ],
          "sizemode": "area",
          "sizeref": 375
         },
         "mode": "markers",
         "name": "University 260",
         "showlegend": true,
         "subplot": "mapbox",
         "type": "scattermapbox"
        },
        {
         "hovertemplate": "Customers=University 261<br>Invoice Amount=%{marker.size}<br>Lat=%{lat}<br>Long=%{lon}<extra></extra>",
         "lat": [
          35.246358
         ],
         "legendgroup": "University 261",
         "lon": [
          -91.725751
         ],
         "marker": {
          "color": "#636efa",
          "size": [
           1375
          ],
          "sizemode": "area",
          "sizeref": 375
         },
         "mode": "markers",
         "name": "University 261",
         "showlegend": true,
         "subplot": "mapbox",
         "type": "scattermapbox"
        },
        {
         "hovertemplate": "Customers=University 262<br>Invoice Amount=%{marker.size}<br>Lat=%{lat}<br>Long=%{lon}<extra></extra>",
         "lat": [
          35.969976,
          35.969976,
          35.969976
         ],
         "legendgroup": "University 262",
         "lon": [
          -78.896305,
          -78.896305,
          -78.896305
         ],
         "marker": {
          "color": "#EF553B",
          "size": [
           2875,
           2875,
           2875
          ],
          "sizemode": "area",
          "sizeref": 375
         },
         "mode": "markers",
         "name": "University 262",
         "showlegend": true,
         "subplot": "mapbox",
         "type": "scattermapbox"
        },
        {
         "hovertemplate": "Customers=University 263<br>Invoice Amount=%{marker.size}<br>Lat=%{lat}<br>Long=%{lon}<extra></extra>",
         "lat": [
          41.844141
         ],
         "legendgroup": "University 263",
         "lon": [
          -71.43818
         ],
         "marker": {
          "color": "#00cc96",
          "size": [
           750
          ],
          "sizemode": "area",
          "sizeref": 375
         },
         "mode": "markers",
         "name": "University 263",
         "showlegend": true,
         "subplot": "mapbox",
         "type": "scattermapbox"
        },
        {
         "hovertemplate": "Customers=University 264<br>Invoice Amount=%{marker.size}<br>Lat=%{lat}<br>Long=%{lon}<extra></extra>",
         "lat": [
          39.97713
         ],
         "legendgroup": "University 264",
         "lon": [
          -75.13381
         ],
         "marker": {
          "color": "#ab63fa",
          "size": [
           550
          ],
          "sizemode": "area",
          "sizeref": 375
         },
         "mode": "markers",
         "name": "University 264",
         "showlegend": true,
         "subplot": "mapbox",
         "type": "scattermapbox"
        },
        {
         "hovertemplate": "Customers=University 265<br>Invoice Amount=%{marker.size}<br>Lat=%{lat}<br>Long=%{lon}<extra></extra>",
         "lat": [
          32.303215,
          32.303215
         ],
         "legendgroup": "University 265",
         "lon": [
          -80.973589,
          -80.973589
         ],
         "marker": {
          "color": "#FFA15A",
          "size": [
           2250,
           2250
          ],
          "sizemode": "area",
          "sizeref": 375
         },
         "mode": "markers",
         "name": "University 265",
         "showlegend": true,
         "subplot": "mapbox",
         "type": "scattermapbox"
        },
        {
         "hovertemplate": "Customers=University 266<br>Invoice Amount=%{marker.size}<br>Lat=%{lat}<br>Long=%{lon}<extra></extra>",
         "lat": [
          33.877416
         ],
         "legendgroup": "University 266",
         "lon": [
          -117.88516
         ],
         "marker": {
          "color": "#19d3f3",
          "size": [
           1500
          ],
          "sizemode": "area",
          "sizeref": 375
         },
         "mode": "markers",
         "name": "University 266",
         "showlegend": true,
         "subplot": "mapbox",
         "type": "scattermapbox"
        },
        {
         "hovertemplate": "Customers=University 267<br>Invoice Amount=%{marker.size}<br>Lat=%{lat}<br>Long=%{lon}<extra></extra>",
         "lat": [
          35.165903
         ],
         "legendgroup": "University 267",
         "lon": [
          -84.87142
         ],
         "marker": {
          "color": "#FF6692",
          "size": [
           450
          ],
          "sizemode": "area",
          "sizeref": 375
         },
         "mode": "markers",
         "name": "University 267",
         "showlegend": true,
         "subplot": "mapbox",
         "type": "scattermapbox"
        },
        {
         "hovertemplate": "Customers=University 268<br>Invoice Amount=%{marker.size}<br>Lat=%{lat}<br>Long=%{lon}<extra></extra>",
         "lat": [
          41.776234
         ],
         "legendgroup": "University 268",
         "lon": [
          -88.143287
         ],
         "marker": {
          "color": "#B6E880",
          "size": [
           2500
          ],
          "sizemode": "area",
          "sizeref": 375
         },
         "mode": "markers",
         "name": "University 268",
         "showlegend": true,
         "subplot": "mapbox",
         "type": "scattermapbox"
        },
        {
         "hovertemplate": "Customers=University 269<br>Invoice Amount=%{marker.size}<br>Lat=%{lat}<br>Long=%{lon}<extra></extra>",
         "lat": [
          34.318626
         ],
         "legendgroup": "University 269",
         "lon": [
          -84.554344
         ],
         "marker": {
          "color": "#FF97FF",
          "size": [
           2300
          ],
          "sizemode": "area",
          "sizeref": 375
         },
         "mode": "markers",
         "name": "University 269",
         "showlegend": true,
         "subplot": "mapbox",
         "type": "scattermapbox"
        },
        {
         "hovertemplate": "Customers=University 270<br>Invoice Amount=%{marker.size}<br>Lat=%{lat}<br>Long=%{lon}<extra></extra>",
         "lat": [
          40.74334
         ],
         "legendgroup": "University 270",
         "lon": [
          -74.24659399999999
         ],
         "marker": {
          "color": "#FECB52",
          "size": [
           4300
          ],
          "sizemode": "area",
          "sizeref": 375
         },
         "mode": "markers",
         "name": "University 270",
         "showlegend": true,
         "subplot": "mapbox",
         "type": "scattermapbox"
        },
        {
         "hovertemplate": "Customers=University 271<br>Invoice Amount=%{marker.size}<br>Lat=%{lat}<br>Long=%{lon}<extra></extra>",
         "lat": [
          40.809133
         ],
         "legendgroup": "University 271",
         "lon": [
          -81.936777
         ],
         "marker": {
          "color": "#636efa",
          "size": [
           1610
          ],
          "sizemode": "area",
          "sizeref": 375
         },
         "mode": "markers",
         "name": "University 271",
         "showlegend": true,
         "subplot": "mapbox",
         "type": "scattermapbox"
        },
        {
         "hovertemplate": "Customers=University 272<br>Invoice Amount=%{marker.size}<br>Lat=%{lat}<br>Long=%{lon}<extra></extra>",
         "lat": [
          35.083789
         ],
         "legendgroup": "University 272",
         "lon": [
          -106.620276
         ],
         "marker": {
          "color": "#EF553B",
          "size": [
           2000
          ],
          "sizemode": "area",
          "sizeref": 375
         },
         "mode": "markers",
         "name": "University 272",
         "showlegend": true,
         "subplot": "mapbox",
         "type": "scattermapbox"
        },
        {
         "hovertemplate": "Customers=University 273<br>Invoice Amount=%{marker.size}<br>Lat=%{lat}<br>Long=%{lon}<extra></extra>",
         "lat": [
          38.7503
         ],
         "legendgroup": "University 273",
         "lon": [
          -90.427725
         ],
         "marker": {
          "color": "#00cc96",
          "size": [
           575
          ],
          "sizemode": "area",
          "sizeref": 375
         },
         "mode": "markers",
         "name": "University 273",
         "showlegend": true,
         "subplot": "mapbox",
         "type": "scattermapbox"
        },
        {
         "hovertemplate": "Customers=University 274<br>Invoice Amount=%{marker.size}<br>Lat=%{lat}<br>Long=%{lon}<extra></extra>",
         "lat": [
          33.099384,
          33.099384
         ],
         "legendgroup": "University 274",
         "lon": [
          -86.864512,
          -86.864512
         ],
         "marker": {
          "color": "#ab63fa",
          "size": [
           2250,
           2250
          ],
          "sizemode": "area",
          "sizeref": 375
         },
         "mode": "markers",
         "name": "University 274",
         "showlegend": true,
         "subplot": "mapbox",
         "type": "scattermapbox"
        },
        {
         "hovertemplate": "Customers=University 275<br>Invoice Amount=%{marker.size}<br>Lat=%{lat}<br>Long=%{lon}<extra></extra>",
         "lat": [
          47.92019000000001,
          47.92019000000001
         ],
         "legendgroup": "University 275",
         "lon": [
          -97.07046,
          -97.07046
         ],
         "marker": {
          "color": "#FFA15A",
          "size": [
           1904,
           1904
          ],
          "sizemode": "area",
          "sizeref": 375
         },
         "mode": "markers",
         "name": "University 275",
         "showlegend": true,
         "subplot": "mapbox",
         "type": "scattermapbox"
        },
        {
         "hovertemplate": "Customers=University 276<br>Invoice Amount=%{marker.size}<br>Lat=%{lat}<br>Long=%{lon}<extra></extra>",
         "lat": [
          43.075647
         ],
         "legendgroup": "University 276",
         "lon": [
          -89.402263
         ],
         "marker": {
          "color": "#19d3f3",
          "size": [
           1680
          ],
          "sizemode": "area",
          "sizeref": 375
         },
         "mode": "markers",
         "name": "University 276",
         "showlegend": true,
         "subplot": "mapbox",
         "type": "scattermapbox"
        },
        {
         "hovertemplate": "Customers=University 277<br>Invoice Amount=%{marker.size}<br>Lat=%{lat}<br>Long=%{lon}<extra></extra>",
         "lat": [
          33.795302
         ],
         "legendgroup": "University 277",
         "lon": [
          -79.007856
         ],
         "marker": {
          "color": "#FF6692",
          "size": [
           3300
          ],
          "sizemode": "area",
          "sizeref": 375
         },
         "mode": "markers",
         "name": "University 277",
         "showlegend": true,
         "subplot": "mapbox",
         "type": "scattermapbox"
        },
        {
         "hovertemplate": "Customers=University 278<br>Invoice Amount=%{marker.size}<br>Lat=%{lat}<br>Long=%{lon}<extra></extra>",
         "lat": [
          39.283545
         ],
         "legendgroup": "University 278",
         "lon": [
          -80.567163
         ],
         "marker": {
          "color": "#B6E880",
          "size": [
           2500
          ],
          "sizemode": "area",
          "sizeref": 375
         },
         "mode": "markers",
         "name": "University 278",
         "showlegend": true,
         "subplot": "mapbox",
         "type": "scattermapbox"
        },
        {
         "hovertemplate": "Customers=University 279<br>Invoice Amount=%{marker.size}<br>Lat=%{lat}<br>Long=%{lon}<extra></extra>",
         "lat": [
          33.879662
         ],
         "legendgroup": "University 279",
         "lon": [
          -117.885496
         ],
         "marker": {
          "color": "#FF97FF",
          "size": [
           4000
          ],
          "sizemode": "area",
          "sizeref": 375
         },
         "mode": "markers",
         "name": "University 279",
         "showlegend": true,
         "subplot": "mapbox",
         "type": "scattermapbox"
        },
        {
         "hovertemplate": "Customers=University 280<br>Invoice Amount=%{marker.size}<br>Lat=%{lat}<br>Long=%{lon}<extra></extra>",
         "lat": [
          35.750561
         ],
         "legendgroup": "University 280",
         "lon": [
          -83.962582
         ],
         "marker": {
          "color": "#FECB52",
          "size": [
           562
          ],
          "sizemode": "area",
          "sizeref": 375
         },
         "mode": "markers",
         "name": "University 280",
         "showlegend": true,
         "subplot": "mapbox",
         "type": "scattermapbox"
        },
        {
         "hovertemplate": "Customers=University 281<br>Invoice Amount=%{marker.size}<br>Lat=%{lat}<br>Long=%{lon}<extra></extra>",
         "lat": [
          40.057891
         ],
         "legendgroup": "University 281",
         "lon": [
          -77.52251700000002
         ],
         "marker": {
          "color": "#636efa",
          "size": [
           5000
          ],
          "sizemode": "area",
          "sizeref": 375
         },
         "mode": "markers",
         "name": "University 281",
         "showlegend": true,
         "subplot": "mapbox",
         "type": "scattermapbox"
        },
        {
         "hovertemplate": "Customers=University 282<br>Invoice Amount=%{marker.size}<br>Lat=%{lat}<br>Long=%{lon}<extra></extra>",
         "lat": [
          42.024516
         ],
         "legendgroup": "University 282",
         "lon": [
          -73.903544
         ],
         "marker": {
          "color": "#EF553B",
          "size": [
           437
          ],
          "sizemode": "area",
          "sizeref": 375
         },
         "mode": "markers",
         "name": "University 282",
         "showlegend": true,
         "subplot": "mapbox",
         "type": "scattermapbox"
        },
        {
         "hovertemplate": "Customers=University 283<br>Invoice Amount=%{marker.size}<br>Lat=%{lat}<br>Long=%{lon}<extra></extra>",
         "lat": [
          34.291869
         ],
         "legendgroup": "University 283",
         "lon": [
          -85.179874
         ],
         "marker": {
          "color": "#00cc96",
          "size": [
           1650
          ],
          "sizemode": "area",
          "sizeref": 375
         },
         "mode": "markers",
         "name": "University 283",
         "showlegend": true,
         "subplot": "mapbox",
         "type": "scattermapbox"
        },
        {
         "hovertemplate": "Customers=University 284<br>Invoice Amount=%{marker.size}<br>Lat=%{lat}<br>Long=%{lon}<extra></extra>",
         "lat": [
          40.696765
         ],
         "legendgroup": "University 284",
         "lon": [
          -89.615822
         ],
         "marker": {
          "color": "#ab63fa",
          "size": [
           565
          ],
          "sizemode": "area",
          "sizeref": 375
         },
         "mode": "markers",
         "name": "University 284",
         "showlegend": true,
         "subplot": "mapbox",
         "type": "scattermapbox"
        },
        {
         "hovertemplate": "Customers=University 285<br>Invoice Amount=%{marker.size}<br>Lat=%{lat}<br>Long=%{lon}<extra></extra>",
         "lat": [
          37.965603
         ],
         "legendgroup": "University 285",
         "lon": [
          -120.404284
         ],
         "marker": {
          "color": "#FFA15A",
          "size": [
           1000
          ],
          "sizemode": "area",
          "sizeref": 375
         },
         "mode": "markers",
         "name": "University 285",
         "showlegend": true,
         "subplot": "mapbox",
         "type": "scattermapbox"
        },
        {
         "hovertemplate": "Customers=University 286<br>Invoice Amount=%{marker.size}<br>Lat=%{lat}<br>Long=%{lon}<extra></extra>",
         "lat": [
          35.79844
         ],
         "legendgroup": "University 286",
         "lon": [
          -78.688283
         ],
         "marker": {
          "color": "#19d3f3",
          "size": [
           800
          ],
          "sizemode": "area",
          "sizeref": 375
         },
         "mode": "markers",
         "name": "University 286",
         "showlegend": true,
         "subplot": "mapbox",
         "type": "scattermapbox"
        },
        {
         "hovertemplate": "Customers=University 287<br>Invoice Amount=%{marker.size}<br>Lat=%{lat}<br>Long=%{lon}<extra></extra>",
         "lat": [
          34.124993
         ],
         "legendgroup": "University 287",
         "lon": [
          -93.052745
         ],
         "marker": {
          "color": "#FF6692",
          "size": [
           2070
          ],
          "sizemode": "area",
          "sizeref": 375
         },
         "mode": "markers",
         "name": "University 287",
         "showlegend": true,
         "subplot": "mapbox",
         "type": "scattermapbox"
        },
        {
         "hovertemplate": "Customers=University 288<br>Invoice Amount=%{marker.size}<br>Lat=%{lat}<br>Long=%{lon}<extra></extra>",
         "lat": [
          40.501913
         ],
         "legendgroup": "University 288",
         "lon": [
          -74.446621
         ],
         "marker": {
          "color": "#B6E880",
          "size": [
           4500
          ],
          "sizemode": "area",
          "sizeref": 375
         },
         "mode": "markers",
         "name": "University 288",
         "showlegend": true,
         "subplot": "mapbox",
         "type": "scattermapbox"
        },
        {
         "hovertemplate": "Customers=University 289<br>Invoice Amount=%{marker.size}<br>Lat=%{lat}<br>Long=%{lon}<extra></extra>",
         "lat": [
          32.314909
         ],
         "legendgroup": "University 289",
         "lon": [
          -95.254302
         ],
         "marker": {
          "color": "#FF97FF",
          "size": [
           1250
          ],
          "sizemode": "area",
          "sizeref": 375
         },
         "mode": "markers",
         "name": "University 289",
         "showlegend": true,
         "subplot": "mapbox",
         "type": "scattermapbox"
        },
        {
         "hovertemplate": "Customers=University 290<br>Invoice Amount=%{marker.size}<br>Lat=%{lat}<br>Long=%{lon}<extra></extra>",
         "lat": [
          43.686786
         ],
         "legendgroup": "University 290",
         "lon": [
          -85.480963
         ],
         "marker": {
          "color": "#FECB52",
          "size": [
           6600
          ],
          "sizemode": "area",
          "sizeref": 375
         },
         "mode": "markers",
         "name": "University 290",
         "showlegend": true,
         "subplot": "mapbox",
         "type": "scattermapbox"
        },
        {
         "hovertemplate": "Customers=University 291<br>Invoice Amount=%{marker.size}<br>Lat=%{lat}<br>Long=%{lon}<extra></extra>",
         "lat": [
          26.551674
         ],
         "legendgroup": "University 291",
         "lon": [
          -81.889023
         ],
         "marker": {
          "color": "#636efa",
          "size": [
           4000
          ],
          "sizemode": "area",
          "sizeref": 375
         },
         "mode": "markers",
         "name": "University 291",
         "showlegend": true,
         "subplot": "mapbox",
         "type": "scattermapbox"
        },
        {
         "hovertemplate": "Customers=University 292<br>Invoice Amount=%{marker.size}<br>Lat=%{lat}<br>Long=%{lon}<extra></extra>",
         "lat": [
          38.71940900000001
         ],
         "legendgroup": "University 292",
         "lon": [
          -85.461254
         ],
         "marker": {
          "color": "#EF553B",
          "size": [
           550
          ],
          "sizemode": "area",
          "sizeref": 375
         },
         "mode": "markers",
         "name": "University 292",
         "showlegend": true,
         "subplot": "mapbox",
         "type": "scattermapbox"
        },
        {
         "hovertemplate": "Customers=University 293<br>Invoice Amount=%{marker.size}<br>Lat=%{lat}<br>Long=%{lon}<extra></extra>",
         "lat": [
          38.309475
         ],
         "legendgroup": "University 293",
         "lon": [
          -104.577707
         ],
         "marker": {
          "color": "#00cc96",
          "size": [
           4500
          ],
          "sizemode": "area",
          "sizeref": 375
         },
         "mode": "markers",
         "name": "University 293",
         "showlegend": true,
         "subplot": "mapbox",
         "type": "scattermapbox"
        },
        {
         "hovertemplate": "Customers=University 294<br>Invoice Amount=%{marker.size}<br>Lat=%{lat}<br>Long=%{lon}<extra></extra>",
         "lat": [
          34.182623
         ],
         "legendgroup": "University 294",
         "lon": [
          -117.323808
         ],
         "marker": {
          "color": "#ab63fa",
          "size": [
           5000
          ],
          "sizemode": "area",
          "sizeref": 375
         },
         "mode": "markers",
         "name": "University 294",
         "showlegend": true,
         "subplot": "mapbox",
         "type": "scattermapbox"
        },
        {
         "hovertemplate": "Customers=University 295<br>Invoice Amount=%{marker.size}<br>Lat=%{lat}<br>Long=%{lon}<extra></extra>",
         "lat": [
          42.251589
         ],
         "legendgroup": "University 295",
         "lon": [
          -83.62747900000002
         ],
         "marker": {
          "color": "#FFA15A",
          "size": [
           1710
          ],
          "sizemode": "area",
          "sizeref": 375
         },
         "mode": "markers",
         "name": "University 295",
         "showlegend": true,
         "subplot": "mapbox",
         "type": "scattermapbox"
        },
        {
         "hovertemplate": "Customers=University 296<br>Invoice Amount=%{marker.size}<br>Lat=%{lat}<br>Long=%{lon}<extra></extra>",
         "lat": [
          42.859346
         ],
         "legendgroup": "University 296",
         "lon": [
          -76.985599
         ],
         "marker": {
          "color": "#19d3f3",
          "size": [
           525
          ],
          "sizemode": "area",
          "sizeref": 375
         },
         "mode": "markers",
         "name": "University 296",
         "showlegend": true,
         "subplot": "mapbox",
         "type": "scattermapbox"
        },
        {
         "hovertemplate": "Customers=University 297<br>Invoice Amount=%{marker.size}<br>Lat=%{lat}<br>Long=%{lon}<extra></extra>",
         "lat": [
          41.49021,
          41.49021
         ],
         "legendgroup": "University 297",
         "lon": [
          -81.53125,
          -81.53125
         ],
         "marker": {
          "color": "#FF6692",
          "size": [
           1500,
           1500
          ],
          "sizemode": "area",
          "sizeref": 375
         },
         "mode": "markers",
         "name": "University 297",
         "showlegend": true,
         "subplot": "mapbox",
         "type": "scattermapbox"
        },
        {
         "hovertemplate": "Customers=University 298<br>Invoice Amount=%{marker.size}<br>Lat=%{lat}<br>Long=%{lon}<extra></extra>",
         "lat": [
          40.331722
         ],
         "legendgroup": "University 298",
         "lon": [
          -76.513914
         ],
         "marker": {
          "color": "#B6E880",
          "size": [
           3700
          ],
          "sizemode": "area",
          "sizeref": 375
         },
         "mode": "markers",
         "name": "University 298",
         "showlegend": true,
         "subplot": "mapbox",
         "type": "scattermapbox"
        },
        {
         "hovertemplate": "Customers=University 299<br>Invoice Amount=%{marker.size}<br>Lat=%{lat}<br>Long=%{lon}<extra></extra>",
         "lat": [
          41.605429,
          41.605429
         ],
         "legendgroup": "University 299",
         "lon": [
          -88.079822,
          -88.079822
         ],
         "marker": {
          "color": "#FF97FF",
          "size": [
           3500,
           3500
          ],
          "sizemode": "area",
          "sizeref": 375
         },
         "mode": "markers",
         "name": "University 299",
         "showlegend": true,
         "subplot": "mapbox",
         "type": "scattermapbox"
        },
        {
         "hovertemplate": "Customers=University 300<br>Invoice Amount=%{marker.size}<br>Lat=%{lat}<br>Long=%{lon}<extra></extra>",
         "lat": [
          37.65131,
          37.65131
         ],
         "legendgroup": "University 300",
         "lon": [
          -121.009726,
          -121.009726
         ],
         "marker": {
          "color": "#FECB52",
          "size": [
           3250,
           3250
          ],
          "sizemode": "area",
          "sizeref": 375
         },
         "mode": "markers",
         "name": "University 300",
         "showlegend": true,
         "subplot": "mapbox",
         "type": "scattermapbox"
        },
        {
         "hovertemplate": "Customers=University 301<br>Invoice Amount=%{marker.size}<br>Lat=%{lat}<br>Long=%{lon}<extra></extra>",
         "lat": [
          39.343077
         ],
         "legendgroup": "University 301",
         "lon": [
          -76.584521
         ],
         "marker": {
          "color": "#636efa",
          "size": [
           2250
          ],
          "sizemode": "area",
          "sizeref": 375
         },
         "mode": "markers",
         "name": "University 301",
         "showlegend": true,
         "subplot": "mapbox",
         "type": "scattermapbox"
        },
        {
         "hovertemplate": "Customers=University 302<br>Invoice Amount=%{marker.size}<br>Lat=%{lat}<br>Long=%{lon}<extra></extra>",
         "lat": [
          41.080636
         ],
         "legendgroup": "University 302",
         "lon": [
          -74.17364
         ],
         "marker": {
          "color": "#EF553B",
          "size": [
           400
          ],
          "sizemode": "area",
          "sizeref": 375
         },
         "mode": "markers",
         "name": "University 302",
         "showlegend": true,
         "subplot": "mapbox",
         "type": "scattermapbox"
        },
        {
         "hovertemplate": "Customers=University 303<br>Invoice Amount=%{marker.size}<br>Lat=%{lat}<br>Long=%{lon}<extra></extra>",
         "lat": [
          35.141185
         ],
         "legendgroup": "University 303",
         "lon": [
          -89.98176600000002
         ],
         "marker": {
          "color": "#00cc96",
          "size": [
           2100
          ],
          "sizemode": "area",
          "sizeref": 375
         },
         "mode": "markers",
         "name": "University 303",
         "showlegend": true,
         "subplot": "mapbox",
         "type": "scattermapbox"
        },
        {
         "hovertemplate": "Customers=University 304<br>Invoice Amount=%{marker.size}<br>Lat=%{lat}<br>Long=%{lon}<extra></extra>",
         "lat": [
          37.315867
         ],
         "legendgroup": "University 304",
         "lon": [
          -89.529422
         ],
         "marker": {
          "color": "#ab63fa",
          "size": [
           1825
          ],
          "sizemode": "area",
          "sizeref": 375
         },
         "mode": "markers",
         "name": "University 304",
         "showlegend": true,
         "subplot": "mapbox",
         "type": "scattermapbox"
        },
        {
         "hovertemplate": "Customers=University 305<br>Invoice Amount=%{marker.size}<br>Lat=%{lat}<br>Long=%{lon}<extra></extra>",
         "lat": [
          32.7957
         ],
         "legendgroup": "University 305",
         "lon": [
          -79.961416
         ],
         "marker": {
          "color": "#FFA15A",
          "size": [
           625
          ],
          "sizemode": "area",
          "sizeref": 375
         },
         "mode": "markers",
         "name": "University 305",
         "showlegend": true,
         "subplot": "mapbox",
         "type": "scattermapbox"
        },
        {
         "hovertemplate": "Customers=University 306<br>Invoice Amount=%{marker.size}<br>Lat=%{lat}<br>Long=%{lon}<extra></extra>",
         "lat": [
          44.525035
         ],
         "legendgroup": "University 306",
         "lon": [
          -69.664749
         ],
         "marker": {
          "color": "#19d3f3",
          "size": [
           625
          ],
          "sizemode": "area",
          "sizeref": 375
         },
         "mode": "markers",
         "name": "University 306",
         "showlegend": true,
         "subplot": "mapbox",
         "type": "scattermapbox"
        },
        {
         "hovertemplate": "Customers=University 307<br>Invoice Amount=%{marker.size}<br>Lat=%{lat}<br>Long=%{lon}<extra></extra>",
         "lat": [
          42.131186
         ],
         "legendgroup": "University 307",
         "lon": [
          -72.794618
         ],
         "marker": {
          "color": "#FF6692",
          "size": [
           5500
          ],
          "sizemode": "area",
          "sizeref": 375
         },
         "mode": "markers",
         "name": "University 307",
         "showlegend": true,
         "subplot": "mapbox",
         "type": "scattermapbox"
        },
        {
         "hovertemplate": "Customers=University 308<br>Invoice Amount=%{marker.size}<br>Lat=%{lat}<br>Long=%{lon}<extra></extra>",
         "lat": [
          34.513986
         ],
         "legendgroup": "University 308",
         "lon": [
          -82.63873199999998
         ],
         "marker": {
          "color": "#B6E880",
          "size": [
           800
          ],
          "sizemode": "area",
          "sizeref": 375
         },
         "mode": "markers",
         "name": "University 308",
         "showlegend": true,
         "subplot": "mapbox",
         "type": "scattermapbox"
        },
        {
         "hovertemplate": "Customers=University 309<br>Invoice Amount=%{marker.size}<br>Lat=%{lat}<br>Long=%{lon}<extra></extra>",
         "lat": [
          35.736373
         ],
         "legendgroup": "University 309",
         "lon": [
          -77.913347
         ],
         "marker": {
          "color": "#FF97FF",
          "size": [
           2300
          ],
          "sizemode": "area",
          "sizeref": 375
         },
         "mode": "markers",
         "name": "University 309",
         "showlegend": true,
         "subplot": "mapbox",
         "type": "scattermapbox"
        },
        {
         "hovertemplate": "Customers=University 310<br>Invoice Amount=%{marker.size}<br>Lat=%{lat}<br>Long=%{lon}<extra></extra>",
         "lat": [
          42.366533
         ],
         "legendgroup": "University 310",
         "lon": [
          -71.258093
         ],
         "marker": {
          "color": "#FECB52",
          "size": [
           2000
          ],
          "sizemode": "area",
          "sizeref": 375
         },
         "mode": "markers",
         "name": "University 310",
         "showlegend": true,
         "subplot": "mapbox",
         "type": "scattermapbox"
        },
        {
         "hovertemplate": "Customers=University 311<br>Invoice Amount=%{marker.size}<br>Lat=%{lat}<br>Long=%{lon}<extra></extra>",
         "lat": [
          34.236075
         ],
         "legendgroup": "University 311",
         "lon": [
          -118.528326
         ],
         "marker": {
          "color": "#636efa",
          "size": [
           1976.3
          ],
          "sizemode": "area",
          "sizeref": 375
         },
         "mode": "markers",
         "name": "University 311",
         "showlegend": true,
         "subplot": "mapbox",
         "type": "scattermapbox"
        },
        {
         "hovertemplate": "Customers=University 312<br>Invoice Amount=%{marker.size}<br>Lat=%{lat}<br>Long=%{lon}<extra></extra>",
         "lat": [
          41.210449
         ],
         "legendgroup": "University 312",
         "lon": [
          -79.37899999999998
         ],
         "marker": {
          "color": "#EF553B",
          "size": [
           4500
          ],
          "sizemode": "area",
          "sizeref": 375
         },
         "mode": "markers",
         "name": "University 312",
         "showlegend": true,
         "subplot": "mapbox",
         "type": "scattermapbox"
        },
        {
         "hovertemplate": "Customers=University 313<br>Invoice Amount=%{marker.size}<br>Lat=%{lat}<br>Long=%{lon}<extra></extra>",
         "lat": [
          42.36125
         ],
         "legendgroup": "University 313",
         "lon": [
          -83.064187
         ],
         "marker": {
          "color": "#00cc96",
          "size": [
           1976.3
          ],
          "sizemode": "area",
          "sizeref": 375
         },
         "mode": "markers",
         "name": "University 313",
         "showlegend": true,
         "subplot": "mapbox",
         "type": "scattermapbox"
        },
        {
         "hovertemplate": "Customers=University 314<br>Invoice Amount=%{marker.size}<br>Lat=%{lat}<br>Long=%{lon}<extra></extra>",
         "lat": [
          39.83495300000001
         ],
         "legendgroup": "University 314",
         "lon": [
          -77.234305
         ],
         "marker": {
          "color": "#ab63fa",
          "size": [
           2000
          ],
          "sizemode": "area",
          "sizeref": 375
         },
         "mode": "markers",
         "name": "University 314",
         "showlegend": true,
         "subplot": "mapbox",
         "type": "scattermapbox"
        },
        {
         "hovertemplate": "Customers=University 315<br>Invoice Amount=%{marker.size}<br>Lat=%{lat}<br>Long=%{lon}<extra></extra>",
         "lat": [
          42.928868
         ],
         "legendgroup": "University 315",
         "lon": [
          -78.85667600000002
         ],
         "marker": {
          "color": "#FFA15A",
          "size": [
           3000
          ],
          "sizemode": "area",
          "sizeref": 375
         },
         "mode": "markers",
         "name": "University 315",
         "showlegend": true,
         "subplot": "mapbox",
         "type": "scattermapbox"
        },
        {
         "hovertemplate": "Customers=University 316<br>Invoice Amount=%{marker.size}<br>Lat=%{lat}<br>Long=%{lon}<extra></extra>",
         "lat": [
          42.717815,
          42.717815
         ],
         "legendgroup": "University 316",
         "lon": [
          -73.75171,
          -73.75171
         ],
         "marker": {
          "color": "#19d3f3",
          "size": [
           2775,
           2775
          ],
          "sizemode": "area",
          "sizeref": 375
         },
         "mode": "markers",
         "name": "University 316",
         "showlegend": true,
         "subplot": "mapbox",
         "type": "scattermapbox"
        },
        {
         "hovertemplate": "Customers=University 317<br>Invoice Amount=%{marker.size}<br>Lat=%{lat}<br>Long=%{lon}<extra></extra>",
         "lat": [
          30.61102
         ],
         "legendgroup": "University 317",
         "lon": [
          -96.35275
         ],
         "marker": {
          "color": "#FF6692",
          "size": [
           6000
          ],
          "sizemode": "area",
          "sizeref": 375
         },
         "mode": "markers",
         "name": "University 317",
         "showlegend": true,
         "subplot": "mapbox",
         "type": "scattermapbox"
        },
        {
         "hovertemplate": "Customers=University 318<br>Invoice Amount=%{marker.size}<br>Lat=%{lat}<br>Long=%{lon}<extra></extra>",
         "lat": [
          37.873473
         ],
         "legendgroup": "University 318",
         "lon": [
          -122.267649
         ],
         "marker": {
          "color": "#B6E880",
          "size": [
           875
          ],
          "sizemode": "area",
          "sizeref": 375
         },
         "mode": "markers",
         "name": "University 318",
         "showlegend": true,
         "subplot": "mapbox",
         "type": "scattermapbox"
        },
        {
         "hovertemplate": "Customers=University 319<br>Invoice Amount=%{marker.size}<br>Lat=%{lat}<br>Long=%{lon}<extra></extra>",
         "lat": [
          40.102105
         ],
         "legendgroup": "University 319",
         "lon": [
          -88.229667
         ],
         "marker": {
          "color": "#FF97FF",
          "size": [
           2480
          ],
          "sizemode": "area",
          "sizeref": 375
         },
         "mode": "markers",
         "name": "University 319",
         "showlegend": true,
         "subplot": "mapbox",
         "type": "scattermapbox"
        },
        {
         "hovertemplate": "Customers=University 320<br>Invoice Amount=%{marker.size}<br>Lat=%{lat}<br>Long=%{lon}<extra></extra>",
         "lat": [
          46.81891
         ],
         "legendgroup": "University 320",
         "lon": [
          -92.084361
         ],
         "marker": {
          "color": "#FECB52",
          "size": [
           5090
          ],
          "sizemode": "area",
          "sizeref": 375
         },
         "mode": "markers",
         "name": "University 320",
         "showlegend": true,
         "subplot": "mapbox",
         "type": "scattermapbox"
        },
        {
         "hovertemplate": "Customers=University 321<br>Invoice Amount=%{marker.size}<br>Lat=%{lat}<br>Long=%{lon}<extra></extra>",
         "lat": [
          44.804918
         ],
         "legendgroup": "University 321",
         "lon": [
          -91.46952
         ],
         "marker": {
          "color": "#636efa",
          "size": [
           4650
          ],
          "sizemode": "area",
          "sizeref": 375
         },
         "mode": "markers",
         "name": "University 321",
         "showlegend": true,
         "subplot": "mapbox",
         "type": "scattermapbox"
        },
        {
         "hovertemplate": "Customers=University 322<br>Invoice Amount=%{marker.size}<br>Lat=%{lat}<br>Long=%{lon}<extra></extra>",
         "lat": [
          36.125769
         ],
         "legendgroup": "University 322",
         "lon": [
          -90.938983
         ],
         "marker": {
          "color": "#EF553B",
          "size": [
           587
          ],
          "sizemode": "area",
          "sizeref": 375
         },
         "mode": "markers",
         "name": "University 322",
         "showlegend": true,
         "subplot": "mapbox",
         "type": "scattermapbox"
        },
        {
         "hovertemplate": "Customers=University 323<br>Invoice Amount=%{marker.size}<br>Lat=%{lat}<br>Long=%{lon}<extra></extra>",
         "lat": [
          34.986059000000004
         ],
         "legendgroup": "University 323",
         "lon": [
          -80.443073
         ],
         "marker": {
          "color": "#00cc96",
          "size": [
           625
          ],
          "sizemode": "area",
          "sizeref": 375
         },
         "mode": "markers",
         "name": "University 323",
         "showlegend": true,
         "subplot": "mapbox",
         "type": "scattermapbox"
        },
        {
         "hovertemplate": "Customers=University 324<br>Invoice Amount=%{marker.size}<br>Lat=%{lat}<br>Long=%{lon}<extra></extra>",
         "lat": [
          38.551889
         ],
         "legendgroup": "University 324",
         "lon": [
          -76.57221
         ],
         "marker": {
          "color": "#ab63fa",
          "size": [
           1840
          ],
          "sizemode": "area",
          "sizeref": 375
         },
         "mode": "markers",
         "name": "University 324",
         "showlegend": true,
         "subplot": "mapbox",
         "type": "scattermapbox"
        },
        {
         "hovertemplate": "Customers=University 325<br>Invoice Amount=%{marker.size}<br>Lat=%{lat}<br>Long=%{lon}<extra></extra>",
         "lat": [
          40.874542
         ],
         "legendgroup": "University 325",
         "lon": [
          -124.079145
         ],
         "marker": {
          "color": "#FFA15A",
          "size": [
           500
          ],
          "sizemode": "area",
          "sizeref": 375
         },
         "mode": "markers",
         "name": "University 325",
         "showlegend": true,
         "subplot": "mapbox",
         "type": "scattermapbox"
        },
        {
         "hovertemplate": "Customers=University 326<br>Invoice Amount=%{marker.size}<br>Lat=%{lat}<br>Long=%{lon}<extra></extra>",
         "lat": [
          46.867375,
          46.867375
         ],
         "legendgroup": "University 326",
         "lon": [
          -96.763939,
          -96.763939
         ],
         "marker": {
          "color": "#19d3f3",
          "size": [
           3100,
           3100
          ],
          "sizemode": "area",
          "sizeref": 375
         },
         "mode": "markers",
         "name": "University 326",
         "showlegend": true,
         "subplot": "mapbox",
         "type": "scattermapbox"
        },
        {
         "hovertemplate": "Customers=University 327<br>Invoice Amount=%{marker.size}<br>Lat=%{lat}<br>Long=%{lon}<extra></extra>",
         "lat": [
          44.924757
         ],
         "legendgroup": "University 327",
         "lon": [
          -93.183214
         ],
         "marker": {
          "color": "#FF6692",
          "size": [
           391
          ],
          "sizemode": "area",
          "sizeref": 375
         },
         "mode": "markers",
         "name": "University 327",
         "showlegend": true,
         "subplot": "mapbox",
         "type": "scattermapbox"
        },
        {
         "hovertemplate": "Customers=University 328<br>Invoice Amount=%{marker.size}<br>Lat=%{lat}<br>Long=%{lon}<extra></extra>",
         "lat": [
          42.100944
         ],
         "legendgroup": "University 328",
         "lon": [
          -72.557038
         ],
         "marker": {
          "color": "#B6E880",
          "size": [
           625
          ],
          "sizemode": "area",
          "sizeref": 375
         },
         "mode": "markers",
         "name": "University 328",
         "showlegend": true,
         "subplot": "mapbox",
         "type": "scattermapbox"
        },
        {
         "hovertemplate": "Customers=University 329<br>Invoice Amount=%{marker.size}<br>Lat=%{lat}<br>Long=%{lon}<extra></extra>",
         "lat": [
          41.412636
         ],
         "legendgroup": "University 329",
         "lon": [
          -80.382316
         ],
         "marker": {
          "color": "#FF97FF",
          "size": [
           500
          ],
          "sizemode": "area",
          "sizeref": 375
         },
         "mode": "markers",
         "name": "University 329",
         "showlegend": true,
         "subplot": "mapbox",
         "type": "scattermapbox"
        },
        {
         "hovertemplate": "Customers=University 330<br>Invoice Amount=%{marker.size}<br>Lat=%{lat}<br>Long=%{lon}<extra></extra>",
         "lat": [
          35.655193
         ],
         "legendgroup": "University 330",
         "lon": [
          -97.471413
         ],
         "marker": {
          "color": "#FECB52",
          "size": [
           700
          ],
          "sizemode": "area",
          "sizeref": 375
         },
         "mode": "markers",
         "name": "University 330",
         "showlegend": true,
         "subplot": "mapbox",
         "type": "scattermapbox"
        },
        {
         "hovertemplate": "Customers=University 331<br>Invoice Amount=%{marker.size}<br>Lat=%{lat}<br>Long=%{lon}<extra></extra>",
         "lat": [
          41.31239
         ],
         "legendgroup": "University 331",
         "lon": [
          -105.579458
         ],
         "marker": {
          "color": "#636efa",
          "size": [
           4350
          ],
          "sizemode": "area",
          "sizeref": 375
         },
         "mode": "markers",
         "name": "University 331",
         "showlegend": true,
         "subplot": "mapbox",
         "type": "scattermapbox"
        },
        {
         "hovertemplate": "Customers=University 332<br>Invoice Amount=%{marker.size}<br>Lat=%{lat}<br>Long=%{lon}<extra></extra>",
         "lat": [
          41.868522
         ],
         "legendgroup": "University 332",
         "lon": [
          -88.099554
         ],
         "marker": {
          "color": "#EF553B",
          "size": [
           512.5
          ],
          "sizemode": "area",
          "sizeref": 375
         },
         "mode": "markers",
         "name": "University 332",
         "showlegend": true,
         "subplot": "mapbox",
         "type": "scattermapbox"
        },
        {
         "hovertemplate": "Customers=University 333<br>Invoice Amount=%{marker.size}<br>Lat=%{lat}<br>Long=%{lon}<extra></extra>",
         "lat": [
          30.284753
         ],
         "legendgroup": "University 333",
         "lon": [
          -92.025255
         ],
         "marker": {
          "color": "#00cc96",
          "size": [
           875
          ],
          "sizemode": "area",
          "sizeref": 375
         },
         "mode": "markers",
         "name": "University 333",
         "showlegend": true,
         "subplot": "mapbox",
         "type": "scattermapbox"
        },
        {
         "hovertemplate": "Customers=University 334<br>Invoice Amount=%{marker.size}<br>Lat=%{lat}<br>Long=%{lon}<extra></extra>",
         "lat": [
          41.483693,
          41.483693
         ],
         "legendgroup": "University 334",
         "lon": [
          -71.52550600000002,
          -71.52550600000002
         ],
         "marker": {
          "color": "#ab63fa",
          "size": [
           4250,
           4250
          ],
          "sizemode": "area",
          "sizeref": 375
         },
         "mode": "markers",
         "name": "University 334",
         "showlegend": true,
         "subplot": "mapbox",
         "type": "scattermapbox"
        },
        {
         "hovertemplate": "Customers=University 335<br>Invoice Amount=%{marker.size}<br>Lat=%{lat}<br>Long=%{lon}<extra></extra>",
         "lat": [
          42.983074
         ],
         "legendgroup": "University 335",
         "lon": [
          -87.967247
         ],
         "marker": {
          "color": "#FFA15A",
          "size": [
           2750
          ],
          "sizemode": "area",
          "sizeref": 375
         },
         "mode": "markers",
         "name": "University 335",
         "showlegend": true,
         "subplot": "mapbox",
         "type": "scattermapbox"
        },
        {
         "hovertemplate": "Customers=University 336<br>Invoice Amount=%{marker.size}<br>Lat=%{lat}<br>Long=%{lon}<extra></extra>",
         "lat": [
          38.810761
         ],
         "legendgroup": "University 336",
         "lon": [
          -77.513366
         ],
         "marker": {
          "color": "#19d3f3",
          "size": [
           1750
          ],
          "sizemode": "area",
          "sizeref": 375
         },
         "mode": "markers",
         "name": "University 336",
         "showlegend": true,
         "subplot": "mapbox",
         "type": "scattermapbox"
        },
        {
         "hovertemplate": "Customers=University 337<br>Invoice Amount=%{marker.size}<br>Lat=%{lat}<br>Long=%{lon}<extra></extra>",
         "lat": [
          32.314909
         ],
         "legendgroup": "University 337",
         "lon": [
          -95.254302
         ],
         "marker": {
          "color": "#FF6692",
          "size": [
           355
          ],
          "sizemode": "area",
          "sizeref": 375
         },
         "mode": "markers",
         "name": "University 337",
         "showlegend": true,
         "subplot": "mapbox",
         "type": "scattermapbox"
        },
        {
         "hovertemplate": "Customers=University 338<br>Invoice Amount=%{marker.size}<br>Lat=%{lat}<br>Long=%{lon}<extra></extra>",
         "lat": [
          36.132562
         ],
         "legendgroup": "University 338",
         "lon": [
          -86.84268399999998
         ],
         "marker": {
          "color": "#B6E880",
          "size": [
           875
          ],
          "sizemode": "area",
          "sizeref": 375
         },
         "mode": "markers",
         "name": "University 338",
         "showlegend": true,
         "subplot": "mapbox",
         "type": "scattermapbox"
        },
        {
         "hovertemplate": "Customers=University 339<br>Invoice Amount=%{marker.size}<br>Lat=%{lat}<br>Long=%{lon}<extra></extra>",
         "lat": [
          41.379729
         ],
         "legendgroup": "University 339",
         "lon": [
          -83.622879
         ],
         "marker": {
          "color": "#FF97FF",
          "size": [
           1270
          ],
          "sizemode": "area",
          "sizeref": 375
         },
         "mode": "markers",
         "name": "University 339",
         "showlegend": true,
         "subplot": "mapbox",
         "type": "scattermapbox"
        },
        {
         "hovertemplate": "Customers=University 340<br>Invoice Amount=%{marker.size}<br>Lat=%{lat}<br>Long=%{lon}<extra></extra>",
         "lat": [
          36.814755
         ],
         "legendgroup": "University 340",
         "lon": [
          -94.368214
         ],
         "marker": {
          "color": "#FECB52",
          "size": [
           2500
          ],
          "sizemode": "area",
          "sizeref": 375
         },
         "mode": "markers",
         "name": "University 340",
         "showlegend": true,
         "subplot": "mapbox",
         "type": "scattermapbox"
        },
        {
         "hovertemplate": "Customers=University 341<br>Invoice Amount=%{marker.size}<br>Lat=%{lat}<br>Long=%{lon}<extra></extra>",
         "lat": [
          44.852336,
          44.852336
         ],
         "legendgroup": "University 341",
         "lon": [
          -92.621352,
          -92.621352
         ],
         "marker": {
          "color": "#636efa",
          "size": [
           2962,
           2962
          ],
          "sizemode": "area",
          "sizeref": 375
         },
         "mode": "markers",
         "name": "University 341",
         "showlegend": true,
         "subplot": "mapbox",
         "type": "scattermapbox"
        },
        {
         "hovertemplate": "Customers=University 342<br>Invoice Amount=%{marker.size}<br>Lat=%{lat}<br>Long=%{lon}<extra></extra>",
         "lat": [
          33.885073,
          33.885073
         ],
         "legendgroup": "University 342",
         "lon": [
          -84.499643,
          -84.499643
         ],
         "marker": {
          "color": "#EF553B",
          "size": [
           7500,
           7500
          ],
          "sizemode": "area",
          "sizeref": 375
         },
         "mode": "markers",
         "name": "University 342",
         "showlegend": true,
         "subplot": "mapbox",
         "type": "scattermapbox"
        },
        {
         "hovertemplate": "Customers=University 343<br>Invoice Amount=%{marker.size}<br>Lat=%{lat}<br>Long=%{lon}<extra></extra>",
         "lat": [
          42.428006
         ],
         "legendgroup": "University 343",
         "lon": [
          -78.154758
         ],
         "marker": {
          "color": "#00cc96",
          "size": [
           2500
          ],
          "sizemode": "area",
          "sizeref": 375
         },
         "mode": "markers",
         "name": "University 343",
         "showlegend": true,
         "subplot": "mapbox",
         "type": "scattermapbox"
        },
        {
         "hovertemplate": "Customers=University 344<br>Invoice Amount=%{marker.size}<br>Lat=%{lat}<br>Long=%{lon}<extra></extra>",
         "lat": [
          33.945302000000005
         ],
         "legendgroup": "University 344",
         "lon": [
          -83.374948
         ],
         "marker": {
          "color": "#ab63fa",
          "size": [
           4500
          ],
          "sizemode": "area",
          "sizeref": 375
         },
         "mode": "markers",
         "name": "University 344",
         "showlegend": true,
         "subplot": "mapbox",
         "type": "scattermapbox"
        },
        {
         "hovertemplate": "Customers=University 345<br>Invoice Amount=%{marker.size}<br>Lat=%{lat}<br>Long=%{lon}<extra></extra>",
         "lat": [
          -35.001338
         ],
         "legendgroup": "University 345",
         "lon": [
          117.875053
         ],
         "marker": {
          "color": "#FFA15A",
          "size": [
           1030
          ],
          "sizemode": "area",
          "sizeref": 375
         },
         "mode": "markers",
         "name": "University 345",
         "showlegend": true,
         "subplot": "mapbox",
         "type": "scattermapbox"
        },
        {
         "hovertemplate": "Customers=University 346<br>Invoice Amount=%{marker.size}<br>Lat=%{lat}<br>Long=%{lon}<extra></extra>",
         "lat": [
          32.7957
         ],
         "legendgroup": "University 346",
         "lon": [
          -79.961416
         ],
         "marker": {
          "color": "#19d3f3",
          "size": [
           125
          ],
          "sizemode": "area",
          "sizeref": 375
         },
         "mode": "markers",
         "name": "University 346",
         "showlegend": true,
         "subplot": "mapbox",
         "type": "scattermapbox"
        },
        {
         "hovertemplate": "Customers=University 347<br>Invoice Amount=%{marker.size}<br>Lat=%{lat}<br>Long=%{lon}<extra></extra>",
         "lat": [
          40.208682
         ],
         "legendgroup": "University 347",
         "lon": [
          -85.408472
         ],
         "marker": {
          "color": "#FF6692",
          "size": [
           3250
          ],
          "sizemode": "area",
          "sizeref": 375
         },
         "mode": "markers",
         "name": "University 347",
         "showlegend": true,
         "subplot": "mapbox",
         "type": "scattermapbox"
        },
        {
         "hovertemplate": "Customers=University 348<br>Invoice Amount=%{marker.size}<br>Lat=%{lat}<br>Long=%{lon}<extra></extra>",
         "lat": [
          33.863908
         ],
         "legendgroup": "University 348",
         "lon": [
          -118.255633
         ],
         "marker": {
          "color": "#B6E880",
          "size": [
           2125
          ],
          "sizemode": "area",
          "sizeref": 375
         },
         "mode": "markers",
         "name": "University 348",
         "showlegend": true,
         "subplot": "mapbox",
         "type": "scattermapbox"
        },
        {
         "hovertemplate": "Customers=University 349<br>Invoice Amount=%{marker.size}<br>Lat=%{lat}<br>Long=%{lon}<extra></extra>",
         "lat": [
          30.264713,
          30.264713,
          30.264713
         ],
         "legendgroup": "University 349",
         "lon": [
          -81.507903,
          -81.507903,
          -81.507903
         ],
         "marker": {
          "color": "#FF97FF",
          "size": [
           1575,
           1575,
           1575
          ],
          "sizemode": "area",
          "sizeref": 375
         },
         "mode": "markers",
         "name": "University 349",
         "showlegend": true,
         "subplot": "mapbox",
         "type": "scattermapbox"
        },
        {
         "hovertemplate": "Customers=University 350<br>Invoice Amount=%{marker.size}<br>Lat=%{lat}<br>Long=%{lon}<extra></extra>",
         "lat": [
          46.728879
         ],
         "legendgroup": "University 350",
         "lon": [
          -117.17951200000002
         ],
         "marker": {
          "color": "#FECB52",
          "size": [
           2500
          ],
          "sizemode": "area",
          "sizeref": 375
         },
         "mode": "markers",
         "name": "University 350",
         "showlegend": true,
         "subplot": "mapbox",
         "type": "scattermapbox"
        },
        {
         "hovertemplate": "Customers=University 351<br>Invoice Amount=%{marker.size}<br>Lat=%{lat}<br>Long=%{lon}<extra></extra>",
         "lat": [
          43.08642800000001
         ],
         "legendgroup": "University 351",
         "lon": [
          -77.669156
         ],
         "marker": {
          "color": "#636efa",
          "size": [
           800
          ],
          "sizemode": "area",
          "sizeref": 375
         },
         "mode": "markers",
         "name": "University 351",
         "showlegend": true,
         "subplot": "mapbox",
         "type": "scattermapbox"
        },
        {
         "hovertemplate": "Customers=University 352<br>Invoice Amount=%{marker.size}<br>Lat=%{lat}<br>Long=%{lon}<extra></extra>",
         "lat": [
          40.664274
         ],
         "legendgroup": "University 352",
         "lon": [
          -75.612503
         ],
         "marker": {
          "color": "#EF553B",
          "size": [
           2250
          ],
          "sizemode": "area",
          "sizeref": 375
         },
         "mode": "markers",
         "name": "University 352",
         "showlegend": true,
         "subplot": "mapbox",
         "type": "scattermapbox"
        },
        {
         "hovertemplate": "Customers=University 353<br>Invoice Amount=%{marker.size}<br>Lat=%{lat}<br>Long=%{lon}<extra></extra>",
         "lat": [
          39.260736
         ],
         "legendgroup": "University 353",
         "lon": [
          -76.713095
         ],
         "marker": {
          "color": "#00cc96",
          "size": [
           2500
          ],
          "sizemode": "area",
          "sizeref": 375
         },
         "mode": "markers",
         "name": "University 353",
         "showlegend": true,
         "subplot": "mapbox",
         "type": "scattermapbox"
        },
        {
         "hovertemplate": "Customers=University 354<br>Invoice Amount=%{marker.size}<br>Lat=%{lat}<br>Long=%{lon}<extra></extra>",
         "lat": [
          42.820464
         ],
         "legendgroup": "University 354",
         "lon": [
          -83.250381
         ],
         "marker": {
          "color": "#ab63fa",
          "size": [
           1250
          ],
          "sizemode": "area",
          "sizeref": 375
         },
         "mode": "markers",
         "name": "University 354",
         "showlegend": true,
         "subplot": "mapbox",
         "type": "scattermapbox"
        },
        {
         "hovertemplate": "Customers=University 355<br>Invoice Amount=%{marker.size}<br>Lat=%{lat}<br>Long=%{lon}<extra></extra>",
         "lat": [
          38.347213
         ],
         "legendgroup": "University 355",
         "lon": [
          -75.604945
         ],
         "marker": {
          "color": "#FFA15A",
          "size": [
           3250
          ],
          "sizemode": "area",
          "sizeref": 375
         },
         "mode": "markers",
         "name": "University 355",
         "showlegend": true,
         "subplot": "mapbox",
         "type": "scattermapbox"
        },
        {
         "hovertemplate": "Customers=University 356<br>Invoice Amount=%{marker.size}<br>Lat=%{lat}<br>Long=%{lon}<extra></extra>",
         "lat": [
          42.69664
         ],
         "legendgroup": "University 356",
         "lon": [
          -73.683743
         ],
         "marker": {
          "color": "#19d3f3",
          "size": [
           400
          ],
          "sizemode": "area",
          "sizeref": 375
         },
         "mode": "markers",
         "name": "University 356",
         "showlegend": true,
         "subplot": "mapbox",
         "type": "scattermapbox"
        },
        {
         "hovertemplate": "Customers=University 357<br>Invoice Amount=%{marker.size}<br>Lat=%{lat}<br>Long=%{lon}<extra></extra>",
         "lat": [
          33.210856
         ],
         "legendgroup": "University 357",
         "lon": [
          -97.147165
         ],
         "marker": {
          "color": "#FF6692",
          "size": [
           3000
          ],
          "sizemode": "area",
          "sizeref": 375
         },
         "mode": "markers",
         "name": "University 357",
         "showlegend": true,
         "subplot": "mapbox",
         "type": "scattermapbox"
        },
        {
         "hovertemplate": "Customers=University 358<br>Invoice Amount=%{marker.size}<br>Lat=%{lat}<br>Long=%{lon}<extra></extra>",
         "lat": [
          39.160261
         ],
         "legendgroup": "University 358",
         "lon": [
          -80.049048
         ],
         "marker": {
          "color": "#B6E880",
          "size": [
           500
          ],
          "sizemode": "area",
          "sizeref": 375
         },
         "mode": "markers",
         "name": "University 358",
         "showlegend": true,
         "subplot": "mapbox",
         "type": "scattermapbox"
        },
        {
         "hovertemplate": "Customers=University 359<br>Invoice Amount=%{marker.size}<br>Lat=%{lat}<br>Long=%{lon}<extra></extra>",
         "lat": [
          36.066274
         ],
         "legendgroup": "University 359",
         "lon": [
          -90.585972
         ],
         "marker": {
          "color": "#FF97FF",
          "size": [
           395
          ],
          "sizemode": "area",
          "sizeref": 375
         },
         "mode": "markers",
         "name": "University 359",
         "showlegend": true,
         "subplot": "mapbox",
         "type": "scattermapbox"
        },
        {
         "hovertemplate": "Customers=University 360<br>Invoice Amount=%{marker.size}<br>Lat=%{lat}<br>Long=%{lon}<extra></extra>",
         "lat": [
          40.52848400000001
         ],
         "legendgroup": "University 360",
         "lon": [
          -74.387668
         ],
         "marker": {
          "color": "#FECB52",
          "size": [
           200
          ],
          "sizemode": "area",
          "sizeref": 375
         },
         "mode": "markers",
         "name": "University 360",
         "showlegend": true,
         "subplot": "mapbox",
         "type": "scattermapbox"
        },
        {
         "hovertemplate": "Customers=University 361<br>Invoice Amount=%{marker.size}<br>Lat=%{lat}<br>Long=%{lon}<extra></extra>",
         "lat": [
          43.1364,
          43.1364,
          43.1364
         ],
         "legendgroup": "University 361",
         "lon": [
          -79.03545,
          -79.03545,
          -79.03545
         ],
         "marker": {
          "color": "#636efa",
          "size": [
           4210,
           4210,
           4210
          ],
          "sizemode": "area",
          "sizeref": 375
         },
         "mode": "markers",
         "name": "University 361",
         "showlegend": true,
         "subplot": "mapbox",
         "type": "scattermapbox"
        },
        {
         "hovertemplate": "Customers=University 362<br>Invoice Amount=%{marker.size}<br>Lat=%{lat}<br>Long=%{lon}<extra></extra>",
         "lat": [
          41.934286
         ],
         "legendgroup": "University 362",
         "lon": [
          -88.749661
         ],
         "marker": {
          "color": "#EF553B",
          "size": [
           8880
          ],
          "sizemode": "area",
          "sizeref": 375
         },
         "mode": "markers",
         "name": "University 362",
         "showlegend": true,
         "subplot": "mapbox",
         "type": "scattermapbox"
        },
        {
         "hovertemplate": "Customers=University 363<br>Invoice Amount=%{marker.size}<br>Lat=%{lat}<br>Long=%{lon}<extra></extra>",
         "lat": [
          43.840337
         ],
         "legendgroup": "University 363",
         "lon": [
          -88.821084
         ],
         "marker": {
          "color": "#00cc96",
          "size": [
           1900
          ],
          "sizemode": "area",
          "sizeref": 375
         },
         "mode": "markers",
         "name": "University 363",
         "showlegend": true,
         "subplot": "mapbox",
         "type": "scattermapbox"
        },
        {
         "hovertemplate": "Customers=University 364<br>Invoice Amount=%{marker.size}<br>Lat=%{lat}<br>Long=%{lon}<extra></extra>",
         "lat": [
          42.318754
         ],
         "legendgroup": "University 364",
         "lon": [
          -83.232658
         ],
         "marker": {
          "color": "#ab63fa",
          "size": [
           450
          ],
          "sizemode": "area",
          "sizeref": 375
         },
         "mode": "markers",
         "name": "University 364",
         "showlegend": true,
         "subplot": "mapbox",
         "type": "scattermapbox"
        },
        {
         "hovertemplate": "Customers=University 365<br>Invoice Amount=%{marker.size}<br>Lat=%{lat}<br>Long=%{lon}<extra></extra>",
         "lat": [
          30.848574
         ],
         "legendgroup": "University 365",
         "lon": [
          -83.291042
         ],
         "marker": {
          "color": "#FFA15A",
          "size": [
           1625
          ],
          "sizemode": "area",
          "sizeref": 375
         },
         "mode": "markers",
         "name": "University 365",
         "showlegend": true,
         "subplot": "mapbox",
         "type": "scattermapbox"
        },
        {
         "hovertemplate": "Customers=University 366<br>Invoice Amount=%{marker.size}<br>Lat=%{lat}<br>Long=%{lon}<extra></extra>",
         "lat": [
          48.739022
         ],
         "legendgroup": "University 366",
         "lon": [
          -122.4836
         ],
         "marker": {
          "color": "#19d3f3",
          "size": [
           700
          ],
          "sizemode": "area",
          "sizeref": 375
         },
         "mode": "markers",
         "name": "University 366",
         "showlegend": true,
         "subplot": "mapbox",
         "type": "scattermapbox"
        },
        {
         "hovertemplate": "Customers=University 367<br>Invoice Amount=%{marker.size}<br>Lat=%{lat}<br>Long=%{lon}<extra></extra>",
         "lat": [
          36.07554
         ],
         "legendgroup": "University 367",
         "lon": [
          -94.17729
         ],
         "marker": {
          "color": "#FF6692",
          "size": [
           3250
          ],
          "sizemode": "area",
          "sizeref": 375
         },
         "mode": "markers",
         "name": "University 367",
         "showlegend": true,
         "subplot": "mapbox",
         "type": "scattermapbox"
        },
        {
         "hovertemplate": "Customers=University 368<br>Invoice Amount=%{marker.size}<br>Lat=%{lat}<br>Long=%{lon}<extra></extra>",
         "lat": [
          38.793047
         ],
         "legendgroup": "University 368",
         "lon": [
          -89.99547199999998
         ],
         "marker": {
          "color": "#B6E880",
          "size": [
           4700
          ],
          "sizemode": "area",
          "sizeref": 375
         },
         "mode": "markers",
         "name": "University 368",
         "showlegend": true,
         "subplot": "mapbox",
         "type": "scattermapbox"
        },
        {
         "hovertemplate": "Customers=University 369<br>Invoice Amount=%{marker.size}<br>Lat=%{lat}<br>Long=%{lon}<extra></extra>",
         "lat": [
          39.957227
         ],
         "legendgroup": "University 369",
         "lon": [
          -82.940015
         ],
         "marker": {
          "color": "#FF97FF",
          "size": [
           1640
          ],
          "sizemode": "area",
          "sizeref": 375
         },
         "mode": "markers",
         "name": "University 369",
         "showlegend": true,
         "subplot": "mapbox",
         "type": "scattermapbox"
        },
        {
         "hovertemplate": "Customers=University 370<br>Invoice Amount=%{marker.size}<br>Lat=%{lat}<br>Long=%{lon}<extra></extra>",
         "lat": [
          38.219491
         ],
         "legendgroup": "University 370",
         "lon": [
          -85.757346
         ],
         "marker": {
          "color": "#FECB52",
          "size": [
           4500
          ],
          "sizemode": "area",
          "sizeref": 375
         },
         "mode": "markers",
         "name": "University 370",
         "showlegend": true,
         "subplot": "mapbox",
         "type": "scattermapbox"
        },
        {
         "hovertemplate": "Customers=University 371<br>Invoice Amount=%{marker.size}<br>Lat=%{lat}<br>Long=%{lon}<extra></extra>",
         "lat": [
          43.128879
         ],
         "legendgroup": "University 371",
         "lon": [
          -77.629708
         ],
         "marker": {
          "color": "#636efa",
          "size": [
           4800
          ],
          "sizemode": "area",
          "sizeref": 375
         },
         "mode": "markers",
         "name": "University 371",
         "showlegend": true,
         "subplot": "mapbox",
         "type": "scattermapbox"
        },
        {
         "hovertemplate": "Customers=University 372<br>Invoice Amount=%{marker.size}<br>Lat=%{lat}<br>Long=%{lon}<extra></extra>",
         "lat": [
          38.88952000000001,
          38.88952000000001
         ],
         "legendgroup": "University 372",
         "lon": [
          -76.824985,
          -76.824985
         ],
         "marker": {
          "color": "#EF553B",
          "size": [
           540,
           540
          ],
          "sizemode": "area",
          "sizeref": 375
         },
         "mode": "markers",
         "name": "University 372",
         "showlegend": true,
         "subplot": "mapbox",
         "type": "scattermapbox"
        },
        {
         "hovertemplate": "Customers=University 373<br>Invoice Amount=%{marker.size}<br>Lat=%{lat}<br>Long=%{lon}<extra></extra>",
         "lat": [
          41.82574,
          null
         ],
         "legendgroup": "University 373",
         "lon": [
          -71.405199,
          null
         ],
         "marker": {
          "color": "#00cc96",
          "size": [
           525,
           525
          ],
          "sizemode": "area",
          "sizeref": 375
         },
         "mode": "markers",
         "name": "University 373",
         "showlegend": true,
         "subplot": "mapbox",
         "type": "scattermapbox"
        },
        {
         "hovertemplate": "Customers=University 374<br>Invoice Amount=%{marker.size}<br>Lat=%{lat}<br>Long=%{lon}<extra></extra>",
         "lat": [
          41.114557
         ],
         "legendgroup": "University 374",
         "lon": [
          -85.116866
         ],
         "marker": {
          "color": "#ab63fa",
          "size": [
           5000
          ],
          "sizemode": "area",
          "sizeref": 375
         },
         "mode": "markers",
         "name": "University 374",
         "showlegend": true,
         "subplot": "mapbox",
         "type": "scattermapbox"
        },
        {
         "hovertemplate": "Customers=University 375<br>Invoice Amount=%{marker.size}<br>Lat=%{lat}<br>Long=%{lon}<extra></extra>",
         "lat": [
          36.089607
         ],
         "legendgroup": "University 375",
         "lon": [
          -80.22456700000002
         ],
         "marker": {
          "color": "#FFA15A",
          "size": [
           562
          ],
          "sizemode": "area",
          "sizeref": 375
         },
         "mode": "markers",
         "name": "University 375",
         "showlegend": true,
         "subplot": "mapbox",
         "type": "scattermapbox"
        },
        {
         "hovertemplate": "Customers=University 376<br>Invoice Amount=%{marker.size}<br>Lat=%{lat}<br>Long=%{lon}<extra></extra>",
         "lat": [
          44.943933
         ],
         "legendgroup": "University 376",
         "lon": [
          -93.189874
         ],
         "marker": {
          "color": "#19d3f3",
          "size": [
           3366
          ],
          "sizemode": "area",
          "sizeref": 375
         },
         "mode": "markers",
         "name": "University 376",
         "showlegend": true,
         "subplot": "mapbox",
         "type": "scattermapbox"
        },
        {
         "hovertemplate": "Customers=University 377<br>Invoice Amount=%{marker.size}<br>Lat=%{lat}<br>Long=%{lon}<extra></extra>",
         "lat": [
          33.039196000000004
         ],
         "legendgroup": "University 377",
         "lon": [
          -85.042635
         ],
         "marker": {
          "color": "#FF6692",
          "size": [
           500
          ],
          "sizemode": "area",
          "sizeref": 375
         },
         "mode": "markers",
         "name": "University 377",
         "showlegend": true,
         "subplot": "mapbox",
         "type": "scattermapbox"
        },
        {
         "hovertemplate": "Customers=University 378<br>Invoice Amount=%{marker.size}<br>Lat=%{lat}<br>Long=%{lon}<extra></extra>",
         "lat": [
          33.412756
         ],
         "legendgroup": "University 378",
         "lon": [
          -111.974037
         ],
         "marker": {
          "color": "#B6E880",
          "size": [
           26250
          ],
          "sizemode": "area",
          "sizeref": 375
         },
         "mode": "markers",
         "name": "University 378",
         "showlegend": true,
         "subplot": "mapbox",
         "type": "scattermapbox"
        },
        {
         "hovertemplate": "Customers=University 379<br>Invoice Amount=%{marker.size}<br>Lat=%{lat}<br>Long=%{lon}<extra></extra>",
         "lat": [
          29.584425
         ],
         "legendgroup": "University 379",
         "lon": [
          -98.617555
         ],
         "marker": {
          "color": "#FF97FF",
          "size": [
           2500
          ],
          "sizemode": "area",
          "sizeref": 375
         },
         "mode": "markers",
         "name": "University 379",
         "showlegend": true,
         "subplot": "mapbox",
         "type": "scattermapbox"
        },
        {
         "hovertemplate": "Customers=University 380<br>Invoice Amount=%{marker.size}<br>Lat=%{lat}<br>Long=%{lon}<extra></extra>",
         "lat": [
          35.898621
         ],
         "legendgroup": "University 380",
         "lon": [
          -89.920963
         ],
         "marker": {
          "color": "#FECB52",
          "size": [
           1700
          ],
          "sizemode": "area",
          "sizeref": 375
         },
         "mode": "markers",
         "name": "University 380",
         "showlegend": true,
         "subplot": "mapbox",
         "type": "scattermapbox"
        },
        {
         "hovertemplate": "Customers=University 381<br>Invoice Amount=%{marker.size}<br>Lat=%{lat}<br>Long=%{lon}<extra></extra>",
         "lat": [
          43.224613
         ],
         "legendgroup": "University 381",
         "lon": [
          -71.53151700000002
         ],
         "marker": {
          "color": "#636efa",
          "size": [
           2000
          ],
          "sizemode": "area",
          "sizeref": 375
         },
         "mode": "markers",
         "name": "University 381",
         "showlegend": true,
         "subplot": "mapbox",
         "type": "scattermapbox"
        },
        {
         "hovertemplate": "Customers=University 382<br>Invoice Amount=%{marker.size}<br>Lat=%{lat}<br>Long=%{lon}<extra></extra>",
         "lat": [
          38.699025
         ],
         "legendgroup": "University 382",
         "lon": [
          -93.268202
         ],
         "marker": {
          "color": "#EF553B",
          "size": [
           6000
          ],
          "sizemode": "area",
          "sizeref": 375
         },
         "mode": "markers",
         "name": "University 382",
         "showlegend": true,
         "subplot": "mapbox",
         "type": "scattermapbox"
        },
        {
         "hovertemplate": "Customers=University 383<br>Invoice Amount=%{marker.size}<br>Lat=%{lat}<br>Long=%{lon}<extra></extra>",
         "lat": [
          34.464605
         ],
         "legendgroup": "University 383",
         "lon": [
          -81.878445
         ],
         "marker": {
          "color": "#00cc96",
          "size": [
           1000
          ],
          "sizemode": "area",
          "sizeref": 375
         },
         "mode": "markers",
         "name": "University 383",
         "showlegend": true,
         "subplot": "mapbox",
         "type": "scattermapbox"
        },
        {
         "hovertemplate": "Customers=University 384<br>Invoice Amount=%{marker.size}<br>Lat=%{lat}<br>Long=%{lon}<extra></extra>",
         "lat": [
          44.765358
         ],
         "legendgroup": "University 384",
         "lon": [
          -85.585587
         ],
         "marker": {
          "color": "#ab63fa",
          "size": [
           1000
          ],
          "sizemode": "area",
          "sizeref": 375
         },
         "mode": "markers",
         "name": "University 384",
         "showlegend": true,
         "subplot": "mapbox",
         "type": "scattermapbox"
        },
        {
         "hovertemplate": "Customers=University 385<br>Invoice Amount=%{marker.size}<br>Lat=%{lat}<br>Long=%{lon}<extra></extra>",
         "lat": [
          32.38341
         ],
         "legendgroup": "University 385",
         "lon": [
          -86.216411
         ],
         "marker": {
          "color": "#FFA15A",
          "size": [
           6000
          ],
          "sizemode": "area",
          "sizeref": 375
         },
         "mode": "markers",
         "name": "University 385",
         "showlegend": true,
         "subplot": "mapbox",
         "type": "scattermapbox"
        },
        {
         "hovertemplate": "Customers=University 386<br>Invoice Amount=%{marker.size}<br>Lat=%{lat}<br>Long=%{lon}<extra></extra>",
         "lat": [
          35.958371
         ],
         "legendgroup": "University 386",
         "lon": [
          -83.973472
         ],
         "marker": {
          "color": "#19d3f3",
          "size": [
           1540
          ],
          "sizemode": "area",
          "sizeref": 375
         },
         "mode": "markers",
         "name": "University 386",
         "showlegend": true,
         "subplot": "mapbox",
         "type": "scattermapbox"
        },
        {
         "hovertemplate": "Customers=University 387<br>Invoice Amount=%{marker.size}<br>Lat=%{lat}<br>Long=%{lon}<extra></extra>",
         "lat": [
          46.374282
         ],
         "legendgroup": "University 387",
         "lon": [
          -120.395532
         ],
         "marker": {
          "color": "#FF6692",
          "size": [
           6000
          ],
          "sizemode": "area",
          "sizeref": 375
         },
         "mode": "markers",
         "name": "University 387",
         "showlegend": true,
         "subplot": "mapbox",
         "type": "scattermapbox"
        },
        {
         "hovertemplate": "Customers=University 388<br>Invoice Amount=%{marker.size}<br>Lat=%{lat}<br>Long=%{lon}<extra></extra>",
         "lat": [
          43.031001
         ],
         "legendgroup": "University 388",
         "lon": [
          -108.426371
         ],
         "marker": {
          "color": "#B6E880",
          "size": [
           4800
          ],
          "sizemode": "area",
          "sizeref": 375
         },
         "mode": "markers",
         "name": "University 388",
         "showlegend": true,
         "subplot": "mapbox",
         "type": "scattermapbox"
        },
        {
         "hovertemplate": "Customers=University 389<br>Invoice Amount=%{marker.size}<br>Lat=%{lat}<br>Long=%{lon}<extra></extra>",
         "lat": [
          40.502058
         ],
         "legendgroup": "University 389",
         "lon": [
          -89.021776
         ],
         "marker": {
          "color": "#FF97FF",
          "size": [
           780
          ],
          "sizemode": "area",
          "sizeref": 375
         },
         "mode": "markers",
         "name": "University 389",
         "showlegend": true,
         "subplot": "mapbox",
         "type": "scattermapbox"
        },
        {
         "hovertemplate": "Customers=University 390<br>Invoice Amount=%{marker.size}<br>Lat=%{lat}<br>Long=%{lon}<extra></extra>",
         "lat": [
          37.902828
         ],
         "legendgroup": "University 390",
         "lon": [
          -83.290718
         ],
         "marker": {
          "color": "#FECB52",
          "size": [
           3500
          ],
          "sizemode": "area",
          "sizeref": 375
         },
         "mode": "markers",
         "name": "University 390",
         "showlegend": true,
         "subplot": "mapbox",
         "type": "scattermapbox"
        },
        {
         "hovertemplate": "Customers=University 391<br>Invoice Amount=%{marker.size}<br>Lat=%{lat}<br>Long=%{lon}<extra></extra>",
         "lat": [
          37.744011
         ],
         "legendgroup": "University 391",
         "lon": [
          -84.30074300000003
         ],
         "marker": {
          "color": "#636efa",
          "size": [
           3125
          ],
          "sizemode": "area",
          "sizeref": 375
         },
         "mode": "markers",
         "name": "University 391",
         "showlegend": true,
         "subplot": "mapbox",
         "type": "scattermapbox"
        },
        {
         "hovertemplate": "Customers=University 392<br>Invoice Amount=%{marker.size}<br>Lat=%{lat}<br>Long=%{lon}<extra></extra>",
         "lat": [
          42.19391
         ],
         "legendgroup": "University 392",
         "lon": [
          -72.64745
         ],
         "marker": {
          "color": "#EF553B",
          "size": [
           1000
          ],
          "sizemode": "area",
          "sizeref": 375
         },
         "mode": "markers",
         "name": "University 392",
         "showlegend": true,
         "subplot": "mapbox",
         "type": "scattermapbox"
        },
        {
         "hovertemplate": "Customers=University 393<br>Invoice Amount=%{marker.size}<br>Lat=%{lat}<br>Long=%{lon}<extra></extra>",
         "lat": [
          33.99617
         ],
         "legendgroup": "University 393",
         "lon": [
          -81.0312
         ],
         "marker": {
          "color": "#00cc96",
          "size": [
           4500
          ],
          "sizemode": "area",
          "sizeref": 375
         },
         "mode": "markers",
         "name": "University 393",
         "showlegend": true,
         "subplot": "mapbox",
         "type": "scattermapbox"
        }
       ],
       "layout": {
        "height": 900,
        "legend": {
         "itemsizing": "constant",
         "title": {
          "text": "Customers"
         },
         "tracegroupgap": 0
        },
        "mapbox": {
         "accesstoken": "pk.eyJ1IjoibWlsYWRuYXphciIsImEiOiJja2doYmN1d2swNGtkMnNvMGRhb3RnbmZpIn0.h5puE2zZYJuUHFdI586CDg",
         "center": {
          "lat": 37.202612598550736,
          "lon": -87.98185678840589
         },
         "domain": {
          "x": [
           0,
           1
          ],
          "y": [
           0,
           1
          ]
         },
         "style": "open-street-map",
         "zoom": 4
        },
        "margin": {
         "t": 60
        },
        "template": {
         "data": {
          "bar": [
           {
            "error_x": {
             "color": "#2a3f5f"
            },
            "error_y": {
             "color": "#2a3f5f"
            },
            "marker": {
             "line": {
              "color": "#E5ECF6",
              "width": 0.5
             }
            },
            "type": "bar"
           }
          ],
          "barpolar": [
           {
            "marker": {
             "line": {
              "color": "#E5ECF6",
              "width": 0.5
             }
            },
            "type": "barpolar"
           }
          ],
          "carpet": [
           {
            "aaxis": {
             "endlinecolor": "#2a3f5f",
             "gridcolor": "white",
             "linecolor": "white",
             "minorgridcolor": "white",
             "startlinecolor": "#2a3f5f"
            },
            "baxis": {
             "endlinecolor": "#2a3f5f",
             "gridcolor": "white",
             "linecolor": "white",
             "minorgridcolor": "white",
             "startlinecolor": "#2a3f5f"
            },
            "type": "carpet"
           }
          ],
          "choropleth": [
           {
            "colorbar": {
             "outlinewidth": 0,
             "ticks": ""
            },
            "type": "choropleth"
           }
          ],
          "contour": [
           {
            "colorbar": {
             "outlinewidth": 0,
             "ticks": ""
            },
            "colorscale": [
             [
              0,
              "#0d0887"
             ],
             [
              0.1111111111111111,
              "#46039f"
             ],
             [
              0.2222222222222222,
              "#7201a8"
             ],
             [
              0.3333333333333333,
              "#9c179e"
             ],
             [
              0.4444444444444444,
              "#bd3786"
             ],
             [
              0.5555555555555556,
              "#d8576b"
             ],
             [
              0.6666666666666666,
              "#ed7953"
             ],
             [
              0.7777777777777778,
              "#fb9f3a"
             ],
             [
              0.8888888888888888,
              "#fdca26"
             ],
             [
              1,
              "#f0f921"
             ]
            ],
            "type": "contour"
           }
          ],
          "contourcarpet": [
           {
            "colorbar": {
             "outlinewidth": 0,
             "ticks": ""
            },
            "type": "contourcarpet"
           }
          ],
          "heatmap": [
           {
            "colorbar": {
             "outlinewidth": 0,
             "ticks": ""
            },
            "colorscale": [
             [
              0,
              "#0d0887"
             ],
             [
              0.1111111111111111,
              "#46039f"
             ],
             [
              0.2222222222222222,
              "#7201a8"
             ],
             [
              0.3333333333333333,
              "#9c179e"
             ],
             [
              0.4444444444444444,
              "#bd3786"
             ],
             [
              0.5555555555555556,
              "#d8576b"
             ],
             [
              0.6666666666666666,
              "#ed7953"
             ],
             [
              0.7777777777777778,
              "#fb9f3a"
             ],
             [
              0.8888888888888888,
              "#fdca26"
             ],
             [
              1,
              "#f0f921"
             ]
            ],
            "type": "heatmap"
           }
          ],
          "heatmapgl": [
           {
            "colorbar": {
             "outlinewidth": 0,
             "ticks": ""
            },
            "colorscale": [
             [
              0,
              "#0d0887"
             ],
             [
              0.1111111111111111,
              "#46039f"
             ],
             [
              0.2222222222222222,
              "#7201a8"
             ],
             [
              0.3333333333333333,
              "#9c179e"
             ],
             [
              0.4444444444444444,
              "#bd3786"
             ],
             [
              0.5555555555555556,
              "#d8576b"
             ],
             [
              0.6666666666666666,
              "#ed7953"
             ],
             [
              0.7777777777777778,
              "#fb9f3a"
             ],
             [
              0.8888888888888888,
              "#fdca26"
             ],
             [
              1,
              "#f0f921"
             ]
            ],
            "type": "heatmapgl"
           }
          ],
          "histogram": [
           {
            "marker": {
             "colorbar": {
              "outlinewidth": 0,
              "ticks": ""
             }
            },
            "type": "histogram"
           }
          ],
          "histogram2d": [
           {
            "colorbar": {
             "outlinewidth": 0,
             "ticks": ""
            },
            "colorscale": [
             [
              0,
              "#0d0887"
             ],
             [
              0.1111111111111111,
              "#46039f"
             ],
             [
              0.2222222222222222,
              "#7201a8"
             ],
             [
              0.3333333333333333,
              "#9c179e"
             ],
             [
              0.4444444444444444,
              "#bd3786"
             ],
             [
              0.5555555555555556,
              "#d8576b"
             ],
             [
              0.6666666666666666,
              "#ed7953"
             ],
             [
              0.7777777777777778,
              "#fb9f3a"
             ],
             [
              0.8888888888888888,
              "#fdca26"
             ],
             [
              1,
              "#f0f921"
             ]
            ],
            "type": "histogram2d"
           }
          ],
          "histogram2dcontour": [
           {
            "colorbar": {
             "outlinewidth": 0,
             "ticks": ""
            },
            "colorscale": [
             [
              0,
              "#0d0887"
             ],
             [
              0.1111111111111111,
              "#46039f"
             ],
             [
              0.2222222222222222,
              "#7201a8"
             ],
             [
              0.3333333333333333,
              "#9c179e"
             ],
             [
              0.4444444444444444,
              "#bd3786"
             ],
             [
              0.5555555555555556,
              "#d8576b"
             ],
             [
              0.6666666666666666,
              "#ed7953"
             ],
             [
              0.7777777777777778,
              "#fb9f3a"
             ],
             [
              0.8888888888888888,
              "#fdca26"
             ],
             [
              1,
              "#f0f921"
             ]
            ],
            "type": "histogram2dcontour"
           }
          ],
          "mesh3d": [
           {
            "colorbar": {
             "outlinewidth": 0,
             "ticks": ""
            },
            "type": "mesh3d"
           }
          ],
          "parcoords": [
           {
            "line": {
             "colorbar": {
              "outlinewidth": 0,
              "ticks": ""
             }
            },
            "type": "parcoords"
           }
          ],
          "pie": [
           {
            "automargin": true,
            "type": "pie"
           }
          ],
          "scatter": [
           {
            "marker": {
             "colorbar": {
              "outlinewidth": 0,
              "ticks": ""
             }
            },
            "type": "scatter"
           }
          ],
          "scatter3d": [
           {
            "line": {
             "colorbar": {
              "outlinewidth": 0,
              "ticks": ""
             }
            },
            "marker": {
             "colorbar": {
              "outlinewidth": 0,
              "ticks": ""
             }
            },
            "type": "scatter3d"
           }
          ],
          "scattercarpet": [
           {
            "marker": {
             "colorbar": {
              "outlinewidth": 0,
              "ticks": ""
             }
            },
            "type": "scattercarpet"
           }
          ],
          "scattergeo": [
           {
            "marker": {
             "colorbar": {
              "outlinewidth": 0,
              "ticks": ""
             }
            },
            "type": "scattergeo"
           }
          ],
          "scattergl": [
           {
            "marker": {
             "colorbar": {
              "outlinewidth": 0,
              "ticks": ""
             }
            },
            "type": "scattergl"
           }
          ],
          "scattermapbox": [
           {
            "marker": {
             "colorbar": {
              "outlinewidth": 0,
              "ticks": ""
             }
            },
            "type": "scattermapbox"
           }
          ],
          "scatterpolar": [
           {
            "marker": {
             "colorbar": {
              "outlinewidth": 0,
              "ticks": ""
             }
            },
            "type": "scatterpolar"
           }
          ],
          "scatterpolargl": [
           {
            "marker": {
             "colorbar": {
              "outlinewidth": 0,
              "ticks": ""
             }
            },
            "type": "scatterpolargl"
           }
          ],
          "scatterternary": [
           {
            "marker": {
             "colorbar": {
              "outlinewidth": 0,
              "ticks": ""
             }
            },
            "type": "scatterternary"
           }
          ],
          "surface": [
           {
            "colorbar": {
             "outlinewidth": 0,
             "ticks": ""
            },
            "colorscale": [
             [
              0,
              "#0d0887"
             ],
             [
              0.1111111111111111,
              "#46039f"
             ],
             [
              0.2222222222222222,
              "#7201a8"
             ],
             [
              0.3333333333333333,
              "#9c179e"
             ],
             [
              0.4444444444444444,
              "#bd3786"
             ],
             [
              0.5555555555555556,
              "#d8576b"
             ],
             [
              0.6666666666666666,
              "#ed7953"
             ],
             [
              0.7777777777777778,
              "#fb9f3a"
             ],
             [
              0.8888888888888888,
              "#fdca26"
             ],
             [
              1,
              "#f0f921"
             ]
            ],
            "type": "surface"
           }
          ],
          "table": [
           {
            "cells": {
             "fill": {
              "color": "#EBF0F8"
             },
             "line": {
              "color": "white"
             }
            },
            "header": {
             "fill": {
              "color": "#C8D4E3"
             },
             "line": {
              "color": "white"
             }
            },
            "type": "table"
           }
          ]
         },
         "layout": {
          "annotationdefaults": {
           "arrowcolor": "#2a3f5f",
           "arrowhead": 0,
           "arrowwidth": 1
          },
          "coloraxis": {
           "colorbar": {
            "outlinewidth": 0,
            "ticks": ""
           }
          },
          "colorscale": {
           "diverging": [
            [
             0,
             "#8e0152"
            ],
            [
             0.1,
             "#c51b7d"
            ],
            [
             0.2,
             "#de77ae"
            ],
            [
             0.3,
             "#f1b6da"
            ],
            [
             0.4,
             "#fde0ef"
            ],
            [
             0.5,
             "#f7f7f7"
            ],
            [
             0.6,
             "#e6f5d0"
            ],
            [
             0.7,
             "#b8e186"
            ],
            [
             0.8,
             "#7fbc41"
            ],
            [
             0.9,
             "#4d9221"
            ],
            [
             1,
             "#276419"
            ]
           ],
           "sequential": [
            [
             0,
             "#0d0887"
            ],
            [
             0.1111111111111111,
             "#46039f"
            ],
            [
             0.2222222222222222,
             "#7201a8"
            ],
            [
             0.3333333333333333,
             "#9c179e"
            ],
            [
             0.4444444444444444,
             "#bd3786"
            ],
            [
             0.5555555555555556,
             "#d8576b"
            ],
            [
             0.6666666666666666,
             "#ed7953"
            ],
            [
             0.7777777777777778,
             "#fb9f3a"
            ],
            [
             0.8888888888888888,
             "#fdca26"
            ],
            [
             1,
             "#f0f921"
            ]
           ],
           "sequentialminus": [
            [
             0,
             "#0d0887"
            ],
            [
             0.1111111111111111,
             "#46039f"
            ],
            [
             0.2222222222222222,
             "#7201a8"
            ],
            [
             0.3333333333333333,
             "#9c179e"
            ],
            [
             0.4444444444444444,
             "#bd3786"
            ],
            [
             0.5555555555555556,
             "#d8576b"
            ],
            [
             0.6666666666666666,
             "#ed7953"
            ],
            [
             0.7777777777777778,
             "#fb9f3a"
            ],
            [
             0.8888888888888888,
             "#fdca26"
            ],
            [
             1,
             "#f0f921"
            ]
           ]
          },
          "colorway": [
           "#636efa",
           "#EF553B",
           "#00cc96",
           "#ab63fa",
           "#FFA15A",
           "#19d3f3",
           "#FF6692",
           "#B6E880",
           "#FF97FF",
           "#FECB52"
          ],
          "font": {
           "color": "#2a3f5f"
          },
          "geo": {
           "bgcolor": "white",
           "lakecolor": "white",
           "landcolor": "#E5ECF6",
           "showlakes": true,
           "showland": true,
           "subunitcolor": "white"
          },
          "hoverlabel": {
           "align": "left"
          },
          "hovermode": "closest",
          "mapbox": {
           "style": "light"
          },
          "paper_bgcolor": "white",
          "plot_bgcolor": "#E5ECF6",
          "polar": {
           "angularaxis": {
            "gridcolor": "white",
            "linecolor": "white",
            "ticks": ""
           },
           "bgcolor": "#E5ECF6",
           "radialaxis": {
            "gridcolor": "white",
            "linecolor": "white",
            "ticks": ""
           }
          },
          "scene": {
           "xaxis": {
            "backgroundcolor": "#E5ECF6",
            "gridcolor": "white",
            "gridwidth": 2,
            "linecolor": "white",
            "showbackground": true,
            "ticks": "",
            "zerolinecolor": "white"
           },
           "yaxis": {
            "backgroundcolor": "#E5ECF6",
            "gridcolor": "white",
            "gridwidth": 2,
            "linecolor": "white",
            "showbackground": true,
            "ticks": "",
            "zerolinecolor": "white"
           },
           "zaxis": {
            "backgroundcolor": "#E5ECF6",
            "gridcolor": "white",
            "gridwidth": 2,
            "linecolor": "white",
            "showbackground": true,
            "ticks": "",
            "zerolinecolor": "white"
           }
          },
          "shapedefaults": {
           "line": {
            "color": "#2a3f5f"
           }
          },
          "ternary": {
           "aaxis": {
            "gridcolor": "white",
            "linecolor": "white",
            "ticks": ""
           },
           "baxis": {
            "gridcolor": "white",
            "linecolor": "white",
            "ticks": ""
           },
           "bgcolor": "#E5ECF6",
           "caxis": {
            "gridcolor": "white",
            "linecolor": "white",
            "ticks": ""
           }
          },
          "title": {
           "x": 0.05
          },
          "xaxis": {
           "automargin": true,
           "gridcolor": "white",
           "linecolor": "white",
           "ticks": "",
           "title": {
            "standoff": 15
           },
           "zerolinecolor": "white",
           "zerolinewidth": 2
          },
          "yaxis": {
           "automargin": true,
           "gridcolor": "white",
           "linecolor": "white",
           "ticks": "",
           "title": {
            "standoff": 15
           },
           "zerolinecolor": "white",
           "zerolinewidth": 2
          }
         }
        },
        "width": 1800
       }
      }
     },
     "metadata": {}
    }
   ],
   "source": [
    "px.set_mapbox_access_token(mapbox_token)\n",
    "map = px.scatter_mapbox(\n",
    "    atlas_with_totals.reset_index(),\n",
    "    lat=\"Lat\",\n",
    "    lon=\"Long\",\n",
    "    # size=\"Invoice Amount\",\n",
    "    size=\"Invoice Amount\",\n",
    "    color=\"Customers\",\n",
    "    width=1800,\n",
    "    height=900,\n",
    "    zoom=4,\n",
    "    mapbox_style=\"open-street-map\"  # Options: [ \"open-street-map, white-bg, carto-positron, carto-darkmatter, stamen-terrain, stamen-toner, stamen-watercolor\" ]\n",
    ")\n",
    "map.show()\n"
   ]
  },
  {
   "cell_type": "code",
   "execution_count": 11,
   "metadata": {},
   "outputs": [
    {
     "output_type": "display_data",
     "data": {
      "application/vnd.plotly.v1+json": {
       "config": {
        "plotlyServerURL": "https://plot.ly"
       },
       "data": [
        {
         "hovertemplate": "Customers=University 30<br>Invoice Amount=%{marker.size}<br>Lat=%{lat}<br>Long=%{lon}<extra></extra>",
         "lat": [
          33.533925,
          33.533925,
          33.533925
         ],
         "legendgroup": "University 30",
         "lon": [
          -86.877531,
          -86.877531,
          -86.877531
         ],
         "marker": {
          "color": "#636efa",
          "size": [
           150000,
           150000,
           150000
          ],
          "sizemode": "area",
          "sizeref": 375
         },
         "mode": "markers",
         "name": "University 30",
         "showlegend": true,
         "subplot": "mapbox",
         "type": "scattermapbox"
        },
        {
         "hovertemplate": "Customers=University 31<br>Invoice Amount=%{marker.size}<br>Lat=%{lat}<br>Long=%{lon}<extra></extra>",
         "lat": [
          33.203634
         ],
         "legendgroup": "University 31",
         "lon": [
          -87.56214399999998
         ],
         "marker": {
          "color": "#EF553B",
          "size": [
           13650
          ],
          "sizemode": "area",
          "sizeref": 375
         },
         "mode": "markers",
         "name": "University 31",
         "showlegend": true,
         "subplot": "mapbox",
         "type": "scattermapbox"
        },
        {
         "hovertemplate": "Customers=University 71<br>Invoice Amount=%{marker.size}<br>Lat=%{lat}<br>Long=%{lon}<extra></extra>",
         "lat": [
          33.498228999999995,
          33.498228999999995
         ],
         "legendgroup": "University 71",
         "lon": [
          -86.8073,
          -86.8073
         ],
         "marker": {
          "color": "#00cc96",
          "size": [
           100000,
           100000
          ],
          "sizemode": "area",
          "sizeref": 375
         },
         "mode": "markers",
         "name": "University 71",
         "showlegend": true,
         "subplot": "mapbox",
         "type": "scattermapbox"
        },
        {
         "hovertemplate": "Customers=University 98<br>Invoice Amount=%{marker.size}<br>Lat=%{lat}<br>Long=%{lon}<extra></extra>",
         "lat": [
          34.785061
         ],
         "legendgroup": "University 98",
         "lon": [
          -86.57328000000003
         ],
         "marker": {
          "color": "#ab63fa",
          "size": [
           5460
          ],
          "sizemode": "area",
          "sizeref": 375
         },
         "mode": "markers",
         "name": "University 98",
         "showlegend": true,
         "subplot": "mapbox",
         "type": "scattermapbox"
        },
        {
         "hovertemplate": "Customers=University 109<br>Invoice Amount=%{marker.size}<br>Lat=%{lat}<br>Long=%{lon}<extra></extra>",
         "lat": [
          32.581327,
          32.581327
         ],
         "legendgroup": "University 109",
         "lon": [
          -88.18576800000002,
          -88.18576800000002
         ],
         "marker": {
          "color": "#FFA15A",
          "size": [
           6362.5,
           6362.5
          ],
          "sizemode": "area",
          "sizeref": 375
         },
         "mode": "markers",
         "name": "University 109",
         "showlegend": true,
         "subplot": "mapbox",
         "type": "scattermapbox"
        },
        {
         "hovertemplate": "Customers=University 110<br>Invoice Amount=%{marker.size}<br>Lat=%{lat}<br>Long=%{lon}<extra></extra>",
         "lat": [
          33.516737,
          33.516737,
          33.516737
         ],
         "legendgroup": "University 110",
         "lon": [
          -86.85171,
          -86.85171,
          -86.85171
         ],
         "marker": {
          "color": "#19d3f3",
          "size": [
           3500,
           3500,
           3500
          ],
          "sizemode": "area",
          "sizeref": 375
         },
         "mode": "markers",
         "name": "University 110",
         "showlegend": true,
         "subplot": "mapbox",
         "type": "scattermapbox"
        },
        {
         "hovertemplate": "Customers=University 111<br>Invoice Amount=%{marker.size}<br>Lat=%{lat}<br>Long=%{lon}<extra></extra>",
         "lat": [
          33.47746
         ],
         "legendgroup": "University 111",
         "lon": [
          -86.80564100000002
         ],
         "marker": {
          "color": "#FF6692",
          "size": [
           6300
          ],
          "sizemode": "area",
          "sizeref": 375
         },
         "mode": "markers",
         "name": "University 111",
         "showlegend": true,
         "subplot": "mapbox",
         "type": "scattermapbox"
        },
        {
         "hovertemplate": "Customers=University 189<br>Invoice Amount=%{marker.size}<br>Lat=%{lat}<br>Long=%{lon}<extra></extra>",
         "lat": [
          31.8207,
          31.8207,
          31.8207
         ],
         "legendgroup": "University 189",
         "lon": [
          -85.98306,
          -85.98306,
          -85.98306
         ],
         "marker": {
          "color": "#B6E880",
          "size": [
           9617.8,
           9617.8,
           9617.8
          ],
          "sizemode": "area",
          "sizeref": 375
         },
         "mode": "markers",
         "name": "University 189",
         "showlegend": true,
         "subplot": "mapbox",
         "type": "scattermapbox"
        },
        {
         "hovertemplate": "Customers=University 193<br>Invoice Amount=%{marker.size}<br>Lat=%{lat}<br>Long=%{lon}<extra></extra>",
         "lat": [
          34.8933,
          34.8933,
          34.8933,
          34.8933,
          34.8933
         ],
         "legendgroup": "University 193",
         "lon": [
          -87.63739,
          -87.63739,
          -87.63739,
          -87.63739,
          -87.63739
         ],
         "marker": {
          "color": "#FF97FF",
          "size": [
           5000,
           5000,
           5000,
           5000,
           5000
          ],
          "sizemode": "area",
          "sizeref": 375
         },
         "mode": "markers",
         "name": "University 193",
         "showlegend": true,
         "subplot": "mapbox",
         "type": "scattermapbox"
        },
        {
         "hovertemplate": "Customers=University 199<br>Invoice Amount=%{marker.size}<br>Lat=%{lat}<br>Long=%{lon}<extra></extra>",
         "lat": [
          32.602286,
          32.602286
         ],
         "legendgroup": "University 199",
         "lon": [
          -85.486081,
          -85.486081
         ],
         "marker": {
          "color": "#FECB52",
          "size": [
           2827,
           2827
          ],
          "sizemode": "area",
          "sizeref": 375
         },
         "mode": "markers",
         "name": "University 199",
         "showlegend": true,
         "subplot": "mapbox",
         "type": "scattermapbox"
        },
        {
         "hovertemplate": "Customers=University 203<br>Invoice Amount=%{marker.size}<br>Lat=%{lat}<br>Long=%{lon}<extra></extra>",
         "lat": [
          30.69538
         ],
         "legendgroup": "University 203",
         "lon": [
          -88.175177
         ],
         "marker": {
          "color": "#636efa",
          "size": [
           2500
          ],
          "sizemode": "area",
          "sizeref": 375
         },
         "mode": "markers",
         "name": "University 203",
         "showlegend": true,
         "subplot": "mapbox",
         "type": "scattermapbox"
        },
        {
         "hovertemplate": "Customers=University 274<br>Invoice Amount=%{marker.size}<br>Lat=%{lat}<br>Long=%{lon}<extra></extra>",
         "lat": [
          33.099384,
          33.099384
         ],
         "legendgroup": "University 274",
         "lon": [
          -86.864512,
          -86.864512
         ],
         "marker": {
          "color": "#EF553B",
          "size": [
           2250,
           2250
          ],
          "sizemode": "area",
          "sizeref": 375
         },
         "mode": "markers",
         "name": "University 274",
         "showlegend": true,
         "subplot": "mapbox",
         "type": "scattermapbox"
        },
        {
         "hovertemplate": "Customers=University 385<br>Invoice Amount=%{marker.size}<br>Lat=%{lat}<br>Long=%{lon}<extra></extra>",
         "lat": [
          32.38341
         ],
         "legendgroup": "University 385",
         "lon": [
          -86.216411
         ],
         "marker": {
          "color": "#00cc96",
          "size": [
           6000
          ],
          "sizemode": "area",
          "sizeref": 375
         },
         "mode": "markers",
         "name": "University 385",
         "showlegend": true,
         "subplot": "mapbox",
         "type": "scattermapbox"
        }
       ],
       "layout": {
        "height": 900,
        "legend": {
         "itemsizing": "constant",
         "title": {
          "text": "Customers"
         },
         "tracegroupgap": 0
        },
        "mapbox": {
         "accesstoken": "pk.eyJ1IjoibWlsYWRuYXphciIsImEiOiJja2doYmN1d2swNGtkMnNvMGRhb3RnbmZpIn0.h5puE2zZYJuUHFdI586CDg",
         "center": {
          "lat": 33.303258629629624,
          "lon": -86.93866029629632
         },
         "domain": {
          "x": [
           0,
           1
          ],
          "y": [
           0,
           1
          ]
         },
         "style": "open-street-map",
         "zoom": 4
        },
        "margin": {
         "t": 60
        },
        "template": {
         "data": {
          "bar": [
           {
            "error_x": {
             "color": "#2a3f5f"
            },
            "error_y": {
             "color": "#2a3f5f"
            },
            "marker": {
             "line": {
              "color": "#E5ECF6",
              "width": 0.5
             }
            },
            "type": "bar"
           }
          ],
          "barpolar": [
           {
            "marker": {
             "line": {
              "color": "#E5ECF6",
              "width": 0.5
             }
            },
            "type": "barpolar"
           }
          ],
          "carpet": [
           {
            "aaxis": {
             "endlinecolor": "#2a3f5f",
             "gridcolor": "white",
             "linecolor": "white",
             "minorgridcolor": "white",
             "startlinecolor": "#2a3f5f"
            },
            "baxis": {
             "endlinecolor": "#2a3f5f",
             "gridcolor": "white",
             "linecolor": "white",
             "minorgridcolor": "white",
             "startlinecolor": "#2a3f5f"
            },
            "type": "carpet"
           }
          ],
          "choropleth": [
           {
            "colorbar": {
             "outlinewidth": 0,
             "ticks": ""
            },
            "type": "choropleth"
           }
          ],
          "contour": [
           {
            "colorbar": {
             "outlinewidth": 0,
             "ticks": ""
            },
            "colorscale": [
             [
              0,
              "#0d0887"
             ],
             [
              0.1111111111111111,
              "#46039f"
             ],
             [
              0.2222222222222222,
              "#7201a8"
             ],
             [
              0.3333333333333333,
              "#9c179e"
             ],
             [
              0.4444444444444444,
              "#bd3786"
             ],
             [
              0.5555555555555556,
              "#d8576b"
             ],
             [
              0.6666666666666666,
              "#ed7953"
             ],
             [
              0.7777777777777778,
              "#fb9f3a"
             ],
             [
              0.8888888888888888,
              "#fdca26"
             ],
             [
              1,
              "#f0f921"
             ]
            ],
            "type": "contour"
           }
          ],
          "contourcarpet": [
           {
            "colorbar": {
             "outlinewidth": 0,
             "ticks": ""
            },
            "type": "contourcarpet"
           }
          ],
          "heatmap": [
           {
            "colorbar": {
             "outlinewidth": 0,
             "ticks": ""
            },
            "colorscale": [
             [
              0,
              "#0d0887"
             ],
             [
              0.1111111111111111,
              "#46039f"
             ],
             [
              0.2222222222222222,
              "#7201a8"
             ],
             [
              0.3333333333333333,
              "#9c179e"
             ],
             [
              0.4444444444444444,
              "#bd3786"
             ],
             [
              0.5555555555555556,
              "#d8576b"
             ],
             [
              0.6666666666666666,
              "#ed7953"
             ],
             [
              0.7777777777777778,
              "#fb9f3a"
             ],
             [
              0.8888888888888888,
              "#fdca26"
             ],
             [
              1,
              "#f0f921"
             ]
            ],
            "type": "heatmap"
           }
          ],
          "heatmapgl": [
           {
            "colorbar": {
             "outlinewidth": 0,
             "ticks": ""
            },
            "colorscale": [
             [
              0,
              "#0d0887"
             ],
             [
              0.1111111111111111,
              "#46039f"
             ],
             [
              0.2222222222222222,
              "#7201a8"
             ],
             [
              0.3333333333333333,
              "#9c179e"
             ],
             [
              0.4444444444444444,
              "#bd3786"
             ],
             [
              0.5555555555555556,
              "#d8576b"
             ],
             [
              0.6666666666666666,
              "#ed7953"
             ],
             [
              0.7777777777777778,
              "#fb9f3a"
             ],
             [
              0.8888888888888888,
              "#fdca26"
             ],
             [
              1,
              "#f0f921"
             ]
            ],
            "type": "heatmapgl"
           }
          ],
          "histogram": [
           {
            "marker": {
             "colorbar": {
              "outlinewidth": 0,
              "ticks": ""
             }
            },
            "type": "histogram"
           }
          ],
          "histogram2d": [
           {
            "colorbar": {
             "outlinewidth": 0,
             "ticks": ""
            },
            "colorscale": [
             [
              0,
              "#0d0887"
             ],
             [
              0.1111111111111111,
              "#46039f"
             ],
             [
              0.2222222222222222,
              "#7201a8"
             ],
             [
              0.3333333333333333,
              "#9c179e"
             ],
             [
              0.4444444444444444,
              "#bd3786"
             ],
             [
              0.5555555555555556,
              "#d8576b"
             ],
             [
              0.6666666666666666,
              "#ed7953"
             ],
             [
              0.7777777777777778,
              "#fb9f3a"
             ],
             [
              0.8888888888888888,
              "#fdca26"
             ],
             [
              1,
              "#f0f921"
             ]
            ],
            "type": "histogram2d"
           }
          ],
          "histogram2dcontour": [
           {
            "colorbar": {
             "outlinewidth": 0,
             "ticks": ""
            },
            "colorscale": [
             [
              0,
              "#0d0887"
             ],
             [
              0.1111111111111111,
              "#46039f"
             ],
             [
              0.2222222222222222,
              "#7201a8"
             ],
             [
              0.3333333333333333,
              "#9c179e"
             ],
             [
              0.4444444444444444,
              "#bd3786"
             ],
             [
              0.5555555555555556,
              "#d8576b"
             ],
             [
              0.6666666666666666,
              "#ed7953"
             ],
             [
              0.7777777777777778,
              "#fb9f3a"
             ],
             [
              0.8888888888888888,
              "#fdca26"
             ],
             [
              1,
              "#f0f921"
             ]
            ],
            "type": "histogram2dcontour"
           }
          ],
          "mesh3d": [
           {
            "colorbar": {
             "outlinewidth": 0,
             "ticks": ""
            },
            "type": "mesh3d"
           }
          ],
          "parcoords": [
           {
            "line": {
             "colorbar": {
              "outlinewidth": 0,
              "ticks": ""
             }
            },
            "type": "parcoords"
           }
          ],
          "pie": [
           {
            "automargin": true,
            "type": "pie"
           }
          ],
          "scatter": [
           {
            "marker": {
             "colorbar": {
              "outlinewidth": 0,
              "ticks": ""
             }
            },
            "type": "scatter"
           }
          ],
          "scatter3d": [
           {
            "line": {
             "colorbar": {
              "outlinewidth": 0,
              "ticks": ""
             }
            },
            "marker": {
             "colorbar": {
              "outlinewidth": 0,
              "ticks": ""
             }
            },
            "type": "scatter3d"
           }
          ],
          "scattercarpet": [
           {
            "marker": {
             "colorbar": {
              "outlinewidth": 0,
              "ticks": ""
             }
            },
            "type": "scattercarpet"
           }
          ],
          "scattergeo": [
           {
            "marker": {
             "colorbar": {
              "outlinewidth": 0,
              "ticks": ""
             }
            },
            "type": "scattergeo"
           }
          ],
          "scattergl": [
           {
            "marker": {
             "colorbar": {
              "outlinewidth": 0,
              "ticks": ""
             }
            },
            "type": "scattergl"
           }
          ],
          "scattermapbox": [
           {
            "marker": {
             "colorbar": {
              "outlinewidth": 0,
              "ticks": ""
             }
            },
            "type": "scattermapbox"
           }
          ],
          "scatterpolar": [
           {
            "marker": {
             "colorbar": {
              "outlinewidth": 0,
              "ticks": ""
             }
            },
            "type": "scatterpolar"
           }
          ],
          "scatterpolargl": [
           {
            "marker": {
             "colorbar": {
              "outlinewidth": 0,
              "ticks": ""
             }
            },
            "type": "scatterpolargl"
           }
          ],
          "scatterternary": [
           {
            "marker": {
             "colorbar": {
              "outlinewidth": 0,
              "ticks": ""
             }
            },
            "type": "scatterternary"
           }
          ],
          "surface": [
           {
            "colorbar": {
             "outlinewidth": 0,
             "ticks": ""
            },
            "colorscale": [
             [
              0,
              "#0d0887"
             ],
             [
              0.1111111111111111,
              "#46039f"
             ],
             [
              0.2222222222222222,
              "#7201a8"
             ],
             [
              0.3333333333333333,
              "#9c179e"
             ],
             [
              0.4444444444444444,
              "#bd3786"
             ],
             [
              0.5555555555555556,
              "#d8576b"
             ],
             [
              0.6666666666666666,
              "#ed7953"
             ],
             [
              0.7777777777777778,
              "#fb9f3a"
             ],
             [
              0.8888888888888888,
              "#fdca26"
             ],
             [
              1,
              "#f0f921"
             ]
            ],
            "type": "surface"
           }
          ],
          "table": [
           {
            "cells": {
             "fill": {
              "color": "#EBF0F8"
             },
             "line": {
              "color": "white"
             }
            },
            "header": {
             "fill": {
              "color": "#C8D4E3"
             },
             "line": {
              "color": "white"
             }
            },
            "type": "table"
           }
          ]
         },
         "layout": {
          "annotationdefaults": {
           "arrowcolor": "#2a3f5f",
           "arrowhead": 0,
           "arrowwidth": 1
          },
          "coloraxis": {
           "colorbar": {
            "outlinewidth": 0,
            "ticks": ""
           }
          },
          "colorscale": {
           "diverging": [
            [
             0,
             "#8e0152"
            ],
            [
             0.1,
             "#c51b7d"
            ],
            [
             0.2,
             "#de77ae"
            ],
            [
             0.3,
             "#f1b6da"
            ],
            [
             0.4,
             "#fde0ef"
            ],
            [
             0.5,
             "#f7f7f7"
            ],
            [
             0.6,
             "#e6f5d0"
            ],
            [
             0.7,
             "#b8e186"
            ],
            [
             0.8,
             "#7fbc41"
            ],
            [
             0.9,
             "#4d9221"
            ],
            [
             1,
             "#276419"
            ]
           ],
           "sequential": [
            [
             0,
             "#0d0887"
            ],
            [
             0.1111111111111111,
             "#46039f"
            ],
            [
             0.2222222222222222,
             "#7201a8"
            ],
            [
             0.3333333333333333,
             "#9c179e"
            ],
            [
             0.4444444444444444,
             "#bd3786"
            ],
            [
             0.5555555555555556,
             "#d8576b"
            ],
            [
             0.6666666666666666,
             "#ed7953"
            ],
            [
             0.7777777777777778,
             "#fb9f3a"
            ],
            [
             0.8888888888888888,
             "#fdca26"
            ],
            [
             1,
             "#f0f921"
            ]
           ],
           "sequentialminus": [
            [
             0,
             "#0d0887"
            ],
            [
             0.1111111111111111,
             "#46039f"
            ],
            [
             0.2222222222222222,
             "#7201a8"
            ],
            [
             0.3333333333333333,
             "#9c179e"
            ],
            [
             0.4444444444444444,
             "#bd3786"
            ],
            [
             0.5555555555555556,
             "#d8576b"
            ],
            [
             0.6666666666666666,
             "#ed7953"
            ],
            [
             0.7777777777777778,
             "#fb9f3a"
            ],
            [
             0.8888888888888888,
             "#fdca26"
            ],
            [
             1,
             "#f0f921"
            ]
           ]
          },
          "colorway": [
           "#636efa",
           "#EF553B",
           "#00cc96",
           "#ab63fa",
           "#FFA15A",
           "#19d3f3",
           "#FF6692",
           "#B6E880",
           "#FF97FF",
           "#FECB52"
          ],
          "font": {
           "color": "#2a3f5f"
          },
          "geo": {
           "bgcolor": "white",
           "lakecolor": "white",
           "landcolor": "#E5ECF6",
           "showlakes": true,
           "showland": true,
           "subunitcolor": "white"
          },
          "hoverlabel": {
           "align": "left"
          },
          "hovermode": "closest",
          "mapbox": {
           "style": "light"
          },
          "paper_bgcolor": "white",
          "plot_bgcolor": "#E5ECF6",
          "polar": {
           "angularaxis": {
            "gridcolor": "white",
            "linecolor": "white",
            "ticks": ""
           },
           "bgcolor": "#E5ECF6",
           "radialaxis": {
            "gridcolor": "white",
            "linecolor": "white",
            "ticks": ""
           }
          },
          "scene": {
           "xaxis": {
            "backgroundcolor": "#E5ECF6",
            "gridcolor": "white",
            "gridwidth": 2,
            "linecolor": "white",
            "showbackground": true,
            "ticks": "",
            "zerolinecolor": "white"
           },
           "yaxis": {
            "backgroundcolor": "#E5ECF6",
            "gridcolor": "white",
            "gridwidth": 2,
            "linecolor": "white",
            "showbackground": true,
            "ticks": "",
            "zerolinecolor": "white"
           },
           "zaxis": {
            "backgroundcolor": "#E5ECF6",
            "gridcolor": "white",
            "gridwidth": 2,
            "linecolor": "white",
            "showbackground": true,
            "ticks": "",
            "zerolinecolor": "white"
           }
          },
          "shapedefaults": {
           "line": {
            "color": "#2a3f5f"
           }
          },
          "ternary": {
           "aaxis": {
            "gridcolor": "white",
            "linecolor": "white",
            "ticks": ""
           },
           "baxis": {
            "gridcolor": "white",
            "linecolor": "white",
            "ticks": ""
           },
           "bgcolor": "#E5ECF6",
           "caxis": {
            "gridcolor": "white",
            "linecolor": "white",
            "ticks": ""
           }
          },
          "title": {
           "x": 0.05
          },
          "xaxis": {
           "automargin": true,
           "gridcolor": "white",
           "linecolor": "white",
           "ticks": "",
           "title": {
            "standoff": 15
           },
           "zerolinecolor": "white",
           "zerolinewidth": 2
          },
          "yaxis": {
           "automargin": true,
           "gridcolor": "white",
           "linecolor": "white",
           "ticks": "",
           "title": {
            "standoff": 15
           },
           "zerolinecolor": "white",
           "zerolinewidth": 2
          }
         }
        },
        "width": 1800
       }
      }
     },
     "metadata": {}
    },
    {
     "output_type": "display_data",
     "data": {},
     "metadata": {}
    },
    {
     "output_type": "execute_result",
     "data": {
      "text/html": "<div id='1001'>\n\n\n\n\n\n  <div class=\"bk-root\" id=\"8ac05bbf-5f2c-4eef-8e38-3bcd766cecf2\" data-root-id=\"1001\"></div>\n</div>\n<script type=\"application/javascript\">(function(root) {\n  function embed_document(root) {\n  var docs_json = {\"fd6ecc77-263d-423d-9687-b70a467f979f\":{\"roots\":{\"references\":[{\"attributes\":{\"children\":[{\"id\":\"1002\"},{\"id\":\"1004\"}],\"margin\":[0,0,0,0],\"name\":\"Column01451\"},\"id\":\"1001\",\"type\":\"Column\"},{\"attributes\":{\"client_comm_id\":\"8259047c98834370a449c8af4128cdd0\",\"comm_id\":\"4a5704efc82c4ff18ffb84f612f59eaa\",\"plot_id\":\"1001\"},\"id\":\"1006\",\"type\":\"panel.models.comm_manager.CommManager\"},{\"attributes\":{\"children\":[{\"id\":\"1003\"}],\"margin\":[0,0,0,0],\"name\":\"Column01456\"},\"id\":\"1002\",\"type\":\"Column\"},{\"attributes\":{\"children\":[{\"id\":\"1005\"}],\"margin\":[0,0,0,0],\"name\":\"Row01455\"},\"id\":\"1004\",\"type\":\"Row\"},{\"attributes\":{\"margin\":[5,5,5,5],\"name\":\"interactive01450\"},\"id\":\"1005\",\"type\":\"panel.models.markup.HTML\"},{\"attributes\":{\"margin\":[5,10,5,10],\"options\":[\"AL\",\"AK\",\"AZ\",\"AR\",\"CA\",\"CO\",\"CT\",\"DE\",\"FL\",\"GA\",\"HI\",\"ID\",\"IL\",\"IN\",\"IA\",\"KS\",\"KY\",\"LA\",\"ME\",\"MD\",\"MA\",\"MI\",\"MN\",\"MS\",\"MO\",\"MT\",\"NE\",\"NV\",\"NH\",\"NJ\",\"NM\",\"NY\",\"NC\",\"ND\",\"OH\",\"OK\",\"OR\",\"PA\",\"RI\",\"SC\",\"SD\",\"TN\",\"TX\",\"UT\",\"VT\",\"VA\",\"WA\",\"WV\",\"WI\",\"WY\",\"DC\"],\"title\":\"state\",\"value\":\"AL\"},\"id\":\"1003\",\"type\":\"Select\"}],\"root_ids\":[\"1001\",\"1006\"]},\"title\":\"Bokeh Application\",\"version\":\"2.0.2\"}};\n  var render_items = [{\"docid\":\"fd6ecc77-263d-423d-9687-b70a467f979f\",\"root_ids\":[\"1001\"],\"roots\":{\"1001\":\"8ac05bbf-5f2c-4eef-8e38-3bcd766cecf2\"}}];\n  root.Bokeh.embed.embed_items_notebook(docs_json, render_items);\n  }\nif (root.Bokeh !== undefined) {\n    embed_document(root);\n  } else {\n    var attempts = 0;\n    var timer = setInterval(function(root) {\n      if (root.Bokeh !== undefined) {\n        clearInterval(timer);\n        embed_document(root);\n      } else if (document.readyState == \"complete\") {\n        attempts++;\n        if (attempts > 100) {\n          clearInterval(timer);\n          console.log(\"Bokeh: ERROR: Unable to run BokehJS code because BokehJS library is missing\");\n        }\n      }\n    }, 10, root)\n  }\n})(window);</script>",
      "application/vnd.holoviews_exec.v0+json": "",
      "text/plain": [
       "Column\n",
       "    [0] Column\n",
       "        [0] Select(name='state', options=['AL', 'AK', 'AZ', ...], value='AL')\n",
       "    [1] Row\n",
       "        [0] Str(None, name='interactive01450')"
      ]
     },
     "metadata": {
      "application/vnd.holoviews_exec.v0+json": {
       "id": "1001"
      }
     },
     "execution_count": 11
    }
   ],
   "source": [
    "# Group by year and neighborhood and then create a new dataframe of the mean values\n",
    "atlas_with_totals[\"ServiceStart_Year\"] = atlas_with_totals[\"Service Start\"].apply(lambda x: x.year)\n",
    "atlas_with_totals_grouped = atlas_with_totals.groupby([\"ServiceStart_Year\", \"State\"]).sum()\n",
    "atlas_with_totals_grouped.head(5)\n",
    "\n",
    "def generate_map(state):\n",
    "    data = atlas_with_totals.reset_index().set_index(\"State\").loc[state]\n",
    "    map = px.scatter_mapbox(\n",
    "        data.reset_index(),\n",
    "        lat=\"Lat\",\n",
    "        lon=\"Long\",\n",
    "        size=\"Invoice Amount\",\n",
    "        # size=\"Number of Users\",\n",
    "        color=\"Customers\",\n",
    "        width=1800,\n",
    "        height=900,\n",
    "        zoom=4,\n",
    "        mapbox_style=\"open-street-map\"  # Options: [ \"open-street-map, white-bg, carto-positron, carto-darkmatter, stamen-terrain, stamen-toner, stamen-watercolor\" ]\n",
    "    )\n",
    "    return map.show()\n",
    "\n",
    "interact(generate_map, state=constants.DROP_DOWNS_STATE_ABBREVIATION_LIST)"
   ]
  },
  {
   "cell_type": "code",
   "execution_count": null,
   "metadata": {},
   "outputs": [],
   "source": []
  }
 ],
 "metadata": {
  "kernelspec": {
   "name": "pyvizenv",
   "display_name": "pyvizenv",
   "language": "python"
  },
  "language_info": {
   "codemirror_mode": {
    "name": "ipython",
    "version": 3
   },
   "file_extension": ".py",
   "mimetype": "text/x-python",
   "name": "python",
   "nbconvert_exporter": "python",
   "pygments_lexer": "ipython3",
   "version": "3.8.3-final"
  }
 },
 "nbformat": 4,
 "nbformat_minor": 4
}