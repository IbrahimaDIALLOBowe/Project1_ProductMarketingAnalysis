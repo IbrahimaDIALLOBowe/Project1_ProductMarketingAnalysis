{
 "cells": [
  {
   "cell_type": "code",
   "execution_count": null,
   "metadata": {},
   "outputs": [],
   "source": [
    "# System imports\n",
    "import os\n",
    "import pandas as pd\n",
    "import matplotlib.pyplot as plt\n",
    "import plotly.express as px\n",
    "import hvplot.pandas\n",
    "import panel as pn\n",
    "from pathlib import Path\n",
    "from dotenv import load_dotenv\n",
    "from panel.interact import interact\n",
    "from panel import widgets\n",
    "from string import digits\n",
    "import csv\n",
    "import json\n",
    "import numpy as np\n",
    "import dateparser\n",
    "\n",
    "pn.extension()\n",
    "\n",
    "%matplotlib inline"
   ]
  },
  {
   "cell_type": "code",
   "execution_count": null,
   "metadata": {},
   "outputs": [],
   "source": [
    "# Local imports\n",
    "import sys\n",
    "sys.path.append(\"../libs\")\n",
    "\n",
    "from Constants import Constants\n",
    "from PreprocessingTools import CustomerNameCleaningFunctions\n",
    "from PreprocessingTools import MappingFunctions\n"
   ]
  },
  {
   "cell_type": "code",
   "execution_count": null,
   "metadata": {},
   "outputs": [],
   "source": [
    "# Construct tools\n",
    "debug_level = 0\n",
    "constants = Constants()\n",
    "tool_customer = CustomerNameCleaningFunctions(debug_level)\n",
    "tool_mapping = MappingFunctions(debug_level)\n"
   ]
  },
  {
   "cell_type": "code",
   "execution_count": null,
   "metadata": {
    "tags": []
   },
   "outputs": [],
   "source": [
    "# Build the anonymous customer name mapping\n",
    "\n",
    "## Read the datasets into Pandas DataFrames\n",
    "atlas               = pd.read_csv(constants.RAW_ATLAS_FILE_PATH, index_col=\"Customers\")\n",
    "forecast            = pd.read_csv(constants.RAW_FORECAST_DATA_FILE_PATH, index_col=\"Organization Name\")\n",
    "revenue2020         = pd.read_csv(constants.RAW_REVENUE2020_FILE_PATH, index_col=\"Name\")\n",
    "revenue2020A        = pd.read_csv(constants.RAW_REVENUE2020A_FILE_PATH, index_col=\"Payee Name\")\n",
    "atlas2              = pd.read_csv(constants.RAW_ATLAS_2_FILE_PATH, index_col=\"Customers\")\n",
    "potential_customers_file    = pd.read_csv(constants.RAW_POTENTIAL_CUSTOMERS_FILE_PATH, index_col=\"Customer Name\")\n",
    "\n",
    "## Extract paying customers\n",
    "atlas_customers_raw             = atlas.index.to_list()\n",
    "forecast_customers_raw          = forecast.index.to_list()\n",
    "revenue2020_customers_raw       = revenue2020.index.to_list()\n",
    "revenue2020A_customers_raw      = revenue2020A.index.to_list()\n",
    "atlas2_customers_raw            = atlas2.index.to_list()\n",
    "potential_customers_raw             = potential_customers_file.index.to_list()\n",
    "\n",
    "## Clean up names\n",
    "atlas_customers_cleaned         = tool_customer.cleanup_customer_names(atlas_customers_raw)\n",
    "forecast_customers_cleaned = tool_customer.cleanup_customer_names(forecast_customers_raw)\n",
    "revenue2020_customers_cleaned   = tool_customer.cleanup_customer_names(revenue2020_customers_raw)\n",
    "revenue2020A_customers_cleaned  = tool_customer.cleanup_customer_names(revenue2020A_customers_raw)\n",
    "atlas2_customers_cleaned        = tool_customer.cleanup_customer_names(atlas2_customers_raw)\n",
    "potential_customers_cleaned        = tool_customer.cleanup_customer_names(potential_customers_raw)\n",
    "\n",
    "## Build name mapping\n",
    "name_mapping          = tool_mapping.build_name_mapping(atlas_customers_cleaned, {})\n",
    "name_mapping       = tool_mapping.build_name_mapping(forecast_customers_cleaned, name_mapping)\n",
    "name_mapping    = tool_mapping.build_name_mapping(revenue2020_customers_cleaned, name_mapping)\n",
    "name_mapping   = tool_mapping.build_name_mapping(revenue2020A_customers_cleaned, name_mapping)\n",
    "name_mapping         = tool_mapping.build_name_mapping(atlas2_customers_cleaned, name_mapping)\n",
    "name_mapping_potential_customers         = tool_mapping.build_name_mapping(potential_customers_cleaned, {})\n",
    "\n",
    "## Export the name mappings\n",
    "tool_mapping.write_customer_name_mapping(name_mapping)\n",
    "tool_mapping.write_lookup_table(name_mapping_potential_customers, constants.LUT_POTENTIAL_CUSTOMER_NAME_FILE_PATH)\n"
   ]
  },
  {
   "cell_type": "code",
   "execution_count": null,
   "metadata": {
    "tags": []
   },
   "outputs": [],
   "source": [
    "# Anonymize the raw data files\n",
    "\n",
    "## Import name mapping\n",
    "customer_name_mapping = tool_mapping.read_customer_name_mapping()\n",
    "\n",
    "## Clean up names\n",
    "atlas_customers_cleaned         = tool_customer.cleanup_customer_names(atlas_customers_raw)\n",
    "forecast_customers_cleaned = tool_customer.cleanup_customer_names(forecast_customers_raw)\n",
    "revenue2020_customers_cleaned   = tool_customer.cleanup_customer_names(revenue2020_customers_raw)\n",
    "revenue2020A_customers_cleaned  = tool_customer.cleanup_customer_names(revenue2020A_customers_raw)\n",
    "atlas2_customers_cleaned        = tool_customer.cleanup_customer_names(atlas2_customers_raw)\n",
    "\n",
    "## Map the customer names\n",
    "atlas_customers_anonymized              = tool_customer.anonymize_customer_list(atlas_customers_cleaned, customer_name_mapping)\n",
    "forecast_customers_anonymized      = tool_customer.anonymize_customer_list(forecast_customers_cleaned, customer_name_mapping)\n",
    "revenue2020_customers_anonymized        = tool_customer.anonymize_customer_list(revenue2020_customers_cleaned, customer_name_mapping)\n",
    "revenue2020A_customers_anonymized       = tool_customer.anonymize_customer_list(revenue2020A_customers_cleaned, customer_name_mapping)\n",
    "atlas2_customers_anonymized             = tool_customer.anonymize_customer_list(atlas2_customers_cleaned, customer_name_mapping)\n",
    "\n",
    "# Fix the customers in the DataFrames\n",
    "atlas           = tool_customer.set_customers_index(atlas, atlas_customers_anonymized, \"Customers\")\n",
    "forecast        = tool_customer.set_customers_index(forecast, forecast_customers_anonymized, \"Organization Name\")\n",
    "revenue2020     = tool_customer.set_customers_index(revenue2020, revenue2020_customers_anonymized, \"Name\")\n",
    "revenue2020A    = tool_customer.set_customers_index(revenue2020A, revenue2020A_customers_anonymized, \"Payee Name\")\n",
    "atlas2          = tool_customer.set_customers_index(atlas2, atlas2_customers_anonymized, \"Customers\")\n",
    "\n",
    "## Export\n",
    "atlas.to_csv(constants.ANON_ATLAS_FILE_PATH)\n",
    "forecast.to_csv(constants.ANON_FORECAST_DATA_FILE_PATH)\n",
    "revenue2020.to_csv(constants.ANON_REVENUE2020_FILE_PATH)\n",
    "revenue2020A.to_csv(constants.ANON_REVENUE2020A_FILE_PATH)\n",
    "atlas2.to_csv(constants.ANON_ATLAS_2_FILE_PATH)\n"
   ]
  },
  {
   "cell_type": "code",
   "execution_count": null,
   "metadata": {},
   "outputs": [],
   "source": []
  }
 ],
 "metadata": {
  "kernelspec": {
   "display_name": "pyvizenv",
   "language": "python",
   "name": "pyvizenv"
  },
  "language_info": {
   "codemirror_mode": {
    "name": "ipython",
    "version": 3
   },
   "file_extension": ".py",
   "mimetype": "text/x-python",
   "name": "python",
   "nbconvert_exporter": "python",
   "pygments_lexer": "ipython3",
   "version": "3.8.3-final"
  }
 },
 "nbformat": 4,
 "nbformat_minor": 4
}