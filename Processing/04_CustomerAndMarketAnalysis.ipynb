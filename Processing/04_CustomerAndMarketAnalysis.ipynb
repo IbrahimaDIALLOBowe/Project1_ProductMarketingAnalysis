{
 "cells": [
  {
   "cell_type": "code",
   "execution_count": 3,
   "metadata": {},
   "outputs": [],
   "source": [
    "# System imports\n",
    "import os\n",
    "import pandas as pd\n",
    "import matplotlib.pyplot as plt\n",
    "import plotly.express as px\n",
    "import hvplot.pandas\n",
    "import panel as pn\n",
    "from pathlib import Path\n",
    "from dotenv import load_dotenv\n",
    "from panel.interact import interact\n",
    "from panel import widgets\n",
    "from string import digits\n",
    "import csv\n",
    "import json\n",
    "import numpy as np\n",
    "\n",
    "pn.extension()\n",
    "\n",
    "%matplotlib inline"
   ]
  },
  {
   "cell_type": "code",
   "execution_count": 4,
   "metadata": {},
   "outputs": [],
   "source": [
    "# Local imports\n",
    "import sys\n",
    "sys.path.append(\"../lib2\")\n",
    "\n",
    "from Constants import Constants\n",
    "from ProcessingTools import DateProcessingTools"
   ]
  },
  {
   "cell_type": "code",
   "execution_count": 5,
   "metadata": {},
   "outputs": [],
   "source": [
    "# Build tools\n",
    "debug_level = 0\n",
    "constants = Constants()\n",
    "tool_data_processing = DateProcessingTools(debug_level)"
   ]
  },
  {
   "cell_type": "code",
   "execution_count": 6,
   "metadata": {},
   "outputs": [],
   "source": [
    "# Import all preprocessed data\n",
    "atlas           = pd.read_pickle(constants.PREPROCESSED_ATLAS_FILE_PATH)\n",
    "forecast        = pd.read_pickle(constants.PREPROCESSED_FORECAST_DATA_FILE_PATH)\n",
    "revenue2020     = pd.read_pickle(constants.PREPROCESSED_REVENUE2020_FILE_PATH)\n",
    "revenue2020A    = pd.read_pickle(constants.PREPROCESSED_REVENUE2020A_FILE_PATH)"
   ]
  },
  {
   "cell_type": "code",
   "execution_count": 15,
   "metadata": {},
   "outputs": [
    {
     "data": {
      "text/html": [
       "<div>\n",
       "<style scoped>\n",
       "    .dataframe tbody tr th:only-of-type {\n",
       "        vertical-align: middle;\n",
       "    }\n",
       "\n",
       "    .dataframe tbody tr th {\n",
       "        vertical-align: top;\n",
       "    }\n",
       "\n",
       "    .dataframe thead th {\n",
       "        text-align: right;\n",
       "    }\n",
       "</style>\n",
       "<table border=\"1\" class=\"dataframe\">\n",
       "  <thead>\n",
       "    <tr style=\"text-align: right;\">\n",
       "      <th></th>\n",
       "      <th></th>\n",
       "      <th>Invoice Amount</th>\n",
       "    </tr>\n",
       "    <tr>\n",
       "      <th>Subscription</th>\n",
       "      <th>Customers</th>\n",
       "      <th></th>\n",
       "    </tr>\n",
       "  </thead>\n",
       "  <tbody>\n",
       "    <tr>\n",
       "      <th rowspan=\"5\" valign=\"top\">1 Year</th>\n",
       "      <th>University 1</th>\n",
       "      <td>69500.000000</td>\n",
       "    </tr>\n",
       "    <tr>\n",
       "      <th>University 10</th>\n",
       "      <td>1466.666667</td>\n",
       "    </tr>\n",
       "    <tr>\n",
       "      <th>University 100</th>\n",
       "      <td>1000.000000</td>\n",
       "    </tr>\n",
       "    <tr>\n",
       "      <th>University 101</th>\n",
       "      <td>1916.666667</td>\n",
       "    </tr>\n",
       "    <tr>\n",
       "      <th>University 102</th>\n",
       "      <td>2100.000000</td>\n",
       "    </tr>\n",
       "  </tbody>\n",
       "</table>\n",
       "</div>"
      ],
      "text/plain": [
       "                             Invoice Amount\n",
       "Subscription Customers                     \n",
       "1 Year       University 1      69500.000000\n",
       "             University 10      1466.666667\n",
       "             University 100     1000.000000\n",
       "             University 101     1916.666667\n",
       "             University 102     2100.000000"
      ]
     },
     "execution_count": 15,
     "metadata": {},
     "output_type": "execute_result"
    }
   ],
   "source": [
    "# Group by year and neighborhood and then create a new dataframe of the mean values\n",
    "atlas.head()\n",
    "avg_price_df = atlas.reset_index().groupby(by=['Subscription', 'Customers']).mean()\n",
    "avg_price_df.head()"
   ]
  },
  {
   "cell_type": "code",
   "execution_count": 16,
   "metadata": {},
   "outputs": [
    {
     "data": {
      "text/plain": [
       "Invoice Amount    float64\n",
       "dtype: object"
      ]
     },
     "execution_count": 16,
     "metadata": {},
     "output_type": "execute_result"
    }
   ],
   "source": [
    "avg_price_df.dtypes"
   ]
  },
  {
   "cell_type": "code",
   "execution_count": 20,
   "metadata": {},
   "outputs": [
    {
     "data": {},
     "metadata": {},
     "output_type": "display_data"
    },
    {
     "data": {
      "application/vnd.holoviews_exec.v0+json": "",
      "text/html": [
       "<div id='1003'>\n",
       "\n",
       "\n",
       "\n",
       "\n",
       "\n",
       "  <div class=\"bk-root\" id=\"3dfb4628-089d-4ef3-9b00-ba869843beac\" data-root-id=\"1003\"></div>\n",
       "</div>\n",
       "<script type=\"application/javascript\">(function(root) {\n",
       "  function embed_document(root) {\n",
       "  var docs_json = {\"8e0af2fb-9e02-4c76-8cbf-da8b560533ac\":{\"roots\":{\"references\":[{\"attributes\":{\"children\":[{\"id\":\"1004\"},{\"id\":\"1008\"},{\"id\":\"1063\"},{\"id\":\"1064\"}],\"margin\":[0,0,0,0],\"name\":\"Row01542\"},\"id\":\"1003\",\"type\":\"Row\"},{\"attributes\":{\"active_drag\":\"auto\",\"active_inspect\":\"auto\",\"active_multi\":null,\"active_scroll\":\"auto\",\"active_tap\":\"auto\",\"tools\":[{\"id\":\"1007\"},{\"id\":\"1024\"},{\"id\":\"1025\"},{\"id\":\"1026\"},{\"id\":\"1027\"},{\"id\":\"1028\"}]},\"id\":\"1030\",\"type\":\"Toolbar\"},{\"attributes\":{},\"id\":\"1061\",\"type\":\"UnionRenderers\"},{\"attributes\":{\"margin\":[5,5,5,5],\"name\":\"VSpacer01548\",\"sizing_mode\":\"stretch_height\"},\"id\":\"1065\",\"type\":\"Spacer\"},{\"attributes\":{},\"id\":\"1038\",\"type\":\"Selection\"},{\"attributes\":{\"overlay\":{\"id\":\"1029\"}},\"id\":\"1027\",\"type\":\"BoxZoomTool\"},{\"attributes\":{\"axis\":{\"id\":\"1020\"},\"dimension\":1,\"grid_line_color\":null,\"ticker\":null},\"id\":\"1023\",\"type\":\"Grid\"},{\"attributes\":{\"bottom_units\":\"screen\",\"fill_alpha\":0.5,\"fill_color\":\"lightgrey\",\"left_units\":\"screen\",\"level\":\"overlay\",\"line_alpha\":1.0,\"line_color\":\"black\",\"line_dash\":[4,4],\"line_width\":2,\"render_mode\":\"css\",\"right_units\":\"screen\",\"top_units\":\"screen\"},\"id\":\"1029\",\"type\":\"BoxAnnotation\"},{\"attributes\":{},\"id\":\"1021\",\"type\":\"BasicTicker\"},{\"attributes\":{\"data_source\":{\"id\":\"1037\"},\"glyph\":{\"id\":\"1040\"},\"hover_glyph\":null,\"muted_glyph\":{\"id\":\"1042\"},\"nonselection_glyph\":{\"id\":\"1041\"},\"selection_glyph\":null,\"view\":{\"id\":\"1044\"}},\"id\":\"1043\",\"type\":\"GlyphRenderer\"},{\"attributes\":{\"data\":{\"Customers\":[\"University 1\",\"University 10\",\"University 100\",\"University 101\",\"University 102\",\"University 103\",\"University 104\",\"University 105\",\"University 106\",\"University 107\",\"University 108\",\"University 109\",\"University 11\",\"University 111\",\"University 113\",\"University 114\",\"University 115\",\"University 118\",\"University 119\",\"University 12\",\"University 120\",\"University 122\",\"University 123\",\"University 124\",\"University 125\",\"University 126\",\"University 127\",\"University 128\",\"University 129\",\"University 13\",\"University 130\",\"University 132\",\"University 133\",\"University 134\",\"University 135\",\"University 136\",\"University 137\",\"University 138\",\"University 14\",\"University 140\",\"University 141\",\"University 142\",\"University 143\",\"University 144\",\"University 145\",\"University 146\",\"University 147\",\"University 148\",\"University 15\",\"University 150\",\"University 151\",\"University 153\",\"University 154\",\"University 156\",\"University 158\",\"University 16\",\"University 160\",\"University 161\",\"University 162\",\"University 164\",\"University 165\",\"University 167\",\"University 168\",\"University 169\",\"University 17\",\"University 171\",\"University 172\",\"University 173\",\"University 176\",\"University 177\",\"University 178\",\"University 179\",\"University 18\",\"University 180\",\"University 181\",\"University 182\",\"University 183\",\"University 184\",\"University 185\",\"University 186\",\"University 189\",\"University 19\",\"University 190\",\"University 191\",\"University 192\",\"University 193\",\"University 194\",\"University 195\",\"University 196\",\"University 197\",\"University 2\",\"University 20\",\"University 200\",\"University 201\",\"University 203\",\"University 205\",\"University 207\",\"University 21\",\"University 211\",\"University 212\",\"University 213\",\"University 215\",\"University 216\",\"University 218\",\"University 22\",\"University 220\",\"University 222\",\"University 223\",\"University 224\",\"University 225\",\"University 226\",\"University 227\",\"University 228\",\"University 229\",\"University 23\",\"University 230\",\"University 231\",\"University 232\",\"University 233\",\"University 234\",\"University 235\",\"University 236\",\"University 237\",\"University 24\",\"University 241\",\"University 242\",\"University 245\",\"University 246\",\"University 247\",\"University 248\",\"University 25\",\"University 251\",\"University 253\",\"University 255\",\"University 258\",\"University 259\",\"University 26\",\"University 260\",\"University 261\",\"University 263\",\"University 265\",\"University 266\",\"University 268\",\"University 269\",\"University 27\",\"University 273\",\"University 276\",\"University 277\",\"University 28\",\"University 280\",\"University 284\",\"University 286\",\"University 288\",\"University 29\",\"University 294\",\"University 295\",\"University 296\",\"University 297\",\"University 299\",\"University 3\",\"University 30\",\"University 300\",\"University 302\",\"University 305\",\"University 307\",\"University 31\",\"University 310\",\"University 311\",\"University 312\",\"University 32\",\"University 33\",\"University 34\",\"University 35\",\"University 355\",\"University 36\",\"University 37\",\"University 4\",\"University 40\",\"University 42\",\"University 43\",\"University 44\",\"University 45\",\"University 46\",\"University 47\",\"University 48\",\"University 49\",\"University 5\",\"University 50\",\"University 52\",\"University 53\",\"University 55\",\"University 57\",\"University 58\",\"University 59\",\"University 6\",\"University 60\",\"University 61\",\"University 63\",\"University 64\",\"University 65\",\"University 66\",\"University 67\",\"University 68\",\"University 7\",\"University 70\",\"University 71\",\"University 73\",\"University 74\",\"University 75\",\"University 76\",\"University 78\",\"University 79\",\"University 8\",\"University 81\",\"University 82\",\"University 83\",\"University 84\",\"University 85\",\"University 86\",\"University 89\",\"University 9\",\"University 90\",\"University 91\",\"University 92\",\"University 93\",\"University 94\",\"University 95\",\"University 96\",\"University 97\",\"University 98\",\"University 99\"],\"Invoice Amount\":{\"__ndarray__\":\"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\",\"dtype\":\"float64\",\"shape\":[231]},\"Invoice_Amount\":{\"__ndarray__\":\"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\",\"dtype\":\"float64\",\"shape\":[231]}},\"selected\":{\"id\":\"1038\"},\"selection_policy\":{\"id\":\"1061\"}},\"id\":\"1037\",\"type\":\"ColumnDataSource\"},{\"attributes\":{\"children\":[{\"id\":\"1067\"}],\"css_classes\":[\"widget-box\"],\"margin\":[5,5,5,5],\"name\":\"WidgetBox01543\"},\"id\":\"1066\",\"type\":\"Column\"},{\"attributes\":{},\"id\":\"1046\",\"type\":\"CategoricalTickFormatter\"},{\"attributes\":{\"margin\":[5,5,5,5],\"name\":\"HSpacer01552\",\"sizing_mode\":\"stretch_width\"},\"id\":\"1063\",\"type\":\"Spacer\"},{\"attributes\":{\"line_color\":\"#1f77b3\",\"line_width\":2,\"x\":{\"field\":\"Customers\"},\"y\":{\"field\":\"Invoice Amount\"}},\"id\":\"1040\",\"type\":\"Line\"},{\"attributes\":{\"callback\":null,\"renderers\":[{\"id\":\"1043\"}],\"tags\":[\"hv_created\"],\"tooltips\":[[\"Customers\",\"@{Customers}\"],[\"Invoice Amount\",\"@{Invoice_Amount}\"]]},\"id\":\"1007\",\"type\":\"HoverTool\"},{\"attributes\":{},\"id\":\"1026\",\"type\":\"WheelZoomTool\"},{\"attributes\":{\"factors\":[\"University 1\",\"University 10\",\"University 100\",\"University 101\",\"University 102\",\"University 103\",\"University 104\",\"University 105\",\"University 106\",\"University 107\",\"University 108\",\"University 109\",\"University 11\",\"University 111\",\"University 113\",\"University 114\",\"University 115\",\"University 118\",\"University 119\",\"University 12\",\"University 120\",\"University 122\",\"University 123\",\"University 124\",\"University 125\",\"University 126\",\"University 127\",\"University 128\",\"University 129\",\"University 13\",\"University 130\",\"University 132\",\"University 133\",\"University 134\",\"University 135\",\"University 136\",\"University 137\",\"University 138\",\"University 14\",\"University 140\",\"University 141\",\"University 142\",\"University 143\",\"University 144\",\"University 145\",\"University 146\",\"University 147\",\"University 148\",\"University 15\",\"University 150\",\"University 151\",\"University 153\",\"University 154\",\"University 156\",\"University 158\",\"University 16\",\"University 160\",\"University 161\",\"University 162\",\"University 164\",\"University 165\",\"University 167\",\"University 168\",\"University 169\",\"University 17\",\"University 171\",\"University 172\",\"University 173\",\"University 176\",\"University 177\",\"University 178\",\"University 179\",\"University 18\",\"University 180\",\"University 181\",\"University 182\",\"University 183\",\"University 184\",\"University 185\",\"University 186\",\"University 189\",\"University 19\",\"University 190\",\"University 191\",\"University 192\",\"University 193\",\"University 194\",\"University 195\",\"University 196\",\"University 197\",\"University 2\",\"University 20\",\"University 200\",\"University 201\",\"University 203\",\"University 205\",\"University 207\",\"University 21\",\"University 211\",\"University 212\",\"University 213\",\"University 215\",\"University 216\",\"University 218\",\"University 22\",\"University 220\",\"University 222\",\"University 223\",\"University 224\",\"University 225\",\"University 226\",\"University 227\",\"University 228\",\"University 229\",\"University 23\",\"University 230\",\"University 231\",\"University 232\",\"University 233\",\"University 234\",\"University 235\",\"University 236\",\"University 237\",\"University 24\",\"University 241\",\"University 242\",\"University 245\",\"University 246\",\"University 247\",\"University 248\",\"University 25\",\"University 251\",\"University 253\",\"University 255\",\"University 258\",\"University 259\",\"University 26\",\"University 260\",\"University 261\",\"University 263\",\"University 265\",\"University 266\",\"University 268\",\"University 269\",\"University 27\",\"University 273\",\"University 276\",\"University 277\",\"University 28\",\"University 280\",\"University 284\",\"University 286\",\"University 288\",\"University 29\",\"University 294\",\"University 295\",\"University 296\",\"University 297\",\"University 299\",\"University 3\",\"University 30\",\"University 300\",\"University 302\",\"University 305\",\"University 307\",\"University 31\",\"University 310\",\"University 311\",\"University 312\",\"University 32\",\"University 33\",\"University 34\",\"University 35\",\"University 355\",\"University 36\",\"University 37\",\"University 4\",\"University 40\",\"University 42\",\"University 43\",\"University 44\",\"University 45\",\"University 46\",\"University 47\",\"University 48\",\"University 49\",\"University 5\",\"University 50\",\"University 52\",\"University 53\",\"University 55\",\"University 57\",\"University 58\",\"University 59\",\"University 6\",\"University 60\",\"University 61\",\"University 63\",\"University 64\",\"University 65\",\"University 66\",\"University 67\",\"University 68\",\"University 7\",\"University 70\",\"University 71\",\"University 73\",\"University 74\",\"University 75\",\"University 76\",\"University 78\",\"University 79\",\"University 8\",\"University 81\",\"University 82\",\"University 83\",\"University 84\",\"University 85\",\"University 86\",\"University 89\",\"University 9\",\"University 90\",\"University 91\",\"University 92\",\"University 93\",\"University 94\",\"University 95\",\"University 96\",\"University 97\",\"University 98\",\"University 99\"],\"tags\":[[[\"Customers\",\"Customers\",null]]]},\"id\":\"1005\",\"type\":\"FactorRange\"},{\"attributes\":{\"line_alpha\":0.1,\"line_color\":\"#1f77b3\",\"line_width\":2,\"x\":{\"field\":\"Customers\"},\"y\":{\"field\":\"Invoice Amount\"}},\"id\":\"1041\",\"type\":\"Line\"},{\"attributes\":{},\"id\":\"1018\",\"type\":\"CategoricalTicker\"},{\"attributes\":{},\"id\":\"1015\",\"type\":\"LinearScale\"},{\"attributes\":{\"align\":null,\"below\":[{\"id\":\"1017\"}],\"center\":[{\"id\":\"1019\"},{\"id\":\"1023\"}],\"left\":[{\"id\":\"1020\"}],\"margin\":null,\"min_border_bottom\":10,\"min_border_left\":10,\"min_border_right\":10,\"min_border_top\":10,\"plot_height\":300,\"renderers\":[{\"id\":\"1043\"}],\"sizing_mode\":\"fixed\",\"title\":{\"id\":\"1009\"},\"toolbar\":{\"id\":\"1030\"},\"x_range\":{\"id\":\"1005\"},\"x_scale\":{\"id\":\"1013\"},\"y_range\":{\"id\":\"1006\"},\"y_scale\":{\"id\":\"1015\"}},\"id\":\"1008\",\"subtype\":\"Figure\",\"type\":\"Plot\"},{\"attributes\":{},\"id\":\"1024\",\"type\":\"SaveTool\"},{\"attributes\":{\"axis_label\":\"Customers\",\"bounds\":\"auto\",\"formatter\":{\"id\":\"1046\"},\"major_label_orientation\":\"horizontal\",\"ticker\":{\"id\":\"1018\"}},\"id\":\"1017\",\"type\":\"CategoricalAxis\"},{\"attributes\":{\"source\":{\"id\":\"1037\"}},\"id\":\"1044\",\"type\":\"CDSView\"},{\"attributes\":{\"axis\":{\"id\":\"1017\"},\"grid_line_color\":null,\"ticker\":null},\"id\":\"1019\",\"type\":\"Grid\"},{\"attributes\":{\"text\":\"Subscription: 1 Year\",\"text_color\":{\"value\":\"black\"},\"text_font_size\":{\"value\":\"12pt\"}},\"id\":\"1009\",\"type\":\"Title\"},{\"attributes\":{\"axis_label\":\"Invoice Amount\",\"bounds\":\"auto\",\"formatter\":{\"id\":\"1045\"},\"major_label_orientation\":\"horizontal\",\"ticker\":{\"id\":\"1021\"}},\"id\":\"1020\",\"type\":\"LinearAxis\"},{\"attributes\":{\"margin\":[5,5,5,5],\"name\":\"VSpacer01549\",\"sizing_mode\":\"stretch_height\"},\"id\":\"1068\",\"type\":\"Spacer\"},{\"attributes\":{\"children\":[{\"id\":\"1065\"},{\"id\":\"1066\"},{\"id\":\"1068\"}],\"margin\":[0,0,0,0],\"name\":\"Column01550\"},\"id\":\"1064\",\"type\":\"Column\"},{\"attributes\":{\"line_alpha\":0.2,\"line_color\":\"#1f77b3\",\"line_width\":2,\"x\":{\"field\":\"Customers\"},\"y\":{\"field\":\"Invoice Amount\"}},\"id\":\"1042\",\"type\":\"Line\"},{\"attributes\":{},\"id\":\"1013\",\"type\":\"CategoricalScale\"},{\"attributes\":{\"margin\":[5,5,5,5],\"name\":\"HSpacer01551\",\"sizing_mode\":\"stretch_width\"},\"id\":\"1004\",\"type\":\"Spacer\"},{\"attributes\":{\"client_comm_id\":\"a9b9486e83bd409daf24d499c013f8db\",\"comm_id\":\"287019b097d142cabd5575fe991a267b\",\"plot_id\":\"1003\"},\"id\":\"1090\",\"type\":\"panel.models.comm_manager.CommManager\"},{\"attributes\":{\"margin\":[20,20,20,20],\"min_width\":250,\"options\":[\"1 Year\",\"18 mo\",\"2 Years\",\"3 Months\",\"3 Years\",\"30 Days\",\"5 Months\",\"6 Months\"],\"title\":\"Subscription\",\"value\":\"1 Year\",\"width\":250},\"id\":\"1067\",\"type\":\"Select\"},{\"attributes\":{\"end\":76425.0,\"reset_end\":76425.0,\"reset_start\":-6675.0,\"start\":-6675.0,\"tags\":[[[\"Invoice Amount\",\"Invoice Amount\",null]]]},\"id\":\"1006\",\"type\":\"Range1d\"},{\"attributes\":{\"format\":\"%0f\"},\"id\":\"1045\",\"type\":\"PrintfTickFormatter\"},{\"attributes\":{},\"id\":\"1025\",\"type\":\"PanTool\"},{\"attributes\":{},\"id\":\"1028\",\"type\":\"ResetTool\"}],\"root_ids\":[\"1003\",\"1090\"]},\"title\":\"Bokeh Application\",\"version\":\"2.0.2\"}};\n",
       "  var render_items = [{\"docid\":\"8e0af2fb-9e02-4c76-8cbf-da8b560533ac\",\"root_ids\":[\"1003\"],\"roots\":{\"1003\":\"3dfb4628-089d-4ef3-9b00-ba869843beac\"}}];\n",
       "  root.Bokeh.embed.embed_items_notebook(docs_json, render_items);\n",
       "  }\n",
       "if (root.Bokeh !== undefined) {\n",
       "    embed_document(root);\n",
       "  } else {\n",
       "    var attempts = 0;\n",
       "    var timer = setInterval(function(root) {\n",
       "      if (root.Bokeh !== undefined) {\n",
       "        clearInterval(timer);\n",
       "        embed_document(root);\n",
       "      } else if (document.readyState == \"complete\") {\n",
       "        attempts++;\n",
       "        if (attempts > 100) {\n",
       "          clearInterval(timer);\n",
       "          console.log(\"Bokeh: ERROR: Unable to run BokehJS code because BokehJS library is missing\");\n",
       "        }\n",
       "      }\n",
       "    }, 10, root)\n",
       "  }\n",
       "})(window);</script>"
      ],
      "text/plain": [
       ":DynamicMap   [Subscription]\n",
       "   :Curve   [Customers]   (Invoice Amount)"
      ]
     },
     "execution_count": 20,
     "metadata": {
      "application/vnd.holoviews_exec.v0+json": {
       "id": "1003"
      }
     },
     "output_type": "execute_result"
    }
   ],
   "source": [
    "# Use hvplot to create an interactive line chart of the average price per sq ft.\n",
    "# The plot should have a dropdown selector for the neighborhood\n",
    "\n",
    "avg_price_mean = avg_price_df\n",
    "\n",
    "sfo_grouped_month_and_02_Anonymized_plot = avg_price_mean.hvplot.line(\n",
    "    x='Customers',\n",
    "    y='Invoice Amount',\n",
    "    xlabel= 'Customers',\n",
    "    ylabel='Invoice Amount',\n",
    "    groupby='Subscription',\n",
    "    width=600\n",
    ").opts(yformatter='%0f')\n",
    "\n",
    "sfo_grouped_month_and_02_Anonymized_plot"
   ]
  },
  {
   "cell_type": "code",
   "execution_count": null,
   "metadata": {},
   "outputs": [],
   "source": []
  },
  {
   "cell_type": "code",
   "execution_count": null,
   "metadata": {},
   "outputs": [],
   "source": []
  }
 ],
 "metadata": {
  "kernelspec": {
   "display_name": "Python [conda env:pyvizenv] *",
   "language": "python",
   "name": "conda-env-pyvizenv-py"
  },
  "language_info": {
   "codemirror_mode": {
    "name": "ipython",
    "version": 3
   },
   "file_extension": ".py",
   "mimetype": "text/x-python",
   "name": "python",
   "nbconvert_exporter": "python",
   "pygments_lexer": "ipython3",
   "version": "3.8.3"
  }
 },
 "nbformat": 4,
 "nbformat_minor": 4
}
