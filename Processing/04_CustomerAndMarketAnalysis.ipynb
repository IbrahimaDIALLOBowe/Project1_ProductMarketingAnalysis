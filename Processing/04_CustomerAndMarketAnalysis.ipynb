{
 "cells": [
  {
   "cell_type": "code",
   "execution_count": 6,
   "metadata": {},
   "outputs": [],
   "source": [
    "# System imports\n",
    "import os\n",
    "import pandas as pd\n",
    "import matplotlib.pyplot as plt\n",
    "import plotly.express as px\n",
    "import hvplot.pandas\n",
    "import panel as pn\n",
    "from pathlib import Path\n",
    "from dotenv import load_dotenv\n",
    "from panel.interact import interact\n",
    "from panel import widgets\n",
    "from string import digits\n",
    "import csv\n",
    "import json\n",
    "import numpy as np\n",
    "import dateparser\n",
    "import panel as pn\n",
    "\n",
    "pn.extension()\n",
    "\n",
    "%matplotlib inline"
   ]
  },
  {
   "cell_type": "code",
   "execution_count": 7,
   "metadata": {},
   "outputs": [],
   "source": [
    "# Local imports\n",
    "import sys\n",
    "sys.path.append(\"../lib2\")\n",
    "\n",
    "from Constants import Constants\n",
    "from ProcessingTools import DateProcessingTools"
   ]
  },
  {
   "cell_type": "code",
   "execution_count": 8,
   "metadata": {},
   "outputs": [],
   "source": [
    "# Construct the tools\n",
    "debug_level = 0\n",
    "constants = Constants()\n",
    "tool_data_processing = DateProcessingTools(debug_level)\n"
   ]
  },
  {
   "cell_type": "code",
   "execution_count": 9,
   "metadata": {},
   "outputs": [],
   "source": [
    "# Import all preprocessed data\n",
    "atlas           = pd.read_pickle(constants.PREPROCESSED_ATLAS_FILE_PATH)\n",
    "forecast        = pd.read_pickle(constants.PREPROCESSED_FORECAST_DATA_FILE_PATH)\n",
    "revenue2020     = pd.read_pickle(constants.PREPROCESSED_REVENUE2020_FILE_PATH)\n",
    "revenue2020A    = pd.read_pickle(constants.PREPROCESSED_REVENUE2020A_FILE_PATH)\n",
    "atlas2          = pd.read_pickle(constants.PREPROCESSED_ATLAS_2_FILE_PATH)\n"
   ]
  },
  {
   "cell_type": "code",
   "execution_count": 15,
   "metadata": {},
   "outputs": [],
   "source": [
    "load_dotenv()\n",
    "mapbox_token = os.getenv(\"MAPBOX_API_KEY\")"
   ]
  },
  {
   "cell_type": "code",
   "execution_count": 16,
   "metadata": {},
   "outputs": [
    {
     "data": {
      "text/html": [
       "<div>\n",
       "<style scoped>\n",
       "    .dataframe tbody tr th:only-of-type {\n",
       "        vertical-align: middle;\n",
       "    }\n",
       "\n",
       "    .dataframe tbody tr th {\n",
       "        vertical-align: top;\n",
       "    }\n",
       "\n",
       "    .dataframe thead th {\n",
       "        text-align: right;\n",
       "    }\n",
       "</style>\n",
       "<table border=\"1\" class=\"dataframe\">\n",
       "  <thead>\n",
       "    <tr style=\"text-align: right;\">\n",
       "      <th></th>\n",
       "      <th>Number of Users</th>\n",
       "      <th>Invoice Date</th>\n",
       "      <th>Invoice #</th>\n",
       "      <th>Invoice Amount</th>\n",
       "      <th>Subscription</th>\n",
       "      <th>Account Code</th>\n",
       "      <th>Address</th>\n",
       "      <th>Lat</th>\n",
       "      <th>Long</th>\n",
       "      <th>Service Start</th>\n",
       "      <th>Service End</th>\n",
       "      <th>Subscription Duration</th>\n",
       "    </tr>\n",
       "    <tr>\n",
       "      <th>Customers</th>\n",
       "      <th></th>\n",
       "      <th></th>\n",
       "      <th></th>\n",
       "      <th></th>\n",
       "      <th></th>\n",
       "      <th></th>\n",
       "      <th></th>\n",
       "      <th></th>\n",
       "      <th></th>\n",
       "      <th></th>\n",
       "      <th></th>\n",
       "      <th></th>\n",
       "    </tr>\n",
       "  </thead>\n",
       "  <tbody>\n",
       "    <tr>\n",
       "      <th>University 1</th>\n",
       "      <td>NaN</td>\n",
       "      <td>2015-03-20 00:00:00-04:00</td>\n",
       "      <td>ATLAS 315</td>\n",
       "      <td>72000.0</td>\n",
       "      <td>1 Year</td>\n",
       "      <td>4700-0-00-00000-18-0000</td>\n",
       "      <td>1201 N 3rd St #6, Baton Rouge, LA 70802</td>\n",
       "      <td>30.460190</td>\n",
       "      <td>-91.188530</td>\n",
       "      <td>2015-03-18 00:00:00-04:00</td>\n",
       "      <td>2016-06-30 00:00:00-04:00</td>\n",
       "      <td>365 days</td>\n",
       "    </tr>\n",
       "    <tr>\n",
       "      <th>University 2</th>\n",
       "      <td>250.0</td>\n",
       "      <td>2015-05-28 00:00:00-04:00</td>\n",
       "      <td>AJ501</td>\n",
       "      <td>3500.0</td>\n",
       "      <td>1 Year</td>\n",
       "      <td>4700-0-00-00000-16-0000</td>\n",
       "      <td>1 Kellogg Cir, Emporia, KS 66801</td>\n",
       "      <td>38.392609</td>\n",
       "      <td>-96.181396</td>\n",
       "      <td>2015-06-01 00:00:00-04:00</td>\n",
       "      <td>2016-06-30 00:00:00-04:00</td>\n",
       "      <td>365 days</td>\n",
       "    </tr>\n",
       "    <tr>\n",
       "      <th>University 3</th>\n",
       "      <td>100.0</td>\n",
       "      <td>2015-06-23 00:00:00-04:00</td>\n",
       "      <td>AJ502</td>\n",
       "      <td>3500.0</td>\n",
       "      <td>1 Year</td>\n",
       "      <td>4700-0-00-00000-17-0000</td>\n",
       "      <td>150 University Blvd, Morehead, KY 40351</td>\n",
       "      <td>38.184921</td>\n",
       "      <td>-83.434441</td>\n",
       "      <td>2015-06-10 00:00:00-04:00</td>\n",
       "      <td>2016-06-30 00:00:00-04:00</td>\n",
       "      <td>365 days</td>\n",
       "    </tr>\n",
       "    <tr>\n",
       "      <th>University 4</th>\n",
       "      <td>NaN</td>\n",
       "      <td>2015-06-26 00:00:00-04:00</td>\n",
       "      <td>AJ503</td>\n",
       "      <td>6500.0</td>\n",
       "      <td>1 Year</td>\n",
       "      <td>4700-0-00-00000-32-0000</td>\n",
       "      <td>44 Pierrepont Ave, Potsdam, NY 13676</td>\n",
       "      <td>44.663780</td>\n",
       "      <td>-74.978409</td>\n",
       "      <td>2015-06-01 00:00:00-04:00</td>\n",
       "      <td>2016-06-30 00:00:00-04:00</td>\n",
       "      <td>365 days</td>\n",
       "    </tr>\n",
       "    <tr>\n",
       "      <th>University 5</th>\n",
       "      <td>NaN</td>\n",
       "      <td>2015-10-07 00:00:00-04:00</td>\n",
       "      <td>AJ504</td>\n",
       "      <td>750.0</td>\n",
       "      <td>1 Year</td>\n",
       "      <td>4700-0-00-00000-20-0000</td>\n",
       "      <td>47645 College Dr, St Marys City, MD 20686</td>\n",
       "      <td>38.190601</td>\n",
       "      <td>-76.426300</td>\n",
       "      <td>2015-10-05 00:00:00-04:00</td>\n",
       "      <td>2016-09-30 00:00:00-04:00</td>\n",
       "      <td>365 days</td>\n",
       "    </tr>\n",
       "  </tbody>\n",
       "</table>\n",
       "</div>"
      ],
      "text/plain": [
       "              Number of Users              Invoice Date  Invoice #  \\\n",
       "Customers                                                            \n",
       "University 1              NaN 2015-03-20 00:00:00-04:00  ATLAS 315   \n",
       "University 2            250.0 2015-05-28 00:00:00-04:00      AJ501   \n",
       "University 3            100.0 2015-06-23 00:00:00-04:00      AJ502   \n",
       "University 4              NaN 2015-06-26 00:00:00-04:00      AJ503   \n",
       "University 5              NaN 2015-10-07 00:00:00-04:00      AJ504   \n",
       "\n",
       "              Invoice Amount Subscription            Account Code   \\\n",
       "Customers                                                            \n",
       "University 1         72000.0       1 Year  4700-0-00-00000-18-0000   \n",
       "University 2          3500.0       1 Year  4700-0-00-00000-16-0000   \n",
       "University 3          3500.0       1 Year  4700-0-00-00000-17-0000   \n",
       "University 4          6500.0       1 Year  4700-0-00-00000-32-0000   \n",
       "University 5           750.0       1 Year  4700-0-00-00000-20-0000   \n",
       "\n",
       "                                                Address        Lat       Long  \\\n",
       "Customers                                                                       \n",
       "University 1    1201 N 3rd St #6, Baton Rouge, LA 70802  30.460190 -91.188530   \n",
       "University 2           1 Kellogg Cir, Emporia, KS 66801  38.392609 -96.181396   \n",
       "University 3    150 University Blvd, Morehead, KY 40351  38.184921 -83.434441   \n",
       "University 4       44 Pierrepont Ave, Potsdam, NY 13676  44.663780 -74.978409   \n",
       "University 5  47645 College Dr, St Marys City, MD 20686  38.190601 -76.426300   \n",
       "\n",
       "                         Service Start               Service End  \\\n",
       "Customers                                                          \n",
       "University 1 2015-03-18 00:00:00-04:00 2016-06-30 00:00:00-04:00   \n",
       "University 2 2015-06-01 00:00:00-04:00 2016-06-30 00:00:00-04:00   \n",
       "University 3 2015-06-10 00:00:00-04:00 2016-06-30 00:00:00-04:00   \n",
       "University 4 2015-06-01 00:00:00-04:00 2016-06-30 00:00:00-04:00   \n",
       "University 5 2015-10-05 00:00:00-04:00 2016-09-30 00:00:00-04:00   \n",
       "\n",
       "             Subscription Duration  \n",
       "Customers                           \n",
       "University 1              365 days  \n",
       "University 2              365 days  \n",
       "University 3              365 days  \n",
       "University 4              365 days  \n",
       "University 5              365 days  "
      ]
     },
     "execution_count": 16,
     "metadata": {},
     "output_type": "execute_result"
    }
   ],
   "source": [
    "atlas2.head()"
   ]
  },
  {
   "cell_type": "code",
   "execution_count": 25,
   "metadata": {},
   "outputs": [
    {
     "data": {
      "text/html": [
       "<div>\n",
       "<style scoped>\n",
       "    .dataframe tbody tr th:only-of-type {\n",
       "        vertical-align: middle;\n",
       "    }\n",
       "\n",
       "    .dataframe tbody tr th {\n",
       "        vertical-align: top;\n",
       "    }\n",
       "\n",
       "    .dataframe thead th {\n",
       "        text-align: right;\n",
       "    }\n",
       "</style>\n",
       "<table border=\"1\" class=\"dataframe\">\n",
       "  <thead>\n",
       "    <tr style=\"text-align: right;\">\n",
       "      <th></th>\n",
       "      <th>Customers</th>\n",
       "      <th>Number of Users</th>\n",
       "      <th>Invoice Amount</th>\n",
       "      <th>Lat</th>\n",
       "      <th>Long</th>\n",
       "    </tr>\n",
       "  </thead>\n",
       "  <tbody>\n",
       "    <tr>\n",
       "      <th>1</th>\n",
       "      <td>University 10</td>\n",
       "      <td>116.666667</td>\n",
       "      <td>2240.002000</td>\n",
       "      <td>39.732210</td>\n",
       "      <td>-90.246947</td>\n",
       "    </tr>\n",
       "    <tr>\n",
       "      <th>5</th>\n",
       "      <td>University 103</td>\n",
       "      <td>100.000000</td>\n",
       "      <td>750.000000</td>\n",
       "      <td>45.408173</td>\n",
       "      <td>-122.922323</td>\n",
       "    </tr>\n",
       "    <tr>\n",
       "      <th>6</th>\n",
       "      <td>University 104</td>\n",
       "      <td>25.000000</td>\n",
       "      <td>5775.000000</td>\n",
       "      <td>45.521516</td>\n",
       "      <td>-122.984856</td>\n",
       "    </tr>\n",
       "    <tr>\n",
       "      <th>7</th>\n",
       "      <td>University 105</td>\n",
       "      <td>250.000000</td>\n",
       "      <td>1900.000000</td>\n",
       "      <td>28.062000</td>\n",
       "      <td>-82.413225</td>\n",
       "    </tr>\n",
       "    <tr>\n",
       "      <th>8</th>\n",
       "      <td>University 106</td>\n",
       "      <td>25.000000</td>\n",
       "      <td>500.000000</td>\n",
       "      <td>44.119155</td>\n",
       "      <td>-104.133391</td>\n",
       "    </tr>\n",
       "    <tr>\n",
       "      <th>...</th>\n",
       "      <td>...</td>\n",
       "      <td>...</td>\n",
       "      <td>...</td>\n",
       "      <td>...</td>\n",
       "      <td>...</td>\n",
       "    </tr>\n",
       "    <tr>\n",
       "      <th>418</th>\n",
       "      <td>University 93</td>\n",
       "      <td>250.000000</td>\n",
       "      <td>3500.000000</td>\n",
       "      <td>45.408173</td>\n",
       "      <td>-122.922323</td>\n",
       "    </tr>\n",
       "    <tr>\n",
       "      <th>419</th>\n",
       "      <td>University 94</td>\n",
       "      <td>50.000000</td>\n",
       "      <td>1250.000000</td>\n",
       "      <td>36.300110</td>\n",
       "      <td>-82.294030</td>\n",
       "    </tr>\n",
       "    <tr>\n",
       "      <th>420</th>\n",
       "      <td>University 95</td>\n",
       "      <td>17.500000</td>\n",
       "      <td>333.333333</td>\n",
       "      <td>33.959580</td>\n",
       "      <td>-102.350749</td>\n",
       "    </tr>\n",
       "    <tr>\n",
       "      <th>421</th>\n",
       "      <td>University 96</td>\n",
       "      <td>25.000000</td>\n",
       "      <td>2750.000000</td>\n",
       "      <td>45.507856</td>\n",
       "      <td>-122.690794</td>\n",
       "    </tr>\n",
       "    <tr>\n",
       "      <th>422</th>\n",
       "      <td>University 97</td>\n",
       "      <td>341.666667</td>\n",
       "      <td>2610.714286</td>\n",
       "      <td>27.926018</td>\n",
       "      <td>-82.487126</td>\n",
       "    </tr>\n",
       "  </tbody>\n",
       "</table>\n",
       "<p>314 rows × 5 columns</p>\n",
       "</div>"
      ],
      "text/plain": [
       "          Customers  Number of Users  Invoice Amount        Lat        Long\n",
       "1     University 10       116.666667     2240.002000  39.732210  -90.246947\n",
       "5    University 103       100.000000      750.000000  45.408173 -122.922323\n",
       "6    University 104        25.000000     5775.000000  45.521516 -122.984856\n",
       "7    University 105       250.000000     1900.000000  28.062000  -82.413225\n",
       "8    University 106        25.000000      500.000000  44.119155 -104.133391\n",
       "..              ...              ...             ...        ...         ...\n",
       "418   University 93       250.000000     3500.000000  45.408173 -122.922323\n",
       "419   University 94        50.000000     1250.000000  36.300110  -82.294030\n",
       "420   University 95        17.500000      333.333333  33.959580 -102.350749\n",
       "421   University 96        25.000000     2750.000000  45.507856 -122.690794\n",
       "422   University 97       341.666667     2610.714286  27.926018  -82.487126\n",
       "\n",
       "[314 rows x 5 columns]"
      ]
     },
     "execution_count": 25,
     "metadata": {},
     "output_type": "execute_result"
    }
   ],
   "source": [
    "# Calculate the mean values for each neighborhood\n",
    "#rankings_pd.rename(columns = {'test':'TEST', 'odi':'ODI', \n",
    "#                              't20':'T20'}, inplace = True) \n",
    "\n",
    "#atlas2.columns = [\"Customers\", \"Lat\", \"Long\"]\n",
    "\n",
    "mean_data = atlas2.groupby([\"Customers\"]).mean()\n",
    "mean_data.reset_index(inplace=True)\n",
    "mean_data.dropna(inplace=True)\n",
    "mean_data\n"
   ]
  },
  {
   "cell_type": "code",
   "execution_count": 26,
   "metadata": {},
   "outputs": [
    {
     "data": {
      "application/vnd.plotly.v1+json": {
       "config": {
        "plotlyServerURL": "https://plot.ly"
       },
       "data": [
        {
         "hovertemplate": "Customers=University 10<br>Invoice Amount=%{marker.size}<br>Lat=%{lat}<br>Long=%{lon}<extra></extra>",
         "lat": [
          39.73221
         ],
         "legendgroup": "University 10",
         "lon": [
          -90.24694700000002
         ],
         "marker": {
          "color": "#636efa",
          "size": [
           2240.002
          ],
          "sizemode": "area",
          "sizeref": 65.625
         },
         "mode": "markers",
         "name": "University 10",
         "showlegend": true,
         "subplot": "mapbox",
         "type": "scattermapbox"
        },
        {
         "hovertemplate": "Customers=University 103<br>Invoice Amount=%{marker.size}<br>Lat=%{lat}<br>Long=%{lon}<extra></extra>",
         "lat": [
          45.408173
         ],
         "legendgroup": "University 103",
         "lon": [
          -122.922323
         ],
         "marker": {
          "color": "#EF553B",
          "size": [
           750
          ],
          "sizemode": "area",
          "sizeref": 65.625
         },
         "mode": "markers",
         "name": "University 103",
         "showlegend": true,
         "subplot": "mapbox",
         "type": "scattermapbox"
        },
        {
         "hovertemplate": "Customers=University 104<br>Invoice Amount=%{marker.size}<br>Lat=%{lat}<br>Long=%{lon}<extra></extra>",
         "lat": [
          45.521516
         ],
         "legendgroup": "University 104",
         "lon": [
          -122.984856
         ],
         "marker": {
          "color": "#00cc96",
          "size": [
           5775
          ],
          "sizemode": "area",
          "sizeref": 65.625
         },
         "mode": "markers",
         "name": "University 104",
         "showlegend": true,
         "subplot": "mapbox",
         "type": "scattermapbox"
        },
        {
         "hovertemplate": "Customers=University 105<br>Invoice Amount=%{marker.size}<br>Lat=%{lat}<br>Long=%{lon}<extra></extra>",
         "lat": [
          28.062
         ],
         "legendgroup": "University 105",
         "lon": [
          -82.413225
         ],
         "marker": {
          "color": "#ab63fa",
          "size": [
           1900
          ],
          "sizemode": "area",
          "sizeref": 65.625
         },
         "mode": "markers",
         "name": "University 105",
         "showlegend": true,
         "subplot": "mapbox",
         "type": "scattermapbox"
        },
        {
         "hovertemplate": "Customers=University 106<br>Invoice Amount=%{marker.size}<br>Lat=%{lat}<br>Long=%{lon}<extra></extra>",
         "lat": [
          44.119155
         ],
         "legendgroup": "University 106",
         "lon": [
          -104.133391
         ],
         "marker": {
          "color": "#FFA15A",
          "size": [
           500
          ],
          "sizemode": "area",
          "sizeref": 65.625
         },
         "mode": "markers",
         "name": "University 106",
         "showlegend": true,
         "subplot": "mapbox",
         "type": "scattermapbox"
        },
        {
         "hovertemplate": "Customers=University 108<br>Invoice Amount=%{marker.size}<br>Lat=%{lat}<br>Long=%{lon}<extra></extra>",
         "lat": [
          34.434684000000004
         ],
         "legendgroup": "University 108",
         "lon": [
          -106.131618
         ],
         "marker": {
          "color": "#19d3f3",
          "size": [
           1450
          ],
          "sizemode": "area",
          "sizeref": 65.625
         },
         "mode": "markers",
         "name": "University 108",
         "showlegend": true,
         "subplot": "mapbox",
         "type": "scattermapbox"
        },
        {
         "hovertemplate": "Customers=University 11<br>Invoice Amount=%{marker.size}<br>Lat=%{lat}<br>Long=%{lon}<extra></extra>",
         "lat": [
          37.986014
         ],
         "legendgroup": "University 11",
         "lon": [
          -84.396001
         ],
         "marker": {
          "color": "#FF6692",
          "size": [
           3500
          ],
          "sizemode": "area",
          "sizeref": 65.625
         },
         "mode": "markers",
         "name": "University 11",
         "showlegend": true,
         "subplot": "mapbox",
         "type": "scattermapbox"
        },
        {
         "hovertemplate": "Customers=University 110<br>Invoice Amount=%{marker.size}<br>Lat=%{lat}<br>Long=%{lon}<extra></extra>",
         "lat": [
          28.062
         ],
         "legendgroup": "University 110",
         "lon": [
          -82.413225
         ],
         "marker": {
          "color": "#B6E880",
          "size": [
           2266.6666666666665
          ],
          "sizemode": "area",
          "sizeref": 65.625
         },
         "mode": "markers",
         "name": "University 110",
         "showlegend": true,
         "subplot": "mapbox",
         "type": "scattermapbox"
        },
        {
         "hovertemplate": "Customers=University 111<br>Invoice Amount=%{marker.size}<br>Lat=%{lat}<br>Long=%{lon}<extra></extra>",
         "lat": [
          35.841039
         ],
         "legendgroup": "University 111",
         "lon": [
          -90.675602
         ],
         "marker": {
          "color": "#FF97FF",
          "size": [
           2540
          ],
          "sizemode": "area",
          "sizeref": 65.625
         },
         "mode": "markers",
         "name": "University 111",
         "showlegend": true,
         "subplot": "mapbox",
         "type": "scattermapbox"
        },
        {
         "hovertemplate": "Customers=University 118<br>Invoice Amount=%{marker.size}<br>Lat=%{lat}<br>Long=%{lon}<extra></extra>",
         "lat": [
          45.408173
         ],
         "legendgroup": "University 118",
         "lon": [
          -122.922323
         ],
         "marker": {
          "color": "#FECB52",
          "size": [
           6300
          ],
          "sizemode": "area",
          "sizeref": 65.625
         },
         "mode": "markers",
         "name": "University 118",
         "showlegend": true,
         "subplot": "mapbox",
         "type": "scattermapbox"
        },
        {
         "hovertemplate": "Customers=University 124<br>Invoice Amount=%{marker.size}<br>Lat=%{lat}<br>Long=%{lon}<extra></extra>",
         "lat": [
          39.622129
         ],
         "legendgroup": "University 124",
         "lon": [
          -87.454769
         ],
         "marker": {
          "color": "#636efa",
          "size": [
           5500
          ],
          "sizemode": "area",
          "sizeref": 65.625
         },
         "mode": "markers",
         "name": "University 124",
         "showlegend": true,
         "subplot": "mapbox",
         "type": "scattermapbox"
        },
        {
         "hovertemplate": "Customers=University 125<br>Invoice Amount=%{marker.size}<br>Lat=%{lat}<br>Long=%{lon}<extra></extra>",
         "lat": [
          28.062
         ],
         "legendgroup": "University 125",
         "lon": [
          -82.413225
         ],
         "marker": {
          "color": "#EF553B",
          "size": [
           2700
          ],
          "sizemode": "area",
          "sizeref": 65.625
         },
         "mode": "markers",
         "name": "University 125",
         "showlegend": true,
         "subplot": "mapbox",
         "type": "scattermapbox"
        },
        {
         "hovertemplate": "Customers=University 127<br>Invoice Amount=%{marker.size}<br>Lat=%{lat}<br>Long=%{lon}<extra></extra>",
         "lat": [
          47.26455000000001
         ],
         "legendgroup": "University 127",
         "lon": [
          -122.25012
         ],
         "marker": {
          "color": "#00cc96",
          "size": [
           2083.3333333333335
          ],
          "sizemode": "area",
          "sizeref": 65.625
         },
         "mode": "markers",
         "name": "University 127",
         "showlegend": true,
         "subplot": "mapbox",
         "type": "scattermapbox"
        },
        {
         "hovertemplate": "Customers=University 13<br>Invoice Amount=%{marker.size}<br>Lat=%{lat}<br>Long=%{lon}<extra></extra>",
         "lat": [
          30.026704571428574
         ],
         "legendgroup": "University 13",
         "lon": [
          -82.01798128571428
         ],
         "marker": {
          "color": "#ab63fa",
          "size": [
           866.0714285714286
          ],
          "sizemode": "area",
          "sizeref": 65.625
         },
         "mode": "markers",
         "name": "University 13",
         "showlegend": true,
         "subplot": "mapbox",
         "type": "scattermapbox"
        },
        {
         "hovertemplate": "Customers=University 130<br>Invoice Amount=%{marker.size}<br>Lat=%{lat}<br>Long=%{lon}<extra></extra>",
         "lat": [
          33.657531
         ],
         "legendgroup": "University 130",
         "lon": [
          -117.81266799999999
         ],
         "marker": {
          "color": "#FFA15A",
          "size": [
           1500
          ],
          "sizemode": "area",
          "sizeref": 65.625
         },
         "mode": "markers",
         "name": "University 130",
         "showlegend": true,
         "subplot": "mapbox",
         "type": "scattermapbox"
        },
        {
         "hovertemplate": "Customers=University 131<br>Invoice Amount=%{marker.size}<br>Lat=%{lat}<br>Long=%{lon}<extra></extra>",
         "lat": [
          30.70327
         ],
         "legendgroup": "University 131",
         "lon": [
          -83.02764
         ],
         "marker": {
          "color": "#19d3f3",
          "size": [
           1900
          ],
          "sizemode": "area",
          "sizeref": 65.625
         },
         "mode": "markers",
         "name": "University 131",
         "showlegend": true,
         "subplot": "mapbox",
         "type": "scattermapbox"
        },
        {
         "hovertemplate": "Customers=University 137<br>Invoice Amount=%{marker.size}<br>Lat=%{lat}<br>Long=%{lon}<extra></extra>",
         "lat": [
          45.408173
         ],
         "legendgroup": "University 137",
         "lon": [
          -122.922323
         ],
         "marker": {
          "color": "#FF6692",
          "size": [
           1000
          ],
          "sizemode": "area",
          "sizeref": 65.625
         },
         "mode": "markers",
         "name": "University 137",
         "showlegend": true,
         "subplot": "mapbox",
         "type": "scattermapbox"
        },
        {
         "hovertemplate": "Customers=University 139<br>Invoice Amount=%{marker.size}<br>Lat=%{lat}<br>Long=%{lon}<extra></extra>",
         "lat": [
          28.062
         ],
         "legendgroup": "University 139",
         "lon": [
          -82.413225
         ],
         "marker": {
          "color": "#B6E880",
          "size": [
           6025
          ],
          "sizemode": "area",
          "sizeref": 65.625
         },
         "mode": "markers",
         "name": "University 139",
         "showlegend": true,
         "subplot": "mapbox",
         "type": "scattermapbox"
        },
        {
         "hovertemplate": "Customers=University 141<br>Invoice Amount=%{marker.size}<br>Lat=%{lat}<br>Long=%{lon}<extra></extra>",
         "lat": [
          35.841039
         ],
         "legendgroup": "University 141",
         "lon": [
          -90.67560199999998
         ],
         "marker": {
          "color": "#FF97FF",
          "size": [
           2125
          ],
          "sizemode": "area",
          "sizeref": 65.625
         },
         "mode": "markers",
         "name": "University 141",
         "showlegend": true,
         "subplot": "mapbox",
         "type": "scattermapbox"
        },
        {
         "hovertemplate": "Customers=University 142<br>Invoice Amount=%{marker.size}<br>Lat=%{lat}<br>Long=%{lon}<extra></extra>",
         "lat": [
          30.70327
         ],
         "legendgroup": "University 142",
         "lon": [
          -83.02764
         ],
         "marker": {
          "color": "#FECB52",
          "size": [
           7350
          ],
          "sizemode": "area",
          "sizeref": 65.625
         },
         "mode": "markers",
         "name": "University 142",
         "showlegend": true,
         "subplot": "mapbox",
         "type": "scattermapbox"
        },
        {
         "hovertemplate": "Customers=University 144<br>Invoice Amount=%{marker.size}<br>Lat=%{lat}<br>Long=%{lon}<extra></extra>",
         "lat": [
          34.12708
         ],
         "legendgroup": "University 144",
         "lon": [
          -93.056583
         ],
         "marker": {
          "color": "#636efa",
          "size": [
           1000
          ],
          "sizemode": "area",
          "sizeref": 65.625
         },
         "mode": "markers",
         "name": "University 144",
         "showlegend": true,
         "subplot": "mapbox",
         "type": "scattermapbox"
        },
        {
         "hovertemplate": "Customers=University 145<br>Invoice Amount=%{marker.size}<br>Lat=%{lat}<br>Long=%{lon}<extra></extra>",
         "lat": [
          28.062
         ],
         "legendgroup": "University 145",
         "lon": [
          -82.413225
         ],
         "marker": {
          "color": "#EF553B",
          "size": [
           8425
          ],
          "sizemode": "area",
          "sizeref": 65.625
         },
         "mode": "markers",
         "name": "University 145",
         "showlegend": true,
         "subplot": "mapbox",
         "type": "scattermapbox"
        },
        {
         "hovertemplate": "Customers=University 147<br>Invoice Amount=%{marker.size}<br>Lat=%{lat}<br>Long=%{lon}<extra></extra>",
         "lat": [
          34.744649
         ],
         "legendgroup": "University 147",
         "lon": [
          -82.797267
         ],
         "marker": {
          "color": "#00cc96",
          "size": [
           2300
          ],
          "sizemode": "area",
          "sizeref": 65.625
         },
         "mode": "markers",
         "name": "University 147",
         "showlegend": true,
         "subplot": "mapbox",
         "type": "scattermapbox"
        },
        {
         "hovertemplate": "Customers=University 15<br>Invoice Amount=%{marker.size}<br>Lat=%{lat}<br>Long=%{lon}<extra></extra>",
         "lat": [
          37.403801
         ],
         "legendgroup": "University 15",
         "lon": [
          -75.910387
         ],
         "marker": {
          "color": "#ab63fa",
          "size": [
           750
          ],
          "sizemode": "area",
          "sizeref": 65.625
         },
         "mode": "markers",
         "name": "University 15",
         "showlegend": true,
         "subplot": "mapbox",
         "type": "scattermapbox"
        },
        {
         "hovertemplate": "Customers=University 151<br>Invoice Amount=%{marker.size}<br>Lat=%{lat}<br>Long=%{lon}<extra></extra>",
         "lat": [
          28.062
         ],
         "legendgroup": "University 151",
         "lon": [
          -82.413225
         ],
         "marker": {
          "color": "#FFA15A",
          "size": [
           1990
          ],
          "sizemode": "area",
          "sizeref": 65.625
         },
         "mode": "markers",
         "name": "University 151",
         "showlegend": true,
         "subplot": "mapbox",
         "type": "scattermapbox"
        },
        {
         "hovertemplate": "Customers=University 152<br>Invoice Amount=%{marker.size}<br>Lat=%{lat}<br>Long=%{lon}<extra></extra>",
         "lat": [
          33.456412
         ],
         "legendgroup": "University 152",
         "lon": [
          -86.80190400000002
         ],
         "marker": {
          "color": "#19d3f3",
          "size": [
           1000
          ],
          "sizemode": "area",
          "sizeref": 65.625
         },
         "mode": "markers",
         "name": "University 152",
         "showlegend": true,
         "subplot": "mapbox",
         "type": "scattermapbox"
        },
        {
         "hovertemplate": "Customers=University 153<br>Invoice Amount=%{marker.size}<br>Lat=%{lat}<br>Long=%{lon}<extra></extra>",
         "lat": [
          28.062
         ],
         "legendgroup": "University 153",
         "lon": [
          -82.413225
         ],
         "marker": {
          "color": "#FF6692",
          "size": [
           2550
          ],
          "sizemode": "area",
          "sizeref": 65.625
         },
         "mode": "markers",
         "name": "University 153",
         "showlegend": true,
         "subplot": "mapbox",
         "type": "scattermapbox"
        },
        {
         "hovertemplate": "Customers=University 154<br>Invoice Amount=%{marker.size}<br>Lat=%{lat}<br>Long=%{lon}<extra></extra>",
         "lat": [
          36.905612
         ],
         "legendgroup": "University 154",
         "lon": [
          -88.35976
         ],
         "marker": {
          "color": "#B6E880",
          "size": [
           439
          ],
          "sizemode": "area",
          "sizeref": 65.625
         },
         "mode": "markers",
         "name": "University 154",
         "showlegend": true,
         "subplot": "mapbox",
         "type": "scattermapbox"
        },
        {
         "hovertemplate": "Customers=University 155<br>Invoice Amount=%{marker.size}<br>Lat=%{lat}<br>Long=%{lon}<extra></extra>",
         "lat": [
          35.841039
         ],
         "legendgroup": "University 155",
         "lon": [
          -90.675602
         ],
         "marker": {
          "color": "#FF97FF",
          "size": [
           1500
          ],
          "sizemode": "area",
          "sizeref": 65.625
         },
         "mode": "markers",
         "name": "University 155",
         "showlegend": true,
         "subplot": "mapbox",
         "type": "scattermapbox"
        },
        {
         "hovertemplate": "Customers=University 157<br>Invoice Amount=%{marker.size}<br>Lat=%{lat}<br>Long=%{lon}<extra></extra>",
         "lat": [
          41.33065
         ],
         "legendgroup": "University 157",
         "lon": [
          -74.18681
         ],
         "marker": {
          "color": "#FECB52",
          "size": [
           2710
          ],
          "sizemode": "area",
          "sizeref": 65.625
         },
         "mode": "markers",
         "name": "University 157",
         "showlegend": true,
         "subplot": "mapbox",
         "type": "scattermapbox"
        },
        {
         "hovertemplate": "Customers=University 158<br>Invoice Amount=%{marker.size}<br>Lat=%{lat}<br>Long=%{lon}<extra></extra>",
         "lat": [
          47.666487
         ],
         "legendgroup": "University 158",
         "lon": [
          -122.309849
         ],
         "marker": {
          "color": "#636efa",
          "size": [
           1023.7149999999999
          ],
          "sizemode": "area",
          "sizeref": 65.625
         },
         "mode": "markers",
         "name": "University 158",
         "showlegend": true,
         "subplot": "mapbox",
         "type": "scattermapbox"
        },
        {
         "hovertemplate": "Customers=University 16<br>Invoice Amount=%{marker.size}<br>Lat=%{lat}<br>Long=%{lon}<extra></extra>",
         "lat": [
          30.380051571428577
         ],
         "legendgroup": "University 16",
         "lon": [
          -82.23166714285715
         ],
         "marker": {
          "color": "#EF553B",
          "size": [
           1125
          ],
          "sizemode": "area",
          "sizeref": 65.625
         },
         "mode": "markers",
         "name": "University 16",
         "showlegend": true,
         "subplot": "mapbox",
         "type": "scattermapbox"
        },
        {
         "hovertemplate": "Customers=University 164<br>Invoice Amount=%{marker.size}<br>Lat=%{lat}<br>Long=%{lon}<extra></extra>",
         "lat": [
          36.34318
         ],
         "legendgroup": "University 164",
         "lon": [
          -88.858988
         ],
         "marker": {
          "color": "#00cc96",
          "size": [
           190.83333333333334
          ],
          "sizemode": "area",
          "sizeref": 65.625
         },
         "mode": "markers",
         "name": "University 164",
         "showlegend": true,
         "subplot": "mapbox",
         "type": "scattermapbox"
        },
        {
         "hovertemplate": "Customers=University 165<br>Invoice Amount=%{marker.size}<br>Lat=%{lat}<br>Long=%{lon}<extra></extra>",
         "lat": [
          45.408173
         ],
         "legendgroup": "University 165",
         "lon": [
          -122.922323
         ],
         "marker": {
          "color": "#ab63fa",
          "size": [
           1650
          ],
          "sizemode": "area",
          "sizeref": 65.625
         },
         "mode": "markers",
         "name": "University 165",
         "showlegend": true,
         "subplot": "mapbox",
         "type": "scattermapbox"
        },
        {
         "hovertemplate": "Customers=University 167<br>Invoice Amount=%{marker.size}<br>Lat=%{lat}<br>Long=%{lon}<extra></extra>",
         "lat": [
          48.049258
         ],
         "legendgroup": "University 167",
         "lon": [
          -122.819336
         ],
         "marker": {
          "color": "#FFA15A",
          "size": [
           500
          ],
          "sizemode": "area",
          "sizeref": 65.625
         },
         "mode": "markers",
         "name": "University 167",
         "showlegend": true,
         "subplot": "mapbox",
         "type": "scattermapbox"
        },
        {
         "hovertemplate": "Customers=University 168<br>Invoice Amount=%{marker.size}<br>Lat=%{lat}<br>Long=%{lon}<extra></extra>",
         "lat": [
          33.640302
         ],
         "legendgroup": "University 168",
         "lon": [
          -117.769442
         ],
         "marker": {
          "color": "#19d3f3",
          "size": [
           1100
          ],
          "sizemode": "area",
          "sizeref": 65.625
         },
         "mode": "markers",
         "name": "University 168",
         "showlegend": true,
         "subplot": "mapbox",
         "type": "scattermapbox"
        },
        {
         "hovertemplate": "Customers=University 169<br>Invoice Amount=%{marker.size}<br>Lat=%{lat}<br>Long=%{lon}<extra></extra>",
         "lat": [
          38.993867
         ],
         "legendgroup": "University 169",
         "lon": [
          -105.508319
         ],
         "marker": {
          "color": "#FF6692",
          "size": [
           600
          ],
          "sizemode": "area",
          "sizeref": 65.625
         },
         "mode": "markers",
         "name": "University 169",
         "showlegend": true,
         "subplot": "mapbox",
         "type": "scattermapbox"
        },
        {
         "hovertemplate": "Customers=University 17<br>Invoice Amount=%{marker.size}<br>Lat=%{lat}<br>Long=%{lon}<extra></extra>",
         "lat": [
          40.065615
         ],
         "legendgroup": "University 17",
         "lon": [
          -79.885932
         ],
         "marker": {
          "color": "#B6E880",
          "size": [
           4725
          ],
          "sizemode": "area",
          "sizeref": 65.625
         },
         "mode": "markers",
         "name": "University 17",
         "showlegend": true,
         "subplot": "mapbox",
         "type": "scattermapbox"
        },
        {
         "hovertemplate": "Customers=University 170<br>Invoice Amount=%{marker.size}<br>Lat=%{lat}<br>Long=%{lon}<extra></extra>",
         "lat": [
          45.408173
         ],
         "legendgroup": "University 170",
         "lon": [
          -122.922323
         ],
         "marker": {
          "color": "#FF97FF",
          "size": [
           2300
          ],
          "sizemode": "area",
          "sizeref": 65.625
         },
         "mode": "markers",
         "name": "University 170",
         "showlegend": true,
         "subplot": "mapbox",
         "type": "scattermapbox"
        },
        {
         "hovertemplate": "Customers=University 171<br>Invoice Amount=%{marker.size}<br>Lat=%{lat}<br>Long=%{lon}<extra></extra>",
         "lat": [
          37.680181
         ],
         "legendgroup": "University 171",
         "lon": [
          -121.921498
         ],
         "marker": {
          "color": "#FECB52",
          "size": [
           3000
          ],
          "sizemode": "area",
          "sizeref": 65.625
         },
         "mode": "markers",
         "name": "University 171",
         "showlegend": true,
         "subplot": "mapbox",
         "type": "scattermapbox"
        },
        {
         "hovertemplate": "Customers=University 172<br>Invoice Amount=%{marker.size}<br>Lat=%{lat}<br>Long=%{lon}<extra></extra>",
         "lat": [
          34.744649
         ],
         "legendgroup": "University 172",
         "lon": [
          -82.797267
         ],
         "marker": {
          "color": "#636efa",
          "size": [
           450
          ],
          "sizemode": "area",
          "sizeref": 65.625
         },
         "mode": "markers",
         "name": "University 172",
         "showlegend": true,
         "subplot": "mapbox",
         "type": "scattermapbox"
        },
        {
         "hovertemplate": "Customers=University 173<br>Invoice Amount=%{marker.size}<br>Lat=%{lat}<br>Long=%{lon}<extra></extra>",
         "lat": [
          46.28569
         ],
         "legendgroup": "University 173",
         "lon": [
          -119.28446
         ],
         "marker": {
          "color": "#EF553B",
          "size": [
           1600
          ],
          "sizemode": "area",
          "sizeref": 65.625
         },
         "mode": "markers",
         "name": "University 173",
         "showlegend": true,
         "subplot": "mapbox",
         "type": "scattermapbox"
        },
        {
         "hovertemplate": "Customers=University 174<br>Invoice Amount=%{marker.size}<br>Lat=%{lat}<br>Long=%{lon}<extra></extra>",
         "lat": [
          36.432632
         ],
         "legendgroup": "University 174",
         "lon": [
          -80.91785300000002
         ],
         "marker": {
          "color": "#00cc96",
          "size": [
           1730
          ],
          "sizemode": "area",
          "sizeref": 65.625
         },
         "mode": "markers",
         "name": "University 174",
         "showlegend": true,
         "subplot": "mapbox",
         "type": "scattermapbox"
        },
        {
         "hovertemplate": "Customers=University 175<br>Invoice Amount=%{marker.size}<br>Lat=%{lat}<br>Long=%{lon}<extra></extra>",
         "lat": [
          39.282538
         ],
         "legendgroup": "University 175",
         "lon": [
          -87.667527
         ],
         "marker": {
          "color": "#ab63fa",
          "size": [
           6000
          ],
          "sizemode": "area",
          "sizeref": 65.625
         },
         "mode": "markers",
         "name": "University 175",
         "showlegend": true,
         "subplot": "mapbox",
         "type": "scattermapbox"
        },
        {
         "hovertemplate": "Customers=University 176<br>Invoice Amount=%{marker.size}<br>Lat=%{lat}<br>Long=%{lon}<extra></extra>",
         "lat": [
          34.859604
         ],
         "legendgroup": "University 176",
         "lon": [
          -80.938257
         ],
         "marker": {
          "color": "#FFA15A",
          "size": [
           1000
          ],
          "sizemode": "area",
          "sizeref": 65.625
         },
         "mode": "markers",
         "name": "University 176",
         "showlegend": true,
         "subplot": "mapbox",
         "type": "scattermapbox"
        },
        {
         "hovertemplate": "Customers=University 177<br>Invoice Amount=%{marker.size}<br>Lat=%{lat}<br>Long=%{lon}<extra></extra>",
         "lat": [
          28.062
         ],
         "legendgroup": "University 177",
         "lon": [
          -82.413225
         ],
         "marker": {
          "color": "#19d3f3",
          "size": [
           2833.3333333333335
          ],
          "sizemode": "area",
          "sizeref": 65.625
         },
         "mode": "markers",
         "name": "University 177",
         "showlegend": true,
         "subplot": "mapbox",
         "type": "scattermapbox"
        },
        {
         "hovertemplate": "Customers=University 178<br>Invoice Amount=%{marker.size}<br>Lat=%{lat}<br>Long=%{lon}<extra></extra>",
         "lat": [
          39.897162
         ],
         "legendgroup": "University 178",
         "lon": [
          -75.344083
         ],
         "marker": {
          "color": "#FF6692",
          "size": [
           714
          ],
          "sizemode": "area",
          "sizeref": 65.625
         },
         "mode": "markers",
         "name": "University 178",
         "showlegend": true,
         "subplot": "mapbox",
         "type": "scattermapbox"
        },
        {
         "hovertemplate": "Customers=University 179<br>Invoice Amount=%{marker.size}<br>Lat=%{lat}<br>Long=%{lon}<extra></extra>",
         "lat": [
          28.062
         ],
         "legendgroup": "University 179",
         "lon": [
          -82.413225
         ],
         "marker": {
          "color": "#B6E880",
          "size": [
           6239.75
          ],
          "sizemode": "area",
          "sizeref": 65.625
         },
         "mode": "markers",
         "name": "University 179",
         "showlegend": true,
         "subplot": "mapbox",
         "type": "scattermapbox"
        },
        {
         "hovertemplate": "Customers=University 180<br>Invoice Amount=%{marker.size}<br>Lat=%{lat}<br>Long=%{lon}<extra></extra>",
         "lat": [
          28.062
         ],
         "legendgroup": "University 180",
         "lon": [
          -82.413225
         ],
         "marker": {
          "color": "#FF97FF",
          "size": [
           875
          ],
          "sizemode": "area",
          "sizeref": 65.625
         },
         "mode": "markers",
         "name": "University 180",
         "showlegend": true,
         "subplot": "mapbox",
         "type": "scattermapbox"
        },
        {
         "hovertemplate": "Customers=University 181<br>Invoice Amount=%{marker.size}<br>Lat=%{lat}<br>Long=%{lon}<extra></extra>",
         "lat": [
          28.062
         ],
         "legendgroup": "University 181",
         "lon": [
          -82.413225
         ],
         "marker": {
          "color": "#FECB52",
          "size": [
           7500
          ],
          "sizemode": "area",
          "sizeref": 65.625
         },
         "mode": "markers",
         "name": "University 181",
         "showlegend": true,
         "subplot": "mapbox",
         "type": "scattermapbox"
        },
        {
         "hovertemplate": "Customers=University 184<br>Invoice Amount=%{marker.size}<br>Lat=%{lat}<br>Long=%{lon}<extra></extra>",
         "lat": [
          28.062
         ],
         "legendgroup": "University 184",
         "lon": [
          -82.413225
         ],
         "marker": {
          "color": "#636efa",
          "size": [
           2312.5
          ],
          "sizemode": "area",
          "sizeref": 65.625
         },
         "mode": "markers",
         "name": "University 184",
         "showlegend": true,
         "subplot": "mapbox",
         "type": "scattermapbox"
        },
        {
         "hovertemplate": "Customers=University 185<br>Invoice Amount=%{marker.size}<br>Lat=%{lat}<br>Long=%{lon}<extra></extra>",
         "lat": [
          28.062
         ],
         "legendgroup": "University 185",
         "lon": [
          -82.413225
         ],
         "marker": {
          "color": "#EF553B",
          "size": [
           1000
          ],
          "sizemode": "area",
          "sizeref": 65.625
         },
         "mode": "markers",
         "name": "University 185",
         "showlegend": true,
         "subplot": "mapbox",
         "type": "scattermapbox"
        },
        {
         "hovertemplate": "Customers=University 186<br>Invoice Amount=%{marker.size}<br>Lat=%{lat}<br>Long=%{lon}<extra></extra>",
         "lat": [
          29.953701
         ],
         "legendgroup": "University 186",
         "lon": [
          -90.072803
         ],
         "marker": {
          "color": "#00cc96",
          "size": [
           625
          ],
          "sizemode": "area",
          "sizeref": 65.625
         },
         "mode": "markers",
         "name": "University 186",
         "showlegend": true,
         "subplot": "mapbox",
         "type": "scattermapbox"
        },
        {
         "hovertemplate": "Customers=University 187<br>Invoice Amount=%{marker.size}<br>Lat=%{lat}<br>Long=%{lon}<extra></extra>",
         "lat": [
          28.062
         ],
         "legendgroup": "University 187",
         "lon": [
          -82.413225
         ],
         "marker": {
          "color": "#ab63fa",
          "size": [
           535.5
          ],
          "sizemode": "area",
          "sizeref": 65.625
         },
         "mode": "markers",
         "name": "University 187",
         "showlegend": true,
         "subplot": "mapbox",
         "type": "scattermapbox"
        },
        {
         "hovertemplate": "Customers=University 189<br>Invoice Amount=%{marker.size}<br>Lat=%{lat}<br>Long=%{lon}<extra></extra>",
         "lat": [
          40.53907
         ],
         "legendgroup": "University 189",
         "lon": [
          -75.78144499999998
         ],
         "marker": {
          "color": "#FFA15A",
          "size": [
           4833.333333333333
          ],
          "sizemode": "area",
          "sizeref": 65.625
         },
         "mode": "markers",
         "name": "University 189",
         "showlegend": true,
         "subplot": "mapbox",
         "type": "scattermapbox"
        },
        {
         "hovertemplate": "Customers=University 19<br>Invoice Amount=%{marker.size}<br>Lat=%{lat}<br>Long=%{lon}<extra></extra>",
         "lat": [
          39.0080928
         ],
         "legendgroup": "University 19",
         "lon": [
          -105.9789614
         ],
         "marker": {
          "color": "#19d3f3",
          "size": [
           750
          ],
          "sizemode": "area",
          "sizeref": 65.625
         },
         "mode": "markers",
         "name": "University 19",
         "showlegend": true,
         "subplot": "mapbox",
         "type": "scattermapbox"
        },
        {
         "hovertemplate": "Customers=University 191<br>Invoice Amount=%{marker.size}<br>Lat=%{lat}<br>Long=%{lon}<extra></extra>",
         "lat": [
          33.912473
         ],
         "legendgroup": "University 191",
         "lon": [
          -84.557181
         ],
         "marker": {
          "color": "#FF6692",
          "size": [
           2465
          ],
          "sizemode": "area",
          "sizeref": 65.625
         },
         "mode": "markers",
         "name": "University 191",
         "showlegend": true,
         "subplot": "mapbox",
         "type": "scattermapbox"
        },
        {
         "hovertemplate": "Customers=University 192<br>Invoice Amount=%{marker.size}<br>Lat=%{lat}<br>Long=%{lon}<extra></extra>",
         "lat": [
          28.062
         ],
         "legendgroup": "University 192",
         "lon": [
          -82.413225
         ],
         "marker": {
          "color": "#B6E880",
          "size": [
           2500
          ],
          "sizemode": "area",
          "sizeref": 65.625
         },
         "mode": "markers",
         "name": "University 192",
         "showlegend": true,
         "subplot": "mapbox",
         "type": "scattermapbox"
        },
        {
         "hovertemplate": "Customers=University 195<br>Invoice Amount=%{marker.size}<br>Lat=%{lat}<br>Long=%{lon}<extra></extra>",
         "lat": [
          28.062
         ],
         "legendgroup": "University 195",
         "lon": [
          -82.413225
         ],
         "marker": {
          "color": "#FF97FF",
          "size": [
           1567.5
          ],
          "sizemode": "area",
          "sizeref": 65.625
         },
         "mode": "markers",
         "name": "University 195",
         "showlegend": true,
         "subplot": "mapbox",
         "type": "scattermapbox"
        },
        {
         "hovertemplate": "Customers=University 196<br>Invoice Amount=%{marker.size}<br>Lat=%{lat}<br>Long=%{lon}<extra></extra>",
         "lat": [
          35.841039
         ],
         "legendgroup": "University 196",
         "lon": [
          -90.67560199999998
         ],
         "marker": {
          "color": "#FECB52",
          "size": [
           880
          ],
          "sizemode": "area",
          "sizeref": 65.625
         },
         "mode": "markers",
         "name": "University 196",
         "showlegend": true,
         "subplot": "mapbox",
         "type": "scattermapbox"
        },
        {
         "hovertemplate": "Customers=University 197<br>Invoice Amount=%{marker.size}<br>Lat=%{lat}<br>Long=%{lon}<extra></extra>",
         "lat": [
          33.94815
         ],
         "legendgroup": "University 197",
         "lon": [
          -86.47276
         ],
         "marker": {
          "color": "#636efa",
          "size": [
           1477.5
          ],
          "sizemode": "area",
          "sizeref": 65.625
         },
         "mode": "markers",
         "name": "University 197",
         "showlegend": true,
         "subplot": "mapbox",
         "type": "scattermapbox"
        },
        {
         "hovertemplate": "Customers=University 198<br>Invoice Amount=%{marker.size}<br>Lat=%{lat}<br>Long=%{lon}<extra></extra>",
         "lat": [
          38.544956
         ],
         "legendgroup": "University 198",
         "lon": [
          -121.746159
         ],
         "marker": {
          "color": "#EF553B",
          "size": [
           841
          ],
          "sizemode": "area",
          "sizeref": 65.625
         },
         "mode": "markers",
         "name": "University 198",
         "showlegend": true,
         "subplot": "mapbox",
         "type": "scattermapbox"
        },
        {
         "hovertemplate": "Customers=University 199<br>Invoice Amount=%{marker.size}<br>Lat=%{lat}<br>Long=%{lon}<extra></extra>",
         "lat": [
          21.970965
         ],
         "legendgroup": "University 199",
         "lon": [
          -159.714507
         ],
         "marker": {
          "color": "#00cc96",
          "size": [
           1727.5
          ],
          "sizemode": "area",
          "sizeref": 65.625
         },
         "mode": "markers",
         "name": "University 199",
         "showlegend": true,
         "subplot": "mapbox",
         "type": "scattermapbox"
        },
        {
         "hovertemplate": "Customers=University 2<br>Invoice Amount=%{marker.size}<br>Lat=%{lat}<br>Long=%{lon}<extra></extra>",
         "lat": [
          37.371981
         ],
         "legendgroup": "University 2",
         "lon": [
          -93.9790784
         ],
         "marker": {
          "color": "#ab63fa",
          "size": [
           2500
          ],
          "sizemode": "area",
          "sizeref": 65.625
         },
         "mode": "markers",
         "name": "University 2",
         "showlegend": true,
         "subplot": "mapbox",
         "type": "scattermapbox"
        },
        {
         "hovertemplate": "Customers=University 200<br>Invoice Amount=%{marker.size}<br>Lat=%{lat}<br>Long=%{lon}<extra></extra>",
         "lat": [
          35.841039
         ],
         "legendgroup": "University 200",
         "lon": [
          -90.675602
         ],
         "marker": {
          "color": "#FFA15A",
          "size": [
           3787.5
          ],
          "sizemode": "area",
          "sizeref": 65.625
         },
         "mode": "markers",
         "name": "University 200",
         "showlegend": true,
         "subplot": "mapbox",
         "type": "scattermapbox"
        },
        {
         "hovertemplate": "Customers=University 201<br>Invoice Amount=%{marker.size}<br>Lat=%{lat}<br>Long=%{lon}<extra></extra>",
         "lat": [
          39.99788
         ],
         "legendgroup": "University 201",
         "lon": [
          -76.35413
         ],
         "marker": {
          "color": "#19d3f3",
          "size": [
           1666
          ],
          "sizemode": "area",
          "sizeref": 65.625
         },
         "mode": "markers",
         "name": "University 201",
         "showlegend": true,
         "subplot": "mapbox",
         "type": "scattermapbox"
        },
        {
         "hovertemplate": "Customers=University 202<br>Invoice Amount=%{marker.size}<br>Lat=%{lat}<br>Long=%{lon}<extra></extra>",
         "lat": [
          28.062
         ],
         "legendgroup": "University 202",
         "lon": [
          -82.413225
         ],
         "marker": {
          "color": "#FF6692",
          "size": [
           3312.5
          ],
          "sizemode": "area",
          "sizeref": 65.625
         },
         "mode": "markers",
         "name": "University 202",
         "showlegend": true,
         "subplot": "mapbox",
         "type": "scattermapbox"
        },
        {
         "hovertemplate": "Customers=University 203<br>Invoice Amount=%{marker.size}<br>Lat=%{lat}<br>Long=%{lon}<extra></extra>",
         "lat": [
          43.223303
         ],
         "legendgroup": "University 203",
         "lon": [
          -77.917335
         ],
         "marker": {
          "color": "#B6E880",
          "size": [
           750
          ],
          "sizemode": "area",
          "sizeref": 65.625
         },
         "mode": "markers",
         "name": "University 203",
         "showlegend": true,
         "subplot": "mapbox",
         "type": "scattermapbox"
        },
        {
         "hovertemplate": "Customers=University 204<br>Invoice Amount=%{marker.size}<br>Lat=%{lat}<br>Long=%{lon}<extra></extra>",
         "lat": [
          28.062
         ],
         "legendgroup": "University 204",
         "lon": [
          -82.413225
         ],
         "marker": {
          "color": "#FF97FF",
          "size": [
           1562.5
          ],
          "sizemode": "area",
          "sizeref": 65.625
         },
         "mode": "markers",
         "name": "University 204",
         "showlegend": true,
         "subplot": "mapbox",
         "type": "scattermapbox"
        },
        {
         "hovertemplate": "Customers=University 206<br>Invoice Amount=%{marker.size}<br>Lat=%{lat}<br>Long=%{lon}<extra></extra>",
         "lat": [
          28.062
         ],
         "legendgroup": "University 206",
         "lon": [
          -82.413225
         ],
         "marker": {
          "color": "#FECB52",
          "size": [
           1500
          ],
          "sizemode": "area",
          "sizeref": 65.625
         },
         "mode": "markers",
         "name": "University 206",
         "showlegend": true,
         "subplot": "mapbox",
         "type": "scattermapbox"
        },
        {
         "hovertemplate": "Customers=University 207<br>Invoice Amount=%{marker.size}<br>Lat=%{lat}<br>Long=%{lon}<extra></extra>",
         "lat": [
          41.88531
         ],
         "legendgroup": "University 207",
         "lon": [
          -87.62213
         ],
         "marker": {
          "color": "#636efa",
          "size": [
           937.5
          ],
          "sizemode": "area",
          "sizeref": 65.625
         },
         "mode": "markers",
         "name": "University 207",
         "showlegend": true,
         "subplot": "mapbox",
         "type": "scattermapbox"
        },
        {
         "hovertemplate": "Customers=University 208<br>Invoice Amount=%{marker.size}<br>Lat=%{lat}<br>Long=%{lon}<extra></extra>",
         "lat": [
          28.062
         ],
         "legendgroup": "University 208",
         "lon": [
          -82.413225
         ],
         "marker": {
          "color": "#EF553B",
          "size": [
           2062.5
          ],
          "sizemode": "area",
          "sizeref": 65.625
         },
         "mode": "markers",
         "name": "University 208",
         "showlegend": true,
         "subplot": "mapbox",
         "type": "scattermapbox"
        },
        {
         "hovertemplate": "Customers=University 209<br>Invoice Amount=%{marker.size}<br>Lat=%{lat}<br>Long=%{lon}<extra></extra>",
         "lat": [
          39.537043
         ],
         "legendgroup": "University 209",
         "lon": [
          -77.76388299999998
         ],
         "marker": {
          "color": "#00cc96",
          "size": [
           1900
          ],
          "sizemode": "area",
          "sizeref": 65.625
         },
         "mode": "markers",
         "name": "University 209",
         "showlegend": true,
         "subplot": "mapbox",
         "type": "scattermapbox"
        },
        {
         "hovertemplate": "Customers=University 210<br>Invoice Amount=%{marker.size}<br>Lat=%{lat}<br>Long=%{lon}<extra></extra>",
         "lat": [
          28.062
         ],
         "legendgroup": "University 210",
         "lon": [
          -82.413225
         ],
         "marker": {
          "color": "#ab63fa",
          "size": [
           750
          ],
          "sizemode": "area",
          "sizeref": 65.625
         },
         "mode": "markers",
         "name": "University 210",
         "showlegend": true,
         "subplot": "mapbox",
         "type": "scattermapbox"
        },
        {
         "hovertemplate": "Customers=University 213<br>Invoice Amount=%{marker.size}<br>Lat=%{lat}<br>Long=%{lon}<extra></extra>",
         "lat": [
          28.062
         ],
         "legendgroup": "University 213",
         "lon": [
          -82.413225
         ],
         "marker": {
          "color": "#FFA15A",
          "size": [
           6208.333333333333
          ],
          "sizemode": "area",
          "sizeref": 65.625
         },
         "mode": "markers",
         "name": "University 213",
         "showlegend": true,
         "subplot": "mapbox",
         "type": "scattermapbox"
        },
        {
         "hovertemplate": "Customers=University 215<br>Invoice Amount=%{marker.size}<br>Lat=%{lat}<br>Long=%{lon}<extra></extra>",
         "lat": [
          28.062
         ],
         "legendgroup": "University 215",
         "lon": [
          -82.413225
         ],
         "marker": {
          "color": "#19d3f3",
          "size": [
           625
          ],
          "sizemode": "area",
          "sizeref": 65.625
         },
         "mode": "markers",
         "name": "University 215",
         "showlegend": true,
         "subplot": "mapbox",
         "type": "scattermapbox"
        },
        {
         "hovertemplate": "Customers=University 216<br>Invoice Amount=%{marker.size}<br>Lat=%{lat}<br>Long=%{lon}<extra></extra>",
         "lat": [
          28.062
         ],
         "legendgroup": "University 216",
         "lon": [
          -82.413225
         ],
         "marker": {
          "color": "#FF6692",
          "size": [
           3205.933333333333
          ],
          "sizemode": "area",
          "sizeref": 65.625
         },
         "mode": "markers",
         "name": "University 216",
         "showlegend": true,
         "subplot": "mapbox",
         "type": "scattermapbox"
        },
        {
         "hovertemplate": "Customers=University 217<br>Invoice Amount=%{marker.size}<br>Lat=%{lat}<br>Long=%{lon}<extra></extra>",
         "lat": [
          40.83739
         ],
         "legendgroup": "University 217",
         "lon": [
          -73.92343000000002
         ],
         "marker": {
          "color": "#B6E880",
          "size": [
           761.25
          ],
          "sizemode": "area",
          "sizeref": 65.625
         },
         "mode": "markers",
         "name": "University 217",
         "showlegend": true,
         "subplot": "mapbox",
         "type": "scattermapbox"
        },
        {
         "hovertemplate": "Customers=University 218<br>Invoice Amount=%{marker.size}<br>Lat=%{lat}<br>Long=%{lon}<extra></extra>",
         "lat": [
          44.510664
         ],
         "legendgroup": "University 218",
         "lon": [
          -89.638254
         ],
         "marker": {
          "color": "#FF97FF",
          "size": [
           2375
          ],
          "sizemode": "area",
          "sizeref": 65.625
         },
         "mode": "markers",
         "name": "University 218",
         "showlegend": true,
         "subplot": "mapbox",
         "type": "scattermapbox"
        },
        {
         "hovertemplate": "Customers=University 219<br>Invoice Amount=%{marker.size}<br>Lat=%{lat}<br>Long=%{lon}<extra></extra>",
         "lat": [
          42.074129
         ],
         "legendgroup": "University 219",
         "lon": [
          -80.072888
         ],
         "marker": {
          "color": "#FECB52",
          "size": [
           150
          ],
          "sizemode": "area",
          "sizeref": 65.625
         },
         "mode": "markers",
         "name": "University 219",
         "showlegend": true,
         "subplot": "mapbox",
         "type": "scattermapbox"
        },
        {
         "hovertemplate": "Customers=University 22<br>Invoice Amount=%{marker.size}<br>Lat=%{lat}<br>Long=%{lon}<extra></extra>",
         "lat": [
          41.5028
         ],
         "legendgroup": "University 22",
         "lon": [
          -87.68429300000003
         ],
         "marker": {
          "color": "#636efa",
          "size": [
           3500
          ],
          "sizemode": "area",
          "sizeref": 65.625
         },
         "mode": "markers",
         "name": "University 22",
         "showlegend": true,
         "subplot": "mapbox",
         "type": "scattermapbox"
        },
        {
         "hovertemplate": "Customers=University 220<br>Invoice Amount=%{marker.size}<br>Lat=%{lat}<br>Long=%{lon}<extra></extra>",
         "lat": [
          37.57557
         ],
         "legendgroup": "University 220",
         "lon": [
          -77.53823
         ],
         "marker": {
          "color": "#EF553B",
          "size": [
           1700
          ],
          "sizemode": "area",
          "sizeref": 65.625
         },
         "mode": "markers",
         "name": "University 220",
         "showlegend": true,
         "subplot": "mapbox",
         "type": "scattermapbox"
        },
        {
         "hovertemplate": "Customers=University 221<br>Invoice Amount=%{marker.size}<br>Lat=%{lat}<br>Long=%{lon}<extra></extra>",
         "lat": [
          32.941519
         ],
         "legendgroup": "University 221",
         "lon": [
          -89.192566
         ],
         "marker": {
          "color": "#00cc96",
          "size": [
           450
          ],
          "sizemode": "area",
          "sizeref": 65.625
         },
         "mode": "markers",
         "name": "University 221",
         "showlegend": true,
         "subplot": "mapbox",
         "type": "scattermapbox"
        },
        {
         "hovertemplate": "Customers=University 223<br>Invoice Amount=%{marker.size}<br>Lat=%{lat}<br>Long=%{lon}<extra></extra>",
         "lat": [
          41.147084
         ],
         "legendgroup": "University 223",
         "lon": [
          -96.523011
         ],
         "marker": {
          "color": "#ab63fa",
          "size": [
           875
          ],
          "sizemode": "area",
          "sizeref": 65.625
         },
         "mode": "markers",
         "name": "University 223",
         "showlegend": true,
         "subplot": "mapbox",
         "type": "scattermapbox"
        },
        {
         "hovertemplate": "Customers=University 224<br>Invoice Amount=%{marker.size}<br>Lat=%{lat}<br>Long=%{lon}<extra></extra>",
         "lat": [
          37.725102
         ],
         "legendgroup": "University 224",
         "lon": [
          -122.413452
         ],
         "marker": {
          "color": "#FFA15A",
          "size": [
           1800
          ],
          "sizemode": "area",
          "sizeref": 65.625
         },
         "mode": "markers",
         "name": "University 224",
         "showlegend": true,
         "subplot": "mapbox",
         "type": "scattermapbox"
        },
        {
         "hovertemplate": "Customers=University 225<br>Invoice Amount=%{marker.size}<br>Lat=%{lat}<br>Long=%{lon}<extra></extra>",
         "lat": [
          35.180557
         ],
         "legendgroup": "University 225",
         "lon": [
          -80.870862
         ],
         "marker": {
          "color": "#19d3f3",
          "size": [
           5250
          ],
          "sizemode": "area",
          "sizeref": 65.625
         },
         "mode": "markers",
         "name": "University 225",
         "showlegend": true,
         "subplot": "mapbox",
         "type": "scattermapbox"
        },
        {
         "hovertemplate": "Customers=University 226<br>Invoice Amount=%{marker.size}<br>Lat=%{lat}<br>Long=%{lon}<extra></extra>",
         "lat": [
          32.60242
         ],
         "legendgroup": "University 226",
         "lon": [
          -85.487341
         ],
         "marker": {
          "color": "#FF6692",
          "size": [
           1413.5
          ],
          "sizemode": "area",
          "sizeref": 65.625
         },
         "mode": "markers",
         "name": "University 226",
         "showlegend": true,
         "subplot": "mapbox",
         "type": "scattermapbox"
        },
        {
         "hovertemplate": "Customers=University 227<br>Invoice Amount=%{marker.size}<br>Lat=%{lat}<br>Long=%{lon}<extra></extra>",
         "lat": [
          35.841039
         ],
         "legendgroup": "University 227",
         "lon": [
          -90.675602
         ],
         "marker": {
          "color": "#B6E880",
          "size": [
           2000
          ],
          "sizemode": "area",
          "sizeref": 65.625
         },
         "mode": "markers",
         "name": "University 227",
         "showlegend": true,
         "subplot": "mapbox",
         "type": "scattermapbox"
        },
        {
         "hovertemplate": "Customers=University 228<br>Invoice Amount=%{marker.size}<br>Lat=%{lat}<br>Long=%{lon}<extra></extra>",
         "lat": [
          32.381605
         ],
         "legendgroup": "University 228",
         "lon": [
          -88.663489
         ],
         "marker": {
          "color": "#FF97FF",
          "size": [
           500
          ],
          "sizemode": "area",
          "sizeref": 65.625
         },
         "mode": "markers",
         "name": "University 228",
         "showlegend": true,
         "subplot": "mapbox",
         "type": "scattermapbox"
        },
        {
         "hovertemplate": "Customers=University 231<br>Invoice Amount=%{marker.size}<br>Lat=%{lat}<br>Long=%{lon}<extra></extra>",
         "lat": [
          29.543813
         ],
         "legendgroup": "University 231",
         "lon": [
          -98.295356
         ],
         "marker": {
          "color": "#FECB52",
          "size": [
           21500
          ],
          "sizemode": "area",
          "sizeref": 65.625
         },
         "mode": "markers",
         "name": "University 231",
         "showlegend": true,
         "subplot": "mapbox",
         "type": "scattermapbox"
        },
        {
         "hovertemplate": "Customers=University 232<br>Invoice Amount=%{marker.size}<br>Lat=%{lat}<br>Long=%{lon}<extra></extra>",
         "lat": [
          28.062
         ],
         "legendgroup": "University 232",
         "lon": [
          -82.413225
         ],
         "marker": {
          "color": "#636efa",
          "size": [
           1033.3333333333333
          ],
          "sizemode": "area",
          "sizeref": 65.625
         },
         "mode": "markers",
         "name": "University 232",
         "showlegend": true,
         "subplot": "mapbox",
         "type": "scattermapbox"
        },
        {
         "hovertemplate": "Customers=University 234<br>Invoice Amount=%{marker.size}<br>Lat=%{lat}<br>Long=%{lon}<extra></extra>",
         "lat": [
          38.544956
         ],
         "legendgroup": "University 234",
         "lon": [
          -121.746159
         ],
         "marker": {
          "color": "#EF553B",
          "size": [
           2882
          ],
          "sizemode": "area",
          "sizeref": 65.625
         },
         "mode": "markers",
         "name": "University 234",
         "showlegend": true,
         "subplot": "mapbox",
         "type": "scattermapbox"
        },
        {
         "hovertemplate": "Customers=University 235<br>Invoice Amount=%{marker.size}<br>Lat=%{lat}<br>Long=%{lon}<extra></extra>",
         "lat": [
          41.650261
         ],
         "legendgroup": "University 235",
         "lon": [
          -74.700396
         ],
         "marker": {
          "color": "#00cc96",
          "size": [
           1000
          ],
          "sizemode": "area",
          "sizeref": 65.625
         },
         "mode": "markers",
         "name": "University 235",
         "showlegend": true,
         "subplot": "mapbox",
         "type": "scattermapbox"
        },
        {
         "hovertemplate": "Customers=University 236<br>Invoice Amount=%{marker.size}<br>Lat=%{lat}<br>Long=%{lon}<extra></extra>",
         "lat": [
          28.062
         ],
         "legendgroup": "University 236",
         "lon": [
          -82.413225
         ],
         "marker": {
          "color": "#ab63fa",
          "size": [
           1900
          ],
          "sizemode": "area",
          "sizeref": 65.625
         },
         "mode": "markers",
         "name": "University 236",
         "showlegend": true,
         "subplot": "mapbox",
         "type": "scattermapbox"
        },
        {
         "hovertemplate": "Customers=University 237<br>Invoice Amount=%{marker.size}<br>Lat=%{lat}<br>Long=%{lon}<extra></extra>",
         "lat": [
          30.590585
         ],
         "legendgroup": "University 237",
         "lon": [
          -91.170285
         ],
         "marker": {
          "color": "#FFA15A",
          "size": [
           3500
          ],
          "sizemode": "area",
          "sizeref": 65.625
         },
         "mode": "markers",
         "name": "University 237",
         "showlegend": true,
         "subplot": "mapbox",
         "type": "scattermapbox"
        },
        {
         "hovertemplate": "Customers=University 239<br>Invoice Amount=%{marker.size}<br>Lat=%{lat}<br>Long=%{lon}<extra></extra>",
         "lat": [
          28.062
         ],
         "legendgroup": "University 239",
         "lon": [
          -82.413225
         ],
         "marker": {
          "color": "#19d3f3",
          "size": [
           4500
          ],
          "sizemode": "area",
          "sizeref": 65.625
         },
         "mode": "markers",
         "name": "University 239",
         "showlegend": true,
         "subplot": "mapbox",
         "type": "scattermapbox"
        },
        {
         "hovertemplate": "Customers=University 240<br>Invoice Amount=%{marker.size}<br>Lat=%{lat}<br>Long=%{lon}<extra></extra>",
         "lat": [
          45.408173
         ],
         "legendgroup": "University 240",
         "lon": [
          -122.922323
         ],
         "marker": {
          "color": "#FF6692",
          "size": [
           2329
          ],
          "sizemode": "area",
          "sizeref": 65.625
         },
         "mode": "markers",
         "name": "University 240",
         "showlegend": true,
         "subplot": "mapbox",
         "type": "scattermapbox"
        },
        {
         "hovertemplate": "Customers=University 242<br>Invoice Amount=%{marker.size}<br>Lat=%{lat}<br>Long=%{lon}<extra></extra>",
         "lat": [
          34.365411
         ],
         "legendgroup": "University 242",
         "lon": [
          -89.53718
         ],
         "marker": {
          "color": "#B6E880",
          "size": [
           2000
          ],
          "sizemode": "area",
          "sizeref": 65.625
         },
         "mode": "markers",
         "name": "University 242",
         "showlegend": true,
         "subplot": "mapbox",
         "type": "scattermapbox"
        },
        {
         "hovertemplate": "Customers=University 245<br>Invoice Amount=%{marker.size}<br>Lat=%{lat}<br>Long=%{lon}<extra></extra>",
         "lat": [
          45.408173
         ],
         "legendgroup": "University 245",
         "lon": [
          -122.922323
         ],
         "marker": {
          "color": "#FF97FF",
          "size": [
           5500
          ],
          "sizemode": "area",
          "sizeref": 65.625
         },
         "mode": "markers",
         "name": "University 245",
         "showlegend": true,
         "subplot": "mapbox",
         "type": "scattermapbox"
        },
        {
         "hovertemplate": "Customers=University 247<br>Invoice Amount=%{marker.size}<br>Lat=%{lat}<br>Long=%{lon}<extra></extra>",
         "lat": [
          28.062
         ],
         "legendgroup": "University 247",
         "lon": [
          -82.413225
         ],
         "marker": {
          "color": "#FECB52",
          "size": [
           1000
          ],
          "sizemode": "area",
          "sizeref": 65.625
         },
         "mode": "markers",
         "name": "University 247",
         "showlegend": true,
         "subplot": "mapbox",
         "type": "scattermapbox"
        },
        {
         "hovertemplate": "Customers=University 248<br>Invoice Amount=%{marker.size}<br>Lat=%{lat}<br>Long=%{lon}<extra></extra>",
         "lat": [
          28.062
         ],
         "legendgroup": "University 248",
         "lon": [
          -82.413225
         ],
         "marker": {
          "color": "#636efa",
          "size": [
           160
          ],
          "sizemode": "area",
          "sizeref": 65.625
         },
         "mode": "markers",
         "name": "University 248",
         "showlegend": true,
         "subplot": "mapbox",
         "type": "scattermapbox"
        },
        {
         "hovertemplate": "Customers=University 249<br>Invoice Amount=%{marker.size}<br>Lat=%{lat}<br>Long=%{lon}<extra></extra>",
         "lat": [
          34.073692
         ],
         "legendgroup": "University 249",
         "lon": [
          -117.76523
         ],
         "marker": {
          "color": "#EF553B",
          "size": [
           1029
          ],
          "sizemode": "area",
          "sizeref": 65.625
         },
         "mode": "markers",
         "name": "University 249",
         "showlegend": true,
         "subplot": "mapbox",
         "type": "scattermapbox"
        },
        {
         "hovertemplate": "Customers=University 25<br>Invoice Amount=%{marker.size}<br>Lat=%{lat}<br>Long=%{lon}<extra></extra>",
         "lat": [
          31.978808
         ],
         "legendgroup": "University 25",
         "lon": [
          -81.16297800000002
         ],
         "marker": {
          "color": "#00cc96",
          "size": [
           2450
          ],
          "sizemode": "area",
          "sizeref": 65.625
         },
         "mode": "markers",
         "name": "University 25",
         "showlegend": true,
         "subplot": "mapbox",
         "type": "scattermapbox"
        },
        {
         "hovertemplate": "Customers=University 250<br>Invoice Amount=%{marker.size}<br>Lat=%{lat}<br>Long=%{lon}<extra></extra>",
         "lat": [
          28.062
         ],
         "legendgroup": "University 250",
         "lon": [
          -82.413225
         ],
         "marker": {
          "color": "#ab63fa",
          "size": [
           4500
          ],
          "sizemode": "area",
          "sizeref": 65.625
         },
         "mode": "markers",
         "name": "University 250",
         "showlegend": true,
         "subplot": "mapbox",
         "type": "scattermapbox"
        },
        {
         "hovertemplate": "Customers=University 251<br>Invoice Amount=%{marker.size}<br>Lat=%{lat}<br>Long=%{lon}<extra></extra>",
         "lat": [
          36.03233400000001
         ],
         "legendgroup": "University 251",
         "lon": [
          -83.884804
         ],
         "marker": {
          "color": "#FFA15A",
          "size": [
           3500
          ],
          "sizemode": "area",
          "sizeref": 65.625
         },
         "mode": "markers",
         "name": "University 251",
         "showlegend": true,
         "subplot": "mapbox",
         "type": "scattermapbox"
        },
        {
         "hovertemplate": "Customers=University 252<br>Invoice Amount=%{marker.size}<br>Lat=%{lat}<br>Long=%{lon}<extra></extra>",
         "lat": [
          28.062
         ],
         "legendgroup": "University 252",
         "lon": [
          -82.413225
         ],
         "marker": {
          "color": "#19d3f3",
          "size": [
           1600
          ],
          "sizemode": "area",
          "sizeref": 65.625
         },
         "mode": "markers",
         "name": "University 252",
         "showlegend": true,
         "subplot": "mapbox",
         "type": "scattermapbox"
        },
        {
         "hovertemplate": "Customers=University 253<br>Invoice Amount=%{marker.size}<br>Lat=%{lat}<br>Long=%{lon}<extra></extra>",
         "lat": [
          28.062
         ],
         "legendgroup": "University 253",
         "lon": [
          -82.413225
         ],
         "marker": {
          "color": "#FF6692",
          "size": [
           540.33
          ],
          "sizemode": "area",
          "sizeref": 65.625
         },
         "mode": "markers",
         "name": "University 253",
         "showlegend": true,
         "subplot": "mapbox",
         "type": "scattermapbox"
        },
        {
         "hovertemplate": "Customers=University 254<br>Invoice Amount=%{marker.size}<br>Lat=%{lat}<br>Long=%{lon}<extra></extra>",
         "lat": [
          42.96986500000001
         ],
         "legendgroup": "University 254",
         "lon": [
          -87.87373199999998
         ],
         "marker": {
          "color": "#B6E880",
          "size": [
           2500
          ],
          "sizemode": "area",
          "sizeref": 65.625
         },
         "mode": "markers",
         "name": "University 254",
         "showlegend": true,
         "subplot": "mapbox",
         "type": "scattermapbox"
        },
        {
         "hovertemplate": "Customers=University 255<br>Invoice Amount=%{marker.size}<br>Lat=%{lat}<br>Long=%{lon}<extra></extra>",
         "lat": [
          41.477816
         ],
         "legendgroup": "University 255",
         "lon": [
          -87.683188
         ],
         "marker": {
          "color": "#FF97FF",
          "size": [
           6500
          ],
          "sizemode": "area",
          "sizeref": 65.625
         },
         "mode": "markers",
         "name": "University 255",
         "showlegend": true,
         "subplot": "mapbox",
         "type": "scattermapbox"
        },
        {
         "hovertemplate": "Customers=University 256<br>Invoice Amount=%{marker.size}<br>Lat=%{lat}<br>Long=%{lon}<extra></extra>",
         "lat": [
          28.062
         ],
         "legendgroup": "University 256",
         "lon": [
          -82.413225
         ],
         "marker": {
          "color": "#FECB52",
          "size": [
           2650
          ],
          "sizemode": "area",
          "sizeref": 65.625
         },
         "mode": "markers",
         "name": "University 256",
         "showlegend": true,
         "subplot": "mapbox",
         "type": "scattermapbox"
        },
        {
         "hovertemplate": "Customers=University 257<br>Invoice Amount=%{marker.size}<br>Lat=%{lat}<br>Long=%{lon}<extra></extra>",
         "lat": [
          41.450991
         ],
         "legendgroup": "University 257",
         "lon": [
          -82.166534
         ],
         "marker": {
          "color": "#636efa",
          "size": [
           525
          ],
          "sizemode": "area",
          "sizeref": 65.625
         },
         "mode": "markers",
         "name": "University 257",
         "showlegend": true,
         "subplot": "mapbox",
         "type": "scattermapbox"
        },
        {
         "hovertemplate": "Customers=University 258<br>Invoice Amount=%{marker.size}<br>Lat=%{lat}<br>Long=%{lon}<extra></extra>",
         "lat": [
          32.381605
         ],
         "legendgroup": "University 258",
         "lon": [
          -88.66348899999998
         ],
         "marker": {
          "color": "#EF553B",
          "size": [
           700
          ],
          "sizemode": "area",
          "sizeref": 65.625
         },
         "mode": "markers",
         "name": "University 258",
         "showlegend": true,
         "subplot": "mapbox",
         "type": "scattermapbox"
        },
        {
         "hovertemplate": "Customers=University 259<br>Invoice Amount=%{marker.size}<br>Lat=%{lat}<br>Long=%{lon}<extra></extra>",
         "lat": [
          39.724961
         ],
         "legendgroup": "University 259",
         "lon": [
          -89.615971
         ],
         "marker": {
          "color": "#00cc96",
          "size": [
           2250
          ],
          "sizemode": "area",
          "sizeref": 65.625
         },
         "mode": "markers",
         "name": "University 259",
         "showlegend": true,
         "subplot": "mapbox",
         "type": "scattermapbox"
        },
        {
         "hovertemplate": "Customers=University 260<br>Invoice Amount=%{marker.size}<br>Lat=%{lat}<br>Long=%{lon}<extra></extra>",
         "lat": [
          40.286914
         ],
         "legendgroup": "University 260",
         "lon": [
          -95.078313
         ],
         "marker": {
          "color": "#ab63fa",
          "size": [
           950
          ],
          "sizemode": "area",
          "sizeref": 65.625
         },
         "mode": "markers",
         "name": "University 260",
         "showlegend": true,
         "subplot": "mapbox",
         "type": "scattermapbox"
        },
        {
         "hovertemplate": "Customers=University 261<br>Invoice Amount=%{marker.size}<br>Lat=%{lat}<br>Long=%{lon}<extra></extra>",
         "lat": [
          28.062
         ],
         "legendgroup": "University 261",
         "lon": [
          -82.413225
         ],
         "marker": {
          "color": "#FFA15A",
          "size": [
           1920
          ],
          "sizemode": "area",
          "sizeref": 65.625
         },
         "mode": "markers",
         "name": "University 261",
         "showlegend": true,
         "subplot": "mapbox",
         "type": "scattermapbox"
        },
        {
         "hovertemplate": "Customers=University 262<br>Invoice Amount=%{marker.size}<br>Lat=%{lat}<br>Long=%{lon}<extra></extra>",
         "lat": [
          28.062
         ],
         "legendgroup": "University 262",
         "lon": [
          -82.413225
         ],
         "marker": {
          "color": "#19d3f3",
          "size": [
           2000
          ],
          "sizemode": "area",
          "sizeref": 65.625
         },
         "mode": "markers",
         "name": "University 262",
         "showlegend": true,
         "subplot": "mapbox",
         "type": "scattermapbox"
        },
        {
         "hovertemplate": "Customers=University 263<br>Invoice Amount=%{marker.size}<br>Lat=%{lat}<br>Long=%{lon}<extra></extra>",
         "lat": [
          35.841039
         ],
         "legendgroup": "University 263",
         "lon": [
          -90.675602
         ],
         "marker": {
          "color": "#FF6692",
          "size": [
           2000
          ],
          "sizemode": "area",
          "sizeref": 65.625
         },
         "mode": "markers",
         "name": "University 263",
         "showlegend": true,
         "subplot": "mapbox",
         "type": "scattermapbox"
        },
        {
         "hovertemplate": "Customers=University 264<br>Invoice Amount=%{marker.size}<br>Lat=%{lat}<br>Long=%{lon}<extra></extra>",
         "lat": [
          28.062
         ],
         "legendgroup": "University 264",
         "lon": [
          -82.413225
         ],
         "marker": {
          "color": "#B6E880",
          "size": [
           929.15
          ],
          "sizemode": "area",
          "sizeref": 65.625
         },
         "mode": "markers",
         "name": "University 264",
         "showlegend": true,
         "subplot": "mapbox",
         "type": "scattermapbox"
        },
        {
         "hovertemplate": "Customers=University 266<br>Invoice Amount=%{marker.size}<br>Lat=%{lat}<br>Long=%{lon}<extra></extra>",
         "lat": [
          37.739004
         ],
         "legendgroup": "University 266",
         "lon": [
          -89.209109
         ],
         "marker": {
          "color": "#FF97FF",
          "size": [
           750
          ],
          "sizemode": "area",
          "sizeref": 65.625
         },
         "mode": "markers",
         "name": "University 266",
         "showlegend": true,
         "subplot": "mapbox",
         "type": "scattermapbox"
        },
        {
         "hovertemplate": "Customers=University 267<br>Invoice Amount=%{marker.size}<br>Lat=%{lat}<br>Long=%{lon}<extra></extra>",
         "lat": [
          28.062
         ],
         "legendgroup": "University 267",
         "lon": [
          -82.413225
         ],
         "marker": {
          "color": "#FECB52",
          "size": [
           756
          ],
          "sizemode": "area",
          "sizeref": 65.625
         },
         "mode": "markers",
         "name": "University 267",
         "showlegend": true,
         "subplot": "mapbox",
         "type": "scattermapbox"
        },
        {
         "hovertemplate": "Customers=University 269<br>Invoice Amount=%{marker.size}<br>Lat=%{lat}<br>Long=%{lon}<extra></extra>",
         "lat": [
          39.74615900000001
         ],
         "legendgroup": "University 269",
         "lon": [
          -121.840083
         ],
         "marker": {
          "color": "#636efa",
          "size": [
           2250
          ],
          "sizemode": "area",
          "sizeref": 65.625
         },
         "mode": "markers",
         "name": "University 269",
         "showlegend": true,
         "subplot": "mapbox",
         "type": "scattermapbox"
        },
        {
         "hovertemplate": "Customers=University 271<br>Invoice Amount=%{marker.size}<br>Lat=%{lat}<br>Long=%{lon}<extra></extra>",
         "lat": [
          35.841039
         ],
         "legendgroup": "University 271",
         "lon": [
          -90.675602
         ],
         "marker": {
          "color": "#EF553B",
          "size": [
           2500
          ],
          "sizemode": "area",
          "sizeref": 65.625
         },
         "mode": "markers",
         "name": "University 271",
         "showlegend": true,
         "subplot": "mapbox",
         "type": "scattermapbox"
        },
        {
         "hovertemplate": "Customers=University 272<br>Invoice Amount=%{marker.size}<br>Lat=%{lat}<br>Long=%{lon}<extra></extra>",
         "lat": [
          38.970388
         ],
         "legendgroup": "University 272",
         "lon": [
          -76.941919
         ],
         "marker": {
          "color": "#00cc96",
          "size": [
           800
          ],
          "sizemode": "area",
          "sizeref": 65.625
         },
         "mode": "markers",
         "name": "University 272",
         "showlegend": true,
         "subplot": "mapbox",
         "type": "scattermapbox"
        },
        {
         "hovertemplate": "Customers=University 273<br>Invoice Amount=%{marker.size}<br>Lat=%{lat}<br>Long=%{lon}<extra></extra>",
         "lat": [
          35.841039
         ],
         "legendgroup": "University 273",
         "lon": [
          -90.675602
         ],
         "marker": {
          "color": "#ab63fa",
          "size": [
           2500
          ],
          "sizemode": "area",
          "sizeref": 65.625
         },
         "mode": "markers",
         "name": "University 273",
         "showlegend": true,
         "subplot": "mapbox",
         "type": "scattermapbox"
        },
        {
         "hovertemplate": "Customers=University 274<br>Invoice Amount=%{marker.size}<br>Lat=%{lat}<br>Long=%{lon}<extra></extra>",
         "lat": [
          35.117940999999995
         ],
         "legendgroup": "University 274",
         "lon": [
          -89.93666999999998
         ],
         "marker": {
          "color": "#FFA15A",
          "size": [
           381.25
          ],
          "sizemode": "area",
          "sizeref": 65.625
         },
         "mode": "markers",
         "name": "University 274",
         "showlegend": true,
         "subplot": "mapbox",
         "type": "scattermapbox"
        },
        {
         "hovertemplate": "Customers=University 275<br>Invoice Amount=%{marker.size}<br>Lat=%{lat}<br>Long=%{lon}<extra></extra>",
         "lat": [
          41.477816
         ],
         "legendgroup": "University 275",
         "lon": [
          -87.683188
         ],
         "marker": {
          "color": "#19d3f3",
          "size": [
           2000
          ],
          "sizemode": "area",
          "sizeref": 65.625
         },
         "mode": "markers",
         "name": "University 275",
         "showlegend": true,
         "subplot": "mapbox",
         "type": "scattermapbox"
        },
        {
         "hovertemplate": "Customers=University 276<br>Invoice Amount=%{marker.size}<br>Lat=%{lat}<br>Long=%{lon}<extra></extra>",
         "lat": [
          35.969681
         ],
         "legendgroup": "University 276",
         "lon": [
          -78.934721
         ],
         "marker": {
          "color": "#FF6692",
          "size": [
           2250
          ],
          "sizemode": "area",
          "sizeref": 65.625
         },
         "mode": "markers",
         "name": "University 276",
         "showlegend": true,
         "subplot": "mapbox",
         "type": "scattermapbox"
        },
        {
         "hovertemplate": "Customers=University 277<br>Invoice Amount=%{marker.size}<br>Lat=%{lat}<br>Long=%{lon}<extra></extra>",
         "lat": [
          28.062
         ],
         "legendgroup": "University 277",
         "lon": [
          -82.413225
         ],
         "marker": {
          "color": "#B6E880",
          "size": [
           425
          ],
          "sizemode": "area",
          "sizeref": 65.625
         },
         "mode": "markers",
         "name": "University 277",
         "showlegend": true,
         "subplot": "mapbox",
         "type": "scattermapbox"
        },
        {
         "hovertemplate": "Customers=University 278<br>Invoice Amount=%{marker.size}<br>Lat=%{lat}<br>Long=%{lon}<extra></extra>",
         "lat": [
          41.370548
         ],
         "legendgroup": "University 278",
         "lon": [
          -81.861757
         ],
         "marker": {
          "color": "#FF97FF",
          "size": [
           2600
          ],
          "sizemode": "area",
          "sizeref": 65.625
         },
         "mode": "markers",
         "name": "University 278",
         "showlegend": true,
         "subplot": "mapbox",
         "type": "scattermapbox"
        },
        {
         "hovertemplate": "Customers=University 279<br>Invoice Amount=%{marker.size}<br>Lat=%{lat}<br>Long=%{lon}<extra></extra>",
         "lat": [
          35.841039
         ],
         "legendgroup": "University 279",
         "lon": [
          -90.675602
         ],
         "marker": {
          "color": "#FECB52",
          "size": [
           2850
          ],
          "sizemode": "area",
          "sizeref": 65.625
         },
         "mode": "markers",
         "name": "University 279",
         "showlegend": true,
         "subplot": "mapbox",
         "type": "scattermapbox"
        },
        {
         "hovertemplate": "Customers=University 28<br>Invoice Amount=%{marker.size}<br>Lat=%{lat}<br>Long=%{lon}<extra></extra>",
         "lat": [
          33.203634
         ],
         "legendgroup": "University 28",
         "lon": [
          -87.56214399999998
         ],
         "marker": {
          "color": "#636efa",
          "size": [
           13650
          ],
          "sizemode": "area",
          "sizeref": 65.625
         },
         "mode": "markers",
         "name": "University 28",
         "showlegend": true,
         "subplot": "mapbox",
         "type": "scattermapbox"
        },
        {
         "hovertemplate": "Customers=University 280<br>Invoice Amount=%{marker.size}<br>Lat=%{lat}<br>Long=%{lon}<extra></extra>",
         "lat": [
          28.062
         ],
         "legendgroup": "University 280",
         "lon": [
          -82.413225
         ],
         "marker": {
          "color": "#EF553B",
          "size": [
           4530
          ],
          "sizemode": "area",
          "sizeref": 65.625
         },
         "mode": "markers",
         "name": "University 280",
         "showlegend": true,
         "subplot": "mapbox",
         "type": "scattermapbox"
        },
        {
         "hovertemplate": "Customers=University 281<br>Invoice Amount=%{marker.size}<br>Lat=%{lat}<br>Long=%{lon}<extra></extra>",
         "lat": [
          33.061245
         ],
         "legendgroup": "University 281",
         "lon": [
          -83.604895
         ],
         "marker": {
          "color": "#00cc96",
          "size": [
           3500
          ],
          "sizemode": "area",
          "sizeref": 65.625
         },
         "mode": "markers",
         "name": "University 281",
         "showlegend": true,
         "subplot": "mapbox",
         "type": "scattermapbox"
        },
        {
         "hovertemplate": "Customers=University 282<br>Invoice Amount=%{marker.size}<br>Lat=%{lat}<br>Long=%{lon}<extra></extra>",
         "lat": [
          43.077369
         ],
         "legendgroup": "University 282",
         "lon": [
          -75.23320799999998
         ],
         "marker": {
          "color": "#ab63fa",
          "size": [
           1750
          ],
          "sizemode": "area",
          "sizeref": 65.625
         },
         "mode": "markers",
         "name": "University 282",
         "showlegend": true,
         "subplot": "mapbox",
         "type": "scattermapbox"
        },
        {
         "hovertemplate": "Customers=University 283<br>Invoice Amount=%{marker.size}<br>Lat=%{lat}<br>Long=%{lon}<extra></extra>",
         "lat": [
          33.651144
         ],
         "legendgroup": "University 283",
         "lon": [
          -117.814991
         ],
         "marker": {
          "color": "#FFA15A",
          "size": [
           550
          ],
          "sizemode": "area",
          "sizeref": 65.625
         },
         "mode": "markers",
         "name": "University 283",
         "showlegend": true,
         "subplot": "mapbox",
         "type": "scattermapbox"
        },
        {
         "hovertemplate": "Customers=University 284<br>Invoice Amount=%{marker.size}<br>Lat=%{lat}<br>Long=%{lon}<extra></extra>",
         "lat": [
          28.062
         ],
         "legendgroup": "University 284",
         "lon": [
          -82.413225
         ],
         "marker": {
          "color": "#19d3f3",
          "size": [
           2100
          ],
          "sizemode": "area",
          "sizeref": 65.625
         },
         "mode": "markers",
         "name": "University 284",
         "showlegend": true,
         "subplot": "mapbox",
         "type": "scattermapbox"
        },
        {
         "hovertemplate": "Customers=University 285<br>Invoice Amount=%{marker.size}<br>Lat=%{lat}<br>Long=%{lon}<extra></extra>",
         "lat": [
          33.82887
         ],
         "legendgroup": "University 285",
         "lon": [
          -118.180502
         ],
         "marker": {
          "color": "#FF6692",
          "size": [
           2000
          ],
          "sizemode": "area",
          "sizeref": 65.625
         },
         "mode": "markers",
         "name": "University 285",
         "showlegend": true,
         "subplot": "mapbox",
         "type": "scattermapbox"
        },
        {
         "hovertemplate": "Customers=University 286<br>Invoice Amount=%{marker.size}<br>Lat=%{lat}<br>Long=%{lon}<extra></extra>",
         "lat": [
          28.062
         ],
         "legendgroup": "University 286",
         "lon": [
          -82.413225
         ],
         "marker": {
          "color": "#B6E880",
          "size": [
           738.01
          ],
          "sizemode": "area",
          "sizeref": 65.625
         },
         "mode": "markers",
         "name": "University 286",
         "showlegend": true,
         "subplot": "mapbox",
         "type": "scattermapbox"
        },
        {
         "hovertemplate": "Customers=University 287<br>Invoice Amount=%{marker.size}<br>Lat=%{lat}<br>Long=%{lon}<extra></extra>",
         "lat": [
          35.841039
         ],
         "legendgroup": "University 287",
         "lon": [
          -90.675602
         ],
         "marker": {
          "color": "#FF97FF",
          "size": [
           2000
          ],
          "sizemode": "area",
          "sizeref": 65.625
         },
         "mode": "markers",
         "name": "University 287",
         "showlegend": true,
         "subplot": "mapbox",
         "type": "scattermapbox"
        },
        {
         "hovertemplate": "Customers=University 288<br>Invoice Amount=%{marker.size}<br>Lat=%{lat}<br>Long=%{lon}<extra></extra>",
         "lat": [
          40.046955
         ],
         "legendgroup": "University 288",
         "lon": [
          -79.89498499999998
         ],
         "marker": {
          "color": "#FECB52",
          "size": [
           8500
          ],
          "sizemode": "area",
          "sizeref": 65.625
         },
         "mode": "markers",
         "name": "University 288",
         "showlegend": true,
         "subplot": "mapbox",
         "type": "scattermapbox"
        },
        {
         "hovertemplate": "Customers=University 289<br>Invoice Amount=%{marker.size}<br>Lat=%{lat}<br>Long=%{lon}<extra></extra>",
         "lat": [
          31.307468
         ],
         "legendgroup": "University 289",
         "lon": [
          -92.465779
         ],
         "marker": {
          "color": "#636efa",
          "size": [
           562
          ],
          "sizemode": "area",
          "sizeref": 65.625
         },
         "mode": "markers",
         "name": "University 289",
         "showlegend": true,
         "subplot": "mapbox",
         "type": "scattermapbox"
        },
        {
         "hovertemplate": "Customers=University 29<br>Invoice Amount=%{marker.size}<br>Lat=%{lat}<br>Long=%{lon}<extra></extra>",
         "lat": [
          36.73702700000001
         ],
         "legendgroup": "University 29",
         "lon": [
          -84.162826
         ],
         "marker": {
          "color": "#EF553B",
          "size": [
           3500
          ],
          "sizemode": "area",
          "sizeref": 65.625
         },
         "mode": "markers",
         "name": "University 29",
         "showlegend": true,
         "subplot": "mapbox",
         "type": "scattermapbox"
        },
        {
         "hovertemplate": "Customers=University 290<br>Invoice Amount=%{marker.size}<br>Lat=%{lat}<br>Long=%{lon}<extra></extra>",
         "lat": [
          35.841039
         ],
         "legendgroup": "University 290",
         "lon": [
          -90.675602
         ],
         "marker": {
          "color": "#00cc96",
          "size": [
           4250
          ],
          "sizemode": "area",
          "sizeref": 65.625
         },
         "mode": "markers",
         "name": "University 290",
         "showlegend": true,
         "subplot": "mapbox",
         "type": "scattermapbox"
        },
        {
         "hovertemplate": "Customers=University 291<br>Invoice Amount=%{marker.size}<br>Lat=%{lat}<br>Long=%{lon}<extra></extra>",
         "lat": [
          41.973741
         ],
         "legendgroup": "University 291",
         "lon": [
          -70.976558
         ],
         "marker": {
          "color": "#ab63fa",
          "size": [
           2600
          ],
          "sizemode": "area",
          "sizeref": 65.625
         },
         "mode": "markers",
         "name": "University 291",
         "showlegend": true,
         "subplot": "mapbox",
         "type": "scattermapbox"
        },
        {
         "hovertemplate": "Customers=University 292<br>Invoice Amount=%{marker.size}<br>Lat=%{lat}<br>Long=%{lon}<extra></extra>",
         "lat": [
          28.062
         ],
         "legendgroup": "University 292",
         "lon": [
          -82.413225
         ],
         "marker": {
          "color": "#FFA15A",
          "size": [
           1800
          ],
          "sizemode": "area",
          "sizeref": 65.625
         },
         "mode": "markers",
         "name": "University 292",
         "showlegend": true,
         "subplot": "mapbox",
         "type": "scattermapbox"
        },
        {
         "hovertemplate": "Customers=University 293<br>Invoice Amount=%{marker.size}<br>Lat=%{lat}<br>Long=%{lon}<extra></extra>",
         "lat": [
          30.73851
         ],
         "legendgroup": "University 293",
         "lon": [
          -99.11144
         ],
         "marker": {
          "color": "#19d3f3",
          "size": [
           550
          ],
          "sizemode": "area",
          "sizeref": 65.625
         },
         "mode": "markers",
         "name": "University 293",
         "showlegend": true,
         "subplot": "mapbox",
         "type": "scattermapbox"
        },
        {
         "hovertemplate": "Customers=University 294<br>Invoice Amount=%{marker.size}<br>Lat=%{lat}<br>Long=%{lon}<extra></extra>",
         "lat": [
          35.841039
         ],
         "legendgroup": "University 294",
         "lon": [
          -90.675602
         ],
         "marker": {
          "color": "#FF6692",
          "size": [
           2025
          ],
          "sizemode": "area",
          "sizeref": 65.625
         },
         "mode": "markers",
         "name": "University 294",
         "showlegend": true,
         "subplot": "mapbox",
         "type": "scattermapbox"
        },
        {
         "hovertemplate": "Customers=University 295<br>Invoice Amount=%{marker.size}<br>Lat=%{lat}<br>Long=%{lon}<extra></extra>",
         "lat": [
          28.062
         ],
         "legendgroup": "University 295",
         "lon": [
          -82.413225
         ],
         "marker": {
          "color": "#B6E880",
          "size": [
           1375
          ],
          "sizemode": "area",
          "sizeref": 65.625
         },
         "mode": "markers",
         "name": "University 295",
         "showlegend": true,
         "subplot": "mapbox",
         "type": "scattermapbox"
        },
        {
         "hovertemplate": "Customers=University 298<br>Invoice Amount=%{marker.size}<br>Lat=%{lat}<br>Long=%{lon}<extra></extra>",
         "lat": [
          32.424353
         ],
         "legendgroup": "University 298",
         "lon": [
          -80.565343
         ],
         "marker": {
          "color": "#FF97FF",
          "size": [
           750
          ],
          "sizemode": "area",
          "sizeref": 65.625
         },
         "mode": "markers",
         "name": "University 298",
         "showlegend": true,
         "subplot": "mapbox",
         "type": "scattermapbox"
        },
        {
         "hovertemplate": "Customers=University 299<br>Invoice Amount=%{marker.size}<br>Lat=%{lat}<br>Long=%{lon}<extra></extra>",
         "lat": [
          41.82275
         ],
         "legendgroup": "University 299",
         "lon": [
          -71.414451
         ],
         "marker": {
          "color": "#FECB52",
          "size": [
           750
          ],
          "sizemode": "area",
          "sizeref": 65.625
         },
         "mode": "markers",
         "name": "University 299",
         "showlegend": true,
         "subplot": "mapbox",
         "type": "scattermapbox"
        },
        {
         "hovertemplate": "Customers=University 3<br>Invoice Amount=%{marker.size}<br>Lat=%{lat}<br>Long=%{lon}<extra></extra>",
         "lat": [
          37.0132475
         ],
         "legendgroup": "University 3",
         "lon": [
          -87.05521550000002
         ],
         "marker": {
          "color": "#636efa",
          "size": [
           1729.1666666666667
          ],
          "sizemode": "area",
          "sizeref": 65.625
         },
         "mode": "markers",
         "name": "University 3",
         "showlegend": true,
         "subplot": "mapbox",
         "type": "scattermapbox"
        },
        {
         "hovertemplate": "Customers=University 30<br>Invoice Amount=%{marker.size}<br>Lat=%{lat}<br>Long=%{lon}<extra></extra>",
         "lat": [
          37.236693
         ],
         "legendgroup": "University 30",
         "lon": [
          -83.401376
         ],
         "marker": {
          "color": "#EF553B",
          "size": [
           812.5
          ],
          "sizemode": "area",
          "sizeref": 65.625
         },
         "mode": "markers",
         "name": "University 30",
         "showlegend": true,
         "subplot": "mapbox",
         "type": "scattermapbox"
        },
        {
         "hovertemplate": "Customers=University 300<br>Invoice Amount=%{marker.size}<br>Lat=%{lat}<br>Long=%{lon}<extra></extra>",
         "lat": [
          35.162396
         ],
         "legendgroup": "University 300",
         "lon": [
          -92.445162
         ],
         "marker": {
          "color": "#00cc96",
          "size": [
           1610
          ],
          "sizemode": "area",
          "sizeref": 65.625
         },
         "mode": "markers",
         "name": "University 300",
         "showlegend": true,
         "subplot": "mapbox",
         "type": "scattermapbox"
        },
        {
         "hovertemplate": "Customers=University 301<br>Invoice Amount=%{marker.size}<br>Lat=%{lat}<br>Long=%{lon}<extra></extra>",
         "lat": [
          28.062
         ],
         "legendgroup": "University 301",
         "lon": [
          -82.413225
         ],
         "marker": {
          "color": "#ab63fa",
          "size": [
           2300
          ],
          "sizemode": "area",
          "sizeref": 65.625
         },
         "mode": "markers",
         "name": "University 301",
         "showlegend": true,
         "subplot": "mapbox",
         "type": "scattermapbox"
        },
        {
         "hovertemplate": "Customers=University 302<br>Invoice Amount=%{marker.size}<br>Lat=%{lat}<br>Long=%{lon}<extra></extra>",
         "lat": [
          32.283428
         ],
         "legendgroup": "University 302",
         "lon": [
          -106.753336
         ],
         "marker": {
          "color": "#FFA15A",
          "size": [
           2000
          ],
          "sizemode": "area",
          "sizeref": 65.625
         },
         "mode": "markers",
         "name": "University 302",
         "showlegend": true,
         "subplot": "mapbox",
         "type": "scattermapbox"
        },
        {
         "hovertemplate": "Customers=University 303<br>Invoice Amount=%{marker.size}<br>Lat=%{lat}<br>Long=%{lon}<extra></extra>",
         "lat": [
          28.052414
         ],
         "legendgroup": "University 303",
         "lon": [
          -82.560475
         ],
         "marker": {
          "color": "#19d3f3",
          "size": [
           1500
          ],
          "sizemode": "area",
          "sizeref": 65.625
         },
         "mode": "markers",
         "name": "University 303",
         "showlegend": true,
         "subplot": "mapbox",
         "type": "scattermapbox"
        },
        {
         "hovertemplate": "Customers=University 304<br>Invoice Amount=%{marker.size}<br>Lat=%{lat}<br>Long=%{lon}<extra></extra>",
         "lat": [
          34.744649
         ],
         "legendgroup": "University 304",
         "lon": [
          -82.797267
         ],
         "marker": {
          "color": "#FF6692",
          "size": [
           2500
          ],
          "sizemode": "area",
          "sizeref": 65.625
         },
         "mode": "markers",
         "name": "University 304",
         "showlegend": true,
         "subplot": "mapbox",
         "type": "scattermapbox"
        },
        {
         "hovertemplate": "Customers=University 305<br>Invoice Amount=%{marker.size}<br>Lat=%{lat}<br>Long=%{lon}<extra></extra>",
         "lat": [
          27.727590000000006
         ],
         "legendgroup": "University 305",
         "lon": [
          -82.361013
         ],
         "marker": {
          "color": "#B6E880",
          "size": [
           4300
          ],
          "sizemode": "area",
          "sizeref": 65.625
         },
         "mode": "markers",
         "name": "University 305",
         "showlegend": true,
         "subplot": "mapbox",
         "type": "scattermapbox"
        },
        {
         "hovertemplate": "Customers=University 306<br>Invoice Amount=%{marker.size}<br>Lat=%{lat}<br>Long=%{lon}<extra></extra>",
         "lat": [
          38.30699
         ],
         "legendgroup": "University 306",
         "lon": [
          -82.751009
         ],
         "marker": {
          "color": "#FF97FF",
          "size": [
           450
          ],
          "sizemode": "area",
          "sizeref": 65.625
         },
         "mode": "markers",
         "name": "University 306",
         "showlegend": true,
         "subplot": "mapbox",
         "type": "scattermapbox"
        },
        {
         "hovertemplate": "Customers=University 307<br>Invoice Amount=%{marker.size}<br>Lat=%{lat}<br>Long=%{lon}<extra></extra>",
         "lat": [
          38.631501
         ],
         "legendgroup": "University 307",
         "lon": [
          -90.19231
         ],
         "marker": {
          "color": "#FECB52",
          "size": [
           575
          ],
          "sizemode": "area",
          "sizeref": 65.625
         },
         "mode": "markers",
         "name": "University 307",
         "showlegend": true,
         "subplot": "mapbox",
         "type": "scattermapbox"
        },
        {
         "hovertemplate": "Customers=University 309<br>Invoice Amount=%{marker.size}<br>Lat=%{lat}<br>Long=%{lon}<extra></extra>",
         "lat": [
          43.072595
         ],
         "legendgroup": "University 309",
         "lon": [
          -89.421412
         ],
         "marker": {
          "color": "#636efa",
          "size": [
           1680
          ],
          "sizemode": "area",
          "sizeref": 65.625
         },
         "mode": "markers",
         "name": "University 309",
         "showlegend": true,
         "subplot": "mapbox",
         "type": "scattermapbox"
        },
        {
         "hovertemplate": "Customers=University 31<br>Invoice Amount=%{marker.size}<br>Lat=%{lat}<br>Long=%{lon}<extra></extra>",
         "lat": [
          31.229318499999998
         ],
         "legendgroup": "University 31",
         "lon": [
          -80.3076685
         ],
         "marker": {
          "color": "#EF553B",
          "size": [
           3562.5
          ],
          "sizemode": "area",
          "sizeref": 65.625
         },
         "mode": "markers",
         "name": "University 31",
         "showlegend": true,
         "subplot": "mapbox",
         "type": "scattermapbox"
        },
        {
         "hovertemplate": "Customers=University 310<br>Invoice Amount=%{marker.size}<br>Lat=%{lat}<br>Long=%{lon}<extra></extra>",
         "lat": [
          33.105259999999994
         ],
         "legendgroup": "University 310",
         "lon": [
          -86.872959
         ],
         "marker": {
          "color": "#00cc96",
          "size": [
           1125
          ],
          "sizemode": "area",
          "sizeref": 65.625
         },
         "mode": "markers",
         "name": "University 310",
         "showlegend": true,
         "subplot": "mapbox",
         "type": "scattermapbox"
        },
        {
         "hovertemplate": "Customers=University 311<br>Invoice Amount=%{marker.size}<br>Lat=%{lat}<br>Long=%{lon}<extra></extra>",
         "lat": [
          28.062
         ],
         "legendgroup": "University 311",
         "lon": [
          -82.413225
         ],
         "marker": {
          "color": "#ab63fa",
          "size": [
           2500
          ],
          "sizemode": "area",
          "sizeref": 65.625
         },
         "mode": "markers",
         "name": "University 311",
         "showlegend": true,
         "subplot": "mapbox",
         "type": "scattermapbox"
        },
        {
         "hovertemplate": "Customers=University 312<br>Invoice Amount=%{marker.size}<br>Lat=%{lat}<br>Long=%{lon}<extra></extra>",
         "lat": [
          28.062
         ],
         "legendgroup": "University 312",
         "lon": [
          -82.413225
         ],
         "marker": {
          "color": "#FFA15A",
          "size": [
           3300
          ],
          "sizemode": "area",
          "sizeref": 65.625
         },
         "mode": "markers",
         "name": "University 312",
         "showlegend": true,
         "subplot": "mapbox",
         "type": "scattermapbox"
        },
        {
         "hovertemplate": "Customers=University 313<br>Invoice Amount=%{marker.size}<br>Lat=%{lat}<br>Long=%{lon}<extra></extra>",
         "lat": [
          28.062
         ],
         "legendgroup": "University 313",
         "lon": [
          -82.413225
         ],
         "marker": {
          "color": "#19d3f3",
          "size": [
           5000
          ],
          "sizemode": "area",
          "sizeref": 65.625
         },
         "mode": "markers",
         "name": "University 313",
         "showlegend": true,
         "subplot": "mapbox",
         "type": "scattermapbox"
        },
        {
         "hovertemplate": "Customers=University 314<br>Invoice Amount=%{marker.size}<br>Lat=%{lat}<br>Long=%{lon}<extra></extra>",
         "lat": [
          33.879768
         ],
         "legendgroup": "University 314",
         "lon": [
          -117.896341
         ],
         "marker": {
          "color": "#FF6692",
          "size": [
           4000
          ],
          "sizemode": "area",
          "sizeref": 65.625
         },
         "mode": "markers",
         "name": "University 314",
         "showlegend": true,
         "subplot": "mapbox",
         "type": "scattermapbox"
        },
        {
         "hovertemplate": "Customers=University 315<br>Invoice Amount=%{marker.size}<br>Lat=%{lat}<br>Long=%{lon}<extra></extra>",
         "lat": [
          40.277742
         ],
         "legendgroup": "University 315",
         "lon": [
          -94.860299
         ],
         "marker": {
          "color": "#B6E880",
          "size": [
           562
          ],
          "sizemode": "area",
          "sizeref": 65.625
         },
         "mode": "markers",
         "name": "University 315",
         "showlegend": true,
         "subplot": "mapbox",
         "type": "scattermapbox"
        },
        {
         "hovertemplate": "Customers=University 317<br>Invoice Amount=%{marker.size}<br>Lat=%{lat}<br>Long=%{lon}<extra></extra>",
         "lat": [
          28.062
         ],
         "legendgroup": "University 317",
         "lon": [
          -82.413225
         ],
         "marker": {
          "color": "#FF97FF",
          "size": [
           4500
          ],
          "sizemode": "area",
          "sizeref": 65.625
         },
         "mode": "markers",
         "name": "University 317",
         "showlegend": true,
         "subplot": "mapbox",
         "type": "scattermapbox"
        },
        {
         "hovertemplate": "Customers=University 318<br>Invoice Amount=%{marker.size}<br>Lat=%{lat}<br>Long=%{lon}<extra></extra>",
         "lat": [
          39.206132
         ],
         "legendgroup": "University 318",
         "lon": [
          -76.887905
         ],
         "marker": {
          "color": "#FECB52",
          "size": [
           1000
          ],
          "sizemode": "area",
          "sizeref": 65.625
         },
         "mode": "markers",
         "name": "University 318",
         "showlegend": true,
         "subplot": "mapbox",
         "type": "scattermapbox"
        },
        {
         "hovertemplate": "Customers=University 319<br>Invoice Amount=%{marker.size}<br>Lat=%{lat}<br>Long=%{lon}<extra></extra>",
         "lat": [
          32.321937
         ],
         "legendgroup": "University 319",
         "lon": [
          -95.302223
         ],
         "marker": {
          "color": "#636efa",
          "size": [
           1250
          ],
          "sizemode": "area",
          "sizeref": 65.625
         },
         "mode": "markers",
         "name": "University 319",
         "showlegend": true,
         "subplot": "mapbox",
         "type": "scattermapbox"
        },
        {
         "hovertemplate": "Customers=University 32<br>Invoice Amount=%{marker.size}<br>Lat=%{lat}<br>Long=%{lon}<extra></extra>",
         "lat": [
          40.897169
         ],
         "legendgroup": "University 32",
         "lon": [
          -74.02901800000002
         ],
         "marker": {
          "color": "#EF553B",
          "size": [
           1000
          ],
          "sizemode": "area",
          "sizeref": 65.625
         },
         "mode": "markers",
         "name": "University 32",
         "showlegend": true,
         "subplot": "mapbox",
         "type": "scattermapbox"
        },
        {
         "hovertemplate": "Customers=University 320<br>Invoice Amount=%{marker.size}<br>Lat=%{lat}<br>Long=%{lon}<extra></extra>",
         "lat": [
          32.78921
         ],
         "legendgroup": "University 320",
         "lon": [
          -114.55606
         ],
         "marker": {
          "color": "#00cc96",
          "size": [
           437
          ],
          "sizemode": "area",
          "sizeref": 65.625
         },
         "mode": "markers",
         "name": "University 320",
         "showlegend": true,
         "subplot": "mapbox",
         "type": "scattermapbox"
        },
        {
         "hovertemplate": "Customers=University 321<br>Invoice Amount=%{marker.size}<br>Lat=%{lat}<br>Long=%{lon}<extra></extra>",
         "lat": [
          29.958304
         ],
         "legendgroup": "University 321",
         "lon": [
          -90.077
         ],
         "marker": {
          "color": "#ab63fa",
          "size": [
           3000
          ],
          "sizemode": "area",
          "sizeref": 65.625
         },
         "mode": "markers",
         "name": "University 321",
         "showlegend": true,
         "subplot": "mapbox",
         "type": "scattermapbox"
        },
        {
         "hovertemplate": "Customers=University 322<br>Invoice Amount=%{marker.size}<br>Lat=%{lat}<br>Long=%{lon}<extra></extra>",
         "lat": [
          33.65983
         ],
         "legendgroup": "University 322",
         "lon": [
          -87.60001
         ],
         "marker": {
          "color": "#FFA15A",
          "size": [
           1650
          ],
          "sizemode": "area",
          "sizeref": 65.625
         },
         "mode": "markers",
         "name": "University 322",
         "showlegend": true,
         "subplot": "mapbox",
         "type": "scattermapbox"
        },
        {
         "hovertemplate": "Customers=University 323<br>Invoice Amount=%{marker.size}<br>Lat=%{lat}<br>Long=%{lon}<extra></extra>",
         "lat": [
          43.65818
         ],
         "legendgroup": "University 323",
         "lon": [
          -71.50445
         ],
         "marker": {
          "color": "#19d3f3",
          "size": [
           800
          ],
          "sizemode": "area",
          "sizeref": 65.625
         },
         "mode": "markers",
         "name": "University 323",
         "showlegend": true,
         "subplot": "mapbox",
         "type": "scattermapbox"
        },
        {
         "hovertemplate": "Customers=University 324<br>Invoice Amount=%{marker.size}<br>Lat=%{lat}<br>Long=%{lon}<extra></extra>",
         "lat": [
          28.062
         ],
         "legendgroup": "University 324",
         "lon": [
          -82.413225
         ],
         "marker": {
          "color": "#FF6692",
          "size": [
           565
          ],
          "sizemode": "area",
          "sizeref": 65.625
         },
         "mode": "markers",
         "name": "University 324",
         "showlegend": true,
         "subplot": "mapbox",
         "type": "scattermapbox"
        },
        {
         "hovertemplate": "Customers=University 325<br>Invoice Amount=%{marker.size}<br>Lat=%{lat}<br>Long=%{lon}<extra></extra>",
         "lat": [
          28.062
         ],
         "legendgroup": "University 325",
         "lon": [
          -82.413225
         ],
         "marker": {
          "color": "#B6E880",
          "size": [
           2070
          ],
          "sizemode": "area",
          "sizeref": 65.625
         },
         "mode": "markers",
         "name": "University 325",
         "showlegend": true,
         "subplot": "mapbox",
         "type": "scattermapbox"
        },
        {
         "hovertemplate": "Customers=University 326<br>Invoice Amount=%{marker.size}<br>Lat=%{lat}<br>Long=%{lon}<extra></extra>",
         "lat": [
          35.841039
         ],
         "legendgroup": "University 326",
         "lon": [
          -90.675602
         ],
         "marker": {
          "color": "#FF97FF",
          "size": [
           6600
          ],
          "sizemode": "area",
          "sizeref": 65.625
         },
         "mode": "markers",
         "name": "University 326",
         "showlegend": true,
         "subplot": "mapbox",
         "type": "scattermapbox"
        },
        {
         "hovertemplate": "Customers=University 327<br>Invoice Amount=%{marker.size}<br>Lat=%{lat}<br>Long=%{lon}<extra></extra>",
         "lat": [
          28.062
         ],
         "legendgroup": "University 327",
         "lon": [
          -82.413225
         ],
         "marker": {
          "color": "#FECB52",
          "size": [
           5100
          ],
          "sizemode": "area",
          "sizeref": 65.625
         },
         "mode": "markers",
         "name": "University 327",
         "showlegend": true,
         "subplot": "mapbox",
         "type": "scattermapbox"
        },
        {
         "hovertemplate": "Customers=University 328<br>Invoice Amount=%{marker.size}<br>Lat=%{lat}<br>Long=%{lon}<extra></extra>",
         "lat": [
          40.77893
         ],
         "legendgroup": "University 328",
         "lon": [
          -77.841359
         ],
         "marker": {
          "color": "#636efa",
          "size": [
           4000
          ],
          "sizemode": "area",
          "sizeref": 65.625
         },
         "mode": "markers",
         "name": "University 328",
         "showlegend": true,
         "subplot": "mapbox",
         "type": "scattermapbox"
        },
        {
         "hovertemplate": "Customers=University 329<br>Invoice Amount=%{marker.size}<br>Lat=%{lat}<br>Long=%{lon}<extra></extra>",
         "lat": [
          43.70701
         ],
         "legendgroup": "University 329",
         "lon": [
          -72.27741
         ],
         "marker": {
          "color": "#EF553B",
          "size": [
           550
          ],
          "sizemode": "area",
          "sizeref": 65.625
         },
         "mode": "markers",
         "name": "University 329",
         "showlegend": true,
         "subplot": "mapbox",
         "type": "scattermapbox"
        },
        {
         "hovertemplate": "Customers=University 33<br>Invoice Amount=%{marker.size}<br>Lat=%{lat}<br>Long=%{lon}<extra></extra>",
         "lat": [
          36.0711618
         ],
         "legendgroup": "University 33",
         "lon": [
          -79.7917554
         ],
         "marker": {
          "color": "#00cc96",
          "size": [
           3500
          ],
          "sizemode": "area",
          "sizeref": 65.625
         },
         "mode": "markers",
         "name": "University 33",
         "showlegend": true,
         "subplot": "mapbox",
         "type": "scattermapbox"
        },
        {
         "hovertemplate": "Customers=University 330<br>Invoice Amount=%{marker.size}<br>Lat=%{lat}<br>Long=%{lon}<extra></extra>",
         "lat": [
          36.731332
         ],
         "legendgroup": "University 330",
         "lon": [
          -83.33573
         ],
         "marker": {
          "color": "#ab63fa",
          "size": [
           525
          ],
          "sizemode": "area",
          "sizeref": 65.625
         },
         "mode": "markers",
         "name": "University 330",
         "showlegend": true,
         "subplot": "mapbox",
         "type": "scattermapbox"
        },
        {
         "hovertemplate": "Customers=University 331<br>Invoice Amount=%{marker.size}<br>Lat=%{lat}<br>Long=%{lon}<extra></extra>",
         "lat": [
          28.062
         ],
         "legendgroup": "University 331",
         "lon": [
          -82.413225
         ],
         "marker": {
          "color": "#FFA15A",
          "size": [
           1750
          ],
          "sizemode": "area",
          "sizeref": 65.625
         },
         "mode": "markers",
         "name": "University 331",
         "showlegend": true,
         "subplot": "mapbox",
         "type": "scattermapbox"
        },
        {
         "hovertemplate": "Customers=University 332<br>Invoice Amount=%{marker.size}<br>Lat=%{lat}<br>Long=%{lon}<extra></extra>",
         "lat": [
          43.556574
         ],
         "legendgroup": "University 332",
         "lon": [
          -83.994328
         ],
         "marker": {
          "color": "#19d3f3",
          "size": [
           1710
          ],
          "sizemode": "area",
          "sizeref": 65.625
         },
         "mode": "markers",
         "name": "University 332",
         "showlegend": true,
         "subplot": "mapbox",
         "type": "scattermapbox"
        },
        {
         "hovertemplate": "Customers=University 333<br>Invoice Amount=%{marker.size}<br>Lat=%{lat}<br>Long=%{lon}<extra></extra>",
         "lat": [
          34.104794
         ],
         "legendgroup": "University 333",
         "lon": [
          -117.29215
         ],
         "marker": {
          "color": "#FF6692",
          "size": [
           5000
          ],
          "sizemode": "area",
          "sizeref": 65.625
         },
         "mode": "markers",
         "name": "University 333",
         "showlegend": true,
         "subplot": "mapbox",
         "type": "scattermapbox"
        },
        {
         "hovertemplate": "Customers=University 334<br>Invoice Amount=%{marker.size}<br>Lat=%{lat}<br>Long=%{lon}<extra></extra>",
         "lat": [
          35.709894
         ],
         "legendgroup": "University 334",
         "lon": [
          -98.81099
         ],
         "marker": {
          "color": "#B6E880",
          "size": [
           625
          ],
          "sizemode": "area",
          "sizeref": 65.625
         },
         "mode": "markers",
         "name": "University 334",
         "showlegend": true,
         "subplot": "mapbox",
         "type": "scattermapbox"
        },
        {
         "hovertemplate": "Customers=University 335<br>Invoice Amount=%{marker.size}<br>Lat=%{lat}<br>Long=%{lon}<extra></extra>",
         "lat": [
          35.841039
         ],
         "legendgroup": "University 335",
         "lon": [
          -90.675602
         ],
         "marker": {
          "color": "#FF97FF",
          "size": [
           5500
          ],
          "sizemode": "area",
          "sizeref": 65.625
         },
         "mode": "markers",
         "name": "University 335",
         "showlegend": true,
         "subplot": "mapbox",
         "type": "scattermapbox"
        },
        {
         "hovertemplate": "Customers=University 336<br>Invoice Amount=%{marker.size}<br>Lat=%{lat}<br>Long=%{lon}<extra></extra>",
         "lat": [
          35.841039
         ],
         "legendgroup": "University 336",
         "lon": [
          -90.675602
         ],
         "marker": {
          "color": "#FECB52",
          "size": [
           2250
          ],
          "sizemode": "area",
          "sizeref": 65.625
         },
         "mode": "markers",
         "name": "University 336",
         "showlegend": true,
         "subplot": "mapbox",
         "type": "scattermapbox"
        },
        {
         "hovertemplate": "Customers=University 337<br>Invoice Amount=%{marker.size}<br>Lat=%{lat}<br>Long=%{lon}<extra></extra>",
         "lat": [
          41.141206
         ],
         "legendgroup": "University 337",
         "lon": [
          -74.168479
         ],
         "marker": {
          "color": "#636efa",
          "size": [
           400
          ],
          "sizemode": "area",
          "sizeref": 65.625
         },
         "mode": "markers",
         "name": "University 337",
         "showlegend": true,
         "subplot": "mapbox",
         "type": "scattermapbox"
        },
        {
         "hovertemplate": "Customers=University 338<br>Invoice Amount=%{marker.size}<br>Lat=%{lat}<br>Long=%{lon}<extra></extra>",
         "lat": [
          41.906231
         ],
         "legendgroup": "University 338",
         "lon": [
          -93.154445
         ],
         "marker": {
          "color": "#EF553B",
          "size": [
           2100
          ],
          "sizemode": "area",
          "sizeref": 65.625
         },
         "mode": "markers",
         "name": "University 338",
         "showlegend": true,
         "subplot": "mapbox",
         "type": "scattermapbox"
        },
        {
         "hovertemplate": "Customers=University 339<br>Invoice Amount=%{marker.size}<br>Lat=%{lat}<br>Long=%{lon}<extra></extra>",
         "lat": [
          33.826229
         ],
         "legendgroup": "University 339",
         "lon": [
          -93.961022
         ],
         "marker": {
          "color": "#00cc96",
          "size": [
           625
          ],
          "sizemode": "area",
          "sizeref": 65.625
         },
         "mode": "markers",
         "name": "University 339",
         "showlegend": true,
         "subplot": "mapbox",
         "type": "scattermapbox"
        },
        {
         "hovertemplate": "Customers=University 34<br>Invoice Amount=%{marker.size}<br>Lat=%{lat}<br>Long=%{lon}<extra></extra>",
         "lat": [
          39.509498
         ],
         "legendgroup": "University 34",
         "lon": [
          -84.734465
         ],
         "marker": {
          "color": "#ab63fa",
          "size": [
           750
          ],
          "sizemode": "area",
          "sizeref": 65.625
         },
         "mode": "markers",
         "name": "University 34",
         "showlegend": true,
         "subplot": "mapbox",
         "type": "scattermapbox"
        },
        {
         "hovertemplate": "Customers=University 340<br>Invoice Amount=%{marker.size}<br>Lat=%{lat}<br>Long=%{lon}<extra></extra>",
         "lat": [
          36.809796
         ],
         "legendgroup": "University 340",
         "lon": [
          -84.708275
         ],
         "marker": {
          "color": "#FFA15A",
          "size": [
           4500
          ],
          "sizemode": "area",
          "sizeref": 65.625
         },
         "mode": "markers",
         "name": "University 340",
         "showlegend": true,
         "subplot": "mapbox",
         "type": "scattermapbox"
        },
        {
         "hovertemplate": "Customers=University 342<br>Invoice Amount=%{marker.size}<br>Lat=%{lat}<br>Long=%{lon}<extra></extra>",
         "lat": [
          48.124594
         ],
         "legendgroup": "University 342",
         "lon": [
          -117.762554
         ],
         "marker": {
          "color": "#19d3f3",
          "size": [
           3700
          ],
          "sizemode": "area",
          "sizeref": 65.625
         },
         "mode": "markers",
         "name": "University 342",
         "showlegend": true,
         "subplot": "mapbox",
         "type": "scattermapbox"
        },
        {
         "hovertemplate": "Customers=University 343<br>Invoice Amount=%{marker.size}<br>Lat=%{lat}<br>Long=%{lon}<extra></extra>",
         "lat": [
          28.062
         ],
         "legendgroup": "University 343",
         "lon": [
          -82.413225
         ],
         "marker": {
          "color": "#FF6692",
          "size": [
           750
          ],
          "sizemode": "area",
          "sizeref": 65.625
         },
         "mode": "markers",
         "name": "University 343",
         "showlegend": true,
         "subplot": "mapbox",
         "type": "scattermapbox"
        },
        {
         "hovertemplate": "Customers=University 344<br>Invoice Amount=%{marker.size}<br>Lat=%{lat}<br>Long=%{lon}<extra></extra>",
         "lat": [
          43.212556
         ],
         "legendgroup": "University 344",
         "lon": [
          -78.82587099999998
         ],
         "marker": {
          "color": "#B6E880",
          "size": [
           1976.3
          ],
          "sizemode": "area",
          "sizeref": 65.625
         },
         "mode": "markers",
         "name": "University 344",
         "showlegend": true,
         "subplot": "mapbox",
         "type": "scattermapbox"
        },
        {
         "hovertemplate": "Customers=University 347<br>Invoice Amount=%{marker.size}<br>Lat=%{lat}<br>Long=%{lon}<extra></extra>",
         "lat": [
          44.73663
         ],
         "legendgroup": "University 347",
         "lon": [
          -72.199084
         ],
         "marker": {
          "color": "#FF97FF",
          "size": [
           2300
          ],
          "sizemode": "area",
          "sizeref": 65.625
         },
         "mode": "markers",
         "name": "University 347",
         "showlegend": true,
         "subplot": "mapbox",
         "type": "scattermapbox"
        },
        {
         "hovertemplate": "Customers=University 348<br>Invoice Amount=%{marker.size}<br>Lat=%{lat}<br>Long=%{lon}<extra></extra>",
         "lat": [
          46.814054
         ],
         "legendgroup": "University 348",
         "lon": [
          -92.087367
         ],
         "marker": {
          "color": "#FECB52",
          "size": [
           5090
          ],
          "sizemode": "area",
          "sizeref": 65.625
         },
         "mode": "markers",
         "name": "University 348",
         "showlegend": true,
         "subplot": "mapbox",
         "type": "scattermapbox"
        },
        {
         "hovertemplate": "Customers=University 349<br>Invoice Amount=%{marker.size}<br>Lat=%{lat}<br>Long=%{lon}<extra></extra>",
         "lat": [
          28.062
         ],
         "legendgroup": "University 349",
         "lon": [
          -82.413225
         ],
         "marker": {
          "color": "#636efa",
          "size": [
           2000
          ],
          "sizemode": "area",
          "sizeref": 65.625
         },
         "mode": "markers",
         "name": "University 349",
         "showlegend": true,
         "subplot": "mapbox",
         "type": "scattermapbox"
        },
        {
         "hovertemplate": "Customers=University 35<br>Invoice Amount=%{marker.size}<br>Lat=%{lat}<br>Long=%{lon}<extra></extra>",
         "lat": [
          33.656727000000004
         ],
         "legendgroup": "University 35",
         "lon": [
          -117.82508999999999
         ],
         "marker": {
          "color": "#EF553B",
          "size": [
           2525
          ],
          "sizemode": "area",
          "sizeref": 65.625
         },
         "mode": "markers",
         "name": "University 35",
         "showlegend": true,
         "subplot": "mapbox",
         "type": "scattermapbox"
        },
        {
         "hovertemplate": "Customers=University 350<br>Invoice Amount=%{marker.size}<br>Lat=%{lat}<br>Long=%{lon}<extra></extra>",
         "lat": [
          28.062
         ],
         "legendgroup": "University 350",
         "lon": [
          -82.413225
         ],
         "marker": {
          "color": "#00cc96",
          "size": [
           800
          ],
          "sizemode": "area",
          "sizeref": 65.625
         },
         "mode": "markers",
         "name": "University 350",
         "showlegend": true,
         "subplot": "mapbox",
         "type": "scattermapbox"
        },
        {
         "hovertemplate": "Customers=University 351<br>Invoice Amount=%{marker.size}<br>Lat=%{lat}<br>Long=%{lon}<extra></extra>",
         "lat": [
          40.10789000000001
         ],
         "legendgroup": "University 351",
         "lon": [
          -88.24426600000002
         ],
         "marker": {
          "color": "#ab63fa",
          "size": [
           2480
          ],
          "sizemode": "area",
          "sizeref": 65.625
         },
         "mode": "markers",
         "name": "University 351",
         "showlegend": true,
         "subplot": "mapbox",
         "type": "scattermapbox"
        },
        {
         "hovertemplate": "Customers=University 352<br>Invoice Amount=%{marker.size}<br>Lat=%{lat}<br>Long=%{lon}<extra></extra>",
         "lat": [
          28.062
         ],
         "legendgroup": "University 352",
         "lon": [
          -82.413225
         ],
         "marker": {
          "color": "#FFA15A",
          "size": [
           625
          ],
          "sizemode": "area",
          "sizeref": 65.625
         },
         "mode": "markers",
         "name": "University 352",
         "showlegend": true,
         "subplot": "mapbox",
         "type": "scattermapbox"
        },
        {
         "hovertemplate": "Customers=University 353<br>Invoice Amount=%{marker.size}<br>Lat=%{lat}<br>Long=%{lon}<extra></extra>",
         "lat": [
          35.29838
         ],
         "legendgroup": "University 353",
         "lon": [
          -105.392788
         ],
         "marker": {
          "color": "#19d3f3",
          "size": [
           1250
          ],
          "sizemode": "area",
          "sizeref": 65.625
         },
         "mode": "markers",
         "name": "University 353",
         "showlegend": true,
         "subplot": "mapbox",
         "type": "scattermapbox"
        },
        {
         "hovertemplate": "Customers=University 354<br>Invoice Amount=%{marker.size}<br>Lat=%{lat}<br>Long=%{lon}<extra></extra>",
         "lat": [
          40.114729
         ],
         "legendgroup": "University 354",
         "lon": [
          -84.493439
         ],
         "marker": {
          "color": "#FF6692",
          "size": [
           2000
          ],
          "sizemode": "area",
          "sizeref": 65.625
         },
         "mode": "markers",
         "name": "University 354",
         "showlegend": true,
         "subplot": "mapbox",
         "type": "scattermapbox"
        },
        {
         "hovertemplate": "Customers=University 355<br>Invoice Amount=%{marker.size}<br>Lat=%{lat}<br>Long=%{lon}<extra></extra>",
         "lat": [
          44.796635
         ],
         "legendgroup": "University 355",
         "lon": [
          -91.506154
         ],
         "marker": {
          "color": "#B6E880",
          "size": [
           4650
          ],
          "sizemode": "area",
          "sizeref": 65.625
         },
         "mode": "markers",
         "name": "University 355",
         "showlegend": true,
         "subplot": "mapbox",
         "type": "scattermapbox"
        },
        {
         "hovertemplate": "Customers=University 356<br>Invoice Amount=%{marker.size}<br>Lat=%{lat}<br>Long=%{lon}<extra></extra>",
         "lat": [
          37.86923400000001
         ],
         "legendgroup": "University 356",
         "lon": [
          -122.289657
         ],
         "marker": {
          "color": "#FF97FF",
          "size": [
           875
          ],
          "sizemode": "area",
          "sizeref": 65.625
         },
         "mode": "markers",
         "name": "University 356",
         "showlegend": true,
         "subplot": "mapbox",
         "type": "scattermapbox"
        },
        {
         "hovertemplate": "Customers=University 357<br>Invoice Amount=%{marker.size}<br>Lat=%{lat}<br>Long=%{lon}<extra></extra>",
         "lat": [
          28.062
         ],
         "legendgroup": "University 357",
         "lon": [
          -82.413225
         ],
         "marker": {
          "color": "#FECB52",
          "size": [
           587
          ],
          "sizemode": "area",
          "sizeref": 65.625
         },
         "mode": "markers",
         "name": "University 357",
         "showlegend": true,
         "subplot": "mapbox",
         "type": "scattermapbox"
        },
        {
         "hovertemplate": "Customers=University 359<br>Invoice Amount=%{marker.size}<br>Lat=%{lat}<br>Long=%{lon}<extra></extra>",
         "lat": [
          41.21479
         ],
         "legendgroup": "University 359",
         "lon": [
          -79.38532
         ],
         "marker": {
          "color": "#636efa",
          "size": [
           4500
          ],
          "sizemode": "area",
          "sizeref": 65.625
         },
         "mode": "markers",
         "name": "University 359",
         "showlegend": true,
         "subplot": "mapbox",
         "type": "scattermapbox"
        },
        {
         "hovertemplate": "Customers=University 36<br>Invoice Amount=%{marker.size}<br>Lat=%{lat}<br>Long=%{lon}<extra></extra>",
         "lat": [
          37.0574582
         ],
         "legendgroup": "University 36",
         "lon": [
          -114.24576640000001
         ],
         "marker": {
          "color": "#EF553B",
          "size": [
           2700
          ],
          "sizemode": "area",
          "sizeref": 65.625
         },
         "mode": "markers",
         "name": "University 36",
         "showlegend": true,
         "subplot": "mapbox",
         "type": "scattermapbox"
        },
        {
         "hovertemplate": "Customers=University 360<br>Invoice Amount=%{marker.size}<br>Lat=%{lat}<br>Long=%{lon}<extra></extra>",
         "lat": [
          40.43448400000001
         ],
         "legendgroup": "University 360",
         "lon": [
          -91.776
         ],
         "marker": {
          "color": "#00cc96",
          "size": [
           3000
          ],
          "sizemode": "area",
          "sizeref": 65.625
         },
         "mode": "markers",
         "name": "University 360",
         "showlegend": true,
         "subplot": "mapbox",
         "type": "scattermapbox"
        },
        {
         "hovertemplate": "Customers=University 361<br>Invoice Amount=%{marker.size}<br>Lat=%{lat}<br>Long=%{lon}<extra></extra>",
         "lat": [
          42.170731
         ],
         "legendgroup": "University 361",
         "lon": [
          -72.604842
         ],
         "marker": {
          "color": "#ab63fa",
          "size": [
           625
          ],
          "sizemode": "area",
          "sizeref": 65.625
         },
         "mode": "markers",
         "name": "University 361",
         "showlegend": true,
         "subplot": "mapbox",
         "type": "scattermapbox"
        },
        {
         "hovertemplate": "Customers=University 362<br>Invoice Amount=%{marker.size}<br>Lat=%{lat}<br>Long=%{lon}<extra></extra>",
         "lat": [
          41.87272
         ],
         "legendgroup": "University 362",
         "lon": [
          -88.112442
         ],
         "marker": {
          "color": "#FFA15A",
          "size": [
           512.5
          ],
          "sizemode": "area",
          "sizeref": 65.625
         },
         "mode": "markers",
         "name": "University 362",
         "showlegend": true,
         "subplot": "mapbox",
         "type": "scattermapbox"
        },
        {
         "hovertemplate": "Customers=University 363<br>Invoice Amount=%{marker.size}<br>Lat=%{lat}<br>Long=%{lon}<extra></extra>",
         "lat": [
          30.73851
         ],
         "legendgroup": "University 363",
         "lon": [
          -99.11144
         ],
         "marker": {
          "color": "#19d3f3",
          "size": [
           500
          ],
          "sizemode": "area",
          "sizeref": 65.625
         },
         "mode": "markers",
         "name": "University 363",
         "showlegend": true,
         "subplot": "mapbox",
         "type": "scattermapbox"
        },
        {
         "hovertemplate": "Customers=University 365<br>Invoice Amount=%{marker.size}<br>Lat=%{lat}<br>Long=%{lon}<extra></extra>",
         "lat": [
          46.842028000000006
         ],
         "legendgroup": "University 365",
         "lon": [
          -96.735563
         ],
         "marker": {
          "color": "#FF6692",
          "size": [
           1550
          ],
          "sizemode": "area",
          "sizeref": 65.625
         },
         "mode": "markers",
         "name": "University 365",
         "showlegend": true,
         "subplot": "mapbox",
         "type": "scattermapbox"
        },
        {
         "hovertemplate": "Customers=University 366<br>Invoice Amount=%{marker.size}<br>Lat=%{lat}<br>Long=%{lon}<extra></extra>",
         "lat": [
          28.062
         ],
         "legendgroup": "University 366",
         "lon": [
          -82.413225
         ],
         "marker": {
          "color": "#B6E880",
          "size": [
           391
          ],
          "sizemode": "area",
          "sizeref": 65.625
         },
         "mode": "markers",
         "name": "University 366",
         "showlegend": true,
         "subplot": "mapbox",
         "type": "scattermapbox"
        },
        {
         "hovertemplate": "Customers=University 368<br>Invoice Amount=%{marker.size}<br>Lat=%{lat}<br>Long=%{lon}<extra></extra>",
         "lat": [
          45.408173
         ],
         "legendgroup": "University 368",
         "lon": [
          -122.922323
         ],
         "marker": {
          "color": "#FF97FF",
          "size": [
           1840
          ],
          "sizemode": "area",
          "sizeref": 65.625
         },
         "mode": "markers",
         "name": "University 368",
         "showlegend": true,
         "subplot": "mapbox",
         "type": "scattermapbox"
        },
        {
         "hovertemplate": "Customers=University 37<br>Invoice Amount=%{marker.size}<br>Lat=%{lat}<br>Long=%{lon}<extra></extra>",
         "lat": [
          39.65839
         ],
         "legendgroup": "University 37",
         "lon": [
          -75.717762
         ],
         "marker": {
          "color": "#FECB52",
          "size": [
           3500
          ],
          "sizemode": "area",
          "sizeref": 65.625
         },
         "mode": "markers",
         "name": "University 37",
         "showlegend": true,
         "subplot": "mapbox",
         "type": "scattermapbox"
        },
        {
         "hovertemplate": "Customers=University 371<br>Invoice Amount=%{marker.size}<br>Lat=%{lat}<br>Long=%{lon}<extra></extra>",
         "lat": [
          30.24171
         ],
         "legendgroup": "University 371",
         "lon": [
          -91.991044
         ],
         "marker": {
          "color": "#636efa",
          "size": [
           875
          ],
          "sizemode": "area",
          "sizeref": 65.625
         },
         "mode": "markers",
         "name": "University 371",
         "showlegend": true,
         "subplot": "mapbox",
         "type": "scattermapbox"
        },
        {
         "hovertemplate": "Customers=University 372<br>Invoice Amount=%{marker.size}<br>Lat=%{lat}<br>Long=%{lon}<extra></extra>",
         "lat": [
          35.53971
         ],
         "legendgroup": "University 372",
         "lon": [
          -79.130864
         ],
         "marker": {
          "color": "#EF553B",
          "size": [
           2000
          ],
          "sizemode": "area",
          "sizeref": 65.625
         },
         "mode": "markers",
         "name": "University 372",
         "showlegend": true,
         "subplot": "mapbox",
         "type": "scattermapbox"
        },
        {
         "hovertemplate": "Customers=University 373<br>Invoice Amount=%{marker.size}<br>Lat=%{lat}<br>Long=%{lon}<extra></extra>",
         "lat": [
          32.283341
         ],
         "legendgroup": "University 373",
         "lon": [
          -95.263047
         ],
         "marker": {
          "color": "#00cc96",
          "size": [
           355
          ],
          "sizemode": "area",
          "sizeref": 65.625
         },
         "mode": "markers",
         "name": "University 373",
         "showlegend": true,
         "subplot": "mapbox",
         "type": "scattermapbox"
        },
        {
         "hovertemplate": "Customers=University 375<br>Invoice Amount=%{marker.size}<br>Lat=%{lat}<br>Long=%{lon}<extra></extra>",
         "lat": [
          45.558622
         ],
         "legendgroup": "University 375",
         "lon": [
          -84.391695
         ],
         "marker": {
          "color": "#ab63fa",
          "size": [
           2750
          ],
          "sizemode": "area",
          "sizeref": 65.625
         },
         "mode": "markers",
         "name": "University 375",
         "showlegend": true,
         "subplot": "mapbox",
         "type": "scattermapbox"
        },
        {
         "hovertemplate": "Customers=University 377<br>Invoice Amount=%{marker.size}<br>Lat=%{lat}<br>Long=%{lon}<extra></extra>",
         "lat": [
          38.970388
         ],
         "legendgroup": "University 377",
         "lon": [
          -76.941919
         ],
         "marker": {
          "color": "#FFA15A",
          "size": [
           2000
          ],
          "sizemode": "area",
          "sizeref": 65.625
         },
         "mode": "markers",
         "name": "University 377",
         "showlegend": true,
         "subplot": "mapbox",
         "type": "scattermapbox"
        },
        {
         "hovertemplate": "Customers=University 378<br>Invoice Amount=%{marker.size}<br>Lat=%{lat}<br>Long=%{lon}<extra></extra>",
         "lat": [
          44.802351
         ],
         "legendgroup": "University 378",
         "lon": [
          -92.595365
         ],
         "marker": {
          "color": "#19d3f3",
          "size": [
           1481
          ],
          "sizemode": "area",
          "sizeref": 65.625
         },
         "mode": "markers",
         "name": "University 378",
         "showlegend": true,
         "subplot": "mapbox",
         "type": "scattermapbox"
        },
        {
         "hovertemplate": "Customers=University 379<br>Invoice Amount=%{marker.size}<br>Lat=%{lat}<br>Long=%{lon}<extra></extra>",
         "lat": [
          35.841039
         ],
         "legendgroup": "University 379",
         "lon": [
          -90.675602
         ],
         "marker": {
          "color": "#FF6692",
          "size": [
           1270
          ],
          "sizemode": "area",
          "sizeref": 65.625
         },
         "mode": "markers",
         "name": "University 379",
         "showlegend": true,
         "subplot": "mapbox",
         "type": "scattermapbox"
        },
        {
         "hovertemplate": "Customers=University 38<br>Invoice Amount=%{marker.size}<br>Lat=%{lat}<br>Long=%{lon}<extra></extra>",
         "lat": [
          35.5337762
         ],
         "legendgroup": "University 38",
         "lon": [
          -85.96286239999999
         ],
         "marker": {
          "color": "#B6E880",
          "size": [
           1800
          ],
          "sizemode": "area",
          "sizeref": 65.625
         },
         "mode": "markers",
         "name": "University 38",
         "showlegend": true,
         "subplot": "mapbox",
         "type": "scattermapbox"
        },
        {
         "hovertemplate": "Customers=University 380<br>Invoice Amount=%{marker.size}<br>Lat=%{lat}<br>Long=%{lon}<extra></extra>",
         "lat": [
          34.173057
         ],
         "legendgroup": "University 380",
         "lon": [
          -90.136429
         ],
         "marker": {
          "color": "#FF97FF",
          "size": [
           2500
          ],
          "sizemode": "area",
          "sizeref": 65.625
         },
         "mode": "markers",
         "name": "University 380",
         "showlegend": true,
         "subplot": "mapbox",
         "type": "scattermapbox"
        },
        {
         "hovertemplate": "Customers=University 384<br>Invoice Amount=%{marker.size}<br>Lat=%{lat}<br>Long=%{lon}<extra></extra>",
         "lat": [
          48.124594
         ],
         "legendgroup": "University 384",
         "lon": [
          -117.762554
         ],
         "marker": {
          "color": "#FECB52",
          "size": [
           1030
          ],
          "sizemode": "area",
          "sizeref": 65.625
         },
         "mode": "markers",
         "name": "University 384",
         "showlegend": true,
         "subplot": "mapbox",
         "type": "scattermapbox"
        },
        {
         "hovertemplate": "Customers=University 385<br>Invoice Amount=%{marker.size}<br>Lat=%{lat}<br>Long=%{lon}<extra></extra>",
         "lat": [
          42.42282700000001
         ],
         "legendgroup": "University 385",
         "lon": [
          -78.206289
         ],
         "marker": {
          "color": "#636efa",
          "size": [
           2500
          ],
          "sizemode": "area",
          "sizeref": 65.625
         },
         "mode": "markers",
         "name": "University 385",
         "showlegend": true,
         "subplot": "mapbox",
         "type": "scattermapbox"
        },
        {
         "hovertemplate": "Customers=University 387<br>Invoice Amount=%{marker.size}<br>Lat=%{lat}<br>Long=%{lon}<extra></extra>",
         "lat": [
          33.826229
         ],
         "legendgroup": "University 387",
         "lon": [
          -93.961022
         ],
         "marker": {
          "color": "#EF553B",
          "size": [
           125
          ],
          "sizemode": "area",
          "sizeref": 65.625
         },
         "mode": "markers",
         "name": "University 387",
         "showlegend": true,
         "subplot": "mapbox",
         "type": "scattermapbox"
        },
        {
         "hovertemplate": "Customers=University 388<br>Invoice Amount=%{marker.size}<br>Lat=%{lat}<br>Long=%{lon}<extra></extra>",
         "lat": [
          35.841039
         ],
         "legendgroup": "University 388",
         "lon": [
          -90.675602
         ],
         "marker": {
          "color": "#00cc96",
          "size": [
           3250
          ],
          "sizemode": "area",
          "sizeref": 65.625
         },
         "mode": "markers",
         "name": "University 388",
         "showlegend": true,
         "subplot": "mapbox",
         "type": "scattermapbox"
        },
        {
         "hovertemplate": "Customers=University 39<br>Invoice Amount=%{marker.size}<br>Lat=%{lat}<br>Long=%{lon}<extra></extra>",
         "lat": [
          35.38908125
         ],
         "legendgroup": "University 39",
         "lon": [
          -89.15217799999999
         ],
         "marker": {
          "color": "#ab63fa",
          "size": [
           2150
          ],
          "sizemode": "area",
          "sizeref": 65.625
         },
         "mode": "markers",
         "name": "University 39",
         "showlegend": true,
         "subplot": "mapbox",
         "type": "scattermapbox"
        },
        {
         "hovertemplate": "Customers=University 390<br>Invoice Amount=%{marker.size}<br>Lat=%{lat}<br>Long=%{lon}<extra></extra>",
         "lat": [
          35.841039
         ],
         "legendgroup": "University 390",
         "lon": [
          -90.675602
         ],
         "marker": {
          "color": "#FFA15A",
          "size": [
           2500
          ],
          "sizemode": "area",
          "sizeref": 65.625
         },
         "mode": "markers",
         "name": "University 390",
         "showlegend": true,
         "subplot": "mapbox",
         "type": "scattermapbox"
        },
        {
         "hovertemplate": "Customers=University 392<br>Invoice Amount=%{marker.size}<br>Lat=%{lat}<br>Long=%{lon}<extra></extra>",
         "lat": [
          38.380263
         ],
         "legendgroup": "University 392",
         "lon": [
          -81.76714100000002
         ],
         "marker": {
          "color": "#19d3f3",
          "size": [
           800
          ],
          "sizemode": "area",
          "sizeref": 65.625
         },
         "mode": "markers",
         "name": "University 392",
         "showlegend": true,
         "subplot": "mapbox",
         "type": "scattermapbox"
        },
        {
         "hovertemplate": "Customers=University 393<br>Invoice Amount=%{marker.size}<br>Lat=%{lat}<br>Long=%{lon}<extra></extra>",
         "lat": [
          39.591282
         ],
         "legendgroup": "University 393",
         "lon": [
          -87.113196
         ],
         "marker": {
          "color": "#FF6692",
          "size": [
           2250
          ],
          "sizemode": "area",
          "sizeref": 65.625
         },
         "mode": "markers",
         "name": "University 393",
         "showlegend": true,
         "subplot": "mapbox",
         "type": "scattermapbox"
        },
        {
         "hovertemplate": "Customers=University 394<br>Invoice Amount=%{marker.size}<br>Lat=%{lat}<br>Long=%{lon}<extra></extra>",
         "lat": [
          39.330076
         ],
         "legendgroup": "University 394",
         "lon": [
          -76.61240500000002
         ],
         "marker": {
          "color": "#B6E880",
          "size": [
           2500
          ],
          "sizemode": "area",
          "sizeref": 65.625
         },
         "mode": "markers",
         "name": "University 394",
         "showlegend": true,
         "subplot": "mapbox",
         "type": "scattermapbox"
        },
        {
         "hovertemplate": "Customers=University 395<br>Invoice Amount=%{marker.size}<br>Lat=%{lat}<br>Long=%{lon}<extra></extra>",
         "lat": [
          28.062
         ],
         "legendgroup": "University 395",
         "lon": [
          -82.413225
         ],
         "marker": {
          "color": "#FF97FF",
          "size": [
           3250
          ],
          "sizemode": "area",
          "sizeref": 65.625
         },
         "mode": "markers",
         "name": "University 395",
         "showlegend": true,
         "subplot": "mapbox",
         "type": "scattermapbox"
        },
        {
         "hovertemplate": "Customers=University 396<br>Invoice Amount=%{marker.size}<br>Lat=%{lat}<br>Long=%{lon}<extra></extra>",
         "lat": [
          28.062
         ],
         "legendgroup": "University 396",
         "lon": [
          -82.413225
         ],
         "marker": {
          "color": "#FECB52",
          "size": [
           1250
          ],
          "sizemode": "area",
          "sizeref": 65.625
         },
         "mode": "markers",
         "name": "University 396",
         "showlegend": true,
         "subplot": "mapbox",
         "type": "scattermapbox"
        },
        {
         "hovertemplate": "Customers=University 398<br>Invoice Amount=%{marker.size}<br>Lat=%{lat}<br>Long=%{lon}<extra></extra>",
         "lat": [
          48.124594
         ],
         "legendgroup": "University 398",
         "lon": [
          -117.762554
         ],
         "marker": {
          "color": "#636efa",
          "size": [
           400
          ],
          "sizemode": "area",
          "sizeref": 65.625
         },
         "mode": "markers",
         "name": "University 398",
         "showlegend": true,
         "subplot": "mapbox",
         "type": "scattermapbox"
        },
        {
         "hovertemplate": "Customers=University 399<br>Invoice Amount=%{marker.size}<br>Lat=%{lat}<br>Long=%{lon}<extra></extra>",
         "lat": [
          38.978405
         ],
         "legendgroup": "University 399",
         "lon": [
          -79.94941700000003
         ],
         "marker": {
          "color": "#EF553B",
          "size": [
           1500
          ],
          "sizemode": "area",
          "sizeref": 65.625
         },
         "mode": "markers",
         "name": "University 399",
         "showlegend": true,
         "subplot": "mapbox",
         "type": "scattermapbox"
        },
        {
         "hovertemplate": "Customers=University 40<br>Invoice Amount=%{marker.size}<br>Lat=%{lat}<br>Long=%{lon}<extra></extra>",
         "lat": [
          35.050377000000005
         ],
         "legendgroup": "University 40",
         "lon": [
          -80.949466
         ],
         "marker": {
          "color": "#00cc96",
          "size": [
           750
          ],
          "sizemode": "area",
          "sizeref": 65.625
         },
         "mode": "markers",
         "name": "University 40",
         "showlegend": true,
         "subplot": "mapbox",
         "type": "scattermapbox"
        },
        {
         "hovertemplate": "Customers=University 400<br>Invoice Amount=%{marker.size}<br>Lat=%{lat}<br>Long=%{lon}<extra></extra>",
         "lat": [
          43.13867
         ],
         "legendgroup": "University 400",
         "lon": [
          -79.03893000000002
         ],
         "marker": {
          "color": "#ab63fa",
          "size": [
           1403.3333333333333
          ],
          "sizemode": "area",
          "sizeref": 65.625
         },
         "mode": "markers",
         "name": "University 400",
         "showlegend": true,
         "subplot": "mapbox",
         "type": "scattermapbox"
        },
        {
         "hovertemplate": "Customers=University 401<br>Invoice Amount=%{marker.size}<br>Lat=%{lat}<br>Long=%{lon}<extra></extra>",
         "lat": [
          42.31296
         ],
         "legendgroup": "University 401",
         "lon": [
          -83.374549
         ],
         "marker": {
          "color": "#FFA15A",
          "size": [
           450
          ],
          "sizemode": "area",
          "sizeref": 65.625
         },
         "mode": "markers",
         "name": "University 401",
         "showlegend": true,
         "subplot": "mapbox",
         "type": "scattermapbox"
        },
        {
         "hovertemplate": "Customers=University 402<br>Invoice Amount=%{marker.size}<br>Lat=%{lat}<br>Long=%{lon}<extra></extra>",
         "lat": [
          41.477816
         ],
         "legendgroup": "University 402",
         "lon": [
          -87.683188
         ],
         "marker": {
          "color": "#19d3f3",
          "size": [
           8880
          ],
          "sizemode": "area",
          "sizeref": 65.625
         },
         "mode": "markers",
         "name": "University 402",
         "showlegend": true,
         "subplot": "mapbox",
         "type": "scattermapbox"
        },
        {
         "hovertemplate": "Customers=University 404<br>Invoice Amount=%{marker.size}<br>Lat=%{lat}<br>Long=%{lon}<extra></extra>",
         "lat": [
          37.765177
         ],
         "legendgroup": "University 404",
         "lon": [
          -121.115411
         ],
         "marker": {
          "color": "#FF6692",
          "size": [
           1900
          ],
          "sizemode": "area",
          "sizeref": 65.625
         },
         "mode": "markers",
         "name": "University 404",
         "showlegend": true,
         "subplot": "mapbox",
         "type": "scattermapbox"
        },
        {
         "hovertemplate": "Customers=University 405<br>Invoice Amount=%{marker.size}<br>Lat=%{lat}<br>Long=%{lon}<extra></extra>",
         "lat": [
          47.666487
         ],
         "legendgroup": "University 405",
         "lon": [
          -122.309849
         ],
         "marker": {
          "color": "#B6E880",
          "size": [
           700
          ],
          "sizemode": "area",
          "sizeref": 65.625
         },
         "mode": "markers",
         "name": "University 405",
         "showlegend": true,
         "subplot": "mapbox",
         "type": "scattermapbox"
        },
        {
         "hovertemplate": "Customers=University 406<br>Invoice Amount=%{marker.size}<br>Lat=%{lat}<br>Long=%{lon}<extra></extra>",
         "lat": [
          35.841039
         ],
         "legendgroup": "University 406",
         "lon": [
          -90.675602
         ],
         "marker": {
          "color": "#FF97FF",
          "size": [
           1625
          ],
          "sizemode": "area",
          "sizeref": 65.625
         },
         "mode": "markers",
         "name": "University 406",
         "showlegend": true,
         "subplot": "mapbox",
         "type": "scattermapbox"
        },
        {
         "hovertemplate": "Customers=University 407<br>Invoice Amount=%{marker.size}<br>Lat=%{lat}<br>Long=%{lon}<extra></extra>",
         "lat": [
          40.905139
         ],
         "legendgroup": "University 407",
         "lon": [
          -72.888349
         ],
         "marker": {
          "color": "#FECB52",
          "size": [
           395
          ],
          "sizemode": "area",
          "sizeref": 65.625
         },
         "mode": "markers",
         "name": "University 407",
         "showlegend": true,
         "subplot": "mapbox",
         "type": "scattermapbox"
        },
        {
         "hovertemplate": "Customers=University 408<br>Invoice Amount=%{marker.size}<br>Lat=%{lat}<br>Long=%{lon}<extra></extra>",
         "lat": [
          28.062
         ],
         "legendgroup": "University 408",
         "lon": [
          -82.413225
         ],
         "marker": {
          "color": "#636efa",
          "size": [
           500
          ],
          "sizemode": "area",
          "sizeref": 65.625
         },
         "mode": "markers",
         "name": "University 408",
         "showlegend": true,
         "subplot": "mapbox",
         "type": "scattermapbox"
        },
        {
         "hovertemplate": "Customers=University 41<br>Invoice Amount=%{marker.size}<br>Lat=%{lat}<br>Long=%{lon}<extra></extra>",
         "lat": [
          26.384204
         ],
         "legendgroup": "University 41",
         "lon": [
          -80.14575
         ],
         "marker": {
          "color": "#EF553B",
          "size": [
           750
          ],
          "sizemode": "area",
          "sizeref": 65.625
         },
         "mode": "markers",
         "name": "University 41",
         "showlegend": true,
         "subplot": "mapbox",
         "type": "scattermapbox"
        },
        {
         "hovertemplate": "Customers=University 411<br>Invoice Amount=%{marker.size}<br>Lat=%{lat}<br>Long=%{lon}<extra></extra>",
         "lat": [
          38.841819
         ],
         "legendgroup": "University 411",
         "lon": [
          -89.877841
         ],
         "marker": {
          "color": "#00cc96",
          "size": [
           4700
          ],
          "sizemode": "area",
          "sizeref": 65.625
         },
         "mode": "markers",
         "name": "University 411",
         "showlegend": true,
         "subplot": "mapbox",
         "type": "scattermapbox"
        },
        {
         "hovertemplate": "Customers=University 412<br>Invoice Amount=%{marker.size}<br>Lat=%{lat}<br>Long=%{lon}<extra></extra>",
         "lat": [
          28.062
         ],
         "legendgroup": "University 412",
         "lon": [
          -82.413225
         ],
         "marker": {
          "color": "#ab63fa",
          "size": [
           1640
          ],
          "sizemode": "area",
          "sizeref": 65.625
         },
         "mode": "markers",
         "name": "University 412",
         "showlegend": true,
         "subplot": "mapbox",
         "type": "scattermapbox"
        },
        {
         "hovertemplate": "Customers=University 413<br>Invoice Amount=%{marker.size}<br>Lat=%{lat}<br>Long=%{lon}<extra></extra>",
         "lat": [
          35.49426
         ],
         "legendgroup": "University 413",
         "lon": [
          -95.30552
         ],
         "marker": {
          "color": "#FFA15A",
          "size": [
           4800
          ],
          "sizemode": "area",
          "sizeref": 65.625
         },
         "mode": "markers",
         "name": "University 413",
         "showlegend": true,
         "subplot": "mapbox",
         "type": "scattermapbox"
        },
        {
         "hovertemplate": "Customers=University 414<br>Invoice Amount=%{marker.size}<br>Lat=%{lat}<br>Long=%{lon}<extra></extra>",
         "lat": [
          39.950948
         ],
         "legendgroup": "University 414",
         "lon": [
          -105.159078
         ],
         "marker": {
          "color": "#19d3f3",
          "size": [
           4500
          ],
          "sizemode": "area",
          "sizeref": 65.625
         },
         "mode": "markers",
         "name": "University 414",
         "showlegend": true,
         "subplot": "mapbox",
         "type": "scattermapbox"
        },
        {
         "hovertemplate": "Customers=University 417<br>Invoice Amount=%{marker.size}<br>Lat=%{lat}<br>Long=%{lon}<extra></extra>",
         "lat": [
          28.062
         ],
         "legendgroup": "University 417",
         "lon": [
          -82.413225
         ],
         "marker": {
          "color": "#FF6692",
          "size": [
           425
          ],
          "sizemode": "area",
          "sizeref": 65.625
         },
         "mode": "markers",
         "name": "University 417",
         "showlegend": true,
         "subplot": "mapbox",
         "type": "scattermapbox"
        },
        {
         "hovertemplate": "Customers=University 419<br>Invoice Amount=%{marker.size}<br>Lat=%{lat}<br>Long=%{lon}<extra></extra>",
         "lat": [
          35.841039
         ],
         "legendgroup": "University 419",
         "lon": [
          -90.675602
         ],
         "marker": {
          "color": "#B6E880",
          "size": [
           562
          ],
          "sizemode": "area",
          "sizeref": 65.625
         },
         "mode": "markers",
         "name": "University 419",
         "showlegend": true,
         "subplot": "mapbox",
         "type": "scattermapbox"
        },
        {
         "hovertemplate": "Customers=University 42<br>Invoice Amount=%{marker.size}<br>Lat=%{lat}<br>Long=%{lon}<extra></extra>",
         "lat": [
          31.2177205
         ],
         "legendgroup": "University 42",
         "lon": [
          -89.777409
         ],
         "marker": {
          "color": "#FF97FF",
          "size": [
           25500
          ],
          "sizemode": "area",
          "sizeref": 65.625
         },
         "mode": "markers",
         "name": "University 42",
         "showlegend": true,
         "subplot": "mapbox",
         "type": "scattermapbox"
        },
        {
         "hovertemplate": "Customers=University 420<br>Invoice Amount=%{marker.size}<br>Lat=%{lat}<br>Long=%{lon}<extra></extra>",
         "lat": [
          48.630369
         ],
         "legendgroup": "University 420",
         "lon": [
          -97.471056
         ],
         "marker": {
          "color": "#FECB52",
          "size": [
           3366
          ],
          "sizemode": "area",
          "sizeref": 65.625
         },
         "mode": "markers",
         "name": "University 420",
         "showlegend": true,
         "subplot": "mapbox",
         "type": "scattermapbox"
        },
        {
         "hovertemplate": "Customers=University 421<br>Invoice Amount=%{marker.size}<br>Lat=%{lat}<br>Long=%{lon}<extra></extra>",
         "lat": [
          35.691868
         ],
         "legendgroup": "University 421",
         "lon": [
          -91.598917
         ],
         "marker": {
          "color": "#636efa",
          "size": [
           26250
          ],
          "sizemode": "area",
          "sizeref": 65.625
         },
         "mode": "markers",
         "name": "University 421",
         "showlegend": true,
         "subplot": "mapbox",
         "type": "scattermapbox"
        },
        {
         "hovertemplate": "Customers=University 422<br>Invoice Amount=%{marker.size}<br>Lat=%{lat}<br>Long=%{lon}<extra></extra>",
         "lat": [
          41.64025
         ],
         "legendgroup": "University 422",
         "lon": [
          -104.16384
         ],
         "marker": {
          "color": "#EF553B",
          "size": [
           500
          ],
          "sizemode": "area",
          "sizeref": 65.625
         },
         "mode": "markers",
         "name": "University 422",
         "showlegend": true,
         "subplot": "mapbox",
         "type": "scattermapbox"
        },
        {
         "hovertemplate": "Customers=University 423<br>Invoice Amount=%{marker.size}<br>Lat=%{lat}<br>Long=%{lon}<extra></extra>",
         "lat": [
          29.468413
         ],
         "legendgroup": "University 423",
         "lon": [
          -98.528889
         ],
         "marker": {
          "color": "#00cc96",
          "size": [
           2500
          ],
          "sizemode": "area",
          "sizeref": 65.625
         },
         "mode": "markers",
         "name": "University 423",
         "showlegend": true,
         "subplot": "mapbox",
         "type": "scattermapbox"
        },
        {
         "hovertemplate": "Customers=University 424<br>Invoice Amount=%{marker.size}<br>Lat=%{lat}<br>Long=%{lon}<extra></extra>",
         "lat": [
          42.055136
         ],
         "legendgroup": "University 424",
         "lon": [
          -71.081416
         ],
         "marker": {
          "color": "#ab63fa",
          "size": [
           1700
          ],
          "sizemode": "area",
          "sizeref": 65.625
         },
         "mode": "markers",
         "name": "University 424",
         "showlegend": true,
         "subplot": "mapbox",
         "type": "scattermapbox"
        },
        {
         "hovertemplate": "Customers=University 425<br>Invoice Amount=%{marker.size}<br>Lat=%{lat}<br>Long=%{lon}<extra></extra>",
         "lat": [
          37.953672
         ],
         "legendgroup": "University 425",
         "lon": [
          -122.022872
         ],
         "marker": {
          "color": "#FFA15A",
          "size": [
           2000
          ],
          "sizemode": "area",
          "sizeref": 65.625
         },
         "mode": "markers",
         "name": "University 425",
         "showlegend": true,
         "subplot": "mapbox",
         "type": "scattermapbox"
        },
        {
         "hovertemplate": "Customers=University 43<br>Invoice Amount=%{marker.size}<br>Lat=%{lat}<br>Long=%{lon}<extra></extra>",
         "lat": [
          38.89583
         ],
         "legendgroup": "University 43",
         "lon": [
          -77.009828
         ],
         "marker": {
          "color": "#19d3f3",
          "size": [
           8000
          ],
          "sizemode": "area",
          "sizeref": 65.625
         },
         "mode": "markers",
         "name": "University 43",
         "showlegend": true,
         "subplot": "mapbox",
         "type": "scattermapbox"
        },
        {
         "hovertemplate": "Customers=University 44<br>Invoice Amount=%{marker.size}<br>Lat=%{lat}<br>Long=%{lon}<extra></extra>",
         "lat": [
          21.36711
         ],
         "legendgroup": "University 44",
         "lon": [
          -157.90399399999995
         ],
         "marker": {
          "color": "#FF6692",
          "size": [
           750
          ],
          "sizemode": "area",
          "sizeref": 65.625
         },
         "mode": "markers",
         "name": "University 44",
         "showlegend": true,
         "subplot": "mapbox",
         "type": "scattermapbox"
        },
        {
         "hovertemplate": "Customers=University 45<br>Invoice Amount=%{marker.size}<br>Lat=%{lat}<br>Long=%{lon}<extra></extra>",
         "lat": [
          45.78457
         ],
         "legendgroup": "University 45",
         "lon": [
          -108.526828
         ],
         "marker": {
          "color": "#B6E880",
          "size": [
           750
          ],
          "sizemode": "area",
          "sizeref": 65.625
         },
         "mode": "markers",
         "name": "University 45",
         "showlegend": true,
         "subplot": "mapbox",
         "type": "scattermapbox"
        },
        {
         "hovertemplate": "Customers=University 46<br>Invoice Amount=%{marker.size}<br>Lat=%{lat}<br>Long=%{lon}<extra></extra>",
         "lat": [
          38.525618333333334
         ],
         "legendgroup": "University 46",
         "lon": [
          -97.07588400000002
         ],
         "marker": {
          "color": "#FF97FF",
          "size": [
           4750
          ],
          "sizemode": "area",
          "sizeref": 65.625
         },
         "mode": "markers",
         "name": "University 46",
         "showlegend": true,
         "subplot": "mapbox",
         "type": "scattermapbox"
        },
        {
         "hovertemplate": "Customers=University 47<br>Invoice Amount=%{marker.size}<br>Lat=%{lat}<br>Long=%{lon}<extra></extra>",
         "lat": [
          34.358185
         ],
         "legendgroup": "University 47",
         "lon": [
          -89.548378
         ],
         "marker": {
          "color": "#FECB52",
          "size": [
           7350
          ],
          "sizemode": "area",
          "sizeref": 65.625
         },
         "mode": "markers",
         "name": "University 47",
         "showlegend": true,
         "subplot": "mapbox",
         "type": "scattermapbox"
        },
        {
         "hovertemplate": "Customers=University 48<br>Invoice Amount=%{marker.size}<br>Lat=%{lat}<br>Long=%{lon}<extra></extra>",
         "lat": [
          33.453832
         ],
         "legendgroup": "University 48",
         "lon": [
          -88.794057
         ],
         "marker": {
          "color": "#636efa",
          "size": [
           4750
          ],
          "sizemode": "area",
          "sizeref": 65.625
         },
         "mode": "markers",
         "name": "University 48",
         "showlegend": true,
         "subplot": "mapbox",
         "type": "scattermapbox"
        },
        {
         "hovertemplate": "Customers=University 49<br>Invoice Amount=%{marker.size}<br>Lat=%{lat}<br>Long=%{lon}<extra></extra>",
         "lat": [
          31.229636
         ],
         "legendgroup": "University 49",
         "lon": [
          -80.62590725
         ],
         "marker": {
          "color": "#EF553B",
          "size": [
           1500
          ],
          "sizemode": "area",
          "sizeref": 65.625
         },
         "mode": "markers",
         "name": "University 49",
         "showlegend": true,
         "subplot": "mapbox",
         "type": "scattermapbox"
        },
        {
         "hovertemplate": "Customers=University 51<br>Invoice Amount=%{marker.size}<br>Lat=%{lat}<br>Long=%{lon}<extra></extra>",
         "lat": [
          46.096193666666665
         ],
         "legendgroup": "University 51",
         "lon": [
          -89.622435
         ],
         "marker": {
          "color": "#00cc96",
          "size": [
           750
          ],
          "sizemode": "area",
          "sizeref": 65.625
         },
         "mode": "markers",
         "name": "University 51",
         "showlegend": true,
         "subplot": "mapbox",
         "type": "scattermapbox"
        },
        {
         "hovertemplate": "Customers=University 52<br>Invoice Amount=%{marker.size}<br>Lat=%{lat}<br>Long=%{lon}<extra></extra>",
         "lat": [
          32.302802
         ],
         "legendgroup": "University 52",
         "lon": [
          -90.183909
         ],
         "marker": {
          "color": "#ab63fa",
          "size": [
           4999
          ],
          "sizemode": "area",
          "sizeref": 65.625
         },
         "mode": "markers",
         "name": "University 52",
         "showlegend": true,
         "subplot": "mapbox",
         "type": "scattermapbox"
        },
        {
         "hovertemplate": "Customers=University 53<br>Invoice Amount=%{marker.size}<br>Lat=%{lat}<br>Long=%{lon}<extra></extra>",
         "lat": [
          29.558454
         ],
         "legendgroup": "University 53",
         "lon": [
          -95.786392
         ],
         "marker": {
          "color": "#FFA15A",
          "size": [
           4500
          ],
          "sizemode": "area",
          "sizeref": 65.625
         },
         "mode": "markers",
         "name": "University 53",
         "showlegend": true,
         "subplot": "mapbox",
         "type": "scattermapbox"
        },
        {
         "hovertemplate": "Customers=University 54<br>Invoice Amount=%{marker.size}<br>Lat=%{lat}<br>Long=%{lon}<extra></extra>",
         "lat": [
          37.8127265
         ],
         "legendgroup": "University 54",
         "lon": [
          -78.019759
         ],
         "marker": {
          "color": "#19d3f3",
          "size": [
           1500
          ],
          "sizemode": "area",
          "sizeref": 65.625
         },
         "mode": "markers",
         "name": "University 54",
         "showlegend": true,
         "subplot": "mapbox",
         "type": "scattermapbox"
        },
        {
         "hovertemplate": "Customers=University 56<br>Invoice Amount=%{marker.size}<br>Lat=%{lat}<br>Long=%{lon}<extra></extra>",
         "lat": [
          -34.927341
         ],
         "legendgroup": "University 56",
         "lon": [
          138.602002
         ],
         "marker": {
          "color": "#FF6692",
          "size": [
           1500
          ],
          "sizemode": "area",
          "sizeref": 65.625
         },
         "mode": "markers",
         "name": "University 56",
         "showlegend": true,
         "subplot": "mapbox",
         "type": "scattermapbox"
        },
        {
         "hovertemplate": "Customers=University 57<br>Invoice Amount=%{marker.size}<br>Lat=%{lat}<br>Long=%{lon}<extra></extra>",
         "lat": [
          34.79395
         ],
         "legendgroup": "University 57",
         "lon": [
          -90.70619049999999
         ],
         "marker": {
          "color": "#B6E880",
          "size": [
           5400
          ],
          "sizemode": "area",
          "sizeref": 65.625
         },
         "mode": "markers",
         "name": "University 57",
         "showlegend": true,
         "subplot": "mapbox",
         "type": "scattermapbox"
        },
        {
         "hovertemplate": "Customers=University 58<br>Invoice Amount=%{marker.size}<br>Lat=%{lat}<br>Long=%{lon}<extra></extra>",
         "lat": [
          46.065081
         ],
         "legendgroup": "University 58",
         "lon": [
          -118.32958700000002
         ],
         "marker": {
          "color": "#FF97FF",
          "size": [
           3000
          ],
          "sizemode": "area",
          "sizeref": 65.625
         },
         "mode": "markers",
         "name": "University 58",
         "showlegend": true,
         "subplot": "mapbox",
         "type": "scattermapbox"
        },
        {
         "hovertemplate": "Customers=University 59<br>Invoice Amount=%{marker.size}<br>Lat=%{lat}<br>Long=%{lon}<extra></extra>",
         "lat": [
          35.99726300000001
         ],
         "legendgroup": "University 59",
         "lon": [
          -78.897667
         ],
         "marker": {
          "color": "#FECB52",
          "size": [
           2630
          ],
          "sizemode": "area",
          "sizeref": 65.625
         },
         "mode": "markers",
         "name": "University 59",
         "showlegend": true,
         "subplot": "mapbox",
         "type": "scattermapbox"
        },
        {
         "hovertemplate": "Customers=University 60<br>Invoice Amount=%{marker.size}<br>Lat=%{lat}<br>Long=%{lon}<extra></extra>",
         "lat": [
          42.41484000000001
         ],
         "legendgroup": "University 60",
         "lon": [
          -83.137876
         ],
         "marker": {
          "color": "#636efa",
          "size": [
           750
          ],
          "sizemode": "area",
          "sizeref": 65.625
         },
         "mode": "markers",
         "name": "University 60",
         "showlegend": true,
         "subplot": "mapbox",
         "type": "scattermapbox"
        },
        {
         "hovertemplate": "Customers=University 61<br>Invoice Amount=%{marker.size}<br>Lat=%{lat}<br>Long=%{lon}<extra></extra>",
         "lat": [
          35.30615200000001
         ],
         "legendgroup": "University 61",
         "lon": [
          -80.734562
         ],
         "marker": {
          "color": "#EF553B",
          "size": [
           15750
          ],
          "sizemode": "area",
          "sizeref": 65.625
         },
         "mode": "markers",
         "name": "University 61",
         "showlegend": true,
         "subplot": "mapbox",
         "type": "scattermapbox"
        },
        {
         "hovertemplate": "Customers=University 62<br>Invoice Amount=%{marker.size}<br>Lat=%{lat}<br>Long=%{lon}<extra></extra>",
         "lat": [
          40.51417
         ],
         "legendgroup": "University 62",
         "lon": [
          -88.99056
         ],
         "marker": {
          "color": "#00cc96",
          "size": [
           10500
          ],
          "sizemode": "area",
          "sizeref": 65.625
         },
         "mode": "markers",
         "name": "University 62",
         "showlegend": true,
         "subplot": "mapbox",
         "type": "scattermapbox"
        },
        {
         "hovertemplate": "Customers=University 63<br>Invoice Amount=%{marker.size}<br>Lat=%{lat}<br>Long=%{lon}<extra></extra>",
         "lat": [
          46.882198
         ],
         "legendgroup": "University 63",
         "lon": [
          -102.799866
         ],
         "marker": {
          "color": "#ab63fa",
          "size": [
           2550
          ],
          "sizemode": "area",
          "sizeref": 65.625
         },
         "mode": "markers",
         "name": "University 63",
         "showlegend": true,
         "subplot": "mapbox",
         "type": "scattermapbox"
        },
        {
         "hovertemplate": "Customers=University 64<br>Invoice Amount=%{marker.size}<br>Lat=%{lat}<br>Long=%{lon}<extra></extra>",
         "lat": [
          39.088975
         ],
         "legendgroup": "University 64",
         "lon": [
          -94.58516
         ],
         "marker": {
          "color": "#FFA15A",
          "size": [
           750
          ],
          "sizemode": "area",
          "sizeref": 65.625
         },
         "mode": "markers",
         "name": "University 64",
         "showlegend": true,
         "subplot": "mapbox",
         "type": "scattermapbox"
        },
        {
         "hovertemplate": "Customers=University 65<br>Invoice Amount=%{marker.size}<br>Lat=%{lat}<br>Long=%{lon}<extra></extra>",
         "lat": [
          41.68339
         ],
         "legendgroup": "University 65",
         "lon": [
          -72.767385
         ],
         "marker": {
          "color": "#19d3f3",
          "size": [
           9000
          ],
          "sizemode": "area",
          "sizeref": 65.625
         },
         "mode": "markers",
         "name": "University 65",
         "showlegend": true,
         "subplot": "mapbox",
         "type": "scattermapbox"
        },
        {
         "hovertemplate": "Customers=University 66<br>Invoice Amount=%{marker.size}<br>Lat=%{lat}<br>Long=%{lon}<extra></extra>",
         "lat": [
          29.912261
         ],
         "legendgroup": "University 66",
         "lon": [
          -89.995129
         ],
         "marker": {
          "color": "#FF6692",
          "size": [
           4500
          ],
          "sizemode": "area",
          "sizeref": 65.625
         },
         "mode": "markers",
         "name": "University 66",
         "showlegend": true,
         "subplot": "mapbox",
         "type": "scattermapbox"
        },
        {
         "hovertemplate": "Customers=University 67<br>Invoice Amount=%{marker.size}<br>Lat=%{lat}<br>Long=%{lon}<extra></extra>",
         "lat": [
          34.477406333333334
         ],
         "legendgroup": "University 67",
         "lon": [
          -91.48299066666668
         ],
         "marker": {
          "color": "#B6E880",
          "size": [
           4333.333333333333
          ],
          "sizemode": "area",
          "sizeref": 65.625
         },
         "mode": "markers",
         "name": "University 67",
         "showlegend": true,
         "subplot": "mapbox",
         "type": "scattermapbox"
        },
        {
         "hovertemplate": "Customers=University 68<br>Invoice Amount=%{marker.size}<br>Lat=%{lat}<br>Long=%{lon}<extra></extra>",
         "lat": [
          29.849649
         ],
         "legendgroup": "University 68",
         "lon": [
          -95.498476
         ],
         "marker": {
          "color": "#FF97FF",
          "size": [
           3000
          ],
          "sizemode": "area",
          "sizeref": 65.625
         },
         "mode": "markers",
         "name": "University 68",
         "showlegend": true,
         "subplot": "mapbox",
         "type": "scattermapbox"
        },
        {
         "hovertemplate": "Customers=University 69<br>Invoice Amount=%{marker.size}<br>Lat=%{lat}<br>Long=%{lon}<extra></extra>",
         "lat": [
          36.30044
         ],
         "legendgroup": "University 69",
         "lon": [
          -82.362131
         ],
         "marker": {
          "color": "#FECB52",
          "size": [
           4537
          ],
          "sizemode": "area",
          "sizeref": 65.625
         },
         "mode": "markers",
         "name": "University 69",
         "showlegend": true,
         "subplot": "mapbox",
         "type": "scattermapbox"
        },
        {
         "hovertemplate": "Customers=University 71<br>Invoice Amount=%{marker.size}<br>Lat=%{lat}<br>Long=%{lon}<extra></extra>",
         "lat": [
          31.5771706
         ],
         "legendgroup": "University 71",
         "lon": [
          -83.89726879999999
         ],
         "marker": {
          "color": "#636efa",
          "size": [
           1710
          ],
          "sizemode": "area",
          "sizeref": 65.625
         },
         "mode": "markers",
         "name": "University 71",
         "showlegend": true,
         "subplot": "mapbox",
         "type": "scattermapbox"
        },
        {
         "hovertemplate": "Customers=University 72<br>Invoice Amount=%{marker.size}<br>Lat=%{lat}<br>Long=%{lon}<extra></extra>",
         "lat": [
          32.432158
         ],
         "legendgroup": "University 72",
         "lon": [
          -93.701816
         ],
         "marker": {
          "color": "#EF553B",
          "size": [
           1750
          ],
          "sizemode": "area",
          "sizeref": 65.625
         },
         "mode": "markers",
         "name": "University 72",
         "showlegend": true,
         "subplot": "mapbox",
         "type": "scattermapbox"
        },
        {
         "hovertemplate": "Customers=University 73<br>Invoice Amount=%{marker.size}<br>Lat=%{lat}<br>Long=%{lon}<extra></extra>",
         "lat": [
          33.994748
         ],
         "legendgroup": "University 73",
         "lon": [
          -118.08086000000002
         ],
         "marker": {
          "color": "#00cc96",
          "size": [
           5880
          ],
          "sizemode": "area",
          "sizeref": 65.625
         },
         "mode": "markers",
         "name": "University 73",
         "showlegend": true,
         "subplot": "mapbox",
         "type": "scattermapbox"
        },
        {
         "hovertemplate": "Customers=University 74<br>Invoice Amount=%{marker.size}<br>Lat=%{lat}<br>Long=%{lon}<extra></extra>",
         "lat": [
          39.189982
         ],
         "legendgroup": "University 74",
         "lon": [
          -96.578842
         ],
         "marker": {
          "color": "#ab63fa",
          "size": [
           7125
          ],
          "sizemode": "area",
          "sizeref": 65.625
         },
         "mode": "markers",
         "name": "University 74",
         "showlegend": true,
         "subplot": "mapbox",
         "type": "scattermapbox"
        },
        {
         "hovertemplate": "Customers=University 75<br>Invoice Amount=%{marker.size}<br>Lat=%{lat}<br>Long=%{lon}<extra></extra>",
         "lat": [
          34.497007
         ],
         "legendgroup": "University 75",
         "lon": [
          -114.331063
         ],
         "marker": {
          "color": "#FFA15A",
          "size": [
           6300
          ],
          "sizemode": "area",
          "sizeref": 65.625
         },
         "mode": "markers",
         "name": "University 75",
         "showlegend": true,
         "subplot": "mapbox",
         "type": "scattermapbox"
        },
        {
         "hovertemplate": "Customers=University 76<br>Invoice Amount=%{marker.size}<br>Lat=%{lat}<br>Long=%{lon}<extra></extra>",
         "lat": [
          35.8443915
         ],
         "legendgroup": "University 76",
         "lon": [
          -88.519639
         ],
         "marker": {
          "color": "#19d3f3",
          "size": [
           12600
          ],
          "sizemode": "area",
          "sizeref": 65.625
         },
         "mode": "markers",
         "name": "University 76",
         "showlegend": true,
         "subplot": "mapbox",
         "type": "scattermapbox"
        },
        {
         "hovertemplate": "Customers=University 77<br>Invoice Amount=%{marker.size}<br>Lat=%{lat}<br>Long=%{lon}<extra></extra>",
         "lat": [
          41.27981
         ],
         "legendgroup": "University 77",
         "lon": [
          -105.59022
         ],
         "marker": {
          "color": "#FF6692",
          "size": [
           6300
          ],
          "sizemode": "area",
          "sizeref": 65.625
         },
         "mode": "markers",
         "name": "University 77",
         "showlegend": true,
         "subplot": "mapbox",
         "type": "scattermapbox"
        },
        {
         "hovertemplate": "Customers=University 78<br>Invoice Amount=%{marker.size}<br>Lat=%{lat}<br>Long=%{lon}<extra></extra>",
         "lat": [
          36.045904
         ],
         "legendgroup": "University 78",
         "lon": [
          -114.980388
         ],
         "marker": {
          "color": "#B6E880",
          "size": [
           2560
          ],
          "sizemode": "area",
          "sizeref": 65.625
         },
         "mode": "markers",
         "name": "University 78",
         "showlegend": true,
         "subplot": "mapbox",
         "type": "scattermapbox"
        },
        {
         "hovertemplate": "Customers=University 79<br>Invoice Amount=%{marker.size}<br>Lat=%{lat}<br>Long=%{lon}<extra></extra>",
         "lat": [
          31.735566500000004
         ],
         "legendgroup": "University 79",
         "lon": [
          -80.575718
         ],
         "marker": {
          "color": "#FF97FF",
          "size": [
           2200
          ],
          "sizemode": "area",
          "sizeref": 65.625
         },
         "mode": "markers",
         "name": "University 79",
         "showlegend": true,
         "subplot": "mapbox",
         "type": "scattermapbox"
        },
        {
         "hovertemplate": "Customers=University 8<br>Invoice Amount=%{marker.size}<br>Lat=%{lat}<br>Long=%{lon}<extra></extra>",
         "lat": [
          37.47008000000001
         ],
         "legendgroup": "University 8",
         "lon": [
          -80.1252785
         ],
         "marker": {
          "color": "#FECB52",
          "size": [
           2600
          ],
          "sizemode": "area",
          "sizeref": 65.625
         },
         "mode": "markers",
         "name": "University 8",
         "showlegend": true,
         "subplot": "mapbox",
         "type": "scattermapbox"
        },
        {
         "hovertemplate": "Customers=University 80<br>Invoice Amount=%{marker.size}<br>Lat=%{lat}<br>Long=%{lon}<extra></extra>",
         "lat": [
          34.226803
         ],
         "legendgroup": "University 80",
         "lon": [
          -77.87667466666666
         ],
         "marker": {
          "color": "#636efa",
          "size": [
           3806
          ],
          "sizemode": "area",
          "sizeref": 65.625
         },
         "mode": "markers",
         "name": "University 80",
         "showlegend": true,
         "subplot": "mapbox",
         "type": "scattermapbox"
        },
        {
         "hovertemplate": "Customers=University 81<br>Invoice Amount=%{marker.size}<br>Lat=%{lat}<br>Long=%{lon}<extra></extra>",
         "lat": [
          33.606011
         ],
         "legendgroup": "University 81",
         "lon": [
          -89.48590075000001
         ],
         "marker": {
          "color": "#EF553B",
          "size": [
           1450
          ],
          "sizemode": "area",
          "sizeref": 65.625
         },
         "mode": "markers",
         "name": "University 81",
         "showlegend": true,
         "subplot": "mapbox",
         "type": "scattermapbox"
        },
        {
         "hovertemplate": "Customers=University 83<br>Invoice Amount=%{marker.size}<br>Lat=%{lat}<br>Long=%{lon}<extra></extra>",
         "lat": [
          33.52991
         ],
         "legendgroup": "University 83",
         "lon": [
          -117.18548
         ],
         "marker": {
          "color": "#00cc96",
          "size": [
           2500
          ],
          "sizemode": "area",
          "sizeref": 65.625
         },
         "mode": "markers",
         "name": "University 83",
         "showlegend": true,
         "subplot": "mapbox",
         "type": "scattermapbox"
        },
        {
         "hovertemplate": "Customers=University 84<br>Invoice Amount=%{marker.size}<br>Lat=%{lat}<br>Long=%{lon}<extra></extra>",
         "lat": [
          32.539067
         ],
         "legendgroup": "University 84",
         "lon": [
          -92.071902
         ],
         "marker": {
          "color": "#ab63fa",
          "size": [
           2000
          ],
          "sizemode": "area",
          "sizeref": 65.625
         },
         "mode": "markers",
         "name": "University 84",
         "showlegend": true,
         "subplot": "mapbox",
         "type": "scattermapbox"
        },
        {
         "hovertemplate": "Customers=University 85<br>Invoice Amount=%{marker.size}<br>Lat=%{lat}<br>Long=%{lon}<extra></extra>",
         "lat": [
          33.703967
         ],
         "legendgroup": "University 85",
         "lon": [
          -112.351835
         ],
         "marker": {
          "color": "#FFA15A",
          "size": [
           12500
          ],
          "sizemode": "area",
          "sizeref": 65.625
         },
         "mode": "markers",
         "name": "University 85",
         "showlegend": true,
         "subplot": "mapbox",
         "type": "scattermapbox"
        },
        {
         "hovertemplate": "Customers=University 87<br>Invoice Amount=%{marker.size}<br>Lat=%{lat}<br>Long=%{lon}<extra></extra>",
         "lat": [
          29.963254
         ],
         "legendgroup": "University 87",
         "lon": [
          -90.210745
         ],
         "marker": {
          "color": "#19d3f3",
          "size": [
           2000
          ],
          "sizemode": "area",
          "sizeref": 65.625
         },
         "mode": "markers",
         "name": "University 87",
         "showlegend": true,
         "subplot": "mapbox",
         "type": "scattermapbox"
        },
        {
         "hovertemplate": "Customers=University 88<br>Invoice Amount=%{marker.size}<br>Lat=%{lat}<br>Long=%{lon}<extra></extra>",
         "lat": [
          35.691868
         ],
         "legendgroup": "University 88",
         "lon": [
          -91.598917
         ],
         "marker": {
          "color": "#FF6692",
          "size": [
           26250
          ],
          "sizemode": "area",
          "sizeref": 65.625
         },
         "mode": "markers",
         "name": "University 88",
         "showlegend": true,
         "subplot": "mapbox",
         "type": "scattermapbox"
        },
        {
         "hovertemplate": "Customers=University 9<br>Invoice Amount=%{marker.size}<br>Lat=%{lat}<br>Long=%{lon}<extra></extra>",
         "lat": [
          32.28831733333333
         ],
         "legendgroup": "University 9",
         "lon": [
          -83.163732
         ],
         "marker": {
          "color": "#B6E880",
          "size": [
           1283.3333333333333
          ],
          "sizemode": "area",
          "sizeref": 65.625
         },
         "mode": "markers",
         "name": "University 9",
         "showlegend": true,
         "subplot": "mapbox",
         "type": "scattermapbox"
        },
        {
         "hovertemplate": "Customers=University 92<br>Invoice Amount=%{marker.size}<br>Lat=%{lat}<br>Long=%{lon}<extra></extra>",
         "lat": [
          35.841039
         ],
         "legendgroup": "University 92",
         "lon": [
          -90.675602
         ],
         "marker": {
          "color": "#FF97FF",
          "size": [
           3500
          ],
          "sizemode": "area",
          "sizeref": 65.625
         },
         "mode": "markers",
         "name": "University 92",
         "showlegend": true,
         "subplot": "mapbox",
         "type": "scattermapbox"
        },
        {
         "hovertemplate": "Customers=University 93<br>Invoice Amount=%{marker.size}<br>Lat=%{lat}<br>Long=%{lon}<extra></extra>",
         "lat": [
          45.408173
         ],
         "legendgroup": "University 93",
         "lon": [
          -122.922323
         ],
         "marker": {
          "color": "#FECB52",
          "size": [
           3500
          ],
          "sizemode": "area",
          "sizeref": 65.625
         },
         "mode": "markers",
         "name": "University 93",
         "showlegend": true,
         "subplot": "mapbox",
         "type": "scattermapbox"
        },
        {
         "hovertemplate": "Customers=University 94<br>Invoice Amount=%{marker.size}<br>Lat=%{lat}<br>Long=%{lon}<extra></extra>",
         "lat": [
          36.30011
         ],
         "legendgroup": "University 94",
         "lon": [
          -82.29403
         ],
         "marker": {
          "color": "#636efa",
          "size": [
           1250
          ],
          "sizemode": "area",
          "sizeref": 65.625
         },
         "mode": "markers",
         "name": "University 94",
         "showlegend": true,
         "subplot": "mapbox",
         "type": "scattermapbox"
        },
        {
         "hovertemplate": "Customers=University 95<br>Invoice Amount=%{marker.size}<br>Lat=%{lat}<br>Long=%{lon}<extra></extra>",
         "lat": [
          33.959580499999994
         ],
         "legendgroup": "University 95",
         "lon": [
          -102.35074900000001
         ],
         "marker": {
          "color": "#EF553B",
          "size": [
           333.3333333333333
          ],
          "sizemode": "area",
          "sizeref": 65.625
         },
         "mode": "markers",
         "name": "University 95",
         "showlegend": true,
         "subplot": "mapbox",
         "type": "scattermapbox"
        },
        {
         "hovertemplate": "Customers=University 96<br>Invoice Amount=%{marker.size}<br>Lat=%{lat}<br>Long=%{lon}<extra></extra>",
         "lat": [
          45.507856
         ],
         "legendgroup": "University 96",
         "lon": [
          -122.690794
         ],
         "marker": {
          "color": "#00cc96",
          "size": [
           2750
          ],
          "sizemode": "area",
          "sizeref": 65.625
         },
         "mode": "markers",
         "name": "University 96",
         "showlegend": true,
         "subplot": "mapbox",
         "type": "scattermapbox"
        },
        {
         "hovertemplate": "Customers=University 97<br>Invoice Amount=%{marker.size}<br>Lat=%{lat}<br>Long=%{lon}<extra></extra>",
         "lat": [
          27.926018
         ],
         "legendgroup": "University 97",
         "lon": [
          -82.487126
         ],
         "marker": {
          "color": "#ab63fa",
          "size": [
           2610.714285714286
          ],
          "sizemode": "area",
          "sizeref": 65.625
         },
         "mode": "markers",
         "name": "University 97",
         "showlegend": true,
         "subplot": "mapbox",
         "type": "scattermapbox"
        }
       ],
       "layout": {
        "autosize": true,
        "legend": {
         "itemsizing": "constant",
         "title": {
          "text": "Customers"
         },
         "tracegroupgap": 0
        },
        "mapbox": {
         "accesstoken": "pk.eyJ1IjoibWlsYWRuYXphciIsImEiOiJja2doYmN1d2swNGtkMnNvMGRhb3RnbmZpIn0.h5puE2zZYJuUHFdI586CDg",
         "center": {
          "lat": 35.435055293501634,
          "lon": -90.28948115147108
         },
         "domain": {
          "x": [
           0,
           1
          ],
          "y": [
           0,
           1
          ]
         },
         "zoom": 8
        },
        "margin": {
         "t": 60
        },
        "template": {
         "data": {
          "bar": [
           {
            "error_x": {
             "color": "#2a3f5f"
            },
            "error_y": {
             "color": "#2a3f5f"
            },
            "marker": {
             "line": {
              "color": "#E5ECF6",
              "width": 0.5
             }
            },
            "type": "bar"
           }
          ],
          "barpolar": [
           {
            "marker": {
             "line": {
              "color": "#E5ECF6",
              "width": 0.5
             }
            },
            "type": "barpolar"
           }
          ],
          "carpet": [
           {
            "aaxis": {
             "endlinecolor": "#2a3f5f",
             "gridcolor": "white",
             "linecolor": "white",
             "minorgridcolor": "white",
             "startlinecolor": "#2a3f5f"
            },
            "baxis": {
             "endlinecolor": "#2a3f5f",
             "gridcolor": "white",
             "linecolor": "white",
             "minorgridcolor": "white",
             "startlinecolor": "#2a3f5f"
            },
            "type": "carpet"
           }
          ],
          "choropleth": [
           {
            "colorbar": {
             "outlinewidth": 0,
             "ticks": ""
            },
            "type": "choropleth"
           }
          ],
          "contour": [
           {
            "colorbar": {
             "outlinewidth": 0,
             "ticks": ""
            },
            "colorscale": [
             [
              0,
              "#0d0887"
             ],
             [
              0.1111111111111111,
              "#46039f"
             ],
             [
              0.2222222222222222,
              "#7201a8"
             ],
             [
              0.3333333333333333,
              "#9c179e"
             ],
             [
              0.4444444444444444,
              "#bd3786"
             ],
             [
              0.5555555555555556,
              "#d8576b"
             ],
             [
              0.6666666666666666,
              "#ed7953"
             ],
             [
              0.7777777777777778,
              "#fb9f3a"
             ],
             [
              0.8888888888888888,
              "#fdca26"
             ],
             [
              1,
              "#f0f921"
             ]
            ],
            "type": "contour"
           }
          ],
          "contourcarpet": [
           {
            "colorbar": {
             "outlinewidth": 0,
             "ticks": ""
            },
            "type": "contourcarpet"
           }
          ],
          "heatmap": [
           {
            "colorbar": {
             "outlinewidth": 0,
             "ticks": ""
            },
            "colorscale": [
             [
              0,
              "#0d0887"
             ],
             [
              0.1111111111111111,
              "#46039f"
             ],
             [
              0.2222222222222222,
              "#7201a8"
             ],
             [
              0.3333333333333333,
              "#9c179e"
             ],
             [
              0.4444444444444444,
              "#bd3786"
             ],
             [
              0.5555555555555556,
              "#d8576b"
             ],
             [
              0.6666666666666666,
              "#ed7953"
             ],
             [
              0.7777777777777778,
              "#fb9f3a"
             ],
             [
              0.8888888888888888,
              "#fdca26"
             ],
             [
              1,
              "#f0f921"
             ]
            ],
            "type": "heatmap"
           }
          ],
          "heatmapgl": [
           {
            "colorbar": {
             "outlinewidth": 0,
             "ticks": ""
            },
            "colorscale": [
             [
              0,
              "#0d0887"
             ],
             [
              0.1111111111111111,
              "#46039f"
             ],
             [
              0.2222222222222222,
              "#7201a8"
             ],
             [
              0.3333333333333333,
              "#9c179e"
             ],
             [
              0.4444444444444444,
              "#bd3786"
             ],
             [
              0.5555555555555556,
              "#d8576b"
             ],
             [
              0.6666666666666666,
              "#ed7953"
             ],
             [
              0.7777777777777778,
              "#fb9f3a"
             ],
             [
              0.8888888888888888,
              "#fdca26"
             ],
             [
              1,
              "#f0f921"
             ]
            ],
            "type": "heatmapgl"
           }
          ],
          "histogram": [
           {
            "marker": {
             "colorbar": {
              "outlinewidth": 0,
              "ticks": ""
             }
            },
            "type": "histogram"
           }
          ],
          "histogram2d": [
           {
            "colorbar": {
             "outlinewidth": 0,
             "ticks": ""
            },
            "colorscale": [
             [
              0,
              "#0d0887"
             ],
             [
              0.1111111111111111,
              "#46039f"
             ],
             [
              0.2222222222222222,
              "#7201a8"
             ],
             [
              0.3333333333333333,
              "#9c179e"
             ],
             [
              0.4444444444444444,
              "#bd3786"
             ],
             [
              0.5555555555555556,
              "#d8576b"
             ],
             [
              0.6666666666666666,
              "#ed7953"
             ],
             [
              0.7777777777777778,
              "#fb9f3a"
             ],
             [
              0.8888888888888888,
              "#fdca26"
             ],
             [
              1,
              "#f0f921"
             ]
            ],
            "type": "histogram2d"
           }
          ],
          "histogram2dcontour": [
           {
            "colorbar": {
             "outlinewidth": 0,
             "ticks": ""
            },
            "colorscale": [
             [
              0,
              "#0d0887"
             ],
             [
              0.1111111111111111,
              "#46039f"
             ],
             [
              0.2222222222222222,
              "#7201a8"
             ],
             [
              0.3333333333333333,
              "#9c179e"
             ],
             [
              0.4444444444444444,
              "#bd3786"
             ],
             [
              0.5555555555555556,
              "#d8576b"
             ],
             [
              0.6666666666666666,
              "#ed7953"
             ],
             [
              0.7777777777777778,
              "#fb9f3a"
             ],
             [
              0.8888888888888888,
              "#fdca26"
             ],
             [
              1,
              "#f0f921"
             ]
            ],
            "type": "histogram2dcontour"
           }
          ],
          "mesh3d": [
           {
            "colorbar": {
             "outlinewidth": 0,
             "ticks": ""
            },
            "type": "mesh3d"
           }
          ],
          "parcoords": [
           {
            "line": {
             "colorbar": {
              "outlinewidth": 0,
              "ticks": ""
             }
            },
            "type": "parcoords"
           }
          ],
          "pie": [
           {
            "automargin": true,
            "type": "pie"
           }
          ],
          "scatter": [
           {
            "marker": {
             "colorbar": {
              "outlinewidth": 0,
              "ticks": ""
             }
            },
            "type": "scatter"
           }
          ],
          "scatter3d": [
           {
            "line": {
             "colorbar": {
              "outlinewidth": 0,
              "ticks": ""
             }
            },
            "marker": {
             "colorbar": {
              "outlinewidth": 0,
              "ticks": ""
             }
            },
            "type": "scatter3d"
           }
          ],
          "scattercarpet": [
           {
            "marker": {
             "colorbar": {
              "outlinewidth": 0,
              "ticks": ""
             }
            },
            "type": "scattercarpet"
           }
          ],
          "scattergeo": [
           {
            "marker": {
             "colorbar": {
              "outlinewidth": 0,
              "ticks": ""
             }
            },
            "type": "scattergeo"
           }
          ],
          "scattergl": [
           {
            "marker": {
             "colorbar": {
              "outlinewidth": 0,
              "ticks": ""
             }
            },
            "type": "scattergl"
           }
          ],
          "scattermapbox": [
           {
            "marker": {
             "colorbar": {
              "outlinewidth": 0,
              "ticks": ""
             }
            },
            "type": "scattermapbox"
           }
          ],
          "scatterpolar": [
           {
            "marker": {
             "colorbar": {
              "outlinewidth": 0,
              "ticks": ""
             }
            },
            "type": "scatterpolar"
           }
          ],
          "scatterpolargl": [
           {
            "marker": {
             "colorbar": {
              "outlinewidth": 0,
              "ticks": ""
             }
            },
            "type": "scatterpolargl"
           }
          ],
          "scatterternary": [
           {
            "marker": {
             "colorbar": {
              "outlinewidth": 0,
              "ticks": ""
             }
            },
            "type": "scatterternary"
           }
          ],
          "surface": [
           {
            "colorbar": {
             "outlinewidth": 0,
             "ticks": ""
            },
            "colorscale": [
             [
              0,
              "#0d0887"
             ],
             [
              0.1111111111111111,
              "#46039f"
             ],
             [
              0.2222222222222222,
              "#7201a8"
             ],
             [
              0.3333333333333333,
              "#9c179e"
             ],
             [
              0.4444444444444444,
              "#bd3786"
             ],
             [
              0.5555555555555556,
              "#d8576b"
             ],
             [
              0.6666666666666666,
              "#ed7953"
             ],
             [
              0.7777777777777778,
              "#fb9f3a"
             ],
             [
              0.8888888888888888,
              "#fdca26"
             ],
             [
              1,
              "#f0f921"
             ]
            ],
            "type": "surface"
           }
          ],
          "table": [
           {
            "cells": {
             "fill": {
              "color": "#EBF0F8"
             },
             "line": {
              "color": "white"
             }
            },
            "header": {
             "fill": {
              "color": "#C8D4E3"
             },
             "line": {
              "color": "white"
             }
            },
            "type": "table"
           }
          ]
         },
         "layout": {
          "annotationdefaults": {
           "arrowcolor": "#2a3f5f",
           "arrowhead": 0,
           "arrowwidth": 1
          },
          "coloraxis": {
           "colorbar": {
            "outlinewidth": 0,
            "ticks": ""
           }
          },
          "colorscale": {
           "diverging": [
            [
             0,
             "#8e0152"
            ],
            [
             0.1,
             "#c51b7d"
            ],
            [
             0.2,
             "#de77ae"
            ],
            [
             0.3,
             "#f1b6da"
            ],
            [
             0.4,
             "#fde0ef"
            ],
            [
             0.5,
             "#f7f7f7"
            ],
            [
             0.6,
             "#e6f5d0"
            ],
            [
             0.7,
             "#b8e186"
            ],
            [
             0.8,
             "#7fbc41"
            ],
            [
             0.9,
             "#4d9221"
            ],
            [
             1,
             "#276419"
            ]
           ],
           "sequential": [
            [
             0,
             "#0d0887"
            ],
            [
             0.1111111111111111,
             "#46039f"
            ],
            [
             0.2222222222222222,
             "#7201a8"
            ],
            [
             0.3333333333333333,
             "#9c179e"
            ],
            [
             0.4444444444444444,
             "#bd3786"
            ],
            [
             0.5555555555555556,
             "#d8576b"
            ],
            [
             0.6666666666666666,
             "#ed7953"
            ],
            [
             0.7777777777777778,
             "#fb9f3a"
            ],
            [
             0.8888888888888888,
             "#fdca26"
            ],
            [
             1,
             "#f0f921"
            ]
           ],
           "sequentialminus": [
            [
             0,
             "#0d0887"
            ],
            [
             0.1111111111111111,
             "#46039f"
            ],
            [
             0.2222222222222222,
             "#7201a8"
            ],
            [
             0.3333333333333333,
             "#9c179e"
            ],
            [
             0.4444444444444444,
             "#bd3786"
            ],
            [
             0.5555555555555556,
             "#d8576b"
            ],
            [
             0.6666666666666666,
             "#ed7953"
            ],
            [
             0.7777777777777778,
             "#fb9f3a"
            ],
            [
             0.8888888888888888,
             "#fdca26"
            ],
            [
             1,
             "#f0f921"
            ]
           ]
          },
          "colorway": [
           "#636efa",
           "#EF553B",
           "#00cc96",
           "#ab63fa",
           "#FFA15A",
           "#19d3f3",
           "#FF6692",
           "#B6E880",
           "#FF97FF",
           "#FECB52"
          ],
          "font": {
           "color": "#2a3f5f"
          },
          "geo": {
           "bgcolor": "white",
           "lakecolor": "white",
           "landcolor": "#E5ECF6",
           "showlakes": true,
           "showland": true,
           "subunitcolor": "white"
          },
          "hoverlabel": {
           "align": "left"
          },
          "hovermode": "closest",
          "mapbox": {
           "style": "light"
          },
          "paper_bgcolor": "white",
          "plot_bgcolor": "#E5ECF6",
          "polar": {
           "angularaxis": {
            "gridcolor": "white",
            "linecolor": "white",
            "ticks": ""
           },
           "bgcolor": "#E5ECF6",
           "radialaxis": {
            "gridcolor": "white",
            "linecolor": "white",
            "ticks": ""
           }
          },
          "scene": {
           "xaxis": {
            "backgroundcolor": "#E5ECF6",
            "gridcolor": "white",
            "gridwidth": 2,
            "linecolor": "white",
            "showbackground": true,
            "ticks": "",
            "zerolinecolor": "white"
           },
           "yaxis": {
            "backgroundcolor": "#E5ECF6",
            "gridcolor": "white",
            "gridwidth": 2,
            "linecolor": "white",
            "showbackground": true,
            "ticks": "",
            "zerolinecolor": "white"
           },
           "zaxis": {
            "backgroundcolor": "#E5ECF6",
            "gridcolor": "white",
            "gridwidth": 2,
            "linecolor": "white",
            "showbackground": true,
            "ticks": "",
            "zerolinecolor": "white"
           }
          },
          "shapedefaults": {
           "line": {
            "color": "#2a3f5f"
           }
          },
          "ternary": {
           "aaxis": {
            "gridcolor": "white",
            "linecolor": "white",
            "ticks": ""
           },
           "baxis": {
            "gridcolor": "white",
            "linecolor": "white",
            "ticks": ""
           },
           "bgcolor": "#E5ECF6",
           "caxis": {
            "gridcolor": "white",
            "linecolor": "white",
            "ticks": ""
           }
          },
          "title": {
           "x": 0.05
          },
          "xaxis": {
           "automargin": true,
           "gridcolor": "white",
           "linecolor": "white",
           "ticks": "",
           "title": {
            "standoff": 15
           },
           "zerolinecolor": "white",
           "zerolinewidth": 2
          },
          "yaxis": {
           "automargin": true,
           "gridcolor": "white",
           "linecolor": "white",
           "ticks": "",
           "title": {
            "standoff": 15
           },
           "zerolinecolor": "white",
           "zerolinewidth": 2
          }
         }
        }
       }
      },
      "image/png": "[encoded data removed]",
      "text/html": [
       "<div>                            <div id=\"f45b74b8-4a81-463c-ad84-7a2af414379c\" class=\"plotly-graph-div\" style=\"height:525px; width:100%;\"></div>            <script type=\"text/javascript\">                require([\"plotly\"], function(Plotly) {                    window.PLOTLYENV=window.PLOTLYENV || {};                                    if (document.getElementById(\"f45b74b8-4a81-463c-ad84-7a2af414379c\")) {                    Plotly.newPlot(                        \"f45b74b8-4a81-463c-ad84-7a2af414379c\",                        [{\"hovertemplate\": \"Customers=University 10<br>Invoice Amount=%{marker.size}<br>Lat=%{lat}<br>Long=%{lon}<extra></extra>\", \"lat\": [39.73221], \"legendgroup\": \"University 10\", \"lon\": [-90.24694700000002], \"marker\": {\"color\": \"#636efa\", \"size\": [2240.002], \"sizemode\": \"area\", \"sizeref\": 65.625}, \"mode\": \"markers\", \"name\": \"University 10\", \"showlegend\": true, \"subplot\": \"mapbox\", \"type\": \"scattermapbox\"}, {\"hovertemplate\": \"Customers=University 103<br>Invoice Amount=%{marker.size}<br>Lat=%{lat}<br>Long=%{lon}<extra></extra>\", \"lat\": [45.408173], \"legendgroup\": \"University 103\", \"lon\": [-122.922323], \"marker\": {\"color\": \"#EF553B\", \"size\": [750.0], \"sizemode\": \"area\", \"sizeref\": 65.625}, \"mode\": \"markers\", \"name\": \"University 103\", \"showlegend\": true, \"subplot\": \"mapbox\", \"type\": \"scattermapbox\"}, {\"hovertemplate\": \"Customers=University 104<br>Invoice Amount=%{marker.size}<br>Lat=%{lat}<br>Long=%{lon}<extra></extra>\", \"lat\": [45.521516], \"legendgroup\": \"University 104\", \"lon\": [-122.984856], \"marker\": {\"color\": \"#00cc96\", \"size\": [5775.0], \"sizemode\": \"area\", \"sizeref\": 65.625}, \"mode\": \"markers\", \"name\": \"University 104\", \"showlegend\": true, \"subplot\": \"mapbox\", \"type\": \"scattermapbox\"}, {\"hovertemplate\": \"Customers=University 105<br>Invoice Amount=%{marker.size}<br>Lat=%{lat}<br>Long=%{lon}<extra></extra>\", \"lat\": [28.062], \"legendgroup\": \"University 105\", \"lon\": [-82.413225], \"marker\": {\"color\": \"#ab63fa\", \"size\": [1900.0], \"sizemode\": \"area\", \"sizeref\": 65.625}, \"mode\": \"markers\", \"name\": \"University 105\", \"showlegend\": true, \"subplot\": \"mapbox\", \"type\": \"scattermapbox\"}, {\"hovertemplate\": \"Customers=University 106<br>Invoice Amount=%{marker.size}<br>Lat=%{lat}<br>Long=%{lon}<extra></extra>\", \"lat\": [44.119155], \"legendgroup\": \"University 106\", \"lon\": [-104.133391], \"marker\": {\"color\": \"#FFA15A\", \"size\": [500.0], \"sizemode\": \"area\", \"sizeref\": 65.625}, \"mode\": \"markers\", \"name\": \"University 106\", \"showlegend\": true, \"subplot\": \"mapbox\", \"type\": \"scattermapbox\"}, {\"hovertemplate\": \"Customers=University 108<br>Invoice Amount=%{marker.size}<br>Lat=%{lat}<br>Long=%{lon}<extra></extra>\", \"lat\": [34.434684000000004], \"legendgroup\": \"University 108\", \"lon\": [-106.131618], \"marker\": {\"color\": \"#19d3f3\", \"size\": [1450.0], \"sizemode\": \"area\", \"sizeref\": 65.625}, \"mode\": \"markers\", \"name\": \"University 108\", \"showlegend\": true, \"subplot\": \"mapbox\", \"type\": \"scattermapbox\"}, {\"hovertemplate\": \"Customers=University 11<br>Invoice Amount=%{marker.size}<br>Lat=%{lat}<br>Long=%{lon}<extra></extra>\", \"lat\": [37.986014], \"legendgroup\": \"University 11\", \"lon\": [-84.396001], \"marker\": {\"color\": \"#FF6692\", \"size\": [3500.0], \"sizemode\": \"area\", \"sizeref\": 65.625}, \"mode\": \"markers\", \"name\": \"University 11\", \"showlegend\": true, \"subplot\": \"mapbox\", \"type\": \"scattermapbox\"}, {\"hovertemplate\": \"Customers=University 110<br>Invoice Amount=%{marker.size}<br>Lat=%{lat}<br>Long=%{lon}<extra></extra>\", \"lat\": [28.062], \"legendgroup\": \"University 110\", \"lon\": [-82.413225], \"marker\": {\"color\": \"#B6E880\", \"size\": [2266.6666666666665], \"sizemode\": \"area\", \"sizeref\": 65.625}, \"mode\": \"markers\", \"name\": \"University 110\", \"showlegend\": true, \"subplot\": \"mapbox\", \"type\": \"scattermapbox\"}, {\"hovertemplate\": \"Customers=University 111<br>Invoice Amount=%{marker.size}<br>Lat=%{lat}<br>Long=%{lon}<extra></extra>\", \"lat\": [35.841039], \"legendgroup\": \"University 111\", \"lon\": [-90.675602], \"marker\": {\"color\": \"#FF97FF\", \"size\": [2540.0], \"sizemode\": \"area\", \"sizeref\": 65.625}, \"mode\": \"markers\", \"name\": \"University 111\", \"showlegend\": true, \"subplot\": \"mapbox\", \"type\": \"scattermapbox\"}, {\"hovertemplate\": \"Customers=University 118<br>Invoice Amount=%{marker.size}<br>Lat=%{lat}<br>Long=%{lon}<extra></extra>\", \"lat\": [45.408173], \"legendgroup\": \"University 118\", \"lon\": [-122.922323], \"marker\": {\"color\": \"#FECB52\", \"size\": [6300.0], \"sizemode\": \"area\", \"sizeref\": 65.625}, \"mode\": \"markers\", \"name\": \"University 118\", \"showlegend\": true, \"subplot\": \"mapbox\", \"type\": \"scattermapbox\"}, {\"hovertemplate\": \"Customers=University 124<br>Invoice Amount=%{marker.size}<br>Lat=%{lat}<br>Long=%{lon}<extra></extra>\", \"lat\": [39.622129], \"legendgroup\": \"University 124\", \"lon\": [-87.454769], \"marker\": {\"color\": \"#636efa\", \"size\": [5500.0], \"sizemode\": \"area\", \"sizeref\": 65.625}, \"mode\": \"markers\", \"name\": \"University 124\", \"showlegend\": true, \"subplot\": \"mapbox\", \"type\": \"scattermapbox\"}, {\"hovertemplate\": \"Customers=University 125<br>Invoice Amount=%{marker.size}<br>Lat=%{lat}<br>Long=%{lon}<extra></extra>\", \"lat\": [28.062], \"legendgroup\": \"University 125\", \"lon\": [-82.413225], \"marker\": {\"color\": \"#EF553B\", \"size\": [2700.0], \"sizemode\": \"area\", \"sizeref\": 65.625}, \"mode\": \"markers\", \"name\": \"University 125\", \"showlegend\": true, \"subplot\": \"mapbox\", \"type\": \"scattermapbox\"}, {\"hovertemplate\": \"Customers=University 127<br>Invoice Amount=%{marker.size}<br>Lat=%{lat}<br>Long=%{lon}<extra></extra>\", \"lat\": [47.26455000000001], \"legendgroup\": \"University 127\", \"lon\": [-122.25012], \"marker\": {\"color\": \"#00cc96\", \"size\": [2083.3333333333335], \"sizemode\": \"area\", \"sizeref\": 65.625}, \"mode\": \"markers\", \"name\": \"University 127\", \"showlegend\": true, \"subplot\": \"mapbox\", \"type\": \"scattermapbox\"}, {\"hovertemplate\": \"Customers=University 13<br>Invoice Amount=%{marker.size}<br>Lat=%{lat}<br>Long=%{lon}<extra></extra>\", \"lat\": [30.026704571428574], \"legendgroup\": \"University 13\", \"lon\": [-82.01798128571428], \"marker\": {\"color\": \"#ab63fa\", \"size\": [866.0714285714286], \"sizemode\": \"area\", \"sizeref\": 65.625}, \"mode\": \"markers\", \"name\": \"University 13\", \"showlegend\": true, \"subplot\": \"mapbox\", \"type\": \"scattermapbox\"}, {\"hovertemplate\": \"Customers=University 130<br>Invoice Amount=%{marker.size}<br>Lat=%{lat}<br>Long=%{lon}<extra></extra>\", \"lat\": [33.657531], \"legendgroup\": \"University 130\", \"lon\": [-117.81266799999999], \"marker\": {\"color\": \"#FFA15A\", \"size\": [1500.0], \"sizemode\": \"area\", \"sizeref\": 65.625}, \"mode\": \"markers\", \"name\": \"University 130\", \"showlegend\": true, \"subplot\": \"mapbox\", \"type\": \"scattermapbox\"}, {\"hovertemplate\": \"Customers=University 131<br>Invoice Amount=%{marker.size}<br>Lat=%{lat}<br>Long=%{lon}<extra></extra>\", \"lat\": [30.70327], \"legendgroup\": \"University 131\", \"lon\": [-83.02764], \"marker\": {\"color\": \"#19d3f3\", \"size\": [1900.0], \"sizemode\": \"area\", \"sizeref\": 65.625}, \"mode\": \"markers\", \"name\": \"University 131\", \"showlegend\": true, \"subplot\": \"mapbox\", \"type\": \"scattermapbox\"}, {\"hovertemplate\": \"Customers=University 137<br>Invoice Amount=%{marker.size}<br>Lat=%{lat}<br>Long=%{lon}<extra></extra>\", \"lat\": [45.408173], \"legendgroup\": \"University 137\", \"lon\": [-122.922323], \"marker\": {\"color\": \"#FF6692\", \"size\": [1000.0], \"sizemode\": \"area\", \"sizeref\": 65.625}, \"mode\": \"markers\", \"name\": \"University 137\", \"showlegend\": true, \"subplot\": \"mapbox\", \"type\": \"scattermapbox\"}, {\"hovertemplate\": \"Customers=University 139<br>Invoice Amount=%{marker.size}<br>Lat=%{lat}<br>Long=%{lon}<extra></extra>\", \"lat\": [28.062], \"legendgroup\": \"University 139\", \"lon\": [-82.413225], \"marker\": {\"color\": \"#B6E880\", \"size\": [6025.0], \"sizemode\": \"area\", \"sizeref\": 65.625}, \"mode\": \"markers\", \"name\": \"University 139\", \"showlegend\": true, \"subplot\": \"mapbox\", \"type\": \"scattermapbox\"}, {\"hovertemplate\": \"Customers=University 141<br>Invoice Amount=%{marker.size}<br>Lat=%{lat}<br>Long=%{lon}<extra></extra>\", \"lat\": [35.841039], \"legendgroup\": \"University 141\", \"lon\": [-90.67560199999998], \"marker\": {\"color\": \"#FF97FF\", \"size\": [2125.0], \"sizemode\": \"area\", \"sizeref\": 65.625}, \"mode\": \"markers\", \"name\": \"University 141\", \"showlegend\": true, \"subplot\": \"mapbox\", \"type\": \"scattermapbox\"}, {\"hovertemplate\": \"Customers=University 142<br>Invoice Amount=%{marker.size}<br>Lat=%{lat}<br>Long=%{lon}<extra></extra>\", \"lat\": [30.70327], \"legendgroup\": \"University 142\", \"lon\": [-83.02764], \"marker\": {\"color\": \"#FECB52\", \"size\": [7350.0], \"sizemode\": \"area\", \"sizeref\": 65.625}, \"mode\": \"markers\", \"name\": \"University 142\", \"showlegend\": true, \"subplot\": \"mapbox\", \"type\": \"scattermapbox\"}, {\"hovertemplate\": \"Customers=University 144<br>Invoice Amount=%{marker.size}<br>Lat=%{lat}<br>Long=%{lon}<extra></extra>\", \"lat\": [34.12708], \"legendgroup\": \"University 144\", \"lon\": [-93.056583], \"marker\": {\"color\": \"#636efa\", \"size\": [1000.0], \"sizemode\": \"area\", \"sizeref\": 65.625}, \"mode\": \"markers\", \"name\": \"University 144\", \"showlegend\": true, \"subplot\": \"mapbox\", \"type\": \"scattermapbox\"}, {\"hovertemplate\": \"Customers=University 145<br>Invoice Amount=%{marker.size}<br>Lat=%{lat}<br>Long=%{lon}<extra></extra>\", \"lat\": [28.062], \"legendgroup\": \"University 145\", \"lon\": [-82.413225], \"marker\": {\"color\": \"#EF553B\", \"size\": [8425.0], \"sizemode\": \"area\", \"sizeref\": 65.625}, \"mode\": \"markers\", \"name\": \"University 145\", \"showlegend\": true, \"subplot\": \"mapbox\", \"type\": \"scattermapbox\"}, {\"hovertemplate\": \"Customers=University 147<br>Invoice Amount=%{marker.size}<br>Lat=%{lat}<br>Long=%{lon}<extra></extra>\", \"lat\": [34.744649], \"legendgroup\": \"University 147\", \"lon\": [-82.797267], \"marker\": {\"color\": \"#00cc96\", \"size\": [2300.0], \"sizemode\": \"area\", \"sizeref\": 65.625}, \"mode\": \"markers\", \"name\": \"University 147\", \"showlegend\": true, \"subplot\": \"mapbox\", \"type\": \"scattermapbox\"}, {\"hovertemplate\": \"Customers=University 15<br>Invoice Amount=%{marker.size}<br>Lat=%{lat}<br>Long=%{lon}<extra></extra>\", \"lat\": [37.403801], \"legendgroup\": \"University 15\", \"lon\": [-75.910387], \"marker\": {\"color\": \"#ab63fa\", \"size\": [750.0], \"sizemode\": \"area\", \"sizeref\": 65.625}, \"mode\": \"markers\", \"name\": \"University 15\", \"showlegend\": true, \"subplot\": \"mapbox\", \"type\": \"scattermapbox\"}, {\"hovertemplate\": \"Customers=University 151<br>Invoice Amount=%{marker.size}<br>Lat=%{lat}<br>Long=%{lon}<extra></extra>\", \"lat\": [28.062], \"legendgroup\": \"University 151\", \"lon\": [-82.413225], \"marker\": {\"color\": \"#FFA15A\", \"size\": [1990.0], \"sizemode\": \"area\", \"sizeref\": 65.625}, \"mode\": \"markers\", \"name\": \"University 151\", \"showlegend\": true, \"subplot\": \"mapbox\", \"type\": \"scattermapbox\"}, {\"hovertemplate\": \"Customers=University 152<br>Invoice Amount=%{marker.size}<br>Lat=%{lat}<br>Long=%{lon}<extra></extra>\", \"lat\": [33.456412], \"legendgroup\": \"University 152\", \"lon\": [-86.80190400000002], \"marker\": {\"color\": \"#19d3f3\", \"size\": [1000.0], \"sizemode\": \"area\", \"sizeref\": 65.625}, \"mode\": \"markers\", \"name\": \"University 152\", \"showlegend\": true, \"subplot\": \"mapbox\", \"type\": \"scattermapbox\"}, {\"hovertemplate\": \"Customers=University 153<br>Invoice Amount=%{marker.size}<br>Lat=%{lat}<br>Long=%{lon}<extra></extra>\", \"lat\": [28.062], \"legendgroup\": \"University 153\", \"lon\": [-82.413225], \"marker\": {\"color\": \"#FF6692\", \"size\": [2550.0], \"sizemode\": \"area\", \"sizeref\": 65.625}, \"mode\": \"markers\", \"name\": \"University 153\", \"showlegend\": true, \"subplot\": \"mapbox\", \"type\": \"scattermapbox\"}, {\"hovertemplate\": \"Customers=University 154<br>Invoice Amount=%{marker.size}<br>Lat=%{lat}<br>Long=%{lon}<extra></extra>\", \"lat\": [36.905612], \"legendgroup\": \"University 154\", \"lon\": [-88.35976], \"marker\": {\"color\": \"#B6E880\", \"size\": [439.0], \"sizemode\": \"area\", \"sizeref\": 65.625}, \"mode\": \"markers\", \"name\": \"University 154\", \"showlegend\": true, \"subplot\": \"mapbox\", \"type\": \"scattermapbox\"}, {\"hovertemplate\": \"Customers=University 155<br>Invoice Amount=%{marker.size}<br>Lat=%{lat}<br>Long=%{lon}<extra></extra>\", \"lat\": [35.841039], \"legendgroup\": \"University 155\", \"lon\": [-90.675602], \"marker\": {\"color\": \"#FF97FF\", \"size\": [1500.0], \"sizemode\": \"area\", \"sizeref\": 65.625}, \"mode\": \"markers\", \"name\": \"University 155\", \"showlegend\": true, \"subplot\": \"mapbox\", \"type\": \"scattermapbox\"}, {\"hovertemplate\": \"Customers=University 157<br>Invoice Amount=%{marker.size}<br>Lat=%{lat}<br>Long=%{lon}<extra></extra>\", \"lat\": [41.33065], \"legendgroup\": \"University 157\", \"lon\": [-74.18681], \"marker\": {\"color\": \"#FECB52\", \"size\": [2710.0], \"sizemode\": \"area\", \"sizeref\": 65.625}, \"mode\": \"markers\", \"name\": \"University 157\", \"showlegend\": true, \"subplot\": \"mapbox\", \"type\": \"scattermapbox\"}, {\"hovertemplate\": \"Customers=University 158<br>Invoice Amount=%{marker.size}<br>Lat=%{lat}<br>Long=%{lon}<extra></extra>\", \"lat\": [47.666487], \"legendgroup\": \"University 158\", \"lon\": [-122.309849], \"marker\": {\"color\": \"#636efa\", \"size\": [1023.7149999999999], \"sizemode\": \"area\", \"sizeref\": 65.625}, \"mode\": \"markers\", \"name\": \"University 158\", \"showlegend\": true, \"subplot\": \"mapbox\", \"type\": \"scattermapbox\"}, {\"hovertemplate\": \"Customers=University 16<br>Invoice Amount=%{marker.size}<br>Lat=%{lat}<br>Long=%{lon}<extra></extra>\", \"lat\": [30.380051571428577], \"legendgroup\": \"University 16\", \"lon\": [-82.23166714285715], \"marker\": {\"color\": \"#EF553B\", \"size\": [1125.0], \"sizemode\": \"area\", \"sizeref\": 65.625}, \"mode\": \"markers\", \"name\": \"University 16\", \"showlegend\": true, \"subplot\": \"mapbox\", \"type\": \"scattermapbox\"}, {\"hovertemplate\": \"Customers=University 164<br>Invoice Amount=%{marker.size}<br>Lat=%{lat}<br>Long=%{lon}<extra></extra>\", \"lat\": [36.34318], \"legendgroup\": \"University 164\", \"lon\": [-88.858988], \"marker\": {\"color\": \"#00cc96\", \"size\": [190.83333333333334], \"sizemode\": \"area\", \"sizeref\": 65.625}, \"mode\": \"markers\", \"name\": \"University 164\", \"showlegend\": true, \"subplot\": \"mapbox\", \"type\": \"scattermapbox\"}, {\"hovertemplate\": \"Customers=University 165<br>Invoice Amount=%{marker.size}<br>Lat=%{lat}<br>Long=%{lon}<extra></extra>\", \"lat\": [45.408173], \"legendgroup\": \"University 165\", \"lon\": [-122.922323], \"marker\": {\"color\": \"#ab63fa\", \"size\": [1650.0], \"sizemode\": \"area\", \"sizeref\": 65.625}, \"mode\": \"markers\", \"name\": \"University 165\", \"showlegend\": true, \"subplot\": \"mapbox\", \"type\": \"scattermapbox\"}, {\"hovertemplate\": \"Customers=University 167<br>Invoice Amount=%{marker.size}<br>Lat=%{lat}<br>Long=%{lon}<extra></extra>\", \"lat\": [48.049258], \"legendgroup\": \"University 167\", \"lon\": [-122.819336], \"marker\": {\"color\": \"#FFA15A\", \"size\": [500.0], \"sizemode\": \"area\", \"sizeref\": 65.625}, \"mode\": \"markers\", \"name\": \"University 167\", \"showlegend\": true, \"subplot\": \"mapbox\", \"type\": \"scattermapbox\"}, {\"hovertemplate\": \"Customers=University 168<br>Invoice Amount=%{marker.size}<br>Lat=%{lat}<br>Long=%{lon}<extra></extra>\", \"lat\": [33.640302], \"legendgroup\": \"University 168\", \"lon\": [-117.769442], \"marker\": {\"color\": \"#19d3f3\", \"size\": [1100.0], \"sizemode\": \"area\", \"sizeref\": 65.625}, \"mode\": \"markers\", \"name\": \"University 168\", \"showlegend\": true, \"subplot\": \"mapbox\", \"type\": \"scattermapbox\"}, {\"hovertemplate\": \"Customers=University 169<br>Invoice Amount=%{marker.size}<br>Lat=%{lat}<br>Long=%{lon}<extra></extra>\", \"lat\": [38.993867], \"legendgroup\": \"University 169\", \"lon\": [-105.508319], \"marker\": {\"color\": \"#FF6692\", \"size\": [600.0], \"sizemode\": \"area\", \"sizeref\": 65.625}, \"mode\": \"markers\", \"name\": \"University 169\", \"showlegend\": true, \"subplot\": \"mapbox\", \"type\": \"scattermapbox\"}, {\"hovertemplate\": \"Customers=University 17<br>Invoice Amount=%{marker.size}<br>Lat=%{lat}<br>Long=%{lon}<extra></extra>\", \"lat\": [40.065615], \"legendgroup\": \"University 17\", \"lon\": [-79.885932], \"marker\": {\"color\": \"#B6E880\", \"size\": [4725.0], \"sizemode\": \"area\", \"sizeref\": 65.625}, \"mode\": \"markers\", \"name\": \"University 17\", \"showlegend\": true, \"subplot\": \"mapbox\", \"type\": \"scattermapbox\"}, {\"hovertemplate\": \"Customers=University 170<br>Invoice Amount=%{marker.size}<br>Lat=%{lat}<br>Long=%{lon}<extra></extra>\", \"lat\": [45.408173], \"legendgroup\": \"University 170\", \"lon\": [-122.922323], \"marker\": {\"color\": \"#FF97FF\", \"size\": [2300.0], \"sizemode\": \"area\", \"sizeref\": 65.625}, \"mode\": \"markers\", \"name\": \"University 170\", \"showlegend\": true, \"subplot\": \"mapbox\", \"type\": \"scattermapbox\"}, {\"hovertemplate\": \"Customers=University 171<br>Invoice Amount=%{marker.size}<br>Lat=%{lat}<br>Long=%{lon}<extra></extra>\", \"lat\": [37.680181], \"legendgroup\": \"University 171\", \"lon\": [-121.921498], \"marker\": {\"color\": \"#FECB52\", \"size\": [3000.0], \"sizemode\": \"area\", \"sizeref\": 65.625}, \"mode\": \"markers\", \"name\": \"University 171\", \"showlegend\": true, \"subplot\": \"mapbox\", \"type\": \"scattermapbox\"}, {\"hovertemplate\": \"Customers=University 172<br>Invoice Amount=%{marker.size}<br>Lat=%{lat}<br>Long=%{lon}<extra></extra>\", \"lat\": [34.744649], \"legendgroup\": \"University 172\", \"lon\": [-82.797267], \"marker\": {\"color\": \"#636efa\", \"size\": [450.0], \"sizemode\": \"area\", \"sizeref\": 65.625}, \"mode\": \"markers\", \"name\": \"University 172\", \"showlegend\": true, \"subplot\": \"mapbox\", \"type\": \"scattermapbox\"}, {\"hovertemplate\": \"Customers=University 173<br>Invoice Amount=%{marker.size}<br>Lat=%{lat}<br>Long=%{lon}<extra></extra>\", \"lat\": [46.28569], \"legendgroup\": \"University 173\", \"lon\": [-119.28446], \"marker\": {\"color\": \"#EF553B\", \"size\": [1600.0], \"sizemode\": \"area\", \"sizeref\": 65.625}, \"mode\": \"markers\", \"name\": \"University 173\", \"showlegend\": true, \"subplot\": \"mapbox\", \"type\": \"scattermapbox\"}, {\"hovertemplate\": \"Customers=University 174<br>Invoice Amount=%{marker.size}<br>Lat=%{lat}<br>Long=%{lon}<extra></extra>\", \"lat\": [36.432632], \"legendgroup\": \"University 174\", \"lon\": [-80.91785300000002], \"marker\": {\"color\": \"#00cc96\", \"size\": [1730.0], \"sizemode\": \"area\", \"sizeref\": 65.625}, \"mode\": \"markers\", \"name\": \"University 174\", \"showlegend\": true, \"subplot\": \"mapbox\", \"type\": \"scattermapbox\"}, {\"hovertemplate\": \"Customers=University 175<br>Invoice Amount=%{marker.size}<br>Lat=%{lat}<br>Long=%{lon}<extra></extra>\", \"lat\": [39.282538], \"legendgroup\": \"University 175\", \"lon\": [-87.667527], \"marker\": {\"color\": \"#ab63fa\", \"size\": [6000.0], \"sizemode\": \"area\", \"sizeref\": 65.625}, \"mode\": \"markers\", \"name\": \"University 175\", \"showlegend\": true, \"subplot\": \"mapbox\", \"type\": \"scattermapbox\"}, {\"hovertemplate\": \"Customers=University 176<br>Invoice Amount=%{marker.size}<br>Lat=%{lat}<br>Long=%{lon}<extra></extra>\", \"lat\": [34.859604], \"legendgroup\": \"University 176\", \"lon\": [-80.938257], \"marker\": {\"color\": \"#FFA15A\", \"size\": [1000.0], \"sizemode\": \"area\", \"sizeref\": 65.625}, \"mode\": \"markers\", \"name\": \"University 176\", \"showlegend\": true, \"subplot\": \"mapbox\", \"type\": \"scattermapbox\"}, {\"hovertemplate\": \"Customers=University 177<br>Invoice Amount=%{marker.size}<br>Lat=%{lat}<br>Long=%{lon}<extra></extra>\", \"lat\": [28.062], \"legendgroup\": \"University 177\", \"lon\": [-82.413225], \"marker\": {\"color\": \"#19d3f3\", \"size\": [2833.3333333333335], \"sizemode\": \"area\", \"sizeref\": 65.625}, \"mode\": \"markers\", \"name\": \"University 177\", \"showlegend\": true, \"subplot\": \"mapbox\", \"type\": \"scattermapbox\"}, {\"hovertemplate\": \"Customers=University 178<br>Invoice Amount=%{marker.size}<br>Lat=%{lat}<br>Long=%{lon}<extra></extra>\", \"lat\": [39.897162], \"legendgroup\": \"University 178\", \"lon\": [-75.344083], \"marker\": {\"color\": \"#FF6692\", \"size\": [714.0], \"sizemode\": \"area\", \"sizeref\": 65.625}, \"mode\": \"markers\", \"name\": \"University 178\", \"showlegend\": true, \"subplot\": \"mapbox\", \"type\": \"scattermapbox\"}, {\"hovertemplate\": \"Customers=University 179<br>Invoice Amount=%{marker.size}<br>Lat=%{lat}<br>Long=%{lon}<extra></extra>\", \"lat\": [28.062], \"legendgroup\": \"University 179\", \"lon\": [-82.413225], \"marker\": {\"color\": \"#B6E880\", \"size\": [6239.75], \"sizemode\": \"area\", \"sizeref\": 65.625}, \"mode\": \"markers\", \"name\": \"University 179\", \"showlegend\": true, \"subplot\": \"mapbox\", \"type\": \"scattermapbox\"}, {\"hovertemplate\": \"Customers=University 180<br>Invoice Amount=%{marker.size}<br>Lat=%{lat}<br>Long=%{lon}<extra></extra>\", \"lat\": [28.062], \"legendgroup\": \"University 180\", \"lon\": [-82.413225], \"marker\": {\"color\": \"#FF97FF\", \"size\": [875.0], \"sizemode\": \"area\", \"sizeref\": 65.625}, \"mode\": \"markers\", \"name\": \"University 180\", \"showlegend\": true, \"subplot\": \"mapbox\", \"type\": \"scattermapbox\"}, {\"hovertemplate\": \"Customers=University 181<br>Invoice Amount=%{marker.size}<br>Lat=%{lat}<br>Long=%{lon}<extra></extra>\", \"lat\": [28.062], \"legendgroup\": \"University 181\", \"lon\": [-82.413225], \"marker\": {\"color\": \"#FECB52\", \"size\": [7500.0], \"sizemode\": \"area\", \"sizeref\": 65.625}, \"mode\": \"markers\", \"name\": \"University 181\", \"showlegend\": true, \"subplot\": \"mapbox\", \"type\": \"scattermapbox\"}, {\"hovertemplate\": \"Customers=University 184<br>Invoice Amount=%{marker.size}<br>Lat=%{lat}<br>Long=%{lon}<extra></extra>\", \"lat\": [28.062], \"legendgroup\": \"University 184\", \"lon\": [-82.413225], \"marker\": {\"color\": \"#636efa\", \"size\": [2312.5], \"sizemode\": \"area\", \"sizeref\": 65.625}, \"mode\": \"markers\", \"name\": \"University 184\", \"showlegend\": true, \"subplot\": \"mapbox\", \"type\": \"scattermapbox\"}, {\"hovertemplate\": \"Customers=University 185<br>Invoice Amount=%{marker.size}<br>Lat=%{lat}<br>Long=%{lon}<extra></extra>\", \"lat\": [28.062], \"legendgroup\": \"University 185\", \"lon\": [-82.413225], \"marker\": {\"color\": \"#EF553B\", \"size\": [1000.0], \"sizemode\": \"area\", \"sizeref\": 65.625}, \"mode\": \"markers\", \"name\": \"University 185\", \"showlegend\": true, \"subplot\": \"mapbox\", \"type\": \"scattermapbox\"}, {\"hovertemplate\": \"Customers=University 186<br>Invoice Amount=%{marker.size}<br>Lat=%{lat}<br>Long=%{lon}<extra></extra>\", \"lat\": [29.953701], \"legendgroup\": \"University 186\", \"lon\": [-90.072803], \"marker\": {\"color\": \"#00cc96\", \"size\": [625.0], \"sizemode\": \"area\", \"sizeref\": 65.625}, \"mode\": \"markers\", \"name\": \"University 186\", \"showlegend\": true, \"subplot\": \"mapbox\", \"type\": \"scattermapbox\"}, {\"hovertemplate\": \"Customers=University 187<br>Invoice Amount=%{marker.size}<br>Lat=%{lat}<br>Long=%{lon}<extra></extra>\", \"lat\": [28.062], \"legendgroup\": \"University 187\", \"lon\": [-82.413225], \"marker\": {\"color\": \"#ab63fa\", \"size\": [535.5], \"sizemode\": \"area\", \"sizeref\": 65.625}, \"mode\": \"markers\", \"name\": \"University 187\", \"showlegend\": true, \"subplot\": \"mapbox\", \"type\": \"scattermapbox\"}, {\"hovertemplate\": \"Customers=University 189<br>Invoice Amount=%{marker.size}<br>Lat=%{lat}<br>Long=%{lon}<extra></extra>\", \"lat\": [40.53907], \"legendgroup\": \"University 189\", \"lon\": [-75.78144499999998], \"marker\": {\"color\": \"#FFA15A\", \"size\": [4833.333333333333], \"sizemode\": \"area\", \"sizeref\": 65.625}, \"mode\": \"markers\", \"name\": \"University 189\", \"showlegend\": true, \"subplot\": \"mapbox\", \"type\": \"scattermapbox\"}, {\"hovertemplate\": \"Customers=University 19<br>Invoice Amount=%{marker.size}<br>Lat=%{lat}<br>Long=%{lon}<extra></extra>\", \"lat\": [39.0080928], \"legendgroup\": \"University 19\", \"lon\": [-105.9789614], \"marker\": {\"color\": \"#19d3f3\", \"size\": [750.0], \"sizemode\": \"area\", \"sizeref\": 65.625}, \"mode\": \"markers\", \"name\": \"University 19\", \"showlegend\": true, \"subplot\": \"mapbox\", \"type\": \"scattermapbox\"}, {\"hovertemplate\": \"Customers=University 191<br>Invoice Amount=%{marker.size}<br>Lat=%{lat}<br>Long=%{lon}<extra></extra>\", \"lat\": [33.912473], \"legendgroup\": \"University 191\", \"lon\": [-84.557181], \"marker\": {\"color\": \"#FF6692\", \"size\": [2465.0], \"sizemode\": \"area\", \"sizeref\": 65.625}, \"mode\": \"markers\", \"name\": \"University 191\", \"showlegend\": true, \"subplot\": \"mapbox\", \"type\": \"scattermapbox\"}, {\"hovertemplate\": \"Customers=University 192<br>Invoice Amount=%{marker.size}<br>Lat=%{lat}<br>Long=%{lon}<extra></extra>\", \"lat\": [28.062], \"legendgroup\": \"University 192\", \"lon\": [-82.413225], \"marker\": {\"color\": \"#B6E880\", \"size\": [2500.0], \"sizemode\": \"area\", \"sizeref\": 65.625}, \"mode\": \"markers\", \"name\": \"University 192\", \"showlegend\": true, \"subplot\": \"mapbox\", \"type\": \"scattermapbox\"}, {\"hovertemplate\": \"Customers=University 195<br>Invoice Amount=%{marker.size}<br>Lat=%{lat}<br>Long=%{lon}<extra></extra>\", \"lat\": [28.062], \"legendgroup\": \"University 195\", \"lon\": [-82.413225], \"marker\": {\"color\": \"#FF97FF\", \"size\": [1567.5], \"sizemode\": \"area\", \"sizeref\": 65.625}, \"mode\": \"markers\", \"name\": \"University 195\", \"showlegend\": true, \"subplot\": \"mapbox\", \"type\": \"scattermapbox\"}, {\"hovertemplate\": \"Customers=University 196<br>Invoice Amount=%{marker.size}<br>Lat=%{lat}<br>Long=%{lon}<extra></extra>\", \"lat\": [35.841039], \"legendgroup\": \"University 196\", \"lon\": [-90.67560199999998], \"marker\": {\"color\": \"#FECB52\", \"size\": [880.0], \"sizemode\": \"area\", \"sizeref\": 65.625}, \"mode\": \"markers\", \"name\": \"University 196\", \"showlegend\": true, \"subplot\": \"mapbox\", \"type\": \"scattermapbox\"}, {\"hovertemplate\": \"Customers=University 197<br>Invoice Amount=%{marker.size}<br>Lat=%{lat}<br>Long=%{lon}<extra></extra>\", \"lat\": [33.94815], \"legendgroup\": \"University 197\", \"lon\": [-86.47276], \"marker\": {\"color\": \"#636efa\", \"size\": [1477.5], \"sizemode\": \"area\", \"sizeref\": 65.625}, \"mode\": \"markers\", \"name\": \"University 197\", \"showlegend\": true, \"subplot\": \"mapbox\", \"type\": \"scattermapbox\"}, {\"hovertemplate\": \"Customers=University 198<br>Invoice Amount=%{marker.size}<br>Lat=%{lat}<br>Long=%{lon}<extra></extra>\", \"lat\": [38.544956], \"legendgroup\": \"University 198\", \"lon\": [-121.746159], \"marker\": {\"color\": \"#EF553B\", \"size\": [841.0], \"sizemode\": \"area\", \"sizeref\": 65.625}, \"mode\": \"markers\", \"name\": \"University 198\", \"showlegend\": true, \"subplot\": \"mapbox\", \"type\": \"scattermapbox\"}, {\"hovertemplate\": \"Customers=University 199<br>Invoice Amount=%{marker.size}<br>Lat=%{lat}<br>Long=%{lon}<extra></extra>\", \"lat\": [21.970965], \"legendgroup\": \"University 199\", \"lon\": [-159.714507], \"marker\": {\"color\": \"#00cc96\", \"size\": [1727.5], \"sizemode\": \"area\", \"sizeref\": 65.625}, \"mode\": \"markers\", \"name\": \"University 199\", \"showlegend\": true, \"subplot\": \"mapbox\", \"type\": \"scattermapbox\"}, {\"hovertemplate\": \"Customers=University 2<br>Invoice Amount=%{marker.size}<br>Lat=%{lat}<br>Long=%{lon}<extra></extra>\", \"lat\": [37.371981], \"legendgroup\": \"University 2\", \"lon\": [-93.9790784], \"marker\": {\"color\": \"#ab63fa\", \"size\": [2500.0], \"sizemode\": \"area\", \"sizeref\": 65.625}, \"mode\": \"markers\", \"name\": \"University 2\", \"showlegend\": true, \"subplot\": \"mapbox\", \"type\": \"scattermapbox\"}, {\"hovertemplate\": \"Customers=University 200<br>Invoice Amount=%{marker.size}<br>Lat=%{lat}<br>Long=%{lon}<extra></extra>\", \"lat\": [35.841039], \"legendgroup\": \"University 200\", \"lon\": [-90.675602], \"marker\": {\"color\": \"#FFA15A\", \"size\": [3787.5], \"sizemode\": \"area\", \"sizeref\": 65.625}, \"mode\": \"markers\", \"name\": \"University 200\", \"showlegend\": true, \"subplot\": \"mapbox\", \"type\": \"scattermapbox\"}, {\"hovertemplate\": \"Customers=University 201<br>Invoice Amount=%{marker.size}<br>Lat=%{lat}<br>Long=%{lon}<extra></extra>\", \"lat\": [39.99788], \"legendgroup\": \"University 201\", \"lon\": [-76.35413], \"marker\": {\"color\": \"#19d3f3\", \"size\": [1666.0], \"sizemode\": \"area\", \"sizeref\": 65.625}, \"mode\": \"markers\", \"name\": \"University 201\", \"showlegend\": true, \"subplot\": \"mapbox\", \"type\": \"scattermapbox\"}, {\"hovertemplate\": \"Customers=University 202<br>Invoice Amount=%{marker.size}<br>Lat=%{lat}<br>Long=%{lon}<extra></extra>\", \"lat\": [28.062], \"legendgroup\": \"University 202\", \"lon\": [-82.413225], \"marker\": {\"color\": \"#FF6692\", \"size\": [3312.5], \"sizemode\": \"area\", \"sizeref\": 65.625}, \"mode\": \"markers\", \"name\": \"University 202\", \"showlegend\": true, \"subplot\": \"mapbox\", \"type\": \"scattermapbox\"}, {\"hovertemplate\": \"Customers=University 203<br>Invoice Amount=%{marker.size}<br>Lat=%{lat}<br>Long=%{lon}<extra></extra>\", \"lat\": [43.223303], \"legendgroup\": \"University 203\", \"lon\": [-77.917335], \"marker\": {\"color\": \"#B6E880\", \"size\": [750.0], \"sizemode\": \"area\", \"sizeref\": 65.625}, \"mode\": \"markers\", \"name\": \"University 203\", \"showlegend\": true, \"subplot\": \"mapbox\", \"type\": \"scattermapbox\"}, {\"hovertemplate\": \"Customers=University 204<br>Invoice Amount=%{marker.size}<br>Lat=%{lat}<br>Long=%{lon}<extra></extra>\", \"lat\": [28.062], \"legendgroup\": \"University 204\", \"lon\": [-82.413225], \"marker\": {\"color\": \"#FF97FF\", \"size\": [1562.5], \"sizemode\": \"area\", \"sizeref\": 65.625}, \"mode\": \"markers\", \"name\": \"University 204\", \"showlegend\": true, \"subplot\": \"mapbox\", \"type\": \"scattermapbox\"}, {\"hovertemplate\": \"Customers=University 206<br>Invoice Amount=%{marker.size}<br>Lat=%{lat}<br>Long=%{lon}<extra></extra>\", \"lat\": [28.062], \"legendgroup\": \"University 206\", \"lon\": [-82.413225], \"marker\": {\"color\": \"#FECB52\", \"size\": [1500.0], \"sizemode\": \"area\", \"sizeref\": 65.625}, \"mode\": \"markers\", \"name\": \"University 206\", \"showlegend\": true, \"subplot\": \"mapbox\", \"type\": \"scattermapbox\"}, {\"hovertemplate\": \"Customers=University 207<br>Invoice Amount=%{marker.size}<br>Lat=%{lat}<br>Long=%{lon}<extra></extra>\", \"lat\": [41.88531], \"legendgroup\": \"University 207\", \"lon\": [-87.62213], \"marker\": {\"color\": \"#636efa\", \"size\": [937.5], \"sizemode\": \"area\", \"sizeref\": 65.625}, \"mode\": \"markers\", \"name\": \"University 207\", \"showlegend\": true, \"subplot\": \"mapbox\", \"type\": \"scattermapbox\"}, {\"hovertemplate\": \"Customers=University 208<br>Invoice Amount=%{marker.size}<br>Lat=%{lat}<br>Long=%{lon}<extra></extra>\", \"lat\": [28.062], \"legendgroup\": \"University 208\", \"lon\": [-82.413225], \"marker\": {\"color\": \"#EF553B\", \"size\": [2062.5], \"sizemode\": \"area\", \"sizeref\": 65.625}, \"mode\": \"markers\", \"name\": \"University 208\", \"showlegend\": true, \"subplot\": \"mapbox\", \"type\": \"scattermapbox\"}, {\"hovertemplate\": \"Customers=University 209<br>Invoice Amount=%{marker.size}<br>Lat=%{lat}<br>Long=%{lon}<extra></extra>\", \"lat\": [39.537043], \"legendgroup\": \"University 209\", \"lon\": [-77.76388299999998], \"marker\": {\"color\": \"#00cc96\", \"size\": [1900.0], \"sizemode\": \"area\", \"sizeref\": 65.625}, \"mode\": \"markers\", \"name\": \"University 209\", \"showlegend\": true, \"subplot\": \"mapbox\", \"type\": \"scattermapbox\"}, {\"hovertemplate\": \"Customers=University 210<br>Invoice Amount=%{marker.size}<br>Lat=%{lat}<br>Long=%{lon}<extra></extra>\", \"lat\": [28.062], \"legendgroup\": \"University 210\", \"lon\": [-82.413225], \"marker\": {\"color\": \"#ab63fa\", \"size\": [750.0], \"sizemode\": \"area\", \"sizeref\": 65.625}, \"mode\": \"markers\", \"name\": \"University 210\", \"showlegend\": true, \"subplot\": \"mapbox\", \"type\": \"scattermapbox\"}, {\"hovertemplate\": \"Customers=University 213<br>Invoice Amount=%{marker.size}<br>Lat=%{lat}<br>Long=%{lon}<extra></extra>\", \"lat\": [28.062], \"legendgroup\": \"University 213\", \"lon\": [-82.413225], \"marker\": {\"color\": \"#FFA15A\", \"size\": [6208.333333333333], \"sizemode\": \"area\", \"sizeref\": 65.625}, \"mode\": \"markers\", \"name\": \"University 213\", \"showlegend\": true, \"subplot\": \"mapbox\", \"type\": \"scattermapbox\"}, {\"hovertemplate\": \"Customers=University 215<br>Invoice Amount=%{marker.size}<br>Lat=%{lat}<br>Long=%{lon}<extra></extra>\", \"lat\": [28.062], \"legendgroup\": \"University 215\", \"lon\": [-82.413225], \"marker\": {\"color\": \"#19d3f3\", \"size\": [625.0], \"sizemode\": \"area\", \"sizeref\": 65.625}, \"mode\": \"markers\", \"name\": \"University 215\", \"showlegend\": true, \"subplot\": \"mapbox\", \"type\": \"scattermapbox\"}, {\"hovertemplate\": \"Customers=University 216<br>Invoice Amount=%{marker.size}<br>Lat=%{lat}<br>Long=%{lon}<extra></extra>\", \"lat\": [28.062], \"legendgroup\": \"University 216\", \"lon\": [-82.413225], \"marker\": {\"color\": \"#FF6692\", \"size\": [3205.933333333333], \"sizemode\": \"area\", \"sizeref\": 65.625}, \"mode\": \"markers\", \"name\": \"University 216\", \"showlegend\": true, \"subplot\": \"mapbox\", \"type\": \"scattermapbox\"}, {\"hovertemplate\": \"Customers=University 217<br>Invoice Amount=%{marker.size}<br>Lat=%{lat}<br>Long=%{lon}<extra></extra>\", \"lat\": [40.83739], \"legendgroup\": \"University 217\", \"lon\": [-73.92343000000002], \"marker\": {\"color\": \"#B6E880\", \"size\": [761.25], \"sizemode\": \"area\", \"sizeref\": 65.625}, \"mode\": \"markers\", \"name\": \"University 217\", \"showlegend\": true, \"subplot\": \"mapbox\", \"type\": \"scattermapbox\"}, {\"hovertemplate\": \"Customers=University 218<br>Invoice Amount=%{marker.size}<br>Lat=%{lat}<br>Long=%{lon}<extra></extra>\", \"lat\": [44.510664], \"legendgroup\": \"University 218\", \"lon\": [-89.638254], \"marker\": {\"color\": \"#FF97FF\", \"size\": [2375.0], \"sizemode\": \"area\", \"sizeref\": 65.625}, \"mode\": \"markers\", \"name\": \"University 218\", \"showlegend\": true, \"subplot\": \"mapbox\", \"type\": \"scattermapbox\"}, {\"hovertemplate\": \"Customers=University 219<br>Invoice Amount=%{marker.size}<br>Lat=%{lat}<br>Long=%{lon}<extra></extra>\", \"lat\": [42.074129], \"legendgroup\": \"University 219\", \"lon\": [-80.072888], \"marker\": {\"color\": \"#FECB52\", \"size\": [150.0], \"sizemode\": \"area\", \"sizeref\": 65.625}, \"mode\": \"markers\", \"name\": \"University 219\", \"showlegend\": true, \"subplot\": \"mapbox\", \"type\": \"scattermapbox\"}, {\"hovertemplate\": \"Customers=University 22<br>Invoice Amount=%{marker.size}<br>Lat=%{lat}<br>Long=%{lon}<extra></extra>\", \"lat\": [41.5028], \"legendgroup\": \"University 22\", \"lon\": [-87.68429300000003], \"marker\": {\"color\": \"#636efa\", \"size\": [3500.0], \"sizemode\": \"area\", \"sizeref\": 65.625}, \"mode\": \"markers\", \"name\": \"University 22\", \"showlegend\": true, \"subplot\": \"mapbox\", \"type\": \"scattermapbox\"}, {\"hovertemplate\": \"Customers=University 220<br>Invoice Amount=%{marker.size}<br>Lat=%{lat}<br>Long=%{lon}<extra></extra>\", \"lat\": [37.57557], \"legendgroup\": \"University 220\", \"lon\": [-77.53823], \"marker\": {\"color\": \"#EF553B\", \"size\": [1700.0], \"sizemode\": \"area\", \"sizeref\": 65.625}, \"mode\": \"markers\", \"name\": \"University 220\", \"showlegend\": true, \"subplot\": \"mapbox\", \"type\": \"scattermapbox\"}, {\"hovertemplate\": \"Customers=University 221<br>Invoice Amount=%{marker.size}<br>Lat=%{lat}<br>Long=%{lon}<extra></extra>\", \"lat\": [32.941519], \"legendgroup\": \"University 221\", \"lon\": [-89.192566], \"marker\": {\"color\": \"#00cc96\", \"size\": [450.0], \"sizemode\": \"area\", \"sizeref\": 65.625}, \"mode\": \"markers\", \"name\": \"University 221\", \"showlegend\": true, \"subplot\": \"mapbox\", \"type\": \"scattermapbox\"}, {\"hovertemplate\": \"Customers=University 223<br>Invoice Amount=%{marker.size}<br>Lat=%{lat}<br>Long=%{lon}<extra></extra>\", \"lat\": [41.147084], \"legendgroup\": \"University 223\", \"lon\": [-96.523011], \"marker\": {\"color\": \"#ab63fa\", \"size\": [875.0], \"sizemode\": \"area\", \"sizeref\": 65.625}, \"mode\": \"markers\", \"name\": \"University 223\", \"showlegend\": true, \"subplot\": \"mapbox\", \"type\": \"scattermapbox\"}, {\"hovertemplate\": \"Customers=University 224<br>Invoice Amount=%{marker.size}<br>Lat=%{lat}<br>Long=%{lon}<extra></extra>\", \"lat\": [37.725102], \"legendgroup\": \"University 224\", \"lon\": [-122.413452], \"marker\": {\"color\": \"#FFA15A\", \"size\": [1800.0], \"sizemode\": \"area\", \"sizeref\": 65.625}, \"mode\": \"markers\", \"name\": \"University 224\", \"showlegend\": true, \"subplot\": \"mapbox\", \"type\": \"scattermapbox\"}, {\"hovertemplate\": \"Customers=University 225<br>Invoice Amount=%{marker.size}<br>Lat=%{lat}<br>Long=%{lon}<extra></extra>\", \"lat\": [35.180557], \"legendgroup\": \"University 225\", \"lon\": [-80.870862], \"marker\": {\"color\": \"#19d3f3\", \"size\": [5250.0], \"sizemode\": \"area\", \"sizeref\": 65.625}, \"mode\": \"markers\", \"name\": \"University 225\", \"showlegend\": true, \"subplot\": \"mapbox\", \"type\": \"scattermapbox\"}, {\"hovertemplate\": \"Customers=University 226<br>Invoice Amount=%{marker.size}<br>Lat=%{lat}<br>Long=%{lon}<extra></extra>\", \"lat\": [32.60242], \"legendgroup\": \"University 226\", \"lon\": [-85.487341], \"marker\": {\"color\": \"#FF6692\", \"size\": [1413.5], \"sizemode\": \"area\", \"sizeref\": 65.625}, \"mode\": \"markers\", \"name\": \"University 226\", \"showlegend\": true, \"subplot\": \"mapbox\", \"type\": \"scattermapbox\"}, {\"hovertemplate\": \"Customers=University 227<br>Invoice Amount=%{marker.size}<br>Lat=%{lat}<br>Long=%{lon}<extra></extra>\", \"lat\": [35.841039], \"legendgroup\": \"University 227\", \"lon\": [-90.675602], \"marker\": {\"color\": \"#B6E880\", \"size\": [2000.0], \"sizemode\": \"area\", \"sizeref\": 65.625}, \"mode\": \"markers\", \"name\": \"University 227\", \"showlegend\": true, \"subplot\": \"mapbox\", \"type\": \"scattermapbox\"}, {\"hovertemplate\": \"Customers=University 228<br>Invoice Amount=%{marker.size}<br>Lat=%{lat}<br>Long=%{lon}<extra></extra>\", \"lat\": [32.381605], \"legendgroup\": \"University 228\", \"lon\": [-88.663489], \"marker\": {\"color\": \"#FF97FF\", \"size\": [500.0], \"sizemode\": \"area\", \"sizeref\": 65.625}, \"mode\": \"markers\", \"name\": \"University 228\", \"showlegend\": true, \"subplot\": \"mapbox\", \"type\": \"scattermapbox\"}, {\"hovertemplate\": \"Customers=University 231<br>Invoice Amount=%{marker.size}<br>Lat=%{lat}<br>Long=%{lon}<extra></extra>\", \"lat\": [29.543813], \"legendgroup\": \"University 231\", \"lon\": [-98.295356], \"marker\": {\"color\": \"#FECB52\", \"size\": [21500.0], \"sizemode\": \"area\", \"sizeref\": 65.625}, \"mode\": \"markers\", \"name\": \"University 231\", \"showlegend\": true, \"subplot\": \"mapbox\", \"type\": \"scattermapbox\"}, {\"hovertemplate\": \"Customers=University 232<br>Invoice Amount=%{marker.size}<br>Lat=%{lat}<br>Long=%{lon}<extra></extra>\", \"lat\": [28.062], \"legendgroup\": \"University 232\", \"lon\": [-82.413225], \"marker\": {\"color\": \"#636efa\", \"size\": [1033.3333333333333], \"sizemode\": \"area\", \"sizeref\": 65.625}, \"mode\": \"markers\", \"name\": \"University 232\", \"showlegend\": true, \"subplot\": \"mapbox\", \"type\": \"scattermapbox\"}, {\"hovertemplate\": \"Customers=University 234<br>Invoice Amount=%{marker.size}<br>Lat=%{lat}<br>Long=%{lon}<extra></extra>\", \"lat\": [38.544956], \"legendgroup\": \"University 234\", \"lon\": [-121.746159], \"marker\": {\"color\": \"#EF553B\", \"size\": [2882.0], \"sizemode\": \"area\", \"sizeref\": 65.625}, \"mode\": \"markers\", \"name\": \"University 234\", \"showlegend\": true, \"subplot\": \"mapbox\", \"type\": \"scattermapbox\"}, {\"hovertemplate\": \"Customers=University 235<br>Invoice Amount=%{marker.size}<br>Lat=%{lat}<br>Long=%{lon}<extra></extra>\", \"lat\": [41.650261], \"legendgroup\": \"University 235\", \"lon\": [-74.700396], \"marker\": {\"color\": \"#00cc96\", \"size\": [1000.0], \"sizemode\": \"area\", \"sizeref\": 65.625}, \"mode\": \"markers\", \"name\": \"University 235\", \"showlegend\": true, \"subplot\": \"mapbox\", \"type\": \"scattermapbox\"}, {\"hovertemplate\": \"Customers=University 236<br>Invoice Amount=%{marker.size}<br>Lat=%{lat}<br>Long=%{lon}<extra></extra>\", \"lat\": [28.062], \"legendgroup\": \"University 236\", \"lon\": [-82.413225], \"marker\": {\"color\": \"#ab63fa\", \"size\": [1900.0], \"sizemode\": \"area\", \"sizeref\": 65.625}, \"mode\": \"markers\", \"name\": \"University 236\", \"showlegend\": true, \"subplot\": \"mapbox\", \"type\": \"scattermapbox\"}, {\"hovertemplate\": \"Customers=University 237<br>Invoice Amount=%{marker.size}<br>Lat=%{lat}<br>Long=%{lon}<extra></extra>\", \"lat\": [30.590585], \"legendgroup\": \"University 237\", \"lon\": [-91.170285], \"marker\": {\"color\": \"#FFA15A\", \"size\": [3500.0], \"sizemode\": \"area\", \"sizeref\": 65.625}, \"mode\": \"markers\", \"name\": \"University 237\", \"showlegend\": true, \"subplot\": \"mapbox\", \"type\": \"scattermapbox\"}, {\"hovertemplate\": \"Customers=University 239<br>Invoice Amount=%{marker.size}<br>Lat=%{lat}<br>Long=%{lon}<extra></extra>\", \"lat\": [28.062], \"legendgroup\": \"University 239\", \"lon\": [-82.413225], \"marker\": {\"color\": \"#19d3f3\", \"size\": [4500.0], \"sizemode\": \"area\", \"sizeref\": 65.625}, \"mode\": \"markers\", \"name\": \"University 239\", \"showlegend\": true, \"subplot\": \"mapbox\", \"type\": \"scattermapbox\"}, {\"hovertemplate\": \"Customers=University 240<br>Invoice Amount=%{marker.size}<br>Lat=%{lat}<br>Long=%{lon}<extra></extra>\", \"lat\": [45.408173], \"legendgroup\": \"University 240\", \"lon\": [-122.922323], \"marker\": {\"color\": \"#FF6692\", \"size\": [2329.0], \"sizemode\": \"area\", \"sizeref\": 65.625}, \"mode\": \"markers\", \"name\": \"University 240\", \"showlegend\": true, \"subplot\": \"mapbox\", \"type\": \"scattermapbox\"}, {\"hovertemplate\": \"Customers=University 242<br>Invoice Amount=%{marker.size}<br>Lat=%{lat}<br>Long=%{lon}<extra></extra>\", \"lat\": [34.365411], \"legendgroup\": \"University 242\", \"lon\": [-89.53718], \"marker\": {\"color\": \"#B6E880\", \"size\": [2000.0], \"sizemode\": \"area\", \"sizeref\": 65.625}, \"mode\": \"markers\", \"name\": \"University 242\", \"showlegend\": true, \"subplot\": \"mapbox\", \"type\": \"scattermapbox\"}, {\"hovertemplate\": \"Customers=University 245<br>Invoice Amount=%{marker.size}<br>Lat=%{lat}<br>Long=%{lon}<extra></extra>\", \"lat\": [45.408173], \"legendgroup\": \"University 245\", \"lon\": [-122.922323], \"marker\": {\"color\": \"#FF97FF\", \"size\": [5500.0], \"sizemode\": \"area\", \"sizeref\": 65.625}, \"mode\": \"markers\", \"name\": \"University 245\", \"showlegend\": true, \"subplot\": \"mapbox\", \"type\": \"scattermapbox\"}, {\"hovertemplate\": \"Customers=University 247<br>Invoice Amount=%{marker.size}<br>Lat=%{lat}<br>Long=%{lon}<extra></extra>\", \"lat\": [28.062], \"legendgroup\": \"University 247\", \"lon\": [-82.413225], \"marker\": {\"color\": \"#FECB52\", \"size\": [1000.0], \"sizemode\": \"area\", \"sizeref\": 65.625}, \"mode\": \"markers\", \"name\": \"University 247\", \"showlegend\": true, \"subplot\": \"mapbox\", \"type\": \"scattermapbox\"}, {\"hovertemplate\": \"Customers=University 248<br>Invoice Amount=%{marker.size}<br>Lat=%{lat}<br>Long=%{lon}<extra></extra>\", \"lat\": [28.062], \"legendgroup\": \"University 248\", \"lon\": [-82.413225], \"marker\": {\"color\": \"#636efa\", \"size\": [160.0], \"sizemode\": \"area\", \"sizeref\": 65.625}, \"mode\": \"markers\", \"name\": \"University 248\", \"showlegend\": true, \"subplot\": \"mapbox\", \"type\": \"scattermapbox\"}, {\"hovertemplate\": \"Customers=University 249<br>Invoice Amount=%{marker.size}<br>Lat=%{lat}<br>Long=%{lon}<extra></extra>\", \"lat\": [34.073692], \"legendgroup\": \"University 249\", \"lon\": [-117.76523], \"marker\": {\"color\": \"#EF553B\", \"size\": [1029.0], \"sizemode\": \"area\", \"sizeref\": 65.625}, \"mode\": \"markers\", \"name\": \"University 249\", \"showlegend\": true, \"subplot\": \"mapbox\", \"type\": \"scattermapbox\"}, {\"hovertemplate\": \"Customers=University 25<br>Invoice Amount=%{marker.size}<br>Lat=%{lat}<br>Long=%{lon}<extra></extra>\", \"lat\": [31.978808], \"legendgroup\": \"University 25\", \"lon\": [-81.16297800000002], \"marker\": {\"color\": \"#00cc96\", \"size\": [2450.0], \"sizemode\": \"area\", \"sizeref\": 65.625}, \"mode\": \"markers\", \"name\": \"University 25\", \"showlegend\": true, \"subplot\": \"mapbox\", \"type\": \"scattermapbox\"}, {\"hovertemplate\": \"Customers=University 250<br>Invoice Amount=%{marker.size}<br>Lat=%{lat}<br>Long=%{lon}<extra></extra>\", \"lat\": [28.062], \"legendgroup\": \"University 250\", \"lon\": [-82.413225], \"marker\": {\"color\": \"#ab63fa\", \"size\": [4500.0], \"sizemode\": \"area\", \"sizeref\": 65.625}, \"mode\": \"markers\", \"name\": \"University 250\", \"showlegend\": true, \"subplot\": \"mapbox\", \"type\": \"scattermapbox\"}, {\"hovertemplate\": \"Customers=University 251<br>Invoice Amount=%{marker.size}<br>Lat=%{lat}<br>Long=%{lon}<extra></extra>\", \"lat\": [36.03233400000001], \"legendgroup\": \"University 251\", \"lon\": [-83.884804], \"marker\": {\"color\": \"#FFA15A\", \"size\": [3500.0], \"sizemode\": \"area\", \"sizeref\": 65.625}, \"mode\": \"markers\", \"name\": \"University 251\", \"showlegend\": true, \"subplot\": \"mapbox\", \"type\": \"scattermapbox\"}, {\"hovertemplate\": \"Customers=University 252<br>Invoice Amount=%{marker.size}<br>Lat=%{lat}<br>Long=%{lon}<extra></extra>\", \"lat\": [28.062], \"legendgroup\": \"University 252\", \"lon\": [-82.413225], \"marker\": {\"color\": \"#19d3f3\", \"size\": [1600.0], \"sizemode\": \"area\", \"sizeref\": 65.625}, \"mode\": \"markers\", \"name\": \"University 252\", \"showlegend\": true, \"subplot\": \"mapbox\", \"type\": \"scattermapbox\"}, {\"hovertemplate\": \"Customers=University 253<br>Invoice Amount=%{marker.size}<br>Lat=%{lat}<br>Long=%{lon}<extra></extra>\", \"lat\": [28.062], \"legendgroup\": \"University 253\", \"lon\": [-82.413225], \"marker\": {\"color\": \"#FF6692\", \"size\": [540.33], \"sizemode\": \"area\", \"sizeref\": 65.625}, \"mode\": \"markers\", \"name\": \"University 253\", \"showlegend\": true, \"subplot\": \"mapbox\", \"type\": \"scattermapbox\"}, {\"hovertemplate\": \"Customers=University 254<br>Invoice Amount=%{marker.size}<br>Lat=%{lat}<br>Long=%{lon}<extra></extra>\", \"lat\": [42.96986500000001], \"legendgroup\": \"University 254\", \"lon\": [-87.87373199999998], \"marker\": {\"color\": \"#B6E880\", \"size\": [2500.0], \"sizemode\": \"area\", \"sizeref\": 65.625}, \"mode\": \"markers\", \"name\": \"University 254\", \"showlegend\": true, \"subplot\": \"mapbox\", \"type\": \"scattermapbox\"}, {\"hovertemplate\": \"Customers=University 255<br>Invoice Amount=%{marker.size}<br>Lat=%{lat}<br>Long=%{lon}<extra></extra>\", \"lat\": [41.477816], \"legendgroup\": \"University 255\", \"lon\": [-87.683188], \"marker\": {\"color\": \"#FF97FF\", \"size\": [6500.0], \"sizemode\": \"area\", \"sizeref\": 65.625}, \"mode\": \"markers\", \"name\": \"University 255\", \"showlegend\": true, \"subplot\": \"mapbox\", \"type\": \"scattermapbox\"}, {\"hovertemplate\": \"Customers=University 256<br>Invoice Amount=%{marker.size}<br>Lat=%{lat}<br>Long=%{lon}<extra></extra>\", \"lat\": [28.062], \"legendgroup\": \"University 256\", \"lon\": [-82.413225], \"marker\": {\"color\": \"#FECB52\", \"size\": [2650.0], \"sizemode\": \"area\", \"sizeref\": 65.625}, \"mode\": \"markers\", \"name\": \"University 256\", \"showlegend\": true, \"subplot\": \"mapbox\", \"type\": \"scattermapbox\"}, {\"hovertemplate\": \"Customers=University 257<br>Invoice Amount=%{marker.size}<br>Lat=%{lat}<br>Long=%{lon}<extra></extra>\", \"lat\": [41.450991], \"legendgroup\": \"University 257\", \"lon\": [-82.166534], \"marker\": {\"color\": \"#636efa\", \"size\": [525.0], \"sizemode\": \"area\", \"sizeref\": 65.625}, \"mode\": \"markers\", \"name\": \"University 257\", \"showlegend\": true, \"subplot\": \"mapbox\", \"type\": \"scattermapbox\"}, {\"hovertemplate\": \"Customers=University 258<br>Invoice Amount=%{marker.size}<br>Lat=%{lat}<br>Long=%{lon}<extra></extra>\", \"lat\": [32.381605], \"legendgroup\": \"University 258\", \"lon\": [-88.66348899999998], \"marker\": {\"color\": \"#EF553B\", \"size\": [700.0], \"sizemode\": \"area\", \"sizeref\": 65.625}, \"mode\": \"markers\", \"name\": \"University 258\", \"showlegend\": true, \"subplot\": \"mapbox\", \"type\": \"scattermapbox\"}, {\"hovertemplate\": \"Customers=University 259<br>Invoice Amount=%{marker.size}<br>Lat=%{lat}<br>Long=%{lon}<extra></extra>\", \"lat\": [39.724961], \"legendgroup\": \"University 259\", \"lon\": [-89.615971], \"marker\": {\"color\": \"#00cc96\", \"size\": [2250.0], \"sizemode\": \"area\", \"sizeref\": 65.625}, \"mode\": \"markers\", \"name\": \"University 259\", \"showlegend\": true, \"subplot\": \"mapbox\", \"type\": \"scattermapbox\"}, {\"hovertemplate\": \"Customers=University 260<br>Invoice Amount=%{marker.size}<br>Lat=%{lat}<br>Long=%{lon}<extra></extra>\", \"lat\": [40.286914], \"legendgroup\": \"University 260\", \"lon\": [-95.078313], \"marker\": {\"color\": \"#ab63fa\", \"size\": [950.0], \"sizemode\": \"area\", \"sizeref\": 65.625}, \"mode\": \"markers\", \"name\": \"University 260\", \"showlegend\": true, \"subplot\": \"mapbox\", \"type\": \"scattermapbox\"}, {\"hovertemplate\": \"Customers=University 261<br>Invoice Amount=%{marker.size}<br>Lat=%{lat}<br>Long=%{lon}<extra></extra>\", \"lat\": [28.062], \"legendgroup\": \"University 261\", \"lon\": [-82.413225], \"marker\": {\"color\": \"#FFA15A\", \"size\": [1920.0], \"sizemode\": \"area\", \"sizeref\": 65.625}, \"mode\": \"markers\", \"name\": \"University 261\", \"showlegend\": true, \"subplot\": \"mapbox\", \"type\": \"scattermapbox\"}, {\"hovertemplate\": \"Customers=University 262<br>Invoice Amount=%{marker.size}<br>Lat=%{lat}<br>Long=%{lon}<extra></extra>\", \"lat\": [28.062], \"legendgroup\": \"University 262\", \"lon\": [-82.413225], \"marker\": {\"color\": \"#19d3f3\", \"size\": [2000.0], \"sizemode\": \"area\", \"sizeref\": 65.625}, \"mode\": \"markers\", \"name\": \"University 262\", \"showlegend\": true, \"subplot\": \"mapbox\", \"type\": \"scattermapbox\"}, {\"hovertemplate\": \"Customers=University 263<br>Invoice Amount=%{marker.size}<br>Lat=%{lat}<br>Long=%{lon}<extra></extra>\", \"lat\": [35.841039], \"legendgroup\": \"University 263\", \"lon\": [-90.675602], \"marker\": {\"color\": \"#FF6692\", \"size\": [2000.0], \"sizemode\": \"area\", \"sizeref\": 65.625}, \"mode\": \"markers\", \"name\": \"University 263\", \"showlegend\": true, \"subplot\": \"mapbox\", \"type\": \"scattermapbox\"}, {\"hovertemplate\": \"Customers=University 264<br>Invoice Amount=%{marker.size}<br>Lat=%{lat}<br>Long=%{lon}<extra></extra>\", \"lat\": [28.062], \"legendgroup\": \"University 264\", \"lon\": [-82.413225], \"marker\": {\"color\": \"#B6E880\", \"size\": [929.15], \"sizemode\": \"area\", \"sizeref\": 65.625}, \"mode\": \"markers\", \"name\": \"University 264\", \"showlegend\": true, \"subplot\": \"mapbox\", \"type\": \"scattermapbox\"}, {\"hovertemplate\": \"Customers=University 266<br>Invoice Amount=%{marker.size}<br>Lat=%{lat}<br>Long=%{lon}<extra></extra>\", \"lat\": [37.739004], \"legendgroup\": \"University 266\", \"lon\": [-89.209109], \"marker\": {\"color\": \"#FF97FF\", \"size\": [750.0], \"sizemode\": \"area\", \"sizeref\": 65.625}, \"mode\": \"markers\", \"name\": \"University 266\", \"showlegend\": true, \"subplot\": \"mapbox\", \"type\": \"scattermapbox\"}, {\"hovertemplate\": \"Customers=University 267<br>Invoice Amount=%{marker.size}<br>Lat=%{lat}<br>Long=%{lon}<extra></extra>\", \"lat\": [28.062], \"legendgroup\": \"University 267\", \"lon\": [-82.413225], \"marker\": {\"color\": \"#FECB52\", \"size\": [756.0], \"sizemode\": \"area\", \"sizeref\": 65.625}, \"mode\": \"markers\", \"name\": \"University 267\", \"showlegend\": true, \"subplot\": \"mapbox\", \"type\": \"scattermapbox\"}, {\"hovertemplate\": \"Customers=University 269<br>Invoice Amount=%{marker.size}<br>Lat=%{lat}<br>Long=%{lon}<extra></extra>\", \"lat\": [39.74615900000001], \"legendgroup\": \"University 269\", \"lon\": [-121.840083], \"marker\": {\"color\": \"#636efa\", \"size\": [2250.0], \"sizemode\": \"area\", \"sizeref\": 65.625}, \"mode\": \"markers\", \"name\": \"University 269\", \"showlegend\": true, \"subplot\": \"mapbox\", \"type\": \"scattermapbox\"}, {\"hovertemplate\": \"Customers=University 271<br>Invoice Amount=%{marker.size}<br>Lat=%{lat}<br>Long=%{lon}<extra></extra>\", \"lat\": [35.841039], \"legendgroup\": \"University 271\", \"lon\": [-90.675602], \"marker\": {\"color\": \"#EF553B\", \"size\": [2500.0], \"sizemode\": \"area\", \"sizeref\": 65.625}, \"mode\": \"markers\", \"name\": \"University 271\", \"showlegend\": true, \"subplot\": \"mapbox\", \"type\": \"scattermapbox\"}, {\"hovertemplate\": \"Customers=University 272<br>Invoice Amount=%{marker.size}<br>Lat=%{lat}<br>Long=%{lon}<extra></extra>\", \"lat\": [38.970388], \"legendgroup\": \"University 272\", \"lon\": [-76.941919], \"marker\": {\"color\": \"#00cc96\", \"size\": [800.0], \"sizemode\": \"area\", \"sizeref\": 65.625}, \"mode\": \"markers\", \"name\": \"University 272\", \"showlegend\": true, \"subplot\": \"mapbox\", \"type\": \"scattermapbox\"}, {\"hovertemplate\": \"Customers=University 273<br>Invoice Amount=%{marker.size}<br>Lat=%{lat}<br>Long=%{lon}<extra></extra>\", \"lat\": [35.841039], \"legendgroup\": \"University 273\", \"lon\": [-90.675602], \"marker\": {\"color\": \"#ab63fa\", \"size\": [2500.0], \"sizemode\": \"area\", \"sizeref\": 65.625}, \"mode\": \"markers\", \"name\": \"University 273\", \"showlegend\": true, \"subplot\": \"mapbox\", \"type\": \"scattermapbox\"}, {\"hovertemplate\": \"Customers=University 274<br>Invoice Amount=%{marker.size}<br>Lat=%{lat}<br>Long=%{lon}<extra></extra>\", \"lat\": [35.117940999999995], \"legendgroup\": \"University 274\", \"lon\": [-89.93666999999998], \"marker\": {\"color\": \"#FFA15A\", \"size\": [381.25], \"sizemode\": \"area\", \"sizeref\": 65.625}, \"mode\": \"markers\", \"name\": \"University 274\", \"showlegend\": true, \"subplot\": \"mapbox\", \"type\": \"scattermapbox\"}, {\"hovertemplate\": \"Customers=University 275<br>Invoice Amount=%{marker.size}<br>Lat=%{lat}<br>Long=%{lon}<extra></extra>\", \"lat\": [41.477816], \"legendgroup\": \"University 275\", \"lon\": [-87.683188], \"marker\": {\"color\": \"#19d3f3\", \"size\": [2000.0], \"sizemode\": \"area\", \"sizeref\": 65.625}, \"mode\": \"markers\", \"name\": \"University 275\", \"showlegend\": true, \"subplot\": \"mapbox\", \"type\": \"scattermapbox\"}, {\"hovertemplate\": \"Customers=University 276<br>Invoice Amount=%{marker.size}<br>Lat=%{lat}<br>Long=%{lon}<extra></extra>\", \"lat\": [35.969681], \"legendgroup\": \"University 276\", \"lon\": [-78.934721], \"marker\": {\"color\": \"#FF6692\", \"size\": [2250.0], \"sizemode\": \"area\", \"sizeref\": 65.625}, \"mode\": \"markers\", \"name\": \"University 276\", \"showlegend\": true, \"subplot\": \"mapbox\", \"type\": \"scattermapbox\"}, {\"hovertemplate\": \"Customers=University 277<br>Invoice Amount=%{marker.size}<br>Lat=%{lat}<br>Long=%{lon}<extra></extra>\", \"lat\": [28.062], \"legendgroup\": \"University 277\", \"lon\": [-82.413225], \"marker\": {\"color\": \"#B6E880\", \"size\": [425.0], \"sizemode\": \"area\", \"sizeref\": 65.625}, \"mode\": \"markers\", \"name\": \"University 277\", \"showlegend\": true, \"subplot\": \"mapbox\", \"type\": \"scattermapbox\"}, {\"hovertemplate\": \"Customers=University 278<br>Invoice Amount=%{marker.size}<br>Lat=%{lat}<br>Long=%{lon}<extra></extra>\", \"lat\": [41.370548], \"legendgroup\": \"University 278\", \"lon\": [-81.861757], \"marker\": {\"color\": \"#FF97FF\", \"size\": [2600.0], \"sizemode\": \"area\", \"sizeref\": 65.625}, \"mode\": \"markers\", \"name\": \"University 278\", \"showlegend\": true, \"subplot\": \"mapbox\", \"type\": \"scattermapbox\"}, {\"hovertemplate\": \"Customers=University 279<br>Invoice Amount=%{marker.size}<br>Lat=%{lat}<br>Long=%{lon}<extra></extra>\", \"lat\": [35.841039], \"legendgroup\": \"University 279\", \"lon\": [-90.675602], \"marker\": {\"color\": \"#FECB52\", \"size\": [2850.0], \"sizemode\": \"area\", \"sizeref\": 65.625}, \"mode\": \"markers\", \"name\": \"University 279\", \"showlegend\": true, \"subplot\": \"mapbox\", \"type\": \"scattermapbox\"}, {\"hovertemplate\": \"Customers=University 28<br>Invoice Amount=%{marker.size}<br>Lat=%{lat}<br>Long=%{lon}<extra></extra>\", \"lat\": [33.203634], \"legendgroup\": \"University 28\", \"lon\": [-87.56214399999998], \"marker\": {\"color\": \"#636efa\", \"size\": [13650.0], \"sizemode\": \"area\", \"sizeref\": 65.625}, \"mode\": \"markers\", \"name\": \"University 28\", \"showlegend\": true, \"subplot\": \"mapbox\", \"type\": \"scattermapbox\"}, {\"hovertemplate\": \"Customers=University 280<br>Invoice Amount=%{marker.size}<br>Lat=%{lat}<br>Long=%{lon}<extra></extra>\", \"lat\": [28.062], \"legendgroup\": \"University 280\", \"lon\": [-82.413225], \"marker\": {\"color\": \"#EF553B\", \"size\": [4530.0], \"sizemode\": \"area\", \"sizeref\": 65.625}, \"mode\": \"markers\", \"name\": \"University 280\", \"showlegend\": true, \"subplot\": \"mapbox\", \"type\": \"scattermapbox\"}, {\"hovertemplate\": \"Customers=University 281<br>Invoice Amount=%{marker.size}<br>Lat=%{lat}<br>Long=%{lon}<extra></extra>\", \"lat\": [33.061245], \"legendgroup\": \"University 281\", \"lon\": [-83.604895], \"marker\": {\"color\": \"#00cc96\", \"size\": [3500.0], \"sizemode\": \"area\", \"sizeref\": 65.625}, \"mode\": \"markers\", \"name\": \"University 281\", \"showlegend\": true, \"subplot\": \"mapbox\", \"type\": \"scattermapbox\"}, {\"hovertemplate\": \"Customers=University 282<br>Invoice Amount=%{marker.size}<br>Lat=%{lat}<br>Long=%{lon}<extra></extra>\", \"lat\": [43.077369], \"legendgroup\": \"University 282\", \"lon\": [-75.23320799999998], \"marker\": {\"color\": \"#ab63fa\", \"size\": [1750.0], \"sizemode\": \"area\", \"sizeref\": 65.625}, \"mode\": \"markers\", \"name\": \"University 282\", \"showlegend\": true, \"subplot\": \"mapbox\", \"type\": \"scattermapbox\"}, {\"hovertemplate\": \"Customers=University 283<br>Invoice Amount=%{marker.size}<br>Lat=%{lat}<br>Long=%{lon}<extra></extra>\", \"lat\": [33.651144], \"legendgroup\": \"University 283\", \"lon\": [-117.814991], \"marker\": {\"color\": \"#FFA15A\", \"size\": [550.0], \"sizemode\": \"area\", \"sizeref\": 65.625}, \"mode\": \"markers\", \"name\": \"University 283\", \"showlegend\": true, \"subplot\": \"mapbox\", \"type\": \"scattermapbox\"}, {\"hovertemplate\": \"Customers=University 284<br>Invoice Amount=%{marker.size}<br>Lat=%{lat}<br>Long=%{lon}<extra></extra>\", \"lat\": [28.062], \"legendgroup\": \"University 284\", \"lon\": [-82.413225], \"marker\": {\"color\": \"#19d3f3\", \"size\": [2100.0], \"sizemode\": \"area\", \"sizeref\": 65.625}, \"mode\": \"markers\", \"name\": \"University 284\", \"showlegend\": true, \"subplot\": \"mapbox\", \"type\": \"scattermapbox\"}, {\"hovertemplate\": \"Customers=University 285<br>Invoice Amount=%{marker.size}<br>Lat=%{lat}<br>Long=%{lon}<extra></extra>\", \"lat\": [33.82887], \"legendgroup\": \"University 285\", \"lon\": [-118.180502], \"marker\": {\"color\": \"#FF6692\", \"size\": [2000.0], \"sizemode\": \"area\", \"sizeref\": 65.625}, \"mode\": \"markers\", \"name\": \"University 285\", \"showlegend\": true, \"subplot\": \"mapbox\", \"type\": \"scattermapbox\"}, {\"hovertemplate\": \"Customers=University 286<br>Invoice Amount=%{marker.size}<br>Lat=%{lat}<br>Long=%{lon}<extra></extra>\", \"lat\": [28.062], \"legendgroup\": \"University 286\", \"lon\": [-82.413225], \"marker\": {\"color\": \"#B6E880\", \"size\": [738.01], \"sizemode\": \"area\", \"sizeref\": 65.625}, \"mode\": \"markers\", \"name\": \"University 286\", \"showlegend\": true, \"subplot\": \"mapbox\", \"type\": \"scattermapbox\"}, {\"hovertemplate\": \"Customers=University 287<br>Invoice Amount=%{marker.size}<br>Lat=%{lat}<br>Long=%{lon}<extra></extra>\", \"lat\": [35.841039], \"legendgroup\": \"University 287\", \"lon\": [-90.675602], \"marker\": {\"color\": \"#FF97FF\", \"size\": [2000.0], \"sizemode\": \"area\", \"sizeref\": 65.625}, \"mode\": \"markers\", \"name\": \"University 287\", \"showlegend\": true, \"subplot\": \"mapbox\", \"type\": \"scattermapbox\"}, {\"hovertemplate\": \"Customers=University 288<br>Invoice Amount=%{marker.size}<br>Lat=%{lat}<br>Long=%{lon}<extra></extra>\", \"lat\": [40.046955], \"legendgroup\": \"University 288\", \"lon\": [-79.89498499999998], \"marker\": {\"color\": \"#FECB52\", \"size\": [8500.0], \"sizemode\": \"area\", \"sizeref\": 65.625}, \"mode\": \"markers\", \"name\": \"University 288\", \"showlegend\": true, \"subplot\": \"mapbox\", \"type\": \"scattermapbox\"}, {\"hovertemplate\": \"Customers=University 289<br>Invoice Amount=%{marker.size}<br>Lat=%{lat}<br>Long=%{lon}<extra></extra>\", \"lat\": [31.307468], \"legendgroup\": \"University 289\", \"lon\": [-92.465779], \"marker\": {\"color\": \"#636efa\", \"size\": [562.0], \"sizemode\": \"area\", \"sizeref\": 65.625}, \"mode\": \"markers\", \"name\": \"University 289\", \"showlegend\": true, \"subplot\": \"mapbox\", \"type\": \"scattermapbox\"}, {\"hovertemplate\": \"Customers=University 29<br>Invoice Amount=%{marker.size}<br>Lat=%{lat}<br>Long=%{lon}<extra></extra>\", \"lat\": [36.73702700000001], \"legendgroup\": \"University 29\", \"lon\": [-84.162826], \"marker\": {\"color\": \"#EF553B\", \"size\": [3500.0], \"sizemode\": \"area\", \"sizeref\": 65.625}, \"mode\": \"markers\", \"name\": \"University 29\", \"showlegend\": true, \"subplot\": \"mapbox\", \"type\": \"scattermapbox\"}, {\"hovertemplate\": \"Customers=University 290<br>Invoice Amount=%{marker.size}<br>Lat=%{lat}<br>Long=%{lon}<extra></extra>\", \"lat\": [35.841039], \"legendgroup\": \"University 290\", \"lon\": [-90.675602], \"marker\": {\"color\": \"#00cc96\", \"size\": [4250.0], \"sizemode\": \"area\", \"sizeref\": 65.625}, \"mode\": \"markers\", \"name\": \"University 290\", \"showlegend\": true, \"subplot\": \"mapbox\", \"type\": \"scattermapbox\"}, {\"hovertemplate\": \"Customers=University 291<br>Invoice Amount=%{marker.size}<br>Lat=%{lat}<br>Long=%{lon}<extra></extra>\", \"lat\": [41.973741], \"legendgroup\": \"University 291\", \"lon\": [-70.976558], \"marker\": {\"color\": \"#ab63fa\", \"size\": [2600.0], \"sizemode\": \"area\", \"sizeref\": 65.625}, \"mode\": \"markers\", \"name\": \"University 291\", \"showlegend\": true, \"subplot\": \"mapbox\", \"type\": \"scattermapbox\"}, {\"hovertemplate\": \"Customers=University 292<br>Invoice Amount=%{marker.size}<br>Lat=%{lat}<br>Long=%{lon}<extra></extra>\", \"lat\": [28.062], \"legendgroup\": \"University 292\", \"lon\": [-82.413225], \"marker\": {\"color\": \"#FFA15A\", \"size\": [1800.0], \"sizemode\": \"area\", \"sizeref\": 65.625}, \"mode\": \"markers\", \"name\": \"University 292\", \"showlegend\": true, \"subplot\": \"mapbox\", \"type\": \"scattermapbox\"}, {\"hovertemplate\": \"Customers=University 293<br>Invoice Amount=%{marker.size}<br>Lat=%{lat}<br>Long=%{lon}<extra></extra>\", \"lat\": [30.73851], \"legendgroup\": \"University 293\", \"lon\": [-99.11144], \"marker\": {\"color\": \"#19d3f3\", \"size\": [550.0], \"sizemode\": \"area\", \"sizeref\": 65.625}, \"mode\": \"markers\", \"name\": \"University 293\", \"showlegend\": true, \"subplot\": \"mapbox\", \"type\": \"scattermapbox\"}, {\"hovertemplate\": \"Customers=University 294<br>Invoice Amount=%{marker.size}<br>Lat=%{lat}<br>Long=%{lon}<extra></extra>\", \"lat\": [35.841039], \"legendgroup\": \"University 294\", \"lon\": [-90.675602], \"marker\": {\"color\": \"#FF6692\", \"size\": [2025.0], \"sizemode\": \"area\", \"sizeref\": 65.625}, \"mode\": \"markers\", \"name\": \"University 294\", \"showlegend\": true, \"subplot\": \"mapbox\", \"type\": \"scattermapbox\"}, {\"hovertemplate\": \"Customers=University 295<br>Invoice Amount=%{marker.size}<br>Lat=%{lat}<br>Long=%{lon}<extra></extra>\", \"lat\": [28.062], \"legendgroup\": \"University 295\", \"lon\": [-82.413225], \"marker\": {\"color\": \"#B6E880\", \"size\": [1375.0], \"sizemode\": \"area\", \"sizeref\": 65.625}, \"mode\": \"markers\", \"name\": \"University 295\", \"showlegend\": true, \"subplot\": \"mapbox\", \"type\": \"scattermapbox\"}, {\"hovertemplate\": \"Customers=University 298<br>Invoice Amount=%{marker.size}<br>Lat=%{lat}<br>Long=%{lon}<extra></extra>\", \"lat\": [32.424353], \"legendgroup\": \"University 298\", \"lon\": [-80.565343], \"marker\": {\"color\": \"#FF97FF\", \"size\": [750.0], \"sizemode\": \"area\", \"sizeref\": 65.625}, \"mode\": \"markers\", \"name\": \"University 298\", \"showlegend\": true, \"subplot\": \"mapbox\", \"type\": \"scattermapbox\"}, {\"hovertemplate\": \"Customers=University 299<br>Invoice Amount=%{marker.size}<br>Lat=%{lat}<br>Long=%{lon}<extra></extra>\", \"lat\": [41.82275], \"legendgroup\": \"University 299\", \"lon\": [-71.414451], \"marker\": {\"color\": \"#FECB52\", \"size\": [750.0], \"sizemode\": \"area\", \"sizeref\": 65.625}, \"mode\": \"markers\", \"name\": \"University 299\", \"showlegend\": true, \"subplot\": \"mapbox\", \"type\": \"scattermapbox\"}, {\"hovertemplate\": \"Customers=University 3<br>Invoice Amount=%{marker.size}<br>Lat=%{lat}<br>Long=%{lon}<extra></extra>\", \"lat\": [37.0132475], \"legendgroup\": \"University 3\", \"lon\": [-87.05521550000002], \"marker\": {\"color\": \"#636efa\", \"size\": [1729.1666666666667], \"sizemode\": \"area\", \"sizeref\": 65.625}, \"mode\": \"markers\", \"name\": \"University 3\", \"showlegend\": true, \"subplot\": \"mapbox\", \"type\": \"scattermapbox\"}, {\"hovertemplate\": \"Customers=University 30<br>Invoice Amount=%{marker.size}<br>Lat=%{lat}<br>Long=%{lon}<extra></extra>\", \"lat\": [37.236693], \"legendgroup\": \"University 30\", \"lon\": [-83.401376], \"marker\": {\"color\": \"#EF553B\", \"size\": [812.5], \"sizemode\": \"area\", \"sizeref\": 65.625}, \"mode\": \"markers\", \"name\": \"University 30\", \"showlegend\": true, \"subplot\": \"mapbox\", \"type\": \"scattermapbox\"}, {\"hovertemplate\": \"Customers=University 300<br>Invoice Amount=%{marker.size}<br>Lat=%{lat}<br>Long=%{lon}<extra></extra>\", \"lat\": [35.162396], \"legendgroup\": \"University 300\", \"lon\": [-92.445162], \"marker\": {\"color\": \"#00cc96\", \"size\": [1610.0], \"sizemode\": \"area\", \"sizeref\": 65.625}, \"mode\": \"markers\", \"name\": \"University 300\", \"showlegend\": true, \"subplot\": \"mapbox\", \"type\": \"scattermapbox\"}, {\"hovertemplate\": \"Customers=University 301<br>Invoice Amount=%{marker.size}<br>Lat=%{lat}<br>Long=%{lon}<extra></extra>\", \"lat\": [28.062], \"legendgroup\": \"University 301\", \"lon\": [-82.413225], \"marker\": {\"color\": \"#ab63fa\", \"size\": [2300.0], \"sizemode\": \"area\", \"sizeref\": 65.625}, \"mode\": \"markers\", \"name\": \"University 301\", \"showlegend\": true, \"subplot\": \"mapbox\", \"type\": \"scattermapbox\"}, {\"hovertemplate\": \"Customers=University 302<br>Invoice Amount=%{marker.size}<br>Lat=%{lat}<br>Long=%{lon}<extra></extra>\", \"lat\": [32.283428], \"legendgroup\": \"University 302\", \"lon\": [-106.753336], \"marker\": {\"color\": \"#FFA15A\", \"size\": [2000.0], \"sizemode\": \"area\", \"sizeref\": 65.625}, \"mode\": \"markers\", \"name\": \"University 302\", \"showlegend\": true, \"subplot\": \"mapbox\", \"type\": \"scattermapbox\"}, {\"hovertemplate\": \"Customers=University 303<br>Invoice Amount=%{marker.size}<br>Lat=%{lat}<br>Long=%{lon}<extra></extra>\", \"lat\": [28.052414], \"legendgroup\": \"University 303\", \"lon\": [-82.560475], \"marker\": {\"color\": \"#19d3f3\", \"size\": [1500.0], \"sizemode\": \"area\", \"sizeref\": 65.625}, \"mode\": \"markers\", \"name\": \"University 303\", \"showlegend\": true, \"subplot\": \"mapbox\", \"type\": \"scattermapbox\"}, {\"hovertemplate\": \"Customers=University 304<br>Invoice Amount=%{marker.size}<br>Lat=%{lat}<br>Long=%{lon}<extra></extra>\", \"lat\": [34.744649], \"legendgroup\": \"University 304\", \"lon\": [-82.797267], \"marker\": {\"color\": \"#FF6692\", \"size\": [2500.0], \"sizemode\": \"area\", \"sizeref\": 65.625}, \"mode\": \"markers\", \"name\": \"University 304\", \"showlegend\": true, \"subplot\": \"mapbox\", \"type\": \"scattermapbox\"}, {\"hovertemplate\": \"Customers=University 305<br>Invoice Amount=%{marker.size}<br>Lat=%{lat}<br>Long=%{lon}<extra></extra>\", \"lat\": [27.727590000000006], \"legendgroup\": \"University 305\", \"lon\": [-82.361013], \"marker\": {\"color\": \"#B6E880\", \"size\": [4300.0], \"sizemode\": \"area\", \"sizeref\": 65.625}, \"mode\": \"markers\", \"name\": \"University 305\", \"showlegend\": true, \"subplot\": \"mapbox\", \"type\": \"scattermapbox\"}, {\"hovertemplate\": \"Customers=University 306<br>Invoice Amount=%{marker.size}<br>Lat=%{lat}<br>Long=%{lon}<extra></extra>\", \"lat\": [38.30699], \"legendgroup\": \"University 306\", \"lon\": [-82.751009], \"marker\": {\"color\": \"#FF97FF\", \"size\": [450.0], \"sizemode\": \"area\", \"sizeref\": 65.625}, \"mode\": \"markers\", \"name\": \"University 306\", \"showlegend\": true, \"subplot\": \"mapbox\", \"type\": \"scattermapbox\"}, {\"hovertemplate\": \"Customers=University 307<br>Invoice Amount=%{marker.size}<br>Lat=%{lat}<br>Long=%{lon}<extra></extra>\", \"lat\": [38.631501], \"legendgroup\": \"University 307\", \"lon\": [-90.19231], \"marker\": {\"color\": \"#FECB52\", \"size\": [575.0], \"sizemode\": \"area\", \"sizeref\": 65.625}, \"mode\": \"markers\", \"name\": \"University 307\", \"showlegend\": true, \"subplot\": \"mapbox\", \"type\": \"scattermapbox\"}, {\"hovertemplate\": \"Customers=University 309<br>Invoice Amount=%{marker.size}<br>Lat=%{lat}<br>Long=%{lon}<extra></extra>\", \"lat\": [43.072595], \"legendgroup\": \"University 309\", \"lon\": [-89.421412], \"marker\": {\"color\": \"#636efa\", \"size\": [1680.0], \"sizemode\": \"area\", \"sizeref\": 65.625}, \"mode\": \"markers\", \"name\": \"University 309\", \"showlegend\": true, \"subplot\": \"mapbox\", \"type\": \"scattermapbox\"}, {\"hovertemplate\": \"Customers=University 31<br>Invoice Amount=%{marker.size}<br>Lat=%{lat}<br>Long=%{lon}<extra></extra>\", \"lat\": [31.229318499999998], \"legendgroup\": \"University 31\", \"lon\": [-80.3076685], \"marker\": {\"color\": \"#EF553B\", \"size\": [3562.5], \"sizemode\": \"area\", \"sizeref\": 65.625}, \"mode\": \"markers\", \"name\": \"University 31\", \"showlegend\": true, \"subplot\": \"mapbox\", \"type\": \"scattermapbox\"}, {\"hovertemplate\": \"Customers=University 310<br>Invoice Amount=%{marker.size}<br>Lat=%{lat}<br>Long=%{lon}<extra></extra>\", \"lat\": [33.105259999999994], \"legendgroup\": \"University 310\", \"lon\": [-86.872959], \"marker\": {\"color\": \"#00cc96\", \"size\": [1125.0], \"sizemode\": \"area\", \"sizeref\": 65.625}, \"mode\": \"markers\", \"name\": \"University 310\", \"showlegend\": true, \"subplot\": \"mapbox\", \"type\": \"scattermapbox\"}, {\"hovertemplate\": \"Customers=University 311<br>Invoice Amount=%{marker.size}<br>Lat=%{lat}<br>Long=%{lon}<extra></extra>\", \"lat\": [28.062], \"legendgroup\": \"University 311\", \"lon\": [-82.413225], \"marker\": {\"color\": \"#ab63fa\", \"size\": [2500.0], \"sizemode\": \"area\", \"sizeref\": 65.625}, \"mode\": \"markers\", \"name\": \"University 311\", \"showlegend\": true, \"subplot\": \"mapbox\", \"type\": \"scattermapbox\"}, {\"hovertemplate\": \"Customers=University 312<br>Invoice Amount=%{marker.size}<br>Lat=%{lat}<br>Long=%{lon}<extra></extra>\", \"lat\": [28.062], \"legendgroup\": \"University 312\", \"lon\": [-82.413225], \"marker\": {\"color\": \"#FFA15A\", \"size\": [3300.0], \"sizemode\": \"area\", \"sizeref\": 65.625}, \"mode\": \"markers\", \"name\": \"University 312\", \"showlegend\": true, \"subplot\": \"mapbox\", \"type\": \"scattermapbox\"}, {\"hovertemplate\": \"Customers=University 313<br>Invoice Amount=%{marker.size}<br>Lat=%{lat}<br>Long=%{lon}<extra></extra>\", \"lat\": [28.062], \"legendgroup\": \"University 313\", \"lon\": [-82.413225], \"marker\": {\"color\": \"#19d3f3\", \"size\": [5000.0], \"sizemode\": \"area\", \"sizeref\": 65.625}, \"mode\": \"markers\", \"name\": \"University 313\", \"showlegend\": true, \"subplot\": \"mapbox\", \"type\": \"scattermapbox\"}, {\"hovertemplate\": \"Customers=University 314<br>Invoice Amount=%{marker.size}<br>Lat=%{lat}<br>Long=%{lon}<extra></extra>\", \"lat\": [33.879768], \"legendgroup\": \"University 314\", \"lon\": [-117.896341], \"marker\": {\"color\": \"#FF6692\", \"size\": [4000.0], \"sizemode\": \"area\", \"sizeref\": 65.625}, \"mode\": \"markers\", \"name\": \"University 314\", \"showlegend\": true, \"subplot\": \"mapbox\", \"type\": \"scattermapbox\"}, {\"hovertemplate\": \"Customers=University 315<br>Invoice Amount=%{marker.size}<br>Lat=%{lat}<br>Long=%{lon}<extra></extra>\", \"lat\": [40.277742], \"legendgroup\": \"University 315\", \"lon\": [-94.860299], \"marker\": {\"color\": \"#B6E880\", \"size\": [562.0], \"sizemode\": \"area\", \"sizeref\": 65.625}, \"mode\": \"markers\", \"name\": \"University 315\", \"showlegend\": true, \"subplot\": \"mapbox\", \"type\": \"scattermapbox\"}, {\"hovertemplate\": \"Customers=University 317<br>Invoice Amount=%{marker.size}<br>Lat=%{lat}<br>Long=%{lon}<extra></extra>\", \"lat\": [28.062], \"legendgroup\": \"University 317\", \"lon\": [-82.413225], \"marker\": {\"color\": \"#FF97FF\", \"size\": [4500.0], \"sizemode\": \"area\", \"sizeref\": 65.625}, \"mode\": \"markers\", \"name\": \"University 317\", \"showlegend\": true, \"subplot\": \"mapbox\", \"type\": \"scattermapbox\"}, {\"hovertemplate\": \"Customers=University 318<br>Invoice Amount=%{marker.size}<br>Lat=%{lat}<br>Long=%{lon}<extra></extra>\", \"lat\": [39.206132], \"legendgroup\": \"University 318\", \"lon\": [-76.887905], \"marker\": {\"color\": \"#FECB52\", \"size\": [1000.0], \"sizemode\": \"area\", \"sizeref\": 65.625}, \"mode\": \"markers\", \"name\": \"University 318\", \"showlegend\": true, \"subplot\": \"mapbox\", \"type\": \"scattermapbox\"}, {\"hovertemplate\": \"Customers=University 319<br>Invoice Amount=%{marker.size}<br>Lat=%{lat}<br>Long=%{lon}<extra></extra>\", \"lat\": [32.321937], \"legendgroup\": \"University 319\", \"lon\": [-95.302223], \"marker\": {\"color\": \"#636efa\", \"size\": [1250.0], \"sizemode\": \"area\", \"sizeref\": 65.625}, \"mode\": \"markers\", \"name\": \"University 319\", \"showlegend\": true, \"subplot\": \"mapbox\", \"type\": \"scattermapbox\"}, {\"hovertemplate\": \"Customers=University 32<br>Invoice Amount=%{marker.size}<br>Lat=%{lat}<br>Long=%{lon}<extra></extra>\", \"lat\": [40.897169], \"legendgroup\": \"University 32\", \"lon\": [-74.02901800000002], \"marker\": {\"color\": \"#EF553B\", \"size\": [1000.0], \"sizemode\": \"area\", \"sizeref\": 65.625}, \"mode\": \"markers\", \"name\": \"University 32\", \"showlegend\": true, \"subplot\": \"mapbox\", \"type\": \"scattermapbox\"}, {\"hovertemplate\": \"Customers=University 320<br>Invoice Amount=%{marker.size}<br>Lat=%{lat}<br>Long=%{lon}<extra></extra>\", \"lat\": [32.78921], \"legendgroup\": \"University 320\", \"lon\": [-114.55606], \"marker\": {\"color\": \"#00cc96\", \"size\": [437.0], \"sizemode\": \"area\", \"sizeref\": 65.625}, \"mode\": \"markers\", \"name\": \"University 320\", \"showlegend\": true, \"subplot\": \"mapbox\", \"type\": \"scattermapbox\"}, {\"hovertemplate\": \"Customers=University 321<br>Invoice Amount=%{marker.size}<br>Lat=%{lat}<br>Long=%{lon}<extra></extra>\", \"lat\": [29.958304], \"legendgroup\": \"University 321\", \"lon\": [-90.077], \"marker\": {\"color\": \"#ab63fa\", \"size\": [3000.0], \"sizemode\": \"area\", \"sizeref\": 65.625}, \"mode\": \"markers\", \"name\": \"University 321\", \"showlegend\": true, \"subplot\": \"mapbox\", \"type\": \"scattermapbox\"}, {\"hovertemplate\": \"Customers=University 322<br>Invoice Amount=%{marker.size}<br>Lat=%{lat}<br>Long=%{lon}<extra></extra>\", \"lat\": [33.65983], \"legendgroup\": \"University 322\", \"lon\": [-87.60001], \"marker\": {\"color\": \"#FFA15A\", \"size\": [1650.0], \"sizemode\": \"area\", \"sizeref\": 65.625}, \"mode\": \"markers\", \"name\": \"University 322\", \"showlegend\": true, \"subplot\": \"mapbox\", \"type\": \"scattermapbox\"}, {\"hovertemplate\": \"Customers=University 323<br>Invoice Amount=%{marker.size}<br>Lat=%{lat}<br>Long=%{lon}<extra></extra>\", \"lat\": [43.65818], \"legendgroup\": \"University 323\", \"lon\": [-71.50445], \"marker\": {\"color\": \"#19d3f3\", \"size\": [800.0], \"sizemode\": \"area\", \"sizeref\": 65.625}, \"mode\": \"markers\", \"name\": \"University 323\", \"showlegend\": true, \"subplot\": \"mapbox\", \"type\": \"scattermapbox\"}, {\"hovertemplate\": \"Customers=University 324<br>Invoice Amount=%{marker.size}<br>Lat=%{lat}<br>Long=%{lon}<extra></extra>\", \"lat\": [28.062], \"legendgroup\": \"University 324\", \"lon\": [-82.413225], \"marker\": {\"color\": \"#FF6692\", \"size\": [565.0], \"sizemode\": \"area\", \"sizeref\": 65.625}, \"mode\": \"markers\", \"name\": \"University 324\", \"showlegend\": true, \"subplot\": \"mapbox\", \"type\": \"scattermapbox\"}, {\"hovertemplate\": \"Customers=University 325<br>Invoice Amount=%{marker.size}<br>Lat=%{lat}<br>Long=%{lon}<extra></extra>\", \"lat\": [28.062], \"legendgroup\": \"University 325\", \"lon\": [-82.413225], \"marker\": {\"color\": \"#B6E880\", \"size\": [2070.0], \"sizemode\": \"area\", \"sizeref\": 65.625}, \"mode\": \"markers\", \"name\": \"University 325\", \"showlegend\": true, \"subplot\": \"mapbox\", \"type\": \"scattermapbox\"}, {\"hovertemplate\": \"Customers=University 326<br>Invoice Amount=%{marker.size}<br>Lat=%{lat}<br>Long=%{lon}<extra></extra>\", \"lat\": [35.841039], \"legendgroup\": \"University 326\", \"lon\": [-90.675602], \"marker\": {\"color\": \"#FF97FF\", \"size\": [6600.0], \"sizemode\": \"area\", \"sizeref\": 65.625}, \"mode\": \"markers\", \"name\": \"University 326\", \"showlegend\": true, \"subplot\": \"mapbox\", \"type\": \"scattermapbox\"}, {\"hovertemplate\": \"Customers=University 327<br>Invoice Amount=%{marker.size}<br>Lat=%{lat}<br>Long=%{lon}<extra></extra>\", \"lat\": [28.062], \"legendgroup\": \"University 327\", \"lon\": [-82.413225], \"marker\": {\"color\": \"#FECB52\", \"size\": [5100.0], \"sizemode\": \"area\", \"sizeref\": 65.625}, \"mode\": \"markers\", \"name\": \"University 327\", \"showlegend\": true, \"subplot\": \"mapbox\", \"type\": \"scattermapbox\"}, {\"hovertemplate\": \"Customers=University 328<br>Invoice Amount=%{marker.size}<br>Lat=%{lat}<br>Long=%{lon}<extra></extra>\", \"lat\": [40.77893], \"legendgroup\": \"University 328\", \"lon\": [-77.841359], \"marker\": {\"color\": \"#636efa\", \"size\": [4000.0], \"sizemode\": \"area\", \"sizeref\": 65.625}, \"mode\": \"markers\", \"name\": \"University 328\", \"showlegend\": true, \"subplot\": \"mapbox\", \"type\": \"scattermapbox\"}, {\"hovertemplate\": \"Customers=University 329<br>Invoice Amount=%{marker.size}<br>Lat=%{lat}<br>Long=%{lon}<extra></extra>\", \"lat\": [43.70701], \"legendgroup\": \"University 329\", \"lon\": [-72.27741], \"marker\": {\"color\": \"#EF553B\", \"size\": [550.0], \"sizemode\": \"area\", \"sizeref\": 65.625}, \"mode\": \"markers\", \"name\": \"University 329\", \"showlegend\": true, \"subplot\": \"mapbox\", \"type\": \"scattermapbox\"}, {\"hovertemplate\": \"Customers=University 33<br>Invoice Amount=%{marker.size}<br>Lat=%{lat}<br>Long=%{lon}<extra></extra>\", \"lat\": [36.0711618], \"legendgroup\": \"University 33\", \"lon\": [-79.7917554], \"marker\": {\"color\": \"#00cc96\", \"size\": [3500.0], \"sizemode\": \"area\", \"sizeref\": 65.625}, \"mode\": \"markers\", \"name\": \"University 33\", \"showlegend\": true, \"subplot\": \"mapbox\", \"type\": \"scattermapbox\"}, {\"hovertemplate\": \"Customers=University 330<br>Invoice Amount=%{marker.size}<br>Lat=%{lat}<br>Long=%{lon}<extra></extra>\", \"lat\": [36.731332], \"legendgroup\": \"University 330\", \"lon\": [-83.33573], \"marker\": {\"color\": \"#ab63fa\", \"size\": [525.0], \"sizemode\": \"area\", \"sizeref\": 65.625}, \"mode\": \"markers\", \"name\": \"University 330\", \"showlegend\": true, \"subplot\": \"mapbox\", \"type\": \"scattermapbox\"}, {\"hovertemplate\": \"Customers=University 331<br>Invoice Amount=%{marker.size}<br>Lat=%{lat}<br>Long=%{lon}<extra></extra>\", \"lat\": [28.062], \"legendgroup\": \"University 331\", \"lon\": [-82.413225], \"marker\": {\"color\": \"#FFA15A\", \"size\": [1750.0], \"sizemode\": \"area\", \"sizeref\": 65.625}, \"mode\": \"markers\", \"name\": \"University 331\", \"showlegend\": true, \"subplot\": \"mapbox\", \"type\": \"scattermapbox\"}, {\"hovertemplate\": \"Customers=University 332<br>Invoice Amount=%{marker.size}<br>Lat=%{lat}<br>Long=%{lon}<extra></extra>\", \"lat\": [43.556574], \"legendgroup\": \"University 332\", \"lon\": [-83.994328], \"marker\": {\"color\": \"#19d3f3\", \"size\": [1710.0], \"sizemode\": \"area\", \"sizeref\": 65.625}, \"mode\": \"markers\", \"name\": \"University 332\", \"showlegend\": true, \"subplot\": \"mapbox\", \"type\": \"scattermapbox\"}, {\"hovertemplate\": \"Customers=University 333<br>Invoice Amount=%{marker.size}<br>Lat=%{lat}<br>Long=%{lon}<extra></extra>\", \"lat\": [34.104794], \"legendgroup\": \"University 333\", \"lon\": [-117.29215], \"marker\": {\"color\": \"#FF6692\", \"size\": [5000.0], \"sizemode\": \"area\", \"sizeref\": 65.625}, \"mode\": \"markers\", \"name\": \"University 333\", \"showlegend\": true, \"subplot\": \"mapbox\", \"type\": \"scattermapbox\"}, {\"hovertemplate\": \"Customers=University 334<br>Invoice Amount=%{marker.size}<br>Lat=%{lat}<br>Long=%{lon}<extra></extra>\", \"lat\": [35.709894], \"legendgroup\": \"University 334\", \"lon\": [-98.81099], \"marker\": {\"color\": \"#B6E880\", \"size\": [625.0], \"sizemode\": \"area\", \"sizeref\": 65.625}, \"mode\": \"markers\", \"name\": \"University 334\", \"showlegend\": true, \"subplot\": \"mapbox\", \"type\": \"scattermapbox\"}, {\"hovertemplate\": \"Customers=University 335<br>Invoice Amount=%{marker.size}<br>Lat=%{lat}<br>Long=%{lon}<extra></extra>\", \"lat\": [35.841039], \"legendgroup\": \"University 335\", \"lon\": [-90.675602], \"marker\": {\"color\": \"#FF97FF\", \"size\": [5500.0], \"sizemode\": \"area\", \"sizeref\": 65.625}, \"mode\": \"markers\", \"name\": \"University 335\", \"showlegend\": true, \"subplot\": \"mapbox\", \"type\": \"scattermapbox\"}, {\"hovertemplate\": \"Customers=University 336<br>Invoice Amount=%{marker.size}<br>Lat=%{lat}<br>Long=%{lon}<extra></extra>\", \"lat\": [35.841039], \"legendgroup\": \"University 336\", \"lon\": [-90.675602], \"marker\": {\"color\": \"#FECB52\", \"size\": [2250.0], \"sizemode\": \"area\", \"sizeref\": 65.625}, \"mode\": \"markers\", \"name\": \"University 336\", \"showlegend\": true, \"subplot\": \"mapbox\", \"type\": \"scattermapbox\"}, {\"hovertemplate\": \"Customers=University 337<br>Invoice Amount=%{marker.size}<br>Lat=%{lat}<br>Long=%{lon}<extra></extra>\", \"lat\": [41.141206], \"legendgroup\": \"University 337\", \"lon\": [-74.168479], \"marker\": {\"color\": \"#636efa\", \"size\": [400.0], \"sizemode\": \"area\", \"sizeref\": 65.625}, \"mode\": \"markers\", \"name\": \"University 337\", \"showlegend\": true, \"subplot\": \"mapbox\", \"type\": \"scattermapbox\"}, {\"hovertemplate\": \"Customers=University 338<br>Invoice Amount=%{marker.size}<br>Lat=%{lat}<br>Long=%{lon}<extra></extra>\", \"lat\": [41.906231], \"legendgroup\": \"University 338\", \"lon\": [-93.154445], \"marker\": {\"color\": \"#EF553B\", \"size\": [2100.0], \"sizemode\": \"area\", \"sizeref\": 65.625}, \"mode\": \"markers\", \"name\": \"University 338\", \"showlegend\": true, \"subplot\": \"mapbox\", \"type\": \"scattermapbox\"}, {\"hovertemplate\": \"Customers=University 339<br>Invoice Amount=%{marker.size}<br>Lat=%{lat}<br>Long=%{lon}<extra></extra>\", \"lat\": [33.826229], \"legendgroup\": \"University 339\", \"lon\": [-93.961022], \"marker\": {\"color\": \"#00cc96\", \"size\": [625.0], \"sizemode\": \"area\", \"sizeref\": 65.625}, \"mode\": \"markers\", \"name\": \"University 339\", \"showlegend\": true, \"subplot\": \"mapbox\", \"type\": \"scattermapbox\"}, {\"hovertemplate\": \"Customers=University 34<br>Invoice Amount=%{marker.size}<br>Lat=%{lat}<br>Long=%{lon}<extra></extra>\", \"lat\": [39.509498], \"legendgroup\": \"University 34\", \"lon\": [-84.734465], \"marker\": {\"color\": \"#ab63fa\", \"size\": [750.0], \"sizemode\": \"area\", \"sizeref\": 65.625}, \"mode\": \"markers\", \"name\": \"University 34\", \"showlegend\": true, \"subplot\": \"mapbox\", \"type\": \"scattermapbox\"}, {\"hovertemplate\": \"Customers=University 340<br>Invoice Amount=%{marker.size}<br>Lat=%{lat}<br>Long=%{lon}<extra></extra>\", \"lat\": [36.809796], \"legendgroup\": \"University 340\", \"lon\": [-84.708275], \"marker\": {\"color\": \"#FFA15A\", \"size\": [4500.0], \"sizemode\": \"area\", \"sizeref\": 65.625}, \"mode\": \"markers\", \"name\": \"University 340\", \"showlegend\": true, \"subplot\": \"mapbox\", \"type\": \"scattermapbox\"}, {\"hovertemplate\": \"Customers=University 342<br>Invoice Amount=%{marker.size}<br>Lat=%{lat}<br>Long=%{lon}<extra></extra>\", \"lat\": [48.124594], \"legendgroup\": \"University 342\", \"lon\": [-117.762554], \"marker\": {\"color\": \"#19d3f3\", \"size\": [3700.0], \"sizemode\": \"area\", \"sizeref\": 65.625}, \"mode\": \"markers\", \"name\": \"University 342\", \"showlegend\": true, \"subplot\": \"mapbox\", \"type\": \"scattermapbox\"}, {\"hovertemplate\": \"Customers=University 343<br>Invoice Amount=%{marker.size}<br>Lat=%{lat}<br>Long=%{lon}<extra></extra>\", \"lat\": [28.062], \"legendgroup\": \"University 343\", \"lon\": [-82.413225], \"marker\": {\"color\": \"#FF6692\", \"size\": [750.0], \"sizemode\": \"area\", \"sizeref\": 65.625}, \"mode\": \"markers\", \"name\": \"University 343\", \"showlegend\": true, \"subplot\": \"mapbox\", \"type\": \"scattermapbox\"}, {\"hovertemplate\": \"Customers=University 344<br>Invoice Amount=%{marker.size}<br>Lat=%{lat}<br>Long=%{lon}<extra></extra>\", \"lat\": [43.212556], \"legendgroup\": \"University 344\", \"lon\": [-78.82587099999998], \"marker\": {\"color\": \"#B6E880\", \"size\": [1976.3], \"sizemode\": \"area\", \"sizeref\": 65.625}, \"mode\": \"markers\", \"name\": \"University 344\", \"showlegend\": true, \"subplot\": \"mapbox\", \"type\": \"scattermapbox\"}, {\"hovertemplate\": \"Customers=University 347<br>Invoice Amount=%{marker.size}<br>Lat=%{lat}<br>Long=%{lon}<extra></extra>\", \"lat\": [44.73663], \"legendgroup\": \"University 347\", \"lon\": [-72.199084], \"marker\": {\"color\": \"#FF97FF\", \"size\": [2300.0], \"sizemode\": \"area\", \"sizeref\": 65.625}, \"mode\": \"markers\", \"name\": \"University 347\", \"showlegend\": true, \"subplot\": \"mapbox\", \"type\": \"scattermapbox\"}, {\"hovertemplate\": \"Customers=University 348<br>Invoice Amount=%{marker.size}<br>Lat=%{lat}<br>Long=%{lon}<extra></extra>\", \"lat\": [46.814054], \"legendgroup\": \"University 348\", \"lon\": [-92.087367], \"marker\": {\"color\": \"#FECB52\", \"size\": [5090.0], \"sizemode\": \"area\", \"sizeref\": 65.625}, \"mode\": \"markers\", \"name\": \"University 348\", \"showlegend\": true, \"subplot\": \"mapbox\", \"type\": \"scattermapbox\"}, {\"hovertemplate\": \"Customers=University 349<br>Invoice Amount=%{marker.size}<br>Lat=%{lat}<br>Long=%{lon}<extra></extra>\", \"lat\": [28.062], \"legendgroup\": \"University 349\", \"lon\": [-82.413225], \"marker\": {\"color\": \"#636efa\", \"size\": [2000.0], \"sizemode\": \"area\", \"sizeref\": 65.625}, \"mode\": \"markers\", \"name\": \"University 349\", \"showlegend\": true, \"subplot\": \"mapbox\", \"type\": \"scattermapbox\"}, {\"hovertemplate\": \"Customers=University 35<br>Invoice Amount=%{marker.size}<br>Lat=%{lat}<br>Long=%{lon}<extra></extra>\", \"lat\": [33.656727000000004], \"legendgroup\": \"University 35\", \"lon\": [-117.82508999999999], \"marker\": {\"color\": \"#EF553B\", \"size\": [2525.0], \"sizemode\": \"area\", \"sizeref\": 65.625}, \"mode\": \"markers\", \"name\": \"University 35\", \"showlegend\": true, \"subplot\": \"mapbox\", \"type\": \"scattermapbox\"}, {\"hovertemplate\": \"Customers=University 350<br>Invoice Amount=%{marker.size}<br>Lat=%{lat}<br>Long=%{lon}<extra></extra>\", \"lat\": [28.062], \"legendgroup\": \"University 350\", \"lon\": [-82.413225], \"marker\": {\"color\": \"#00cc96\", \"size\": [800.0], \"sizemode\": \"area\", \"sizeref\": 65.625}, \"mode\": \"markers\", \"name\": \"University 350\", \"showlegend\": true, \"subplot\": \"mapbox\", \"type\": \"scattermapbox\"}, {\"hovertemplate\": \"Customers=University 351<br>Invoice Amount=%{marker.size}<br>Lat=%{lat}<br>Long=%{lon}<extra></extra>\", \"lat\": [40.10789000000001], \"legendgroup\": \"University 351\", \"lon\": [-88.24426600000002], \"marker\": {\"color\": \"#ab63fa\", \"size\": [2480.0], \"sizemode\": \"area\", \"sizeref\": 65.625}, \"mode\": \"markers\", \"name\": \"University 351\", \"showlegend\": true, \"subplot\": \"mapbox\", \"type\": \"scattermapbox\"}, {\"hovertemplate\": \"Customers=University 352<br>Invoice Amount=%{marker.size}<br>Lat=%{lat}<br>Long=%{lon}<extra></extra>\", \"lat\": [28.062], \"legendgroup\": \"University 352\", \"lon\": [-82.413225], \"marker\": {\"color\": \"#FFA15A\", \"size\": [625.0], \"sizemode\": \"area\", \"sizeref\": 65.625}, \"mode\": \"markers\", \"name\": \"University 352\", \"showlegend\": true, \"subplot\": \"mapbox\", \"type\": \"scattermapbox\"}, {\"hovertemplate\": \"Customers=University 353<br>Invoice Amount=%{marker.size}<br>Lat=%{lat}<br>Long=%{lon}<extra></extra>\", \"lat\": [35.29838], \"legendgroup\": \"University 353\", \"lon\": [-105.392788], \"marker\": {\"color\": \"#19d3f3\", \"size\": [1250.0], \"sizemode\": \"area\", \"sizeref\": 65.625}, \"mode\": \"markers\", \"name\": \"University 353\", \"showlegend\": true, \"subplot\": \"mapbox\", \"type\": \"scattermapbox\"}, {\"hovertemplate\": \"Customers=University 354<br>Invoice Amount=%{marker.size}<br>Lat=%{lat}<br>Long=%{lon}<extra></extra>\", \"lat\": [40.114729], \"legendgroup\": \"University 354\", \"lon\": [-84.493439], \"marker\": {\"color\": \"#FF6692\", \"size\": [2000.0], \"sizemode\": \"area\", \"sizeref\": 65.625}, \"mode\": \"markers\", \"name\": \"University 354\", \"showlegend\": true, \"subplot\": \"mapbox\", \"type\": \"scattermapbox\"}, {\"hovertemplate\": \"Customers=University 355<br>Invoice Amount=%{marker.size}<br>Lat=%{lat}<br>Long=%{lon}<extra></extra>\", \"lat\": [44.796635], \"legendgroup\": \"University 355\", \"lon\": [-91.506154], \"marker\": {\"color\": \"#B6E880\", \"size\": [4650.0], \"sizemode\": \"area\", \"sizeref\": 65.625}, \"mode\": \"markers\", \"name\": \"University 355\", \"showlegend\": true, \"subplot\": \"mapbox\", \"type\": \"scattermapbox\"}, {\"hovertemplate\": \"Customers=University 356<br>Invoice Amount=%{marker.size}<br>Lat=%{lat}<br>Long=%{lon}<extra></extra>\", \"lat\": [37.86923400000001], \"legendgroup\": \"University 356\", \"lon\": [-122.289657], \"marker\": {\"color\": \"#FF97FF\", \"size\": [875.0], \"sizemode\": \"area\", \"sizeref\": 65.625}, \"mode\": \"markers\", \"name\": \"University 356\", \"showlegend\": true, \"subplot\": \"mapbox\", \"type\": \"scattermapbox\"}, {\"hovertemplate\": \"Customers=University 357<br>Invoice Amount=%{marker.size}<br>Lat=%{lat}<br>Long=%{lon}<extra></extra>\", \"lat\": [28.062], \"legendgroup\": \"University 357\", \"lon\": [-82.413225], \"marker\": {\"color\": \"#FECB52\", \"size\": [587.0], \"sizemode\": \"area\", \"sizeref\": 65.625}, \"mode\": \"markers\", \"name\": \"University 357\", \"showlegend\": true, \"subplot\": \"mapbox\", \"type\": \"scattermapbox\"}, {\"hovertemplate\": \"Customers=University 359<br>Invoice Amount=%{marker.size}<br>Lat=%{lat}<br>Long=%{lon}<extra></extra>\", \"lat\": [41.21479], \"legendgroup\": \"University 359\", \"lon\": [-79.38532], \"marker\": {\"color\": \"#636efa\", \"size\": [4500.0], \"sizemode\": \"area\", \"sizeref\": 65.625}, \"mode\": \"markers\", \"name\": \"University 359\", \"showlegend\": true, \"subplot\": \"mapbox\", \"type\": \"scattermapbox\"}, {\"hovertemplate\": \"Customers=University 36<br>Invoice Amount=%{marker.size}<br>Lat=%{lat}<br>Long=%{lon}<extra></extra>\", \"lat\": [37.0574582], \"legendgroup\": \"University 36\", \"lon\": [-114.24576640000001], \"marker\": {\"color\": \"#EF553B\", \"size\": [2700.0], \"sizemode\": \"area\", \"sizeref\": 65.625}, \"mode\": \"markers\", \"name\": \"University 36\", \"showlegend\": true, \"subplot\": \"mapbox\", \"type\": \"scattermapbox\"}, {\"hovertemplate\": \"Customers=University 360<br>Invoice Amount=%{marker.size}<br>Lat=%{lat}<br>Long=%{lon}<extra></extra>\", \"lat\": [40.43448400000001], \"legendgroup\": \"University 360\", \"lon\": [-91.776], \"marker\": {\"color\": \"#00cc96\", \"size\": [3000.0], \"sizemode\": \"area\", \"sizeref\": 65.625}, \"mode\": \"markers\", \"name\": \"University 360\", \"showlegend\": true, \"subplot\": \"mapbox\", \"type\": \"scattermapbox\"}, {\"hovertemplate\": \"Customers=University 361<br>Invoice Amount=%{marker.size}<br>Lat=%{lat}<br>Long=%{lon}<extra></extra>\", \"lat\": [42.170731], \"legendgroup\": \"University 361\", \"lon\": [-72.604842], \"marker\": {\"color\": \"#ab63fa\", \"size\": [625.0], \"sizemode\": \"area\", \"sizeref\": 65.625}, \"mode\": \"markers\", \"name\": \"University 361\", \"showlegend\": true, \"subplot\": \"mapbox\", \"type\": \"scattermapbox\"}, {\"hovertemplate\": \"Customers=University 362<br>Invoice Amount=%{marker.size}<br>Lat=%{lat}<br>Long=%{lon}<extra></extra>\", \"lat\": [41.87272], \"legendgroup\": \"University 362\", \"lon\": [-88.112442], \"marker\": {\"color\": \"#FFA15A\", \"size\": [512.5], \"sizemode\": \"area\", \"sizeref\": 65.625}, \"mode\": \"markers\", \"name\": \"University 362\", \"showlegend\": true, \"subplot\": \"mapbox\", \"type\": \"scattermapbox\"}, {\"hovertemplate\": \"Customers=University 363<br>Invoice Amount=%{marker.size}<br>Lat=%{lat}<br>Long=%{lon}<extra></extra>\", \"lat\": [30.73851], \"legendgroup\": \"University 363\", \"lon\": [-99.11144], \"marker\": {\"color\": \"#19d3f3\", \"size\": [500.0], \"sizemode\": \"area\", \"sizeref\": 65.625}, \"mode\": \"markers\", \"name\": \"University 363\", \"showlegend\": true, \"subplot\": \"mapbox\", \"type\": \"scattermapbox\"}, {\"hovertemplate\": \"Customers=University 365<br>Invoice Amount=%{marker.size}<br>Lat=%{lat}<br>Long=%{lon}<extra></extra>\", \"lat\": [46.842028000000006], \"legendgroup\": \"University 365\", \"lon\": [-96.735563], \"marker\": {\"color\": \"#FF6692\", \"size\": [1550.0], \"sizemode\": \"area\", \"sizeref\": 65.625}, \"mode\": \"markers\", \"name\": \"University 365\", \"showlegend\": true, \"subplot\": \"mapbox\", \"type\": \"scattermapbox\"}, {\"hovertemplate\": \"Customers=University 366<br>Invoice Amount=%{marker.size}<br>Lat=%{lat}<br>Long=%{lon}<extra></extra>\", \"lat\": [28.062], \"legendgroup\": \"University 366\", \"lon\": [-82.413225], \"marker\": {\"color\": \"#B6E880\", \"size\": [391.0], \"sizemode\": \"area\", \"sizeref\": 65.625}, \"mode\": \"markers\", \"name\": \"University 366\", \"showlegend\": true, \"subplot\": \"mapbox\", \"type\": \"scattermapbox\"}, {\"hovertemplate\": \"Customers=University 368<br>Invoice Amount=%{marker.size}<br>Lat=%{lat}<br>Long=%{lon}<extra></extra>\", \"lat\": [45.408173], \"legendgroup\": \"University 368\", \"lon\": [-122.922323], \"marker\": {\"color\": \"#FF97FF\", \"size\": [1840.0], \"sizemode\": \"area\", \"sizeref\": 65.625}, \"mode\": \"markers\", \"name\": \"University 368\", \"showlegend\": true, \"subplot\": \"mapbox\", \"type\": \"scattermapbox\"}, {\"hovertemplate\": \"Customers=University 37<br>Invoice Amount=%{marker.size}<br>Lat=%{lat}<br>Long=%{lon}<extra></extra>\", \"lat\": [39.65839], \"legendgroup\": \"University 37\", \"lon\": [-75.717762], \"marker\": {\"color\": \"#FECB52\", \"size\": [3500.0], \"sizemode\": \"area\", \"sizeref\": 65.625}, \"mode\": \"markers\", \"name\": \"University 37\", \"showlegend\": true, \"subplot\": \"mapbox\", \"type\": \"scattermapbox\"}, {\"hovertemplate\": \"Customers=University 371<br>Invoice Amount=%{marker.size}<br>Lat=%{lat}<br>Long=%{lon}<extra></extra>\", \"lat\": [30.24171], \"legendgroup\": \"University 371\", \"lon\": [-91.991044], \"marker\": {\"color\": \"#636efa\", \"size\": [875.0], \"sizemode\": \"area\", \"sizeref\": 65.625}, \"mode\": \"markers\", \"name\": \"University 371\", \"showlegend\": true, \"subplot\": \"mapbox\", \"type\": \"scattermapbox\"}, {\"hovertemplate\": \"Customers=University 372<br>Invoice Amount=%{marker.size}<br>Lat=%{lat}<br>Long=%{lon}<extra></extra>\", \"lat\": [35.53971], \"legendgroup\": \"University 372\", \"lon\": [-79.130864], \"marker\": {\"color\": \"#EF553B\", \"size\": [2000.0], \"sizemode\": \"area\", \"sizeref\": 65.625}, \"mode\": \"markers\", \"name\": \"University 372\", \"showlegend\": true, \"subplot\": \"mapbox\", \"type\": \"scattermapbox\"}, {\"hovertemplate\": \"Customers=University 373<br>Invoice Amount=%{marker.size}<br>Lat=%{lat}<br>Long=%{lon}<extra></extra>\", \"lat\": [32.283341], \"legendgroup\": \"University 373\", \"lon\": [-95.263047], \"marker\": {\"color\": \"#00cc96\", \"size\": [355.0], \"sizemode\": \"area\", \"sizeref\": 65.625}, \"mode\": \"markers\", \"name\": \"University 373\", \"showlegend\": true, \"subplot\": \"mapbox\", \"type\": \"scattermapbox\"}, {\"hovertemplate\": \"Customers=University 375<br>Invoice Amount=%{marker.size}<br>Lat=%{lat}<br>Long=%{lon}<extra></extra>\", \"lat\": [45.558622], \"legendgroup\": \"University 375\", \"lon\": [-84.391695], \"marker\": {\"color\": \"#ab63fa\", \"size\": [2750.0], \"sizemode\": \"area\", \"sizeref\": 65.625}, \"mode\": \"markers\", \"name\": \"University 375\", \"showlegend\": true, \"subplot\": \"mapbox\", \"type\": \"scattermapbox\"}, {\"hovertemplate\": \"Customers=University 377<br>Invoice Amount=%{marker.size}<br>Lat=%{lat}<br>Long=%{lon}<extra></extra>\", \"lat\": [38.970388], \"legendgroup\": \"University 377\", \"lon\": [-76.941919], \"marker\": {\"color\": \"#FFA15A\", \"size\": [2000.0], \"sizemode\": \"area\", \"sizeref\": 65.625}, \"mode\": \"markers\", \"name\": \"University 377\", \"showlegend\": true, \"subplot\": \"mapbox\", \"type\": \"scattermapbox\"}, {\"hovertemplate\": \"Customers=University 378<br>Invoice Amount=%{marker.size}<br>Lat=%{lat}<br>Long=%{lon}<extra></extra>\", \"lat\": [44.802351], \"legendgroup\": \"University 378\", \"lon\": [-92.595365], \"marker\": {\"color\": \"#19d3f3\", \"size\": [1481.0], \"sizemode\": \"area\", \"sizeref\": 65.625}, \"mode\": \"markers\", \"name\": \"University 378\", \"showlegend\": true, \"subplot\": \"mapbox\", \"type\": \"scattermapbox\"}, {\"hovertemplate\": \"Customers=University 379<br>Invoice Amount=%{marker.size}<br>Lat=%{lat}<br>Long=%{lon}<extra></extra>\", \"lat\": [35.841039], \"legendgroup\": \"University 379\", \"lon\": [-90.675602], \"marker\": {\"color\": \"#FF6692\", \"size\": [1270.0], \"sizemode\": \"area\", \"sizeref\": 65.625}, \"mode\": \"markers\", \"name\": \"University 379\", \"showlegend\": true, \"subplot\": \"mapbox\", \"type\": \"scattermapbox\"}, {\"hovertemplate\": \"Customers=University 38<br>Invoice Amount=%{marker.size}<br>Lat=%{lat}<br>Long=%{lon}<extra></extra>\", \"lat\": [35.5337762], \"legendgroup\": \"University 38\", \"lon\": [-85.96286239999999], \"marker\": {\"color\": \"#B6E880\", \"size\": [1800.0], \"sizemode\": \"area\", \"sizeref\": 65.625}, \"mode\": \"markers\", \"name\": \"University 38\", \"showlegend\": true, \"subplot\": \"mapbox\", \"type\": \"scattermapbox\"}, {\"hovertemplate\": \"Customers=University 380<br>Invoice Amount=%{marker.size}<br>Lat=%{lat}<br>Long=%{lon}<extra></extra>\", \"lat\": [34.173057], \"legendgroup\": \"University 380\", \"lon\": [-90.136429], \"marker\": {\"color\": \"#FF97FF\", \"size\": [2500.0], \"sizemode\": \"area\", \"sizeref\": 65.625}, \"mode\": \"markers\", \"name\": \"University 380\", \"showlegend\": true, \"subplot\": \"mapbox\", \"type\": \"scattermapbox\"}, {\"hovertemplate\": \"Customers=University 384<br>Invoice Amount=%{marker.size}<br>Lat=%{lat}<br>Long=%{lon}<extra></extra>\", \"lat\": [48.124594], \"legendgroup\": \"University 384\", \"lon\": [-117.762554], \"marker\": {\"color\": \"#FECB52\", \"size\": [1030.0], \"sizemode\": \"area\", \"sizeref\": 65.625}, \"mode\": \"markers\", \"name\": \"University 384\", \"showlegend\": true, \"subplot\": \"mapbox\", \"type\": \"scattermapbox\"}, {\"hovertemplate\": \"Customers=University 385<br>Invoice Amount=%{marker.size}<br>Lat=%{lat}<br>Long=%{lon}<extra></extra>\", \"lat\": [42.42282700000001], \"legendgroup\": \"University 385\", \"lon\": [-78.206289], \"marker\": {\"color\": \"#636efa\", \"size\": [2500.0], \"sizemode\": \"area\", \"sizeref\": 65.625}, \"mode\": \"markers\", \"name\": \"University 385\", \"showlegend\": true, \"subplot\": \"mapbox\", \"type\": \"scattermapbox\"}, {\"hovertemplate\": \"Customers=University 387<br>Invoice Amount=%{marker.size}<br>Lat=%{lat}<br>Long=%{lon}<extra></extra>\", \"lat\": [33.826229], \"legendgroup\": \"University 387\", \"lon\": [-93.961022], \"marker\": {\"color\": \"#EF553B\", \"size\": [125.0], \"sizemode\": \"area\", \"sizeref\": 65.625}, \"mode\": \"markers\", \"name\": \"University 387\", \"showlegend\": true, \"subplot\": \"mapbox\", \"type\": \"scattermapbox\"}, {\"hovertemplate\": \"Customers=University 388<br>Invoice Amount=%{marker.size}<br>Lat=%{lat}<br>Long=%{lon}<extra></extra>\", \"lat\": [35.841039], \"legendgroup\": \"University 388\", \"lon\": [-90.675602], \"marker\": {\"color\": \"#00cc96\", \"size\": [3250.0], \"sizemode\": \"area\", \"sizeref\": 65.625}, \"mode\": \"markers\", \"name\": \"University 388\", \"showlegend\": true, \"subplot\": \"mapbox\", \"type\": \"scattermapbox\"}, {\"hovertemplate\": \"Customers=University 39<br>Invoice Amount=%{marker.size}<br>Lat=%{lat}<br>Long=%{lon}<extra></extra>\", \"lat\": [35.38908125], \"legendgroup\": \"University 39\", \"lon\": [-89.15217799999999], \"marker\": {\"color\": \"#ab63fa\", \"size\": [2150.0], \"sizemode\": \"area\", \"sizeref\": 65.625}, \"mode\": \"markers\", \"name\": \"University 39\", \"showlegend\": true, \"subplot\": \"mapbox\", \"type\": \"scattermapbox\"}, {\"hovertemplate\": \"Customers=University 390<br>Invoice Amount=%{marker.size}<br>Lat=%{lat}<br>Long=%{lon}<extra></extra>\", \"lat\": [35.841039], \"legendgroup\": \"University 390\", \"lon\": [-90.675602], \"marker\": {\"color\": \"#FFA15A\", \"size\": [2500.0], \"sizemode\": \"area\", \"sizeref\": 65.625}, \"mode\": \"markers\", \"name\": \"University 390\", \"showlegend\": true, \"subplot\": \"mapbox\", \"type\": \"scattermapbox\"}, {\"hovertemplate\": \"Customers=University 392<br>Invoice Amount=%{marker.size}<br>Lat=%{lat}<br>Long=%{lon}<extra></extra>\", \"lat\": [38.380263], \"legendgroup\": \"University 392\", \"lon\": [-81.76714100000002], \"marker\": {\"color\": \"#19d3f3\", \"size\": [800.0], \"sizemode\": \"area\", \"sizeref\": 65.625}, \"mode\": \"markers\", \"name\": \"University 392\", \"showlegend\": true, \"subplot\": \"mapbox\", \"type\": \"scattermapbox\"}, {\"hovertemplate\": \"Customers=University 393<br>Invoice Amount=%{marker.size}<br>Lat=%{lat}<br>Long=%{lon}<extra></extra>\", \"lat\": [39.591282], \"legendgroup\": \"University 393\", \"lon\": [-87.113196], \"marker\": {\"color\": \"#FF6692\", \"size\": [2250.0], \"sizemode\": \"area\", \"sizeref\": 65.625}, \"mode\": \"markers\", \"name\": \"University 393\", \"showlegend\": true, \"subplot\": \"mapbox\", \"type\": \"scattermapbox\"}, {\"hovertemplate\": \"Customers=University 394<br>Invoice Amount=%{marker.size}<br>Lat=%{lat}<br>Long=%{lon}<extra></extra>\", \"lat\": [39.330076], \"legendgroup\": \"University 394\", \"lon\": [-76.61240500000002], \"marker\": {\"color\": \"#B6E880\", \"size\": [2500.0], \"sizemode\": \"area\", \"sizeref\": 65.625}, \"mode\": \"markers\", \"name\": \"University 394\", \"showlegend\": true, \"subplot\": \"mapbox\", \"type\": \"scattermapbox\"}, {\"hovertemplate\": \"Customers=University 395<br>Invoice Amount=%{marker.size}<br>Lat=%{lat}<br>Long=%{lon}<extra></extra>\", \"lat\": [28.062], \"legendgroup\": \"University 395\", \"lon\": [-82.413225], \"marker\": {\"color\": \"#FF97FF\", \"size\": [3250.0], \"sizemode\": \"area\", \"sizeref\": 65.625}, \"mode\": \"markers\", \"name\": \"University 395\", \"showlegend\": true, \"subplot\": \"mapbox\", \"type\": \"scattermapbox\"}, {\"hovertemplate\": \"Customers=University 396<br>Invoice Amount=%{marker.size}<br>Lat=%{lat}<br>Long=%{lon}<extra></extra>\", \"lat\": [28.062], \"legendgroup\": \"University 396\", \"lon\": [-82.413225], \"marker\": {\"color\": \"#FECB52\", \"size\": [1250.0], \"sizemode\": \"area\", \"sizeref\": 65.625}, \"mode\": \"markers\", \"name\": \"University 396\", \"showlegend\": true, \"subplot\": \"mapbox\", \"type\": \"scattermapbox\"}, {\"hovertemplate\": \"Customers=University 398<br>Invoice Amount=%{marker.size}<br>Lat=%{lat}<br>Long=%{lon}<extra></extra>\", \"lat\": [48.124594], \"legendgroup\": \"University 398\", \"lon\": [-117.762554], \"marker\": {\"color\": \"#636efa\", \"size\": [400.0], \"sizemode\": \"area\", \"sizeref\": 65.625}, \"mode\": \"markers\", \"name\": \"University 398\", \"showlegend\": true, \"subplot\": \"mapbox\", \"type\": \"scattermapbox\"}, {\"hovertemplate\": \"Customers=University 399<br>Invoice Amount=%{marker.size}<br>Lat=%{lat}<br>Long=%{lon}<extra></extra>\", \"lat\": [38.978405], \"legendgroup\": \"University 399\", \"lon\": [-79.94941700000003], \"marker\": {\"color\": \"#EF553B\", \"size\": [1500.0], \"sizemode\": \"area\", \"sizeref\": 65.625}, \"mode\": \"markers\", \"name\": \"University 399\", \"showlegend\": true, \"subplot\": \"mapbox\", \"type\": \"scattermapbox\"}, {\"hovertemplate\": \"Customers=University 40<br>Invoice Amount=%{marker.size}<br>Lat=%{lat}<br>Long=%{lon}<extra></extra>\", \"lat\": [35.050377000000005], \"legendgroup\": \"University 40\", \"lon\": [-80.949466], \"marker\": {\"color\": \"#00cc96\", \"size\": [750.0], \"sizemode\": \"area\", \"sizeref\": 65.625}, \"mode\": \"markers\", \"name\": \"University 40\", \"showlegend\": true, \"subplot\": \"mapbox\", \"type\": \"scattermapbox\"}, {\"hovertemplate\": \"Customers=University 400<br>Invoice Amount=%{marker.size}<br>Lat=%{lat}<br>Long=%{lon}<extra></extra>\", \"lat\": [43.13867], \"legendgroup\": \"University 400\", \"lon\": [-79.03893000000002], \"marker\": {\"color\": \"#ab63fa\", \"size\": [1403.3333333333333], \"sizemode\": \"area\", \"sizeref\": 65.625}, \"mode\": \"markers\", \"name\": \"University 400\", \"showlegend\": true, \"subplot\": \"mapbox\", \"type\": \"scattermapbox\"}, {\"hovertemplate\": \"Customers=University 401<br>Invoice Amount=%{marker.size}<br>Lat=%{lat}<br>Long=%{lon}<extra></extra>\", \"lat\": [42.31296], \"legendgroup\": \"University 401\", \"lon\": [-83.374549], \"marker\": {\"color\": \"#FFA15A\", \"size\": [450.0], \"sizemode\": \"area\", \"sizeref\": 65.625}, \"mode\": \"markers\", \"name\": \"University 401\", \"showlegend\": true, \"subplot\": \"mapbox\", \"type\": \"scattermapbox\"}, {\"hovertemplate\": \"Customers=University 402<br>Invoice Amount=%{marker.size}<br>Lat=%{lat}<br>Long=%{lon}<extra></extra>\", \"lat\": [41.477816], \"legendgroup\": \"University 402\", \"lon\": [-87.683188], \"marker\": {\"color\": \"#19d3f3\", \"size\": [8880.0], \"sizemode\": \"area\", \"sizeref\": 65.625}, \"mode\": \"markers\", \"name\": \"University 402\", \"showlegend\": true, \"subplot\": \"mapbox\", \"type\": \"scattermapbox\"}, {\"hovertemplate\": \"Customers=University 404<br>Invoice Amount=%{marker.size}<br>Lat=%{lat}<br>Long=%{lon}<extra></extra>\", \"lat\": [37.765177], \"legendgroup\": \"University 404\", \"lon\": [-121.115411], \"marker\": {\"color\": \"#FF6692\", \"size\": [1900.0], \"sizemode\": \"area\", \"sizeref\": 65.625}, \"mode\": \"markers\", \"name\": \"University 404\", \"showlegend\": true, \"subplot\": \"mapbox\", \"type\": \"scattermapbox\"}, {\"hovertemplate\": \"Customers=University 405<br>Invoice Amount=%{marker.size}<br>Lat=%{lat}<br>Long=%{lon}<extra></extra>\", \"lat\": [47.666487], \"legendgroup\": \"University 405\", \"lon\": [-122.309849], \"marker\": {\"color\": \"#B6E880\", \"size\": [700.0], \"sizemode\": \"area\", \"sizeref\": 65.625}, \"mode\": \"markers\", \"name\": \"University 405\", \"showlegend\": true, \"subplot\": \"mapbox\", \"type\": \"scattermapbox\"}, {\"hovertemplate\": \"Customers=University 406<br>Invoice Amount=%{marker.size}<br>Lat=%{lat}<br>Long=%{lon}<extra></extra>\", \"lat\": [35.841039], \"legendgroup\": \"University 406\", \"lon\": [-90.675602], \"marker\": {\"color\": \"#FF97FF\", \"size\": [1625.0], \"sizemode\": \"area\", \"sizeref\": 65.625}, \"mode\": \"markers\", \"name\": \"University 406\", \"showlegend\": true, \"subplot\": \"mapbox\", \"type\": \"scattermapbox\"}, {\"hovertemplate\": \"Customers=University 407<br>Invoice Amount=%{marker.size}<br>Lat=%{lat}<br>Long=%{lon}<extra></extra>\", \"lat\": [40.905139], \"legendgroup\": \"University 407\", \"lon\": [-72.888349], \"marker\": {\"color\": \"#FECB52\", \"size\": [395.0], \"sizemode\": \"area\", \"sizeref\": 65.625}, \"mode\": \"markers\", \"name\": \"University 407\", \"showlegend\": true, \"subplot\": \"mapbox\", \"type\": \"scattermapbox\"}, {\"hovertemplate\": \"Customers=University 408<br>Invoice Amount=%{marker.size}<br>Lat=%{lat}<br>Long=%{lon}<extra></extra>\", \"lat\": [28.062], \"legendgroup\": \"University 408\", \"lon\": [-82.413225], \"marker\": {\"color\": \"#636efa\", \"size\": [500.0], \"sizemode\": \"area\", \"sizeref\": 65.625}, \"mode\": \"markers\", \"name\": \"University 408\", \"showlegend\": true, \"subplot\": \"mapbox\", \"type\": \"scattermapbox\"}, {\"hovertemplate\": \"Customers=University 41<br>Invoice Amount=%{marker.size}<br>Lat=%{lat}<br>Long=%{lon}<extra></extra>\", \"lat\": [26.384204], \"legendgroup\": \"University 41\", \"lon\": [-80.14575], \"marker\": {\"color\": \"#EF553B\", \"size\": [750.0], \"sizemode\": \"area\", \"sizeref\": 65.625}, \"mode\": \"markers\", \"name\": \"University 41\", \"showlegend\": true, \"subplot\": \"mapbox\", \"type\": \"scattermapbox\"}, {\"hovertemplate\": \"Customers=University 411<br>Invoice Amount=%{marker.size}<br>Lat=%{lat}<br>Long=%{lon}<extra></extra>\", \"lat\": [38.841819], \"legendgroup\": \"University 411\", \"lon\": [-89.877841], \"marker\": {\"color\": \"#00cc96\", \"size\": [4700.0], \"sizemode\": \"area\", \"sizeref\": 65.625}, \"mode\": \"markers\", \"name\": \"University 411\", \"showlegend\": true, \"subplot\": \"mapbox\", \"type\": \"scattermapbox\"}, {\"hovertemplate\": \"Customers=University 412<br>Invoice Amount=%{marker.size}<br>Lat=%{lat}<br>Long=%{lon}<extra></extra>\", \"lat\": [28.062], \"legendgroup\": \"University 412\", \"lon\": [-82.413225], \"marker\": {\"color\": \"#ab63fa\", \"size\": [1640.0], \"sizemode\": \"area\", \"sizeref\": 65.625}, \"mode\": \"markers\", \"name\": \"University 412\", \"showlegend\": true, \"subplot\": \"mapbox\", \"type\": \"scattermapbox\"}, {\"hovertemplate\": \"Customers=University 413<br>Invoice Amount=%{marker.size}<br>Lat=%{lat}<br>Long=%{lon}<extra></extra>\", \"lat\": [35.49426], \"legendgroup\": \"University 413\", \"lon\": [-95.30552], \"marker\": {\"color\": \"#FFA15A\", \"size\": [4800.0], \"sizemode\": \"area\", \"sizeref\": 65.625}, \"mode\": \"markers\", \"name\": \"University 413\", \"showlegend\": true, \"subplot\": \"mapbox\", \"type\": \"scattermapbox\"}, {\"hovertemplate\": \"Customers=University 414<br>Invoice Amount=%{marker.size}<br>Lat=%{lat}<br>Long=%{lon}<extra></extra>\", \"lat\": [39.950948], \"legendgroup\": \"University 414\", \"lon\": [-105.159078], \"marker\": {\"color\": \"#19d3f3\", \"size\": [4500.0], \"sizemode\": \"area\", \"sizeref\": 65.625}, \"mode\": \"markers\", \"name\": \"University 414\", \"showlegend\": true, \"subplot\": \"mapbox\", \"type\": \"scattermapbox\"}, {\"hovertemplate\": \"Customers=University 417<br>Invoice Amount=%{marker.size}<br>Lat=%{lat}<br>Long=%{lon}<extra></extra>\", \"lat\": [28.062], \"legendgroup\": \"University 417\", \"lon\": [-82.413225], \"marker\": {\"color\": \"#FF6692\", \"size\": [425.0], \"sizemode\": \"area\", \"sizeref\": 65.625}, \"mode\": \"markers\", \"name\": \"University 417\", \"showlegend\": true, \"subplot\": \"mapbox\", \"type\": \"scattermapbox\"}, {\"hovertemplate\": \"Customers=University 419<br>Invoice Amount=%{marker.size}<br>Lat=%{lat}<br>Long=%{lon}<extra></extra>\", \"lat\": [35.841039], \"legendgroup\": \"University 419\", \"lon\": [-90.675602], \"marker\": {\"color\": \"#B6E880\", \"size\": [562.0], \"sizemode\": \"area\", \"sizeref\": 65.625}, \"mode\": \"markers\", \"name\": \"University 419\", \"showlegend\": true, \"subplot\": \"mapbox\", \"type\": \"scattermapbox\"}, {\"hovertemplate\": \"Customers=University 42<br>Invoice Amount=%{marker.size}<br>Lat=%{lat}<br>Long=%{lon}<extra></extra>\", \"lat\": [31.2177205], \"legendgroup\": \"University 42\", \"lon\": [-89.777409], \"marker\": {\"color\": \"#FF97FF\", \"size\": [25500.0], \"sizemode\": \"area\", \"sizeref\": 65.625}, \"mode\": \"markers\", \"name\": \"University 42\", \"showlegend\": true, \"subplot\": \"mapbox\", \"type\": \"scattermapbox\"}, {\"hovertemplate\": \"Customers=University 420<br>Invoice Amount=%{marker.size}<br>Lat=%{lat}<br>Long=%{lon}<extra></extra>\", \"lat\": [48.630369], \"legendgroup\": \"University 420\", \"lon\": [-97.471056], \"marker\": {\"color\": \"#FECB52\", \"size\": [3366.0], \"sizemode\": \"area\", \"sizeref\": 65.625}, \"mode\": \"markers\", \"name\": \"University 420\", \"showlegend\": true, \"subplot\": \"mapbox\", \"type\": \"scattermapbox\"}, {\"hovertemplate\": \"Customers=University 421<br>Invoice Amount=%{marker.size}<br>Lat=%{lat}<br>Long=%{lon}<extra></extra>\", \"lat\": [35.691868], \"legendgroup\": \"University 421\", \"lon\": [-91.598917], \"marker\": {\"color\": \"#636efa\", \"size\": [26250.0], \"sizemode\": \"area\", \"sizeref\": 65.625}, \"mode\": \"markers\", \"name\": \"University 421\", \"showlegend\": true, \"subplot\": \"mapbox\", \"type\": \"scattermapbox\"}, {\"hovertemplate\": \"Customers=University 422<br>Invoice Amount=%{marker.size}<br>Lat=%{lat}<br>Long=%{lon}<extra></extra>\", \"lat\": [41.64025], \"legendgroup\": \"University 422\", \"lon\": [-104.16384], \"marker\": {\"color\": \"#EF553B\", \"size\": [500.0], \"sizemode\": \"area\", \"sizeref\": 65.625}, \"mode\": \"markers\", \"name\": \"University 422\", \"showlegend\": true, \"subplot\": \"mapbox\", \"type\": \"scattermapbox\"}, {\"hovertemplate\": \"Customers=University 423<br>Invoice Amount=%{marker.size}<br>Lat=%{lat}<br>Long=%{lon}<extra></extra>\", \"lat\": [29.468413], \"legendgroup\": \"University 423\", \"lon\": [-98.528889], \"marker\": {\"color\": \"#00cc96\", \"size\": [2500.0], \"sizemode\": \"area\", \"sizeref\": 65.625}, \"mode\": \"markers\", \"name\": \"University 423\", \"showlegend\": true, \"subplot\": \"mapbox\", \"type\": \"scattermapbox\"}, {\"hovertemplate\": \"Customers=University 424<br>Invoice Amount=%{marker.size}<br>Lat=%{lat}<br>Long=%{lon}<extra></extra>\", \"lat\": [42.055136], \"legendgroup\": \"University 424\", \"lon\": [-71.081416], \"marker\": {\"color\": \"#ab63fa\", \"size\": [1700.0], \"sizemode\": \"area\", \"sizeref\": 65.625}, \"mode\": \"markers\", \"name\": \"University 424\", \"showlegend\": true, \"subplot\": \"mapbox\", \"type\": \"scattermapbox\"}, {\"hovertemplate\": \"Customers=University 425<br>Invoice Amount=%{marker.size}<br>Lat=%{lat}<br>Long=%{lon}<extra></extra>\", \"lat\": [37.953672], \"legendgroup\": \"University 425\", \"lon\": [-122.022872], \"marker\": {\"color\": \"#FFA15A\", \"size\": [2000.0], \"sizemode\": \"area\", \"sizeref\": 65.625}, \"mode\": \"markers\", \"name\": \"University 425\", \"showlegend\": true, \"subplot\": \"mapbox\", \"type\": \"scattermapbox\"}, {\"hovertemplate\": \"Customers=University 43<br>Invoice Amount=%{marker.size}<br>Lat=%{lat}<br>Long=%{lon}<extra></extra>\", \"lat\": [38.89583], \"legendgroup\": \"University 43\", \"lon\": [-77.009828], \"marker\": {\"color\": \"#19d3f3\", \"size\": [8000.0], \"sizemode\": \"area\", \"sizeref\": 65.625}, \"mode\": \"markers\", \"name\": \"University 43\", \"showlegend\": true, \"subplot\": \"mapbox\", \"type\": \"scattermapbox\"}, {\"hovertemplate\": \"Customers=University 44<br>Invoice Amount=%{marker.size}<br>Lat=%{lat}<br>Long=%{lon}<extra></extra>\", \"lat\": [21.36711], \"legendgroup\": \"University 44\", \"lon\": [-157.90399399999995], \"marker\": {\"color\": \"#FF6692\", \"size\": [750.0], \"sizemode\": \"area\", \"sizeref\": 65.625}, \"mode\": \"markers\", \"name\": \"University 44\", \"showlegend\": true, \"subplot\": \"mapbox\", \"type\": \"scattermapbox\"}, {\"hovertemplate\": \"Customers=University 45<br>Invoice Amount=%{marker.size}<br>Lat=%{lat}<br>Long=%{lon}<extra></extra>\", \"lat\": [45.78457], \"legendgroup\": \"University 45\", \"lon\": [-108.526828], \"marker\": {\"color\": \"#B6E880\", \"size\": [750.0], \"sizemode\": \"area\", \"sizeref\": 65.625}, \"mode\": \"markers\", \"name\": \"University 45\", \"showlegend\": true, \"subplot\": \"mapbox\", \"type\": \"scattermapbox\"}, {\"hovertemplate\": \"Customers=University 46<br>Invoice Amount=%{marker.size}<br>Lat=%{lat}<br>Long=%{lon}<extra></extra>\", \"lat\": [38.525618333333334], \"legendgroup\": \"University 46\", \"lon\": [-97.07588400000002], \"marker\": {\"color\": \"#FF97FF\", \"size\": [4750.0], \"sizemode\": \"area\", \"sizeref\": 65.625}, \"mode\": \"markers\", \"name\": \"University 46\", \"showlegend\": true, \"subplot\": \"mapbox\", \"type\": \"scattermapbox\"}, {\"hovertemplate\": \"Customers=University 47<br>Invoice Amount=%{marker.size}<br>Lat=%{lat}<br>Long=%{lon}<extra></extra>\", \"lat\": [34.358185], \"legendgroup\": \"University 47\", \"lon\": [-89.548378], \"marker\": {\"color\": \"#FECB52\", \"size\": [7350.0], \"sizemode\": \"area\", \"sizeref\": 65.625}, \"mode\": \"markers\", \"name\": \"University 47\", \"showlegend\": true, \"subplot\": \"mapbox\", \"type\": \"scattermapbox\"}, {\"hovertemplate\": \"Customers=University 48<br>Invoice Amount=%{marker.size}<br>Lat=%{lat}<br>Long=%{lon}<extra></extra>\", \"lat\": [33.453832], \"legendgroup\": \"University 48\", \"lon\": [-88.794057], \"marker\": {\"color\": \"#636efa\", \"size\": [4750.0], \"sizemode\": \"area\", \"sizeref\": 65.625}, \"mode\": \"markers\", \"name\": \"University 48\", \"showlegend\": true, \"subplot\": \"mapbox\", \"type\": \"scattermapbox\"}, {\"hovertemplate\": \"Customers=University 49<br>Invoice Amount=%{marker.size}<br>Lat=%{lat}<br>Long=%{lon}<extra></extra>\", \"lat\": [31.229636], \"legendgroup\": \"University 49\", \"lon\": [-80.62590725], \"marker\": {\"color\": \"#EF553B\", \"size\": [1500.0], \"sizemode\": \"area\", \"sizeref\": 65.625}, \"mode\": \"markers\", \"name\": \"University 49\", \"showlegend\": true, \"subplot\": \"mapbox\", \"type\": \"scattermapbox\"}, {\"hovertemplate\": \"Customers=University 51<br>Invoice Amount=%{marker.size}<br>Lat=%{lat}<br>Long=%{lon}<extra></extra>\", \"lat\": [46.096193666666665], \"legendgroup\": \"University 51\", \"lon\": [-89.622435], \"marker\": {\"color\": \"#00cc96\", \"size\": [750.0], \"sizemode\": \"area\", \"sizeref\": 65.625}, \"mode\": \"markers\", \"name\": \"University 51\", \"showlegend\": true, \"subplot\": \"mapbox\", \"type\": \"scattermapbox\"}, {\"hovertemplate\": \"Customers=University 52<br>Invoice Amount=%{marker.size}<br>Lat=%{lat}<br>Long=%{lon}<extra></extra>\", \"lat\": [32.302802], \"legendgroup\": \"University 52\", \"lon\": [-90.183909], \"marker\": {\"color\": \"#ab63fa\", \"size\": [4999.0], \"sizemode\": \"area\", \"sizeref\": 65.625}, \"mode\": \"markers\", \"name\": \"University 52\", \"showlegend\": true, \"subplot\": \"mapbox\", \"type\": \"scattermapbox\"}, {\"hovertemplate\": \"Customers=University 53<br>Invoice Amount=%{marker.size}<br>Lat=%{lat}<br>Long=%{lon}<extra></extra>\", \"lat\": [29.558454], \"legendgroup\": \"University 53\", \"lon\": [-95.786392], \"marker\": {\"color\": \"#FFA15A\", \"size\": [4500.0], \"sizemode\": \"area\", \"sizeref\": 65.625}, \"mode\": \"markers\", \"name\": \"University 53\", \"showlegend\": true, \"subplot\": \"mapbox\", \"type\": \"scattermapbox\"}, {\"hovertemplate\": \"Customers=University 54<br>Invoice Amount=%{marker.size}<br>Lat=%{lat}<br>Long=%{lon}<extra></extra>\", \"lat\": [37.8127265], \"legendgroup\": \"University 54\", \"lon\": [-78.019759], \"marker\": {\"color\": \"#19d3f3\", \"size\": [1500.0], \"sizemode\": \"area\", \"sizeref\": 65.625}, \"mode\": \"markers\", \"name\": \"University 54\", \"showlegend\": true, \"subplot\": \"mapbox\", \"type\": \"scattermapbox\"}, {\"hovertemplate\": \"Customers=University 56<br>Invoice Amount=%{marker.size}<br>Lat=%{lat}<br>Long=%{lon}<extra></extra>\", \"lat\": [-34.927341], \"legendgroup\": \"University 56\", \"lon\": [138.602002], \"marker\": {\"color\": \"#FF6692\", \"size\": [1500.0], \"sizemode\": \"area\", \"sizeref\": 65.625}, \"mode\": \"markers\", \"name\": \"University 56\", \"showlegend\": true, \"subplot\": \"mapbox\", \"type\": \"scattermapbox\"}, {\"hovertemplate\": \"Customers=University 57<br>Invoice Amount=%{marker.size}<br>Lat=%{lat}<br>Long=%{lon}<extra></extra>\", \"lat\": [34.79395], \"legendgroup\": \"University 57\", \"lon\": [-90.70619049999999], \"marker\": {\"color\": \"#B6E880\", \"size\": [5400.0], \"sizemode\": \"area\", \"sizeref\": 65.625}, \"mode\": \"markers\", \"name\": \"University 57\", \"showlegend\": true, \"subplot\": \"mapbox\", \"type\": \"scattermapbox\"}, {\"hovertemplate\": \"Customers=University 58<br>Invoice Amount=%{marker.size}<br>Lat=%{lat}<br>Long=%{lon}<extra></extra>\", \"lat\": [46.065081], \"legendgroup\": \"University 58\", \"lon\": [-118.32958700000002], \"marker\": {\"color\": \"#FF97FF\", \"size\": [3000.0], \"sizemode\": \"area\", \"sizeref\": 65.625}, \"mode\": \"markers\", \"name\": \"University 58\", \"showlegend\": true, \"subplot\": \"mapbox\", \"type\": \"scattermapbox\"}, {\"hovertemplate\": \"Customers=University 59<br>Invoice Amount=%{marker.size}<br>Lat=%{lat}<br>Long=%{lon}<extra></extra>\", \"lat\": [35.99726300000001], \"legendgroup\": \"University 59\", \"lon\": [-78.897667], \"marker\": {\"color\": \"#FECB52\", \"size\": [2630.0], \"sizemode\": \"area\", \"sizeref\": 65.625}, \"mode\": \"markers\", \"name\": \"University 59\", \"showlegend\": true, \"subplot\": \"mapbox\", \"type\": \"scattermapbox\"}, {\"hovertemplate\": \"Customers=University 60<br>Invoice Amount=%{marker.size}<br>Lat=%{lat}<br>Long=%{lon}<extra></extra>\", \"lat\": [42.41484000000001], \"legendgroup\": \"University 60\", \"lon\": [-83.137876], \"marker\": {\"color\": \"#636efa\", \"size\": [750.0], \"sizemode\": \"area\", \"sizeref\": 65.625}, \"mode\": \"markers\", \"name\": \"University 60\", \"showlegend\": true, \"subplot\": \"mapbox\", \"type\": \"scattermapbox\"}, {\"hovertemplate\": \"Customers=University 61<br>Invoice Amount=%{marker.size}<br>Lat=%{lat}<br>Long=%{lon}<extra></extra>\", \"lat\": [35.30615200000001], \"legendgroup\": \"University 61\", \"lon\": [-80.734562], \"marker\": {\"color\": \"#EF553B\", \"size\": [15750.0], \"sizemode\": \"area\", \"sizeref\": 65.625}, \"mode\": \"markers\", \"name\": \"University 61\", \"showlegend\": true, \"subplot\": \"mapbox\", \"type\": \"scattermapbox\"}, {\"hovertemplate\": \"Customers=University 62<br>Invoice Amount=%{marker.size}<br>Lat=%{lat}<br>Long=%{lon}<extra></extra>\", \"lat\": [40.51417], \"legendgroup\": \"University 62\", \"lon\": [-88.99056], \"marker\": {\"color\": \"#00cc96\", \"size\": [10500.0], \"sizemode\": \"area\", \"sizeref\": 65.625}, \"mode\": \"markers\", \"name\": \"University 62\", \"showlegend\": true, \"subplot\": \"mapbox\", \"type\": \"scattermapbox\"}, {\"hovertemplate\": \"Customers=University 63<br>Invoice Amount=%{marker.size}<br>Lat=%{lat}<br>Long=%{lon}<extra></extra>\", \"lat\": [46.882198], \"legendgroup\": \"University 63\", \"lon\": [-102.799866], \"marker\": {\"color\": \"#ab63fa\", \"size\": [2550.0], \"sizemode\": \"area\", \"sizeref\": 65.625}, \"mode\": \"markers\", \"name\": \"University 63\", \"showlegend\": true, \"subplot\": \"mapbox\", \"type\": \"scattermapbox\"}, {\"hovertemplate\": \"Customers=University 64<br>Invoice Amount=%{marker.size}<br>Lat=%{lat}<br>Long=%{lon}<extra></extra>\", \"lat\": [39.088975], \"legendgroup\": \"University 64\", \"lon\": [-94.58516], \"marker\": {\"color\": \"#FFA15A\", \"size\": [750.0], \"sizemode\": \"area\", \"sizeref\": 65.625}, \"mode\": \"markers\", \"name\": \"University 64\", \"showlegend\": true, \"subplot\": \"mapbox\", \"type\": \"scattermapbox\"}, {\"hovertemplate\": \"Customers=University 65<br>Invoice Amount=%{marker.size}<br>Lat=%{lat}<br>Long=%{lon}<extra></extra>\", \"lat\": [41.68339], \"legendgroup\": \"University 65\", \"lon\": [-72.767385], \"marker\": {\"color\": \"#19d3f3\", \"size\": [9000.0], \"sizemode\": \"area\", \"sizeref\": 65.625}, \"mode\": \"markers\", \"name\": \"University 65\", \"showlegend\": true, \"subplot\": \"mapbox\", \"type\": \"scattermapbox\"}, {\"hovertemplate\": \"Customers=University 66<br>Invoice Amount=%{marker.size}<br>Lat=%{lat}<br>Long=%{lon}<extra></extra>\", \"lat\": [29.912261], \"legendgroup\": \"University 66\", \"lon\": [-89.995129], \"marker\": {\"color\": \"#FF6692\", \"size\": [4500.0], \"sizemode\": \"area\", \"sizeref\": 65.625}, \"mode\": \"markers\", \"name\": \"University 66\", \"showlegend\": true, \"subplot\": \"mapbox\", \"type\": \"scattermapbox\"}, {\"hovertemplate\": \"Customers=University 67<br>Invoice Amount=%{marker.size}<br>Lat=%{lat}<br>Long=%{lon}<extra></extra>\", \"lat\": [34.477406333333334], \"legendgroup\": \"University 67\", \"lon\": [-91.48299066666668], \"marker\": {\"color\": \"#B6E880\", \"size\": [4333.333333333333], \"sizemode\": \"area\", \"sizeref\": 65.625}, \"mode\": \"markers\", \"name\": \"University 67\", \"showlegend\": true, \"subplot\": \"mapbox\", \"type\": \"scattermapbox\"}, {\"hovertemplate\": \"Customers=University 68<br>Invoice Amount=%{marker.size}<br>Lat=%{lat}<br>Long=%{lon}<extra></extra>\", \"lat\": [29.849649], \"legendgroup\": \"University 68\", \"lon\": [-95.498476], \"marker\": {\"color\": \"#FF97FF\", \"size\": [3000.0], \"sizemode\": \"area\", \"sizeref\": 65.625}, \"mode\": \"markers\", \"name\": \"University 68\", \"showlegend\": true, \"subplot\": \"mapbox\", \"type\": \"scattermapbox\"}, {\"hovertemplate\": \"Customers=University 69<br>Invoice Amount=%{marker.size}<br>Lat=%{lat}<br>Long=%{lon}<extra></extra>\", \"lat\": [36.30044], \"legendgroup\": \"University 69\", \"lon\": [-82.362131], \"marker\": {\"color\": \"#FECB52\", \"size\": [4537.0], \"sizemode\": \"area\", \"sizeref\": 65.625}, \"mode\": \"markers\", \"name\": \"University 69\", \"showlegend\": true, \"subplot\": \"mapbox\", \"type\": \"scattermapbox\"}, {\"hovertemplate\": \"Customers=University 71<br>Invoice Amount=%{marker.size}<br>Lat=%{lat}<br>Long=%{lon}<extra></extra>\", \"lat\": [31.5771706], \"legendgroup\": \"University 71\", \"lon\": [-83.89726879999999], \"marker\": {\"color\": \"#636efa\", \"size\": [1710.0], \"sizemode\": \"area\", \"sizeref\": 65.625}, \"mode\": \"markers\", \"name\": \"University 71\", \"showlegend\": true, \"subplot\": \"mapbox\", \"type\": \"scattermapbox\"}, {\"hovertemplate\": \"Customers=University 72<br>Invoice Amount=%{marker.size}<br>Lat=%{lat}<br>Long=%{lon}<extra></extra>\", \"lat\": [32.432158], \"legendgroup\": \"University 72\", \"lon\": [-93.701816], \"marker\": {\"color\": \"#EF553B\", \"size\": [1750.0], \"sizemode\": \"area\", \"sizeref\": 65.625}, \"mode\": \"markers\", \"name\": \"University 72\", \"showlegend\": true, \"subplot\": \"mapbox\", \"type\": \"scattermapbox\"}, {\"hovertemplate\": \"Customers=University 73<br>Invoice Amount=%{marker.size}<br>Lat=%{lat}<br>Long=%{lon}<extra></extra>\", \"lat\": [33.994748], \"legendgroup\": \"University 73\", \"lon\": [-118.08086000000002], \"marker\": {\"color\": \"#00cc96\", \"size\": [5880.0], \"sizemode\": \"area\", \"sizeref\": 65.625}, \"mode\": \"markers\", \"name\": \"University 73\", \"showlegend\": true, \"subplot\": \"mapbox\", \"type\": \"scattermapbox\"}, {\"hovertemplate\": \"Customers=University 74<br>Invoice Amount=%{marker.size}<br>Lat=%{lat}<br>Long=%{lon}<extra></extra>\", \"lat\": [39.189982], \"legendgroup\": \"University 74\", \"lon\": [-96.578842], \"marker\": {\"color\": \"#ab63fa\", \"size\": [7125.0], \"sizemode\": \"area\", \"sizeref\": 65.625}, \"mode\": \"markers\", \"name\": \"University 74\", \"showlegend\": true, \"subplot\": \"mapbox\", \"type\": \"scattermapbox\"}, {\"hovertemplate\": \"Customers=University 75<br>Invoice Amount=%{marker.size}<br>Lat=%{lat}<br>Long=%{lon}<extra></extra>\", \"lat\": [34.497007], \"legendgroup\": \"University 75\", \"lon\": [-114.331063], \"marker\": {\"color\": \"#FFA15A\", \"size\": [6300.0], \"sizemode\": \"area\", \"sizeref\": 65.625}, \"mode\": \"markers\", \"name\": \"University 75\", \"showlegend\": true, \"subplot\": \"mapbox\", \"type\": \"scattermapbox\"}, {\"hovertemplate\": \"Customers=University 76<br>Invoice Amount=%{marker.size}<br>Lat=%{lat}<br>Long=%{lon}<extra></extra>\", \"lat\": [35.8443915], \"legendgroup\": \"University 76\", \"lon\": [-88.519639], \"marker\": {\"color\": \"#19d3f3\", \"size\": [12600.0], \"sizemode\": \"area\", \"sizeref\": 65.625}, \"mode\": \"markers\", \"name\": \"University 76\", \"showlegend\": true, \"subplot\": \"mapbox\", \"type\": \"scattermapbox\"}, {\"hovertemplate\": \"Customers=University 77<br>Invoice Amount=%{marker.size}<br>Lat=%{lat}<br>Long=%{lon}<extra></extra>\", \"lat\": [41.27981], \"legendgroup\": \"University 77\", \"lon\": [-105.59022], \"marker\": {\"color\": \"#FF6692\", \"size\": [6300.0], \"sizemode\": \"area\", \"sizeref\": 65.625}, \"mode\": \"markers\", \"name\": \"University 77\", \"showlegend\": true, \"subplot\": \"mapbox\", \"type\": \"scattermapbox\"}, {\"hovertemplate\": \"Customers=University 78<br>Invoice Amount=%{marker.size}<br>Lat=%{lat}<br>Long=%{lon}<extra></extra>\", \"lat\": [36.045904], \"legendgroup\": \"University 78\", \"lon\": [-114.980388], \"marker\": {\"color\": \"#B6E880\", \"size\": [2560.0], \"sizemode\": \"area\", \"sizeref\": 65.625}, \"mode\": \"markers\", \"name\": \"University 78\", \"showlegend\": true, \"subplot\": \"mapbox\", \"type\": \"scattermapbox\"}, {\"hovertemplate\": \"Customers=University 79<br>Invoice Amount=%{marker.size}<br>Lat=%{lat}<br>Long=%{lon}<extra></extra>\", \"lat\": [31.735566500000004], \"legendgroup\": \"University 79\", \"lon\": [-80.575718], \"marker\": {\"color\": \"#FF97FF\", \"size\": [2200.0], \"sizemode\": \"area\", \"sizeref\": 65.625}, \"mode\": \"markers\", \"name\": \"University 79\", \"showlegend\": true, \"subplot\": \"mapbox\", \"type\": \"scattermapbox\"}, {\"hovertemplate\": \"Customers=University 8<br>Invoice Amount=%{marker.size}<br>Lat=%{lat}<br>Long=%{lon}<extra></extra>\", \"lat\": [37.47008000000001], \"legendgroup\": \"University 8\", \"lon\": [-80.1252785], \"marker\": {\"color\": \"#FECB52\", \"size\": [2600.0], \"sizemode\": \"area\", \"sizeref\": 65.625}, \"mode\": \"markers\", \"name\": \"University 8\", \"showlegend\": true, \"subplot\": \"mapbox\", \"type\": \"scattermapbox\"}, {\"hovertemplate\": \"Customers=University 80<br>Invoice Amount=%{marker.size}<br>Lat=%{lat}<br>Long=%{lon}<extra></extra>\", \"lat\": [34.226803], \"legendgroup\": \"University 80\", \"lon\": [-77.87667466666666], \"marker\": {\"color\": \"#636efa\", \"size\": [3806.0], \"sizemode\": \"area\", \"sizeref\": 65.625}, \"mode\": \"markers\", \"name\": \"University 80\", \"showlegend\": true, \"subplot\": \"mapbox\", \"type\": \"scattermapbox\"}, {\"hovertemplate\": \"Customers=University 81<br>Invoice Amount=%{marker.size}<br>Lat=%{lat}<br>Long=%{lon}<extra></extra>\", \"lat\": [33.606011], \"legendgroup\": \"University 81\", \"lon\": [-89.48590075000001], \"marker\": {\"color\": \"#EF553B\", \"size\": [1450.0], \"sizemode\": \"area\", \"sizeref\": 65.625}, \"mode\": \"markers\", \"name\": \"University 81\", \"showlegend\": true, \"subplot\": \"mapbox\", \"type\": \"scattermapbox\"}, {\"hovertemplate\": \"Customers=University 83<br>Invoice Amount=%{marker.size}<br>Lat=%{lat}<br>Long=%{lon}<extra></extra>\", \"lat\": [33.52991], \"legendgroup\": \"University 83\", \"lon\": [-117.18548], \"marker\": {\"color\": \"#00cc96\", \"size\": [2500.0], \"sizemode\": \"area\", \"sizeref\": 65.625}, \"mode\": \"markers\", \"name\": \"University 83\", \"showlegend\": true, \"subplot\": \"mapbox\", \"type\": \"scattermapbox\"}, {\"hovertemplate\": \"Customers=University 84<br>Invoice Amount=%{marker.size}<br>Lat=%{lat}<br>Long=%{lon}<extra></extra>\", \"lat\": [32.539067], \"legendgroup\": \"University 84\", \"lon\": [-92.071902], \"marker\": {\"color\": \"#ab63fa\", \"size\": [2000.0], \"sizemode\": \"area\", \"sizeref\": 65.625}, \"mode\": \"markers\", \"name\": \"University 84\", \"showlegend\": true, \"subplot\": \"mapbox\", \"type\": \"scattermapbox\"}, {\"hovertemplate\": \"Customers=University 85<br>Invoice Amount=%{marker.size}<br>Lat=%{lat}<br>Long=%{lon}<extra></extra>\", \"lat\": [33.703967], \"legendgroup\": \"University 85\", \"lon\": [-112.351835], \"marker\": {\"color\": \"#FFA15A\", \"size\": [12500.0], \"sizemode\": \"area\", \"sizeref\": 65.625}, \"mode\": \"markers\", \"name\": \"University 85\", \"showlegend\": true, \"subplot\": \"mapbox\", \"type\": \"scattermapbox\"}, {\"hovertemplate\": \"Customers=University 87<br>Invoice Amount=%{marker.size}<br>Lat=%{lat}<br>Long=%{lon}<extra></extra>\", \"lat\": [29.963254], \"legendgroup\": \"University 87\", \"lon\": [-90.210745], \"marker\": {\"color\": \"#19d3f3\", \"size\": [2000.0], \"sizemode\": \"area\", \"sizeref\": 65.625}, \"mode\": \"markers\", \"name\": \"University 87\", \"showlegend\": true, \"subplot\": \"mapbox\", \"type\": \"scattermapbox\"}, {\"hovertemplate\": \"Customers=University 88<br>Invoice Amount=%{marker.size}<br>Lat=%{lat}<br>Long=%{lon}<extra></extra>\", \"lat\": [35.691868], \"legendgroup\": \"University 88\", \"lon\": [-91.598917], \"marker\": {\"color\": \"#FF6692\", \"size\": [26250.0], \"sizemode\": \"area\", \"sizeref\": 65.625}, \"mode\": \"markers\", \"name\": \"University 88\", \"showlegend\": true, \"subplot\": \"mapbox\", \"type\": \"scattermapbox\"}, {\"hovertemplate\": \"Customers=University 9<br>Invoice Amount=%{marker.size}<br>Lat=%{lat}<br>Long=%{lon}<extra></extra>\", \"lat\": [32.28831733333333], \"legendgroup\": \"University 9\", \"lon\": [-83.163732], \"marker\": {\"color\": \"#B6E880\", \"size\": [1283.3333333333333], \"sizemode\": \"area\", \"sizeref\": 65.625}, \"mode\": \"markers\", \"name\": \"University 9\", \"showlegend\": true, \"subplot\": \"mapbox\", \"type\": \"scattermapbox\"}, {\"hovertemplate\": \"Customers=University 92<br>Invoice Amount=%{marker.size}<br>Lat=%{lat}<br>Long=%{lon}<extra></extra>\", \"lat\": [35.841039], \"legendgroup\": \"University 92\", \"lon\": [-90.675602], \"marker\": {\"color\": \"#FF97FF\", \"size\": [3500.0], \"sizemode\": \"area\", \"sizeref\": 65.625}, \"mode\": \"markers\", \"name\": \"University 92\", \"showlegend\": true, \"subplot\": \"mapbox\", \"type\": \"scattermapbox\"}, {\"hovertemplate\": \"Customers=University 93<br>Invoice Amount=%{marker.size}<br>Lat=%{lat}<br>Long=%{lon}<extra></extra>\", \"lat\": [45.408173], \"legendgroup\": \"University 93\", \"lon\": [-122.922323], \"marker\": {\"color\": \"#FECB52\", \"size\": [3500.0], \"sizemode\": \"area\", \"sizeref\": 65.625}, \"mode\": \"markers\", \"name\": \"University 93\", \"showlegend\": true, \"subplot\": \"mapbox\", \"type\": \"scattermapbox\"}, {\"hovertemplate\": \"Customers=University 94<br>Invoice Amount=%{marker.size}<br>Lat=%{lat}<br>Long=%{lon}<extra></extra>\", \"lat\": [36.30011], \"legendgroup\": \"University 94\", \"lon\": [-82.29403], \"marker\": {\"color\": \"#636efa\", \"size\": [1250.0], \"sizemode\": \"area\", \"sizeref\": 65.625}, \"mode\": \"markers\", \"name\": \"University 94\", \"showlegend\": true, \"subplot\": \"mapbox\", \"type\": \"scattermapbox\"}, {\"hovertemplate\": \"Customers=University 95<br>Invoice Amount=%{marker.size}<br>Lat=%{lat}<br>Long=%{lon}<extra></extra>\", \"lat\": [33.959580499999994], \"legendgroup\": \"University 95\", \"lon\": [-102.35074900000001], \"marker\": {\"color\": \"#EF553B\", \"size\": [333.3333333333333], \"sizemode\": \"area\", \"sizeref\": 65.625}, \"mode\": \"markers\", \"name\": \"University 95\", \"showlegend\": true, \"subplot\": \"mapbox\", \"type\": \"scattermapbox\"}, {\"hovertemplate\": \"Customers=University 96<br>Invoice Amount=%{marker.size}<br>Lat=%{lat}<br>Long=%{lon}<extra></extra>\", \"lat\": [45.507856], \"legendgroup\": \"University 96\", \"lon\": [-122.690794], \"marker\": {\"color\": \"#00cc96\", \"size\": [2750.0], \"sizemode\": \"area\", \"sizeref\": 65.625}, \"mode\": \"markers\", \"name\": \"University 96\", \"showlegend\": true, \"subplot\": \"mapbox\", \"type\": \"scattermapbox\"}, {\"hovertemplate\": \"Customers=University 97<br>Invoice Amount=%{marker.size}<br>Lat=%{lat}<br>Long=%{lon}<extra></extra>\", \"lat\": [27.926018], \"legendgroup\": \"University 97\", \"lon\": [-82.487126], \"marker\": {\"color\": \"#ab63fa\", \"size\": [2610.714285714286], \"sizemode\": \"area\", \"sizeref\": 65.625}, \"mode\": \"markers\", \"name\": \"University 97\", \"showlegend\": true, \"subplot\": \"mapbox\", \"type\": \"scattermapbox\"}],                        {\"legend\": {\"itemsizing\": \"constant\", \"title\": {\"text\": \"Customers\"}, \"tracegroupgap\": 0}, \"mapbox\": {\"accesstoken\": \"pk.eyJ1IjoibWlsYWRuYXphciIsImEiOiJja2doYmN1d2swNGtkMnNvMGRhb3RnbmZpIn0.h5puE2zZYJuUHFdI586CDg\", \"center\": {\"lat\": 35.435055293501634, \"lon\": -90.28948115147108}, \"domain\": {\"x\": [0.0, 1.0], \"y\": [0.0, 1.0]}, \"zoom\": 8}, \"margin\": {\"t\": 60}, \"template\": {\"data\": {\"bar\": [{\"error_x\": {\"color\": \"#2a3f5f\"}, \"error_y\": {\"color\": \"#2a3f5f\"}, \"marker\": {\"line\": {\"color\": \"#E5ECF6\", \"width\": 0.5}}, \"type\": \"bar\"}], \"barpolar\": [{\"marker\": {\"line\": {\"color\": \"#E5ECF6\", \"width\": 0.5}}, \"type\": \"barpolar\"}], \"carpet\": [{\"aaxis\": {\"endlinecolor\": \"#2a3f5f\", \"gridcolor\": \"white\", \"linecolor\": \"white\", \"minorgridcolor\": \"white\", \"startlinecolor\": \"#2a3f5f\"}, \"baxis\": {\"endlinecolor\": \"#2a3f5f\", \"gridcolor\": \"white\", \"linecolor\": \"white\", \"minorgridcolor\": \"white\", \"startlinecolor\": \"#2a3f5f\"}, \"type\": \"carpet\"}], \"choropleth\": [{\"colorbar\": {\"outlinewidth\": 0, \"ticks\": \"\"}, \"type\": \"choropleth\"}], \"contour\": [{\"colorbar\": {\"outlinewidth\": 0, \"ticks\": \"\"}, \"colorscale\": [[0.0, \"#0d0887\"], [0.1111111111111111, \"#46039f\"], [0.2222222222222222, \"#7201a8\"], [0.3333333333333333, \"#9c179e\"], [0.4444444444444444, \"#bd3786\"], [0.5555555555555556, \"#d8576b\"], [0.6666666666666666, \"#ed7953\"], [0.7777777777777778, \"#fb9f3a\"], [0.8888888888888888, \"#fdca26\"], [1.0, \"#f0f921\"]], \"type\": \"contour\"}], \"contourcarpet\": [{\"colorbar\": {\"outlinewidth\": 0, \"ticks\": \"\"}, \"type\": \"contourcarpet\"}], \"heatmap\": [{\"colorbar\": {\"outlinewidth\": 0, \"ticks\": \"\"}, \"colorscale\": [[0.0, \"#0d0887\"], [0.1111111111111111, \"#46039f\"], [0.2222222222222222, \"#7201a8\"], [0.3333333333333333, \"#9c179e\"], [0.4444444444444444, \"#bd3786\"], [0.5555555555555556, \"#d8576b\"], [0.6666666666666666, \"#ed7953\"], [0.7777777777777778, \"#fb9f3a\"], [0.8888888888888888, \"#fdca26\"], [1.0, \"#f0f921\"]], \"type\": \"heatmap\"}], \"heatmapgl\": [{\"colorbar\": {\"outlinewidth\": 0, \"ticks\": \"\"}, \"colorscale\": [[0.0, \"#0d0887\"], [0.1111111111111111, \"#46039f\"], [0.2222222222222222, \"#7201a8\"], [0.3333333333333333, \"#9c179e\"], [0.4444444444444444, \"#bd3786\"], [0.5555555555555556, \"#d8576b\"], [0.6666666666666666, \"#ed7953\"], [0.7777777777777778, \"#fb9f3a\"], [0.8888888888888888, \"#fdca26\"], [1.0, \"#f0f921\"]], \"type\": \"heatmapgl\"}], \"histogram\": [{\"marker\": {\"colorbar\": {\"outlinewidth\": 0, \"ticks\": \"\"}}, \"type\": \"histogram\"}], \"histogram2d\": [{\"colorbar\": {\"outlinewidth\": 0, \"ticks\": \"\"}, \"colorscale\": [[0.0, \"#0d0887\"], [0.1111111111111111, \"#46039f\"], [0.2222222222222222, \"#7201a8\"], [0.3333333333333333, \"#9c179e\"], [0.4444444444444444, \"#bd3786\"], [0.5555555555555556, \"#d8576b\"], [0.6666666666666666, \"#ed7953\"], [0.7777777777777778, \"#fb9f3a\"], [0.8888888888888888, \"#fdca26\"], [1.0, \"#f0f921\"]], \"type\": \"histogram2d\"}], \"histogram2dcontour\": [{\"colorbar\": {\"outlinewidth\": 0, \"ticks\": \"\"}, \"colorscale\": [[0.0, \"#0d0887\"], [0.1111111111111111, \"#46039f\"], [0.2222222222222222, \"#7201a8\"], [0.3333333333333333, \"#9c179e\"], [0.4444444444444444, \"#bd3786\"], [0.5555555555555556, \"#d8576b\"], [0.6666666666666666, \"#ed7953\"], [0.7777777777777778, \"#fb9f3a\"], [0.8888888888888888, \"#fdca26\"], [1.0, \"#f0f921\"]], \"type\": \"histogram2dcontour\"}], \"mesh3d\": [{\"colorbar\": {\"outlinewidth\": 0, \"ticks\": \"\"}, \"type\": \"mesh3d\"}], \"parcoords\": [{\"line\": {\"colorbar\": {\"outlinewidth\": 0, \"ticks\": \"\"}}, \"type\": \"parcoords\"}], \"pie\": [{\"automargin\": true, \"type\": \"pie\"}], \"scatter\": [{\"marker\": {\"colorbar\": {\"outlinewidth\": 0, \"ticks\": \"\"}}, \"type\": \"scatter\"}], \"scatter3d\": [{\"line\": {\"colorbar\": {\"outlinewidth\": 0, \"ticks\": \"\"}}, \"marker\": {\"colorbar\": {\"outlinewidth\": 0, \"ticks\": \"\"}}, \"type\": \"scatter3d\"}], \"scattercarpet\": [{\"marker\": {\"colorbar\": {\"outlinewidth\": 0, \"ticks\": \"\"}}, \"type\": \"scattercarpet\"}], \"scattergeo\": [{\"marker\": {\"colorbar\": {\"outlinewidth\": 0, \"ticks\": \"\"}}, \"type\": \"scattergeo\"}], \"scattergl\": [{\"marker\": {\"colorbar\": {\"outlinewidth\": 0, \"ticks\": \"\"}}, \"type\": \"scattergl\"}], \"scattermapbox\": [{\"marker\": {\"colorbar\": {\"outlinewidth\": 0, \"ticks\": \"\"}}, \"type\": \"scattermapbox\"}], \"scatterpolar\": [{\"marker\": {\"colorbar\": {\"outlinewidth\": 0, \"ticks\": \"\"}}, \"type\": \"scatterpolar\"}], \"scatterpolargl\": [{\"marker\": {\"colorbar\": {\"outlinewidth\": 0, \"ticks\": \"\"}}, \"type\": \"scatterpolargl\"}], \"scatterternary\": [{\"marker\": {\"colorbar\": {\"outlinewidth\": 0, \"ticks\": \"\"}}, \"type\": \"scatterternary\"}], \"surface\": [{\"colorbar\": {\"outlinewidth\": 0, \"ticks\": \"\"}, \"colorscale\": [[0.0, \"#0d0887\"], [0.1111111111111111, \"#46039f\"], [0.2222222222222222, \"#7201a8\"], [0.3333333333333333, \"#9c179e\"], [0.4444444444444444, \"#bd3786\"], [0.5555555555555556, \"#d8576b\"], [0.6666666666666666, \"#ed7953\"], [0.7777777777777778, \"#fb9f3a\"], [0.8888888888888888, \"#fdca26\"], [1.0, \"#f0f921\"]], \"type\": \"surface\"}], \"table\": [{\"cells\": {\"fill\": {\"color\": \"#EBF0F8\"}, \"line\": {\"color\": \"white\"}}, \"header\": {\"fill\": {\"color\": \"#C8D4E3\"}, \"line\": {\"color\": \"white\"}}, \"type\": \"table\"}]}, \"layout\": {\"annotationdefaults\": {\"arrowcolor\": \"#2a3f5f\", \"arrowhead\": 0, \"arrowwidth\": 1}, \"coloraxis\": {\"colorbar\": {\"outlinewidth\": 0, \"ticks\": \"\"}}, \"colorscale\": {\"diverging\": [[0, \"#8e0152\"], [0.1, \"#c51b7d\"], [0.2, \"#de77ae\"], [0.3, \"#f1b6da\"], [0.4, \"#fde0ef\"], [0.5, \"#f7f7f7\"], [0.6, \"#e6f5d0\"], [0.7, \"#b8e186\"], [0.8, \"#7fbc41\"], [0.9, \"#4d9221\"], [1, \"#276419\"]], \"sequential\": [[0.0, \"#0d0887\"], [0.1111111111111111, \"#46039f\"], [0.2222222222222222, \"#7201a8\"], [0.3333333333333333, \"#9c179e\"], [0.4444444444444444, \"#bd3786\"], [0.5555555555555556, \"#d8576b\"], [0.6666666666666666, \"#ed7953\"], [0.7777777777777778, \"#fb9f3a\"], [0.8888888888888888, \"#fdca26\"], [1.0, \"#f0f921\"]], \"sequentialminus\": [[0.0, \"#0d0887\"], [0.1111111111111111, \"#46039f\"], [0.2222222222222222, \"#7201a8\"], [0.3333333333333333, \"#9c179e\"], [0.4444444444444444, \"#bd3786\"], [0.5555555555555556, \"#d8576b\"], [0.6666666666666666, \"#ed7953\"], [0.7777777777777778, \"#fb9f3a\"], [0.8888888888888888, \"#fdca26\"], [1.0, \"#f0f921\"]]}, \"colorway\": [\"#636efa\", \"#EF553B\", \"#00cc96\", \"#ab63fa\", \"#FFA15A\", \"#19d3f3\", \"#FF6692\", \"#B6E880\", \"#FF97FF\", \"#FECB52\"], \"font\": {\"color\": \"#2a3f5f\"}, \"geo\": {\"bgcolor\": \"white\", \"lakecolor\": \"white\", \"landcolor\": \"#E5ECF6\", \"showlakes\": true, \"showland\": true, \"subunitcolor\": \"white\"}, \"hoverlabel\": {\"align\": \"left\"}, \"hovermode\": \"closest\", \"mapbox\": {\"style\": \"light\"}, \"paper_bgcolor\": \"white\", \"plot_bgcolor\": \"#E5ECF6\", \"polar\": {\"angularaxis\": {\"gridcolor\": \"white\", \"linecolor\": \"white\", \"ticks\": \"\"}, \"bgcolor\": \"#E5ECF6\", \"radialaxis\": {\"gridcolor\": \"white\", \"linecolor\": \"white\", \"ticks\": \"\"}}, \"scene\": {\"xaxis\": {\"backgroundcolor\": \"#E5ECF6\", \"gridcolor\": \"white\", \"gridwidth\": 2, \"linecolor\": \"white\", \"showbackground\": true, \"ticks\": \"\", \"zerolinecolor\": \"white\"}, \"yaxis\": {\"backgroundcolor\": \"#E5ECF6\", \"gridcolor\": \"white\", \"gridwidth\": 2, \"linecolor\": \"white\", \"showbackground\": true, \"ticks\": \"\", \"zerolinecolor\": \"white\"}, \"zaxis\": {\"backgroundcolor\": \"#E5ECF6\", \"gridcolor\": \"white\", \"gridwidth\": 2, \"linecolor\": \"white\", \"showbackground\": true, \"ticks\": \"\", \"zerolinecolor\": \"white\"}}, \"shapedefaults\": {\"line\": {\"color\": \"#2a3f5f\"}}, \"ternary\": {\"aaxis\": {\"gridcolor\": \"white\", \"linecolor\": \"white\", \"ticks\": \"\"}, \"baxis\": {\"gridcolor\": \"white\", \"linecolor\": \"white\", \"ticks\": \"\"}, \"bgcolor\": \"#E5ECF6\", \"caxis\": {\"gridcolor\": \"white\", \"linecolor\": \"white\", \"ticks\": \"\"}}, \"title\": {\"x\": 0.05}, \"xaxis\": {\"automargin\": true, \"gridcolor\": \"white\", \"linecolor\": \"white\", \"ticks\": \"\", \"title\": {\"standoff\": 15}, \"zerolinecolor\": \"white\", \"zerolinewidth\": 2}, \"yaxis\": {\"automargin\": true, \"gridcolor\": \"white\", \"linecolor\": \"white\", \"ticks\": \"\", \"title\": {\"standoff\": 15}, \"zerolinecolor\": \"white\", \"zerolinewidth\": 2}}}},                        {\"responsive\": true}                    ).then(function(){\n",
       "                            \n",
       "var gd = document.getElementById('f45b74b8-4a81-463c-ad84-7a2af414379c');\n",
       "var x = new MutationObserver(function (mutations, observer) {{\n",
       "        var display = window.getComputedStyle(gd).display;\n",
       "        if (!display || display === 'none') {{\n",
       "            console.log([gd, 'removed!']);\n",
       "            Plotly.purge(gd);\n",
       "            observer.disconnect();\n",
       "        }}\n",
       "}});\n",
       "\n",
       "// Listen for the removal of the full notebook cells\n",
       "var notebookContainer = gd.closest('#notebook-container');\n",
       "if (notebookContainer) {{\n",
       "    x.observe(notebookContainer, {childList: true});\n",
       "}}\n",
       "\n",
       "// Listen for the clearing of the current output cell\n",
       "var outputEl = gd.closest('.output');\n",
       "if (outputEl) {{\n",
       "    x.observe(outputEl, {childList: true});\n",
       "}}\n",
       "\n",
       "                        })                };                });            </script>        </div>"
      ]
     },
     "metadata": {},
     "output_type": "display_data"
    }
   ],
   "source": [
    "px.set_mapbox_access_token(mapbox_token)\n",
    "map = px.scatter_mapbox(\n",
    "    mean_data,\n",
    "    lat=\"Lat\",\n",
    "    lon=\"Long\",\n",
    "    size=\"Invoice Amount\",\n",
    "    color=\"Customers\"\n",
    ")\n",
    "map.show()"
   ]
  },
  {
   "cell_type": "code",
   "execution_count": 14,
   "metadata": {},
   "outputs": [
    {
     "ename": "ValueError",
     "evalue": "Value of 'size' is not the name of a column in 'data_frame'. Expected one of ['Customers', 'Number of Users', 'Invoice Amount', 'Lat', 'Long'] but received: Subscription",
     "output_type": "error",
     "traceback": [
      "\u001b[0;31m---------------------------------------------------------------------------\u001b[0m",
      "\u001b[0;31mValueError\u001b[0m                                Traceback (most recent call last)",
      "\u001b[0;32m<ipython-input-14-a42069c45ebe>\u001b[0m in \u001b[0;36m<module>\u001b[0;34m\u001b[0m\n\u001b[1;32m     12\u001b[0m         )\n\u001b[1;32m     13\u001b[0m     \u001b[0;32mreturn\u001b[0m \u001b[0mneighborhood_map_plot\u001b[0m\u001b[0;34m\u001b[0m\u001b[0;34m\u001b[0m\u001b[0m\n\u001b[0;32m---> 14\u001b[0;31m \u001b[0mneighborhood_map\u001b[0m\u001b[0;34m(\u001b[0m\u001b[0;34m)\u001b[0m\u001b[0;34m\u001b[0m\u001b[0;34m\u001b[0m\u001b[0m\n\u001b[0m",
      "\u001b[0;32m<ipython-input-14-a42069c45ebe>\u001b[0m in \u001b[0;36mneighborhood_map\u001b[0;34m()\u001b[0m\n\u001b[1;32m      4\u001b[0m     \u001b[0mmean_data\u001b[0m\u001b[0;34m.\u001b[0m\u001b[0mreset_index\u001b[0m\u001b[0;34m(\u001b[0m\u001b[0minplace\u001b[0m\u001b[0;34m=\u001b[0m\u001b[0;32mTrue\u001b[0m\u001b[0;34m)\u001b[0m\u001b[0;34m\u001b[0m\u001b[0;34m\u001b[0m\u001b[0m\n\u001b[1;32m      5\u001b[0m     \u001b[0mpx\u001b[0m\u001b[0;34m.\u001b[0m\u001b[0mset_mapbox_access_token\u001b[0m\u001b[0;34m(\u001b[0m\u001b[0mmapbox_token\u001b[0m\u001b[0;34m)\u001b[0m\u001b[0;34m\u001b[0m\u001b[0;34m\u001b[0m\u001b[0m\n\u001b[0;32m----> 6\u001b[0;31m     neighborhood_map_plot = px.scatter_mapbox(\n\u001b[0m\u001b[1;32m      7\u001b[0m             \u001b[0mmean_data\u001b[0m\u001b[0;34m,\u001b[0m\u001b[0;34m\u001b[0m\u001b[0;34m\u001b[0m\u001b[0m\n\u001b[1;32m      8\u001b[0m             \u001b[0mlat\u001b[0m\u001b[0;34m=\u001b[0m\u001b[0;34m\"Lat\"\u001b[0m\u001b[0;34m,\u001b[0m\u001b[0;34m\u001b[0m\u001b[0;34m\u001b[0m\u001b[0m\n",
      "\u001b[0;32m~/.conda/envs/pyvizenv/lib/python3.8/site-packages/plotly/express/_chart_types.py\u001b[0m in \u001b[0;36mscatter_mapbox\u001b[0;34m(data_frame, lat, lon, color, text, hover_name, hover_data, custom_data, size, animation_frame, animation_group, category_orders, labels, color_discrete_sequence, color_discrete_map, color_continuous_scale, range_color, color_continuous_midpoint, opacity, size_max, zoom, center, mapbox_style, title, template, width, height)\u001b[0m\n\u001b[1;32m   1102\u001b[0m     \u001b[0msymbol\u001b[0m \u001b[0mmark\u001b[0m \u001b[0mon\u001b[0m \u001b[0ma\u001b[0m \u001b[0mMapbox\u001b[0m \u001b[0mmap\u001b[0m\u001b[0;34m.\u001b[0m\u001b[0;34m\u001b[0m\u001b[0;34m\u001b[0m\u001b[0m\n\u001b[1;32m   1103\u001b[0m     \"\"\"\n\u001b[0;32m-> 1104\u001b[0;31m     \u001b[0;32mreturn\u001b[0m \u001b[0mmake_figure\u001b[0m\u001b[0;34m(\u001b[0m\u001b[0margs\u001b[0m\u001b[0;34m=\u001b[0m\u001b[0mlocals\u001b[0m\u001b[0;34m(\u001b[0m\u001b[0;34m)\u001b[0m\u001b[0;34m,\u001b[0m \u001b[0mconstructor\u001b[0m\u001b[0;34m=\u001b[0m\u001b[0mgo\u001b[0m\u001b[0;34m.\u001b[0m\u001b[0mScattermapbox\u001b[0m\u001b[0;34m)\u001b[0m\u001b[0;34m\u001b[0m\u001b[0;34m\u001b[0m\u001b[0m\n\u001b[0m\u001b[1;32m   1105\u001b[0m \u001b[0;34m\u001b[0m\u001b[0m\n\u001b[1;32m   1106\u001b[0m \u001b[0;34m\u001b[0m\u001b[0m\n",
      "\u001b[0;32m~/.conda/envs/pyvizenv/lib/python3.8/site-packages/plotly/express/_core.py\u001b[0m in \u001b[0;36mmake_figure\u001b[0;34m(args, constructor, trace_patch, layout_patch)\u001b[0m\n\u001b[1;32m   1824\u001b[0m     \u001b[0mapply_default_cascade\u001b[0m\u001b[0;34m(\u001b[0m\u001b[0margs\u001b[0m\u001b[0;34m)\u001b[0m\u001b[0;34m\u001b[0m\u001b[0;34m\u001b[0m\u001b[0m\n\u001b[1;32m   1825\u001b[0m \u001b[0;34m\u001b[0m\u001b[0m\n\u001b[0;32m-> 1826\u001b[0;31m     \u001b[0margs\u001b[0m \u001b[0;34m=\u001b[0m \u001b[0mbuild_dataframe\u001b[0m\u001b[0;34m(\u001b[0m\u001b[0margs\u001b[0m\u001b[0;34m,\u001b[0m \u001b[0mconstructor\u001b[0m\u001b[0;34m)\u001b[0m\u001b[0;34m\u001b[0m\u001b[0;34m\u001b[0m\u001b[0m\n\u001b[0m\u001b[1;32m   1827\u001b[0m     \u001b[0;32mif\u001b[0m \u001b[0mconstructor\u001b[0m \u001b[0;32min\u001b[0m \u001b[0;34m[\u001b[0m\u001b[0mgo\u001b[0m\u001b[0;34m.\u001b[0m\u001b[0mTreemap\u001b[0m\u001b[0;34m,\u001b[0m \u001b[0mgo\u001b[0m\u001b[0;34m.\u001b[0m\u001b[0mSunburst\u001b[0m\u001b[0;34m]\u001b[0m \u001b[0;32mand\u001b[0m \u001b[0margs\u001b[0m\u001b[0;34m[\u001b[0m\u001b[0;34m\"path\"\u001b[0m\u001b[0;34m]\u001b[0m \u001b[0;32mis\u001b[0m \u001b[0;32mnot\u001b[0m \u001b[0;32mNone\u001b[0m\u001b[0;34m:\u001b[0m\u001b[0;34m\u001b[0m\u001b[0;34m\u001b[0m\u001b[0m\n\u001b[1;32m   1828\u001b[0m         \u001b[0margs\u001b[0m \u001b[0;34m=\u001b[0m \u001b[0mprocess_dataframe_hierarchy\u001b[0m\u001b[0;34m(\u001b[0m\u001b[0margs\u001b[0m\u001b[0;34m)\u001b[0m\u001b[0;34m\u001b[0m\u001b[0;34m\u001b[0m\u001b[0m\n",
      "\u001b[0;32m~/.conda/envs/pyvizenv/lib/python3.8/site-packages/plotly/express/_core.py\u001b[0m in \u001b[0;36mbuild_dataframe\u001b[0;34m(args, constructor)\u001b[0m\n\u001b[1;32m   1356\u001b[0m     \u001b[0;31m# now that things have been prepped, we do the systematic rewriting of `args`\u001b[0m\u001b[0;34m\u001b[0m\u001b[0;34m\u001b[0m\u001b[0;34m\u001b[0m\u001b[0m\n\u001b[1;32m   1357\u001b[0m \u001b[0;34m\u001b[0m\u001b[0m\n\u001b[0;32m-> 1358\u001b[0;31m     df_output, wide_id_vars = process_args_into_dataframe(\n\u001b[0m\u001b[1;32m   1359\u001b[0m         \u001b[0margs\u001b[0m\u001b[0;34m,\u001b[0m \u001b[0mwide_mode\u001b[0m\u001b[0;34m,\u001b[0m \u001b[0mvar_name\u001b[0m\u001b[0;34m,\u001b[0m \u001b[0mvalue_name\u001b[0m\u001b[0;34m\u001b[0m\u001b[0;34m\u001b[0m\u001b[0m\n\u001b[1;32m   1360\u001b[0m     )\n",
      "\u001b[0;32m~/.conda/envs/pyvizenv/lib/python3.8/site-packages/plotly/express/_core.py\u001b[0m in \u001b[0;36mprocess_args_into_dataframe\u001b[0;34m(args, wide_mode, var_name, value_name)\u001b[0m\n\u001b[1;32m   1162\u001b[0m                         \u001b[0;32mif\u001b[0m \u001b[0margument\u001b[0m \u001b[0;34m==\u001b[0m \u001b[0;34m\"index\"\u001b[0m\u001b[0;34m:\u001b[0m\u001b[0;34m\u001b[0m\u001b[0;34m\u001b[0m\u001b[0m\n\u001b[1;32m   1163\u001b[0m                             \u001b[0merr_msg\u001b[0m \u001b[0;34m+=\u001b[0m \u001b[0;34m\"\\n To use the index, pass it in directly as `df.index`.\"\u001b[0m\u001b[0;34m\u001b[0m\u001b[0;34m\u001b[0m\u001b[0m\n\u001b[0;32m-> 1164\u001b[0;31m                         \u001b[0;32mraise\u001b[0m \u001b[0mValueError\u001b[0m\u001b[0;34m(\u001b[0m\u001b[0merr_msg\u001b[0m\u001b[0;34m)\u001b[0m\u001b[0;34m\u001b[0m\u001b[0;34m\u001b[0m\u001b[0m\n\u001b[0m\u001b[1;32m   1165\u001b[0m                 \u001b[0;32melif\u001b[0m \u001b[0mlength\u001b[0m \u001b[0;32mand\u001b[0m \u001b[0mlen\u001b[0m\u001b[0;34m(\u001b[0m\u001b[0mdf_input\u001b[0m\u001b[0;34m[\u001b[0m\u001b[0margument\u001b[0m\u001b[0;34m]\u001b[0m\u001b[0;34m)\u001b[0m \u001b[0;34m!=\u001b[0m \u001b[0mlength\u001b[0m\u001b[0;34m:\u001b[0m\u001b[0;34m\u001b[0m\u001b[0;34m\u001b[0m\u001b[0m\n\u001b[1;32m   1166\u001b[0m                     raise ValueError(\n",
      "\u001b[0;31mValueError\u001b[0m: Value of 'size' is not the name of a column in 'data_frame'. Expected one of ['Customers', 'Number of Users', 'Invoice Amount', 'Lat', 'Long'] but received: Subscription"
     ]
    }
   ],
   "source": [
    "def neighborhood_map():\n",
    "    \"\"\"Neighborhood Map\"\"\"\n",
    "     = atlas2.groupby([\"Customers\"]).mean()\n",
    "    mean_data.reset_index(inplace=True)\n",
    "    px.set_mapbox_access_token(mapbox_token)\n",
    "    neighborhood_map_plot = px.scatter_mapbox(\n",
    "            mean_data,\n",
    "            lat=\"Lat\",\n",
    "            lon=\"Long\",\n",
    "            size=\"Subscription\",\n",
    "            color=\"Customer\"\n",
    "        )\n",
    "    return neighborhood_map_plot\n",
    "neighborhood_map()"
   ]
  },
  {
   "cell_type": "code",
   "execution_count": null,
   "metadata": {},
   "outputs": [],
   "source": []
  }
 ],
 "metadata": {
  "kernelspec": {
   "display_name": "Python [conda env:.conda-pyvizenv]",
   "language": "python",
   "name": "conda-env-.conda-pyvizenv-py"
  },
  "language_info": {
   "codemirror_mode": {
    "name": "ipython",
    "version": 3
   },
   "file_extension": ".py",
   "mimetype": "text/x-python",
   "name": "python",
   "nbconvert_exporter": "python",
   "pygments_lexer": "ipython3",
   "version": "3.8.3"
  }
 },
 "nbformat": 4,
 "nbformat_minor": 4
}
