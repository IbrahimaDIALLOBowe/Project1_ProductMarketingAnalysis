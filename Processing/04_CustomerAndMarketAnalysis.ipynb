{
 "cells": [
  {
   "cell_type": "code",
   "execution_count": 6,
   "metadata": {},
   "outputs": [],
   "source": [
    "# System imports\n",
    "import os\n",
    "import pandas as pd\n",
    "import matplotlib.pyplot as plt\n",
    "import plotly.express as px\n",
    "import hvplot.pandas\n",
    "import panel as pn\n",
    "from pathlib import Path\n",
    "from dotenv import load_dotenv\n",
    "from panel.interact import interact\n",
    "from panel import widgets\n",
    "from string import digits\n",
    "import csv\n",
    "import json\n",
    "import numpy as np\n",
    "import dateparser\n",
    "import panel as pn\n",
    "\n",
    "pn.extension()\n",
    "\n",
    "%matplotlib inline"
   ]
  },
  {
   "cell_type": "code",
   "execution_count": 7,
   "metadata": {},
   "outputs": [],
   "source": [
    "# Local imports\n",
    "import sys\n",
    "sys.path.append(\"../lib2\")\n",
    "\n",
    "from Constants import Constants\n",
    "from ProcessingTools import DateProcessingTools"
   ]
  },
  {
   "cell_type": "code",
   "execution_count": 8,
   "metadata": {},
   "outputs": [],
   "source": [
    "# Construct the tools\n",
    "debug_level = 0\n",
    "constants = Constants()\n",
    "tool_data_processing = DateProcessingTools(debug_level)\n"
   ]
  },
  {
   "cell_type": "code",
   "execution_count": 9,
   "metadata": {},
   "outputs": [],
   "source": [
    "# Import all preprocessed data\n",
    "atlas           = pd.read_pickle(constants.PREPROCESSED_ATLAS_FILE_PATH)\n",
    "forecast        = pd.read_pickle(constants.PREPROCESSED_FORECAST_DATA_FILE_PATH)\n",
    "revenue2020     = pd.read_pickle(constants.PREPROCESSED_REVENUE2020_FILE_PATH)\n",
    "revenue2020A    = pd.read_pickle(constants.PREPROCESSED_REVENUE2020A_FILE_PATH)\n",
    "atlas2          = pd.read_pickle(constants.PREPROCESSED_ATLAS_2_FILE_PATH)\n"
   ]
  },
  {
   "cell_type": "code",
   "execution_count": 15,
   "metadata": {},
   "outputs": [],
   "source": [
    "load_dotenv()\n",
    "mapbox_token = os.getenv(\"MAPBOX_API_KEY\")"
   ]
  },
  {
   "cell_type": "code",
   "execution_count": 16,
   "metadata": {},
   "outputs": [
    {
     "data": {
      "text/html": [
       "<div>\n",
       "<style scoped>\n",
       "    .dataframe tbody tr th:only-of-type {\n",
       "        vertical-align: middle;\n",
       "    }\n",
       "\n",
       "    .dataframe tbody tr th {\n",
       "        vertical-align: top;\n",
       "    }\n",
       "\n",
       "    .dataframe thead th {\n",
       "        text-align: right;\n",
       "    }\n",
       "</style>\n",
       "<table border=\"1\" class=\"dataframe\">\n",
       "  <thead>\n",
       "    <tr style=\"text-align: right;\">\n",
       "      <th></th>\n",
       "      <th>Number of Users</th>\n",
       "      <th>Invoice Date</th>\n",
       "      <th>Invoice #</th>\n",
       "      <th>Invoice Amount</th>\n",
       "      <th>Subscription</th>\n",
       "      <th>Account Code</th>\n",
       "      <th>Address</th>\n",
       "      <th>Lat</th>\n",
       "      <th>Long</th>\n",
       "      <th>Service Start</th>\n",
       "      <th>Service End</th>\n",
       "      <th>Subscription Duration</th>\n",
       "    </tr>\n",
       "    <tr>\n",
       "      <th>Customers</th>\n",
       "      <th></th>\n",
       "      <th></th>\n",
       "      <th></th>\n",
       "      <th></th>\n",
       "      <th></th>\n",
       "      <th></th>\n",
       "      <th></th>\n",
       "      <th></th>\n",
       "      <th></th>\n",
       "      <th></th>\n",
       "      <th></th>\n",
       "      <th></th>\n",
       "    </tr>\n",
       "  </thead>\n",
       "  <tbody>\n",
       "    <tr>\n",
       "      <th>University 1</th>\n",
       "      <td>NaN</td>\n",
       "      <td>2015-03-20 00:00:00-04:00</td>\n",
       "      <td>ATLAS 315</td>\n",
       "      <td>72000.0</td>\n",
       "      <td>1 Year</td>\n",
       "      <td>4700-0-00-00000-18-0000</td>\n",
       "      <td>1201 N 3rd St #6, Baton Rouge, LA 70802</td>\n",
       "      <td>30.460190</td>\n",
       "      <td>-91.188530</td>\n",
       "      <td>2015-03-18 00:00:00-04:00</td>\n",
       "      <td>2016-06-30 00:00:00-04:00</td>\n",
       "      <td>365 days</td>\n",
       "    </tr>\n",
       "    <tr>\n",
       "      <th>University 2</th>\n",
       "      <td>250.0</td>\n",
       "      <td>2015-05-28 00:00:00-04:00</td>\n",
       "      <td>AJ501</td>\n",
       "      <td>3500.0</td>\n",
       "      <td>1 Year</td>\n",
       "      <td>4700-0-00-00000-16-0000</td>\n",
       "      <td>1 Kellogg Cir, Emporia, KS 66801</td>\n",
       "      <td>38.392609</td>\n",
       "      <td>-96.181396</td>\n",
       "      <td>2015-06-01 00:00:00-04:00</td>\n",
       "      <td>2016-06-30 00:00:00-04:00</td>\n",
       "      <td>365 days</td>\n",
       "    </tr>\n",
       "    <tr>\n",
       "      <th>University 3</th>\n",
       "      <td>100.0</td>\n",
       "      <td>2015-06-23 00:00:00-04:00</td>\n",
       "      <td>AJ502</td>\n",
       "      <td>3500.0</td>\n",
       "      <td>1 Year</td>\n",
       "      <td>4700-0-00-00000-17-0000</td>\n",
       "      <td>150 University Blvd, Morehead, KY 40351</td>\n",
       "      <td>38.184921</td>\n",
       "      <td>-83.434441</td>\n",
       "      <td>2015-06-10 00:00:00-04:00</td>\n",
       "      <td>2016-06-30 00:00:00-04:00</td>\n",
       "      <td>365 days</td>\n",
       "    </tr>\n",
       "    <tr>\n",
       "      <th>University 4</th>\n",
       "      <td>NaN</td>\n",
       "      <td>2015-06-26 00:00:00-04:00</td>\n",
       "      <td>AJ503</td>\n",
       "      <td>6500.0</td>\n",
       "      <td>1 Year</td>\n",
       "      <td>4700-0-00-00000-32-0000</td>\n",
       "      <td>44 Pierrepont Ave, Potsdam, NY 13676</td>\n",
       "      <td>44.663780</td>\n",
       "      <td>-74.978409</td>\n",
       "      <td>2015-06-01 00:00:00-04:00</td>\n",
       "      <td>2016-06-30 00:00:00-04:00</td>\n",
       "      <td>365 days</td>\n",
       "    </tr>\n",
       "    <tr>\n",
       "      <th>University 5</th>\n",
       "      <td>NaN</td>\n",
       "      <td>2015-10-07 00:00:00-04:00</td>\n",
       "      <td>AJ504</td>\n",
       "      <td>750.0</td>\n",
       "      <td>1 Year</td>\n",
       "      <td>4700-0-00-00000-20-0000</td>\n",
       "      <td>47645 College Dr, St Marys City, MD 20686</td>\n",
       "      <td>38.190601</td>\n",
       "      <td>-76.426300</td>\n",
       "      <td>2015-10-05 00:00:00-04:00</td>\n",
       "      <td>2016-09-30 00:00:00-04:00</td>\n",
       "      <td>365 days</td>\n",
       "    </tr>\n",
       "  </tbody>\n",
       "</table>\n",
       "</div>"
      ],
      "text/plain": [
       "              Number of Users              Invoice Date  Invoice #  \\\n",
       "Customers                                                            \n",
       "University 1              NaN 2015-03-20 00:00:00-04:00  ATLAS 315   \n",
       "University 2            250.0 2015-05-28 00:00:00-04:00      AJ501   \n",
       "University 3            100.0 2015-06-23 00:00:00-04:00      AJ502   \n",
       "University 4              NaN 2015-06-26 00:00:00-04:00      AJ503   \n",
       "University 5              NaN 2015-10-07 00:00:00-04:00      AJ504   \n",
       "\n",
       "              Invoice Amount Subscription            Account Code   \\\n",
       "Customers                                                            \n",
       "University 1         72000.0       1 Year  4700-0-00-00000-18-0000   \n",
       "University 2          3500.0       1 Year  4700-0-00-00000-16-0000   \n",
       "University 3          3500.0       1 Year  4700-0-00-00000-17-0000   \n",
       "University 4          6500.0       1 Year  4700-0-00-00000-32-0000   \n",
       "University 5           750.0       1 Year  4700-0-00-00000-20-0000   \n",
       "\n",
       "                                                Address        Lat       Long  \\\n",
       "Customers                                                                       \n",
       "University 1    1201 N 3rd St #6, Baton Rouge, LA 70802  30.460190 -91.188530   \n",
       "University 2           1 Kellogg Cir, Emporia, KS 66801  38.392609 -96.181396   \n",
       "University 3    150 University Blvd, Morehead, KY 40351  38.184921 -83.434441   \n",
       "University 4       44 Pierrepont Ave, Potsdam, NY 13676  44.663780 -74.978409   \n",
       "University 5  47645 College Dr, St Marys City, MD 20686  38.190601 -76.426300   \n",
       "\n",
       "                         Service Start               Service End  \\\n",
       "Customers                                                          \n",
       "University 1 2015-03-18 00:00:00-04:00 2016-06-30 00:00:00-04:00   \n",
       "University 2 2015-06-01 00:00:00-04:00 2016-06-30 00:00:00-04:00   \n",
       "University 3 2015-06-10 00:00:00-04:00 2016-06-30 00:00:00-04:00   \n",
       "University 4 2015-06-01 00:00:00-04:00 2016-06-30 00:00:00-04:00   \n",
       "University 5 2015-10-05 00:00:00-04:00 2016-09-30 00:00:00-04:00   \n",
       "\n",
       "             Subscription Duration  \n",
       "Customers                           \n",
       "University 1              365 days  \n",
       "University 2              365 days  \n",
       "University 3              365 days  \n",
       "University 4              365 days  \n",
       "University 5              365 days  "
      ]
     },
     "execution_count": 16,
     "metadata": {},
     "output_type": "execute_result"
    }
   ],
   "source": [
    "atlas2.head()"
   ]
  },
  {
   "cell_type": "code",
   "execution_count": 66,
   "metadata": {},
   "outputs": [
    {
     "data": {
      "text/html": [
       "<div>\n",
       "<style scoped>\n",
       "    .dataframe tbody tr th:only-of-type {\n",
       "        vertical-align: middle;\n",
       "    }\n",
       "\n",
       "    .dataframe tbody tr th {\n",
       "        vertical-align: top;\n",
       "    }\n",
       "\n",
       "    .dataframe thead th {\n",
       "        text-align: right;\n",
       "    }\n",
       "</style>\n",
       "<table border=\"1\" class=\"dataframe\">\n",
       "  <thead>\n",
       "    <tr style=\"text-align: right;\">\n",
       "      <th></th>\n",
       "      <th>Customers</th>\n",
       "      <th>Number of Users</th>\n",
       "      <th>Invoice Amount</th>\n",
       "      <th>Lat</th>\n",
       "      <th>Long</th>\n",
       "    </tr>\n",
       "  </thead>\n",
       "  <tbody>\n",
       "    <tr>\n",
       "      <th>0</th>\n",
       "      <td>University 1</td>\n",
       "      <td>0.0</td>\n",
       "      <td>139000.00</td>\n",
       "      <td>60.920165</td>\n",
       "      <td>-182.377131</td>\n",
       "    </tr>\n",
       "    <tr>\n",
       "      <th>1</th>\n",
       "      <td>University 10</td>\n",
       "      <td>350.0</td>\n",
       "      <td>11200.01</td>\n",
       "      <td>119.196630</td>\n",
       "      <td>-270.740841</td>\n",
       "    </tr>\n",
       "    <tr>\n",
       "      <th>2</th>\n",
       "      <td>University 100</td>\n",
       "      <td>0.0</td>\n",
       "      <td>5460.00</td>\n",
       "      <td>28.062000</td>\n",
       "      <td>-82.413225</td>\n",
       "    </tr>\n",
       "    <tr>\n",
       "      <th>3</th>\n",
       "      <td>University 101</td>\n",
       "      <td>0.0</td>\n",
       "      <td>750.00</td>\n",
       "      <td>48.630369</td>\n",
       "      <td>-97.471056</td>\n",
       "    </tr>\n",
       "    <tr>\n",
       "      <th>4</th>\n",
       "      <td>University 102</td>\n",
       "      <td>1050.0</td>\n",
       "      <td>14500.00</td>\n",
       "      <td>0.000000</td>\n",
       "      <td>0.000000</td>\n",
       "    </tr>\n",
       "    <tr>\n",
       "      <th>...</th>\n",
       "      <td>...</td>\n",
       "      <td>...</td>\n",
       "      <td>...</td>\n",
       "      <td>...</td>\n",
       "      <td>...</td>\n",
       "    </tr>\n",
       "    <tr>\n",
       "      <th>420</th>\n",
       "      <td>University 95</td>\n",
       "      <td>35.0</td>\n",
       "      <td>1000.00</td>\n",
       "      <td>67.919161</td>\n",
       "      <td>-204.701498</td>\n",
       "    </tr>\n",
       "    <tr>\n",
       "      <th>421</th>\n",
       "      <td>University 96</td>\n",
       "      <td>25.0</td>\n",
       "      <td>2750.00</td>\n",
       "      <td>45.507856</td>\n",
       "      <td>-122.690794</td>\n",
       "    </tr>\n",
       "    <tr>\n",
       "      <th>422</th>\n",
       "      <td>University 97</td>\n",
       "      <td>2050.0</td>\n",
       "      <td>18275.00</td>\n",
       "      <td>195.482126</td>\n",
       "      <td>-577.409882</td>\n",
       "    </tr>\n",
       "    <tr>\n",
       "      <th>423</th>\n",
       "      <td>University 98</td>\n",
       "      <td>1000.0</td>\n",
       "      <td>14000.00</td>\n",
       "      <td>0.000000</td>\n",
       "      <td>0.000000</td>\n",
       "    </tr>\n",
       "    <tr>\n",
       "      <th>424</th>\n",
       "      <td>University 99</td>\n",
       "      <td>0.0</td>\n",
       "      <td>100000.00</td>\n",
       "      <td>0.000000</td>\n",
       "      <td>0.000000</td>\n",
       "    </tr>\n",
       "  </tbody>\n",
       "</table>\n",
       "<p>425 rows × 5 columns</p>\n",
       "</div>"
      ],
      "text/plain": [
       "          Customers  Number of Users  Invoice Amount         Lat        Long\n",
       "0      University 1              0.0       139000.00   60.920165 -182.377131\n",
       "1     University 10            350.0        11200.01  119.196630 -270.740841\n",
       "2    University 100              0.0         5460.00   28.062000  -82.413225\n",
       "3    University 101              0.0          750.00   48.630369  -97.471056\n",
       "4    University 102           1050.0        14500.00    0.000000    0.000000\n",
       "..              ...              ...             ...         ...         ...\n",
       "420   University 95             35.0         1000.00   67.919161 -204.701498\n",
       "421   University 96             25.0         2750.00   45.507856 -122.690794\n",
       "422   University 97           2050.0        18275.00  195.482126 -577.409882\n",
       "423   University 98           1000.0        14000.00    0.000000    0.000000\n",
       "424   University 99              0.0       100000.00    0.000000    0.000000\n",
       "\n",
       "[425 rows x 5 columns]"
      ]
     },
     "execution_count": 66,
     "metadata": {},
     "output_type": "execute_result"
    }
   ],
   "source": [
    "# Calculate the mean values for each neighborhood\n",
    "#rankings_pd.rename(columns = {'test':'TEST', 'odi':'ODI', \n",
    "#                              't20':'T20'}, inplace = True) \n",
    "\n",
    "#atlas2.columns = [\"Customers\", \"Lat\", \"Long\"]\n",
    "\n",
    "total_data = atlas2.groupby([\"Customers\"]).sum()\n",
    "total_data.reset_index(inplace=True)\n",
    "total_data.dropna(inplace=True)\n",
    "total_data\n"
   ]
  },
  {
   "cell_type": "code",
   "execution_count": 67,
   "metadata": {},
   "outputs": [
    {
     "data": {
      "application/vnd.plotly.v1+json": {
       "config": {
        "plotlyServerURL": "https://plot.ly"
       },
       "data": [
        {
         "hovertemplate": "Customers=University 1<br>Invoice Amount=%{marker.size}<br>Lat=%{lat}<br>Long=%{lon}<extra></extra>",
         "lat": [
          60.920165
         ],
         "legendgroup": "University 1",
         "lon": [
          -182.37713100000002
         ],
         "marker": {
          "color": "#636efa",
          "size": [
           139000
          ],
          "sizemode": "area",
          "sizeref": 347.5
         },
         "mode": "markers",
         "name": "University 1",
         "showlegend": true,
         "subplot": "mapbox",
         "type": "scattermapbox"
        },
        {
         "hovertemplate": "Customers=University 10<br>Invoice Amount=%{marker.size}<br>Lat=%{lat}<br>Long=%{lon}<extra></extra>",
         "lat": [
          119.19663
         ],
         "legendgroup": "University 10",
         "lon": [
          -270.74084100000005
         ],
         "marker": {
          "color": "#EF553B",
          "size": [
           11200.01
          ],
          "sizemode": "area",
          "sizeref": 347.5
         },
         "mode": "markers",
         "name": "University 10",
         "showlegend": true,
         "subplot": "mapbox",
         "type": "scattermapbox"
        },
        {
         "hovertemplate": "Customers=University 100<br>Invoice Amount=%{marker.size}<br>Lat=%{lat}<br>Long=%{lon}<extra></extra>",
         "lat": [
          28.062
         ],
         "legendgroup": "University 100",
         "lon": [
          -82.413225
         ],
         "marker": {
          "color": "#00cc96",
          "size": [
           5460
          ],
          "sizemode": "area",
          "sizeref": 347.5
         },
         "mode": "markers",
         "name": "University 100",
         "showlegend": true,
         "subplot": "mapbox",
         "type": "scattermapbox"
        },
        {
         "hovertemplate": "Customers=University 101<br>Invoice Amount=%{marker.size}<br>Lat=%{lat}<br>Long=%{lon}<extra></extra>",
         "lat": [
          48.630369
         ],
         "legendgroup": "University 101",
         "lon": [
          -97.471056
         ],
         "marker": {
          "color": "#ab63fa",
          "size": [
           750
          ],
          "sizemode": "area",
          "sizeref": 347.5
         },
         "mode": "markers",
         "name": "University 101",
         "showlegend": true,
         "subplot": "mapbox",
         "type": "scattermapbox"
        },
        {
         "hovertemplate": "Customers=University 102<br>Invoice Amount=%{marker.size}<br>Lat=%{lat}<br>Long=%{lon}<extra></extra>",
         "lat": [
          0
         ],
         "legendgroup": "University 102",
         "lon": [
          0
         ],
         "marker": {
          "color": "#FFA15A",
          "size": [
           14500
          ],
          "sizemode": "area",
          "sizeref": 347.5
         },
         "mode": "markers",
         "name": "University 102",
         "showlegend": true,
         "subplot": "mapbox",
         "type": "scattermapbox"
        },
        {
         "hovertemplate": "Customers=University 103<br>Invoice Amount=%{marker.size}<br>Lat=%{lat}<br>Long=%{lon}<extra></extra>",
         "lat": [
          136.224519
         ],
         "legendgroup": "University 103",
         "lon": [
          -368.766969
         ],
         "marker": {
          "color": "#19d3f3",
          "size": [
           2250
          ],
          "sizemode": "area",
          "sizeref": 347.5
         },
         "mode": "markers",
         "name": "University 103",
         "showlegend": true,
         "subplot": "mapbox",
         "type": "scattermapbox"
        },
        {
         "hovertemplate": "Customers=University 104<br>Invoice Amount=%{marker.size}<br>Lat=%{lat}<br>Long=%{lon}<extra></extra>",
         "lat": [
          45.521516
         ],
         "legendgroup": "University 104",
         "lon": [
          -122.984856
         ],
         "marker": {
          "color": "#FF6692",
          "size": [
           5775
          ],
          "sizemode": "area",
          "sizeref": 347.5
         },
         "mode": "markers",
         "name": "University 104",
         "showlegend": true,
         "subplot": "mapbox",
         "type": "scattermapbox"
        },
        {
         "hovertemplate": "Customers=University 105<br>Invoice Amount=%{marker.size}<br>Lat=%{lat}<br>Long=%{lon}<extra></extra>",
         "lat": [
          28.062
         ],
         "legendgroup": "University 105",
         "lon": [
          -82.413225
         ],
         "marker": {
          "color": "#B6E880",
          "size": [
           1900
          ],
          "sizemode": "area",
          "sizeref": 347.5
         },
         "mode": "markers",
         "name": "University 105",
         "showlegend": true,
         "subplot": "mapbox",
         "type": "scattermapbox"
        },
        {
         "hovertemplate": "Customers=University 106<br>Invoice Amount=%{marker.size}<br>Lat=%{lat}<br>Long=%{lon}<extra></extra>",
         "lat": [
          44.119155
         ],
         "legendgroup": "University 106",
         "lon": [
          -104.133391
         ],
         "marker": {
          "color": "#FF97FF",
          "size": [
           500
          ],
          "sizemode": "area",
          "sizeref": 347.5
         },
         "mode": "markers",
         "name": "University 106",
         "showlegend": true,
         "subplot": "mapbox",
         "type": "scattermapbox"
        },
        {
         "hovertemplate": "Customers=University 107<br>Invoice Amount=%{marker.size}<br>Lat=%{lat}<br>Long=%{lon}<extra></extra>",
         "lat": [
          35.841039
         ],
         "legendgroup": "University 107",
         "lon": [
          -90.675602
         ],
         "marker": {
          "color": "#FECB52",
          "size": [
           15750
          ],
          "sizemode": "area",
          "sizeref": 347.5
         },
         "mode": "markers",
         "name": "University 107",
         "showlegend": true,
         "subplot": "mapbox",
         "type": "scattermapbox"
        },
        {
         "hovertemplate": "Customers=University 108<br>Invoice Amount=%{marker.size}<br>Lat=%{lat}<br>Long=%{lon}<extra></extra>",
         "lat": [
          68.86936800000001
         ],
         "legendgroup": "University 108",
         "lon": [
          -212.263236
         ],
         "marker": {
          "color": "#636efa",
          "size": [
           2900
          ],
          "sizemode": "area",
          "sizeref": 347.5
         },
         "mode": "markers",
         "name": "University 108",
         "showlegend": true,
         "subplot": "mapbox",
         "type": "scattermapbox"
        },
        {
         "hovertemplate": "Customers=University 109<br>Invoice Amount=%{marker.size}<br>Lat=%{lat}<br>Long=%{lon}<extra></extra>",
         "lat": [
          45.408173
         ],
         "legendgroup": "University 109",
         "lon": [
          -122.922323
         ],
         "marker": {
          "color": "#EF553B",
          "size": [
           6825
          ],
          "sizemode": "area",
          "sizeref": 347.5
         },
         "mode": "markers",
         "name": "University 109",
         "showlegend": true,
         "subplot": "mapbox",
         "type": "scattermapbox"
        },
        {
         "hovertemplate": "Customers=University 11<br>Invoice Amount=%{marker.size}<br>Lat=%{lat}<br>Long=%{lon}<extra></extra>",
         "lat": [
          113.95804199999999
         ],
         "legendgroup": "University 11",
         "lon": [
          -253.18800299999998
         ],
         "marker": {
          "color": "#00cc96",
          "size": [
           10500
          ],
          "sizemode": "area",
          "sizeref": 347.5
         },
         "mode": "markers",
         "name": "University 11",
         "showlegend": true,
         "subplot": "mapbox",
         "type": "scattermapbox"
        },
        {
         "hovertemplate": "Customers=University 110<br>Invoice Amount=%{marker.size}<br>Lat=%{lat}<br>Long=%{lon}<extra></extra>",
         "lat": [
          84.186
         ],
         "legendgroup": "University 110",
         "lon": [
          -247.23967499999998
         ],
         "marker": {
          "color": "#ab63fa",
          "size": [
           6800
          ],
          "sizemode": "area",
          "sizeref": 347.5
         },
         "mode": "markers",
         "name": "University 110",
         "showlegend": true,
         "subplot": "mapbox",
         "type": "scattermapbox"
        },
        {
         "hovertemplate": "Customers=University 111<br>Invoice Amount=%{marker.size}<br>Lat=%{lat}<br>Long=%{lon}<extra></extra>",
         "lat": [
          179.205195
         ],
         "legendgroup": "University 111",
         "lon": [
          -453.37801
         ],
         "marker": {
          "color": "#FFA15A",
          "size": [
           12700
          ],
          "sizemode": "area",
          "sizeref": 347.5
         },
         "mode": "markers",
         "name": "University 111",
         "showlegend": true,
         "subplot": "mapbox",
         "type": "scattermapbox"
        },
        {
         "hovertemplate": "Customers=University 112<br>Invoice Amount=%{marker.size}<br>Lat=%{lat}<br>Long=%{lon}<extra></extra>",
         "lat": [
          0
         ],
         "legendgroup": "University 112",
         "lon": [
          0
         ],
         "marker": {
          "color": "#19d3f3",
          "size": [
           300
          ],
          "sizemode": "area",
          "sizeref": 347.5
         },
         "mode": "markers",
         "name": "University 112",
         "showlegend": true,
         "subplot": "mapbox",
         "type": "scattermapbox"
        },
        {
         "hovertemplate": "Customers=University 113<br>Invoice Amount=%{marker.size}<br>Lat=%{lat}<br>Long=%{lon}<extra></extra>",
         "lat": [
          35.7005
         ],
         "legendgroup": "University 113",
         "lon": [
          -91.48084
         ],
         "marker": {
          "color": "#FF6692",
          "size": [
           5670
          ],
          "sizemode": "area",
          "sizeref": 347.5
         },
         "mode": "markers",
         "name": "University 113",
         "showlegend": true,
         "subplot": "mapbox",
         "type": "scattermapbox"
        },
        {
         "hovertemplate": "Customers=University 114<br>Invoice Amount=%{marker.size}<br>Lat=%{lat}<br>Long=%{lon}<extra></extra>",
         "lat": [
          0
         ],
         "legendgroup": "University 114",
         "lon": [
          0
         ],
         "marker": {
          "color": "#B6E880",
          "size": [
           6362.5
          ],
          "sizemode": "area",
          "sizeref": 347.5
         },
         "mode": "markers",
         "name": "University 114",
         "showlegend": true,
         "subplot": "mapbox",
         "type": "scattermapbox"
        },
        {
         "hovertemplate": "Customers=University 115<br>Invoice Amount=%{marker.size}<br>Lat=%{lat}<br>Long=%{lon}<extra></extra>",
         "lat": [
          33.456412
         ],
         "legendgroup": "University 115",
         "lon": [
          -86.80190400000002
         ],
         "marker": {
          "color": "#FF97FF",
          "size": [
           1500
          ],
          "sizemode": "area",
          "sizeref": 347.5
         },
         "mode": "markers",
         "name": "University 115",
         "showlegend": true,
         "subplot": "mapbox",
         "type": "scattermapbox"
        },
        {
         "hovertemplate": "Customers=University 116<br>Invoice Amount=%{marker.size}<br>Lat=%{lat}<br>Long=%{lon}<extra></extra>",
         "lat": [
          0
         ],
         "legendgroup": "University 116",
         "lon": [
          0
         ],
         "marker": {
          "color": "#FECB52",
          "size": [
           5000
          ],
          "sizemode": "area",
          "sizeref": 347.5
         },
         "mode": "markers",
         "name": "University 116",
         "showlegend": true,
         "subplot": "mapbox",
         "type": "scattermapbox"
        },
        {
         "hovertemplate": "Customers=University 117<br>Invoice Amount=%{marker.size}<br>Lat=%{lat}<br>Long=%{lon}<extra></extra>",
         "lat": [
          37.91007800000001
         ],
         "legendgroup": "University 117",
         "lon": [
          -84.69466700000002
         ],
         "marker": {
          "color": "#636efa",
          "size": [
           3500
          ],
          "sizemode": "area",
          "sizeref": 347.5
         },
         "mode": "markers",
         "name": "University 117",
         "showlegend": true,
         "subplot": "mapbox",
         "type": "scattermapbox"
        },
        {
         "hovertemplate": "Customers=University 118<br>Invoice Amount=%{marker.size}<br>Lat=%{lat}<br>Long=%{lon}<extra></extra>",
         "lat": [
          45.408173
         ],
         "legendgroup": "University 118",
         "lon": [
          -122.922323
         ],
         "marker": {
          "color": "#EF553B",
          "size": [
           6300
          ],
          "sizemode": "area",
          "sizeref": 347.5
         },
         "mode": "markers",
         "name": "University 118",
         "showlegend": true,
         "subplot": "mapbox",
         "type": "scattermapbox"
        },
        {
         "hovertemplate": "Customers=University 119<br>Invoice Amount=%{marker.size}<br>Lat=%{lat}<br>Long=%{lon}<extra></extra>",
         "lat": [
          40.250861
         ],
         "legendgroup": "University 119",
         "lon": [
          -74.004581
         ],
         "marker": {
          "color": "#00cc96",
          "size": [
           1500
          ],
          "sizemode": "area",
          "sizeref": 347.5
         },
         "mode": "markers",
         "name": "University 119",
         "showlegend": true,
         "subplot": "mapbox",
         "type": "scattermapbox"
        },
        {
         "hovertemplate": "Customers=University 12<br>Invoice Amount=%{marker.size}<br>Lat=%{lat}<br>Long=%{lon}<extra></extra>",
         "lat": [
          68.526842
         ],
         "legendgroup": "University 12",
         "lon": [
          -170.379376
         ],
         "marker": {
          "color": "#ab63fa",
          "size": [
           1500
          ],
          "sizemode": "area",
          "sizeref": 347.5
         },
         "mode": "markers",
         "name": "University 12",
         "showlegend": true,
         "subplot": "mapbox",
         "type": "scattermapbox"
        },
        {
         "hovertemplate": "Customers=University 120<br>Invoice Amount=%{marker.size}<br>Lat=%{lat}<br>Long=%{lon}<extra></extra>",
         "lat": [
          0
         ],
         "legendgroup": "University 120",
         "lon": [
          0
         ],
         "marker": {
          "color": "#FFA15A",
          "size": [
           3600
          ],
          "sizemode": "area",
          "sizeref": 347.5
         },
         "mode": "markers",
         "name": "University 120",
         "showlegend": true,
         "subplot": "mapbox",
         "type": "scattermapbox"
        },
        {
         "hovertemplate": "Customers=University 121<br>Invoice Amount=%{marker.size}<br>Lat=%{lat}<br>Long=%{lon}<extra></extra>",
         "lat": [
          42.54364
         ],
         "legendgroup": "University 121",
         "lon": [
          -71.61479
         ],
         "marker": {
          "color": "#19d3f3",
          "size": [
           1500
          ],
          "sizemode": "area",
          "sizeref": 347.5
         },
         "mode": "markers",
         "name": "University 121",
         "showlegend": true,
         "subplot": "mapbox",
         "type": "scattermapbox"
        },
        {
         "hovertemplate": "Customers=University 122<br>Invoice Amount=%{marker.size}<br>Lat=%{lat}<br>Long=%{lon}<extra></extra>",
         "lat": [
          39.577496
         ],
         "legendgroup": "University 122",
         "lon": [
          -94.834963
         ],
         "marker": {
          "color": "#FF6692",
          "size": [
           510
          ],
          "sizemode": "area",
          "sizeref": 347.5
         },
         "mode": "markers",
         "name": "University 122",
         "showlegend": true,
         "subplot": "mapbox",
         "type": "scattermapbox"
        },
        {
         "hovertemplate": "Customers=University 123<br>Invoice Amount=%{marker.size}<br>Lat=%{lat}<br>Long=%{lon}<extra></extra>",
         "lat": [
          56.124
         ],
         "legendgroup": "University 123",
         "lon": [
          -164.82645
         ],
         "marker": {
          "color": "#B6E880",
          "size": [
           5000
          ],
          "sizemode": "area",
          "sizeref": 347.5
         },
         "mode": "markers",
         "name": "University 123",
         "showlegend": true,
         "subplot": "mapbox",
         "type": "scattermapbox"
        },
        {
         "hovertemplate": "Customers=University 124<br>Invoice Amount=%{marker.size}<br>Lat=%{lat}<br>Long=%{lon}<extra></extra>",
         "lat": [
          118.866387
         ],
         "legendgroup": "University 124",
         "lon": [
          -262.364307
         ],
         "marker": {
          "color": "#FF97FF",
          "size": [
           16500
          ],
          "sizemode": "area",
          "sizeref": 347.5
         },
         "mode": "markers",
         "name": "University 124",
         "showlegend": true,
         "subplot": "mapbox",
         "type": "scattermapbox"
        },
        {
         "hovertemplate": "Customers=University 125<br>Invoice Amount=%{marker.size}<br>Lat=%{lat}<br>Long=%{lon}<extra></extra>",
         "lat": [
          28.062
         ],
         "legendgroup": "University 125",
         "lon": [
          -82.413225
         ],
         "marker": {
          "color": "#FECB52",
          "size": [
           2700
          ],
          "sizemode": "area",
          "sizeref": 347.5
         },
         "mode": "markers",
         "name": "University 125",
         "showlegend": true,
         "subplot": "mapbox",
         "type": "scattermapbox"
        },
        {
         "hovertemplate": "Customers=University 126<br>Invoice Amount=%{marker.size}<br>Lat=%{lat}<br>Long=%{lon}<extra></extra>",
         "lat": [
          30.976287
         ],
         "legendgroup": "University 126",
         "lon": [
          -83.871284
         ],
         "marker": {
          "color": "#636efa",
          "size": [
           4500
          ],
          "sizemode": "area",
          "sizeref": 347.5
         },
         "mode": "markers",
         "name": "University 126",
         "showlegend": true,
         "subplot": "mapbox",
         "type": "scattermapbox"
        },
        {
         "hovertemplate": "Customers=University 127<br>Invoice Amount=%{marker.size}<br>Lat=%{lat}<br>Long=%{lon}<extra></extra>",
         "lat": [
          141.79365
         ],
         "legendgroup": "University 127",
         "lon": [
          -366.75036
         ],
         "marker": {
          "color": "#EF553B",
          "size": [
           6250
          ],
          "sizemode": "area",
          "sizeref": 347.5
         },
         "mode": "markers",
         "name": "University 127",
         "showlegend": true,
         "subplot": "mapbox",
         "type": "scattermapbox"
        },
        {
         "hovertemplate": "Customers=University 128<br>Invoice Amount=%{marker.size}<br>Lat=%{lat}<br>Long=%{lon}<extra></extra>",
         "lat": [
          73.50782
         ],
         "legendgroup": "University 128",
         "lon": [
          -211.22556
         ],
         "marker": {
          "color": "#00cc96",
          "size": [
           2500
          ],
          "sizemode": "area",
          "sizeref": 347.5
         },
         "mode": "markers",
         "name": "University 128",
         "showlegend": true,
         "subplot": "mapbox",
         "type": "scattermapbox"
        },
        {
         "hovertemplate": "Customers=University 129<br>Invoice Amount=%{marker.size}<br>Lat=%{lat}<br>Long=%{lon}<extra></extra>",
         "lat": [
          36.75391
         ],
         "legendgroup": "University 129",
         "lon": [
          -105.61278
         ],
         "marker": {
          "color": "#ab63fa",
          "size": [
           3500
          ],
          "sizemode": "area",
          "sizeref": 347.5
         },
         "mode": "markers",
         "name": "University 129",
         "showlegend": true,
         "subplot": "mapbox",
         "type": "scattermapbox"
        },
        {
         "hovertemplate": "Customers=University 13<br>Invoice Amount=%{marker.size}<br>Lat=%{lat}<br>Long=%{lon}<extra></extra>",
         "lat": [
          210.186932
         ],
         "legendgroup": "University 13",
         "lon": [
          -574.125869
         ],
         "marker": {
          "color": "#FFA15A",
          "size": [
           6062.5
          ],
          "sizemode": "area",
          "sizeref": 347.5
         },
         "mode": "markers",
         "name": "University 13",
         "showlegend": true,
         "subplot": "mapbox",
         "type": "scattermapbox"
        },
        {
         "hovertemplate": "Customers=University 130<br>Invoice Amount=%{marker.size}<br>Lat=%{lat}<br>Long=%{lon}<extra></extra>",
         "lat": [
          100.97259299999999
         ],
         "legendgroup": "University 130",
         "lon": [
          -353.438004
         ],
         "marker": {
          "color": "#19d3f3",
          "size": [
           4500
          ],
          "sizemode": "area",
          "sizeref": 347.5
         },
         "mode": "markers",
         "name": "University 130",
         "showlegend": true,
         "subplot": "mapbox",
         "type": "scattermapbox"
        },
        {
         "hovertemplate": "Customers=University 131<br>Invoice Amount=%{marker.size}<br>Lat=%{lat}<br>Long=%{lon}<extra></extra>",
         "lat": [
          61.40654
         ],
         "legendgroup": "University 131",
         "lon": [
          -166.05528
         ],
         "marker": {
          "color": "#FF6692",
          "size": [
           3800
          ],
          "sizemode": "area",
          "sizeref": 347.5
         },
         "mode": "markers",
         "name": "University 131",
         "showlegend": true,
         "subplot": "mapbox",
         "type": "scattermapbox"
        },
        {
         "hovertemplate": "Customers=University 132<br>Invoice Amount=%{marker.size}<br>Lat=%{lat}<br>Long=%{lon}<extra></extra>",
         "lat": [
          45.408173
         ],
         "legendgroup": "University 132",
         "lon": [
          -122.922323
         ],
         "marker": {
          "color": "#B6E880",
          "size": [
           2270
          ],
          "sizemode": "area",
          "sizeref": 347.5
         },
         "mode": "markers",
         "name": "University 132",
         "showlegend": true,
         "subplot": "mapbox",
         "type": "scattermapbox"
        },
        {
         "hovertemplate": "Customers=University 133<br>Invoice Amount=%{marker.size}<br>Lat=%{lat}<br>Long=%{lon}<extra></extra>",
         "lat": [
          80.606238
         ],
         "legendgroup": "University 133",
         "lon": [
          -159.995134
         ],
         "marker": {
          "color": "#FF97FF",
          "size": [
           3350
          ],
          "sizemode": "area",
          "sizeref": 347.5
         },
         "mode": "markers",
         "name": "University 133",
         "showlegend": true,
         "subplot": "mapbox",
         "type": "scattermapbox"
        },
        {
         "hovertemplate": "Customers=University 134<br>Invoice Amount=%{marker.size}<br>Lat=%{lat}<br>Long=%{lon}<extra></extra>",
         "lat": [
          67.652458
         ],
         "legendgroup": "University 134",
         "lon": [
          -187.922044
         ],
         "marker": {
          "color": "#FECB52",
          "size": [
           2750
          ],
          "sizemode": "area",
          "sizeref": 347.5
         },
         "mode": "markers",
         "name": "University 134",
         "showlegend": true,
         "subplot": "mapbox",
         "type": "scattermapbox"
        },
        {
         "hovertemplate": "Customers=University 135<br>Invoice Amount=%{marker.size}<br>Lat=%{lat}<br>Long=%{lon}<extra></extra>",
         "lat": [
          0
         ],
         "legendgroup": "University 135",
         "lon": [
          0
         ],
         "marker": {
          "color": "#636efa",
          "size": [
           1500
          ],
          "sizemode": "area",
          "sizeref": 347.5
         },
         "mode": "markers",
         "name": "University 135",
         "showlegend": true,
         "subplot": "mapbox",
         "type": "scattermapbox"
        },
        {
         "hovertemplate": "Customers=University 136<br>Invoice Amount=%{marker.size}<br>Lat=%{lat}<br>Long=%{lon}<extra></extra>",
         "lat": [
          0
         ],
         "legendgroup": "University 136",
         "lon": [
          0
         ],
         "marker": {
          "color": "#EF553B",
          "size": [
           6850
          ],
          "sizemode": "area",
          "sizeref": 347.5
         },
         "mode": "markers",
         "name": "University 136",
         "showlegend": true,
         "subplot": "mapbox",
         "type": "scattermapbox"
        },
        {
         "hovertemplate": "Customers=University 137<br>Invoice Amount=%{marker.size}<br>Lat=%{lat}<br>Long=%{lon}<extra></extra>",
         "lat": [
          45.408173
         ],
         "legendgroup": "University 137",
         "lon": [
          -122.922323
         ],
         "marker": {
          "color": "#00cc96",
          "size": [
           1000
          ],
          "sizemode": "area",
          "sizeref": 347.5
         },
         "mode": "markers",
         "name": "University 137",
         "showlegend": true,
         "subplot": "mapbox",
         "type": "scattermapbox"
        },
        {
         "hovertemplate": "Customers=University 138<br>Invoice Amount=%{marker.size}<br>Lat=%{lat}<br>Long=%{lon}<extra></extra>",
         "lat": [
          39.07977
         ],
         "legendgroup": "University 138",
         "lon": [
          -86.513329
         ],
         "marker": {
          "color": "#ab63fa",
          "size": [
           50000
          ],
          "sizemode": "area",
          "sizeref": 347.5
         },
         "mode": "markers",
         "name": "University 138",
         "showlegend": true,
         "subplot": "mapbox",
         "type": "scattermapbox"
        },
        {
         "hovertemplate": "Customers=University 139<br>Invoice Amount=%{marker.size}<br>Lat=%{lat}<br>Long=%{lon}<extra></extra>",
         "lat": [
          56.124
         ],
         "legendgroup": "University 139",
         "lon": [
          -164.82645
         ],
         "marker": {
          "color": "#FFA15A",
          "size": [
           12050
          ],
          "sizemode": "area",
          "sizeref": 347.5
         },
         "mode": "markers",
         "name": "University 139",
         "showlegend": true,
         "subplot": "mapbox",
         "type": "scattermapbox"
        },
        {
         "hovertemplate": "Customers=University 14<br>Invoice Amount=%{marker.size}<br>Lat=%{lat}<br>Long=%{lon}<extra></extra>",
         "lat": [
          42.08068
         ],
         "legendgroup": "University 14",
         "lon": [
          -78.48354300000003
         ],
         "marker": {
          "color": "#19d3f3",
          "size": [
           1000
          ],
          "sizemode": "area",
          "sizeref": 347.5
         },
         "mode": "markers",
         "name": "University 14",
         "showlegend": true,
         "subplot": "mapbox",
         "type": "scattermapbox"
        },
        {
         "hovertemplate": "Customers=University 140<br>Invoice Amount=%{marker.size}<br>Lat=%{lat}<br>Long=%{lon}<extra></extra>",
         "lat": [
          0
         ],
         "legendgroup": "University 140",
         "lon": [
          0
         ],
         "marker": {
          "color": "#FF6692",
          "size": [
           1000
          ],
          "sizemode": "area",
          "sizeref": 347.5
         },
         "mode": "markers",
         "name": "University 140",
         "showlegend": true,
         "subplot": "mapbox",
         "type": "scattermapbox"
        },
        {
         "hovertemplate": "Customers=University 141<br>Invoice Amount=%{marker.size}<br>Lat=%{lat}<br>Long=%{lon}<extra></extra>",
         "lat": [
          107.52311700000001
         ],
         "legendgroup": "University 141",
         "lon": [
          -272.02680599999997
         ],
         "marker": {
          "color": "#B6E880",
          "size": [
           6375
          ],
          "sizemode": "area",
          "sizeref": 347.5
         },
         "mode": "markers",
         "name": "University 141",
         "showlegend": true,
         "subplot": "mapbox",
         "type": "scattermapbox"
        },
        {
         "hovertemplate": "Customers=University 142<br>Invoice Amount=%{marker.size}<br>Lat=%{lat}<br>Long=%{lon}<extra></extra>",
         "lat": [
          30.70327
         ],
         "legendgroup": "University 142",
         "lon": [
          -83.02764
         ],
         "marker": {
          "color": "#FF97FF",
          "size": [
           7350
          ],
          "sizemode": "area",
          "sizeref": 347.5
         },
         "mode": "markers",
         "name": "University 142",
         "showlegend": true,
         "subplot": "mapbox",
         "type": "scattermapbox"
        },
        {
         "hovertemplate": "Customers=University 143<br>Invoice Amount=%{marker.size}<br>Lat=%{lat}<br>Long=%{lon}<extra></extra>",
         "lat": [
          0
         ],
         "legendgroup": "University 143",
         "lon": [
          0
         ],
         "marker": {
          "color": "#FECB52",
          "size": [
           10250
          ],
          "sizemode": "area",
          "sizeref": 347.5
         },
         "mode": "markers",
         "name": "University 143",
         "showlegend": true,
         "subplot": "mapbox",
         "type": "scattermapbox"
        },
        {
         "hovertemplate": "Customers=University 144<br>Invoice Amount=%{marker.size}<br>Lat=%{lat}<br>Long=%{lon}<extra></extra>",
         "lat": [
          68.25416
         ],
         "legendgroup": "University 144",
         "lon": [
          -186.113166
         ],
         "marker": {
          "color": "#636efa",
          "size": [
           2000
          ],
          "sizemode": "area",
          "sizeref": 347.5
         },
         "mode": "markers",
         "name": "University 144",
         "showlegend": true,
         "subplot": "mapbox",
         "type": "scattermapbox"
        },
        {
         "hovertemplate": "Customers=University 145<br>Invoice Amount=%{marker.size}<br>Lat=%{lat}<br>Long=%{lon}<extra></extra>",
         "lat": [
          28.062
         ],
         "legendgroup": "University 145",
         "lon": [
          -82.413225
         ],
         "marker": {
          "color": "#EF553B",
          "size": [
           8425
          ],
          "sizemode": "area",
          "sizeref": 347.5
         },
         "mode": "markers",
         "name": "University 145",
         "showlegend": true,
         "subplot": "mapbox",
         "type": "scattermapbox"
        },
        {
         "hovertemplate": "Customers=University 146<br>Invoice Amount=%{marker.size}<br>Lat=%{lat}<br>Long=%{lon}<extra></extra>",
         "lat": [
          36.34318
         ],
         "legendgroup": "University 146",
         "lon": [
          -88.858988
         ],
         "marker": {
          "color": "#00cc96",
          "size": [
           3850
          ],
          "sizemode": "area",
          "sizeref": 347.5
         },
         "mode": "markers",
         "name": "University 146",
         "showlegend": true,
         "subplot": "mapbox",
         "type": "scattermapbox"
        },
        {
         "hovertemplate": "Customers=University 147<br>Invoice Amount=%{marker.size}<br>Lat=%{lat}<br>Long=%{lon}<extra></extra>",
         "lat": [
          104.233947
         ],
         "legendgroup": "University 147",
         "lon": [
          -248.39180100000002
         ],
         "marker": {
          "color": "#ab63fa",
          "size": [
           6900
          ],
          "sizemode": "area",
          "sizeref": 347.5
         },
         "mode": "markers",
         "name": "University 147",
         "showlegend": true,
         "subplot": "mapbox",
         "type": "scattermapbox"
        },
        {
         "hovertemplate": "Customers=University 148<br>Invoice Amount=%{marker.size}<br>Lat=%{lat}<br>Long=%{lon}<extra></extra>",
         "lat": [
          0
         ],
         "legendgroup": "University 148",
         "lon": [
          0
         ],
         "marker": {
          "color": "#FFA15A",
          "size": [
           5950
          ],
          "sizemode": "area",
          "sizeref": 347.5
         },
         "mode": "markers",
         "name": "University 148",
         "showlegend": true,
         "subplot": "mapbox",
         "type": "scattermapbox"
        },
        {
         "hovertemplate": "Customers=University 149<br>Invoice Amount=%{marker.size}<br>Lat=%{lat}<br>Long=%{lon}<extra></extra>",
         "lat": [
          37.522251
         ],
         "legendgroup": "University 149",
         "lon": [
          -78.668194
         ],
         "marker": {
          "color": "#19d3f3",
          "size": [
           4500
          ],
          "sizemode": "area",
          "sizeref": 347.5
         },
         "mode": "markers",
         "name": "University 149",
         "showlegend": true,
         "subplot": "mapbox",
         "type": "scattermapbox"
        },
        {
         "hovertemplate": "Customers=University 15<br>Invoice Amount=%{marker.size}<br>Lat=%{lat}<br>Long=%{lon}<extra></extra>",
         "lat": [
          74.807602
         ],
         "legendgroup": "University 15",
         "lon": [
          -151.820774
         ],
         "marker": {
          "color": "#FF6692",
          "size": [
           1500
          ],
          "sizemode": "area",
          "sizeref": 347.5
         },
         "mode": "markers",
         "name": "University 15",
         "showlegend": true,
         "subplot": "mapbox",
         "type": "scattermapbox"
        },
        {
         "hovertemplate": "Customers=University 150<br>Invoice Amount=%{marker.size}<br>Lat=%{lat}<br>Long=%{lon}<extra></extra>",
         "lat": [
          47.647774
         ],
         "legendgroup": "University 150",
         "lon": [
          -122.53801599999998
         ],
         "marker": {
          "color": "#B6E880",
          "size": [
           3600
          ],
          "sizemode": "area",
          "sizeref": 347.5
         },
         "mode": "markers",
         "name": "University 150",
         "showlegend": true,
         "subplot": "mapbox",
         "type": "scattermapbox"
        },
        {
         "hovertemplate": "Customers=University 151<br>Invoice Amount=%{marker.size}<br>Lat=%{lat}<br>Long=%{lon}<extra></extra>",
         "lat": [
          56.124
         ],
         "legendgroup": "University 151",
         "lon": [
          -164.82645
         ],
         "marker": {
          "color": "#FF97FF",
          "size": [
           3980
          ],
          "sizemode": "area",
          "sizeref": 347.5
         },
         "mode": "markers",
         "name": "University 151",
         "showlegend": true,
         "subplot": "mapbox",
         "type": "scattermapbox"
        },
        {
         "hovertemplate": "Customers=University 152<br>Invoice Amount=%{marker.size}<br>Lat=%{lat}<br>Long=%{lon}<extra></extra>",
         "lat": [
          66.912824
         ],
         "legendgroup": "University 152",
         "lon": [
          -173.60380800000004
         ],
         "marker": {
          "color": "#FECB52",
          "size": [
           2000
          ],
          "sizemode": "area",
          "sizeref": 347.5
         },
         "mode": "markers",
         "name": "University 152",
         "showlegend": true,
         "subplot": "mapbox",
         "type": "scattermapbox"
        },
        {
         "hovertemplate": "Customers=University 153<br>Invoice Amount=%{marker.size}<br>Lat=%{lat}<br>Long=%{lon}<extra></extra>",
         "lat": [
          56.124
         ],
         "legendgroup": "University 153",
         "lon": [
          -164.82645
         ],
         "marker": {
          "color": "#636efa",
          "size": [
           5100
          ],
          "sizemode": "area",
          "sizeref": 347.5
         },
         "mode": "markers",
         "name": "University 153",
         "showlegend": true,
         "subplot": "mapbox",
         "type": "scattermapbox"
        },
        {
         "hovertemplate": "Customers=University 154<br>Invoice Amount=%{marker.size}<br>Lat=%{lat}<br>Long=%{lon}<extra></extra>",
         "lat": [
          147.622448
         ],
         "legendgroup": "University 154",
         "lon": [
          -353.43904
         ],
         "marker": {
          "color": "#EF553B",
          "size": [
           1756
          ],
          "sizemode": "area",
          "sizeref": 347.5
         },
         "mode": "markers",
         "name": "University 154",
         "showlegend": true,
         "subplot": "mapbox",
         "type": "scattermapbox"
        },
        {
         "hovertemplate": "Customers=University 155<br>Invoice Amount=%{marker.size}<br>Lat=%{lat}<br>Long=%{lon}<extra></extra>",
         "lat": [
          71.682078
         ],
         "legendgroup": "University 155",
         "lon": [
          -181.351204
         ],
         "marker": {
          "color": "#00cc96",
          "size": [
           3000
          ],
          "sizemode": "area",
          "sizeref": 347.5
         },
         "mode": "markers",
         "name": "University 155",
         "showlegend": true,
         "subplot": "mapbox",
         "type": "scattermapbox"
        },
        {
         "hovertemplate": "Customers=University 156<br>Invoice Amount=%{marker.size}<br>Lat=%{lat}<br>Long=%{lon}<extra></extra>",
         "lat": [
          33.717989
         ],
         "legendgroup": "University 156",
         "lon": [
          -83.801451
         ],
         "marker": {
          "color": "#ab63fa",
          "size": [
           1550
          ],
          "sizemode": "area",
          "sizeref": 347.5
         },
         "mode": "markers",
         "name": "University 156",
         "showlegend": true,
         "subplot": "mapbox",
         "type": "scattermapbox"
        },
        {
         "hovertemplate": "Customers=University 157<br>Invoice Amount=%{marker.size}<br>Lat=%{lat}<br>Long=%{lon}<extra></extra>",
         "lat": [
          41.33065
         ],
         "legendgroup": "University 157",
         "lon": [
          -74.18681
         ],
         "marker": {
          "color": "#FFA15A",
          "size": [
           2710
          ],
          "sizemode": "area",
          "sizeref": 347.5
         },
         "mode": "markers",
         "name": "University 157",
         "showlegend": true,
         "subplot": "mapbox",
         "type": "scattermapbox"
        },
        {
         "hovertemplate": "Customers=University 158<br>Invoice Amount=%{marker.size}<br>Lat=%{lat}<br>Long=%{lon}<extra></extra>",
         "lat": [
          95.332974
         ],
         "legendgroup": "University 158",
         "lon": [
          -244.619698
         ],
         "marker": {
          "color": "#19d3f3",
          "size": [
           2047.4299999999998
          ],
          "sizemode": "area",
          "sizeref": 347.5
         },
         "mode": "markers",
         "name": "University 158",
         "showlegend": true,
         "subplot": "mapbox",
         "type": "scattermapbox"
        },
        {
         "hovertemplate": "Customers=University 159<br>Invoice Amount=%{marker.size}<br>Lat=%{lat}<br>Long=%{lon}<extra></extra>",
         "lat": [
          34.744649
         ],
         "legendgroup": "University 159",
         "lon": [
          -82.797267
         ],
         "marker": {
          "color": "#FF6692",
          "size": [
           1880
          ],
          "sizemode": "area",
          "sizeref": 347.5
         },
         "mode": "markers",
         "name": "University 159",
         "showlegend": true,
         "subplot": "mapbox",
         "type": "scattermapbox"
        },
        {
         "hovertemplate": "Customers=University 16<br>Invoice Amount=%{marker.size}<br>Lat=%{lat}<br>Long=%{lon}<extra></extra>",
         "lat": [
          212.66036100000005
         ],
         "legendgroup": "University 16",
         "lon": [
          -575.62167
         ],
         "marker": {
          "color": "#B6E880",
          "size": [
           7875
          ],
          "sizemode": "area",
          "sizeref": 347.5
         },
         "mode": "markers",
         "name": "University 16",
         "showlegend": true,
         "subplot": "mapbox",
         "type": "scattermapbox"
        },
        {
         "hovertemplate": "Customers=University 160<br>Invoice Amount=%{marker.size}<br>Lat=%{lat}<br>Long=%{lon}<extra></extra>",
         "lat": [
          39.577496
         ],
         "legendgroup": "University 160",
         "lon": [
          -94.834963
         ],
         "marker": {
          "color": "#FF97FF",
          "size": [
           510
          ],
          "sizemode": "area",
          "sizeref": 347.5
         },
         "mode": "markers",
         "name": "University 160",
         "showlegend": true,
         "subplot": "mapbox",
         "type": "scattermapbox"
        },
        {
         "hovertemplate": "Customers=University 161<br>Invoice Amount=%{marker.size}<br>Lat=%{lat}<br>Long=%{lon}<extra></extra>",
         "lat": [
          0
         ],
         "legendgroup": "University 161",
         "lon": [
          0
         ],
         "marker": {
          "color": "#FECB52",
          "size": [
           1500
          ],
          "sizemode": "area",
          "sizeref": 347.5
         },
         "mode": "markers",
         "name": "University 161",
         "showlegend": true,
         "subplot": "mapbox",
         "type": "scattermapbox"
        },
        {
         "hovertemplate": "Customers=University 162<br>Invoice Amount=%{marker.size}<br>Lat=%{lat}<br>Long=%{lon}<extra></extra>",
         "lat": [
          0
         ],
         "legendgroup": "University 162",
         "lon": [
          0
         ],
         "marker": {
          "color": "#636efa",
          "size": [
           30520
          ],
          "sizemode": "area",
          "sizeref": 347.5
         },
         "mode": "markers",
         "name": "University 162",
         "showlegend": true,
         "subplot": "mapbox",
         "type": "scattermapbox"
        },
        {
         "hovertemplate": "Customers=University 163<br>Invoice Amount=%{marker.size}<br>Lat=%{lat}<br>Long=%{lon}<extra></extra>",
         "lat": [
          0
         ],
         "legendgroup": "University 163",
         "lon": [
          0
         ],
         "marker": {
          "color": "#EF553B",
          "size": [
           2000
          ],
          "sizemode": "area",
          "sizeref": 347.5
         },
         "mode": "markers",
         "name": "University 163",
         "showlegend": true,
         "subplot": "mapbox",
         "type": "scattermapbox"
        },
        {
         "hovertemplate": "Customers=University 164<br>Invoice Amount=%{marker.size}<br>Lat=%{lat}<br>Long=%{lon}<extra></extra>",
         "lat": [
          109.02954
         ],
         "legendgroup": "University 164",
         "lon": [
          -266.576964
         ],
         "marker": {
          "color": "#00cc96",
          "size": [
           572.5
          ],
          "sizemode": "area",
          "sizeref": 347.5
         },
         "mode": "markers",
         "name": "University 164",
         "showlegend": true,
         "subplot": "mapbox",
         "type": "scattermapbox"
        },
        {
         "hovertemplate": "Customers=University 165<br>Invoice Amount=%{marker.size}<br>Lat=%{lat}<br>Long=%{lon}<extra></extra>",
         "lat": [
          45.408173
         ],
         "legendgroup": "University 165",
         "lon": [
          -122.922323
         ],
         "marker": {
          "color": "#ab63fa",
          "size": [
           1650
          ],
          "sizemode": "area",
          "sizeref": 347.5
         },
         "mode": "markers",
         "name": "University 165",
         "showlegend": true,
         "subplot": "mapbox",
         "type": "scattermapbox"
        },
        {
         "hovertemplate": "Customers=University 166<br>Invoice Amount=%{marker.size}<br>Lat=%{lat}<br>Long=%{lon}<extra></extra>",
         "lat": [
          0
         ],
         "legendgroup": "University 166",
         "lon": [
          0
         ],
         "marker": {
          "color": "#FFA15A",
          "size": [
           1250
          ],
          "sizemode": "area",
          "sizeref": 347.5
         },
         "mode": "markers",
         "name": "University 166",
         "showlegend": true,
         "subplot": "mapbox",
         "type": "scattermapbox"
        },
        {
         "hovertemplate": "Customers=University 167<br>Invoice Amount=%{marker.size}<br>Lat=%{lat}<br>Long=%{lon}<extra></extra>",
         "lat": [
          48.049258
         ],
         "legendgroup": "University 167",
         "lon": [
          -122.819336
         ],
         "marker": {
          "color": "#19d3f3",
          "size": [
           500
          ],
          "sizemode": "area",
          "sizeref": 347.5
         },
         "mode": "markers",
         "name": "University 167",
         "showlegend": true,
         "subplot": "mapbox",
         "type": "scattermapbox"
        },
        {
         "hovertemplate": "Customers=University 168<br>Invoice Amount=%{marker.size}<br>Lat=%{lat}<br>Long=%{lon}<extra></extra>",
         "lat": [
          33.640302
         ],
         "legendgroup": "University 168",
         "lon": [
          -117.769442
         ],
         "marker": {
          "color": "#FF6692",
          "size": [
           1100
          ],
          "sizemode": "area",
          "sizeref": 347.5
         },
         "mode": "markers",
         "name": "University 168",
         "showlegend": true,
         "subplot": "mapbox",
         "type": "scattermapbox"
        },
        {
         "hovertemplate": "Customers=University 169<br>Invoice Amount=%{marker.size}<br>Lat=%{lat}<br>Long=%{lon}<extra></extra>",
         "lat": [
          38.993867
         ],
         "legendgroup": "University 169",
         "lon": [
          -105.508319
         ],
         "marker": {
          "color": "#B6E880",
          "size": [
           600
          ],
          "sizemode": "area",
          "sizeref": 347.5
         },
         "mode": "markers",
         "name": "University 169",
         "showlegend": true,
         "subplot": "mapbox",
         "type": "scattermapbox"
        },
        {
         "hovertemplate": "Customers=University 17<br>Invoice Amount=%{marker.size}<br>Lat=%{lat}<br>Long=%{lon}<extra></extra>",
         "lat": [
          80.13123
         ],
         "legendgroup": "University 17",
         "lon": [
          -159.771864
         ],
         "marker": {
          "color": "#FF97FF",
          "size": [
           9450
          ],
          "sizemode": "area",
          "sizeref": 347.5
         },
         "mode": "markers",
         "name": "University 17",
         "showlegend": true,
         "subplot": "mapbox",
         "type": "scattermapbox"
        },
        {
         "hovertemplate": "Customers=University 170<br>Invoice Amount=%{marker.size}<br>Lat=%{lat}<br>Long=%{lon}<extra></extra>",
         "lat": [
          45.408173
         ],
         "legendgroup": "University 170",
         "lon": [
          -122.922323
         ],
         "marker": {
          "color": "#FECB52",
          "size": [
           2300
          ],
          "sizemode": "area",
          "sizeref": 347.5
         },
         "mode": "markers",
         "name": "University 170",
         "showlegend": true,
         "subplot": "mapbox",
         "type": "scattermapbox"
        },
        {
         "hovertemplate": "Customers=University 171<br>Invoice Amount=%{marker.size}<br>Lat=%{lat}<br>Long=%{lon}<extra></extra>",
         "lat": [
          37.680181
         ],
         "legendgroup": "University 171",
         "lon": [
          -121.921498
         ],
         "marker": {
          "color": "#636efa",
          "size": [
           3000
          ],
          "sizemode": "area",
          "sizeref": 347.5
         },
         "mode": "markers",
         "name": "University 171",
         "showlegend": true,
         "subplot": "mapbox",
         "type": "scattermapbox"
        },
        {
         "hovertemplate": "Customers=University 172<br>Invoice Amount=%{marker.size}<br>Lat=%{lat}<br>Long=%{lon}<extra></extra>",
         "lat": [
          34.744649
         ],
         "legendgroup": "University 172",
         "lon": [
          -82.797267
         ],
         "marker": {
          "color": "#EF553B",
          "size": [
           450
          ],
          "sizemode": "area",
          "sizeref": 347.5
         },
         "mode": "markers",
         "name": "University 172",
         "showlegend": true,
         "subplot": "mapbox",
         "type": "scattermapbox"
        },
        {
         "hovertemplate": "Customers=University 173<br>Invoice Amount=%{marker.size}<br>Lat=%{lat}<br>Long=%{lon}<extra></extra>",
         "lat": [
          46.28569
         ],
         "legendgroup": "University 173",
         "lon": [
          -119.28446
         ],
         "marker": {
          "color": "#00cc96",
          "size": [
           1600
          ],
          "sizemode": "area",
          "sizeref": 347.5
         },
         "mode": "markers",
         "name": "University 173",
         "showlegend": true,
         "subplot": "mapbox",
         "type": "scattermapbox"
        },
        {
         "hovertemplate": "Customers=University 174<br>Invoice Amount=%{marker.size}<br>Lat=%{lat}<br>Long=%{lon}<extra></extra>",
         "lat": [
          36.432632
         ],
         "legendgroup": "University 174",
         "lon": [
          -80.91785300000002
         ],
         "marker": {
          "color": "#ab63fa",
          "size": [
           1730
          ],
          "sizemode": "area",
          "sizeref": 347.5
         },
         "mode": "markers",
         "name": "University 174",
         "showlegend": true,
         "subplot": "mapbox",
         "type": "scattermapbox"
        },
        {
         "hovertemplate": "Customers=University 175<br>Invoice Amount=%{marker.size}<br>Lat=%{lat}<br>Long=%{lon}<extra></extra>",
         "lat": [
          39.282538
         ],
         "legendgroup": "University 175",
         "lon": [
          -87.667527
         ],
         "marker": {
          "color": "#FFA15A",
          "size": [
           6000
          ],
          "sizemode": "area",
          "sizeref": 347.5
         },
         "mode": "markers",
         "name": "University 175",
         "showlegend": true,
         "subplot": "mapbox",
         "type": "scattermapbox"
        },
        {
         "hovertemplate": "Customers=University 176<br>Invoice Amount=%{marker.size}<br>Lat=%{lat}<br>Long=%{lon}<extra></extra>",
         "lat": [
          34.859604
         ],
         "legendgroup": "University 176",
         "lon": [
          -80.938257
         ],
         "marker": {
          "color": "#19d3f3",
          "size": [
           1000
          ],
          "sizemode": "area",
          "sizeref": 347.5
         },
         "mode": "markers",
         "name": "University 176",
         "showlegend": true,
         "subplot": "mapbox",
         "type": "scattermapbox"
        },
        {
         "hovertemplate": "Customers=University 177<br>Invoice Amount=%{marker.size}<br>Lat=%{lat}<br>Long=%{lon}<extra></extra>",
         "lat": [
          84.186
         ],
         "legendgroup": "University 177",
         "lon": [
          -247.23967499999998
         ],
         "marker": {
          "color": "#FF6692",
          "size": [
           8500
          ],
          "sizemode": "area",
          "sizeref": 347.5
         },
         "mode": "markers",
         "name": "University 177",
         "showlegend": true,
         "subplot": "mapbox",
         "type": "scattermapbox"
        },
        {
         "hovertemplate": "Customers=University 178<br>Invoice Amount=%{marker.size}<br>Lat=%{lat}<br>Long=%{lon}<extra></extra>",
         "lat": [
          119.691486
         ],
         "legendgroup": "University 178",
         "lon": [
          -226.03224899999998
         ],
         "marker": {
          "color": "#B6E880",
          "size": [
           2142
          ],
          "sizemode": "area",
          "sizeref": 347.5
         },
         "mode": "markers",
         "name": "University 178",
         "showlegend": true,
         "subplot": "mapbox",
         "type": "scattermapbox"
        },
        {
         "hovertemplate": "Customers=University 179<br>Invoice Amount=%{marker.size}<br>Lat=%{lat}<br>Long=%{lon}<extra></extra>",
         "lat": [
          84.186
         ],
         "legendgroup": "University 179",
         "lon": [
          -247.23967499999998
         ],
         "marker": {
          "color": "#FF97FF",
          "size": [
           18719.25
          ],
          "sizemode": "area",
          "sizeref": 347.5
         },
         "mode": "markers",
         "name": "University 179",
         "showlegend": true,
         "subplot": "mapbox",
         "type": "scattermapbox"
        },
        {
         "hovertemplate": "Customers=University 18<br>Invoice Amount=%{marker.size}<br>Lat=%{lat}<br>Long=%{lon}<extra></extra>",
         "lat": [
          33.529999
         ],
         "legendgroup": "University 18",
         "lon": [
          -117.185591
         ],
         "marker": {
          "color": "#FECB52",
          "size": [
           3500
          ],
          "sizemode": "area",
          "sizeref": 347.5
         },
         "mode": "markers",
         "name": "University 18",
         "showlegend": true,
         "subplot": "mapbox",
         "type": "scattermapbox"
        },
        {
         "hovertemplate": "Customers=University 180<br>Invoice Amount=%{marker.size}<br>Lat=%{lat}<br>Long=%{lon}<extra></extra>",
         "lat": [
          28.062
         ],
         "legendgroup": "University 180",
         "lon": [
          -82.413225
         ],
         "marker": {
          "color": "#636efa",
          "size": [
           875
          ],
          "sizemode": "area",
          "sizeref": 347.5
         },
         "mode": "markers",
         "name": "University 180",
         "showlegend": true,
         "subplot": "mapbox",
         "type": "scattermapbox"
        },
        {
         "hovertemplate": "Customers=University 181<br>Invoice Amount=%{marker.size}<br>Lat=%{lat}<br>Long=%{lon}<extra></extra>",
         "lat": [
          28.062
         ],
         "legendgroup": "University 181",
         "lon": [
          -82.413225
         ],
         "marker": {
          "color": "#EF553B",
          "size": [
           7500
          ],
          "sizemode": "area",
          "sizeref": 347.5
         },
         "mode": "markers",
         "name": "University 181",
         "showlegend": true,
         "subplot": "mapbox",
         "type": "scattermapbox"
        },
        {
         "hovertemplate": "Customers=University 182<br>Invoice Amount=%{marker.size}<br>Lat=%{lat}<br>Long=%{lon}<extra></extra>",
         "lat": [
          0
         ],
         "legendgroup": "University 182",
         "lon": [
          0
         ],
         "marker": {
          "color": "#00cc96",
          "size": [
           3263
          ],
          "sizemode": "area",
          "sizeref": 347.5
         },
         "mode": "markers",
         "name": "University 182",
         "showlegend": true,
         "subplot": "mapbox",
         "type": "scattermapbox"
        },
        {
         "hovertemplate": "Customers=University 183<br>Invoice Amount=%{marker.size}<br>Lat=%{lat}<br>Long=%{lon}<extra></extra>",
         "lat": [
          0
         ],
         "legendgroup": "University 183",
         "lon": [
          0
         ],
         "marker": {
          "color": "#ab63fa",
          "size": [
           3922
          ],
          "sizemode": "area",
          "sizeref": 347.5
         },
         "mode": "markers",
         "name": "University 183",
         "showlegend": true,
         "subplot": "mapbox",
         "type": "scattermapbox"
        },
        {
         "hovertemplate": "Customers=University 184<br>Invoice Amount=%{marker.size}<br>Lat=%{lat}<br>Long=%{lon}<extra></extra>",
         "lat": [
          56.124
         ],
         "legendgroup": "University 184",
         "lon": [
          -164.82645
         ],
         "marker": {
          "color": "#FFA15A",
          "size": [
           4625
          ],
          "sizemode": "area",
          "sizeref": 347.5
         },
         "mode": "markers",
         "name": "University 184",
         "showlegend": true,
         "subplot": "mapbox",
         "type": "scattermapbox"
        },
        {
         "hovertemplate": "Customers=University 185<br>Invoice Amount=%{marker.size}<br>Lat=%{lat}<br>Long=%{lon}<extra></extra>",
         "lat": [
          28.062
         ],
         "legendgroup": "University 185",
         "lon": [
          -82.413225
         ],
         "marker": {
          "color": "#19d3f3",
          "size": [
           1000
          ],
          "sizemode": "area",
          "sizeref": 347.5
         },
         "mode": "markers",
         "name": "University 185",
         "showlegend": true,
         "subplot": "mapbox",
         "type": "scattermapbox"
        },
        {
         "hovertemplate": "Customers=University 186<br>Invoice Amount=%{marker.size}<br>Lat=%{lat}<br>Long=%{lon}<extra></extra>",
         "lat": [
          29.953701
         ],
         "legendgroup": "University 186",
         "lon": [
          -90.072803
         ],
         "marker": {
          "color": "#FF6692",
          "size": [
           625
          ],
          "sizemode": "area",
          "sizeref": 347.5
         },
         "mode": "markers",
         "name": "University 186",
         "showlegend": true,
         "subplot": "mapbox",
         "type": "scattermapbox"
        },
        {
         "hovertemplate": "Customers=University 187<br>Invoice Amount=%{marker.size}<br>Lat=%{lat}<br>Long=%{lon}<extra></extra>",
         "lat": [
          56.124
         ],
         "legendgroup": "University 187",
         "lon": [
          -164.82645
         ],
         "marker": {
          "color": "#B6E880",
          "size": [
           1071
          ],
          "sizemode": "area",
          "sizeref": 347.5
         },
         "mode": "markers",
         "name": "University 187",
         "showlegend": true,
         "subplot": "mapbox",
         "type": "scattermapbox"
        },
        {
         "hovertemplate": "Customers=University 188<br>Invoice Amount=%{marker.size}<br>Lat=%{lat}<br>Long=%{lon}<extra></extra>",
         "lat": [
          0
         ],
         "legendgroup": "University 188",
         "lon": [
          0
         ],
         "marker": {
          "color": "#FF97FF",
          "size": [
           587
          ],
          "sizemode": "area",
          "sizeref": 347.5
         },
         "mode": "markers",
         "name": "University 188",
         "showlegend": true,
         "subplot": "mapbox",
         "type": "scattermapbox"
        },
        {
         "hovertemplate": "Customers=University 189<br>Invoice Amount=%{marker.size}<br>Lat=%{lat}<br>Long=%{lon}<extra></extra>",
         "lat": [
          121.61721
         ],
         "legendgroup": "University 189",
         "lon": [
          -227.34433499999994
         ],
         "marker": {
          "color": "#FECB52",
          "size": [
           14500
          ],
          "sizemode": "area",
          "sizeref": 347.5
         },
         "mode": "markers",
         "name": "University 189",
         "showlegend": true,
         "subplot": "mapbox",
         "type": "scattermapbox"
        },
        {
         "hovertemplate": "Customers=University 19<br>Invoice Amount=%{marker.size}<br>Lat=%{lat}<br>Long=%{lon}<extra></extra>",
         "lat": [
          195.04046400000001
         ],
         "legendgroup": "University 19",
         "lon": [
          -529.894807
         ],
         "marker": {
          "color": "#636efa",
          "size": [
           3750
          ],
          "sizemode": "area",
          "sizeref": 347.5
         },
         "mode": "markers",
         "name": "University 19",
         "showlegend": true,
         "subplot": "mapbox",
         "type": "scattermapbox"
        },
        {
         "hovertemplate": "Customers=University 190<br>Invoice Amount=%{marker.size}<br>Lat=%{lat}<br>Long=%{lon}<extra></extra>",
         "lat": [
          0
         ],
         "legendgroup": "University 190",
         "lon": [
          0
         ],
         "marker": {
          "color": "#EF553B",
          "size": [
           13920
          ],
          "sizemode": "area",
          "sizeref": 347.5
         },
         "mode": "markers",
         "name": "University 190",
         "showlegend": true,
         "subplot": "mapbox",
         "type": "scattermapbox"
        },
        {
         "hovertemplate": "Customers=University 191<br>Invoice Amount=%{marker.size}<br>Lat=%{lat}<br>Long=%{lon}<extra></extra>",
         "lat": [
          67.824946
         ],
         "legendgroup": "University 191",
         "lon": [
          -169.114362
         ],
         "marker": {
          "color": "#00cc96",
          "size": [
           4930
          ],
          "sizemode": "area",
          "sizeref": 347.5
         },
         "mode": "markers",
         "name": "University 191",
         "showlegend": true,
         "subplot": "mapbox",
         "type": "scattermapbox"
        },
        {
         "hovertemplate": "Customers=University 192<br>Invoice Amount=%{marker.size}<br>Lat=%{lat}<br>Long=%{lon}<extra></extra>",
         "lat": [
          28.062
         ],
         "legendgroup": "University 192",
         "lon": [
          -82.413225
         ],
         "marker": {
          "color": "#ab63fa",
          "size": [
           2500
          ],
          "sizemode": "area",
          "sizeref": 347.5
         },
         "mode": "markers",
         "name": "University 192",
         "showlegend": true,
         "subplot": "mapbox",
         "type": "scattermapbox"
        },
        {
         "hovertemplate": "Customers=University 193<br>Invoice Amount=%{marker.size}<br>Lat=%{lat}<br>Long=%{lon}<extra></extra>",
         "lat": [
          0
         ],
         "legendgroup": "University 193",
         "lon": [
          0
         ],
         "marker": {
          "color": "#FFA15A",
          "size": [
           250
          ],
          "sizemode": "area",
          "sizeref": 347.5
         },
         "mode": "markers",
         "name": "University 193",
         "showlegend": true,
         "subplot": "mapbox",
         "type": "scattermapbox"
        },
        {
         "hovertemplate": "Customers=University 194<br>Invoice Amount=%{marker.size}<br>Lat=%{lat}<br>Long=%{lon}<extra></extra>",
         "lat": [
          0
         ],
         "legendgroup": "University 194",
         "lon": [
          0
         ],
         "marker": {
          "color": "#19d3f3",
          "size": [
           687
          ],
          "sizemode": "area",
          "sizeref": 347.5
         },
         "mode": "markers",
         "name": "University 194",
         "showlegend": true,
         "subplot": "mapbox",
         "type": "scattermapbox"
        },
        {
         "hovertemplate": "Customers=University 195<br>Invoice Amount=%{marker.size}<br>Lat=%{lat}<br>Long=%{lon}<extra></extra>",
         "lat": [
          56.124
         ],
         "legendgroup": "University 195",
         "lon": [
          -164.82645
         ],
         "marker": {
          "color": "#FF6692",
          "size": [
           3135
          ],
          "sizemode": "area",
          "sizeref": 347.5
         },
         "mode": "markers",
         "name": "University 195",
         "showlegend": true,
         "subplot": "mapbox",
         "type": "scattermapbox"
        },
        {
         "hovertemplate": "Customers=University 196<br>Invoice Amount=%{marker.size}<br>Lat=%{lat}<br>Long=%{lon}<extra></extra>",
         "lat": [
          107.52311700000001
         ],
         "legendgroup": "University 196",
         "lon": [
          -272.02680599999997
         ],
         "marker": {
          "color": "#B6E880",
          "size": [
           2640
          ],
          "sizemode": "area",
          "sizeref": 347.5
         },
         "mode": "markers",
         "name": "University 196",
         "showlegend": true,
         "subplot": "mapbox",
         "type": "scattermapbox"
        },
        {
         "hovertemplate": "Customers=University 197<br>Invoice Amount=%{marker.size}<br>Lat=%{lat}<br>Long=%{lon}<extra></extra>",
         "lat": [
          67.8963
         ],
         "legendgroup": "University 197",
         "lon": [
          -172.94552
         ],
         "marker": {
          "color": "#FF97FF",
          "size": [
           2955
          ],
          "sizemode": "area",
          "sizeref": 347.5
         },
         "mode": "markers",
         "name": "University 197",
         "showlegend": true,
         "subplot": "mapbox",
         "type": "scattermapbox"
        },
        {
         "hovertemplate": "Customers=University 198<br>Invoice Amount=%{marker.size}<br>Lat=%{lat}<br>Long=%{lon}<extra></extra>",
         "lat": [
          77.089912
         ],
         "legendgroup": "University 198",
         "lon": [
          -243.492318
         ],
         "marker": {
          "color": "#FECB52",
          "size": [
           1682
          ],
          "sizemode": "area",
          "sizeref": 347.5
         },
         "mode": "markers",
         "name": "University 198",
         "showlegend": true,
         "subplot": "mapbox",
         "type": "scattermapbox"
        },
        {
         "hovertemplate": "Customers=University 199<br>Invoice Amount=%{marker.size}<br>Lat=%{lat}<br>Long=%{lon}<extra></extra>",
         "lat": [
          43.94193
         ],
         "legendgroup": "University 199",
         "lon": [
          -319.429014
         ],
         "marker": {
          "color": "#636efa",
          "size": [
           3455
          ],
          "sizemode": "area",
          "sizeref": 347.5
         },
         "mode": "markers",
         "name": "University 199",
         "showlegend": true,
         "subplot": "mapbox",
         "type": "scattermapbox"
        },
        {
         "hovertemplate": "Customers=University 2<br>Invoice Amount=%{marker.size}<br>Lat=%{lat}<br>Long=%{lon}<extra></extra>",
         "lat": [
          186.859905
         ],
         "legendgroup": "University 2",
         "lon": [
          -469.895392
         ],
         "marker": {
          "color": "#EF553B",
          "size": [
           12500
          ],
          "sizemode": "area",
          "sizeref": 347.5
         },
         "mode": "markers",
         "name": "University 2",
         "showlegend": true,
         "subplot": "mapbox",
         "type": "scattermapbox"
        },
        {
         "hovertemplate": "Customers=University 20<br>Invoice Amount=%{marker.size}<br>Lat=%{lat}<br>Long=%{lon}<extra></extra>",
         "lat": [
          41.331619
         ],
         "legendgroup": "University 20",
         "lon": [
          -72.946852
         ],
         "marker": {
          "color": "#00cc96",
          "size": [
           16800
          ],
          "sizemode": "area",
          "sizeref": 347.5
         },
         "mode": "markers",
         "name": "University 20",
         "showlegend": true,
         "subplot": "mapbox",
         "type": "scattermapbox"
        },
        {
         "hovertemplate": "Customers=University 200<br>Invoice Amount=%{marker.size}<br>Lat=%{lat}<br>Long=%{lon}<extra></extra>",
         "lat": [
          71.682078
         ],
         "legendgroup": "University 200",
         "lon": [
          -181.351204
         ],
         "marker": {
          "color": "#ab63fa",
          "size": [
           7575
          ],
          "sizemode": "area",
          "sizeref": 347.5
         },
         "mode": "markers",
         "name": "University 200",
         "showlegend": true,
         "subplot": "mapbox",
         "type": "scattermapbox"
        },
        {
         "hovertemplate": "Customers=University 201<br>Invoice Amount=%{marker.size}<br>Lat=%{lat}<br>Long=%{lon}<extra></extra>",
         "lat": [
          39.99788
         ],
         "legendgroup": "University 201",
         "lon": [
          -76.35413
         ],
         "marker": {
          "color": "#FFA15A",
          "size": [
           1666
          ],
          "sizemode": "area",
          "sizeref": 347.5
         },
         "mode": "markers",
         "name": "University 201",
         "showlegend": true,
         "subplot": "mapbox",
         "type": "scattermapbox"
        },
        {
         "hovertemplate": "Customers=University 202<br>Invoice Amount=%{marker.size}<br>Lat=%{lat}<br>Long=%{lon}<extra></extra>",
         "lat": [
          56.124
         ],
         "legendgroup": "University 202",
         "lon": [
          -164.82645
         ],
         "marker": {
          "color": "#19d3f3",
          "size": [
           6625
          ],
          "sizemode": "area",
          "sizeref": 347.5
         },
         "mode": "markers",
         "name": "University 202",
         "showlegend": true,
         "subplot": "mapbox",
         "type": "scattermapbox"
        },
        {
         "hovertemplate": "Customers=University 203<br>Invoice Amount=%{marker.size}<br>Lat=%{lat}<br>Long=%{lon}<extra></extra>",
         "lat": [
          43.223303
         ],
         "legendgroup": "University 203",
         "lon": [
          -77.917335
         ],
         "marker": {
          "color": "#FF6692",
          "size": [
           750
          ],
          "sizemode": "area",
          "sizeref": 347.5
         },
         "mode": "markers",
         "name": "University 203",
         "showlegend": true,
         "subplot": "mapbox",
         "type": "scattermapbox"
        },
        {
         "hovertemplate": "Customers=University 204<br>Invoice Amount=%{marker.size}<br>Lat=%{lat}<br>Long=%{lon}<extra></extra>",
         "lat": [
          56.124
         ],
         "legendgroup": "University 204",
         "lon": [
          -164.82645
         ],
         "marker": {
          "color": "#B6E880",
          "size": [
           3125
          ],
          "sizemode": "area",
          "sizeref": 347.5
         },
         "mode": "markers",
         "name": "University 204",
         "showlegend": true,
         "subplot": "mapbox",
         "type": "scattermapbox"
        },
        {
         "hovertemplate": "Customers=University 205<br>Invoice Amount=%{marker.size}<br>Lat=%{lat}<br>Long=%{lon}<extra></extra>",
         "lat": [
          0
         ],
         "legendgroup": "University 205",
         "lon": [
          0
         ],
         "marker": {
          "color": "#FF97FF",
          "size": [
           2625
          ],
          "sizemode": "area",
          "sizeref": 347.5
         },
         "mode": "markers",
         "name": "University 205",
         "showlegend": true,
         "subplot": "mapbox",
         "type": "scattermapbox"
        },
        {
         "hovertemplate": "Customers=University 206<br>Invoice Amount=%{marker.size}<br>Lat=%{lat}<br>Long=%{lon}<extra></extra>",
         "lat": [
          56.124
         ],
         "legendgroup": "University 206",
         "lon": [
          -164.82645
         ],
         "marker": {
          "color": "#FECB52",
          "size": [
           3000
          ],
          "sizemode": "area",
          "sizeref": 347.5
         },
         "mode": "markers",
         "name": "University 206",
         "showlegend": true,
         "subplot": "mapbox",
         "type": "scattermapbox"
        },
        {
         "hovertemplate": "Customers=University 207<br>Invoice Amount=%{marker.size}<br>Lat=%{lat}<br>Long=%{lon}<extra></extra>",
         "lat": [
          83.77062
         ],
         "legendgroup": "University 207",
         "lon": [
          -175.24426
         ],
         "marker": {
          "color": "#636efa",
          "size": [
           1875
          ],
          "sizemode": "area",
          "sizeref": 347.5
         },
         "mode": "markers",
         "name": "University 207",
         "showlegend": true,
         "subplot": "mapbox",
         "type": "scattermapbox"
        },
        {
         "hovertemplate": "Customers=University 208<br>Invoice Amount=%{marker.size}<br>Lat=%{lat}<br>Long=%{lon}<extra></extra>",
         "lat": [
          56.124
         ],
         "legendgroup": "University 208",
         "lon": [
          -164.82645
         ],
         "marker": {
          "color": "#EF553B",
          "size": [
           4125
          ],
          "sizemode": "area",
          "sizeref": 347.5
         },
         "mode": "markers",
         "name": "University 208",
         "showlegend": true,
         "subplot": "mapbox",
         "type": "scattermapbox"
        },
        {
         "hovertemplate": "Customers=University 209<br>Invoice Amount=%{marker.size}<br>Lat=%{lat}<br>Long=%{lon}<extra></extra>",
         "lat": [
          39.537043
         ],
         "legendgroup": "University 209",
         "lon": [
          -77.76388299999998
         ],
         "marker": {
          "color": "#00cc96",
          "size": [
           1900
          ],
          "sizemode": "area",
          "sizeref": 347.5
         },
         "mode": "markers",
         "name": "University 209",
         "showlegend": true,
         "subplot": "mapbox",
         "type": "scattermapbox"
        },
        {
         "hovertemplate": "Customers=University 21<br>Invoice Amount=%{marker.size}<br>Lat=%{lat}<br>Long=%{lon}<extra></extra>",
         "lat": [
          39.709696
         ],
         "legendgroup": "University 21",
         "lon": [
          -75.120704
         ],
         "marker": {
          "color": "#ab63fa",
          "size": [
           750
          ],
          "sizemode": "area",
          "sizeref": 347.5
         },
         "mode": "markers",
         "name": "University 21",
         "showlegend": true,
         "subplot": "mapbox",
         "type": "scattermapbox"
        },
        {
         "hovertemplate": "Customers=University 210<br>Invoice Amount=%{marker.size}<br>Lat=%{lat}<br>Long=%{lon}<extra></extra>",
         "lat": [
          28.062
         ],
         "legendgroup": "University 210",
         "lon": [
          -82.413225
         ],
         "marker": {
          "color": "#FFA15A",
          "size": [
           750
          ],
          "sizemode": "area",
          "sizeref": 347.5
         },
         "mode": "markers",
         "name": "University 210",
         "showlegend": true,
         "subplot": "mapbox",
         "type": "scattermapbox"
        },
        {
         "hovertemplate": "Customers=University 211<br>Invoice Amount=%{marker.size}<br>Lat=%{lat}<br>Long=%{lon}<extra></extra>",
         "lat": [
          0
         ],
         "legendgroup": "University 211",
         "lon": [
          0
         ],
         "marker": {
          "color": "#19d3f3",
          "size": [
           4200
          ],
          "sizemode": "area",
          "sizeref": 347.5
         },
         "mode": "markers",
         "name": "University 211",
         "showlegend": true,
         "subplot": "mapbox",
         "type": "scattermapbox"
        },
        {
         "hovertemplate": "Customers=University 212<br>Invoice Amount=%{marker.size}<br>Lat=%{lat}<br>Long=%{lon}<extra></extra>",
         "lat": [
          0
         ],
         "legendgroup": "University 212",
         "lon": [
          0
         ],
         "marker": {
          "color": "#FF6692",
          "size": [
           4600
          ],
          "sizemode": "area",
          "sizeref": 347.5
         },
         "mode": "markers",
         "name": "University 212",
         "showlegend": true,
         "subplot": "mapbox",
         "type": "scattermapbox"
        },
        {
         "hovertemplate": "Customers=University 213<br>Invoice Amount=%{marker.size}<br>Lat=%{lat}<br>Long=%{lon}<extra></extra>",
         "lat": [
          84.186
         ],
         "legendgroup": "University 213",
         "lon": [
          -247.23967499999998
         ],
         "marker": {
          "color": "#B6E880",
          "size": [
           18625
          ],
          "sizemode": "area",
          "sizeref": 347.5
         },
         "mode": "markers",
         "name": "University 213",
         "showlegend": true,
         "subplot": "mapbox",
         "type": "scattermapbox"
        },
        {
         "hovertemplate": "Customers=University 214<br>Invoice Amount=%{marker.size}<br>Lat=%{lat}<br>Long=%{lon}<extra></extra>",
         "lat": [
          0
         ],
         "legendgroup": "University 214",
         "lon": [
          0
         ],
         "marker": {
          "color": "#FF97FF",
          "size": [
           3810
          ],
          "sizemode": "area",
          "sizeref": 347.5
         },
         "mode": "markers",
         "name": "University 214",
         "showlegend": true,
         "subplot": "mapbox",
         "type": "scattermapbox"
        },
        {
         "hovertemplate": "Customers=University 215<br>Invoice Amount=%{marker.size}<br>Lat=%{lat}<br>Long=%{lon}<extra></extra>",
         "lat": [
          28.062
         ],
         "legendgroup": "University 215",
         "lon": [
          -82.413225
         ],
         "marker": {
          "color": "#FECB52",
          "size": [
           625
          ],
          "sizemode": "area",
          "sizeref": 347.5
         },
         "mode": "markers",
         "name": "University 215",
         "showlegend": true,
         "subplot": "mapbox",
         "type": "scattermapbox"
        },
        {
         "hovertemplate": "Customers=University 216<br>Invoice Amount=%{marker.size}<br>Lat=%{lat}<br>Long=%{lon}<extra></extra>",
         "lat": [
          84.186
         ],
         "legendgroup": "University 216",
         "lon": [
          -247.23967499999998
         ],
         "marker": {
          "color": "#636efa",
          "size": [
           9617.8
          ],
          "sizemode": "area",
          "sizeref": 347.5
         },
         "mode": "markers",
         "name": "University 216",
         "showlegend": true,
         "subplot": "mapbox",
         "type": "scattermapbox"
        },
        {
         "hovertemplate": "Customers=University 217<br>Invoice Amount=%{marker.size}<br>Lat=%{lat}<br>Long=%{lon}<extra></extra>",
         "lat": [
          163.34956
         ],
         "legendgroup": "University 217",
         "lon": [
          -295.6937200000001
         ],
         "marker": {
          "color": "#EF553B",
          "size": [
           3045
          ],
          "sizemode": "area",
          "sizeref": 347.5
         },
         "mode": "markers",
         "name": "University 217",
         "showlegend": true,
         "subplot": "mapbox",
         "type": "scattermapbox"
        },
        {
         "hovertemplate": "Customers=University 218<br>Invoice Amount=%{marker.size}<br>Lat=%{lat}<br>Long=%{lon}<extra></extra>",
         "lat": [
          89.021328
         ],
         "legendgroup": "University 218",
         "lon": [
          -179.276508
         ],
         "marker": {
          "color": "#00cc96",
          "size": [
           4750
          ],
          "sizemode": "area",
          "sizeref": 347.5
         },
         "mode": "markers",
         "name": "University 218",
         "showlegend": true,
         "subplot": "mapbox",
         "type": "scattermapbox"
        },
        {
         "hovertemplate": "Customers=University 219<br>Invoice Amount=%{marker.size}<br>Lat=%{lat}<br>Long=%{lon}<extra></extra>",
         "lat": [
          42.074129
         ],
         "legendgroup": "University 219",
         "lon": [
          -80.072888
         ],
         "marker": {
          "color": "#ab63fa",
          "size": [
           150
          ],
          "sizemode": "area",
          "sizeref": 347.5
         },
         "mode": "markers",
         "name": "University 219",
         "showlegend": true,
         "subplot": "mapbox",
         "type": "scattermapbox"
        },
        {
         "hovertemplate": "Customers=University 22<br>Invoice Amount=%{marker.size}<br>Lat=%{lat}<br>Long=%{lon}<extra></extra>",
         "lat": [
          41.5028
         ],
         "legendgroup": "University 22",
         "lon": [
          -87.68429300000003
         ],
         "marker": {
          "color": "#FFA15A",
          "size": [
           3500
          ],
          "sizemode": "area",
          "sizeref": 347.5
         },
         "mode": "markers",
         "name": "University 22",
         "showlegend": true,
         "subplot": "mapbox",
         "type": "scattermapbox"
        },
        {
         "hovertemplate": "Customers=University 220<br>Invoice Amount=%{marker.size}<br>Lat=%{lat}<br>Long=%{lon}<extra></extra>",
         "lat": [
          37.57557
         ],
         "legendgroup": "University 220",
         "lon": [
          -77.53823
         ],
         "marker": {
          "color": "#19d3f3",
          "size": [
           1700
          ],
          "sizemode": "area",
          "sizeref": 347.5
         },
         "mode": "markers",
         "name": "University 220",
         "showlegend": true,
         "subplot": "mapbox",
         "type": "scattermapbox"
        },
        {
         "hovertemplate": "Customers=University 221<br>Invoice Amount=%{marker.size}<br>Lat=%{lat}<br>Long=%{lon}<extra></extra>",
         "lat": [
          32.941519
         ],
         "legendgroup": "University 221",
         "lon": [
          -89.192566
         ],
         "marker": {
          "color": "#FF6692",
          "size": [
           450
          ],
          "sizemode": "area",
          "sizeref": 347.5
         },
         "mode": "markers",
         "name": "University 221",
         "showlegend": true,
         "subplot": "mapbox",
         "type": "scattermapbox"
        },
        {
         "hovertemplate": "Customers=University 222<br>Invoice Amount=%{marker.size}<br>Lat=%{lat}<br>Long=%{lon}<extra></extra>",
         "lat": [
          0
         ],
         "legendgroup": "University 222",
         "lon": [
          0
         ],
         "marker": {
          "color": "#B6E880",
          "size": [
           5000
          ],
          "sizemode": "area",
          "sizeref": 347.5
         },
         "mode": "markers",
         "name": "University 222",
         "showlegend": true,
         "subplot": "mapbox",
         "type": "scattermapbox"
        },
        {
         "hovertemplate": "Customers=University 223<br>Invoice Amount=%{marker.size}<br>Lat=%{lat}<br>Long=%{lon}<extra></extra>",
         "lat": [
          82.294168
         ],
         "legendgroup": "University 223",
         "lon": [
          -193.046022
         ],
         "marker": {
          "color": "#FF97FF",
          "size": [
           1750
          ],
          "sizemode": "area",
          "sizeref": 347.5
         },
         "mode": "markers",
         "name": "University 223",
         "showlegend": true,
         "subplot": "mapbox",
         "type": "scattermapbox"
        },
        {
         "hovertemplate": "Customers=University 224<br>Invoice Amount=%{marker.size}<br>Lat=%{lat}<br>Long=%{lon}<extra></extra>",
         "lat": [
          75.450204
         ],
         "legendgroup": "University 224",
         "lon": [
          -244.826904
         ],
         "marker": {
          "color": "#FECB52",
          "size": [
           3600
          ],
          "sizemode": "area",
          "sizeref": 347.5
         },
         "mode": "markers",
         "name": "University 224",
         "showlegend": true,
         "subplot": "mapbox",
         "type": "scattermapbox"
        },
        {
         "hovertemplate": "Customers=University 225<br>Invoice Amount=%{marker.size}<br>Lat=%{lat}<br>Long=%{lon}<extra></extra>",
         "lat": [
          35.180557
         ],
         "legendgroup": "University 225",
         "lon": [
          -80.870862
         ],
         "marker": {
          "color": "#636efa",
          "size": [
           5250
          ],
          "sizemode": "area",
          "sizeref": 347.5
         },
         "mode": "markers",
         "name": "University 225",
         "showlegend": true,
         "subplot": "mapbox",
         "type": "scattermapbox"
        },
        {
         "hovertemplate": "Customers=University 226<br>Invoice Amount=%{marker.size}<br>Lat=%{lat}<br>Long=%{lon}<extra></extra>",
         "lat": [
          65.20484
         ],
         "legendgroup": "University 226",
         "lon": [
          -170.974682
         ],
         "marker": {
          "color": "#EF553B",
          "size": [
           2827
          ],
          "sizemode": "area",
          "sizeref": 347.5
         },
         "mode": "markers",
         "name": "University 226",
         "showlegend": true,
         "subplot": "mapbox",
         "type": "scattermapbox"
        },
        {
         "hovertemplate": "Customers=University 227<br>Invoice Amount=%{marker.size}<br>Lat=%{lat}<br>Long=%{lon}<extra></extra>",
         "lat": [
          71.682078
         ],
         "legendgroup": "University 227",
         "lon": [
          -181.351204
         ],
         "marker": {
          "color": "#00cc96",
          "size": [
           4000
          ],
          "sizemode": "area",
          "sizeref": 347.5
         },
         "mode": "markers",
         "name": "University 227",
         "showlegend": true,
         "subplot": "mapbox",
         "type": "scattermapbox"
        },
        {
         "hovertemplate": "Customers=University 228<br>Invoice Amount=%{marker.size}<br>Lat=%{lat}<br>Long=%{lon}<extra></extra>",
         "lat": [
          32.381605
         ],
         "legendgroup": "University 228",
         "lon": [
          -88.663489
         ],
         "marker": {
          "color": "#ab63fa",
          "size": [
           500
          ],
          "sizemode": "area",
          "sizeref": 347.5
         },
         "mode": "markers",
         "name": "University 228",
         "showlegend": true,
         "subplot": "mapbox",
         "type": "scattermapbox"
        },
        {
         "hovertemplate": "Customers=University 229<br>Invoice Amount=%{marker.size}<br>Lat=%{lat}<br>Long=%{lon}<extra></extra>",
         "lat": [
          0
         ],
         "legendgroup": "University 229",
         "lon": [
          0
         ],
         "marker": {
          "color": "#FFA15A",
          "size": [
           625
          ],
          "sizemode": "area",
          "sizeref": 347.5
         },
         "mode": "markers",
         "name": "University 229",
         "showlegend": true,
         "subplot": "mapbox",
         "type": "scattermapbox"
        },
        {
         "hovertemplate": "Customers=University 23<br>Invoice Amount=%{marker.size}<br>Lat=%{lat}<br>Long=%{lon}<extra></extra>",
         "lat": [
          39.088975
         ],
         "legendgroup": "University 23",
         "lon": [
          -94.58516
         ],
         "marker": {
          "color": "#19d3f3",
          "size": [
           750
          ],
          "sizemode": "area",
          "sizeref": 347.5
         },
         "mode": "markers",
         "name": "University 23",
         "showlegend": true,
         "subplot": "mapbox",
         "type": "scattermapbox"
        },
        {
         "hovertemplate": "Customers=University 230<br>Invoice Amount=%{marker.size}<br>Lat=%{lat}<br>Long=%{lon}<extra></extra>",
         "lat": [
          0
         ],
         "legendgroup": "University 230",
         "lon": [
          0
         ],
         "marker": {
          "color": "#FF6692",
          "size": [
           2500
          ],
          "sizemode": "area",
          "sizeref": 347.5
         },
         "mode": "markers",
         "name": "University 230",
         "showlegend": true,
         "subplot": "mapbox",
         "type": "scattermapbox"
        },
        {
         "hovertemplate": "Customers=University 231<br>Invoice Amount=%{marker.size}<br>Lat=%{lat}<br>Long=%{lon}<extra></extra>",
         "lat": [
          29.543813
         ],
         "legendgroup": "University 231",
         "lon": [
          -98.295356
         ],
         "marker": {
          "color": "#B6E880",
          "size": [
           21500
          ],
          "sizemode": "area",
          "sizeref": 347.5
         },
         "mode": "markers",
         "name": "University 231",
         "showlegend": true,
         "subplot": "mapbox",
         "type": "scattermapbox"
        },
        {
         "hovertemplate": "Customers=University 232<br>Invoice Amount=%{marker.size}<br>Lat=%{lat}<br>Long=%{lon}<extra></extra>",
         "lat": [
          84.186
         ],
         "legendgroup": "University 232",
         "lon": [
          -247.23967499999998
         ],
         "marker": {
          "color": "#FF97FF",
          "size": [
           3100
          ],
          "sizemode": "area",
          "sizeref": 347.5
         },
         "mode": "markers",
         "name": "University 232",
         "showlegend": true,
         "subplot": "mapbox",
         "type": "scattermapbox"
        },
        {
         "hovertemplate": "Customers=University 233<br>Invoice Amount=%{marker.size}<br>Lat=%{lat}<br>Long=%{lon}<extra></extra>",
         "lat": [
          0
         ],
         "legendgroup": "University 233",
         "lon": [
          0
         ],
         "marker": {
          "color": "#FECB52",
          "size": [
           10500
          ],
          "sizemode": "area",
          "sizeref": 347.5
         },
         "mode": "markers",
         "name": "University 233",
         "showlegend": true,
         "subplot": "mapbox",
         "type": "scattermapbox"
        },
        {
         "hovertemplate": "Customers=University 234<br>Invoice Amount=%{marker.size}<br>Lat=%{lat}<br>Long=%{lon}<extra></extra>",
         "lat": [
          38.544956
         ],
         "legendgroup": "University 234",
         "lon": [
          -121.746159
         ],
         "marker": {
          "color": "#636efa",
          "size": [
           2882
          ],
          "sizemode": "area",
          "sizeref": 347.5
         },
         "mode": "markers",
         "name": "University 234",
         "showlegend": true,
         "subplot": "mapbox",
         "type": "scattermapbox"
        },
        {
         "hovertemplate": "Customers=University 235<br>Invoice Amount=%{marker.size}<br>Lat=%{lat}<br>Long=%{lon}<extra></extra>",
         "lat": [
          41.650261
         ],
         "legendgroup": "University 235",
         "lon": [
          -74.700396
         ],
         "marker": {
          "color": "#EF553B",
          "size": [
           1000
          ],
          "sizemode": "area",
          "sizeref": 347.5
         },
         "mode": "markers",
         "name": "University 235",
         "showlegend": true,
         "subplot": "mapbox",
         "type": "scattermapbox"
        },
        {
         "hovertemplate": "Customers=University 236<br>Invoice Amount=%{marker.size}<br>Lat=%{lat}<br>Long=%{lon}<extra></extra>",
         "lat": [
          28.062
         ],
         "legendgroup": "University 236",
         "lon": [
          -82.413225
         ],
         "marker": {
          "color": "#00cc96",
          "size": [
           1900
          ],
          "sizemode": "area",
          "sizeref": 347.5
         },
         "mode": "markers",
         "name": "University 236",
         "showlegend": true,
         "subplot": "mapbox",
         "type": "scattermapbox"
        },
        {
         "hovertemplate": "Customers=University 237<br>Invoice Amount=%{marker.size}<br>Lat=%{lat}<br>Long=%{lon}<extra></extra>",
         "lat": [
          61.18117
         ],
         "legendgroup": "University 237",
         "lon": [
          -182.34057
         ],
         "marker": {
          "color": "#ab63fa",
          "size": [
           7000
          ],
          "sizemode": "area",
          "sizeref": 347.5
         },
         "mode": "markers",
         "name": "University 237",
         "showlegend": true,
         "subplot": "mapbox",
         "type": "scattermapbox"
        },
        {
         "hovertemplate": "Customers=University 238<br>Invoice Amount=%{marker.size}<br>Lat=%{lat}<br>Long=%{lon}<extra></extra>",
         "lat": [
          0
         ],
         "legendgroup": "University 238",
         "lon": [
          0
         ],
         "marker": {
          "color": "#FFA15A",
          "size": [
           4800
          ],
          "sizemode": "area",
          "sizeref": 347.5
         },
         "mode": "markers",
         "name": "University 238",
         "showlegend": true,
         "subplot": "mapbox",
         "type": "scattermapbox"
        },
        {
         "hovertemplate": "Customers=University 239<br>Invoice Amount=%{marker.size}<br>Lat=%{lat}<br>Long=%{lon}<extra></extra>",
         "lat": [
          28.062
         ],
         "legendgroup": "University 239",
         "lon": [
          -82.413225
         ],
         "marker": {
          "color": "#19d3f3",
          "size": [
           4500
          ],
          "sizemode": "area",
          "sizeref": 347.5
         },
         "mode": "markers",
         "name": "University 239",
         "showlegend": true,
         "subplot": "mapbox",
         "type": "scattermapbox"
        },
        {
         "hovertemplate": "Customers=University 24<br>Invoice Amount=%{marker.size}<br>Lat=%{lat}<br>Long=%{lon}<extra></extra>",
         "lat": [
          38.188827
         ],
         "legendgroup": "University 24",
         "lon": [
          -76.42549
         ],
         "marker": {
          "color": "#FF6692",
          "size": [
           750
          ],
          "sizemode": "area",
          "sizeref": 347.5
         },
         "mode": "markers",
         "name": "University 24",
         "showlegend": true,
         "subplot": "mapbox",
         "type": "scattermapbox"
        },
        {
         "hovertemplate": "Customers=University 240<br>Invoice Amount=%{marker.size}<br>Lat=%{lat}<br>Long=%{lon}<extra></extra>",
         "lat": [
          90.816346
         ],
         "legendgroup": "University 240",
         "lon": [
          -245.844646
         ],
         "marker": {
          "color": "#B6E880",
          "size": [
           4658
          ],
          "sizemode": "area",
          "sizeref": 347.5
         },
         "mode": "markers",
         "name": "University 240",
         "showlegend": true,
         "subplot": "mapbox",
         "type": "scattermapbox"
        },
        {
         "hovertemplate": "Customers=University 241<br>Invoice Amount=%{marker.size}<br>Lat=%{lat}<br>Long=%{lon}<extra></extra>",
         "lat": [
          0
         ],
         "legendgroup": "University 241",
         "lon": [
          0
         ],
         "marker": {
          "color": "#FF97FF",
          "size": [
           5252
          ],
          "sizemode": "area",
          "sizeref": 347.5
         },
         "mode": "markers",
         "name": "University 241",
         "showlegend": true,
         "subplot": "mapbox",
         "type": "scattermapbox"
        },
        {
         "hovertemplate": "Customers=University 242<br>Invoice Amount=%{marker.size}<br>Lat=%{lat}<br>Long=%{lon}<extra></extra>",
         "lat": [
          34.365411
         ],
         "legendgroup": "University 242",
         "lon": [
          -89.53718
         ],
         "marker": {
          "color": "#FECB52",
          "size": [
           2000
          ],
          "sizemode": "area",
          "sizeref": 347.5
         },
         "mode": "markers",
         "name": "University 242",
         "showlegend": true,
         "subplot": "mapbox",
         "type": "scattermapbox"
        },
        {
         "hovertemplate": "Customers=University 243<br>Invoice Amount=%{marker.size}<br>Lat=%{lat}<br>Long=%{lon}<extra></extra>",
         "lat": [
          0
         ],
         "legendgroup": "University 243",
         "lon": [
          0
         ],
         "marker": {
          "color": "#636efa",
          "size": [
           1800
          ],
          "sizemode": "area",
          "sizeref": 347.5
         },
         "mode": "markers",
         "name": "University 243",
         "showlegend": true,
         "subplot": "mapbox",
         "type": "scattermapbox"
        },
        {
         "hovertemplate": "Customers=University 244<br>Invoice Amount=%{marker.size}<br>Lat=%{lat}<br>Long=%{lon}<extra></extra>",
         "lat": [
          0
         ],
         "legendgroup": "University 244",
         "lon": [
          0
         ],
         "marker": {
          "color": "#EF553B",
          "size": [
           3000
          ],
          "sizemode": "area",
          "sizeref": 347.5
         },
         "mode": "markers",
         "name": "University 244",
         "showlegend": true,
         "subplot": "mapbox",
         "type": "scattermapbox"
        },
        {
         "hovertemplate": "Customers=University 245<br>Invoice Amount=%{marker.size}<br>Lat=%{lat}<br>Long=%{lon}<extra></extra>",
         "lat": [
          45.408173
         ],
         "legendgroup": "University 245",
         "lon": [
          -122.922323
         ],
         "marker": {
          "color": "#00cc96",
          "size": [
           5500
          ],
          "sizemode": "area",
          "sizeref": 347.5
         },
         "mode": "markers",
         "name": "University 245",
         "showlegend": true,
         "subplot": "mapbox",
         "type": "scattermapbox"
        },
        {
         "hovertemplate": "Customers=University 246<br>Invoice Amount=%{marker.size}<br>Lat=%{lat}<br>Long=%{lon}<extra></extra>",
         "lat": [
          0
         ],
         "legendgroup": "University 246",
         "lon": [
          0
         ],
         "marker": {
          "color": "#ab63fa",
          "size": [
           625
          ],
          "sizemode": "area",
          "sizeref": 347.5
         },
         "mode": "markers",
         "name": "University 246",
         "showlegend": true,
         "subplot": "mapbox",
         "type": "scattermapbox"
        },
        {
         "hovertemplate": "Customers=University 247<br>Invoice Amount=%{marker.size}<br>Lat=%{lat}<br>Long=%{lon}<extra></extra>",
         "lat": [
          28.062
         ],
         "legendgroup": "University 247",
         "lon": [
          -82.413225
         ],
         "marker": {
          "color": "#FFA15A",
          "size": [
           1000
          ],
          "sizemode": "area",
          "sizeref": 347.5
         },
         "mode": "markers",
         "name": "University 247",
         "showlegend": true,
         "subplot": "mapbox",
         "type": "scattermapbox"
        },
        {
         "hovertemplate": "Customers=University 248<br>Invoice Amount=%{marker.size}<br>Lat=%{lat}<br>Long=%{lon}<extra></extra>",
         "lat": [
          28.062
         ],
         "legendgroup": "University 248",
         "lon": [
          -82.413225
         ],
         "marker": {
          "color": "#19d3f3",
          "size": [
           160
          ],
          "sizemode": "area",
          "sizeref": 347.5
         },
         "mode": "markers",
         "name": "University 248",
         "showlegend": true,
         "subplot": "mapbox",
         "type": "scattermapbox"
        },
        {
         "hovertemplate": "Customers=University 249<br>Invoice Amount=%{marker.size}<br>Lat=%{lat}<br>Long=%{lon}<extra></extra>",
         "lat": [
          34.073692
         ],
         "legendgroup": "University 249",
         "lon": [
          -117.76523
         ],
         "marker": {
          "color": "#FF6692",
          "size": [
           1029
          ],
          "sizemode": "area",
          "sizeref": 347.5
         },
         "mode": "markers",
         "name": "University 249",
         "showlegend": true,
         "subplot": "mapbox",
         "type": "scattermapbox"
        },
        {
         "hovertemplate": "Customers=University 25<br>Invoice Amount=%{marker.size}<br>Lat=%{lat}<br>Long=%{lon}<extra></extra>",
         "lat": [
          95.936424
         ],
         "legendgroup": "University 25",
         "lon": [
          -243.48893400000009
         ],
         "marker": {
          "color": "#B6E880",
          "size": [
           7350
          ],
          "sizemode": "area",
          "sizeref": 347.5
         },
         "mode": "markers",
         "name": "University 25",
         "showlegend": true,
         "subplot": "mapbox",
         "type": "scattermapbox"
        },
        {
         "hovertemplate": "Customers=University 250<br>Invoice Amount=%{marker.size}<br>Lat=%{lat}<br>Long=%{lon}<extra></extra>",
         "lat": [
          28.062
         ],
         "legendgroup": "University 250",
         "lon": [
          -82.413225
         ],
         "marker": {
          "color": "#FF97FF",
          "size": [
           4500
          ],
          "sizemode": "area",
          "sizeref": 347.5
         },
         "mode": "markers",
         "name": "University 250",
         "showlegend": true,
         "subplot": "mapbox",
         "type": "scattermapbox"
        },
        {
         "hovertemplate": "Customers=University 251<br>Invoice Amount=%{marker.size}<br>Lat=%{lat}<br>Long=%{lon}<extra></extra>",
         "lat": [
          36.03233400000001
         ],
         "legendgroup": "University 251",
         "lon": [
          -83.884804
         ],
         "marker": {
          "color": "#FECB52",
          "size": [
           3500
          ],
          "sizemode": "area",
          "sizeref": 347.5
         },
         "mode": "markers",
         "name": "University 251",
         "showlegend": true,
         "subplot": "mapbox",
         "type": "scattermapbox"
        },
        {
         "hovertemplate": "Customers=University 252<br>Invoice Amount=%{marker.size}<br>Lat=%{lat}<br>Long=%{lon}<extra></extra>",
         "lat": [
          56.124
         ],
         "legendgroup": "University 252",
         "lon": [
          -164.82645
         ],
         "marker": {
          "color": "#636efa",
          "size": [
           3200
          ],
          "sizemode": "area",
          "sizeref": 347.5
         },
         "mode": "markers",
         "name": "University 252",
         "showlegend": true,
         "subplot": "mapbox",
         "type": "scattermapbox"
        },
        {
         "hovertemplate": "Customers=University 253<br>Invoice Amount=%{marker.size}<br>Lat=%{lat}<br>Long=%{lon}<extra></extra>",
         "lat": [
          28.062
         ],
         "legendgroup": "University 253",
         "lon": [
          -82.413225
         ],
         "marker": {
          "color": "#EF553B",
          "size": [
           540.33
          ],
          "sizemode": "area",
          "sizeref": 347.5
         },
         "mode": "markers",
         "name": "University 253",
         "showlegend": true,
         "subplot": "mapbox",
         "type": "scattermapbox"
        },
        {
         "hovertemplate": "Customers=University 254<br>Invoice Amount=%{marker.size}<br>Lat=%{lat}<br>Long=%{lon}<extra></extra>",
         "lat": [
          42.96986500000001
         ],
         "legendgroup": "University 254",
         "lon": [
          -87.87373199999998
         ],
         "marker": {
          "color": "#00cc96",
          "size": [
           2500
          ],
          "sizemode": "area",
          "sizeref": 347.5
         },
         "mode": "markers",
         "name": "University 254",
         "showlegend": true,
         "subplot": "mapbox",
         "type": "scattermapbox"
        },
        {
         "hovertemplate": "Customers=University 255<br>Invoice Amount=%{marker.size}<br>Lat=%{lat}<br>Long=%{lon}<extra></extra>",
         "lat": [
          41.477816
         ],
         "legendgroup": "University 255",
         "lon": [
          -87.683188
         ],
         "marker": {
          "color": "#ab63fa",
          "size": [
           6500
          ],
          "sizemode": "area",
          "sizeref": 347.5
         },
         "mode": "markers",
         "name": "University 255",
         "showlegend": true,
         "subplot": "mapbox",
         "type": "scattermapbox"
        },
        {
         "hovertemplate": "Customers=University 256<br>Invoice Amount=%{marker.size}<br>Lat=%{lat}<br>Long=%{lon}<extra></extra>",
         "lat": [
          28.062
         ],
         "legendgroup": "University 256",
         "lon": [
          -82.413225
         ],
         "marker": {
          "color": "#FFA15A",
          "size": [
           2650
          ],
          "sizemode": "area",
          "sizeref": 347.5
         },
         "mode": "markers",
         "name": "University 256",
         "showlegend": true,
         "subplot": "mapbox",
         "type": "scattermapbox"
        },
        {
         "hovertemplate": "Customers=University 257<br>Invoice Amount=%{marker.size}<br>Lat=%{lat}<br>Long=%{lon}<extra></extra>",
         "lat": [
          41.450991
         ],
         "legendgroup": "University 257",
         "lon": [
          -82.166534
         ],
         "marker": {
          "color": "#19d3f3",
          "size": [
           525
          ],
          "sizemode": "area",
          "sizeref": 347.5
         },
         "mode": "markers",
         "name": "University 257",
         "showlegend": true,
         "subplot": "mapbox",
         "type": "scattermapbox"
        },
        {
         "hovertemplate": "Customers=University 258<br>Invoice Amount=%{marker.size}<br>Lat=%{lat}<br>Long=%{lon}<extra></extra>",
         "lat": [
          97.144815
         ],
         "legendgroup": "University 258",
         "lon": [
          -265.99046699999997
         ],
         "marker": {
          "color": "#FF6692",
          "size": [
           2100
          ],
          "sizemode": "area",
          "sizeref": 347.5
         },
         "mode": "markers",
         "name": "University 258",
         "showlegend": true,
         "subplot": "mapbox",
         "type": "scattermapbox"
        },
        {
         "hovertemplate": "Customers=University 259<br>Invoice Amount=%{marker.size}<br>Lat=%{lat}<br>Long=%{lon}<extra></extra>",
         "lat": [
          39.724961
         ],
         "legendgroup": "University 259",
         "lon": [
          -89.615971
         ],
         "marker": {
          "color": "#B6E880",
          "size": [
           2250
          ],
          "sizemode": "area",
          "sizeref": 347.5
         },
         "mode": "markers",
         "name": "University 259",
         "showlegend": true,
         "subplot": "mapbox",
         "type": "scattermapbox"
        },
        {
         "hovertemplate": "Customers=University 26<br>Invoice Amount=%{marker.size}<br>Lat=%{lat}<br>Long=%{lon}<extra></extra>",
         "lat": [
          42.41484000000001
         ],
         "legendgroup": "University 26",
         "lon": [
          -83.137876
         ],
         "marker": {
          "color": "#FF97FF",
          "size": [
           750
          ],
          "sizemode": "area",
          "sizeref": 347.5
         },
         "mode": "markers",
         "name": "University 26",
         "showlegend": true,
         "subplot": "mapbox",
         "type": "scattermapbox"
        },
        {
         "hovertemplate": "Customers=University 260<br>Invoice Amount=%{marker.size}<br>Lat=%{lat}<br>Long=%{lon}<extra></extra>",
         "lat": [
          80.573828
         ],
         "legendgroup": "University 260",
         "lon": [
          -190.156626
         ],
         "marker": {
          "color": "#FECB52",
          "size": [
           1900
          ],
          "sizemode": "area",
          "sizeref": 347.5
         },
         "mode": "markers",
         "name": "University 260",
         "showlegend": true,
         "subplot": "mapbox",
         "type": "scattermapbox"
        },
        {
         "hovertemplate": "Customers=University 261<br>Invoice Amount=%{marker.size}<br>Lat=%{lat}<br>Long=%{lon}<extra></extra>",
         "lat": [
          28.062
         ],
         "legendgroup": "University 261",
         "lon": [
          -82.413225
         ],
         "marker": {
          "color": "#636efa",
          "size": [
           1920
          ],
          "sizemode": "area",
          "sizeref": 347.5
         },
         "mode": "markers",
         "name": "University 261",
         "showlegend": true,
         "subplot": "mapbox",
         "type": "scattermapbox"
        },
        {
         "hovertemplate": "Customers=University 262<br>Invoice Amount=%{marker.size}<br>Lat=%{lat}<br>Long=%{lon}<extra></extra>",
         "lat": [
          56.124
         ],
         "legendgroup": "University 262",
         "lon": [
          -164.82645
         ],
         "marker": {
          "color": "#EF553B",
          "size": [
           4000
          ],
          "sizemode": "area",
          "sizeref": 347.5
         },
         "mode": "markers",
         "name": "University 262",
         "showlegend": true,
         "subplot": "mapbox",
         "type": "scattermapbox"
        },
        {
         "hovertemplate": "Customers=University 263<br>Invoice Amount=%{marker.size}<br>Lat=%{lat}<br>Long=%{lon}<extra></extra>",
         "lat": [
          35.841039
         ],
         "legendgroup": "University 263",
         "lon": [
          -90.675602
         ],
         "marker": {
          "color": "#00cc96",
          "size": [
           2000
          ],
          "sizemode": "area",
          "sizeref": 347.5
         },
         "mode": "markers",
         "name": "University 263",
         "showlegend": true,
         "subplot": "mapbox",
         "type": "scattermapbox"
        },
        {
         "hovertemplate": "Customers=University 264<br>Invoice Amount=%{marker.size}<br>Lat=%{lat}<br>Long=%{lon}<extra></extra>",
         "lat": [
          56.124
         ],
         "legendgroup": "University 264",
         "lon": [
          -164.82645
         ],
         "marker": {
          "color": "#ab63fa",
          "size": [
           1858.3
          ],
          "sizemode": "area",
          "sizeref": 347.5
         },
         "mode": "markers",
         "name": "University 264",
         "showlegend": true,
         "subplot": "mapbox",
         "type": "scattermapbox"
        },
        {
         "hovertemplate": "Customers=University 265<br>Invoice Amount=%{marker.size}<br>Lat=%{lat}<br>Long=%{lon}<extra></extra>",
         "lat": [
          0
         ],
         "legendgroup": "University 265",
         "lon": [
          0
         ],
         "marker": {
          "color": "#FFA15A",
          "size": [
           1621
          ],
          "sizemode": "area",
          "sizeref": 347.5
         },
         "mode": "markers",
         "name": "University 265",
         "showlegend": true,
         "subplot": "mapbox",
         "type": "scattermapbox"
        },
        {
         "hovertemplate": "Customers=University 266<br>Invoice Amount=%{marker.size}<br>Lat=%{lat}<br>Long=%{lon}<extra></extra>",
         "lat": [
          37.739004
         ],
         "legendgroup": "University 266",
         "lon": [
          -89.209109
         ],
         "marker": {
          "color": "#19d3f3",
          "size": [
           750
          ],
          "sizemode": "area",
          "sizeref": 347.5
         },
         "mode": "markers",
         "name": "University 266",
         "showlegend": true,
         "subplot": "mapbox",
         "type": "scattermapbox"
        },
        {
         "hovertemplate": "Customers=University 267<br>Invoice Amount=%{marker.size}<br>Lat=%{lat}<br>Long=%{lon}<extra></extra>",
         "lat": [
          56.124
         ],
         "legendgroup": "University 267",
         "lon": [
          -164.82645
         ],
         "marker": {
          "color": "#FF6692",
          "size": [
           1512
          ],
          "sizemode": "area",
          "sizeref": 347.5
         },
         "mode": "markers",
         "name": "University 267",
         "showlegend": true,
         "subplot": "mapbox",
         "type": "scattermapbox"
        },
        {
         "hovertemplate": "Customers=University 268<br>Invoice Amount=%{marker.size}<br>Lat=%{lat}<br>Long=%{lon}<extra></extra>",
         "lat": [
          0
         ],
         "legendgroup": "University 268",
         "lon": [
          0
         ],
         "marker": {
          "color": "#B6E880",
          "size": [
           3500
          ],
          "sizemode": "area",
          "sizeref": 347.5
         },
         "mode": "markers",
         "name": "University 268",
         "showlegend": true,
         "subplot": "mapbox",
         "type": "scattermapbox"
        },
        {
         "hovertemplate": "Customers=University 269<br>Invoice Amount=%{marker.size}<br>Lat=%{lat}<br>Long=%{lon}<extra></extra>",
         "lat": [
          79.49231800000003
         ],
         "legendgroup": "University 269",
         "lon": [
          -243.680166
         ],
         "marker": {
          "color": "#FF97FF",
          "size": [
           4500
          ],
          "sizemode": "area",
          "sizeref": 347.5
         },
         "mode": "markers",
         "name": "University 269",
         "showlegend": true,
         "subplot": "mapbox",
         "type": "scattermapbox"
        },
        {
         "hovertemplate": "Customers=University 27<br>Invoice Amount=%{marker.size}<br>Lat=%{lat}<br>Long=%{lon}<extra></extra>",
         "lat": [
          33.498228999999995
         ],
         "legendgroup": "University 27",
         "lon": [
          -86.8073
         ],
         "marker": {
          "color": "#FECB52",
          "size": [
           50000
          ],
          "sizemode": "area",
          "sizeref": 347.5
         },
         "mode": "markers",
         "name": "University 27",
         "showlegend": true,
         "subplot": "mapbox",
         "type": "scattermapbox"
        },
        {
         "hovertemplate": "Customers=University 270<br>Invoice Amount=%{marker.size}<br>Lat=%{lat}<br>Long=%{lon}<extra></extra>",
         "lat": [
          0
         ],
         "legendgroup": "University 270",
         "lon": [
          0
         ],
         "marker": {
          "color": "#636efa",
          "size": [
           7000
          ],
          "sizemode": "area",
          "sizeref": 347.5
         },
         "mode": "markers",
         "name": "University 270",
         "showlegend": true,
         "subplot": "mapbox",
         "type": "scattermapbox"
        },
        {
         "hovertemplate": "Customers=University 271<br>Invoice Amount=%{marker.size}<br>Lat=%{lat}<br>Long=%{lon}<extra></extra>",
         "lat": [
          35.841039
         ],
         "legendgroup": "University 271",
         "lon": [
          -90.675602
         ],
         "marker": {
          "color": "#EF553B",
          "size": [
           2500
          ],
          "sizemode": "area",
          "sizeref": 347.5
         },
         "mode": "markers",
         "name": "University 271",
         "showlegend": true,
         "subplot": "mapbox",
         "type": "scattermapbox"
        },
        {
         "hovertemplate": "Customers=University 272<br>Invoice Amount=%{marker.size}<br>Lat=%{lat}<br>Long=%{lon}<extra></extra>",
         "lat": [
          77.940776
         ],
         "legendgroup": "University 272",
         "lon": [
          -153.883838
         ],
         "marker": {
          "color": "#00cc96",
          "size": [
           1600
          ],
          "sizemode": "area",
          "sizeref": 347.5
         },
         "mode": "markers",
         "name": "University 272",
         "showlegend": true,
         "subplot": "mapbox",
         "type": "scattermapbox"
        },
        {
         "hovertemplate": "Customers=University 273<br>Invoice Amount=%{marker.size}<br>Lat=%{lat}<br>Long=%{lon}<extra></extra>",
         "lat": [
          35.841039
         ],
         "legendgroup": "University 273",
         "lon": [
          -90.675602
         ],
         "marker": {
          "color": "#ab63fa",
          "size": [
           2500
          ],
          "sizemode": "area",
          "sizeref": 347.5
         },
         "mode": "markers",
         "name": "University 273",
         "showlegend": true,
         "subplot": "mapbox",
         "type": "scattermapbox"
        },
        {
         "hovertemplate": "Customers=University 274<br>Invoice Amount=%{marker.size}<br>Lat=%{lat}<br>Long=%{lon}<extra></extra>",
         "lat": [
          70.23588199999999
         ],
         "legendgroup": "University 274",
         "lon": [
          -179.87333999999996
         ],
         "marker": {
          "color": "#FFA15A",
          "size": [
           762.5
          ],
          "sizemode": "area",
          "sizeref": 347.5
         },
         "mode": "markers",
         "name": "University 274",
         "showlegend": true,
         "subplot": "mapbox",
         "type": "scattermapbox"
        },
        {
         "hovertemplate": "Customers=University 275<br>Invoice Amount=%{marker.size}<br>Lat=%{lat}<br>Long=%{lon}<extra></extra>",
         "lat": [
          82.955632
         ],
         "legendgroup": "University 275",
         "lon": [
          -175.366376
         ],
         "marker": {
          "color": "#19d3f3",
          "size": [
           4000
          ],
          "sizemode": "area",
          "sizeref": 347.5
         },
         "mode": "markers",
         "name": "University 275",
         "showlegend": true,
         "subplot": "mapbox",
         "type": "scattermapbox"
        },
        {
         "hovertemplate": "Customers=University 276<br>Invoice Amount=%{marker.size}<br>Lat=%{lat}<br>Long=%{lon}<extra></extra>",
         "lat": [
          35.969681
         ],
         "legendgroup": "University 276",
         "lon": [
          -78.934721
         ],
         "marker": {
          "color": "#FF6692",
          "size": [
           2250
          ],
          "sizemode": "area",
          "sizeref": 347.5
         },
         "mode": "markers",
         "name": "University 276",
         "showlegend": true,
         "subplot": "mapbox",
         "type": "scattermapbox"
        },
        {
         "hovertemplate": "Customers=University 277<br>Invoice Amount=%{marker.size}<br>Lat=%{lat}<br>Long=%{lon}<extra></extra>",
         "lat": [
          28.062
         ],
         "legendgroup": "University 277",
         "lon": [
          -82.413225
         ],
         "marker": {
          "color": "#B6E880",
          "size": [
           425
          ],
          "sizemode": "area",
          "sizeref": 347.5
         },
         "mode": "markers",
         "name": "University 277",
         "showlegend": true,
         "subplot": "mapbox",
         "type": "scattermapbox"
        },
        {
         "hovertemplate": "Customers=University 278<br>Invoice Amount=%{marker.size}<br>Lat=%{lat}<br>Long=%{lon}<extra></extra>",
         "lat": [
          41.370548
         ],
         "legendgroup": "University 278",
         "lon": [
          -81.861757
         ],
         "marker": {
          "color": "#FF97FF",
          "size": [
           2600
          ],
          "sizemode": "area",
          "sizeref": 347.5
         },
         "mode": "markers",
         "name": "University 278",
         "showlegend": true,
         "subplot": "mapbox",
         "type": "scattermapbox"
        },
        {
         "hovertemplate": "Customers=University 279<br>Invoice Amount=%{marker.size}<br>Lat=%{lat}<br>Long=%{lon}<extra></extra>",
         "lat": [
          71.682078
         ],
         "legendgroup": "University 279",
         "lon": [
          -181.351204
         ],
         "marker": {
          "color": "#FECB52",
          "size": [
           5700
          ],
          "sizemode": "area",
          "sizeref": 347.5
         },
         "mode": "markers",
         "name": "University 279",
         "showlegend": true,
         "subplot": "mapbox",
         "type": "scattermapbox"
        },
        {
         "hovertemplate": "Customers=University 28<br>Invoice Amount=%{marker.size}<br>Lat=%{lat}<br>Long=%{lon}<extra></extra>",
         "lat": [
          33.203634
         ],
         "legendgroup": "University 28",
         "lon": [
          -87.56214399999998
         ],
         "marker": {
          "color": "#636efa",
          "size": [
           13650
          ],
          "sizemode": "area",
          "sizeref": 347.5
         },
         "mode": "markers",
         "name": "University 28",
         "showlegend": true,
         "subplot": "mapbox",
         "type": "scattermapbox"
        },
        {
         "hovertemplate": "Customers=University 280<br>Invoice Amount=%{marker.size}<br>Lat=%{lat}<br>Long=%{lon}<extra></extra>",
         "lat": [
          56.124
         ],
         "legendgroup": "University 280",
         "lon": [
          -164.82645
         ],
         "marker": {
          "color": "#EF553B",
          "size": [
           9060
          ],
          "sizemode": "area",
          "sizeref": 347.5
         },
         "mode": "markers",
         "name": "University 280",
         "showlegend": true,
         "subplot": "mapbox",
         "type": "scattermapbox"
        },
        {
         "hovertemplate": "Customers=University 281<br>Invoice Amount=%{marker.size}<br>Lat=%{lat}<br>Long=%{lon}<extra></extra>",
         "lat": [
          33.061245
         ],
         "legendgroup": "University 281",
         "lon": [
          -83.604895
         ],
         "marker": {
          "color": "#00cc96",
          "size": [
           3500
          ],
          "sizemode": "area",
          "sizeref": 347.5
         },
         "mode": "markers",
         "name": "University 281",
         "showlegend": true,
         "subplot": "mapbox",
         "type": "scattermapbox"
        },
        {
         "hovertemplate": "Customers=University 282<br>Invoice Amount=%{marker.size}<br>Lat=%{lat}<br>Long=%{lon}<extra></extra>",
         "lat": [
          43.077369
         ],
         "legendgroup": "University 282",
         "lon": [
          -75.23320799999998
         ],
         "marker": {
          "color": "#ab63fa",
          "size": [
           1750
          ],
          "sizemode": "area",
          "sizeref": 347.5
         },
         "mode": "markers",
         "name": "University 282",
         "showlegend": true,
         "subplot": "mapbox",
         "type": "scattermapbox"
        },
        {
         "hovertemplate": "Customers=University 283<br>Invoice Amount=%{marker.size}<br>Lat=%{lat}<br>Long=%{lon}<extra></extra>",
         "lat": [
          33.651144
         ],
         "legendgroup": "University 283",
         "lon": [
          -117.814991
         ],
         "marker": {
          "color": "#FFA15A",
          "size": [
           550
          ],
          "sizemode": "area",
          "sizeref": 347.5
         },
         "mode": "markers",
         "name": "University 283",
         "showlegend": true,
         "subplot": "mapbox",
         "type": "scattermapbox"
        },
        {
         "hovertemplate": "Customers=University 284<br>Invoice Amount=%{marker.size}<br>Lat=%{lat}<br>Long=%{lon}<extra></extra>",
         "lat": [
          28.062
         ],
         "legendgroup": "University 284",
         "lon": [
          -82.413225
         ],
         "marker": {
          "color": "#19d3f3",
          "size": [
           2100
          ],
          "sizemode": "area",
          "sizeref": 347.5
         },
         "mode": "markers",
         "name": "University 284",
         "showlegend": true,
         "subplot": "mapbox",
         "type": "scattermapbox"
        },
        {
         "hovertemplate": "Customers=University 285<br>Invoice Amount=%{marker.size}<br>Lat=%{lat}<br>Long=%{lon}<extra></extra>",
         "lat": [
          33.82887
         ],
         "legendgroup": "University 285",
         "lon": [
          -118.180502
         ],
         "marker": {
          "color": "#FF6692",
          "size": [
           2000
          ],
          "sizemode": "area",
          "sizeref": 347.5
         },
         "mode": "markers",
         "name": "University 285",
         "showlegend": true,
         "subplot": "mapbox",
         "type": "scattermapbox"
        },
        {
         "hovertemplate": "Customers=University 286<br>Invoice Amount=%{marker.size}<br>Lat=%{lat}<br>Long=%{lon}<extra></extra>",
         "lat": [
          28.062
         ],
         "legendgroup": "University 286",
         "lon": [
          -82.413225
         ],
         "marker": {
          "color": "#B6E880",
          "size": [
           738.01
          ],
          "sizemode": "area",
          "sizeref": 347.5
         },
         "mode": "markers",
         "name": "University 286",
         "showlegend": true,
         "subplot": "mapbox",
         "type": "scattermapbox"
        },
        {
         "hovertemplate": "Customers=University 287<br>Invoice Amount=%{marker.size}<br>Lat=%{lat}<br>Long=%{lon}<extra></extra>",
         "lat": [
          71.682078
         ],
         "legendgroup": "University 287",
         "lon": [
          -181.351204
         ],
         "marker": {
          "color": "#FF97FF",
          "size": [
           4000
          ],
          "sizemode": "area",
          "sizeref": 347.5
         },
         "mode": "markers",
         "name": "University 287",
         "showlegend": true,
         "subplot": "mapbox",
         "type": "scattermapbox"
        },
        {
         "hovertemplate": "Customers=University 288<br>Invoice Amount=%{marker.size}<br>Lat=%{lat}<br>Long=%{lon}<extra></extra>",
         "lat": [
          40.046955
         ],
         "legendgroup": "University 288",
         "lon": [
          -79.89498499999998
         ],
         "marker": {
          "color": "#FECB52",
          "size": [
           8500
          ],
          "sizemode": "area",
          "sizeref": 347.5
         },
         "mode": "markers",
         "name": "University 288",
         "showlegend": true,
         "subplot": "mapbox",
         "type": "scattermapbox"
        },
        {
         "hovertemplate": "Customers=University 289<br>Invoice Amount=%{marker.size}<br>Lat=%{lat}<br>Long=%{lon}<extra></extra>",
         "lat": [
          31.307468
         ],
         "legendgroup": "University 289",
         "lon": [
          -92.465779
         ],
         "marker": {
          "color": "#636efa",
          "size": [
           562
          ],
          "sizemode": "area",
          "sizeref": 347.5
         },
         "mode": "markers",
         "name": "University 289",
         "showlegend": true,
         "subplot": "mapbox",
         "type": "scattermapbox"
        },
        {
         "hovertemplate": "Customers=University 29<br>Invoice Amount=%{marker.size}<br>Lat=%{lat}<br>Long=%{lon}<extra></extra>",
         "lat": [
          36.73702700000001
         ],
         "legendgroup": "University 29",
         "lon": [
          -84.162826
         ],
         "marker": {
          "color": "#EF553B",
          "size": [
           3500
          ],
          "sizemode": "area",
          "sizeref": 347.5
         },
         "mode": "markers",
         "name": "University 29",
         "showlegend": true,
         "subplot": "mapbox",
         "type": "scattermapbox"
        },
        {
         "hovertemplate": "Customers=University 290<br>Invoice Amount=%{marker.size}<br>Lat=%{lat}<br>Long=%{lon}<extra></extra>",
         "lat": [
          71.682078
         ],
         "legendgroup": "University 290",
         "lon": [
          -181.351204
         ],
         "marker": {
          "color": "#00cc96",
          "size": [
           8500
          ],
          "sizemode": "area",
          "sizeref": 347.5
         },
         "mode": "markers",
         "name": "University 290",
         "showlegend": true,
         "subplot": "mapbox",
         "type": "scattermapbox"
        },
        {
         "hovertemplate": "Customers=University 291<br>Invoice Amount=%{marker.size}<br>Lat=%{lat}<br>Long=%{lon}<extra></extra>",
         "lat": [
          41.973741
         ],
         "legendgroup": "University 291",
         "lon": [
          -70.976558
         ],
         "marker": {
          "color": "#ab63fa",
          "size": [
           2600
          ],
          "sizemode": "area",
          "sizeref": 347.5
         },
         "mode": "markers",
         "name": "University 291",
         "showlegend": true,
         "subplot": "mapbox",
         "type": "scattermapbox"
        },
        {
         "hovertemplate": "Customers=University 292<br>Invoice Amount=%{marker.size}<br>Lat=%{lat}<br>Long=%{lon}<extra></extra>",
         "lat": [
          28.062
         ],
         "legendgroup": "University 292",
         "lon": [
          -82.413225
         ],
         "marker": {
          "color": "#FFA15A",
          "size": [
           1800
          ],
          "sizemode": "area",
          "sizeref": 347.5
         },
         "mode": "markers",
         "name": "University 292",
         "showlegend": true,
         "subplot": "mapbox",
         "type": "scattermapbox"
        },
        {
         "hovertemplate": "Customers=University 293<br>Invoice Amount=%{marker.size}<br>Lat=%{lat}<br>Long=%{lon}<extra></extra>",
         "lat": [
          30.73851
         ],
         "legendgroup": "University 293",
         "lon": [
          -99.11144
         ],
         "marker": {
          "color": "#19d3f3",
          "size": [
           550
          ],
          "sizemode": "area",
          "sizeref": 347.5
         },
         "mode": "markers",
         "name": "University 293",
         "showlegend": true,
         "subplot": "mapbox",
         "type": "scattermapbox"
        },
        {
         "hovertemplate": "Customers=University 294<br>Invoice Amount=%{marker.size}<br>Lat=%{lat}<br>Long=%{lon}<extra></extra>",
         "lat": [
          35.841039
         ],
         "legendgroup": "University 294",
         "lon": [
          -90.675602
         ],
         "marker": {
          "color": "#FF6692",
          "size": [
           4050
          ],
          "sizemode": "area",
          "sizeref": 347.5
         },
         "mode": "markers",
         "name": "University 294",
         "showlegend": true,
         "subplot": "mapbox",
         "type": "scattermapbox"
        },
        {
         "hovertemplate": "Customers=University 295<br>Invoice Amount=%{marker.size}<br>Lat=%{lat}<br>Long=%{lon}<extra></extra>",
         "lat": [
          28.062
         ],
         "legendgroup": "University 295",
         "lon": [
          -82.413225
         ],
         "marker": {
          "color": "#B6E880",
          "size": [
           1375
          ],
          "sizemode": "area",
          "sizeref": 347.5
         },
         "mode": "markers",
         "name": "University 295",
         "showlegend": true,
         "subplot": "mapbox",
         "type": "scattermapbox"
        },
        {
         "hovertemplate": "Customers=University 296<br>Invoice Amount=%{marker.size}<br>Lat=%{lat}<br>Long=%{lon}<extra></extra>",
         "lat": [
          0
         ],
         "legendgroup": "University 296",
         "lon": [
          0
         ],
         "marker": {
          "color": "#FF97FF",
          "size": [
           11350
          ],
          "sizemode": "area",
          "sizeref": 347.5
         },
         "mode": "markers",
         "name": "University 296",
         "showlegend": true,
         "subplot": "mapbox",
         "type": "scattermapbox"
        },
        {
         "hovertemplate": "Customers=University 297<br>Invoice Amount=%{marker.size}<br>Lat=%{lat}<br>Long=%{lon}<extra></extra>",
         "lat": [
          0
         ],
         "legendgroup": "University 297",
         "lon": [
          0
         ],
         "marker": {
          "color": "#FECB52",
          "size": [
           750
          ],
          "sizemode": "area",
          "sizeref": 347.5
         },
         "mode": "markers",
         "name": "University 297",
         "showlegend": true,
         "subplot": "mapbox",
         "type": "scattermapbox"
        },
        {
         "hovertemplate": "Customers=University 298<br>Invoice Amount=%{marker.size}<br>Lat=%{lat}<br>Long=%{lon}<extra></extra>",
         "lat": [
          32.424353
         ],
         "legendgroup": "University 298",
         "lon": [
          -80.565343
         ],
         "marker": {
          "color": "#636efa",
          "size": [
           750
          ],
          "sizemode": "area",
          "sizeref": 347.5
         },
         "mode": "markers",
         "name": "University 298",
         "showlegend": true,
         "subplot": "mapbox",
         "type": "scattermapbox"
        },
        {
         "hovertemplate": "Customers=University 299<br>Invoice Amount=%{marker.size}<br>Lat=%{lat}<br>Long=%{lon}<extra></extra>",
         "lat": [
          41.82275
         ],
         "legendgroup": "University 299",
         "lon": [
          -71.414451
         ],
         "marker": {
          "color": "#EF553B",
          "size": [
           750
          ],
          "sizemode": "area",
          "sizeref": 347.5
         },
         "mode": "markers",
         "name": "University 299",
         "showlegend": true,
         "subplot": "mapbox",
         "type": "scattermapbox"
        },
        {
         "hovertemplate": "Customers=University 3<br>Invoice Amount=%{marker.size}<br>Lat=%{lat}<br>Long=%{lon}<extra></extra>",
         "lat": [
          222.079485
         ],
         "legendgroup": "University 3",
         "lon": [
          -522.3312930000001
         ],
         "marker": {
          "color": "#00cc96",
          "size": [
           10375
          ],
          "sizemode": "area",
          "sizeref": 347.5
         },
         "mode": "markers",
         "name": "University 3",
         "showlegend": true,
         "subplot": "mapbox",
         "type": "scattermapbox"
        },
        {
         "hovertemplate": "Customers=University 30<br>Invoice Amount=%{marker.size}<br>Lat=%{lat}<br>Long=%{lon}<extra></extra>",
         "lat": [
          148.946772
         ],
         "legendgroup": "University 30",
         "lon": [
          -333.605504
         ],
         "marker": {
          "color": "#ab63fa",
          "size": [
           3250
          ],
          "sizemode": "area",
          "sizeref": 347.5
         },
         "mode": "markers",
         "name": "University 30",
         "showlegend": true,
         "subplot": "mapbox",
         "type": "scattermapbox"
        },
        {
         "hovertemplate": "Customers=University 300<br>Invoice Amount=%{marker.size}<br>Lat=%{lat}<br>Long=%{lon}<extra></extra>",
         "lat": [
          35.162396
         ],
         "legendgroup": "University 300",
         "lon": [
          -92.445162
         ],
         "marker": {
          "color": "#FFA15A",
          "size": [
           1610
          ],
          "sizemode": "area",
          "sizeref": 347.5
         },
         "mode": "markers",
         "name": "University 300",
         "showlegend": true,
         "subplot": "mapbox",
         "type": "scattermapbox"
        },
        {
         "hovertemplate": "Customers=University 301<br>Invoice Amount=%{marker.size}<br>Lat=%{lat}<br>Long=%{lon}<extra></extra>",
         "lat": [
          28.062
         ],
         "legendgroup": "University 301",
         "lon": [
          -82.413225
         ],
         "marker": {
          "color": "#19d3f3",
          "size": [
           2300
          ],
          "sizemode": "area",
          "sizeref": 347.5
         },
         "mode": "markers",
         "name": "University 301",
         "showlegend": true,
         "subplot": "mapbox",
         "type": "scattermapbox"
        },
        {
         "hovertemplate": "Customers=University 302<br>Invoice Amount=%{marker.size}<br>Lat=%{lat}<br>Long=%{lon}<extra></extra>",
         "lat": [
          32.283428
         ],
         "legendgroup": "University 302",
         "lon": [
          -106.753336
         ],
         "marker": {
          "color": "#FF6692",
          "size": [
           2000
          ],
          "sizemode": "area",
          "sizeref": 347.5
         },
         "mode": "markers",
         "name": "University 302",
         "showlegend": true,
         "subplot": "mapbox",
         "type": "scattermapbox"
        },
        {
         "hovertemplate": "Customers=University 303<br>Invoice Amount=%{marker.size}<br>Lat=%{lat}<br>Long=%{lon}<extra></extra>",
         "lat": [
          28.052414
         ],
         "legendgroup": "University 303",
         "lon": [
          -82.560475
         ],
         "marker": {
          "color": "#B6E880",
          "size": [
           1500
          ],
          "sizemode": "area",
          "sizeref": 347.5
         },
         "mode": "markers",
         "name": "University 303",
         "showlegend": true,
         "subplot": "mapbox",
         "type": "scattermapbox"
        },
        {
         "hovertemplate": "Customers=University 304<br>Invoice Amount=%{marker.size}<br>Lat=%{lat}<br>Long=%{lon}<extra></extra>",
         "lat": [
          34.744649
         ],
         "legendgroup": "University 304",
         "lon": [
          -82.797267
         ],
         "marker": {
          "color": "#FF97FF",
          "size": [
           2500
          ],
          "sizemode": "area",
          "sizeref": 347.5
         },
         "mode": "markers",
         "name": "University 304",
         "showlegend": true,
         "subplot": "mapbox",
         "type": "scattermapbox"
        },
        {
         "hovertemplate": "Customers=University 305<br>Invoice Amount=%{marker.size}<br>Lat=%{lat}<br>Long=%{lon}<extra></extra>",
         "lat": [
          27.727590000000006
         ],
         "legendgroup": "University 305",
         "lon": [
          -82.361013
         ],
         "marker": {
          "color": "#FECB52",
          "size": [
           4300
          ],
          "sizemode": "area",
          "sizeref": 347.5
         },
         "mode": "markers",
         "name": "University 305",
         "showlegend": true,
         "subplot": "mapbox",
         "type": "scattermapbox"
        },
        {
         "hovertemplate": "Customers=University 306<br>Invoice Amount=%{marker.size}<br>Lat=%{lat}<br>Long=%{lon}<extra></extra>",
         "lat": [
          38.30699
         ],
         "legendgroup": "University 306",
         "lon": [
          -82.751009
         ],
         "marker": {
          "color": "#636efa",
          "size": [
           450
          ],
          "sizemode": "area",
          "sizeref": 347.5
         },
         "mode": "markers",
         "name": "University 306",
         "showlegend": true,
         "subplot": "mapbox",
         "type": "scattermapbox"
        },
        {
         "hovertemplate": "Customers=University 307<br>Invoice Amount=%{marker.size}<br>Lat=%{lat}<br>Long=%{lon}<extra></extra>",
         "lat": [
          38.631501
         ],
         "legendgroup": "University 307",
         "lon": [
          -90.19231
         ],
         "marker": {
          "color": "#EF553B",
          "size": [
           575
          ],
          "sizemode": "area",
          "sizeref": 347.5
         },
         "mode": "markers",
         "name": "University 307",
         "showlegend": true,
         "subplot": "mapbox",
         "type": "scattermapbox"
        },
        {
         "hovertemplate": "Customers=University 308<br>Invoice Amount=%{marker.size}<br>Lat=%{lat}<br>Long=%{lon}<extra></extra>",
         "lat": [
          0
         ],
         "legendgroup": "University 308",
         "lon": [
          0
         ],
         "marker": {
          "color": "#00cc96",
          "size": [
           1280
          ],
          "sizemode": "area",
          "sizeref": 347.5
         },
         "mode": "markers",
         "name": "University 308",
         "showlegend": true,
         "subplot": "mapbox",
         "type": "scattermapbox"
        },
        {
         "hovertemplate": "Customers=University 309<br>Invoice Amount=%{marker.size}<br>Lat=%{lat}<br>Long=%{lon}<extra></extra>",
         "lat": [
          43.072595
         ],
         "legendgroup": "University 309",
         "lon": [
          -89.421412
         ],
         "marker": {
          "color": "#ab63fa",
          "size": [
           1680
          ],
          "sizemode": "area",
          "sizeref": 347.5
         },
         "mode": "markers",
         "name": "University 309",
         "showlegend": true,
         "subplot": "mapbox",
         "type": "scattermapbox"
        },
        {
         "hovertemplate": "Customers=University 31<br>Invoice Amount=%{marker.size}<br>Lat=%{lat}<br>Long=%{lon}<extra></extra>",
         "lat": [
          124.91727399999999
         ],
         "legendgroup": "University 31",
         "lon": [
          -321.230674
         ],
         "marker": {
          "color": "#FFA15A",
          "size": [
           14250
          ],
          "sizemode": "area",
          "sizeref": 347.5
         },
         "mode": "markers",
         "name": "University 31",
         "showlegend": true,
         "subplot": "mapbox",
         "type": "scattermapbox"
        },
        {
         "hovertemplate": "Customers=University 310<br>Invoice Amount=%{marker.size}<br>Lat=%{lat}<br>Long=%{lon}<extra></extra>",
         "lat": [
          66.21051999999999
         ],
         "legendgroup": "University 310",
         "lon": [
          -173.745918
         ],
         "marker": {
          "color": "#19d3f3",
          "size": [
           2250
          ],
          "sizemode": "area",
          "sizeref": 347.5
         },
         "mode": "markers",
         "name": "University 310",
         "showlegend": true,
         "subplot": "mapbox",
         "type": "scattermapbox"
        },
        {
         "hovertemplate": "Customers=University 311<br>Invoice Amount=%{marker.size}<br>Lat=%{lat}<br>Long=%{lon}<extra></extra>",
         "lat": [
          28.062
         ],
         "legendgroup": "University 311",
         "lon": [
          -82.413225
         ],
         "marker": {
          "color": "#FF6692",
          "size": [
           2500
          ],
          "sizemode": "area",
          "sizeref": 347.5
         },
         "mode": "markers",
         "name": "University 311",
         "showlegend": true,
         "subplot": "mapbox",
         "type": "scattermapbox"
        },
        {
         "hovertemplate": "Customers=University 312<br>Invoice Amount=%{marker.size}<br>Lat=%{lat}<br>Long=%{lon}<extra></extra>",
         "lat": [
          28.062
         ],
         "legendgroup": "University 312",
         "lon": [
          -82.413225
         ],
         "marker": {
          "color": "#B6E880",
          "size": [
           3300
          ],
          "sizemode": "area",
          "sizeref": 347.5
         },
         "mode": "markers",
         "name": "University 312",
         "showlegend": true,
         "subplot": "mapbox",
         "type": "scattermapbox"
        },
        {
         "hovertemplate": "Customers=University 313<br>Invoice Amount=%{marker.size}<br>Lat=%{lat}<br>Long=%{lon}<extra></extra>",
         "lat": [
          28.062
         ],
         "legendgroup": "University 313",
         "lon": [
          -82.413225
         ],
         "marker": {
          "color": "#FF97FF",
          "size": [
           5000
          ],
          "sizemode": "area",
          "sizeref": 347.5
         },
         "mode": "markers",
         "name": "University 313",
         "showlegend": true,
         "subplot": "mapbox",
         "type": "scattermapbox"
        },
        {
         "hovertemplate": "Customers=University 314<br>Invoice Amount=%{marker.size}<br>Lat=%{lat}<br>Long=%{lon}<extra></extra>",
         "lat": [
          33.879768
         ],
         "legendgroup": "University 314",
         "lon": [
          -117.896341
         ],
         "marker": {
          "color": "#FECB52",
          "size": [
           4000
          ],
          "sizemode": "area",
          "sizeref": 347.5
         },
         "mode": "markers",
         "name": "University 314",
         "showlegend": true,
         "subplot": "mapbox",
         "type": "scattermapbox"
        },
        {
         "hovertemplate": "Customers=University 315<br>Invoice Amount=%{marker.size}<br>Lat=%{lat}<br>Long=%{lon}<extra></extra>",
         "lat": [
          40.277742
         ],
         "legendgroup": "University 315",
         "lon": [
          -94.860299
         ],
         "marker": {
          "color": "#636efa",
          "size": [
           562
          ],
          "sizemode": "area",
          "sizeref": 347.5
         },
         "mode": "markers",
         "name": "University 315",
         "showlegend": true,
         "subplot": "mapbox",
         "type": "scattermapbox"
        },
        {
         "hovertemplate": "Customers=University 316<br>Invoice Amount=%{marker.size}<br>Lat=%{lat}<br>Long=%{lon}<extra></extra>",
         "lat": [
          0
         ],
         "legendgroup": "University 316",
         "lon": [
          0
         ],
         "marker": {
          "color": "#EF553B",
          "size": [
           5450
          ],
          "sizemode": "area",
          "sizeref": 347.5
         },
         "mode": "markers",
         "name": "University 316",
         "showlegend": true,
         "subplot": "mapbox",
         "type": "scattermapbox"
        },
        {
         "hovertemplate": "Customers=University 317<br>Invoice Amount=%{marker.size}<br>Lat=%{lat}<br>Long=%{lon}<extra></extra>",
         "lat": [
          28.062
         ],
         "legendgroup": "University 317",
         "lon": [
          -82.413225
         ],
         "marker": {
          "color": "#00cc96",
          "size": [
           4500
          ],
          "sizemode": "area",
          "sizeref": 347.5
         },
         "mode": "markers",
         "name": "University 317",
         "showlegend": true,
         "subplot": "mapbox",
         "type": "scattermapbox"
        },
        {
         "hovertemplate": "Customers=University 318<br>Invoice Amount=%{marker.size}<br>Lat=%{lat}<br>Long=%{lon}<extra></extra>",
         "lat": [
          39.206132
         ],
         "legendgroup": "University 318",
         "lon": [
          -76.887905
         ],
         "marker": {
          "color": "#ab63fa",
          "size": [
           1000
          ],
          "sizemode": "area",
          "sizeref": 347.5
         },
         "mode": "markers",
         "name": "University 318",
         "showlegend": true,
         "subplot": "mapbox",
         "type": "scattermapbox"
        },
        {
         "hovertemplate": "Customers=University 319<br>Invoice Amount=%{marker.size}<br>Lat=%{lat}<br>Long=%{lon}<extra></extra>",
         "lat": [
          32.321937
         ],
         "legendgroup": "University 319",
         "lon": [
          -95.302223
         ],
         "marker": {
          "color": "#FFA15A",
          "size": [
           1250
          ],
          "sizemode": "area",
          "sizeref": 347.5
         },
         "mode": "markers",
         "name": "University 319",
         "showlegend": true,
         "subplot": "mapbox",
         "type": "scattermapbox"
        },
        {
         "hovertemplate": "Customers=University 32<br>Invoice Amount=%{marker.size}<br>Lat=%{lat}<br>Long=%{lon}<extra></extra>",
         "lat": [
          40.897169
         ],
         "legendgroup": "University 32",
         "lon": [
          -74.02901800000002
         ],
         "marker": {
          "color": "#19d3f3",
          "size": [
           1000
          ],
          "sizemode": "area",
          "sizeref": 347.5
         },
         "mode": "markers",
         "name": "University 32",
         "showlegend": true,
         "subplot": "mapbox",
         "type": "scattermapbox"
        },
        {
         "hovertemplate": "Customers=University 320<br>Invoice Amount=%{marker.size}<br>Lat=%{lat}<br>Long=%{lon}<extra></extra>",
         "lat": [
          32.78921
         ],
         "legendgroup": "University 320",
         "lon": [
          -114.55606
         ],
         "marker": {
          "color": "#FF6692",
          "size": [
           437
          ],
          "sizemode": "area",
          "sizeref": 347.5
         },
         "mode": "markers",
         "name": "University 320",
         "showlegend": true,
         "subplot": "mapbox",
         "type": "scattermapbox"
        },
        {
         "hovertemplate": "Customers=University 321<br>Invoice Amount=%{marker.size}<br>Lat=%{lat}<br>Long=%{lon}<extra></extra>",
         "lat": [
          29.958304
         ],
         "legendgroup": "University 321",
         "lon": [
          -90.077
         ],
         "marker": {
          "color": "#B6E880",
          "size": [
           3000
          ],
          "sizemode": "area",
          "sizeref": 347.5
         },
         "mode": "markers",
         "name": "University 321",
         "showlegend": true,
         "subplot": "mapbox",
         "type": "scattermapbox"
        },
        {
         "hovertemplate": "Customers=University 322<br>Invoice Amount=%{marker.size}<br>Lat=%{lat}<br>Long=%{lon}<extra></extra>",
         "lat": [
          33.65983
         ],
         "legendgroup": "University 322",
         "lon": [
          -87.60001
         ],
         "marker": {
          "color": "#FF97FF",
          "size": [
           1650
          ],
          "sizemode": "area",
          "sizeref": 347.5
         },
         "mode": "markers",
         "name": "University 322",
         "showlegend": true,
         "subplot": "mapbox",
         "type": "scattermapbox"
        },
        {
         "hovertemplate": "Customers=University 323<br>Invoice Amount=%{marker.size}<br>Lat=%{lat}<br>Long=%{lon}<extra></extra>",
         "lat": [
          43.65818
         ],
         "legendgroup": "University 323",
         "lon": [
          -71.50445
         ],
         "marker": {
          "color": "#FECB52",
          "size": [
           800
          ],
          "sizemode": "area",
          "sizeref": 347.5
         },
         "mode": "markers",
         "name": "University 323",
         "showlegend": true,
         "subplot": "mapbox",
         "type": "scattermapbox"
        },
        {
         "hovertemplate": "Customers=University 324<br>Invoice Amount=%{marker.size}<br>Lat=%{lat}<br>Long=%{lon}<extra></extra>",
         "lat": [
          28.062
         ],
         "legendgroup": "University 324",
         "lon": [
          -82.413225
         ],
         "marker": {
          "color": "#636efa",
          "size": [
           565
          ],
          "sizemode": "area",
          "sizeref": 347.5
         },
         "mode": "markers",
         "name": "University 324",
         "showlegend": true,
         "subplot": "mapbox",
         "type": "scattermapbox"
        },
        {
         "hovertemplate": "Customers=University 325<br>Invoice Amount=%{marker.size}<br>Lat=%{lat}<br>Long=%{lon}<extra></extra>",
         "lat": [
          28.062
         ],
         "legendgroup": "University 325",
         "lon": [
          -82.413225
         ],
         "marker": {
          "color": "#EF553B",
          "size": [
           2070
          ],
          "sizemode": "area",
          "sizeref": 347.5
         },
         "mode": "markers",
         "name": "University 325",
         "showlegend": true,
         "subplot": "mapbox",
         "type": "scattermapbox"
        },
        {
         "hovertemplate": "Customers=University 326<br>Invoice Amount=%{marker.size}<br>Lat=%{lat}<br>Long=%{lon}<extra></extra>",
         "lat": [
          35.841039
         ],
         "legendgroup": "University 326",
         "lon": [
          -90.675602
         ],
         "marker": {
          "color": "#00cc96",
          "size": [
           6600
          ],
          "sizemode": "area",
          "sizeref": 347.5
         },
         "mode": "markers",
         "name": "University 326",
         "showlegend": true,
         "subplot": "mapbox",
         "type": "scattermapbox"
        },
        {
         "hovertemplate": "Customers=University 327<br>Invoice Amount=%{marker.size}<br>Lat=%{lat}<br>Long=%{lon}<extra></extra>",
         "lat": [
          28.062
         ],
         "legendgroup": "University 327",
         "lon": [
          -82.413225
         ],
         "marker": {
          "color": "#ab63fa",
          "size": [
           5100
          ],
          "sizemode": "area",
          "sizeref": 347.5
         },
         "mode": "markers",
         "name": "University 327",
         "showlegend": true,
         "subplot": "mapbox",
         "type": "scattermapbox"
        },
        {
         "hovertemplate": "Customers=University 328<br>Invoice Amount=%{marker.size}<br>Lat=%{lat}<br>Long=%{lon}<extra></extra>",
         "lat": [
          40.77893
         ],
         "legendgroup": "University 328",
         "lon": [
          -77.841359
         ],
         "marker": {
          "color": "#FFA15A",
          "size": [
           4000
          ],
          "sizemode": "area",
          "sizeref": 347.5
         },
         "mode": "markers",
         "name": "University 328",
         "showlegend": true,
         "subplot": "mapbox",
         "type": "scattermapbox"
        },
        {
         "hovertemplate": "Customers=University 329<br>Invoice Amount=%{marker.size}<br>Lat=%{lat}<br>Long=%{lon}<extra></extra>",
         "lat": [
          43.70701
         ],
         "legendgroup": "University 329",
         "lon": [
          -72.27741
         ],
         "marker": {
          "color": "#19d3f3",
          "size": [
           550
          ],
          "sizemode": "area",
          "sizeref": 347.5
         },
         "mode": "markers",
         "name": "University 329",
         "showlegend": true,
         "subplot": "mapbox",
         "type": "scattermapbox"
        },
        {
         "hovertemplate": "Customers=University 33<br>Invoice Amount=%{marker.size}<br>Lat=%{lat}<br>Long=%{lon}<extra></extra>",
         "lat": [
          180.355809
         ],
         "legendgroup": "University 33",
         "lon": [
          -398.958777
         ],
         "marker": {
          "color": "#FF6692",
          "size": [
           17500
          ],
          "sizemode": "area",
          "sizeref": 347.5
         },
         "mode": "markers",
         "name": "University 33",
         "showlegend": true,
         "subplot": "mapbox",
         "type": "scattermapbox"
        },
        {
         "hovertemplate": "Customers=University 330<br>Invoice Amount=%{marker.size}<br>Lat=%{lat}<br>Long=%{lon}<extra></extra>",
         "lat": [
          36.731332
         ],
         "legendgroup": "University 330",
         "lon": [
          -83.33573
         ],
         "marker": {
          "color": "#B6E880",
          "size": [
           525
          ],
          "sizemode": "area",
          "sizeref": 347.5
         },
         "mode": "markers",
         "name": "University 330",
         "showlegend": true,
         "subplot": "mapbox",
         "type": "scattermapbox"
        },
        {
         "hovertemplate": "Customers=University 331<br>Invoice Amount=%{marker.size}<br>Lat=%{lat}<br>Long=%{lon}<extra></extra>",
         "lat": [
          56.124
         ],
         "legendgroup": "University 331",
         "lon": [
          -164.82645
         ],
         "marker": {
          "color": "#FF97FF",
          "size": [
           3500
          ],
          "sizemode": "area",
          "sizeref": 347.5
         },
         "mode": "markers",
         "name": "University 331",
         "showlegend": true,
         "subplot": "mapbox",
         "type": "scattermapbox"
        },
        {
         "hovertemplate": "Customers=University 332<br>Invoice Amount=%{marker.size}<br>Lat=%{lat}<br>Long=%{lon}<extra></extra>",
         "lat": [
          43.556574
         ],
         "legendgroup": "University 332",
         "lon": [
          -83.994328
         ],
         "marker": {
          "color": "#FECB52",
          "size": [
           1710
          ],
          "sizemode": "area",
          "sizeref": 347.5
         },
         "mode": "markers",
         "name": "University 332",
         "showlegend": true,
         "subplot": "mapbox",
         "type": "scattermapbox"
        },
        {
         "hovertemplate": "Customers=University 333<br>Invoice Amount=%{marker.size}<br>Lat=%{lat}<br>Long=%{lon}<extra></extra>",
         "lat": [
          34.104794
         ],
         "legendgroup": "University 333",
         "lon": [
          -117.29215
         ],
         "marker": {
          "color": "#636efa",
          "size": [
           5000
          ],
          "sizemode": "area",
          "sizeref": 347.5
         },
         "mode": "markers",
         "name": "University 333",
         "showlegend": true,
         "subplot": "mapbox",
         "type": "scattermapbox"
        },
        {
         "hovertemplate": "Customers=University 334<br>Invoice Amount=%{marker.size}<br>Lat=%{lat}<br>Long=%{lon}<extra></extra>",
         "lat": [
          35.709894
         ],
         "legendgroup": "University 334",
         "lon": [
          -98.81099
         ],
         "marker": {
          "color": "#EF553B",
          "size": [
           625
          ],
          "sizemode": "area",
          "sizeref": 347.5
         },
         "mode": "markers",
         "name": "University 334",
         "showlegend": true,
         "subplot": "mapbox",
         "type": "scattermapbox"
        },
        {
         "hovertemplate": "Customers=University 335<br>Invoice Amount=%{marker.size}<br>Lat=%{lat}<br>Long=%{lon}<extra></extra>",
         "lat": [
          35.841039
         ],
         "legendgroup": "University 335",
         "lon": [
          -90.675602
         ],
         "marker": {
          "color": "#00cc96",
          "size": [
           5500
          ],
          "sizemode": "area",
          "sizeref": 347.5
         },
         "mode": "markers",
         "name": "University 335",
         "showlegend": true,
         "subplot": "mapbox",
         "type": "scattermapbox"
        },
        {
         "hovertemplate": "Customers=University 336<br>Invoice Amount=%{marker.size}<br>Lat=%{lat}<br>Long=%{lon}<extra></extra>",
         "lat": [
          35.841039
         ],
         "legendgroup": "University 336",
         "lon": [
          -90.675602
         ],
         "marker": {
          "color": "#ab63fa",
          "size": [
           2250
          ],
          "sizemode": "area",
          "sizeref": 347.5
         },
         "mode": "markers",
         "name": "University 336",
         "showlegend": true,
         "subplot": "mapbox",
         "type": "scattermapbox"
        },
        {
         "hovertemplate": "Customers=University 337<br>Invoice Amount=%{marker.size}<br>Lat=%{lat}<br>Long=%{lon}<extra></extra>",
         "lat": [
          41.141206
         ],
         "legendgroup": "University 337",
         "lon": [
          -74.168479
         ],
         "marker": {
          "color": "#FFA15A",
          "size": [
           400
          ],
          "sizemode": "area",
          "sizeref": 347.5
         },
         "mode": "markers",
         "name": "University 337",
         "showlegend": true,
         "subplot": "mapbox",
         "type": "scattermapbox"
        },
        {
         "hovertemplate": "Customers=University 338<br>Invoice Amount=%{marker.size}<br>Lat=%{lat}<br>Long=%{lon}<extra></extra>",
         "lat": [
          41.906231
         ],
         "legendgroup": "University 338",
         "lon": [
          -93.154445
         ],
         "marker": {
          "color": "#19d3f3",
          "size": [
           2100
          ],
          "sizemode": "area",
          "sizeref": 347.5
         },
         "mode": "markers",
         "name": "University 338",
         "showlegend": true,
         "subplot": "mapbox",
         "type": "scattermapbox"
        },
        {
         "hovertemplate": "Customers=University 339<br>Invoice Amount=%{marker.size}<br>Lat=%{lat}<br>Long=%{lon}<extra></extra>",
         "lat": [
          33.826229
         ],
         "legendgroup": "University 339",
         "lon": [
          -93.961022
         ],
         "marker": {
          "color": "#FF6692",
          "size": [
           625
          ],
          "sizemode": "area",
          "sizeref": 347.5
         },
         "mode": "markers",
         "name": "University 339",
         "showlegend": true,
         "subplot": "mapbox",
         "type": "scattermapbox"
        },
        {
         "hovertemplate": "Customers=University 34<br>Invoice Amount=%{marker.size}<br>Lat=%{lat}<br>Long=%{lon}<extra></extra>",
         "lat": [
          39.509498
         ],
         "legendgroup": "University 34",
         "lon": [
          -84.734465
         ],
         "marker": {
          "color": "#B6E880",
          "size": [
           750
          ],
          "sizemode": "area",
          "sizeref": 347.5
         },
         "mode": "markers",
         "name": "University 34",
         "showlegend": true,
         "subplot": "mapbox",
         "type": "scattermapbox"
        },
        {
         "hovertemplate": "Customers=University 340<br>Invoice Amount=%{marker.size}<br>Lat=%{lat}<br>Long=%{lon}<extra></extra>",
         "lat": [
          36.809796
         ],
         "legendgroup": "University 340",
         "lon": [
          -84.708275
         ],
         "marker": {
          "color": "#FF97FF",
          "size": [
           4500
          ],
          "sizemode": "area",
          "sizeref": 347.5
         },
         "mode": "markers",
         "name": "University 340",
         "showlegend": true,
         "subplot": "mapbox",
         "type": "scattermapbox"
        },
        {
         "hovertemplate": "Customers=University 341<br>Invoice Amount=%{marker.size}<br>Lat=%{lat}<br>Long=%{lon}<extra></extra>",
         "lat": [
          0
         ],
         "legendgroup": "University 341",
         "lon": [
          0
         ],
         "marker": {
          "color": "#FECB52",
          "size": [
           1825
          ],
          "sizemode": "area",
          "sizeref": 347.5
         },
         "mode": "markers",
         "name": "University 341",
         "showlegend": true,
         "subplot": "mapbox",
         "type": "scattermapbox"
        },
        {
         "hovertemplate": "Customers=University 342<br>Invoice Amount=%{marker.size}<br>Lat=%{lat}<br>Long=%{lon}<extra></extra>",
         "lat": [
          48.124594
         ],
         "legendgroup": "University 342",
         "lon": [
          -117.762554
         ],
         "marker": {
          "color": "#636efa",
          "size": [
           3700
          ],
          "sizemode": "area",
          "sizeref": 347.5
         },
         "mode": "markers",
         "name": "University 342",
         "showlegend": true,
         "subplot": "mapbox",
         "type": "scattermapbox"
        },
        {
         "hovertemplate": "Customers=University 343<br>Invoice Amount=%{marker.size}<br>Lat=%{lat}<br>Long=%{lon}<extra></extra>",
         "lat": [
          56.124
         ],
         "legendgroup": "University 343",
         "lon": [
          -164.82645
         ],
         "marker": {
          "color": "#EF553B",
          "size": [
           1500
          ],
          "sizemode": "area",
          "sizeref": 347.5
         },
         "mode": "markers",
         "name": "University 343",
         "showlegend": true,
         "subplot": "mapbox",
         "type": "scattermapbox"
        },
        {
         "hovertemplate": "Customers=University 344<br>Invoice Amount=%{marker.size}<br>Lat=%{lat}<br>Long=%{lon}<extra></extra>",
         "lat": [
          43.212556
         ],
         "legendgroup": "University 344",
         "lon": [
          -78.82587099999998
         ],
         "marker": {
          "color": "#00cc96",
          "size": [
           1976.3
          ],
          "sizemode": "area",
          "sizeref": 347.5
         },
         "mode": "markers",
         "name": "University 344",
         "showlegend": true,
         "subplot": "mapbox",
         "type": "scattermapbox"
        },
        {
         "hovertemplate": "Customers=University 345<br>Invoice Amount=%{marker.size}<br>Lat=%{lat}<br>Long=%{lon}<extra></extra>",
         "lat": [
          0
         ],
         "legendgroup": "University 345",
         "lon": [
          0
         ],
         "marker": {
          "color": "#ab63fa",
          "size": [
           6000
          ],
          "sizemode": "area",
          "sizeref": 347.5
         },
         "mode": "markers",
         "name": "University 345",
         "showlegend": true,
         "subplot": "mapbox",
         "type": "scattermapbox"
        },
        {
         "hovertemplate": "Customers=University 346<br>Invoice Amount=%{marker.size}<br>Lat=%{lat}<br>Long=%{lon}<extra></extra>",
         "lat": [
          0
         ],
         "legendgroup": "University 346",
         "lon": [
          0
         ],
         "marker": {
          "color": "#FFA15A",
          "size": [
           1976.3
          ],
          "sizemode": "area",
          "sizeref": 347.5
         },
         "mode": "markers",
         "name": "University 346",
         "showlegend": true,
         "subplot": "mapbox",
         "type": "scattermapbox"
        },
        {
         "hovertemplate": "Customers=University 347<br>Invoice Amount=%{marker.size}<br>Lat=%{lat}<br>Long=%{lon}<extra></extra>",
         "lat": [
          44.73663
         ],
         "legendgroup": "University 347",
         "lon": [
          -72.199084
         ],
         "marker": {
          "color": "#19d3f3",
          "size": [
           2300
          ],
          "sizemode": "area",
          "sizeref": 347.5
         },
         "mode": "markers",
         "name": "University 347",
         "showlegend": true,
         "subplot": "mapbox",
         "type": "scattermapbox"
        },
        {
         "hovertemplate": "Customers=University 348<br>Invoice Amount=%{marker.size}<br>Lat=%{lat}<br>Long=%{lon}<extra></extra>",
         "lat": [
          46.814054
         ],
         "legendgroup": "University 348",
         "lon": [
          -92.087367
         ],
         "marker": {
          "color": "#FF6692",
          "size": [
           5090
          ],
          "sizemode": "area",
          "sizeref": 347.5
         },
         "mode": "markers",
         "name": "University 348",
         "showlegend": true,
         "subplot": "mapbox",
         "type": "scattermapbox"
        },
        {
         "hovertemplate": "Customers=University 349<br>Invoice Amount=%{marker.size}<br>Lat=%{lat}<br>Long=%{lon}<extra></extra>",
         "lat": [
          28.062
         ],
         "legendgroup": "University 349",
         "lon": [
          -82.413225
         ],
         "marker": {
          "color": "#B6E880",
          "size": [
           2000
          ],
          "sizemode": "area",
          "sizeref": 347.5
         },
         "mode": "markers",
         "name": "University 349",
         "showlegend": true,
         "subplot": "mapbox",
         "type": "scattermapbox"
        },
        {
         "hovertemplate": "Customers=University 35<br>Invoice Amount=%{marker.size}<br>Lat=%{lat}<br>Long=%{lon}<extra></extra>",
         "lat": [
          67.31345400000001
         ],
         "legendgroup": "University 35",
         "lon": [
          -235.65017999999998
         ],
         "marker": {
          "color": "#FF97FF",
          "size": [
           5050
          ],
          "sizemode": "area",
          "sizeref": 347.5
         },
         "mode": "markers",
         "name": "University 35",
         "showlegend": true,
         "subplot": "mapbox",
         "type": "scattermapbox"
        },
        {
         "hovertemplate": "Customers=University 350<br>Invoice Amount=%{marker.size}<br>Lat=%{lat}<br>Long=%{lon}<extra></extra>",
         "lat": [
          28.062
         ],
         "legendgroup": "University 350",
         "lon": [
          -82.413225
         ],
         "marker": {
          "color": "#FECB52",
          "size": [
           800
          ],
          "sizemode": "area",
          "sizeref": 347.5
         },
         "mode": "markers",
         "name": "University 350",
         "showlegend": true,
         "subplot": "mapbox",
         "type": "scattermapbox"
        },
        {
         "hovertemplate": "Customers=University 351<br>Invoice Amount=%{marker.size}<br>Lat=%{lat}<br>Long=%{lon}<extra></extra>",
         "lat": [
          40.10789000000001
         ],
         "legendgroup": "University 351",
         "lon": [
          -88.24426600000002
         ],
         "marker": {
          "color": "#636efa",
          "size": [
           2480
          ],
          "sizemode": "area",
          "sizeref": 347.5
         },
         "mode": "markers",
         "name": "University 351",
         "showlegend": true,
         "subplot": "mapbox",
         "type": "scattermapbox"
        },
        {
         "hovertemplate": "Customers=University 352<br>Invoice Amount=%{marker.size}<br>Lat=%{lat}<br>Long=%{lon}<extra></extra>",
         "lat": [
          28.062
         ],
         "legendgroup": "University 352",
         "lon": [
          -82.413225
         ],
         "marker": {
          "color": "#EF553B",
          "size": [
           625
          ],
          "sizemode": "area",
          "sizeref": 347.5
         },
         "mode": "markers",
         "name": "University 352",
         "showlegend": true,
         "subplot": "mapbox",
         "type": "scattermapbox"
        },
        {
         "hovertemplate": "Customers=University 353<br>Invoice Amount=%{marker.size}<br>Lat=%{lat}<br>Long=%{lon}<extra></extra>",
         "lat": [
          35.29838
         ],
         "legendgroup": "University 353",
         "lon": [
          -105.392788
         ],
         "marker": {
          "color": "#00cc96",
          "size": [
           1250
          ],
          "sizemode": "area",
          "sizeref": 347.5
         },
         "mode": "markers",
         "name": "University 353",
         "showlegend": true,
         "subplot": "mapbox",
         "type": "scattermapbox"
        },
        {
         "hovertemplate": "Customers=University 354<br>Invoice Amount=%{marker.size}<br>Lat=%{lat}<br>Long=%{lon}<extra></extra>",
         "lat": [
          40.114729
         ],
         "legendgroup": "University 354",
         "lon": [
          -84.493439
         ],
         "marker": {
          "color": "#ab63fa",
          "size": [
           2000
          ],
          "sizemode": "area",
          "sizeref": 347.5
         },
         "mode": "markers",
         "name": "University 354",
         "showlegend": true,
         "subplot": "mapbox",
         "type": "scattermapbox"
        },
        {
         "hovertemplate": "Customers=University 355<br>Invoice Amount=%{marker.size}<br>Lat=%{lat}<br>Long=%{lon}<extra></extra>",
         "lat": [
          44.796635
         ],
         "legendgroup": "University 355",
         "lon": [
          -91.506154
         ],
         "marker": {
          "color": "#FFA15A",
          "size": [
           4650
          ],
          "sizemode": "area",
          "sizeref": 347.5
         },
         "mode": "markers",
         "name": "University 355",
         "showlegend": true,
         "subplot": "mapbox",
         "type": "scattermapbox"
        },
        {
         "hovertemplate": "Customers=University 356<br>Invoice Amount=%{marker.size}<br>Lat=%{lat}<br>Long=%{lon}<extra></extra>",
         "lat": [
          37.86923400000001
         ],
         "legendgroup": "University 356",
         "lon": [
          -122.289657
         ],
         "marker": {
          "color": "#19d3f3",
          "size": [
           875
          ],
          "sizemode": "area",
          "sizeref": 347.5
         },
         "mode": "markers",
         "name": "University 356",
         "showlegend": true,
         "subplot": "mapbox",
         "type": "scattermapbox"
        },
        {
         "hovertemplate": "Customers=University 357<br>Invoice Amount=%{marker.size}<br>Lat=%{lat}<br>Long=%{lon}<extra></extra>",
         "lat": [
          28.062
         ],
         "legendgroup": "University 357",
         "lon": [
          -82.413225
         ],
         "marker": {
          "color": "#FF6692",
          "size": [
           587
          ],
          "sizemode": "area",
          "sizeref": 347.5
         },
         "mode": "markers",
         "name": "University 357",
         "showlegend": true,
         "subplot": "mapbox",
         "type": "scattermapbox"
        },
        {
         "hovertemplate": "Customers=University 358<br>Invoice Amount=%{marker.size}<br>Lat=%{lat}<br>Long=%{lon}<extra></extra>",
         "lat": [
          0
         ],
         "legendgroup": "University 358",
         "lon": [
          0
         ],
         "marker": {
          "color": "#B6E880",
          "size": [
           375
          ],
          "sizemode": "area",
          "sizeref": 347.5
         },
         "mode": "markers",
         "name": "University 358",
         "showlegend": true,
         "subplot": "mapbox",
         "type": "scattermapbox"
        },
        {
         "hovertemplate": "Customers=University 359<br>Invoice Amount=%{marker.size}<br>Lat=%{lat}<br>Long=%{lon}<extra></extra>",
         "lat": [
          41.21479
         ],
         "legendgroup": "University 359",
         "lon": [
          -79.38532
         ],
         "marker": {
          "color": "#FF97FF",
          "size": [
           4500
          ],
          "sizemode": "area",
          "sizeref": 347.5
         },
         "mode": "markers",
         "name": "University 359",
         "showlegend": true,
         "subplot": "mapbox",
         "type": "scattermapbox"
        },
        {
         "hovertemplate": "Customers=University 36<br>Invoice Amount=%{marker.size}<br>Lat=%{lat}<br>Long=%{lon}<extra></extra>",
         "lat": [
          185.287291
         ],
         "legendgroup": "University 36",
         "lon": [
          -571.228832
         ],
         "marker": {
          "color": "#FECB52",
          "size": [
           13500
          ],
          "sizemode": "area",
          "sizeref": 347.5
         },
         "mode": "markers",
         "name": "University 36",
         "showlegend": true,
         "subplot": "mapbox",
         "type": "scattermapbox"
        },
        {
         "hovertemplate": "Customers=University 360<br>Invoice Amount=%{marker.size}<br>Lat=%{lat}<br>Long=%{lon}<extra></extra>",
         "lat": [
          40.43448400000001
         ],
         "legendgroup": "University 360",
         "lon": [
          -91.776
         ],
         "marker": {
          "color": "#636efa",
          "size": [
           3000
          ],
          "sizemode": "area",
          "sizeref": 347.5
         },
         "mode": "markers",
         "name": "University 360",
         "showlegend": true,
         "subplot": "mapbox",
         "type": "scattermapbox"
        },
        {
         "hovertemplate": "Customers=University 361<br>Invoice Amount=%{marker.size}<br>Lat=%{lat}<br>Long=%{lon}<extra></extra>",
         "lat": [
          42.170731
         ],
         "legendgroup": "University 361",
         "lon": [
          -72.604842
         ],
         "marker": {
          "color": "#EF553B",
          "size": [
           625
          ],
          "sizemode": "area",
          "sizeref": 347.5
         },
         "mode": "markers",
         "name": "University 361",
         "showlegend": true,
         "subplot": "mapbox",
         "type": "scattermapbox"
        },
        {
         "hovertemplate": "Customers=University 362<br>Invoice Amount=%{marker.size}<br>Lat=%{lat}<br>Long=%{lon}<extra></extra>",
         "lat": [
          41.87272
         ],
         "legendgroup": "University 362",
         "lon": [
          -88.112442
         ],
         "marker": {
          "color": "#00cc96",
          "size": [
           512.5
          ],
          "sizemode": "area",
          "sizeref": 347.5
         },
         "mode": "markers",
         "name": "University 362",
         "showlegend": true,
         "subplot": "mapbox",
         "type": "scattermapbox"
        },
        {
         "hovertemplate": "Customers=University 363<br>Invoice Amount=%{marker.size}<br>Lat=%{lat}<br>Long=%{lon}<extra></extra>",
         "lat": [
          30.73851
         ],
         "legendgroup": "University 363",
         "lon": [
          -99.11144
         ],
         "marker": {
          "color": "#ab63fa",
          "size": [
           500
          ],
          "sizemode": "area",
          "sizeref": 347.5
         },
         "mode": "markers",
         "name": "University 363",
         "showlegend": true,
         "subplot": "mapbox",
         "type": "scattermapbox"
        },
        {
         "hovertemplate": "Customers=University 364<br>Invoice Amount=%{marker.size}<br>Lat=%{lat}<br>Long=%{lon}<extra></extra>",
         "lat": [
          0
         ],
         "legendgroup": "University 364",
         "lon": [
          0
         ],
         "marker": {
          "color": "#FFA15A",
          "size": [
           500
          ],
          "sizemode": "area",
          "sizeref": 347.5
         },
         "mode": "markers",
         "name": "University 364",
         "showlegend": true,
         "subplot": "mapbox",
         "type": "scattermapbox"
        },
        {
         "hovertemplate": "Customers=University 365<br>Invoice Amount=%{marker.size}<br>Lat=%{lat}<br>Long=%{lon}<extra></extra>",
         "lat": [
          93.68405600000001
         ],
         "legendgroup": "University 365",
         "lon": [
          -193.471126
         ],
         "marker": {
          "color": "#19d3f3",
          "size": [
           3100
          ],
          "sizemode": "area",
          "sizeref": 347.5
         },
         "mode": "markers",
         "name": "University 365",
         "showlegend": true,
         "subplot": "mapbox",
         "type": "scattermapbox"
        },
        {
         "hovertemplate": "Customers=University 366<br>Invoice Amount=%{marker.size}<br>Lat=%{lat}<br>Long=%{lon}<extra></extra>",
         "lat": [
          28.062
         ],
         "legendgroup": "University 366",
         "lon": [
          -82.413225
         ],
         "marker": {
          "color": "#FF6692",
          "size": [
           391
          ],
          "sizemode": "area",
          "sizeref": 347.5
         },
         "mode": "markers",
         "name": "University 366",
         "showlegend": true,
         "subplot": "mapbox",
         "type": "scattermapbox"
        },
        {
         "hovertemplate": "Customers=University 367<br>Invoice Amount=%{marker.size}<br>Lat=%{lat}<br>Long=%{lon}<extra></extra>",
         "lat": [
          0
         ],
         "legendgroup": "University 367",
         "lon": [
          0
         ],
         "marker": {
          "color": "#B6E880",
          "size": [
           4350
          ],
          "sizemode": "area",
          "sizeref": 347.5
         },
         "mode": "markers",
         "name": "University 367",
         "showlegend": true,
         "subplot": "mapbox",
         "type": "scattermapbox"
        },
        {
         "hovertemplate": "Customers=University 368<br>Invoice Amount=%{marker.size}<br>Lat=%{lat}<br>Long=%{lon}<extra></extra>",
         "lat": [
          45.408173
         ],
         "legendgroup": "University 368",
         "lon": [
          -122.922323
         ],
         "marker": {
          "color": "#FF97FF",
          "size": [
           1840
          ],
          "sizemode": "area",
          "sizeref": 347.5
         },
         "mode": "markers",
         "name": "University 368",
         "showlegend": true,
         "subplot": "mapbox",
         "type": "scattermapbox"
        },
        {
         "hovertemplate": "Customers=University 369<br>Invoice Amount=%{marker.size}<br>Lat=%{lat}<br>Long=%{lon}<extra></extra>",
         "lat": [
          0
         ],
         "legendgroup": "University 369",
         "lon": [
          0
         ],
         "marker": {
          "color": "#FECB52",
          "size": [
           700
          ],
          "sizemode": "area",
          "sizeref": 347.5
         },
         "mode": "markers",
         "name": "University 369",
         "showlegend": true,
         "subplot": "mapbox",
         "type": "scattermapbox"
        },
        {
         "hovertemplate": "Customers=University 37<br>Invoice Amount=%{marker.size}<br>Lat=%{lat}<br>Long=%{lon}<extra></extra>",
         "lat": [
          39.65839
         ],
         "legendgroup": "University 37",
         "lon": [
          -75.717762
         ],
         "marker": {
          "color": "#636efa",
          "size": [
           3500
          ],
          "sizemode": "area",
          "sizeref": 347.5
         },
         "mode": "markers",
         "name": "University 37",
         "showlegend": true,
         "subplot": "mapbox",
         "type": "scattermapbox"
        },
        {
         "hovertemplate": "Customers=University 370<br>Invoice Amount=%{marker.size}<br>Lat=%{lat}<br>Long=%{lon}<extra></extra>",
         "lat": [
          0
         ],
         "legendgroup": "University 370",
         "lon": [
          0
         ],
         "marker": {
          "color": "#EF553B",
          "size": [
           4250
          ],
          "sizemode": "area",
          "sizeref": 347.5
         },
         "mode": "markers",
         "name": "University 370",
         "showlegend": true,
         "subplot": "mapbox",
         "type": "scattermapbox"
        },
        {
         "hovertemplate": "Customers=University 371<br>Invoice Amount=%{marker.size}<br>Lat=%{lat}<br>Long=%{lon}<extra></extra>",
         "lat": [
          30.24171
         ],
         "legendgroup": "University 371",
         "lon": [
          -91.991044
         ],
         "marker": {
          "color": "#00cc96",
          "size": [
           875
          ],
          "sizemode": "area",
          "sizeref": 347.5
         },
         "mode": "markers",
         "name": "University 371",
         "showlegend": true,
         "subplot": "mapbox",
         "type": "scattermapbox"
        },
        {
         "hovertemplate": "Customers=University 372<br>Invoice Amount=%{marker.size}<br>Lat=%{lat}<br>Long=%{lon}<extra></extra>",
         "lat": [
          35.53971
         ],
         "legendgroup": "University 372",
         "lon": [
          -79.130864
         ],
         "marker": {
          "color": "#ab63fa",
          "size": [
           2000
          ],
          "sizemode": "area",
          "sizeref": 347.5
         },
         "mode": "markers",
         "name": "University 372",
         "showlegend": true,
         "subplot": "mapbox",
         "type": "scattermapbox"
        },
        {
         "hovertemplate": "Customers=University 373<br>Invoice Amount=%{marker.size}<br>Lat=%{lat}<br>Long=%{lon}<extra></extra>",
         "lat": [
          32.283341
         ],
         "legendgroup": "University 373",
         "lon": [
          -95.263047
         ],
         "marker": {
          "color": "#FFA15A",
          "size": [
           355
          ],
          "sizemode": "area",
          "sizeref": 347.5
         },
         "mode": "markers",
         "name": "University 373",
         "showlegend": true,
         "subplot": "mapbox",
         "type": "scattermapbox"
        },
        {
         "hovertemplate": "Customers=University 374<br>Invoice Amount=%{marker.size}<br>Lat=%{lat}<br>Long=%{lon}<extra></extra>",
         "lat": [
          0
         ],
         "legendgroup": "University 374",
         "lon": [
          0
         ],
         "marker": {
          "color": "#19d3f3",
          "size": [
           1750
          ],
          "sizemode": "area",
          "sizeref": 347.5
         },
         "mode": "markers",
         "name": "University 374",
         "showlegend": true,
         "subplot": "mapbox",
         "type": "scattermapbox"
        },
        {
         "hovertemplate": "Customers=University 375<br>Invoice Amount=%{marker.size}<br>Lat=%{lat}<br>Long=%{lon}<extra></extra>",
         "lat": [
          45.558622
         ],
         "legendgroup": "University 375",
         "lon": [
          -84.391695
         ],
         "marker": {
          "color": "#FF6692",
          "size": [
           2750
          ],
          "sizemode": "area",
          "sizeref": 347.5
         },
         "mode": "markers",
         "name": "University 375",
         "showlegend": true,
         "subplot": "mapbox",
         "type": "scattermapbox"
        },
        {
         "hovertemplate": "Customers=University 376<br>Invoice Amount=%{marker.size}<br>Lat=%{lat}<br>Long=%{lon}<extra></extra>",
         "lat": [
          0
         ],
         "legendgroup": "University 376",
         "lon": [
          0
         ],
         "marker": {
          "color": "#B6E880",
          "size": [
           500
          ],
          "sizemode": "area",
          "sizeref": 347.5
         },
         "mode": "markers",
         "name": "University 376",
         "showlegend": true,
         "subplot": "mapbox",
         "type": "scattermapbox"
        },
        {
         "hovertemplate": "Customers=University 377<br>Invoice Amount=%{marker.size}<br>Lat=%{lat}<br>Long=%{lon}<extra></extra>",
         "lat": [
          77.940776
         ],
         "legendgroup": "University 377",
         "lon": [
          -153.883838
         ],
         "marker": {
          "color": "#FF97FF",
          "size": [
           4000
          ],
          "sizemode": "area",
          "sizeref": 347.5
         },
         "mode": "markers",
         "name": "University 377",
         "showlegend": true,
         "subplot": "mapbox",
         "type": "scattermapbox"
        },
        {
         "hovertemplate": "Customers=University 378<br>Invoice Amount=%{marker.size}<br>Lat=%{lat}<br>Long=%{lon}<extra></extra>",
         "lat": [
          89.604702
         ],
         "legendgroup": "University 378",
         "lon": [
          -185.19073
         ],
         "marker": {
          "color": "#FECB52",
          "size": [
           2962
          ],
          "sizemode": "area",
          "sizeref": 347.5
         },
         "mode": "markers",
         "name": "University 378",
         "showlegend": true,
         "subplot": "mapbox",
         "type": "scattermapbox"
        },
        {
         "hovertemplate": "Customers=University 379<br>Invoice Amount=%{marker.size}<br>Lat=%{lat}<br>Long=%{lon}<extra></extra>",
         "lat": [
          35.841039
         ],
         "legendgroup": "University 379",
         "lon": [
          -90.675602
         ],
         "marker": {
          "color": "#636efa",
          "size": [
           1270
          ],
          "sizemode": "area",
          "sizeref": 347.5
         },
         "mode": "markers",
         "name": "University 379",
         "showlegend": true,
         "subplot": "mapbox",
         "type": "scattermapbox"
        },
        {
         "hovertemplate": "Customers=University 38<br>Invoice Amount=%{marker.size}<br>Lat=%{lat}<br>Long=%{lon}<extra></extra>",
         "lat": [
          177.668881
         ],
         "legendgroup": "University 38",
         "lon": [
          -429.814312
         ],
         "marker": {
          "color": "#EF553B",
          "size": [
           9000
          ],
          "sizemode": "area",
          "sizeref": 347.5
         },
         "mode": "markers",
         "name": "University 38",
         "showlegend": true,
         "subplot": "mapbox",
         "type": "scattermapbox"
        },
        {
         "hovertemplate": "Customers=University 380<br>Invoice Amount=%{marker.size}<br>Lat=%{lat}<br>Long=%{lon}<extra></extra>",
         "lat": [
          34.173057
         ],
         "legendgroup": "University 380",
         "lon": [
          -90.136429
         ],
         "marker": {
          "color": "#00cc96",
          "size": [
           2500
          ],
          "sizemode": "area",
          "sizeref": 347.5
         },
         "mode": "markers",
         "name": "University 380",
         "showlegend": true,
         "subplot": "mapbox",
         "type": "scattermapbox"
        },
        {
         "hovertemplate": "Customers=University 381<br>Invoice Amount=%{marker.size}<br>Lat=%{lat}<br>Long=%{lon}<extra></extra>",
         "lat": [
          0
         ],
         "legendgroup": "University 381",
         "lon": [
          0
         ],
         "marker": {
          "color": "#ab63fa",
          "size": [
           875
          ],
          "sizemode": "area",
          "sizeref": 347.5
         },
         "mode": "markers",
         "name": "University 381",
         "showlegend": true,
         "subplot": "mapbox",
         "type": "scattermapbox"
        },
        {
         "hovertemplate": "Customers=University 382<br>Invoice Amount=%{marker.size}<br>Lat=%{lat}<br>Long=%{lon}<extra></extra>",
         "lat": [
          0
         ],
         "legendgroup": "University 382",
         "lon": [
          0
         ],
         "marker": {
          "color": "#FFA15A",
          "size": [
           7500
          ],
          "sizemode": "area",
          "sizeref": 347.5
         },
         "mode": "markers",
         "name": "University 382",
         "showlegend": true,
         "subplot": "mapbox",
         "type": "scattermapbox"
        },
        {
         "hovertemplate": "Customers=University 383<br>Invoice Amount=%{marker.size}<br>Lat=%{lat}<br>Long=%{lon}<extra></extra>",
         "lat": [
          0
         ],
         "legendgroup": "University 383",
         "lon": [
          0
         ],
         "marker": {
          "color": "#19d3f3",
          "size": [
           2250
          ],
          "sizemode": "area",
          "sizeref": 347.5
         },
         "mode": "markers",
         "name": "University 383",
         "showlegend": true,
         "subplot": "mapbox",
         "type": "scattermapbox"
        },
        {
         "hovertemplate": "Customers=University 384<br>Invoice Amount=%{marker.size}<br>Lat=%{lat}<br>Long=%{lon}<extra></extra>",
         "lat": [
          48.124594
         ],
         "legendgroup": "University 384",
         "lon": [
          -117.762554
         ],
         "marker": {
          "color": "#FF6692",
          "size": [
           1030
          ],
          "sizemode": "area",
          "sizeref": 347.5
         },
         "mode": "markers",
         "name": "University 384",
         "showlegend": true,
         "subplot": "mapbox",
         "type": "scattermapbox"
        },
        {
         "hovertemplate": "Customers=University 385<br>Invoice Amount=%{marker.size}<br>Lat=%{lat}<br>Long=%{lon}<extra></extra>",
         "lat": [
          42.42282700000001
         ],
         "legendgroup": "University 385",
         "lon": [
          -78.206289
         ],
         "marker": {
          "color": "#B6E880",
          "size": [
           2500
          ],
          "sizemode": "area",
          "sizeref": 347.5
         },
         "mode": "markers",
         "name": "University 385",
         "showlegend": true,
         "subplot": "mapbox",
         "type": "scattermapbox"
        },
        {
         "hovertemplate": "Customers=University 386<br>Invoice Amount=%{marker.size}<br>Lat=%{lat}<br>Long=%{lon}<extra></extra>",
         "lat": [
          0
         ],
         "legendgroup": "University 386",
         "lon": [
          0
         ],
         "marker": {
          "color": "#FF97FF",
          "size": [
           4500
          ],
          "sizemode": "area",
          "sizeref": 347.5
         },
         "mode": "markers",
         "name": "University 386",
         "showlegend": true,
         "subplot": "mapbox",
         "type": "scattermapbox"
        },
        {
         "hovertemplate": "Customers=University 387<br>Invoice Amount=%{marker.size}<br>Lat=%{lat}<br>Long=%{lon}<extra></extra>",
         "lat": [
          33.826229
         ],
         "legendgroup": "University 387",
         "lon": [
          -93.961022
         ],
         "marker": {
          "color": "#FECB52",
          "size": [
           125
          ],
          "sizemode": "area",
          "sizeref": 347.5
         },
         "mode": "markers",
         "name": "University 387",
         "showlegend": true,
         "subplot": "mapbox",
         "type": "scattermapbox"
        },
        {
         "hovertemplate": "Customers=University 388<br>Invoice Amount=%{marker.size}<br>Lat=%{lat}<br>Long=%{lon}<extra></extra>",
         "lat": [
          35.841039
         ],
         "legendgroup": "University 388",
         "lon": [
          -90.675602
         ],
         "marker": {
          "color": "#636efa",
          "size": [
           3250
          ],
          "sizemode": "area",
          "sizeref": 347.5
         },
         "mode": "markers",
         "name": "University 388",
         "showlegend": true,
         "subplot": "mapbox",
         "type": "scattermapbox"
        },
        {
         "hovertemplate": "Customers=University 389<br>Invoice Amount=%{marker.size}<br>Lat=%{lat}<br>Long=%{lon}<extra></extra>",
         "lat": [
          0
         ],
         "legendgroup": "University 389",
         "lon": [
          0
         ],
         "marker": {
          "color": "#EF553B",
          "size": [
           2125
          ],
          "sizemode": "area",
          "sizeref": 347.5
         },
         "mode": "markers",
         "name": "University 389",
         "showlegend": true,
         "subplot": "mapbox",
         "type": "scattermapbox"
        },
        {
         "hovertemplate": "Customers=University 39<br>Invoice Amount=%{marker.size}<br>Lat=%{lat}<br>Long=%{lon}<extra></extra>",
         "lat": [
          141.556325
         ],
         "legendgroup": "University 39",
         "lon": [
          -356.60871199999997
         ],
         "marker": {
          "color": "#00cc96",
          "size": [
           8600
          ],
          "sizemode": "area",
          "sizeref": 347.5
         },
         "mode": "markers",
         "name": "University 39",
         "showlegend": true,
         "subplot": "mapbox",
         "type": "scattermapbox"
        },
        {
         "hovertemplate": "Customers=University 390<br>Invoice Amount=%{marker.size}<br>Lat=%{lat}<br>Long=%{lon}<extra></extra>",
         "lat": [
          35.841039
         ],
         "legendgroup": "University 390",
         "lon": [
          -90.675602
         ],
         "marker": {
          "color": "#ab63fa",
          "size": [
           2500
          ],
          "sizemode": "area",
          "sizeref": 347.5
         },
         "mode": "markers",
         "name": "University 390",
         "showlegend": true,
         "subplot": "mapbox",
         "type": "scattermapbox"
        },
        {
         "hovertemplate": "Customers=University 391<br>Invoice Amount=%{marker.size}<br>Lat=%{lat}<br>Long=%{lon}<extra></extra>",
         "lat": [
          0
         ],
         "legendgroup": "University 391",
         "lon": [
          0
         ],
         "marker": {
          "color": "#FFA15A",
          "size": [
           1575
          ],
          "sizemode": "area",
          "sizeref": 347.5
         },
         "mode": "markers",
         "name": "University 391",
         "showlegend": true,
         "subplot": "mapbox",
         "type": "scattermapbox"
        },
        {
         "hovertemplate": "Customers=University 392<br>Invoice Amount=%{marker.size}<br>Lat=%{lat}<br>Long=%{lon}<extra></extra>",
         "lat": [
          38.380263
         ],
         "legendgroup": "University 392",
         "lon": [
          -81.76714100000002
         ],
         "marker": {
          "color": "#19d3f3",
          "size": [
           800
          ],
          "sizemode": "area",
          "sizeref": 347.5
         },
         "mode": "markers",
         "name": "University 392",
         "showlegend": true,
         "subplot": "mapbox",
         "type": "scattermapbox"
        },
        {
         "hovertemplate": "Customers=University 393<br>Invoice Amount=%{marker.size}<br>Lat=%{lat}<br>Long=%{lon}<extra></extra>",
         "lat": [
          39.591282
         ],
         "legendgroup": "University 393",
         "lon": [
          -87.113196
         ],
         "marker": {
          "color": "#FF6692",
          "size": [
           2250
          ],
          "sizemode": "area",
          "sizeref": 347.5
         },
         "mode": "markers",
         "name": "University 393",
         "showlegend": true,
         "subplot": "mapbox",
         "type": "scattermapbox"
        },
        {
         "hovertemplate": "Customers=University 394<br>Invoice Amount=%{marker.size}<br>Lat=%{lat}<br>Long=%{lon}<extra></extra>",
         "lat": [
          39.330076
         ],
         "legendgroup": "University 394",
         "lon": [
          -76.61240500000002
         ],
         "marker": {
          "color": "#B6E880",
          "size": [
           2500
          ],
          "sizemode": "area",
          "sizeref": 347.5
         },
         "mode": "markers",
         "name": "University 394",
         "showlegend": true,
         "subplot": "mapbox",
         "type": "scattermapbox"
        },
        {
         "hovertemplate": "Customers=University 395<br>Invoice Amount=%{marker.size}<br>Lat=%{lat}<br>Long=%{lon}<extra></extra>",
         "lat": [
          28.062
         ],
         "legendgroup": "University 395",
         "lon": [
          -82.413225
         ],
         "marker": {
          "color": "#FF97FF",
          "size": [
           3250
          ],
          "sizemode": "area",
          "sizeref": 347.5
         },
         "mode": "markers",
         "name": "University 395",
         "showlegend": true,
         "subplot": "mapbox",
         "type": "scattermapbox"
        },
        {
         "hovertemplate": "Customers=University 396<br>Invoice Amount=%{marker.size}<br>Lat=%{lat}<br>Long=%{lon}<extra></extra>",
         "lat": [
          28.062
         ],
         "legendgroup": "University 396",
         "lon": [
          -82.413225
         ],
         "marker": {
          "color": "#FECB52",
          "size": [
           1250
          ],
          "sizemode": "area",
          "sizeref": 347.5
         },
         "mode": "markers",
         "name": "University 396",
         "showlegend": true,
         "subplot": "mapbox",
         "type": "scattermapbox"
        },
        {
         "hovertemplate": "Customers=University 397<br>Invoice Amount=%{marker.size}<br>Lat=%{lat}<br>Long=%{lon}<extra></extra>",
         "lat": [
          0
         ],
         "legendgroup": "University 397",
         "lon": [
          0
         ],
         "marker": {
          "color": "#636efa",
          "size": [
           3000
          ],
          "sizemode": "area",
          "sizeref": 347.5
         },
         "mode": "markers",
         "name": "University 397",
         "showlegend": true,
         "subplot": "mapbox",
         "type": "scattermapbox"
        },
        {
         "hovertemplate": "Customers=University 398<br>Invoice Amount=%{marker.size}<br>Lat=%{lat}<br>Long=%{lon}<extra></extra>",
         "lat": [
          48.124594
         ],
         "legendgroup": "University 398",
         "lon": [
          -117.762554
         ],
         "marker": {
          "color": "#EF553B",
          "size": [
           400
          ],
          "sizemode": "area",
          "sizeref": 347.5
         },
         "mode": "markers",
         "name": "University 398",
         "showlegend": true,
         "subplot": "mapbox",
         "type": "scattermapbox"
        },
        {
         "hovertemplate": "Customers=University 399<br>Invoice Amount=%{marker.size}<br>Lat=%{lat}<br>Long=%{lon}<extra></extra>",
         "lat": [
          38.978405
         ],
         "legendgroup": "University 399",
         "lon": [
          -79.94941700000003
         ],
         "marker": {
          "color": "#00cc96",
          "size": [
           1500
          ],
          "sizemode": "area",
          "sizeref": 347.5
         },
         "mode": "markers",
         "name": "University 399",
         "showlegend": true,
         "subplot": "mapbox",
         "type": "scattermapbox"
        },
        {
         "hovertemplate": "Customers=University 4<br>Invoice Amount=%{marker.size}<br>Lat=%{lat}<br>Long=%{lon}<extra></extra>",
         "lat": [
          44.66378
         ],
         "legendgroup": "University 4",
         "lon": [
          -74.978409
         ],
         "marker": {
          "color": "#ab63fa",
          "size": [
           6500
          ],
          "sizemode": "area",
          "sizeref": 347.5
         },
         "mode": "markers",
         "name": "University 4",
         "showlegend": true,
         "subplot": "mapbox",
         "type": "scattermapbox"
        },
        {
         "hovertemplate": "Customers=University 40<br>Invoice Amount=%{marker.size}<br>Lat=%{lat}<br>Long=%{lon}<extra></extra>",
         "lat": [
          35.050377000000005
         ],
         "legendgroup": "University 40",
         "lon": [
          -80.949466
         ],
         "marker": {
          "color": "#FFA15A",
          "size": [
           750
          ],
          "sizemode": "area",
          "sizeref": 347.5
         },
         "mode": "markers",
         "name": "University 40",
         "showlegend": true,
         "subplot": "mapbox",
         "type": "scattermapbox"
        },
        {
         "hovertemplate": "Customers=University 400<br>Invoice Amount=%{marker.size}<br>Lat=%{lat}<br>Long=%{lon}<extra></extra>",
         "lat": [
          129.41601
         ],
         "legendgroup": "University 400",
         "lon": [
          -237.11679000000007
         ],
         "marker": {
          "color": "#19d3f3",
          "size": [
           4210
          ],
          "sizemode": "area",
          "sizeref": 347.5
         },
         "mode": "markers",
         "name": "University 400",
         "showlegend": true,
         "subplot": "mapbox",
         "type": "scattermapbox"
        },
        {
         "hovertemplate": "Customers=University 401<br>Invoice Amount=%{marker.size}<br>Lat=%{lat}<br>Long=%{lon}<extra></extra>",
         "lat": [
          42.31296
         ],
         "legendgroup": "University 401",
         "lon": [
          -83.374549
         ],
         "marker": {
          "color": "#FF6692",
          "size": [
           450
          ],
          "sizemode": "area",
          "sizeref": 347.5
         },
         "mode": "markers",
         "name": "University 401",
         "showlegend": true,
         "subplot": "mapbox",
         "type": "scattermapbox"
        },
        {
         "hovertemplate": "Customers=University 402<br>Invoice Amount=%{marker.size}<br>Lat=%{lat}<br>Long=%{lon}<extra></extra>",
         "lat": [
          41.477816
         ],
         "legendgroup": "University 402",
         "lon": [
          -87.683188
         ],
         "marker": {
          "color": "#B6E880",
          "size": [
           8880
          ],
          "sizemode": "area",
          "sizeref": 347.5
         },
         "mode": "markers",
         "name": "University 402",
         "showlegend": true,
         "subplot": "mapbox",
         "type": "scattermapbox"
        },
        {
         "hovertemplate": "Customers=University 403<br>Invoice Amount=%{marker.size}<br>Lat=%{lat}<br>Long=%{lon}<extra></extra>",
         "lat": [
          0
         ],
         "legendgroup": "University 403",
         "lon": [
          0
         ],
         "marker": {
          "color": "#FF97FF",
          "size": [
           200
          ],
          "sizemode": "area",
          "sizeref": 347.5
         },
         "mode": "markers",
         "name": "University 403",
         "showlegend": true,
         "subplot": "mapbox",
         "type": "scattermapbox"
        },
        {
         "hovertemplate": "Customers=University 404<br>Invoice Amount=%{marker.size}<br>Lat=%{lat}<br>Long=%{lon}<extra></extra>",
         "lat": [
          37.765177
         ],
         "legendgroup": "University 404",
         "lon": [
          -121.115411
         ],
         "marker": {
          "color": "#FECB52",
          "size": [
           1900
          ],
          "sizemode": "area",
          "sizeref": 347.5
         },
         "mode": "markers",
         "name": "University 404",
         "showlegend": true,
         "subplot": "mapbox",
         "type": "scattermapbox"
        },
        {
         "hovertemplate": "Customers=University 405<br>Invoice Amount=%{marker.size}<br>Lat=%{lat}<br>Long=%{lon}<extra></extra>",
         "lat": [
          47.666487
         ],
         "legendgroup": "University 405",
         "lon": [
          -122.309849
         ],
         "marker": {
          "color": "#636efa",
          "size": [
           700
          ],
          "sizemode": "area",
          "sizeref": 347.5
         },
         "mode": "markers",
         "name": "University 405",
         "showlegend": true,
         "subplot": "mapbox",
         "type": "scattermapbox"
        },
        {
         "hovertemplate": "Customers=University 406<br>Invoice Amount=%{marker.size}<br>Lat=%{lat}<br>Long=%{lon}<extra></extra>",
         "lat": [
          35.841039
         ],
         "legendgroup": "University 406",
         "lon": [
          -90.675602
         ],
         "marker": {
          "color": "#EF553B",
          "size": [
           1625
          ],
          "sizemode": "area",
          "sizeref": 347.5
         },
         "mode": "markers",
         "name": "University 406",
         "showlegend": true,
         "subplot": "mapbox",
         "type": "scattermapbox"
        },
        {
         "hovertemplate": "Customers=University 407<br>Invoice Amount=%{marker.size}<br>Lat=%{lat}<br>Long=%{lon}<extra></extra>",
         "lat": [
          40.905139
         ],
         "legendgroup": "University 407",
         "lon": [
          -72.888349
         ],
         "marker": {
          "color": "#00cc96",
          "size": [
           395
          ],
          "sizemode": "area",
          "sizeref": 347.5
         },
         "mode": "markers",
         "name": "University 407",
         "showlegend": true,
         "subplot": "mapbox",
         "type": "scattermapbox"
        },
        {
         "hovertemplate": "Customers=University 408<br>Invoice Amount=%{marker.size}<br>Lat=%{lat}<br>Long=%{lon}<extra></extra>",
         "lat": [
          28.062
         ],
         "legendgroup": "University 408",
         "lon": [
          -82.413225
         ],
         "marker": {
          "color": "#ab63fa",
          "size": [
           500
          ],
          "sizemode": "area",
          "sizeref": 347.5
         },
         "mode": "markers",
         "name": "University 408",
         "showlegend": true,
         "subplot": "mapbox",
         "type": "scattermapbox"
        },
        {
         "hovertemplate": "Customers=University 409<br>Invoice Amount=%{marker.size}<br>Lat=%{lat}<br>Long=%{lon}<extra></extra>",
         "lat": [
          0
         ],
         "legendgroup": "University 409",
         "lon": [
          0
         ],
         "marker": {
          "color": "#FFA15A",
          "size": [
           3250
          ],
          "sizemode": "area",
          "sizeref": 347.5
         },
         "mode": "markers",
         "name": "University 409",
         "showlegend": true,
         "subplot": "mapbox",
         "type": "scattermapbox"
        },
        {
         "hovertemplate": "Customers=University 41<br>Invoice Amount=%{marker.size}<br>Lat=%{lat}<br>Long=%{lon}<extra></extra>",
         "lat": [
          26.384204
         ],
         "legendgroup": "University 41",
         "lon": [
          -80.14575
         ],
         "marker": {
          "color": "#19d3f3",
          "size": [
           750
          ],
          "sizemode": "area",
          "sizeref": 347.5
         },
         "mode": "markers",
         "name": "University 41",
         "showlegend": true,
         "subplot": "mapbox",
         "type": "scattermapbox"
        },
        {
         "hovertemplate": "Customers=University 410<br>Invoice Amount=%{marker.size}<br>Lat=%{lat}<br>Long=%{lon}<extra></extra>",
         "lat": [
          0
         ],
         "legendgroup": "University 410",
         "lon": [
          0
         ],
         "marker": {
          "color": "#FF6692",
          "size": [
           21000
          ],
          "sizemode": "area",
          "sizeref": 347.5
         },
         "mode": "markers",
         "name": "University 410",
         "showlegend": true,
         "subplot": "mapbox",
         "type": "scattermapbox"
        },
        {
         "hovertemplate": "Customers=University 411<br>Invoice Amount=%{marker.size}<br>Lat=%{lat}<br>Long=%{lon}<extra></extra>",
         "lat": [
          38.841819
         ],
         "legendgroup": "University 411",
         "lon": [
          -89.877841
         ],
         "marker": {
          "color": "#B6E880",
          "size": [
           4700
          ],
          "sizemode": "area",
          "sizeref": 347.5
         },
         "mode": "markers",
         "name": "University 411",
         "showlegend": true,
         "subplot": "mapbox",
         "type": "scattermapbox"
        },
        {
         "hovertemplate": "Customers=University 412<br>Invoice Amount=%{marker.size}<br>Lat=%{lat}<br>Long=%{lon}<extra></extra>",
         "lat": [
          28.062
         ],
         "legendgroup": "University 412",
         "lon": [
          -82.413225
         ],
         "marker": {
          "color": "#FF97FF",
          "size": [
           1640
          ],
          "sizemode": "area",
          "sizeref": 347.5
         },
         "mode": "markers",
         "name": "University 412",
         "showlegend": true,
         "subplot": "mapbox",
         "type": "scattermapbox"
        },
        {
         "hovertemplate": "Customers=University 413<br>Invoice Amount=%{marker.size}<br>Lat=%{lat}<br>Long=%{lon}<extra></extra>",
         "lat": [
          35.49426
         ],
         "legendgroup": "University 413",
         "lon": [
          -95.30552
         ],
         "marker": {
          "color": "#FECB52",
          "size": [
           4800
          ],
          "sizemode": "area",
          "sizeref": 347.5
         },
         "mode": "markers",
         "name": "University 413",
         "showlegend": true,
         "subplot": "mapbox",
         "type": "scattermapbox"
        },
        {
         "hovertemplate": "Customers=University 414<br>Invoice Amount=%{marker.size}<br>Lat=%{lat}<br>Long=%{lon}<extra></extra>",
         "lat": [
          39.950948
         ],
         "legendgroup": "University 414",
         "lon": [
          -105.159078
         ],
         "marker": {
          "color": "#636efa",
          "size": [
           4500
          ],
          "sizemode": "area",
          "sizeref": 347.5
         },
         "mode": "markers",
         "name": "University 414",
         "showlegend": true,
         "subplot": "mapbox",
         "type": "scattermapbox"
        },
        {
         "hovertemplate": "Customers=University 415<br>Invoice Amount=%{marker.size}<br>Lat=%{lat}<br>Long=%{lon}<extra></extra>",
         "lat": [
          0
         ],
         "legendgroup": "University 415",
         "lon": [
          0
         ],
         "marker": {
          "color": "#EF553B",
          "size": [
           540
          ],
          "sizemode": "area",
          "sizeref": 347.5
         },
         "mode": "markers",
         "name": "University 415",
         "showlegend": true,
         "subplot": "mapbox",
         "type": "scattermapbox"
        },
        {
         "hovertemplate": "Customers=University 416<br>Invoice Amount=%{marker.size}<br>Lat=%{lat}<br>Long=%{lon}<extra></extra>",
         "lat": [
          0
         ],
         "legendgroup": "University 416",
         "lon": [
          0
         ],
         "marker": {
          "color": "#00cc96",
          "size": [
           16052
          ],
          "sizemode": "area",
          "sizeref": 347.5
         },
         "mode": "markers",
         "name": "University 416",
         "showlegend": true,
         "subplot": "mapbox",
         "type": "scattermapbox"
        },
        {
         "hovertemplate": "Customers=University 417<br>Invoice Amount=%{marker.size}<br>Lat=%{lat}<br>Long=%{lon}<extra></extra>",
         "lat": [
          28.062
         ],
         "legendgroup": "University 417",
         "lon": [
          -82.413225
         ],
         "marker": {
          "color": "#ab63fa",
          "size": [
           425
          ],
          "sizemode": "area",
          "sizeref": 347.5
         },
         "mode": "markers",
         "name": "University 417",
         "showlegend": true,
         "subplot": "mapbox",
         "type": "scattermapbox"
        },
        {
         "hovertemplate": "Customers=University 418<br>Invoice Amount=%{marker.size}<br>Lat=%{lat}<br>Long=%{lon}<extra></extra>",
         "lat": [
          0
         ],
         "legendgroup": "University 418",
         "lon": [
          0
         ],
         "marker": {
          "color": "#FFA15A",
          "size": [
           5000
          ],
          "sizemode": "area",
          "sizeref": 347.5
         },
         "mode": "markers",
         "name": "University 418",
         "showlegend": true,
         "subplot": "mapbox",
         "type": "scattermapbox"
        },
        {
         "hovertemplate": "Customers=University 419<br>Invoice Amount=%{marker.size}<br>Lat=%{lat}<br>Long=%{lon}<extra></extra>",
         "lat": [
          35.841039
         ],
         "legendgroup": "University 419",
         "lon": [
          -90.675602
         ],
         "marker": {
          "color": "#19d3f3",
          "size": [
           562
          ],
          "sizemode": "area",
          "sizeref": 347.5
         },
         "mode": "markers",
         "name": "University 419",
         "showlegend": true,
         "subplot": "mapbox",
         "type": "scattermapbox"
        },
        {
         "hovertemplate": "Customers=University 42<br>Invoice Amount=%{marker.size}<br>Lat=%{lat}<br>Long=%{lon}<extra></extra>",
         "lat": [
          124.870882
         ],
         "legendgroup": "University 42",
         "lon": [
          -359.109636
         ],
         "marker": {
          "color": "#FF6692",
          "size": [
           102000
          ],
          "sizemode": "area",
          "sizeref": 347.5
         },
         "mode": "markers",
         "name": "University 42",
         "showlegend": true,
         "subplot": "mapbox",
         "type": "scattermapbox"
        },
        {
         "hovertemplate": "Customers=University 420<br>Invoice Amount=%{marker.size}<br>Lat=%{lat}<br>Long=%{lon}<extra></extra>",
         "lat": [
          48.630369
         ],
         "legendgroup": "University 420",
         "lon": [
          -97.471056
         ],
         "marker": {
          "color": "#B6E880",
          "size": [
           3366
          ],
          "sizemode": "area",
          "sizeref": 347.5
         },
         "mode": "markers",
         "name": "University 420",
         "showlegend": true,
         "subplot": "mapbox",
         "type": "scattermapbox"
        },
        {
         "hovertemplate": "Customers=University 421<br>Invoice Amount=%{marker.size}<br>Lat=%{lat}<br>Long=%{lon}<extra></extra>",
         "lat": [
          35.691868
         ],
         "legendgroup": "University 421",
         "lon": [
          -91.598917
         ],
         "marker": {
          "color": "#FF97FF",
          "size": [
           26250
          ],
          "sizemode": "area",
          "sizeref": 347.5
         },
         "mode": "markers",
         "name": "University 421",
         "showlegend": true,
         "subplot": "mapbox",
         "type": "scattermapbox"
        },
        {
         "hovertemplate": "Customers=University 422<br>Invoice Amount=%{marker.size}<br>Lat=%{lat}<br>Long=%{lon}<extra></extra>",
         "lat": [
          41.64025
         ],
         "legendgroup": "University 422",
         "lon": [
          -104.16384
         ],
         "marker": {
          "color": "#FECB52",
          "size": [
           500
          ],
          "sizemode": "area",
          "sizeref": 347.5
         },
         "mode": "markers",
         "name": "University 422",
         "showlegend": true,
         "subplot": "mapbox",
         "type": "scattermapbox"
        },
        {
         "hovertemplate": "Customers=University 423<br>Invoice Amount=%{marker.size}<br>Lat=%{lat}<br>Long=%{lon}<extra></extra>",
         "lat": [
          29.468413
         ],
         "legendgroup": "University 423",
         "lon": [
          -98.528889
         ],
         "marker": {
          "color": "#636efa",
          "size": [
           2500
          ],
          "sizemode": "area",
          "sizeref": 347.5
         },
         "mode": "markers",
         "name": "University 423",
         "showlegend": true,
         "subplot": "mapbox",
         "type": "scattermapbox"
        },
        {
         "hovertemplate": "Customers=University 424<br>Invoice Amount=%{marker.size}<br>Lat=%{lat}<br>Long=%{lon}<extra></extra>",
         "lat": [
          42.055136
         ],
         "legendgroup": "University 424",
         "lon": [
          -71.081416
         ],
         "marker": {
          "color": "#EF553B",
          "size": [
           1700
          ],
          "sizemode": "area",
          "sizeref": 347.5
         },
         "mode": "markers",
         "name": "University 424",
         "showlegend": true,
         "subplot": "mapbox",
         "type": "scattermapbox"
        },
        {
         "hovertemplate": "Customers=University 425<br>Invoice Amount=%{marker.size}<br>Lat=%{lat}<br>Long=%{lon}<extra></extra>",
         "lat": [
          37.953672
         ],
         "legendgroup": "University 425",
         "lon": [
          -122.022872
         ],
         "marker": {
          "color": "#00cc96",
          "size": [
           2000
          ],
          "sizemode": "area",
          "sizeref": 347.5
         },
         "mode": "markers",
         "name": "University 425",
         "showlegend": true,
         "subplot": "mapbox",
         "type": "scattermapbox"
        },
        {
         "hovertemplate": "Customers=University 43<br>Invoice Amount=%{marker.size}<br>Lat=%{lat}<br>Long=%{lon}<extra></extra>",
         "lat": [
          38.89583
         ],
         "legendgroup": "University 43",
         "lon": [
          -77.009828
         ],
         "marker": {
          "color": "#ab63fa",
          "size": [
           8000
          ],
          "sizemode": "area",
          "sizeref": 347.5
         },
         "mode": "markers",
         "name": "University 43",
         "showlegend": true,
         "subplot": "mapbox",
         "type": "scattermapbox"
        },
        {
         "hovertemplate": "Customers=University 44<br>Invoice Amount=%{marker.size}<br>Lat=%{lat}<br>Long=%{lon}<extra></extra>",
         "lat": [
          21.36711
         ],
         "legendgroup": "University 44",
         "lon": [
          -157.90399399999995
         ],
         "marker": {
          "color": "#FFA15A",
          "size": [
           750
          ],
          "sizemode": "area",
          "sizeref": 347.5
         },
         "mode": "markers",
         "name": "University 44",
         "showlegend": true,
         "subplot": "mapbox",
         "type": "scattermapbox"
        },
        {
         "hovertemplate": "Customers=University 45<br>Invoice Amount=%{marker.size}<br>Lat=%{lat}<br>Long=%{lon}<extra></extra>",
         "lat": [
          91.56914
         ],
         "legendgroup": "University 45",
         "lon": [
          -217.053656
         ],
         "marker": {
          "color": "#19d3f3",
          "size": [
           1500
          ],
          "sizemode": "area",
          "sizeref": 347.5
         },
         "mode": "markers",
         "name": "University 45",
         "showlegend": true,
         "subplot": "mapbox",
         "type": "scattermapbox"
        },
        {
         "hovertemplate": "Customers=University 46<br>Invoice Amount=%{marker.size}<br>Lat=%{lat}<br>Long=%{lon}<extra></extra>",
         "lat": [
          115.576855
         ],
         "legendgroup": "University 46",
         "lon": [
          -291.22765200000003
         ],
         "marker": {
          "color": "#FF6692",
          "size": [
           14250
          ],
          "sizemode": "area",
          "sizeref": 347.5
         },
         "mode": "markers",
         "name": "University 46",
         "showlegend": true,
         "subplot": "mapbox",
         "type": "scattermapbox"
        },
        {
         "hovertemplate": "Customers=University 47<br>Invoice Amount=%{marker.size}<br>Lat=%{lat}<br>Long=%{lon}<extra></extra>",
         "lat": [
          34.358185
         ],
         "legendgroup": "University 47",
         "lon": [
          -89.548378
         ],
         "marker": {
          "color": "#B6E880",
          "size": [
           7350
          ],
          "sizemode": "area",
          "sizeref": 347.5
         },
         "mode": "markers",
         "name": "University 47",
         "showlegend": true,
         "subplot": "mapbox",
         "type": "scattermapbox"
        },
        {
         "hovertemplate": "Customers=University 48<br>Invoice Amount=%{marker.size}<br>Lat=%{lat}<br>Long=%{lon}<extra></extra>",
         "lat": [
          33.453832
         ],
         "legendgroup": "University 48",
         "lon": [
          -88.794057
         ],
         "marker": {
          "color": "#FF97FF",
          "size": [
           4750
          ],
          "sizemode": "area",
          "sizeref": 347.5
         },
         "mode": "markers",
         "name": "University 48",
         "showlegend": true,
         "subplot": "mapbox",
         "type": "scattermapbox"
        },
        {
         "hovertemplate": "Customers=University 49<br>Invoice Amount=%{marker.size}<br>Lat=%{lat}<br>Long=%{lon}<extra></extra>",
         "lat": [
          124.918544
         ],
         "legendgroup": "University 49",
         "lon": [
          -322.503629
         ],
         "marker": {
          "color": "#FECB52",
          "size": [
           6000
          ],
          "sizemode": "area",
          "sizeref": 347.5
         },
         "mode": "markers",
         "name": "University 49",
         "showlegend": true,
         "subplot": "mapbox",
         "type": "scattermapbox"
        },
        {
         "hovertemplate": "Customers=University 5<br>Invoice Amount=%{marker.size}<br>Lat=%{lat}<br>Long=%{lon}<extra></extra>",
         "lat": [
          38.190601
         ],
         "legendgroup": "University 5",
         "lon": [
          -76.4263
         ],
         "marker": {
          "color": "#636efa",
          "size": [
           750
          ],
          "sizemode": "area",
          "sizeref": 347.5
         },
         "mode": "markers",
         "name": "University 5",
         "showlegend": true,
         "subplot": "mapbox",
         "type": "scattermapbox"
        },
        {
         "hovertemplate": "Customers=University 50<br>Invoice Amount=%{marker.size}<br>Lat=%{lat}<br>Long=%{lon}<extra></extra>",
         "lat": [
          39.033781
         ],
         "legendgroup": "University 50",
         "lon": [
          -94.577827
         ],
         "marker": {
          "color": "#EF553B",
          "size": [
           7500
          ],
          "sizemode": "area",
          "sizeref": 347.5
         },
         "mode": "markers",
         "name": "University 50",
         "showlegend": true,
         "subplot": "mapbox",
         "type": "scattermapbox"
        },
        {
         "hovertemplate": "Customers=University 51<br>Invoice Amount=%{marker.size}<br>Lat=%{lat}<br>Long=%{lon}<extra></extra>",
         "lat": [
          138.288581
         ],
         "legendgroup": "University 51",
         "lon": [
          -268.867305
         ],
         "marker": {
          "color": "#00cc96",
          "size": [
           2250
          ],
          "sizemode": "area",
          "sizeref": 347.5
         },
         "mode": "markers",
         "name": "University 51",
         "showlegend": true,
         "subplot": "mapbox",
         "type": "scattermapbox"
        },
        {
         "hovertemplate": "Customers=University 52<br>Invoice Amount=%{marker.size}<br>Lat=%{lat}<br>Long=%{lon}<extra></extra>",
         "lat": [
          32.302802
         ],
         "legendgroup": "University 52",
         "lon": [
          -90.183909
         ],
         "marker": {
          "color": "#ab63fa",
          "size": [
           4999
          ],
          "sizemode": "area",
          "sizeref": 347.5
         },
         "mode": "markers",
         "name": "University 52",
         "showlegend": true,
         "subplot": "mapbox",
         "type": "scattermapbox"
        },
        {
         "hovertemplate": "Customers=University 53<br>Invoice Amount=%{marker.size}<br>Lat=%{lat}<br>Long=%{lon}<extra></extra>",
         "lat": [
          29.558454
         ],
         "legendgroup": "University 53",
         "lon": [
          -95.786392
         ],
         "marker": {
          "color": "#FFA15A",
          "size": [
           4500
          ],
          "sizemode": "area",
          "sizeref": 347.5
         },
         "mode": "markers",
         "name": "University 53",
         "showlegend": true,
         "subplot": "mapbox",
         "type": "scattermapbox"
        },
        {
         "hovertemplate": "Customers=University 54<br>Invoice Amount=%{marker.size}<br>Lat=%{lat}<br>Long=%{lon}<extra></extra>",
         "lat": [
          75.625453
         ],
         "legendgroup": "University 54",
         "lon": [
          -156.039518
         ],
         "marker": {
          "color": "#19d3f3",
          "size": [
           3000
          ],
          "sizemode": "area",
          "sizeref": 347.5
         },
         "mode": "markers",
         "name": "University 54",
         "showlegend": true,
         "subplot": "mapbox",
         "type": "scattermapbox"
        },
        {
         "hovertemplate": "Customers=University 55<br>Invoice Amount=%{marker.size}<br>Lat=%{lat}<br>Long=%{lon}<extra></extra>",
         "lat": [
          37.981067
         ],
         "legendgroup": "University 55",
         "lon": [
          -121.308951
         ],
         "marker": {
          "color": "#FF6692",
          "size": [
           750
          ],
          "sizemode": "area",
          "sizeref": 347.5
         },
         "mode": "markers",
         "name": "University 55",
         "showlegend": true,
         "subplot": "mapbox",
         "type": "scattermapbox"
        },
        {
         "hovertemplate": "Customers=University 56<br>Invoice Amount=%{marker.size}<br>Lat=%{lat}<br>Long=%{lon}<extra></extra>",
         "lat": [
          -34.927341
         ],
         "legendgroup": "University 56",
         "lon": [
          138.602002
         ],
         "marker": {
          "color": "#B6E880",
          "size": [
           1500
          ],
          "sizemode": "area",
          "sizeref": 347.5
         },
         "mode": "markers",
         "name": "University 56",
         "showlegend": true,
         "subplot": "mapbox",
         "type": "scattermapbox"
        },
        {
         "hovertemplate": "Customers=University 57<br>Invoice Amount=%{marker.size}<br>Lat=%{lat}<br>Long=%{lon}<extra></extra>",
         "lat": [
          69.5879
         ],
         "legendgroup": "University 57",
         "lon": [
          -181.41238099999998
         ],
         "marker": {
          "color": "#FF97FF",
          "size": [
           10800
          ],
          "sizemode": "area",
          "sizeref": 347.5
         },
         "mode": "markers",
         "name": "University 57",
         "showlegend": true,
         "subplot": "mapbox",
         "type": "scattermapbox"
        },
        {
         "hovertemplate": "Customers=University 58<br>Invoice Amount=%{marker.size}<br>Lat=%{lat}<br>Long=%{lon}<extra></extra>",
         "lat": [
          46.065081
         ],
         "legendgroup": "University 58",
         "lon": [
          -118.32958700000002
         ],
         "marker": {
          "color": "#FECB52",
          "size": [
           3000
          ],
          "sizemode": "area",
          "sizeref": 347.5
         },
         "mode": "markers",
         "name": "University 58",
         "showlegend": true,
         "subplot": "mapbox",
         "type": "scattermapbox"
        },
        {
         "hovertemplate": "Customers=University 59<br>Invoice Amount=%{marker.size}<br>Lat=%{lat}<br>Long=%{lon}<extra></extra>",
         "lat": [
          35.99726300000001
         ],
         "legendgroup": "University 59",
         "lon": [
          -78.897667
         ],
         "marker": {
          "color": "#636efa",
          "size": [
           2630
          ],
          "sizemode": "area",
          "sizeref": 347.5
         },
         "mode": "markers",
         "name": "University 59",
         "showlegend": true,
         "subplot": "mapbox",
         "type": "scattermapbox"
        },
        {
         "hovertemplate": "Customers=University 6<br>Invoice Amount=%{marker.size}<br>Lat=%{lat}<br>Long=%{lon}<extra></extra>",
         "lat": [
          81.00454400000001
         ],
         "legendgroup": "University 6",
         "lon": [
          -212.942194
         ],
         "marker": {
          "color": "#EF553B",
          "size": [
           10750
          ],
          "sizemode": "area",
          "sizeref": 347.5
         },
         "mode": "markers",
         "name": "University 6",
         "showlegend": true,
         "subplot": "mapbox",
         "type": "scattermapbox"
        },
        {
         "hovertemplate": "Customers=University 60<br>Invoice Amount=%{marker.size}<br>Lat=%{lat}<br>Long=%{lon}<extra></extra>",
         "lat": [
          42.41484000000001
         ],
         "legendgroup": "University 60",
         "lon": [
          -83.137876
         ],
         "marker": {
          "color": "#00cc96",
          "size": [
           750
          ],
          "sizemode": "area",
          "sizeref": 347.5
         },
         "mode": "markers",
         "name": "University 60",
         "showlegend": true,
         "subplot": "mapbox",
         "type": "scattermapbox"
        },
        {
         "hovertemplate": "Customers=University 61<br>Invoice Amount=%{marker.size}<br>Lat=%{lat}<br>Long=%{lon}<extra></extra>",
         "lat": [
          35.30615200000001
         ],
         "legendgroup": "University 61",
         "lon": [
          -80.734562
         ],
         "marker": {
          "color": "#ab63fa",
          "size": [
           15750
          ],
          "sizemode": "area",
          "sizeref": 347.5
         },
         "mode": "markers",
         "name": "University 61",
         "showlegend": true,
         "subplot": "mapbox",
         "type": "scattermapbox"
        },
        {
         "hovertemplate": "Customers=University 62<br>Invoice Amount=%{marker.size}<br>Lat=%{lat}<br>Long=%{lon}<extra></extra>",
         "lat": [
          40.51417
         ],
         "legendgroup": "University 62",
         "lon": [
          -88.99056
         ],
         "marker": {
          "color": "#FFA15A",
          "size": [
           10500
          ],
          "sizemode": "area",
          "sizeref": 347.5
         },
         "mode": "markers",
         "name": "University 62",
         "showlegend": true,
         "subplot": "mapbox",
         "type": "scattermapbox"
        },
        {
         "hovertemplate": "Customers=University 63<br>Invoice Amount=%{marker.size}<br>Lat=%{lat}<br>Long=%{lon}<extra></extra>",
         "lat": [
          46.882198
         ],
         "legendgroup": "University 63",
         "lon": [
          -102.799866
         ],
         "marker": {
          "color": "#19d3f3",
          "size": [
           2550
          ],
          "sizemode": "area",
          "sizeref": 347.5
         },
         "mode": "markers",
         "name": "University 63",
         "showlegend": true,
         "subplot": "mapbox",
         "type": "scattermapbox"
        },
        {
         "hovertemplate": "Customers=University 64<br>Invoice Amount=%{marker.size}<br>Lat=%{lat}<br>Long=%{lon}<extra></extra>",
         "lat": [
          39.088975
         ],
         "legendgroup": "University 64",
         "lon": [
          -94.58516
         ],
         "marker": {
          "color": "#FF6692",
          "size": [
           750
          ],
          "sizemode": "area",
          "sizeref": 347.5
         },
         "mode": "markers",
         "name": "University 64",
         "showlegend": true,
         "subplot": "mapbox",
         "type": "scattermapbox"
        },
        {
         "hovertemplate": "Customers=University 65<br>Invoice Amount=%{marker.size}<br>Lat=%{lat}<br>Long=%{lon}<extra></extra>",
         "lat": [
          41.68339
         ],
         "legendgroup": "University 65",
         "lon": [
          -72.767385
         ],
         "marker": {
          "color": "#B6E880",
          "size": [
           18000
          ],
          "sizemode": "area",
          "sizeref": 347.5
         },
         "mode": "markers",
         "name": "University 65",
         "showlegend": true,
         "subplot": "mapbox",
         "type": "scattermapbox"
        },
        {
         "hovertemplate": "Customers=University 66<br>Invoice Amount=%{marker.size}<br>Lat=%{lat}<br>Long=%{lon}<extra></extra>",
         "lat": [
          29.912261
         ],
         "legendgroup": "University 66",
         "lon": [
          -89.995129
         ],
         "marker": {
          "color": "#FF97FF",
          "size": [
           4500
          ],
          "sizemode": "area",
          "sizeref": 347.5
         },
         "mode": "markers",
         "name": "University 66",
         "showlegend": true,
         "subplot": "mapbox",
         "type": "scattermapbox"
        },
        {
         "hovertemplate": "Customers=University 67<br>Invoice Amount=%{marker.size}<br>Lat=%{lat}<br>Long=%{lon}<extra></extra>",
         "lat": [
          103.432219
         ],
         "legendgroup": "University 67",
         "lon": [
          -274.448972
         ],
         "marker": {
          "color": "#FECB52",
          "size": [
           13000
          ],
          "sizemode": "area",
          "sizeref": 347.5
         },
         "mode": "markers",
         "name": "University 67",
         "showlegend": true,
         "subplot": "mapbox",
         "type": "scattermapbox"
        },
        {
         "hovertemplate": "Customers=University 68<br>Invoice Amount=%{marker.size}<br>Lat=%{lat}<br>Long=%{lon}<extra></extra>",
         "lat": [
          29.849649
         ],
         "legendgroup": "University 68",
         "lon": [
          -95.498476
         ],
         "marker": {
          "color": "#636efa",
          "size": [
           3000
          ],
          "sizemode": "area",
          "sizeref": 347.5
         },
         "mode": "markers",
         "name": "University 68",
         "showlegend": true,
         "subplot": "mapbox",
         "type": "scattermapbox"
        },
        {
         "hovertemplate": "Customers=University 69<br>Invoice Amount=%{marker.size}<br>Lat=%{lat}<br>Long=%{lon}<extra></extra>",
         "lat": [
          36.30044
         ],
         "legendgroup": "University 69",
         "lon": [
          -82.362131
         ],
         "marker": {
          "color": "#EF553B",
          "size": [
           18148
          ],
          "sizemode": "area",
          "sizeref": 347.5
         },
         "mode": "markers",
         "name": "University 69",
         "showlegend": true,
         "subplot": "mapbox",
         "type": "scattermapbox"
        },
        {
         "hovertemplate": "Customers=University 7<br>Invoice Amount=%{marker.size}<br>Lat=%{lat}<br>Long=%{lon}<extra></extra>",
         "lat": [
          77.78890600000003
         ],
         "legendgroup": "University 7",
         "lon": [
          -154.085206
         ],
         "marker": {
          "color": "#00cc96",
          "size": [
           44200
          ],
          "sizemode": "area",
          "sizeref": 347.5
         },
         "mode": "markers",
         "name": "University 7",
         "showlegend": true,
         "subplot": "mapbox",
         "type": "scattermapbox"
        },
        {
         "hovertemplate": "Customers=University 70<br>Invoice Amount=%{marker.size}<br>Lat=%{lat}<br>Long=%{lon}<extra></extra>",
         "lat": [
          33.498228999999995
         ],
         "legendgroup": "University 70",
         "lon": [
          -86.8073
         ],
         "marker": {
          "color": "#ab63fa",
          "size": [
           50000
          ],
          "sizemode": "area",
          "sizeref": 347.5
         },
         "mode": "markers",
         "name": "University 70",
         "showlegend": true,
         "subplot": "mapbox",
         "type": "scattermapbox"
        },
        {
         "hovertemplate": "Customers=University 71<br>Invoice Amount=%{marker.size}<br>Lat=%{lat}<br>Long=%{lon}<extra></extra>",
         "lat": [
          157.885853
         ],
         "legendgroup": "University 71",
         "lon": [
          -419.486344
         ],
         "marker": {
          "color": "#FFA15A",
          "size": [
           8550
          ],
          "sizemode": "area",
          "sizeref": 347.5
         },
         "mode": "markers",
         "name": "University 71",
         "showlegend": true,
         "subplot": "mapbox",
         "type": "scattermapbox"
        },
        {
         "hovertemplate": "Customers=University 72<br>Invoice Amount=%{marker.size}<br>Lat=%{lat}<br>Long=%{lon}<extra></extra>",
         "lat": [
          32.432158
         ],
         "legendgroup": "University 72",
         "lon": [
          -93.701816
         ],
         "marker": {
          "color": "#19d3f3",
          "size": [
           1750
          ],
          "sizemode": "area",
          "sizeref": 347.5
         },
         "mode": "markers",
         "name": "University 72",
         "showlegend": true,
         "subplot": "mapbox",
         "type": "scattermapbox"
        },
        {
         "hovertemplate": "Customers=University 73<br>Invoice Amount=%{marker.size}<br>Lat=%{lat}<br>Long=%{lon}<extra></extra>",
         "lat": [
          33.994748
         ],
         "legendgroup": "University 73",
         "lon": [
          -118.08086000000002
         ],
         "marker": {
          "color": "#FF6692",
          "size": [
           5880
          ],
          "sizemode": "area",
          "sizeref": 347.5
         },
         "mode": "markers",
         "name": "University 73",
         "showlegend": true,
         "subplot": "mapbox",
         "type": "scattermapbox"
        },
        {
         "hovertemplate": "Customers=University 74<br>Invoice Amount=%{marker.size}<br>Lat=%{lat}<br>Long=%{lon}<extra></extra>",
         "lat": [
          39.189982
         ],
         "legendgroup": "University 74",
         "lon": [
          -96.578842
         ],
         "marker": {
          "color": "#B6E880",
          "size": [
           28500
          ],
          "sizemode": "area",
          "sizeref": 347.5
         },
         "mode": "markers",
         "name": "University 74",
         "showlegend": true,
         "subplot": "mapbox",
         "type": "scattermapbox"
        },
        {
         "hovertemplate": "Customers=University 75<br>Invoice Amount=%{marker.size}<br>Lat=%{lat}<br>Long=%{lon}<extra></extra>",
         "lat": [
          34.497007
         ],
         "legendgroup": "University 75",
         "lon": [
          -114.331063
         ],
         "marker": {
          "color": "#FF97FF",
          "size": [
           6300
          ],
          "sizemode": "area",
          "sizeref": 347.5
         },
         "mode": "markers",
         "name": "University 75",
         "showlegend": true,
         "subplot": "mapbox",
         "type": "scattermapbox"
        },
        {
         "hovertemplate": "Customers=University 76<br>Invoice Amount=%{marker.size}<br>Lat=%{lat}<br>Long=%{lon}<extra></extra>",
         "lat": [
          71.688783
         ],
         "legendgroup": "University 76",
         "lon": [
          -177.039278
         ],
         "marker": {
          "color": "#FECB52",
          "size": [
           25200
          ],
          "sizemode": "area",
          "sizeref": 347.5
         },
         "mode": "markers",
         "name": "University 76",
         "showlegend": true,
         "subplot": "mapbox",
         "type": "scattermapbox"
        },
        {
         "hovertemplate": "Customers=University 77<br>Invoice Amount=%{marker.size}<br>Lat=%{lat}<br>Long=%{lon}<extra></extra>",
         "lat": [
          41.27981
         ],
         "legendgroup": "University 77",
         "lon": [
          -105.59022
         ],
         "marker": {
          "color": "#636efa",
          "size": [
           6300
          ],
          "sizemode": "area",
          "sizeref": 347.5
         },
         "mode": "markers",
         "name": "University 77",
         "showlegend": true,
         "subplot": "mapbox",
         "type": "scattermapbox"
        },
        {
         "hovertemplate": "Customers=University 78<br>Invoice Amount=%{marker.size}<br>Lat=%{lat}<br>Long=%{lon}<extra></extra>",
         "lat": [
          36.045904
         ],
         "legendgroup": "University 78",
         "lon": [
          -114.980388
         ],
         "marker": {
          "color": "#EF553B",
          "size": [
           2560
          ],
          "sizemode": "area",
          "sizeref": 347.5
         },
         "mode": "markers",
         "name": "University 78",
         "showlegend": true,
         "subplot": "mapbox",
         "type": "scattermapbox"
        },
        {
         "hovertemplate": "Customers=University 79<br>Invoice Amount=%{marker.size}<br>Lat=%{lat}<br>Long=%{lon}<extra></extra>",
         "lat": [
          63.47113300000001
         ],
         "legendgroup": "University 79",
         "lon": [
          -161.151436
         ],
         "marker": {
          "color": "#00cc96",
          "size": [
           4400
          ],
          "sizemode": "area",
          "sizeref": 347.5
         },
         "mode": "markers",
         "name": "University 79",
         "showlegend": true,
         "subplot": "mapbox",
         "type": "scattermapbox"
        },
        {
         "hovertemplate": "Customers=University 8<br>Invoice Amount=%{marker.size}<br>Lat=%{lat}<br>Long=%{lon}<extra></extra>",
         "lat": [
          149.88032000000004
         ],
         "legendgroup": "University 8",
         "lon": [
          -320.501114
         ],
         "marker": {
          "color": "#ab63fa",
          "size": [
           10400
          ],
          "sizemode": "area",
          "sizeref": 347.5
         },
         "mode": "markers",
         "name": "University 8",
         "showlegend": true,
         "subplot": "mapbox",
         "type": "scattermapbox"
        },
        {
         "hovertemplate": "Customers=University 80<br>Invoice Amount=%{marker.size}<br>Lat=%{lat}<br>Long=%{lon}<extra></extra>",
         "lat": [
          102.680409
         ],
         "legendgroup": "University 80",
         "lon": [
          -233.630024
         ],
         "marker": {
          "color": "#FFA15A",
          "size": [
           19030
          ],
          "sizemode": "area",
          "sizeref": 347.5
         },
         "mode": "markers",
         "name": "University 80",
         "showlegend": true,
         "subplot": "mapbox",
         "type": "scattermapbox"
        },
        {
         "hovertemplate": "Customers=University 81<br>Invoice Amount=%{marker.size}<br>Lat=%{lat}<br>Long=%{lon}<extra></extra>",
         "lat": [
          134.424044
         ],
         "legendgroup": "University 81",
         "lon": [
          -357.94360300000005
         ],
         "marker": {
          "color": "#19d3f3",
          "size": [
           5800
          ],
          "sizemode": "area",
          "sizeref": 347.5
         },
         "mode": "markers",
         "name": "University 81",
         "showlegend": true,
         "subplot": "mapbox",
         "type": "scattermapbox"
        },
        {
         "hovertemplate": "Customers=University 82<br>Invoice Amount=%{marker.size}<br>Lat=%{lat}<br>Long=%{lon}<extra></extra>",
         "lat": [
          38.187538
         ],
         "legendgroup": "University 82",
         "lon": [
          -84.84676400000002
         ],
         "marker": {
          "color": "#FF6692",
          "size": [
           7560
          ],
          "sizemode": "area",
          "sizeref": 347.5
         },
         "mode": "markers",
         "name": "University 82",
         "showlegend": true,
         "subplot": "mapbox",
         "type": "scattermapbox"
        },
        {
         "hovertemplate": "Customers=University 83<br>Invoice Amount=%{marker.size}<br>Lat=%{lat}<br>Long=%{lon}<extra></extra>",
         "lat": [
          33.52991
         ],
         "legendgroup": "University 83",
         "lon": [
          -117.18548
         ],
         "marker": {
          "color": "#B6E880",
          "size": [
           2500
          ],
          "sizemode": "area",
          "sizeref": 347.5
         },
         "mode": "markers",
         "name": "University 83",
         "showlegend": true,
         "subplot": "mapbox",
         "type": "scattermapbox"
        },
        {
         "hovertemplate": "Customers=University 84<br>Invoice Amount=%{marker.size}<br>Lat=%{lat}<br>Long=%{lon}<extra></extra>",
         "lat": [
          65.078134
         ],
         "legendgroup": "University 84",
         "lon": [
          -184.143804
         ],
         "marker": {
          "color": "#FF97FF",
          "size": [
           4000
          ],
          "sizemode": "area",
          "sizeref": 347.5
         },
         "mode": "markers",
         "name": "University 84",
         "showlegend": true,
         "subplot": "mapbox",
         "type": "scattermapbox"
        },
        {
         "hovertemplate": "Customers=University 85<br>Invoice Amount=%{marker.size}<br>Lat=%{lat}<br>Long=%{lon}<extra></extra>",
         "lat": [
          33.703967
         ],
         "legendgroup": "University 85",
         "lon": [
          -112.351835
         ],
         "marker": {
          "color": "#FECB52",
          "size": [
           12500
          ],
          "sizemode": "area",
          "sizeref": 347.5
         },
         "mode": "markers",
         "name": "University 85",
         "showlegend": true,
         "subplot": "mapbox",
         "type": "scattermapbox"
        },
        {
         "hovertemplate": "Customers=University 86<br>Invoice Amount=%{marker.size}<br>Lat=%{lat}<br>Long=%{lon}<extra></extra>",
         "lat": [
          0
         ],
         "legendgroup": "University 86",
         "lon": [
          0
         ],
         "marker": {
          "color": "#636efa",
          "size": [
           1875
          ],
          "sizemode": "area",
          "sizeref": 347.5
         },
         "mode": "markers",
         "name": "University 86",
         "showlegend": true,
         "subplot": "mapbox",
         "type": "scattermapbox"
        },
        {
         "hovertemplate": "Customers=University 87<br>Invoice Amount=%{marker.size}<br>Lat=%{lat}<br>Long=%{lon}<extra></extra>",
         "lat": [
          29.963254
         ],
         "legendgroup": "University 87",
         "lon": [
          -90.210745
         ],
         "marker": {
          "color": "#EF553B",
          "size": [
           2000
          ],
          "sizemode": "area",
          "sizeref": 347.5
         },
         "mode": "markers",
         "name": "University 87",
         "showlegend": true,
         "subplot": "mapbox",
         "type": "scattermapbox"
        },
        {
         "hovertemplate": "Customers=University 88<br>Invoice Amount=%{marker.size}<br>Lat=%{lat}<br>Long=%{lon}<extra></extra>",
         "lat": [
          35.691868
         ],
         "legendgroup": "University 88",
         "lon": [
          -91.598917
         ],
         "marker": {
          "color": "#00cc96",
          "size": [
           26250
          ],
          "sizemode": "area",
          "sizeref": 347.5
         },
         "mode": "markers",
         "name": "University 88",
         "showlegend": true,
         "subplot": "mapbox",
         "type": "scattermapbox"
        },
        {
         "hovertemplate": "Customers=University 89<br>Invoice Amount=%{marker.size}<br>Lat=%{lat}<br>Long=%{lon}<extra></extra>",
         "lat": [
          0
         ],
         "legendgroup": "University 89",
         "lon": [
          0
         ],
         "marker": {
          "color": "#ab63fa",
          "size": [
           750
          ],
          "sizemode": "area",
          "sizeref": 347.5
         },
         "mode": "markers",
         "name": "University 89",
         "showlegend": true,
         "subplot": "mapbox",
         "type": "scattermapbox"
        },
        {
         "hovertemplate": "Customers=University 9<br>Invoice Amount=%{marker.size}<br>Lat=%{lat}<br>Long=%{lon}<extra></extra>",
         "lat": [
          96.864952
         ],
         "legendgroup": "University 9",
         "lon": [
          -249.491196
         ],
         "marker": {
          "color": "#FFA15A",
          "size": [
           3850
          ],
          "sizemode": "area",
          "sizeref": 347.5
         },
         "mode": "markers",
         "name": "University 9",
         "showlegend": true,
         "subplot": "mapbox",
         "type": "scattermapbox"
        },
        {
         "hovertemplate": "Customers=University 90<br>Invoice Amount=%{marker.size}<br>Lat=%{lat}<br>Long=%{lon}<extra></extra>",
         "lat": [
          35.841039
         ],
         "legendgroup": "University 90",
         "lon": [
          -90.675602
         ],
         "marker": {
          "color": "#19d3f3",
          "size": [
           1700
          ],
          "sizemode": "area",
          "sizeref": 347.5
         },
         "mode": "markers",
         "name": "University 90",
         "showlegend": true,
         "subplot": "mapbox",
         "type": "scattermapbox"
        },
        {
         "hovertemplate": "Customers=University 91<br>Invoice Amount=%{marker.size}<br>Lat=%{lat}<br>Long=%{lon}<extra></extra>",
         "lat": [
          0
         ],
         "legendgroup": "University 91",
         "lon": [
          0
         ],
         "marker": {
          "color": "#FF6692",
          "size": [
           2700
          ],
          "sizemode": "area",
          "sizeref": 347.5
         },
         "mode": "markers",
         "name": "University 91",
         "showlegend": true,
         "subplot": "mapbox",
         "type": "scattermapbox"
        },
        {
         "hovertemplate": "Customers=University 92<br>Invoice Amount=%{marker.size}<br>Lat=%{lat}<br>Long=%{lon}<extra></extra>",
         "lat": [
          143.364156
         ],
         "legendgroup": "University 92",
         "lon": [
          -362.702408
         ],
         "marker": {
          "color": "#B6E880",
          "size": [
           14000
          ],
          "sizemode": "area",
          "sizeref": 347.5
         },
         "mode": "markers",
         "name": "University 92",
         "showlegend": true,
         "subplot": "mapbox",
         "type": "scattermapbox"
        },
        {
         "hovertemplate": "Customers=University 93<br>Invoice Amount=%{marker.size}<br>Lat=%{lat}<br>Long=%{lon}<extra></extra>",
         "lat": [
          45.408173
         ],
         "legendgroup": "University 93",
         "lon": [
          -122.922323
         ],
         "marker": {
          "color": "#FF97FF",
          "size": [
           3500
          ],
          "sizemode": "area",
          "sizeref": 347.5
         },
         "mode": "markers",
         "name": "University 93",
         "showlegend": true,
         "subplot": "mapbox",
         "type": "scattermapbox"
        },
        {
         "hovertemplate": "Customers=University 94<br>Invoice Amount=%{marker.size}<br>Lat=%{lat}<br>Long=%{lon}<extra></extra>",
         "lat": [
          108.90033
         ],
         "legendgroup": "University 94",
         "lon": [
          -246.88209
         ],
         "marker": {
          "color": "#FECB52",
          "size": [
           2500
          ],
          "sizemode": "area",
          "sizeref": 347.5
         },
         "mode": "markers",
         "name": "University 94",
         "showlegend": true,
         "subplot": "mapbox",
         "type": "scattermapbox"
        },
        {
         "hovertemplate": "Customers=University 95<br>Invoice Amount=%{marker.size}<br>Lat=%{lat}<br>Long=%{lon}<extra></extra>",
         "lat": [
          67.91916099999999
         ],
         "legendgroup": "University 95",
         "lon": [
          -204.70149800000002
         ],
         "marker": {
          "color": "#636efa",
          "size": [
           1000
          ],
          "sizemode": "area",
          "sizeref": 347.5
         },
         "mode": "markers",
         "name": "University 95",
         "showlegend": true,
         "subplot": "mapbox",
         "type": "scattermapbox"
        },
        {
         "hovertemplate": "Customers=University 96<br>Invoice Amount=%{marker.size}<br>Lat=%{lat}<br>Long=%{lon}<extra></extra>",
         "lat": [
          45.507856
         ],
         "legendgroup": "University 96",
         "lon": [
          -122.690794
         ],
         "marker": {
          "color": "#EF553B",
          "size": [
           2750
          ],
          "sizemode": "area",
          "sizeref": 347.5
         },
         "mode": "markers",
         "name": "University 96",
         "showlegend": true,
         "subplot": "mapbox",
         "type": "scattermapbox"
        },
        {
         "hovertemplate": "Customers=University 97<br>Invoice Amount=%{marker.size}<br>Lat=%{lat}<br>Long=%{lon}<extra></extra>",
         "lat": [
          195.482126
         ],
         "legendgroup": "University 97",
         "lon": [
          -577.409882
         ],
         "marker": {
          "color": "#00cc96",
          "size": [
           18275
          ],
          "sizemode": "area",
          "sizeref": 347.5
         },
         "mode": "markers",
         "name": "University 97",
         "showlegend": true,
         "subplot": "mapbox",
         "type": "scattermapbox"
        },
        {
         "hovertemplate": "Customers=University 98<br>Invoice Amount=%{marker.size}<br>Lat=%{lat}<br>Long=%{lon}<extra></extra>",
         "lat": [
          0
         ],
         "legendgroup": "University 98",
         "lon": [
          0
         ],
         "marker": {
          "color": "#ab63fa",
          "size": [
           14000
          ],
          "sizemode": "area",
          "sizeref": 347.5
         },
         "mode": "markers",
         "name": "University 98",
         "showlegend": true,
         "subplot": "mapbox",
         "type": "scattermapbox"
        },
        {
         "hovertemplate": "Customers=University 99<br>Invoice Amount=%{marker.size}<br>Lat=%{lat}<br>Long=%{lon}<extra></extra>",
         "lat": [
          0
         ],
         "legendgroup": "University 99",
         "lon": [
          0
         ],
         "marker": {
          "color": "#FFA15A",
          "size": [
           100000
          ],
          "sizemode": "area",
          "sizeref": 347.5
         },
         "mode": "markers",
         "name": "University 99",
         "showlegend": true,
         "subplot": "mapbox",
         "type": "scattermapbox"
        }
       ],
       "layout": {
        "autosize": true,
        "legend": {
         "itemsizing": "constant",
         "title": {
          "text": "Customers"
         },
         "tracegroupgap": 0
        },
        "mapbox": {
         "accesstoken": "pk.eyJ1IjoibWlsYWRuYXphciIsImEiOiJja2doYmN1d2swNGtkMnNvMGRhb3RnbmZpIn0.h5puE2zZYJuUHFdI586CDg",
         "center": {
          "lat": 46.45622699058823,
          "lon": -117.97521423294117
         },
         "domain": {
          "x": [
           0,
           1
          ],
          "y": [
           0,
           1
          ]
         },
         "zoom": 8
        },
        "margin": {
         "t": 60
        },
        "template": {
         "data": {
          "bar": [
           {
            "error_x": {
             "color": "#2a3f5f"
            },
            "error_y": {
             "color": "#2a3f5f"
            },
            "marker": {
             "line": {
              "color": "#E5ECF6",
              "width": 0.5
             }
            },
            "type": "bar"
           }
          ],
          "barpolar": [
           {
            "marker": {
             "line": {
              "color": "#E5ECF6",
              "width": 0.5
             }
            },
            "type": "barpolar"
           }
          ],
          "carpet": [
           {
            "aaxis": {
             "endlinecolor": "#2a3f5f",
             "gridcolor": "white",
             "linecolor": "white",
             "minorgridcolor": "white",
             "startlinecolor": "#2a3f5f"
            },
            "baxis": {
             "endlinecolor": "#2a3f5f",
             "gridcolor": "white",
             "linecolor": "white",
             "minorgridcolor": "white",
             "startlinecolor": "#2a3f5f"
            },
            "type": "carpet"
           }
          ],
          "choropleth": [
           {
            "colorbar": {
             "outlinewidth": 0,
             "ticks": ""
            },
            "type": "choropleth"
           }
          ],
          "contour": [
           {
            "colorbar": {
             "outlinewidth": 0,
             "ticks": ""
            },
            "colorscale": [
             [
              0,
              "#0d0887"
             ],
             [
              0.1111111111111111,
              "#46039f"
             ],
             [
              0.2222222222222222,
              "#7201a8"
             ],
             [
              0.3333333333333333,
              "#9c179e"
             ],
             [
              0.4444444444444444,
              "#bd3786"
             ],
             [
              0.5555555555555556,
              "#d8576b"
             ],
             [
              0.6666666666666666,
              "#ed7953"
             ],
             [
              0.7777777777777778,
              "#fb9f3a"
             ],
             [
              0.8888888888888888,
              "#fdca26"
             ],
             [
              1,
              "#f0f921"
             ]
            ],
            "type": "contour"
           }
          ],
          "contourcarpet": [
           {
            "colorbar": {
             "outlinewidth": 0,
             "ticks": ""
            },
            "type": "contourcarpet"
           }
          ],
          "heatmap": [
           {
            "colorbar": {
             "outlinewidth": 0,
             "ticks": ""
            },
            "colorscale": [
             [
              0,
              "#0d0887"
             ],
             [
              0.1111111111111111,
              "#46039f"
             ],
             [
              0.2222222222222222,
              "#7201a8"
             ],
             [
              0.3333333333333333,
              "#9c179e"
             ],
             [
              0.4444444444444444,
              "#bd3786"
             ],
             [
              0.5555555555555556,
              "#d8576b"
             ],
             [
              0.6666666666666666,
              "#ed7953"
             ],
             [
              0.7777777777777778,
              "#fb9f3a"
             ],
             [
              0.8888888888888888,
              "#fdca26"
             ],
             [
              1,
              "#f0f921"
             ]
            ],
            "type": "heatmap"
           }
          ],
          "heatmapgl": [
           {
            "colorbar": {
             "outlinewidth": 0,
             "ticks": ""
            },
            "colorscale": [
             [
              0,
              "#0d0887"
             ],
             [
              0.1111111111111111,
              "#46039f"
             ],
             [
              0.2222222222222222,
              "#7201a8"
             ],
             [
              0.3333333333333333,
              "#9c179e"
             ],
             [
              0.4444444444444444,
              "#bd3786"
             ],
             [
              0.5555555555555556,
              "#d8576b"
             ],
             [
              0.6666666666666666,
              "#ed7953"
             ],
             [
              0.7777777777777778,
              "#fb9f3a"
             ],
             [
              0.8888888888888888,
              "#fdca26"
             ],
             [
              1,
              "#f0f921"
             ]
            ],
            "type": "heatmapgl"
           }
          ],
          "histogram": [
           {
            "marker": {
             "colorbar": {
              "outlinewidth": 0,
              "ticks": ""
             }
            },
            "type": "histogram"
           }
          ],
          "histogram2d": [
           {
            "colorbar": {
             "outlinewidth": 0,
             "ticks": ""
            },
            "colorscale": [
             [
              0,
              "#0d0887"
             ],
             [
              0.1111111111111111,
              "#46039f"
             ],
             [
              0.2222222222222222,
              "#7201a8"
             ],
             [
              0.3333333333333333,
              "#9c179e"
             ],
             [
              0.4444444444444444,
              "#bd3786"
             ],
             [
              0.5555555555555556,
              "#d8576b"
             ],
             [
              0.6666666666666666,
              "#ed7953"
             ],
             [
              0.7777777777777778,
              "#fb9f3a"
             ],
             [
              0.8888888888888888,
              "#fdca26"
             ],
             [
              1,
              "#f0f921"
             ]
            ],
            "type": "histogram2d"
           }
          ],
          "histogram2dcontour": [
           {
            "colorbar": {
             "outlinewidth": 0,
             "ticks": ""
            },
            "colorscale": [
             [
              0,
              "#0d0887"
             ],
             [
              0.1111111111111111,
              "#46039f"
             ],
             [
              0.2222222222222222,
              "#7201a8"
             ],
             [
              0.3333333333333333,
              "#9c179e"
             ],
             [
              0.4444444444444444,
              "#bd3786"
             ],
             [
              0.5555555555555556,
              "#d8576b"
             ],
             [
              0.6666666666666666,
              "#ed7953"
             ],
             [
              0.7777777777777778,
              "#fb9f3a"
             ],
             [
              0.8888888888888888,
              "#fdca26"
             ],
             [
              1,
              "#f0f921"
             ]
            ],
            "type": "histogram2dcontour"
           }
          ],
          "mesh3d": [
           {
            "colorbar": {
             "outlinewidth": 0,
             "ticks": ""
            },
            "type": "mesh3d"
           }
          ],
          "parcoords": [
           {
            "line": {
             "colorbar": {
              "outlinewidth": 0,
              "ticks": ""
             }
            },
            "type": "parcoords"
           }
          ],
          "pie": [
           {
            "automargin": true,
            "type": "pie"
           }
          ],
          "scatter": [
           {
            "marker": {
             "colorbar": {
              "outlinewidth": 0,
              "ticks": ""
             }
            },
            "type": "scatter"
           }
          ],
          "scatter3d": [
           {
            "line": {
             "colorbar": {
              "outlinewidth": 0,
              "ticks": ""
             }
            },
            "marker": {
             "colorbar": {
              "outlinewidth": 0,
              "ticks": ""
             }
            },
            "type": "scatter3d"
           }
          ],
          "scattercarpet": [
           {
            "marker": {
             "colorbar": {
              "outlinewidth": 0,
              "ticks": ""
             }
            },
            "type": "scattercarpet"
           }
          ],
          "scattergeo": [
           {
            "marker": {
             "colorbar": {
              "outlinewidth": 0,
              "ticks": ""
             }
            },
            "type": "scattergeo"
           }
          ],
          "scattergl": [
           {
            "marker": {
             "colorbar": {
              "outlinewidth": 0,
              "ticks": ""
             }
            },
            "type": "scattergl"
           }
          ],
          "scattermapbox": [
           {
            "marker": {
             "colorbar": {
              "outlinewidth": 0,
              "ticks": ""
             }
            },
            "type": "scattermapbox"
           }
          ],
          "scatterpolar": [
           {
            "marker": {
             "colorbar": {
              "outlinewidth": 0,
              "ticks": ""
             }
            },
            "type": "scatterpolar"
           }
          ],
          "scatterpolargl": [
           {
            "marker": {
             "colorbar": {
              "outlinewidth": 0,
              "ticks": ""
             }
            },
            "type": "scatterpolargl"
           }
          ],
          "scatterternary": [
           {
            "marker": {
             "colorbar": {
              "outlinewidth": 0,
              "ticks": ""
             }
            },
            "type": "scatterternary"
           }
          ],
          "surface": [
           {
            "colorbar": {
             "outlinewidth": 0,
             "ticks": ""
            },
            "colorscale": [
             [
              0,
              "#0d0887"
             ],
             [
              0.1111111111111111,
              "#46039f"
             ],
             [
              0.2222222222222222,
              "#7201a8"
             ],
             [
              0.3333333333333333,
              "#9c179e"
             ],
             [
              0.4444444444444444,
              "#bd3786"
             ],
             [
              0.5555555555555556,
              "#d8576b"
             ],
             [
              0.6666666666666666,
              "#ed7953"
             ],
             [
              0.7777777777777778,
              "#fb9f3a"
             ],
             [
              0.8888888888888888,
              "#fdca26"
             ],
             [
              1,
              "#f0f921"
             ]
            ],
            "type": "surface"
           }
          ],
          "table": [
           {
            "cells": {
             "fill": {
              "color": "#EBF0F8"
             },
             "line": {
              "color": "white"
             }
            },
            "header": {
             "fill": {
              "color": "#C8D4E3"
             },
             "line": {
              "color": "white"
             }
            },
            "type": "table"
           }
          ]
         },
         "layout": {
          "annotationdefaults": {
           "arrowcolor": "#2a3f5f",
           "arrowhead": 0,
           "arrowwidth": 1
          },
          "coloraxis": {
           "colorbar": {
            "outlinewidth": 0,
            "ticks": ""
           }
          },
          "colorscale": {
           "diverging": [
            [
             0,
             "#8e0152"
            ],
            [
             0.1,
             "#c51b7d"
            ],
            [
             0.2,
             "#de77ae"
            ],
            [
             0.3,
             "#f1b6da"
            ],
            [
             0.4,
             "#fde0ef"
            ],
            [
             0.5,
             "#f7f7f7"
            ],
            [
             0.6,
             "#e6f5d0"
            ],
            [
             0.7,
             "#b8e186"
            ],
            [
             0.8,
             "#7fbc41"
            ],
            [
             0.9,
             "#4d9221"
            ],
            [
             1,
             "#276419"
            ]
           ],
           "sequential": [
            [
             0,
             "#0d0887"
            ],
            [
             0.1111111111111111,
             "#46039f"
            ],
            [
             0.2222222222222222,
             "#7201a8"
            ],
            [
             0.3333333333333333,
             "#9c179e"
            ],
            [
             0.4444444444444444,
             "#bd3786"
            ],
            [
             0.5555555555555556,
             "#d8576b"
            ],
            [
             0.6666666666666666,
             "#ed7953"
            ],
            [
             0.7777777777777778,
             "#fb9f3a"
            ],
            [
             0.8888888888888888,
             "#fdca26"
            ],
            [
             1,
             "#f0f921"
            ]
           ],
           "sequentialminus": [
            [
             0,
             "#0d0887"
            ],
            [
             0.1111111111111111,
             "#46039f"
            ],
            [
             0.2222222222222222,
             "#7201a8"
            ],
            [
             0.3333333333333333,
             "#9c179e"
            ],
            [
             0.4444444444444444,
             "#bd3786"
            ],
            [
             0.5555555555555556,
             "#d8576b"
            ],
            [
             0.6666666666666666,
             "#ed7953"
            ],
            [
             0.7777777777777778,
             "#fb9f3a"
            ],
            [
             0.8888888888888888,
             "#fdca26"
            ],
            [
             1,
             "#f0f921"
            ]
           ]
          },
          "colorway": [
           "#636efa",
           "#EF553B",
           "#00cc96",
           "#ab63fa",
           "#FFA15A",
           "#19d3f3",
           "#FF6692",
           "#B6E880",
           "#FF97FF",
           "#FECB52"
          ],
          "font": {
           "color": "#2a3f5f"
          },
          "geo": {
           "bgcolor": "white",
           "lakecolor": "white",
           "landcolor": "#E5ECF6",
           "showlakes": true,
           "showland": true,
           "subunitcolor": "white"
          },
          "hoverlabel": {
           "align": "left"
          },
          "hovermode": "closest",
          "mapbox": {
           "style": "light"
          },
          "paper_bgcolor": "white",
          "plot_bgcolor": "#E5ECF6",
          "polar": {
           "angularaxis": {
            "gridcolor": "white",
            "linecolor": "white",
            "ticks": ""
           },
           "bgcolor": "#E5ECF6",
           "radialaxis": {
            "gridcolor": "white",
            "linecolor": "white",
            "ticks": ""
           }
          },
          "scene": {
           "xaxis": {
            "backgroundcolor": "#E5ECF6",
            "gridcolor": "white",
            "gridwidth": 2,
            "linecolor": "white",
            "showbackground": true,
            "ticks": "",
            "zerolinecolor": "white"
           },
           "yaxis": {
            "backgroundcolor": "#E5ECF6",
            "gridcolor": "white",
            "gridwidth": 2,
            "linecolor": "white",
            "showbackground": true,
            "ticks": "",
            "zerolinecolor": "white"
           },
           "zaxis": {
            "backgroundcolor": "#E5ECF6",
            "gridcolor": "white",
            "gridwidth": 2,
            "linecolor": "white",
            "showbackground": true,
            "ticks": "",
            "zerolinecolor": "white"
           }
          },
          "shapedefaults": {
           "line": {
            "color": "#2a3f5f"
           }
          },
          "ternary": {
           "aaxis": {
            "gridcolor": "white",
            "linecolor": "white",
            "ticks": ""
           },
           "baxis": {
            "gridcolor": "white",
            "linecolor": "white",
            "ticks": ""
           },
           "bgcolor": "#E5ECF6",
           "caxis": {
            "gridcolor": "white",
            "linecolor": "white",
            "ticks": ""
           }
          },
          "title": {
           "x": 0.05
          },
          "xaxis": {
           "automargin": true,
           "gridcolor": "white",
           "linecolor": "white",
           "ticks": "",
           "title": {
            "standoff": 15
           },
           "zerolinecolor": "white",
           "zerolinewidth": 2
          },
          "yaxis": {
           "automargin": true,
           "gridcolor": "white",
           "linecolor": "white",
           "ticks": "",
           "title": {
            "standoff": 15
           },
           "zerolinecolor": "white",
           "zerolinewidth": 2
          }
         }
        }
       }
      },
      "text/html": [
       "<div>                            <div id=\"9afd942f-0d30-40d1-b3c3-95e9a3bf1777\" class=\"plotly-graph-div\" style=\"height:525px; width:100%;\"></div>            <script type=\"text/javascript\">                require([\"plotly\"], function(Plotly) {                    window.PLOTLYENV=window.PLOTLYENV || {};                                    if (document.getElementById(\"9afd942f-0d30-40d1-b3c3-95e9a3bf1777\")) {                    Plotly.newPlot(                        \"9afd942f-0d30-40d1-b3c3-95e9a3bf1777\",                        [{\"hovertemplate\": \"Customers=University 1<br>Invoice Amount=%{marker.size}<br>Lat=%{lat}<br>Long=%{lon}<extra></extra>\", \"lat\": [60.920165], \"legendgroup\": \"University 1\", \"lon\": [-182.37713100000002], \"marker\": {\"color\": \"#636efa\", \"size\": [139000.0], \"sizemode\": \"area\", \"sizeref\": 347.5}, \"mode\": \"markers\", \"name\": \"University 1\", \"showlegend\": true, \"subplot\": \"mapbox\", \"type\": \"scattermapbox\"}, {\"hovertemplate\": \"Customers=University 10<br>Invoice Amount=%{marker.size}<br>Lat=%{lat}<br>Long=%{lon}<extra></extra>\", \"lat\": [119.19663], \"legendgroup\": \"University 10\", \"lon\": [-270.74084100000005], \"marker\": {\"color\": \"#EF553B\", \"size\": [11200.01], \"sizemode\": \"area\", \"sizeref\": 347.5}, \"mode\": \"markers\", \"name\": \"University 10\", \"showlegend\": true, \"subplot\": \"mapbox\", \"type\": \"scattermapbox\"}, {\"hovertemplate\": \"Customers=University 100<br>Invoice Amount=%{marker.size}<br>Lat=%{lat}<br>Long=%{lon}<extra></extra>\", \"lat\": [28.062], \"legendgroup\": \"University 100\", \"lon\": [-82.413225], \"marker\": {\"color\": \"#00cc96\", \"size\": [5460.0], \"sizemode\": \"area\", \"sizeref\": 347.5}, \"mode\": \"markers\", \"name\": \"University 100\", \"showlegend\": true, \"subplot\": \"mapbox\", \"type\": \"scattermapbox\"}, {\"hovertemplate\": \"Customers=University 101<br>Invoice Amount=%{marker.size}<br>Lat=%{lat}<br>Long=%{lon}<extra></extra>\", \"lat\": [48.630369], \"legendgroup\": \"University 101\", \"lon\": [-97.471056], \"marker\": {\"color\": \"#ab63fa\", \"size\": [750.0], \"sizemode\": \"area\", \"sizeref\": 347.5}, \"mode\": \"markers\", \"name\": \"University 101\", \"showlegend\": true, \"subplot\": \"mapbox\", \"type\": \"scattermapbox\"}, {\"hovertemplate\": \"Customers=University 102<br>Invoice Amount=%{marker.size}<br>Lat=%{lat}<br>Long=%{lon}<extra></extra>\", \"lat\": [0.0], \"legendgroup\": \"University 102\", \"lon\": [0.0], \"marker\": {\"color\": \"#FFA15A\", \"size\": [14500.0], \"sizemode\": \"area\", \"sizeref\": 347.5}, \"mode\": \"markers\", \"name\": \"University 102\", \"showlegend\": true, \"subplot\": \"mapbox\", \"type\": \"scattermapbox\"}, {\"hovertemplate\": \"Customers=University 103<br>Invoice Amount=%{marker.size}<br>Lat=%{lat}<br>Long=%{lon}<extra></extra>\", \"lat\": [136.224519], \"legendgroup\": \"University 103\", \"lon\": [-368.766969], \"marker\": {\"color\": \"#19d3f3\", \"size\": [2250.0], \"sizemode\": \"area\", \"sizeref\": 347.5}, \"mode\": \"markers\", \"name\": \"University 103\", \"showlegend\": true, \"subplot\": \"mapbox\", \"type\": \"scattermapbox\"}, {\"hovertemplate\": \"Customers=University 104<br>Invoice Amount=%{marker.size}<br>Lat=%{lat}<br>Long=%{lon}<extra></extra>\", \"lat\": [45.521516], \"legendgroup\": \"University 104\", \"lon\": [-122.984856], \"marker\": {\"color\": \"#FF6692\", \"size\": [5775.0], \"sizemode\": \"area\", \"sizeref\": 347.5}, \"mode\": \"markers\", \"name\": \"University 104\", \"showlegend\": true, \"subplot\": \"mapbox\", \"type\": \"scattermapbox\"}, {\"hovertemplate\": \"Customers=University 105<br>Invoice Amount=%{marker.size}<br>Lat=%{lat}<br>Long=%{lon}<extra></extra>\", \"lat\": [28.062], \"legendgroup\": \"University 105\", \"lon\": [-82.413225], \"marker\": {\"color\": \"#B6E880\", \"size\": [1900.0], \"sizemode\": \"area\", \"sizeref\": 347.5}, \"mode\": \"markers\", \"name\": \"University 105\", \"showlegend\": true, \"subplot\": \"mapbox\", \"type\": \"scattermapbox\"}, {\"hovertemplate\": \"Customers=University 106<br>Invoice Amount=%{marker.size}<br>Lat=%{lat}<br>Long=%{lon}<extra></extra>\", \"lat\": [44.119155], \"legendgroup\": \"University 106\", \"lon\": [-104.133391], \"marker\": {\"color\": \"#FF97FF\", \"size\": [500.0], \"sizemode\": \"area\", \"sizeref\": 347.5}, \"mode\": \"markers\", \"name\": \"University 106\", \"showlegend\": true, \"subplot\": \"mapbox\", \"type\": \"scattermapbox\"}, {\"hovertemplate\": \"Customers=University 107<br>Invoice Amount=%{marker.size}<br>Lat=%{lat}<br>Long=%{lon}<extra></extra>\", \"lat\": [35.841039], \"legendgroup\": \"University 107\", \"lon\": [-90.675602], \"marker\": {\"color\": \"#FECB52\", \"size\": [15750.0], \"sizemode\": \"area\", \"sizeref\": 347.5}, \"mode\": \"markers\", \"name\": \"University 107\", \"showlegend\": true, \"subplot\": \"mapbox\", \"type\": \"scattermapbox\"}, {\"hovertemplate\": \"Customers=University 108<br>Invoice Amount=%{marker.size}<br>Lat=%{lat}<br>Long=%{lon}<extra></extra>\", \"lat\": [68.86936800000001], \"legendgroup\": \"University 108\", \"lon\": [-212.263236], \"marker\": {\"color\": \"#636efa\", \"size\": [2900.0], \"sizemode\": \"area\", \"sizeref\": 347.5}, \"mode\": \"markers\", \"name\": \"University 108\", \"showlegend\": true, \"subplot\": \"mapbox\", \"type\": \"scattermapbox\"}, {\"hovertemplate\": \"Customers=University 109<br>Invoice Amount=%{marker.size}<br>Lat=%{lat}<br>Long=%{lon}<extra></extra>\", \"lat\": [45.408173], \"legendgroup\": \"University 109\", \"lon\": [-122.922323], \"marker\": {\"color\": \"#EF553B\", \"size\": [6825.0], \"sizemode\": \"area\", \"sizeref\": 347.5}, \"mode\": \"markers\", \"name\": \"University 109\", \"showlegend\": true, \"subplot\": \"mapbox\", \"type\": \"scattermapbox\"}, {\"hovertemplate\": \"Customers=University 11<br>Invoice Amount=%{marker.size}<br>Lat=%{lat}<br>Long=%{lon}<extra></extra>\", \"lat\": [113.95804199999999], \"legendgroup\": \"University 11\", \"lon\": [-253.18800299999998], \"marker\": {\"color\": \"#00cc96\", \"size\": [10500.0], \"sizemode\": \"area\", \"sizeref\": 347.5}, \"mode\": \"markers\", \"name\": \"University 11\", \"showlegend\": true, \"subplot\": \"mapbox\", \"type\": \"scattermapbox\"}, {\"hovertemplate\": \"Customers=University 110<br>Invoice Amount=%{marker.size}<br>Lat=%{lat}<br>Long=%{lon}<extra></extra>\", \"lat\": [84.186], \"legendgroup\": \"University 110\", \"lon\": [-247.23967499999998], \"marker\": {\"color\": \"#ab63fa\", \"size\": [6800.0], \"sizemode\": \"area\", \"sizeref\": 347.5}, \"mode\": \"markers\", \"name\": \"University 110\", \"showlegend\": true, \"subplot\": \"mapbox\", \"type\": \"scattermapbox\"}, {\"hovertemplate\": \"Customers=University 111<br>Invoice Amount=%{marker.size}<br>Lat=%{lat}<br>Long=%{lon}<extra></extra>\", \"lat\": [179.205195], \"legendgroup\": \"University 111\", \"lon\": [-453.37801], \"marker\": {\"color\": \"#FFA15A\", \"size\": [12700.0], \"sizemode\": \"area\", \"sizeref\": 347.5}, \"mode\": \"markers\", \"name\": \"University 111\", \"showlegend\": true, \"subplot\": \"mapbox\", \"type\": \"scattermapbox\"}, {\"hovertemplate\": \"Customers=University 112<br>Invoice Amount=%{marker.size}<br>Lat=%{lat}<br>Long=%{lon}<extra></extra>\", \"lat\": [0.0], \"legendgroup\": \"University 112\", \"lon\": [0.0], \"marker\": {\"color\": \"#19d3f3\", \"size\": [300.0], \"sizemode\": \"area\", \"sizeref\": 347.5}, \"mode\": \"markers\", \"name\": \"University 112\", \"showlegend\": true, \"subplot\": \"mapbox\", \"type\": \"scattermapbox\"}, {\"hovertemplate\": \"Customers=University 113<br>Invoice Amount=%{marker.size}<br>Lat=%{lat}<br>Long=%{lon}<extra></extra>\", \"lat\": [35.7005], \"legendgroup\": \"University 113\", \"lon\": [-91.48084], \"marker\": {\"color\": \"#FF6692\", \"size\": [5670.0], \"sizemode\": \"area\", \"sizeref\": 347.5}, \"mode\": \"markers\", \"name\": \"University 113\", \"showlegend\": true, \"subplot\": \"mapbox\", \"type\": \"scattermapbox\"}, {\"hovertemplate\": \"Customers=University 114<br>Invoice Amount=%{marker.size}<br>Lat=%{lat}<br>Long=%{lon}<extra></extra>\", \"lat\": [0.0], \"legendgroup\": \"University 114\", \"lon\": [0.0], \"marker\": {\"color\": \"#B6E880\", \"size\": [6362.5], \"sizemode\": \"area\", \"sizeref\": 347.5}, \"mode\": \"markers\", \"name\": \"University 114\", \"showlegend\": true, \"subplot\": \"mapbox\", \"type\": \"scattermapbox\"}, {\"hovertemplate\": \"Customers=University 115<br>Invoice Amount=%{marker.size}<br>Lat=%{lat}<br>Long=%{lon}<extra></extra>\", \"lat\": [33.456412], \"legendgroup\": \"University 115\", \"lon\": [-86.80190400000002], \"marker\": {\"color\": \"#FF97FF\", \"size\": [1500.0], \"sizemode\": \"area\", \"sizeref\": 347.5}, \"mode\": \"markers\", \"name\": \"University 115\", \"showlegend\": true, \"subplot\": \"mapbox\", \"type\": \"scattermapbox\"}, {\"hovertemplate\": \"Customers=University 116<br>Invoice Amount=%{marker.size}<br>Lat=%{lat}<br>Long=%{lon}<extra></extra>\", \"lat\": [0.0], \"legendgroup\": \"University 116\", \"lon\": [0.0], \"marker\": {\"color\": \"#FECB52\", \"size\": [5000.0], \"sizemode\": \"area\", \"sizeref\": 347.5}, \"mode\": \"markers\", \"name\": \"University 116\", \"showlegend\": true, \"subplot\": \"mapbox\", \"type\": \"scattermapbox\"}, {\"hovertemplate\": \"Customers=University 117<br>Invoice Amount=%{marker.size}<br>Lat=%{lat}<br>Long=%{lon}<extra></extra>\", \"lat\": [37.91007800000001], \"legendgroup\": \"University 117\", \"lon\": [-84.69466700000002], \"marker\": {\"color\": \"#636efa\", \"size\": [3500.0], \"sizemode\": \"area\", \"sizeref\": 347.5}, \"mode\": \"markers\", \"name\": \"University 117\", \"showlegend\": true, \"subplot\": \"mapbox\", \"type\": \"scattermapbox\"}, {\"hovertemplate\": \"Customers=University 118<br>Invoice Amount=%{marker.size}<br>Lat=%{lat}<br>Long=%{lon}<extra></extra>\", \"lat\": [45.408173], \"legendgroup\": \"University 118\", \"lon\": [-122.922323], \"marker\": {\"color\": \"#EF553B\", \"size\": [6300.0], \"sizemode\": \"area\", \"sizeref\": 347.5}, \"mode\": \"markers\", \"name\": \"University 118\", \"showlegend\": true, \"subplot\": \"mapbox\", \"type\": \"scattermapbox\"}, {\"hovertemplate\": \"Customers=University 119<br>Invoice Amount=%{marker.size}<br>Lat=%{lat}<br>Long=%{lon}<extra></extra>\", \"lat\": [40.250861], \"legendgroup\": \"University 119\", \"lon\": [-74.004581], \"marker\": {\"color\": \"#00cc96\", \"size\": [1500.0], \"sizemode\": \"area\", \"sizeref\": 347.5}, \"mode\": \"markers\", \"name\": \"University 119\", \"showlegend\": true, \"subplot\": \"mapbox\", \"type\": \"scattermapbox\"}, {\"hovertemplate\": \"Customers=University 12<br>Invoice Amount=%{marker.size}<br>Lat=%{lat}<br>Long=%{lon}<extra></extra>\", \"lat\": [68.526842], \"legendgroup\": \"University 12\", \"lon\": [-170.379376], \"marker\": {\"color\": \"#ab63fa\", \"size\": [1500.0], \"sizemode\": \"area\", \"sizeref\": 347.5}, \"mode\": \"markers\", \"name\": \"University 12\", \"showlegend\": true, \"subplot\": \"mapbox\", \"type\": \"scattermapbox\"}, {\"hovertemplate\": \"Customers=University 120<br>Invoice Amount=%{marker.size}<br>Lat=%{lat}<br>Long=%{lon}<extra></extra>\", \"lat\": [0.0], \"legendgroup\": \"University 120\", \"lon\": [0.0], \"marker\": {\"color\": \"#FFA15A\", \"size\": [3600.0], \"sizemode\": \"area\", \"sizeref\": 347.5}, \"mode\": \"markers\", \"name\": \"University 120\", \"showlegend\": true, \"subplot\": \"mapbox\", \"type\": \"scattermapbox\"}, {\"hovertemplate\": \"Customers=University 121<br>Invoice Amount=%{marker.size}<br>Lat=%{lat}<br>Long=%{lon}<extra></extra>\", \"lat\": [42.54364], \"legendgroup\": \"University 121\", \"lon\": [-71.61479], \"marker\": {\"color\": \"#19d3f3\", \"size\": [1500.0], \"sizemode\": \"area\", \"sizeref\": 347.5}, \"mode\": \"markers\", \"name\": \"University 121\", \"showlegend\": true, \"subplot\": \"mapbox\", \"type\": \"scattermapbox\"}, {\"hovertemplate\": \"Customers=University 122<br>Invoice Amount=%{marker.size}<br>Lat=%{lat}<br>Long=%{lon}<extra></extra>\", \"lat\": [39.577496], \"legendgroup\": \"University 122\", \"lon\": [-94.834963], \"marker\": {\"color\": \"#FF6692\", \"size\": [510.0], \"sizemode\": \"area\", \"sizeref\": 347.5}, \"mode\": \"markers\", \"name\": \"University 122\", \"showlegend\": true, \"subplot\": \"mapbox\", \"type\": \"scattermapbox\"}, {\"hovertemplate\": \"Customers=University 123<br>Invoice Amount=%{marker.size}<br>Lat=%{lat}<br>Long=%{lon}<extra></extra>\", \"lat\": [56.124], \"legendgroup\": \"University 123\", \"lon\": [-164.82645], \"marker\": {\"color\": \"#B6E880\", \"size\": [5000.0], \"sizemode\": \"area\", \"sizeref\": 347.5}, \"mode\": \"markers\", \"name\": \"University 123\", \"showlegend\": true, \"subplot\": \"mapbox\", \"type\": \"scattermapbox\"}, {\"hovertemplate\": \"Customers=University 124<br>Invoice Amount=%{marker.size}<br>Lat=%{lat}<br>Long=%{lon}<extra></extra>\", \"lat\": [118.866387], \"legendgroup\": \"University 124\", \"lon\": [-262.364307], \"marker\": {\"color\": \"#FF97FF\", \"size\": [16500.0], \"sizemode\": \"area\", \"sizeref\": 347.5}, \"mode\": \"markers\", \"name\": \"University 124\", \"showlegend\": true, \"subplot\": \"mapbox\", \"type\": \"scattermapbox\"}, {\"hovertemplate\": \"Customers=University 125<br>Invoice Amount=%{marker.size}<br>Lat=%{lat}<br>Long=%{lon}<extra></extra>\", \"lat\": [28.062], \"legendgroup\": \"University 125\", \"lon\": [-82.413225], \"marker\": {\"color\": \"#FECB52\", \"size\": [2700.0], \"sizemode\": \"area\", \"sizeref\": 347.5}, \"mode\": \"markers\", \"name\": \"University 125\", \"showlegend\": true, \"subplot\": \"mapbox\", \"type\": \"scattermapbox\"}, {\"hovertemplate\": \"Customers=University 126<br>Invoice Amount=%{marker.size}<br>Lat=%{lat}<br>Long=%{lon}<extra></extra>\", \"lat\": [30.976287], \"legendgroup\": \"University 126\", \"lon\": [-83.871284], \"marker\": {\"color\": \"#636efa\", \"size\": [4500.0], \"sizemode\": \"area\", \"sizeref\": 347.5}, \"mode\": \"markers\", \"name\": \"University 126\", \"showlegend\": true, \"subplot\": \"mapbox\", \"type\": \"scattermapbox\"}, {\"hovertemplate\": \"Customers=University 127<br>Invoice Amount=%{marker.size}<br>Lat=%{lat}<br>Long=%{lon}<extra></extra>\", \"lat\": [141.79365], \"legendgroup\": \"University 127\", \"lon\": [-366.75036], \"marker\": {\"color\": \"#EF553B\", \"size\": [6250.0], \"sizemode\": \"area\", \"sizeref\": 347.5}, \"mode\": \"markers\", \"name\": \"University 127\", \"showlegend\": true, \"subplot\": \"mapbox\", \"type\": \"scattermapbox\"}, {\"hovertemplate\": \"Customers=University 128<br>Invoice Amount=%{marker.size}<br>Lat=%{lat}<br>Long=%{lon}<extra></extra>\", \"lat\": [73.50782], \"legendgroup\": \"University 128\", \"lon\": [-211.22556], \"marker\": {\"color\": \"#00cc96\", \"size\": [2500.0], \"sizemode\": \"area\", \"sizeref\": 347.5}, \"mode\": \"markers\", \"name\": \"University 128\", \"showlegend\": true, \"subplot\": \"mapbox\", \"type\": \"scattermapbox\"}, {\"hovertemplate\": \"Customers=University 129<br>Invoice Amount=%{marker.size}<br>Lat=%{lat}<br>Long=%{lon}<extra></extra>\", \"lat\": [36.75391], \"legendgroup\": \"University 129\", \"lon\": [-105.61278], \"marker\": {\"color\": \"#ab63fa\", \"size\": [3500.0], \"sizemode\": \"area\", \"sizeref\": 347.5}, \"mode\": \"markers\", \"name\": \"University 129\", \"showlegend\": true, \"subplot\": \"mapbox\", \"type\": \"scattermapbox\"}, {\"hovertemplate\": \"Customers=University 13<br>Invoice Amount=%{marker.size}<br>Lat=%{lat}<br>Long=%{lon}<extra></extra>\", \"lat\": [210.186932], \"legendgroup\": \"University 13\", \"lon\": [-574.125869], \"marker\": {\"color\": \"#FFA15A\", \"size\": [6062.5], \"sizemode\": \"area\", \"sizeref\": 347.5}, \"mode\": \"markers\", \"name\": \"University 13\", \"showlegend\": true, \"subplot\": \"mapbox\", \"type\": \"scattermapbox\"}, {\"hovertemplate\": \"Customers=University 130<br>Invoice Amount=%{marker.size}<br>Lat=%{lat}<br>Long=%{lon}<extra></extra>\", \"lat\": [100.97259299999999], \"legendgroup\": \"University 130\", \"lon\": [-353.438004], \"marker\": {\"color\": \"#19d3f3\", \"size\": [4500.0], \"sizemode\": \"area\", \"sizeref\": 347.5}, \"mode\": \"markers\", \"name\": \"University 130\", \"showlegend\": true, \"subplot\": \"mapbox\", \"type\": \"scattermapbox\"}, {\"hovertemplate\": \"Customers=University 131<br>Invoice Amount=%{marker.size}<br>Lat=%{lat}<br>Long=%{lon}<extra></extra>\", \"lat\": [61.40654], \"legendgroup\": \"University 131\", \"lon\": [-166.05528], \"marker\": {\"color\": \"#FF6692\", \"size\": [3800.0], \"sizemode\": \"area\", \"sizeref\": 347.5}, \"mode\": \"markers\", \"name\": \"University 131\", \"showlegend\": true, \"subplot\": \"mapbox\", \"type\": \"scattermapbox\"}, {\"hovertemplate\": \"Customers=University 132<br>Invoice Amount=%{marker.size}<br>Lat=%{lat}<br>Long=%{lon}<extra></extra>\", \"lat\": [45.408173], \"legendgroup\": \"University 132\", \"lon\": [-122.922323], \"marker\": {\"color\": \"#B6E880\", \"size\": [2270.0], \"sizemode\": \"area\", \"sizeref\": 347.5}, \"mode\": \"markers\", \"name\": \"University 132\", \"showlegend\": true, \"subplot\": \"mapbox\", \"type\": \"scattermapbox\"}, {\"hovertemplate\": \"Customers=University 133<br>Invoice Amount=%{marker.size}<br>Lat=%{lat}<br>Long=%{lon}<extra></extra>\", \"lat\": [80.606238], \"legendgroup\": \"University 133\", \"lon\": [-159.995134], \"marker\": {\"color\": \"#FF97FF\", \"size\": [3350.0], \"sizemode\": \"area\", \"sizeref\": 347.5}, \"mode\": \"markers\", \"name\": \"University 133\", \"showlegend\": true, \"subplot\": \"mapbox\", \"type\": \"scattermapbox\"}, {\"hovertemplate\": \"Customers=University 134<br>Invoice Amount=%{marker.size}<br>Lat=%{lat}<br>Long=%{lon}<extra></extra>\", \"lat\": [67.652458], \"legendgroup\": \"University 134\", \"lon\": [-187.922044], \"marker\": {\"color\": \"#FECB52\", \"size\": [2750.0], \"sizemode\": \"area\", \"sizeref\": 347.5}, \"mode\": \"markers\", \"name\": \"University 134\", \"showlegend\": true, \"subplot\": \"mapbox\", \"type\": \"scattermapbox\"}, {\"hovertemplate\": \"Customers=University 135<br>Invoice Amount=%{marker.size}<br>Lat=%{lat}<br>Long=%{lon}<extra></extra>\", \"lat\": [0.0], \"legendgroup\": \"University 135\", \"lon\": [0.0], \"marker\": {\"color\": \"#636efa\", \"size\": [1500.0], \"sizemode\": \"area\", \"sizeref\": 347.5}, \"mode\": \"markers\", \"name\": \"University 135\", \"showlegend\": true, \"subplot\": \"mapbox\", \"type\": \"scattermapbox\"}, {\"hovertemplate\": \"Customers=University 136<br>Invoice Amount=%{marker.size}<br>Lat=%{lat}<br>Long=%{lon}<extra></extra>\", \"lat\": [0.0], \"legendgroup\": \"University 136\", \"lon\": [0.0], \"marker\": {\"color\": \"#EF553B\", \"size\": [6850.0], \"sizemode\": \"area\", \"sizeref\": 347.5}, \"mode\": \"markers\", \"name\": \"University 136\", \"showlegend\": true, \"subplot\": \"mapbox\", \"type\": \"scattermapbox\"}, {\"hovertemplate\": \"Customers=University 137<br>Invoice Amount=%{marker.size}<br>Lat=%{lat}<br>Long=%{lon}<extra></extra>\", \"lat\": [45.408173], \"legendgroup\": \"University 137\", \"lon\": [-122.922323], \"marker\": {\"color\": \"#00cc96\", \"size\": [1000.0], \"sizemode\": \"area\", \"sizeref\": 347.5}, \"mode\": \"markers\", \"name\": \"University 137\", \"showlegend\": true, \"subplot\": \"mapbox\", \"type\": \"scattermapbox\"}, {\"hovertemplate\": \"Customers=University 138<br>Invoice Amount=%{marker.size}<br>Lat=%{lat}<br>Long=%{lon}<extra></extra>\", \"lat\": [39.07977], \"legendgroup\": \"University 138\", \"lon\": [-86.513329], \"marker\": {\"color\": \"#ab63fa\", \"size\": [50000.0], \"sizemode\": \"area\", \"sizeref\": 347.5}, \"mode\": \"markers\", \"name\": \"University 138\", \"showlegend\": true, \"subplot\": \"mapbox\", \"type\": \"scattermapbox\"}, {\"hovertemplate\": \"Customers=University 139<br>Invoice Amount=%{marker.size}<br>Lat=%{lat}<br>Long=%{lon}<extra></extra>\", \"lat\": [56.124], \"legendgroup\": \"University 139\", \"lon\": [-164.82645], \"marker\": {\"color\": \"#FFA15A\", \"size\": [12050.0], \"sizemode\": \"area\", \"sizeref\": 347.5}, \"mode\": \"markers\", \"name\": \"University 139\", \"showlegend\": true, \"subplot\": \"mapbox\", \"type\": \"scattermapbox\"}, {\"hovertemplate\": \"Customers=University 14<br>Invoice Amount=%{marker.size}<br>Lat=%{lat}<br>Long=%{lon}<extra></extra>\", \"lat\": [42.08068], \"legendgroup\": \"University 14\", \"lon\": [-78.48354300000003], \"marker\": {\"color\": \"#19d3f3\", \"size\": [1000.0], \"sizemode\": \"area\", \"sizeref\": 347.5}, \"mode\": \"markers\", \"name\": \"University 14\", \"showlegend\": true, \"subplot\": \"mapbox\", \"type\": \"scattermapbox\"}, {\"hovertemplate\": \"Customers=University 140<br>Invoice Amount=%{marker.size}<br>Lat=%{lat}<br>Long=%{lon}<extra></extra>\", \"lat\": [0.0], \"legendgroup\": \"University 140\", \"lon\": [0.0], \"marker\": {\"color\": \"#FF6692\", \"size\": [1000.0], \"sizemode\": \"area\", \"sizeref\": 347.5}, \"mode\": \"markers\", \"name\": \"University 140\", \"showlegend\": true, \"subplot\": \"mapbox\", \"type\": \"scattermapbox\"}, {\"hovertemplate\": \"Customers=University 141<br>Invoice Amount=%{marker.size}<br>Lat=%{lat}<br>Long=%{lon}<extra></extra>\", \"lat\": [107.52311700000001], \"legendgroup\": \"University 141\", \"lon\": [-272.02680599999997], \"marker\": {\"color\": \"#B6E880\", \"size\": [6375.0], \"sizemode\": \"area\", \"sizeref\": 347.5}, \"mode\": \"markers\", \"name\": \"University 141\", \"showlegend\": true, \"subplot\": \"mapbox\", \"type\": \"scattermapbox\"}, {\"hovertemplate\": \"Customers=University 142<br>Invoice Amount=%{marker.size}<br>Lat=%{lat}<br>Long=%{lon}<extra></extra>\", \"lat\": [30.70327], \"legendgroup\": \"University 142\", \"lon\": [-83.02764], \"marker\": {\"color\": \"#FF97FF\", \"size\": [7350.0], \"sizemode\": \"area\", \"sizeref\": 347.5}, \"mode\": \"markers\", \"name\": \"University 142\", \"showlegend\": true, \"subplot\": \"mapbox\", \"type\": \"scattermapbox\"}, {\"hovertemplate\": \"Customers=University 143<br>Invoice Amount=%{marker.size}<br>Lat=%{lat}<br>Long=%{lon}<extra></extra>\", \"lat\": [0.0], \"legendgroup\": \"University 143\", \"lon\": [0.0], \"marker\": {\"color\": \"#FECB52\", \"size\": [10250.0], \"sizemode\": \"area\", \"sizeref\": 347.5}, \"mode\": \"markers\", \"name\": \"University 143\", \"showlegend\": true, \"subplot\": \"mapbox\", \"type\": \"scattermapbox\"}, {\"hovertemplate\": \"Customers=University 144<br>Invoice Amount=%{marker.size}<br>Lat=%{lat}<br>Long=%{lon}<extra></extra>\", \"lat\": [68.25416], \"legendgroup\": \"University 144\", \"lon\": [-186.113166], \"marker\": {\"color\": \"#636efa\", \"size\": [2000.0], \"sizemode\": \"area\", \"sizeref\": 347.5}, \"mode\": \"markers\", \"name\": \"University 144\", \"showlegend\": true, \"subplot\": \"mapbox\", \"type\": \"scattermapbox\"}, {\"hovertemplate\": \"Customers=University 145<br>Invoice Amount=%{marker.size}<br>Lat=%{lat}<br>Long=%{lon}<extra></extra>\", \"lat\": [28.062], \"legendgroup\": \"University 145\", \"lon\": [-82.413225], \"marker\": {\"color\": \"#EF553B\", \"size\": [8425.0], \"sizemode\": \"area\", \"sizeref\": 347.5}, \"mode\": \"markers\", \"name\": \"University 145\", \"showlegend\": true, \"subplot\": \"mapbox\", \"type\": \"scattermapbox\"}, {\"hovertemplate\": \"Customers=University 146<br>Invoice Amount=%{marker.size}<br>Lat=%{lat}<br>Long=%{lon}<extra></extra>\", \"lat\": [36.34318], \"legendgroup\": \"University 146\", \"lon\": [-88.858988], \"marker\": {\"color\": \"#00cc96\", \"size\": [3850.0], \"sizemode\": \"area\", \"sizeref\": 347.5}, \"mode\": \"markers\", \"name\": \"University 146\", \"showlegend\": true, \"subplot\": \"mapbox\", \"type\": \"scattermapbox\"}, {\"hovertemplate\": \"Customers=University 147<br>Invoice Amount=%{marker.size}<br>Lat=%{lat}<br>Long=%{lon}<extra></extra>\", \"lat\": [104.233947], \"legendgroup\": \"University 147\", \"lon\": [-248.39180100000002], \"marker\": {\"color\": \"#ab63fa\", \"size\": [6900.0], \"sizemode\": \"area\", \"sizeref\": 347.5}, \"mode\": \"markers\", \"name\": \"University 147\", \"showlegend\": true, \"subplot\": \"mapbox\", \"type\": \"scattermapbox\"}, {\"hovertemplate\": \"Customers=University 148<br>Invoice Amount=%{marker.size}<br>Lat=%{lat}<br>Long=%{lon}<extra></extra>\", \"lat\": [0.0], \"legendgroup\": \"University 148\", \"lon\": [0.0], \"marker\": {\"color\": \"#FFA15A\", \"size\": [5950.0], \"sizemode\": \"area\", \"sizeref\": 347.5}, \"mode\": \"markers\", \"name\": \"University 148\", \"showlegend\": true, \"subplot\": \"mapbox\", \"type\": \"scattermapbox\"}, {\"hovertemplate\": \"Customers=University 149<br>Invoice Amount=%{marker.size}<br>Lat=%{lat}<br>Long=%{lon}<extra></extra>\", \"lat\": [37.522251], \"legendgroup\": \"University 149\", \"lon\": [-78.668194], \"marker\": {\"color\": \"#19d3f3\", \"size\": [4500.0], \"sizemode\": \"area\", \"sizeref\": 347.5}, \"mode\": \"markers\", \"name\": \"University 149\", \"showlegend\": true, \"subplot\": \"mapbox\", \"type\": \"scattermapbox\"}, {\"hovertemplate\": \"Customers=University 15<br>Invoice Amount=%{marker.size}<br>Lat=%{lat}<br>Long=%{lon}<extra></extra>\", \"lat\": [74.807602], \"legendgroup\": \"University 15\", \"lon\": [-151.820774], \"marker\": {\"color\": \"#FF6692\", \"size\": [1500.0], \"sizemode\": \"area\", \"sizeref\": 347.5}, \"mode\": \"markers\", \"name\": \"University 15\", \"showlegend\": true, \"subplot\": \"mapbox\", \"type\": \"scattermapbox\"}, {\"hovertemplate\": \"Customers=University 150<br>Invoice Amount=%{marker.size}<br>Lat=%{lat}<br>Long=%{lon}<extra></extra>\", \"lat\": [47.647774], \"legendgroup\": \"University 150\", \"lon\": [-122.53801599999998], \"marker\": {\"color\": \"#B6E880\", \"size\": [3600.0], \"sizemode\": \"area\", \"sizeref\": 347.5}, \"mode\": \"markers\", \"name\": \"University 150\", \"showlegend\": true, \"subplot\": \"mapbox\", \"type\": \"scattermapbox\"}, {\"hovertemplate\": \"Customers=University 151<br>Invoice Amount=%{marker.size}<br>Lat=%{lat}<br>Long=%{lon}<extra></extra>\", \"lat\": [56.124], \"legendgroup\": \"University 151\", \"lon\": [-164.82645], \"marker\": {\"color\": \"#FF97FF\", \"size\": [3980.0], \"sizemode\": \"area\", \"sizeref\": 347.5}, \"mode\": \"markers\", \"name\": \"University 151\", \"showlegend\": true, \"subplot\": \"mapbox\", \"type\": \"scattermapbox\"}, {\"hovertemplate\": \"Customers=University 152<br>Invoice Amount=%{marker.size}<br>Lat=%{lat}<br>Long=%{lon}<extra></extra>\", \"lat\": [66.912824], \"legendgroup\": \"University 152\", \"lon\": [-173.60380800000004], \"marker\": {\"color\": \"#FECB52\", \"size\": [2000.0], \"sizemode\": \"area\", \"sizeref\": 347.5}, \"mode\": \"markers\", \"name\": \"University 152\", \"showlegend\": true, \"subplot\": \"mapbox\", \"type\": \"scattermapbox\"}, {\"hovertemplate\": \"Customers=University 153<br>Invoice Amount=%{marker.size}<br>Lat=%{lat}<br>Long=%{lon}<extra></extra>\", \"lat\": [56.124], \"legendgroup\": \"University 153\", \"lon\": [-164.82645], \"marker\": {\"color\": \"#636efa\", \"size\": [5100.0], \"sizemode\": \"area\", \"sizeref\": 347.5}, \"mode\": \"markers\", \"name\": \"University 153\", \"showlegend\": true, \"subplot\": \"mapbox\", \"type\": \"scattermapbox\"}, {\"hovertemplate\": \"Customers=University 154<br>Invoice Amount=%{marker.size}<br>Lat=%{lat}<br>Long=%{lon}<extra></extra>\", \"lat\": [147.622448], \"legendgroup\": \"University 154\", \"lon\": [-353.43904], \"marker\": {\"color\": \"#EF553B\", \"size\": [1756.0], \"sizemode\": \"area\", \"sizeref\": 347.5}, \"mode\": \"markers\", \"name\": \"University 154\", \"showlegend\": true, \"subplot\": \"mapbox\", \"type\": \"scattermapbox\"}, {\"hovertemplate\": \"Customers=University 155<br>Invoice Amount=%{marker.size}<br>Lat=%{lat}<br>Long=%{lon}<extra></extra>\", \"lat\": [71.682078], \"legendgroup\": \"University 155\", \"lon\": [-181.351204], \"marker\": {\"color\": \"#00cc96\", \"size\": [3000.0], \"sizemode\": \"area\", \"sizeref\": 347.5}, \"mode\": \"markers\", \"name\": \"University 155\", \"showlegend\": true, \"subplot\": \"mapbox\", \"type\": \"scattermapbox\"}, {\"hovertemplate\": \"Customers=University 156<br>Invoice Amount=%{marker.size}<br>Lat=%{lat}<br>Long=%{lon}<extra></extra>\", \"lat\": [33.717989], \"legendgroup\": \"University 156\", \"lon\": [-83.801451], \"marker\": {\"color\": \"#ab63fa\", \"size\": [1550.0], \"sizemode\": \"area\", \"sizeref\": 347.5}, \"mode\": \"markers\", \"name\": \"University 156\", \"showlegend\": true, \"subplot\": \"mapbox\", \"type\": \"scattermapbox\"}, {\"hovertemplate\": \"Customers=University 157<br>Invoice Amount=%{marker.size}<br>Lat=%{lat}<br>Long=%{lon}<extra></extra>\", \"lat\": [41.33065], \"legendgroup\": \"University 157\", \"lon\": [-74.18681], \"marker\": {\"color\": \"#FFA15A\", \"size\": [2710.0], \"sizemode\": \"area\", \"sizeref\": 347.5}, \"mode\": \"markers\", \"name\": \"University 157\", \"showlegend\": true, \"subplot\": \"mapbox\", \"type\": \"scattermapbox\"}, {\"hovertemplate\": \"Customers=University 158<br>Invoice Amount=%{marker.size}<br>Lat=%{lat}<br>Long=%{lon}<extra></extra>\", \"lat\": [95.332974], \"legendgroup\": \"University 158\", \"lon\": [-244.619698], \"marker\": {\"color\": \"#19d3f3\", \"size\": [2047.4299999999998], \"sizemode\": \"area\", \"sizeref\": 347.5}, \"mode\": \"markers\", \"name\": \"University 158\", \"showlegend\": true, \"subplot\": \"mapbox\", \"type\": \"scattermapbox\"}, {\"hovertemplate\": \"Customers=University 159<br>Invoice Amount=%{marker.size}<br>Lat=%{lat}<br>Long=%{lon}<extra></extra>\", \"lat\": [34.744649], \"legendgroup\": \"University 159\", \"lon\": [-82.797267], \"marker\": {\"color\": \"#FF6692\", \"size\": [1880.0], \"sizemode\": \"area\", \"sizeref\": 347.5}, \"mode\": \"markers\", \"name\": \"University 159\", \"showlegend\": true, \"subplot\": \"mapbox\", \"type\": \"scattermapbox\"}, {\"hovertemplate\": \"Customers=University 16<br>Invoice Amount=%{marker.size}<br>Lat=%{lat}<br>Long=%{lon}<extra></extra>\", \"lat\": [212.66036100000005], \"legendgroup\": \"University 16\", \"lon\": [-575.62167], \"marker\": {\"color\": \"#B6E880\", \"size\": [7875.0], \"sizemode\": \"area\", \"sizeref\": 347.5}, \"mode\": \"markers\", \"name\": \"University 16\", \"showlegend\": true, \"subplot\": \"mapbox\", \"type\": \"scattermapbox\"}, {\"hovertemplate\": \"Customers=University 160<br>Invoice Amount=%{marker.size}<br>Lat=%{lat}<br>Long=%{lon}<extra></extra>\", \"lat\": [39.577496], \"legendgroup\": \"University 160\", \"lon\": [-94.834963], \"marker\": {\"color\": \"#FF97FF\", \"size\": [510.0], \"sizemode\": \"area\", \"sizeref\": 347.5}, \"mode\": \"markers\", \"name\": \"University 160\", \"showlegend\": true, \"subplot\": \"mapbox\", \"type\": \"scattermapbox\"}, {\"hovertemplate\": \"Customers=University 161<br>Invoice Amount=%{marker.size}<br>Lat=%{lat}<br>Long=%{lon}<extra></extra>\", \"lat\": [0.0], \"legendgroup\": \"University 161\", \"lon\": [0.0], \"marker\": {\"color\": \"#FECB52\", \"size\": [1500.0], \"sizemode\": \"area\", \"sizeref\": 347.5}, \"mode\": \"markers\", \"name\": \"University 161\", \"showlegend\": true, \"subplot\": \"mapbox\", \"type\": \"scattermapbox\"}, {\"hovertemplate\": \"Customers=University 162<br>Invoice Amount=%{marker.size}<br>Lat=%{lat}<br>Long=%{lon}<extra></extra>\", \"lat\": [0.0], \"legendgroup\": \"University 162\", \"lon\": [0.0], \"marker\": {\"color\": \"#636efa\", \"size\": [30520.0], \"sizemode\": \"area\", \"sizeref\": 347.5}, \"mode\": \"markers\", \"name\": \"University 162\", \"showlegend\": true, \"subplot\": \"mapbox\", \"type\": \"scattermapbox\"}, {\"hovertemplate\": \"Customers=University 163<br>Invoice Amount=%{marker.size}<br>Lat=%{lat}<br>Long=%{lon}<extra></extra>\", \"lat\": [0.0], \"legendgroup\": \"University 163\", \"lon\": [0.0], \"marker\": {\"color\": \"#EF553B\", \"size\": [2000.0], \"sizemode\": \"area\", \"sizeref\": 347.5}, \"mode\": \"markers\", \"name\": \"University 163\", \"showlegend\": true, \"subplot\": \"mapbox\", \"type\": \"scattermapbox\"}, {\"hovertemplate\": \"Customers=University 164<br>Invoice Amount=%{marker.size}<br>Lat=%{lat}<br>Long=%{lon}<extra></extra>\", \"lat\": [109.02954], \"legendgroup\": \"University 164\", \"lon\": [-266.576964], \"marker\": {\"color\": \"#00cc96\", \"size\": [572.5], \"sizemode\": \"area\", \"sizeref\": 347.5}, \"mode\": \"markers\", \"name\": \"University 164\", \"showlegend\": true, \"subplot\": \"mapbox\", \"type\": \"scattermapbox\"}, {\"hovertemplate\": \"Customers=University 165<br>Invoice Amount=%{marker.size}<br>Lat=%{lat}<br>Long=%{lon}<extra></extra>\", \"lat\": [45.408173], \"legendgroup\": \"University 165\", \"lon\": [-122.922323], \"marker\": {\"color\": \"#ab63fa\", \"size\": [1650.0], \"sizemode\": \"area\", \"sizeref\": 347.5}, \"mode\": \"markers\", \"name\": \"University 165\", \"showlegend\": true, \"subplot\": \"mapbox\", \"type\": \"scattermapbox\"}, {\"hovertemplate\": \"Customers=University 166<br>Invoice Amount=%{marker.size}<br>Lat=%{lat}<br>Long=%{lon}<extra></extra>\", \"lat\": [0.0], \"legendgroup\": \"University 166\", \"lon\": [0.0], \"marker\": {\"color\": \"#FFA15A\", \"size\": [1250.0], \"sizemode\": \"area\", \"sizeref\": 347.5}, \"mode\": \"markers\", \"name\": \"University 166\", \"showlegend\": true, \"subplot\": \"mapbox\", \"type\": \"scattermapbox\"}, {\"hovertemplate\": \"Customers=University 167<br>Invoice Amount=%{marker.size}<br>Lat=%{lat}<br>Long=%{lon}<extra></extra>\", \"lat\": [48.049258], \"legendgroup\": \"University 167\", \"lon\": [-122.819336], \"marker\": {\"color\": \"#19d3f3\", \"size\": [500.0], \"sizemode\": \"area\", \"sizeref\": 347.5}, \"mode\": \"markers\", \"name\": \"University 167\", \"showlegend\": true, \"subplot\": \"mapbox\", \"type\": \"scattermapbox\"}, {\"hovertemplate\": \"Customers=University 168<br>Invoice Amount=%{marker.size}<br>Lat=%{lat}<br>Long=%{lon}<extra></extra>\", \"lat\": [33.640302], \"legendgroup\": \"University 168\", \"lon\": [-117.769442], \"marker\": {\"color\": \"#FF6692\", \"size\": [1100.0], \"sizemode\": \"area\", \"sizeref\": 347.5}, \"mode\": \"markers\", \"name\": \"University 168\", \"showlegend\": true, \"subplot\": \"mapbox\", \"type\": \"scattermapbox\"}, {\"hovertemplate\": \"Customers=University 169<br>Invoice Amount=%{marker.size}<br>Lat=%{lat}<br>Long=%{lon}<extra></extra>\", \"lat\": [38.993867], \"legendgroup\": \"University 169\", \"lon\": [-105.508319], \"marker\": {\"color\": \"#B6E880\", \"size\": [600.0], \"sizemode\": \"area\", \"sizeref\": 347.5}, \"mode\": \"markers\", \"name\": \"University 169\", \"showlegend\": true, \"subplot\": \"mapbox\", \"type\": \"scattermapbox\"}, {\"hovertemplate\": \"Customers=University 17<br>Invoice Amount=%{marker.size}<br>Lat=%{lat}<br>Long=%{lon}<extra></extra>\", \"lat\": [80.13123], \"legendgroup\": \"University 17\", \"lon\": [-159.771864], \"marker\": {\"color\": \"#FF97FF\", \"size\": [9450.0], \"sizemode\": \"area\", \"sizeref\": 347.5}, \"mode\": \"markers\", \"name\": \"University 17\", \"showlegend\": true, \"subplot\": \"mapbox\", \"type\": \"scattermapbox\"}, {\"hovertemplate\": \"Customers=University 170<br>Invoice Amount=%{marker.size}<br>Lat=%{lat}<br>Long=%{lon}<extra></extra>\", \"lat\": [45.408173], \"legendgroup\": \"University 170\", \"lon\": [-122.922323], \"marker\": {\"color\": \"#FECB52\", \"size\": [2300.0], \"sizemode\": \"area\", \"sizeref\": 347.5}, \"mode\": \"markers\", \"name\": \"University 170\", \"showlegend\": true, \"subplot\": \"mapbox\", \"type\": \"scattermapbox\"}, {\"hovertemplate\": \"Customers=University 171<br>Invoice Amount=%{marker.size}<br>Lat=%{lat}<br>Long=%{lon}<extra></extra>\", \"lat\": [37.680181], \"legendgroup\": \"University 171\", \"lon\": [-121.921498], \"marker\": {\"color\": \"#636efa\", \"size\": [3000.0], \"sizemode\": \"area\", \"sizeref\": 347.5}, \"mode\": \"markers\", \"name\": \"University 171\", \"showlegend\": true, \"subplot\": \"mapbox\", \"type\": \"scattermapbox\"}, {\"hovertemplate\": \"Customers=University 172<br>Invoice Amount=%{marker.size}<br>Lat=%{lat}<br>Long=%{lon}<extra></extra>\", \"lat\": [34.744649], \"legendgroup\": \"University 172\", \"lon\": [-82.797267], \"marker\": {\"color\": \"#EF553B\", \"size\": [450.0], \"sizemode\": \"area\", \"sizeref\": 347.5}, \"mode\": \"markers\", \"name\": \"University 172\", \"showlegend\": true, \"subplot\": \"mapbox\", \"type\": \"scattermapbox\"}, {\"hovertemplate\": \"Customers=University 173<br>Invoice Amount=%{marker.size}<br>Lat=%{lat}<br>Long=%{lon}<extra></extra>\", \"lat\": [46.28569], \"legendgroup\": \"University 173\", \"lon\": [-119.28446], \"marker\": {\"color\": \"#00cc96\", \"size\": [1600.0], \"sizemode\": \"area\", \"sizeref\": 347.5}, \"mode\": \"markers\", \"name\": \"University 173\", \"showlegend\": true, \"subplot\": \"mapbox\", \"type\": \"scattermapbox\"}, {\"hovertemplate\": \"Customers=University 174<br>Invoice Amount=%{marker.size}<br>Lat=%{lat}<br>Long=%{lon}<extra></extra>\", \"lat\": [36.432632], \"legendgroup\": \"University 174\", \"lon\": [-80.91785300000002], \"marker\": {\"color\": \"#ab63fa\", \"size\": [1730.0], \"sizemode\": \"area\", \"sizeref\": 347.5}, \"mode\": \"markers\", \"name\": \"University 174\", \"showlegend\": true, \"subplot\": \"mapbox\", \"type\": \"scattermapbox\"}, {\"hovertemplate\": \"Customers=University 175<br>Invoice Amount=%{marker.size}<br>Lat=%{lat}<br>Long=%{lon}<extra></extra>\", \"lat\": [39.282538], \"legendgroup\": \"University 175\", \"lon\": [-87.667527], \"marker\": {\"color\": \"#FFA15A\", \"size\": [6000.0], \"sizemode\": \"area\", \"sizeref\": 347.5}, \"mode\": \"markers\", \"name\": \"University 175\", \"showlegend\": true, \"subplot\": \"mapbox\", \"type\": \"scattermapbox\"}, {\"hovertemplate\": \"Customers=University 176<br>Invoice Amount=%{marker.size}<br>Lat=%{lat}<br>Long=%{lon}<extra></extra>\", \"lat\": [34.859604], \"legendgroup\": \"University 176\", \"lon\": [-80.938257], \"marker\": {\"color\": \"#19d3f3\", \"size\": [1000.0], \"sizemode\": \"area\", \"sizeref\": 347.5}, \"mode\": \"markers\", \"name\": \"University 176\", \"showlegend\": true, \"subplot\": \"mapbox\", \"type\": \"scattermapbox\"}, {\"hovertemplate\": \"Customers=University 177<br>Invoice Amount=%{marker.size}<br>Lat=%{lat}<br>Long=%{lon}<extra></extra>\", \"lat\": [84.186], \"legendgroup\": \"University 177\", \"lon\": [-247.23967499999998], \"marker\": {\"color\": \"#FF6692\", \"size\": [8500.0], \"sizemode\": \"area\", \"sizeref\": 347.5}, \"mode\": \"markers\", \"name\": \"University 177\", \"showlegend\": true, \"subplot\": \"mapbox\", \"type\": \"scattermapbox\"}, {\"hovertemplate\": \"Customers=University 178<br>Invoice Amount=%{marker.size}<br>Lat=%{lat}<br>Long=%{lon}<extra></extra>\", \"lat\": [119.691486], \"legendgroup\": \"University 178\", \"lon\": [-226.03224899999998], \"marker\": {\"color\": \"#B6E880\", \"size\": [2142.0], \"sizemode\": \"area\", \"sizeref\": 347.5}, \"mode\": \"markers\", \"name\": \"University 178\", \"showlegend\": true, \"subplot\": \"mapbox\", \"type\": \"scattermapbox\"}, {\"hovertemplate\": \"Customers=University 179<br>Invoice Amount=%{marker.size}<br>Lat=%{lat}<br>Long=%{lon}<extra></extra>\", \"lat\": [84.186], \"legendgroup\": \"University 179\", \"lon\": [-247.23967499999998], \"marker\": {\"color\": \"#FF97FF\", \"size\": [18719.25], \"sizemode\": \"area\", \"sizeref\": 347.5}, \"mode\": \"markers\", \"name\": \"University 179\", \"showlegend\": true, \"subplot\": \"mapbox\", \"type\": \"scattermapbox\"}, {\"hovertemplate\": \"Customers=University 18<br>Invoice Amount=%{marker.size}<br>Lat=%{lat}<br>Long=%{lon}<extra></extra>\", \"lat\": [33.529999], \"legendgroup\": \"University 18\", \"lon\": [-117.185591], \"marker\": {\"color\": \"#FECB52\", \"size\": [3500.0], \"sizemode\": \"area\", \"sizeref\": 347.5}, \"mode\": \"markers\", \"name\": \"University 18\", \"showlegend\": true, \"subplot\": \"mapbox\", \"type\": \"scattermapbox\"}, {\"hovertemplate\": \"Customers=University 180<br>Invoice Amount=%{marker.size}<br>Lat=%{lat}<br>Long=%{lon}<extra></extra>\", \"lat\": [28.062], \"legendgroup\": \"University 180\", \"lon\": [-82.413225], \"marker\": {\"color\": \"#636efa\", \"size\": [875.0], \"sizemode\": \"area\", \"sizeref\": 347.5}, \"mode\": \"markers\", \"name\": \"University 180\", \"showlegend\": true, \"subplot\": \"mapbox\", \"type\": \"scattermapbox\"}, {\"hovertemplate\": \"Customers=University 181<br>Invoice Amount=%{marker.size}<br>Lat=%{lat}<br>Long=%{lon}<extra></extra>\", \"lat\": [28.062], \"legendgroup\": \"University 181\", \"lon\": [-82.413225], \"marker\": {\"color\": \"#EF553B\", \"size\": [7500.0], \"sizemode\": \"area\", \"sizeref\": 347.5}, \"mode\": \"markers\", \"name\": \"University 181\", \"showlegend\": true, \"subplot\": \"mapbox\", \"type\": \"scattermapbox\"}, {\"hovertemplate\": \"Customers=University 182<br>Invoice Amount=%{marker.size}<br>Lat=%{lat}<br>Long=%{lon}<extra></extra>\", \"lat\": [0.0], \"legendgroup\": \"University 182\", \"lon\": [0.0], \"marker\": {\"color\": \"#00cc96\", \"size\": [3263.0], \"sizemode\": \"area\", \"sizeref\": 347.5}, \"mode\": \"markers\", \"name\": \"University 182\", \"showlegend\": true, \"subplot\": \"mapbox\", \"type\": \"scattermapbox\"}, {\"hovertemplate\": \"Customers=University 183<br>Invoice Amount=%{marker.size}<br>Lat=%{lat}<br>Long=%{lon}<extra></extra>\", \"lat\": [0.0], \"legendgroup\": \"University 183\", \"lon\": [0.0], \"marker\": {\"color\": \"#ab63fa\", \"size\": [3922.0], \"sizemode\": \"area\", \"sizeref\": 347.5}, \"mode\": \"markers\", \"name\": \"University 183\", \"showlegend\": true, \"subplot\": \"mapbox\", \"type\": \"scattermapbox\"}, {\"hovertemplate\": \"Customers=University 184<br>Invoice Amount=%{marker.size}<br>Lat=%{lat}<br>Long=%{lon}<extra></extra>\", \"lat\": [56.124], \"legendgroup\": \"University 184\", \"lon\": [-164.82645], \"marker\": {\"color\": \"#FFA15A\", \"size\": [4625.0], \"sizemode\": \"area\", \"sizeref\": 347.5}, \"mode\": \"markers\", \"name\": \"University 184\", \"showlegend\": true, \"subplot\": \"mapbox\", \"type\": \"scattermapbox\"}, {\"hovertemplate\": \"Customers=University 185<br>Invoice Amount=%{marker.size}<br>Lat=%{lat}<br>Long=%{lon}<extra></extra>\", \"lat\": [28.062], \"legendgroup\": \"University 185\", \"lon\": [-82.413225], \"marker\": {\"color\": \"#19d3f3\", \"size\": [1000.0], \"sizemode\": \"area\", \"sizeref\": 347.5}, \"mode\": \"markers\", \"name\": \"University 185\", \"showlegend\": true, \"subplot\": \"mapbox\", \"type\": \"scattermapbox\"}, {\"hovertemplate\": \"Customers=University 186<br>Invoice Amount=%{marker.size}<br>Lat=%{lat}<br>Long=%{lon}<extra></extra>\", \"lat\": [29.953701], \"legendgroup\": \"University 186\", \"lon\": [-90.072803], \"marker\": {\"color\": \"#FF6692\", \"size\": [625.0], \"sizemode\": \"area\", \"sizeref\": 347.5}, \"mode\": \"markers\", \"name\": \"University 186\", \"showlegend\": true, \"subplot\": \"mapbox\", \"type\": \"scattermapbox\"}, {\"hovertemplate\": \"Customers=University 187<br>Invoice Amount=%{marker.size}<br>Lat=%{lat}<br>Long=%{lon}<extra></extra>\", \"lat\": [56.124], \"legendgroup\": \"University 187\", \"lon\": [-164.82645], \"marker\": {\"color\": \"#B6E880\", \"size\": [1071.0], \"sizemode\": \"area\", \"sizeref\": 347.5}, \"mode\": \"markers\", \"name\": \"University 187\", \"showlegend\": true, \"subplot\": \"mapbox\", \"type\": \"scattermapbox\"}, {\"hovertemplate\": \"Customers=University 188<br>Invoice Amount=%{marker.size}<br>Lat=%{lat}<br>Long=%{lon}<extra></extra>\", \"lat\": [0.0], \"legendgroup\": \"University 188\", \"lon\": [0.0], \"marker\": {\"color\": \"#FF97FF\", \"size\": [587.0], \"sizemode\": \"area\", \"sizeref\": 347.5}, \"mode\": \"markers\", \"name\": \"University 188\", \"showlegend\": true, \"subplot\": \"mapbox\", \"type\": \"scattermapbox\"}, {\"hovertemplate\": \"Customers=University 189<br>Invoice Amount=%{marker.size}<br>Lat=%{lat}<br>Long=%{lon}<extra></extra>\", \"lat\": [121.61721], \"legendgroup\": \"University 189\", \"lon\": [-227.34433499999994], \"marker\": {\"color\": \"#FECB52\", \"size\": [14500.0], \"sizemode\": \"area\", \"sizeref\": 347.5}, \"mode\": \"markers\", \"name\": \"University 189\", \"showlegend\": true, \"subplot\": \"mapbox\", \"type\": \"scattermapbox\"}, {\"hovertemplate\": \"Customers=University 19<br>Invoice Amount=%{marker.size}<br>Lat=%{lat}<br>Long=%{lon}<extra></extra>\", \"lat\": [195.04046400000001], \"legendgroup\": \"University 19\", \"lon\": [-529.894807], \"marker\": {\"color\": \"#636efa\", \"size\": [3750.0], \"sizemode\": \"area\", \"sizeref\": 347.5}, \"mode\": \"markers\", \"name\": \"University 19\", \"showlegend\": true, \"subplot\": \"mapbox\", \"type\": \"scattermapbox\"}, {\"hovertemplate\": \"Customers=University 190<br>Invoice Amount=%{marker.size}<br>Lat=%{lat}<br>Long=%{lon}<extra></extra>\", \"lat\": [0.0], \"legendgroup\": \"University 190\", \"lon\": [0.0], \"marker\": {\"color\": \"#EF553B\", \"size\": [13920.0], \"sizemode\": \"area\", \"sizeref\": 347.5}, \"mode\": \"markers\", \"name\": \"University 190\", \"showlegend\": true, \"subplot\": \"mapbox\", \"type\": \"scattermapbox\"}, {\"hovertemplate\": \"Customers=University 191<br>Invoice Amount=%{marker.size}<br>Lat=%{lat}<br>Long=%{lon}<extra></extra>\", \"lat\": [67.824946], \"legendgroup\": \"University 191\", \"lon\": [-169.114362], \"marker\": {\"color\": \"#00cc96\", \"size\": [4930.0], \"sizemode\": \"area\", \"sizeref\": 347.5}, \"mode\": \"markers\", \"name\": \"University 191\", \"showlegend\": true, \"subplot\": \"mapbox\", \"type\": \"scattermapbox\"}, {\"hovertemplate\": \"Customers=University 192<br>Invoice Amount=%{marker.size}<br>Lat=%{lat}<br>Long=%{lon}<extra></extra>\", \"lat\": [28.062], \"legendgroup\": \"University 192\", \"lon\": [-82.413225], \"marker\": {\"color\": \"#ab63fa\", \"size\": [2500.0], \"sizemode\": \"area\", \"sizeref\": 347.5}, \"mode\": \"markers\", \"name\": \"University 192\", \"showlegend\": true, \"subplot\": \"mapbox\", \"type\": \"scattermapbox\"}, {\"hovertemplate\": \"Customers=University 193<br>Invoice Amount=%{marker.size}<br>Lat=%{lat}<br>Long=%{lon}<extra></extra>\", \"lat\": [0.0], \"legendgroup\": \"University 193\", \"lon\": [0.0], \"marker\": {\"color\": \"#FFA15A\", \"size\": [250.0], \"sizemode\": \"area\", \"sizeref\": 347.5}, \"mode\": \"markers\", \"name\": \"University 193\", \"showlegend\": true, \"subplot\": \"mapbox\", \"type\": \"scattermapbox\"}, {\"hovertemplate\": \"Customers=University 194<br>Invoice Amount=%{marker.size}<br>Lat=%{lat}<br>Long=%{lon}<extra></extra>\", \"lat\": [0.0], \"legendgroup\": \"University 194\", \"lon\": [0.0], \"marker\": {\"color\": \"#19d3f3\", \"size\": [687.0], \"sizemode\": \"area\", \"sizeref\": 347.5}, \"mode\": \"markers\", \"name\": \"University 194\", \"showlegend\": true, \"subplot\": \"mapbox\", \"type\": \"scattermapbox\"}, {\"hovertemplate\": \"Customers=University 195<br>Invoice Amount=%{marker.size}<br>Lat=%{lat}<br>Long=%{lon}<extra></extra>\", \"lat\": [56.124], \"legendgroup\": \"University 195\", \"lon\": [-164.82645], \"marker\": {\"color\": \"#FF6692\", \"size\": [3135.0], \"sizemode\": \"area\", \"sizeref\": 347.5}, \"mode\": \"markers\", \"name\": \"University 195\", \"showlegend\": true, \"subplot\": \"mapbox\", \"type\": \"scattermapbox\"}, {\"hovertemplate\": \"Customers=University 196<br>Invoice Amount=%{marker.size}<br>Lat=%{lat}<br>Long=%{lon}<extra></extra>\", \"lat\": [107.52311700000001], \"legendgroup\": \"University 196\", \"lon\": [-272.02680599999997], \"marker\": {\"color\": \"#B6E880\", \"size\": [2640.0], \"sizemode\": \"area\", \"sizeref\": 347.5}, \"mode\": \"markers\", \"name\": \"University 196\", \"showlegend\": true, \"subplot\": \"mapbox\", \"type\": \"scattermapbox\"}, {\"hovertemplate\": \"Customers=University 197<br>Invoice Amount=%{marker.size}<br>Lat=%{lat}<br>Long=%{lon}<extra></extra>\", \"lat\": [67.8963], \"legendgroup\": \"University 197\", \"lon\": [-172.94552], \"marker\": {\"color\": \"#FF97FF\", \"size\": [2955.0], \"sizemode\": \"area\", \"sizeref\": 347.5}, \"mode\": \"markers\", \"name\": \"University 197\", \"showlegend\": true, \"subplot\": \"mapbox\", \"type\": \"scattermapbox\"}, {\"hovertemplate\": \"Customers=University 198<br>Invoice Amount=%{marker.size}<br>Lat=%{lat}<br>Long=%{lon}<extra></extra>\", \"lat\": [77.089912], \"legendgroup\": \"University 198\", \"lon\": [-243.492318], \"marker\": {\"color\": \"#FECB52\", \"size\": [1682.0], \"sizemode\": \"area\", \"sizeref\": 347.5}, \"mode\": \"markers\", \"name\": \"University 198\", \"showlegend\": true, \"subplot\": \"mapbox\", \"type\": \"scattermapbox\"}, {\"hovertemplate\": \"Customers=University 199<br>Invoice Amount=%{marker.size}<br>Lat=%{lat}<br>Long=%{lon}<extra></extra>\", \"lat\": [43.94193], \"legendgroup\": \"University 199\", \"lon\": [-319.429014], \"marker\": {\"color\": \"#636efa\", \"size\": [3455.0], \"sizemode\": \"area\", \"sizeref\": 347.5}, \"mode\": \"markers\", \"name\": \"University 199\", \"showlegend\": true, \"subplot\": \"mapbox\", \"type\": \"scattermapbox\"}, {\"hovertemplate\": \"Customers=University 2<br>Invoice Amount=%{marker.size}<br>Lat=%{lat}<br>Long=%{lon}<extra></extra>\", \"lat\": [186.859905], \"legendgroup\": \"University 2\", \"lon\": [-469.895392], \"marker\": {\"color\": \"#EF553B\", \"size\": [12500.0], \"sizemode\": \"area\", \"sizeref\": 347.5}, \"mode\": \"markers\", \"name\": \"University 2\", \"showlegend\": true, \"subplot\": \"mapbox\", \"type\": \"scattermapbox\"}, {\"hovertemplate\": \"Customers=University 20<br>Invoice Amount=%{marker.size}<br>Lat=%{lat}<br>Long=%{lon}<extra></extra>\", \"lat\": [41.331619], \"legendgroup\": \"University 20\", \"lon\": [-72.946852], \"marker\": {\"color\": \"#00cc96\", \"size\": [16800.0], \"sizemode\": \"area\", \"sizeref\": 347.5}, \"mode\": \"markers\", \"name\": \"University 20\", \"showlegend\": true, \"subplot\": \"mapbox\", \"type\": \"scattermapbox\"}, {\"hovertemplate\": \"Customers=University 200<br>Invoice Amount=%{marker.size}<br>Lat=%{lat}<br>Long=%{lon}<extra></extra>\", \"lat\": [71.682078], \"legendgroup\": \"University 200\", \"lon\": [-181.351204], \"marker\": {\"color\": \"#ab63fa\", \"size\": [7575.0], \"sizemode\": \"area\", \"sizeref\": 347.5}, \"mode\": \"markers\", \"name\": \"University 200\", \"showlegend\": true, \"subplot\": \"mapbox\", \"type\": \"scattermapbox\"}, {\"hovertemplate\": \"Customers=University 201<br>Invoice Amount=%{marker.size}<br>Lat=%{lat}<br>Long=%{lon}<extra></extra>\", \"lat\": [39.99788], \"legendgroup\": \"University 201\", \"lon\": [-76.35413], \"marker\": {\"color\": \"#FFA15A\", \"size\": [1666.0], \"sizemode\": \"area\", \"sizeref\": 347.5}, \"mode\": \"markers\", \"name\": \"University 201\", \"showlegend\": true, \"subplot\": \"mapbox\", \"type\": \"scattermapbox\"}, {\"hovertemplate\": \"Customers=University 202<br>Invoice Amount=%{marker.size}<br>Lat=%{lat}<br>Long=%{lon}<extra></extra>\", \"lat\": [56.124], \"legendgroup\": \"University 202\", \"lon\": [-164.82645], \"marker\": {\"color\": \"#19d3f3\", \"size\": [6625.0], \"sizemode\": \"area\", \"sizeref\": 347.5}, \"mode\": \"markers\", \"name\": \"University 202\", \"showlegend\": true, \"subplot\": \"mapbox\", \"type\": \"scattermapbox\"}, {\"hovertemplate\": \"Customers=University 203<br>Invoice Amount=%{marker.size}<br>Lat=%{lat}<br>Long=%{lon}<extra></extra>\", \"lat\": [43.223303], \"legendgroup\": \"University 203\", \"lon\": [-77.917335], \"marker\": {\"color\": \"#FF6692\", \"size\": [750.0], \"sizemode\": \"area\", \"sizeref\": 347.5}, \"mode\": \"markers\", \"name\": \"University 203\", \"showlegend\": true, \"subplot\": \"mapbox\", \"type\": \"scattermapbox\"}, {\"hovertemplate\": \"Customers=University 204<br>Invoice Amount=%{marker.size}<br>Lat=%{lat}<br>Long=%{lon}<extra></extra>\", \"lat\": [56.124], \"legendgroup\": \"University 204\", \"lon\": [-164.82645], \"marker\": {\"color\": \"#B6E880\", \"size\": [3125.0], \"sizemode\": \"area\", \"sizeref\": 347.5}, \"mode\": \"markers\", \"name\": \"University 204\", \"showlegend\": true, \"subplot\": \"mapbox\", \"type\": \"scattermapbox\"}, {\"hovertemplate\": \"Customers=University 205<br>Invoice Amount=%{marker.size}<br>Lat=%{lat}<br>Long=%{lon}<extra></extra>\", \"lat\": [0.0], \"legendgroup\": \"University 205\", \"lon\": [0.0], \"marker\": {\"color\": \"#FF97FF\", \"size\": [2625.0], \"sizemode\": \"area\", \"sizeref\": 347.5}, \"mode\": \"markers\", \"name\": \"University 205\", \"showlegend\": true, \"subplot\": \"mapbox\", \"type\": \"scattermapbox\"}, {\"hovertemplate\": \"Customers=University 206<br>Invoice Amount=%{marker.size}<br>Lat=%{lat}<br>Long=%{lon}<extra></extra>\", \"lat\": [56.124], \"legendgroup\": \"University 206\", \"lon\": [-164.82645], \"marker\": {\"color\": \"#FECB52\", \"size\": [3000.0], \"sizemode\": \"area\", \"sizeref\": 347.5}, \"mode\": \"markers\", \"name\": \"University 206\", \"showlegend\": true, \"subplot\": \"mapbox\", \"type\": \"scattermapbox\"}, {\"hovertemplate\": \"Customers=University 207<br>Invoice Amount=%{marker.size}<br>Lat=%{lat}<br>Long=%{lon}<extra></extra>\", \"lat\": [83.77062], \"legendgroup\": \"University 207\", \"lon\": [-175.24426], \"marker\": {\"color\": \"#636efa\", \"size\": [1875.0], \"sizemode\": \"area\", \"sizeref\": 347.5}, \"mode\": \"markers\", \"name\": \"University 207\", \"showlegend\": true, \"subplot\": \"mapbox\", \"type\": \"scattermapbox\"}, {\"hovertemplate\": \"Customers=University 208<br>Invoice Amount=%{marker.size}<br>Lat=%{lat}<br>Long=%{lon}<extra></extra>\", \"lat\": [56.124], \"legendgroup\": \"University 208\", \"lon\": [-164.82645], \"marker\": {\"color\": \"#EF553B\", \"size\": [4125.0], \"sizemode\": \"area\", \"sizeref\": 347.5}, \"mode\": \"markers\", \"name\": \"University 208\", \"showlegend\": true, \"subplot\": \"mapbox\", \"type\": \"scattermapbox\"}, {\"hovertemplate\": \"Customers=University 209<br>Invoice Amount=%{marker.size}<br>Lat=%{lat}<br>Long=%{lon}<extra></extra>\", \"lat\": [39.537043], \"legendgroup\": \"University 209\", \"lon\": [-77.76388299999998], \"marker\": {\"color\": \"#00cc96\", \"size\": [1900.0], \"sizemode\": \"area\", \"sizeref\": 347.5}, \"mode\": \"markers\", \"name\": \"University 209\", \"showlegend\": true, \"subplot\": \"mapbox\", \"type\": \"scattermapbox\"}, {\"hovertemplate\": \"Customers=University 21<br>Invoice Amount=%{marker.size}<br>Lat=%{lat}<br>Long=%{lon}<extra></extra>\", \"lat\": [39.709696], \"legendgroup\": \"University 21\", \"lon\": [-75.120704], \"marker\": {\"color\": \"#ab63fa\", \"size\": [750.0], \"sizemode\": \"area\", \"sizeref\": 347.5}, \"mode\": \"markers\", \"name\": \"University 21\", \"showlegend\": true, \"subplot\": \"mapbox\", \"type\": \"scattermapbox\"}, {\"hovertemplate\": \"Customers=University 210<br>Invoice Amount=%{marker.size}<br>Lat=%{lat}<br>Long=%{lon}<extra></extra>\", \"lat\": [28.062], \"legendgroup\": \"University 210\", \"lon\": [-82.413225], \"marker\": {\"color\": \"#FFA15A\", \"size\": [750.0], \"sizemode\": \"area\", \"sizeref\": 347.5}, \"mode\": \"markers\", \"name\": \"University 210\", \"showlegend\": true, \"subplot\": \"mapbox\", \"type\": \"scattermapbox\"}, {\"hovertemplate\": \"Customers=University 211<br>Invoice Amount=%{marker.size}<br>Lat=%{lat}<br>Long=%{lon}<extra></extra>\", \"lat\": [0.0], \"legendgroup\": \"University 211\", \"lon\": [0.0], \"marker\": {\"color\": \"#19d3f3\", \"size\": [4200.0], \"sizemode\": \"area\", \"sizeref\": 347.5}, \"mode\": \"markers\", \"name\": \"University 211\", \"showlegend\": true, \"subplot\": \"mapbox\", \"type\": \"scattermapbox\"}, {\"hovertemplate\": \"Customers=University 212<br>Invoice Amount=%{marker.size}<br>Lat=%{lat}<br>Long=%{lon}<extra></extra>\", \"lat\": [0.0], \"legendgroup\": \"University 212\", \"lon\": [0.0], \"marker\": {\"color\": \"#FF6692\", \"size\": [4600.0], \"sizemode\": \"area\", \"sizeref\": 347.5}, \"mode\": \"markers\", \"name\": \"University 212\", \"showlegend\": true, \"subplot\": \"mapbox\", \"type\": \"scattermapbox\"}, {\"hovertemplate\": \"Customers=University 213<br>Invoice Amount=%{marker.size}<br>Lat=%{lat}<br>Long=%{lon}<extra></extra>\", \"lat\": [84.186], \"legendgroup\": \"University 213\", \"lon\": [-247.23967499999998], \"marker\": {\"color\": \"#B6E880\", \"size\": [18625.0], \"sizemode\": \"area\", \"sizeref\": 347.5}, \"mode\": \"markers\", \"name\": \"University 213\", \"showlegend\": true, \"subplot\": \"mapbox\", \"type\": \"scattermapbox\"}, {\"hovertemplate\": \"Customers=University 214<br>Invoice Amount=%{marker.size}<br>Lat=%{lat}<br>Long=%{lon}<extra></extra>\", \"lat\": [0.0], \"legendgroup\": \"University 214\", \"lon\": [0.0], \"marker\": {\"color\": \"#FF97FF\", \"size\": [3810.0], \"sizemode\": \"area\", \"sizeref\": 347.5}, \"mode\": \"markers\", \"name\": \"University 214\", \"showlegend\": true, \"subplot\": \"mapbox\", \"type\": \"scattermapbox\"}, {\"hovertemplate\": \"Customers=University 215<br>Invoice Amount=%{marker.size}<br>Lat=%{lat}<br>Long=%{lon}<extra></extra>\", \"lat\": [28.062], \"legendgroup\": \"University 215\", \"lon\": [-82.413225], \"marker\": {\"color\": \"#FECB52\", \"size\": [625.0], \"sizemode\": \"area\", \"sizeref\": 347.5}, \"mode\": \"markers\", \"name\": \"University 215\", \"showlegend\": true, \"subplot\": \"mapbox\", \"type\": \"scattermapbox\"}, {\"hovertemplate\": \"Customers=University 216<br>Invoice Amount=%{marker.size}<br>Lat=%{lat}<br>Long=%{lon}<extra></extra>\", \"lat\": [84.186], \"legendgroup\": \"University 216\", \"lon\": [-247.23967499999998], \"marker\": {\"color\": \"#636efa\", \"size\": [9617.8], \"sizemode\": \"area\", \"sizeref\": 347.5}, \"mode\": \"markers\", \"name\": \"University 216\", \"showlegend\": true, \"subplot\": \"mapbox\", \"type\": \"scattermapbox\"}, {\"hovertemplate\": \"Customers=University 217<br>Invoice Amount=%{marker.size}<br>Lat=%{lat}<br>Long=%{lon}<extra></extra>\", \"lat\": [163.34956], \"legendgroup\": \"University 217\", \"lon\": [-295.6937200000001], \"marker\": {\"color\": \"#EF553B\", \"size\": [3045.0], \"sizemode\": \"area\", \"sizeref\": 347.5}, \"mode\": \"markers\", \"name\": \"University 217\", \"showlegend\": true, \"subplot\": \"mapbox\", \"type\": \"scattermapbox\"}, {\"hovertemplate\": \"Customers=University 218<br>Invoice Amount=%{marker.size}<br>Lat=%{lat}<br>Long=%{lon}<extra></extra>\", \"lat\": [89.021328], \"legendgroup\": \"University 218\", \"lon\": [-179.276508], \"marker\": {\"color\": \"#00cc96\", \"size\": [4750.0], \"sizemode\": \"area\", \"sizeref\": 347.5}, \"mode\": \"markers\", \"name\": \"University 218\", \"showlegend\": true, \"subplot\": \"mapbox\", \"type\": \"scattermapbox\"}, {\"hovertemplate\": \"Customers=University 219<br>Invoice Amount=%{marker.size}<br>Lat=%{lat}<br>Long=%{lon}<extra></extra>\", \"lat\": [42.074129], \"legendgroup\": \"University 219\", \"lon\": [-80.072888], \"marker\": {\"color\": \"#ab63fa\", \"size\": [150.0], \"sizemode\": \"area\", \"sizeref\": 347.5}, \"mode\": \"markers\", \"name\": \"University 219\", \"showlegend\": true, \"subplot\": \"mapbox\", \"type\": \"scattermapbox\"}, {\"hovertemplate\": \"Customers=University 22<br>Invoice Amount=%{marker.size}<br>Lat=%{lat}<br>Long=%{lon}<extra></extra>\", \"lat\": [41.5028], \"legendgroup\": \"University 22\", \"lon\": [-87.68429300000003], \"marker\": {\"color\": \"#FFA15A\", \"size\": [3500.0], \"sizemode\": \"area\", \"sizeref\": 347.5}, \"mode\": \"markers\", \"name\": \"University 22\", \"showlegend\": true, \"subplot\": \"mapbox\", \"type\": \"scattermapbox\"}, {\"hovertemplate\": \"Customers=University 220<br>Invoice Amount=%{marker.size}<br>Lat=%{lat}<br>Long=%{lon}<extra></extra>\", \"lat\": [37.57557], \"legendgroup\": \"University 220\", \"lon\": [-77.53823], \"marker\": {\"color\": \"#19d3f3\", \"size\": [1700.0], \"sizemode\": \"area\", \"sizeref\": 347.5}, \"mode\": \"markers\", \"name\": \"University 220\", \"showlegend\": true, \"subplot\": \"mapbox\", \"type\": \"scattermapbox\"}, {\"hovertemplate\": \"Customers=University 221<br>Invoice Amount=%{marker.size}<br>Lat=%{lat}<br>Long=%{lon}<extra></extra>\", \"lat\": [32.941519], \"legendgroup\": \"University 221\", \"lon\": [-89.192566], \"marker\": {\"color\": \"#FF6692\", \"size\": [450.0], \"sizemode\": \"area\", \"sizeref\": 347.5}, \"mode\": \"markers\", \"name\": \"University 221\", \"showlegend\": true, \"subplot\": \"mapbox\", \"type\": \"scattermapbox\"}, {\"hovertemplate\": \"Customers=University 222<br>Invoice Amount=%{marker.size}<br>Lat=%{lat}<br>Long=%{lon}<extra></extra>\", \"lat\": [0.0], \"legendgroup\": \"University 222\", \"lon\": [0.0], \"marker\": {\"color\": \"#B6E880\", \"size\": [5000.0], \"sizemode\": \"area\", \"sizeref\": 347.5}, \"mode\": \"markers\", \"name\": \"University 222\", \"showlegend\": true, \"subplot\": \"mapbox\", \"type\": \"scattermapbox\"}, {\"hovertemplate\": \"Customers=University 223<br>Invoice Amount=%{marker.size}<br>Lat=%{lat}<br>Long=%{lon}<extra></extra>\", \"lat\": [82.294168], \"legendgroup\": \"University 223\", \"lon\": [-193.046022], \"marker\": {\"color\": \"#FF97FF\", \"size\": [1750.0], \"sizemode\": \"area\", \"sizeref\": 347.5}, \"mode\": \"markers\", \"name\": \"University 223\", \"showlegend\": true, \"subplot\": \"mapbox\", \"type\": \"scattermapbox\"}, {\"hovertemplate\": \"Customers=University 224<br>Invoice Amount=%{marker.size}<br>Lat=%{lat}<br>Long=%{lon}<extra></extra>\", \"lat\": [75.450204], \"legendgroup\": \"University 224\", \"lon\": [-244.826904], \"marker\": {\"color\": \"#FECB52\", \"size\": [3600.0], \"sizemode\": \"area\", \"sizeref\": 347.5}, \"mode\": \"markers\", \"name\": \"University 224\", \"showlegend\": true, \"subplot\": \"mapbox\", \"type\": \"scattermapbox\"}, {\"hovertemplate\": \"Customers=University 225<br>Invoice Amount=%{marker.size}<br>Lat=%{lat}<br>Long=%{lon}<extra></extra>\", \"lat\": [35.180557], \"legendgroup\": \"University 225\", \"lon\": [-80.870862], \"marker\": {\"color\": \"#636efa\", \"size\": [5250.0], \"sizemode\": \"area\", \"sizeref\": 347.5}, \"mode\": \"markers\", \"name\": \"University 225\", \"showlegend\": true, \"subplot\": \"mapbox\", \"type\": \"scattermapbox\"}, {\"hovertemplate\": \"Customers=University 226<br>Invoice Amount=%{marker.size}<br>Lat=%{lat}<br>Long=%{lon}<extra></extra>\", \"lat\": [65.20484], \"legendgroup\": \"University 226\", \"lon\": [-170.974682], \"marker\": {\"color\": \"#EF553B\", \"size\": [2827.0], \"sizemode\": \"area\", \"sizeref\": 347.5}, \"mode\": \"markers\", \"name\": \"University 226\", \"showlegend\": true, \"subplot\": \"mapbox\", \"type\": \"scattermapbox\"}, {\"hovertemplate\": \"Customers=University 227<br>Invoice Amount=%{marker.size}<br>Lat=%{lat}<br>Long=%{lon}<extra></extra>\", \"lat\": [71.682078], \"legendgroup\": \"University 227\", \"lon\": [-181.351204], \"marker\": {\"color\": \"#00cc96\", \"size\": [4000.0], \"sizemode\": \"area\", \"sizeref\": 347.5}, \"mode\": \"markers\", \"name\": \"University 227\", \"showlegend\": true, \"subplot\": \"mapbox\", \"type\": \"scattermapbox\"}, {\"hovertemplate\": \"Customers=University 228<br>Invoice Amount=%{marker.size}<br>Lat=%{lat}<br>Long=%{lon}<extra></extra>\", \"lat\": [32.381605], \"legendgroup\": \"University 228\", \"lon\": [-88.663489], \"marker\": {\"color\": \"#ab63fa\", \"size\": [500.0], \"sizemode\": \"area\", \"sizeref\": 347.5}, \"mode\": \"markers\", \"name\": \"University 228\", \"showlegend\": true, \"subplot\": \"mapbox\", \"type\": \"scattermapbox\"}, {\"hovertemplate\": \"Customers=University 229<br>Invoice Amount=%{marker.size}<br>Lat=%{lat}<br>Long=%{lon}<extra></extra>\", \"lat\": [0.0], \"legendgroup\": \"University 229\", \"lon\": [0.0], \"marker\": {\"color\": \"#FFA15A\", \"size\": [625.0], \"sizemode\": \"area\", \"sizeref\": 347.5}, \"mode\": \"markers\", \"name\": \"University 229\", \"showlegend\": true, \"subplot\": \"mapbox\", \"type\": \"scattermapbox\"}, {\"hovertemplate\": \"Customers=University 23<br>Invoice Amount=%{marker.size}<br>Lat=%{lat}<br>Long=%{lon}<extra></extra>\", \"lat\": [39.088975], \"legendgroup\": \"University 23\", \"lon\": [-94.58516], \"marker\": {\"color\": \"#19d3f3\", \"size\": [750.0], \"sizemode\": \"area\", \"sizeref\": 347.5}, \"mode\": \"markers\", \"name\": \"University 23\", \"showlegend\": true, \"subplot\": \"mapbox\", \"type\": \"scattermapbox\"}, {\"hovertemplate\": \"Customers=University 230<br>Invoice Amount=%{marker.size}<br>Lat=%{lat}<br>Long=%{lon}<extra></extra>\", \"lat\": [0.0], \"legendgroup\": \"University 230\", \"lon\": [0.0], \"marker\": {\"color\": \"#FF6692\", \"size\": [2500.0], \"sizemode\": \"area\", \"sizeref\": 347.5}, \"mode\": \"markers\", \"name\": \"University 230\", \"showlegend\": true, \"subplot\": \"mapbox\", \"type\": \"scattermapbox\"}, {\"hovertemplate\": \"Customers=University 231<br>Invoice Amount=%{marker.size}<br>Lat=%{lat}<br>Long=%{lon}<extra></extra>\", \"lat\": [29.543813], \"legendgroup\": \"University 231\", \"lon\": [-98.295356], \"marker\": {\"color\": \"#B6E880\", \"size\": [21500.0], \"sizemode\": \"area\", \"sizeref\": 347.5}, \"mode\": \"markers\", \"name\": \"University 231\", \"showlegend\": true, \"subplot\": \"mapbox\", \"type\": \"scattermapbox\"}, {\"hovertemplate\": \"Customers=University 232<br>Invoice Amount=%{marker.size}<br>Lat=%{lat}<br>Long=%{lon}<extra></extra>\", \"lat\": [84.186], \"legendgroup\": \"University 232\", \"lon\": [-247.23967499999998], \"marker\": {\"color\": \"#FF97FF\", \"size\": [3100.0], \"sizemode\": \"area\", \"sizeref\": 347.5}, \"mode\": \"markers\", \"name\": \"University 232\", \"showlegend\": true, \"subplot\": \"mapbox\", \"type\": \"scattermapbox\"}, {\"hovertemplate\": \"Customers=University 233<br>Invoice Amount=%{marker.size}<br>Lat=%{lat}<br>Long=%{lon}<extra></extra>\", \"lat\": [0.0], \"legendgroup\": \"University 233\", \"lon\": [0.0], \"marker\": {\"color\": \"#FECB52\", \"size\": [10500.0], \"sizemode\": \"area\", \"sizeref\": 347.5}, \"mode\": \"markers\", \"name\": \"University 233\", \"showlegend\": true, \"subplot\": \"mapbox\", \"type\": \"scattermapbox\"}, {\"hovertemplate\": \"Customers=University 234<br>Invoice Amount=%{marker.size}<br>Lat=%{lat}<br>Long=%{lon}<extra></extra>\", \"lat\": [38.544956], \"legendgroup\": \"University 234\", \"lon\": [-121.746159], \"marker\": {\"color\": \"#636efa\", \"size\": [2882.0], \"sizemode\": \"area\", \"sizeref\": 347.5}, \"mode\": \"markers\", \"name\": \"University 234\", \"showlegend\": true, \"subplot\": \"mapbox\", \"type\": \"scattermapbox\"}, {\"hovertemplate\": \"Customers=University 235<br>Invoice Amount=%{marker.size}<br>Lat=%{lat}<br>Long=%{lon}<extra></extra>\", \"lat\": [41.650261], \"legendgroup\": \"University 235\", \"lon\": [-74.700396], \"marker\": {\"color\": \"#EF553B\", \"size\": [1000.0], \"sizemode\": \"area\", \"sizeref\": 347.5}, \"mode\": \"markers\", \"name\": \"University 235\", \"showlegend\": true, \"subplot\": \"mapbox\", \"type\": \"scattermapbox\"}, {\"hovertemplate\": \"Customers=University 236<br>Invoice Amount=%{marker.size}<br>Lat=%{lat}<br>Long=%{lon}<extra></extra>\", \"lat\": [28.062], \"legendgroup\": \"University 236\", \"lon\": [-82.413225], \"marker\": {\"color\": \"#00cc96\", \"size\": [1900.0], \"sizemode\": \"area\", \"sizeref\": 347.5}, \"mode\": \"markers\", \"name\": \"University 236\", \"showlegend\": true, \"subplot\": \"mapbox\", \"type\": \"scattermapbox\"}, {\"hovertemplate\": \"Customers=University 237<br>Invoice Amount=%{marker.size}<br>Lat=%{lat}<br>Long=%{lon}<extra></extra>\", \"lat\": [61.18117], \"legendgroup\": \"University 237\", \"lon\": [-182.34057], \"marker\": {\"color\": \"#ab63fa\", \"size\": [7000.0], \"sizemode\": \"area\", \"sizeref\": 347.5}, \"mode\": \"markers\", \"name\": \"University 237\", \"showlegend\": true, \"subplot\": \"mapbox\", \"type\": \"scattermapbox\"}, {\"hovertemplate\": \"Customers=University 238<br>Invoice Amount=%{marker.size}<br>Lat=%{lat}<br>Long=%{lon}<extra></extra>\", \"lat\": [0.0], \"legendgroup\": \"University 238\", \"lon\": [0.0], \"marker\": {\"color\": \"#FFA15A\", \"size\": [4800.0], \"sizemode\": \"area\", \"sizeref\": 347.5}, \"mode\": \"markers\", \"name\": \"University 238\", \"showlegend\": true, \"subplot\": \"mapbox\", \"type\": \"scattermapbox\"}, {\"hovertemplate\": \"Customers=University 239<br>Invoice Amount=%{marker.size}<br>Lat=%{lat}<br>Long=%{lon}<extra></extra>\", \"lat\": [28.062], \"legendgroup\": \"University 239\", \"lon\": [-82.413225], \"marker\": {\"color\": \"#19d3f3\", \"size\": [4500.0], \"sizemode\": \"area\", \"sizeref\": 347.5}, \"mode\": \"markers\", \"name\": \"University 239\", \"showlegend\": true, \"subplot\": \"mapbox\", \"type\": \"scattermapbox\"}, {\"hovertemplate\": \"Customers=University 24<br>Invoice Amount=%{marker.size}<br>Lat=%{lat}<br>Long=%{lon}<extra></extra>\", \"lat\": [38.188827], \"legendgroup\": \"University 24\", \"lon\": [-76.42549], \"marker\": {\"color\": \"#FF6692\", \"size\": [750.0], \"sizemode\": \"area\", \"sizeref\": 347.5}, \"mode\": \"markers\", \"name\": \"University 24\", \"showlegend\": true, \"subplot\": \"mapbox\", \"type\": \"scattermapbox\"}, {\"hovertemplate\": \"Customers=University 240<br>Invoice Amount=%{marker.size}<br>Lat=%{lat}<br>Long=%{lon}<extra></extra>\", \"lat\": [90.816346], \"legendgroup\": \"University 240\", \"lon\": [-245.844646], \"marker\": {\"color\": \"#B6E880\", \"size\": [4658.0], \"sizemode\": \"area\", \"sizeref\": 347.5}, \"mode\": \"markers\", \"name\": \"University 240\", \"showlegend\": true, \"subplot\": \"mapbox\", \"type\": \"scattermapbox\"}, {\"hovertemplate\": \"Customers=University 241<br>Invoice Amount=%{marker.size}<br>Lat=%{lat}<br>Long=%{lon}<extra></extra>\", \"lat\": [0.0], \"legendgroup\": \"University 241\", \"lon\": [0.0], \"marker\": {\"color\": \"#FF97FF\", \"size\": [5252.0], \"sizemode\": \"area\", \"sizeref\": 347.5}, \"mode\": \"markers\", \"name\": \"University 241\", \"showlegend\": true, \"subplot\": \"mapbox\", \"type\": \"scattermapbox\"}, {\"hovertemplate\": \"Customers=University 242<br>Invoice Amount=%{marker.size}<br>Lat=%{lat}<br>Long=%{lon}<extra></extra>\", \"lat\": [34.365411], \"legendgroup\": \"University 242\", \"lon\": [-89.53718], \"marker\": {\"color\": \"#FECB52\", \"size\": [2000.0], \"sizemode\": \"area\", \"sizeref\": 347.5}, \"mode\": \"markers\", \"name\": \"University 242\", \"showlegend\": true, \"subplot\": \"mapbox\", \"type\": \"scattermapbox\"}, {\"hovertemplate\": \"Customers=University 243<br>Invoice Amount=%{marker.size}<br>Lat=%{lat}<br>Long=%{lon}<extra></extra>\", \"lat\": [0.0], \"legendgroup\": \"University 243\", \"lon\": [0.0], \"marker\": {\"color\": \"#636efa\", \"size\": [1800.0], \"sizemode\": \"area\", \"sizeref\": 347.5}, \"mode\": \"markers\", \"name\": \"University 243\", \"showlegend\": true, \"subplot\": \"mapbox\", \"type\": \"scattermapbox\"}, {\"hovertemplate\": \"Customers=University 244<br>Invoice Amount=%{marker.size}<br>Lat=%{lat}<br>Long=%{lon}<extra></extra>\", \"lat\": [0.0], \"legendgroup\": \"University 244\", \"lon\": [0.0], \"marker\": {\"color\": \"#EF553B\", \"size\": [3000.0], \"sizemode\": \"area\", \"sizeref\": 347.5}, \"mode\": \"markers\", \"name\": \"University 244\", \"showlegend\": true, \"subplot\": \"mapbox\", \"type\": \"scattermapbox\"}, {\"hovertemplate\": \"Customers=University 245<br>Invoice Amount=%{marker.size}<br>Lat=%{lat}<br>Long=%{lon}<extra></extra>\", \"lat\": [45.408173], \"legendgroup\": \"University 245\", \"lon\": [-122.922323], \"marker\": {\"color\": \"#00cc96\", \"size\": [5500.0], \"sizemode\": \"area\", \"sizeref\": 347.5}, \"mode\": \"markers\", \"name\": \"University 245\", \"showlegend\": true, \"subplot\": \"mapbox\", \"type\": \"scattermapbox\"}, {\"hovertemplate\": \"Customers=University 246<br>Invoice Amount=%{marker.size}<br>Lat=%{lat}<br>Long=%{lon}<extra></extra>\", \"lat\": [0.0], \"legendgroup\": \"University 246\", \"lon\": [0.0], \"marker\": {\"color\": \"#ab63fa\", \"size\": [625.0], \"sizemode\": \"area\", \"sizeref\": 347.5}, \"mode\": \"markers\", \"name\": \"University 246\", \"showlegend\": true, \"subplot\": \"mapbox\", \"type\": \"scattermapbox\"}, {\"hovertemplate\": \"Customers=University 247<br>Invoice Amount=%{marker.size}<br>Lat=%{lat}<br>Long=%{lon}<extra></extra>\", \"lat\": [28.062], \"legendgroup\": \"University 247\", \"lon\": [-82.413225], \"marker\": {\"color\": \"#FFA15A\", \"size\": [1000.0], \"sizemode\": \"area\", \"sizeref\": 347.5}, \"mode\": \"markers\", \"name\": \"University 247\", \"showlegend\": true, \"subplot\": \"mapbox\", \"type\": \"scattermapbox\"}, {\"hovertemplate\": \"Customers=University 248<br>Invoice Amount=%{marker.size}<br>Lat=%{lat}<br>Long=%{lon}<extra></extra>\", \"lat\": [28.062], \"legendgroup\": \"University 248\", \"lon\": [-82.413225], \"marker\": {\"color\": \"#19d3f3\", \"size\": [160.0], \"sizemode\": \"area\", \"sizeref\": 347.5}, \"mode\": \"markers\", \"name\": \"University 248\", \"showlegend\": true, \"subplot\": \"mapbox\", \"type\": \"scattermapbox\"}, {\"hovertemplate\": \"Customers=University 249<br>Invoice Amount=%{marker.size}<br>Lat=%{lat}<br>Long=%{lon}<extra></extra>\", \"lat\": [34.073692], \"legendgroup\": \"University 249\", \"lon\": [-117.76523], \"marker\": {\"color\": \"#FF6692\", \"size\": [1029.0], \"sizemode\": \"area\", \"sizeref\": 347.5}, \"mode\": \"markers\", \"name\": \"University 249\", \"showlegend\": true, \"subplot\": \"mapbox\", \"type\": \"scattermapbox\"}, {\"hovertemplate\": \"Customers=University 25<br>Invoice Amount=%{marker.size}<br>Lat=%{lat}<br>Long=%{lon}<extra></extra>\", \"lat\": [95.936424], \"legendgroup\": \"University 25\", \"lon\": [-243.48893400000009], \"marker\": {\"color\": \"#B6E880\", \"size\": [7350.0], \"sizemode\": \"area\", \"sizeref\": 347.5}, \"mode\": \"markers\", \"name\": \"University 25\", \"showlegend\": true, \"subplot\": \"mapbox\", \"type\": \"scattermapbox\"}, {\"hovertemplate\": \"Customers=University 250<br>Invoice Amount=%{marker.size}<br>Lat=%{lat}<br>Long=%{lon}<extra></extra>\", \"lat\": [28.062], \"legendgroup\": \"University 250\", \"lon\": [-82.413225], \"marker\": {\"color\": \"#FF97FF\", \"size\": [4500.0], \"sizemode\": \"area\", \"sizeref\": 347.5}, \"mode\": \"markers\", \"name\": \"University 250\", \"showlegend\": true, \"subplot\": \"mapbox\", \"type\": \"scattermapbox\"}, {\"hovertemplate\": \"Customers=University 251<br>Invoice Amount=%{marker.size}<br>Lat=%{lat}<br>Long=%{lon}<extra></extra>\", \"lat\": [36.03233400000001], \"legendgroup\": \"University 251\", \"lon\": [-83.884804], \"marker\": {\"color\": \"#FECB52\", \"size\": [3500.0], \"sizemode\": \"area\", \"sizeref\": 347.5}, \"mode\": \"markers\", \"name\": \"University 251\", \"showlegend\": true, \"subplot\": \"mapbox\", \"type\": \"scattermapbox\"}, {\"hovertemplate\": \"Customers=University 252<br>Invoice Amount=%{marker.size}<br>Lat=%{lat}<br>Long=%{lon}<extra></extra>\", \"lat\": [56.124], \"legendgroup\": \"University 252\", \"lon\": [-164.82645], \"marker\": {\"color\": \"#636efa\", \"size\": [3200.0], \"sizemode\": \"area\", \"sizeref\": 347.5}, \"mode\": \"markers\", \"name\": \"University 252\", \"showlegend\": true, \"subplot\": \"mapbox\", \"type\": \"scattermapbox\"}, {\"hovertemplate\": \"Customers=University 253<br>Invoice Amount=%{marker.size}<br>Lat=%{lat}<br>Long=%{lon}<extra></extra>\", \"lat\": [28.062], \"legendgroup\": \"University 253\", \"lon\": [-82.413225], \"marker\": {\"color\": \"#EF553B\", \"size\": [540.33], \"sizemode\": \"area\", \"sizeref\": 347.5}, \"mode\": \"markers\", \"name\": \"University 253\", \"showlegend\": true, \"subplot\": \"mapbox\", \"type\": \"scattermapbox\"}, {\"hovertemplate\": \"Customers=University 254<br>Invoice Amount=%{marker.size}<br>Lat=%{lat}<br>Long=%{lon}<extra></extra>\", \"lat\": [42.96986500000001], \"legendgroup\": \"University 254\", \"lon\": [-87.87373199999998], \"marker\": {\"color\": \"#00cc96\", \"size\": [2500.0], \"sizemode\": \"area\", \"sizeref\": 347.5}, \"mode\": \"markers\", \"name\": \"University 254\", \"showlegend\": true, \"subplot\": \"mapbox\", \"type\": \"scattermapbox\"}, {\"hovertemplate\": \"Customers=University 255<br>Invoice Amount=%{marker.size}<br>Lat=%{lat}<br>Long=%{lon}<extra></extra>\", \"lat\": [41.477816], \"legendgroup\": \"University 255\", \"lon\": [-87.683188], \"marker\": {\"color\": \"#ab63fa\", \"size\": [6500.0], \"sizemode\": \"area\", \"sizeref\": 347.5}, \"mode\": \"markers\", \"name\": \"University 255\", \"showlegend\": true, \"subplot\": \"mapbox\", \"type\": \"scattermapbox\"}, {\"hovertemplate\": \"Customers=University 256<br>Invoice Amount=%{marker.size}<br>Lat=%{lat}<br>Long=%{lon}<extra></extra>\", \"lat\": [28.062], \"legendgroup\": \"University 256\", \"lon\": [-82.413225], \"marker\": {\"color\": \"#FFA15A\", \"size\": [2650.0], \"sizemode\": \"area\", \"sizeref\": 347.5}, \"mode\": \"markers\", \"name\": \"University 256\", \"showlegend\": true, \"subplot\": \"mapbox\", \"type\": \"scattermapbox\"}, {\"hovertemplate\": \"Customers=University 257<br>Invoice Amount=%{marker.size}<br>Lat=%{lat}<br>Long=%{lon}<extra></extra>\", \"lat\": [41.450991], \"legendgroup\": \"University 257\", \"lon\": [-82.166534], \"marker\": {\"color\": \"#19d3f3\", \"size\": [525.0], \"sizemode\": \"area\", \"sizeref\": 347.5}, \"mode\": \"markers\", \"name\": \"University 257\", \"showlegend\": true, \"subplot\": \"mapbox\", \"type\": \"scattermapbox\"}, {\"hovertemplate\": \"Customers=University 258<br>Invoice Amount=%{marker.size}<br>Lat=%{lat}<br>Long=%{lon}<extra></extra>\", \"lat\": [97.144815], \"legendgroup\": \"University 258\", \"lon\": [-265.99046699999997], \"marker\": {\"color\": \"#FF6692\", \"size\": [2100.0], \"sizemode\": \"area\", \"sizeref\": 347.5}, \"mode\": \"markers\", \"name\": \"University 258\", \"showlegend\": true, \"subplot\": \"mapbox\", \"type\": \"scattermapbox\"}, {\"hovertemplate\": \"Customers=University 259<br>Invoice Amount=%{marker.size}<br>Lat=%{lat}<br>Long=%{lon}<extra></extra>\", \"lat\": [39.724961], \"legendgroup\": \"University 259\", \"lon\": [-89.615971], \"marker\": {\"color\": \"#B6E880\", \"size\": [2250.0], \"sizemode\": \"area\", \"sizeref\": 347.5}, \"mode\": \"markers\", \"name\": \"University 259\", \"showlegend\": true, \"subplot\": \"mapbox\", \"type\": \"scattermapbox\"}, {\"hovertemplate\": \"Customers=University 26<br>Invoice Amount=%{marker.size}<br>Lat=%{lat}<br>Long=%{lon}<extra></extra>\", \"lat\": [42.41484000000001], \"legendgroup\": \"University 26\", \"lon\": [-83.137876], \"marker\": {\"color\": \"#FF97FF\", \"size\": [750.0], \"sizemode\": \"area\", \"sizeref\": 347.5}, \"mode\": \"markers\", \"name\": \"University 26\", \"showlegend\": true, \"subplot\": \"mapbox\", \"type\": \"scattermapbox\"}, {\"hovertemplate\": \"Customers=University 260<br>Invoice Amount=%{marker.size}<br>Lat=%{lat}<br>Long=%{lon}<extra></extra>\", \"lat\": [80.573828], \"legendgroup\": \"University 260\", \"lon\": [-190.156626], \"marker\": {\"color\": \"#FECB52\", \"size\": [1900.0], \"sizemode\": \"area\", \"sizeref\": 347.5}, \"mode\": \"markers\", \"name\": \"University 260\", \"showlegend\": true, \"subplot\": \"mapbox\", \"type\": \"scattermapbox\"}, {\"hovertemplate\": \"Customers=University 261<br>Invoice Amount=%{marker.size}<br>Lat=%{lat}<br>Long=%{lon}<extra></extra>\", \"lat\": [28.062], \"legendgroup\": \"University 261\", \"lon\": [-82.413225], \"marker\": {\"color\": \"#636efa\", \"size\": [1920.0], \"sizemode\": \"area\", \"sizeref\": 347.5}, \"mode\": \"markers\", \"name\": \"University 261\", \"showlegend\": true, \"subplot\": \"mapbox\", \"type\": \"scattermapbox\"}, {\"hovertemplate\": \"Customers=University 262<br>Invoice Amount=%{marker.size}<br>Lat=%{lat}<br>Long=%{lon}<extra></extra>\", \"lat\": [56.124], \"legendgroup\": \"University 262\", \"lon\": [-164.82645], \"marker\": {\"color\": \"#EF553B\", \"size\": [4000.0], \"sizemode\": \"area\", \"sizeref\": 347.5}, \"mode\": \"markers\", \"name\": \"University 262\", \"showlegend\": true, \"subplot\": \"mapbox\", \"type\": \"scattermapbox\"}, {\"hovertemplate\": \"Customers=University 263<br>Invoice Amount=%{marker.size}<br>Lat=%{lat}<br>Long=%{lon}<extra></extra>\", \"lat\": [35.841039], \"legendgroup\": \"University 263\", \"lon\": [-90.675602], \"marker\": {\"color\": \"#00cc96\", \"size\": [2000.0], \"sizemode\": \"area\", \"sizeref\": 347.5}, \"mode\": \"markers\", \"name\": \"University 263\", \"showlegend\": true, \"subplot\": \"mapbox\", \"type\": \"scattermapbox\"}, {\"hovertemplate\": \"Customers=University 264<br>Invoice Amount=%{marker.size}<br>Lat=%{lat}<br>Long=%{lon}<extra></extra>\", \"lat\": [56.124], \"legendgroup\": \"University 264\", \"lon\": [-164.82645], \"marker\": {\"color\": \"#ab63fa\", \"size\": [1858.3], \"sizemode\": \"area\", \"sizeref\": 347.5}, \"mode\": \"markers\", \"name\": \"University 264\", \"showlegend\": true, \"subplot\": \"mapbox\", \"type\": \"scattermapbox\"}, {\"hovertemplate\": \"Customers=University 265<br>Invoice Amount=%{marker.size}<br>Lat=%{lat}<br>Long=%{lon}<extra></extra>\", \"lat\": [0.0], \"legendgroup\": \"University 265\", \"lon\": [0.0], \"marker\": {\"color\": \"#FFA15A\", \"size\": [1621.0], \"sizemode\": \"area\", \"sizeref\": 347.5}, \"mode\": \"markers\", \"name\": \"University 265\", \"showlegend\": true, \"subplot\": \"mapbox\", \"type\": \"scattermapbox\"}, {\"hovertemplate\": \"Customers=University 266<br>Invoice Amount=%{marker.size}<br>Lat=%{lat}<br>Long=%{lon}<extra></extra>\", \"lat\": [37.739004], \"legendgroup\": \"University 266\", \"lon\": [-89.209109], \"marker\": {\"color\": \"#19d3f3\", \"size\": [750.0], \"sizemode\": \"area\", \"sizeref\": 347.5}, \"mode\": \"markers\", \"name\": \"University 266\", \"showlegend\": true, \"subplot\": \"mapbox\", \"type\": \"scattermapbox\"}, {\"hovertemplate\": \"Customers=University 267<br>Invoice Amount=%{marker.size}<br>Lat=%{lat}<br>Long=%{lon}<extra></extra>\", \"lat\": [56.124], \"legendgroup\": \"University 267\", \"lon\": [-164.82645], \"marker\": {\"color\": \"#FF6692\", \"size\": [1512.0], \"sizemode\": \"area\", \"sizeref\": 347.5}, \"mode\": \"markers\", \"name\": \"University 267\", \"showlegend\": true, \"subplot\": \"mapbox\", \"type\": \"scattermapbox\"}, {\"hovertemplate\": \"Customers=University 268<br>Invoice Amount=%{marker.size}<br>Lat=%{lat}<br>Long=%{lon}<extra></extra>\", \"lat\": [0.0], \"legendgroup\": \"University 268\", \"lon\": [0.0], \"marker\": {\"color\": \"#B6E880\", \"size\": [3500.0], \"sizemode\": \"area\", \"sizeref\": 347.5}, \"mode\": \"markers\", \"name\": \"University 268\", \"showlegend\": true, \"subplot\": \"mapbox\", \"type\": \"scattermapbox\"}, {\"hovertemplate\": \"Customers=University 269<br>Invoice Amount=%{marker.size}<br>Lat=%{lat}<br>Long=%{lon}<extra></extra>\", \"lat\": [79.49231800000003], \"legendgroup\": \"University 269\", \"lon\": [-243.680166], \"marker\": {\"color\": \"#FF97FF\", \"size\": [4500.0], \"sizemode\": \"area\", \"sizeref\": 347.5}, \"mode\": \"markers\", \"name\": \"University 269\", \"showlegend\": true, \"subplot\": \"mapbox\", \"type\": \"scattermapbox\"}, {\"hovertemplate\": \"Customers=University 27<br>Invoice Amount=%{marker.size}<br>Lat=%{lat}<br>Long=%{lon}<extra></extra>\", \"lat\": [33.498228999999995], \"legendgroup\": \"University 27\", \"lon\": [-86.8073], \"marker\": {\"color\": \"#FECB52\", \"size\": [50000.0], \"sizemode\": \"area\", \"sizeref\": 347.5}, \"mode\": \"markers\", \"name\": \"University 27\", \"showlegend\": true, \"subplot\": \"mapbox\", \"type\": \"scattermapbox\"}, {\"hovertemplate\": \"Customers=University 270<br>Invoice Amount=%{marker.size}<br>Lat=%{lat}<br>Long=%{lon}<extra></extra>\", \"lat\": [0.0], \"legendgroup\": \"University 270\", \"lon\": [0.0], \"marker\": {\"color\": \"#636efa\", \"size\": [7000.0], \"sizemode\": \"area\", \"sizeref\": 347.5}, \"mode\": \"markers\", \"name\": \"University 270\", \"showlegend\": true, \"subplot\": \"mapbox\", \"type\": \"scattermapbox\"}, {\"hovertemplate\": \"Customers=University 271<br>Invoice Amount=%{marker.size}<br>Lat=%{lat}<br>Long=%{lon}<extra></extra>\", \"lat\": [35.841039], \"legendgroup\": \"University 271\", \"lon\": [-90.675602], \"marker\": {\"color\": \"#EF553B\", \"size\": [2500.0], \"sizemode\": \"area\", \"sizeref\": 347.5}, \"mode\": \"markers\", \"name\": \"University 271\", \"showlegend\": true, \"subplot\": \"mapbox\", \"type\": \"scattermapbox\"}, {\"hovertemplate\": \"Customers=University 272<br>Invoice Amount=%{marker.size}<br>Lat=%{lat}<br>Long=%{lon}<extra></extra>\", \"lat\": [77.940776], \"legendgroup\": \"University 272\", \"lon\": [-153.883838], \"marker\": {\"color\": \"#00cc96\", \"size\": [1600.0], \"sizemode\": \"area\", \"sizeref\": 347.5}, \"mode\": \"markers\", \"name\": \"University 272\", \"showlegend\": true, \"subplot\": \"mapbox\", \"type\": \"scattermapbox\"}, {\"hovertemplate\": \"Customers=University 273<br>Invoice Amount=%{marker.size}<br>Lat=%{lat}<br>Long=%{lon}<extra></extra>\", \"lat\": [35.841039], \"legendgroup\": \"University 273\", \"lon\": [-90.675602], \"marker\": {\"color\": \"#ab63fa\", \"size\": [2500.0], \"sizemode\": \"area\", \"sizeref\": 347.5}, \"mode\": \"markers\", \"name\": \"University 273\", \"showlegend\": true, \"subplot\": \"mapbox\", \"type\": \"scattermapbox\"}, {\"hovertemplate\": \"Customers=University 274<br>Invoice Amount=%{marker.size}<br>Lat=%{lat}<br>Long=%{lon}<extra></extra>\", \"lat\": [70.23588199999999], \"legendgroup\": \"University 274\", \"lon\": [-179.87333999999996], \"marker\": {\"color\": \"#FFA15A\", \"size\": [762.5], \"sizemode\": \"area\", \"sizeref\": 347.5}, \"mode\": \"markers\", \"name\": \"University 274\", \"showlegend\": true, \"subplot\": \"mapbox\", \"type\": \"scattermapbox\"}, {\"hovertemplate\": \"Customers=University 275<br>Invoice Amount=%{marker.size}<br>Lat=%{lat}<br>Long=%{lon}<extra></extra>\", \"lat\": [82.955632], \"legendgroup\": \"University 275\", \"lon\": [-175.366376], \"marker\": {\"color\": \"#19d3f3\", \"size\": [4000.0], \"sizemode\": \"area\", \"sizeref\": 347.5}, \"mode\": \"markers\", \"name\": \"University 275\", \"showlegend\": true, \"subplot\": \"mapbox\", \"type\": \"scattermapbox\"}, {\"hovertemplate\": \"Customers=University 276<br>Invoice Amount=%{marker.size}<br>Lat=%{lat}<br>Long=%{lon}<extra></extra>\", \"lat\": [35.969681], \"legendgroup\": \"University 276\", \"lon\": [-78.934721], \"marker\": {\"color\": \"#FF6692\", \"size\": [2250.0], \"sizemode\": \"area\", \"sizeref\": 347.5}, \"mode\": \"markers\", \"name\": \"University 276\", \"showlegend\": true, \"subplot\": \"mapbox\", \"type\": \"scattermapbox\"}, {\"hovertemplate\": \"Customers=University 277<br>Invoice Amount=%{marker.size}<br>Lat=%{lat}<br>Long=%{lon}<extra></extra>\", \"lat\": [28.062], \"legendgroup\": \"University 277\", \"lon\": [-82.413225], \"marker\": {\"color\": \"#B6E880\", \"size\": [425.0], \"sizemode\": \"area\", \"sizeref\": 347.5}, \"mode\": \"markers\", \"name\": \"University 277\", \"showlegend\": true, \"subplot\": \"mapbox\", \"type\": \"scattermapbox\"}, {\"hovertemplate\": \"Customers=University 278<br>Invoice Amount=%{marker.size}<br>Lat=%{lat}<br>Long=%{lon}<extra></extra>\", \"lat\": [41.370548], \"legendgroup\": \"University 278\", \"lon\": [-81.861757], \"marker\": {\"color\": \"#FF97FF\", \"size\": [2600.0], \"sizemode\": \"area\", \"sizeref\": 347.5}, \"mode\": \"markers\", \"name\": \"University 278\", \"showlegend\": true, \"subplot\": \"mapbox\", \"type\": \"scattermapbox\"}, {\"hovertemplate\": \"Customers=University 279<br>Invoice Amount=%{marker.size}<br>Lat=%{lat}<br>Long=%{lon}<extra></extra>\", \"lat\": [71.682078], \"legendgroup\": \"University 279\", \"lon\": [-181.351204], \"marker\": {\"color\": \"#FECB52\", \"size\": [5700.0], \"sizemode\": \"area\", \"sizeref\": 347.5}, \"mode\": \"markers\", \"name\": \"University 279\", \"showlegend\": true, \"subplot\": \"mapbox\", \"type\": \"scattermapbox\"}, {\"hovertemplate\": \"Customers=University 28<br>Invoice Amount=%{marker.size}<br>Lat=%{lat}<br>Long=%{lon}<extra></extra>\", \"lat\": [33.203634], \"legendgroup\": \"University 28\", \"lon\": [-87.56214399999998], \"marker\": {\"color\": \"#636efa\", \"size\": [13650.0], \"sizemode\": \"area\", \"sizeref\": 347.5}, \"mode\": \"markers\", \"name\": \"University 28\", \"showlegend\": true, \"subplot\": \"mapbox\", \"type\": \"scattermapbox\"}, {\"hovertemplate\": \"Customers=University 280<br>Invoice Amount=%{marker.size}<br>Lat=%{lat}<br>Long=%{lon}<extra></extra>\", \"lat\": [56.124], \"legendgroup\": \"University 280\", \"lon\": [-164.82645], \"marker\": {\"color\": \"#EF553B\", \"size\": [9060.0], \"sizemode\": \"area\", \"sizeref\": 347.5}, \"mode\": \"markers\", \"name\": \"University 280\", \"showlegend\": true, \"subplot\": \"mapbox\", \"type\": \"scattermapbox\"}, {\"hovertemplate\": \"Customers=University 281<br>Invoice Amount=%{marker.size}<br>Lat=%{lat}<br>Long=%{lon}<extra></extra>\", \"lat\": [33.061245], \"legendgroup\": \"University 281\", \"lon\": [-83.604895], \"marker\": {\"color\": \"#00cc96\", \"size\": [3500.0], \"sizemode\": \"area\", \"sizeref\": 347.5}, \"mode\": \"markers\", \"name\": \"University 281\", \"showlegend\": true, \"subplot\": \"mapbox\", \"type\": \"scattermapbox\"}, {\"hovertemplate\": \"Customers=University 282<br>Invoice Amount=%{marker.size}<br>Lat=%{lat}<br>Long=%{lon}<extra></extra>\", \"lat\": [43.077369], \"legendgroup\": \"University 282\", \"lon\": [-75.23320799999998], \"marker\": {\"color\": \"#ab63fa\", \"size\": [1750.0], \"sizemode\": \"area\", \"sizeref\": 347.5}, \"mode\": \"markers\", \"name\": \"University 282\", \"showlegend\": true, \"subplot\": \"mapbox\", \"type\": \"scattermapbox\"}, {\"hovertemplate\": \"Customers=University 283<br>Invoice Amount=%{marker.size}<br>Lat=%{lat}<br>Long=%{lon}<extra></extra>\", \"lat\": [33.651144], \"legendgroup\": \"University 283\", \"lon\": [-117.814991], \"marker\": {\"color\": \"#FFA15A\", \"size\": [550.0], \"sizemode\": \"area\", \"sizeref\": 347.5}, \"mode\": \"markers\", \"name\": \"University 283\", \"showlegend\": true, \"subplot\": \"mapbox\", \"type\": \"scattermapbox\"}, {\"hovertemplate\": \"Customers=University 284<br>Invoice Amount=%{marker.size}<br>Lat=%{lat}<br>Long=%{lon}<extra></extra>\", \"lat\": [28.062], \"legendgroup\": \"University 284\", \"lon\": [-82.413225], \"marker\": {\"color\": \"#19d3f3\", \"size\": [2100.0], \"sizemode\": \"area\", \"sizeref\": 347.5}, \"mode\": \"markers\", \"name\": \"University 284\", \"showlegend\": true, \"subplot\": \"mapbox\", \"type\": \"scattermapbox\"}, {\"hovertemplate\": \"Customers=University 285<br>Invoice Amount=%{marker.size}<br>Lat=%{lat}<br>Long=%{lon}<extra></extra>\", \"lat\": [33.82887], \"legendgroup\": \"University 285\", \"lon\": [-118.180502], \"marker\": {\"color\": \"#FF6692\", \"size\": [2000.0], \"sizemode\": \"area\", \"sizeref\": 347.5}, \"mode\": \"markers\", \"name\": \"University 285\", \"showlegend\": true, \"subplot\": \"mapbox\", \"type\": \"scattermapbox\"}, {\"hovertemplate\": \"Customers=University 286<br>Invoice Amount=%{marker.size}<br>Lat=%{lat}<br>Long=%{lon}<extra></extra>\", \"lat\": [28.062], \"legendgroup\": \"University 286\", \"lon\": [-82.413225], \"marker\": {\"color\": \"#B6E880\", \"size\": [738.01], \"sizemode\": \"area\", \"sizeref\": 347.5}, \"mode\": \"markers\", \"name\": \"University 286\", \"showlegend\": true, \"subplot\": \"mapbox\", \"type\": \"scattermapbox\"}, {\"hovertemplate\": \"Customers=University 287<br>Invoice Amount=%{marker.size}<br>Lat=%{lat}<br>Long=%{lon}<extra></extra>\", \"lat\": [71.682078], \"legendgroup\": \"University 287\", \"lon\": [-181.351204], \"marker\": {\"color\": \"#FF97FF\", \"size\": [4000.0], \"sizemode\": \"area\", \"sizeref\": 347.5}, \"mode\": \"markers\", \"name\": \"University 287\", \"showlegend\": true, \"subplot\": \"mapbox\", \"type\": \"scattermapbox\"}, {\"hovertemplate\": \"Customers=University 288<br>Invoice Amount=%{marker.size}<br>Lat=%{lat}<br>Long=%{lon}<extra></extra>\", \"lat\": [40.046955], \"legendgroup\": \"University 288\", \"lon\": [-79.89498499999998], \"marker\": {\"color\": \"#FECB52\", \"size\": [8500.0], \"sizemode\": \"area\", \"sizeref\": 347.5}, \"mode\": \"markers\", \"name\": \"University 288\", \"showlegend\": true, \"subplot\": \"mapbox\", \"type\": \"scattermapbox\"}, {\"hovertemplate\": \"Customers=University 289<br>Invoice Amount=%{marker.size}<br>Lat=%{lat}<br>Long=%{lon}<extra></extra>\", \"lat\": [31.307468], \"legendgroup\": \"University 289\", \"lon\": [-92.465779], \"marker\": {\"color\": \"#636efa\", \"size\": [562.0], \"sizemode\": \"area\", \"sizeref\": 347.5}, \"mode\": \"markers\", \"name\": \"University 289\", \"showlegend\": true, \"subplot\": \"mapbox\", \"type\": \"scattermapbox\"}, {\"hovertemplate\": \"Customers=University 29<br>Invoice Amount=%{marker.size}<br>Lat=%{lat}<br>Long=%{lon}<extra></extra>\", \"lat\": [36.73702700000001], \"legendgroup\": \"University 29\", \"lon\": [-84.162826], \"marker\": {\"color\": \"#EF553B\", \"size\": [3500.0], \"sizemode\": \"area\", \"sizeref\": 347.5}, \"mode\": \"markers\", \"name\": \"University 29\", \"showlegend\": true, \"subplot\": \"mapbox\", \"type\": \"scattermapbox\"}, {\"hovertemplate\": \"Customers=University 290<br>Invoice Amount=%{marker.size}<br>Lat=%{lat}<br>Long=%{lon}<extra></extra>\", \"lat\": [71.682078], \"legendgroup\": \"University 290\", \"lon\": [-181.351204], \"marker\": {\"color\": \"#00cc96\", \"size\": [8500.0], \"sizemode\": \"area\", \"sizeref\": 347.5}, \"mode\": \"markers\", \"name\": \"University 290\", \"showlegend\": true, \"subplot\": \"mapbox\", \"type\": \"scattermapbox\"}, {\"hovertemplate\": \"Customers=University 291<br>Invoice Amount=%{marker.size}<br>Lat=%{lat}<br>Long=%{lon}<extra></extra>\", \"lat\": [41.973741], \"legendgroup\": \"University 291\", \"lon\": [-70.976558], \"marker\": {\"color\": \"#ab63fa\", \"size\": [2600.0], \"sizemode\": \"area\", \"sizeref\": 347.5}, \"mode\": \"markers\", \"name\": \"University 291\", \"showlegend\": true, \"subplot\": \"mapbox\", \"type\": \"scattermapbox\"}, {\"hovertemplate\": \"Customers=University 292<br>Invoice Amount=%{marker.size}<br>Lat=%{lat}<br>Long=%{lon}<extra></extra>\", \"lat\": [28.062], \"legendgroup\": \"University 292\", \"lon\": [-82.413225], \"marker\": {\"color\": \"#FFA15A\", \"size\": [1800.0], \"sizemode\": \"area\", \"sizeref\": 347.5}, \"mode\": \"markers\", \"name\": \"University 292\", \"showlegend\": true, \"subplot\": \"mapbox\", \"type\": \"scattermapbox\"}, {\"hovertemplate\": \"Customers=University 293<br>Invoice Amount=%{marker.size}<br>Lat=%{lat}<br>Long=%{lon}<extra></extra>\", \"lat\": [30.73851], \"legendgroup\": \"University 293\", \"lon\": [-99.11144], \"marker\": {\"color\": \"#19d3f3\", \"size\": [550.0], \"sizemode\": \"area\", \"sizeref\": 347.5}, \"mode\": \"markers\", \"name\": \"University 293\", \"showlegend\": true, \"subplot\": \"mapbox\", \"type\": \"scattermapbox\"}, {\"hovertemplate\": \"Customers=University 294<br>Invoice Amount=%{marker.size}<br>Lat=%{lat}<br>Long=%{lon}<extra></extra>\", \"lat\": [35.841039], \"legendgroup\": \"University 294\", \"lon\": [-90.675602], \"marker\": {\"color\": \"#FF6692\", \"size\": [4050.0], \"sizemode\": \"area\", \"sizeref\": 347.5}, \"mode\": \"markers\", \"name\": \"University 294\", \"showlegend\": true, \"subplot\": \"mapbox\", \"type\": \"scattermapbox\"}, {\"hovertemplate\": \"Customers=University 295<br>Invoice Amount=%{marker.size}<br>Lat=%{lat}<br>Long=%{lon}<extra></extra>\", \"lat\": [28.062], \"legendgroup\": \"University 295\", \"lon\": [-82.413225], \"marker\": {\"color\": \"#B6E880\", \"size\": [1375.0], \"sizemode\": \"area\", \"sizeref\": 347.5}, \"mode\": \"markers\", \"name\": \"University 295\", \"showlegend\": true, \"subplot\": \"mapbox\", \"type\": \"scattermapbox\"}, {\"hovertemplate\": \"Customers=University 296<br>Invoice Amount=%{marker.size}<br>Lat=%{lat}<br>Long=%{lon}<extra></extra>\", \"lat\": [0.0], \"legendgroup\": \"University 296\", \"lon\": [0.0], \"marker\": {\"color\": \"#FF97FF\", \"size\": [11350.0], \"sizemode\": \"area\", \"sizeref\": 347.5}, \"mode\": \"markers\", \"name\": \"University 296\", \"showlegend\": true, \"subplot\": \"mapbox\", \"type\": \"scattermapbox\"}, {\"hovertemplate\": \"Customers=University 297<br>Invoice Amount=%{marker.size}<br>Lat=%{lat}<br>Long=%{lon}<extra></extra>\", \"lat\": [0.0], \"legendgroup\": \"University 297\", \"lon\": [0.0], \"marker\": {\"color\": \"#FECB52\", \"size\": [750.0], \"sizemode\": \"area\", \"sizeref\": 347.5}, \"mode\": \"markers\", \"name\": \"University 297\", \"showlegend\": true, \"subplot\": \"mapbox\", \"type\": \"scattermapbox\"}, {\"hovertemplate\": \"Customers=University 298<br>Invoice Amount=%{marker.size}<br>Lat=%{lat}<br>Long=%{lon}<extra></extra>\", \"lat\": [32.424353], \"legendgroup\": \"University 298\", \"lon\": [-80.565343], \"marker\": {\"color\": \"#636efa\", \"size\": [750.0], \"sizemode\": \"area\", \"sizeref\": 347.5}, \"mode\": \"markers\", \"name\": \"University 298\", \"showlegend\": true, \"subplot\": \"mapbox\", \"type\": \"scattermapbox\"}, {\"hovertemplate\": \"Customers=University 299<br>Invoice Amount=%{marker.size}<br>Lat=%{lat}<br>Long=%{lon}<extra></extra>\", \"lat\": [41.82275], \"legendgroup\": \"University 299\", \"lon\": [-71.414451], \"marker\": {\"color\": \"#EF553B\", \"size\": [750.0], \"sizemode\": \"area\", \"sizeref\": 347.5}, \"mode\": \"markers\", \"name\": \"University 299\", \"showlegend\": true, \"subplot\": \"mapbox\", \"type\": \"scattermapbox\"}, {\"hovertemplate\": \"Customers=University 3<br>Invoice Amount=%{marker.size}<br>Lat=%{lat}<br>Long=%{lon}<extra></extra>\", \"lat\": [222.079485], \"legendgroup\": \"University 3\", \"lon\": [-522.3312930000001], \"marker\": {\"color\": \"#00cc96\", \"size\": [10375.0], \"sizemode\": \"area\", \"sizeref\": 347.5}, \"mode\": \"markers\", \"name\": \"University 3\", \"showlegend\": true, \"subplot\": \"mapbox\", \"type\": \"scattermapbox\"}, {\"hovertemplate\": \"Customers=University 30<br>Invoice Amount=%{marker.size}<br>Lat=%{lat}<br>Long=%{lon}<extra></extra>\", \"lat\": [148.946772], \"legendgroup\": \"University 30\", \"lon\": [-333.605504], \"marker\": {\"color\": \"#ab63fa\", \"size\": [3250.0], \"sizemode\": \"area\", \"sizeref\": 347.5}, \"mode\": \"markers\", \"name\": \"University 30\", \"showlegend\": true, \"subplot\": \"mapbox\", \"type\": \"scattermapbox\"}, {\"hovertemplate\": \"Customers=University 300<br>Invoice Amount=%{marker.size}<br>Lat=%{lat}<br>Long=%{lon}<extra></extra>\", \"lat\": [35.162396], \"legendgroup\": \"University 300\", \"lon\": [-92.445162], \"marker\": {\"color\": \"#FFA15A\", \"size\": [1610.0], \"sizemode\": \"area\", \"sizeref\": 347.5}, \"mode\": \"markers\", \"name\": \"University 300\", \"showlegend\": true, \"subplot\": \"mapbox\", \"type\": \"scattermapbox\"}, {\"hovertemplate\": \"Customers=University 301<br>Invoice Amount=%{marker.size}<br>Lat=%{lat}<br>Long=%{lon}<extra></extra>\", \"lat\": [28.062], \"legendgroup\": \"University 301\", \"lon\": [-82.413225], \"marker\": {\"color\": \"#19d3f3\", \"size\": [2300.0], \"sizemode\": \"area\", \"sizeref\": 347.5}, \"mode\": \"markers\", \"name\": \"University 301\", \"showlegend\": true, \"subplot\": \"mapbox\", \"type\": \"scattermapbox\"}, {\"hovertemplate\": \"Customers=University 302<br>Invoice Amount=%{marker.size}<br>Lat=%{lat}<br>Long=%{lon}<extra></extra>\", \"lat\": [32.283428], \"legendgroup\": \"University 302\", \"lon\": [-106.753336], \"marker\": {\"color\": \"#FF6692\", \"size\": [2000.0], \"sizemode\": \"area\", \"sizeref\": 347.5}, \"mode\": \"markers\", \"name\": \"University 302\", \"showlegend\": true, \"subplot\": \"mapbox\", \"type\": \"scattermapbox\"}, {\"hovertemplate\": \"Customers=University 303<br>Invoice Amount=%{marker.size}<br>Lat=%{lat}<br>Long=%{lon}<extra></extra>\", \"lat\": [28.052414], \"legendgroup\": \"University 303\", \"lon\": [-82.560475], \"marker\": {\"color\": \"#B6E880\", \"size\": [1500.0], \"sizemode\": \"area\", \"sizeref\": 347.5}, \"mode\": \"markers\", \"name\": \"University 303\", \"showlegend\": true, \"subplot\": \"mapbox\", \"type\": \"scattermapbox\"}, {\"hovertemplate\": \"Customers=University 304<br>Invoice Amount=%{marker.size}<br>Lat=%{lat}<br>Long=%{lon}<extra></extra>\", \"lat\": [34.744649], \"legendgroup\": \"University 304\", \"lon\": [-82.797267], \"marker\": {\"color\": \"#FF97FF\", \"size\": [2500.0], \"sizemode\": \"area\", \"sizeref\": 347.5}, \"mode\": \"markers\", \"name\": \"University 304\", \"showlegend\": true, \"subplot\": \"mapbox\", \"type\": \"scattermapbox\"}, {\"hovertemplate\": \"Customers=University 305<br>Invoice Amount=%{marker.size}<br>Lat=%{lat}<br>Long=%{lon}<extra></extra>\", \"lat\": [27.727590000000006], \"legendgroup\": \"University 305\", \"lon\": [-82.361013], \"marker\": {\"color\": \"#FECB52\", \"size\": [4300.0], \"sizemode\": \"area\", \"sizeref\": 347.5}, \"mode\": \"markers\", \"name\": \"University 305\", \"showlegend\": true, \"subplot\": \"mapbox\", \"type\": \"scattermapbox\"}, {\"hovertemplate\": \"Customers=University 306<br>Invoice Amount=%{marker.size}<br>Lat=%{lat}<br>Long=%{lon}<extra></extra>\", \"lat\": [38.30699], \"legendgroup\": \"University 306\", \"lon\": [-82.751009], \"marker\": {\"color\": \"#636efa\", \"size\": [450.0], \"sizemode\": \"area\", \"sizeref\": 347.5}, \"mode\": \"markers\", \"name\": \"University 306\", \"showlegend\": true, \"subplot\": \"mapbox\", \"type\": \"scattermapbox\"}, {\"hovertemplate\": \"Customers=University 307<br>Invoice Amount=%{marker.size}<br>Lat=%{lat}<br>Long=%{lon}<extra></extra>\", \"lat\": [38.631501], \"legendgroup\": \"University 307\", \"lon\": [-90.19231], \"marker\": {\"color\": \"#EF553B\", \"size\": [575.0], \"sizemode\": \"area\", \"sizeref\": 347.5}, \"mode\": \"markers\", \"name\": \"University 307\", \"showlegend\": true, \"subplot\": \"mapbox\", \"type\": \"scattermapbox\"}, {\"hovertemplate\": \"Customers=University 308<br>Invoice Amount=%{marker.size}<br>Lat=%{lat}<br>Long=%{lon}<extra></extra>\", \"lat\": [0.0], \"legendgroup\": \"University 308\", \"lon\": [0.0], \"marker\": {\"color\": \"#00cc96\", \"size\": [1280.0], \"sizemode\": \"area\", \"sizeref\": 347.5}, \"mode\": \"markers\", \"name\": \"University 308\", \"showlegend\": true, \"subplot\": \"mapbox\", \"type\": \"scattermapbox\"}, {\"hovertemplate\": \"Customers=University 309<br>Invoice Amount=%{marker.size}<br>Lat=%{lat}<br>Long=%{lon}<extra></extra>\", \"lat\": [43.072595], \"legendgroup\": \"University 309\", \"lon\": [-89.421412], \"marker\": {\"color\": \"#ab63fa\", \"size\": [1680.0], \"sizemode\": \"area\", \"sizeref\": 347.5}, \"mode\": \"markers\", \"name\": \"University 309\", \"showlegend\": true, \"subplot\": \"mapbox\", \"type\": \"scattermapbox\"}, {\"hovertemplate\": \"Customers=University 31<br>Invoice Amount=%{marker.size}<br>Lat=%{lat}<br>Long=%{lon}<extra></extra>\", \"lat\": [124.91727399999999], \"legendgroup\": \"University 31\", \"lon\": [-321.230674], \"marker\": {\"color\": \"#FFA15A\", \"size\": [14250.0], \"sizemode\": \"area\", \"sizeref\": 347.5}, \"mode\": \"markers\", \"name\": \"University 31\", \"showlegend\": true, \"subplot\": \"mapbox\", \"type\": \"scattermapbox\"}, {\"hovertemplate\": \"Customers=University 310<br>Invoice Amount=%{marker.size}<br>Lat=%{lat}<br>Long=%{lon}<extra></extra>\", \"lat\": [66.21051999999999], \"legendgroup\": \"University 310\", \"lon\": [-173.745918], \"marker\": {\"color\": \"#19d3f3\", \"size\": [2250.0], \"sizemode\": \"area\", \"sizeref\": 347.5}, \"mode\": \"markers\", \"name\": \"University 310\", \"showlegend\": true, \"subplot\": \"mapbox\", \"type\": \"scattermapbox\"}, {\"hovertemplate\": \"Customers=University 311<br>Invoice Amount=%{marker.size}<br>Lat=%{lat}<br>Long=%{lon}<extra></extra>\", \"lat\": [28.062], \"legendgroup\": \"University 311\", \"lon\": [-82.413225], \"marker\": {\"color\": \"#FF6692\", \"size\": [2500.0], \"sizemode\": \"area\", \"sizeref\": 347.5}, \"mode\": \"markers\", \"name\": \"University 311\", \"showlegend\": true, \"subplot\": \"mapbox\", \"type\": \"scattermapbox\"}, {\"hovertemplate\": \"Customers=University 312<br>Invoice Amount=%{marker.size}<br>Lat=%{lat}<br>Long=%{lon}<extra></extra>\", \"lat\": [28.062], \"legendgroup\": \"University 312\", \"lon\": [-82.413225], \"marker\": {\"color\": \"#B6E880\", \"size\": [3300.0], \"sizemode\": \"area\", \"sizeref\": 347.5}, \"mode\": \"markers\", \"name\": \"University 312\", \"showlegend\": true, \"subplot\": \"mapbox\", \"type\": \"scattermapbox\"}, {\"hovertemplate\": \"Customers=University 313<br>Invoice Amount=%{marker.size}<br>Lat=%{lat}<br>Long=%{lon}<extra></extra>\", \"lat\": [28.062], \"legendgroup\": \"University 313\", \"lon\": [-82.413225], \"marker\": {\"color\": \"#FF97FF\", \"size\": [5000.0], \"sizemode\": \"area\", \"sizeref\": 347.5}, \"mode\": \"markers\", \"name\": \"University 313\", \"showlegend\": true, \"subplot\": \"mapbox\", \"type\": \"scattermapbox\"}, {\"hovertemplate\": \"Customers=University 314<br>Invoice Amount=%{marker.size}<br>Lat=%{lat}<br>Long=%{lon}<extra></extra>\", \"lat\": [33.879768], \"legendgroup\": \"University 314\", \"lon\": [-117.896341], \"marker\": {\"color\": \"#FECB52\", \"size\": [4000.0], \"sizemode\": \"area\", \"sizeref\": 347.5}, \"mode\": \"markers\", \"name\": \"University 314\", \"showlegend\": true, \"subplot\": \"mapbox\", \"type\": \"scattermapbox\"}, {\"hovertemplate\": \"Customers=University 315<br>Invoice Amount=%{marker.size}<br>Lat=%{lat}<br>Long=%{lon}<extra></extra>\", \"lat\": [40.277742], \"legendgroup\": \"University 315\", \"lon\": [-94.860299], \"marker\": {\"color\": \"#636efa\", \"size\": [562.0], \"sizemode\": \"area\", \"sizeref\": 347.5}, \"mode\": \"markers\", \"name\": \"University 315\", \"showlegend\": true, \"subplot\": \"mapbox\", \"type\": \"scattermapbox\"}, {\"hovertemplate\": \"Customers=University 316<br>Invoice Amount=%{marker.size}<br>Lat=%{lat}<br>Long=%{lon}<extra></extra>\", \"lat\": [0.0], \"legendgroup\": \"University 316\", \"lon\": [0.0], \"marker\": {\"color\": \"#EF553B\", \"size\": [5450.0], \"sizemode\": \"area\", \"sizeref\": 347.5}, \"mode\": \"markers\", \"name\": \"University 316\", \"showlegend\": true, \"subplot\": \"mapbox\", \"type\": \"scattermapbox\"}, {\"hovertemplate\": \"Customers=University 317<br>Invoice Amount=%{marker.size}<br>Lat=%{lat}<br>Long=%{lon}<extra></extra>\", \"lat\": [28.062], \"legendgroup\": \"University 317\", \"lon\": [-82.413225], \"marker\": {\"color\": \"#00cc96\", \"size\": [4500.0], \"sizemode\": \"area\", \"sizeref\": 347.5}, \"mode\": \"markers\", \"name\": \"University 317\", \"showlegend\": true, \"subplot\": \"mapbox\", \"type\": \"scattermapbox\"}, {\"hovertemplate\": \"Customers=University 318<br>Invoice Amount=%{marker.size}<br>Lat=%{lat}<br>Long=%{lon}<extra></extra>\", \"lat\": [39.206132], \"legendgroup\": \"University 318\", \"lon\": [-76.887905], \"marker\": {\"color\": \"#ab63fa\", \"size\": [1000.0], \"sizemode\": \"area\", \"sizeref\": 347.5}, \"mode\": \"markers\", \"name\": \"University 318\", \"showlegend\": true, \"subplot\": \"mapbox\", \"type\": \"scattermapbox\"}, {\"hovertemplate\": \"Customers=University 319<br>Invoice Amount=%{marker.size}<br>Lat=%{lat}<br>Long=%{lon}<extra></extra>\", \"lat\": [32.321937], \"legendgroup\": \"University 319\", \"lon\": [-95.302223], \"marker\": {\"color\": \"#FFA15A\", \"size\": [1250.0], \"sizemode\": \"area\", \"sizeref\": 347.5}, \"mode\": \"markers\", \"name\": \"University 319\", \"showlegend\": true, \"subplot\": \"mapbox\", \"type\": \"scattermapbox\"}, {\"hovertemplate\": \"Customers=University 32<br>Invoice Amount=%{marker.size}<br>Lat=%{lat}<br>Long=%{lon}<extra></extra>\", \"lat\": [40.897169], \"legendgroup\": \"University 32\", \"lon\": [-74.02901800000002], \"marker\": {\"color\": \"#19d3f3\", \"size\": [1000.0], \"sizemode\": \"area\", \"sizeref\": 347.5}, \"mode\": \"markers\", \"name\": \"University 32\", \"showlegend\": true, \"subplot\": \"mapbox\", \"type\": \"scattermapbox\"}, {\"hovertemplate\": \"Customers=University 320<br>Invoice Amount=%{marker.size}<br>Lat=%{lat}<br>Long=%{lon}<extra></extra>\", \"lat\": [32.78921], \"legendgroup\": \"University 320\", \"lon\": [-114.55606], \"marker\": {\"color\": \"#FF6692\", \"size\": [437.0], \"sizemode\": \"area\", \"sizeref\": 347.5}, \"mode\": \"markers\", \"name\": \"University 320\", \"showlegend\": true, \"subplot\": \"mapbox\", \"type\": \"scattermapbox\"}, {\"hovertemplate\": \"Customers=University 321<br>Invoice Amount=%{marker.size}<br>Lat=%{lat}<br>Long=%{lon}<extra></extra>\", \"lat\": [29.958304], \"legendgroup\": \"University 321\", \"lon\": [-90.077], \"marker\": {\"color\": \"#B6E880\", \"size\": [3000.0], \"sizemode\": \"area\", \"sizeref\": 347.5}, \"mode\": \"markers\", \"name\": \"University 321\", \"showlegend\": true, \"subplot\": \"mapbox\", \"type\": \"scattermapbox\"}, {\"hovertemplate\": \"Customers=University 322<br>Invoice Amount=%{marker.size}<br>Lat=%{lat}<br>Long=%{lon}<extra></extra>\", \"lat\": [33.65983], \"legendgroup\": \"University 322\", \"lon\": [-87.60001], \"marker\": {\"color\": \"#FF97FF\", \"size\": [1650.0], \"sizemode\": \"area\", \"sizeref\": 347.5}, \"mode\": \"markers\", \"name\": \"University 322\", \"showlegend\": true, \"subplot\": \"mapbox\", \"type\": \"scattermapbox\"}, {\"hovertemplate\": \"Customers=University 323<br>Invoice Amount=%{marker.size}<br>Lat=%{lat}<br>Long=%{lon}<extra></extra>\", \"lat\": [43.65818], \"legendgroup\": \"University 323\", \"lon\": [-71.50445], \"marker\": {\"color\": \"#FECB52\", \"size\": [800.0], \"sizemode\": \"area\", \"sizeref\": 347.5}, \"mode\": \"markers\", \"name\": \"University 323\", \"showlegend\": true, \"subplot\": \"mapbox\", \"type\": \"scattermapbox\"}, {\"hovertemplate\": \"Customers=University 324<br>Invoice Amount=%{marker.size}<br>Lat=%{lat}<br>Long=%{lon}<extra></extra>\", \"lat\": [28.062], \"legendgroup\": \"University 324\", \"lon\": [-82.413225], \"marker\": {\"color\": \"#636efa\", \"size\": [565.0], \"sizemode\": \"area\", \"sizeref\": 347.5}, \"mode\": \"markers\", \"name\": \"University 324\", \"showlegend\": true, \"subplot\": \"mapbox\", \"type\": \"scattermapbox\"}, {\"hovertemplate\": \"Customers=University 325<br>Invoice Amount=%{marker.size}<br>Lat=%{lat}<br>Long=%{lon}<extra></extra>\", \"lat\": [28.062], \"legendgroup\": \"University 325\", \"lon\": [-82.413225], \"marker\": {\"color\": \"#EF553B\", \"size\": [2070.0], \"sizemode\": \"area\", \"sizeref\": 347.5}, \"mode\": \"markers\", \"name\": \"University 325\", \"showlegend\": true, \"subplot\": \"mapbox\", \"type\": \"scattermapbox\"}, {\"hovertemplate\": \"Customers=University 326<br>Invoice Amount=%{marker.size}<br>Lat=%{lat}<br>Long=%{lon}<extra></extra>\", \"lat\": [35.841039], \"legendgroup\": \"University 326\", \"lon\": [-90.675602], \"marker\": {\"color\": \"#00cc96\", \"size\": [6600.0], \"sizemode\": \"area\", \"sizeref\": 347.5}, \"mode\": \"markers\", \"name\": \"University 326\", \"showlegend\": true, \"subplot\": \"mapbox\", \"type\": \"scattermapbox\"}, {\"hovertemplate\": \"Customers=University 327<br>Invoice Amount=%{marker.size}<br>Lat=%{lat}<br>Long=%{lon}<extra></extra>\", \"lat\": [28.062], \"legendgroup\": \"University 327\", \"lon\": [-82.413225], \"marker\": {\"color\": \"#ab63fa\", \"size\": [5100.0], \"sizemode\": \"area\", \"sizeref\": 347.5}, \"mode\": \"markers\", \"name\": \"University 327\", \"showlegend\": true, \"subplot\": \"mapbox\", \"type\": \"scattermapbox\"}, {\"hovertemplate\": \"Customers=University 328<br>Invoice Amount=%{marker.size}<br>Lat=%{lat}<br>Long=%{lon}<extra></extra>\", \"lat\": [40.77893], \"legendgroup\": \"University 328\", \"lon\": [-77.841359], \"marker\": {\"color\": \"#FFA15A\", \"size\": [4000.0], \"sizemode\": \"area\", \"sizeref\": 347.5}, \"mode\": \"markers\", \"name\": \"University 328\", \"showlegend\": true, \"subplot\": \"mapbox\", \"type\": \"scattermapbox\"}, {\"hovertemplate\": \"Customers=University 329<br>Invoice Amount=%{marker.size}<br>Lat=%{lat}<br>Long=%{lon}<extra></extra>\", \"lat\": [43.70701], \"legendgroup\": \"University 329\", \"lon\": [-72.27741], \"marker\": {\"color\": \"#19d3f3\", \"size\": [550.0], \"sizemode\": \"area\", \"sizeref\": 347.5}, \"mode\": \"markers\", \"name\": \"University 329\", \"showlegend\": true, \"subplot\": \"mapbox\", \"type\": \"scattermapbox\"}, {\"hovertemplate\": \"Customers=University 33<br>Invoice Amount=%{marker.size}<br>Lat=%{lat}<br>Long=%{lon}<extra></extra>\", \"lat\": [180.355809], \"legendgroup\": \"University 33\", \"lon\": [-398.958777], \"marker\": {\"color\": \"#FF6692\", \"size\": [17500.0], \"sizemode\": \"area\", \"sizeref\": 347.5}, \"mode\": \"markers\", \"name\": \"University 33\", \"showlegend\": true, \"subplot\": \"mapbox\", \"type\": \"scattermapbox\"}, {\"hovertemplate\": \"Customers=University 330<br>Invoice Amount=%{marker.size}<br>Lat=%{lat}<br>Long=%{lon}<extra></extra>\", \"lat\": [36.731332], \"legendgroup\": \"University 330\", \"lon\": [-83.33573], \"marker\": {\"color\": \"#B6E880\", \"size\": [525.0], \"sizemode\": \"area\", \"sizeref\": 347.5}, \"mode\": \"markers\", \"name\": \"University 330\", \"showlegend\": true, \"subplot\": \"mapbox\", \"type\": \"scattermapbox\"}, {\"hovertemplate\": \"Customers=University 331<br>Invoice Amount=%{marker.size}<br>Lat=%{lat}<br>Long=%{lon}<extra></extra>\", \"lat\": [56.124], \"legendgroup\": \"University 331\", \"lon\": [-164.82645], \"marker\": {\"color\": \"#FF97FF\", \"size\": [3500.0], \"sizemode\": \"area\", \"sizeref\": 347.5}, \"mode\": \"markers\", \"name\": \"University 331\", \"showlegend\": true, \"subplot\": \"mapbox\", \"type\": \"scattermapbox\"}, {\"hovertemplate\": \"Customers=University 332<br>Invoice Amount=%{marker.size}<br>Lat=%{lat}<br>Long=%{lon}<extra></extra>\", \"lat\": [43.556574], \"legendgroup\": \"University 332\", \"lon\": [-83.994328], \"marker\": {\"color\": \"#FECB52\", \"size\": [1710.0], \"sizemode\": \"area\", \"sizeref\": 347.5}, \"mode\": \"markers\", \"name\": \"University 332\", \"showlegend\": true, \"subplot\": \"mapbox\", \"type\": \"scattermapbox\"}, {\"hovertemplate\": \"Customers=University 333<br>Invoice Amount=%{marker.size}<br>Lat=%{lat}<br>Long=%{lon}<extra></extra>\", \"lat\": [34.104794], \"legendgroup\": \"University 333\", \"lon\": [-117.29215], \"marker\": {\"color\": \"#636efa\", \"size\": [5000.0], \"sizemode\": \"area\", \"sizeref\": 347.5}, \"mode\": \"markers\", \"name\": \"University 333\", \"showlegend\": true, \"subplot\": \"mapbox\", \"type\": \"scattermapbox\"}, {\"hovertemplate\": \"Customers=University 334<br>Invoice Amount=%{marker.size}<br>Lat=%{lat}<br>Long=%{lon}<extra></extra>\", \"lat\": [35.709894], \"legendgroup\": \"University 334\", \"lon\": [-98.81099], \"marker\": {\"color\": \"#EF553B\", \"size\": [625.0], \"sizemode\": \"area\", \"sizeref\": 347.5}, \"mode\": \"markers\", \"name\": \"University 334\", \"showlegend\": true, \"subplot\": \"mapbox\", \"type\": \"scattermapbox\"}, {\"hovertemplate\": \"Customers=University 335<br>Invoice Amount=%{marker.size}<br>Lat=%{lat}<br>Long=%{lon}<extra></extra>\", \"lat\": [35.841039], \"legendgroup\": \"University 335\", \"lon\": [-90.675602], \"marker\": {\"color\": \"#00cc96\", \"size\": [5500.0], \"sizemode\": \"area\", \"sizeref\": 347.5}, \"mode\": \"markers\", \"name\": \"University 335\", \"showlegend\": true, \"subplot\": \"mapbox\", \"type\": \"scattermapbox\"}, {\"hovertemplate\": \"Customers=University 336<br>Invoice Amount=%{marker.size}<br>Lat=%{lat}<br>Long=%{lon}<extra></extra>\", \"lat\": [35.841039], \"legendgroup\": \"University 336\", \"lon\": [-90.675602], \"marker\": {\"color\": \"#ab63fa\", \"size\": [2250.0], \"sizemode\": \"area\", \"sizeref\": 347.5}, \"mode\": \"markers\", \"name\": \"University 336\", \"showlegend\": true, \"subplot\": \"mapbox\", \"type\": \"scattermapbox\"}, {\"hovertemplate\": \"Customers=University 337<br>Invoice Amount=%{marker.size}<br>Lat=%{lat}<br>Long=%{lon}<extra></extra>\", \"lat\": [41.141206], \"legendgroup\": \"University 337\", \"lon\": [-74.168479], \"marker\": {\"color\": \"#FFA15A\", \"size\": [400.0], \"sizemode\": \"area\", \"sizeref\": 347.5}, \"mode\": \"markers\", \"name\": \"University 337\", \"showlegend\": true, \"subplot\": \"mapbox\", \"type\": \"scattermapbox\"}, {\"hovertemplate\": \"Customers=University 338<br>Invoice Amount=%{marker.size}<br>Lat=%{lat}<br>Long=%{lon}<extra></extra>\", \"lat\": [41.906231], \"legendgroup\": \"University 338\", \"lon\": [-93.154445], \"marker\": {\"color\": \"#19d3f3\", \"size\": [2100.0], \"sizemode\": \"area\", \"sizeref\": 347.5}, \"mode\": \"markers\", \"name\": \"University 338\", \"showlegend\": true, \"subplot\": \"mapbox\", \"type\": \"scattermapbox\"}, {\"hovertemplate\": \"Customers=University 339<br>Invoice Amount=%{marker.size}<br>Lat=%{lat}<br>Long=%{lon}<extra></extra>\", \"lat\": [33.826229], \"legendgroup\": \"University 339\", \"lon\": [-93.961022], \"marker\": {\"color\": \"#FF6692\", \"size\": [625.0], \"sizemode\": \"area\", \"sizeref\": 347.5}, \"mode\": \"markers\", \"name\": \"University 339\", \"showlegend\": true, \"subplot\": \"mapbox\", \"type\": \"scattermapbox\"}, {\"hovertemplate\": \"Customers=University 34<br>Invoice Amount=%{marker.size}<br>Lat=%{lat}<br>Long=%{lon}<extra></extra>\", \"lat\": [39.509498], \"legendgroup\": \"University 34\", \"lon\": [-84.734465], \"marker\": {\"color\": \"#B6E880\", \"size\": [750.0], \"sizemode\": \"area\", \"sizeref\": 347.5}, \"mode\": \"markers\", \"name\": \"University 34\", \"showlegend\": true, \"subplot\": \"mapbox\", \"type\": \"scattermapbox\"}, {\"hovertemplate\": \"Customers=University 340<br>Invoice Amount=%{marker.size}<br>Lat=%{lat}<br>Long=%{lon}<extra></extra>\", \"lat\": [36.809796], \"legendgroup\": \"University 340\", \"lon\": [-84.708275], \"marker\": {\"color\": \"#FF97FF\", \"size\": [4500.0], \"sizemode\": \"area\", \"sizeref\": 347.5}, \"mode\": \"markers\", \"name\": \"University 340\", \"showlegend\": true, \"subplot\": \"mapbox\", \"type\": \"scattermapbox\"}, {\"hovertemplate\": \"Customers=University 341<br>Invoice Amount=%{marker.size}<br>Lat=%{lat}<br>Long=%{lon}<extra></extra>\", \"lat\": [0.0], \"legendgroup\": \"University 341\", \"lon\": [0.0], \"marker\": {\"color\": \"#FECB52\", \"size\": [1825.0], \"sizemode\": \"area\", \"sizeref\": 347.5}, \"mode\": \"markers\", \"name\": \"University 341\", \"showlegend\": true, \"subplot\": \"mapbox\", \"type\": \"scattermapbox\"}, {\"hovertemplate\": \"Customers=University 342<br>Invoice Amount=%{marker.size}<br>Lat=%{lat}<br>Long=%{lon}<extra></extra>\", \"lat\": [48.124594], \"legendgroup\": \"University 342\", \"lon\": [-117.762554], \"marker\": {\"color\": \"#636efa\", \"size\": [3700.0], \"sizemode\": \"area\", \"sizeref\": 347.5}, \"mode\": \"markers\", \"name\": \"University 342\", \"showlegend\": true, \"subplot\": \"mapbox\", \"type\": \"scattermapbox\"}, {\"hovertemplate\": \"Customers=University 343<br>Invoice Amount=%{marker.size}<br>Lat=%{lat}<br>Long=%{lon}<extra></extra>\", \"lat\": [56.124], \"legendgroup\": \"University 343\", \"lon\": [-164.82645], \"marker\": {\"color\": \"#EF553B\", \"size\": [1500.0], \"sizemode\": \"area\", \"sizeref\": 347.5}, \"mode\": \"markers\", \"name\": \"University 343\", \"showlegend\": true, \"subplot\": \"mapbox\", \"type\": \"scattermapbox\"}, {\"hovertemplate\": \"Customers=University 344<br>Invoice Amount=%{marker.size}<br>Lat=%{lat}<br>Long=%{lon}<extra></extra>\", \"lat\": [43.212556], \"legendgroup\": \"University 344\", \"lon\": [-78.82587099999998], \"marker\": {\"color\": \"#00cc96\", \"size\": [1976.3], \"sizemode\": \"area\", \"sizeref\": 347.5}, \"mode\": \"markers\", \"name\": \"University 344\", \"showlegend\": true, \"subplot\": \"mapbox\", \"type\": \"scattermapbox\"}, {\"hovertemplate\": \"Customers=University 345<br>Invoice Amount=%{marker.size}<br>Lat=%{lat}<br>Long=%{lon}<extra></extra>\", \"lat\": [0.0], \"legendgroup\": \"University 345\", \"lon\": [0.0], \"marker\": {\"color\": \"#ab63fa\", \"size\": [6000.0], \"sizemode\": \"area\", \"sizeref\": 347.5}, \"mode\": \"markers\", \"name\": \"University 345\", \"showlegend\": true, \"subplot\": \"mapbox\", \"type\": \"scattermapbox\"}, {\"hovertemplate\": \"Customers=University 346<br>Invoice Amount=%{marker.size}<br>Lat=%{lat}<br>Long=%{lon}<extra></extra>\", \"lat\": [0.0], \"legendgroup\": \"University 346\", \"lon\": [0.0], \"marker\": {\"color\": \"#FFA15A\", \"size\": [1976.3], \"sizemode\": \"area\", \"sizeref\": 347.5}, \"mode\": \"markers\", \"name\": \"University 346\", \"showlegend\": true, \"subplot\": \"mapbox\", \"type\": \"scattermapbox\"}, {\"hovertemplate\": \"Customers=University 347<br>Invoice Amount=%{marker.size}<br>Lat=%{lat}<br>Long=%{lon}<extra></extra>\", \"lat\": [44.73663], \"legendgroup\": \"University 347\", \"lon\": [-72.199084], \"marker\": {\"color\": \"#19d3f3\", \"size\": [2300.0], \"sizemode\": \"area\", \"sizeref\": 347.5}, \"mode\": \"markers\", \"name\": \"University 347\", \"showlegend\": true, \"subplot\": \"mapbox\", \"type\": \"scattermapbox\"}, {\"hovertemplate\": \"Customers=University 348<br>Invoice Amount=%{marker.size}<br>Lat=%{lat}<br>Long=%{lon}<extra></extra>\", \"lat\": [46.814054], \"legendgroup\": \"University 348\", \"lon\": [-92.087367], \"marker\": {\"color\": \"#FF6692\", \"size\": [5090.0], \"sizemode\": \"area\", \"sizeref\": 347.5}, \"mode\": \"markers\", \"name\": \"University 348\", \"showlegend\": true, \"subplot\": \"mapbox\", \"type\": \"scattermapbox\"}, {\"hovertemplate\": \"Customers=University 349<br>Invoice Amount=%{marker.size}<br>Lat=%{lat}<br>Long=%{lon}<extra></extra>\", \"lat\": [28.062], \"legendgroup\": \"University 349\", \"lon\": [-82.413225], \"marker\": {\"color\": \"#B6E880\", \"size\": [2000.0], \"sizemode\": \"area\", \"sizeref\": 347.5}, \"mode\": \"markers\", \"name\": \"University 349\", \"showlegend\": true, \"subplot\": \"mapbox\", \"type\": \"scattermapbox\"}, {\"hovertemplate\": \"Customers=University 35<br>Invoice Amount=%{marker.size}<br>Lat=%{lat}<br>Long=%{lon}<extra></extra>\", \"lat\": [67.31345400000001], \"legendgroup\": \"University 35\", \"lon\": [-235.65017999999998], \"marker\": {\"color\": \"#FF97FF\", \"size\": [5050.0], \"sizemode\": \"area\", \"sizeref\": 347.5}, \"mode\": \"markers\", \"name\": \"University 35\", \"showlegend\": true, \"subplot\": \"mapbox\", \"type\": \"scattermapbox\"}, {\"hovertemplate\": \"Customers=University 350<br>Invoice Amount=%{marker.size}<br>Lat=%{lat}<br>Long=%{lon}<extra></extra>\", \"lat\": [28.062], \"legendgroup\": \"University 350\", \"lon\": [-82.413225], \"marker\": {\"color\": \"#FECB52\", \"size\": [800.0], \"sizemode\": \"area\", \"sizeref\": 347.5}, \"mode\": \"markers\", \"name\": \"University 350\", \"showlegend\": true, \"subplot\": \"mapbox\", \"type\": \"scattermapbox\"}, {\"hovertemplate\": \"Customers=University 351<br>Invoice Amount=%{marker.size}<br>Lat=%{lat}<br>Long=%{lon}<extra></extra>\", \"lat\": [40.10789000000001], \"legendgroup\": \"University 351\", \"lon\": [-88.24426600000002], \"marker\": {\"color\": \"#636efa\", \"size\": [2480.0], \"sizemode\": \"area\", \"sizeref\": 347.5}, \"mode\": \"markers\", \"name\": \"University 351\", \"showlegend\": true, \"subplot\": \"mapbox\", \"type\": \"scattermapbox\"}, {\"hovertemplate\": \"Customers=University 352<br>Invoice Amount=%{marker.size}<br>Lat=%{lat}<br>Long=%{lon}<extra></extra>\", \"lat\": [28.062], \"legendgroup\": \"University 352\", \"lon\": [-82.413225], \"marker\": {\"color\": \"#EF553B\", \"size\": [625.0], \"sizemode\": \"area\", \"sizeref\": 347.5}, \"mode\": \"markers\", \"name\": \"University 352\", \"showlegend\": true, \"subplot\": \"mapbox\", \"type\": \"scattermapbox\"}, {\"hovertemplate\": \"Customers=University 353<br>Invoice Amount=%{marker.size}<br>Lat=%{lat}<br>Long=%{lon}<extra></extra>\", \"lat\": [35.29838], \"legendgroup\": \"University 353\", \"lon\": [-105.392788], \"marker\": {\"color\": \"#00cc96\", \"size\": [1250.0], \"sizemode\": \"area\", \"sizeref\": 347.5}, \"mode\": \"markers\", \"name\": \"University 353\", \"showlegend\": true, \"subplot\": \"mapbox\", \"type\": \"scattermapbox\"}, {\"hovertemplate\": \"Customers=University 354<br>Invoice Amount=%{marker.size}<br>Lat=%{lat}<br>Long=%{lon}<extra></extra>\", \"lat\": [40.114729], \"legendgroup\": \"University 354\", \"lon\": [-84.493439], \"marker\": {\"color\": \"#ab63fa\", \"size\": [2000.0], \"sizemode\": \"area\", \"sizeref\": 347.5}, \"mode\": \"markers\", \"name\": \"University 354\", \"showlegend\": true, \"subplot\": \"mapbox\", \"type\": \"scattermapbox\"}, {\"hovertemplate\": \"Customers=University 355<br>Invoice Amount=%{marker.size}<br>Lat=%{lat}<br>Long=%{lon}<extra></extra>\", \"lat\": [44.796635], \"legendgroup\": \"University 355\", \"lon\": [-91.506154], \"marker\": {\"color\": \"#FFA15A\", \"size\": [4650.0], \"sizemode\": \"area\", \"sizeref\": 347.5}, \"mode\": \"markers\", \"name\": \"University 355\", \"showlegend\": true, \"subplot\": \"mapbox\", \"type\": \"scattermapbox\"}, {\"hovertemplate\": \"Customers=University 356<br>Invoice Amount=%{marker.size}<br>Lat=%{lat}<br>Long=%{lon}<extra></extra>\", \"lat\": [37.86923400000001], \"legendgroup\": \"University 356\", \"lon\": [-122.289657], \"marker\": {\"color\": \"#19d3f3\", \"size\": [875.0], \"sizemode\": \"area\", \"sizeref\": 347.5}, \"mode\": \"markers\", \"name\": \"University 356\", \"showlegend\": true, \"subplot\": \"mapbox\", \"type\": \"scattermapbox\"}, {\"hovertemplate\": \"Customers=University 357<br>Invoice Amount=%{marker.size}<br>Lat=%{lat}<br>Long=%{lon}<extra></extra>\", \"lat\": [28.062], \"legendgroup\": \"University 357\", \"lon\": [-82.413225], \"marker\": {\"color\": \"#FF6692\", \"size\": [587.0], \"sizemode\": \"area\", \"sizeref\": 347.5}, \"mode\": \"markers\", \"name\": \"University 357\", \"showlegend\": true, \"subplot\": \"mapbox\", \"type\": \"scattermapbox\"}, {\"hovertemplate\": \"Customers=University 358<br>Invoice Amount=%{marker.size}<br>Lat=%{lat}<br>Long=%{lon}<extra></extra>\", \"lat\": [0.0], \"legendgroup\": \"University 358\", \"lon\": [0.0], \"marker\": {\"color\": \"#B6E880\", \"size\": [375.0], \"sizemode\": \"area\", \"sizeref\": 347.5}, \"mode\": \"markers\", \"name\": \"University 358\", \"showlegend\": true, \"subplot\": \"mapbox\", \"type\": \"scattermapbox\"}, {\"hovertemplate\": \"Customers=University 359<br>Invoice Amount=%{marker.size}<br>Lat=%{lat}<br>Long=%{lon}<extra></extra>\", \"lat\": [41.21479], \"legendgroup\": \"University 359\", \"lon\": [-79.38532], \"marker\": {\"color\": \"#FF97FF\", \"size\": [4500.0], \"sizemode\": \"area\", \"sizeref\": 347.5}, \"mode\": \"markers\", \"name\": \"University 359\", \"showlegend\": true, \"subplot\": \"mapbox\", \"type\": \"scattermapbox\"}, {\"hovertemplate\": \"Customers=University 36<br>Invoice Amount=%{marker.size}<br>Lat=%{lat}<br>Long=%{lon}<extra></extra>\", \"lat\": [185.287291], \"legendgroup\": \"University 36\", \"lon\": [-571.228832], \"marker\": {\"color\": \"#FECB52\", \"size\": [13500.0], \"sizemode\": \"area\", \"sizeref\": 347.5}, \"mode\": \"markers\", \"name\": \"University 36\", \"showlegend\": true, \"subplot\": \"mapbox\", \"type\": \"scattermapbox\"}, {\"hovertemplate\": \"Customers=University 360<br>Invoice Amount=%{marker.size}<br>Lat=%{lat}<br>Long=%{lon}<extra></extra>\", \"lat\": [40.43448400000001], \"legendgroup\": \"University 360\", \"lon\": [-91.776], \"marker\": {\"color\": \"#636efa\", \"size\": [3000.0], \"sizemode\": \"area\", \"sizeref\": 347.5}, \"mode\": \"markers\", \"name\": \"University 360\", \"showlegend\": true, \"subplot\": \"mapbox\", \"type\": \"scattermapbox\"}, {\"hovertemplate\": \"Customers=University 361<br>Invoice Amount=%{marker.size}<br>Lat=%{lat}<br>Long=%{lon}<extra></extra>\", \"lat\": [42.170731], \"legendgroup\": \"University 361\", \"lon\": [-72.604842], \"marker\": {\"color\": \"#EF553B\", \"size\": [625.0], \"sizemode\": \"area\", \"sizeref\": 347.5}, \"mode\": \"markers\", \"name\": \"University 361\", \"showlegend\": true, \"subplot\": \"mapbox\", \"type\": \"scattermapbox\"}, {\"hovertemplate\": \"Customers=University 362<br>Invoice Amount=%{marker.size}<br>Lat=%{lat}<br>Long=%{lon}<extra></extra>\", \"lat\": [41.87272], \"legendgroup\": \"University 362\", \"lon\": [-88.112442], \"marker\": {\"color\": \"#00cc96\", \"size\": [512.5], \"sizemode\": \"area\", \"sizeref\": 347.5}, \"mode\": \"markers\", \"name\": \"University 362\", \"showlegend\": true, \"subplot\": \"mapbox\", \"type\": \"scattermapbox\"}, {\"hovertemplate\": \"Customers=University 363<br>Invoice Amount=%{marker.size}<br>Lat=%{lat}<br>Long=%{lon}<extra></extra>\", \"lat\": [30.73851], \"legendgroup\": \"University 363\", \"lon\": [-99.11144], \"marker\": {\"color\": \"#ab63fa\", \"size\": [500.0], \"sizemode\": \"area\", \"sizeref\": 347.5}, \"mode\": \"markers\", \"name\": \"University 363\", \"showlegend\": true, \"subplot\": \"mapbox\", \"type\": \"scattermapbox\"}, {\"hovertemplate\": \"Customers=University 364<br>Invoice Amount=%{marker.size}<br>Lat=%{lat}<br>Long=%{lon}<extra></extra>\", \"lat\": [0.0], \"legendgroup\": \"University 364\", \"lon\": [0.0], \"marker\": {\"color\": \"#FFA15A\", \"size\": [500.0], \"sizemode\": \"area\", \"sizeref\": 347.5}, \"mode\": \"markers\", \"name\": \"University 364\", \"showlegend\": true, \"subplot\": \"mapbox\", \"type\": \"scattermapbox\"}, {\"hovertemplate\": \"Customers=University 365<br>Invoice Amount=%{marker.size}<br>Lat=%{lat}<br>Long=%{lon}<extra></extra>\", \"lat\": [93.68405600000001], \"legendgroup\": \"University 365\", \"lon\": [-193.471126], \"marker\": {\"color\": \"#19d3f3\", \"size\": [3100.0], \"sizemode\": \"area\", \"sizeref\": 347.5}, \"mode\": \"markers\", \"name\": \"University 365\", \"showlegend\": true, \"subplot\": \"mapbox\", \"type\": \"scattermapbox\"}, {\"hovertemplate\": \"Customers=University 366<br>Invoice Amount=%{marker.size}<br>Lat=%{lat}<br>Long=%{lon}<extra></extra>\", \"lat\": [28.062], \"legendgroup\": \"University 366\", \"lon\": [-82.413225], \"marker\": {\"color\": \"#FF6692\", \"size\": [391.0], \"sizemode\": \"area\", \"sizeref\": 347.5}, \"mode\": \"markers\", \"name\": \"University 366\", \"showlegend\": true, \"subplot\": \"mapbox\", \"type\": \"scattermapbox\"}, {\"hovertemplate\": \"Customers=University 367<br>Invoice Amount=%{marker.size}<br>Lat=%{lat}<br>Long=%{lon}<extra></extra>\", \"lat\": [0.0], \"legendgroup\": \"University 367\", \"lon\": [0.0], \"marker\": {\"color\": \"#B6E880\", \"size\": [4350.0], \"sizemode\": \"area\", \"sizeref\": 347.5}, \"mode\": \"markers\", \"name\": \"University 367\", \"showlegend\": true, \"subplot\": \"mapbox\", \"type\": \"scattermapbox\"}, {\"hovertemplate\": \"Customers=University 368<br>Invoice Amount=%{marker.size}<br>Lat=%{lat}<br>Long=%{lon}<extra></extra>\", \"lat\": [45.408173], \"legendgroup\": \"University 368\", \"lon\": [-122.922323], \"marker\": {\"color\": \"#FF97FF\", \"size\": [1840.0], \"sizemode\": \"area\", \"sizeref\": 347.5}, \"mode\": \"markers\", \"name\": \"University 368\", \"showlegend\": true, \"subplot\": \"mapbox\", \"type\": \"scattermapbox\"}, {\"hovertemplate\": \"Customers=University 369<br>Invoice Amount=%{marker.size}<br>Lat=%{lat}<br>Long=%{lon}<extra></extra>\", \"lat\": [0.0], \"legendgroup\": \"University 369\", \"lon\": [0.0], \"marker\": {\"color\": \"#FECB52\", \"size\": [700.0], \"sizemode\": \"area\", \"sizeref\": 347.5}, \"mode\": \"markers\", \"name\": \"University 369\", \"showlegend\": true, \"subplot\": \"mapbox\", \"type\": \"scattermapbox\"}, {\"hovertemplate\": \"Customers=University 37<br>Invoice Amount=%{marker.size}<br>Lat=%{lat}<br>Long=%{lon}<extra></extra>\", \"lat\": [39.65839], \"legendgroup\": \"University 37\", \"lon\": [-75.717762], \"marker\": {\"color\": \"#636efa\", \"size\": [3500.0], \"sizemode\": \"area\", \"sizeref\": 347.5}, \"mode\": \"markers\", \"name\": \"University 37\", \"showlegend\": true, \"subplot\": \"mapbox\", \"type\": \"scattermapbox\"}, {\"hovertemplate\": \"Customers=University 370<br>Invoice Amount=%{marker.size}<br>Lat=%{lat}<br>Long=%{lon}<extra></extra>\", \"lat\": [0.0], \"legendgroup\": \"University 370\", \"lon\": [0.0], \"marker\": {\"color\": \"#EF553B\", \"size\": [4250.0], \"sizemode\": \"area\", \"sizeref\": 347.5}, \"mode\": \"markers\", \"name\": \"University 370\", \"showlegend\": true, \"subplot\": \"mapbox\", \"type\": \"scattermapbox\"}, {\"hovertemplate\": \"Customers=University 371<br>Invoice Amount=%{marker.size}<br>Lat=%{lat}<br>Long=%{lon}<extra></extra>\", \"lat\": [30.24171], \"legendgroup\": \"University 371\", \"lon\": [-91.991044], \"marker\": {\"color\": \"#00cc96\", \"size\": [875.0], \"sizemode\": \"area\", \"sizeref\": 347.5}, \"mode\": \"markers\", \"name\": \"University 371\", \"showlegend\": true, \"subplot\": \"mapbox\", \"type\": \"scattermapbox\"}, {\"hovertemplate\": \"Customers=University 372<br>Invoice Amount=%{marker.size}<br>Lat=%{lat}<br>Long=%{lon}<extra></extra>\", \"lat\": [35.53971], \"legendgroup\": \"University 372\", \"lon\": [-79.130864], \"marker\": {\"color\": \"#ab63fa\", \"size\": [2000.0], \"sizemode\": \"area\", \"sizeref\": 347.5}, \"mode\": \"markers\", \"name\": \"University 372\", \"showlegend\": true, \"subplot\": \"mapbox\", \"type\": \"scattermapbox\"}, {\"hovertemplate\": \"Customers=University 373<br>Invoice Amount=%{marker.size}<br>Lat=%{lat}<br>Long=%{lon}<extra></extra>\", \"lat\": [32.283341], \"legendgroup\": \"University 373\", \"lon\": [-95.263047], \"marker\": {\"color\": \"#FFA15A\", \"size\": [355.0], \"sizemode\": \"area\", \"sizeref\": 347.5}, \"mode\": \"markers\", \"name\": \"University 373\", \"showlegend\": true, \"subplot\": \"mapbox\", \"type\": \"scattermapbox\"}, {\"hovertemplate\": \"Customers=University 374<br>Invoice Amount=%{marker.size}<br>Lat=%{lat}<br>Long=%{lon}<extra></extra>\", \"lat\": [0.0], \"legendgroup\": \"University 374\", \"lon\": [0.0], \"marker\": {\"color\": \"#19d3f3\", \"size\": [1750.0], \"sizemode\": \"area\", \"sizeref\": 347.5}, \"mode\": \"markers\", \"name\": \"University 374\", \"showlegend\": true, \"subplot\": \"mapbox\", \"type\": \"scattermapbox\"}, {\"hovertemplate\": \"Customers=University 375<br>Invoice Amount=%{marker.size}<br>Lat=%{lat}<br>Long=%{lon}<extra></extra>\", \"lat\": [45.558622], \"legendgroup\": \"University 375\", \"lon\": [-84.391695], \"marker\": {\"color\": \"#FF6692\", \"size\": [2750.0], \"sizemode\": \"area\", \"sizeref\": 347.5}, \"mode\": \"markers\", \"name\": \"University 375\", \"showlegend\": true, \"subplot\": \"mapbox\", \"type\": \"scattermapbox\"}, {\"hovertemplate\": \"Customers=University 376<br>Invoice Amount=%{marker.size}<br>Lat=%{lat}<br>Long=%{lon}<extra></extra>\", \"lat\": [0.0], \"legendgroup\": \"University 376\", \"lon\": [0.0], \"marker\": {\"color\": \"#B6E880\", \"size\": [500.0], \"sizemode\": \"area\", \"sizeref\": 347.5}, \"mode\": \"markers\", \"name\": \"University 376\", \"showlegend\": true, \"subplot\": \"mapbox\", \"type\": \"scattermapbox\"}, {\"hovertemplate\": \"Customers=University 377<br>Invoice Amount=%{marker.size}<br>Lat=%{lat}<br>Long=%{lon}<extra></extra>\", \"lat\": [77.940776], \"legendgroup\": \"University 377\", \"lon\": [-153.883838], \"marker\": {\"color\": \"#FF97FF\", \"size\": [4000.0], \"sizemode\": \"area\", \"sizeref\": 347.5}, \"mode\": \"markers\", \"name\": \"University 377\", \"showlegend\": true, \"subplot\": \"mapbox\", \"type\": \"scattermapbox\"}, {\"hovertemplate\": \"Customers=University 378<br>Invoice Amount=%{marker.size}<br>Lat=%{lat}<br>Long=%{lon}<extra></extra>\", \"lat\": [89.604702], \"legendgroup\": \"University 378\", \"lon\": [-185.19073], \"marker\": {\"color\": \"#FECB52\", \"size\": [2962.0], \"sizemode\": \"area\", \"sizeref\": 347.5}, \"mode\": \"markers\", \"name\": \"University 378\", \"showlegend\": true, \"subplot\": \"mapbox\", \"type\": \"scattermapbox\"}, {\"hovertemplate\": \"Customers=University 379<br>Invoice Amount=%{marker.size}<br>Lat=%{lat}<br>Long=%{lon}<extra></extra>\", \"lat\": [35.841039], \"legendgroup\": \"University 379\", \"lon\": [-90.675602], \"marker\": {\"color\": \"#636efa\", \"size\": [1270.0], \"sizemode\": \"area\", \"sizeref\": 347.5}, \"mode\": \"markers\", \"name\": \"University 379\", \"showlegend\": true, \"subplot\": \"mapbox\", \"type\": \"scattermapbox\"}, {\"hovertemplate\": \"Customers=University 38<br>Invoice Amount=%{marker.size}<br>Lat=%{lat}<br>Long=%{lon}<extra></extra>\", \"lat\": [177.668881], \"legendgroup\": \"University 38\", \"lon\": [-429.814312], \"marker\": {\"color\": \"#EF553B\", \"size\": [9000.0], \"sizemode\": \"area\", \"sizeref\": 347.5}, \"mode\": \"markers\", \"name\": \"University 38\", \"showlegend\": true, \"subplot\": \"mapbox\", \"type\": \"scattermapbox\"}, {\"hovertemplate\": \"Customers=University 380<br>Invoice Amount=%{marker.size}<br>Lat=%{lat}<br>Long=%{lon}<extra></extra>\", \"lat\": [34.173057], \"legendgroup\": \"University 380\", \"lon\": [-90.136429], \"marker\": {\"color\": \"#00cc96\", \"size\": [2500.0], \"sizemode\": \"area\", \"sizeref\": 347.5}, \"mode\": \"markers\", \"name\": \"University 380\", \"showlegend\": true, \"subplot\": \"mapbox\", \"type\": \"scattermapbox\"}, {\"hovertemplate\": \"Customers=University 381<br>Invoice Amount=%{marker.size}<br>Lat=%{lat}<br>Long=%{lon}<extra></extra>\", \"lat\": [0.0], \"legendgroup\": \"University 381\", \"lon\": [0.0], \"marker\": {\"color\": \"#ab63fa\", \"size\": [875.0], \"sizemode\": \"area\", \"sizeref\": 347.5}, \"mode\": \"markers\", \"name\": \"University 381\", \"showlegend\": true, \"subplot\": \"mapbox\", \"type\": \"scattermapbox\"}, {\"hovertemplate\": \"Customers=University 382<br>Invoice Amount=%{marker.size}<br>Lat=%{lat}<br>Long=%{lon}<extra></extra>\", \"lat\": [0.0], \"legendgroup\": \"University 382\", \"lon\": [0.0], \"marker\": {\"color\": \"#FFA15A\", \"size\": [7500.0], \"sizemode\": \"area\", \"sizeref\": 347.5}, \"mode\": \"markers\", \"name\": \"University 382\", \"showlegend\": true, \"subplot\": \"mapbox\", \"type\": \"scattermapbox\"}, {\"hovertemplate\": \"Customers=University 383<br>Invoice Amount=%{marker.size}<br>Lat=%{lat}<br>Long=%{lon}<extra></extra>\", \"lat\": [0.0], \"legendgroup\": \"University 383\", \"lon\": [0.0], \"marker\": {\"color\": \"#19d3f3\", \"size\": [2250.0], \"sizemode\": \"area\", \"sizeref\": 347.5}, \"mode\": \"markers\", \"name\": \"University 383\", \"showlegend\": true, \"subplot\": \"mapbox\", \"type\": \"scattermapbox\"}, {\"hovertemplate\": \"Customers=University 384<br>Invoice Amount=%{marker.size}<br>Lat=%{lat}<br>Long=%{lon}<extra></extra>\", \"lat\": [48.124594], \"legendgroup\": \"University 384\", \"lon\": [-117.762554], \"marker\": {\"color\": \"#FF6692\", \"size\": [1030.0], \"sizemode\": \"area\", \"sizeref\": 347.5}, \"mode\": \"markers\", \"name\": \"University 384\", \"showlegend\": true, \"subplot\": \"mapbox\", \"type\": \"scattermapbox\"}, {\"hovertemplate\": \"Customers=University 385<br>Invoice Amount=%{marker.size}<br>Lat=%{lat}<br>Long=%{lon}<extra></extra>\", \"lat\": [42.42282700000001], \"legendgroup\": \"University 385\", \"lon\": [-78.206289], \"marker\": {\"color\": \"#B6E880\", \"size\": [2500.0], \"sizemode\": \"area\", \"sizeref\": 347.5}, \"mode\": \"markers\", \"name\": \"University 385\", \"showlegend\": true, \"subplot\": \"mapbox\", \"type\": \"scattermapbox\"}, {\"hovertemplate\": \"Customers=University 386<br>Invoice Amount=%{marker.size}<br>Lat=%{lat}<br>Long=%{lon}<extra></extra>\", \"lat\": [0.0], \"legendgroup\": \"University 386\", \"lon\": [0.0], \"marker\": {\"color\": \"#FF97FF\", \"size\": [4500.0], \"sizemode\": \"area\", \"sizeref\": 347.5}, \"mode\": \"markers\", \"name\": \"University 386\", \"showlegend\": true, \"subplot\": \"mapbox\", \"type\": \"scattermapbox\"}, {\"hovertemplate\": \"Customers=University 387<br>Invoice Amount=%{marker.size}<br>Lat=%{lat}<br>Long=%{lon}<extra></extra>\", \"lat\": [33.826229], \"legendgroup\": \"University 387\", \"lon\": [-93.961022], \"marker\": {\"color\": \"#FECB52\", \"size\": [125.0], \"sizemode\": \"area\", \"sizeref\": 347.5}, \"mode\": \"markers\", \"name\": \"University 387\", \"showlegend\": true, \"subplot\": \"mapbox\", \"type\": \"scattermapbox\"}, {\"hovertemplate\": \"Customers=University 388<br>Invoice Amount=%{marker.size}<br>Lat=%{lat}<br>Long=%{lon}<extra></extra>\", \"lat\": [35.841039], \"legendgroup\": \"University 388\", \"lon\": [-90.675602], \"marker\": {\"color\": \"#636efa\", \"size\": [3250.0], \"sizemode\": \"area\", \"sizeref\": 347.5}, \"mode\": \"markers\", \"name\": \"University 388\", \"showlegend\": true, \"subplot\": \"mapbox\", \"type\": \"scattermapbox\"}, {\"hovertemplate\": \"Customers=University 389<br>Invoice Amount=%{marker.size}<br>Lat=%{lat}<br>Long=%{lon}<extra></extra>\", \"lat\": [0.0], \"legendgroup\": \"University 389\", \"lon\": [0.0], \"marker\": {\"color\": \"#EF553B\", \"size\": [2125.0], \"sizemode\": \"area\", \"sizeref\": 347.5}, \"mode\": \"markers\", \"name\": \"University 389\", \"showlegend\": true, \"subplot\": \"mapbox\", \"type\": \"scattermapbox\"}, {\"hovertemplate\": \"Customers=University 39<br>Invoice Amount=%{marker.size}<br>Lat=%{lat}<br>Long=%{lon}<extra></extra>\", \"lat\": [141.556325], \"legendgroup\": \"University 39\", \"lon\": [-356.60871199999997], \"marker\": {\"color\": \"#00cc96\", \"size\": [8600.0], \"sizemode\": \"area\", \"sizeref\": 347.5}, \"mode\": \"markers\", \"name\": \"University 39\", \"showlegend\": true, \"subplot\": \"mapbox\", \"type\": \"scattermapbox\"}, {\"hovertemplate\": \"Customers=University 390<br>Invoice Amount=%{marker.size}<br>Lat=%{lat}<br>Long=%{lon}<extra></extra>\", \"lat\": [35.841039], \"legendgroup\": \"University 390\", \"lon\": [-90.675602], \"marker\": {\"color\": \"#ab63fa\", \"size\": [2500.0], \"sizemode\": \"area\", \"sizeref\": 347.5}, \"mode\": \"markers\", \"name\": \"University 390\", \"showlegend\": true, \"subplot\": \"mapbox\", \"type\": \"scattermapbox\"}, {\"hovertemplate\": \"Customers=University 391<br>Invoice Amount=%{marker.size}<br>Lat=%{lat}<br>Long=%{lon}<extra></extra>\", \"lat\": [0.0], \"legendgroup\": \"University 391\", \"lon\": [0.0], \"marker\": {\"color\": \"#FFA15A\", \"size\": [1575.0], \"sizemode\": \"area\", \"sizeref\": 347.5}, \"mode\": \"markers\", \"name\": \"University 391\", \"showlegend\": true, \"subplot\": \"mapbox\", \"type\": \"scattermapbox\"}, {\"hovertemplate\": \"Customers=University 392<br>Invoice Amount=%{marker.size}<br>Lat=%{lat}<br>Long=%{lon}<extra></extra>\", \"lat\": [38.380263], \"legendgroup\": \"University 392\", \"lon\": [-81.76714100000002], \"marker\": {\"color\": \"#19d3f3\", \"size\": [800.0], \"sizemode\": \"area\", \"sizeref\": 347.5}, \"mode\": \"markers\", \"name\": \"University 392\", \"showlegend\": true, \"subplot\": \"mapbox\", \"type\": \"scattermapbox\"}, {\"hovertemplate\": \"Customers=University 393<br>Invoice Amount=%{marker.size}<br>Lat=%{lat}<br>Long=%{lon}<extra></extra>\", \"lat\": [39.591282], \"legendgroup\": \"University 393\", \"lon\": [-87.113196], \"marker\": {\"color\": \"#FF6692\", \"size\": [2250.0], \"sizemode\": \"area\", \"sizeref\": 347.5}, \"mode\": \"markers\", \"name\": \"University 393\", \"showlegend\": true, \"subplot\": \"mapbox\", \"type\": \"scattermapbox\"}, {\"hovertemplate\": \"Customers=University 394<br>Invoice Amount=%{marker.size}<br>Lat=%{lat}<br>Long=%{lon}<extra></extra>\", \"lat\": [39.330076], \"legendgroup\": \"University 394\", \"lon\": [-76.61240500000002], \"marker\": {\"color\": \"#B6E880\", \"size\": [2500.0], \"sizemode\": \"area\", \"sizeref\": 347.5}, \"mode\": \"markers\", \"name\": \"University 394\", \"showlegend\": true, \"subplot\": \"mapbox\", \"type\": \"scattermapbox\"}, {\"hovertemplate\": \"Customers=University 395<br>Invoice Amount=%{marker.size}<br>Lat=%{lat}<br>Long=%{lon}<extra></extra>\", \"lat\": [28.062], \"legendgroup\": \"University 395\", \"lon\": [-82.413225], \"marker\": {\"color\": \"#FF97FF\", \"size\": [3250.0], \"sizemode\": \"area\", \"sizeref\": 347.5}, \"mode\": \"markers\", \"name\": \"University 395\", \"showlegend\": true, \"subplot\": \"mapbox\", \"type\": \"scattermapbox\"}, {\"hovertemplate\": \"Customers=University 396<br>Invoice Amount=%{marker.size}<br>Lat=%{lat}<br>Long=%{lon}<extra></extra>\", \"lat\": [28.062], \"legendgroup\": \"University 396\", \"lon\": [-82.413225], \"marker\": {\"color\": \"#FECB52\", \"size\": [1250.0], \"sizemode\": \"area\", \"sizeref\": 347.5}, \"mode\": \"markers\", \"name\": \"University 396\", \"showlegend\": true, \"subplot\": \"mapbox\", \"type\": \"scattermapbox\"}, {\"hovertemplate\": \"Customers=University 397<br>Invoice Amount=%{marker.size}<br>Lat=%{lat}<br>Long=%{lon}<extra></extra>\", \"lat\": [0.0], \"legendgroup\": \"University 397\", \"lon\": [0.0], \"marker\": {\"color\": \"#636efa\", \"size\": [3000.0], \"sizemode\": \"area\", \"sizeref\": 347.5}, \"mode\": \"markers\", \"name\": \"University 397\", \"showlegend\": true, \"subplot\": \"mapbox\", \"type\": \"scattermapbox\"}, {\"hovertemplate\": \"Customers=University 398<br>Invoice Amount=%{marker.size}<br>Lat=%{lat}<br>Long=%{lon}<extra></extra>\", \"lat\": [48.124594], \"legendgroup\": \"University 398\", \"lon\": [-117.762554], \"marker\": {\"color\": \"#EF553B\", \"size\": [400.0], \"sizemode\": \"area\", \"sizeref\": 347.5}, \"mode\": \"markers\", \"name\": \"University 398\", \"showlegend\": true, \"subplot\": \"mapbox\", \"type\": \"scattermapbox\"}, {\"hovertemplate\": \"Customers=University 399<br>Invoice Amount=%{marker.size}<br>Lat=%{lat}<br>Long=%{lon}<extra></extra>\", \"lat\": [38.978405], \"legendgroup\": \"University 399\", \"lon\": [-79.94941700000003], \"marker\": {\"color\": \"#00cc96\", \"size\": [1500.0], \"sizemode\": \"area\", \"sizeref\": 347.5}, \"mode\": \"markers\", \"name\": \"University 399\", \"showlegend\": true, \"subplot\": \"mapbox\", \"type\": \"scattermapbox\"}, {\"hovertemplate\": \"Customers=University 4<br>Invoice Amount=%{marker.size}<br>Lat=%{lat}<br>Long=%{lon}<extra></extra>\", \"lat\": [44.66378], \"legendgroup\": \"University 4\", \"lon\": [-74.978409], \"marker\": {\"color\": \"#ab63fa\", \"size\": [6500.0], \"sizemode\": \"area\", \"sizeref\": 347.5}, \"mode\": \"markers\", \"name\": \"University 4\", \"showlegend\": true, \"subplot\": \"mapbox\", \"type\": \"scattermapbox\"}, {\"hovertemplate\": \"Customers=University 40<br>Invoice Amount=%{marker.size}<br>Lat=%{lat}<br>Long=%{lon}<extra></extra>\", \"lat\": [35.050377000000005], \"legendgroup\": \"University 40\", \"lon\": [-80.949466], \"marker\": {\"color\": \"#FFA15A\", \"size\": [750.0], \"sizemode\": \"area\", \"sizeref\": 347.5}, \"mode\": \"markers\", \"name\": \"University 40\", \"showlegend\": true, \"subplot\": \"mapbox\", \"type\": \"scattermapbox\"}, {\"hovertemplate\": \"Customers=University 400<br>Invoice Amount=%{marker.size}<br>Lat=%{lat}<br>Long=%{lon}<extra></extra>\", \"lat\": [129.41601], \"legendgroup\": \"University 400\", \"lon\": [-237.11679000000007], \"marker\": {\"color\": \"#19d3f3\", \"size\": [4210.0], \"sizemode\": \"area\", \"sizeref\": 347.5}, \"mode\": \"markers\", \"name\": \"University 400\", \"showlegend\": true, \"subplot\": \"mapbox\", \"type\": \"scattermapbox\"}, {\"hovertemplate\": \"Customers=University 401<br>Invoice Amount=%{marker.size}<br>Lat=%{lat}<br>Long=%{lon}<extra></extra>\", \"lat\": [42.31296], \"legendgroup\": \"University 401\", \"lon\": [-83.374549], \"marker\": {\"color\": \"#FF6692\", \"size\": [450.0], \"sizemode\": \"area\", \"sizeref\": 347.5}, \"mode\": \"markers\", \"name\": \"University 401\", \"showlegend\": true, \"subplot\": \"mapbox\", \"type\": \"scattermapbox\"}, {\"hovertemplate\": \"Customers=University 402<br>Invoice Amount=%{marker.size}<br>Lat=%{lat}<br>Long=%{lon}<extra></extra>\", \"lat\": [41.477816], \"legendgroup\": \"University 402\", \"lon\": [-87.683188], \"marker\": {\"color\": \"#B6E880\", \"size\": [8880.0], \"sizemode\": \"area\", \"sizeref\": 347.5}, \"mode\": \"markers\", \"name\": \"University 402\", \"showlegend\": true, \"subplot\": \"mapbox\", \"type\": \"scattermapbox\"}, {\"hovertemplate\": \"Customers=University 403<br>Invoice Amount=%{marker.size}<br>Lat=%{lat}<br>Long=%{lon}<extra></extra>\", \"lat\": [0.0], \"legendgroup\": \"University 403\", \"lon\": [0.0], \"marker\": {\"color\": \"#FF97FF\", \"size\": [200.0], \"sizemode\": \"area\", \"sizeref\": 347.5}, \"mode\": \"markers\", \"name\": \"University 403\", \"showlegend\": true, \"subplot\": \"mapbox\", \"type\": \"scattermapbox\"}, {\"hovertemplate\": \"Customers=University 404<br>Invoice Amount=%{marker.size}<br>Lat=%{lat}<br>Long=%{lon}<extra></extra>\", \"lat\": [37.765177], \"legendgroup\": \"University 404\", \"lon\": [-121.115411], \"marker\": {\"color\": \"#FECB52\", \"size\": [1900.0], \"sizemode\": \"area\", \"sizeref\": 347.5}, \"mode\": \"markers\", \"name\": \"University 404\", \"showlegend\": true, \"subplot\": \"mapbox\", \"type\": \"scattermapbox\"}, {\"hovertemplate\": \"Customers=University 405<br>Invoice Amount=%{marker.size}<br>Lat=%{lat}<br>Long=%{lon}<extra></extra>\", \"lat\": [47.666487], \"legendgroup\": \"University 405\", \"lon\": [-122.309849], \"marker\": {\"color\": \"#636efa\", \"size\": [700.0], \"sizemode\": \"area\", \"sizeref\": 347.5}, \"mode\": \"markers\", \"name\": \"University 405\", \"showlegend\": true, \"subplot\": \"mapbox\", \"type\": \"scattermapbox\"}, {\"hovertemplate\": \"Customers=University 406<br>Invoice Amount=%{marker.size}<br>Lat=%{lat}<br>Long=%{lon}<extra></extra>\", \"lat\": [35.841039], \"legendgroup\": \"University 406\", \"lon\": [-90.675602], \"marker\": {\"color\": \"#EF553B\", \"size\": [1625.0], \"sizemode\": \"area\", \"sizeref\": 347.5}, \"mode\": \"markers\", \"name\": \"University 406\", \"showlegend\": true, \"subplot\": \"mapbox\", \"type\": \"scattermapbox\"}, {\"hovertemplate\": \"Customers=University 407<br>Invoice Amount=%{marker.size}<br>Lat=%{lat}<br>Long=%{lon}<extra></extra>\", \"lat\": [40.905139], \"legendgroup\": \"University 407\", \"lon\": [-72.888349], \"marker\": {\"color\": \"#00cc96\", \"size\": [395.0], \"sizemode\": \"area\", \"sizeref\": 347.5}, \"mode\": \"markers\", \"name\": \"University 407\", \"showlegend\": true, \"subplot\": \"mapbox\", \"type\": \"scattermapbox\"}, {\"hovertemplate\": \"Customers=University 408<br>Invoice Amount=%{marker.size}<br>Lat=%{lat}<br>Long=%{lon}<extra></extra>\", \"lat\": [28.062], \"legendgroup\": \"University 408\", \"lon\": [-82.413225], \"marker\": {\"color\": \"#ab63fa\", \"size\": [500.0], \"sizemode\": \"area\", \"sizeref\": 347.5}, \"mode\": \"markers\", \"name\": \"University 408\", \"showlegend\": true, \"subplot\": \"mapbox\", \"type\": \"scattermapbox\"}, {\"hovertemplate\": \"Customers=University 409<br>Invoice Amount=%{marker.size}<br>Lat=%{lat}<br>Long=%{lon}<extra></extra>\", \"lat\": [0.0], \"legendgroup\": \"University 409\", \"lon\": [0.0], \"marker\": {\"color\": \"#FFA15A\", \"size\": [3250.0], \"sizemode\": \"area\", \"sizeref\": 347.5}, \"mode\": \"markers\", \"name\": \"University 409\", \"showlegend\": true, \"subplot\": \"mapbox\", \"type\": \"scattermapbox\"}, {\"hovertemplate\": \"Customers=University 41<br>Invoice Amount=%{marker.size}<br>Lat=%{lat}<br>Long=%{lon}<extra></extra>\", \"lat\": [26.384204], \"legendgroup\": \"University 41\", \"lon\": [-80.14575], \"marker\": {\"color\": \"#19d3f3\", \"size\": [750.0], \"sizemode\": \"area\", \"sizeref\": 347.5}, \"mode\": \"markers\", \"name\": \"University 41\", \"showlegend\": true, \"subplot\": \"mapbox\", \"type\": \"scattermapbox\"}, {\"hovertemplate\": \"Customers=University 410<br>Invoice Amount=%{marker.size}<br>Lat=%{lat}<br>Long=%{lon}<extra></extra>\", \"lat\": [0.0], \"legendgroup\": \"University 410\", \"lon\": [0.0], \"marker\": {\"color\": \"#FF6692\", \"size\": [21000.0], \"sizemode\": \"area\", \"sizeref\": 347.5}, \"mode\": \"markers\", \"name\": \"University 410\", \"showlegend\": true, \"subplot\": \"mapbox\", \"type\": \"scattermapbox\"}, {\"hovertemplate\": \"Customers=University 411<br>Invoice Amount=%{marker.size}<br>Lat=%{lat}<br>Long=%{lon}<extra></extra>\", \"lat\": [38.841819], \"legendgroup\": \"University 411\", \"lon\": [-89.877841], \"marker\": {\"color\": \"#B6E880\", \"size\": [4700.0], \"sizemode\": \"area\", \"sizeref\": 347.5}, \"mode\": \"markers\", \"name\": \"University 411\", \"showlegend\": true, \"subplot\": \"mapbox\", \"type\": \"scattermapbox\"}, {\"hovertemplate\": \"Customers=University 412<br>Invoice Amount=%{marker.size}<br>Lat=%{lat}<br>Long=%{lon}<extra></extra>\", \"lat\": [28.062], \"legendgroup\": \"University 412\", \"lon\": [-82.413225], \"marker\": {\"color\": \"#FF97FF\", \"size\": [1640.0], \"sizemode\": \"area\", \"sizeref\": 347.5}, \"mode\": \"markers\", \"name\": \"University 412\", \"showlegend\": true, \"subplot\": \"mapbox\", \"type\": \"scattermapbox\"}, {\"hovertemplate\": \"Customers=University 413<br>Invoice Amount=%{marker.size}<br>Lat=%{lat}<br>Long=%{lon}<extra></extra>\", \"lat\": [35.49426], \"legendgroup\": \"University 413\", \"lon\": [-95.30552], \"marker\": {\"color\": \"#FECB52\", \"size\": [4800.0], \"sizemode\": \"area\", \"sizeref\": 347.5}, \"mode\": \"markers\", \"name\": \"University 413\", \"showlegend\": true, \"subplot\": \"mapbox\", \"type\": \"scattermapbox\"}, {\"hovertemplate\": \"Customers=University 414<br>Invoice Amount=%{marker.size}<br>Lat=%{lat}<br>Long=%{lon}<extra></extra>\", \"lat\": [39.950948], \"legendgroup\": \"University 414\", \"lon\": [-105.159078], \"marker\": {\"color\": \"#636efa\", \"size\": [4500.0], \"sizemode\": \"area\", \"sizeref\": 347.5}, \"mode\": \"markers\", \"name\": \"University 414\", \"showlegend\": true, \"subplot\": \"mapbox\", \"type\": \"scattermapbox\"}, {\"hovertemplate\": \"Customers=University 415<br>Invoice Amount=%{marker.size}<br>Lat=%{lat}<br>Long=%{lon}<extra></extra>\", \"lat\": [0.0], \"legendgroup\": \"University 415\", \"lon\": [0.0], \"marker\": {\"color\": \"#EF553B\", \"size\": [540.0], \"sizemode\": \"area\", \"sizeref\": 347.5}, \"mode\": \"markers\", \"name\": \"University 415\", \"showlegend\": true, \"subplot\": \"mapbox\", \"type\": \"scattermapbox\"}, {\"hovertemplate\": \"Customers=University 416<br>Invoice Amount=%{marker.size}<br>Lat=%{lat}<br>Long=%{lon}<extra></extra>\", \"lat\": [0.0], \"legendgroup\": \"University 416\", \"lon\": [0.0], \"marker\": {\"color\": \"#00cc96\", \"size\": [16052.0], \"sizemode\": \"area\", \"sizeref\": 347.5}, \"mode\": \"markers\", \"name\": \"University 416\", \"showlegend\": true, \"subplot\": \"mapbox\", \"type\": \"scattermapbox\"}, {\"hovertemplate\": \"Customers=University 417<br>Invoice Amount=%{marker.size}<br>Lat=%{lat}<br>Long=%{lon}<extra></extra>\", \"lat\": [28.062], \"legendgroup\": \"University 417\", \"lon\": [-82.413225], \"marker\": {\"color\": \"#ab63fa\", \"size\": [425.0], \"sizemode\": \"area\", \"sizeref\": 347.5}, \"mode\": \"markers\", \"name\": \"University 417\", \"showlegend\": true, \"subplot\": \"mapbox\", \"type\": \"scattermapbox\"}, {\"hovertemplate\": \"Customers=University 418<br>Invoice Amount=%{marker.size}<br>Lat=%{lat}<br>Long=%{lon}<extra></extra>\", \"lat\": [0.0], \"legendgroup\": \"University 418\", \"lon\": [0.0], \"marker\": {\"color\": \"#FFA15A\", \"size\": [5000.0], \"sizemode\": \"area\", \"sizeref\": 347.5}, \"mode\": \"markers\", \"name\": \"University 418\", \"showlegend\": true, \"subplot\": \"mapbox\", \"type\": \"scattermapbox\"}, {\"hovertemplate\": \"Customers=University 419<br>Invoice Amount=%{marker.size}<br>Lat=%{lat}<br>Long=%{lon}<extra></extra>\", \"lat\": [35.841039], \"legendgroup\": \"University 419\", \"lon\": [-90.675602], \"marker\": {\"color\": \"#19d3f3\", \"size\": [562.0], \"sizemode\": \"area\", \"sizeref\": 347.5}, \"mode\": \"markers\", \"name\": \"University 419\", \"showlegend\": true, \"subplot\": \"mapbox\", \"type\": \"scattermapbox\"}, {\"hovertemplate\": \"Customers=University 42<br>Invoice Amount=%{marker.size}<br>Lat=%{lat}<br>Long=%{lon}<extra></extra>\", \"lat\": [124.870882], \"legendgroup\": \"University 42\", \"lon\": [-359.109636], \"marker\": {\"color\": \"#FF6692\", \"size\": [102000.0], \"sizemode\": \"area\", \"sizeref\": 347.5}, \"mode\": \"markers\", \"name\": \"University 42\", \"showlegend\": true, \"subplot\": \"mapbox\", \"type\": \"scattermapbox\"}, {\"hovertemplate\": \"Customers=University 420<br>Invoice Amount=%{marker.size}<br>Lat=%{lat}<br>Long=%{lon}<extra></extra>\", \"lat\": [48.630369], \"legendgroup\": \"University 420\", \"lon\": [-97.471056], \"marker\": {\"color\": \"#B6E880\", \"size\": [3366.0], \"sizemode\": \"area\", \"sizeref\": 347.5}, \"mode\": \"markers\", \"name\": \"University 420\", \"showlegend\": true, \"subplot\": \"mapbox\", \"type\": \"scattermapbox\"}, {\"hovertemplate\": \"Customers=University 421<br>Invoice Amount=%{marker.size}<br>Lat=%{lat}<br>Long=%{lon}<extra></extra>\", \"lat\": [35.691868], \"legendgroup\": \"University 421\", \"lon\": [-91.598917], \"marker\": {\"color\": \"#FF97FF\", \"size\": [26250.0], \"sizemode\": \"area\", \"sizeref\": 347.5}, \"mode\": \"markers\", \"name\": \"University 421\", \"showlegend\": true, \"subplot\": \"mapbox\", \"type\": \"scattermapbox\"}, {\"hovertemplate\": \"Customers=University 422<br>Invoice Amount=%{marker.size}<br>Lat=%{lat}<br>Long=%{lon}<extra></extra>\", \"lat\": [41.64025], \"legendgroup\": \"University 422\", \"lon\": [-104.16384], \"marker\": {\"color\": \"#FECB52\", \"size\": [500.0], \"sizemode\": \"area\", \"sizeref\": 347.5}, \"mode\": \"markers\", \"name\": \"University 422\", \"showlegend\": true, \"subplot\": \"mapbox\", \"type\": \"scattermapbox\"}, {\"hovertemplate\": \"Customers=University 423<br>Invoice Amount=%{marker.size}<br>Lat=%{lat}<br>Long=%{lon}<extra></extra>\", \"lat\": [29.468413], \"legendgroup\": \"University 423\", \"lon\": [-98.528889], \"marker\": {\"color\": \"#636efa\", \"size\": [2500.0], \"sizemode\": \"area\", \"sizeref\": 347.5}, \"mode\": \"markers\", \"name\": \"University 423\", \"showlegend\": true, \"subplot\": \"mapbox\", \"type\": \"scattermapbox\"}, {\"hovertemplate\": \"Customers=University 424<br>Invoice Amount=%{marker.size}<br>Lat=%{lat}<br>Long=%{lon}<extra></extra>\", \"lat\": [42.055136], \"legendgroup\": \"University 424\", \"lon\": [-71.081416], \"marker\": {\"color\": \"#EF553B\", \"size\": [1700.0], \"sizemode\": \"area\", \"sizeref\": 347.5}, \"mode\": \"markers\", \"name\": \"University 424\", \"showlegend\": true, \"subplot\": \"mapbox\", \"type\": \"scattermapbox\"}, {\"hovertemplate\": \"Customers=University 425<br>Invoice Amount=%{marker.size}<br>Lat=%{lat}<br>Long=%{lon}<extra></extra>\", \"lat\": [37.953672], \"legendgroup\": \"University 425\", \"lon\": [-122.022872], \"marker\": {\"color\": \"#00cc96\", \"size\": [2000.0], \"sizemode\": \"area\", \"sizeref\": 347.5}, \"mode\": \"markers\", \"name\": \"University 425\", \"showlegend\": true, \"subplot\": \"mapbox\", \"type\": \"scattermapbox\"}, {\"hovertemplate\": \"Customers=University 43<br>Invoice Amount=%{marker.size}<br>Lat=%{lat}<br>Long=%{lon}<extra></extra>\", \"lat\": [38.89583], \"legendgroup\": \"University 43\", \"lon\": [-77.009828], \"marker\": {\"color\": \"#ab63fa\", \"size\": [8000.0], \"sizemode\": \"area\", \"sizeref\": 347.5}, \"mode\": \"markers\", \"name\": \"University 43\", \"showlegend\": true, \"subplot\": \"mapbox\", \"type\": \"scattermapbox\"}, {\"hovertemplate\": \"Customers=University 44<br>Invoice Amount=%{marker.size}<br>Lat=%{lat}<br>Long=%{lon}<extra></extra>\", \"lat\": [21.36711], \"legendgroup\": \"University 44\", \"lon\": [-157.90399399999995], \"marker\": {\"color\": \"#FFA15A\", \"size\": [750.0], \"sizemode\": \"area\", \"sizeref\": 347.5}, \"mode\": \"markers\", \"name\": \"University 44\", \"showlegend\": true, \"subplot\": \"mapbox\", \"type\": \"scattermapbox\"}, {\"hovertemplate\": \"Customers=University 45<br>Invoice Amount=%{marker.size}<br>Lat=%{lat}<br>Long=%{lon}<extra></extra>\", \"lat\": [91.56914], \"legendgroup\": \"University 45\", \"lon\": [-217.053656], \"marker\": {\"color\": \"#19d3f3\", \"size\": [1500.0], \"sizemode\": \"area\", \"sizeref\": 347.5}, \"mode\": \"markers\", \"name\": \"University 45\", \"showlegend\": true, \"subplot\": \"mapbox\", \"type\": \"scattermapbox\"}, {\"hovertemplate\": \"Customers=University 46<br>Invoice Amount=%{marker.size}<br>Lat=%{lat}<br>Long=%{lon}<extra></extra>\", \"lat\": [115.576855], \"legendgroup\": \"University 46\", \"lon\": [-291.22765200000003], \"marker\": {\"color\": \"#FF6692\", \"size\": [14250.0], \"sizemode\": \"area\", \"sizeref\": 347.5}, \"mode\": \"markers\", \"name\": \"University 46\", \"showlegend\": true, \"subplot\": \"mapbox\", \"type\": \"scattermapbox\"}, {\"hovertemplate\": \"Customers=University 47<br>Invoice Amount=%{marker.size}<br>Lat=%{lat}<br>Long=%{lon}<extra></extra>\", \"lat\": [34.358185], \"legendgroup\": \"University 47\", \"lon\": [-89.548378], \"marker\": {\"color\": \"#B6E880\", \"size\": [7350.0], \"sizemode\": \"area\", \"sizeref\": 347.5}, \"mode\": \"markers\", \"name\": \"University 47\", \"showlegend\": true, \"subplot\": \"mapbox\", \"type\": \"scattermapbox\"}, {\"hovertemplate\": \"Customers=University 48<br>Invoice Amount=%{marker.size}<br>Lat=%{lat}<br>Long=%{lon}<extra></extra>\", \"lat\": [33.453832], \"legendgroup\": \"University 48\", \"lon\": [-88.794057], \"marker\": {\"color\": \"#FF97FF\", \"size\": [4750.0], \"sizemode\": \"area\", \"sizeref\": 347.5}, \"mode\": \"markers\", \"name\": \"University 48\", \"showlegend\": true, \"subplot\": \"mapbox\", \"type\": \"scattermapbox\"}, {\"hovertemplate\": \"Customers=University 49<br>Invoice Amount=%{marker.size}<br>Lat=%{lat}<br>Long=%{lon}<extra></extra>\", \"lat\": [124.918544], \"legendgroup\": \"University 49\", \"lon\": [-322.503629], \"marker\": {\"color\": \"#FECB52\", \"size\": [6000.0], \"sizemode\": \"area\", \"sizeref\": 347.5}, \"mode\": \"markers\", \"name\": \"University 49\", \"showlegend\": true, \"subplot\": \"mapbox\", \"type\": \"scattermapbox\"}, {\"hovertemplate\": \"Customers=University 5<br>Invoice Amount=%{marker.size}<br>Lat=%{lat}<br>Long=%{lon}<extra></extra>\", \"lat\": [38.190601], \"legendgroup\": \"University 5\", \"lon\": [-76.4263], \"marker\": {\"color\": \"#636efa\", \"size\": [750.0], \"sizemode\": \"area\", \"sizeref\": 347.5}, \"mode\": \"markers\", \"name\": \"University 5\", \"showlegend\": true, \"subplot\": \"mapbox\", \"type\": \"scattermapbox\"}, {\"hovertemplate\": \"Customers=University 50<br>Invoice Amount=%{marker.size}<br>Lat=%{lat}<br>Long=%{lon}<extra></extra>\", \"lat\": [39.033781], \"legendgroup\": \"University 50\", \"lon\": [-94.577827], \"marker\": {\"color\": \"#EF553B\", \"size\": [7500.0], \"sizemode\": \"area\", \"sizeref\": 347.5}, \"mode\": \"markers\", \"name\": \"University 50\", \"showlegend\": true, \"subplot\": \"mapbox\", \"type\": \"scattermapbox\"}, {\"hovertemplate\": \"Customers=University 51<br>Invoice Amount=%{marker.size}<br>Lat=%{lat}<br>Long=%{lon}<extra></extra>\", \"lat\": [138.288581], \"legendgroup\": \"University 51\", \"lon\": [-268.867305], \"marker\": {\"color\": \"#00cc96\", \"size\": [2250.0], \"sizemode\": \"area\", \"sizeref\": 347.5}, \"mode\": \"markers\", \"name\": \"University 51\", \"showlegend\": true, \"subplot\": \"mapbox\", \"type\": \"scattermapbox\"}, {\"hovertemplate\": \"Customers=University 52<br>Invoice Amount=%{marker.size}<br>Lat=%{lat}<br>Long=%{lon}<extra></extra>\", \"lat\": [32.302802], \"legendgroup\": \"University 52\", \"lon\": [-90.183909], \"marker\": {\"color\": \"#ab63fa\", \"size\": [4999.0], \"sizemode\": \"area\", \"sizeref\": 347.5}, \"mode\": \"markers\", \"name\": \"University 52\", \"showlegend\": true, \"subplot\": \"mapbox\", \"type\": \"scattermapbox\"}, {\"hovertemplate\": \"Customers=University 53<br>Invoice Amount=%{marker.size}<br>Lat=%{lat}<br>Long=%{lon}<extra></extra>\", \"lat\": [29.558454], \"legendgroup\": \"University 53\", \"lon\": [-95.786392], \"marker\": {\"color\": \"#FFA15A\", \"size\": [4500.0], \"sizemode\": \"area\", \"sizeref\": 347.5}, \"mode\": \"markers\", \"name\": \"University 53\", \"showlegend\": true, \"subplot\": \"mapbox\", \"type\": \"scattermapbox\"}, {\"hovertemplate\": \"Customers=University 54<br>Invoice Amount=%{marker.size}<br>Lat=%{lat}<br>Long=%{lon}<extra></extra>\", \"lat\": [75.625453], \"legendgroup\": \"University 54\", \"lon\": [-156.039518], \"marker\": {\"color\": \"#19d3f3\", \"size\": [3000.0], \"sizemode\": \"area\", \"sizeref\": 347.5}, \"mode\": \"markers\", \"name\": \"University 54\", \"showlegend\": true, \"subplot\": \"mapbox\", \"type\": \"scattermapbox\"}, {\"hovertemplate\": \"Customers=University 55<br>Invoice Amount=%{marker.size}<br>Lat=%{lat}<br>Long=%{lon}<extra></extra>\", \"lat\": [37.981067], \"legendgroup\": \"University 55\", \"lon\": [-121.308951], \"marker\": {\"color\": \"#FF6692\", \"size\": [750.0], \"sizemode\": \"area\", \"sizeref\": 347.5}, \"mode\": \"markers\", \"name\": \"University 55\", \"showlegend\": true, \"subplot\": \"mapbox\", \"type\": \"scattermapbox\"}, {\"hovertemplate\": \"Customers=University 56<br>Invoice Amount=%{marker.size}<br>Lat=%{lat}<br>Long=%{lon}<extra></extra>\", \"lat\": [-34.927341], \"legendgroup\": \"University 56\", \"lon\": [138.602002], \"marker\": {\"color\": \"#B6E880\", \"size\": [1500.0], \"sizemode\": \"area\", \"sizeref\": 347.5}, \"mode\": \"markers\", \"name\": \"University 56\", \"showlegend\": true, \"subplot\": \"mapbox\", \"type\": \"scattermapbox\"}, {\"hovertemplate\": \"Customers=University 57<br>Invoice Amount=%{marker.size}<br>Lat=%{lat}<br>Long=%{lon}<extra></extra>\", \"lat\": [69.5879], \"legendgroup\": \"University 57\", \"lon\": [-181.41238099999998], \"marker\": {\"color\": \"#FF97FF\", \"size\": [10800.0], \"sizemode\": \"area\", \"sizeref\": 347.5}, \"mode\": \"markers\", \"name\": \"University 57\", \"showlegend\": true, \"subplot\": \"mapbox\", \"type\": \"scattermapbox\"}, {\"hovertemplate\": \"Customers=University 58<br>Invoice Amount=%{marker.size}<br>Lat=%{lat}<br>Long=%{lon}<extra></extra>\", \"lat\": [46.065081], \"legendgroup\": \"University 58\", \"lon\": [-118.32958700000002], \"marker\": {\"color\": \"#FECB52\", \"size\": [3000.0], \"sizemode\": \"area\", \"sizeref\": 347.5}, \"mode\": \"markers\", \"name\": \"University 58\", \"showlegend\": true, \"subplot\": \"mapbox\", \"type\": \"scattermapbox\"}, {\"hovertemplate\": \"Customers=University 59<br>Invoice Amount=%{marker.size}<br>Lat=%{lat}<br>Long=%{lon}<extra></extra>\", \"lat\": [35.99726300000001], \"legendgroup\": \"University 59\", \"lon\": [-78.897667], \"marker\": {\"color\": \"#636efa\", \"size\": [2630.0], \"sizemode\": \"area\", \"sizeref\": 347.5}, \"mode\": \"markers\", \"name\": \"University 59\", \"showlegend\": true, \"subplot\": \"mapbox\", \"type\": \"scattermapbox\"}, {\"hovertemplate\": \"Customers=University 6<br>Invoice Amount=%{marker.size}<br>Lat=%{lat}<br>Long=%{lon}<extra></extra>\", \"lat\": [81.00454400000001], \"legendgroup\": \"University 6\", \"lon\": [-212.942194], \"marker\": {\"color\": \"#EF553B\", \"size\": [10750.0], \"sizemode\": \"area\", \"sizeref\": 347.5}, \"mode\": \"markers\", \"name\": \"University 6\", \"showlegend\": true, \"subplot\": \"mapbox\", \"type\": \"scattermapbox\"}, {\"hovertemplate\": \"Customers=University 60<br>Invoice Amount=%{marker.size}<br>Lat=%{lat}<br>Long=%{lon}<extra></extra>\", \"lat\": [42.41484000000001], \"legendgroup\": \"University 60\", \"lon\": [-83.137876], \"marker\": {\"color\": \"#00cc96\", \"size\": [750.0], \"sizemode\": \"area\", \"sizeref\": 347.5}, \"mode\": \"markers\", \"name\": \"University 60\", \"showlegend\": true, \"subplot\": \"mapbox\", \"type\": \"scattermapbox\"}, {\"hovertemplate\": \"Customers=University 61<br>Invoice Amount=%{marker.size}<br>Lat=%{lat}<br>Long=%{lon}<extra></extra>\", \"lat\": [35.30615200000001], \"legendgroup\": \"University 61\", \"lon\": [-80.734562], \"marker\": {\"color\": \"#ab63fa\", \"size\": [15750.0], \"sizemode\": \"area\", \"sizeref\": 347.5}, \"mode\": \"markers\", \"name\": \"University 61\", \"showlegend\": true, \"subplot\": \"mapbox\", \"type\": \"scattermapbox\"}, {\"hovertemplate\": \"Customers=University 62<br>Invoice Amount=%{marker.size}<br>Lat=%{lat}<br>Long=%{lon}<extra></extra>\", \"lat\": [40.51417], \"legendgroup\": \"University 62\", \"lon\": [-88.99056], \"marker\": {\"color\": \"#FFA15A\", \"size\": [10500.0], \"sizemode\": \"area\", \"sizeref\": 347.5}, \"mode\": \"markers\", \"name\": \"University 62\", \"showlegend\": true, \"subplot\": \"mapbox\", \"type\": \"scattermapbox\"}, {\"hovertemplate\": \"Customers=University 63<br>Invoice Amount=%{marker.size}<br>Lat=%{lat}<br>Long=%{lon}<extra></extra>\", \"lat\": [46.882198], \"legendgroup\": \"University 63\", \"lon\": [-102.799866], \"marker\": {\"color\": \"#19d3f3\", \"size\": [2550.0], \"sizemode\": \"area\", \"sizeref\": 347.5}, \"mode\": \"markers\", \"name\": \"University 63\", \"showlegend\": true, \"subplot\": \"mapbox\", \"type\": \"scattermapbox\"}, {\"hovertemplate\": \"Customers=University 64<br>Invoice Amount=%{marker.size}<br>Lat=%{lat}<br>Long=%{lon}<extra></extra>\", \"lat\": [39.088975], \"legendgroup\": \"University 64\", \"lon\": [-94.58516], \"marker\": {\"color\": \"#FF6692\", \"size\": [750.0], \"sizemode\": \"area\", \"sizeref\": 347.5}, \"mode\": \"markers\", \"name\": \"University 64\", \"showlegend\": true, \"subplot\": \"mapbox\", \"type\": \"scattermapbox\"}, {\"hovertemplate\": \"Customers=University 65<br>Invoice Amount=%{marker.size}<br>Lat=%{lat}<br>Long=%{lon}<extra></extra>\", \"lat\": [41.68339], \"legendgroup\": \"University 65\", \"lon\": [-72.767385], \"marker\": {\"color\": \"#B6E880\", \"size\": [18000.0], \"sizemode\": \"area\", \"sizeref\": 347.5}, \"mode\": \"markers\", \"name\": \"University 65\", \"showlegend\": true, \"subplot\": \"mapbox\", \"type\": \"scattermapbox\"}, {\"hovertemplate\": \"Customers=University 66<br>Invoice Amount=%{marker.size}<br>Lat=%{lat}<br>Long=%{lon}<extra></extra>\", \"lat\": [29.912261], \"legendgroup\": \"University 66\", \"lon\": [-89.995129], \"marker\": {\"color\": \"#FF97FF\", \"size\": [4500.0], \"sizemode\": \"area\", \"sizeref\": 347.5}, \"mode\": \"markers\", \"name\": \"University 66\", \"showlegend\": true, \"subplot\": \"mapbox\", \"type\": \"scattermapbox\"}, {\"hovertemplate\": \"Customers=University 67<br>Invoice Amount=%{marker.size}<br>Lat=%{lat}<br>Long=%{lon}<extra></extra>\", \"lat\": [103.432219], \"legendgroup\": \"University 67\", \"lon\": [-274.448972], \"marker\": {\"color\": \"#FECB52\", \"size\": [13000.0], \"sizemode\": \"area\", \"sizeref\": 347.5}, \"mode\": \"markers\", \"name\": \"University 67\", \"showlegend\": true, \"subplot\": \"mapbox\", \"type\": \"scattermapbox\"}, {\"hovertemplate\": \"Customers=University 68<br>Invoice Amount=%{marker.size}<br>Lat=%{lat}<br>Long=%{lon}<extra></extra>\", \"lat\": [29.849649], \"legendgroup\": \"University 68\", \"lon\": [-95.498476], \"marker\": {\"color\": \"#636efa\", \"size\": [3000.0], \"sizemode\": \"area\", \"sizeref\": 347.5}, \"mode\": \"markers\", \"name\": \"University 68\", \"showlegend\": true, \"subplot\": \"mapbox\", \"type\": \"scattermapbox\"}, {\"hovertemplate\": \"Customers=University 69<br>Invoice Amount=%{marker.size}<br>Lat=%{lat}<br>Long=%{lon}<extra></extra>\", \"lat\": [36.30044], \"legendgroup\": \"University 69\", \"lon\": [-82.362131], \"marker\": {\"color\": \"#EF553B\", \"size\": [18148.0], \"sizemode\": \"area\", \"sizeref\": 347.5}, \"mode\": \"markers\", \"name\": \"University 69\", \"showlegend\": true, \"subplot\": \"mapbox\", \"type\": \"scattermapbox\"}, {\"hovertemplate\": \"Customers=University 7<br>Invoice Amount=%{marker.size}<br>Lat=%{lat}<br>Long=%{lon}<extra></extra>\", \"lat\": [77.78890600000003], \"legendgroup\": \"University 7\", \"lon\": [-154.085206], \"marker\": {\"color\": \"#00cc96\", \"size\": [44200.0], \"sizemode\": \"area\", \"sizeref\": 347.5}, \"mode\": \"markers\", \"name\": \"University 7\", \"showlegend\": true, \"subplot\": \"mapbox\", \"type\": \"scattermapbox\"}, {\"hovertemplate\": \"Customers=University 70<br>Invoice Amount=%{marker.size}<br>Lat=%{lat}<br>Long=%{lon}<extra></extra>\", \"lat\": [33.498228999999995], \"legendgroup\": \"University 70\", \"lon\": [-86.8073], \"marker\": {\"color\": \"#ab63fa\", \"size\": [50000.0], \"sizemode\": \"area\", \"sizeref\": 347.5}, \"mode\": \"markers\", \"name\": \"University 70\", \"showlegend\": true, \"subplot\": \"mapbox\", \"type\": \"scattermapbox\"}, {\"hovertemplate\": \"Customers=University 71<br>Invoice Amount=%{marker.size}<br>Lat=%{lat}<br>Long=%{lon}<extra></extra>\", \"lat\": [157.885853], \"legendgroup\": \"University 71\", \"lon\": [-419.486344], \"marker\": {\"color\": \"#FFA15A\", \"size\": [8550.0], \"sizemode\": \"area\", \"sizeref\": 347.5}, \"mode\": \"markers\", \"name\": \"University 71\", \"showlegend\": true, \"subplot\": \"mapbox\", \"type\": \"scattermapbox\"}, {\"hovertemplate\": \"Customers=University 72<br>Invoice Amount=%{marker.size}<br>Lat=%{lat}<br>Long=%{lon}<extra></extra>\", \"lat\": [32.432158], \"legendgroup\": \"University 72\", \"lon\": [-93.701816], \"marker\": {\"color\": \"#19d3f3\", \"size\": [1750.0], \"sizemode\": \"area\", \"sizeref\": 347.5}, \"mode\": \"markers\", \"name\": \"University 72\", \"showlegend\": true, \"subplot\": \"mapbox\", \"type\": \"scattermapbox\"}, {\"hovertemplate\": \"Customers=University 73<br>Invoice Amount=%{marker.size}<br>Lat=%{lat}<br>Long=%{lon}<extra></extra>\", \"lat\": [33.994748], \"legendgroup\": \"University 73\", \"lon\": [-118.08086000000002], \"marker\": {\"color\": \"#FF6692\", \"size\": [5880.0], \"sizemode\": \"area\", \"sizeref\": 347.5}, \"mode\": \"markers\", \"name\": \"University 73\", \"showlegend\": true, \"subplot\": \"mapbox\", \"type\": \"scattermapbox\"}, {\"hovertemplate\": \"Customers=University 74<br>Invoice Amount=%{marker.size}<br>Lat=%{lat}<br>Long=%{lon}<extra></extra>\", \"lat\": [39.189982], \"legendgroup\": \"University 74\", \"lon\": [-96.578842], \"marker\": {\"color\": \"#B6E880\", \"size\": [28500.0], \"sizemode\": \"area\", \"sizeref\": 347.5}, \"mode\": \"markers\", \"name\": \"University 74\", \"showlegend\": true, \"subplot\": \"mapbox\", \"type\": \"scattermapbox\"}, {\"hovertemplate\": \"Customers=University 75<br>Invoice Amount=%{marker.size}<br>Lat=%{lat}<br>Long=%{lon}<extra></extra>\", \"lat\": [34.497007], \"legendgroup\": \"University 75\", \"lon\": [-114.331063], \"marker\": {\"color\": \"#FF97FF\", \"size\": [6300.0], \"sizemode\": \"area\", \"sizeref\": 347.5}, \"mode\": \"markers\", \"name\": \"University 75\", \"showlegend\": true, \"subplot\": \"mapbox\", \"type\": \"scattermapbox\"}, {\"hovertemplate\": \"Customers=University 76<br>Invoice Amount=%{marker.size}<br>Lat=%{lat}<br>Long=%{lon}<extra></extra>\", \"lat\": [71.688783], \"legendgroup\": \"University 76\", \"lon\": [-177.039278], \"marker\": {\"color\": \"#FECB52\", \"size\": [25200.0], \"sizemode\": \"area\", \"sizeref\": 347.5}, \"mode\": \"markers\", \"name\": \"University 76\", \"showlegend\": true, \"subplot\": \"mapbox\", \"type\": \"scattermapbox\"}, {\"hovertemplate\": \"Customers=University 77<br>Invoice Amount=%{marker.size}<br>Lat=%{lat}<br>Long=%{lon}<extra></extra>\", \"lat\": [41.27981], \"legendgroup\": \"University 77\", \"lon\": [-105.59022], \"marker\": {\"color\": \"#636efa\", \"size\": [6300.0], \"sizemode\": \"area\", \"sizeref\": 347.5}, \"mode\": \"markers\", \"name\": \"University 77\", \"showlegend\": true, \"subplot\": \"mapbox\", \"type\": \"scattermapbox\"}, {\"hovertemplate\": \"Customers=University 78<br>Invoice Amount=%{marker.size}<br>Lat=%{lat}<br>Long=%{lon}<extra></extra>\", \"lat\": [36.045904], \"legendgroup\": \"University 78\", \"lon\": [-114.980388], \"marker\": {\"color\": \"#EF553B\", \"size\": [2560.0], \"sizemode\": \"area\", \"sizeref\": 347.5}, \"mode\": \"markers\", \"name\": \"University 78\", \"showlegend\": true, \"subplot\": \"mapbox\", \"type\": \"scattermapbox\"}, {\"hovertemplate\": \"Customers=University 79<br>Invoice Amount=%{marker.size}<br>Lat=%{lat}<br>Long=%{lon}<extra></extra>\", \"lat\": [63.47113300000001], \"legendgroup\": \"University 79\", \"lon\": [-161.151436], \"marker\": {\"color\": \"#00cc96\", \"size\": [4400.0], \"sizemode\": \"area\", \"sizeref\": 347.5}, \"mode\": \"markers\", \"name\": \"University 79\", \"showlegend\": true, \"subplot\": \"mapbox\", \"type\": \"scattermapbox\"}, {\"hovertemplate\": \"Customers=University 8<br>Invoice Amount=%{marker.size}<br>Lat=%{lat}<br>Long=%{lon}<extra></extra>\", \"lat\": [149.88032000000004], \"legendgroup\": \"University 8\", \"lon\": [-320.501114], \"marker\": {\"color\": \"#ab63fa\", \"size\": [10400.0], \"sizemode\": \"area\", \"sizeref\": 347.5}, \"mode\": \"markers\", \"name\": \"University 8\", \"showlegend\": true, \"subplot\": \"mapbox\", \"type\": \"scattermapbox\"}, {\"hovertemplate\": \"Customers=University 80<br>Invoice Amount=%{marker.size}<br>Lat=%{lat}<br>Long=%{lon}<extra></extra>\", \"lat\": [102.680409], \"legendgroup\": \"University 80\", \"lon\": [-233.630024], \"marker\": {\"color\": \"#FFA15A\", \"size\": [19030.0], \"sizemode\": \"area\", \"sizeref\": 347.5}, \"mode\": \"markers\", \"name\": \"University 80\", \"showlegend\": true, \"subplot\": \"mapbox\", \"type\": \"scattermapbox\"}, {\"hovertemplate\": \"Customers=University 81<br>Invoice Amount=%{marker.size}<br>Lat=%{lat}<br>Long=%{lon}<extra></extra>\", \"lat\": [134.424044], \"legendgroup\": \"University 81\", \"lon\": [-357.94360300000005], \"marker\": {\"color\": \"#19d3f3\", \"size\": [5800.0], \"sizemode\": \"area\", \"sizeref\": 347.5}, \"mode\": \"markers\", \"name\": \"University 81\", \"showlegend\": true, \"subplot\": \"mapbox\", \"type\": \"scattermapbox\"}, {\"hovertemplate\": \"Customers=University 82<br>Invoice Amount=%{marker.size}<br>Lat=%{lat}<br>Long=%{lon}<extra></extra>\", \"lat\": [38.187538], \"legendgroup\": \"University 82\", \"lon\": [-84.84676400000002], \"marker\": {\"color\": \"#FF6692\", \"size\": [7560.0], \"sizemode\": \"area\", \"sizeref\": 347.5}, \"mode\": \"markers\", \"name\": \"University 82\", \"showlegend\": true, \"subplot\": \"mapbox\", \"type\": \"scattermapbox\"}, {\"hovertemplate\": \"Customers=University 83<br>Invoice Amount=%{marker.size}<br>Lat=%{lat}<br>Long=%{lon}<extra></extra>\", \"lat\": [33.52991], \"legendgroup\": \"University 83\", \"lon\": [-117.18548], \"marker\": {\"color\": \"#B6E880\", \"size\": [2500.0], \"sizemode\": \"area\", \"sizeref\": 347.5}, \"mode\": \"markers\", \"name\": \"University 83\", \"showlegend\": true, \"subplot\": \"mapbox\", \"type\": \"scattermapbox\"}, {\"hovertemplate\": \"Customers=University 84<br>Invoice Amount=%{marker.size}<br>Lat=%{lat}<br>Long=%{lon}<extra></extra>\", \"lat\": [65.078134], \"legendgroup\": \"University 84\", \"lon\": [-184.143804], \"marker\": {\"color\": \"#FF97FF\", \"size\": [4000.0], \"sizemode\": \"area\", \"sizeref\": 347.5}, \"mode\": \"markers\", \"name\": \"University 84\", \"showlegend\": true, \"subplot\": \"mapbox\", \"type\": \"scattermapbox\"}, {\"hovertemplate\": \"Customers=University 85<br>Invoice Amount=%{marker.size}<br>Lat=%{lat}<br>Long=%{lon}<extra></extra>\", \"lat\": [33.703967], \"legendgroup\": \"University 85\", \"lon\": [-112.351835], \"marker\": {\"color\": \"#FECB52\", \"size\": [12500.0], \"sizemode\": \"area\", \"sizeref\": 347.5}, \"mode\": \"markers\", \"name\": \"University 85\", \"showlegend\": true, \"subplot\": \"mapbox\", \"type\": \"scattermapbox\"}, {\"hovertemplate\": \"Customers=University 86<br>Invoice Amount=%{marker.size}<br>Lat=%{lat}<br>Long=%{lon}<extra></extra>\", \"lat\": [0.0], \"legendgroup\": \"University 86\", \"lon\": [0.0], \"marker\": {\"color\": \"#636efa\", \"size\": [1875.0], \"sizemode\": \"area\", \"sizeref\": 347.5}, \"mode\": \"markers\", \"name\": \"University 86\", \"showlegend\": true, \"subplot\": \"mapbox\", \"type\": \"scattermapbox\"}, {\"hovertemplate\": \"Customers=University 87<br>Invoice Amount=%{marker.size}<br>Lat=%{lat}<br>Long=%{lon}<extra></extra>\", \"lat\": [29.963254], \"legendgroup\": \"University 87\", \"lon\": [-90.210745], \"marker\": {\"color\": \"#EF553B\", \"size\": [2000.0], \"sizemode\": \"area\", \"sizeref\": 347.5}, \"mode\": \"markers\", \"name\": \"University 87\", \"showlegend\": true, \"subplot\": \"mapbox\", \"type\": \"scattermapbox\"}, {\"hovertemplate\": \"Customers=University 88<br>Invoice Amount=%{marker.size}<br>Lat=%{lat}<br>Long=%{lon}<extra></extra>\", \"lat\": [35.691868], \"legendgroup\": \"University 88\", \"lon\": [-91.598917], \"marker\": {\"color\": \"#00cc96\", \"size\": [26250.0], \"sizemode\": \"area\", \"sizeref\": 347.5}, \"mode\": \"markers\", \"name\": \"University 88\", \"showlegend\": true, \"subplot\": \"mapbox\", \"type\": \"scattermapbox\"}, {\"hovertemplate\": \"Customers=University 89<br>Invoice Amount=%{marker.size}<br>Lat=%{lat}<br>Long=%{lon}<extra></extra>\", \"lat\": [0.0], \"legendgroup\": \"University 89\", \"lon\": [0.0], \"marker\": {\"color\": \"#ab63fa\", \"size\": [750.0], \"sizemode\": \"area\", \"sizeref\": 347.5}, \"mode\": \"markers\", \"name\": \"University 89\", \"showlegend\": true, \"subplot\": \"mapbox\", \"type\": \"scattermapbox\"}, {\"hovertemplate\": \"Customers=University 9<br>Invoice Amount=%{marker.size}<br>Lat=%{lat}<br>Long=%{lon}<extra></extra>\", \"lat\": [96.864952], \"legendgroup\": \"University 9\", \"lon\": [-249.491196], \"marker\": {\"color\": \"#FFA15A\", \"size\": [3850.0], \"sizemode\": \"area\", \"sizeref\": 347.5}, \"mode\": \"markers\", \"name\": \"University 9\", \"showlegend\": true, \"subplot\": \"mapbox\", \"type\": \"scattermapbox\"}, {\"hovertemplate\": \"Customers=University 90<br>Invoice Amount=%{marker.size}<br>Lat=%{lat}<br>Long=%{lon}<extra></extra>\", \"lat\": [35.841039], \"legendgroup\": \"University 90\", \"lon\": [-90.675602], \"marker\": {\"color\": \"#19d3f3\", \"size\": [1700.0], \"sizemode\": \"area\", \"sizeref\": 347.5}, \"mode\": \"markers\", \"name\": \"University 90\", \"showlegend\": true, \"subplot\": \"mapbox\", \"type\": \"scattermapbox\"}, {\"hovertemplate\": \"Customers=University 91<br>Invoice Amount=%{marker.size}<br>Lat=%{lat}<br>Long=%{lon}<extra></extra>\", \"lat\": [0.0], \"legendgroup\": \"University 91\", \"lon\": [0.0], \"marker\": {\"color\": \"#FF6692\", \"size\": [2700.0], \"sizemode\": \"area\", \"sizeref\": 347.5}, \"mode\": \"markers\", \"name\": \"University 91\", \"showlegend\": true, \"subplot\": \"mapbox\", \"type\": \"scattermapbox\"}, {\"hovertemplate\": \"Customers=University 92<br>Invoice Amount=%{marker.size}<br>Lat=%{lat}<br>Long=%{lon}<extra></extra>\", \"lat\": [143.364156], \"legendgroup\": \"University 92\", \"lon\": [-362.702408], \"marker\": {\"color\": \"#B6E880\", \"size\": [14000.0], \"sizemode\": \"area\", \"sizeref\": 347.5}, \"mode\": \"markers\", \"name\": \"University 92\", \"showlegend\": true, \"subplot\": \"mapbox\", \"type\": \"scattermapbox\"}, {\"hovertemplate\": \"Customers=University 93<br>Invoice Amount=%{marker.size}<br>Lat=%{lat}<br>Long=%{lon}<extra></extra>\", \"lat\": [45.408173], \"legendgroup\": \"University 93\", \"lon\": [-122.922323], \"marker\": {\"color\": \"#FF97FF\", \"size\": [3500.0], \"sizemode\": \"area\", \"sizeref\": 347.5}, \"mode\": \"markers\", \"name\": \"University 93\", \"showlegend\": true, \"subplot\": \"mapbox\", \"type\": \"scattermapbox\"}, {\"hovertemplate\": \"Customers=University 94<br>Invoice Amount=%{marker.size}<br>Lat=%{lat}<br>Long=%{lon}<extra></extra>\", \"lat\": [108.90033], \"legendgroup\": \"University 94\", \"lon\": [-246.88209], \"marker\": {\"color\": \"#FECB52\", \"size\": [2500.0], \"sizemode\": \"area\", \"sizeref\": 347.5}, \"mode\": \"markers\", \"name\": \"University 94\", \"showlegend\": true, \"subplot\": \"mapbox\", \"type\": \"scattermapbox\"}, {\"hovertemplate\": \"Customers=University 95<br>Invoice Amount=%{marker.size}<br>Lat=%{lat}<br>Long=%{lon}<extra></extra>\", \"lat\": [67.91916099999999], \"legendgroup\": \"University 95\", \"lon\": [-204.70149800000002], \"marker\": {\"color\": \"#636efa\", \"size\": [1000.0], \"sizemode\": \"area\", \"sizeref\": 347.5}, \"mode\": \"markers\", \"name\": \"University 95\", \"showlegend\": true, \"subplot\": \"mapbox\", \"type\": \"scattermapbox\"}, {\"hovertemplate\": \"Customers=University 96<br>Invoice Amount=%{marker.size}<br>Lat=%{lat}<br>Long=%{lon}<extra></extra>\", \"lat\": [45.507856], \"legendgroup\": \"University 96\", \"lon\": [-122.690794], \"marker\": {\"color\": \"#EF553B\", \"size\": [2750.0], \"sizemode\": \"area\", \"sizeref\": 347.5}, \"mode\": \"markers\", \"name\": \"University 96\", \"showlegend\": true, \"subplot\": \"mapbox\", \"type\": \"scattermapbox\"}, {\"hovertemplate\": \"Customers=University 97<br>Invoice Amount=%{marker.size}<br>Lat=%{lat}<br>Long=%{lon}<extra></extra>\", \"lat\": [195.482126], \"legendgroup\": \"University 97\", \"lon\": [-577.409882], \"marker\": {\"color\": \"#00cc96\", \"size\": [18275.0], \"sizemode\": \"area\", \"sizeref\": 347.5}, \"mode\": \"markers\", \"name\": \"University 97\", \"showlegend\": true, \"subplot\": \"mapbox\", \"type\": \"scattermapbox\"}, {\"hovertemplate\": \"Customers=University 98<br>Invoice Amount=%{marker.size}<br>Lat=%{lat}<br>Long=%{lon}<extra></extra>\", \"lat\": [0.0], \"legendgroup\": \"University 98\", \"lon\": [0.0], \"marker\": {\"color\": \"#ab63fa\", \"size\": [14000.0], \"sizemode\": \"area\", \"sizeref\": 347.5}, \"mode\": \"markers\", \"name\": \"University 98\", \"showlegend\": true, \"subplot\": \"mapbox\", \"type\": \"scattermapbox\"}, {\"hovertemplate\": \"Customers=University 99<br>Invoice Amount=%{marker.size}<br>Lat=%{lat}<br>Long=%{lon}<extra></extra>\", \"lat\": [0.0], \"legendgroup\": \"University 99\", \"lon\": [0.0], \"marker\": {\"color\": \"#FFA15A\", \"size\": [100000.0], \"sizemode\": \"area\", \"sizeref\": 347.5}, \"mode\": \"markers\", \"name\": \"University 99\", \"showlegend\": true, \"subplot\": \"mapbox\", \"type\": \"scattermapbox\"}],                        {\"legend\": {\"itemsizing\": \"constant\", \"title\": {\"text\": \"Customers\"}, \"tracegroupgap\": 0}, \"mapbox\": {\"accesstoken\": \"pk.eyJ1IjoibWlsYWRuYXphciIsImEiOiJja2doYmN1d2swNGtkMnNvMGRhb3RnbmZpIn0.h5puE2zZYJuUHFdI586CDg\", \"center\": {\"lat\": 46.45622699058823, \"lon\": -117.97521423294117}, \"domain\": {\"x\": [0.0, 1.0], \"y\": [0.0, 1.0]}, \"zoom\": 8}, \"margin\": {\"t\": 60}, \"template\": {\"data\": {\"bar\": [{\"error_x\": {\"color\": \"#2a3f5f\"}, \"error_y\": {\"color\": \"#2a3f5f\"}, \"marker\": {\"line\": {\"color\": \"#E5ECF6\", \"width\": 0.5}}, \"type\": \"bar\"}], \"barpolar\": [{\"marker\": {\"line\": {\"color\": \"#E5ECF6\", \"width\": 0.5}}, \"type\": \"barpolar\"}], \"carpet\": [{\"aaxis\": {\"endlinecolor\": \"#2a3f5f\", \"gridcolor\": \"white\", \"linecolor\": \"white\", \"minorgridcolor\": \"white\", \"startlinecolor\": \"#2a3f5f\"}, \"baxis\": {\"endlinecolor\": \"#2a3f5f\", \"gridcolor\": \"white\", \"linecolor\": \"white\", \"minorgridcolor\": \"white\", \"startlinecolor\": \"#2a3f5f\"}, \"type\": \"carpet\"}], \"choropleth\": [{\"colorbar\": {\"outlinewidth\": 0, \"ticks\": \"\"}, \"type\": \"choropleth\"}], \"contour\": [{\"colorbar\": {\"outlinewidth\": 0, \"ticks\": \"\"}, \"colorscale\": [[0.0, \"#0d0887\"], [0.1111111111111111, \"#46039f\"], [0.2222222222222222, \"#7201a8\"], [0.3333333333333333, \"#9c179e\"], [0.4444444444444444, \"#bd3786\"], [0.5555555555555556, \"#d8576b\"], [0.6666666666666666, \"#ed7953\"], [0.7777777777777778, \"#fb9f3a\"], [0.8888888888888888, \"#fdca26\"], [1.0, \"#f0f921\"]], \"type\": \"contour\"}], \"contourcarpet\": [{\"colorbar\": {\"outlinewidth\": 0, \"ticks\": \"\"}, \"type\": \"contourcarpet\"}], \"heatmap\": [{\"colorbar\": {\"outlinewidth\": 0, \"ticks\": \"\"}, \"colorscale\": [[0.0, \"#0d0887\"], [0.1111111111111111, \"#46039f\"], [0.2222222222222222, \"#7201a8\"], [0.3333333333333333, \"#9c179e\"], [0.4444444444444444, \"#bd3786\"], [0.5555555555555556, \"#d8576b\"], [0.6666666666666666, \"#ed7953\"], [0.7777777777777778, \"#fb9f3a\"], [0.8888888888888888, \"#fdca26\"], [1.0, \"#f0f921\"]], \"type\": \"heatmap\"}], \"heatmapgl\": [{\"colorbar\": {\"outlinewidth\": 0, \"ticks\": \"\"}, \"colorscale\": [[0.0, \"#0d0887\"], [0.1111111111111111, \"#46039f\"], [0.2222222222222222, \"#7201a8\"], [0.3333333333333333, \"#9c179e\"], [0.4444444444444444, \"#bd3786\"], [0.5555555555555556, \"#d8576b\"], [0.6666666666666666, \"#ed7953\"], [0.7777777777777778, \"#fb9f3a\"], [0.8888888888888888, \"#fdca26\"], [1.0, \"#f0f921\"]], \"type\": \"heatmapgl\"}], \"histogram\": [{\"marker\": {\"colorbar\": {\"outlinewidth\": 0, \"ticks\": \"\"}}, \"type\": \"histogram\"}], \"histogram2d\": [{\"colorbar\": {\"outlinewidth\": 0, \"ticks\": \"\"}, \"colorscale\": [[0.0, \"#0d0887\"], [0.1111111111111111, \"#46039f\"], [0.2222222222222222, \"#7201a8\"], [0.3333333333333333, \"#9c179e\"], [0.4444444444444444, \"#bd3786\"], [0.5555555555555556, \"#d8576b\"], [0.6666666666666666, \"#ed7953\"], [0.7777777777777778, \"#fb9f3a\"], [0.8888888888888888, \"#fdca26\"], [1.0, \"#f0f921\"]], \"type\": \"histogram2d\"}], \"histogram2dcontour\": [{\"colorbar\": {\"outlinewidth\": 0, \"ticks\": \"\"}, \"colorscale\": [[0.0, \"#0d0887\"], [0.1111111111111111, \"#46039f\"], [0.2222222222222222, \"#7201a8\"], [0.3333333333333333, \"#9c179e\"], [0.4444444444444444, \"#bd3786\"], [0.5555555555555556, \"#d8576b\"], [0.6666666666666666, \"#ed7953\"], [0.7777777777777778, \"#fb9f3a\"], [0.8888888888888888, \"#fdca26\"], [1.0, \"#f0f921\"]], \"type\": \"histogram2dcontour\"}], \"mesh3d\": [{\"colorbar\": {\"outlinewidth\": 0, \"ticks\": \"\"}, \"type\": \"mesh3d\"}], \"parcoords\": [{\"line\": {\"colorbar\": {\"outlinewidth\": 0, \"ticks\": \"\"}}, \"type\": \"parcoords\"}], \"pie\": [{\"automargin\": true, \"type\": \"pie\"}], \"scatter\": [{\"marker\": {\"colorbar\": {\"outlinewidth\": 0, \"ticks\": \"\"}}, \"type\": \"scatter\"}], \"scatter3d\": [{\"line\": {\"colorbar\": {\"outlinewidth\": 0, \"ticks\": \"\"}}, \"marker\": {\"colorbar\": {\"outlinewidth\": 0, \"ticks\": \"\"}}, \"type\": \"scatter3d\"}], \"scattercarpet\": [{\"marker\": {\"colorbar\": {\"outlinewidth\": 0, \"ticks\": \"\"}}, \"type\": \"scattercarpet\"}], \"scattergeo\": [{\"marker\": {\"colorbar\": {\"outlinewidth\": 0, \"ticks\": \"\"}}, \"type\": \"scattergeo\"}], \"scattergl\": [{\"marker\": {\"colorbar\": {\"outlinewidth\": 0, \"ticks\": \"\"}}, \"type\": \"scattergl\"}], \"scattermapbox\": [{\"marker\": {\"colorbar\": {\"outlinewidth\": 0, \"ticks\": \"\"}}, \"type\": \"scattermapbox\"}], \"scatterpolar\": [{\"marker\": {\"colorbar\": {\"outlinewidth\": 0, \"ticks\": \"\"}}, \"type\": \"scatterpolar\"}], \"scatterpolargl\": [{\"marker\": {\"colorbar\": {\"outlinewidth\": 0, \"ticks\": \"\"}}, \"type\": \"scatterpolargl\"}], \"scatterternary\": [{\"marker\": {\"colorbar\": {\"outlinewidth\": 0, \"ticks\": \"\"}}, \"type\": \"scatterternary\"}], \"surface\": [{\"colorbar\": {\"outlinewidth\": 0, \"ticks\": \"\"}, \"colorscale\": [[0.0, \"#0d0887\"], [0.1111111111111111, \"#46039f\"], [0.2222222222222222, \"#7201a8\"], [0.3333333333333333, \"#9c179e\"], [0.4444444444444444, \"#bd3786\"], [0.5555555555555556, \"#d8576b\"], [0.6666666666666666, \"#ed7953\"], [0.7777777777777778, \"#fb9f3a\"], [0.8888888888888888, \"#fdca26\"], [1.0, \"#f0f921\"]], \"type\": \"surface\"}], \"table\": [{\"cells\": {\"fill\": {\"color\": \"#EBF0F8\"}, \"line\": {\"color\": \"white\"}}, \"header\": {\"fill\": {\"color\": \"#C8D4E3\"}, \"line\": {\"color\": \"white\"}}, \"type\": \"table\"}]}, \"layout\": {\"annotationdefaults\": {\"arrowcolor\": \"#2a3f5f\", \"arrowhead\": 0, \"arrowwidth\": 1}, \"coloraxis\": {\"colorbar\": {\"outlinewidth\": 0, \"ticks\": \"\"}}, \"colorscale\": {\"diverging\": [[0, \"#8e0152\"], [0.1, \"#c51b7d\"], [0.2, \"#de77ae\"], [0.3, \"#f1b6da\"], [0.4, \"#fde0ef\"], [0.5, \"#f7f7f7\"], [0.6, \"#e6f5d0\"], [0.7, \"#b8e186\"], [0.8, \"#7fbc41\"], [0.9, \"#4d9221\"], [1, \"#276419\"]], \"sequential\": [[0.0, \"#0d0887\"], [0.1111111111111111, \"#46039f\"], [0.2222222222222222, \"#7201a8\"], [0.3333333333333333, \"#9c179e\"], [0.4444444444444444, \"#bd3786\"], [0.5555555555555556, \"#d8576b\"], [0.6666666666666666, \"#ed7953\"], [0.7777777777777778, \"#fb9f3a\"], [0.8888888888888888, \"#fdca26\"], [1.0, \"#f0f921\"]], \"sequentialminus\": [[0.0, \"#0d0887\"], [0.1111111111111111, \"#46039f\"], [0.2222222222222222, \"#7201a8\"], [0.3333333333333333, \"#9c179e\"], [0.4444444444444444, \"#bd3786\"], [0.5555555555555556, \"#d8576b\"], [0.6666666666666666, \"#ed7953\"], [0.7777777777777778, \"#fb9f3a\"], [0.8888888888888888, \"#fdca26\"], [1.0, \"#f0f921\"]]}, \"colorway\": [\"#636efa\", \"#EF553B\", \"#00cc96\", \"#ab63fa\", \"#FFA15A\", \"#19d3f3\", \"#FF6692\", \"#B6E880\", \"#FF97FF\", \"#FECB52\"], \"font\": {\"color\": \"#2a3f5f\"}, \"geo\": {\"bgcolor\": \"white\", \"lakecolor\": \"white\", \"landcolor\": \"#E5ECF6\", \"showlakes\": true, \"showland\": true, \"subunitcolor\": \"white\"}, \"hoverlabel\": {\"align\": \"left\"}, \"hovermode\": \"closest\", \"mapbox\": {\"style\": \"light\"}, \"paper_bgcolor\": \"white\", \"plot_bgcolor\": \"#E5ECF6\", \"polar\": {\"angularaxis\": {\"gridcolor\": \"white\", \"linecolor\": \"white\", \"ticks\": \"\"}, \"bgcolor\": \"#E5ECF6\", \"radialaxis\": {\"gridcolor\": \"white\", \"linecolor\": \"white\", \"ticks\": \"\"}}, \"scene\": {\"xaxis\": {\"backgroundcolor\": \"#E5ECF6\", \"gridcolor\": \"white\", \"gridwidth\": 2, \"linecolor\": \"white\", \"showbackground\": true, \"ticks\": \"\", \"zerolinecolor\": \"white\"}, \"yaxis\": {\"backgroundcolor\": \"#E5ECF6\", \"gridcolor\": \"white\", \"gridwidth\": 2, \"linecolor\": \"white\", \"showbackground\": true, \"ticks\": \"\", \"zerolinecolor\": \"white\"}, \"zaxis\": {\"backgroundcolor\": \"#E5ECF6\", \"gridcolor\": \"white\", \"gridwidth\": 2, \"linecolor\": \"white\", \"showbackground\": true, \"ticks\": \"\", \"zerolinecolor\": \"white\"}}, \"shapedefaults\": {\"line\": {\"color\": \"#2a3f5f\"}}, \"ternary\": {\"aaxis\": {\"gridcolor\": \"white\", \"linecolor\": \"white\", \"ticks\": \"\"}, \"baxis\": {\"gridcolor\": \"white\", \"linecolor\": \"white\", \"ticks\": \"\"}, \"bgcolor\": \"#E5ECF6\", \"caxis\": {\"gridcolor\": \"white\", \"linecolor\": \"white\", \"ticks\": \"\"}}, \"title\": {\"x\": 0.05}, \"xaxis\": {\"automargin\": true, \"gridcolor\": \"white\", \"linecolor\": \"white\", \"ticks\": \"\", \"title\": {\"standoff\": 15}, \"zerolinecolor\": \"white\", \"zerolinewidth\": 2}, \"yaxis\": {\"automargin\": true, \"gridcolor\": \"white\", \"linecolor\": \"white\", \"ticks\": \"\", \"title\": {\"standoff\": 15}, \"zerolinecolor\": \"white\", \"zerolinewidth\": 2}}}},                        {\"responsive\": true}                    ).then(function(){\n",
       "                            \n",
       "var gd = document.getElementById('9afd942f-0d30-40d1-b3c3-95e9a3bf1777');\n",
       "var x = new MutationObserver(function (mutations, observer) {{\n",
       "        var display = window.getComputedStyle(gd).display;\n",
       "        if (!display || display === 'none') {{\n",
       "            console.log([gd, 'removed!']);\n",
       "            Plotly.purge(gd);\n",
       "            observer.disconnect();\n",
       "        }}\n",
       "}});\n",
       "\n",
       "// Listen for the removal of the full notebook cells\n",
       "var notebookContainer = gd.closest('#notebook-container');\n",
       "if (notebookContainer) {{\n",
       "    x.observe(notebookContainer, {childList: true});\n",
       "}}\n",
       "\n",
       "// Listen for the clearing of the current output cell\n",
       "var outputEl = gd.closest('.output');\n",
       "if (outputEl) {{\n",
       "    x.observe(outputEl, {childList: true});\n",
       "}}\n",
       "\n",
       "                        })                };                });            </script>        </div>"
      ]
     },
     "metadata": {},
     "output_type": "display_data"
    }
   ],
   "source": [
    "px.set_mapbox_access_token(mapbox_token)\n",
    "map = px.scatter_mapbox(\n",
    "    total_data,\n",
    "    lat=\"Lat\",\n",
    "    lon=\"Long\",\n",
    "    size=\"Invoice Amount\",\n",
    "    color=\"Customers\"\n",
    ")\n",
    "map.show()"
   ]
  },
  {
   "cell_type": "code",
   "execution_count": 68,
   "metadata": {},
   "outputs": [
    {
     "data": {},
     "metadata": {},
     "output_type": "display_data"
    },
    {
     "data": {
      "application/vnd.holoviews_exec.v0+json": "",
      "text/html": [
       "<div id='2402'>\n",
       "\n",
       "\n",
       "\n",
       "\n",
       "\n",
       "  <div class=\"bk-root\" id=\"6f01937e-be68-489f-91c2-1ddfe56e1be6\" data-root-id=\"2402\"></div>\n",
       "</div>\n",
       "<script type=\"application/javascript\">(function(root) {\n",
       "  function embed_document(root) {\n",
       "  var docs_json = {\"e6fb5714-5d93-49a4-b0d3-610efabadf5e\":{\"roots\":{\"references\":[{\"attributes\":{\"end\":152957.7409882,\"reset_end\":152957.7409882,\"reset_start\":-14535.150870200001,\"start\":-14535.150870200001,\"tags\":[[[\"value\",\"value\",null]]]},\"id\":\"2405\",\"type\":\"Range1d\"},{\"attributes\":{},\"id\":\"2424\",\"type\":\"BasicTicker\"},{\"attributes\":{\"callback\":null,\"renderers\":[{\"id\":\"2450\"},{\"id\":\"2466\"},{\"id\":\"2483\"},{\"id\":\"2502\"}],\"tags\":[\"hv_created\"],\"tooltips\":[[\"Variable\",\"@{Variable}\"],[\"index\",\"@{index}\"],[\"value\",\"@{value}\"]]},\"id\":\"2406\",\"type\":\"HoverTool\"},{\"attributes\":{},\"id\":\"2417\",\"type\":\"LinearScale\"},{\"attributes\":{\"label\":{\"value\":\"Long\"},\"renderers\":[{\"id\":\"2502\"}]},\"id\":\"2516\",\"type\":\"LegendItem\"},{\"attributes\":{\"line_alpha\":0.1,\"line_color\":\"#1f77b3\",\"line_width\":2,\"x\":{\"field\":\"index\"},\"y\":{\"field\":\"value\"}},\"id\":\"2448\",\"type\":\"Line\"},{\"attributes\":{\"label\":{\"value\":\"Invoice Amount\"},\"renderers\":[{\"id\":\"2466\"}]},\"id\":\"2476\",\"type\":\"LegendItem\"},{\"attributes\":{},\"id\":\"2478\",\"type\":\"Selection\"},{\"attributes\":{\"axis_label\":\"\",\"bounds\":\"auto\",\"formatter\":{\"id\":\"2443\"},\"major_label_orientation\":\"horizontal\",\"ticker\":{\"id\":\"2424\"}},\"id\":\"2423\",\"type\":\"LinearAxis\"},{\"attributes\":{\"axis\":{\"id\":\"2423\"},\"dimension\":1,\"grid_line_color\":null,\"ticker\":null},\"id\":\"2426\",\"type\":\"Grid\"},{\"attributes\":{\"line_alpha\":0.2,\"line_color\":\"#2ba02b\",\"line_width\":2,\"x\":{\"field\":\"index\"},\"y\":{\"field\":\"value\"}},\"id\":\"2482\",\"type\":\"Line\"},{\"attributes\":{},\"id\":\"2428\",\"type\":\"PanTool\"},{\"attributes\":{\"data\":{\"Variable\":[\"Number of Users\",\"Number of Users\",\"Number of Users\",\"Number of Users\",\"Number of Users\",\"Number of Users\",\"Number of Users\",\"Number of Users\",\"Number of Users\",\"Number of Users\",\"Number of Users\",\"Number of Users\",\"Number of Users\",\"Number of Users\",\"Number of Users\",\"Number of Users\",\"Number of Users\",\"Number of Users\",\"Number of Users\",\"Number of Users\",\"Number of Users\",\"Number of Users\",\"Number of Users\",\"Number of Users\",\"Number of Users\",\"Number of Users\",\"Number of Users\",\"Number of Users\",\"Number of Users\",\"Number of Users\",\"Number of Users\",\"Number of Users\",\"Number of Users\",\"Number of Users\",\"Number of Users\",\"Number of Users\",\"Number of Users\",\"Number of Users\",\"Number of Users\",\"Number of Users\",\"Number of Users\",\"Number of Users\",\"Number of Users\",\"Number of Users\",\"Number of Users\",\"Number of Users\",\"Number of Users\",\"Number of Users\",\"Number of Users\",\"Number of Users\",\"Number of Users\",\"Number of Users\",\"Number of Users\",\"Number of Users\",\"Number of Users\",\"Number of Users\",\"Number of Users\",\"Number of Users\",\"Number of Users\",\"Number of Users\",\"Number of Users\",\"Number of Users\",\"Number of Users\",\"Number of Users\",\"Number of Users\",\"Number of Users\",\"Number of Users\",\"Number of Users\",\"Number of Users\",\"Number of Users\",\"Number of Users\",\"Number of Users\",\"Number of Users\",\"Number of Users\",\"Number of Users\",\"Number of Users\",\"Number of Users\",\"Number of Users\",\"Number of Users\",\"Number of Users\",\"Number of Users\",\"Number of Users\",\"Number of Users\",\"Number of Users\",\"Number of Users\",\"Number of Users\",\"Number of Users\",\"Number of Users\",\"Number of Users\",\"Number of Users\",\"Number of Users\",\"Number of Users\",\"Number of Users\",\"Number of Users\",\"Number of Users\",\"Number of Users\",\"Number of Users\",\"Number of Users\",\"Number of Users\",\"Number of Users\",\"Number of Users\",\"Number of Users\",\"Number of Users\",\"Number of Users\",\"Number of Users\",\"Number of Users\",\"Number of Users\",\"Number of Users\",\"Number of Users\",\"Number of Users\",\"Number of Users\",\"Number of Users\",\"Number of Users\",\"Number of Users\",\"Number of Users\",\"Number of Users\",\"Number of Users\",\"Number of Users\",\"Number of Users\",\"Number of Users\",\"Number of Users\",\"Number of Users\",\"Number of Users\",\"Number of Users\",\"Number of Users\",\"Number of Users\",\"Number of Users\",\"Number of Users\",\"Number of Users\",\"Number of Users\",\"Number of Users\",\"Number of Users\",\"Number of Users\",\"Number of Users\",\"Number of Users\",\"Number of Users\",\"Number of Users\",\"Number of Users\",\"Number of Users\",\"Number of Users\",\"Number of Users\",\"Number of Users\",\"Number of Users\",\"Number of Users\",\"Number of Users\",\"Number of Users\",\"Number of Users\",\"Number of Users\",\"Number of Users\",\"Number of Users\",\"Number of Users\",\"Number of Users\",\"Number of Users\",\"Number of Users\",\"Number of Users\",\"Number of Users\",\"Number of Users\",\"Number of Users\",\"Number of Users\",\"Number of Users\",\"Number of Users\",\"Number of Users\",\"Number of Users\",\"Number of Users\",\"Number of Users\",\"Number of Users\",\"Number of Users\",\"Number of Users\",\"Number of Users\",\"Number of Users\",\"Number of Users\",\"Number of Users\",\"Number of Users\",\"Number of Users\",\"Number of Users\",\"Number of Users\",\"Number of Users\",\"Number of Users\",\"Number of Users\",\"Number of Users\",\"Number of Users\",\"Number of Users\",\"Number of Users\",\"Number of Users\",\"Number of Users\",\"Number of Users\",\"Number of Users\",\"Number of Users\",\"Number of Users\",\"Number of Users\",\"Number of Users\",\"Number of Users\",\"Number of Users\",\"Number of Users\",\"Number of Users\",\"Number of Users\",\"Number of Users\",\"Number of Users\",\"Number of Users\",\"Number of Users\",\"Number of Users\",\"Number of Users\",\"Number of Users\",\"Number of Users\",\"Number of Users\",\"Number of Users\",\"Number of Users\",\"Number of Users\",\"Number of Users\",\"Number of Users\",\"Number of Users\",\"Number of Users\",\"Number of Users\",\"Number of Users\",\"Number of Users\",\"Number of Users\",\"Number of Users\",\"Number of Users\",\"Number of Users\",\"Number of Users\",\"Number of Users\",\"Number of Users\",\"Number of Users\",\"Number of Users\",\"Number of Users\",\"Number of Users\",\"Number of Users\",\"Number of Users\",\"Number of Users\",\"Number of Users\",\"Number of Users\",\"Number of Users\",\"Number of Users\",\"Number of Users\",\"Number of Users\",\"Number of Users\",\"Number of Users\",\"Number of Users\",\"Number of Users\",\"Number of Users\",\"Number of Users\",\"Number of Users\",\"Number of Users\",\"Number of Users\",\"Number of Users\",\"Number of Users\",\"Number of Users\",\"Number of Users\",\"Number of Users\",\"Number of Users\",\"Number of Users\",\"Number of Users\",\"Number of Users\",\"Number of Users\",\"Number of Users\",\"Number of Users\",\"Number of Users\",\"Number of Users\",\"Number of Users\",\"Number of Users\",\"Number of Users\",\"Number of Users\",\"Number of Users\",\"Number of Users\",\"Number of Users\",\"Number of Users\",\"Number of Users\",\"Number of Users\",\"Number of Users\",\"Number of Users\",\"Number of Users\",\"Number of Users\",\"Number of Users\",\"Number of Users\",\"Number of Users\",\"Number of Users\",\"Number of Users\",\"Number of Users\",\"Number of Users\",\"Number of Users\",\"Number of Users\",\"Number of Users\",\"Number of Users\",\"Number of Users\",\"Number of Users\",\"Number of Users\",\"Number of Users\",\"Number of Users\",\"Number of Users\",\"Number of Users\",\"Number of Users\",\"Number of Users\",\"Number of Users\",\"Number of Users\",\"Number of Users\",\"Number of Users\",\"Number of Users\",\"Number of Users\",\"Number of Users\",\"Number of Users\",\"Number of Users\",\"Number of Users\",\"Number of Users\",\"Number of Users\",\"Number of Users\",\"Number of Users\",\"Number of Users\",\"Number of Users\",\"Number of Users\",\"Number of Users\",\"Number of Users\",\"Number of Users\",\"Number of Users\",\"Number of Users\",\"Number of Users\",\"Number of Users\",\"Number of Users\",\"Number of Users\",\"Number of Users\",\"Number of Users\",\"Number of Users\",\"Number of Users\",\"Number of Users\",\"Number of Users\",\"Number of Users\",\"Number of Users\",\"Number of Users\",\"Number of Users\",\"Number of Users\",\"Number of Users\",\"Number of Users\",\"Number of Users\",\"Number of Users\",\"Number of Users\",\"Number of Users\",\"Number of Users\",\"Number of Users\",\"Number of Users\",\"Number of Users\",\"Number of Users\",\"Number of Users\",\"Number of Users\",\"Number of Users\",\"Number of Users\",\"Number of Users\",\"Number of Users\",\"Number of Users\",\"Number of Users\",\"Number of Users\",\"Number of Users\",\"Number of Users\",\"Number of Users\",\"Number of Users\",\"Number of Users\",\"Number of Users\",\"Number of Users\",\"Number of Users\",\"Number of Users\",\"Number of Users\",\"Number of Users\",\"Number of Users\",\"Number of Users\",\"Number of Users\",\"Number of Users\",\"Number of Users\",\"Number of Users\",\"Number of Users\",\"Number of Users\",\"Number of Users\",\"Number of Users\",\"Number of Users\",\"Number of Users\",\"Number of Users\",\"Number of Users\",\"Number of Users\",\"Number of Users\",\"Number of Users\",\"Number of Users\",\"Number of Users\",\"Number of Users\",\"Number of Users\",\"Number of Users\",\"Number of Users\",\"Number of Users\",\"Number of Users\",\"Number of Users\",\"Number of Users\",\"Number of Users\",\"Number of Users\",\"Number of Users\",\"Number of Users\",\"Number of Users\",\"Number of Users\",\"Number of Users\",\"Number of Users\",\"Number of Users\",\"Number of Users\",\"Number of Users\",\"Number of Users\",\"Number of Users\",\"Number of Users\",\"Number of Users\",\"Number of Users\",\"Number of Users\",\"Number of Users\",\"Number of Users\",\"Number of Users\",\"Number of Users\",\"Number of Users\",\"Number of Users\",\"Number of Users\",\"Number of Users\",\"Number of Users\",\"Number of Users\",\"Number of Users\",\"Number of Users\",\"Number of Users\",\"Number of Users\",\"Number of Users\",\"Number of Users\",\"Number of Users\",\"Number of Users\",\"Number of Users\",\"Number of Users\",\"Number of Users\"],\"index\":[0,1,2,3,4,5,6,7,8,9,10,11,12,13,14,15,16,17,18,19,20,21,22,23,24,25,26,27,28,29,30,31,32,33,34,35,36,37,38,39,40,41,42,43,44,45,46,47,48,49,50,51,52,53,54,55,56,57,58,59,60,61,62,63,64,65,66,67,68,69,70,71,72,73,74,75,76,77,78,79,80,81,82,83,84,85,86,87,88,89,90,91,92,93,94,95,96,97,98,99,100,101,102,103,104,105,106,107,108,109,110,111,112,113,114,115,116,117,118,119,120,121,122,123,124,125,126,127,128,129,130,131,132,133,134,135,136,137,138,139,140,141,142,143,144,145,146,147,148,149,150,151,152,153,154,155,156,157,158,159,160,161,162,163,164,165,166,167,168,169,170,171,172,173,174,175,176,177,178,179,180,181,182,183,184,185,186,187,188,189,190,191,192,193,194,195,196,197,198,199,200,201,202,203,204,205,206,207,208,209,210,211,212,213,214,215,216,217,218,219,220,221,222,223,224,225,226,227,228,229,230,231,232,233,234,235,236,237,238,239,240,241,242,243,244,245,246,247,248,249,250,251,252,253,254,255,256,257,258,259,260,261,262,263,264,265,266,267,268,269,270,271,272,273,274,275,276,277,278,279,280,281,282,283,284,285,286,287,288,289,290,291,292,293,294,295,296,297,298,299,300,301,302,303,304,305,306,307,308,309,310,311,312,313,314,315,316,317,318,319,320,321,322,323,324,325,326,327,328,329,330,331,332,333,334,335,336,337,338,339,340,341,342,343,344,345,346,347,348,349,350,351,352,353,354,355,356,357,358,359,360,361,362,363,364,365,366,367,368,369,370,371,372,373,374,375,376,377,378,379,380,381,382,383,384,385,386,387,388,389,390,391,392,393,394,395,396,397,398,399,400,401,402,403,404,405,406,407,408,409,410,411,412,413,414,415,416,417,418,419,420,421,422,423,424],\"value\":{\"__ndarray__\":\"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\",\"dtype\":\"float64\",\"shape\":[425]}},\"selected\":{\"id\":\"2445\"},\"selection_policy\":{\"id\":\"2473\"}},\"id\":\"2444\",\"type\":\"ColumnDataSource\"},{\"attributes\":{\"data_source\":{\"id\":\"2477\"},\"glyph\":{\"id\":\"2480\"},\"hover_glyph\":null,\"muted_glyph\":{\"id\":\"2482\"},\"nonselection_glyph\":{\"id\":\"2481\"},\"selection_glyph\":null,\"view\":{\"id\":\"2484\"}},\"id\":\"2483\",\"type\":\"GlyphRenderer\"},{\"attributes\":{\"active_drag\":\"auto\",\"active_inspect\":\"auto\",\"active_multi\":null,\"active_scroll\":\"auto\",\"active_tap\":\"auto\",\"tools\":[{\"id\":\"2406\"},{\"id\":\"2427\"},{\"id\":\"2428\"},{\"id\":\"2429\"},{\"id\":\"2430\"},{\"id\":\"2431\"}]},\"id\":\"2433\",\"type\":\"Toolbar\"},{\"attributes\":{\"label\":{\"value\":\"Number of Users\"},\"renderers\":[{\"id\":\"2450\"}]},\"id\":\"2459\",\"type\":\"LegendItem\"},{\"attributes\":{},\"id\":\"2513\",\"type\":\"UnionRenderers\"},{\"attributes\":{\"click_policy\":\"mute\",\"items\":[{\"id\":\"2459\"},{\"id\":\"2476\"},{\"id\":\"2495\"},{\"id\":\"2516\"}],\"location\":[0,0],\"title\":\"Variable\"},\"id\":\"2458\",\"type\":\"Legend\"},{\"attributes\":{\"source\":{\"id\":\"2496\"}},\"id\":\"2503\",\"type\":\"CDSView\"},{\"attributes\":{\"line_alpha\":0.2,\"line_color\":\"#ff7e0e\",\"line_width\":2,\"x\":{\"field\":\"index\"},\"y\":{\"field\":\"value\"}},\"id\":\"2465\",\"type\":\"Line\"},{\"attributes\":{\"source\":{\"id\":\"2477\"}},\"id\":\"2484\",\"type\":\"CDSView\"},{\"attributes\":{\"data_source\":{\"id\":\"2460\"},\"glyph\":{\"id\":\"2463\"},\"hover_glyph\":null,\"muted_glyph\":{\"id\":\"2465\"},\"nonselection_glyph\":{\"id\":\"2464\"},\"selection_glyph\":null,\"view\":{\"id\":\"2467\"}},\"id\":\"2466\",\"type\":\"GlyphRenderer\"},{\"attributes\":{\"data_source\":{\"id\":\"2496\"},\"glyph\":{\"id\":\"2499\"},\"hover_glyph\":null,\"muted_glyph\":{\"id\":\"2501\"},\"nonselection_glyph\":{\"id\":\"2500\"},\"selection_glyph\":null,\"view\":{\"id\":\"2503\"}},\"id\":\"2502\",\"type\":\"GlyphRenderer\"},{\"attributes\":{\"source\":{\"id\":\"2460\"}},\"id\":\"2467\",\"type\":\"CDSView\"},{\"attributes\":{\"line_color\":\"#ff7e0e\",\"line_width\":2,\"x\":{\"field\":\"index\"},\"y\":{\"field\":\"value\"}},\"id\":\"2463\",\"type\":\"Line\"},{\"attributes\":{\"line_alpha\":0.2,\"line_color\":\"#d62628\",\"line_width\":2,\"x\":{\"field\":\"index\"},\"y\":{\"field\":\"value\"}},\"id\":\"2501\",\"type\":\"Line\"},{\"attributes\":{\"line_color\":\"#d62628\",\"line_width\":2,\"x\":{\"field\":\"index\"},\"y\":{\"field\":\"value\"}},\"id\":\"2499\",\"type\":\"Line\"},{\"attributes\":{\"children\":[{\"id\":\"2403\"},{\"id\":\"2410\"},{\"id\":\"2629\"}],\"margin\":[0,0,0,0],\"name\":\"Row05084\",\"tags\":[\"embedded\"]},\"id\":\"2402\",\"type\":\"Row\"},{\"attributes\":{},\"id\":\"2415\",\"type\":\"LinearScale\"},{\"attributes\":{\"data\":{\"Variable\":[\"Long\",\"Long\",\"Long\",\"Long\",\"Long\",\"Long\",\"Long\",\"Long\",\"Long\",\"Long\",\"Long\",\"Long\",\"Long\",\"Long\",\"Long\",\"Long\",\"Long\",\"Long\",\"Long\",\"Long\",\"Long\",\"Long\",\"Long\",\"Long\",\"Long\",\"Long\",\"Long\",\"Long\",\"Long\",\"Long\",\"Long\",\"Long\",\"Long\",\"Long\",\"Long\",\"Long\",\"Long\",\"Long\",\"Long\",\"Long\",\"Long\",\"Long\",\"Long\",\"Long\",\"Long\",\"Long\",\"Long\",\"Long\",\"Long\",\"Long\",\"Long\",\"Long\",\"Long\",\"Long\",\"Long\",\"Long\",\"Long\",\"Long\",\"Long\",\"Long\",\"Long\",\"Long\",\"Long\",\"Long\",\"Long\",\"Long\",\"Long\",\"Long\",\"Long\",\"Long\",\"Long\",\"Long\",\"Long\",\"Long\",\"Long\",\"Long\",\"Long\",\"Long\",\"Long\",\"Long\",\"Long\",\"Long\",\"Long\",\"Long\",\"Long\",\"Long\",\"Long\",\"Long\",\"Long\",\"Long\",\"Long\",\"Long\",\"Long\",\"Long\",\"Long\",\"Long\",\"Long\",\"Long\",\"Long\",\"Long\",\"Long\",\"Long\",\"Long\",\"Long\",\"Long\",\"Long\",\"Long\",\"Long\",\"Long\",\"Long\",\"Long\",\"Long\",\"Long\",\"Long\",\"Long\",\"Long\",\"Long\",\"Long\",\"Long\",\"Long\",\"Long\",\"Long\",\"Long\",\"Long\",\"Long\",\"Long\",\"Long\",\"Long\",\"Long\",\"Long\",\"Long\",\"Long\",\"Long\",\"Long\",\"Long\",\"Long\",\"Long\",\"Long\",\"Long\",\"Long\",\"Long\",\"Long\",\"Long\",\"Long\",\"Long\",\"Long\",\"Long\",\"Long\",\"Long\",\"Long\",\"Long\",\"Long\",\"Long\",\"Long\",\"Long\",\"Long\",\"Long\",\"Long\",\"Long\",\"Long\",\"Long\",\"Long\",\"Long\",\"Long\",\"Long\",\"Long\",\"Long\",\"Long\",\"Long\",\"Long\",\"Long\",\"Long\",\"Long\",\"Long\",\"Long\",\"Long\",\"Long\",\"Long\",\"Long\",\"Long\",\"Long\",\"Long\",\"Long\",\"Long\",\"Long\",\"Long\",\"Long\",\"Long\",\"Long\",\"Long\",\"Long\",\"Long\",\"Long\",\"Long\",\"Long\",\"Long\",\"Long\",\"Long\",\"Long\",\"Long\",\"Long\",\"Long\",\"Long\",\"Long\",\"Long\",\"Long\",\"Long\",\"Long\",\"Long\",\"Long\",\"Long\",\"Long\",\"Long\",\"Long\",\"Long\",\"Long\",\"Long\",\"Long\",\"Long\",\"Long\",\"Long\",\"Long\",\"Long\",\"Long\",\"Long\",\"Long\",\"Long\",\"Long\",\"Long\",\"Long\",\"Long\",\"Long\",\"Long\",\"Long\",\"Long\",\"Long\",\"Long\",\"Long\",\"Long\",\"Long\",\"Long\",\"Long\",\"Long\",\"Long\",\"Long\",\"Long\",\"Long\",\"Long\",\"Long\",\"Long\",\"Long\",\"Long\",\"Long\",\"Long\",\"Long\",\"Long\",\"Long\",\"Long\",\"Long\",\"Long\",\"Long\",\"Long\",\"Long\",\"Long\",\"Long\",\"Long\",\"Long\",\"Long\",\"Long\",\"Long\",\"Long\",\"Long\",\"Long\",\"Long\",\"Long\",\"Long\",\"Long\",\"Long\",\"Long\",\"Long\",\"Long\",\"Long\",\"Long\",\"Long\",\"Long\",\"Long\",\"Long\",\"Long\",\"Long\",\"Long\",\"Long\",\"Long\",\"Long\",\"Long\",\"Long\",\"Long\",\"Long\",\"Long\",\"Long\",\"Long\",\"Long\",\"Long\",\"Long\",\"Long\",\"Long\",\"Long\",\"Long\",\"Long\",\"Long\",\"Long\",\"Long\",\"Long\",\"Long\",\"Long\",\"Long\",\"Long\",\"Long\",\"Long\",\"Long\",\"Long\",\"Long\",\"Long\",\"Long\",\"Long\",\"Long\",\"Long\",\"Long\",\"Long\",\"Long\",\"Long\",\"Long\",\"Long\",\"Long\",\"Long\",\"Long\",\"Long\",\"Long\",\"Long\",\"Long\",\"Long\",\"Long\",\"Long\",\"Long\",\"Long\",\"Long\",\"Long\",\"Long\",\"Long\",\"Long\",\"Long\",\"Long\",\"Long\",\"Long\",\"Long\",\"Long\",\"Long\",\"Long\",\"Long\",\"Long\",\"Long\",\"Long\",\"Long\",\"Long\",\"Long\",\"Long\",\"Long\",\"Long\",\"Long\",\"Long\",\"Long\",\"Long\",\"Long\",\"Long\",\"Long\",\"Long\",\"Long\",\"Long\",\"Long\",\"Long\",\"Long\",\"Long\",\"Long\",\"Long\",\"Long\",\"Long\",\"Long\",\"Long\",\"Long\",\"Long\",\"Long\",\"Long\",\"Long\",\"Long\",\"Long\",\"Long\",\"Long\",\"Long\",\"Long\",\"Long\",\"Long\",\"Long\",\"Long\",\"Long\",\"Long\",\"Long\",\"Long\",\"Long\",\"Long\",\"Long\",\"Long\",\"Long\",\"Long\",\"Long\",\"Long\",\"Long\",\"Long\",\"Long\",\"Long\",\"Long\",\"Long\",\"Long\",\"Long\",\"Long\",\"Long\",\"Long\"],\"index\":[0,1,2,3,4,5,6,7,8,9,10,11,12,13,14,15,16,17,18,19,20,21,22,23,24,25,26,27,28,29,30,31,32,33,34,35,36,37,38,39,40,41,42,43,44,45,46,47,48,49,50,51,52,53,54,55,56,57,58,59,60,61,62,63,64,65,66,67,68,69,70,71,72,73,74,75,76,77,78,79,80,81,82,83,84,85,86,87,88,89,90,91,92,93,94,95,96,97,98,99,100,101,102,103,104,105,106,107,108,109,110,111,112,113,114,115,116,117,118,119,120,121,122,123,124,125,126,127,128,129,130,131,132,133,134,135,136,137,138,139,140,141,142,143,144,145,146,147,148,149,150,151,152,153,154,155,156,157,158,159,160,161,162,163,164,165,166,167,168,169,170,171,172,173,174,175,176,177,178,179,180,181,182,183,184,185,186,187,188,189,190,191,192,193,194,195,196,197,198,199,200,201,202,203,204,205,206,207,208,209,210,211,212,213,214,215,216,217,218,219,220,221,222,223,224,225,226,227,228,229,230,231,232,233,234,235,236,237,238,239,240,241,242,243,244,245,246,247,248,249,250,251,252,253,254,255,256,257,258,259,260,261,262,263,264,265,266,267,268,269,270,271,272,273,274,275,276,277,278,279,280,281,282,283,284,285,286,287,288,289,290,291,292,293,294,295,296,297,298,299,300,301,302,303,304,305,306,307,308,309,310,311,312,313,314,315,316,317,318,319,320,321,322,323,324,325,326,327,328,329,330,331,332,333,334,335,336,337,338,339,340,341,342,343,344,345,346,347,348,349,350,351,352,353,354,355,356,357,358,359,360,361,362,363,364,365,366,367,368,369,370,371,372,373,374,375,376,377,378,379,380,381,382,383,384,385,386,387,388,389,390,391,392,393,394,395,396,397,398,399,400,401,402,403,404,405,406,407,408,409,410,411,412,413,414,415,416,417,418,419,420,421,422,423,424],\"value\":{\"__ndarray__\":\"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\",\"dtype\":\"float64\",\"shape\":[425]}},\"selected\":{\"id\":\"2497\"},\"selection_policy\":{\"id\":\"2528\"}},\"id\":\"2496\",\"type\":\"ColumnDataSource\"},{\"attributes\":{\"end\":424.0,\"reset_end\":424.0,\"reset_start\":0.0,\"tags\":[[[\"index\",\"index\",null]]]},\"id\":\"2404\",\"type\":\"Range1d\"},{\"attributes\":{\"line_alpha\":0.1,\"line_color\":\"#d62628\",\"line_width\":2,\"x\":{\"field\":\"index\"},\"y\":{\"field\":\"value\"}},\"id\":\"2500\",\"type\":\"Line\"},{\"attributes\":{},\"id\":\"2443\",\"type\":\"BasicTickFormatter\"},{\"attributes\":{\"margin\":[5,5,5,5],\"name\":\"HSpacer05088\",\"sizing_mode\":\"stretch_width\"},\"id\":\"2403\",\"type\":\"Spacer\"},{\"attributes\":{},\"id\":\"2528\",\"type\":\"UnionRenderers\"},{\"attributes\":{\"source\":{\"id\":\"2444\"}},\"id\":\"2451\",\"type\":\"CDSView\"},{\"attributes\":{},\"id\":\"2492\",\"type\":\"UnionRenderers\"},{\"attributes\":{\"line_alpha\":0.2,\"line_color\":\"#1f77b3\",\"line_width\":2,\"x\":{\"field\":\"index\"},\"y\":{\"field\":\"value\"}},\"id\":\"2449\",\"type\":\"Line\"},{\"attributes\":{\"line_alpha\":0.1,\"line_color\":\"#2ba02b\",\"line_width\":2,\"x\":{\"field\":\"index\"},\"y\":{\"field\":\"value\"}},\"id\":\"2481\",\"type\":\"Line\"},{\"attributes\":{\"data_source\":{\"id\":\"2444\"},\"glyph\":{\"id\":\"2447\"},\"hover_glyph\":null,\"muted_glyph\":{\"id\":\"2449\"},\"nonselection_glyph\":{\"id\":\"2448\"},\"selection_glyph\":null,\"view\":{\"id\":\"2451\"}},\"id\":\"2450\",\"type\":\"GlyphRenderer\"},{\"attributes\":{\"data\":{\"Variable\":[\"Lat\",\"Lat\",\"Lat\",\"Lat\",\"Lat\",\"Lat\",\"Lat\",\"Lat\",\"Lat\",\"Lat\",\"Lat\",\"Lat\",\"Lat\",\"Lat\",\"Lat\",\"Lat\",\"Lat\",\"Lat\",\"Lat\",\"Lat\",\"Lat\",\"Lat\",\"Lat\",\"Lat\",\"Lat\",\"Lat\",\"Lat\",\"Lat\",\"Lat\",\"Lat\",\"Lat\",\"Lat\",\"Lat\",\"Lat\",\"Lat\",\"Lat\",\"Lat\",\"Lat\",\"Lat\",\"Lat\",\"Lat\",\"Lat\",\"Lat\",\"Lat\",\"Lat\",\"Lat\",\"Lat\",\"Lat\",\"Lat\",\"Lat\",\"Lat\",\"Lat\",\"Lat\",\"Lat\",\"Lat\",\"Lat\",\"Lat\",\"Lat\",\"Lat\",\"Lat\",\"Lat\",\"Lat\",\"Lat\",\"Lat\",\"Lat\",\"Lat\",\"Lat\",\"Lat\",\"Lat\",\"Lat\",\"Lat\",\"Lat\",\"Lat\",\"Lat\",\"Lat\",\"Lat\",\"Lat\",\"Lat\",\"Lat\",\"Lat\",\"Lat\",\"Lat\",\"Lat\",\"Lat\",\"Lat\",\"Lat\",\"Lat\",\"Lat\",\"Lat\",\"Lat\",\"Lat\",\"Lat\",\"Lat\",\"Lat\",\"Lat\",\"Lat\",\"Lat\",\"Lat\",\"Lat\",\"Lat\",\"Lat\",\"Lat\",\"Lat\",\"Lat\",\"Lat\",\"Lat\",\"Lat\",\"Lat\",\"Lat\",\"Lat\",\"Lat\",\"Lat\",\"Lat\",\"Lat\",\"Lat\",\"Lat\",\"Lat\",\"Lat\",\"Lat\",\"Lat\",\"Lat\",\"Lat\",\"Lat\",\"Lat\",\"Lat\",\"Lat\",\"Lat\",\"Lat\",\"Lat\",\"Lat\",\"Lat\",\"Lat\",\"Lat\",\"Lat\",\"Lat\",\"Lat\",\"Lat\",\"Lat\",\"Lat\",\"Lat\",\"Lat\",\"Lat\",\"Lat\",\"Lat\",\"Lat\",\"Lat\",\"Lat\",\"Lat\",\"Lat\",\"Lat\",\"Lat\",\"Lat\",\"Lat\",\"Lat\",\"Lat\",\"Lat\",\"Lat\",\"Lat\",\"Lat\",\"Lat\",\"Lat\",\"Lat\",\"Lat\",\"Lat\",\"Lat\",\"Lat\",\"Lat\",\"Lat\",\"Lat\",\"Lat\",\"Lat\",\"Lat\",\"Lat\",\"Lat\",\"Lat\",\"Lat\",\"Lat\",\"Lat\",\"Lat\",\"Lat\",\"Lat\",\"Lat\",\"Lat\",\"Lat\",\"Lat\",\"Lat\",\"Lat\",\"Lat\",\"Lat\",\"Lat\",\"Lat\",\"Lat\",\"Lat\",\"Lat\",\"Lat\",\"Lat\",\"Lat\",\"Lat\",\"Lat\",\"Lat\",\"Lat\",\"Lat\",\"Lat\",\"Lat\",\"Lat\",\"Lat\",\"Lat\",\"Lat\",\"Lat\",\"Lat\",\"Lat\",\"Lat\",\"Lat\",\"Lat\",\"Lat\",\"Lat\",\"Lat\",\"Lat\",\"Lat\",\"Lat\",\"Lat\",\"Lat\",\"Lat\",\"Lat\",\"Lat\",\"Lat\",\"Lat\",\"Lat\",\"Lat\",\"Lat\",\"Lat\",\"Lat\",\"Lat\",\"Lat\",\"Lat\",\"Lat\",\"Lat\",\"Lat\",\"Lat\",\"Lat\",\"Lat\",\"Lat\",\"Lat\",\"Lat\",\"Lat\",\"Lat\",\"Lat\",\"Lat\",\"Lat\",\"Lat\",\"Lat\",\"Lat\",\"Lat\",\"Lat\",\"Lat\",\"Lat\",\"Lat\",\"Lat\",\"Lat\",\"Lat\",\"Lat\",\"Lat\",\"Lat\",\"Lat\",\"Lat\",\"Lat\",\"Lat\",\"Lat\",\"Lat\",\"Lat\",\"Lat\",\"Lat\",\"Lat\",\"Lat\",\"Lat\",\"Lat\",\"Lat\",\"Lat\",\"Lat\",\"Lat\",\"Lat\",\"Lat\",\"Lat\",\"Lat\",\"Lat\",\"Lat\",\"Lat\",\"Lat\",\"Lat\",\"Lat\",\"Lat\",\"Lat\",\"Lat\",\"Lat\",\"Lat\",\"Lat\",\"Lat\",\"Lat\",\"Lat\",\"Lat\",\"Lat\",\"Lat\",\"Lat\",\"Lat\",\"Lat\",\"Lat\",\"Lat\",\"Lat\",\"Lat\",\"Lat\",\"Lat\",\"Lat\",\"Lat\",\"Lat\",\"Lat\",\"Lat\",\"Lat\",\"Lat\",\"Lat\",\"Lat\",\"Lat\",\"Lat\",\"Lat\",\"Lat\",\"Lat\",\"Lat\",\"Lat\",\"Lat\",\"Lat\",\"Lat\",\"Lat\",\"Lat\",\"Lat\",\"Lat\",\"Lat\",\"Lat\",\"Lat\",\"Lat\",\"Lat\",\"Lat\",\"Lat\",\"Lat\",\"Lat\",\"Lat\",\"Lat\",\"Lat\",\"Lat\",\"Lat\",\"Lat\",\"Lat\",\"Lat\",\"Lat\",\"Lat\",\"Lat\",\"Lat\",\"Lat\",\"Lat\",\"Lat\",\"Lat\",\"Lat\",\"Lat\",\"Lat\",\"Lat\",\"Lat\",\"Lat\",\"Lat\",\"Lat\",\"Lat\",\"Lat\",\"Lat\",\"Lat\",\"Lat\",\"Lat\",\"Lat\",\"Lat\",\"Lat\",\"Lat\",\"Lat\",\"Lat\",\"Lat\",\"Lat\",\"Lat\",\"Lat\",\"Lat\",\"Lat\",\"Lat\",\"Lat\",\"Lat\",\"Lat\",\"Lat\",\"Lat\",\"Lat\",\"Lat\",\"Lat\",\"Lat\",\"Lat\",\"Lat\",\"Lat\",\"Lat\",\"Lat\",\"Lat\",\"Lat\",\"Lat\",\"Lat\",\"Lat\",\"Lat\",\"Lat\",\"Lat\",\"Lat\",\"Lat\",\"Lat\",\"Lat\",\"Lat\",\"Lat\",\"Lat\",\"Lat\",\"Lat\",\"Lat\",\"Lat\",\"Lat\",\"Lat\",\"Lat\",\"Lat\",\"Lat\",\"Lat\"],\"index\":[0,1,2,3,4,5,6,7,8,9,10,11,12,13,14,15,16,17,18,19,20,21,22,23,24,25,26,27,28,29,30,31,32,33,34,35,36,37,38,39,40,41,42,43,44,45,46,47,48,49,50,51,52,53,54,55,56,57,58,59,60,61,62,63,64,65,66,67,68,69,70,71,72,73,74,75,76,77,78,79,80,81,82,83,84,85,86,87,88,89,90,91,92,93,94,95,96,97,98,99,100,101,102,103,104,105,106,107,108,109,110,111,112,113,114,115,116,117,118,119,120,121,122,123,124,125,126,127,128,129,130,131,132,133,134,135,136,137,138,139,140,141,142,143,144,145,146,147,148,149,150,151,152,153,154,155,156,157,158,159,160,161,162,163,164,165,166,167,168,169,170,171,172,173,174,175,176,177,178,179,180,181,182,183,184,185,186,187,188,189,190,191,192,193,194,195,196,197,198,199,200,201,202,203,204,205,206,207,208,209,210,211,212,213,214,215,216,217,218,219,220,221,222,223,224,225,226,227,228,229,230,231,232,233,234,235,236,237,238,239,240,241,242,243,244,245,246,247,248,249,250,251,252,253,254,255,256,257,258,259,260,261,262,263,264,265,266,267,268,269,270,271,272,273,274,275,276,277,278,279,280,281,282,283,284,285,286,287,288,289,290,291,292,293,294,295,296,297,298,299,300,301,302,303,304,305,306,307,308,309,310,311,312,313,314,315,316,317,318,319,320,321,322,323,324,325,326,327,328,329,330,331,332,333,334,335,336,337,338,339,340,341,342,343,344,345,346,347,348,349,350,351,352,353,354,355,356,357,358,359,360,361,362,363,364,365,366,367,368,369,370,371,372,373,374,375,376,377,378,379,380,381,382,383,384,385,386,387,388,389,390,391,392,393,394,395,396,397,398,399,400,401,402,403,404,405,406,407,408,409,410,411,412,413,414,415,416,417,418,419,420,421,422,423,424],\"value\":{\"__ndarray__\":\"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\",\"dtype\":\"float64\",\"shape\":[425]}},\"selected\":{\"id\":\"2478\"},\"selection_policy\":{\"id\":\"2513\"}},\"id\":\"2477\",\"type\":\"ColumnDataSource\"},{\"attributes\":{},\"id\":\"2427\",\"type\":\"SaveTool\"},{\"attributes\":{},\"id\":\"2473\",\"type\":\"UnionRenderers\"},{\"attributes\":{},\"id\":\"2420\",\"type\":\"BasicTicker\"},{\"attributes\":{\"axis_label\":\"\",\"bounds\":\"auto\",\"formatter\":{\"id\":\"2441\"},\"major_label_orientation\":\"horizontal\",\"ticker\":{\"id\":\"2420\"}},\"id\":\"2419\",\"type\":\"LinearAxis\"},{\"attributes\":{\"line_color\":\"#1f77b3\",\"line_width\":2,\"x\":{\"field\":\"index\"},\"y\":{\"field\":\"value\"}},\"id\":\"2447\",\"type\":\"Line\"},{\"attributes\":{\"bottom_units\":\"screen\",\"fill_alpha\":0.5,\"fill_color\":\"lightgrey\",\"left_units\":\"screen\",\"level\":\"overlay\",\"line_alpha\":1.0,\"line_color\":\"black\",\"line_dash\":[4,4],\"line_width\":2,\"render_mode\":\"css\",\"right_units\":\"screen\",\"top_units\":\"screen\"},\"id\":\"2432\",\"type\":\"BoxAnnotation\"},{\"attributes\":{},\"id\":\"2497\",\"type\":\"Selection\"},{\"attributes\":{\"axis\":{\"id\":\"2419\"},\"grid_line_color\":null,\"ticker\":null},\"id\":\"2422\",\"type\":\"Grid\"},{\"attributes\":{\"overlay\":{\"id\":\"2432\"}},\"id\":\"2430\",\"type\":\"BoxZoomTool\"},{\"attributes\":{\"line_color\":\"#2ba02b\",\"line_width\":2,\"x\":{\"field\":\"index\"},\"y\":{\"field\":\"value\"}},\"id\":\"2480\",\"type\":\"Line\"},{\"attributes\":{},\"id\":\"2445\",\"type\":\"Selection\"},{\"attributes\":{},\"id\":\"2461\",\"type\":\"Selection\"},{\"attributes\":{\"align\":null,\"below\":[{\"id\":\"2419\"}],\"center\":[{\"id\":\"2422\"},{\"id\":\"2426\"}],\"left\":[{\"id\":\"2423\"}],\"margin\":null,\"min_border_bottom\":10,\"min_border_left\":10,\"min_border_right\":10,\"min_border_top\":10,\"plot_height\":300,\"plot_width\":700,\"renderers\":[{\"id\":\"2450\"},{\"id\":\"2466\"},{\"id\":\"2483\"},{\"id\":\"2502\"}],\"right\":[{\"id\":\"2458\"}],\"sizing_mode\":\"fixed\",\"title\":{\"id\":\"2411\"},\"toolbar\":{\"id\":\"2433\"},\"x_range\":{\"id\":\"2404\"},\"x_scale\":{\"id\":\"2415\"},\"y_range\":{\"id\":\"2405\"},\"y_scale\":{\"id\":\"2417\"}},\"id\":\"2410\",\"subtype\":\"Figure\",\"type\":\"Plot\"},{\"attributes\":{},\"id\":\"2441\",\"type\":\"BasicTickFormatter\"},{\"attributes\":{\"text\":\"\",\"text_color\":{\"value\":\"black\"},\"text_font_size\":{\"value\":\"12pt\"}},\"id\":\"2411\",\"type\":\"Title\"},{\"attributes\":{\"line_alpha\":0.1,\"line_color\":\"#ff7e0e\",\"line_width\":2,\"x\":{\"field\":\"index\"},\"y\":{\"field\":\"value\"}},\"id\":\"2464\",\"type\":\"Line\"},{\"attributes\":{},\"id\":\"2431\",\"type\":\"ResetTool\"},{\"attributes\":{\"label\":{\"value\":\"Lat\"},\"renderers\":[{\"id\":\"2483\"}]},\"id\":\"2495\",\"type\":\"LegendItem\"},{\"attributes\":{\"data\":{\"Variable\":[\"Invoice Amount\",\"Invoice Amount\",\"Invoice Amount\",\"Invoice Amount\",\"Invoice Amount\",\"Invoice Amount\",\"Invoice Amount\",\"Invoice Amount\",\"Invoice Amount\",\"Invoice Amount\",\"Invoice Amount\",\"Invoice Amount\",\"Invoice Amount\",\"Invoice Amount\",\"Invoice Amount\",\"Invoice Amount\",\"Invoice Amount\",\"Invoice Amount\",\"Invoice Amount\",\"Invoice Amount\",\"Invoice Amount\",\"Invoice Amount\",\"Invoice Amount\",\"Invoice Amount\",\"Invoice Amount\",\"Invoice Amount\",\"Invoice Amount\",\"Invoice Amount\",\"Invoice Amount\",\"Invoice Amount\",\"Invoice Amount\",\"Invoice Amount\",\"Invoice Amount\",\"Invoice Amount\",\"Invoice Amount\",\"Invoice Amount\",\"Invoice Amount\",\"Invoice Amount\",\"Invoice Amount\",\"Invoice Amount\",\"Invoice Amount\",\"Invoice Amount\",\"Invoice Amount\",\"Invoice Amount\",\"Invoice Amount\",\"Invoice Amount\",\"Invoice Amount\",\"Invoice Amount\",\"Invoice Amount\",\"Invoice Amount\",\"Invoice Amount\",\"Invoice Amount\",\"Invoice Amount\",\"Invoice Amount\",\"Invoice Amount\",\"Invoice Amount\",\"Invoice Amount\",\"Invoice Amount\",\"Invoice Amount\",\"Invoice Amount\",\"Invoice Amount\",\"Invoice Amount\",\"Invoice Amount\",\"Invoice Amount\",\"Invoice Amount\",\"Invoice Amount\",\"Invoice Amount\",\"Invoice Amount\",\"Invoice Amount\",\"Invoice Amount\",\"Invoice Amount\",\"Invoice Amount\",\"Invoice Amount\",\"Invoice Amount\",\"Invoice Amount\",\"Invoice Amount\",\"Invoice Amount\",\"Invoice Amount\",\"Invoice Amount\",\"Invoice Amount\",\"Invoice Amount\",\"Invoice Amount\",\"Invoice Amount\",\"Invoice Amount\",\"Invoice Amount\",\"Invoice Amount\",\"Invoice Amount\",\"Invoice Amount\",\"Invoice Amount\",\"Invoice Amount\",\"Invoice Amount\",\"Invoice Amount\",\"Invoice Amount\",\"Invoice Amount\",\"Invoice Amount\",\"Invoice Amount\",\"Invoice Amount\",\"Invoice Amount\",\"Invoice Amount\",\"Invoice Amount\",\"Invoice Amount\",\"Invoice Amount\",\"Invoice Amount\",\"Invoice Amount\",\"Invoice Amount\",\"Invoice Amount\",\"Invoice Amount\",\"Invoice Amount\",\"Invoice Amount\",\"Invoice Amount\",\"Invoice Amount\",\"Invoice Amount\",\"Invoice Amount\",\"Invoice Amount\",\"Invoice Amount\",\"Invoice Amount\",\"Invoice Amount\",\"Invoice Amount\",\"Invoice Amount\",\"Invoice Amount\",\"Invoice Amount\",\"Invoice Amount\",\"Invoice Amount\",\"Invoice Amount\",\"Invoice Amount\",\"Invoice Amount\",\"Invoice Amount\",\"Invoice Amount\",\"Invoice Amount\",\"Invoice Amount\",\"Invoice Amount\",\"Invoice Amount\",\"Invoice Amount\",\"Invoice Amount\",\"Invoice Amount\",\"Invoice Amount\",\"Invoice Amount\",\"Invoice Amount\",\"Invoice Amount\",\"Invoice Amount\",\"Invoice Amount\",\"Invoice Amount\",\"Invoice Amount\",\"Invoice Amount\",\"Invoice Amount\",\"Invoice Amount\",\"Invoice Amount\",\"Invoice Amount\",\"Invoice Amount\",\"Invoice Amount\",\"Invoice Amount\",\"Invoice Amount\",\"Invoice Amount\",\"Invoice Amount\",\"Invoice Amount\",\"Invoice Amount\",\"Invoice Amount\",\"Invoice Amount\",\"Invoice Amount\",\"Invoice Amount\",\"Invoice Amount\",\"Invoice Amount\",\"Invoice Amount\",\"Invoice Amount\",\"Invoice Amount\",\"Invoice Amount\",\"Invoice Amount\",\"Invoice Amount\",\"Invoice Amount\",\"Invoice Amount\",\"Invoice Amount\",\"Invoice Amount\",\"Invoice Amount\",\"Invoice Amount\",\"Invoice Amount\",\"Invoice Amount\",\"Invoice Amount\",\"Invoice Amount\",\"Invoice Amount\",\"Invoice Amount\",\"Invoice Amount\",\"Invoice Amount\",\"Invoice Amount\",\"Invoice Amount\",\"Invoice Amount\",\"Invoice Amount\",\"Invoice Amount\",\"Invoice Amount\",\"Invoice Amount\",\"Invoice Amount\",\"Invoice Amount\",\"Invoice Amount\",\"Invoice Amount\",\"Invoice Amount\",\"Invoice Amount\",\"Invoice Amount\",\"Invoice Amount\",\"Invoice Amount\",\"Invoice Amount\",\"Invoice Amount\",\"Invoice Amount\",\"Invoice Amount\",\"Invoice Amount\",\"Invoice Amount\",\"Invoice Amount\",\"Invoice Amount\",\"Invoice Amount\",\"Invoice Amount\",\"Invoice Amount\",\"Invoice Amount\",\"Invoice Amount\",\"Invoice Amount\",\"Invoice Amount\",\"Invoice Amount\",\"Invoice Amount\",\"Invoice Amount\",\"Invoice Amount\",\"Invoice Amount\",\"Invoice Amount\",\"Invoice Amount\",\"Invoice Amount\",\"Invoice Amount\",\"Invoice Amount\",\"Invoice Amount\",\"Invoice Amount\",\"Invoice Amount\",\"Invoice Amount\",\"Invoice Amount\",\"Invoice Amount\",\"Invoice Amount\",\"Invoice Amount\",\"Invoice Amount\",\"Invoice Amount\",\"Invoice Amount\",\"Invoice Amount\",\"Invoice Amount\",\"Invoice Amount\",\"Invoice Amount\",\"Invoice Amount\",\"Invoice Amount\",\"Invoice Amount\",\"Invoice Amount\",\"Invoice Amount\",\"Invoice Amount\",\"Invoice Amount\",\"Invoice Amount\",\"Invoice Amount\",\"Invoice Amount\",\"Invoice Amount\",\"Invoice Amount\",\"Invoice Amount\",\"Invoice Amount\",\"Invoice Amount\",\"Invoice Amount\",\"Invoice Amount\",\"Invoice Amount\",\"Invoice Amount\",\"Invoice Amount\",\"Invoice Amount\",\"Invoice Amount\",\"Invoice Amount\",\"Invoice Amount\",\"Invoice Amount\",\"Invoice Amount\",\"Invoice Amount\",\"Invoice Amount\",\"Invoice Amount\",\"Invoice Amount\",\"Invoice Amount\",\"Invoice Amount\",\"Invoice Amount\",\"Invoice Amount\",\"Invoice Amount\",\"Invoice Amount\",\"Invoice Amount\",\"Invoice Amount\",\"Invoice Amount\",\"Invoice Amount\",\"Invoice Amount\",\"Invoice Amount\",\"Invoice Amount\",\"Invoice Amount\",\"Invoice Amount\",\"Invoice Amount\",\"Invoice Amount\",\"Invoice Amount\",\"Invoice Amount\",\"Invoice Amount\",\"Invoice Amount\",\"Invoice Amount\",\"Invoice Amount\",\"Invoice Amount\",\"Invoice Amount\",\"Invoice Amount\",\"Invoice Amount\",\"Invoice Amount\",\"Invoice Amount\",\"Invoice Amount\",\"Invoice Amount\",\"Invoice Amount\",\"Invoice Amount\",\"Invoice Amount\",\"Invoice Amount\",\"Invoice Amount\",\"Invoice Amount\",\"Invoice Amount\",\"Invoice Amount\",\"Invoice Amount\",\"Invoice Amount\",\"Invoice Amount\",\"Invoice Amount\",\"Invoice Amount\",\"Invoice Amount\",\"Invoice Amount\",\"Invoice Amount\",\"Invoice Amount\",\"Invoice Amount\",\"Invoice Amount\",\"Invoice Amount\",\"Invoice Amount\",\"Invoice Amount\",\"Invoice Amount\",\"Invoice Amount\",\"Invoice Amount\",\"Invoice Amount\",\"Invoice Amount\",\"Invoice Amount\",\"Invoice Amount\",\"Invoice Amount\",\"Invoice Amount\",\"Invoice Amount\",\"Invoice Amount\",\"Invoice Amount\",\"Invoice Amount\",\"Invoice Amount\",\"Invoice Amount\",\"Invoice Amount\",\"Invoice Amount\",\"Invoice Amount\",\"Invoice Amount\",\"Invoice Amount\",\"Invoice Amount\",\"Invoice Amount\",\"Invoice Amount\",\"Invoice Amount\",\"Invoice Amount\",\"Invoice Amount\",\"Invoice Amount\",\"Invoice Amount\",\"Invoice Amount\",\"Invoice Amount\",\"Invoice Amount\",\"Invoice Amount\",\"Invoice Amount\",\"Invoice Amount\",\"Invoice Amount\",\"Invoice Amount\",\"Invoice Amount\",\"Invoice Amount\",\"Invoice Amount\",\"Invoice Amount\",\"Invoice Amount\",\"Invoice Amount\",\"Invoice Amount\",\"Invoice Amount\",\"Invoice Amount\",\"Invoice Amount\",\"Invoice Amount\",\"Invoice Amount\",\"Invoice Amount\",\"Invoice Amount\",\"Invoice Amount\",\"Invoice Amount\",\"Invoice Amount\",\"Invoice Amount\",\"Invoice Amount\",\"Invoice Amount\",\"Invoice Amount\",\"Invoice Amount\",\"Invoice Amount\",\"Invoice Amount\",\"Invoice Amount\",\"Invoice Amount\",\"Invoice Amount\",\"Invoice Amount\",\"Invoice Amount\",\"Invoice Amount\",\"Invoice Amount\",\"Invoice Amount\",\"Invoice Amount\",\"Invoice Amount\",\"Invoice Amount\",\"Invoice Amount\",\"Invoice Amount\",\"Invoice Amount\",\"Invoice Amount\",\"Invoice Amount\",\"Invoice Amount\",\"Invoice Amount\",\"Invoice Amount\",\"Invoice Amount\",\"Invoice Amount\",\"Invoice Amount\",\"Invoice Amount\",\"Invoice Amount\",\"Invoice Amount\",\"Invoice Amount\",\"Invoice Amount\",\"Invoice Amount\",\"Invoice Amount\",\"Invoice Amount\",\"Invoice Amount\",\"Invoice Amount\",\"Invoice Amount\",\"Invoice Amount\",\"Invoice Amount\",\"Invoice Amount\",\"Invoice Amount\",\"Invoice Amount\",\"Invoice Amount\",\"Invoice Amount\",\"Invoice Amount\",\"Invoice Amount\",\"Invoice Amount\",\"Invoice Amount\"],\"index\":[0,1,2,3,4,5,6,7,8,9,10,11,12,13,14,15,16,17,18,19,20,21,22,23,24,25,26,27,28,29,30,31,32,33,34,35,36,37,38,39,40,41,42,43,44,45,46,47,48,49,50,51,52,53,54,55,56,57,58,59,60,61,62,63,64,65,66,67,68,69,70,71,72,73,74,75,76,77,78,79,80,81,82,83,84,85,86,87,88,89,90,91,92,93,94,95,96,97,98,99,100,101,102,103,104,105,106,107,108,109,110,111,112,113,114,115,116,117,118,119,120,121,122,123,124,125,126,127,128,129,130,131,132,133,134,135,136,137,138,139,140,141,142,143,144,145,146,147,148,149,150,151,152,153,154,155,156,157,158,159,160,161,162,163,164,165,166,167,168,169,170,171,172,173,174,175,176,177,178,179,180,181,182,183,184,185,186,187,188,189,190,191,192,193,194,195,196,197,198,199,200,201,202,203,204,205,206,207,208,209,210,211,212,213,214,215,216,217,218,219,220,221,222,223,224,225,226,227,228,229,230,231,232,233,234,235,236,237,238,239,240,241,242,243,244,245,246,247,248,249,250,251,252,253,254,255,256,257,258,259,260,261,262,263,264,265,266,267,268,269,270,271,272,273,274,275,276,277,278,279,280,281,282,283,284,285,286,287,288,289,290,291,292,293,294,295,296,297,298,299,300,301,302,303,304,305,306,307,308,309,310,311,312,313,314,315,316,317,318,319,320,321,322,323,324,325,326,327,328,329,330,331,332,333,334,335,336,337,338,339,340,341,342,343,344,345,346,347,348,349,350,351,352,353,354,355,356,357,358,359,360,361,362,363,364,365,366,367,368,369,370,371,372,373,374,375,376,377,378,379,380,381,382,383,384,385,386,387,388,389,390,391,392,393,394,395,396,397,398,399,400,401,402,403,404,405,406,407,408,409,410,411,412,413,414,415,416,417,418,419,420,421,422,423,424],\"value\":{\"__ndarray__\":\"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\",\"dtype\":\"float64\",\"shape\":[425]}},\"selected\":{\"id\":\"2461\"},\"selection_policy\":{\"id\":\"2492\"}},\"id\":\"2460\",\"type\":\"ColumnDataSource\"},{\"attributes\":{},\"id\":\"2429\",\"type\":\"WheelZoomTool\"},{\"attributes\":{\"margin\":[5,5,5,5],\"name\":\"HSpacer05089\",\"sizing_mode\":\"stretch_width\"},\"id\":\"2629\",\"type\":\"Spacer\"}],\"root_ids\":[\"2402\"]},\"title\":\"Bokeh Application\",\"version\":\"2.0.2\"}};\n",
       "  var render_items = [{\"docid\":\"e6fb5714-5d93-49a4-b0d3-610efabadf5e\",\"root_ids\":[\"2402\"],\"roots\":{\"2402\":\"6f01937e-be68-489f-91c2-1ddfe56e1be6\"}}];\n",
       "  root.Bokeh.embed.embed_items_notebook(docs_json, render_items);\n",
       "  }\n",
       "if (root.Bokeh !== undefined) {\n",
       "    embed_document(root);\n",
       "  } else {\n",
       "    var attempts = 0;\n",
       "    var timer = setInterval(function(root) {\n",
       "      if (root.Bokeh !== undefined) {\n",
       "        clearInterval(timer);\n",
       "        embed_document(root);\n",
       "      } else if (document.readyState == \"complete\") {\n",
       "        attempts++;\n",
       "        if (attempts > 100) {\n",
       "          clearInterval(timer);\n",
       "          console.log(\"Bokeh: ERROR: Unable to run BokehJS code because BokehJS library is missing\");\n",
       "        }\n",
       "      }\n",
       "    }, 10, root)\n",
       "  }\n",
       "})(window);</script>"
      ],
      "text/plain": [
       ":NdOverlay   [Variable]\n",
       "   :Curve   [index]   (value)"
      ]
     },
     "execution_count": 68,
     "metadata": {
      "application/vnd.holoviews_exec.v0+json": {
       "id": "2402"
      }
     },
     "output_type": "execute_result"
    }
   ],
   "source": [
    "\n",
    "total_data.hvplot(kind='line', figsize=(20, 10))\n"
   ]
  },
  {
   "cell_type": "code",
   "execution_count": null,
   "metadata": {},
   "outputs": [],
   "source": [
    "\n",
    "# Construct a correlation table\n",
    "Correlation = Combined_Returns.corr()\n",
    "Correlation\n",
    "sns.heatmap(Correlation, vmin=-1, vmax=1)"
   ]
  },
  {
   "cell_type": "code",
   "execution_count": 14,
   "metadata": {},
   "outputs": [
    {
     "ename": "ValueError",
     "evalue": "Value of 'size' is not the name of a column in 'data_frame'. Expected one of ['Customers', 'Number of Users', 'Invoice Amount', 'Lat', 'Long'] but received: Subscription",
     "output_type": "error",
     "traceback": [
      "\u001b[0;31m---------------------------------------------------------------------------\u001b[0m",
      "\u001b[0;31mValueError\u001b[0m                                Traceback (most recent call last)",
      "\u001b[0;32m<ipython-input-14-a42069c45ebe>\u001b[0m in \u001b[0;36m<module>\u001b[0;34m\u001b[0m\n\u001b[1;32m     12\u001b[0m         )\n\u001b[1;32m     13\u001b[0m     \u001b[0;32mreturn\u001b[0m \u001b[0mneighborhood_map_plot\u001b[0m\u001b[0;34m\u001b[0m\u001b[0;34m\u001b[0m\u001b[0m\n\u001b[0;32m---> 14\u001b[0;31m \u001b[0mneighborhood_map\u001b[0m\u001b[0;34m(\u001b[0m\u001b[0;34m)\u001b[0m\u001b[0;34m\u001b[0m\u001b[0;34m\u001b[0m\u001b[0m\n\u001b[0m",
      "\u001b[0;32m<ipython-input-14-a42069c45ebe>\u001b[0m in \u001b[0;36mneighborhood_map\u001b[0;34m()\u001b[0m\n\u001b[1;32m      4\u001b[0m     \u001b[0mmean_data\u001b[0m\u001b[0;34m.\u001b[0m\u001b[0mreset_index\u001b[0m\u001b[0;34m(\u001b[0m\u001b[0minplace\u001b[0m\u001b[0;34m=\u001b[0m\u001b[0;32mTrue\u001b[0m\u001b[0;34m)\u001b[0m\u001b[0;34m\u001b[0m\u001b[0;34m\u001b[0m\u001b[0m\n\u001b[1;32m      5\u001b[0m     \u001b[0mpx\u001b[0m\u001b[0;34m.\u001b[0m\u001b[0mset_mapbox_access_token\u001b[0m\u001b[0;34m(\u001b[0m\u001b[0mmapbox_token\u001b[0m\u001b[0;34m)\u001b[0m\u001b[0;34m\u001b[0m\u001b[0;34m\u001b[0m\u001b[0m\n\u001b[0;32m----> 6\u001b[0;31m     neighborhood_map_plot = px.scatter_mapbox(\n\u001b[0m\u001b[1;32m      7\u001b[0m             \u001b[0mmean_data\u001b[0m\u001b[0;34m,\u001b[0m\u001b[0;34m\u001b[0m\u001b[0;34m\u001b[0m\u001b[0m\n\u001b[1;32m      8\u001b[0m             \u001b[0mlat\u001b[0m\u001b[0;34m=\u001b[0m\u001b[0;34m\"Lat\"\u001b[0m\u001b[0;34m,\u001b[0m\u001b[0;34m\u001b[0m\u001b[0;34m\u001b[0m\u001b[0m\n",
      "\u001b[0;32m~/.conda/envs/pyvizenv/lib/python3.8/site-packages/plotly/express/_chart_types.py\u001b[0m in \u001b[0;36mscatter_mapbox\u001b[0;34m(data_frame, lat, lon, color, text, hover_name, hover_data, custom_data, size, animation_frame, animation_group, category_orders, labels, color_discrete_sequence, color_discrete_map, color_continuous_scale, range_color, color_continuous_midpoint, opacity, size_max, zoom, center, mapbox_style, title, template, width, height)\u001b[0m\n\u001b[1;32m   1102\u001b[0m     \u001b[0msymbol\u001b[0m \u001b[0mmark\u001b[0m \u001b[0mon\u001b[0m \u001b[0ma\u001b[0m \u001b[0mMapbox\u001b[0m \u001b[0mmap\u001b[0m\u001b[0;34m.\u001b[0m\u001b[0;34m\u001b[0m\u001b[0;34m\u001b[0m\u001b[0m\n\u001b[1;32m   1103\u001b[0m     \"\"\"\n\u001b[0;32m-> 1104\u001b[0;31m     \u001b[0;32mreturn\u001b[0m \u001b[0mmake_figure\u001b[0m\u001b[0;34m(\u001b[0m\u001b[0margs\u001b[0m\u001b[0;34m=\u001b[0m\u001b[0mlocals\u001b[0m\u001b[0;34m(\u001b[0m\u001b[0;34m)\u001b[0m\u001b[0;34m,\u001b[0m \u001b[0mconstructor\u001b[0m\u001b[0;34m=\u001b[0m\u001b[0mgo\u001b[0m\u001b[0;34m.\u001b[0m\u001b[0mScattermapbox\u001b[0m\u001b[0;34m)\u001b[0m\u001b[0;34m\u001b[0m\u001b[0;34m\u001b[0m\u001b[0m\n\u001b[0m\u001b[1;32m   1105\u001b[0m \u001b[0;34m\u001b[0m\u001b[0m\n\u001b[1;32m   1106\u001b[0m \u001b[0;34m\u001b[0m\u001b[0m\n",
      "\u001b[0;32m~/.conda/envs/pyvizenv/lib/python3.8/site-packages/plotly/express/_core.py\u001b[0m in \u001b[0;36mmake_figure\u001b[0;34m(args, constructor, trace_patch, layout_patch)\u001b[0m\n\u001b[1;32m   1824\u001b[0m     \u001b[0mapply_default_cascade\u001b[0m\u001b[0;34m(\u001b[0m\u001b[0margs\u001b[0m\u001b[0;34m)\u001b[0m\u001b[0;34m\u001b[0m\u001b[0;34m\u001b[0m\u001b[0m\n\u001b[1;32m   1825\u001b[0m \u001b[0;34m\u001b[0m\u001b[0m\n\u001b[0;32m-> 1826\u001b[0;31m     \u001b[0margs\u001b[0m \u001b[0;34m=\u001b[0m \u001b[0mbuild_dataframe\u001b[0m\u001b[0;34m(\u001b[0m\u001b[0margs\u001b[0m\u001b[0;34m,\u001b[0m \u001b[0mconstructor\u001b[0m\u001b[0;34m)\u001b[0m\u001b[0;34m\u001b[0m\u001b[0;34m\u001b[0m\u001b[0m\n\u001b[0m\u001b[1;32m   1827\u001b[0m     \u001b[0;32mif\u001b[0m \u001b[0mconstructor\u001b[0m \u001b[0;32min\u001b[0m \u001b[0;34m[\u001b[0m\u001b[0mgo\u001b[0m\u001b[0;34m.\u001b[0m\u001b[0mTreemap\u001b[0m\u001b[0;34m,\u001b[0m \u001b[0mgo\u001b[0m\u001b[0;34m.\u001b[0m\u001b[0mSunburst\u001b[0m\u001b[0;34m]\u001b[0m \u001b[0;32mand\u001b[0m \u001b[0margs\u001b[0m\u001b[0;34m[\u001b[0m\u001b[0;34m\"path\"\u001b[0m\u001b[0;34m]\u001b[0m \u001b[0;32mis\u001b[0m \u001b[0;32mnot\u001b[0m \u001b[0;32mNone\u001b[0m\u001b[0;34m:\u001b[0m\u001b[0;34m\u001b[0m\u001b[0;34m\u001b[0m\u001b[0m\n\u001b[1;32m   1828\u001b[0m         \u001b[0margs\u001b[0m \u001b[0;34m=\u001b[0m \u001b[0mprocess_dataframe_hierarchy\u001b[0m\u001b[0;34m(\u001b[0m\u001b[0margs\u001b[0m\u001b[0;34m)\u001b[0m\u001b[0;34m\u001b[0m\u001b[0;34m\u001b[0m\u001b[0m\n",
      "\u001b[0;32m~/.conda/envs/pyvizenv/lib/python3.8/site-packages/plotly/express/_core.py\u001b[0m in \u001b[0;36mbuild_dataframe\u001b[0;34m(args, constructor)\u001b[0m\n\u001b[1;32m   1356\u001b[0m     \u001b[0;31m# now that things have been prepped, we do the systematic rewriting of `args`\u001b[0m\u001b[0;34m\u001b[0m\u001b[0;34m\u001b[0m\u001b[0;34m\u001b[0m\u001b[0m\n\u001b[1;32m   1357\u001b[0m \u001b[0;34m\u001b[0m\u001b[0m\n\u001b[0;32m-> 1358\u001b[0;31m     df_output, wide_id_vars = process_args_into_dataframe(\n\u001b[0m\u001b[1;32m   1359\u001b[0m         \u001b[0margs\u001b[0m\u001b[0;34m,\u001b[0m \u001b[0mwide_mode\u001b[0m\u001b[0;34m,\u001b[0m \u001b[0mvar_name\u001b[0m\u001b[0;34m,\u001b[0m \u001b[0mvalue_name\u001b[0m\u001b[0;34m\u001b[0m\u001b[0;34m\u001b[0m\u001b[0m\n\u001b[1;32m   1360\u001b[0m     )\n",
      "\u001b[0;32m~/.conda/envs/pyvizenv/lib/python3.8/site-packages/plotly/express/_core.py\u001b[0m in \u001b[0;36mprocess_args_into_dataframe\u001b[0;34m(args, wide_mode, var_name, value_name)\u001b[0m\n\u001b[1;32m   1162\u001b[0m                         \u001b[0;32mif\u001b[0m \u001b[0margument\u001b[0m \u001b[0;34m==\u001b[0m \u001b[0;34m\"index\"\u001b[0m\u001b[0;34m:\u001b[0m\u001b[0;34m\u001b[0m\u001b[0;34m\u001b[0m\u001b[0m\n\u001b[1;32m   1163\u001b[0m                             \u001b[0merr_msg\u001b[0m \u001b[0;34m+=\u001b[0m \u001b[0;34m\"\\n To use the index, pass it in directly as `df.index`.\"\u001b[0m\u001b[0;34m\u001b[0m\u001b[0;34m\u001b[0m\u001b[0m\n\u001b[0;32m-> 1164\u001b[0;31m                         \u001b[0;32mraise\u001b[0m \u001b[0mValueError\u001b[0m\u001b[0;34m(\u001b[0m\u001b[0merr_msg\u001b[0m\u001b[0;34m)\u001b[0m\u001b[0;34m\u001b[0m\u001b[0;34m\u001b[0m\u001b[0m\n\u001b[0m\u001b[1;32m   1165\u001b[0m                 \u001b[0;32melif\u001b[0m \u001b[0mlength\u001b[0m \u001b[0;32mand\u001b[0m \u001b[0mlen\u001b[0m\u001b[0;34m(\u001b[0m\u001b[0mdf_input\u001b[0m\u001b[0;34m[\u001b[0m\u001b[0margument\u001b[0m\u001b[0;34m]\u001b[0m\u001b[0;34m)\u001b[0m \u001b[0;34m!=\u001b[0m \u001b[0mlength\u001b[0m\u001b[0;34m:\u001b[0m\u001b[0;34m\u001b[0m\u001b[0;34m\u001b[0m\u001b[0m\n\u001b[1;32m   1166\u001b[0m                     raise ValueError(\n",
      "\u001b[0;31mValueError\u001b[0m: Value of 'size' is not the name of a column in 'data_frame'. Expected one of ['Customers', 'Number of Users', 'Invoice Amount', 'Lat', 'Long'] but received: Subscription"
     ]
    }
   ],
   "source": [
    "def neighborhood_map():\n",
    "    \"\"\"Neighborhood Map\"\"\"\n",
    "     = atlas2.groupby([\"Customers\"]).mean()\n",
    "    mean_data.reset_index(inplace=True)\n",
    "    px.set_mapbox_access_token(mapbox_token)\n",
    "    neighborhood_map_plot = px.scatter_mapbox(\n",
    "            mean_data,\n",
    "            lat=\"Lat\",\n",
    "            lon=\"Long\",\n",
    "            size=\"Subscription\",\n",
    "            color=\"Customer\"\n",
    "        )\n",
    "    return neighborhood_map_plot\n",
    "neighborhood_map()"
   ]
  },
  {
   "cell_type": "code",
   "execution_count": null,
   "metadata": {},
   "outputs": [],
   "source": []
  }
 ],
 "metadata": {
  "kernelspec": {
   "display_name": "Python [conda env:.conda-pyvizenv]",
   "language": "python",
   "name": "conda-env-.conda-pyvizenv-py"
  },
  "language_info": {
   "codemirror_mode": {
    "name": "ipython",
    "version": 3
   },
   "file_extension": ".py",
   "mimetype": "text/x-python",
   "name": "python",
   "nbconvert_exporter": "python",
   "pygments_lexer": "ipython3",
   "version": "3.8.3"
  }
 },
 "nbformat": 4,
 "nbformat_minor": 4
}
