{
 "cells": [
  {
   "cell_type": "code",
   "execution_count": null,
   "metadata": {},
   "outputs": [],
   "source": [
    "# Read the Mapbox API key\n",
    "mapbox_token = os.getenv(\"MAPBOX_API_KEY\")\n",
    "load_dotenv()"
   ]
  },
  {
   "cell_type": "code",
   "execution_count": null,
   "metadata": {},
   "outputs": [],
   "source": [
    "\n",
    "# dates_df = pd.DataFrame({\"Start date\":start_date_list,\"End date\": end_date_list})\n",
    "\n",
    "\n",
    "\n",
    "# mc_data = pd.concat(\n",
    "#     { \"TSLA\": [\n",
    "#         ATLAS_with_fixed_dates[\"Start date\"].values,\n",
    "#         ATLAS_with_fixed_dates[\"Invoice Amount\"],\n",
    "#         ATLAS_with_fixed_dates[\"Invoice Amount\"].diff().values\n",
    "#     ]\n",
    "#     },\n",
    "#     axis='columns', join=\"inner\")\n",
    "\n",
    "mc_data = pd.concat(\n",
    "    [ATLAS_with_fixed_dates[\"Start date\"], ATLAS_with_fixed_dates[\"Invoice Amount\"], ATLAS_with_fixed_dates[\"Invoice Amount\"].diff()],\n",
    "    axis='columns', join=\"inner\")\n",
    "\n",
    "mc_data.dropna(inplace=True)\n",
    "mc_data.set_index(\"Start date\", inplace=True)\n",
    "mc_data.columns=['close', 'daily_return']\n",
    "mc_data.head()\n",
    "\n",
    "portfolio_weights = [.4, .6]\n",
    "mc = MCSimulation2(\n",
    "    portfolio_data = mc_data,\n",
    "    weights = [1.0],\n",
    "    num_simulation = 10,\n",
    "    num_trading_days = 10\n",
    ")\n",
    "\n",
    "# mc.calc_cumulative_return()\n",
    "\n",
    "\n",
    "\n",
    "# mc_data.columns.get_level_values(1).unique()\n"
   ]
  }
 ],
 "metadata": {
  "kernelspec": {
   "name": "Python 3.8.3 64-bit ('pyvizenv': conda)",
   "display_name": "Python 3.8.3 64-bit ('pyvizenv': conda)",
   "metadata": {
    "interpreter": {
     "hash": "9b71b9fa21544dd8a39d3650f5526997ede89e0b97dc642fc8071b919dea00e5"
    }
   }
  },
  "language_info": {
   "codemirror_mode": {
    "name": "ipython",
    "version": 3
   },
   "file_extension": ".py",
   "mimetype": "text/x-python",
   "name": "python",
   "nbconvert_exporter": "python",
   "pygments_lexer": "ipython3",
   "version": "3.8.3-final"
  }
 },
 "nbformat": 4,
 "nbformat_minor": 4
}