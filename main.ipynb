{
 "cells": [
  {
   "cell_type": "code",
   "execution_count": 21,
   "metadata": {},
   "outputs": [],
   "source": [
    "# initial imports\n",
    "import os\n",
    "import pandas as pd\n",
    "import matplotlib.pyplot as plt\n",
    "import plotly.express as px\n",
    "import hvplot.pandas\n",
    "import panel as pn\n",
    "from pathlib import Path\n",
    "from dotenv import load_dotenv\n",
    "from panel.interact import interact\n",
    "from panel import widgets\n",
    "\n",
    "pn.extension()\n",
    "\n",
    "%matplotlib inline"
   ]
  },
  {
   "cell_type": "code",
   "execution_count": 22,
   "metadata": {},
   "outputs": [
    {
     "data": {
      "text/plain": [
       "True"
      ]
     },
     "execution_count": 22,
     "metadata": {},
     "output_type": "execute_result"
    }
   ],
   "source": [
    "# Read the Mapbox API key\n",
    "mapbox_token = os.getenv(\"MAPBOX_API_KEY\")\n",
    "load_dotenv()"
   ]
  },
  {
   "cell_type": "code",
   "execution_count": 26,
   "metadata": {},
   "outputs": [
    {
     "data": {
      "text/html": [
       "<div>\n",
       "<style scoped>\n",
       "    .dataframe tbody tr th:only-of-type {\n",
       "        vertical-align: middle;\n",
       "    }\n",
       "\n",
       "    .dataframe tbody tr th {\n",
       "        vertical-align: top;\n",
       "    }\n",
       "\n",
       "    .dataframe thead th {\n",
       "        text-align: right;\n",
       "    }\n",
       "</style>\n",
       "<table border=\"1\" class=\"dataframe\">\n",
       "  <thead>\n",
       "    <tr style=\"text-align: right;\">\n",
       "      <th></th>\n",
       "      <th>Invoice Date</th>\n",
       "      <th>Invoice #</th>\n",
       "      <th>Invoice Amount</th>\n",
       "      <th>Subscription</th>\n",
       "      <th>Account Code</th>\n",
       "      <th>Dates of service</th>\n",
       "    </tr>\n",
       "    <tr>\n",
       "      <th>Customers</th>\n",
       "      <th></th>\n",
       "      <th></th>\n",
       "      <th></th>\n",
       "      <th></th>\n",
       "      <th></th>\n",
       "      <th></th>\n",
       "    </tr>\n",
       "  </thead>\n",
       "  <tbody>\n",
       "    <tr>\n",
       "      <th>Louisiana Board of Regents</th>\n",
       "      <td>3/20/2015</td>\n",
       "      <td>ATLAS 315</td>\n",
       "      <td>$72,000.00</td>\n",
       "      <td>1 Year</td>\n",
       "      <td>4700-0-00-00000-18-0000</td>\n",
       "      <td>1 Year Subscription 3/18/15 to 6/30/16</td>\n",
       "    </tr>\n",
       "    <tr>\n",
       "      <th>Emporia State University</th>\n",
       "      <td>5/28/2015</td>\n",
       "      <td>AJ501</td>\n",
       "      <td>$3,500.00</td>\n",
       "      <td>1 Year</td>\n",
       "      <td>4700-0-00-00000-16-0000</td>\n",
       "      <td>1 Year Subscription 6/1/15 to 6/30/16</td>\n",
       "    </tr>\n",
       "    <tr>\n",
       "      <th>Morehouse State University</th>\n",
       "      <td>6/23/2015</td>\n",
       "      <td>AJ502</td>\n",
       "      <td>$3,500.00</td>\n",
       "      <td>1 Year</td>\n",
       "      <td>4700-0-00-00000-17-0000</td>\n",
       "      <td>1 Year Subscription 6/10/15 to 6/30/16</td>\n",
       "    </tr>\n",
       "    <tr>\n",
       "      <th>State University of NY Postdam</th>\n",
       "      <td>6/26/2015</td>\n",
       "      <td>AJ503</td>\n",
       "      <td>$6,500.00</td>\n",
       "      <td>1 Year</td>\n",
       "      <td>4700-0-00-00000-32-0000</td>\n",
       "      <td>1 Year Subscription 6/1/15 to 6/30/16</td>\n",
       "    </tr>\n",
       "    <tr>\n",
       "      <th>ST. Mary's College of Maryland</th>\n",
       "      <td>10/7/2015</td>\n",
       "      <td>AJ504</td>\n",
       "      <td>$750.00</td>\n",
       "      <td>1 Year</td>\n",
       "      <td>4700-0-00-00000-20-0000</td>\n",
       "      <td>1 Year Subscription 10/05/15 to 9/30/16</td>\n",
       "    </tr>\n",
       "  </tbody>\n",
       "</table>\n",
       "</div>"
      ],
      "text/plain": [
       "                               Invoice Date  Invoice # Invoice Amount  \\\n",
       "Customers                                                               \n",
       "Louisiana Board of Regents        3/20/2015  ATLAS 315     $72,000.00   \n",
       "Emporia State University          5/28/2015      AJ501      $3,500.00   \n",
       "Morehouse State University        6/23/2015      AJ502      $3,500.00   \n",
       "State University of NY Postdam    6/26/2015      AJ503      $6,500.00   \n",
       "ST. Mary's College of Maryland    10/7/2015      AJ504        $750.00   \n",
       "\n",
       "                               Subscription            Account Code   \\\n",
       "Customers                                                              \n",
       "Louisiana Board of Regents           1 Year  4700-0-00-00000-18-0000   \n",
       "Emporia State University             1 Year  4700-0-00-00000-16-0000   \n",
       "Morehouse State University           1 Year  4700-0-00-00000-17-0000   \n",
       "State University of NY Postdam       1 Year  4700-0-00-00000-32-0000   \n",
       "ST. Mary's College of Maryland       1 Year  4700-0-00-00000-20-0000   \n",
       "\n",
       "                                                      Dates of service   \n",
       "Customers                                                                \n",
       "Louisiana Board of Regents       1 Year Subscription 3/18/15 to 6/30/16  \n",
       "Emporia State University          1 Year Subscription 6/1/15 to 6/30/16  \n",
       "Morehouse State University       1 Year Subscription 6/10/15 to 6/30/16  \n",
       "State University of NY Postdam    1 Year Subscription 6/1/15 to 6/30/16  \n",
       "ST. Mary's College of Maryland  1 Year Subscription 10/05/15 to 9/30/16  "
      ]
     },
     "execution_count": 26,
     "metadata": {},
     "output_type": "execute_result"
    }
   ],
   "source": [
    "# Read the ATLAS data into a Pandas DataFrame\n",
    "file_path = Path(\"Resources/Raw/ATLAS.csv\")\n",
    "ATLAS = pd.read_csv(file_path, index_col=\"Customers\")\n",
    "ATLAS.head()"
   ]
  },
  {
   "cell_type": "code",
   "execution_count": null,
   "metadata": {},
   "outputs": [],
   "source": []
  }
 ],
 "metadata": {
  "kernelspec": {
   "display_name": "Python 3",
   "language": "python",
   "name": "python3"
  },
  "language_info": {
   "codemirror_mode": {
    "name": "ipython",
    "version": 3
   },
   "file_extension": ".py",
   "mimetype": "text/x-python",
   "name": "python",
   "nbconvert_exporter": "python",
   "pygments_lexer": "ipython3",
   "version": "3.8.3"
  }
 },
 "nbformat": 4,
 "nbformat_minor": 4
}
