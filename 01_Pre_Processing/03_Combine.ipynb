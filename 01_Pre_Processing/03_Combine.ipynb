{
 "cells": [
  {
   "source": [
    "# Initialize"
   ],
   "cell_type": "markdown",
   "metadata": {}
  },
  {
   "cell_type": "code",
   "execution_count": null,
   "metadata": {},
   "outputs": [],
   "source": [
    "# Options\n",
    "\n",
    "## Debugging level\n",
    "debug_level = 0\n"
   ]
  },
  {
   "cell_type": "code",
   "execution_count": null,
   "metadata": {},
   "outputs": [],
   "source": [
    "# Initialize framework\n",
    "tools = init_preprocessing(debug_level)\n",
    "%matplotlib inline\n"
   ]
  },
  {
   "cell_type": "code",
   "execution_count": null,
   "metadata": {},
   "outputs": [],
   "source": [
    "# Read anonymized data\n",
    "atlas           = pd.read_pickle(constants.PREPROCESSED_ATLAS_FILE_PATH)\n",
    "forecast        = pd.read_pickle(constants.PREPROCESSED_FORECAST_DATA_FILE_PATH)\n",
    "revenue2020     = pd.read_pickle(constants.PREPROCESSED_REVENUE2020_FILE_PATH)\n",
    "revenue2020A    = pd.read_pickle(constants.PREPROCESSED_REVENUE2020A_FILE_PATH)\n",
    "atlas2          = pd.read_pickle(constants.PREPROCESSED_ATLAS_2_FILE_PATH)\n"
   ]
  },
  {
   "cell_type": "code",
   "execution_count": null,
   "metadata": {},
   "outputs": [],
   "source": [
    "# Build lookup tables from the data\n",
    "lut_address_state = forecast[\"Mailing State/Province\"].drop_duplicates().to_dict()\n",
    "lut_record_type = forecast[\"Organization Record Type\"].drop_duplicates().to_dict()\n",
    "lut_customer_type = forecast[\"ATLAS Customer Type\"].drop_duplicates().to_dict()\n",
    "lut_vendor_id = revenue2020A[\"Vendor ID\"].drop_duplicates().to_dict()\n",
    "lut_address = atlas2[\"Address\"].drop_duplicates().to_dict()\n",
    "lut_address_lat = atlas2[\"Lat\"].drop_duplicates().to_dict()\n",
    "lut_address_lon = atlas2[\"Long\"].drop_duplicates().to_dict()\n",
    "\n",
    "# Write lookup tables to file\n",
    "tool_lookup_tables.write_lookup_table(lut_address_state, constants.LUT_ADDRESS_STATE_FILE_PATH)\n",
    "tool_lookup_tables.write_lookup_table(lut_record_type, constants.LUT_RECORD_TYPE_FILE_PATH)\n",
    "tool_lookup_tables.write_lookup_table(lut_customer_type, constants.LUT_CUSTOMER_TYPE_FILE_PATH)\n",
    "tool_lookup_tables.write_lookup_table(lut_vendor_id, constants.LUT_VENDOR_ID_FILE_PATH)\n",
    "tool_lookup_tables.write_lookup_table(lut_address, constants.LUT_ADDRESS_FILE_PATH)\n",
    "tool_lookup_tables.write_lookup_table(lut_address_lat, constants.LUT_ADDRESS_LAT_FILE_PATH)\n",
    "tool_lookup_tables.write_lookup_table(lut_address_lon, constants.LUT_ADDRESS_LON_FILE_PATH)\n"
   ]
  },
  {
   "cell_type": "code",
   "execution_count": null,
   "metadata": {},
   "outputs": [],
   "source": [
    "# tool_lookup_tables.read_lookup_table( constants.LUT_ADDRESS_STATE_FILE_PATH)\n",
    "# tool_lookup_tables.read_lookup_table( constants.LUT_RECORD_TYPE_FILE_PATH)\n",
    "# tool_lookup_tables.read_lookup_table( constants.LUT_CUSTOMER_TYPE_FILE_PATH)\n",
    "# tool_lookup_tables.read_lookup_table( constants.LUT_VENDOR_ID_FILE_PATH)\n",
    "# tool_lookup_tables.read_lookup_table( constants.LUT_ADDRESS_FILE_PATH)\n",
    "# tool_lookup_tables.read_lookup_table( constants.LUT_ADDRESS_LAT_FILE_PATH)\n",
    "# tool_lookup_tables.read_lookup_table( constants.LUT_ADDRESS_LON_FILE_PATH)"
   ]
  },
  {
   "cell_type": "code",
   "execution_count": null,
   "metadata": {},
   "outputs": [],
   "source": [
    "# Build combined data table\n",
    "\n",
    "## Get list of customers to use as the index\n",
    "customer_name_mapping = tool_lookup_tables.read_customer_name_mapping()\n",
    "customer_list = list(customer_name_mapping.keys())\n",
    "\n",
    "\n",
    "\n",
    "# combined_data = pd.DataFrame(index=)\n",
    "\n",
    "\n",
    "# PREPROCESSED_COMBINED_DATA_FILE_PATH"
   ]
  },
  {
   "cell_type": "code",
   "execution_count": null,
   "metadata": {},
   "outputs": [],
   "source": [
    "\n",
    "\n",
    "a=[\"name1\", \"name2\", \"name3\", \"name4\"]\n",
    "\n",
    "a={10, 32,150,47,2,1,8,4,71,,3,2,4,8720, 3, 4}\n",
    "\n",
    "\n"
   ]
  },
  {
   "cell_type": "code",
   "execution_count": null,
   "metadata": {},
   "outputs": [],
   "source": []
  }
 ],
 "metadata": {
  "kernelspec": {
   "display_name": "Python 3",
   "language": "python",
   "name": "python3"
  },
  "language_info": {
   "codemirror_mode": {
    "name": "ipython",
    "version": 3
   },
   "file_extension": ".py",
   "mimetype": "text/x-python",
   "name": "python",
   "nbconvert_exporter": "python",
   "pygments_lexer": "ipython3",
   "version": "3.8.3"
  }
 },
 "nbformat": 4,
 "nbformat_minor": 4
}