{
 "cells": [
  {
   "source": [
    "# Initialize"
   ],
   "cell_type": "markdown",
   "metadata": {}
  },
  {
   "cell_type": "code",
   "execution_count": 1,
   "metadata": {},
   "outputs": [],
   "source": [
    "# Options\n",
    "\n",
    "## Debugging level\n",
    "debug_level = 0\n"
   ]
  },
  {
   "cell_type": "code",
   "execution_count": 2,
   "metadata": {},
   "outputs": [],
   "source": [
    "# Initialize framework\n",
    "constants, tools = init_preprocessing(debug_level)\n",
    "%matplotlib inline\n"
   ]
  },
  {
   "cell_type": "code",
   "execution_count": 3,
   "metadata": {},
   "outputs": [],
   "source": [
    "# Read anonymized data\n",
    "atlas           = pd.read_pickle(constants.PREPROCESSED_ATLAS_FILE_PATH)\n",
    "forecast        = pd.read_pickle(constants.PREPROCESSED_FORECAST_DATA_FILE_PATH)\n",
    "revenue2020     = pd.read_pickle(constants.PREPROCESSED_REVENUE2020_FILE_PATH)\n",
    "revenue2020A    = pd.read_pickle(constants.PREPROCESSED_REVENUE2020A_FILE_PATH)\n"
   ]
  },
  {
   "cell_type": "code",
   "execution_count": 48,
   "metadata": {},
   "outputs": [],
   "source": [
    "# Build lookup tables from the data\n",
    "lut_address_state = forecast[\"Mailing State/Province\"].drop_duplicates().to_dict()\n",
    "lut_record_type = forecast[\"Organization Record Type\"].drop_duplicates().to_dict()\n",
    "lut_customer_type = forecast[\"ATLAS Customer Type\"].drop_duplicates().to_dict()\n",
    "lut_vendor_id = revenue2020A[\"Vendor ID\"].drop_duplicates().to_dict()\n",
    "lut_address = atlas[\"Address\"].drop_duplicates().to_dict()\n",
    "lut_address_lat = atlas[\"Lat\"].drop_duplicates().to_dict()\n",
    "lut_address_lon = atlas[\"Long\"].drop_duplicates().to_dict()\n",
    "\n",
    "# Write lookup tables to file\n",
    "tools.tool_lookup_tables.write_lookup_table(lut_address_state, constants.LUT_ADDRESS_STATE_FILE_PATH)\n",
    "tools.tool_lookup_tables.write_lookup_table(lut_record_type, constants.LUT_RECORD_TYPE_FILE_PATH)\n",
    "tools.tool_lookup_tables.write_lookup_table(lut_customer_type, constants.LUT_CUSTOMER_TYPE_FILE_PATH)\n",
    "tools.tool_lookup_tables.write_lookup_table(lut_vendor_id, constants.LUT_VENDOR_ID_FILE_PATH)\n",
    "tools.tool_lookup_tables.write_lookup_table(lut_address, constants.LUT_ADDRESS_FILE_PATH)\n",
    "tools.tool_lookup_tables.write_lookup_table(lut_address_lat, constants.LUT_ADDRESS_LAT_FILE_PATH)\n",
    "tools.tool_lookup_tables.write_lookup_table(lut_address_lon, constants.LUT_ADDRESS_LON_FILE_PATH)\n"
   ]
  },
  {
   "cell_type": "code",
   "execution_count": 49,
   "metadata": {},
   "outputs": [],
   "source": [
    "# Read lookup tables\n",
    "# tool_lookup_tables.read_lookup_table( constants.LUT_ADDRESS_STATE_FILE_PATH)\n",
    "# tool_lookup_tables.read_lookup_table( constants.LUT_RECORD_TYPE_FILE_PATH)\n",
    "# tool_lookup_tables.read_lookup_table( constants.LUT_CUSTOMER_TYPE_FILE_PATH)\n",
    "# tool_lookup_tables.read_lookup_table( constants.LUT_VENDOR_ID_FILE_PATH)\n",
    "# tool_lookup_tables.read_lookup_table( constants.LUT_ADDRESS_FILE_PATH)\n",
    "# tool_lookup_tables.read_lookup_table( constants.LUT_ADDRESS_LAT_FILE_PATH)\n",
    "# tool_lookup_tables.read_lookup_table( constants.LUT_ADDRESS_LON_FILE_PATH)\n"
   ]
  },
  {
   "cell_type": "code",
   "execution_count": 50,
   "metadata": {},
   "outputs": [],
   "source": [
    "# Build combined data table\n",
    "\n",
    "## Get list of customers to use as the index\n",
    "# customer_list = tools.tool_mapping.read_list(constants.LIST_CUSTOMER_NAME_LIST_FILE_PATH)\n",
    "# invoice_data = pd.DataFrame(index=customer_list)\n",
    "# # invoice_data.append(atlas.loc[invoice_data.index])\n",
    "# atlas.loc[ invoice_data.reset_index()[\"index\"][0] ]\n",
    "# # invoice_data.reset_index()[\"Customers\"].apply(lambda x: atlas.loc[x])\n",
    "\n",
    "## lut_address_state: Names do not match; redundant data.\n",
    "# atlas[\"State\"] = atlas.reset_index()[\"Customers\"].apply(lambda x: lut_address_state.get(x, \"\"))\n",
    "# atlas.State.dropna()\n",
    "\n",
    "## lut_record_type: Not enough data.\n",
    "\n",
    "## lut_customer_type: Not enough data.\n",
    "\n",
    "## lut_vendor_id: Not enough data.\n",
    "\n",
    "## lut_address, lut_address_lat, lut_address_lon: Already in the data.\n",
    "\n",
    "## Export to PREPROCESSED_COMBINED_DATA_FILE_PATH\n",
    "\n",
    "\n",
    "# invoice_data.head(1)"
   ]
  },
  {
   "cell_type": "code",
   "execution_count": 51,
   "metadata": {},
   "outputs": [],
   "source": [
    "# Scratchwork\n",
    "\n",
    "# df2 = pd.DataFrame(np.array([[1, 2, 3], [4, 5, 6], [7, 8, 9]]),\n",
    "#                    columns=['a', 'b', 'c'])\n",
    "\n",
    "# df2.loc[0]\n",
    "# df2\n",
    "\n",
    "# atlas.loc[] \n",
    "\n",
    "# y = invoice_data.reset_index()[\"index\"][0]\n",
    "# z='Louisiana Board Of Regents'\n",
    "# atlas.loc[z]\n",
    "# atlas.append()\n",
    "\n",
    "\n",
    "# customer_list\n"
   ]
  },
  {
   "cell_type": "code",
   "execution_count": 54,
   "metadata": {},
   "outputs": [
    {
     "output_type": "execute_result",
     "data": {
      "text/plain": [
       "Number of Users                                   float64\n",
       "Invoice Date             datetime64[ns, America/New_York]\n",
       "Invoice #                                          object\n",
       "Invoice Amount                                    float64\n",
       "Subscription                                       object\n",
       "Account Code                                       object\n",
       "Address                                            object\n",
       "Lat                                               float64\n",
       "Long                                              float64\n",
       "Service Start            datetime64[ns, America/New_York]\n",
       "Service End              datetime64[ns, America/New_York]\n",
       "Subscription Duration                     timedelta64[ns]\n",
       "dtype: object"
      ]
     },
     "metadata": {},
     "execution_count": 54
    }
   ],
   "source": [
    "atlas.dtypes"
   ]
  },
  {
   "cell_type": "code",
   "execution_count": 55,
   "metadata": {},
   "outputs": [
    {
     "output_type": "error",
     "ename": "NameError",
     "evalue": "name 'tool_data_processing' is not defined",
     "traceback": [
      "\u001b[1;31m---------------------------------------------------------------------------\u001b[0m",
      "\u001b[1;31mNameError\u001b[0m                                 Traceback (most recent call last)",
      "\u001b[1;32m<ipython-input-55-b0db8d2dc2ae>\u001b[0m in \u001b[0;36m<module>\u001b[1;34m\u001b[0m\n\u001b[0;32m      5\u001b[0m \u001b[1;33m\u001b[0m\u001b[0m\n\u001b[0;32m      6\u001b[0m \u001b[1;31m# Extract y/m/q for service start\u001b[0m\u001b[1;33m\u001b[0m\u001b[1;33m\u001b[0m\u001b[1;33m\u001b[0m\u001b[0m\n\u001b[1;32m----> 7\u001b[1;33m \u001b[0matlas_ymq\u001b[0m \u001b[1;33m=\u001b[0m \u001b[0mtool_data_processing\u001b[0m\u001b[1;33m.\u001b[0m\u001b[0mextract_and_append_year_month_quarter\u001b[0m\u001b[1;33m(\u001b[0m\u001b[0matlas\u001b[0m\u001b[1;33m,\u001b[0m \u001b[1;34m\"Service Start\"\u001b[0m\u001b[1;33m)\u001b[0m\u001b[1;33m\u001b[0m\u001b[1;33m\u001b[0m\u001b[0m\n\u001b[0m\u001b[0;32m      8\u001b[0m \u001b[1;33m\u001b[0m\u001b[0m\n\u001b[0;32m      9\u001b[0m \u001b[1;33m(\u001b[0m\u001b[0matlas\u001b[0m\u001b[1;33m[\u001b[0m\u001b[1;34m\"Invoice Date\"\u001b[0m\u001b[1;33m]\u001b[0m \u001b[1;33m-\u001b[0m \u001b[0matlas\u001b[0m\u001b[1;33m[\u001b[0m\u001b[1;34m\"Service Start\"\u001b[0m\u001b[1;33m]\u001b[0m\u001b[1;33m)\u001b[0m\u001b[1;33m.\u001b[0m\u001b[0mapply\u001b[0m\u001b[1;33m(\u001b[0m\u001b[1;32mlambda\u001b[0m \u001b[0mdate\u001b[0m\u001b[1;33m:\u001b[0m \u001b[0mdate\u001b[0m\u001b[1;33m.\u001b[0m\u001b[0mdays\u001b[0m\u001b[1;33m)\u001b[0m\u001b[1;33m\u001b[0m\u001b[1;33m\u001b[0m\u001b[0m\n",
      "\u001b[1;31mNameError\u001b[0m: name 'tool_data_processing' is not defined"
     ]
    }
   ],
   "source": [
    "# Extract existing data into additional columns\n",
    "invoice_data_by_customer = atlas.copy()\n",
    "\n",
    "# Remove spaces from columns\n",
    "invoice_data_by_customer.columns = [ \"NumberOfUsers\", \"InvoiceDate\", \"InvoiceNumber\", \"InvoiceAmount\", \"Subscription\", \"AccountCode\", \"Address\", \"Lat\", \"Long\", \"ServiceStart\", \"ServiceEnd\", \"SubscriptionDuration\" ]\n",
    "\n",
    "# Address\n",
    "# invoice_data_by_customer[\"Address_State\"] = invoice_data.Address.State\n",
    "\n",
    "# Service delay\n",
    "invoice_data_by_customer[\"ServiceDelay\"] = (invoice_data_by_customer[\"InvoiceDate\"] - invoice_data_by_customer[\"ServiceStart\"]).apply(lambda date: date.days)\n",
    "\n",
    "# Extract y/m/q\n",
    "invoice_data_by_customer = tools.tool_data_processing.extract_and_append_year_month_quarter(invoice_data_by_customer, \"InvoiceDate\")\n",
    "invoice_data_by_customer = tools.tool_data_processing.extract_and_append_year_month_quarter(invoice_data_by_customer, \"ServiceStart\")\n",
    "invoice_data_by_customer = tools.tool_data_processing.extract_and_append_year_month_quarter(invoice_data_by_customer, \"ServiceEnd\")\n",
    "\n",
    "# Build historical view\n",
    "invoice_data_by_service_start = invoice_data_by_customer.copy().reset_index().set_index(\"ServiceStart\").sort_index(ascending=True)\n",
    "invoice_data_by_service_start.head(1)\n"
   ]
  },
  {
   "cell_type": "code",
   "execution_count": null,
   "metadata": {},
   "outputs": [],
   "source": [
    "# Extract y/m/q for service start\n",
    "forecast_ymq = tool_data_processing.extract_and_append_year_month_quarter(forecast, \"Contract Start Date\")\n",
    "\n",
    "\n",
    "# Extract y/m/q for service start\n",
    "revenue2020A_ymq = tool_data_processing.extract_and_append_year_month_quarter(revenue2020A, \"Service Start\")\n",
    "\n"
   ]
  },
  {
   "cell_type": "code",
   "execution_count": null,
   "metadata": {},
   "outputs": [],
   "source": [
    "# Export\n",
    "invoice_data_by_customer.to_pickle(constants.PREPROCESSED_INVOICE_CUSTOMER_FILE_PATH)\n",
    "invoice_data_by_service_start.to_pickle(constants.PREPROCESSED_INVOICE_SERVICEDATE_FILE_PATH)\n"
   ]
  }
 ],
 "metadata": {
  "kernelspec": {
   "display_name": "pyvizenv",
   "language": "python",
   "name": "pyvizenv"
  },
  "language_info": {
   "codemirror_mode": {
    "name": "ipython",
    "version": 3
   },
   "file_extension": ".py",
   "mimetype": "text/x-python",
   "name": "python",
   "nbconvert_exporter": "python",
   "pygments_lexer": "ipython3",
   "version": "3.8.3-final"
  }
 },
 "nbformat": 4,
 "nbformat_minor": 4
}