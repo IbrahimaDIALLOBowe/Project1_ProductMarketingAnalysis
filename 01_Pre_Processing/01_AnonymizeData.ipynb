{
 "cells": [
  {
   "cell_type": "code",
   "execution_count": 7,
   "metadata": {},
   "outputs": [],
   "source": [
    "# System imports\n",
    "import os\n",
    "import pandas as pd\n",
    "import matplotlib.pyplot as plt\n",
    "import plotly.express as px\n",
    "import hvplot.pandas\n",
    "import panel as pn\n",
    "from pathlib import Path\n",
    "from dotenv import load_dotenv\n",
    "from panel.interact import interact\n",
    "from panel import widgets\n",
    "from string import digits\n",
    "import csv\n",
    "import json\n",
    "import numpy as np\n",
    "import dateparser\n",
    "\n",
    "pn.extension()\n",
    "\n",
    "%matplotlib inline"
   ]
  },
  {
   "cell_type": "code",
   "execution_count": 8,
   "metadata": {},
   "outputs": [],
   "source": [
    "# Local imports\n",
    "import sys\n",
    "sys.path.append(\"../lib2\")\n",
    "\n",
    "from Constants import Constants\n",
    "from PreprocessingTools import CustomerNameCleaningFunctions\n",
    "from PreprocessingTools import MappingFunctions\n"
   ]
  },
  {
   "cell_type": "code",
   "execution_count": 9,
   "metadata": {},
   "outputs": [],
   "source": [
    "# Construct tools\n",
    "debug_level = 0\n",
    "constants = Constants()\n",
    "tool_customer = CustomerNameCleaningFunctions(debug_level)\n",
    "tool_mapping = MappingFunctions(debug_level)\n"
   ]
  },
  {
   "cell_type": "code",
   "execution_count": 10,
   "metadata": {
    "tags": []
   },
   "outputs": [],
   "source": [
    "# Build the anonymous customer name mapping\n",
    "\n",
    "## Read the datasets into Pandas DataFrames\n",
    "atlas               = pd.read_csv(constants.RAW_ATLAS_FILE_PATH, index_col=\"Customers\")\n",
    "forecast            = pd.read_csv(constants.RAW_FORECAST_DATA_FILE_PATH, index_col=\"Organization Name\")\n",
    "revenue2020         = pd.read_csv(constants.RAW_REVENUE2020_FILE_PATH, index_col=\"Name\")\n",
    "revenue2020A        = pd.read_csv(constants.RAW_REVENUE2020A_FILE_PATH, index_col=\"Payee Name\")\n",
    "atlas2              = pd.read_csv(constants.RAW_ATLAS_2_FILE_PATH, index_col=\"Customers\")\n",
    "\n",
    "## Extract paying customers\n",
    "atlas_customers_raw             = atlas.index.to_list()\n",
    "forecast_customers_raw          = forecast.index.to_list()\n",
    "revenue2020_customers_raw       = revenue2020.index.to_list()\n",
    "revenue2020A_customers_raw      = revenue2020A.index.to_list()\n",
    "atlas2_customers_raw            = atlas2.index.to_list()\n",
    "\n",
    "## Clean up names\n",
    "atlas_customers_cleaned         = tool_customer.cleanup_customer_names(atlas_customers_raw)\n",
    "forecast_customers_cleaned = tool_customer.cleanup_customer_names(forecast_customers_raw)\n",
    "revenue2020_customers_cleaned   = tool_customer.cleanup_customer_names(revenue2020_customers_raw)\n",
    "revenue2020A_customers_cleaned  = tool_customer.cleanup_customer_names(revenue2020A_customers_raw)\n",
    "atlas2_customers_cleaned        = tool_customer.cleanup_customer_names(atlas2_customers_raw)\n",
    "\n",
    "## Build name mapping\n",
    "name_mapping_atlas          = tool_mapping.build_name_mapping(atlas_customers_cleaned)\n",
    "name_mapping_forecast       = tool_mapping.build_name_mapping(forecast_customers_cleaned)\n",
    "name_mapping_revenue2020    = tool_mapping.build_name_mapping(revenue2020_customers_cleaned)\n",
    "name_mapping_revenue2020A   = tool_mapping.build_name_mapping(revenue2020A_customers_cleaned)\n",
    "name_mapping_atlas2         = tool_mapping.build_name_mapping(atlas2_customers_cleaned)\n",
    "\n",
    "## Combine name maps\n",
    "customer_name_mapping = { **name_mapping_atlas, **name_mapping_forecast, **name_mapping_revenue2020, **name_mapping_revenue2020A, **name_mapping_atlas2 }\n",
    "\n",
    "## Export the name mapping\n",
    "tool_mapping.write_customer_name_mapping(customer_name_mapping)\n"
   ]
  },
  {
   "cell_type": "code",
   "execution_count": 11,
   "metadata": {
    "tags": []
   },
   "outputs": [],
   "source": [
    "# Anonymize the raw data files\n",
    "\n",
    "## Import name mapping\n",
    "customer_name_mapping = tool_mapping.read_customer_name_mapping()\n",
    "\n",
    "## Clean up names\n",
    "atlas_customers_cleaned         = tool_customer.cleanup_customer_names(atlas_customers_raw)\n",
    "forecast_customers_cleaned      = tool_customer.cleanup_customer_names(forecast_customers_raw)\n",
    "revenue2020_customers_cleaned   = tool_customer.cleanup_customer_names(revenue2020_customers_raw)\n",
    "revenue2020A_customers_cleaned  = tool_customer.cleanup_customer_names(revenue2020A_customers_raw)\n",
    "atlas2_customers_cleaned        = tool_customer.cleanup_customer_names(atlas2_customers_raw)\n",
    "\n",
    "## Map the customer names\n",
    "# atlas_customers_anonymized              = tool_customer.anonymize_customer_list(atlas_customers_cleaned, customer_name_mapping)\n",
    "# forecast_customers_anonymized           = tool_customer.anonymize_customer_list(forecast_customers_cleaned, customer_name_mapping)\n",
    "# revenue2020_customers_anonymized        = tool_customer.anonymize_customer_list(revenue2020_customers_cleaned, customer_name_mapping)\n",
    "# revenue2020A_customers_anonymized       = tool_customer.anonymize_customer_list(revenue2020A_customers_cleaned, customer_name_mapping)\n",
    "# atlas2_customers_anonymized             = tool_customer.anonymize_customer_list(atlas2_customers_cleaned, customer_name_mapping)\n",
    "\n",
    "atlas_customers_anonymized = atlas_customers_cleaned\n",
    "forecast_customers_anonymized = forecast_customers_cleaned\n",
    "revenue2020_customers_anonymized = revenue2020_customers_cleaned\n",
    "revenue2020A_customers_anonymized = revenue2020A_customers_cleaned\n",
    "atlas2_customers_anonymized = atlas2_customers_cleaned\n",
    "\n",
    "# Fix the customers in the DataFrames\n",
    "atlas           = tool_customer.set_customers_index(atlas, atlas_customers_anonymized, \"Customers\")\n",
    "forecast        = tool_customer.set_customers_index(forecast, forecast_customers_anonymized, \"Organization Name\")\n",
    "revenue2020     = tool_customer.set_customers_index(revenue2020, revenue2020_customers_anonymized, \"Name\")\n",
    "revenue2020A    = tool_customer.set_customers_index(revenue2020A, revenue2020A_customers_anonymized, \"Payee Name\")\n",
    "atlas2          = tool_customer.set_customers_index(atlas2, atlas2_customers_anonymized, \"Customers\")\n",
    "\n",
    "## Export\n",
    "atlas.to_csv(constants.ANON_ATLAS_FILE_PATH)\n",
    "forecast.to_csv(constants.ANON_FORECAST_DATA_FILE_PATH)\n",
    "revenue2020.to_csv(constants.ANON_REVENUE2020_FILE_PATH)\n",
    "revenue2020A.to_csv(constants.ANON_REVENUE2020A_FILE_PATH)\n",
    "atlas2.to_csv(constants.ANON_ATLAS_2_FILE_PATH)\n"
   ]
  },
  {
   "cell_type": "code",
   "execution_count": 12,
   "metadata": {},
   "outputs": [
    {
     "output_type": "execute_result",
     "data": {
      "text/plain": "                                              ID  Number of Users  \\\nCustomers                                                           \nAlabama A&M University-College of Education    1            246.0   \nAlbertus Magnus College                        2            267.0   \nAlbuquerque Public Schools                     3             77.0   \nAlcorn State University                        4             20.0   \nAlderson Broaddus University                   5             50.0   \n...                                          ...              ...   \nWinthrop University                          403            375.0   \nWinthrop University                          403            100.0   \nYakima Valley College                        404             56.0   \nYoung Harris College/Miller Library          405             60.0   \nYoung Harris College/Miller Library          405             50.0   \n\n                                            Invoice Date  Invoice #  Year  \\\nCustomers                                                                   \nAlabama A&M University-College of Education      3/23/18        105  2018   \nAlbertus Magnus College                          5/16/18        127  2018   \nAlbuquerque Public Schools                      11/20/18        161  2018   \nAlcorn State University                         10/31/17        NaN  2017   \nAlderson Broaddus University                     10/7/20  NB100820K  2020   \n...                                                  ...        ...   ...   \nWinthrop University                               9/8/20  NB090820S  2020   \nWinthrop University                             10/13/20  NB101320C  2020   \nYakima Valley College                            9/21/20  NB092120A  2020   \nYoung Harris College/Miller Library             11/28/18        162  2018   \nYoung Harris College/Miller Library              11/5/19        236  2019   \n\n                                                 Month Invoice Amount  \\\nCustomers                                                               \nAlabama A&M University-College of Education      March     $5,460.00    \nAlbertus Magnus College                            May     $5,670.00    \nAlbuquerque Public Schools                    November     $2,270.00    \nAlcorn State University                        October     $1,700.00    \nAlderson Broaddus University                   October       $500.00    \n...                                                ...            ...   \nWinthrop University                          September       $937.50    \nWinthrop University                            October     $1,000.00    \nYakima Valley College                        September     $1,030.00    \nYoung Harris College/Miller Library           November     $2,100.00    \nYoung Harris College/Miller Library           November     $1,250.00    \n\n                                            Subscription 2021 Prediction  \\\nCustomers                                                                  \nAlabama A&M University-College of Education      3 Years      $1,820.00    \nAlbertus Magnus College                          3 Years      $1,890.00    \nAlbuquerque Public Schools                        1 Year             NaN   \nAlcorn State University                           1 Year             NaN   \nAlderson Broaddus University                    3 Months        $500.00    \n...                                                  ...             ...   \nWinthrop University                             3 Months             NaN   \nWinthrop University                               1 Year      $1,000.00    \nYakima Valley College                           6 Months      $1,030.00    \nYoung Harris College/Miller Library               1 Year             NaN   \nYoung Harris College/Miller Library               1 Year             NaN   \n\n                                             Lost Customer Customers Status  \\\nCustomers                                                                     \nAlabama A&M University-College of Education            NaN              New   \nAlbertus Magnus College                                NaN              New   \nAlbuquerque Public Schools                          2019.0              New   \nAlcorn State University                             2018.0              New   \nAlderson Broaddus University                           NaN              New   \n...                                                    ...              ...   \nWinthrop University                                    NaN        Returning   \nWinthrop University                                    NaN        Returning   \nYakima Valley College                                  NaN              New   \nYoung Harris College/Miller Library                    NaN              New   \nYoung Harris College/Miller Library                 2020.0        Returning   \n\n                                                       Account Code   \\\nCustomers                                                              \nAlabama A&M University-College of Education  4700-0-00-00000-00-0000   \nAlbertus Magnus College                      4700-0-00-00000-00-0000   \nAlbuquerque Public Schools                   4700-0-00-00000-00-0000   \nAlcorn State University                      4700-0-00-00000-00-0000   \nAlderson Broaddus University                 4700-0-00-00000-00-0000   \n...                                                              ...   \nWinthrop University                          4700-0-00-00000-00-0000   \nWinthrop University                          4700-0-00-00000-00-0000   \nYakima Valley College                        4700-0-00-00000-00-0000   \nYoung Harris College/Miller Library          4700-0-00-00000-00-0000   \nYoung Harris College/Miller Library          4700-0-00-00000-00-0000   \n\n                                                                         Dates of service   \\\nCustomers                                                                                    \nAlabama A&M University-College of Education        3 Years Subscription 3/21/18 to 3/31/21   \nAlbertus Magnus College                             3 Years Subscription 9/1/18 to 8/31/21   \nAlbuquerque Public Schools                        1 Year Subscription 11/19/18 to 11/30/19   \nAlcorn State University                             1 Year Subscription 8/31/17 to 8/31/18   \nAlderson Broaddus University                 3 Months Subscription 10/2/2020 to 12/31/2020   \n...                                                                                    ...   \nWinthrop University                           3 Months Subscription 9/1/2020 to 11/30/2020   \nWinthrop University                             1 Year Subscription 9/30/2020 to 9/30/2021   \nYakima Valley College                        6 Months Subscription 9/18/2020 to 03/18/2021   \nYoung Harris College/Miller Library               1 Year Subscription 11/27/18 to 11/30/19   \nYoung Harris College/Miller Library               1 Year Subscription 11/30/19 to 11/30/20   \n\n                                                                              Address  \\\nCustomers                                                                               \nAlabama A&M University-College of Education  4900 Meridian St N, Huntsville, AL 35811   \nAlbertus Magnus College                          700 Prospect St, New Haven, CT 06511   \nAlbuquerque Public Schools                         Po Box 25704 Albuquerque, NM 87125   \nAlcorn State University                                 1000 Asu Dr, Lorman, MS 39096   \nAlderson Broaddus University                  101 College Hill Rd, Philippi, WV 26416   \n...                                                                               ...   \nWinthrop University                              701 Oakland Ave, Rock Hill, SC 29730   \nWinthrop University                              701 Oakland Ave, Rock Hill, SC 29730   \nYakima Valley College                            PO Box 22520, Yakima, WA  99807-2520   \nYoung Harris College/Miller Library           1 College Street Young Harris, GA 30582   \nYoung Harris College/Miller Library           1 College Street Young Harris, GA 30582   \n\n                                            State        Lat        Long  \nCustomers                                                                 \nAlabama A&M University-College of Education    AL  34.785061  -86.573280  \nAlbertus Magnus College                        CT  41.331299  -72.921440  \nAlbuquerque Public Schools                     NM  35.092410 -106.642950  \nAlcorn State University                        MS  31.875710  -91.141739  \nAlderson Broaddus University                   WV  39.160261  -80.049048  \n...                                           ...        ...         ...  \nWinthrop University                            SC  34.938466  -81.029872  \nWinthrop University                            SC  34.938466  -81.029872  \nYakima Valley College                          WA -35.001338  117.875053  \nYoung Harris College/Miller Library            GA  34.934079  -83.846801  \nYoung Harris College/Miller Library            GA  34.934079  -83.846801  \n\n[764 rows x 17 columns]",
      "text/html": "<div>\n<style scoped>\n    .dataframe tbody tr th:only-of-type {\n        vertical-align: middle;\n    }\n\n    .dataframe tbody tr th {\n        vertical-align: top;\n    }\n\n    .dataframe thead th {\n        text-align: right;\n    }\n</style>\n<table border=\"1\" class=\"dataframe\">\n  <thead>\n    <tr style=\"text-align: right;\">\n      <th></th>\n      <th>ID</th>\n      <th>Number of Users</th>\n      <th>Invoice Date</th>\n      <th>Invoice #</th>\n      <th>Year</th>\n      <th>Month</th>\n      <th>Invoice Amount</th>\n      <th>Subscription</th>\n      <th>2021 Prediction</th>\n      <th>Lost Customer</th>\n      <th>Customers Status</th>\n      <th>Account Code</th>\n      <th>Dates of service</th>\n      <th>Address</th>\n      <th>State</th>\n      <th>Lat</th>\n      <th>Long</th>\n    </tr>\n    <tr>\n      <th>Customers</th>\n      <th></th>\n      <th></th>\n      <th></th>\n      <th></th>\n      <th></th>\n      <th></th>\n      <th></th>\n      <th></th>\n      <th></th>\n      <th></th>\n      <th></th>\n      <th></th>\n      <th></th>\n      <th></th>\n      <th></th>\n      <th></th>\n      <th></th>\n    </tr>\n  </thead>\n  <tbody>\n    <tr>\n      <th>Alabama A&amp;M University-College of Education</th>\n      <td>1</td>\n      <td>246.0</td>\n      <td>3/23/18</td>\n      <td>105</td>\n      <td>2018</td>\n      <td>March</td>\n      <td>$5,460.00</td>\n      <td>3 Years</td>\n      <td>$1,820.00</td>\n      <td>NaN</td>\n      <td>New</td>\n      <td>4700-0-00-00000-00-0000</td>\n      <td>3 Years Subscription 3/21/18 to 3/31/21</td>\n      <td>4900 Meridian St N, Huntsville, AL 35811</td>\n      <td>AL</td>\n      <td>34.785061</td>\n      <td>-86.573280</td>\n    </tr>\n    <tr>\n      <th>Albertus Magnus College</th>\n      <td>2</td>\n      <td>267.0</td>\n      <td>5/16/18</td>\n      <td>127</td>\n      <td>2018</td>\n      <td>May</td>\n      <td>$5,670.00</td>\n      <td>3 Years</td>\n      <td>$1,890.00</td>\n      <td>NaN</td>\n      <td>New</td>\n      <td>4700-0-00-00000-00-0000</td>\n      <td>3 Years Subscription 9/1/18 to 8/31/21</td>\n      <td>700 Prospect St, New Haven, CT 06511</td>\n      <td>CT</td>\n      <td>41.331299</td>\n      <td>-72.921440</td>\n    </tr>\n    <tr>\n      <th>Albuquerque Public Schools</th>\n      <td>3</td>\n      <td>77.0</td>\n      <td>11/20/18</td>\n      <td>161</td>\n      <td>2018</td>\n      <td>November</td>\n      <td>$2,270.00</td>\n      <td>1 Year</td>\n      <td>NaN</td>\n      <td>2019.0</td>\n      <td>New</td>\n      <td>4700-0-00-00000-00-0000</td>\n      <td>1 Year Subscription 11/19/18 to 11/30/19</td>\n      <td>Po Box 25704 Albuquerque, NM 87125</td>\n      <td>NM</td>\n      <td>35.092410</td>\n      <td>-106.642950</td>\n    </tr>\n    <tr>\n      <th>Alcorn State University</th>\n      <td>4</td>\n      <td>20.0</td>\n      <td>10/31/17</td>\n      <td>NaN</td>\n      <td>2017</td>\n      <td>October</td>\n      <td>$1,700.00</td>\n      <td>1 Year</td>\n      <td>NaN</td>\n      <td>2018.0</td>\n      <td>New</td>\n      <td>4700-0-00-00000-00-0000</td>\n      <td>1 Year Subscription 8/31/17 to 8/31/18</td>\n      <td>1000 Asu Dr, Lorman, MS 39096</td>\n      <td>MS</td>\n      <td>31.875710</td>\n      <td>-91.141739</td>\n    </tr>\n    <tr>\n      <th>Alderson Broaddus University</th>\n      <td>5</td>\n      <td>50.0</td>\n      <td>10/7/20</td>\n      <td>NB100820K</td>\n      <td>2020</td>\n      <td>October</td>\n      <td>$500.00</td>\n      <td>3 Months</td>\n      <td>$500.00</td>\n      <td>NaN</td>\n      <td>New</td>\n      <td>4700-0-00-00000-00-0000</td>\n      <td>3 Months Subscription 10/2/2020 to 12/31/2020</td>\n      <td>101 College Hill Rd, Philippi, WV 26416</td>\n      <td>WV</td>\n      <td>39.160261</td>\n      <td>-80.049048</td>\n    </tr>\n    <tr>\n      <th>...</th>\n      <td>...</td>\n      <td>...</td>\n      <td>...</td>\n      <td>...</td>\n      <td>...</td>\n      <td>...</td>\n      <td>...</td>\n      <td>...</td>\n      <td>...</td>\n      <td>...</td>\n      <td>...</td>\n      <td>...</td>\n      <td>...</td>\n      <td>...</td>\n      <td>...</td>\n      <td>...</td>\n      <td>...</td>\n    </tr>\n    <tr>\n      <th>Winthrop University</th>\n      <td>403</td>\n      <td>375.0</td>\n      <td>9/8/20</td>\n      <td>NB090820S</td>\n      <td>2020</td>\n      <td>September</td>\n      <td>$937.50</td>\n      <td>3 Months</td>\n      <td>NaN</td>\n      <td>NaN</td>\n      <td>Returning</td>\n      <td>4700-0-00-00000-00-0000</td>\n      <td>3 Months Subscription 9/1/2020 to 11/30/2020</td>\n      <td>701 Oakland Ave, Rock Hill, SC 29730</td>\n      <td>SC</td>\n      <td>34.938466</td>\n      <td>-81.029872</td>\n    </tr>\n    <tr>\n      <th>Winthrop University</th>\n      <td>403</td>\n      <td>100.0</td>\n      <td>10/13/20</td>\n      <td>NB101320C</td>\n      <td>2020</td>\n      <td>October</td>\n      <td>$1,000.00</td>\n      <td>1 Year</td>\n      <td>$1,000.00</td>\n      <td>NaN</td>\n      <td>Returning</td>\n      <td>4700-0-00-00000-00-0000</td>\n      <td>1 Year Subscription 9/30/2020 to 9/30/2021</td>\n      <td>701 Oakland Ave, Rock Hill, SC 29730</td>\n      <td>SC</td>\n      <td>34.938466</td>\n      <td>-81.029872</td>\n    </tr>\n    <tr>\n      <th>Yakima Valley College</th>\n      <td>404</td>\n      <td>56.0</td>\n      <td>9/21/20</td>\n      <td>NB092120A</td>\n      <td>2020</td>\n      <td>September</td>\n      <td>$1,030.00</td>\n      <td>6 Months</td>\n      <td>$1,030.00</td>\n      <td>NaN</td>\n      <td>New</td>\n      <td>4700-0-00-00000-00-0000</td>\n      <td>6 Months Subscription 9/18/2020 to 03/18/2021</td>\n      <td>PO Box 22520, Yakima, WA  99807-2520</td>\n      <td>WA</td>\n      <td>-35.001338</td>\n      <td>117.875053</td>\n    </tr>\n    <tr>\n      <th>Young Harris College/Miller Library</th>\n      <td>405</td>\n      <td>60.0</td>\n      <td>11/28/18</td>\n      <td>162</td>\n      <td>2018</td>\n      <td>November</td>\n      <td>$2,100.00</td>\n      <td>1 Year</td>\n      <td>NaN</td>\n      <td>NaN</td>\n      <td>New</td>\n      <td>4700-0-00-00000-00-0000</td>\n      <td>1 Year Subscription 11/27/18 to 11/30/19</td>\n      <td>1 College Street Young Harris, GA 30582</td>\n      <td>GA</td>\n      <td>34.934079</td>\n      <td>-83.846801</td>\n    </tr>\n    <tr>\n      <th>Young Harris College/Miller Library</th>\n      <td>405</td>\n      <td>50.0</td>\n      <td>11/5/19</td>\n      <td>236</td>\n      <td>2019</td>\n      <td>November</td>\n      <td>$1,250.00</td>\n      <td>1 Year</td>\n      <td>NaN</td>\n      <td>2020.0</td>\n      <td>Returning</td>\n      <td>4700-0-00-00000-00-0000</td>\n      <td>1 Year Subscription 11/30/19 to 11/30/20</td>\n      <td>1 College Street Young Harris, GA 30582</td>\n      <td>GA</td>\n      <td>34.934079</td>\n      <td>-83.846801</td>\n    </tr>\n  </tbody>\n</table>\n<p>764 rows × 17 columns</p>\n</div>"
     },
     "metadata": {},
     "execution_count": 12
    }
   ],
   "source": [
    "atlas"
   ]
  },
  {
   "cell_type": "code",
   "execution_count": null,
   "metadata": {},
   "outputs": [],
   "source": []
  }
 ],
 "metadata": {
  "kernelspec": {
   "display_name": "pyvizenv",
   "language": "python",
   "name": "pyvizenv"
  },
  "language_info": {
   "codemirror_mode": {
    "name": "ipython",
    "version": 3
   },
   "file_extension": ".py",
   "mimetype": "text/x-python",
   "name": "python",
   "nbconvert_exporter": "python",
   "pygments_lexer": "ipython3",
   "version": "3.8.2-final"
  }
 },
 "nbformat": 4,
 "nbformat_minor": 4
}