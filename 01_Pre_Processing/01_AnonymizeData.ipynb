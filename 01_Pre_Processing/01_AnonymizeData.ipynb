{
 "cells": [
  {
   "source": [
    "# Initialize"
   ],
   "cell_type": "markdown",
   "metadata": {}
  },
  {
   "cell_type": "code",
   "execution_count": 1,
   "metadata": {},
   "outputs": [],
   "source": [
    "# Options\n",
    "\n",
    "## Debugging level\n",
    "debug_level = 0\n",
    "\n",
    "## Anonymize toggle\n",
    "anonymize = False\n"
   ]
  },
  {
   "cell_type": "code",
   "execution_count": 5,
   "metadata": {},
   "outputs": [],
   "source": [
    "# Initialize framework\n",
    "tools = init_preprocessing(debug_level)\n",
    "%matplotlib inline\n"
   ]
  },
  {
   "cell_type": "code",
   "execution_count": 36,
   "metadata": {
    "tags": []
   },
   "outputs": [
    {
     "output_type": "error",
     "ename": "AttributeError",
     "evalue": "'dict' object has no attribute 'constants'",
     "traceback": [
      "\u001b[1;31m---------------------------------------------------------------------------\u001b[0m",
      "\u001b[1;31mAttributeError\u001b[0m                            Traceback (most recent call last)",
      "\u001b[1;32m<ipython-input-36-f6772748aa04>\u001b[0m in \u001b[0;36m<module>\u001b[1;34m\u001b[0m\n\u001b[0;32m      2\u001b[0m \u001b[1;33m\u001b[0m\u001b[0m\n\u001b[0;32m      3\u001b[0m \u001b[1;31m## Read the datasets into Pandas DataFrames\u001b[0m\u001b[1;33m\u001b[0m\u001b[1;33m\u001b[0m\u001b[1;33m\u001b[0m\u001b[0m\n\u001b[1;32m----> 4\u001b[1;33m \u001b[0matlas\u001b[0m               \u001b[1;33m=\u001b[0m \u001b[0mpd\u001b[0m\u001b[1;33m.\u001b[0m\u001b[0mread_csv\u001b[0m\u001b[1;33m(\u001b[0m\u001b[0mtools\u001b[0m\u001b[1;33m.\u001b[0m\u001b[0mconstants\u001b[0m\u001b[1;33m.\u001b[0m\u001b[0mRAW_ATLAS_FILE_PATH\u001b[0m\u001b[1;33m,\u001b[0m \u001b[0mindex_col\u001b[0m\u001b[1;33m=\u001b[0m\u001b[1;34m\"Customers\"\u001b[0m\u001b[1;33m)\u001b[0m\u001b[1;33m\u001b[0m\u001b[1;33m\u001b[0m\u001b[0m\n\u001b[0m\u001b[0;32m      5\u001b[0m \u001b[0mforecast\u001b[0m            \u001b[1;33m=\u001b[0m \u001b[0mpd\u001b[0m\u001b[1;33m.\u001b[0m\u001b[0mread_csv\u001b[0m\u001b[1;33m(\u001b[0m\u001b[0mtools\u001b[0m\u001b[1;33m.\u001b[0m\u001b[0mconstants\u001b[0m\u001b[1;33m.\u001b[0m\u001b[0mRAW_FORECAST_DATA_FILE_PATH\u001b[0m\u001b[1;33m,\u001b[0m \u001b[0mindex_col\u001b[0m\u001b[1;33m=\u001b[0m\u001b[1;34m\"Organization Name\"\u001b[0m\u001b[1;33m)\u001b[0m\u001b[1;33m\u001b[0m\u001b[1;33m\u001b[0m\u001b[0m\n\u001b[0;32m      6\u001b[0m \u001b[0mrevenue2020\u001b[0m         \u001b[1;33m=\u001b[0m \u001b[0mpd\u001b[0m\u001b[1;33m.\u001b[0m\u001b[0mread_csv\u001b[0m\u001b[1;33m(\u001b[0m\u001b[0mtools\u001b[0m\u001b[1;33m.\u001b[0m\u001b[0mconstants\u001b[0m\u001b[1;33m.\u001b[0m\u001b[0mRAW_REVENUE2020_FILE_PATH\u001b[0m\u001b[1;33m,\u001b[0m \u001b[0mindex_col\u001b[0m\u001b[1;33m=\u001b[0m\u001b[1;34m\"Name\"\u001b[0m\u001b[1;33m)\u001b[0m\u001b[1;33m\u001b[0m\u001b[1;33m\u001b[0m\u001b[0m\n",
      "\u001b[1;31mAttributeError\u001b[0m: 'dict' object has no attribute 'constants'"
     ]
    }
   ],
   "source": [
    "# Build the anonymous customer name mapping\n",
    "\n",
    "## Read the datasets into Pandas DataFrames\n",
    "atlas               = pd.read_csv(tools.constants.RAW_ATLAS_FILE_PATH, index_col=\"Customers\")\n",
    "forecast            = pd.read_csv(tools.constants.RAW_FORECAST_DATA_FILE_PATH, index_col=\"Organization Name\")\n",
    "revenue2020         = pd.read_csv(tools.constants.RAW_REVENUE2020_FILE_PATH, index_col=\"Name\")\n",
    "revenue2020A        = pd.read_csv(tools.constants.RAW_REVENUE2020A_FILE_PATH, index_col=\"Payee Name\")\n",
    "potential_customers_file    = pd.read_csv(tools.constants.RAW_POTENTIAL_CUSTOMERS_FILE_PATH, index_col=\"Customer Name\")\n",
    "\n",
    "## Extract paying customers\n",
    "atlas_customers_raw             = atlas.index.to_list()\n",
    "forecast_customers_raw          = forecast.index.to_list()\n",
    "revenue2020_customers_raw       = revenue2020.index.to_list()\n",
    "revenue2020A_customers_raw      = revenue2020A.index.to_list()\n",
    "potential_customers_raw             = potential_customers_file.index.to_list()\n",
    "\n",
    "## Clean up names\n",
    "atlas_customers_cleaned             = tool_customer.cleanup_customer_names(atlas_customers_raw)\n",
    "forecast_customers_cleaned          = tool_customer.cleanup_customer_names(forecast_customers_raw)\n",
    "revenue2020_customers_cleaned       = tool_customer.cleanup_customer_names(revenue2020_customers_raw)\n",
    "revenue2020A_customers_cleaned      = tool_customer.cleanup_customer_names(revenue2020A_customers_raw)\n",
    "potential_customers_cleaned         = tool_customer.cleanup_customer_names(potential_customers_raw)\n",
    "\n",
    "## Build name mapping\n",
    "name_mapping                            = tool_mapping.build_name_mapping(atlas_customers_cleaned, {})\n",
    "name_mapping                            = tool_mapping.build_name_mapping(forecast_customers_cleaned, name_mapping)\n",
    "name_mapping                            = tool_mapping.build_name_mapping(revenue2020_customers_cleaned, name_mapping)\n",
    "name_mapping                            = tool_mapping.build_name_mapping(revenue2020A_customers_cleaned, name_mapping)\n",
    "name_mapping_potential_customers        = tool_mapping.build_name_mapping(potential_customers_cleaned, {})\n",
    "\n",
    "## Export the name mappings\n",
    "tools.tool_mapping.write_customer_name_mapping(name_mapping)\n",
    "tools.tool_mapping.write_lookup_table(name_mapping_potential_customers, tools.constants.LUT_POTENTIAL_CUSTOMER_NAME_FILE_PATH)\n"
   ]
  },
  {
   "cell_type": "code",
   "execution_count": 22,
   "metadata": {
    "tags": []
   },
   "outputs": [
    {
     "output_type": "stream",
     "name": "stdout",
     "text": [
      "NOT anonymizing data!\n"
     ]
    }
   ],
   "source": [
    "# Anonymize the raw data files\n",
    "\n",
    "if (anonymize):\n",
    "\n",
    "    print(\"Anonymizing data!\")\n",
    "\n",
    "    ## Import name mapping\n",
    "    customer_name_mapping = tool_mapping.read_customer_name_mapping()\n",
    "\n",
    "    ## Clean up names\n",
    "    atlas_customers_cleaned         = tool_customer.cleanup_customer_names(atlas_customers_raw)\n",
    "    forecast_customers_cleaned      = tool_customer.cleanup_customer_names(forecast_customers_raw)\n",
    "    revenue2020_customers_cleaned   = tool_customer.cleanup_customer_names(revenue2020_customers_raw)\n",
    "    revenue2020A_customers_cleaned  = tool_customer.cleanup_customer_names(revenue2020A_customers_raw)\n",
    "\n",
    "    ## Map the customer names\n",
    "    atlas_customers_anonymized              = tool_customer.anonymize_customer_list(atlas_customers_cleaned, customer_name_mapping)\n",
    "    forecast_customers_anonymized      = tool_customer.anonymize_customer_list(forecast_customers_cleaned, customer_name_mapping)\n",
    "    revenue2020_customers_anonymized        = tool_customer.anonymize_customer_list(revenue2020_customers_cleaned, customer_name_mapping)\n",
    "    revenue2020A_customers_anonymized       = tool_customer.anonymize_customer_list(revenue2020A_customers_cleaned, customer_name_mapping)\n",
    "\n",
    "    # Fix the customers in the DataFrames\n",
    "    atlas           = tool_customer.set_customers_index(atlas, atlas_customers_anonymized, \"Customers\")\n",
    "    forecast        = tool_customer.set_customers_index(forecast, forecast_customers_anonymized, \"Organization Name\")\n",
    "    revenue2020     = tool_customer.set_customers_index(revenue2020, revenue2020_customers_anonymized, \"Name\")\n",
    "    revenue2020A    = tool_customer.set_customers_index(revenue2020A, revenue2020A_customers_anonymized, \"Payee Name\")\n",
    "\n",
    "else:\n",
    "    \n",
    "    print(\"NOT anonymizing data!\")\n"
   ]
  },
  {
   "cell_type": "code",
   "execution_count": 23,
   "metadata": {},
   "outputs": [],
   "source": [
    "# Export\n",
    "atlas.to_csv(tools.constants.ANON_ATLAS_FILE_PATH)\n",
    "forecast.to_csv(tools.constants.ANON_FORECAST_DATA_FILE_PATH)\n",
    "revenue2020.to_csv(tools.constants.ANON_REVENUE2020_FILE_PATH)\n",
    "revenue2020A.to_csv(tools.constants.ANON_REVENUE2020A_FILE_PATH)\n"
   ]
  }
 ],
 "metadata": {
  "kernelspec": {
   "display_name": "pyvizenv",
   "language": "python",
   "name": "pyvizenv"
  },
  "language_info": {
   "codemirror_mode": {
    "name": "ipython",
    "version": 3
   },
   "file_extension": ".py",
   "mimetype": "text/x-python",
   "name": "python",
   "nbconvert_exporter": "python",
   "pygments_lexer": "ipython3",
   "version": "3.8.3-final"
  }
 },
 "nbformat": 4,
 "nbformat_minor": 4
}