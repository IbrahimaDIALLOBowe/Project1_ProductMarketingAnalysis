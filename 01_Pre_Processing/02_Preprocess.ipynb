{
 "cells": [
  {
   "cell_type": "code",
   "execution_count": 1,
   "metadata": {},
   "outputs": [],
   "source": [
    "# System imports\n",
    "import os\n",
    "import pandas as pd\n",
    "import matplotlib.pyplot as plt\n",
    "import plotly.express as px\n",
    "import hvplot.pandas\n",
    "import panel as pn\n",
    "from pathlib import Path\n",
    "from dotenv import load_dotenv\n",
    "from panel.interact import interact\n",
    "from panel import widgets\n",
    "from string import digits\n",
    "import csv\n",
    "import json\n",
    "import numpy as np\n",
    "import dateparser\n",
    "\n",
    "pn.extension()\n",
    "\n",
    "%matplotlib inline"
   ]
  },
  {
   "cell_type": "code",
   "execution_count": 2,
   "metadata": {},
   "outputs": [],
   "source": [
    "# Local imports\n",
    "import sys\n",
    "sys.path.append(\"../lib2\")\n",
    "\n",
    "from Constants import Constants\n",
    "from PreprocessingTools import CustomerNameCleaningFunctions\n",
    "from PreprocessingTools import DateCleaningFunctions\n",
    "from PreprocessingTools import SpecializedDateCleaningFunctions\n",
    "from PreprocessingTools import DurationParsing\n"
   ]
  },
  {
   "cell_type": "code",
   "execution_count": 3,
   "metadata": {},
   "outputs": [],
   "source": [
    "# Construct tools\n",
    "debug_level = 0\n",
    "constants = Constants()\n",
    "tool_customer = CustomerNameCleaningFunctions(debug_level)\n",
    "tool_date = DateCleaningFunctions(debug_level)\n",
    "tool_special_date = SpecializedDateCleaningFunctions(debug_level)\n",
    "tool_duration_parsing = DurationParsing(debug_level)"
   ]
  },
  {
   "cell_type": "code",
   "execution_count": 8,
   "metadata": {},
   "outputs": [
    {
     "output_type": "execute_result",
     "data": {
      "text/plain": [
       "WindowsPath('../../Resources/02_Anonymized')"
      ]
     },
     "metadata": {},
     "execution_count": 8
    }
   ],
   "source": [
    "constants.DATA_DIR_ANONYMIZED\n"
   ]
  },
  {
   "cell_type": "code",
   "execution_count": 4,
   "metadata": {},
   "outputs": [
    {
     "output_type": "error",
     "ename": "FileNotFoundError",
     "evalue": "[Errno 2] No such file or directory: '..\\\\..\\\\Resources\\\\02_Anonymized\\\\ATLAS.csv'",
     "traceback": [
      "\u001b[1;31m---------------------------------------------------------------------------\u001b[0m",
      "\u001b[1;31mFileNotFoundError\u001b[0m                         Traceback (most recent call last)",
      "\u001b[1;32m<ipython-input-4-1b0c75b6624b>\u001b[0m in \u001b[0;36m<module>\u001b[1;34m\u001b[0m\n\u001b[0;32m      1\u001b[0m \u001b[1;31m# Read anonymized data\u001b[0m\u001b[1;33m\u001b[0m\u001b[1;33m\u001b[0m\u001b[1;33m\u001b[0m\u001b[0m\n\u001b[1;32m----> 2\u001b[1;33m \u001b[0matlas\u001b[0m                   \u001b[1;33m=\u001b[0m \u001b[0mpd\u001b[0m\u001b[1;33m.\u001b[0m\u001b[0mread_csv\u001b[0m\u001b[1;33m(\u001b[0m\u001b[0mconstants\u001b[0m\u001b[1;33m.\u001b[0m\u001b[0mANON_ATLAS_FILE_PATH\u001b[0m\u001b[1;33m,\u001b[0m \u001b[0mindex_col\u001b[0m\u001b[1;33m=\u001b[0m\u001b[1;34m\"Customers\"\u001b[0m\u001b[1;33m)\u001b[0m\u001b[1;33m\u001b[0m\u001b[1;33m\u001b[0m\u001b[0m\n\u001b[0m\u001b[0;32m      3\u001b[0m \u001b[0mforecast\u001b[0m                \u001b[1;33m=\u001b[0m \u001b[0mpd\u001b[0m\u001b[1;33m.\u001b[0m\u001b[0mread_csv\u001b[0m\u001b[1;33m(\u001b[0m\u001b[0mconstants\u001b[0m\u001b[1;33m.\u001b[0m\u001b[0mANON_FORECAST_DATA_FILE_PATH\u001b[0m\u001b[1;33m,\u001b[0m \u001b[0mindex_col\u001b[0m\u001b[1;33m=\u001b[0m\u001b[1;34m\"Organization Name\"\u001b[0m\u001b[1;33m)\u001b[0m\u001b[1;33m\u001b[0m\u001b[1;33m\u001b[0m\u001b[0m\n\u001b[0;32m      4\u001b[0m \u001b[0mrevenue2020\u001b[0m             \u001b[1;33m=\u001b[0m \u001b[0mpd\u001b[0m\u001b[1;33m.\u001b[0m\u001b[0mread_csv\u001b[0m\u001b[1;33m(\u001b[0m\u001b[0mconstants\u001b[0m\u001b[1;33m.\u001b[0m\u001b[0mANON_REVENUE2020_FILE_PATH\u001b[0m\u001b[1;33m,\u001b[0m \u001b[0mindex_col\u001b[0m\u001b[1;33m=\u001b[0m\u001b[1;34m\"Name\"\u001b[0m\u001b[1;33m)\u001b[0m\u001b[1;33m\u001b[0m\u001b[1;33m\u001b[0m\u001b[0m\n\u001b[0;32m      5\u001b[0m \u001b[0mrevenue2020A\u001b[0m            \u001b[1;33m=\u001b[0m \u001b[0mpd\u001b[0m\u001b[1;33m.\u001b[0m\u001b[0mread_csv\u001b[0m\u001b[1;33m(\u001b[0m\u001b[0mconstants\u001b[0m\u001b[1;33m.\u001b[0m\u001b[0mANON_REVENUE2020A_FILE_PATH\u001b[0m\u001b[1;33m,\u001b[0m \u001b[0mindex_col\u001b[0m\u001b[1;33m=\u001b[0m\u001b[1;34m\"Payee Name\"\u001b[0m\u001b[1;33m)\u001b[0m\u001b[1;33m\u001b[0m\u001b[1;33m\u001b[0m\u001b[0m\n",
      "\u001b[1;32mC:\\ProgramData\\Anaconda3\\envs\\pyvizenv\\lib\\site-packages\\pandas\\io\\parsers.py\u001b[0m in \u001b[0;36mread_csv\u001b[1;34m(filepath_or_buffer, sep, delimiter, header, names, index_col, usecols, squeeze, prefix, mangle_dupe_cols, dtype, engine, converters, true_values, false_values, skipinitialspace, skiprows, skipfooter, nrows, na_values, keep_default_na, na_filter, verbose, skip_blank_lines, parse_dates, infer_datetime_format, keep_date_col, date_parser, dayfirst, cache_dates, iterator, chunksize, compression, thousands, decimal, lineterminator, quotechar, quoting, doublequote, escapechar, comment, encoding, dialect, error_bad_lines, warn_bad_lines, delim_whitespace, low_memory, memory_map, float_precision)\u001b[0m\n\u001b[0;32m    684\u001b[0m     )\n\u001b[0;32m    685\u001b[0m \u001b[1;33m\u001b[0m\u001b[0m\n\u001b[1;32m--> 686\u001b[1;33m     \u001b[1;32mreturn\u001b[0m \u001b[0m_read\u001b[0m\u001b[1;33m(\u001b[0m\u001b[0mfilepath_or_buffer\u001b[0m\u001b[1;33m,\u001b[0m \u001b[0mkwds\u001b[0m\u001b[1;33m)\u001b[0m\u001b[1;33m\u001b[0m\u001b[1;33m\u001b[0m\u001b[0m\n\u001b[0m\u001b[0;32m    687\u001b[0m \u001b[1;33m\u001b[0m\u001b[0m\n\u001b[0;32m    688\u001b[0m \u001b[1;33m\u001b[0m\u001b[0m\n",
      "\u001b[1;32mC:\\ProgramData\\Anaconda3\\envs\\pyvizenv\\lib\\site-packages\\pandas\\io\\parsers.py\u001b[0m in \u001b[0;36m_read\u001b[1;34m(filepath_or_buffer, kwds)\u001b[0m\n\u001b[0;32m    450\u001b[0m \u001b[1;33m\u001b[0m\u001b[0m\n\u001b[0;32m    451\u001b[0m     \u001b[1;31m# Create the parser.\u001b[0m\u001b[1;33m\u001b[0m\u001b[1;33m\u001b[0m\u001b[1;33m\u001b[0m\u001b[0m\n\u001b[1;32m--> 452\u001b[1;33m     \u001b[0mparser\u001b[0m \u001b[1;33m=\u001b[0m \u001b[0mTextFileReader\u001b[0m\u001b[1;33m(\u001b[0m\u001b[0mfp_or_buf\u001b[0m\u001b[1;33m,\u001b[0m \u001b[1;33m**\u001b[0m\u001b[0mkwds\u001b[0m\u001b[1;33m)\u001b[0m\u001b[1;33m\u001b[0m\u001b[1;33m\u001b[0m\u001b[0m\n\u001b[0m\u001b[0;32m    453\u001b[0m \u001b[1;33m\u001b[0m\u001b[0m\n\u001b[0;32m    454\u001b[0m     \u001b[1;32mif\u001b[0m \u001b[0mchunksize\u001b[0m \u001b[1;32mor\u001b[0m \u001b[0miterator\u001b[0m\u001b[1;33m:\u001b[0m\u001b[1;33m\u001b[0m\u001b[1;33m\u001b[0m\u001b[0m\n",
      "\u001b[1;32mC:\\ProgramData\\Anaconda3\\envs\\pyvizenv\\lib\\site-packages\\pandas\\io\\parsers.py\u001b[0m in \u001b[0;36m__init__\u001b[1;34m(self, f, engine, **kwds)\u001b[0m\n\u001b[0;32m    944\u001b[0m             \u001b[0mself\u001b[0m\u001b[1;33m.\u001b[0m\u001b[0moptions\u001b[0m\u001b[1;33m[\u001b[0m\u001b[1;34m\"has_index_names\"\u001b[0m\u001b[1;33m]\u001b[0m \u001b[1;33m=\u001b[0m \u001b[0mkwds\u001b[0m\u001b[1;33m[\u001b[0m\u001b[1;34m\"has_index_names\"\u001b[0m\u001b[1;33m]\u001b[0m\u001b[1;33m\u001b[0m\u001b[1;33m\u001b[0m\u001b[0m\n\u001b[0;32m    945\u001b[0m \u001b[1;33m\u001b[0m\u001b[0m\n\u001b[1;32m--> 946\u001b[1;33m         \u001b[0mself\u001b[0m\u001b[1;33m.\u001b[0m\u001b[0m_make_engine\u001b[0m\u001b[1;33m(\u001b[0m\u001b[0mself\u001b[0m\u001b[1;33m.\u001b[0m\u001b[0mengine\u001b[0m\u001b[1;33m)\u001b[0m\u001b[1;33m\u001b[0m\u001b[1;33m\u001b[0m\u001b[0m\n\u001b[0m\u001b[0;32m    947\u001b[0m \u001b[1;33m\u001b[0m\u001b[0m\n\u001b[0;32m    948\u001b[0m     \u001b[1;32mdef\u001b[0m \u001b[0mclose\u001b[0m\u001b[1;33m(\u001b[0m\u001b[0mself\u001b[0m\u001b[1;33m)\u001b[0m\u001b[1;33m:\u001b[0m\u001b[1;33m\u001b[0m\u001b[1;33m\u001b[0m\u001b[0m\n",
      "\u001b[1;32mC:\\ProgramData\\Anaconda3\\envs\\pyvizenv\\lib\\site-packages\\pandas\\io\\parsers.py\u001b[0m in \u001b[0;36m_make_engine\u001b[1;34m(self, engine)\u001b[0m\n\u001b[0;32m   1176\u001b[0m     \u001b[1;32mdef\u001b[0m \u001b[0m_make_engine\u001b[0m\u001b[1;33m(\u001b[0m\u001b[0mself\u001b[0m\u001b[1;33m,\u001b[0m \u001b[0mengine\u001b[0m\u001b[1;33m=\u001b[0m\u001b[1;34m\"c\"\u001b[0m\u001b[1;33m)\u001b[0m\u001b[1;33m:\u001b[0m\u001b[1;33m\u001b[0m\u001b[1;33m\u001b[0m\u001b[0m\n\u001b[0;32m   1177\u001b[0m         \u001b[1;32mif\u001b[0m \u001b[0mengine\u001b[0m \u001b[1;33m==\u001b[0m \u001b[1;34m\"c\"\u001b[0m\u001b[1;33m:\u001b[0m\u001b[1;33m\u001b[0m\u001b[1;33m\u001b[0m\u001b[0m\n\u001b[1;32m-> 1178\u001b[1;33m             \u001b[0mself\u001b[0m\u001b[1;33m.\u001b[0m\u001b[0m_engine\u001b[0m \u001b[1;33m=\u001b[0m \u001b[0mCParserWrapper\u001b[0m\u001b[1;33m(\u001b[0m\u001b[0mself\u001b[0m\u001b[1;33m.\u001b[0m\u001b[0mf\u001b[0m\u001b[1;33m,\u001b[0m \u001b[1;33m**\u001b[0m\u001b[0mself\u001b[0m\u001b[1;33m.\u001b[0m\u001b[0moptions\u001b[0m\u001b[1;33m)\u001b[0m\u001b[1;33m\u001b[0m\u001b[1;33m\u001b[0m\u001b[0m\n\u001b[0m\u001b[0;32m   1179\u001b[0m         \u001b[1;32melse\u001b[0m\u001b[1;33m:\u001b[0m\u001b[1;33m\u001b[0m\u001b[1;33m\u001b[0m\u001b[0m\n\u001b[0;32m   1180\u001b[0m             \u001b[1;32mif\u001b[0m \u001b[0mengine\u001b[0m \u001b[1;33m==\u001b[0m \u001b[1;34m\"python\"\u001b[0m\u001b[1;33m:\u001b[0m\u001b[1;33m\u001b[0m\u001b[1;33m\u001b[0m\u001b[0m\n",
      "\u001b[1;32mC:\\ProgramData\\Anaconda3\\envs\\pyvizenv\\lib\\site-packages\\pandas\\io\\parsers.py\u001b[0m in \u001b[0;36m__init__\u001b[1;34m(self, src, **kwds)\u001b[0m\n\u001b[0;32m   2006\u001b[0m         \u001b[0mkwds\u001b[0m\u001b[1;33m[\u001b[0m\u001b[1;34m\"usecols\"\u001b[0m\u001b[1;33m]\u001b[0m \u001b[1;33m=\u001b[0m \u001b[0mself\u001b[0m\u001b[1;33m.\u001b[0m\u001b[0musecols\u001b[0m\u001b[1;33m\u001b[0m\u001b[1;33m\u001b[0m\u001b[0m\n\u001b[0;32m   2007\u001b[0m \u001b[1;33m\u001b[0m\u001b[0m\n\u001b[1;32m-> 2008\u001b[1;33m         \u001b[0mself\u001b[0m\u001b[1;33m.\u001b[0m\u001b[0m_reader\u001b[0m \u001b[1;33m=\u001b[0m \u001b[0mparsers\u001b[0m\u001b[1;33m.\u001b[0m\u001b[0mTextReader\u001b[0m\u001b[1;33m(\u001b[0m\u001b[0msrc\u001b[0m\u001b[1;33m,\u001b[0m \u001b[1;33m**\u001b[0m\u001b[0mkwds\u001b[0m\u001b[1;33m)\u001b[0m\u001b[1;33m\u001b[0m\u001b[1;33m\u001b[0m\u001b[0m\n\u001b[0m\u001b[0;32m   2009\u001b[0m         \u001b[0mself\u001b[0m\u001b[1;33m.\u001b[0m\u001b[0munnamed_cols\u001b[0m \u001b[1;33m=\u001b[0m \u001b[0mself\u001b[0m\u001b[1;33m.\u001b[0m\u001b[0m_reader\u001b[0m\u001b[1;33m.\u001b[0m\u001b[0munnamed_cols\u001b[0m\u001b[1;33m\u001b[0m\u001b[1;33m\u001b[0m\u001b[0m\n\u001b[0;32m   2010\u001b[0m \u001b[1;33m\u001b[0m\u001b[0m\n",
      "\u001b[1;32mpandas\\_libs\\parsers.pyx\u001b[0m in \u001b[0;36mpandas._libs.parsers.TextReader.__cinit__\u001b[1;34m()\u001b[0m\n",
      "\u001b[1;32mpandas\\_libs\\parsers.pyx\u001b[0m in \u001b[0;36mpandas._libs.parsers.TextReader._setup_parser_source\u001b[1;34m()\u001b[0m\n",
      "\u001b[1;31mFileNotFoundError\u001b[0m: [Errno 2] No such file or directory: '..\\\\..\\\\Resources\\\\02_Anonymized\\\\ATLAS.csv'"
     ]
    }
   ],
   "source": [
    "# Read anonymized data\n",
    "atlas                   = pd.read_csv(constants.ANON_ATLAS_FILE_PATH, index_col=\"Customers\")\n",
    "forecast                = pd.read_csv(constants.ANON_FORECAST_DATA_FILE_PATH, index_col=\"Organization Name\")\n",
    "revenue2020             = pd.read_csv(constants.ANON_REVENUE2020_FILE_PATH, index_col=\"Name\")\n",
    "revenue2020A            = pd.read_csv(constants.ANON_REVENUE2020A_FILE_PATH, index_col=\"Payee Name\")\n",
    "atlas2                  = pd.read_csv(constants.ANON_ATLAS_2_FILE_PATH, index_col=\"Customers\")\n"
   ]
  },
  {
   "cell_type": "code",
   "execution_count": null,
   "metadata": {
    "tags": []
   },
   "outputs": [],
   "source": [
    "# Clean up ATLAS data\n",
    "\n",
    "## Invoice Date\n",
    "atlas[\"Invoice Date\"]           = tool_date.cleanup_date_string_list(atlas[\"Invoice Date\"])\n",
    "\n",
    "## Invoice Amount\n",
    "atlas[\"Invoice Amount\"]         = tool_date.cleanup_dollar_string_list(atlas[\"Invoice Amount\"])\n",
    "\n",
    "## Dates of service\n",
    "dates_of_service                = tool_special_date.extract_subscription_dates_list(atlas[\"Dates of service \"])\n",
    "atlas[\"Service Start\"]          = dates_of_service[0]\n",
    "atlas[\"Service End\"]            = dates_of_service[1]\n",
    "atlas.drop(columns=[\"Dates of service \"], inplace=True)\n",
    "\n",
    "## Transform Subscription into a duration to enable math\n",
    "atlas[\"Subscription Duration\"] = tool_duration_parsing.parse_duration_str_list(atlas[\"Subscription\"])\n",
    "\n",
    "atlas.head()"
   ]
  },
  {
   "cell_type": "code",
   "execution_count": null,
   "metadata": {
    "tags": []
   },
   "outputs": [],
   "source": [
    "# Clean up 2021 forecast data\n",
    "\n",
    "## Remove blank columns\n",
    "forecast.drop(\n",
    "    columns=[\"Unnamed: 8\", \"Unnamed: 9\", \"Unnamed: 10\", \"Unnamed: 11\", \"Unnamed: 12\", \"Unnamed: 13\", \"Unnamed: 14\", \"Unnamed: 15\", \"Unnamed: 16\", \"Unnamed: 17\", \"Unnamed: 18\", \"Unnamed: 19\", \"Unnamed: 20\", \"Unnamed: 21\", \"Unnamed: 22\", \"Unnamed: 23\", \"Unnamed: 24\", \"Unnamed: 25\", \"Unnamed: 26\", \"Unnamed: 27\", \"Unnamed: 28\", \"Unnamed: 29\", \"Unnamed: 30\", \"Unnamed: 31\", \"Unnamed: 32\", \"Unnamed: 33\", \"Unnamed: 34\", \"Unnamed: 35\", \"Unnamed: 36\", \"Unnamed: 37\", \"Unnamed: 38\", \"Unnamed: 39\", \"Unnamed: 40\", \"Unnamed: 41\", \"Unnamed: 42\", \"Unnamed: 43\", \"Unnamed: 44\", \"Unnamed: 45\", \"Unnamed: 46\", \"Unnamed: 47\", \"Unnamed: 48\", \"Unnamed: 49\", \"Unnamed: 50\", \"Unnamed: 51\", \"Unnamed: 52\", \"Unnamed: 53\", \"Unnamed: 54\", \"Unnamed: 55\", \"Unnamed: 56\", \"Unnamed: 57\", \"Unnamed: 58\", \"Unnamed: 59\", \"Unnamed: 60\", \"Unnamed: 61\", \"Unnamed: 62\", \"Unnamed: 63\", \"Unnamed: 64\", \"Unnamed: 65\", \"Unnamed: 66\", \"Unnamed: 67\", \"Unnamed: 68\", \"Unnamed: 69\", \"Unnamed: 70\", \"Unnamed: 71\", \"Unnamed: 72\", \"Unnamed: 73\", \"Unnamed: 74\", \"Unnamed: 75\", \"Unnamed: 76\", \"Unnamed: 77\", \"Unnamed: 78\", \"Unnamed: 79\", \"Unnamed: 80\", \"Unnamed: 81\", \"Unnamed: 82\", \"Unnamed: 83\", \"Unnamed: 84\", \"Unnamed: 85\", \"Unnamed: 86\", \"Unnamed: 87\", \"Unnamed: 88\", \"Unnamed: 89\", \"Unnamed: 90\", \"Unnamed: 91\", \"Unnamed: 92\", \"Unnamed: 93\", \"Unnamed: 94\", \"Unnamed: 95\", \"Unnamed: 96\", \"Unnamed: 97\", \"Unnamed: 98\", \"Unnamed: 99\", \"Unnamed: 100\", \"Unnamed: 101\", \"Unnamed: 102\", \"Unnamed: 103\", \"Unnamed: 104\", \"Unnamed: 105\", \"Unnamed: 106\", \"Unnamed: 107\", \"Unnamed: 108\", \"Unnamed: 109\", \"Unnamed: 110\", \"Unnamed: 111\", \"Unnamed: 112\", \"Unnamed: 113\"],\n",
    "    inplace=True)\n",
    "\n",
    "## Parse dates\n",
    "forecast[\"Contract Start Date\"]     = tool_date.cleanup_date_string_list(forecast[\"Contract Start Date\"])\n",
    "forecast[\"Contract End Date\"]       = tool_date.cleanup_date_string_list(forecast[\"Contract End Date\"])\n",
    "\n",
    "## Parse dollars\n",
    "forecast[\"Subscription Fee\"]        = tool_date.cleanup_dollar_string_list(forecast[\"Subscription Fee\"])\n",
    "\n",
    "## Transform Subscription into a duration to enable math\n",
    "forecast[\"Subscription Duration\"] = tool_duration_parsing.parse_duration_str_list(forecast[\"Subscription Type\"])\n",
    "\n",
    "forecast.head()"
   ]
  },
  {
   "cell_type": "code",
   "execution_count": null,
   "metadata": {},
   "outputs": [],
   "source": [
    "forecast.dtypes"
   ]
  },
  {
   "cell_type": "code",
   "execution_count": null,
   "metadata": {
    "tags": []
   },
   "outputs": [],
   "source": [
    "# Clean up revenue2020 data\n",
    "\n",
    "## Parse dates (dates are a little suspicious since it assumes today's day-of-month and year. Only the month value is accurate.)\n",
    "revenue2020[\"Month_Dateformat\"]     = tool_date.cleanup_date_string_list(revenue2020[\"Month\"])\n",
    "\n",
    "revenue2020.head()"
   ]
  },
  {
   "cell_type": "code",
   "execution_count": null,
   "metadata": {
    "tags": []
   },
   "outputs": [],
   "source": [
    "# Clean up revenue2020A data\n",
    "\n",
    "## Remove blank columns\n",
    "revenue2020A.drop(\n",
    "    columns=[\"Unnamed: 8\", \"Unnamed: 9\", \"Unnamed: 10\"],\n",
    "    inplace=True)\n",
    "\n",
    "## Numeric types\n",
    "revenue2020A[\"Invoice #\"]           = pd.to_numeric(revenue2020A[\"Invoice #\"], errors='coerce')\n",
    "revenue2020A[\"Vendor ID\"]           = pd.to_numeric(revenue2020A[\"Vendor ID\"], errors='coerce')\n",
    "\n",
    "## Dollar figures\n",
    "revenue2020A[\"Invoice Amount\"]      = tool_date.cleanup_dollar_string_list(revenue2020A[\"Invoice Amount\"])\n",
    "revenue2020A[\"Amount Paid\"]         = tool_date.cleanup_dollar_string_list(revenue2020A[\"Amount Paid\"])\n",
    "\n",
    "## Parse dates\n",
    "revenue2020A[\"Invoice Date\"]        = tool_date.cleanup_date_string_list(revenue2020A[\"Invoice Date\"])\n",
    "revenue2020A[\"Mail Date\"]           = tool_date.cleanup_date_string_list(revenue2020A[\"Mail Date\"])\n",
    "revenue2020A[\" Pymt Received\"]      = tool_date.cleanup_date_string_list(revenue2020A[\" Pymt Received\"])\n",
    "\n",
    "## Dates of service\n",
    "dates_of_service            = tool_special_date.extract_subscription_dates_list(revenue2020A[\"Dates of service \"])\n",
    "revenue2020A[\"Service Start\"]      = dates_of_service[0]\n",
    "revenue2020A[\"Service End\"]        = dates_of_service[1]\n",
    "revenue2020A.drop(columns=[\"Dates of service \"], inplace=True)\n",
    "\n",
    "## Compute service duration\n",
    "revenue2020A[\"Service Duration\"] = revenue2020A[\"Service End\"] - revenue2020A[\"Service Start\"]\n",
    "\n",
    "revenue2020A.head()"
   ]
  },
  {
   "cell_type": "code",
   "execution_count": null,
   "metadata": {},
   "outputs": [],
   "source": [
    "# Clean up ATLAS 2 data\n",
    "\n",
    "## Invoice Date\n",
    "atlas2[\"Invoice Date\"]          = tool_date.cleanup_date_string_list(atlas2[\"Invoice Date\"])\n",
    "\n",
    "## Invoice Amount\n",
    "atlas2[\"Invoice Amount\"]        = tool_date.cleanup_dollar_string_list(atlas2[\"Invoice Amount\"])\n",
    "\n",
    "## Dates of service\n",
    "dates_of_service                = tool_special_date.extract_subscription_dates_list(atlas2[\"Dates of service \"])\n",
    "atlas2[\"Service Start\"]         = dates_of_service[0]\n",
    "atlas2[\"Service End\"]           = dates_of_service[1]\n",
    "atlas2.drop(columns=[\"Dates of service \"], inplace=True)\n",
    "\n",
    "## Transform Subscription into a duration to enable math\n",
    "atlas2[\"Subscription Duration\"] = tool_duration_parsing.parse_duration_str_list(atlas2[\"Subscription\"])\n",
    "\n",
    "atlas2.head()"
   ]
  },
  {
   "cell_type": "code",
   "execution_count": null,
   "metadata": {},
   "outputs": [],
   "source": [
    "# Export all files\n",
    "atlas.to_pickle(constants.PREPROCESSED_ATLAS_FILE_PATH)\n",
    "forecast.to_pickle(constants.PREPROCESSED_FORECAST_DATA_FILE_PATH)\n",
    "revenue2020.to_pickle(constants.PREPROCESSED_REVENUE2020_FILE_PATH)\n",
    "revenue2020A.to_pickle(constants.PREPROCESSED_REVENUE2020A_FILE_PATH)\n",
    "atlas2.to_pickle(constants.PREPROCESSED_ATLAS_2_FILE_PATH)"
   ]
  }
 ],
 "metadata": {
  "kernelspec": {
   "name": "pyvizenv",
   "display_name": "pyvizenv"
  },
  "language_info": {
   "codemirror_mode": {
    "name": "ipython",
    "version": 3
   },
   "file_extension": ".py",
   "mimetype": "text/x-python",
   "name": "python",
   "nbconvert_exporter": "python",
   "pygments_lexer": "ipython3",
   "version": "3.8.3-final"
  }
 },
 "nbformat": 4,
 "nbformat_minor": 4
}