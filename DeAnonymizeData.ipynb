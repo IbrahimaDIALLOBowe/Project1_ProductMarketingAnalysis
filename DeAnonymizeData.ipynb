{
 "cells": [
  {
   "cell_type": "code",
   "execution_count": 57,
   "metadata": {},
   "outputs": [],
   "source": [
    "# initial imports\n",
    "import os\n",
    "import pandas as pd\n",
    "import matplotlib.pyplot as plt\n",
    "import plotly.express as px\n",
    "import hvplot.pandas\n",
    "import panel as pn\n",
    "from pathlib import Path\n",
    "from dotenv import load_dotenv\n",
    "from panel.interact import interact\n",
    "from panel import widgets\n",
    "from string import digits\n",
    "\n",
    "pn.extension()\n",
    "\n",
    "%matplotlib inline"
   ]
  },
  {
   "cell_type": "code",
   "execution_count": 58,
   "metadata": {},
   "outputs": [
    {
     "output_type": "execute_result",
     "data": {
      "text/plain": [
       "       Invoice Date Invoice # Invoice Amount Subscription  \\\n",
       "count           669       665            669          669   \n",
       "unique          317       654            212            8   \n",
       "top        9/8/2020     AJ515        $750.00       1 Year   \n",
       "freq             29         4             60          431   \n",
       "\n",
       "                  Account Code                            Dates of service   \n",
       "count                       669                                         669  \n",
       "unique                        8                                         409  \n",
       "top     4700-0-00-00000-00-0000  1 Year Subscription 8/31/2020 to 8/31/2021  \n",
       "freq                        661                                          18  "
      ],
      "text/html": "<div>\n<style scoped>\n    .dataframe tbody tr th:only-of-type {\n        vertical-align: middle;\n    }\n\n    .dataframe tbody tr th {\n        vertical-align: top;\n    }\n\n    .dataframe thead th {\n        text-align: right;\n    }\n</style>\n<table border=\"1\" class=\"dataframe\">\n  <thead>\n    <tr style=\"text-align: right;\">\n      <th></th>\n      <th>Invoice Date</th>\n      <th>Invoice #</th>\n      <th>Invoice Amount</th>\n      <th>Subscription</th>\n      <th>Account Code</th>\n      <th>Dates of service</th>\n    </tr>\n  </thead>\n  <tbody>\n    <tr>\n      <th>count</th>\n      <td>669</td>\n      <td>665</td>\n      <td>669</td>\n      <td>669</td>\n      <td>669</td>\n      <td>669</td>\n    </tr>\n    <tr>\n      <th>unique</th>\n      <td>317</td>\n      <td>654</td>\n      <td>212</td>\n      <td>8</td>\n      <td>8</td>\n      <td>409</td>\n    </tr>\n    <tr>\n      <th>top</th>\n      <td>9/8/2020</td>\n      <td>AJ515</td>\n      <td>$750.00</td>\n      <td>1 Year</td>\n      <td>4700-0-00-00000-00-0000</td>\n      <td>1 Year Subscription 8/31/2020 to 8/31/2021</td>\n    </tr>\n    <tr>\n      <th>freq</th>\n      <td>29</td>\n      <td>4</td>\n      <td>60</td>\n      <td>431</td>\n      <td>661</td>\n      <td>18</td>\n    </tr>\n  </tbody>\n</table>\n</div>"
     },
     "metadata": {},
     "execution_count": 58
    }
   ],
   "source": [
    "file_path = Path(\"Resources/Raw/ATLAS.csv\")\n",
    "ATLAS_raw = pd.read_csv(file_path, index_col=\"Customers\")\n",
    "#ATLAS_raw.value_counts()\n",
    "ATLAS_raw.describe()"
   ]
  },
  {
   "cell_type": "code",
   "execution_count": 59,
   "metadata": {
    "tags": []
   },
   "outputs": [],
   "source": [
    "# Read the ATLAS data into a Pandas DataFrame\n",
    "file_path = Path(\"Resources/Raw/ATLAS.csv\")\n",
    "ATLAS_raw = pd.read_csv(file_path, index_col=\"Customers\")\n",
    "ATLAS_raw.head()\n",
    "ATLAS_raw[0:10]\n",
    "\n",
    "\n",
    "# Function definitions\n",
    "# TODO move to .py\n",
    "def remove_strings_from_customer_names(original_customer_name):\n",
    "    invalid_strings = [\"pymt\", \"due\"]\n",
    "    for invalid_item in invalid_strings:\n",
    "        original_customer_name = original_customer_name.replace(invalid_item, \"\")\n",
    "    return original_customer_name.strip()\n",
    "\n",
    "def remove_numbers_from_customer_names(original_customer_name):\n",
    "    remove_digits = str.maketrans('', '', digits) \n",
    "    return original_customer_name.translate(remove_digits).strip()  \n",
    "\n",
    "\n",
    "# Extract paying customers\n",
    "paying_customers_raw = ATLAS_raw.index\n",
    "\n",
    "\n",
    "# Clean up names\n",
    "paying_customers_cleanedup = []\n",
    "for customer in paying_customers_raw:\n",
    "    corrected_customer_name = remove_strings_from_customer_names(customer)\n",
    "    corrected_customer_name = remove_numbers_from_customer_names(corrected_customer_name)\n",
    "    paying_customers_cleanedup.append(corrected_customer_name)\n",
    "    #print(f\"Raw customer name: \\\"{customer}\\\"  Corrected customer name: \\\"{corrected_customer_name}\\\"\")\n",
    "\n",
    "\n",
    "# Define needed variables for re-naming\n",
    "name_mapping = {}\n",
    "n = 1\n",
    "\n",
    "\n",
    "# Build name mapping\n",
    "for customer in paying_customers_cleanedup:\n",
    "    if not customer in name_mapping:\n",
    "        name_mapping[customer] = \"University \" + str(n)\n",
    "        n += 1\n",
    "\n",
    "\n",
    "# Re-name the universities in the data\n",
    "paying_customers_deanonymized = []\n",
    "for customer in paying_customers_cleanedup:\n",
    "    paying_customers_deanonymized.append(name_mapping[customer])\n",
    "\n",
    "\n",
    "# Build a de-anonymized DataFrame\n",
    "ATLAS_deanon = pd.concat([\n",
    "    ATLAS_raw[\"Invoice Date\"],\n",
    "    ATLAS_raw[\"Invoice #\"],\n",
    "    ATLAS_raw[\"Invoice Amount\"],\n",
    "    ATLAS_raw[\"Subscription\"],\n",
    "    ATLAS_raw[\"Account Code \"],\n",
    "    ATLAS_raw[\"Dates of service \"]\n",
    "    ], axis=\"columns\", join=\"inner\")\n",
    "\n",
    "## Fix index\n",
    "ATLAS_deanon.index = paying_customers_deanonymized\n",
    "ATLAS_deanon.index.name = \"Customers\"\n",
    "\n",
    "## Result\n",
    "ATLAS_deanon.head()\n",
    "\n",
    "\n",
    "# Export\n",
    "ATLAS_deanon.to_csv(\"Resources/RawDeanonymized/ATLAS.csv\")"
   ]
  },
  {
   "cell_type": "code",
   "execution_count": null,
   "metadata": {},
   "outputs": [],
   "source": []
  }
 ],
 "metadata": {
  "kernelspec": {
   "name": "Python 3.8.3 64-bit ('pyvizenv': conda)",
   "display_name": "Python 3.8.3 64-bit ('pyvizenv': conda)",
   "metadata": {
    "interpreter": {
     "hash": "9b71b9fa21544dd8a39d3650f5526997ede89e0b97dc642fc8071b919dea00e5"
    }
   }
  },
  "language_info": {
   "codemirror_mode": {
    "name": "ipython",
    "version": 3
   },
   "file_extension": ".py",
   "mimetype": "text/x-python",
   "name": "python",
   "nbconvert_exporter": "python",
   "pygments_lexer": "ipython3",
   "version": "3.8.3-final"
  }
 },
 "nbformat": 4,
 "nbformat_minor": 4
}