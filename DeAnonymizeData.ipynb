{
 "cells": [
  {
   "cell_type": "code",
   "execution_count": 3,
   "metadata": {},
   "outputs": [],
   "source": [
    "# TODO Is it de-anonymize or anonymize?\n",
    "\n",
    "# initial imports\n",
    "import os\n",
    "import pandas as pd\n",
    "import matplotlib.pyplot as plt\n",
    "import plotly.express as px\n",
    "import hvplot.pandas\n",
    "import panel as pn\n",
    "from pathlib import Path\n",
    "from dotenv import load_dotenv\n",
    "from panel.interact import interact\n",
    "from panel import widgets\n",
    "from string import digits\n",
    "import csv\n",
    "import json\n",
    "\n",
    "pn.extension()\n",
    "\n",
    "%matplotlib inline"
   ]
  },
  {
   "cell_type": "code",
   "execution_count": 5,
   "metadata": {},
   "outputs": [],
   "source": [
    "# Function definitions: TODO move to .py\n",
    "\n",
    "## Data cleaning\n",
    "def remove_strings_from_customer_names(original_customer_name):\n",
    "    invalid_strings = [\"PYMT\", \"DUE\"]\n",
    "    for invalid_item in invalid_strings:\n",
    "        original_customer_name = original_customer_name.replace(invalid_item, \"\")\n",
    "    return original_customer_name.strip()\n",
    "\n",
    "def remove_numbers_from_customer_names(original_customer_name):\n",
    "    remove_digits = str.maketrans('', '', digits) \n",
    "    return original_customer_name.translate(remove_digits).strip()  \n",
    "\n",
    "def cleanup_customer_names(paying_customers_raw):\n",
    "    paying_customers_cleanedup = []\n",
    "    for customer in paying_customers_raw:\n",
    "        corrected_customer_name = str(customer)\n",
    "        #corrected_customer_name = str(customer).upper()\n",
    "        corrected_customer_name = remove_strings_from_customer_names(corrected_customer_name)\n",
    "        corrected_customer_name = remove_numbers_from_customer_names(corrected_customer_name)\n",
    "        #corrected_customer_name = corrected_customer_name.title()\n",
    "        paying_customers_cleanedup.append(corrected_customer_name)\n",
    "    return paying_customers_cleanedup\n",
    "\n",
    "def build_name_mapping(paying_customers_cleanedup):\n",
    "    name_mapping = {}\n",
    "    n = 1\n",
    "    for customer in paying_customers_cleanedup:\n",
    "        if not customer in name_mapping:\n",
    "            name_mapping[customer] = \"University \" + str(n)\n",
    "            n += 1\n",
    "    return name_mapping\n",
    "\n",
    "def read_name_mapping():\n",
    "    with open(MAPPING_FILE_NAME, \"r\") as file:\n",
    "        return json.loads(file.read())\n",
    "\n",
    "def de_anonymize_customer_list(customer_list):\n",
    "    deanonymized_customer_list = []\n",
    "    for customer in customer_list:\n",
    "        deanonymized_customer_list.append(customer_name_mapping[customer])\n",
    "    return deanonymized_customer_list\n"
   ]
  },
  {
   "cell_type": "code",
   "execution_count": 11,
   "metadata": {},
   "outputs": [
    {
     "output_type": "execute_result",
     "data": {
      "text/plain": [
       "2020"
      ]
     },
     "metadata": {},
     "execution_count": 11
    }
   ],
   "source": [
    "date1 = pd.Timestamp(\"11/8/2020\", tz=\"America/New_York\")#.isoformat()\n",
    "date1.quarter\n"
   ]
  },
  {
   "cell_type": "code",
   "execution_count": 12,
   "metadata": {},
   "outputs": [],
   "source": [
    "# Constants\n",
    "MAPPING_FILE_NAME = \"Resources/Mappings/CustomerNameMapping.json\""
   ]
  },
  {
   "cell_type": "code",
   "execution_count": 13,
   "metadata": {
    "tags": []
   },
   "outputs": [],
   "source": [
    "# Build the de-anonymous customer name mapping\n",
    "\n",
    "## Read the datasets into Pandas DataFrames\n",
    "atlas_file_path = Path(\"Resources/01_Raw/ATLAS.csv\")\n",
    "forecast_data_file_path = Path(\"Resources/01_Raw/2021 forecast CSV.csv\")\n",
    "atlas_raw = pd.read_csv(atlas_file_path, index_col=\"Customers\")\n",
    "forecast_data_raw = pd.read_csv(forecast_data_file_path, index_col=\"Organization Name\")\n",
    "\n",
    "## Extract paying customers\n",
    "atlas_customers_raw = atlas_raw.index\n",
    "forecast_data_customers_raw = forecast_data_raw.index\n",
    "\n",
    "## Clean up names\n",
    "atlas_customers_cleaned = cleanup_customer_names(atlas_customers_raw)\n",
    "forecast_data_customers_cleaned = cleanup_customer_names(forecast_data_customers_raw)\n",
    "\n",
    "## Build name mapping\n",
    "name_mapping_atlas = build_name_mapping(atlas_customers_cleaned)\n",
    "name_mapping_forecast_data = build_name_mapping(forecast_data_customers_cleaned)\n",
    "\n",
    "## Combine name maps\n",
    "name_mapping = { **name_mapping_atlas, **name_mapping_forecast_data }\n",
    "\n",
    "## Export the name mapping\n",
    "with open(MAPPING_FILE_NAME, \"w\") as file:\n",
    "     file.write(json.dumps(name_mapping))"
   ]
  },
  {
   "cell_type": "code",
   "execution_count": 14,
   "metadata": {
    "tags": []
   },
   "outputs": [],
   "source": [
    "# De-anonymize the raw data files\n",
    "\n",
    "## Import name mapping\n",
    "customer_name_mapping = read_name_mapping()\n",
    "\n",
    "# Read the data into Pandas DataFrames\n",
    "atlas_file_path = Path(\"Resources/01_Raw/ATLAS.csv\")\n",
    "forecast_data_file_path = Path(\"Resources/01_Raw/2021 forecast CSV.csv\")\n",
    "atlas_raw = pd.read_csv(atlas_file_path, index_col=\"Customers\")\n",
    "forecast_data_raw = pd.read_csv(forecast_data_file_path, index_col=\"Organization Name\")\n",
    "\n",
    "## Extract paying customers\n",
    "atlas_customers_raw = atlas_raw.index\n",
    "forecast_data_customers_raw = forecast_data_raw.index\n",
    "\n",
    "## Clean up names\n",
    "atlas_customers_cleaned = cleanup_customer_names(atlas_customers_raw)\n",
    "forecast_data_customers_cleaned = cleanup_customer_names(forecast_data_customers_raw)\n",
    "\n",
    "## Map the customer names\n",
    "atlas_customers_deanonymized = de_anonymize_customer_list(atlas_customers_cleaned)\n",
    "forecast_data_customers_deanonymized = de_anonymize_customer_list(forecast_data_customers_cleaned)\n",
    "\n",
    "# Rebuild the DataFrames\n",
    "atlas_deanonymized = pd.concat([\n",
    "    atlas_raw[\"Invoice Date\"],\n",
    "    atlas_raw[\"Invoice #\"],\n",
    "    atlas_raw[\"Invoice Amount\"],\n",
    "    atlas_raw[\"Subscription\"],\n",
    "    atlas_raw[\"Account Code \"],\n",
    "    atlas_raw[\"Dates of service \"]\n",
    "    ], axis=\"columns\", join=\"inner\")\n",
    "atlas_deanonymized.index = atlas_customers_deanonymized\n",
    "atlas_deanonymized.index.name = \"Customers\"\n",
    "\n",
    "forecast_data_deanonymized = pd.concat([\n",
    "    forecast_data_raw[\"Mailing State/Province\"],\n",
    "    forecast_data_raw[\"Organization Record Type\"],\n",
    "    forecast_data_raw[\"ATLAS Customer Type\"],\n",
    "    forecast_data_raw[\"Subscription Fee\"],\n",
    "    forecast_data_raw[\"Subscription Type\"],\n",
    "    forecast_data_raw[\"Contract Start Date\"],\n",
    "    forecast_data_raw[\"Contract End Date\"]\n",
    "    ], axis=\"columns\", join=\"inner\")\n",
    "forecast_data_deanonymized.index = forecast_data_customers_deanonymized\n",
    "forecast_data_deanonymized.index.name = \"Organization Name\"\n",
    "\n",
    "## Result\n",
    "atlas_deanonymized.head()\n",
    "forecast_data_deanonymized.head()\n",
    "\n",
    "## Export\n",
    "atlas_deanonymized.to_csv(\"Resources/02_Deanonymized/ATLAS.csv\")\n",
    "forecast_data_deanonymized.to_csv(\"Resources/02_Deanonymized/2021 forecast CSV.csv\")\n"
   ]
  },
  {
   "cell_type": "code",
   "execution_count": null,
   "metadata": {},
   "outputs": [],
   "source": []
  }
 ],
 "metadata": {
  "kernelspec": {
   "name": "Python 3.8.3 64-bit ('pyvizenv': conda)",
   "display_name": "Python 3.8.3 64-bit ('pyvizenv': conda)",
   "metadata": {
    "interpreter": {
     "hash": "9b71b9fa21544dd8a39d3650f5526997ede89e0b97dc642fc8071b919dea00e5"
    }
   }
  },
  "language_info": {
   "codemirror_mode": {
    "name": "ipython",
    "version": 3
   },
   "file_extension": ".py",
   "mimetype": "text/x-python",
   "name": "python",
   "nbconvert_exporter": "python",
   "pygments_lexer": "ipython3",
   "version": "3.8.3-final"
  }
 },
 "nbformat": 4,
 "nbformat_minor": 4
}