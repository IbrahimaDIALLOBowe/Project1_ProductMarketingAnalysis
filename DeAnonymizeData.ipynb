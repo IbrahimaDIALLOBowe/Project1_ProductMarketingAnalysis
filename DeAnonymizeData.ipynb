{
 "cells": [
  {
   "cell_type": "code",
   "execution_count": 20,
   "metadata": {},
   "outputs": [],
   "source": [
    "# initial imports\n",
    "import os\n",
    "import pandas as pd\n",
    "import matplotlib.pyplot as plt\n",
    "import plotly.express as px\n",
    "import hvplot.pandas\n",
    "import panel as pn\n",
    "from pathlib import Path\n",
    "from dotenv import load_dotenv\n",
    "from panel.interact import interact\n",
    "from panel import widgets\n",
    "from string import digits\n",
    "import csv\n",
    "import json\n",
    "\n",
    "pn.extension()\n",
    "\n",
    "%matplotlib inline"
   ]
  },
  {
   "cell_type": "code",
   "execution_count": 46,
   "metadata": {},
   "outputs": [],
   "source": [
    "# Function definitions: TODO move to .py\n",
    "\n",
    "## Data cleaning\n",
    "def remove_strings_from_customer_names(original_customer_name):\n",
    "    invalid_strings = [\"PYMT\", \"DUE\"]\n",
    "    for invalid_item in invalid_strings:\n",
    "        original_customer_name = original_customer_name.replace(invalid_item, \"\")\n",
    "    return original_customer_name.strip()\n",
    "\n",
    "def remove_numbers_from_customer_names(original_customer_name):\n",
    "    remove_digits = str.maketrans('', '', digits) \n",
    "    return original_customer_name.translate(remove_digits).strip()  \n",
    "\n",
    "def cleanup_customer_names(paying_customers_raw):\n",
    "    paying_customers_cleanedup = []\n",
    "    for customer in paying_customers_raw:\n",
    "        customer_capitalized = str(customer).upper()\n",
    "        corrected_customer_name = remove_strings_from_customer_names(customer_capitalized)\n",
    "        corrected_customer_name = remove_numbers_from_customer_names(corrected_customer_name)\n",
    "        paying_customers_cleanedup.append(corrected_customer_name)\n",
    "    return paying_customers_cleanedup\n",
    "\n",
    "def build_name_mapping(paying_customers_cleanedup):\n",
    "    name_mapping = {}\n",
    "    n = 1\n",
    "    for customer in paying_customers_cleanedup:\n",
    "        if not customer in name_mapping:\n",
    "            name_mapping[customer] = \"University \" + str(n)\n",
    "            n += 1\n",
    "    return name_mapping\n",
    "\n",
    "def read_name_mapping():\n",
    "    with open(MAPPING_FILE_NAME, \"r\") as file:\n",
    "        return json.loads(file.read())"
   ]
  },
  {
   "cell_type": "code",
   "execution_count": 47,
   "metadata": {},
   "outputs": [],
   "source": [
    "# Constants\n",
    "MAPPING_FILE_NAME = \"Resources/Mappings/CustomerNameMapping.json\""
   ]
  },
  {
   "cell_type": "code",
   "execution_count": 48,
   "metadata": {
    "tags": []
   },
   "outputs": [],
   "source": [
    "# Build the de-anonymous customer name mapping\n",
    "\n",
    "## Read the datasets into Pandas DataFrames\n",
    "atlas_file_path = Path(\"Resources/Raw/ATLAS.csv\")\n",
    "forecast_data_file_path = Path(\"Resources/Raw/2021 forecast CSV.csv\")\n",
    "ATLAS_raw = pd.read_csv(atlas_file_path, index_col=\"Customers\")\n",
    "forecast_data_raw = pd.read_csv(forecast_data_file_path, index_col=\"Organization Name\")\n",
    "\n",
    "## Extract paying customers\n",
    "atlas_customers_raw = ATLAS_raw.index\n",
    "forecast_data_customers_raw = forecast_data_raw.index\n",
    "\n",
    "## Clean up names\n",
    "atlas_customers_cleaned = cleanup_customer_names(atlas_customers_raw)\n",
    "forecast_data_customers_cleaned = cleanup_customer_names(forecast_data_customers_raw)\n",
    "\n",
    "## Build name mapping\n",
    "name_mapping_atlas = build_name_mapping(atlas_customers_cleaned)\n",
    "name_mapping_forecast_data = build_name_mapping(forecast_data_customers_cleaned)\n",
    "\n",
    "## Combine name maps\n",
    "name_mapping = { **name_mapping_atlas, **name_mapping_forecast_data }\n",
    "\n",
    "## Export the name mapping\n",
    "with open(MAPPING_FILE_NAME, \"w\") as file:\n",
    "     file.write(json.dumps(name_mapping))"
   ]
  },
  {
   "cell_type": "code",
   "execution_count": 54,
   "metadata": {
    "tags": []
   },
   "outputs": [
    {
     "output_type": "execute_result",
     "data": {
      "text/plain": [
       "536"
      ]
     },
     "metadata": {},
     "execution_count": 54
    }
   ],
   "source": [
    "\n"
   ]
  },
  {
   "cell_type": "code",
   "execution_count": null,
   "metadata": {},
   "outputs": [],
   "source": [
    "# Fix ATLAS data\n",
    "\n",
    "## Import name mapping\n",
    "name_mapping = read_name_mapping()\n",
    "\n",
    "# Read the ATLAS data into a Pandas DataFrame\n",
    "file_path = Path(\"Resources/Raw/ATLAS.csv\")\n",
    "ATLAS_raw = pd.read_csv(file_path, index_col=\"Customers\")\n",
    "ATLAS_raw.head()\n",
    "ATLAS_raw[0:10]\n",
    "\n",
    "\n",
    "# Function definitions\n",
    "# TODO move to .py\n",
    "def remove_strings_from_customer_names(original_customer_name):\n",
    "    invalid_strings = [\"PYMT\", \"DUE\"]\n",
    "    for invalid_item in invalid_strings:\n",
    "        original_customer_name = original_customer_name.replace(invalid_item, \"\")\n",
    "    return original_customer_name.strip()\n",
    "\n",
    "def remove_numbers_from_customer_names(original_customer_name):\n",
    "    remove_digits = str.maketrans('', '', digits) \n",
    "    return original_customer_name.translate(remove_digits).strip()  \n",
    "\n",
    "\n",
    "# Extract paying customers\n",
    "paying_customers_raw = ATLAS_raw.index\n",
    "\n",
    "\n",
    "# Clean up names\n",
    "paying_customers_cleanedup = []\n",
    "for customer in paying_customers_raw:\n",
    "    customer_capitalized = customer.upper()\n",
    "    corrected_customer_name = remove_strings_from_customer_names(customer_capitalized)\n",
    "    corrected_customer_name = remove_numbers_from_customer_names(corrected_customer_name)\n",
    "    paying_customers_cleanedup.append(corrected_customer_name)\n",
    "    #print(f\"Raw customer name: \\\"{customer_capitalized}\\\"  Corrected customer name: \\\"{corrected_customer_name}\\\"\")\n",
    "\n",
    "\n",
    "# Define needed variables for re-naming\n",
    "name_mapping = {}\n",
    "n = 1\n",
    "\n",
    "\n",
    "# Build name mapping\n",
    "for customer in paying_customers_cleanedup:\n",
    "    if not customer in name_mapping:\n",
    "        name_mapping[customer] = \"University \" + str(n)\n",
    "        n += 1\n",
    "\n",
    "\n",
    "# Re-name the universities in the data\n",
    "paying_customers_deanonymized = []\n",
    "for customer in paying_customers_cleanedup:\n",
    "    paying_customers_deanonymized.append(name_mapping[customer])\n",
    "\n",
    "\n",
    "# Build a de-anonymized DataFrame\n",
    "ATLAS_deanon = pd.concat([\n",
    "    ATLAS_raw[\"Invoice Date\"],\n",
    "    ATLAS_raw[\"Invoice #\"],\n",
    "    ATLAS_raw[\"Invoice Amount\"],\n",
    "    ATLAS_raw[\"Subscription\"],\n",
    "    ATLAS_raw[\"Account Code \"],\n",
    "    ATLAS_raw[\"Dates of service \"]\n",
    "    ], axis=\"columns\", join=\"inner\")\n",
    "\n",
    "## Fix index\n",
    "ATLAS_deanon.index = paying_customers_deanonymized\n",
    "ATLAS_deanon.index.name = \"Customers\"\n",
    "\n",
    "## Result\n",
    "ATLAS_deanon.head()\n",
    "\n",
    "\n",
    "# Export\n",
    "ATLAS_deanon.to_csv(\"Resources/RawDeanonymized/ATLAS.csv\")\n",
    "\n",
    "\n",
    "# Export the name mapping\n",
    "MAPPING_FILE_NAME = \"Resources/Mappings/CustomerNameMapping.json\"\n",
    "with open(MAPPING_FILE_NAME, \"w\") as file:\n",
    "     file.write(json.dumps(name_mapping)) # use `json.loads` to do the reverse\n"
   ]
  }
 ],
 "metadata": {
  "kernelspec": {
   "name": "Python 3.8.3 64-bit ('pyvizenv': conda)",
   "display_name": "Python 3.8.3 64-bit ('pyvizenv': conda)",
   "metadata": {
    "interpreter": {
     "hash": "9b71b9fa21544dd8a39d3650f5526997ede89e0b97dc642fc8071b919dea00e5"
    }
   }
  },
  "language_info": {
   "codemirror_mode": {
    "name": "ipython",
    "version": 3
   },
   "file_extension": ".py",
   "mimetype": "text/x-python",
   "name": "python",
   "nbconvert_exporter": "python",
   "pygments_lexer": "ipython3",
   "version": "3.8.3-final"
  }
 },
 "nbformat": 4,
 "nbformat_minor": 4
}