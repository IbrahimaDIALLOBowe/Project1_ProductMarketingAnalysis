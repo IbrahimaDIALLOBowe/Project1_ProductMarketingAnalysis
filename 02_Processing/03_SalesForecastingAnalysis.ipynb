{
 "cells": [
  {
   "cell_type": "code",
   "execution_count": null,
   "metadata": {},
   "outputs": [],
   "source": [
    "# System imports\n",
    "import os\n",
    "import pandas as pd\n",
    "import matplotlib.pyplot as plt\n",
    "import plotly.express as px\n",
    "import hvplot.pandas\n",
    "import panel as pn\n",
    "from pathlib import Path\n",
    "from dotenv import load_dotenv\n",
    "from panel.interact import interact\n",
    "from panel import widgets\n",
    "from string import digits\n",
    "import csv\n",
    "import json\n",
    "import numpy as np\n",
    "import dateparser\n",
    "import panel as pn\n",
    "\n",
    "pn.extension()\n",
    "\n",
    "%matplotlib inline"
   ]
  },
  {
   "cell_type": "code",
   "execution_count": null,
   "metadata": {},
   "outputs": [],
   "source": [
    "# Local imports\n",
    "import sys\n",
    "sys.path.append(\"../lib2\")\n",
    "\n",
    "from Constants import Constants\n",
    "from ProcessingTools import DateProcessingTools"
   ]
  },
  {
   "cell_type": "code",
   "execution_count": null,
   "metadata": {},
   "outputs": [],
   "source": [
    "# Construct the tools\n",
    "debug_level = 0\n",
    "constants = Constants()\n",
    "tool_data_processing = DateProcessingTools(debug_level)\n"
   ]
  },
  {
   "cell_type": "code",
   "execution_count": null,
   "metadata": {},
   "outputs": [],
   "source": [
    "# Import all preprocessed data\n",
    "atlas           = pd.read_pickle(constants.PREPROCESSED_ATLAS_FILE_PATH)\n",
    "forecast        = pd.read_pickle(constants.PREPROCESSED_FORECAST_DATA_FILE_PATH)\n",
    "revenue2020     = pd.read_pickle(constants.PREPROCESSED_REVENUE2020_FILE_PATH)\n",
    "revenue2020A    = pd.read_pickle(constants.PREPROCESSED_REVENUE2020A_FILE_PATH)\n",
    "atlas2          = pd.read_pickle(constants.PREPROCESSED_ATLAS_2_FILE_PATH)\n"
   ]
  },
  {
   "cell_type": "code",
   "execution_count": null,
   "metadata": {},
   "outputs": [],
   "source": [
    "# Read the Mapbox API key\n",
    "mapbox_token = os.getenv(\"MAPBOX_API_KEY\")\n",
    "load_dotenv()"
   ]
  },
  {
   "cell_type": "code",
   "execution_count": null,
   "metadata": {},
   "outputs": [],
   "source": [
    "\n",
    "# dates_df = pd.DataFrame({\"Start date\":start_date_list,\"End date\": end_date_list})\n",
    "\n",
    "\n",
    "\n",
    "# mc_data = pd.concat(\n",
    "#     { \"TSLA\": [\n",
    "#         ATLAS_with_fixed_dates[\"Start date\"].values,\n",
    "#         ATLAS_with_fixed_dates[\"Invoice Amount\"],\n",
    "#         ATLAS_with_fixed_dates[\"Invoice Amount\"].diff().values\n",
    "#     ]\n",
    "#     },\n",
    "#     axis='columns', join=\"inner\")\n",
    "\n",
    "mc_data = pd.concat(\n",
    "    [ATLAS_with_fixed_dates[\"Start date\"], ATLAS_with_fixed_dates[\"Invoice Amount\"], ATLAS_with_fixed_dates[\"Invoice Amount\"].diff()],\n",
    "    axis='columns', join=\"inner\")\n",
    "\n",
    "mc_data.dropna(inplace=True)\n",
    "mc_data.set_index(\"Start date\", inplace=True)\n",
    "mc_data.columns=['close', 'daily_return']\n",
    "mc_data.head()\n",
    "\n",
    "portfolio_weights = [.4, .6]\n",
    "mc = MCSimulation2(\n",
    "    portfolio_data = mc_data,\n",
    "    weights = [1.0],\n",
    "    num_simulation = 10,\n",
    "    num_trading_days = 10\n",
    ")\n",
    "\n",
    "# mc.calc_cumulative_return()\n",
    "\n",
    "\n",
    "\n",
    "# mc_data.columns.get_level_values(1).unique()\n"
   ]
  }
 ],
 "metadata": {
  "kernelspec": {
   "name": "Python 3.8.3 64-bit ('pyvizenv': conda)",
   "display_name": "Python 3.8.3 64-bit ('pyvizenv': conda)",
   "metadata": {
    "interpreter": {
     "hash": "9b71b9fa21544dd8a39d3650f5526997ede89e0b97dc642fc8071b919dea00e5"
    }
   }
  },
  "language_info": {
   "codemirror_mode": {
    "name": "ipython",
    "version": 3
   },
   "file_extension": ".py",
   "mimetype": "text/x-python",
   "name": "python",
   "nbconvert_exporter": "python",
   "pygments_lexer": "ipython3",
   "version": "3.8.3-final"
  }
 },
 "nbformat": 4,
 "nbformat_minor": 4
}