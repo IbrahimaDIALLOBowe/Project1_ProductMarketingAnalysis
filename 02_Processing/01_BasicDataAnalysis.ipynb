{
 "cells": [
  {
   "cell_type": "code",
   "execution_count": 12,
   "metadata": {},
   "outputs": [
    {
     "output_type": "display_data",
     "data": {},
     "metadata": {}
    },
    {
     "output_type": "execute_result",
     "data": {
      "text/html": "<div id='2463'>\n\n\n\n\n\n  <div class=\"bk-root\" id=\"b3a4f4e2-e674-40b8-aacd-6c9450447972\" data-root-id=\"2463\"></div>\n</div>\n<script type=\"application/javascript\">(function(root) {\n  function embed_document(root) {\n    var docs_json = {\"b922e6e4-a594-4ab9-9315-7ebb0eb2ff9d\":{\"roots\":{\"references\":[{\"attributes\":{\"num_minor_ticks\":5,\"tickers\":[{\"id\":\"2518\"},{\"id\":\"2519\"},{\"id\":\"2520\"},{\"id\":\"2521\"},{\"id\":\"2522\"},{\"id\":\"2523\"},{\"id\":\"2524\"},{\"id\":\"2525\"},{\"id\":\"2526\"},{\"id\":\"2527\"},{\"id\":\"2528\"},{\"id\":\"2529\"}]},\"id\":\"2481\",\"type\":\"DatetimeTicker\"},{\"attributes\":{},\"id\":\"2502\",\"type\":\"DatetimeTickFormatter\"},{\"attributes\":{\"children\":[{\"id\":\"2464\"},{\"id\":\"2471\"},{\"id\":\"2868\"}],\"margin\":[0,0,0,0],\"name\":\"Row03540\",\"tags\":[\"embedded\"]},\"id\":\"2463\",\"type\":\"Row\"},{\"attributes\":{\"end\":535.7709506208803,\"reset_end\":535.7709506208803,\"reset_start\":-80.08578816453567,\"start\":-80.08578816453567,\"tags\":[[[\"value\",\"value\",null]]]},\"id\":\"2466\",\"type\":\"Range1d\"},{\"attributes\":{\"label\":{\"value\":\"BCOIN\"},\"renderers\":[{\"id\":\"2605\"}]},\"id\":\"2633\",\"type\":\"LegendItem\"},{\"attributes\":{},\"id\":\"2476\",\"type\":\"LinearScale\"},{\"attributes\":{\"line_alpha\":0.1,\"line_color\":\"#d62628\",\"line_width\":2,\"x\":{\"field\":\"index\"},\"y\":{\"field\":\"value\"}},\"id\":\"2603\",\"type\":\"Line\"},{\"attributes\":{},\"id\":\"2504\",\"type\":\"BasicTickFormatter\"},{\"attributes\":{\"line_alpha\":0.1,\"line_color\":\"#1f77b3\",\"line_width\":2,\"x\":{\"field\":\"index\"},\"y\":{\"field\":\"value\"}},\"id\":\"2509\",\"type\":\"Line\"},{\"attributes\":{\"text\":\"\",\"text_color\":{\"value\":\"black\"},\"text_font_size\":{\"value\":\"12pt\"}},\"id\":\"2472\",\"type\":\"Title\"},{\"attributes\":{\"source\":{\"id\":\"2599\"}},\"id\":\"2606\",\"type\":\"CDSView\"},{\"attributes\":{\"label\":{\"value\":\"APPL\"},\"renderers\":[{\"id\":\"2511\"}]},\"id\":\"2534\",\"type\":\"LegendItem\"},{\"attributes\":{\"line_color\":\"#d62628\",\"line_width\":2,\"x\":{\"field\":\"index\"},\"y\":{\"field\":\"value\"}},\"id\":\"2602\",\"type\":\"Line\"},{\"attributes\":{\"data_source\":{\"id\":\"2599\"},\"glyph\":{\"id\":\"2602\"},\"hover_glyph\":null,\"muted_glyph\":{\"id\":\"2604\"},\"nonselection_glyph\":{\"id\":\"2603\"},\"selection_glyph\":null,\"view\":{\"id\":\"2606\"}},\"id\":\"2605\",\"type\":\"GlyphRenderer\"},{\"attributes\":{},\"id\":\"2600\",\"type\":\"Selection\"},{\"attributes\":{},\"id\":\"2536\",\"type\":\"Selection\"},{\"attributes\":{\"source\":{\"id\":\"2505\"}},\"id\":\"2512\",\"type\":\"CDSView\"},{\"attributes\":{\"callback\":null,\"formatters\":{\"@{index}\":\"datetime\"},\"renderers\":[{\"id\":\"2511\"},{\"id\":\"2541\"},{\"id\":\"2572\"},{\"id\":\"2605\"}],\"tags\":[\"hv_created\"],\"tooltips\":[[\"Variable\",\"@{Variable}\"],[\"index\",\"@{index}{%F %T}\"],[\"value\",\"@{value}\"]]},\"id\":\"2467\",\"type\":\"HoverTool\"},{\"attributes\":{\"line_color\":\"#1f77b3\",\"line_width\":2,\"x\":{\"field\":\"index\"},\"y\":{\"field\":\"value\"}},\"id\":\"2508\",\"type\":\"Line\"},{\"attributes\":{\"line_color\":\"#ff7e0e\",\"line_width\":2,\"x\":{\"field\":\"index\"},\"y\":{\"field\":\"value\"}},\"id\":\"2538\",\"type\":\"Line\"},{\"attributes\":{\"line_alpha\":0.1,\"line_color\":\"#ff7e0e\",\"line_width\":2,\"x\":{\"field\":\"index\"},\"y\":{\"field\":\"value\"}},\"id\":\"2539\",\"type\":\"Line\"},{\"attributes\":{\"line_alpha\":0.2,\"line_color\":\"#d62628\",\"line_width\":2,\"x\":{\"field\":\"index\"},\"y\":{\"field\":\"value\"}},\"id\":\"2604\",\"type\":\"Line\"},{\"attributes\":{},\"id\":\"2506\",\"type\":\"Selection\"},{\"attributes\":{\"end\":1519171200000.0,\"reset_end\":1519171200000.0,\"reset_start\":1514764800000.0,\"start\":1514764800000.0,\"tags\":[[[\"index\",\"index\",null]]]},\"id\":\"2465\",\"type\":\"Range1d\"},{\"attributes\":{\"data_source\":{\"id\":\"2505\"},\"glyph\":{\"id\":\"2508\"},\"hover_glyph\":null,\"muted_glyph\":{\"id\":\"2510\"},\"nonselection_glyph\":{\"id\":\"2509\"},\"selection_glyph\":null,\"view\":{\"id\":\"2512\"}},\"id\":\"2511\",\"type\":\"GlyphRenderer\"},{\"attributes\":{\"source\":{\"id\":\"2535\"}},\"id\":\"2542\",\"type\":\"CDSView\"},{\"attributes\":{\"data_source\":{\"id\":\"2535\"},\"glyph\":{\"id\":\"2538\"},\"hover_glyph\":null,\"muted_glyph\":{\"id\":\"2540\"},\"nonselection_glyph\":{\"id\":\"2539\"},\"selection_glyph\":null,\"view\":{\"id\":\"2542\"}},\"id\":\"2541\",\"type\":\"GlyphRenderer\"},{\"attributes\":{},\"id\":\"2631\",\"type\":\"UnionRenderers\"},{\"attributes\":{\"below\":[{\"id\":\"2480\"}],\"center\":[{\"id\":\"2483\"},{\"id\":\"2487\"}],\"left\":[{\"id\":\"2484\"}],\"margin\":[5,5,5,5],\"min_border_bottom\":10,\"min_border_left\":10,\"min_border_right\":10,\"min_border_top\":10,\"plot_height\":300,\"plot_width\":700,\"renderers\":[{\"id\":\"2511\"},{\"id\":\"2541\"},{\"id\":\"2572\"},{\"id\":\"2605\"}],\"right\":[{\"id\":\"2533\"}],\"sizing_mode\":\"fixed\",\"title\":{\"id\":\"2472\"},\"toolbar\":{\"id\":\"2494\"},\"x_range\":{\"id\":\"2465\"},\"x_scale\":{\"id\":\"2476\"},\"y_range\":{\"id\":\"2466\"},\"y_scale\":{\"id\":\"2478\"}},\"id\":\"2471\",\"subtype\":\"Figure\",\"type\":\"Plot\"},{\"attributes\":{\"label\":{\"value\":\"GOGLE\"},\"renderers\":[{\"id\":\"2541\"}]},\"id\":\"2565\",\"type\":\"LegendItem\"},{\"attributes\":{\"data\":{\"Variable\":[\"GOGLE\",\"GOGLE\",\"GOGLE\",\"GOGLE\",\"GOGLE\",\"GOGLE\",\"GOGLE\",\"GOGLE\",\"GOGLE\",\"GOGLE\",\"GOGLE\",\"GOGLE\",\"GOGLE\",\"GOGLE\",\"GOGLE\",\"GOGLE\",\"GOGLE\",\"GOGLE\",\"GOGLE\",\"GOGLE\",\"GOGLE\",\"GOGLE\",\"GOGLE\",\"GOGLE\",\"GOGLE\",\"GOGLE\",\"GOGLE\",\"GOGLE\",\"GOGLE\",\"GOGLE\",\"GOGLE\",\"GOGLE\",\"GOGLE\",\"GOGLE\",\"GOGLE\",\"GOGLE\",\"GOGLE\",\"GOGLE\",\"GOGLE\",\"GOGLE\",\"GOGLE\",\"GOGLE\",\"GOGLE\",\"GOGLE\",\"GOGLE\",\"GOGLE\",\"GOGLE\",\"GOGLE\",\"GOGLE\",\"GOGLE\",\"GOGLE\",\"GOGLE\"],\"index\":{\"__ndarray__\":\"AAAASfAKdkIAAMCuQgt2QgAAgBSVC3ZCAABAeucLdkIAAADgOQx2QgAAwEWMDHZCAACAq94MdkIAAEARMQ12QgAAAHeDDXZCAADA3NUNdkIAAIBCKA52QgAAQKh6DnZCAAAADs0OdkIAAMBzHw92QgAAgNlxD3ZCAABAP8QPdkIAAAClFhB2QgAAwAppEHZCAACAcLsQdkIAAEDWDRF2QgAAADxgEXZCAADAobIRdkIAAIAHBRJ2QgAAQG1XEnZCAAAA06kSdkIAAMA4/BJ2QgAAgJ5OE3ZCAABABKETdkIAAABq8xN2QgAAwM9FFHZCAACANZgUdkIAAECb6hR2QgAAAAE9FXZCAADAZo8VdkIAAIDM4RV2QgAAQDI0FnZCAAAAmIYWdkIAAMD92BZ2QgAAgGMrF3ZCAABAyX0XdkIAAAAv0Bd2QgAAwJQiGHZCAACA+nQYdkIAAEBgxxh2QgAAAMYZGXZCAADAK2wZdkIAAICRvhl2QgAAQPcQGnZCAAAAXWMadkIAAMDCtRp2QgAAgCgIG3ZCAABAjlobdkI=\",\"dtype\":\"float64\",\"order\":\"little\",\"shape\":[52]},\"value\":{\"__ndarray__\":\"AAAAAAAA+H9SDG7UWYAIQHCDDVu6XhTAjmxKm4eU4r8iZt+fHVHmv/AehtCFo9E/uASWvVqN878oSqUQ+DsmQMBddJi0Jvi/qqXyWqpICsDkzbFQAej2v1C9gbptrPW/jOGOAZPjAUB6ag67F4oHwKaUjdHiQPi/QHuVznah9D+7PJ/G/nX6vw4YNArvVtK/Cud3eqnm/r+2NcXrx1sBwFhZUEY97Pa/7oXUI32m8L9fUnfNPzdUQCfQXmMRTfC/Wci0QHofVkBAbcJBv9PAvxuOCu8SOe+/567tRq/DPMD4A44DtJXBP4C9QvCH086/zGqHC4qR6794qcm89Sv3v+V4ABTCUCVA8B+OiC2F/r9sgp799I7Av9L566GWWwPA1ufgQN4U6794u66DhG/DP4Ic/tjlMhLAtMozrYC+5D9l8S6+BePwv9jbVSi4dRFA0lPsmERDHMAyK2ELwNL4v2yLi6cNHcK/aFfIriezt7/ZLQ/pPy4GwNyES/wEONu/qCpX8d/d3T/5L38Jb37qvxwW3BsBtQbA2N2a2poI1D8=\",\"dtype\":\"float64\",\"order\":\"little\",\"shape\":[52]}},\"selected\":{\"id\":\"2536\"},\"selection_policy\":{\"id\":\"2563\"}},\"id\":\"2535\",\"type\":\"ColumnDataSource\"},{\"attributes\":{},\"id\":\"2489\",\"type\":\"PanTool\"},{\"attributes\":{},\"id\":\"2567\",\"type\":\"Selection\"},{\"attributes\":{\"line_alpha\":0.2,\"line_color\":\"#1f77b3\",\"line_width\":2,\"x\":{\"field\":\"index\"},\"y\":{\"field\":\"value\"}},\"id\":\"2510\",\"type\":\"Line\"},{\"attributes\":{\"margin\":[5,5,5,5],\"name\":\"HSpacer03544\",\"sizing_mode\":\"stretch_width\"},\"id\":\"2464\",\"type\":\"Spacer\"},{\"attributes\":{\"axis\":{\"id\":\"2480\"},\"grid_line_color\":null,\"ticker\":null},\"id\":\"2483\",\"type\":\"Grid\"},{\"attributes\":{\"line_alpha\":0.2,\"line_color\":\"#ff7e0e\",\"line_width\":2,\"x\":{\"field\":\"index\"},\"y\":{\"field\":\"value\"}},\"id\":\"2540\",\"type\":\"Line\"},{\"attributes\":{\"click_policy\":\"mute\",\"items\":[{\"id\":\"2534\"},{\"id\":\"2565\"},{\"id\":\"2598\"},{\"id\":\"2633\"}],\"location\":[0,0],\"title\":\"Variable\"},\"id\":\"2533\",\"type\":\"Legend\"},{\"attributes\":{\"data\":{\"Variable\":[\"BCOIN\",\"BCOIN\",\"BCOIN\",\"BCOIN\",\"BCOIN\",\"BCOIN\",\"BCOIN\",\"BCOIN\",\"BCOIN\",\"BCOIN\",\"BCOIN\",\"BCOIN\",\"BCOIN\",\"BCOIN\",\"BCOIN\",\"BCOIN\",\"BCOIN\",\"BCOIN\",\"BCOIN\",\"BCOIN\",\"BCOIN\",\"BCOIN\",\"BCOIN\",\"BCOIN\",\"BCOIN\",\"BCOIN\",\"BCOIN\",\"BCOIN\",\"BCOIN\",\"BCOIN\",\"BCOIN\",\"BCOIN\",\"BCOIN\",\"BCOIN\",\"BCOIN\",\"BCOIN\",\"BCOIN\",\"BCOIN\",\"BCOIN\",\"BCOIN\",\"BCOIN\",\"BCOIN\",\"BCOIN\",\"BCOIN\",\"BCOIN\",\"BCOIN\",\"BCOIN\",\"BCOIN\",\"BCOIN\",\"BCOIN\",\"BCOIN\",\"BCOIN\"],\"index\":{\"__ndarray__\":\"AAAASfAKdkIAAMCuQgt2QgAAgBSVC3ZCAABAeucLdkIAAADgOQx2QgAAwEWMDHZCAACAq94MdkIAAEARMQ12QgAAAHeDDXZCAADA3NUNdkIAAIBCKA52QgAAQKh6DnZCAAAADs0OdkIAAMBzHw92QgAAgNlxD3ZCAABAP8QPdkIAAAClFhB2QgAAwAppEHZCAACAcLsQdkIAAEDWDRF2QgAAADxgEXZCAADAobIRdkIAAIAHBRJ2QgAAQG1XEnZCAAAA06kSdkIAAMA4/BJ2QgAAgJ5OE3ZCAABABKETdkIAAABq8xN2QgAAwM9FFHZCAACANZgUdkIAAECb6hR2QgAAAAE9FXZCAADAZo8VdkIAAIDM4RV2QgAAQDI0FnZCAAAAmIYWdkIAAMD92BZ2QgAAgGMrF3ZCAABAyX0XdkIAAAAv0Bd2QgAAwJQiGHZCAACA+nQYdkIAAEBgxxh2QgAAAMYZGXZCAADAK2wZdkIAAICRvhl2QgAAQPcQGnZCAAAAXWMadkIAAMDCtRp2QgAAgCgIG3ZCAABAjlobdkI=\",\"dtype\":\"float64\",\"order\":\"little\",\"shape\":[52]},\"value\":{\"__ndarray__\":\"AAAAAAAA+H+89+nVae/+v3ZBXnEequ4/Z+FRxBUzAcBNdwofjEcBwG0k/r1KC+a/ffM3Oeue87/oAYWt7YMFwHJRvmc/0glAT4G8IY1xBcAaZpekRGv+v5GlKbcd2/e/fpLlJTGE5r9ASi8C/3j2P/3yVwGkBRXAI+BDFJmD9L/AIrr/0668v2gF2BLgFta/EhBZb2pK+z/2sUbJNaTUv5oESY4jXAbAYCNkpPLf+b8Eq8XZYtHrv41sDzW2cCLA7DZqVyl/8D94toQI+Nrrv1XR/5wR4BbAfQs4ubNP879ZEAwWF4oVwPR8AXCO5ti/Rjn7DWEFEMCPc7W8rAjuv6RUD/lF2uI/EPGwn8Qy9T9zghYPeWwHwMSTl0t3gNU/wkerO5ZW9r887u0NigUKwPpvc9ElbOG/7vxf+o43E0DsOzqrqLrdv3XtvlQkB+y/pF9FNo7zIEDR94Ffhljuv/qCKnWcvClAVJ572Xj4+L+KqR+yAIPwv9WG5/ZzQSnAHmAnd8BYEMAE6SiQXFgIwJlmrRq86/K/Eq339dpMDkA=\",\"dtype\":\"float64\",\"order\":\"little\",\"shape\":[52]}},\"selected\":{\"id\":\"2600\"},\"selection_policy\":{\"id\":\"2631\"}},\"id\":\"2599\",\"type\":\"ColumnDataSource\"},{\"attributes\":{\"axis_label\":\"\",\"bounds\":\"auto\",\"formatter\":{\"id\":\"2504\"},\"major_label_orientation\":\"horizontal\",\"ticker\":{\"id\":\"2485\"}},\"id\":\"2484\",\"type\":\"LinearAxis\"},{\"attributes\":{},\"id\":\"2490\",\"type\":\"WheelZoomTool\"},{\"attributes\":{},\"id\":\"2478\",\"type\":\"LinearScale\"},{\"attributes\":{\"data\":{\"Variable\":[\"APPL\",\"APPL\",\"APPL\",\"APPL\",\"APPL\",\"APPL\",\"APPL\",\"APPL\",\"APPL\",\"APPL\",\"APPL\",\"APPL\",\"APPL\",\"APPL\",\"APPL\",\"APPL\",\"APPL\",\"APPL\",\"APPL\",\"APPL\",\"APPL\",\"APPL\",\"APPL\",\"APPL\",\"APPL\",\"APPL\",\"APPL\",\"APPL\",\"APPL\",\"APPL\",\"APPL\",\"APPL\",\"APPL\",\"APPL\",\"APPL\",\"APPL\",\"APPL\",\"APPL\",\"APPL\",\"APPL\",\"APPL\",\"APPL\",\"APPL\",\"APPL\",\"APPL\",\"APPL\",\"APPL\",\"APPL\",\"APPL\",\"APPL\",\"APPL\",\"APPL\"],\"index\":{\"__ndarray__\":\"AAAASfAKdkIAAMCuQgt2QgAAgBSVC3ZCAABAeucLdkIAAADgOQx2QgAAwEWMDHZCAACAq94MdkIAAEARMQ12QgAAAHeDDXZCAADA3NUNdkIAAIBCKA52QgAAQKh6DnZCAAAADs0OdkIAAMBzHw92QgAAgNlxD3ZCAABAP8QPdkIAAAClFhB2QgAAwAppEHZCAACAcLsQdkIAAEDWDRF2QgAAADxgEXZCAADAobIRdkIAAIAHBRJ2QgAAQG1XEnZCAAAA06kSdkIAAMA4/BJ2QgAAgJ5OE3ZCAABABKETdkIAAABq8xN2QgAAwM9FFHZCAACANZgUdkIAAECb6hR2QgAAAAE9FXZCAADAZo8VdkIAAIDM4RV2QgAAQDI0FnZCAAAAmIYWdkIAAMD92BZ2QgAAgGMrF3ZCAABAyX0XdkIAAAAv0Bd2QgAAwJQiGHZCAACA+nQYdkIAAEBgxxh2QgAAAMYZGXZCAADAK2wZdkIAAICRvhl2QgAAQPcQGnZCAAAAXWMadkIAAMDCtRp2QgAAgCgIG3ZCAABAjlobdkI=\",\"dtype\":\"float64\",\"order\":\"little\",\"shape\":[52]},\"value\":{\"__ndarray__\":\"AAAAAAAA+H8WQldhMUd+QPZ07f+rrfA/dBVjYpd557+KvH3EYYz+v2AnINZV7hPAisxYcZCo+L/HmfqTr/PwvyY/sT7i0hTAzE5nPMBUB8CuBGmga53+PzhGPd/QH8K//EqLiZyM4r8KlQij6Z4BwDNHNpFUBwnA4vB7uzz32r+u18Eeu+wBwMD9fW90z/W/omQfZmkDE8Agi8D17FKqv5xPdXxW8vu/7DdAz6Qt/79+W2Bmgnb1v60fH18NmwVA+AAk8/PLxz+ARLnRBYD5v5QjAwCflPa/or0iLWSB9D/fdVKUAdwBwCgHG94Gecy/UqjtJz73CcCQApB0Tv3jv7o210YmI9e/xnL8bg/b7T8eCvMVLGj3P3c3hD1LO/K/VzP8htr2HcCwkqN9AR7yv6CieW9tvfO/m0mueByEGMBXmi16ZbwHwNnvxcX0bf6/oovpPR3qDsC+I93d13/nvz4FyqIiuvG/Bl1luq0CJkDHF1LIfCL6v2fZUAw25RHA01i+OlGJ4r8sPrkc14nbv+pWGeqlVhZArsus0o9f2L8=\",\"dtype\":\"float64\",\"order\":\"little\",\"shape\":[52]}},\"selected\":{\"id\":\"2506\"},\"selection_policy\":{\"id\":\"2531\"}},\"id\":\"2505\",\"type\":\"ColumnDataSource\"},{\"attributes\":{},\"id\":\"2563\",\"type\":\"UnionRenderers\"},{\"attributes\":{\"axis\":{\"id\":\"2484\"},\"dimension\":1,\"grid_line_color\":null,\"ticker\":null},\"id\":\"2487\",\"type\":\"Grid\"},{\"attributes\":{},\"id\":\"2485\",\"type\":\"BasicTicker\"},{\"attributes\":{\"axis_label\":\"\",\"bounds\":\"auto\",\"formatter\":{\"id\":\"2502\"},\"major_label_orientation\":\"horizontal\",\"ticker\":{\"id\":\"2481\"}},\"id\":\"2480\",\"type\":\"DatetimeAxis\"},{\"attributes\":{},\"id\":\"2488\",\"type\":\"SaveTool\"},{\"attributes\":{\"overlay\":{\"id\":\"2493\"}},\"id\":\"2491\",\"type\":\"BoxZoomTool\"},{\"attributes\":{},\"id\":\"2492\",\"type\":\"ResetTool\"},{\"attributes\":{\"active_drag\":\"auto\",\"active_inspect\":\"auto\",\"active_multi\":null,\"active_scroll\":\"auto\",\"active_tap\":\"auto\",\"tools\":[{\"id\":\"2467\"},{\"id\":\"2488\"},{\"id\":\"2489\"},{\"id\":\"2490\"},{\"id\":\"2491\"},{\"id\":\"2492\"}]},\"id\":\"2494\",\"type\":\"Toolbar\"},{\"attributes\":{\"mantissas\":[1,2,5],\"max_interval\":500.0,\"num_minor_ticks\":0},\"id\":\"2518\",\"type\":\"AdaptiveTicker\"},{\"attributes\":{\"base\":60,\"mantissas\":[1,2,5,10,15,20,30],\"max_interval\":1800000.0,\"min_interval\":1000.0,\"num_minor_ticks\":0},\"id\":\"2519\",\"type\":\"AdaptiveTicker\"},{\"attributes\":{\"days\":[1,2,3,4,5,6,7,8,9,10,11,12,13,14,15,16,17,18,19,20,21,22,23,24,25,26,27,28,29,30,31]},\"id\":\"2521\",\"type\":\"DaysTicker\"},{\"attributes\":{\"label\":{\"value\":\"AMMD\"},\"renderers\":[{\"id\":\"2572\"}]},\"id\":\"2598\",\"type\":\"LegendItem\"},{\"attributes\":{\"base\":24,\"mantissas\":[1,2,4,6,8,12],\"max_interval\":43200000.0,\"min_interval\":3600000.0,\"num_minor_ticks\":0},\"id\":\"2520\",\"type\":\"AdaptiveTicker\"},{\"attributes\":{\"bottom_units\":\"screen\",\"fill_alpha\":0.5,\"fill_color\":\"lightgrey\",\"left_units\":\"screen\",\"level\":\"overlay\",\"line_alpha\":1.0,\"line_color\":\"black\",\"line_dash\":[4,4],\"line_width\":2,\"right_units\":\"screen\",\"top_units\":\"screen\"},\"id\":\"2493\",\"type\":\"BoxAnnotation\"},{\"attributes\":{\"margin\":[5,5,5,5],\"name\":\"HSpacer03545\",\"sizing_mode\":\"stretch_width\"},\"id\":\"2868\",\"type\":\"Spacer\"},{\"attributes\":{\"months\":[0,1,2,3,4,5,6,7,8,9,10,11]},\"id\":\"2525\",\"type\":\"MonthsTicker\"},{\"attributes\":{\"line_color\":\"#2ba02b\",\"line_width\":2,\"x\":{\"field\":\"index\"},\"y\":{\"field\":\"value\"}},\"id\":\"2569\",\"type\":\"Line\"},{\"attributes\":{\"months\":[0,2,4,6,8,10]},\"id\":\"2526\",\"type\":\"MonthsTicker\"},{\"attributes\":{\"data_source\":{\"id\":\"2566\"},\"glyph\":{\"id\":\"2569\"},\"hover_glyph\":null,\"muted_glyph\":{\"id\":\"2571\"},\"nonselection_glyph\":{\"id\":\"2570\"},\"selection_glyph\":null,\"view\":{\"id\":\"2573\"}},\"id\":\"2572\",\"type\":\"GlyphRenderer\"},{\"attributes\":{\"days\":[1,4,7,10,13,16,19,22,25,28]},\"id\":\"2522\",\"type\":\"DaysTicker\"},{\"attributes\":{\"source\":{\"id\":\"2566\"}},\"id\":\"2573\",\"type\":\"CDSView\"},{\"attributes\":{\"days\":[1,15]},\"id\":\"2524\",\"type\":\"DaysTicker\"},{\"attributes\":{\"months\":[0,6]},\"id\":\"2528\",\"type\":\"MonthsTicker\"},{\"attributes\":{\"days\":[1,8,15,22]},\"id\":\"2523\",\"type\":\"DaysTicker\"},{\"attributes\":{\"data\":{\"Variable\":[\"AMMD\",\"AMMD\",\"AMMD\",\"AMMD\",\"AMMD\",\"AMMD\",\"AMMD\",\"AMMD\",\"AMMD\",\"AMMD\",\"AMMD\",\"AMMD\",\"AMMD\",\"AMMD\",\"AMMD\",\"AMMD\",\"AMMD\",\"AMMD\",\"AMMD\",\"AMMD\",\"AMMD\",\"AMMD\",\"AMMD\",\"AMMD\",\"AMMD\",\"AMMD\",\"AMMD\",\"AMMD\",\"AMMD\",\"AMMD\",\"AMMD\",\"AMMD\",\"AMMD\",\"AMMD\",\"AMMD\",\"AMMD\",\"AMMD\",\"AMMD\",\"AMMD\",\"AMMD\",\"AMMD\",\"AMMD\",\"AMMD\",\"AMMD\",\"AMMD\",\"AMMD\",\"AMMD\",\"AMMD\",\"AMMD\",\"AMMD\",\"AMMD\",\"AMMD\"],\"index\":{\"__ndarray__\":\"AAAASfAKdkIAAMCuQgt2QgAAgBSVC3ZCAABAeucLdkIAAADgOQx2QgAAwEWMDHZCAACAq94MdkIAAEARMQ12QgAAAHeDDXZCAADA3NUNdkIAAIBCKA52QgAAQKh6DnZCAAAADs0OdkIAAMBzHw92QgAAgNlxD3ZCAABAP8QPdkIAAAClFhB2QgAAwAppEHZCAACAcLsQdkIAAEDWDRF2QgAAADxgEXZCAADAobIRdkIAAIAHBRJ2QgAAQG1XEnZCAAAA06kSdkIAAMA4/BJ2QgAAgJ5OE3ZCAABABKETdkIAAABq8xN2QgAAwM9FFHZCAACANZgUdkIAAECb6hR2QgAAAAE9FXZCAADAZo8VdkIAAIDM4RV2QgAAQDI0FnZCAAAAmIYWdkIAAMD92BZ2QgAAgGMrF3ZCAABAyX0XdkIAAAAv0Bd2QgAAwJQiGHZCAACA+nQYdkIAAEBgxxh2QgAAAMYZGXZCAADAK2wZdkIAAICRvhl2QgAAQPcQGnZCAAAAXWMadkIAAMDCtRp2QgAAgCgIG3ZCAABAjlobdkI=\",\"dtype\":\"float64\",\"order\":\"little\",\"shape\":[52]},\"value\":{\"__ndarray__\":\"AAAAAAAA+H8IwH3oCR7Sv8R2foPPuhPA6A4YLrHR8L/t/ySPOD0awJKT9RA8xw7A/tvunGZn8b/aKvd+bIspwOw3sdg77+G/IJlt/IoL6r+l3iHRjRcSQABhVDLrPpS/iIVVFZWpwL85vuOIvPoBwLzPmo2XfuE/A96aPyC7678hleDzWboGQIqgtvwcyfi/d4L+Ai6S/b+QAPjfzufmP0qd/ePjwgvAirGQGRg187/oDdrYhUUDwPy3NwQQe9A/2oagXesVBUBndZ1ip3TrvxhA044rzsG/3qa6l1VcFcCg5bvlZCGiP7biDyfZr/y/2uWOvVNw3b8c/Zsprvr/vyLV4+VgMv0/MBkyT3Nf6L+YF3T6LGTBP2WE0+I9yAjARG81v3De/798CxkqU8PxP1sGRvG8T/m/sCGeZJ71s7+QFG+cx3y6P1BOPQDLsQTAJLh5vsn70D+fXZ7c813xv3Ta051VyhHAIkRKTBFh9r9AVNawsxDMP7naWRKjnBrAkFtbo5pU2r+9L8Qg0H3/v2WGP3PXnPe/koGPMGN+BsA=\",\"dtype\":\"float64\",\"order\":\"little\",\"shape\":[52]}},\"selected\":{\"id\":\"2567\"},\"selection_policy\":{\"id\":\"2596\"}},\"id\":\"2566\",\"type\":\"ColumnDataSource\"},{\"attributes\":{},\"id\":\"2529\",\"type\":\"YearsTicker\"},{\"attributes\":{\"line_alpha\":0.1,\"line_color\":\"#2ba02b\",\"line_width\":2,\"x\":{\"field\":\"index\"},\"y\":{\"field\":\"value\"}},\"id\":\"2570\",\"type\":\"Line\"},{\"attributes\":{},\"id\":\"2531\",\"type\":\"UnionRenderers\"},{\"attributes\":{\"months\":[0,4,8]},\"id\":\"2527\",\"type\":\"MonthsTicker\"},{\"attributes\":{\"line_alpha\":0.2,\"line_color\":\"#2ba02b\",\"line_width\":2,\"x\":{\"field\":\"index\"},\"y\":{\"field\":\"value\"}},\"id\":\"2571\",\"type\":\"Line\"},{\"attributes\":{},\"id\":\"2596\",\"type\":\"UnionRenderers\"}],\"root_ids\":[\"2463\"]},\"title\":\"Bokeh Application\",\"version\":\"2.2.3\"}};\n    var render_items = [{\"docid\":\"b922e6e4-a594-4ab9-9315-7ebb0eb2ff9d\",\"root_ids\":[\"2463\"],\"roots\":{\"2463\":\"b3a4f4e2-e674-40b8-aacd-6c9450447972\"}}];\n    root.Bokeh.embed.embed_items_notebook(docs_json, render_items);\n  }\n  if (root.Bokeh !== undefined && root.Bokeh.Panel !== undefined) {\n    embed_document(root);\n  } else {\n    var attempts = 0;\n    var timer = setInterval(function(root) {\n      if (root.Bokeh !== undefined && root.Bokeh.Panel !== undefined) {\n        clearInterval(timer);\n        embed_document(root);\n      } else if (document.readyState == \"complete\") {\n        attempts++;\n        if (attempts > 100) {\n          clearInterval(timer);\n          console.log(\"Bokeh: ERROR: Unable to run BokehJS code because BokehJS library is missing\");\n        }\n      }\n    }, 10, root)\n  }\n})(window);</script>",
      "application/vnd.holoviews_exec.v0+json": "",
      "text/plain": [
       ":NdOverlay   [Variable]\n",
       "   :Curve   [index]   (value)"
      ]
     },
     "metadata": {
      "application/vnd.holoviews_exec.v0+json": {
       "id": "2463"
      }
     },
     "execution_count": 12
    }
   ],
   "source": [
    "import numpy as np\n",
    "import pandas as pd\n",
    "import hvplot.pandas\n",
    "\n",
    "# Data Prep\n",
    "df_idx = pd.date_range(\"1/1/2018\", periods=52)\n",
    "df = pd.DataFrame(\n",
    "    np.random.randn(52, 4), index=df_idx, columns=(\"APPL\", \"GOGLE\", \"AMMD\", \"BCOIN\")\n",
    ").pct_change()\n",
    "\n",
    "df.hvplot()\n",
    "# df.hvplot.line(xlabel=\"Year\", ylabel=\"Daily Return\")\n",
    "\n",
    "# df = pd.DataFrame(\n",
    "#     {\n",
    "#         \"ticker\": [\"APPL\", \"GOGLE\", \"AMMD\", \"BCOIN\"],\n",
    "#         \"daily_return\": (4.50, 10, 33.0, 55.25),\n",
    "#     }\n",
    "# )\n",
    "\n",
    "# df.hvplot.bar(\n",
    "#     x=\"ticker\", y=\"daily_return\", xlabel=\"Ticker\", ylabel=\"Daily Return\", rot=90\n",
    "# )\n"
   ]
  },
  {
   "cell_type": "markdown",
   "metadata": {},
   "source": [
    "# Initialize"
   ]
  },
  {
   "cell_type": "code",
   "execution_count": 2,
   "metadata": {},
   "outputs": [
    {
     "output_type": "stream",
     "name": "stdout",
     "text": [
      "Launching server at http://localhost:58781\n"
     ]
    }
   ],
   "source": [
    "import hvplot\n",
    "import numpy as np\n",
    "import hvplot.pandas\n",
    "import hvplot.dask\n",
    "\n",
    "import seaborn as sns\n",
    "import hvplot.pandas\n",
    "\n",
    "iris = sns.load_dataset('iris')\n",
    "plot = iris.hvplot.scatter(x=\"sepal_length\", y=\"sepal_width\", col=\"species\")\n",
    "hvplot.show(plot)\n",
    "\n"
   ]
  },
  {
   "cell_type": "code",
   "execution_count": 3,
   "metadata": {},
   "outputs": [],
   "source": [
    "# Options\n",
    "\n",
    "## Debugging level\n",
    "debug_level = 0\n"
   ]
  },
  {
   "cell_type": "code",
   "execution_count": 4,
   "metadata": {},
   "outputs": [],
   "source": [
    "# Initialize framework\n",
    "constants, tools = init_processing(debug_level)\n",
    "\n",
    "# System imports - needed for hvplot??\n",
    "import os\n",
    "import pandas as pd\n",
    "import matplotlib.pyplot as plt\n",
    "import plotly.express as px\n",
    "import hvplot.pandas\n",
    "import panel as pn\n",
    "from pathlib import Path\n",
    "from dotenv import load_dotenv\n",
    "from panel.interact import interact\n",
    "from panel import widgets\n",
    "from string import digits\n",
    "import csv\n",
    "import json\n",
    "import numpy as np\n",
    "import dateparser\n",
    "\n",
    "pn.extension()\n",
    "\n",
    "%matplotlib inline\n"
   ]
  },
  {
   "cell_type": "code",
   "execution_count": 5,
   "metadata": {},
   "outputs": [],
   "source": [
    "# Import all preprocessed data\n",
    "invoice_data_by_customer            = pd.read_pickle(constants.PREPROCESSED_INVOICE_CUSTOMER_FILE_PATH)\n",
    "invoice_data_by_service_start       = pd.read_pickle(constants.PREPROCESSED_INVOICE_SERVICEDATE_FILE_PATH)\n",
    "invoice_data_by_invoice_date        = pd.read_pickle(constants.PREPROCESSED_INVOICE_INVOICEDATE_FILE_PATH)\n",
    "forecast                            = pd.read_pickle(constants.PREPROCESSED_FORECAST_CLEANED_FILE_PATH)\n",
    "revenue2020A                        = pd.read_pickle(constants.PREPROCESSED_REVENUE2020A_CLEANED_FILE_PATH)\n"
   ]
  },
  {
   "cell_type": "code",
   "execution_count": 6,
   "metadata": {},
   "outputs": [
    {
     "output_type": "execute_result",
     "data": {
      "text/plain": [
       "NumberOfUsers                                    float64\n",
       "InvoiceDate             datetime64[ns, America/New_York]\n",
       "InvoiceNumber                                     object\n",
       "InvoiceAmount                                    float64\n",
       "Subscription                                      object\n",
       "AccountCode                                       object\n",
       "Address                                           object\n",
       "Lat                                              float64\n",
       "Long                                             float64\n",
       "ServiceStart            datetime64[ns, America/New_York]\n",
       "ServiceEnd              datetime64[ns, America/New_York]\n",
       "SubscriptionDuration                     timedelta64[ns]\n",
       "ServiceDelay                                     float64\n",
       "InvoiceDate_Year                                   int64\n",
       "InvoiceDate_Month                                  int64\n",
       "InvoiceDate_Quarter                                int64\n",
       "ServiceStart_Year                                float64\n",
       "ServiceStart_Month                               float64\n",
       "ServiceStart_Quarter                             float64\n",
       "ServiceEnd_Year                                  float64\n",
       "ServiceEnd_Month                                 float64\n",
       "ServiceEnd_Quarter                               float64\n",
       "dtype: object"
      ]
     },
     "metadata": {},
     "execution_count": 6
    }
   ],
   "source": [
    "invoice_data_by_customer.dtypes"
   ]
  },
  {
   "cell_type": "code",
   "execution_count": 7,
   "metadata": {},
   "outputs": [
    {
     "output_type": "execute_result",
     "data": {
      "text/plain": [
       "                                    NumberOfUsers               InvoiceDate  \\\n",
       "Customers                                                                     \n",
       "Louisiana Board Of Regents                    NaN 2015-03-20 00:00:00-04:00   \n",
       "Emporia State University                    250.0 2015-05-28 00:00:00-04:00   \n",
       "Morehead State University                   100.0 2015-06-23 00:00:00-04:00   \n",
       "State University Of Ny Potsdam                NaN 2015-06-26 00:00:00-04:00   \n",
       "St. Mary'S College Of Maryland                NaN 2015-10-07 00:00:00-04:00   \n",
       "Clark County Education Association            NaN 2015-10-19 00:00:00-04:00   \n",
       "Bureau Of Indian Affairs                      NaN 2015-10-27 00:00:00-04:00   \n",
       "Bureau Of Indian Affairs                      NaN 2015-12-10 00:00:00-05:00   \n",
       "College Of William And Mary                 250.0 2015-12-17 00:00:00-05:00   \n",
       "\n",
       "                                   InvoiceNumber  InvoiceAmount Subscription  \\\n",
       "Customers                                                                      \n",
       "Louisiana Board Of Regents             ATLAS 315        72000.0       1 Year   \n",
       "Emporia State University                   AJ501         3500.0       1 Year   \n",
       "Morehead State University                  AJ502         3500.0       1 Year   \n",
       "State University Of Ny Potsdam             AJ503         6500.0       1 Year   \n",
       "St. Mary'S College Of Maryland             AJ504          750.0       1 Year   \n",
       "Clark County Education Association         AJ505         3400.0       1 Year   \n",
       "Bureau Of Indian Affairs                   AJ506        28000.0       1 Year   \n",
       "Bureau Of Indian Affairs                   AJ507        16200.0       1 Year   \n",
       "College Of William And Mary                AJ508         3500.0       1 Year   \n",
       "\n",
       "                                                AccountCode  \\\n",
       "Customers                                                     \n",
       "Louisiana Board Of Regents          4700-0-00-00000-18-0000   \n",
       "Emporia State University            4700-0-00-00000-16-0000   \n",
       "Morehead State University           4700-0-00-00000-17-0000   \n",
       "State University Of Ny Potsdam      4700-0-00-00000-32-0000   \n",
       "St. Mary'S College Of Maryland      4700-0-00-00000-20-0000   \n",
       "Clark County Education Association  4700-0-00-00000-28-0000   \n",
       "Bureau Of Indian Affairs            4700-4-11-00100-00-1502   \n",
       "Bureau Of Indian Affairs            4700-4-11-00100-00-1502   \n",
       "College Of William And Mary         4700-0-00-00000-00-0000   \n",
       "\n",
       "                                                                      Address  \\\n",
       "Customers                                                                       \n",
       "Louisiana Board Of Regents            1201 N 3rd St #6, Baton Rouge, LA 70802   \n",
       "Emporia State University                     1 Kellogg Cir, Emporia, KS 66801   \n",
       "Morehead State University             150 University Blvd, Morehead, KY 40351   \n",
       "State University Of Ny Potsdam           44 Pierrepont Ave, Potsdam, NY 13676   \n",
       "St. Mary'S College Of Maryland      47645 College Dr, St Marys City, MD 20686   \n",
       "Clark County Education Association        4230 McLeod Dr, Las Vegas, NV 89121   \n",
       "Bureau Of Indian Affairs            1849 C Street, N.W Washington, D.C. 20240   \n",
       "Bureau Of Indian Affairs            1849 C Street, N.W Washington, D.C. 20240   \n",
       "College Of William And Mary            200 Stadium Dr, Williamsburg, VA 23185   \n",
       "\n",
       "                                          Lat        Long  \\\n",
       "Customers                                                   \n",
       "Louisiana Board Of Regents          30.460190  -91.188530   \n",
       "Emporia State University            38.392609  -96.181396   \n",
       "Morehead State University           38.184921  -83.434441   \n",
       "State University Of Ny Potsdam      44.663780  -74.978409   \n",
       "St. Mary'S College Of Maryland      38.190601  -76.426300   \n",
       "Clark County Education Association  36.112561 -115.109222   \n",
       "Bureau Of Indian Affairs            38.894453  -77.042603   \n",
       "Bureau Of Indian Affairs            38.894453  -77.042603   \n",
       "College Of William And Mary         37.271740  -76.714260   \n",
       "\n",
       "                                                ServiceStart  ...  \\\n",
       "Customers                                                     ...   \n",
       "Louisiana Board Of Regents         2015-03-18 00:00:00-04:00  ...   \n",
       "Emporia State University           2015-06-01 00:00:00-04:00  ...   \n",
       "Morehead State University          2015-06-10 00:00:00-04:00  ...   \n",
       "State University Of Ny Potsdam     2015-06-01 00:00:00-04:00  ...   \n",
       "St. Mary'S College Of Maryland     2015-10-05 00:00:00-04:00  ...   \n",
       "Clark County Education Association 2015-10-01 00:00:00-04:00  ...   \n",
       "Bureau Of Indian Affairs           2015-09-18 00:00:00-04:00  ...   \n",
       "Bureau Of Indian Affairs           2015-09-18 00:00:00-04:00  ...   \n",
       "College Of William And Mary        2015-10-22 00:00:00-04:00  ...   \n",
       "\n",
       "                                   ServiceDelay InvoiceDate_Year  \\\n",
       "Customers                                                          \n",
       "Louisiana Board Of Regents                  2.0             2015   \n",
       "Emporia State University                   -4.0             2015   \n",
       "Morehead State University                  13.0             2015   \n",
       "State University Of Ny Potsdam             25.0             2015   \n",
       "St. Mary'S College Of Maryland              2.0             2015   \n",
       "Clark County Education Association         18.0             2015   \n",
       "Bureau Of Indian Affairs                   39.0             2015   \n",
       "Bureau Of Indian Affairs                   83.0             2015   \n",
       "College Of William And Mary                56.0             2015   \n",
       "\n",
       "                                    InvoiceDate_Month  InvoiceDate_Quarter  \\\n",
       "Customers                                                                    \n",
       "Louisiana Board Of Regents                          3                    1   \n",
       "Emporia State University                            5                    2   \n",
       "Morehead State University                           6                    2   \n",
       "State University Of Ny Potsdam                      6                    2   \n",
       "St. Mary'S College Of Maryland                     10                    4   \n",
       "Clark County Education Association                 10                    4   \n",
       "Bureau Of Indian Affairs                           10                    4   \n",
       "Bureau Of Indian Affairs                           12                    4   \n",
       "College Of William And Mary                        12                    4   \n",
       "\n",
       "                                    ServiceStart_Year  ServiceStart_Month  \\\n",
       "Customers                                                                   \n",
       "Louisiana Board Of Regents                     2015.0                 3.0   \n",
       "Emporia State University                       2015.0                 6.0   \n",
       "Morehead State University                      2015.0                 6.0   \n",
       "State University Of Ny Potsdam                 2015.0                 6.0   \n",
       "St. Mary'S College Of Maryland                 2015.0                10.0   \n",
       "Clark County Education Association             2015.0                10.0   \n",
       "Bureau Of Indian Affairs                       2015.0                 9.0   \n",
       "Bureau Of Indian Affairs                       2015.0                 9.0   \n",
       "College Of William And Mary                    2015.0                10.0   \n",
       "\n",
       "                                    ServiceStart_Quarter  ServiceEnd_Year  \\\n",
       "Customers                                                                   \n",
       "Louisiana Board Of Regents                           1.0           2016.0   \n",
       "Emporia State University                             2.0           2016.0   \n",
       "Morehead State University                            2.0           2016.0   \n",
       "State University Of Ny Potsdam                       2.0           2016.0   \n",
       "St. Mary'S College Of Maryland                       4.0           2016.0   \n",
       "Clark County Education Association                   4.0           2016.0   \n",
       "Bureau Of Indian Affairs                             3.0           2016.0   \n",
       "Bureau Of Indian Affairs                             3.0           2016.0   \n",
       "College Of William And Mary                          4.0           2016.0   \n",
       "\n",
       "                                    ServiceEnd_Month  ServiceEnd_Quarter  \n",
       "Customers                                                                 \n",
       "Louisiana Board Of Regents                       6.0                 2.0  \n",
       "Emporia State University                         6.0                 2.0  \n",
       "Morehead State University                        6.0                 2.0  \n",
       "State University Of Ny Potsdam                   6.0                 2.0  \n",
       "St. Mary'S College Of Maryland                   9.0                 3.0  \n",
       "Clark County Education Association              10.0                 4.0  \n",
       "Bureau Of Indian Affairs                        12.0                 4.0  \n",
       "Bureau Of Indian Affairs                        12.0                 4.0  \n",
       "College Of William And Mary                     10.0                 4.0  \n",
       "\n",
       "[9 rows x 22 columns]"
      ],
      "text/html": "<div>\n<style scoped>\n    .dataframe tbody tr th:only-of-type {\n        vertical-align: middle;\n    }\n\n    .dataframe tbody tr th {\n        vertical-align: top;\n    }\n\n    .dataframe thead th {\n        text-align: right;\n    }\n</style>\n<table border=\"1\" class=\"dataframe\">\n  <thead>\n    <tr style=\"text-align: right;\">\n      <th></th>\n      <th>NumberOfUsers</th>\n      <th>InvoiceDate</th>\n      <th>InvoiceNumber</th>\n      <th>InvoiceAmount</th>\n      <th>Subscription</th>\n      <th>AccountCode</th>\n      <th>Address</th>\n      <th>Lat</th>\n      <th>Long</th>\n      <th>ServiceStart</th>\n      <th>...</th>\n      <th>ServiceDelay</th>\n      <th>InvoiceDate_Year</th>\n      <th>InvoiceDate_Month</th>\n      <th>InvoiceDate_Quarter</th>\n      <th>ServiceStart_Year</th>\n      <th>ServiceStart_Month</th>\n      <th>ServiceStart_Quarter</th>\n      <th>ServiceEnd_Year</th>\n      <th>ServiceEnd_Month</th>\n      <th>ServiceEnd_Quarter</th>\n    </tr>\n    <tr>\n      <th>Customers</th>\n      <th></th>\n      <th></th>\n      <th></th>\n      <th></th>\n      <th></th>\n      <th></th>\n      <th></th>\n      <th></th>\n      <th></th>\n      <th></th>\n      <th></th>\n      <th></th>\n      <th></th>\n      <th></th>\n      <th></th>\n      <th></th>\n      <th></th>\n      <th></th>\n      <th></th>\n      <th></th>\n      <th></th>\n    </tr>\n  </thead>\n  <tbody>\n    <tr>\n      <th>Louisiana Board Of Regents</th>\n      <td>NaN</td>\n      <td>2015-03-20 00:00:00-04:00</td>\n      <td>ATLAS 315</td>\n      <td>72000.0</td>\n      <td>1 Year</td>\n      <td>4700-0-00-00000-18-0000</td>\n      <td>1201 N 3rd St #6, Baton Rouge, LA 70802</td>\n      <td>30.460190</td>\n      <td>-91.188530</td>\n      <td>2015-03-18 00:00:00-04:00</td>\n      <td>...</td>\n      <td>2.0</td>\n      <td>2015</td>\n      <td>3</td>\n      <td>1</td>\n      <td>2015.0</td>\n      <td>3.0</td>\n      <td>1.0</td>\n      <td>2016.0</td>\n      <td>6.0</td>\n      <td>2.0</td>\n    </tr>\n    <tr>\n      <th>Emporia State University</th>\n      <td>250.0</td>\n      <td>2015-05-28 00:00:00-04:00</td>\n      <td>AJ501</td>\n      <td>3500.0</td>\n      <td>1 Year</td>\n      <td>4700-0-00-00000-16-0000</td>\n      <td>1 Kellogg Cir, Emporia, KS 66801</td>\n      <td>38.392609</td>\n      <td>-96.181396</td>\n      <td>2015-06-01 00:00:00-04:00</td>\n      <td>...</td>\n      <td>-4.0</td>\n      <td>2015</td>\n      <td>5</td>\n      <td>2</td>\n      <td>2015.0</td>\n      <td>6.0</td>\n      <td>2.0</td>\n      <td>2016.0</td>\n      <td>6.0</td>\n      <td>2.0</td>\n    </tr>\n    <tr>\n      <th>Morehead State University</th>\n      <td>100.0</td>\n      <td>2015-06-23 00:00:00-04:00</td>\n      <td>AJ502</td>\n      <td>3500.0</td>\n      <td>1 Year</td>\n      <td>4700-0-00-00000-17-0000</td>\n      <td>150 University Blvd, Morehead, KY 40351</td>\n      <td>38.184921</td>\n      <td>-83.434441</td>\n      <td>2015-06-10 00:00:00-04:00</td>\n      <td>...</td>\n      <td>13.0</td>\n      <td>2015</td>\n      <td>6</td>\n      <td>2</td>\n      <td>2015.0</td>\n      <td>6.0</td>\n      <td>2.0</td>\n      <td>2016.0</td>\n      <td>6.0</td>\n      <td>2.0</td>\n    </tr>\n    <tr>\n      <th>State University Of Ny Potsdam</th>\n      <td>NaN</td>\n      <td>2015-06-26 00:00:00-04:00</td>\n      <td>AJ503</td>\n      <td>6500.0</td>\n      <td>1 Year</td>\n      <td>4700-0-00-00000-32-0000</td>\n      <td>44 Pierrepont Ave, Potsdam, NY 13676</td>\n      <td>44.663780</td>\n      <td>-74.978409</td>\n      <td>2015-06-01 00:00:00-04:00</td>\n      <td>...</td>\n      <td>25.0</td>\n      <td>2015</td>\n      <td>6</td>\n      <td>2</td>\n      <td>2015.0</td>\n      <td>6.0</td>\n      <td>2.0</td>\n      <td>2016.0</td>\n      <td>6.0</td>\n      <td>2.0</td>\n    </tr>\n    <tr>\n      <th>St. Mary'S College Of Maryland</th>\n      <td>NaN</td>\n      <td>2015-10-07 00:00:00-04:00</td>\n      <td>AJ504</td>\n      <td>750.0</td>\n      <td>1 Year</td>\n      <td>4700-0-00-00000-20-0000</td>\n      <td>47645 College Dr, St Marys City, MD 20686</td>\n      <td>38.190601</td>\n      <td>-76.426300</td>\n      <td>2015-10-05 00:00:00-04:00</td>\n      <td>...</td>\n      <td>2.0</td>\n      <td>2015</td>\n      <td>10</td>\n      <td>4</td>\n      <td>2015.0</td>\n      <td>10.0</td>\n      <td>4.0</td>\n      <td>2016.0</td>\n      <td>9.0</td>\n      <td>3.0</td>\n    </tr>\n    <tr>\n      <th>Clark County Education Association</th>\n      <td>NaN</td>\n      <td>2015-10-19 00:00:00-04:00</td>\n      <td>AJ505</td>\n      <td>3400.0</td>\n      <td>1 Year</td>\n      <td>4700-0-00-00000-28-0000</td>\n      <td>4230 McLeod Dr, Las Vegas, NV 89121</td>\n      <td>36.112561</td>\n      <td>-115.109222</td>\n      <td>2015-10-01 00:00:00-04:00</td>\n      <td>...</td>\n      <td>18.0</td>\n      <td>2015</td>\n      <td>10</td>\n      <td>4</td>\n      <td>2015.0</td>\n      <td>10.0</td>\n      <td>4.0</td>\n      <td>2016.0</td>\n      <td>10.0</td>\n      <td>4.0</td>\n    </tr>\n    <tr>\n      <th>Bureau Of Indian Affairs</th>\n      <td>NaN</td>\n      <td>2015-10-27 00:00:00-04:00</td>\n      <td>AJ506</td>\n      <td>28000.0</td>\n      <td>1 Year</td>\n      <td>4700-4-11-00100-00-1502</td>\n      <td>1849 C Street, N.W Washington, D.C. 20240</td>\n      <td>38.894453</td>\n      <td>-77.042603</td>\n      <td>2015-09-18 00:00:00-04:00</td>\n      <td>...</td>\n      <td>39.0</td>\n      <td>2015</td>\n      <td>10</td>\n      <td>4</td>\n      <td>2015.0</td>\n      <td>9.0</td>\n      <td>3.0</td>\n      <td>2016.0</td>\n      <td>12.0</td>\n      <td>4.0</td>\n    </tr>\n    <tr>\n      <th>Bureau Of Indian Affairs</th>\n      <td>NaN</td>\n      <td>2015-12-10 00:00:00-05:00</td>\n      <td>AJ507</td>\n      <td>16200.0</td>\n      <td>1 Year</td>\n      <td>4700-4-11-00100-00-1502</td>\n      <td>1849 C Street, N.W Washington, D.C. 20240</td>\n      <td>38.894453</td>\n      <td>-77.042603</td>\n      <td>2015-09-18 00:00:00-04:00</td>\n      <td>...</td>\n      <td>83.0</td>\n      <td>2015</td>\n      <td>12</td>\n      <td>4</td>\n      <td>2015.0</td>\n      <td>9.0</td>\n      <td>3.0</td>\n      <td>2016.0</td>\n      <td>12.0</td>\n      <td>4.0</td>\n    </tr>\n    <tr>\n      <th>College Of William And Mary</th>\n      <td>250.0</td>\n      <td>2015-12-17 00:00:00-05:00</td>\n      <td>AJ508</td>\n      <td>3500.0</td>\n      <td>1 Year</td>\n      <td>4700-0-00-00000-00-0000</td>\n      <td>200 Stadium Dr, Williamsburg, VA 23185</td>\n      <td>37.271740</td>\n      <td>-76.714260</td>\n      <td>2015-10-22 00:00:00-04:00</td>\n      <td>...</td>\n      <td>56.0</td>\n      <td>2015</td>\n      <td>12</td>\n      <td>4</td>\n      <td>2015.0</td>\n      <td>10.0</td>\n      <td>4.0</td>\n      <td>2016.0</td>\n      <td>10.0</td>\n      <td>4.0</td>\n    </tr>\n  </tbody>\n</table>\n<p>9 rows × 22 columns</p>\n</div>"
     },
     "metadata": {},
     "execution_count": 7
    }
   ],
   "source": [
    "invoice_data_by_customer[invoice_data_by_customer[\"ServiceStart_Year\"] == 2015]\n"
   ]
  },
  {
   "cell_type": "code",
   "execution_count": 8,
   "metadata": {},
   "outputs": [
    {
     "output_type": "stream",
     "name": "stdout",
     "text": [
      "Launching server at http://localhost:58789\n"
     ]
    }
   ],
   "source": [
    "\n",
    "# System imports - needed for hvplot??\n",
    "import os\n",
    "import pandas as pd\n",
    "import matplotlib.pyplot as plt\n",
    "import plotly.express as px\n",
    "import hvplot.pandas\n",
    "import panel as pn\n",
    "from pathlib import Path\n",
    "from dotenv import load_dotenv\n",
    "from panel.interact import interact\n",
    "from panel import widgets\n",
    "from string import digits\n",
    "import csv\n",
    "import json\n",
    "import numpy as np\n",
    "import dateparser\n",
    "\n",
    "pn.extension()\n",
    "\n",
    "%matplotlib inline\n",
    "\n",
    "plt_ = invoice_data_by_customer.hvplot.line(x=\"ServiceStart\", y=\"InvoiceAmount\")\n",
    "# ax = invoice_data_by_customer.hvplot.line(x=\"ServiceStart\", y=\"InvoiceAmount\", figsize=(15, 5), title=\"Invoice Amount over Time\")\n",
    "# invoice_data_by_invoice_date.hvplot.line(x=\"ServiceStart\", y=\"InvoiceAmount\", figsize=(15, 5), title=\"Invoice Amount over Time\")\n",
    "\n",
    "\n",
    "\n",
    "import panel as pn\n",
    "\n",
    "pane = pn.panel(plt_)\n",
    "pane\n",
    "\n",
    "hvplot.show(plt_)\n"
   ]
  },
  {
   "cell_type": "code",
   "execution_count": 9,
   "metadata": {},
   "outputs": [
    {
     "output_type": "execute_result",
     "data": {
      "text/plain": [
       "<AxesSubplot:title={'center':'Cumulative Invoices over Time'}, xlabel='InvoiceDate'>"
      ]
     },
     "metadata": {},
     "execution_count": 9
    },
    {
     "output_type": "display_data",
     "data": {
      "text/plain": "<Figure size 1080x360 with 1 Axes>",
      "image/svg+xml": "<?xml version=\"1.0\" encoding=\"utf-8\" standalone=\"no\"?>\r\n<!DOCTYPE svg PUBLIC \"-//W3C//DTD SVG 1.1//EN\"\r\n  \"http://www.w3.org/Graphics/SVG/1.1/DTD/svg11.dtd\">\r\n<!-- Created with matplotlib (https://matplotlib.org/) -->\r\n<svg height=\"316.102752pt\" version=\"1.1\" viewBox=\"0 0 902.9375 316.102752\" width=\"902.9375pt\" xmlns=\"http://www.w3.org/2000/svg\" xmlns:xlink=\"http://www.w3.org/1999/xlink\">\r\n <metadata>\r\n  <rdf:RDF xmlns:cc=\"http://creativecommons.org/ns#\" xmlns:dc=\"http://purl.org/dc/elements/1.1/\" xmlns:rdf=\"http://www.w3.org/1999/02/22-rdf-syntax-ns#\">\r\n   <cc:Work>\r\n    <dc:type rdf:resource=\"http://purl.org/dc/dcmitype/StillImage\"/>\r\n    <dc:date>2020-11-30T15:44:34.799853</dc:date>\r\n    <dc:format>image/svg+xml</dc:format>\r\n    <dc:creator>\r\n     <cc:Agent>\r\n      <dc:title>Matplotlib v3.3.2, https://matplotlib.org/</dc:title>\r\n     </cc:Agent>\r\n    </dc:creator>\r\n   </cc:Work>\r\n  </rdf:RDF>\r\n </metadata>\r\n <defs>\r\n  <style type=\"text/css\">*{stroke-linecap:butt;stroke-linejoin:round;}</style>\r\n </defs>\r\n <g id=\"figure_1\">\r\n  <g id=\"patch_1\">\r\n   <path d=\"M 0 316.102752 \r\nL 902.9375 316.102752 \r\nL 902.9375 0 \r\nL 0 0 \r\nz\r\n\" style=\"fill:none;\"/>\r\n  </g>\r\n  <g id=\"axes_1\">\r\n   <g id=\"patch_2\">\r\n    <path d=\"M 58.7375 267.118125 \r\nL 895.7375 267.118125 \r\nL 895.7375 22.318125 \r\nL 58.7375 22.318125 \r\nz\r\n\" style=\"fill:#ffffff;\"/>\r\n   </g>\r\n   <g id=\"matplotlib.axis_1\">\r\n    <g id=\"xtick_1\">\r\n     <g id=\"line2d_1\">\r\n      <defs>\r\n       <path d=\"M 0 0 \r\nL 0 3.5 \r\n\" id=\"maf8795b82f\" style=\"stroke:#000000;stroke-width:0.8;\"/>\r\n      </defs>\r\n      <g>\r\n       <use style=\"stroke:#000000;stroke-width:0.8;\" x=\"67.931786\" xlink:href=\"#maf8795b82f\" y=\"267.118125\"/>\r\n      </g>\r\n     </g>\r\n     <g id=\"text_1\">\r\n      <!-- 2015 -->\r\n      <g transform=\"translate(44.851596 293.423565)rotate(-30)scale(0.1 -0.1)\">\r\n       <defs>\r\n        <path d=\"M 19.1875 8.296875 \r\nL 53.609375 8.296875 \r\nL 53.609375 0 \r\nL 7.328125 0 \r\nL 7.328125 8.296875 \r\nQ 12.9375 14.109375 22.625 23.890625 \r\nQ 32.328125 33.6875 34.8125 36.53125 \r\nQ 39.546875 41.84375 41.421875 45.53125 \r\nQ 43.3125 49.21875 43.3125 52.78125 \r\nQ 43.3125 58.59375 39.234375 62.25 \r\nQ 35.15625 65.921875 28.609375 65.921875 \r\nQ 23.96875 65.921875 18.8125 64.3125 \r\nQ 13.671875 62.703125 7.8125 59.421875 \r\nL 7.8125 69.390625 \r\nQ 13.765625 71.78125 18.9375 73 \r\nQ 24.125 74.21875 28.421875 74.21875 \r\nQ 39.75 74.21875 46.484375 68.546875 \r\nQ 53.21875 62.890625 53.21875 53.421875 \r\nQ 53.21875 48.921875 51.53125 44.890625 \r\nQ 49.859375 40.875 45.40625 35.40625 \r\nQ 44.1875 33.984375 37.640625 27.21875 \r\nQ 31.109375 20.453125 19.1875 8.296875 \r\nz\r\n\" id=\"DejaVuSans-50\"/>\r\n        <path d=\"M 31.78125 66.40625 \r\nQ 24.171875 66.40625 20.328125 58.90625 \r\nQ 16.5 51.421875 16.5 36.375 \r\nQ 16.5 21.390625 20.328125 13.890625 \r\nQ 24.171875 6.390625 31.78125 6.390625 \r\nQ 39.453125 6.390625 43.28125 13.890625 \r\nQ 47.125 21.390625 47.125 36.375 \r\nQ 47.125 51.421875 43.28125 58.90625 \r\nQ 39.453125 66.40625 31.78125 66.40625 \r\nz\r\nM 31.78125 74.21875 \r\nQ 44.046875 74.21875 50.515625 64.515625 \r\nQ 56.984375 54.828125 56.984375 36.375 \r\nQ 56.984375 17.96875 50.515625 8.265625 \r\nQ 44.046875 -1.421875 31.78125 -1.421875 \r\nQ 19.53125 -1.421875 13.0625 8.265625 \r\nQ 6.59375 17.96875 6.59375 36.375 \r\nQ 6.59375 54.828125 13.0625 64.515625 \r\nQ 19.53125 74.21875 31.78125 74.21875 \r\nz\r\n\" id=\"DejaVuSans-48\"/>\r\n        <path d=\"M 12.40625 8.296875 \r\nL 28.515625 8.296875 \r\nL 28.515625 63.921875 \r\nL 10.984375 60.40625 \r\nL 10.984375 69.390625 \r\nL 28.421875 72.90625 \r\nL 38.28125 72.90625 \r\nL 38.28125 8.296875 \r\nL 54.390625 8.296875 \r\nL 54.390625 0 \r\nL 12.40625 0 \r\nz\r\n\" id=\"DejaVuSans-49\"/>\r\n        <path d=\"M 10.796875 72.90625 \r\nL 49.515625 72.90625 \r\nL 49.515625 64.59375 \r\nL 19.828125 64.59375 \r\nL 19.828125 46.734375 \r\nQ 21.96875 47.46875 24.109375 47.828125 \r\nQ 26.265625 48.1875 28.421875 48.1875 \r\nQ 40.625 48.1875 47.75 41.5 \r\nQ 54.890625 34.8125 54.890625 23.390625 \r\nQ 54.890625 11.625 47.5625 5.09375 \r\nQ 40.234375 -1.421875 26.90625 -1.421875 \r\nQ 22.3125 -1.421875 17.546875 -0.640625 \r\nQ 12.796875 0.140625 7.71875 1.703125 \r\nL 7.71875 11.625 \r\nQ 12.109375 9.234375 16.796875 8.0625 \r\nQ 21.484375 6.890625 26.703125 6.890625 \r\nQ 35.15625 6.890625 40.078125 11.328125 \r\nQ 45.015625 15.765625 45.015625 23.390625 \r\nQ 45.015625 31 40.078125 35.4375 \r\nQ 35.15625 39.890625 26.703125 39.890625 \r\nQ 22.75 39.890625 18.8125 39.015625 \r\nQ 14.890625 38.140625 10.796875 36.28125 \r\nz\r\n\" id=\"DejaVuSans-53\"/>\r\n       </defs>\r\n       <use xlink:href=\"#DejaVuSans-50\"/>\r\n       <use x=\"63.623047\" xlink:href=\"#DejaVuSans-48\"/>\r\n       <use x=\"127.246094\" xlink:href=\"#DejaVuSans-49\"/>\r\n       <use x=\"190.869141\" xlink:href=\"#DejaVuSans-53\"/>\r\n      </g>\r\n     </g>\r\n    </g>\r\n    <g id=\"xtick_2\">\r\n     <g id=\"line2d_2\">\r\n      <g>\r\n       <use style=\"stroke:#000000;stroke-width:0.8;\" x=\"203.012618\" xlink:href=\"#maf8795b82f\" y=\"267.118125\"/>\r\n      </g>\r\n     </g>\r\n     <g id=\"text_2\">\r\n      <!-- 2016 -->\r\n      <g transform=\"translate(179.932427 293.423565)rotate(-30)scale(0.1 -0.1)\">\r\n       <defs>\r\n        <path d=\"M 33.015625 40.375 \r\nQ 26.375 40.375 22.484375 35.828125 \r\nQ 18.609375 31.296875 18.609375 23.390625 \r\nQ 18.609375 15.53125 22.484375 10.953125 \r\nQ 26.375 6.390625 33.015625 6.390625 \r\nQ 39.65625 6.390625 43.53125 10.953125 \r\nQ 47.40625 15.53125 47.40625 23.390625 \r\nQ 47.40625 31.296875 43.53125 35.828125 \r\nQ 39.65625 40.375 33.015625 40.375 \r\nz\r\nM 52.59375 71.296875 \r\nL 52.59375 62.3125 \r\nQ 48.875 64.0625 45.09375 64.984375 \r\nQ 41.3125 65.921875 37.59375 65.921875 \r\nQ 27.828125 65.921875 22.671875 59.328125 \r\nQ 17.53125 52.734375 16.796875 39.40625 \r\nQ 19.671875 43.65625 24.015625 45.921875 \r\nQ 28.375 48.1875 33.59375 48.1875 \r\nQ 44.578125 48.1875 50.953125 41.515625 \r\nQ 57.328125 34.859375 57.328125 23.390625 \r\nQ 57.328125 12.15625 50.6875 5.359375 \r\nQ 44.046875 -1.421875 33.015625 -1.421875 \r\nQ 20.359375 -1.421875 13.671875 8.265625 \r\nQ 6.984375 17.96875 6.984375 36.375 \r\nQ 6.984375 53.65625 15.1875 63.9375 \r\nQ 23.390625 74.21875 37.203125 74.21875 \r\nQ 40.921875 74.21875 44.703125 73.484375 \r\nQ 48.484375 72.75 52.59375 71.296875 \r\nz\r\n\" id=\"DejaVuSans-54\"/>\r\n       </defs>\r\n       <use xlink:href=\"#DejaVuSans-50\"/>\r\n       <use x=\"63.623047\" xlink:href=\"#DejaVuSans-48\"/>\r\n       <use x=\"127.246094\" xlink:href=\"#DejaVuSans-49\"/>\r\n       <use x=\"190.869141\" xlink:href=\"#DejaVuSans-54\"/>\r\n      </g>\r\n     </g>\r\n    </g>\r\n    <g id=\"xtick_3\">\r\n     <g id=\"line2d_3\">\r\n      <g>\r\n       <use style=\"stroke:#000000;stroke-width:0.8;\" x=\"338.463534\" xlink:href=\"#maf8795b82f\" y=\"267.118125\"/>\r\n      </g>\r\n     </g>\r\n     <g id=\"text_3\">\r\n      <!-- 2017 -->\r\n      <g transform=\"translate(315.383343 293.423565)rotate(-30)scale(0.1 -0.1)\">\r\n       <defs>\r\n        <path d=\"M 8.203125 72.90625 \r\nL 55.078125 72.90625 \r\nL 55.078125 68.703125 \r\nL 28.609375 0 \r\nL 18.3125 0 \r\nL 43.21875 64.59375 \r\nL 8.203125 64.59375 \r\nz\r\n\" id=\"DejaVuSans-55\"/>\r\n       </defs>\r\n       <use xlink:href=\"#DejaVuSans-50\"/>\r\n       <use x=\"63.623047\" xlink:href=\"#DejaVuSans-48\"/>\r\n       <use x=\"127.246094\" xlink:href=\"#DejaVuSans-49\"/>\r\n       <use x=\"190.869141\" xlink:href=\"#DejaVuSans-55\"/>\r\n      </g>\r\n     </g>\r\n    </g>\r\n    <g id=\"xtick_4\">\r\n     <g id=\"line2d_4\">\r\n      <g>\r\n       <use style=\"stroke:#000000;stroke-width:0.8;\" x=\"473.544365\" xlink:href=\"#maf8795b82f\" y=\"267.118125\"/>\r\n      </g>\r\n     </g>\r\n     <g id=\"text_4\">\r\n      <!-- 2018 -->\r\n      <g transform=\"translate(450.464175 293.423565)rotate(-30)scale(0.1 -0.1)\">\r\n       <defs>\r\n        <path d=\"M 31.78125 34.625 \r\nQ 24.75 34.625 20.71875 30.859375 \r\nQ 16.703125 27.09375 16.703125 20.515625 \r\nQ 16.703125 13.921875 20.71875 10.15625 \r\nQ 24.75 6.390625 31.78125 6.390625 \r\nQ 38.8125 6.390625 42.859375 10.171875 \r\nQ 46.921875 13.96875 46.921875 20.515625 \r\nQ 46.921875 27.09375 42.890625 30.859375 \r\nQ 38.875 34.625 31.78125 34.625 \r\nz\r\nM 21.921875 38.8125 \r\nQ 15.578125 40.375 12.03125 44.71875 \r\nQ 8.5 49.078125 8.5 55.328125 \r\nQ 8.5 64.0625 14.71875 69.140625 \r\nQ 20.953125 74.21875 31.78125 74.21875 \r\nQ 42.671875 74.21875 48.875 69.140625 \r\nQ 55.078125 64.0625 55.078125 55.328125 \r\nQ 55.078125 49.078125 51.53125 44.71875 \r\nQ 48 40.375 41.703125 38.8125 \r\nQ 48.828125 37.15625 52.796875 32.3125 \r\nQ 56.78125 27.484375 56.78125 20.515625 \r\nQ 56.78125 9.90625 50.3125 4.234375 \r\nQ 43.84375 -1.421875 31.78125 -1.421875 \r\nQ 19.734375 -1.421875 13.25 4.234375 \r\nQ 6.78125 9.90625 6.78125 20.515625 \r\nQ 6.78125 27.484375 10.78125 32.3125 \r\nQ 14.796875 37.15625 21.921875 38.8125 \r\nz\r\nM 18.3125 54.390625 \r\nQ 18.3125 48.734375 21.84375 45.5625 \r\nQ 25.390625 42.390625 31.78125 42.390625 \r\nQ 38.140625 42.390625 41.71875 45.5625 \r\nQ 45.3125 48.734375 45.3125 54.390625 \r\nQ 45.3125 60.0625 41.71875 63.234375 \r\nQ 38.140625 66.40625 31.78125 66.40625 \r\nQ 25.390625 66.40625 21.84375 63.234375 \r\nQ 18.3125 60.0625 18.3125 54.390625 \r\nz\r\n\" id=\"DejaVuSans-56\"/>\r\n       </defs>\r\n       <use xlink:href=\"#DejaVuSans-50\"/>\r\n       <use x=\"63.623047\" xlink:href=\"#DejaVuSans-48\"/>\r\n       <use x=\"127.246094\" xlink:href=\"#DejaVuSans-49\"/>\r\n       <use x=\"190.869141\" xlink:href=\"#DejaVuSans-56\"/>\r\n      </g>\r\n     </g>\r\n    </g>\r\n    <g id=\"xtick_5\">\r\n     <g id=\"line2d_5\">\r\n      <g>\r\n       <use style=\"stroke:#000000;stroke-width:0.8;\" x=\"608.625197\" xlink:href=\"#maf8795b82f\" y=\"267.118125\"/>\r\n      </g>\r\n     </g>\r\n     <g id=\"text_5\">\r\n      <!-- 2019 -->\r\n      <g transform=\"translate(585.545007 293.423565)rotate(-30)scale(0.1 -0.1)\">\r\n       <defs>\r\n        <path d=\"M 10.984375 1.515625 \r\nL 10.984375 10.5 \r\nQ 14.703125 8.734375 18.5 7.8125 \r\nQ 22.3125 6.890625 25.984375 6.890625 \r\nQ 35.75 6.890625 40.890625 13.453125 \r\nQ 46.046875 20.015625 46.78125 33.40625 \r\nQ 43.953125 29.203125 39.59375 26.953125 \r\nQ 35.25 24.703125 29.984375 24.703125 \r\nQ 19.046875 24.703125 12.671875 31.3125 \r\nQ 6.296875 37.9375 6.296875 49.421875 \r\nQ 6.296875 60.640625 12.9375 67.421875 \r\nQ 19.578125 74.21875 30.609375 74.21875 \r\nQ 43.265625 74.21875 49.921875 64.515625 \r\nQ 56.59375 54.828125 56.59375 36.375 \r\nQ 56.59375 19.140625 48.40625 8.859375 \r\nQ 40.234375 -1.421875 26.421875 -1.421875 \r\nQ 22.703125 -1.421875 18.890625 -0.6875 \r\nQ 15.09375 0.046875 10.984375 1.515625 \r\nz\r\nM 30.609375 32.421875 \r\nQ 37.25 32.421875 41.125 36.953125 \r\nQ 45.015625 41.5 45.015625 49.421875 \r\nQ 45.015625 57.28125 41.125 61.84375 \r\nQ 37.25 66.40625 30.609375 66.40625 \r\nQ 23.96875 66.40625 20.09375 61.84375 \r\nQ 16.21875 57.28125 16.21875 49.421875 \r\nQ 16.21875 41.5 20.09375 36.953125 \r\nQ 23.96875 32.421875 30.609375 32.421875 \r\nz\r\n\" id=\"DejaVuSans-57\"/>\r\n       </defs>\r\n       <use xlink:href=\"#DejaVuSans-50\"/>\r\n       <use x=\"63.623047\" xlink:href=\"#DejaVuSans-48\"/>\r\n       <use x=\"127.246094\" xlink:href=\"#DejaVuSans-49\"/>\r\n       <use x=\"190.869141\" xlink:href=\"#DejaVuSans-57\"/>\r\n      </g>\r\n     </g>\r\n    </g>\r\n    <g id=\"xtick_6\">\r\n     <g id=\"line2d_6\">\r\n      <g>\r\n       <use style=\"stroke:#000000;stroke-width:0.8;\" x=\"743.706029\" xlink:href=\"#maf8795b82f\" y=\"267.118125\"/>\r\n      </g>\r\n     </g>\r\n     <g id=\"text_6\">\r\n      <!-- 2020 -->\r\n      <g transform=\"translate(720.625838 293.423565)rotate(-30)scale(0.1 -0.1)\">\r\n       <use xlink:href=\"#DejaVuSans-50\"/>\r\n       <use x=\"63.623047\" xlink:href=\"#DejaVuSans-48\"/>\r\n       <use x=\"127.246094\" xlink:href=\"#DejaVuSans-50\"/>\r\n       <use x=\"190.869141\" xlink:href=\"#DejaVuSans-48\"/>\r\n      </g>\r\n     </g>\r\n    </g>\r\n    <g id=\"xtick_7\">\r\n     <g id=\"line2d_7\">\r\n      <g>\r\n       <use style=\"stroke:#000000;stroke-width:0.8;\" x=\"879.156945\" xlink:href=\"#maf8795b82f\" y=\"267.118125\"/>\r\n      </g>\r\n     </g>\r\n     <g id=\"text_7\">\r\n      <!-- 2021 -->\r\n      <g transform=\"translate(856.076754 293.423565)rotate(-30)scale(0.1 -0.1)\">\r\n       <use xlink:href=\"#DejaVuSans-50\"/>\r\n       <use x=\"63.623047\" xlink:href=\"#DejaVuSans-48\"/>\r\n       <use x=\"127.246094\" xlink:href=\"#DejaVuSans-50\"/>\r\n       <use x=\"190.869141\" xlink:href=\"#DejaVuSans-49\"/>\r\n      </g>\r\n     </g>\r\n    </g>\r\n    <g id=\"text_8\">\r\n     <!-- InvoiceDate -->\r\n     <g transform=\"translate(447.409375 306.823065)scale(0.1 -0.1)\">\r\n      <defs>\r\n       <path d=\"M 9.8125 72.90625 \r\nL 19.671875 72.90625 \r\nL 19.671875 0 \r\nL 9.8125 0 \r\nz\r\n\" id=\"DejaVuSans-73\"/>\r\n       <path d=\"M 54.890625 33.015625 \r\nL 54.890625 0 \r\nL 45.90625 0 \r\nL 45.90625 32.71875 \r\nQ 45.90625 40.484375 42.875 44.328125 \r\nQ 39.84375 48.1875 33.796875 48.1875 \r\nQ 26.515625 48.1875 22.3125 43.546875 \r\nQ 18.109375 38.921875 18.109375 30.90625 \r\nL 18.109375 0 \r\nL 9.078125 0 \r\nL 9.078125 54.6875 \r\nL 18.109375 54.6875 \r\nL 18.109375 46.1875 \r\nQ 21.34375 51.125 25.703125 53.5625 \r\nQ 30.078125 56 35.796875 56 \r\nQ 45.21875 56 50.046875 50.171875 \r\nQ 54.890625 44.34375 54.890625 33.015625 \r\nz\r\n\" id=\"DejaVuSans-110\"/>\r\n       <path d=\"M 2.984375 54.6875 \r\nL 12.5 54.6875 \r\nL 29.59375 8.796875 \r\nL 46.6875 54.6875 \r\nL 56.203125 54.6875 \r\nL 35.6875 0 \r\nL 23.484375 0 \r\nz\r\n\" id=\"DejaVuSans-118\"/>\r\n       <path d=\"M 30.609375 48.390625 \r\nQ 23.390625 48.390625 19.1875 42.75 \r\nQ 14.984375 37.109375 14.984375 27.296875 \r\nQ 14.984375 17.484375 19.15625 11.84375 \r\nQ 23.34375 6.203125 30.609375 6.203125 \r\nQ 37.796875 6.203125 41.984375 11.859375 \r\nQ 46.1875 17.53125 46.1875 27.296875 \r\nQ 46.1875 37.015625 41.984375 42.703125 \r\nQ 37.796875 48.390625 30.609375 48.390625 \r\nz\r\nM 30.609375 56 \r\nQ 42.328125 56 49.015625 48.375 \r\nQ 55.71875 40.765625 55.71875 27.296875 \r\nQ 55.71875 13.875 49.015625 6.21875 \r\nQ 42.328125 -1.421875 30.609375 -1.421875 \r\nQ 18.84375 -1.421875 12.171875 6.21875 \r\nQ 5.515625 13.875 5.515625 27.296875 \r\nQ 5.515625 40.765625 12.171875 48.375 \r\nQ 18.84375 56 30.609375 56 \r\nz\r\n\" id=\"DejaVuSans-111\"/>\r\n       <path d=\"M 9.421875 54.6875 \r\nL 18.40625 54.6875 \r\nL 18.40625 0 \r\nL 9.421875 0 \r\nz\r\nM 9.421875 75.984375 \r\nL 18.40625 75.984375 \r\nL 18.40625 64.59375 \r\nL 9.421875 64.59375 \r\nz\r\n\" id=\"DejaVuSans-105\"/>\r\n       <path d=\"M 48.78125 52.59375 \r\nL 48.78125 44.1875 \r\nQ 44.96875 46.296875 41.140625 47.34375 \r\nQ 37.3125 48.390625 33.40625 48.390625 \r\nQ 24.65625 48.390625 19.8125 42.84375 \r\nQ 14.984375 37.3125 14.984375 27.296875 \r\nQ 14.984375 17.28125 19.8125 11.734375 \r\nQ 24.65625 6.203125 33.40625 6.203125 \r\nQ 37.3125 6.203125 41.140625 7.25 \r\nQ 44.96875 8.296875 48.78125 10.40625 \r\nL 48.78125 2.09375 \r\nQ 45.015625 0.34375 40.984375 -0.53125 \r\nQ 36.96875 -1.421875 32.421875 -1.421875 \r\nQ 20.0625 -1.421875 12.78125 6.34375 \r\nQ 5.515625 14.109375 5.515625 27.296875 \r\nQ 5.515625 40.671875 12.859375 48.328125 \r\nQ 20.21875 56 33.015625 56 \r\nQ 37.15625 56 41.109375 55.140625 \r\nQ 45.0625 54.296875 48.78125 52.59375 \r\nz\r\n\" id=\"DejaVuSans-99\"/>\r\n       <path d=\"M 56.203125 29.59375 \r\nL 56.203125 25.203125 \r\nL 14.890625 25.203125 \r\nQ 15.484375 15.921875 20.484375 11.0625 \r\nQ 25.484375 6.203125 34.421875 6.203125 \r\nQ 39.59375 6.203125 44.453125 7.46875 \r\nQ 49.3125 8.734375 54.109375 11.28125 \r\nL 54.109375 2.78125 \r\nQ 49.265625 0.734375 44.1875 -0.34375 \r\nQ 39.109375 -1.421875 33.890625 -1.421875 \r\nQ 20.796875 -1.421875 13.15625 6.1875 \r\nQ 5.515625 13.8125 5.515625 26.8125 \r\nQ 5.515625 40.234375 12.765625 48.109375 \r\nQ 20.015625 56 32.328125 56 \r\nQ 43.359375 56 49.78125 48.890625 \r\nQ 56.203125 41.796875 56.203125 29.59375 \r\nz\r\nM 47.21875 32.234375 \r\nQ 47.125 39.59375 43.09375 43.984375 \r\nQ 39.0625 48.390625 32.421875 48.390625 \r\nQ 24.90625 48.390625 20.390625 44.140625 \r\nQ 15.875 39.890625 15.1875 32.171875 \r\nz\r\n\" id=\"DejaVuSans-101\"/>\r\n       <path d=\"M 19.671875 64.796875 \r\nL 19.671875 8.109375 \r\nL 31.59375 8.109375 \r\nQ 46.6875 8.109375 53.6875 14.9375 \r\nQ 60.6875 21.78125 60.6875 36.53125 \r\nQ 60.6875 51.171875 53.6875 57.984375 \r\nQ 46.6875 64.796875 31.59375 64.796875 \r\nz\r\nM 9.8125 72.90625 \r\nL 30.078125 72.90625 \r\nQ 51.265625 72.90625 61.171875 64.09375 \r\nQ 71.09375 55.28125 71.09375 36.53125 \r\nQ 71.09375 17.671875 61.125 8.828125 \r\nQ 51.171875 0 30.078125 0 \r\nL 9.8125 0 \r\nz\r\n\" id=\"DejaVuSans-68\"/>\r\n       <path d=\"M 34.28125 27.484375 \r\nQ 23.390625 27.484375 19.1875 25 \r\nQ 14.984375 22.515625 14.984375 16.5 \r\nQ 14.984375 11.71875 18.140625 8.90625 \r\nQ 21.296875 6.109375 26.703125 6.109375 \r\nQ 34.1875 6.109375 38.703125 11.40625 \r\nQ 43.21875 16.703125 43.21875 25.484375 \r\nL 43.21875 27.484375 \r\nz\r\nM 52.203125 31.203125 \r\nL 52.203125 0 \r\nL 43.21875 0 \r\nL 43.21875 8.296875 \r\nQ 40.140625 3.328125 35.546875 0.953125 \r\nQ 30.953125 -1.421875 24.3125 -1.421875 \r\nQ 15.921875 -1.421875 10.953125 3.296875 \r\nQ 6 8.015625 6 15.921875 \r\nQ 6 25.140625 12.171875 29.828125 \r\nQ 18.359375 34.515625 30.609375 34.515625 \r\nL 43.21875 34.515625 \r\nL 43.21875 35.40625 \r\nQ 43.21875 41.609375 39.140625 45 \r\nQ 35.0625 48.390625 27.6875 48.390625 \r\nQ 23 48.390625 18.546875 47.265625 \r\nQ 14.109375 46.140625 10.015625 43.890625 \r\nL 10.015625 52.203125 \r\nQ 14.9375 54.109375 19.578125 55.046875 \r\nQ 24.21875 56 28.609375 56 \r\nQ 40.484375 56 46.34375 49.84375 \r\nQ 52.203125 43.703125 52.203125 31.203125 \r\nz\r\n\" id=\"DejaVuSans-97\"/>\r\n       <path d=\"M 18.3125 70.21875 \r\nL 18.3125 54.6875 \r\nL 36.8125 54.6875 \r\nL 36.8125 47.703125 \r\nL 18.3125 47.703125 \r\nL 18.3125 18.015625 \r\nQ 18.3125 11.328125 20.140625 9.421875 \r\nQ 21.96875 7.515625 27.59375 7.515625 \r\nL 36.8125 7.515625 \r\nL 36.8125 0 \r\nL 27.59375 0 \r\nQ 17.1875 0 13.234375 3.875 \r\nQ 9.28125 7.765625 9.28125 18.015625 \r\nL 9.28125 47.703125 \r\nL 2.6875 47.703125 \r\nL 2.6875 54.6875 \r\nL 9.28125 54.6875 \r\nL 9.28125 70.21875 \r\nz\r\n\" id=\"DejaVuSans-116\"/>\r\n      </defs>\r\n      <use xlink:href=\"#DejaVuSans-73\"/>\r\n      <use x=\"29.492188\" xlink:href=\"#DejaVuSans-110\"/>\r\n      <use x=\"92.871094\" xlink:href=\"#DejaVuSans-118\"/>\r\n      <use x=\"152.050781\" xlink:href=\"#DejaVuSans-111\"/>\r\n      <use x=\"213.232422\" xlink:href=\"#DejaVuSans-105\"/>\r\n      <use x=\"241.015625\" xlink:href=\"#DejaVuSans-99\"/>\r\n      <use x=\"295.996094\" xlink:href=\"#DejaVuSans-101\"/>\r\n      <use x=\"357.519531\" xlink:href=\"#DejaVuSans-68\"/>\r\n      <use x=\"434.521484\" xlink:href=\"#DejaVuSans-97\"/>\r\n      <use x=\"495.800781\" xlink:href=\"#DejaVuSans-116\"/>\r\n      <use x=\"535.009766\" xlink:href=\"#DejaVuSans-101\"/>\r\n     </g>\r\n    </g>\r\n   </g>\r\n   <g id=\"matplotlib.axis_2\">\r\n    <g id=\"ytick_1\">\r\n     <g id=\"line2d_8\">\r\n      <defs>\r\n       <path d=\"M 0 0 \r\nL -3.5 0 \r\n\" id=\"m39a3093fa2\" style=\"stroke:#000000;stroke-width:0.8;\"/>\r\n      </defs>\r\n      <g>\r\n       <use style=\"stroke:#000000;stroke-width:0.8;\" x=\"58.7375\" xlink:href=\"#m39a3093fa2\" y=\"263.203162\"/>\r\n      </g>\r\n     </g>\r\n     <g id=\"text_9\">\r\n      <!-- 0 -->\r\n      <g transform=\"translate(45.375 267.002381)scale(0.1 -0.1)\">\r\n       <use xlink:href=\"#DejaVuSans-48\"/>\r\n      </g>\r\n     </g>\r\n    </g>\r\n    <g id=\"ytick_2\">\r\n     <g id=\"line2d_9\">\r\n      <g>\r\n       <use style=\"stroke:#000000;stroke-width:0.8;\" x=\"58.7375\" xlink:href=\"#m39a3093fa2\" y=\"213.117678\"/>\r\n      </g>\r\n     </g>\r\n     <g id=\"text_10\">\r\n      <!-- 500000 -->\r\n      <g transform=\"translate(13.5625 216.916897)scale(0.1 -0.1)\">\r\n       <use xlink:href=\"#DejaVuSans-53\"/>\r\n       <use x=\"63.623047\" xlink:href=\"#DejaVuSans-48\"/>\r\n       <use x=\"127.246094\" xlink:href=\"#DejaVuSans-48\"/>\r\n       <use x=\"190.869141\" xlink:href=\"#DejaVuSans-48\"/>\r\n       <use x=\"254.492188\" xlink:href=\"#DejaVuSans-48\"/>\r\n       <use x=\"318.115234\" xlink:href=\"#DejaVuSans-48\"/>\r\n      </g>\r\n     </g>\r\n    </g>\r\n    <g id=\"ytick_3\">\r\n     <g id=\"line2d_10\">\r\n      <g>\r\n       <use style=\"stroke:#000000;stroke-width:0.8;\" x=\"58.7375\" xlink:href=\"#m39a3093fa2\" y=\"163.032194\"/>\r\n      </g>\r\n     </g>\r\n     <g id=\"text_11\">\r\n      <!-- 1000000 -->\r\n      <g transform=\"translate(7.2 166.831413)scale(0.1 -0.1)\">\r\n       <use xlink:href=\"#DejaVuSans-49\"/>\r\n       <use x=\"63.623047\" xlink:href=\"#DejaVuSans-48\"/>\r\n       <use x=\"127.246094\" xlink:href=\"#DejaVuSans-48\"/>\r\n       <use x=\"190.869141\" xlink:href=\"#DejaVuSans-48\"/>\r\n       <use x=\"254.492188\" xlink:href=\"#DejaVuSans-48\"/>\r\n       <use x=\"318.115234\" xlink:href=\"#DejaVuSans-48\"/>\r\n       <use x=\"381.738281\" xlink:href=\"#DejaVuSans-48\"/>\r\n      </g>\r\n     </g>\r\n    </g>\r\n    <g id=\"ytick_4\">\r\n     <g id=\"line2d_11\">\r\n      <g>\r\n       <use style=\"stroke:#000000;stroke-width:0.8;\" x=\"58.7375\" xlink:href=\"#m39a3093fa2\" y=\"112.94671\"/>\r\n      </g>\r\n     </g>\r\n     <g id=\"text_12\">\r\n      <!-- 1500000 -->\r\n      <g transform=\"translate(7.2 116.745929)scale(0.1 -0.1)\">\r\n       <use xlink:href=\"#DejaVuSans-49\"/>\r\n       <use x=\"63.623047\" xlink:href=\"#DejaVuSans-53\"/>\r\n       <use x=\"127.246094\" xlink:href=\"#DejaVuSans-48\"/>\r\n       <use x=\"190.869141\" xlink:href=\"#DejaVuSans-48\"/>\r\n       <use x=\"254.492188\" xlink:href=\"#DejaVuSans-48\"/>\r\n       <use x=\"318.115234\" xlink:href=\"#DejaVuSans-48\"/>\r\n       <use x=\"381.738281\" xlink:href=\"#DejaVuSans-48\"/>\r\n      </g>\r\n     </g>\r\n    </g>\r\n    <g id=\"ytick_5\">\r\n     <g id=\"line2d_12\">\r\n      <g>\r\n       <use style=\"stroke:#000000;stroke-width:0.8;\" x=\"58.7375\" xlink:href=\"#m39a3093fa2\" y=\"62.861226\"/>\r\n      </g>\r\n     </g>\r\n     <g id=\"text_13\">\r\n      <!-- 2000000 -->\r\n      <g transform=\"translate(7.2 66.660445)scale(0.1 -0.1)\">\r\n       <use xlink:href=\"#DejaVuSans-50\"/>\r\n       <use x=\"63.623047\" xlink:href=\"#DejaVuSans-48\"/>\r\n       <use x=\"127.246094\" xlink:href=\"#DejaVuSans-48\"/>\r\n       <use x=\"190.869141\" xlink:href=\"#DejaVuSans-48\"/>\r\n       <use x=\"254.492188\" xlink:href=\"#DejaVuSans-48\"/>\r\n       <use x=\"318.115234\" xlink:href=\"#DejaVuSans-48\"/>\r\n       <use x=\"381.738281\" xlink:href=\"#DejaVuSans-48\"/>\r\n      </g>\r\n     </g>\r\n    </g>\r\n   </g>\r\n   <g id=\"line2d_13\">\r\n    <path clip-path=\"url(#pa19ed3503b)\" d=\"M 96.782955 255.990852 \r\nL 122.318783 255.640254 \r\nL 131.940979 255.289655 \r\nL 133.051233 254.638544 \r\nL 171.169933 254.563416 \r\nL 175.610947 254.222835 \r\nL 178.571622 251.418048 \r\nL 194.870759 249.795278 \r\nL 195.240844 243.083823 \r\nL 197.461351 242.733225 \r\nL 204.86304 242.582968 \r\nL 206.713462 242.365931 \r\nL 206.713462 241.931856 \r\nL 207.083547 241.581258 \r\nL 222.627095 241.355873 \r\nL 230.383448 241.005274 \r\nL 233.714209 240.46936 \r\nL 233.714209 239.698043 \r\nL 251.108179 239.597872 \r\nL 251.478263 239.247274 \r\nL 251.478263 237.724675 \r\nL 254.438939 236.77806 \r\nL 256.289361 236.702931 \r\nL 257.02953 236.352333 \r\nL 261.840628 236.202077 \r\nL 262.580797 235.956658 \r\nL 262.580797 235.390692 \r\nL 263.691051 230.382143 \r\nL 264.43122 229.01481 \r\nL 266.281642 228.939681 \r\nL 266.281642 228.589083 \r\nL 279.234598 228.413784 \r\nL 279.234598 228.063185 \r\nL 289.967048 227.637459 \r\nL 289.967048 226.861134 \r\nL 292.187555 226.710877 \r\nL 296.258484 226.560621 \r\nL 298.478991 221.552073 \r\nL 303.660173 220.750705 \r\nL 308.101187 220.600448 \r\nL 308.101187 220.049508 \r\nL 315.502876 218.962653 \r\nL 322.179817 218.486841 \r\nL 326.620831 218.336584 \r\nL 326.620831 217.585302 \r\nL 340.313956 217.510174 \r\nL 352.896828 217.009419 \r\nL 355.487419 216.55865 \r\nL 357.337842 216.408394 \r\nL 373.236054 216.183009 \r\nL 376.19673 215.251419 \r\nL 376.19673 214.90082 \r\nL 378.047152 214.825692 \r\nL 381.377912 214.562243 \r\nL 385.448841 214.487114 \r\nL 385.818926 212.909422 \r\nL 386.929179 212.834293 \r\nL 386.929179 211.527062 \r\nL 388.779602 211.176464 \r\nL 390.630024 211.026207 \r\nL 391.000108 209.974412 \r\nL 396.551375 209.523643 \r\nL 396.92146 208.622104 \r\nL 399.141967 207.470138 \r\nL 399.141967 207.169625 \r\nL 399.512051 207.094497 \r\nL 399.512051 202.085949 \r\nL 400.992389 201.635179 \r\nL 408.764163 201.560051 \r\nL 410.244501 200.971046 \r\nL 410.244501 200.795747 \r\nL 414.31543 200.044464 \r\nL 419.126528 199.413387 \r\nL 420.236781 198.151233 \r\nL 424.307711 197.520156 \r\nL 425.04788 196.993257 \r\nL 426.898302 196.843 \r\nL 428.37864 196.466357 \r\nL 430.229062 196.391229 \r\nL 430.229062 196.040631 \r\nL 432.449569 195.113048 \r\nL 438.000836 194.937748 \r\nL 438.000836 194.687321 \r\nL 438.741005 194.51703 \r\nL 443.182019 194.366774 \r\nL 443.182019 193.114637 \r\nL 445.402525 192.914295 \r\nL 447.623032 190.284807 \r\nL 447.993117 190.209679 \r\nL 453.18972 189.768926 \r\nL 456.890564 189.117815 \r\nL 458.000818 188.767217 \r\nL 460.961493 188.61696 \r\nL 463.182 188.166191 \r\nL 476.134957 188.015934 \r\nM 479.465717 187.990892 \r\nL 479.465717 187.715422 \r\nL 482.426393 187.364823 \r\nL 495.379349 187.09937 \r\nL 500.175027 186.348088 \r\nL 502.025449 186.27296 \r\nL 502.025449 181.264411 \r\nL 503.505787 180.64235 \r\nL 506.096379 180.492093 \r\nL 508.68697 179.941153 \r\nL 510.167308 179.790896 \r\nL 510.537392 179.212409 \r\nL 510.907477 179.022084 \r\nL 513.868152 178.971999 \r\nL 515.718575 177.394306 \r\nL 515.718575 176.46522 \r\nL 517.939082 176.415135 \r\nL 517.939082 176.104605 \r\nL 518.309166 175.804092 \r\nL 520.159588 175.77404 \r\nL 523.490349 175.206071 \r\nL 523.490349 174.574994 \r\nL 528.301447 174.424738 \r\nL 528.301447 173.973968 \r\nL 529.4117 173.688481 \r\nL 529.4117 173.187626 \r\nL 532.002291 172.837028 \r\nL 536.073221 172.560556 \r\nL 540.884319 171.929479 \r\nL 543.844995 171.779222 \r\nL 548.656093 171.418607 \r\nL 549.766346 170.68235 \r\nL 559.388542 170.33075 \r\nL 560.128711 170.160459 \r\nL 560.128711 169.809861 \r\nL 561.609049 169.509348 \r\nL 562.349218 168.758066 \r\nL 569.380823 168.417485 \r\nL 571.971414 167.696254 \r\nL 573.451752 167.170356 \r\nL 573.451752 166.970014 \r\nL 580.113273 166.819758 \r\nL 580.113273 166.318903 \r\nL 591.601311 165.988339 \r\nL 592.711565 165.70786 \r\nL 593.081649 165.480472 \r\nL 596.042325 164.819343 \r\nL 598.262832 163.917805 \r\nL 599.373085 163.767548 \r\nL 609.73545 163.69242 \r\nL 611.585873 163.271702 \r\nL 618.617478 162.820933 \r\nL 618.987562 162.645633 \r\nL 619.357647 161.959462 \r\nL 621.948238 161.834249 \r\nL 621.948238 161.48365 \r\nL 629.720012 161.383479 \r\nL 630.460181 156.374931 \r\nL 643.397717 156.074418 \r\nL 644.878055 155.673734 \r\nL 645.248139 154.937477 \r\nL 647.098562 154.727118 \r\nL 653.760082 154.626947 \r\nL 658.201096 154.025922 \r\nL 658.201096 153.08181 \r\nL 658.57118 152.696152 \r\nL 660.421603 152.595981 \r\nL 661.531856 151.699451 \r\nL 663.382278 151.398938 \r\nL 663.382278 151.198596 \r\nL 671.524137 150.552493 \r\nL 673.004475 150.191878 \r\nL 673.374559 149.973505 \r\nL 673.374559 149.237249 \r\nL 675.595066 149.137078 \r\nL 675.595066 148.435881 \r\nL 678.185657 148.21851 \r\nL 678.185657 146.21509 \r\nL 682.626671 146.114919 \r\nL 684.107009 145.788362 \r\nL 690.02836 145.713234 \r\nL 694.099289 145.512892 \r\nL 695.209543 145.262465 \r\nL 699.650556 144.991001 \r\nL 699.650556 144.835736 \r\nL 701.500979 144.68548 \r\nL 701.500979 144.334881 \r\nL 702.611232 144.214676 \r\nL 705.571908 144.026355 \r\nL 705.571908 143.90615 \r\nL 707.052246 143.754891 \r\nL 707.792415 143.529507 \r\nL 709.642837 142.928481 \r\nL 709.642837 142.778225 \r\nL 710.012922 142.627968 \r\nL 713.343682 141.125404 \r\nM 717.044527 139.522668 \r\nL 717.414611 139.422497 \r\nL 721.115456 139.323328 \r\nL 721.115456 139.122986 \r\nL 725.57189 138.83249 \r\nL 727.422312 138.76237 \r\nL 727.422312 138.637157 \r\nL 727.792396 138.386729 \r\nL 728.162481 138.361687 \r\nL 736.304339 138.191396 \r\nL 736.304339 138.166353 \r\nL 737.784677 137.915926 \r\nL 748.147042 137.615413 \r\nL 748.147042 137.149618 \r\nL 748.517127 137.024404 \r\nL 753.328225 136.89919 \r\nL 753.698309 136.773977 \r\nL 764.430759 136.7289 \r\nL 767.391435 136.493498 \r\nL 767.761519 136.320202 \r\nL 769.226437 136.289149 \r\nL 769.966606 135.688123 \r\nL 771.817028 135.587952 \r\nL 771.817028 135.412653 \r\nL 772.187113 135.020784 \r\nL 772.927282 134.908092 \r\nL 772.927282 133.593348 \r\nL 774.037535 133.100207 \r\nL 774.777704 132.699523 \r\nL 774.777704 130.581107 \r\nL 775.147788 130.51229 \r\nL 775.147788 129.690387 \r\nL 775.517873 129.507074 \r\nL 776.628126 129.464501 \r\nL 776.628126 129.038073 \r\nL 776.998211 129.028056 \r\nL 776.998211 128.861171 \r\nL 777.368295 128.786043 \r\nL 777.368295 128.623265 \r\nL 779.218718 128.076332 \r\nL 779.588802 127.798358 \r\nL 779.588802 127.660622 \r\nL 779.958887 122.448727 \r\nL 780.328971 122.38612 \r\nL 780.328971 121.180563 \r\nL 782.549478 120.920118 \r\nL 782.549478 120.64741 \r\nL 783.289647 120.55976 \r\nL 783.289647 120.209162 \r\nL 784.3999 120.048888 \r\nL 784.769985 119.52299 \r\nL 784.769985 117.920255 \r\nL 785.140069 117.867465 \r\nL 785.510154 117.604516 \r\nL 785.510154 117.45426 \r\nL 786.990491 117.183798 \r\nL 786.990491 116.933371 \r\nL 787.73066 114.779695 \r\nL 788.100745 114.679524 \r\nL 788.470829 114.381415 \r\nL 788.470829 114.175163 \r\nL 790.321252 113.073282 \r\nL 792.541759 112.372086 \r\nL 792.911843 112.071573 \r\nL 792.911843 111.881248 \r\nL 795.13235 111.605778 \r\nL 796.242603 111.255179 \r\nL 799.943448 110.87453 \r\nL 799.943448 110.393709 \r\nL 800.313532 110.306059 \r\nL 800.313532 110.043111 \r\nL 800.683617 109.291828 \r\nL 801.053701 108.841059 \r\nL 801.053701 108.089777 \r\nL 802.534039 107.685086 \r\nL 803.644293 106.432949 \r\nL 803.644293 105.571854 \r\nL 804.014377 105.371512 \r\nL 805.124631 105.191205 \r\nL 805.494715 104.790521 \r\nL 805.494715 103.726204 \r\nL 806.234884 103.660091 \r\nL 807.715222 103.557015 \r\nL 807.715222 103.106246 \r\nL 808.825475 102.150582 \r\nL 808.825475 101.499471 \r\nL 809.19556 101.293239 \r\nL 809.19556 101.042811 \r\nL 810.305813 100.792384 \r\nL 810.305813 100.63211 \r\nL 810.675898 100.181341 \r\nL 811.045982 100.08117 \r\nL 811.416066 99.8057 \r\nL 813.636573 99.540247 \r\nL 813.636573 98.966768 \r\nL 814.006658 98.866597 \r\nL 814.376742 98.641212 \r\nL 815.85708 98.455896 \r\nL 815.85708 98.205469 \r\nL 816.227165 97.955041 \r\nL 816.227165 97.4622 \r\nL 816.597249 97.261858 \r\nL 816.597249 96.84114 \r\nL 816.967334 96.675858 \r\nL 818.447671 96.633686 \r\nL 818.447671 96.513481 \r\nL 818.817756 96.438353 \r\nL 819.18784 95.965345 \r\nL 819.18784 94.963636 \r\nL 820.668178 94.262439 \r\nL 821.408347 93.611327 \r\nL 821.408347 93.3609 \r\nL 821.778432 93.213649 \r\nL 821.778432 92.532486 \r\nL 822.148516 92.479896 \r\nL 822.148516 91.953999 \r\nL 823.25877 91.753657 \r\nL 823.25877 90.693347 \r\nL 823.998938 90.543091 \r\nL 823.998938 90.192492 \r\nL 824.369023 90.017193 \r\nL 824.369023 89.54639 \r\nL 824.739107 89.491296 \r\nL 824.739107 89.230851 \r\nL 825.849361 89.030509 \r\nL 825.849361 88.617304 \r\nL 826.219445 88.543377 \r\nL 826.219445 88.168988 \r\nL 826.58953 87.261238 \r\nL 826.58953 86.399768 \r\nL 826.959614 86.269546 \r\nL 826.959614 83.627537 \r\nL 828.439952 83.432203 \r\nL 828.439952 82.15903 \r\nL 829.180121 81.990743 \r\nL 829.180121 80.141086 \r\nL 829.550206 79.890659 \r\nL 829.550206 78.83085 \r\nL 831.030543 78.37387 \r\nL 831.030543 77.622588 \r\nL 831.400628 77.415234 \r\nL 831.400628 73.393169 \r\nL 832.510881 72.732041 \r\nL 832.510881 71.765391 \r\nL 833.991219 71.715305 \r\nL 833.991219 66.419767 \r\nL 836.58181 66.248645 \r\nL 836.58181 58.838788 \r\nL 837.692064 58.787451 \r\nL 837.692064 56.73084 \r\nL 838.062148 56.442849 \r\nL 838.062148 56.017122 \r\nL 838.432233 55.906433 \r\nL 838.432233 54.446441 \r\nL 839.912571 53.658897 \r\nL 839.912571 53.571248 \r\nL 840.282655 53.120478 \r\nL 840.282655 52.594581 \r\nL 841.392909 52.030618 \r\nL 841.392909 51.744129 \r\nL 841.762993 51.65648 \r\nL 842.503162 51.330924 \r\nL 842.503162 50.627223 \r\nL 844.723669 50.066266 \r\nL 845.093753 49.931035 \r\nL 845.093753 49.516327 \r\nL 845.463838 49.476259 \r\nL 845.463838 49.175746 \r\nL 847.31426 49.040515 \r\nL 847.31426 45.73337 \r\nL 848.054429 43.304224 \r\nL 849.534767 43.204053 \r\nL 849.534767 42.613045 \r\nL 850.274936 42.162275 \r\nL 850.274936 41.997995 \r\nL 850.64502 41.346884 \r\nL 850.64502 40.407781 \r\nL 851.755274 40.316625 \r\nL 851.755274 40.066198 \r\nL 852.125358 39.99107 \r\nL 852.125358 38.383125 \r\nL 852.865527 37.829681 \r\nL 855.086034 37.733316 \r\nL 855.826203 37.396141 \r\nL 856.951877 37.346055 \r\nL 856.951877 34.115542 \r\nL 857.321961 34.041415 \r\nL 857.692045 33.871124 \r\nL 857.692045 33.445398 \r\nL 857.692045 33.445398 \r\n\" style=\"fill:none;stroke:#1f77b4;stroke-linecap:square;stroke-width:1.5;\"/>\r\n   </g>\r\n   <g id=\"patch_3\">\r\n    <path d=\"M 58.7375 267.118125 \r\nL 58.7375 22.318125 \r\n\" style=\"fill:none;stroke:#000000;stroke-linecap:square;stroke-linejoin:miter;stroke-width:0.8;\"/>\r\n   </g>\r\n   <g id=\"patch_4\">\r\n    <path d=\"M 895.7375 267.118125 \r\nL 895.7375 22.318125 \r\n\" style=\"fill:none;stroke:#000000;stroke-linecap:square;stroke-linejoin:miter;stroke-width:0.8;\"/>\r\n   </g>\r\n   <g id=\"patch_5\">\r\n    <path d=\"M 58.7375 267.118125 \r\nL 895.7375 267.118125 \r\n\" style=\"fill:none;stroke:#000000;stroke-linecap:square;stroke-linejoin:miter;stroke-width:0.8;\"/>\r\n   </g>\r\n   <g id=\"patch_6\">\r\n    <path d=\"M 58.7375 22.318125 \r\nL 895.7375 22.318125 \r\n\" style=\"fill:none;stroke:#000000;stroke-linecap:square;stroke-linejoin:miter;stroke-width:0.8;\"/>\r\n   </g>\r\n   <g id=\"text_14\">\r\n    <!-- Cumulative Invoices over Time -->\r\n    <g transform=\"translate(384.632187 16.318125)scale(0.12 -0.12)\">\r\n     <defs>\r\n      <path d=\"M 64.40625 67.28125 \r\nL 64.40625 56.890625 \r\nQ 59.421875 61.53125 53.78125 63.8125 \r\nQ 48.140625 66.109375 41.796875 66.109375 \r\nQ 29.296875 66.109375 22.65625 58.46875 \r\nQ 16.015625 50.828125 16.015625 36.375 \r\nQ 16.015625 21.96875 22.65625 14.328125 \r\nQ 29.296875 6.6875 41.796875 6.6875 \r\nQ 48.140625 6.6875 53.78125 8.984375 \r\nQ 59.421875 11.28125 64.40625 15.921875 \r\nL 64.40625 5.609375 \r\nQ 59.234375 2.09375 53.4375 0.328125 \r\nQ 47.65625 -1.421875 41.21875 -1.421875 \r\nQ 24.65625 -1.421875 15.125 8.703125 \r\nQ 5.609375 18.84375 5.609375 36.375 \r\nQ 5.609375 53.953125 15.125 64.078125 \r\nQ 24.65625 74.21875 41.21875 74.21875 \r\nQ 47.75 74.21875 53.53125 72.484375 \r\nQ 59.328125 70.75 64.40625 67.28125 \r\nz\r\n\" id=\"DejaVuSans-67\"/>\r\n      <path d=\"M 8.5 21.578125 \r\nL 8.5 54.6875 \r\nL 17.484375 54.6875 \r\nL 17.484375 21.921875 \r\nQ 17.484375 14.15625 20.5 10.265625 \r\nQ 23.53125 6.390625 29.59375 6.390625 \r\nQ 36.859375 6.390625 41.078125 11.03125 \r\nQ 45.3125 15.671875 45.3125 23.6875 \r\nL 45.3125 54.6875 \r\nL 54.296875 54.6875 \r\nL 54.296875 0 \r\nL 45.3125 0 \r\nL 45.3125 8.40625 \r\nQ 42.046875 3.421875 37.71875 1 \r\nQ 33.40625 -1.421875 27.6875 -1.421875 \r\nQ 18.265625 -1.421875 13.375 4.4375 \r\nQ 8.5 10.296875 8.5 21.578125 \r\nz\r\nM 31.109375 56 \r\nz\r\n\" id=\"DejaVuSans-117\"/>\r\n      <path d=\"M 52 44.1875 \r\nQ 55.375 50.25 60.0625 53.125 \r\nQ 64.75 56 71.09375 56 \r\nQ 79.640625 56 84.28125 50.015625 \r\nQ 88.921875 44.046875 88.921875 33.015625 \r\nL 88.921875 0 \r\nL 79.890625 0 \r\nL 79.890625 32.71875 \r\nQ 79.890625 40.578125 77.09375 44.375 \r\nQ 74.3125 48.1875 68.609375 48.1875 \r\nQ 61.625 48.1875 57.5625 43.546875 \r\nQ 53.515625 38.921875 53.515625 30.90625 \r\nL 53.515625 0 \r\nL 44.484375 0 \r\nL 44.484375 32.71875 \r\nQ 44.484375 40.625 41.703125 44.40625 \r\nQ 38.921875 48.1875 33.109375 48.1875 \r\nQ 26.21875 48.1875 22.15625 43.53125 \r\nQ 18.109375 38.875 18.109375 30.90625 \r\nL 18.109375 0 \r\nL 9.078125 0 \r\nL 9.078125 54.6875 \r\nL 18.109375 54.6875 \r\nL 18.109375 46.1875 \r\nQ 21.1875 51.21875 25.484375 53.609375 \r\nQ 29.78125 56 35.6875 56 \r\nQ 41.65625 56 45.828125 52.96875 \r\nQ 50 49.953125 52 44.1875 \r\nz\r\n\" id=\"DejaVuSans-109\"/>\r\n      <path d=\"M 9.421875 75.984375 \r\nL 18.40625 75.984375 \r\nL 18.40625 0 \r\nL 9.421875 0 \r\nz\r\n\" id=\"DejaVuSans-108\"/>\r\n      <path id=\"DejaVuSans-32\"/>\r\n      <path d=\"M 44.28125 53.078125 \r\nL 44.28125 44.578125 \r\nQ 40.484375 46.53125 36.375 47.5 \r\nQ 32.28125 48.484375 27.875 48.484375 \r\nQ 21.1875 48.484375 17.84375 46.4375 \r\nQ 14.5 44.390625 14.5 40.28125 \r\nQ 14.5 37.15625 16.890625 35.375 \r\nQ 19.28125 33.59375 26.515625 31.984375 \r\nL 29.59375 31.296875 \r\nQ 39.15625 29.25 43.1875 25.515625 \r\nQ 47.21875 21.78125 47.21875 15.09375 \r\nQ 47.21875 7.46875 41.1875 3.015625 \r\nQ 35.15625 -1.421875 24.609375 -1.421875 \r\nQ 20.21875 -1.421875 15.453125 -0.5625 \r\nQ 10.6875 0.296875 5.421875 2 \r\nL 5.421875 11.28125 \r\nQ 10.40625 8.6875 15.234375 7.390625 \r\nQ 20.0625 6.109375 24.8125 6.109375 \r\nQ 31.15625 6.109375 34.5625 8.28125 \r\nQ 37.984375 10.453125 37.984375 14.40625 \r\nQ 37.984375 18.0625 35.515625 20.015625 \r\nQ 33.0625 21.96875 24.703125 23.78125 \r\nL 21.578125 24.515625 \r\nQ 13.234375 26.265625 9.515625 29.90625 \r\nQ 5.8125 33.546875 5.8125 39.890625 \r\nQ 5.8125 47.609375 11.28125 51.796875 \r\nQ 16.75 56 26.8125 56 \r\nQ 31.78125 56 36.171875 55.265625 \r\nQ 40.578125 54.546875 44.28125 53.078125 \r\nz\r\n\" id=\"DejaVuSans-115\"/>\r\n      <path d=\"M 41.109375 46.296875 \r\nQ 39.59375 47.171875 37.8125 47.578125 \r\nQ 36.03125 48 33.890625 48 \r\nQ 26.265625 48 22.1875 43.046875 \r\nQ 18.109375 38.09375 18.109375 28.8125 \r\nL 18.109375 0 \r\nL 9.078125 0 \r\nL 9.078125 54.6875 \r\nL 18.109375 54.6875 \r\nL 18.109375 46.1875 \r\nQ 20.953125 51.171875 25.484375 53.578125 \r\nQ 30.03125 56 36.53125 56 \r\nQ 37.453125 56 38.578125 55.875 \r\nQ 39.703125 55.765625 41.0625 55.515625 \r\nz\r\n\" id=\"DejaVuSans-114\"/>\r\n      <path d=\"M -0.296875 72.90625 \r\nL 61.375 72.90625 \r\nL 61.375 64.59375 \r\nL 35.5 64.59375 \r\nL 35.5 0 \r\nL 25.59375 0 \r\nL 25.59375 64.59375 \r\nL -0.296875 64.59375 \r\nz\r\n\" id=\"DejaVuSans-84\"/>\r\n     </defs>\r\n     <use xlink:href=\"#DejaVuSans-67\"/>\r\n     <use x=\"69.824219\" xlink:href=\"#DejaVuSans-117\"/>\r\n     <use x=\"133.203125\" xlink:href=\"#DejaVuSans-109\"/>\r\n     <use x=\"230.615234\" xlink:href=\"#DejaVuSans-117\"/>\r\n     <use x=\"293.994141\" xlink:href=\"#DejaVuSans-108\"/>\r\n     <use x=\"321.777344\" xlink:href=\"#DejaVuSans-97\"/>\r\n     <use x=\"383.056641\" xlink:href=\"#DejaVuSans-116\"/>\r\n     <use x=\"422.265625\" xlink:href=\"#DejaVuSans-105\"/>\r\n     <use x=\"450.048828\" xlink:href=\"#DejaVuSans-118\"/>\r\n     <use x=\"509.228516\" xlink:href=\"#DejaVuSans-101\"/>\r\n     <use x=\"570.751953\" xlink:href=\"#DejaVuSans-32\"/>\r\n     <use x=\"602.539062\" xlink:href=\"#DejaVuSans-73\"/>\r\n     <use x=\"632.03125\" xlink:href=\"#DejaVuSans-110\"/>\r\n     <use x=\"695.410156\" xlink:href=\"#DejaVuSans-118\"/>\r\n     <use x=\"754.589844\" xlink:href=\"#DejaVuSans-111\"/>\r\n     <use x=\"815.771484\" xlink:href=\"#DejaVuSans-105\"/>\r\n     <use x=\"843.554688\" xlink:href=\"#DejaVuSans-99\"/>\r\n     <use x=\"898.535156\" xlink:href=\"#DejaVuSans-101\"/>\r\n     <use x=\"960.058594\" xlink:href=\"#DejaVuSans-115\"/>\r\n     <use x=\"1012.158203\" xlink:href=\"#DejaVuSans-32\"/>\r\n     <use x=\"1043.945312\" xlink:href=\"#DejaVuSans-111\"/>\r\n     <use x=\"1105.126953\" xlink:href=\"#DejaVuSans-118\"/>\r\n     <use x=\"1164.306641\" xlink:href=\"#DejaVuSans-101\"/>\r\n     <use x=\"1225.830078\" xlink:href=\"#DejaVuSans-114\"/>\r\n     <use x=\"1266.943359\" xlink:href=\"#DejaVuSans-32\"/>\r\n     <use x=\"1298.730469\" xlink:href=\"#DejaVuSans-84\"/>\r\n     <use x=\"1356.689453\" xlink:href=\"#DejaVuSans-105\"/>\r\n     <use x=\"1384.472656\" xlink:href=\"#DejaVuSans-109\"/>\r\n     <use x=\"1481.884766\" xlink:href=\"#DejaVuSans-101\"/>\r\n    </g>\r\n   </g>\r\n  </g>\r\n </g>\r\n <defs>\r\n  <clipPath id=\"pa19ed3503b\">\r\n   <rect height=\"244.8\" width=\"837\" x=\"58.7375\" y=\"22.318125\"/>\r\n  </clipPath>\r\n </defs>\r\n</svg>\r\n",
      "image/png": "[encoded data removed]"
     },
     "metadata": {
      "needs_background": "light"
     }
    }
   ],
   "source": [
    "ax = invoice_data_by_invoice_date[\"InvoiceAmount\"].cumsum().plot.line(y=\"InvoiceAmount\", figsize=(15, 5), title=\"Cumulative Invoices over Time\")\n",
    "ax.yaxis.set_major_formatter(FormatStrFormatter(\"%d\"))\n",
    "ax"
   ]
  },
  {
   "cell_type": "code",
   "execution_count": 10,
   "metadata": {},
   "outputs": [
    {
     "output_type": "display_data",
     "data": {},
     "metadata": {}
    },
    {
     "output_type": "execute_result",
     "data": {
      "text/html": "<div id='2281'>\n\n\n\n\n\n  <div class=\"bk-root\" id=\"c0483e9f-4747-4f9d-913f-c8d3ca4efca3\" data-root-id=\"2281\"></div>\n</div>\n<script type=\"application/javascript\">(function(root) {\n  function embed_document(root) {\n    var docs_json = {\"8be1bc77-8f70-4fc9-b7af-9ac691adb5e3\":{\"roots\":{\"references\":[{\"attributes\":{},\"id\":\"2324\",\"type\":\"CategoricalTickFormatter\"},{\"attributes\":{\"text\":\"Total Invoices per Month (2020)\",\"text_color\":{\"value\":\"black\"},\"text_font_size\":{\"value\":\"12pt\"}},\"id\":\"2287\",\"type\":\"Title\"},{\"attributes\":{\"below\":[{\"id\":\"2295\"}],\"center\":[{\"id\":\"2297\"},{\"id\":\"2301\"}],\"left\":[{\"id\":\"2298\"}],\"margin\":[5,5,5,5],\"min_border_bottom\":10,\"min_border_left\":10,\"min_border_right\":10,\"min_border_top\":10,\"plot_height\":300,\"plot_width\":700,\"renderers\":[{\"id\":\"2321\"}],\"sizing_mode\":\"fixed\",\"title\":{\"id\":\"2287\"},\"toolbar\":{\"id\":\"2308\"},\"x_range\":{\"id\":\"2283\"},\"x_scale\":{\"id\":\"2291\"},\"y_range\":{\"id\":\"2284\"},\"y_scale\":{\"id\":\"2293\"}},\"id\":\"2286\",\"subtype\":\"Figure\",\"type\":\"Plot\"},{\"attributes\":{},\"id\":\"2326\",\"type\":\"BasicTickFormatter\"},{\"attributes\":{\"callback\":null,\"renderers\":[{\"id\":\"2321\"}],\"tags\":[\"hv_created\"],\"tooltips\":[[\"ServiceStart_Month\",\"@{ServiceStart_Month}\"],[\"InvoiceAmount\",\"@{InvoiceAmount}\"]]},\"id\":\"2285\",\"type\":\"HoverTool\"},{\"attributes\":{},\"id\":\"2291\",\"type\":\"CategoricalScale\"},{\"attributes\":{\"data\":{\"InvoiceAmount\":{\"__ndarray__\":\"AAAAAAC6w0AAAAAAAP/EQAAAAAAIYPNAmpmZmWl560AAAAAA4JjwQAAAAACgyOxAAAAAAJQk/kAK16NwXOYTQaRwPQqNQwJBAAAAADhnAUEAAAAAwNbSQAAAAAAAlKFA\",\"dtype\":\"float64\",\"order\":\"little\",\"shape\":[12]},\"ServiceStart_Month\":[\"1\",\"2\",\"3\",\"4\",\"5\",\"6\",\"7\",\"8\",\"9\",\"10\",\"11\",\"12\"]},\"selected\":{\"id\":\"2316\"},\"selection_policy\":{\"id\":\"2333\"}},\"id\":\"2315\",\"type\":\"ColumnDataSource\"},{\"attributes\":{\"axis\":{\"id\":\"2295\"},\"grid_line_color\":null,\"ticker\":null},\"id\":\"2297\",\"type\":\"Grid\"},{\"attributes\":{},\"id\":\"2296\",\"type\":\"CategoricalTicker\"},{\"attributes\":{\"axis_label\":\"Month\",\"bounds\":\"auto\",\"formatter\":{\"id\":\"2324\"},\"major_label_orientation\":\"horizontal\",\"ticker\":{\"id\":\"2296\"}},\"id\":\"2295\",\"type\":\"CategoricalAxis\"},{\"attributes\":{\"children\":[{\"id\":\"2282\"},{\"id\":\"2286\"},{\"id\":\"2343\"}],\"margin\":[0,0,0,0],\"name\":\"Row03320\",\"tags\":[\"embedded\"]},\"id\":\"2281\",\"type\":\"Row\"},{\"attributes\":{\"axis\":{\"id\":\"2298\"},\"dimension\":1,\"grid_line_color\":null,\"ticker\":null},\"id\":\"2301\",\"type\":\"Grid\"},{\"attributes\":{},\"id\":\"2303\",\"type\":\"PanTool\"},{\"attributes\":{},\"id\":\"2293\",\"type\":\"LinearScale\"},{\"attributes\":{\"axis_label\":\"Invoice Amount ($)\",\"bounds\":\"auto\",\"formatter\":{\"id\":\"2326\"},\"major_label_orientation\":\"horizontal\",\"ticker\":{\"id\":\"2299\"}},\"id\":\"2298\",\"type\":\"LinearAxis\"},{\"attributes\":{},\"id\":\"2299\",\"type\":\"BasicTicker\"},{\"attributes\":{\"factors\":[\"1\",\"2\",\"3\",\"4\",\"5\",\"6\",\"7\",\"8\",\"9\",\"10\",\"11\",\"12\"],\"tags\":[[[\"ServiceStart_Month\",\"ServiceStart_Month\",null]]]},\"id\":\"2283\",\"type\":\"FactorRange\"},{\"attributes\":{},\"id\":\"2304\",\"type\":\"WheelZoomTool\"},{\"attributes\":{},\"id\":\"2302\",\"type\":\"SaveTool\"},{\"attributes\":{\"overlay\":{\"id\":\"2307\"}},\"id\":\"2305\",\"type\":\"BoxZoomTool\"},{\"attributes\":{},\"id\":\"2306\",\"type\":\"ResetTool\"},{\"attributes\":{\"fill_alpha\":{\"value\":0.1},\"fill_color\":{\"value\":\"#1f77b3\"},\"line_alpha\":{\"value\":0.1},\"top\":{\"field\":\"InvoiceAmount\"},\"width\":{\"value\":0.8},\"x\":{\"field\":\"ServiceStart_Month\"}},\"id\":\"2319\",\"type\":\"VBar\"},{\"attributes\":{\"active_drag\":\"auto\",\"active_inspect\":\"auto\",\"active_multi\":null,\"active_scroll\":\"auto\",\"active_tap\":\"auto\",\"tools\":[{\"id\":\"2285\"},{\"id\":\"2302\"},{\"id\":\"2303\"},{\"id\":\"2304\"},{\"id\":\"2305\"},{\"id\":\"2306\"}]},\"id\":\"2308\",\"type\":\"Toolbar\"},{\"attributes\":{},\"id\":\"2316\",\"type\":\"Selection\"},{\"attributes\":{\"fill_color\":{\"value\":\"#1f77b3\"},\"top\":{\"field\":\"InvoiceAmount\"},\"width\":{\"value\":0.8},\"x\":{\"field\":\"ServiceStart_Month\"}},\"id\":\"2318\",\"type\":\"VBar\"},{\"attributes\":{\"fill_alpha\":{\"value\":0.2},\"fill_color\":{\"value\":\"#1f77b3\"},\"line_alpha\":{\"value\":0.2},\"top\":{\"field\":\"InvoiceAmount\"},\"width\":{\"value\":0.8},\"x\":{\"field\":\"ServiceStart_Month\"}},\"id\":\"2320\",\"type\":\"VBar\"},{\"attributes\":{\"end\":358418.021,\"reset_end\":358418.021,\"reset_start\":0.0,\"tags\":[[[\"InvoiceAmount\",\"InvoiceAmount\",null]]]},\"id\":\"2284\",\"type\":\"Range1d\"},{\"attributes\":{\"source\":{\"id\":\"2315\"}},\"id\":\"2322\",\"type\":\"CDSView\"},{\"attributes\":{\"margin\":[5,5,5,5],\"name\":\"HSpacer03324\",\"sizing_mode\":\"stretch_width\"},\"id\":\"2282\",\"type\":\"Spacer\"},{\"attributes\":{},\"id\":\"2333\",\"type\":\"UnionRenderers\"},{\"attributes\":{\"bottom_units\":\"screen\",\"fill_alpha\":0.5,\"fill_color\":\"lightgrey\",\"left_units\":\"screen\",\"level\":\"overlay\",\"line_alpha\":1.0,\"line_color\":\"black\",\"line_dash\":[4,4],\"line_width\":2,\"right_units\":\"screen\",\"top_units\":\"screen\"},\"id\":\"2307\",\"type\":\"BoxAnnotation\"},{\"attributes\":{\"margin\":[5,5,5,5],\"name\":\"HSpacer03325\",\"sizing_mode\":\"stretch_width\"},\"id\":\"2343\",\"type\":\"Spacer\"},{\"attributes\":{\"data_source\":{\"id\":\"2315\"},\"glyph\":{\"id\":\"2318\"},\"hover_glyph\":null,\"muted_glyph\":{\"id\":\"2320\"},\"nonselection_glyph\":{\"id\":\"2319\"},\"selection_glyph\":null,\"view\":{\"id\":\"2322\"}},\"id\":\"2321\",\"type\":\"GlyphRenderer\"}],\"root_ids\":[\"2281\"]},\"title\":\"Bokeh Application\",\"version\":\"2.2.3\"}};\n    var render_items = [{\"docid\":\"8be1bc77-8f70-4fc9-b7af-9ac691adb5e3\",\"root_ids\":[\"2281\"],\"roots\":{\"2281\":\"c0483e9f-4747-4f9d-913f-c8d3ca4efca3\"}}];\n    root.Bokeh.embed.embed_items_notebook(docs_json, render_items);\n  }\n  if (root.Bokeh !== undefined && root.Bokeh.Panel !== undefined) {\n    embed_document(root);\n  } else {\n    var attempts = 0;\n    var timer = setInterval(function(root) {\n      if (root.Bokeh !== undefined && root.Bokeh.Panel !== undefined) {\n        clearInterval(timer);\n        embed_document(root);\n      } else if (document.readyState == \"complete\") {\n        attempts++;\n        if (attempts > 100) {\n          clearInterval(timer);\n          console.log(\"Bokeh: ERROR: Unable to run BokehJS code because BokehJS library is missing\");\n        }\n      }\n    }, 10, root)\n  }\n})(window);</script>",
      "application/vnd.holoviews_exec.v0+json": "",
      "text/plain": [
       ":Bars   [ServiceStart_Month]   (InvoiceAmount)"
      ]
     },
     "metadata": {
      "application/vnd.holoviews_exec.v0+json": {
       "id": "2281"
      }
     },
     "execution_count": 10
    }
   ],
   "source": [
    "invoice_data_by_customer[invoice_data_by_customer[\"ServiceStart_Year\"] == 2020].groupby(\"ServiceStart_Month\").sum().reset_index().hvplot.bar(\n",
    "    x=\"ServiceStart_Month\", y=\"InvoiceAmount\",\n",
    "    title=\"Total Invoices per Month (2020)\", xlabel=\"Month\", ylabel=\"Invoice Amount ($)\",\n",
    "    figsize=(15, 5), rot=0)\n"
   ]
  },
  {
   "cell_type": "code",
   "execution_count": null,
   "metadata": {},
   "outputs": [],
   "source": []
  },
  {
   "cell_type": "code",
   "execution_count": 11,
   "metadata": {},
   "outputs": [
    {
     "output_type": "error",
     "ename": "NameError",
     "evalue": "name 'atlas_ymq' is not defined",
     "traceback": [
      "\u001b[1;31m---------------------------------------------------------------------------\u001b[0m",
      "\u001b[1;31mNameError\u001b[0m                                 Traceback (most recent call last)",
      "\u001b[1;32m<ipython-input-11-58d624784dc7>\u001b[0m in \u001b[0;36m<module>\u001b[1;34m\u001b[0m\n\u001b[0;32m      1\u001b[0m \u001b[1;31m# Invoice amounts per year\u001b[0m\u001b[1;33m\u001b[0m\u001b[1;33m\u001b[0m\u001b[1;33m\u001b[0m\u001b[0m\n\u001b[1;32m----> 2\u001b[1;33m invoices_per_year = atlas_ymq.groupby(\"Year\").sum().reset_index().hvplot.bar(\n\u001b[0m\u001b[0;32m      3\u001b[0m     \u001b[0mx\u001b[0m\u001b[1;33m=\u001b[0m\u001b[1;34m\"Year\"\u001b[0m\u001b[1;33m,\u001b[0m \u001b[0my\u001b[0m\u001b[1;33m=\u001b[0m\u001b[1;34m\"Invoice Amount\"\u001b[0m\u001b[1;33m,\u001b[0m\u001b[1;33m\u001b[0m\u001b[1;33m\u001b[0m\u001b[0m\n\u001b[0;32m      4\u001b[0m     \u001b[0mtitle\u001b[0m\u001b[1;33m=\u001b[0m\u001b[1;34m\"Total Invoices per Year\"\u001b[0m\u001b[1;33m,\u001b[0m \u001b[0mxlabel\u001b[0m\u001b[1;33m=\u001b[0m\u001b[1;34m\"Year\"\u001b[0m\u001b[1;33m,\u001b[0m \u001b[0mylabel\u001b[0m\u001b[1;33m=\u001b[0m\u001b[1;34m\"Invoice Amount ($)\"\u001b[0m\u001b[1;33m,\u001b[0m\u001b[1;33m\u001b[0m\u001b[1;33m\u001b[0m\u001b[0m\n\u001b[0;32m      5\u001b[0m     figsize=(15, 5), rot=0)\n",
      "\u001b[1;31mNameError\u001b[0m: name 'atlas_ymq' is not defined"
     ]
    }
   ],
   "source": [
    "# Invoice amounts per year\n",
    "invoices_per_year = atlas_ymq.groupby(\"Year\").sum().reset_index().hvplot.bar(\n",
    "    x=\"Year\", y=\"Invoice Amount\",\n",
    "    title=\"Total Invoices per Year\", xlabel=\"Year\", ylabel=\"Invoice Amount ($)\",\n",
    "    figsize=(15, 5), rot=0)\n",
    "\n",
    "# Invoice amounts per month\n",
    "invoices_per_month = atlas_ymq.groupby(\"Monthly\").sum().reset_index().hvplot.bar(\n",
    "    x=\"Monthly\", y=\"Invoice Amount\",\n",
    "    title=\"Total Invoices per Month (2015 - 2020)\", xlabel=\"Month\", ylabel=\"Invoice Amount ($)\",\n",
    "    figsize=(15, 5), rot=0)\n",
    "\n",
    "invoices_per_month_2015 = atlas_ymq[atlas_ymq[\"Year\"] == 2015].groupby(\"Monthly\").sum().reset_index().hvplot.bar(\n",
    "    x=\"Monthly\", y=\"Invoice Amount\",\n",
    "    title=\"Total Invoices per Month (2015)\", xlabel=\"Month\", ylabel=\"Invoice Amount ($)\",\n",
    "    figsize=(15, 5), rot=0)\n",
    "invoices_per_month_2016 = atlas_ymq[atlas_ymq[\"Year\"] == 2016].groupby(\"Monthly\").sum().reset_index().hvplot.bar(\n",
    "    x=\"Monthly\", y=\"Invoice Amount\",\n",
    "    title=\"Total Invoices per Month (2016)\", xlabel=\"Month\", ylabel=\"Invoice Amount ($)\",\n",
    "    figsize=(15, 5), rot=0)\n",
    "invoices_per_month_2017 = atlas_ymq[atlas_ymq[\"Year\"] == 2017].groupby(\"Monthly\").sum().reset_index().hvplot.bar(\n",
    "    x=\"Monthly\", y=\"Invoice Amount\",\n",
    "    title=\"Total Invoices per Month (2017)\", xlabel=\"Month\", ylabel=\"Invoice Amount ($)\",\n",
    "    figsize=(15, 5), rot=0)\n",
    "invoices_per_month_2018 = atlas_ymq[atlas_ymq[\"Year\"] == 2018].groupby(\"Monthly\").sum().reset_index().hvplot.bar(\n",
    "    x=\"Monthly\", y=\"Invoice Amount\",\n",
    "    title=\"Total Invoices per Month (2018)\", xlabel=\"Month\", ylabel=\"Invoice Amount ($)\",\n",
    "    figsize=(15, 5), rot=0)\n",
    "invoices_per_month_2019 = atlas_ymq[atlas_ymq[\"Year\"] == 2019].groupby(\"Monthly\").sum().reset_index().hvplot.bar(\n",
    "    x=\"Monthly\", y=\"Invoice Amount\",\n",
    "    title=\"Total Invoices per Month (2019)\", xlabel=\"Month\", ylabel=\"Invoice Amount ($)\",\n",
    "    figsize=(15, 5), rot=0)\n",
    "invoices_per_month_2020 = atlas_ymq[atlas_ymq[\"Year\"] == 2020].groupby(\"Monthly\").sum().reset_index().hvplot.bar(\n",
    "    x=\"Monthly\", y=\"Invoice Amount\",\n",
    "    title=\"Total Invoices per Month (2020)\", xlabel=\"Month\", ylabel=\"Invoice Amount ($)\",\n",
    "    figsize=(15, 5), rot=0)\n",
    "\n",
    "\n",
    "\n",
    "\n",
    "# # Invoice amounts per month\n",
    "# number_of_invoices_per_month = atlas_ymq.groupby(\"Monthly\").sum().reset_index().hvplot.bar(\n",
    "#     x=\"Monthly\", y=\"Invoice Amount\",\n",
    "#     title=\"Total Invoices per Month\", xlabel=\"Month\", ylabel=\"Invoice Amount ($)\",\n",
    "#     figsize=(15, 5), rot=0)\n",
    "\n",
    "# Show plots\n",
    "pn.Column(\n",
    "    invoices_per_year,\n",
    "    invoices_per_month,\n",
    "    invoices_per_month_2015,\n",
    "    invoices_per_month_2016,\n",
    "    invoices_per_month_2017,\n",
    "    invoices_per_month_2018,\n",
    "    invoices_per_month_2019,\n",
    "    invoices_per_month_2020,\n",
    "    # number_of_invoices_per_month\n",
    "    )\n",
    "\n",
    "# TODO Make drop-down to filter by year in the monthly plot."
   ]
  },
  {
   "cell_type": "code",
   "execution_count": null,
   "metadata": {},
   "outputs": [],
   "source": []
  },
  {
   "cell_type": "code",
   "execution_count": null,
   "metadata": {},
   "outputs": [],
   "source": []
  },
  {
   "cell_type": "code",
   "execution_count": null,
   "metadata": {},
   "outputs": [],
   "source": []
  },
  {
   "cell_type": "code",
   "execution_count": null,
   "metadata": {},
   "outputs": [],
   "source": []
  },
  {
   "cell_type": "code",
   "execution_count": null,
   "metadata": {},
   "outputs": [],
   "source": []
  },
  {
   "cell_type": "code",
   "execution_count": null,
   "metadata": {},
   "outputs": [],
   "source": [
    "# TODO (Jonathan's requests):\n",
    "# - Response time from marketing inital contact to when college recieves first payment\n",
    "# - \n",
    "\n",
    "# - What can be done to incrase those with very low subscriptions to more? (Jacinta)\n"
   ]
  },
  {
   "cell_type": "code",
   "execution_count": null,
   "metadata": {},
   "outputs": [],
   "source": [
    "# Display average customer amount invoiced per year, month, or day\n",
    "atlas_ymq.groupby([\"Monthly\"]).mean().plot.pie(x=\"Customers\", y=\"Invoice Amount\", figsize=(8, 8))\n",
    "\n",
    "# TODO change to invoice counts per month:  atlas.groupby(\"Subscription\").count()"
   ]
  },
  {
   "cell_type": "code",
   "execution_count": null,
   "metadata": {},
   "outputs": [],
   "source": [
    "forecast.head()"
   ]
  },
  {
   "cell_type": "code",
   "execution_count": null,
   "metadata": {},
   "outputs": [],
   "source": [
    "forecast.groupby([\"Mailing State/Province\"]).mean().plot.pie(x=\"Mailing State/Province\", y=\"Subscription Fee\", figsize=(8, 8))"
   ]
  },
  {
   "cell_type": "code",
   "execution_count": null,
   "metadata": {},
   "outputs": [],
   "source": [
    "forecast.plot.line(x=\"Contract Start Date\", y=\"Subscription Fee\", figsize=(15, 5), title=\"Subscription Fee over Time\")"
   ]
  },
  {
   "cell_type": "code",
   "execution_count": null,
   "metadata": {},
   "outputs": [],
   "source": [
    "# Display average customer amount invoiced per year, month, or day\n",
    "forecast_ymq.groupby([\"Quarterly\"]).mean().plot.pie(x=\"Quarterly\", y=\"Subscription Fee\", figsize=(8, 8))"
   ]
  },
  {
   "cell_type": "code",
   "execution_count": null,
   "metadata": {},
   "outputs": [],
   "source": [
    "forecast_ymq.groupby([\"Monthly\"]).mean().plot.pie(x=\"Monthly\", y=\"Subscription Fee\", figsize=(8, 8))"
   ]
  },
  {
   "cell_type": "code",
   "execution_count": null,
   "metadata": {},
   "outputs": [],
   "source": [
    "forecast_ymq.groupby([\"Monthly\"]).mean().reset_index().plot.bar(x=\"Monthly\", y=\"Subscription Fee\", figsize=(8, 8))"
   ]
  },
  {
   "cell_type": "code",
   "execution_count": null,
   "metadata": {},
   "outputs": [],
   "source": [
    "revenue2020.head()"
   ]
  },
  {
   "cell_type": "code",
   "execution_count": null,
   "metadata": {},
   "outputs": [],
   "source": [
    "revenue2020.groupby([\"Month\"]).mean().reset_index().plot.bar(x=\"Month\", y=\"Total\", figsize=(8, 8))"
   ]
  },
  {
   "cell_type": "code",
   "execution_count": null,
   "metadata": {},
   "outputs": [],
   "source": [
    "revenue2020A.head()"
   ]
  },
  {
   "cell_type": "code",
   "execution_count": null,
   "metadata": {},
   "outputs": [],
   "source": [
    "# Display average customer amount invoiced per year, month, or day\n",
    "revenue2020A_ymq.groupby([\"Monthly\"]).mean().plot.pie(x=\"Monthly\", y=\"Invoice Amount\", figsize=(10, 10))"
   ]
  },
  {
   "cell_type": "code",
   "execution_count": null,
   "metadata": {},
   "outputs": [],
   "source": []
  }
 ],
 "metadata": {
  "kernelspec": {
   "display_name": "pyvizenv",
   "language": "python",
   "name": "pyvizenv"
  },
  "language_info": {
   "codemirror_mode": {
    "name": "ipython",
    "version": 3
   },
   "file_extension": ".py",
   "mimetype": "text/x-python",
   "name": "python",
   "nbconvert_exporter": "python",
   "pygments_lexer": "ipython3",
   "version": "3.8.3-final"
  }
 },
 "nbformat": 4,
 "nbformat_minor": 4
}