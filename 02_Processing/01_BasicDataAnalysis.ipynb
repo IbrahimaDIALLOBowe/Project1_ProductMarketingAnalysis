{
 "cells": [
  {
   "cell_type": "code",
   "execution_count": 20,
   "metadata": {},
   "outputs": [],
   "source": [
    "# System imports\n",
    "import os\n",
    "import pandas as pd\n",
    "import matplotlib.pyplot as plt\n",
    "import plotly.express as px\n",
    "import hvplot.pandas\n",
    "import panel as pn\n",
    "from pathlib import Path\n",
    "from dotenv import load_dotenv\n",
    "from panel.interact import interact\n",
    "from panel import widgets\n",
    "from string import digits\n",
    "import csv\n",
    "import json\n",
    "import numpy as np\n",
    "import dateparser\n",
    "\n",
    "pn.extension()\n",
    "\n",
    "%matplotlib inline"
   ]
  },
  {
   "cell_type": "code",
   "execution_count": 21,
   "metadata": {},
   "outputs": [],
   "source": [
    "# Local imports\n",
    "import sys\n",
    "sys.path.append(\"../lib2\")\n",
    "\n",
    "from Constants import Constants\n",
    "from ProcessingTools import DateProcessingTools"
   ]
  },
  {
   "cell_type": "code",
   "execution_count": 22,
   "metadata": {},
   "outputs": [],
   "source": [
    "# Construct the tools\n",
    "debug_level = 0\n",
    "constants = Constants()\n",
    "tool_data_processing = DateProcessingTools(debug_level)\n"
   ]
  },
  {
   "cell_type": "code",
   "execution_count": 23,
   "metadata": {},
   "outputs": [],
   "source": [
    "# Import all preprocessed data\n",
    "atlas           = pd.read_pickle(constants.PREPROCESSED_ATLAS_FILE_PATH)\n",
    "forecast        = pd.read_pickle(constants.PREPROCESSED_FORECAST_DATA_FILE_PATH)\n",
    "revenue2020     = pd.read_pickle(constants.PREPROCESSED_REVENUE2020_FILE_PATH)\n",
    "revenue2020A    = pd.read_pickle(constants.PREPROCESSED_REVENUE2020A_FILE_PATH)\n",
    "atlas2          = pd.read_pickle(constants.PREPROCESSED_ATLAS_2_FILE_PATH)\n"
   ]
  },
  {
   "cell_type": "code",
   "execution_count": null,
   "metadata": {},
   "outputs": [],
   "source": [
    "atlas.head()"
   ]
  },
  {
   "cell_type": "code",
   "execution_count": null,
   "metadata": {},
   "outputs": [],
   "source": [
    "atlas.plot.line(x=\"Service Start\", y=\"Invoice Amount\", figsize=(15, 5), title=\"Invoice Amount over Time\")"
   ]
  },
  {
   "cell_type": "code",
   "execution_count": null,
   "metadata": {},
   "outputs": [],
   "source": [
    "atlas.groupby([\"Subscription\"]).mean().plot.pie(x=\"Customers\", y=\"Invoice Amount\", figsize=(8, 8))"
   ]
  },
  {
   "cell_type": "code",
   "execution_count": null,
   "metadata": {},
   "outputs": [],
   "source": [
    "# Extract y/m/q for service start\n",
    "atlas_ymq = tool_data_processing.extract_and_append_year_month_quarter(atlas, \"Service Start\")\n",
    "\n",
    "# Display average customer amount invoiced per year, month, or day\n",
    "atlas_ymq.groupby([\"Monthly\"]).mean().plot.pie(x=\"Customers\", y=\"Invoice Amount\", figsize=(8, 8))"
   ]
  },
  {
   "cell_type": "code",
   "execution_count": null,
   "metadata": {},
   "outputs": [],
   "source": [
    "forecast.head()"
   ]
  },
  {
   "cell_type": "code",
   "execution_count": null,
   "metadata": {},
   "outputs": [],
   "source": [
    "forecast.groupby([\"Mailing State/Province\"]).mean().plot.pie(x=\"Mailing State/Province\", y=\"Subscription Fee\", figsize=(8, 8))"
   ]
  },
  {
   "cell_type": "code",
   "execution_count": null,
   "metadata": {},
   "outputs": [],
   "source": [
    "forecast.plot.line(x=\"Contract Start Date\", y=\"Subscription Fee\", figsize=(15, 5), title=\"Subscription Fee over Time\")"
   ]
  },
  {
   "cell_type": "code",
   "execution_count": null,
   "metadata": {},
   "outputs": [],
   "source": [
    "# Extract y/m/q for service start\n",
    "forecast_ymq = tool_data_processing.extract_and_append_year_month_quarter(forecast, \"Contract Start Date\")\n",
    "\n",
    "# Display average customer amount invoiced per year, month, or day\n",
    "forecast_ymq.groupby([\"Quarterly\"]).mean().plot.pie(x=\"Quarterly\", y=\"Subscription Fee\", figsize=(8, 8))"
   ]
  },
  {
   "cell_type": "code",
   "execution_count": null,
   "metadata": {},
   "outputs": [],
   "source": [
    "forecast_ymq.groupby([\"Monthly\"]).mean().plot.pie(x=\"Monthly\", y=\"Subscription Fee\", figsize=(8, 8))"
   ]
  },
  {
   "cell_type": "code",
   "execution_count": null,
   "metadata": {},
   "outputs": [],
   "source": [
    "forecast_ymq.groupby([\"Monthly\"]).mean().reset_index().plot.bar(x=\"Monthly\", y=\"Subscription Fee\", figsize=(8, 8))"
   ]
  },
  {
   "cell_type": "code",
   "execution_count": null,
   "metadata": {},
   "outputs": [],
   "source": [
    "revenue2020.head()"
   ]
  },
  {
   "cell_type": "code",
   "execution_count": null,
   "metadata": {},
   "outputs": [],
   "source": [
    "revenue2020.groupby([\"Month\"]).mean().reset_index().plot.bar(x=\"Month\", y=\"Total\", figsize=(8, 8))"
   ]
  },
  {
   "cell_type": "code",
   "execution_count": null,
   "metadata": {},
   "outputs": [],
   "source": [
    "revenue2020A.head()"
   ]
  },
  {
   "cell_type": "code",
   "execution_count": null,
   "metadata": {},
   "outputs": [],
   "source": [
    "revenue2020A.plot.line(x=\"Service Start\", y=\"Invoice Amount\", figsize=(15, 5), title=\"Invoice Amount over Time\")"
   ]
  },
  {
   "cell_type": "code",
   "execution_count": null,
   "metadata": {},
   "outputs": [],
   "source": [
    "# Extract y/m/q for service start\n",
    "revenue2020A_ymq = tool_data_processing.extract_and_append_year_month_quarter(revenue2020A, \"Service Start\")\n",
    "\n",
    "# Display average customer amount invoiced per year, month, or day\n",
    "revenue2020A_ymq.groupby([\"Monthly\"]).mean().plot.pie(x=\"Monthly\", y=\"Invoice Amount\", figsize=(8, 8))"
   ]
  }
 ],
 "metadata": {
  "kernelspec": {
   "display_name": "Python [conda env:pyvizenv] *",
   "language": "python",
   "name": "conda-env-pyvizenv-py"
  },
  "language_info": {
   "codemirror_mode": {
    "name": "ipython",
    "version": 3
   },
   "file_extension": ".py",
   "mimetype": "text/x-python",
   "name": "python",
   "nbconvert_exporter": "python",
   "pygments_lexer": "ipython3",
   "version": "3.8.3"
  }
 },
 "nbformat": 4,
 "nbformat_minor": 4
}
