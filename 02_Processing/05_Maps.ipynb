{
 "cells": [
  {
   "cell_type": "code",
   "execution_count": 10,
   "metadata": {},
   "outputs": [],
   "source": [
    "# System imports\n",
    "import os\n",
    "import pandas as pd\n",
    "import matplotlib.pyplot as plt\n",
    "import plotly.express as px\n",
    "import hvplot.pandas\n",
    "import panel as pn\n",
    "from pathlib import Path\n",
    "from dotenv import load_dotenv\n",
    "from panel.interact import interact\n",
    "from panel import widgets\n",
    "from string import digits\n",
    "import csv\n",
    "import json\n",
    "import numpy as np\n",
    "import dateparser\n",
    "import panel as pn\n",
    "\n",
    "pn.extension()\n",
    "\n",
    "%matplotlib inline\n"
   ]
  },
  {
   "cell_type": "code",
   "execution_count": 11,
   "metadata": {},
   "outputs": [],
   "source": [
    "# Local imports\n",
    "import sys\n",
    "sys.path.append(\"../lib2\")\n",
    "\n",
    "from Constants import Constants\n",
    "from ProcessingTools import DateProcessingTools\n"
   ]
  },
  {
   "cell_type": "code",
   "execution_count": 12,
   "metadata": {},
   "outputs": [],
   "source": [
    "# Construct the tools\n",
    "debug_level = 0\n",
    "constants = Constants()\n",
    "tool_data_processing = DateProcessingTools(debug_level)\n"
   ]
  },
  {
   "cell_type": "code",
   "execution_count": 13,
   "metadata": {},
   "outputs": [],
   "source": [
    "# Import all preprocessed data\n",
    "atlas           = pd.read_pickle(constants.PREPROCESSED_ATLAS_FILE_PATH)\n",
    "forecast        = pd.read_pickle(constants.PREPROCESSED_FORECAST_DATA_FILE_PATH)\n",
    "revenue2020     = pd.read_pickle(constants.PREPROCESSED_REVENUE2020_FILE_PATH)\n",
    "revenue2020A    = pd.read_pickle(constants.PREPROCESSED_REVENUE2020A_FILE_PATH)\n"
   ]
  },
  {
   "cell_type": "code",
   "execution_count": 14,
   "metadata": {},
   "outputs": [
    {
     "output_type": "execute_result",
     "data": {
      "text/plain": "                                              ID  Number of Users  \\\nCustomers                                                           \nAlabama A&M University-College of Education    1            246.0   \nAlbertus Magnus College                        2            267.0   \nAlbuquerque Public Schools                     3             77.0   \nAlcorn State University                        4             20.0   \nAlderson Broaddus University                   5             50.0   \n...                                          ...              ...   \nWinthrop University                          403            375.0   \nWinthrop University                          403            100.0   \nYakima Valley College                        404             56.0   \nYoung Harris College/Miller Library          405             60.0   \nYoung Harris College/Miller Library          405             50.0   \n\n                                                         Invoice Date  \\\nCustomers                                                               \nAlabama A&M University-College of Education 2018-03-23 00:00:00-04:00   \nAlbertus Magnus College                     2018-05-16 00:00:00-04:00   \nAlbuquerque Public Schools                  2018-11-20 00:00:00-05:00   \nAlcorn State University                     2017-10-31 00:00:00-04:00   \nAlderson Broaddus University                2020-10-07 00:00:00-04:00   \n...                                                               ...   \nWinthrop University                         2020-09-08 00:00:00-04:00   \nWinthrop University                         2020-10-13 00:00:00-04:00   \nYakima Valley College                       2020-09-21 00:00:00-04:00   \nYoung Harris College/Miller Library         2018-11-28 00:00:00-05:00   \nYoung Harris College/Miller Library         2019-11-05 00:00:00-05:00   \n\n                                             Invoice #  Year      Month  \\\nCustomers                                                                 \nAlabama A&M University-College of Education        105  2018      March   \nAlbertus Magnus College                            127  2018        May   \nAlbuquerque Public Schools                         161  2018   November   \nAlcorn State University                            NaN  2017    October   \nAlderson Broaddus University                 NB100820K  2020    October   \n...                                                ...   ...        ...   \nWinthrop University                          NB090820S  2020  September   \nWinthrop University                          NB101320C  2020    October   \nYakima Valley College                        NB092120A  2020  September   \nYoung Harris College/Miller Library                162  2018   November   \nYoung Harris College/Miller Library                236  2019   November   \n\n                                             Invoice Amount Subscription  \\\nCustomers                                                                  \nAlabama A&M University-College of Education          5460.0      3 Years   \nAlbertus Magnus College                              5670.0      3 Years   \nAlbuquerque Public Schools                           2270.0       1 Year   \nAlcorn State University                              1700.0       1 Year   \nAlderson Broaddus University                          500.0     3 Months   \n...                                                     ...          ...   \nWinthrop University                                   937.5     3 Months   \nWinthrop University                                  1000.0       1 Year   \nYakima Valley College                                1030.0     6 Months   \nYoung Harris College/Miller Library                  2100.0       1 Year   \nYoung Harris College/Miller Library                  1250.0       1 Year   \n\n                                            2021 Prediction  Lost Customer  \\\nCustomers                                                                    \nAlabama A&M University-College of Education      $1,820.00             NaN   \nAlbertus Magnus College                          $1,890.00             NaN   \nAlbuquerque Public Schools                              NaN         2019.0   \nAlcorn State University                                 NaN         2018.0   \nAlderson Broaddus University                       $500.00             NaN   \n...                                                     ...            ...   \nWinthrop University                                     NaN            NaN   \nWinthrop University                              $1,000.00             NaN   \nYakima Valley College                            $1,030.00             NaN   \nYoung Harris College/Miller Library                     NaN            NaN   \nYoung Harris College/Miller Library                     NaN         2020.0   \n\n                                            Customers Status  \\\nCustomers                                                      \nAlabama A&M University-College of Education              New   \nAlbertus Magnus College                                  New   \nAlbuquerque Public Schools                               New   \nAlcorn State University                                  New   \nAlderson Broaddus University                             New   \n...                                                      ...   \nWinthrop University                                Returning   \nWinthrop University                                Returning   \nYakima Valley College                                    New   \nYoung Harris College/Miller Library                      New   \nYoung Harris College/Miller Library                Returning   \n\n                                                       Account Code   \\\nCustomers                                                              \nAlabama A&M University-College of Education  4700-0-00-00000-00-0000   \nAlbertus Magnus College                      4700-0-00-00000-00-0000   \nAlbuquerque Public Schools                   4700-0-00-00000-00-0000   \nAlcorn State University                      4700-0-00-00000-00-0000   \nAlderson Broaddus University                 4700-0-00-00000-00-0000   \n...                                                              ...   \nWinthrop University                          4700-0-00-00000-00-0000   \nWinthrop University                          4700-0-00-00000-00-0000   \nYakima Valley College                        4700-0-00-00000-00-0000   \nYoung Harris College/Miller Library          4700-0-00-00000-00-0000   \nYoung Harris College/Miller Library          4700-0-00-00000-00-0000   \n\n                                                                              Address  \\\nCustomers                                                                               \nAlabama A&M University-College of Education  4900 Meridian St N, Huntsville, AL 35811   \nAlbertus Magnus College                          700 Prospect St, New Haven, CT 06511   \nAlbuquerque Public Schools                         Po Box 25704 Albuquerque, NM 87125   \nAlcorn State University                                 1000 Asu Dr, Lorman, MS 39096   \nAlderson Broaddus University                  101 College Hill Rd, Philippi, WV 26416   \n...                                                                               ...   \nWinthrop University                              701 Oakland Ave, Rock Hill, SC 29730   \nWinthrop University                              701 Oakland Ave, Rock Hill, SC 29730   \nYakima Valley College                            PO Box 22520, Yakima, WA  99807-2520   \nYoung Harris College/Miller Library           1 College Street Young Harris, GA 30582   \nYoung Harris College/Miller Library           1 College Street Young Harris, GA 30582   \n\n                                            State        Lat        Long  \\\nCustomers                                                                  \nAlabama A&M University-College of Education    AL  34.785061  -86.573280   \nAlbertus Magnus College                        CT  41.331299  -72.921440   \nAlbuquerque Public Schools                     NM  35.092410 -106.642950   \nAlcorn State University                        MS  31.875710  -91.141739   \nAlderson Broaddus University                   WV  39.160261  -80.049048   \n...                                           ...        ...         ...   \nWinthrop University                            SC  34.938466  -81.029872   \nWinthrop University                            SC  34.938466  -81.029872   \nYakima Valley College                          WA -35.001338  117.875053   \nYoung Harris College/Miller Library            GA  34.934079  -83.846801   \nYoung Harris College/Miller Library            GA  34.934079  -83.846801   \n\n                                                        Service Start  \\\nCustomers                                                               \nAlabama A&M University-College of Education 2018-03-21 00:00:00-04:00   \nAlbertus Magnus College                     2018-09-01 00:00:00-04:00   \nAlbuquerque Public Schools                  2018-11-19 00:00:00-05:00   \nAlcorn State University                     2017-08-31 00:00:00-04:00   \nAlderson Broaddus University                2020-10-02 00:00:00-04:00   \n...                                                               ...   \nWinthrop University                         2020-09-01 00:00:00-04:00   \nWinthrop University                         2020-09-30 00:00:00-04:00   \nYakima Valley College                       2020-09-18 00:00:00-04:00   \nYoung Harris College/Miller Library         2018-11-27 00:00:00-05:00   \nYoung Harris College/Miller Library         2019-11-30 00:00:00-05:00   \n\n                                                          Service End  \\\nCustomers                                                               \nAlabama A&M University-College of Education 2021-03-31 00:00:00-04:00   \nAlbertus Magnus College                     2021-08-31 00:00:00-04:00   \nAlbuquerque Public Schools                  2019-11-30 00:00:00-05:00   \nAlcorn State University                     2018-08-31 00:00:00-04:00   \nAlderson Broaddus University                2020-12-31 00:00:00-05:00   \n...                                                               ...   \nWinthrop University                         2020-11-30 00:00:00-05:00   \nWinthrop University                         2021-09-30 00:00:00-04:00   \nYakima Valley College                       2021-03-18 00:00:00-04:00   \nYoung Harris College/Miller Library         2019-11-30 00:00:00-05:00   \nYoung Harris College/Miller Library         2020-11-30 00:00:00-05:00   \n\n                                            Subscription Duration  \nCustomers                                                          \nAlabama A&M University-College of Education             1095 days  \nAlbertus Magnus College                                 1095 days  \nAlbuquerque Public Schools                               365 days  \nAlcorn State University                                  365 days  \nAlderson Broaddus University                              90 days  \n...                                                           ...  \nWinthrop University                                       90 days  \nWinthrop University                                      365 days  \nYakima Valley College                                    180 days  \nYoung Harris College/Miller Library                      365 days  \nYoung Harris College/Miller Library                      365 days  \n\n[764 rows x 19 columns]",
      "text/html": "<div>\n<style scoped>\n    .dataframe tbody tr th:only-of-type {\n        vertical-align: middle;\n    }\n\n    .dataframe tbody tr th {\n        vertical-align: top;\n    }\n\n    .dataframe thead th {\n        text-align: right;\n    }\n</style>\n<table border=\"1\" class=\"dataframe\">\n  <thead>\n    <tr style=\"text-align: right;\">\n      <th></th>\n      <th>ID</th>\n      <th>Number of Users</th>\n      <th>Invoice Date</th>\n      <th>Invoice #</th>\n      <th>Year</th>\n      <th>Month</th>\n      <th>Invoice Amount</th>\n      <th>Subscription</th>\n      <th>2021 Prediction</th>\n      <th>Lost Customer</th>\n      <th>Customers Status</th>\n      <th>Account Code</th>\n      <th>Address</th>\n      <th>State</th>\n      <th>Lat</th>\n      <th>Long</th>\n      <th>Service Start</th>\n      <th>Service End</th>\n      <th>Subscription Duration</th>\n    </tr>\n    <tr>\n      <th>Customers</th>\n      <th></th>\n      <th></th>\n      <th></th>\n      <th></th>\n      <th></th>\n      <th></th>\n      <th></th>\n      <th></th>\n      <th></th>\n      <th></th>\n      <th></th>\n      <th></th>\n      <th></th>\n      <th></th>\n      <th></th>\n      <th></th>\n      <th></th>\n      <th></th>\n      <th></th>\n    </tr>\n  </thead>\n  <tbody>\n    <tr>\n      <th>Alabama A&amp;M University-College of Education</th>\n      <td>1</td>\n      <td>246.0</td>\n      <td>2018-03-23 00:00:00-04:00</td>\n      <td>105</td>\n      <td>2018</td>\n      <td>March</td>\n      <td>5460.0</td>\n      <td>3 Years</td>\n      <td>$1,820.00</td>\n      <td>NaN</td>\n      <td>New</td>\n      <td>4700-0-00-00000-00-0000</td>\n      <td>4900 Meridian St N, Huntsville, AL 35811</td>\n      <td>AL</td>\n      <td>34.785061</td>\n      <td>-86.573280</td>\n      <td>2018-03-21 00:00:00-04:00</td>\n      <td>2021-03-31 00:00:00-04:00</td>\n      <td>1095 days</td>\n    </tr>\n    <tr>\n      <th>Albertus Magnus College</th>\n      <td>2</td>\n      <td>267.0</td>\n      <td>2018-05-16 00:00:00-04:00</td>\n      <td>127</td>\n      <td>2018</td>\n      <td>May</td>\n      <td>5670.0</td>\n      <td>3 Years</td>\n      <td>$1,890.00</td>\n      <td>NaN</td>\n      <td>New</td>\n      <td>4700-0-00-00000-00-0000</td>\n      <td>700 Prospect St, New Haven, CT 06511</td>\n      <td>CT</td>\n      <td>41.331299</td>\n      <td>-72.921440</td>\n      <td>2018-09-01 00:00:00-04:00</td>\n      <td>2021-08-31 00:00:00-04:00</td>\n      <td>1095 days</td>\n    </tr>\n    <tr>\n      <th>Albuquerque Public Schools</th>\n      <td>3</td>\n      <td>77.0</td>\n      <td>2018-11-20 00:00:00-05:00</td>\n      <td>161</td>\n      <td>2018</td>\n      <td>November</td>\n      <td>2270.0</td>\n      <td>1 Year</td>\n      <td>NaN</td>\n      <td>2019.0</td>\n      <td>New</td>\n      <td>4700-0-00-00000-00-0000</td>\n      <td>Po Box 25704 Albuquerque, NM 87125</td>\n      <td>NM</td>\n      <td>35.092410</td>\n      <td>-106.642950</td>\n      <td>2018-11-19 00:00:00-05:00</td>\n      <td>2019-11-30 00:00:00-05:00</td>\n      <td>365 days</td>\n    </tr>\n    <tr>\n      <th>Alcorn State University</th>\n      <td>4</td>\n      <td>20.0</td>\n      <td>2017-10-31 00:00:00-04:00</td>\n      <td>NaN</td>\n      <td>2017</td>\n      <td>October</td>\n      <td>1700.0</td>\n      <td>1 Year</td>\n      <td>NaN</td>\n      <td>2018.0</td>\n      <td>New</td>\n      <td>4700-0-00-00000-00-0000</td>\n      <td>1000 Asu Dr, Lorman, MS 39096</td>\n      <td>MS</td>\n      <td>31.875710</td>\n      <td>-91.141739</td>\n      <td>2017-08-31 00:00:00-04:00</td>\n      <td>2018-08-31 00:00:00-04:00</td>\n      <td>365 days</td>\n    </tr>\n    <tr>\n      <th>Alderson Broaddus University</th>\n      <td>5</td>\n      <td>50.0</td>\n      <td>2020-10-07 00:00:00-04:00</td>\n      <td>NB100820K</td>\n      <td>2020</td>\n      <td>October</td>\n      <td>500.0</td>\n      <td>3 Months</td>\n      <td>$500.00</td>\n      <td>NaN</td>\n      <td>New</td>\n      <td>4700-0-00-00000-00-0000</td>\n      <td>101 College Hill Rd, Philippi, WV 26416</td>\n      <td>WV</td>\n      <td>39.160261</td>\n      <td>-80.049048</td>\n      <td>2020-10-02 00:00:00-04:00</td>\n      <td>2020-12-31 00:00:00-05:00</td>\n      <td>90 days</td>\n    </tr>\n    <tr>\n      <th>...</th>\n      <td>...</td>\n      <td>...</td>\n      <td>...</td>\n      <td>...</td>\n      <td>...</td>\n      <td>...</td>\n      <td>...</td>\n      <td>...</td>\n      <td>...</td>\n      <td>...</td>\n      <td>...</td>\n      <td>...</td>\n      <td>...</td>\n      <td>...</td>\n      <td>...</td>\n      <td>...</td>\n      <td>...</td>\n      <td>...</td>\n      <td>...</td>\n    </tr>\n    <tr>\n      <th>Winthrop University</th>\n      <td>403</td>\n      <td>375.0</td>\n      <td>2020-09-08 00:00:00-04:00</td>\n      <td>NB090820S</td>\n      <td>2020</td>\n      <td>September</td>\n      <td>937.5</td>\n      <td>3 Months</td>\n      <td>NaN</td>\n      <td>NaN</td>\n      <td>Returning</td>\n      <td>4700-0-00-00000-00-0000</td>\n      <td>701 Oakland Ave, Rock Hill, SC 29730</td>\n      <td>SC</td>\n      <td>34.938466</td>\n      <td>-81.029872</td>\n      <td>2020-09-01 00:00:00-04:00</td>\n      <td>2020-11-30 00:00:00-05:00</td>\n      <td>90 days</td>\n    </tr>\n    <tr>\n      <th>Winthrop University</th>\n      <td>403</td>\n      <td>100.0</td>\n      <td>2020-10-13 00:00:00-04:00</td>\n      <td>NB101320C</td>\n      <td>2020</td>\n      <td>October</td>\n      <td>1000.0</td>\n      <td>1 Year</td>\n      <td>$1,000.00</td>\n      <td>NaN</td>\n      <td>Returning</td>\n      <td>4700-0-00-00000-00-0000</td>\n      <td>701 Oakland Ave, Rock Hill, SC 29730</td>\n      <td>SC</td>\n      <td>34.938466</td>\n      <td>-81.029872</td>\n      <td>2020-09-30 00:00:00-04:00</td>\n      <td>2021-09-30 00:00:00-04:00</td>\n      <td>365 days</td>\n    </tr>\n    <tr>\n      <th>Yakima Valley College</th>\n      <td>404</td>\n      <td>56.0</td>\n      <td>2020-09-21 00:00:00-04:00</td>\n      <td>NB092120A</td>\n      <td>2020</td>\n      <td>September</td>\n      <td>1030.0</td>\n      <td>6 Months</td>\n      <td>$1,030.00</td>\n      <td>NaN</td>\n      <td>New</td>\n      <td>4700-0-00-00000-00-0000</td>\n      <td>PO Box 22520, Yakima, WA  99807-2520</td>\n      <td>WA</td>\n      <td>-35.001338</td>\n      <td>117.875053</td>\n      <td>2020-09-18 00:00:00-04:00</td>\n      <td>2021-03-18 00:00:00-04:00</td>\n      <td>180 days</td>\n    </tr>\n    <tr>\n      <th>Young Harris College/Miller Library</th>\n      <td>405</td>\n      <td>60.0</td>\n      <td>2018-11-28 00:00:00-05:00</td>\n      <td>162</td>\n      <td>2018</td>\n      <td>November</td>\n      <td>2100.0</td>\n      <td>1 Year</td>\n      <td>NaN</td>\n      <td>NaN</td>\n      <td>New</td>\n      <td>4700-0-00-00000-00-0000</td>\n      <td>1 College Street Young Harris, GA 30582</td>\n      <td>GA</td>\n      <td>34.934079</td>\n      <td>-83.846801</td>\n      <td>2018-11-27 00:00:00-05:00</td>\n      <td>2019-11-30 00:00:00-05:00</td>\n      <td>365 days</td>\n    </tr>\n    <tr>\n      <th>Young Harris College/Miller Library</th>\n      <td>405</td>\n      <td>50.0</td>\n      <td>2019-11-05 00:00:00-05:00</td>\n      <td>236</td>\n      <td>2019</td>\n      <td>November</td>\n      <td>1250.0</td>\n      <td>1 Year</td>\n      <td>NaN</td>\n      <td>2020.0</td>\n      <td>Returning</td>\n      <td>4700-0-00-00000-00-0000</td>\n      <td>1 College Street Young Harris, GA 30582</td>\n      <td>GA</td>\n      <td>34.934079</td>\n      <td>-83.846801</td>\n      <td>2019-11-30 00:00:00-05:00</td>\n      <td>2020-11-30 00:00:00-05:00</td>\n      <td>365 days</td>\n    </tr>\n  </tbody>\n</table>\n<p>764 rows × 19 columns</p>\n</div>"
     },
     "metadata": {},
     "execution_count": 14
    }
   ],
   "source": [
    "atlas"
   ]
  },
  {
   "cell_type": "code",
   "execution_count": 15,
   "metadata": {},
   "outputs": [],
   "source": [
    "load_dotenv()\n",
    "mapbox_token = os.getenv(\"MAPBOX_API_KEY\")\n",
    "px.set_mapbox_access_token(mapbox_token)"
   ]
  },
  {
   "cell_type": "code",
   "execution_count": 16,
   "metadata": {},
   "outputs": [],
   "source": [
    "total_data = atlas.loc[:, [\"Number of Users\", \"Invoice Amount\"]].groupby([\"Customers\"]).sum()\n",
    "# total_data.dropna(inplace=True)\n",
    "total_data\n",
    "\n",
    "atlas_with_totals = pd.concat([atlas.drop(columns=[\"Number of Users\", \"Invoice Amount\"]), total_data], axis=\"columns\", join=\"inner\")"
   ]
  },
  {
   "cell_type": "code",
   "execution_count": 17,
   "metadata": {},
   "outputs": [
    {
     "output_type": "display_data",
     "data": {
      "application/vnd.plotly.v1+json": {
       "config": {
        "plotlyServerURL": "https://plot.ly"
       },
       "data": [
        {
         "hovertemplate": "Customers=Alabama A&M University-College of Education<br>Invoice Amount=%{marker.size}<br>Lat=%{lat}<br>Long=%{lon}<extra></extra>",
         "lat": [
          34.785061
         ],
         "legendgroup": "Alabama A&M University-College of Education",
         "lon": [
          -86.57328000000003
         ],
         "marker": {
          "color": "#636efa",
          "size": [
           5460
          ],
          "sizemode": "area",
          "sizeref": 375
         },
         "mode": "markers",
         "name": "Alabama A&M University-College of Education",
         "showlegend": true,
         "subplot": "mapbox",
         "type": "scattermapbox"
        },
        {
         "hovertemplate": "Customers=Albertus Magnus College<br>Invoice Amount=%{marker.size}<br>Lat=%{lat}<br>Long=%{lon}<extra></extra>",
         "lat": [
          41.331299
         ],
         "legendgroup": "Albertus Magnus College",
         "lon": [
          -72.92144
         ],
         "marker": {
          "color": "#EF553B",
          "size": [
           5670
          ],
          "sizemode": "area",
          "sizeref": 375
         },
         "mode": "markers",
         "name": "Albertus Magnus College",
         "showlegend": true,
         "subplot": "mapbox",
         "type": "scattermapbox"
        },
        {
         "hovertemplate": "Customers=Albuquerque Public Schools<br>Invoice Amount=%{marker.size}<br>Lat=%{lat}<br>Long=%{lon}<extra></extra>",
         "lat": [
          35.09241
         ],
         "legendgroup": "Albuquerque Public Schools",
         "lon": [
          -106.64295
         ],
         "marker": {
          "color": "#00cc96",
          "size": [
           2270
          ],
          "sizemode": "area",
          "sizeref": 375
         },
         "mode": "markers",
         "name": "Albuquerque Public Schools",
         "showlegend": true,
         "subplot": "mapbox",
         "type": "scattermapbox"
        },
        {
         "hovertemplate": "Customers=Alcorn State University<br>Invoice Amount=%{marker.size}<br>Lat=%{lat}<br>Long=%{lon}<extra></extra>",
         "lat": [
          31.87571
         ],
         "legendgroup": "Alcorn State University",
         "lon": [
          -91.141739
         ],
         "marker": {
          "color": "#ab63fa",
          "size": [
           1700
          ],
          "sizemode": "area",
          "sizeref": 375
         },
         "mode": "markers",
         "name": "Alcorn State University",
         "showlegend": true,
         "subplot": "mapbox",
         "type": "scattermapbox"
        },
        {
         "hovertemplate": "Customers=Alderson Broaddus University<br>Invoice Amount=%{marker.size}<br>Lat=%{lat}<br>Long=%{lon}<extra></extra>",
         "lat": [
          39.160261,
          39.160261
         ],
         "legendgroup": "Alderson Broaddus University",
         "lon": [
          -80.049048,
          -80.049048
         ],
         "marker": {
          "color": "#FFA15A",
          "size": [
           1000,
           1000
          ],
          "sizemode": "area",
          "sizeref": 375
         },
         "mode": "markers",
         "name": "Alderson Broaddus University",
         "showlegend": true,
         "subplot": "mapbox",
         "type": "scattermapbox"
        },
        {
         "hovertemplate": "Customers=Alverno College<br>Invoice Amount=%{marker.size}<br>Lat=%{lat}<br>Long=%{lon}<extra></extra>",
         "lat": [
          42.983074
         ],
         "legendgroup": "Alverno College",
         "lon": [
          -87.967247
         ],
         "marker": {
          "color": "#19d3f3",
          "size": [
           2750
          ],
          "sizemode": "area",
          "sizeref": 375
         },
         "mode": "markers",
         "name": "Alverno College",
         "showlegend": true,
         "subplot": "mapbox",
         "type": "scattermapbox"
        },
        {
         "hovertemplate": "Customers=American College of Education<br>Invoice Amount=%{marker.size}<br>Lat=%{lat}<br>Long=%{lon}<extra></extra>",
         "lat": [
          39.769704
         ],
         "legendgroup": "American College of Education",
         "lon": [
          -86.16018000000003
         ],
         "marker": {
          "color": "#FF6692",
          "size": [
           6850
          ],
          "sizemode": "area",
          "sizeref": 375
         },
         "mode": "markers",
         "name": "American College of Education",
         "showlegend": true,
         "subplot": "mapbox",
         "type": "scattermapbox"
        },
        {
         "hovertemplate": "Customers=American University<br>Invoice Amount=%{marker.size}<br>Lat=%{lat}<br>Long=%{lon}<extra></extra>",
         "lat": [
          38.93739,
          38.93739
         ],
         "legendgroup": "American University",
         "lon": [
          -77.0892,
          -77.0892
         ],
         "marker": {
          "color": "#B6E880",
          "size": [
           5000,
           5000
          ],
          "sizemode": "area",
          "sizeref": 375
         },
         "mode": "markers",
         "name": "American University",
         "showlegend": true,
         "subplot": "mapbox",
         "type": "scattermapbox"
        },
        {
         "hovertemplate": "Customers=Anderson University<br>Invoice Amount=%{marker.size}<br>Lat=%{lat}<br>Long=%{lon}<extra></extra>",
         "lat": [
          34.513986
         ],
         "legendgroup": "Anderson University",
         "lon": [
          -82.63873199999998
         ],
         "marker": {
          "color": "#FF97FF",
          "size": [
           800
          ],
          "sizemode": "area",
          "sizeref": 375
         },
         "mode": "markers",
         "name": "Anderson University",
         "showlegend": true,
         "subplot": "mapbox",
         "type": "scattermapbox"
        },
        {
         "hovertemplate": "Customers=Appalachian State University<br>Invoice Amount=%{marker.size}<br>Lat=%{lat}<br>Long=%{lon}<extra></extra>",
         "lat": [
          36.211015,
          36.211015
         ],
         "legendgroup": "Appalachian State University",
         "lon": [
          -81.6777,
          -81.6777
         ],
         "marker": {
          "color": "#FECB52",
          "size": [
           5700,
           5700
          ],
          "sizemode": "area",
          "sizeref": 375
         },
         "mode": "markers",
         "name": "Appalachian State University",
         "showlegend": true,
         "subplot": "mapbox",
         "type": "scattermapbox"
        },
        {
         "hovertemplate": "Customers=Aquinas College<br>Invoice Amount=%{marker.size}<br>Lat=%{lat}<br>Long=%{lon}<extra></extra>",
         "lat": [
          36.132562
         ],
         "legendgroup": "Aquinas College",
         "lon": [
          -86.84268399999998
         ],
         "marker": {
          "color": "#636efa",
          "size": [
           875
          ],
          "sizemode": "area",
          "sizeref": 375
         },
         "mode": "markers",
         "name": "Aquinas College",
         "showlegend": true,
         "subplot": "mapbox",
         "type": "scattermapbox"
        },
        {
         "hovertemplate": "Customers=Arcadia University<br>Invoice Amount=%{marker.size}<br>Lat=%{lat}<br>Long=%{lon}<extra></extra>",
         "lat": [
          40.091913
         ],
         "legendgroup": "Arcadia University",
         "lon": [
          -75.16529399999997
         ],
         "marker": {
          "color": "#EF553B",
          "size": [
           1800
          ],
          "sizemode": "area",
          "sizeref": 375
         },
         "mode": "markers",
         "name": "Arcadia University",
         "showlegend": true,
         "subplot": "mapbox",
         "type": "scattermapbox"
        },
        {
         "hovertemplate": "Customers=Arkansas Northeastern College<br>Invoice Amount=%{marker.size}<br>Lat=%{lat}<br>Long=%{lon}<extra></extra>",
         "lat": [
          35.898621
         ],
         "legendgroup": "Arkansas Northeastern College",
         "lon": [
          -89.920963
         ],
         "marker": {
          "color": "#00cc96",
          "size": [
           1700
          ],
          "sizemode": "area",
          "sizeref": 375
         },
         "mode": "markers",
         "name": "Arkansas Northeastern College",
         "showlegend": true,
         "subplot": "mapbox",
         "type": "scattermapbox"
        },
        {
         "hovertemplate": "Customers=Arlington Public Schools<br>Invoice Amount=%{marker.size}<br>Lat=%{lat}<br>Long=%{lon}<extra></extra>",
         "lat": [
          38.873463
         ],
         "legendgroup": "Arlington Public Schools",
         "lon": [
          -77.083371
         ],
         "marker": {
          "color": "#ab63fa",
          "size": [
           750
          ],
          "sizemode": "area",
          "sizeref": 375
         },
         "mode": "markers",
         "name": "Arlington Public Schools",
         "showlegend": true,
         "subplot": "mapbox",
         "type": "scattermapbox"
        },
        {
         "hovertemplate": "Customers=Armstrong State University<br>Invoice Amount=%{marker.size}<br>Lat=%{lat}<br>Long=%{lon}<extra></extra>",
         "lat": [
          31.978808,
          31.978808,
          31.978808
         ],
         "legendgroup": "Armstrong State University",
         "lon": [
          -81.16297800000002,
          -81.16297800000002,
          -81.16297800000002
         ],
         "marker": {
          "color": "#FFA15A",
          "size": [
           7350,
           7350,
           7350
          ],
          "sizemode": "area",
          "sizeref": 375
         },
         "mode": "markers",
         "name": "Armstrong State University",
         "showlegend": true,
         "subplot": "mapbox",
         "type": "scattermapbox"
        },
        {
         "hovertemplate": "Customers=Auburn University<br>Invoice Amount=%{marker.size}<br>Lat=%{lat}<br>Long=%{lon}<extra></extra>",
         "lat": [
          32.602286,
          32.602286
         ],
         "legendgroup": "Auburn University",
         "lon": [
          -85.486081,
          -85.486081
         ],
         "marker": {
          "color": "#19d3f3",
          "size": [
           2827,
           2827
          ],
          "sizemode": "area",
          "sizeref": 375
         },
         "mode": "markers",
         "name": "Auburn University",
         "showlegend": true,
         "subplot": "mapbox",
         "type": "scattermapbox"
        },
        {
         "hovertemplate": "Customers=Augusta University<br>Invoice Amount=%{marker.size}<br>Lat=%{lat}<br>Long=%{lon}<extra></extra>",
         "lat": [
          33.470787,
          33.470787,
          33.470787,
          33.470787,
          33.470787,
          33.470787,
          33.470787
         ],
         "legendgroup": "Augusta University",
         "lon": [
          -81.98959,
          -81.98959,
          -81.98959,
          -81.98959,
          -81.98959,
          -81.98959,
          -81.98959
         ],
         "marker": {
          "color": "#FF6692",
          "size": [
           7875,
           7875,
           7875,
           7875,
           7875,
           7875,
           7875
          ],
          "sizemode": "area",
          "sizeref": 375
         },
         "mode": "markers",
         "name": "Augusta University",
         "showlegend": true,
         "subplot": "mapbox",
         "type": "scattermapbox"
        },
        {
         "hovertemplate": "Customers=Augustana College<br>Invoice Amount=%{marker.size}<br>Lat=%{lat}<br>Long=%{lon}<extra></extra>",
         "lat": [
          33.470787,
          33.470787
         ],
         "legendgroup": "Augustana College",
         "lon": [
          -81.98959,
          -81.98959
         ],
         "marker": {
          "color": "#B6E880",
          "size": [
           3587,
           3587
          ],
          "sizemode": "area",
          "sizeref": 375
         },
         "mode": "markers",
         "name": "Augustana College",
         "showlegend": true,
         "subplot": "mapbox",
         "type": "scattermapbox"
        },
        {
         "hovertemplate": "Customers=Austin Peay State University<br>Invoice Amount=%{marker.size}<br>Lat=%{lat}<br>Long=%{lon}<extra></extra>",
         "lat": [
          36.53188,
          36.53188,
          36.53188,
          36.53188,
          36.53188
         ],
         "legendgroup": "Austin Peay State University",
         "lon": [
          -87.35472,
          -87.35472,
          -87.35472,
          -87.35472,
          -87.35472
         ],
         "marker": {
          "color": "#FF97FF",
          "size": [
           16850,
           16850,
           16850,
           16850,
           16850
          ],
          "sizemode": "area",
          "sizeref": 375
         },
         "mode": "markers",
         "name": "Austin Peay State University",
         "showlegend": true,
         "subplot": "mapbox",
         "type": "scattermapbox"
        },
        {
         "hovertemplate": "Customers=Bainbridge Island School District<br>Invoice Amount=%{marker.size}<br>Lat=%{lat}<br>Long=%{lon}<extra></extra>",
         "lat": [
          47.638782
         ],
         "legendgroup": "Bainbridge Island School District",
         "lon": [
          -122.521704
         ],
         "marker": {
          "color": "#FECB52",
          "size": [
           3600
          ],
          "sizemode": "area",
          "sizeref": 375
         },
         "mode": "markers",
         "name": "Bainbridge Island School District",
         "showlegend": true,
         "subplot": "mapbox",
         "type": "scattermapbox"
        },
        {
         "hovertemplate": "Customers=Ball State University<br>Invoice Amount=%{marker.size}<br>Lat=%{lat}<br>Long=%{lon}<extra></extra>",
         "lat": [
          40.208682,
          40.208682
         ],
         "legendgroup": "Ball State University",
         "lon": [
          -85.408472,
          -85.408472
         ],
         "marker": {
          "color": "#636efa",
          "size": [
           4904,
           4904
          ],
          "sizemode": "area",
          "sizeref": 375
         },
         "mode": "markers",
         "name": "Ball State University",
         "showlegend": true,
         "subplot": "mapbox",
         "type": "scattermapbox"
        },
        {
         "hovertemplate": "Customers=Bard College<br>Invoice Amount=%{marker.size}<br>Lat=%{lat}<br>Long=%{lon}<extra></extra>",
         "lat": [
          42.024516
         ],
         "legendgroup": "Bard College",
         "lon": [
          -73.903544
         ],
         "marker": {
          "color": "#EF553B",
          "size": [
           437
          ],
          "sizemode": "area",
          "sizeref": 375
         },
         "mode": "markers",
         "name": "Bard College",
         "showlegend": true,
         "subplot": "mapbox",
         "type": "scattermapbox"
        },
        {
         "hovertemplate": "Customers=Barton College<br>Invoice Amount=%{marker.size}<br>Lat=%{lat}<br>Long=%{lon}<extra></extra>",
         "lat": [
          35.736373
         ],
         "legendgroup": "Barton College",
         "lon": [
          -77.913347
         ],
         "marker": {
          "color": "#00cc96",
          "size": [
           2300
          ],
          "sizemode": "area",
          "sizeref": 375
         },
         "mode": "markers",
         "name": "Barton College",
         "showlegend": true,
         "subplot": "mapbox",
         "type": "scattermapbox"
        },
        {
         "hovertemplate": "Customers=Belhaven University<br>Invoice Amount=%{marker.size}<br>Lat=%{lat}<br>Long=%{lon}<extra></extra>",
         "lat": [
          32.318452
         ],
         "legendgroup": "Belhaven University",
         "lon": [
          -90.169203
         ],
         "marker": {
          "color": "#ab63fa",
          "size": [
           2650
          ],
          "sizemode": "area",
          "sizeref": 375
         },
         "mode": "markers",
         "name": "Belhaven University",
         "showlegend": true,
         "subplot": "mapbox",
         "type": "scattermapbox"
        },
        {
         "hovertemplate": "Customers=Bellarmine University<br>Invoice Amount=%{marker.size}<br>Lat=%{lat}<br>Long=%{lon}<extra></extra>",
         "lat": [
          38.218713,
          38.218713,
          38.218713
         ],
         "legendgroup": "Bellarmine University",
         "lon": [
          -85.705324,
          -85.705324,
          -85.705324
         ],
         "marker": {
          "color": "#FFA15A",
          "size": [
           3100,
           3100,
           3100
          ],
          "sizemode": "area",
          "sizeref": 375
         },
         "mode": "markers",
         "name": "Bellarmine University",
         "showlegend": true,
         "subplot": "mapbox",
         "type": "scattermapbox"
        },
        {
         "hovertemplate": "Customers=Berea College<br>Invoice Amount=%{marker.size}<br>Lat=%{lat}<br>Long=%{lon}<extra></extra>",
         "lat": [
          37.646278
         ],
         "legendgroup": "Berea College",
         "lon": [
          -84.271598
         ],
         "marker": {
          "color": "#19d3f3",
          "size": [
           2600
          ],
          "sizemode": "area",
          "sizeref": 375
         },
         "mode": "markers",
         "name": "Berea College",
         "showlegend": true,
         "subplot": "mapbox",
         "type": "scattermapbox"
        },
        {
         "hovertemplate": "Customers=Berry College<br>Invoice Amount=%{marker.size}<br>Lat=%{lat}<br>Long=%{lon}<extra></extra>",
         "lat": [
          34.291869
         ],
         "legendgroup": "Berry College",
         "lon": [
          -85.179874
         ],
         "marker": {
          "color": "#FF6692",
          "size": [
           1650
          ],
          "sizemode": "area",
          "sizeref": 375
         },
         "mode": "markers",
         "name": "Berry College",
         "showlegend": true,
         "subplot": "mapbox",
         "type": "scattermapbox"
        },
        {
         "hovertemplate": "Customers=Billings Senior High School<br>Invoice Amount=%{marker.size}<br>Lat=%{lat}<br>Long=%{lon}<extra></extra>",
         "lat": [
          45.78457,
          45.78457
         ],
         "legendgroup": "Billings Senior High School",
         "lon": [
          -108.526828,
          -108.526828
         ],
         "marker": {
          "color": "#B6E880",
          "size": [
           1500,
           1500
          ],
          "sizemode": "area",
          "sizeref": 375
         },
         "mode": "markers",
         "name": "Billings Senior High School",
         "showlegend": true,
         "subplot": "mapbox",
         "type": "scattermapbox"
        },
        {
         "hovertemplate": "Customers=Birmingham-Southern College<br>Invoice Amount=%{marker.size}<br>Lat=%{lat}<br>Long=%{lon}<extra></extra>",
         "lat": [
          33.516737,
          33.516737,
          33.516737
         ],
         "legendgroup": "Birmingham-Southern College",
         "lon": [
          -86.85171,
          -86.85171,
          -86.85171
         ],
         "marker": {
          "color": "#FF97FF",
          "size": [
           3500,
           3500,
           3500
          ],
          "sizemode": "area",
          "sizeref": 375
         },
         "mode": "markers",
         "name": "Birmingham-Southern College",
         "showlegend": true,
         "subplot": "mapbox",
         "type": "scattermapbox"
        },
        {
         "hovertemplate": "Customers=BloomBoard, Inc.<br>Invoice Amount=%{marker.size}<br>Lat=%{lat}<br>Long=%{lon}<extra></extra>",
         "lat": [
          37.44416,
          37.44416,
          37.44416,
          37.44416
         ],
         "legendgroup": "BloomBoard, Inc.",
         "lon": [
          -122.163743,
          -122.163743,
          -122.163743,
          -122.163743
         ],
         "marker": {
          "color": "#FECB52",
          "size": [
           31020,
           31020,
           31020,
           31020
          ],
          "sizemode": "area",
          "sizeref": 375
         },
         "mode": "markers",
         "name": "BloomBoard, Inc.",
         "showlegend": true,
         "subplot": "mapbox",
         "type": "scattermapbox"
        },
        {
         "hovertemplate": "Customers=Bowie State University<br>Invoice Amount=%{marker.size}<br>Lat=%{lat}<br>Long=%{lon}<extra></extra>",
         "lat": [
          39.01641
         ],
         "legendgroup": "Bowie State University",
         "lon": [
          -76.76289
         ],
         "marker": {
          "color": "#636efa",
          "size": [
           1900
          ],
          "sizemode": "area",
          "sizeref": 375
         },
         "mode": "markers",
         "name": "Bowie State University",
         "showlegend": true,
         "subplot": "mapbox",
         "type": "scattermapbox"
        },
        {
         "hovertemplate": "Customers=Bowling Green Independent Schools<br>Invoice Amount=%{marker.size}<br>Lat=%{lat}<br>Long=%{lon}<extra></extra>",
         "lat": [
          36.992329,
          36.992329
         ],
         "legendgroup": "Bowling Green Independent Schools",
         "lon": [
          -86.447825,
          -86.447825
         ],
         "marker": {
          "color": "#EF553B",
          "size": [
           3200,
           3200
          ],
          "sizemode": "area",
          "sizeref": 375
         },
         "mode": "markers",
         "name": "Bowling Green Independent Schools",
         "showlegend": true,
         "subplot": "mapbox",
         "type": "scattermapbox"
        },
        {
         "hovertemplate": "Customers=Bowling Green State University<br>Invoice Amount=%{marker.size}<br>Lat=%{lat}<br>Long=%{lon}<extra></extra>",
         "lat": [
          41.379729,
          41.379729
         ],
         "legendgroup": "Bowling Green State University",
         "lon": [
          -83.622879,
          -83.622879
         ],
         "marker": {
          "color": "#00cc96",
          "size": [
           2582,
           2582
          ],
          "sizemode": "area",
          "sizeref": 375
         },
         "mode": "markers",
         "name": "Bowling Green State University",
         "showlegend": true,
         "subplot": "mapbox",
         "type": "scattermapbox"
        },
        {
         "hovertemplate": "Customers=Bradley University<br>Invoice Amount=%{marker.size}<br>Lat=%{lat}<br>Long=%{lon}<extra></extra>",
         "lat": [
          40.696765,
          40.696765
         ],
         "legendgroup": "Bradley University",
         "lon": [
          -89.615822,
          -89.615822
         ],
         "marker": {
          "color": "#ab63fa",
          "size": [
           1102,
           1102
          ],
          "sizemode": "area",
          "sizeref": 375
         },
         "mode": "markers",
         "name": "Bradley University",
         "showlegend": true,
         "subplot": "mapbox",
         "type": "scattermapbox"
        },
        {
         "hovertemplate": "Customers=Brandeis University<br>Invoice Amount=%{marker.size}<br>Lat=%{lat}<br>Long=%{lon}<extra></extra>",
         "lat": [
          42.366533
         ],
         "legendgroup": "Brandeis University",
         "lon": [
          -71.258093
         ],
         "marker": {
          "color": "#FFA15A",
          "size": [
           2000
          ],
          "sizemode": "area",
          "sizeref": 375
         },
         "mode": "markers",
         "name": "Brandeis University",
         "showlegend": true,
         "subplot": "mapbox",
         "type": "scattermapbox"
        },
        {
         "hovertemplate": "Customers=Brenau University<br>Invoice Amount=%{marker.size}<br>Lat=%{lat}<br>Long=%{lon}<extra></extra>",
         "lat": [
          34.30189,
          34.30189
         ],
         "legendgroup": "Brenau University",
         "lon": [
          -83.822057,
          -83.822057
         ],
         "marker": {
          "color": "#19d3f3",
          "size": [
           5100,
           5100
          ],
          "sizemode": "area",
          "sizeref": 375
         },
         "mode": "markers",
         "name": "Brenau University",
         "showlegend": true,
         "subplot": "mapbox",
         "type": "scattermapbox"
        },
        {
         "hovertemplate": "Customers=Bridgewater College<br>Invoice Amount=%{marker.size}<br>Lat=%{lat}<br>Long=%{lon}<extra></extra>",
         "lat": [
          38.378931
         ],
         "legendgroup": "Bridgewater College",
         "lon": [
          -78.970686
         ],
         "marker": {
          "color": "#FF6692",
          "size": [
           2600
          ],
          "sizemode": "area",
          "sizeref": 375
         },
         "mode": "markers",
         "name": "Bridgewater College",
         "showlegend": true,
         "subplot": "mapbox",
         "type": "scattermapbox"
        },
        {
         "hovertemplate": "Customers=Brigham Young University – Hawaii<br>Invoice Amount=%{marker.size}<br>Lat=%{lat}<br>Long=%{lon}<extra></extra>",
         "lat": [
          21.650377
         ],
         "legendgroup": "Brigham Young University – Hawaii",
         "lon": [
          -157.924912
         ],
         "marker": {
          "color": "#B6E880",
          "size": [
           3000
          ],
          "sizemode": "area",
          "sizeref": 375
         },
         "mode": "markers",
         "name": "Brigham Young University – Hawaii",
         "showlegend": true,
         "subplot": "mapbox",
         "type": "scattermapbox"
        },
        {
         "hovertemplate": "Customers=Brock University<br>Invoice Amount=%{marker.size}<br>Lat=%{lat}<br>Long=%{lon}<extra></extra>",
         "lat": [
          43.118799,
          43.118799,
          43.118799
         ],
         "legendgroup": "Brock University",
         "lon": [
          -79.238508,
          -79.238508,
          -79.238508
         ],
         "marker": {
          "color": "#FF97FF",
          "size": [
           4012,
           4012,
           4012
          ],
          "sizemode": "area",
          "sizeref": 375
         },
         "mode": "markers",
         "name": "Brock University",
         "showlegend": true,
         "subplot": "mapbox",
         "type": "scattermapbox"
        },
        {
         "hovertemplate": "Customers=Brown University<br>Invoice Amount=%{marker.size}<br>Lat=%{lat}<br>Long=%{lon}<extra></extra>",
         "lat": [
          41.82574,
          41.82574,
          41.82574
         ],
         "legendgroup": "Brown University",
         "lon": [
          -71.405199,
          -71.405199,
          -71.405199
         ],
         "marker": {
          "color": "#FECB52",
          "size": [
           1800,
           1800,
           1800
          ],
          "sizemode": "area",
          "sizeref": 375
         },
         "mode": "markers",
         "name": "Brown University",
         "showlegend": true,
         "subplot": "mapbox",
         "type": "scattermapbox"
        },
        {
         "hovertemplate": "Customers=Bureau of Indian Affairs<br>Invoice Amount=%{marker.size}<br>Lat=%{lat}<br>Long=%{lon}<extra></extra>",
         "lat": [
          38.89445300000001,
          38.89445300000001,
          38.89445300000001
         ],
         "legendgroup": "Bureau of Indian Affairs",
         "lon": [
          -77.042603,
          -77.042603,
          -77.042603
         ],
         "marker": {
          "color": "#636efa",
          "size": [
           65200,
           65200,
           65200
          ],
          "sizemode": "area",
          "sizeref": 375
         },
         "mode": "markers",
         "name": "Bureau of Indian Affairs",
         "showlegend": true,
         "subplot": "mapbox",
         "type": "scattermapbox"
        },
        {
         "hovertemplate": "Customers=CA State University Chico<br>Invoice Amount=%{marker.size}<br>Lat=%{lat}<br>Long=%{lon}<extra></extra>",
         "lat": [
          39.729732,
          39.729732
         ],
         "legendgroup": "CA State University Chico",
         "lon": [
          -121.844783,
          -121.844783
         ],
         "marker": {
          "color": "#EF553B",
          "size": [
           4500,
           4500
          ],
          "sizemode": "area",
          "sizeref": 375
         },
         "mode": "markers",
         "name": "CA State University Chico",
         "showlegend": true,
         "subplot": "mapbox",
         "type": "scattermapbox"
        },
        {
         "hovertemplate": "Customers=CA State University Dominguez Hills<br>Invoice Amount=%{marker.size}<br>Lat=%{lat}<br>Long=%{lon}<extra></extra>",
         "lat": [
          33.863908
         ],
         "legendgroup": "CA State University Dominguez Hills",
         "lon": [
          -118.255633
         ],
         "marker": {
          "color": "#00cc96",
          "size": [
           2125
          ],
          "sizemode": "area",
          "sizeref": 375
         },
         "mode": "markers",
         "name": "CA State University Dominguez Hills",
         "showlegend": true,
         "subplot": "mapbox",
         "type": "scattermapbox"
        },
        {
         "hovertemplate": "Customers=CA State University, Stanislaus<br>Invoice Amount=%{marker.size}<br>Lat=%{lat}<br>Long=%{lon}<extra></extra>",
         "lat": [
          37.52499,
          37.52499,
          37.52499,
          37.52499,
          37.52499,
          37.52499,
          37.52499,
          37.52499
         ],
         "legendgroup": "CA State University, Stanislaus",
         "lon": [
          -120.858459,
          -120.858459,
          -120.858459,
          -120.858459,
          -120.858459,
          -120.858459,
          -120.858459,
          -120.858459
         ],
         "marker": {
          "color": "#ab63fa",
          "size": [
           7760,
           7760,
           7760,
           7760,
           7760,
           7760,
           7760,
           7760
          ],
          "sizemode": "area",
          "sizeref": 375
         },
         "mode": "markers",
         "name": "CA State University, Stanislaus",
         "showlegend": true,
         "subplot": "mapbox",
         "type": "scattermapbox"
        },
        {
         "hovertemplate": "Customers=California State Polytechnic University Pomona-Education/CEIS<br>Invoice Amount=%{marker.size}<br>Lat=%{lat}<br>Long=%{lon}<extra></extra>",
         "lat": [
          34.057959999999994
         ],
         "legendgroup": "California State Polytechnic University Pomona-Education/CEIS",
         "lon": [
          -117.822688
         ],
         "marker": {
          "color": "#FFA15A",
          "size": [
           1029
          ],
          "sizemode": "area",
          "sizeref": 375
         },
         "mode": "markers",
         "name": "California State Polytechnic University Pomona-Education/CEIS",
         "showlegend": true,
         "subplot": "mapbox",
         "type": "scattermapbox"
        },
        {
         "hovertemplate": "Customers=California State University<br>Invoice Amount=%{marker.size}<br>Lat=%{lat}<br>Long=%{lon}<extra></extra>",
         "lat": [
          38.89583
         ],
         "legendgroup": "California State University",
         "lon": [
          -77.009828
         ],
         "marker": {
          "color": "#19d3f3",
          "size": [
           8000
          ],
          "sizemode": "area",
          "sizeref": 375
         },
         "mode": "markers",
         "name": "California State University",
         "showlegend": true,
         "subplot": "mapbox",
         "type": "scattermapbox"
        },
        {
         "hovertemplate": "Customers=California State University Long Beach<br>Invoice Amount=%{marker.size}<br>Lat=%{lat}<br>Long=%{lon}<extra></extra>",
         "lat": [
          33.782523
         ],
         "legendgroup": "California State University Long Beach",
         "lon": [
          -118.122205
         ],
         "marker": {
          "color": "#FF6692",
          "size": [
           2000
          ],
          "sizemode": "area",
          "sizeref": 375
         },
         "mode": "markers",
         "name": "California State University Long Beach",
         "showlegend": true,
         "subplot": "mapbox",
         "type": "scattermapbox"
        },
        {
         "hovertemplate": "Customers=California State University Northridge<br>Invoice Amount=%{marker.size}<br>Lat=%{lat}<br>Long=%{lon}<extra></extra>",
         "lat": [
          34.236075,
          34.236075
         ],
         "legendgroup": "California State University Northridge",
         "lon": [
          -118.528326,
          -118.528326
         ],
         "marker": {
          "color": "#B6E880",
          "size": [
           3626.3,
           3626.3
          ],
          "sizemode": "area",
          "sizeref": 375
         },
         "mode": "markers",
         "name": "California State University Northridge",
         "showlegend": true,
         "subplot": "mapbox",
         "type": "scattermapbox"
        },
        {
         "hovertemplate": "Customers=California State University, Fullerton<br>Invoice Amount=%{marker.size}<br>Lat=%{lat}<br>Long=%{lon}<extra></extra>",
         "lat": [
          33.879662
         ],
         "legendgroup": "California State University, Fullerton",
         "lon": [
          -117.885496
         ],
         "marker": {
          "color": "#FF97FF",
          "size": [
           4000
          ],
          "sizemode": "area",
          "sizeref": 375
         },
         "mode": "markers",
         "name": "California State University, Fullerton",
         "showlegend": true,
         "subplot": "mapbox",
         "type": "scattermapbox"
        },
        {
         "hovertemplate": "Customers=California University of Pennsylvania<br>Invoice Amount=%{marker.size}<br>Lat=%{lat}<br>Long=%{lon}<extra></extra>",
         "lat": [
          40.065615,
          40.065615,
          40.065615
         ],
         "legendgroup": "California University of Pennsylvania",
         "lon": [
          -79.885932,
          -79.885932,
          -79.885932
         ],
         "marker": {
          "color": "#FECB52",
          "size": [
           17950,
           17950,
           17950
          ],
          "sizemode": "area",
          "sizeref": 375
         },
         "mode": "markers",
         "name": "California University of Pennsylvania",
         "showlegend": true,
         "subplot": "mapbox",
         "type": "scattermapbox"
        },
        {
         "hovertemplate": "Customers=Calvert County Public Schools<br>Invoice Amount=%{marker.size}<br>Lat=%{lat}<br>Long=%{lon}<extra></extra>",
         "lat": [
          38.551889
         ],
         "legendgroup": "Calvert County Public Schools",
         "lon": [
          -76.57221
         ],
         "marker": {
          "color": "#636efa",
          "size": [
           1840
          ],
          "sizemode": "area",
          "sizeref": 375
         },
         "mode": "markers",
         "name": "Calvert County Public Schools",
         "showlegend": true,
         "subplot": "mapbox",
         "type": "scattermapbox"
        },
        {
         "hovertemplate": "Customers=Campbell University<br>Invoice Amount=%{marker.size}<br>Lat=%{lat}<br>Long=%{lon}<extra></extra>",
         "lat": [
          35.40913300000001,
          35.40913300000001
         ],
         "legendgroup": "Campbell University",
         "lon": [
          -78.73821099999998,
          -78.73821099999998
         ],
         "marker": {
          "color": "#EF553B",
          "size": [
           4400,
           4400
          ],
          "sizemode": "area",
          "sizeref": 375
         },
         "mode": "markers",
         "name": "Campbell University",
         "showlegend": true,
         "subplot": "mapbox",
         "type": "scattermapbox"
        },
        {
         "hovertemplate": "Customers=Campbellsville University<br>Invoice Amount=%{marker.size}<br>Lat=%{lat}<br>Long=%{lon}<extra></extra>",
         "lat": [
          37.34422,
          37.34422
         ],
         "legendgroup": "Campbellsville University",
         "lon": [
          -85.34876,
          -85.34876
         ],
         "marker": {
          "color": "#00cc96",
          "size": [
           822,
           822
          ],
          "sizemode": "area",
          "sizeref": 375
         },
         "mode": "markers",
         "name": "Campbellsville University",
         "showlegend": true,
         "subplot": "mapbox",
         "type": "scattermapbox"
        },
        {
         "hovertemplate": "Customers=Canisius College<br>Invoice Amount=%{marker.size}<br>Lat=%{lat}<br>Long=%{lon}<extra></extra>",
         "lat": [
          42.92532
         ],
         "legendgroup": "Canisius College",
         "lon": [
          -78.85215
         ],
         "marker": {
          "color": "#ab63fa",
          "size": [
           1140
          ],
          "sizemode": "area",
          "sizeref": 375
         },
         "mode": "markers",
         "name": "Canisius College",
         "showlegend": true,
         "subplot": "mapbox",
         "type": "scattermapbox"
        },
        {
         "hovertemplate": "Customers=Capital University<br>Invoice Amount=%{marker.size}<br>Lat=%{lat}<br>Long=%{lon}<extra></extra>",
         "lat": [
          39.957227
         ],
         "legendgroup": "Capital University",
         "lon": [
          -82.940015
         ],
         "marker": {
          "color": "#FFA15A",
          "size": [
           1640
          ],
          "sizemode": "area",
          "sizeref": 375
         },
         "mode": "markers",
         "name": "Capital University",
         "showlegend": true,
         "subplot": "mapbox",
         "type": "scattermapbox"
        },
        {
         "hovertemplate": "Customers=Catawba College<br>Invoice Amount=%{marker.size}<br>Lat=%{lat}<br>Long=%{lon}<extra></extra>",
         "lat": [
          35.691116
         ],
         "legendgroup": "Catawba College",
         "lon": [
          -80.481124
         ],
         "marker": {
          "color": "#19d3f3",
          "size": [
           1000
          ],
          "sizemode": "area",
          "sizeref": 375
         },
         "mode": "markers",
         "name": "Catawba College",
         "showlegend": true,
         "subplot": "mapbox",
         "type": "scattermapbox"
        },
        {
         "hovertemplate": "Customers=Central Connecticut State University<br>Invoice Amount=%{marker.size}<br>Lat=%{lat}<br>Long=%{lon}<extra></extra>",
         "lat": [
          41.68339,
          41.68339
         ],
         "legendgroup": "Central Connecticut State University",
         "lon": [
          -72.767385,
          -72.767385
         ],
         "marker": {
          "color": "#FF6692",
          "size": [
           18000,
           18000
          ],
          "sizemode": "area",
          "sizeref": 375
         },
         "mode": "markers",
         "name": "Central Connecticut State University",
         "showlegend": true,
         "subplot": "mapbox",
         "type": "scattermapbox"
        },
        {
         "hovertemplate": "Customers=Central Washington University<br>Invoice Amount=%{marker.size}<br>Lat=%{lat}<br>Long=%{lon}<extra></extra>",
         "lat": [
          47.00033300000001,
          47.00033300000001,
          47.00033300000001,
          47.00033300000001
         ],
         "legendgroup": "Central Washington University",
         "lon": [
          -120.541972,
          -120.541972,
          -120.541972,
          -120.541972
         ],
         "marker": {
          "color": "#B6E880",
          "size": [
           5547.43,
           5547.43,
           5547.43,
           5547.43
          ],
          "sizemode": "area",
          "sizeref": 375
         },
         "mode": "markers",
         "name": "Central Washington University",
         "showlegend": true,
         "subplot": "mapbox",
         "type": "scattermapbox"
        },
        {
         "hovertemplate": "Customers=Central Wyoming College<br>Invoice Amount=%{marker.size}<br>Lat=%{lat}<br>Long=%{lon}<extra></extra>",
         "lat": [
          43.031001
         ],
         "legendgroup": "Central Wyoming College",
         "lon": [
          -108.426371
         ],
         "marker": {
          "color": "#FF97FF",
          "size": [
           4800
          ],
          "sizemode": "area",
          "sizeref": 375
         },
         "mode": "markers",
         "name": "Central Wyoming College",
         "showlegend": true,
         "subplot": "mapbox",
         "type": "scattermapbox"
        },
        {
         "hovertemplate": "Customers=CERRA<br>Invoice Amount=%{marker.size}<br>Lat=%{lat}<br>Long=%{lon}<extra></extra>",
         "lat": [
          34.941683000000005,
          34.941683000000005,
          34.941683000000005
         ],
         "legendgroup": "CERRA",
         "lon": [
          -81.029894,
          -81.029894,
          -81.029894
         ],
         "marker": {
          "color": "#FECB52",
          "size": [
           6000,
           6000,
           6000
          ],
          "sizemode": "area",
          "sizeref": 375
         },
         "mode": "markers",
         "name": "CERRA",
         "showlegend": true,
         "subplot": "mapbox",
         "type": "scattermapbox"
        },
        {
         "hovertemplate": "Customers=Chapman University<br>Invoice Amount=%{marker.size}<br>Lat=%{lat}<br>Long=%{lon}<extra></extra>",
         "lat": [
          33.793603999999995
         ],
         "legendgroup": "Chapman University",
         "lon": [
          -117.851581
         ],
         "marker": {
          "color": "#636efa",
          "size": [
           625
          ],
          "sizemode": "area",
          "sizeref": 375
         },
         "mode": "markers",
         "name": "Chapman University",
         "showlegend": true,
         "subplot": "mapbox",
         "type": "scattermapbox"
        },
        {
         "hovertemplate": "Customers=Charleston Southern University<br>Invoice Amount=%{marker.size}<br>Lat=%{lat}<br>Long=%{lon}<extra></extra>",
         "lat": [
          32.981204,
          32.981204
         ],
         "legendgroup": "Charleston Southern University",
         "lon": [
          -80.071966,
          -80.071966
         ],
         "marker": {
          "color": "#EF553B",
          "size": [
           12050,
           12050
          ],
          "sizemode": "area",
          "sizeref": 375
         },
         "mode": "markers",
         "name": "Charleston Southern University",
         "showlegend": true,
         "subplot": "mapbox",
         "type": "scattermapbox"
        },
        {
         "hovertemplate": "Customers=Chicago State University<br>Invoice Amount=%{marker.size}<br>Lat=%{lat}<br>Long=%{lon}<extra></extra>",
         "lat": [
          41.71658
         ],
         "legendgroup": "Chicago State University",
         "lon": [
          -87.60847199999998
         ],
         "marker": {
          "color": "#00cc96",
          "size": [
           2500
          ],
          "sizemode": "area",
          "sizeref": 375
         },
         "mode": "markers",
         "name": "Chicago State University",
         "showlegend": true,
         "subplot": "mapbox",
         "type": "scattermapbox"
        },
        {
         "hovertemplate": "Customers=Christina School District<br>Invoice Amount=%{marker.size}<br>Lat=%{lat}<br>Long=%{lon}<extra></extra>",
         "lat": [
          39.65839
         ],
         "legendgroup": "Christina School District",
         "lon": [
          -75.717762
         ],
         "marker": {
          "color": "#ab63fa",
          "size": [
           3500
          ],
          "sizemode": "area",
          "sizeref": 375
         },
         "mode": "markers",
         "name": "Christina School District",
         "showlegend": true,
         "subplot": "mapbox",
         "type": "scattermapbox"
        },
        {
         "hovertemplate": "Customers=City University of New York<br>Invoice Amount=%{marker.size}<br>Lat=%{lat}<br>Long=%{lon}<extra></extra>",
         "lat": [
          40.75081,
          40.75081,
          40.75081,
          40.75081,
          40.75081
         ],
         "legendgroup": "City University of New York",
         "lon": [
          -73.973537,
          -73.973537,
          -73.973537,
          -73.973537,
          -73.973537
         ],
         "marker": {
          "color": "#FFA15A",
          "size": [
           5295,
           5295,
           5295,
           5295,
           5295
          ],
          "sizemode": "area",
          "sizeref": 375
         },
         "mode": "markers",
         "name": "City University of New York",
         "showlegend": true,
         "subplot": "mapbox",
         "type": "scattermapbox"
        },
        {
         "hovertemplate": "Customers=Clarion University of Pennsylvania<br>Invoice Amount=%{marker.size}<br>Lat=%{lat}<br>Long=%{lon}<extra></extra>",
         "lat": [
          41.210449
         ],
         "legendgroup": "Clarion University of Pennsylvania",
         "lon": [
          -79.37899999999998
         ],
         "marker": {
          "color": "#19d3f3",
          "size": [
           4500
          ],
          "sizemode": "area",
          "sizeref": 375
         },
         "mode": "markers",
         "name": "Clarion University of Pennsylvania",
         "showlegend": true,
         "subplot": "mapbox",
         "type": "scattermapbox"
        },
        {
         "hovertemplate": "Customers=Clark County Education Association<br>Invoice Amount=%{marker.size}<br>Lat=%{lat}<br>Long=%{lon}<extra></extra>",
         "lat": [
          36.112561,
          36.112561
         ],
         "legendgroup": "Clark County Education Association",
         "lon": [
          -115.109222,
          -115.109222
         ],
         "marker": {
          "color": "#FF6692",
          "size": [
           10750,
           10750
          ],
          "sizemode": "area",
          "sizeref": 375
         },
         "mode": "markers",
         "name": "Clark County Education Association",
         "showlegend": true,
         "subplot": "mapbox",
         "type": "scattermapbox"
        },
        {
         "hovertemplate": "Customers=Clayton State University<br>Invoice Amount=%{marker.size}<br>Lat=%{lat}<br>Long=%{lon}<extra></extra>",
         "lat": [
          33.594374
         ],
         "legendgroup": "Clayton State University",
         "lon": [
          -84.328396
         ],
         "marker": {
          "color": "#B6E880",
          "size": [
           2500
          ],
          "sizemode": "area",
          "sizeref": 375
         },
         "mode": "markers",
         "name": "Clayton State University",
         "showlegend": true,
         "subplot": "mapbox",
         "type": "scattermapbox"
        },
        {
         "hovertemplate": "Customers=Clemson University<br>Invoice Amount=%{marker.size}<br>Lat=%{lat}<br>Long=%{lon}<extra></extra>",
         "lat": [
          34.681999
         ],
         "legendgroup": "Clemson University",
         "lon": [
          -82.782158
         ],
         "marker": {
          "color": "#FF97FF",
          "size": [
           540.33
          ],
          "sizemode": "area",
          "sizeref": 375
         },
         "mode": "markers",
         "name": "Clemson University",
         "showlegend": true,
         "subplot": "mapbox",
         "type": "scattermapbox"
        },
        {
         "hovertemplate": "Customers=Cleveland County Schools<br>Invoice Amount=%{marker.size}<br>Lat=%{lat}<br>Long=%{lon}<extra></extra>",
         "lat": [
          35.248064
         ],
         "legendgroup": "Cleveland County Schools",
         "lon": [
          -81.414194
         ],
         "marker": {
          "color": "#FECB52",
          "size": [
           1000
          ],
          "sizemode": "area",
          "sizeref": 375
         },
         "mode": "markers",
         "name": "Cleveland County Schools",
         "showlegend": true,
         "subplot": "mapbox",
         "type": "scattermapbox"
        },
        {
         "hovertemplate": "Customers=Coastal Carolina University<br>Invoice Amount=%{marker.size}<br>Lat=%{lat}<br>Long=%{lon}<extra></extra>",
         "lat": [
          33.795302
         ],
         "legendgroup": "Coastal Carolina University",
         "lon": [
          -79.007856
         ],
         "marker": {
          "color": "#636efa",
          "size": [
           3300
          ],
          "sizemode": "area",
          "sizeref": 375
         },
         "mode": "markers",
         "name": "Coastal Carolina University",
         "showlegend": true,
         "subplot": "mapbox",
         "type": "scattermapbox"
        },
        {
         "hovertemplate": "Customers=Colgate University<br>Invoice Amount=%{marker.size}<br>Lat=%{lat}<br>Long=%{lon}<extra></extra>",
         "lat": [
          42.818179
         ],
         "legendgroup": "Colgate University",
         "lon": [
          -75.53522099999998
         ],
         "marker": {
          "color": "#EF553B",
          "size": [
           1000
          ],
          "sizemode": "area",
          "sizeref": 375
         },
         "mode": "markers",
         "name": "Colgate University",
         "showlegend": true,
         "subplot": "mapbox",
         "type": "scattermapbox"
        },
        {
         "hovertemplate": "Customers=College for Creative Studies<br>Invoice Amount=%{marker.size}<br>Lat=%{lat}<br>Long=%{lon}<extra></extra>",
         "lat": [
          42.36125
         ],
         "legendgroup": "College for Creative Studies",
         "lon": [
          -83.064187
         ],
         "marker": {
          "color": "#00cc96",
          "size": [
           1976.3
          ],
          "sizemode": "area",
          "sizeref": 375
         },
         "mode": "markers",
         "name": "College for Creative Studies",
         "showlegend": true,
         "subplot": "mapbox",
         "type": "scattermapbox"
        },
        {
         "hovertemplate": "Customers=College of Coastal Georgia<br>Invoice Amount=%{marker.size}<br>Lat=%{lat}<br>Long=%{lon}<extra></extra>",
         "lat": [
          31.180761,
          31.180761
         ],
         "legendgroup": "College of Coastal Georgia",
         "lon": [
          -81.487082,
          -81.487082
         ],
         "marker": {
          "color": "#ab63fa",
          "size": [
           3263,
           3263
          ],
          "sizemode": "area",
          "sizeref": 375
         },
         "mode": "markers",
         "name": "College of Coastal Georgia",
         "showlegend": true,
         "subplot": "mapbox",
         "type": "scattermapbox"
        },
        {
         "hovertemplate": "Customers=College of Mount Saint Vincent<br>Invoice Amount=%{marker.size}<br>Lat=%{lat}<br>Long=%{lon}<extra></extra>",
         "lat": [
          40.912795
         ],
         "legendgroup": "College of Mount Saint Vincent",
         "lon": [
          -73.902821
         ],
         "marker": {
          "color": "#FFA15A",
          "size": [
           625
          ],
          "sizemode": "area",
          "sizeref": 375
         },
         "mode": "markers",
         "name": "College of Mount Saint Vincent",
         "showlegend": true,
         "subplot": "mapbox",
         "type": "scattermapbox"
        },
        {
         "hovertemplate": "Customers=College of William and Mary<br>Invoice Amount=%{marker.size}<br>Lat=%{lat}<br>Long=%{lon}<extra></extra>",
         "lat": [
          37.27174,
          37.27174,
          37.27174,
          37.27174
         ],
         "legendgroup": "College of William and Mary",
         "lon": [
          -76.71426,
          -76.71426,
          -76.71426,
          -76.71426
         ],
         "marker": {
          "color": "#19d3f3",
          "size": [
           10400,
           10400,
           10400,
           10400
          ],
          "sizemode": "area",
          "sizeref": 375
         },
         "mode": "markers",
         "name": "College of William and Mary",
         "showlegend": true,
         "subplot": "mapbox",
         "type": "scattermapbox"
        },
        {
         "hovertemplate": "Customers=Colorado Education Association<br>Invoice Amount=%{marker.size}<br>Lat=%{lat}<br>Long=%{lon}<extra></extra>",
         "lat": [
          39.740309
         ],
         "legendgroup": "Colorado Education Association",
         "lon": [
          -104.983191
         ],
         "marker": {
          "color": "#FF6692",
          "size": [
           600
          ],
          "sizemode": "area",
          "sizeref": 375
         },
         "mode": "markers",
         "name": "Colorado Education Association",
         "showlegend": true,
         "subplot": "mapbox",
         "type": "scattermapbox"
        },
        {
         "hovertemplate": "Customers=Colorado State University Pueblo<br>Invoice Amount=%{marker.size}<br>Lat=%{lat}<br>Long=%{lon}<extra></extra>",
         "lat": [
          38.309475
         ],
         "legendgroup": "Colorado State University Pueblo",
         "lon": [
          -104.577707
         ],
         "marker": {
          "color": "#B6E880",
          "size": [
           4500
          ],
          "sizemode": "area",
          "sizeref": 375
         },
         "mode": "markers",
         "name": "Colorado State University Pueblo",
         "showlegend": true,
         "subplot": "mapbox",
         "type": "scattermapbox"
        },
        {
         "hovertemplate": "Customers=Columbia College<br>Invoice Amount=%{marker.size}<br>Lat=%{lat}<br>Long=%{lon}<extra></extra>",
         "lat": [
          37.965603
         ],
         "legendgroup": "Columbia College",
         "lon": [
          -120.404284
         ],
         "marker": {
          "color": "#FF97FF",
          "size": [
           1000
          ],
          "sizemode": "area",
          "sizeref": 375
         },
         "mode": "markers",
         "name": "Columbia College",
         "showlegend": true,
         "subplot": "mapbox",
         "type": "scattermapbox"
        },
        {
         "hovertemplate": "Customers=Columbus State University<br>Invoice Amount=%{marker.size}<br>Lat=%{lat}<br>Long=%{lon}<extra></extra>",
         "lat": [
          32.502968
         ],
         "legendgroup": "Columbus State University",
         "lon": [
          -84.939428
         ],
         "marker": {
          "color": "#FECB52",
          "size": [
           15750
          ],
          "sizemode": "area",
          "sizeref": 375
         },
         "mode": "markers",
         "name": "Columbus State University",
         "showlegend": true,
         "subplot": "mapbox",
         "type": "scattermapbox"
        },
        {
         "hovertemplate": "Customers=Concord University<br>Invoice Amount=%{marker.size}<br>Lat=%{lat}<br>Long=%{lon}<extra></extra>",
         "lat": [
          37.42923
         ],
         "legendgroup": "Concord University",
         "lon": [
          -81.00853000000002
         ],
         "marker": {
          "color": "#636efa",
          "size": [
           1625
          ],
          "sizemode": "area",
          "sizeref": 375
         },
         "mode": "markers",
         "name": "Concord University",
         "showlegend": true,
         "subplot": "mapbox",
         "type": "scattermapbox"
        },
        {
         "hovertemplate": "Customers=Concordia University Chicago<br>Invoice Amount=%{marker.size}<br>Lat=%{lat}<br>Long=%{lon}<extra></extra>",
         "lat": [
          41.898597,
          37.423644,
          41.898597,
          41.898597
         ],
         "legendgroup": "Concordia University Chicago",
         "lon": [
          -87.809426,
          -81.018206,
          -87.809426,
          -87.809426
         ],
         "marker": {
          "color": "#EF553B",
          "size": [
           3113.01,
           3113.01,
           3113.01,
           3113.01
          ],
          "sizemode": "area",
          "sizeref": 375
         },
         "mode": "markers",
         "name": "Concordia University Chicago",
         "showlegend": true,
         "subplot": "mapbox",
         "type": "scattermapbox"
        },
        {
         "hovertemplate": "Customers=Concordia University Irvine<br>Invoice Amount=%{marker.size}<br>Lat=%{lat}<br>Long=%{lon}<extra></extra>",
         "lat": [
          33.653502,
          33.653502
         ],
         "legendgroup": "Concordia University Irvine",
         "lon": [
          -117.809732,
          -117.809732
         ],
         "marker": {
          "color": "#00cc96",
          "size": [
           1075,
           1075
          ],
          "sizemode": "area",
          "sizeref": 375
         },
         "mode": "markers",
         "name": "Concordia University Irvine",
         "showlegend": true,
         "subplot": "mapbox",
         "type": "scattermapbox"
        },
        {
         "hovertemplate": "Customers=Creighton University<br>Invoice Amount=%{marker.size}<br>Lat=%{lat}<br>Long=%{lon}<extra></extra>",
         "lat": [
          41.26541
         ],
         "legendgroup": "Creighton University",
         "lon": [
          -95.947789
         ],
         "marker": {
          "color": "#ab63fa",
          "size": [
           425
          ],
          "sizemode": "area",
          "sizeref": 375
         },
         "mode": "markers",
         "name": "Creighton University",
         "showlegend": true,
         "subplot": "mapbox",
         "type": "scattermapbox"
        },
        {
         "hovertemplate": "Customers=Crowder College<br>Invoice Amount=%{marker.size}<br>Lat=%{lat}<br>Long=%{lon}<extra></extra>",
         "lat": [
          36.814755
         ],
         "legendgroup": "Crowder College",
         "lon": [
          -94.368214
         ],
         "marker": {
          "color": "#FFA15A",
          "size": [
           2500
          ],
          "sizemode": "area",
          "sizeref": 375
         },
         "mode": "markers",
         "name": "Crowder College",
         "showlegend": true,
         "subplot": "mapbox",
         "type": "scattermapbox"
        },
        {
         "hovertemplate": "Customers=Crowley’s Ridge College<br>Invoice Amount=%{marker.size}<br>Lat=%{lat}<br>Long=%{lon}<extra></extra>",
         "lat": [
          36.066274
         ],
         "legendgroup": "Crowley’s Ridge College",
         "lon": [
          -90.585972
         ],
         "marker": {
          "color": "#19d3f3",
          "size": [
           395
          ],
          "sizemode": "area",
          "sizeref": 375
         },
         "mode": "markers",
         "name": "Crowley’s Ridge College",
         "showlegend": true,
         "subplot": "mapbox",
         "type": "scattermapbox"
        },
        {
         "hovertemplate": "Customers=CSU San Bernardino<br>Invoice Amount=%{marker.size}<br>Lat=%{lat}<br>Long=%{lon}<extra></extra>",
         "lat": [
          34.182623
         ],
         "legendgroup": "CSU San Bernardino",
         "lon": [
          -117.323808
         ],
         "marker": {
          "color": "#FF6692",
          "size": [
           5000
          ],
          "sizemode": "area",
          "sizeref": 375
         },
         "mode": "markers",
         "name": "CSU San Bernardino",
         "showlegend": true,
         "subplot": "mapbox",
         "type": "scattermapbox"
        },
        {
         "hovertemplate": "Customers=CTU Foundation, Inc<br>Invoice Amount=%{marker.size}<br>Lat=%{lat}<br>Long=%{lon}<extra></extra>",
         "lat": [
          41.887482
         ],
         "legendgroup": "CTU Foundation, Inc",
         "lon": [
          -87.67518000000003
         ],
         "marker": {
          "color": "#B6E880",
          "size": [
           4600
          ],
          "sizemode": "area",
          "sizeref": 375
         },
         "mode": "markers",
         "name": "CTU Foundation, Inc",
         "showlegend": true,
         "subplot": "mapbox",
         "type": "scattermapbox"
        },
        {
         "hovertemplate": "Customers=Cumberland University<br>Invoice Amount=%{marker.size}<br>Lat=%{lat}<br>Long=%{lon}<extra></extra>",
         "lat": [
          36.204101,
          36.204101
         ],
         "legendgroup": "Cumberland University",
         "lon": [
          -86.291933,
          -86.291933
         ],
         "marker": {
          "color": "#FF97FF",
          "size": [
           3135,
           3135
          ],
          "sizemode": "area",
          "sizeref": 375
         },
         "mode": "markers",
         "name": "Cumberland University",
         "showlegend": true,
         "subplot": "mapbox",
         "type": "scattermapbox"
        },
        {
         "hovertemplate": "Customers=Delta State University<br>Invoice Amount=%{marker.size}<br>Lat=%{lat}<br>Long=%{lon}<extra></extra>",
         "lat": [
          33.746861,
          33.746861
         ],
         "legendgroup": "Delta State University",
         "lon": [
          -90.736779,
          -90.736779
         ],
         "marker": {
          "color": "#FECB52",
          "size": [
           10800,
           10800
          ],
          "sizemode": "area",
          "sizeref": 375
         },
         "mode": "markers",
         "name": "Delta State University",
         "showlegend": true,
         "subplot": "mapbox",
         "type": "scattermapbox"
        },
        {
         "hovertemplate": "Customers=Department of Defense Education Activity-Teaching and Learning Division<br>Invoice Amount=%{marker.size}<br>Lat=%{lat}<br>Long=%{lon}<extra></extra>",
         "lat": [
          38.829487,
          38.829487
         ],
         "legendgroup": "Department of Defense Education Activity-Teaching and Learning Division",
         "lon": [
          -77.117672,
          -77.117672
         ],
         "marker": {
          "color": "#636efa",
          "size": [
           3230,
           3230
          ],
          "sizemode": "area",
          "sizeref": 375
         },
         "mode": "markers",
         "name": "Department of Defense Education Activity-Teaching and Learning Division",
         "showlegend": true,
         "subplot": "mapbox",
         "type": "scattermapbox"
        },
        {
         "hovertemplate": "Customers=Dickinson State University<br>Invoice Amount=%{marker.size}<br>Lat=%{lat}<br>Long=%{lon}<extra></extra>",
         "lat": [
          46.882198
         ],
         "legendgroup": "Dickinson State University",
         "lon": [
          -102.799866
         ],
         "marker": {
          "color": "#EF553B",
          "size": [
           2550
          ],
          "sizemode": "area",
          "sizeref": 375
         },
         "mode": "markers",
         "name": "Dickinson State University",
         "showlegend": true,
         "subplot": "mapbox",
         "type": "scattermapbox"
        },
        {
         "hovertemplate": "Customers=Duke University<br>Invoice Amount=%{marker.size}<br>Lat=%{lat}<br>Long=%{lon}<extra></extra>",
         "lat": [
          35.99895
         ],
         "legendgroup": "Duke University",
         "lon": [
          -78.94028
         ],
         "marker": {
          "color": "#00cc96",
          "size": [
           1920
          ],
          "sizemode": "area",
          "sizeref": 375
         },
         "mode": "markers",
         "name": "Duke University",
         "showlegend": true,
         "subplot": "mapbox",
         "type": "scattermapbox"
        },
        {
         "hovertemplate": "Customers=Durham Public Schools<br>Invoice Amount=%{marker.size}<br>Lat=%{lat}<br>Long=%{lon}<extra></extra>",
         "lat": [
          35.99726300000001
         ],
         "legendgroup": "Durham Public Schools",
         "lon": [
          -78.897667
         ],
         "marker": {
          "color": "#ab63fa",
          "size": [
           2630
          ],
          "sizemode": "area",
          "sizeref": 375
         },
         "mode": "markers",
         "name": "Durham Public Schools",
         "showlegend": true,
         "subplot": "mapbox",
         "type": "scattermapbox"
        },
        {
         "hovertemplate": "Customers=East Carolina University<br>Invoice Amount=%{marker.size}<br>Lat=%{lat}<br>Long=%{lon}<extra></extra>",
         "lat": [
          35.611135,
          35.611135,
          35.611135,
          35.611135,
          35.611135,
          35.611135,
          35.611135
         ],
         "legendgroup": "East Carolina University",
         "lon": [
          -77.408715,
          -77.408715,
          -77.408715,
          -77.408715,
          -77.408715,
          -77.408715,
          -77.408715
         ],
         "marker": {
          "color": "#FFA15A",
          "size": [
           18275,
           18275,
           18275,
           18275,
           18275,
           18275,
           18275
          ],
          "sizemode": "area",
          "sizeref": 375
         },
         "mode": "markers",
         "name": "East Carolina University",
         "showlegend": true,
         "subplot": "mapbox",
         "type": "scattermapbox"
        },
        {
         "hovertemplate": "Customers=East Stroudsburg University & Colonial IU<br>Invoice Amount=%{marker.size}<br>Lat=%{lat}<br>Long=%{lon}<extra></extra>",
         "lat": [
          40.732544,
          40.732544,
          40.732544,
          40.732544,
          40.732544
         ],
         "legendgroup": "East Stroudsburg University & Colonial IU",
         "lon": [
          -75.263954,
          -75.263954,
          -75.263954,
          -75.263954,
          -75.263954
         ],
         "marker": {
          "color": "#19d3f3",
          "size": [
           7500,
           7500,
           7500,
           7500,
           7500
          ],
          "sizemode": "area",
          "sizeref": 375
         },
         "mode": "markers",
         "name": "East Stroudsburg University & Colonial IU",
         "showlegend": true,
         "subplot": "mapbox",
         "type": "scattermapbox"
        },
        {
         "hovertemplate": "Customers=East Tennessee State University<br>Invoice Amount=%{marker.size}<br>Lat=%{lat}<br>Long=%{lon}<extra></extra>",
         "lat": [
          36.30044,
          36.30044,
          36.30044,
          36.30044
         ],
         "legendgroup": "East Tennessee State University",
         "lon": [
          -82.362131,
          -82.362131,
          -82.362131,
          -82.362131
         ],
         "marker": {
          "color": "#FF6692",
          "size": [
           18148,
           18148,
           18148,
           18148
          ],
          "sizemode": "area",
          "sizeref": 375
         },
         "mode": "markers",
         "name": "East Tennessee State University",
         "showlegend": true,
         "subplot": "mapbox",
         "type": "scattermapbox"
        },
        {
         "hovertemplate": "Customers=Eastern Kentucky University<br>Invoice Amount=%{marker.size}<br>Lat=%{lat}<br>Long=%{lon}<extra></extra>",
         "lat": [
          37.744011
         ],
         "legendgroup": "Eastern Kentucky University",
         "lon": [
          -84.30074300000003
         ],
         "marker": {
          "color": "#B6E880",
          "size": [
           3125
          ],
          "sizemode": "area",
          "sizeref": 375
         },
         "mode": "markers",
         "name": "Eastern Kentucky University",
         "showlegend": true,
         "subplot": "mapbox",
         "type": "scattermapbox"
        },
        {
         "hovertemplate": "Customers=Eastern Michigan University<br>Invoice Amount=%{marker.size}<br>Lat=%{lat}<br>Long=%{lon}<extra></extra>",
         "lat": [
          42.251589
         ],
         "legendgroup": "Eastern Michigan University",
         "lon": [
          -83.62747900000002
         ],
         "marker": {
          "color": "#FF97FF",
          "size": [
           1710
          ],
          "sizemode": "area",
          "sizeref": 375
         },
         "mode": "markers",
         "name": "Eastern Michigan University",
         "showlegend": true,
         "subplot": "mapbox",
         "type": "scattermapbox"
        },
        {
         "hovertemplate": "Customers=El Rancho Unified School District<br>Invoice Amount=%{marker.size}<br>Lat=%{lat}<br>Long=%{lon}<extra></extra>",
         "lat": [
          33.994748
         ],
         "legendgroup": "El Rancho Unified School District",
         "lon": [
          -118.08086000000002
         ],
         "marker": {
          "color": "#FECB52",
          "size": [
           5880
          ],
          "sizemode": "area",
          "sizeref": 375
         },
         "mode": "markers",
         "name": "El Rancho Unified School District",
         "showlegend": true,
         "subplot": "mapbox",
         "type": "scattermapbox"
        },
        {
         "hovertemplate": "Customers=Emporia State University<br>Invoice Amount=%{marker.size}<br>Lat=%{lat}<br>Long=%{lon}<extra></extra>",
         "lat": [
          38.392609,
          38.392609,
          38.392609,
          38.392609,
          38.392609,
          38.392609
         ],
         "legendgroup": "Emporia State University",
         "lon": [
          -96.181396,
          -96.181396,
          -96.181396,
          -96.181396,
          -96.181396,
          -96.181396
         ],
         "marker": {
          "color": "#636efa",
          "size": [
           14400,
           14400,
           14400,
           14400,
           14400,
           14400
          ],
          "sizemode": "area",
          "sizeref": 375
         },
         "mode": "markers",
         "name": "Emporia State University",
         "showlegend": true,
         "subplot": "mapbox",
         "type": "scattermapbox"
        },
        {
         "hovertemplate": "Customers=Farleigh Dickinson University<br>Invoice Amount=%{marker.size}<br>Lat=%{lat}<br>Long=%{lon}<extra></extra>",
         "lat": [
          40.897169
         ],
         "legendgroup": "Farleigh Dickinson University",
         "lon": [
          -74.02901800000002
         ],
         "marker": {
          "color": "#EF553B",
          "size": [
           1000
          ],
          "sizemode": "area",
          "sizeref": 375
         },
         "mode": "markers",
         "name": "Farleigh Dickinson University",
         "showlegend": true,
         "subplot": "mapbox",
         "type": "scattermapbox"
        },
        {
         "hovertemplate": "Customers=Faulkner University<br>Invoice Amount=%{marker.size}<br>Lat=%{lat}<br>Long=%{lon}<extra></extra>",
         "lat": [
          32.38341
         ],
         "legendgroup": "Faulkner University",
         "lon": [
          -86.216411
         ],
         "marker": {
          "color": "#00cc96",
          "size": [
           6000
          ],
          "sizemode": "area",
          "sizeref": 375
         },
         "mode": "markers",
         "name": "Faulkner University",
         "showlegend": true,
         "subplot": "mapbox",
         "type": "scattermapbox"
        },
        {
         "hovertemplate": "Customers=Fayetteville State University<br>Invoice Amount=%{marker.size}<br>Lat=%{lat}<br>Long=%{lon}<extra></extra>",
         "lat": [
          35.072882,
          35.072882,
          35.072882,
          35.072882,
          35.072882
         ],
         "legendgroup": "Fayetteville State University",
         "lon": [
          -78.893753,
          -78.893753,
          -78.893753,
          -78.893753,
          -78.893753
         ],
         "marker": {
          "color": "#ab63fa",
          "size": [
           9000,
           9000,
           9000,
           9000,
           9000
          ],
          "sizemode": "area",
          "sizeref": 375
         },
         "mode": "markers",
         "name": "Fayetteville State University",
         "showlegend": true,
         "subplot": "mapbox",
         "type": "scattermapbox"
        },
        {
         "hovertemplate": "Customers=Felician University<br>Invoice Amount=%{marker.size}<br>Lat=%{lat}<br>Long=%{lon}<extra></extra>",
         "lat": [
          40.829705
         ],
         "legendgroup": "Felician University",
         "lon": [
          -74.111522
         ],
         "marker": {
          "color": "#FFA15A",
          "size": [
           750
          ],
          "sizemode": "area",
          "sizeref": 375
         },
         "mode": "markers",
         "name": "Felician University",
         "showlegend": true,
         "subplot": "mapbox",
         "type": "scattermapbox"
        },
        {
         "hovertemplate": "Customers=Ferris State University<br>Invoice Amount=%{marker.size}<br>Lat=%{lat}<br>Long=%{lon}<extra></extra>",
         "lat": [
          43.686786,
          43.686786
         ],
         "legendgroup": "Ferris State University",
         "lon": [
          -85.480963,
          -85.480963
         ],
         "marker": {
          "color": "#19d3f3",
          "size": [
           7790,
           7790
          ],
          "sizemode": "area",
          "sizeref": 375
         },
         "mode": "markers",
         "name": "Ferris State University",
         "showlegend": true,
         "subplot": "mapbox",
         "type": "scattermapbox"
        },
        {
         "hovertemplate": "Customers=Florida Southwestern State College<br>Invoice Amount=%{marker.size}<br>Lat=%{lat}<br>Long=%{lon}<extra></extra>",
         "lat": [
          26.551674
         ],
         "legendgroup": "Florida Southwestern State College",
         "lon": [
          -81.889023
         ],
         "marker": {
          "color": "#FF6692",
          "size": [
           4000
          ],
          "sizemode": "area",
          "sizeref": 375
         },
         "mode": "markers",
         "name": "Florida Southwestern State College",
         "showlegend": true,
         "subplot": "mapbox",
         "type": "scattermapbox"
        },
        {
         "hovertemplate": "Customers=Florida State University<br>Invoice Amount=%{marker.size}<br>Lat=%{lat}<br>Long=%{lon}<extra></extra>",
         "lat": [
          30.440722,
          30.440722
         ],
         "legendgroup": "Florida State University",
         "lon": [
          -84.299188,
          -84.299188
         ],
         "marker": {
          "color": "#B6E880",
          "size": [
           4050,
           4050
          ],
          "sizemode": "area",
          "sizeref": 375
         },
         "mode": "markers",
         "name": "Florida State University",
         "showlegend": true,
         "subplot": "mapbox",
         "type": "scattermapbox"
        },
        {
         "hovertemplate": "Customers=Floyd County Schools<br>Invoice Amount=%{marker.size}<br>Lat=%{lat}<br>Long=%{lon}<extra></extra>",
         "lat": [
          34.278778
         ],
         "legendgroup": "Floyd County Schools",
         "lon": [
          -85.169274
         ],
         "marker": {
          "color": "#FF97FF",
          "size": [
           6825
          ],
          "sizemode": "area",
          "sizeref": 375
         },
         "mode": "markers",
         "name": "Floyd County Schools",
         "showlegend": true,
         "subplot": "mapbox",
         "type": "scattermapbox"
        },
        {
         "hovertemplate": "Customers=Fort Mill School District<br>Invoice Amount=%{marker.size}<br>Lat=%{lat}<br>Long=%{lon}<extra></extra>",
         "lat": [
          35.050377000000005
         ],
         "legendgroup": "Fort Mill School District",
         "lon": [
          -80.949466
         ],
         "marker": {
          "color": "#FECB52",
          "size": [
           750
          ],
          "sizemode": "area",
          "sizeref": 375
         },
         "mode": "markers",
         "name": "Fort Mill School District",
         "showlegend": true,
         "subplot": "mapbox",
         "type": "scattermapbox"
        },
        {
         "hovertemplate": "Customers=Four Corners Coalition<br>Invoice Amount=%{marker.size}<br>Lat=%{lat}<br>Long=%{lon}<extra></extra>",
         "lat": [
          42.298693,
          42.298693
         ],
         "legendgroup": "Four Corners Coalition",
         "lon": [
          -71.073436,
          -71.073436
         ],
         "marker": {
          "color": "#636efa",
          "size": [
           1000,
           1000
          ],
          "sizemode": "area",
          "sizeref": 375
         },
         "mode": "markers",
         "name": "Four Corners Coalition",
         "showlegend": true,
         "subplot": "mapbox",
         "type": "scattermapbox"
        },
        {
         "hovertemplate": "Customers=Francis Marion University<br>Invoice Amount=%{marker.size}<br>Lat=%{lat}<br>Long=%{lon}<extra></extra>",
         "lat": [
          34.196573
         ],
         "legendgroup": "Francis Marion University",
         "lon": [
          -79.655068
         ],
         "marker": {
          "color": "#EF553B",
          "size": [
           2100
          ],
          "sizemode": "area",
          "sizeref": 375
         },
         "mode": "markers",
         "name": "Francis Marion University",
         "showlegend": true,
         "subplot": "mapbox",
         "type": "scattermapbox"
        },
        {
         "hovertemplate": "Customers=George Mason University<br>Invoice Amount=%{marker.size}<br>Lat=%{lat}<br>Long=%{lon}<extra></extra>",
         "lat": [
          38.835479,
          38.835479,
          38.835479
         ],
         "legendgroup": "George Mason University",
         "lon": [
          -77.30904,
          -77.30904,
          -77.30904
         ],
         "marker": {
          "color": "#00cc96",
          "size": [
           7125,
           7125,
           7125
          ],
          "sizemode": "area",
          "sizeref": 375
         },
         "mode": "markers",
         "name": "George Mason University",
         "showlegend": true,
         "subplot": "mapbox",
         "type": "scattermapbox"
        },
        {
         "hovertemplate": "Customers=Georgia College and State University<br>Invoice Amount=%{marker.size}<br>Lat=%{lat}<br>Long=%{lon}<extra></extra>",
         "lat": [
          33.080841,
          33.080841,
          33.080841,
          33.080841,
          33.080841,
          33.080841
         ],
         "legendgroup": "Georgia College and State University",
         "lon": [
          -83.231778,
          -83.231778,
          -83.231778,
          -83.231778,
          -83.231778,
          -83.231778
         ],
         "marker": {
          "color": "#ab63fa",
          "size": [
           10000,
           10000,
           10000,
           10000,
           10000,
           10000
          ],
          "sizemode": "area",
          "sizeref": 375
         },
         "mode": "markers",
         "name": "Georgia College and State University",
         "showlegend": true,
         "subplot": "mapbox",
         "type": "scattermapbox"
        },
        {
         "hovertemplate": "Customers=Georgia Gwinnett College<br>Invoice Amount=%{marker.size}<br>Lat=%{lat}<br>Long=%{lon}<extra></extra>",
         "lat": [
          33.980705,
          34.05945,
          33.980705,
          33.980705,
          33.980705,
          33.980705,
          33.980705
         ],
         "legendgroup": "Georgia Gwinnett College",
         "lon": [
          -84.00120799999998,
          -84.05721199999998,
          -84.00120799999998,
          -84.00120799999998,
          -84.00120799999998,
          -84.00120799999998,
          -84.00120799999998
         ],
         "marker": {
          "color": "#FFA15A",
          "size": [
           17350,
           17350,
           17350,
           17350,
           17350,
           17350,
           17350
          ],
          "sizemode": "area",
          "sizeref": 375
         },
         "mode": "markers",
         "name": "Georgia Gwinnett College",
         "showlegend": true,
         "subplot": "mapbox",
         "type": "scattermapbox"
        },
        {
         "hovertemplate": "Customers=Georgia Southern University<br>Invoice Amount=%{marker.size}<br>Lat=%{lat}<br>Long=%{lon}<extra></extra>",
         "lat": [
          32.42616,
          32.42616,
          32.42616
         ],
         "legendgroup": "Georgia Southern University",
         "lon": [
          -81.784036,
          -81.784036,
          -81.784036
         ],
         "marker": {
          "color": "#19d3f3",
          "size": [
           10250,
           10250,
           10250
          ],
          "sizemode": "area",
          "sizeref": 375
         },
         "mode": "markers",
         "name": "Georgia Southern University",
         "showlegend": true,
         "subplot": "mapbox",
         "type": "scattermapbox"
        },
        {
         "hovertemplate": "Customers=Georgia Southwestern State University<br>Invoice Amount=%{marker.size}<br>Lat=%{lat}<br>Long=%{lon}<extra></extra>",
         "lat": [
          32.056276000000004
         ],
         "legendgroup": "Georgia Southwestern State University",
         "lon": [
          -84.216298
         ],
         "marker": {
          "color": "#FF6692",
          "size": [
           7350
          ],
          "sizemode": "area",
          "sizeref": 375
         },
         "mode": "markers",
         "name": "Georgia Southwestern State University",
         "showlegend": true,
         "subplot": "mapbox",
         "type": "scattermapbox"
        },
        {
         "hovertemplate": "Customers=Gettysburg College<br>Invoice Amount=%{marker.size}<br>Lat=%{lat}<br>Long=%{lon}<extra></extra>",
         "lat": [
          39.83495300000001
         ],
         "legendgroup": "Gettysburg College",
         "lon": [
          -77.234305
         ],
         "marker": {
          "color": "#B6E880",
          "size": [
           2000
          ],
          "sizemode": "area",
          "sizeref": 375
         },
         "mode": "markers",
         "name": "Gettysburg College",
         "showlegend": true,
         "subplot": "mapbox",
         "type": "scattermapbox"
        },
        {
         "hovertemplate": "Customers=Governors State University<br>Invoice Amount=%{marker.size}<br>Lat=%{lat}<br>Long=%{lon}<extra></extra>",
         "lat": [
          41.446696,
          41.446696,
          41.446696,
          41.446696
         ],
         "legendgroup": "Governors State University",
         "lon": [
          -87.719756,
          -87.719756,
          -87.719756,
          -87.719756
         ],
         "marker": {
          "color": "#FF97FF",
          "size": [
           8125,
           8125,
           8125,
           8125
          ],
          "sizemode": "area",
          "sizeref": 375
         },
         "mode": "markers",
         "name": "Governors State University",
         "showlegend": true,
         "subplot": "mapbox",
         "type": "scattermapbox"
        },
        {
         "hovertemplate": "Customers=Greenville College<br>Invoice Amount=%{marker.size}<br>Lat=%{lat}<br>Long=%{lon}<extra></extra>",
         "lat": [
          38.892942,
          38.892942,
          38.892942,
          38.892942
         ],
         "legendgroup": "Greenville College",
         "lon": [
          -89.410143,
          -89.410143,
          -89.410143,
          -89.410143
         ],
         "marker": {
          "color": "#FECB52",
          "size": [
           3250,
           3250,
           3250,
           3250
          ],
          "sizemode": "area",
          "sizeref": 375
         },
         "mode": "markers",
         "name": "Greenville College",
         "showlegend": true,
         "subplot": "mapbox",
         "type": "scattermapbox"
        },
        {
         "hovertemplate": "Customers=Hanover College<br>Invoice Amount=%{marker.size}<br>Lat=%{lat}<br>Long=%{lon}<extra></extra>",
         "lat": [
          38.71940900000001
         ],
         "legendgroup": "Hanover College",
         "lon": [
          -85.461254
         ],
         "marker": {
          "color": "#636efa",
          "size": [
           550
          ],
          "sizemode": "area",
          "sizeref": 375
         },
         "mode": "markers",
         "name": "Hanover College",
         "showlegend": true,
         "subplot": "mapbox",
         "type": "scattermapbox"
        },
        {
         "hovertemplate": "Customers=Harding University, College of Education<br>Invoice Amount=%{marker.size}<br>Lat=%{lat}<br>Long=%{lon}<extra></extra>",
         "lat": [
          35.246358,
          35.246358
         ],
         "legendgroup": "Harding University, College of Education",
         "lon": [
          -91.725751,
          -91.725751
         ],
         "marker": {
          "color": "#EF553B",
          "size": [
           2250,
           2250
          ],
          "sizemode": "area",
          "sizeref": 375
         },
         "mode": "markers",
         "name": "Harding University, College of Education",
         "showlegend": true,
         "subplot": "mapbox",
         "type": "scattermapbox"
        },
        {
         "hovertemplate": "Customers=Hartwick College<br>Invoice Amount=%{marker.size}<br>Lat=%{lat}<br>Long=%{lon}<extra></extra>",
         "lat": [
          42.49594
         ],
         "legendgroup": "Hartwick College",
         "lon": [
          -75.07467
         ],
         "marker": {
          "color": "#00cc96",
          "size": [
           900
          ],
          "sizemode": "area",
          "sizeref": 375
         },
         "mode": "markers",
         "name": "Hartwick College",
         "showlegend": true,
         "subplot": "mapbox",
         "type": "scattermapbox"
        },
        {
         "hovertemplate": "Customers=Hawaii State Teachers Association<br>Invoice Amount=%{marker.size}<br>Lat=%{lat}<br>Long=%{lon}<extra></extra>",
         "lat": [
          21.36711
         ],
         "legendgroup": "Hawaii State Teachers Association",
         "lon": [
          -157.90399399999995
         ],
         "marker": {
          "color": "#ab63fa",
          "size": [
           750
          ],
          "sizemode": "area",
          "sizeref": 375
         },
         "mode": "markers",
         "name": "Hawaii State Teachers Association",
         "showlegend": true,
         "subplot": "mapbox",
         "type": "scattermapbox"
        },
        {
         "hovertemplate": "Customers=Heritage University<br>Invoice Amount=%{marker.size}<br>Lat=%{lat}<br>Long=%{lon}<extra></extra>",
         "lat": [
          46.374282
         ],
         "legendgroup": "Heritage University",
         "lon": [
          -120.395532
         ],
         "marker": {
          "color": "#FFA15A",
          "size": [
           6000
          ],
          "sizemode": "area",
          "sizeref": 375
         },
         "mode": "markers",
         "name": "Heritage University",
         "showlegend": true,
         "subplot": "mapbox",
         "type": "scattermapbox"
        },
        {
         "hovertemplate": "Customers=Hobart and William Smith Colleges<br>Invoice Amount=%{marker.size}<br>Lat=%{lat}<br>Long=%{lon}<extra></extra>",
         "lat": [
          42.859346
         ],
         "legendgroup": "Hobart and William Smith Colleges",
         "lon": [
          -76.985599
         ],
         "marker": {
          "color": "#19d3f3",
          "size": [
           525
          ],
          "sizemode": "area",
          "sizeref": 375
         },
         "mode": "markers",
         "name": "Hobart and William Smith Colleges",
         "showlegend": true,
         "subplot": "mapbox",
         "type": "scattermapbox"
        },
        {
         "hovertemplate": "Customers=Holyoke Community College<br>Invoice Amount=%{marker.size}<br>Lat=%{lat}<br>Long=%{lon}<extra></extra>",
         "lat": [
          42.19391
         ],
         "legendgroup": "Holyoke Community College",
         "lon": [
          -72.64745
         ],
         "marker": {
          "color": "#FF6692",
          "size": [
           1000
          ],
          "sizemode": "area",
          "sizeref": 375
         },
         "mode": "markers",
         "name": "Holyoke Community College",
         "showlegend": true,
         "subplot": "mapbox",
         "type": "scattermapbox"
        },
        {
         "hovertemplate": "Customers=Homewood City Schools<br>Invoice Amount=%{marker.size}<br>Lat=%{lat}<br>Long=%{lon}<extra></extra>",
         "lat": [
          33.47746
         ],
         "legendgroup": "Homewood City Schools",
         "lon": [
          -86.80564100000002
         ],
         "marker": {
          "color": "#B6E880",
          "size": [
           6300
          ],
          "sizemode": "area",
          "sizeref": 375
         },
         "mode": "markers",
         "name": "Homewood City Schools",
         "showlegend": true,
         "subplot": "mapbox",
         "type": "scattermapbox"
        },
        {
         "hovertemplate": "Customers=Hope International University<br>Invoice Amount=%{marker.size}<br>Lat=%{lat}<br>Long=%{lon}<extra></extra>",
         "lat": [
          33.877416,
          33.877416
         ],
         "legendgroup": "Hope International University",
         "lon": [
          -117.88516,
          -117.88516
         ],
         "marker": {
          "color": "#FF97FF",
          "size": [
           2250,
           2250
          ],
          "sizemode": "area",
          "sizeref": 375
         },
         "mode": "markers",
         "name": "Hope International University",
         "showlegend": true,
         "subplot": "mapbox",
         "type": "scattermapbox"
        },
        {
         "hovertemplate": "Customers=Houghton College<br>Invoice Amount=%{marker.size}<br>Lat=%{lat}<br>Long=%{lon}<extra></extra>",
         "lat": [
          42.428006
         ],
         "legendgroup": "Houghton College",
         "lon": [
          -78.154758
         ],
         "marker": {
          "color": "#FECB52",
          "size": [
           2500
          ],
          "sizemode": "area",
          "sizeref": 375
         },
         "mode": "markers",
         "name": "Houghton College",
         "showlegend": true,
         "subplot": "mapbox",
         "type": "scattermapbox"
        },
        {
         "hovertemplate": "Customers=Hudson Valley Community College<br>Invoice Amount=%{marker.size}<br>Lat=%{lat}<br>Long=%{lon}<extra></extra>",
         "lat": [
          42.69664,
          42.69664
         ],
         "legendgroup": "Hudson Valley Community College",
         "lon": [
          -73.683743,
          -73.683743
         ],
         "marker": {
          "color": "#636efa",
          "size": [
           800,
           800
          ],
          "sizemode": "area",
          "sizeref": 375
         },
         "mode": "markers",
         "name": "Hudson Valley Community College",
         "showlegend": true,
         "subplot": "mapbox",
         "type": "scattermapbox"
        },
        {
         "hovertemplate": "Customers=Humboldt State University<br>Invoice Amount=%{marker.size}<br>Lat=%{lat}<br>Long=%{lon}<extra></extra>",
         "lat": [
          40.874542,
          40.874542,
          40.874542
         ],
         "legendgroup": "Humboldt State University",
         "lon": [
          -124.079145,
          -124.079145,
          -124.079145
         ],
         "marker": {
          "color": "#EF553B",
          "size": [
           4350,
           4350,
           4350
          ],
          "sizemode": "area",
          "sizeref": 375
         },
         "mode": "markers",
         "name": "Humboldt State University",
         "showlegend": true,
         "subplot": "mapbox",
         "type": "scattermapbox"
        },
        {
         "hovertemplate": "Customers=Humboldt State University – Art Department<br>Invoice Amount=%{marker.size}<br>Lat=%{lat}<br>Long=%{lon}<extra></extra>",
         "lat": [
          40.874542
         ],
         "legendgroup": "Humboldt State University – Art Department",
         "lon": [
          -124.079145
         ],
         "marker": {
          "color": "#00cc96",
          "size": [
           500
          ],
          "sizemode": "area",
          "sizeref": 375
         },
         "mode": "markers",
         "name": "Humboldt State University – Art Department",
         "showlegend": true,
         "subplot": "mapbox",
         "type": "scattermapbox"
        },
        {
         "hovertemplate": "Customers=Husson University<br>Invoice Amount=%{marker.size}<br>Lat=%{lat}<br>Long=%{lon}<extra></extra>",
         "lat": [
          44.827225
         ],
         "legendgroup": "Husson University",
         "lon": [
          -68.791326
         ],
         "marker": {
          "color": "#ab63fa",
          "size": [
           1000
          ],
          "sizemode": "area",
          "sizeref": 375
         },
         "mode": "markers",
         "name": "Husson University",
         "showlegend": true,
         "subplot": "mapbox",
         "type": "scattermapbox"
        },
        {
         "hovertemplate": "Customers=Illinois College<br>Invoice Amount=%{marker.size}<br>Lat=%{lat}<br>Long=%{lon}<extra></extra>",
         "lat": [
          39.73221,
          39.73221,
          39.73221
         ],
         "legendgroup": "Illinois College",
         "lon": [
          -90.246947,
          -90.246947,
          -90.246947
         ],
         "marker": {
          "color": "#FFA15A",
          "size": [
           11200,
           11200,
           11200
          ],
          "sizemode": "area",
          "sizeref": 375
         },
         "mode": "markers",
         "name": "Illinois College",
         "showlegend": true,
         "subplot": "mapbox",
         "type": "scattermapbox"
        },
        {
         "hovertemplate": "Customers=Illinois National Board Resource Center<br>Invoice Amount=%{marker.size}<br>Lat=%{lat}<br>Long=%{lon}<extra></extra>",
         "lat": [
          39.73221,
          39.73221
         ],
         "legendgroup": "Illinois National Board Resource Center",
         "lon": [
          -90.246947,
          -90.246947
         ],
         "marker": {
          "color": "#19d3f3",
          "size": [
           16500,
           16500
          ],
          "sizemode": "area",
          "sizeref": 375
         },
         "mode": "markers",
         "name": "Illinois National Board Resource Center",
         "showlegend": true,
         "subplot": "mapbox",
         "type": "scattermapbox"
        },
        {
         "hovertemplate": "Customers=Illinois State University Board of Trustees<br>Invoice Amount=%{marker.size}<br>Lat=%{lat}<br>Long=%{lon}<extra></extra>",
         "lat": [
          41.5028
         ],
         "legendgroup": "Illinois State University Board of Trustees",
         "lon": [
          -87.68429300000003
         ],
         "marker": {
          "color": "#FF6692",
          "size": [
           3500
          ],
          "sizemode": "area",
          "sizeref": 375
         },
         "mode": "markers",
         "name": "Illinois State University Board of Trustees",
         "showlegend": true,
         "subplot": "mapbox",
         "type": "scattermapbox"
        },
        {
         "hovertemplate": "Customers=Indiana University Libraries<br>Invoice Amount=%{marker.size}<br>Lat=%{lat}<br>Long=%{lon}<extra></extra>",
         "lat": [
          39.170993,
          39.170993,
          39.170993
         ],
         "legendgroup": "Indiana University Libraries",
         "lon": [
          -86.516786,
          -86.516786,
          -86.516786
         ],
         "marker": {
          "color": "#B6E880",
          "size": [
           16500,
           16500,
           16500
          ],
          "sizemode": "area",
          "sizeref": 375
         },
         "mode": "markers",
         "name": "Indiana University Libraries",
         "showlegend": true,
         "subplot": "mapbox",
         "type": "scattermapbox"
        },
        {
         "hovertemplate": "Customers=Ithaca College<br>Invoice Amount=%{marker.size}<br>Lat=%{lat}<br>Long=%{lon}<extra></extra>",
         "lat": [
          42.42216,
          42.42216
         ],
         "legendgroup": "Ithaca College",
         "lon": [
          -76.500039,
          -76.500039
         ],
         "marker": {
          "color": "#FF97FF",
          "size": [
           1750,
           1750
          ],
          "sizemode": "area",
          "sizeref": 375
         },
         "mode": "markers",
         "name": "Ithaca College",
         "showlegend": true,
         "subplot": "mapbox",
         "type": "scattermapbox"
        },
        {
         "hovertemplate": "Customers=James Madison University College of Education<br>Invoice Amount=%{marker.size}<br>Lat=%{lat}<br>Long=%{lon}<extra></extra>",
         "lat": [
          38.4448,
          38.4448,
          38.4448
         ],
         "legendgroup": "James Madison University College of Education",
         "lon": [
          -78.878649,
          -78.878649,
          -78.878649
         ],
         "marker": {
          "color": "#FECB52",
          "size": [
           18719.25,
           18719.25,
           18719.25
          ],
          "sizemode": "area",
          "sizeref": 375
         },
         "mode": "markers",
         "name": "James Madison University College of Education",
         "showlegend": true,
         "subplot": "mapbox",
         "type": "scattermapbox"
        },
        {
         "hovertemplate": "Customers=John Carroll University<br>Invoice Amount=%{marker.size}<br>Lat=%{lat}<br>Long=%{lon}<extra></extra>",
         "lat": [
          41.49021,
          41.49021
         ],
         "legendgroup": "John Carroll University",
         "lon": [
          -81.53125,
          -81.53125
         ],
         "marker": {
          "color": "#636efa",
          "size": [
           1500,
           1500
          ],
          "sizemode": "area",
          "sizeref": 375
         },
         "mode": "markers",
         "name": "John Carroll University",
         "showlegend": true,
         "subplot": "mapbox",
         "type": "scattermapbox"
        },
        {
         "hovertemplate": "Customers=John Hopkins University<br>Invoice Amount=%{marker.size}<br>Lat=%{lat}<br>Long=%{lon}<extra></extra>",
         "lat": [
          39.36988,
          39.36988
         ],
         "legendgroup": "John Hopkins University",
         "lon": [
          -76.654921,
          -76.654921
         ],
         "marker": {
          "color": "#EF553B",
          "size": [
           3980,
           3980
          ],
          "sizemode": "area",
          "sizeref": 375
         },
         "mode": "markers",
         "name": "John Hopkins University",
         "showlegend": true,
         "subplot": "mapbox",
         "type": "scattermapbox"
        },
        {
         "hovertemplate": "Customers=John P. Ellbogen Foundation<br>Invoice Amount=%{marker.size}<br>Lat=%{lat}<br>Long=%{lon}<extra></extra>",
         "lat": [
          41.27981
         ],
         "legendgroup": "John P. Ellbogen Foundation",
         "lon": [
          -105.59022
         ],
         "marker": {
          "color": "#00cc96",
          "size": [
           6300
          ],
          "sizemode": "area",
          "sizeref": 375
         },
         "mode": "markers",
         "name": "John P. Ellbogen Foundation",
         "showlegend": true,
         "subplot": "mapbox",
         "type": "scattermapbox"
        },
        {
         "hovertemplate": "Customers=Kansas State University<br>Invoice Amount=%{marker.size}<br>Lat=%{lat}<br>Long=%{lon}<extra></extra>",
         "lat": [
          39.189982,
          39.189982,
          39.189982,
          39.189982
         ],
         "legendgroup": "Kansas State University",
         "lon": [
          -96.578842,
          -96.578842,
          -96.578842,
          -96.578842
         ],
         "marker": {
          "color": "#ab63fa",
          "size": [
           28500,
           28500,
           28500,
           28500
          ],
          "sizemode": "area",
          "sizeref": 375
         },
         "mode": "markers",
         "name": "Kansas State University",
         "showlegend": true,
         "subplot": "mapbox",
         "type": "scattermapbox"
        },
        {
         "hovertemplate": "Customers=Kennesaw State University<br>Invoice Amount=%{marker.size}<br>Lat=%{lat}<br>Long=%{lon}<extra></extra>",
         "lat": [
          34.033208,
          34.033208,
          34.033208,
          34.033208
         ],
         "legendgroup": "Kennesaw State University",
         "lon": [
          -84.581906,
          -84.581906,
          -84.581906,
          -84.581906
         ],
         "marker": {
          "color": "#FFA15A",
          "size": [
           8600,
           8600,
           8600,
           8600
          ],
          "sizemode": "area",
          "sizeref": 375
         },
         "mode": "markers",
         "name": "Kennesaw State University",
         "showlegend": true,
         "subplot": "mapbox",
         "type": "scattermapbox"
        },
        {
         "hovertemplate": "Customers=Kentucky Community & Technical College<br>Invoice Amount=%{marker.size}<br>Lat=%{lat}<br>Long=%{lon}<extra></extra>",
         "lat": [
          38.058479,
          38.058479
         ],
         "legendgroup": "Kentucky Community & Technical College",
         "lon": [
          -84.727961,
          -84.727961
         ],
         "marker": {
          "color": "#19d3f3",
          "size": [
           15272,
           15272
          ],
          "sizemode": "area",
          "sizeref": 375
         },
         "mode": "markers",
         "name": "Kentucky Community & Technical College",
         "showlegend": true,
         "subplot": "mapbox",
         "type": "scattermapbox"
        },
        {
         "hovertemplate": "Customers=Kentucky EPSB<br>Invoice Amount=%{marker.size}<br>Lat=%{lat}<br>Long=%{lon}<extra></extra>",
         "lat": [
          38.187538
         ],
         "legendgroup": "Kentucky EPSB",
         "lon": [
          -84.84676400000002
         ],
         "marker": {
          "color": "#FF6692",
          "size": [
           7560
          ],
          "sizemode": "area",
          "sizeref": 375
         },
         "mode": "markers",
         "name": "Kentucky EPSB",
         "showlegend": true,
         "subplot": "mapbox",
         "type": "scattermapbox"
        },
        {
         "hovertemplate": "Customers=Kutztown University of Pennsylvania<br>Invoice Amount=%{marker.size}<br>Lat=%{lat}<br>Long=%{lon}<extra></extra>",
         "lat": [
          40.521031,
          40.521031,
          40.521031
         ],
         "legendgroup": "Kutztown University of Pennsylvania",
         "lon": [
          -75.7759,
          -75.7759,
          -75.7759
         ],
         "marker": {
          "color": "#B6E880",
          "size": [
           14500,
           14500,
           14500
          ],
          "sizemode": "area",
          "sizeref": 375
         },
         "mode": "markers",
         "name": "Kutztown University of Pennsylvania",
         "showlegend": true,
         "subplot": "mapbox",
         "type": "scattermapbox"
        },
        {
         "hovertemplate": "Customers=KYDOE-Educator Recruitment and Development<br>Invoice Amount=%{marker.size}<br>Lat=%{lat}<br>Long=%{lon}<extra></extra>",
         "lat": [
          38.184579
         ],
         "legendgroup": "KYDOE-Educator Recruitment and Development",
         "lon": [
          -84.848764
         ],
         "marker": {
          "color": "#FF97FF",
          "size": [
           3810
          ],
          "sizemode": "area",
          "sizeref": 375
         },
         "mode": "markers",
         "name": "KYDOE-Educator Recruitment and Development",
         "showlegend": true,
         "subplot": "mapbox",
         "type": "scattermapbox"
        },
        {
         "hovertemplate": "Customers=LaGrange College<br>Invoice Amount=%{marker.size}<br>Lat=%{lat}<br>Long=%{lon}<extra></extra>",
         "lat": [
          33.039196000000004,
          33.039196000000004
         ],
         "legendgroup": "LaGrange College",
         "lon": [
          -85.042635,
          -85.042635
         ],
         "marker": {
          "color": "#FECB52",
          "size": [
           1000,
           1000
          ],
          "sizemode": "area",
          "sizeref": 375
         },
         "mode": "markers",
         "name": "LaGrange College",
         "showlegend": true,
         "subplot": "mapbox",
         "type": "scattermapbox"
        },
        {
         "hovertemplate": "Customers=Lake Havasu USD<br>Invoice Amount=%{marker.size}<br>Lat=%{lat}<br>Long=%{lon}<extra></extra>",
         "lat": [
          34.497007
         ],
         "legendgroup": "Lake Havasu USD",
         "lon": [
          -114.331063
         ],
         "marker": {
          "color": "#636efa",
          "size": [
           6300
          ],
          "sizemode": "area",
          "sizeref": 375
         },
         "mode": "markers",
         "name": "Lake Havasu USD",
         "showlegend": true,
         "subplot": "mapbox",
         "type": "scattermapbox"
        },
        {
         "hovertemplate": "Customers=Lamar CISD<br>Invoice Amount=%{marker.size}<br>Lat=%{lat}<br>Long=%{lon}<extra></extra>",
         "lat": [
          29.558454
         ],
         "legendgroup": "Lamar CISD",
         "lon": [
          -95.786392
         ],
         "marker": {
          "color": "#EF553B",
          "size": [
           4500
          ],
          "sizemode": "area",
          "sizeref": 375
         },
         "mode": "markers",
         "name": "Lamar CISD",
         "showlegend": true,
         "subplot": "mapbox",
         "type": "scattermapbox"
        },
        {
         "hovertemplate": "Customers=Lebanon Valley College<br>Invoice Amount=%{marker.size}<br>Lat=%{lat}<br>Long=%{lon}<extra></extra>",
         "lat": [
          40.331722
         ],
         "legendgroup": "Lebanon Valley College",
         "lon": [
          -76.513914
         ],
         "marker": {
          "color": "#00cc96",
          "size": [
           3700
          ],
          "sizemode": "area",
          "sizeref": 375
         },
         "mode": "markers",
         "name": "Lebanon Valley College",
         "showlegend": true,
         "subplot": "mapbox",
         "type": "scattermapbox"
        },
        {
         "hovertemplate": "Customers=Lee University School of Music<br>Invoice Amount=%{marker.size}<br>Lat=%{lat}<br>Long=%{lon}<extra></extra>",
         "lat": [
          35.165903,
          35.165903
         ],
         "legendgroup": "Lee University School of Music",
         "lon": [
          -84.87142,
          -84.87142
         ],
         "marker": {
          "color": "#ab63fa",
          "size": [
           862,
           862
          ],
          "sizemode": "area",
          "sizeref": 375
         },
         "mode": "markers",
         "name": "Lee University School of Music",
         "showlegend": true,
         "subplot": "mapbox",
         "type": "scattermapbox"
        },
        {
         "hovertemplate": "Customers=Lehigh Carbon Community College<br>Invoice Amount=%{marker.size}<br>Lat=%{lat}<br>Long=%{lon}<extra></extra>",
         "lat": [
          40.664274
         ],
         "legendgroup": "Lehigh Carbon Community College",
         "lon": [
          -75.612503
         ],
         "marker": {
          "color": "#FFA15A",
          "size": [
           2250
          ],
          "sizemode": "area",
          "sizeref": 375
         },
         "mode": "markers",
         "name": "Lehigh Carbon Community College",
         "showlegend": true,
         "subplot": "mapbox",
         "type": "scattermapbox"
        },
        {
         "hovertemplate": "Customers=Lewis University<br>Invoice Amount=%{marker.size}<br>Lat=%{lat}<br>Long=%{lon}<extra></extra>",
         "lat": [
          41.605429,
          41.605429
         ],
         "legendgroup": "Lewis University",
         "lon": [
          -88.079822,
          -88.079822
         ],
         "marker": {
          "color": "#19d3f3",
          "size": [
           3500,
           3500
          ],
          "sizemode": "area",
          "sizeref": 375
         },
         "mode": "markers",
         "name": "Lewis University",
         "showlegend": true,
         "subplot": "mapbox",
         "type": "scattermapbox"
        },
        {
         "hovertemplate": "Customers=Lindsey Wilson College<br>Invoice Amount=%{marker.size}<br>Lat=%{lat}<br>Long=%{lon}<extra></extra>",
         "lat": [
          37.10241
         ],
         "legendgroup": "Lindsey Wilson College",
         "lon": [
          -85.300196
         ],
         "marker": {
          "color": "#FF6692",
          "size": [
           2500
          ],
          "sizemode": "area",
          "sizeref": 375
         },
         "mode": "markers",
         "name": "Lindsey Wilson College",
         "showlegend": true,
         "subplot": "mapbox",
         "type": "scattermapbox"
        },
        {
         "hovertemplate": "Customers=Lorain County Community College<br>Invoice Amount=%{marker.size}<br>Lat=%{lat}<br>Long=%{lon}<extra></extra>",
         "lat": [
          41.41311500000001,
          41.41311500000001
         ],
         "legendgroup": "Lorain County Community College",
         "lon": [
          -82.07361800000002,
          -82.07361800000002
         ],
         "marker": {
          "color": "#B6E880",
          "size": [
           1725,
           1725
          ],
          "sizemode": "area",
          "sizeref": 375
         },
         "mode": "markers",
         "name": "Lorain County Community College",
         "showlegend": true,
         "subplot": "mapbox",
         "type": "scattermapbox"
        },
        {
         "hovertemplate": "Customers=Louisiana Board of Regents<br>Invoice Amount=%{marker.size}<br>Lat=%{lat}<br>Long=%{lon}<extra></extra>",
         "lat": [
          30.46019,
          30.459975
         ],
         "legendgroup": "Louisiana Board of Regents",
         "lon": [
          -91.18853,
          -91.188601
         ],
         "marker": {
          "color": "#FF97FF",
          "size": [
           139000,
           139000
          ],
          "sizemode": "area",
          "sizeref": 375
         },
         "mode": "markers",
         "name": "Louisiana Board of Regents",
         "showlegend": true,
         "subplot": "mapbox",
         "type": "scattermapbox"
        },
        {
         "hovertemplate": "Customers=Louisiana State University Baton Rouge<br>Invoice Amount=%{marker.size}<br>Lat=%{lat}<br>Long=%{lon}<extra></extra>",
         "lat": [
          30.414918,
          30.414918
         ],
         "legendgroup": "Louisiana State University Baton Rouge",
         "lon": [
          -91.180665,
          -91.180665
         ],
         "marker": {
          "color": "#FECB52",
          "size": [
           7000,
           7000
          ],
          "sizemode": "area",
          "sizeref": 375
         },
         "mode": "markers",
         "name": "Louisiana State University Baton Rouge",
         "showlegend": true,
         "subplot": "mapbox",
         "type": "scattermapbox"
        },
        {
         "hovertemplate": "Customers=Louisiana State University of Alexandria<br>Invoice Amount=%{marker.size}<br>Lat=%{lat}<br>Long=%{lon}<extra></extra>",
         "lat": [
          31.197474
         ],
         "legendgroup": "Louisiana State University of Alexandria",
         "lon": [
          -92.42179
         ],
         "marker": {
          "color": "#636efa",
          "size": [
           562
          ],
          "sizemode": "area",
          "sizeref": 375
         },
         "mode": "markers",
         "name": "Louisiana State University of Alexandria",
         "showlegend": true,
         "subplot": "mapbox",
         "type": "scattermapbox"
        },
        {
         "hovertemplate": "Customers=Louisiana State University Shreveport<br>Invoice Amount=%{marker.size}<br>Lat=%{lat}<br>Long=%{lon}<extra></extra>",
         "lat": [
          32.432158
         ],
         "legendgroup": "Louisiana State University Shreveport",
         "lon": [
          -93.701816
         ],
         "marker": {
          "color": "#EF553B",
          "size": [
           1750
          ],
          "sizemode": "area",
          "sizeref": 375
         },
         "mode": "markers",
         "name": "Louisiana State University Shreveport",
         "showlegend": true,
         "subplot": "mapbox",
         "type": "scattermapbox"
        },
        {
         "hovertemplate": "Customers=Louisiana Tech University<br>Invoice Amount=%{marker.size}<br>Lat=%{lat}<br>Long=%{lon}<extra></extra>",
         "lat": [
          32.595875
         ],
         "legendgroup": "Louisiana Tech University",
         "lon": [
          -92.609638
         ],
         "marker": {
          "color": "#00cc96",
          "size": [
           2700
          ],
          "sizemode": "area",
          "sizeref": 375
         },
         "mode": "markers",
         "name": "Louisiana Tech University",
         "showlegend": true,
         "subplot": "mapbox",
         "type": "scattermapbox"
        },
        {
         "hovertemplate": "Customers=Lyndonville Central School District<br>Invoice Amount=%{marker.size}<br>Lat=%{lat}<br>Long=%{lon}<extra></extra>",
         "lat": [
          43.323493
         ],
         "legendgroup": "Lyndonville Central School District",
         "lon": [
          -78.39410500000002
         ],
         "marker": {
          "color": "#ab63fa",
          "size": [
           1880
          ],
          "sizemode": "area",
          "sizeref": 375
         },
         "mode": "markers",
         "name": "Lyndonville Central School District",
         "showlegend": true,
         "subplot": "mapbox",
         "type": "scattermapbox"
        },
        {
         "hovertemplate": "Customers=Manhattanville College<br>Invoice Amount=%{marker.size}<br>Lat=%{lat}<br>Long=%{lon}<extra></extra>",
         "lat": [
          41.032181,
          41.032181,
          41.032181,
          41.032181
         ],
         "legendgroup": "Manhattanville College",
         "lon": [
          -73.71566800000002,
          -73.71566800000002,
          -73.71566800000002,
          -73.71566800000002
         ],
         "marker": {
          "color": "#FFA15A",
          "size": [
           4375,
           4375,
           4375,
           4375
          ],
          "sizemode": "area",
          "sizeref": 375
         },
         "mode": "markers",
         "name": "Manhattanville College",
         "showlegend": true,
         "subplot": "mapbox",
         "type": "scattermapbox"
        },
        {
         "hovertemplate": "Customers=Maricopa CC District Rio Salado College<br>Invoice Amount=%{marker.size}<br>Lat=%{lat}<br>Long=%{lon}<extra></extra>",
         "lat": [
          33.412756
         ],
         "legendgroup": "Maricopa CC District Rio Salado College",
         "lon": [
          -111.974037
         ],
         "marker": {
          "color": "#19d3f3",
          "size": [
           26250
          ],
          "sizemode": "area",
          "sizeref": 375
         },
         "mode": "markers",
         "name": "Maricopa CC District Rio Salado College",
         "showlegend": true,
         "subplot": "mapbox",
         "type": "scattermapbox"
        },
        {
         "hovertemplate": "Customers=Marietta College<br>Invoice Amount=%{marker.size}<br>Lat=%{lat}<br>Long=%{lon}<extra></extra>",
         "lat": [
          39.416484,
          39.416484
         ],
         "legendgroup": "Marietta College",
         "lon": [
          -81.448914,
          -81.448914
         ],
         "marker": {
          "color": "#FF6692",
          "size": [
           4930,
           4930
          ],
          "sizemode": "area",
          "sizeref": 375
         },
         "mode": "markers",
         "name": "Marietta College",
         "showlegend": true,
         "subplot": "mapbox",
         "type": "scattermapbox"
        },
        {
         "hovertemplate": "Customers=Maryville College<br>Invoice Amount=%{marker.size}<br>Lat=%{lat}<br>Long=%{lon}<extra></extra>",
         "lat": [
          35.750561,
          35.750561
         ],
         "legendgroup": "Maryville College",
         "lon": [
          -83.962582,
          -83.962582
         ],
         "marker": {
          "color": "#B6E880",
          "size": [
           1087,
           1087
          ],
          "sizemode": "area",
          "sizeref": 375
         },
         "mode": "markers",
         "name": "Maryville College",
         "showlegend": true,
         "subplot": "mapbox",
         "type": "scattermapbox"
        },
        {
         "hovertemplate": "Customers=McLean County Unit District No.<br>Invoice Amount=%{marker.size}<br>Lat=%{lat}<br>Long=%{lon}<extra></extra>",
         "lat": [
          40.502058
         ],
         "legendgroup": "McLean County Unit District No.",
         "lon": [
          -89.021776
         ],
         "marker": {
          "color": "#FF97FF",
          "size": [
           780
          ],
          "sizemode": "area",
          "sizeref": 375
         },
         "mode": "markers",
         "name": "McLean County Unit District No.",
         "showlegend": true,
         "subplot": "mapbox",
         "type": "scattermapbox"
        },
        {
         "hovertemplate": "Customers=Medaille College<br>Invoice Amount=%{marker.size}<br>Lat=%{lat}<br>Long=%{lon}<extra></extra>",
         "lat": [
          42.928868
         ],
         "legendgroup": "Medaille College",
         "lon": [
          -78.85667600000002
         ],
         "marker": {
          "color": "#FECB52",
          "size": [
           3000
          ],
          "sizemode": "area",
          "sizeref": 375
         },
         "mode": "markers",
         "name": "Medaille College",
         "showlegend": true,
         "subplot": "mapbox",
         "type": "scattermapbox"
        },
        {
         "hovertemplate": "Customers=Mercer University<br>Invoice Amount=%{marker.size}<br>Lat=%{lat}<br>Long=%{lon}<extra></extra>",
         "lat": [
          32.829056,
          32.829056,
          32.829056
         ],
         "legendgroup": "Mercer University",
         "lon": [
          -83.649261,
          -83.649261,
          -83.649261
         ],
         "marker": {
          "color": "#636efa",
          "size": [
           8500,
           8500,
           8500
          ],
          "sizemode": "area",
          "sizeref": 375
         },
         "mode": "markers",
         "name": "Mercer University",
         "showlegend": true,
         "subplot": "mapbox",
         "type": "scattermapbox"
        },
        {
         "hovertemplate": "Customers=Meredith College<br>Invoice Amount=%{marker.size}<br>Lat=%{lat}<br>Long=%{lon}<extra></extra>",
         "lat": [
          35.79844
         ],
         "legendgroup": "Meredith College",
         "lon": [
          -78.688283
         ],
         "marker": {
          "color": "#EF553B",
          "size": [
           800
          ],
          "sizemode": "area",
          "sizeref": 375
         },
         "mode": "markers",
         "name": "Meredith College",
         "showlegend": true,
         "subplot": "mapbox",
         "type": "scattermapbox"
        },
        {
         "hovertemplate": "Customers=Metro RESA<br>Invoice Amount=%{marker.size}<br>Lat=%{lat}<br>Long=%{lon}<extra></extra>",
         "lat": [
          33.885073,
          33.885073,
          33.885073
         ],
         "legendgroup": "Metro RESA",
         "lon": [
          -84.499643,
          -84.499643,
          -84.499643
         ],
         "marker": {
          "color": "#00cc96",
          "size": [
           7800,
           7800,
           7800
          ],
          "sizemode": "area",
          "sizeref": 375
         },
         "mode": "markers",
         "name": "Metro RESA",
         "showlegend": true,
         "subplot": "mapbox",
         "type": "scattermapbox"
        },
        {
         "hovertemplate": "Customers=Miami University<br>Invoice Amount=%{marker.size}<br>Lat=%{lat}<br>Long=%{lon}<extra></extra>",
         "lat": [
          42.820464
         ],
         "legendgroup": "Miami University",
         "lon": [
          -83.250381
         ],
         "marker": {
          "color": "#ab63fa",
          "size": [
           1250
          ],
          "sizemode": "area",
          "sizeref": 375
         },
         "mode": "markers",
         "name": "Miami University",
         "showlegend": true,
         "subplot": "mapbox",
         "type": "scattermapbox"
        },
        {
         "hovertemplate": "Customers=Miami University-Oxford<br>Invoice Amount=%{marker.size}<br>Lat=%{lat}<br>Long=%{lon}<extra></extra>",
         "lat": [
          39.509498
         ],
         "legendgroup": "Miami University-Oxford",
         "lon": [
          -84.734465
         ],
         "marker": {
          "color": "#FFA15A",
          "size": [
           750
          ],
          "sizemode": "area",
          "sizeref": 375
         },
         "mode": "markers",
         "name": "Miami University-Oxford",
         "showlegend": true,
         "subplot": "mapbox",
         "type": "scattermapbox"
        },
        {
         "hovertemplate": "Customers=Middle Tennessee State University<br>Invoice Amount=%{marker.size}<br>Lat=%{lat}<br>Long=%{lon}<extra></extra>",
         "lat": [
          35.847744,
          35.847744
         ],
         "legendgroup": "Middle Tennessee State University",
         "lon": [
          -86.363676,
          -86.363676
         ],
         "marker": {
          "color": "#19d3f3",
          "size": [
           25200,
           25200
          ],
          "sizemode": "area",
          "sizeref": 375
         },
         "mode": "markers",
         "name": "Middle Tennessee State University",
         "showlegend": true,
         "subplot": "mapbox",
         "type": "scattermapbox"
        },
        {
         "hovertemplate": "Customers=Middlesex County College<br>Invoice Amount=%{marker.size}<br>Lat=%{lat}<br>Long=%{lon}<extra></extra>",
         "lat": [
          40.52848400000001,
          40.52848400000001
         ],
         "legendgroup": "Middlesex County College",
         "lon": [
          -74.387668,
          -74.387668
         ],
         "marker": {
          "color": "#FF6692",
          "size": [
           900,
           900
          ],
          "sizemode": "area",
          "sizeref": 375
         },
         "mode": "markers",
         "name": "Middlesex County College",
         "showlegend": true,
         "subplot": "mapbox",
         "type": "scattermapbox"
        },
        {
         "hovertemplate": "Customers=Midland University<br>Invoice Amount=%{marker.size}<br>Lat=%{lat}<br>Long=%{lon}<extra></extra>",
         "lat": [
          41.437593
         ],
         "legendgroup": "Midland University",
         "lon": [
          -96.489772
         ],
         "marker": {
          "color": "#B6E880",
          "size": [
           875
          ],
          "sizemode": "area",
          "sizeref": 375
         },
         "mode": "markers",
         "name": "Midland University",
         "showlegend": true,
         "subplot": "mapbox",
         "type": "scattermapbox"
        },
        {
         "hovertemplate": "Customers=Millersville University of Pennsylvania<br>Invoice Amount=%{marker.size}<br>Lat=%{lat}<br>Long=%{lon}<extra></extra>",
         "lat": [
          40.006036,
          40.006036
         ],
         "legendgroup": "Millersville University of Pennsylvania",
         "lon": [
          -76.360078,
          -76.360078
         ],
         "marker": {
          "color": "#FF97FF",
          "size": [
           4166,
           4166
          ],
          "sizemode": "area",
          "sizeref": 375
         },
         "mode": "markers",
         "name": "Millersville University of Pennsylvania",
         "showlegend": true,
         "subplot": "mapbox",
         "type": "scattermapbox"
        },
        {
         "hovertemplate": "Customers=Milligan College<br>Invoice Amount=%{marker.size}<br>Lat=%{lat}<br>Long=%{lon}<extra></extra>",
         "lat": [
          36.302022,
          36.302022,
          36.302022
         ],
         "legendgroup": "Milligan College",
         "lon": [
          -82.294791,
          -82.294791,
          -82.294791
         ],
         "marker": {
          "color": "#FECB52",
          "size": [
           2500,
           2500,
           2500
          ],
          "sizemode": "area",
          "sizeref": 375
         },
         "mode": "markers",
         "name": "Milligan College",
         "showlegend": true,
         "subplot": "mapbox",
         "type": "scattermapbox"
        },
        {
         "hovertemplate": "Customers=Milligan University<br>Invoice Amount=%{marker.size}<br>Lat=%{lat}<br>Long=%{lon}<extra></extra>",
         "lat": [
          36.30016
         ],
         "legendgroup": "Milligan University",
         "lon": [
          -82.29281999999998
         ],
         "marker": {
          "color": "#636efa",
          "size": [
           1110
          ],
          "sizemode": "area",
          "sizeref": 375
         },
         "mode": "markers",
         "name": "Milligan University",
         "showlegend": true,
         "subplot": "mapbox",
         "type": "scattermapbox"
        },
        {
         "hovertemplate": "Customers=Minnesota State University Moorhead<br>Invoice Amount=%{marker.size}<br>Lat=%{lat}<br>Long=%{lon}<extra></extra>",
         "lat": [
          46.867375,
          46.867375
         ],
         "legendgroup": "Minnesota State University Moorhead",
         "lon": [
          -96.763939,
          -96.763939
         ],
         "marker": {
          "color": "#EF553B",
          "size": [
           3100,
           3100
          ],
          "sizemode": "area",
          "sizeref": 375
         },
         "mode": "markers",
         "name": "Minnesota State University Moorhead",
         "showlegend": true,
         "subplot": "mapbox",
         "type": "scattermapbox"
        },
        {
         "hovertemplate": "Customers=Mississippi Dept of Education<br>Invoice Amount=%{marker.size}<br>Lat=%{lat}<br>Long=%{lon}<extra></extra>",
         "lat": [
          32.302802
         ],
         "legendgroup": "Mississippi Dept of Education",
         "lon": [
          -90.183909
         ],
         "marker": {
          "color": "#00cc96",
          "size": [
           4999
          ],
          "sizemode": "area",
          "sizeref": 375
         },
         "mode": "markers",
         "name": "Mississippi Dept of Education",
         "showlegend": true,
         "subplot": "mapbox",
         "type": "scattermapbox"
        },
        {
         "hovertemplate": "Customers=Mississippi State University<br>Invoice Amount=%{marker.size}<br>Lat=%{lat}<br>Long=%{lon}<extra></extra>",
         "lat": [
          33.453832
         ],
         "legendgroup": "Mississippi State University",
         "lon": [
          -88.794057
         ],
         "marker": {
          "color": "#ab63fa",
          "size": [
           4750
          ],
          "sizemode": "area",
          "sizeref": 375
         },
         "mode": "markers",
         "name": "Mississippi State University",
         "showlegend": true,
         "subplot": "mapbox",
         "type": "scattermapbox"
        },
        {
         "hovertemplate": "Customers=Mississippi State University Meridian<br>Invoice Amount=%{marker.size}<br>Lat=%{lat}<br>Long=%{lon}<extra></extra>",
         "lat": [
          32.349157,
          32.349157,
          32.349157,
          32.349157
         ],
         "legendgroup": "Mississippi State University Meridian",
         "lon": [
          -88.71589300000002,
          -88.71589300000002,
          -88.71589300000002,
          -88.71589300000002
         ],
         "marker": {
          "color": "#FFA15A",
          "size": [
           2600,
           2600,
           2600,
           2600
          ],
          "sizemode": "area",
          "sizeref": 375
         },
         "mode": "markers",
         "name": "Mississippi State University Meridian",
         "showlegend": true,
         "subplot": "mapbox",
         "type": "scattermapbox"
        },
        {
         "hovertemplate": "Customers=Mississippi State University, College of Education<br>Invoice Amount=%{marker.size}<br>Lat=%{lat}<br>Long=%{lon}<extra></extra>",
         "lat": [
          33.453832,
          33.453832
         ],
         "legendgroup": "Mississippi State University, College of Education",
         "lon": [
          -88.794057,
          -88.794057
         ],
         "marker": {
          "color": "#19d3f3",
          "size": [
           8500,
           8500
          ],
          "sizemode": "area",
          "sizeref": 375
         },
         "mode": "markers",
         "name": "Mississippi State University, College of Education",
         "showlegend": true,
         "subplot": "mapbox",
         "type": "scattermapbox"
        },
        {
         "hovertemplate": "Customers=Mississippi State University-College of Education<br>Invoice Amount=%{marker.size}<br>Lat=%{lat}<br>Long=%{lon}<extra></extra>",
         "lat": [
          33.453832
         ],
         "legendgroup": "Mississippi State University-College of Education",
         "lon": [
          -88.794057
         ],
         "marker": {
          "color": "#FF6692",
          "size": [
           1000
          ],
          "sizemode": "area",
          "sizeref": 375
         },
         "mode": "markers",
         "name": "Mississippi State University-College of Education",
         "showlegend": true,
         "subplot": "mapbox",
         "type": "scattermapbox"
        },
        {
         "hovertemplate": "Customers=Mississippi State University-Meridian<br>Invoice Amount=%{marker.size}<br>Lat=%{lat}<br>Long=%{lon}<extra></extra>",
         "lat": [
          32.349157
         ],
         "legendgroup": "Mississippi State University-Meridian",
         "lon": [
          -88.71589300000002
         ],
         "marker": {
          "color": "#B6E880",
          "size": [
           1700
          ],
          "sizemode": "area",
          "sizeref": 375
         },
         "mode": "markers",
         "name": "Mississippi State University-Meridian",
         "showlegend": true,
         "subplot": "mapbox",
         "type": "scattermapbox"
        },
        {
         "hovertemplate": "Customers=Modesto Junior College<br>Invoice Amount=%{marker.size}<br>Lat=%{lat}<br>Long=%{lon}<extra></extra>",
         "lat": [
          37.65131,
          37.65131
         ],
         "legendgroup": "Modesto Junior College",
         "lon": [
          -121.009726,
          -121.009726
         ],
         "marker": {
          "color": "#FF97FF",
          "size": [
           3250,
           3250
          ],
          "sizemode": "area",
          "sizeref": 375
         },
         "mode": "markers",
         "name": "Modesto Junior College",
         "showlegend": true,
         "subplot": "mapbox",
         "type": "scattermapbox"
        },
        {
         "hovertemplate": "Customers=Monroe County School District<br>Invoice Amount=%{marker.size}<br>Lat=%{lat}<br>Long=%{lon}<extra></extra>",
         "lat": [
          33.032915
         ],
         "legendgroup": "Monroe County School District",
         "lon": [
          -83.932551
         ],
         "marker": {
          "color": "#FECB52",
          "size": [
           2710
          ],
          "sizemode": "area",
          "sizeref": 375
         },
         "mode": "markers",
         "name": "Monroe County School District",
         "showlegend": true,
         "subplot": "mapbox",
         "type": "scattermapbox"
        },
        {
         "hovertemplate": "Customers=Montclair State University<br>Invoice Amount=%{marker.size}<br>Lat=%{lat}<br>Long=%{lon}<extra></extra>",
         "lat": [
          40.859162,
          40.859162,
          40.859162
         ],
         "legendgroup": "Montclair State University",
         "lon": [
          -74.198483,
          -74.198483,
          -74.198483
         ],
         "marker": {
          "color": "#636efa",
          "size": [
           2640,
           2640,
           2640
          ],
          "sizemode": "area",
          "sizeref": 375
         },
         "mode": "markers",
         "name": "Montclair State University",
         "showlegend": true,
         "subplot": "mapbox",
         "type": "scattermapbox"
        },
        {
         "hovertemplate": "Customers=Morehead State University<br>Invoice Amount=%{marker.size}<br>Lat=%{lat}<br>Long=%{lon}<extra></extra>",
         "lat": [
          38.184921,
          38.186526,
          38.186526,
          38.184921,
          38.184921,
          38.184921
         ],
         "legendgroup": "Morehead State University",
         "lon": [
          -83.434441,
          -83.43560500000002,
          -83.43560500000002,
          -83.434441,
          -83.434441,
          -83.434441
         ],
         "marker": {
          "color": "#EF553B",
          "size": [
           10375,
           10375,
           10375,
           10375,
           10375,
           10375
          ],
          "sizemode": "area",
          "sizeref": 375
         },
         "mode": "markers",
         "name": "Morehead State University",
         "showlegend": true,
         "subplot": "mapbox",
         "type": "scattermapbox"
        },
        {
         "hovertemplate": "Customers=Morgan State University<br>Invoice Amount=%{marker.size}<br>Lat=%{lat}<br>Long=%{lon}<extra></extra>",
         "lat": [
          39.343077
         ],
         "legendgroup": "Morgan State University",
         "lon": [
          -76.584521
         ],
         "marker": {
          "color": "#00cc96",
          "size": [
           2250
          ],
          "sizemode": "area",
          "sizeref": 375
         },
         "mode": "markers",
         "name": "Morgan State University",
         "showlegend": true,
         "subplot": "mapbox",
         "type": "scattermapbox"
        },
        {
         "hovertemplate": "Customers=Murray State University<br>Invoice Amount=%{marker.size}<br>Lat=%{lat}<br>Long=%{lon}<extra></extra>",
         "lat": [
          36.628813,
          36.628813
         ],
         "legendgroup": "Murray State University",
         "lon": [
          -88.32239100000002,
          -88.32239100000002
         ],
         "marker": {
          "color": "#ab63fa",
          "size": [
           7575,
           7575
          ],
          "sizemode": "area",
          "sizeref": 375
         },
         "mode": "markers",
         "name": "Murray State University",
         "showlegend": true,
         "subplot": "mapbox",
         "type": "scattermapbox"
        },
        {
         "hovertemplate": "Customers=Murrieta Valley USD<br>Invoice Amount=%{marker.size}<br>Lat=%{lat}<br>Long=%{lon}<extra></extra>",
         "lat": [
          33.529999,
          33.52991
         ],
         "legendgroup": "Murrieta Valley USD",
         "lon": [
          -117.185591,
          -117.18548
         ],
         "marker": {
          "color": "#FFA15A",
          "size": [
           6000,
           6000
          ],
          "sizemode": "area",
          "sizeref": 375
         },
         "mode": "markers",
         "name": "Murrieta Valley USD",
         "showlegend": true,
         "subplot": "mapbox",
         "type": "scattermapbox"
        },
        {
         "hovertemplate": "Customers=National Louis University<br>Invoice Amount=%{marker.size}<br>Lat=%{lat}<br>Long=%{lon}<extra></extra>",
         "lat": [
          38.219491,
          38.219491,
          38.219491
         ],
         "legendgroup": "National Louis University",
         "lon": [
          -85.757346,
          -85.757346,
          -85.757346
         ],
         "marker": {
          "color": "#19d3f3",
          "size": [
           18625,
           18625,
           18625
          ],
          "sizemode": "area",
          "sizeref": 375
         },
         "mode": "markers",
         "name": "National Louis University",
         "showlegend": true,
         "subplot": "mapbox",
         "type": "scattermapbox"
        },
        {
         "hovertemplate": "Customers=NC A&T State University<br>Invoice Amount=%{marker.size}<br>Lat=%{lat}<br>Long=%{lon}<extra></extra>",
         "lat": [
          36.072981
         ],
         "legendgroup": "NC A&T State University",
         "lon": [
          -79.772479
         ],
         "marker": {
          "color": "#FF6692",
          "size": [
           10500
          ],
          "sizemode": "area",
          "sizeref": 375
         },
         "mode": "markers",
         "name": "NC A&T State University",
         "showlegend": true,
         "subplot": "mapbox",
         "type": "scattermapbox"
        },
        {
         "hovertemplate": "Customers=NC New Teacher Support Program<br>Invoice Amount=%{marker.size}<br>Lat=%{lat}<br>Long=%{lon}<extra></extra>",
         "lat": [
          35.597141,
          35.597141
         ],
         "legendgroup": "NC New Teacher Support Program",
         "lon": [
          -77.400734,
          -77.400734
         ],
         "marker": {
          "color": "#B6E880",
          "size": [
           3000,
           3000
          ],
          "sizemode": "area",
          "sizeref": 375
         },
         "mode": "markers",
         "name": "NC New Teacher Support Program",
         "showlegend": true,
         "subplot": "mapbox",
         "type": "scattermapbox"
        },
        {
         "hovertemplate": "Customers=NEA Vermont<br>Invoice Amount=%{marker.size}<br>Lat=%{lat}<br>Long=%{lon}<extra></extra>",
         "lat": [
          44.248238
         ],
         "legendgroup": "NEA Vermont",
         "lon": [
          -72.56259200000002
         ],
         "marker": {
          "color": "#FF97FF",
          "size": [
           4200
          ],
          "sizemode": "area",
          "sizeref": 375
         },
         "mode": "markers",
         "name": "NEA Vermont",
         "showlegend": true,
         "subplot": "mapbox",
         "type": "scattermapbox"
        },
        {
         "hovertemplate": "Customers=New York University-Steinhardt<br>Invoice Amount=%{marker.size}<br>Lat=%{lat}<br>Long=%{lon}<extra></extra>",
         "lat": [
          40.731274,
          40.731274,
          40.731274,
          40.731274,
          40.729393
         ],
         "legendgroup": "New York University-Steinhardt",
         "lon": [
          -73.990999,
          -73.990999,
          -73.990999,
          -73.990999,
          -73.99713
         ],
         "marker": {
          "color": "#FECB52",
          "size": [
           18750,
           18750,
           18750,
           18750,
           18750
          ],
          "sizemode": "area",
          "sizeref": 375
         },
         "mode": "markers",
         "name": "New York University-Steinhardt",
         "showlegend": true,
         "subplot": "mapbox",
         "type": "scattermapbox"
        },
        {
         "hovertemplate": "Customers=NHTI-Concord’s Community College<br>Invoice Amount=%{marker.size}<br>Lat=%{lat}<br>Long=%{lon}<extra></extra>",
         "lat": [
          43.224613
         ],
         "legendgroup": "NHTI-Concord’s Community College",
         "lon": [
          -71.53151700000002
         ],
         "marker": {
          "color": "#636efa",
          "size": [
           2000
          ],
          "sizemode": "area",
          "sizeref": 375
         },
         "mode": "markers",
         "name": "NHTI-Concord’s Community College",
         "showlegend": true,
         "subplot": "mapbox",
         "type": "scattermapbox"
        },
        {
         "hovertemplate": "Customers=Niagara University<br>Invoice Amount=%{marker.size}<br>Lat=%{lat}<br>Long=%{lon}<extra></extra>",
         "lat": [
          43.1364,
          43.1364,
          43.1364
         ],
         "legendgroup": "Niagara University",
         "lon": [
          -79.03545,
          -79.03545,
          -79.03545
         ],
         "marker": {
          "color": "#EF553B",
          "size": [
           4210,
           4210,
           4210
          ],
          "sizemode": "area",
          "sizeref": 375
         },
         "mode": "markers",
         "name": "Niagara University",
         "showlegend": true,
         "subplot": "mapbox",
         "type": "scattermapbox"
        },
        {
         "hovertemplate": "Customers=NM NBCT Network<br>Invoice Amount=%{marker.size}<br>Lat=%{lat}<br>Long=%{lon}<extra></extra>",
         "lat": [
          null,
          null
         ],
         "legendgroup": "NM NBCT Network",
         "lon": [
          null,
          null
         ],
         "marker": {
          "color": "#00cc96",
          "size": [
           2900,
           2900
          ],
          "sizemode": "area",
          "sizeref": 375
         },
         "mode": "markers",
         "name": "NM NBCT Network",
         "showlegend": true,
         "subplot": "mapbox",
         "type": "scattermapbox"
        },
        {
         "hovertemplate": "Customers=NM Northern Coalition<br>Invoice Amount=%{marker.size}<br>Lat=%{lat}<br>Long=%{lon}<extra></extra>",
         "lat": [
          null
         ],
         "legendgroup": "NM Northern Coalition",
         "lon": [
          null
         ],
         "marker": {
          "color": "#ab63fa",
          "size": [
           300
          ],
          "sizemode": "area",
          "sizeref": 375
         },
         "mode": "markers",
         "name": "NM Northern Coalition",
         "showlegend": true,
         "subplot": "mapbox",
         "type": "scattermapbox"
        },
        {
         "hovertemplate": "Customers=NM NT Santa Fe Public School<br>Invoice Amount=%{marker.size}<br>Lat=%{lat}<br>Long=%{lon}<extra></extra>",
         "lat": [
          35.669625,
          35.669625,
          35.669625
         ],
         "legendgroup": "NM NT Santa Fe Public School",
         "lon": [
          -105.952009,
          -105.952009,
          -105.952009
         ],
         "marker": {
          "color": "#FFA15A",
          "size": [
           1000,
           1000,
           1000
          ],
          "sizemode": "area",
          "sizeref": 375
         },
         "mode": "markers",
         "name": "NM NT Santa Fe Public School",
         "showlegend": true,
         "subplot": "mapbox",
         "type": "scattermapbox"
        },
        {
         "hovertemplate": "Customers=North Carolina Central University<br>Invoice Amount=%{marker.size}<br>Lat=%{lat}<br>Long=%{lon}<extra></extra>",
         "lat": [
          35.969976,
          35.969976,
          35.969976
         ],
         "legendgroup": "North Carolina Central University",
         "lon": [
          -78.896305,
          -78.896305,
          -78.896305
         ],
         "marker": {
          "color": "#19d3f3",
          "size": [
           2875,
           2875,
           2875
          ],
          "sizemode": "area",
          "sizeref": 375
         },
         "mode": "markers",
         "name": "North Carolina Central University",
         "showlegend": true,
         "subplot": "mapbox",
         "type": "scattermapbox"
        },
        {
         "hovertemplate": "Customers=North Carolina State University<br>Invoice Amount=%{marker.size}<br>Lat=%{lat}<br>Long=%{lon}<extra></extra>",
         "lat": [
          35.78502,
          35.78502,
          35.78502
         ],
         "legendgroup": "North Carolina State University",
         "lon": [
          -78.66534,
          -78.66534,
          -78.66534
         ],
         "marker": {
          "color": "#FF6692",
          "size": [
           14500,
           14500,
           14500
          ],
          "sizemode": "area",
          "sizeref": 375
         },
         "mode": "markers",
         "name": "North Carolina State University",
         "showlegend": true,
         "subplot": "mapbox",
         "type": "scattermapbox"
        },
        {
         "hovertemplate": "Customers=North Central College<br>Invoice Amount=%{marker.size}<br>Lat=%{lat}<br>Long=%{lon}<extra></extra>",
         "lat": [
          41.776234
         ],
         "legendgroup": "North Central College",
         "lon": [
          -88.143287
         ],
         "marker": {
          "color": "#B6E880",
          "size": [
           2500
          ],
          "sizemode": "area",
          "sizeref": 375
         },
         "mode": "markers",
         "name": "North Central College",
         "showlegend": true,
         "subplot": "mapbox",
         "type": "scattermapbox"
        },
        {
         "hovertemplate": "Customers=Northampton County Public Schools<br>Invoice Amount=%{marker.size}<br>Lat=%{lat}<br>Long=%{lon}<extra></extra>",
         "lat": [
          37.403801,
          37.403801,
          37.403801,
          37.403801,
          37.403801
         ],
         "legendgroup": "Northampton County Public Schools",
         "lon": [
          -75.910387,
          -75.910387,
          -75.910387,
          -75.910387,
          -75.910387
         ],
         "marker": {
          "color": "#FF97FF",
          "size": [
           3750,
           3750,
           3750,
           3750,
           3750
          ],
          "sizemode": "area",
          "sizeref": 375
         },
         "mode": "markers",
         "name": "Northampton County Public Schools",
         "showlegend": true,
         "subplot": "mapbox",
         "type": "scattermapbox"
        },
        {
         "hovertemplate": "Customers=Northeastern Illinois University<br>Invoice Amount=%{marker.size}<br>Lat=%{lat}<br>Long=%{lon}<extra></extra>",
         "lat": [
          41.981343
         ],
         "legendgroup": "Northeastern Illinois University",
         "lon": [
          -87.718562
         ],
         "marker": {
          "color": "#FECB52",
          "size": [
           6500
          ],
          "sizemode": "area",
          "sizeref": 375
         },
         "mode": "markers",
         "name": "Northeastern Illinois University",
         "showlegend": true,
         "subplot": "mapbox",
         "type": "scattermapbox"
        },
        {
         "hovertemplate": "Customers=Northeastern State University-College<br>Invoice Amount=%{marker.size}<br>Lat=%{lat}<br>Long=%{lon}<extra></extra>",
         "lat": [
          35.92091
         ],
         "legendgroup": "Northeastern State University-College",
         "lon": [
          -94.969923
         ],
         "marker": {
          "color": "#636efa",
          "size": [
           2500
          ],
          "sizemode": "area",
          "sizeref": 375
         },
         "mode": "markers",
         "name": "Northeastern State University-College",
         "showlegend": true,
         "subplot": "mapbox",
         "type": "scattermapbox"
        },
        {
         "hovertemplate": "Customers=Northern Arizona University<br>Invoice Amount=%{marker.size}<br>Lat=%{lat}<br>Long=%{lon}<extra></extra>",
         "lat": [
          35.186311,
          35.186311
         ],
         "legendgroup": "Northern Arizona University",
         "lon": [
          -111.654065,
          -111.654065
         ],
         "marker": {
          "color": "#EF553B",
          "size": [
           1137,
           1137
          ],
          "sizemode": "area",
          "sizeref": 375
         },
         "mode": "markers",
         "name": "Northern Arizona University",
         "showlegend": true,
         "subplot": "mapbox",
         "type": "scattermapbox"
        },
        {
         "hovertemplate": "Customers=Northern Illinois University<br>Invoice Amount=%{marker.size}<br>Lat=%{lat}<br>Long=%{lon}<extra></extra>",
         "lat": [
          41.934286
         ],
         "legendgroup": "Northern Illinois University",
         "lon": [
          -88.749661
         ],
         "marker": {
          "color": "#00cc96",
          "size": [
           8880
          ],
          "sizemode": "area",
          "sizeref": 375
         },
         "mode": "markers",
         "name": "Northern Illinois University",
         "showlegend": true,
         "subplot": "mapbox",
         "type": "scattermapbox"
        },
        {
         "hovertemplate": "Customers=Northern Virginia Community College<br>Invoice Amount=%{marker.size}<br>Lat=%{lat}<br>Long=%{lon}<extra></extra>",
         "lat": [
          38.810761
         ],
         "legendgroup": "Northern Virginia Community College",
         "lon": [
          -77.513366
         ],
         "marker": {
          "color": "#ab63fa",
          "size": [
           1750
          ],
          "sizemode": "area",
          "sizeref": 375
         },
         "mode": "markers",
         "name": "Northern Virginia Community College",
         "showlegend": true,
         "subplot": "mapbox",
         "type": "scattermapbox"
        },
        {
         "hovertemplate": "Customers=Northwestern Michigan College<br>Invoice Amount=%{marker.size}<br>Lat=%{lat}<br>Long=%{lon}<extra></extra>",
         "lat": [
          44.765358
         ],
         "legendgroup": "Northwestern Michigan College",
         "lon": [
          -85.585587
         ],
         "marker": {
          "color": "#FFA15A",
          "size": [
           1000
          ],
          "sizemode": "area",
          "sizeref": 375
         },
         "mode": "markers",
         "name": "Northwestern Michigan College",
         "showlegend": true,
         "subplot": "mapbox",
         "type": "scattermapbox"
        },
        {
         "hovertemplate": "Customers=Northwestern State University<br>Invoice Amount=%{marker.size}<br>Lat=%{lat}<br>Long=%{lon}<extra></extra>",
         "lat": [
          31.750141,
          31.750141,
          31.750141
         ],
         "legendgroup": "Northwestern State University",
         "lon": [
          -93.097768,
          -93.097768,
          -93.097768
         ],
         "marker": {
          "color": "#19d3f3",
          "size": [
           13000,
           13000,
           13000
          ],
          "sizemode": "area",
          "sizeref": 375
         },
         "mode": "markers",
         "name": "Northwestern State University",
         "showlegend": true,
         "subplot": "mapbox",
         "type": "scattermapbox"
        },
        {
         "hovertemplate": "Customers=Orange County DOE<br>Invoice Amount=%{marker.size}<br>Lat=%{lat}<br>Long=%{lon}<extra></extra>",
         "lat": [
          33.673152,
          33.673152,
          33.673152,
          33.673152
         ],
         "legendgroup": "Orange County DOE",
         "lon": [
          -117.880738,
          -117.880738,
          -117.880738,
          -117.880738
         ],
         "marker": {
          "color": "#FF6692",
          "size": [
           9650,
           9650,
           9650,
           9650
          ],
          "sizemode": "area",
          "sizeref": 375
         },
         "mode": "markers",
         "name": "Orange County DOE",
         "showlegend": true,
         "subplot": "mapbox",
         "type": "scattermapbox"
        },
        {
         "hovertemplate": "Customers=Oregon State University<br>Invoice Amount=%{marker.size}<br>Lat=%{lat}<br>Long=%{lon}<extra></extra>",
         "lat": [
          44.565004,
          44.565004
         ],
         "legendgroup": "Oregon State University",
         "lon": [
          -123.276064,
          -123.276064
         ],
         "marker": {
          "color": "#B6E880",
          "size": [
           4000,
           4000
          ],
          "sizemode": "area",
          "sizeref": 375
         },
         "mode": "markers",
         "name": "Oregon State University",
         "showlegend": true,
         "subplot": "mapbox",
         "type": "scattermapbox"
        },
        {
         "hovertemplate": "Customers=Ouachita Baptist University<br>Invoice Amount=%{marker.size}<br>Lat=%{lat}<br>Long=%{lon}<extra></extra>",
         "lat": [
          34.124993
         ],
         "legendgroup": "Ouachita Baptist University",
         "lon": [
          -93.052745
         ],
         "marker": {
          "color": "#FF97FF",
          "size": [
           2070
          ],
          "sizemode": "area",
          "sizeref": 375
         },
         "mode": "markers",
         "name": "Ouachita Baptist University",
         "showlegend": true,
         "subplot": "mapbox",
         "type": "scattermapbox"
        },
        {
         "hovertemplate": "Customers=Pathway to Practice NC<br>Invoice Amount=%{marker.size}<br>Lat=%{lat}<br>Long=%{lon}<extra></extra>",
         "lat": [
          35.785701,
          35.785701
         ],
         "legendgroup": "Pathway to Practice NC",
         "lon": [
          -78.666354,
          -78.666354
         ],
         "marker": {
          "color": "#FECB52",
          "size": [
           4000,
           4000
          ],
          "sizemode": "area",
          "sizeref": 375
         },
         "mode": "markers",
         "name": "Pathway to Practice NC",
         "showlegend": true,
         "subplot": "mapbox",
         "type": "scattermapbox"
        },
        {
         "hovertemplate": "Customers=Piedmont College<br>Invoice Amount=%{marker.size}<br>Lat=%{lat}<br>Long=%{lon}<extra></extra>",
         "lat": [
          34.566567,
          34.566567,
          34.566567,
          34.566567,
          34.566567,
          34.566567
         ],
         "legendgroup": "Piedmont College",
         "lon": [
          -83.54284,
          -83.54284,
          -83.54284,
          -83.54284,
          -83.54284,
          -83.54284
         ],
         "marker": {
          "color": "#636efa",
          "size": [
           16500,
           16500,
           16500,
           16500,
           16500,
           16500
          ],
          "sizemode": "area",
          "sizeref": 375
         },
         "mode": "markers",
         "name": "Piedmont College",
         "showlegend": true,
         "subplot": "mapbox",
         "type": "scattermapbox"
        },
        {
         "hovertemplate": "Customers=Pierce College<br>Invoice Amount=%{marker.size}<br>Lat=%{lat}<br>Long=%{lon}<extra></extra>",
         "lat": [
          34.183905,
          34.183905,
          34.183905,
          34.183905,
          34.183905
         ],
         "legendgroup": "Pierce College",
         "lon": [
          -118.575077,
          -118.575077,
          -118.575077,
          -118.575077,
          -118.575077
         ],
         "marker": {
          "color": "#EF553B",
          "size": [
           3750,
           3750,
           3750,
           3750,
           3750
          ],
          "sizemode": "area",
          "sizeref": 375
         },
         "mode": "markers",
         "name": "Pierce College",
         "showlegend": true,
         "subplot": "mapbox",
         "type": "scattermapbox"
        },
        {
         "hovertemplate": "Customers=Pinecrest Academy of Nevada<br>Invoice Amount=%{marker.size}<br>Lat=%{lat}<br>Long=%{lon}<extra></extra>",
         "lat": [
          36.045904
         ],
         "legendgroup": "Pinecrest Academy of Nevada",
         "lon": [
          -114.980388
         ],
         "marker": {
          "color": "#00cc96",
          "size": [
           2560
          ],
          "sizemode": "area",
          "sizeref": 375
         },
         "mode": "markers",
         "name": "Pinecrest Academy of Nevada",
         "showlegend": true,
         "subplot": "mapbox",
         "type": "scattermapbox"
        },
        {
         "hovertemplate": "Customers=Pitt County School/DEEL<br>Invoice Amount=%{marker.size}<br>Lat=%{lat}<br>Long=%{lon}<extra></extra>",
         "lat": [
          null
         ],
         "legendgroup": "Pitt County School/DEEL",
         "lon": [
          null
         ],
         "marker": {
          "color": "#ab63fa",
          "size": [
           1500
          ],
          "sizemode": "area",
          "sizeref": 375
         },
         "mode": "markers",
         "name": "Pitt County School/DEEL",
         "showlegend": true,
         "subplot": "mapbox",
         "type": "scattermapbox"
        },
        {
         "hovertemplate": "Customers=Portland State University<br>Invoice Amount=%{marker.size}<br>Lat=%{lat}<br>Long=%{lon}<extra></extra>",
         "lat": [
          45.511825,
          34.223991,
          34.223991,
          34.223991
         ],
         "legendgroup": "Portland State University",
         "lon": [
          -122.684286,
          -77.86776400000002,
          -77.86776400000002,
          -77.86776400000002
         ],
         "marker": {
          "color": "#FFA15A",
          "size": [
           14450,
           14450,
           14450,
           14450
          ],
          "sizemode": "area",
          "sizeref": 375
         },
         "mode": "markers",
         "name": "Portland State University",
         "showlegend": true,
         "subplot": "mapbox",
         "type": "scattermapbox"
        },
        {
         "hovertemplate": "Customers=Presbyterian College Education Department<br>Invoice Amount=%{marker.size}<br>Lat=%{lat}<br>Long=%{lon}<extra></extra>",
         "lat": [
          34.464605
         ],
         "legendgroup": "Presbyterian College Education Department",
         "lon": [
          -81.878445
         ],
         "marker": {
          "color": "#19d3f3",
          "size": [
           1000
          ],
          "sizemode": "area",
          "sizeref": 375
         },
         "mode": "markers",
         "name": "Presbyterian College Education Department",
         "showlegend": true,
         "subplot": "mapbox",
         "type": "scattermapbox"
        },
        {
         "hovertemplate": "Customers=Prince George’s Community College<br>Invoice Amount=%{marker.size}<br>Lat=%{lat}<br>Long=%{lon}<extra></extra>",
         "lat": [
          38.88952000000001,
          38.88952000000001
         ],
         "legendgroup": "Prince George’s Community College",
         "lon": [
          -76.824985,
          -76.824985
         ],
         "marker": {
          "color": "#FF6692",
          "size": [
           540,
           540
          ],
          "sizemode": "area",
          "sizeref": 375
         },
         "mode": "markers",
         "name": "Prince George’s Community College",
         "showlegend": true,
         "subplot": "mapbox",
         "type": "scattermapbox"
        },
        {
         "hovertemplate": "Customers=Providence College<br>Invoice Amount=%{marker.size}<br>Lat=%{lat}<br>Long=%{lon}<extra></extra>",
         "lat": [
          41.844141,
          41.844141
         ],
         "legendgroup": "Providence College",
         "lon": [
          -71.43818,
          -71.43818
         ],
         "marker": {
          "color": "#B6E880",
          "size": [
           1187,
           1187
          ],
          "sizemode": "area",
          "sizeref": 375
         },
         "mode": "markers",
         "name": "Providence College",
         "showlegend": true,
         "subplot": "mapbox",
         "type": "scattermapbox"
        },
        {
         "hovertemplate": "Customers=Purdue University<br>Invoice Amount=%{marker.size}<br>Lat=%{lat}<br>Long=%{lon}<extra></extra>",
         "lat": [
          40.424396
         ],
         "legendgroup": "Purdue University",
         "lon": [
          -86.912772
         ],
         "marker": {
          "color": "#FF97FF",
          "size": [
           2500
          ],
          "sizemode": "area",
          "sizeref": 375
         },
         "mode": "markers",
         "name": "Purdue University",
         "showlegend": true,
         "subplot": "mapbox",
         "type": "scattermapbox"
        },
        {
         "hovertemplate": "Customers=Purdue University Fort Wayne<br>Invoice Amount=%{marker.size}<br>Lat=%{lat}<br>Long=%{lon}<extra></extra>",
         "lat": [
          41.114557
         ],
         "legendgroup": "Purdue University Fort Wayne",
         "lon": [
          -85.116866
         ],
         "marker": {
          "color": "#FECB52",
          "size": [
           5000
          ],
          "sizemode": "area",
          "sizeref": 375
         },
         "mode": "markers",
         "name": "Purdue University Fort Wayne",
         "showlegend": true,
         "subplot": "mapbox",
         "type": "scattermapbox"
        },
        {
         "hovertemplate": "Customers=Radford University<br>Invoice Amount=%{marker.size}<br>Lat=%{lat}<br>Long=%{lon}<extra></extra>",
         "lat": [
          37.137908
         ],
         "legendgroup": "Radford University",
         "lon": [
          -80.546811
         ],
         "marker": {
          "color": "#636efa",
          "size": [
           8425
          ],
          "sizemode": "area",
          "sizeref": 375
         },
         "mode": "markers",
         "name": "Radford University",
         "showlegend": true,
         "subplot": "mapbox",
         "type": "scattermapbox"
        },
        {
         "hovertemplate": "Customers=Ramapo College<br>Invoice Amount=%{marker.size}<br>Lat=%{lat}<br>Long=%{lon}<extra></extra>",
         "lat": [
          41.080636
         ],
         "legendgroup": "Ramapo College",
         "lon": [
          -74.17364
         ],
         "marker": {
          "color": "#EF553B",
          "size": [
           400
          ],
          "sizemode": "area",
          "sizeref": 375
         },
         "mode": "markers",
         "name": "Ramapo College",
         "showlegend": true,
         "subplot": "mapbox",
         "type": "scattermapbox"
        },
        {
         "hovertemplate": "Customers=Region  Education Service Ctr<br>Invoice Amount=%{marker.size}<br>Lat=%{lat}<br>Long=%{lon}<extra></extra>",
         "lat": [
          29.849649
         ],
         "legendgroup": "Region  Education Service Ctr",
         "lon": [
          -95.498476
         ],
         "marker": {
          "color": "#00cc96",
          "size": [
           3000
          ],
          "sizemode": "area",
          "sizeref": 375
         },
         "mode": "markers",
         "name": "Region  Education Service Ctr",
         "showlegend": true,
         "subplot": "mapbox",
         "type": "scattermapbox"
        },
        {
         "hovertemplate": "Customers=Reinhardt University<br>Invoice Amount=%{marker.size}<br>Lat=%{lat}<br>Long=%{lon}<extra></extra>",
         "lat": [
          34.318626
         ],
         "legendgroup": "Reinhardt University",
         "lon": [
          -84.554344
         ],
         "marker": {
          "color": "#ab63fa",
          "size": [
           2300
          ],
          "sizemode": "area",
          "sizeref": 375
         },
         "mode": "markers",
         "name": "Reinhardt University",
         "showlegend": true,
         "subplot": "mapbox",
         "type": "scattermapbox"
        },
        {
         "hovertemplate": "Customers=Rhodes College<br>Invoice Amount=%{marker.size}<br>Lat=%{lat}<br>Long=%{lon}<extra></extra>",
         "lat": [
          35.141185
         ],
         "legendgroup": "Rhodes College",
         "lon": [
          -89.98176600000002
         ],
         "marker": {
          "color": "#FFA15A",
          "size": [
           2100
          ],
          "sizemode": "area",
          "sizeref": 375
         },
         "mode": "markers",
         "name": "Rhodes College",
         "showlegend": true,
         "subplot": "mapbox",
         "type": "scattermapbox"
        },
        {
         "hovertemplate": "Customers=Richland Elementary School<br>Invoice Amount=%{marker.size}<br>Lat=%{lat}<br>Long=%{lon}<extra></extra>",
         "lat": [
          32.214126
         ],
         "legendgroup": "Richland Elementary School",
         "lon": [
          -90.165412
         ],
         "marker": {
          "color": "#19d3f3",
          "size": [
           1600
          ],
          "sizemode": "area",
          "sizeref": 375
         },
         "mode": "markers",
         "name": "Richland Elementary School",
         "showlegend": true,
         "subplot": "mapbox",
         "type": "scattermapbox"
        },
        {
         "hovertemplate": "Customers=Rider University<br>Invoice Amount=%{marker.size}<br>Lat=%{lat}<br>Long=%{lon}<extra></extra>",
         "lat": [
          40.278681
         ],
         "legendgroup": "Rider University",
         "lon": [
          -74.73614
         ],
         "marker": {
          "color": "#FF6692",
          "size": [
           4500
          ],
          "sizemode": "area",
          "sizeref": 375
         },
         "mode": "markers",
         "name": "Rider University",
         "showlegend": true,
         "subplot": "mapbox",
         "type": "scattermapbox"
        },
        {
         "hovertemplate": "Customers=Rio Salado College<br>Invoice Amount=%{marker.size}<br>Lat=%{lat}<br>Long=%{lon}<extra></extra>",
         "lat": [
          33.412756
         ],
         "legendgroup": "Rio Salado College",
         "lon": [
          -111.974037
         ],
         "marker": {
          "color": "#B6E880",
          "size": [
           26250
          ],
          "sizemode": "area",
          "sizeref": 375
         },
         "mode": "markers",
         "name": "Rio Salado College",
         "showlegend": true,
         "subplot": "mapbox",
         "type": "scattermapbox"
        },
        {
         "hovertemplate": "Customers=Ripon College<br>Invoice Amount=%{marker.size}<br>Lat=%{lat}<br>Long=%{lon}<extra></extra>",
         "lat": [
          43.840337
         ],
         "legendgroup": "Ripon College",
         "lon": [
          -88.821084
         ],
         "marker": {
          "color": "#FF97FF",
          "size": [
           1900
          ],
          "sizemode": "area",
          "sizeref": 375
         },
         "mode": "markers",
         "name": "Ripon College",
         "showlegend": true,
         "subplot": "mapbox",
         "type": "scattermapbox"
        },
        {
         "hovertemplate": "Customers=Rochester Institute of Technology<br>Invoice Amount=%{marker.size}<br>Lat=%{lat}<br>Long=%{lon}<extra></extra>",
         "lat": [
          43.08642800000001
         ],
         "legendgroup": "Rochester Institute of Technology",
         "lon": [
          -77.669156
         ],
         "marker": {
          "color": "#FECB52",
          "size": [
           800
          ],
          "sizemode": "area",
          "sizeref": 375
         },
         "mode": "markers",
         "name": "Rochester Institute of Technology",
         "showlegend": true,
         "subplot": "mapbox",
         "type": "scattermapbox"
        },
        {
         "hovertemplate": "Customers=Roger William University<br>Invoice Amount=%{marker.size}<br>Lat=%{lat}<br>Long=%{lon}<extra></extra>",
         "lat": [
          41.647778,
          41.647778
         ],
         "legendgroup": "Roger William University",
         "lon": [
          -71.260488,
          -71.260488
         ],
         "marker": {
          "color": "#636efa",
          "size": [
           2250,
           2250
          ],
          "sizemode": "area",
          "sizeref": 375
         },
         "mode": "markers",
         "name": "Roger William University",
         "showlegend": true,
         "subplot": "mapbox",
         "type": "scattermapbox"
        },
        {
         "hovertemplate": "Customers=Roosevelt University<br>Invoice Amount=%{marker.size}<br>Lat=%{lat}<br>Long=%{lon}<extra></extra>",
         "lat": [
          41.87599,
          41.87599
         ],
         "legendgroup": "Roosevelt University",
         "lon": [
          -87.624897,
          -87.624897
         ],
         "marker": {
          "color": "#EF553B",
          "size": [
           4000,
           4000
          ],
          "sizemode": "area",
          "sizeref": 375
         },
         "mode": "markers",
         "name": "Roosevelt University",
         "showlegend": true,
         "subplot": "mapbox",
         "type": "scattermapbox"
        },
        {
         "hovertemplate": "Customers=Rowan College South Jersey<br>Invoice Amount=%{marker.size}<br>Lat=%{lat}<br>Long=%{lon}<extra></extra>",
         "lat": [
          39.782005
         ],
         "legendgroup": "Rowan College South Jersey",
         "lon": [
          -75.123172
         ],
         "marker": {
          "color": "#00cc96",
          "size": [
           1550
          ],
          "sizemode": "area",
          "sizeref": 375
         },
         "mode": "markers",
         "name": "Rowan College South Jersey",
         "showlegend": true,
         "subplot": "mapbox",
         "type": "scattermapbox"
        },
        {
         "hovertemplate": "Customers=Rowan University<br>Invoice Amount=%{marker.size}<br>Lat=%{lat}<br>Long=%{lon}<extra></extra>",
         "lat": [
          39.709696
         ],
         "legendgroup": "Rowan University",
         "lon": [
          -75.120704
         ],
         "marker": {
          "color": "#ab63fa",
          "size": [
           750
          ],
          "sizemode": "area",
          "sizeref": 375
         },
         "mode": "markers",
         "name": "Rowan University",
         "showlegend": true,
         "subplot": "mapbox",
         "type": "scattermapbox"
        },
        {
         "hovertemplate": "Customers=Rutgers University Graduate School of Education<br>Invoice Amount=%{marker.size}<br>Lat=%{lat}<br>Long=%{lon}<extra></extra>",
         "lat": [
          40.501913
         ],
         "legendgroup": "Rutgers University Graduate School of Education",
         "lon": [
          -74.446621
         ],
         "marker": {
          "color": "#FFA15A",
          "size": [
           4500
          ],
          "sizemode": "area",
          "sizeref": 375
         },
         "mode": "markers",
         "name": "Rutgers University Graduate School of Education",
         "showlegend": true,
         "subplot": "mapbox",
         "type": "scattermapbox"
        },
        {
         "hovertemplate": "Customers=Saint Andrew's School<br>Invoice Amount=%{marker.size}<br>Lat=%{lat}<br>Long=%{lon}<extra></extra>",
         "lat": [
          26.384204
         ],
         "legendgroup": "Saint Andrew's School",
         "lon": [
          -80.14575
         ],
         "marker": {
          "color": "#19d3f3",
          "size": [
           750
          ],
          "sizemode": "area",
          "sizeref": 375
         },
         "mode": "markers",
         "name": "Saint Andrew's School",
         "showlegend": true,
         "subplot": "mapbox",
         "type": "scattermapbox"
        },
        {
         "hovertemplate": "Customers=Saint Catherine University<br>Invoice Amount=%{marker.size}<br>Lat=%{lat}<br>Long=%{lon}<extra></extra>",
         "lat": [
          44.924757,
          44.924757
         ],
         "legendgroup": "Saint Catherine University",
         "lon": [
          -93.183214,
          -93.183214
         ],
         "marker": {
          "color": "#FF6692",
          "size": [
           786,
           786
          ],
          "sizemode": "area",
          "sizeref": 375
         },
         "mode": "markers",
         "name": "Saint Catherine University",
         "showlegend": true,
         "subplot": "mapbox",
         "type": "scattermapbox"
        },
        {
         "hovertemplate": "Customers=Saint Joseph’s College of Maine<br>Invoice Amount=%{marker.size}<br>Lat=%{lat}<br>Long=%{lon}<extra></extra>",
         "lat": [
          43.826541,
          43.826541
         ],
         "legendgroup": "Saint Joseph’s College of Maine",
         "lon": [
          -70.48047199999998,
          -70.48047199999998
         ],
         "marker": {
          "color": "#B6E880",
          "size": [
           3250,
           3250
          ],
          "sizemode": "area",
          "sizeref": 375
         },
         "mode": "markers",
         "name": "Saint Joseph’s College of Maine",
         "showlegend": true,
         "subplot": "mapbox",
         "type": "scattermapbox"
        },
        {
         "hovertemplate": "Customers=Saint Joseph’s University<br>Invoice Amount=%{marker.size}<br>Lat=%{lat}<br>Long=%{lon}<extra></extra>",
         "lat": [
          39.975266,
          39.975266
         ],
         "legendgroup": "Saint Joseph’s University",
         "lon": [
          -75.279752,
          -75.279752
         ],
         "marker": {
          "color": "#FF97FF",
          "size": [
           9060,
           9060
          ],
          "sizemode": "area",
          "sizeref": 375
         },
         "mode": "markers",
         "name": "Saint Joseph’s University",
         "showlegend": true,
         "subplot": "mapbox",
         "type": "scattermapbox"
        },
        {
         "hovertemplate": "Customers=Saint Xavier University<br>Invoice Amount=%{marker.size}<br>Lat=%{lat}<br>Long=%{lon}<extra></extra>",
         "lat": [
          41.707169,
          41.707169,
          41.707169
         ],
         "legendgroup": "Saint Xavier University",
         "lon": [
          -87.713854,
          -87.713854,
          -87.713854
         ],
         "marker": {
          "color": "#FECB52",
          "size": [
           3400,
           3400,
           3400
          ],
          "sizemode": "area",
          "sizeref": 375
         },
         "mode": "markers",
         "name": "Saint Xavier University",
         "showlegend": true,
         "subplot": "mapbox",
         "type": "scattermapbox"
        },
        {
         "hovertemplate": "Customers=Salem University<br>Invoice Amount=%{marker.size}<br>Lat=%{lat}<br>Long=%{lon}<extra></extra>",
         "lat": [
          39.283545
         ],
         "legendgroup": "Salem University",
         "lon": [
          -80.567163
         ],
         "marker": {
          "color": "#636efa",
          "size": [
           2500
          ],
          "sizemode": "area",
          "sizeref": 375
         },
         "mode": "markers",
         "name": "Salem University",
         "showlegend": true,
         "subplot": "mapbox",
         "type": "scattermapbox"
        },
        {
         "hovertemplate": "Customers=Salisbury University<br>Invoice Amount=%{marker.size}<br>Lat=%{lat}<br>Long=%{lon}<extra></extra>",
         "lat": [
          38.347213
         ],
         "legendgroup": "Salisbury University",
         "lon": [
          -75.604945
         ],
         "marker": {
          "color": "#EF553B",
          "size": [
           3250
          ],
          "sizemode": "area",
          "sizeref": 375
         },
         "mode": "markers",
         "name": "Salisbury University",
         "showlegend": true,
         "subplot": "mapbox",
         "type": "scattermapbox"
        },
        {
         "hovertemplate": "Customers=Salve Regina University<br>Invoice Amount=%{marker.size}<br>Lat=%{lat}<br>Long=%{lon}<extra></extra>",
         "lat": [
          41.473756,
          41.473756
         ],
         "legendgroup": "Salve Regina University",
         "lon": [
          -71.299017,
          -71.299017
         ],
         "marker": {
          "color": "#00cc96",
          "size": [
           1858.3,
           1858.3
          ],
          "sizemode": "area",
          "sizeref": 375
         },
         "mode": "markers",
         "name": "Salve Regina University",
         "showlegend": true,
         "subplot": "mapbox",
         "type": "scattermapbox"
        },
        {
         "hovertemplate": "Customers=Sam Houston State University<br>Invoice Amount=%{marker.size}<br>Lat=%{lat}<br>Long=%{lon}<extra></extra>",
         "lat": [
          30.708564000000006,
          30.708564000000006
         ],
         "legendgroup": "Sam Houston State University",
         "lon": [
          -95.546707,
          -95.546707
         ],
         "marker": {
          "color": "#ab63fa",
          "size": [
           3000,
           3000
          ],
          "sizemode": "area",
          "sizeref": 375
         },
         "mode": "markers",
         "name": "Sam Houston State University",
         "showlegend": true,
         "subplot": "mapbox",
         "type": "scattermapbox"
        },
        {
         "hovertemplate": "Customers=San Jose State University<br>Invoice Amount=%{marker.size}<br>Lat=%{lat}<br>Long=%{lon}<extra></extra>",
         "lat": [
          37.334492,
          37.334492,
          37.334492,
          37.334492,
          37.334492
         ],
         "legendgroup": "San Jose State University",
         "lon": [
          -121.879842,
          -121.879842,
          -121.879842,
          -121.879842,
          -121.879842
         ],
         "marker": {
          "color": "#FFA15A",
          "size": [
           12700,
           12700,
           12700,
           12700,
           12700
          ],
          "sizemode": "area",
          "sizeref": 375
         },
         "mode": "markers",
         "name": "San Jose State University",
         "showlegend": true,
         "subplot": "mapbox",
         "type": "scattermapbox"
        },
        {
         "hovertemplate": "Customers=Santa Rosa County District Schools<br>Invoice Amount=%{marker.size}<br>Lat=%{lat}<br>Long=%{lon}<extra></extra>",
         "lat": [
          30.60431,
          30.60431
         ],
         "legendgroup": "Santa Rosa County District Schools",
         "lon": [
          -87.072233,
          -87.072233
         ],
         "marker": {
          "color": "#19d3f3",
          "size": [
           4658,
           4658
          ],
          "sizemode": "area",
          "sizeref": 375
         },
         "mode": "markers",
         "name": "Santa Rosa County District Schools",
         "showlegend": true,
         "subplot": "mapbox",
         "type": "scattermapbox"
        },
        {
         "hovertemplate": "Customers=SDCOE<br>Invoice Amount=%{marker.size}<br>Lat=%{lat}<br>Long=%{lon}<extra></extra>",
         "lat": [
          null
         ],
         "legendgroup": "SDCOE",
         "lon": [
          null
         ],
         "marker": {
          "color": "#FF6692",
          "size": [
           3600
          ],
          "sizemode": "area",
          "sizeref": 375
         },
         "mode": "markers",
         "name": "SDCOE",
         "showlegend": true,
         "subplot": "mapbox",
         "type": "scattermapbox"
        },
        {
         "hovertemplate": "Customers=Seattle University<br>Invoice Amount=%{marker.size}<br>Lat=%{lat}<br>Long=%{lon}<extra></extra>",
         "lat": [
          47.610656,
          47.610656
         ],
         "legendgroup": "Seattle University",
         "lon": [
          -122.317113,
          -122.317113
         ],
         "marker": {
          "color": "#B6E880",
          "size": [
           3000,
           3000
          ],
          "sizemode": "area",
          "sizeref": 375
         },
         "mode": "markers",
         "name": "Seattle University",
         "showlegend": true,
         "subplot": "mapbox",
         "type": "scattermapbox"
        },
        {
         "hovertemplate": "Customers=Seton Hall University<br>Invoice Amount=%{marker.size}<br>Lat=%{lat}<br>Long=%{lon}<extra></extra>",
         "lat": [
          40.74334
         ],
         "legendgroup": "Seton Hall University",
         "lon": [
          -74.24659399999999
         ],
         "marker": {
          "color": "#FF97FF",
          "size": [
           4300
          ],
          "sizemode": "area",
          "sizeref": 375
         },
         "mode": "markers",
         "name": "Seton Hall University",
         "showlegend": true,
         "subplot": "mapbox",
         "type": "scattermapbox"
        },
        {
         "hovertemplate": "Customers=Shippensburg University<br>Invoice Amount=%{marker.size}<br>Lat=%{lat}<br>Long=%{lon}<extra></extra>",
         "lat": [
          40.057891
         ],
         "legendgroup": "Shippensburg University",
         "lon": [
          -77.52251700000002
         ],
         "marker": {
          "color": "#FECB52",
          "size": [
           5000
          ],
          "sizemode": "area",
          "sizeref": 375
         },
         "mode": "markers",
         "name": "Shippensburg University",
         "showlegend": true,
         "subplot": "mapbox",
         "type": "scattermapbox"
        },
        {
         "hovertemplate": "Customers=Shorter University<br>Invoice Amount=%{marker.size}<br>Lat=%{lat}<br>Long=%{lon}<extra></extra>",
         "lat": [
          34.263421,
          34.263421
         ],
         "legendgroup": "Shorter University",
         "lon": [
          -85.189688,
          -85.189688
         ],
         "marker": {
          "color": "#636efa",
          "size": [
           1500,
           1500
          ],
          "sizemode": "area",
          "sizeref": 375
         },
         "mode": "markers",
         "name": "Shorter University",
         "showlegend": true,
         "subplot": "mapbox",
         "type": "scattermapbox"
        },
        {
         "hovertemplate": "Customers=Siena College<br>Invoice Amount=%{marker.size}<br>Lat=%{lat}<br>Long=%{lon}<extra></extra>",
         "lat": [
          42.717815,
          42.717815
         ],
         "legendgroup": "Siena College",
         "lon": [
          -73.75171,
          -73.75171
         ],
         "marker": {
          "color": "#EF553B",
          "size": [
           2775,
           2775
          ],
          "sizemode": "area",
          "sizeref": 375
         },
         "mode": "markers",
         "name": "Siena College",
         "showlegend": true,
         "subplot": "mapbox",
         "type": "scattermapbox"
        },
        {
         "hovertemplate": "Customers=Skidmore College<br>Invoice Amount=%{marker.size}<br>Lat=%{lat}<br>Long=%{lon}<extra></extra>",
         "lat": [
          43.097673,
          43.097673
         ],
         "legendgroup": "Skidmore College",
         "lon": [
          -73.78331899999998,
          -73.78331899999998
         ],
         "marker": {
          "color": "#00cc96",
          "size": [
           1900,
           1900
          ],
          "sizemode": "area",
          "sizeref": 375
         },
         "mode": "markers",
         "name": "Skidmore College",
         "showlegend": true,
         "subplot": "mapbox",
         "type": "scattermapbox"
        },
        {
         "hovertemplate": "Customers=South Australia DOE<br>Invoice Amount=%{marker.size}<br>Lat=%{lat}<br>Long=%{lon}<extra></extra>",
         "lat": [
          38.886373
         ],
         "legendgroup": "South Australia DOE",
         "lon": [
          -77.018997
         ],
         "marker": {
          "color": "#ab63fa",
          "size": [
           1500
          ],
          "sizemode": "area",
          "sizeref": 375
         },
         "mode": "markers",
         "name": "South Australia DOE",
         "showlegend": true,
         "subplot": "mapbox",
         "type": "scattermapbox"
        },
        {
         "hovertemplate": "Customers=South College<br>Invoice Amount=%{marker.size}<br>Lat=%{lat}<br>Long=%{lon}<extra></extra>",
         "lat": [
          35.958371
         ],
         "legendgroup": "South College",
         "lon": [
          -83.973472
         ],
         "marker": {
          "color": "#FFA15A",
          "size": [
           1540
          ],
          "sizemode": "area",
          "sizeref": 375
         },
         "mode": "markers",
         "name": "South College",
         "showlegend": true,
         "subplot": "mapbox",
         "type": "scattermapbox"
        },
        {
         "hovertemplate": "Customers=Southeast KCTCS<br>Invoice Amount=%{marker.size}<br>Lat=%{lat}<br>Long=%{lon}<extra></extra>",
         "lat": [
          36.810853,
          36.810853
         ],
         "legendgroup": "Southeast KCTCS",
         "lon": [
          -83.31662,
          -83.31662
         ],
         "marker": {
          "color": "#19d3f3",
          "size": [
           1621,
           1621
          ],
          "sizemode": "area",
          "sizeref": 375
         },
         "mode": "markers",
         "name": "Southeast KCTCS",
         "showlegend": true,
         "subplot": "mapbox",
         "type": "scattermapbox"
        },
        {
         "hovertemplate": "Customers=Southeast Missouri State University<br>Invoice Amount=%{marker.size}<br>Lat=%{lat}<br>Long=%{lon}<extra></extra>",
         "lat": [
          37.315867
         ],
         "legendgroup": "Southeast Missouri State University",
         "lon": [
          -89.529422
         ],
         "marker": {
          "color": "#FF6692",
          "size": [
           1825
          ],
          "sizemode": "area",
          "sizeref": 375
         },
         "mode": "markers",
         "name": "Southeast Missouri State University",
         "showlegend": true,
         "subplot": "mapbox",
         "type": "scattermapbox"
        },
        {
         "hovertemplate": "Customers=Southeast South-Central Education Cooperative<br>Invoice Amount=%{marker.size}<br>Lat=%{lat}<br>Long=%{lon}<extra></extra>",
         "lat": [
          37.756893,
          37.756893,
          37.756893,
          37.756893
         ],
         "legendgroup": "Southeast South-Central Education Cooperative",
         "lon": [
          -84.299737,
          -84.299737,
          -84.299737,
          -84.299737
         ],
         "marker": {
          "color": "#B6E880",
          "size": [
           7350,
           7350,
           7350,
           7350
          ],
          "sizemode": "area",
          "sizeref": 375
         },
         "mode": "markers",
         "name": "Southeast South-Central Education Cooperative",
         "showlegend": true,
         "subplot": "mapbox",
         "type": "scattermapbox"
        },
        {
         "hovertemplate": "Customers=Southern Adventist University<br>Invoice Amount=%{marker.size}<br>Lat=%{lat}<br>Long=%{lon}<extra></extra>",
         "lat": [
          35.053059999999995,
          35.053059999999995
         ],
         "legendgroup": "Southern Adventist University",
         "lon": [
          -85.05028,
          -85.05028
         ],
         "marker": {
          "color": "#FF97FF",
          "size": [
           3125,
           3125
          ],
          "sizemode": "area",
          "sizeref": 375
         },
         "mode": "markers",
         "name": "Southern Adventist University",
         "showlegend": true,
         "subplot": "mapbox",
         "type": "scattermapbox"
        },
        {
         "hovertemplate": "Customers=Southern Connecticut State University<br>Invoice Amount=%{marker.size}<br>Lat=%{lat}<br>Long=%{lon}<extra></extra>",
         "lat": [
          41.331619,
          41.331619
         ],
         "legendgroup": "Southern Connecticut State University",
         "lon": [
          -72.946852,
          -72.946852
         ],
         "marker": {
          "color": "#FECB52",
          "size": [
           16800,
           16800
          ],
          "sizemode": "area",
          "sizeref": 375
         },
         "mode": "markers",
         "name": "Southern Connecticut State University",
         "showlegend": true,
         "subplot": "mapbox",
         "type": "scattermapbox"
        },
        {
         "hovertemplate": "Customers=Southern Illinois University Carbondale<br>Invoice Amount=%{marker.size}<br>Lat=%{lat}<br>Long=%{lon}<extra></extra>",
         "lat": [
          37.717467,
          37.717467
         ],
         "legendgroup": "Southern Illinois University Carbondale",
         "lon": [
          -89.223262,
          -89.223262
         ],
         "marker": {
          "color": "#636efa",
          "size": [
           2250,
           2250
          ],
          "sizemode": "area",
          "sizeref": 375
         },
         "mode": "markers",
         "name": "Southern Illinois University Carbondale",
         "showlegend": true,
         "subplot": "mapbox",
         "type": "scattermapbox"
        },
        {
         "hovertemplate": "Customers=Southern Illinois University Edwardsville<br>Invoice Amount=%{marker.size}<br>Lat=%{lat}<br>Long=%{lon}<extra></extra>",
         "lat": [
          38.793047
         ],
         "legendgroup": "Southern Illinois University Edwardsville",
         "lon": [
          -89.99547199999998
         ],
         "marker": {
          "color": "#EF553B",
          "size": [
           4700
          ],
          "sizemode": "area",
          "sizeref": 375
         },
         "mode": "markers",
         "name": "Southern Illinois University Edwardsville",
         "showlegend": true,
         "subplot": "mapbox",
         "type": "scattermapbox"
        },
        {
         "hovertemplate": "Customers=Southern New Hampshire University<br>Invoice Amount=%{marker.size}<br>Lat=%{lat}<br>Long=%{lon}<extra></extra>",
         "lat": [
          43.039739
         ],
         "legendgroup": "Southern New Hampshire University",
         "lon": [
          -71.454722
         ],
         "marker": {
          "color": "#00cc96",
          "size": [
           1000
          ],
          "sizemode": "area",
          "sizeref": 375
         },
         "mode": "markers",
         "name": "Southern New Hampshire University",
         "showlegend": true,
         "subplot": "mapbox",
         "type": "scattermapbox"
        },
        {
         "hovertemplate": "Customers=Southern University at New Orleans<br>Invoice Amount=%{marker.size}<br>Lat=%{lat}<br>Long=%{lon}<extra></extra>",
         "lat": [
          30.025674
         ],
         "legendgroup": "Southern University at New Orleans",
         "lon": [
          -90.044837
         ],
         "marker": {
          "color": "#ab63fa",
          "size": [
           2000
          ],
          "sizemode": "area",
          "sizeref": 375
         },
         "mode": "markers",
         "name": "Southern University at New Orleans",
         "showlegend": true,
         "subplot": "mapbox",
         "type": "scattermapbox"
        },
        {
         "hovertemplate": "Customers=Spelman College<br>Invoice Amount=%{marker.size}<br>Lat=%{lat}<br>Long=%{lon}<extra></extra>",
         "lat": [
          33.745248
         ],
         "legendgroup": "Spelman College",
         "lon": [
          -84.411351
         ],
         "marker": {
          "color": "#FFA15A",
          "size": [
           1900
          ],
          "sizemode": "area",
          "sizeref": 375
         },
         "mode": "markers",
         "name": "Spelman College",
         "showlegend": true,
         "subplot": "mapbox",
         "type": "scattermapbox"
        },
        {
         "hovertemplate": "Customers=Springfield College<br>Invoice Amount=%{marker.size}<br>Lat=%{lat}<br>Long=%{lon}<extra></extra>",
         "lat": [
          42.100944
         ],
         "legendgroup": "Springfield College",
         "lon": [
          -72.557038
         ],
         "marker": {
          "color": "#19d3f3",
          "size": [
           625
          ],
          "sizemode": "area",
          "sizeref": 375
         },
         "mode": "markers",
         "name": "Springfield College",
         "showlegend": true,
         "subplot": "mapbox",
         "type": "scattermapbox"
        },
        {
         "hovertemplate": "Customers=St. Bonaventure University-School of Education<br>Invoice Amount=%{marker.size}<br>Lat=%{lat}<br>Long=%{lon}<extra></extra>",
         "lat": [
          42.08068,
          42.08068
         ],
         "legendgroup": "St. Bonaventure University-School of Education",
         "lon": [
          -78.48354300000003,
          -78.48354300000003
         ],
         "marker": {
          "color": "#FF6692",
          "size": [
           6100,
           6100
          ],
          "sizemode": "area",
          "sizeref": 375
         },
         "mode": "markers",
         "name": "St. Bonaventure University-School of Education",
         "showlegend": true,
         "subplot": "mapbox",
         "type": "scattermapbox"
        },
        {
         "hovertemplate": "Customers=St. Louis Community College<br>Invoice Amount=%{marker.size}<br>Lat=%{lat}<br>Long=%{lon}<extra></extra>",
         "lat": [
          38.7503
         ],
         "legendgroup": "St. Louis Community College",
         "lon": [
          -90.427725
         ],
         "marker": {
          "color": "#B6E880",
          "size": [
           575
          ],
          "sizemode": "area",
          "sizeref": 375
         },
         "mode": "markers",
         "name": "St. Louis Community College",
         "showlegend": true,
         "subplot": "mapbox",
         "type": "scattermapbox"
        },
        {
         "hovertemplate": "Customers=ST. Mary's College of Maryland<br>Invoice Amount=%{marker.size}<br>Lat=%{lat}<br>Long=%{lon}<extra></extra>",
         "lat": [
          38.190601,
          38.188827
         ],
         "legendgroup": "ST. Mary's College of Maryland",
         "lon": [
          -76.4263,
          -76.42549
         ],
         "marker": {
          "color": "#FF97FF",
          "size": [
           1500,
           1500
          ],
          "sizemode": "area",
          "sizeref": 375
         },
         "mode": "markers",
         "name": "ST. Mary's College of Maryland",
         "showlegend": true,
         "subplot": "mapbox",
         "type": "scattermapbox"
        },
        {
         "hovertemplate": "Customers=St. Olaf College<br>Invoice Amount=%{marker.size}<br>Lat=%{lat}<br>Long=%{lon}<extra></extra>",
         "lat": [
          44.463677
         ],
         "legendgroup": "St. Olaf College",
         "lon": [
          -93.184869
         ],
         "marker": {
          "color": "#FECB52",
          "size": [
           1350
          ],
          "sizemode": "area",
          "sizeref": 375
         },
         "mode": "markers",
         "name": "St. Olaf College",
         "showlegend": true,
         "subplot": "mapbox",
         "type": "scattermapbox"
        },
        {
         "hovertemplate": "Customers=St. Thomas Aquinas College<br>Invoice Amount=%{marker.size}<br>Lat=%{lat}<br>Long=%{lon}<extra></extra>",
         "lat": [
          41.027843,
          41.027843,
          41.027843,
          41.027843,
          41.027843
         ],
         "legendgroup": "St. Thomas Aquinas College",
         "lon": [
          -73.92519300000002,
          -73.92519300000002,
          -73.92519300000002,
          -73.92519300000002,
          -73.92519300000002
         ],
         "marker": {
          "color": "#636efa",
          "size": [
           3750,
           3750,
           3750,
           3750,
           3750
          ],
          "sizemode": "area",
          "sizeref": 375
         },
         "mode": "markers",
         "name": "St. Thomas Aquinas College",
         "showlegend": true,
         "subplot": "mapbox",
         "type": "scattermapbox"
        },
        {
         "hovertemplate": "Customers=Stanford University/SCALE<br>Invoice Amount=%{marker.size}<br>Lat=%{lat}<br>Long=%{lon}<extra></extra>",
         "lat": [
          37.426347,
          37.426347,
          37.426347,
          37.426347,
          37.426347,
          37.426347
         ],
         "legendgroup": "Stanford University/SCALE",
         "lon": [
          -122.168351,
          -122.168351,
          -122.168351,
          -122.168351,
          -122.168351,
          -122.168351
         ],
         "marker": {
          "color": "#EF553B",
          "size": [
           4506,
           4506,
           4506,
           4506,
           4506,
           4506
          ],
          "sizemode": "area",
          "sizeref": 375
         },
         "mode": "markers",
         "name": "Stanford University/SCALE",
         "showlegend": true,
         "subplot": "mapbox",
         "type": "scattermapbox"
        },
        {
         "hovertemplate": "Customers=State Fair Community College<br>Invoice Amount=%{marker.size}<br>Lat=%{lat}<br>Long=%{lon}<extra></extra>",
         "lat": [
          38.699025
         ],
         "legendgroup": "State Fair Community College",
         "lon": [
          -93.268202
         ],
         "marker": {
          "color": "#00cc96",
          "size": [
           6000
          ],
          "sizemode": "area",
          "sizeref": 375
         },
         "mode": "markers",
         "name": "State Fair Community College",
         "showlegend": true,
         "subplot": "mapbox",
         "type": "scattermapbox"
        },
        {
         "hovertemplate": "Customers=State University of NY Potsdam<br>Invoice Amount=%{marker.size}<br>Lat=%{lat}<br>Long=%{lon}<extra></extra>",
         "lat": [
          44.66378
         ],
         "legendgroup": "State University of NY Potsdam",
         "lon": [
          -74.978409
         ],
         "marker": {
          "color": "#ab63fa",
          "size": [
           6500
          ],
          "sizemode": "area",
          "sizeref": 375
         },
         "mode": "markers",
         "name": "State University of NY Potsdam",
         "showlegend": true,
         "subplot": "mapbox",
         "type": "scattermapbox"
        },
        {
         "hovertemplate": "Customers=SUNY College at Brockport<br>Invoice Amount=%{marker.size}<br>Lat=%{lat}<br>Long=%{lon}<extra></extra>",
         "lat": [
          43.209991
         ],
         "legendgroup": "SUNY College at Brockport",
         "lon": [
          -77.95217
         ],
         "marker": {
          "color": "#FFA15A",
          "size": [
           750
          ],
          "sizemode": "area",
          "sizeref": 375
         },
         "mode": "markers",
         "name": "SUNY College at Brockport",
         "showlegend": true,
         "subplot": "mapbox",
         "type": "scattermapbox"
        },
        {
         "hovertemplate": "Customers=SUNY College of Oneonta<br>Invoice Amount=%{marker.size}<br>Lat=%{lat}<br>Long=%{lon}<extra></extra>",
         "lat": [
          42.467927,
          42.467927
         ],
         "legendgroup": "SUNY College of Oneonta",
         "lon": [
          -75.061262,
          -75.061262
         ],
         "marker": {
          "color": "#19d3f3",
          "size": [
           2955,
           2955
          ],
          "sizemode": "area",
          "sizeref": 375
         },
         "mode": "markers",
         "name": "SUNY College of Oneonta",
         "showlegend": true,
         "subplot": "mapbox",
         "type": "scattermapbox"
        },
        {
         "hovertemplate": "Customers=SUNY Erie Community College<br>Invoice Amount=%{marker.size}<br>Lat=%{lat}<br>Long=%{lon}<extra></extra>",
         "lat": [
          42.881777
         ],
         "legendgroup": "SUNY Erie Community College",
         "lon": [
          -78.872598
         ],
         "marker": {
          "color": "#FF6692",
          "size": [
           650
          ],
          "sizemode": "area",
          "sizeref": 375
         },
         "mode": "markers",
         "name": "SUNY Erie Community College",
         "showlegend": true,
         "subplot": "mapbox",
         "type": "scattermapbox"
        },
        {
         "hovertemplate": "Customers=SUNY Plattsburgh<br>Invoice Amount=%{marker.size}<br>Lat=%{lat}<br>Long=%{lon}<extra></extra>",
         "lat": [
          44.694415
         ],
         "legendgroup": "SUNY Plattsburgh",
         "lon": [
          -73.466024
         ],
         "marker": {
          "color": "#B6E880",
          "size": [
           450
          ],
          "sizemode": "area",
          "sizeref": 375
         },
         "mode": "markers",
         "name": "SUNY Plattsburgh",
         "showlegend": true,
         "subplot": "mapbox",
         "type": "scattermapbox"
        },
        {
         "hovertemplate": "Customers=Swarthmore College<br>Invoice Amount=%{marker.size}<br>Lat=%{lat}<br>Long=%{lon}<extra></extra>",
         "lat": [
          39.906112,
          39.906112,
          39.906112
         ],
         "legendgroup": "Swarthmore College",
         "lon": [
          -75.352001,
          -75.352001,
          -75.352001
         ],
         "marker": {
          "color": "#FF97FF",
          "size": [
           2142,
           2142,
           2142
          ],
          "sizemode": "area",
          "sizeref": 375
         },
         "mode": "markers",
         "name": "Swarthmore College",
         "showlegend": true,
         "subplot": "mapbox",
         "type": "scattermapbox"
        },
        {
         "hovertemplate": "Customers=Syracuse University<br>Invoice Amount=%{marker.size}<br>Lat=%{lat}<br>Long=%{lon}<extra></extra>",
         "lat": [
          43.041453,
          43.041453
         ],
         "legendgroup": "Syracuse University",
         "lon": [
          -76.13467800000002,
          -76.13467800000002
         ],
         "marker": {
          "color": "#FECB52",
          "size": [
           4125,
           4125
          ],
          "sizemode": "area",
          "sizeref": 375
         },
         "mode": "markers",
         "name": "Syracuse University",
         "showlegend": true,
         "subplot": "mapbox",
         "type": "scattermapbox"
        },
        {
         "hovertemplate": "Customers=Tacoma Public Schools<br>Invoice Amount=%{marker.size}<br>Lat=%{lat}<br>Long=%{lon}<extra></extra>",
         "lat": [
          47.252981
         ],
         "legendgroup": "Tacoma Public Schools",
         "lon": [
          -122.437398
         ],
         "marker": {
          "color": "#636efa",
          "size": [
           5500
          ],
          "sizemode": "area",
          "sizeref": 375
         },
         "mode": "markers",
         "name": "Tacoma Public Schools",
         "showlegend": true,
         "subplot": "mapbox",
         "type": "scattermapbox"
        },
        {
         "hovertemplate": "Customers=TAOS Municipal School District<br>Invoice Amount=%{marker.size}<br>Lat=%{lat}<br>Long=%{lon}<extra></extra>",
         "lat": [
          36.409388,
          36.409388
         ],
         "legendgroup": "TAOS Municipal School District",
         "lon": [
          -105.575909,
          -105.575909
         ],
         "marker": {
          "color": "#EF553B",
          "size": [
           1020,
           1020
          ],
          "sizemode": "area",
          "sizeref": 375
         },
         "mode": "markers",
         "name": "TAOS Municipal School District",
         "showlegend": true,
         "subplot": "mapbox",
         "type": "scattermapbox"
        },
        {
         "hovertemplate": "Customers=Teach for America Kansas City<br>Invoice Amount=%{marker.size}<br>Lat=%{lat}<br>Long=%{lon}<extra></extra>",
         "lat": [
          39.088975,
          39.088975
         ],
         "legendgroup": "Teach for America Kansas City",
         "lon": [
          -94.58516,
          -94.58516
         ],
         "marker": {
          "color": "#00cc96",
          "size": [
           1500,
           1500
          ],
          "sizemode": "area",
          "sizeref": 375
         },
         "mode": "markers",
         "name": "Teach for America Kansas City",
         "showlegend": true,
         "subplot": "mapbox",
         "type": "scattermapbox"
        },
        {
         "hovertemplate": "Customers=Teachers College, Columbia University<br>Invoice Amount=%{marker.size}<br>Lat=%{lat}<br>Long=%{lon}<extra></extra>",
         "lat": [
          40.81010300000001,
          40.81010300000001
         ],
         "legendgroup": "Teachers College, Columbia University",
         "lon": [
          -73.960643,
          -73.960643
         ],
         "marker": {
          "color": "#ab63fa",
          "size": [
           6625,
           6625
          ],
          "sizemode": "area",
          "sizeref": 375
         },
         "mode": "markers",
         "name": "Teachers College, Columbia University",
         "showlegend": true,
         "subplot": "mapbox",
         "type": "scattermapbox"
        },
        {
         "hovertemplate": "Customers=Temple University, Tyler School of Art and Architecture<br>Invoice Amount=%{marker.size}<br>Lat=%{lat}<br>Long=%{lon}<extra></extra>",
         "lat": [
          39.97713
         ],
         "legendgroup": "Temple University, Tyler School of Art and Architecture",
         "lon": [
          -75.13381
         ],
         "marker": {
          "color": "#FFA15A",
          "size": [
           550
          ],
          "sizemode": "area",
          "sizeref": 375
         },
         "mode": "markers",
         "name": "Temple University, Tyler School of Art and Architecture",
         "showlegend": true,
         "subplot": "mapbox",
         "type": "scattermapbox"
        },
        {
         "hovertemplate": "Customers=Tennessee Wesleyan University<br>Invoice Amount=%{marker.size}<br>Lat=%{lat}<br>Long=%{lon}<extra></extra>",
         "lat": [
          35.44527100000001,
          35.44527100000001
         ],
         "legendgroup": "Tennessee Wesleyan University",
         "lon": [
          -84.59259300000002,
          -84.59259300000002
         ],
         "marker": {
          "color": "#19d3f3",
          "size": [
           1437,
           1437
          ],
          "sizemode": "area",
          "sizeref": 375
         },
         "mode": "markers",
         "name": "Tennessee Wesleyan University",
         "showlegend": true,
         "subplot": "mapbox",
         "type": "scattermapbox"
        },
        {
         "hovertemplate": "Customers=Texas A&M University<br>Invoice Amount=%{marker.size}<br>Lat=%{lat}<br>Long=%{lon}<extra></extra>",
         "lat": [
          30.61102
         ],
         "legendgroup": "Texas A&M University",
         "lon": [
          -96.35275
         ],
         "marker": {
          "color": "#FF6692",
          "size": [
           21500
          ],
          "sizemode": "area",
          "sizeref": 375
         },
         "mode": "markers",
         "name": "Texas A&M University",
         "showlegend": true,
         "subplot": "mapbox",
         "type": "scattermapbox"
        },
        {
         "hovertemplate": "Customers=Texas State University<br>Invoice Amount=%{marker.size}<br>Lat=%{lat}<br>Long=%{lon}<extra></extra>",
         "lat": [
          30.61102
         ],
         "legendgroup": "Texas State University",
         "lon": [
          -96.35275
         ],
         "marker": {
          "color": "#B6E880",
          "size": [
           6000
          ],
          "sizemode": "area",
          "sizeref": 375
         },
         "mode": "markers",
         "name": "Texas State University",
         "showlegend": true,
         "subplot": "mapbox",
         "type": "scattermapbox"
        },
        {
         "hovertemplate": "Customers=The Citadel Zucker Family School of Education<br>Invoice Amount=%{marker.size}<br>Lat=%{lat}<br>Long=%{lon}<extra></extra>",
         "lat": [
          32.7957,
          32.7957,
          32.7957
         ],
         "legendgroup": "The Citadel Zucker Family School of Education",
         "lon": [
          -79.961416,
          -79.961416,
          -79.961416
         ],
         "marker": {
          "color": "#FF97FF",
          "size": [
           1500,
           1500,
           1500
          ],
          "sizemode": "area",
          "sizeref": 375
         },
         "mode": "markers",
         "name": "The Citadel Zucker Family School of Education",
         "showlegend": true,
         "subplot": "mapbox",
         "type": "scattermapbox"
        },
        {
         "hovertemplate": "Customers=The College of Wooster<br>Invoice Amount=%{marker.size}<br>Lat=%{lat}<br>Long=%{lon}<extra></extra>",
         "lat": [
          40.809133
         ],
         "legendgroup": "The College of Wooster",
         "lon": [
          -81.936777
         ],
         "marker": {
          "color": "#FECB52",
          "size": [
           1610
          ],
          "sizemode": "area",
          "sizeref": 375
         },
         "mode": "markers",
         "name": "The College of Wooster",
         "showlegend": true,
         "subplot": "mapbox",
         "type": "scattermapbox"
        },
        {
         "hovertemplate": "Customers=The State University of New York (SUNY)<br>Invoice Amount=%{marker.size}<br>Lat=%{lat}<br>Long=%{lon}<extra></extra>",
         "lat": [
          42.648054,
          42.648054,
          42.648054
         ],
         "legendgroup": "The State University of New York (SUNY)",
         "lon": [
          -73.749797,
          -73.749797,
          -73.749797
         ],
         "marker": {
          "color": "#636efa",
          "size": [
           56837,
           56837,
           56837
          ],
          "sizemode": "area",
          "sizeref": 375
         },
         "mode": "markers",
         "name": "The State University of New York (SUNY)",
         "showlegend": true,
         "subplot": "mapbox",
         "type": "scattermapbox"
        },
        {
         "hovertemplate": "Customers=The Support Network<br>Invoice Amount=%{marker.size}<br>Lat=%{lat}<br>Long=%{lon}<extra></extra>",
         "lat": [
          34.062015
         ],
         "legendgroup": "The Support Network",
         "lon": [
          -118.294481
         ],
         "marker": {
          "color": "#EF553B",
          "size": [
           1800
          ],
          "sizemode": "area",
          "sizeref": 375
         },
         "mode": "markers",
         "name": "The Support Network",
         "showlegend": true,
         "subplot": "mapbox",
         "type": "scattermapbox"
        },
        {
         "hovertemplate": "Customers=The University of New Orleans<br>Invoice Amount=%{marker.size}<br>Lat=%{lat}<br>Long=%{lon}<extra></extra>",
         "lat": [
          30.03503,
          30.03503
         ],
         "legendgroup": "The University of New Orleans",
         "lon": [
          -90.04316,
          -90.04316
         ],
         "marker": {
          "color": "#00cc96",
          "size": [
           3625,
           3625
          ],
          "sizemode": "area",
          "sizeref": 375
         },
         "mode": "markers",
         "name": "The University of New Orleans",
         "showlegend": true,
         "subplot": "mapbox",
         "type": "scattermapbox"
        },
        {
         "hovertemplate": "Customers=The University of Southern Mississippi<br>Invoice Amount=%{marker.size}<br>Lat=%{lat}<br>Long=%{lon}<extra></extra>",
         "lat": [
          31.327811
         ],
         "legendgroup": "The University of Southern Mississippi",
         "lon": [
          -89.332063
         ],
         "marker": {
          "color": "#ab63fa",
          "size": [
           2000
          ],
          "sizemode": "area",
          "sizeref": 375
         },
         "mode": "markers",
         "name": "The University of Southern Mississippi",
         "showlegend": true,
         "subplot": "mapbox",
         "type": "scattermapbox"
        },
        {
         "hovertemplate": "Customers=The University of Tennessee, Knoxville<br>Invoice Amount=%{marker.size}<br>Lat=%{lat}<br>Long=%{lon}<extra></extra>",
         "lat": [
          35.95354000000001
         ],
         "legendgroup": "The University of Tennessee, Knoxville",
         "lon": [
          -83.9272
         ],
         "marker": {
          "color": "#FFA15A",
          "size": [
           3500
          ],
          "sizemode": "area",
          "sizeref": 375
         },
         "mode": "markers",
         "name": "The University of Tennessee, Knoxville",
         "showlegend": true,
         "subplot": "mapbox",
         "type": "scattermapbox"
        },
        {
         "hovertemplate": "Customers=The University of Texas at Tyler<br>Invoice Amount=%{marker.size}<br>Lat=%{lat}<br>Long=%{lon}<extra></extra>",
         "lat": [
          32.314909,
          32.314909
         ],
         "legendgroup": "The University of Texas at Tyler",
         "lon": [
          -95.254302,
          -95.254302
         ],
         "marker": {
          "color": "#19d3f3",
          "size": [
           1605,
           1605
          ],
          "sizemode": "area",
          "sizeref": 375
         },
         "mode": "markers",
         "name": "The University of Texas at Tyler",
         "showlegend": true,
         "subplot": "mapbox",
         "type": "scattermapbox"
        },
        {
         "hovertemplate": "Customers=Thiel College<br>Invoice Amount=%{marker.size}<br>Lat=%{lat}<br>Long=%{lon}<extra></extra>",
         "lat": [
          41.412636,
          41.412636
         ],
         "legendgroup": "Thiel College",
         "lon": [
          -80.382316,
          -80.382316
         ],
         "marker": {
          "color": "#FF6692",
          "size": [
           1500,
           1500
          ],
          "sizemode": "area",
          "sizeref": 375
         },
         "mode": "markers",
         "name": "Thiel College",
         "showlegend": true,
         "subplot": "mapbox",
         "type": "scattermapbox"
        },
        {
         "hovertemplate": "Customers=Thomas College<br>Invoice Amount=%{marker.size}<br>Lat=%{lat}<br>Long=%{lon}<extra></extra>",
         "lat": [
          44.525035,
          44.525035
         ],
         "legendgroup": "Thomas College",
         "lon": [
          -69.664749,
          -69.664749
         ],
         "marker": {
          "color": "#B6E880",
          "size": [
           1875,
           1875
          ],
          "sizemode": "area",
          "sizeref": 375
         },
         "mode": "markers",
         "name": "Thomas College",
         "showlegend": true,
         "subplot": "mapbox",
         "type": "scattermapbox"
        },
        {
         "hovertemplate": "Customers=Troy University<br>Invoice Amount=%{marker.size}<br>Lat=%{lat}<br>Long=%{lon}<extra></extra>",
         "lat": [
          31.8207,
          31.8207,
          31.8207
         ],
         "legendgroup": "Troy University",
         "lon": [
          -85.98306,
          -85.98306,
          -85.98306
         ],
         "marker": {
          "color": "#FF97FF",
          "size": [
           9617.8,
           9617.8,
           9617.8
          ],
          "sizemode": "area",
          "sizeref": 375
         },
         "mode": "markers",
         "name": "Troy University",
         "showlegend": true,
         "subplot": "mapbox",
         "type": "scattermapbox"
        },
        {
         "hovertemplate": "Customers=Tuscaloosa City Schools<br>Invoice Amount=%{marker.size}<br>Lat=%{lat}<br>Long=%{lon}<extra></extra>",
         "lat": [
          33.203634
         ],
         "legendgroup": "Tuscaloosa City Schools",
         "lon": [
          -87.56214399999998
         ],
         "marker": {
          "color": "#FECB52",
          "size": [
           13650
          ],
          "sizemode": "area",
          "sizeref": 375
         },
         "mode": "markers",
         "name": "Tuscaloosa City Schools",
         "showlegend": true,
         "subplot": "mapbox",
         "type": "scattermapbox"
        },
        {
         "hovertemplate": "Customers=UAB Regional In Service Centers<br>Invoice Amount=%{marker.size}<br>Lat=%{lat}<br>Long=%{lon}<extra></extra>",
         "lat": [
          33.498228999999995,
          33.498228999999995
         ],
         "legendgroup": "UAB Regional In Service Centers",
         "lon": [
          -86.8073,
          -86.8073
         ],
         "marker": {
          "color": "#636efa",
          "size": [
           100000,
           100000
          ],
          "sizemode": "area",
          "sizeref": 375
         },
         "mode": "markers",
         "name": "UAB Regional In Service Centers",
         "showlegend": true,
         "subplot": "mapbox",
         "type": "scattermapbox"
        },
        {
         "hovertemplate": "Customers=UIC Council on Teacher Education<br>Invoice Amount=%{marker.size}<br>Lat=%{lat}<br>Long=%{lon}<extra></extra>",
         "lat": [
          41.864437
         ],
         "legendgroup": "UIC Council on Teacher Education",
         "lon": [
          -87.64665699999998
         ],
         "marker": {
          "color": "#EF553B",
          "size": [
           3500
          ],
          "sizemode": "area",
          "sizeref": 375
         },
         "mode": "markers",
         "name": "UIC Council on Teacher Education",
         "showlegend": true,
         "subplot": "mapbox",
         "type": "scattermapbox"
        },
        {
         "hovertemplate": "Customers=Union University<br>Invoice Amount=%{marker.size}<br>Lat=%{lat}<br>Long=%{lon}<extra></extra>",
         "lat": [
          33.210856,
          33.210856,
          33.210856
         ],
         "legendgroup": "Union University",
         "lon": [
          -97.147165,
          -97.147165,
          -97.147165
         ],
         "marker": {
          "color": "#00cc96",
          "size": [
           6800,
           6800,
           6800
          ],
          "sizemode": "area",
          "sizeref": 375
         },
         "mode": "markers",
         "name": "Union University",
         "showlegend": true,
         "subplot": "mapbox",
         "type": "scattermapbox"
        },
        {
         "hovertemplate": "Customers=University of Alabama<br>Invoice Amount=%{marker.size}<br>Lat=%{lat}<br>Long=%{lon}<extra></extra>",
         "lat": [
          33.533925,
          33.533925,
          33.533925
         ],
         "legendgroup": "University of Alabama",
         "lon": [
          -86.877531,
          -86.877531,
          -86.877531
         ],
         "marker": {
          "color": "#ab63fa",
          "size": [
           150000,
           150000,
           150000
          ],
          "sizemode": "area",
          "sizeref": 375
         },
         "mode": "markers",
         "name": "University of Alabama",
         "showlegend": true,
         "subplot": "mapbox",
         "type": "scattermapbox"
        },
        {
         "hovertemplate": "Customers=University of Arkansas<br>Invoice Amount=%{marker.size}<br>Lat=%{lat}<br>Long=%{lon}<extra></extra>",
         "lat": [
          36.07554
         ],
         "legendgroup": "University of Arkansas",
         "lon": [
          -94.17729
         ],
         "marker": {
          "color": "#FFA15A",
          "size": [
           3250
          ],
          "sizemode": "area",
          "sizeref": 375
         },
         "mode": "markers",
         "name": "University of Arkansas",
         "showlegend": true,
         "subplot": "mapbox",
         "type": "scattermapbox"
        },
        {
         "hovertemplate": "Customers=University of California Berkeley<br>Invoice Amount=%{marker.size}<br>Lat=%{lat}<br>Long=%{lon}<extra></extra>",
         "lat": [
          37.873473
         ],
         "legendgroup": "University of California Berkeley",
         "lon": [
          -122.267649
         ],
         "marker": {
          "color": "#19d3f3",
          "size": [
           875
          ],
          "sizemode": "area",
          "sizeref": 375
         },
         "mode": "markers",
         "name": "University of California Berkeley",
         "showlegend": true,
         "subplot": "mapbox",
         "type": "scattermapbox"
        },
        {
         "hovertemplate": "Customers=University of California, Davis<br>Invoice Amount=%{marker.size}<br>Lat=%{lat}<br>Long=%{lon}<extra></extra>",
         "lat": [
          38.539524,
          38.539524,
          38.539524,
          38.539524
         ],
         "legendgroup": "University of California, Davis",
         "lon": [
          -121.751673,
          -121.751673,
          -121.751673,
          -121.751673
         ],
         "marker": {
          "color": "#FF6692",
          "size": [
           6314,
           6314,
           6314,
           6314
          ],
          "sizemode": "area",
          "sizeref": 375
         },
         "mode": "markers",
         "name": "University of California, Davis",
         "showlegend": true,
         "subplot": "mapbox",
         "type": "scattermapbox"
        },
        {
         "hovertemplate": "Customers=University of California, Riverside<br>Invoice Amount=%{marker.size}<br>Lat=%{lat}<br>Long=%{lon}<extra></extra>",
         "lat": [
          33.974234,
          33.974234,
          33.974234,
          33.974234
         ],
         "legendgroup": "University of California, Riverside",
         "lon": [
          -117.327129,
          -117.327129,
          -117.327129,
          -117.327129
         ],
         "marker": {
          "color": "#B6E880",
          "size": [
           5750,
           5750,
           5750,
           5750
          ],
          "sizemode": "area",
          "sizeref": 375
         },
         "mode": "markers",
         "name": "University of California, Riverside",
         "showlegend": true,
         "subplot": "mapbox",
         "type": "scattermapbox"
        },
        {
         "hovertemplate": "Customers=University of Central Arkansas<br>Invoice Amount=%{marker.size}<br>Lat=%{lat}<br>Long=%{lon}<extra></extra>",
         "lat": [
          35.079817,
          35.079817
         ],
         "legendgroup": "University of Central Arkansas",
         "lon": [
          -92.455656,
          -92.455656
         ],
         "marker": {
          "color": "#FF97FF",
          "size": [
           2000,
           2000
          ],
          "sizemode": "area",
          "sizeref": 375
         },
         "mode": "markers",
         "name": "University of Central Arkansas",
         "showlegend": true,
         "subplot": "mapbox",
         "type": "scattermapbox"
        },
        {
         "hovertemplate": "Customers=University of Central Oklahoma<br>Invoice Amount=%{marker.size}<br>Lat=%{lat}<br>Long=%{lon}<extra></extra>",
         "lat": [
          35.655193,
          35.655193
         ],
         "legendgroup": "University of Central Oklahoma",
         "lon": [
          -97.471413,
          -97.471413
         ],
         "marker": {
          "color": "#FECB52",
          "size": [
           1825,
           1825
          ],
          "sizemode": "area",
          "sizeref": 375
         },
         "mode": "markers",
         "name": "University of Central Oklahoma",
         "showlegend": true,
         "subplot": "mapbox",
         "type": "scattermapbox"
        },
        {
         "hovertemplate": "Customers=University of Detroit Mercy Lib<br>Invoice Amount=%{marker.size}<br>Lat=%{lat}<br>Long=%{lon}<extra></extra>",
         "lat": [
          42.41484000000001,
          42.41484000000001
         ],
         "legendgroup": "University of Detroit Mercy Lib",
         "lon": [
          -83.137876,
          -83.137876
         ],
         "marker": {
          "color": "#636efa",
          "size": [
           1500,
           1500
          ],
          "sizemode": "area",
          "sizeref": 375
         },
         "mode": "markers",
         "name": "University of Detroit Mercy Lib",
         "showlegend": true,
         "subplot": "mapbox",
         "type": "scattermapbox"
        },
        {
         "hovertemplate": "Customers=University of Georgia<br>Invoice Amount=%{marker.size}<br>Lat=%{lat}<br>Long=%{lon}<extra></extra>",
         "lat": [
          33.945302000000005
         ],
         "legendgroup": "University of Georgia",
         "lon": [
          -83.374948
         ],
         "marker": {
          "color": "#EF553B",
          "size": [
           4500
          ],
          "sizemode": "area",
          "sizeref": 375
         },
         "mode": "markers",
         "name": "University of Georgia",
         "showlegend": true,
         "subplot": "mapbox",
         "type": "scattermapbox"
        },
        {
         "hovertemplate": "Customers=University of Guam<br>Invoice Amount=%{marker.size}<br>Lat=%{lat}<br>Long=%{lon}<extra></extra>",
         "lat": [
          13.469559
         ],
         "legendgroup": "University of Guam",
         "lon": [
          144.74388100000004
         ],
         "marker": {
          "color": "#00cc96",
          "size": [
           250
          ],
          "sizemode": "area",
          "sizeref": 375
         },
         "mode": "markers",
         "name": "University of Guam",
         "showlegend": true,
         "subplot": "mapbox",
         "type": "scattermapbox"
        },
        {
         "hovertemplate": "Customers=University of Hawaii at Manoa<br>Invoice Amount=%{marker.size}<br>Lat=%{lat}<br>Long=%{lon}<extra></extra>",
         "lat": [
          21.297989,
          21.297989
         ],
         "legendgroup": "University of Hawaii at Manoa",
         "lon": [
          -157.822518,
          -157.822518
         ],
         "marker": {
          "color": "#ab63fa",
          "size": [
           3455,
           3455
          ],
          "sizemode": "area",
          "sizeref": 375
         },
         "mode": "markers",
         "name": "University of Hawaii at Manoa",
         "showlegend": true,
         "subplot": "mapbox",
         "type": "scattermapbox"
        },
        {
         "hovertemplate": "Customers=University of Holy Cross (LA)<br>Invoice Amount=%{marker.size}<br>Lat=%{lat}<br>Long=%{lon}<extra></extra>",
         "lat": [
          29.912261
         ],
         "legendgroup": "University of Holy Cross (LA)",
         "lon": [
          -89.995129
         ],
         "marker": {
          "color": "#FFA15A",
          "size": [
           4500
          ],
          "sizemode": "area",
          "sizeref": 375
         },
         "mode": "markers",
         "name": "University of Holy Cross (LA)",
         "showlegend": true,
         "subplot": "mapbox",
         "type": "scattermapbox"
        },
        {
         "hovertemplate": "Customers=University of Illinois at Urbana-Champaign<br>Invoice Amount=%{marker.size}<br>Lat=%{lat}<br>Long=%{lon}<extra></extra>",
         "lat": [
          40.102105
         ],
         "legendgroup": "University of Illinois at Urbana-Champaign",
         "lon": [
          -88.229667
         ],
         "marker": {
          "color": "#19d3f3",
          "size": [
           2480
          ],
          "sizemode": "area",
          "sizeref": 375
         },
         "mode": "markers",
         "name": "University of Illinois at Urbana-Champaign",
         "showlegend": true,
         "subplot": "mapbox",
         "type": "scattermapbox"
        },
        {
         "hovertemplate": "Customers=University of Illinois Springfield<br>Invoice Amount=%{marker.size}<br>Lat=%{lat}<br>Long=%{lon}<extra></extra>",
         "lat": [
          39.729471,
          39.729471
         ],
         "legendgroup": "University of Illinois Springfield",
         "lon": [
          -89.616833,
          -89.616833
         ],
         "marker": {
          "color": "#FF6692",
          "size": [
           2550,
           2550
          ],
          "sizemode": "area",
          "sizeref": 375
         },
         "mode": "markers",
         "name": "University of Illinois Springfield",
         "showlegend": true,
         "subplot": "mapbox",
         "type": "scattermapbox"
        },
        {
         "hovertemplate": "Customers=University of Kentucky Libraries<br>Invoice Amount=%{marker.size}<br>Lat=%{lat}<br>Long=%{lon}<extra></extra>",
         "lat": [
          37.986014,
          37.986014,
          37.986014,
          37.986014,
          37.986014
         ],
         "legendgroup": "University of Kentucky Libraries",
         "lon": [
          -84.396001,
          -84.396001,
          -84.396001,
          -84.396001,
          -84.396001
         ],
         "marker": {
          "color": "#B6E880",
          "size": [
           18800,
           18800,
           18800,
           18800,
           18800
          ],
          "sizemode": "area",
          "sizeref": 375
         },
         "mode": "markers",
         "name": "University of Kentucky Libraries",
         "showlegend": true,
         "subplot": "mapbox",
         "type": "scattermapbox"
        },
        {
         "hovertemplate": "Customers=University of Kentucky, IHE Special Education Consortium<br>Invoice Amount=%{marker.size}<br>Lat=%{lat}<br>Long=%{lon}<extra></extra>",
         "lat": [
          37.986014,
          37.986014
         ],
         "legendgroup": "University of Kentucky, IHE Special Education Consortium",
         "lon": [
          -84.396001,
          -84.396001
         ],
         "marker": {
          "color": "#FF97FF",
          "size": [
           4000,
           4000
          ],
          "sizemode": "area",
          "sizeref": 375
         },
         "mode": "markers",
         "name": "University of Kentucky, IHE Special Education Consortium",
         "showlegend": true,
         "subplot": "mapbox",
         "type": "scattermapbox"
        },
        {
         "hovertemplate": "Customers=University of La Verne<br>Invoice Amount=%{marker.size}<br>Lat=%{lat}<br>Long=%{lon}<extra></extra>",
         "lat": [
          34.100836
         ],
         "legendgroup": "University of La Verne",
         "lon": [
          -117.77346
         ],
         "marker": {
          "color": "#FECB52",
          "size": [
           7000
          ],
          "sizemode": "area",
          "sizeref": 375
         },
         "mode": "markers",
         "name": "University of La Verne",
         "showlegend": true,
         "subplot": "mapbox",
         "type": "scattermapbox"
        },
        {
         "hovertemplate": "Customers=University of Louisiana at Lafayette<br>Invoice Amount=%{marker.size}<br>Lat=%{lat}<br>Long=%{lon}<extra></extra>",
         "lat": [
          30.284753,
          30.284753
         ],
         "legendgroup": "University of Louisiana at Lafayette",
         "lon": [
          -92.025255,
          -92.025255
         ],
         "marker": {
          "color": "#636efa",
          "size": [
           1762,
           1762
          ],
          "sizemode": "area",
          "sizeref": 375
         },
         "mode": "markers",
         "name": "University of Louisiana at Lafayette",
         "showlegend": true,
         "subplot": "mapbox",
         "type": "scattermapbox"
        },
        {
         "hovertemplate": "Customers=University of Louisiana at Monroe<br>Invoice Amount=%{marker.size}<br>Lat=%{lat}<br>Long=%{lon}<extra></extra>",
         "lat": [
          32.527899,
          32.527899
         ],
         "legendgroup": "University of Louisiana at Monroe",
         "lon": [
          -92.074492,
          -92.074492
         ],
         "marker": {
          "color": "#EF553B",
          "size": [
           4000,
           4000
          ],
          "sizemode": "area",
          "sizeref": 375
         },
         "mode": "markers",
         "name": "University of Louisiana at Monroe",
         "showlegend": true,
         "subplot": "mapbox",
         "type": "scattermapbox"
        },
        {
         "hovertemplate": "Customers=University of Louisville<br>Invoice Amount=%{marker.size}<br>Lat=%{lat}<br>Long=%{lon}<extra></extra>",
         "lat": [
          38.219491
         ],
         "legendgroup": "University of Louisville",
         "lon": [
          -85.757346
         ],
         "marker": {
          "color": "#00cc96",
          "size": [
           4500
          ],
          "sizemode": "area",
          "sizeref": 375
         },
         "mode": "markers",
         "name": "University of Louisville",
         "showlegend": true,
         "subplot": "mapbox",
         "type": "scattermapbox"
        },
        {
         "hovertemplate": "Customers=University of Lynchburg<br>Invoice Amount=%{marker.size}<br>Lat=%{lat}<br>Long=%{lon}<extra></extra>",
         "lat": [
          37.399234,
          37.399234,
          37.399234
         ],
         "legendgroup": "University of Lynchburg",
         "lon": [
          -79.184348,
          -79.184348,
          -79.184348
         ],
         "marker": {
          "color": "#ab63fa",
          "size": [
           1877.5,
           1877.5,
           1877.5
          ],
          "sizemode": "area",
          "sizeref": 375
         },
         "mode": "markers",
         "name": "University of Lynchburg",
         "showlegend": true,
         "subplot": "mapbox",
         "type": "scattermapbox"
        },
        {
         "hovertemplate": "Customers=University of Maryland Baltimore County<br>Invoice Amount=%{marker.size}<br>Lat=%{lat}<br>Long=%{lon}<extra></extra>",
         "lat": [
          39.260736
         ],
         "legendgroup": "University of Maryland Baltimore County",
         "lon": [
          -76.713095
         ],
         "marker": {
          "color": "#FFA15A",
          "size": [
           2500
          ],
          "sizemode": "area",
          "sizeref": 375
         },
         "mode": "markers",
         "name": "University of Maryland Baltimore County",
         "showlegend": true,
         "subplot": "mapbox",
         "type": "scattermapbox"
        },
        {
         "hovertemplate": "Customers=University of Maryland College of Education<br>Invoice Amount=%{marker.size}<br>Lat=%{lat}<br>Long=%{lon}<extra></extra>",
         "lat": [
          38.986456,
          38.986456,
          38.986456,
          38.986456
         ],
         "legendgroup": "University of Maryland College of Education",
         "lon": [
          -76.94730600000003,
          -76.94730600000003,
          -76.94730600000003,
          -76.94730600000003
         ],
         "marker": {
          "color": "#19d3f3",
          "size": [
           5600,
           5600,
           5600,
           5600
          ],
          "sizemode": "area",
          "sizeref": 375
         },
         "mode": "markers",
         "name": "University of Maryland College of Education",
         "showlegend": true,
         "subplot": "mapbox",
         "type": "scattermapbox"
        },
        {
         "hovertemplate": "Customers=University of Michigan-Dearborn<br>Invoice Amount=%{marker.size}<br>Lat=%{lat}<br>Long=%{lon}<extra></extra>",
         "lat": [
          42.318754,
          42.318754
         ],
         "legendgroup": "University of Michigan-Dearborn",
         "lon": [
          -83.232658,
          -83.232658
         ],
         "marker": {
          "color": "#FF6692",
          "size": [
           900,
           900
          ],
          "sizemode": "area",
          "sizeref": 375
         },
         "mode": "markers",
         "name": "University of Michigan-Dearborn",
         "showlegend": true,
         "subplot": "mapbox",
         "type": "scattermapbox"
        },
        {
         "hovertemplate": "Customers=University of Minnesota Duluth<br>Invoice Amount=%{marker.size}<br>Lat=%{lat}<br>Long=%{lon}<extra></extra>",
         "lat": [
          46.81891
         ],
         "legendgroup": "University of Minnesota Duluth",
         "lon": [
          -92.084361
         ],
         "marker": {
          "color": "#B6E880",
          "size": [
           5090
          ],
          "sizemode": "area",
          "sizeref": 375
         },
         "mode": "markers",
         "name": "University of Minnesota Duluth",
         "showlegend": true,
         "subplot": "mapbox",
         "type": "scattermapbox"
        },
        {
         "hovertemplate": "Customers=University of Mississippi<br>Invoice Amount=%{marker.size}<br>Lat=%{lat}<br>Long=%{lon}<extra></extra>",
         "lat": [
          34.358185
         ],
         "legendgroup": "University of Mississippi",
         "lon": [
          -89.548378
         ],
         "marker": {
          "color": "#FF97FF",
          "size": [
           7350
          ],
          "sizemode": "area",
          "sizeref": 375
         },
         "mode": "markers",
         "name": "University of Mississippi",
         "showlegend": true,
         "subplot": "mapbox",
         "type": "scattermapbox"
        },
        {
         "hovertemplate": "Customers=University of Missouri Kansas City<br>Invoice Amount=%{marker.size}<br>Lat=%{lat}<br>Long=%{lon}<extra></extra>",
         "lat": [
          39.033781,
          39.033781
         ],
         "legendgroup": "University of Missouri Kansas City",
         "lon": [
          -94.577827,
          -94.577827
         ],
         "marker": {
          "color": "#FECB52",
          "size": [
           12500,
           12500
          ],
          "sizemode": "area",
          "sizeref": 375
         },
         "mode": "markers",
         "name": "University of Missouri Kansas City",
         "showlegend": true,
         "subplot": "mapbox",
         "type": "scattermapbox"
        },
        {
         "hovertemplate": "Customers=University of Montevallo<br>Invoice Amount=%{marker.size}<br>Lat=%{lat}<br>Long=%{lon}<extra></extra>",
         "lat": [
          33.099384,
          33.099384
         ],
         "legendgroup": "University of Montevallo",
         "lon": [
          -86.864512,
          -86.864512
         ],
         "marker": {
          "color": "#636efa",
          "size": [
           2250,
           2250
          ],
          "sizemode": "area",
          "sizeref": 375
         },
         "mode": "markers",
         "name": "University of Montevallo",
         "showlegend": true,
         "subplot": "mapbox",
         "type": "scattermapbox"
        },
        {
         "hovertemplate": "Customers=University of NC Charlotte<br>Invoice Amount=%{marker.size}<br>Lat=%{lat}<br>Long=%{lon}<extra></extra>",
         "lat": [
          35.30615200000001
         ],
         "legendgroup": "University of NC Charlotte",
         "lon": [
          -80.734562
         ],
         "marker": {
          "color": "#EF553B",
          "size": [
           15750
          ],
          "sizemode": "area",
          "sizeref": 375
         },
         "mode": "markers",
         "name": "University of NC Charlotte",
         "showlegend": true,
         "subplot": "mapbox",
         "type": "scattermapbox"
        },
        {
         "hovertemplate": "Customers=University of NC Greensboro<br>Invoice Amount=%{marker.size}<br>Lat=%{lat}<br>Long=%{lon}<extra></extra>",
         "lat": [
          36.065616,
          36.065616,
          36.065616,
          36.065616,
          36.065616
         ],
         "legendgroup": "University of NC Greensboro",
         "lon": [
          -79.81305,
          -79.81305,
          -79.81305,
          -79.81305,
          -79.81305
         ],
         "marker": {
          "color": "#00cc96",
          "size": [
           17500,
           17500,
           17500,
           17500,
           17500
          ],
          "sizemode": "area",
          "sizeref": 375
         },
         "mode": "markers",
         "name": "University of NC Greensboro",
         "showlegend": true,
         "subplot": "mapbox",
         "type": "scattermapbox"
        },
        {
         "hovertemplate": "Customers=University of New Mexico<br>Invoice Amount=%{marker.size}<br>Lat=%{lat}<br>Long=%{lon}<extra></extra>",
         "lat": [
          35.083789
         ],
         "legendgroup": "University of New Mexico",
         "lon": [
          -106.620276
         ],
         "marker": {
          "color": "#ab63fa",
          "size": [
           2000
          ],
          "sizemode": "area",
          "sizeref": 375
         },
         "mode": "markers",
         "name": "University of New Mexico",
         "showlegend": true,
         "subplot": "mapbox",
         "type": "scattermapbox"
        },
        {
         "hovertemplate": "Customers=University of North Alabama<br>Invoice Amount=%{marker.size}<br>Lat=%{lat}<br>Long=%{lon}<extra></extra>",
         "lat": [
          34.8933,
          34.8933,
          34.8933,
          34.8933,
          34.8933,
          34.8933,
          34.8933
         ],
         "legendgroup": "University of North Alabama",
         "lon": [
          -87.63739,
          -87.63739,
          -87.63739,
          -87.63739,
          -87.63739,
          -87.63739,
          -87.63739
         ],
         "marker": {
          "color": "#FFA15A",
          "size": [
           7930,
           7930,
           7930,
           7930,
           7930,
           7930,
           7930
          ],
          "sizemode": "area",
          "sizeref": 375
         },
         "mode": "markers",
         "name": "University of North Alabama",
         "showlegend": true,
         "subplot": "mapbox",
         "type": "scattermapbox"
        },
        {
         "hovertemplate": "Customers=University of North Carolina<br>Invoice Amount=%{marker.size}<br>Lat=%{lat}<br>Long=%{lon}<extra></extra>",
         "lat": [
          35.803142
         ],
         "legendgroup": "University of North Carolina",
         "lon": [
          -78.67826099999998
         ],
         "marker": {
          "color": "#19d3f3",
          "size": [
           1500
          ],
          "sizemode": "area",
          "sizeref": 375
         },
         "mode": "markers",
         "name": "University of North Carolina",
         "showlegend": true,
         "subplot": "mapbox",
         "type": "scattermapbox"
        },
        {
         "hovertemplate": "Customers=University of North Carolina Chapel Hill<br>Invoice Amount=%{marker.size}<br>Lat=%{lat}<br>Long=%{lon}<extra></extra>",
         "lat": [
          35.965663
         ],
         "legendgroup": "University of North Carolina Chapel Hill",
         "lon": [
          -79.054063
         ],
         "marker": {
          "color": "#FF6692",
          "size": [
           2250
          ],
          "sizemode": "area",
          "sizeref": 375
         },
         "mode": "markers",
         "name": "University of North Carolina Chapel Hill",
         "showlegend": true,
         "subplot": "mapbox",
         "type": "scattermapbox"
        },
        {
         "hovertemplate": "Customers=University of North Carolina Charlotte<br>Invoice Amount=%{marker.size}<br>Lat=%{lat}<br>Long=%{lon}<extra></extra>",
         "lat": [
          35.30615200000001,
          35.30615200000001
         ],
         "legendgroup": "University of North Carolina Charlotte",
         "lon": [
          -80.734562,
          -80.734562
         ],
         "marker": {
          "color": "#B6E880",
          "size": [
           5625,
           5625
          ],
          "sizemode": "area",
          "sizeref": 375
         },
         "mode": "markers",
         "name": "University of North Carolina Charlotte",
         "showlegend": true,
         "subplot": "mapbox",
         "type": "scattermapbox"
        },
        {
         "hovertemplate": "Customers=University of North Carolina Wilmington<br>Invoice Amount=%{marker.size}<br>Lat=%{lat}<br>Long=%{lon}<extra></extra>",
         "lat": [
          34.223991,
          34.223991,
          34.223991,
          34.223991,
          34.223991,
          34.223991
         ],
         "legendgroup": "University of North Carolina Wilmington",
         "lon": [
          -77.86776400000002,
          -77.86776400000002,
          -77.86776400000002,
          -77.86776400000002,
          -77.86776400000002,
          -77.86776400000002
         ],
         "marker": {
          "color": "#FF97FF",
          "size": [
           21030,
           21030,
           21030,
           21030,
           21030,
           21030
          ],
          "sizemode": "area",
          "sizeref": 375
         },
         "mode": "markers",
         "name": "University of North Carolina Wilmington",
         "showlegend": true,
         "subplot": "mapbox",
         "type": "scattermapbox"
        },
        {
         "hovertemplate": "Customers=University of North Colorado<br>Invoice Amount=%{marker.size}<br>Lat=%{lat}<br>Long=%{lon}<extra></extra>",
         "lat": [
          40.406378
         ],
         "legendgroup": "University of North Colorado",
         "lon": [
          -104.68532
         ],
         "marker": {
          "color": "#FECB52",
          "size": [
           5252
          ],
          "sizemode": "area",
          "sizeref": 375
         },
         "mode": "markers",
         "name": "University of North Colorado",
         "showlegend": true,
         "subplot": "mapbox",
         "type": "scattermapbox"
        },
        {
         "hovertemplate": "Customers=University of North Dakota<br>Invoice Amount=%{marker.size}<br>Lat=%{lat}<br>Long=%{lon}<extra></extra>",
         "lat": [
          47.92019000000001,
          47.92019000000001
         ],
         "legendgroup": "University of North Dakota",
         "lon": [
          -97.07046,
          -97.07046
         ],
         "marker": {
          "color": "#636efa",
          "size": [
           1904,
           1904
          ],
          "sizemode": "area",
          "sizeref": 375
         },
         "mode": "markers",
         "name": "University of North Dakota",
         "showlegend": true,
         "subplot": "mapbox",
         "type": "scattermapbox"
        },
        {
         "hovertemplate": "Customers=University of North Florida<br>Invoice Amount=%{marker.size}<br>Lat=%{lat}<br>Long=%{lon}<extra></extra>",
         "lat": [
          30.264713,
          30.264713,
          30.264713
         ],
         "legendgroup": "University of North Florida",
         "lon": [
          -81.507903,
          -81.507903,
          -81.507903
         ],
         "marker": {
          "color": "#EF553B",
          "size": [
           1575,
           1575,
           1575
          ],
          "sizemode": "area",
          "sizeref": 375
         },
         "mode": "markers",
         "name": "University of North Florida",
         "showlegend": true,
         "subplot": "mapbox",
         "type": "scattermapbox"
        },
        {
         "hovertemplate": "Customers=University of North Georgia<br>Invoice Amount=%{marker.size}<br>Lat=%{lat}<br>Long=%{lon}<extra></extra>",
         "lat": [
          33.94177,
          33.94177,
          33.94177
         ],
         "legendgroup": "University of North Georgia",
         "lon": [
          -83.372991,
          -83.372991,
          -83.372991
         ],
         "marker": {
          "color": "#00cc96",
          "size": [
           5950,
           5950,
           5950
          ],
          "sizemode": "area",
          "sizeref": 375
         },
         "mode": "markers",
         "name": "University of North Georgia",
         "showlegend": true,
         "subplot": "mapbox",
         "type": "scattermapbox"
        },
        {
         "hovertemplate": "Customers=University of North Texas<br>Invoice Amount=%{marker.size}<br>Lat=%{lat}<br>Long=%{lon}<extra></extra>",
         "lat": [
          33.210856
         ],
         "legendgroup": "University of North Texas",
         "lon": [
          -97.147165
         ],
         "marker": {
          "color": "#ab63fa",
          "size": [
           3000
          ],
          "sizemode": "area",
          "sizeref": 375
         },
         "mode": "markers",
         "name": "University of North Texas",
         "showlegend": true,
         "subplot": "mapbox",
         "type": "scattermapbox"
        },
        {
         "hovertemplate": "Customers=University of Pacific<br>Invoice Amount=%{marker.size}<br>Lat=%{lat}<br>Long=%{lon}<extra></extra>",
         "lat": [
          37.981067
         ],
         "legendgroup": "University of Pacific",
         "lon": [
          -121.308951
         ],
         "marker": {
          "color": "#FFA15A",
          "size": [
           750
          ],
          "sizemode": "area",
          "sizeref": 375
         },
         "mode": "markers",
         "name": "University of Pacific",
         "showlegend": true,
         "subplot": "mapbox",
         "type": "scattermapbox"
        },
        {
         "hovertemplate": "Customers=University of Phoenix Inc.<br>Invoice Amount=%{marker.size}<br>Lat=%{lat}<br>Long=%{lon}<extra></extra>",
         "lat": [
          33.411341
         ],
         "legendgroup": "University of Phoenix Inc.",
         "lon": [
          -112.01269
         ],
         "marker": {
          "color": "#19d3f3",
          "size": [
           12500
          ],
          "sizemode": "area",
          "sizeref": 375
         },
         "mode": "markers",
         "name": "University of Phoenix Inc.",
         "showlegend": true,
         "subplot": "mapbox",
         "type": "scattermapbox"
        },
        {
         "hovertemplate": "Customers=University of Portland<br>Invoice Amount=%{marker.size}<br>Lat=%{lat}<br>Long=%{lon}<extra></extra>",
         "lat": [
          45.510138
         ],
         "legendgroup": "University of Portland",
         "lon": [
          -122.680312
         ],
         "marker": {
          "color": "#FF6692",
          "size": [
           2750
          ],
          "sizemode": "area",
          "sizeref": 375
         },
         "mode": "markers",
         "name": "University of Portland",
         "showlegend": true,
         "subplot": "mapbox",
         "type": "scattermapbox"
        },
        {
         "hovertemplate": "Customers=University of Rhode Island (School of Education)<br>Invoice Amount=%{marker.size}<br>Lat=%{lat}<br>Long=%{lon}<extra></extra>",
         "lat": [
          41.483693,
          41.483693
         ],
         "legendgroup": "University of Rhode Island (School of Education)",
         "lon": [
          -71.52550600000002,
          -71.52550600000002
         ],
         "marker": {
          "color": "#B6E880",
          "size": [
           4250,
           4250
          ],
          "sizemode": "area",
          "sizeref": 375
         },
         "mode": "markers",
         "name": "University of Rhode Island (School of Education)",
         "showlegend": true,
         "subplot": "mapbox",
         "type": "scattermapbox"
        },
        {
         "hovertemplate": "Customers=University of Richmond<br>Invoice Amount=%{marker.size}<br>Lat=%{lat}<br>Long=%{lon}<extra></extra>",
         "lat": [
          37.575799
         ],
         "legendgroup": "University of Richmond",
         "lon": [
          -77.543513
         ],
         "marker": {
          "color": "#FF97FF",
          "size": [
           1700
          ],
          "sizemode": "area",
          "sizeref": 375
         },
         "mode": "markers",
         "name": "University of Richmond",
         "showlegend": true,
         "subplot": "mapbox",
         "type": "scattermapbox"
        },
        {
         "hovertemplate": "Customers=University of Rochester-Warner School<br>Invoice Amount=%{marker.size}<br>Lat=%{lat}<br>Long=%{lon}<extra></extra>",
         "lat": [
          43.128879
         ],
         "legendgroup": "University of Rochester-Warner School",
         "lon": [
          -77.629708
         ],
         "marker": {
          "color": "#FECB52",
          "size": [
           4800
          ],
          "sizemode": "area",
          "sizeref": 375
         },
         "mode": "markers",
         "name": "University of Rochester-Warner School",
         "showlegend": true,
         "subplot": "mapbox",
         "type": "scattermapbox"
        },
        {
         "hovertemplate": "Customers=University of San Francisco<br>Invoice Amount=%{marker.size}<br>Lat=%{lat}<br>Long=%{lon}<extra></extra>",
         "lat": [
          37.776451,
          37.776451
         ],
         "legendgroup": "University of San Francisco",
         "lon": [
          -122.451994,
          -122.451994
         ],
         "marker": {
          "color": "#636efa",
          "size": [
           3600,
           3600
          ],
          "sizemode": "area",
          "sizeref": 375
         },
         "mode": "markers",
         "name": "University of San Francisco",
         "showlegend": true,
         "subplot": "mapbox",
         "type": "scattermapbox"
        },
        {
         "hovertemplate": "Customers=University of South Alabama<br>Invoice Amount=%{marker.size}<br>Lat=%{lat}<br>Long=%{lon}<extra></extra>",
         "lat": [
          30.69538
         ],
         "legendgroup": "University of South Alabama",
         "lon": [
          -88.175177
         ],
         "marker": {
          "color": "#EF553B",
          "size": [
           2500
          ],
          "sizemode": "area",
          "sizeref": 375
         },
         "mode": "markers",
         "name": "University of South Alabama",
         "showlegend": true,
         "subplot": "mapbox",
         "type": "scattermapbox"
        },
        {
         "hovertemplate": "Customers=University of South Carolina, Beaufort<br>Invoice Amount=%{marker.size}<br>Lat=%{lat}<br>Long=%{lon}<extra></extra>",
         "lat": [
          32.303215,
          32.303215
         ],
         "legendgroup": "University of South Carolina, Beaufort",
         "lon": [
          -80.973589,
          -80.973589
         ],
         "marker": {
          "color": "#00cc96",
          "size": [
           2250,
           2250
          ],
          "sizemode": "area",
          "sizeref": 375
         },
         "mode": "markers",
         "name": "University of South Carolina, Beaufort",
         "showlegend": true,
         "subplot": "mapbox",
         "type": "scattermapbox"
        },
        {
         "hovertemplate": "Customers=University of South Carolina, College of Education<br>Invoice Amount=%{marker.size}<br>Lat=%{lat}<br>Long=%{lon}<extra></extra>",
         "lat": [
          33.99617
         ],
         "legendgroup": "University of South Carolina, College of Education",
         "lon": [
          -81.0312
         ],
         "marker": {
          "color": "#ab63fa",
          "size": [
           4500
          ],
          "sizemode": "area",
          "sizeref": 375
         },
         "mode": "markers",
         "name": "University of South Carolina, College of Education",
         "showlegend": true,
         "subplot": "mapbox",
         "type": "scattermapbox"
        },
        {
         "hovertemplate": "Customers=University of Southern Mississippi<br>Invoice Amount=%{marker.size}<br>Lat=%{lat}<br>Long=%{lon}<extra></extra>",
         "lat": [
          31.327811,
          31.327811,
          31.327811,
          31.327811
         ],
         "legendgroup": "University of Southern Mississippi",
         "lon": [
          -89.332063,
          -89.332063,
          -89.332063,
          -89.332063
         ],
         "marker": {
          "color": "#FFA15A",
          "size": [
           5800,
           5800,
           5800,
           5800
          ],
          "sizemode": "area",
          "sizeref": 375
         },
         "mode": "markers",
         "name": "University of Southern Mississippi",
         "showlegend": true,
         "subplot": "mapbox",
         "type": "scattermapbox"
        },
        {
         "hovertemplate": "Customers=University of St. Francis<br>Invoice Amount=%{marker.size}<br>Lat=%{lat}<br>Long=%{lon}<extra></extra>",
         "lat": [
          41.532977
         ],
         "legendgroup": "University of St. Francis",
         "lon": [
          -88.098109
         ],
         "marker": {
          "color": "#19d3f3",
          "size": [
           2500
          ],
          "sizemode": "area",
          "sizeref": 375
         },
         "mode": "markers",
         "name": "University of St. Francis",
         "showlegend": true,
         "subplot": "mapbox",
         "type": "scattermapbox"
        },
        {
         "hovertemplate": "Customers=University of St. Thomas<br>Invoice Amount=%{marker.size}<br>Lat=%{lat}<br>Long=%{lon}<extra></extra>",
         "lat": [
          44.943933
         ],
         "legendgroup": "University of St. Thomas",
         "lon": [
          -93.189874
         ],
         "marker": {
          "color": "#FF6692",
          "size": [
           3366
          ],
          "sizemode": "area",
          "sizeref": 375
         },
         "mode": "markers",
         "name": "University of St. Thomas",
         "showlegend": true,
         "subplot": "mapbox",
         "type": "scattermapbox"
        },
        {
         "hovertemplate": "Customers=University of Tennessee at Martin<br>Invoice Amount=%{marker.size}<br>Lat=%{lat}<br>Long=%{lon}<extra></extra>",
         "lat": [
          36.341367,
          36.341367,
          36.341367,
          36.341367
         ],
         "legendgroup": "University of Tennessee at Martin",
         "lon": [
          -88.86476,
          -88.86476,
          -88.86476,
          -88.86476
         ],
         "marker": {
          "color": "#B6E880",
          "size": [
           4422.5,
           4422.5,
           4422.5,
           4422.5
          ],
          "sizemode": "area",
          "sizeref": 375
         },
         "mode": "markers",
         "name": "University of Tennessee at Martin",
         "showlegend": true,
         "subplot": "mapbox",
         "type": "scattermapbox"
        },
        {
         "hovertemplate": "Customers=University of Texas at San Antonio<br>Invoice Amount=%{marker.size}<br>Lat=%{lat}<br>Long=%{lon}<extra></extra>",
         "lat": [
          29.584425
         ],
         "legendgroup": "University of Texas at San Antonio",
         "lon": [
          -98.617555
         ],
         "marker": {
          "color": "#FF97FF",
          "size": [
           2500
          ],
          "sizemode": "area",
          "sizeref": 375
         },
         "mode": "markers",
         "name": "University of Texas at San Antonio",
         "showlegend": true,
         "subplot": "mapbox",
         "type": "scattermapbox"
        },
        {
         "hovertemplate": "Customers=University of Texas at Tyler<br>Invoice Amount=%{marker.size}<br>Lat=%{lat}<br>Long=%{lon}<extra></extra>",
         "lat": [
          32.314909
         ],
         "legendgroup": "University of Texas at Tyler",
         "lon": [
          -95.254302
         ],
         "marker": {
          "color": "#FECB52",
          "size": [
           1575
          ],
          "sizemode": "area",
          "sizeref": 375
         },
         "mode": "markers",
         "name": "University of Texas at Tyler",
         "showlegend": true,
         "subplot": "mapbox",
         "type": "scattermapbox"
        },
        {
         "hovertemplate": "Customers=University of the Arts<br>Invoice Amount=%{marker.size}<br>Lat=%{lat}<br>Long=%{lon}<extra></extra>",
         "lat": [
          39.945975,
          39.945975,
          39.945975
         ],
         "legendgroup": "University of the Arts",
         "lon": [
          -75.16555600000002,
          -75.16555600000002,
          -75.16555600000002
         ],
         "marker": {
          "color": "#636efa",
          "size": [
           1606,
           1606,
           1606
          ],
          "sizemode": "area",
          "sizeref": 375
         },
         "mode": "markers",
         "name": "University of the Arts",
         "showlegend": true,
         "subplot": "mapbox",
         "type": "scattermapbox"
        },
        {
         "hovertemplate": "Customers=University of the Cumberland<br>Invoice Amount=%{marker.size}<br>Lat=%{lat}<br>Long=%{lon}<extra></extra>",
         "lat": [
          36.73702700000001
         ],
         "legendgroup": "University of the Cumberland",
         "lon": [
          -84.162826
         ],
         "marker": {
          "color": "#EF553B",
          "size": [
           3500
          ],
          "sizemode": "area",
          "sizeref": 375
         },
         "mode": "markers",
         "name": "University of the Cumberland",
         "showlegend": true,
         "subplot": "mapbox",
         "type": "scattermapbox"
        },
        {
         "hovertemplate": "Customers=University of the Pacific<br>Invoice Amount=%{marker.size}<br>Lat=%{lat}<br>Long=%{lon}<extra></extra>",
         "lat": [
          37.981987,
          37.981987,
          37.981987
         ],
         "legendgroup": "University of the Pacific",
         "lon": [
          -121.30867,
          -121.30867,
          -121.30867
         ],
         "marker": {
          "color": "#00cc96",
          "size": [
           6250,
           6250,
           6250
          ],
          "sizemode": "area",
          "sizeref": 375
         },
         "mode": "markers",
         "name": "University of the Pacific",
         "showlegend": true,
         "subplot": "mapbox",
         "type": "scattermapbox"
        },
        {
         "hovertemplate": "Customers=University of Virginia<br>Invoice Amount=%{marker.size}<br>Lat=%{lat}<br>Long=%{lon}<extra></extra>",
         "lat": [
          38.049883,
          38.049883
         ],
         "legendgroup": "University of Virginia",
         "lon": [
          -78.501288,
          -78.501288
         ],
         "marker": {
          "color": "#ab63fa",
          "size": [
           3000,
           3000
          ],
          "sizemode": "area",
          "sizeref": 375
         },
         "mode": "markers",
         "name": "University of Virginia",
         "showlegend": true,
         "subplot": "mapbox",
         "type": "scattermapbox"
        },
        {
         "hovertemplate": "Customers=University of West Alabama<br>Invoice Amount=%{marker.size}<br>Lat=%{lat}<br>Long=%{lon}<extra></extra>",
         "lat": [
          32.581327,
          32.581327
         ],
         "legendgroup": "University of West Alabama",
         "lon": [
          -88.18576800000002,
          -88.18576800000002
         ],
         "marker": {
          "color": "#FFA15A",
          "size": [
           6362.5,
           6362.5
          ],
          "sizemode": "area",
          "sizeref": 375
         },
         "mode": "markers",
         "name": "University of West Alabama",
         "showlegend": true,
         "subplot": "mapbox",
         "type": "scattermapbox"
        },
        {
         "hovertemplate": "Customers=University of West Georgia<br>Invoice Amount=%{marker.size}<br>Lat=%{lat}<br>Long=%{lon}<extra></extra>",
         "lat": [
          33.574397
         ],
         "legendgroup": "University of West Georgia",
         "lon": [
          -85.09905400000002
         ],
         "marker": {
          "color": "#19d3f3",
          "size": [
           3500
          ],
          "sizemode": "area",
          "sizeref": 375
         },
         "mode": "markers",
         "name": "University of West Georgia",
         "showlegend": true,
         "subplot": "mapbox",
         "type": "scattermapbox"
        },
        {
         "hovertemplate": "Customers=University of Wisconsin Stevens Point<br>Invoice Amount=%{marker.size}<br>Lat=%{lat}<br>Long=%{lon}<extra></extra>",
         "lat": [
          44.527988,
          44.527988
         ],
         "legendgroup": "University of Wisconsin Stevens Point",
         "lon": [
          -89.572315,
          -89.572315
         ],
         "marker": {
          "color": "#FF6692",
          "size": [
           4750,
           4750
          ],
          "sizemode": "area",
          "sizeref": 375
         },
         "mode": "markers",
         "name": "University of Wisconsin Stevens Point",
         "showlegend": true,
         "subplot": "mapbox",
         "type": "scattermapbox"
        },
        {
         "hovertemplate": "Customers=University of Wisconsin-Eau Claire<br>Invoice Amount=%{marker.size}<br>Lat=%{lat}<br>Long=%{lon}<extra></extra>",
         "lat": [
          44.804918
         ],
         "legendgroup": "University of Wisconsin-Eau Claire",
         "lon": [
          -91.46952
         ],
         "marker": {
          "color": "#B6E880",
          "size": [
           4650
          ],
          "sizemode": "area",
          "sizeref": 375
         },
         "mode": "markers",
         "name": "University of Wisconsin-Eau Claire",
         "showlegend": true,
         "subplot": "mapbox",
         "type": "scattermapbox"
        },
        {
         "hovertemplate": "Customers=University of Wisconsin-Madison<br>Invoice Amount=%{marker.size}<br>Lat=%{lat}<br>Long=%{lon}<extra></extra>",
         "lat": [
          43.075647
         ],
         "legendgroup": "University of Wisconsin-Madison",
         "lon": [
          -89.402263
         ],
         "marker": {
          "color": "#FF97FF",
          "size": [
           1680
          ],
          "sizemode": "area",
          "sizeref": 375
         },
         "mode": "markers",
         "name": "University of Wisconsin-Madison",
         "showlegend": true,
         "subplot": "mapbox",
         "type": "scattermapbox"
        },
        {
         "hovertemplate": "Customers=University of Wisconsin-River Falls<br>Invoice Amount=%{marker.size}<br>Lat=%{lat}<br>Long=%{lon}<extra></extra>",
         "lat": [
          44.852336,
          44.852336
         ],
         "legendgroup": "University of Wisconsin-River Falls",
         "lon": [
          -92.621352,
          -92.621352
         ],
         "marker": {
          "color": "#FECB52",
          "size": [
           2962,
           2962
          ],
          "sizemode": "area",
          "sizeref": 375
         },
         "mode": "markers",
         "name": "University of Wisconsin-River Falls",
         "showlegend": true,
         "subplot": "mapbox",
         "type": "scattermapbox"
        },
        {
         "hovertemplate": "Customers=University of Wyoming, College of Education<br>Invoice Amount=%{marker.size}<br>Lat=%{lat}<br>Long=%{lon}<extra></extra>",
         "lat": [
          41.31239
         ],
         "legendgroup": "University of Wyoming, College of Education",
         "lon": [
          -105.579458
         ],
         "marker": {
          "color": "#636efa",
          "size": [
           4350
          ],
          "sizemode": "area",
          "sizeref": 375
         },
         "mode": "markers",
         "name": "University of Wyoming, College of Education",
         "showlegend": true,
         "subplot": "mapbox",
         "type": "scattermapbox"
        },
        {
         "hovertemplate": "Customers=Utah Valley University<br>Invoice Amount=%{marker.size}<br>Lat=%{lat}<br>Long=%{lon}<extra></extra>",
         "lat": [
          40.277261,
          40.277261
         ],
         "legendgroup": "Utah Valley University",
         "lon": [
          -111.7129,
          -111.7129
         ],
         "marker": {
          "color": "#EF553B",
          "size": [
           14000,
           14000
          ],
          "sizemode": "area",
          "sizeref": 375
         },
         "mode": "markers",
         "name": "Utah Valley University",
         "showlegend": true,
         "subplot": "mapbox",
         "type": "scattermapbox"
        },
        {
         "hovertemplate": "Customers=Utica College<br>Invoice Amount=%{marker.size}<br>Lat=%{lat}<br>Long=%{lon}<extra></extra>",
         "lat": [
          43.095287,
          43.095287
         ],
         "legendgroup": "Utica College",
         "lon": [
          -75.271726,
          -75.271726
         ],
         "marker": {
          "color": "#00cc96",
          "size": [
           3500,
           3500
          ],
          "sizemode": "area",
          "sizeref": 375
         },
         "mode": "markers",
         "name": "Utica College",
         "showlegend": true,
         "subplot": "mapbox",
         "type": "scattermapbox"
        },
        {
         "hovertemplate": "Customers=VA NBCT Network<br>Invoice Amount=%{marker.size}<br>Lat=%{lat}<br>Long=%{lon}<extra></extra>",
         "lat": [
          null
         ],
         "legendgroup": "VA NBCT Network",
         "lon": [
          null
         ],
         "marker": {
          "color": "#ab63fa",
          "size": [
           4500
          ],
          "sizemode": "area",
          "sizeref": 375
         },
         "mode": "markers",
         "name": "VA NBCT Network",
         "showlegend": true,
         "subplot": "mapbox",
         "type": "scattermapbox"
        },
        {
         "hovertemplate": "Customers=Valdosta State University<br>Invoice Amount=%{marker.size}<br>Lat=%{lat}<br>Long=%{lon}<extra></extra>",
         "lat": [
          30.848574
         ],
         "legendgroup": "Valdosta State University",
         "lon": [
          -83.291042
         ],
         "marker": {
          "color": "#FFA15A",
          "size": [
           1625
          ],
          "sizemode": "area",
          "sizeref": 375
         },
         "mode": "markers",
         "name": "Valdosta State University",
         "showlegend": true,
         "subplot": "mapbox",
         "type": "scattermapbox"
        },
        {
         "hovertemplate": "Customers=Virginia Commonwealth University<br>Invoice Amount=%{marker.size}<br>Lat=%{lat}<br>Long=%{lon}<extra></extra>",
         "lat": [
          37.546856
         ],
         "legendgroup": "Virginia Commonwealth University",
         "lon": [
          -77.453638
         ],
         "marker": {
          "color": "#19d3f3",
          "size": [
           2700
          ],
          "sizemode": "area",
          "sizeref": 375
         },
         "mode": "markers",
         "name": "Virginia Commonwealth University",
         "showlegend": true,
         "subplot": "mapbox",
         "type": "scattermapbox"
        },
        {
         "hovertemplate": "Customers=Vitero University<br>Invoice Amount=%{marker.size}<br>Lat=%{lat}<br>Long=%{lon}<extra></extra>",
         "lat": [
          43.802091
         ],
         "legendgroup": "Vitero University",
         "lon": [
          -91.244954
         ],
         "marker": {
          "color": "#FF6692",
          "size": [
           160
          ],
          "sizemode": "area",
          "sizeref": 375
         },
         "mode": "markers",
         "name": "Vitero University",
         "showlegend": true,
         "subplot": "mapbox",
         "type": "scattermapbox"
        },
        {
         "hovertemplate": "Customers=Walla Walla Public Schools<br>Invoice Amount=%{marker.size}<br>Lat=%{lat}<br>Long=%{lon}<extra></extra>",
         "lat": [
          46.065081,
          46.065081
         ],
         "legendgroup": "Walla Walla Public Schools",
         "lon": [
          -118.32958700000002,
          -118.32958700000002
         ],
         "marker": {
          "color": "#B6E880",
          "size": [
           5300,
           5300
          ],
          "sizemode": "area",
          "sizeref": 375
         },
         "mode": "markers",
         "name": "Walla Walla Public Schools",
         "showlegend": true,
         "subplot": "mapbox",
         "type": "scattermapbox"
        },
        {
         "hovertemplate": "Customers=Washington County Schools<br>Invoice Amount=%{marker.size}<br>Lat=%{lat}<br>Long=%{lon}<extra></extra>",
         "lat": [
          39.598072
         ],
         "legendgroup": "Washington County Schools",
         "lon": [
          -77.764449
         ],
         "marker": {
          "color": "#FF97FF",
          "size": [
           5775
          ],
          "sizemode": "area",
          "sizeref": 375
         },
         "mode": "markers",
         "name": "Washington County Schools",
         "showlegend": true,
         "subplot": "mapbox",
         "type": "scattermapbox"
        },
        {
         "hovertemplate": "Customers=Washington State University<br>Invoice Amount=%{marker.size}<br>Lat=%{lat}<br>Long=%{lon}<extra></extra>",
         "lat": [
          46.728879
         ],
         "legendgroup": "Washington State University",
         "lon": [
          -117.17951200000002
         ],
         "marker": {
          "color": "#FECB52",
          "size": [
           2500
          ],
          "sizemode": "area",
          "sizeref": 375
         },
         "mode": "markers",
         "name": "Washington State University",
         "showlegend": true,
         "subplot": "mapbox",
         "type": "scattermapbox"
        },
        {
         "hovertemplate": "Customers=West Liberty University<br>Invoice Amount=%{marker.size}<br>Lat=%{lat}<br>Long=%{lon}<extra></extra>",
         "lat": [
          37.902828
         ],
         "legendgroup": "West Liberty University",
         "lon": [
          -83.290718
         ],
         "marker": {
          "color": "#636efa",
          "size": [
           3500
          ],
          "sizemode": "area",
          "sizeref": 375
         },
         "mode": "markers",
         "name": "West Liberty University",
         "showlegend": true,
         "subplot": "mapbox",
         "type": "scattermapbox"
        },
        {
         "hovertemplate": "Customers=Western Carolina University<br>Invoice Amount=%{marker.size}<br>Lat=%{lat}<br>Long=%{lon}<extra></extra>",
         "lat": [
          35.309247
         ],
         "legendgroup": "Western Carolina University",
         "lon": [
          -83.183142
         ],
         "marker": {
          "color": "#EF553B",
          "size": [
           7500
          ],
          "sizemode": "area",
          "sizeref": 375
         },
         "mode": "markers",
         "name": "Western Carolina University",
         "showlegend": true,
         "subplot": "mapbox",
         "type": "scattermapbox"
        },
        {
         "hovertemplate": "Customers=Western Governors University<br>Invoice Amount=%{marker.size}<br>Lat=%{lat}<br>Long=%{lon}<extra></extra>",
         "lat": [
          40.684882,
          40.684882,
          40.684882,
          40.684882
         ],
         "legendgroup": "Western Governors University",
         "lon": [
          -111.869961,
          -111.869961,
          -111.869961,
          -111.869961
         ],
         "marker": {
          "color": "#00cc96",
          "size": [
           102000,
           102000,
           102000,
           102000
          ],
          "sizemode": "area",
          "sizeref": 375
         },
         "mode": "markers",
         "name": "Western Governors University",
         "showlegend": true,
         "subplot": "mapbox",
         "type": "scattermapbox"
        },
        {
         "hovertemplate": "Customers=Western Illinois University<br>Invoice Amount=%{marker.size}<br>Lat=%{lat}<br>Long=%{lon}<extra></extra>",
         "lat": [
          40.471244,
          40.471244
         ],
         "legendgroup": "Western Illinois University",
         "lon": [
          -90.685787,
          -90.685787
         ],
         "marker": {
          "color": "#ab63fa",
          "size": [
           4000,
           4000
          ],
          "sizemode": "area",
          "sizeref": 375
         },
         "mode": "markers",
         "name": "Western Illinois University",
         "showlegend": true,
         "subplot": "mapbox",
         "type": "scattermapbox"
        },
        {
         "hovertemplate": "Customers=Western Michigan University CEHD<br>Invoice Amount=%{marker.size}<br>Lat=%{lat}<br>Long=%{lon}<extra></extra>",
         "lat": [
          42.28345
         ],
         "legendgroup": "Western Michigan University CEHD",
         "lon": [
          -85.612347
         ],
         "marker": {
          "color": "#FFA15A",
          "size": [
           1800
          ],
          "sizemode": "area",
          "sizeref": 375
         },
         "mode": "markers",
         "name": "Western Michigan University CEHD",
         "showlegend": true,
         "subplot": "mapbox",
         "type": "scattermapbox"
        },
        {
         "hovertemplate": "Customers=Western Washington University<br>Invoice Amount=%{marker.size}<br>Lat=%{lat}<br>Long=%{lon}<extra></extra>",
         "lat": [
          48.739022,
          48.739022
         ],
         "legendgroup": "Western Washington University",
         "lon": [
          -122.4836,
          -122.4836
         ],
         "marker": {
          "color": "#19d3f3",
          "size": [
           1185,
           1185
          ],
          "sizemode": "area",
          "sizeref": 375
         },
         "mode": "markers",
         "name": "Western Washington University",
         "showlegend": true,
         "subplot": "mapbox",
         "type": "scattermapbox"
        },
        {
         "hovertemplate": "Customers=Westfield State University<br>Invoice Amount=%{marker.size}<br>Lat=%{lat}<br>Long=%{lon}<extra></extra>",
         "lat": [
          42.131186
         ],
         "legendgroup": "Westfield State University",
         "lon": [
          -72.794618
         ],
         "marker": {
          "color": "#FF6692",
          "size": [
           5500
          ],
          "sizemode": "area",
          "sizeref": 375
         },
         "mode": "markers",
         "name": "Westfield State University",
         "showlegend": true,
         "subplot": "mapbox",
         "type": "scattermapbox"
        },
        {
         "hovertemplate": "Customers=Wheaton College<br>Invoice Amount=%{marker.size}<br>Lat=%{lat}<br>Long=%{lon}<extra></extra>",
         "lat": [
          41.868522
         ],
         "legendgroup": "Wheaton College",
         "lon": [
          -88.099554
         ],
         "marker": {
          "color": "#B6E880",
          "size": [
           512.5
          ],
          "sizemode": "area",
          "sizeref": 375
         },
         "mode": "markers",
         "name": "Wheaton College",
         "showlegend": true,
         "subplot": "mapbox",
         "type": "scattermapbox"
        },
        {
         "hovertemplate": "Customers=William Baptist University<br>Invoice Amount=%{marker.size}<br>Lat=%{lat}<br>Long=%{lon}<extra></extra>",
         "lat": [
          36.125769,
          36.125769
         ],
         "legendgroup": "William Baptist University",
         "lon": [
          -90.938983,
          -90.938983
         ],
         "marker": {
          "color": "#FF97FF",
          "size": [
           1174,
           1174
          ],
          "sizemode": "area",
          "sizeref": 375
         },
         "mode": "markers",
         "name": "William Baptist University",
         "showlegend": true,
         "subplot": "mapbox",
         "type": "scattermapbox"
        },
        {
         "hovertemplate": "Customers=William Paterson University<br>Invoice Amount=%{marker.size}<br>Lat=%{lat}<br>Long=%{lon}<extra></extra>",
         "lat": [
          40.945173
         ],
         "legendgroup": "William Paterson University",
         "lon": [
          -74.200317
         ],
         "marker": {
          "color": "#FECB52",
          "size": [
           1900
          ],
          "sizemode": "area",
          "sizeref": 375
         },
         "mode": "markers",
         "name": "William Paterson University",
         "showlegend": true,
         "subplot": "mapbox",
         "type": "scattermapbox"
        },
        {
         "hovertemplate": "Customers=Wingate University<br>Invoice Amount=%{marker.size}<br>Lat=%{lat}<br>Long=%{lon}<extra></extra>",
         "lat": [
          34.986059000000004,
          34.986059000000004
         ],
         "legendgroup": "Wingate University",
         "lon": [
          -80.443073,
          -80.443073
         ],
         "marker": {
          "color": "#636efa",
          "size": [
           1250,
           1250
          ],
          "sizemode": "area",
          "sizeref": 375
         },
         "mode": "markers",
         "name": "Wingate University",
         "showlegend": true,
         "subplot": "mapbox",
         "type": "scattermapbox"
        },
        {
         "hovertemplate": "Customers=Winston-Salem State University<br>Invoice Amount=%{marker.size}<br>Lat=%{lat}<br>Long=%{lon}<extra></extra>",
         "lat": [
          36.089607
         ],
         "legendgroup": "Winston-Salem State University",
         "lon": [
          -80.22456700000002
         ],
         "marker": {
          "color": "#EF553B",
          "size": [
           562
          ],
          "sizemode": "area",
          "sizeref": 375
         },
         "mode": "markers",
         "name": "Winston-Salem State University",
         "showlegend": true,
         "subplot": "mapbox",
         "type": "scattermapbox"
        },
        {
         "hovertemplate": "Customers=Winthrop University<br>Invoice Amount=%{marker.size}<br>Lat=%{lat}<br>Long=%{lon}<extra></extra>",
         "lat": [
          34.938466,
          34.938466,
          34.938466,
          34.938466,
          34.938466,
          34.938466,
          34.938466
         ],
         "legendgroup": "Winthrop University",
         "lon": [
          -81.029872,
          -81.029872,
          -81.029872,
          -81.029872,
          -81.029872,
          -81.029872,
          -81.029872
         ],
         "marker": {
          "color": "#00cc96",
          "size": [
           6062.5,
           6062.5,
           6062.5,
           6062.5,
           6062.5,
           6062.5,
           6062.5
          ],
          "sizemode": "area",
          "sizeref": 375
         },
         "mode": "markers",
         "name": "Winthrop University",
         "showlegend": true,
         "subplot": "mapbox",
         "type": "scattermapbox"
        },
        {
         "hovertemplate": "Customers=Yakima Valley College<br>Invoice Amount=%{marker.size}<br>Lat=%{lat}<br>Long=%{lon}<extra></extra>",
         "lat": [
          -35.001338
         ],
         "legendgroup": "Yakima Valley College",
         "lon": [
          117.875053
         ],
         "marker": {
          "color": "#ab63fa",
          "size": [
           1030
          ],
          "sizemode": "area",
          "sizeref": 375
         },
         "mode": "markers",
         "name": "Yakima Valley College",
         "showlegend": true,
         "subplot": "mapbox",
         "type": "scattermapbox"
        },
        {
         "hovertemplate": "Customers=Young Harris College/Miller Library<br>Invoice Amount=%{marker.size}<br>Lat=%{lat}<br>Long=%{lon}<extra></extra>",
         "lat": [
          34.934079,
          34.934079
         ],
         "legendgroup": "Young Harris College/Miller Library",
         "lon": [
          -83.846801,
          -83.846801
         ],
         "marker": {
          "color": "#FFA15A",
          "size": [
           3350,
           3350
          ],
          "sizemode": "area",
          "sizeref": 375
         },
         "mode": "markers",
         "name": "Young Harris College/Miller Library",
         "showlegend": true,
         "subplot": "mapbox",
         "type": "scattermapbox"
        }
       ],
       "layout": {
        "height": 900,
        "legend": {
         "itemsizing": "constant",
         "title": {
          "text": "Customers"
         },
         "tracegroupgap": 0
        },
        "mapbox": {
         "accesstoken": "pk.eyJ1IjoibWlsYWRuYXphciIsImEiOiJja2doYmN1d2swNGtkMnNvMGRhb3RnbmZpIn0.h5puE2zZYJuUHFdI586CDg",
         "center": {
          "lat": 37.43690851319267,
          "lon": -88.25455913588411
         },
         "domain": {
          "x": [
           0,
           1
          ],
          "y": [
           0,
           1
          ]
         },
         "style": "open-street-map",
         "zoom": 4
        },
        "margin": {
         "t": 60
        },
        "template": {
         "data": {
          "bar": [
           {
            "error_x": {
             "color": "#2a3f5f"
            },
            "error_y": {
             "color": "#2a3f5f"
            },
            "marker": {
             "line": {
              "color": "#E5ECF6",
              "width": 0.5
             }
            },
            "type": "bar"
           }
          ],
          "barpolar": [
           {
            "marker": {
             "line": {
              "color": "#E5ECF6",
              "width": 0.5
             }
            },
            "type": "barpolar"
           }
          ],
          "carpet": [
           {
            "aaxis": {
             "endlinecolor": "#2a3f5f",
             "gridcolor": "white",
             "linecolor": "white",
             "minorgridcolor": "white",
             "startlinecolor": "#2a3f5f"
            },
            "baxis": {
             "endlinecolor": "#2a3f5f",
             "gridcolor": "white",
             "linecolor": "white",
             "minorgridcolor": "white",
             "startlinecolor": "#2a3f5f"
            },
            "type": "carpet"
           }
          ],
          "choropleth": [
           {
            "colorbar": {
             "outlinewidth": 0,
             "ticks": ""
            },
            "type": "choropleth"
           }
          ],
          "contour": [
           {
            "colorbar": {
             "outlinewidth": 0,
             "ticks": ""
            },
            "colorscale": [
             [
              0,
              "#0d0887"
             ],
             [
              0.1111111111111111,
              "#46039f"
             ],
             [
              0.2222222222222222,
              "#7201a8"
             ],
             [
              0.3333333333333333,
              "#9c179e"
             ],
             [
              0.4444444444444444,
              "#bd3786"
             ],
             [
              0.5555555555555556,
              "#d8576b"
             ],
             [
              0.6666666666666666,
              "#ed7953"
             ],
             [
              0.7777777777777778,
              "#fb9f3a"
             ],
             [
              0.8888888888888888,
              "#fdca26"
             ],
             [
              1,
              "#f0f921"
             ]
            ],
            "type": "contour"
           }
          ],
          "contourcarpet": [
           {
            "colorbar": {
             "outlinewidth": 0,
             "ticks": ""
            },
            "type": "contourcarpet"
           }
          ],
          "heatmap": [
           {
            "colorbar": {
             "outlinewidth": 0,
             "ticks": ""
            },
            "colorscale": [
             [
              0,
              "#0d0887"
             ],
             [
              0.1111111111111111,
              "#46039f"
             ],
             [
              0.2222222222222222,
              "#7201a8"
             ],
             [
              0.3333333333333333,
              "#9c179e"
             ],
             [
              0.4444444444444444,
              "#bd3786"
             ],
             [
              0.5555555555555556,
              "#d8576b"
             ],
             [
              0.6666666666666666,
              "#ed7953"
             ],
             [
              0.7777777777777778,
              "#fb9f3a"
             ],
             [
              0.8888888888888888,
              "#fdca26"
             ],
             [
              1,
              "#f0f921"
             ]
            ],
            "type": "heatmap"
           }
          ],
          "heatmapgl": [
           {
            "colorbar": {
             "outlinewidth": 0,
             "ticks": ""
            },
            "colorscale": [
             [
              0,
              "#0d0887"
             ],
             [
              0.1111111111111111,
              "#46039f"
             ],
             [
              0.2222222222222222,
              "#7201a8"
             ],
             [
              0.3333333333333333,
              "#9c179e"
             ],
             [
              0.4444444444444444,
              "#bd3786"
             ],
             [
              0.5555555555555556,
              "#d8576b"
             ],
             [
              0.6666666666666666,
              "#ed7953"
             ],
             [
              0.7777777777777778,
              "#fb9f3a"
             ],
             [
              0.8888888888888888,
              "#fdca26"
             ],
             [
              1,
              "#f0f921"
             ]
            ],
            "type": "heatmapgl"
           }
          ],
          "histogram": [
           {
            "marker": {
             "colorbar": {
              "outlinewidth": 0,
              "ticks": ""
             }
            },
            "type": "histogram"
           }
          ],
          "histogram2d": [
           {
            "colorbar": {
             "outlinewidth": 0,
             "ticks": ""
            },
            "colorscale": [
             [
              0,
              "#0d0887"
             ],
             [
              0.1111111111111111,
              "#46039f"
             ],
             [
              0.2222222222222222,
              "#7201a8"
             ],
             [
              0.3333333333333333,
              "#9c179e"
             ],
             [
              0.4444444444444444,
              "#bd3786"
             ],
             [
              0.5555555555555556,
              "#d8576b"
             ],
             [
              0.6666666666666666,
              "#ed7953"
             ],
             [
              0.7777777777777778,
              "#fb9f3a"
             ],
             [
              0.8888888888888888,
              "#fdca26"
             ],
             [
              1,
              "#f0f921"
             ]
            ],
            "type": "histogram2d"
           }
          ],
          "histogram2dcontour": [
           {
            "colorbar": {
             "outlinewidth": 0,
             "ticks": ""
            },
            "colorscale": [
             [
              0,
              "#0d0887"
             ],
             [
              0.1111111111111111,
              "#46039f"
             ],
             [
              0.2222222222222222,
              "#7201a8"
             ],
             [
              0.3333333333333333,
              "#9c179e"
             ],
             [
              0.4444444444444444,
              "#bd3786"
             ],
             [
              0.5555555555555556,
              "#d8576b"
             ],
             [
              0.6666666666666666,
              "#ed7953"
             ],
             [
              0.7777777777777778,
              "#fb9f3a"
             ],
             [
              0.8888888888888888,
              "#fdca26"
             ],
             [
              1,
              "#f0f921"
             ]
            ],
            "type": "histogram2dcontour"
           }
          ],
          "mesh3d": [
           {
            "colorbar": {
             "outlinewidth": 0,
             "ticks": ""
            },
            "type": "mesh3d"
           }
          ],
          "parcoords": [
           {
            "line": {
             "colorbar": {
              "outlinewidth": 0,
              "ticks": ""
             }
            },
            "type": "parcoords"
           }
          ],
          "pie": [
           {
            "automargin": true,
            "type": "pie"
           }
          ],
          "scatter": [
           {
            "marker": {
             "colorbar": {
              "outlinewidth": 0,
              "ticks": ""
             }
            },
            "type": "scatter"
           }
          ],
          "scatter3d": [
           {
            "line": {
             "colorbar": {
              "outlinewidth": 0,
              "ticks": ""
             }
            },
            "marker": {
             "colorbar": {
              "outlinewidth": 0,
              "ticks": ""
             }
            },
            "type": "scatter3d"
           }
          ],
          "scattercarpet": [
           {
            "marker": {
             "colorbar": {
              "outlinewidth": 0,
              "ticks": ""
             }
            },
            "type": "scattercarpet"
           }
          ],
          "scattergeo": [
           {
            "marker": {
             "colorbar": {
              "outlinewidth": 0,
              "ticks": ""
             }
            },
            "type": "scattergeo"
           }
          ],
          "scattergl": [
           {
            "marker": {
             "colorbar": {
              "outlinewidth": 0,
              "ticks": ""
             }
            },
            "type": "scattergl"
           }
          ],
          "scattermapbox": [
           {
            "marker": {
             "colorbar": {
              "outlinewidth": 0,
              "ticks": ""
             }
            },
            "type": "scattermapbox"
           }
          ],
          "scatterpolar": [
           {
            "marker": {
             "colorbar": {
              "outlinewidth": 0,
              "ticks": ""
             }
            },
            "type": "scatterpolar"
           }
          ],
          "scatterpolargl": [
           {
            "marker": {
             "colorbar": {
              "outlinewidth": 0,
              "ticks": ""
             }
            },
            "type": "scatterpolargl"
           }
          ],
          "scatterternary": [
           {
            "marker": {
             "colorbar": {
              "outlinewidth": 0,
              "ticks": ""
             }
            },
            "type": "scatterternary"
           }
          ],
          "surface": [
           {
            "colorbar": {
             "outlinewidth": 0,
             "ticks": ""
            },
            "colorscale": [
             [
              0,
              "#0d0887"
             ],
             [
              0.1111111111111111,
              "#46039f"
             ],
             [
              0.2222222222222222,
              "#7201a8"
             ],
             [
              0.3333333333333333,
              "#9c179e"
             ],
             [
              0.4444444444444444,
              "#bd3786"
             ],
             [
              0.5555555555555556,
              "#d8576b"
             ],
             [
              0.6666666666666666,
              "#ed7953"
             ],
             [
              0.7777777777777778,
              "#fb9f3a"
             ],
             [
              0.8888888888888888,
              "#fdca26"
             ],
             [
              1,
              "#f0f921"
             ]
            ],
            "type": "surface"
           }
          ],
          "table": [
           {
            "cells": {
             "fill": {
              "color": "#EBF0F8"
             },
             "line": {
              "color": "white"
             }
            },
            "header": {
             "fill": {
              "color": "#C8D4E3"
             },
             "line": {
              "color": "white"
             }
            },
            "type": "table"
           }
          ]
         },
         "layout": {
          "annotationdefaults": {
           "arrowcolor": "#2a3f5f",
           "arrowhead": 0,
           "arrowwidth": 1
          },
          "autotypenumbers": "strict",
          "coloraxis": {
           "colorbar": {
            "outlinewidth": 0,
            "ticks": ""
           }
          },
          "colorscale": {
           "diverging": [
            [
             0,
             "#8e0152"
            ],
            [
             0.1,
             "#c51b7d"
            ],
            [
             0.2,
             "#de77ae"
            ],
            [
             0.3,
             "#f1b6da"
            ],
            [
             0.4,
             "#fde0ef"
            ],
            [
             0.5,
             "#f7f7f7"
            ],
            [
             0.6,
             "#e6f5d0"
            ],
            [
             0.7,
             "#b8e186"
            ],
            [
             0.8,
             "#7fbc41"
            ],
            [
             0.9,
             "#4d9221"
            ],
            [
             1,
             "#276419"
            ]
           ],
           "sequential": [
            [
             0,
             "#0d0887"
            ],
            [
             0.1111111111111111,
             "#46039f"
            ],
            [
             0.2222222222222222,
             "#7201a8"
            ],
            [
             0.3333333333333333,
             "#9c179e"
            ],
            [
             0.4444444444444444,
             "#bd3786"
            ],
            [
             0.5555555555555556,
             "#d8576b"
            ],
            [
             0.6666666666666666,
             "#ed7953"
            ],
            [
             0.7777777777777778,
             "#fb9f3a"
            ],
            [
             0.8888888888888888,
             "#fdca26"
            ],
            [
             1,
             "#f0f921"
            ]
           ],
           "sequentialminus": [
            [
             0,
             "#0d0887"
            ],
            [
             0.1111111111111111,
             "#46039f"
            ],
            [
             0.2222222222222222,
             "#7201a8"
            ],
            [
             0.3333333333333333,
             "#9c179e"
            ],
            [
             0.4444444444444444,
             "#bd3786"
            ],
            [
             0.5555555555555556,
             "#d8576b"
            ],
            [
             0.6666666666666666,
             "#ed7953"
            ],
            [
             0.7777777777777778,
             "#fb9f3a"
            ],
            [
             0.8888888888888888,
             "#fdca26"
            ],
            [
             1,
             "#f0f921"
            ]
           ]
          },
          "colorway": [
           "#636efa",
           "#EF553B",
           "#00cc96",
           "#ab63fa",
           "#FFA15A",
           "#19d3f3",
           "#FF6692",
           "#B6E880",
           "#FF97FF",
           "#FECB52"
          ],
          "font": {
           "color": "#2a3f5f"
          },
          "geo": {
           "bgcolor": "white",
           "lakecolor": "white",
           "landcolor": "#E5ECF6",
           "showlakes": true,
           "showland": true,
           "subunitcolor": "white"
          },
          "hoverlabel": {
           "align": "left"
          },
          "hovermode": "closest",
          "mapbox": {
           "style": "light"
          },
          "paper_bgcolor": "white",
          "plot_bgcolor": "#E5ECF6",
          "polar": {
           "angularaxis": {
            "gridcolor": "white",
            "linecolor": "white",
            "ticks": ""
           },
           "bgcolor": "#E5ECF6",
           "radialaxis": {
            "gridcolor": "white",
            "linecolor": "white",
            "ticks": ""
           }
          },
          "scene": {
           "xaxis": {
            "backgroundcolor": "#E5ECF6",
            "gridcolor": "white",
            "gridwidth": 2,
            "linecolor": "white",
            "showbackground": true,
            "ticks": "",
            "zerolinecolor": "white"
           },
           "yaxis": {
            "backgroundcolor": "#E5ECF6",
            "gridcolor": "white",
            "gridwidth": 2,
            "linecolor": "white",
            "showbackground": true,
            "ticks": "",
            "zerolinecolor": "white"
           },
           "zaxis": {
            "backgroundcolor": "#E5ECF6",
            "gridcolor": "white",
            "gridwidth": 2,
            "linecolor": "white",
            "showbackground": true,
            "ticks": "",
            "zerolinecolor": "white"
           }
          },
          "shapedefaults": {
           "line": {
            "color": "#2a3f5f"
           }
          },
          "ternary": {
           "aaxis": {
            "gridcolor": "white",
            "linecolor": "white",
            "ticks": ""
           },
           "baxis": {
            "gridcolor": "white",
            "linecolor": "white",
            "ticks": ""
           },
           "bgcolor": "#E5ECF6",
           "caxis": {
            "gridcolor": "white",
            "linecolor": "white",
            "ticks": ""
           }
          },
          "title": {
           "x": 0.05
          },
          "xaxis": {
           "automargin": true,
           "gridcolor": "white",
           "linecolor": "white",
           "ticks": "",
           "title": {
            "standoff": 15
           },
           "zerolinecolor": "white",
           "zerolinewidth": 2
          },
          "yaxis": {
           "automargin": true,
           "gridcolor": "white",
           "linecolor": "white",
           "ticks": "",
           "title": {
            "standoff": 15
           },
           "zerolinecolor": "white",
           "zerolinewidth": 2
          }
         }
        },
        "width": 1800
       }
      }
     },
     "metadata": {}
    }
   ],
   "source": [
    "px.set_mapbox_access_token(mapbox_token)\n",
    "map = px.scatter_mapbox(\n",
    "    atlas_with_totals.reset_index(),\n",
    "    lat=\"Lat\",\n",
    "    lon=\"Long\",\n",
    "    # size=\"Invoice Amount\",\n",
    "    size=\"Invoice Amount\",\n",
    "    color=\"Customers\",\n",
    "    width=1800,\n",
    "    height=900,\n",
    "    zoom=4,\n",
    "    mapbox_style=\"open-street-map\"  # Options: [ \"open-street-map, white-bg, carto-positron, carto-darkmatter, stamen-terrain, stamen-toner, stamen-watercolor\" ]\n",
    ")\n",
    "map.show()\n"
   ]
  },
  {
   "cell_type": "code",
   "execution_count": 18,
   "metadata": {},
   "outputs": [
    {
     "output_type": "display_data",
     "data": {
      "application/vnd.plotly.v1+json": {
       "config": {
        "plotlyServerURL": "https://plot.ly"
       },
       "data": [
        {
         "hovertemplate": "Customers=Alabama A&M University-College of Education<br>Invoice Amount=%{marker.size}<br>Lat=%{lat}<br>Long=%{lon}<extra></extra>",
         "lat": [
          34.785061
         ],
         "legendgroup": "Alabama A&M University-College of Education",
         "lon": [
          -86.57328000000003
         ],
         "marker": {
          "color": "#636efa",
          "size": [
           5460
          ],
          "sizemode": "area",
          "sizeref": 375
         },
         "mode": "markers",
         "name": "Alabama A&M University-College of Education",
         "showlegend": true,
         "subplot": "mapbox",
         "type": "scattermapbox"
        },
        {
         "hovertemplate": "Customers=Auburn University<br>Invoice Amount=%{marker.size}<br>Lat=%{lat}<br>Long=%{lon}<extra></extra>",
         "lat": [
          32.602286,
          32.602286
         ],
         "legendgroup": "Auburn University",
         "lon": [
          -85.486081,
          -85.486081
         ],
         "marker": {
          "color": "#EF553B",
          "size": [
           2827,
           2827
          ],
          "sizemode": "area",
          "sizeref": 375
         },
         "mode": "markers",
         "name": "Auburn University",
         "showlegend": true,
         "subplot": "mapbox",
         "type": "scattermapbox"
        },
        {
         "hovertemplate": "Customers=Birmingham-Southern College<br>Invoice Amount=%{marker.size}<br>Lat=%{lat}<br>Long=%{lon}<extra></extra>",
         "lat": [
          33.516737,
          33.516737,
          33.516737
         ],
         "legendgroup": "Birmingham-Southern College",
         "lon": [
          -86.85171,
          -86.85171,
          -86.85171
         ],
         "marker": {
          "color": "#00cc96",
          "size": [
           3500,
           3500,
           3500
          ],
          "sizemode": "area",
          "sizeref": 375
         },
         "mode": "markers",
         "name": "Birmingham-Southern College",
         "showlegend": true,
         "subplot": "mapbox",
         "type": "scattermapbox"
        },
        {
         "hovertemplate": "Customers=Faulkner University<br>Invoice Amount=%{marker.size}<br>Lat=%{lat}<br>Long=%{lon}<extra></extra>",
         "lat": [
          32.38341
         ],
         "legendgroup": "Faulkner University",
         "lon": [
          -86.216411
         ],
         "marker": {
          "color": "#ab63fa",
          "size": [
           6000
          ],
          "sizemode": "area",
          "sizeref": 375
         },
         "mode": "markers",
         "name": "Faulkner University",
         "showlegend": true,
         "subplot": "mapbox",
         "type": "scattermapbox"
        },
        {
         "hovertemplate": "Customers=Homewood City Schools<br>Invoice Amount=%{marker.size}<br>Lat=%{lat}<br>Long=%{lon}<extra></extra>",
         "lat": [
          33.47746
         ],
         "legendgroup": "Homewood City Schools",
         "lon": [
          -86.80564100000002
         ],
         "marker": {
          "color": "#FFA15A",
          "size": [
           6300
          ],
          "sizemode": "area",
          "sizeref": 375
         },
         "mode": "markers",
         "name": "Homewood City Schools",
         "showlegend": true,
         "subplot": "mapbox",
         "type": "scattermapbox"
        },
        {
         "hovertemplate": "Customers=Troy University<br>Invoice Amount=%{marker.size}<br>Lat=%{lat}<br>Long=%{lon}<extra></extra>",
         "lat": [
          31.8207,
          31.8207,
          31.8207
         ],
         "legendgroup": "Troy University",
         "lon": [
          -85.98306,
          -85.98306,
          -85.98306
         ],
         "marker": {
          "color": "#19d3f3",
          "size": [
           9617.8,
           9617.8,
           9617.8
          ],
          "sizemode": "area",
          "sizeref": 375
         },
         "mode": "markers",
         "name": "Troy University",
         "showlegend": true,
         "subplot": "mapbox",
         "type": "scattermapbox"
        },
        {
         "hovertemplate": "Customers=Tuscaloosa City Schools<br>Invoice Amount=%{marker.size}<br>Lat=%{lat}<br>Long=%{lon}<extra></extra>",
         "lat": [
          33.203634
         ],
         "legendgroup": "Tuscaloosa City Schools",
         "lon": [
          -87.56214399999998
         ],
         "marker": {
          "color": "#FF6692",
          "size": [
           13650
          ],
          "sizemode": "area",
          "sizeref": 375
         },
         "mode": "markers",
         "name": "Tuscaloosa City Schools",
         "showlegend": true,
         "subplot": "mapbox",
         "type": "scattermapbox"
        },
        {
         "hovertemplate": "Customers=UAB Regional In Service Centers<br>Invoice Amount=%{marker.size}<br>Lat=%{lat}<br>Long=%{lon}<extra></extra>",
         "lat": [
          33.498228999999995,
          33.498228999999995
         ],
         "legendgroup": "UAB Regional In Service Centers",
         "lon": [
          -86.8073,
          -86.8073
         ],
         "marker": {
          "color": "#B6E880",
          "size": [
           100000,
           100000
          ],
          "sizemode": "area",
          "sizeref": 375
         },
         "mode": "markers",
         "name": "UAB Regional In Service Centers",
         "showlegend": true,
         "subplot": "mapbox",
         "type": "scattermapbox"
        },
        {
         "hovertemplate": "Customers=University of Alabama<br>Invoice Amount=%{marker.size}<br>Lat=%{lat}<br>Long=%{lon}<extra></extra>",
         "lat": [
          33.533925,
          33.533925,
          33.533925
         ],
         "legendgroup": "University of Alabama",
         "lon": [
          -86.877531,
          -86.877531,
          -86.877531
         ],
         "marker": {
          "color": "#FF97FF",
          "size": [
           150000,
           150000,
           150000
          ],
          "sizemode": "area",
          "sizeref": 375
         },
         "mode": "markers",
         "name": "University of Alabama",
         "showlegend": true,
         "subplot": "mapbox",
         "type": "scattermapbox"
        },
        {
         "hovertemplate": "Customers=University of Montevallo<br>Invoice Amount=%{marker.size}<br>Lat=%{lat}<br>Long=%{lon}<extra></extra>",
         "lat": [
          33.099384,
          33.099384
         ],
         "legendgroup": "University of Montevallo",
         "lon": [
          -86.864512,
          -86.864512
         ],
         "marker": {
          "color": "#FECB52",
          "size": [
           2250,
           2250
          ],
          "sizemode": "area",
          "sizeref": 375
         },
         "mode": "markers",
         "name": "University of Montevallo",
         "showlegend": true,
         "subplot": "mapbox",
         "type": "scattermapbox"
        },
        {
         "hovertemplate": "Customers=University of North Alabama<br>Invoice Amount=%{marker.size}<br>Lat=%{lat}<br>Long=%{lon}<extra></extra>",
         "lat": [
          34.8933,
          34.8933,
          34.8933,
          34.8933,
          34.8933,
          34.8933,
          34.8933
         ],
         "legendgroup": "University of North Alabama",
         "lon": [
          -87.63739,
          -87.63739,
          -87.63739,
          -87.63739,
          -87.63739,
          -87.63739,
          -87.63739
         ],
         "marker": {
          "color": "#636efa",
          "size": [
           7930,
           7930,
           7930,
           7930,
           7930,
           7930,
           7930
          ],
          "sizemode": "area",
          "sizeref": 375
         },
         "mode": "markers",
         "name": "University of North Alabama",
         "showlegend": true,
         "subplot": "mapbox",
         "type": "scattermapbox"
        },
        {
         "hovertemplate": "Customers=University of South Alabama<br>Invoice Amount=%{marker.size}<br>Lat=%{lat}<br>Long=%{lon}<extra></extra>",
         "lat": [
          30.69538
         ],
         "legendgroup": "University of South Alabama",
         "lon": [
          -88.175177
         ],
         "marker": {
          "color": "#EF553B",
          "size": [
           2500
          ],
          "sizemode": "area",
          "sizeref": 375
         },
         "mode": "markers",
         "name": "University of South Alabama",
         "showlegend": true,
         "subplot": "mapbox",
         "type": "scattermapbox"
        },
        {
         "hovertemplate": "Customers=University of West Alabama<br>Invoice Amount=%{marker.size}<br>Lat=%{lat}<br>Long=%{lon}<extra></extra>",
         "lat": [
          32.581327,
          32.581327
         ],
         "legendgroup": "University of West Alabama",
         "lon": [
          -88.18576800000002,
          -88.18576800000002
         ],
         "marker": {
          "color": "#00cc96",
          "size": [
           6362.5,
           6362.5
          ],
          "sizemode": "area",
          "sizeref": 375
         },
         "mode": "markers",
         "name": "University of West Alabama",
         "showlegend": true,
         "subplot": "mapbox",
         "type": "scattermapbox"
        }
       ],
       "layout": {
        "height": 900,
        "legend": {
         "itemsizing": "constant",
         "title": {
          "text": "Customers"
         },
         "tracegroupgap": 0
        },
        "mapbox": {
         "accesstoken": "pk.eyJ1IjoibWlsYWRuYXphciIsImEiOiJja2doYmN1d2swNGtkMnNvMGRhb3RnbmZpIn0.h5puE2zZYJuUHFdI586CDg",
         "center": {
          "lat": 33.412916655172396,
          "lon": -86.98684855172415
         },
         "domain": {
          "x": [
           0,
           1
          ],
          "y": [
           0,
           1
          ]
         },
         "style": "open-street-map",
         "zoom": 4
        },
        "margin": {
         "t": 60
        },
        "template": {
         "data": {
          "bar": [
           {
            "error_x": {
             "color": "#2a3f5f"
            },
            "error_y": {
             "color": "#2a3f5f"
            },
            "marker": {
             "line": {
              "color": "#E5ECF6",
              "width": 0.5
             }
            },
            "type": "bar"
           }
          ],
          "barpolar": [
           {
            "marker": {
             "line": {
              "color": "#E5ECF6",
              "width": 0.5
             }
            },
            "type": "barpolar"
           }
          ],
          "carpet": [
           {
            "aaxis": {
             "endlinecolor": "#2a3f5f",
             "gridcolor": "white",
             "linecolor": "white",
             "minorgridcolor": "white",
             "startlinecolor": "#2a3f5f"
            },
            "baxis": {
             "endlinecolor": "#2a3f5f",
             "gridcolor": "white",
             "linecolor": "white",
             "minorgridcolor": "white",
             "startlinecolor": "#2a3f5f"
            },
            "type": "carpet"
           }
          ],
          "choropleth": [
           {
            "colorbar": {
             "outlinewidth": 0,
             "ticks": ""
            },
            "type": "choropleth"
           }
          ],
          "contour": [
           {
            "colorbar": {
             "outlinewidth": 0,
             "ticks": ""
            },
            "colorscale": [
             [
              0,
              "#0d0887"
             ],
             [
              0.1111111111111111,
              "#46039f"
             ],
             [
              0.2222222222222222,
              "#7201a8"
             ],
             [
              0.3333333333333333,
              "#9c179e"
             ],
             [
              0.4444444444444444,
              "#bd3786"
             ],
             [
              0.5555555555555556,
              "#d8576b"
             ],
             [
              0.6666666666666666,
              "#ed7953"
             ],
             [
              0.7777777777777778,
              "#fb9f3a"
             ],
             [
              0.8888888888888888,
              "#fdca26"
             ],
             [
              1,
              "#f0f921"
             ]
            ],
            "type": "contour"
           }
          ],
          "contourcarpet": [
           {
            "colorbar": {
             "outlinewidth": 0,
             "ticks": ""
            },
            "type": "contourcarpet"
           }
          ],
          "heatmap": [
           {
            "colorbar": {
             "outlinewidth": 0,
             "ticks": ""
            },
            "colorscale": [
             [
              0,
              "#0d0887"
             ],
             [
              0.1111111111111111,
              "#46039f"
             ],
             [
              0.2222222222222222,
              "#7201a8"
             ],
             [
              0.3333333333333333,
              "#9c179e"
             ],
             [
              0.4444444444444444,
              "#bd3786"
             ],
             [
              0.5555555555555556,
              "#d8576b"
             ],
             [
              0.6666666666666666,
              "#ed7953"
             ],
             [
              0.7777777777777778,
              "#fb9f3a"
             ],
             [
              0.8888888888888888,
              "#fdca26"
             ],
             [
              1,
              "#f0f921"
             ]
            ],
            "type": "heatmap"
           }
          ],
          "heatmapgl": [
           {
            "colorbar": {
             "outlinewidth": 0,
             "ticks": ""
            },
            "colorscale": [
             [
              0,
              "#0d0887"
             ],
             [
              0.1111111111111111,
              "#46039f"
             ],
             [
              0.2222222222222222,
              "#7201a8"
             ],
             [
              0.3333333333333333,
              "#9c179e"
             ],
             [
              0.4444444444444444,
              "#bd3786"
             ],
             [
              0.5555555555555556,
              "#d8576b"
             ],
             [
              0.6666666666666666,
              "#ed7953"
             ],
             [
              0.7777777777777778,
              "#fb9f3a"
             ],
             [
              0.8888888888888888,
              "#fdca26"
             ],
             [
              1,
              "#f0f921"
             ]
            ],
            "type": "heatmapgl"
           }
          ],
          "histogram": [
           {
            "marker": {
             "colorbar": {
              "outlinewidth": 0,
              "ticks": ""
             }
            },
            "type": "histogram"
           }
          ],
          "histogram2d": [
           {
            "colorbar": {
             "outlinewidth": 0,
             "ticks": ""
            },
            "colorscale": [
             [
              0,
              "#0d0887"
             ],
             [
              0.1111111111111111,
              "#46039f"
             ],
             [
              0.2222222222222222,
              "#7201a8"
             ],
             [
              0.3333333333333333,
              "#9c179e"
             ],
             [
              0.4444444444444444,
              "#bd3786"
             ],
             [
              0.5555555555555556,
              "#d8576b"
             ],
             [
              0.6666666666666666,
              "#ed7953"
             ],
             [
              0.7777777777777778,
              "#fb9f3a"
             ],
             [
              0.8888888888888888,
              "#fdca26"
             ],
             [
              1,
              "#f0f921"
             ]
            ],
            "type": "histogram2d"
           }
          ],
          "histogram2dcontour": [
           {
            "colorbar": {
             "outlinewidth": 0,
             "ticks": ""
            },
            "colorscale": [
             [
              0,
              "#0d0887"
             ],
             [
              0.1111111111111111,
              "#46039f"
             ],
             [
              0.2222222222222222,
              "#7201a8"
             ],
             [
              0.3333333333333333,
              "#9c179e"
             ],
             [
              0.4444444444444444,
              "#bd3786"
             ],
             [
              0.5555555555555556,
              "#d8576b"
             ],
             [
              0.6666666666666666,
              "#ed7953"
             ],
             [
              0.7777777777777778,
              "#fb9f3a"
             ],
             [
              0.8888888888888888,
              "#fdca26"
             ],
             [
              1,
              "#f0f921"
             ]
            ],
            "type": "histogram2dcontour"
           }
          ],
          "mesh3d": [
           {
            "colorbar": {
             "outlinewidth": 0,
             "ticks": ""
            },
            "type": "mesh3d"
           }
          ],
          "parcoords": [
           {
            "line": {
             "colorbar": {
              "outlinewidth": 0,
              "ticks": ""
             }
            },
            "type": "parcoords"
           }
          ],
          "pie": [
           {
            "automargin": true,
            "type": "pie"
           }
          ],
          "scatter": [
           {
            "marker": {
             "colorbar": {
              "outlinewidth": 0,
              "ticks": ""
             }
            },
            "type": "scatter"
           }
          ],
          "scatter3d": [
           {
            "line": {
             "colorbar": {
              "outlinewidth": 0,
              "ticks": ""
             }
            },
            "marker": {
             "colorbar": {
              "outlinewidth": 0,
              "ticks": ""
             }
            },
            "type": "scatter3d"
           }
          ],
          "scattercarpet": [
           {
            "marker": {
             "colorbar": {
              "outlinewidth": 0,
              "ticks": ""
             }
            },
            "type": "scattercarpet"
           }
          ],
          "scattergeo": [
           {
            "marker": {
             "colorbar": {
              "outlinewidth": 0,
              "ticks": ""
             }
            },
            "type": "scattergeo"
           }
          ],
          "scattergl": [
           {
            "marker": {
             "colorbar": {
              "outlinewidth": 0,
              "ticks": ""
             }
            },
            "type": "scattergl"
           }
          ],
          "scattermapbox": [
           {
            "marker": {
             "colorbar": {
              "outlinewidth": 0,
              "ticks": ""
             }
            },
            "type": "scattermapbox"
           }
          ],
          "scatterpolar": [
           {
            "marker": {
             "colorbar": {
              "outlinewidth": 0,
              "ticks": ""
             }
            },
            "type": "scatterpolar"
           }
          ],
          "scatterpolargl": [
           {
            "marker": {
             "colorbar": {
              "outlinewidth": 0,
              "ticks": ""
             }
            },
            "type": "scatterpolargl"
           }
          ],
          "scatterternary": [
           {
            "marker": {
             "colorbar": {
              "outlinewidth": 0,
              "ticks": ""
             }
            },
            "type": "scatterternary"
           }
          ],
          "surface": [
           {
            "colorbar": {
             "outlinewidth": 0,
             "ticks": ""
            },
            "colorscale": [
             [
              0,
              "#0d0887"
             ],
             [
              0.1111111111111111,
              "#46039f"
             ],
             [
              0.2222222222222222,
              "#7201a8"
             ],
             [
              0.3333333333333333,
              "#9c179e"
             ],
             [
              0.4444444444444444,
              "#bd3786"
             ],
             [
              0.5555555555555556,
              "#d8576b"
             ],
             [
              0.6666666666666666,
              "#ed7953"
             ],
             [
              0.7777777777777778,
              "#fb9f3a"
             ],
             [
              0.8888888888888888,
              "#fdca26"
             ],
             [
              1,
              "#f0f921"
             ]
            ],
            "type": "surface"
           }
          ],
          "table": [
           {
            "cells": {
             "fill": {
              "color": "#EBF0F8"
             },
             "line": {
              "color": "white"
             }
            },
            "header": {
             "fill": {
              "color": "#C8D4E3"
             },
             "line": {
              "color": "white"
             }
            },
            "type": "table"
           }
          ]
         },
         "layout": {
          "annotationdefaults": {
           "arrowcolor": "#2a3f5f",
           "arrowhead": 0,
           "arrowwidth": 1
          },
          "autotypenumbers": "strict",
          "coloraxis": {
           "colorbar": {
            "outlinewidth": 0,
            "ticks": ""
           }
          },
          "colorscale": {
           "diverging": [
            [
             0,
             "#8e0152"
            ],
            [
             0.1,
             "#c51b7d"
            ],
            [
             0.2,
             "#de77ae"
            ],
            [
             0.3,
             "#f1b6da"
            ],
            [
             0.4,
             "#fde0ef"
            ],
            [
             0.5,
             "#f7f7f7"
            ],
            [
             0.6,
             "#e6f5d0"
            ],
            [
             0.7,
             "#b8e186"
            ],
            [
             0.8,
             "#7fbc41"
            ],
            [
             0.9,
             "#4d9221"
            ],
            [
             1,
             "#276419"
            ]
           ],
           "sequential": [
            [
             0,
             "#0d0887"
            ],
            [
             0.1111111111111111,
             "#46039f"
            ],
            [
             0.2222222222222222,
             "#7201a8"
            ],
            [
             0.3333333333333333,
             "#9c179e"
            ],
            [
             0.4444444444444444,
             "#bd3786"
            ],
            [
             0.5555555555555556,
             "#d8576b"
            ],
            [
             0.6666666666666666,
             "#ed7953"
            ],
            [
             0.7777777777777778,
             "#fb9f3a"
            ],
            [
             0.8888888888888888,
             "#fdca26"
            ],
            [
             1,
             "#f0f921"
            ]
           ],
           "sequentialminus": [
            [
             0,
             "#0d0887"
            ],
            [
             0.1111111111111111,
             "#46039f"
            ],
            [
             0.2222222222222222,
             "#7201a8"
            ],
            [
             0.3333333333333333,
             "#9c179e"
            ],
            [
             0.4444444444444444,
             "#bd3786"
            ],
            [
             0.5555555555555556,
             "#d8576b"
            ],
            [
             0.6666666666666666,
             "#ed7953"
            ],
            [
             0.7777777777777778,
             "#fb9f3a"
            ],
            [
             0.8888888888888888,
             "#fdca26"
            ],
            [
             1,
             "#f0f921"
            ]
           ]
          },
          "colorway": [
           "#636efa",
           "#EF553B",
           "#00cc96",
           "#ab63fa",
           "#FFA15A",
           "#19d3f3",
           "#FF6692",
           "#B6E880",
           "#FF97FF",
           "#FECB52"
          ],
          "font": {
           "color": "#2a3f5f"
          },
          "geo": {
           "bgcolor": "white",
           "lakecolor": "white",
           "landcolor": "#E5ECF6",
           "showlakes": true,
           "showland": true,
           "subunitcolor": "white"
          },
          "hoverlabel": {
           "align": "left"
          },
          "hovermode": "closest",
          "mapbox": {
           "style": "light"
          },
          "paper_bgcolor": "white",
          "plot_bgcolor": "#E5ECF6",
          "polar": {
           "angularaxis": {
            "gridcolor": "white",
            "linecolor": "white",
            "ticks": ""
           },
           "bgcolor": "#E5ECF6",
           "radialaxis": {
            "gridcolor": "white",
            "linecolor": "white",
            "ticks": ""
           }
          },
          "scene": {
           "xaxis": {
            "backgroundcolor": "#E5ECF6",
            "gridcolor": "white",
            "gridwidth": 2,
            "linecolor": "white",
            "showbackground": true,
            "ticks": "",
            "zerolinecolor": "white"
           },
           "yaxis": {
            "backgroundcolor": "#E5ECF6",
            "gridcolor": "white",
            "gridwidth": 2,
            "linecolor": "white",
            "showbackground": true,
            "ticks": "",
            "zerolinecolor": "white"
           },
           "zaxis": {
            "backgroundcolor": "#E5ECF6",
            "gridcolor": "white",
            "gridwidth": 2,
            "linecolor": "white",
            "showbackground": true,
            "ticks": "",
            "zerolinecolor": "white"
           }
          },
          "shapedefaults": {
           "line": {
            "color": "#2a3f5f"
           }
          },
          "ternary": {
           "aaxis": {
            "gridcolor": "white",
            "linecolor": "white",
            "ticks": ""
           },
           "baxis": {
            "gridcolor": "white",
            "linecolor": "white",
            "ticks": ""
           },
           "bgcolor": "#E5ECF6",
           "caxis": {
            "gridcolor": "white",
            "linecolor": "white",
            "ticks": ""
           }
          },
          "title": {
           "x": 0.05
          },
          "xaxis": {
           "automargin": true,
           "gridcolor": "white",
           "linecolor": "white",
           "ticks": "",
           "title": {
            "standoff": 15
           },
           "zerolinecolor": "white",
           "zerolinewidth": 2
          },
          "yaxis": {
           "automargin": true,
           "gridcolor": "white",
           "linecolor": "white",
           "ticks": "",
           "title": {
            "standoff": 15
           },
           "zerolinecolor": "white",
           "zerolinewidth": 2
          }
         }
        },
        "width": 1800
       }
      }
     },
     "metadata": {}
    },
    {
     "output_type": "display_data",
     "data": {},
     "metadata": {}
    },
    {
     "output_type": "execute_result",
     "data": {
      "text/html": "<div id='1007'>\n\n\n\n\n\n  <div class=\"bk-root\" id=\"9d490dbd-67f5-42e0-9abd-46ba4ba577be\" data-root-id=\"1007\"></div>\n</div>\n<script type=\"application/javascript\">(function(root) {\n  function embed_document(root) {\n  var docs_json = {\"91745016-5477-4bfb-a3a5-cd3fd4dd47da\":{\"roots\":{\"references\":[{\"attributes\":{\"client_comm_id\":\"21a580b263cc4395a7df52c31286da5a\",\"comm_id\":\"d305e80e4dd54a8ebf79aa28ef2391d1\",\"plot_id\":\"1007\"},\"id\":\"1012\",\"type\":\"panel.models.comm_manager.CommManager\"},{\"attributes\":{\"margin\":[5,5,5,5],\"name\":\"interactive01459\"},\"id\":\"1011\",\"type\":\"panel.models.markup.HTML\"},{\"attributes\":{\"children\":[{\"id\":\"1008\"},{\"id\":\"1010\"}],\"margin\":[0,0,0,0],\"name\":\"Column01460\"},\"id\":\"1007\",\"type\":\"Column\"},{\"attributes\":{\"children\":[{\"id\":\"1009\"}],\"margin\":[0,0,0,0],\"name\":\"Column01465\"},\"id\":\"1008\",\"type\":\"Column\"},{\"attributes\":{\"margin\":[5,10,5,10],\"options\":[\"AL\",\"AK\",\"AZ\",\"AR\",\"CA\",\"CO\",\"CT\",\"DE\",\"FL\",\"GA\",\"HI\",\"ID\",\"IL\",\"IN\",\"IA\",\"KS\",\"KY\",\"LA\",\"ME\",\"MD\",\"MA\",\"MI\",\"MN\",\"MS\",\"MO\",\"MT\",\"NE\",\"NV\",\"NH\",\"NJ\",\"NM\",\"NY\",\"NC\",\"ND\",\"OH\",\"OK\",\"OR\",\"PA\",\"RI\",\"SC\",\"SD\",\"TN\",\"TX\",\"UT\",\"VT\",\"VA\",\"WA\",\"WV\",\"WI\",\"WY\",\"DC\"],\"title\":\"state\",\"value\":\"AL\"},\"id\":\"1009\",\"type\":\"Select\"},{\"attributes\":{\"children\":[{\"id\":\"1011\"}],\"margin\":[0,0,0,0],\"name\":\"Row01464\"},\"id\":\"1010\",\"type\":\"Row\"}],\"root_ids\":[\"1007\",\"1012\"]},\"title\":\"Bokeh Application\",\"version\":\"2.0.2\"}};\n  var render_items = [{\"docid\":\"91745016-5477-4bfb-a3a5-cd3fd4dd47da\",\"root_ids\":[\"1007\"],\"roots\":{\"1007\":\"9d490dbd-67f5-42e0-9abd-46ba4ba577be\"}}];\n  root.Bokeh.embed.embed_items_notebook(docs_json, render_items);\n  }\nif (root.Bokeh !== undefined) {\n    embed_document(root);\n  } else {\n    var attempts = 0;\n    var timer = setInterval(function(root) {\n      if (root.Bokeh !== undefined) {\n        clearInterval(timer);\n        embed_document(root);\n      } else if (document.readyState == \"complete\") {\n        attempts++;\n        if (attempts > 100) {\n          clearInterval(timer);\n          console.log(\"Bokeh: ERROR: Unable to run BokehJS code because BokehJS library is missing\");\n        }\n      }\n    }, 10, root)\n  }\n})(window);</script>",
      "application/vnd.holoviews_exec.v0+json": "",
      "text/plain": "Column\n    [0] Column\n        [0] Select(name='state', options=['AL', 'AK', 'AZ', ...], value='AL')\n    [1] Row\n        [0] Str(None, name='interactive01459')"
     },
     "metadata": {
      "application/vnd.holoviews_exec.v0+json": {
       "id": "1007"
      }
     },
     "execution_count": 18
    }
   ],
   "source": [
    "# Group by year and neighborhood and then create a new dataframe of the mean values\n",
    "atlas_with_totals[\"ServiceStart_Year\"] = atlas_with_totals[\"Service Start\"].apply(lambda x: x.year)\n",
    "atlas_with_totals_grouped = atlas_with_totals.groupby([\"ServiceStart_Year\", \"State\"]).sum()\n",
    "atlas_with_totals_grouped.head(5)\n",
    "\n",
    "def generate_map(state):\n",
    "    data = atlas_with_totals.reset_index().set_index(\"State\").loc[state]\n",
    "    map = px.scatter_mapbox(\n",
    "        data.reset_index(),\n",
    "        lat=\"Lat\",\n",
    "        lon=\"Long\",\n",
    "        size=\"Invoice Amount\",\n",
    "        # size=\"Number of Users\",\n",
    "        color=\"Customers\",\n",
    "        width=1800,\n",
    "        height=900,\n",
    "        zoom=4,\n",
    "        mapbox_style=\"open-street-map\"  # Options: [ \"open-street-map, white-bg, carto-positron, carto-darkmatter, stamen-terrain, stamen-toner, stamen-watercolor\" ]\n",
    "    )\n",
    "    return map.show()\n",
    "\n",
    "interact(generate_map, state=constants.DROP_DOWNS_STATE_ABBREVIATION_LIST)"
   ]
  },
  {
   "cell_type": "code",
   "execution_count": null,
   "metadata": {},
   "outputs": [],
   "source": []
  }
 ],
 "metadata": {
  "kernelspec": {
   "display_name": "pyvizenv",
   "language": "python",
   "name": "pyvizenv"
  },
  "language_info": {
   "codemirror_mode": {
    "name": "ipython",
    "version": 3
   },
   "file_extension": ".py",
   "mimetype": "text/x-python",
   "name": "python",
   "nbconvert_exporter": "python",
   "pygments_lexer": "ipython3",
   "version": "3.8.2-final"
  }
 },
 "nbformat": 4,
 "nbformat_minor": 4
}