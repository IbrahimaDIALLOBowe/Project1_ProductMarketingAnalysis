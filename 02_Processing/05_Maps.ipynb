{
 "cells": [
  {
   "cell_type": "code",
   "execution_count": 3,
   "metadata": {},
   "outputs": [],
   "source": [
    "# System imports\n",
    "import os\n",
    "import pandas as pd\n",
    "import matplotlib.pyplot as plt\n",
    "import plotly.express as px\n",
    "import hvplot.pandas\n",
    "import panel as pn\n",
    "from pathlib import Path\n",
    "from dotenv import load_dotenv\n",
    "from panel.interact import interact\n",
    "from panel import widgets\n",
    "from string import digits\n",
    "import csv\n",
    "import json\n",
    "import numpy as np\n",
    "import dateparser\n",
    "import panel as pn\n",
    "\n",
    "pn.extension()\n",
    "\n",
    "%matplotlib inline\n"
   ]
  },
  {
   "cell_type": "code",
   "execution_count": 4,
   "metadata": {},
   "outputs": [],
   "source": [
    "# Local imports\n",
    "import sys\n",
    "sys.path.append(\"../lib2\")\n",
    "\n",
    "from Constants import Constants\n",
    "from ProcessingTools import DateProcessingTools\n"
   ]
  },
  {
   "cell_type": "code",
   "execution_count": 5,
   "metadata": {},
   "outputs": [],
   "source": [
    "# Construct the tools\n",
    "debug_level = 0\n",
    "constants = Constants()\n",
    "tool_data_processing = DateProcessingTools(debug_level)\n"
   ]
  },
  {
   "cell_type": "code",
   "execution_count": 6,
   "metadata": {},
   "outputs": [],
   "source": [
    "# Import all preprocessed data\n",
    "atlas           = pd.read_pickle(constants.PREPROCESSED_ATLAS_FILE_PATH)\n",
    "forecast        = pd.read_pickle(constants.PREPROCESSED_FORECAST_DATA_FILE_PATH)\n",
    "revenue2020     = pd.read_pickle(constants.PREPROCESSED_REVENUE2020_FILE_PATH)\n",
    "revenue2020A    = pd.read_pickle(constants.PREPROCESSED_REVENUE2020A_FILE_PATH)\n"
   ]
  },
  {
   "cell_type": "code",
   "execution_count": 7,
   "metadata": {},
   "outputs": [],
   "source": [
    "load_dotenv()\n",
    "mapbox_token = os.getenv(\"MAPBOX_API_KEY\")"
   ]
  },
  {
   "cell_type": "code",
   "execution_count": 8,
   "metadata": {},
   "outputs": [
    {
     "output_type": "execute_result",
     "data": {
      "text/plain": [
       "                                                         Invoice Date  \\\n",
       "Customers                                                               \n",
       "Alabama A&M University-College of Education 2018-03-23 00:00:00-04:00   \n",
       "Albertus Magnus College                     2018-05-16 00:00:00-04:00   \n",
       "Albuquerque Public Schools                  2018-11-20 00:00:00-05:00   \n",
       "Alcorn State University                     2017-10-31 00:00:00-04:00   \n",
       "Alderson Broaddus University                2020-10-07 00:00:00-04:00   \n",
       "\n",
       "                                             Invoice # Subscription  \\\n",
       "Customers                                                             \n",
       "Alabama A&M University-College of Education        105      3 Years   \n",
       "Albertus Magnus College                            127      3 Years   \n",
       "Albuquerque Public Schools                         161       1 Year   \n",
       "Alcorn State University                            NaN       1 Year   \n",
       "Alderson Broaddus University                 NB100820K     3 Months   \n",
       "\n",
       "                                                       Account Code   \\\n",
       "Customers                                                              \n",
       "Alabama A&M University-College of Education  4700-0-00-00000-00-0000   \n",
       "Albertus Magnus College                      4700-0-00-00000-00-0000   \n",
       "Albuquerque Public Schools                   4700-0-00-00000-00-0000   \n",
       "Alcorn State University                      4700-0-00-00000-00-0000   \n",
       "Alderson Broaddus University                 4700-0-00-00000-00-0000   \n",
       "\n",
       "                                                                              Address  \\\n",
       "Customers                                                                               \n",
       "Alabama A&M University-College of Education  4900 Meridian St N, Huntsville, AL 35811   \n",
       "Albertus Magnus College                          700 Prospect St, New Haven, CT 06511   \n",
       "Albuquerque Public Schools                         Po Box 25704 Albuquerque, NM 87125   \n",
       "Alcorn State University                                 1000 Asu Dr, Lorman, MS 39096   \n",
       "Alderson Broaddus University                  101 College Hill Rd, Philippi, WV 26416   \n",
       "\n",
       "                                            State        Lat        Long  \\\n",
       "Customers                                                                  \n",
       "Alabama A&M University-College of Education    AL  34.785061  -86.573280   \n",
       "Albertus Magnus College                        CT  41.331299  -72.921440   \n",
       "Albuquerque Public Schools                     NM  35.092410 -106.642950   \n",
       "Alcorn State University                        MS  31.875710  -91.141739   \n",
       "Alderson Broaddus University                   WV  39.160261  -80.049048   \n",
       "\n",
       "                                                        Service Start  \\\n",
       "Customers                                                               \n",
       "Alabama A&M University-College of Education 2018-03-21 00:00:00-04:00   \n",
       "Albertus Magnus College                     2018-09-01 00:00:00-04:00   \n",
       "Albuquerque Public Schools                  2018-11-19 00:00:00-05:00   \n",
       "Alcorn State University                     2017-08-31 00:00:00-04:00   \n",
       "Alderson Broaddus University                2020-10-02 00:00:00-04:00   \n",
       "\n",
       "                                                          Service End  \\\n",
       "Customers                                                               \n",
       "Alabama A&M University-College of Education 2021-03-31 00:00:00-04:00   \n",
       "Albertus Magnus College                     2021-08-31 00:00:00-04:00   \n",
       "Albuquerque Public Schools                  2019-11-30 00:00:00-05:00   \n",
       "Alcorn State University                     2018-08-31 00:00:00-04:00   \n",
       "Alderson Broaddus University                2020-12-31 00:00:00-05:00   \n",
       "\n",
       "                                            Subscription Duration  \\\n",
       "Customers                                                           \n",
       "Alabama A&M University-College of Education             1095 days   \n",
       "Albertus Magnus College                                 1095 days   \n",
       "Albuquerque Public Schools                               365 days   \n",
       "Alcorn State University                                  365 days   \n",
       "Alderson Broaddus University                              90 days   \n",
       "\n",
       "                                             Number of Users  Invoice Amount  \n",
       "Customers                                                                     \n",
       "Alabama A&M University-College of Education              0.0          5460.0  \n",
       "Albertus Magnus College                                  0.0          5670.0  \n",
       "Albuquerque Public Schools                               0.0          2270.0  \n",
       "Alcorn State University                                  0.0          1700.0  \n",
       "Alderson Broaddus University                            50.0           500.0  "
      ],
      "text/html": "<div>\n<style scoped>\n    .dataframe tbody tr th:only-of-type {\n        vertical-align: middle;\n    }\n\n    .dataframe tbody tr th {\n        vertical-align: top;\n    }\n\n    .dataframe thead th {\n        text-align: right;\n    }\n</style>\n<table border=\"1\" class=\"dataframe\">\n  <thead>\n    <tr style=\"text-align: right;\">\n      <th></th>\n      <th>Invoice Date</th>\n      <th>Invoice #</th>\n      <th>Subscription</th>\n      <th>Account Code</th>\n      <th>Address</th>\n      <th>State</th>\n      <th>Lat</th>\n      <th>Long</th>\n      <th>Service Start</th>\n      <th>Service End</th>\n      <th>Subscription Duration</th>\n      <th>Number of Users</th>\n      <th>Invoice Amount</th>\n    </tr>\n    <tr>\n      <th>Customers</th>\n      <th></th>\n      <th></th>\n      <th></th>\n      <th></th>\n      <th></th>\n      <th></th>\n      <th></th>\n      <th></th>\n      <th></th>\n      <th></th>\n      <th></th>\n      <th></th>\n      <th></th>\n    </tr>\n  </thead>\n  <tbody>\n    <tr>\n      <th>Alabama A&amp;M University-College of Education</th>\n      <td>2018-03-23 00:00:00-04:00</td>\n      <td>105</td>\n      <td>3 Years</td>\n      <td>4700-0-00-00000-00-0000</td>\n      <td>4900 Meridian St N, Huntsville, AL 35811</td>\n      <td>AL</td>\n      <td>34.785061</td>\n      <td>-86.573280</td>\n      <td>2018-03-21 00:00:00-04:00</td>\n      <td>2021-03-31 00:00:00-04:00</td>\n      <td>1095 days</td>\n      <td>0.0</td>\n      <td>5460.0</td>\n    </tr>\n    <tr>\n      <th>Albertus Magnus College</th>\n      <td>2018-05-16 00:00:00-04:00</td>\n      <td>127</td>\n      <td>3 Years</td>\n      <td>4700-0-00-00000-00-0000</td>\n      <td>700 Prospect St, New Haven, CT 06511</td>\n      <td>CT</td>\n      <td>41.331299</td>\n      <td>-72.921440</td>\n      <td>2018-09-01 00:00:00-04:00</td>\n      <td>2021-08-31 00:00:00-04:00</td>\n      <td>1095 days</td>\n      <td>0.0</td>\n      <td>5670.0</td>\n    </tr>\n    <tr>\n      <th>Albuquerque Public Schools</th>\n      <td>2018-11-20 00:00:00-05:00</td>\n      <td>161</td>\n      <td>1 Year</td>\n      <td>4700-0-00-00000-00-0000</td>\n      <td>Po Box 25704 Albuquerque, NM 87125</td>\n      <td>NM</td>\n      <td>35.092410</td>\n      <td>-106.642950</td>\n      <td>2018-11-19 00:00:00-05:00</td>\n      <td>2019-11-30 00:00:00-05:00</td>\n      <td>365 days</td>\n      <td>0.0</td>\n      <td>2270.0</td>\n    </tr>\n    <tr>\n      <th>Alcorn State University</th>\n      <td>2017-10-31 00:00:00-04:00</td>\n      <td>NaN</td>\n      <td>1 Year</td>\n      <td>4700-0-00-00000-00-0000</td>\n      <td>1000 Asu Dr, Lorman, MS 39096</td>\n      <td>MS</td>\n      <td>31.875710</td>\n      <td>-91.141739</td>\n      <td>2017-08-31 00:00:00-04:00</td>\n      <td>2018-08-31 00:00:00-04:00</td>\n      <td>365 days</td>\n      <td>0.0</td>\n      <td>1700.0</td>\n    </tr>\n    <tr>\n      <th>Alderson Broaddus University</th>\n      <td>2020-10-07 00:00:00-04:00</td>\n      <td>NB100820K</td>\n      <td>3 Months</td>\n      <td>4700-0-00-00000-00-0000</td>\n      <td>101 College Hill Rd, Philippi, WV 26416</td>\n      <td>WV</td>\n      <td>39.160261</td>\n      <td>-80.049048</td>\n      <td>2020-10-02 00:00:00-04:00</td>\n      <td>2020-12-31 00:00:00-05:00</td>\n      <td>90 days</td>\n      <td>50.0</td>\n      <td>500.0</td>\n    </tr>\n  </tbody>\n</table>\n</div>"
     },
     "metadata": {},
     "execution_count": 8
    }
   ],
   "source": [
    "# Calculate the mean values for each neighborhood\n",
    "#rankings_pd.rename(columns = {'test':'TEST', 'odi':'ODI', \n",
    "#                              't20':'T20'}, inplace = True) \n",
    "\n",
    "#atlas2.columns = [\"Customers\", \"Lat\", \"Long\"]\n",
    "\n",
    "total_data = atlas.loc[:, [\"Number of Users\", \"Invoice Amount\"]].groupby([\"Customers\"]).sum()\n",
    "# total_data.dropna(inplace=True)\n",
    "total_data\n",
    "\n",
    "atlas_with_totals = pd.concat([atlas.drop(columns=[\"Number of Users\", \"Invoice Amount\"]), total_data], axis=\"columns\", join=\"inner\")\n",
    "atlas_with_totals.head(5)\n"
   ]
  },
  {
   "cell_type": "code",
   "execution_count": null,
   "metadata": {},
   "outputs": [],
   "source": []
  },
  {
   "cell_type": "code",
   "execution_count": null,
   "metadata": {},
   "outputs": [],
   "source": []
  },
  {
   "cell_type": "code",
   "execution_count": null,
   "metadata": {},
   "outputs": [],
   "source": []
  },
  {
   "cell_type": "code",
   "execution_count": 9,
   "metadata": {},
   "outputs": [
    {
     "output_type": "display_data",
     "data": {
      "application/vnd.plotly.v1+json": {
       "config": {
        "plotlyServerURL": "https://plot.ly"
       },
       "data": [
        {
         "hovertemplate": "Customers=Alabama A&M University-College of Education<br>Number of Users=%{marker.size}<br>Lat=%{lat}<br>Long=%{lon}<extra></extra>",
         "lat": [
          34.785061
         ],
         "legendgroup": "Alabama A&M University-College of Education",
         "lon": [
          -86.57328000000003
         ],
         "marker": {
          "color": "#636efa",
          "size": [
           0
          ],
          "sizemode": "area",
          "sizeref": 37.625
         },
         "mode": "markers",
         "name": "Alabama A&M University-College of Education",
         "showlegend": true,
         "subplot": "mapbox",
         "type": "scattermapbox"
        },
        {
         "hovertemplate": "Customers=Albertus Magnus College<br>Number of Users=%{marker.size}<br>Lat=%{lat}<br>Long=%{lon}<extra></extra>",
         "lat": [
          41.331299
         ],
         "legendgroup": "Albertus Magnus College",
         "lon": [
          -72.92144
         ],
         "marker": {
          "color": "#EF553B",
          "size": [
           0
          ],
          "sizemode": "area",
          "sizeref": 37.625
         },
         "mode": "markers",
         "name": "Albertus Magnus College",
         "showlegend": true,
         "subplot": "mapbox",
         "type": "scattermapbox"
        },
        {
         "hovertemplate": "Customers=Albuquerque Public Schools<br>Number of Users=%{marker.size}<br>Lat=%{lat}<br>Long=%{lon}<extra></extra>",
         "lat": [
          35.09241
         ],
         "legendgroup": "Albuquerque Public Schools",
         "lon": [
          -106.64295
         ],
         "marker": {
          "color": "#00cc96",
          "size": [
           0
          ],
          "sizemode": "area",
          "sizeref": 37.625
         },
         "mode": "markers",
         "name": "Albuquerque Public Schools",
         "showlegend": true,
         "subplot": "mapbox",
         "type": "scattermapbox"
        },
        {
         "hovertemplate": "Customers=Alcorn State University<br>Number of Users=%{marker.size}<br>Lat=%{lat}<br>Long=%{lon}<extra></extra>",
         "lat": [
          31.87571
         ],
         "legendgroup": "Alcorn State University",
         "lon": [
          -91.141739
         ],
         "marker": {
          "color": "#ab63fa",
          "size": [
           0
          ],
          "sizemode": "area",
          "sizeref": 37.625
         },
         "mode": "markers",
         "name": "Alcorn State University",
         "showlegend": true,
         "subplot": "mapbox",
         "type": "scattermapbox"
        },
        {
         "hovertemplate": "Customers=Alderson Broaddus University<br>Number of Users=%{marker.size}<br>Lat=%{lat}<br>Long=%{lon}<extra></extra>",
         "lat": [
          39.160261
         ],
         "legendgroup": "Alderson Broaddus University",
         "lon": [
          -80.049048
         ],
         "marker": {
          "color": "#FFA15A",
          "size": [
           50
          ],
          "sizemode": "area",
          "sizeref": 37.625
         },
         "mode": "markers",
         "name": "Alderson Broaddus University",
         "showlegend": true,
         "subplot": "mapbox",
         "type": "scattermapbox"
        },
        {
         "hovertemplate": "Customers=Alverno College<br>Number of Users=%{marker.size}<br>Lat=%{lat}<br>Long=%{lon}<extra></extra>",
         "lat": [
          42.983074
         ],
         "legendgroup": "Alverno College",
         "lon": [
          -87.967247
         ],
         "marker": {
          "color": "#19d3f3",
          "size": [
           125
          ],
          "sizemode": "area",
          "sizeref": 37.625
         },
         "mode": "markers",
         "name": "Alverno College",
         "showlegend": true,
         "subplot": "mapbox",
         "type": "scattermapbox"
        },
        {
         "hovertemplate": "Customers=American College of Education<br>Number of Users=%{marker.size}<br>Lat=%{lat}<br>Long=%{lon}<extra></extra>",
         "lat": [
          39.769704
         ],
         "legendgroup": "American College of Education",
         "lon": [
          -86.16018000000003
         ],
         "marker": {
          "color": "#FF6692",
          "size": [
           0
          ],
          "sizemode": "area",
          "sizeref": 37.625
         },
         "mode": "markers",
         "name": "American College of Education",
         "showlegend": true,
         "subplot": "mapbox",
         "type": "scattermapbox"
        },
        {
         "hovertemplate": "Customers=American University<br>Number of Users=%{marker.size}<br>Lat=%{lat}<br>Long=%{lon}<extra></extra>",
         "lat": [
          38.93739,
          38.93739
         ],
         "legendgroup": "American University",
         "lon": [
          -77.0892,
          -77.0892
         ],
         "marker": {
          "color": "#B6E880",
          "size": [
           0,
           0
          ],
          "sizemode": "area",
          "sizeref": 37.625
         },
         "mode": "markers",
         "name": "American University",
         "showlegend": true,
         "subplot": "mapbox",
         "type": "scattermapbox"
        },
        {
         "hovertemplate": "Customers=Anderson University<br>Number of Users=%{marker.size}<br>Lat=%{lat}<br>Long=%{lon}<extra></extra>",
         "lat": [
          34.513986
         ],
         "legendgroup": "Anderson University",
         "lon": [
          -82.63873199999998
         ],
         "marker": {
          "color": "#FF97FF",
          "size": [
           170
          ],
          "sizemode": "area",
          "sizeref": 37.625
         },
         "mode": "markers",
         "name": "Anderson University",
         "showlegend": true,
         "subplot": "mapbox",
         "type": "scattermapbox"
        },
        {
         "hovertemplate": "Customers=Appalachian State University<br>Number of Users=%{marker.size}<br>Lat=%{lat}<br>Long=%{lon}<extra></extra>",
         "lat": [
          36.211015,
          36.211015
         ],
         "legendgroup": "Appalachian State University",
         "lon": [
          -81.6777,
          -81.6777
         ],
         "marker": {
          "color": "#FECB52",
          "size": [
           420,
           420
          ],
          "sizemode": "area",
          "sizeref": 37.625
         },
         "mode": "markers",
         "name": "Appalachian State University",
         "showlegend": true,
         "subplot": "mapbox",
         "type": "scattermapbox"
        },
        {
         "hovertemplate": "Customers=Aquinas College<br>Number of Users=%{marker.size}<br>Lat=%{lat}<br>Long=%{lon}<extra></extra>",
         "lat": [
          36.132562
         ],
         "legendgroup": "Aquinas College",
         "lon": [
          -86.84268399999998
         ],
         "marker": {
          "color": "#636efa",
          "size": [
           25
          ],
          "sizemode": "area",
          "sizeref": 37.625
         },
         "mode": "markers",
         "name": "Aquinas College",
         "showlegend": true,
         "subplot": "mapbox",
         "type": "scattermapbox"
        },
        {
         "hovertemplate": "Customers=Arcadia University<br>Number of Users=%{marker.size}<br>Lat=%{lat}<br>Long=%{lon}<extra></extra>",
         "lat": [
          40.091913
         ],
         "legendgroup": "Arcadia University",
         "lon": [
          -75.16529399999997
         ],
         "marker": {
          "color": "#EF553B",
          "size": [
           30
          ],
          "sizemode": "area",
          "sizeref": 37.625
         },
         "mode": "markers",
         "name": "Arcadia University",
         "showlegend": true,
         "subplot": "mapbox",
         "type": "scattermapbox"
        },
        {
         "hovertemplate": "Customers=Arkansas Northeastern College<br>Number of Users=%{marker.size}<br>Lat=%{lat}<br>Long=%{lon}<extra></extra>",
         "lat": [
          35.898621
         ],
         "legendgroup": "Arkansas Northeastern College",
         "lon": [
          -89.920963
         ],
         "marker": {
          "color": "#00cc96",
          "size": [
           20
          ],
          "sizemode": "area",
          "sizeref": 37.625
         },
         "mode": "markers",
         "name": "Arkansas Northeastern College",
         "showlegend": true,
         "subplot": "mapbox",
         "type": "scattermapbox"
        },
        {
         "hovertemplate": "Customers=Arlington Public Schools<br>Number of Users=%{marker.size}<br>Lat=%{lat}<br>Long=%{lon}<extra></extra>",
         "lat": [
          38.873463
         ],
         "legendgroup": "Arlington Public Schools",
         "lon": [
          -77.083371
         ],
         "marker": {
          "color": "#ab63fa",
          "size": [
           25
          ],
          "sizemode": "area",
          "sizeref": 37.625
         },
         "mode": "markers",
         "name": "Arlington Public Schools",
         "showlegend": true,
         "subplot": "mapbox",
         "type": "scattermapbox"
        },
        {
         "hovertemplate": "Customers=Armstrong State University<br>Number of Users=%{marker.size}<br>Lat=%{lat}<br>Long=%{lon}<extra></extra>",
         "lat": [
          31.978808,
          31.978808,
          31.978808
         ],
         "legendgroup": "Armstrong State University",
         "lon": [
          -81.16297800000002,
          -81.16297800000002,
          -81.16297800000002
         ],
         "marker": {
          "color": "#FFA15A",
          "size": [
           750,
           750,
           750
          ],
          "sizemode": "area",
          "sizeref": 37.625
         },
         "mode": "markers",
         "name": "Armstrong State University",
         "showlegend": true,
         "subplot": "mapbox",
         "type": "scattermapbox"
        },
        {
         "hovertemplate": "Customers=Auburn University<br>Number of Users=%{marker.size}<br>Lat=%{lat}<br>Long=%{lon}<extra></extra>",
         "lat": [
          32.602286,
          32.602286
         ],
         "legendgroup": "Auburn University",
         "lon": [
          -85.486081,
          -85.486081
         ],
         "marker": {
          "color": "#19d3f3",
          "size": [
           135,
           135
          ],
          "sizemode": "area",
          "sizeref": 37.625
         },
         "mode": "markers",
         "name": "Auburn University",
         "showlegend": true,
         "subplot": "mapbox",
         "type": "scattermapbox"
        },
        {
         "hovertemplate": "Customers=Augusta University<br>Number of Users=%{marker.size}<br>Lat=%{lat}<br>Long=%{lon}<extra></extra>",
         "lat": [
          33.470787,
          33.470787,
          33.470787,
          33.470787,
          33.470787,
          33.470787,
          33.470787
         ],
         "legendgroup": "Augusta University",
         "lon": [
          -81.98959,
          -81.98959,
          -81.98959,
          -81.98959,
          -81.98959,
          -81.98959,
          -81.98959
         ],
         "marker": {
          "color": "#FF6692",
          "size": [
           675,
           675,
           675,
           675,
           675,
           675,
           675
          ],
          "sizemode": "area",
          "sizeref": 37.625
         },
         "mode": "markers",
         "name": "Augusta University",
         "showlegend": true,
         "subplot": "mapbox",
         "type": "scattermapbox"
        },
        {
         "hovertemplate": "Customers=Augustana College<br>Number of Users=%{marker.size}<br>Lat=%{lat}<br>Long=%{lon}<extra></extra>",
         "lat": [
          33.470787
         ],
         "legendgroup": "Augustana College",
         "lon": [
          -81.98959
         ],
         "marker": {
          "color": "#B6E880",
          "size": [
           85
          ],
          "sizemode": "area",
          "sizeref": 37.625
         },
         "mode": "markers",
         "name": "Augustana College",
         "showlegend": true,
         "subplot": "mapbox",
         "type": "scattermapbox"
        },
        {
         "hovertemplate": "Customers=Austin Peay State University<br>Number of Users=%{marker.size}<br>Lat=%{lat}<br>Long=%{lon}<extra></extra>",
         "lat": [
          36.53188,
          36.53188,
          36.53188,
          36.53188
         ],
         "legendgroup": "Austin Peay State University",
         "lon": [
          -87.35472,
          -87.35472,
          -87.35472,
          -87.35472
         ],
         "marker": {
          "color": "#FF97FF",
          "size": [
           950,
           950,
           950,
           950
          ],
          "sizemode": "area",
          "sizeref": 37.625
         },
         "mode": "markers",
         "name": "Austin Peay State University",
         "showlegend": true,
         "subplot": "mapbox",
         "type": "scattermapbox"
        },
        {
         "hovertemplate": "Customers=Bainbridge Island School District<br>Number of Users=%{marker.size}<br>Lat=%{lat}<br>Long=%{lon}<extra></extra>",
         "lat": [
          47.638782
         ],
         "legendgroup": "Bainbridge Island School District",
         "lon": [
          -122.521704
         ],
         "marker": {
          "color": "#FECB52",
          "size": [
           0
          ],
          "sizemode": "area",
          "sizeref": 37.625
         },
         "mode": "markers",
         "name": "Bainbridge Island School District",
         "showlegend": true,
         "subplot": "mapbox",
         "type": "scattermapbox"
        },
        {
         "hovertemplate": "Customers=Ball State University<br>Number of Users=%{marker.size}<br>Lat=%{lat}<br>Long=%{lon}<extra></extra>",
         "lat": [
          40.208682
         ],
         "legendgroup": "Ball State University",
         "lon": [
          -85.408472
         ],
         "marker": {
          "color": "#636efa",
          "size": [
           1150
          ],
          "sizemode": "area",
          "sizeref": 37.625
         },
         "mode": "markers",
         "name": "Ball State University",
         "showlegend": true,
         "subplot": "mapbox",
         "type": "scattermapbox"
        },
        {
         "hovertemplate": "Customers=Bard College<br>Number of Users=%{marker.size}<br>Lat=%{lat}<br>Long=%{lon}<extra></extra>",
         "lat": [
          42.024516
         ],
         "legendgroup": "Bard College",
         "lon": [
          -73.903544
         ],
         "marker": {
          "color": "#EF553B",
          "size": [
           25
          ],
          "sizemode": "area",
          "sizeref": 37.625
         },
         "mode": "markers",
         "name": "Bard College",
         "showlegend": true,
         "subplot": "mapbox",
         "type": "scattermapbox"
        },
        {
         "hovertemplate": "Customers=Barton College<br>Number of Users=%{marker.size}<br>Lat=%{lat}<br>Long=%{lon}<extra></extra>",
         "lat": [
          35.736373
         ],
         "legendgroup": "Barton College",
         "lon": [
          -77.913347
         ],
         "marker": {
          "color": "#00cc96",
          "size": [
           80
          ],
          "sizemode": "area",
          "sizeref": 37.625
         },
         "mode": "markers",
         "name": "Barton College",
         "showlegend": true,
         "subplot": "mapbox",
         "type": "scattermapbox"
        },
        {
         "hovertemplate": "Customers=Belhaven University<br>Number of Users=%{marker.size}<br>Lat=%{lat}<br>Long=%{lon}<extra></extra>",
         "lat": [
          32.318452
         ],
         "legendgroup": "Belhaven University",
         "lon": [
          -90.169203
         ],
         "marker": {
          "color": "#ab63fa",
          "size": [
           115
          ],
          "sizemode": "area",
          "sizeref": 37.625
         },
         "mode": "markers",
         "name": "Belhaven University",
         "showlegend": true,
         "subplot": "mapbox",
         "type": "scattermapbox"
        },
        {
         "hovertemplate": "Customers=Bellarmine University<br>Number of Users=%{marker.size}<br>Lat=%{lat}<br>Long=%{lon}<extra></extra>",
         "lat": [
          38.218713,
          38.218713,
          38.218713
         ],
         "legendgroup": "Bellarmine University",
         "lon": [
          -85.705324,
          -85.705324,
          -85.705324
         ],
         "marker": {
          "color": "#FFA15A",
          "size": [
           220,
           220,
           220
          ],
          "sizemode": "area",
          "sizeref": 37.625
         },
         "mode": "markers",
         "name": "Bellarmine University",
         "showlegend": true,
         "subplot": "mapbox",
         "type": "scattermapbox"
        },
        {
         "hovertemplate": "Customers=Berea College<br>Number of Users=%{marker.size}<br>Lat=%{lat}<br>Long=%{lon}<extra></extra>",
         "lat": [
          37.646278
         ],
         "legendgroup": "Berea College",
         "lon": [
          -84.271598
         ],
         "marker": {
          "color": "#19d3f3",
          "size": [
           110
          ],
          "sizemode": "area",
          "sizeref": 37.625
         },
         "mode": "markers",
         "name": "Berea College",
         "showlegend": true,
         "subplot": "mapbox",
         "type": "scattermapbox"
        },
        {
         "hovertemplate": "Customers=Berry College<br>Number of Users=%{marker.size}<br>Lat=%{lat}<br>Long=%{lon}<extra></extra>",
         "lat": [
          34.291869
         ],
         "legendgroup": "Berry College",
         "lon": [
          -85.179874
         ],
         "marker": {
          "color": "#FF6692",
          "size": [
           15
          ],
          "sizemode": "area",
          "sizeref": 37.625
         },
         "mode": "markers",
         "name": "Berry College",
         "showlegend": true,
         "subplot": "mapbox",
         "type": "scattermapbox"
        },
        {
         "hovertemplate": "Customers=Billings Senior High School<br>Number of Users=%{marker.size}<br>Lat=%{lat}<br>Long=%{lon}<extra></extra>",
         "lat": [
          45.78457,
          45.78457
         ],
         "legendgroup": "Billings Senior High School",
         "lon": [
          -108.526828,
          -108.526828
         ],
         "marker": {
          "color": "#B6E880",
          "size": [
           170,
           170
          ],
          "sizemode": "area",
          "sizeref": 37.625
         },
         "mode": "markers",
         "name": "Billings Senior High School",
         "showlegend": true,
         "subplot": "mapbox",
         "type": "scattermapbox"
        },
        {
         "hovertemplate": "Customers=Birmingham-Southern College<br>Number of Users=%{marker.size}<br>Lat=%{lat}<br>Long=%{lon}<extra></extra>",
         "lat": [
          33.516737,
          33.516737,
          33.516737
         ],
         "legendgroup": "Birmingham-Southern College",
         "lon": [
          -86.85171,
          -86.85171,
          -86.85171
         ],
         "marker": {
          "color": "#FF97FF",
          "size": [
           100,
           100,
           100
          ],
          "sizemode": "area",
          "sizeref": 37.625
         },
         "mode": "markers",
         "name": "Birmingham-Southern College",
         "showlegend": true,
         "subplot": "mapbox",
         "type": "scattermapbox"
        },
        {
         "hovertemplate": "Customers=BloomBoard, Inc.<br>Number of Users=%{marker.size}<br>Lat=%{lat}<br>Long=%{lon}<extra></extra>",
         "lat": [
          37.44416,
          37.44416,
          37.44416
         ],
         "legendgroup": "BloomBoard, Inc.",
         "lon": [
          -122.163743,
          -122.163743,
          -122.163743
         ],
         "marker": {
          "color": "#FECB52",
          "size": [
           104,
           104,
           104
          ],
          "sizemode": "area",
          "sizeref": 37.625
         },
         "mode": "markers",
         "name": "BloomBoard, Inc.",
         "showlegend": true,
         "subplot": "mapbox",
         "type": "scattermapbox"
        },
        {
         "hovertemplate": "Customers=Bowling Green Independent Schools<br>Number of Users=%{marker.size}<br>Lat=%{lat}<br>Long=%{lon}<extra></extra>",
         "lat": [
          36.992329,
          36.992329
         ],
         "legendgroup": "Bowling Green Independent Schools",
         "lon": [
          -86.447825,
          -86.447825
         ],
         "marker": {
          "color": "#636efa",
          "size": [
           20,
           20
          ],
          "sizemode": "area",
          "sizeref": 37.625
         },
         "mode": "markers",
         "name": "Bowling Green Independent Schools",
         "showlegend": true,
         "subplot": "mapbox",
         "type": "scattermapbox"
        },
        {
         "hovertemplate": "Customers=Bowling Green State University<br>Number of Users=%{marker.size}<br>Lat=%{lat}<br>Long=%{lon}<extra></extra>",
         "lat": [
          41.379729
         ],
         "legendgroup": "Bowling Green State University",
         "lon": [
          -83.622879
         ],
         "marker": {
          "color": "#EF553B",
          "size": [
           358
          ],
          "sizemode": "area",
          "sizeref": 37.625
         },
         "mode": "markers",
         "name": "Bowling Green State University",
         "showlegend": true,
         "subplot": "mapbox",
         "type": "scattermapbox"
        },
        {
         "hovertemplate": "Customers=Bradley University<br>Number of Users=%{marker.size}<br>Lat=%{lat}<br>Long=%{lon}<extra></extra>",
         "lat": [
          40.696765
         ],
         "legendgroup": "Bradley University",
         "lon": [
          -89.615822
         ],
         "marker": {
          "color": "#00cc96",
          "size": [
           75
          ],
          "sizemode": "area",
          "sizeref": 37.625
         },
         "mode": "markers",
         "name": "Bradley University",
         "showlegend": true,
         "subplot": "mapbox",
         "type": "scattermapbox"
        },
        {
         "hovertemplate": "Customers=Brandeis University<br>Number of Users=%{marker.size}<br>Lat=%{lat}<br>Long=%{lon}<extra></extra>",
         "lat": [
          42.366533
         ],
         "legendgroup": "Brandeis University",
         "lon": [
          -71.258093
         ],
         "marker": {
          "color": "#ab63fa",
          "size": [
           50
          ],
          "sizemode": "area",
          "sizeref": 37.625
         },
         "mode": "markers",
         "name": "Brandeis University",
         "showlegend": true,
         "subplot": "mapbox",
         "type": "scattermapbox"
        },
        {
         "hovertemplate": "Customers=Brenau University<br>Number of Users=%{marker.size}<br>Lat=%{lat}<br>Long=%{lon}<extra></extra>",
         "lat": [
          34.30189,
          34.30189
         ],
         "legendgroup": "Brenau University",
         "lon": [
          -83.822057,
          -83.822057
         ],
         "marker": {
          "color": "#FFA15A",
          "size": [
           700,
           700
          ],
          "sizemode": "area",
          "sizeref": 37.625
         },
         "mode": "markers",
         "name": "Brenau University",
         "showlegend": true,
         "subplot": "mapbox",
         "type": "scattermapbox"
        },
        {
         "hovertemplate": "Customers=Bridgewater College<br>Number of Users=%{marker.size}<br>Lat=%{lat}<br>Long=%{lon}<extra></extra>",
         "lat": [
          38.378931
         ],
         "legendgroup": "Bridgewater College",
         "lon": [
          -78.970686
         ],
         "marker": {
          "color": "#19d3f3",
          "size": [
           110
          ],
          "sizemode": "area",
          "sizeref": 37.625
         },
         "mode": "markers",
         "name": "Bridgewater College",
         "showlegend": true,
         "subplot": "mapbox",
         "type": "scattermapbox"
        },
        {
         "hovertemplate": "Customers=Brigham Young University – Hawaii<br>Number of Users=%{marker.size}<br>Lat=%{lat}<br>Long=%{lon}<extra></extra>",
         "lat": [
          21.650377
         ],
         "legendgroup": "Brigham Young University – Hawaii",
         "lon": [
          -157.924912
         ],
         "marker": {
          "color": "#FF6692",
          "size": [
           150
          ],
          "sizemode": "area",
          "sizeref": 37.625
         },
         "mode": "markers",
         "name": "Brigham Young University – Hawaii",
         "showlegend": true,
         "subplot": "mapbox",
         "type": "scattermapbox"
        },
        {
         "hovertemplate": "Customers=Brock University<br>Number of Users=%{marker.size}<br>Lat=%{lat}<br>Long=%{lon}<extra></extra>",
         "lat": [
          43.118799,
          43.118799
         ],
         "legendgroup": "Brock University",
         "lon": [
          -79.238508,
          -79.238508
         ],
         "marker": {
          "color": "#B6E880",
          "size": [
           466,
           466
          ],
          "sizemode": "area",
          "sizeref": 37.625
         },
         "mode": "markers",
         "name": "Brock University",
         "showlegend": true,
         "subplot": "mapbox",
         "type": "scattermapbox"
        },
        {
         "hovertemplate": "Customers=Brown University<br>Number of Users=%{marker.size}<br>Lat=%{lat}<br>Long=%{lon}<extra></extra>",
         "lat": [
          41.82574,
          41.82574
         ],
         "legendgroup": "Brown University",
         "lon": [
          -71.405199,
          -71.405199
         ],
         "marker": {
          "color": "#FF97FF",
          "size": [
           30,
           30
          ],
          "sizemode": "area",
          "sizeref": 37.625
         },
         "mode": "markers",
         "name": "Brown University",
         "showlegend": true,
         "subplot": "mapbox",
         "type": "scattermapbox"
        },
        {
         "hovertemplate": "Customers=Bureau of Indian Affairs<br>Number of Users=%{marker.size}<br>Lat=%{lat}<br>Long=%{lon}<extra></extra>",
         "lat": [
          38.89445300000001,
          38.89445300000001,
          38.89445300000001
         ],
         "legendgroup": "Bureau of Indian Affairs",
         "lon": [
          -77.042603,
          -77.042603,
          -77.042603
         ],
         "marker": {
          "color": "#FECB52",
          "size": [
           0,
           0,
           0
          ],
          "sizemode": "area",
          "sizeref": 37.625
         },
         "mode": "markers",
         "name": "Bureau of Indian Affairs",
         "showlegend": true,
         "subplot": "mapbox",
         "type": "scattermapbox"
        },
        {
         "hovertemplate": "Customers=CA State University Chico<br>Number of Users=%{marker.size}<br>Lat=%{lat}<br>Long=%{lon}<extra></extra>",
         "lat": [
          39.729732,
          39.729732
         ],
         "legendgroup": "CA State University Chico",
         "lon": [
          -121.844783,
          -121.844783
         ],
         "marker": {
          "color": "#636efa",
          "size": [
           300,
           300
          ],
          "sizemode": "area",
          "sizeref": 37.625
         },
         "mode": "markers",
         "name": "CA State University Chico",
         "showlegend": true,
         "subplot": "mapbox",
         "type": "scattermapbox"
        },
        {
         "hovertemplate": "Customers=CA State University Dominguez Hills<br>Number of Users=%{marker.size}<br>Lat=%{lat}<br>Long=%{lon}<extra></extra>",
         "lat": [
          33.863908
         ],
         "legendgroup": "CA State University Dominguez Hills",
         "lon": [
          -118.255633
         ],
         "marker": {
          "color": "#EF553B",
          "size": [
           750
          ],
          "sizemode": "area",
          "sizeref": 37.625
         },
         "mode": "markers",
         "name": "CA State University Dominguez Hills",
         "showlegend": true,
         "subplot": "mapbox",
         "type": "scattermapbox"
        },
        {
         "hovertemplate": "Customers=CA State University, Stanislaus<br>Number of Users=%{marker.size}<br>Lat=%{lat}<br>Long=%{lon}<extra></extra>",
         "lat": [
          37.52499,
          37.52499,
          37.52499,
          37.52499,
          37.52499,
          37.52499,
          37.52499
         ],
         "legendgroup": "CA State University, Stanislaus",
         "lon": [
          -120.858459,
          -120.858459,
          -120.858459,
          -120.858459,
          -120.858459,
          -120.858459,
          -120.858459
         ],
         "marker": {
          "color": "#00cc96",
          "size": [
           655,
           655,
           655,
           655,
           655,
           655,
           655
          ],
          "sizemode": "area",
          "sizeref": 37.625
         },
         "mode": "markers",
         "name": "CA State University, Stanislaus",
         "showlegend": true,
         "subplot": "mapbox",
         "type": "scattermapbox"
        },
        {
         "hovertemplate": "Customers=California State Polytechnic University Pomona-Education/CEIS<br>Number of Users=%{marker.size}<br>Lat=%{lat}<br>Long=%{lon}<extra></extra>",
         "lat": [
          34.057959999999994
         ],
         "legendgroup": "California State Polytechnic University Pomona-Education/CEIS",
         "lon": [
          -117.822688
         ],
         "marker": {
          "color": "#ab63fa",
          "size": [
           50
          ],
          "sizemode": "area",
          "sizeref": 37.625
         },
         "mode": "markers",
         "name": "California State Polytechnic University Pomona-Education/CEIS",
         "showlegend": true,
         "subplot": "mapbox",
         "type": "scattermapbox"
        },
        {
         "hovertemplate": "Customers=California State University<br>Number of Users=%{marker.size}<br>Lat=%{lat}<br>Long=%{lon}<extra></extra>",
         "lat": [
          38.89583
         ],
         "legendgroup": "California State University",
         "lon": [
          -77.009828
         ],
         "marker": {
          "color": "#FFA15A",
          "size": [
           250
          ],
          "sizemode": "area",
          "sizeref": 37.625
         },
         "mode": "markers",
         "name": "California State University",
         "showlegend": true,
         "subplot": "mapbox",
         "type": "scattermapbox"
        },
        {
         "hovertemplate": "Customers=California State University Long Beach<br>Number of Users=%{marker.size}<br>Lat=%{lat}<br>Long=%{lon}<extra></extra>",
         "lat": [
          33.782523
         ],
         "legendgroup": "California State University Long Beach",
         "lon": [
          -118.122205
         ],
         "marker": {
          "color": "#19d3f3",
          "size": [
           100
          ],
          "sizemode": "area",
          "sizeref": 37.625
         },
         "mode": "markers",
         "name": "California State University Long Beach",
         "showlegend": true,
         "subplot": "mapbox",
         "type": "scattermapbox"
        },
        {
         "hovertemplate": "Customers=California State University Northridge<br>Number of Users=%{marker.size}<br>Lat=%{lat}<br>Long=%{lon}<extra></extra>",
         "lat": [
          34.236075
         ],
         "legendgroup": "California State University Northridge",
         "lon": [
          -118.528326
         ],
         "marker": {
          "color": "#FF6692",
          "size": [
           40
          ],
          "sizemode": "area",
          "sizeref": 37.625
         },
         "mode": "markers",
         "name": "California State University Northridge",
         "showlegend": true,
         "subplot": "mapbox",
         "type": "scattermapbox"
        },
        {
         "hovertemplate": "Customers=California State University, Fullerton<br>Number of Users=%{marker.size}<br>Lat=%{lat}<br>Long=%{lon}<extra></extra>",
         "lat": [
          33.879662
         ],
         "legendgroup": "California State University, Fullerton",
         "lon": [
          -117.885496
         ],
         "marker": {
          "color": "#B6E880",
          "size": [
           300
          ],
          "sizemode": "area",
          "sizeref": 37.625
         },
         "mode": "markers",
         "name": "California State University, Fullerton",
         "showlegend": true,
         "subplot": "mapbox",
         "type": "scattermapbox"
        },
        {
         "hovertemplate": "Customers=California University of Pennsylvania<br>Number of Users=%{marker.size}<br>Lat=%{lat}<br>Long=%{lon}<extra></extra>",
         "lat": [
          40.065615,
          40.065615,
          40.065615
         ],
         "legendgroup": "California University of Pennsylvania",
         "lon": [
          -79.885932,
          -79.885932,
          -79.885932
         ],
         "marker": {
          "color": "#FF97FF",
          "size": [
           1700,
           1700,
           1700
          ],
          "sizemode": "area",
          "sizeref": 37.625
         },
         "mode": "markers",
         "name": "California University of Pennsylvania",
         "showlegend": true,
         "subplot": "mapbox",
         "type": "scattermapbox"
        },
        {
         "hovertemplate": "Customers=Calvert County Public Schools<br>Number of Users=%{marker.size}<br>Lat=%{lat}<br>Long=%{lon}<extra></extra>",
         "lat": [
          38.551889
         ],
         "legendgroup": "Calvert County Public Schools",
         "lon": [
          -76.57221
         ],
         "marker": {
          "color": "#FECB52",
          "size": [
           34
          ],
          "sizemode": "area",
          "sizeref": 37.625
         },
         "mode": "markers",
         "name": "Calvert County Public Schools",
         "showlegend": true,
         "subplot": "mapbox",
         "type": "scattermapbox"
        },
        {
         "hovertemplate": "Customers=Campbell University<br>Number of Users=%{marker.size}<br>Lat=%{lat}<br>Long=%{lon}<extra></extra>",
         "lat": [
          35.40913300000001,
          35.40913300000001
         ],
         "legendgroup": "Campbell University",
         "lon": [
          -78.73821099999998,
          -78.73821099999998
         ],
         "marker": {
          "color": "#636efa",
          "size": [
           40,
           40
          ],
          "sizemode": "area",
          "sizeref": 37.625
         },
         "mode": "markers",
         "name": "Campbell University",
         "showlegend": true,
         "subplot": "mapbox",
         "type": "scattermapbox"
        },
        {
         "hovertemplate": "Customers=Capital University<br>Number of Users=%{marker.size}<br>Lat=%{lat}<br>Long=%{lon}<extra></extra>",
         "lat": [
          39.957227
         ],
         "legendgroup": "Capital University",
         "lon": [
          -82.940015
         ],
         "marker": {
          "color": "#EF553B",
          "size": [
           14
          ],
          "sizemode": "area",
          "sizeref": 37.625
         },
         "mode": "markers",
         "name": "Capital University",
         "showlegend": true,
         "subplot": "mapbox",
         "type": "scattermapbox"
        },
        {
         "hovertemplate": "Customers=Catawba College<br>Number of Users=%{marker.size}<br>Lat=%{lat}<br>Long=%{lon}<extra></extra>",
         "lat": [
          35.691116
         ],
         "legendgroup": "Catawba College",
         "lon": [
          -80.481124
         ],
         "marker": {
          "color": "#00cc96",
          "size": [
           50
          ],
          "sizemode": "area",
          "sizeref": 37.625
         },
         "mode": "markers",
         "name": "Catawba College",
         "showlegend": true,
         "subplot": "mapbox",
         "type": "scattermapbox"
        },
        {
         "hovertemplate": "Customers=Central Connecticut State University<br>Number of Users=%{marker.size}<br>Lat=%{lat}<br>Long=%{lon}<extra></extra>",
         "lat": [
          41.68339,
          41.68339
         ],
         "legendgroup": "Central Connecticut State University",
         "lon": [
          -72.767385,
          -72.767385
         ],
         "marker": {
          "color": "#ab63fa",
          "size": [
           400,
           400
          ],
          "sizemode": "area",
          "sizeref": 37.625
         },
         "mode": "markers",
         "name": "Central Connecticut State University",
         "showlegend": true,
         "subplot": "mapbox",
         "type": "scattermapbox"
        },
        {
         "hovertemplate": "Customers=Central Washington University<br>Number of Users=%{marker.size}<br>Lat=%{lat}<br>Long=%{lon}<extra></extra>",
         "lat": [
          47.00033300000001,
          47.00033300000001
         ],
         "legendgroup": "Central Washington University",
         "lon": [
          -120.541972,
          -120.541972
         ],
         "marker": {
          "color": "#FFA15A",
          "size": [
           150,
           150
          ],
          "sizemode": "area",
          "sizeref": 37.625
         },
         "mode": "markers",
         "name": "Central Washington University",
         "showlegend": true,
         "subplot": "mapbox",
         "type": "scattermapbox"
        },
        {
         "hovertemplate": "Customers=Central Wyoming College<br>Number of Users=%{marker.size}<br>Lat=%{lat}<br>Long=%{lon}<extra></extra>",
         "lat": [
          43.031001
         ],
         "legendgroup": "Central Wyoming College",
         "lon": [
          -108.426371
         ],
         "marker": {
          "color": "#19d3f3",
          "size": [
           60
          ],
          "sizemode": "area",
          "sizeref": 37.625
         },
         "mode": "markers",
         "name": "Central Wyoming College",
         "showlegend": true,
         "subplot": "mapbox",
         "type": "scattermapbox"
        },
        {
         "hovertemplate": "Customers=CERRA<br>Number of Users=%{marker.size}<br>Lat=%{lat}<br>Long=%{lon}<extra></extra>",
         "lat": [
          34.941683000000005,
          34.941683000000005,
          34.941683000000005
         ],
         "legendgroup": "CERRA",
         "lon": [
          -81.029894,
          -81.029894,
          -81.029894
         ],
         "marker": {
          "color": "#FF6692",
          "size": [
           0,
           0,
           0
          ],
          "sizemode": "area",
          "sizeref": 37.625
         },
         "mode": "markers",
         "name": "CERRA",
         "showlegend": true,
         "subplot": "mapbox",
         "type": "scattermapbox"
        },
        {
         "hovertemplate": "Customers=Chapman University<br>Number of Users=%{marker.size}<br>Lat=%{lat}<br>Long=%{lon}<extra></extra>",
         "lat": [
          33.793603999999995
         ],
         "legendgroup": "Chapman University",
         "lon": [
          -117.851581
         ],
         "marker": {
          "color": "#B6E880",
          "size": [
           100
          ],
          "sizemode": "area",
          "sizeref": 37.625
         },
         "mode": "markers",
         "name": "Chapman University",
         "showlegend": true,
         "subplot": "mapbox",
         "type": "scattermapbox"
        },
        {
         "hovertemplate": "Customers=Charleston Southern University<br>Number of Users=%{marker.size}<br>Lat=%{lat}<br>Long=%{lon}<extra></extra>",
         "lat": [
          32.981204,
          32.981204
         ],
         "legendgroup": "Charleston Southern University",
         "lon": [
          -80.071966,
          -80.071966
         ],
         "marker": {
          "color": "#FF97FF",
          "size": [
           360,
           360
          ],
          "sizemode": "area",
          "sizeref": 37.625
         },
         "mode": "markers",
         "name": "Charleston Southern University",
         "showlegend": true,
         "subplot": "mapbox",
         "type": "scattermapbox"
        },
        {
         "hovertemplate": "Customers=Chicago State University<br>Number of Users=%{marker.size}<br>Lat=%{lat}<br>Long=%{lon}<extra></extra>",
         "lat": [
          41.71658
         ],
         "legendgroup": "Chicago State University",
         "lon": [
          -87.60847199999998
         ],
         "marker": {
          "color": "#FECB52",
          "size": [
           200
          ],
          "sizemode": "area",
          "sizeref": 37.625
         },
         "mode": "markers",
         "name": "Chicago State University",
         "showlegend": true,
         "subplot": "mapbox",
         "type": "scattermapbox"
        },
        {
         "hovertemplate": "Customers=Christina School District<br>Number of Users=%{marker.size}<br>Lat=%{lat}<br>Long=%{lon}<extra></extra>",
         "lat": [
          39.65839
         ],
         "legendgroup": "Christina School District",
         "lon": [
          -75.717762
         ],
         "marker": {
          "color": "#636efa",
          "size": [
           250
          ],
          "sizemode": "area",
          "sizeref": 37.625
         },
         "mode": "markers",
         "name": "Christina School District",
         "showlegend": true,
         "subplot": "mapbox",
         "type": "scattermapbox"
        },
        {
         "hovertemplate": "Customers=City University of New York<br>Number of Users=%{marker.size}<br>Lat=%{lat}<br>Long=%{lon}<extra></extra>",
         "lat": [
          40.75081,
          40.75081,
          40.75081,
          40.75081,
          40.75081
         ],
         "legendgroup": "City University of New York",
         "lon": [
          -73.973537,
          -73.973537,
          -73.973537,
          -73.973537,
          -73.973537
         ],
         "marker": {
          "color": "#EF553B",
          "size": [
           800,
           800,
           800,
           800,
           800
          ],
          "sizemode": "area",
          "sizeref": 37.625
         },
         "mode": "markers",
         "name": "City University of New York",
         "showlegend": true,
         "subplot": "mapbox",
         "type": "scattermapbox"
        },
        {
         "hovertemplate": "Customers=Clarion University of Pennsylvania<br>Number of Users=%{marker.size}<br>Lat=%{lat}<br>Long=%{lon}<extra></extra>",
         "lat": [
          41.210449
         ],
         "legendgroup": "Clarion University of Pennsylvania",
         "lon": [
          -79.37899999999998
         ],
         "marker": {
          "color": "#00cc96",
          "size": [
           300
          ],
          "sizemode": "area",
          "sizeref": 37.625
         },
         "mode": "markers",
         "name": "Clarion University of Pennsylvania",
         "showlegend": true,
         "subplot": "mapbox",
         "type": "scattermapbox"
        },
        {
         "hovertemplate": "Customers=Clark County Education Association<br>Number of Users=%{marker.size}<br>Lat=%{lat}<br>Long=%{lon}<extra></extra>",
         "lat": [
          36.112561,
          36.112561
         ],
         "legendgroup": "Clark County Education Association",
         "lon": [
          -115.109222,
          -115.109222
         ],
         "marker": {
          "color": "#ab63fa",
          "size": [
           0,
           0
          ],
          "sizemode": "area",
          "sizeref": 37.625
         },
         "mode": "markers",
         "name": "Clark County Education Association",
         "showlegend": true,
         "subplot": "mapbox",
         "type": "scattermapbox"
        },
        {
         "hovertemplate": "Customers=Clayton State University<br>Number of Users=%{marker.size}<br>Lat=%{lat}<br>Long=%{lon}<extra></extra>",
         "lat": [
          33.594374
         ],
         "legendgroup": "Clayton State University",
         "lon": [
          -84.328396
         ],
         "marker": {
          "color": "#FFA15A",
          "size": [
           100
          ],
          "sizemode": "area",
          "sizeref": 37.625
         },
         "mode": "markers",
         "name": "Clayton State University",
         "showlegend": true,
         "subplot": "mapbox",
         "type": "scattermapbox"
        },
        {
         "hovertemplate": "Customers=Clemson University<br>Number of Users=%{marker.size}<br>Lat=%{lat}<br>Long=%{lon}<extra></extra>",
         "lat": [
          34.681999
         ],
         "legendgroup": "Clemson University",
         "lon": [
          -82.782158
         ],
         "marker": {
          "color": "#19d3f3",
          "size": [
           60
          ],
          "sizemode": "area",
          "sizeref": 37.625
         },
         "mode": "markers",
         "name": "Clemson University",
         "showlegend": true,
         "subplot": "mapbox",
         "type": "scattermapbox"
        },
        {
         "hovertemplate": "Customers=Cleveland County Schools<br>Number of Users=%{marker.size}<br>Lat=%{lat}<br>Long=%{lon}<extra></extra>",
         "lat": [
          35.248064
         ],
         "legendgroup": "Cleveland County Schools",
         "lon": [
          -81.414194
         ],
         "marker": {
          "color": "#FF6692",
          "size": [
           20
          ],
          "sizemode": "area",
          "sizeref": 37.625
         },
         "mode": "markers",
         "name": "Cleveland County Schools",
         "showlegend": true,
         "subplot": "mapbox",
         "type": "scattermapbox"
        },
        {
         "hovertemplate": "Customers=Coastal Carolina University<br>Number of Users=%{marker.size}<br>Lat=%{lat}<br>Long=%{lon}<extra></extra>",
         "lat": [
          33.795302
         ],
         "legendgroup": "Coastal Carolina University",
         "lon": [
          -79.007856
         ],
         "marker": {
          "color": "#B6E880",
          "size": [
           150
          ],
          "sizemode": "area",
          "sizeref": 37.625
         },
         "mode": "markers",
         "name": "Coastal Carolina University",
         "showlegend": true,
         "subplot": "mapbox",
         "type": "scattermapbox"
        },
        {
         "hovertemplate": "Customers=Colgate University<br>Number of Users=%{marker.size}<br>Lat=%{lat}<br>Long=%{lon}<extra></extra>",
         "lat": [
          42.818179
         ],
         "legendgroup": "Colgate University",
         "lon": [
          -75.53522099999998
         ],
         "marker": {
          "color": "#FF97FF",
          "size": [
           50
          ],
          "sizemode": "area",
          "sizeref": 37.625
         },
         "mode": "markers",
         "name": "Colgate University",
         "showlegend": true,
         "subplot": "mapbox",
         "type": "scattermapbox"
        },
        {
         "hovertemplate": "Customers=College for Creative Studies<br>Number of Users=%{marker.size}<br>Lat=%{lat}<br>Long=%{lon}<extra></extra>",
         "lat": [
          42.36125
         ],
         "legendgroup": "College for Creative Studies",
         "lon": [
          -83.064187
         ],
         "marker": {
          "color": "#FECB52",
          "size": [
           40
          ],
          "sizemode": "area",
          "sizeref": 37.625
         },
         "mode": "markers",
         "name": "College for Creative Studies",
         "showlegend": true,
         "subplot": "mapbox",
         "type": "scattermapbox"
        },
        {
         "hovertemplate": "Customers=College of Coastal Georgia<br>Number of Users=%{marker.size}<br>Lat=%{lat}<br>Long=%{lon}<extra></extra>",
         "lat": [
          31.180761,
          31.180761
         ],
         "legendgroup": "College of Coastal Georgia",
         "lon": [
          -81.487082,
          -81.487082
         ],
         "marker": {
          "color": "#636efa",
          "size": [
           195,
           195
          ],
          "sizemode": "area",
          "sizeref": 37.625
         },
         "mode": "markers",
         "name": "College of Coastal Georgia",
         "showlegend": true,
         "subplot": "mapbox",
         "type": "scattermapbox"
        },
        {
         "hovertemplate": "Customers=College of Mount Saint Vincent<br>Number of Users=%{marker.size}<br>Lat=%{lat}<br>Long=%{lon}<extra></extra>",
         "lat": [
          40.912795
         ],
         "legendgroup": "College of Mount Saint Vincent",
         "lon": [
          -73.902821
         ],
         "marker": {
          "color": "#EF553B",
          "size": [
           100
          ],
          "sizemode": "area",
          "sizeref": 37.625
         },
         "mode": "markers",
         "name": "College of Mount Saint Vincent",
         "showlegend": true,
         "subplot": "mapbox",
         "type": "scattermapbox"
        },
        {
         "hovertemplate": "Customers=College of William and Mary<br>Number of Users=%{marker.size}<br>Lat=%{lat}<br>Long=%{lon}<extra></extra>",
         "lat": [
          37.27174,
          37.27174,
          37.27174,
          37.27174
         ],
         "legendgroup": "College of William and Mary",
         "lon": [
          -76.71426,
          -76.71426,
          -76.71426,
          -76.71426
         ],
         "marker": {
          "color": "#00cc96",
          "size": [
           540,
           540,
           540,
           540
          ],
          "sizemode": "area",
          "sizeref": 37.625
         },
         "mode": "markers",
         "name": "College of William and Mary",
         "showlegend": true,
         "subplot": "mapbox",
         "type": "scattermapbox"
        },
        {
         "hovertemplate": "Customers=Colorado Education Association<br>Number of Users=%{marker.size}<br>Lat=%{lat}<br>Long=%{lon}<extra></extra>",
         "lat": [
          39.740309
         ],
         "legendgroup": "Colorado Education Association",
         "lon": [
          -104.983191
         ],
         "marker": {
          "color": "#ab63fa",
          "size": [
           30
          ],
          "sizemode": "area",
          "sizeref": 37.625
         },
         "mode": "markers",
         "name": "Colorado Education Association",
         "showlegend": true,
         "subplot": "mapbox",
         "type": "scattermapbox"
        },
        {
         "hovertemplate": "Customers=Colorado State University Pueblo<br>Number of Users=%{marker.size}<br>Lat=%{lat}<br>Long=%{lon}<extra></extra>",
         "lat": [
          38.309475
         ],
         "legendgroup": "Colorado State University Pueblo",
         "lon": [
          -104.577707
         ],
         "marker": {
          "color": "#FFA15A",
          "size": [
           300
          ],
          "sizemode": "area",
          "sizeref": 37.625
         },
         "mode": "markers",
         "name": "Colorado State University Pueblo",
         "showlegend": true,
         "subplot": "mapbox",
         "type": "scattermapbox"
        },
        {
         "hovertemplate": "Customers=Columbia College<br>Number of Users=%{marker.size}<br>Lat=%{lat}<br>Long=%{lon}<extra></extra>",
         "lat": [
          37.965603
         ],
         "legendgroup": "Columbia College",
         "lon": [
          -120.404284
         ],
         "marker": {
          "color": "#19d3f3",
          "size": [
           50
          ],
          "sizemode": "area",
          "sizeref": 37.625
         },
         "mode": "markers",
         "name": "Columbia College",
         "showlegend": true,
         "subplot": "mapbox",
         "type": "scattermapbox"
        },
        {
         "hovertemplate": "Customers=Columbus State University<br>Number of Users=%{marker.size}<br>Lat=%{lat}<br>Long=%{lon}<extra></extra>",
         "lat": [
          32.502968
         ],
         "legendgroup": "Columbus State University",
         "lon": [
          -84.939428
         ],
         "marker": {
          "color": "#FF6692",
          "size": [
           0
          ],
          "sizemode": "area",
          "sizeref": 37.625
         },
         "mode": "markers",
         "name": "Columbus State University",
         "showlegend": true,
         "subplot": "mapbox",
         "type": "scattermapbox"
        },
        {
         "hovertemplate": "Customers=Concord University<br>Number of Users=%{marker.size}<br>Lat=%{lat}<br>Long=%{lon}<extra></extra>",
         "lat": [
          37.423644
         ],
         "legendgroup": "Concord University",
         "lon": [
          -81.018206
         ],
         "marker": {
          "color": "#B6E880",
          "size": [
           137
          ],
          "sizemode": "area",
          "sizeref": 37.625
         },
         "mode": "markers",
         "name": "Concord University",
         "showlegend": true,
         "subplot": "mapbox",
         "type": "scattermapbox"
        },
        {
         "hovertemplate": "Customers=Concordia University Chicago<br>Number of Users=%{marker.size}<br>Lat=%{lat}<br>Long=%{lon}<extra></extra>",
         "lat": [
          41.898597,
          41.898597
         ],
         "legendgroup": "Concordia University Chicago",
         "lon": [
          -87.809426,
          -87.809426
         ],
         "marker": {
          "color": "#FF97FF",
          "size": [
           250,
           250
          ],
          "sizemode": "area",
          "sizeref": 37.625
         },
         "mode": "markers",
         "name": "Concordia University Chicago",
         "showlegend": true,
         "subplot": "mapbox",
         "type": "scattermapbox"
        },
        {
         "hovertemplate": "Customers=Concordia University Irvine<br>Number of Users=%{marker.size}<br>Lat=%{lat}<br>Long=%{lon}<extra></extra>",
         "lat": [
          33.653502
         ],
         "legendgroup": "Concordia University Irvine",
         "lon": [
          -117.809732
         ],
         "marker": {
          "color": "#FECB52",
          "size": [
           70
          ],
          "sizemode": "area",
          "sizeref": 37.625
         },
         "mode": "markers",
         "name": "Concordia University Irvine",
         "showlegend": true,
         "subplot": "mapbox",
         "type": "scattermapbox"
        },
        {
         "hovertemplate": "Customers=Creighton University<br>Number of Users=%{marker.size}<br>Lat=%{lat}<br>Long=%{lon}<extra></extra>",
         "lat": [
          41.26541
         ],
         "legendgroup": "Creighton University",
         "lon": [
          -95.947789
         ],
         "marker": {
          "color": "#636efa",
          "size": [
           20
          ],
          "sizemode": "area",
          "sizeref": 37.625
         },
         "mode": "markers",
         "name": "Creighton University",
         "showlegend": true,
         "subplot": "mapbox",
         "type": "scattermapbox"
        },
        {
         "hovertemplate": "Customers=Crowder College<br>Number of Users=%{marker.size}<br>Lat=%{lat}<br>Long=%{lon}<extra></extra>",
         "lat": [
          36.814755
         ],
         "legendgroup": "Crowder College",
         "lon": [
          -94.368214
         ],
         "marker": {
          "color": "#EF553B",
          "size": [
           100
          ],
          "sizemode": "area",
          "sizeref": 37.625
         },
         "mode": "markers",
         "name": "Crowder College",
         "showlegend": true,
         "subplot": "mapbox",
         "type": "scattermapbox"
        },
        {
         "hovertemplate": "Customers=Crowley’s Ridge College<br>Number of Users=%{marker.size}<br>Lat=%{lat}<br>Long=%{lon}<extra></extra>",
         "lat": [
          36.066274
         ],
         "legendgroup": "Crowley’s Ridge College",
         "lon": [
          -90.585972
         ],
         "marker": {
          "color": "#00cc96",
          "size": [
           8
          ],
          "sizemode": "area",
          "sizeref": 37.625
         },
         "mode": "markers",
         "name": "Crowley’s Ridge College",
         "showlegend": true,
         "subplot": "mapbox",
         "type": "scattermapbox"
        },
        {
         "hovertemplate": "Customers=CSU San Bernardino<br>Number of Users=%{marker.size}<br>Lat=%{lat}<br>Long=%{lon}<extra></extra>",
         "lat": [
          34.182623
         ],
         "legendgroup": "CSU San Bernardino",
         "lon": [
          -117.323808
         ],
         "marker": {
          "color": "#ab63fa",
          "size": [
           400
          ],
          "sizemode": "area",
          "sizeref": 37.625
         },
         "mode": "markers",
         "name": "CSU San Bernardino",
         "showlegend": true,
         "subplot": "mapbox",
         "type": "scattermapbox"
        },
        {
         "hovertemplate": "Customers=CTU Foundation, Inc<br>Number of Users=%{marker.size}<br>Lat=%{lat}<br>Long=%{lon}<extra></extra>",
         "lat": [
          41.887482
         ],
         "legendgroup": "CTU Foundation, Inc",
         "lon": [
          -87.67518000000003
         ],
         "marker": {
          "color": "#FFA15A",
          "size": [
           0
          ],
          "sizemode": "area",
          "sizeref": 37.625
         },
         "mode": "markers",
         "name": "CTU Foundation, Inc",
         "showlegend": true,
         "subplot": "mapbox",
         "type": "scattermapbox"
        },
        {
         "hovertemplate": "Customers=Cumberland University<br>Number of Users=%{marker.size}<br>Lat=%{lat}<br>Long=%{lon}<extra></extra>",
         "lat": [
          36.204101,
          36.204101
         ],
         "legendgroup": "Cumberland University",
         "lon": [
          -86.291933,
          -86.291933
         ],
         "marker": {
          "color": "#19d3f3",
          "size": [
           201,
           201
          ],
          "sizemode": "area",
          "sizeref": 37.625
         },
         "mode": "markers",
         "name": "Cumberland University",
         "showlegend": true,
         "subplot": "mapbox",
         "type": "scattermapbox"
        },
        {
         "hovertemplate": "Customers=Delta State University<br>Number of Users=%{marker.size}<br>Lat=%{lat}<br>Long=%{lon}<extra></extra>",
         "lat": [
          33.746861,
          33.746861
         ],
         "legendgroup": "Delta State University",
         "lon": [
          -90.736779,
          -90.736779
         ],
         "marker": {
          "color": "#FF6692",
          "size": [
           100,
           100
          ],
          "sizemode": "area",
          "sizeref": 37.625
         },
         "mode": "markers",
         "name": "Delta State University",
         "showlegend": true,
         "subplot": "mapbox",
         "type": "scattermapbox"
        },
        {
         "hovertemplate": "Customers=Department of Defense Education Activity-Teaching and Learning Division<br>Number of Users=%{marker.size}<br>Lat=%{lat}<br>Long=%{lon}<extra></extra>",
         "lat": [
          38.829487,
          38.829487
         ],
         "legendgroup": "Department of Defense Education Activity-Teaching and Learning Division",
         "lon": [
          -77.117672,
          -77.117672
         ],
         "marker": {
          "color": "#B6E880",
          "size": [
           46,
           46
          ],
          "sizemode": "area",
          "sizeref": 37.625
         },
         "mode": "markers",
         "name": "Department of Defense Education Activity-Teaching and Learning Division",
         "showlegend": true,
         "subplot": "mapbox",
         "type": "scattermapbox"
        },
        {
         "hovertemplate": "Customers=Dickinson State University<br>Number of Users=%{marker.size}<br>Lat=%{lat}<br>Long=%{lon}<extra></extra>",
         "lat": [
          46.882198
         ],
         "legendgroup": "Dickinson State University",
         "lon": [
          -102.799866
         ],
         "marker": {
          "color": "#FF97FF",
          "size": [
           10
          ],
          "sizemode": "area",
          "sizeref": 37.625
         },
         "mode": "markers",
         "name": "Dickinson State University",
         "showlegend": true,
         "subplot": "mapbox",
         "type": "scattermapbox"
        },
        {
         "hovertemplate": "Customers=Duke University<br>Number of Users=%{marker.size}<br>Lat=%{lat}<br>Long=%{lon}<extra></extra>",
         "lat": [
          35.99895
         ],
         "legendgroup": "Duke University",
         "lon": [
          -78.94028
         ],
         "marker": {
          "color": "#FECB52",
          "size": [
           42
          ],
          "sizemode": "area",
          "sizeref": 37.625
         },
         "mode": "markers",
         "name": "Duke University",
         "showlegend": true,
         "subplot": "mapbox",
         "type": "scattermapbox"
        },
        {
         "hovertemplate": "Customers=Durham Public Schools<br>Number of Users=%{marker.size}<br>Lat=%{lat}<br>Long=%{lon}<extra></extra>",
         "lat": [
          35.99726300000001
         ],
         "legendgroup": "Durham Public Schools",
         "lon": [
          -78.897667
         ],
         "marker": {
          "color": "#636efa",
          "size": [
           13
          ],
          "sizemode": "area",
          "sizeref": 37.625
         },
         "mode": "markers",
         "name": "Durham Public Schools",
         "showlegend": true,
         "subplot": "mapbox",
         "type": "scattermapbox"
        },
        {
         "hovertemplate": "Customers=East Carolina University<br>Number of Users=%{marker.size}<br>Lat=%{lat}<br>Long=%{lon}<extra></extra>",
         "lat": [
          35.611135,
          35.611135,
          35.611135,
          35.611135,
          35.611135,
          35.611135,
          35.611135
         ],
         "legendgroup": "East Carolina University",
         "lon": [
          -77.408715,
          -77.408715,
          -77.408715,
          -77.408715,
          -77.408715,
          -77.408715,
          -77.408715
         ],
         "marker": {
          "color": "#EF553B",
          "size": [
           2100,
           2100,
           2100,
           2100,
           2100,
           2100,
           2100
          ],
          "sizemode": "area",
          "sizeref": 37.625
         },
         "mode": "markers",
         "name": "East Carolina University",
         "showlegend": true,
         "subplot": "mapbox",
         "type": "scattermapbox"
        },
        {
         "hovertemplate": "Customers=East Stroudsburg University & Colonial IU<br>Number of Users=%{marker.size}<br>Lat=%{lat}<br>Long=%{lon}<extra></extra>",
         "lat": [
          40.732544,
          40.732544,
          40.732544,
          40.732544,
          40.732544
         ],
         "legendgroup": "East Stroudsburg University & Colonial IU",
         "lon": [
          -75.263954,
          -75.263954,
          -75.263954,
          -75.263954,
          -75.263954
         ],
         "marker": {
          "color": "#00cc96",
          "size": [
           250,
           250,
           250,
           250,
           250
          ],
          "sizemode": "area",
          "sizeref": 37.625
         },
         "mode": "markers",
         "name": "East Stroudsburg University & Colonial IU",
         "showlegend": true,
         "subplot": "mapbox",
         "type": "scattermapbox"
        },
        {
         "hovertemplate": "Customers=East Tennessee State University<br>Number of Users=%{marker.size}<br>Lat=%{lat}<br>Long=%{lon}<extra></extra>",
         "lat": [
          36.30044,
          36.30044,
          36.30044,
          36.30044
         ],
         "legendgroup": "East Tennessee State University",
         "lon": [
          -82.362131,
          -82.362131,
          -82.362131,
          -82.362131
         ],
         "marker": {
          "color": "#ab63fa",
          "size": [
           946,
           946,
           946,
           946
          ],
          "sizemode": "area",
          "sizeref": 37.625
         },
         "mode": "markers",
         "name": "East Tennessee State University",
         "showlegend": true,
         "subplot": "mapbox",
         "type": "scattermapbox"
        },
        {
         "hovertemplate": "Customers=Eastern Michigan University<br>Number of Users=%{marker.size}<br>Lat=%{lat}<br>Long=%{lon}<extra></extra>",
         "lat": [
          42.251589
         ],
         "legendgroup": "Eastern Michigan University",
         "lon": [
          -83.62747900000002
         ],
         "marker": {
          "color": "#FFA15A",
          "size": [
           21
          ],
          "sizemode": "area",
          "sizeref": 37.625
         },
         "mode": "markers",
         "name": "Eastern Michigan University",
         "showlegend": true,
         "subplot": "mapbox",
         "type": "scattermapbox"
        },
        {
         "hovertemplate": "Customers=El Rancho Unified School District<br>Number of Users=%{marker.size}<br>Lat=%{lat}<br>Long=%{lon}<extra></extra>",
         "lat": [
          33.994748
         ],
         "legendgroup": "El Rancho Unified School District",
         "lon": [
          -118.08086000000002
         ],
         "marker": {
          "color": "#19d3f3",
          "size": [
           30
          ],
          "sizemode": "area",
          "sizeref": 37.625
         },
         "mode": "markers",
         "name": "El Rancho Unified School District",
         "showlegend": true,
         "subplot": "mapbox",
         "type": "scattermapbox"
        },
        {
         "hovertemplate": "Customers=Emporia State University<br>Number of Users=%{marker.size}<br>Lat=%{lat}<br>Long=%{lon}<extra></extra>",
         "lat": [
          38.392609,
          38.392609,
          38.392609,
          38.392609,
          38.392609,
          38.392609
         ],
         "legendgroup": "Emporia State University",
         "lon": [
          -96.181396,
          -96.181396,
          -96.181396,
          -96.181396,
          -96.181396,
          -96.181396
         ],
         "marker": {
          "color": "#FF6692",
          "size": [
           1300,
           1300,
           1300,
           1300,
           1300,
           1300
          ],
          "sizemode": "area",
          "sizeref": 37.625
         },
         "mode": "markers",
         "name": "Emporia State University",
         "showlegend": true,
         "subplot": "mapbox",
         "type": "scattermapbox"
        },
        {
         "hovertemplate": "Customers=Farleigh Dickinson University<br>Number of Users=%{marker.size}<br>Lat=%{lat}<br>Long=%{lon}<extra></extra>",
         "lat": [
          40.897169
         ],
         "legendgroup": "Farleigh Dickinson University",
         "lon": [
          -74.02901800000002
         ],
         "marker": {
          "color": "#B6E880",
          "size": [
           100
          ],
          "sizemode": "area",
          "sizeref": 37.625
         },
         "mode": "markers",
         "name": "Farleigh Dickinson University",
         "showlegend": true,
         "subplot": "mapbox",
         "type": "scattermapbox"
        },
        {
         "hovertemplate": "Customers=Faulkner University<br>Number of Users=%{marker.size}<br>Lat=%{lat}<br>Long=%{lon}<extra></extra>",
         "lat": [
          32.38341
         ],
         "legendgroup": "Faulkner University",
         "lon": [
          -86.216411
         ],
         "marker": {
          "color": "#FF97FF",
          "size": [
           100
          ],
          "sizemode": "area",
          "sizeref": 37.625
         },
         "mode": "markers",
         "name": "Faulkner University",
         "showlegend": true,
         "subplot": "mapbox",
         "type": "scattermapbox"
        },
        {
         "hovertemplate": "Customers=Fayetteville State University<br>Number of Users=%{marker.size}<br>Lat=%{lat}<br>Long=%{lon}<extra></extra>",
         "lat": [
          35.072882,
          35.072882,
          35.072882,
          35.072882,
          35.072882
         ],
         "legendgroup": "Fayetteville State University",
         "lon": [
          -78.893753,
          -78.893753,
          -78.893753,
          -78.893753,
          -78.893753
         ],
         "marker": {
          "color": "#FECB52",
          "size": [
           685,
           685,
           685,
           685,
           685
          ],
          "sizemode": "area",
          "sizeref": 37.625
         },
         "mode": "markers",
         "name": "Fayetteville State University",
         "showlegend": true,
         "subplot": "mapbox",
         "type": "scattermapbox"
        },
        {
         "hovertemplate": "Customers=Felician University<br>Number of Users=%{marker.size}<br>Lat=%{lat}<br>Long=%{lon}<extra></extra>",
         "lat": [
          40.829705
         ],
         "legendgroup": "Felician University",
         "lon": [
          -74.111522
         ],
         "marker": {
          "color": "#636efa",
          "size": [
           20
          ],
          "sizemode": "area",
          "sizeref": 37.625
         },
         "mode": "markers",
         "name": "Felician University",
         "showlegend": true,
         "subplot": "mapbox",
         "type": "scattermapbox"
        },
        {
         "hovertemplate": "Customers=Ferris State University<br>Number of Users=%{marker.size}<br>Lat=%{lat}<br>Long=%{lon}<extra></extra>",
         "lat": [
          43.686786
         ],
         "legendgroup": "Ferris State University",
         "lon": [
          -85.480963
         ],
         "marker": {
          "color": "#EF553B",
          "size": [
           120
          ],
          "sizemode": "area",
          "sizeref": 37.625
         },
         "mode": "markers",
         "name": "Ferris State University",
         "showlegend": true,
         "subplot": "mapbox",
         "type": "scattermapbox"
        },
        {
         "hovertemplate": "Customers=Florida Southwestern State College<br>Number of Users=%{marker.size}<br>Lat=%{lat}<br>Long=%{lon}<extra></extra>",
         "lat": [
          26.551674
         ],
         "legendgroup": "Florida Southwestern State College",
         "lon": [
          -81.889023
         ],
         "marker": {
          "color": "#00cc96",
          "size": [
           250
          ],
          "sizemode": "area",
          "sizeref": 37.625
         },
         "mode": "markers",
         "name": "Florida Southwestern State College",
         "showlegend": true,
         "subplot": "mapbox",
         "type": "scattermapbox"
        },
        {
         "hovertemplate": "Customers=Florida State University<br>Number of Users=%{marker.size}<br>Lat=%{lat}<br>Long=%{lon}<extra></extra>",
         "lat": [
          30.440722,
          30.440722
         ],
         "legendgroup": "Florida State University",
         "lon": [
          -84.299188,
          -84.299188
         ],
         "marker": {
          "color": "#ab63fa",
          "size": [
           255,
           255
          ],
          "sizemode": "area",
          "sizeref": 37.625
         },
         "mode": "markers",
         "name": "Florida State University",
         "showlegend": true,
         "subplot": "mapbox",
         "type": "scattermapbox"
        },
        {
         "hovertemplate": "Customers=Floyd County Schools<br>Number of Users=%{marker.size}<br>Lat=%{lat}<br>Long=%{lon}<extra></extra>",
         "lat": [
          34.278778
         ],
         "legendgroup": "Floyd County Schools",
         "lon": [
          -85.169274
         ],
         "marker": {
          "color": "#FFA15A",
          "size": [
           0
          ],
          "sizemode": "area",
          "sizeref": 37.625
         },
         "mode": "markers",
         "name": "Floyd County Schools",
         "showlegend": true,
         "subplot": "mapbox",
         "type": "scattermapbox"
        },
        {
         "hovertemplate": "Customers=Fort Mill School District<br>Number of Users=%{marker.size}<br>Lat=%{lat}<br>Long=%{lon}<extra></extra>",
         "lat": [
          35.050377000000005
         ],
         "legendgroup": "Fort Mill School District",
         "lon": [
          -80.949466
         ],
         "marker": {
          "color": "#19d3f3",
          "size": [
           100
          ],
          "sizemode": "area",
          "sizeref": 37.625
         },
         "mode": "markers",
         "name": "Fort Mill School District",
         "showlegend": true,
         "subplot": "mapbox",
         "type": "scattermapbox"
        },
        {
         "hovertemplate": "Customers=Four Corners Coalition<br>Number of Users=%{marker.size}<br>Lat=%{lat}<br>Long=%{lon}<extra></extra>",
         "lat": [
          42.298693,
          42.298693
         ],
         "legendgroup": "Four Corners Coalition",
         "lon": [
          -71.073436,
          -71.073436
         ],
         "marker": {
          "color": "#FF6692",
          "size": [
           50,
           50
          ],
          "sizemode": "area",
          "sizeref": 37.625
         },
         "mode": "markers",
         "name": "Four Corners Coalition",
         "showlegend": true,
         "subplot": "mapbox",
         "type": "scattermapbox"
        },
        {
         "hovertemplate": "Customers=Francis Marion University<br>Number of Users=%{marker.size}<br>Lat=%{lat}<br>Long=%{lon}<extra></extra>",
         "lat": [
          34.196573
         ],
         "legendgroup": "Francis Marion University",
         "lon": [
          -79.655068
         ],
         "marker": {
          "color": "#B6E880",
          "size": [
           90
          ],
          "sizemode": "area",
          "sizeref": 37.625
         },
         "mode": "markers",
         "name": "Francis Marion University",
         "showlegend": true,
         "subplot": "mapbox",
         "type": "scattermapbox"
        },
        {
         "hovertemplate": "Customers=Georgia Gwinnett College<br>Number of Users=%{marker.size}<br>Lat=%{lat}<br>Long=%{lon}<extra></extra>",
         "lat": [
          34.05945,
          33.980705,
          33.980705,
          33.980705,
          33.980705,
          33.980705,
          33.980705
         ],
         "legendgroup": "Georgia Gwinnett College",
         "lon": [
          -84.05721199999998,
          -84.00120799999998,
          -84.00120799999998,
          -84.00120799999998,
          -84.00120799999998,
          -84.00120799999998,
          -84.00120799999998
         ],
         "marker": {
          "color": "#FF97FF",
          "size": [
           1065,
           1065,
           1065,
           1065,
           1065,
           1065,
           1065
          ],
          "sizemode": "area",
          "sizeref": 37.625
         },
         "mode": "markers",
         "name": "Georgia Gwinnett College",
         "showlegend": true,
         "subplot": "mapbox",
         "type": "scattermapbox"
        },
        {
         "hovertemplate": "Customers=George Mason University<br>Number of Users=%{marker.size}<br>Lat=%{lat}<br>Long=%{lon}<extra></extra>",
         "lat": [
          38.835479,
          38.835479,
          38.835479
         ],
         "legendgroup": "George Mason University",
         "lon": [
          -77.30904,
          -77.30904,
          -77.30904
         ],
         "marker": {
          "color": "#FECB52",
          "size": [
           1400,
           1400,
           1400
          ],
          "sizemode": "area",
          "sizeref": 37.625
         },
         "mode": "markers",
         "name": "George Mason University",
         "showlegend": true,
         "subplot": "mapbox",
         "type": "scattermapbox"
        },
        {
         "hovertemplate": "Customers=Georgia College and State University<br>Number of Users=%{marker.size}<br>Lat=%{lat}<br>Long=%{lon}<extra></extra>",
         "lat": [
          33.080841,
          33.080841,
          33.080841,
          33.080841,
          33.080841
         ],
         "legendgroup": "Georgia College and State University",
         "lon": [
          -83.231778,
          -83.231778,
          -83.231778,
          -83.231778,
          -83.231778
         ],
         "marker": {
          "color": "#636efa",
          "size": [
           270,
           270,
           270,
           270,
           270
          ],
          "sizemode": "area",
          "sizeref": 37.625
         },
         "mode": "markers",
         "name": "Georgia College and State University",
         "showlegend": true,
         "subplot": "mapbox",
         "type": "scattermapbox"
        },
        {
         "hovertemplate": "Customers=Georgia Southern University<br>Number of Users=%{marker.size}<br>Lat=%{lat}<br>Long=%{lon}<extra></extra>",
         "lat": [
          32.42616,
          32.42616,
          32.42616
         ],
         "legendgroup": "Georgia Southern University",
         "lon": [
          -81.784036,
          -81.784036,
          -81.784036
         ],
         "marker": {
          "color": "#EF553B",
          "size": [
           400,
           400,
           400
          ],
          "sizemode": "area",
          "sizeref": 37.625
         },
         "mode": "markers",
         "name": "Georgia Southern University",
         "showlegend": true,
         "subplot": "mapbox",
         "type": "scattermapbox"
        },
        {
         "hovertemplate": "Customers=Georgia Southwestern State University<br>Number of Users=%{marker.size}<br>Lat=%{lat}<br>Long=%{lon}<extra></extra>",
         "lat": [
          32.056276000000004
         ],
         "legendgroup": "Georgia Southwestern State University",
         "lon": [
          -84.216298
         ],
         "marker": {
          "color": "#00cc96",
          "size": [
           50
          ],
          "sizemode": "area",
          "sizeref": 37.625
         },
         "mode": "markers",
         "name": "Georgia Southwestern State University",
         "showlegend": true,
         "subplot": "mapbox",
         "type": "scattermapbox"
        },
        {
         "hovertemplate": "Customers=Gettysburg College<br>Number of Users=%{marker.size}<br>Lat=%{lat}<br>Long=%{lon}<extra></extra>",
         "lat": [
          39.83495300000001
         ],
         "legendgroup": "Gettysburg College",
         "lon": [
          -77.234305
         ],
         "marker": {
          "color": "#ab63fa",
          "size": [
           50
          ],
          "sizemode": "area",
          "sizeref": 37.625
         },
         "mode": "markers",
         "name": "Gettysburg College",
         "showlegend": true,
         "subplot": "mapbox",
         "type": "scattermapbox"
        },
        {
         "hovertemplate": "Customers=Governors State University<br>Number of Users=%{marker.size}<br>Lat=%{lat}<br>Long=%{lon}<extra></extra>",
         "lat": [
          41.446696,
          41.446696,
          41.446696
         ],
         "legendgroup": "Governors State University",
         "lon": [
          -87.719756,
          -87.719756,
          -87.719756
         ],
         "marker": {
          "color": "#FFA15A",
          "size": [
           400,
           400,
           400
          ],
          "sizemode": "area",
          "sizeref": 37.625
         },
         "mode": "markers",
         "name": "Governors State University",
         "showlegend": true,
         "subplot": "mapbox",
         "type": "scattermapbox"
        },
        {
         "hovertemplate": "Customers=Greenville College<br>Number of Users=%{marker.size}<br>Lat=%{lat}<br>Long=%{lon}<extra></extra>",
         "lat": [
          38.892942,
          38.892942,
          38.892942,
          38.892942
         ],
         "legendgroup": "Greenville College",
         "lon": [
          -89.410143,
          -89.410143,
          -89.410143,
          -89.410143
         ],
         "marker": {
          "color": "#19d3f3",
          "size": [
           400,
           400,
           400,
           400
          ],
          "sizemode": "area",
          "sizeref": 37.625
         },
         "mode": "markers",
         "name": "Greenville College",
         "showlegend": true,
         "subplot": "mapbox",
         "type": "scattermapbox"
        },
        {
         "hovertemplate": "Customers=Hanover College<br>Number of Users=%{marker.size}<br>Lat=%{lat}<br>Long=%{lon}<extra></extra>",
         "lat": [
          38.71940900000001
         ],
         "legendgroup": "Hanover College",
         "lon": [
          -85.461254
         ],
         "marker": {
          "color": "#FF6692",
          "size": [
           70
          ],
          "sizemode": "area",
          "sizeref": 37.625
         },
         "mode": "markers",
         "name": "Hanover College",
         "showlegend": true,
         "subplot": "mapbox",
         "type": "scattermapbox"
        },
        {
         "hovertemplate": "Customers=Harding University, College of Education<br>Number of Users=%{marker.size}<br>Lat=%{lat}<br>Long=%{lon}<extra></extra>",
         "lat": [
          35.246358
         ],
         "legendgroup": "Harding University, College of Education",
         "lon": [
          -91.725751
         ],
         "marker": {
          "color": "#B6E880",
          "size": [
           400
          ],
          "sizemode": "area",
          "sizeref": 37.625
         },
         "mode": "markers",
         "name": "Harding University, College of Education",
         "showlegend": true,
         "subplot": "mapbox",
         "type": "scattermapbox"
        },
        {
         "hovertemplate": "Customers=Hawaii State Teachers Association<br>Number of Users=%{marker.size}<br>Lat=%{lat}<br>Long=%{lon}<extra></extra>",
         "lat": [
          21.36711
         ],
         "legendgroup": "Hawaii State Teachers Association",
         "lon": [
          -157.90399399999995
         ],
         "marker": {
          "color": "#FF97FF",
          "size": [
           100
          ],
          "sizemode": "area",
          "sizeref": 37.625
         },
         "mode": "markers",
         "name": "Hawaii State Teachers Association",
         "showlegend": true,
         "subplot": "mapbox",
         "type": "scattermapbox"
        },
        {
         "hovertemplate": "Customers=Heritage University<br>Number of Users=%{marker.size}<br>Lat=%{lat}<br>Long=%{lon}<extra></extra>",
         "lat": [
          46.374282
         ],
         "legendgroup": "Heritage University",
         "lon": [
          -120.395532
         ],
         "marker": {
          "color": "#FECB52",
          "size": [
           100
          ],
          "sizemode": "area",
          "sizeref": 37.625
         },
         "mode": "markers",
         "name": "Heritage University",
         "showlegend": true,
         "subplot": "mapbox",
         "type": "scattermapbox"
        },
        {
         "hovertemplate": "Customers=Hobart and William Smith Colleges<br>Number of Users=%{marker.size}<br>Lat=%{lat}<br>Long=%{lon}<extra></extra>",
         "lat": [
          42.859346
         ],
         "legendgroup": "Hobart and William Smith Colleges",
         "lon": [
          -76.985599
         ],
         "marker": {
          "color": "#636efa",
          "size": [
           60
          ],
          "sizemode": "area",
          "sizeref": 37.625
         },
         "mode": "markers",
         "name": "Hobart and William Smith Colleges",
         "showlegend": true,
         "subplot": "mapbox",
         "type": "scattermapbox"
        },
        {
         "hovertemplate": "Customers=Homewood City Schools<br>Number of Users=%{marker.size}<br>Lat=%{lat}<br>Long=%{lon}<extra></extra>",
         "lat": [
          33.47746
         ],
         "legendgroup": "Homewood City Schools",
         "lon": [
          -86.80564100000002
         ],
         "marker": {
          "color": "#EF553B",
          "size": [
           50
          ],
          "sizemode": "area",
          "sizeref": 37.625
         },
         "mode": "markers",
         "name": "Homewood City Schools",
         "showlegend": true,
         "subplot": "mapbox",
         "type": "scattermapbox"
        },
        {
         "hovertemplate": "Customers=Hope International University<br>Number of Users=%{marker.size}<br>Lat=%{lat}<br>Long=%{lon}<extra></extra>",
         "lat": [
          33.877416
         ],
         "legendgroup": "Hope International University",
         "lon": [
          -117.88516
         ],
         "marker": {
          "color": "#00cc96",
          "size": [
           150
          ],
          "sizemode": "area",
          "sizeref": 37.625
         },
         "mode": "markers",
         "name": "Hope International University",
         "showlegend": true,
         "subplot": "mapbox",
         "type": "scattermapbox"
        },
        {
         "hovertemplate": "Customers=Houghton College<br>Number of Users=%{marker.size}<br>Lat=%{lat}<br>Long=%{lon}<extra></extra>",
         "lat": [
          42.428006
         ],
         "legendgroup": "Houghton College",
         "lon": [
          -78.154758
         ],
         "marker": {
          "color": "#ab63fa",
          "size": [
           100
          ],
          "sizemode": "area",
          "sizeref": 37.625
         },
         "mode": "markers",
         "name": "Houghton College",
         "showlegend": true,
         "subplot": "mapbox",
         "type": "scattermapbox"
        },
        {
         "hovertemplate": "Customers=Hudson Valley Community College<br>Number of Users=%{marker.size}<br>Lat=%{lat}<br>Long=%{lon}<extra></extra>",
         "lat": [
          42.69664
         ],
         "legendgroup": "Hudson Valley Community College",
         "lon": [
          -73.683743
         ],
         "marker": {
          "color": "#FFA15A",
          "size": [
           10
          ],
          "sizemode": "area",
          "sizeref": 37.625
         },
         "mode": "markers",
         "name": "Hudson Valley Community College",
         "showlegend": true,
         "subplot": "mapbox",
         "type": "scattermapbox"
        },
        {
         "hovertemplate": "Customers=Humboldt State University<br>Number of Users=%{marker.size}<br>Lat=%{lat}<br>Long=%{lon}<extra></extra>",
         "lat": [
          40.874542,
          40.874542,
          40.874542
         ],
         "legendgroup": "Humboldt State University",
         "lon": [
          -124.079145,
          -124.079145,
          -124.079145
         ],
         "marker": {
          "color": "#19d3f3",
          "size": [
           285,
           285,
           285
          ],
          "sizemode": "area",
          "sizeref": 37.625
         },
         "mode": "markers",
         "name": "Humboldt State University",
         "showlegend": true,
         "subplot": "mapbox",
         "type": "scattermapbox"
        },
        {
         "hovertemplate": "Customers=Humboldt State University – Art Department<br>Number of Users=%{marker.size}<br>Lat=%{lat}<br>Long=%{lon}<extra></extra>",
         "lat": [
          40.874542
         ],
         "legendgroup": "Humboldt State University – Art Department",
         "lon": [
          -124.079145
         ],
         "marker": {
          "color": "#FF6692",
          "size": [
           50
          ],
          "sizemode": "area",
          "sizeref": 37.625
         },
         "mode": "markers",
         "name": "Humboldt State University – Art Department",
         "showlegend": true,
         "subplot": "mapbox",
         "type": "scattermapbox"
        },
        {
         "hovertemplate": "Customers=Husson University<br>Number of Users=%{marker.size}<br>Lat=%{lat}<br>Long=%{lon}<extra></extra>",
         "lat": [
          44.827225
         ],
         "legendgroup": "Husson University",
         "lon": [
          -68.791326
         ],
         "marker": {
          "color": "#B6E880",
          "size": [
           50
          ],
          "sizemode": "area",
          "sizeref": 37.625
         },
         "mode": "markers",
         "name": "Husson University",
         "showlegend": true,
         "subplot": "mapbox",
         "type": "scattermapbox"
        },
        {
         "hovertemplate": "Customers=Illinois College<br>Number of Users=%{marker.size}<br>Lat=%{lat}<br>Long=%{lon}<extra></extra>",
         "lat": [
          39.73221,
          39.73221,
          39.73221
         ],
         "legendgroup": "Illinois College",
         "lon": [
          -90.246947,
          -90.246947,
          -90.246947
         ],
         "marker": {
          "color": "#FF97FF",
          "size": [
           350,
           350,
           350
          ],
          "sizemode": "area",
          "sizeref": 37.625
         },
         "mode": "markers",
         "name": "Illinois College",
         "showlegend": true,
         "subplot": "mapbox",
         "type": "scattermapbox"
        },
        {
         "hovertemplate": "Customers=Illinois National Board Resource Center<br>Number of Users=%{marker.size}<br>Lat=%{lat}<br>Long=%{lon}<extra></extra>",
         "lat": [
          39.73221,
          39.73221
         ],
         "legendgroup": "Illinois National Board Resource Center",
         "lon": [
          -90.246947,
          -90.246947
         ],
         "marker": {
          "color": "#FECB52",
          "size": [
           350,
           350
          ],
          "sizemode": "area",
          "sizeref": 37.625
         },
         "mode": "markers",
         "name": "Illinois National Board Resource Center",
         "showlegend": true,
         "subplot": "mapbox",
         "type": "scattermapbox"
        },
        {
         "hovertemplate": "Customers=Illinois State University Board of Trustees<br>Number of Users=%{marker.size}<br>Lat=%{lat}<br>Long=%{lon}<extra></extra>",
         "lat": [
          41.5028
         ],
         "legendgroup": "Illinois State University Board of Trustees",
         "lon": [
          -87.68429300000003
         ],
         "marker": {
          "color": "#636efa",
          "size": [
           250
          ],
          "sizemode": "area",
          "sizeref": 37.625
         },
         "mode": "markers",
         "name": "Illinois State University Board of Trustees",
         "showlegend": true,
         "subplot": "mapbox",
         "type": "scattermapbox"
        },
        {
         "hovertemplate": "Customers=Indiana University Libraries<br>Number of Users=%{marker.size}<br>Lat=%{lat}<br>Long=%{lon}<extra></extra>",
         "lat": [
          39.46810900000001,
          39.46810900000001,
          39.46810900000001
         ],
         "legendgroup": "Indiana University Libraries",
         "lon": [
          -87.407427,
          -87.407427,
          -87.407427
         ],
         "marker": {
          "color": "#EF553B",
          "size": [
           1500,
           1500,
           1500
          ],
          "sizemode": "area",
          "sizeref": 37.625
         },
         "mode": "markers",
         "name": "Indiana University Libraries",
         "showlegend": true,
         "subplot": "mapbox",
         "type": "scattermapbox"
        },
        {
         "hovertemplate": "Customers=Ithaca College<br>Number of Users=%{marker.size}<br>Lat=%{lat}<br>Long=%{lon}<extra></extra>",
         "lat": [
          42.42216,
          42.42216
         ],
         "legendgroup": "Ithaca College",
         "lon": [
          -76.500039,
          -76.500039
         ],
         "marker": {
          "color": "#00cc96",
          "size": [
           400,
           400
          ],
          "sizemode": "area",
          "sizeref": 37.625
         },
         "mode": "markers",
         "name": "Ithaca College",
         "showlegend": true,
         "subplot": "mapbox",
         "type": "scattermapbox"
        },
        {
         "hovertemplate": "Customers=James Madison University College of Education<br>Number of Users=%{marker.size}<br>Lat=%{lat}<br>Long=%{lon}<extra></extra>",
         "lat": [
          38.4448,
          38.4448,
          38.4448
         ],
         "legendgroup": "James Madison University College of Education",
         "lon": [
          -78.878649,
          -78.878649,
          -78.878649
         ],
         "marker": {
          "color": "#ab63fa",
          "size": [
           2500,
           2500,
           2500
          ],
          "sizemode": "area",
          "sizeref": 37.625
         },
         "mode": "markers",
         "name": "James Madison University College of Education",
         "showlegend": true,
         "subplot": "mapbox",
         "type": "scattermapbox"
        },
        {
         "hovertemplate": "Customers=John Carroll University<br>Number of Users=%{marker.size}<br>Lat=%{lat}<br>Long=%{lon}<extra></extra>",
         "lat": [
          41.49021,
          41.49021
         ],
         "legendgroup": "John Carroll University",
         "lon": [
          -81.53125,
          -81.53125
         ],
         "marker": {
          "color": "#FFA15A",
          "size": [
           75,
           75
          ],
          "sizemode": "area",
          "sizeref": 37.625
         },
         "mode": "markers",
         "name": "John Carroll University",
         "showlegend": true,
         "subplot": "mapbox",
         "type": "scattermapbox"
        },
        {
         "hovertemplate": "Customers=John Hopkins University<br>Number of Users=%{marker.size}<br>Lat=%{lat}<br>Long=%{lon}<extra></extra>",
         "lat": [
          39.36988,
          39.36988
         ],
         "legendgroup": "John Hopkins University",
         "lon": [
          -76.654921,
          -76.654921
         ],
         "marker": {
          "color": "#19d3f3",
          "size": [
           280,
           280
          ],
          "sizemode": "area",
          "sizeref": 37.625
         },
         "mode": "markers",
         "name": "John Hopkins University",
         "showlegend": true,
         "subplot": "mapbox",
         "type": "scattermapbox"
        },
        {
         "hovertemplate": "Customers=John P. Ellbogen Foundation<br>Number of Users=%{marker.size}<br>Lat=%{lat}<br>Long=%{lon}<extra></extra>",
         "lat": [
          41.27981
         ],
         "legendgroup": "John P. Ellbogen Foundation",
         "lon": [
          -105.59022
         ],
         "marker": {
          "color": "#FF6692",
          "size": [
           50
          ],
          "sizemode": "area",
          "sizeref": 37.625
         },
         "mode": "markers",
         "name": "John P. Ellbogen Foundation",
         "showlegend": true,
         "subplot": "mapbox",
         "type": "scattermapbox"
        },
        {
         "hovertemplate": "Customers=Kansas State University<br>Number of Users=%{marker.size}<br>Lat=%{lat}<br>Long=%{lon}<extra></extra>",
         "lat": [
          39.189982,
          39.189982,
          39.189982,
          39.189982
         ],
         "legendgroup": "Kansas State University",
         "lon": [
          -96.578842,
          -96.578842,
          -96.578842,
          -96.578842
         ],
         "marker": {
          "color": "#B6E880",
          "size": [
           1550,
           1550,
           1550,
           1550
          ],
          "sizemode": "area",
          "sizeref": 37.625
         },
         "mode": "markers",
         "name": "Kansas State University",
         "showlegend": true,
         "subplot": "mapbox",
         "type": "scattermapbox"
        },
        {
         "hovertemplate": "Customers=Kennesaw State University<br>Number of Users=%{marker.size}<br>Lat=%{lat}<br>Long=%{lon}<extra></extra>",
         "lat": [
          34.033208,
          34.033208,
          34.033208,
          34.033208
         ],
         "legendgroup": "Kennesaw State University",
         "lon": [
          -84.581906,
          -84.581906,
          -84.581906,
          -84.581906
         ],
         "marker": {
          "color": "#FF97FF",
          "size": [
           285,
           285,
           285,
           285
          ],
          "sizemode": "area",
          "sizeref": 37.625
         },
         "mode": "markers",
         "name": "Kennesaw State University",
         "showlegend": true,
         "subplot": "mapbox",
         "type": "scattermapbox"
        },
        {
         "hovertemplate": "Customers=Kentucky Community & Technical College<br>Number of Users=%{marker.size}<br>Lat=%{lat}<br>Long=%{lon}<extra></extra>",
         "lat": [
          38.058479,
          38.058479
         ],
         "legendgroup": "Kentucky Community & Technical College",
         "lon": [
          -84.727961,
          -84.727961
         ],
         "marker": {
          "color": "#FECB52",
          "size": [
           2404,
           2404
          ],
          "sizemode": "area",
          "sizeref": 37.625
         },
         "mode": "markers",
         "name": "Kentucky Community & Technical College",
         "showlegend": true,
         "subplot": "mapbox",
         "type": "scattermapbox"
        },
        {
         "hovertemplate": "Customers=Kentucky EPSB<br>Number of Users=%{marker.size}<br>Lat=%{lat}<br>Long=%{lon}<extra></extra>",
         "lat": [
          38.187538
         ],
         "legendgroup": "Kentucky EPSB",
         "lon": [
          -84.84676400000002
         ],
         "marker": {
          "color": "#636efa",
          "size": [
           0
          ],
          "sizemode": "area",
          "sizeref": 37.625
         },
         "mode": "markers",
         "name": "Kentucky EPSB",
         "showlegend": true,
         "subplot": "mapbox",
         "type": "scattermapbox"
        },
        {
         "hovertemplate": "Customers=Kutztown University of Pennsylvania<br>Number of Users=%{marker.size}<br>Lat=%{lat}<br>Long=%{lon}<extra></extra>",
         "lat": [
          40.521031,
          40.521031,
          40.521031
         ],
         "legendgroup": "Kutztown University of Pennsylvania",
         "lon": [
          -75.7759,
          -75.7759,
          -75.7759
         ],
         "marker": {
          "color": "#EF553B",
          "size": [
           2950,
           2950,
           2950
          ],
          "sizemode": "area",
          "sizeref": 37.625
         },
         "mode": "markers",
         "name": "Kutztown University of Pennsylvania",
         "showlegend": true,
         "subplot": "mapbox",
         "type": "scattermapbox"
        },
        {
         "hovertemplate": "Customers=KYDOE-Educator Recruitment and Development<br>Number of Users=%{marker.size}<br>Lat=%{lat}<br>Long=%{lon}<extra></extra>",
         "lat": [
          38.184579
         ],
         "legendgroup": "KYDOE-Educator Recruitment and Development",
         "lon": [
          -84.848764
         ],
         "marker": {
          "color": "#00cc96",
          "size": [
           27
          ],
          "sizemode": "area",
          "sizeref": 37.625
         },
         "mode": "markers",
         "name": "KYDOE-Educator Recruitment and Development",
         "showlegend": true,
         "subplot": "mapbox",
         "type": "scattermapbox"
        },
        {
         "hovertemplate": "Customers=LaGrange College<br>Number of Users=%{marker.size}<br>Lat=%{lat}<br>Long=%{lon}<extra></extra>",
         "lat": [
          33.039196000000004
         ],
         "legendgroup": "LaGrange College",
         "lon": [
          -85.042635
         ],
         "marker": {
          "color": "#ab63fa",
          "size": [
           50
          ],
          "sizemode": "area",
          "sizeref": 37.625
         },
         "mode": "markers",
         "name": "LaGrange College",
         "showlegend": true,
         "subplot": "mapbox",
         "type": "scattermapbox"
        },
        {
         "hovertemplate": "Customers=Lake Havasu USD<br>Number of Users=%{marker.size}<br>Lat=%{lat}<br>Long=%{lon}<extra></extra>",
         "lat": [
          34.497007
         ],
         "legendgroup": "Lake Havasu USD",
         "lon": [
          -114.331063
         ],
         "marker": {
          "color": "#FFA15A",
          "size": [
           50
          ],
          "sizemode": "area",
          "sizeref": 37.625
         },
         "mode": "markers",
         "name": "Lake Havasu USD",
         "showlegend": true,
         "subplot": "mapbox",
         "type": "scattermapbox"
        },
        {
         "hovertemplate": "Customers=Lamar CISD<br>Number of Users=%{marker.size}<br>Lat=%{lat}<br>Long=%{lon}<extra></extra>",
         "lat": [
          29.558454
         ],
         "legendgroup": "Lamar CISD",
         "lon": [
          -95.786392
         ],
         "marker": {
          "color": "#19d3f3",
          "size": [
           200
          ],
          "sizemode": "area",
          "sizeref": 37.625
         },
         "mode": "markers",
         "name": "Lamar CISD",
         "showlegend": true,
         "subplot": "mapbox",
         "type": "scattermapbox"
        },
        {
         "hovertemplate": "Customers=Lebanon Valley College<br>Number of Users=%{marker.size}<br>Lat=%{lat}<br>Long=%{lon}<extra></extra>",
         "lat": [
          40.331722
         ],
         "legendgroup": "Lebanon Valley College",
         "lon": [
          -76.513914
         ],
         "marker": {
          "color": "#FF6692",
          "size": [
           220
          ],
          "sizemode": "area",
          "sizeref": 37.625
         },
         "mode": "markers",
         "name": "Lebanon Valley College",
         "showlegend": true,
         "subplot": "mapbox",
         "type": "scattermapbox"
        },
        {
         "hovertemplate": "Customers=Lee University School of Music<br>Number of Users=%{marker.size}<br>Lat=%{lat}<br>Long=%{lon}<extra></extra>",
         "lat": [
          35.165903
         ],
         "legendgroup": "Lee University School of Music",
         "lon": [
          -84.87142
         ],
         "marker": {
          "color": "#B6E880",
          "size": [
           30
          ],
          "sizemode": "area",
          "sizeref": 37.625
         },
         "mode": "markers",
         "name": "Lee University School of Music",
         "showlegend": true,
         "subplot": "mapbox",
         "type": "scattermapbox"
        },
        {
         "hovertemplate": "Customers=Lehigh Carbon Community College<br>Number of Users=%{marker.size}<br>Lat=%{lat}<br>Long=%{lon}<extra></extra>",
         "lat": [
          40.664274
         ],
         "legendgroup": "Lehigh Carbon Community College",
         "lon": [
          -75.612503
         ],
         "marker": {
          "color": "#FF97FF",
          "size": [
           75
          ],
          "sizemode": "area",
          "sizeref": 37.625
         },
         "mode": "markers",
         "name": "Lehigh Carbon Community College",
         "showlegend": true,
         "subplot": "mapbox",
         "type": "scattermapbox"
        },
        {
         "hovertemplate": "Customers=Lewis University<br>Number of Users=%{marker.size}<br>Lat=%{lat}<br>Long=%{lon}<extra></extra>",
         "lat": [
          41.605429,
          41.605429
         ],
         "legendgroup": "Lewis University",
         "lon": [
          -88.079822,
          -88.079822
         ],
         "marker": {
          "color": "#FECB52",
          "size": [
           200,
           200
          ],
          "sizemode": "area",
          "sizeref": 37.625
         },
         "mode": "markers",
         "name": "Lewis University",
         "showlegend": true,
         "subplot": "mapbox",
         "type": "scattermapbox"
        },
        {
         "hovertemplate": "Customers=Lorain County Community College<br>Number of Users=%{marker.size}<br>Lat=%{lat}<br>Long=%{lon}<extra></extra>",
         "lat": [
          41.41311500000001,
          41.41311500000001
         ],
         "legendgroup": "Lorain County Community College",
         "lon": [
          -82.07361800000002,
          -82.07361800000002
         ],
         "marker": {
          "color": "#636efa",
          "size": [
           150,
           150
          ],
          "sizemode": "area",
          "sizeref": 37.625
         },
         "mode": "markers",
         "name": "Lorain County Community College",
         "showlegend": true,
         "subplot": "mapbox",
         "type": "scattermapbox"
        },
        {
         "hovertemplate": "Customers=Louisiana Board of Regents<br>Number of Users=%{marker.size}<br>Lat=%{lat}<br>Long=%{lon}<extra></extra>",
         "lat": [
          30.46019,
          30.459975
         ],
         "legendgroup": "Louisiana Board of Regents",
         "lon": [
          -91.18853,
          -91.188601
         ],
         "marker": {
          "color": "#EF553B",
          "size": [
           0,
           0
          ],
          "sizemode": "area",
          "sizeref": 37.625
         },
         "mode": "markers",
         "name": "Louisiana Board of Regents",
         "showlegend": true,
         "subplot": "mapbox",
         "type": "scattermapbox"
        },
        {
         "hovertemplate": "Customers=Louisiana State University Baton Rouge<br>Number of Users=%{marker.size}<br>Lat=%{lat}<br>Long=%{lon}<extra></extra>",
         "lat": [
          30.414918,
          30.414918
         ],
         "legendgroup": "Louisiana State University Baton Rouge",
         "lon": [
          -91.180665,
          -91.180665
         ],
         "marker": {
          "color": "#00cc96",
          "size": [
           550,
           550
          ],
          "sizemode": "area",
          "sizeref": 37.625
         },
         "mode": "markers",
         "name": "Louisiana State University Baton Rouge",
         "showlegend": true,
         "subplot": "mapbox",
         "type": "scattermapbox"
        },
        {
         "hovertemplate": "Customers=Louisiana State University of Alexandria<br>Number of Users=%{marker.size}<br>Lat=%{lat}<br>Long=%{lon}<extra></extra>",
         "lat": [
          31.197474
         ],
         "legendgroup": "Louisiana State University of Alexandria",
         "lon": [
          -92.42179
         ],
         "marker": {
          "color": "#ab63fa",
          "size": [
           75
          ],
          "sizemode": "area",
          "sizeref": 37.625
         },
         "mode": "markers",
         "name": "Louisiana State University of Alexandria",
         "showlegend": true,
         "subplot": "mapbox",
         "type": "scattermapbox"
        },
        {
         "hovertemplate": "Customers=Louisiana State University Shreveport<br>Number of Users=%{marker.size}<br>Lat=%{lat}<br>Long=%{lon}<extra></extra>",
         "lat": [
          32.432158
         ],
         "legendgroup": "Louisiana State University Shreveport",
         "lon": [
          -93.701816
         ],
         "marker": {
          "color": "#FFA15A",
          "size": [
           25
          ],
          "sizemode": "area",
          "sizeref": 37.625
         },
         "mode": "markers",
         "name": "Louisiana State University Shreveport",
         "showlegend": true,
         "subplot": "mapbox",
         "type": "scattermapbox"
        },
        {
         "hovertemplate": "Customers=Louisiana Tech University<br>Number of Users=%{marker.size}<br>Lat=%{lat}<br>Long=%{lon}<extra></extra>",
         "lat": [
          32.595875
         ],
         "legendgroup": "Louisiana Tech University",
         "lon": [
          -92.609638
         ],
         "marker": {
          "color": "#19d3f3",
          "size": [
           25
          ],
          "sizemode": "area",
          "sizeref": 37.625
         },
         "mode": "markers",
         "name": "Louisiana Tech University",
         "showlegend": true,
         "subplot": "mapbox",
         "type": "scattermapbox"
        },
        {
         "hovertemplate": "Customers=Lyndonville Central School District<br>Number of Users=%{marker.size}<br>Lat=%{lat}<br>Long=%{lon}<extra></extra>",
         "lat": [
          43.323493
         ],
         "legendgroup": "Lyndonville Central School District",
         "lon": [
          -78.39410500000002
         ],
         "marker": {
          "color": "#FF6692",
          "size": [
           0
          ],
          "sizemode": "area",
          "sizeref": 37.625
         },
         "mode": "markers",
         "name": "Lyndonville Central School District",
         "showlegend": true,
         "subplot": "mapbox",
         "type": "scattermapbox"
        },
        {
         "hovertemplate": "Customers=Manhattanville College<br>Number of Users=%{marker.size}<br>Lat=%{lat}<br>Long=%{lon}<extra></extra>",
         "lat": [
          41.032181,
          41.032181,
          41.032181
         ],
         "legendgroup": "Manhattanville College",
         "lon": [
          -73.71566800000002,
          -73.71566800000002,
          -73.71566800000002
         ],
         "marker": {
          "color": "#B6E880",
          "size": [
           600,
           600,
           600
          ],
          "sizemode": "area",
          "sizeref": 37.625
         },
         "mode": "markers",
         "name": "Manhattanville College",
         "showlegend": true,
         "subplot": "mapbox",
         "type": "scattermapbox"
        },
        {
         "hovertemplate": "Customers=Maricopa CC District Rio Salado College<br>Number of Users=%{marker.size}<br>Lat=%{lat}<br>Long=%{lon}<extra></extra>",
         "lat": [
          33.412756
         ],
         "legendgroup": "Maricopa CC District Rio Salado College",
         "lon": [
          -111.974037
         ],
         "marker": {
          "color": "#FF97FF",
          "size": [
           1000
          ],
          "sizemode": "area",
          "sizeref": 37.625
         },
         "mode": "markers",
         "name": "Maricopa CC District Rio Salado College",
         "showlegend": true,
         "subplot": "mapbox",
         "type": "scattermapbox"
        },
        {
         "hovertemplate": "Customers=Marietta College<br>Number of Users=%{marker.size}<br>Lat=%{lat}<br>Long=%{lon}<extra></extra>",
         "lat": [
          39.416484,
          39.416484
         ],
         "legendgroup": "Marietta College",
         "lon": [
          -81.448914,
          -81.448914
         ],
         "marker": {
          "color": "#FECB52",
          "size": [
           122,
           122
          ],
          "sizemode": "area",
          "sizeref": 37.625
         },
         "mode": "markers",
         "name": "Marietta College",
         "showlegend": true,
         "subplot": "mapbox",
         "type": "scattermapbox"
        },
        {
         "hovertemplate": "Customers=Maryville College<br>Number of Users=%{marker.size}<br>Lat=%{lat}<br>Long=%{lon}<extra></extra>",
         "lat": [
          35.750561
         ],
         "legendgroup": "Maryville College",
         "lon": [
          -83.962582
         ],
         "marker": {
          "color": "#636efa",
          "size": [
           75
          ],
          "sizemode": "area",
          "sizeref": 37.625
         },
         "mode": "markers",
         "name": "Maryville College",
         "showlegend": true,
         "subplot": "mapbox",
         "type": "scattermapbox"
        },
        {
         "hovertemplate": "Customers=McLean County Unit District No.<br>Number of Users=%{marker.size}<br>Lat=%{lat}<br>Long=%{lon}<extra></extra>",
         "lat": [
          40.502058
         ],
         "legendgroup": "McLean County Unit District No.",
         "lon": [
          -89.021776
         ],
         "marker": {
          "color": "#EF553B",
          "size": [
           6
          ],
          "sizemode": "area",
          "sizeref": 37.625
         },
         "mode": "markers",
         "name": "McLean County Unit District No.",
         "showlegend": true,
         "subplot": "mapbox",
         "type": "scattermapbox"
        },
        {
         "hovertemplate": "Customers=Medaille College<br>Number of Users=%{marker.size}<br>Lat=%{lat}<br>Long=%{lon}<extra></extra>",
         "lat": [
          42.928868
         ],
         "legendgroup": "Medaille College",
         "lon": [
          -78.85667600000002
         ],
         "marker": {
          "color": "#00cc96",
          "size": [
           150
          ],
          "sizemode": "area",
          "sizeref": 37.625
         },
         "mode": "markers",
         "name": "Medaille College",
         "showlegend": true,
         "subplot": "mapbox",
         "type": "scattermapbox"
        },
        {
         "hovertemplate": "Customers=Mercer University<br>Number of Users=%{marker.size}<br>Lat=%{lat}<br>Long=%{lon}<extra></extra>",
         "lat": [
          32.829056,
          32.829056,
          32.829056
         ],
         "legendgroup": "Mercer University",
         "lon": [
          -83.649261,
          -83.649261,
          -83.649261
         ],
         "marker": {
          "color": "#ab63fa",
          "size": [
           750,
           750,
           750
          ],
          "sizemode": "area",
          "sizeref": 37.625
         },
         "mode": "markers",
         "name": "Mercer University",
         "showlegend": true,
         "subplot": "mapbox",
         "type": "scattermapbox"
        },
        {
         "hovertemplate": "Customers=Meredith College<br>Number of Users=%{marker.size}<br>Lat=%{lat}<br>Long=%{lon}<extra></extra>",
         "lat": [
          35.79844
         ],
         "legendgroup": "Meredith College",
         "lon": [
          -78.688283
         ],
         "marker": {
          "color": "#FFA15A",
          "size": [
           10
          ],
          "sizemode": "area",
          "sizeref": 37.625
         },
         "mode": "markers",
         "name": "Meredith College",
         "showlegend": true,
         "subplot": "mapbox",
         "type": "scattermapbox"
        },
        {
         "hovertemplate": "Customers=Metro RESA<br>Number of Users=%{marker.size}<br>Lat=%{lat}<br>Long=%{lon}<extra></extra>",
         "lat": [
          33.885073,
          33.885073
         ],
         "legendgroup": "Metro RESA",
         "lon": [
          -84.499643,
          -84.499643
         ],
         "marker": {
          "color": "#19d3f3",
          "size": [
           625,
           625
          ],
          "sizemode": "area",
          "sizeref": 37.625
         },
         "mode": "markers",
         "name": "Metro RESA",
         "showlegend": true,
         "subplot": "mapbox",
         "type": "scattermapbox"
        },
        {
         "hovertemplate": "Customers=Miami University<br>Number of Users=%{marker.size}<br>Lat=%{lat}<br>Long=%{lon}<extra></extra>",
         "lat": [
          42.820464
         ],
         "legendgroup": "Miami University",
         "lon": [
          -83.250381
         ],
         "marker": {
          "color": "#FF6692",
          "size": [
           350
          ],
          "sizemode": "area",
          "sizeref": 37.625
         },
         "mode": "markers",
         "name": "Miami University",
         "showlegend": true,
         "subplot": "mapbox",
         "type": "scattermapbox"
        },
        {
         "hovertemplate": "Customers=Miami University-Oxford<br>Number of Users=%{marker.size}<br>Lat=%{lat}<br>Long=%{lon}<extra></extra>",
         "lat": [
          39.509498
         ],
         "legendgroup": "Miami University-Oxford",
         "lon": [
          -84.734465
         ],
         "marker": {
          "color": "#B6E880",
          "size": [
           100
          ],
          "sizemode": "area",
          "sizeref": 37.625
         },
         "mode": "markers",
         "name": "Miami University-Oxford",
         "showlegend": true,
         "subplot": "mapbox",
         "type": "scattermapbox"
        },
        {
         "hovertemplate": "Customers=Middle Tennessee State University<br>Number of Users=%{marker.size}<br>Lat=%{lat}<br>Long=%{lon}<extra></extra>",
         "lat": [
          35.847744,
          35.847744
         ],
         "legendgroup": "Middle Tennessee State University",
         "lon": [
          -86.363676,
          -86.363676
         ],
         "marker": {
          "color": "#FF97FF",
          "size": [
           700,
           700
          ],
          "sizemode": "area",
          "sizeref": 37.625
         },
         "mode": "markers",
         "name": "Middle Tennessee State University",
         "showlegend": true,
         "subplot": "mapbox",
         "type": "scattermapbox"
        },
        {
         "hovertemplate": "Customers=Middlesex County College<br>Number of Users=%{marker.size}<br>Lat=%{lat}<br>Long=%{lon}<extra></extra>",
         "lat": [
          40.52848400000001
         ],
         "legendgroup": "Middlesex County College",
         "lon": [
          -74.387668
         ],
         "marker": {
          "color": "#FECB52",
          "size": [
           90
          ],
          "sizemode": "area",
          "sizeref": 37.625
         },
         "mode": "markers",
         "name": "Middlesex County College",
         "showlegend": true,
         "subplot": "mapbox",
         "type": "scattermapbox"
        },
        {
         "hovertemplate": "Customers=Midland University<br>Number of Users=%{marker.size}<br>Lat=%{lat}<br>Long=%{lon}<extra></extra>",
         "lat": [
          41.437593
         ],
         "legendgroup": "Midland University",
         "lon": [
          -96.489772
         ],
         "marker": {
          "color": "#636efa",
          "size": [
           150
          ],
          "sizemode": "area",
          "sizeref": 37.625
         },
         "mode": "markers",
         "name": "Midland University",
         "showlegend": true,
         "subplot": "mapbox",
         "type": "scattermapbox"
        },
        {
         "hovertemplate": "Customers=Millersville University of Pennsylvania<br>Number of Users=%{marker.size}<br>Lat=%{lat}<br>Long=%{lon}<extra></extra>",
         "lat": [
          40.006036
         ],
         "legendgroup": "Millersville University of Pennsylvania",
         "lon": [
          -76.360078
         ],
         "marker": {
          "color": "#EF553B",
          "size": [
           250
          ],
          "sizemode": "area",
          "sizeref": 37.625
         },
         "mode": "markers",
         "name": "Millersville University of Pennsylvania",
         "showlegend": true,
         "subplot": "mapbox",
         "type": "scattermapbox"
        },
        {
         "hovertemplate": "Customers=Milligan College<br>Number of Users=%{marker.size}<br>Lat=%{lat}<br>Long=%{lon}<extra></extra>",
         "lat": [
          36.302022,
          36.302022,
          36.302022
         ],
         "legendgroup": "Milligan College",
         "lon": [
          -82.294791,
          -82.294791,
          -82.294791
         ],
         "marker": {
          "color": "#00cc96",
          "size": [
           150,
           150,
           150
          ],
          "sizemode": "area",
          "sizeref": 37.625
         },
         "mode": "markers",
         "name": "Milligan College",
         "showlegend": true,
         "subplot": "mapbox",
         "type": "scattermapbox"
        },
        {
         "hovertemplate": "Customers=Minnesota State University Moorhead<br>Number of Users=%{marker.size}<br>Lat=%{lat}<br>Long=%{lon}<extra></extra>",
         "lat": [
          46.867375,
          46.867375
         ],
         "legendgroup": "Minnesota State University Moorhead",
         "lon": [
          -96.763939,
          -96.763939
         ],
         "marker": {
          "color": "#ab63fa",
          "size": [
           160,
           160
          ],
          "sizemode": "area",
          "sizeref": 37.625
         },
         "mode": "markers",
         "name": "Minnesota State University Moorhead",
         "showlegend": true,
         "subplot": "mapbox",
         "type": "scattermapbox"
        },
        {
         "hovertemplate": "Customers=Mississippi Dept of Education<br>Number of Users=%{marker.size}<br>Lat=%{lat}<br>Long=%{lon}<extra></extra>",
         "lat": [
          32.302802
         ],
         "legendgroup": "Mississippi Dept of Education",
         "lon": [
          -90.183909
         ],
         "marker": {
          "color": "#FFA15A",
          "size": [
           25
          ],
          "sizemode": "area",
          "sizeref": 37.625
         },
         "mode": "markers",
         "name": "Mississippi Dept of Education",
         "showlegend": true,
         "subplot": "mapbox",
         "type": "scattermapbox"
        },
        {
         "hovertemplate": "Customers=Mississippi State University<br>Number of Users=%{marker.size}<br>Lat=%{lat}<br>Long=%{lon}<extra></extra>",
         "lat": [
          33.453832
         ],
         "legendgroup": "Mississippi State University",
         "lon": [
          -88.794057
         ],
         "marker": {
          "color": "#19d3f3",
          "size": [
           75
          ],
          "sizemode": "area",
          "sizeref": 37.625
         },
         "mode": "markers",
         "name": "Mississippi State University",
         "showlegend": true,
         "subplot": "mapbox",
         "type": "scattermapbox"
        },
        {
         "hovertemplate": "Customers=Mississippi State University Meridian<br>Number of Users=%{marker.size}<br>Lat=%{lat}<br>Long=%{lon}<extra></extra>",
         "lat": [
          32.349157,
          32.349157,
          32.349157,
          32.349157
         ],
         "legendgroup": "Mississippi State University Meridian",
         "lon": [
          -88.71589300000002,
          -88.71589300000002,
          -88.71589300000002,
          -88.71589300000002
         ],
         "marker": {
          "color": "#FF6692",
          "size": [
           240,
           240,
           240,
           240
          ],
          "sizemode": "area",
          "sizeref": 37.625
         },
         "mode": "markers",
         "name": "Mississippi State University Meridian",
         "showlegend": true,
         "subplot": "mapbox",
         "type": "scattermapbox"
        },
        {
         "hovertemplate": "Customers=Mississippi State University, College of Education<br>Number of Users=%{marker.size}<br>Lat=%{lat}<br>Long=%{lon}<extra></extra>",
         "lat": [
          33.453832,
          33.453832
         ],
         "legendgroup": "Mississippi State University, College of Education",
         "lon": [
          -88.794057,
          -88.794057
         ],
         "marker": {
          "color": "#B6E880",
          "size": [
           700,
           700
          ],
          "sizemode": "area",
          "sizeref": 37.625
         },
         "mode": "markers",
         "name": "Mississippi State University, College of Education",
         "showlegend": true,
         "subplot": "mapbox",
         "type": "scattermapbox"
        },
        {
         "hovertemplate": "Customers=Modesto Junior College<br>Number of Users=%{marker.size}<br>Lat=%{lat}<br>Long=%{lon}<extra></extra>",
         "lat": [
          37.65131
         ],
         "legendgroup": "Modesto Junior College",
         "lon": [
          -121.009726
         ],
         "marker": {
          "color": "#FF97FF",
          "size": [
           150
          ],
          "sizemode": "area",
          "sizeref": 37.625
         },
         "mode": "markers",
         "name": "Modesto Junior College",
         "showlegend": true,
         "subplot": "mapbox",
         "type": "scattermapbox"
        },
        {
         "hovertemplate": "Customers=Monroe County School District<br>Number of Users=%{marker.size}<br>Lat=%{lat}<br>Long=%{lon}<extra></extra>",
         "lat": [
          33.032915
         ],
         "legendgroup": "Monroe County School District",
         "lon": [
          -83.932551
         ],
         "marker": {
          "color": "#FECB52",
          "size": [
           250
          ],
          "sizemode": "area",
          "sizeref": 37.625
         },
         "mode": "markers",
         "name": "Monroe County School District",
         "showlegend": true,
         "subplot": "mapbox",
         "type": "scattermapbox"
        },
        {
         "hovertemplate": "Customers=Montclair State University<br>Number of Users=%{marker.size}<br>Lat=%{lat}<br>Long=%{lon}<extra></extra>",
         "lat": [
          40.859162,
          40.859162,
          40.859162
         ],
         "legendgroup": "Montclair State University",
         "lon": [
          -74.198483,
          -74.198483,
          -74.198483
         ],
         "marker": {
          "color": "#636efa",
          "size": [
           556,
           556,
           556
          ],
          "sizemode": "area",
          "sizeref": 37.625
         },
         "mode": "markers",
         "name": "Montclair State University",
         "showlegend": true,
         "subplot": "mapbox",
         "type": "scattermapbox"
        },
        {
         "hovertemplate": "Customers=Morehead State University<br>Number of Users=%{marker.size}<br>Lat=%{lat}<br>Long=%{lon}<extra></extra>",
         "lat": [
          38.184921,
          38.186526,
          38.186526,
          38.184921,
          38.184921,
          38.184921
         ],
         "legendgroup": "Morehead State University",
         "lon": [
          -83.434441,
          -83.43560500000002,
          -83.43560500000002,
          -83.434441,
          -83.434441,
          -83.434441
         ],
         "marker": {
          "color": "#EF553B",
          "size": [
           800,
           800,
           800,
           800,
           800,
           800
          ],
          "sizemode": "area",
          "sizeref": 37.625
         },
         "mode": "markers",
         "name": "Morehead State University",
         "showlegend": true,
         "subplot": "mapbox",
         "type": "scattermapbox"
        },
        {
         "hovertemplate": "Customers=Morgan State University<br>Number of Users=%{marker.size}<br>Lat=%{lat}<br>Long=%{lon}<extra></extra>",
         "lat": [
          39.343077
         ],
         "legendgroup": "Morgan State University",
         "lon": [
          -76.584521
         ],
         "marker": {
          "color": "#00cc96",
          "size": [
           75
          ],
          "sizemode": "area",
          "sizeref": 37.625
         },
         "mode": "markers",
         "name": "Morgan State University",
         "showlegend": true,
         "subplot": "mapbox",
         "type": "scattermapbox"
        },
        {
         "hovertemplate": "Customers=Murray State University<br>Number of Users=%{marker.size}<br>Lat=%{lat}<br>Long=%{lon}<extra></extra>",
         "lat": [
          36.628813,
          36.628813
         ],
         "legendgroup": "Murray State University",
         "lon": [
          -88.32239100000002,
          -88.32239100000002
         ],
         "marker": {
          "color": "#ab63fa",
          "size": [
           1005,
           1005
          ],
          "sizemode": "area",
          "sizeref": 37.625
         },
         "mode": "markers",
         "name": "Murray State University",
         "showlegend": true,
         "subplot": "mapbox",
         "type": "scattermapbox"
        },
        {
         "hovertemplate": "Customers=Murrieta Valley USD<br>Number of Users=%{marker.size}<br>Lat=%{lat}<br>Long=%{lon}<extra></extra>",
         "lat": [
          33.529999,
          33.52991
         ],
         "legendgroup": "Murrieta Valley USD",
         "lon": [
          -117.185591,
          -117.18548
         ],
         "marker": {
          "color": "#FFA15A",
          "size": [
           200,
           200
          ],
          "sizemode": "area",
          "sizeref": 37.625
         },
         "mode": "markers",
         "name": "Murrieta Valley USD",
         "showlegend": true,
         "subplot": "mapbox",
         "type": "scattermapbox"
        },
        {
         "hovertemplate": "Customers=National Louis University<br>Number of Users=%{marker.size}<br>Lat=%{lat}<br>Long=%{lon}<extra></extra>",
         "lat": [
          38.219491,
          38.219491,
          38.219491
         ],
         "legendgroup": "National Louis University",
         "lon": [
          -85.757346,
          -85.757346,
          -85.757346
         ],
         "marker": {
          "color": "#19d3f3",
          "size": [
           1600,
           1600,
           1600
          ],
          "sizemode": "area",
          "sizeref": 37.625
         },
         "mode": "markers",
         "name": "National Louis University",
         "showlegend": true,
         "subplot": "mapbox",
         "type": "scattermapbox"
        },
        {
         "hovertemplate": "Customers=NC A&T State University<br>Number of Users=%{marker.size}<br>Lat=%{lat}<br>Long=%{lon}<extra></extra>",
         "lat": [
          36.072981
         ],
         "legendgroup": "NC A&T State University",
         "lon": [
          -79.772479
         ],
         "marker": {
          "color": "#FF6692",
          "size": [
           250
          ],
          "sizemode": "area",
          "sizeref": 37.625
         },
         "mode": "markers",
         "name": "NC A&T State University",
         "showlegend": true,
         "subplot": "mapbox",
         "type": "scattermapbox"
        },
        {
         "hovertemplate": "Customers=NC New Teacher Support Program<br>Number of Users=%{marker.size}<br>Lat=%{lat}<br>Long=%{lon}<extra></extra>",
         "lat": [
          35.597141,
          35.597141
         ],
         "legendgroup": "NC New Teacher Support Program",
         "lon": [
          -77.400734,
          -77.400734
         ],
         "marker": {
          "color": "#B6E880",
          "size": [
           400,
           400
          ],
          "sizemode": "area",
          "sizeref": 37.625
         },
         "mode": "markers",
         "name": "NC New Teacher Support Program",
         "showlegend": true,
         "subplot": "mapbox",
         "type": "scattermapbox"
        },
        {
         "hovertemplate": "Customers=NEA Vermont<br>Number of Users=%{marker.size}<br>Lat=%{lat}<br>Long=%{lon}<extra></extra>",
         "lat": [
          44.248238
         ],
         "legendgroup": "NEA Vermont",
         "lon": [
          -72.56259200000002
         ],
         "marker": {
          "color": "#FF97FF",
          "size": [
           0
          ],
          "sizemode": "area",
          "sizeref": 37.625
         },
         "mode": "markers",
         "name": "NEA Vermont",
         "showlegend": true,
         "subplot": "mapbox",
         "type": "scattermapbox"
        },
        {
         "hovertemplate": "Customers=New York University<br>Number of Users=%{marker.size}<br>Lat=%{lat}<br>Long=%{lon}<extra></extra>",
         "lat": [
          40.731274,
          40.731274,
          40.731274,
          40.731274
         ],
         "legendgroup": "New York University",
         "lon": [
          -73.990999,
          -73.990999,
          -73.990999,
          -73.990999
         ],
         "marker": {
          "color": "#FECB52",
          "size": [
           1000,
           1000,
           1000,
           1000
          ],
          "sizemode": "area",
          "sizeref": 37.625
         },
         "mode": "markers",
         "name": "New York University",
         "showlegend": true,
         "subplot": "mapbox",
         "type": "scattermapbox"
        },
        {
         "hovertemplate": "Customers=New York University-Steinhardt<br>Number of Users=%{marker.size}<br>Lat=%{lat}<br>Long=%{lon}<extra></extra>",
         "lat": [
          40.729393
         ],
         "legendgroup": "New York University-Steinhardt",
         "lon": [
          -73.99713
         ],
         "marker": {
          "color": "#636efa",
          "size": [
           300
          ],
          "sizemode": "area",
          "sizeref": 37.625
         },
         "mode": "markers",
         "name": "New York University-Steinhardt",
         "showlegend": true,
         "subplot": "mapbox",
         "type": "scattermapbox"
        },
        {
         "hovertemplate": "Customers=NHTI-Concord’s Community College<br>Number of Users=%{marker.size}<br>Lat=%{lat}<br>Long=%{lon}<extra></extra>",
         "lat": [
          43.224613
         ],
         "legendgroup": "NHTI-Concord’s Community College",
         "lon": [
          -71.53151700000002
         ],
         "marker": {
          "color": "#EF553B",
          "size": [
           50
          ],
          "sizemode": "area",
          "sizeref": 37.625
         },
         "mode": "markers",
         "name": "NHTI-Concord’s Community College",
         "showlegend": true,
         "subplot": "mapbox",
         "type": "scattermapbox"
        },
        {
         "hovertemplate": "Customers=Niagara University<br>Number of Users=%{marker.size}<br>Lat=%{lat}<br>Long=%{lon}<extra></extra>",
         "lat": [
          43.1364,
          43.1364,
          43.1364
         ],
         "legendgroup": "Niagara University",
         "lon": [
          -79.03545,
          -79.03545,
          -79.03545
         ],
         "marker": {
          "color": "#00cc96",
          "size": [
           310,
           310,
           310
          ],
          "sizemode": "area",
          "sizeref": 37.625
         },
         "mode": "markers",
         "name": "Niagara University",
         "showlegend": true,
         "subplot": "mapbox",
         "type": "scattermapbox"
        },
        {
         "hovertemplate": "Customers=NM NBCT Network<br>Number of Users=%{marker.size}<br>Lat=%{lat}<br>Long=%{lon}<extra></extra>",
         "lat": [
          null,
          null
         ],
         "legendgroup": "NM NBCT Network",
         "lon": [
          null,
          null
         ],
         "marker": {
          "color": "#ab63fa",
          "size": [
           400,
           400
          ],
          "sizemode": "area",
          "sizeref": 37.625
         },
         "mode": "markers",
         "name": "NM NBCT Network",
         "showlegend": true,
         "subplot": "mapbox",
         "type": "scattermapbox"
        },
        {
         "hovertemplate": "Customers=NM Northern Coalition<br>Number of Users=%{marker.size}<br>Lat=%{lat}<br>Long=%{lon}<extra></extra>",
         "lat": [
          null
         ],
         "legendgroup": "NM Northern Coalition",
         "lon": [
          null
         ],
         "marker": {
          "color": "#FFA15A",
          "size": [
           0
          ],
          "sizemode": "area",
          "sizeref": 37.625
         },
         "mode": "markers",
         "name": "NM Northern Coalition",
         "showlegend": true,
         "subplot": "mapbox",
         "type": "scattermapbox"
        },
        {
         "hovertemplate": "Customers=NM NT Santa Fe Public School<br>Number of Users=%{marker.size}<br>Lat=%{lat}<br>Long=%{lon}<extra></extra>",
         "lat": [
          35.669625,
          35.669625,
          35.669625
         ],
         "legendgroup": "NM NT Santa Fe Public School",
         "lon": [
          -105.952009,
          -105.952009,
          -105.952009
         ],
         "marker": {
          "color": "#19d3f3",
          "size": [
           60,
           60,
           60
          ],
          "sizemode": "area",
          "sizeref": 37.625
         },
         "mode": "markers",
         "name": "NM NT Santa Fe Public School",
         "showlegend": true,
         "subplot": "mapbox",
         "type": "scattermapbox"
        },
        {
         "hovertemplate": "Customers=North Carolina Central University<br>Number of Users=%{marker.size}<br>Lat=%{lat}<br>Long=%{lon}<extra></extra>",
         "lat": [
          35.969976,
          35.969976,
          35.969976
         ],
         "legendgroup": "North Carolina Central University",
         "lon": [
          -78.896305,
          -78.896305,
          -78.896305
         ],
         "marker": {
          "color": "#FF6692",
          "size": [
           500,
           500,
           500
          ],
          "sizemode": "area",
          "sizeref": 37.625
         },
         "mode": "markers",
         "name": "North Carolina Central University",
         "showlegend": true,
         "subplot": "mapbox",
         "type": "scattermapbox"
        },
        {
         "hovertemplate": "Customers=North Carolina State University<br>Number of Users=%{marker.size}<br>Lat=%{lat}<br>Long=%{lon}<extra></extra>",
         "lat": [
          35.78502,
          35.78502,
          35.78502
         ],
         "legendgroup": "North Carolina State University",
         "lon": [
          -78.66534,
          -78.66534,
          -78.66534
         ],
         "marker": {
          "color": "#B6E880",
          "size": [
           1050,
           1050,
           1050
          ],
          "sizemode": "area",
          "sizeref": 37.625
         },
         "mode": "markers",
         "name": "North Carolina State University",
         "showlegend": true,
         "subplot": "mapbox",
         "type": "scattermapbox"
        },
        {
         "hovertemplate": "Customers=North Central College<br>Number of Users=%{marker.size}<br>Lat=%{lat}<br>Long=%{lon}<extra></extra>",
         "lat": [
          41.776234
         ],
         "legendgroup": "North Central College",
         "lon": [
          -88.143287
         ],
         "marker": {
          "color": "#FF97FF",
          "size": [
           100
          ],
          "sizemode": "area",
          "sizeref": 37.625
         },
         "mode": "markers",
         "name": "North Central College",
         "showlegend": true,
         "subplot": "mapbox",
         "type": "scattermapbox"
        },
        {
         "hovertemplate": "Customers=Northampton County Public Schools<br>Number of Users=%{marker.size}<br>Lat=%{lat}<br>Long=%{lon}<extra></extra>",
         "lat": [
          37.403801,
          37.403801,
          37.403801,
          37.403801,
          37.403801
         ],
         "legendgroup": "Northampton County Public Schools",
         "lon": [
          -75.910387,
          -75.910387,
          -75.910387,
          -75.910387,
          -75.910387
         ],
         "marker": {
          "color": "#FECB52",
          "size": [
           500,
           500,
           500,
           500,
           500
          ],
          "sizemode": "area",
          "sizeref": 37.625
         },
         "mode": "markers",
         "name": "Northampton County Public Schools",
         "showlegend": true,
         "subplot": "mapbox",
         "type": "scattermapbox"
        },
        {
         "hovertemplate": "Customers=Northeastern Illinois University<br>Number of Users=%{marker.size}<br>Lat=%{lat}<br>Long=%{lon}<extra></extra>",
         "lat": [
          41.981343
         ],
         "legendgroup": "Northeastern Illinois University",
         "lon": [
          -87.718562
         ],
         "marker": {
          "color": "#636efa",
          "size": [
           500
          ],
          "sizemode": "area",
          "sizeref": 37.625
         },
         "mode": "markers",
         "name": "Northeastern Illinois University",
         "showlegend": true,
         "subplot": "mapbox",
         "type": "scattermapbox"
        },
        {
         "hovertemplate": "Customers=Northern Arizona University<br>Number of Users=%{marker.size}<br>Lat=%{lat}<br>Long=%{lon}<extra></extra>",
         "lat": [
          35.186311
         ],
         "legendgroup": "Northern Arizona University",
         "lon": [
          -111.654065
         ],
         "marker": {
          "color": "#EF553B",
          "size": [
           100
          ],
          "sizemode": "area",
          "sizeref": 37.625
         },
         "mode": "markers",
         "name": "Northern Arizona University",
         "showlegend": true,
         "subplot": "mapbox",
         "type": "scattermapbox"
        },
        {
         "hovertemplate": "Customers=Northern Illinois University<br>Number of Users=%{marker.size}<br>Lat=%{lat}<br>Long=%{lon}<extra></extra>",
         "lat": [
          41.934286
         ],
         "legendgroup": "Northern Illinois University",
         "lon": [
          -88.749661
         ],
         "marker": {
          "color": "#00cc96",
          "size": [
           738
          ],
          "sizemode": "area",
          "sizeref": 37.625
         },
         "mode": "markers",
         "name": "Northern Illinois University",
         "showlegend": true,
         "subplot": "mapbox",
         "type": "scattermapbox"
        },
        {
         "hovertemplate": "Customers=Northern Virginia Community College<br>Number of Users=%{marker.size}<br>Lat=%{lat}<br>Long=%{lon}<extra></extra>",
         "lat": [
          38.810761
         ],
         "legendgroup": "Northern Virginia Community College",
         "lon": [
          -77.513366
         ],
         "marker": {
          "color": "#ab63fa",
          "size": [
           200
          ],
          "sizemode": "area",
          "sizeref": 37.625
         },
         "mode": "markers",
         "name": "Northern Virginia Community College",
         "showlegend": true,
         "subplot": "mapbox",
         "type": "scattermapbox"
        },
        {
         "hovertemplate": "Customers=Northwestern Michigan College<br>Number of Users=%{marker.size}<br>Lat=%{lat}<br>Long=%{lon}<extra></extra>",
         "lat": [
          44.765358
         ],
         "legendgroup": "Northwestern Michigan College",
         "lon": [
          -85.585587
         ],
         "marker": {
          "color": "#FFA15A",
          "size": [
           50
          ],
          "sizemode": "area",
          "sizeref": 37.625
         },
         "mode": "markers",
         "name": "Northwestern Michigan College",
         "showlegend": true,
         "subplot": "mapbox",
         "type": "scattermapbox"
        },
        {
         "hovertemplate": "Customers=Northwestern State University<br>Number of Users=%{marker.size}<br>Lat=%{lat}<br>Long=%{lon}<extra></extra>",
         "lat": [
          31.750141,
          31.750141,
          31.750141
         ],
         "legendgroup": "Northwestern State University",
         "lon": [
          -93.097768,
          -93.097768,
          -93.097768
         ],
         "marker": {
          "color": "#19d3f3",
          "size": [
           700,
           700,
           700
          ],
          "sizemode": "area",
          "sizeref": 37.625
         },
         "mode": "markers",
         "name": "Northwestern State University",
         "showlegend": true,
         "subplot": "mapbox",
         "type": "scattermapbox"
        },
        {
         "hovertemplate": "Customers=Orange County DOE<br>Number of Users=%{marker.size}<br>Lat=%{lat}<br>Long=%{lon}<extra></extra>",
         "lat": [
          33.673152,
          33.673152,
          33.673152,
          33.673152
         ],
         "legendgroup": "Orange County DOE",
         "lon": [
          -117.880738,
          -117.880738,
          -117.880738,
          -117.880738
         ],
         "marker": {
          "color": "#FF6692",
          "size": [
           560,
           560,
           560,
           560
          ],
          "sizemode": "area",
          "sizeref": 37.625
         },
         "mode": "markers",
         "name": "Orange County DOE",
         "showlegend": true,
         "subplot": "mapbox",
         "type": "scattermapbox"
        },
        {
         "hovertemplate": "Customers=Oregon State University<br>Number of Users=%{marker.size}<br>Lat=%{lat}<br>Long=%{lon}<extra></extra>",
         "lat": [
          44.565004,
          44.565004
         ],
         "legendgroup": "Oregon State University",
         "lon": [
          -123.276064,
          -123.276064
         ],
         "marker": {
          "color": "#B6E880",
          "size": [
           500,
           500
          ],
          "sizemode": "area",
          "sizeref": 37.625
         },
         "mode": "markers",
         "name": "Oregon State University",
         "showlegend": true,
         "subplot": "mapbox",
         "type": "scattermapbox"
        },
        {
         "hovertemplate": "Customers=Ouachita Baptist University<br>Number of Users=%{marker.size}<br>Lat=%{lat}<br>Long=%{lon}<extra></extra>",
         "lat": [
          34.124993
         ],
         "legendgroup": "Ouachita Baptist University",
         "lon": [
          -93.052745
         ],
         "marker": {
          "color": "#FF97FF",
          "size": [
           57
          ],
          "sizemode": "area",
          "sizeref": 37.625
         },
         "mode": "markers",
         "name": "Ouachita Baptist University",
         "showlegend": true,
         "subplot": "mapbox",
         "type": "scattermapbox"
        },
        {
         "hovertemplate": "Customers=Pathway to Practice NC<br>Number of Users=%{marker.size}<br>Lat=%{lat}<br>Long=%{lon}<extra></extra>",
         "lat": [
          35.785701,
          35.785701
         ],
         "legendgroup": "Pathway to Practice NC",
         "lon": [
          -78.666354,
          -78.666354
         ],
         "marker": {
          "color": "#FECB52",
          "size": [
           105,
           105
          ],
          "sizemode": "area",
          "sizeref": 37.625
         },
         "mode": "markers",
         "name": "Pathway to Practice NC",
         "showlegend": true,
         "subplot": "mapbox",
         "type": "scattermapbox"
        },
        {
         "hovertemplate": "Customers=Piedmont College<br>Number of Users=%{marker.size}<br>Lat=%{lat}<br>Long=%{lon}<extra></extra>",
         "lat": [
          34.566567,
          34.566567,
          34.566567,
          34.566567,
          34.566567
         ],
         "legendgroup": "Piedmont College",
         "lon": [
          -83.54284,
          -83.54284,
          -83.54284,
          -83.54284,
          -83.54284
         ],
         "marker": {
          "color": "#636efa",
          "size": [
           1200,
           1200,
           1200,
           1200,
           1200
          ],
          "sizemode": "area",
          "sizeref": 37.625
         },
         "mode": "markers",
         "name": "Piedmont College",
         "showlegend": true,
         "subplot": "mapbox",
         "type": "scattermapbox"
        },
        {
         "hovertemplate": "Customers=Piedmont College School of Education<br>Number of Users=%{marker.size}<br>Lat=%{lat}<br>Long=%{lon}<extra></extra>",
         "lat": [
          34.566567
         ],
         "legendgroup": "Piedmont College School of Education",
         "lon": [
          -83.54284
         ],
         "marker": {
          "color": "#EF553B",
          "size": [
           250
          ],
          "sizemode": "area",
          "sizeref": 37.625
         },
         "mode": "markers",
         "name": "Piedmont College School of Education",
         "showlegend": true,
         "subplot": "mapbox",
         "type": "scattermapbox"
        },
        {
         "hovertemplate": "Customers=Pierce College<br>Number of Users=%{marker.size}<br>Lat=%{lat}<br>Long=%{lon}<extra></extra>",
         "lat": [
          34.183905,
          34.183905,
          34.183905,
          34.183905,
          34.183905
         ],
         "legendgroup": "Pierce College",
         "lon": [
          -118.575077,
          -118.575077,
          -118.575077,
          -118.575077,
          -118.575077
         ],
         "marker": {
          "color": "#00cc96",
          "size": [
           300,
           300,
           300,
           300,
           300
          ],
          "sizemode": "area",
          "sizeref": 37.625
         },
         "mode": "markers",
         "name": "Pierce College",
         "showlegend": true,
         "subplot": "mapbox",
         "type": "scattermapbox"
        },
        {
         "hovertemplate": "Customers=Pinecrest Academy of Nevada<br>Number of Users=%{marker.size}<br>Lat=%{lat}<br>Long=%{lon}<extra></extra>",
         "lat": [
          36.045904
         ],
         "legendgroup": "Pinecrest Academy of Nevada",
         "lon": [
          -114.980388
         ],
         "marker": {
          "color": "#ab63fa",
          "size": [
           6
          ],
          "sizemode": "area",
          "sizeref": 37.625
         },
         "mode": "markers",
         "name": "Pinecrest Academy of Nevada",
         "showlegend": true,
         "subplot": "mapbox",
         "type": "scattermapbox"
        },
        {
         "hovertemplate": "Customers=Pitt County School/DEEL<br>Number of Users=%{marker.size}<br>Lat=%{lat}<br>Long=%{lon}<extra></extra>",
         "lat": [
          null
         ],
         "legendgroup": "Pitt County School/DEEL",
         "lon": [
          null
         ],
         "marker": {
          "color": "#FFA15A",
          "size": [
           0
          ],
          "sizemode": "area",
          "sizeref": 37.625
         },
         "mode": "markers",
         "name": "Pitt County School/DEEL",
         "showlegend": true,
         "subplot": "mapbox",
         "type": "scattermapbox"
        },
        {
         "hovertemplate": "Customers=Portland State University<br>Number of Users=%{marker.size}<br>Lat=%{lat}<br>Long=%{lon}<extra></extra>",
         "lat": [
          45.511825,
          34.223991,
          34.223991,
          34.223991
         ],
         "legendgroup": "Portland State University",
         "lon": [
          -122.684286,
          -77.86776400000002,
          -77.86776400000002,
          -77.86776400000002
         ],
         "marker": {
          "color": "#19d3f3",
          "size": [
           545,
           545,
           545,
           545
          ],
          "sizemode": "area",
          "sizeref": 37.625
         },
         "mode": "markers",
         "name": "Portland State University",
         "showlegend": true,
         "subplot": "mapbox",
         "type": "scattermapbox"
        },
        {
         "hovertemplate": "Customers=Presbyterian College Education Department<br>Number of Users=%{marker.size}<br>Lat=%{lat}<br>Long=%{lon}<extra></extra>",
         "lat": [
          34.464605
         ],
         "legendgroup": "Presbyterian College Education Department",
         "lon": [
          -81.878445
         ],
         "marker": {
          "color": "#FF6692",
          "size": [
           50
          ],
          "sizemode": "area",
          "sizeref": 37.625
         },
         "mode": "markers",
         "name": "Presbyterian College Education Department",
         "showlegend": true,
         "subplot": "mapbox",
         "type": "scattermapbox"
        },
        {
         "hovertemplate": "Customers=Prince George’s Community College<br>Number of Users=%{marker.size}<br>Lat=%{lat}<br>Long=%{lon}<extra></extra>",
         "lat": [
          38.88952000000001,
          38.88952000000001
         ],
         "legendgroup": "Prince George’s Community College",
         "lon": [
          -76.824985,
          -76.824985
         ],
         "marker": {
          "color": "#B6E880",
          "size": [
           100,
           100
          ],
          "sizemode": "area",
          "sizeref": 37.625
         },
         "mode": "markers",
         "name": "Prince George’s Community College",
         "showlegend": true,
         "subplot": "mapbox",
         "type": "scattermapbox"
        },
        {
         "hovertemplate": "Customers=Providence College<br>Number of Users=%{marker.size}<br>Lat=%{lat}<br>Long=%{lon}<extra></extra>",
         "lat": [
          41.844141
         ],
         "legendgroup": "Providence College",
         "lon": [
          -71.43818
         ],
         "marker": {
          "color": "#FF97FF",
          "size": [
           150
          ],
          "sizemode": "area",
          "sizeref": 37.625
         },
         "mode": "markers",
         "name": "Providence College",
         "showlegend": true,
         "subplot": "mapbox",
         "type": "scattermapbox"
        },
        {
         "hovertemplate": "Customers=Purdue University<br>Number of Users=%{marker.size}<br>Lat=%{lat}<br>Long=%{lon}<extra></extra>",
         "lat": [
          40.424396
         ],
         "legendgroup": "Purdue University",
         "lon": [
          -86.912772
         ],
         "marker": {
          "color": "#FECB52",
          "size": [
           100
          ],
          "sizemode": "area",
          "sizeref": 37.625
         },
         "mode": "markers",
         "name": "Purdue University",
         "showlegend": true,
         "subplot": "mapbox",
         "type": "scattermapbox"
        },
        {
         "hovertemplate": "Customers=Purdue University Fort Wayne<br>Number of Users=%{marker.size}<br>Lat=%{lat}<br>Long=%{lon}<extra></extra>",
         "lat": [
          41.114557
         ],
         "legendgroup": "Purdue University Fort Wayne",
         "lon": [
          -85.116866
         ],
         "marker": {
          "color": "#636efa",
          "size": [
           350
          ],
          "sizemode": "area",
          "sizeref": 37.625
         },
         "mode": "markers",
         "name": "Purdue University Fort Wayne",
         "showlegend": true,
         "subplot": "mapbox",
         "type": "scattermapbox"
        },
        {
         "hovertemplate": "Customers=Radford University<br>Number of Users=%{marker.size}<br>Lat=%{lat}<br>Long=%{lon}<extra></extra>",
         "lat": [
          37.137908
         ],
         "legendgroup": "Radford University",
         "lon": [
          -80.546811
         ],
         "marker": {
          "color": "#EF553B",
          "size": [
           300
          ],
          "sizemode": "area",
          "sizeref": 37.625
         },
         "mode": "markers",
         "name": "Radford University",
         "showlegend": true,
         "subplot": "mapbox",
         "type": "scattermapbox"
        },
        {
         "hovertemplate": "Customers=Ramapo College<br>Number of Users=%{marker.size}<br>Lat=%{lat}<br>Long=%{lon}<extra></extra>",
         "lat": [
          41.080636
         ],
         "legendgroup": "Ramapo College",
         "lon": [
          -74.17364
         ],
         "marker": {
          "color": "#00cc96",
          "size": [
           10
          ],
          "sizemode": "area",
          "sizeref": 37.625
         },
         "mode": "markers",
         "name": "Ramapo College",
         "showlegend": true,
         "subplot": "mapbox",
         "type": "scattermapbox"
        },
        {
         "hovertemplate": "Customers=Region  Education Service Ctr<br>Number of Users=%{marker.size}<br>Lat=%{lat}<br>Long=%{lon}<extra></extra>",
         "lat": [
          29.849649
         ],
         "legendgroup": "Region  Education Service Ctr",
         "lon": [
          -95.498476
         ],
         "marker": {
          "color": "#ab63fa",
          "size": [
           50
          ],
          "sizemode": "area",
          "sizeref": 37.625
         },
         "mode": "markers",
         "name": "Region  Education Service Ctr",
         "showlegend": true,
         "subplot": "mapbox",
         "type": "scattermapbox"
        },
        {
         "hovertemplate": "Customers=Reinhardt University<br>Number of Users=%{marker.size}<br>Lat=%{lat}<br>Long=%{lon}<extra></extra>",
         "lat": [
          34.318626
         ],
         "legendgroup": "Reinhardt University",
         "lon": [
          -84.554344
         ],
         "marker": {
          "color": "#FFA15A",
          "size": [
           80
          ],
          "sizemode": "area",
          "sizeref": 37.625
         },
         "mode": "markers",
         "name": "Reinhardt University",
         "showlegend": true,
         "subplot": "mapbox",
         "type": "scattermapbox"
        },
        {
         "hovertemplate": "Customers=Rhodes College<br>Number of Users=%{marker.size}<br>Lat=%{lat}<br>Long=%{lon}<extra></extra>",
         "lat": [
          35.141185
         ],
         "legendgroup": "Rhodes College",
         "lon": [
          -89.98176600000002
         ],
         "marker": {
          "color": "#19d3f3",
          "size": [
           100
          ],
          "sizemode": "area",
          "sizeref": 37.625
         },
         "mode": "markers",
         "name": "Rhodes College",
         "showlegend": true,
         "subplot": "mapbox",
         "type": "scattermapbox"
        },
        {
         "hovertemplate": "Customers=Richland Elementary School<br>Number of Users=%{marker.size}<br>Lat=%{lat}<br>Long=%{lon}<extra></extra>",
         "lat": [
          32.214126
         ],
         "legendgroup": "Richland Elementary School",
         "lon": [
          -90.165412
         ],
         "marker": {
          "color": "#FF6692",
          "size": [
           10
          ],
          "sizemode": "area",
          "sizeref": 37.625
         },
         "mode": "markers",
         "name": "Richland Elementary School",
         "showlegend": true,
         "subplot": "mapbox",
         "type": "scattermapbox"
        },
        {
         "hovertemplate": "Customers=Rider University<br>Number of Users=%{marker.size}<br>Lat=%{lat}<br>Long=%{lon}<extra></extra>",
         "lat": [
          40.278681
         ],
         "legendgroup": "Rider University",
         "lon": [
          -74.73614
         ],
         "marker": {
          "color": "#B6E880",
          "size": [
           300
          ],
          "sizemode": "area",
          "sizeref": 37.625
         },
         "mode": "markers",
         "name": "Rider University",
         "showlegend": true,
         "subplot": "mapbox",
         "type": "scattermapbox"
        },
        {
         "hovertemplate": "Customers=Rio Salado College<br>Number of Users=%{marker.size}<br>Lat=%{lat}<br>Long=%{lon}<extra></extra>",
         "lat": [
          33.412756
         ],
         "legendgroup": "Rio Salado College",
         "lon": [
          -111.974037
         ],
         "marker": {
          "color": "#FF97FF",
          "size": [
           1000
          ],
          "sizemode": "area",
          "sizeref": 37.625
         },
         "mode": "markers",
         "name": "Rio Salado College",
         "showlegend": true,
         "subplot": "mapbox",
         "type": "scattermapbox"
        },
        {
         "hovertemplate": "Customers=Ripon College<br>Number of Users=%{marker.size}<br>Lat=%{lat}<br>Long=%{lon}<extra></extra>",
         "lat": [
          43.840337
         ],
         "legendgroup": "Ripon College",
         "lon": [
          -88.821084
         ],
         "marker": {
          "color": "#FECB52",
          "size": [
           40
          ],
          "sizemode": "area",
          "sizeref": 37.625
         },
         "mode": "markers",
         "name": "Ripon College",
         "showlegend": true,
         "subplot": "mapbox",
         "type": "scattermapbox"
        },
        {
         "hovertemplate": "Customers=Rochester Institute of Technology<br>Number of Users=%{marker.size}<br>Lat=%{lat}<br>Long=%{lon}<extra></extra>",
         "lat": [
          43.08642800000001
         ],
         "legendgroup": "Rochester Institute of Technology",
         "lon": [
          -77.669156
         ],
         "marker": {
          "color": "#636efa",
          "size": [
           10
          ],
          "sizemode": "area",
          "sizeref": 37.625
         },
         "mode": "markers",
         "name": "Rochester Institute of Technology",
         "showlegend": true,
         "subplot": "mapbox",
         "type": "scattermapbox"
        },
        {
         "hovertemplate": "Customers=Roosevelt University<br>Number of Users=%{marker.size}<br>Lat=%{lat}<br>Long=%{lon}<extra></extra>",
         "lat": [
          41.87599,
          41.87599
         ],
         "legendgroup": "Roosevelt University",
         "lon": [
          -87.624897,
          -87.624897
         ],
         "marker": {
          "color": "#EF553B",
          "size": [
           250,
           250
          ],
          "sizemode": "area",
          "sizeref": 37.625
         },
         "mode": "markers",
         "name": "Roosevelt University",
         "showlegend": true,
         "subplot": "mapbox",
         "type": "scattermapbox"
        },
        {
         "hovertemplate": "Customers=Rowan College South Jersey<br>Number of Users=%{marker.size}<br>Lat=%{lat}<br>Long=%{lon}<extra></extra>",
         "lat": [
          39.782005
         ],
         "legendgroup": "Rowan College South Jersey",
         "lon": [
          -75.123172
         ],
         "marker": {
          "color": "#00cc96",
          "size": [
           0
          ],
          "sizemode": "area",
          "sizeref": 37.625
         },
         "mode": "markers",
         "name": "Rowan College South Jersey",
         "showlegend": true,
         "subplot": "mapbox",
         "type": "scattermapbox"
        },
        {
         "hovertemplate": "Customers=Rowan University<br>Number of Users=%{marker.size}<br>Lat=%{lat}<br>Long=%{lon}<extra></extra>",
         "lat": [
          39.709696
         ],
         "legendgroup": "Rowan University",
         "lon": [
          -75.120704
         ],
         "marker": {
          "color": "#ab63fa",
          "size": [
           0
          ],
          "sizemode": "area",
          "sizeref": 37.625
         },
         "mode": "markers",
         "name": "Rowan University",
         "showlegend": true,
         "subplot": "mapbox",
         "type": "scattermapbox"
        },
        {
         "hovertemplate": "Customers=Rutgers University Graduate School of Education<br>Number of Users=%{marker.size}<br>Lat=%{lat}<br>Long=%{lon}<extra></extra>",
         "lat": [
          40.501913
         ],
         "legendgroup": "Rutgers University Graduate School of Education",
         "lon": [
          -74.446621
         ],
         "marker": {
          "color": "#FFA15A",
          "size": [
           300
          ],
          "sizemode": "area",
          "sizeref": 37.625
         },
         "mode": "markers",
         "name": "Rutgers University Graduate School of Education",
         "showlegend": true,
         "subplot": "mapbox",
         "type": "scattermapbox"
        },
        {
         "hovertemplate": "Customers=Saint Andrew's School<br>Number of Users=%{marker.size}<br>Lat=%{lat}<br>Long=%{lon}<extra></extra>",
         "lat": [
          26.384204
         ],
         "legendgroup": "Saint Andrew's School",
         "lon": [
          -80.14575
         ],
         "marker": {
          "color": "#19d3f3",
          "size": [
           100
          ],
          "sizemode": "area",
          "sizeref": 37.625
         },
         "mode": "markers",
         "name": "Saint Andrew's School",
         "showlegend": true,
         "subplot": "mapbox",
         "type": "scattermapbox"
        },
        {
         "hovertemplate": "Customers=Saint Catherine University<br>Number of Users=%{marker.size}<br>Lat=%{lat}<br>Long=%{lon}<extra></extra>",
         "lat": [
          44.924757
         ],
         "legendgroup": "Saint Catherine University",
         "lon": [
          -93.183214
         ],
         "marker": {
          "color": "#FF6692",
          "size": [
           11
          ],
          "sizemode": "area",
          "sizeref": 37.625
         },
         "mode": "markers",
         "name": "Saint Catherine University",
         "showlegend": true,
         "subplot": "mapbox",
         "type": "scattermapbox"
        },
        {
         "hovertemplate": "Customers=Saint Joseph’s College of Maine<br>Number of Users=%{marker.size}<br>Lat=%{lat}<br>Long=%{lon}<extra></extra>",
         "lat": [
          43.826541,
          43.826541
         ],
         "legendgroup": "Saint Joseph’s College of Maine",
         "lon": [
          -70.48047199999998,
          -70.48047199999998
         ],
         "marker": {
          "color": "#B6E880",
          "size": [
           125,
           125
          ],
          "sizemode": "area",
          "sizeref": 37.625
         },
         "mode": "markers",
         "name": "Saint Joseph’s College of Maine",
         "showlegend": true,
         "subplot": "mapbox",
         "type": "scattermapbox"
        },
        {
         "hovertemplate": "Customers=Saint Joseph’s University<br>Number of Users=%{marker.size}<br>Lat=%{lat}<br>Long=%{lon}<extra></extra>",
         "lat": [
          39.975266,
          39.975266
         ],
         "legendgroup": "Saint Joseph’s University",
         "lon": [
          -75.279752,
          -75.279752
         ],
         "marker": {
          "color": "#FF97FF",
          "size": [
           302,
           302
          ],
          "sizemode": "area",
          "sizeref": 37.625
         },
         "mode": "markers",
         "name": "Saint Joseph’s University",
         "showlegend": true,
         "subplot": "mapbox",
         "type": "scattermapbox"
        },
        {
         "hovertemplate": "Customers=Saint Xavier University<br>Number of Users=%{marker.size}<br>Lat=%{lat}<br>Long=%{lon}<extra></extra>",
         "lat": [
          41.707169,
          41.707169,
          41.707169
         ],
         "legendgroup": "Saint Xavier University",
         "lon": [
          -87.713854,
          -87.713854,
          -87.713854
         ],
         "marker": {
          "color": "#FECB52",
          "size": [
           190,
           190,
           190
          ],
          "sizemode": "area",
          "sizeref": 37.625
         },
         "mode": "markers",
         "name": "Saint Xavier University",
         "showlegend": true,
         "subplot": "mapbox",
         "type": "scattermapbox"
        },
        {
         "hovertemplate": "Customers=Salem University<br>Number of Users=%{marker.size}<br>Lat=%{lat}<br>Long=%{lon}<extra></extra>",
         "lat": [
          39.283545
         ],
         "legendgroup": "Salem University",
         "lon": [
          -80.567163
         ],
         "marker": {
          "color": "#636efa",
          "size": [
           100
          ],
          "sizemode": "area",
          "sizeref": 37.625
         },
         "mode": "markers",
         "name": "Salem University",
         "showlegend": true,
         "subplot": "mapbox",
         "type": "scattermapbox"
        },
        {
         "hovertemplate": "Customers=Salisbury University<br>Number of Users=%{marker.size}<br>Lat=%{lat}<br>Long=%{lon}<extra></extra>",
         "lat": [
          38.347213
         ],
         "legendgroup": "Salisbury University",
         "lon": [
          -75.604945
         ],
         "marker": {
          "color": "#EF553B",
          "size": [
           500
          ],
          "sizemode": "area",
          "sizeref": 37.625
         },
         "mode": "markers",
         "name": "Salisbury University",
         "showlegend": true,
         "subplot": "mapbox",
         "type": "scattermapbox"
        },
        {
         "hovertemplate": "Customers=Salve Regina University<br>Number of Users=%{marker.size}<br>Lat=%{lat}<br>Long=%{lon}<extra></extra>",
         "lat": [
          41.473756,
          41.473756
         ],
         "legendgroup": "Salve Regina University",
         "lon": [
          -71.299017,
          -71.299017
         ],
         "marker": {
          "color": "#00cc96",
          "size": [
           35,
           35
          ],
          "sizemode": "area",
          "sizeref": 37.625
         },
         "mode": "markers",
         "name": "Salve Regina University",
         "showlegend": true,
         "subplot": "mapbox",
         "type": "scattermapbox"
        },
        {
         "hovertemplate": "Customers=Sam Houston State University<br>Number of Users=%{marker.size}<br>Lat=%{lat}<br>Long=%{lon}<extra></extra>",
         "lat": [
          30.708564000000006,
          30.708564000000006
         ],
         "legendgroup": "Sam Houston State University",
         "lon": [
          -95.546707,
          -95.546707
         ],
         "marker": {
          "color": "#ab63fa",
          "size": [
           150,
           150
          ],
          "sizemode": "area",
          "sizeref": 37.625
         },
         "mode": "markers",
         "name": "Sam Houston State University",
         "showlegend": true,
         "subplot": "mapbox",
         "type": "scattermapbox"
        },
        {
         "hovertemplate": "Customers=San Jose State University<br>Number of Users=%{marker.size}<br>Lat=%{lat}<br>Long=%{lon}<extra></extra>",
         "lat": [
          37.334492,
          37.334492,
          37.334492,
          37.334492,
          37.334492
         ],
         "legendgroup": "San Jose State University",
         "lon": [
          -121.879842,
          -121.879842,
          -121.879842,
          -121.879842,
          -121.879842
         ],
         "marker": {
          "color": "#FFA15A",
          "size": [
           920,
           920,
           920,
           920,
           920
          ],
          "sizemode": "area",
          "sizeref": 37.625
         },
         "mode": "markers",
         "name": "San Jose State University",
         "showlegend": true,
         "subplot": "mapbox",
         "type": "scattermapbox"
        },
        {
         "hovertemplate": "Customers=Santa Rosa County District Schools<br>Number of Users=%{marker.size}<br>Lat=%{lat}<br>Long=%{lon}<extra></extra>",
         "lat": [
          30.60431,
          30.60431
         ],
         "legendgroup": "Santa Rosa County District Schools",
         "lon": [
          -87.072233,
          -87.072233
         ],
         "marker": {
          "color": "#19d3f3",
          "size": [
           500,
           500
          ],
          "sizemode": "area",
          "sizeref": 37.625
         },
         "mode": "markers",
         "name": "Santa Rosa County District Schools",
         "showlegend": true,
         "subplot": "mapbox",
         "type": "scattermapbox"
        },
        {
         "hovertemplate": "Customers=SDCOE<br>Number of Users=%{marker.size}<br>Lat=%{lat}<br>Long=%{lon}<extra></extra>",
         "lat": [
          null
         ],
         "legendgroup": "SDCOE",
         "lon": [
          null
         ],
         "marker": {
          "color": "#FF6692",
          "size": [
           110
          ],
          "sizemode": "area",
          "sizeref": 37.625
         },
         "mode": "markers",
         "name": "SDCOE",
         "showlegend": true,
         "subplot": "mapbox",
         "type": "scattermapbox"
        },
        {
         "hovertemplate": "Customers=Seattle University<br>Number of Users=%{marker.size}<br>Lat=%{lat}<br>Long=%{lon}<extra></extra>",
         "lat": [
          47.610656,
          47.610656
         ],
         "legendgroup": "Seattle University",
         "lon": [
          -122.317113,
          -122.317113
         ],
         "marker": {
          "color": "#B6E880",
          "size": [
           150,
           150
          ],
          "sizemode": "area",
          "sizeref": 37.625
         },
         "mode": "markers",
         "name": "Seattle University",
         "showlegend": true,
         "subplot": "mapbox",
         "type": "scattermapbox"
        },
        {
         "hovertemplate": "Customers=Seton Hall University<br>Number of Users=%{marker.size}<br>Lat=%{lat}<br>Long=%{lon}<extra></extra>",
         "lat": [
          40.74334
         ],
         "legendgroup": "Seton Hall University",
         "lon": [
          -74.24659399999999
         ],
         "marker": {
          "color": "#FF97FF",
          "size": [
           280
          ],
          "sizemode": "area",
          "sizeref": 37.625
         },
         "mode": "markers",
         "name": "Seton Hall University",
         "showlegend": true,
         "subplot": "mapbox",
         "type": "scattermapbox"
        },
        {
         "hovertemplate": "Customers=Shippensburg University<br>Number of Users=%{marker.size}<br>Lat=%{lat}<br>Long=%{lon}<extra></extra>",
         "lat": [
          40.057891
         ],
         "legendgroup": "Shippensburg University",
         "lon": [
          -77.52251700000002
         ],
         "marker": {
          "color": "#FECB52",
          "size": [
           350
          ],
          "sizemode": "area",
          "sizeref": 37.625
         },
         "mode": "markers",
         "name": "Shippensburg University",
         "showlegend": true,
         "subplot": "mapbox",
         "type": "scattermapbox"
        },
        {
         "hovertemplate": "Customers=Shorter University<br>Number of Users=%{marker.size}<br>Lat=%{lat}<br>Long=%{lon}<extra></extra>",
         "lat": [
          34.263421,
          34.263421
         ],
         "legendgroup": "Shorter University",
         "lon": [
          -85.189688,
          -85.189688
         ],
         "marker": {
          "color": "#636efa",
          "size": [
           0,
           0
          ],
          "sizemode": "area",
          "sizeref": 37.625
         },
         "mode": "markers",
         "name": "Shorter University",
         "showlegend": true,
         "subplot": "mapbox",
         "type": "scattermapbox"
        },
        {
         "hovertemplate": "Customers=Siena College<br>Number of Users=%{marker.size}<br>Lat=%{lat}<br>Long=%{lon}<extra></extra>",
         "lat": [
          42.717815,
          42.717815
         ],
         "legendgroup": "Siena College",
         "lon": [
          -73.75171,
          -73.75171
         ],
         "marker": {
          "color": "#EF553B",
          "size": [
           255,
           255
          ],
          "sizemode": "area",
          "sizeref": 37.625
         },
         "mode": "markers",
         "name": "Siena College",
         "showlegend": true,
         "subplot": "mapbox",
         "type": "scattermapbox"
        },
        {
         "hovertemplate": "Customers=Skidmore College<br>Number of Users=%{marker.size}<br>Lat=%{lat}<br>Long=%{lon}<extra></extra>",
         "lat": [
          43.097673,
          43.097673
         ],
         "legendgroup": "Skidmore College",
         "lon": [
          -73.78331899999998,
          -73.78331899999998
         ],
         "marker": {
          "color": "#00cc96",
          "size": [
           70,
           70
          ],
          "sizemode": "area",
          "sizeref": 37.625
         },
         "mode": "markers",
         "name": "Skidmore College",
         "showlegend": true,
         "subplot": "mapbox",
         "type": "scattermapbox"
        },
        {
         "hovertemplate": "Customers=South Australia DOE<br>Number of Users=%{marker.size}<br>Lat=%{lat}<br>Long=%{lon}<extra></extra>",
         "lat": [
          -34.927341
         ],
         "legendgroup": "South Australia DOE",
         "lon": [
          138.602002
         ],
         "marker": {
          "color": "#ab63fa",
          "size": [
           50
          ],
          "sizemode": "area",
          "sizeref": 37.625
         },
         "mode": "markers",
         "name": "South Australia DOE",
         "showlegend": true,
         "subplot": "mapbox",
         "type": "scattermapbox"
        },
        {
         "hovertemplate": "Customers=South College<br>Number of Users=%{marker.size}<br>Lat=%{lat}<br>Long=%{lon}<extra></extra>",
         "lat": [
          35.958371
         ],
         "legendgroup": "South College",
         "lon": [
          -83.973472
         ],
         "marker": {
          "color": "#FFA15A",
          "size": [
           4
          ],
          "sizemode": "area",
          "sizeref": 37.625
         },
         "mode": "markers",
         "name": "South College",
         "showlegend": true,
         "subplot": "mapbox",
         "type": "scattermapbox"
        },
        {
         "hovertemplate": "Customers=Southeast KCTCS<br>Number of Users=%{marker.size}<br>Lat=%{lat}<br>Long=%{lon}<extra></extra>",
         "lat": [
          36.810853,
          36.810853
         ],
         "legendgroup": "Southeast KCTCS",
         "lon": [
          -83.31662,
          -83.31662
         ],
         "marker": {
          "color": "#19d3f3",
          "size": [
           105,
           105
          ],
          "sizemode": "area",
          "sizeref": 37.625
         },
         "mode": "markers",
         "name": "Southeast KCTCS",
         "showlegend": true,
         "subplot": "mapbox",
         "type": "scattermapbox"
        },
        {
         "hovertemplate": "Customers=Southeast Missouri State University<br>Number of Users=%{marker.size}<br>Lat=%{lat}<br>Long=%{lon}<extra></extra>",
         "lat": [
          37.315867
         ],
         "legendgroup": "Southeast Missouri State University",
         "lon": [
          -89.529422
         ],
         "marker": {
          "color": "#FF6692",
          "size": [
           580
          ],
          "sizemode": "area",
          "sizeref": 37.625
         },
         "mode": "markers",
         "name": "Southeast Missouri State University",
         "showlegend": true,
         "subplot": "mapbox",
         "type": "scattermapbox"
        },
        {
         "hovertemplate": "Customers=Southeast South-Central Education Cooperative<br>Number of Users=%{marker.size}<br>Lat=%{lat}<br>Long=%{lon}<extra></extra>",
         "lat": [
          37.756893,
          37.756893,
          37.756893,
          37.756893
         ],
         "legendgroup": "Southeast South-Central Education Cooperative",
         "lon": [
          -84.299737,
          -84.299737,
          -84.299737,
          -84.299737
         ],
         "marker": {
          "color": "#B6E880",
          "size": [
           392,
           392,
           392,
           392
          ],
          "sizemode": "area",
          "sizeref": 37.625
         },
         "mode": "markers",
         "name": "Southeast South-Central Education Cooperative",
         "showlegend": true,
         "subplot": "mapbox",
         "type": "scattermapbox"
        },
        {
         "hovertemplate": "Customers=Southern Adventist University<br>Number of Users=%{marker.size}<br>Lat=%{lat}<br>Long=%{lon}<extra></extra>",
         "lat": [
          35.053059999999995,
          35.053059999999995
         ],
         "legendgroup": "Southern Adventist University",
         "lon": [
          -85.05028,
          -85.05028
         ],
         "marker": {
          "color": "#FF97FF",
          "size": [
           200,
           200
          ],
          "sizemode": "area",
          "sizeref": 37.625
         },
         "mode": "markers",
         "name": "Southern Adventist University",
         "showlegend": true,
         "subplot": "mapbox",
         "type": "scattermapbox"
        },
        {
         "hovertemplate": "Customers=Southern Connecticut State University<br>Number of Users=%{marker.size}<br>Lat=%{lat}<br>Long=%{lon}<extra></extra>",
         "lat": [
          41.331619,
          41.331619
         ],
         "legendgroup": "Southern Connecticut State University",
         "lon": [
          -72.946852,
          -72.946852
         ],
         "marker": {
          "color": "#FECB52",
          "size": [
           0,
           0
          ],
          "sizemode": "area",
          "sizeref": 37.625
         },
         "mode": "markers",
         "name": "Southern Connecticut State University",
         "showlegend": true,
         "subplot": "mapbox",
         "type": "scattermapbox"
        },
        {
         "hovertemplate": "Customers=Southern Illinois University Carbondale<br>Number of Users=%{marker.size}<br>Lat=%{lat}<br>Long=%{lon}<extra></extra>",
         "lat": [
          37.717467,
          37.717467
         ],
         "legendgroup": "Southern Illinois University Carbondale",
         "lon": [
          -89.223262,
          -89.223262
         ],
         "marker": {
          "color": "#636efa",
          "size": [
           300,
           300
          ],
          "sizemode": "area",
          "sizeref": 37.625
         },
         "mode": "markers",
         "name": "Southern Illinois University Carbondale",
         "showlegend": true,
         "subplot": "mapbox",
         "type": "scattermapbox"
        },
        {
         "hovertemplate": "Customers=Southern Illinois University Edwardsville<br>Number of Users=%{marker.size}<br>Lat=%{lat}<br>Long=%{lon}<extra></extra>",
         "lat": [
          38.793047
         ],
         "legendgroup": "Southern Illinois University Edwardsville",
         "lon": [
          -89.99547199999998
         ],
         "marker": {
          "color": "#EF553B",
          "size": [
           320
          ],
          "sizemode": "area",
          "sizeref": 37.625
         },
         "mode": "markers",
         "name": "Southern Illinois University Edwardsville",
         "showlegend": true,
         "subplot": "mapbox",
         "type": "scattermapbox"
        },
        {
         "hovertemplate": "Customers=Southern New Hampshire University<br>Number of Users=%{marker.size}<br>Lat=%{lat}<br>Long=%{lon}<extra></extra>",
         "lat": [
          43.039739
         ],
         "legendgroup": "Southern New Hampshire University",
         "lon": [
          -71.454722
         ],
         "marker": {
          "color": "#00cc96",
          "size": [
           0
          ],
          "sizemode": "area",
          "sizeref": 37.625
         },
         "mode": "markers",
         "name": "Southern New Hampshire University",
         "showlegend": true,
         "subplot": "mapbox",
         "type": "scattermapbox"
        },
        {
         "hovertemplate": "Customers=Southern University at New Orleans<br>Number of Users=%{marker.size}<br>Lat=%{lat}<br>Long=%{lon}<extra></extra>",
         "lat": [
          30.025674
         ],
         "legendgroup": "Southern University at New Orleans",
         "lon": [
          -90.044837
         ],
         "marker": {
          "color": "#ab63fa",
          "size": [
           50
          ],
          "sizemode": "area",
          "sizeref": 37.625
         },
         "mode": "markers",
         "name": "Southern University at New Orleans",
         "showlegend": true,
         "subplot": "mapbox",
         "type": "scattermapbox"
        },
        {
         "hovertemplate": "Customers=Spelman College<br>Number of Users=%{marker.size}<br>Lat=%{lat}<br>Long=%{lon}<extra></extra>",
         "lat": [
          33.745248
         ],
         "legendgroup": "Spelman College",
         "lon": [
          -84.411351
         ],
         "marker": {
          "color": "#FFA15A",
          "size": [
           40
          ],
          "sizemode": "area",
          "sizeref": 37.625
         },
         "mode": "markers",
         "name": "Spelman College",
         "showlegend": true,
         "subplot": "mapbox",
         "type": "scattermapbox"
        },
        {
         "hovertemplate": "Customers=Springfield College<br>Number of Users=%{marker.size}<br>Lat=%{lat}<br>Long=%{lon}<extra></extra>",
         "lat": [
          42.100944
         ],
         "legendgroup": "Springfield College",
         "lon": [
          -72.557038
         ],
         "marker": {
          "color": "#19d3f3",
          "size": [
           100
          ],
          "sizemode": "area",
          "sizeref": 37.625
         },
         "mode": "markers",
         "name": "Springfield College",
         "showlegend": true,
         "subplot": "mapbox",
         "type": "scattermapbox"
        },
        {
         "hovertemplate": "Customers=St. Bonaventure University-School of Education<br>Number of Users=%{marker.size}<br>Lat=%{lat}<br>Long=%{lon}<extra></extra>",
         "lat": [
          42.08068,
          42.08068
         ],
         "legendgroup": "St. Bonaventure University-School of Education",
         "lon": [
          -78.48354300000003,
          -78.48354300000003
         ],
         "marker": {
          "color": "#FF6692",
          "size": [
           460,
           460
          ],
          "sizemode": "area",
          "sizeref": 37.625
         },
         "mode": "markers",
         "name": "St. Bonaventure University-School of Education",
         "showlegend": true,
         "subplot": "mapbox",
         "type": "scattermapbox"
        },
        {
         "hovertemplate": "Customers=St. Louis Community College<br>Number of Users=%{marker.size}<br>Lat=%{lat}<br>Long=%{lon}<extra></extra>",
         "lat": [
          38.7503
         ],
         "legendgroup": "St. Louis Community College",
         "lon": [
          -90.427725
         ],
         "marker": {
          "color": "#B6E880",
          "size": [
           80
          ],
          "sizemode": "area",
          "sizeref": 37.625
         },
         "mode": "markers",
         "name": "St. Louis Community College",
         "showlegend": true,
         "subplot": "mapbox",
         "type": "scattermapbox"
        },
        {
         "hovertemplate": "Customers=ST. Mary's College of Maryland<br>Number of Users=%{marker.size}<br>Lat=%{lat}<br>Long=%{lon}<extra></extra>",
         "lat": [
          38.190601,
          38.188827
         ],
         "legendgroup": "ST. Mary's College of Maryland",
         "lon": [
          -76.4263,
          -76.42549
         ],
         "marker": {
          "color": "#FF97FF",
          "size": [
           0,
           0
          ],
          "sizemode": "area",
          "sizeref": 37.625
         },
         "mode": "markers",
         "name": "ST. Mary's College of Maryland",
         "showlegend": true,
         "subplot": "mapbox",
         "type": "scattermapbox"
        },
        {
         "hovertemplate": "Customers=St. Thomas Aquinas College<br>Number of Users=%{marker.size}<br>Lat=%{lat}<br>Long=%{lon}<extra></extra>",
         "lat": [
          41.027843,
          41.027843,
          41.027843,
          41.027843
         ],
         "legendgroup": "St. Thomas Aquinas College",
         "lon": [
          -73.92519300000002,
          -73.92519300000002,
          -73.92519300000002,
          -73.92519300000002
         ],
         "marker": {
          "color": "#FECB52",
          "size": [
           200,
           200,
           200,
           200
          ],
          "sizemode": "area",
          "sizeref": 37.625
         },
         "mode": "markers",
         "name": "St. Thomas Aquinas College",
         "showlegend": true,
         "subplot": "mapbox",
         "type": "scattermapbox"
        },
        {
         "hovertemplate": "Customers=Stanford University/SCALE<br>Number of Users=%{marker.size}<br>Lat=%{lat}<br>Long=%{lon}<extra></extra>",
         "lat": [
          37.426347,
          37.426347,
          37.426347,
          37.426347,
          37.426347,
          37.426347
         ],
         "legendgroup": "Stanford University/SCALE",
         "lon": [
          -122.168351,
          -122.168351,
          -122.168351,
          -122.168351,
          -122.168351,
          -122.168351
         ],
         "marker": {
          "color": "#636efa",
          "size": [
           117,
           117,
           117,
           117,
           117,
           117
          ],
          "sizemode": "area",
          "sizeref": 37.625
         },
         "mode": "markers",
         "name": "Stanford University/SCALE",
         "showlegend": true,
         "subplot": "mapbox",
         "type": "scattermapbox"
        },
        {
         "hovertemplate": "Customers=State Fair Community College<br>Number of Users=%{marker.size}<br>Lat=%{lat}<br>Long=%{lon}<extra></extra>",
         "lat": [
          38.699025
         ],
         "legendgroup": "State Fair Community College",
         "lon": [
          -93.268202
         ],
         "marker": {
          "color": "#EF553B",
          "size": [
           100
          ],
          "sizemode": "area",
          "sizeref": 37.625
         },
         "mode": "markers",
         "name": "State Fair Community College",
         "showlegend": true,
         "subplot": "mapbox",
         "type": "scattermapbox"
        },
        {
         "hovertemplate": "Customers=State University of NY Potsdam<br>Number of Users=%{marker.size}<br>Lat=%{lat}<br>Long=%{lon}<extra></extra>",
         "lat": [
          44.66378
         ],
         "legendgroup": "State University of NY Potsdam",
         "lon": [
          -74.978409
         ],
         "marker": {
          "color": "#00cc96",
          "size": [
           0
          ],
          "sizemode": "area",
          "sizeref": 37.625
         },
         "mode": "markers",
         "name": "State University of NY Potsdam",
         "showlegend": true,
         "subplot": "mapbox",
         "type": "scattermapbox"
        },
        {
         "hovertemplate": "Customers=SUNY College at Brockport<br>Number of Users=%{marker.size}<br>Lat=%{lat}<br>Long=%{lon}<extra></extra>",
         "lat": [
          43.209991
         ],
         "legendgroup": "SUNY College at Brockport",
         "lon": [
          -77.95217
         ],
         "marker": {
          "color": "#ab63fa",
          "size": [
           150
          ],
          "sizemode": "area",
          "sizeref": 37.625
         },
         "mode": "markers",
         "name": "SUNY College at Brockport",
         "showlegend": true,
         "subplot": "mapbox",
         "type": "scattermapbox"
        },
        {
         "hovertemplate": "Customers=SUNY College of Oneonta<br>Number of Users=%{marker.size}<br>Lat=%{lat}<br>Long=%{lon}<extra></extra>",
         "lat": [
          42.467927,
          42.467927
         ],
         "legendgroup": "SUNY College of Oneonta",
         "lon": [
          -75.061262,
          -75.061262
         ],
         "marker": {
          "color": "#FFA15A",
          "size": [
           532,
           532
          ],
          "sizemode": "area",
          "sizeref": 37.625
         },
         "mode": "markers",
         "name": "SUNY College of Oneonta",
         "showlegend": true,
         "subplot": "mapbox",
         "type": "scattermapbox"
        },
        {
         "hovertemplate": "Customers=SUNY Erie Community College<br>Number of Users=%{marker.size}<br>Lat=%{lat}<br>Long=%{lon}<extra></extra>",
         "lat": [
          42.881777
         ],
         "legendgroup": "SUNY Erie Community College",
         "lon": [
          -78.872598
         ],
         "marker": {
          "color": "#19d3f3",
          "size": [
           50
          ],
          "sizemode": "area",
          "sizeref": 37.625
         },
         "mode": "markers",
         "name": "SUNY Erie Community College",
         "showlegend": true,
         "subplot": "mapbox",
         "type": "scattermapbox"
        },
        {
         "hovertemplate": "Customers=SUNY Plattsburgh<br>Number of Users=%{marker.size}<br>Lat=%{lat}<br>Long=%{lon}<extra></extra>",
         "lat": [
          44.694415
         ],
         "legendgroup": "SUNY Plattsburgh",
         "lon": [
          -73.466024
         ],
         "marker": {
          "color": "#FF6692",
          "size": [
           30
          ],
          "sizemode": "area",
          "sizeref": 37.625
         },
         "mode": "markers",
         "name": "SUNY Plattsburgh",
         "showlegend": true,
         "subplot": "mapbox",
         "type": "scattermapbox"
        },
        {
         "hovertemplate": "Customers=Swarthmore College<br>Number of Users=%{marker.size}<br>Lat=%{lat}<br>Long=%{lon}<extra></extra>",
         "lat": [
          39.906112,
          39.906112,
          39.906112
         ],
         "legendgroup": "Swarthmore College",
         "lon": [
          -75.352001,
          -75.352001,
          -75.352001
         ],
         "marker": {
          "color": "#B6E880",
          "size": [
           36,
           36,
           36
          ],
          "sizemode": "area",
          "sizeref": 37.625
         },
         "mode": "markers",
         "name": "Swarthmore College",
         "showlegend": true,
         "subplot": "mapbox",
         "type": "scattermapbox"
        },
        {
         "hovertemplate": "Customers=Syracuse University<br>Number of Users=%{marker.size}<br>Lat=%{lat}<br>Long=%{lon}<extra></extra>",
         "lat": [
          43.041453,
          43.041453
         ],
         "legendgroup": "Syracuse University",
         "lon": [
          -76.13467800000002,
          -76.13467800000002
         ],
         "marker": {
          "color": "#FF97FF",
          "size": [
           1200,
           1200
          ],
          "sizemode": "area",
          "sizeref": 37.625
         },
         "mode": "markers",
         "name": "Syracuse University",
         "showlegend": true,
         "subplot": "mapbox",
         "type": "scattermapbox"
        },
        {
         "hovertemplate": "Customers=Tacoma Public Schools<br>Number of Users=%{marker.size}<br>Lat=%{lat}<br>Long=%{lon}<extra></extra>",
         "lat": [
          47.252981
         ],
         "legendgroup": "Tacoma Public Schools",
         "lon": [
          -122.437398
         ],
         "marker": {
          "color": "#FECB52",
          "size": [
           85
          ],
          "sizemode": "area",
          "sizeref": 37.625
         },
         "mode": "markers",
         "name": "Tacoma Public Schools",
         "showlegend": true,
         "subplot": "mapbox",
         "type": "scattermapbox"
        },
        {
         "hovertemplate": "Customers=TAOS Municipal School District<br>Number of Users=%{marker.size}<br>Lat=%{lat}<br>Long=%{lon}<extra></extra>",
         "lat": [
          36.409388,
          36.409388
         ],
         "legendgroup": "TAOS Municipal School District",
         "lon": [
          -105.575909,
          -105.575909
         ],
         "marker": {
          "color": "#636efa",
          "size": [
           0,
           0
          ],
          "sizemode": "area",
          "sizeref": 37.625
         },
         "mode": "markers",
         "name": "TAOS Municipal School District",
         "showlegend": true,
         "subplot": "mapbox",
         "type": "scattermapbox"
        },
        {
         "hovertemplate": "Customers=Teach for America Kansas City<br>Number of Users=%{marker.size}<br>Lat=%{lat}<br>Long=%{lon}<extra></extra>",
         "lat": [
          39.088975
         ],
         "legendgroup": "Teach for America Kansas City",
         "lon": [
          -94.58516
         ],
         "marker": {
          "color": "#EF553B",
          "size": [
           100
          ],
          "sizemode": "area",
          "sizeref": 37.625
         },
         "mode": "markers",
         "name": "Teach for America Kansas City",
         "showlegend": true,
         "subplot": "mapbox",
         "type": "scattermapbox"
        },
        {
         "hovertemplate": "Customers=Teach for America-Kansas City<br>Number of Users=%{marker.size}<br>Lat=%{lat}<br>Long=%{lon}<extra></extra>",
         "lat": [
          39.088975
         ],
         "legendgroup": "Teach for America-Kansas City",
         "lon": [
          -94.58516
         ],
         "marker": {
          "color": "#00cc96",
          "size": [
           100
          ],
          "sizemode": "area",
          "sizeref": 37.625
         },
         "mode": "markers",
         "name": "Teach for America-Kansas City",
         "showlegend": true,
         "subplot": "mapbox",
         "type": "scattermapbox"
        },
        {
         "hovertemplate": "Customers=Teachers College, Columbia University<br>Number of Users=%{marker.size}<br>Lat=%{lat}<br>Long=%{lon}<extra></extra>",
         "lat": [
          40.81010300000001,
          40.81010300000001
         ],
         "legendgroup": "Teachers College, Columbia University",
         "lon": [
          -73.960643,
          -73.960643
         ],
         "marker": {
          "color": "#ab63fa",
          "size": [
           850,
           850
          ],
          "sizemode": "area",
          "sizeref": 37.625
         },
         "mode": "markers",
         "name": "Teachers College, Columbia University",
         "showlegend": true,
         "subplot": "mapbox",
         "type": "scattermapbox"
        },
        {
         "hovertemplate": "Customers=Temple University, Tyler School of Art and Architecture<br>Number of Users=%{marker.size}<br>Lat=%{lat}<br>Long=%{lon}<extra></extra>",
         "lat": [
          39.97713
         ],
         "legendgroup": "Temple University, Tyler School of Art and Architecture",
         "lon": [
          -75.13381
         ],
         "marker": {
          "color": "#FFA15A",
          "size": [
           70
          ],
          "sizemode": "area",
          "sizeref": 37.625
         },
         "mode": "markers",
         "name": "Temple University, Tyler School of Art and Architecture",
         "showlegend": true,
         "subplot": "mapbox",
         "type": "scattermapbox"
        },
        {
         "hovertemplate": "Customers=Tennessee Wesleyan University<br>Number of Users=%{marker.size}<br>Lat=%{lat}<br>Long=%{lon}<extra></extra>",
         "lat": [
          35.44527100000001
         ],
         "legendgroup": "Tennessee Wesleyan University",
         "lon": [
          -84.59259300000002
         ],
         "marker": {
          "color": "#19d3f3",
          "size": [
           125
          ],
          "sizemode": "area",
          "sizeref": 37.625
         },
         "mode": "markers",
         "name": "Tennessee Wesleyan University",
         "showlegend": true,
         "subplot": "mapbox",
         "type": "scattermapbox"
        },
        {
         "hovertemplate": "Customers=Texas A&M University<br>Number of Users=%{marker.size}<br>Lat=%{lat}<br>Long=%{lon}<extra></extra>",
         "lat": [
          30.61102
         ],
         "legendgroup": "Texas A&M University",
         "lon": [
          -96.35275
         ],
         "marker": {
          "color": "#FF6692",
          "size": [
           2000
          ],
          "sizemode": "area",
          "sizeref": 37.625
         },
         "mode": "markers",
         "name": "Texas A&M University",
         "showlegend": true,
         "subplot": "mapbox",
         "type": "scattermapbox"
        },
        {
         "hovertemplate": "Customers=Texas State University<br>Number of Users=%{marker.size}<br>Lat=%{lat}<br>Long=%{lon}<extra></extra>",
         "lat": [
          30.61102
         ],
         "legendgroup": "Texas State University",
         "lon": [
          -96.35275
         ],
         "marker": {
          "color": "#B6E880",
          "size": [
           500
          ],
          "sizemode": "area",
          "sizeref": 37.625
         },
         "mode": "markers",
         "name": "Texas State University",
         "showlegend": true,
         "subplot": "mapbox",
         "type": "scattermapbox"
        },
        {
         "hovertemplate": "Customers=The Citadel Zucker Family School of Education<br>Number of Users=%{marker.size}<br>Lat=%{lat}<br>Long=%{lon}<extra></extra>",
         "lat": [
          32.7957
         ],
         "legendgroup": "The Citadel Zucker Family School of Education",
         "lon": [
          -79.961416
         ],
         "marker": {
          "color": "#FF97FF",
          "size": [
           50
          ],
          "sizemode": "area",
          "sizeref": 37.625
         },
         "mode": "markers",
         "name": "The Citadel Zucker Family School of Education",
         "showlegend": true,
         "subplot": "mapbox",
         "type": "scattermapbox"
        },
        {
         "hovertemplate": "Customers=The Citadel, Zucker Family School of Education<br>Number of Users=%{marker.size}<br>Lat=%{lat}<br>Long=%{lon}<extra></extra>",
         "lat": [
          32.7957
         ],
         "legendgroup": "The Citadel, Zucker Family School of Education",
         "lon": [
          -79.961416
         ],
         "marker": {
          "color": "#FECB52",
          "size": [
           100
          ],
          "sizemode": "area",
          "sizeref": 37.625
         },
         "mode": "markers",
         "name": "The Citadel, Zucker Family School of Education",
         "showlegend": true,
         "subplot": "mapbox",
         "type": "scattermapbox"
        },
        {
         "hovertemplate": "Customers=The College of Wooster<br>Number of Users=%{marker.size}<br>Lat=%{lat}<br>Long=%{lon}<extra></extra>",
         "lat": [
          40.809133
         ],
         "legendgroup": "The College of Wooster",
         "lon": [
          -81.936777
         ],
         "marker": {
          "color": "#636efa",
          "size": [
           172
          ],
          "sizemode": "area",
          "sizeref": 37.625
         },
         "mode": "markers",
         "name": "The College of Wooster",
         "showlegend": true,
         "subplot": "mapbox",
         "type": "scattermapbox"
        },
        {
         "hovertemplate": "Customers=The State University of New York (SUNY)<br>Number of Users=%{marker.size}<br>Lat=%{lat}<br>Long=%{lon}<extra></extra>",
         "lat": [
          42.648054,
          42.648054
         ],
         "legendgroup": "The State University of New York (SUNY)",
         "lon": [
          -73.749797,
          -73.749797
         ],
         "marker": {
          "color": "#EF553B",
          "size": [
           9471,
           9471
          ],
          "sizemode": "area",
          "sizeref": 37.625
         },
         "mode": "markers",
         "name": "The State University of New York (SUNY)",
         "showlegend": true,
         "subplot": "mapbox",
         "type": "scattermapbox"
        },
        {
         "hovertemplate": "Customers=The Support Network<br>Number of Users=%{marker.size}<br>Lat=%{lat}<br>Long=%{lon}<extra></extra>",
         "lat": [
          34.062015
         ],
         "legendgroup": "The Support Network",
         "lon": [
          -118.294481
         ],
         "marker": {
          "color": "#00cc96",
          "size": [
           30
          ],
          "sizemode": "area",
          "sizeref": 37.625
         },
         "mode": "markers",
         "name": "The Support Network",
         "showlegend": true,
         "subplot": "mapbox",
         "type": "scattermapbox"
        },
        {
         "hovertemplate": "Customers=The University of New Orleans<br>Number of Users=%{marker.size}<br>Lat=%{lat}<br>Long=%{lon}<extra></extra>",
         "lat": [
          30.03503,
          30.03503
         ],
         "legendgroup": "The University of New Orleans",
         "lon": [
          -90.04316,
          -90.04316
         ],
         "marker": {
          "color": "#ab63fa",
          "size": [
           250,
           250
          ],
          "sizemode": "area",
          "sizeref": 37.625
         },
         "mode": "markers",
         "name": "The University of New Orleans",
         "showlegend": true,
         "subplot": "mapbox",
         "type": "scattermapbox"
        },
        {
         "hovertemplate": "Customers=The University of Southern Mississippi<br>Number of Users=%{marker.size}<br>Lat=%{lat}<br>Long=%{lon}<extra></extra>",
         "lat": [
          31.327811
         ],
         "legendgroup": "The University of Southern Mississippi",
         "lon": [
          -89.332063
         ],
         "marker": {
          "color": "#FFA15A",
          "size": [
           50
          ],
          "sizemode": "area",
          "sizeref": 37.625
         },
         "mode": "markers",
         "name": "The University of Southern Mississippi",
         "showlegend": true,
         "subplot": "mapbox",
         "type": "scattermapbox"
        },
        {
         "hovertemplate": "Customers=The University of Tennessee, Knoxville<br>Number of Users=%{marker.size}<br>Lat=%{lat}<br>Long=%{lon}<extra></extra>",
         "lat": [
          35.95354000000001
         ],
         "legendgroup": "The University of Tennessee, Knoxville",
         "lon": [
          -83.9272
         ],
         "marker": {
          "color": "#19d3f3",
          "size": [
           300
          ],
          "sizemode": "area",
          "sizeref": 37.625
         },
         "mode": "markers",
         "name": "The University of Tennessee, Knoxville",
         "showlegend": true,
         "subplot": "mapbox",
         "type": "scattermapbox"
        },
        {
         "hovertemplate": "Customers=The University of Texas at Tyler<br>Number of Users=%{marker.size}<br>Lat=%{lat}<br>Long=%{lon}<extra></extra>",
         "lat": [
          32.314909
         ],
         "legendgroup": "The University of Texas at Tyler",
         "lon": [
          -95.254302
         ],
         "marker": {
          "color": "#FF6692",
          "size": [
           100
          ],
          "sizemode": "area",
          "sizeref": 37.625
         },
         "mode": "markers",
         "name": "The University of Texas at Tyler",
         "showlegend": true,
         "subplot": "mapbox",
         "type": "scattermapbox"
        },
        {
         "hovertemplate": "Customers=Thiel College<br>Number of Users=%{marker.size}<br>Lat=%{lat}<br>Long=%{lon}<extra></extra>",
         "lat": [
          41.412636
         ],
         "legendgroup": "Thiel College",
         "lon": [
          -80.382316
         ],
         "marker": {
          "color": "#B6E880",
          "size": [
           50
          ],
          "sizemode": "area",
          "sizeref": 37.625
         },
         "mode": "markers",
         "name": "Thiel College",
         "showlegend": true,
         "subplot": "mapbox",
         "type": "scattermapbox"
        },
        {
         "hovertemplate": "Customers=Thomas College<br>Number of Users=%{marker.size}<br>Lat=%{lat}<br>Long=%{lon}<extra></extra>",
         "lat": [
          44.525035
         ],
         "legendgroup": "Thomas College",
         "lon": [
          -69.664749
         ],
         "marker": {
          "color": "#FF97FF",
          "size": [
           100
          ],
          "sizemode": "area",
          "sizeref": 37.625
         },
         "mode": "markers",
         "name": "Thomas College",
         "showlegend": true,
         "subplot": "mapbox",
         "type": "scattermapbox"
        },
        {
         "hovertemplate": "Customers=Troy University<br>Number of Users=%{marker.size}<br>Lat=%{lat}<br>Long=%{lon}<extra></extra>",
         "lat": [
          31.8207,
          31.8207,
          31.8207
         ],
         "legendgroup": "Troy University",
         "lon": [
          -85.98306,
          -85.98306,
          -85.98306
         ],
         "marker": {
          "color": "#FECB52",
          "size": [
           800,
           800,
           800
          ],
          "sizemode": "area",
          "sizeref": 37.625
         },
         "mode": "markers",
         "name": "Troy University",
         "showlegend": true,
         "subplot": "mapbox",
         "type": "scattermapbox"
        },
        {
         "hovertemplate": "Customers=Tuscaloosa City Schools<br>Number of Users=%{marker.size}<br>Lat=%{lat}<br>Long=%{lon}<extra></extra>",
         "lat": [
          33.203634
         ],
         "legendgroup": "Tuscaloosa City Schools",
         "lon": [
          -87.56214399999998
         ],
         "marker": {
          "color": "#636efa",
          "size": [
           1000
          ],
          "sizemode": "area",
          "sizeref": 37.625
         },
         "mode": "markers",
         "name": "Tuscaloosa City Schools",
         "showlegend": true,
         "subplot": "mapbox",
         "type": "scattermapbox"
        },
        {
         "hovertemplate": "Customers=UAB Regional In Service Centers<br>Number of Users=%{marker.size}<br>Lat=%{lat}<br>Long=%{lon}<extra></extra>",
         "lat": [
          33.498228999999995,
          33.498228999999995
         ],
         "legendgroup": "UAB Regional In Service Centers",
         "lon": [
          -86.8073,
          -86.8073
         ],
         "marker": {
          "color": "#EF553B",
          "size": [
           0,
           0
          ],
          "sizemode": "area",
          "sizeref": 37.625
         },
         "mode": "markers",
         "name": "UAB Regional In Service Centers",
         "showlegend": true,
         "subplot": "mapbox",
         "type": "scattermapbox"
        },
        {
         "hovertemplate": "Customers=UNC Wilmington<br>Number of Users=%{marker.size}<br>Lat=%{lat}<br>Long=%{lon}<extra></extra>",
         "lat": [
          34.223991,
          34.223991,
          34.223991,
          34.223991,
          34.223991
         ],
         "legendgroup": "UNC Wilmington",
         "lon": [
          -77.86776400000002,
          -77.86776400000002,
          -77.86776400000002,
          -77.86776400000002,
          -77.86776400000002
         ],
         "marker": {
          "color": "#00cc96",
          "size": [
           1752,
           1752,
           1752,
           1752,
           1752
          ],
          "sizemode": "area",
          "sizeref": 37.625
         },
         "mode": "markers",
         "name": "UNC Wilmington",
         "showlegend": true,
         "subplot": "mapbox",
         "type": "scattermapbox"
        },
        {
         "hovertemplate": "Customers=Union University<br>Number of Users=%{marker.size}<br>Lat=%{lat}<br>Long=%{lon}<extra></extra>",
         "lat": [
          33.210856,
          33.210856,
          33.210856
         ],
         "legendgroup": "Union University",
         "lon": [
          -97.147165,
          -97.147165,
          -97.147165
         ],
         "marker": {
          "color": "#ab63fa",
          "size": [
           300,
           300,
           300
          ],
          "sizemode": "area",
          "sizeref": 37.625
         },
         "mode": "markers",
         "name": "Union University",
         "showlegend": true,
         "subplot": "mapbox",
         "type": "scattermapbox"
        },
        {
         "hovertemplate": "Customers=University of Alabama<br>Number of Users=%{marker.size}<br>Lat=%{lat}<br>Long=%{lon}<extra></extra>",
         "lat": [
          33.533925,
          33.533925,
          33.533925
         ],
         "legendgroup": "University of Alabama",
         "lon": [
          -86.877531,
          -86.877531,
          -86.877531
         ],
         "marker": {
          "color": "#FFA15A",
          "size": [
           0,
           0,
           0
          ],
          "sizemode": "area",
          "sizeref": 37.625
         },
         "mode": "markers",
         "name": "University of Alabama",
         "showlegend": true,
         "subplot": "mapbox",
         "type": "scattermapbox"
        },
        {
         "hovertemplate": "Customers=University of Arkansas<br>Number of Users=%{marker.size}<br>Lat=%{lat}<br>Long=%{lon}<extra></extra>",
         "lat": [
          36.07554
         ],
         "legendgroup": "University of Arkansas",
         "lon": [
          -94.17729
         ],
         "marker": {
          "color": "#19d3f3",
          "size": [
           500
          ],
          "sizemode": "area",
          "sizeref": 37.625
         },
         "mode": "markers",
         "name": "University of Arkansas",
         "showlegend": true,
         "subplot": "mapbox",
         "type": "scattermapbox"
        },
        {
         "hovertemplate": "Customers=University of California Berkeley<br>Number of Users=%{marker.size}<br>Lat=%{lat}<br>Long=%{lon}<extra></extra>",
         "lat": [
          37.873473
         ],
         "legendgroup": "University of California Berkeley",
         "lon": [
          -122.267649
         ],
         "marker": {
          "color": "#FF6692",
          "size": [
           25
          ],
          "sizemode": "area",
          "sizeref": 37.625
         },
         "mode": "markers",
         "name": "University of California Berkeley",
         "showlegend": true,
         "subplot": "mapbox",
         "type": "scattermapbox"
        },
        {
         "hovertemplate": "Customers=University of California, Davis<br>Number of Users=%{marker.size}<br>Lat=%{lat}<br>Long=%{lon}<extra></extra>",
         "lat": [
          38.539524,
          38.539524,
          38.539524,
          38.539524
         ],
         "legendgroup": "University of California, Davis",
         "lon": [
          -121.751673,
          -121.751673,
          -121.751673,
          -121.751673
         ],
         "marker": {
          "color": "#B6E880",
          "size": [
           703,
           703,
           703,
           703
          ],
          "sizemode": "area",
          "sizeref": 37.625
         },
         "mode": "markers",
         "name": "University of California, Davis",
         "showlegend": true,
         "subplot": "mapbox",
         "type": "scattermapbox"
        },
        {
         "hovertemplate": "Customers=University of California, Riverside<br>Number of Users=%{marker.size}<br>Lat=%{lat}<br>Long=%{lon}<extra></extra>",
         "lat": [
          33.974234,
          33.974234,
          33.974234,
          33.974234
         ],
         "legendgroup": "University of California, Riverside",
         "lon": [
          -117.327129,
          -117.327129,
          -117.327129,
          -117.327129
         ],
         "marker": {
          "color": "#FF97FF",
          "size": [
           300,
           300,
           300,
           300
          ],
          "sizemode": "area",
          "sizeref": 37.625
         },
         "mode": "markers",
         "name": "University of California, Riverside",
         "showlegend": true,
         "subplot": "mapbox",
         "type": "scattermapbox"
        },
        {
         "hovertemplate": "Customers=University of Central Arkansas<br>Number of Users=%{marker.size}<br>Lat=%{lat}<br>Long=%{lon}<extra></extra>",
         "lat": [
          35.079817,
          35.079817
         ],
         "legendgroup": "University of Central Arkansas",
         "lon": [
          -92.455656,
          -92.455656
         ],
         "marker": {
          "color": "#FECB52",
          "size": [
           100,
           100
          ],
          "sizemode": "area",
          "sizeref": 37.625
         },
         "mode": "markers",
         "name": "University of Central Arkansas",
         "showlegend": true,
         "subplot": "mapbox",
         "type": "scattermapbox"
        },
        {
         "hovertemplate": "Customers=University of Central Oklahoma<br>Number of Users=%{marker.size}<br>Lat=%{lat}<br>Long=%{lon}<extra></extra>",
         "lat": [
          35.655193
         ],
         "legendgroup": "University of Central Oklahoma",
         "lon": [
          -97.471413
         ],
         "marker": {
          "color": "#636efa",
          "size": [
           134
          ],
          "sizemode": "area",
          "sizeref": 37.625
         },
         "mode": "markers",
         "name": "University of Central Oklahoma",
         "showlegend": true,
         "subplot": "mapbox",
         "type": "scattermapbox"
        },
        {
         "hovertemplate": "Customers=University of Detroit Mercy Lib<br>Number of Users=%{marker.size}<br>Lat=%{lat}<br>Long=%{lon}<extra></extra>",
         "lat": [
          42.41484000000001,
          42.41484000000001
         ],
         "legendgroup": "University of Detroit Mercy Lib",
         "lon": [
          -83.137876,
          -83.137876
         ],
         "marker": {
          "color": "#EF553B",
          "size": [
           200,
           200
          ],
          "sizemode": "area",
          "sizeref": 37.625
         },
         "mode": "markers",
         "name": "University of Detroit Mercy Lib",
         "showlegend": true,
         "subplot": "mapbox",
         "type": "scattermapbox"
        },
        {
         "hovertemplate": "Customers=University of Georgia<br>Number of Users=%{marker.size}<br>Lat=%{lat}<br>Long=%{lon}<extra></extra>",
         "lat": [
          33.945302000000005
         ],
         "legendgroup": "University of Georgia",
         "lon": [
          -83.374948
         ],
         "marker": {
          "color": "#00cc96",
          "size": [
           300
          ],
          "sizemode": "area",
          "sizeref": 37.625
         },
         "mode": "markers",
         "name": "University of Georgia",
         "showlegend": true,
         "subplot": "mapbox",
         "type": "scattermapbox"
        },
        {
         "hovertemplate": "Customers=University of Guam<br>Number of Users=%{marker.size}<br>Lat=%{lat}<br>Long=%{lon}<extra></extra>",
         "lat": [
          13.469559
         ],
         "legendgroup": "University of Guam",
         "lon": [
          144.74388100000004
         ],
         "marker": {
          "color": "#ab63fa",
          "size": [
           50
          ],
          "sizemode": "area",
          "sizeref": 37.625
         },
         "mode": "markers",
         "name": "University of Guam",
         "showlegend": true,
         "subplot": "mapbox",
         "type": "scattermapbox"
        },
        {
         "hovertemplate": "Customers=University of Hawaii at Manoa<br>Number of Users=%{marker.size}<br>Lat=%{lat}<br>Long=%{lon}<extra></extra>",
         "lat": [
          21.297989,
          21.297989
         ],
         "legendgroup": "University of Hawaii at Manoa",
         "lon": [
          -157.822518,
          -157.822518
         ],
         "marker": {
          "color": "#FFA15A",
          "size": [
           173,
           173
          ],
          "sizemode": "area",
          "sizeref": 37.625
         },
         "mode": "markers",
         "name": "University of Hawaii at Manoa",
         "showlegend": true,
         "subplot": "mapbox",
         "type": "scattermapbox"
        },
        {
         "hovertemplate": "Customers=University of Holy Cross (LA)<br>Number of Users=%{marker.size}<br>Lat=%{lat}<br>Long=%{lon}<extra></extra>",
         "lat": [
          29.912261
         ],
         "legendgroup": "University of Holy Cross (LA)",
         "lon": [
          -89.995129
         ],
         "marker": {
          "color": "#19d3f3",
          "size": [
           75
          ],
          "sizemode": "area",
          "sizeref": 37.625
         },
         "mode": "markers",
         "name": "University of Holy Cross (LA)",
         "showlegend": true,
         "subplot": "mapbox",
         "type": "scattermapbox"
        },
        {
         "hovertemplate": "Customers=University of Illinois at Urbana-Champaign<br>Number of Users=%{marker.size}<br>Lat=%{lat}<br>Long=%{lon}<extra></extra>",
         "lat": [
          40.102105
         ],
         "legendgroup": "University of Illinois at Urbana-Champaign",
         "lon": [
          -88.229667
         ],
         "marker": {
          "color": "#FF6692",
          "size": [
           98
          ],
          "sizemode": "area",
          "sizeref": 37.625
         },
         "mode": "markers",
         "name": "University of Illinois at Urbana-Champaign",
         "showlegend": true,
         "subplot": "mapbox",
         "type": "scattermapbox"
        },
        {
         "hovertemplate": "Customers=University of Illinois Springfield<br>Number of Users=%{marker.size}<br>Lat=%{lat}<br>Long=%{lon}<extra></extra>",
         "lat": [
          39.729471
         ],
         "legendgroup": "University of Illinois Springfield",
         "lon": [
          -89.616833
         ],
         "marker": {
          "color": "#B6E880",
          "size": [
           75
          ],
          "sizemode": "area",
          "sizeref": 37.625
         },
         "mode": "markers",
         "name": "University of Illinois Springfield",
         "showlegend": true,
         "subplot": "mapbox",
         "type": "scattermapbox"
        },
        {
         "hovertemplate": "Customers=University of Kentucky<br>Number of Users=%{marker.size}<br>Lat=%{lat}<br>Long=%{lon}<extra></extra>",
         "lat": [
          37.986014,
          37.986014,
          37.986014,
          37.986014
         ],
         "legendgroup": "University of Kentucky",
         "lon": [
          -84.396001,
          -84.396001,
          -84.396001,
          -84.396001
         ],
         "marker": {
          "color": "#FF97FF",
          "size": [
           850,
           850,
           850,
           850
          ],
          "sizemode": "area",
          "sizeref": 37.625
         },
         "mode": "markers",
         "name": "University of Kentucky",
         "showlegend": true,
         "subplot": "mapbox",
         "type": "scattermapbox"
        },
        {
         "hovertemplate": "Customers=University of Kentucky Libraries<br>Number of Users=%{marker.size}<br>Lat=%{lat}<br>Long=%{lon}<extra></extra>",
         "lat": [
          37.986014
         ],
         "legendgroup": "University of Kentucky Libraries",
         "lon": [
          -84.396001
         ],
         "marker": {
          "color": "#FECB52",
          "size": [
           200
          ],
          "sizemode": "area",
          "sizeref": 37.625
         },
         "mode": "markers",
         "name": "University of Kentucky Libraries",
         "showlegend": true,
         "subplot": "mapbox",
         "type": "scattermapbox"
        },
        {
         "hovertemplate": "Customers=University of Kentucky, IHE<br>Number of Users=%{marker.size}<br>Lat=%{lat}<br>Long=%{lon}<extra></extra>",
         "lat": [
          37.986014
         ],
         "legendgroup": "University of Kentucky, IHE",
         "lon": [
          -84.396001
         ],
         "marker": {
          "color": "#636efa",
          "size": [
           50
          ],
          "sizemode": "area",
          "sizeref": 37.625
         },
         "mode": "markers",
         "name": "University of Kentucky, IHE",
         "showlegend": true,
         "subplot": "mapbox",
         "type": "scattermapbox"
        },
        {
         "hovertemplate": "Customers=University of Kentucky, IHE Special Education Consortium<br>Number of Users=%{marker.size}<br>Lat=%{lat}<br>Long=%{lon}<extra></extra>",
         "lat": [
          37.986014
         ],
         "legendgroup": "University of Kentucky, IHE Special Education Consortium",
         "lon": [
          -84.396001
         ],
         "marker": {
          "color": "#EF553B",
          "size": [
           200
          ],
          "sizemode": "area",
          "sizeref": 37.625
         },
         "mode": "markers",
         "name": "University of Kentucky, IHE Special Education Consortium",
         "showlegend": true,
         "subplot": "mapbox",
         "type": "scattermapbox"
        },
        {
         "hovertemplate": "Customers=University of La Verne<br>Number of Users=%{marker.size}<br>Lat=%{lat}<br>Long=%{lon}<extra></extra>",
         "lat": [
          34.100836
         ],
         "legendgroup": "University of La Verne",
         "lon": [
          -117.77346
         ],
         "marker": {
          "color": "#00cc96",
          "size": [
           550
          ],
          "sizemode": "area",
          "sizeref": 37.625
         },
         "mode": "markers",
         "name": "University of La Verne",
         "showlegend": true,
         "subplot": "mapbox",
         "type": "scattermapbox"
        },
        {
         "hovertemplate": "Customers=University of Louisiana at Lafayette<br>Number of Users=%{marker.size}<br>Lat=%{lat}<br>Long=%{lon}<extra></extra>",
         "lat": [
          30.284753
         ],
         "legendgroup": "University of Louisiana at Lafayette",
         "lon": [
          -92.025255
         ],
         "marker": {
          "color": "#ab63fa",
          "size": [
           200
          ],
          "sizemode": "area",
          "sizeref": 37.625
         },
         "mode": "markers",
         "name": "University of Louisiana at Lafayette",
         "showlegend": true,
         "subplot": "mapbox",
         "type": "scattermapbox"
        },
        {
         "hovertemplate": "Customers=University of Louisiana at Monroe<br>Number of Users=%{marker.size}<br>Lat=%{lat}<br>Long=%{lon}<extra></extra>",
         "lat": [
          32.527899,
          32.527899
         ],
         "legendgroup": "University of Louisiana at Monroe",
         "lon": [
          -92.074492,
          -92.074492
         ],
         "marker": {
          "color": "#FFA15A",
          "size": [
           175,
           175
          ],
          "sizemode": "area",
          "sizeref": 37.625
         },
         "mode": "markers",
         "name": "University of Louisiana at Monroe",
         "showlegend": true,
         "subplot": "mapbox",
         "type": "scattermapbox"
        },
        {
         "hovertemplate": "Customers=University of Louisville<br>Number of Users=%{marker.size}<br>Lat=%{lat}<br>Long=%{lon}<extra></extra>",
         "lat": [
          38.219491
         ],
         "legendgroup": "University of Louisville",
         "lon": [
          -85.757346
         ],
         "marker": {
          "color": "#19d3f3",
          "size": [
           300
          ],
          "sizemode": "area",
          "sizeref": 37.625
         },
         "mode": "markers",
         "name": "University of Louisville",
         "showlegend": true,
         "subplot": "mapbox",
         "type": "scattermapbox"
        },
        {
         "hovertemplate": "Customers=University of Lynchburg<br>Number of Users=%{marker.size}<br>Lat=%{lat}<br>Long=%{lon}<extra></extra>",
         "lat": [
          37.399234,
          37.399234
         ],
         "legendgroup": "University of Lynchburg",
         "lon": [
          -79.184348,
          -79.184348
         ],
         "marker": {
          "color": "#FF6692",
          "size": [
           155,
           155
          ],
          "sizemode": "area",
          "sizeref": 37.625
         },
         "mode": "markers",
         "name": "University of Lynchburg",
         "showlegend": true,
         "subplot": "mapbox",
         "type": "scattermapbox"
        },
        {
         "hovertemplate": "Customers=University of Maryland Baltimore County<br>Number of Users=%{marker.size}<br>Lat=%{lat}<br>Long=%{lon}<extra></extra>",
         "lat": [
          39.260736
         ],
         "legendgroup": "University of Maryland Baltimore County",
         "lon": [
          -76.713095
         ],
         "marker": {
          "color": "#B6E880",
          "size": [
           100
          ],
          "sizemode": "area",
          "sizeref": 37.625
         },
         "mode": "markers",
         "name": "University of Maryland Baltimore County",
         "showlegend": true,
         "subplot": "mapbox",
         "type": "scattermapbox"
        },
        {
         "hovertemplate": "Customers=University of Maryland College of Education<br>Number of Users=%{marker.size}<br>Lat=%{lat}<br>Long=%{lon}<extra></extra>",
         "lat": [
          38.986456,
          38.986456,
          38.986456,
          38.986456
         ],
         "legendgroup": "University of Maryland College of Education",
         "lon": [
          -76.94730600000003,
          -76.94730600000003,
          -76.94730600000003,
          -76.94730600000003
         ],
         "marker": {
          "color": "#FF97FF",
          "size": [
           360,
           360,
           360,
           360
          ],
          "sizemode": "area",
          "sizeref": 37.625
         },
         "mode": "markers",
         "name": "University of Maryland College of Education",
         "showlegend": true,
         "subplot": "mapbox",
         "type": "scattermapbox"
        },
        {
         "hovertemplate": "Customers=University of Michigan-Dearborn<br>Number of Users=%{marker.size}<br>Lat=%{lat}<br>Long=%{lon}<extra></extra>",
         "lat": [
          42.318754
         ],
         "legendgroup": "University of Michigan-Dearborn",
         "lon": [
          -83.232658
         ],
         "marker": {
          "color": "#FECB52",
          "size": [
           30
          ],
          "sizemode": "area",
          "sizeref": 37.625
         },
         "mode": "markers",
         "name": "University of Michigan-Dearborn",
         "showlegend": true,
         "subplot": "mapbox",
         "type": "scattermapbox"
        },
        {
         "hovertemplate": "Customers=University of Minnesota Duluth<br>Number of Users=%{marker.size}<br>Lat=%{lat}<br>Long=%{lon}<extra></extra>",
         "lat": [
          46.81891
         ],
         "legendgroup": "University of Minnesota Duluth",
         "lon": [
          -92.084361
         ],
         "marker": {
          "color": "#636efa",
          "size": [
           359
          ],
          "sizemode": "area",
          "sizeref": 37.625
         },
         "mode": "markers",
         "name": "University of Minnesota Duluth",
         "showlegend": true,
         "subplot": "mapbox",
         "type": "scattermapbox"
        },
        {
         "hovertemplate": "Customers=University of Mississippi<br>Number of Users=%{marker.size}<br>Lat=%{lat}<br>Long=%{lon}<extra></extra>",
         "lat": [
          34.358185
         ],
         "legendgroup": "University of Mississippi",
         "lon": [
          -89.548378
         ],
         "marker": {
          "color": "#EF553B",
          "size": [
           100
          ],
          "sizemode": "area",
          "sizeref": 37.625
         },
         "mode": "markers",
         "name": "University of Mississippi",
         "showlegend": true,
         "subplot": "mapbox",
         "type": "scattermapbox"
        },
        {
         "hovertemplate": "Customers=University of Missouri Kansas City<br>Number of Users=%{marker.size}<br>Lat=%{lat}<br>Long=%{lon}<extra></extra>",
         "lat": [
          39.033781,
          39.033781
         ],
         "legendgroup": "University of Missouri Kansas City",
         "lon": [
          -94.577827,
          -94.577827
         ],
         "marker": {
          "color": "#00cc96",
          "size": [
           0,
           0
          ],
          "sizemode": "area",
          "sizeref": 37.625
         },
         "mode": "markers",
         "name": "University of Missouri Kansas City",
         "showlegend": true,
         "subplot": "mapbox",
         "type": "scattermapbox"
        },
        {
         "hovertemplate": "Customers=University of Montevallo<br>Number of Users=%{marker.size}<br>Lat=%{lat}<br>Long=%{lon}<extra></extra>",
         "lat": [
          33.099384,
          33.099384
         ],
         "legendgroup": "University of Montevallo",
         "lon": [
          -86.864512,
          -86.864512
         ],
         "marker": {
          "color": "#ab63fa",
          "size": [
           300,
           300
          ],
          "sizemode": "area",
          "sizeref": 37.625
         },
         "mode": "markers",
         "name": "University of Montevallo",
         "showlegend": true,
         "subplot": "mapbox",
         "type": "scattermapbox"
        },
        {
         "hovertemplate": "Customers=University of NC Charlotte<br>Number of Users=%{marker.size}<br>Lat=%{lat}<br>Long=%{lon}<extra></extra>",
         "lat": [
          35.30615200000001
         ],
         "legendgroup": "University of NC Charlotte",
         "lon": [
          -80.734562
         ],
         "marker": {
          "color": "#FFA15A",
          "size": [
           500
          ],
          "sizemode": "area",
          "sizeref": 37.625
         },
         "mode": "markers",
         "name": "University of NC Charlotte",
         "showlegend": true,
         "subplot": "mapbox",
         "type": "scattermapbox"
        },
        {
         "hovertemplate": "Customers=University of NC Greensboro<br>Number of Users=%{marker.size}<br>Lat=%{lat}<br>Long=%{lon}<extra></extra>",
         "lat": [
          36.065616,
          36.065616,
          36.065616,
          36.065616,
          36.065616
         ],
         "legendgroup": "University of NC Greensboro",
         "lon": [
          -79.81305,
          -79.81305,
          -79.81305,
          -79.81305,
          -79.81305
         ],
         "marker": {
          "color": "#19d3f3",
          "size": [
           1650,
           1650,
           1650,
           1650,
           1650
          ],
          "sizemode": "area",
          "sizeref": 37.625
         },
         "mode": "markers",
         "name": "University of NC Greensboro",
         "showlegend": true,
         "subplot": "mapbox",
         "type": "scattermapbox"
        },
        {
         "hovertemplate": "Customers=University of New Mexico<br>Number of Users=%{marker.size}<br>Lat=%{lat}<br>Long=%{lon}<extra></extra>",
         "lat": [
          35.083789
         ],
         "legendgroup": "University of New Mexico",
         "lon": [
          -106.620276
         ],
         "marker": {
          "color": "#FF6692",
          "size": [
           50
          ],
          "sizemode": "area",
          "sizeref": 37.625
         },
         "mode": "markers",
         "name": "University of New Mexico",
         "showlegend": true,
         "subplot": "mapbox",
         "type": "scattermapbox"
        },
        {
         "hovertemplate": "Customers=University of North Alabama<br>Number of Users=%{marker.size}<br>Lat=%{lat}<br>Long=%{lon}<extra></extra>",
         "lat": [
          34.8933,
          34.8933,
          34.8933,
          34.8933,
          34.8933
         ],
         "legendgroup": "University of North Alabama",
         "lon": [
          -87.63739,
          -87.63739,
          -87.63739,
          -87.63739,
          -87.63739
         ],
         "marker": {
          "color": "#B6E880",
          "size": [
           1050,
           1050,
           1050,
           1050,
           1050
          ],
          "sizemode": "area",
          "sizeref": 37.625
         },
         "mode": "markers",
         "name": "University of North Alabama",
         "showlegend": true,
         "subplot": "mapbox",
         "type": "scattermapbox"
        },
        {
         "hovertemplate": "Customers=University of North Carolina<br>Number of Users=%{marker.size}<br>Lat=%{lat}<br>Long=%{lon}<extra></extra>",
         "lat": [
          35.803142
         ],
         "legendgroup": "University of North Carolina",
         "lon": [
          -78.67826099999998
         ],
         "marker": {
          "color": "#FF97FF",
          "size": [
           75
          ],
          "sizemode": "area",
          "sizeref": 37.625
         },
         "mode": "markers",
         "name": "University of North Carolina",
         "showlegend": true,
         "subplot": "mapbox",
         "type": "scattermapbox"
        },
        {
         "hovertemplate": "Customers=University of North Carolina Chapel Hill<br>Number of Users=%{marker.size}<br>Lat=%{lat}<br>Long=%{lon}<extra></extra>",
         "lat": [
          35.965663
         ],
         "legendgroup": "University of North Carolina Chapel Hill",
         "lon": [
          -79.054063
         ],
         "marker": {
          "color": "#FECB52",
          "size": [
           75
          ],
          "sizemode": "area",
          "sizeref": 37.625
         },
         "mode": "markers",
         "name": "University of North Carolina Chapel Hill",
         "showlegend": true,
         "subplot": "mapbox",
         "type": "scattermapbox"
        },
        {
         "hovertemplate": "Customers=University of North Carolina Charlotte<br>Number of Users=%{marker.size}<br>Lat=%{lat}<br>Long=%{lon}<extra></extra>",
         "lat": [
          35.30615200000001,
          35.30615200000001
         ],
         "legendgroup": "University of North Carolina Charlotte",
         "lon": [
          -80.734562,
          -80.734562
         ],
         "marker": {
          "color": "#636efa",
          "size": [
           650,
           650
          ],
          "sizemode": "area",
          "sizeref": 37.625
         },
         "mode": "markers",
         "name": "University of North Carolina Charlotte",
         "showlegend": true,
         "subplot": "mapbox",
         "type": "scattermapbox"
        },
        {
         "hovertemplate": "Customers=University of North Colorado<br>Number of Users=%{marker.size}<br>Lat=%{lat}<br>Long=%{lon}<extra></extra>",
         "lat": [
          40.406378
         ],
         "legendgroup": "University of North Colorado",
         "lon": [
          -104.68532
         ],
         "marker": {
          "color": "#EF553B",
          "size": [
           75
          ],
          "sizemode": "area",
          "sizeref": 37.625
         },
         "mode": "markers",
         "name": "University of North Colorado",
         "showlegend": true,
         "subplot": "mapbox",
         "type": "scattermapbox"
        },
        {
         "hovertemplate": "Customers=University of North Dakota<br>Number of Users=%{marker.size}<br>Lat=%{lat}<br>Long=%{lon}<extra></extra>",
         "lat": [
          47.92019000000001,
          47.92019000000001
         ],
         "legendgroup": "University of North Dakota",
         "lon": [
          -97.07046,
          -97.07046
         ],
         "marker": {
          "color": "#00cc96",
          "size": [
           212,
           212
          ],
          "sizemode": "area",
          "sizeref": 37.625
         },
         "mode": "markers",
         "name": "University of North Dakota",
         "showlegend": true,
         "subplot": "mapbox",
         "type": "scattermapbox"
        },
        {
         "hovertemplate": "Customers=University of North Florida<br>Number of Users=%{marker.size}<br>Lat=%{lat}<br>Long=%{lon}<extra></extra>",
         "lat": [
          30.264713,
          30.264713,
          30.264713
         ],
         "legendgroup": "University of North Florida",
         "lon": [
          -81.507903,
          -81.507903,
          -81.507903
         ],
         "marker": {
          "color": "#ab63fa",
          "size": [
           165,
           165,
           165
          ],
          "sizemode": "area",
          "sizeref": 37.625
         },
         "mode": "markers",
         "name": "University of North Florida",
         "showlegend": true,
         "subplot": "mapbox",
         "type": "scattermapbox"
        },
        {
         "hovertemplate": "Customers=University of North Georgia<br>Number of Users=%{marker.size}<br>Lat=%{lat}<br>Long=%{lon}<extra></extra>",
         "lat": [
          33.94177,
          33.94177,
          33.94177
         ],
         "legendgroup": "University of North Georgia",
         "lon": [
          -83.372991,
          -83.372991,
          -83.372991
         ],
         "marker": {
          "color": "#FFA15A",
          "size": [
           236,
           236,
           236
          ],
          "sizemode": "area",
          "sizeref": 37.625
         },
         "mode": "markers",
         "name": "University of North Georgia",
         "showlegend": true,
         "subplot": "mapbox",
         "type": "scattermapbox"
        },
        {
         "hovertemplate": "Customers=University of North Texas<br>Number of Users=%{marker.size}<br>Lat=%{lat}<br>Long=%{lon}<extra></extra>",
         "lat": [
          33.210856
         ],
         "legendgroup": "University of North Texas",
         "lon": [
          -97.147165
         ],
         "marker": {
          "color": "#19d3f3",
          "size": [
           150
          ],
          "sizemode": "area",
          "sizeref": 37.625
         },
         "mode": "markers",
         "name": "University of North Texas",
         "showlegend": true,
         "subplot": "mapbox",
         "type": "scattermapbox"
        },
        {
         "hovertemplate": "Customers=University of Pacific<br>Number of Users=%{marker.size}<br>Lat=%{lat}<br>Long=%{lon}<extra></extra>",
         "lat": [
          37.981067
         ],
         "legendgroup": "University of Pacific",
         "lon": [
          -121.308951
         ],
         "marker": {
          "color": "#FF6692",
          "size": [
           0
          ],
          "sizemode": "area",
          "sizeref": 37.625
         },
         "mode": "markers",
         "name": "University of Pacific",
         "showlegend": true,
         "subplot": "mapbox",
         "type": "scattermapbox"
        },
        {
         "hovertemplate": "Customers=University of Phoenix Inc.<br>Number of Users=%{marker.size}<br>Lat=%{lat}<br>Long=%{lon}<extra></extra>",
         "lat": [
          33.411341
         ],
         "legendgroup": "University of Phoenix Inc.",
         "lon": [
          -112.01269
         ],
         "marker": {
          "color": "#B6E880",
          "size": [
           1000
          ],
          "sizemode": "area",
          "sizeref": 37.625
         },
         "mode": "markers",
         "name": "University of Phoenix Inc.",
         "showlegend": true,
         "subplot": "mapbox",
         "type": "scattermapbox"
        },
        {
         "hovertemplate": "Customers=University of Portland<br>Number of Users=%{marker.size}<br>Lat=%{lat}<br>Long=%{lon}<extra></extra>",
         "lat": [
          45.510138
         ],
         "legendgroup": "University of Portland",
         "lon": [
          -122.680312
         ],
         "marker": {
          "color": "#FF97FF",
          "size": [
           25
          ],
          "sizemode": "area",
          "sizeref": 37.625
         },
         "mode": "markers",
         "name": "University of Portland",
         "showlegend": true,
         "subplot": "mapbox",
         "type": "scattermapbox"
        },
        {
         "hovertemplate": "Customers=University of Rhode Island (School of Education)<br>Number of Users=%{marker.size}<br>Lat=%{lat}<br>Long=%{lon}<extra></extra>",
         "lat": [
          41.483693,
          41.483693
         ],
         "legendgroup": "University of Rhode Island (School of Education)",
         "lon": [
          -71.52550600000002,
          -71.52550600000002
         ],
         "marker": {
          "color": "#FECB52",
          "size": [
           350,
           350
          ],
          "sizemode": "area",
          "sizeref": 37.625
         },
         "mode": "markers",
         "name": "University of Rhode Island (School of Education)",
         "showlegend": true,
         "subplot": "mapbox",
         "type": "scattermapbox"
        },
        {
         "hovertemplate": "Customers=University of Richmond<br>Number of Users=%{marker.size}<br>Lat=%{lat}<br>Long=%{lon}<extra></extra>",
         "lat": [
          37.575799
         ],
         "legendgroup": "University of Richmond",
         "lon": [
          -77.543513
         ],
         "marker": {
          "color": "#636efa",
          "size": [
           20
          ],
          "sizemode": "area",
          "sizeref": 37.625
         },
         "mode": "markers",
         "name": "University of Richmond",
         "showlegend": true,
         "subplot": "mapbox",
         "type": "scattermapbox"
        },
        {
         "hovertemplate": "Customers=University of Rochester-Warner School<br>Number of Users=%{marker.size}<br>Lat=%{lat}<br>Long=%{lon}<extra></extra>",
         "lat": [
          43.128879
         ],
         "legendgroup": "University of Rochester-Warner School",
         "lon": [
          -77.629708
         ],
         "marker": {
          "color": "#EF553B",
          "size": [
           60
          ],
          "sizemode": "area",
          "sizeref": 37.625
         },
         "mode": "markers",
         "name": "University of Rochester-Warner School",
         "showlegend": true,
         "subplot": "mapbox",
         "type": "scattermapbox"
        },
        {
         "hovertemplate": "Customers=University of San Francisco<br>Number of Users=%{marker.size}<br>Lat=%{lat}<br>Long=%{lon}<extra></extra>",
         "lat": [
          37.776451,
          37.776451
         ],
         "legendgroup": "University of San Francisco",
         "lon": [
          -122.451994,
          -122.451994
         ],
         "marker": {
          "color": "#00cc96",
          "size": [
           210,
           210
          ],
          "sizemode": "area",
          "sizeref": 37.625
         },
         "mode": "markers",
         "name": "University of San Francisco",
         "showlegend": true,
         "subplot": "mapbox",
         "type": "scattermapbox"
        },
        {
         "hovertemplate": "Customers=University of South Alabama<br>Number of Users=%{marker.size}<br>Lat=%{lat}<br>Long=%{lon}<extra></extra>",
         "lat": [
          30.69538
         ],
         "legendgroup": "University of South Alabama",
         "lon": [
          -88.175177
         ],
         "marker": {
          "color": "#ab63fa",
          "size": [
           100
          ],
          "sizemode": "area",
          "sizeref": 37.625
         },
         "mode": "markers",
         "name": "University of South Alabama",
         "showlegend": true,
         "subplot": "mapbox",
         "type": "scattermapbox"
        },
        {
         "hovertemplate": "Customers=University of South Carolina, Beaufort<br>Number of Users=%{marker.size}<br>Lat=%{lat}<br>Long=%{lon}<extra></extra>",
         "lat": [
          32.303215,
          32.303215
         ],
         "legendgroup": "University of South Carolina, Beaufort",
         "lon": [
          -80.973589,
          -80.973589
         ],
         "marker": {
          "color": "#FFA15A",
          "size": [
           300,
           300
          ],
          "sizemode": "area",
          "sizeref": 37.625
         },
         "mode": "markers",
         "name": "University of South Carolina, Beaufort",
         "showlegend": true,
         "subplot": "mapbox",
         "type": "scattermapbox"
        },
        {
         "hovertemplate": "Customers=University of Southern Mississippi<br>Number of Users=%{marker.size}<br>Lat=%{lat}<br>Long=%{lon}<extra></extra>",
         "lat": [
          31.327811,
          31.327811,
          31.327811,
          31.327811
         ],
         "legendgroup": "University of Southern Mississippi",
         "lon": [
          -89.332063,
          -89.332063,
          -89.332063,
          -89.332063
         ],
         "marker": {
          "color": "#19d3f3",
          "size": [
           310,
           310,
           310,
           310
          ],
          "sizemode": "area",
          "sizeref": 37.625
         },
         "mode": "markers",
         "name": "University of Southern Mississippi",
         "showlegend": true,
         "subplot": "mapbox",
         "type": "scattermapbox"
        },
        {
         "hovertemplate": "Customers=University of St. Francis<br>Number of Users=%{marker.size}<br>Lat=%{lat}<br>Long=%{lon}<extra></extra>",
         "lat": [
          41.532977
         ],
         "legendgroup": "University of St. Francis",
         "lon": [
          -88.098109
         ],
         "marker": {
          "color": "#FF6692",
          "size": [
           100
          ],
          "sizemode": "area",
          "sizeref": 37.625
         },
         "mode": "markers",
         "name": "University of St. Francis",
         "showlegend": true,
         "subplot": "mapbox",
         "type": "scattermapbox"
        },
        {
         "hovertemplate": "Customers=University of St. Thomas<br>Number of Users=%{marker.size}<br>Lat=%{lat}<br>Long=%{lon}<extra></extra>",
         "lat": [
          44.943933
         ],
         "legendgroup": "University of St. Thomas",
         "lon": [
          -93.189874
         ],
         "marker": {
          "color": "#B6E880",
          "size": [
           311
          ],
          "sizemode": "area",
          "sizeref": 37.625
         },
         "mode": "markers",
         "name": "University of St. Thomas",
         "showlegend": true,
         "subplot": "mapbox",
         "type": "scattermapbox"
        },
        {
         "hovertemplate": "Customers=University of Tennessee at Martin<br>Number of Users=%{marker.size}<br>Lat=%{lat}<br>Long=%{lon}<extra></extra>",
         "lat": [
          36.341367,
          36.341367,
          36.341367,
          36.341367
         ],
         "legendgroup": "University of Tennessee at Martin",
         "lon": [
          -88.86476,
          -88.86476,
          -88.86476,
          -88.86476
         ],
         "marker": {
          "color": "#FF97FF",
          "size": [
           146,
           146,
           146,
           146
          ],
          "sizemode": "area",
          "sizeref": 37.625
         },
         "mode": "markers",
         "name": "University of Tennessee at Martin",
         "showlegend": true,
         "subplot": "mapbox",
         "type": "scattermapbox"
        },
        {
         "hovertemplate": "Customers=University of Texas at San Antonio<br>Number of Users=%{marker.size}<br>Lat=%{lat}<br>Long=%{lon}<extra></extra>",
         "lat": [
          29.584425
         ],
         "legendgroup": "University of Texas at San Antonio",
         "lon": [
          -98.617555
         ],
         "marker": {
          "color": "#FECB52",
          "size": [
           100
          ],
          "sizemode": "area",
          "sizeref": 37.625
         },
         "mode": "markers",
         "name": "University of Texas at San Antonio",
         "showlegend": true,
         "subplot": "mapbox",
         "type": "scattermapbox"
        },
        {
         "hovertemplate": "Customers=University of Texas at Tyler<br>Number of Users=%{marker.size}<br>Lat=%{lat}<br>Long=%{lon}<extra></extra>",
         "lat": [
          32.314909
         ],
         "legendgroup": "University of Texas at Tyler",
         "lon": [
          -95.254302
         ],
         "marker": {
          "color": "#636efa",
          "size": [
           71
          ],
          "sizemode": "area",
          "sizeref": 37.625
         },
         "mode": "markers",
         "name": "University of Texas at Tyler",
         "showlegend": true,
         "subplot": "mapbox",
         "type": "scattermapbox"
        },
        {
         "hovertemplate": "Customers=University of the Arts<br>Number of Users=%{marker.size}<br>Lat=%{lat}<br>Long=%{lon}<extra></extra>",
         "lat": [
          39.945975,
          39.945975
         ],
         "legendgroup": "University of the Arts",
         "lon": [
          -75.16555600000002,
          -75.16555600000002
         ],
         "marker": {
          "color": "#EF553B",
          "size": [
           122,
           122
          ],
          "sizemode": "area",
          "sizeref": 37.625
         },
         "mode": "markers",
         "name": "University of the Arts",
         "showlegend": true,
         "subplot": "mapbox",
         "type": "scattermapbox"
        },
        {
         "hovertemplate": "Customers=University of the Cumberland<br>Number of Users=%{marker.size}<br>Lat=%{lat}<br>Long=%{lon}<extra></extra>",
         "lat": [
          36.73702700000001
         ],
         "legendgroup": "University of the Cumberland",
         "lon": [
          -84.162826
         ],
         "marker": {
          "color": "#00cc96",
          "size": [
           250
          ],
          "sizemode": "area",
          "sizeref": 37.625
         },
         "mode": "markers",
         "name": "University of the Cumberland",
         "showlegend": true,
         "subplot": "mapbox",
         "type": "scattermapbox"
        },
        {
         "hovertemplate": "Customers=University of the Pacific<br>Number of Users=%{marker.size}<br>Lat=%{lat}<br>Long=%{lon}<extra></extra>",
         "lat": [
          37.981987,
          37.981987,
          37.981987
         ],
         "legendgroup": "University of the Pacific",
         "lon": [
          -121.30867,
          -121.30867,
          -121.30867
         ],
         "marker": {
          "color": "#ab63fa",
          "size": [
           500,
           500,
           500
          ],
          "sizemode": "area",
          "sizeref": 37.625
         },
         "mode": "markers",
         "name": "University of the Pacific",
         "showlegend": true,
         "subplot": "mapbox",
         "type": "scattermapbox"
        },
        {
         "hovertemplate": "Customers=University of Virginia<br>Number of Users=%{marker.size}<br>Lat=%{lat}<br>Long=%{lon}<extra></extra>",
         "lat": [
          38.049883,
          38.049883
         ],
         "legendgroup": "University of Virginia",
         "lon": [
          -78.501288,
          -78.501288
         ],
         "marker": {
          "color": "#FFA15A",
          "size": [
           100,
           100
          ],
          "sizemode": "area",
          "sizeref": 37.625
         },
         "mode": "markers",
         "name": "University of Virginia",
         "showlegend": true,
         "subplot": "mapbox",
         "type": "scattermapbox"
        },
        {
         "hovertemplate": "Customers=University of West Alabama<br>Number of Users=%{marker.size}<br>Lat=%{lat}<br>Long=%{lon}<extra></extra>",
         "lat": [
          32.581327,
          32.581327
         ],
         "legendgroup": "University of West Alabama",
         "lon": [
          -88.18576800000002,
          -88.18576800000002
         ],
         "marker": {
          "color": "#19d3f3",
          "size": [
           50,
           50
          ],
          "sizemode": "area",
          "sizeref": 37.625
         },
         "mode": "markers",
         "name": "University of West Alabama",
         "showlegend": true,
         "subplot": "mapbox",
         "type": "scattermapbox"
        },
        {
         "hovertemplate": "Customers=University of West Georgia<br>Number of Users=%{marker.size}<br>Lat=%{lat}<br>Long=%{lon}<extra></extra>",
         "lat": [
          33.574397
         ],
         "legendgroup": "University of West Georgia",
         "lon": [
          -85.09905400000002
         ],
         "marker": {
          "color": "#FF6692",
          "size": [
           200
          ],
          "sizemode": "area",
          "sizeref": 37.625
         },
         "mode": "markers",
         "name": "University of West Georgia",
         "showlegend": true,
         "subplot": "mapbox",
         "type": "scattermapbox"
        },
        {
         "hovertemplate": "Customers=University of Wisconsin Stevens Point<br>Number of Users=%{marker.size}<br>Lat=%{lat}<br>Long=%{lon}<extra></extra>",
         "lat": [
          44.527988,
          44.527988
         ],
         "legendgroup": "University of Wisconsin Stevens Point",
         "lon": [
          -89.572315,
          -89.572315
         ],
         "marker": {
          "color": "#B6E880",
          "size": [
           350,
           350
          ],
          "sizemode": "area",
          "sizeref": 37.625
         },
         "mode": "markers",
         "name": "University of Wisconsin Stevens Point",
         "showlegend": true,
         "subplot": "mapbox",
         "type": "scattermapbox"
        },
        {
         "hovertemplate": "Customers=University of Wisconsin-Eau Claire<br>Number of Users=%{marker.size}<br>Lat=%{lat}<br>Long=%{lon}<extra></extra>",
         "lat": [
          44.804918
         ],
         "legendgroup": "University of Wisconsin-Eau Claire",
         "lon": [
          -91.46952
         ],
         "marker": {
          "color": "#FF97FF",
          "size": [
           525
          ],
          "sizemode": "area",
          "sizeref": 37.625
         },
         "mode": "markers",
         "name": "University of Wisconsin-Eau Claire",
         "showlegend": true,
         "subplot": "mapbox",
         "type": "scattermapbox"
        },
        {
         "hovertemplate": "Customers=University of Wisconsin-Madison<br>Number of Users=%{marker.size}<br>Lat=%{lat}<br>Long=%{lon}<extra></extra>",
         "lat": [
          43.075647
         ],
         "legendgroup": "University of Wisconsin-Madison",
         "lon": [
          -89.402263
         ],
         "marker": {
          "color": "#FECB52",
          "size": [
           186
          ],
          "sizemode": "area",
          "sizeref": 37.625
         },
         "mode": "markers",
         "name": "University of Wisconsin-Madison",
         "showlegend": true,
         "subplot": "mapbox",
         "type": "scattermapbox"
        },
        {
         "hovertemplate": "Customers=University of Wisconsin-River Falls<br>Number of Users=%{marker.size}<br>Lat=%{lat}<br>Long=%{lon}<extra></extra>",
         "lat": [
          44.852336,
          44.852336
         ],
         "legendgroup": "University of Wisconsin-River Falls",
         "lon": [
          -92.621352,
          -92.621352
         ],
         "marker": {
          "color": "#636efa",
          "size": [
           135,
           135
          ],
          "sizemode": "area",
          "sizeref": 37.625
         },
         "mode": "markers",
         "name": "University of Wisconsin-River Falls",
         "showlegend": true,
         "subplot": "mapbox",
         "type": "scattermapbox"
        },
        {
         "hovertemplate": "Customers=University of Wyoming, College of Education<br>Number of Users=%{marker.size}<br>Lat=%{lat}<br>Long=%{lon}<extra></extra>",
         "lat": [
          41.31239
         ],
         "legendgroup": "University of Wyoming, College of Education",
         "lon": [
          -105.579458
         ],
         "marker": {
          "color": "#EF553B",
          "size": [
           45
          ],
          "sizemode": "area",
          "sizeref": 37.625
         },
         "mode": "markers",
         "name": "University of Wyoming, College of Education",
         "showlegend": true,
         "subplot": "mapbox",
         "type": "scattermapbox"
        },
        {
         "hovertemplate": "Customers=Utah Valley University<br>Number of Users=%{marker.size}<br>Lat=%{lat}<br>Long=%{lon}<extra></extra>",
         "lat": [
          40.277261,
          40.277261
         ],
         "legendgroup": "Utah Valley University",
         "lon": [
          -111.7129,
          -111.7129
         ],
         "marker": {
          "color": "#00cc96",
          "size": [
           1000,
           1000
          ],
          "sizemode": "area",
          "sizeref": 37.625
         },
         "mode": "markers",
         "name": "Utah Valley University",
         "showlegend": true,
         "subplot": "mapbox",
         "type": "scattermapbox"
        },
        {
         "hovertemplate": "Customers=Utica College<br>Number of Users=%{marker.size}<br>Lat=%{lat}<br>Long=%{lon}<extra></extra>",
         "lat": [
          43.095287
         ],
         "legendgroup": "Utica College",
         "lon": [
          -75.271726
         ],
         "marker": {
          "color": "#ab63fa",
          "size": [
           200
          ],
          "sizemode": "area",
          "sizeref": 37.625
         },
         "mode": "markers",
         "name": "Utica College",
         "showlegend": true,
         "subplot": "mapbox",
         "type": "scattermapbox"
        },
        {
         "hovertemplate": "Customers=VA NBCT Network<br>Number of Users=%{marker.size}<br>Lat=%{lat}<br>Long=%{lon}<extra></extra>",
         "lat": [
          null
         ],
         "legendgroup": "VA NBCT Network",
         "lon": [
          null
         ],
         "marker": {
          "color": "#FFA15A",
          "size": [
           0
          ],
          "sizemode": "area",
          "sizeref": 37.625
         },
         "mode": "markers",
         "name": "VA NBCT Network",
         "showlegend": true,
         "subplot": "mapbox",
         "type": "scattermapbox"
        },
        {
         "hovertemplate": "Customers=Valdosta State University<br>Number of Users=%{marker.size}<br>Lat=%{lat}<br>Long=%{lon}<extra></extra>",
         "lat": [
          30.848574
         ],
         "legendgroup": "Valdosta State University",
         "lon": [
          -83.291042
         ],
         "marker": {
          "color": "#19d3f3",
          "size": [
           500
          ],
          "sizemode": "area",
          "sizeref": 37.625
         },
         "mode": "markers",
         "name": "Valdosta State University",
         "showlegend": true,
         "subplot": "mapbox",
         "type": "scattermapbox"
        },
        {
         "hovertemplate": "Customers=Virginia Commonwealth University<br>Number of Users=%{marker.size}<br>Lat=%{lat}<br>Long=%{lon}<extra></extra>",
         "lat": [
          37.546856
         ],
         "legendgroup": "Virginia Commonwealth University",
         "lon": [
          -77.453638
         ],
         "marker": {
          "color": "#FF6692",
          "size": [
           20
          ],
          "sizemode": "area",
          "sizeref": 37.625
         },
         "mode": "markers",
         "name": "Virginia Commonwealth University",
         "showlegend": true,
         "subplot": "mapbox",
         "type": "scattermapbox"
        },
        {
         "hovertemplate": "Customers=Vitero University<br>Number of Users=%{marker.size}<br>Lat=%{lat}<br>Long=%{lon}<extra></extra>",
         "lat": [
          43.802091
         ],
         "legendgroup": "Vitero University",
         "lon": [
          -91.244954
         ],
         "marker": {
          "color": "#B6E880",
          "size": [
           10
          ],
          "sizemode": "area",
          "sizeref": 37.625
         },
         "mode": "markers",
         "name": "Vitero University",
         "showlegend": true,
         "subplot": "mapbox",
         "type": "scattermapbox"
        },
        {
         "hovertemplate": "Customers=Walla Walla Public Schools<br>Number of Users=%{marker.size}<br>Lat=%{lat}<br>Long=%{lon}<extra></extra>",
         "lat": [
          46.065081,
          46.065081
         ],
         "legendgroup": "Walla Walla Public Schools",
         "lon": [
          -118.32958700000002,
          -118.32958700000002
         ],
         "marker": {
          "color": "#FF97FF",
          "size": [
           290,
           290
          ],
          "sizemode": "area",
          "sizeref": 37.625
         },
         "mode": "markers",
         "name": "Walla Walla Public Schools",
         "showlegend": true,
         "subplot": "mapbox",
         "type": "scattermapbox"
        },
        {
         "hovertemplate": "Customers=Washington County Schools<br>Number of Users=%{marker.size}<br>Lat=%{lat}<br>Long=%{lon}<extra></extra>",
         "lat": [
          39.598072
         ],
         "legendgroup": "Washington County Schools",
         "lon": [
          -77.764449
         ],
         "marker": {
          "color": "#FECB52",
          "size": [
           25
          ],
          "sizemode": "area",
          "sizeref": 37.625
         },
         "mode": "markers",
         "name": "Washington County Schools",
         "showlegend": true,
         "subplot": "mapbox",
         "type": "scattermapbox"
        },
        {
         "hovertemplate": "Customers=Washington State University<br>Number of Users=%{marker.size}<br>Lat=%{lat}<br>Long=%{lon}<extra></extra>",
         "lat": [
          46.728879
         ],
         "legendgroup": "Washington State University",
         "lon": [
          -117.17951200000002
         ],
         "marker": {
          "color": "#636efa",
          "size": [
           100
          ],
          "sizemode": "area",
          "sizeref": 37.625
         },
         "mode": "markers",
         "name": "Washington State University",
         "showlegend": true,
         "subplot": "mapbox",
         "type": "scattermapbox"
        },
        {
         "hovertemplate": "Customers=West Liberty University<br>Number of Users=%{marker.size}<br>Lat=%{lat}<br>Long=%{lon}<extra></extra>",
         "lat": [
          40.053501
         ],
         "legendgroup": "West Liberty University",
         "lon": [
          -80.603799
         ],
         "marker": {
          "color": "#EF553B",
          "size": [
           350
          ],
          "sizemode": "area",
          "sizeref": 37.625
         },
         "mode": "markers",
         "name": "West Liberty University",
         "showlegend": true,
         "subplot": "mapbox",
         "type": "scattermapbox"
        },
        {
         "hovertemplate": "Customers=Western Carolina University<br>Number of Users=%{marker.size}<br>Lat=%{lat}<br>Long=%{lon}<extra></extra>",
         "lat": [
          35.309247
         ],
         "legendgroup": "Western Carolina University",
         "lon": [
          -83.183142
         ],
         "marker": {
          "color": "#00cc96",
          "size": [
           600
          ],
          "sizemode": "area",
          "sizeref": 37.625
         },
         "mode": "markers",
         "name": "Western Carolina University",
         "showlegend": true,
         "subplot": "mapbox",
         "type": "scattermapbox"
        },
        {
         "hovertemplate": "Customers=Western Governors University<br>Number of Users=%{marker.size}<br>Lat=%{lat}<br>Long=%{lon}<extra></extra>",
         "lat": [
          40.684882,
          40.684882,
          40.684882,
          40.684882
         ],
         "legendgroup": "Western Governors University",
         "lon": [
          -111.869961,
          -111.869961,
          -111.869961,
          -111.869961
         ],
         "marker": {
          "color": "#ab63fa",
          "size": [
           15050,
           15050,
           15050,
           15050
          ],
          "sizemode": "area",
          "sizeref": 37.625
         },
         "mode": "markers",
         "name": "Western Governors University",
         "showlegend": true,
         "subplot": "mapbox",
         "type": "scattermapbox"
        },
        {
         "hovertemplate": "Customers=Western Illinois University<br>Number of Users=%{marker.size}<br>Lat=%{lat}<br>Long=%{lon}<extra></extra>",
         "lat": [
          40.471244,
          40.471244
         ],
         "legendgroup": "Western Illinois University",
         "lon": [
          -90.685787,
          -90.685787
         ],
         "marker": {
          "color": "#FFA15A",
          "size": [
           250,
           250
          ],
          "sizemode": "area",
          "sizeref": 37.625
         },
         "mode": "markers",
         "name": "Western Illinois University",
         "showlegend": true,
         "subplot": "mapbox",
         "type": "scattermapbox"
        },
        {
         "hovertemplate": "Customers=Western Washington University<br>Number of Users=%{marker.size}<br>Lat=%{lat}<br>Long=%{lon}<extra></extra>",
         "lat": [
          48.739022
         ],
         "legendgroup": "Western Washington University",
         "lon": [
          -122.4836
         ],
         "marker": {
          "color": "#19d3f3",
          "size": [
           130
          ],
          "sizemode": "area",
          "sizeref": 37.625
         },
         "mode": "markers",
         "name": "Western Washington University",
         "showlegend": true,
         "subplot": "mapbox",
         "type": "scattermapbox"
        },
        {
         "hovertemplate": "Customers=Westfield State University<br>Number of Users=%{marker.size}<br>Lat=%{lat}<br>Long=%{lon}<extra></extra>",
         "lat": [
          42.131186
         ],
         "legendgroup": "Westfield State University",
         "lon": [
          -72.794618
         ],
         "marker": {
          "color": "#FF6692",
          "size": [
           400
          ],
          "sizemode": "area",
          "sizeref": 37.625
         },
         "mode": "markers",
         "name": "Westfield State University",
         "showlegend": true,
         "subplot": "mapbox",
         "type": "scattermapbox"
        },
        {
         "hovertemplate": "Customers=Wheaton College<br>Number of Users=%{marker.size}<br>Lat=%{lat}<br>Long=%{lon}<extra></extra>",
         "lat": [
          41.868522
         ],
         "legendgroup": "Wheaton College",
         "lon": [
          -88.099554
         ],
         "marker": {
          "color": "#B6E880",
          "size": [
           55
          ],
          "sizemode": "area",
          "sizeref": 37.625
         },
         "mode": "markers",
         "name": "Wheaton College",
         "showlegend": true,
         "subplot": "mapbox",
         "type": "scattermapbox"
        },
        {
         "hovertemplate": "Customers=William Baptist University<br>Number of Users=%{marker.size}<br>Lat=%{lat}<br>Long=%{lon}<extra></extra>",
         "lat": [
          36.125769
         ],
         "legendgroup": "William Baptist University",
         "lon": [
          -90.938983
         ],
         "marker": {
          "color": "#FF97FF",
          "size": [
           85
          ],
          "sizemode": "area",
          "sizeref": 37.625
         },
         "mode": "markers",
         "name": "William Baptist University",
         "showlegend": true,
         "subplot": "mapbox",
         "type": "scattermapbox"
        },
        {
         "hovertemplate": "Customers=William Paterson University<br>Number of Users=%{marker.size}<br>Lat=%{lat}<br>Long=%{lon}<extra></extra>",
         "lat": [
          40.945173
         ],
         "legendgroup": "William Paterson University",
         "lon": [
          -74.200317
         ],
         "marker": {
          "color": "#FECB52",
          "size": [
           40
          ],
          "sizemode": "area",
          "sizeref": 37.625
         },
         "mode": "markers",
         "name": "William Paterson University",
         "showlegend": true,
         "subplot": "mapbox",
         "type": "scattermapbox"
        },
        {
         "hovertemplate": "Customers=Wingate University<br>Number of Users=%{marker.size}<br>Lat=%{lat}<br>Long=%{lon}<extra></extra>",
         "lat": [
          34.986059000000004
         ],
         "legendgroup": "Wingate University",
         "lon": [
          -80.443073
         ],
         "marker": {
          "color": "#636efa",
          "size": [
           100
          ],
          "sizemode": "area",
          "sizeref": 37.625
         },
         "mode": "markers",
         "name": "Wingate University",
         "showlegend": true,
         "subplot": "mapbox",
         "type": "scattermapbox"
        },
        {
         "hovertemplate": "Customers=Winston-Salem State University<br>Number of Users=%{marker.size}<br>Lat=%{lat}<br>Long=%{lon}<extra></extra>",
         "lat": [
          36.089607
         ],
         "legendgroup": "Winston-Salem State University",
         "lon": [
          -80.22456700000002
         ],
         "marker": {
          "color": "#EF553B",
          "size": [
           75
          ],
          "sizemode": "area",
          "sizeref": 37.625
         },
         "mode": "markers",
         "name": "Winston-Salem State University",
         "showlegend": true,
         "subplot": "mapbox",
         "type": "scattermapbox"
        },
        {
         "hovertemplate": "Customers=Winthrop University<br>Number of Users=%{marker.size}<br>Lat=%{lat}<br>Long=%{lon}<extra></extra>",
         "lat": [
          34.938466,
          34.938466,
          34.938466,
          34.938466,
          34.938466,
          34.938466,
          34.938466
         ],
         "legendgroup": "Winthrop University",
         "lon": [
          -81.029872,
          -81.029872,
          -81.029872,
          -81.029872,
          -81.029872,
          -81.029872,
          -81.029872
         ],
         "marker": {
          "color": "#00cc96",
          "size": [
           975,
           975,
           975,
           975,
           975,
           975,
           975
          ],
          "sizemode": "area",
          "sizeref": 37.625
         },
         "mode": "markers",
         "name": "Winthrop University",
         "showlegend": true,
         "subplot": "mapbox",
         "type": "scattermapbox"
        },
        {
         "hovertemplate": "Customers=Yakima Valley College<br>Number of Users=%{marker.size}<br>Lat=%{lat}<br>Long=%{lon}<extra></extra>",
         "lat": [
          -35.001338
         ],
         "legendgroup": "Yakima Valley College",
         "lon": [
          117.875053
         ],
         "marker": {
          "color": "#ab63fa",
          "size": [
           56
          ],
          "sizemode": "area",
          "sizeref": 37.625
         },
         "mode": "markers",
         "name": "Yakima Valley College",
         "showlegend": true,
         "subplot": "mapbox",
         "type": "scattermapbox"
        },
        {
         "hovertemplate": "Customers=Young Harris College/Miller Library<br>Number of Users=%{marker.size}<br>Lat=%{lat}<br>Long=%{lon}<extra></extra>",
         "lat": [
          34.934079,
          34.934079
         ],
         "legendgroup": "Young Harris College/Miller Library",
         "lon": [
          -83.846801,
          -83.846801
         ],
         "marker": {
          "color": "#FFA15A",
          "size": [
           0,
           0
          ],
          "sizemode": "area",
          "sizeref": 37.625
         },
         "mode": "markers",
         "name": "Young Harris College/Miller Library",
         "showlegend": true,
         "subplot": "mapbox",
         "type": "scattermapbox"
        }
       ],
       "layout": {
        "height": 900,
        "legend": {
         "itemsizing": "constant",
         "title": {
          "text": "Customers"
         },
         "tracegroupgap": 0
        },
        "mapbox": {
         "accesstoken": "pk.eyJ1IjoibWlsYWRuYXphciIsImEiOiJja2doYmN1d2swNGtkMnNvMGRhb3RnbmZpIn0.h5puE2zZYJuUHFdI586CDg",
         "center": {
          "lat": 37.20847607132464,
          "lon": -87.98924408442514
         },
         "domain": {
          "x": [
           0,
           1
          ],
          "y": [
           0,
           1
          ]
         },
         "style": "open-street-map",
         "zoom": 4
        },
        "margin": {
         "t": 60
        },
        "template": {
         "data": {
          "bar": [
           {
            "error_x": {
             "color": "#2a3f5f"
            },
            "error_y": {
             "color": "#2a3f5f"
            },
            "marker": {
             "line": {
              "color": "#E5ECF6",
              "width": 0.5
             }
            },
            "type": "bar"
           }
          ],
          "barpolar": [
           {
            "marker": {
             "line": {
              "color": "#E5ECF6",
              "width": 0.5
             }
            },
            "type": "barpolar"
           }
          ],
          "carpet": [
           {
            "aaxis": {
             "endlinecolor": "#2a3f5f",
             "gridcolor": "white",
             "linecolor": "white",
             "minorgridcolor": "white",
             "startlinecolor": "#2a3f5f"
            },
            "baxis": {
             "endlinecolor": "#2a3f5f",
             "gridcolor": "white",
             "linecolor": "white",
             "minorgridcolor": "white",
             "startlinecolor": "#2a3f5f"
            },
            "type": "carpet"
           }
          ],
          "choropleth": [
           {
            "colorbar": {
             "outlinewidth": 0,
             "ticks": ""
            },
            "type": "choropleth"
           }
          ],
          "contour": [
           {
            "colorbar": {
             "outlinewidth": 0,
             "ticks": ""
            },
            "colorscale": [
             [
              0,
              "#0d0887"
             ],
             [
              0.1111111111111111,
              "#46039f"
             ],
             [
              0.2222222222222222,
              "#7201a8"
             ],
             [
              0.3333333333333333,
              "#9c179e"
             ],
             [
              0.4444444444444444,
              "#bd3786"
             ],
             [
              0.5555555555555556,
              "#d8576b"
             ],
             [
              0.6666666666666666,
              "#ed7953"
             ],
             [
              0.7777777777777778,
              "#fb9f3a"
             ],
             [
              0.8888888888888888,
              "#fdca26"
             ],
             [
              1,
              "#f0f921"
             ]
            ],
            "type": "contour"
           }
          ],
          "contourcarpet": [
           {
            "colorbar": {
             "outlinewidth": 0,
             "ticks": ""
            },
            "type": "contourcarpet"
           }
          ],
          "heatmap": [
           {
            "colorbar": {
             "outlinewidth": 0,
             "ticks": ""
            },
            "colorscale": [
             [
              0,
              "#0d0887"
             ],
             [
              0.1111111111111111,
              "#46039f"
             ],
             [
              0.2222222222222222,
              "#7201a8"
             ],
             [
              0.3333333333333333,
              "#9c179e"
             ],
             [
              0.4444444444444444,
              "#bd3786"
             ],
             [
              0.5555555555555556,
              "#d8576b"
             ],
             [
              0.6666666666666666,
              "#ed7953"
             ],
             [
              0.7777777777777778,
              "#fb9f3a"
             ],
             [
              0.8888888888888888,
              "#fdca26"
             ],
             [
              1,
              "#f0f921"
             ]
            ],
            "type": "heatmap"
           }
          ],
          "heatmapgl": [
           {
            "colorbar": {
             "outlinewidth": 0,
             "ticks": ""
            },
            "colorscale": [
             [
              0,
              "#0d0887"
             ],
             [
              0.1111111111111111,
              "#46039f"
             ],
             [
              0.2222222222222222,
              "#7201a8"
             ],
             [
              0.3333333333333333,
              "#9c179e"
             ],
             [
              0.4444444444444444,
              "#bd3786"
             ],
             [
              0.5555555555555556,
              "#d8576b"
             ],
             [
              0.6666666666666666,
              "#ed7953"
             ],
             [
              0.7777777777777778,
              "#fb9f3a"
             ],
             [
              0.8888888888888888,
              "#fdca26"
             ],
             [
              1,
              "#f0f921"
             ]
            ],
            "type": "heatmapgl"
           }
          ],
          "histogram": [
           {
            "marker": {
             "colorbar": {
              "outlinewidth": 0,
              "ticks": ""
             }
            },
            "type": "histogram"
           }
          ],
          "histogram2d": [
           {
            "colorbar": {
             "outlinewidth": 0,
             "ticks": ""
            },
            "colorscale": [
             [
              0,
              "#0d0887"
             ],
             [
              0.1111111111111111,
              "#46039f"
             ],
             [
              0.2222222222222222,
              "#7201a8"
             ],
             [
              0.3333333333333333,
              "#9c179e"
             ],
             [
              0.4444444444444444,
              "#bd3786"
             ],
             [
              0.5555555555555556,
              "#d8576b"
             ],
             [
              0.6666666666666666,
              "#ed7953"
             ],
             [
              0.7777777777777778,
              "#fb9f3a"
             ],
             [
              0.8888888888888888,
              "#fdca26"
             ],
             [
              1,
              "#f0f921"
             ]
            ],
            "type": "histogram2d"
           }
          ],
          "histogram2dcontour": [
           {
            "colorbar": {
             "outlinewidth": 0,
             "ticks": ""
            },
            "colorscale": [
             [
              0,
              "#0d0887"
             ],
             [
              0.1111111111111111,
              "#46039f"
             ],
             [
              0.2222222222222222,
              "#7201a8"
             ],
             [
              0.3333333333333333,
              "#9c179e"
             ],
             [
              0.4444444444444444,
              "#bd3786"
             ],
             [
              0.5555555555555556,
              "#d8576b"
             ],
             [
              0.6666666666666666,
              "#ed7953"
             ],
             [
              0.7777777777777778,
              "#fb9f3a"
             ],
             [
              0.8888888888888888,
              "#fdca26"
             ],
             [
              1,
              "#f0f921"
             ]
            ],
            "type": "histogram2dcontour"
           }
          ],
          "mesh3d": [
           {
            "colorbar": {
             "outlinewidth": 0,
             "ticks": ""
            },
            "type": "mesh3d"
           }
          ],
          "parcoords": [
           {
            "line": {
             "colorbar": {
              "outlinewidth": 0,
              "ticks": ""
             }
            },
            "type": "parcoords"
           }
          ],
          "pie": [
           {
            "automargin": true,
            "type": "pie"
           }
          ],
          "scatter": [
           {
            "marker": {
             "colorbar": {
              "outlinewidth": 0,
              "ticks": ""
             }
            },
            "type": "scatter"
           }
          ],
          "scatter3d": [
           {
            "line": {
             "colorbar": {
              "outlinewidth": 0,
              "ticks": ""
             }
            },
            "marker": {
             "colorbar": {
              "outlinewidth": 0,
              "ticks": ""
             }
            },
            "type": "scatter3d"
           }
          ],
          "scattercarpet": [
           {
            "marker": {
             "colorbar": {
              "outlinewidth": 0,
              "ticks": ""
             }
            },
            "type": "scattercarpet"
           }
          ],
          "scattergeo": [
           {
            "marker": {
             "colorbar": {
              "outlinewidth": 0,
              "ticks": ""
             }
            },
            "type": "scattergeo"
           }
          ],
          "scattergl": [
           {
            "marker": {
             "colorbar": {
              "outlinewidth": 0,
              "ticks": ""
             }
            },
            "type": "scattergl"
           }
          ],
          "scattermapbox": [
           {
            "marker": {
             "colorbar": {
              "outlinewidth": 0,
              "ticks": ""
             }
            },
            "type": "scattermapbox"
           }
          ],
          "scatterpolar": [
           {
            "marker": {
             "colorbar": {
              "outlinewidth": 0,
              "ticks": ""
             }
            },
            "type": "scatterpolar"
           }
          ],
          "scatterpolargl": [
           {
            "marker": {
             "colorbar": {
              "outlinewidth": 0,
              "ticks": ""
             }
            },
            "type": "scatterpolargl"
           }
          ],
          "scatterternary": [
           {
            "marker": {
             "colorbar": {
              "outlinewidth": 0,
              "ticks": ""
             }
            },
            "type": "scatterternary"
           }
          ],
          "surface": [
           {
            "colorbar": {
             "outlinewidth": 0,
             "ticks": ""
            },
            "colorscale": [
             [
              0,
              "#0d0887"
             ],
             [
              0.1111111111111111,
              "#46039f"
             ],
             [
              0.2222222222222222,
              "#7201a8"
             ],
             [
              0.3333333333333333,
              "#9c179e"
             ],
             [
              0.4444444444444444,
              "#bd3786"
             ],
             [
              0.5555555555555556,
              "#d8576b"
             ],
             [
              0.6666666666666666,
              "#ed7953"
             ],
             [
              0.7777777777777778,
              "#fb9f3a"
             ],
             [
              0.8888888888888888,
              "#fdca26"
             ],
             [
              1,
              "#f0f921"
             ]
            ],
            "type": "surface"
           }
          ],
          "table": [
           {
            "cells": {
             "fill": {
              "color": "#EBF0F8"
             },
             "line": {
              "color": "white"
             }
            },
            "header": {
             "fill": {
              "color": "#C8D4E3"
             },
             "line": {
              "color": "white"
             }
            },
            "type": "table"
           }
          ]
         },
         "layout": {
          "annotationdefaults": {
           "arrowcolor": "#2a3f5f",
           "arrowhead": 0,
           "arrowwidth": 1
          },
          "coloraxis": {
           "colorbar": {
            "outlinewidth": 0,
            "ticks": ""
           }
          },
          "colorscale": {
           "diverging": [
            [
             0,
             "#8e0152"
            ],
            [
             0.1,
             "#c51b7d"
            ],
            [
             0.2,
             "#de77ae"
            ],
            [
             0.3,
             "#f1b6da"
            ],
            [
             0.4,
             "#fde0ef"
            ],
            [
             0.5,
             "#f7f7f7"
            ],
            [
             0.6,
             "#e6f5d0"
            ],
            [
             0.7,
             "#b8e186"
            ],
            [
             0.8,
             "#7fbc41"
            ],
            [
             0.9,
             "#4d9221"
            ],
            [
             1,
             "#276419"
            ]
           ],
           "sequential": [
            [
             0,
             "#0d0887"
            ],
            [
             0.1111111111111111,
             "#46039f"
            ],
            [
             0.2222222222222222,
             "#7201a8"
            ],
            [
             0.3333333333333333,
             "#9c179e"
            ],
            [
             0.4444444444444444,
             "#bd3786"
            ],
            [
             0.5555555555555556,
             "#d8576b"
            ],
            [
             0.6666666666666666,
             "#ed7953"
            ],
            [
             0.7777777777777778,
             "#fb9f3a"
            ],
            [
             0.8888888888888888,
             "#fdca26"
            ],
            [
             1,
             "#f0f921"
            ]
           ],
           "sequentialminus": [
            [
             0,
             "#0d0887"
            ],
            [
             0.1111111111111111,
             "#46039f"
            ],
            [
             0.2222222222222222,
             "#7201a8"
            ],
            [
             0.3333333333333333,
             "#9c179e"
            ],
            [
             0.4444444444444444,
             "#bd3786"
            ],
            [
             0.5555555555555556,
             "#d8576b"
            ],
            [
             0.6666666666666666,
             "#ed7953"
            ],
            [
             0.7777777777777778,
             "#fb9f3a"
            ],
            [
             0.8888888888888888,
             "#fdca26"
            ],
            [
             1,
             "#f0f921"
            ]
           ]
          },
          "colorway": [
           "#636efa",
           "#EF553B",
           "#00cc96",
           "#ab63fa",
           "#FFA15A",
           "#19d3f3",
           "#FF6692",
           "#B6E880",
           "#FF97FF",
           "#FECB52"
          ],
          "font": {
           "color": "#2a3f5f"
          },
          "geo": {
           "bgcolor": "white",
           "lakecolor": "white",
           "landcolor": "#E5ECF6",
           "showlakes": true,
           "showland": true,
           "subunitcolor": "white"
          },
          "hoverlabel": {
           "align": "left"
          },
          "hovermode": "closest",
          "mapbox": {
           "style": "light"
          },
          "paper_bgcolor": "white",
          "plot_bgcolor": "#E5ECF6",
          "polar": {
           "angularaxis": {
            "gridcolor": "white",
            "linecolor": "white",
            "ticks": ""
           },
           "bgcolor": "#E5ECF6",
           "radialaxis": {
            "gridcolor": "white",
            "linecolor": "white",
            "ticks": ""
           }
          },
          "scene": {
           "xaxis": {
            "backgroundcolor": "#E5ECF6",
            "gridcolor": "white",
            "gridwidth": 2,
            "linecolor": "white",
            "showbackground": true,
            "ticks": "",
            "zerolinecolor": "white"
           },
           "yaxis": {
            "backgroundcolor": "#E5ECF6",
            "gridcolor": "white",
            "gridwidth": 2,
            "linecolor": "white",
            "showbackground": true,
            "ticks": "",
            "zerolinecolor": "white"
           },
           "zaxis": {
            "backgroundcolor": "#E5ECF6",
            "gridcolor": "white",
            "gridwidth": 2,
            "linecolor": "white",
            "showbackground": true,
            "ticks": "",
            "zerolinecolor": "white"
           }
          },
          "shapedefaults": {
           "line": {
            "color": "#2a3f5f"
           }
          },
          "ternary": {
           "aaxis": {
            "gridcolor": "white",
            "linecolor": "white",
            "ticks": ""
           },
           "baxis": {
            "gridcolor": "white",
            "linecolor": "white",
            "ticks": ""
           },
           "bgcolor": "#E5ECF6",
           "caxis": {
            "gridcolor": "white",
            "linecolor": "white",
            "ticks": ""
           }
          },
          "title": {
           "x": 0.05
          },
          "xaxis": {
           "automargin": true,
           "gridcolor": "white",
           "linecolor": "white",
           "ticks": "",
           "title": {
            "standoff": 15
           },
           "zerolinecolor": "white",
           "zerolinewidth": 2
          },
          "yaxis": {
           "automargin": true,
           "gridcolor": "white",
           "linecolor": "white",
           "ticks": "",
           "title": {
            "standoff": 15
           },
           "zerolinecolor": "white",
           "zerolinewidth": 2
          }
         }
        },
        "width": 1800
       }
      }
     },
     "metadata": {}
    }
   ],
   "source": [
    "px.set_mapbox_access_token(mapbox_token)\n",
    "map = px.scatter_mapbox(\n",
    "    atlas_with_totals.reset_index(),\n",
    "    lat=\"Lat\",\n",
    "    lon=\"Long\",\n",
    "    # size=\"Invoice Amount\",\n",
    "    size=\"Number of Users\",\n",
    "    color=\"Customers\",\n",
    "    width=1800,\n",
    "    height=900,\n",
    "    zoom=4,\n",
    "    mapbox_style=\"open-street-map\"  # Options: [ \"open-street-map, white-bg, carto-positron, carto-darkmatter, stamen-terrain, stamen-toner, stamen-watercolor\" ]\n",
    ")\n",
    "map.show()\n"
   ]
  },
  {
   "cell_type": "code",
   "execution_count": null,
   "metadata": {},
   "outputs": [],
   "source": []
  },
  {
   "cell_type": "code",
   "execution_count": 13,
   "metadata": {},
   "outputs": [
    {
     "output_type": "display_data",
     "data": {},
     "metadata": {}
    },
    {
     "output_type": "execute_result",
     "data": {
      "text/html": "<div id='1488'>\n\n\n\n\n\n  <div class=\"bk-root\" id=\"9cfe2546-d86c-4ded-b37c-95d3f696a9e3\" data-root-id=\"1488\"></div>\n</div>\n<script type=\"application/javascript\">(function(root) {\n  function embed_document(root) {\n    var docs_json = {\"2f89d141-58ba-4bab-bdb7-19855c2281c0\":{\"roots\":{\"references\":[{\"attributes\":{\"margin\":[5,5,5,5],\"name\":\"HSpacer02600\",\"sizing_mode\":\"stretch_width\"},\"id\":\"1489\",\"type\":\"Spacer\"},{\"attributes\":{\"axis_label\":\"Invoice Amount\",\"bounds\":\"auto\",\"formatter\":{\"id\":\"1531\"},\"major_label_orientation\":\"horizontal\",\"ticker\":{\"id\":\"1507\"}},\"id\":\"1506\",\"type\":\"LinearAxis\"},{\"attributes\":{},\"id\":\"1507\",\"type\":\"BasicTicker\"},{\"attributes\":{},\"id\":\"1512\",\"type\":\"WheelZoomTool\"},{\"attributes\":{},\"id\":\"1510\",\"type\":\"SaveTool\"},{\"attributes\":{\"overlay\":{\"id\":\"1515\"}},\"id\":\"1513\",\"type\":\"BoxZoomTool\"},{\"attributes\":{},\"id\":\"1524\",\"type\":\"Selection\"},{\"attributes\":{},\"id\":\"1514\",\"type\":\"ResetTool\"},{\"attributes\":{\"data_source\":{\"id\":\"1523\"},\"glyph\":{\"id\":\"1526\"},\"hover_glyph\":null,\"muted_glyph\":{\"id\":\"1528\"},\"nonselection_glyph\":{\"id\":\"1527\"},\"selection_glyph\":null,\"view\":{\"id\":\"1530\"}},\"id\":\"1529\",\"type\":\"GlyphRenderer\"},{\"attributes\":{\"active_drag\":\"auto\",\"active_inspect\":\"auto\",\"active_multi\":null,\"active_scroll\":\"auto\",\"active_tap\":\"auto\",\"tools\":[{\"id\":\"1492\"},{\"id\":\"1510\"},{\"id\":\"1511\"},{\"id\":\"1512\"},{\"id\":\"1513\"},{\"id\":\"1514\"}]},\"id\":\"1516\",\"type\":\"Toolbar\"},{\"attributes\":{\"children\":[{\"id\":\"1489\"},{\"id\":\"1493\"},{\"id\":\"1552\"}],\"margin\":[0,0,0,0],\"name\":\"Row02596\",\"tags\":[\"embedded\"]},\"id\":\"1488\",\"type\":\"Row\"},{\"attributes\":{\"line_color\":\"#1f77b3\",\"line_width\":2,\"x\":{\"field\":\"ServiceStart_Year\"},\"y\":{\"field\":\"Invoice Amount\"}},\"id\":\"1526\",\"type\":\"Line\"},{\"attributes\":{},\"id\":\"1543\",\"type\":\"UnionRenderers\"},{\"attributes\":{},\"id\":\"1500\",\"type\":\"LinearScale\"},{\"attributes\":{\"line_alpha\":0.1,\"line_color\":\"#1f77b3\",\"line_width\":2,\"x\":{\"field\":\"ServiceStart_Year\"},\"y\":{\"field\":\"Invoice Amount\"}},\"id\":\"1527\",\"type\":\"Line\"},{\"attributes\":{\"line_alpha\":0.2,\"line_color\":\"#1f77b3\",\"line_width\":2,\"x\":{\"field\":\"ServiceStart_Year\"},\"y\":{\"field\":\"Invoice Amount\"}},\"id\":\"1528\",\"type\":\"Line\"},{\"attributes\":{\"data\":{\"Invoice Amount\":{\"__ndarray__\":\"AAAAAADW/0AAAAAAACDMQAAAAACAQ8RAAAAAAMD3AEEAAAAAAHCXQAAAAAAA/8RAAAAAAABkuUAAAAAAAFDEQAAAAAAQ+gNBAAAAAADy0kAAAAAAAGjQQAAAAAAAQL9AAAAAAABYq0AAAAAAAHCHQAAAAAAgKetAAAAAAABwh0AAAAAAgAXWQAAAAAAAIMxAAAAAAGBy5EAAAAAAwPcAQQAAAAAAcJdAAAAAAABwl0AAAAAAAOHJQAAAAAAAcJdAAAAAAAB85UAAAAAAAIijQAAAAACA39NAAAAAAABwh0AAAAAAADnMQAAAAAAAMeVAAAAAAICcukAAAAAAAOf4QAAAAAAAo8tAAAAAAABosEAAAAAAgIQOQQAAAABA/+VAAAAAAIBr2UAAAAAAwM/fQAAAAACASdNAAAAAAIDy5EAAAAAAYKviQAAAAACAsN9AAAAAAABwl0AAAAAAAHCHQAAAAADgSOFAAAAAAABwl0AAAAAAwIrpQAAAAAAA7KNAAAAAAAAApEAAAAAAgNjQQAAAAAAAOcxAAAAAAABMvUAAAAAAAHCXQAAAAACArrdAAAAAAIAA7EAAAAAAAHCnQAAAAAAAe9FAAAAAAAC0tEAAAAAAaLH9QAAAAAAAAedAAAAAAAAmtkAAAAAAAIizQAAAAABgLfNAAAAAAABkqUAAAAAAAB3QQAAAAACA8uRAAAAAAABYy0AAAAAAAECPQAAAAAAAj7ZAAAAAAACotkAAAAAAYHbwQAAAAAAAqrRAAAAAAAD/xEAAAAAAgNjQQAAAAACA6N5AAAAAAABMvUAAAAAAkErhQAAAAAAAHdBAAAAAAACQukAAAAAAAFjLQAAAAAAAitZAAAAAAABYq0AAAAAAAECfQAAAAAAgAv5AAAAAAADAgkAAAAAAAGjQQAAAAAAAiLNAAAAAAJjAAEEAAAAAIJfhQAAAAACAzdZAAAAAAIDy5EAAAAAAANbfQAAAAAAAZMlAAAAAAABAj0AAAAAAABivQAAAAAAAashAAAAAAACotkAAAAAAcLf5QAAAAAAAQI9AAAAAAAA4mEAAAAAAAJCfQAAAAACArtJAAAAAAABMvUAAAAAAIIzXQAAAAADwXuVAAAAAAAAkw0AAAAAAAOf4QAAAAACAx8dAkML1KNwOvkAzMzMzj10MQQAAAACAOMZAAAAAAMA+2kBmZmZm4nkKQQAAAAAADMNAAAAAAACU0UAAAAAAAKCnQAAAAAAA1u9AAAAAAECH2UAAAAAAeOgGQQAAAAAAQG9AAAAAAABbw0AAAAAAOKD4QAAAAAAAJttAAAAAAIDy5EAAAAAAkIYEQQAAAADgYONAAAAAAAC9v0AAAAAAgDbiQAAAAAAAvb9AZmZmZiZpx0AAAAAAgGPNQAAAAAAAJLNAAAAAAECJ6EAAAAAA8MkJQQAAAAAAwJ1AAAAAAABQlEAAAAAAAECfQAAAAAAA+NZAAAAAAABAn0AAAAAAaL0EQQAAAABAqNJAAAAAAADghUAAAAAAAEC/QAAAAABAtvxAzczMzExgy0D2KFyPep7kQAAAAADIL/pAAAAAAKCu5UAAAAAAgJwKQQAAAAAsvvRAAAAAAIBl2kAAAAAAgDDeQOxRuB4FNK1AAAAAAADAskAAAAAAAKq4QAAAAAAAQI9AAAAAAABwt0AAAAAAAHamQAAAAAAAwJ1AAAAAAACGv0AAAAAAAPSaQAAAAAAAQI9AAAAAAAAQmEAAAAAAANW7QAAAAAAAWKtA\",\"dtype\":\"float64\",\"order\":\"little\",\"shape\":[165]},\"Invoice_Amount\":{\"__ndarray__\":\"AAAAAADW/0AAAAAAACDMQAAAAACAQ8RAAAAAAMD3AEEAAAAAAHCXQAAAAAAA/8RAAAAAAABkuUAAAAAAAFDEQAAAAAAQ+gNBAAAAAADy0kAAAAAAAGjQQAAAAAAAQL9AAAAAAABYq0AAAAAAAHCHQAAAAAAgKetAAAAAAABwh0AAAAAAgAXWQAAAAAAAIMxAAAAAAGBy5EAAAAAAwPcAQQAAAAAAcJdAAAAAAABwl0AAAAAAAOHJQAAAAAAAcJdAAAAAAAB85UAAAAAAAIijQAAAAACA39NAAAAAAABwh0AAAAAAADnMQAAAAAAAMeVAAAAAAICcukAAAAAAAOf4QAAAAAAAo8tAAAAAAABosEAAAAAAgIQOQQAAAABA/+VAAAAAAIBr2UAAAAAAwM/fQAAAAACASdNAAAAAAIDy5EAAAAAAYKviQAAAAACAsN9AAAAAAABwl0AAAAAAAHCHQAAAAADgSOFAAAAAAABwl0AAAAAAwIrpQAAAAAAA7KNAAAAAAAAApEAAAAAAgNjQQAAAAAAAOcxAAAAAAABMvUAAAAAAAHCXQAAAAACArrdAAAAAAIAA7EAAAAAAAHCnQAAAAAAAe9FAAAAAAAC0tEAAAAAAaLH9QAAAAAAAAedAAAAAAAAmtkAAAAAAAIizQAAAAABgLfNAAAAAAABkqUAAAAAAAB3QQAAAAACA8uRAAAAAAABYy0AAAAAAAECPQAAAAAAAj7ZAAAAAAACotkAAAAAAYHbwQAAAAAAAqrRAAAAAAAD/xEAAAAAAgNjQQAAAAACA6N5AAAAAAABMvUAAAAAAkErhQAAAAAAAHdBAAAAAAACQukAAAAAAAFjLQAAAAAAAitZAAAAAAABYq0AAAAAAAECfQAAAAAAgAv5AAAAAAADAgkAAAAAAAGjQQAAAAAAAiLNAAAAAAJjAAEEAAAAAIJfhQAAAAACAzdZAAAAAAIDy5EAAAAAAANbfQAAAAAAAZMlAAAAAAABAj0AAAAAAABivQAAAAAAAashAAAAAAACotkAAAAAAcLf5QAAAAAAAQI9AAAAAAAA4mEAAAAAAAJCfQAAAAACArtJAAAAAAABMvUAAAAAAIIzXQAAAAADwXuVAAAAAAAAkw0AAAAAAAOf4QAAAAACAx8dAkML1KNwOvkAzMzMzj10MQQAAAACAOMZAAAAAAMA+2kBmZmZm4nkKQQAAAAAADMNAAAAAAACU0UAAAAAAAKCnQAAAAAAA1u9AAAAAAECH2UAAAAAAeOgGQQAAAAAAQG9AAAAAAABbw0AAAAAAOKD4QAAAAAAAJttAAAAAAIDy5EAAAAAAkIYEQQAAAADgYONAAAAAAAC9v0AAAAAAgDbiQAAAAAAAvb9AZmZmZiZpx0AAAAAAgGPNQAAAAAAAJLNAAAAAAECJ6EAAAAAA8MkJQQAAAAAAwJ1AAAAAAABQlEAAAAAAAECfQAAAAAAA+NZAAAAAAABAn0AAAAAAaL0EQQAAAABAqNJAAAAAAADghUAAAAAAAEC/QAAAAABAtvxAzczMzExgy0D2KFyPep7kQAAAAADIL/pAAAAAAKCu5UAAAAAAgJwKQQAAAAAsvvRAAAAAAIBl2kAAAAAAgDDeQOxRuB4FNK1AAAAAAADAskAAAAAAAKq4QAAAAAAAQI9AAAAAAABwt0AAAAAAAHamQAAAAAAAwJ1AAAAAAACGv0AAAAAAAPSaQAAAAAAAQI9AAAAAAAAQmEAAAAAAANW7QAAAAAAAWKtA\",\"dtype\":\"float64\",\"order\":\"little\",\"shape\":[165]},\"ServiceStart_Year\":{\"__ndarray__\":\"AAAAAAB8n0AAAAAAAHyfQAAAAAAAfJ9AAAAAAAB8n0AAAAAAAHyfQAAAAAAAfJ9AAAAAAAB8n0AAAAAAAHyfQAAAAAAAgJ9AAAAAAACAn0AAAAAAAICfQAAAAAAAgJ9AAAAAAACAn0AAAAAAAICfQAAAAAAAgJ9AAAAAAACAn0AAAAAAAICfQAAAAAAAgJ9AAAAAAACAn0AAAAAAAICfQAAAAAAAgJ9AAAAAAACAn0AAAAAAAICfQAAAAAAAgJ9AAAAAAACAn0AAAAAAAICfQAAAAAAAgJ9AAAAAAACAn0AAAAAAAICfQAAAAAAAgJ9AAAAAAACAn0AAAAAAAICfQAAAAAAAgJ9AAAAAAACAn0AAAAAAAISfQAAAAAAAhJ9AAAAAAACEn0AAAAAAAISfQAAAAAAAhJ9AAAAAAACEn0AAAAAAAISfQAAAAAAAhJ9AAAAAAACEn0AAAAAAAISfQAAAAAAAhJ9AAAAAAACEn0AAAAAAAISfQAAAAAAAhJ9AAAAAAACEn0AAAAAAAISfQAAAAAAAhJ9AAAAAAACEn0AAAAAAAISfQAAAAAAAhJ9AAAAAAACEn0AAAAAAAISfQAAAAAAAhJ9AAAAAAACEn0AAAAAAAIifQAAAAAAAiJ9AAAAAAACIn0AAAAAAAIifQAAAAAAAiJ9AAAAAAACIn0AAAAAAAIifQAAAAAAAiJ9AAAAAAACIn0AAAAAAAIifQAAAAAAAiJ9AAAAAAACIn0AAAAAAAIifQAAAAAAAiJ9AAAAAAACIn0AAAAAAAIifQAAAAAAAiJ9AAAAAAACIn0AAAAAAAIifQAAAAAAAiJ9AAAAAAACIn0AAAAAAAIifQAAAAAAAiJ9AAAAAAACMn0AAAAAAAIyfQAAAAAAAjJ9AAAAAAACMn0AAAAAAAIyfQAAAAAAAjJ9AAAAAAACMn0AAAAAAAIyfQAAAAAAAjJ9AAAAAAACMn0AAAAAAAIyfQAAAAAAAjJ9AAAAAAACMn0AAAAAAAIyfQAAAAAAAjJ9AAAAAAACMn0AAAAAAAIyfQAAAAAAAjJ9AAAAAAACMn0AAAAAAAIyfQAAAAAAAjJ9AAAAAAACMn0AAAAAAAIyfQAAAAAAAjJ9AAAAAAACMn0AAAAAAAIyfQAAAAAAAjJ9AAAAAAACMn0AAAAAAAJCfQAAAAAAAkJ9AAAAAAACQn0AAAAAAAJCfQAAAAAAAkJ9AAAAAAACQn0AAAAAAAJCfQAAAAAAAkJ9AAAAAAACQn0AAAAAAAJCfQAAAAAAAkJ9AAAAAAACQn0AAAAAAAJCfQAAAAAAAkJ9AAAAAAACQn0AAAAAAAJCfQAAAAAAAkJ9AAAAAAACQn0AAAAAAAJCfQAAAAAAAkJ9AAAAAAACQn0AAAAAAAJCfQAAAAAAAkJ9AAAAAAACQn0AAAAAAAJCfQAAAAAAAkJ9AAAAAAACQn0AAAAAAAJCfQAAAAAAAkJ9AAAAAAACQn0AAAAAAAJCfQAAAAAAAkJ9AAAAAAACQn0AAAAAAAJCfQAAAAAAAkJ9AAAAAAACQn0AAAAAAAJCfQAAAAAAAkJ9AAAAAAACQn0AAAAAAAJCfQAAAAAAAkJ9AAAAAAACQn0AAAAAAAJCfQAAAAAAAkJ9AAAAAAACQn0AAAAAAAJSfQAAAAAAAlJ9AAAAAAACUn0AAAAAAAJSfQAAAAAAAlJ9AAAAAAACUn0AAAAAAAJSfQAAAAAAAlJ9AAAAAAACUn0AAAAAAAJSfQAAAAAAAlJ9A\",\"dtype\":\"float64\",\"order\":\"little\",\"shape\":[165]}},\"selected\":{\"id\":\"1524\"},\"selection_policy\":{\"id\":\"1543\"}},\"id\":\"1523\",\"type\":\"ColumnDataSource\"},{\"attributes\":{\"text\":\"\",\"text_color\":{\"value\":\"black\"},\"text_font_size\":{\"value\":\"12pt\"}},\"id\":\"1494\",\"type\":\"Title\"},{\"attributes\":{\"source\":{\"id\":\"1523\"}},\"id\":\"1530\",\"type\":\"CDSView\"},{\"attributes\":{\"end\":2021.0,\"reset_end\":2021.0,\"reset_start\":2015.0,\"start\":2015.0,\"tags\":[[[\"ServiceStart_Year\",\"ServiceStart_Year\",null]]]},\"id\":\"1490\",\"type\":\"Range1d\"},{\"attributes\":{\"format\":\"%0f\"},\"id\":\"1531\",\"type\":\"PrintfTickFormatter\"},{\"attributes\":{\"bottom_units\":\"screen\",\"fill_alpha\":0.5,\"fill_color\":\"lightgrey\",\"left_units\":\"screen\",\"level\":\"overlay\",\"line_alpha\":1.0,\"line_color\":\"black\",\"line_dash\":[4,4],\"line_width\":2,\"right_units\":\"screen\",\"top_units\":\"screen\"},\"id\":\"1515\",\"type\":\"BoxAnnotation\"},{\"attributes\":{},\"id\":\"1533\",\"type\":\"BasicTickFormatter\"},{\"attributes\":{\"callback\":null,\"renderers\":[{\"id\":\"1529\"}],\"tags\":[\"hv_created\"],\"tooltips\":[[\"ServiceStart_Year\",\"@{ServiceStart_Year}\"],[\"Invoice Amount\",\"@{Invoice_Amount}\"]]},\"id\":\"1492\",\"type\":\"HoverTool\"},{\"attributes\":{},\"id\":\"1498\",\"type\":\"LinearScale\"},{\"attributes\":{\"end\":274975.0,\"reset_end\":274975.0,\"reset_start\":-24725.0,\"start\":-24725.0,\"tags\":[[[\"Invoice Amount\",\"Invoice Amount\",null]]]},\"id\":\"1491\",\"type\":\"Range1d\"},{\"attributes\":{},\"id\":\"1503\",\"type\":\"BasicTicker\"},{\"attributes\":{\"axis_label\":\"ServiceStart_Year\",\"bounds\":\"auto\",\"formatter\":{\"id\":\"1533\"},\"major_label_orientation\":\"horizontal\",\"ticker\":{\"id\":\"1503\"}},\"id\":\"1502\",\"type\":\"LinearAxis\"},{\"attributes\":{\"below\":[{\"id\":\"1502\"}],\"center\":[{\"id\":\"1505\"},{\"id\":\"1509\"}],\"left\":[{\"id\":\"1506\"}],\"margin\":[5,5,5,5],\"min_border_bottom\":10,\"min_border_left\":10,\"min_border_right\":10,\"min_border_top\":10,\"plot_height\":300,\"renderers\":[{\"id\":\"1529\"}],\"sizing_mode\":\"fixed\",\"title\":{\"id\":\"1494\"},\"toolbar\":{\"id\":\"1516\"},\"x_range\":{\"id\":\"1490\"},\"x_scale\":{\"id\":\"1498\"},\"y_range\":{\"id\":\"1491\"},\"y_scale\":{\"id\":\"1500\"}},\"id\":\"1493\",\"subtype\":\"Figure\",\"type\":\"Plot\"},{\"attributes\":{\"margin\":[5,5,5,5],\"name\":\"HSpacer02601\",\"sizing_mode\":\"stretch_width\"},\"id\":\"1552\",\"type\":\"Spacer\"},{\"attributes\":{},\"id\":\"1511\",\"type\":\"PanTool\"},{\"attributes\":{\"axis\":{\"id\":\"1502\"},\"grid_line_color\":null,\"ticker\":null},\"id\":\"1505\",\"type\":\"Grid\"},{\"attributes\":{\"axis\":{\"id\":\"1506\"},\"dimension\":1,\"grid_line_color\":null,\"ticker\":null},\"id\":\"1509\",\"type\":\"Grid\"}],\"root_ids\":[\"1488\"]},\"title\":\"Bokeh Application\",\"version\":\"2.2.3\"}};\n    var render_items = [{\"docid\":\"2f89d141-58ba-4bab-bdb7-19855c2281c0\",\"root_ids\":[\"1488\"],\"roots\":{\"1488\":\"9cfe2546-d86c-4ded-b37c-95d3f696a9e3\"}}];\n    root.Bokeh.embed.embed_items_notebook(docs_json, render_items);\n  }\n  if (root.Bokeh !== undefined && root.Bokeh.Panel !== undefined) {\n    embed_document(root);\n  } else {\n    var attempts = 0;\n    var timer = setInterval(function(root) {\n      if (root.Bokeh !== undefined && root.Bokeh.Panel !== undefined) {\n        clearInterval(timer);\n        embed_document(root);\n      } else if (document.readyState == \"complete\") {\n        attempts++;\n        if (attempts > 100) {\n          clearInterval(timer);\n          console.log(\"Bokeh: ERROR: Unable to run BokehJS code because BokehJS library is missing\");\n        }\n      }\n    }, 10, root)\n  }\n})(window);</script>",
      "application/vnd.holoviews_exec.v0+json": "",
      "text/plain": [
       ":Curve   [ServiceStart_Year]   (Invoice Amount)"
      ]
     },
     "metadata": {
      "application/vnd.holoviews_exec.v0+json": {
       "id": "1488"
      }
     },
     "execution_count": 13
    }
   ],
   "source": [
    "# def generate_map(state):\n",
    "#     px.set_mapbox_access_token(mapbox_token)\n",
    "#     map = px.scatter_mapbox(\n",
    "#         atlas_with_totals.iloc[:10].reset_index(),\n",
    "#         lat=\"Lat\",\n",
    "#         lon=\"Long\",\n",
    "#         size=\"Invoice Amount\",\n",
    "#         # size=\"Number of Users\",\n",
    "#         color=\"Customers\",\n",
    "#         width=800,\n",
    "#         height=400,\n",
    "#         # width=1800,\n",
    "#         # height=900,\n",
    "#         zoom=4,\n",
    "#         mapbox_style=\"open-street-map\"  # Options: [ \"open-street-map, white-bg, carto-positron, carto-darkmatter, stamen-terrain, stamen-toner, stamen-watercolor\" ]\n",
    "#     )\n",
    "#     return map\n",
    "\n",
    "# map = generate_map(\"\")\n",
    "# map.show()\n",
    "\n",
    "\n",
    "\n",
    "# # Group by year and neighborhood and then create a new dataframe of the mean values\n",
    "# atlas_with_totals[\"ServiceStart_Year\"] = atlas_with_totals[\"Service Start\"].apply(lambda x: x.year)\n",
    "# atlas_with_totals_grouped = atlas_with_totals.groupby([\"ServiceStart_Year\", \"State\"]).sum()\n",
    "# atlas_with_totals_grouped.head(5)\n",
    "\n",
    "# # Use hvplot to create an interactive line chart of the average price per sq ft.\n",
    "# plt_atlas_with_totals_grouped = atlas_with_totals_grouped.hvplot.line(\n",
    "#     x=\"ServiceStart_Year\",\n",
    "#     y=\"Invoice Amount\",\n",
    "#     xlabel=\"ServiceStart_Year\",\n",
    "#     ylabel=\"Invoice Amount\",\n",
    "#     groupby=\"State\",\n",
    "#     width=600\n",
    "# ).opts(yformatter=\"%0f\")\n",
    "# plt_atlas_with_totals_grouped\n"
   ]
  },
  {
   "cell_type": "code",
   "execution_count": null,
   "metadata": {},
   "outputs": [],
   "source": []
  },
  {
   "cell_type": "code",
   "execution_count": null,
   "metadata": {},
   "outputs": [],
   "source": []
  },
  {
   "cell_type": "code",
   "execution_count": null,
   "metadata": {},
   "outputs": [],
   "source": []
  },
  {
   "cell_type": "code",
   "execution_count": null,
   "metadata": {},
   "outputs": [],
   "source": []
  },
  {
   "cell_type": "code",
   "execution_count": 11,
   "metadata": {},
   "outputs": [
    {
     "output_type": "display_data",
     "data": {},
     "metadata": {}
    },
    {
     "output_type": "execute_result",
     "data": {
      "text/html": "<div id='1132'>\n\n\n\n\n\n  <div class=\"bk-root\" id=\"1a237309-32a5-4fc8-bcb1-e33141766177\" data-root-id=\"1132\"></div>\n</div>\n<script type=\"application/javascript\">(function(root) {\n  function embed_document(root) {\n    var docs_json = {\"f5c33593-83b8-47d1-bdc4-81b1636e180e\":{\"roots\":{\"references\":[{\"attributes\":{\"axis\":{\"id\":\"1150\"},\"dimension\":1,\"grid_line_color\":null,\"ticker\":null},\"id\":\"1153\",\"type\":\"Grid\"},{\"attributes\":{\"axis\":{\"id\":\"1147\"},\"grid_line_color\":null,\"ticker\":null},\"id\":\"1149\",\"type\":\"Grid\"},{\"attributes\":{},\"id\":\"1145\",\"type\":\"LinearScale\"},{\"attributes\":{\"axis_label\":\"Customers\",\"bounds\":\"auto\",\"formatter\":{\"id\":\"1168\"},\"major_label_orientation\":\"horizontal\",\"ticker\":{\"id\":\"1148\"}},\"id\":\"1147\",\"type\":\"CategoricalAxis\"},{\"attributes\":{},\"id\":\"1156\",\"type\":\"WheelZoomTool\"},{\"attributes\":{},\"id\":\"1154\",\"type\":\"SaveTool\"},{\"attributes\":{\"click_policy\":\"mute\",\"items\":[{\"id\":\"1188\"},{\"id\":\"1207\"}],\"location\":[0,0],\"title\":\"Variable\"},\"id\":\"1187\",\"type\":\"Legend\"},{\"attributes\":{\"label\":{\"value\":\"Invoice Amount\"},\"renderers\":[{\"id\":\"1195\"}]},\"id\":\"1207\",\"type\":\"LegendItem\"},{\"attributes\":{\"overlay\":{\"id\":\"1159\"}},\"id\":\"1157\",\"type\":\"BoxZoomTool\"},{\"attributes\":{\"line_alpha\":0.1,\"line_color\":\"#1f77b3\",\"line_width\":2,\"x\":{\"field\":\"Customers\"},\"y\":{\"field\":\"value\"}},\"id\":\"1175\",\"type\":\"Line\"},{\"attributes\":{},\"id\":\"1158\",\"type\":\"ResetTool\"},{\"attributes\":{\"active_drag\":\"auto\",\"active_inspect\":\"auto\",\"active_multi\":null,\"active_scroll\":\"auto\",\"active_tap\":\"auto\",\"tools\":[{\"id\":\"1136\"},{\"id\":\"1154\"},{\"id\":\"1155\"},{\"id\":\"1156\"},{\"id\":\"1157\"},{\"id\":\"1158\"}]},\"id\":\"1160\",\"type\":\"Toolbar\"},{\"attributes\":{},\"id\":\"1172\",\"type\":\"Selection\"},{\"attributes\":{\"data_source\":{\"id\":\"1171\"},\"glyph\":{\"id\":\"1174\"},\"hover_glyph\":null,\"muted_glyph\":{\"id\":\"1176\"},\"nonselection_glyph\":{\"id\":\"1175\"},\"selection_glyph\":null,\"view\":{\"id\":\"1178\"}},\"id\":\"1177\",\"type\":\"GlyphRenderer\"},{\"attributes\":{\"data\":{\"Customers\":[\"Alabama A&M University-College of Education\",\"Albertus Magnus College\",\"Albuquerque Public Schools\",\"Alcorn State University\",\"Alderson Broaddus University\",\"Alverno College\",\"American College of Education\",\"American University\",\"Anderson University\",\"Appalachian State University\",\"Aquinas College\",\"Arcadia University\",\"Arkansas Northeastern College\",\"Arlington Public Schools\",\"Armstrong State University\",\"Auburn University\",\"Augusta University\",\"Augustana College\",\"Austin Peay State University\",\"Bainbridge Island School District\",\"Ball State University\",\"Bard College\",\"Barton College\",\"Belhaven University\",\"Bellarmine University\",\"Berea College\",\"Berry College\",\"Billings Senior High School\",\"Birmingham-Southern College\",\"BloomBoard, Inc.\",\"Bowling Green Independent Schools\",\"Bowling Green State University\",\"Bradley University\",\"Brandeis University\",\"Brenau University\",\"Bridgewater College\",\"Brigham Young University \\u2013 Hawaii\",\"Brock University\",\"Brown University\",\"Bureau of Indian Affairs\",\"CA State University Chico\",\"CA State University Dominguez Hills\",\"CA State University, Stanislaus\",\"CERRA\",\"CSU San Bernardino\",\"CTU Foundation, Inc\",\"California State Polytechnic University Pomona-Education/CEIS\",\"California State University\",\"California State University Long Beach\",\"California State University Northridge\",\"California State University, Fullerton\",\"California University of Pennsylvania\",\"Calvert County Public Schools\",\"Campbell University\",\"Capital University\",\"Catawba College\",\"Central Connecticut State University\",\"Central Washington University\",\"Central Wyoming College\",\"Chapman University\",\"Charleston Southern University\",\"Chicago State University\",\"Christina School District\",\"City University of New York\",\"Clarion University of Pennsylvania\",\"Clark County Education Association\",\"Clayton State University\",\"Clemson University\",\"Cleveland County Schools\",\"Coastal Carolina University\",\"Colgate University\",\"College for Creative Studies\",\"College of Coastal Georgia\",\"College of Mount Saint Vincent\",\"College of William and Mary\",\"Colorado Education Association\",\"Colorado State University Pueblo\",\"Columbia College\",\"Columbus State University\",\"Concord University\",\"Concordia University Chicago\",\"Concordia University Irvine\",\"Creighton University\",\"Crowder College\",\"Crowley\\u2019s Ridge College\",\"Cumberland University\",\"Delta State University\",\"Department of Defense Education Activity-Teaching and Learning Division\",\"Dickinson State University\",\"Duke University\",\"Durham Public Schools\",\"East Carolina University\",\"East Stroudsburg University & Colonial IU\",\"East Tennessee State University\",\"Eastern Michigan University\",\"El Rancho Unified School District\",\"Emporia State University\",\"Farleigh Dickinson University\",\"Faulkner University\",\"Fayetteville State University\",\"Felician University\",\"Ferris State University\",\"Florida Southwestern State College\",\"Florida State University\",\"Floyd County Schools\",\"Fort Mill School District\",\"Four Corners Coalition\",\"Francis Marion University\",\"George Mason University\",\"Georgia College and State University\",\"Georgia Gwinnett College\",\"Georgia Southern University\",\"Georgia Southwestern State University\",\"Gettysburg College\",\"Governors State University\",\"Greenville College\",\"Hanover College\",\"Harding University, College of Education\",\"Hawaii State Teachers Association\",\"Heritage University\",\"Hobart and William Smith Colleges\",\"Homewood City Schools\",\"Hope International University\",\"Houghton College\",\"Hudson Valley Community College\",\"Humboldt State University\",\"Humboldt State University \\u2013 Art Department\",\"Husson University\",\"Illinois College\",\"Illinois National Board Resource Center\",\"Illinois State University Board of Trustees\",\"Indiana University Libraries\",\"Ithaca College\",\"James Madison University College of Education\",\"John Carroll University\",\"John Hopkins University\",\"John P. Ellbogen Foundation\",\"KYDOE-Educator Recruitment and Development\",\"Kansas State University\",\"Kennesaw State University\",\"Kentucky Community & Technical College\",\"Kentucky EPSB\",\"Kutztown University of Pennsylvania\",\"LaGrange College\",\"Lake Havasu USD\",\"Lamar CISD\",\"Lebanon Valley College\",\"Lee University School of Music\",\"Lehigh Carbon Community College\",\"Lewis University\",\"Lorain County Community College\",\"Louisiana Board of Regents\",\"Louisiana State University Baton Rouge\",\"Louisiana State University Shreveport\",\"Louisiana State University of Alexandria\",\"Louisiana Tech University\",\"Lyndonville Central School District\",\"Manhattanville College\",\"Maricopa CC District Rio Salado College\",\"Marietta College\",\"Maryville College\",\"McLean County Unit District No.\",\"Medaille College\",\"Mercer University\",\"Meredith College\",\"Metro RESA\",\"Miami University\",\"Miami University-Oxford\",\"Middle Tennessee State University\",\"Middlesex County College\",\"Midland University\",\"Millersville University of Pennsylvania\",\"Milligan College\",\"Minnesota State University Moorhead\",\"Mississippi Dept of Education\",\"Mississippi State University\",\"Mississippi State University Meridian\",\"Mississippi State University, College of Education\",\"Modesto Junior College\",\"Monroe County School District\",\"Montclair State University\",\"Morehead State University\",\"Morgan State University\",\"Murray State University\",\"Murrieta Valley USD\",\"NC A&T State University\",\"NC New Teacher Support Program\",\"NEA Vermont\",\"NHTI-Concord\\u2019s Community College\",\"NM NBCT Network\",\"NM NT Santa Fe Public School\",\"NM Northern Coalition\",\"National Louis University\",\"New York University\",\"New York University-Steinhardt\",\"Niagara University\",\"North Carolina Central University\",\"North Carolina State University\",\"North Central College\",\"Northampton County Public Schools\",\"Northeastern Illinois University\",\"Northern Arizona University\",\"Northern Illinois University\",\"Northern Virginia Community College\",\"Northwestern Michigan College\",\"Northwestern State University\",\"Orange County DOE\",\"Oregon State University\",\"Ouachita Baptist University\",\"Pathway to Practice NC\",\"Piedmont College\",\"Piedmont College School of Education\",\"Pierce College\",\"Pinecrest Academy of Nevada\",\"Pitt County School/DEEL\",\"Portland State University\",\"Presbyterian College Education Department\",\"Prince George\\u2019s Community College\",\"Providence College\",\"Purdue University\",\"Purdue University Fort Wayne\",\"Radford University\",\"Ramapo College\",\"Region  Education Service Ctr\",\"Reinhardt University\",\"Rhodes College\",\"Richland Elementary School\",\"Rider University\",\"Rio Salado College\",\"Ripon College\",\"Rochester Institute of Technology\",\"Roosevelt University\",\"Rowan College South Jersey\",\"Rowan University\",\"Rutgers University Graduate School of Education\",\"SDCOE\",\"ST. Mary's College of Maryland\",\"SUNY College at Brockport\",\"SUNY College of Oneonta\",\"SUNY Erie Community College\",\"SUNY Plattsburgh\",\"Saint Andrew's School\",\"Saint Catherine University\",\"Saint Joseph\\u2019s College of Maine\",\"Saint Joseph\\u2019s University\",\"Saint Xavier University\",\"Salem University\",\"Salisbury University\",\"Salve Regina University\",\"Sam Houston State University\",\"San Jose State University\",\"Santa Rosa County District Schools\",\"Seattle University\",\"Seton Hall University\",\"Shippensburg University\",\"Shorter University\",\"Siena College\",\"Skidmore College\",\"South Australia DOE\",\"South College\",\"Southeast KCTCS\",\"Southeast Missouri State University\",\"Southeast South-Central Education Cooperative\",\"Southern Adventist University\",\"Southern Connecticut State University\",\"Southern Illinois University Carbondale\",\"Southern Illinois University Edwardsville\",\"Southern New Hampshire University\",\"Southern University at New Orleans\",\"Spelman College\",\"Springfield College\",\"St. Bonaventure University-School of Education\",\"St. Louis Community College\",\"St. Thomas Aquinas College\",\"Stanford University/SCALE\",\"State Fair Community College\",\"State University of NY Potsdam\",\"Swarthmore College\",\"Syracuse University\",\"TAOS Municipal School District\",\"Tacoma Public Schools\",\"Teach for America Kansas City\",\"Teach for America-Kansas City\",\"Teachers College, Columbia University\",\"Temple University, Tyler School of Art and Architecture\",\"Tennessee Wesleyan University\",\"Texas A&M University\",\"Texas State University\",\"The Citadel Zucker Family School of Education\",\"The Citadel, Zucker Family School of Education\",\"The College of Wooster\",\"The State University of New York (SUNY)\",\"The Support Network\",\"The University of New Orleans\",\"The University of Southern Mississippi\",\"The University of Tennessee, Knoxville\",\"The University of Texas at Tyler\",\"Thiel College\",\"Thomas College\",\"Troy University\",\"Tuscaloosa City Schools\",\"UAB Regional In Service Centers\",\"UNC Wilmington\",\"Union University\",\"University of Alabama\",\"University of Arkansas\",\"University of California Berkeley\",\"University of California, Davis\",\"University of California, Riverside\",\"University of Central Arkansas\",\"University of Central Oklahoma\",\"University of Detroit Mercy Lib\",\"University of Georgia\",\"University of Guam\",\"University of Hawaii at Manoa\",\"University of Holy Cross (LA)\",\"University of Illinois Springfield\",\"University of Illinois at Urbana-Champaign\",\"University of Kentucky\",\"University of Kentucky Libraries\",\"University of Kentucky, IHE\",\"University of Kentucky, IHE Special Education Consortium\",\"University of La Verne\",\"University of Louisiana at Lafayette\",\"University of Louisiana at Monroe\",\"University of Louisville\",\"University of Lynchburg\",\"University of Maryland Baltimore County\",\"University of Maryland College of Education\",\"University of Michigan-Dearborn\",\"University of Minnesota Duluth\",\"University of Mississippi\",\"University of Missouri Kansas City\",\"University of Montevallo\",\"University of NC Charlotte\",\"University of NC Greensboro\",\"University of New Mexico\",\"University of North Alabama\",\"University of North Carolina\",\"University of North Carolina Chapel Hill\",\"University of North Carolina Charlotte\",\"University of North Colorado\",\"University of North Dakota\",\"University of North Florida\",\"University of North Georgia\",\"University of North Texas\",\"University of Pacific\",\"University of Phoenix Inc.\",\"University of Portland\",\"University of Rhode Island (School of Education)\",\"University of Richmond\",\"University of Rochester-Warner School\",\"University of San Francisco\",\"University of South Alabama\",\"University of South Carolina, Beaufort\",\"University of Southern Mississippi\",\"University of St. Francis\",\"University of St. Thomas\",\"University of Tennessee at Martin\",\"University of Texas at San Antonio\",\"University of Texas at Tyler\",\"University of Virginia\",\"University of West Alabama\",\"University of West Georgia\",\"University of Wisconsin Stevens Point\",\"University of Wisconsin-Eau Claire\",\"University of Wisconsin-Madison\",\"University of Wisconsin-River Falls\",\"University of Wyoming, College of Education\",\"University of the Arts\",\"University of the Cumberland\",\"University of the Pacific\",\"Utah Valley University\",\"Utica College\",\"VA NBCT Network\",\"Valdosta State University\",\"Virginia Commonwealth University\",\"Vitero University\",\"Walla Walla Public Schools\",\"Washington County Schools\",\"Washington State University\",\"West Liberty University\",\"Western Carolina University\",\"Western Governors University\",\"Western Illinois University\",\"Western Washington University\",\"Westfield State University\",\"Wheaton College\",\"William Baptist University\",\"William Paterson University\",\"Wingate University\",\"Winston-Salem State University\",\"Winthrop University\",\"Yakima Valley College\",\"Young Harris College/Miller Library\"],\"Variable\":[\"Number of Users\",\"Number of Users\",\"Number of Users\",\"Number of Users\",\"Number of Users\",\"Number of Users\",\"Number of Users\",\"Number of Users\",\"Number of Users\",\"Number of Users\",\"Number of Users\",\"Number of Users\",\"Number of Users\",\"Number of Users\",\"Number of Users\",\"Number of Users\",\"Number of Users\",\"Number of Users\",\"Number of Users\",\"Number of Users\",\"Number of Users\",\"Number of Users\",\"Number of Users\",\"Number of Users\",\"Number of Users\",\"Number of Users\",\"Number of Users\",\"Number of Users\",\"Number of Users\",\"Number of Users\",\"Number of Users\",\"Number of Users\",\"Number of Users\",\"Number of Users\",\"Number of Users\",\"Number of Users\",\"Number of Users\",\"Number of Users\",\"Number of Users\",\"Number of Users\",\"Number of Users\",\"Number of Users\",\"Number of Users\",\"Number of Users\",\"Number of Users\",\"Number of Users\",\"Number of Users\",\"Number of Users\",\"Number of Users\",\"Number of Users\",\"Number of Users\",\"Number of Users\",\"Number of Users\",\"Number of Users\",\"Number of Users\",\"Number of Users\",\"Number of Users\",\"Number of Users\",\"Number of Users\",\"Number of Users\",\"Number of Users\",\"Number of Users\",\"Number of Users\",\"Number of Users\",\"Number of Users\",\"Number of Users\",\"Number of Users\",\"Number of Users\",\"Number of Users\",\"Number of Users\",\"Number of Users\",\"Number of Users\",\"Number of Users\",\"Number of Users\",\"Number of Users\",\"Number of Users\",\"Number of Users\",\"Number of Users\",\"Number of Users\",\"Number of Users\",\"Number of Users\",\"Number of Users\",\"Number of Users\",\"Number of Users\",\"Number of Users\",\"Number of Users\",\"Number of Users\",\"Number of Users\",\"Number of Users\",\"Number of Users\",\"Number of Users\",\"Number of Users\",\"Number of Users\",\"Number of Users\",\"Number of Users\",\"Number of Users\",\"Number of Users\",\"Number of Users\",\"Number of Users\",\"Number of Users\",\"Number of Users\",\"Number of Users\",\"Number of Users\",\"Number of Users\",\"Number of Users\",\"Number of Users\",\"Number of Users\",\"Number of Users\",\"Number of Users\",\"Number of Users\",\"Number of Users\",\"Number of Users\",\"Number of Users\",\"Number of Users\",\"Number of Users\",\"Number of Users\",\"Number of Users\",\"Number of Users\",\"Number of Users\",\"Number of Users\",\"Number of Users\",\"Number of Users\",\"Number of Users\",\"Number of Users\",\"Number of Users\",\"Number of Users\",\"Number of Users\",\"Number of Users\",\"Number of Users\",\"Number of Users\",\"Number of Users\",\"Number of Users\",\"Number of Users\",\"Number of Users\",\"Number of Users\",\"Number of Users\",\"Number of Users\",\"Number of Users\",\"Number of Users\",\"Number of Users\",\"Number of Users\",\"Number of Users\",\"Number of Users\",\"Number of Users\",\"Number of Users\",\"Number of Users\",\"Number of Users\",\"Number of Users\",\"Number of Users\",\"Number of Users\",\"Number of Users\",\"Number of Users\",\"Number of Users\",\"Number of Users\",\"Number of Users\",\"Number of Users\",\"Number of Users\",\"Number of Users\",\"Number of Users\",\"Number of Users\",\"Number of Users\",\"Number of Users\",\"Number of Users\",\"Number of Users\",\"Number of Users\",\"Number of Users\",\"Number of Users\",\"Number of Users\",\"Number of Users\",\"Number of Users\",\"Number of Users\",\"Number of Users\",\"Number of Users\",\"Number of Users\",\"Number of Users\",\"Number of Users\",\"Number of Users\",\"Number of Users\",\"Number of Users\",\"Number of Users\",\"Number of Users\",\"Number of Users\",\"Number of Users\",\"Number of Users\",\"Number of Users\",\"Number of Users\",\"Number of Users\",\"Number of Users\",\"Number of Users\",\"Number of Users\",\"Number of Users\",\"Number of Users\",\"Number of Users\",\"Number of Users\",\"Number of Users\",\"Number of Users\",\"Number of Users\",\"Number of Users\",\"Number of Users\",\"Number of Users\",\"Number of Users\",\"Number of Users\",\"Number of Users\",\"Number of Users\",\"Number of Users\",\"Number of Users\",\"Number of Users\",\"Number of Users\",\"Number of Users\",\"Number of Users\",\"Number of Users\",\"Number of Users\",\"Number of Users\",\"Number of Users\",\"Number of Users\",\"Number of Users\",\"Number of Users\",\"Number of Users\",\"Number of Users\",\"Number of Users\",\"Number of Users\",\"Number of Users\",\"Number of Users\",\"Number of Users\",\"Number of Users\",\"Number of Users\",\"Number of Users\",\"Number of Users\",\"Number of Users\",\"Number of Users\",\"Number of Users\",\"Number of Users\",\"Number of Users\",\"Number of Users\",\"Number of Users\",\"Number of Users\",\"Number of Users\",\"Number of Users\",\"Number of Users\",\"Number of Users\",\"Number of Users\",\"Number of Users\",\"Number of Users\",\"Number of Users\",\"Number of Users\",\"Number of Users\",\"Number of Users\",\"Number of Users\",\"Number of Users\",\"Number of Users\",\"Number of Users\",\"Number of Users\",\"Number of Users\",\"Number of Users\",\"Number of Users\",\"Number of Users\",\"Number of Users\",\"Number of Users\",\"Number of Users\",\"Number of Users\",\"Number of Users\",\"Number of Users\",\"Number of Users\",\"Number of Users\",\"Number of Users\",\"Number of Users\",\"Number of Users\",\"Number of Users\",\"Number of Users\",\"Number of Users\",\"Number of Users\",\"Number of Users\",\"Number of Users\",\"Number of Users\",\"Number of Users\",\"Number of Users\",\"Number of Users\",\"Number of Users\",\"Number of Users\",\"Number of Users\",\"Number of Users\",\"Number of Users\",\"Number of Users\",\"Number of Users\",\"Number of Users\",\"Number of Users\",\"Number of Users\",\"Number of Users\",\"Number of Users\",\"Number of Users\",\"Number of Users\",\"Number of Users\",\"Number of Users\",\"Number of Users\",\"Number of Users\",\"Number of Users\",\"Number of Users\",\"Number of Users\",\"Number of Users\",\"Number of Users\",\"Number of Users\",\"Number of Users\",\"Number of Users\",\"Number of Users\",\"Number of Users\",\"Number of Users\",\"Number of Users\",\"Number of Users\",\"Number of Users\",\"Number of Users\",\"Number of Users\",\"Number of Users\",\"Number of Users\",\"Number of Users\",\"Number of Users\",\"Number of Users\",\"Number of Users\",\"Number of Users\",\"Number of Users\",\"Number of Users\",\"Number of Users\",\"Number of Users\",\"Number of Users\",\"Number of Users\",\"Number of Users\",\"Number of Users\",\"Number of Users\",\"Number of Users\",\"Number of Users\",\"Number of Users\",\"Number of Users\",\"Number of Users\",\"Number of Users\",\"Number of Users\",\"Number of Users\",\"Number of Users\",\"Number of Users\",\"Number of Users\",\"Number of Users\",\"Number of Users\",\"Number of Users\",\"Number of Users\",\"Number of Users\",\"Number of Users\",\"Number of Users\",\"Number of Users\",\"Number of Users\",\"Number of Users\",\"Number of Users\",\"Number of Users\",\"Number of Users\",\"Number of Users\",\"Number of Users\",\"Number of Users\",\"Number of Users\",\"Number of Users\",\"Number of Users\",\"Number of Users\",\"Number of Users\",\"Number of Users\",\"Number of Users\",\"Number of Users\",\"Number of Users\",\"Number of Users\",\"Number of Users\",\"Number of Users\",\"Number of Users\",\"Number of Users\",\"Number of Users\",\"Number of Users\",\"Number of Users\",\"Number of Users\",\"Number of Users\",\"Number of Users\",\"Number of Users\",\"Number of Users\",\"Number of Users\",\"Number of Users\",\"Number of Users\",\"Number of Users\",\"Number of Users\",\"Number of Users\",\"Number of Users\",\"Number of Users\",\"Number of Users\",\"Number of Users\",\"Number of Users\",\"Number of Users\",\"Number of Users\",\"Number of Users\",\"Number of Users\",\"Number of Users\",\"Number of Users\",\"Number of Users\",\"Number of Users\"],\"value\":{\"__ndarray__\":\"AAAAAAAAAAAAAAAAAAAAAAAAAAAAAAAAAAAAAAAAAAAAAAAAAABJQAAAAAAAQF9AAAAAAAAAAAAAAAAAAAAAAAAAAAAAQGVAAAAAAABAekAAAAAAAAA5QAAAAAAAAD5AAAAAAAAANEAAAAAAAAA5QAAAAAAAcIdAAAAAAADgYEAAAAAAABiFQAAAAAAAQFVAAAAAAACwjUAAAAAAAAAAAAAAAAAA+JFAAAAAAAAAOUAAAAAAAABUQAAAAAAAwFxAAAAAAACAa0AAAAAAAIBbQAAAAAAAAC5AAAAAAABAZUAAAAAAAABZQAAAAAAAAFpAAAAAAAAANEAAAAAAAGB2QAAAAAAAwFJAAAAAAAAASUAAAAAAAOCFQAAAAAAAgFtAAAAAAADAYkAAAAAAACB9QAAAAAAAAD5AAAAAAAAAAAAAAAAAAMByQAAAAAAAcIdAAAAAAAB4hEAAAAAAAAAAAAAAAAAAAHlAAAAAAAAAAAAAAAAAAABJQAAAAAAAQG9AAAAAAAAAWUAAAAAAAABEQAAAAAAAwHJAAAAAAACQmkAAAAAAAABBQAAAAAAAAERAAAAAAAAALEAAAAAAAABJQAAAAAAAAHlAAAAAAADAYkAAAAAAAABOQAAAAAAAAFlAAAAAAACAdkAAAAAAAABpQAAAAAAAQG9AAAAAAAAAiUAAAAAAAMByQAAAAAAAAAAAAAAAAAAAWUAAAAAAAABOQAAAAAAAADRAAAAAAADAYkAAAAAAAABJQAAAAAAAAERAAAAAAABgaEAAAAAAAABZQAAAAAAA4IBAAAAAAAAAPkAAAAAAAMByQAAAAAAAAElAAAAAAAAAAAAAAAAAACBhQAAAAAAAQG9AAAAAAACAUUAAAAAAAAA0QAAAAAAAAFlAAAAAAAAAIEAAAAAAACBpQAAAAAAAAFlAAAAAAAAAR0AAAAAAAAAkQAAAAAAAAEVAAAAAAAAAKkAAAAAAAGigQAAAAAAAQG9AAAAAAACQjUAAAAAAAAA1QAAAAAAAAD5AAAAAAABQlEAAAAAAAABZQAAAAAAAAFlAAAAAAABohUAAAAAAAAA0QAAAAAAAAF5AAAAAAABAb0AAAAAAAOBvQAAAAAAAAAAAAAAAAAAAWUAAAAAAAABJQAAAAAAAgFZAAAAAAADglUAAAAAAAOBwQAAAAAAApJBAAAAAAAAAeUAAAAAAAABJQAAAAAAAAElAAAAAAAAAeUAAAAAAAAB5QAAAAAAAgFFAAAAAAAAAeUAAAAAAAABZQAAAAAAAAFlAAAAAAAAATkAAAAAAAABJQAAAAAAAwGJAAAAAAAAAWUAAAAAAAAAkQAAAAAAA0HFAAAAAAAAASUAAAAAAAABJQAAAAAAA4HVAAAAAAADgdUAAAAAAAEBvQAAAAAAAcJdAAAAAAAAAeUAAAAAAAIijQAAAAAAAwFJAAAAAAACAcUAAAAAAAABJQAAAAAAAADtAAAAAAAA4mEAAAAAAANBxQAAAAAAAyKJAAAAAAAAAAAAAAAAAAAynQAAAAAAAAElAAAAAAAAASUAAAAAAAABpQAAAAAAAgGtAAAAAAAAAPkAAAAAAAMBSQAAAAAAAAGlAAAAAAADAYkAAAAAAAAAAAAAAAAAAMIFAAAAAAAAAOUAAAAAAAMBSQAAAAAAAADlAAAAAAAAAAAAAAAAAAMCCQAAAAAAAQI9AAAAAAACAXkAAAAAAAMBSQAAAAAAAABhAAAAAAADAYkAAAAAAAHCHQAAAAAAAACRAAAAAAACIg0AAAAAAAOB1QAAAAAAAAFlAAAAAAADghUAAAAAAAIBWQAAAAAAAwGJAAAAAAABAb0AAAAAAAMBiQAAAAAAAAGRAAAAAAAAAOUAAAAAAAMBSQAAAAAAAAG5AAAAAAADghUAAAAAAAMBiQAAAAAAAQG9AAAAAAABggUAAAAAAAACJQAAAAAAAwFJAAAAAAABoj0AAAAAAAABpQAAAAAAAQG9AAAAAAAAAeUAAAAAAAAAAAAAAAAAAAElAAAAAAAAAeUAAAAAAAABOQAAAAAAAAAAAAAAAAAAAmUAAAAAAAECPQAAAAAAAwHJAAAAAAABgc0AAAAAAAEB/QAAAAAAAaJBAAAAAAAAAWUAAAAAAAEB/QAAAAAAAQH9AAAAAAAAAWUAAAAAAABCHQAAAAAAAAGlAAAAAAAAASUAAAAAAAOCFQAAAAAAAgIFAAAAAAABAf0AAAAAAAIBMQAAAAAAAQFpAAAAAAADAkkAAAAAAAEBvQAAAAAAAwHJAAAAAAAAAGEAAAAAAAAAAAAAAAAAACIFAAAAAAAAASUAAAAAAAABZQAAAAAAAwGJAAAAAAAAAWUAAAAAAAOB1QAAAAAAAwHJAAAAAAAAAJEAAAAAAAABJQAAAAAAAAFRAAAAAAAAAWUAAAAAAAAAkQAAAAAAAwHJAAAAAAABAj0AAAAAAAABEQAAAAAAAACRAAAAAAABAb0AAAAAAAAAAAAAAAAAAAAAAAAAAAADAckAAAAAAAIBbQAAAAAAAAAAAAAAAAADAYkAAAAAAAKCAQAAAAAAAAElAAAAAAAAAPkAAAAAAAABZQAAAAAAAACZAAAAAAABAX0AAAAAAAOByQAAAAAAAwGdAAAAAAAAAWUAAAAAAAEB/QAAAAAAAgEFAAAAAAADAYkAAAAAAAMCMQAAAAAAAQH9AAAAAAADAYkAAAAAAAIBxQAAAAAAA4HVAAAAAAAAAAAAAAAAAAOBvQAAAAAAAgFFAAAAAAAAASUAAAAAAAAAQQAAAAAAAQFpAAAAAAAAggkAAAAAAAIB4QAAAAAAAAGlAAAAAAAAAAAAAAAAAAMByQAAAAAAAAHRAAAAAAAAAAAAAAAAAAABJQAAAAAAAAERAAAAAAAAAWUAAAAAAAMB8QAAAAAAAAFRAAAAAAAAAaUAAAAAAAEBdQAAAAAAAAFlAAAAAAAAAAAAAAAAAAABCQAAAAAAAwJJAAAAAAAAAAAAAAAAAAEBVQAAAAAAAAFlAAAAAAAAAWUAAAAAAAJCKQAAAAAAAgFFAAAAAAABAX0AAAAAAAECfQAAAAAAAQH9AAAAAAAAASUAAAAAAAABZQAAAAAAAgGVAAAAAAIB/wkAAAAAAAAA+QAAAAAAAQG9AAAAAAAAASUAAAAAAAMByQAAAAAAAAFlAAAAAAAAASUAAAAAAAABZQAAAAAAAAIlAAAAAAABAj0AAAAAAAAAAAAAAAAAAYJtAAAAAAADAckAAAAAAAAAAAAAAAAAAQH9AAAAAAAAAOUAAAAAAAPiFQAAAAAAAwHJAAAAAAAAAWUAAAAAAAMBgQAAAAAAAAGlAAAAAAADAckAAAAAAAABJQAAAAAAAoGVAAAAAAADAUkAAAAAAAMBSQAAAAAAAgFhAAAAAAACQikAAAAAAAABpQAAAAAAAAElAAAAAAAAAaUAAAAAAADCBQAAAAAAAAGlAAAAAAADgZUAAAAAAAMByQAAAAAAAYGNAAAAAAAAAWUAAAAAAAIB2QAAAAAAAAD5AAAAAAABwdkAAAAAAAABZQAAAAAAAAAAAAAAAAADAckAAAAAAAEB/QAAAAAAAyJlAAAAAAAAASUAAAAAAAGiQQAAAAAAAwFJAAAAAAADAUkAAAAAAAFCEQAAAAAAAwFJAAAAAAACAakAAAAAAAKBkQAAAAAAAgG1AAAAAAADAYkAAAAAAAAAAAAAAAAAAQI9AAAAAAAAAOUAAAAAAAOB1QAAAAAAAADRAAAAAAAAATkAAAAAAAEBqQAAAAAAAAFlAAAAAAADAckAAAAAAAGBzQAAAAAAAAFlAAAAAAABwc0AAAAAAAEBiQAAAAAAAAFlAAAAAAADAUUAAAAAAAABZQAAAAAAAAElAAAAAAAAAaUAAAAAAAOB1QAAAAAAAaIBAAAAAAABAZ0AAAAAAAOBgQAAAAAAAgEZAAAAAAACAXkAAAAAAAEBvQAAAAAAAQH9AAAAAAABAj0AAAAAAAABpQAAAAAAAAAAAAAAAAABAf0AAAAAAAAA0QAAAAAAAACRAAAAAAAAgckAAAAAAAAA5QAAAAAAAAFlAAAAAAADgdUAAAAAAAMCCQAAAAAAAZc1AAAAAAABAb0AAAAAAAEBgQAAAAAAAAHlAAAAAAACAS0AAAAAAAEBVQAAAAAAAAERAAAAAAAAAWUAAAAAAAMBSQAAAAAAAeI5AAAAAAAAATEAAAAAAAAAAAA==\",\"dtype\":\"float64\",\"order\":\"little\",\"shape\":[395]}},\"selected\":{\"id\":\"1172\"},\"selection_policy\":{\"id\":\"1185\"}},\"id\":\"1171\",\"type\":\"ColumnDataSource\"},{\"attributes\":{},\"id\":\"1205\",\"type\":\"UnionRenderers\"},{\"attributes\":{\"text\":\"\",\"text_color\":{\"value\":\"black\"},\"text_font_size\":{\"value\":\"12pt\"}},\"id\":\"1139\",\"type\":\"Title\"},{\"attributes\":{},\"id\":\"1185\",\"type\":\"UnionRenderers\"},{\"attributes\":{\"line_alpha\":0.1,\"line_color\":\"#ff7e0e\",\"line_width\":2,\"x\":{\"field\":\"Customers\"},\"y\":{\"field\":\"value\"}},\"id\":\"1193\",\"type\":\"Line\"},{\"attributes\":{},\"id\":\"1170\",\"type\":\"BasicTickFormatter\"},{\"attributes\":{\"line_color\":\"#1f77b3\",\"line_width\":2,\"x\":{\"field\":\"Customers\"},\"y\":{\"field\":\"value\"}},\"id\":\"1174\",\"type\":\"Line\"},{\"attributes\":{},\"id\":\"1168\",\"type\":\"CategoricalTickFormatter\"},{\"attributes\":{\"line_alpha\":0.2,\"line_color\":\"#1f77b3\",\"line_width\":2,\"x\":{\"field\":\"Customers\"},\"y\":{\"field\":\"value\"}},\"id\":\"1176\",\"type\":\"Line\"},{\"attributes\":{\"end\":165000.0,\"reset_end\":165000.0,\"reset_start\":-15000.0,\"start\":-15000.0,\"tags\":[[[\"value\",\"value\",null]]]},\"id\":\"1135\",\"type\":\"Range1d\"},{\"attributes\":{\"source\":{\"id\":\"1171\"}},\"id\":\"1178\",\"type\":\"CDSView\"},{\"attributes\":{\"margin\":[5,5,5,5],\"name\":\"HSpacer01863\",\"sizing_mode\":\"stretch_width\"},\"id\":\"1133\",\"type\":\"Spacer\"},{\"attributes\":{\"bottom_units\":\"screen\",\"fill_alpha\":0.5,\"fill_color\":\"lightgrey\",\"left_units\":\"screen\",\"level\":\"overlay\",\"line_alpha\":1.0,\"line_color\":\"black\",\"line_dash\":[4,4],\"line_width\":2,\"right_units\":\"screen\",\"top_units\":\"screen\"},\"id\":\"1159\",\"type\":\"BoxAnnotation\"},{\"attributes\":{},\"id\":\"1143\",\"type\":\"CategoricalScale\"},{\"attributes\":{},\"id\":\"1190\",\"type\":\"Selection\"},{\"attributes\":{\"factors\":[\"Alabama A&M University-College of Education\",\"Albertus Magnus College\",\"Albuquerque Public Schools\",\"Alcorn State University\",\"Alderson Broaddus University\",\"Alverno College\",\"American College of Education\",\"American University\",\"Anderson University\",\"Appalachian State University\",\"Aquinas College\",\"Arcadia University\",\"Arkansas Northeastern College\",\"Arlington Public Schools\",\"Armstrong State University\",\"Auburn University\",\"Augusta University\",\"Augustana College\",\"Austin Peay State University\",\"Bainbridge Island School District\",\"Ball State University\",\"Bard College\",\"Barton College\",\"Belhaven University\",\"Bellarmine University\",\"Berea College\",\"Berry College\",\"Billings Senior High School\",\"Birmingham-Southern College\",\"BloomBoard, Inc.\",\"Bowling Green Independent Schools\",\"Bowling Green State University\",\"Bradley University\",\"Brandeis University\",\"Brenau University\",\"Bridgewater College\",\"Brigham Young University \\u2013 Hawaii\",\"Brock University\",\"Brown University\",\"Bureau of Indian Affairs\",\"CA State University Chico\",\"CA State University Dominguez Hills\",\"CA State University, Stanislaus\",\"CERRA\",\"CSU San Bernardino\",\"CTU Foundation, Inc\",\"California State Polytechnic University Pomona-Education/CEIS\",\"California State University\",\"California State University Long Beach\",\"California State University Northridge\",\"California State University, Fullerton\",\"California University of Pennsylvania\",\"Calvert County Public Schools\",\"Campbell University\",\"Capital University\",\"Catawba College\",\"Central Connecticut State University\",\"Central Washington University\",\"Central Wyoming College\",\"Chapman University\",\"Charleston Southern University\",\"Chicago State University\",\"Christina School District\",\"City University of New York\",\"Clarion University of Pennsylvania\",\"Clark County Education Association\",\"Clayton State University\",\"Clemson University\",\"Cleveland County Schools\",\"Coastal Carolina University\",\"Colgate University\",\"College for Creative Studies\",\"College of Coastal Georgia\",\"College of Mount Saint Vincent\",\"College of William and Mary\",\"Colorado Education Association\",\"Colorado State University Pueblo\",\"Columbia College\",\"Columbus State University\",\"Concord University\",\"Concordia University Chicago\",\"Concordia University Irvine\",\"Creighton University\",\"Crowder College\",\"Crowley\\u2019s Ridge College\",\"Cumberland University\",\"Delta State University\",\"Department of Defense Education Activity-Teaching and Learning Division\",\"Dickinson State University\",\"Duke University\",\"Durham Public Schools\",\"East Carolina University\",\"East Stroudsburg University & Colonial IU\",\"East Tennessee State University\",\"Eastern Michigan University\",\"El Rancho Unified School District\",\"Emporia State University\",\"Farleigh Dickinson University\",\"Faulkner University\",\"Fayetteville State University\",\"Felician University\",\"Ferris State University\",\"Florida Southwestern State College\",\"Florida State University\",\"Floyd County Schools\",\"Fort Mill School District\",\"Four Corners Coalition\",\"Francis Marion University\",\"George Mason University\",\"Georgia College and State University\",\"Georgia Gwinnett College\",\"Georgia Southern University\",\"Georgia Southwestern State University\",\"Gettysburg College\",\"Governors State University\",\"Greenville College\",\"Hanover College\",\"Harding University, College of Education\",\"Hawaii State Teachers Association\",\"Heritage University\",\"Hobart and William Smith Colleges\",\"Homewood City Schools\",\"Hope International University\",\"Houghton College\",\"Hudson Valley Community College\",\"Humboldt State University\",\"Humboldt State University \\u2013 Art Department\",\"Husson University\",\"Illinois College\",\"Illinois National Board Resource Center\",\"Illinois State University Board of Trustees\",\"Indiana University Libraries\",\"Ithaca College\",\"James Madison University College of Education\",\"John Carroll University\",\"John Hopkins University\",\"John P. Ellbogen Foundation\",\"KYDOE-Educator Recruitment and Development\",\"Kansas State University\",\"Kennesaw State University\",\"Kentucky Community & Technical College\",\"Kentucky EPSB\",\"Kutztown University of Pennsylvania\",\"LaGrange College\",\"Lake Havasu USD\",\"Lamar CISD\",\"Lebanon Valley College\",\"Lee University School of Music\",\"Lehigh Carbon Community College\",\"Lewis University\",\"Lorain County Community College\",\"Louisiana Board of Regents\",\"Louisiana State University Baton Rouge\",\"Louisiana State University Shreveport\",\"Louisiana State University of Alexandria\",\"Louisiana Tech University\",\"Lyndonville Central School District\",\"Manhattanville College\",\"Maricopa CC District Rio Salado College\",\"Marietta College\",\"Maryville College\",\"McLean County Unit District No.\",\"Medaille College\",\"Mercer University\",\"Meredith College\",\"Metro RESA\",\"Miami University\",\"Miami University-Oxford\",\"Middle Tennessee State University\",\"Middlesex County College\",\"Midland University\",\"Millersville University of Pennsylvania\",\"Milligan College\",\"Minnesota State University Moorhead\",\"Mississippi Dept of Education\",\"Mississippi State University\",\"Mississippi State University Meridian\",\"Mississippi State University, College of Education\",\"Modesto Junior College\",\"Monroe County School District\",\"Montclair State University\",\"Morehead State University\",\"Morgan State University\",\"Murray State University\",\"Murrieta Valley USD\",\"NC A&T State University\",\"NC New Teacher Support Program\",\"NEA Vermont\",\"NHTI-Concord\\u2019s Community College\",\"NM NBCT Network\",\"NM NT Santa Fe Public School\",\"NM Northern Coalition\",\"National Louis University\",\"New York University\",\"New York University-Steinhardt\",\"Niagara University\",\"North Carolina Central University\",\"North Carolina State University\",\"North Central College\",\"Northampton County Public Schools\",\"Northeastern Illinois University\",\"Northern Arizona University\",\"Northern Illinois University\",\"Northern Virginia Community College\",\"Northwestern Michigan College\",\"Northwestern State University\",\"Orange County DOE\",\"Oregon State University\",\"Ouachita Baptist University\",\"Pathway to Practice NC\",\"Piedmont College\",\"Piedmont College School of Education\",\"Pierce College\",\"Pinecrest Academy of Nevada\",\"Pitt County School/DEEL\",\"Portland State University\",\"Presbyterian College Education Department\",\"Prince George\\u2019s Community College\",\"Providence College\",\"Purdue University\",\"Purdue University Fort Wayne\",\"Radford University\",\"Ramapo College\",\"Region  Education Service Ctr\",\"Reinhardt University\",\"Rhodes College\",\"Richland Elementary School\",\"Rider University\",\"Rio Salado College\",\"Ripon College\",\"Rochester Institute of Technology\",\"Roosevelt University\",\"Rowan College South Jersey\",\"Rowan University\",\"Rutgers University Graduate School of Education\",\"SDCOE\",\"ST. Mary's College of Maryland\",\"SUNY College at Brockport\",\"SUNY College of Oneonta\",\"SUNY Erie Community College\",\"SUNY Plattsburgh\",\"Saint Andrew's School\",\"Saint Catherine University\",\"Saint Joseph\\u2019s College of Maine\",\"Saint Joseph\\u2019s University\",\"Saint Xavier University\",\"Salem University\",\"Salisbury University\",\"Salve Regina University\",\"Sam Houston State University\",\"San Jose State University\",\"Santa Rosa County District Schools\",\"Seattle University\",\"Seton Hall University\",\"Shippensburg University\",\"Shorter University\",\"Siena College\",\"Skidmore College\",\"South Australia DOE\",\"South College\",\"Southeast KCTCS\",\"Southeast Missouri State University\",\"Southeast South-Central Education Cooperative\",\"Southern Adventist University\",\"Southern Connecticut State University\",\"Southern Illinois University Carbondale\",\"Southern Illinois University Edwardsville\",\"Southern New Hampshire University\",\"Southern University at New Orleans\",\"Spelman College\",\"Springfield College\",\"St. Bonaventure University-School of Education\",\"St. Louis Community College\",\"St. Thomas Aquinas College\",\"Stanford University/SCALE\",\"State Fair Community College\",\"State University of NY Potsdam\",\"Swarthmore College\",\"Syracuse University\",\"TAOS Municipal School District\",\"Tacoma Public Schools\",\"Teach for America Kansas City\",\"Teach for America-Kansas City\",\"Teachers College, Columbia University\",\"Temple University, Tyler School of Art and Architecture\",\"Tennessee Wesleyan University\",\"Texas A&M University\",\"Texas State University\",\"The Citadel Zucker Family School of Education\",\"The Citadel, Zucker Family School of Education\",\"The College of Wooster\",\"The State University of New York (SUNY)\",\"The Support Network\",\"The University of New Orleans\",\"The University of Southern Mississippi\",\"The University of Tennessee, Knoxville\",\"The University of Texas at Tyler\",\"Thiel College\",\"Thomas College\",\"Troy University\",\"Tuscaloosa City Schools\",\"UAB Regional In Service Centers\",\"UNC Wilmington\",\"Union University\",\"University of Alabama\",\"University of Arkansas\",\"University of California Berkeley\",\"University of California, Davis\",\"University of California, Riverside\",\"University of Central Arkansas\",\"University of Central Oklahoma\",\"University of Detroit Mercy Lib\",\"University of Georgia\",\"University of Guam\",\"University of Hawaii at Manoa\",\"University of Holy Cross (LA)\",\"University of Illinois Springfield\",\"University of Illinois at Urbana-Champaign\",\"University of Kentucky\",\"University of Kentucky Libraries\",\"University of Kentucky, IHE\",\"University of Kentucky, IHE Special Education Consortium\",\"University of La Verne\",\"University of Louisiana at Lafayette\",\"University of Louisiana at Monroe\",\"University of Louisville\",\"University of Lynchburg\",\"University of Maryland Baltimore County\",\"University of Maryland College of Education\",\"University of Michigan-Dearborn\",\"University of Minnesota Duluth\",\"University of Mississippi\",\"University of Missouri Kansas City\",\"University of Montevallo\",\"University of NC Charlotte\",\"University of NC Greensboro\",\"University of New Mexico\",\"University of North Alabama\",\"University of North Carolina\",\"University of North Carolina Chapel Hill\",\"University of North Carolina Charlotte\",\"University of North Colorado\",\"University of North Dakota\",\"University of North Florida\",\"University of North Georgia\",\"University of North Texas\",\"University of Pacific\",\"University of Phoenix Inc.\",\"University of Portland\",\"University of Rhode Island (School of Education)\",\"University of Richmond\",\"University of Rochester-Warner School\",\"University of San Francisco\",\"University of South Alabama\",\"University of South Carolina, Beaufort\",\"University of Southern Mississippi\",\"University of St. Francis\",\"University of St. Thomas\",\"University of Tennessee at Martin\",\"University of Texas at San Antonio\",\"University of Texas at Tyler\",\"University of Virginia\",\"University of West Alabama\",\"University of West Georgia\",\"University of Wisconsin Stevens Point\",\"University of Wisconsin-Eau Claire\",\"University of Wisconsin-Madison\",\"University of Wisconsin-River Falls\",\"University of Wyoming, College of Education\",\"University of the Arts\",\"University of the Cumberland\",\"University of the Pacific\",\"Utah Valley University\",\"Utica College\",\"VA NBCT Network\",\"Valdosta State University\",\"Virginia Commonwealth University\",\"Vitero University\",\"Walla Walla Public Schools\",\"Washington County Schools\",\"Washington State University\",\"West Liberty University\",\"Western Carolina University\",\"Western Governors University\",\"Western Illinois University\",\"Western Washington University\",\"Westfield State University\",\"Wheaton College\",\"William Baptist University\",\"William Paterson University\",\"Wingate University\",\"Winston-Salem State University\",\"Winthrop University\",\"Yakima Valley College\",\"Young Harris College/Miller Library\"],\"tags\":[[[\"Customers\",\"Customers\",null]]]},\"id\":\"1134\",\"type\":\"FactorRange\"},{\"attributes\":{\"label\":{\"value\":\"Number of Users\"},\"renderers\":[{\"id\":\"1177\"}]},\"id\":\"1188\",\"type\":\"LegendItem\"},{\"attributes\":{\"children\":[{\"id\":\"1133\"},{\"id\":\"1138\"},{\"id\":\"1298\"}],\"margin\":[0,0,0,0],\"name\":\"Row01859\",\"tags\":[\"embedded\"]},\"id\":\"1132\",\"type\":\"Row\"},{\"attributes\":{\"line_color\":\"#ff7e0e\",\"line_width\":2,\"x\":{\"field\":\"Customers\"},\"y\":{\"field\":\"value\"}},\"id\":\"1192\",\"type\":\"Line\"},{\"attributes\":{\"callback\":null,\"renderers\":[{\"id\":\"1177\"},{\"id\":\"1195\"}],\"tags\":[\"hv_created\"],\"tooltips\":[[\"Variable\",\"@{Variable}\"],[\"Customers\",\"@{Customers}\"],[\"value\",\"@{value}\"]]},\"id\":\"1136\",\"type\":\"HoverTool\"},{\"attributes\":{\"data_source\":{\"id\":\"1189\"},\"glyph\":{\"id\":\"1192\"},\"hover_glyph\":null,\"muted_glyph\":{\"id\":\"1194\"},\"nonselection_glyph\":{\"id\":\"1193\"},\"selection_glyph\":null,\"view\":{\"id\":\"1196\"}},\"id\":\"1195\",\"type\":\"GlyphRenderer\"},{\"attributes\":{},\"id\":\"1148\",\"type\":\"CategoricalTicker\"},{\"attributes\":{\"margin\":[5,5,5,5],\"name\":\"HSpacer01864\",\"sizing_mode\":\"stretch_width\"},\"id\":\"1298\",\"type\":\"Spacer\"},{\"attributes\":{\"line_alpha\":0.2,\"line_color\":\"#ff7e0e\",\"line_width\":2,\"x\":{\"field\":\"Customers\"},\"y\":{\"field\":\"value\"}},\"id\":\"1194\",\"type\":\"Line\"},{\"attributes\":{\"below\":[{\"id\":\"1147\"}],\"center\":[{\"id\":\"1149\"},{\"id\":\"1153\"}],\"left\":[{\"id\":\"1150\"}],\"margin\":[5,5,5,5],\"min_border_bottom\":10,\"min_border_left\":10,\"min_border_right\":10,\"min_border_top\":10,\"plot_height\":300,\"plot_width\":700,\"renderers\":[{\"id\":\"1177\"},{\"id\":\"1195\"}],\"right\":[{\"id\":\"1187\"}],\"sizing_mode\":\"fixed\",\"title\":{\"id\":\"1139\"},\"toolbar\":{\"id\":\"1160\"},\"x_range\":{\"id\":\"1134\"},\"x_scale\":{\"id\":\"1143\"},\"y_range\":{\"id\":\"1135\"},\"y_scale\":{\"id\":\"1145\"}},\"id\":\"1138\",\"subtype\":\"Figure\",\"type\":\"Plot\"},{\"attributes\":{\"axis_label\":\"\",\"bounds\":\"auto\",\"formatter\":{\"id\":\"1170\"},\"major_label_orientation\":\"horizontal\",\"ticker\":{\"id\":\"1151\"}},\"id\":\"1150\",\"type\":\"LinearAxis\"},{\"attributes\":{\"data\":{\"Customers\":[\"Alabama A&M University-College of Education\",\"Albertus Magnus College\",\"Albuquerque Public Schools\",\"Alcorn State University\",\"Alderson Broaddus University\",\"Alverno College\",\"American College of Education\",\"American University\",\"Anderson University\",\"Appalachian State University\",\"Aquinas College\",\"Arcadia University\",\"Arkansas Northeastern College\",\"Arlington Public Schools\",\"Armstrong State University\",\"Auburn University\",\"Augusta University\",\"Augustana College\",\"Austin Peay State University\",\"Bainbridge Island School District\",\"Ball State University\",\"Bard College\",\"Barton College\",\"Belhaven University\",\"Bellarmine University\",\"Berea College\",\"Berry College\",\"Billings Senior High School\",\"Birmingham-Southern College\",\"BloomBoard, Inc.\",\"Bowling Green Independent Schools\",\"Bowling Green State University\",\"Bradley University\",\"Brandeis University\",\"Brenau University\",\"Bridgewater College\",\"Brigham Young University \\u2013 Hawaii\",\"Brock University\",\"Brown University\",\"Bureau of Indian Affairs\",\"CA State University Chico\",\"CA State University Dominguez Hills\",\"CA State University, Stanislaus\",\"CERRA\",\"CSU San Bernardino\",\"CTU Foundation, Inc\",\"California State Polytechnic University Pomona-Education/CEIS\",\"California State University\",\"California State University Long Beach\",\"California State University Northridge\",\"California State University, Fullerton\",\"California University of Pennsylvania\",\"Calvert County Public Schools\",\"Campbell University\",\"Capital University\",\"Catawba College\",\"Central Connecticut State University\",\"Central Washington University\",\"Central Wyoming College\",\"Chapman University\",\"Charleston Southern University\",\"Chicago State University\",\"Christina School District\",\"City University of New York\",\"Clarion University of Pennsylvania\",\"Clark County Education Association\",\"Clayton State University\",\"Clemson University\",\"Cleveland County Schools\",\"Coastal Carolina University\",\"Colgate University\",\"College for Creative Studies\",\"College of Coastal Georgia\",\"College of Mount Saint Vincent\",\"College of William and Mary\",\"Colorado Education Association\",\"Colorado State University Pueblo\",\"Columbia College\",\"Columbus State University\",\"Concord University\",\"Concordia University Chicago\",\"Concordia University Irvine\",\"Creighton University\",\"Crowder College\",\"Crowley\\u2019s Ridge College\",\"Cumberland University\",\"Delta State University\",\"Department of Defense Education Activity-Teaching and Learning Division\",\"Dickinson State University\",\"Duke University\",\"Durham Public Schools\",\"East Carolina University\",\"East Stroudsburg University & Colonial IU\",\"East Tennessee State University\",\"Eastern Michigan University\",\"El Rancho Unified School District\",\"Emporia State University\",\"Farleigh Dickinson University\",\"Faulkner University\",\"Fayetteville State University\",\"Felician University\",\"Ferris State University\",\"Florida Southwestern State College\",\"Florida State University\",\"Floyd County Schools\",\"Fort Mill School District\",\"Four Corners Coalition\",\"Francis Marion University\",\"George Mason University\",\"Georgia College and State University\",\"Georgia Gwinnett College\",\"Georgia Southern University\",\"Georgia Southwestern State University\",\"Gettysburg College\",\"Governors State University\",\"Greenville College\",\"Hanover College\",\"Harding University, College of Education\",\"Hawaii State Teachers Association\",\"Heritage University\",\"Hobart and William Smith Colleges\",\"Homewood City Schools\",\"Hope International University\",\"Houghton College\",\"Hudson Valley Community College\",\"Humboldt State University\",\"Humboldt State University \\u2013 Art Department\",\"Husson University\",\"Illinois College\",\"Illinois National Board Resource Center\",\"Illinois State University Board of Trustees\",\"Indiana University Libraries\",\"Ithaca College\",\"James Madison University College of Education\",\"John Carroll University\",\"John Hopkins University\",\"John P. Ellbogen Foundation\",\"KYDOE-Educator Recruitment and Development\",\"Kansas State University\",\"Kennesaw State University\",\"Kentucky Community & Technical College\",\"Kentucky EPSB\",\"Kutztown University of Pennsylvania\",\"LaGrange College\",\"Lake Havasu USD\",\"Lamar CISD\",\"Lebanon Valley College\",\"Lee University School of Music\",\"Lehigh Carbon Community College\",\"Lewis University\",\"Lorain County Community College\",\"Louisiana Board of Regents\",\"Louisiana State University Baton Rouge\",\"Louisiana State University Shreveport\",\"Louisiana State University of Alexandria\",\"Louisiana Tech University\",\"Lyndonville Central School District\",\"Manhattanville College\",\"Maricopa CC District Rio Salado College\",\"Marietta College\",\"Maryville College\",\"McLean County Unit District No.\",\"Medaille College\",\"Mercer University\",\"Meredith College\",\"Metro RESA\",\"Miami University\",\"Miami University-Oxford\",\"Middle Tennessee State University\",\"Middlesex County College\",\"Midland University\",\"Millersville University of Pennsylvania\",\"Milligan College\",\"Minnesota State University Moorhead\",\"Mississippi Dept of Education\",\"Mississippi State University\",\"Mississippi State University Meridian\",\"Mississippi State University, College of Education\",\"Modesto Junior College\",\"Monroe County School District\",\"Montclair State University\",\"Morehead State University\",\"Morgan State University\",\"Murray State University\",\"Murrieta Valley USD\",\"NC A&T State University\",\"NC New Teacher Support Program\",\"NEA Vermont\",\"NHTI-Concord\\u2019s Community College\",\"NM NBCT Network\",\"NM NT Santa Fe Public School\",\"NM Northern Coalition\",\"National Louis University\",\"New York University\",\"New York University-Steinhardt\",\"Niagara University\",\"North Carolina Central University\",\"North Carolina State University\",\"North Central College\",\"Northampton County Public Schools\",\"Northeastern Illinois University\",\"Northern Arizona University\",\"Northern Illinois University\",\"Northern Virginia Community College\",\"Northwestern Michigan College\",\"Northwestern State University\",\"Orange County DOE\",\"Oregon State University\",\"Ouachita Baptist University\",\"Pathway to Practice NC\",\"Piedmont College\",\"Piedmont College School of Education\",\"Pierce College\",\"Pinecrest Academy of Nevada\",\"Pitt County School/DEEL\",\"Portland State University\",\"Presbyterian College Education Department\",\"Prince George\\u2019s Community College\",\"Providence College\",\"Purdue University\",\"Purdue University Fort Wayne\",\"Radford University\",\"Ramapo College\",\"Region  Education Service Ctr\",\"Reinhardt University\",\"Rhodes College\",\"Richland Elementary School\",\"Rider University\",\"Rio Salado College\",\"Ripon College\",\"Rochester Institute of Technology\",\"Roosevelt University\",\"Rowan College South Jersey\",\"Rowan University\",\"Rutgers University Graduate School of Education\",\"SDCOE\",\"ST. Mary's College of Maryland\",\"SUNY College at Brockport\",\"SUNY College of Oneonta\",\"SUNY Erie Community College\",\"SUNY Plattsburgh\",\"Saint Andrew's School\",\"Saint Catherine University\",\"Saint Joseph\\u2019s College of Maine\",\"Saint Joseph\\u2019s University\",\"Saint Xavier University\",\"Salem University\",\"Salisbury University\",\"Salve Regina University\",\"Sam Houston State University\",\"San Jose State University\",\"Santa Rosa County District Schools\",\"Seattle University\",\"Seton Hall University\",\"Shippensburg University\",\"Shorter University\",\"Siena College\",\"Skidmore College\",\"South Australia DOE\",\"South College\",\"Southeast KCTCS\",\"Southeast Missouri State University\",\"Southeast South-Central Education Cooperative\",\"Southern Adventist University\",\"Southern Connecticut State University\",\"Southern Illinois University Carbondale\",\"Southern Illinois University Edwardsville\",\"Southern New Hampshire University\",\"Southern University at New Orleans\",\"Spelman College\",\"Springfield College\",\"St. Bonaventure University-School of Education\",\"St. Louis Community College\",\"St. Thomas Aquinas College\",\"Stanford University/SCALE\",\"State Fair Community College\",\"State University of NY Potsdam\",\"Swarthmore College\",\"Syracuse University\",\"TAOS Municipal School District\",\"Tacoma Public Schools\",\"Teach for America Kansas City\",\"Teach for America-Kansas City\",\"Teachers College, Columbia University\",\"Temple University, Tyler School of Art and Architecture\",\"Tennessee Wesleyan University\",\"Texas A&M University\",\"Texas State University\",\"The Citadel Zucker Family School of Education\",\"The Citadel, Zucker Family School of Education\",\"The College of Wooster\",\"The State University of New York (SUNY)\",\"The Support Network\",\"The University of New Orleans\",\"The University of Southern Mississippi\",\"The University of Tennessee, Knoxville\",\"The University of Texas at Tyler\",\"Thiel College\",\"Thomas College\",\"Troy University\",\"Tuscaloosa City Schools\",\"UAB Regional In Service Centers\",\"UNC Wilmington\",\"Union University\",\"University of Alabama\",\"University of Arkansas\",\"University of California Berkeley\",\"University of California, Davis\",\"University of California, Riverside\",\"University of Central Arkansas\",\"University of Central Oklahoma\",\"University of Detroit Mercy Lib\",\"University of Georgia\",\"University of Guam\",\"University of Hawaii at Manoa\",\"University of Holy Cross (LA)\",\"University of Illinois Springfield\",\"University of Illinois at Urbana-Champaign\",\"University of Kentucky\",\"University of Kentucky Libraries\",\"University of Kentucky, IHE\",\"University of Kentucky, IHE Special Education Consortium\",\"University of La Verne\",\"University of Louisiana at Lafayette\",\"University of Louisiana at Monroe\",\"University of Louisville\",\"University of Lynchburg\",\"University of Maryland Baltimore County\",\"University of Maryland College of Education\",\"University of Michigan-Dearborn\",\"University of Minnesota Duluth\",\"University of Mississippi\",\"University of Missouri Kansas City\",\"University of Montevallo\",\"University of NC Charlotte\",\"University of NC Greensboro\",\"University of New Mexico\",\"University of North Alabama\",\"University of North Carolina\",\"University of North Carolina Chapel Hill\",\"University of North Carolina Charlotte\",\"University of North Colorado\",\"University of North Dakota\",\"University of North Florida\",\"University of North Georgia\",\"University of North Texas\",\"University of Pacific\",\"University of Phoenix Inc.\",\"University of Portland\",\"University of Rhode Island (School of Education)\",\"University of Richmond\",\"University of Rochester-Warner School\",\"University of San Francisco\",\"University of South Alabama\",\"University of South Carolina, Beaufort\",\"University of Southern Mississippi\",\"University of St. Francis\",\"University of St. Thomas\",\"University of Tennessee at Martin\",\"University of Texas at San Antonio\",\"University of Texas at Tyler\",\"University of Virginia\",\"University of West Alabama\",\"University of West Georgia\",\"University of Wisconsin Stevens Point\",\"University of Wisconsin-Eau Claire\",\"University of Wisconsin-Madison\",\"University of Wisconsin-River Falls\",\"University of Wyoming, College of Education\",\"University of the Arts\",\"University of the Cumberland\",\"University of the Pacific\",\"Utah Valley University\",\"Utica College\",\"VA NBCT Network\",\"Valdosta State University\",\"Virginia Commonwealth University\",\"Vitero University\",\"Walla Walla Public Schools\",\"Washington County Schools\",\"Washington State University\",\"West Liberty University\",\"Western Carolina University\",\"Western Governors University\",\"Western Illinois University\",\"Western Washington University\",\"Westfield State University\",\"Wheaton College\",\"William Baptist University\",\"William Paterson University\",\"Wingate University\",\"Winston-Salem State University\",\"Winthrop University\",\"Yakima Valley College\",\"Young Harris College/Miller Library\"],\"Variable\":[\"Invoice Amount\",\"Invoice Amount\",\"Invoice Amount\",\"Invoice Amount\",\"Invoice Amount\",\"Invoice Amount\",\"Invoice Amount\",\"Invoice Amount\",\"Invoice Amount\",\"Invoice Amount\",\"Invoice Amount\",\"Invoice Amount\",\"Invoice Amount\",\"Invoice Amount\",\"Invoice Amount\",\"Invoice Amount\",\"Invoice Amount\",\"Invoice Amount\",\"Invoice Amount\",\"Invoice Amount\",\"Invoice Amount\",\"Invoice Amount\",\"Invoice Amount\",\"Invoice Amount\",\"Invoice Amount\",\"Invoice Amount\",\"Invoice Amount\",\"Invoice Amount\",\"Invoice Amount\",\"Invoice Amount\",\"Invoice Amount\",\"Invoice Amount\",\"Invoice Amount\",\"Invoice Amount\",\"Invoice Amount\",\"Invoice Amount\",\"Invoice Amount\",\"Invoice Amount\",\"Invoice Amount\",\"Invoice Amount\",\"Invoice Amount\",\"Invoice Amount\",\"Invoice Amount\",\"Invoice Amount\",\"Invoice Amount\",\"Invoice Amount\",\"Invoice Amount\",\"Invoice Amount\",\"Invoice Amount\",\"Invoice Amount\",\"Invoice Amount\",\"Invoice Amount\",\"Invoice Amount\",\"Invoice Amount\",\"Invoice Amount\",\"Invoice Amount\",\"Invoice Amount\",\"Invoice Amount\",\"Invoice Amount\",\"Invoice Amount\",\"Invoice Amount\",\"Invoice Amount\",\"Invoice Amount\",\"Invoice Amount\",\"Invoice Amount\",\"Invoice Amount\",\"Invoice Amount\",\"Invoice Amount\",\"Invoice Amount\",\"Invoice Amount\",\"Invoice Amount\",\"Invoice Amount\",\"Invoice Amount\",\"Invoice Amount\",\"Invoice Amount\",\"Invoice Amount\",\"Invoice Amount\",\"Invoice Amount\",\"Invoice Amount\",\"Invoice Amount\",\"Invoice Amount\",\"Invoice Amount\",\"Invoice Amount\",\"Invoice Amount\",\"Invoice Amount\",\"Invoice Amount\",\"Invoice Amount\",\"Invoice Amount\",\"Invoice Amount\",\"Invoice Amount\",\"Invoice Amount\",\"Invoice Amount\",\"Invoice Amount\",\"Invoice Amount\",\"Invoice Amount\",\"Invoice Amount\",\"Invoice Amount\",\"Invoice Amount\",\"Invoice Amount\",\"Invoice Amount\",\"Invoice Amount\",\"Invoice Amount\",\"Invoice Amount\",\"Invoice Amount\",\"Invoice Amount\",\"Invoice Amount\",\"Invoice Amount\",\"Invoice Amount\",\"Invoice Amount\",\"Invoice Amount\",\"Invoice Amount\",\"Invoice Amount\",\"Invoice Amount\",\"Invoice Amount\",\"Invoice Amount\",\"Invoice Amount\",\"Invoice Amount\",\"Invoice Amount\",\"Invoice Amount\",\"Invoice Amount\",\"Invoice Amount\",\"Invoice Amount\",\"Invoice Amount\",\"Invoice Amount\",\"Invoice Amount\",\"Invoice Amount\",\"Invoice Amount\",\"Invoice Amount\",\"Invoice Amount\",\"Invoice Amount\",\"Invoice Amount\",\"Invoice Amount\",\"Invoice Amount\",\"Invoice Amount\",\"Invoice Amount\",\"Invoice Amount\",\"Invoice Amount\",\"Invoice Amount\",\"Invoice Amount\",\"Invoice Amount\",\"Invoice Amount\",\"Invoice Amount\",\"Invoice Amount\",\"Invoice Amount\",\"Invoice Amount\",\"Invoice Amount\",\"Invoice Amount\",\"Invoice Amount\",\"Invoice Amount\",\"Invoice Amount\",\"Invoice Amount\",\"Invoice Amount\",\"Invoice Amount\",\"Invoice Amount\",\"Invoice Amount\",\"Invoice Amount\",\"Invoice Amount\",\"Invoice Amount\",\"Invoice Amount\",\"Invoice Amount\",\"Invoice Amount\",\"Invoice Amount\",\"Invoice Amount\",\"Invoice Amount\",\"Invoice Amount\",\"Invoice Amount\",\"Invoice Amount\",\"Invoice Amount\",\"Invoice Amount\",\"Invoice Amount\",\"Invoice Amount\",\"Invoice Amount\",\"Invoice Amount\",\"Invoice Amount\",\"Invoice Amount\",\"Invoice Amount\",\"Invoice Amount\",\"Invoice Amount\",\"Invoice Amount\",\"Invoice Amount\",\"Invoice Amount\",\"Invoice Amount\",\"Invoice Amount\",\"Invoice Amount\",\"Invoice Amount\",\"Invoice Amount\",\"Invoice Amount\",\"Invoice Amount\",\"Invoice Amount\",\"Invoice Amount\",\"Invoice Amount\",\"Invoice Amount\",\"Invoice Amount\",\"Invoice Amount\",\"Invoice Amount\",\"Invoice Amount\",\"Invoice Amount\",\"Invoice Amount\",\"Invoice Amount\",\"Invoice Amount\",\"Invoice Amount\",\"Invoice Amount\",\"Invoice Amount\",\"Invoice Amount\",\"Invoice Amount\",\"Invoice Amount\",\"Invoice Amount\",\"Invoice Amount\",\"Invoice Amount\",\"Invoice Amount\",\"Invoice Amount\",\"Invoice Amount\",\"Invoice Amount\",\"Invoice Amount\",\"Invoice Amount\",\"Invoice Amount\",\"Invoice Amount\",\"Invoice Amount\",\"Invoice Amount\",\"Invoice Amount\",\"Invoice Amount\",\"Invoice Amount\",\"Invoice Amount\",\"Invoice Amount\",\"Invoice Amount\",\"Invoice Amount\",\"Invoice Amount\",\"Invoice Amount\",\"Invoice Amount\",\"Invoice Amount\",\"Invoice Amount\",\"Invoice Amount\",\"Invoice Amount\",\"Invoice Amount\",\"Invoice Amount\",\"Invoice Amount\",\"Invoice Amount\",\"Invoice Amount\",\"Invoice Amount\",\"Invoice Amount\",\"Invoice Amount\",\"Invoice Amount\",\"Invoice Amount\",\"Invoice Amount\",\"Invoice Amount\",\"Invoice Amount\",\"Invoice Amount\",\"Invoice Amount\",\"Invoice Amount\",\"Invoice Amount\",\"Invoice Amount\",\"Invoice Amount\",\"Invoice Amount\",\"Invoice Amount\",\"Invoice Amount\",\"Invoice Amount\",\"Invoice Amount\",\"Invoice Amount\",\"Invoice Amount\",\"Invoice Amount\",\"Invoice Amount\",\"Invoice Amount\",\"Invoice Amount\",\"Invoice Amount\",\"Invoice Amount\",\"Invoice Amount\",\"Invoice Amount\",\"Invoice Amount\",\"Invoice Amount\",\"Invoice Amount\",\"Invoice Amount\",\"Invoice Amount\",\"Invoice Amount\",\"Invoice Amount\",\"Invoice Amount\",\"Invoice Amount\",\"Invoice Amount\",\"Invoice Amount\",\"Invoice Amount\",\"Invoice Amount\",\"Invoice Amount\",\"Invoice Amount\",\"Invoice Amount\",\"Invoice Amount\",\"Invoice Amount\",\"Invoice Amount\",\"Invoice Amount\",\"Invoice Amount\",\"Invoice Amount\",\"Invoice Amount\",\"Invoice Amount\",\"Invoice Amount\",\"Invoice Amount\",\"Invoice Amount\",\"Invoice Amount\",\"Invoice Amount\",\"Invoice Amount\",\"Invoice Amount\",\"Invoice Amount\",\"Invoice Amount\",\"Invoice Amount\",\"Invoice Amount\",\"Invoice Amount\",\"Invoice Amount\",\"Invoice Amount\",\"Invoice Amount\",\"Invoice Amount\",\"Invoice Amount\",\"Invoice Amount\",\"Invoice Amount\",\"Invoice Amount\",\"Invoice Amount\",\"Invoice Amount\",\"Invoice Amount\",\"Invoice Amount\",\"Invoice Amount\",\"Invoice Amount\",\"Invoice Amount\",\"Invoice Amount\",\"Invoice Amount\",\"Invoice Amount\",\"Invoice Amount\",\"Invoice Amount\",\"Invoice Amount\",\"Invoice Amount\",\"Invoice Amount\",\"Invoice Amount\",\"Invoice Amount\",\"Invoice Amount\",\"Invoice Amount\",\"Invoice Amount\",\"Invoice Amount\",\"Invoice Amount\",\"Invoice Amount\",\"Invoice Amount\",\"Invoice Amount\",\"Invoice Amount\",\"Invoice Amount\",\"Invoice Amount\",\"Invoice Amount\",\"Invoice Amount\",\"Invoice Amount\",\"Invoice Amount\",\"Invoice Amount\",\"Invoice Amount\",\"Invoice Amount\",\"Invoice Amount\",\"Invoice Amount\",\"Invoice Amount\",\"Invoice Amount\",\"Invoice Amount\",\"Invoice Amount\",\"Invoice Amount\",\"Invoice Amount\",\"Invoice Amount\",\"Invoice Amount\",\"Invoice Amount\",\"Invoice Amount\",\"Invoice Amount\",\"Invoice Amount\",\"Invoice Amount\",\"Invoice Amount\",\"Invoice Amount\",\"Invoice Amount\",\"Invoice Amount\",\"Invoice Amount\",\"Invoice Amount\",\"Invoice Amount\",\"Invoice Amount\",\"Invoice Amount\",\"Invoice Amount\",\"Invoice Amount\",\"Invoice Amount\",\"Invoice Amount\",\"Invoice Amount\",\"Invoice Amount\",\"Invoice Amount\",\"Invoice Amount\",\"Invoice Amount\",\"Invoice Amount\",\"Invoice Amount\",\"Invoice Amount\",\"Invoice Amount\",\"Invoice Amount\",\"Invoice Amount\",\"Invoice Amount\",\"Invoice Amount\",\"Invoice Amount\",\"Invoice Amount\",\"Invoice Amount\",\"Invoice Amount\",\"Invoice Amount\",\"Invoice Amount\",\"Invoice Amount\",\"Invoice Amount\"],\"value\":{\"__ndarray__\":\"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\",\"dtype\":\"float64\",\"order\":\"little\",\"shape\":[395]}},\"selected\":{\"id\":\"1190\"},\"selection_policy\":{\"id\":\"1205\"}},\"id\":\"1189\",\"type\":\"ColumnDataSource\"},{\"attributes\":{},\"id\":\"1155\",\"type\":\"PanTool\"},{\"attributes\":{\"source\":{\"id\":\"1189\"}},\"id\":\"1196\",\"type\":\"CDSView\"},{\"attributes\":{},\"id\":\"1151\",\"type\":\"BasicTicker\"}],\"root_ids\":[\"1132\"]},\"title\":\"Bokeh Application\",\"version\":\"2.2.3\"}};\n    var render_items = [{\"docid\":\"f5c33593-83b8-47d1-bdc4-81b1636e180e\",\"root_ids\":[\"1132\"],\"roots\":{\"1132\":\"1a237309-32a5-4fc8-bcb1-e33141766177\"}}];\n    root.Bokeh.embed.embed_items_notebook(docs_json, render_items);\n  }\n  if (root.Bokeh !== undefined && root.Bokeh.Panel !== undefined) {\n    embed_document(root);\n  } else {\n    var attempts = 0;\n    var timer = setInterval(function(root) {\n      if (root.Bokeh !== undefined && root.Bokeh.Panel !== undefined) {\n        clearInterval(timer);\n        embed_document(root);\n      } else if (document.readyState == \"complete\") {\n        attempts++;\n        if (attempts > 100) {\n          clearInterval(timer);\n          console.log(\"Bokeh: ERROR: Unable to run BokehJS code because BokehJS library is missing\");\n        }\n      }\n    }, 10, root)\n  }\n})(window);</script>",
      "application/vnd.holoviews_exec.v0+json": "",
      "text/plain": [
       ":NdOverlay   [Variable]\n",
       "   :Curve   [Customers]   (value)"
      ]
     },
     "metadata": {
      "application/vnd.holoviews_exec.v0+json": {
       "id": "1132"
      }
     },
     "execution_count": 11
    }
   ],
   "source": [
    "total_data.hvplot(kind='line', figsize=(20, 10))"
   ]
  },
  {
   "cell_type": "code",
   "execution_count": null,
   "metadata": {},
   "outputs": [],
   "source": []
  }
 ],
 "metadata": {
  "kernelspec": {
   "name": "pyvizenv",
   "display_name": "pyvizenv"
  },
  "language_info": {
   "codemirror_mode": {
    "name": "ipython",
    "version": 3
   },
   "file_extension": ".py",
   "mimetype": "text/x-python",
   "name": "python",
   "nbconvert_exporter": "python",
   "pygments_lexer": "ipython3",
   "version": "3.8.3-final"
  }
 },
 "nbformat": 4,
 "nbformat_minor": 4
}