{
 "cells": [
  {
   "cell_type": "markdown",
   "metadata": {},
   "source": [
    "# Initialize"
   ]
  },
  {
   "cell_type": "code",
   "execution_count": 4,
   "metadata": {},
   "outputs": [],
   "source": [
    "# Options\n",
    "\n",
    "## Debugging level\n",
    "debug_level = 0\n"
   ]
  },
  {
   "cell_type": "code",
   "execution_count": 5,
   "metadata": {},
   "outputs": [
    {
     "ename": "NameError",
     "evalue": "name 'init_processing' is not defined",
     "output_type": "error",
     "traceback": [
      "\u001b[1;31m---------------------------------------------------------------------------\u001b[0m",
      "\u001b[1;31mNameError\u001b[0m                                 Traceback (most recent call last)",
      "\u001b[1;32m<ipython-input-5-8b082e7ae932>\u001b[0m in \u001b[0;36m<module>\u001b[1;34m\u001b[0m\n\u001b[0;32m      1\u001b[0m \u001b[1;31m# Initialize framework\u001b[0m\u001b[1;33m\u001b[0m\u001b[1;33m\u001b[0m\u001b[1;33m\u001b[0m\u001b[0m\n\u001b[1;32m----> 2\u001b[1;33m \u001b[0mconstants\u001b[0m\u001b[1;33m,\u001b[0m \u001b[0mtools\u001b[0m \u001b[1;33m=\u001b[0m \u001b[0minit_processing\u001b[0m\u001b[1;33m(\u001b[0m\u001b[0mdebug_level\u001b[0m\u001b[1;33m)\u001b[0m\u001b[1;33m\u001b[0m\u001b[1;33m\u001b[0m\u001b[0m\n\u001b[0m\u001b[0;32m      3\u001b[0m \u001b[0mpn\u001b[0m\u001b[1;33m.\u001b[0m\u001b[0mextension\u001b[0m\u001b[1;33m(\u001b[0m\u001b[1;34m\"plotly\"\u001b[0m\u001b[1;33m)\u001b[0m\u001b[1;33m\u001b[0m\u001b[1;33m\u001b[0m\u001b[0m\n\u001b[0;32m      4\u001b[0m \u001b[0mhv\u001b[0m\u001b[1;33m.\u001b[0m\u001b[0mextension\u001b[0m\u001b[1;33m(\u001b[0m\u001b[1;34m'bokeh'\u001b[0m\u001b[1;33m,\u001b[0m \u001b[1;34m'matplotlib'\u001b[0m\u001b[1;33m)\u001b[0m\u001b[1;33m\u001b[0m\u001b[1;33m\u001b[0m\u001b[0m\n\u001b[0;32m      5\u001b[0m \u001b[0mget_ipython\u001b[0m\u001b[1;33m(\u001b[0m\u001b[1;33m)\u001b[0m\u001b[1;33m.\u001b[0m\u001b[0mrun_line_magic\u001b[0m\u001b[1;33m(\u001b[0m\u001b[1;34m'matplotlib'\u001b[0m\u001b[1;33m,\u001b[0m \u001b[1;34m'inline'\u001b[0m\u001b[1;33m)\u001b[0m\u001b[1;33m\u001b[0m\u001b[1;33m\u001b[0m\u001b[0m\n",
      "\u001b[1;31mNameError\u001b[0m: name 'init_processing' is not defined"
     ]
    }
   ],
   "source": [
    "# Initialize framework\n",
    "constants, tools = init_processing(debug_level)\n",
    "pn.extension(\"plotly\")\n",
    "hv.extension('bokeh', 'matplotlib')\n",
    "%matplotlib inline\n"
   ]
  },
  {
   "cell_type": "code",
   "execution_count": 3,
   "metadata": {},
   "outputs": [],
   "source": [
    "# Import all preprocessed data\n",
    "invoice_data_by_customer            = pd.read_pickle(constants.PREPROCESSED_INVOICE_CUSTOMER_FILE_PATH)\n",
    "# invoice_data_by_service_start       = pd.read_pickle(constants.PREPROCESSED_INVOICE_SERVICEDATE_FILE_PATH)\n",
    "invoice_data_by_invoice_date        = pd.read_pickle(constants.PREPROCESSED_INVOICE_INVOICEDATE_FILE_PATH)\n",
    "forecast                            = pd.read_pickle(constants.PREPROCESSED_FORECAST_CLEANED_FILE_PATH)\n",
    "revenue2020A                        = pd.read_pickle(constants.PREPROCESSED_REVENUE2020A_CLEANED_FILE_PATH)\n"
   ]
  },
  {
   "cell_type": "code",
   "execution_count": 6,
   "metadata": {},
   "outputs": [],
   "source": [
    "# Functions\n",
    "\n",
    "import pandas as pd\n",
    "import plotly as px\n",
    "import hvplot.pandas\n",
    "import matplotlib.pyplot as plt\n",
    "import panel as pn\n",
    "import plotly.express as px\n",
    "\n",
    "def generate_plot__px_bar(\n",
    "    data, x, y, color,                  # Data\n",
    "    title, xlabel=None, ylabel=None,    # Labels\n",
    "    barmode=None, width=None, height=None, rot=None    # Display options\n",
    "    ):\n",
    "\n",
    "    # Defaults\n",
    "    if barmode is None:\n",
    "        barmode=\"stack\"\n",
    "\n",
    "    # Build plot\n",
    "    plt_ = px.bar(\n",
    "        data, x=x, y=y, color=color,\n",
    "        title=title,\n",
    "        barmode=barmode\n",
    "        )\n",
    "    \n",
    "    # Optional parameters\n",
    "    if xlabel is not None:\n",
    "        plt_.update_xaxes(title_text=xlabel)\n",
    "    if ylabel is not None:\n",
    "        plt_.update_yaxes(title_text=ylabel)\n",
    "\n",
    "    if width is not None:\n",
    "        plt_.update_layout(width=width)\n",
    "    if height is not None:\n",
    "        plt_.update_layout(height=height)\n",
    "    if rot is not None:\n",
    "        plt_.update_xaxes(tickangle=rot)\n",
    "\n",
    "    # plt_.update_layout(\n",
    "    #     margin=dict(l=20, r=20, t=20, b=20),\n",
    "    #     paper_bgcolor=\"LightSteelBlue\",\n",
    "    # )\n",
    "\n",
    "    return plt_\n",
    "\n",
    "def generate_plot__hvplot_bar(\n",
    "    data,                  # Data\n",
    "    title, xlabel, ylabel,    # Labels\n",
    "    stacked=False, rot=0, width=None, height=None, yformatter=\"%f\"    # Display options\n",
    "    ):\n",
    "\n",
    "    # Defaults\n",
    "\n",
    "\n",
    "    # Build plot\n",
    "    if (width is not None) and (height is not None):\n",
    "        plt_ = data.hvplot.bar(\n",
    "            title=title, xlabel=xlabel, ylabel=ylabel,\n",
    "            stacked=stacked, width=width, height=height, rot=rot\n",
    "            ).opts(yformatter=yformatter)\n",
    "    else:\n",
    "        plt_ = data.hvplot.bar(\n",
    "            title=title, xlabel=xlabel, ylabel=ylabel,\n",
    "            stacked=stacked, rot=rot\n",
    "            ).opts(yformatter=yformatter)\n",
    "\n",
    "    return plt_\n",
    "    \n",
    "def generate_plot__hvplot_line(\n",
    "    data,                  # Data\n",
    "    title, xlabel, ylabel,    # Labels\n",
    "    rot=0, width=None, height=None, yformatter=\"%f\"    # Display options\n",
    "    ):\n",
    "\n",
    "\n",
    "    # Build plot\n",
    "    if (width is not None) and (height is not None):\n",
    "        plt_ = data.hvplot.line(\n",
    "            title=title, xlabel=xlabel, ylabel=ylabel,\n",
    "            width=width, height=height, rot=rot\n",
    "            ).opts(yformatter=yformatter)\n",
    "    else:\n",
    "        plt_ = data.hvplot.line(\n",
    "            title=title, xlabel=xlabel, ylabel=ylabel,\n",
    "            rot=rot\n",
    "            ).opts(yformatter=yformatter)\n",
    "\n",
    "    return plt_\n"
   ]
  },
  {
   "cell_type": "code",
   "execution_count": 7,
   "metadata": {},
   "outputs": [
    {
     "ename": "NameError",
     "evalue": "name 'atlas' is not defined",
     "output_type": "error",
     "traceback": [
      "\u001b[1;31m---------------------------------------------------------------------------\u001b[0m",
      "\u001b[1;31mNameError\u001b[0m                                 Traceback (most recent call last)",
      "\u001b[1;32m<ipython-input-7-098c0b904264>\u001b[0m in \u001b[0;36m<module>\u001b[1;34m\u001b[0m\n\u001b[1;32m----> 1\u001b[1;33m \u001b[0minvoice_data_by_service_start\u001b[0m \u001b[1;33m=\u001b[0m \u001b[0matlas\u001b[0m\u001b[1;33m.\u001b[0m\u001b[0mcopy\u001b[0m\u001b[1;33m(\u001b[0m\u001b[1;33m)\u001b[0m\u001b[1;33m.\u001b[0m\u001b[0mreset_index\u001b[0m\u001b[1;33m(\u001b[0m\u001b[1;33m)\u001b[0m\u001b[1;33m.\u001b[0m\u001b[0mset_index\u001b[0m\u001b[1;33m(\u001b[0m\u001b[1;34m\"ServiceStart\"\u001b[0m\u001b[1;33m)\u001b[0m\u001b[1;33m.\u001b[0m\u001b[0msort_index\u001b[0m\u001b[1;33m(\u001b[0m\u001b[0mascending\u001b[0m\u001b[1;33m=\u001b[0m\u001b[1;32mTrue\u001b[0m\u001b[1;33m)\u001b[0m\u001b[1;33m\u001b[0m\u001b[1;33m\u001b[0m\u001b[0m\n\u001b[0m\u001b[0;32m      2\u001b[0m \u001b[1;33m\u001b[0m\u001b[0m\n\u001b[0;32m      3\u001b[0m \u001b[1;33m\u001b[0m\u001b[0m\n\u001b[0;32m      4\u001b[0m \u001b[1;31m# Subscription quantity per subscription type\u001b[0m\u001b[1;33m\u001b[0m\u001b[1;33m\u001b[0m\u001b[1;33m\u001b[0m\u001b[0m\n\u001b[0;32m      5\u001b[0m \u001b[0matlas_grouped__year_subscription__mean\u001b[0m  \u001b[1;33m=\u001b[0m \u001b[0minvoice_data_by_service_start\u001b[0m\u001b[1;33m.\u001b[0m\u001b[0mgroupby\u001b[0m\u001b[1;33m(\u001b[0m\u001b[1;33m[\u001b[0m\u001b[1;34m\"InvoiceDate_Year\"\u001b[0m\u001b[1;33m,\u001b[0m \u001b[1;34m\"Subscription\"\u001b[0m\u001b[1;33m]\u001b[0m\u001b[1;33m)\u001b[0m\u001b[1;33m.\u001b[0m\u001b[0msum\u001b[0m\u001b[1;33m(\u001b[0m\u001b[1;33m)\u001b[0m\u001b[1;33m\u001b[0m\u001b[1;33m\u001b[0m\u001b[0m\n",
      "\u001b[1;31mNameError\u001b[0m: name 'atlas' is not defined"
     ]
    }
   ],
   "source": [
    "invoice_data_by_service_start = atlas.copy().reset_index().set_index(\"ServiceStart\").sort_index(ascending=True)\n",
    "\n",
    "\n",
    "# Subscription quantity per subscription type\n",
    "atlas_grouped__year_subscription__mean  = invoice_data_by_service_start.groupby([\"InvoiceDate_Year\", \"Subscription\"]).sum()\n",
    "atlas_grouped__year_subscription__sum   = invoice_data_by_service_start.groupby([\"InvoiceDate_Year\", \"Subscription\"]).sum()\n",
    "atlas_grouped__year_subscription__count = invoice_data_by_service_start.groupby([\"InvoiceDate_Year\", \"Subscription\"]).count()\n",
    "\n",
    "plt__atlas_grouped__year_subscription__mean = generate_plot__px_bar(\n",
    "    data=atlas_grouped__year_subscription__mean.reset_index(),\n",
    "    x=\"InvoiceDate_Year\",\n",
    "    y=\"InvoiceAmount\",\n",
    "    color=\"Subscription\",\n",
    "    title=\"Avg. Invoice per Subscription: 2015 - 2020\",\n",
    "    xlabel=\"Year\",\n",
    "    ylabel=\"Invoice Amount ($)\",\n",
    "    barmode=\"group\", width=800, height=400\n",
    "    )\n",
    "\n",
    "plt__atlas_grouped__year_subscription__sum = generate_plot__px_bar(\n",
    "    data=atlas_grouped__year_subscription__sum.reset_index(),\n",
    "    x=\"InvoiceDate_Year\",\n",
    "    y=\"InvoiceAmount\",\n",
    "    color=\"Subscription\",\n",
    "    title=\"Total Invoice Amount per Subscription: 2015 - 2020\",\n",
    "    xlabel=\"Year\",\n",
    "    ylabel=\"Invoice Amount ($)\",\n",
    "    barmode=\"group\", width=800, height=400\n",
    "    )\n",
    "\n",
    "plt__atlas_grouped__year_subscription__count = generate_plot__px_bar(\n",
    "    data=atlas_grouped__year_subscription__count.reset_index(),\n",
    "    x=\"InvoiceDate_Year\",\n",
    "    y=\"InvoiceAmount\",\n",
    "    color=\"Subscription\",\n",
    "    title=\"Nbr. Invoices per Subscription: 2015 - 2020\",\n",
    "    xlabel=\"Year\",\n",
    "    ylabel=\"Nbr. of Invoices\",\n",
    "    barmode=\"group\", width=800, height=400\n",
    "    )\n",
    "\n",
    "plt__atlas_grouped__year_subscription__nbrusers = generate_plot__px_bar(\n",
    "    data=atlas_grouped__year_subscription__sum.reset_index(),\n",
    "    x=\"InvoiceDate_Year\",\n",
    "    y=\"NumberofUsers\",\n",
    "    color=\"Subscription\",\n",
    "    title=\"Nbr. of Users per Subscription: 2015 - 2020\",\n",
    "    xlabel=\"Year\",\n",
    "    ylabel=\"Nbr. of Users\",\n",
    "    barmode=\"group\", width=800, height=400\n",
    "    )\n",
    "\n",
    "pn.Column(\n",
    "    plt__atlas_grouped__year_subscription__mean.show(),\n",
    "    plt__atlas_grouped__year_subscription__sum.show(),\n",
    "    plt__atlas_grouped__year_subscription__count.show(),\n",
    "    plt__atlas_grouped__year_subscription__nbrusers.show()\n",
    ")\n",
    "\n",
    "\n",
    "\n",
    "# plt__atlas_grouped__year_subscription__count.show()\n",
    "\n",
    "# .plot.pie(x=\"Customers\", y=\"Invoice Amount\", figsize=(8, 8))\n",
    "\n",
    "\n",
    "# TODO Subscription count per subscription type\n",
    "\n",
    "# TODO hvplot forall\n",
    "\n",
    "# TODO use new data (removes 18months 5months)\n"
   ]
  },
  {
   "cell_type": "code",
   "execution_count": null,
   "metadata": {},
   "outputs": [],
   "source": []
  },
  {
   "cell_type": "code",
   "execution_count": null,
   "metadata": {},
   "outputs": [],
   "source": []
  },
  {
   "cell_type": "code",
   "execution_count": null,
   "metadata": {},
   "outputs": [],
   "source": []
  },
  {
   "cell_type": "code",
   "execution_count": null,
   "metadata": {},
   "outputs": [],
   "source": []
  },
  {
   "cell_type": "code",
   "execution_count": null,
   "metadata": {},
   "outputs": [],
   "source": []
  },
  {
   "cell_type": "code",
   "execution_count": null,
   "metadata": {},
   "outputs": [],
   "source": []
  },
  {
   "cell_type": "code",
   "execution_count": null,
   "metadata": {},
   "outputs": [],
   "source": []
  },
  {
   "cell_type": "code",
   "execution_count": null,
   "metadata": {},
   "outputs": [],
   "source": []
  },
  {
   "cell_type": "code",
   "execution_count": null,
   "metadata": {},
   "outputs": [],
   "source": []
  },
  {
   "cell_type": "code",
   "execution_count": null,
   "metadata": {},
   "outputs": [],
   "source": []
  },
  {
   "cell_type": "code",
   "execution_count": null,
   "metadata": {},
   "outputs": [],
   "source": []
  },
  {
   "cell_type": "code",
   "execution_count": null,
   "metadata": {},
   "outputs": [],
   "source": []
  },
  {
   "cell_type": "code",
   "execution_count": null,
   "metadata": {},
   "outputs": [],
   "source": []
  },
  {
   "cell_type": "code",
   "execution_count": null,
   "metadata": {},
   "outputs": [],
   "source": []
  },
  {
   "cell_type": "code",
   "execution_count": null,
   "metadata": {},
   "outputs": [],
   "source": []
  },
  {
   "cell_type": "code",
   "execution_count": null,
   "metadata": {},
   "outputs": [],
   "source": []
  }
 ],
 "metadata": {
  "kernelspec": {
   "display_name": "pyvizenv",
   "language": "python",
   "name": "pyvizenv"
  },
  "language_info": {
   "codemirror_mode": {
    "name": "ipython",
    "version": 3
   },
   "file_extension": ".py",
   "mimetype": "text/x-python",
   "name": "python",
   "nbconvert_exporter": "python",
   "pygments_lexer": "ipython3",
   "version": "3.8.2"
  }
 },
 "nbformat": 4,
 "nbformat_minor": 4
}
