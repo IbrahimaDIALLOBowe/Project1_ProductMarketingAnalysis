{
 "cells": [
  {
   "cell_type": "code",
   "execution_count": 3,
   "metadata": {},
   "outputs": [],
   "source": [
    "# Import all preprocessed data\n",
    "atlas           = pd.read_pickle(constants.PREPROCESSED_ATLAS_FILE_PATH)\n",
    "forecast        = pd.read_pickle(constants.PREPROCESSED_FORECAST_DATA_FILE_PATH)\n",
    "revenue2020     = pd.read_pickle(constants.PREPROCESSED_REVENUE2020_FILE_PATH)\n",
    "revenue2020A    = pd.read_pickle(constants.PREPROCESSED_REVENUE2020A_FILE_PATH)\n"
   ]
  },
  {
   "cell_type": "code",
   "execution_count": 7,
   "metadata": {},
   "outputs": [
    {
     "output_type": "execute_result",
     "data": {
      "text/plain": [
       "'..\\\\Resources\\\\02_Anonymized\\\\ATLAS.csv'"
      ]
     },
     "metadata": {},
     "execution_count": 7
    }
   ],
   "source": [
    "atlas.head()\n",
    "debug_level\n",
    "constants.ANON_ATLAS_FILE_PATH"
   ]
  },
  {
   "cell_type": "code",
   "execution_count": null,
   "metadata": {},
   "outputs": [],
   "source": []
  }
 ],
 "metadata": {
  "kernelspec": {
   "display_name": "pyvizenv",
   "language": "python",
   "name": "pyvizenv"
  },
  "language_info": {
   "codemirror_mode": {
    "name": "ipython",
    "version": 3
   },
   "file_extension": ".py",
   "mimetype": "text/x-python",
   "name": "python",
   "nbconvert_exporter": "python",
   "pygments_lexer": "ipython3",
   "version": "3.8.3-final"
  }
 },
 "nbformat": 4,
 "nbformat_minor": 4
}