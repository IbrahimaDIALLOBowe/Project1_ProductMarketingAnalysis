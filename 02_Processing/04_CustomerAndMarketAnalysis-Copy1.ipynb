{
 "cells": [
  {
   "cell_type": "code",
   "execution_count": 78,
   "metadata": {},
   "outputs": [],
   "source": [
    "# System imports\n",
    "import os\n",
    "import pandas as pd\n",
    "import matplotlib.pyplot as plt\n",
    "import plotly.express as px\n",
    "import hvplot.pandas\n",
    "import panel as pn\n",
    "from pathlib import Path\n",
    "from dotenv import load_dotenv\n",
    "from panel.interact import interact\n",
    "from panel import widgets\n",
    "from string import digits\n",
    "import csv\n",
    "import json\n",
    "import numpy as np\n",
    "\n",
    "pn.extension()\n",
    "\n",
    "%matplotlib inline"
   ]
  },
  {
   "cell_type": "code",
   "execution_count": 79,
   "metadata": {},
   "outputs": [],
   "source": [
    "# Local imports\n",
    "import sys\n",
    "sys.path.append(\"../lib2\")\n",
    "\n",
    "\n",
    "from Constants import Constants\n",
    "from ProcessingTools import DateProcessingTools\n",
    "from PreprocessingTools import CustomerNameCleaningFunctions\n",
    "from PreprocessingTools import DateCleaningFunctions\n",
    "from PreprocessingTools import SpecializedDateCleaningFunctions\n",
    "from PreprocessingTools import DurationParsing\n"
   ]
  },
  {
   "cell_type": "code",
   "execution_count": 80,
   "metadata": {},
   "outputs": [],
   "source": [
    "# Build tools\n",
    "debug_level = 0\n",
    "constants = Constants()\n",
    "tool_customer = CustomerNameCleaningFunctions(debug_level)\n",
    "tool_date = DateCleaningFunctions(debug_level)\n",
    "tool_special_date = SpecializedDateCleaningFunctions(debug_level)\n",
    "tool_duration_parsing = DurationParsing(debug_level)"
   ]
  },
  {
   "cell_type": "code",
   "execution_count": 82,
   "metadata": {},
   "outputs": [],
   "source": [
    "# Import all preprocessed data\n",
    "atlas           = pd.read_pickle(constants.PREPROCESSED_ATLAS_FILE_PATH)\n",
    "forecast        = pd.read_pickle(constants.PREPROCESSED_FORECAST_DATA_FILE_PATH)\n",
    "revenue2020     = pd.read_pickle(constants.PREPROCESSED_REVENUE2020_FILE_PATH)\n",
    "revenue2020A    = pd.read_pickle(constants.PREPROCESSED_REVENUE2020A_FILE_PATH)\n",
    "atlas2          = pd.read_pickle(constants.PREPROCESSED_ATLAS_2_FILE_PATH)\n"
   ]
  },
  {
   "cell_type": "code",
   "execution_count": 92,
   "metadata": {},
   "outputs": [
    {
     "data": {
      "text/html": [
       "<div>\n",
       "<style scoped>\n",
       "    .dataframe tbody tr th:only-of-type {\n",
       "        vertical-align: middle;\n",
       "    }\n",
       "\n",
       "    .dataframe tbody tr th {\n",
       "        vertical-align: top;\n",
       "    }\n",
       "\n",
       "    .dataframe thead th {\n",
       "        text-align: right;\n",
       "    }\n",
       "</style>\n",
       "<table border=\"1\" class=\"dataframe\">\n",
       "  <thead>\n",
       "    <tr style=\"text-align: right;\">\n",
       "      <th></th>\n",
       "      <th></th>\n",
       "      <th>Number of Users</th>\n",
       "      <th>Invoice Amount</th>\n",
       "      <th>Lat</th>\n",
       "      <th>Long</th>\n",
       "    </tr>\n",
       "    <tr>\n",
       "      <th>Subscription</th>\n",
       "      <th>Customers</th>\n",
       "      <th></th>\n",
       "      <th></th>\n",
       "      <th></th>\n",
       "      <th></th>\n",
       "    </tr>\n",
       "  </thead>\n",
       "  <tbody>\n",
       "    <tr>\n",
       "      <th rowspan=\"5\" valign=\"top\">1 Year</th>\n",
       "      <th>University 1</th>\n",
       "      <td>NaN</td>\n",
       "      <td>69500.000000</td>\n",
       "      <td>30.460082</td>\n",
       "      <td>-91.188566</td>\n",
       "    </tr>\n",
       "    <tr>\n",
       "      <th>University 10</th>\n",
       "      <td>250.0</td>\n",
       "      <td>2166.670000</td>\n",
       "      <td>39.732210</td>\n",
       "      <td>-90.246947</td>\n",
       "    </tr>\n",
       "    <tr>\n",
       "      <th>University 101</th>\n",
       "      <td>NaN</td>\n",
       "      <td>750.000000</td>\n",
       "      <td>48.630369</td>\n",
       "      <td>-97.471056</td>\n",
       "    </tr>\n",
       "    <tr>\n",
       "      <th>University 102</th>\n",
       "      <td>350.0</td>\n",
       "      <td>4833.333333</td>\n",
       "      <td>NaN</td>\n",
       "      <td>NaN</td>\n",
       "    </tr>\n",
       "    <tr>\n",
       "      <th>University 103</th>\n",
       "      <td>100.0</td>\n",
       "      <td>750.000000</td>\n",
       "      <td>45.408173</td>\n",
       "      <td>-122.922323</td>\n",
       "    </tr>\n",
       "  </tbody>\n",
       "</table>\n",
       "</div>"
      ],
      "text/plain": [
       "                             Number of Users  Invoice Amount        Lat  \\\n",
       "Subscription Customers                                                    \n",
       "1 Year       University 1                NaN    69500.000000  30.460082   \n",
       "             University 10             250.0     2166.670000  39.732210   \n",
       "             University 101              NaN      750.000000  48.630369   \n",
       "             University 102            350.0     4833.333333        NaN   \n",
       "             University 103            100.0      750.000000  45.408173   \n",
       "\n",
       "                                   Long  \n",
       "Subscription Customers                   \n",
       "1 Year       University 1    -91.188566  \n",
       "             University 10   -90.246947  \n",
       "             University 101  -97.471056  \n",
       "             University 102         NaN  \n",
       "             University 103 -122.922323  "
      ]
     },
     "execution_count": 92,
     "metadata": {},
     "output_type": "execute_result"
    }
   ],
   "source": [
    "# Group by year and . and then create a new dataframe of the mean values\n",
    "atlas2.head()\n",
    "avg_price_df = atlas2.reset_index().groupby(by=['Subscription', 'Customers']).mean()\n",
    "avg_price_df.head()"
   ]
  },
  {
   "cell_type": "code",
   "execution_count": 93,
   "metadata": {},
   "outputs": [
    {
     "data": {
      "text/plain": [
       "Number of Users    float64\n",
       "Invoice Amount     float64\n",
       "Lat                float64\n",
       "Long               float64\n",
       "dtype: object"
      ]
     },
     "execution_count": 93,
     "metadata": {},
     "output_type": "execute_result"
    }
   ],
   "source": [
    "avg_price_df.dtypes"
   ]
  },
  {
   "cell_type": "code",
   "execution_count": 94,
   "metadata": {},
   "outputs": [
    {
     "data": {},
     "metadata": {},
     "output_type": "display_data"
    },
    {
     "data": {
      "application/vnd.holoviews_exec.v0+json": "",
      "text/html": [
       "<div id='1743'>\n",
       "\n",
       "\n",
       "\n",
       "\n",
       "\n",
       "  <div class=\"bk-root\" id=\"61184580-73e1-4985-98e8-6f17709e1788\" data-root-id=\"1743\"></div>\n",
       "</div>\n",
       "<script type=\"application/javascript\">(function(root) {\n",
       "  function embed_document(root) {\n",
       "  var docs_json = {\"9a3a4ef2-9ee8-44df-8ad9-b1703d064a4e\":{\"roots\":{\"references\":[{\"attributes\":{\"data\":{\"Customers\":[\"University 1\",\"University 10\",\"University 101\",\"University 102\",\"University 103\",\"University 105\",\"University 106\",\"University 108\",\"University 11\",\"University 110\",\"University 111\",\"University 112\",\"University 115\",\"University 117\",\"University 119\",\"University 12\",\"University 120\",\"University 121\",\"University 122\",\"University 123\",\"University 124\",\"University 125\",\"University 126\",\"University 127\",\"University 128\",\"University 13\",\"University 130\",\"University 131\",\"University 132\",\"University 133\",\"University 134\",\"University 135\",\"University 137\",\"University 138\",\"University 139\",\"University 14\",\"University 140\",\"University 141\",\"University 144\",\"University 148\",\"University 15\",\"University 151\",\"University 152\",\"University 153\",\"University 154\",\"University 155\",\"University 156\",\"University 158\",\"University 159\",\"University 16\",\"University 160\",\"University 161\",\"University 162\",\"University 163\",\"University 164\",\"University 165\",\"University 166\",\"University 167\",\"University 168\",\"University 169\",\"University 171\",\"University 173\",\"University 174\",\"University 176\",\"University 177\",\"University 178\",\"University 179\",\"University 18\",\"University 181\",\"University 182\",\"University 185\",\"University 189\",\"University 19\",\"University 192\",\"University 195\",\"University 199\",\"University 2\",\"University 200\",\"University 202\",\"University 204\",\"University 206\",\"University 209\",\"University 21\",\"University 210\",\"University 211\",\"University 212\",\"University 213\",\"University 216\",\"University 218\",\"University 22\",\"University 220\",\"University 224\",\"University 225\",\"University 226\",\"University 227\",\"University 23\",\"University 230\",\"University 231\",\"University 232\",\"University 234\",\"University 235\",\"University 236\",\"University 237\",\"University 239\",\"University 24\",\"University 240\",\"University 242\",\"University 243\",\"University 244\",\"University 247\",\"University 249\",\"University 250\",\"University 251\",\"University 252\",\"University 254\",\"University 255\",\"University 256\",\"University 259\",\"University 26\",\"University 260\",\"University 261\",\"University 262\",\"University 263\",\"University 264\",\"University 268\",\"University 269\",\"University 27\",\"University 270\",\"University 271\",\"University 272\",\"University 273\",\"University 275\",\"University 276\",\"University 278\",\"University 279\",\"University 281\",\"University 284\",\"University 285\",\"University 287\",\"University 288\",\"University 29\",\"University 290\",\"University 291\",\"University 292\",\"University 294\",\"University 296\",\"University 3\",\"University 30\",\"University 301\",\"University 302\",\"University 304\",\"University 305\",\"University 31\",\"University 311\",\"University 312\",\"University 313\",\"University 314\",\"University 315\",\"University 316\",\"University 317\",\"University 318\",\"University 32\",\"University 321\",\"University 322\",\"University 325\",\"University 327\",\"University 328\",\"University 33\",\"University 331\",\"University 332\",\"University 333\",\"University 335\",\"University 336\",\"University 338\",\"University 34\",\"University 340\",\"University 342\",\"University 343\",\"University 344\",\"University 345\",\"University 346\",\"University 347\",\"University 348\",\"University 349\",\"University 35\",\"University 351\",\"University 354\",\"University 355\",\"University 359\",\"University 36\",\"University 360\",\"University 365\",\"University 368\",\"University 37\",\"University 370\",\"University 372\",\"University 375\",\"University 376\",\"University 377\",\"University 378\",\"University 38\",\"University 380\",\"University 382\",\"University 383\",\"University 385\",\"University 386\",\"University 39\",\"University 390\",\"University 393\",\"University 394\",\"University 397\",\"University 4\",\"University 40\",\"University 400\",\"University 402\",\"University 404\",\"University 41\",\"University 410\",\"University 411\",\"University 412\",\"University 414\",\"University 418\",\"University 42\",\"University 420\",\"University 423\",\"University 424\",\"University 425\",\"University 43\",\"University 44\",\"University 45\",\"University 46\",\"University 49\",\"University 5\",\"University 51\",\"University 53\",\"University 54\",\"University 55\",\"University 56\",\"University 58\",\"University 59\",\"University 6\",\"University 60\",\"University 64\",\"University 67\",\"University 68\",\"University 69\",\"University 7\",\"University 70\",\"University 71\",\"University 72\",\"University 74\",\"University 78\",\"University 79\",\"University 8\",\"University 80\",\"University 81\",\"University 83\",\"University 84\",\"University 85\",\"University 86\",\"University 87\",\"University 89\",\"University 9\",\"University 90\",\"University 91\",\"University 92\",\"University 93\",\"University 94\",\"University 95\",\"University 96\",\"University 97\",\"University 98\",\"University 99\"],\"Invoice Amount\":{\"__ndarray__\":\"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\",\"dtype\":\"float64\",\"shape\":[273]},\"Invoice_Amount\":{\"__ndarray__\":\"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\",\"dtype\":\"float64\",\"shape\":[273]}},\"selected\":{\"id\":\"1778\"},\"selection_policy\":{\"id\":\"1801\"}},\"id\":\"1777\",\"type\":\"ColumnDataSource\"},{\"attributes\":{\"axis\":{\"id\":\"1757\"},\"grid_line_color\":null,\"ticker\":null},\"id\":\"1759\",\"type\":\"Grid\"},{\"attributes\":{\"source\":{\"id\":\"1777\"}},\"id\":\"1784\",\"type\":\"CDSView\"},{\"attributes\":{},\"id\":\"1755\",\"type\":\"LinearScale\"},{\"attributes\":{\"line_alpha\":0.2,\"line_color\":\"#1f77b3\",\"line_width\":2,\"x\":{\"field\":\"Customers\"},\"y\":{\"field\":\"Invoice Amount\"}},\"id\":\"1782\",\"type\":\"Line\"},{\"attributes\":{\"line_alpha\":0.1,\"line_color\":\"#1f77b3\",\"line_width\":2,\"x\":{\"field\":\"Customers\"},\"y\":{\"field\":\"Invoice Amount\"}},\"id\":\"1781\",\"type\":\"Line\"},{\"attributes\":{},\"id\":\"1758\",\"type\":\"CategoricalTicker\"},{\"attributes\":{\"margin\":[5,5,5,5],\"name\":\"HSpacer04717\",\"sizing_mode\":\"stretch_width\"},\"id\":\"1744\",\"type\":\"Spacer\"},{\"attributes\":{\"axis_label\":\"Customers\",\"bounds\":\"auto\",\"formatter\":{\"id\":\"1787\"},\"major_label_orientation\":\"horizontal\",\"ticker\":{\"id\":\"1758\"}},\"id\":\"1757\",\"type\":\"CategoricalAxis\"},{\"attributes\":{\"end\":76437.0,\"reset_end\":76437.0,\"reset_start\":-6807.0,\"start\":-6807.0,\"tags\":[[[\"Invoice Amount\",\"Invoice Amount\",null]]]},\"id\":\"1746\",\"type\":\"Range1d\"},{\"attributes\":{\"line_color\":\"#1f77b3\",\"line_width\":2,\"x\":{\"field\":\"Customers\"},\"y\":{\"field\":\"Invoice Amount\"}},\"id\":\"1780\",\"type\":\"Line\"},{\"attributes\":{\"axis\":{\"id\":\"1760\"},\"dimension\":1,\"grid_line_color\":null,\"ticker\":null},\"id\":\"1763\",\"type\":\"Grid\"},{\"attributes\":{\"client_comm_id\":\"bd9100a06f32472f9fe4861ae0acd4b4\",\"comm_id\":\"fc45ecf7a9334570b0ae420c76344b99\",\"plot_id\":\"1743\"},\"id\":\"1830\",\"type\":\"panel.models.comm_manager.CommManager\"},{\"attributes\":{\"bottom_units\":\"screen\",\"fill_alpha\":0.5,\"fill_color\":\"lightgrey\",\"left_units\":\"screen\",\"level\":\"overlay\",\"line_alpha\":1.0,\"line_color\":\"black\",\"line_dash\":[4,4],\"line_width\":2,\"render_mode\":\"css\",\"right_units\":\"screen\",\"top_units\":\"screen\"},\"id\":\"1769\",\"type\":\"BoxAnnotation\"},{\"attributes\":{\"data_source\":{\"id\":\"1777\"},\"glyph\":{\"id\":\"1780\"},\"hover_glyph\":null,\"muted_glyph\":{\"id\":\"1782\"},\"nonselection_glyph\":{\"id\":\"1781\"},\"selection_glyph\":null,\"view\":{\"id\":\"1784\"}},\"id\":\"1783\",\"type\":\"GlyphRenderer\"},{\"attributes\":{\"margin\":[5,5,5,5],\"name\":\"HSpacer04718\",\"sizing_mode\":\"stretch_width\"},\"id\":\"1803\",\"type\":\"Spacer\"},{\"attributes\":{},\"id\":\"1778\",\"type\":\"Selection\"},{\"attributes\":{},\"id\":\"1801\",\"type\":\"UnionRenderers\"},{\"attributes\":{},\"id\":\"1787\",\"type\":\"CategoricalTickFormatter\"},{\"attributes\":{},\"id\":\"1768\",\"type\":\"ResetTool\"},{\"attributes\":{\"factors\":[\"University 1\",\"University 10\",\"University 101\",\"University 102\",\"University 103\",\"University 105\",\"University 106\",\"University 108\",\"University 11\",\"University 110\",\"University 111\",\"University 112\",\"University 115\",\"University 117\",\"University 119\",\"University 12\",\"University 120\",\"University 121\",\"University 122\",\"University 123\",\"University 124\",\"University 125\",\"University 126\",\"University 127\",\"University 128\",\"University 13\",\"University 130\",\"University 131\",\"University 132\",\"University 133\",\"University 134\",\"University 135\",\"University 137\",\"University 138\",\"University 139\",\"University 14\",\"University 140\",\"University 141\",\"University 144\",\"University 148\",\"University 15\",\"University 151\",\"University 152\",\"University 153\",\"University 154\",\"University 155\",\"University 156\",\"University 158\",\"University 159\",\"University 16\",\"University 160\",\"University 161\",\"University 162\",\"University 163\",\"University 164\",\"University 165\",\"University 166\",\"University 167\",\"University 168\",\"University 169\",\"University 171\",\"University 173\",\"University 174\",\"University 176\",\"University 177\",\"University 178\",\"University 179\",\"University 18\",\"University 181\",\"University 182\",\"University 185\",\"University 189\",\"University 19\",\"University 192\",\"University 195\",\"University 199\",\"University 2\",\"University 200\",\"University 202\",\"University 204\",\"University 206\",\"University 209\",\"University 21\",\"University 210\",\"University 211\",\"University 212\",\"University 213\",\"University 216\",\"University 218\",\"University 22\",\"University 220\",\"University 224\",\"University 225\",\"University 226\",\"University 227\",\"University 23\",\"University 230\",\"University 231\",\"University 232\",\"University 234\",\"University 235\",\"University 236\",\"University 237\",\"University 239\",\"University 24\",\"University 240\",\"University 242\",\"University 243\",\"University 244\",\"University 247\",\"University 249\",\"University 250\",\"University 251\",\"University 252\",\"University 254\",\"University 255\",\"University 256\",\"University 259\",\"University 26\",\"University 260\",\"University 261\",\"University 262\",\"University 263\",\"University 264\",\"University 268\",\"University 269\",\"University 27\",\"University 270\",\"University 271\",\"University 272\",\"University 273\",\"University 275\",\"University 276\",\"University 278\",\"University 279\",\"University 281\",\"University 284\",\"University 285\",\"University 287\",\"University 288\",\"University 29\",\"University 290\",\"University 291\",\"University 292\",\"University 294\",\"University 296\",\"University 3\",\"University 30\",\"University 301\",\"University 302\",\"University 304\",\"University 305\",\"University 31\",\"University 311\",\"University 312\",\"University 313\",\"University 314\",\"University 315\",\"University 316\",\"University 317\",\"University 318\",\"University 32\",\"University 321\",\"University 322\",\"University 325\",\"University 327\",\"University 328\",\"University 33\",\"University 331\",\"University 332\",\"University 333\",\"University 335\",\"University 336\",\"University 338\",\"University 34\",\"University 340\",\"University 342\",\"University 343\",\"University 344\",\"University 345\",\"University 346\",\"University 347\",\"University 348\",\"University 349\",\"University 35\",\"University 351\",\"University 354\",\"University 355\",\"University 359\",\"University 36\",\"University 360\",\"University 365\",\"University 368\",\"University 37\",\"University 370\",\"University 372\",\"University 375\",\"University 376\",\"University 377\",\"University 378\",\"University 38\",\"University 380\",\"University 382\",\"University 383\",\"University 385\",\"University 386\",\"University 39\",\"University 390\",\"University 393\",\"University 394\",\"University 397\",\"University 4\",\"University 40\",\"University 400\",\"University 402\",\"University 404\",\"University 41\",\"University 410\",\"University 411\",\"University 412\",\"University 414\",\"University 418\",\"University 42\",\"University 420\",\"University 423\",\"University 424\",\"University 425\",\"University 43\",\"University 44\",\"University 45\",\"University 46\",\"University 49\",\"University 5\",\"University 51\",\"University 53\",\"University 54\",\"University 55\",\"University 56\",\"University 58\",\"University 59\",\"University 6\",\"University 60\",\"University 64\",\"University 67\",\"University 68\",\"University 69\",\"University 7\",\"University 70\",\"University 71\",\"University 72\",\"University 74\",\"University 78\",\"University 79\",\"University 8\",\"University 80\",\"University 81\",\"University 83\",\"University 84\",\"University 85\",\"University 86\",\"University 87\",\"University 89\",\"University 9\",\"University 90\",\"University 91\",\"University 92\",\"University 93\",\"University 94\",\"University 95\",\"University 96\",\"University 97\",\"University 98\",\"University 99\"],\"tags\":[[[\"Customers\",\"Customers\",null]]]},\"id\":\"1745\",\"type\":\"FactorRange\"},{\"attributes\":{\"children\":[{\"id\":\"1744\"},{\"id\":\"1748\"},{\"id\":\"1803\"},{\"id\":\"1804\"}],\"margin\":[0,0,0,0],\"name\":\"Row04708\"},\"id\":\"1743\",\"type\":\"Row\"},{\"attributes\":{\"text\":\"Subscription: 1 Year\",\"text_color\":{\"value\":\"black\"},\"text_font_size\":{\"value\":\"12pt\"}},\"id\":\"1749\",\"type\":\"Title\"},{\"attributes\":{\"active_drag\":\"auto\",\"active_inspect\":\"auto\",\"active_multi\":null,\"active_scroll\":\"auto\",\"active_tap\":\"auto\",\"tools\":[{\"id\":\"1747\"},{\"id\":\"1764\"},{\"id\":\"1765\"},{\"id\":\"1766\"},{\"id\":\"1767\"},{\"id\":\"1768\"}]},\"id\":\"1770\",\"type\":\"Toolbar\"},{\"attributes\":{},\"id\":\"1766\",\"type\":\"WheelZoomTool\"},{\"attributes\":{\"callback\":null,\"renderers\":[{\"id\":\"1783\"}],\"tags\":[\"hv_created\"],\"tooltips\":[[\"Customers\",\"@{Customers}\"],[\"Invoice Amount\",\"@{Invoice_Amount}\"]]},\"id\":\"1747\",\"type\":\"HoverTool\"},{\"attributes\":{\"axis_label\":\"Invoice Amount\",\"bounds\":\"auto\",\"formatter\":{\"id\":\"1785\"},\"major_label_orientation\":\"horizontal\",\"ticker\":{\"id\":\"1761\"}},\"id\":\"1760\",\"type\":\"LinearAxis\"},{\"attributes\":{\"margin\":[5,5,5,5],\"name\":\"VSpacer04715\",\"sizing_mode\":\"stretch_height\"},\"id\":\"1808\",\"type\":\"Spacer\"},{\"attributes\":{\"margin\":[5,5,5,5],\"name\":\"VSpacer04714\",\"sizing_mode\":\"stretch_height\"},\"id\":\"1805\",\"type\":\"Spacer\"},{\"attributes\":{\"format\":\"%0f\"},\"id\":\"1785\",\"type\":\"PrintfTickFormatter\"},{\"attributes\":{},\"id\":\"1753\",\"type\":\"CategoricalScale\"},{\"attributes\":{\"children\":[{\"id\":\"1807\"}],\"css_classes\":[\"widget-box\"],\"margin\":[5,5,5,5],\"name\":\"WidgetBox04709\"},\"id\":\"1806\",\"type\":\"Column\"},{\"attributes\":{},\"id\":\"1765\",\"type\":\"PanTool\"},{\"attributes\":{\"overlay\":{\"id\":\"1769\"}},\"id\":\"1767\",\"type\":\"BoxZoomTool\"},{\"attributes\":{\"margin\":[20,20,20,20],\"min_width\":250,\"options\":[\"1 Year\",\"2 Years\",\"3 Months\",\"3 Years\",\"30 Days\",\"6 Months\"],\"title\":\"Subscription\",\"value\":\"1 Year\",\"width\":250},\"id\":\"1807\",\"type\":\"Select\"},{\"attributes\":{},\"id\":\"1764\",\"type\":\"SaveTool\"},{\"attributes\":{},\"id\":\"1761\",\"type\":\"BasicTicker\"},{\"attributes\":{\"children\":[{\"id\":\"1805\"},{\"id\":\"1806\"},{\"id\":\"1808\"}],\"margin\":[0,0,0,0],\"name\":\"Column04716\"},\"id\":\"1804\",\"type\":\"Column\"},{\"attributes\":{\"align\":null,\"below\":[{\"id\":\"1757\"}],\"center\":[{\"id\":\"1759\"},{\"id\":\"1763\"}],\"left\":[{\"id\":\"1760\"}],\"margin\":null,\"min_border_bottom\":10,\"min_border_left\":10,\"min_border_right\":10,\"min_border_top\":10,\"plot_height\":300,\"renderers\":[{\"id\":\"1783\"}],\"sizing_mode\":\"fixed\",\"title\":{\"id\":\"1749\"},\"toolbar\":{\"id\":\"1770\"},\"x_range\":{\"id\":\"1745\"},\"x_scale\":{\"id\":\"1753\"},\"y_range\":{\"id\":\"1746\"},\"y_scale\":{\"id\":\"1755\"}},\"id\":\"1748\",\"subtype\":\"Figure\",\"type\":\"Plot\"}],\"root_ids\":[\"1743\",\"1830\"]},\"title\":\"Bokeh Application\",\"version\":\"2.0.2\"}};\n",
       "  var render_items = [{\"docid\":\"9a3a4ef2-9ee8-44df-8ad9-b1703d064a4e\",\"root_ids\":[\"1743\"],\"roots\":{\"1743\":\"61184580-73e1-4985-98e8-6f17709e1788\"}}];\n",
       "  root.Bokeh.embed.embed_items_notebook(docs_json, render_items);\n",
       "  }\n",
       "if (root.Bokeh !== undefined) {\n",
       "    embed_document(root);\n",
       "  } else {\n",
       "    var attempts = 0;\n",
       "    var timer = setInterval(function(root) {\n",
       "      if (root.Bokeh !== undefined) {\n",
       "        clearInterval(timer);\n",
       "        embed_document(root);\n",
       "      } else if (document.readyState == \"complete\") {\n",
       "        attempts++;\n",
       "        if (attempts > 100) {\n",
       "          clearInterval(timer);\n",
       "          console.log(\"Bokeh: ERROR: Unable to run BokehJS code because BokehJS library is missing\");\n",
       "        }\n",
       "      }\n",
       "    }, 10, root)\n",
       "  }\n",
       "})(window);</script>"
      ],
      "text/plain": [
       ":DynamicMap   [Subscription]\n",
       "   :Curve   [Customers]   (Invoice Amount)"
      ]
     },
     "execution_count": 94,
     "metadata": {
      "application/vnd.holoviews_exec.v0+json": {
       "id": "1743"
      }
     },
     "output_type": "execute_result"
    }
   ],
   "source": [
    "# Use hvplot to create an interactive line chart of the average price ....\n",
    "# The plot should have a dropdown selector for the neighborhood\n",
    "\n",
    "avg_price_mean = avg_price_df\n",
    "\n",
    "sfo_grouped_month_and_02_Anonymized_plot = avg_price_mean.hvplot.line(\n",
    "    x='Customers',\n",
    "    y='Invoice Amount',\n",
    "    xlabel= 'Customers',\n",
    "    ylabel='Invoice Amount',\n",
    "    groupby='Subscription', \n",
    "    width=600\n",
    ").opts(yformatter='%0f')\n",
    "\n",
    "sfo_grouped_month_and_02_Anonymized_plot"
   ]
  },
  {
   "cell_type": "code",
   "execution_count": 99,
   "metadata": {},
   "outputs": [
    {
     "data": {
      "text/plain": [
       "Service Start\n",
       "2015-03-18 00:00:00-04:00     72000.0\n",
       "2015-06-01 00:00:00-04:00     82000.0\n",
       "2015-06-10 00:00:00-04:00     85500.0\n",
       "2015-09-18 00:00:00-04:00    129700.0\n",
       "2015-10-01 00:00:00-04:00    133100.0\n",
       "Name: Invoice Amount, dtype: float64"
      ]
     },
     "execution_count": 99,
     "metadata": {},
     "output_type": "execute_result"
    }
   ],
   "source": [
    "historical_data = atlas2.reset_index().set_index(\"Service Start\").sort_index(ascending=True)\n",
    "\n",
    "historical_data_invoice_amount = historical_data.groupby(\"Service Start\").sum()[\"Invoice Amount\"]\n",
    "historical_data_invoice_count = historical_data.groupby(\"Service Start\").count()[\"Invoice Amount\"]\n",
    "\n",
    "# Critical\n",
    "historical_data_invoice_amount_cumulative = historical_data_invoice_amount.cumsum()\n",
    "historical_data_invoice_count_cumulative = historical_data_invoice_count.cumsum()\n",
    "\n",
    "# Extra\n",
    "historical_data_invoice_mean = historical_data.groupby(\"Service Start\").mean()[\"Invoice Amount\"]\n",
    "historical_data_nbr_users = historical_data.groupby(\"Service Start\").sum()[\"Number of Users\"]\n",
    "historical_data_nbr_customers = historical_data.groupby(\"Service Start\").count()[\"Customers\"]\n",
    "\n",
    "historical_data_nbr_users_cumulative = historical_data_nbr_users.cumsum()\n",
    "historical_data_nbr_customers_cumulative = historical_data_nbr_customers.cumsum()\n",
    "\n",
    "# historical_data_invoice_amount_cumulative.head()"
   ]
  },
  {
   "cell_type": "code",
   "execution_count": 100,
   "metadata": {},
   "outputs": [
    {
     "ename": "KeyError",
     "evalue": "'Service Start'",
     "output_type": "error",
     "traceback": [
      "\u001b[1;31m---------------------------------------------------------------------------\u001b[0m",
      "\u001b[1;31mTypeError\u001b[0m                                 Traceback (most recent call last)",
      "\u001b[1;32m~\\anaconda3\\envs\\pyvizenv\\lib\\site-packages\\pandas\\core\\indexes\\base.py\u001b[0m in \u001b[0;36mget_value\u001b[1;34m(self, series, key)\u001b[0m\n\u001b[0;32m   4409\u001b[0m             \u001b[1;32mtry\u001b[0m\u001b[1;33m:\u001b[0m\u001b[1;33m\u001b[0m\u001b[1;33m\u001b[0m\u001b[0m\n\u001b[1;32m-> 4410\u001b[1;33m                 \u001b[1;32mreturn\u001b[0m \u001b[0mlibindex\u001b[0m\u001b[1;33m.\u001b[0m\u001b[0mget_value_at\u001b[0m\u001b[1;33m(\u001b[0m\u001b[0ms\u001b[0m\u001b[1;33m,\u001b[0m \u001b[0mkey\u001b[0m\u001b[1;33m)\u001b[0m\u001b[1;33m\u001b[0m\u001b[1;33m\u001b[0m\u001b[0m\n\u001b[0m\u001b[0;32m   4411\u001b[0m             \u001b[1;32mexcept\u001b[0m \u001b[0mIndexError\u001b[0m\u001b[1;33m:\u001b[0m\u001b[1;33m\u001b[0m\u001b[1;33m\u001b[0m\u001b[0m\n",
      "\u001b[1;32mpandas\\_libs\\index.pyx\u001b[0m in \u001b[0;36mpandas._libs.index.get_value_at\u001b[1;34m()\u001b[0m\n",
      "\u001b[1;32mpandas\\_libs\\index.pyx\u001b[0m in \u001b[0;36mpandas._libs.index.get_value_at\u001b[1;34m()\u001b[0m\n",
      "\u001b[1;32mpandas\\_libs\\util.pxd\u001b[0m in \u001b[0;36mpandas._libs.util.get_value_at\u001b[1;34m()\u001b[0m\n",
      "\u001b[1;32mpandas\\_libs\\util.pxd\u001b[0m in \u001b[0;36mpandas._libs.util.validate_indexer\u001b[1;34m()\u001b[0m\n",
      "\u001b[1;31mTypeError\u001b[0m: 'str' object cannot be interpreted as an integer",
      "\nDuring handling of the above exception, another exception occurred:\n",
      "\u001b[1;31mKeyError\u001b[0m                                  Traceback (most recent call last)",
      "\u001b[1;32m~\\anaconda3\\envs\\pyvizenv\\lib\\site-packages\\pandas\\core\\indexes\\datetimes.py\u001b[0m in \u001b[0;36mget_value\u001b[1;34m(self, series, key)\u001b[0m\n\u001b[0;32m    650\u001b[0m         \u001b[1;32mtry\u001b[0m\u001b[1;33m:\u001b[0m\u001b[1;33m\u001b[0m\u001b[1;33m\u001b[0m\u001b[0m\n\u001b[1;32m--> 651\u001b[1;33m             \u001b[0mvalue\u001b[0m \u001b[1;33m=\u001b[0m \u001b[0mIndex\u001b[0m\u001b[1;33m.\u001b[0m\u001b[0mget_value\u001b[0m\u001b[1;33m(\u001b[0m\u001b[0mself\u001b[0m\u001b[1;33m,\u001b[0m \u001b[0mseries\u001b[0m\u001b[1;33m,\u001b[0m \u001b[0mkey\u001b[0m\u001b[1;33m)\u001b[0m\u001b[1;33m\u001b[0m\u001b[1;33m\u001b[0m\u001b[0m\n\u001b[0m\u001b[0;32m    652\u001b[0m         \u001b[1;32mexcept\u001b[0m \u001b[0mKeyError\u001b[0m\u001b[1;33m:\u001b[0m\u001b[1;33m\u001b[0m\u001b[1;33m\u001b[0m\u001b[0m\n",
      "\u001b[1;32m~\\anaconda3\\envs\\pyvizenv\\lib\\site-packages\\pandas\\core\\indexes\\base.py\u001b[0m in \u001b[0;36mget_value\u001b[1;34m(self, series, key)\u001b[0m\n\u001b[0;32m   4417\u001b[0m                 \u001b[1;32melse\u001b[0m\u001b[1;33m:\u001b[0m\u001b[1;33m\u001b[0m\u001b[1;33m\u001b[0m\u001b[0m\n\u001b[1;32m-> 4418\u001b[1;33m                     \u001b[1;32mraise\u001b[0m \u001b[0me1\u001b[0m\u001b[1;33m\u001b[0m\u001b[1;33m\u001b[0m\u001b[0m\n\u001b[0m\u001b[0;32m   4419\u001b[0m             \u001b[1;32mexcept\u001b[0m \u001b[0mException\u001b[0m\u001b[1;33m:\u001b[0m\u001b[1;33m\u001b[0m\u001b[1;33m\u001b[0m\u001b[0m\n",
      "\u001b[1;32m~\\anaconda3\\envs\\pyvizenv\\lib\\site-packages\\pandas\\core\\indexes\\base.py\u001b[0m in \u001b[0;36mget_value\u001b[1;34m(self, series, key)\u001b[0m\n\u001b[0;32m   4403\u001b[0m         \u001b[1;32mtry\u001b[0m\u001b[1;33m:\u001b[0m\u001b[1;33m\u001b[0m\u001b[1;33m\u001b[0m\u001b[0m\n\u001b[1;32m-> 4404\u001b[1;33m             \u001b[1;32mreturn\u001b[0m \u001b[0mself\u001b[0m\u001b[1;33m.\u001b[0m\u001b[0m_engine\u001b[0m\u001b[1;33m.\u001b[0m\u001b[0mget_value\u001b[0m\u001b[1;33m(\u001b[0m\u001b[0ms\u001b[0m\u001b[1;33m,\u001b[0m \u001b[0mk\u001b[0m\u001b[1;33m,\u001b[0m \u001b[0mtz\u001b[0m\u001b[1;33m=\u001b[0m\u001b[0mgetattr\u001b[0m\u001b[1;33m(\u001b[0m\u001b[0mseries\u001b[0m\u001b[1;33m.\u001b[0m\u001b[0mdtype\u001b[0m\u001b[1;33m,\u001b[0m \u001b[1;34m\"tz\"\u001b[0m\u001b[1;33m,\u001b[0m \u001b[1;32mNone\u001b[0m\u001b[1;33m)\u001b[0m\u001b[1;33m)\u001b[0m\u001b[1;33m\u001b[0m\u001b[1;33m\u001b[0m\u001b[0m\n\u001b[0m\u001b[0;32m   4405\u001b[0m         \u001b[1;32mexcept\u001b[0m \u001b[0mKeyError\u001b[0m \u001b[1;32mas\u001b[0m \u001b[0me1\u001b[0m\u001b[1;33m:\u001b[0m\u001b[1;33m\u001b[0m\u001b[1;33m\u001b[0m\u001b[0m\n",
      "\u001b[1;32mpandas\\_libs\\index.pyx\u001b[0m in \u001b[0;36mpandas._libs.index.IndexEngine.get_value\u001b[1;34m()\u001b[0m\n",
      "\u001b[1;32mpandas\\_libs\\index.pyx\u001b[0m in \u001b[0;36mpandas._libs.index.IndexEngine.get_value\u001b[1;34m()\u001b[0m\n",
      "\u001b[1;32mpandas\\_libs\\index.pyx\u001b[0m in \u001b[0;36mpandas._libs.index.DatetimeEngine.get_loc\u001b[1;34m()\u001b[0m\n",
      "\u001b[1;32mpandas\\_libs\\index.pyx\u001b[0m in \u001b[0;36mpandas._libs.index.DatetimeEngine._date_check_type\u001b[1;34m()\u001b[0m\n",
      "\u001b[1;31mKeyError\u001b[0m: 'Service Start'",
      "\nDuring handling of the above exception, another exception occurred:\n",
      "\u001b[1;31mParserError\u001b[0m                               Traceback (most recent call last)",
      "\u001b[1;32mpandas\\_libs\\tslibs\\conversion.pyx\u001b[0m in \u001b[0;36mpandas._libs.tslibs.conversion.convert_str_to_tsobject\u001b[1;34m()\u001b[0m\n",
      "\u001b[1;32mpandas\\_libs\\tslibs\\parsing.pyx\u001b[0m in \u001b[0;36mpandas._libs.tslibs.parsing.parse_datetime_string\u001b[1;34m()\u001b[0m\n",
      "\u001b[1;32m~\\AppData\\Roaming\\Python\\Python38\\site-packages\\dateutil\\parser\\_parser.py\u001b[0m in \u001b[0;36mparse\u001b[1;34m(timestr, parserinfo, **kwargs)\u001b[0m\n\u001b[0;32m   1373\u001b[0m     \u001b[1;32melse\u001b[0m\u001b[1;33m:\u001b[0m\u001b[1;33m\u001b[0m\u001b[1;33m\u001b[0m\u001b[0m\n\u001b[1;32m-> 1374\u001b[1;33m         \u001b[1;32mreturn\u001b[0m \u001b[0mDEFAULTPARSER\u001b[0m\u001b[1;33m.\u001b[0m\u001b[0mparse\u001b[0m\u001b[1;33m(\u001b[0m\u001b[0mtimestr\u001b[0m\u001b[1;33m,\u001b[0m \u001b[1;33m**\u001b[0m\u001b[0mkwargs\u001b[0m\u001b[1;33m)\u001b[0m\u001b[1;33m\u001b[0m\u001b[1;33m\u001b[0m\u001b[0m\n\u001b[0m\u001b[0;32m   1375\u001b[0m \u001b[1;33m\u001b[0m\u001b[0m\n",
      "\u001b[1;32m~\\AppData\\Roaming\\Python\\Python38\\site-packages\\dateutil\\parser\\_parser.py\u001b[0m in \u001b[0;36mparse\u001b[1;34m(self, timestr, default, ignoretz, tzinfos, **kwargs)\u001b[0m\n\u001b[0;32m    648\u001b[0m         \u001b[1;32mif\u001b[0m \u001b[0mres\u001b[0m \u001b[1;32mis\u001b[0m \u001b[1;32mNone\u001b[0m\u001b[1;33m:\u001b[0m\u001b[1;33m\u001b[0m\u001b[1;33m\u001b[0m\u001b[0m\n\u001b[1;32m--> 649\u001b[1;33m             \u001b[1;32mraise\u001b[0m \u001b[0mParserError\u001b[0m\u001b[1;33m(\u001b[0m\u001b[1;34m\"Unknown string format: %s\"\u001b[0m\u001b[1;33m,\u001b[0m \u001b[0mtimestr\u001b[0m\u001b[1;33m)\u001b[0m\u001b[1;33m\u001b[0m\u001b[1;33m\u001b[0m\u001b[0m\n\u001b[0m\u001b[0;32m    650\u001b[0m \u001b[1;33m\u001b[0m\u001b[0m\n",
      "\u001b[1;31mParserError\u001b[0m: Unknown string format: Service Start",
      "\nDuring handling of the above exception, another exception occurred:\n",
      "\u001b[1;31mValueError\u001b[0m                                Traceback (most recent call last)",
      "\u001b[1;32m~\\anaconda3\\envs\\pyvizenv\\lib\\site-packages\\pandas\\core\\indexes\\datetimes.py\u001b[0m in \u001b[0;36mget_value\u001b[1;34m(self, series, key)\u001b[0m\n\u001b[0;32m    659\u001b[0m             \u001b[1;32mtry\u001b[0m\u001b[1;33m:\u001b[0m\u001b[1;33m\u001b[0m\u001b[1;33m\u001b[0m\u001b[0m\n\u001b[1;32m--> 660\u001b[1;33m                 \u001b[1;32mreturn\u001b[0m \u001b[0mself\u001b[0m\u001b[1;33m.\u001b[0m\u001b[0mget_value_maybe_box\u001b[0m\u001b[1;33m(\u001b[0m\u001b[0mseries\u001b[0m\u001b[1;33m,\u001b[0m \u001b[0mkey\u001b[0m\u001b[1;33m)\u001b[0m\u001b[1;33m\u001b[0m\u001b[1;33m\u001b[0m\u001b[0m\n\u001b[0m\u001b[0;32m    661\u001b[0m             \u001b[1;32mexcept\u001b[0m \u001b[1;33m(\u001b[0m\u001b[0mTypeError\u001b[0m\u001b[1;33m,\u001b[0m \u001b[0mValueError\u001b[0m\u001b[1;33m,\u001b[0m \u001b[0mKeyError\u001b[0m\u001b[1;33m)\u001b[0m\u001b[1;33m:\u001b[0m\u001b[1;33m\u001b[0m\u001b[1;33m\u001b[0m\u001b[0m\n",
      "\u001b[1;32m~\\anaconda3\\envs\\pyvizenv\\lib\\site-packages\\pandas\\core\\indexes\\datetimes.py\u001b[0m in \u001b[0;36mget_value_maybe_box\u001b[1;34m(self, series, key)\u001b[0m\n\u001b[0;32m    668\u001b[0m         \u001b[1;32mif\u001b[0m \u001b[0mself\u001b[0m\u001b[1;33m.\u001b[0m\u001b[0mtz\u001b[0m \u001b[1;32mis\u001b[0m \u001b[1;32mnot\u001b[0m \u001b[1;32mNone\u001b[0m\u001b[1;33m:\u001b[0m\u001b[1;33m\u001b[0m\u001b[1;33m\u001b[0m\u001b[0m\n\u001b[1;32m--> 669\u001b[1;33m             \u001b[0mkey\u001b[0m \u001b[1;33m=\u001b[0m \u001b[0mTimestamp\u001b[0m\u001b[1;33m(\u001b[0m\u001b[0mkey\u001b[0m\u001b[1;33m)\u001b[0m\u001b[1;33m\u001b[0m\u001b[1;33m\u001b[0m\u001b[0m\n\u001b[0m\u001b[0;32m    670\u001b[0m             \u001b[1;32mif\u001b[0m \u001b[0mkey\u001b[0m\u001b[1;33m.\u001b[0m\u001b[0mtzinfo\u001b[0m \u001b[1;32mis\u001b[0m \u001b[1;32mnot\u001b[0m \u001b[1;32mNone\u001b[0m\u001b[1;33m:\u001b[0m\u001b[1;33m\u001b[0m\u001b[1;33m\u001b[0m\u001b[0m\n",
      "\u001b[1;32mpandas\\_libs\\tslibs\\timestamps.pyx\u001b[0m in \u001b[0;36mpandas._libs.tslibs.timestamps.Timestamp.__new__\u001b[1;34m()\u001b[0m\n",
      "\u001b[1;32mpandas\\_libs\\tslibs\\conversion.pyx\u001b[0m in \u001b[0;36mpandas._libs.tslibs.conversion.convert_to_tsobject\u001b[1;34m()\u001b[0m\n",
      "\u001b[1;32mpandas\\_libs\\tslibs\\conversion.pyx\u001b[0m in \u001b[0;36mpandas._libs.tslibs.conversion.convert_str_to_tsobject\u001b[1;34m()\u001b[0m\n",
      "\u001b[1;31mValueError\u001b[0m: could not convert string to Timestamp",
      "\nDuring handling of the above exception, another exception occurred:\n",
      "\u001b[1;31mKeyError\u001b[0m                                  Traceback (most recent call last)",
      "\u001b[1;32m<ipython-input-100-452ce5d6eb23>\u001b[0m in \u001b[0;36m<module>\u001b[1;34m\u001b[0m\n\u001b[0;32m     54\u001b[0m \u001b[1;31m# pn.interact(plot_heatmap, chosen_type_list=pn.widgets.CheckButtonGroup(name='Check Button Group', value=['confirmed', 'bedridden'], options=['confirmed', 'bedridden', 'recovered']))\u001b[0m\u001b[1;33m\u001b[0m\u001b[1;33m\u001b[0m\u001b[1;33m\u001b[0m\u001b[0m\n\u001b[0;32m     55\u001b[0m \u001b[1;33m\u001b[0m\u001b[0m\n\u001b[1;32m---> 56\u001b[1;33m generate_plot(\n\u001b[0m\u001b[0;32m     57\u001b[0m     \u001b[1;34m\"Invoice Amount\"\u001b[0m\u001b[1;33m,\u001b[0m\u001b[1;33m\u001b[0m\u001b[1;33m\u001b[0m\u001b[0m\n\u001b[0;32m     58\u001b[0m     \u001b[1;33m[\u001b[0m\u001b[1;33m]\u001b[0m\u001b[1;33m,\u001b[0m\u001b[1;33m\u001b[0m\u001b[1;33m\u001b[0m\u001b[0m\n",
      "\u001b[1;32m<ipython-input-100-452ce5d6eb23>\u001b[0m in \u001b[0;36mgenerate_plot\u001b[1;34m(data_selector, chosen_type_list, filter_by_year)\u001b[0m\n\u001b[0;32m     35\u001b[0m \u001b[1;33m\u001b[0m\u001b[0m\n\u001b[0;32m     36\u001b[0m     \u001b[1;31m# Extract y/m/q for service start\u001b[0m\u001b[1;33m\u001b[0m\u001b[1;33m\u001b[0m\u001b[1;33m\u001b[0m\u001b[0m\n\u001b[1;32m---> 37\u001b[1;33m     \u001b[0mdf_ymq\u001b[0m \u001b[1;33m=\u001b[0m \u001b[0mtool_data_processing\u001b[0m\u001b[1;33m.\u001b[0m\u001b[0mextract_and_append_year_month_quarter\u001b[0m\u001b[1;33m(\u001b[0m\u001b[0mdf\u001b[0m\u001b[1;33m,\u001b[0m \u001b[1;34m\"Service Start\"\u001b[0m\u001b[1;33m)\u001b[0m\u001b[1;33m\u001b[0m\u001b[1;33m\u001b[0m\u001b[0m\n\u001b[0m\u001b[0;32m     38\u001b[0m \u001b[1;33m\u001b[0m\u001b[0m\n\u001b[0;32m     39\u001b[0m     \u001b[1;31m# Filter by year\u001b[0m\u001b[1;33m\u001b[0m\u001b[1;33m\u001b[0m\u001b[1;33m\u001b[0m\u001b[0m\n",
      "\u001b[1;32m~\\code\\Group Project 1\\Project_8\\lib2\\ProcessingTools.py\u001b[0m in \u001b[0;36mextract_and_append_year_month_quarter\u001b[1;34m(self, data_frame, column_name)\u001b[0m\n\u001b[0;32m     70\u001b[0m             \u001b[0mThe\u001b[0m \u001b[0mDataFrame\u001b[0m \u001b[1;32mwith\u001b[0m \u001b[0mthe\u001b[0m \u001b[0mYear\u001b[0m\u001b[1;33m/\u001b[0m\u001b[0mMonth\u001b[0m\u001b[1;33m/\u001b[0m\u001b[0mQuarter\u001b[0m \u001b[0mcolumns\u001b[0m \u001b[0mappended\u001b[0m\u001b[1;33m.\u001b[0m\u001b[1;33m\u001b[0m\u001b[1;33m\u001b[0m\u001b[0m\n\u001b[0;32m     71\u001b[0m         \"\"\"\n\u001b[1;32m---> 72\u001b[1;33m         \u001b[0mcolumns\u001b[0m \u001b[1;33m=\u001b[0m \u001b[0mself\u001b[0m\u001b[1;33m.\u001b[0m\u001b[0mextract_year_month_quarter\u001b[0m\u001b[1;33m(\u001b[0m\u001b[0mdata_frame\u001b[0m\u001b[1;33m[\u001b[0m\u001b[0mcolumn_name\u001b[0m\u001b[1;33m]\u001b[0m\u001b[1;33m)\u001b[0m\u001b[1;33m\u001b[0m\u001b[1;33m\u001b[0m\u001b[0m\n\u001b[0m\u001b[0;32m     73\u001b[0m         \u001b[0mperiods_df\u001b[0m \u001b[1;33m=\u001b[0m \u001b[0mpd\u001b[0m\u001b[1;33m.\u001b[0m\u001b[0mDataFrame\u001b[0m\u001b[1;33m(\u001b[0m\u001b[1;33m{\u001b[0m\u001b[1;34m\"Year\"\u001b[0m\u001b[1;33m:\u001b[0m\u001b[0mcolumns\u001b[0m\u001b[1;33m[\u001b[0m\u001b[1;36m0\u001b[0m\u001b[1;33m]\u001b[0m\u001b[1;33m,\u001b[0m\u001b[1;34m\"Monthly\"\u001b[0m\u001b[1;33m:\u001b[0m \u001b[0mcolumns\u001b[0m\u001b[1;33m[\u001b[0m\u001b[1;36m1\u001b[0m\u001b[1;33m]\u001b[0m\u001b[1;33m,\u001b[0m \u001b[1;34m\"Quarterly\"\u001b[0m\u001b[1;33m:\u001b[0m \u001b[0mcolumns\u001b[0m\u001b[1;33m[\u001b[0m\u001b[1;36m2\u001b[0m\u001b[1;33m]\u001b[0m\u001b[1;33m}\u001b[0m\u001b[1;33m)\u001b[0m\u001b[1;33m\u001b[0m\u001b[1;33m\u001b[0m\u001b[0m\n\u001b[0;32m     74\u001b[0m         \u001b[1;32mreturn\u001b[0m \u001b[0mpd\u001b[0m\u001b[1;33m.\u001b[0m\u001b[0mconcat\u001b[0m\u001b[1;33m(\u001b[0m\u001b[1;33m[\u001b[0m\u001b[0mdata_frame\u001b[0m\u001b[1;33m.\u001b[0m\u001b[0mreset_index\u001b[0m\u001b[1;33m(\u001b[0m\u001b[1;33m)\u001b[0m\u001b[1;33m,\u001b[0m \u001b[0mperiods_df\u001b[0m\u001b[1;33m]\u001b[0m\u001b[1;33m,\u001b[0m \u001b[0maxis\u001b[0m\u001b[1;33m=\u001b[0m\u001b[1;34m'columns'\u001b[0m\u001b[1;33m,\u001b[0m \u001b[0mjoin\u001b[0m\u001b[1;33m=\u001b[0m\u001b[1;34m\"inner\"\u001b[0m\u001b[1;33m)\u001b[0m\u001b[1;33m\u001b[0m\u001b[1;33m\u001b[0m\u001b[0m\n",
      "\u001b[1;32m~\\anaconda3\\envs\\pyvizenv\\lib\\site-packages\\pandas\\core\\series.py\u001b[0m in \u001b[0;36m__getitem__\u001b[1;34m(self, key)\u001b[0m\n\u001b[0;32m    869\u001b[0m         \u001b[0mkey\u001b[0m \u001b[1;33m=\u001b[0m \u001b[0mcom\u001b[0m\u001b[1;33m.\u001b[0m\u001b[0mapply_if_callable\u001b[0m\u001b[1;33m(\u001b[0m\u001b[0mkey\u001b[0m\u001b[1;33m,\u001b[0m \u001b[0mself\u001b[0m\u001b[1;33m)\u001b[0m\u001b[1;33m\u001b[0m\u001b[1;33m\u001b[0m\u001b[0m\n\u001b[0;32m    870\u001b[0m         \u001b[1;32mtry\u001b[0m\u001b[1;33m:\u001b[0m\u001b[1;33m\u001b[0m\u001b[1;33m\u001b[0m\u001b[0m\n\u001b[1;32m--> 871\u001b[1;33m             \u001b[0mresult\u001b[0m \u001b[1;33m=\u001b[0m \u001b[0mself\u001b[0m\u001b[1;33m.\u001b[0m\u001b[0mindex\u001b[0m\u001b[1;33m.\u001b[0m\u001b[0mget_value\u001b[0m\u001b[1;33m(\u001b[0m\u001b[0mself\u001b[0m\u001b[1;33m,\u001b[0m \u001b[0mkey\u001b[0m\u001b[1;33m)\u001b[0m\u001b[1;33m\u001b[0m\u001b[1;33m\u001b[0m\u001b[0m\n\u001b[0m\u001b[0;32m    872\u001b[0m \u001b[1;33m\u001b[0m\u001b[0m\n\u001b[0;32m    873\u001b[0m             \u001b[1;32mif\u001b[0m \u001b[1;32mnot\u001b[0m \u001b[0mis_scalar\u001b[0m\u001b[1;33m(\u001b[0m\u001b[0mresult\u001b[0m\u001b[1;33m)\u001b[0m\u001b[1;33m:\u001b[0m\u001b[1;33m\u001b[0m\u001b[1;33m\u001b[0m\u001b[0m\n",
      "\u001b[1;32m~\\anaconda3\\envs\\pyvizenv\\lib\\site-packages\\pandas\\core\\indexes\\datetimes.py\u001b[0m in \u001b[0;36mget_value\u001b[1;34m(self, series, key)\u001b[0m\n\u001b[0;32m    660\u001b[0m                 \u001b[1;32mreturn\u001b[0m \u001b[0mself\u001b[0m\u001b[1;33m.\u001b[0m\u001b[0mget_value_maybe_box\u001b[0m\u001b[1;33m(\u001b[0m\u001b[0mseries\u001b[0m\u001b[1;33m,\u001b[0m \u001b[0mkey\u001b[0m\u001b[1;33m)\u001b[0m\u001b[1;33m\u001b[0m\u001b[1;33m\u001b[0m\u001b[0m\n\u001b[0;32m    661\u001b[0m             \u001b[1;32mexcept\u001b[0m \u001b[1;33m(\u001b[0m\u001b[0mTypeError\u001b[0m\u001b[1;33m,\u001b[0m \u001b[0mValueError\u001b[0m\u001b[1;33m,\u001b[0m \u001b[0mKeyError\u001b[0m\u001b[1;33m)\u001b[0m\u001b[1;33m:\u001b[0m\u001b[1;33m\u001b[0m\u001b[1;33m\u001b[0m\u001b[0m\n\u001b[1;32m--> 662\u001b[1;33m                 \u001b[1;32mraise\u001b[0m \u001b[0mKeyError\u001b[0m\u001b[1;33m(\u001b[0m\u001b[0mkey\u001b[0m\u001b[1;33m)\u001b[0m\u001b[1;33m\u001b[0m\u001b[1;33m\u001b[0m\u001b[0m\n\u001b[0m\u001b[0;32m    663\u001b[0m         \u001b[1;32melse\u001b[0m\u001b[1;33m:\u001b[0m\u001b[1;33m\u001b[0m\u001b[1;33m\u001b[0m\u001b[0m\n\u001b[0;32m    664\u001b[0m             \u001b[1;32mreturn\u001b[0m \u001b[0mcom\u001b[0m\u001b[1;33m.\u001b[0m\u001b[0mmaybe_box\u001b[0m\u001b[1;33m(\u001b[0m\u001b[0mself\u001b[0m\u001b[1;33m,\u001b[0m \u001b[0mvalue\u001b[0m\u001b[1;33m,\u001b[0m \u001b[0mseries\u001b[0m\u001b[1;33m,\u001b[0m \u001b[0mkey\u001b[0m\u001b[1;33m)\u001b[0m\u001b[1;33m\u001b[0m\u001b[1;33m\u001b[0m\u001b[0m\n",
      "\u001b[1;31mKeyError\u001b[0m: 'Service Start'"
     ]
    }
   ],
   "source": [
    "\n",
    "# Options\n",
    "data_selector_list = [\n",
    "    \"Invoice Amount\", \"Invoice Count\",\n",
    "    \"Cumulative Invoice Amount\", \"Cumulative Invoice Count\",\n",
    "    \"Invoice Mean\", \"Number of Users\", \"Number of Customers\",\n",
    "    \"Cumulative Number of Users\", \"Cumulative Number of Customers\",\n",
    "]\n",
    "def generate_plot(\n",
    "    data_selector,\n",
    "    chosen_type_list,\n",
    "    filter_by_year\n",
    "    ):\n",
    "    \n",
    "    # Choose data to plot.\n",
    "    df = None\n",
    "    if data_selector == \"Invoice Amount\":\n",
    "        df = historical_data_invoice_amount\n",
    "    if data_selector == \"Invoice Count\":\n",
    "        df = historical_data_invoice_count\n",
    "    if data_selector == \"Cumulative Invoice Amount\":\n",
    "        df = historical_data_invoice_amount_cumulative\n",
    "    if data_selector == \"Cumulative Invoice Count\":\n",
    "        df = historical_data_invoice_count_cumulative\n",
    "    if data_selector == \"Invoice Mean\":\n",
    "        df = historical_data_invoice_mean\n",
    "    if data_selector == \"Number of Users\":\n",
    "        df = historical_data_nbr_users\n",
    "    if data_selector == \"Number of Customers\":\n",
    "        df = historical_data_nbr_customers\n",
    "    if data_selector == \"Cumulative Number of Users\":\n",
    "        df = historical_data_nbr_users_cumulative\n",
    "    if data_selector == \"Cumulative Number of Customers\":\n",
    "        df = historical_data_nbr_customers_cumulative\n",
    "\n",
    "        \n",
    "    # Extract y/m/q for service start\n",
    "    df_ymq = tool_data_processing.extract_and_append_year_month_quarter(df, \"Service Start\")\n",
    "\n",
    "    # Filter by year\n",
    "    df_filtered_by_year = df_ymq[ df_ymq[\"Year\"] == filter_by_year ]\n",
    "#     df_selected = df[ df['status'].isin(chosen_type_list) ]\n",
    "    \n",
    "    # Generate plot\n",
    "    the_plot = df_filtered_by_year.hvplot.line(\n",
    "        \n",
    "    )\n",
    "    \n",
    "    return the_plot\n",
    "\n",
    "\n",
    "\n",
    "# Display the interactive plot\n",
    "# pn.interact(plot_heatmap, chosen_type=types)\n",
    "# pn.interact(plot_heatmap, chosen_type_list=pn.widgets.CheckButtonGroup(name='Check Button Group', value=['confirmed', 'bedridden'], options=['confirmed', 'bedridden', 'recovered']))\n",
    "\n",
    "generate_plot(\n",
    "    \"Invoice Amount\",\n",
    "    [],\n",
    "    2020\n",
    "    )\n"
   ]
  },
  {
   "cell_type": "code",
   "execution_count": null,
   "metadata": {},
   "outputs": [],
   "source": [
    "# Group by year and atlas and then create a new dataframe of the mean values\n",
    "atlas.head()\n",
    "avg_price_df = atlas.reset_index().groupby(by=['Customers','Subscription']).mean()\n",
    "avg_price_df.head()"
   ]
  },
  {
   "cell_type": "code",
   "execution_count": null,
   "metadata": {},
   "outputs": [],
   "source": [
    "avg_price_df.dtypes"
   ]
  },
  {
   "cell_type": "code",
   "execution_count": null,
   "metadata": {},
   "outputs": [],
   "source": []
  },
  {
   "cell_type": "code",
   "execution_count": null,
   "metadata": {},
   "outputs": [],
   "source": [
    "# Read the census data into a Pandas DataFrame\n",
    "#file_path = Path(\"../Resources/sfo_atla.csv\")\n",
    "#sfo_data = pd.read_csv(file_path, index_col=\"year\")\n",
    "#sfo_data.head()"
   ]
  },
  {
   "cell_type": "code",
   "execution_count": null,
   "metadata": {},
   "outputs": [],
   "source": [
    "# Getting the data from the top 10 highest customers\n",
    "#sfo(subscription, invoice)\n",
    "\n",
    "customers = avg_price_df.groupby([\"Invoice Amount\", \"Customers\"]).max()\n",
    "top_10_highest_customer = customers.sort_values(by='Invoice Amount', ascending=False).head(10)\n",
    "top_10_highest_customer = top_10_highest_customer.reset_index()\n",
    "top_10_highest_customer\n",
    "top_10_highest_customer_plot = top_10_highest_customer.hvplot.bar(\n",
    "    x='Customers',\n",
    "    y='Invoice Amount',\n",
    "    rot=90,\n",
    "title='Top 10 Highest Customers')\n",
    "top_10_highest_customer_plot"
   ]
  },
  {
   "cell_type": "code",
   "execution_count": null,
   "metadata": {},
   "outputs": [],
   "source": [
    "# Parallel Coordinates Plot\n",
    "px.parallel_coordinates(top_10_highest_customer, color='Invoice Amount')"
   ]
  },
  {
   "cell_type": "code",
   "execution_count": null,
   "metadata": {},
   "outputs": [],
   "source": [
    "# Parallel Categories Plot\n",
    "#px.parallel_categories(\n",
    "#    top_10_highest_customer,\n",
    "#    dimensions=[\"customers\", \"invoice_amount\", \"subscription\", \"invoice\"],\n",
    " #  color=\"customers\",\n",
    "  #  color_continuous_scale=px.colors.sequential.Inferno\n",
    "#)\n"
   ]
  },
  {
   "cell_type": "code",
   "execution_count": null,
   "metadata": {},
   "outputs": [],
   "source": [
    "# import libraries\n",
    "import numpy as np\n",
    "import pandas as pd\n",
    "import hvplot.pandas\n",
    "import panel as pn\n",
    "pn.extension()\n",
    "# create sample data\n",
    "df = pd.DataFrame({\n",
    "    'date': pd.date_range(start='01-01-2020', end='31-12-2020'),\n",
    "    'status': np.random.choice(['confirmed', 'bedridden', 'recovered'], 366),\n",
    "    'status2': np.random.choice(['A', 'B', 'C'], 366),\n",
    "    'value': np.random.rand(366) * 100\n",
    "})\n",
    "types = ['confirmed', 'bedridden', 'recovered']\n",
    "# you need to return your plot to get the interaction\n",
    "def plot_heatmap(chosen_type):\n",
    "    df_selected = df[df['status']==chosen_type]\n",
    "    # hvplot is handy for creating interactive plots\n",
    "    heatmap = df_selected.hvplot.heatmap(x='date', y='status2', C='value')\n",
    "    return heatmap\n",
    "# show your interactive plot with dropdown   \n",
    "pn.interact(plot_heatmap, chosen_type=types)"
   ]
  },
  {
   "cell_type": "code",
   "execution_count": null,
   "metadata": {},
   "outputs": [],
   "source": [
    "# Use hvplot to create an interactive line chart of the average price per sq ft.\n",
    "# The plot should have a dropdown selector for the neighborhood\n",
    "\n",
    "#avg_price_mean = avg_price_df\n",
    "\n",
    "#def get_plot(customer_filter, subscription_filter):\n",
    "#    df_counts = avg_price_mean.groupby(['Customers', 'Subscription']).count().reset_index()\n",
    "#    df_filtered = df_counts[ (df_counts['Customers'] == customer_filter ) & ( df_counts['Subscription'] == subscription_filter) ]\n",
    "#    return df_filtered.hvplot.bar(\n",
    "#        x='Customers',\n",
    "#        y='Invoice Amount',\n",
    "#        xlabel= 'Customers',\n",
    "#        ylabel='Invoice Amount',\n",
    "#        width=600\n",
    "#        ).opts(yformatter='%0f')\n",
    "#\n",
    "#customer_filter_values = avg_price_mean.reset_index()['Customers'].drop_duplicates().to_list()\n",
    "#subscription_filter_values = avg_price_mean.reset_index()['Subscription'].drop_duplicates().to_list()\n",
    "\n",
    "#pn.interact(get_plot,\n",
    "#            customer_filter=customer_filter_values,\n",
    "#            subscription_filter=subscription_filter_values)"
   ]
  },
  {
   "cell_type": "code",
   "execution_count": null,
   "metadata": {},
   "outputs": [],
   "source": [
    "# avg_price_mean.groupby('Subscription').count()\n",
    "# avg_price_mean.groupby(['Customers', 'Subscription']).count().loc[\"University 1\"]\n",
    "\n",
    "#df_counts = avg_price_mean.groupby(['Customers', 'Subscription']).count().reset_index()\n",
    "#df_counts[ (df_counts['Customers'] == 'University 1' ) & ( df_counts['Subscription'] == '1 Year') ]"
   ]
  },
  {
   "cell_type": "code",
   "execution_count": null,
   "metadata": {},
   "outputs": [],
   "source": [
    "# Calculate market penetration\n",
    "\n",
    "# TODO remove duplicates\n",
    "#ne plus faire # TODO Match names\n",
    "# TODO Generate pie chart\n",
    "\n",
    "#mp = len(paying_customers) / len(all_potential_customers)\n",
    "\n",
    "#print(f\"MP is {mp * 100} %\")\n",
    "\n",
    "# Identify existing and potential customers\n",
    "customer_name_mapping = tool_lookup_tables.read_customer_name_mapping()\n",
    "paying_customers = list(customer_name_mapping.keys())\n",
    "\n",
    "all_potential_customers = paying_customers\n",
    "paying_customers = paying_customers[0:10]\n"
   ]
  },
  {
   "cell_type": "code",
   "execution_count": null,
   "metadata": {},
   "outputs": [],
   "source": [
    "# Use the `drop_duplicates` function with the `subset` parameter to \n",
    "# drop duplicates based on a selection of columns\n",
    "customers_df.drop_duplicatessubset=()   "
   ]
  },
  {
   "cell_type": "code",
   "execution_count": null,
   "metadata": {},
   "outputs": [],
   "source": [
    "faire cela d'abord {Puis} customers_df = pd.DataFrame([[paying_customers], [all_potential_customers]])customers_df.head()Puis "
   ]
  },
  {
   "cell_type": "code",
   "execution_count": null,
   "metadata": {},
   "outputs": [],
   "source": [
    "puis faire un dataframe en regardant les exemple de la class "
   ]
  },
  {
   "cell_type": "code",
   "execution_count": null,
   "metadata": {},
   "outputs": [],
   "source": [
    "# Use the `duplicated` function to determine the existance of duplicate rows: True or False\n",
    "Atlas_with_address.duplicated()"
   ]
  },
  {
   "cell_type": "code",
   "execution_count": null,
   "metadata": {},
   "outputs": [],
   "source": [
    "TODO Generate pie chart"
   ]
  },
  {
   "cell_type": "code",
   "execution_count": null,
   "metadata": {},
   "outputs": [],
   "source": []
  }
 ],
 "metadata": {
  "kernelspec": {
   "display_name": "Python [conda env:pyvizenv] *",
   "language": "python",
   "name": "conda-env-pyvizenv-py"
  },
  "language_info": {
   "codemirror_mode": {
    "name": "ipython",
    "version": 3
   },
   "file_extension": ".py",
   "mimetype": "text/x-python",
   "name": "python",
   "nbconvert_exporter": "python",
   "pygments_lexer": "ipython3",
   "version": "3.8.3"
  }
 },
 "nbformat": 4,
 "nbformat_minor": 4
}
