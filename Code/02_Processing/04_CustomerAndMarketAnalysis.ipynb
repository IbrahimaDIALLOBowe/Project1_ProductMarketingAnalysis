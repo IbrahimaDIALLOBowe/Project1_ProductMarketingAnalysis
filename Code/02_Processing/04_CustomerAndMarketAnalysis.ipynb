{
 "cells": [
  {
   "source": [
    "# Initialize"
   ],
   "cell_type": "markdown",
   "metadata": {}
  },
  {
   "cell_type": "code",
   "execution_count": 21,
   "metadata": {},
   "outputs": [],
   "source": [
    "# Options\n",
    "\n",
    "## Debugging level\n",
    "debug_level = 0\n",
    "\n",
    "## Plot sizes\n",
    "plot_width__large   = 1000\n",
    "plot_height__large  = 600\n",
    "\n",
    "plot_width__medium  = 600\n",
    "plot_height__medium = 300\n",
    "\n",
    "plot_width__small   = 200\n",
    "plot_height__small  = 150\n",
    "\n",
    "## Format fonts\n",
    "# from bokeh.themes.theme import Theme\n",
    "# import holoviews as hv\n",
    "# hv.renderer('bokeh').theme.major_label_text_font = \"Times New Roman\"\n"
   ]
  },
  {
   "cell_type": "code",
   "execution_count": 22,
   "metadata": {},
   "outputs": [],
   "source": [
    "# Initialize framework\n",
    "constants, tools = init_processing(debug_level)\n",
    "%matplotlib inline\n"
   ]
  },
  {
   "cell_type": "code",
   "execution_count": 23,
   "metadata": {},
   "outputs": [],
   "source": [
    "# TODO Provide our own forecasting analysis:\n",
    "#   - Filter out the customers that have failed to renew or upgrade (after a timeout).\n",
    "#   - Filter out customers with 3-month subscriptions from 2020 that hvae not been renewed or upgraded.\n",
    "#   - Build time series based on "
   ]
  },
  {
   "cell_type": "code",
   "execution_count": 32,
   "metadata": {},
   "outputs": [],
   "source": []
  },
  {
   "source": [
    "# Initialize"
   ],
   "cell_type": "markdown",
   "metadata": {}
  },
  {
   "cell_type": "code",
   "execution_count": 24,
   "metadata": {},
   "outputs": [],
   "source": [
    "# Import all preprocessed data\n",
    "atlas           = pd.read_pickle(constants.PREPROCESSED_ATLAS_FILE_PATH)\n",
    "forecast        = pd.read_pickle(constants.PREPROCESSED_FORECAST_DATA_FILE_PATH)\n",
    "revenue2020     = pd.read_pickle(constants.PREPROCESSED_REVENUE2020_FILE_PATH)\n",
    "revenue2020A    = pd.read_pickle(constants.PREPROCESSED_REVENUE2020A_FILE_PATH)\n"
   ]
  },
  {
   "cell_type": "code",
   "execution_count": 25,
   "metadata": {},
   "outputs": [],
   "source": [
    "load_dotenv()\n",
    "mapbox_token = os.getenv(\"MAPBOX_API_KEY\")\n"
   ]
  },
  {
   "cell_type": "code",
   "execution_count": 26,
   "metadata": {},
   "outputs": [
    {
     "output_type": "execute_result",
     "data": {
      "text/plain": [
       "                                Number of Users              Invoice Date  \\\n",
       "Customers                                                                   \n",
       "Louisiana Board Of Regents                  NaN 2015-03-20 00:00:00-04:00   \n",
       "Emporia State University                  250.0 2015-05-28 00:00:00-04:00   \n",
       "Morehead State University                 100.0 2015-06-23 00:00:00-04:00   \n",
       "State University Of Ny Potsdam              NaN 2015-06-26 00:00:00-04:00   \n",
       "St. Mary'S College Of Maryland              NaN 2015-10-07 00:00:00-04:00   \n",
       "\n",
       "                                Invoice #  Invoice Amount Subscription  \\\n",
       "Customers                                                                \n",
       "Louisiana Board Of Regents      ATLAS 315         72000.0       1 Year   \n",
       "Emporia State University            AJ501          3500.0       1 Year   \n",
       "Morehead State University           AJ502          3500.0       1 Year   \n",
       "State University Of Ny Potsdam      AJ503          6500.0       1 Year   \n",
       "St. Mary'S College Of Maryland      AJ504           750.0       1 Year   \n",
       "\n",
       "                                          Account Code   \\\n",
       "Customers                                                 \n",
       "Louisiana Board Of Regents      4700-0-00-00000-18-0000   \n",
       "Emporia State University        4700-0-00-00000-16-0000   \n",
       "Morehead State University       4700-0-00-00000-17-0000   \n",
       "State University Of Ny Potsdam  4700-0-00-00000-32-0000   \n",
       "St. Mary'S College Of Maryland  4700-0-00-00000-20-0000   \n",
       "\n",
       "                                                                  Address  \\\n",
       "Customers                                                                   \n",
       "Louisiana Board Of Regents        1201 N 3rd St #6, Baton Rouge, LA 70802   \n",
       "Emporia State University                 1 Kellogg Cir, Emporia, KS 66801   \n",
       "Morehead State University         150 University Blvd, Morehead, KY 40351   \n",
       "State University Of Ny Potsdam       44 Pierrepont Ave, Potsdam, NY 13676   \n",
       "St. Mary'S College Of Maryland  47645 College Dr, St Marys City, MD 20686   \n",
       "\n",
       "                                      Lat       Long  \\\n",
       "Customers                                              \n",
       "Louisiana Board Of Regents      30.460190 -91.188530   \n",
       "Emporia State University        38.392609 -96.181396   \n",
       "Morehead State University       38.184921 -83.434441   \n",
       "State University Of Ny Potsdam  44.663780 -74.978409   \n",
       "St. Mary'S College Of Maryland  38.190601 -76.426300   \n",
       "\n",
       "                                           Service Start  \\\n",
       "Customers                                                  \n",
       "Louisiana Board Of Regents     2015-03-18 00:00:00-04:00   \n",
       "Emporia State University       2015-06-01 00:00:00-04:00   \n",
       "Morehead State University      2015-06-10 00:00:00-04:00   \n",
       "State University Of Ny Potsdam 2015-06-01 00:00:00-04:00   \n",
       "St. Mary'S College Of Maryland 2015-10-05 00:00:00-04:00   \n",
       "\n",
       "                                             Service End Subscription Duration  \n",
       "Customers                                                                       \n",
       "Louisiana Board Of Regents     2016-06-30 00:00:00-04:00              365 days  \n",
       "Emporia State University       2016-06-30 00:00:00-04:00              365 days  \n",
       "Morehead State University      2016-06-30 00:00:00-04:00              365 days  \n",
       "State University Of Ny Potsdam 2016-06-30 00:00:00-04:00              365 days  \n",
       "St. Mary'S College Of Maryland 2016-09-30 00:00:00-04:00              365 days  "
      ],
      "text/html": "<div>\n<style scoped>\n    .dataframe tbody tr th:only-of-type {\n        vertical-align: middle;\n    }\n\n    .dataframe tbody tr th {\n        vertical-align: top;\n    }\n\n    .dataframe thead th {\n        text-align: right;\n    }\n</style>\n<table border=\"1\" class=\"dataframe\">\n  <thead>\n    <tr style=\"text-align: right;\">\n      <th></th>\n      <th>Number of Users</th>\n      <th>Invoice Date</th>\n      <th>Invoice #</th>\n      <th>Invoice Amount</th>\n      <th>Subscription</th>\n      <th>Account Code</th>\n      <th>Address</th>\n      <th>Lat</th>\n      <th>Long</th>\n      <th>Service Start</th>\n      <th>Service End</th>\n      <th>Subscription Duration</th>\n    </tr>\n    <tr>\n      <th>Customers</th>\n      <th></th>\n      <th></th>\n      <th></th>\n      <th></th>\n      <th></th>\n      <th></th>\n      <th></th>\n      <th></th>\n      <th></th>\n      <th></th>\n      <th></th>\n      <th></th>\n    </tr>\n  </thead>\n  <tbody>\n    <tr>\n      <th>Louisiana Board Of Regents</th>\n      <td>NaN</td>\n      <td>2015-03-20 00:00:00-04:00</td>\n      <td>ATLAS 315</td>\n      <td>72000.0</td>\n      <td>1 Year</td>\n      <td>4700-0-00-00000-18-0000</td>\n      <td>1201 N 3rd St #6, Baton Rouge, LA 70802</td>\n      <td>30.460190</td>\n      <td>-91.188530</td>\n      <td>2015-03-18 00:00:00-04:00</td>\n      <td>2016-06-30 00:00:00-04:00</td>\n      <td>365 days</td>\n    </tr>\n    <tr>\n      <th>Emporia State University</th>\n      <td>250.0</td>\n      <td>2015-05-28 00:00:00-04:00</td>\n      <td>AJ501</td>\n      <td>3500.0</td>\n      <td>1 Year</td>\n      <td>4700-0-00-00000-16-0000</td>\n      <td>1 Kellogg Cir, Emporia, KS 66801</td>\n      <td>38.392609</td>\n      <td>-96.181396</td>\n      <td>2015-06-01 00:00:00-04:00</td>\n      <td>2016-06-30 00:00:00-04:00</td>\n      <td>365 days</td>\n    </tr>\n    <tr>\n      <th>Morehead State University</th>\n      <td>100.0</td>\n      <td>2015-06-23 00:00:00-04:00</td>\n      <td>AJ502</td>\n      <td>3500.0</td>\n      <td>1 Year</td>\n      <td>4700-0-00-00000-17-0000</td>\n      <td>150 University Blvd, Morehead, KY 40351</td>\n      <td>38.184921</td>\n      <td>-83.434441</td>\n      <td>2015-06-10 00:00:00-04:00</td>\n      <td>2016-06-30 00:00:00-04:00</td>\n      <td>365 days</td>\n    </tr>\n    <tr>\n      <th>State University Of Ny Potsdam</th>\n      <td>NaN</td>\n      <td>2015-06-26 00:00:00-04:00</td>\n      <td>AJ503</td>\n      <td>6500.0</td>\n      <td>1 Year</td>\n      <td>4700-0-00-00000-32-0000</td>\n      <td>44 Pierrepont Ave, Potsdam, NY 13676</td>\n      <td>44.663780</td>\n      <td>-74.978409</td>\n      <td>2015-06-01 00:00:00-04:00</td>\n      <td>2016-06-30 00:00:00-04:00</td>\n      <td>365 days</td>\n    </tr>\n    <tr>\n      <th>St. Mary'S College Of Maryland</th>\n      <td>NaN</td>\n      <td>2015-10-07 00:00:00-04:00</td>\n      <td>AJ504</td>\n      <td>750.0</td>\n      <td>1 Year</td>\n      <td>4700-0-00-00000-20-0000</td>\n      <td>47645 College Dr, St Marys City, MD 20686</td>\n      <td>38.190601</td>\n      <td>-76.426300</td>\n      <td>2015-10-05 00:00:00-04:00</td>\n      <td>2016-09-30 00:00:00-04:00</td>\n      <td>365 days</td>\n    </tr>\n  </tbody>\n</table>\n</div>"
     },
     "metadata": {},
     "execution_count": 26
    }
   ],
   "source": [
    "atlas.head()"
   ]
  },
  {
   "source": [
    "# Most Effective Subscriptions"
   ],
   "cell_type": "markdown",
   "metadata": {}
  },
  {
   "cell_type": "code",
   "execution_count": null,
   "metadata": {},
   "outputs": [],
   "source": []
  },
  {
   "cell_type": "code",
   "execution_count": 27,
   "metadata": {},
   "outputs": [],
   "source": [
    "invoice_data_by_service_start = tools.tool_data_processing.extract_and_append_year_month_quarter(atlas, \"Service Start\")\n",
    "invoice_data_by_service_start = invoice_data_by_service_start.reset_index().set_index(\"Service Start\").sort_index(ascending=True)\n",
    "\n",
    "total_invoices_per_year = invoice_data_by_service_start.groupby('Year').sum().reset_index()\n",
    "mean_invoices_per_year = invoice_data_by_service_start.groupby('Year').mean().reset_index()\n",
    "number_of_invoices_per_year = invoice_data_by_service_start.groupby('Year').count().reset_index()"
   ]
  },
  {
   "cell_type": "code",
   "execution_count": null,
   "metadata": {},
   "outputs": [],
   "source": []
  },
  {
   "cell_type": "code",
   "execution_count": null,
   "metadata": {},
   "outputs": [],
   "source": []
  },
  {
   "cell_type": "code",
   "execution_count": 28,
   "metadata": {},
   "outputs": [
    {
     "output_type": "execute_result",
     "data": {
      "text/plain": [
       "<AxesSubplot:ylabel='Invoice Amount'>"
      ]
     },
     "metadata": {},
     "execution_count": 28
    },
    {
     "output_type": "display_data",
     "data": {
      "text/plain": "<Figure size 576x576 with 1 Axes>",
      "image/svg+xml": "<?xml version=\"1.0\" encoding=\"utf-8\" standalone=\"no\"?>\r\n<!DOCTYPE svg PUBLIC \"-//W3C//DTD SVG 1.1//EN\"\r\n  \"http://www.w3.org/Graphics/SVG/1.1/DTD/svg11.dtd\">\r\n<!-- Created with matplotlib (https://matplotlib.org/) -->\r\n<svg height=\"449.28pt\" version=\"1.1\" viewBox=\"0 0 478.705607 449.28\" width=\"478.705607pt\" xmlns=\"http://www.w3.org/2000/svg\" xmlns:xlink=\"http://www.w3.org/1999/xlink\">\r\n <metadata>\r\n  <rdf:RDF xmlns:cc=\"http://creativecommons.org/ns#\" xmlns:dc=\"http://purl.org/dc/elements/1.1/\" xmlns:rdf=\"http://www.w3.org/1999/02/22-rdf-syntax-ns#\">\r\n   <cc:Work>\r\n    <dc:type rdf:resource=\"http://purl.org/dc/dcmitype/StillImage\"/>\r\n    <dc:date>2020-11-29T11:29:55.353781</dc:date>\r\n    <dc:format>image/svg+xml</dc:format>\r\n    <dc:creator>\r\n     <cc:Agent>\r\n      <dc:title>Matplotlib v3.3.2, https://matplotlib.org/</dc:title>\r\n     </cc:Agent>\r\n    </dc:creator>\r\n   </cc:Work>\r\n  </rdf:RDF>\r\n </metadata>\r\n <defs>\r\n  <style type=\"text/css\">*{stroke-linecap:butt;stroke-linejoin:round;}</style>\r\n </defs>\r\n <g id=\"figure_1\">\r\n  <g id=\"patch_1\">\r\n   <path d=\"M 0 449.28 \r\nL 478.705607 449.28 \r\nL 478.705607 0 \r\nL 0 0 \r\nz\r\n\" style=\"fill:none;\"/>\r\n  </g>\r\n  <g id=\"axes_1\">\r\n   <g id=\"patch_2\">\r\n    <path d=\"M 412.270125 224.64 \r\nC 412.270125 196.006226 405.200132 167.810543 391.689891 142.564426 \r\nC 378.17965 117.31831 358.642569 95.79428 334.818876 79.90955 \r\nL 238.318125 224.64 \r\nL 412.270125 224.64 \r\nz\r\n\" style=\"fill:#1f77b4;\"/>\r\n   </g>\r\n   <g id=\"patch_3\">\r\n    <path d=\"M 334.818876 79.90955 \r\nC 302.520195 58.374019 263.923805 48.257939 225.214217 51.182265 \r\nC 186.504628 54.10659 149.866054 69.906315 121.169293 96.049761 \r\nC 92.472532 122.193208 73.336816 157.205217 66.828366 195.475623 \r\nC 60.319916 233.746029 66.805975 273.115401 85.247246 307.275369 \r\nL 238.318125 224.64 \r\nL 334.818876 79.90955 \r\nz\r\n\" style=\"fill:#ff7f0e;\"/>\r\n   </g>\r\n   <g id=\"patch_4\">\r\n    <path d=\"M 85.247246 307.275369 \r\nC 89.239355 314.670213 93.762088 321.766058 98.779903 328.50714 \r\nC 103.797718 335.248223 109.297435 341.616837 115.235833 347.562934 \r\nL 238.318125 224.64 \r\nL 85.247246 307.275369 \r\nz\r\n\" style=\"fill:#2ca02c;\"/>\r\n   </g>\r\n   <g id=\"patch_5\">\r\n    <path d=\"M 115.235833 347.562934 \r\nC 134.586677 366.938864 158.242139 381.47436 184.2708 389.982629 \r\nC 210.29946 398.490897 237.973103 400.733898 265.032231 396.528495 \r\nC 292.091358 392.323092 317.778925 381.786942 339.997593 365.780299 \r\nC 362.216261 349.773657 380.344408 328.744347 392.901907 304.409372 \r\nL 238.318125 224.64 \r\nL 115.235833 347.562934 \r\nz\r\n\" style=\"fill:#d62728;\"/>\r\n   </g>\r\n   <g id=\"patch_6\">\r\n    <path d=\"M 392.901907 304.409372 \r\nC 393.61954 303.018683 394.318373 301.618373 394.998217 300.208824 \r\nC 395.67806 298.799276 396.338851 297.380617 396.98041 295.953236 \r\nL 238.318125 224.64 \r\nL 392.901907 304.409372 \r\nz\r\n\" style=\"fill:#9467bd;\"/>\r\n   </g>\r\n   <g id=\"patch_7\">\r\n    <path d=\"M 396.98041 295.953236 \r\nC 402.005639 284.772783 405.835042 273.092411 408.404756 261.106919 \r\nC 410.97447 249.121426 412.270129 236.897814 412.270125 224.639941 \r\nL 238.318125 224.64 \r\nL 396.98041 295.953236 \r\nz\r\n\" style=\"fill:#8c564b;\"/>\r\n   </g>\r\n   <g id=\"matplotlib.axis_1\"/>\r\n   <g id=\"matplotlib.axis_2\">\r\n    <g id=\"text_1\">\r\n     <!-- Invoice Amount -->\r\n     <g transform=\"translate(14.798438 263.754062)rotate(-90)scale(0.1 -0.1)\">\r\n      <defs>\r\n       <path d=\"M 9.8125 72.90625 \r\nL 19.671875 72.90625 \r\nL 19.671875 0 \r\nL 9.8125 0 \r\nz\r\n\" id=\"DejaVuSans-73\"/>\r\n       <path d=\"M 54.890625 33.015625 \r\nL 54.890625 0 \r\nL 45.90625 0 \r\nL 45.90625 32.71875 \r\nQ 45.90625 40.484375 42.875 44.328125 \r\nQ 39.84375 48.1875 33.796875 48.1875 \r\nQ 26.515625 48.1875 22.3125 43.546875 \r\nQ 18.109375 38.921875 18.109375 30.90625 \r\nL 18.109375 0 \r\nL 9.078125 0 \r\nL 9.078125 54.6875 \r\nL 18.109375 54.6875 \r\nL 18.109375 46.1875 \r\nQ 21.34375 51.125 25.703125 53.5625 \r\nQ 30.078125 56 35.796875 56 \r\nQ 45.21875 56 50.046875 50.171875 \r\nQ 54.890625 44.34375 54.890625 33.015625 \r\nz\r\n\" id=\"DejaVuSans-110\"/>\r\n       <path d=\"M 2.984375 54.6875 \r\nL 12.5 54.6875 \r\nL 29.59375 8.796875 \r\nL 46.6875 54.6875 \r\nL 56.203125 54.6875 \r\nL 35.6875 0 \r\nL 23.484375 0 \r\nz\r\n\" id=\"DejaVuSans-118\"/>\r\n       <path d=\"M 30.609375 48.390625 \r\nQ 23.390625 48.390625 19.1875 42.75 \r\nQ 14.984375 37.109375 14.984375 27.296875 \r\nQ 14.984375 17.484375 19.15625 11.84375 \r\nQ 23.34375 6.203125 30.609375 6.203125 \r\nQ 37.796875 6.203125 41.984375 11.859375 \r\nQ 46.1875 17.53125 46.1875 27.296875 \r\nQ 46.1875 37.015625 41.984375 42.703125 \r\nQ 37.796875 48.390625 30.609375 48.390625 \r\nz\r\nM 30.609375 56 \r\nQ 42.328125 56 49.015625 48.375 \r\nQ 55.71875 40.765625 55.71875 27.296875 \r\nQ 55.71875 13.875 49.015625 6.21875 \r\nQ 42.328125 -1.421875 30.609375 -1.421875 \r\nQ 18.84375 -1.421875 12.171875 6.21875 \r\nQ 5.515625 13.875 5.515625 27.296875 \r\nQ 5.515625 40.765625 12.171875 48.375 \r\nQ 18.84375 56 30.609375 56 \r\nz\r\n\" id=\"DejaVuSans-111\"/>\r\n       <path d=\"M 9.421875 54.6875 \r\nL 18.40625 54.6875 \r\nL 18.40625 0 \r\nL 9.421875 0 \r\nz\r\nM 9.421875 75.984375 \r\nL 18.40625 75.984375 \r\nL 18.40625 64.59375 \r\nL 9.421875 64.59375 \r\nz\r\n\" id=\"DejaVuSans-105\"/>\r\n       <path d=\"M 48.78125 52.59375 \r\nL 48.78125 44.1875 \r\nQ 44.96875 46.296875 41.140625 47.34375 \r\nQ 37.3125 48.390625 33.40625 48.390625 \r\nQ 24.65625 48.390625 19.8125 42.84375 \r\nQ 14.984375 37.3125 14.984375 27.296875 \r\nQ 14.984375 17.28125 19.8125 11.734375 \r\nQ 24.65625 6.203125 33.40625 6.203125 \r\nQ 37.3125 6.203125 41.140625 7.25 \r\nQ 44.96875 8.296875 48.78125 10.40625 \r\nL 48.78125 2.09375 \r\nQ 45.015625 0.34375 40.984375 -0.53125 \r\nQ 36.96875 -1.421875 32.421875 -1.421875 \r\nQ 20.0625 -1.421875 12.78125 6.34375 \r\nQ 5.515625 14.109375 5.515625 27.296875 \r\nQ 5.515625 40.671875 12.859375 48.328125 \r\nQ 20.21875 56 33.015625 56 \r\nQ 37.15625 56 41.109375 55.140625 \r\nQ 45.0625 54.296875 48.78125 52.59375 \r\nz\r\n\" id=\"DejaVuSans-99\"/>\r\n       <path d=\"M 56.203125 29.59375 \r\nL 56.203125 25.203125 \r\nL 14.890625 25.203125 \r\nQ 15.484375 15.921875 20.484375 11.0625 \r\nQ 25.484375 6.203125 34.421875 6.203125 \r\nQ 39.59375 6.203125 44.453125 7.46875 \r\nQ 49.3125 8.734375 54.109375 11.28125 \r\nL 54.109375 2.78125 \r\nQ 49.265625 0.734375 44.1875 -0.34375 \r\nQ 39.109375 -1.421875 33.890625 -1.421875 \r\nQ 20.796875 -1.421875 13.15625 6.1875 \r\nQ 5.515625 13.8125 5.515625 26.8125 \r\nQ 5.515625 40.234375 12.765625 48.109375 \r\nQ 20.015625 56 32.328125 56 \r\nQ 43.359375 56 49.78125 48.890625 \r\nQ 56.203125 41.796875 56.203125 29.59375 \r\nz\r\nM 47.21875 32.234375 \r\nQ 47.125 39.59375 43.09375 43.984375 \r\nQ 39.0625 48.390625 32.421875 48.390625 \r\nQ 24.90625 48.390625 20.390625 44.140625 \r\nQ 15.875 39.890625 15.1875 32.171875 \r\nz\r\n\" id=\"DejaVuSans-101\"/>\r\n       <path id=\"DejaVuSans-32\"/>\r\n       <path d=\"M 34.1875 63.1875 \r\nL 20.796875 26.90625 \r\nL 47.609375 26.90625 \r\nz\r\nM 28.609375 72.90625 \r\nL 39.796875 72.90625 \r\nL 67.578125 0 \r\nL 57.328125 0 \r\nL 50.6875 18.703125 \r\nL 17.828125 18.703125 \r\nL 11.1875 0 \r\nL 0.78125 0 \r\nz\r\n\" id=\"DejaVuSans-65\"/>\r\n       <path d=\"M 52 44.1875 \r\nQ 55.375 50.25 60.0625 53.125 \r\nQ 64.75 56 71.09375 56 \r\nQ 79.640625 56 84.28125 50.015625 \r\nQ 88.921875 44.046875 88.921875 33.015625 \r\nL 88.921875 0 \r\nL 79.890625 0 \r\nL 79.890625 32.71875 \r\nQ 79.890625 40.578125 77.09375 44.375 \r\nQ 74.3125 48.1875 68.609375 48.1875 \r\nQ 61.625 48.1875 57.5625 43.546875 \r\nQ 53.515625 38.921875 53.515625 30.90625 \r\nL 53.515625 0 \r\nL 44.484375 0 \r\nL 44.484375 32.71875 \r\nQ 44.484375 40.625 41.703125 44.40625 \r\nQ 38.921875 48.1875 33.109375 48.1875 \r\nQ 26.21875 48.1875 22.15625 43.53125 \r\nQ 18.109375 38.875 18.109375 30.90625 \r\nL 18.109375 0 \r\nL 9.078125 0 \r\nL 9.078125 54.6875 \r\nL 18.109375 54.6875 \r\nL 18.109375 46.1875 \r\nQ 21.1875 51.21875 25.484375 53.609375 \r\nQ 29.78125 56 35.6875 56 \r\nQ 41.65625 56 45.828125 52.96875 \r\nQ 50 49.953125 52 44.1875 \r\nz\r\n\" id=\"DejaVuSans-109\"/>\r\n       <path d=\"M 8.5 21.578125 \r\nL 8.5 54.6875 \r\nL 17.484375 54.6875 \r\nL 17.484375 21.921875 \r\nQ 17.484375 14.15625 20.5 10.265625 \r\nQ 23.53125 6.390625 29.59375 6.390625 \r\nQ 36.859375 6.390625 41.078125 11.03125 \r\nQ 45.3125 15.671875 45.3125 23.6875 \r\nL 45.3125 54.6875 \r\nL 54.296875 54.6875 \r\nL 54.296875 0 \r\nL 45.3125 0 \r\nL 45.3125 8.40625 \r\nQ 42.046875 3.421875 37.71875 1 \r\nQ 33.40625 -1.421875 27.6875 -1.421875 \r\nQ 18.265625 -1.421875 13.375 4.4375 \r\nQ 8.5 10.296875 8.5 21.578125 \r\nz\r\nM 31.109375 56 \r\nz\r\n\" id=\"DejaVuSans-117\"/>\r\n       <path d=\"M 18.3125 70.21875 \r\nL 18.3125 54.6875 \r\nL 36.8125 54.6875 \r\nL 36.8125 47.703125 \r\nL 18.3125 47.703125 \r\nL 18.3125 18.015625 \r\nQ 18.3125 11.328125 20.140625 9.421875 \r\nQ 21.96875 7.515625 27.59375 7.515625 \r\nL 36.8125 7.515625 \r\nL 36.8125 0 \r\nL 27.59375 0 \r\nQ 17.1875 0 13.234375 3.875 \r\nQ 9.28125 7.765625 9.28125 18.015625 \r\nL 9.28125 47.703125 \r\nL 2.6875 47.703125 \r\nL 2.6875 54.6875 \r\nL 9.28125 54.6875 \r\nL 9.28125 70.21875 \r\nz\r\n\" id=\"DejaVuSans-116\"/>\r\n      </defs>\r\n      <use xlink:href=\"#DejaVuSans-73\"/>\r\n      <use x=\"29.492188\" xlink:href=\"#DejaVuSans-110\"/>\r\n      <use x=\"92.871094\" xlink:href=\"#DejaVuSans-118\"/>\r\n      <use x=\"152.050781\" xlink:href=\"#DejaVuSans-111\"/>\r\n      <use x=\"213.232422\" xlink:href=\"#DejaVuSans-105\"/>\r\n      <use x=\"241.015625\" xlink:href=\"#DejaVuSans-99\"/>\r\n      <use x=\"295.996094\" xlink:href=\"#DejaVuSans-101\"/>\r\n      <use x=\"357.519531\" xlink:href=\"#DejaVuSans-32\"/>\r\n      <use x=\"389.306641\" xlink:href=\"#DejaVuSans-65\"/>\r\n      <use x=\"457.714844\" xlink:href=\"#DejaVuSans-109\"/>\r\n      <use x=\"555.126953\" xlink:href=\"#DejaVuSans-111\"/>\r\n      <use x=\"616.308594\" xlink:href=\"#DejaVuSans-117\"/>\r\n      <use x=\"679.6875\" xlink:href=\"#DejaVuSans-110\"/>\r\n      <use x=\"743.066406\" xlink:href=\"#DejaVuSans-116\"/>\r\n     </g>\r\n    </g>\r\n   </g>\r\n   <g id=\"text_2\">\r\n    <!-- 1 Year -->\r\n    <g transform=\"translate(407.027067 137.116244)scale(0.1 -0.1)\">\r\n     <defs>\r\n      <path d=\"M 12.40625 8.296875 \r\nL 28.515625 8.296875 \r\nL 28.515625 63.921875 \r\nL 10.984375 60.40625 \r\nL 10.984375 69.390625 \r\nL 28.421875 72.90625 \r\nL 38.28125 72.90625 \r\nL 38.28125 8.296875 \r\nL 54.390625 8.296875 \r\nL 54.390625 0 \r\nL 12.40625 0 \r\nz\r\n\" id=\"DejaVuSans-49\"/>\r\n      <path d=\"M -0.203125 72.90625 \r\nL 10.40625 72.90625 \r\nL 30.609375 42.921875 \r\nL 50.6875 72.90625 \r\nL 61.28125 72.90625 \r\nL 35.5 34.71875 \r\nL 35.5 0 \r\nL 25.59375 0 \r\nL 25.59375 34.71875 \r\nz\r\n\" id=\"DejaVuSans-89\"/>\r\n      <path d=\"M 34.28125 27.484375 \r\nQ 23.390625 27.484375 19.1875 25 \r\nQ 14.984375 22.515625 14.984375 16.5 \r\nQ 14.984375 11.71875 18.140625 8.90625 \r\nQ 21.296875 6.109375 26.703125 6.109375 \r\nQ 34.1875 6.109375 38.703125 11.40625 \r\nQ 43.21875 16.703125 43.21875 25.484375 \r\nL 43.21875 27.484375 \r\nz\r\nM 52.203125 31.203125 \r\nL 52.203125 0 \r\nL 43.21875 0 \r\nL 43.21875 8.296875 \r\nQ 40.140625 3.328125 35.546875 0.953125 \r\nQ 30.953125 -1.421875 24.3125 -1.421875 \r\nQ 15.921875 -1.421875 10.953125 3.296875 \r\nQ 6 8.015625 6 15.921875 \r\nQ 6 25.140625 12.171875 29.828125 \r\nQ 18.359375 34.515625 30.609375 34.515625 \r\nL 43.21875 34.515625 \r\nL 43.21875 35.40625 \r\nQ 43.21875 41.609375 39.140625 45 \r\nQ 35.0625 48.390625 27.6875 48.390625 \r\nQ 23 48.390625 18.546875 47.265625 \r\nQ 14.109375 46.140625 10.015625 43.890625 \r\nL 10.015625 52.203125 \r\nQ 14.9375 54.109375 19.578125 55.046875 \r\nQ 24.21875 56 28.609375 56 \r\nQ 40.484375 56 46.34375 49.84375 \r\nQ 52.203125 43.703125 52.203125 31.203125 \r\nz\r\n\" id=\"DejaVuSans-97\"/>\r\n      <path d=\"M 41.109375 46.296875 \r\nQ 39.59375 47.171875 37.8125 47.578125 \r\nQ 36.03125 48 33.890625 48 \r\nQ 26.265625 48 22.1875 43.046875 \r\nQ 18.109375 38.09375 18.109375 28.8125 \r\nL 18.109375 0 \r\nL 9.078125 0 \r\nL 9.078125 54.6875 \r\nL 18.109375 54.6875 \r\nL 18.109375 46.1875 \r\nQ 20.953125 51.171875 25.484375 53.578125 \r\nQ 30.03125 56 36.53125 56 \r\nQ 37.453125 56 38.578125 55.875 \r\nQ 39.703125 55.765625 41.0625 55.515625 \r\nz\r\n\" id=\"DejaVuSans-114\"/>\r\n     </defs>\r\n     <use xlink:href=\"#DejaVuSans-49\"/>\r\n     <use x=\"63.623047\" xlink:href=\"#DejaVuSans-32\"/>\r\n     <use x=\"95.410156\" xlink:href=\"#DejaVuSans-89\"/>\r\n     <use x=\"143.244141\" xlink:href=\"#DejaVuSans-101\"/>\r\n     <use x=\"204.767578\" xlink:href=\"#DejaVuSans-97\"/>\r\n     <use x=\"266.046875\" xlink:href=\"#DejaVuSans-114\"/>\r\n    </g>\r\n   </g>\r\n   <g id=\"text_3\">\r\n    <!-- 2 Years -->\r\n    <g transform=\"translate(73.52941 85.950112)scale(0.1 -0.1)\">\r\n     <defs>\r\n      <path d=\"M 19.1875 8.296875 \r\nL 53.609375 8.296875 \r\nL 53.609375 0 \r\nL 7.328125 0 \r\nL 7.328125 8.296875 \r\nQ 12.9375 14.109375 22.625 23.890625 \r\nQ 32.328125 33.6875 34.8125 36.53125 \r\nQ 39.546875 41.84375 41.421875 45.53125 \r\nQ 43.3125 49.21875 43.3125 52.78125 \r\nQ 43.3125 58.59375 39.234375 62.25 \r\nQ 35.15625 65.921875 28.609375 65.921875 \r\nQ 23.96875 65.921875 18.8125 64.3125 \r\nQ 13.671875 62.703125 7.8125 59.421875 \r\nL 7.8125 69.390625 \r\nQ 13.765625 71.78125 18.9375 73 \r\nQ 24.125 74.21875 28.421875 74.21875 \r\nQ 39.75 74.21875 46.484375 68.546875 \r\nQ 53.21875 62.890625 53.21875 53.421875 \r\nQ 53.21875 48.921875 51.53125 44.890625 \r\nQ 49.859375 40.875 45.40625 35.40625 \r\nQ 44.1875 33.984375 37.640625 27.21875 \r\nQ 31.109375 20.453125 19.1875 8.296875 \r\nz\r\n\" id=\"DejaVuSans-50\"/>\r\n      <path d=\"M 44.28125 53.078125 \r\nL 44.28125 44.578125 \r\nQ 40.484375 46.53125 36.375 47.5 \r\nQ 32.28125 48.484375 27.875 48.484375 \r\nQ 21.1875 48.484375 17.84375 46.4375 \r\nQ 14.5 44.390625 14.5 40.28125 \r\nQ 14.5 37.15625 16.890625 35.375 \r\nQ 19.28125 33.59375 26.515625 31.984375 \r\nL 29.59375 31.296875 \r\nQ 39.15625 29.25 43.1875 25.515625 \r\nQ 47.21875 21.78125 47.21875 15.09375 \r\nQ 47.21875 7.46875 41.1875 3.015625 \r\nQ 35.15625 -1.421875 24.609375 -1.421875 \r\nQ 20.21875 -1.421875 15.453125 -0.5625 \r\nQ 10.6875 0.296875 5.421875 2 \r\nL 5.421875 11.28125 \r\nQ 10.40625 8.6875 15.234375 7.390625 \r\nQ 20.0625 6.109375 24.8125 6.109375 \r\nQ 31.15625 6.109375 34.5625 8.28125 \r\nQ 37.984375 10.453125 37.984375 14.40625 \r\nQ 37.984375 18.0625 35.515625 20.015625 \r\nQ 33.0625 21.96875 24.703125 23.78125 \r\nL 21.578125 24.515625 \r\nQ 13.234375 26.265625 9.515625 29.90625 \r\nQ 5.8125 33.546875 5.8125 39.890625 \r\nQ 5.8125 47.609375 11.28125 51.796875 \r\nQ 16.75 56 26.8125 56 \r\nQ 31.78125 56 36.171875 55.265625 \r\nQ 40.578125 54.546875 44.28125 53.078125 \r\nz\r\n\" id=\"DejaVuSans-115\"/>\r\n     </defs>\r\n     <use xlink:href=\"#DejaVuSans-50\"/>\r\n     <use x=\"63.623047\" xlink:href=\"#DejaVuSans-32\"/>\r\n     <use x=\"95.410156\" xlink:href=\"#DejaVuSans-89\"/>\r\n     <use x=\"143.244141\" xlink:href=\"#DejaVuSans-101\"/>\r\n     <use x=\"204.767578\" xlink:href=\"#DejaVuSans-97\"/>\r\n     <use x=\"266.046875\" xlink:href=\"#DejaVuSans-114\"/>\r\n     <use x=\"307.160156\" xlink:href=\"#DejaVuSans-115\"/>\r\n    </g>\r\n   </g>\r\n   <g id=\"text_4\">\r\n    <!-- 3 Months -->\r\n    <g transform=\"translate(38.733893 341.653229)scale(0.1 -0.1)\">\r\n     <defs>\r\n      <path d=\"M 40.578125 39.3125 \r\nQ 47.65625 37.796875 51.625 33 \r\nQ 55.609375 28.21875 55.609375 21.1875 \r\nQ 55.609375 10.40625 48.1875 4.484375 \r\nQ 40.765625 -1.421875 27.09375 -1.421875 \r\nQ 22.515625 -1.421875 17.65625 -0.515625 \r\nQ 12.796875 0.390625 7.625 2.203125 \r\nL 7.625 11.71875 \r\nQ 11.71875 9.328125 16.59375 8.109375 \r\nQ 21.484375 6.890625 26.8125 6.890625 \r\nQ 36.078125 6.890625 40.9375 10.546875 \r\nQ 45.796875 14.203125 45.796875 21.1875 \r\nQ 45.796875 27.640625 41.28125 31.265625 \r\nQ 36.765625 34.90625 28.71875 34.90625 \r\nL 20.21875 34.90625 \r\nL 20.21875 43.015625 \r\nL 29.109375 43.015625 \r\nQ 36.375 43.015625 40.234375 45.921875 \r\nQ 44.09375 48.828125 44.09375 54.296875 \r\nQ 44.09375 59.90625 40.109375 62.90625 \r\nQ 36.140625 65.921875 28.71875 65.921875 \r\nQ 24.65625 65.921875 20.015625 65.03125 \r\nQ 15.375 64.15625 9.8125 62.3125 \r\nL 9.8125 71.09375 \r\nQ 15.4375 72.65625 20.34375 73.4375 \r\nQ 25.25 74.21875 29.59375 74.21875 \r\nQ 40.828125 74.21875 47.359375 69.109375 \r\nQ 53.90625 64.015625 53.90625 55.328125 \r\nQ 53.90625 49.265625 50.4375 45.09375 \r\nQ 46.96875 40.921875 40.578125 39.3125 \r\nz\r\n\" id=\"DejaVuSans-51\"/>\r\n      <path d=\"M 9.8125 72.90625 \r\nL 24.515625 72.90625 \r\nL 43.109375 23.296875 \r\nL 61.8125 72.90625 \r\nL 76.515625 72.90625 \r\nL 76.515625 0 \r\nL 66.890625 0 \r\nL 66.890625 64.015625 \r\nL 48.09375 14.015625 \r\nL 38.1875 14.015625 \r\nL 19.390625 64.015625 \r\nL 19.390625 0 \r\nL 9.8125 0 \r\nz\r\n\" id=\"DejaVuSans-77\"/>\r\n      <path d=\"M 54.890625 33.015625 \r\nL 54.890625 0 \r\nL 45.90625 0 \r\nL 45.90625 32.71875 \r\nQ 45.90625 40.484375 42.875 44.328125 \r\nQ 39.84375 48.1875 33.796875 48.1875 \r\nQ 26.515625 48.1875 22.3125 43.546875 \r\nQ 18.109375 38.921875 18.109375 30.90625 \r\nL 18.109375 0 \r\nL 9.078125 0 \r\nL 9.078125 75.984375 \r\nL 18.109375 75.984375 \r\nL 18.109375 46.1875 \r\nQ 21.34375 51.125 25.703125 53.5625 \r\nQ 30.078125 56 35.796875 56 \r\nQ 45.21875 56 50.046875 50.171875 \r\nQ 54.890625 44.34375 54.890625 33.015625 \r\nz\r\n\" id=\"DejaVuSans-104\"/>\r\n     </defs>\r\n     <use xlink:href=\"#DejaVuSans-51\"/>\r\n     <use x=\"63.623047\" xlink:href=\"#DejaVuSans-32\"/>\r\n     <use x=\"95.410156\" xlink:href=\"#DejaVuSans-77\"/>\r\n     <use x=\"181.689453\" xlink:href=\"#DejaVuSans-111\"/>\r\n     <use x=\"242.871094\" xlink:href=\"#DejaVuSans-110\"/>\r\n     <use x=\"306.25\" xlink:href=\"#DejaVuSans-116\"/>\r\n     <use x=\"345.458984\" xlink:href=\"#DejaVuSans-104\"/>\r\n     <use x=\"408.837891\" xlink:href=\"#DejaVuSans-115\"/>\r\n    </g>\r\n   </g>\r\n   <g id=\"text_5\">\r\n    <!-- 3 Years -->\r\n    <g transform=\"translate(267.703641 416.47672)scale(0.1 -0.1)\">\r\n     <use xlink:href=\"#DejaVuSans-51\"/>\r\n     <use x=\"63.623047\" xlink:href=\"#DejaVuSans-32\"/>\r\n     <use x=\"95.410156\" xlink:href=\"#DejaVuSans-89\"/>\r\n     <use x=\"143.244141\" xlink:href=\"#DejaVuSans-101\"/>\r\n     <use x=\"204.767578\" xlink:href=\"#DejaVuSans-97\"/>\r\n     <use x=\"266.046875\" xlink:href=\"#DejaVuSans-114\"/>\r\n     <use x=\"307.160156\" xlink:href=\"#DejaVuSans-115\"/>\r\n    </g>\r\n   </g>\r\n   <g id=\"text_6\">\r\n    <!-- 30 Days -->\r\n    <g transform=\"translate(410.666226 310.525082)scale(0.1 -0.1)\">\r\n     <defs>\r\n      <path d=\"M 31.78125 66.40625 \r\nQ 24.171875 66.40625 20.328125 58.90625 \r\nQ 16.5 51.421875 16.5 36.375 \r\nQ 16.5 21.390625 20.328125 13.890625 \r\nQ 24.171875 6.390625 31.78125 6.390625 \r\nQ 39.453125 6.390625 43.28125 13.890625 \r\nQ 47.125 21.390625 47.125 36.375 \r\nQ 47.125 51.421875 43.28125 58.90625 \r\nQ 39.453125 66.40625 31.78125 66.40625 \r\nz\r\nM 31.78125 74.21875 \r\nQ 44.046875 74.21875 50.515625 64.515625 \r\nQ 56.984375 54.828125 56.984375 36.375 \r\nQ 56.984375 17.96875 50.515625 8.265625 \r\nQ 44.046875 -1.421875 31.78125 -1.421875 \r\nQ 19.53125 -1.421875 13.0625 8.265625 \r\nQ 6.59375 17.96875 6.59375 36.375 \r\nQ 6.59375 54.828125 13.0625 64.515625 \r\nQ 19.53125 74.21875 31.78125 74.21875 \r\nz\r\n\" id=\"DejaVuSans-48\"/>\r\n      <path d=\"M 19.671875 64.796875 \r\nL 19.671875 8.109375 \r\nL 31.59375 8.109375 \r\nQ 46.6875 8.109375 53.6875 14.9375 \r\nQ 60.6875 21.78125 60.6875 36.53125 \r\nQ 60.6875 51.171875 53.6875 57.984375 \r\nQ 46.6875 64.796875 31.59375 64.796875 \r\nz\r\nM 9.8125 72.90625 \r\nL 30.078125 72.90625 \r\nQ 51.265625 72.90625 61.171875 64.09375 \r\nQ 71.09375 55.28125 71.09375 36.53125 \r\nQ 71.09375 17.671875 61.125 8.828125 \r\nQ 51.171875 0 30.078125 0 \r\nL 9.8125 0 \r\nz\r\n\" id=\"DejaVuSans-68\"/>\r\n      <path d=\"M 32.171875 -5.078125 \r\nQ 28.375 -14.84375 24.75 -17.8125 \r\nQ 21.140625 -20.796875 15.09375 -20.796875 \r\nL 7.90625 -20.796875 \r\nL 7.90625 -13.28125 \r\nL 13.1875 -13.28125 \r\nQ 16.890625 -13.28125 18.9375 -11.515625 \r\nQ 21 -9.765625 23.484375 -3.21875 \r\nL 25.09375 0.875 \r\nL 2.984375 54.6875 \r\nL 12.5 54.6875 \r\nL 29.59375 11.921875 \r\nL 46.6875 54.6875 \r\nL 56.203125 54.6875 \r\nz\r\n\" id=\"DejaVuSans-121\"/>\r\n     </defs>\r\n     <use xlink:href=\"#DejaVuSans-51\"/>\r\n     <use x=\"63.623047\" xlink:href=\"#DejaVuSans-48\"/>\r\n     <use x=\"127.246094\" xlink:href=\"#DejaVuSans-32\"/>\r\n     <use x=\"159.033203\" xlink:href=\"#DejaVuSans-68\"/>\r\n     <use x=\"236.035156\" xlink:href=\"#DejaVuSans-97\"/>\r\n     <use x=\"297.314453\" xlink:href=\"#DejaVuSans-121\"/>\r\n     <use x=\"356.494141\" xlink:href=\"#DejaVuSans-115\"/>\r\n    </g>\r\n   </g>\r\n   <g id=\"text_7\">\r\n    <!-- 6 Months -->\r\n    <g transform=\"translate(425.413419 267.512986)scale(0.1 -0.1)\">\r\n     <defs>\r\n      <path d=\"M 33.015625 40.375 \r\nQ 26.375 40.375 22.484375 35.828125 \r\nQ 18.609375 31.296875 18.609375 23.390625 \r\nQ 18.609375 15.53125 22.484375 10.953125 \r\nQ 26.375 6.390625 33.015625 6.390625 \r\nQ 39.65625 6.390625 43.53125 10.953125 \r\nQ 47.40625 15.53125 47.40625 23.390625 \r\nQ 47.40625 31.296875 43.53125 35.828125 \r\nQ 39.65625 40.375 33.015625 40.375 \r\nz\r\nM 52.59375 71.296875 \r\nL 52.59375 62.3125 \r\nQ 48.875 64.0625 45.09375 64.984375 \r\nQ 41.3125 65.921875 37.59375 65.921875 \r\nQ 27.828125 65.921875 22.671875 59.328125 \r\nQ 17.53125 52.734375 16.796875 39.40625 \r\nQ 19.671875 43.65625 24.015625 45.921875 \r\nQ 28.375 48.1875 33.59375 48.1875 \r\nQ 44.578125 48.1875 50.953125 41.515625 \r\nQ 57.328125 34.859375 57.328125 23.390625 \r\nQ 57.328125 12.15625 50.6875 5.359375 \r\nQ 44.046875 -1.421875 33.015625 -1.421875 \r\nQ 20.359375 -1.421875 13.671875 8.265625 \r\nQ 6.984375 17.96875 6.984375 36.375 \r\nQ 6.984375 53.65625 15.1875 63.9375 \r\nQ 23.390625 74.21875 37.203125 74.21875 \r\nQ 40.921875 74.21875 44.703125 73.484375 \r\nQ 48.484375 72.75 52.59375 71.296875 \r\nz\r\n\" id=\"DejaVuSans-54\"/>\r\n     </defs>\r\n     <use xlink:href=\"#DejaVuSans-54\"/>\r\n     <use x=\"63.623047\" xlink:href=\"#DejaVuSans-32\"/>\r\n     <use x=\"95.410156\" xlink:href=\"#DejaVuSans-77\"/>\r\n     <use x=\"181.689453\" xlink:href=\"#DejaVuSans-111\"/>\r\n     <use x=\"242.871094\" xlink:href=\"#DejaVuSans-110\"/>\r\n     <use x=\"306.25\" xlink:href=\"#DejaVuSans-116\"/>\r\n     <use x=\"345.458984\" xlink:href=\"#DejaVuSans-104\"/>\r\n     <use x=\"408.837891\" xlink:href=\"#DejaVuSans-115\"/>\r\n    </g>\r\n   </g>\r\n   <g id=\"legend_1\">\r\n    <g id=\"patch_8\">\r\n     <path d=\"M 370.665937 103.26875 \r\nL 448.758125 103.26875 \r\nQ 450.758125 103.26875 450.758125 101.26875 \r\nL 450.758125 14.2 \r\nQ 450.758125 12.2 448.758125 12.2 \r\nL 370.665937 12.2 \r\nQ 368.665937 12.2 368.665937 14.2 \r\nL 368.665937 101.26875 \r\nQ 368.665937 103.26875 370.665937 103.26875 \r\nz\r\n\" style=\"fill:#ffffff;opacity:0.8;stroke:#cccccc;stroke-linejoin:miter;\"/>\r\n    </g>\r\n    <g id=\"patch_9\">\r\n     <path d=\"M 372.665937 23.798437 \r\nL 392.665937 23.798437 \r\nL 392.665937 16.798437 \r\nL 372.665937 16.798437 \r\nz\r\n\" style=\"fill:#1f77b4;\"/>\r\n    </g>\r\n    <g id=\"text_8\">\r\n     <!-- 1 Year -->\r\n     <g transform=\"translate(400.665937 23.798437)scale(0.1 -0.1)\">\r\n      <use xlink:href=\"#DejaVuSans-49\"/>\r\n      <use x=\"63.623047\" xlink:href=\"#DejaVuSans-32\"/>\r\n      <use x=\"95.410156\" xlink:href=\"#DejaVuSans-89\"/>\r\n      <use x=\"143.244141\" xlink:href=\"#DejaVuSans-101\"/>\r\n      <use x=\"204.767578\" xlink:href=\"#DejaVuSans-97\"/>\r\n      <use x=\"266.046875\" xlink:href=\"#DejaVuSans-114\"/>\r\n     </g>\r\n    </g>\r\n    <g id=\"patch_10\">\r\n     <path d=\"M 372.665937 38.476562 \r\nL 392.665937 38.476562 \r\nL 392.665937 31.476562 \r\nL 372.665937 31.476562 \r\nz\r\n\" style=\"fill:#ff7f0e;\"/>\r\n    </g>\r\n    <g id=\"text_9\">\r\n     <!-- 2 Years -->\r\n     <g transform=\"translate(400.665937 38.476562)scale(0.1 -0.1)\">\r\n      <use xlink:href=\"#DejaVuSans-50\"/>\r\n      <use x=\"63.623047\" xlink:href=\"#DejaVuSans-32\"/>\r\n      <use x=\"95.410156\" xlink:href=\"#DejaVuSans-89\"/>\r\n      <use x=\"143.244141\" xlink:href=\"#DejaVuSans-101\"/>\r\n      <use x=\"204.767578\" xlink:href=\"#DejaVuSans-97\"/>\r\n      <use x=\"266.046875\" xlink:href=\"#DejaVuSans-114\"/>\r\n      <use x=\"307.160156\" xlink:href=\"#DejaVuSans-115\"/>\r\n     </g>\r\n    </g>\r\n    <g id=\"patch_11\">\r\n     <path d=\"M 372.665937 53.154687 \r\nL 392.665937 53.154687 \r\nL 392.665937 46.154687 \r\nL 372.665937 46.154687 \r\nz\r\n\" style=\"fill:#2ca02c;\"/>\r\n    </g>\r\n    <g id=\"text_10\">\r\n     <!-- 3 Months -->\r\n     <g transform=\"translate(400.665937 53.154687)scale(0.1 -0.1)\">\r\n      <use xlink:href=\"#DejaVuSans-51\"/>\r\n      <use x=\"63.623047\" xlink:href=\"#DejaVuSans-32\"/>\r\n      <use x=\"95.410156\" xlink:href=\"#DejaVuSans-77\"/>\r\n      <use x=\"181.689453\" xlink:href=\"#DejaVuSans-111\"/>\r\n      <use x=\"242.871094\" xlink:href=\"#DejaVuSans-110\"/>\r\n      <use x=\"306.25\" xlink:href=\"#DejaVuSans-116\"/>\r\n      <use x=\"345.458984\" xlink:href=\"#DejaVuSans-104\"/>\r\n      <use x=\"408.837891\" xlink:href=\"#DejaVuSans-115\"/>\r\n     </g>\r\n    </g>\r\n    <g id=\"patch_12\">\r\n     <path d=\"M 372.665937 67.832812 \r\nL 392.665937 67.832812 \r\nL 392.665937 60.832812 \r\nL 372.665937 60.832812 \r\nz\r\n\" style=\"fill:#d62728;\"/>\r\n    </g>\r\n    <g id=\"text_11\">\r\n     <!-- 3 Years -->\r\n     <g transform=\"translate(400.665937 67.832812)scale(0.1 -0.1)\">\r\n      <use xlink:href=\"#DejaVuSans-51\"/>\r\n      <use x=\"63.623047\" xlink:href=\"#DejaVuSans-32\"/>\r\n      <use x=\"95.410156\" xlink:href=\"#DejaVuSans-89\"/>\r\n      <use x=\"143.244141\" xlink:href=\"#DejaVuSans-101\"/>\r\n      <use x=\"204.767578\" xlink:href=\"#DejaVuSans-97\"/>\r\n      <use x=\"266.046875\" xlink:href=\"#DejaVuSans-114\"/>\r\n      <use x=\"307.160156\" xlink:href=\"#DejaVuSans-115\"/>\r\n     </g>\r\n    </g>\r\n    <g id=\"patch_13\">\r\n     <path d=\"M 372.665937 82.510937 \r\nL 392.665937 82.510937 \r\nL 392.665937 75.510937 \r\nL 372.665937 75.510937 \r\nz\r\n\" style=\"fill:#9467bd;\"/>\r\n    </g>\r\n    <g id=\"text_12\">\r\n     <!-- 30 Days -->\r\n     <g transform=\"translate(400.665937 82.510937)scale(0.1 -0.1)\">\r\n      <use xlink:href=\"#DejaVuSans-51\"/>\r\n      <use x=\"63.623047\" xlink:href=\"#DejaVuSans-48\"/>\r\n      <use x=\"127.246094\" xlink:href=\"#DejaVuSans-32\"/>\r\n      <use x=\"159.033203\" xlink:href=\"#DejaVuSans-68\"/>\r\n      <use x=\"236.035156\" xlink:href=\"#DejaVuSans-97\"/>\r\n      <use x=\"297.314453\" xlink:href=\"#DejaVuSans-121\"/>\r\n      <use x=\"356.494141\" xlink:href=\"#DejaVuSans-115\"/>\r\n     </g>\r\n    </g>\r\n    <g id=\"patch_14\">\r\n     <path d=\"M 372.665937 97.189062 \r\nL 392.665937 97.189062 \r\nL 392.665937 90.189062 \r\nL 372.665937 90.189062 \r\nz\r\n\" style=\"fill:#8c564b;\"/>\r\n    </g>\r\n    <g id=\"text_13\">\r\n     <!-- 6 Months -->\r\n     <g transform=\"translate(400.665937 97.189062)scale(0.1 -0.1)\">\r\n      <use xlink:href=\"#DejaVuSans-54\"/>\r\n      <use x=\"63.623047\" xlink:href=\"#DejaVuSans-32\"/>\r\n      <use x=\"95.410156\" xlink:href=\"#DejaVuSans-77\"/>\r\n      <use x=\"181.689453\" xlink:href=\"#DejaVuSans-111\"/>\r\n      <use x=\"242.871094\" xlink:href=\"#DejaVuSans-110\"/>\r\n      <use x=\"306.25\" xlink:href=\"#DejaVuSans-116\"/>\r\n      <use x=\"345.458984\" xlink:href=\"#DejaVuSans-104\"/>\r\n      <use x=\"408.837891\" xlink:href=\"#DejaVuSans-115\"/>\r\n     </g>\r\n    </g>\r\n   </g>\r\n  </g>\r\n </g>\r\n</svg>\r\n",
      "image/png": "[encoded data removed]"
     },
     "metadata": {}
    }
   ],
   "source": [
    "# Subscription quantity per subscription type\n",
    "atlas.groupby([\"Subscription\"]).mean().plot.pie(x=\"Customers\", y=\"Invoice Amount\", figsize=(8, 8))\n",
    "# TODO Subscription count per subscription type\n",
    "\n",
    "# TODO hvplot forall\n",
    "\n",
    "# TODO use new data (removes 18months 5months)"
   ]
  },
  {
   "cell_type": "code",
   "execution_count": null,
   "metadata": {},
   "outputs": [],
   "source": []
  },
  {
   "cell_type": "code",
   "execution_count": 1,
   "metadata": {},
   "outputs": [
    {
     "output_type": "error",
     "ename": "NameError",
     "evalue": "name 'atlas_ymq' is not defined",
     "traceback": [
      "\u001b[1;31m---------------------------------------------------------------------------\u001b[0m",
      "\u001b[1;31mNameError\u001b[0m                                 Traceback (most recent call last)",
      "\u001b[1;32m<ipython-input-1-0f61eb5d29ac>\u001b[0m in \u001b[0;36m<module>\u001b[1;34m\u001b[0m\n\u001b[0;32m      1\u001b[0m \u001b[1;31m# Subscription quantity per subscription type\u001b[0m\u001b[1;33m\u001b[0m\u001b[1;33m\u001b[0m\u001b[1;33m\u001b[0m\u001b[0m\n\u001b[1;32m----> 2\u001b[1;33m \u001b[0matlas_grouped__year_subscription__mean\u001b[0m  \u001b[1;33m=\u001b[0m \u001b[0matlas_ymq\u001b[0m\u001b[1;33m.\u001b[0m\u001b[0mgroupby\u001b[0m\u001b[1;33m(\u001b[0m\u001b[1;33m[\u001b[0m\u001b[1;34m\"Year\"\u001b[0m\u001b[1;33m,\u001b[0m \u001b[1;34m\"Subscription\"\u001b[0m\u001b[1;33m]\u001b[0m\u001b[1;33m)\u001b[0m\u001b[1;33m.\u001b[0m\u001b[0msum\u001b[0m\u001b[1;33m(\u001b[0m\u001b[1;33m)\u001b[0m\u001b[1;33m[\u001b[0m\u001b[1;34m\"Invoice Amount\"\u001b[0m\u001b[1;33m]\u001b[0m\u001b[1;33m.\u001b[0m\u001b[0mto_frame\u001b[0m\u001b[1;33m(\u001b[0m\u001b[1;33m)\u001b[0m\u001b[1;33m\u001b[0m\u001b[1;33m\u001b[0m\u001b[0m\n\u001b[0m\u001b[0;32m      3\u001b[0m \u001b[0matlas_grouped__year_subscription__sum\u001b[0m   \u001b[1;33m=\u001b[0m \u001b[0matlas_ymq\u001b[0m\u001b[1;33m.\u001b[0m\u001b[0mgroupby\u001b[0m\u001b[1;33m(\u001b[0m\u001b[1;33m[\u001b[0m\u001b[1;34m\"Year\"\u001b[0m\u001b[1;33m,\u001b[0m \u001b[1;34m\"Subscription\"\u001b[0m\u001b[1;33m]\u001b[0m\u001b[1;33m)\u001b[0m\u001b[1;33m.\u001b[0m\u001b[0msum\u001b[0m\u001b[1;33m(\u001b[0m\u001b[1;33m)\u001b[0m\u001b[1;33m[\u001b[0m\u001b[1;34m\"Invoice Amount\"\u001b[0m\u001b[1;33m]\u001b[0m\u001b[1;33m.\u001b[0m\u001b[0mto_frame\u001b[0m\u001b[1;33m(\u001b[0m\u001b[1;33m)\u001b[0m\u001b[1;33m\u001b[0m\u001b[1;33m\u001b[0m\u001b[0m\n\u001b[0;32m      4\u001b[0m \u001b[0matlas_grouped__year_subscription__count\u001b[0m \u001b[1;33m=\u001b[0m \u001b[0matlas_ymq\u001b[0m\u001b[1;33m.\u001b[0m\u001b[0mgroupby\u001b[0m\u001b[1;33m(\u001b[0m\u001b[1;33m[\u001b[0m\u001b[1;34m\"Year\"\u001b[0m\u001b[1;33m,\u001b[0m \u001b[1;34m\"Subscription\"\u001b[0m\u001b[1;33m]\u001b[0m\u001b[1;33m)\u001b[0m\u001b[1;33m.\u001b[0m\u001b[0mcount\u001b[0m\u001b[1;33m(\u001b[0m\u001b[1;33m)\u001b[0m\u001b[1;33m[\u001b[0m\u001b[1;34m\"Invoice Amount\"\u001b[0m\u001b[1;33m]\u001b[0m\u001b[1;33m.\u001b[0m\u001b[0mto_frame\u001b[0m\u001b[1;33m(\u001b[0m\u001b[1;33m)\u001b[0m\u001b[1;33m\u001b[0m\u001b[1;33m\u001b[0m\u001b[0m\n\u001b[0;32m      5\u001b[0m \u001b[1;33m\u001b[0m\u001b[0m\n",
      "\u001b[1;31mNameError\u001b[0m: name 'atlas_ymq' is not defined"
     ]
    }
   ],
   "source": [
    "# Subscription quantity per subscription type\n",
    "atlas_grouped__year_subscription__mean  = atlas_ymq.groupby([\"Year\", \"Subscription\"]).sum()[\"Invoice Amount\"].to_frame()\n",
    "atlas_grouped__year_subscription__sum   = atlas_ymq.groupby([\"Year\", \"Subscription\"]).sum()[\"Invoice Amount\"].to_frame()\n",
    "atlas_grouped__year_subscription__count = atlas_ymq.groupby([\"Year\", \"Subscription\"]).count()[\"Invoice Amount\"].to_frame()\n",
    "\n",
    "plt__atlas_grouped__year_subscription__mean = tool_plot_building.generate_plot__px_bar(\n",
    "    data=atlas_grouped__year_subscription__mean.reset_index(),\n",
    "    x=\"Year\",\n",
    "    y=\"Invoice Amount\",\n",
    "    color=\"Subscription\",\n",
    "    title=\"Avg. Invoice per Subscription: 2015 - 2020\",\n",
    "    ylabel=\"Invoice Amount ($)\",\n",
    "    barmode=\"group\", width=800, height=400\n",
    "    )\n",
    "\n",
    "plt__atlas_grouped__year_subscription__sum = tool_plot_building.generate_plot__px_bar(\n",
    "    data=atlas_grouped__year_subscription__sum.reset_index(),\n",
    "    x=\"Year\",\n",
    "    y=\"Invoice Amount\",\n",
    "    color=\"Subscription\",\n",
    "    title=\"Total Invoice Amount per Subscription: 2015 - 2020\",\n",
    "    ylabel=\"Invoice Amount ($)\",\n",
    "    barmode=\"group\", width=800, height=400\n",
    "    )\n",
    "\n",
    "plt__atlas_grouped__year_subscription__count = tool_plot_building.generate_plot__px_bar(\n",
    "    data=atlas_grouped__year_subscription__count.reset_index(),\n",
    "    x=\"Year\",\n",
    "    y=\"Invoice Amount\",\n",
    "    color=\"Subscription\",\n",
    "    title=\"Nbr. Invoices per Subscription: 2015 - 2020\",\n",
    "    ylabel=\"Nbr. of Invoices\",\n",
    "    barmode=\"group\", width=800, height=400\n",
    "    )\n",
    "\n",
    "pn.Column(\n",
    "    plt__atlas_grouped__year_subscription__mean.show(),\n",
    "    plt__atlas_grouped__year_subscription__sum.show(),\n",
    "    plt__atlas_grouped__year_subscription__count.show()\n",
    ")\n",
    "\n",
    "\n",
    "\n",
    "# plt__atlas_grouped__year_subscription__count.show()\n",
    "\n",
    "# .plot.pie(x=\"Customers\", y=\"Invoice Amount\", figsize=(8, 8))\n",
    "\n",
    "\n",
    "# TODO Subscription count per subscription type\n",
    "\n",
    "# TODO hvplot forall\n",
    "\n",
    "# TODO use new data (removes 18months 5months)\n"
   ]
  },
  {
   "cell_type": "code",
   "execution_count": 16,
   "metadata": {},
   "outputs": [
    {
     "output_type": "display_data",
     "data": {
      "application/vnd.plotly.v1+json": {
       "config": {
        "plotlyServerURL": "https://plot.ly"
       },
       "data": [
        {
         "alignmentgroup": "True",
         "hovertemplate": "Subscription=1 Year<br>Year=%{x}<br>Invoice Amount=%{y}<extra></extra>",
         "legendgroup": "1 Year",
         "marker": {
          "color": "#636efa"
         },
         "name": "1 Year",
         "offsetgroup": "1 Year",
         "orientation": "v",
         "showlegend": true,
         "textposition": "auto",
         "type": "bar",
         "x": [
          2015,
          2016,
          2017,
          2018,
          2019,
          2020
         ],
         "xaxis": "x",
         "y": [
          137350,
          204216.66999999998,
          205366.66999999998,
          168576.66999999998,
          136993.43,
          714231.95
         ],
         "yaxis": "y"
        },
        {
         "alignmentgroup": "True",
         "hovertemplate": "Subscription=3 Years<br>Year=%{x}<br>Invoice Amount=%{y}<extra></extra>",
         "legendgroup": "3 Years",
         "marker": {
          "color": "#EF553B"
         },
         "name": "3 Years",
         "offsetgroup": "3 Years",
         "orientation": "v",
         "showlegend": true,
         "textposition": "auto",
         "type": "bar",
         "x": [
          2016,
          2017,
          2018,
          2019,
          2020
         ],
         "xaxis": "x",
         "y": [
          92500,
          131039,
          70630,
          72245,
          124752
         ],
         "yaxis": "y"
        },
        {
         "alignmentgroup": "True",
         "hovertemplate": "Subscription=2 Years<br>Year=%{x}<br>Invoice Amount=%{y}<extra></extra>",
         "legendgroup": "2 Years",
         "marker": {
          "color": "#00cc96"
         },
         "name": "2 Years",
         "offsetgroup": "2 Years",
         "orientation": "v",
         "showlegend": true,
         "textposition": "auto",
         "type": "bar",
         "x": [
          2017,
          2020
         ],
         "xaxis": "x",
         "y": [
          13500,
          16000
         ],
         "yaxis": "y"
        },
        {
         "alignmentgroup": "True",
         "hovertemplate": "Subscription=6 Months<br>Year=%{x}<br>Invoice Amount=%{y}<extra></extra>",
         "legendgroup": "6 Months",
         "marker": {
          "color": "#ab63fa"
         },
         "name": "6 Months",
         "offsetgroup": "6 Months",
         "orientation": "v",
         "showlegend": true,
         "textposition": "auto",
         "type": "bar",
         "x": [
          2019,
          2020
         ],
         "xaxis": "x",
         "y": [
          1250,
          66051
         ],
         "yaxis": "y"
        },
        {
         "alignmentgroup": "True",
         "hovertemplate": "Subscription=3 Months<br>Year=%{x}<br>Invoice Amount=%{y}<extra></extra>",
         "legendgroup": "3 Months",
         "marker": {
          "color": "#FFA15A"
         },
         "name": "3 Months",
         "offsetgroup": "3 Months",
         "orientation": "v",
         "showlegend": true,
         "textposition": "auto",
         "type": "bar",
         "x": [
          2020
         ],
         "xaxis": "x",
         "y": [
          125603.84
         ],
         "yaxis": "y"
        }
       ],
       "layout": {
        "barmode": "group",
        "height": 400,
        "legend": {
         "title": {
          "text": "Subscription"
         },
         "tracegroupgap": 0
        },
        "template": {
         "data": {
          "bar": [
           {
            "error_x": {
             "color": "#2a3f5f"
            },
            "error_y": {
             "color": "#2a3f5f"
            },
            "marker": {
             "line": {
              "color": "#E5ECF6",
              "width": 0.5
             }
            },
            "type": "bar"
           }
          ],
          "barpolar": [
           {
            "marker": {
             "line": {
              "color": "#E5ECF6",
              "width": 0.5
             }
            },
            "type": "barpolar"
           }
          ],
          "carpet": [
           {
            "aaxis": {
             "endlinecolor": "#2a3f5f",
             "gridcolor": "white",
             "linecolor": "white",
             "minorgridcolor": "white",
             "startlinecolor": "#2a3f5f"
            },
            "baxis": {
             "endlinecolor": "#2a3f5f",
             "gridcolor": "white",
             "linecolor": "white",
             "minorgridcolor": "white",
             "startlinecolor": "#2a3f5f"
            },
            "type": "carpet"
           }
          ],
          "choropleth": [
           {
            "colorbar": {
             "outlinewidth": 0,
             "ticks": ""
            },
            "type": "choropleth"
           }
          ],
          "contour": [
           {
            "colorbar": {
             "outlinewidth": 0,
             "ticks": ""
            },
            "colorscale": [
             [
              0,
              "#0d0887"
             ],
             [
              0.1111111111111111,
              "#46039f"
             ],
             [
              0.2222222222222222,
              "#7201a8"
             ],
             [
              0.3333333333333333,
              "#9c179e"
             ],
             [
              0.4444444444444444,
              "#bd3786"
             ],
             [
              0.5555555555555556,
              "#d8576b"
             ],
             [
              0.6666666666666666,
              "#ed7953"
             ],
             [
              0.7777777777777778,
              "#fb9f3a"
             ],
             [
              0.8888888888888888,
              "#fdca26"
             ],
             [
              1,
              "#f0f921"
             ]
            ],
            "type": "contour"
           }
          ],
          "contourcarpet": [
           {
            "colorbar": {
             "outlinewidth": 0,
             "ticks": ""
            },
            "type": "contourcarpet"
           }
          ],
          "heatmap": [
           {
            "colorbar": {
             "outlinewidth": 0,
             "ticks": ""
            },
            "colorscale": [
             [
              0,
              "#0d0887"
             ],
             [
              0.1111111111111111,
              "#46039f"
             ],
             [
              0.2222222222222222,
              "#7201a8"
             ],
             [
              0.3333333333333333,
              "#9c179e"
             ],
             [
              0.4444444444444444,
              "#bd3786"
             ],
             [
              0.5555555555555556,
              "#d8576b"
             ],
             [
              0.6666666666666666,
              "#ed7953"
             ],
             [
              0.7777777777777778,
              "#fb9f3a"
             ],
             [
              0.8888888888888888,
              "#fdca26"
             ],
             [
              1,
              "#f0f921"
             ]
            ],
            "type": "heatmap"
           }
          ],
          "heatmapgl": [
           {
            "colorbar": {
             "outlinewidth": 0,
             "ticks": ""
            },
            "colorscale": [
             [
              0,
              "#0d0887"
             ],
             [
              0.1111111111111111,
              "#46039f"
             ],
             [
              0.2222222222222222,
              "#7201a8"
             ],
             [
              0.3333333333333333,
              "#9c179e"
             ],
             [
              0.4444444444444444,
              "#bd3786"
             ],
             [
              0.5555555555555556,
              "#d8576b"
             ],
             [
              0.6666666666666666,
              "#ed7953"
             ],
             [
              0.7777777777777778,
              "#fb9f3a"
             ],
             [
              0.8888888888888888,
              "#fdca26"
             ],
             [
              1,
              "#f0f921"
             ]
            ],
            "type": "heatmapgl"
           }
          ],
          "histogram": [
           {
            "marker": {
             "colorbar": {
              "outlinewidth": 0,
              "ticks": ""
             }
            },
            "type": "histogram"
           }
          ],
          "histogram2d": [
           {
            "colorbar": {
             "outlinewidth": 0,
             "ticks": ""
            },
            "colorscale": [
             [
              0,
              "#0d0887"
             ],
             [
              0.1111111111111111,
              "#46039f"
             ],
             [
              0.2222222222222222,
              "#7201a8"
             ],
             [
              0.3333333333333333,
              "#9c179e"
             ],
             [
              0.4444444444444444,
              "#bd3786"
             ],
             [
              0.5555555555555556,
              "#d8576b"
             ],
             [
              0.6666666666666666,
              "#ed7953"
             ],
             [
              0.7777777777777778,
              "#fb9f3a"
             ],
             [
              0.8888888888888888,
              "#fdca26"
             ],
             [
              1,
              "#f0f921"
             ]
            ],
            "type": "histogram2d"
           }
          ],
          "histogram2dcontour": [
           {
            "colorbar": {
             "outlinewidth": 0,
             "ticks": ""
            },
            "colorscale": [
             [
              0,
              "#0d0887"
             ],
             [
              0.1111111111111111,
              "#46039f"
             ],
             [
              0.2222222222222222,
              "#7201a8"
             ],
             [
              0.3333333333333333,
              "#9c179e"
             ],
             [
              0.4444444444444444,
              "#bd3786"
             ],
             [
              0.5555555555555556,
              "#d8576b"
             ],
             [
              0.6666666666666666,
              "#ed7953"
             ],
             [
              0.7777777777777778,
              "#fb9f3a"
             ],
             [
              0.8888888888888888,
              "#fdca26"
             ],
             [
              1,
              "#f0f921"
             ]
            ],
            "type": "histogram2dcontour"
           }
          ],
          "mesh3d": [
           {
            "colorbar": {
             "outlinewidth": 0,
             "ticks": ""
            },
            "type": "mesh3d"
           }
          ],
          "parcoords": [
           {
            "line": {
             "colorbar": {
              "outlinewidth": 0,
              "ticks": ""
             }
            },
            "type": "parcoords"
           }
          ],
          "pie": [
           {
            "automargin": true,
            "type": "pie"
           }
          ],
          "scatter": [
           {
            "marker": {
             "colorbar": {
              "outlinewidth": 0,
              "ticks": ""
             }
            },
            "type": "scatter"
           }
          ],
          "scatter3d": [
           {
            "line": {
             "colorbar": {
              "outlinewidth": 0,
              "ticks": ""
             }
            },
            "marker": {
             "colorbar": {
              "outlinewidth": 0,
              "ticks": ""
             }
            },
            "type": "scatter3d"
           }
          ],
          "scattercarpet": [
           {
            "marker": {
             "colorbar": {
              "outlinewidth": 0,
              "ticks": ""
             }
            },
            "type": "scattercarpet"
           }
          ],
          "scattergeo": [
           {
            "marker": {
             "colorbar": {
              "outlinewidth": 0,
              "ticks": ""
             }
            },
            "type": "scattergeo"
           }
          ],
          "scattergl": [
           {
            "marker": {
             "colorbar": {
              "outlinewidth": 0,
              "ticks": ""
             }
            },
            "type": "scattergl"
           }
          ],
          "scattermapbox": [
           {
            "marker": {
             "colorbar": {
              "outlinewidth": 0,
              "ticks": ""
             }
            },
            "type": "scattermapbox"
           }
          ],
          "scatterpolar": [
           {
            "marker": {
             "colorbar": {
              "outlinewidth": 0,
              "ticks": ""
             }
            },
            "type": "scatterpolar"
           }
          ],
          "scatterpolargl": [
           {
            "marker": {
             "colorbar": {
              "outlinewidth": 0,
              "ticks": ""
             }
            },
            "type": "scatterpolargl"
           }
          ],
          "scatterternary": [
           {
            "marker": {
             "colorbar": {
              "outlinewidth": 0,
              "ticks": ""
             }
            },
            "type": "scatterternary"
           }
          ],
          "surface": [
           {
            "colorbar": {
             "outlinewidth": 0,
             "ticks": ""
            },
            "colorscale": [
             [
              0,
              "#0d0887"
             ],
             [
              0.1111111111111111,
              "#46039f"
             ],
             [
              0.2222222222222222,
              "#7201a8"
             ],
             [
              0.3333333333333333,
              "#9c179e"
             ],
             [
              0.4444444444444444,
              "#bd3786"
             ],
             [
              0.5555555555555556,
              "#d8576b"
             ],
             [
              0.6666666666666666,
              "#ed7953"
             ],
             [
              0.7777777777777778,
              "#fb9f3a"
             ],
             [
              0.8888888888888888,
              "#fdca26"
             ],
             [
              1,
              "#f0f921"
             ]
            ],
            "type": "surface"
           }
          ],
          "table": [
           {
            "cells": {
             "fill": {
              "color": "#EBF0F8"
             },
             "line": {
              "color": "white"
             }
            },
            "header": {
             "fill": {
              "color": "#C8D4E3"
             },
             "line": {
              "color": "white"
             }
            },
            "type": "table"
           }
          ]
         },
         "layout": {
          "annotationdefaults": {
           "arrowcolor": "#2a3f5f",
           "arrowhead": 0,
           "arrowwidth": 1
          },
          "coloraxis": {
           "colorbar": {
            "outlinewidth": 0,
            "ticks": ""
           }
          },
          "colorscale": {
           "diverging": [
            [
             0,
             "#8e0152"
            ],
            [
             0.1,
             "#c51b7d"
            ],
            [
             0.2,
             "#de77ae"
            ],
            [
             0.3,
             "#f1b6da"
            ],
            [
             0.4,
             "#fde0ef"
            ],
            [
             0.5,
             "#f7f7f7"
            ],
            [
             0.6,
             "#e6f5d0"
            ],
            [
             0.7,
             "#b8e186"
            ],
            [
             0.8,
             "#7fbc41"
            ],
            [
             0.9,
             "#4d9221"
            ],
            [
             1,
             "#276419"
            ]
           ],
           "sequential": [
            [
             0,
             "#0d0887"
            ],
            [
             0.1111111111111111,
             "#46039f"
            ],
            [
             0.2222222222222222,
             "#7201a8"
            ],
            [
             0.3333333333333333,
             "#9c179e"
            ],
            [
             0.4444444444444444,
             "#bd3786"
            ],
            [
             0.5555555555555556,
             "#d8576b"
            ],
            [
             0.6666666666666666,
             "#ed7953"
            ],
            [
             0.7777777777777778,
             "#fb9f3a"
            ],
            [
             0.8888888888888888,
             "#fdca26"
            ],
            [
             1,
             "#f0f921"
            ]
           ],
           "sequentialminus": [
            [
             0,
             "#0d0887"
            ],
            [
             0.1111111111111111,
             "#46039f"
            ],
            [
             0.2222222222222222,
             "#7201a8"
            ],
            [
             0.3333333333333333,
             "#9c179e"
            ],
            [
             0.4444444444444444,
             "#bd3786"
            ],
            [
             0.5555555555555556,
             "#d8576b"
            ],
            [
             0.6666666666666666,
             "#ed7953"
            ],
            [
             0.7777777777777778,
             "#fb9f3a"
            ],
            [
             0.8888888888888888,
             "#fdca26"
            ],
            [
             1,
             "#f0f921"
            ]
           ]
          },
          "colorway": [
           "#636efa",
           "#EF553B",
           "#00cc96",
           "#ab63fa",
           "#FFA15A",
           "#19d3f3",
           "#FF6692",
           "#B6E880",
           "#FF97FF",
           "#FECB52"
          ],
          "font": {
           "color": "#2a3f5f"
          },
          "geo": {
           "bgcolor": "white",
           "lakecolor": "white",
           "landcolor": "#E5ECF6",
           "showlakes": true,
           "showland": true,
           "subunitcolor": "white"
          },
          "hoverlabel": {
           "align": "left"
          },
          "hovermode": "closest",
          "mapbox": {
           "style": "light"
          },
          "paper_bgcolor": "white",
          "plot_bgcolor": "#E5ECF6",
          "polar": {
           "angularaxis": {
            "gridcolor": "white",
            "linecolor": "white",
            "ticks": ""
           },
           "bgcolor": "#E5ECF6",
           "radialaxis": {
            "gridcolor": "white",
            "linecolor": "white",
            "ticks": ""
           }
          },
          "scene": {
           "xaxis": {
            "backgroundcolor": "#E5ECF6",
            "gridcolor": "white",
            "gridwidth": 2,
            "linecolor": "white",
            "showbackground": true,
            "ticks": "",
            "zerolinecolor": "white"
           },
           "yaxis": {
            "backgroundcolor": "#E5ECF6",
            "gridcolor": "white",
            "gridwidth": 2,
            "linecolor": "white",
            "showbackground": true,
            "ticks": "",
            "zerolinecolor": "white"
           },
           "zaxis": {
            "backgroundcolor": "#E5ECF6",
            "gridcolor": "white",
            "gridwidth": 2,
            "linecolor": "white",
            "showbackground": true,
            "ticks": "",
            "zerolinecolor": "white"
           }
          },
          "shapedefaults": {
           "line": {
            "color": "#2a3f5f"
           }
          },
          "ternary": {
           "aaxis": {
            "gridcolor": "white",
            "linecolor": "white",
            "ticks": ""
           },
           "baxis": {
            "gridcolor": "white",
            "linecolor": "white",
            "ticks": ""
           },
           "bgcolor": "#E5ECF6",
           "caxis": {
            "gridcolor": "white",
            "linecolor": "white",
            "ticks": ""
           }
          },
          "title": {
           "x": 0.05
          },
          "xaxis": {
           "automargin": true,
           "gridcolor": "white",
           "linecolor": "white",
           "ticks": "",
           "title": {
            "standoff": 15
           },
           "zerolinecolor": "white",
           "zerolinewidth": 2
          },
          "yaxis": {
           "automargin": true,
           "gridcolor": "white",
           "linecolor": "white",
           "ticks": "",
           "title": {
            "standoff": 15
           },
           "zerolinecolor": "white",
           "zerolinewidth": 2
          }
         }
        },
        "title": {
         "text": "Avg. Invoice per Subscription: 2015 - 2020"
        },
        "width": 800,
        "xaxis": {
         "anchor": "y",
         "domain": [
          0,
          1
         ],
         "title": {
          "text": "Year"
         }
        },
        "yaxis": {
         "anchor": "x",
         "domain": [
          0,
          1
         ],
         "title": {
          "text": "Invoice Amount ($)"
         }
        }
       }
      }
     },
     "metadata": {}
    }
   ],
   "source": [
    "plt__atlas_grouped__year_subscription__mean"
   ]
  },
  {
   "cell_type": "code",
   "execution_count": 17,
   "metadata": {},
   "outputs": [
    {
     "output_type": "display_data",
     "data": {
      "application/vnd.plotly.v1+json": {
       "config": {
        "plotlyServerURL": "https://plot.ly"
       },
       "data": [
        {
         "alignmentgroup": "True",
         "hovertemplate": "Subscription=1 Year<br>Year=%{x}<br>Invoice Amount=%{y}<extra></extra>",
         "legendgroup": "1 Year",
         "marker": {
          "color": "#636efa"
         },
         "name": "1 Year",
         "offsetgroup": "1 Year",
         "orientation": "v",
         "showlegend": true,
         "textposition": "auto",
         "type": "bar",
         "x": [
          2015,
          2016,
          2017,
          2018,
          2019,
          2020
         ],
         "xaxis": "x",
         "y": [
          137350,
          204216.66999999998,
          205366.66999999998,
          168576.66999999998,
          136993.43,
          714231.95
         ],
         "yaxis": "y"
        },
        {
         "alignmentgroup": "True",
         "hovertemplate": "Subscription=3 Years<br>Year=%{x}<br>Invoice Amount=%{y}<extra></extra>",
         "legendgroup": "3 Years",
         "marker": {
          "color": "#EF553B"
         },
         "name": "3 Years",
         "offsetgroup": "3 Years",
         "orientation": "v",
         "showlegend": true,
         "textposition": "auto",
         "type": "bar",
         "x": [
          2016,
          2017,
          2018,
          2019,
          2020
         ],
         "xaxis": "x",
         "y": [
          92500,
          131039,
          70630,
          72245,
          124752
         ],
         "yaxis": "y"
        },
        {
         "alignmentgroup": "True",
         "hovertemplate": "Subscription=2 Years<br>Year=%{x}<br>Invoice Amount=%{y}<extra></extra>",
         "legendgroup": "2 Years",
         "marker": {
          "color": "#00cc96"
         },
         "name": "2 Years",
         "offsetgroup": "2 Years",
         "orientation": "v",
         "showlegend": true,
         "textposition": "auto",
         "type": "bar",
         "x": [
          2017,
          2020
         ],
         "xaxis": "x",
         "y": [
          13500,
          16000
         ],
         "yaxis": "y"
        },
        {
         "alignmentgroup": "True",
         "hovertemplate": "Subscription=6 Months<br>Year=%{x}<br>Invoice Amount=%{y}<extra></extra>",
         "legendgroup": "6 Months",
         "marker": {
          "color": "#ab63fa"
         },
         "name": "6 Months",
         "offsetgroup": "6 Months",
         "orientation": "v",
         "showlegend": true,
         "textposition": "auto",
         "type": "bar",
         "x": [
          2019,
          2020
         ],
         "xaxis": "x",
         "y": [
          1250,
          66051
         ],
         "yaxis": "y"
        },
        {
         "alignmentgroup": "True",
         "hovertemplate": "Subscription=3 Months<br>Year=%{x}<br>Invoice Amount=%{y}<extra></extra>",
         "legendgroup": "3 Months",
         "marker": {
          "color": "#FFA15A"
         },
         "name": "3 Months",
         "offsetgroup": "3 Months",
         "orientation": "v",
         "showlegend": true,
         "textposition": "auto",
         "type": "bar",
         "x": [
          2020
         ],
         "xaxis": "x",
         "y": [
          125603.84
         ],
         "yaxis": "y"
        }
       ],
       "layout": {
        "barmode": "group",
        "height": 400,
        "legend": {
         "title": {
          "text": "Subscription"
         },
         "tracegroupgap": 0
        },
        "template": {
         "data": {
          "bar": [
           {
            "error_x": {
             "color": "#2a3f5f"
            },
            "error_y": {
             "color": "#2a3f5f"
            },
            "marker": {
             "line": {
              "color": "#E5ECF6",
              "width": 0.5
             }
            },
            "type": "bar"
           }
          ],
          "barpolar": [
           {
            "marker": {
             "line": {
              "color": "#E5ECF6",
              "width": 0.5
             }
            },
            "type": "barpolar"
           }
          ],
          "carpet": [
           {
            "aaxis": {
             "endlinecolor": "#2a3f5f",
             "gridcolor": "white",
             "linecolor": "white",
             "minorgridcolor": "white",
             "startlinecolor": "#2a3f5f"
            },
            "baxis": {
             "endlinecolor": "#2a3f5f",
             "gridcolor": "white",
             "linecolor": "white",
             "minorgridcolor": "white",
             "startlinecolor": "#2a3f5f"
            },
            "type": "carpet"
           }
          ],
          "choropleth": [
           {
            "colorbar": {
             "outlinewidth": 0,
             "ticks": ""
            },
            "type": "choropleth"
           }
          ],
          "contour": [
           {
            "colorbar": {
             "outlinewidth": 0,
             "ticks": ""
            },
            "colorscale": [
             [
              0,
              "#0d0887"
             ],
             [
              0.1111111111111111,
              "#46039f"
             ],
             [
              0.2222222222222222,
              "#7201a8"
             ],
             [
              0.3333333333333333,
              "#9c179e"
             ],
             [
              0.4444444444444444,
              "#bd3786"
             ],
             [
              0.5555555555555556,
              "#d8576b"
             ],
             [
              0.6666666666666666,
              "#ed7953"
             ],
             [
              0.7777777777777778,
              "#fb9f3a"
             ],
             [
              0.8888888888888888,
              "#fdca26"
             ],
             [
              1,
              "#f0f921"
             ]
            ],
            "type": "contour"
           }
          ],
          "contourcarpet": [
           {
            "colorbar": {
             "outlinewidth": 0,
             "ticks": ""
            },
            "type": "contourcarpet"
           }
          ],
          "heatmap": [
           {
            "colorbar": {
             "outlinewidth": 0,
             "ticks": ""
            },
            "colorscale": [
             [
              0,
              "#0d0887"
             ],
             [
              0.1111111111111111,
              "#46039f"
             ],
             [
              0.2222222222222222,
              "#7201a8"
             ],
             [
              0.3333333333333333,
              "#9c179e"
             ],
             [
              0.4444444444444444,
              "#bd3786"
             ],
             [
              0.5555555555555556,
              "#d8576b"
             ],
             [
              0.6666666666666666,
              "#ed7953"
             ],
             [
              0.7777777777777778,
              "#fb9f3a"
             ],
             [
              0.8888888888888888,
              "#fdca26"
             ],
             [
              1,
              "#f0f921"
             ]
            ],
            "type": "heatmap"
           }
          ],
          "heatmapgl": [
           {
            "colorbar": {
             "outlinewidth": 0,
             "ticks": ""
            },
            "colorscale": [
             [
              0,
              "#0d0887"
             ],
             [
              0.1111111111111111,
              "#46039f"
             ],
             [
              0.2222222222222222,
              "#7201a8"
             ],
             [
              0.3333333333333333,
              "#9c179e"
             ],
             [
              0.4444444444444444,
              "#bd3786"
             ],
             [
              0.5555555555555556,
              "#d8576b"
             ],
             [
              0.6666666666666666,
              "#ed7953"
             ],
             [
              0.7777777777777778,
              "#fb9f3a"
             ],
             [
              0.8888888888888888,
              "#fdca26"
             ],
             [
              1,
              "#f0f921"
             ]
            ],
            "type": "heatmapgl"
           }
          ],
          "histogram": [
           {
            "marker": {
             "colorbar": {
              "outlinewidth": 0,
              "ticks": ""
             }
            },
            "type": "histogram"
           }
          ],
          "histogram2d": [
           {
            "colorbar": {
             "outlinewidth": 0,
             "ticks": ""
            },
            "colorscale": [
             [
              0,
              "#0d0887"
             ],
             [
              0.1111111111111111,
              "#46039f"
             ],
             [
              0.2222222222222222,
              "#7201a8"
             ],
             [
              0.3333333333333333,
              "#9c179e"
             ],
             [
              0.4444444444444444,
              "#bd3786"
             ],
             [
              0.5555555555555556,
              "#d8576b"
             ],
             [
              0.6666666666666666,
              "#ed7953"
             ],
             [
              0.7777777777777778,
              "#fb9f3a"
             ],
             [
              0.8888888888888888,
              "#fdca26"
             ],
             [
              1,
              "#f0f921"
             ]
            ],
            "type": "histogram2d"
           }
          ],
          "histogram2dcontour": [
           {
            "colorbar": {
             "outlinewidth": 0,
             "ticks": ""
            },
            "colorscale": [
             [
              0,
              "#0d0887"
             ],
             [
              0.1111111111111111,
              "#46039f"
             ],
             [
              0.2222222222222222,
              "#7201a8"
             ],
             [
              0.3333333333333333,
              "#9c179e"
             ],
             [
              0.4444444444444444,
              "#bd3786"
             ],
             [
              0.5555555555555556,
              "#d8576b"
             ],
             [
              0.6666666666666666,
              "#ed7953"
             ],
             [
              0.7777777777777778,
              "#fb9f3a"
             ],
             [
              0.8888888888888888,
              "#fdca26"
             ],
             [
              1,
              "#f0f921"
             ]
            ],
            "type": "histogram2dcontour"
           }
          ],
          "mesh3d": [
           {
            "colorbar": {
             "outlinewidth": 0,
             "ticks": ""
            },
            "type": "mesh3d"
           }
          ],
          "parcoords": [
           {
            "line": {
             "colorbar": {
              "outlinewidth": 0,
              "ticks": ""
             }
            },
            "type": "parcoords"
           }
          ],
          "pie": [
           {
            "automargin": true,
            "type": "pie"
           }
          ],
          "scatter": [
           {
            "marker": {
             "colorbar": {
              "outlinewidth": 0,
              "ticks": ""
             }
            },
            "type": "scatter"
           }
          ],
          "scatter3d": [
           {
            "line": {
             "colorbar": {
              "outlinewidth": 0,
              "ticks": ""
             }
            },
            "marker": {
             "colorbar": {
              "outlinewidth": 0,
              "ticks": ""
             }
            },
            "type": "scatter3d"
           }
          ],
          "scattercarpet": [
           {
            "marker": {
             "colorbar": {
              "outlinewidth": 0,
              "ticks": ""
             }
            },
            "type": "scattercarpet"
           }
          ],
          "scattergeo": [
           {
            "marker": {
             "colorbar": {
              "outlinewidth": 0,
              "ticks": ""
             }
            },
            "type": "scattergeo"
           }
          ],
          "scattergl": [
           {
            "marker": {
             "colorbar": {
              "outlinewidth": 0,
              "ticks": ""
             }
            },
            "type": "scattergl"
           }
          ],
          "scattermapbox": [
           {
            "marker": {
             "colorbar": {
              "outlinewidth": 0,
              "ticks": ""
             }
            },
            "type": "scattermapbox"
           }
          ],
          "scatterpolar": [
           {
            "marker": {
             "colorbar": {
              "outlinewidth": 0,
              "ticks": ""
             }
            },
            "type": "scatterpolar"
           }
          ],
          "scatterpolargl": [
           {
            "marker": {
             "colorbar": {
              "outlinewidth": 0,
              "ticks": ""
             }
            },
            "type": "scatterpolargl"
           }
          ],
          "scatterternary": [
           {
            "marker": {
             "colorbar": {
              "outlinewidth": 0,
              "ticks": ""
             }
            },
            "type": "scatterternary"
           }
          ],
          "surface": [
           {
            "colorbar": {
             "outlinewidth": 0,
             "ticks": ""
            },
            "colorscale": [
             [
              0,
              "#0d0887"
             ],
             [
              0.1111111111111111,
              "#46039f"
             ],
             [
              0.2222222222222222,
              "#7201a8"
             ],
             [
              0.3333333333333333,
              "#9c179e"
             ],
             [
              0.4444444444444444,
              "#bd3786"
             ],
             [
              0.5555555555555556,
              "#d8576b"
             ],
             [
              0.6666666666666666,
              "#ed7953"
             ],
             [
              0.7777777777777778,
              "#fb9f3a"
             ],
             [
              0.8888888888888888,
              "#fdca26"
             ],
             [
              1,
              "#f0f921"
             ]
            ],
            "type": "surface"
           }
          ],
          "table": [
           {
            "cells": {
             "fill": {
              "color": "#EBF0F8"
             },
             "line": {
              "color": "white"
             }
            },
            "header": {
             "fill": {
              "color": "#C8D4E3"
             },
             "line": {
              "color": "white"
             }
            },
            "type": "table"
           }
          ]
         },
         "layout": {
          "annotationdefaults": {
           "arrowcolor": "#2a3f5f",
           "arrowhead": 0,
           "arrowwidth": 1
          },
          "coloraxis": {
           "colorbar": {
            "outlinewidth": 0,
            "ticks": ""
           }
          },
          "colorscale": {
           "diverging": [
            [
             0,
             "#8e0152"
            ],
            [
             0.1,
             "#c51b7d"
            ],
            [
             0.2,
             "#de77ae"
            ],
            [
             0.3,
             "#f1b6da"
            ],
            [
             0.4,
             "#fde0ef"
            ],
            [
             0.5,
             "#f7f7f7"
            ],
            [
             0.6,
             "#e6f5d0"
            ],
            [
             0.7,
             "#b8e186"
            ],
            [
             0.8,
             "#7fbc41"
            ],
            [
             0.9,
             "#4d9221"
            ],
            [
             1,
             "#276419"
            ]
           ],
           "sequential": [
            [
             0,
             "#0d0887"
            ],
            [
             0.1111111111111111,
             "#46039f"
            ],
            [
             0.2222222222222222,
             "#7201a8"
            ],
            [
             0.3333333333333333,
             "#9c179e"
            ],
            [
             0.4444444444444444,
             "#bd3786"
            ],
            [
             0.5555555555555556,
             "#d8576b"
            ],
            [
             0.6666666666666666,
             "#ed7953"
            ],
            [
             0.7777777777777778,
             "#fb9f3a"
            ],
            [
             0.8888888888888888,
             "#fdca26"
            ],
            [
             1,
             "#f0f921"
            ]
           ],
           "sequentialminus": [
            [
             0,
             "#0d0887"
            ],
            [
             0.1111111111111111,
             "#46039f"
            ],
            [
             0.2222222222222222,
             "#7201a8"
            ],
            [
             0.3333333333333333,
             "#9c179e"
            ],
            [
             0.4444444444444444,
             "#bd3786"
            ],
            [
             0.5555555555555556,
             "#d8576b"
            ],
            [
             0.6666666666666666,
             "#ed7953"
            ],
            [
             0.7777777777777778,
             "#fb9f3a"
            ],
            [
             0.8888888888888888,
             "#fdca26"
            ],
            [
             1,
             "#f0f921"
            ]
           ]
          },
          "colorway": [
           "#636efa",
           "#EF553B",
           "#00cc96",
           "#ab63fa",
           "#FFA15A",
           "#19d3f3",
           "#FF6692",
           "#B6E880",
           "#FF97FF",
           "#FECB52"
          ],
          "font": {
           "color": "#2a3f5f"
          },
          "geo": {
           "bgcolor": "white",
           "lakecolor": "white",
           "landcolor": "#E5ECF6",
           "showlakes": true,
           "showland": true,
           "subunitcolor": "white"
          },
          "hoverlabel": {
           "align": "left"
          },
          "hovermode": "closest",
          "mapbox": {
           "style": "light"
          },
          "paper_bgcolor": "white",
          "plot_bgcolor": "#E5ECF6",
          "polar": {
           "angularaxis": {
            "gridcolor": "white",
            "linecolor": "white",
            "ticks": ""
           },
           "bgcolor": "#E5ECF6",
           "radialaxis": {
            "gridcolor": "white",
            "linecolor": "white",
            "ticks": ""
           }
          },
          "scene": {
           "xaxis": {
            "backgroundcolor": "#E5ECF6",
            "gridcolor": "white",
            "gridwidth": 2,
            "linecolor": "white",
            "showbackground": true,
            "ticks": "",
            "zerolinecolor": "white"
           },
           "yaxis": {
            "backgroundcolor": "#E5ECF6",
            "gridcolor": "white",
            "gridwidth": 2,
            "linecolor": "white",
            "showbackground": true,
            "ticks": "",
            "zerolinecolor": "white"
           },
           "zaxis": {
            "backgroundcolor": "#E5ECF6",
            "gridcolor": "white",
            "gridwidth": 2,
            "linecolor": "white",
            "showbackground": true,
            "ticks": "",
            "zerolinecolor": "white"
           }
          },
          "shapedefaults": {
           "line": {
            "color": "#2a3f5f"
           }
          },
          "ternary": {
           "aaxis": {
            "gridcolor": "white",
            "linecolor": "white",
            "ticks": ""
           },
           "baxis": {
            "gridcolor": "white",
            "linecolor": "white",
            "ticks": ""
           },
           "bgcolor": "#E5ECF6",
           "caxis": {
            "gridcolor": "white",
            "linecolor": "white",
            "ticks": ""
           }
          },
          "title": {
           "x": 0.05
          },
          "xaxis": {
           "automargin": true,
           "gridcolor": "white",
           "linecolor": "white",
           "ticks": "",
           "title": {
            "standoff": 15
           },
           "zerolinecolor": "white",
           "zerolinewidth": 2
          },
          "yaxis": {
           "automargin": true,
           "gridcolor": "white",
           "linecolor": "white",
           "ticks": "",
           "title": {
            "standoff": 15
           },
           "zerolinecolor": "white",
           "zerolinewidth": 2
          }
         }
        },
        "title": {
         "text": "Total Invoice Amount per Subscription: 2015 - 2020"
        },
        "width": 800,
        "xaxis": {
         "anchor": "y",
         "domain": [
          0,
          1
         ],
         "title": {
          "text": "Year"
         }
        },
        "yaxis": {
         "anchor": "x",
         "domain": [
          0,
          1
         ],
         "title": {
          "text": "Invoice Amount ($)"
         }
        }
       }
      }
     },
     "metadata": {}
    }
   ],
   "source": [
    "plt__atlas_grouped__year_subscription__sum"
   ]
  },
  {
   "cell_type": "code",
   "execution_count": 18,
   "metadata": {},
   "outputs": [
    {
     "output_type": "display_data",
     "data": {
      "application/vnd.plotly.v1+json": {
       "config": {
        "plotlyServerURL": "https://plot.ly"
       },
       "data": [
        {
         "alignmentgroup": "True",
         "hovertemplate": "Subscription=1 Year<br>Year=%{x}<br>Invoice Amount=%{y}<extra></extra>",
         "legendgroup": "1 Year",
         "marker": {
          "color": "#636efa"
         },
         "name": "1 Year",
         "offsetgroup": "1 Year",
         "orientation": "v",
         "showlegend": true,
         "textposition": "auto",
         "type": "bar",
         "x": [
          2015,
          2016,
          2017,
          2018,
          2019,
          2020
         ],
         "xaxis": "x",
         "y": [
          9,
          45,
          44,
          53,
          65,
          214
         ],
         "yaxis": "y"
        },
        {
         "alignmentgroup": "True",
         "hovertemplate": "Subscription=3 Years<br>Year=%{x}<br>Invoice Amount=%{y}<extra></extra>",
         "legendgroup": "3 Years",
         "marker": {
          "color": "#EF553B"
         },
         "name": "3 Years",
         "offsetgroup": "3 Years",
         "orientation": "v",
         "showlegend": true,
         "textposition": "auto",
         "type": "bar",
         "x": [
          2016,
          2017,
          2018,
          2019,
          2020
         ],
         "xaxis": "x",
         "y": [
          7,
          15,
          11,
          19,
          19
         ],
         "yaxis": "y"
        },
        {
         "alignmentgroup": "True",
         "hovertemplate": "Subscription=2 Years<br>Year=%{x}<br>Invoice Amount=%{y}<extra></extra>",
         "legendgroup": "2 Years",
         "marker": {
          "color": "#00cc96"
         },
         "name": "2 Years",
         "offsetgroup": "2 Years",
         "orientation": "v",
         "showlegend": true,
         "textposition": "auto",
         "type": "bar",
         "x": [
          2017,
          2020
         ],
         "xaxis": "x",
         "y": [
          2,
          1
         ],
         "yaxis": "y"
        },
        {
         "alignmentgroup": "True",
         "hovertemplate": "Subscription=6 Months<br>Year=%{x}<br>Invoice Amount=%{y}<extra></extra>",
         "legendgroup": "6 Months",
         "marker": {
          "color": "#ab63fa"
         },
         "name": "6 Months",
         "offsetgroup": "6 Months",
         "orientation": "v",
         "showlegend": true,
         "textposition": "auto",
         "type": "bar",
         "x": [
          2019,
          2020
         ],
         "xaxis": "x",
         "y": [
          1,
          42
         ],
         "yaxis": "y"
        },
        {
         "alignmentgroup": "True",
         "hovertemplate": "Subscription=3 Months<br>Year=%{x}<br>Invoice Amount=%{y}<extra></extra>",
         "legendgroup": "3 Months",
         "marker": {
          "color": "#FFA15A"
         },
         "name": "3 Months",
         "offsetgroup": "3 Months",
         "orientation": "v",
         "showlegend": true,
         "textposition": "auto",
         "type": "bar",
         "x": [
          2020
         ],
         "xaxis": "x",
         "y": [
          117
         ],
         "yaxis": "y"
        }
       ],
       "layout": {
        "barmode": "group",
        "height": 400,
        "legend": {
         "title": {
          "text": "Subscription"
         },
         "tracegroupgap": 0
        },
        "template": {
         "data": {
          "bar": [
           {
            "error_x": {
             "color": "#2a3f5f"
            },
            "error_y": {
             "color": "#2a3f5f"
            },
            "marker": {
             "line": {
              "color": "#E5ECF6",
              "width": 0.5
             }
            },
            "type": "bar"
           }
          ],
          "barpolar": [
           {
            "marker": {
             "line": {
              "color": "#E5ECF6",
              "width": 0.5
             }
            },
            "type": "barpolar"
           }
          ],
          "carpet": [
           {
            "aaxis": {
             "endlinecolor": "#2a3f5f",
             "gridcolor": "white",
             "linecolor": "white",
             "minorgridcolor": "white",
             "startlinecolor": "#2a3f5f"
            },
            "baxis": {
             "endlinecolor": "#2a3f5f",
             "gridcolor": "white",
             "linecolor": "white",
             "minorgridcolor": "white",
             "startlinecolor": "#2a3f5f"
            },
            "type": "carpet"
           }
          ],
          "choropleth": [
           {
            "colorbar": {
             "outlinewidth": 0,
             "ticks": ""
            },
            "type": "choropleth"
           }
          ],
          "contour": [
           {
            "colorbar": {
             "outlinewidth": 0,
             "ticks": ""
            },
            "colorscale": [
             [
              0,
              "#0d0887"
             ],
             [
              0.1111111111111111,
              "#46039f"
             ],
             [
              0.2222222222222222,
              "#7201a8"
             ],
             [
              0.3333333333333333,
              "#9c179e"
             ],
             [
              0.4444444444444444,
              "#bd3786"
             ],
             [
              0.5555555555555556,
              "#d8576b"
             ],
             [
              0.6666666666666666,
              "#ed7953"
             ],
             [
              0.7777777777777778,
              "#fb9f3a"
             ],
             [
              0.8888888888888888,
              "#fdca26"
             ],
             [
              1,
              "#f0f921"
             ]
            ],
            "type": "contour"
           }
          ],
          "contourcarpet": [
           {
            "colorbar": {
             "outlinewidth": 0,
             "ticks": ""
            },
            "type": "contourcarpet"
           }
          ],
          "heatmap": [
           {
            "colorbar": {
             "outlinewidth": 0,
             "ticks": ""
            },
            "colorscale": [
             [
              0,
              "#0d0887"
             ],
             [
              0.1111111111111111,
              "#46039f"
             ],
             [
              0.2222222222222222,
              "#7201a8"
             ],
             [
              0.3333333333333333,
              "#9c179e"
             ],
             [
              0.4444444444444444,
              "#bd3786"
             ],
             [
              0.5555555555555556,
              "#d8576b"
             ],
             [
              0.6666666666666666,
              "#ed7953"
             ],
             [
              0.7777777777777778,
              "#fb9f3a"
             ],
             [
              0.8888888888888888,
              "#fdca26"
             ],
             [
              1,
              "#f0f921"
             ]
            ],
            "type": "heatmap"
           }
          ],
          "heatmapgl": [
           {
            "colorbar": {
             "outlinewidth": 0,
             "ticks": ""
            },
            "colorscale": [
             [
              0,
              "#0d0887"
             ],
             [
              0.1111111111111111,
              "#46039f"
             ],
             [
              0.2222222222222222,
              "#7201a8"
             ],
             [
              0.3333333333333333,
              "#9c179e"
             ],
             [
              0.4444444444444444,
              "#bd3786"
             ],
             [
              0.5555555555555556,
              "#d8576b"
             ],
             [
              0.6666666666666666,
              "#ed7953"
             ],
             [
              0.7777777777777778,
              "#fb9f3a"
             ],
             [
              0.8888888888888888,
              "#fdca26"
             ],
             [
              1,
              "#f0f921"
             ]
            ],
            "type": "heatmapgl"
           }
          ],
          "histogram": [
           {
            "marker": {
             "colorbar": {
              "outlinewidth": 0,
              "ticks": ""
             }
            },
            "type": "histogram"
           }
          ],
          "histogram2d": [
           {
            "colorbar": {
             "outlinewidth": 0,
             "ticks": ""
            },
            "colorscale": [
             [
              0,
              "#0d0887"
             ],
             [
              0.1111111111111111,
              "#46039f"
             ],
             [
              0.2222222222222222,
              "#7201a8"
             ],
             [
              0.3333333333333333,
              "#9c179e"
             ],
             [
              0.4444444444444444,
              "#bd3786"
             ],
             [
              0.5555555555555556,
              "#d8576b"
             ],
             [
              0.6666666666666666,
              "#ed7953"
             ],
             [
              0.7777777777777778,
              "#fb9f3a"
             ],
             [
              0.8888888888888888,
              "#fdca26"
             ],
             [
              1,
              "#f0f921"
             ]
            ],
            "type": "histogram2d"
           }
          ],
          "histogram2dcontour": [
           {
            "colorbar": {
             "outlinewidth": 0,
             "ticks": ""
            },
            "colorscale": [
             [
              0,
              "#0d0887"
             ],
             [
              0.1111111111111111,
              "#46039f"
             ],
             [
              0.2222222222222222,
              "#7201a8"
             ],
             [
              0.3333333333333333,
              "#9c179e"
             ],
             [
              0.4444444444444444,
              "#bd3786"
             ],
             [
              0.5555555555555556,
              "#d8576b"
             ],
             [
              0.6666666666666666,
              "#ed7953"
             ],
             [
              0.7777777777777778,
              "#fb9f3a"
             ],
             [
              0.8888888888888888,
              "#fdca26"
             ],
             [
              1,
              "#f0f921"
             ]
            ],
            "type": "histogram2dcontour"
           }
          ],
          "mesh3d": [
           {
            "colorbar": {
             "outlinewidth": 0,
             "ticks": ""
            },
            "type": "mesh3d"
           }
          ],
          "parcoords": [
           {
            "line": {
             "colorbar": {
              "outlinewidth": 0,
              "ticks": ""
             }
            },
            "type": "parcoords"
           }
          ],
          "pie": [
           {
            "automargin": true,
            "type": "pie"
           }
          ],
          "scatter": [
           {
            "marker": {
             "colorbar": {
              "outlinewidth": 0,
              "ticks": ""
             }
            },
            "type": "scatter"
           }
          ],
          "scatter3d": [
           {
            "line": {
             "colorbar": {
              "outlinewidth": 0,
              "ticks": ""
             }
            },
            "marker": {
             "colorbar": {
              "outlinewidth": 0,
              "ticks": ""
             }
            },
            "type": "scatter3d"
           }
          ],
          "scattercarpet": [
           {
            "marker": {
             "colorbar": {
              "outlinewidth": 0,
              "ticks": ""
             }
            },
            "type": "scattercarpet"
           }
          ],
          "scattergeo": [
           {
            "marker": {
             "colorbar": {
              "outlinewidth": 0,
              "ticks": ""
             }
            },
            "type": "scattergeo"
           }
          ],
          "scattergl": [
           {
            "marker": {
             "colorbar": {
              "outlinewidth": 0,
              "ticks": ""
             }
            },
            "type": "scattergl"
           }
          ],
          "scattermapbox": [
           {
            "marker": {
             "colorbar": {
              "outlinewidth": 0,
              "ticks": ""
             }
            },
            "type": "scattermapbox"
           }
          ],
          "scatterpolar": [
           {
            "marker": {
             "colorbar": {
              "outlinewidth": 0,
              "ticks": ""
             }
            },
            "type": "scatterpolar"
           }
          ],
          "scatterpolargl": [
           {
            "marker": {
             "colorbar": {
              "outlinewidth": 0,
              "ticks": ""
             }
            },
            "type": "scatterpolargl"
           }
          ],
          "scatterternary": [
           {
            "marker": {
             "colorbar": {
              "outlinewidth": 0,
              "ticks": ""
             }
            },
            "type": "scatterternary"
           }
          ],
          "surface": [
           {
            "colorbar": {
             "outlinewidth": 0,
             "ticks": ""
            },
            "colorscale": [
             [
              0,
              "#0d0887"
             ],
             [
              0.1111111111111111,
              "#46039f"
             ],
             [
              0.2222222222222222,
              "#7201a8"
             ],
             [
              0.3333333333333333,
              "#9c179e"
             ],
             [
              0.4444444444444444,
              "#bd3786"
             ],
             [
              0.5555555555555556,
              "#d8576b"
             ],
             [
              0.6666666666666666,
              "#ed7953"
             ],
             [
              0.7777777777777778,
              "#fb9f3a"
             ],
             [
              0.8888888888888888,
              "#fdca26"
             ],
             [
              1,
              "#f0f921"
             ]
            ],
            "type": "surface"
           }
          ],
          "table": [
           {
            "cells": {
             "fill": {
              "color": "#EBF0F8"
             },
             "line": {
              "color": "white"
             }
            },
            "header": {
             "fill": {
              "color": "#C8D4E3"
             },
             "line": {
              "color": "white"
             }
            },
            "type": "table"
           }
          ]
         },
         "layout": {
          "annotationdefaults": {
           "arrowcolor": "#2a3f5f",
           "arrowhead": 0,
           "arrowwidth": 1
          },
          "coloraxis": {
           "colorbar": {
            "outlinewidth": 0,
            "ticks": ""
           }
          },
          "colorscale": {
           "diverging": [
            [
             0,
             "#8e0152"
            ],
            [
             0.1,
             "#c51b7d"
            ],
            [
             0.2,
             "#de77ae"
            ],
            [
             0.3,
             "#f1b6da"
            ],
            [
             0.4,
             "#fde0ef"
            ],
            [
             0.5,
             "#f7f7f7"
            ],
            [
             0.6,
             "#e6f5d0"
            ],
            [
             0.7,
             "#b8e186"
            ],
            [
             0.8,
             "#7fbc41"
            ],
            [
             0.9,
             "#4d9221"
            ],
            [
             1,
             "#276419"
            ]
           ],
           "sequential": [
            [
             0,
             "#0d0887"
            ],
            [
             0.1111111111111111,
             "#46039f"
            ],
            [
             0.2222222222222222,
             "#7201a8"
            ],
            [
             0.3333333333333333,
             "#9c179e"
            ],
            [
             0.4444444444444444,
             "#bd3786"
            ],
            [
             0.5555555555555556,
             "#d8576b"
            ],
            [
             0.6666666666666666,
             "#ed7953"
            ],
            [
             0.7777777777777778,
             "#fb9f3a"
            ],
            [
             0.8888888888888888,
             "#fdca26"
            ],
            [
             1,
             "#f0f921"
            ]
           ],
           "sequentialminus": [
            [
             0,
             "#0d0887"
            ],
            [
             0.1111111111111111,
             "#46039f"
            ],
            [
             0.2222222222222222,
             "#7201a8"
            ],
            [
             0.3333333333333333,
             "#9c179e"
            ],
            [
             0.4444444444444444,
             "#bd3786"
            ],
            [
             0.5555555555555556,
             "#d8576b"
            ],
            [
             0.6666666666666666,
             "#ed7953"
            ],
            [
             0.7777777777777778,
             "#fb9f3a"
            ],
            [
             0.8888888888888888,
             "#fdca26"
            ],
            [
             1,
             "#f0f921"
            ]
           ]
          },
          "colorway": [
           "#636efa",
           "#EF553B",
           "#00cc96",
           "#ab63fa",
           "#FFA15A",
           "#19d3f3",
           "#FF6692",
           "#B6E880",
           "#FF97FF",
           "#FECB52"
          ],
          "font": {
           "color": "#2a3f5f"
          },
          "geo": {
           "bgcolor": "white",
           "lakecolor": "white",
           "landcolor": "#E5ECF6",
           "showlakes": true,
           "showland": true,
           "subunitcolor": "white"
          },
          "hoverlabel": {
           "align": "left"
          },
          "hovermode": "closest",
          "mapbox": {
           "style": "light"
          },
          "paper_bgcolor": "white",
          "plot_bgcolor": "#E5ECF6",
          "polar": {
           "angularaxis": {
            "gridcolor": "white",
            "linecolor": "white",
            "ticks": ""
           },
           "bgcolor": "#E5ECF6",
           "radialaxis": {
            "gridcolor": "white",
            "linecolor": "white",
            "ticks": ""
           }
          },
          "scene": {
           "xaxis": {
            "backgroundcolor": "#E5ECF6",
            "gridcolor": "white",
            "gridwidth": 2,
            "linecolor": "white",
            "showbackground": true,
            "ticks": "",
            "zerolinecolor": "white"
           },
           "yaxis": {
            "backgroundcolor": "#E5ECF6",
            "gridcolor": "white",
            "gridwidth": 2,
            "linecolor": "white",
            "showbackground": true,
            "ticks": "",
            "zerolinecolor": "white"
           },
           "zaxis": {
            "backgroundcolor": "#E5ECF6",
            "gridcolor": "white",
            "gridwidth": 2,
            "linecolor": "white",
            "showbackground": true,
            "ticks": "",
            "zerolinecolor": "white"
           }
          },
          "shapedefaults": {
           "line": {
            "color": "#2a3f5f"
           }
          },
          "ternary": {
           "aaxis": {
            "gridcolor": "white",
            "linecolor": "white",
            "ticks": ""
           },
           "baxis": {
            "gridcolor": "white",
            "linecolor": "white",
            "ticks": ""
           },
           "bgcolor": "#E5ECF6",
           "caxis": {
            "gridcolor": "white",
            "linecolor": "white",
            "ticks": ""
           }
          },
          "title": {
           "x": 0.05
          },
          "xaxis": {
           "automargin": true,
           "gridcolor": "white",
           "linecolor": "white",
           "ticks": "",
           "title": {
            "standoff": 15
           },
           "zerolinecolor": "white",
           "zerolinewidth": 2
          },
          "yaxis": {
           "automargin": true,
           "gridcolor": "white",
           "linecolor": "white",
           "ticks": "",
           "title": {
            "standoff": 15
           },
           "zerolinecolor": "white",
           "zerolinewidth": 2
          }
         }
        },
        "title": {
         "text": "Nbr. Invoices per Subscription: 2015 - 2020"
        },
        "width": 800,
        "xaxis": {
         "anchor": "y",
         "domain": [
          0,
          1
         ],
         "title": {
          "text": "Year"
         }
        },
        "yaxis": {
         "anchor": "x",
         "domain": [
          0,
          1
         ],
         "title": {
          "text": "Nbr. of Invoices"
         }
        }
       }
      }
     },
     "metadata": {}
    }
   ],
   "source": [
    "plt__atlas_grouped__year_subscription__count"
   ]
  },
  {
   "cell_type": "code",
   "execution_count": null,
   "metadata": {},
   "outputs": [],
   "source": []
  },
  {
   "cell_type": "code",
   "execution_count": 45,
   "metadata": {},
   "outputs": [
    {
     "output_type": "error",
     "ename": "ValueError",
     "evalue": "\n    Invalid value of type 'builtins.str' received for the 'x' property of bar\n        Received value: 'Year'\n\n    The 'x' property is an array that may be specified as a tuple,\n    list, numpy array, or pandas Series",
     "traceback": [
      "\u001b[1;31m---------------------------------------------------------------------------\u001b[0m",
      "\u001b[1;31mValueError\u001b[0m                                Traceback (most recent call last)",
      "\u001b[1;32m<ipython-input-45-6cd0f5b4aa27>\u001b[0m in \u001b[0;36m<module>\u001b[1;34m\u001b[0m\n\u001b[0;32m      8\u001b[0m \u001b[1;33m\u001b[0m\u001b[0m\n\u001b[0;32m      9\u001b[0m \u001b[1;33m\u001b[0m\u001b[0m\n\u001b[1;32m---> 10\u001b[1;33m plt__atlas_grouped__year_subscription__mean = go.Bar(\n\u001b[0m\u001b[0;32m     11\u001b[0m     \u001b[0mdata\u001b[0m\u001b[1;33m=\u001b[0m\u001b[0matlas_grouped__year_subscription__mean\u001b[0m\u001b[1;33m.\u001b[0m\u001b[0mreset_index\u001b[0m\u001b[1;33m(\u001b[0m\u001b[1;33m)\u001b[0m\u001b[1;33m,\u001b[0m\u001b[1;33m\u001b[0m\u001b[1;33m\u001b[0m\u001b[0m\n\u001b[0;32m     12\u001b[0m     \u001b[0mx\u001b[0m\u001b[1;33m=\u001b[0m\u001b[1;34m\"Year\"\u001b[0m\u001b[1;33m,\u001b[0m\u001b[1;33m\u001b[0m\u001b[1;33m\u001b[0m\u001b[0m\n",
      "\u001b[1;32mC:\\ProgramData\\Anaconda3\\envs\\pyvizenv\\lib\\site-packages\\plotly\\graph_objs\\_bar.py\u001b[0m in \u001b[0;36m__init__\u001b[1;34m(self, arg, alignmentgroup, base, basesrc, cliponaxis, constraintext, customdata, customdatasrc, dx, dy, error_x, error_y, hoverinfo, hoverinfosrc, hoverlabel, hovertemplate, hovertemplatesrc, hovertext, hovertextsrc, ids, idssrc, insidetextanchor, insidetextfont, legendgroup, marker, meta, metasrc, name, offset, offsetgroup, offsetsrc, opacity, orientation, outsidetextfont, r, rsrc, selected, selectedpoints, showlegend, stream, t, text, textangle, textfont, textposition, textpositionsrc, textsrc, texttemplate, texttemplatesrc, tsrc, uid, uirevision, unselected, visible, width, widthsrc, x, x0, xaxis, xcalendar, xperiod, xperiod0, xperiodalignment, xsrc, y, y0, yaxis, ycalendar, yperiod, yperiod0, yperiodalignment, ysrc, **kwargs)\u001b[0m\n\u001b[0;32m   3083\u001b[0m         \u001b[0m_v\u001b[0m \u001b[1;33m=\u001b[0m \u001b[0mx\u001b[0m \u001b[1;32mif\u001b[0m \u001b[0mx\u001b[0m \u001b[1;32mis\u001b[0m \u001b[1;32mnot\u001b[0m \u001b[1;32mNone\u001b[0m \u001b[1;32melse\u001b[0m \u001b[0m_v\u001b[0m\u001b[1;33m\u001b[0m\u001b[1;33m\u001b[0m\u001b[0m\n\u001b[0;32m   3084\u001b[0m         \u001b[1;32mif\u001b[0m \u001b[0m_v\u001b[0m \u001b[1;32mis\u001b[0m \u001b[1;32mnot\u001b[0m \u001b[1;32mNone\u001b[0m\u001b[1;33m:\u001b[0m\u001b[1;33m\u001b[0m\u001b[1;33m\u001b[0m\u001b[0m\n\u001b[1;32m-> 3085\u001b[1;33m             \u001b[0mself\u001b[0m\u001b[1;33m[\u001b[0m\u001b[1;34m\"x\"\u001b[0m\u001b[1;33m]\u001b[0m \u001b[1;33m=\u001b[0m \u001b[0m_v\u001b[0m\u001b[1;33m\u001b[0m\u001b[1;33m\u001b[0m\u001b[0m\n\u001b[0m\u001b[0;32m   3086\u001b[0m         \u001b[0m_v\u001b[0m \u001b[1;33m=\u001b[0m \u001b[0marg\u001b[0m\u001b[1;33m.\u001b[0m\u001b[0mpop\u001b[0m\u001b[1;33m(\u001b[0m\u001b[1;34m\"x0\"\u001b[0m\u001b[1;33m,\u001b[0m \u001b[1;32mNone\u001b[0m\u001b[1;33m)\u001b[0m\u001b[1;33m\u001b[0m\u001b[1;33m\u001b[0m\u001b[0m\n\u001b[0;32m   3087\u001b[0m         \u001b[0m_v\u001b[0m \u001b[1;33m=\u001b[0m \u001b[0mx0\u001b[0m \u001b[1;32mif\u001b[0m \u001b[0mx0\u001b[0m \u001b[1;32mis\u001b[0m \u001b[1;32mnot\u001b[0m \u001b[1;32mNone\u001b[0m \u001b[1;32melse\u001b[0m \u001b[0m_v\u001b[0m\u001b[1;33m\u001b[0m\u001b[1;33m\u001b[0m\u001b[0m\n",
      "\u001b[1;32mC:\\ProgramData\\Anaconda3\\envs\\pyvizenv\\lib\\site-packages\\plotly\\basedatatypes.py\u001b[0m in \u001b[0;36m__setitem__\u001b[1;34m(self, prop, value)\u001b[0m\n\u001b[0;32m   4532\u001b[0m                 \u001b[1;31m# ### Handle simple property ###\u001b[0m\u001b[1;33m\u001b[0m\u001b[1;33m\u001b[0m\u001b[1;33m\u001b[0m\u001b[0m\n\u001b[0;32m   4533\u001b[0m                 \u001b[1;32melse\u001b[0m\u001b[1;33m:\u001b[0m\u001b[1;33m\u001b[0m\u001b[1;33m\u001b[0m\u001b[0m\n\u001b[1;32m-> 4534\u001b[1;33m                     \u001b[0mself\u001b[0m\u001b[1;33m.\u001b[0m\u001b[0m_set_prop\u001b[0m\u001b[1;33m(\u001b[0m\u001b[0mprop\u001b[0m\u001b[1;33m,\u001b[0m \u001b[0mvalue\u001b[0m\u001b[1;33m)\u001b[0m\u001b[1;33m\u001b[0m\u001b[1;33m\u001b[0m\u001b[0m\n\u001b[0m\u001b[0;32m   4535\u001b[0m             \u001b[1;32melse\u001b[0m\u001b[1;33m:\u001b[0m\u001b[1;33m\u001b[0m\u001b[1;33m\u001b[0m\u001b[0m\n\u001b[0;32m   4536\u001b[0m                 \u001b[1;31m# Make sure properties dict is initialized\u001b[0m\u001b[1;33m\u001b[0m\u001b[1;33m\u001b[0m\u001b[1;33m\u001b[0m\u001b[0m\n",
      "\u001b[1;32mC:\\ProgramData\\Anaconda3\\envs\\pyvizenv\\lib\\site-packages\\plotly\\basedatatypes.py\u001b[0m in \u001b[0;36m_set_prop\u001b[1;34m(self, prop, val)\u001b[0m\n\u001b[0;32m   4850\u001b[0m                 \u001b[1;32mreturn\u001b[0m\u001b[1;33m\u001b[0m\u001b[1;33m\u001b[0m\u001b[0m\n\u001b[0;32m   4851\u001b[0m             \u001b[1;32melse\u001b[0m\u001b[1;33m:\u001b[0m\u001b[1;33m\u001b[0m\u001b[1;33m\u001b[0m\u001b[0m\n\u001b[1;32m-> 4852\u001b[1;33m                 \u001b[1;32mraise\u001b[0m \u001b[0merr\u001b[0m\u001b[1;33m\u001b[0m\u001b[1;33m\u001b[0m\u001b[0m\n\u001b[0m\u001b[0;32m   4853\u001b[0m \u001b[1;33m\u001b[0m\u001b[0m\n\u001b[0;32m   4854\u001b[0m         \u001b[1;31m# val is None\u001b[0m\u001b[1;33m\u001b[0m\u001b[1;33m\u001b[0m\u001b[1;33m\u001b[0m\u001b[0m\n",
      "\u001b[1;32mC:\\ProgramData\\Anaconda3\\envs\\pyvizenv\\lib\\site-packages\\plotly\\basedatatypes.py\u001b[0m in \u001b[0;36m_set_prop\u001b[1;34m(self, prop, val)\u001b[0m\n\u001b[0;32m   4845\u001b[0m \u001b[1;33m\u001b[0m\u001b[0m\n\u001b[0;32m   4846\u001b[0m         \u001b[1;32mtry\u001b[0m\u001b[1;33m:\u001b[0m\u001b[1;33m\u001b[0m\u001b[1;33m\u001b[0m\u001b[0m\n\u001b[1;32m-> 4847\u001b[1;33m             \u001b[0mval\u001b[0m \u001b[1;33m=\u001b[0m \u001b[0mvalidator\u001b[0m\u001b[1;33m.\u001b[0m\u001b[0mvalidate_coerce\u001b[0m\u001b[1;33m(\u001b[0m\u001b[0mval\u001b[0m\u001b[1;33m)\u001b[0m\u001b[1;33m\u001b[0m\u001b[1;33m\u001b[0m\u001b[0m\n\u001b[0m\u001b[0;32m   4848\u001b[0m         \u001b[1;32mexcept\u001b[0m \u001b[0mValueError\u001b[0m \u001b[1;32mas\u001b[0m \u001b[0merr\u001b[0m\u001b[1;33m:\u001b[0m\u001b[1;33m\u001b[0m\u001b[1;33m\u001b[0m\u001b[0m\n\u001b[0;32m   4849\u001b[0m             \u001b[1;32mif\u001b[0m \u001b[0mself\u001b[0m\u001b[1;33m.\u001b[0m\u001b[0m_skip_invalid\u001b[0m\u001b[1;33m:\u001b[0m\u001b[1;33m\u001b[0m\u001b[1;33m\u001b[0m\u001b[0m\n",
      "\u001b[1;32mC:\\ProgramData\\Anaconda3\\envs\\pyvizenv\\lib\\site-packages\\_plotly_utils\\basevalidators.py\u001b[0m in \u001b[0;36mvalidate_coerce\u001b[1;34m(self, v)\u001b[0m\n\u001b[0;32m    389\u001b[0m             \u001b[0mv\u001b[0m \u001b[1;33m=\u001b[0m \u001b[0mto_scalar_or_list\u001b[0m\u001b[1;33m(\u001b[0m\u001b[0mv\u001b[0m\u001b[1;33m)\u001b[0m\u001b[1;33m\u001b[0m\u001b[1;33m\u001b[0m\u001b[0m\n\u001b[0;32m    390\u001b[0m         \u001b[1;32melse\u001b[0m\u001b[1;33m:\u001b[0m\u001b[1;33m\u001b[0m\u001b[1;33m\u001b[0m\u001b[0m\n\u001b[1;32m--> 391\u001b[1;33m             \u001b[0mself\u001b[0m\u001b[1;33m.\u001b[0m\u001b[0mraise_invalid_val\u001b[0m\u001b[1;33m(\u001b[0m\u001b[0mv\u001b[0m\u001b[1;33m)\u001b[0m\u001b[1;33m\u001b[0m\u001b[1;33m\u001b[0m\u001b[0m\n\u001b[0m\u001b[0;32m    392\u001b[0m         \u001b[1;32mreturn\u001b[0m \u001b[0mv\u001b[0m\u001b[1;33m\u001b[0m\u001b[1;33m\u001b[0m\u001b[0m\n\u001b[0;32m    393\u001b[0m \u001b[1;33m\u001b[0m\u001b[0m\n",
      "\u001b[1;32mC:\\ProgramData\\Anaconda3\\envs\\pyvizenv\\lib\\site-packages\\_plotly_utils\\basevalidators.py\u001b[0m in \u001b[0;36mraise_invalid_val\u001b[1;34m(self, v, inds)\u001b[0m\n\u001b[0;32m    273\u001b[0m                 \u001b[0mname\u001b[0m \u001b[1;33m+=\u001b[0m \u001b[1;34m\"[\"\u001b[0m \u001b[1;33m+\u001b[0m \u001b[0mstr\u001b[0m\u001b[1;33m(\u001b[0m\u001b[0mi\u001b[0m\u001b[1;33m)\u001b[0m \u001b[1;33m+\u001b[0m \u001b[1;34m\"]\"\u001b[0m\u001b[1;33m\u001b[0m\u001b[1;33m\u001b[0m\u001b[0m\n\u001b[0;32m    274\u001b[0m \u001b[1;33m\u001b[0m\u001b[0m\n\u001b[1;32m--> 275\u001b[1;33m         raise ValueError(\n\u001b[0m\u001b[0;32m    276\u001b[0m             \"\"\"\n\u001b[0;32m    277\u001b[0m     \u001b[0mInvalid\u001b[0m \u001b[0mvalue\u001b[0m \u001b[0mof\u001b[0m \u001b[0mtype\u001b[0m \u001b[1;33m{\u001b[0m\u001b[0mtyp\u001b[0m\u001b[1;33m}\u001b[0m \u001b[0mreceived\u001b[0m \u001b[1;32mfor\u001b[0m \u001b[0mthe\u001b[0m \u001b[1;34m'{name}'\u001b[0m \u001b[0mproperty\u001b[0m \u001b[0mof\u001b[0m \u001b[1;33m{\u001b[0m\u001b[0mpname\u001b[0m\u001b[1;33m}\u001b[0m\u001b[1;33m\u001b[0m\u001b[1;33m\u001b[0m\u001b[0m\n",
      "\u001b[1;31mValueError\u001b[0m: \n    Invalid value of type 'builtins.str' received for the 'x' property of bar\n        Received value: 'Year'\n\n    The 'x' property is an array that may be specified as a tuple,\n    list, numpy array, or pandas Series"
     ]
    }
   ],
   "source": [
    "# plot using go.bar()???\n",
    "import plotly.graph_objs as go\n",
    "\n",
    "from plotly import subplots\n",
    "plot_group = subplots.make_subplots(rows=3, cols=1)\n",
    "\n",
    "\n",
    "\n",
    "\n",
    "plt__atlas_grouped__year_subscription__mean = go.Bar(\n",
    "    data=atlas_grouped__year_subscription__mean.reset_index(),\n",
    "    x=\"Year\",\n",
    "    y=\"Invoice Amount\",\n",
    "    color=\"Subscription\",\n",
    "    title=\"Avg. Invoice per Subscription: 2015 - 2020\",\n",
    "    ylabel=\"Invoice Amount ($)\",\n",
    "    barmode=\"group\", width=800, height=400\n",
    "    )\n",
    "\n",
    "\n",
    "\n",
    "\n",
    "plot_group.append_trace(plt__atlas_grouped__year_subscription__mean, 1, 1)\n",
    "# plot_group.append_trace(plt__atlas_grouped__year_subscription__sum, 2, 1)\n",
    "# plot_group.append_trace(plt__atlas_grouped__year_subscription__count, 3, 1)\n",
    "\n",
    "pn.pane.Plotly(plot_group)\n",
    "\n",
    "\n"
   ]
  },
  {
   "cell_type": "code",
   "execution_count": null,
   "metadata": {},
   "outputs": [],
   "source": []
  },
  {
   "cell_type": "code",
   "execution_count": null,
   "metadata": {},
   "outputs": [],
   "source": []
  },
  {
   "cell_type": "code",
   "execution_count": null,
   "metadata": {},
   "outputs": [],
   "source": []
  },
  {
   "cell_type": "code",
   "execution_count": null,
   "metadata": {},
   "outputs": [],
   "source": []
  },
  {
   "cell_type": "code",
   "execution_count": null,
   "metadata": {},
   "outputs": [],
   "source": []
  },
  {
   "cell_type": "code",
   "execution_count": null,
   "metadata": {},
   "outputs": [],
   "source": []
  },
  {
   "cell_type": "code",
   "execution_count": 19,
   "metadata": {},
   "outputs": [
    {
     "output_type": "stream",
     "name": "stderr",
     "text": [
      "WARNING:param.Plotly01463: PlotlyPlot was not imported on instantiation and may not render in a notebook. Restart the notebook kernel and ensure you load it as part of the extension using:\n\npn.extension('plotly')\n\n"
     ]
    },
    {
     "output_type": "display_data",
     "data": {},
     "metadata": {}
    },
    {
     "output_type": "execute_result",
     "data": {
      "text/html": "<div id='1007'>\n\n\n\n\n\n  <div class=\"bk-root\" id=\"959b9cd8-fce6-4b40-9fd7-101d3166c2cc\" data-root-id=\"1007\"></div>\n</div>\n<script type=\"application/javascript\">(function(root) {\n  function embed_document(root) {\n    var docs_json = {\"16343b0e-0d68-4538-95cf-d465a6ec47b2\":{\"roots\":{\"references\":[{\"attributes\":{},\"id\":\"1027\",\"type\":\"UnionRenderers\"},{\"attributes\":{\"data\":{\"x\":[{\"__ndarray__\":\"AAAAAACEn0AAAAAAAJCfQA==\",\"dtype\":\"float64\",\"order\":\"little\",\"shape\":[2]}],\"y\":[{\"__ndarray__\":\"AAAAAABeykAAAAAAAEDPQA==\",\"dtype\":\"float64\",\"order\":\"little\",\"shape\":[2]}]},\"selected\":{\"id\":\"1024\"},\"selection_policy\":{\"id\":\"1025\"}},\"id\":\"1010\",\"type\":\"ColumnDataSource\"},{\"attributes\":{},\"id\":\"1036\",\"type\":\"Selection\"},{\"attributes\":{\"data\":{\"x\":[{\"__ndarray__\":\"AAAAAACMn0AAAAAAAJCfQA==\",\"dtype\":\"float64\",\"order\":\"little\",\"shape\":[2]}],\"y\":[[1,42]]},\"selected\":{\"id\":\"1036\"},\"selection_policy\":{\"id\":\"1037\"}},\"id\":\"1017\",\"type\":\"ColumnDataSource\"},{\"attributes\":{\"data\":{\"x\":[{\"__ndarray__\":\"AAAAAAB8n0AAAAAAAICfQAAAAAAAhJ9AAAAAAACIn0AAAAAAAIyfQAAAAAAAkJ9A\",\"dtype\":\"float64\",\"order\":\"little\",\"shape\":[6]}],\"y\":[{\"__ndarray__\":\"AAAAADDEAEHC9Shcxe0IQcL1KFy1EQlBwvUoXAWUBEEK16NwC7kAQWZmZubvyyVB\",\"dtype\":\"float64\",\"order\":\"little\",\"shape\":[6]}]},\"selected\":{\"id\":\"1020\"},\"selection_policy\":{\"id\":\"1021\"}},\"id\":\"1008\",\"type\":\"ColumnDataSource\"},{\"attributes\":{},\"id\":\"1038\",\"type\":\"Selection\"},{\"attributes\":{},\"id\":\"1033\",\"type\":\"UnionRenderers\"},{\"attributes\":{\"data\":{\"x\":[{\"__ndarray__\":\"AAAAAACAn0AAAAAAAISfQAAAAAAAiJ9AAAAAAACMn0AAAAAAAJCfQA==\",\"dtype\":\"float64\",\"order\":\"little\",\"shape\":[5]}],\"y\":[{\"__ndarray__\":\"AAAAAECV9kAAAAAA8P3/QAAAAABgPvFAAAAAAFCj8UAAAAAAAHX+QA==\",\"dtype\":\"float64\",\"order\":\"little\",\"shape\":[5]}]},\"selected\":{\"id\":\"1022\"},\"selection_policy\":{\"id\":\"1023\"}},\"id\":\"1009\",\"type\":\"ColumnDataSource\"},{\"attributes\":{},\"id\":\"1037\",\"type\":\"UnionRenderers\"},{\"attributes\":{\"data\":{\"x\":[{\"__ndarray__\":\"AAAAAACMn0AAAAAAAJCfQA==\",\"dtype\":\"float64\",\"order\":\"little\",\"shape\":[2]}],\"y\":[{\"__ndarray__\":\"AAAAAACIk0AAAAAAMCDwQA==\",\"dtype\":\"float64\",\"order\":\"little\",\"shape\":[2]}]},\"selected\":{\"id\":\"1026\"},\"selection_policy\":{\"id\":\"1027\"}},\"id\":\"1011\",\"type\":\"ColumnDataSource\"},{\"attributes\":{\"data\":{\"x\":[{\"__ndarray__\":\"AAAAAACEn0AAAAAAAJCfQA==\",\"dtype\":\"float64\",\"order\":\"little\",\"shape\":[2]}],\"y\":[[2,1]]},\"selected\":{\"id\":\"1034\"},\"selection_policy\":{\"id\":\"1035\"}},\"id\":\"1016\",\"type\":\"ColumnDataSource\"},{\"attributes\":{},\"id\":\"1039\",\"type\":\"UnionRenderers\"},{\"attributes\":{},\"id\":\"1028\",\"type\":\"Selection\"},{\"attributes\":{\"client_comm_id\":\"603c494c115b4f278f46dd1d46101b45\",\"comm_id\":\"d84a20fe8a6445a7aecd6a6c79230738\",\"plot_id\":\"1007\"},\"id\":\"1080\",\"type\":\"panel.models.comm_manager.CommManager\"},{\"attributes\":{},\"id\":\"1021\",\"type\":\"UnionRenderers\"},{\"attributes\":{\"data\":{\"x\":[{\"__ndarray__\":\"AAAAAACAn0AAAAAAAISfQAAAAAAAiJ9AAAAAAACMn0AAAAAAAJCfQA==\",\"dtype\":\"float64\",\"order\":\"little\",\"shape\":[5]}],\"y\":[[7,15,11,19,19]]},\"selected\":{\"id\":\"1032\"},\"selection_policy\":{\"id\":\"1033\"}},\"id\":\"1015\",\"type\":\"ColumnDataSource\"},{\"attributes\":{},\"id\":\"1026\",\"type\":\"Selection\"},{\"attributes\":{},\"id\":\"1025\",\"type\":\"UnionRenderers\"},{\"attributes\":{},\"id\":\"1034\",\"type\":\"Selection\"},{\"attributes\":{\"children\":[{\"id\":\"1013\"},{\"id\":\"1019\"}],\"margin\":[0,0,0,0],\"name\":\"Column01467\"},\"id\":\"1007\",\"type\":\"Column\"},{\"attributes\":{},\"id\":\"1032\",\"type\":\"Selection\"},{\"attributes\":{},\"id\":\"1035\",\"type\":\"UnionRenderers\"},{\"attributes\":{\"data\":{\"x\":[{\"__ndarray__\":\"AAAAAACQn0A=\",\"dtype\":\"float64\",\"order\":\"little\",\"shape\":[1]}],\"y\":[{\"__ndarray__\":\"CtejcD2q/kA=\",\"dtype\":\"float64\",\"order\":\"little\",\"shape\":[1]}]},\"selected\":{\"id\":\"1028\"},\"selection_policy\":{\"id\":\"1029\"}},\"id\":\"1012\",\"type\":\"ColumnDataSource\"},{\"attributes\":{\"data\":{\"x\":[{\"__ndarray__\":\"AAAAAACQn0A=\",\"dtype\":\"float64\",\"order\":\"little\",\"shape\":[1]}],\"y\":[[117]]},\"selected\":{\"id\":\"1038\"},\"selection_policy\":{\"id\":\"1039\"}},\"id\":\"1018\",\"type\":\"ColumnDataSource\"},{\"attributes\":{\"_render_count\":0,\"config\":null,\"data\":[{\"alignmentgroup\":\"True\",\"hovertemplate\":\"Subscription=1 Year<br>Year=%{x}<br>Invoice Amount=%{y}<extra></extra>\",\"legendgroup\":\"1 Year\",\"marker\":{\"color\":\"#636efa\"},\"name\":\"1 Year\",\"offsetgroup\":\"1 Year\",\"orientation\":\"v\",\"showlegend\":true,\"textposition\":\"auto\",\"type\":\"bar\",\"xaxis\":\"x\",\"yaxis\":\"y\"},{\"alignmentgroup\":\"True\",\"hovertemplate\":\"Subscription=3 Years<br>Year=%{x}<br>Invoice Amount=%{y}<extra></extra>\",\"legendgroup\":\"3 Years\",\"marker\":{\"color\":\"#EF553B\"},\"name\":\"3 Years\",\"offsetgroup\":\"3 Years\",\"orientation\":\"v\",\"showlegend\":true,\"textposition\":\"auto\",\"type\":\"bar\",\"xaxis\":\"x\",\"yaxis\":\"y\"},{\"alignmentgroup\":\"True\",\"hovertemplate\":\"Subscription=2 Years<br>Year=%{x}<br>Invoice Amount=%{y}<extra></extra>\",\"legendgroup\":\"2 Years\",\"marker\":{\"color\":\"#00cc96\"},\"name\":\"2 Years\",\"offsetgroup\":\"2 Years\",\"orientation\":\"v\",\"showlegend\":true,\"textposition\":\"auto\",\"type\":\"bar\",\"xaxis\":\"x\",\"yaxis\":\"y\"},{\"alignmentgroup\":\"True\",\"hovertemplate\":\"Subscription=6 Months<br>Year=%{x}<br>Invoice Amount=%{y}<extra></extra>\",\"legendgroup\":\"6 Months\",\"marker\":{\"color\":\"#ab63fa\"},\"name\":\"6 Months\",\"offsetgroup\":\"6 Months\",\"orientation\":\"v\",\"showlegend\":true,\"textposition\":\"auto\",\"type\":\"bar\",\"xaxis\":\"x\",\"yaxis\":\"y\"},{\"alignmentgroup\":\"True\",\"hovertemplate\":\"Subscription=3 Months<br>Year=%{x}<br>Invoice Amount=%{y}<extra></extra>\",\"legendgroup\":\"3 Months\",\"marker\":{\"color\":\"#FFA15A\"},\"name\":\"3 Months\",\"offsetgroup\":\"3 Months\",\"orientation\":\"v\",\"showlegend\":true,\"textposition\":\"auto\",\"type\":\"bar\",\"xaxis\":\"x\",\"yaxis\":\"y\"}],\"data_sources\":[{\"id\":\"1014\"},{\"id\":\"1015\"},{\"id\":\"1016\"},{\"id\":\"1017\"},{\"id\":\"1018\"}],\"layout\":{\"barmode\":\"group\",\"height\":400,\"legend\":{\"title\":{\"text\":\"Subscription\"},\"tracegroupgap\":0},\"template\":{\"data\":{\"bar\":[{\"error_x\":{\"color\":\"#2a3f5f\"},\"error_y\":{\"color\":\"#2a3f5f\"},\"marker\":{\"line\":{\"color\":\"#E5ECF6\",\"width\":0.5}},\"type\":\"bar\"}],\"barpolar\":[{\"marker\":{\"line\":{\"color\":\"#E5ECF6\",\"width\":0.5}},\"type\":\"barpolar\"}],\"carpet\":[{\"aaxis\":{\"endlinecolor\":\"#2a3f5f\",\"gridcolor\":\"white\",\"linecolor\":\"white\",\"minorgridcolor\":\"white\",\"startlinecolor\":\"#2a3f5f\"},\"baxis\":{\"endlinecolor\":\"#2a3f5f\",\"gridcolor\":\"white\",\"linecolor\":\"white\",\"minorgridcolor\":\"white\",\"startlinecolor\":\"#2a3f5f\"},\"type\":\"carpet\"}],\"choropleth\":[{\"colorbar\":{\"outlinewidth\":0,\"ticks\":\"\"},\"type\":\"choropleth\"}],\"contour\":[{\"colorbar\":{\"outlinewidth\":0,\"ticks\":\"\"},\"colorscale\":[[0.0,\"#0d0887\"],[0.1111111111111111,\"#46039f\"],[0.2222222222222222,\"#7201a8\"],[0.3333333333333333,\"#9c179e\"],[0.4444444444444444,\"#bd3786\"],[0.5555555555555556,\"#d8576b\"],[0.6666666666666666,\"#ed7953\"],[0.7777777777777778,\"#fb9f3a\"],[0.8888888888888888,\"#fdca26\"],[1.0,\"#f0f921\"]],\"type\":\"contour\"}],\"contourcarpet\":[{\"colorbar\":{\"outlinewidth\":0,\"ticks\":\"\"},\"type\":\"contourcarpet\"}],\"heatmap\":[{\"colorbar\":{\"outlinewidth\":0,\"ticks\":\"\"},\"colorscale\":[[0.0,\"#0d0887\"],[0.1111111111111111,\"#46039f\"],[0.2222222222222222,\"#7201a8\"],[0.3333333333333333,\"#9c179e\"],[0.4444444444444444,\"#bd3786\"],[0.5555555555555556,\"#d8576b\"],[0.6666666666666666,\"#ed7953\"],[0.7777777777777778,\"#fb9f3a\"],[0.8888888888888888,\"#fdca26\"],[1.0,\"#f0f921\"]],\"type\":\"heatmap\"}],\"heatmapgl\":[{\"colorbar\":{\"outlinewidth\":0,\"ticks\":\"\"},\"colorscale\":[[0.0,\"#0d0887\"],[0.1111111111111111,\"#46039f\"],[0.2222222222222222,\"#7201a8\"],[0.3333333333333333,\"#9c179e\"],[0.4444444444444444,\"#bd3786\"],[0.5555555555555556,\"#d8576b\"],[0.6666666666666666,\"#ed7953\"],[0.7777777777777778,\"#fb9f3a\"],[0.8888888888888888,\"#fdca26\"],[1.0,\"#f0f921\"]],\"type\":\"heatmapgl\"}],\"histogram\":[{\"marker\":{\"colorbar\":{\"outlinewidth\":0,\"ticks\":\"\"}},\"type\":\"histogram\"}],\"histogram2d\":[{\"colorbar\":{\"outlinewidth\":0,\"ticks\":\"\"},\"colorscale\":[[0.0,\"#0d0887\"],[0.1111111111111111,\"#46039f\"],[0.2222222222222222,\"#7201a8\"],[0.3333333333333333,\"#9c179e\"],[0.4444444444444444,\"#bd3786\"],[0.5555555555555556,\"#d8576b\"],[0.6666666666666666,\"#ed7953\"],[0.7777777777777778,\"#fb9f3a\"],[0.8888888888888888,\"#fdca26\"],[1.0,\"#f0f921\"]],\"type\":\"histogram2d\"}],\"histogram2dcontour\":[{\"colorbar\":{\"outlinewidth\":0,\"ticks\":\"\"},\"colorscale\":[[0.0,\"#0d0887\"],[0.1111111111111111,\"#46039f\"],[0.2222222222222222,\"#7201a8\"],[0.3333333333333333,\"#9c179e\"],[0.4444444444444444,\"#bd3786\"],[0.5555555555555556,\"#d8576b\"],[0.6666666666666666,\"#ed7953\"],[0.7777777777777778,\"#fb9f3a\"],[0.8888888888888888,\"#fdca26\"],[1.0,\"#f0f921\"]],\"type\":\"histogram2dcontour\"}],\"mesh3d\":[{\"colorbar\":{\"outlinewidth\":0,\"ticks\":\"\"},\"type\":\"mesh3d\"}],\"parcoords\":[{\"line\":{\"colorbar\":{\"outlinewidth\":0,\"ticks\":\"\"}},\"type\":\"parcoords\"}],\"pie\":[{\"automargin\":true,\"type\":\"pie\"}],\"scatter\":[{\"marker\":{\"colorbar\":{\"outlinewidth\":0,\"ticks\":\"\"}},\"type\":\"scatter\"}],\"scatter3d\":[{\"line\":{\"colorbar\":{\"outlinewidth\":0,\"ticks\":\"\"}},\"marker\":{\"colorbar\":{\"outlinewidth\":0,\"ticks\":\"\"}},\"type\":\"scatter3d\"}],\"scattercarpet\":[{\"marker\":{\"colorbar\":{\"outlinewidth\":0,\"ticks\":\"\"}},\"type\":\"scattercarpet\"}],\"scattergeo\":[{\"marker\":{\"colorbar\":{\"outlinewidth\":0,\"ticks\":\"\"}},\"type\":\"scattergeo\"}],\"scattergl\":[{\"marker\":{\"colorbar\":{\"outlinewidth\":0,\"ticks\":\"\"}},\"type\":\"scattergl\"}],\"scattermapbox\":[{\"marker\":{\"colorbar\":{\"outlinewidth\":0,\"ticks\":\"\"}},\"type\":\"scattermapbox\"}],\"scatterpolar\":[{\"marker\":{\"colorbar\":{\"outlinewidth\":0,\"ticks\":\"\"}},\"type\":\"scatterpolar\"}],\"scatterpolargl\":[{\"marker\":{\"colorbar\":{\"outlinewidth\":0,\"ticks\":\"\"}},\"type\":\"scatterpolargl\"}],\"scatterternary\":[{\"marker\":{\"colorbar\":{\"outlinewidth\":0,\"ticks\":\"\"}},\"type\":\"scatterternary\"}],\"surface\":[{\"colorbar\":{\"outlinewidth\":0,\"ticks\":\"\"},\"colorscale\":[[0.0,\"#0d0887\"],[0.1111111111111111,\"#46039f\"],[0.2222222222222222,\"#7201a8\"],[0.3333333333333333,\"#9c179e\"],[0.4444444444444444,\"#bd3786\"],[0.5555555555555556,\"#d8576b\"],[0.6666666666666666,\"#ed7953\"],[0.7777777777777778,\"#fb9f3a\"],[0.8888888888888888,\"#fdca26\"],[1.0,\"#f0f921\"]],\"type\":\"surface\"}],\"table\":[{\"cells\":{\"fill\":{\"color\":\"#EBF0F8\"},\"line\":{\"color\":\"white\"}},\"header\":{\"fill\":{\"color\":\"#C8D4E3\"},\"line\":{\"color\":\"white\"}},\"type\":\"table\"}]},\"layout\":{\"annotationdefaults\":{\"arrowcolor\":\"#2a3f5f\",\"arrowhead\":0,\"arrowwidth\":1},\"coloraxis\":{\"colorbar\":{\"outlinewidth\":0,\"ticks\":\"\"}},\"colorscale\":{\"diverging\":[[0,\"#8e0152\"],[0.1,\"#c51b7d\"],[0.2,\"#de77ae\"],[0.3,\"#f1b6da\"],[0.4,\"#fde0ef\"],[0.5,\"#f7f7f7\"],[0.6,\"#e6f5d0\"],[0.7,\"#b8e186\"],[0.8,\"#7fbc41\"],[0.9,\"#4d9221\"],[1,\"#276419\"]],\"sequential\":[[0.0,\"#0d0887\"],[0.1111111111111111,\"#46039f\"],[0.2222222222222222,\"#7201a8\"],[0.3333333333333333,\"#9c179e\"],[0.4444444444444444,\"#bd3786\"],[0.5555555555555556,\"#d8576b\"],[0.6666666666666666,\"#ed7953\"],[0.7777777777777778,\"#fb9f3a\"],[0.8888888888888888,\"#fdca26\"],[1.0,\"#f0f921\"]],\"sequentialminus\":[[0.0,\"#0d0887\"],[0.1111111111111111,\"#46039f\"],[0.2222222222222222,\"#7201a8\"],[0.3333333333333333,\"#9c179e\"],[0.4444444444444444,\"#bd3786\"],[0.5555555555555556,\"#d8576b\"],[0.6666666666666666,\"#ed7953\"],[0.7777777777777778,\"#fb9f3a\"],[0.8888888888888888,\"#fdca26\"],[1.0,\"#f0f921\"]]},\"colorway\":[\"#636efa\",\"#EF553B\",\"#00cc96\",\"#ab63fa\",\"#FFA15A\",\"#19d3f3\",\"#FF6692\",\"#B6E880\",\"#FF97FF\",\"#FECB52\"],\"font\":{\"color\":\"#2a3f5f\"},\"geo\":{\"bgcolor\":\"white\",\"lakecolor\":\"white\",\"landcolor\":\"#E5ECF6\",\"showlakes\":true,\"showland\":true,\"subunitcolor\":\"white\"},\"hoverlabel\":{\"align\":\"left\"},\"hovermode\":\"closest\",\"mapbox\":{\"style\":\"light\"},\"paper_bgcolor\":\"white\",\"plot_bgcolor\":\"#E5ECF6\",\"polar\":{\"angularaxis\":{\"gridcolor\":\"white\",\"linecolor\":\"white\",\"ticks\":\"\"},\"bgcolor\":\"#E5ECF6\",\"radialaxis\":{\"gridcolor\":\"white\",\"linecolor\":\"white\",\"ticks\":\"\"}},\"scene\":{\"xaxis\":{\"backgroundcolor\":\"#E5ECF6\",\"gridcolor\":\"white\",\"gridwidth\":2,\"linecolor\":\"white\",\"showbackground\":true,\"ticks\":\"\",\"zerolinecolor\":\"white\"},\"yaxis\":{\"backgroundcolor\":\"#E5ECF6\",\"gridcolor\":\"white\",\"gridwidth\":2,\"linecolor\":\"white\",\"showbackground\":true,\"ticks\":\"\",\"zerolinecolor\":\"white\"},\"zaxis\":{\"backgroundcolor\":\"#E5ECF6\",\"gridcolor\":\"white\",\"gridwidth\":2,\"linecolor\":\"white\",\"showbackground\":true,\"ticks\":\"\",\"zerolinecolor\":\"white\"}},\"shapedefaults\":{\"line\":{\"color\":\"#2a3f5f\"}},\"ternary\":{\"aaxis\":{\"gridcolor\":\"white\",\"linecolor\":\"white\",\"ticks\":\"\"},\"baxis\":{\"gridcolor\":\"white\",\"linecolor\":\"white\",\"ticks\":\"\"},\"bgcolor\":\"#E5ECF6\",\"caxis\":{\"gridcolor\":\"white\",\"linecolor\":\"white\",\"ticks\":\"\"}},\"title\":{\"x\":0.05},\"xaxis\":{\"automargin\":true,\"gridcolor\":\"white\",\"linecolor\":\"white\",\"ticks\":\"\",\"title\":{\"standoff\":15},\"zerolinecolor\":\"white\",\"zerolinewidth\":2},\"yaxis\":{\"automargin\":true,\"gridcolor\":\"white\",\"linecolor\":\"white\",\"ticks\":\"\",\"title\":{\"standoff\":15},\"zerolinecolor\":\"white\",\"zerolinewidth\":2}}},\"title\":{\"text\":\"Nbr. Invoices per Subscription: 2015 - 2020\"},\"width\":800,\"xaxis\":{\"anchor\":\"y\",\"domain\":[0.0,1.0],\"title\":{\"text\":\"Year\"}},\"yaxis\":{\"anchor\":\"x\",\"domain\":[0.0,1.0],\"title\":{\"text\":\"Nbr. of Invoices\"}}},\"margin\":[5,5,5,5],\"name\":\"Plotly01465\",\"viewport_update_throttle\":200},\"id\":\"1019\",\"type\":\"panel.models.plotly.PlotlyPlot\"},{\"attributes\":{},\"id\":\"1030\",\"type\":\"Selection\"},{\"attributes\":{},\"id\":\"1029\",\"type\":\"UnionRenderers\"},{\"attributes\":{\"data\":{\"x\":[{\"__ndarray__\":\"AAAAAAB8n0AAAAAAAICfQAAAAAAAhJ9AAAAAAACIn0AAAAAAAIyfQAAAAAAAkJ9A\",\"dtype\":\"float64\",\"order\":\"little\",\"shape\":[6]}],\"y\":[[9,45,44,53,65,214]]},\"selected\":{\"id\":\"1030\"},\"selection_policy\":{\"id\":\"1031\"}},\"id\":\"1014\",\"type\":\"ColumnDataSource\"},{\"attributes\":{},\"id\":\"1020\",\"type\":\"Selection\"},{\"attributes\":{},\"id\":\"1031\",\"type\":\"UnionRenderers\"},{\"attributes\":{},\"id\":\"1022\",\"type\":\"Selection\"},{\"attributes\":{},\"id\":\"1024\",\"type\":\"Selection\"},{\"attributes\":{},\"id\":\"1023\",\"type\":\"UnionRenderers\"},{\"attributes\":{\"_render_count\":0,\"config\":null,\"data\":[{\"alignmentgroup\":\"True\",\"hovertemplate\":\"Subscription=1 Year<br>Year=%{x}<br>Invoice Amount=%{y}<extra></extra>\",\"legendgroup\":\"1 Year\",\"marker\":{\"color\":\"#636efa\"},\"name\":\"1 Year\",\"offsetgroup\":\"1 Year\",\"orientation\":\"v\",\"showlegend\":true,\"textposition\":\"auto\",\"type\":\"bar\",\"xaxis\":\"x\",\"yaxis\":\"y\"},{\"alignmentgroup\":\"True\",\"hovertemplate\":\"Subscription=3 Years<br>Year=%{x}<br>Invoice Amount=%{y}<extra></extra>\",\"legendgroup\":\"3 Years\",\"marker\":{\"color\":\"#EF553B\"},\"name\":\"3 Years\",\"offsetgroup\":\"3 Years\",\"orientation\":\"v\",\"showlegend\":true,\"textposition\":\"auto\",\"type\":\"bar\",\"xaxis\":\"x\",\"yaxis\":\"y\"},{\"alignmentgroup\":\"True\",\"hovertemplate\":\"Subscription=2 Years<br>Year=%{x}<br>Invoice Amount=%{y}<extra></extra>\",\"legendgroup\":\"2 Years\",\"marker\":{\"color\":\"#00cc96\"},\"name\":\"2 Years\",\"offsetgroup\":\"2 Years\",\"orientation\":\"v\",\"showlegend\":true,\"textposition\":\"auto\",\"type\":\"bar\",\"xaxis\":\"x\",\"yaxis\":\"y\"},{\"alignmentgroup\":\"True\",\"hovertemplate\":\"Subscription=6 Months<br>Year=%{x}<br>Invoice Amount=%{y}<extra></extra>\",\"legendgroup\":\"6 Months\",\"marker\":{\"color\":\"#ab63fa\"},\"name\":\"6 Months\",\"offsetgroup\":\"6 Months\",\"orientation\":\"v\",\"showlegend\":true,\"textposition\":\"auto\",\"type\":\"bar\",\"xaxis\":\"x\",\"yaxis\":\"y\"},{\"alignmentgroup\":\"True\",\"hovertemplate\":\"Subscription=3 Months<br>Year=%{x}<br>Invoice Amount=%{y}<extra></extra>\",\"legendgroup\":\"3 Months\",\"marker\":{\"color\":\"#FFA15A\"},\"name\":\"3 Months\",\"offsetgroup\":\"3 Months\",\"orientation\":\"v\",\"showlegend\":true,\"textposition\":\"auto\",\"type\":\"bar\",\"xaxis\":\"x\",\"yaxis\":\"y\"}],\"data_sources\":[{\"id\":\"1008\"},{\"id\":\"1009\"},{\"id\":\"1010\"},{\"id\":\"1011\"},{\"id\":\"1012\"}],\"layout\":{\"barmode\":\"group\",\"height\":400,\"legend\":{\"title\":{\"text\":\"Subscription\"},\"tracegroupgap\":0},\"template\":{\"data\":{\"bar\":[{\"error_x\":{\"color\":\"#2a3f5f\"},\"error_y\":{\"color\":\"#2a3f5f\"},\"marker\":{\"line\":{\"color\":\"#E5ECF6\",\"width\":0.5}},\"type\":\"bar\"}],\"barpolar\":[{\"marker\":{\"line\":{\"color\":\"#E5ECF6\",\"width\":0.5}},\"type\":\"barpolar\"}],\"carpet\":[{\"aaxis\":{\"endlinecolor\":\"#2a3f5f\",\"gridcolor\":\"white\",\"linecolor\":\"white\",\"minorgridcolor\":\"white\",\"startlinecolor\":\"#2a3f5f\"},\"baxis\":{\"endlinecolor\":\"#2a3f5f\",\"gridcolor\":\"white\",\"linecolor\":\"white\",\"minorgridcolor\":\"white\",\"startlinecolor\":\"#2a3f5f\"},\"type\":\"carpet\"}],\"choropleth\":[{\"colorbar\":{\"outlinewidth\":0,\"ticks\":\"\"},\"type\":\"choropleth\"}],\"contour\":[{\"colorbar\":{\"outlinewidth\":0,\"ticks\":\"\"},\"colorscale\":[[0.0,\"#0d0887\"],[0.1111111111111111,\"#46039f\"],[0.2222222222222222,\"#7201a8\"],[0.3333333333333333,\"#9c179e\"],[0.4444444444444444,\"#bd3786\"],[0.5555555555555556,\"#d8576b\"],[0.6666666666666666,\"#ed7953\"],[0.7777777777777778,\"#fb9f3a\"],[0.8888888888888888,\"#fdca26\"],[1.0,\"#f0f921\"]],\"type\":\"contour\"}],\"contourcarpet\":[{\"colorbar\":{\"outlinewidth\":0,\"ticks\":\"\"},\"type\":\"contourcarpet\"}],\"heatmap\":[{\"colorbar\":{\"outlinewidth\":0,\"ticks\":\"\"},\"colorscale\":[[0.0,\"#0d0887\"],[0.1111111111111111,\"#46039f\"],[0.2222222222222222,\"#7201a8\"],[0.3333333333333333,\"#9c179e\"],[0.4444444444444444,\"#bd3786\"],[0.5555555555555556,\"#d8576b\"],[0.6666666666666666,\"#ed7953\"],[0.7777777777777778,\"#fb9f3a\"],[0.8888888888888888,\"#fdca26\"],[1.0,\"#f0f921\"]],\"type\":\"heatmap\"}],\"heatmapgl\":[{\"colorbar\":{\"outlinewidth\":0,\"ticks\":\"\"},\"colorscale\":[[0.0,\"#0d0887\"],[0.1111111111111111,\"#46039f\"],[0.2222222222222222,\"#7201a8\"],[0.3333333333333333,\"#9c179e\"],[0.4444444444444444,\"#bd3786\"],[0.5555555555555556,\"#d8576b\"],[0.6666666666666666,\"#ed7953\"],[0.7777777777777778,\"#fb9f3a\"],[0.8888888888888888,\"#fdca26\"],[1.0,\"#f0f921\"]],\"type\":\"heatmapgl\"}],\"histogram\":[{\"marker\":{\"colorbar\":{\"outlinewidth\":0,\"ticks\":\"\"}},\"type\":\"histogram\"}],\"histogram2d\":[{\"colorbar\":{\"outlinewidth\":0,\"ticks\":\"\"},\"colorscale\":[[0.0,\"#0d0887\"],[0.1111111111111111,\"#46039f\"],[0.2222222222222222,\"#7201a8\"],[0.3333333333333333,\"#9c179e\"],[0.4444444444444444,\"#bd3786\"],[0.5555555555555556,\"#d8576b\"],[0.6666666666666666,\"#ed7953\"],[0.7777777777777778,\"#fb9f3a\"],[0.8888888888888888,\"#fdca26\"],[1.0,\"#f0f921\"]],\"type\":\"histogram2d\"}],\"histogram2dcontour\":[{\"colorbar\":{\"outlinewidth\":0,\"ticks\":\"\"},\"colorscale\":[[0.0,\"#0d0887\"],[0.1111111111111111,\"#46039f\"],[0.2222222222222222,\"#7201a8\"],[0.3333333333333333,\"#9c179e\"],[0.4444444444444444,\"#bd3786\"],[0.5555555555555556,\"#d8576b\"],[0.6666666666666666,\"#ed7953\"],[0.7777777777777778,\"#fb9f3a\"],[0.8888888888888888,\"#fdca26\"],[1.0,\"#f0f921\"]],\"type\":\"histogram2dcontour\"}],\"mesh3d\":[{\"colorbar\":{\"outlinewidth\":0,\"ticks\":\"\"},\"type\":\"mesh3d\"}],\"parcoords\":[{\"line\":{\"colorbar\":{\"outlinewidth\":0,\"ticks\":\"\"}},\"type\":\"parcoords\"}],\"pie\":[{\"automargin\":true,\"type\":\"pie\"}],\"scatter\":[{\"marker\":{\"colorbar\":{\"outlinewidth\":0,\"ticks\":\"\"}},\"type\":\"scatter\"}],\"scatter3d\":[{\"line\":{\"colorbar\":{\"outlinewidth\":0,\"ticks\":\"\"}},\"marker\":{\"colorbar\":{\"outlinewidth\":0,\"ticks\":\"\"}},\"type\":\"scatter3d\"}],\"scattercarpet\":[{\"marker\":{\"colorbar\":{\"outlinewidth\":0,\"ticks\":\"\"}},\"type\":\"scattercarpet\"}],\"scattergeo\":[{\"marker\":{\"colorbar\":{\"outlinewidth\":0,\"ticks\":\"\"}},\"type\":\"scattergeo\"}],\"scattergl\":[{\"marker\":{\"colorbar\":{\"outlinewidth\":0,\"ticks\":\"\"}},\"type\":\"scattergl\"}],\"scattermapbox\":[{\"marker\":{\"colorbar\":{\"outlinewidth\":0,\"ticks\":\"\"}},\"type\":\"scattermapbox\"}],\"scatterpolar\":[{\"marker\":{\"colorbar\":{\"outlinewidth\":0,\"ticks\":\"\"}},\"type\":\"scatterpolar\"}],\"scatterpolargl\":[{\"marker\":{\"colorbar\":{\"outlinewidth\":0,\"ticks\":\"\"}},\"type\":\"scatterpolargl\"}],\"scatterternary\":[{\"marker\":{\"colorbar\":{\"outlinewidth\":0,\"ticks\":\"\"}},\"type\":\"scatterternary\"}],\"surface\":[{\"colorbar\":{\"outlinewidth\":0,\"ticks\":\"\"},\"colorscale\":[[0.0,\"#0d0887\"],[0.1111111111111111,\"#46039f\"],[0.2222222222222222,\"#7201a8\"],[0.3333333333333333,\"#9c179e\"],[0.4444444444444444,\"#bd3786\"],[0.5555555555555556,\"#d8576b\"],[0.6666666666666666,\"#ed7953\"],[0.7777777777777778,\"#fb9f3a\"],[0.8888888888888888,\"#fdca26\"],[1.0,\"#f0f921\"]],\"type\":\"surface\"}],\"table\":[{\"cells\":{\"fill\":{\"color\":\"#EBF0F8\"},\"line\":{\"color\":\"white\"}},\"header\":{\"fill\":{\"color\":\"#C8D4E3\"},\"line\":{\"color\":\"white\"}},\"type\":\"table\"}]},\"layout\":{\"annotationdefaults\":{\"arrowcolor\":\"#2a3f5f\",\"arrowhead\":0,\"arrowwidth\":1},\"coloraxis\":{\"colorbar\":{\"outlinewidth\":0,\"ticks\":\"\"}},\"colorscale\":{\"diverging\":[[0,\"#8e0152\"],[0.1,\"#c51b7d\"],[0.2,\"#de77ae\"],[0.3,\"#f1b6da\"],[0.4,\"#fde0ef\"],[0.5,\"#f7f7f7\"],[0.6,\"#e6f5d0\"],[0.7,\"#b8e186\"],[0.8,\"#7fbc41\"],[0.9,\"#4d9221\"],[1,\"#276419\"]],\"sequential\":[[0.0,\"#0d0887\"],[0.1111111111111111,\"#46039f\"],[0.2222222222222222,\"#7201a8\"],[0.3333333333333333,\"#9c179e\"],[0.4444444444444444,\"#bd3786\"],[0.5555555555555556,\"#d8576b\"],[0.6666666666666666,\"#ed7953\"],[0.7777777777777778,\"#fb9f3a\"],[0.8888888888888888,\"#fdca26\"],[1.0,\"#f0f921\"]],\"sequentialminus\":[[0.0,\"#0d0887\"],[0.1111111111111111,\"#46039f\"],[0.2222222222222222,\"#7201a8\"],[0.3333333333333333,\"#9c179e\"],[0.4444444444444444,\"#bd3786\"],[0.5555555555555556,\"#d8576b\"],[0.6666666666666666,\"#ed7953\"],[0.7777777777777778,\"#fb9f3a\"],[0.8888888888888888,\"#fdca26\"],[1.0,\"#f0f921\"]]},\"colorway\":[\"#636efa\",\"#EF553B\",\"#00cc96\",\"#ab63fa\",\"#FFA15A\",\"#19d3f3\",\"#FF6692\",\"#B6E880\",\"#FF97FF\",\"#FECB52\"],\"font\":{\"color\":\"#2a3f5f\"},\"geo\":{\"bgcolor\":\"white\",\"lakecolor\":\"white\",\"landcolor\":\"#E5ECF6\",\"showlakes\":true,\"showland\":true,\"subunitcolor\":\"white\"},\"hoverlabel\":{\"align\":\"left\"},\"hovermode\":\"closest\",\"mapbox\":{\"style\":\"light\"},\"paper_bgcolor\":\"white\",\"plot_bgcolor\":\"#E5ECF6\",\"polar\":{\"angularaxis\":{\"gridcolor\":\"white\",\"linecolor\":\"white\",\"ticks\":\"\"},\"bgcolor\":\"#E5ECF6\",\"radialaxis\":{\"gridcolor\":\"white\",\"linecolor\":\"white\",\"ticks\":\"\"}},\"scene\":{\"xaxis\":{\"backgroundcolor\":\"#E5ECF6\",\"gridcolor\":\"white\",\"gridwidth\":2,\"linecolor\":\"white\",\"showbackground\":true,\"ticks\":\"\",\"zerolinecolor\":\"white\"},\"yaxis\":{\"backgroundcolor\":\"#E5ECF6\",\"gridcolor\":\"white\",\"gridwidth\":2,\"linecolor\":\"white\",\"showbackground\":true,\"ticks\":\"\",\"zerolinecolor\":\"white\"},\"zaxis\":{\"backgroundcolor\":\"#E5ECF6\",\"gridcolor\":\"white\",\"gridwidth\":2,\"linecolor\":\"white\",\"showbackground\":true,\"ticks\":\"\",\"zerolinecolor\":\"white\"}},\"shapedefaults\":{\"line\":{\"color\":\"#2a3f5f\"}},\"ternary\":{\"aaxis\":{\"gridcolor\":\"white\",\"linecolor\":\"white\",\"ticks\":\"\"},\"baxis\":{\"gridcolor\":\"white\",\"linecolor\":\"white\",\"ticks\":\"\"},\"bgcolor\":\"#E5ECF6\",\"caxis\":{\"gridcolor\":\"white\",\"linecolor\":\"white\",\"ticks\":\"\"}},\"title\":{\"x\":0.05},\"xaxis\":{\"automargin\":true,\"gridcolor\":\"white\",\"linecolor\":\"white\",\"ticks\":\"\",\"title\":{\"standoff\":15},\"zerolinecolor\":\"white\",\"zerolinewidth\":2},\"yaxis\":{\"automargin\":true,\"gridcolor\":\"white\",\"linecolor\":\"white\",\"ticks\":\"\",\"title\":{\"standoff\":15},\"zerolinecolor\":\"white\",\"zerolinewidth\":2}}},\"title\":{\"text\":\"Total Invoice Amount per Subscription: 2015 - 2020\"},\"width\":800,\"xaxis\":{\"anchor\":\"y\",\"domain\":[0.0,1.0],\"title\":{\"text\":\"Year\"}},\"yaxis\":{\"anchor\":\"x\",\"domain\":[0.0,1.0],\"title\":{\"text\":\"Invoice Amount ($)\"}}},\"margin\":[5,5,5,5],\"name\":\"Plotly01463\",\"viewport_update_throttle\":200},\"id\":\"1013\",\"type\":\"panel.models.plotly.PlotlyPlot\"}],\"root_ids\":[\"1007\",\"1080\"]},\"title\":\"Bokeh Application\",\"version\":\"2.2.3\"}};\n    var render_items = [{\"docid\":\"16343b0e-0d68-4538-95cf-d465a6ec47b2\",\"root_ids\":[\"1007\"],\"roots\":{\"1007\":\"959b9cd8-fce6-4b40-9fd7-101d3166c2cc\"}}];\n    root.Bokeh.embed.embed_items_notebook(docs_json, render_items);\n  }\n  if (root.Bokeh !== undefined && root.Bokeh.Panel !== undefined) {\n    embed_document(root);\n  } else {\n    var attempts = 0;\n    var timer = setInterval(function(root) {\n      if (root.Bokeh !== undefined && root.Bokeh.Panel !== undefined) {\n        clearInterval(timer);\n        embed_document(root);\n      } else if (document.readyState == \"complete\") {\n        attempts++;\n        if (attempts > 100) {\n          clearInterval(timer);\n          console.log(\"Bokeh: ERROR: Unable to run BokehJS code because BokehJS library is missing\");\n        }\n      }\n    }, 10, root)\n  }\n})(window);</script>",
      "application/vnd.holoviews_exec.v0+json": "",
      "text/plain": [
       "Column\n",
       "    [0] Plotly(Figure)\n",
       "    [1] Plotly(Figure)"
      ]
     },
     "metadata": {
      "application/vnd.holoviews_exec.v0+json": {
       "id": "1007"
      }
     },
     "execution_count": 19
    }
   ],
   "source": [
    "# demo to get different plot sizes\n",
    "pn.Column(plt__atlas_grouped__year_subscription__sum, plt__atlas_grouped__year_subscription__count)"
   ]
  },
  {
   "cell_type": "code",
   "execution_count": null,
   "metadata": {},
   "outputs": [],
   "source": []
  },
  {
   "cell_type": "code",
   "execution_count": 24,
   "metadata": {},
   "outputs": [
    {
     "output_type": "error",
     "ename": "ValueError",
     "evalue": "\n    Invalid element(s) received for the 'data' property of \n        Invalid elements include: [:Bars   [Year,Subscription]   (Invoice Amount)]\n\n    The 'data' property is a tuple of trace instances\n    that may be specified as:\n      - A list or tuple of trace instances\n        (e.g. [Scatter(...), Bar(...)])\n      - A single trace instance\n        (e.g. Scatter(...), Bar(...), etc.)\n      - A list or tuple of dicts of string/value properties where:\n        - The 'type' property specifies the trace type\n            One of: ['area', 'bar', 'barpolar', 'box',\n                     'candlestick', 'carpet', 'choropleth',\n                     'choroplethmapbox', 'cone', 'contour',\n                     'contourcarpet', 'densitymapbox', 'funnel',\n                     'funnelarea', 'heatmap', 'heatmapgl',\n                     'histogram', 'histogram2d',\n                     'histogram2dcontour', 'image', 'indicator',\n                     'isosurface', 'mesh3d', 'ohlc', 'parcats',\n                     'parcoords', 'pie', 'pointcloud', 'sankey',\n                     'scatter', 'scatter3d', 'scattercarpet',\n                     'scattergeo', 'scattergl', 'scattermapbox',\n                     'scatterpolar', 'scatterpolargl',\n                     'scatterternary', 'splom', 'streamtube',\n                     'sunburst', 'surface', 'table', 'treemap',\n                     'violin', 'volume', 'waterfall']\n\n        - All remaining properties are passed to the constructor of\n          the specified trace type\n\n        (e.g. [{'type': 'scatter', ...}, {'type': 'bar, ...}])",
     "traceback": [
      "\u001b[1;31m---------------------------------------------------------------------------\u001b[0m",
      "\u001b[1;31mValueError\u001b[0m                                Traceback (most recent call last)",
      "\u001b[1;32m<ipython-input-24-855fdaa198d8>\u001b[0m in \u001b[0;36m<module>\u001b[1;34m\u001b[0m\n\u001b[0;32m     27\u001b[0m \u001b[0mplot_group\u001b[0m \u001b[1;33m=\u001b[0m \u001b[0msubplots\u001b[0m\u001b[1;33m.\u001b[0m\u001b[0mmake_subplots\u001b[0m\u001b[1;33m(\u001b[0m\u001b[0mrows\u001b[0m\u001b[1;33m=\u001b[0m\u001b[1;36m3\u001b[0m\u001b[1;33m,\u001b[0m \u001b[0mcols\u001b[0m\u001b[1;33m=\u001b[0m\u001b[1;36m1\u001b[0m\u001b[1;33m)\u001b[0m\u001b[1;33m\u001b[0m\u001b[1;33m\u001b[0m\u001b[0m\n\u001b[0;32m     28\u001b[0m \u001b[1;33m\u001b[0m\u001b[0m\n\u001b[1;32m---> 29\u001b[1;33m \u001b[0mplot_group\u001b[0m\u001b[1;33m.\u001b[0m\u001b[0mappend_trace\u001b[0m\u001b[1;33m(\u001b[0m\u001b[0mplt__atlas_grouped__year_subscription__mean\u001b[0m\u001b[1;33m,\u001b[0m \u001b[1;36m1\u001b[0m\u001b[1;33m,\u001b[0m \u001b[1;36m1\u001b[0m\u001b[1;33m)\u001b[0m\u001b[1;33m\u001b[0m\u001b[1;33m\u001b[0m\u001b[0m\n\u001b[0m\u001b[0;32m     30\u001b[0m \u001b[0mplot_group\u001b[0m\u001b[1;33m.\u001b[0m\u001b[0mappend_trace\u001b[0m\u001b[1;33m(\u001b[0m\u001b[0mplt__atlas_grouped__year_subscription__sum\u001b[0m\u001b[1;33m,\u001b[0m \u001b[1;36m2\u001b[0m\u001b[1;33m,\u001b[0m \u001b[1;36m1\u001b[0m\u001b[1;33m)\u001b[0m\u001b[1;33m\u001b[0m\u001b[1;33m\u001b[0m\u001b[0m\n\u001b[0;32m     31\u001b[0m \u001b[0mplot_group\u001b[0m\u001b[1;33m.\u001b[0m\u001b[0mappend_trace\u001b[0m\u001b[1;33m(\u001b[0m\u001b[0mplt__atlas_grouped__year_subscription__count\u001b[0m\u001b[1;33m,\u001b[0m \u001b[1;36m3\u001b[0m\u001b[1;33m,\u001b[0m \u001b[1;36m1\u001b[0m\u001b[1;33m)\u001b[0m\u001b[1;33m\u001b[0m\u001b[1;33m\u001b[0m\u001b[0m\n",
      "\u001b[1;32mC:\\ProgramData\\Anaconda3\\envs\\pyvizenv\\lib\\site-packages\\plotly\\basedatatypes.py\u001b[0m in \u001b[0;36mappend_trace\u001b[1;34m(self, trace, row, col)\u001b[0m\n\u001b[0;32m   2077\u001b[0m         )\n\u001b[0;32m   2078\u001b[0m \u001b[1;33m\u001b[0m\u001b[0m\n\u001b[1;32m-> 2079\u001b[1;33m         \u001b[0mself\u001b[0m\u001b[1;33m.\u001b[0m\u001b[0madd_trace\u001b[0m\u001b[1;33m(\u001b[0m\u001b[0mtrace\u001b[0m\u001b[1;33m=\u001b[0m\u001b[0mtrace\u001b[0m\u001b[1;33m,\u001b[0m \u001b[0mrow\u001b[0m\u001b[1;33m=\u001b[0m\u001b[0mrow\u001b[0m\u001b[1;33m,\u001b[0m \u001b[0mcol\u001b[0m\u001b[1;33m=\u001b[0m\u001b[0mcol\u001b[0m\u001b[1;33m)\u001b[0m\u001b[1;33m\u001b[0m\u001b[1;33m\u001b[0m\u001b[0m\n\u001b[0m\u001b[0;32m   2080\u001b[0m \u001b[1;33m\u001b[0m\u001b[0m\n\u001b[0;32m   2081\u001b[0m     \u001b[1;32mdef\u001b[0m \u001b[0m_set_trace_grid_position\u001b[0m\u001b[1;33m(\u001b[0m\u001b[0mself\u001b[0m\u001b[1;33m,\u001b[0m \u001b[0mtrace\u001b[0m\u001b[1;33m,\u001b[0m \u001b[0mrow\u001b[0m\u001b[1;33m,\u001b[0m \u001b[0mcol\u001b[0m\u001b[1;33m,\u001b[0m \u001b[0msecondary_y\u001b[0m\u001b[1;33m=\u001b[0m\u001b[1;32mFalse\u001b[0m\u001b[1;33m)\u001b[0m\u001b[1;33m:\u001b[0m\u001b[1;33m\u001b[0m\u001b[1;33m\u001b[0m\u001b[0m\n",
      "\u001b[1;32mC:\\ProgramData\\Anaconda3\\envs\\pyvizenv\\lib\\site-packages\\plotly\\basedatatypes.py\u001b[0m in \u001b[0;36madd_trace\u001b[1;34m(self, trace, row, col, secondary_y, exclude_empty_subplots)\u001b[0m\n\u001b[0;32m   1861\u001b[0m             \u001b[1;32mreturn\u001b[0m \u001b[0mself\u001b[0m\u001b[1;33m\u001b[0m\u001b[1;33m\u001b[0m\u001b[0m\n\u001b[0;32m   1862\u001b[0m \u001b[1;33m\u001b[0m\u001b[0m\n\u001b[1;32m-> 1863\u001b[1;33m         return self.add_traces(\n\u001b[0m\u001b[0;32m   1864\u001b[0m             \u001b[0mdata\u001b[0m\u001b[1;33m=\u001b[0m\u001b[1;33m[\u001b[0m\u001b[0mtrace\u001b[0m\u001b[1;33m]\u001b[0m\u001b[1;33m,\u001b[0m\u001b[1;33m\u001b[0m\u001b[1;33m\u001b[0m\u001b[0m\n\u001b[0;32m   1865\u001b[0m             \u001b[0mrows\u001b[0m\u001b[1;33m=\u001b[0m\u001b[1;33m[\u001b[0m\u001b[0mrow\u001b[0m\u001b[1;33m]\u001b[0m \u001b[1;32mif\u001b[0m \u001b[0mrow\u001b[0m \u001b[1;32mis\u001b[0m \u001b[1;32mnot\u001b[0m \u001b[1;32mNone\u001b[0m \u001b[1;32melse\u001b[0m \u001b[1;32mNone\u001b[0m\u001b[1;33m,\u001b[0m\u001b[1;33m\u001b[0m\u001b[1;33m\u001b[0m\u001b[0m\n",
      "\u001b[1;32mC:\\ProgramData\\Anaconda3\\envs\\pyvizenv\\lib\\site-packages\\plotly\\basedatatypes.py\u001b[0m in \u001b[0;36madd_traces\u001b[1;34m(self, data, rows, cols, secondary_ys, exclude_empty_subplots)\u001b[0m\n\u001b[0;32m   1945\u001b[0m \u001b[1;33m\u001b[0m\u001b[0m\n\u001b[0;32m   1946\u001b[0m         \u001b[1;31m# Validate traces\u001b[0m\u001b[1;33m\u001b[0m\u001b[1;33m\u001b[0m\u001b[1;33m\u001b[0m\u001b[0m\n\u001b[1;32m-> 1947\u001b[1;33m         \u001b[0mdata\u001b[0m \u001b[1;33m=\u001b[0m \u001b[0mself\u001b[0m\u001b[1;33m.\u001b[0m\u001b[0m_data_validator\u001b[0m\u001b[1;33m.\u001b[0m\u001b[0mvalidate_coerce\u001b[0m\u001b[1;33m(\u001b[0m\u001b[0mdata\u001b[0m\u001b[1;33m)\u001b[0m\u001b[1;33m\u001b[0m\u001b[1;33m\u001b[0m\u001b[0m\n\u001b[0m\u001b[0;32m   1948\u001b[0m \u001b[1;33m\u001b[0m\u001b[0m\n\u001b[0;32m   1949\u001b[0m         \u001b[1;31m# Set trace indexes\u001b[0m\u001b[1;33m\u001b[0m\u001b[1;33m\u001b[0m\u001b[1;33m\u001b[0m\u001b[0m\n",
      "\u001b[1;32mC:\\ProgramData\\Anaconda3\\envs\\pyvizenv\\lib\\site-packages\\_plotly_utils\\basevalidators.py\u001b[0m in \u001b[0;36mvalidate_coerce\u001b[1;34m(self, v, skip_invalid, _validate)\u001b[0m\n\u001b[0;32m   2673\u001b[0m \u001b[1;33m\u001b[0m\u001b[0m\n\u001b[0;32m   2674\u001b[0m             \u001b[1;32mif\u001b[0m \u001b[0minvalid_els\u001b[0m\u001b[1;33m:\u001b[0m\u001b[1;33m\u001b[0m\u001b[1;33m\u001b[0m\u001b[0m\n\u001b[1;32m-> 2675\u001b[1;33m                 \u001b[0mself\u001b[0m\u001b[1;33m.\u001b[0m\u001b[0mraise_invalid_elements\u001b[0m\u001b[1;33m(\u001b[0m\u001b[0minvalid_els\u001b[0m\u001b[1;33m)\u001b[0m\u001b[1;33m\u001b[0m\u001b[1;33m\u001b[0m\u001b[0m\n\u001b[0m\u001b[0;32m   2676\u001b[0m \u001b[1;33m\u001b[0m\u001b[0m\n\u001b[0;32m   2677\u001b[0m             \u001b[0mv\u001b[0m \u001b[1;33m=\u001b[0m \u001b[0mto_scalar_or_list\u001b[0m\u001b[1;33m(\u001b[0m\u001b[0mres\u001b[0m\u001b[1;33m)\u001b[0m\u001b[1;33m\u001b[0m\u001b[1;33m\u001b[0m\u001b[0m\n",
      "\u001b[1;32mC:\\ProgramData\\Anaconda3\\envs\\pyvizenv\\lib\\site-packages\\_plotly_utils\\basevalidators.py\u001b[0m in \u001b[0;36mraise_invalid_elements\u001b[1;34m(self, invalid_els)\u001b[0m\n\u001b[0;32m    289\u001b[0m     \u001b[1;32mdef\u001b[0m \u001b[0mraise_invalid_elements\u001b[0m\u001b[1;33m(\u001b[0m\u001b[0mself\u001b[0m\u001b[1;33m,\u001b[0m \u001b[0minvalid_els\u001b[0m\u001b[1;33m)\u001b[0m\u001b[1;33m:\u001b[0m\u001b[1;33m\u001b[0m\u001b[1;33m\u001b[0m\u001b[0m\n\u001b[0;32m    290\u001b[0m         \u001b[1;32mif\u001b[0m \u001b[0minvalid_els\u001b[0m\u001b[1;33m:\u001b[0m\u001b[1;33m\u001b[0m\u001b[1;33m\u001b[0m\u001b[0m\n\u001b[1;32m--> 291\u001b[1;33m             raise ValueError(\n\u001b[0m\u001b[0;32m    292\u001b[0m                 \"\"\"\n\u001b[0;32m    293\u001b[0m     \u001b[0mInvalid\u001b[0m \u001b[0melement\u001b[0m\u001b[1;33m(\u001b[0m\u001b[0ms\u001b[0m\u001b[1;33m)\u001b[0m \u001b[0mreceived\u001b[0m \u001b[1;32mfor\u001b[0m \u001b[0mthe\u001b[0m \u001b[1;34m'{name}'\u001b[0m \u001b[0mproperty\u001b[0m \u001b[0mof\u001b[0m \u001b[1;33m{\u001b[0m\u001b[0mpname\u001b[0m\u001b[1;33m}\u001b[0m\u001b[1;33m\u001b[0m\u001b[1;33m\u001b[0m\u001b[0m\n",
      "\u001b[1;31mValueError\u001b[0m: \n    Invalid element(s) received for the 'data' property of \n        Invalid elements include: [:Bars   [Year,Subscription]   (Invoice Amount)]\n\n    The 'data' property is a tuple of trace instances\n    that may be specified as:\n      - A list or tuple of trace instances\n        (e.g. [Scatter(...), Bar(...)])\n      - A single trace instance\n        (e.g. Scatter(...), Bar(...), etc.)\n      - A list or tuple of dicts of string/value properties where:\n        - The 'type' property specifies the trace type\n            One of: ['area', 'bar', 'barpolar', 'box',\n                     'candlestick', 'carpet', 'choropleth',\n                     'choroplethmapbox', 'cone', 'contour',\n                     'contourcarpet', 'densitymapbox', 'funnel',\n                     'funnelarea', 'heatmap', 'heatmapgl',\n                     'histogram', 'histogram2d',\n                     'histogram2dcontour', 'image', 'indicator',\n                     'isosurface', 'mesh3d', 'ohlc', 'parcats',\n                     'parcoords', 'pie', 'pointcloud', 'sankey',\n                     'scatter', 'scatter3d', 'scattercarpet',\n                     'scattergeo', 'scattergl', 'scattermapbox',\n                     'scatterpolar', 'scatterpolargl',\n                     'scatterternary', 'splom', 'streamtube',\n                     'sunburst', 'surface', 'table', 'treemap',\n                     'violin', 'volume', 'waterfall']\n\n        - All remaining properties are passed to the constructor of\n          the specified trace type\n\n        (e.g. [{'type': 'scatter', ...}, {'type': 'bar, ...}])"
     ]
    }
   ],
   "source": [
    "# testing plotly express again...\n",
    "\n",
    "plt__atlas_grouped__year_subscription__mean = tool_plot_building.generate_plot__hvplot_bar(\n",
    "    data=atlas_grouped__year_subscription__mean,\n",
    "    title=\"Avg. Invoice Amount per Subscription: 2015 - 2020\",\n",
    "    xlabel=\"Year\",\n",
    "    ylabel=\"Invoice Amount ($)\",\n",
    "    stacked=False, rot=90\n",
    "    )\n",
    "plt__atlas_grouped__year_subscription__sum = tool_plot_building.generate_plot__hvplot_bar(\n",
    "    data=atlas_grouped__year_subscription__sum,\n",
    "    title=\"Total Invoice Amount per Subscription: 2015 - 2020\",\n",
    "    xlabel=\"Year\",\n",
    "    ylabel=\"Invoice Amount ($)\",\n",
    "    stacked=False, rot=90\n",
    "    )\n",
    "plt__atlas_grouped__year_subscription__count = tool_plot_building.generate_plot__hvplot_bar(\n",
    "    data=atlas_grouped__year_subscription__count,\n",
    "    title=\"Nbr. Invoices per Subscription: 2015 - 2020\",\n",
    "    xlabel=\"Year\",\n",
    "    ylabel=\"Nbr. of Invoices\",\n",
    "    stacked=False, rot=90\n",
    "    )\n",
    "\n",
    "\n",
    "from plotly import subplots\n",
    "plot_group = subplots.make_subplots(rows=3, cols=1)\n",
    "\n",
    "plot_group.append_trace(plt__atlas_grouped__year_subscription__mean, 1, 1)\n",
    "plot_group.append_trace(plt__atlas_grouped__year_subscription__sum, 2, 1)\n",
    "plot_group.append_trace(plt__atlas_grouped__year_subscription__count, 3, 1)\n",
    "\n",
    "pn.pane.Plotly(plot_group)"
   ]
  },
  {
   "cell_type": "code",
   "execution_count": 42,
   "metadata": {},
   "outputs": [
    {
     "output_type": "error",
     "ename": "ValueError",
     "evalue": "\n    Invalid element(s) received for the 'data' property of \n        Invalid elements include: [Figure({\n    'data': [{'alignmentgroup': 'True',\n              'hovertemplate': 'Subscription=1 Year<br>Year=%{x}<br>Invoice Amount=%{y}<extra></extra>',\n              'legendgroup': '1 Year',\n              'marker': {'color': '#636efa'},\n              'name': '1 Year',\n              'offsetgroup': '1 Year',\n              'orientation': 'v',\n              'showlegend': True,\n              'textposition': 'auto',\n              'type': 'bar',\n              'x': array([2015., 2016., 2017., 2018., 2019., 2020.]),\n              'xaxis': 'x',\n              'y': array([137350.  , 204216.67, 205366.67, 168576.67, 136993.43, 714231.95]),\n              'yaxis': 'y'},\n             {'alignmentgroup': 'True',\n              'hovertemplate': 'Subscription=3 Years<br>Year=%{x}<br>Invoice Amount=%{y}<extra></extra>',\n              'legendgroup': '3 Years',\n              'marker': {'color': '#EF553B'},\n              'name': '3 Years',\n              'offsetgroup': '3 Years',\n              'orientation': 'v',\n              'showlegend': True,\n              'textposition': 'auto',\n              'type': 'bar',\n              'x': array([2016., 2017., 2018., 2019., 2020.]),\n              'xaxis': 'x',\n              'y': array([ 92500., 131039.,  70630.,  72245., 124752.]),\n              'yaxis': 'y'},\n             {'alignmentgroup': 'True',\n              'hovertemplate': 'Subscription=2 Years<br>Year=%{x}<br>Invoice Amount=%{y}<extra></extra>',\n              'legendgroup': '2 Years',\n              'marker': {'color': '#00cc96'},\n              'name': '2 Years',\n              'offsetgroup': '2 Years',\n              'orientation': 'v',\n              'showlegend': True,\n              'textposition': 'auto',\n              'type': 'bar',\n              'x': array([2017., 2020.]),\n              'xaxis': 'x',\n              'y': array([13500., 16000.]),\n              'yaxis': 'y'},\n             {'alignmentgroup': 'True',\n              'hovertemplate': 'Subscription=6 Months<br>Year=%{x}<br>Invoice Amount=%{y}<extra></extra>',\n              'legendgroup': '6 Months',\n              'marker': {'color': '#ab63fa'},\n              'name': '6 Months',\n              'offsetgroup': '6 Months',\n              'orientation': 'v',\n              'showlegend': True,\n              'textposition': 'auto',\n              'type': 'bar',\n              'x': array([2019., 2020.]),\n              'xaxis': 'x',\n              'y': array([ 1250., 66051.]),\n              'yaxis': 'y'},\n             {'alignmentgroup': 'True',\n              'hovertemplate': 'Subscription=3 Months<br>Year=%{x}<br>Invoice Amount=%{y}<extra></extra>',\n              'legendgroup': '3 Months',\n              'marker': {'color': '#FFA15A'},\n              'name': '3 Months',\n              'offsetgroup': '3 Months',\n              'orientation': 'v',\n              'showlegend': True,\n              'textposition': 'auto',\n              'type': 'bar',\n              'x': array([2020.]),\n              'xaxis': 'x',\n              'y': array([125603.84]),\n              'yaxis': 'y'}],\n    'layout': {'barmode': 'group',\n               'height': 400,\n               'legend': {'title': {'text': 'Subscription'}, 'tracegroupgap': 0},\n               'template': '...',\n               'title': {'text': 'Avg. Invoice per Subscription: 2015 - 2020'},\n               'width': 800,\n               'xaxis': {'anchor': 'y', 'domain': [0.0, 1.0], 'title': {'text': 'Year'}},\n               'yaxis': {'anchor': 'x', 'domain': [0.0, 1.0], 'title': {'text': 'Invoice Amount ($)'}}}\n})]\n\n    The 'data' property is a tuple of trace instances\n    that may be specified as:\n      - A list or tuple of trace instances\n        (e.g. [Scatter(...), Bar(...)])\n      - A single trace instance\n        (e.g. Scatter(...), Bar(...), etc.)\n      - A list or tuple of dicts of string/value properties where:\n        - The 'type' property specifies the trace type\n            One of: ['area', 'bar', 'barpolar', 'box',\n                     'candlestick', 'carpet', 'choropleth',\n                     'choroplethmapbox', 'cone', 'contour',\n                     'contourcarpet', 'densitymapbox', 'funnel',\n                     'funnelarea', 'heatmap', 'heatmapgl',\n                     'histogram', 'histogram2d',\n                     'histogram2dcontour', 'image', 'indicator',\n                     'isosurface', 'mesh3d', 'ohlc', 'parcats',\n                     'parcoords', 'pie', 'pointcloud', 'sankey',\n                     'scatter', 'scatter3d', 'scattercarpet',\n                     'scattergeo', 'scattergl', 'scattermapbox',\n                     'scatterpolar', 'scatterpolargl',\n                     'scatterternary', 'splom', 'streamtube',\n                     'sunburst', 'surface', 'table', 'treemap',\n                     'violin', 'volume', 'waterfall']\n\n        - All remaining properties are passed to the constructor of\n          the specified trace type\n\n        (e.g. [{'type': 'scatter', ...}, {'type': 'bar, ...}])",
     "traceback": [
      "\u001b[1;31m---------------------------------------------------------------------------\u001b[0m",
      "\u001b[1;31mValueError\u001b[0m                                Traceback (most recent call last)",
      "\u001b[1;32m<ipython-input-42-49bbd311338c>\u001b[0m in \u001b[0;36m<module>\u001b[1;34m\u001b[0m\n\u001b[0;32m     20\u001b[0m )\n\u001b[0;32m     21\u001b[0m \u001b[1;33m\u001b[0m\u001b[0m\n\u001b[1;32m---> 22\u001b[1;33m \u001b[0mfig\u001b[0m\u001b[1;33m.\u001b[0m\u001b[0mappend_trace\u001b[0m\u001b[1;33m(\u001b[0m\u001b[0mplt__atlas_grouped__year_subscription__mean\u001b[0m\u001b[1;33m,\u001b[0m \u001b[1;36m1\u001b[0m\u001b[1;33m,\u001b[0m \u001b[1;36m1\u001b[0m\u001b[1;33m)\u001b[0m\u001b[1;33m\u001b[0m\u001b[1;33m\u001b[0m\u001b[0m\n\u001b[0m\u001b[0;32m     23\u001b[0m \u001b[0mfig\u001b[0m\u001b[1;33m.\u001b[0m\u001b[0mappend_trace\u001b[0m\u001b[1;33m(\u001b[0m\u001b[0mbox_2\u001b[0m\u001b[1;33m,\u001b[0m \u001b[1;36m1\u001b[0m\u001b[1;33m,\u001b[0m \u001b[1;36m2\u001b[0m\u001b[1;33m)\u001b[0m\u001b[1;33m\u001b[0m\u001b[1;33m\u001b[0m\u001b[0m\n\u001b[0;32m     24\u001b[0m \u001b[0mfig\u001b[0m\u001b[1;33m.\u001b[0m\u001b[0mappend_trace\u001b[0m\u001b[1;33m(\u001b[0m\u001b[0mheatmap\u001b[0m\u001b[1;33m,\u001b[0m \u001b[1;36m2\u001b[0m\u001b[1;33m,\u001b[0m \u001b[1;36m1\u001b[0m\u001b[1;33m)\u001b[0m\u001b[1;33m\u001b[0m\u001b[1;33m\u001b[0m\u001b[0m\n",
      "\u001b[1;32mC:\\ProgramData\\Anaconda3\\envs\\pyvizenv\\lib\\site-packages\\plotly\\basedatatypes.py\u001b[0m in \u001b[0;36mappend_trace\u001b[1;34m(self, trace, row, col)\u001b[0m\n\u001b[0;32m   2077\u001b[0m         )\n\u001b[0;32m   2078\u001b[0m \u001b[1;33m\u001b[0m\u001b[0m\n\u001b[1;32m-> 2079\u001b[1;33m         \u001b[0mself\u001b[0m\u001b[1;33m.\u001b[0m\u001b[0madd_trace\u001b[0m\u001b[1;33m(\u001b[0m\u001b[0mtrace\u001b[0m\u001b[1;33m=\u001b[0m\u001b[0mtrace\u001b[0m\u001b[1;33m,\u001b[0m \u001b[0mrow\u001b[0m\u001b[1;33m=\u001b[0m\u001b[0mrow\u001b[0m\u001b[1;33m,\u001b[0m \u001b[0mcol\u001b[0m\u001b[1;33m=\u001b[0m\u001b[0mcol\u001b[0m\u001b[1;33m)\u001b[0m\u001b[1;33m\u001b[0m\u001b[1;33m\u001b[0m\u001b[0m\n\u001b[0m\u001b[0;32m   2080\u001b[0m \u001b[1;33m\u001b[0m\u001b[0m\n\u001b[0;32m   2081\u001b[0m     \u001b[1;32mdef\u001b[0m \u001b[0m_set_trace_grid_position\u001b[0m\u001b[1;33m(\u001b[0m\u001b[0mself\u001b[0m\u001b[1;33m,\u001b[0m \u001b[0mtrace\u001b[0m\u001b[1;33m,\u001b[0m \u001b[0mrow\u001b[0m\u001b[1;33m,\u001b[0m \u001b[0mcol\u001b[0m\u001b[1;33m,\u001b[0m \u001b[0msecondary_y\u001b[0m\u001b[1;33m=\u001b[0m\u001b[1;32mFalse\u001b[0m\u001b[1;33m)\u001b[0m\u001b[1;33m:\u001b[0m\u001b[1;33m\u001b[0m\u001b[1;33m\u001b[0m\u001b[0m\n",
      "\u001b[1;32mC:\\ProgramData\\Anaconda3\\envs\\pyvizenv\\lib\\site-packages\\plotly\\basedatatypes.py\u001b[0m in \u001b[0;36madd_trace\u001b[1;34m(self, trace, row, col, secondary_y, exclude_empty_subplots)\u001b[0m\n\u001b[0;32m   1861\u001b[0m             \u001b[1;32mreturn\u001b[0m \u001b[0mself\u001b[0m\u001b[1;33m\u001b[0m\u001b[1;33m\u001b[0m\u001b[0m\n\u001b[0;32m   1862\u001b[0m \u001b[1;33m\u001b[0m\u001b[0m\n\u001b[1;32m-> 1863\u001b[1;33m         return self.add_traces(\n\u001b[0m\u001b[0;32m   1864\u001b[0m             \u001b[0mdata\u001b[0m\u001b[1;33m=\u001b[0m\u001b[1;33m[\u001b[0m\u001b[0mtrace\u001b[0m\u001b[1;33m]\u001b[0m\u001b[1;33m,\u001b[0m\u001b[1;33m\u001b[0m\u001b[1;33m\u001b[0m\u001b[0m\n\u001b[0;32m   1865\u001b[0m             \u001b[0mrows\u001b[0m\u001b[1;33m=\u001b[0m\u001b[1;33m[\u001b[0m\u001b[0mrow\u001b[0m\u001b[1;33m]\u001b[0m \u001b[1;32mif\u001b[0m \u001b[0mrow\u001b[0m \u001b[1;32mis\u001b[0m \u001b[1;32mnot\u001b[0m \u001b[1;32mNone\u001b[0m \u001b[1;32melse\u001b[0m \u001b[1;32mNone\u001b[0m\u001b[1;33m,\u001b[0m\u001b[1;33m\u001b[0m\u001b[1;33m\u001b[0m\u001b[0m\n",
      "\u001b[1;32mC:\\ProgramData\\Anaconda3\\envs\\pyvizenv\\lib\\site-packages\\plotly\\basedatatypes.py\u001b[0m in \u001b[0;36madd_traces\u001b[1;34m(self, data, rows, cols, secondary_ys, exclude_empty_subplots)\u001b[0m\n\u001b[0;32m   1945\u001b[0m \u001b[1;33m\u001b[0m\u001b[0m\n\u001b[0;32m   1946\u001b[0m         \u001b[1;31m# Validate traces\u001b[0m\u001b[1;33m\u001b[0m\u001b[1;33m\u001b[0m\u001b[1;33m\u001b[0m\u001b[0m\n\u001b[1;32m-> 1947\u001b[1;33m         \u001b[0mdata\u001b[0m \u001b[1;33m=\u001b[0m \u001b[0mself\u001b[0m\u001b[1;33m.\u001b[0m\u001b[0m_data_validator\u001b[0m\u001b[1;33m.\u001b[0m\u001b[0mvalidate_coerce\u001b[0m\u001b[1;33m(\u001b[0m\u001b[0mdata\u001b[0m\u001b[1;33m)\u001b[0m\u001b[1;33m\u001b[0m\u001b[1;33m\u001b[0m\u001b[0m\n\u001b[0m\u001b[0;32m   1948\u001b[0m \u001b[1;33m\u001b[0m\u001b[0m\n\u001b[0;32m   1949\u001b[0m         \u001b[1;31m# Set trace indexes\u001b[0m\u001b[1;33m\u001b[0m\u001b[1;33m\u001b[0m\u001b[1;33m\u001b[0m\u001b[0m\n",
      "\u001b[1;32mC:\\ProgramData\\Anaconda3\\envs\\pyvizenv\\lib\\site-packages\\_plotly_utils\\basevalidators.py\u001b[0m in \u001b[0;36mvalidate_coerce\u001b[1;34m(self, v, skip_invalid, _validate)\u001b[0m\n\u001b[0;32m   2673\u001b[0m \u001b[1;33m\u001b[0m\u001b[0m\n\u001b[0;32m   2674\u001b[0m             \u001b[1;32mif\u001b[0m \u001b[0minvalid_els\u001b[0m\u001b[1;33m:\u001b[0m\u001b[1;33m\u001b[0m\u001b[1;33m\u001b[0m\u001b[0m\n\u001b[1;32m-> 2675\u001b[1;33m                 \u001b[0mself\u001b[0m\u001b[1;33m.\u001b[0m\u001b[0mraise_invalid_elements\u001b[0m\u001b[1;33m(\u001b[0m\u001b[0minvalid_els\u001b[0m\u001b[1;33m)\u001b[0m\u001b[1;33m\u001b[0m\u001b[1;33m\u001b[0m\u001b[0m\n\u001b[0m\u001b[0;32m   2676\u001b[0m \u001b[1;33m\u001b[0m\u001b[0m\n\u001b[0;32m   2677\u001b[0m             \u001b[0mv\u001b[0m \u001b[1;33m=\u001b[0m \u001b[0mto_scalar_or_list\u001b[0m\u001b[1;33m(\u001b[0m\u001b[0mres\u001b[0m\u001b[1;33m)\u001b[0m\u001b[1;33m\u001b[0m\u001b[1;33m\u001b[0m\u001b[0m\n",
      "\u001b[1;32mC:\\ProgramData\\Anaconda3\\envs\\pyvizenv\\lib\\site-packages\\_plotly_utils\\basevalidators.py\u001b[0m in \u001b[0;36mraise_invalid_elements\u001b[1;34m(self, invalid_els)\u001b[0m\n\u001b[0;32m    289\u001b[0m     \u001b[1;32mdef\u001b[0m \u001b[0mraise_invalid_elements\u001b[0m\u001b[1;33m(\u001b[0m\u001b[0mself\u001b[0m\u001b[1;33m,\u001b[0m \u001b[0minvalid_els\u001b[0m\u001b[1;33m)\u001b[0m\u001b[1;33m:\u001b[0m\u001b[1;33m\u001b[0m\u001b[1;33m\u001b[0m\u001b[0m\n\u001b[0;32m    290\u001b[0m         \u001b[1;32mif\u001b[0m \u001b[0minvalid_els\u001b[0m\u001b[1;33m:\u001b[0m\u001b[1;33m\u001b[0m\u001b[1;33m\u001b[0m\u001b[0m\n\u001b[1;32m--> 291\u001b[1;33m             raise ValueError(\n\u001b[0m\u001b[0;32m    292\u001b[0m                 \"\"\"\n\u001b[0;32m    293\u001b[0m     \u001b[0mInvalid\u001b[0m \u001b[0melement\u001b[0m\u001b[1;33m(\u001b[0m\u001b[0ms\u001b[0m\u001b[1;33m)\u001b[0m \u001b[0mreceived\u001b[0m \u001b[1;32mfor\u001b[0m \u001b[0mthe\u001b[0m \u001b[1;34m'{name}'\u001b[0m \u001b[0mproperty\u001b[0m \u001b[0mof\u001b[0m \u001b[1;33m{\u001b[0m\u001b[0mpname\u001b[0m\u001b[1;33m}\u001b[0m\u001b[1;33m\u001b[0m\u001b[1;33m\u001b[0m\u001b[0m\n",
      "\u001b[1;31mValueError\u001b[0m: \n    Invalid element(s) received for the 'data' property of \n        Invalid elements include: [Figure({\n    'data': [{'alignmentgroup': 'True',\n              'hovertemplate': 'Subscription=1 Year<br>Year=%{x}<br>Invoice Amount=%{y}<extra></extra>',\n              'legendgroup': '1 Year',\n              'marker': {'color': '#636efa'},\n              'name': '1 Year',\n              'offsetgroup': '1 Year',\n              'orientation': 'v',\n              'showlegend': True,\n              'textposition': 'auto',\n              'type': 'bar',\n              'x': array([2015., 2016., 2017., 2018., 2019., 2020.]),\n              'xaxis': 'x',\n              'y': array([137350.  , 204216.67, 205366.67, 168576.67, 136993.43, 714231.95]),\n              'yaxis': 'y'},\n             {'alignmentgroup': 'True',\n              'hovertemplate': 'Subscription=3 Years<br>Year=%{x}<br>Invoice Amount=%{y}<extra></extra>',\n              'legendgroup': '3 Years',\n              'marker': {'color': '#EF553B'},\n              'name': '3 Years',\n              'offsetgroup': '3 Years',\n              'orientation': 'v',\n              'showlegend': True,\n              'textposition': 'auto',\n              'type': 'bar',\n              'x': array([2016., 2017., 2018., 2019., 2020.]),\n              'xaxis': 'x',\n              'y': array([ 92500., 131039.,  70630.,  72245., 124752.]),\n              'yaxis': 'y'},\n             {'alignmentgroup': 'True',\n              'hovertemplate': 'Subscription=2 Years<br>Year=%{x}<br>Invoice Amount=%{y}<extra></extra>',\n              'legendgroup': '2 Years',\n              'marker': {'color': '#00cc96'},\n              'name': '2 Years',\n              'offsetgroup': '2 Years',\n              'orientation': 'v',\n              'showlegend': True,\n              'textposition': 'auto',\n              'type': 'bar',\n              'x': array([2017., 2020.]),\n              'xaxis': 'x',\n              'y': array([13500., 16000.]),\n              'yaxis': 'y'},\n             {'alignmentgroup': 'True',\n              'hovertemplate': 'Subscription=6 Months<br>Year=%{x}<br>Invoice Amount=%{y}<extra></extra>',\n              'legendgroup': '6 Months',\n              'marker': {'color': '#ab63fa'},\n              'name': '6 Months',\n              'offsetgroup': '6 Months',\n              'orientation': 'v',\n              'showlegend': True,\n              'textposition': 'auto',\n              'type': 'bar',\n              'x': array([2019., 2020.]),\n              'xaxis': 'x',\n              'y': array([ 1250., 66051.]),\n              'yaxis': 'y'},\n             {'alignmentgroup': 'True',\n              'hovertemplate': 'Subscription=3 Months<br>Year=%{x}<br>Invoice Amount=%{y}<extra></extra>',\n              'legendgroup': '3 Months',\n              'marker': {'color': '#FFA15A'},\n              'name': '3 Months',\n              'offsetgroup': '3 Months',\n              'orientation': 'v',\n              'showlegend': True,\n              'textposition': 'auto',\n              'type': 'bar',\n              'x': array([2020.]),\n              'xaxis': 'x',\n              'y': array([125603.84]),\n              'yaxis': 'y'}],\n    'layout': {'barmode': 'group',\n               'height': 400,\n               'legend': {'title': {'text': 'Subscription'}, 'tracegroupgap': 0},\n               'template': '...',\n               'title': {'text': 'Avg. Invoice per Subscription: 2015 - 2020'},\n               'width': 800,\n               'xaxis': {'anchor': 'y', 'domain': [0.0, 1.0], 'title': {'text': 'Year'}},\n               'yaxis': {'anchor': 'x', 'domain': [0.0, 1.0], 'title': {'text': 'Invoice Amount ($)'}}}\n})]\n\n    The 'data' property is a tuple of trace instances\n    that may be specified as:\n      - A list or tuple of trace instances\n        (e.g. [Scatter(...), Bar(...)])\n      - A single trace instance\n        (e.g. Scatter(...), Bar(...), etc.)\n      - A list or tuple of dicts of string/value properties where:\n        - The 'type' property specifies the trace type\n            One of: ['area', 'bar', 'barpolar', 'box',\n                     'candlestick', 'carpet', 'choropleth',\n                     'choroplethmapbox', 'cone', 'contour',\n                     'contourcarpet', 'densitymapbox', 'funnel',\n                     'funnelarea', 'heatmap', 'heatmapgl',\n                     'histogram', 'histogram2d',\n                     'histogram2dcontour', 'image', 'indicator',\n                     'isosurface', 'mesh3d', 'ohlc', 'parcats',\n                     'parcoords', 'pie', 'pointcloud', 'sankey',\n                     'scatter', 'scatter3d', 'scattercarpet',\n                     'scattergeo', 'scattergl', 'scattermapbox',\n                     'scatterpolar', 'scatterpolargl',\n                     'scatterternary', 'splom', 'streamtube',\n                     'sunburst', 'surface', 'table', 'treemap',\n                     'violin', 'volume', 'waterfall']\n\n        - All remaining properties are passed to the constructor of\n          the specified trace type\n\n        (e.g. [{'type': 'scatter', ...}, {'type': 'bar, ...}])"
     ]
    }
   ],
   "source": [
    "import plotly.graph_objs as go\n",
    "from plotly import subplots\n",
    "\n",
    "heatmap = go.Heatmap(\n",
    "    z=[[1, 20, 30],\n",
    "       [20, 1, 60],\n",
    "       [30, 60, 1]],\n",
    "    showscale=False)\n",
    "\n",
    "y0 = np.random.randn(50)\n",
    "y1 = np.random.randn(50)+1\n",
    "\n",
    "box_1 = go.Box(y=y0)\n",
    "box_2 = go.Box(y=y1)\n",
    "data = [heatmap, box_1, box_2]\n",
    "\n",
    "fig = subplots.make_subplots(\n",
    "    rows=2, cols=2, specs=[[{}, {}], [{'colspan': 2}, None]],\n",
    "    subplot_titles=('First Subplot','Second Subplot', 'Third Subplot')\n",
    ")\n",
    "\n",
    "fig.append_trace(plt__atlas_grouped__year_subscription__mean, 1, 1)\n",
    "fig.append_trace(box_2, 1, 2)\n",
    "fig.append_trace(heatmap, 2, 1)\n",
    "\n",
    "fig['layout'].update(height=600, width=600, title='i <3 subplots')\n",
    "fig = fig.to_dict()\n",
    "\n",
    "subplot_panel = pn.pane.Plotly(fig)\n",
    "subplot_panel.show()"
   ]
  },
  {
   "cell_type": "code",
   "execution_count": null,
   "metadata": {},
   "outputs": [],
   "source": []
  },
  {
   "cell_type": "code",
   "execution_count": null,
   "metadata": {},
   "outputs": [],
   "source": []
  },
  {
   "cell_type": "code",
   "execution_count": null,
   "metadata": {},
   "outputs": [],
   "source": []
  },
  {
   "source": [
    "# Top Paying Customers"
   ],
   "cell_type": "markdown",
   "metadata": {}
  },
  {
   "cell_type": "code",
   "execution_count": 59,
   "metadata": {},
   "outputs": [],
   "source": []
  },
  {
   "cell_type": "code",
   "execution_count": 17,
   "metadata": {},
   "outputs": [
    {
     "output_type": "display_data",
     "data": {},
     "metadata": {}
    },
    {
     "output_type": "display_data",
     "data": {},
     "metadata": {}
    },
    {
     "output_type": "execute_result",
     "data": {
      "text/html": "<div id='1285'>\n\n\n\n\n\n  <div class=\"bk-root\" id=\"858e7a98-0fb8-46e1-9bd5-5c2f2f735dc2\" data-root-id=\"1285\"></div>\n</div>\n<script type=\"application/javascript\">(function(root) {\n  function embed_document(root) {\n    var docs_json = {\"1b6f4d72-9b14-45cb-9a06-70249aa8d6dd\":{\"roots\":{\"references\":[{\"attributes\":{},\"id\":\"1309\",\"type\":\"ResetTool\"},{\"attributes\":{\"source\":{\"id\":\"1381\"}},\"id\":\"1388\",\"type\":\"CDSView\"},{\"attributes\":{\"children\":[{\"id\":\"1289\"},{\"id\":\"1347\"},{\"id\":\"1351\"},{\"id\":\"1410\"}],\"margin\":[0,0,0,0],\"name\":\"Column01776\"},\"id\":\"1285\",\"type\":\"Column\"},{\"attributes\":{\"fill_alpha\":{\"value\":0.1},\"fill_color\":{\"field\":\"Customers\",\"transform\":{\"id\":\"1380\"}},\"line_alpha\":{\"value\":0.1},\"top\":{\"field\":\"Invoice_Amount\"},\"width\":{\"value\":0.8},\"x\":{\"field\":\"xoffsets\"}},\"id\":\"1385\",\"type\":\"VBar\"},{\"attributes\":{},\"id\":\"1356\",\"type\":\"CategoricalScale\"},{\"attributes\":{\"fill_alpha\":{\"value\":0.1},\"fill_color\":{\"value\":\"green\"},\"line_alpha\":{\"value\":0.1},\"top\":{\"field\":\"Invoice_Amount\"},\"width\":{\"value\":0.8},\"x\":{\"field\":\"Customers\"}},\"id\":\"1322\",\"type\":\"VBar\"},{\"attributes\":{},\"id\":\"1299\",\"type\":\"CategoricalTicker\"},{\"attributes\":{\"overlay\":{\"id\":\"1310\"}},\"id\":\"1308\",\"type\":\"BoxZoomTool\"},{\"attributes\":{},\"id\":\"1319\",\"type\":\"Selection\"},{\"attributes\":{\"factors\":[\"Louisiana Board of Regents\",\"Western Governors University\",\"UAB Regional In Service Centers\",\"University of Alabama\",\"Bureau of Indian Affairs\",\"University of Alabama Birmingham\",\"BloomBoard, Inc.\",\"The State University of New York (SUNY) \",\"Rio Salado College\",\"Maricopa CC District Rio Salado College\",\"Middle Tennessee State University\",\"Texas A&M University\",\"Kansas State University\",\"UNC Wilmington\",\"James Madison University College of Education \",\"National Louis University\",\"East Tennessee State University \",\"Central Connecticut State University \",\"California University of Pennsylvania\",\"University of NC Greensboro\"],\"tags\":[[[\"Customers\",\"Customers\",null]]]},\"id\":\"1286\",\"type\":\"FactorRange\"},{\"attributes\":{\"fill_color\":{\"value\":\"green\"},\"top\":{\"field\":\"Invoice_Amount\"},\"width\":{\"value\":0.8},\"x\":{\"field\":\"Customers\"}},\"id\":\"1321\",\"type\":\"VBar\"},{\"attributes\":{\"callback\":null,\"renderers\":[{\"id\":\"1324\"}],\"tags\":[\"hv_created\"],\"tooltips\":[[\"Customers\",\"@{Customers}\"],[\"Invoice Amount\",\"@{Invoice_Amount}\"]]},\"id\":\"1288\",\"type\":\"HoverTool\"},{\"attributes\":{\"callback\":null,\"renderers\":[{\"id\":\"1387\"}],\"tags\":[\"hv_created\"],\"tooltips\":[[\"Year\",\"@{Year}\"],[\"Customers\",\"@{Customers}\"],[\"Invoice Amount\",\"@{Invoice_Amount}\"]]},\"id\":\"1350\",\"type\":\"HoverTool\"},{\"attributes\":{\"data\":{\"Customers\":[\"Louisiana Board of Regents\",\"Louisiana Board of Regents\",\"Western Governors University\",\"University of Alabama\",\"University of Alabama\",\"UAB Regional In Service Centers\",\"UAB Regional In Service Centers\",\"University of Alabama Birmingham\"],\"Invoice_Amount\":{\"__ndarray__\":\"AAAAAACU8UAAAAAAgFvwQAAAAAAAauhAAAAAAABq6EAAAAAAAGroQAAAAAAAauhAAAAAAABq6EAAAAAAAGroQA==\",\"dtype\":\"float64\",\"order\":\"little\",\"shape\":[8]},\"Year\":[\"2015\",\"2016\",\"2016\",\"2017\",\"2020\",\"2017\",\"2018\",\"2016\"],\"xoffsets\":[[\"2015\",\"Louisiana Board of Regents\"],[\"2016\",\"Louisiana Board of Regents\"],[\"2016\",\"Western Governors University\"],[\"2017\",\"University of Alabama\"],[\"2020\",\"University of Alabama\"],[\"2017\",\"UAB Regional In Service Centers\"],[\"2018\",\"UAB Regional In Service Centers\"],[\"2016\",\"University of Alabama Birmingham\"]]},\"selected\":{\"id\":\"1382\"},\"selection_policy\":{\"id\":\"1402\"}},\"id\":\"1381\",\"type\":\"ColumnDataSource\"},{\"attributes\":{\"factors\":[[\"2015\",\"Louisiana Board of Regents\"],[\"2015\",\"Western Governors University\"],[\"2015\",\"University of Alabama\"],[\"2015\",\"UAB Regional In Service Centers\"],[\"2015\",\"University of Alabama Birmingham\"],[\"2016\",\"Louisiana Board of Regents\"],[\"2016\",\"Western Governors University\"],[\"2016\",\"University of Alabama\"],[\"2016\",\"UAB Regional In Service Centers\"],[\"2016\",\"University of Alabama Birmingham\"],[\"2017\",\"Louisiana Board of Regents\"],[\"2017\",\"Western Governors University\"],[\"2017\",\"University of Alabama\"],[\"2017\",\"UAB Regional In Service Centers\"],[\"2017\",\"University of Alabama Birmingham\"],[\"2018\",\"Louisiana Board of Regents\"],[\"2018\",\"Western Governors University\"],[\"2018\",\"University of Alabama\"],[\"2018\",\"UAB Regional In Service Centers\"],[\"2018\",\"University of Alabama Birmingham\"],[\"2020\",\"Louisiana Board of Regents\"],[\"2020\",\"Western Governors University\"],[\"2020\",\"University of Alabama\"],[\"2020\",\"UAB Regional In Service Centers\"],[\"2020\",\"University of Alabama Birmingham\"]],\"tags\":[[[\"Year\",\"Year\",null],[\"Customers\",\"Customers\",null]]]},\"id\":\"1348\",\"type\":\"FactorRange\"},{\"attributes\":{\"end\":151150.0,\"reset_end\":151150.0,\"reset_start\":0.0,\"tags\":[[[\"Invoice Amount\",\"Invoice Amount\",null]]]},\"id\":\"1287\",\"type\":\"Range1d\"},{\"attributes\":{\"margin\":[5,5,5,5],\"name\":\"DataFrame01767\",\"text\":\"&lt;table border=&quot;0&quot; class=&quot;dataframe panel-df&quot;&gt;\\n  &lt;thead&gt;\\n    &lt;tr style=&quot;text-align: right;&quot;&gt;\\n      &lt;th&gt;&lt;/th&gt;\\n      &lt;th&gt;Number of Users&lt;/th&gt;\\n      &lt;th&gt;Invoice Amount&lt;/th&gt;\\n    &lt;/tr&gt;\\n    &lt;tr&gt;\\n      &lt;th&gt;Customers&lt;/th&gt;\\n      &lt;th&gt;&lt;/th&gt;\\n      &lt;th&gt;&lt;/th&gt;\\n    &lt;/tr&gt;\\n  &lt;/thead&gt;\\n  &lt;tbody&gt;\\n    &lt;tr&gt;\\n      &lt;th&gt;Louisiana Board of Regents&lt;/th&gt;\\n      &lt;td&gt;0.0&lt;/td&gt;\\n      &lt;td&gt;139000.0&lt;/td&gt;\\n    &lt;/tr&gt;\\n    &lt;tr&gt;\\n      &lt;th&gt;Western Governors University&lt;/th&gt;\\n      &lt;td&gt;10050.0&lt;/td&gt;\\n      &lt;td&gt;102000.0&lt;/td&gt;\\n    &lt;/tr&gt;\\n    &lt;tr&gt;\\n      &lt;th&gt;UAB Regional In Service Centers&lt;/th&gt;\\n      &lt;td&gt;0.0&lt;/td&gt;\\n      &lt;td&gt;100000.0&lt;/td&gt;\\n    &lt;/tr&gt;\\n    &lt;tr&gt;\\n      &lt;th&gt;University of Alabama&lt;/th&gt;\\n      &lt;td&gt;0.0&lt;/td&gt;\\n      &lt;td&gt;100000.0&lt;/td&gt;\\n    &lt;/tr&gt;\\n    &lt;tr&gt;\\n      &lt;th&gt;Bureau of Indian Affairs&lt;/th&gt;\\n      &lt;td&gt;0.0&lt;/td&gt;\\n      &lt;td&gt;65200.0&lt;/td&gt;\\n    &lt;/tr&gt;\\n  &lt;/tbody&gt;\\n&lt;/table&gt;\"},\"id\":\"1347\",\"type\":\"panel.models.markup.HTML\"},{\"attributes\":{\"data_source\":{\"id\":\"1318\"},\"glyph\":{\"id\":\"1321\"},\"hover_glyph\":null,\"muted_glyph\":{\"id\":\"1323\"},\"nonselection_glyph\":{\"id\":\"1322\"},\"selection_glyph\":null,\"view\":{\"id\":\"1325\"}},\"id\":\"1324\",\"type\":\"GlyphRenderer\"},{\"attributes\":{\"axis\":{\"id\":\"1360\"},\"grid_line_color\":null,\"ticker\":null},\"id\":\"1362\",\"type\":\"Grid\"},{\"attributes\":{\"text\":\"Top 20 Customers by Total Invoiced Amount: 2015 - 2020\",\"text_color\":{\"value\":\"black\"},\"text_font_size\":{\"value\":\"12pt\"}},\"id\":\"1290\",\"type\":\"Title\"},{\"attributes\":{\"fill_alpha\":{\"value\":0.2},\"fill_color\":{\"value\":\"green\"},\"line_alpha\":{\"value\":0.2},\"top\":{\"field\":\"Invoice_Amount\"},\"width\":{\"value\":0.8},\"x\":{\"field\":\"Customers\"}},\"id\":\"1323\",\"type\":\"VBar\"},{\"attributes\":{\"fill_color\":{\"field\":\"Customers\",\"transform\":{\"id\":\"1380\"}},\"top\":{\"field\":\"Invoice_Amount\"},\"width\":{\"value\":0.8},\"x\":{\"field\":\"xoffsets\"}},\"id\":\"1384\",\"type\":\"VBar\"},{\"attributes\":{\"source\":{\"id\":\"1318\"}},\"id\":\"1325\",\"type\":\"CDSView\"},{\"attributes\":{\"bottom_units\":\"screen\",\"fill_alpha\":0.5,\"fill_color\":\"lightgrey\",\"left_units\":\"screen\",\"level\":\"overlay\",\"line_alpha\":1.0,\"line_color\":\"black\",\"line_dash\":[4,4],\"line_width\":2,\"right_units\":\"screen\",\"top_units\":\"screen\"},\"id\":\"1372\",\"type\":\"BoxAnnotation\"},{\"attributes\":{\"text\":\"Top 8 Customers by Annual Invoiced Amount: 2015 - 2020\",\"text_color\":{\"value\":\"black\"},\"text_font_size\":{\"value\":\"12pt\"}},\"id\":\"1352\",\"type\":\"Title\"},{\"attributes\":{},\"id\":\"1358\",\"type\":\"LinearScale\"},{\"attributes\":{\"fill_alpha\":{\"value\":0.2},\"fill_color\":{\"field\":\"Customers\",\"transform\":{\"id\":\"1380\"}},\"line_alpha\":{\"value\":0.2},\"top\":{\"field\":\"Invoice_Amount\"},\"width\":{\"value\":0.8},\"x\":{\"field\":\"xoffsets\"}},\"id\":\"1386\",\"type\":\"VBar\"},{\"attributes\":{\"data_source\":{\"id\":\"1381\"},\"glyph\":{\"id\":\"1384\"},\"hover_glyph\":null,\"muted_glyph\":{\"id\":\"1386\"},\"nonselection_glyph\":{\"id\":\"1385\"},\"selection_glyph\":null,\"view\":{\"id\":\"1388\"}},\"id\":\"1387\",\"type\":\"GlyphRenderer\"},{\"attributes\":{\"below\":[{\"id\":\"1360\"}],\"center\":[{\"id\":\"1362\"},{\"id\":\"1366\"}],\"left\":[{\"id\":\"1363\"}],\"margin\":[5,5,5,5],\"min_border_bottom\":10,\"min_border_left\":10,\"min_border_right\":10,\"min_border_top\":10,\"plot_width\":1000,\"renderers\":[{\"id\":\"1387\"}],\"sizing_mode\":\"fixed\",\"title\":{\"id\":\"1352\"},\"toolbar\":{\"id\":\"1373\"},\"x_range\":{\"id\":\"1348\"},\"x_scale\":{\"id\":\"1356\"},\"y_range\":{\"id\":\"1287\"},\"y_scale\":{\"id\":\"1358\"}},\"id\":\"1351\",\"subtype\":\"Figure\",\"type\":\"Plot\"},{\"attributes\":{\"format\":\"$%.0f\"},\"id\":\"1326\",\"type\":\"PrintfTickFormatter\"},{\"attributes\":{\"format\":\"$%.0f\"},\"id\":\"1389\",\"type\":\"PrintfTickFormatter\"},{\"attributes\":{},\"id\":\"1402\",\"type\":\"UnionRenderers\"},{\"attributes\":{\"axis_label\":\"Year, Customers\",\"bounds\":\"auto\",\"formatter\":{\"id\":\"1390\"},\"major_label_orientation\":1.5707963267948966,\"ticker\":{\"id\":\"1361\"}},\"id\":\"1360\",\"type\":\"CategoricalAxis\"},{\"attributes\":{\"bottom_units\":\"screen\",\"fill_alpha\":0.5,\"fill_color\":\"lightgrey\",\"left_units\":\"screen\",\"level\":\"overlay\",\"line_alpha\":1.0,\"line_color\":\"black\",\"line_dash\":[4,4],\"line_width\":2,\"right_units\":\"screen\",\"top_units\":\"screen\"},\"id\":\"1310\",\"type\":\"BoxAnnotation\"},{\"attributes\":{},\"id\":\"1368\",\"type\":\"PanTool\"},{\"attributes\":{\"factors\":[\"Louisiana Board of Regents\",\"Western Governors University\",\"University of Alabama\",\"UAB Regional In Service Centers\",\"University of Alabama Birmingham\"],\"palette\":[\"green\",\"green\",\"green\",\"green\",\"green\"]},\"id\":\"1380\",\"type\":\"CategoricalColorMapper\"},{\"attributes\":{\"below\":[{\"id\":\"1298\"}],\"center\":[{\"id\":\"1300\"},{\"id\":\"1304\"}],\"left\":[{\"id\":\"1301\"}],\"margin\":[5,5,5,5],\"min_border_bottom\":10,\"min_border_left\":10,\"min_border_right\":10,\"min_border_top\":10,\"plot_height\":500,\"plot_width\":800,\"renderers\":[{\"id\":\"1324\"}],\"sizing_mode\":\"fixed\",\"title\":{\"id\":\"1290\"},\"toolbar\":{\"id\":\"1311\"},\"x_range\":{\"id\":\"1286\"},\"x_scale\":{\"id\":\"1294\"},\"y_range\":{\"id\":\"1287\"},\"y_scale\":{\"id\":\"1296\"}},\"id\":\"1289\",\"subtype\":\"Figure\",\"type\":\"Plot\"},{\"attributes\":{\"margin\":[5,5,5,5],\"name\":\"DataFrame01774\",\"text\":\"&lt;table border=&quot;0&quot; class=&quot;dataframe panel-df&quot;&gt;\\n  &lt;thead&gt;\\n    &lt;tr style=&quot;text-align: right;&quot;&gt;\\n      &lt;th&gt;&lt;/th&gt;\\n      &lt;th&gt;&lt;/th&gt;\\n      &lt;th&gt;Number of Users&lt;/th&gt;\\n      &lt;th&gt;Invoice Amount&lt;/th&gt;\\n    &lt;/tr&gt;\\n    &lt;tr&gt;\\n      &lt;th&gt;Year&lt;/th&gt;\\n      &lt;th&gt;Customers&lt;/th&gt;\\n      &lt;th&gt;&lt;/th&gt;\\n      &lt;th&gt;&lt;/th&gt;\\n    &lt;/tr&gt;\\n  &lt;/thead&gt;\\n  &lt;tbody&gt;\\n    &lt;tr&gt;\\n      &lt;th&gt;2015.0&lt;/th&gt;\\n      &lt;th&gt;Louisiana Board of Regents&lt;/th&gt;\\n      &lt;td&gt;0.0&lt;/td&gt;\\n      &lt;td&gt;72000.0&lt;/td&gt;\\n    &lt;/tr&gt;\\n    &lt;tr&gt;\\n      &lt;th rowspan=&quot;2&quot; valign=&quot;top&quot;&gt;2016.0&lt;/th&gt;\\n      &lt;th&gt;Louisiana Board of Regents&lt;/th&gt;\\n      &lt;td&gt;0.0&lt;/td&gt;\\n      &lt;td&gt;67000.0&lt;/td&gt;\\n    &lt;/tr&gt;\\n    &lt;tr&gt;\\n      &lt;th&gt;Western Governors University&lt;/th&gt;\\n      &lt;td&gt;5000.0&lt;/td&gt;\\n      &lt;td&gt;50000.0&lt;/td&gt;\\n    &lt;/tr&gt;\\n    &lt;tr&gt;\\n      &lt;th rowspan=&quot;2&quot; valign=&quot;top&quot;&gt;2017.0&lt;/th&gt;\\n      &lt;th&gt;University of Alabama&lt;/th&gt;\\n      &lt;td&gt;0.0&lt;/td&gt;\\n      &lt;td&gt;50000.0&lt;/td&gt;\\n    &lt;/tr&gt;\\n    &lt;tr&gt;\\n      &lt;th&gt;UAB Regional In Service Centers&lt;/th&gt;\\n      &lt;td&gt;0.0&lt;/td&gt;\\n      &lt;td&gt;50000.0&lt;/td&gt;\\n    &lt;/tr&gt;\\n    &lt;tr&gt;\\n      &lt;th&gt;2018.0&lt;/th&gt;\\n      &lt;th&gt;UAB Regional In Service Centers&lt;/th&gt;\\n      &lt;td&gt;0.0&lt;/td&gt;\\n      &lt;td&gt;50000.0&lt;/td&gt;\\n    &lt;/tr&gt;\\n    &lt;tr&gt;\\n      &lt;th&gt;2020.0&lt;/th&gt;\\n      &lt;th&gt;University of Alabama&lt;/th&gt;\\n      &lt;td&gt;0.0&lt;/td&gt;\\n      &lt;td&gt;50000.0&lt;/td&gt;\\n    &lt;/tr&gt;\\n    &lt;tr&gt;\\n      &lt;th&gt;2016.0&lt;/th&gt;\\n      &lt;th&gt;University of Alabama Birmingham&lt;/th&gt;\\n      &lt;td&gt;0.0&lt;/td&gt;\\n      &lt;td&gt;50000.0&lt;/td&gt;\\n    &lt;/tr&gt;\\n  &lt;/tbody&gt;\\n&lt;/table&gt;\"},\"id\":\"1410\",\"type\":\"panel.models.markup.HTML\"},{\"attributes\":{\"axis_label\":\"Customers\",\"bounds\":\"auto\",\"formatter\":{\"id\":\"1327\"},\"major_label_orientation\":1.5707963267948966,\"ticker\":{\"id\":\"1299\"}},\"id\":\"1298\",\"type\":\"CategoricalAxis\"},{\"attributes\":{},\"id\":\"1361\",\"type\":\"CategoricalTicker\"},{\"attributes\":{},\"id\":\"1327\",\"type\":\"CategoricalTickFormatter\"},{\"attributes\":{},\"id\":\"1390\",\"type\":\"CategoricalTickFormatter\"},{\"attributes\":{\"client_comm_id\":\"e668722a4a954e3697ee663875dbe8b4\",\"comm_id\":\"fcf5bec43965408e944e511a1568c915\",\"plot_id\":\"1285\"},\"id\":\"1453\",\"type\":\"panel.models.comm_manager.CommManager\"},{\"attributes\":{},\"id\":\"1294\",\"type\":\"CategoricalScale\"},{\"attributes\":{},\"id\":\"1382\",\"type\":\"Selection\"},{\"attributes\":{},\"id\":\"1296\",\"type\":\"LinearScale\"},{\"attributes\":{\"data\":{\"Customers\":[\"Louisiana Board of Regents\",\"Western Governors University\",\"UAB Regional In Service Centers\",\"University of Alabama\",\"Bureau of Indian Affairs\",\"University of Alabama Birmingham\",\"BloomBoard, Inc.\",\"The State University of New York (SUNY) \",\"Rio Salado College\",\"Maricopa CC District Rio Salado College\",\"Middle Tennessee State University\",\"Texas A&M University\",\"Kansas State University\",\"UNC Wilmington\",\"James Madison University College of Education \",\"National Louis University\",\"East Tennessee State University \",\"Central Connecticut State University \",\"California University of Pennsylvania\",\"University of NC Greensboro\"],\"Invoice_Amount\":{\"__ndarray__\":\"AAAAAMD3AEEAAAAAAOf4QAAAAAAAavhAAAAAAABq+EAAAAAAANbvQAAAAAAAauhAAAAAAADO3UAAAAAAAEXdQAAAAACAotlAAAAAAICi2UAAAAAAAJzYQAAAAAAA/9RAAAAAAACC1EAAAAAAgJXSQAAAAADQR9JAAAAAAEAw0kAAAAAAALnRQAAAAAAAlNFAAAAAAICH0UAAAAAAABfRQA==\",\"dtype\":\"float64\",\"order\":\"little\",\"shape\":[20]}},\"selected\":{\"id\":\"1319\"},\"selection_policy\":{\"id\":\"1339\"}},\"id\":\"1318\",\"type\":\"ColumnDataSource\"},{\"attributes\":{},\"id\":\"1369\",\"type\":\"WheelZoomTool\"},{\"attributes\":{\"axis_label\":\"Invoice Amount ($)\",\"bounds\":\"auto\",\"formatter\":{\"id\":\"1326\"},\"major_label_orientation\":\"horizontal\",\"ticker\":{\"id\":\"1302\"}},\"id\":\"1301\",\"type\":\"LinearAxis\"},{\"attributes\":{\"axis_label\":\"Invoice Amount ($)\",\"bounds\":\"auto\",\"formatter\":{\"id\":\"1389\"},\"major_label_orientation\":\"horizontal\",\"ticker\":{\"id\":\"1364\"}},\"id\":\"1363\",\"type\":\"LinearAxis\"},{\"attributes\":{\"axis\":{\"id\":\"1298\"},\"grid_line_color\":null,\"ticker\":null},\"id\":\"1300\",\"type\":\"Grid\"},{\"attributes\":{\"axis\":{\"id\":\"1363\"},\"dimension\":1,\"grid_line_color\":null,\"ticker\":null},\"id\":\"1366\",\"type\":\"Grid\"},{\"attributes\":{},\"id\":\"1307\",\"type\":\"WheelZoomTool\"},{\"attributes\":{},\"id\":\"1364\",\"type\":\"BasicTicker\"},{\"attributes\":{},\"id\":\"1306\",\"type\":\"PanTool\"},{\"attributes\":{},\"id\":\"1339\",\"type\":\"UnionRenderers\"},{\"attributes\":{\"axis\":{\"id\":\"1301\"},\"dimension\":1,\"grid_line_color\":null,\"ticker\":null},\"id\":\"1304\",\"type\":\"Grid\"},{\"attributes\":{},\"id\":\"1367\",\"type\":\"SaveTool\"},{\"attributes\":{},\"id\":\"1302\",\"type\":\"BasicTicker\"},{\"attributes\":{\"overlay\":{\"id\":\"1372\"}},\"id\":\"1370\",\"type\":\"BoxZoomTool\"},{\"attributes\":{},\"id\":\"1371\",\"type\":\"ResetTool\"},{\"attributes\":{\"active_drag\":\"auto\",\"active_inspect\":\"auto\",\"active_multi\":null,\"active_scroll\":\"auto\",\"active_tap\":\"auto\",\"tools\":[{\"id\":\"1350\"},{\"id\":\"1367\"},{\"id\":\"1368\"},{\"id\":\"1369\"},{\"id\":\"1370\"},{\"id\":\"1371\"}]},\"id\":\"1373\",\"type\":\"Toolbar\"},{\"attributes\":{},\"id\":\"1305\",\"type\":\"SaveTool\"},{\"attributes\":{\"active_drag\":\"auto\",\"active_inspect\":\"auto\",\"active_multi\":null,\"active_scroll\":\"auto\",\"active_tap\":\"auto\",\"tools\":[{\"id\":\"1288\"},{\"id\":\"1305\"},{\"id\":\"1306\"},{\"id\":\"1307\"},{\"id\":\"1308\"},{\"id\":\"1309\"}]},\"id\":\"1311\",\"type\":\"Toolbar\"}],\"root_ids\":[\"1285\",\"1453\"]},\"title\":\"Bokeh Application\",\"version\":\"2.2.3\"}};\n    var render_items = [{\"docid\":\"1b6f4d72-9b14-45cb-9a06-70249aa8d6dd\",\"root_ids\":[\"1285\"],\"roots\":{\"1285\":\"858e7a98-0fb8-46e1-9bd5-5c2f2f735dc2\"}}];\n    root.Bokeh.embed.embed_items_notebook(docs_json, render_items);\n  }\n  if (root.Bokeh !== undefined && root.Bokeh.Panel !== undefined) {\n    embed_document(root);\n  } else {\n    var attempts = 0;\n    var timer = setInterval(function(root) {\n      if (root.Bokeh !== undefined && root.Bokeh.Panel !== undefined) {\n        clearInterval(timer);\n        embed_document(root);\n      } else if (document.readyState == \"complete\") {\n        attempts++;\n        if (attempts > 100) {\n          clearInterval(timer);\n          console.log(\"Bokeh: ERROR: Unable to run BokehJS code because BokehJS library is missing\");\n        }\n      }\n    }, 10, root)\n  }\n})(window);</script>",
      "application/vnd.holoviews_exec.v0+json": "",
      "text/plain": [
       "Column\n",
       "    [0] HoloViews(Bars)\n",
       "    [1] DataFrame(DataFrame)\n",
       "    [2] HoloViews(Bars)\n",
       "    [3] DataFrame(DataFrame)"
      ]
     },
     "metadata": {
      "application/vnd.holoviews_exec.v0+json": {
       "id": "1285"
      }
     },
     "execution_count": 17
    }
   ],
   "source": [
    "# All time\n",
    "n_customers = 20\n",
    "atlas_topcustomers_alltime = atlas_ymq.groupby(\"Customers\") \\\n",
    "    .sum() \\\n",
    "    .sort_values(\"Invoice Amount\", ascending=False) \\\n",
    "    .iloc[:n_customers] \\\n",
    "    .loc[:, [\"Number of Users\", \"Invoice Amount\"]]\n",
    "plt_atlas_topcustomers_alltime = atlas_topcustomers_alltime[\"Invoice Amount\"].hvplot.bar(\n",
    "    title=f\"Top {n_customers} Customers by Total Invoiced Amount: 2015 - 2020\",\n",
    "    ylabel=\"Invoice Amount ($)\",\n",
    "    color=\"green\",\n",
    "    width=800, height=500, rot=90, yformatter=\"$%.0f\"\n",
    "    )\n",
    "\n",
    "# Per Year TODO not fully accurate\n",
    "n_customers = 8\n",
    "atlas_topcustomers_peryear = atlas_ymq.groupby([\"Year\", \"Customers\"]) \\\n",
    "    .sum() \\\n",
    "    .sort_values(\"Invoice Amount\", ascending=False) \\\n",
    "    .iloc[:n_customers] \\\n",
    "    .loc[:, [\"Number of Users\", \"Invoice Amount\"]]\n",
    "plt__atlas_topcustomers_peryear = atlas_topcustomers_peryear[\"Invoice Amount\"].hvplot.bar(\n",
    "    title=f\"Top {n_customers} Customers by Annual Invoiced Amount: 2015 - 2020\",\n",
    "    ylabel=\"Invoice Amount ($)\",\n",
    "    color=\"green\",\n",
    "    width=plot_width__large, height=plot_height__large, rot=90, yformatter=\"$%.0f\"\n",
    "    )\n",
    "\n",
    "# Display\n",
    "pn.Column(\n",
    "    plt_atlas_topcustomers_alltime,\n",
    "    atlas_topcustomers_alltime.head(),\n",
    "\n",
    "    plt__atlas_topcustomers_peryear,\n",
    "    atlas_topcustomers_peryear\n",
    ")\n"
   ]
  },
  {
   "cell_type": "code",
   "execution_count": null,
   "metadata": {},
   "outputs": [],
   "source": []
  },
  {
   "cell_type": "code",
   "execution_count": null,
   "metadata": {},
   "outputs": [],
   "source": []
  },
  {
   "source": [
    "# New Customers"
   ],
   "cell_type": "markdown",
   "metadata": {}
  },
  {
   "cell_type": "code",
   "execution_count": 18,
   "metadata": {},
   "outputs": [
    {
     "output_type": "execute_result",
     "data": {
      "text/plain": [
       "<bound method DataFrame.groupby of                                                         Service Start  \\\n",
       "Customers                                                               \n",
       "Alabama A&M University-College of Education 2018-03-21 00:00:00-04:00   \n",
       "Albertus Magnus College                     2018-09-01 00:00:00-04:00   \n",
       "Albuquerque Public Schools                  2018-11-19 00:00:00-05:00   \n",
       "Alcorn State University                     2017-08-31 00:00:00-04:00   \n",
       "Alderson Broaddus University                2020-10-02 00:00:00-04:00   \n",
       "...                                                               ...   \n",
       "Winthrop University                         2020-09-30 00:00:00-04:00   \n",
       "Winthrop University                         2019-09-20 00:00:00-04:00   \n",
       "Yakima Valley College                       2020-09-18 00:00:00-04:00   \n",
       "Young Harris College/Miller Library         2018-11-27 00:00:00-05:00   \n",
       "Young Harris College/Miller Library         2019-11-30 00:00:00-05:00   \n",
       "\n",
       "                                             Number of Users  \\\n",
       "Customers                                                      \n",
       "Alabama A&M University-College of Education              NaN   \n",
       "Albertus Magnus College                                  NaN   \n",
       "Albuquerque Public Schools                               NaN   \n",
       "Alcorn State University                                  NaN   \n",
       "Alderson Broaddus University                            50.0   \n",
       "...                                                      ...   \n",
       "Winthrop University                                    100.0   \n",
       "Winthrop University                                      NaN   \n",
       "Yakima Valley College                                   56.0   \n",
       "Young Harris College/Miller Library                      NaN   \n",
       "Young Harris College/Miller Library                      NaN   \n",
       "\n",
       "                                                         Invoice Date  \\\n",
       "Customers                                                               \n",
       "Alabama A&M University-College of Education 2018-03-23 00:00:00-04:00   \n",
       "Albertus Magnus College                     2018-05-16 00:00:00-04:00   \n",
       "Albuquerque Public Schools                  2018-11-20 00:00:00-05:00   \n",
       "Alcorn State University                     2017-10-31 00:00:00-04:00   \n",
       "Alderson Broaddus University                2020-10-07 00:00:00-04:00   \n",
       "...                                                               ...   \n",
       "Winthrop University                         2020-10-13 00:00:00-04:00   \n",
       "Winthrop University                         2019-09-23 00:00:00-04:00   \n",
       "Yakima Valley College                       2020-09-21 00:00:00-04:00   \n",
       "Young Harris College/Miller Library         2018-11-28 00:00:00-05:00   \n",
       "Young Harris College/Miller Library         2019-11-05 00:00:00-05:00   \n",
       "\n",
       "                                             Invoice #  Invoice Amount  \\\n",
       "Customers                                                                \n",
       "Alabama A&M University-College of Education        105          5460.0   \n",
       "Albertus Magnus College                            127          5670.0   \n",
       "Albuquerque Public Schools                         161          2270.0   \n",
       "Alcorn State University                            NaN          1700.0   \n",
       "Alderson Broaddus University                 NB100820K           500.0   \n",
       "...                                                ...             ...   \n",
       "Winthrop University                          NB101320C          1000.0   \n",
       "Winthrop University                                222          1000.0   \n",
       "Yakima Valley College                        NB092120A          1030.0   \n",
       "Young Harris College/Miller Library                162          2100.0   \n",
       "Young Harris College/Miller Library                236          1250.0   \n",
       "\n",
       "                                            Subscription  \\\n",
       "Customers                                                  \n",
       "Alabama A&M University-College of Education      3 Years   \n",
       "Albertus Magnus College                          3 Years   \n",
       "Albuquerque Public Schools                        1 Year   \n",
       "Alcorn State University                           1 Year   \n",
       "Alderson Broaddus University                    3 Months   \n",
       "...                                                  ...   \n",
       "Winthrop University                               1 Year   \n",
       "Winthrop University                               1 Year   \n",
       "Yakima Valley College                           6 Months   \n",
       "Young Harris College/Miller Library               1 Year   \n",
       "Young Harris College/Miller Library               1 Year   \n",
       "\n",
       "                                                       Account Code   \\\n",
       "Customers                                                              \n",
       "Alabama A&M University-College of Education  4700-0-00-00000-00-0000   \n",
       "Albertus Magnus College                      4700-0-00-00000-00-0000   \n",
       "Albuquerque Public Schools                   4700-0-00-00000-00-0000   \n",
       "Alcorn State University                      4700-0-00-00000-00-0000   \n",
       "Alderson Broaddus University                 4700-0-00-00000-00-0000   \n",
       "...                                                              ...   \n",
       "Winthrop University                          4700-0-00-00000-00-0000   \n",
       "Winthrop University                          4700-0-00-00000-00-0000   \n",
       "Yakima Valley College                        4700-0-00-00000-00-0000   \n",
       "Young Harris College/Miller Library          4700-0-00-00000-00-0000   \n",
       "Young Harris College/Miller Library          4700-0-00-00000-00-0000   \n",
       "\n",
       "                                                                              Address  \\\n",
       "Customers                                                                               \n",
       "Alabama A&M University-College of Education  4900 Meridian St N, Huntsville, AL 35811   \n",
       "Albertus Magnus College                          700 Prospect St, New Haven, CT 06511   \n",
       "Albuquerque Public Schools                         Po Box 25704 Albuquerque, NM 87125   \n",
       "Alcorn State University                                 1000 Asu Dr, Lorman, MS 39096   \n",
       "Alderson Broaddus University                  101 College Hill Rd, Philippi, WV 26416   \n",
       "...                                                                               ...   \n",
       "Winthrop University                              701 Oakland Ave, Rock Hill, SC 29730   \n",
       "Winthrop University                              701 Oakland Ave, Rock Hill, SC 29730   \n",
       "Yakima Valley College                                                             NaN   \n",
       "Young Harris College/Miller Library                                               NaN   \n",
       "Young Harris College/Miller Library                                               NaN   \n",
       "\n",
       "                                                   Lat        Long  \\\n",
       "Customers                                                            \n",
       "Alabama A&M University-College of Education  34.785061  -86.573280   \n",
       "Albertus Magnus College                      41.331299  -72.921440   \n",
       "Albuquerque Public Schools                   35.092410 -106.642950   \n",
       "Alcorn State University                      31.875710  -91.141739   \n",
       "Alderson Broaddus University                 39.160261  -80.049048   \n",
       "...                                                ...         ...   \n",
       "Winthrop University                          34.938466  -81.029872   \n",
       "Winthrop University                          34.938466  -81.029872   \n",
       "Yakima Valley College                              NaN         NaN   \n",
       "Young Harris College/Miller Library                NaN         NaN   \n",
       "Young Harris College/Miller Library                NaN         NaN   \n",
       "\n",
       "                                                          Service End  \\\n",
       "Customers                                                               \n",
       "Alabama A&M University-College of Education 2021-03-31 00:00:00-04:00   \n",
       "Albertus Magnus College                     2021-08-31 00:00:00-04:00   \n",
       "Albuquerque Public Schools                  2019-11-30 00:00:00-05:00   \n",
       "Alcorn State University                     2018-08-31 00:00:00-04:00   \n",
       "Alderson Broaddus University                2020-12-31 00:00:00-05:00   \n",
       "...                                                               ...   \n",
       "Winthrop University                         2021-09-30 00:00:00-04:00   \n",
       "Winthrop University                         2020-09-30 00:00:00-04:00   \n",
       "Yakima Valley College                       2021-03-18 00:00:00-04:00   \n",
       "Young Harris College/Miller Library         2019-11-30 00:00:00-05:00   \n",
       "Young Harris College/Miller Library         2020-11-30 00:00:00-05:00   \n",
       "\n",
       "                                            Subscription Duration    Year  \\\n",
       "Customers                                                                   \n",
       "Alabama A&M University-College of Education             1095 days  2018.0   \n",
       "Albertus Magnus College                                 1095 days  2018.0   \n",
       "Albuquerque Public Schools                               365 days  2018.0   \n",
       "Alcorn State University                                  365 days  2017.0   \n",
       "Alderson Broaddus University                              90 days  2020.0   \n",
       "...                                                           ...     ...   \n",
       "Winthrop University                                      365 days  2020.0   \n",
       "Winthrop University                                      365 days  2019.0   \n",
       "Yakima Valley College                                    180 days  2020.0   \n",
       "Young Harris College/Miller Library                      365 days  2018.0   \n",
       "Young Harris College/Miller Library                      365 days  2019.0   \n",
       "\n",
       "                                             Monthly  Quarterly  \n",
       "Customers                                                        \n",
       "Alabama A&M University-College of Education      3.0        1.0  \n",
       "Albertus Magnus College                          9.0        3.0  \n",
       "Albuquerque Public Schools                      11.0        4.0  \n",
       "Alcorn State University                          8.0        3.0  \n",
       "Alderson Broaddus University                    10.0        4.0  \n",
       "...                                              ...        ...  \n",
       "Winthrop University                              9.0        3.0  \n",
       "Winthrop University                              9.0        3.0  \n",
       "Yakima Valley College                            9.0        3.0  \n",
       "Young Harris College/Miller Library             11.0        4.0  \n",
       "Young Harris College/Miller Library             11.0        4.0  \n",
       "\n",
       "[669 rows x 15 columns]>"
      ]
     },
     "metadata": {},
     "execution_count": 18
    }
   ],
   "source": [
    "atlas_ymq.reset_index().set_index(\"Customers\").sort_index() \\\n",
    "    .groupby\n",
    "\n",
    "\n",
    "\n",
    "# groupby([\"Monthly\", \"Customers\"]) \\\n",
    "    # .count() \\\n",
    "    # .sort_values(\"Invoice Amount\", ascending=False) \\\n",
    "    # .loc[:, [\"Number of Users\", \"Invoice Amount\"]]"
   ]
  },
  {
   "cell_type": "code",
   "execution_count": null,
   "metadata": {},
   "outputs": [],
   "source": []
  },
  {
   "cell_type": "code",
   "execution_count": null,
   "metadata": {},
   "outputs": [],
   "source": []
  },
  {
   "cell_type": "code",
   "execution_count": 19,
   "metadata": {},
   "outputs": [
    {
     "output_type": "execute_result",
     "data": {
      "text/plain": [
       "                                                        Customers  \\\n",
       "Service Start                                                       \n",
       "2015-06-01 00:00:00-04:00                Emporia State University   \n",
       "2015-06-10 00:00:00-04:00               Morehead State University   \n",
       "2015-10-22 00:00:00-04:00             College of William and Mary   \n",
       "2016-01-06 00:00:00-05:00                  University of Kentucky   \n",
       "2016-01-07 00:00:00-05:00                        Illinois College   \n",
       "...                                                           ...   \n",
       "2020-10-01 00:00:00-04:00  Bowling Green State University           \n",
       "2020-10-02 00:00:00-04:00           Alderson Broaddus University    \n",
       "2020-10-14 00:00:00-04:00                      Capital University   \n",
       "2020-10-19 00:00:00-04:00          Arkansas Northeastern College    \n",
       "2020-11-01 00:00:00-04:00                       Brown University    \n",
       "\n",
       "                           Number of Users              Invoice Date  \\\n",
       "Service Start                                                          \n",
       "2015-06-01 00:00:00-04:00            250.0 2015-05-28 00:00:00-04:00   \n",
       "2015-06-10 00:00:00-04:00            100.0 2015-06-23 00:00:00-04:00   \n",
       "2015-10-22 00:00:00-04:00            250.0 2015-12-17 00:00:00-05:00   \n",
       "2016-01-06 00:00:00-05:00            250.0 2016-01-12 00:00:00-05:00   \n",
       "2016-01-07 00:00:00-05:00            250.0 2016-01-11 00:00:00-05:00   \n",
       "...                                    ...                       ...   \n",
       "2020-10-01 00:00:00-04:00            358.0 2020-09-17 00:00:00-04:00   \n",
       "2020-10-02 00:00:00-04:00             50.0 2020-10-07 00:00:00-04:00   \n",
       "2020-10-14 00:00:00-04:00             14.0 2020-10-15 00:00:00-04:00   \n",
       "2020-10-19 00:00:00-04:00             20.0 2020-11-04 00:00:00-05:00   \n",
       "2020-11-01 00:00:00-04:00             20.0 2020-10-22 00:00:00-04:00   \n",
       "\n",
       "                           Invoice #  Invoice Amount Subscription  \\\n",
       "Service Start                                                       \n",
       "2015-06-01 00:00:00-04:00      AJ501         3500.00       1 Year   \n",
       "2015-06-10 00:00:00-04:00      AJ502         3500.00       1 Year   \n",
       "2015-10-22 00:00:00-04:00      AJ508         3500.00       1 Year   \n",
       "2016-01-06 00:00:00-05:00      AJ511         3500.00       1 Year   \n",
       "2016-01-07 00:00:00-05:00      AJ510         2166.67       1 Year   \n",
       "...                              ...             ...          ...   \n",
       "2020-10-01 00:00:00-04:00  NB091720A         1270.00     3 Months   \n",
       "2020-10-02 00:00:00-04:00  NB100820K          500.00     3 Months   \n",
       "2020-10-14 00:00:00-04:00  NB101520A         1640.00       1 Year   \n",
       "2020-10-19 00:00:00-04:00   NB110420         1700.00       1 Year   \n",
       "2020-11-01 00:00:00-04:00   NB102020          425.00     3 Months   \n",
       "\n",
       "                                     Account Code   \\\n",
       "Service Start                                        \n",
       "2015-06-01 00:00:00-04:00  4700-0-00-00000-16-0000   \n",
       "2015-06-10 00:00:00-04:00  4700-0-00-00000-17-0000   \n",
       "2015-10-22 00:00:00-04:00  4700-0-00-00000-00-0000   \n",
       "2016-01-06 00:00:00-05:00  4700-0-00-00000-00-0000   \n",
       "2016-01-07 00:00:00-05:00  4700-0-00-00000-00-0000   \n",
       "...                                            ...   \n",
       "2020-10-01 00:00:00-04:00  4700-0-00-00000-00-0000   \n",
       "2020-10-02 00:00:00-04:00  4700-0-00-00000-00-0000   \n",
       "2020-10-14 00:00:00-04:00  4700-0-00-00000-00-0000   \n",
       "2020-10-19 00:00:00-04:00  4700-0-00-00000-00-0000   \n",
       "2020-11-01 00:00:00-04:00  4700-0-00-00000-00-0000   \n",
       "\n",
       "                                                                     Address  \\\n",
       "Service Start                                                                  \n",
       "2015-06-01 00:00:00-04:00                   1 Kellogg Cir, Emporia, KS 66801   \n",
       "2015-06-10 00:00:00-04:00            150 University Blvd, Morehead, KY 40351   \n",
       "2015-10-22 00:00:00-04:00             200 Stadium Dr, Williamsburg, VA 23185   \n",
       "2016-01-06 00:00:00-05:00     129 Taylor Education Bldg, Lexington, KY 40506   \n",
       "2016-01-07 00:00:00-05:00         1101 W College Ave, Jacksonville, IL 62650   \n",
       "...                                                                      ...   \n",
       "2020-10-01 00:00:00-04:00  101 Education Bldg., BGSU, Bowling Green, OH  ...   \n",
       "2020-10-02 00:00:00-04:00            101 College Hill Rd, Philippi, WV 26416   \n",
       "2020-10-14 00:00:00-04:00          E Main St & College Ave, Bexley, OH 43209   \n",
       "2020-10-19 00:00:00-04:00          2501 S Division St, Blytheville, AR 72315   \n",
       "2020-11-01 00:00:00-04:00      10 Prospect St., Box A, Providence, RI  02912   \n",
       "\n",
       "                                 Lat       Long               Service End  \\\n",
       "Service Start                                                               \n",
       "2015-06-01 00:00:00-04:00  38.392609 -96.181396 2016-06-30 00:00:00-04:00   \n",
       "2015-06-10 00:00:00-04:00  38.184921 -83.434441 2016-06-30 00:00:00-04:00   \n",
       "2015-10-22 00:00:00-04:00  37.271740 -76.714260 2016-10-31 00:00:00-04:00   \n",
       "2016-01-06 00:00:00-05:00  37.986014 -84.396001 2017-06-30 00:00:00-04:00   \n",
       "2016-01-07 00:00:00-05:00  39.732210 -90.246947 2017-01-31 00:00:00-05:00   \n",
       "...                              ...        ...                       ...   \n",
       "2020-10-01 00:00:00-04:00  41.379729 -83.622879 2020-12-30 00:00:00-05:00   \n",
       "2020-10-02 00:00:00-04:00  39.160261 -80.049048 2020-12-31 00:00:00-05:00   \n",
       "2020-10-14 00:00:00-04:00  39.957227 -82.940015 2021-10-31 00:00:00-04:00   \n",
       "2020-10-19 00:00:00-04:00  35.898621 -89.920963 2021-10-31 00:00:00-04:00   \n",
       "2020-11-01 00:00:00-04:00  41.825740 -71.405199 2021-01-31 00:00:00-05:00   \n",
       "\n",
       "                          Subscription Duration    Year  Monthly  Quarterly  \n",
       "Service Start                                                                \n",
       "2015-06-01 00:00:00-04:00              365 days  2015.0      6.0        2.0  \n",
       "2015-06-10 00:00:00-04:00              365 days  2015.0      6.0        2.0  \n",
       "2015-10-22 00:00:00-04:00              365 days  2015.0     10.0        4.0  \n",
       "2016-01-06 00:00:00-05:00              365 days  2016.0      1.0        1.0  \n",
       "2016-01-07 00:00:00-05:00              365 days  2016.0      1.0        1.0  \n",
       "...                                         ...     ...      ...        ...  \n",
       "2020-10-01 00:00:00-04:00               90 days  2020.0     10.0        4.0  \n",
       "2020-10-02 00:00:00-04:00               90 days  2020.0     10.0        4.0  \n",
       "2020-10-14 00:00:00-04:00              365 days  2020.0     10.0        4.0  \n",
       "2020-10-19 00:00:00-04:00              365 days  2020.0     10.0        4.0  \n",
       "2020-11-01 00:00:00-04:00               90 days  2020.0     11.0        4.0  \n",
       "\n",
       "[197 rows x 15 columns]"
      ],
      "text/html": "<div>\n<style scoped>\n    .dataframe tbody tr th:only-of-type {\n        vertical-align: middle;\n    }\n\n    .dataframe tbody tr th {\n        vertical-align: top;\n    }\n\n    .dataframe thead th {\n        text-align: right;\n    }\n</style>\n<table border=\"1\" class=\"dataframe\">\n  <thead>\n    <tr style=\"text-align: right;\">\n      <th></th>\n      <th>Customers</th>\n      <th>Number of Users</th>\n      <th>Invoice Date</th>\n      <th>Invoice #</th>\n      <th>Invoice Amount</th>\n      <th>Subscription</th>\n      <th>Account Code</th>\n      <th>Address</th>\n      <th>Lat</th>\n      <th>Long</th>\n      <th>Service End</th>\n      <th>Subscription Duration</th>\n      <th>Year</th>\n      <th>Monthly</th>\n      <th>Quarterly</th>\n    </tr>\n    <tr>\n      <th>Service Start</th>\n      <th></th>\n      <th></th>\n      <th></th>\n      <th></th>\n      <th></th>\n      <th></th>\n      <th></th>\n      <th></th>\n      <th></th>\n      <th></th>\n      <th></th>\n      <th></th>\n      <th></th>\n      <th></th>\n      <th></th>\n    </tr>\n  </thead>\n  <tbody>\n    <tr>\n      <th>2015-06-01 00:00:00-04:00</th>\n      <td>Emporia State University</td>\n      <td>250.0</td>\n      <td>2015-05-28 00:00:00-04:00</td>\n      <td>AJ501</td>\n      <td>3500.00</td>\n      <td>1 Year</td>\n      <td>4700-0-00-00000-16-0000</td>\n      <td>1 Kellogg Cir, Emporia, KS 66801</td>\n      <td>38.392609</td>\n      <td>-96.181396</td>\n      <td>2016-06-30 00:00:00-04:00</td>\n      <td>365 days</td>\n      <td>2015.0</td>\n      <td>6.0</td>\n      <td>2.0</td>\n    </tr>\n    <tr>\n      <th>2015-06-10 00:00:00-04:00</th>\n      <td>Morehead State University</td>\n      <td>100.0</td>\n      <td>2015-06-23 00:00:00-04:00</td>\n      <td>AJ502</td>\n      <td>3500.00</td>\n      <td>1 Year</td>\n      <td>4700-0-00-00000-17-0000</td>\n      <td>150 University Blvd, Morehead, KY 40351</td>\n      <td>38.184921</td>\n      <td>-83.434441</td>\n      <td>2016-06-30 00:00:00-04:00</td>\n      <td>365 days</td>\n      <td>2015.0</td>\n      <td>6.0</td>\n      <td>2.0</td>\n    </tr>\n    <tr>\n      <th>2015-10-22 00:00:00-04:00</th>\n      <td>College of William and Mary</td>\n      <td>250.0</td>\n      <td>2015-12-17 00:00:00-05:00</td>\n      <td>AJ508</td>\n      <td>3500.00</td>\n      <td>1 Year</td>\n      <td>4700-0-00-00000-00-0000</td>\n      <td>200 Stadium Dr, Williamsburg, VA 23185</td>\n      <td>37.271740</td>\n      <td>-76.714260</td>\n      <td>2016-10-31 00:00:00-04:00</td>\n      <td>365 days</td>\n      <td>2015.0</td>\n      <td>10.0</td>\n      <td>4.0</td>\n    </tr>\n    <tr>\n      <th>2016-01-06 00:00:00-05:00</th>\n      <td>University of Kentucky</td>\n      <td>250.0</td>\n      <td>2016-01-12 00:00:00-05:00</td>\n      <td>AJ511</td>\n      <td>3500.00</td>\n      <td>1 Year</td>\n      <td>4700-0-00-00000-00-0000</td>\n      <td>129 Taylor Education Bldg, Lexington, KY 40506</td>\n      <td>37.986014</td>\n      <td>-84.396001</td>\n      <td>2017-06-30 00:00:00-04:00</td>\n      <td>365 days</td>\n      <td>2016.0</td>\n      <td>1.0</td>\n      <td>1.0</td>\n    </tr>\n    <tr>\n      <th>2016-01-07 00:00:00-05:00</th>\n      <td>Illinois College</td>\n      <td>250.0</td>\n      <td>2016-01-11 00:00:00-05:00</td>\n      <td>AJ510</td>\n      <td>2166.67</td>\n      <td>1 Year</td>\n      <td>4700-0-00-00000-00-0000</td>\n      <td>1101 W College Ave, Jacksonville, IL 62650</td>\n      <td>39.732210</td>\n      <td>-90.246947</td>\n      <td>2017-01-31 00:00:00-05:00</td>\n      <td>365 days</td>\n      <td>2016.0</td>\n      <td>1.0</td>\n      <td>1.0</td>\n    </tr>\n    <tr>\n      <th>...</th>\n      <td>...</td>\n      <td>...</td>\n      <td>...</td>\n      <td>...</td>\n      <td>...</td>\n      <td>...</td>\n      <td>...</td>\n      <td>...</td>\n      <td>...</td>\n      <td>...</td>\n      <td>...</td>\n      <td>...</td>\n      <td>...</td>\n      <td>...</td>\n      <td>...</td>\n    </tr>\n    <tr>\n      <th>2020-10-01 00:00:00-04:00</th>\n      <td>Bowling Green State University</td>\n      <td>358.0</td>\n      <td>2020-09-17 00:00:00-04:00</td>\n      <td>NB091720A</td>\n      <td>1270.00</td>\n      <td>3 Months</td>\n      <td>4700-0-00-00000-00-0000</td>\n      <td>101 Education Bldg., BGSU, Bowling Green, OH  ...</td>\n      <td>41.379729</td>\n      <td>-83.622879</td>\n      <td>2020-12-30 00:00:00-05:00</td>\n      <td>90 days</td>\n      <td>2020.0</td>\n      <td>10.0</td>\n      <td>4.0</td>\n    </tr>\n    <tr>\n      <th>2020-10-02 00:00:00-04:00</th>\n      <td>Alderson Broaddus University</td>\n      <td>50.0</td>\n      <td>2020-10-07 00:00:00-04:00</td>\n      <td>NB100820K</td>\n      <td>500.00</td>\n      <td>3 Months</td>\n      <td>4700-0-00-00000-00-0000</td>\n      <td>101 College Hill Rd, Philippi, WV 26416</td>\n      <td>39.160261</td>\n      <td>-80.049048</td>\n      <td>2020-12-31 00:00:00-05:00</td>\n      <td>90 days</td>\n      <td>2020.0</td>\n      <td>10.0</td>\n      <td>4.0</td>\n    </tr>\n    <tr>\n      <th>2020-10-14 00:00:00-04:00</th>\n      <td>Capital University</td>\n      <td>14.0</td>\n      <td>2020-10-15 00:00:00-04:00</td>\n      <td>NB101520A</td>\n      <td>1640.00</td>\n      <td>1 Year</td>\n      <td>4700-0-00-00000-00-0000</td>\n      <td>E Main St &amp; College Ave, Bexley, OH 43209</td>\n      <td>39.957227</td>\n      <td>-82.940015</td>\n      <td>2021-10-31 00:00:00-04:00</td>\n      <td>365 days</td>\n      <td>2020.0</td>\n      <td>10.0</td>\n      <td>4.0</td>\n    </tr>\n    <tr>\n      <th>2020-10-19 00:00:00-04:00</th>\n      <td>Arkansas Northeastern College</td>\n      <td>20.0</td>\n      <td>2020-11-04 00:00:00-05:00</td>\n      <td>NB110420</td>\n      <td>1700.00</td>\n      <td>1 Year</td>\n      <td>4700-0-00-00000-00-0000</td>\n      <td>2501 S Division St, Blytheville, AR 72315</td>\n      <td>35.898621</td>\n      <td>-89.920963</td>\n      <td>2021-10-31 00:00:00-04:00</td>\n      <td>365 days</td>\n      <td>2020.0</td>\n      <td>10.0</td>\n      <td>4.0</td>\n    </tr>\n    <tr>\n      <th>2020-11-01 00:00:00-04:00</th>\n      <td>Brown University</td>\n      <td>20.0</td>\n      <td>2020-10-22 00:00:00-04:00</td>\n      <td>NB102020</td>\n      <td>425.00</td>\n      <td>3 Months</td>\n      <td>4700-0-00-00000-00-0000</td>\n      <td>10 Prospect St., Box A, Providence, RI  02912</td>\n      <td>41.825740</td>\n      <td>-71.405199</td>\n      <td>2021-01-31 00:00:00-05:00</td>\n      <td>90 days</td>\n      <td>2020.0</td>\n      <td>11.0</td>\n      <td>4.0</td>\n    </tr>\n  </tbody>\n</table>\n<p>197 rows × 15 columns</p>\n</div>"
     },
     "metadata": {},
     "execution_count": 19
    }
   ],
   "source": [
    "atlas_ymq.dropna()"
   ]
  },
  {
   "cell_type": "code",
   "execution_count": 20,
   "metadata": {},
   "outputs": [
    {
     "output_type": "execute_result",
     "data": {
      "text/plain": [
       "Customers                                          object\n",
       "Number of Users                                   float64\n",
       "Invoice Date             datetime64[ns, America/New_York]\n",
       "Invoice #                                          object\n",
       "Invoice Amount                                    float64\n",
       "Subscription                                       object\n",
       "Account Code                                       object\n",
       "Address                                            object\n",
       "Lat                                               float64\n",
       "Long                                              float64\n",
       "Service End              datetime64[ns, America/New_York]\n",
       "Subscription Duration                     timedelta64[ns]\n",
       "Year                                              float64\n",
       "Monthly                                           float64\n",
       "Quarterly                                         float64\n",
       "dtype: object"
      ]
     },
     "metadata": {},
     "execution_count": 20
    }
   ],
   "source": [
    "atlas_ymq.dtypes"
   ]
  },
  {
   "cell_type": "code",
   "execution_count": 21,
   "metadata": {},
   "outputs": [
    {
     "output_type": "execute_result",
     "data": {
      "text/plain": [
       "Year\n",
       "2015.0     137350.00\n",
       "2016.0     296716.67\n",
       "2017.0     349905.67\n",
       "2018.0     239206.67\n",
       "2019.0     210488.43\n",
       "2020.0    1046638.79\n",
       "Name: Invoice Amount, dtype: float64"
      ]
     },
     "metadata": {},
     "execution_count": 21
    }
   ],
   "source": [
    "group_year = atlas_ymq.groupby([\"Year\"])[\"Invoice Amount\"].sum()\n",
    "group_year"
   ]
  },
  {
   "cell_type": "code",
   "execution_count": 22,
   "metadata": {},
   "outputs": [],
   "source": [
    "group_year_customers = atlas_ymq.groupby([\"Year\"])[\"Number of Users\"].sum()"
   ]
  },
  {
   "cell_type": "code",
   "execution_count": 23,
   "metadata": {},
   "outputs": [
    {
     "output_type": "execute_result",
     "data": {
      "text/plain": [
       "Year\n",
       "2015.0      600.0\n",
       "2016.0    13055.0\n",
       "2017.0     8855.0\n",
       "2018.0     2275.0\n",
       "2019.0     6261.0\n",
       "2020.0    87170.0\n",
       "Name: Number of Users, dtype: float64"
      ]
     },
     "metadata": {},
     "execution_count": 23
    }
   ],
   "source": [
    "group_year_customers"
   ]
  },
  {
   "cell_type": "code",
   "execution_count": null,
   "metadata": {},
   "outputs": [],
   "source": []
  },
  {
   "cell_type": "code",
   "execution_count": 24,
   "metadata": {},
   "outputs": [
    {
     "output_type": "display_data",
     "data": {},
     "metadata": {}
    },
    {
     "output_type": "display_data",
     "data": {},
     "metadata": {}
    },
    {
     "output_type": "execute_result",
     "data": {
      "text/html": "<div id='1524'>\n\n\n\n\n\n  <div class=\"bk-root\" id=\"ba14195c-b896-4a0f-b52f-ea98d55d556d\" data-root-id=\"1524\"></div>\n</div>\n<script type=\"application/javascript\">(function(root) {\n  function embed_document(root) {\n    var docs_json = {\"e4f2785f-b5e3-4768-b260-b13f0780f7d6\":{\"roots\":{\"references\":[{\"attributes\":{\"line_color\":\"#1f77b3\",\"line_width\":2,\"x\":{\"field\":\"Service Start\"},\"y\":{\"field\":\"value\"}},\"id\":\"1863\",\"type\":\"Line\"},{\"attributes\":{\"days\":[1,4,7,10,13,16,19,22,25,28]},\"id\":\"1580\",\"type\":\"DaysTicker\"},{\"attributes\":{\"line_color\":\"#ff7e0e\",\"line_width\":2,\"x\":{\"field\":\"Service Start\"},\"y\":{\"field\":\"value\"}},\"id\":\"1893\",\"type\":\"Line\"},{\"attributes\":{\"days\":[1,8,15,22]},\"id\":\"1581\",\"type\":\"DaysTicker\"},{\"attributes\":{\"bottom_units\":\"screen\",\"fill_alpha\":0.5,\"fill_color\":\"lightgrey\",\"left_units\":\"screen\",\"level\":\"overlay\",\"line_alpha\":1.0,\"line_color\":\"black\",\"line_dash\":[4,4],\"line_width\":2,\"right_units\":\"screen\",\"top_units\":\"screen\"},\"id\":\"1551\",\"type\":\"BoxAnnotation\"},{\"attributes\":{\"line_alpha\":0.2,\"line_color\":\"#ff7e0e\",\"line_width\":2,\"x\":{\"field\":\"Service Start\"},\"y\":{\"field\":\"value\"}},\"id\":\"1895\",\"type\":\"Line\"},{\"attributes\":{\"num_minor_ticks\":5,\"tickers\":[{\"id\":\"1873\"},{\"id\":\"1874\"},{\"id\":\"1875\"},{\"id\":\"1876\"},{\"id\":\"1877\"},{\"id\":\"1878\"},{\"id\":\"1879\"},{\"id\":\"1880\"},{\"id\":\"1881\"},{\"id\":\"1882\"},{\"id\":\"1883\"},{\"id\":\"1884\"}]},\"id\":\"1836\",\"type\":\"DatetimeTicker\"},{\"attributes\":{},\"id\":\"1831\",\"type\":\"LinearScale\"},{\"attributes\":{\"line_alpha\":0.1,\"line_color\":\"#ff7e0e\",\"line_width\":2,\"x\":{\"field\":\"Service Start\"},\"y\":{\"field\":\"value\"}},\"id\":\"1894\",\"type\":\"Line\"},{\"attributes\":{\"days\":[1,15]},\"id\":\"1582\",\"type\":\"DaysTicker\"},{\"attributes\":{\"data_source\":{\"id\":\"1860\"},\"glyph\":{\"id\":\"1863\"},\"hover_glyph\":null,\"muted_glyph\":{\"id\":\"1865\"},\"nonselection_glyph\":{\"id\":\"1864\"},\"selection_glyph\":null,\"view\":{\"id\":\"1867\"}},\"id\":\"1866\",\"type\":\"GlyphRenderer\"},{\"attributes\":{\"axis\":{\"id\":\"1835\"},\"grid_line_color\":null,\"ticker\":null},\"id\":\"1838\",\"type\":\"Grid\"},{\"attributes\":{\"source\":{\"id\":\"1890\"}},\"id\":\"1897\",\"type\":\"CDSView\"},{\"attributes\":{\"text\":\"Invoice Amount (2020)\",\"text_color\":{\"value\":\"black\"},\"text_font_size\":{\"value\":\"12pt\"}},\"id\":\"1827\",\"type\":\"Title\"},{\"attributes\":{},\"id\":\"1590\",\"type\":\"UnionRenderers\"},{\"attributes\":{},\"id\":\"1891\",\"type\":\"Selection\"},{\"attributes\":{\"num_minor_ticks\":10},\"id\":\"1840\",\"type\":\"LogTicker\"},{\"attributes\":{\"data_source\":{\"id\":\"1890\"},\"glyph\":{\"id\":\"1893\"},\"hover_glyph\":null,\"muted_glyph\":{\"id\":\"1895\"},\"nonselection_glyph\":{\"id\":\"1894\"},\"selection_glyph\":null,\"view\":{\"id\":\"1897\"}},\"id\":\"1896\",\"type\":\"GlyphRenderer\"},{\"attributes\":{\"axis_label\":\"Invoice Amount ($)\",\"bounds\":\"auto\",\"formatter\":{\"id\":\"1858\"},\"major_label_orientation\":\"horizontal\",\"ticker\":{\"id\":\"1840\"}},\"id\":\"1839\",\"type\":\"LogAxis\"},{\"attributes\":{\"label\":{\"value\":\"Number of Users\"},\"renderers\":[{\"id\":\"1896\"}]},\"id\":\"1920\",\"type\":\"LegendItem\"},{\"attributes\":{},\"id\":\"1844\",\"type\":\"PanTool\"},{\"attributes\":{\"base\":24,\"mantissas\":[1,2,4,6,8,12],\"max_interval\":43200000.0,\"min_interval\":3600000.0,\"num_minor_ticks\":0},\"id\":\"1578\",\"type\":\"AdaptiveTicker\"},{\"attributes\":{},\"id\":\"1833\",\"type\":\"LogScale\"},{\"attributes\":{\"axis\":{\"id\":\"1839\"},\"dimension\":1,\"grid_line_color\":null,\"ticker\":null},\"id\":\"1842\",\"type\":\"Grid\"},{\"attributes\":{\"months\":[0,6]},\"id\":\"1586\",\"type\":\"MonthsTicker\"},{\"attributes\":{},\"id\":\"1856\",\"type\":\"DatetimeTickFormatter\"},{\"attributes\":{\"axis_label\":\"Nbr Users\",\"bounds\":\"auto\",\"formatter\":{\"id\":\"1856\"},\"major_label_orientation\":\"horizontal\",\"ticker\":{\"id\":\"1836\"}},\"id\":\"1835\",\"type\":\"DatetimeAxis\"},{\"attributes\":{\"days\":[1,2,3,4,5,6,7,8,9,10,11,12,13,14,15,16,17,18,19,20,21,22,23,24,25,26,27,28,29,30,31]},\"id\":\"1579\",\"type\":\"DaysTicker\"},{\"attributes\":{},\"id\":\"1845\",\"type\":\"WheelZoomTool\"},{\"attributes\":{},\"id\":\"1843\",\"type\":\"SaveTool\"},{\"attributes\":{\"overlay\":{\"id\":\"1848\"}},\"id\":\"1846\",\"type\":\"BoxZoomTool\"},{\"attributes\":{\"mantissas\":[1,2,5],\"max_interval\":500.0,\"num_minor_ticks\":0},\"id\":\"1873\",\"type\":\"AdaptiveTicker\"},{\"attributes\":{},\"id\":\"1847\",\"type\":\"ResetTool\"},{\"attributes\":{\"base\":60,\"mantissas\":[1,2,5,10,15,20,30],\"max_interval\":1800000.0,\"min_interval\":1000.0,\"num_minor_ticks\":0},\"id\":\"1874\",\"type\":\"AdaptiveTicker\"},{\"attributes\":{\"days\":[1,2,3,4,5,6,7,8,9,10,11,12,13,14,15,16,17,18,19,20,21,22,23,24,25,26,27,28,29,30,31]},\"id\":\"1876\",\"type\":\"DaysTicker\"},{\"attributes\":{},\"id\":\"1919\",\"type\":\"UnionRenderers\"},{\"attributes\":{\"base\":24,\"mantissas\":[1,2,4,6,8,12],\"max_interval\":43200000.0,\"min_interval\":3600000.0,\"num_minor_ticks\":0},\"id\":\"1875\",\"type\":\"AdaptiveTicker\"},{\"attributes\":{},\"id\":\"1861\",\"type\":\"Selection\"},{\"attributes\":{\"click_policy\":\"mute\",\"items\":[{\"id\":\"1889\"},{\"id\":\"1920\"}],\"location\":[0,0],\"title\":\"Variable\"},\"id\":\"1888\",\"type\":\"Legend\"},{\"attributes\":{\"months\":[0,1,2,3,4,5,6,7,8,9,10,11]},\"id\":\"1880\",\"type\":\"MonthsTicker\"},{\"attributes\":{\"line_alpha\":0.2,\"line_color\":\"#1f77b3\",\"line_width\":2,\"x\":{\"field\":\"Service Start\"},\"y\":{\"field\":\"value\"}},\"id\":\"1865\",\"type\":\"Line\"},{\"attributes\":{\"months\":[0,2,4,6,8,10]},\"id\":\"1881\",\"type\":\"MonthsTicker\"},{\"attributes\":{\"days\":[1,4,7,10,13,16,19,22,25,28]},\"id\":\"1877\",\"type\":\"DaysTicker\"},{\"attributes\":{},\"id\":\"1559\",\"type\":\"DatetimeTickFormatter\"},{\"attributes\":{\"data\":{\"Service Start\":{\"__ndarray__\":\"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\",\"dtype\":\"float64\",\"order\":\"little\",\"shape\":[393]},\"Service_Start\":{\"__ndarray__\":\"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\",\"dtype\":\"float64\",\"order\":\"little\",\"shape\":[393]},\"Variable\":[\"Invoice Amount\",\"Invoice Amount\",\"Invoice Amount\",\"Invoice Amount\",\"Invoice Amount\",\"Invoice Amount\",\"Invoice Amount\",\"Invoice Amount\",\"Invoice Amount\",\"Invoice Amount\",\"Invoice Amount\",\"Invoice Amount\",\"Invoice Amount\",\"Invoice Amount\",\"Invoice Amount\",\"Invoice Amount\",\"Invoice Amount\",\"Invoice Amount\",\"Invoice Amount\",\"Invoice Amount\",\"Invoice Amount\",\"Invoice Amount\",\"Invoice Amount\",\"Invoice Amount\",\"Invoice Amount\",\"Invoice Amount\",\"Invoice Amount\",\"Invoice Amount\",\"Invoice Amount\",\"Invoice Amount\",\"Invoice Amount\",\"Invoice Amount\",\"Invoice Amount\",\"Invoice Amount\",\"Invoice Amount\",\"Invoice Amount\",\"Invoice Amount\",\"Invoice Amount\",\"Invoice Amount\",\"Invoice Amount\",\"Invoice Amount\",\"Invoice Amount\",\"Invoice Amount\",\"Invoice Amount\",\"Invoice Amount\",\"Invoice Amount\",\"Invoice Amount\",\"Invoice Amount\",\"Invoice Amount\",\"Invoice Amount\",\"Invoice Amount\",\"Invoice Amount\",\"Invoice Amount\",\"Invoice Amount\",\"Invoice Amount\",\"Invoice Amount\",\"Invoice Amount\",\"Invoice Amount\",\"Invoice Amount\",\"Invoice Amount\",\"Invoice Amount\",\"Invoice Amount\",\"Invoice Amount\",\"Invoice Amount\",\"Invoice Amount\",\"Invoice Amount\",\"Invoice Amount\",\"Invoice Amount\",\"Invoice Amount\",\"Invoice Amount\",\"Invoice Amount\",\"Invoice Amount\",\"Invoice Amount\",\"Invoice Amount\",\"Invoice Amount\",\"Invoice Amount\",\"Invoice Amount\",\"Invoice Amount\",\"Invoice Amount\",\"Invoice Amount\",\"Invoice Amount\",\"Invoice Amount\",\"Invoice Amount\",\"Invoice Amount\",\"Invoice Amount\",\"Invoice Amount\",\"Invoice Amount\",\"Invoice Amount\",\"Invoice Amount\",\"Invoice Amount\",\"Invoice Amount\",\"Invoice Amount\",\"Invoice Amount\",\"Invoice Amount\",\"Invoice Amount\",\"Invoice Amount\",\"Invoice Amount\",\"Invoice Amount\",\"Invoice Amount\",\"Invoice Amount\",\"Invoice Amount\",\"Invoice Amount\",\"Invoice Amount\",\"Invoice Amount\",\"Invoice Amount\",\"Invoice Amount\",\"Invoice Amount\",\"Invoice Amount\",\"Invoice Amount\",\"Invoice Amount\",\"Invoice Amount\",\"Invoice Amount\",\"Invoice Amount\",\"Invoice Amount\",\"Invoice Amount\",\"Invoice Amount\",\"Invoice Amount\",\"Invoice Amount\",\"Invoice Amount\",\"Invoice Amount\",\"Invoice Amount\",\"Invoice Amount\",\"Invoice Amount\",\"Invoice Amount\",\"Invoice Amount\",\"Invoice Amount\",\"Invoice Amount\",\"Invoice Amount\",\"Invoice Amount\",\"Invoice Amount\",\"Invoice Amount\",\"Invoice Amount\",\"Invoice Amount\",\"Invoice Amount\",\"Invoice Amount\",\"Invoice Amount\",\"Invoice Amount\",\"Invoice Amount\",\"Invoice Amount\",\"Invoice Amount\",\"Invoice Amount\",\"Invoice Amount\",\"Invoice Amount\",\"Invoice Amount\",\"Invoice Amount\",\"Invoice Amount\",\"Invoice Amount\",\"Invoice Amount\",\"Invoice Amount\",\"Invoice Amount\",\"Invoice Amount\",\"Invoice Amount\",\"Invoice Amount\",\"Invoice Amount\",\"Invoice Amount\",\"Invoice Amount\",\"Invoice Amount\",\"Invoice Amount\",\"Invoice Amount\",\"Invoice Amount\",\"Invoice Amount\",\"Invoice Amount\",\"Invoice Amount\",\"Invoice Amount\",\"Invoice Amount\",\"Invoice Amount\",\"Invoice Amount\",\"Invoice Amount\",\"Invoice Amount\",\"Invoice Amount\",\"Invoice Amount\",\"Invoice Amount\",\"Invoice Amount\",\"Invoice Amount\",\"Invoice Amount\",\"Invoice Amount\",\"Invoice Amount\",\"Invoice Amount\",\"Invoice Amount\",\"Invoice Amount\",\"Invoice Amount\",\"Invoice Amount\",\"Invoice Amount\",\"Invoice Amount\",\"Invoice Amount\",\"Invoice Amount\",\"Invoice Amount\",\"Invoice Amount\",\"Invoice Amount\",\"Invoice Amount\",\"Invoice Amount\",\"Invoice Amount\",\"Invoice Amount\",\"Invoice Amount\",\"Invoice Amount\",\"Invoice Amount\",\"Invoice Amount\",\"Invoice Amount\",\"Invoice Amount\",\"Invoice Amount\",\"Invoice Amount\",\"Invoice Amount\",\"Invoice Amount\",\"Invoice Amount\",\"Invoice Amount\",\"Invoice Amount\",\"Invoice Amount\",\"Invoice Amount\",\"Invoice Amount\",\"Invoice Amount\",\"Invoice Amount\",\"Invoice Amount\",\"Invoice Amount\",\"Invoice Amount\",\"Invoice Amount\",\"Invoice Amount\",\"Invoice Amount\",\"Invoice Amount\",\"Invoice Amount\",\"Invoice Amount\",\"Invoice Amount\",\"Invoice Amount\",\"Invoice Amount\",\"Invoice Amount\",\"Invoice Amount\",\"Invoice Amount\",\"Invoice Amount\",\"Invoice Amount\",\"Invoice Amount\",\"Invoice Amount\",\"Invoice Amount\",\"Invoice Amount\",\"Invoice Amount\",\"Invoice Amount\",\"Invoice Amount\",\"Invoice Amount\",\"Invoice Amount\",\"Invoice Amount\",\"Invoice Amount\",\"Invoice Amount\",\"Invoice Amount\",\"Invoice Amount\",\"Invoice Amount\",\"Invoice Amount\",\"Invoice Amount\",\"Invoice Amount\",\"Invoice Amount\",\"Invoice Amount\",\"Invoice Amount\",\"Invoice Amount\",\"Invoice Amount\",\"Invoice Amount\",\"Invoice Amount\",\"Invoice Amount\",\"Invoice Amount\",\"Invoice Amount\",\"Invoice Amount\",\"Invoice Amount\",\"Invoice Amount\",\"Invoice Amount\",\"Invoice Amount\",\"Invoice Amount\",\"Invoice Amount\",\"Invoice Amount\",\"Invoice Amount\",\"Invoice Amount\",\"Invoice Amount\",\"Invoice Amount\",\"Invoice Amount\",\"Invoice Amount\",\"Invoice Amount\",\"Invoice Amount\",\"Invoice Amount\",\"Invoice Amount\",\"Invoice Amount\",\"Invoice Amount\",\"Invoice Amount\",\"Invoice Amount\",\"Invoice Amount\",\"Invoice Amount\",\"Invoice Amount\",\"Invoice Amount\",\"Invoice Amount\",\"Invoice Amount\",\"Invoice Amount\",\"Invoice Amount\",\"Invoice Amount\",\"Invoice Amount\",\"Invoice Amount\",\"Invoice Amount\",\"Invoice Amount\",\"Invoice Amount\",\"Invoice Amount\",\"Invoice Amount\",\"Invoice Amount\",\"Invoice Amount\",\"Invoice Amount\",\"Invoice Amount\",\"Invoice Amount\",\"Invoice Amount\",\"Invoice Amount\",\"Invoice Amount\",\"Invoice Amount\",\"Invoice Amount\",\"Invoice Amount\",\"Invoice Amount\",\"Invoice Amount\",\"Invoice Amount\",\"Invoice Amount\",\"Invoice Amount\",\"Invoice Amount\",\"Invoice Amount\",\"Invoice Amount\",\"Invoice Amount\",\"Invoice Amount\",\"Invoice Amount\",\"Invoice Amount\",\"Invoice Amount\",\"Invoice Amount\",\"Invoice Amount\",\"Invoice Amount\",\"Invoice Amount\",\"Invoice Amount\",\"Invoice Amount\",\"Invoice Amount\",\"Invoice Amount\",\"Invoice Amount\",\"Invoice Amount\",\"Invoice Amount\",\"Invoice Amount\",\"Invoice Amount\",\"Invoice Amount\",\"Invoice Amount\",\"Invoice Amount\",\"Invoice Amount\",\"Invoice Amount\",\"Invoice Amount\",\"Invoice Amount\",\"Invoice Amount\",\"Invoice Amount\",\"Invoice Amount\",\"Invoice Amount\",\"Invoice Amount\",\"Invoice Amount\",\"Invoice Amount\",\"Invoice Amount\",\"Invoice Amount\",\"Invoice Amount\",\"Invoice Amount\",\"Invoice Amount\",\"Invoice Amount\",\"Invoice Amount\",\"Invoice Amount\",\"Invoice Amount\",\"Invoice Amount\",\"Invoice Amount\",\"Invoice Amount\",\"Invoice Amount\",\"Invoice Amount\",\"Invoice Amount\",\"Invoice Amount\",\"Invoice Amount\",\"Invoice Amount\",\"Invoice Amount\",\"Invoice Amount\",\"Invoice Amount\",\"Invoice Amount\",\"Invoice Amount\",\"Invoice Amount\",\"Invoice Amount\",\"Invoice Amount\",\"Invoice Amount\",\"Invoice Amount\",\"Invoice Amount\",\"Invoice Amount\",\"Invoice Amount\",\"Invoice Amount\",\"Invoice Amount\",\"Invoice Amount\",\"Invoice Amount\",\"Invoice Amount\",\"Invoice Amount\",\"Invoice Amount\",\"Invoice Amount\",\"Invoice Amount\",\"Invoice Amount\",\"Invoice Amount\",\"Invoice Amount\",\"Invoice Amount\",\"Invoice Amount\",\"Invoice Amount\",\"Invoice Amount\",\"Invoice Amount\"],\"value\":{\"__ndarray__\":\"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\",\"dtype\":\"float64\",\"order\":\"little\",\"shape\":[393]}},\"selected\":{\"id\":\"1564\"},\"selection_policy\":{\"id\":\"1590\"}},\"id\":\"1563\",\"type\":\"ColumnDataSource\"},{\"attributes\":{\"days\":[1,15]},\"id\":\"1879\",\"type\":\"DaysTicker\"},{\"attributes\":{\"months\":[0,6]},\"id\":\"1883\",\"type\":\"MonthsTicker\"},{\"attributes\":{\"days\":[1,8,15,22]},\"id\":\"1878\",\"type\":\"DaysTicker\"},{\"attributes\":{\"data\":{\"Service Start\":{\"__ndarray__\":\"AAAIjGf8dkIAAIiFn/92QgAAiIWf/3ZCAACIhZ//dkIAAIiFn/92QgAAiIWf/3ZCAABIDPUId0IAAEgM9Qh3QgAASAz1CHdCAADI15kJd0IAAMjXmQl3QgAA4JYpDHdCAAAgX2oOd0IAACBfag53QgAAIF9qDndCAACgKg8Pd0IAAKAqDw93QgAAoCoPD3dCAACgKg8Pd0IAAGCQYQ93QgAAYJBhD3dCAABgkGEPd0IAAGCQYQ93QgAAYJBhD3dCAABgkGEPd0IAAGCQYQ93QgAAoMFYEHdCAACgwVgQd0IAAKDBWBB3QgAAoMFYEHdCAACgwVgQd0IAAKDBWBB3QgAAYCerEHdCAABgJ6sQd0IAAGAnqxB3QgAAYCerEHdCAABgJ6sQd0IAACCN/RB3QgAAII39EHdCAAAgjf0Qd0IAACCN/RB3QgAAII39EHdCAAAgjf0Qd0IAACCN/RB3QgAAII39EHdCAADg8k8Rd0IAAODyTxF3QgAAoFiiEXdCAACgWKIRd0IAAKBYohF3QgAA4ImZEndCAADgiZkSd0IAAOCJmRJ3QgAAoO/rEndCAABgVT4Td0IAAGBVPhN3QgAAYFU+E3dCAABgVT4Td0IAACC7kBN3QgAAILuQE3dCAAAgUtoUd0IAACBS2hR3QgAAoB1/FXdCAACgHX8Vd0IAAKAdfxV3QgAAoB1/FXdCAACgHX8Vd0IAAKAdfxV3QgAAoB1/FXdCAABgg9EVd0IAAGCD0RV3QgAAIOkjFndCAAAg6SMWd0IAACDpIxZ3QgAAYBobF3dCAADg5b8Xd0IAAODlvxd3QgAAYLFkGHdCAACg4lsZd0IAAGBIrhl3QgAAIK4AGndCAAAgrgAad0IAAOATUxp3QgAAINyTHHdCAAAg3JMcd0IAACDckxx3QgAAINyTHHdCAADgQeYcd0IAACBz3R13QgAAIHPdHXdCAAAgc90dd0IAACBz3R13QgAAIHPdHXdCAAAgc90dd0IAAODYLx53QgAAYNJnIXdCAACgA18id0IAAKADXyJ3QgAAIM8DI3dCAABgLo4md0IAAGAujiZ3QgAAYC6OJndCAABgLo4md0IAAGAujiZ3QgAAIJTgJndCAAAglOAmd0IAACCU4CZ3QgAAYPNqKndCAABg82oqd0IAAKAkYit3QgAAYIq0K3dCAADgVVksd0IAAODsoi13QgAA4Bo2MHdCAADgGjYwd0IAAOAaNjB3QgAA4Bo2MHdCAADgGjYwd0IAAOAaNjB3QgAAoICIMHdCAACggIgwd0IAAKCAiDB3QgAAoICIMHdCAACggIgwd0IAAKCAiDB3QgAAoICIMHdCAACggIgwd0IAAKCAiDB3QgAAoICIMHdCAACggIgwd0IAAKCAiDB3QgAAoICIMHdCAACggIgwd0IAAKCAiDB3QgAAoICIMHdCAACggIgwd0IAAGB9JDJ3QgAAION2MndCAAAg43Yyd0IAAGAUbjN3QgAAYBRuM3dCAABgFG4zd0IAAGAUbjN3QgAAoEVlNHdCAAAgEQo1d0IAACARCjV3QgAAIBEKNXdCAAAgEQo1d0IAACARCjV3QgAAIBEKNXdCAAAgEQo1d0IAACARCjV3QgAAIBEKNXdCAADgdlw1d0IAAKBz+DZ3QgAAoHP4NndCAACgc/g2d0IAAKBz+DZ3QgAAoHP4NndCAACgc/g2d0IAAGDZSjd3QgAA4KTvN3dCAADgpO83d0IAAGBwlDh3QgAAIG0wOndCAAAgbTA6d0IAACBtMDp3QgAAIG0wOndCAAAgbTA6d0IAACBtMDp3QgAA4NKCOndCAADg0oI6d0IAAODSgjp3QgAA4NKCOndCAADg0oI6d0IAAODSgjp3QgAA4NKCOndCAADg0oI6d0IAAODSgjp3QgAA4NKCOndCAADg0oI6d0IAAODSgjp3QgAA4NKCOndCAADg0oI6d0IAAODSgjp3QgAA4NKCOndCAAAgBHo7d0IAACAEejt3QgAA4GnMO3dCAABgNXE8d0IAAGA1cTx3QgAAYDVxPHdCAAAgm8M8d0IAACCbwzx3QgAAoGZoPXdCAACgZmg9d0IAACAyDT53QgAAIDINPndCAAAgMg0+d0IAACAyDT53QgAAIDINPndCAADgl18+d0IAAOCXXz53QgAA4JdfPndCAABgYwQ/d0IAACDJVj93QgAA4C6pP3dCAADgLqk/d0IAAOAuqT93QgAA4C6pP3dCAADgLqk/d0IAAOAuqT93QgAA4C6pP3dCAADgLqk/d0IAAOAuqT93QgAA4C6pP3dCAACglPs/d0IAAGD6TUB3QgAAYPpNQHdCAABg+k1Ad0IAACBgoEB3QgAAIGCgQHdCAAAgYKBAd0IAAODF8kB3QgAA4MXyQHdCAADgxfJAd0IAAODF8kB3QgAA4MXyQHdCAAAg9+lBd0IAACD36UF3QgAAIPfpQXdCAAAg9+lBd0IAACD36UF3QgAAIPfpQXdCAAAg9+lBd0IAACD36UF3QgAAIPfpQXdCAAAg9+lBd0IAACD36UF3QgAA4Fw8QndCAADgXDxCd0IAAOBcPEJ3QgAA4Fw8QndCAABgKOFCd0IAACCOM0N3QgAAII4zQ3dCAABgvypEd0IAAGC/KkR3QgAAYL8qRHdCAABgvypEd0IAAGC/KkR3QgAAYL8qRHdCAABgvypEd0IAAGC/KkR3QgAAYL8qRHdCAABgvypEd0IAAGC/KkR3QgAAYL8qRHdCAABgvypEd0IAAGC/KkR3QgAAYL8qRHdCAABgvypEd0IAAGC/KkR3QgAAYL8qRHdCAABgvypEd0IAAGC/KkR3QgAAYL8qRHdCAABgvypEd0IAAGC/KkR3QgAAYL8qRHdCAAAgJX1Ed0IAACAlfUR3QgAAICV9RHdCAAAgJX1Ed0IAACAlfUR3QgAAICV9RHdCAAAgJX1Ed0IAACAlfUR3QgAAICV9RHdCAAAgJX1Ed0IAACAlfUR3QgAAICV9RHdCAAAgJX1Ed0IAACAlfUR3QgAAICV9RHdCAAAgJX1Ed0IAACAlfUR3QgAAICV9RHdCAAAgJX1Ed0IAACAlfUR3QgAAICV9RHdCAAAgJX1Ed0IAACAlfUR3QgAAICV9RHdCAAAgJX1Ed0IAACAlfUR3QgAAICV9RHdCAAAgJX1Ed0IAACAlfUR3QgAAICV9RHdCAAAgJX1Ed0IAAOCKz0R3QgAAYFZ0RXdCAABgVnRFd0IAAGBWdEV3QgAAYFZ0RXdCAABgVnRFd0IAAGDtvUZ3QgAAYO29RndCAABg7b1Gd0IAAGDtvUZ3QgAAYO29RndCAABg7b1Gd0IAAGDtvUZ3QgAAYO29RndCAAAgUxBHd0IAACBTEEd3QgAAIFMQR3dCAAAgUxBHd0IAAOC4Ykd3QgAA4LhiR3dCAADguGJHd0IAAKAetUd3QgAAoB61R3dCAADgT6xId0IAAOBPrEh3QgAA4E+sSHdCAADgT6xId0IAAOBPrEh3QgAA4E+sSHdCAACgtf5Id0IAAKC1/kh3QgAAoLX+SHdCAACgtf5Id0IAAKC1/kh3QgAAoLX+SHdCAAAggaNJd0IAAODm9Ul3QgAA4Ob1SXdCAADg5vVJd0IAAODm9Ul3QgAAoExISndCAAAgGO1Kd0IAACAY7Up3QgAA4H0/S3dCAABgSeRLd0IAAGBJ5Et3QgAAYOAtTXdCAABg4C1Nd0IAAOCr0k13QgAA4KvSTXdCAADgq9JNd0IAAOCr0k13QgAA4KvSTXdCAADgq9JNd0IAAOCr0k13QgAAoBElTndCAACgESVOd0IAAKARJU53QgAAoBElTndCAACgESVOd0IAAKARJU53QgAAoBElTndCAACgESVOd0IAAKARJU53QgAAoBElTndCAACgESVOd0IAAKARJU53QgAAYHd3TndCAABgd3dOd0IAAGB3d053QgAAYHd3TndCAABgDsFPd0IAACB0E1B3QgAAIHQTUHdCAAAgdBNQd0IAAKA/uFB3QgAAYDxUUndCAAAgoqZSd0IAACA58FN3QgAA4J5CVHdCAABgaudUd0IAACDQOVV3QgAAINA5VXdCAAAg/sxXd0IAAOBjH1h3QgAA4GMfWHdCAACIOHVYd0IAAIg4dVh3QgAAiDh1WHdCAABInsdYd0IAAEg1EVp3QgAAyKtya3dC\",\"dtype\":\"float64\",\"order\":\"little\",\"shape\":[393]},\"Service_Start\":{\"__ndarray__\":\"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\",\"dtype\":\"float64\",\"order\":\"little\",\"shape\":[393]},\"Variable\":[\"Number of Users\",\"Number of Users\",\"Number of Users\",\"Number of Users\",\"Number of Users\",\"Number of Users\",\"Number of Users\",\"Number of Users\",\"Number of Users\",\"Number of Users\",\"Number of Users\",\"Number of Users\",\"Number of Users\",\"Number of Users\",\"Number of Users\",\"Number of Users\",\"Number of Users\",\"Number of Users\",\"Number of Users\",\"Number of Users\",\"Number of Users\",\"Number of Users\",\"Number of Users\",\"Number of Users\",\"Number of Users\",\"Number of Users\",\"Number of Users\",\"Number of Users\",\"Number of Users\",\"Number of Users\",\"Number of Users\",\"Number of Users\",\"Number of Users\",\"Number of Users\",\"Number of Users\",\"Number of Users\",\"Number of Users\",\"Number of Users\",\"Number of Users\",\"Number of Users\",\"Number of Users\",\"Number of Users\",\"Number of Users\",\"Number of Users\",\"Number of Users\",\"Number of Users\",\"Number of Users\",\"Number of Users\",\"Number of Users\",\"Number of Users\",\"Number of Users\",\"Number of Users\",\"Number of Users\",\"Number of Users\",\"Number of Users\",\"Number of Users\",\"Number of Users\",\"Number of Users\",\"Number of Users\",\"Number of Users\",\"Number of Users\",\"Number of Users\",\"Number of Users\",\"Number of Users\",\"Number of Users\",\"Number of Users\",\"Number of Users\",\"Number of Users\",\"Number of Users\",\"Number of Users\",\"Number of Users\",\"Number of Users\",\"Number of Users\",\"Number of Users\",\"Number of Users\",\"Number of Users\",\"Number of Users\",\"Number of Users\",\"Number of Users\",\"Number of Users\",\"Number of Users\",\"Number of Users\",\"Number of Users\",\"Number of Users\",\"Number of Users\",\"Number of Users\",\"Number of Users\",\"Number of Users\",\"Number of Users\",\"Number of Users\",\"Number of Users\",\"Number of Users\",\"Number of Users\",\"Number of Users\",\"Number of Users\",\"Number of Users\",\"Number of Users\",\"Number of Users\",\"Number of Users\",\"Number of Users\",\"Number of Users\",\"Number of Users\",\"Number of Users\",\"Number of Users\",\"Number of Users\",\"Number of Users\",\"Number of Users\",\"Number of Users\",\"Number of Users\",\"Number of Users\",\"Number of Users\",\"Number of Users\",\"Number of Users\",\"Number of Users\",\"Number of Users\",\"Number of Users\",\"Number of Users\",\"Number of Users\",\"Number of Users\",\"Number of Users\",\"Number of Users\",\"Number of Users\",\"Number of Users\",\"Number of Users\",\"Number of Users\",\"Number of Users\",\"Number of Users\",\"Number of Users\",\"Number of Users\",\"Number of Users\",\"Number of Users\",\"Number of Users\",\"Number of Users\",\"Number of Users\",\"Number of Users\",\"Number of Users\",\"Number of Users\",\"Number of Users\",\"Number of Users\",\"Number of Users\",\"Number of Users\",\"Number of Users\",\"Number of Users\",\"Number of Users\",\"Number of Users\",\"Number of Users\",\"Number of Users\",\"Number of Users\",\"Number of Users\",\"Number of Users\",\"Number of Users\",\"Number of Users\",\"Number of Users\",\"Number of Users\",\"Number of Users\",\"Number of Users\",\"Number of Users\",\"Number of Users\",\"Number of Users\",\"Number of Users\",\"Number of Users\",\"Number of Users\",\"Number of Users\",\"Number of Users\",\"Number of Users\",\"Number of Users\",\"Number of Users\",\"Number of Users\",\"Number of Users\",\"Number of Users\",\"Number of Users\",\"Number of Users\",\"Number of Users\",\"Number of Users\",\"Number of Users\",\"Number of Users\",\"Number of Users\",\"Number of Users\",\"Number of Users\",\"Number of Users\",\"Number of Users\",\"Number of Users\",\"Number of Users\",\"Number of Users\",\"Number of Users\",\"Number of Users\",\"Number of Users\",\"Number of Users\",\"Number of Users\",\"Number of Users\",\"Number of Users\",\"Number of Users\",\"Number of Users\",\"Number of Users\",\"Number of Users\",\"Number of Users\",\"Number of Users\",\"Number of Users\",\"Number of Users\",\"Number of Users\",\"Number of Users\",\"Number of Users\",\"Number of Users\",\"Number of Users\",\"Number of Users\",\"Number of Users\",\"Number of Users\",\"Number of Users\",\"Number of Users\",\"Number of Users\",\"Number of Users\",\"Number of Users\",\"Number of Users\",\"Number of Users\",\"Number of Users\",\"Number of Users\",\"Number of Users\",\"Number of Users\",\"Number of Users\",\"Number of Users\",\"Number of Users\",\"Number of Users\",\"Number of Users\",\"Number of Users\",\"Number of Users\",\"Number of Users\",\"Number of Users\",\"Number of Users\",\"Number of Users\",\"Number of Users\",\"Number of Users\",\"Number of Users\",\"Number of Users\",\"Number of Users\",\"Number of Users\",\"Number of Users\",\"Number of Users\",\"Number of Users\",\"Number of Users\",\"Number of Users\",\"Number of Users\",\"Number of Users\",\"Number of Users\",\"Number of Users\",\"Number of Users\",\"Number of Users\",\"Number of Users\",\"Number of Users\",\"Number of Users\",\"Number of Users\",\"Number of Users\",\"Number of Users\",\"Number of Users\",\"Number of Users\",\"Number of Users\",\"Number of Users\",\"Number of Users\",\"Number of Users\",\"Number of Users\",\"Number of Users\",\"Number of Users\",\"Number of Users\",\"Number of Users\",\"Number of Users\",\"Number of Users\",\"Number of Users\",\"Number of Users\",\"Number of Users\",\"Number of Users\",\"Number of Users\",\"Number of Users\",\"Number of Users\",\"Number of Users\",\"Number of Users\",\"Number of Users\",\"Number of Users\",\"Number of Users\",\"Number of Users\",\"Number of Users\",\"Number of Users\",\"Number of Users\",\"Number of Users\",\"Number of Users\",\"Number of Users\",\"Number of Users\",\"Number of Users\",\"Number of Users\",\"Number of Users\",\"Number of Users\",\"Number of Users\",\"Number of Users\",\"Number of Users\",\"Number of Users\",\"Number of Users\",\"Number of Users\",\"Number of Users\",\"Number of Users\",\"Number of Users\",\"Number of Users\",\"Number of Users\",\"Number of Users\",\"Number of Users\",\"Number of Users\",\"Number of Users\",\"Number of Users\",\"Number of Users\",\"Number of Users\",\"Number of Users\",\"Number of Users\",\"Number of Users\",\"Number of Users\",\"Number of Users\",\"Number of Users\",\"Number of Users\",\"Number of Users\",\"Number of Users\",\"Number of Users\",\"Number of Users\",\"Number of Users\",\"Number of Users\",\"Number of Users\",\"Number of Users\",\"Number of Users\",\"Number of Users\",\"Number of Users\",\"Number of Users\",\"Number of Users\",\"Number of Users\",\"Number of Users\",\"Number of Users\",\"Number of Users\",\"Number of Users\",\"Number of Users\",\"Number of Users\",\"Number of Users\",\"Number of Users\",\"Number of Users\",\"Number of Users\",\"Number of Users\",\"Number of Users\",\"Number of Users\",\"Number of Users\",\"Number of Users\",\"Number of Users\",\"Number of Users\",\"Number of Users\",\"Number of Users\",\"Number of Users\",\"Number of Users\",\"Number of Users\",\"Number of Users\",\"Number of Users\",\"Number of Users\",\"Number of Users\",\"Number of Users\",\"Number of Users\",\"Number of Users\",\"Number of Users\",\"Number of Users\",\"Number of Users\",\"Number of Users\",\"Number of Users\",\"Number of Users\",\"Number of Users\",\"Number of Users\",\"Number of Users\",\"Number of Users\",\"Number of Users\",\"Number of Users\",\"Number of Users\",\"Number of Users\",\"Number of Users\",\"Number of Users\",\"Number of Users\",\"Number of Users\",\"Number of Users\",\"Number of Users\",\"Number of Users\",\"Number of Users\",\"Number of Users\",\"Number of Users\",\"Number of Users\",\"Number of Users\",\"Number of Users\",\"Number of Users\",\"Number of Users\",\"Number of Users\",\"Number of Users\",\"Number of Users\",\"Number of Users\",\"Number of Users\",\"Number of Users\",\"Number of Users\"],\"value\":{\"__ndarray__\":\"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\",\"dtype\":\"float64\",\"order\":\"little\",\"shape\":[393]}},\"selected\":{\"id\":\"1891\"},\"selection_policy\":{\"id\":\"1919\"}},\"id\":\"1890\",\"type\":\"ColumnDataSource\"},{\"attributes\":{},\"id\":\"1884\",\"type\":\"YearsTicker\"},{\"attributes\":{},\"id\":\"1561\",\"type\":\"BasicTickFormatter\"},{\"attributes\":{},\"id\":\"1547\",\"type\":\"PanTool\"},{\"attributes\":{\"line_color\":\"#1f77b3\",\"line_width\":2,\"x\":{\"field\":\"Service Start\"},\"y\":{\"field\":\"value\"}},\"id\":\"1566\",\"type\":\"Line\"},{\"attributes\":{\"months\":[0,4,8]},\"id\":\"1882\",\"type\":\"MonthsTicker\"},{\"attributes\":{\"source\":{\"id\":\"1860\"}},\"id\":\"1867\",\"type\":\"CDSView\"},{\"attributes\":{\"line_alpha\":0.1,\"line_color\":\"#1f77b3\",\"line_width\":2,\"x\":{\"field\":\"Service Start\"},\"y\":{\"field\":\"value\"}},\"id\":\"1567\",\"type\":\"Line\"},{\"attributes\":{\"bottom_units\":\"screen\",\"fill_alpha\":0.5,\"fill_color\":\"lightgrey\",\"left_units\":\"screen\",\"level\":\"overlay\",\"line_alpha\":1.0,\"line_color\":\"black\",\"line_dash\":[4,4],\"line_width\":2,\"right_units\":\"screen\",\"top_units\":\"screen\"},\"id\":\"1848\",\"type\":\"BoxAnnotation\"},{\"attributes\":{\"callback\":null,\"formatters\":{\"@{Service Start}\":\"datetime\",\"@{Service_Start}\":\"datetime\"},\"renderers\":[{\"id\":\"1866\"},{\"id\":\"1896\"}],\"tags\":[\"hv_created\"],\"tooltips\":[[\"Variable\",\"@{Variable}\"],[\"Service Start\",\"@{Service_Start}{%F %T}\"],[\"value\",\"@{value}\"]]},\"id\":\"1824\",\"type\":\"HoverTool\"},{\"attributes\":{\"line_alpha\":0.1,\"line_color\":\"#1f77b3\",\"line_width\":2,\"x\":{\"field\":\"Service Start\"},\"y\":{\"field\":\"value\"}},\"id\":\"1864\",\"type\":\"Line\"},{\"attributes\":{\"line_alpha\":0.1,\"line_color\":\"#ff7e0e\",\"line_width\":2,\"x\":{\"field\":\"Service Start\"},\"y\":{\"field\":\"value\"}},\"id\":\"1597\",\"type\":\"Line\"},{\"attributes\":{\"months\":[0,1,2,3,4,5,6,7,8,9,10,11]},\"id\":\"1583\",\"type\":\"MonthsTicker\"},{\"attributes\":{\"end\":2464186.1334596025,\"reset_end\":1151282.669,\"reset_start\":-104443.87900000002,\"start\":-104443.87900000002,\"tags\":[[[\"value\",\"value\",null]]]},\"id\":\"1526\",\"type\":\"Range1d\"},{\"attributes\":{\"source\":{\"id\":\"1593\"}},\"id\":\"1600\",\"type\":\"CDSView\"},{\"attributes\":{\"months\":[0,2,4,6,8,10]},\"id\":\"1584\",\"type\":\"MonthsTicker\"},{\"attributes\":{},\"id\":\"1564\",\"type\":\"Selection\"},{\"attributes\":{},\"id\":\"1536\",\"type\":\"LinearScale\"},{\"attributes\":{\"line_alpha\":0.2,\"line_color\":\"#ff7e0e\",\"line_width\":2,\"x\":{\"field\":\"Service Start\"},\"y\":{\"field\":\"value\"}},\"id\":\"1598\",\"type\":\"Line\"},{\"attributes\":{\"num_minor_ticks\":5,\"tickers\":[{\"id\":\"1576\"},{\"id\":\"1577\"},{\"id\":\"1578\"},{\"id\":\"1579\"},{\"id\":\"1580\"},{\"id\":\"1581\"},{\"id\":\"1582\"},{\"id\":\"1583\"},{\"id\":\"1584\"},{\"id\":\"1585\"},{\"id\":\"1586\"},{\"id\":\"1587\"}]},\"id\":\"1539\",\"type\":\"DatetimeTicker\"},{\"attributes\":{\"data_source\":{\"id\":\"1563\"},\"glyph\":{\"id\":\"1566\"},\"hover_glyph\":null,\"muted_glyph\":{\"id\":\"1568\"},\"nonselection_glyph\":{\"id\":\"1567\"},\"selection_glyph\":null,\"view\":{\"id\":\"1570\"}},\"id\":\"1569\",\"type\":\"GlyphRenderer\"},{\"attributes\":{\"callback\":null,\"formatters\":{\"@{Service Start}\":\"datetime\",\"@{Service_Start}\":\"datetime\"},\"renderers\":[{\"id\":\"1569\"},{\"id\":\"1599\"}],\"tags\":[\"hv_created\"],\"tooltips\":[[\"Variable\",\"@{Variable}\"],[\"Service Start\",\"@{Service_Start}{%F %T}\"],[\"value\",\"@{value}\"]]},\"id\":\"1527\",\"type\":\"HoverTool\"},{\"attributes\":{},\"id\":\"1887\",\"type\":\"UnionRenderers\"},{\"attributes\":{\"below\":[{\"id\":\"1538\"}],\"center\":[{\"id\":\"1541\"},{\"id\":\"1545\"}],\"left\":[{\"id\":\"1542\"}],\"margin\":[5,5,5,5],\"min_border_bottom\":10,\"min_border_left\":10,\"min_border_right\":10,\"min_border_top\":10,\"plot_height\":300,\"plot_width\":1000,\"renderers\":[{\"id\":\"1569\"},{\"id\":\"1599\"}],\"right\":[{\"id\":\"1591\"}],\"sizing_mode\":\"fixed\",\"title\":{\"id\":\"1530\"},\"toolbar\":{\"id\":\"1552\"},\"x_range\":{\"id\":\"1525\"},\"x_scale\":{\"id\":\"1534\"},\"y_range\":{\"id\":\"1526\"},\"y_scale\":{\"id\":\"1536\"}},\"id\":\"1529\",\"subtype\":\"Figure\",\"type\":\"Plot\"},{\"attributes\":{\"line_color\":\"#ff7e0e\",\"line_width\":2,\"x\":{\"field\":\"Service Start\"},\"y\":{\"field\":\"value\"}},\"id\":\"1596\",\"type\":\"Line\"},{\"attributes\":{\"line_alpha\":0.2,\"line_color\":\"#1f77b3\",\"line_width\":2,\"x\":{\"field\":\"Service Start\"},\"y\":{\"field\":\"value\"}},\"id\":\"1568\",\"type\":\"Line\"},{\"attributes\":{\"children\":[{\"id\":\"1529\"},{\"id\":\"1826\"}],\"margin\":[0,0,0,0],\"name\":\"Column02318\"},\"id\":\"1524\",\"type\":\"Column\"},{\"attributes\":{\"data\":{\"Service Start\":{\"__ndarray__\":\"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\",\"dtype\":\"float64\",\"order\":\"little\",\"shape\":[393]},\"Service_Start\":{\"__ndarray__\":\"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\",\"dtype\":\"float64\",\"order\":\"little\",\"shape\":[393]},\"Variable\":[\"Number of Users\",\"Number of Users\",\"Number of Users\",\"Number of Users\",\"Number of Users\",\"Number of Users\",\"Number of Users\",\"Number of Users\",\"Number of Users\",\"Number of Users\",\"Number of Users\",\"Number of Users\",\"Number of Users\",\"Number of Users\",\"Number of Users\",\"Number of Users\",\"Number of Users\",\"Number of Users\",\"Number of Users\",\"Number of Users\",\"Number of Users\",\"Number of Users\",\"Number of Users\",\"Number of Users\",\"Number of Users\",\"Number of Users\",\"Number of Users\",\"Number of Users\",\"Number of Users\",\"Number of Users\",\"Number of Users\",\"Number of Users\",\"Number of Users\",\"Number of Users\",\"Number of Users\",\"Number of Users\",\"Number of Users\",\"Number of Users\",\"Number of Users\",\"Number of Users\",\"Number of Users\",\"Number of Users\",\"Number of Users\",\"Number of Users\",\"Number of Users\",\"Number of Users\",\"Number of Users\",\"Number of Users\",\"Number of Users\",\"Number of Users\",\"Number of Users\",\"Number of Users\",\"Number of Users\",\"Number of Users\",\"Number of Users\",\"Number of Users\",\"Number of Users\",\"Number of Users\",\"Number of Users\",\"Number of Users\",\"Number of Users\",\"Number of Users\",\"Number of Users\",\"Number of Users\",\"Number of Users\",\"Number of Users\",\"Number of Users\",\"Number of Users\",\"Number of Users\",\"Number of Users\",\"Number of Users\",\"Number of Users\",\"Number of Users\",\"Number of Users\",\"Number of Users\",\"Number of Users\",\"Number of Users\",\"Number of Users\",\"Number of Users\",\"Number of Users\",\"Number of Users\",\"Number of Users\",\"Number of Users\",\"Number of Users\",\"Number of Users\",\"Number of Users\",\"Number of Users\",\"Number of Users\",\"Number of Users\",\"Number of Users\",\"Number of Users\",\"Number of Users\",\"Number of Users\",\"Number of Users\",\"Number of Users\",\"Number of Users\",\"Number of Users\",\"Number of Users\",\"Number of Users\",\"Number of Users\",\"Number of Users\",\"Number of Users\",\"Number of Users\",\"Number of Users\",\"Number of Users\",\"Number of Users\",\"Number of Users\",\"Number of Users\",\"Number of Users\",\"Number of Users\",\"Number of Users\",\"Number of Users\",\"Number of Users\",\"Number of Users\",\"Number of Users\",\"Number of Users\",\"Number of Users\",\"Number of Users\",\"Number of Users\",\"Number of Users\",\"Number of Users\",\"Number of Users\",\"Number of Users\",\"Number of Users\",\"Number of Users\",\"Number of Users\",\"Number of Users\",\"Number of Users\",\"Number of Users\",\"Number of Users\",\"Number of Users\",\"Number of Users\",\"Number of Users\",\"Number of Users\",\"Number of Users\",\"Number of Users\",\"Number of Users\",\"Number of Users\",\"Number of Users\",\"Number of Users\",\"Number of Users\",\"Number of Users\",\"Number of Users\",\"Number of Users\",\"Number of Users\",\"Number of Users\",\"Number of Users\",\"Number of Users\",\"Number of Users\",\"Number of Users\",\"Number of Users\",\"Number of Users\",\"Number of Users\",\"Number of Users\",\"Number of Users\",\"Number of Users\",\"Number of Users\",\"Number of Users\",\"Number of Users\",\"Number of Users\",\"Number of Users\",\"Number of Users\",\"Number of Users\",\"Number of Users\",\"Number of Users\",\"Number of Users\",\"Number of Users\",\"Number of Users\",\"Number of Users\",\"Number of Users\",\"Number of Users\",\"Number of Users\",\"Number of Users\",\"Number of Users\",\"Number of Users\",\"Number of Users\",\"Number of Users\",\"Number of Users\",\"Number of Users\",\"Number of Users\",\"Number of Users\",\"Number of Users\",\"Number of Users\",\"Number of Users\",\"Number of Users\",\"Number of Users\",\"Number of Users\",\"Number of Users\",\"Number of Users\",\"Number of Users\",\"Number of Users\",\"Number of Users\",\"Number of Users\",\"Number of Users\",\"Number of Users\",\"Number of Users\",\"Number of Users\",\"Number of Users\",\"Number of Users\",\"Number of Users\",\"Number of Users\",\"Number of Users\",\"Number of Users\",\"Number of Users\",\"Number of Users\",\"Number of Users\",\"Number of Users\",\"Number of Users\",\"Number of Users\",\"Number of Users\",\"Number of Users\",\"Number of Users\",\"Number of Users\",\"Number of Users\",\"Number of Users\",\"Number of Users\",\"Number of Users\",\"Number of Users\",\"Number of Users\",\"Number of Users\",\"Number of Users\",\"Number of Users\",\"Number of Users\",\"Number of Users\",\"Number of Users\",\"Number of Users\",\"Number of Users\",\"Number of Users\",\"Number of Users\",\"Number of Users\",\"Number of Users\",\"Number of Users\",\"Number of Users\",\"Number of Users\",\"Number of Users\",\"Number of Users\",\"Number of Users\",\"Number of Users\",\"Number of Users\",\"Number of Users\",\"Number of Users\",\"Number of Users\",\"Number of Users\",\"Number of Users\",\"Number of Users\",\"Number of Users\",\"Number of Users\",\"Number of Users\",\"Number of Users\",\"Number of Users\",\"Number of Users\",\"Number of Users\",\"Number of Users\",\"Number of Users\",\"Number of Users\",\"Number of Users\",\"Number of Users\",\"Number of Users\",\"Number of Users\",\"Number of Users\",\"Number of Users\",\"Number of Users\",\"Number of Users\",\"Number of Users\",\"Number of Users\",\"Number of Users\",\"Number of Users\",\"Number of Users\",\"Number of Users\",\"Number of Users\",\"Number of Users\",\"Number of Users\",\"Number of Users\",\"Number of Users\",\"Number of Users\",\"Number of Users\",\"Number of Users\",\"Number of Users\",\"Number of Users\",\"Number of Users\",\"Number of Users\",\"Number of Users\",\"Number of Users\",\"Number of Users\",\"Number of Users\",\"Number of Users\",\"Number of Users\",\"Number of Users\",\"Number of Users\",\"Number of Users\",\"Number of Users\",\"Number of Users\",\"Number of Users\",\"Number of Users\",\"Number of Users\",\"Number of Users\",\"Number of Users\",\"Number of Users\",\"Number of Users\",\"Number of Users\",\"Number of Users\",\"Number of Users\",\"Number of Users\",\"Number of Users\",\"Number of Users\",\"Number of Users\",\"Number of Users\",\"Number of Users\",\"Number of Users\",\"Number of Users\",\"Number of Users\",\"Number of Users\",\"Number of Users\",\"Number of Users\",\"Number of Users\",\"Number of Users\",\"Number of Users\",\"Number of Users\",\"Number of Users\",\"Number of Users\",\"Number of Users\",\"Number of Users\",\"Number of Users\",\"Number of Users\",\"Number of Users\",\"Number of Users\",\"Number of Users\",\"Number of Users\",\"Number of Users\",\"Number of Users\",\"Number of Users\",\"Number of Users\",\"Number of Users\",\"Number of Users\",\"Number of Users\",\"Number of Users\",\"Number of Users\",\"Number of Users\",\"Number of Users\",\"Number of Users\",\"Number of Users\",\"Number of Users\",\"Number of Users\",\"Number of Users\",\"Number of Users\",\"Number of Users\",\"Number of Users\",\"Number of Users\",\"Number of Users\",\"Number of Users\",\"Number of Users\",\"Number of Users\",\"Number of Users\",\"Number of Users\",\"Number of Users\",\"Number of Users\",\"Number of Users\",\"Number of Users\",\"Number of Users\",\"Number of Users\",\"Number of Users\",\"Number of Users\",\"Number of Users\",\"Number of Users\",\"Number of Users\",\"Number of Users\",\"Number of Users\",\"Number of Users\",\"Number of Users\",\"Number of Users\",\"Number of Users\",\"Number of Users\",\"Number of Users\",\"Number of Users\",\"Number of Users\",\"Number of Users\",\"Number of Users\",\"Number of Users\",\"Number of Users\",\"Number of Users\",\"Number of Users\",\"Number of Users\",\"Number of Users\",\"Number of Users\",\"Number of Users\",\"Number of Users\",\"Number of Users\",\"Number of Users\",\"Number of Users\",\"Number of Users\",\"Number of Users\",\"Number of Users\",\"Number of Users\"],\"value\":{\"__ndarray__\":\"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\",\"dtype\":\"float64\",\"order\":\"little\",\"shape\":[393]}},\"selected\":{\"id\":\"1594\"},\"selection_policy\":{\"id\":\"1622\"}},\"id\":\"1593\",\"type\":\"ColumnDataSource\"},{\"attributes\":{\"end\":1609390800000.0,\"reset_end\":1609390800000.0,\"reset_start\":1579582800000.0,\"start\":1579582800000.0,\"tags\":[[[\"Service Start\",\"Service Start\",null]]]},\"id\":\"1525\",\"type\":\"Range1d\"},{\"attributes\":{\"click_policy\":\"mute\",\"items\":[{\"id\":\"1592\"},{\"id\":\"1623\"}],\"location\":[0,0],\"title\":\"Variable\"},\"id\":\"1591\",\"type\":\"Legend\"},{\"attributes\":{},\"id\":\"1594\",\"type\":\"Selection\"},{\"attributes\":{\"source\":{\"id\":\"1563\"}},\"id\":\"1570\",\"type\":\"CDSView\"},{\"attributes\":{\"text\":\"Invoice Amount (2020)\",\"text_color\":{\"value\":\"black\"},\"text_font_size\":{\"value\":\"12pt\"}},\"id\":\"1530\",\"type\":\"Title\"},{\"attributes\":{\"axis\":{\"id\":\"1538\"},\"grid_line_color\":null,\"ticker\":null},\"id\":\"1541\",\"type\":\"Grid\"},{\"attributes\":{\"data_source\":{\"id\":\"1593\"},\"glyph\":{\"id\":\"1596\"},\"hover_glyph\":null,\"muted_glyph\":{\"id\":\"1598\"},\"nonselection_glyph\":{\"id\":\"1597\"},\"selection_glyph\":null,\"view\":{\"id\":\"1600\"}},\"id\":\"1599\",\"type\":\"GlyphRenderer\"},{\"attributes\":{\"label\":{\"value\":\"Invoice Amount\"},\"renderers\":[{\"id\":\"1569\"}]},\"id\":\"1592\",\"type\":\"LegendItem\"},{\"attributes\":{\"label\":{\"value\":\"Number of Users\"},\"renderers\":[{\"id\":\"1599\"}]},\"id\":\"1623\",\"type\":\"LegendItem\"},{\"attributes\":{},\"id\":\"1534\",\"type\":\"LinearScale\"},{\"attributes\":{},\"id\":\"1543\",\"type\":\"BasicTicker\"},{\"attributes\":{\"axis_label\":\"Invoice Amount ($)\",\"bounds\":\"auto\",\"formatter\":{\"id\":\"1561\"},\"major_label_orientation\":\"horizontal\",\"ticker\":{\"id\":\"1543\"}},\"id\":\"1542\",\"type\":\"LinearAxis\"},{\"attributes\":{\"active_drag\":\"auto\",\"active_inspect\":\"auto\",\"active_multi\":null,\"active_scroll\":\"auto\",\"active_tap\":\"auto\",\"tools\":[{\"id\":\"1824\"},{\"id\":\"1843\"},{\"id\":\"1844\"},{\"id\":\"1845\"},{\"id\":\"1846\"},{\"id\":\"1847\"}]},\"id\":\"1849\",\"type\":\"Toolbar\"},{\"attributes\":{\"axis\":{\"id\":\"1542\"},\"dimension\":1,\"grid_line_color\":null,\"ticker\":null},\"id\":\"1545\",\"type\":\"Grid\"},{\"attributes\":{\"axis_label\":\"Nbr Users\",\"bounds\":\"auto\",\"formatter\":{\"id\":\"1559\"},\"major_label_orientation\":\"horizontal\",\"ticker\":{\"id\":\"1539\"}},\"id\":\"1538\",\"type\":\"DatetimeAxis\"},{\"attributes\":{},\"id\":\"1548\",\"type\":\"WheelZoomTool\"},{\"attributes\":{},\"id\":\"1546\",\"type\":\"SaveTool\"},{\"attributes\":{},\"id\":\"1622\",\"type\":\"UnionRenderers\"},{\"attributes\":{\"overlay\":{\"id\":\"1551\"}},\"id\":\"1549\",\"type\":\"BoxZoomTool\"},{\"attributes\":{},\"id\":\"1550\",\"type\":\"ResetTool\"},{\"attributes\":{\"active_drag\":\"auto\",\"active_inspect\":\"auto\",\"active_multi\":null,\"active_scroll\":\"auto\",\"active_tap\":\"auto\",\"tools\":[{\"id\":\"1527\"},{\"id\":\"1546\"},{\"id\":\"1547\"},{\"id\":\"1548\"},{\"id\":\"1549\"},{\"id\":\"1550\"}]},\"id\":\"1552\",\"type\":\"Toolbar\"},{\"attributes\":{\"below\":[{\"id\":\"1835\"}],\"center\":[{\"id\":\"1838\"},{\"id\":\"1842\"}],\"left\":[{\"id\":\"1839\"}],\"margin\":[5,5,5,5],\"min_border_bottom\":10,\"min_border_left\":10,\"min_border_right\":10,\"min_border_top\":10,\"plot_height\":300,\"plot_width\":1000,\"renderers\":[{\"id\":\"1866\"},{\"id\":\"1896\"}],\"right\":[{\"id\":\"1888\"}],\"sizing_mode\":\"fixed\",\"title\":{\"id\":\"1827\"},\"toolbar\":{\"id\":\"1849\"},\"x_range\":{\"id\":\"1525\"},\"x_scale\":{\"id\":\"1831\"},\"y_range\":{\"id\":\"1823\"},\"y_scale\":{\"id\":\"1833\"}},\"id\":\"1826\",\"subtype\":\"Figure\",\"type\":\"Plot\"},{\"attributes\":{\"ticker\":null},\"id\":\"1858\",\"type\":\"LogTickFormatter\"},{\"attributes\":{\"months\":[0,4,8]},\"id\":\"1585\",\"type\":\"MonthsTicker\"},{\"attributes\":{\"client_comm_id\":\"5b27bfb0e80b4c5ab6247509ddf8ca5d\",\"comm_id\":\"e2254a76b7e84d9a9b25fafb255df83d\",\"plot_id\":\"1524\"},\"id\":\"2251\",\"type\":\"panel.models.comm_manager.CommManager\"},{\"attributes\":{\"end\":2464186.1334596025,\"reset_end\":2464186.1334596025,\"reset_start\":84.9480301660951,\"start\":84.9480301660951,\"tags\":[[[\"value\",\"value\",null]]]},\"id\":\"1823\",\"type\":\"Range1d\"},{\"attributes\":{},\"id\":\"1587\",\"type\":\"YearsTicker\"},{\"attributes\":{\"mantissas\":[1,2,5],\"max_interval\":500.0,\"num_minor_ticks\":0},\"id\":\"1576\",\"type\":\"AdaptiveTicker\"},{\"attributes\":{\"base\":60,\"mantissas\":[1,2,5,10,15,20,30],\"max_interval\":1800000.0,\"min_interval\":1000.0,\"num_minor_ticks\":0},\"id\":\"1577\",\"type\":\"AdaptiveTicker\"},{\"attributes\":{\"label\":{\"value\":\"Invoice Amount\"},\"renderers\":[{\"id\":\"1866\"}]},\"id\":\"1889\",\"type\":\"LegendItem\"},{\"attributes\":{\"data\":{\"Service Start\":{\"__ndarray__\":\"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\",\"dtype\":\"float64\",\"order\":\"little\",\"shape\":[393]},\"Service_Start\":{\"__ndarray__\":\"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\",\"dtype\":\"float64\",\"order\":\"little\",\"shape\":[393]},\"Variable\":[\"Invoice Amount\",\"Invoice Amount\",\"Invoice Amount\",\"Invoice Amount\",\"Invoice Amount\",\"Invoice Amount\",\"Invoice Amount\",\"Invoice Amount\",\"Invoice Amount\",\"Invoice Amount\",\"Invoice Amount\",\"Invoice Amount\",\"Invoice Amount\",\"Invoice Amount\",\"Invoice Amount\",\"Invoice Amount\",\"Invoice Amount\",\"Invoice Amount\",\"Invoice Amount\",\"Invoice Amount\",\"Invoice Amount\",\"Invoice Amount\",\"Invoice Amount\",\"Invoice Amount\",\"Invoice Amount\",\"Invoice Amount\",\"Invoice Amount\",\"Invoice Amount\",\"Invoice Amount\",\"Invoice Amount\",\"Invoice Amount\",\"Invoice Amount\",\"Invoice Amount\",\"Invoice Amount\",\"Invoice Amount\",\"Invoice Amount\",\"Invoice Amount\",\"Invoice Amount\",\"Invoice Amount\",\"Invoice Amount\",\"Invoice Amount\",\"Invoice Amount\",\"Invoice Amount\",\"Invoice Amount\",\"Invoice Amount\",\"Invoice Amount\",\"Invoice Amount\",\"Invoice Amount\",\"Invoice Amount\",\"Invoice Amount\",\"Invoice Amount\",\"Invoice Amount\",\"Invoice Amount\",\"Invoice Amount\",\"Invoice Amount\",\"Invoice Amount\",\"Invoice Amount\",\"Invoice Amount\",\"Invoice Amount\",\"Invoice Amount\",\"Invoice Amount\",\"Invoice Amount\",\"Invoice Amount\",\"Invoice Amount\",\"Invoice Amount\",\"Invoice Amount\",\"Invoice Amount\",\"Invoice Amount\",\"Invoice Amount\",\"Invoice Amount\",\"Invoice Amount\",\"Invoice Amount\",\"Invoice Amount\",\"Invoice Amount\",\"Invoice Amount\",\"Invoice Amount\",\"Invoice Amount\",\"Invoice Amount\",\"Invoice Amount\",\"Invoice Amount\",\"Invoice Amount\",\"Invoice Amount\",\"Invoice Amount\",\"Invoice Amount\",\"Invoice Amount\",\"Invoice Amount\",\"Invoice Amount\",\"Invoice Amount\",\"Invoice Amount\",\"Invoice Amount\",\"Invoice Amount\",\"Invoice Amount\",\"Invoice Amount\",\"Invoice Amount\",\"Invoice Amount\",\"Invoice Amount\",\"Invoice Amount\",\"Invoice Amount\",\"Invoice Amount\",\"Invoice Amount\",\"Invoice Amount\",\"Invoice Amount\",\"Invoice Amount\",\"Invoice Amount\",\"Invoice Amount\",\"Invoice Amount\",\"Invoice Amount\",\"Invoice Amount\",\"Invoice Amount\",\"Invoice Amount\",\"Invoice Amount\",\"Invoice Amount\",\"Invoice Amount\",\"Invoice Amount\",\"Invoice Amount\",\"Invoice Amount\",\"Invoice Amount\",\"Invoice Amount\",\"Invoice Amount\",\"Invoice Amount\",\"Invoice Amount\",\"Invoice Amount\",\"Invoice Amount\",\"Invoice Amount\",\"Invoice Amount\",\"Invoice Amount\",\"Invoice Amount\",\"Invoice Amount\",\"Invoice Amount\",\"Invoice Amount\",\"Invoice Amount\",\"Invoice Amount\",\"Invoice Amount\",\"Invoice Amount\",\"Invoice Amount\",\"Invoice Amount\",\"Invoice Amount\",\"Invoice Amount\",\"Invoice Amount\",\"Invoice Amount\",\"Invoice Amount\",\"Invoice Amount\",\"Invoice Amount\",\"Invoice Amount\",\"Invoice Amount\",\"Invoice Amount\",\"Invoice Amount\",\"Invoice Amount\",\"Invoice Amount\",\"Invoice Amount\",\"Invoice Amount\",\"Invoice Amount\",\"Invoice Amount\",\"Invoice Amount\",\"Invoice Amount\",\"Invoice Amount\",\"Invoice Amount\",\"Invoice Amount\",\"Invoice Amount\",\"Invoice Amount\",\"Invoice Amount\",\"Invoice Amount\",\"Invoice Amount\",\"Invoice Amount\",\"Invoice Amount\",\"Invoice Amount\",\"Invoice Amount\",\"Invoice Amount\",\"Invoice Amount\",\"Invoice Amount\",\"Invoice Amount\",\"Invoice Amount\",\"Invoice Amount\",\"Invoice Amount\",\"Invoice Amount\",\"Invoice Amount\",\"Invoice Amount\",\"Invoice Amount\",\"Invoice Amount\",\"Invoice Amount\",\"Invoice Amount\",\"Invoice Amount\",\"Invoice Amount\",\"Invoice Amount\",\"Invoice Amount\",\"Invoice Amount\",\"Invoice Amount\",\"Invoice Amount\",\"Invoice Amount\",\"Invoice Amount\",\"Invoice Amount\",\"Invoice Amount\",\"Invoice Amount\",\"Invoice Amount\",\"Invoice Amount\",\"Invoice Amount\",\"Invoice Amount\",\"Invoice Amount\",\"Invoice Amount\",\"Invoice Amount\",\"Invoice Amount\",\"Invoice Amount\",\"Invoice Amount\",\"Invoice Amount\",\"Invoice Amount\",\"Invoice Amount\",\"Invoice Amount\",\"Invoice Amount\",\"Invoice Amount\",\"Invoice Amount\",\"Invoice Amount\",\"Invoice Amount\",\"Invoice Amount\",\"Invoice Amount\",\"Invoice Amount\",\"Invoice Amount\",\"Invoice Amount\",\"Invoice Amount\",\"Invoice Amount\",\"Invoice Amount\",\"Invoice Amount\",\"Invoice Amount\",\"Invoice Amount\",\"Invoice Amount\",\"Invoice Amount\",\"Invoice Amount\",\"Invoice Amount\",\"Invoice Amount\",\"Invoice Amount\",\"Invoice Amount\",\"Invoice Amount\",\"Invoice Amount\",\"Invoice Amount\",\"Invoice Amount\",\"Invoice Amount\",\"Invoice Amount\",\"Invoice Amount\",\"Invoice Amount\",\"Invoice Amount\",\"Invoice Amount\",\"Invoice Amount\",\"Invoice Amount\",\"Invoice Amount\",\"Invoice Amount\",\"Invoice Amount\",\"Invoice Amount\",\"Invoice Amount\",\"Invoice Amount\",\"Invoice Amount\",\"Invoice Amount\",\"Invoice Amount\",\"Invoice Amount\",\"Invoice Amount\",\"Invoice Amount\",\"Invoice Amount\",\"Invoice Amount\",\"Invoice Amount\",\"Invoice Amount\",\"Invoice Amount\",\"Invoice Amount\",\"Invoice Amount\",\"Invoice Amount\",\"Invoice Amount\",\"Invoice Amount\",\"Invoice Amount\",\"Invoice Amount\",\"Invoice Amount\",\"Invoice Amount\",\"Invoice Amount\",\"Invoice Amount\",\"Invoice Amount\",\"Invoice Amount\",\"Invoice Amount\",\"Invoice Amount\",\"Invoice Amount\",\"Invoice Amount\",\"Invoice Amount\",\"Invoice Amount\",\"Invoice Amount\",\"Invoice Amount\",\"Invoice Amount\",\"Invoice Amount\",\"Invoice Amount\",\"Invoice Amount\",\"Invoice Amount\",\"Invoice Amount\",\"Invoice Amount\",\"Invoice Amount\",\"Invoice Amount\",\"Invoice Amount\",\"Invoice Amount\",\"Invoice Amount\",\"Invoice Amount\",\"Invoice Amount\",\"Invoice Amount\",\"Invoice Amount\",\"Invoice Amount\",\"Invoice Amount\",\"Invoice Amount\",\"Invoice Amount\",\"Invoice Amount\",\"Invoice Amount\",\"Invoice Amount\",\"Invoice Amount\",\"Invoice Amount\",\"Invoice Amount\",\"Invoice Amount\",\"Invoice Amount\",\"Invoice Amount\",\"Invoice Amount\",\"Invoice Amount\",\"Invoice Amount\",\"Invoice Amount\",\"Invoice Amount\",\"Invoice Amount\",\"Invoice Amount\",\"Invoice Amount\",\"Invoice Amount\",\"Invoice Amount\",\"Invoice Amount\",\"Invoice Amount\",\"Invoice Amount\",\"Invoice Amount\",\"Invoice Amount\",\"Invoice Amount\",\"Invoice Amount\",\"Invoice Amount\",\"Invoice Amount\",\"Invoice Amount\",\"Invoice Amount\",\"Invoice Amount\",\"Invoice Amount\",\"Invoice Amount\",\"Invoice Amount\",\"Invoice Amount\",\"Invoice Amount\",\"Invoice Amount\",\"Invoice Amount\",\"Invoice Amount\",\"Invoice Amount\",\"Invoice Amount\",\"Invoice Amount\",\"Invoice Amount\",\"Invoice Amount\",\"Invoice Amount\",\"Invoice Amount\",\"Invoice Amount\",\"Invoice Amount\",\"Invoice Amount\",\"Invoice Amount\",\"Invoice Amount\",\"Invoice Amount\",\"Invoice Amount\",\"Invoice Amount\",\"Invoice Amount\",\"Invoice Amount\",\"Invoice Amount\",\"Invoice Amount\",\"Invoice Amount\",\"Invoice Amount\",\"Invoice Amount\",\"Invoice Amount\",\"Invoice Amount\",\"Invoice Amount\",\"Invoice Amount\",\"Invoice Amount\",\"Invoice Amount\",\"Invoice Amount\",\"Invoice Amount\",\"Invoice Amount\",\"Invoice Amount\",\"Invoice Amount\",\"Invoice Amount\",\"Invoice Amount\",\"Invoice Amount\",\"Invoice Amount\",\"Invoice Amount\",\"Invoice Amount\",\"Invoice Amount\",\"Invoice Amount\",\"Invoice Amount\",\"Invoice Amount\",\"Invoice Amount\",\"Invoice Amount\",\"Invoice Amount\",\"Invoice Amount\",\"Invoice Amount\",\"Invoice Amount\",\"Invoice Amount\",\"Invoice Amount\",\"Invoice Amount\",\"Invoice Amount\",\"Invoice Amount\"],\"value\":{\"__ndarray__\":\"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\",\"dtype\":\"float64\",\"order\":\"little\",\"shape\":[393]}},\"selected\":{\"id\":\"1861\"},\"selection_policy\":{\"id\":\"1887\"}},\"id\":\"1860\",\"type\":\"ColumnDataSource\"}],\"root_ids\":[\"1524\",\"2251\"]},\"title\":\"Bokeh Application\",\"version\":\"2.2.3\"}};\n    var render_items = [{\"docid\":\"e4f2785f-b5e3-4768-b260-b13f0780f7d6\",\"root_ids\":[\"1524\"],\"roots\":{\"1524\":\"ba14195c-b896-4a0f-b52f-ea98d55d556d\"}}];\n    root.Bokeh.embed.embed_items_notebook(docs_json, render_items);\n  }\n  if (root.Bokeh !== undefined && root.Bokeh.Panel !== undefined) {\n    embed_document(root);\n  } else {\n    var attempts = 0;\n    var timer = setInterval(function(root) {\n      if (root.Bokeh !== undefined && root.Bokeh.Panel !== undefined) {\n        clearInterval(timer);\n        embed_document(root);\n      } else if (document.readyState == \"complete\") {\n        attempts++;\n        if (attempts > 100) {\n          clearInterval(timer);\n          console.log(\"Bokeh: ERROR: Unable to run BokehJS code because BokehJS library is missing\");\n        }\n      }\n    }, 10, root)\n  }\n})(window);</script>",
      "application/vnd.holoviews_exec.v0+json": "",
      "text/plain": [
       "Column\n",
       "    [0] HoloViews(NdOverlay)\n",
       "    [1] HoloViews(NdOverlay)"
      ]
     },
     "metadata": {
      "application/vnd.holoviews_exec.v0+json": {
       "id": "1524"
      }
     },
     "execution_count": 24
    }
   ],
   "source": [
    "atlas_ymq_filtered = atlas_ymq[atlas_ymq[\"Year\"] == 2020]\n",
    "atlas_ymq_filtered_cumsum = atlas_ymq_filtered.loc[:, [\"Invoice Amount\", \"Number of Users\", \"Subscription Duration\"]].cumsum(axis=0)\n",
    "\n",
    "invoice_trend_standard_plot = atlas_ymq_filtered_cumsum.hvplot.line(\n",
    "    x=\"Service Start\",\n",
    "    y=[\"Invoice Amount\", \"Number of Users\"],\n",
    "    # y=[\"Invoice Amount\", \"Number of Users\", \"Subscription Duration\"],\n",
    "    xlabel=\"Nbr Users\",\n",
    "    ylabel=\"Invoice Amount ($)\",\n",
    "    title=\"Invoice Amount (2020)\",\n",
    "    width=1000\n",
    ")\n",
    "\n",
    "invoice_trend_log_plot = atlas_ymq_filtered_cumsum.hvplot.line(\n",
    "    x=\"Service Start\",\n",
    "    y=[\"Invoice Amount\", \"Number of Users\"],\n",
    "    # y=[\"Invoice Amount\", \"Number of Users\", \"Subscription Duration\"],\n",
    "    xlabel=\"Nbr Users\",\n",
    "    ylabel=\"Invoice Amount ($)\",\n",
    "    title=\"Invoice Amount (2020)\",\n",
    "    width=1000,\n",
    "    logy=True\n",
    ")\n",
    "\n",
    "invoice_trend_barh_plot = atlas_ymq_filtered_cumsum.hvplot.barh(\n",
    "    x=\"Service Start\",\n",
    "    y=[\"Invoice Amount\", \"Number of Users\"],\n",
    "    # y=[\"Invoice Amount\", \"Number of Users\", \"Subscription Duration\"],\n",
    "    xlabel=\"Nbr Users\",\n",
    "    ylabel=\"Invoice Amount ($)\",\n",
    "    title=\"Invoice Amount (2020)\",\n",
    "    width=1000,\n",
    "    height=5000\n",
    ")\n",
    "\n",
    "pn.Column(invoice_trend_standard_plot, invoice_trend_log_plot,\n",
    "#  invoice_trend_barh_plot\n",
    ")"
   ]
  },
  {
   "cell_type": "code",
   "execution_count": null,
   "metadata": {},
   "outputs": [],
   "source": []
  },
  {
   "cell_type": "code",
   "execution_count": null,
   "metadata": {},
   "outputs": [],
   "source": []
  },
  {
   "cell_type": "code",
   "execution_count": 25,
   "metadata": {},
   "outputs": [
    {
     "output_type": "execute_result",
     "data": {
      "text/plain": [
       "                               Customers  Number of Users  Invoice Amount  \\\n",
       "4          Alderson Broaddus University         50.000000           500.0   \n",
       "5                       Alverno College        125.000000          2750.0   \n",
       "8                    Anderson University       170.000000           800.0   \n",
       "9           Appalachian State University        50.000000          2000.0   \n",
       "10   Appalachian State University              370.000000          3700.0   \n",
       "..                                   ...              ...             ...   \n",
       "424         University of the Cumberland       250.000000          3500.0   \n",
       "433           Walla Walla Public Schools       145.000000          2650.0   \n",
       "437         Western Governors University      3350.000000         25500.0   \n",
       "447                  Winthrop University       191.666667           812.5   \n",
       "448                 Winthrop University        100.000000          1000.0   \n",
       "\n",
       "           Lat        Long  \n",
       "4    39.160261  -80.049048  \n",
       "5    42.983074  -87.967247  \n",
       "8    34.513986  -82.638732  \n",
       "9    36.211015  -81.677700  \n",
       "10   36.211015  -81.677700  \n",
       "..         ...         ...  \n",
       "424  36.737027  -84.162826  \n",
       "433  46.065081 -118.329587  \n",
       "437  40.684882 -111.869961  \n",
       "447  34.938466  -81.029872  \n",
       "448  34.938466  -81.029872  \n",
       "\n",
       "[127 rows x 5 columns]"
      ],
      "text/html": "<div>\n<style scoped>\n    .dataframe tbody tr th:only-of-type {\n        vertical-align: middle;\n    }\n\n    .dataframe tbody tr th {\n        vertical-align: top;\n    }\n\n    .dataframe thead th {\n        text-align: right;\n    }\n</style>\n<table border=\"1\" class=\"dataframe\">\n  <thead>\n    <tr style=\"text-align: right;\">\n      <th></th>\n      <th>Customers</th>\n      <th>Number of Users</th>\n      <th>Invoice Amount</th>\n      <th>Lat</th>\n      <th>Long</th>\n    </tr>\n  </thead>\n  <tbody>\n    <tr>\n      <th>4</th>\n      <td>Alderson Broaddus University</td>\n      <td>50.000000</td>\n      <td>500.0</td>\n      <td>39.160261</td>\n      <td>-80.049048</td>\n    </tr>\n    <tr>\n      <th>5</th>\n      <td>Alverno College</td>\n      <td>125.000000</td>\n      <td>2750.0</td>\n      <td>42.983074</td>\n      <td>-87.967247</td>\n    </tr>\n    <tr>\n      <th>8</th>\n      <td>Anderson University</td>\n      <td>170.000000</td>\n      <td>800.0</td>\n      <td>34.513986</td>\n      <td>-82.638732</td>\n    </tr>\n    <tr>\n      <th>9</th>\n      <td>Appalachian State University</td>\n      <td>50.000000</td>\n      <td>2000.0</td>\n      <td>36.211015</td>\n      <td>-81.677700</td>\n    </tr>\n    <tr>\n      <th>10</th>\n      <td>Appalachian State University</td>\n      <td>370.000000</td>\n      <td>3700.0</td>\n      <td>36.211015</td>\n      <td>-81.677700</td>\n    </tr>\n    <tr>\n      <th>...</th>\n      <td>...</td>\n      <td>...</td>\n      <td>...</td>\n      <td>...</td>\n      <td>...</td>\n    </tr>\n    <tr>\n      <th>424</th>\n      <td>University of the Cumberland</td>\n      <td>250.000000</td>\n      <td>3500.0</td>\n      <td>36.737027</td>\n      <td>-84.162826</td>\n    </tr>\n    <tr>\n      <th>433</th>\n      <td>Walla Walla Public Schools</td>\n      <td>145.000000</td>\n      <td>2650.0</td>\n      <td>46.065081</td>\n      <td>-118.329587</td>\n    </tr>\n    <tr>\n      <th>437</th>\n      <td>Western Governors University</td>\n      <td>3350.000000</td>\n      <td>25500.0</td>\n      <td>40.684882</td>\n      <td>-111.869961</td>\n    </tr>\n    <tr>\n      <th>447</th>\n      <td>Winthrop University</td>\n      <td>191.666667</td>\n      <td>812.5</td>\n      <td>34.938466</td>\n      <td>-81.029872</td>\n    </tr>\n    <tr>\n      <th>448</th>\n      <td>Winthrop University</td>\n      <td>100.000000</td>\n      <td>1000.0</td>\n      <td>34.938466</td>\n      <td>-81.029872</td>\n    </tr>\n  </tbody>\n</table>\n<p>127 rows × 5 columns</p>\n</div>"
     },
     "metadata": {},
     "execution_count": 25
    }
   ],
   "source": [
    "# Calculate the mean values for each neighborhood\n",
    "#rankings_pd.rename(columns = {'test':'TEST', 'odi':'ODI', \n",
    "#                              't20':'T20'}, inplace = True) \n",
    "\n",
    "#atlas2.columns = [\"Customers\", \"Lat\", \"Long\"]\n",
    "\n",
    "mean_data = atlas.groupby([\"Customers\"]).mean()\n",
    "mean_data.reset_index(inplace=True)\n",
    "mean_data.dropna(inplace=True)\n",
    "mean_data\n"
   ]
  },
  {
   "cell_type": "code",
   "execution_count": 26,
   "metadata": {},
   "outputs": [],
   "source": [
    "# px.set_mapbox_access_token(mapbox_token)\n",
    "# map = px.scatter_mapbox(\n",
    "#     mean_data,\n",
    "#     lat=\"Lat\",\n",
    "#     lon=\"Long\",\n",
    "#     size=\"Invoice Amount\",\n",
    "#     color=\"Customers\",\n",
    "#     title=\"Mean Invoice Amount ($)\",\n",
    "#     width=1500,\n",
    "#     height=800\n",
    "#     # mapbox_style = 'stamen-watercolor'\n",
    "# )\n",
    "# map.show()"
   ]
  },
  {
   "cell_type": "code",
   "execution_count": 27,
   "metadata": {},
   "outputs": [
    {
     "output_type": "execute_result",
     "data": {
      "text/plain": [
       "                                       Customers  Number of Users  \\\n",
       "0    Alabama A&M University-College of Education              0.0   \n",
       "1                        Albertus Magnus College              0.0   \n",
       "2                     Albuquerque Public Schools              0.0   \n",
       "3                       Alcorn State University               0.0   \n",
       "4                  Alderson Broaddus University              50.0   \n",
       "..                                           ...              ...   \n",
       "446              Winston-Salem State University              75.0   \n",
       "447                          Winthrop University            575.0   \n",
       "448                         Winthrop University             100.0   \n",
       "449                       Yakima Valley College              56.0   \n",
       "450          Young Harris College/Miller Library              0.0   \n",
       "\n",
       "     Invoice Amount         Lat        Long  \n",
       "0            5460.0   34.785061  -86.573280  \n",
       "1            5670.0   41.331299  -72.921440  \n",
       "2            2270.0   35.092410 -106.642950  \n",
       "3            1700.0   31.875710  -91.141739  \n",
       "4             500.0   39.160261  -80.049048  \n",
       "..              ...         ...         ...  \n",
       "446           562.0    0.000000    0.000000  \n",
       "447          4062.5  174.692330 -405.149360  \n",
       "448          2000.0   69.876932 -162.059744  \n",
       "449          1030.0    0.000000    0.000000  \n",
       "450          3350.0    0.000000    0.000000  \n",
       "\n",
       "[451 rows x 5 columns]"
      ],
      "text/html": "<div>\n<style scoped>\n    .dataframe tbody tr th:only-of-type {\n        vertical-align: middle;\n    }\n\n    .dataframe tbody tr th {\n        vertical-align: top;\n    }\n\n    .dataframe thead th {\n        text-align: right;\n    }\n</style>\n<table border=\"1\" class=\"dataframe\">\n  <thead>\n    <tr style=\"text-align: right;\">\n      <th></th>\n      <th>Customers</th>\n      <th>Number of Users</th>\n      <th>Invoice Amount</th>\n      <th>Lat</th>\n      <th>Long</th>\n    </tr>\n  </thead>\n  <tbody>\n    <tr>\n      <th>0</th>\n      <td>Alabama A&amp;M University-College of Education</td>\n      <td>0.0</td>\n      <td>5460.0</td>\n      <td>34.785061</td>\n      <td>-86.573280</td>\n    </tr>\n    <tr>\n      <th>1</th>\n      <td>Albertus Magnus College</td>\n      <td>0.0</td>\n      <td>5670.0</td>\n      <td>41.331299</td>\n      <td>-72.921440</td>\n    </tr>\n    <tr>\n      <th>2</th>\n      <td>Albuquerque Public Schools</td>\n      <td>0.0</td>\n      <td>2270.0</td>\n      <td>35.092410</td>\n      <td>-106.642950</td>\n    </tr>\n    <tr>\n      <th>3</th>\n      <td>Alcorn State University</td>\n      <td>0.0</td>\n      <td>1700.0</td>\n      <td>31.875710</td>\n      <td>-91.141739</td>\n    </tr>\n    <tr>\n      <th>4</th>\n      <td>Alderson Broaddus University</td>\n      <td>50.0</td>\n      <td>500.0</td>\n      <td>39.160261</td>\n      <td>-80.049048</td>\n    </tr>\n    <tr>\n      <th>...</th>\n      <td>...</td>\n      <td>...</td>\n      <td>...</td>\n      <td>...</td>\n      <td>...</td>\n    </tr>\n    <tr>\n      <th>446</th>\n      <td>Winston-Salem State University</td>\n      <td>75.0</td>\n      <td>562.0</td>\n      <td>0.000000</td>\n      <td>0.000000</td>\n    </tr>\n    <tr>\n      <th>447</th>\n      <td>Winthrop University</td>\n      <td>575.0</td>\n      <td>4062.5</td>\n      <td>174.692330</td>\n      <td>-405.149360</td>\n    </tr>\n    <tr>\n      <th>448</th>\n      <td>Winthrop University</td>\n      <td>100.0</td>\n      <td>2000.0</td>\n      <td>69.876932</td>\n      <td>-162.059744</td>\n    </tr>\n    <tr>\n      <th>449</th>\n      <td>Yakima Valley College</td>\n      <td>56.0</td>\n      <td>1030.0</td>\n      <td>0.000000</td>\n      <td>0.000000</td>\n    </tr>\n    <tr>\n      <th>450</th>\n      <td>Young Harris College/Miller Library</td>\n      <td>0.0</td>\n      <td>3350.0</td>\n      <td>0.000000</td>\n      <td>0.000000</td>\n    </tr>\n  </tbody>\n</table>\n<p>451 rows × 5 columns</p>\n</div>"
     },
     "metadata": {},
     "execution_count": 27
    }
   ],
   "source": [
    "\n",
    "total_data = atlas.groupby([\"Customers\"]).sum()\n",
    "total_data.reset_index(inplace=True)\n",
    "total_data.dropna(inplace=True)\n",
    "total_data\n"
   ]
  },
  {
   "cell_type": "code",
   "execution_count": 28,
   "metadata": {},
   "outputs": [],
   "source": [
    "# px.set_mapbox_access_token(mapbox_token)\n",
    "# map = px.scatter_mapbox(\n",
    "#     total_data,\n",
    "#     lat=\"Lat\",\n",
    "#     lon=\"Long\",\n",
    "#     size=\"Invoice Amount\",\n",
    "#     color=\"Customers\",\n",
    "#     title=\"# Total Invoice Amount ($)\",\n",
    "#     width=1500,\n",
    "#     height=800,\n",
    "#     mapbox_style = 'basic'\n",
    "# )\n",
    "# map.show()"
   ]
  },
  {
   "cell_type": "code",
   "execution_count": 29,
   "metadata": {},
   "outputs": [],
   "source": [
    "# def neighborhood_map():\n",
    "#     \"\"\"Neighborhood Map\"\"\"\n",
    "#      = atlas2.groupby([\"Customers\"]).mean()\n",
    "#     mean_data.reset_index(inplace=True)\n",
    "#     px.set_mapbox_access_token(mapbox_token)\n",
    "#     neighborhood_map_plot = px.scatter_mapbox(\n",
    "#             mean_data,\n",
    "#             lat=\"Lat\",\n",
    "#             lon=\"Long\",\n",
    "#             size=\"Subscription\",\n",
    "#             color=\"Customer\"\n",
    "#         )\n",
    "#     return neighborhood_map_plot\n",
    "# neighborhood_map()"
   ]
  },
  {
   "cell_type": "code",
   "execution_count": null,
   "metadata": {},
   "outputs": [],
   "source": []
  },
  {
   "cell_type": "code",
   "execution_count": 30,
   "metadata": {},
   "outputs": [
    {
     "output_type": "execute_result",
     "data": {
      "text/plain": [
       "                         0                         1     \\\n",
       "0  Louisiana Board of Regents  Emporia State University   \n",
       "1      Aaniiih Nakoda College   Abdullah Gul University   \n",
       "\n",
       "                        2                               3     \\\n",
       "0  Morehead State University  State University of NY Potsdam   \n",
       "1         Abertay University                     Aberystwyth   \n",
       "\n",
       "                             4                                   5     \\\n",
       "0  ST. Mary's College of Maryland  Clark County Education Association   \n",
       "1          Aberystwyth University        Abilene Christian University   \n",
       "\n",
       "                                   6                            7     \\\n",
       "0              Bureau of Indian Affairs  College of William and Mary   \n",
       "1  Abraham Baldwin Agricultural College              Academy College   \n",
       "\n",
       "                                   8                 9     ...  \\\n",
       "0  Georgia College and State University  Illinois College  ...   \n",
       "1             Academy of Art University    Ada University  ...   \n",
       "\n",
       "                     3825             3826                  3827  \\\n",
       "0                    None             None                  None   \n",
       "1  York Technical College  York University  Young Harris College   \n",
       "\n",
       "                          3828                           3829  \\\n",
       "0                         None                           None   \n",
       "1  Youngstown State University  YTI Career Institute: Altoona   \n",
       "\n",
       "                              3830                        3831          3832  \\\n",
       "0                             None                        None          None   \n",
       "1  YTI Career Institute: Lancaster  YTI Career Institute: York  Yuba College   \n",
       "\n",
       "                 3833         3834  \n",
       "0                None         None  \n",
       "1  Zane State College  Zouk Mosbeh  \n",
       "\n",
       "[2 rows x 3835 columns]"
      ],
      "text/html": "<div>\n<style scoped>\n    .dataframe tbody tr th:only-of-type {\n        vertical-align: middle;\n    }\n\n    .dataframe tbody tr th {\n        vertical-align: top;\n    }\n\n    .dataframe thead th {\n        text-align: right;\n    }\n</style>\n<table border=\"1\" class=\"dataframe\">\n  <thead>\n    <tr style=\"text-align: right;\">\n      <th></th>\n      <th>0</th>\n      <th>1</th>\n      <th>2</th>\n      <th>3</th>\n      <th>4</th>\n      <th>5</th>\n      <th>6</th>\n      <th>7</th>\n      <th>8</th>\n      <th>9</th>\n      <th>...</th>\n      <th>3825</th>\n      <th>3826</th>\n      <th>3827</th>\n      <th>3828</th>\n      <th>3829</th>\n      <th>3830</th>\n      <th>3831</th>\n      <th>3832</th>\n      <th>3833</th>\n      <th>3834</th>\n    </tr>\n  </thead>\n  <tbody>\n    <tr>\n      <th>0</th>\n      <td>Louisiana Board of Regents</td>\n      <td>Emporia State University</td>\n      <td>Morehead State University</td>\n      <td>State University of NY Potsdam</td>\n      <td>ST. Mary's College of Maryland</td>\n      <td>Clark County Education Association</td>\n      <td>Bureau of Indian Affairs</td>\n      <td>College of William and Mary</td>\n      <td>Georgia College and State University</td>\n      <td>Illinois College</td>\n      <td>...</td>\n      <td>None</td>\n      <td>None</td>\n      <td>None</td>\n      <td>None</td>\n      <td>None</td>\n      <td>None</td>\n      <td>None</td>\n      <td>None</td>\n      <td>None</td>\n      <td>None</td>\n    </tr>\n    <tr>\n      <th>1</th>\n      <td>Aaniiih Nakoda College</td>\n      <td>Abdullah Gul University</td>\n      <td>Abertay University</td>\n      <td>Aberystwyth</td>\n      <td>Aberystwyth University</td>\n      <td>Abilene Christian University</td>\n      <td>Abraham Baldwin Agricultural College</td>\n      <td>Academy College</td>\n      <td>Academy of Art University</td>\n      <td>Ada University</td>\n      <td>...</td>\n      <td>York Technical College</td>\n      <td>York University</td>\n      <td>Young Harris College</td>\n      <td>Youngstown State University</td>\n      <td>YTI Career Institute: Altoona</td>\n      <td>YTI Career Institute: Lancaster</td>\n      <td>YTI Career Institute: York</td>\n      <td>Yuba College</td>\n      <td>Zane State College</td>\n      <td>Zouk Mosbeh</td>\n    </tr>\n  </tbody>\n</table>\n<p>2 rows × 3835 columns</p>\n</div>"
     },
     "metadata": {},
     "execution_count": 30
    }
   ],
   "source": [
    "# Identify existing and potential customers\n",
    "customer_name_mapping               = tool_lookup_tables.read_customer_name_mapping()\n",
    "all_potential_customers_mapping     = tool_lookup_tables.read_lookup_table(constants.LUT_POTENTIAL_CUSTOMER_NAME_FILE_PATH)\n",
    "\n",
    "paying_customers = list(customer_name_mapping.keys())\n",
    "all_potential_customers = list(all_potential_customers_mapping.keys())\n",
    "\n",
    "customers_df = pd.DataFrame([paying_customers, all_potential_customers])\n",
    "customers_df.head()"
   ]
  },
  {
   "cell_type": "code",
   "execution_count": 31,
   "metadata": {},
   "outputs": [
    {
     "output_type": "stream",
     "name": "stdout",
     "text": [
      "The number of paying cusomters is 670\nThe number of potential cusomters is 3835\nMarket penetration is 17.470664928292045 %\n"
     ]
    }
   ],
   "source": [
    "# Calculate market penetration\n",
    "\n",
    "# TODO remove duplicates\n",
    "# TODO Match names\n",
    "# TODO Generate pie chart\n",
    "\n",
    "nbr_paying_customers = len(paying_customers)\n",
    "nbr_potential_customers = len(all_potential_customers)\n",
    "market_penetration = nbr_paying_customers / nbr_potential_customers\n",
    "\n",
    "## Print results\n",
    "print(f\"The number of paying cusomters is {nbr_paying_customers}\")\n",
    "print(f\"The number of potential cusomters is {nbr_potential_customers}\")\n",
    "print(f\"Market penetration is {market_penetration * 100} %\")\n",
    "\n",
    "## Generate heatmap\n",
    "# all_potential_customers   .hvplot.heatmap(x='time.month', y='time.day', C='temperature', \n",
    "#                   height=500, width=500, colorbar=False)\n"
   ]
  },
  {
   "cell_type": "code",
   "execution_count": 32,
   "metadata": {},
   "outputs": [
    {
     "output_type": "error",
     "ename": "NameError",
     "evalue": "name 'atlas2_ymq_filtered' is not defined",
     "traceback": [
      "\u001b[1;31m---------------------------------------------------------------------------\u001b[0m",
      "\u001b[1;31mNameError\u001b[0m                                 Traceback (most recent call last)",
      "\u001b[1;32m<ipython-input-32-b7e3e7fd33c8>\u001b[0m in \u001b[0;36m<module>\u001b[1;34m\u001b[0m\n\u001b[1;32m----> 1\u001b[1;33m \u001b[0matlas2_ymq_filtered\u001b[0m\u001b[1;33m.\u001b[0m\u001b[0mhead\u001b[0m\u001b[1;33m(\u001b[0m\u001b[1;36m2\u001b[0m\u001b[1;33m)\u001b[0m\u001b[1;33m\u001b[0m\u001b[1;33m\u001b[0m\u001b[0m\n\u001b[0m",
      "\u001b[1;31mNameError\u001b[0m: name 'atlas2_ymq_filtered' is not defined"
     ]
    }
   ],
   "source": [
    "atlas2_ymq_filtered.head(2)"
   ]
  },
  {
   "cell_type": "code",
   "execution_count": 539,
   "metadata": {},
   "outputs": [
    {
     "output_type": "stream",
     "name": "stderr",
     "text": [
      "WARNING:param.HeatMapPlot63369: HeatMap element index is not unique,  ensure you aggregate the data before displaying it, e.g. using heatmap.aggregate(function=np.mean). Duplicate index values have been dropped.\n"
     ]
    },
    {
     "output_type": "display_data",
     "data": {},
     "metadata": {}
    },
    {
     "output_type": "execute_result",
     "data": {
      "text/html": "<div id='37173'>\n\n\n\n\n\n  <div class=\"bk-root\" id=\"25313bb9-40be-4813-9e78-5319befa5390\" data-root-id=\"37173\"></div>\n</div>\n<script type=\"application/javascript\">(function(root) {\n  function embed_document(root) {\n    var docs_json = {\"880683e3-d9f7-4380-850a-f8bfd63aa9ba\":{\"roots\":{\"references\":[{\"attributes\":{\"bottom_units\":\"screen\",\"fill_alpha\":0.5,\"fill_color\":\"lightgrey\",\"left_units\":\"screen\",\"level\":\"overlay\",\"line_alpha\":1.0,\"line_color\":\"black\",\"line_dash\":[4,4],\"line_width\":2,\"right_units\":\"screen\",\"top_units\":\"screen\"},\"id\":\"37200\",\"type\":\"BoxAnnotation\"},{\"attributes\":{\"data\":{\"Invoice_Amount\":[\"3000\",\"-\",\"-\",\"-\",\"-\",\"-\",\"-\",\"-\",\"-\",\"-\",\"-\",\"-\",\"-\",\"-\",\"-\",\"-\",\"-\",\"-\",\"-\",\"-\",\"-\",\"-\",\"-\",\"-\",\"-\",\"-\",\"-\",\"-\",\"-\",\"-\",\"-\",\"-\",\"-\",\"-\",\"-\",\"-\",\"-\",\"-\",\"-\",\"-\",\"-\",\"-\",\"-\",\"-\",\"-\",\"-\",\"-\",\"-\",\"-\",\"-\",\"-\",\"-\",\"-\",\"-\",\"-\",\"-\",\"-\",\"-\",\"-\",\"-\",\"-\",\"-\",\"-\",\"-\",\"-\",\"-\",\"-\",\"-\",\"-\",\"-\",\"-\",\"-\",\"-\",\"-\",\"-\",\"-\",\"-\",\"-\",\"-\",\"-\",\"-\",\"-\",\"-\",\"-\",\"-\",\"-\",\"1200\",\"-\",\"-\",\"-\",\"-\",\"-\",\"-\",\"-\",\"-\",\"-\",\"-\",\"-\",\"-\",\"-\",\"-\",\"-\",\"-\",\"-\",\"-\",\"-\",\"-\",\"-\",\"-\",\"-\",\"-\",\"-\",\"-\",\"-\",\"-\",\"-\",\"-\",\"-\",\"-\",\"-\",\"-\",\"-\",\"-\",\"-\",\"-\",\"-\",\"-\",\"-\",\"-\",\"-\",\"-\",\"-\",\"-\",\"-\",\"-\",\"-\",\"-\",\"-\",\"-\",\"-\",\"-\",\"-\",\"-\",\"-\",\"-\",\"-\",\"2000\",\"-\",\"-\",\"-\",\"-\",\"-\",\"-\",\"-\",\"-\",\"-\",\"-\",\"-\",\"-\",\"-\",\"-\",\"-\",\"-\",\"-\",\"-\",\"-\",\"-\",\"-\",\"-\",\"-\",\"-\",\"-\",\"-\",\"-\",\"-\",\"-\",\"-\",\"-\",\"-\",\"-\",\"-\",\"-\",\"-\",\"-\",\"-\",\"-\",\"-\",\"-\",\"-\",\"-\",\"-\",\"-\",\"-\",\"-\",\"-\",\"-\",\"-\",\"-\",\"-\",\"-\",\"-\",\"-\",\"-\",\"-\",\"-\",\"-\",\"-\",\"-\",\"-\",\"-\",\"-\",\"-\",\"-\",\"-\",\"-\",\"2650\",\"-\",\"-\",\"-\",\"-\",\"-\",\"-\",\"-\",\"-\",\"-\",\"-\",\"-\",\"-\",\"-\",\"-\",\"-\",\"-\",\"-\",\"-\",\"-\",\"-\",\"-\",\"-\",\"-\",\"-\",\"-\",\"-\",\"-\",\"-\",\"-\",\"-\",\"-\",\"-\",\"-\",\"-\",\"-\",\"-\",\"-\",\"-\",\"-\",\"-\",\"-\",\"-\",\"-\",\"-\",\"-\",\"-\",\"-\",\"-\",\"-\",\"-\",\"-\",\"-\",\"-\",\"-\",\"-\",\"-\",\"-\",\"-\",\"-\",\"-\",\"-\",\"-\",\"-\",\"-\",\"-\",\"-\",\"-\",\"-\",\"-\",\"-\",\"-\",\"-\",\"-\",\"-\",\"-\",\"527\",\"-\",\"-\",\"-\",\"-\",\"-\",\"-\",\"-\",\"-\",\"-\",\"-\",\"-\",\"-\",\"-\",\"-\",\"-\",\"-\",\"-\",\"-\",\"-\",\"-\",\"-\",\"-\",\"-\",\"-\",\"-\",\"-\",\"-\",\"-\",\"-\",\"-\",\"-\",\"-\",\"-\",\"-\",\"-\",\"-\",\"-\",\"-\",\"-\",\"-\",\"-\",\"-\",\"-\",\"-\",\"-\",\"-\",\"-\",\"-\",\"-\",\"-\",\"-\",\"-\",\"-\",\"-\",\"-\",\"-\",\"-\",\"-\",\"-\",\"-\",\"-\",\"-\",\"-\",\"-\",\"-\",\"-\",\"-\",\"-\",\"-\",\"-\",\"-\",\"-\",\"-\",\"-\",\"-\",\"-\",\"-\",\"-\",\"-\",\"-\",\"-\",\"-\",\"-\",\"-\",\"10800\",\"-\",\"-\",\"-\",\"-\",\"-\",\"-\",\"-\",\"-\",\"-\",\"-\",\"-\",\"-\",\"-\",\"-\",\"-\",\"-\",\"-\",\"-\",\"-\",\"-\",\"-\",\"-\",\"-\",\"-\",\"-\",\"-\",\"-\",\"-\",\"-\",\"-\",\"-\",\"-\",\"-\",\"-\",\"-\",\"-\",\"-\",\"-\",\"-\",\"-\",\"-\",\"-\",\"-\",\"-\",\"-\",\"-\",\"-\",\"-\",\"-\",\"-\",\"-\",\"-\",\"-\",\"-\",\"-\",\"-\",\"-\",\"-\",\"-\",\"-\",\"-\",\"1125\",\"-\",\"-\",\"-\",\"-\",\"-\",\"-\",\"-\",\"-\",\"-\",\"-\",\"-\",\"-\",\"-\",\"-\",\"-\",\"-\",\"-\",\"-\",\"-\",\"-\",\"-\",\"-\",\"-\",\"-\",\"-\",\"-\",\"-\",\"-\",\"-\",\"-\",\"-\",\"-\",\"-\",\"-\",\"-\",\"-\",\"-\",\"-\",\"-\",\"-\",\"-\",\"-\",\"-\",\"-\",\"-\",\"-\",\"1000\",\"-\",\"-\",\"-\",\"-\",\"-\",\"-\",\"-\",\"-\",\"-\",\"-\",\"-\",\"-\",\"-\",\"-\",\"-\",\"-\",\"-\",\"-\",\"-\",\"-\",\"-\",\"-\",\"-\",\"-\",\"-\",\"-\",\"-\",\"-\",\"-\",\"-\",\"-\",\"-\",\"-\",\"-\",\"-\",\"-\",\"-\",\"-\",\"-\",\"-\",\"-\",\"-\",\"-\",\"-\",\"-\",\"-\",\"-\",\"-\",\"-\",\"-\",\"-\",\"-\",\"-\",\"-\",\"-\",\"-\",\"-\",\"-\",\"-\",\"-\",\"-\",\"-\",\"-\",\"-\",\"-\",\"-\",\"-\",\"-\",\"-\",\"-\",\"-\",\"-\",\"-\",\"2500\",\"-\",\"-\",\"-\",\"-\",\"-\",\"-\",\"-\",\"-\",\"-\",\"-\",\"-\",\"-\",\"-\",\"-\",\"-\",\"-\",\"-\",\"-\",\"-\",\"-\",\"-\",\"-\",\"-\",\"-\",\"-\",\"-\",\"-\",\"-\",\"-\",\"-\",\"-\",\"-\",\"-\",\"-\",\"-\",\"-\",\"-\",\"-\",\"-\",\"-\",\"-\",\"-\",\"-\",\"-\",\"-\",\"-\",\"-\",\"-\",\"-\",\"4500\",\"-\",\"-\",\"-\",\"-\",\"-\",\"-\",\"-\",\"-\",\"-\",\"-\",\"-\",\"-\",\"-\",\"-\",\"-\",\"-\",\"-\",\"-\",\"-\",\"-\",\"-\",\"-\",\"-\",\"-\",\"-\",\"-\",\"-\",\"-\",\"-\",\"-\",\"-\",\"-\",\"-\",\"-\",\"-\",\"-\",\"-\",\"-\",\"-\",\"-\",\"-\",\"-\",\"-\",\"-\",\"-\",\"-\",\"-\",\"-\",\"-\",\"-\",\"-\",\"-\",\"-\",\"-\",\"-\",\"-\",\"-\",\"-\",\"2000\",\"-\",\"-\",\"-\",\"-\",\"-\",\"-\",\"-\",\"-\",\"-\",\"-\",\"-\",\"-\",\"-\",\"-\",\"-\",\"-\",\"-\",\"-\",\"-\",\"-\",\"-\",\"-\",\"-\",\"-\",\"-\",\"-\",\"-\",\"-\",\"-\",\"-\",\"-\",\"-\",\"-\",\"-\",\"-\",\"-\",\"-\",\"-\",\"-\",\"-\",\"-\",\"-\",\"-\",\"-\",\"-\",\"-\",\"-\",\"-\",\"-\",\"-\",\"-\",\"-\",\"-\",\"-\",\"-\",\"-\",\"-\",\"-\",\"-\",\"-\",\"-\",\"-\",\"-\",\"-\",\"-\",\"-\",\"-\",\"625\",\"-\",\"-\",\"-\",\"-\",\"-\",\"-\",\"-\",\"-\",\"-\",\"-\",\"-\",\"-\",\"-\",\"-\",\"-\",\"-\",\"-\",\"-\",\"-\",\"-\",\"-\",\"-\",\"-\",\"-\",\"-\",\"-\",\"-\",\"-\",\"-\",\"-\",\"-\",\"-\",\"-\",\"-\",\"-\",\"-\",\"-\",\"-\",\"-\",\"-\",\"-\",\"-\",\"-\",\"-\",\"-\",\"-\",\"-\",\"-\",\"-\",\"-\",\"-\",\"-\",\"-\",\"-\",\"-\",\"-\",\"-\",\"-\",\"-\",\"-\",\"-\",\"-\",\"2125\",\"-\",\"-\",\"-\",\"-\",\"-\",\"-\",\"-\",\"-\",\"-\",\"-\",\"-\",\"-\",\"-\",\"-\",\"-\",\"-\",\"-\",\"-\",\"-\",\"-\",\"-\",\"-\",\"-\",\"-\",\"-\",\"-\",\"-\",\"-\",\"-\",\"-\",\"-\",\"-\",\"-\",\"-\",\"-\",\"-\",\"-\",\"-\",\"-\",\"-\",\"-\",\"-\",\"-\",\"-\",\"-\",\"-\",\"-\",\"-\",\"-\",\"-\",\"-\",\"-\",\"-\",\"-\",\"-\",\"-\",\"-\",\"-\",\"-\",\"-\",\"-\",\"-\",\"-\",\"-\",\"-\",\"-\",\"-\",\"4000\",\"-\",\"-\",\"-\",\"-\",\"-\",\"-\",\"-\",\"-\",\"-\",\"-\",\"-\",\"-\",\"-\",\"-\",\"-\",\"-\",\"-\",\"-\",\"-\",\"-\",\"-\",\"-\",\"-\",\"-\",\"-\",\"-\",\"-\",\"-\",\"-\",\"-\",\"-\",\"-\",\"-\",\"-\",\"-\",\"-\",\"-\",\"-\",\"-\",\"-\",\"-\",\"-\",\"-\",\"-\",\"-\",\"-\",\"-\",\"-\",\"-\",\"-\",\"-\",\"-\",\"-\",\"-\",\"-\",\"-\",\"-\",\"-\",\"-\",\"-\",\"-\",\"-\",\"-\",\"-\",\"-\",\"-\",\"-\",\"-\",\"-\",\"-\",\"-\",\"-\",\"-\",\"-\",\"-\",\"-\",\"-\",\"-\",\"-\",\"-\",\"-\",\"-\",\"-\",\"-\",\"-\",\"-\",\"-\",\"-\",\"-\",\"250\",\"-\",\"-\",\"-\",\"-\",\"-\",\"-\",\"-\",\"-\",\"-\",\"-\",\"-\",\"-\",\"-\",\"-\",\"-\",\"-\",\"-\",\"-\",\"-\",\"-\",\"-\",\"-\",\"-\",\"-\",\"-\",\"-\",\"-\",\"-\",\"-\",\"-\",\"-\",\"-\",\"-\",\"-\",\"-\",\"-\",\"-\",\"-\",\"-\",\"-\",\"-\",\"-\",\"-\",\"-\",\"-\",\"-\",\"-\",\"-\",\"-\",\"-\",\"-\",\"-\",\"-\",\"-\",\"-\",\"-\",\"-\",\"-\",\"-\",\"-\",\"-\",\"-\",\"2500\",\"-\",\"-\",\"-\",\"-\",\"-\",\"-\",\"-\",\"-\",\"-\",\"-\",\"-\",\"-\",\"-\",\"-\",\"-\",\"-\",\"-\",\"-\",\"-\",\"-\",\"-\",\"-\",\"-\",\"-\",\"-\",\"-\",\"-\",\"-\",\"-\",\"-\",\"-\",\"-\",\"-\",\"-\",\"-\",\"-\",\"-\",\"-\",\"-\",\"-\",\"-\",\"-\",\"-\",\"-\",\"-\",\"-\",\"1029\",\"-\",\"-\",\"-\",\"-\",\"-\",\"-\",\"-\",\"-\",\"-\",\"-\",\"-\",\"-\",\"-\",\"-\",\"-\",\"-\",\"-\",\"-\",\"-\",\"-\",\"-\",\"-\",\"-\",\"-\",\"-\",\"-\",\"-\",\"-\",\"-\",\"-\",\"-\",\"-\",\"-\",\"-\",\"-\",\"-\",\"-\",\"-\",\"-\",\"-\",\"-\",\"-\",\"-\",\"-\",\"-\",\"-\",\"-\",\"-\",\"-\",\"-\",\"-\",\"-\",\"-\",\"-\",\"-\",\"-\",\"-\",\"-\",\"750\",\"-\",\"-\",\"-\",\"-\",\"-\",\"-\",\"-\",\"-\",\"-\",\"-\",\"-\",\"-\",\"-\",\"-\",\"-\",\"-\",\"-\",\"-\",\"-\",\"-\",\"-\",\"-\",\"-\",\"-\",\"-\",\"-\",\"-\",\"-\",\"-\",\"-\",\"-\",\"-\",\"-\",\"-\",\"-\",\"-\",\"-\",\"-\",\"-\",\"-\",\"-\",\"-\",\"-\",\"-\",\"-\",\"-\",\"-\",\"-\",\"-\",\"-\",\"-\",\"-\",\"-\",\"-\",\"-\",\"-\",\"-\",\"-\",\"-\",\"-\",\"-\",\"-\",\"-\",\"-\",\"-\",\"-\",\"1976.3\",\"-\",\"-\",\"-\",\"-\",\"-\",\"-\",\"-\",\"-\",\"-\",\"-\",\"-\",\"-\",\"-\",\"-\",\"-\",\"-\",\"-\",\"-\",\"-\",\"-\",\"-\",\"-\",\"-\",\"-\",\"-\",\"-\",\"-\",\"-\",\"-\",\"-\",\"-\",\"-\",\"-\",\"-\",\"-\",\"-\",\"-\",\"-\",\"-\",\"-\",\"-\",\"-\",\"-\",\"-\",\"-\",\"-\",\"-\",\"-\",\"-\",\"-\",\"-\",\"-\",\"-\",\"-\",\"-\",\"-\",\"-\",\"-\",\"-\",\"-\",\"-\",\"-\",\"-\",\"-\",\"-\",\"-\",\"-\",\"-\",\"-\",\"-\",\"-\",\"-\",\"-\",\"-\",\"-\",\"-\",\"-\",\"-\",\"-\",\"-\",\"-\",\"-\",\"-\",\"-\",\"-\",\"-\",\"-\",\"-\",\"-\",\"1650\",\"-\",\"-\",\"-\",\"-\",\"-\",\"-\",\"-\",\"-\",\"-\",\"-\",\"-\",\"-\",\"-\",\"-\",\"-\",\"-\",\"-\",\"-\",\"-\",\"-\",\"-\",\"-\",\"-\",\"-\",\"-\",\"-\",\"-\",\"-\",\"-\",\"-\",\"-\",\"-\",\"-\",\"-\",\"-\",\"-\",\"-\",\"-\",\"-\",\"-\",\"-\",\"-\",\"-\",\"-\",\"-\",\"-\",\"-\",\"-\",\"-\",\"-\",\"-\",\"-\",\"-\",\"-\",\"-\",\"-\",\"-\",\"-\",\"-\",\"-\",\"-\",\"-\",\"-\",\"-\",\"-\",\"-\",\"-\",\"-\",\"-\",\"-\",\"2600\",\"-\",\"-\",\"-\",\"-\",\"-\",\"-\",\"-\",\"-\",\"-\",\"-\",\"-\",\"-\",\"-\",\"-\",\"-\",\"-\",\"-\",\"-\",\"-\",\"-\",\"-\",\"-\",\"-\",\"-\",\"-\",\"-\",\"-\",\"-\",\"-\",\"-\",\"-\",\"-\",\"-\",\"-\",\"-\",\"-\",\"-\",\"-\",\"-\",\"-\",\"-\",\"-\",\"-\",\"-\",\"-\",\"-\",\"-\",\"-\",\"-\",\"-\",\"-\",\"-\",\"-\",\"-\",\"-\",\"-\",\"-\",\"-\",\"-\",\"-\",\"-\",\"-\",\"-\",\"-\",\"-\",\"-\",\"-\",\"-\",\"-\",\"-\",\"-\",\"800\",\"-\",\"-\",\"-\",\"-\",\"-\",\"-\",\"-\",\"-\",\"-\",\"-\",\"-\",\"-\",\"-\",\"-\",\"-\",\"-\",\"-\",\"-\",\"-\",\"-\",\"-\",\"-\",\"-\",\"-\",\"-\",\"-\",\"-\",\"-\",\"-\",\"-\",\"-\",\"-\",\"-\",\"-\",\"-\",\"-\",\"-\",\"-\",\"-\",\"-\",\"-\",\"-\",\"-\",\"-\",\"-\",\"-\",\"-\",\"-\",\"-\",\"-\",\"-\",\"-\",\"-\",\"-\",\"-\",\"-\",\"-\",\"-\",\"-\",\"-\",\"-\",\"2000\",\"-\",\"-\",\"-\",\"-\",\"-\",\"-\",\"-\",\"-\",\"-\",\"-\",\"-\",\"-\",\"-\",\"-\",\"-\",\"-\",\"-\",\"-\",\"-\",\"-\",\"-\",\"-\",\"-\",\"-\",\"-\",\"-\",\"-\",\"-\",\"-\",\"-\",\"-\",\"-\",\"-\",\"-\",\"-\",\"-\",\"-\",\"-\",\"-\",\"-\",\"-\",\"-\",\"-\",\"-\",\"-\",\"-\",\"-\",\"-\",\"-\",\"-\",\"-\",\"-\",\"-\",\"-\",\"-\",\"-\",\"-\",\"-\",\"-\",\"-\",\"-\",\"-\",\"-\",\"-\",\"-\",\"-\",\"-\",\"-\",\"-\",\"-\",\"-\",\"-\",\"-\",\"875\",\"-\",\"-\",\"-\",\"-\",\"-\",\"-\",\"-\",\"-\",\"-\",\"-\",\"-\",\"-\",\"-\",\"-\",\"-\",\"-\",\"-\",\"-\",\"-\",\"-\",\"-\",\"-\",\"-\",\"-\",\"-\",\"-\",\"-\",\"-\",\"-\",\"-\",\"-\",\"-\",\"-\",\"-\",\"-\",\"-\",\"-\",\"-\",\"-\",\"-\",\"-\",\"-\",\"-\",\"-\",\"-\",\"-\",\"-\",\"-\",\"-\",\"-\",\"-\",\"-\",\"-\",\"-\",\"-\",\"-\",\"-\",\"-\",\"-\",\"-\",\"-\",\"-\",\"-\",\"-\",\"-\",\"-\",\"-\",\"-\",\"-\",\"-\",\"-\",\"-\",\"-\",\"-\",\"6000\",\"-\",\"-\",\"-\",\"-\",\"-\",\"-\",\"-\",\"-\",\"-\",\"-\",\"-\",\"-\",\"-\",\"-\",\"-\",\"-\",\"-\",\"-\",\"-\",\"-\",\"-\",\"-\",\"-\",\"-\",\"-\",\"-\",\"-\",\"-\",\"-\",\"-\",\"-\",\"-\",\"-\",\"-\",\"-\",\"-\",\"-\",\"-\",\"-\",\"-\",\"-\",\"-\",\"-\",\"-\",\"-\",\"-\",\"-\",\"-\",\"-\",\"-\",\"-\",\"-\",\"-\",\"-\",\"-\",\"-\",\"-\",\"1000\",\"-\",\"-\",\"-\",\"-\",\"-\",\"-\",\"-\",\"-\",\"-\",\"-\",\"-\",\"-\",\"-\",\"-\",\"-\",\"-\",\"-\",\"-\",\"-\",\"-\",\"-\",\"-\",\"-\",\"-\",\"-\",\"-\",\"-\",\"-\",\"-\",\"-\",\"-\",\"-\",\"-\",\"-\",\"-\",\"-\",\"-\",\"-\",\"-\",\"-\",\"-\",\"-\",\"-\",\"-\",\"-\",\"-\",\"-\",\"-\",\"-\",\"-\",\"-\",\"-\",\"-\",\"-\",\"-\",\"-\",\"-\",\"-\",\"-\",\"-\",\"-\",\"-\",\"-\",\"-\",\"-\",\"-\",\"-\",\"-\",\"-\",\"-\",\"-\",\"-\",\"-\",\"-\",\"-\",\"2300\",\"-\",\"-\",\"-\",\"-\",\"-\",\"-\",\"-\",\"-\",\"-\",\"-\",\"-\",\"-\",\"-\",\"-\",\"-\",\"-\",\"-\",\"-\",\"-\",\"-\",\"-\",\"-\",\"-\",\"-\",\"-\",\"-\",\"-\",\"-\",\"-\",\"-\",\"-\",\"-\",\"-\",\"-\",\"-\",\"12600\",\"-\",\"-\",\"-\",\"-\",\"-\",\"-\",\"-\",\"-\",\"-\",\"-\",\"-\",\"-\",\"-\",\"-\",\"-\",\"-\",\"-\",\"-\",\"-\",\"-\",\"-\",\"-\",\"-\",\"-\",\"-\",\"-\",\"-\",\"-\",\"-\",\"-\",\"-\",\"-\",\"-\",\"-\",\"-\",\"-\",\"-\",\"-\",\"-\",\"-\",\"-\",\"-\",\"-\",\"-\",\"-\",\"-\",\"-\",\"-\",\"-\",\"-\",\"-\",\"-\",\"-\",\"-\",\"-\",\"-\",\"-\",\"-\",\"1700\",\"-\",\"-\",\"-\",\"-\",\"-\",\"-\",\"-\",\"-\",\"-\",\"-\",\"-\",\"-\",\"-\",\"-\",\"-\",\"-\",\"-\",\"-\",\"-\",\"-\",\"-\",\"-\",\"-\",\"-\",\"-\",\"-\",\"-\",\"-\",\"-\",\"-\",\"-\",\"-\",\"-\",\"-\",\"-\",\"-\",\"-\",\"-\",\"-\",\"-\",\"-\",\"-\",\"-\",\"-\",\"-\",\"-\",\"-\",\"-\",\"-\",\"-\",\"-\",\"-\",\"-\",\"-\",\"-\",\"-\",\"-\",\"-\",\"-\",\"-\",\"-\",\"-\",\"-\",\"-\",\"-\",\"-\",\"-\",\"-\",\"-\",\"-\",\"-\",\"-\",\"-\",\"-\",\"-\",\"-\",\"-\",\"-\",\"-\",\"-\",\"-\",\"-\",\"-\",\"-\",\"-\",\"-\",\"-\",\"-\",\"-\",\"-\",\"-\",\"-\",\"-\",\"-\",\"-\",\"-\",\"3500\",\"-\",\"-\",\"-\",\"-\",\"-\",\"-\",\"-\",\"-\",\"-\",\"-\",\"-\",\"-\",\"-\",\"-\",\"-\",\"-\",\"-\",\"-\",\"-\",\"-\",\"-\",\"-\",\"-\",\"-\",\"-\",\"-\",\"-\",\"-\",\"-\",\"-\",\"-\",\"-\",\"-\",\"-\",\"-\",\"-\",\"-\",\"-\",\"-\",\"-\",\"875\",\"-\",\"-\",\"-\",\"-\",\"-\",\"-\",\"-\",\"-\",\"-\",\"-\",\"-\",\"-\",\"-\",\"-\",\"-\",\"-\",\"-\",\"-\",\"-\",\"-\",\"-\",\"-\",\"-\",\"-\",\"-\",\"-\",\"-\",\"-\",\"-\",\"-\",\"-\",\"-\",\"-\",\"-\",\"-\",\"-\",\"-\",\"-\",\"-\",\"-\",\"-\",\"-\",\"-\",\"-\",\"-\",\"-\",\"-\",\"-\",\"-\",\"-\",\"-\",\"-\",\"-\",\"-\",\"-\",\"-\",\"-\",\"-\",\"-\",\"-\",\"-\",\"-\",\"-\",\"-\",\"-\",\"-\",\"-\",\"-\",\"-\",\"-\",\"-\",\"-\",\"-\",\"-\",\"-\",\"-\",\"-\",\"-\",\"-\",\"-\",\"-\",\"-\",\"-\",\"-\",\"3700\",\"-\",\"-\",\"-\",\"-\",\"-\",\"-\",\"-\",\"-\",\"-\",\"-\",\"-\",\"-\",\"-\",\"-\",\"-\",\"-\",\"-\",\"-\",\"-\",\"-\",\"-\",\"-\",\"-\",\"-\",\"-\",\"-\",\"-\",\"-\",\"-\",\"-\",\"-\",\"-\",\"-\",\"-\",\"-\",\"-\",\"-\",\"-\",\"-\",\"-\",\"-\",\"-\",\"-\",\"-\",\"-\",\"-\",\"-\",\"-\",\"-\",\"-\",\"-\",\"-\",\"-\",\"-\",\"-\",\"-\",\"-\",\"-\",\"-\",\"-\",\"-\",\"-\",\"-\",\"438\",\"-\",\"-\",\"-\",\"-\",\"-\",\"-\",\"-\",\"-\",\"-\",\"-\",\"-\",\"-\",\"-\",\"-\",\"-\",\"-\",\"-\",\"-\",\"-\",\"-\",\"-\",\"-\",\"-\",\"-\",\"-\",\"15520\",\"-\",\"-\",\"-\",\"-\",\"-\",\"-\",\"-\",\"-\",\"-\",\"-\",\"-\",\"-\",\"-\",\"-\",\"-\",\"-\",\"-\",\"-\",\"-\",\"-\",\"-\",\"-\",\"-\",\"-\",\"-\",\"-\",\"-\",\"-\",\"-\",\"-\",\"-\",\"-\",\"-\",\"-\",\"-\",\"-\",\"-\",\"-\",\"-\",\"-\",\"-\",\"-\",\"-\",\"-\",\"-\",\"-\",\"-\",\"-\",\"-\",\"-\",\"-\",\"-\",\"-\",\"-\",\"-\",\"-\",\"-\",\"-\",\"-\",\"-\",\"-\",\"-\",\"-\",\"-\",\"-\",\"-\",\"-\",\"360\",\"-\",\"-\",\"-\",\"-\",\"-\",\"-\",\"-\",\"-\",\"-\",\"-\",\"-\",\"-\",\"-\",\"-\",\"-\",\"-\",\"-\",\"-\",\"-\",\"-\",\"-\",\"-\",\"-\",\"-\",\"-\",\"-\",\"-\",\"-\",\"-\",\"-\",\"-\",\"-\",\"-\",\"-\",\"-\",\"-\",\"-\",\"-\",\"-\",\"-\",\"-\",\"-\",\"-\",\"-\",\"-\",\"-\",\"-\",\"-\",\"-\",\"-\",\"-\",\"-\",\"-\",\"-\",\"-\",\"-\",\"-\",\"-\",\"-\",\"-\",\"-\",\"-\",\"-\",\"-\",\"-\",\"-\",\"-\",\"-\",\"-\",\"-\",\"-\",\"-\",\"-\",\"-\",\"-\",\"-\",\"-\",\"-\",\"-\",\"-\",\"-\",\"-\",\"-\",\"-\",\"-\",\"-\",\"-\",\"-\",\"-\",\"-\",\"-\",\"-\",\"-\",\"-\",\"2600\",\"-\",\"-\",\"-\",\"-\",\"-\",\"-\",\"-\",\"-\",\"-\",\"-\",\"-\",\"-\",\"-\",\"-\",\"-\",\"-\",\"-\",\"-\",\"-\",\"-\",\"-\",\"-\",\"-\",\"-\",\"-\",\"-\",\"-\",\"-\",\"-\",\"-\",\"-\",\"-\",\"-\",\"-\",\"-\",\"-\",\"-\",\"-\",\"-\",\"-\",\"-\",\"-\",\"-\",\"-\",\"-\",\"-\",\"-\",\"-\",\"-\",\"-\",\"-\",\"-\",\"-\",\"-\",\"-\",\"-\",\"-\",\"-\",\"-\",\"-\",\"-\",\"-\",\"-\",\"-\",\"-\",\"-\",\"-\",\"-\",\"-\",\"-\",\"875\",\"-\",\"-\",\"-\",\"-\",\"-\",\"-\",\"-\",\"-\",\"-\",\"-\",\"-\",\"-\",\"-\",\"-\",\"-\",\"-\",\"-\",\"-\",\"-\",\"-\",\"-\",\"-\",\"-\",\"-\",\"-\",\"-\",\"-\",\"-\",\"-\",\"-\",\"-\",\"-\",\"-\",\"-\",\"-\",\"-\",\"-\",\"-\",\"-\",\"-\",\"-\",\"-\",\"-\",\"-\",\"-\",\"-\",\"-\",\"-\",\"-\",\"-\",\"-\",\"-\",\"-\",\"-\",\"400\",\"-\",\"-\",\"-\",\"-\",\"-\",\"-\",\"-\",\"-\",\"-\",\"-\",\"-\",\"-\",\"-\",\"-\",\"-\",\"-\",\"-\",\"-\",\"-\",\"-\",\"-\",\"-\",\"-\",\"-\",\"-\",\"-\",\"-\",\"-\",\"-\",\"-\",\"-\",\"-\",\"-\",\"-\",\"-\",\"-\",\"-\",\"-\",\"-\",\"-\",\"-\",\"-\",\"-\",\"-\",\"-\",\"-\",\"-\",\"-\",\"-\",\"-\",\"-\",\"-\",\"-\",\"-\",\"-\",\"-\",\"-\",\"-\",\"-\",\"-\",\"-\",\"-\",\"-\",\"-\",\"-\",\"-\",\"-\",\"-\",\"-\",\"-\",\"-\",\"-\",\"-\",\"-\",\"-\",\"-\",\"-\",\"-\",\"-\",\"-\",\"-\",\"-\",\"-\",\"-\",\"-\",\"-\",\"-\",\"-\",\"-\",\"-\",\"-\",\"2600\",\"-\",\"-\",\"-\",\"-\",\"-\",\"-\",\"-\",\"-\",\"-\",\"-\",\"-\",\"-\",\"-\",\"-\",\"-\",\"-\",\"-\",\"-\",\"-\",\"-\",\"-\",\"-\",\"-\",\"-\",\"-\",\"-\",\"1000\",\"-\",\"-\",\"6000\",\"-\",\"-\",\"-\",\"-\",\"-\",\"-\",\"-\",\"-\",\"-\",\"-\",\"-\",\"-\",\"-\",\"-\",\"-\",\"-\",\"-\",\"-\",\"-\",\"-\",\"-\",\"-\",\"-\",\"-\",\"-\",\"-\",\"-\",\"-\",\"-\",\"-\",\"-\",\"-\",\"-\",\"-\",\"-\",\"-\",\"-\",\"-\",\"-\",\"-\",\"-\",\"-\",\"-\",\"-\",\"-\",\"-\",\"-\",\"-\",\"-\",\"-\",\"-\",\"-\",\"-\",\"-\",\"-\",\"-\",\"-\",\"-\",\"-\",\"-\",\"-\",\"-\",\"-\",\"-\",\"-\",\"-\",\"-\",\"-\",\"-\",\"-\",\"-\",\"-\",\"-\",\"-\",\"-\",\"-\",\"-\",\"-\",\"-\",\"-\",\"-\",\"-\",\"-\",\"-\",\"-\",\"-\",\"-\",\"-\",\"-\",\"-\",\"-\",\"-\",\"-\",\"-\",\"-\",\"-\",\"-\",\"-\",\"-\",\"-\",\"-\",\"-\",\"-\",\"-\",\"-\",\"-\",\"1840\",\"-\",\"-\",\"-\",\"-\",\"-\",\"-\",\"-\",\"-\",\"-\",\"-\",\"-\",\"-\",\"-\",\"-\",\"-\",\"-\",\"-\",\"-\",\"-\",\"-\",\"-\",\"-\",\"-\",\"-\",\"-\",\"-\",\"-\",\"-\",\"-\",\"-\",\"-\",\"-\",\"-\",\"-\",\"-\",\"-\",\"-\",\"-\",\"-\",\"-\",\"-\",\"-\",\"-\",\"-\",\"-\",\"-\",\"-\",\"-\",\"-\",\"-\",\"-\",\"-\",\"-\",\"-\",\"-\",\"-\",\"-\",\"-\",\"-\",\"-\",\"-\",\"-\",\"-\",\"-\",\"21000\",\"-\",\"-\",\"-\",\"-\",\"-\",\"-\",\"-\",\"-\",\"-\",\"-\",\"-\",\"-\",\"-\",\"-\",\"-\",\"-\",\"-\",\"-\",\"-\",\"-\",\"-\",\"-\",\"-\",\"-\",\"-\",\"-\",\"-\",\"-\",\"-\",\"-\",\"-\",\"-\",\"-\",\"-\",\"-\",\"-\",\"-\",\"-\",\"-\",\"-\",\"-\",\"-\",\"-\",\"-\",\"-\",\"-\",\"-\",\"-\",\"-\",\"-\",\"-\",\"-\",\"-\",\"-\",\"-\",\"-\",\"500\",\"-\",\"-\",\"-\",\"-\",\"-\",\"-\",\"-\",\"-\",\"-\",\"-\",\"-\",\"-\",\"-\",\"-\",\"-\",\"-\",\"-\",\"-\",\"-\",\"-\",\"4000\",\"-\",\"-\",\"-\",\"-\",\"-\",\"-\",\"-\",\"-\",\"-\",\"-\",\"-\",\"-\",\"-\",\"-\",\"-\",\"-\",\"-\",\"-\",\"-\",\"-\",\"-\",\"-\",\"-\",\"-\",\"-\",\"-\",\"-\",\"-\",\"-\",\"-\",\"-\",\"-\",\"-\",\"-\",\"-\",\"-\",\"-\",\"-\",\"-\",\"-\",\"-\",\"-\",\"-\",\"-\",\"-\",\"-\",\"-\",\"-\",\"-\",\"-\",\"-\",\"-\",\"-\",\"-\",\"-\",\"-\",\"-\",\"-\",\"-\",\"-\",\"-\",\"-\",\"-\",\"-\",\"-\",\"-\",\"-\",\"-\",\"-\",\"-\",\"-\",\"-\",\"-\",\"-\",\"-\",\"-\",\"-\",\"-\",\"-\",\"-\",\"-\",\"-\",\"-\",\"-\",\"-\",\"-\",\"-\",\"-\",\"-\",\"-\",\"-\",\"-\",\"-\",\"-\",\"-\",\"-\",\"-\",\"-\",\"-\",\"-\",\"-\",\"-\",\"1640\",\"-\",\"-\",\"-\",\"-\",\"-\",\"-\",\"-\",\"-\",\"-\",\"-\",\"-\",\"-\",\"-\",\"-\",\"-\",\"-\",\"-\",\"-\",\"-\",\"-\",\"-\",\"-\",\"-\",\"-\",\"-\",\"-\",\"-\",\"-\",\"-\",\"-\",\"-\",\"-\",\"-\",\"-\",\"-\",\"-\",\"-\",\"-\",\"-\",\"-\",\"-\",\"-\",\"-\",\"-\",\"-\",\"-\",\"-\",\"-\",\"-\",\"-\",\"-\",\"-\",\"-\",\"-\",\"-\",\"-\",\"-\",\"-\",\"-\",\"-\",\"-\",\"-\",\"-\",\"-\",\"-\",\"-\",\"-\",\"-\",\"-\",\"-\",\"-\",\"-\",\"-\",\"-\",\"8500\",\"-\",\"-\",\"-\",\"-\",\"-\",\"-\",\"-\",\"-\",\"-\",\"-\",\"-\",\"-\",\"-\",\"-\",\"-\",\"-\",\"-\",\"-\",\"-\",\"-\",\"-\",\"-\",\"-\",\"-\",\"-\",\"-\",\"-\",\"-\",\"-\",\"-\",\"-\",\"-\",\"-\",\"-\",\"-\",\"-\",\"-\",\"-\",\"-\",\"-\",\"-\",\"-\",\"-\",\"-\",\"-\",\"-\",\"-\",\"-\",\"-\",\"-\",\"-\",\"-\",\"-\",\"-\",\"-\",\"-\",\"-\",\"-\",\"-\",\"-\",\"-\",\"-\",\"-\",\"-\",\"-\",\"-\",\"-\",\"-\",\"-\",\"-\",\"-\",\"-\",\"-\",\"-\",\"-\",\"1800\",\"-\",\"-\",\"-\",\"-\",\"-\",\"-\",\"-\",\"-\",\"-\",\"-\",\"-\",\"-\",\"-\",\"-\",\"-\",\"-\",\"-\",\"-\",\"-\",\"-\",\"-\",\"-\",\"-\",\"-\",\"-\",\"-\",\"-\",\"-\",\"-\",\"-\",\"-\",\"-\",\"-\",\"-\",\"-\",\"3250\",\"-\",\"-\",\"-\",\"-\",\"-\",\"-\",\"-\",\"-\",\"-\",\"-\",\"-\",\"-\",\"-\",\"-\",\"-\",\"-\",\"-\",\"-\",\"-\",\"-\",\"-\",\"-\",\"-\",\"-\",\"-\",\"-\",\"-\",\"-\",\"-\",\"-\",\"-\",\"-\",\"-\",\"-\",\"-\",\"-\",\"-\",\"-\",\"-\",\"-\",\"-\",\"-\",\"-\",\"-\",\"-\",\"-\",\"-\",\"-\",\"-\",\"16000\",\"-\",\"-\",\"-\",\"-\",\"-\",\"-\",\"-\",\"-\",\"-\",\"-\",\"-\",\"-\",\"-\",\"-\",\"-\",\"-\",\"-\",\"-\",\"-\",\"-\",\"-\",\"-\",\"-\",\"-\",\"-\",\"-\",\"-\",\"-\",\"-\",\"-\",\"-\",\"-\",\"-\",\"-\",\"-\",\"-\",\"-\",\"-\",\"-\",\"-\",\"-\",\"-\",\"-\",\"-\",\"-\",\"-\",\"-\",\"-\",\"-\",\"-\",\"-\",\"-\",\"-\",\"-\",\"-\",\"-\",\"-\",\"-\",\"-\",\"-\",\"-\",\"-\",\"-\",\"-\",\"-\",\"-\",\"-\",\"-\",\"-\",\"-\",\"-\",\"-\",\"565\",\"-\",\"-\",\"-\",\"-\",\"-\",\"-\",\"-\",\"-\",\"-\",\"-\",\"-\",\"-\",\"-\",\"-\",\"-\",\"-\",\"-\",\"-\",\"-\",\"-\",\"-\",\"-\",\"-\",\"-\",\"-\",\"-\",\"-\",\"-\",\"-\",\"-\",\"-\",\"-\",\"-\",\"-\",\"-\",\"-\",\"-\",\"-\",\"-\",\"-\",\"-\",\"-\",\"-\",\"-\",\"-\",\"-\",\"-\",\"-\",\"-\",\"-\",\"-\",\"-\",\"-\",\"-\",\"-\",\"-\",\"-\",\"-\",\"-\",\"-\",\"-\",\"-\",\"-\",\"-\",\"-\",\"-\",\"-\",\"-\",\"-\",\"-\",\"-\",\"-\",\"-\",\"-\",\"-\",\"-\",\"-\",\"-\",\"-\",\"-\",\"-\",\"-\",\"-\",\"-\",\"-\",\"-\",\"-\",\"-\",\"-\",\"-\",\"-\",\"-\",\"-\",\"-\",\"-\",\"-\",\"-\",\"-\",\"-\",\"-\",\"-\",\"-\",\"-\",\"-\",\"-\",\"225\",\"-\",\"-\",\"-\",\"-\",\"-\",\"-\",\"-\",\"-\",\"-\",\"-\",\"-\",\"-\",\"-\",\"-\",\"-\",\"-\",\"-\",\"-\",\"-\",\"-\",\"-\",\"-\",\"-\",\"-\",\"-\",\"-\",\"-\",\"-\",\"-\",\"-\",\"-\",\"-\",\"-\",\"-\",\"-\",\"-\",\"-\",\"-\",\"-\",\"-\",\"-\",\"-\",\"-\",\"-\",\"-\",\"-\",\"-\",\"-\",\"-\",\"-\",\"-\",\"-\",\"-\",\"-\",\"-\",\"-\",\"-\",\"-\",\"-\",\"-\",\"-\",\"-\",\"-\",\"-\",\"-\",\"-\",\"750\",\"-\",\"-\",\"-\",\"-\",\"-\",\"-\",\"-\",\"-\",\"-\",\"-\",\"-\",\"-\",\"-\",\"-\",\"-\",\"-\",\"-\",\"-\",\"-\",\"-\",\"-\",\"-\",\"-\",\"-\",\"-\",\"-\",\"-\",\"-\",\"-\",\"-\",\"-\",\"-\",\"-\",\"-\",\"-\",\"-\",\"-\",\"-\",\"-\",\"-\",\"-\",\"-\",\"-\",\"-\",\"-\",\"-\",\"-\",\"-\",\"-\",\"-\",\"-\",\"-\",\"-\",\"-\",\"-\",\"4500\",\"-\",\"-\",\"-\",\"-\",\"-\",\"-\",\"-\",\"-\",\"-\",\"-\",\"-\",\"-\",\"-\",\"-\",\"-\",\"-\",\"-\",\"-\",\"-\",\"-\",\"-\",\"-\",\"-\",\"-\",\"-\",\"-\",\"-\",\"-\",\"-\",\"-\",\"-\",\"-\",\"-\",\"-\",\"-\",\"-\",\"-\",\"-\",\"-\",\"-\",\"-\",\"-\",\"-\",\"-\",\"-\",\"-\",\"-\",\"-\",\"-\",\"-\",\"1270\",\"-\",\"-\",\"-\",\"-\",\"-\",\"-\",\"-\",\"-\",\"-\",\"-\",\"-\",\"-\",\"-\",\"-\",\"-\",\"-\",\"-\",\"-\",\"-\",\"-\",\"-\",\"-\",\"-\",\"-\",\"-\",\"-\",\"-\",\"-\",\"-\",\"-\",\"-\",\"-\",\"-\",\"-\",\"-\",\"-\",\"-\",\"-\",\"-\",\"-\",\"-\",\"-\",\"-\",\"-\",\"-\",\"-\",\"-\",\"-\",\"-\",\"-\",\"-\",\"-\",\"-\",\"-\",\"-\",\"-\",\"-\",\"-\",\"-\",\"-\",\"-\",\"-\",\"-\",\"-\",\"-\",\"-\",\"-\",\"-\",\"2350\",\"-\",\"-\",\"-\",\"-\",\"-\",\"-\",\"-\",\"-\",\"-\",\"-\",\"-\",\"-\",\"-\",\"-\",\"-\",\"-\",\"-\",\"-\",\"-\",\"-\",\"-\",\"-\",\"-\",\"7500\",\"-\",\"-\",\"-\",\"-\",\"-\",\"-\",\"-\",\"-\",\"-\",\"-\",\"-\",\"-\",\"-\",\"-\",\"-\",\"-\",\"-\",\"-\",\"-\",\"-\",\"-\",\"-\",\"-\",\"-\",\"-\",\"2500\",\"-\",\"-\",\"-\",\"-\",\"-\",\"-\",\"-\",\"-\",\"-\",\"-\",\"-\",\"-\",\"-\",\"-\",\"-\",\"-\",\"-\",\"-\",\"-\",\"-\",\"-\",\"-\",\"-\",\"-\",\"-\",\"-\",\"-\",\"-\",\"-\",\"-\",\"-\",\"-\",\"-\",\"-\",\"-\",\"-\",\"-\",\"-\",\"-\",\"-\",\"-\",\"-\",\"-\",\"-\",\"-\",\"-\",\"-\",\"-\",\"-\",\"-\",\"-\",\"-\",\"-\",\"-\",\"-\",\"-\",\"-\",\"-\",\"-\",\"-\",\"-\",\"-\",\"-\",\"-\",\"-\",\"-\",\"-\",\"-\",\"-\",\"-\",\"-\",\"-\",\"-\",\"-\",\"-\",\"-\",\"-\",\"-\",\"-\",\"-\",\"-\",\"-\",\"-\",\"-\",\"-\",\"-\",\"-\",\"-\",\"-\",\"-\",\"-\",\"-\",\"-\",\"-\",\"-\",\"-\",\"-\",\"-\",\"-\",\"-\",\"-\",\"-\",\"-\",\"-\",\"-\",\"-\",\"425\",\"-\",\"-\",\"-\",\"-\",\"-\",\"-\",\"-\",\"-\",\"-\",\"-\",\"-\",\"-\",\"-\",\"-\",\"-\",\"-\",\"-\",\"-\",\"-\",\"-\",\"-\",\"-\",\"-\",\"-\",\"-\",\"-\",\"-\",\"-\",\"-\",\"-\",\"-\",\"-\",\"-\",\"-\",\"-\",\"-\",\"-\",\"-\",\"-\",\"-\",\"-\",\"-\",\"-\",\"-\",\"-\",\"-\",\"-\",\"-\",\"-\",\"-\",\"-\",\"-\",\"-\",\"-\",\"-\",\"-\",\"-\",\"-\",\"-\",\"-\",\"-\",\"-\",\"-\",\"437\",\"-\",\"-\",\"-\",\"-\",\"-\",\"-\",\"-\",\"-\",\"-\",\"-\",\"-\",\"-\",\"-\",\"-\",\"-\",\"-\",\"-\",\"-\",\"-\",\"-\",\"-\",\"-\",\"-\",\"-\",\"-\",\"-\",\"-\",\"-\",\"-\",\"-\",\"-\",\"-\",\"-\",\"-\",\"-\",\"-\",\"-\",\"-\",\"-\",\"-\",\"-\",\"-\",\"-\",\"-\",\"-\",\"-\",\"-\",\"-\",\"-\",\"-\",\"-\",\"-\",\"-\",\"-\",\"-\",\"-\",\"-\",\"-\",\"5100\",\"-\",\"-\",\"-\",\"-\",\"-\",\"-\",\"-\",\"-\",\"-\",\"-\",\"-\",\"-\",\"-\",\"-\",\"-\",\"-\",\"-\",\"-\",\"-\",\"-\",\"-\",\"-\",\"-\",\"-\",\"-\",\"-\",\"-\",\"-\",\"-\",\"-\",\"-\",\"-\",\"-\",\"-\",\"-\",\"-\",\"-\",\"-\",\"-\",\"-\",\"-\",\"-\",\"-\",\"-\",\"-\",\"-\",\"-\",\"-\",\"-\",\"-\",\"-\",\"-\",\"-\",\"-\",\"-\",\"-\",\"-\",\"-\",\"-\",\"-\",\"-\",\"-\",\"-\",\"-\",\"-\",\"-\",\"-\",\"-\",\"-\",\"-\",\"-\",\"-\",\"-\",\"-\",\"-\",\"2000\",\"-\",\"-\",\"-\",\"-\",\"-\",\"-\",\"-\",\"-\",\"-\",\"-\",\"-\",\"-\",\"-\",\"-\",\"-\",\"-\",\"-\",\"-\",\"-\",\"-\",\"-\",\"-\",\"2750\",\"-\",\"-\",\"-\",\"-\",\"-\",\"-\",\"-\",\"-\",\"-\",\"-\",\"-\",\"-\",\"-\",\"-\",\"-\",\"-\",\"-\",\"-\",\"-\",\"-\",\"-\",\"-\",\"-\",\"-\",\"-\",\"-\",\"-\",\"-\",\"-\",\"-\",\"-\",\"-\",\"-\",\"-\",\"-\",\"-\",\"-\",\"-\",\"-\",\"-\",\"-\",\"-\",\"-\",\"-\",\"-\",\"-\",\"-\",\"-\",\"-\",\"-\",\"-\",\"-\",\"-\",\"-\",\"-\",\"-\",\"-\",\"-\",\"-\",\"-\",\"-\",\"-\",\"-\",\"-\",\"-\",\"-\",\"-\",\"-\",\"-\",\"-\",\"-\",\"-\",\"-\",\"-\",\"-\",\"-\",\"-\",\"-\",\"-\",\"-\",\"-\",\"-\",\"-\",\"-\",\"-\",\"-\",\"-\",\"-\",\"-\",\"-\",\"-\",\"-\",\"-\",\"-\",\"-\",\"1222\",\"-\",\"-\",\"-\",\"-\",\"-\",\"-\",\"-\",\"-\",\"-\",\"-\",\"-\",\"-\",\"-\",\"-\",\"-\",\"-\",\"-\",\"-\",\"-\",\"-\",\"2300\",\"-\",\"-\",\"-\",\"-\",\"-\",\"-\",\"-\",\"-\",\"-\",\"-\",\"-\",\"-\",\"-\",\"-\",\"-\",\"-\",\"-\",\"-\",\"-\",\"-\",\"-\",\"-\",\"-\",\"-\",\"-\",\"-\",\"-\",\"-\",\"-\",\"-\",\"-\",\"-\",\"-\",\"-\",\"-\",\"-\",\"-\",\"-\",\"-\",\"-\",\"-\",\"-\",\"-\",\"-\",\"-\",\"-\",\"-\",\"-\",\"-\",\"-\",\"-\",\"-\",\"-\",\"-\",\"-\",\"-\",\"-\",\"-\",\"-\",\"-\",\"-\",\"-\",\"-\",\"-\",\"-\",\"-\",\"-\",\"-\",\"-\",\"-\",\"-\",\"-\",\"-\",\"-\",\"-\",\"-\",\"-\",\"-\",\"-\",\"-\",\"-\",\"-\",\"-\",\"-\",\"-\",\"-\",\"-\",\"-\",\"-\",\"-\",\"-\",\"-\",\"-\",\"-\",\"-\",\"-\",\"-\",\"-\",\"-\",\"-\",\"-\",\"-\",\"-\",\"-\",\"-\",\"-\",\"-\",\"-\",\"-\",\"-\",\"-\",\"-\",\"-\",\"-\",\"-\",\"-\",\"-\",\"-\",\"-\",\"-\",\"-\",\"-\",\"-\",\"-\",\"-\"],\"Lat\":{\"__ndarray__\":\"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\",\"dtype\":\"float64\",\"order\":\"little\",\"shape\":[4224]},\"Long\":{\"__ndarray__\":\"svUM4Zi9Y8C7fOvDeopewOBNt+wQdl7APX0E/vA2XsCi68IPzqRdwBno2hfQoV3A9YsS9BeVXcDRsYNKXJBdwBea6zTSh13ASS9q96t4XcBHOZhNgHZdwPKzkeumdF3A6fLmcK33W8AE6Pf9mwtYwBqmttRBRlfAS1gbYyevVsAaNsr6zY9WwKXY0TjUilbA3nTLDvF6VsARiq2gaWdWwIxNK4VAVVbA3Qn2X+f9VcAGIos08eZVwEbrqGqCtlXAMTffiO61VcDElbN3RpdVwF9FRgckbVXAP4178xtfVcA7Vb5nJFpVwKXZPA6DS1XAKNap8j0lVcDICKhwBBVVwC3qk9xhEVXAlR+4yhMAVcCqnPaUnPRUwF+X4T/d51TAe737473iVMCpwp/hzdtUwKt7ZHPVzlTA96+sNCm8VMAmui784KhUwIp3gCctl1TAt5xLcVV/VMDzH9JvX2tUwDvEP2zpQVTAhlRRvMoeVMAiG0gXmwRUwMr7OJojA1TAtp4hHLP4U8DSAN4CCfRTwMVLN4lB2FPAZvUOt0PPU8DYKyy4H75TwOxsyD8zuVPAbs1WXvKeU8CVuflGdHpTwInt7gG6QlPAbRyxFp8kU8BlDkktlMpSwG8QrRVtflLAP1+zXDZ7UsDPnzaq03lSwDmc+dUcMVLAzVfJx+7ZUcDmlICYhNBRwAAAAAAAAPh/svUM4Zi9Y8C7fOvDeopewOBNt+wQdl7APX0E/vA2XsCi68IPzqRdwBno2hfQoV3A9YsS9BeVXcDRsYNKXJBdwBea6zTSh13ASS9q96t4XcBHOZhNgHZdwPKzkeumdF3A6fLmcK33W8AE6Pf9mwtYwBqmttRBRlfAS1gbYyevVsAaNsr6zY9WwKXY0TjUilbA3nTLDvF6VsARiq2gaWdWwIxNK4VAVVbA3Qn2X+f9VcAGIos08eZVwEbrqGqCtlXAMTffiO61VcDElbN3RpdVwF9FRgckbVXAP4178xtfVcA7Vb5nJFpVwKXZPA6DS1XAKNap8j0lVcDICKhwBBVVwC3qk9xhEVXAlR+4yhMAVcCqnPaUnPRUwF+X4T/d51TAe737473iVMCpwp/hzdtUwKt7ZHPVzlTA96+sNCm8VMAmui784KhUwIp3gCctl1TAt5xLcVV/VMDzH9JvX2tUwDvEP2zpQVTAhlRRvMoeVMAiG0gXmwRUwMr7OJojA1TAtp4hHLP4U8DSAN4CCfRTwMVLN4lB2FPAZvUOt0PPU8DYKyy4H75TwOxsyD8zuVPAbs1WXvKeU8CVuflGdHpTwInt7gG6QlPAbRyxFp8kU8BlDkktlMpSwG8QrRVtflLAP1+zXDZ7UsDPnzaq03lSwDmc+dUcMVLAzVfJx+7ZUcDmlICYhNBRwAAAAAAAAPh/svUM4Zi9Y8C7fOvDeopewOBNt+wQdl7APX0E/vA2XsCi68IPzqRdwBno2hfQoV3A9YsS9BeVXcDRsYNKXJBdwBea6zTSh13ASS9q96t4XcBHOZhNgHZdwPKzkeumdF3A6fLmcK33W8AE6Pf9mwtYwBqmttRBRlfAS1gbYyevVsAaNsr6zY9WwKXY0TjUilbA3nTLDvF6VsARiq2gaWdWwIxNK4VAVVbA3Qn2X+f9VcAGIos08eZVwEbrqGqCtlXAMTffiO61VcDElbN3RpdVwF9FRgckbVXAP4178xtfVcA7Vb5nJFpVwKXZPA6DS1XAKNap8j0lVcDICKhwBBVVwC3qk9xhEVXAlR+4yhMAVcCqnPaUnPRUwF+X4T/d51TAe737473iVMCpwp/hzdtUwKt7ZHPVzlTA96+sNCm8VMAmui784KhUwIp3gCctl1TAt5xLcVV/VMDzH9JvX2tUwDvEP2zpQVTAhlRRvMoeVMAiG0gXmwRUwMr7OJojA1TAtp4hHLP4U8DSAN4CCfRTwMVLN4lB2FPAZvUOt0PPU8DYKyy4H75TwOxsyD8zuVPAbs1WXvKeU8CVuflGdHpTwInt7gG6QlPAbRyxFp8kU8BlDkktlMpSwG8QrRVtflLAP1+zXDZ7UsDPnzaq03lSwDmc+dUcMVLAzVfJx+7ZUcDmlICYhNBRwAAAAAAAAPh/svUM4Zi9Y8C7fOvDeopewOBNt+wQdl7APX0E/vA2XsCi68IPzqRdwBno2hfQoV3A9YsS9BeVXcDRsYNKXJBdwBea6zTSh13ASS9q96t4XcBHOZhNgHZdwPKzkeumdF3A6fLmcK33W8AE6Pf9mwtYwBqmttRBRlfAS1gbYyevVsAaNsr6zY9WwKXY0TjUilbA3nTLDvF6VsARiq2gaWdWwIxNK4VAVVbA3Qn2X+f9VcAGIos08eZVwEbrqGqCtlXAMTffiO61VcDElbN3RpdVwF9FRgckbVXAP4178xtfVcA7Vb5nJFpVwKXZPA6DS1XAKNap8j0lVcDICKhwBBVVwC3qk9xhEVXAlR+4yhMAVcCqnPaUnPRUwF+X4T/d51TAe737473iVMCpwp/hzdtUwKt7ZHPVzlTA96+sNCm8VMAmui784KhUwIp3gCctl1TAt5xLcVV/VMDzH9JvX2tUwDvEP2zpQVTAhlRRvMoeVMAiG0gXmwRUwMr7OJojA1TAtp4hHLP4U8DSAN4CCfRTwMVLN4lB2FPAZvUOt0PPU8DYKyy4H75TwOxsyD8zuVPAbs1WXvKeU8CVuflGdHpTwInt7gG6QlPAbRyxFp8kU8BlDkktlMpSwG8QrRVtflLAP1+zXDZ7UsDPnzaq03lSwDmc+dUcMVLAzVfJx+7ZUcDmlICYhNBRwAAAAAAAAPh/svUM4Zi9Y8C7fOvDeopewOBNt+wQdl7APX0E/vA2XsCi68IPzqRdwBno2hfQoV3A9YsS9BeVXcDRsYNKXJBdwBea6zTSh13ASS9q96t4XcBHOZhNgHZdwPKzkeumdF3A6fLmcK33W8AE6Pf9mwtYwBqmttRBRlfAS1gbYyevVsAaNsr6zY9WwKXY0TjUilbA3nTLDvF6VsARiq2gaWdWwIxNK4VAVVbA3Qn2X+f9VcAGIos08eZVwEbrqGqCtlXAMTffiO61VcDElbN3RpdVwF9FRgckbVXAP4178xtfVcA7Vb5nJFpVwKXZPA6DS1XAKNap8j0lVcDICKhwBBVVwC3qk9xhEVXAlR+4yhMAVcCqnPaUnPRUwF+X4T/d51TAe737473iVMCpwp/hzdtUwKt7ZHPVzlTA96+sNCm8VMAmui784KhUwIp3gCctl1TAt5xLcVV/VMDzH9JvX2tUwDvEP2zpQVTAhlRRvMoeVMAiG0gXmwRUwMr7OJojA1TAtp4hHLP4U8DSAN4CCfRTwMVLN4lB2FPAZvUOt0PPU8DYKyy4H75TwOxsyD8zuVPAbs1WXvKeU8CVuflGdHpTwInt7gG6QlPAbRyxFp8kU8BlDkktlMpSwG8QrRVtflLAP1+zXDZ7UsDPnzaq03lSwDmc+dUcMVLAzVfJx+7ZUcDmlICYhNBRwAAAAAAAAPh/svUM4Zi9Y8C7fOvDeopewOBNt+wQdl7APX0E/vA2XsCi68IPzqRdwBno2hfQoV3A9YsS9BeVXcDRsYNKXJBdwBea6zTSh13ASS9q96t4XcBHOZhNgHZdwPKzkeumdF3A6fLmcK33W8AE6Pf9mwtYwBqmttRBRlfAS1gbYyevVsAaNsr6zY9WwKXY0TjUilbA3nTLDvF6VsARiq2gaWdWwIxNK4VAVVbA3Qn2X+f9VcAGIos08eZVwEbrqGqCtlXAMTffiO61VcDElbN3RpdVwF9FRgckbVXAP4178xtfVcA7Vb5nJFpVwKXZPA6DS1XAKNap8j0lVcDICKhwBBVVwC3qk9xhEVXAlR+4yhMAVcCqnPaUnPRUwF+X4T/d51TAe737473iVMCpwp/hzdtUwKt7ZHPVzlTA96+sNCm8VMAmui784KhUwIp3gCctl1TAt5xLcVV/VMDzH9JvX2tUwDvEP2zpQVTAhlRRvMoeVMAiG0gXmwRUwMr7OJojA1TAtp4hHLP4U8DSAN4CCfRTwMVLN4lB2FPAZvUOt0PPU8DYKyy4H75TwOxsyD8zuVPAbs1WXvKeU8CVuflGdHpTwInt7gG6QlPAbRyxFp8kU8BlDkktlMpSwG8QrRVtflLAP1+zXDZ7UsDPnzaq03lSwDmc+dUcMVLAzVfJx+7ZUcDmlICYhNBRwAAAAAAAAPh/svUM4Zi9Y8C7fOvDeopewOBNt+wQdl7APX0E/vA2XsCi68IPzqRdwBno2hfQoV3A9YsS9BeVXcDRsYNKXJBdwBea6zTSh13ASS9q96t4XcBHOZhNgHZdwPKzkeumdF3A6fLmcK33W8AE6Pf9mwtYwBqmttRBRlfAS1gbYyevVsAaNsr6zY9WwKXY0TjUilbA3nTLDvF6VsARiq2gaWdWwIxNK4VAVVbA3Qn2X+f9VcAGIos08eZVwEbrqGqCtlXAMTffiO61VcDElbN3RpdVwF9FRgckbVXAP4178xtfVcA7Vb5nJFpVwKXZPA6DS1XAKNap8j0lVcDICKhwBBVVwC3qk9xhEVXAlR+4yhMAVcCqnPaUnPRUwF+X4T/d51TAe737473iVMCpwp/hzdtUwKt7ZHPVzlTA96+sNCm8VMAmui784KhUwIp3gCctl1TAt5xLcVV/VMDzH9JvX2tUwDvEP2zpQVTAhlRRvMoeVMAiG0gXmwRUwMr7OJojA1TAtp4hHLP4U8DSAN4CCfRTwMVLN4lB2FPAZvUOt0PPU8DYKyy4H75TwOxsyD8zuVPAbs1WXvKeU8CVuflGdHpTwInt7gG6QlPAbRyxFp8kU8BlDkktlMpSwG8QrRVtflLAP1+zXDZ7UsDPnzaq03lSwDmc+dUcMVLAzVfJx+7ZUcDmlICYhNBRwAAAAAAAAPh/svUM4Zi9Y8C7fOvDeopewOBNt+wQdl7APX0E/vA2XsCi68IPzqRdwBno2hfQoV3A9YsS9BeVXcDRsYNKXJBdwBea6zTSh13ASS9q96t4XcBHOZhNgHZdwPKzkeumdF3A6fLmcK33W8AE6Pf9mwtYwBqmttRBRlfAS1gbYyevVsAaNsr6zY9WwKXY0TjUilbA3nTLDvF6VsARiq2gaWdWwIxNK4VAVVbA3Qn2X+f9VcAGIos08eZVwEbrqGqCtlXAMTffiO61VcDElbN3RpdVwF9FRgckbVXAP4178xtfVcA7Vb5nJFpVwKXZPA6DS1XAKNap8j0lVcDICKhwBBVVwC3qk9xhEVXAlR+4yhMAVcCqnPaUnPRUwF+X4T/d51TAe737473iVMCpwp/hzdtUwKt7ZHPVzlTA96+sNCm8VMAmui784KhUwIp3gCctl1TAt5xLcVV/VMDzH9JvX2tUwDvEP2zpQVTAhlRRvMoeVMAiG0gXmwRUwMr7OJojA1TAtp4hHLP4U8DSAN4CCfRTwMVLN4lB2FPAZvUOt0PPU8DYKyy4H75TwOxsyD8zuVPAbs1WXvKeU8CVuflGdHpTwInt7gG6QlPAbRyxFp8kU8BlDkktlMpSwG8QrRVtflLAP1+zXDZ7UsDPnzaq03lSwDmc+dUcMVLAzVfJx+7ZUcDmlICYhNBRwAAAAAAAAPh/svUM4Zi9Y8C7fOvDeopewOBNt+wQdl7APX0E/vA2XsCi68IPzqRdwBno2hfQoV3A9YsS9BeVXcDRsYNKXJBdwBea6zTSh13ASS9q96t4XcBHOZhNgHZdwPKzkeumdF3A6fLmcK33W8AE6Pf9mwtYwBqmttRBRlfAS1gbYyevVsAaNsr6zY9WwKXY0TjUilbA3nTLDvF6VsARiq2gaWdWwIxNK4VAVVbA3Qn2X+f9VcAGIos08eZVwEbrqGqCtlXAMTffiO61VcDElbN3RpdVwF9FRgckbVXAP4178xtfVcA7Vb5nJFpVwKXZPA6DS1XAKNap8j0lVcDICKhwBBVVwC3qk9xhEVXAlR+4yhMAVcCqnPaUnPRUwF+X4T/d51TAe737473iVMCpwp/hzdtUwKt7ZHPVzlTA96+sNCm8VMAmui784KhUwIp3gCctl1TAt5xLcVV/VMDzH9JvX2tUwDvEP2zpQVTAhlRRvMoeVMAiG0gXmwRUwMr7OJojA1TAtp4hHLP4U8DSAN4CCfRTwMVLN4lB2FPAZvUOt0PPU8DYKyy4H75TwOxsyD8zuVPAbs1WXvKeU8CVuflGdHpTwInt7gG6QlPAbRyxFp8kU8BlDkktlMpSwG8QrRVtflLAP1+zXDZ7UsDPnzaq03lSwDmc+dUcMVLAzVfJx+7ZUcDmlICYhNBRwAAAAAAAAPh/svUM4Zi9Y8C7fOvDeopewOBNt+wQdl7APX0E/vA2XsCi68IPzqRdwBno2hfQoV3A9YsS9BeVXcDRsYNKXJBdwBea6zTSh13ASS9q96t4XcBHOZhNgHZdwPKzkeumdF3A6fLmcK33W8AE6Pf9mwtYwBqmttRBRlfAS1gbYyevVsAaNsr6zY9WwKXY0TjUilbA3nTLDvF6VsARiq2gaWdWwIxNK4VAVVbA3Qn2X+f9VcAGIos08eZVwEbrqGqCtlXAMTffiO61VcDElbN3RpdVwF9FRgckbVXAP4178xtfVcA7Vb5nJFpVwKXZPA6DS1XAKNap8j0lVcDICKhwBBVVwC3qk9xhEVXAlR+4yhMAVcCqnPaUnPRUwF+X4T/d51TAe737473iVMCpwp/hzdtUwKt7ZHPVzlTA96+sNCm8VMAmui784KhUwIp3gCctl1TAt5xLcVV/VMDzH9JvX2tUwDvEP2zpQVTAhlRRvMoeVMAiG0gXmwRUwMr7OJojA1TAtp4hHLP4U8DSAN4CCfRTwMVLN4lB2FPAZvUOt0PPU8DYKyy4H75TwOxsyD8zuVPAbs1WXvKeU8CVuflGdHpTwInt7gG6QlPAbRyxFp8kU8BlDkktlMpSwG8QrRVtflLAP1+zXDZ7UsDPnzaq03lSwDmc+dUcMVLAzVfJx+7ZUcDmlICYhNBRwAAAAAAAAPh/svUM4Zi9Y8C7fOvDeopewOBNt+wQdl7APX0E/vA2XsCi68IPzqRdwBno2hfQoV3A9YsS9BeVXcDRsYNKXJBdwBea6zTSh13ASS9q96t4XcBHOZhNgHZdwPKzkeumdF3A6fLmcK33W8AE6Pf9mwtYwBqmttRBRlfAS1gbYyevVsAaNsr6zY9WwKXY0TjUilbA3nTLDvF6VsARiq2gaWdWwIxNK4VAVVbA3Qn2X+f9VcAGIos08eZVwEbrqGqCtlXAMTffiO61VcDElbN3RpdVwF9FRgckbVXAP4178xtfVcA7Vb5nJFpVwKXZPA6DS1XAKNap8j0lVcDICKhwBBVVwC3qk9xhEVXAlR+4yhMAVcCqnPaUnPRUwF+X4T/d51TAe737473iVMCpwp/hzdtUwKt7ZHPVzlTA96+sNCm8VMAmui784KhUwIp3gCctl1TAt5xLcVV/VMDzH9JvX2tUwDvEP2zpQVTAhlRRvMoeVMAiG0gXmwRUwMr7OJojA1TAtp4hHLP4U8DSAN4CCfRTwMVLN4lB2FPAZvUOt0PPU8DYKyy4H75TwOxsyD8zuVPAbs1WXvKeU8CVuflGdHpTwInt7gG6QlPAbRyxFp8kU8BlDkktlMpSwG8QrRVtflLAP1+zXDZ7UsDPnzaq03lSwDmc+dUcMVLAzVfJx+7ZUcDmlICYhNBRwAAAAAAAAPh/svUM4Zi9Y8C7fOvDeopewOBNt+wQdl7APX0E/vA2XsCi68IPzqRdwBno2hfQoV3A9YsS9BeVXcDRsYNKXJBdwBea6zTSh13ASS9q96t4XcBHOZhNgHZdwPKzkeumdF3A6fLmcK33W8AE6Pf9mwtYwBqmttRBRlfAS1gbYyevVsAaNsr6zY9WwKXY0TjUilbA3nTLDvF6VsARiq2gaWdWwIxNK4VAVVbA3Qn2X+f9VcAGIos08eZVwEbrqGqCtlXAMTffiO61VcDElbN3RpdVwF9FRgckbVXAP4178xtfVcA7Vb5nJFpVwKXZPA6DS1XAKNap8j0lVcDICKhwBBVVwC3qk9xhEVXAlR+4yhMAVcCqnPaUnPRUwF+X4T/d51TAe737473iVMCpwp/hzdtUwKt7ZHPVzlTA96+sNCm8VMAmui784KhUwIp3gCctl1TAt5xLcVV/VMDzH9JvX2tUwDvEP2zpQVTAhlRRvMoeVMAiG0gXmwRUwMr7OJojA1TAtp4hHLP4U8DSAN4CCfRTwMVLN4lB2FPAZvUOt0PPU8DYKyy4H75TwOxsyD8zuVPAbs1WXvKeU8CVuflGdHpTwInt7gG6QlPAbRyxFp8kU8BlDkktlMpSwG8QrRVtflLAP1+zXDZ7UsDPnzaq03lSwDmc+dUcMVLAzVfJx+7ZUcDmlICYhNBRwAAAAAAAAPh/svUM4Zi9Y8C7fOvDeopewOBNt+wQdl7APX0E/vA2XsCi68IPzqRdwBno2hfQoV3A9YsS9BeVXcDRsYNKXJBdwBea6zTSh13ASS9q96t4XcBHOZhNgHZdwPKzkeumdF3A6fLmcK33W8AE6Pf9mwtYwBqmttRBRlfAS1gbYyevVsAaNsr6zY9WwKXY0TjUilbA3nTLDvF6VsARiq2gaWdWwIxNK4VAVVbA3Qn2X+f9VcAGIos08eZVwEbrqGqCtlXAMTffiO61VcDElbN3RpdVwF9FRgckbVXAP4178xtfVcA7Vb5nJFpVwKXZPA6DS1XAKNap8j0lVcDICKhwBBVVwC3qk9xhEVXAlR+4yhMAVcCqnPaUnPRUwF+X4T/d51TAe737473iVMCpwp/hzdtUwKt7ZHPVzlTA96+sNCm8VMAmui784KhUwIp3gCctl1TAt5xLcVV/VMDzH9JvX2tUwDvEP2zpQVTAhlRRvMoeVMAiG0gXmwRUwMr7OJojA1TAtp4hHLP4U8DSAN4CCfRTwMVLN4lB2FPAZvUOt0PPU8DYKyy4H75TwOxsyD8zuVPAbs1WXvKeU8CVuflGdHpTwInt7gG6QlPAbRyxFp8kU8BlDkktlMpSwG8QrRVtflLAP1+zXDZ7UsDPnzaq03lSwDmc+dUcMVLAzVfJx+7ZUcDmlICYhNBRwAAAAAAAAPh/svUM4Zi9Y8C7fOvDeopewOBNt+wQdl7APX0E/vA2XsCi68IPzqRdwBno2hfQoV3A9YsS9BeVXcDRsYNKXJBdwBea6zTSh13ASS9q96t4XcBHOZhNgHZdwPKzkeumdF3A6fLmcK33W8AE6Pf9mwtYwBqmttRBRlfAS1gbYyevVsAaNsr6zY9WwKXY0TjUilbA3nTLDvF6VsARiq2gaWdWwIxNK4VAVVbA3Qn2X+f9VcAGIos08eZVwEbrqGqCtlXAMTffiO61VcDElbN3RpdVwF9FRgckbVXAP4178xtfVcA7Vb5nJFpVwKXZPA6DS1XAKNap8j0lVcDICKhwBBVVwC3qk9xhEVXAlR+4yhMAVcCqnPaUnPRUwF+X4T/d51TAe737473iVMCpwp/hzdtUwKt7ZHPVzlTA96+sNCm8VMAmui784KhUwIp3gCctl1TAt5xLcVV/VMDzH9JvX2tUwDvEP2zpQVTAhlRRvMoeVMAiG0gXmwRUwMr7OJojA1TAtp4hHLP4U8DSAN4CCfRTwMVLN4lB2FPAZvUOt0PPU8DYKyy4H75TwOxsyD8zuVPAbs1WXvKeU8CVuflGdHpTwInt7gG6QlPAbRyxFp8kU8BlDkktlMpSwG8QrRVtflLAP1+zXDZ7UsDPnzaq03lSwDmc+dUcMVLAzVfJx+7ZUcDmlICYhNBRwAAAAAAAAPh/svUM4Zi9Y8C7fOvDeopewOBNt+wQdl7APX0E/vA2XsCi68IPzqRdwBno2hfQoV3A9YsS9BeVXcDRsYNKXJBdwBea6zTSh13ASS9q96t4XcBHOZhNgHZdwPKzkeumdF3A6fLmcK33W8AE6Pf9mwtYwBqmttRBRlfAS1gbYyevVsAaNsr6zY9WwKXY0TjUilbA3nTLDvF6VsARiq2gaWdWwIxNK4VAVVbA3Qn2X+f9VcAGIos08eZVwEbrqGqCtlXAMTffiO61VcDElbN3RpdVwF9FRgckbVXAP4178xtfVcA7Vb5nJFpVwKXZPA6DS1XAKNap8j0lVcDICKhwBBVVwC3qk9xhEVXAlR+4yhMAVcCqnPaUnPRUwF+X4T/d51TAe737473iVMCpwp/hzdtUwKt7ZHPVzlTA96+sNCm8VMAmui784KhUwIp3gCctl1TAt5xLcVV/VMDzH9JvX2tUwDvEP2zpQVTAhlRRvMoeVMAiG0gXmwRUwMr7OJojA1TAtp4hHLP4U8DSAN4CCfRTwMVLN4lB2FPAZvUOt0PPU8DYKyy4H75TwOxsyD8zuVPAbs1WXvKeU8CVuflGdHpTwInt7gG6QlPAbRyxFp8kU8BlDkktlMpSwG8QrRVtflLAP1+zXDZ7UsDPnzaq03lSwDmc+dUcMVLAzVfJx+7ZUcDmlICYhNBRwAAAAAAAAPh/svUM4Zi9Y8C7fOvDeopewOBNt+wQdl7APX0E/vA2XsCi68IPzqRdwBno2hfQoV3A9YsS9BeVXcDRsYNKXJBdwBea6zTSh13ASS9q96t4XcBHOZhNgHZdwPKzkeumdF3A6fLmcK33W8AE6Pf9mwtYwBqmttRBRlfAS1gbYyevVsAaNsr6zY9WwKXY0TjUilbA3nTLDvF6VsARiq2gaWdWwIxNK4VAVVbA3Qn2X+f9VcAGIos08eZVwEbrqGqCtlXAMTffiO61VcDElbN3RpdVwF9FRgckbVXAP4178xtfVcA7Vb5nJFpVwKXZPA6DS1XAKNap8j0lVcDICKhwBBVVwC3qk9xhEVXAlR+4yhMAVcCqnPaUnPRUwF+X4T/d51TAe737473iVMCpwp/hzdtUwKt7ZHPVzlTA96+sNCm8VMAmui784KhUwIp3gCctl1TAt5xLcVV/VMDzH9JvX2tUwDvEP2zpQVTAhlRRvMoeVMAiG0gXmwRUwMr7OJojA1TAtp4hHLP4U8DSAN4CCfRTwMVLN4lB2FPAZvUOt0PPU8DYKyy4H75TwOxsyD8zuVPAbs1WXvKeU8CVuflGdHpTwInt7gG6QlPAbRyxFp8kU8BlDkktlMpSwG8QrRVtflLAP1+zXDZ7UsDPnzaq03lSwDmc+dUcMVLAzVfJx+7ZUcDmlICYhNBRwAAAAAAAAPh/svUM4Zi9Y8C7fOvDeopewOBNt+wQdl7APX0E/vA2XsCi68IPzqRdwBno2hfQoV3A9YsS9BeVXcDRsYNKXJBdwBea6zTSh13ASS9q96t4XcBHOZhNgHZdwPKzkeumdF3A6fLmcK33W8AE6Pf9mwtYwBqmttRBRlfAS1gbYyevVsAaNsr6zY9WwKXY0TjUilbA3nTLDvF6VsARiq2gaWdWwIxNK4VAVVbA3Qn2X+f9VcAGIos08eZVwEbrqGqCtlXAMTffiO61VcDElbN3RpdVwF9FRgckbVXAP4178xtfVcA7Vb5nJFpVwKXZPA6DS1XAKNap8j0lVcDICKhwBBVVwC3qk9xhEVXAlR+4yhMAVcCqnPaUnPRUwF+X4T/d51TAe737473iVMCpwp/hzdtUwKt7ZHPVzlTA96+sNCm8VMAmui784KhUwIp3gCctl1TAt5xLcVV/VMDzH9JvX2tUwDvEP2zpQVTAhlRRvMoeVMAiG0gXmwRUwMr7OJojA1TAtp4hHLP4U8DSAN4CCfRTwMVLN4lB2FPAZvUOt0PPU8DYKyy4H75TwOxsyD8zuVPAbs1WXvKeU8CVuflGdHpTwInt7gG6QlPAbRyxFp8kU8BlDkktlMpSwG8QrRVtflLAP1+zXDZ7UsDPnzaq03lSwDmc+dUcMVLAzVfJx+7ZUcDmlICYhNBRwAAAAAAAAPh/svUM4Zi9Y8C7fOvDeopewOBNt+wQdl7APX0E/vA2XsCi68IPzqRdwBno2hfQoV3A9YsS9BeVXcDRsYNKXJBdwBea6zTSh13ASS9q96t4XcBHOZhNgHZdwPKzkeumdF3A6fLmcK33W8AE6Pf9mwtYwBqmttRBRlfAS1gbYyevVsAaNsr6zY9WwKXY0TjUilbA3nTLDvF6VsARiq2gaWdWwIxNK4VAVVbA3Qn2X+f9VcAGIos08eZVwEbrqGqCtlXAMTffiO61VcDElbN3RpdVwF9FRgckbVXAP4178xtfVcA7Vb5nJFpVwKXZPA6DS1XAKNap8j0lVcDICKhwBBVVwC3qk9xhEVXAlR+4yhMAVcCqnPaUnPRUwF+X4T/d51TAe737473iVMCpwp/hzdtUwKt7ZHPVzlTA96+sNCm8VMAmui784KhUwIp3gCctl1TAt5xLcVV/VMDzH9JvX2tUwDvEP2zpQVTAhlRRvMoeVMAiG0gXmwRUwMr7OJojA1TAtp4hHLP4U8DSAN4CCfRTwMVLN4lB2FPAZvUOt0PPU8DYKyy4H75TwOxsyD8zuVPAbs1WXvKeU8CVuflGdHpTwInt7gG6QlPAbRyxFp8kU8BlDkktlMpSwG8QrRVtflLAP1+zXDZ7UsDPnzaq03lSwDmc+dUcMVLAzVfJx+7ZUcDmlICYhNBRwAAAAAAAAPh/svUM4Zi9Y8C7fOvDeopewOBNt+wQdl7APX0E/vA2XsCi68IPzqRdwBno2hfQoV3A9YsS9BeVXcDRsYNKXJBdwBea6zTSh13ASS9q96t4XcBHOZhNgHZdwPKzkeumdF3A6fLmcK33W8AE6Pf9mwtYwBqmttRBRlfAS1gbYyevVsAaNsr6zY9WwKXY0TjUilbA3nTLDvF6VsARiq2gaWdWwIxNK4VAVVbA3Qn2X+f9VcAGIos08eZVwEbrqGqCtlXAMTffiO61VcDElbN3RpdVwF9FRgckbVXAP4178xtfVcA7Vb5nJFpVwKXZPA6DS1XAKNap8j0lVcDICKhwBBVVwC3qk9xhEVXAlR+4yhMAVcCqnPaUnPRUwF+X4T/d51TAe737473iVMCpwp/hzdtUwKt7ZHPVzlTA96+sNCm8VMAmui784KhUwIp3gCctl1TAt5xLcVV/VMDzH9JvX2tUwDvEP2zpQVTAhlRRvMoeVMAiG0gXmwRUwMr7OJojA1TAtp4hHLP4U8DSAN4CCfRTwMVLN4lB2FPAZvUOt0PPU8DYKyy4H75TwOxsyD8zuVPAbs1WXvKeU8CVuflGdHpTwInt7gG6QlPAbRyxFp8kU8BlDkktlMpSwG8QrRVtflLAP1+zXDZ7UsDPnzaq03lSwDmc+dUcMVLAzVfJx+7ZUcDmlICYhNBRwAAAAAAAAPh/svUM4Zi9Y8C7fOvDeopewOBNt+wQdl7APX0E/vA2XsCi68IPzqRdwBno2hfQoV3A9YsS9BeVXcDRsYNKXJBdwBea6zTSh13ASS9q96t4XcBHOZhNgHZdwPKzkeumdF3A6fLmcK33W8AE6Pf9mwtYwBqmttRBRlfAS1gbYyevVsAaNsr6zY9WwKXY0TjUilbA3nTLDvF6VsARiq2gaWdWwIxNK4VAVVbA3Qn2X+f9VcAGIos08eZVwEbrqGqCtlXAMTffiO61VcDElbN3RpdVwF9FRgckbVXAP4178xtfVcA7Vb5nJFpVwKXZPA6DS1XAKNap8j0lVcDICKhwBBVVwC3qk9xhEVXAlR+4yhMAVcCqnPaUnPRUwF+X4T/d51TAe737473iVMCpwp/hzdtUwKt7ZHPVzlTA96+sNCm8VMAmui784KhUwIp3gCctl1TAt5xLcVV/VMDzH9JvX2tUwDvEP2zpQVTAhlRRvMoeVMAiG0gXmwRUwMr7OJojA1TAtp4hHLP4U8DSAN4CCfRTwMVLN4lB2FPAZvUOt0PPU8DYKyy4H75TwOxsyD8zuVPAbs1WXvKeU8CVuflGdHpTwInt7gG6QlPAbRyxFp8kU8BlDkktlMpSwG8QrRVtflLAP1+zXDZ7UsDPnzaq03lSwDmc+dUcMVLAzVfJx+7ZUcDmlICYhNBRwAAAAAAAAPh/svUM4Zi9Y8C7fOvDeopewOBNt+wQdl7APX0E/vA2XsCi68IPzqRdwBno2hfQoV3A9YsS9BeVXcDRsYNKXJBdwBea6zTSh13ASS9q96t4XcBHOZhNgHZdwPKzkeumdF3A6fLmcK33W8AE6Pf9mwtYwBqmttRBRlfAS1gbYyevVsAaNsr6zY9WwKXY0TjUilbA3nTLDvF6VsARiq2gaWdWwIxNK4VAVVbA3Qn2X+f9VcAGIos08eZVwEbrqGqCtlXAMTffiO61VcDElbN3RpdVwF9FRgckbVXAP4178xtfVcA7Vb5nJFpVwKXZPA6DS1XAKNap8j0lVcDICKhwBBVVwC3qk9xhEVXAlR+4yhMAVcCqnPaUnPRUwF+X4T/d51TAe737473iVMCpwp/hzdtUwKt7ZHPVzlTA96+sNCm8VMAmui784KhUwIp3gCctl1TAt5xLcVV/VMDzH9JvX2tUwDvEP2zpQVTAhlRRvMoeVMAiG0gXmwRUwMr7OJojA1TAtp4hHLP4U8DSAN4CCfRTwMVLN4lB2FPAZvUOt0PPU8DYKyy4H75TwOxsyD8zuVPAbs1WXvKeU8CVuflGdHpTwInt7gG6QlPAbRyxFp8kU8BlDkktlMpSwG8QrRVtflLAP1+zXDZ7UsDPnzaq03lSwDmc+dUcMVLAzVfJx+7ZUcDmlICYhNBRwAAAAAAAAPh/svUM4Zi9Y8C7fOvDeopewOBNt+wQdl7APX0E/vA2XsCi68IPzqRdwBno2hfQoV3A9YsS9BeVXcDRsYNKXJBdwBea6zTSh13ASS9q96t4XcBHOZhNgHZdwPKzkeumdF3A6fLmcK33W8AE6Pf9mwtYwBqmttRBRlfAS1gbYyevVsAaNsr6zY9WwKXY0TjUilbA3nTLDvF6VsARiq2gaWdWwIxNK4VAVVbA3Qn2X+f9VcAGIos08eZVwEbrqGqCtlXAMTffiO61VcDElbN3RpdVwF9FRgckbVXAP4178xtfVcA7Vb5nJFpVwKXZPA6DS1XAKNap8j0lVcDICKhwBBVVwC3qk9xhEVXAlR+4yhMAVcCqnPaUnPRUwF+X4T/d51TAe737473iVMCpwp/hzdtUwKt7ZHPVzlTA96+sNCm8VMAmui784KhUwIp3gCctl1TAt5xLcVV/VMDzH9JvX2tUwDvEP2zpQVTAhlRRvMoeVMAiG0gXmwRUwMr7OJojA1TAtp4hHLP4U8DSAN4CCfRTwMVLN4lB2FPAZvUOt0PPU8DYKyy4H75TwOxsyD8zuVPAbs1WXvKeU8CVuflGdHpTwInt7gG6QlPAbRyxFp8kU8BlDkktlMpSwG8QrRVtflLAP1+zXDZ7UsDPnzaq03lSwDmc+dUcMVLAzVfJx+7ZUcDmlICYhNBRwAAAAAAAAPh/svUM4Zi9Y8C7fOvDeopewOBNt+wQdl7APX0E/vA2XsCi68IPzqRdwBno2hfQoV3A9YsS9BeVXcDRsYNKXJBdwBea6zTSh13ASS9q96t4XcBHOZhNgHZdwPKzkeumdF3A6fLmcK33W8AE6Pf9mwtYwBqmttRBRlfAS1gbYyevVsAaNsr6zY9WwKXY0TjUilbA3nTLDvF6VsARiq2gaWdWwIxNK4VAVVbA3Qn2X+f9VcAGIos08eZVwEbrqGqCtlXAMTffiO61VcDElbN3RpdVwF9FRgckbVXAP4178xtfVcA7Vb5nJFpVwKXZPA6DS1XAKNap8j0lVcDICKhwBBVVwC3qk9xhEVXAlR+4yhMAVcCqnPaUnPRUwF+X4T/d51TAe737473iVMCpwp/hzdtUwKt7ZHPVzlTA96+sNCm8VMAmui784KhUwIp3gCctl1TAt5xLcVV/VMDzH9JvX2tUwDvEP2zpQVTAhlRRvMoeVMAiG0gXmwRUwMr7OJojA1TAtp4hHLP4U8DSAN4CCfRTwMVLN4lB2FPAZvUOt0PPU8DYKyy4H75TwOxsyD8zuVPAbs1WXvKeU8CVuflGdHpTwInt7gG6QlPAbRyxFp8kU8BlDkktlMpSwG8QrRVtflLAP1+zXDZ7UsDPnzaq03lSwDmc+dUcMVLAzVfJx+7ZUcDmlICYhNBRwAAAAAAAAPh/svUM4Zi9Y8C7fOvDeopewOBNt+wQdl7APX0E/vA2XsCi68IPzqRdwBno2hfQoV3A9YsS9BeVXcDRsYNKXJBdwBea6zTSh13ASS9q96t4XcBHOZhNgHZdwPKzkeumdF3A6fLmcK33W8AE6Pf9mwtYwBqmttRBRlfAS1gbYyevVsAaNsr6zY9WwKXY0TjUilbA3nTLDvF6VsARiq2gaWdWwIxNK4VAVVbA3Qn2X+f9VcAGIos08eZVwEbrqGqCtlXAMTffiO61VcDElbN3RpdVwF9FRgckbVXAP4178xtfVcA7Vb5nJFpVwKXZPA6DS1XAKNap8j0lVcDICKhwBBVVwC3qk9xhEVXAlR+4yhMAVcCqnPaUnPRUwF+X4T/d51TAe737473iVMCpwp/hzdtUwKt7ZHPVzlTA96+sNCm8VMAmui784KhUwIp3gCctl1TAt5xLcVV/VMDzH9JvX2tUwDvEP2zpQVTAhlRRvMoeVMAiG0gXmwRUwMr7OJojA1TAtp4hHLP4U8DSAN4CCfRTwMVLN4lB2FPAZvUOt0PPU8DYKyy4H75TwOxsyD8zuVPAbs1WXvKeU8CVuflGdHpTwInt7gG6QlPAbRyxFp8kU8BlDkktlMpSwG8QrRVtflLAP1+zXDZ7UsDPnzaq03lSwDmc+dUcMVLAzVfJx+7ZUcDmlICYhNBRwAAAAAAAAPh/svUM4Zi9Y8C7fOvDeopewOBNt+wQdl7APX0E/vA2XsCi68IPzqRdwBno2hfQoV3A9YsS9BeVXcDRsYNKXJBdwBea6zTSh13ASS9q96t4XcBHOZhNgHZdwPKzkeumdF3A6fLmcK33W8AE6Pf9mwtYwBqmttRBRlfAS1gbYyevVsAaNsr6zY9WwKXY0TjUilbA3nTLDvF6VsARiq2gaWdWwIxNK4VAVVbA3Qn2X+f9VcAGIos08eZVwEbrqGqCtlXAMTffiO61VcDElbN3RpdVwF9FRgckbVXAP4178xtfVcA7Vb5nJFpVwKXZPA6DS1XAKNap8j0lVcDICKhwBBVVwC3qk9xhEVXAlR+4yhMAVcCqnPaUnPRUwF+X4T/d51TAe737473iVMCpwp/hzdtUwKt7ZHPVzlTA96+sNCm8VMAmui784KhUwIp3gCctl1TAt5xLcVV/VMDzH9JvX2tUwDvEP2zpQVTAhlRRvMoeVMAiG0gXmwRUwMr7OJojA1TAtp4hHLP4U8DSAN4CCfRTwMVLN4lB2FPAZvUOt0PPU8DYKyy4H75TwOxsyD8zuVPAbs1WXvKeU8CVuflGdHpTwInt7gG6QlPAbRyxFp8kU8BlDkktlMpSwG8QrRVtflLAP1+zXDZ7UsDPnzaq03lSwDmc+dUcMVLAzVfJx+7ZUcDmlICYhNBRwAAAAAAAAPh/svUM4Zi9Y8C7fOvDeopewOBNt+wQdl7APX0E/vA2XsCi68IPzqRdwBno2hfQoV3A9YsS9BeVXcDRsYNKXJBdwBea6zTSh13ASS9q96t4XcBHOZhNgHZdwPKzkeumdF3A6fLmcK33W8AE6Pf9mwtYwBqmttRBRlfAS1gbYyevVsAaNsr6zY9WwKXY0TjUilbA3nTLDvF6VsARiq2gaWdWwIxNK4VAVVbA3Qn2X+f9VcAGIos08eZVwEbrqGqCtlXAMTffiO61VcDElbN3RpdVwF9FRgckbVXAP4178xtfVcA7Vb5nJFpVwKXZPA6DS1XAKNap8j0lVcDICKhwBBVVwC3qk9xhEVXAlR+4yhMAVcCqnPaUnPRUwF+X4T/d51TAe737473iVMCpwp/hzdtUwKt7ZHPVzlTA96+sNCm8VMAmui784KhUwIp3gCctl1TAt5xLcVV/VMDzH9JvX2tUwDvEP2zpQVTAhlRRvMoeVMAiG0gXmwRUwMr7OJojA1TAtp4hHLP4U8DSAN4CCfRTwMVLN4lB2FPAZvUOt0PPU8DYKyy4H75TwOxsyD8zuVPAbs1WXvKeU8CVuflGdHpTwInt7gG6QlPAbRyxFp8kU8BlDkktlMpSwG8QrRVtflLAP1+zXDZ7UsDPnzaq03lSwDmc+dUcMVLAzVfJx+7ZUcDmlICYhNBRwAAAAAAAAPh/svUM4Zi9Y8C7fOvDeopewOBNt+wQdl7APX0E/vA2XsCi68IPzqRdwBno2hfQoV3A9YsS9BeVXcDRsYNKXJBdwBea6zTSh13ASS9q96t4XcBHOZhNgHZdwPKzkeumdF3A6fLmcK33W8AE6Pf9mwtYwBqmttRBRlfAS1gbYyevVsAaNsr6zY9WwKXY0TjUilbA3nTLDvF6VsARiq2gaWdWwIxNK4VAVVbA3Qn2X+f9VcAGIos08eZVwEbrqGqCtlXAMTffiO61VcDElbN3RpdVwF9FRgckbVXAP4178xtfVcA7Vb5nJFpVwKXZPA6DS1XAKNap8j0lVcDICKhwBBVVwC3qk9xhEVXAlR+4yhMAVcCqnPaUnPRUwF+X4T/d51TAe737473iVMCpwp/hzdtUwKt7ZHPVzlTA96+sNCm8VMAmui784KhUwIp3gCctl1TAt5xLcVV/VMDzH9JvX2tUwDvEP2zpQVTAhlRRvMoeVMAiG0gXmwRUwMr7OJojA1TAtp4hHLP4U8DSAN4CCfRTwMVLN4lB2FPAZvUOt0PPU8DYKyy4H75TwOxsyD8zuVPAbs1WXvKeU8CVuflGdHpTwInt7gG6QlPAbRyxFp8kU8BlDkktlMpSwG8QrRVtflLAP1+zXDZ7UsDPnzaq03lSwDmc+dUcMVLAzVfJx+7ZUcDmlICYhNBRwAAAAAAAAPh/svUM4Zi9Y8C7fOvDeopewOBNt+wQdl7APX0E/vA2XsCi68IPzqRdwBno2hfQoV3A9YsS9BeVXcDRsYNKXJBdwBea6zTSh13ASS9q96t4XcBHOZhNgHZdwPKzkeumdF3A6fLmcK33W8AE6Pf9mwtYwBqmttRBRlfAS1gbYyevVsAaNsr6zY9WwKXY0TjUilbA3nTLDvF6VsARiq2gaWdWwIxNK4VAVVbA3Qn2X+f9VcAGIos08eZVwEbrqGqCtlXAMTffiO61VcDElbN3RpdVwF9FRgckbVXAP4178xtfVcA7Vb5nJFpVwKXZPA6DS1XAKNap8j0lVcDICKhwBBVVwC3qk9xhEVXAlR+4yhMAVcCqnPaUnPRUwF+X4T/d51TAe737473iVMCpwp/hzdtUwKt7ZHPVzlTA96+sNCm8VMAmui784KhUwIp3gCctl1TAt5xLcVV/VMDzH9JvX2tUwDvEP2zpQVTAhlRRvMoeVMAiG0gXmwRUwMr7OJojA1TAtp4hHLP4U8DSAN4CCfRTwMVLN4lB2FPAZvUOt0PPU8DYKyy4H75TwOxsyD8zuVPAbs1WXvKeU8CVuflGdHpTwInt7gG6QlPAbRyxFp8kU8BlDkktlMpSwG8QrRVtflLAP1+zXDZ7UsDPnzaq03lSwDmc+dUcMVLAzVfJx+7ZUcDmlICYhNBRwAAAAAAAAPh/svUM4Zi9Y8C7fOvDeopewOBNt+wQdl7APX0E/vA2XsCi68IPzqRdwBno2hfQoV3A9YsS9BeVXcDRsYNKXJBdwBea6zTSh13ASS9q96t4XcBHOZhNgHZdwPKzkeumdF3A6fLmcK33W8AE6Pf9mwtYwBqmttRBRlfAS1gbYyevVsAaNsr6zY9WwKXY0TjUilbA3nTLDvF6VsARiq2gaWdWwIxNK4VAVVbA3Qn2X+f9VcAGIos08eZVwEbrqGqCtlXAMTffiO61VcDElbN3RpdVwF9FRgckbVXAP4178xtfVcA7Vb5nJFpVwKXZPA6DS1XAKNap8j0lVcDICKhwBBVVwC3qk9xhEVXAlR+4yhMAVcCqnPaUnPRUwF+X4T/d51TAe737473iVMCpwp/hzdtUwKt7ZHPVzlTA96+sNCm8VMAmui784KhUwIp3gCctl1TAt5xLcVV/VMDzH9JvX2tUwDvEP2zpQVTAhlRRvMoeVMAiG0gXmwRUwMr7OJojA1TAtp4hHLP4U8DSAN4CCfRTwMVLN4lB2FPAZvUOt0PPU8DYKyy4H75TwOxsyD8zuVPAbs1WXvKeU8CVuflGdHpTwInt7gG6QlPAbRyxFp8kU8BlDkktlMpSwG8QrRVtflLAP1+zXDZ7UsDPnzaq03lSwDmc+dUcMVLAzVfJx+7ZUcDmlICYhNBRwAAAAAAAAPh/svUM4Zi9Y8C7fOvDeopewOBNt+wQdl7APX0E/vA2XsCi68IPzqRdwBno2hfQoV3A9YsS9BeVXcDRsYNKXJBdwBea6zTSh13ASS9q96t4XcBHOZhNgHZdwPKzkeumdF3A6fLmcK33W8AE6Pf9mwtYwBqmttRBRlfAS1gbYyevVsAaNsr6zY9WwKXY0TjUilbA3nTLDvF6VsARiq2gaWdWwIxNK4VAVVbA3Qn2X+f9VcAGIos08eZVwEbrqGqCtlXAMTffiO61VcDElbN3RpdVwF9FRgckbVXAP4178xtfVcA7Vb5nJFpVwKXZPA6DS1XAKNap8j0lVcDICKhwBBVVwC3qk9xhEVXAlR+4yhMAVcCqnPaUnPRUwF+X4T/d51TAe737473iVMCpwp/hzdtUwKt7ZHPVzlTA96+sNCm8VMAmui784KhUwIp3gCctl1TAt5xLcVV/VMDzH9JvX2tUwDvEP2zpQVTAhlRRvMoeVMAiG0gXmwRUwMr7OJojA1TAtp4hHLP4U8DSAN4CCfRTwMVLN4lB2FPAZvUOt0PPU8DYKyy4H75TwOxsyD8zuVPAbs1WXvKeU8CVuflGdHpTwInt7gG6QlPAbRyxFp8kU8BlDkktlMpSwG8QrRVtflLAP1+zXDZ7UsDPnzaq03lSwDmc+dUcMVLAzVfJx+7ZUcDmlICYhNBRwAAAAAAAAPh/svUM4Zi9Y8C7fOvDeopewOBNt+wQdl7APX0E/vA2XsCi68IPzqRdwBno2hfQoV3A9YsS9BeVXcDRsYNKXJBdwBea6zTSh13ASS9q96t4XcBHOZhNgHZdwPKzkeumdF3A6fLmcK33W8AE6Pf9mwtYwBqmttRBRlfAS1gbYyevVsAaNsr6zY9WwKXY0TjUilbA3nTLDvF6VsARiq2gaWdWwIxNK4VAVVbA3Qn2X+f9VcAGIos08eZVwEbrqGqCtlXAMTffiO61VcDElbN3RpdVwF9FRgckbVXAP4178xtfVcA7Vb5nJFpVwKXZPA6DS1XAKNap8j0lVcDICKhwBBVVwC3qk9xhEVXAlR+4yhMAVcCqnPaUnPRUwF+X4T/d51TAe737473iVMCpwp/hzdtUwKt7ZHPVzlTA96+sNCm8VMAmui784KhUwIp3gCctl1TAt5xLcVV/VMDzH9JvX2tUwDvEP2zpQVTAhlRRvMoeVMAiG0gXmwRUwMr7OJojA1TAtp4hHLP4U8DSAN4CCfRTwMVLN4lB2FPAZvUOt0PPU8DYKyy4H75TwOxsyD8zuVPAbs1WXvKeU8CVuflGdHpTwInt7gG6QlPAbRyxFp8kU8BlDkktlMpSwG8QrRVtflLAP1+zXDZ7UsDPnzaq03lSwDmc+dUcMVLAzVfJx+7ZUcDmlICYhNBRwAAAAAAAAPh/svUM4Zi9Y8C7fOvDeopewOBNt+wQdl7APX0E/vA2XsCi68IPzqRdwBno2hfQoV3A9YsS9BeVXcDRsYNKXJBdwBea6zTSh13ASS9q96t4XcBHOZhNgHZdwPKzkeumdF3A6fLmcK33W8AE6Pf9mwtYwBqmttRBRlfAS1gbYyevVsAaNsr6zY9WwKXY0TjUilbA3nTLDvF6VsARiq2gaWdWwIxNK4VAVVbA3Qn2X+f9VcAGIos08eZVwEbrqGqCtlXAMTffiO61VcDElbN3RpdVwF9FRgckbVXAP4178xtfVcA7Vb5nJFpVwKXZPA6DS1XAKNap8j0lVcDICKhwBBVVwC3qk9xhEVXAlR+4yhMAVcCqnPaUnPRUwF+X4T/d51TAe737473iVMCpwp/hzdtUwKt7ZHPVzlTA96+sNCm8VMAmui784KhUwIp3gCctl1TAt5xLcVV/VMDzH9JvX2tUwDvEP2zpQVTAhlRRvMoeVMAiG0gXmwRUwMr7OJojA1TAtp4hHLP4U8DSAN4CCfRTwMVLN4lB2FPAZvUOt0PPU8DYKyy4H75TwOxsyD8zuVPAbs1WXvKeU8CVuflGdHpTwInt7gG6QlPAbRyxFp8kU8BlDkktlMpSwG8QrRVtflLAP1+zXDZ7UsDPnzaq03lSwDmc+dUcMVLAzVfJx+7ZUcDmlICYhNBRwAAAAAAAAPh/svUM4Zi9Y8C7fOvDeopewOBNt+wQdl7APX0E/vA2XsCi68IPzqRdwBno2hfQoV3A9YsS9BeVXcDRsYNKXJBdwBea6zTSh13ASS9q96t4XcBHOZhNgHZdwPKzkeumdF3A6fLmcK33W8AE6Pf9mwtYwBqmttRBRlfAS1gbYyevVsAaNsr6zY9WwKXY0TjUilbA3nTLDvF6VsARiq2gaWdWwIxNK4VAVVbA3Qn2X+f9VcAGIos08eZVwEbrqGqCtlXAMTffiO61VcDElbN3RpdVwF9FRgckbVXAP4178xtfVcA7Vb5nJFpVwKXZPA6DS1XAKNap8j0lVcDICKhwBBVVwC3qk9xhEVXAlR+4yhMAVcCqnPaUnPRUwF+X4T/d51TAe737473iVMCpwp/hzdtUwKt7ZHPVzlTA96+sNCm8VMAmui784KhUwIp3gCctl1TAt5xLcVV/VMDzH9JvX2tUwDvEP2zpQVTAhlRRvMoeVMAiG0gXmwRUwMr7OJojA1TAtp4hHLP4U8DSAN4CCfRTwMVLN4lB2FPAZvUOt0PPU8DYKyy4H75TwOxsyD8zuVPAbs1WXvKeU8CVuflGdHpTwInt7gG6QlPAbRyxFp8kU8BlDkktlMpSwG8QrRVtflLAP1+zXDZ7UsDPnzaq03lSwDmc+dUcMVLAzVfJx+7ZUcDmlICYhNBRwAAAAAAAAPh/svUM4Zi9Y8C7fOvDeopewOBNt+wQdl7APX0E/vA2XsCi68IPzqRdwBno2hfQoV3A9YsS9BeVXcDRsYNKXJBdwBea6zTSh13ASS9q96t4XcBHOZhNgHZdwPKzkeumdF3A6fLmcK33W8AE6Pf9mwtYwBqmttRBRlfAS1gbYyevVsAaNsr6zY9WwKXY0TjUilbA3nTLDvF6VsARiq2gaWdWwIxNK4VAVVbA3Qn2X+f9VcAGIos08eZVwEbrqGqCtlXAMTffiO61VcDElbN3RpdVwF9FRgckbVXAP4178xtfVcA7Vb5nJFpVwKXZPA6DS1XAKNap8j0lVcDICKhwBBVVwC3qk9xhEVXAlR+4yhMAVcCqnPaUnPRUwF+X4T/d51TAe737473iVMCpwp/hzdtUwKt7ZHPVzlTA96+sNCm8VMAmui784KhUwIp3gCctl1TAt5xLcVV/VMDzH9JvX2tUwDvEP2zpQVTAhlRRvMoeVMAiG0gXmwRUwMr7OJojA1TAtp4hHLP4U8DSAN4CCfRTwMVLN4lB2FPAZvUOt0PPU8DYKyy4H75TwOxsyD8zuVPAbs1WXvKeU8CVuflGdHpTwInt7gG6QlPAbRyxFp8kU8BlDkktlMpSwG8QrRVtflLAP1+zXDZ7UsDPnzaq03lSwDmc+dUcMVLAzVfJx+7ZUcDmlICYhNBRwAAAAAAAAPh/svUM4Zi9Y8C7fOvDeopewOBNt+wQdl7APX0E/vA2XsCi68IPzqRdwBno2hfQoV3A9YsS9BeVXcDRsYNKXJBdwBea6zTSh13ASS9q96t4XcBHOZhNgHZdwPKzkeumdF3A6fLmcK33W8AE6Pf9mwtYwBqmttRBRlfAS1gbYyevVsAaNsr6zY9WwKXY0TjUilbA3nTLDvF6VsARiq2gaWdWwIxNK4VAVVbA3Qn2X+f9VcAGIos08eZVwEbrqGqCtlXAMTffiO61VcDElbN3RpdVwF9FRgckbVXAP4178xtfVcA7Vb5nJFpVwKXZPA6DS1XAKNap8j0lVcDICKhwBBVVwC3qk9xhEVXAlR+4yhMAVcCqnPaUnPRUwF+X4T/d51TAe737473iVMCpwp/hzdtUwKt7ZHPVzlTA96+sNCm8VMAmui784KhUwIp3gCctl1TAt5xLcVV/VMDzH9JvX2tUwDvEP2zpQVTAhlRRvMoeVMAiG0gXmwRUwMr7OJojA1TAtp4hHLP4U8DSAN4CCfRTwMVLN4lB2FPAZvUOt0PPU8DYKyy4H75TwOxsyD8zuVPAbs1WXvKeU8CVuflGdHpTwInt7gG6QlPAbRyxFp8kU8BlDkktlMpSwG8QrRVtflLAP1+zXDZ7UsDPnzaq03lSwDmc+dUcMVLAzVfJx+7ZUcDmlICYhNBRwAAAAAAAAPh/svUM4Zi9Y8C7fOvDeopewOBNt+wQdl7APX0E/vA2XsCi68IPzqRdwBno2hfQoV3A9YsS9BeVXcDRsYNKXJBdwBea6zTSh13ASS9q96t4XcBHOZhNgHZdwPKzkeumdF3A6fLmcK33W8AE6Pf9mwtYwBqmttRBRlfAS1gbYyevVsAaNsr6zY9WwKXY0TjUilbA3nTLDvF6VsARiq2gaWdWwIxNK4VAVVbA3Qn2X+f9VcAGIos08eZVwEbrqGqCtlXAMTffiO61VcDElbN3RpdVwF9FRgckbVXAP4178xtfVcA7Vb5nJFpVwKXZPA6DS1XAKNap8j0lVcDICKhwBBVVwC3qk9xhEVXAlR+4yhMAVcCqnPaUnPRUwF+X4T/d51TAe737473iVMCpwp/hzdtUwKt7ZHPVzlTA96+sNCm8VMAmui784KhUwIp3gCctl1TAt5xLcVV/VMDzH9JvX2tUwDvEP2zpQVTAhlRRvMoeVMAiG0gXmwRUwMr7OJojA1TAtp4hHLP4U8DSAN4CCfRTwMVLN4lB2FPAZvUOt0PPU8DYKyy4H75TwOxsyD8zuVPAbs1WXvKeU8CVuflGdHpTwInt7gG6QlPAbRyxFp8kU8BlDkktlMpSwG8QrRVtflLAP1+zXDZ7UsDPnzaq03lSwDmc+dUcMVLAzVfJx+7ZUcDmlICYhNBRwAAAAAAAAPh/svUM4Zi9Y8C7fOvDeopewOBNt+wQdl7APX0E/vA2XsCi68IPzqRdwBno2hfQoV3A9YsS9BeVXcDRsYNKXJBdwBea6zTSh13ASS9q96t4XcBHOZhNgHZdwPKzkeumdF3A6fLmcK33W8AE6Pf9mwtYwBqmttRBRlfAS1gbYyevVsAaNsr6zY9WwKXY0TjUilbA3nTLDvF6VsARiq2gaWdWwIxNK4VAVVbA3Qn2X+f9VcAGIos08eZVwEbrqGqCtlXAMTffiO61VcDElbN3RpdVwF9FRgckbVXAP4178xtfVcA7Vb5nJFpVwKXZPA6DS1XAKNap8j0lVcDICKhwBBVVwC3qk9xhEVXAlR+4yhMAVcCqnPaUnPRUwF+X4T/d51TAe737473iVMCpwp/hzdtUwKt7ZHPVzlTA96+sNCm8VMAmui784KhUwIp3gCctl1TAt5xLcVV/VMDzH9JvX2tUwDvEP2zpQVTAhlRRvMoeVMAiG0gXmwRUwMr7OJojA1TAtp4hHLP4U8DSAN4CCfRTwMVLN4lB2FPAZvUOt0PPU8DYKyy4H75TwOxsyD8zuVPAbs1WXvKeU8CVuflGdHpTwInt7gG6QlPAbRyxFp8kU8BlDkktlMpSwG8QrRVtflLAP1+zXDZ7UsDPnzaq03lSwDmc+dUcMVLAzVfJx+7ZUcDmlICYhNBRwAAAAAAAAPh/svUM4Zi9Y8C7fOvDeopewOBNt+wQdl7APX0E/vA2XsCi68IPzqRdwBno2hfQoV3A9YsS9BeVXcDRsYNKXJBdwBea6zTSh13ASS9q96t4XcBHOZhNgHZdwPKzkeumdF3A6fLmcK33W8AE6Pf9mwtYwBqmttRBRlfAS1gbYyevVsAaNsr6zY9WwKXY0TjUilbA3nTLDvF6VsARiq2gaWdWwIxNK4VAVVbA3Qn2X+f9VcAGIos08eZVwEbrqGqCtlXAMTffiO61VcDElbN3RpdVwF9FRgckbVXAP4178xtfVcA7Vb5nJFpVwKXZPA6DS1XAKNap8j0lVcDICKhwBBVVwC3qk9xhEVXAlR+4yhMAVcCqnPaUnPRUwF+X4T/d51TAe737473iVMCpwp/hzdtUwKt7ZHPVzlTA96+sNCm8VMAmui784KhUwIp3gCctl1TAt5xLcVV/VMDzH9JvX2tUwDvEP2zpQVTAhlRRvMoeVMAiG0gXmwRUwMr7OJojA1TAtp4hHLP4U8DSAN4CCfRTwMVLN4lB2FPAZvUOt0PPU8DYKyy4H75TwOxsyD8zuVPAbs1WXvKeU8CVuflGdHpTwInt7gG6QlPAbRyxFp8kU8BlDkktlMpSwG8QrRVtflLAP1+zXDZ7UsDPnzaq03lSwDmc+dUcMVLAzVfJx+7ZUcDmlICYhNBRwAAAAAAAAPh/svUM4Zi9Y8C7fOvDeopewOBNt+wQdl7APX0E/vA2XsCi68IPzqRdwBno2hfQoV3A9YsS9BeVXcDRsYNKXJBdwBea6zTSh13ASS9q96t4XcBHOZhNgHZdwPKzkeumdF3A6fLmcK33W8AE6Pf9mwtYwBqmttRBRlfAS1gbYyevVsAaNsr6zY9WwKXY0TjUilbA3nTLDvF6VsARiq2gaWdWwIxNK4VAVVbA3Qn2X+f9VcAGIos08eZVwEbrqGqCtlXAMTffiO61VcDElbN3RpdVwF9FRgckbVXAP4178xtfVcA7Vb5nJFpVwKXZPA6DS1XAKNap8j0lVcDICKhwBBVVwC3qk9xhEVXAlR+4yhMAVcCqnPaUnPRUwF+X4T/d51TAe737473iVMCpwp/hzdtUwKt7ZHPVzlTA96+sNCm8VMAmui784KhUwIp3gCctl1TAt5xLcVV/VMDzH9JvX2tUwDvEP2zpQVTAhlRRvMoeVMAiG0gXmwRUwMr7OJojA1TAtp4hHLP4U8DSAN4CCfRTwMVLN4lB2FPAZvUOt0PPU8DYKyy4H75TwOxsyD8zuVPAbs1WXvKeU8CVuflGdHpTwInt7gG6QlPAbRyxFp8kU8BlDkktlMpSwG8QrRVtflLAP1+zXDZ7UsDPnzaq03lSwDmc+dUcMVLAzVfJx+7ZUcDmlICYhNBRwAAAAAAAAPh/svUM4Zi9Y8C7fOvDeopewOBNt+wQdl7APX0E/vA2XsCi68IPzqRdwBno2hfQoV3A9YsS9BeVXcDRsYNKXJBdwBea6zTSh13ASS9q96t4XcBHOZhNgHZdwPKzkeumdF3A6fLmcK33W8AE6Pf9mwtYwBqmttRBRlfAS1gbYyevVsAaNsr6zY9WwKXY0TjUilbA3nTLDvF6VsARiq2gaWdWwIxNK4VAVVbA3Qn2X+f9VcAGIos08eZVwEbrqGqCtlXAMTffiO61VcDElbN3RpdVwF9FRgckbVXAP4178xtfVcA7Vb5nJFpVwKXZPA6DS1XAKNap8j0lVcDICKhwBBVVwC3qk9xhEVXAlR+4yhMAVcCqnPaUnPRUwF+X4T/d51TAe737473iVMCpwp/hzdtUwKt7ZHPVzlTA96+sNCm8VMAmui784KhUwIp3gCctl1TAt5xLcVV/VMDzH9JvX2tUwDvEP2zpQVTAhlRRvMoeVMAiG0gXmwRUwMr7OJojA1TAtp4hHLP4U8DSAN4CCfRTwMVLN4lB2FPAZvUOt0PPU8DYKyy4H75TwOxsyD8zuVPAbs1WXvKeU8CVuflGdHpTwInt7gG6QlPAbRyxFp8kU8BlDkktlMpSwG8QrRVtflLAP1+zXDZ7UsDPnzaq03lSwDmc+dUcMVLAzVfJx+7ZUcDmlICYhNBRwAAAAAAAAPh/svUM4Zi9Y8C7fOvDeopewOBNt+wQdl7APX0E/vA2XsCi68IPzqRdwBno2hfQoV3A9YsS9BeVXcDRsYNKXJBdwBea6zTSh13ASS9q96t4XcBHOZhNgHZdwPKzkeumdF3A6fLmcK33W8AE6Pf9mwtYwBqmttRBRlfAS1gbYyevVsAaNsr6zY9WwKXY0TjUilbA3nTLDvF6VsARiq2gaWdWwIxNK4VAVVbA3Qn2X+f9VcAGIos08eZVwEbrqGqCtlXAMTffiO61VcDElbN3RpdVwF9FRgckbVXAP4178xtfVcA7Vb5nJFpVwKXZPA6DS1XAKNap8j0lVcDICKhwBBVVwC3qk9xhEVXAlR+4yhMAVcCqnPaUnPRUwF+X4T/d51TAe737473iVMCpwp/hzdtUwKt7ZHPVzlTA96+sNCm8VMAmui784KhUwIp3gCctl1TAt5xLcVV/VMDzH9JvX2tUwDvEP2zpQVTAhlRRvMoeVMAiG0gXmwRUwMr7OJojA1TAtp4hHLP4U8DSAN4CCfRTwMVLN4lB2FPAZvUOt0PPU8DYKyy4H75TwOxsyD8zuVPAbs1WXvKeU8CVuflGdHpTwInt7gG6QlPAbRyxFp8kU8BlDkktlMpSwG8QrRVtflLAP1+zXDZ7UsDPnzaq03lSwDmc+dUcMVLAzVfJx+7ZUcDmlICYhNBRwAAAAAAAAPh/svUM4Zi9Y8C7fOvDeopewOBNt+wQdl7APX0E/vA2XsCi68IPzqRdwBno2hfQoV3A9YsS9BeVXcDRsYNKXJBdwBea6zTSh13ASS9q96t4XcBHOZhNgHZdwPKzkeumdF3A6fLmcK33W8AE6Pf9mwtYwBqmttRBRlfAS1gbYyevVsAaNsr6zY9WwKXY0TjUilbA3nTLDvF6VsARiq2gaWdWwIxNK4VAVVbA3Qn2X+f9VcAGIos08eZVwEbrqGqCtlXAMTffiO61VcDElbN3RpdVwF9FRgckbVXAP4178xtfVcA7Vb5nJFpVwKXZPA6DS1XAKNap8j0lVcDICKhwBBVVwC3qk9xhEVXAlR+4yhMAVcCqnPaUnPRUwF+X4T/d51TAe737473iVMCpwp/hzdtUwKt7ZHPVzlTA96+sNCm8VMAmui784KhUwIp3gCctl1TAt5xLcVV/VMDzH9JvX2tUwDvEP2zpQVTAhlRRvMoeVMAiG0gXmwRUwMr7OJojA1TAtp4hHLP4U8DSAN4CCfRTwMVLN4lB2FPAZvUOt0PPU8DYKyy4H75TwOxsyD8zuVPAbs1WXvKeU8CVuflGdHpTwInt7gG6QlPAbRyxFp8kU8BlDkktlMpSwG8QrRVtflLAP1+zXDZ7UsDPnzaq03lSwDmc+dUcMVLAzVfJx+7ZUcDmlICYhNBRwAAAAAAAAPh/svUM4Zi9Y8C7fOvDeopewOBNt+wQdl7APX0E/vA2XsCi68IPzqRdwBno2hfQoV3A9YsS9BeVXcDRsYNKXJBdwBea6zTSh13ASS9q96t4XcBHOZhNgHZdwPKzkeumdF3A6fLmcK33W8AE6Pf9mwtYwBqmttRBRlfAS1gbYyevVsAaNsr6zY9WwKXY0TjUilbA3nTLDvF6VsARiq2gaWdWwIxNK4VAVVbA3Qn2X+f9VcAGIos08eZVwEbrqGqCtlXAMTffiO61VcDElbN3RpdVwF9FRgckbVXAP4178xtfVcA7Vb5nJFpVwKXZPA6DS1XAKNap8j0lVcDICKhwBBVVwC3qk9xhEVXAlR+4yhMAVcCqnPaUnPRUwF+X4T/d51TAe737473iVMCpwp/hzdtUwKt7ZHPVzlTA96+sNCm8VMAmui784KhUwIp3gCctl1TAt5xLcVV/VMDzH9JvX2tUwDvEP2zpQVTAhlRRvMoeVMAiG0gXmwRUwMr7OJojA1TAtp4hHLP4U8DSAN4CCfRTwMVLN4lB2FPAZvUOt0PPU8DYKyy4H75TwOxsyD8zuVPAbs1WXvKeU8CVuflGdHpTwInt7gG6QlPAbRyxFp8kU8BlDkktlMpSwG8QrRVtflLAP1+zXDZ7UsDPnzaq03lSwDmc+dUcMVLAzVfJx+7ZUcDmlICYhNBRwAAAAAAAAPh/svUM4Zi9Y8C7fOvDeopewOBNt+wQdl7APX0E/vA2XsCi68IPzqRdwBno2hfQoV3A9YsS9BeVXcDRsYNKXJBdwBea6zTSh13ASS9q96t4XcBHOZhNgHZdwPKzkeumdF3A6fLmcK33W8AE6Pf9mwtYwBqmttRBRlfAS1gbYyevVsAaNsr6zY9WwKXY0TjUilbA3nTLDvF6VsARiq2gaWdWwIxNK4VAVVbA3Qn2X+f9VcAGIos08eZVwEbrqGqCtlXAMTffiO61VcDElbN3RpdVwF9FRgckbVXAP4178xtfVcA7Vb5nJFpVwKXZPA6DS1XAKNap8j0lVcDICKhwBBVVwC3qk9xhEVXAlR+4yhMAVcCqnPaUnPRUwF+X4T/d51TAe737473iVMCpwp/hzdtUwKt7ZHPVzlTA96+sNCm8VMAmui784KhUwIp3gCctl1TAt5xLcVV/VMDzH9JvX2tUwDvEP2zpQVTAhlRRvMoeVMAiG0gXmwRUwMr7OJojA1TAtp4hHLP4U8DSAN4CCfRTwMVLN4lB2FPAZvUOt0PPU8DYKyy4H75TwOxsyD8zuVPAbs1WXvKeU8CVuflGdHpTwInt7gG6QlPAbRyxFp8kU8BlDkktlMpSwG8QrRVtflLAP1+zXDZ7UsDPnzaq03lSwDmc+dUcMVLAzVfJx+7ZUcDmlICYhNBRwAAAAAAAAPh/svUM4Zi9Y8C7fOvDeopewOBNt+wQdl7APX0E/vA2XsCi68IPzqRdwBno2hfQoV3A9YsS9BeVXcDRsYNKXJBdwBea6zTSh13ASS9q96t4XcBHOZhNgHZdwPKzkeumdF3A6fLmcK33W8AE6Pf9mwtYwBqmttRBRlfAS1gbYyevVsAaNsr6zY9WwKXY0TjUilbA3nTLDvF6VsARiq2gaWdWwIxNK4VAVVbA3Qn2X+f9VcAGIos08eZVwEbrqGqCtlXAMTffiO61VcDElbN3RpdVwF9FRgckbVXAP4178xtfVcA7Vb5nJFpVwKXZPA6DS1XAKNap8j0lVcDICKhwBBVVwC3qk9xhEVXAlR+4yhMAVcCqnPaUnPRUwF+X4T/d51TAe737473iVMCpwp/hzdtUwKt7ZHPVzlTA96+sNCm8VMAmui784KhUwIp3gCctl1TAt5xLcVV/VMDzH9JvX2tUwDvEP2zpQVTAhlRRvMoeVMAiG0gXmwRUwMr7OJojA1TAtp4hHLP4U8DSAN4CCfRTwMVLN4lB2FPAZvUOt0PPU8DYKyy4H75TwOxsyD8zuVPAbs1WXvKeU8CVuflGdHpTwInt7gG6QlPAbRyxFp8kU8BlDkktlMpSwG8QrRVtflLAP1+zXDZ7UsDPnzaq03lSwDmc+dUcMVLAzVfJx+7ZUcDmlICYhNBRwAAAAAAAAPh/svUM4Zi9Y8C7fOvDeopewOBNt+wQdl7APX0E/vA2XsCi68IPzqRdwBno2hfQoV3A9YsS9BeVXcDRsYNKXJBdwBea6zTSh13ASS9q96t4XcBHOZhNgHZdwPKzkeumdF3A6fLmcK33W8AE6Pf9mwtYwBqmttRBRlfAS1gbYyevVsAaNsr6zY9WwKXY0TjUilbA3nTLDvF6VsARiq2gaWdWwIxNK4VAVVbA3Qn2X+f9VcAGIos08eZVwEbrqGqCtlXAMTffiO61VcDElbN3RpdVwF9FRgckbVXAP4178xtfVcA7Vb5nJFpVwKXZPA6DS1XAKNap8j0lVcDICKhwBBVVwC3qk9xhEVXAlR+4yhMAVcCqnPaUnPRUwF+X4T/d51TAe737473iVMCpwp/hzdtUwKt7ZHPVzlTA96+sNCm8VMAmui784KhUwIp3gCctl1TAt5xLcVV/VMDzH9JvX2tUwDvEP2zpQVTAhlRRvMoeVMAiG0gXmwRUwMr7OJojA1TAtp4hHLP4U8DSAN4CCfRTwMVLN4lB2FPAZvUOt0PPU8DYKyy4H75TwOxsyD8zuVPAbs1WXvKeU8CVuflGdHpTwInt7gG6QlPAbRyxFp8kU8BlDkktlMpSwG8QrRVtflLAP1+zXDZ7UsDPnzaq03lSwDmc+dUcMVLAzVfJx+7ZUcDmlICYhNBRwAAAAAAAAPh/svUM4Zi9Y8C7fOvDeopewOBNt+wQdl7APX0E/vA2XsCi68IPzqRdwBno2hfQoV3A9YsS9BeVXcDRsYNKXJBdwBea6zTSh13ASS9q96t4XcBHOZhNgHZdwPKzkeumdF3A6fLmcK33W8AE6Pf9mwtYwBqmttRBRlfAS1gbYyevVsAaNsr6zY9WwKXY0TjUilbA3nTLDvF6VsARiq2gaWdWwIxNK4VAVVbA3Qn2X+f9VcAGIos08eZVwEbrqGqCtlXAMTffiO61VcDElbN3RpdVwF9FRgckbVXAP4178xtfVcA7Vb5nJFpVwKXZPA6DS1XAKNap8j0lVcDICKhwBBVVwC3qk9xhEVXAlR+4yhMAVcCqnPaUnPRUwF+X4T/d51TAe737473iVMCpwp/hzdtUwKt7ZHPVzlTA96+sNCm8VMAmui784KhUwIp3gCctl1TAt5xLcVV/VMDzH9JvX2tUwDvEP2zpQVTAhlRRvMoeVMAiG0gXmwRUwMr7OJojA1TAtp4hHLP4U8DSAN4CCfRTwMVLN4lB2FPAZvUOt0PPU8DYKyy4H75TwOxsyD8zuVPAbs1WXvKeU8CVuflGdHpTwInt7gG6QlPAbRyxFp8kU8BlDkktlMpSwG8QrRVtflLAP1+zXDZ7UsDPnzaq03lSwDmc+dUcMVLAzVfJx+7ZUcDmlICYhNBRwAAAAAAAAPh/svUM4Zi9Y8C7fOvDeopewOBNt+wQdl7APX0E/vA2XsCi68IPzqRdwBno2hfQoV3A9YsS9BeVXcDRsYNKXJBdwBea6zTSh13ASS9q96t4XcBHOZhNgHZdwPKzkeumdF3A6fLmcK33W8AE6Pf9mwtYwBqmttRBRlfAS1gbYyevVsAaNsr6zY9WwKXY0TjUilbA3nTLDvF6VsARiq2gaWdWwIxNK4VAVVbA3Qn2X+f9VcAGIos08eZVwEbrqGqCtlXAMTffiO61VcDElbN3RpdVwF9FRgckbVXAP4178xtfVcA7Vb5nJFpVwKXZPA6DS1XAKNap8j0lVcDICKhwBBVVwC3qk9xhEVXAlR+4yhMAVcCqnPaUnPRUwF+X4T/d51TAe737473iVMCpwp/hzdtUwKt7ZHPVzlTA96+sNCm8VMAmui784KhUwIp3gCctl1TAt5xLcVV/VMDzH9JvX2tUwDvEP2zpQVTAhlRRvMoeVMAiG0gXmwRUwMr7OJojA1TAtp4hHLP4U8DSAN4CCfRTwMVLN4lB2FPAZvUOt0PPU8DYKyy4H75TwOxsyD8zuVPAbs1WXvKeU8CVuflGdHpTwInt7gG6QlPAbRyxFp8kU8BlDkktlMpSwG8QrRVtflLAP1+zXDZ7UsDPnzaq03lSwDmc+dUcMVLAzVfJx+7ZUcDmlICYhNBRwAAAAAAAAPh/svUM4Zi9Y8C7fOvDeopewOBNt+wQdl7APX0E/vA2XsCi68IPzqRdwBno2hfQoV3A9YsS9BeVXcDRsYNKXJBdwBea6zTSh13ASS9q96t4XcBHOZhNgHZdwPKzkeumdF3A6fLmcK33W8AE6Pf9mwtYwBqmttRBRlfAS1gbYyevVsAaNsr6zY9WwKXY0TjUilbA3nTLDvF6VsARiq2gaWdWwIxNK4VAVVbA3Qn2X+f9VcAGIos08eZVwEbrqGqCtlXAMTffiO61VcDElbN3RpdVwF9FRgckbVXAP4178xtfVcA7Vb5nJFpVwKXZPA6DS1XAKNap8j0lVcDICKhwBBVVwC3qk9xhEVXAlR+4yhMAVcCqnPaUnPRUwF+X4T/d51TAe737473iVMCpwp/hzdtUwKt7ZHPVzlTA96+sNCm8VMAmui784KhUwIp3gCctl1TAt5xLcVV/VMDzH9JvX2tUwDvEP2zpQVTAhlRRvMoeVMAiG0gXmwRUwMr7OJojA1TAtp4hHLP4U8DSAN4CCfRTwMVLN4lB2FPAZvUOt0PPU8DYKyy4H75TwOxsyD8zuVPAbs1WXvKeU8CVuflGdHpTwInt7gG6QlPAbRyxFp8kU8BlDkktlMpSwG8QrRVtflLAP1+zXDZ7UsDPnzaq03lSwDmc+dUcMVLAzVfJx+7ZUcDmlICYhNBRwAAAAAAAAPh/svUM4Zi9Y8C7fOvDeopewOBNt+wQdl7APX0E/vA2XsCi68IPzqRdwBno2hfQoV3A9YsS9BeVXcDRsYNKXJBdwBea6zTSh13ASS9q96t4XcBHOZhNgHZdwPKzkeumdF3A6fLmcK33W8AE6Pf9mwtYwBqmttRBRlfAS1gbYyevVsAaNsr6zY9WwKXY0TjUilbA3nTLDvF6VsARiq2gaWdWwIxNK4VAVVbA3Qn2X+f9VcAGIos08eZVwEbrqGqCtlXAMTffiO61VcDElbN3RpdVwF9FRgckbVXAP4178xtfVcA7Vb5nJFpVwKXZPA6DS1XAKNap8j0lVcDICKhwBBVVwC3qk9xhEVXAlR+4yhMAVcCqnPaUnPRUwF+X4T/d51TAe737473iVMCpwp/hzdtUwKt7ZHPVzlTA96+sNCm8VMAmui784KhUwIp3gCctl1TAt5xLcVV/VMDzH9JvX2tUwDvEP2zpQVTAhlRRvMoeVMAiG0gXmwRUwMr7OJojA1TAtp4hHLP4U8DSAN4CCfRTwMVLN4lB2FPAZvUOt0PPU8DYKyy4H75TwOxsyD8zuVPAbs1WXvKeU8CVuflGdHpTwInt7gG6QlPAbRyxFp8kU8BlDkktlMpSwG8QrRVtflLAP1+zXDZ7UsDPnzaq03lSwDmc+dUcMVLAzVfJx+7ZUcDmlICYhNBRwAAAAAAAAPh/svUM4Zi9Y8C7fOvDeopewOBNt+wQdl7APX0E/vA2XsCi68IPzqRdwBno2hfQoV3A9YsS9BeVXcDRsYNKXJBdwBea6zTSh13ASS9q96t4XcBHOZhNgHZdwPKzkeumdF3A6fLmcK33W8AE6Pf9mwtYwBqmttRBRlfAS1gbYyevVsAaNsr6zY9WwKXY0TjUilbA3nTLDvF6VsARiq2gaWdWwIxNK4VAVVbA3Qn2X+f9VcAGIos08eZVwEbrqGqCtlXAMTffiO61VcDElbN3RpdVwF9FRgckbVXAP4178xtfVcA7Vb5nJFpVwKXZPA6DS1XAKNap8j0lVcDICKhwBBVVwC3qk9xhEVXAlR+4yhMAVcCqnPaUnPRUwF+X4T/d51TAe737473iVMCpwp/hzdtUwKt7ZHPVzlTA96+sNCm8VMAmui784KhUwIp3gCctl1TAt5xLcVV/VMDzH9JvX2tUwDvEP2zpQVTAhlRRvMoeVMAiG0gXmwRUwMr7OJojA1TAtp4hHLP4U8DSAN4CCfRTwMVLN4lB2FPAZvUOt0PPU8DYKyy4H75TwOxsyD8zuVPAbs1WXvKeU8CVuflGdHpTwInt7gG6QlPAbRyxFp8kU8BlDkktlMpSwG8QrRVtflLAP1+zXDZ7UsDPnzaq03lSwDmc+dUcMVLAzVfJx+7ZUcDmlICYhNBRwAAAAAAAAPh/svUM4Zi9Y8C7fOvDeopewOBNt+wQdl7APX0E/vA2XsCi68IPzqRdwBno2hfQoV3A9YsS9BeVXcDRsYNKXJBdwBea6zTSh13ASS9q96t4XcBHOZhNgHZdwPKzkeumdF3A6fLmcK33W8AE6Pf9mwtYwBqmttRBRlfAS1gbYyevVsAaNsr6zY9WwKXY0TjUilbA3nTLDvF6VsARiq2gaWdWwIxNK4VAVVbA3Qn2X+f9VcAGIos08eZVwEbrqGqCtlXAMTffiO61VcDElbN3RpdVwF9FRgckbVXAP4178xtfVcA7Vb5nJFpVwKXZPA6DS1XAKNap8j0lVcDICKhwBBVVwC3qk9xhEVXAlR+4yhMAVcCqnPaUnPRUwF+X4T/d51TAe737473iVMCpwp/hzdtUwKt7ZHPVzlTA96+sNCm8VMAmui784KhUwIp3gCctl1TAt5xLcVV/VMDzH9JvX2tUwDvEP2zpQVTAhlRRvMoeVMAiG0gXmwRUwMr7OJojA1TAtp4hHLP4U8DSAN4CCfRTwMVLN4lB2FPAZvUOt0PPU8DYKyy4H75TwOxsyD8zuVPAbs1WXvKeU8CVuflGdHpTwInt7gG6QlPAbRyxFp8kU8BlDkktlMpSwG8QrRVtflLAP1+zXDZ7UsDPnzaq03lSwDmc+dUcMVLAzVfJx+7ZUcDmlICYhNBRwAAAAAAAAPh/svUM4Zi9Y8C7fOvDeopewOBNt+wQdl7APX0E/vA2XsCi68IPzqRdwBno2hfQoV3A9YsS9BeVXcDRsYNKXJBdwBea6zTSh13ASS9q96t4XcBHOZhNgHZdwPKzkeumdF3A6fLmcK33W8AE6Pf9mwtYwBqmttRBRlfAS1gbYyevVsAaNsr6zY9WwKXY0TjUilbA3nTLDvF6VsARiq2gaWdWwIxNK4VAVVbA3Qn2X+f9VcAGIos08eZVwEbrqGqCtlXAMTffiO61VcDElbN3RpdVwF9FRgckbVXAP4178xtfVcA7Vb5nJFpVwKXZPA6DS1XAKNap8j0lVcDICKhwBBVVwC3qk9xhEVXAlR+4yhMAVcCqnPaUnPRUwF+X4T/d51TAe737473iVMCpwp/hzdtUwKt7ZHPVzlTA96+sNCm8VMAmui784KhUwIp3gCctl1TAt5xLcVV/VMDzH9JvX2tUwDvEP2zpQVTAhlRRvMoeVMAiG0gXmwRUwMr7OJojA1TAtp4hHLP4U8DSAN4CCfRTwMVLN4lB2FPAZvUOt0PPU8DYKyy4H75TwOxsyD8zuVPAbs1WXvKeU8CVuflGdHpTwInt7gG6QlPAbRyxFp8kU8BlDkktlMpSwG8QrRVtflLAP1+zXDZ7UsDPnzaq03lSwDmc+dUcMVLAzVfJx+7ZUcDmlICYhNBRwAAAAAAAAPh/svUM4Zi9Y8C7fOvDeopewOBNt+wQdl7APX0E/vA2XsCi68IPzqRdwBno2hfQoV3A9YsS9BeVXcDRsYNKXJBdwBea6zTSh13ASS9q96t4XcBHOZhNgHZdwPKzkeumdF3A6fLmcK33W8AE6Pf9mwtYwBqmttRBRlfAS1gbYyevVsAaNsr6zY9WwKXY0TjUilbA3nTLDvF6VsARiq2gaWdWwIxNK4VAVVbA3Qn2X+f9VcAGIos08eZVwEbrqGqCtlXAMTffiO61VcDElbN3RpdVwF9FRgckbVXAP4178xtfVcA7Vb5nJFpVwKXZPA6DS1XAKNap8j0lVcDICKhwBBVVwC3qk9xhEVXAlR+4yhMAVcCqnPaUnPRUwF+X4T/d51TAe737473iVMCpwp/hzdtUwKt7ZHPVzlTA96+sNCm8VMAmui784KhUwIp3gCctl1TAt5xLcVV/VMDzH9JvX2tUwDvEP2zpQVTAhlRRvMoeVMAiG0gXmwRUwMr7OJojA1TAtp4hHLP4U8DSAN4CCfRTwMVLN4lB2FPAZvUOt0PPU8DYKyy4H75TwOxsyD8zuVPAbs1WXvKeU8CVuflGdHpTwInt7gG6QlPAbRyxFp8kU8BlDkktlMpSwG8QrRVtflLAP1+zXDZ7UsDPnzaq03lSwDmc+dUcMVLAzVfJx+7ZUcDmlICYhNBRwAAAAAAAAPh/svUM4Zi9Y8C7fOvDeopewOBNt+wQdl7APX0E/vA2XsCi68IPzqRdwBno2hfQoV3A9YsS9BeVXcDRsYNKXJBdwBea6zTSh13ASS9q96t4XcBHOZhNgHZdwPKzkeumdF3A6fLmcK33W8AE6Pf9mwtYwBqmttRBRlfAS1gbYyevVsAaNsr6zY9WwKXY0TjUilbA3nTLDvF6VsARiq2gaWdWwIxNK4VAVVbA3Qn2X+f9VcAGIos08eZVwEbrqGqCtlXAMTffiO61VcDElbN3RpdVwF9FRgckbVXAP4178xtfVcA7Vb5nJFpVwKXZPA6DS1XAKNap8j0lVcDICKhwBBVVwC3qk9xhEVXAlR+4yhMAVcCqnPaUnPRUwF+X4T/d51TAe737473iVMCpwp/hzdtUwKt7ZHPVzlTA96+sNCm8VMAmui784KhUwIp3gCctl1TAt5xLcVV/VMDzH9JvX2tUwDvEP2zpQVTAhlRRvMoeVMAiG0gXmwRUwMr7OJojA1TAtp4hHLP4U8DSAN4CCfRTwMVLN4lB2FPAZvUOt0PPU8DYKyy4H75TwOxsyD8zuVPAbs1WXvKeU8CVuflGdHpTwInt7gG6QlPAbRyxFp8kU8BlDkktlMpSwG8QrRVtflLAP1+zXDZ7UsDPnzaq03lSwDmc+dUcMVLAzVfJx+7ZUcDmlICYhNBRwAAAAAAAAPh/svUM4Zi9Y8C7fOvDeopewOBNt+wQdl7APX0E/vA2XsCi68IPzqRdwBno2hfQoV3A9YsS9BeVXcDRsYNKXJBdwBea6zTSh13ASS9q96t4XcBHOZhNgHZdwPKzkeumdF3A6fLmcK33W8AE6Pf9mwtYwBqmttRBRlfAS1gbYyevVsAaNsr6zY9WwKXY0TjUilbA3nTLDvF6VsARiq2gaWdWwIxNK4VAVVbA3Qn2X+f9VcAGIos08eZVwEbrqGqCtlXAMTffiO61VcDElbN3RpdVwF9FRgckbVXAP4178xtfVcA7Vb5nJFpVwKXZPA6DS1XAKNap8j0lVcDICKhwBBVVwC3qk9xhEVXAlR+4yhMAVcCqnPaUnPRUwF+X4T/d51TAe737473iVMCpwp/hzdtUwKt7ZHPVzlTA96+sNCm8VMAmui784KhUwIp3gCctl1TAt5xLcVV/VMDzH9JvX2tUwDvEP2zpQVTAhlRRvMoeVMAiG0gXmwRUwMr7OJojA1TAtp4hHLP4U8DSAN4CCfRTwMVLN4lB2FPAZvUOt0PPU8DYKyy4H75TwOxsyD8zuVPAbs1WXvKeU8CVuflGdHpTwInt7gG6QlPAbRyxFp8kU8BlDkktlMpSwG8QrRVtflLAP1+zXDZ7UsDPnzaq03lSwDmc+dUcMVLAzVfJx+7ZUcDmlICYhNBRwAAAAAAAAPh/svUM4Zi9Y8C7fOvDeopewOBNt+wQdl7APX0E/vA2XsCi68IPzqRdwBno2hfQoV3A9YsS9BeVXcDRsYNKXJBdwBea6zTSh13ASS9q96t4XcBHOZhNgHZdwPKzkeumdF3A6fLmcK33W8AE6Pf9mwtYwBqmttRBRlfAS1gbYyevVsAaNsr6zY9WwKXY0TjUilbA3nTLDvF6VsARiq2gaWdWwIxNK4VAVVbA3Qn2X+f9VcAGIos08eZVwEbrqGqCtlXAMTffiO61VcDElbN3RpdVwF9FRgckbVXAP4178xtfVcA7Vb5nJFpVwKXZPA6DS1XAKNap8j0lVcDICKhwBBVVwC3qk9xhEVXAlR+4yhMAVcCqnPaUnPRUwF+X4T/d51TAe737473iVMCpwp/hzdtUwKt7ZHPVzlTA96+sNCm8VMAmui784KhUwIp3gCctl1TAt5xLcVV/VMDzH9JvX2tUwDvEP2zpQVTAhlRRvMoeVMAiG0gXmwRUwMr7OJojA1TAtp4hHLP4U8DSAN4CCfRTwMVLN4lB2FPAZvUOt0PPU8DYKyy4H75TwOxsyD8zuVPAbs1WXvKeU8CVuflGdHpTwInt7gG6QlPAbRyxFp8kU8BlDkktlMpSwG8QrRVtflLAP1+zXDZ7UsDPnzaq03lSwDmc+dUcMVLAzVfJx+7ZUcDmlICYhNBRwAAAAAAAAPh/svUM4Zi9Y8C7fOvDeopewOBNt+wQdl7APX0E/vA2XsCi68IPzqRdwBno2hfQoV3A9YsS9BeVXcDRsYNKXJBdwBea6zTSh13ASS9q96t4XcBHOZhNgHZdwPKzkeumdF3A6fLmcK33W8AE6Pf9mwtYwBqmttRBRlfAS1gbYyevVsAaNsr6zY9WwKXY0TjUilbA3nTLDvF6VsARiq2gaWdWwIxNK4VAVVbA3Qn2X+f9VcAGIos08eZVwEbrqGqCtlXAMTffiO61VcDElbN3RpdVwF9FRgckbVXAP4178xtfVcA7Vb5nJFpVwKXZPA6DS1XAKNap8j0lVcDICKhwBBVVwC3qk9xhEVXAlR+4yhMAVcCqnPaUnPRUwF+X4T/d51TAe737473iVMCpwp/hzdtUwKt7ZHPVzlTA96+sNCm8VMAmui784KhUwIp3gCctl1TAt5xLcVV/VMDzH9JvX2tUwDvEP2zpQVTAhlRRvMoeVMAiG0gXmwRUwMr7OJojA1TAtp4hHLP4U8DSAN4CCfRTwMVLN4lB2FPAZvUOt0PPU8DYKyy4H75TwOxsyD8zuVPAbs1WXvKeU8CVuflGdHpTwInt7gG6QlPAbRyxFp8kU8BlDkktlMpSwG8QrRVtflLAP1+zXDZ7UsDPnzaq03lSwDmc+dUcMVLAzVfJx+7ZUcDmlICYhNBRwAAAAAAAAPh/svUM4Zi9Y8C7fOvDeopewOBNt+wQdl7APX0E/vA2XsCi68IPzqRdwBno2hfQoV3A9YsS9BeVXcDRsYNKXJBdwBea6zTSh13ASS9q96t4XcBHOZhNgHZdwPKzkeumdF3A6fLmcK33W8AE6Pf9mwtYwBqmttRBRlfAS1gbYyevVsAaNsr6zY9WwKXY0TjUilbA3nTLDvF6VsARiq2gaWdWwIxNK4VAVVbA3Qn2X+f9VcAGIos08eZVwEbrqGqCtlXAMTffiO61VcDElbN3RpdVwF9FRgckbVXAP4178xtfVcA7Vb5nJFpVwKXZPA6DS1XAKNap8j0lVcDICKhwBBVVwC3qk9xhEVXAlR+4yhMAVcCqnPaUnPRUwF+X4T/d51TAe737473iVMCpwp/hzdtUwKt7ZHPVzlTA96+sNCm8VMAmui784KhUwIp3gCctl1TAt5xLcVV/VMDzH9JvX2tUwDvEP2zpQVTAhlRRvMoeVMAiG0gXmwRUwMr7OJojA1TAtp4hHLP4U8DSAN4CCfRTwMVLN4lB2FPAZvUOt0PPU8DYKyy4H75TwOxsyD8zuVPAbs1WXvKeU8CVuflGdHpTwInt7gG6QlPAbRyxFp8kU8BlDkktlMpSwG8QrRVtflLAP1+zXDZ7UsDPnzaq03lSwDmc+dUcMVLAzVfJx+7ZUcDmlICYhNBRwAAAAAAAAPh/svUM4Zi9Y8C7fOvDeopewOBNt+wQdl7APX0E/vA2XsCi68IPzqRdwBno2hfQoV3A9YsS9BeVXcDRsYNKXJBdwBea6zTSh13ASS9q96t4XcBHOZhNgHZdwPKzkeumdF3A6fLmcK33W8AE6Pf9mwtYwBqmttRBRlfAS1gbYyevVsAaNsr6zY9WwKXY0TjUilbA3nTLDvF6VsARiq2gaWdWwIxNK4VAVVbA3Qn2X+f9VcAGIos08eZVwEbrqGqCtlXAMTffiO61VcDElbN3RpdVwF9FRgckbVXAP4178xtfVcA7Vb5nJFpVwKXZPA6DS1XAKNap8j0lVcDICKhwBBVVwC3qk9xhEVXAlR+4yhMAVcCqnPaUnPRUwF+X4T/d51TAe737473iVMCpwp/hzdtUwKt7ZHPVzlTA96+sNCm8VMAmui784KhUwIp3gCctl1TAt5xLcVV/VMDzH9JvX2tUwDvEP2zpQVTAhlRRvMoeVMAiG0gXmwRUwMr7OJojA1TAtp4hHLP4U8DSAN4CCfRTwMVLN4lB2FPAZvUOt0PPU8DYKyy4H75TwOxsyD8zuVPAbs1WXvKeU8CVuflGdHpTwInt7gG6QlPAbRyxFp8kU8BlDkktlMpSwG8QrRVtflLAP1+zXDZ7UsDPnzaq03lSwDmc+dUcMVLAzVfJx+7ZUcDmlICYhNBRwAAAAAAAAPh/svUM4Zi9Y8C7fOvDeopewOBNt+wQdl7APX0E/vA2XsCi68IPzqRdwBno2hfQoV3A9YsS9BeVXcDRsYNKXJBdwBea6zTSh13ASS9q96t4XcBHOZhNgHZdwPKzkeumdF3A6fLmcK33W8AE6Pf9mwtYwBqmttRBRlfAS1gbYyevVsAaNsr6zY9WwKXY0TjUilbA3nTLDvF6VsARiq2gaWdWwIxNK4VAVVbA3Qn2X+f9VcAGIos08eZVwEbrqGqCtlXAMTffiO61VcDElbN3RpdVwF9FRgckbVXAP4178xtfVcA7Vb5nJFpVwKXZPA6DS1XAKNap8j0lVcDICKhwBBVVwC3qk9xhEVXAlR+4yhMAVcCqnPaUnPRUwF+X4T/d51TAe737473iVMCpwp/hzdtUwKt7ZHPVzlTA96+sNCm8VMAmui784KhUwIp3gCctl1TAt5xLcVV/VMDzH9JvX2tUwDvEP2zpQVTAhlRRvMoeVMAiG0gXmwRUwMr7OJojA1TAtp4hHLP4U8DSAN4CCfRTwMVLN4lB2FPAZvUOt0PPU8DYKyy4H75TwOxsyD8zuVPAbs1WXvKeU8CVuflGdHpTwInt7gG6QlPAbRyxFp8kU8BlDkktlMpSwG8QrRVtflLAP1+zXDZ7UsDPnzaq03lSwDmc+dUcMVLAzVfJx+7ZUcDmlICYhNBRwAAAAAAAAPh/svUM4Zi9Y8C7fOvDeopewOBNt+wQdl7APX0E/vA2XsCi68IPzqRdwBno2hfQoV3A9YsS9BeVXcDRsYNKXJBdwBea6zTSh13ASS9q96t4XcBHOZhNgHZdwPKzkeumdF3A6fLmcK33W8AE6Pf9mwtYwBqmttRBRlfAS1gbYyevVsAaNsr6zY9WwKXY0TjUilbA3nTLDvF6VsARiq2gaWdWwIxNK4VAVVbA3Qn2X+f9VcAGIos08eZVwEbrqGqCtlXAMTffiO61VcDElbN3RpdVwF9FRgckbVXAP4178xtfVcA7Vb5nJFpVwKXZPA6DS1XAKNap8j0lVcDICKhwBBVVwC3qk9xhEVXAlR+4yhMAVcCqnPaUnPRUwF+X4T/d51TAe737473iVMCpwp/hzdtUwKt7ZHPVzlTA96+sNCm8VMAmui784KhUwIp3gCctl1TAt5xLcVV/VMDzH9JvX2tUwDvEP2zpQVTAhlRRvMoeVMAiG0gXmwRUwMr7OJojA1TAtp4hHLP4U8DSAN4CCfRTwMVLN4lB2FPAZvUOt0PPU8DYKyy4H75TwOxsyD8zuVPAbs1WXvKeU8CVuflGdHpTwInt7gG6QlPAbRyxFp8kU8BlDkktlMpSwG8QrRVtflLAP1+zXDZ7UsDPnzaq03lSwDmc+dUcMVLAzVfJx+7ZUcDmlICYhNBRwAAAAAAAAPh/svUM4Zi9Y8C7fOvDeopewOBNt+wQdl7APX0E/vA2XsCi68IPzqRdwBno2hfQoV3A9YsS9BeVXcDRsYNKXJBdwBea6zTSh13ASS9q96t4XcBHOZhNgHZdwPKzkeumdF3A6fLmcK33W8AE6Pf9mwtYwBqmttRBRlfAS1gbYyevVsAaNsr6zY9WwKXY0TjUilbA3nTLDvF6VsARiq2gaWdWwIxNK4VAVVbA3Qn2X+f9VcAGIos08eZVwEbrqGqCtlXAMTffiO61VcDElbN3RpdVwF9FRgckbVXAP4178xtfVcA7Vb5nJFpVwKXZPA6DS1XAKNap8j0lVcDICKhwBBVVwC3qk9xhEVXAlR+4yhMAVcCqnPaUnPRUwF+X4T/d51TAe737473iVMCpwp/hzdtUwKt7ZHPVzlTA96+sNCm8VMAmui784KhUwIp3gCctl1TAt5xLcVV/VMDzH9JvX2tUwDvEP2zpQVTAhlRRvMoeVMAiG0gXmwRUwMr7OJojA1TAtp4hHLP4U8DSAN4CCfRTwMVLN4lB2FPAZvUOt0PPU8DYKyy4H75TwOxsyD8zuVPAbs1WXvKeU8CVuflGdHpTwInt7gG6QlPAbRyxFp8kU8BlDkktlMpSwG8QrRVtflLAP1+zXDZ7UsDPnzaq03lSwDmc+dUcMVLAzVfJx+7ZUcDmlICYhNBRwAAAAAAAAPh/svUM4Zi9Y8C7fOvDeopewOBNt+wQdl7APX0E/vA2XsCi68IPzqRdwBno2hfQoV3A9YsS9BeVXcDRsYNKXJBdwBea6zTSh13ASS9q96t4XcBHOZhNgHZdwPKzkeumdF3A6fLmcK33W8AE6Pf9mwtYwBqmttRBRlfAS1gbYyevVsAaNsr6zY9WwKXY0TjUilbA3nTLDvF6VsARiq2gaWdWwIxNK4VAVVbA3Qn2X+f9VcAGIos08eZVwEbrqGqCtlXAMTffiO61VcDElbN3RpdVwF9FRgckbVXAP4178xtfVcA7Vb5nJFpVwKXZPA6DS1XAKNap8j0lVcDICKhwBBVVwC3qk9xhEVXAlR+4yhMAVcCqnPaUnPRUwF+X4T/d51TAe737473iVMCpwp/hzdtUwKt7ZHPVzlTA96+sNCm8VMAmui784KhUwIp3gCctl1TAt5xLcVV/VMDzH9JvX2tUwDvEP2zpQVTAhlRRvMoeVMAiG0gXmwRUwMr7OJojA1TAtp4hHLP4U8DSAN4CCfRTwMVLN4lB2FPAZvUOt0PPU8DYKyy4H75TwOxsyD8zuVPAbs1WXvKeU8CVuflGdHpTwInt7gG6QlPAbRyxFp8kU8BlDkktlMpSwG8QrRVtflLAP1+zXDZ7UsDPnzaq03lSwDmc+dUcMVLAzVfJx+7ZUcDmlICYhNBRwAAAAAAAAPh/\",\"dtype\":\"float64\",\"order\":\"little\",\"shape\":[4224]},\"height\":{\"__ndarray__\":\"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\",\"dtype\":\"float64\",\"order\":\"little\",\"shape\":[4224]},\"width\":{\"__ndarray__\":\"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\",\"dtype\":\"float64\",\"order\":\"little\",\"shape\":[4224]},\"zvalues\":{\"__ndarray__\":\"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\",\"dtype\":\"float64\",\"order\":\"little\",\"shape\":[4224]}},\"selected\":{\"id\":\"37210\"},\"selection_policy\":{\"id\":\"37226\"}},\"id\":\"37209\",\"type\":\"ColumnDataSource\"},{\"attributes\":{\"fill_color\":{\"field\":\"zvalues\",\"transform\":{\"id\":\"37208\"}},\"height\":{\"field\":\"height\",\"units\":\"data\"},\"line_alpha\":{\"value\":0},\"line_color\":{\"value\":\"#1f77b4\"},\"width\":{\"field\":\"width\",\"units\":\"data\"},\"x\":{\"field\":\"Lat\"},\"y\":{\"field\":\"Long\"}},\"id\":\"37212\",\"type\":\"Rect\"},{\"attributes\":{\"high\":50000.0,\"low\":40.0,\"nan_color\":\"white\",\"palette\":[\"#b3fef5\",\"#b0fef5\",\"#adfdf5\",\"#a9fcf5\",\"#a6fbf6\",\"#a3faf6\",\"#a0faf6\",\"#9df9f6\",\"#9af8f6\",\"#97f7f6\",\"#93f7f6\",\"#90f6f6\",\"#8df5f6\",\"#8af4f7\",\"#87f3f7\",\"#83f2f7\",\"#80f2f7\",\"#7df1f7\",\"#79f0f7\",\"#76eff7\",\"#73eef7\",\"#6fedf8\",\"#6cecf8\",\"#68ecf8\",\"#65ebf8\",\"#61eaf8\",\"#5ee9f8\",\"#5ae8f8\",\"#57e7f8\",\"#53e6f8\",\"#50e5f9\",\"#4ce4f9\",\"#49e3f9\",\"#45e2f9\",\"#42e1f9\",\"#3ee0f9\",\"#3bdff9\",\"#38def9\",\"#35ddf9\",\"#32dcf9\",\"#30dbfa\",\"#2ed9fa\",\"#2dd8fa\",\"#2cd7fa\",\"#2bd6fa\",\"#2bd5fa\",\"#2ad3fa\",\"#2ad2fa\",\"#29d1fa\",\"#29d0fb\",\"#29cffb\",\"#28cdfb\",\"#28ccfb\",\"#28cbfb\",\"#28cafb\",\"#28c8fb\",\"#28c7fb\",\"#29c6fb\",\"#29c5fb\",\"#29c4fb\",\"#29c2fb\",\"#2ac1fb\",\"#2ac0fb\",\"#2bbffb\",\"#2bbdfc\",\"#2cbcfc\",\"#2dbbfc\",\"#2db9fc\",\"#2eb8fc\",\"#2fb7fc\",\"#2fb6fc\",\"#30b4fc\",\"#31b3fc\",\"#32b2fc\",\"#32b0fc\",\"#33affc\",\"#33aefc\",\"#34adfc\",\"#34abfc\",\"#34aafc\",\"#35a9fc\",\"#35a8fc\",\"#35a6fc\",\"#35a5fc\",\"#35a4fc\",\"#35a3fc\",\"#35a1fc\",\"#35a0fc\",\"#359ffc\",\"#359dfc\",\"#359cfc\",\"#359bfc\",\"#349afd\",\"#3498fd\",\"#3497fd\",\"#3396fd\",\"#3395fd\",\"#3293fd\",\"#3292fd\",\"#3191fd\",\"#3090fd\",\"#308ffd\",\"#2f8dfd\",\"#2f8cfd\",\"#2e8bfd\",\"#2e8afd\",\"#2d88fd\",\"#2d87fd\",\"#2c86fd\",\"#2c84fd\",\"#2c83fd\",\"#2c82fd\",\"#2b81fd\",\"#2b7ffd\",\"#2b7efd\",\"#2b7dfd\",\"#2b7bfd\",\"#2b7afd\",\"#2b79fd\",\"#2b77fd\",\"#2b76fd\",\"#2b75fd\",\"#2b73fd\",\"#2c72fd\",\"#2c71fd\",\"#2c6ffd\",\"#2c6efd\",\"#2d6cfd\",\"#2d6bfd\",\"#2d6afc\",\"#2e68fc\",\"#2e67fc\",\"#2e65fc\",\"#2e64fc\",\"#2f62fc\",\"#2f61fc\",\"#2f5ffc\",\"#2f5efc\",\"#2f5dfc\",\"#2f5bfc\",\"#2f5afc\",\"#2f58fb\",\"#2f57fb\",\"#2f55fb\",\"#2f53fb\",\"#2f52fb\",\"#2f50fb\",\"#2f4ffb\",\"#2f4dfb\",\"#2e4cfb\",\"#2e4afb\",\"#2e48fb\",\"#2e47fa\",\"#2d45fa\",\"#2d43fa\",\"#2d42fa\",\"#2d40fa\",\"#2c3efa\",\"#2c3dfa\",\"#2b3bf9\",\"#2b39f9\",\"#2a37f9\",\"#2a36f8\",\"#2934f8\",\"#2832f7\",\"#2831f7\",\"#272ff6\",\"#262ef5\",\"#252cf5\",\"#252af4\",\"#2429f3\",\"#2327f2\",\"#2226f1\",\"#2124f0\",\"#2023ef\",\"#1f22ee\",\"#1e20ed\",\"#1d1feb\",\"#1c1eea\",\"#1b1ce9\",\"#1a1be7\",\"#181ae6\",\"#1719e5\",\"#1618e3\",\"#1417e1\",\"#1316e0\",\"#1215de\",\"#1014dc\",\"#0f13db\",\"#0e12d9\",\"#0d11d7\",\"#0c10d5\",\"#0b0fd3\",\"#0a0ed1\",\"#090dd0\",\"#080dce\",\"#080ccc\",\"#070bca\",\"#070ac8\",\"#0709c6\",\"#0708c4\",\"#0707c2\",\"#0707bf\",\"#0806bd\",\"#0806bb\",\"#0905b9\",\"#0904b7\",\"#0a04b5\",\"#0a04b2\",\"#0b03b0\",\"#0c03ae\",\"#0d02ab\",\"#0e02a9\",\"#0e02a7\",\"#0f02a4\",\"#0f01a2\",\"#1001a0\",\"#10019d\",\"#10019b\",\"#100199\",\"#100197\",\"#100194\",\"#0f0192\",\"#0f0190\",\"#0f018e\",\"#0e018b\",\"#0e0189\",\"#0d0187\",\"#0d0185\",\"#0c0183\",\"#0b0181\",\"#0b017e\",\"#0a017c\",\"#09017a\",\"#090178\",\"#080276\",\"#070274\",\"#060272\",\"#060270\",\"#05026e\",\"#04026c\",\"#030269\",\"#030267\",\"#020265\",\"#010263\",\"#010261\",\"#00025f\",\"#00025d\",\"#00025b\",\"#000259\",\"#000257\",\"#000255\",\"#000154\",\"#000152\",\"#000150\",\"#00004e\"]},\"id\":\"37208\",\"type\":\"LinearColorMapper\"},{\"attributes\":{},\"id\":\"37210\",\"type\":\"Selection\"},{\"attributes\":{},\"id\":\"37185\",\"type\":\"LinearScale\"},{\"attributes\":{\"fill_alpha\":{\"value\":0.1},\"fill_color\":{\"field\":\"zvalues\",\"transform\":{\"id\":\"37208\"}},\"height\":{\"field\":\"height\",\"units\":\"data\"},\"line_alpha\":{\"value\":0},\"line_color\":{\"value\":\"#1f77b4\"},\"width\":{\"field\":\"width\",\"units\":\"data\"},\"x\":{\"field\":\"Lat\"},\"y\":{\"field\":\"Long\"}},\"id\":\"37213\",\"type\":\"Rect\"},{\"attributes\":{\"active_drag\":\"auto\",\"active_inspect\":\"auto\",\"active_multi\":null,\"active_scroll\":\"auto\",\"active_tap\":\"auto\",\"tools\":[{\"id\":\"37177\"},{\"id\":\"37195\"},{\"id\":\"37196\"},{\"id\":\"37197\"},{\"id\":\"37198\"},{\"id\":\"37199\"}]},\"id\":\"37201\",\"type\":\"Toolbar\"},{\"attributes\":{\"callback\":null,\"renderers\":[{\"id\":\"37215\"}],\"tags\":[\"hv_created\"],\"tooltips\":[[\"Lat\",\"@{Lat}\"],[\"Long\",\"@{Long}\"],[\"Invoice Amount\",\"@{Invoice_Amount}\"]]},\"id\":\"37177\",\"type\":\"HoverTool\"},{\"attributes\":{\"source\":{\"id\":\"37209\"}},\"id\":\"37216\",\"type\":\"CDSView\"},{\"attributes\":{},\"id\":\"37195\",\"type\":\"SaveTool\"},{\"attributes\":{},\"id\":\"37188\",\"type\":\"BasicTicker\"},{\"attributes\":{},\"id\":\"37197\",\"type\":\"WheelZoomTool\"},{\"attributes\":{},\"id\":\"37196\",\"type\":\"PanTool\"},{\"attributes\":{\"text\":\"\"},\"id\":\"37179\",\"type\":\"Title\"},{\"attributes\":{},\"id\":\"37183\",\"type\":\"LinearScale\"},{\"attributes\":{\"data_source\":{\"id\":\"37209\"},\"glyph\":{\"id\":\"37212\"},\"hover_glyph\":null,\"muted_glyph\":null,\"nonselection_glyph\":{\"id\":\"37213\"},\"selection_glyph\":{\"id\":\"37214\"},\"view\":{\"id\":\"37216\"}},\"id\":\"37215\",\"type\":\"GlyphRenderer\"},{\"attributes\":{},\"id\":\"37226\",\"type\":\"UnionRenderers\"},{\"attributes\":{\"axis\":{\"id\":\"37191\"},\"dimension\":1,\"grid_line_alpha\":0.3,\"grid_line_color\":null,\"grid_line_dash\":[6,4],\"ticker\":null},\"id\":\"37194\",\"type\":\"Grid\"},{\"attributes\":{\"margin\":[5,5,5,5],\"name\":\"HSpacer63340\",\"sizing_mode\":\"stretch_width\"},\"id\":\"37237\",\"type\":\"Spacer\"},{\"attributes\":{},\"id\":\"37219\",\"type\":\"BasicTickFormatter\"},{\"attributes\":{},\"id\":\"37192\",\"type\":\"BasicTicker\"},{\"attributes\":{\"axis_label\":\"Lat\",\"axis_label_text_color\":\"white\",\"axis_label_text_font\":\"Comic Sans MS\",\"axis_line_color\":\"white\",\"bounds\":\"auto\",\"formatter\":{\"id\":\"37217\"},\"major_label_orientation\":\"horizontal\",\"major_label_text_color\":\"white\",\"major_label_text_font\":\"Comic Sans MS\",\"major_tick_line_color\":\"white\",\"minor_tick_line_color\":\"white\",\"ticker\":{\"id\":\"37188\"}},\"id\":\"37187\",\"type\":\"LinearAxis\"},{\"attributes\":{\"axis\":{\"id\":\"37187\"},\"grid_line_alpha\":0.3,\"grid_line_color\":null,\"grid_line_dash\":[6,4],\"ticker\":null},\"id\":\"37190\",\"type\":\"Grid\"},{\"attributes\":{\"margin\":[5,5,5,5],\"name\":\"HSpacer63339\",\"sizing_mode\":\"stretch_width\"},\"id\":\"37174\",\"type\":\"Spacer\"},{\"attributes\":{},\"id\":\"37199\",\"type\":\"ResetTool\"},{\"attributes\":{\"end\":-71.331646,\"reset_end\":-71.331646,\"reset_start\":-175.8054965,\"start\":-175.8054965,\"tags\":[[[\"Long\",\"Long\",null]]]},\"id\":\"37176\",\"type\":\"Range1d\"},{\"attributes\":{\"axis_label\":\"Long\",\"axis_label_text_color\":\"white\",\"axis_label_text_font\":\"Comic Sans MS\",\"axis_line_color\":\"white\",\"bounds\":\"auto\",\"formatter\":{\"id\":\"37219\"},\"major_label_orientation\":\"horizontal\",\"major_label_text_color\":\"white\",\"major_label_text_font\":\"Comic Sans MS\",\"major_tick_line_color\":\"white\",\"minor_tick_line_color\":\"white\",\"ticker\":{\"id\":\"37192\"}},\"id\":\"37191\",\"type\":\"LinearAxis\"},{\"attributes\":{\"end\":44.59194,\"reset_end\":44.59194,\"reset_start\":16.811659999999996,\"start\":16.811659999999996,\"tags\":[[[\"Lat\",\"Lat\",null]]]},\"id\":\"37175\",\"type\":\"Range1d\"},{\"attributes\":{\"fill_color\":{\"field\":\"zvalues\",\"transform\":{\"id\":\"37208\"}},\"height\":{\"field\":\"height\",\"units\":\"data\"},\"line_alpha\":{\"value\":0},\"line_color\":{\"value\":\"#1f77b4\"},\"width\":{\"field\":\"width\",\"units\":\"data\"},\"x\":{\"field\":\"Lat\"},\"y\":{\"field\":\"Long\"}},\"id\":\"37214\",\"type\":\"Rect\"},{\"attributes\":{\"background_fill_color\":\"white\",\"below\":[{\"id\":\"37187\"}],\"border_fill_color\":\"black\",\"center\":[{\"id\":\"37190\"},{\"id\":\"37194\"}],\"left\":[{\"id\":\"37191\"}],\"margin\":[5,5,5,5],\"min_border_bottom\":10,\"min_border_left\":10,\"min_border_right\":10,\"min_border_top\":10,\"outline_line_color\":\"black\",\"plot_height\":500,\"plot_width\":500,\"renderers\":[{\"id\":\"37215\"}],\"sizing_mode\":\"fixed\",\"title\":{\"id\":\"37179\"},\"toolbar\":{\"id\":\"37201\"},\"x_range\":{\"id\":\"37175\"},\"x_scale\":{\"id\":\"37183\"},\"y_range\":{\"id\":\"37176\"},\"y_scale\":{\"id\":\"37185\"}},\"id\":\"37178\",\"subtype\":\"Figure\",\"type\":\"Plot\"},{\"attributes\":{\"overlay\":{\"id\":\"37200\"}},\"id\":\"37198\",\"type\":\"BoxZoomTool\"},{\"attributes\":{\"children\":[{\"id\":\"37174\"},{\"id\":\"37178\"},{\"id\":\"37237\"}],\"margin\":[0,0,0,0],\"name\":\"Row63335\",\"tags\":[\"embedded\"]},\"id\":\"37173\",\"type\":\"Row\"},{\"attributes\":{},\"id\":\"37217\",\"type\":\"BasicTickFormatter\"}],\"root_ids\":[\"37173\"]},\"title\":\"Bokeh Application\",\"version\":\"2.2.3\"}};\n    var render_items = [{\"docid\":\"880683e3-d9f7-4380-850a-f8bfd63aa9ba\",\"root_ids\":[\"37173\"],\"roots\":{\"37173\":\"25313bb9-40be-4813-9e78-5319befa5390\"}}];\n    root.Bokeh.embed.embed_items_notebook(docs_json, render_items);\n  }\n  if (root.Bokeh !== undefined && root.Bokeh.Panel !== undefined) {\n    embed_document(root);\n  } else {\n    var attempts = 0;\n    var timer = setInterval(function(root) {\n      if (root.Bokeh !== undefined && root.Bokeh.Panel !== undefined) {\n        clearInterval(timer);\n        embed_document(root);\n      } else if (document.readyState == \"complete\") {\n        attempts++;\n        if (attempts > 100) {\n          clearInterval(timer);\n          console.log(\"Bokeh: ERROR: Unable to run BokehJS code because BokehJS library is missing\");\n        }\n      }\n    }, 10, root)\n  }\n})(window);</script>",
      "application/vnd.holoviews_exec.v0+json": "",
      "text/plain": [
       ":HeatMap   [Lat,Long]   (Invoice Amount)"
      ]
     },
     "metadata": {
      "application/vnd.holoviews_exec.v0+json": {
       "id": "37173"
      }
     },
     "execution_count": 539
    }
   ],
   "source": [
    "# Generate heatmap\n",
    "atlas2_ymq_filtered.reset_index().hvplot.heatmap(x='Lat', y='Long', C='Invoice Amount', \n",
    "                  height=500, width=500, colorbar=False)\n"
   ]
  },
  {
   "cell_type": "code",
   "execution_count": null,
   "metadata": {},
   "outputs": [],
   "source": []
  },
  {
   "cell_type": "code",
   "execution_count": 63,
   "metadata": {},
   "outputs": [
    {
     "output_type": "execute_result",
     "data": {
      "text/plain": [
       "                                Customers  Number of Users\n",
       "0              Louisiana Board of Regents              NaN\n",
       "1                Emporia State University            250.0\n",
       "2               Morehead State University            100.0\n",
       "3          State University of NY Potsdam              NaN\n",
       "4          ST. Mary's College of Maryland              NaN\n",
       "..                                    ...              ...\n",
       "664  University of California, Riverside              75.0\n",
       "665                   CTU Foundation, Inc              NaN\n",
       "666                   Felician University             20.0\n",
       "667                           NEA Vermont              NaN\n",
       "668           University of NC Greensboro            200.0\n",
       "\n",
       "[669 rows x 2 columns]"
      ],
      "text/html": "<div>\n<style scoped>\n    .dataframe tbody tr th:only-of-type {\n        vertical-align: middle;\n    }\n\n    .dataframe tbody tr th {\n        vertical-align: top;\n    }\n\n    .dataframe thead th {\n        text-align: right;\n    }\n</style>\n<table border=\"1\" class=\"dataframe\">\n  <thead>\n    <tr style=\"text-align: right;\">\n      <th></th>\n      <th>Customers</th>\n      <th>Number of Users</th>\n    </tr>\n  </thead>\n  <tbody>\n    <tr>\n      <th>0</th>\n      <td>Louisiana Board of Regents</td>\n      <td>NaN</td>\n    </tr>\n    <tr>\n      <th>1</th>\n      <td>Emporia State University</td>\n      <td>250.0</td>\n    </tr>\n    <tr>\n      <th>2</th>\n      <td>Morehead State University</td>\n      <td>100.0</td>\n    </tr>\n    <tr>\n      <th>3</th>\n      <td>State University of NY Potsdam</td>\n      <td>NaN</td>\n    </tr>\n    <tr>\n      <th>4</th>\n      <td>ST. Mary's College of Maryland</td>\n      <td>NaN</td>\n    </tr>\n    <tr>\n      <th>...</th>\n      <td>...</td>\n      <td>...</td>\n    </tr>\n    <tr>\n      <th>664</th>\n      <td>University of California, Riverside</td>\n      <td>75.0</td>\n    </tr>\n    <tr>\n      <th>665</th>\n      <td>CTU Foundation, Inc</td>\n      <td>NaN</td>\n    </tr>\n    <tr>\n      <th>666</th>\n      <td>Felician University</td>\n      <td>20.0</td>\n    </tr>\n    <tr>\n      <th>667</th>\n      <td>NEA Vermont</td>\n      <td>NaN</td>\n    </tr>\n    <tr>\n      <th>668</th>\n      <td>University of NC Greensboro</td>\n      <td>200.0</td>\n    </tr>\n  </tbody>\n</table>\n<p>669 rows × 2 columns</p>\n</div>"
     },
     "metadata": {},
     "execution_count": 63
    }
   ],
   "source": [
    "atlas[\"Number of Users\"].reset_index()"
   ]
  },
  {
   "cell_type": "code",
   "execution_count": 71,
   "metadata": {},
   "outputs": [
    {
     "output_type": "display_data",
     "data": {},
     "metadata": {}
    },
    {
     "output_type": "execute_result",
     "data": {
      "text/html": "<div id='1630'>\n\n\n\n\n\n  <div class=\"bk-root\" id=\"ec3efb87-18fd-47c8-835e-df1b8a86d583\" data-root-id=\"1630\"></div>\n</div>\n<script type=\"application/javascript\">(function(root) {\n  function embed_document(root) {\n    var docs_json = {\"538ea09f-f888-4c8d-9251-15b753c0d5eb\":{\"roots\":{\"references\":[{\"attributes\":{},\"id\":\"1655\",\"type\":\"ResetTool\"},{\"attributes\":{},\"id\":\"1682\",\"type\":\"UnionRenderers\"},{\"attributes\":{\"fill_color\":{\"value\":\"#1f77b3\"},\"top\":{\"field\":\"Number_of_Users\"},\"width\":{\"value\":0.8},\"x\":{\"field\":\"index\"}},\"id\":\"1667\",\"type\":\"VBar\"},{\"attributes\":{\"end\":6897.5,\"reset_end\":6897.5,\"reset_start\":0.0,\"tags\":[[[\"Number of Users\",\"Number of Users\",null]]]},\"id\":\"1633\",\"type\":\"Range1d\"},{\"attributes\":{\"fill_alpha\":{\"value\":0.1},\"fill_color\":{\"value\":\"#1f77b3\"},\"line_alpha\":{\"value\":0.1},\"top\":{\"field\":\"Number_of_Users\"},\"width\":{\"value\":0.8},\"x\":{\"field\":\"index\"}},\"id\":\"1668\",\"type\":\"VBar\"},{\"attributes\":{\"text\":\"\",\"text_color\":{\"value\":\"black\"},\"text_font_size\":{\"value\":\"12pt\"}},\"id\":\"1636\",\"type\":\"Title\"},{\"attributes\":{},\"id\":\"1640\",\"type\":\"CategoricalScale\"},{\"attributes\":{\"data_source\":{\"id\":\"1664\"},\"glyph\":{\"id\":\"1667\"},\"hover_glyph\":null,\"muted_glyph\":{\"id\":\"1669\"},\"nonselection_glyph\":{\"id\":\"1668\"},\"selection_glyph\":null,\"view\":{\"id\":\"1671\"}},\"id\":\"1670\",\"type\":\"GlyphRenderer\"},{\"attributes\":{\"fill_alpha\":{\"value\":0.2},\"fill_color\":{\"value\":\"#1f77b3\"},\"line_alpha\":{\"value\":0.2},\"top\":{\"field\":\"Number_of_Users\"},\"width\":{\"value\":0.8},\"x\":{\"field\":\"index\"}},\"id\":\"1669\",\"type\":\"VBar\"},{\"attributes\":{\"margin\":[5,5,5,5],\"name\":\"HSpacer02795\",\"sizing_mode\":\"stretch_width\"},\"id\":\"1692\",\"type\":\"Spacer\"},{\"attributes\":{\"source\":{\"id\":\"1664\"}},\"id\":\"1671\",\"type\":\"CDSView\"},{\"attributes\":{\"axis\":{\"id\":\"1644\"},\"grid_line_color\":null,\"ticker\":null},\"id\":\"1646\",\"type\":\"Grid\"},{\"attributes\":{\"bottom_units\":\"screen\",\"fill_alpha\":0.5,\"fill_color\":\"lightgrey\",\"left_units\":\"screen\",\"level\":\"overlay\",\"line_alpha\":1.0,\"line_color\":\"black\",\"line_dash\":[4,4],\"line_width\":2,\"right_units\":\"screen\",\"top_units\":\"screen\"},\"id\":\"1656\",\"type\":\"BoxAnnotation\"},{\"attributes\":{},\"id\":\"1673\",\"type\":\"CategoricalTickFormatter\"},{\"attributes\":{\"data\":{\"Number_of_Users\":{\"__ndarray__\":\"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\",\"dtype\":\"float64\",\"order\":\"little\",\"shape\":[669]},\"index\":[\"0\",\"1\",\"2\",\"3\",\"4\",\"5\",\"6\",\"7\",\"8\",\"9\",\"10\",\"11\",\"12\",\"13\",\"14\",\"15\",\"16\",\"17\",\"18\",\"19\",\"20\",\"21\",\"22\",\"23\",\"24\",\"25\",\"26\",\"27\",\"28\",\"29\",\"30\",\"31\",\"32\",\"33\",\"34\",\"35\",\"36\",\"37\",\"38\",\"39\",\"40\",\"41\",\"42\",\"43\",\"44\",\"45\",\"46\",\"47\",\"48\",\"49\",\"50\",\"51\",\"52\",\"53\",\"54\",\"55\",\"56\",\"57\",\"58\",\"59\",\"60\",\"61\",\"62\",\"63\",\"64\",\"65\",\"66\",\"67\",\"68\",\"69\",\"70\",\"71\",\"72\",\"73\",\"74\",\"75\",\"76\",\"77\",\"78\",\"79\",\"80\",\"81\",\"82\",\"83\",\"84\",\"85\",\"86\",\"87\",\"88\",\"89\",\"90\",\"91\",\"92\",\"93\",\"94\",\"95\",\"96\",\"97\",\"98\",\"99\",\"100\",\"101\",\"102\",\"103\",\"104\",\"105\",\"106\",\"107\",\"108\",\"109\",\"110\",\"111\",\"112\",\"113\",\"114\",\"115\",\"116\",\"117\",\"118\",\"119\",\"120\",\"121\",\"122\",\"123\",\"124\",\"125\",\"126\",\"127\",\"128\",\"129\",\"130\",\"131\",\"132\",\"133\",\"134\",\"135\",\"136\",\"137\",\"138\",\"139\",\"140\",\"141\",\"142\",\"143\",\"144\",\"145\",\"146\",\"147\",\"148\",\"149\",\"150\",\"151\",\"152\",\"153\",\"154\",\"155\",\"156\",\"157\",\"158\",\"159\",\"160\",\"161\",\"162\",\"163\",\"164\",\"165\",\"166\",\"167\",\"168\",\"169\",\"170\",\"171\",\"172\",\"173\",\"174\",\"175\",\"176\",\"177\",\"178\",\"179\",\"180\",\"181\",\"182\",\"183\",\"184\",\"185\",\"186\",\"187\",\"188\",\"189\",\"190\",\"191\",\"192\",\"193\",\"194\",\"195\",\"196\",\"197\",\"198\",\"199\",\"200\",\"201\",\"202\",\"203\",\"204\",\"205\",\"206\",\"207\",\"208\",\"209\",\"210\",\"211\",\"212\",\"213\",\"214\",\"215\",\"216\",\"217\",\"218\",\"219\",\"220\",\"221\",\"222\",\"223\",\"224\",\"225\",\"226\",\"227\",\"228\",\"229\",\"230\",\"231\",\"232\",\"233\",\"234\",\"235\",\"236\",\"237\",\"238\",\"239\",\"240\",\"241\",\"242\",\"243\",\"244\",\"245\",\"246\",\"247\",\"248\",\"249\",\"250\",\"251\",\"252\",\"253\",\"254\",\"255\",\"256\",\"257\",\"258\",\"259\",\"260\",\"261\",\"262\",\"263\",\"264\",\"265\",\"266\",\"267\",\"268\",\"269\",\"270\",\"271\",\"272\",\"273\",\"274\",\"275\",\"276\",\"277\",\"278\",\"279\",\"280\",\"281\",\"282\",\"283\",\"284\",\"285\",\"286\",\"287\",\"288\",\"289\",\"290\",\"291\",\"292\",\"293\",\"294\",\"295\",\"296\",\"297\",\"298\",\"299\",\"300\",\"301\",\"302\",\"303\",\"304\",\"305\",\"306\",\"307\",\"308\",\"309\",\"310\",\"311\",\"312\",\"313\",\"314\",\"315\",\"316\",\"317\",\"318\",\"319\",\"320\",\"321\",\"322\",\"323\",\"324\",\"325\",\"326\",\"327\",\"328\",\"329\",\"330\",\"331\",\"332\",\"333\",\"334\",\"335\",\"336\",\"337\",\"338\",\"339\",\"340\",\"341\",\"342\",\"343\",\"344\",\"345\",\"346\",\"347\",\"348\",\"349\",\"350\",\"351\",\"352\",\"353\",\"354\",\"355\",\"356\",\"357\",\"358\",\"359\",\"360\",\"361\",\"362\",\"363\",\"364\",\"365\",\"366\",\"367\",\"368\",\"369\",\"370\",\"371\",\"372\",\"373\",\"374\",\"375\",\"376\",\"377\",\"378\",\"379\",\"380\",\"381\",\"382\",\"383\",\"384\",\"385\",\"386\",\"387\",\"388\",\"389\",\"390\",\"391\",\"392\",\"393\",\"394\",\"395\",\"396\",\"397\",\"398\",\"399\",\"400\",\"401\",\"402\",\"403\",\"404\",\"405\",\"406\",\"407\",\"408\",\"409\",\"410\",\"411\",\"412\",\"413\",\"414\",\"415\",\"416\",\"417\",\"418\",\"419\",\"420\",\"421\",\"422\",\"423\",\"424\",\"425\",\"426\",\"427\",\"428\",\"429\",\"430\",\"431\",\"432\",\"433\",\"434\",\"435\",\"436\",\"437\",\"438\",\"439\",\"440\",\"441\",\"442\",\"443\",\"444\",\"445\",\"446\",\"447\",\"448\",\"449\",\"450\",\"451\",\"452\",\"453\",\"454\",\"455\",\"456\",\"457\",\"458\",\"459\",\"460\",\"461\",\"462\",\"463\",\"464\",\"465\",\"466\",\"467\",\"468\",\"469\",\"470\",\"471\",\"472\",\"473\",\"474\",\"475\",\"476\",\"477\",\"478\",\"479\",\"480\",\"481\",\"482\",\"483\",\"484\",\"485\",\"486\",\"487\",\"488\",\"489\",\"490\",\"491\",\"492\",\"493\",\"494\",\"495\",\"496\",\"497\",\"498\",\"499\",\"500\",\"501\",\"502\",\"503\",\"504\",\"505\",\"506\",\"507\",\"508\",\"509\",\"510\",\"511\",\"512\",\"513\",\"514\",\"515\",\"516\",\"517\",\"518\",\"519\",\"520\",\"521\",\"522\",\"523\",\"524\",\"525\",\"526\",\"527\",\"528\",\"529\",\"530\",\"531\",\"532\",\"533\",\"534\",\"535\",\"536\",\"537\",\"538\",\"539\",\"540\",\"541\",\"542\",\"543\",\"544\",\"545\",\"546\",\"547\",\"548\",\"549\",\"550\",\"551\",\"552\",\"553\",\"554\",\"555\",\"556\",\"557\",\"558\",\"559\",\"560\",\"561\",\"562\",\"563\",\"564\",\"565\",\"566\",\"567\",\"568\",\"569\",\"570\",\"571\",\"572\",\"573\",\"574\",\"575\",\"576\",\"577\",\"578\",\"579\",\"580\",\"581\",\"582\",\"583\",\"584\",\"585\",\"586\",\"587\",\"588\",\"589\",\"590\",\"591\",\"592\",\"593\",\"594\",\"595\",\"596\",\"597\",\"598\",\"599\",\"600\",\"601\",\"602\",\"603\",\"604\",\"605\",\"606\",\"607\",\"608\",\"609\",\"610\",\"611\",\"612\",\"613\",\"614\",\"615\",\"616\",\"617\",\"618\",\"619\",\"620\",\"621\",\"622\",\"623\",\"624\",\"625\",\"626\",\"627\",\"628\",\"629\",\"630\",\"631\",\"632\",\"633\",\"634\",\"635\",\"636\",\"637\",\"638\",\"639\",\"640\",\"641\",\"642\",\"643\",\"644\",\"645\",\"646\",\"647\",\"648\",\"649\",\"650\",\"651\",\"652\",\"653\",\"654\",\"655\",\"656\",\"657\",\"658\",\"659\",\"660\",\"661\",\"662\",\"663\",\"664\",\"665\",\"666\",\"667\",\"668\"]},\"selected\":{\"id\":\"1665\"},\"selection_policy\":{\"id\":\"1682\"}},\"id\":\"1664\",\"type\":\"ColumnDataSource\"},{\"attributes\":{\"factors\":[\"0\",\"1\",\"2\",\"3\",\"4\",\"5\",\"6\",\"7\",\"8\",\"9\",\"10\",\"11\",\"12\",\"13\",\"14\",\"15\",\"16\",\"17\",\"18\",\"19\",\"20\",\"21\",\"22\",\"23\",\"24\",\"25\",\"26\",\"27\",\"28\",\"29\",\"30\",\"31\",\"32\",\"33\",\"34\",\"35\",\"36\",\"37\",\"38\",\"39\",\"40\",\"41\",\"42\",\"43\",\"44\",\"45\",\"46\",\"47\",\"48\",\"49\",\"50\",\"51\",\"52\",\"53\",\"54\",\"55\",\"56\",\"57\",\"58\",\"59\",\"60\",\"61\",\"62\",\"63\",\"64\",\"65\",\"66\",\"67\",\"68\",\"69\",\"70\",\"71\",\"72\",\"73\",\"74\",\"75\",\"76\",\"77\",\"78\",\"79\",\"80\",\"81\",\"82\",\"83\",\"84\",\"85\",\"86\",\"87\",\"88\",\"89\",\"90\",\"91\",\"92\",\"93\",\"94\",\"95\",\"96\",\"97\",\"98\",\"99\",\"100\",\"101\",\"102\",\"103\",\"104\",\"105\",\"106\",\"107\",\"108\",\"109\",\"110\",\"111\",\"112\",\"113\",\"114\",\"115\",\"116\",\"117\",\"118\",\"119\",\"120\",\"121\",\"122\",\"123\",\"124\",\"125\",\"126\",\"127\",\"128\",\"129\",\"130\",\"131\",\"132\",\"133\",\"134\",\"135\",\"136\",\"137\",\"138\",\"139\",\"140\",\"141\",\"142\",\"143\",\"144\",\"145\",\"146\",\"147\",\"148\",\"149\",\"150\",\"151\",\"152\",\"153\",\"154\",\"155\",\"156\",\"157\",\"158\",\"159\",\"160\",\"161\",\"162\",\"163\",\"164\",\"165\",\"166\",\"167\",\"168\",\"169\",\"170\",\"171\",\"172\",\"173\",\"174\",\"175\",\"176\",\"177\",\"178\",\"179\",\"180\",\"181\",\"182\",\"183\",\"184\",\"185\",\"186\",\"187\",\"188\",\"189\",\"190\",\"191\",\"192\",\"193\",\"194\",\"195\",\"196\",\"197\",\"198\",\"199\",\"200\",\"201\",\"202\",\"203\",\"204\",\"205\",\"206\",\"207\",\"208\",\"209\",\"210\",\"211\",\"212\",\"213\",\"214\",\"215\",\"216\",\"217\",\"218\",\"219\",\"220\",\"221\",\"222\",\"223\",\"224\",\"225\",\"226\",\"227\",\"228\",\"229\",\"230\",\"231\",\"232\",\"233\",\"234\",\"235\",\"236\",\"237\",\"238\",\"239\",\"240\",\"241\",\"242\",\"243\",\"244\",\"245\",\"246\",\"247\",\"248\",\"249\",\"250\",\"251\",\"252\",\"253\",\"254\",\"255\",\"256\",\"257\",\"258\",\"259\",\"260\",\"261\",\"262\",\"263\",\"264\",\"265\",\"266\",\"267\",\"268\",\"269\",\"270\",\"271\",\"272\",\"273\",\"274\",\"275\",\"276\",\"277\",\"278\",\"279\",\"280\",\"281\",\"282\",\"283\",\"284\",\"285\",\"286\",\"287\",\"288\",\"289\",\"290\",\"291\",\"292\",\"293\",\"294\",\"295\",\"296\",\"297\",\"298\",\"299\",\"300\",\"301\",\"302\",\"303\",\"304\",\"305\",\"306\",\"307\",\"308\",\"309\",\"310\",\"311\",\"312\",\"313\",\"314\",\"315\",\"316\",\"317\",\"318\",\"319\",\"320\",\"321\",\"322\",\"323\",\"324\",\"325\",\"326\",\"327\",\"328\",\"329\",\"330\",\"331\",\"332\",\"333\",\"334\",\"335\",\"336\",\"337\",\"338\",\"339\",\"340\",\"341\",\"342\",\"343\",\"344\",\"345\",\"346\",\"347\",\"348\",\"349\",\"350\",\"351\",\"352\",\"353\",\"354\",\"355\",\"356\",\"357\",\"358\",\"359\",\"360\",\"361\",\"362\",\"363\",\"364\",\"365\",\"366\",\"367\",\"368\",\"369\",\"370\",\"371\",\"372\",\"373\",\"374\",\"375\",\"376\",\"377\",\"378\",\"379\",\"380\",\"381\",\"382\",\"383\",\"384\",\"385\",\"386\",\"387\",\"388\",\"389\",\"390\",\"391\",\"392\",\"393\",\"394\",\"395\",\"396\",\"397\",\"398\",\"399\",\"400\",\"401\",\"402\",\"403\",\"404\",\"405\",\"406\",\"407\",\"408\",\"409\",\"410\",\"411\",\"412\",\"413\",\"414\",\"415\",\"416\",\"417\",\"418\",\"419\",\"420\",\"421\",\"422\",\"423\",\"424\",\"425\",\"426\",\"427\",\"428\",\"429\",\"430\",\"431\",\"432\",\"433\",\"434\",\"435\",\"436\",\"437\",\"438\",\"439\",\"440\",\"441\",\"442\",\"443\",\"444\",\"445\",\"446\",\"447\",\"448\",\"449\",\"450\",\"451\",\"452\",\"453\",\"454\",\"455\",\"456\",\"457\",\"458\",\"459\",\"460\",\"461\",\"462\",\"463\",\"464\",\"465\",\"466\",\"467\",\"468\",\"469\",\"470\",\"471\",\"472\",\"473\",\"474\",\"475\",\"476\",\"477\",\"478\",\"479\",\"480\",\"481\",\"482\",\"483\",\"484\",\"485\",\"486\",\"487\",\"488\",\"489\",\"490\",\"491\",\"492\",\"493\",\"494\",\"495\",\"496\",\"497\",\"498\",\"499\",\"500\",\"501\",\"502\",\"503\",\"504\",\"505\",\"506\",\"507\",\"508\",\"509\",\"510\",\"511\",\"512\",\"513\",\"514\",\"515\",\"516\",\"517\",\"518\",\"519\",\"520\",\"521\",\"522\",\"523\",\"524\",\"525\",\"526\",\"527\",\"528\",\"529\",\"530\",\"531\",\"532\",\"533\",\"534\",\"535\",\"536\",\"537\",\"538\",\"539\",\"540\",\"541\",\"542\",\"543\",\"544\",\"545\",\"546\",\"547\",\"548\",\"549\",\"550\",\"551\",\"552\",\"553\",\"554\",\"555\",\"556\",\"557\",\"558\",\"559\",\"560\",\"561\",\"562\",\"563\",\"564\",\"565\",\"566\",\"567\",\"568\",\"569\",\"570\",\"571\",\"572\",\"573\",\"574\",\"575\",\"576\",\"577\",\"578\",\"579\",\"580\",\"581\",\"582\",\"583\",\"584\",\"585\",\"586\",\"587\",\"588\",\"589\",\"590\",\"591\",\"592\",\"593\",\"594\",\"595\",\"596\",\"597\",\"598\",\"599\",\"600\",\"601\",\"602\",\"603\",\"604\",\"605\",\"606\",\"607\",\"608\",\"609\",\"610\",\"611\",\"612\",\"613\",\"614\",\"615\",\"616\",\"617\",\"618\",\"619\",\"620\",\"621\",\"622\",\"623\",\"624\",\"625\",\"626\",\"627\",\"628\",\"629\",\"630\",\"631\",\"632\",\"633\",\"634\",\"635\",\"636\",\"637\",\"638\",\"639\",\"640\",\"641\",\"642\",\"643\",\"644\",\"645\",\"646\",\"647\",\"648\",\"649\",\"650\",\"651\",\"652\",\"653\",\"654\",\"655\",\"656\",\"657\",\"658\",\"659\",\"660\",\"661\",\"662\",\"663\",\"664\",\"665\",\"666\",\"667\",\"668\"],\"tags\":[[[\"index\",\"index\",null]]]},\"id\":\"1632\",\"type\":\"FactorRange\"},{\"attributes\":{\"below\":[{\"id\":\"1644\"}],\"center\":[{\"id\":\"1646\"},{\"id\":\"1650\"}],\"left\":[{\"id\":\"1647\"}],\"margin\":[5,5,5,5],\"min_border_bottom\":10,\"min_border_left\":10,\"min_border_right\":10,\"min_border_top\":10,\"plot_height\":300,\"plot_width\":700,\"renderers\":[{\"id\":\"1670\"}],\"sizing_mode\":\"fixed\",\"title\":{\"id\":\"1636\"},\"toolbar\":{\"id\":\"1657\"},\"x_range\":{\"id\":\"1632\"},\"x_scale\":{\"id\":\"1640\"},\"y_range\":{\"id\":\"1633\"},\"y_scale\":{\"id\":\"1642\"}},\"id\":\"1635\",\"subtype\":\"Figure\",\"type\":\"Plot\"},{\"attributes\":{},\"id\":\"1675\",\"type\":\"BasicTickFormatter\"},{\"attributes\":{\"callback\":null,\"renderers\":[{\"id\":\"1670\"}],\"tags\":[\"hv_created\"],\"tooltips\":[[\"index\",\"@{index}\"],[\"Number of Users\",\"@{Number_of_Users}\"]]},\"id\":\"1634\",\"type\":\"HoverTool\"},{\"attributes\":{\"children\":[{\"id\":\"1631\"},{\"id\":\"1635\"},{\"id\":\"1692\"}],\"margin\":[0,0,0,0],\"name\":\"Row02790\",\"tags\":[\"embedded\"]},\"id\":\"1630\",\"type\":\"Row\"},{\"attributes\":{},\"id\":\"1645\",\"type\":\"CategoricalTicker\"},{\"attributes\":{},\"id\":\"1665\",\"type\":\"Selection\"},{\"attributes\":{\"axis_label\":\"\",\"bounds\":\"auto\",\"formatter\":{\"id\":\"1673\"},\"major_label_orientation\":\"horizontal\",\"ticker\":{\"id\":\"1645\"}},\"id\":\"1644\",\"type\":\"CategoricalAxis\"},{\"attributes\":{\"axis\":{\"id\":\"1647\"},\"dimension\":1,\"grid_line_color\":null,\"ticker\":null},\"id\":\"1650\",\"type\":\"Grid\"},{\"attributes\":{},\"id\":\"1652\",\"type\":\"PanTool\"},{\"attributes\":{},\"id\":\"1642\",\"type\":\"LinearScale\"},{\"attributes\":{\"axis_label\":\"Number of Users\",\"bounds\":\"auto\",\"formatter\":{\"id\":\"1675\"},\"major_label_orientation\":\"horizontal\",\"ticker\":{\"id\":\"1648\"}},\"id\":\"1647\",\"type\":\"LinearAxis\"},{\"attributes\":{},\"id\":\"1648\",\"type\":\"BasicTicker\"},{\"attributes\":{\"margin\":[5,5,5,5],\"name\":\"HSpacer02794\",\"sizing_mode\":\"stretch_width\"},\"id\":\"1631\",\"type\":\"Spacer\"},{\"attributes\":{},\"id\":\"1653\",\"type\":\"WheelZoomTool\"},{\"attributes\":{\"active_drag\":\"auto\",\"active_inspect\":\"auto\",\"active_multi\":null,\"active_scroll\":\"auto\",\"active_tap\":\"auto\",\"tools\":[{\"id\":\"1634\"},{\"id\":\"1651\"},{\"id\":\"1652\"},{\"id\":\"1653\"},{\"id\":\"1654\"},{\"id\":\"1655\"}]},\"id\":\"1657\",\"type\":\"Toolbar\"},{\"attributes\":{},\"id\":\"1651\",\"type\":\"SaveTool\"},{\"attributes\":{\"overlay\":{\"id\":\"1656\"}},\"id\":\"1654\",\"type\":\"BoxZoomTool\"}],\"root_ids\":[\"1630\"]},\"title\":\"Bokeh Application\",\"version\":\"2.2.3\"}};\n    var render_items = [{\"docid\":\"538ea09f-f888-4c8d-9251-15b753c0d5eb\",\"root_ids\":[\"1630\"],\"roots\":{\"1630\":\"ec3efb87-18fd-47c8-835e-df1b8a86d583\"}}];\n    root.Bokeh.embed.embed_items_notebook(docs_json, render_items);\n  }\n  if (root.Bokeh !== undefined && root.Bokeh.Panel !== undefined) {\n    embed_document(root);\n  } else {\n    var attempts = 0;\n    var timer = setInterval(function(root) {\n      if (root.Bokeh !== undefined && root.Bokeh.Panel !== undefined) {\n        clearInterval(timer);\n        embed_document(root);\n      } else if (document.readyState == \"complete\") {\n        attempts++;\n        if (attempts > 100) {\n          clearInterval(timer);\n          console.log(\"Bokeh: ERROR: Unable to run BokehJS code because BokehJS library is missing\");\n        }\n      }\n    }, 10, root)\n  }\n})(window);</script>",
      "application/vnd.holoviews_exec.v0+json": "",
      "text/plain": [
       ":Bars   [index]   (Number of Users)"
      ]
     },
     "metadata": {
      "application/vnd.holoviews_exec.v0+json": {
       "id": "1630"
      }
     },
     "execution_count": 71
    }
   ],
   "source": [
    "# Number of customers per state plots, top 15 (bar, map)\n",
    "num_customers = 15\n",
    "\n",
    "# TODO Parse address or lat/lon to get the state: https://docs.mapbox.com/api/search/#forward-geocoding\n",
    "\n",
    "states = pd.DataFrame([\"VA\"] * atlas.shape[0])\n",
    "\n",
    "df = pd.concat([states, atlas[\"Number of Users\"].reset_index()], axis=\"columns\", join=\"inner\")\n",
    "\n",
    "# df = atlas[\"Number of Users\"]\n",
    "# df.append(states)\n",
    "# df = pd.DataFrame([states, atlas[\"Number of Users\"]])\n",
    "# df.plot()\n",
    "\n",
    "df.hvplot.bar()"
   ]
  },
  {
   "cell_type": "code",
   "execution_count": null,
   "metadata": {},
   "outputs": [],
   "source": []
  },
  {
   "cell_type": "code",
   "execution_count": null,
   "metadata": {},
   "outputs": [],
   "source": []
  },
  {
   "cell_type": "code",
   "execution_count": null,
   "metadata": {},
   "outputs": [],
   "source": []
  }
 ],
 "metadata": {
  "kernelspec": {
   "display_name": "pyvizenv",
   "language": "python",
   "name": "pyvizenv"
  },
  "language_info": {
   "codemirror_mode": {
    "name": "ipython",
    "version": 3
   },
   "file_extension": ".py",
   "mimetype": "text/x-python",
   "name": "python",
   "nbconvert_exporter": "python",
   "pygments_lexer": "ipython3",
   "version": "3.8.3-final"
  }
 },
 "nbformat": 4,
 "nbformat_minor": 4
}