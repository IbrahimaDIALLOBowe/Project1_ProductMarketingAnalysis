
    "# System imports\n",
    "import os\n",
    "import pandas as pd\n",
    "import matplotlib.pyplot as plt\n",
    "import plotly.express as px\n",
    "import hvplot.pandas\n",
    "import panel as pn\n",
    "from pathlib import Path\n",
    "from dotenv import load_dotenv\n",
    "from panel.interact import interact\n",
    "from panel import widgets\n",
    "from string import digits\n",
    "import csv\n",
    "import json\n",
    "import numpy as np\n",
    "import dateparser\n",
    "import panel as pn\n",
    "\n",
    "pn.extension()\n",
    "\n",
    "%matplotlib inline"



    "# Local imports\n",
    "import sys\n",
    "sys.path.append(\"../lib2\")\n",
    "\n",
    "from Constants import Constants\n",
    "from ProcessingTools import DateProcessingTools"

    "# Construct the tools\n",
    "debug_level = 0\n",
    "constants = Constants()\n",
    "tool_data_processing = DateProcessingTools(debug_level)\n"

    "# Import all preprocessed data\n",
    "atlas           = pd.read_pickle(constants.PREPROCESSED_ATLAS_FILE_PATH)\n",
    "forecast        = pd.read_pickle(constants.PREPROCESSED_FORECAST_DATA_FILE_PATH)\n",
    "revenue2020     = pd.read_pickle(constants.PREPROCESSED_REVENUE2020_FILE_PATH)\n",
    "revenue2020A    = pd.read_pickle(constants.PREPROCESSED_REVENUE2020A_FILE_PATH)\n",
    "atlas2          = pd.read_pickle(constants.PREPROCESSED_ATLAS_2_FILE_PATH)\n"

    "load_dotenv()\n",
    "mapbox_token = os.getenv(\"MAPBOX_API_KEY\")"


    "atlas2.head()"

    "# Calculate the mean values for each neighborhood\n",
    "#rankings_pd.rename(columns = {'test':'TEST', 'odi':'ODI', \n",
    "#                              't20':'T20'}, inplace = True) \n",
    "\n",
    "#atlas2.columns = [\"Customers\", \"Lat\", \"Long\"]\n",
    "\n",
    "total_data = atlas2.groupby([\"Customers\"]).sum()\n",
    "total_data.reset_index(inplace=True)\n",
    "total_data.dropna(inplace=True)\n",
    "total_data\n"




    "px.set_mapbox_access_token(mapbox_token)\n",
    "map = px.scatter_mapbox(\n",
    "    total_data,\n",
    "    lat=\"Lat\",\n",
    "    lon=\"Long\",\n",
    "    size=\"Invoice Amount\",\n",
    "    color=\"Customers\"\n",
    ")\n",
    "map.show()"

    "total_data.hvplot(kind='line', figsize=(20, 10))"



