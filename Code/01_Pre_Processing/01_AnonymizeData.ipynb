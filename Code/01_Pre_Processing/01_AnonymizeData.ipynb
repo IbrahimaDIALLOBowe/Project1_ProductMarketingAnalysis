{
 "cells": [
  {
   "source": [
    "# Initialize"
   ],
   "cell_type": "markdown",
   "metadata": {}
  },
  {
   "cell_type": "code",
   "execution_count": 1,
   "metadata": {},
   "outputs": [],
   "source": [
    "TODO https://panel.holoviz.org/user_guide/Pipelines.html\n",
    "\n",
    "# Options\n",
    "\n",
    "## Debugging level\n",
    "debug_level = 0\n",
    "\n",
    "## Anonymize toggle\n",
    "anonymize = False\n"
   ]
  },
  {
   "cell_type": "code",
   "execution_count": 2,
   "metadata": {},
   "outputs": [],
   "source": [
    "# Initialize framework\n",
    "constants, tools = init_preprocessing(debug_level)\n",
    "%matplotlib inline\n"
   ]
  },
  {
   "cell_type": "code",
   "execution_count": 3,
   "metadata": {
    "tags": []
   },
   "outputs": [],
   "source": [
    "# Build the anonymous customer name mapping\n",
    "\n",
    "## Read the datasets into Pandas DataFrames\n",
    "atlas               = pd.read_csv(constants.RAW_ATLAS_FILE_PATH, index_col=\"Customers\")\n",
    "forecast            = pd.read_csv(constants.RAW_FORECAST_DATA_FILE_PATH, index_col=\"Organization Name\")\n",
    "revenue2020         = pd.read_csv(constants.RAW_REVENUE2020_FILE_PATH, index_col=\"Name\")\n",
    "revenue2020A        = pd.read_csv(constants.RAW_REVENUE2020A_FILE_PATH, index_col=\"Payee Name\")\n",
    "potential_customers_file    = pd.read_csv(constants.RAW_POTENTIAL_CUSTOMERS_FILE_PATH, index_col=\"Customer Name\")\n",
    "\n",
    "## Extract paying customers\n",
    "atlas_customers_raw             = atlas.index.to_list()\n",
    "forecast_customers_raw          = forecast.index.to_list()\n",
    "revenue2020_customers_raw       = revenue2020.index.to_list()\n",
    "revenue2020A_customers_raw      = revenue2020A.index.to_list()\n",
    "potential_customers_raw         = potential_customers_file.index.to_list()\n",
    "\n",
    "## Clean up names\n",
    "atlas_customers_cleaned             = tools.tool_customer.cleanup_customer_names(atlas_customers_raw)\n",
    "forecast_customers_cleaned          = tools.tool_customer.cleanup_customer_names(forecast_customers_raw)\n",
    "revenue2020_customers_cleaned       = tools.tool_customer.cleanup_customer_names(revenue2020_customers_raw)\n",
    "revenue2020A_customers_cleaned      = tools.tool_customer.cleanup_customer_names(revenue2020A_customers_raw)\n",
    "potential_customers_cleaned         = tools.tool_customer.cleanup_customer_names(potential_customers_raw)\n",
    "\n",
    "## Build name mapping\n",
    "name_mapping                            = tools.tool_mapping.build_name_mapping(atlas_customers_cleaned, {})\n",
    "name_mapping                            = tools.tool_mapping.build_name_mapping(forecast_customers_cleaned, name_mapping)\n",
    "name_mapping                            = tools.tool_mapping.build_name_mapping(revenue2020_customers_cleaned, name_mapping)\n",
    "name_mapping                            = tools.tool_mapping.build_name_mapping(revenue2020A_customers_cleaned, name_mapping)\n",
    "name_mapping_potential_customers        = tools.tool_mapping.build_name_mapping(potential_customers_cleaned, {})\n",
    "\n",
    "## Export the name mappings\n",
    "tools.tool_mapping.write_customer_name_mapping(name_mapping)\n",
    "tools.tool_mapping.write_lookup_table(name_mapping_potential_customers, constants.LUT_POTENTIAL_CUSTOMER_NAME_FILE_PATH)\n",
    "\n",
    "## Export the customer name list\n",
    "if anonymize:\n",
    "    tools.tool_mapping.write_list( list(set(name_mapping.values())),\n",
    "        constants.LIST_CUSTOMER_NAME_LIST_FILE_PATH)\n",
    "    tools.tool_mapping.write_list( list(set(name_mapping_potential_customers.values())),\n",
    "        constants.LIST_POTENTIAL_CUSTOMER_NAME_LIST_FILE_PATH)\n",
    "else:\n",
    "    tools.tool_mapping.write_list( list(set(name_mapping.keys())),\n",
    "        constants.LIST_CUSTOMER_NAME_LIST_FILE_PATH)\n",
    "    tools.tool_mapping.write_list( list(set(name_mapping_potential_customers.keys())),\n",
    "        constants.LIST_POTENTIAL_CUSTOMER_NAME_LIST_FILE_PATH)\n"
   ]
  },
  {
   "cell_type": "code",
   "execution_count": 4,
   "metadata": {
    "tags": []
   },
   "outputs": [
    {
     "output_type": "stream",
     "name": "stdout",
     "text": [
      "NOT anonymizing data!\n"
     ]
    }
   ],
   "source": [
    "# Anonymize the raw data files\n",
    "\n",
    "## Clean up names\n",
    "atlas_customers_cleaned         = tools.tool_customer.cleanup_customer_names(atlas_customers_raw)\n",
    "forecast_customers_cleaned      = tools.tool_customer.cleanup_customer_names(forecast_customers_raw)\n",
    "revenue2020_customers_cleaned   = tools.tool_customer.cleanup_customer_names(revenue2020_customers_raw)\n",
    "revenue2020A_customers_cleaned  = tools.tool_customer.cleanup_customer_names(revenue2020A_customers_raw)\n",
    "\n",
    "\n",
    "if anonymize:\n",
    "\n",
    "    print(\"Anonymizing data!\")\n",
    "\n",
    "    ## Import name mapping\n",
    "    customer_name_mapping = tool_mapping.read_customer_name_mapping()\n",
    "\n",
    "    ## Map the customer names\n",
    "    atlas_customers_finalized              = tools.tool_customer.anonymize_customer_list(atlas_customers_cleaned, customer_name_mapping)\n",
    "    forecast_customers_finalized           = tools.tool_customer.anonymize_customer_list(forecast_customers_cleaned, customer_name_mapping)\n",
    "    revenue2020_customers_finalized        = tools.tool_customer.anonymize_customer_list(revenue2020_customers_cleaned, customer_name_mapping)\n",
    "    revenue2020A_customers_finalized       = tools.tool_customer.anonymize_customer_list(revenue2020A_customers_cleaned, customer_name_mapping)\n",
    "\n",
    "\n",
    "else:\n",
    "    \n",
    "    print(\"NOT anonymizing data!\")\n",
    "    atlas_customers_finalized = atlas_customers_cleaned\n",
    "    forecast_customers_finalized = forecast_customers_cleaned\n",
    "    revenue2020_customers_finalized = revenue2020_customers_cleaned\n",
    "    revenue2020A_customers_finalized = revenue2020A_customers_cleaned\n",
    "\n",
    "\n",
    "# Fix the customers in the DataFrames\n",
    "atlas           = tools.tool_customer.set_customers_index(atlas, atlas_customers_finalized, \"Customers\")\n",
    "forecast        = tools.tool_customer.set_customers_index(forecast, forecast_customers_finalized, \"Organization Name\")\n",
    "revenue2020     = tools.tool_customer.set_customers_index(revenue2020, revenue2020_customers_finalized, \"Name\")\n",
    "revenue2020A    = tools.tool_customer.set_customers_index(revenue2020A, revenue2020A_customers_finalized, \"Payee Name\")"
   ]
  },
  {
   "cell_type": "code",
   "execution_count": 5,
   "metadata": {},
   "outputs": [],
   "source": [
    "# Export\n",
    "atlas.to_csv(constants.ANON_ATLAS_FILE_PATH)\n",
    "forecast.to_csv(constants.ANON_FORECAST_DATA_FILE_PATH)\n",
    "revenue2020.to_csv(constants.ANON_REVENUE2020_FILE_PATH)\n",
    "revenue2020A.to_csv(constants.ANON_REVENUE2020A_FILE_PATH)\n"
   ]
  },
  {
   "cell_type": "code",
   "execution_count": null,
   "metadata": {},
   "outputs": [],
   "source": []
  }
 ],
 "metadata": {
  "kernelspec": {
   "display_name": "pyvizenv",
   "language": "python",
   "name": "pyvizenv"
  },
  "language_info": {
   "codemirror_mode": {
    "name": "ipython",
    "version": 3
   },
   "file_extension": ".py",
   "mimetype": "text/x-python",
   "name": "python",
   "nbconvert_exporter": "python",
   "pygments_lexer": "ipython3",
   "version": "3.8.3-final"
  }
 },
 "nbformat": 4,
 "nbformat_minor": 4
}