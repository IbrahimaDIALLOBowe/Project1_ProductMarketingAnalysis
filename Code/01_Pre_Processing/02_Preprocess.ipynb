{
 "cells": [
  {
   "source": [
    "# Initialize"
   ],
   "cell_type": "markdown",
   "metadata": {}
  },
  {
   "cell_type": "code",
   "execution_count": 1,
   "metadata": {},
   "outputs": [],
   "source": [
    "# Options\n",
    "\n",
    "## Debugging level\n",
    "debug_level = 0\n"
   ]
  },
  {
   "cell_type": "code",
   "execution_count": 2,
   "metadata": {},
   "outputs": [],
   "source": [
    "# Initialize framework\n",
    "constants, tools = init_preprocessing(debug_level)\n",
    "%matplotlib inline\n"
   ]
  },
  {
   "cell_type": "code",
   "execution_count": 3,
   "metadata": {},
   "outputs": [],
   "source": [
    "# Read anonymized data\n",
    "atlas                   = pd.read_csv(constants.ANON_ATLAS_FILE_PATH, index_col=\"Customers\")\n",
    "forecast                = pd.read_csv(constants.ANON_FORECAST_DATA_FILE_PATH, index_col=\"Organization Name\")\n",
    "revenue2020             = pd.read_csv(constants.ANON_REVENUE2020_FILE_PATH, index_col=\"Name\")\n",
    "revenue2020A            = pd.read_csv(constants.ANON_REVENUE2020A_FILE_PATH, index_col=\"Payee Name\")\n"
   ]
  },
  {
   "cell_type": "code",
   "execution_count": 4,
   "metadata": {
    "tags": []
   },
   "outputs": [
    {
     "output_type": "execute_result",
     "data": {
      "text/plain": [
       "                                             Number of Users  \\\n",
       "Customers                                                      \n",
       "Alabama A&M University-College Of Education              NaN   \n",
       "Albertus Magnus College                                  NaN   \n",
       "Albuquerque Public Schools                               NaN   \n",
       "Alcorn State University                                  NaN   \n",
       "Alderson Broaddus University                            50.0   \n",
       "\n",
       "                                                         Invoice Date  \\\n",
       "Customers                                                               \n",
       "Alabama A&M University-College Of Education 2018-03-23 00:00:00-04:00   \n",
       "Albertus Magnus College                     2018-05-16 00:00:00-04:00   \n",
       "Albuquerque Public Schools                  2018-11-20 00:00:00-05:00   \n",
       "Alcorn State University                     2017-10-31 00:00:00-04:00   \n",
       "Alderson Broaddus University                2020-10-07 00:00:00-04:00   \n",
       "\n",
       "                                             Invoice #  Invoice Amount  \\\n",
       "Customers                                                                \n",
       "Alabama A&M University-College Of Education        105          5460.0   \n",
       "Albertus Magnus College                            127          5670.0   \n",
       "Albuquerque Public Schools                         161          2270.0   \n",
       "Alcorn State University                            NaN          1700.0   \n",
       "Alderson Broaddus University                 NB100820K           500.0   \n",
       "\n",
       "                                            Subscription  \\\n",
       "Customers                                                  \n",
       "Alabama A&M University-College Of Education      3 Years   \n",
       "Albertus Magnus College                          3 Years   \n",
       "Albuquerque Public Schools                        1 Year   \n",
       "Alcorn State University                           1 Year   \n",
       "Alderson Broaddus University                    3 Months   \n",
       "\n",
       "                                                       Account Code   \\\n",
       "Customers                                                              \n",
       "Alabama A&M University-College Of Education  4700-0-00-00000-00-0000   \n",
       "Albertus Magnus College                      4700-0-00-00000-00-0000   \n",
       "Albuquerque Public Schools                   4700-0-00-00000-00-0000   \n",
       "Alcorn State University                      4700-0-00-00000-00-0000   \n",
       "Alderson Broaddus University                 4700-0-00-00000-00-0000   \n",
       "\n",
       "                                                                              Address  \\\n",
       "Customers                                                                               \n",
       "Alabama A&M University-College Of Education  4900 Meridian St N, Huntsville, AL 35811   \n",
       "Albertus Magnus College                          700 Prospect St, New Haven, CT 06511   \n",
       "Albuquerque Public Schools                         Po Box 25704 Albuquerque, NM 87125   \n",
       "Alcorn State University                                 1000 Asu Dr, Lorman, MS 39096   \n",
       "Alderson Broaddus University                  101 College Hill Rd, Philippi, WV 26416   \n",
       "\n",
       "                                            State        Lat        Long  \\\n",
       "Customers                                                                  \n",
       "Alabama A&M University-College Of Education    AL  34.785061  -86.573280   \n",
       "Albertus Magnus College                        CT  41.331299  -72.921440   \n",
       "Albuquerque Public Schools                     NM  35.092410 -106.642950   \n",
       "Alcorn State University                        MS  31.875710  -91.141739   \n",
       "Alderson Broaddus University                   WV  39.160261  -80.049048   \n",
       "\n",
       "                                                        Service Start  \\\n",
       "Customers                                                               \n",
       "Alabama A&M University-College Of Education 2018-03-21 00:00:00-04:00   \n",
       "Albertus Magnus College                     2018-09-01 00:00:00-04:00   \n",
       "Albuquerque Public Schools                  2018-11-19 00:00:00-05:00   \n",
       "Alcorn State University                     2017-08-31 00:00:00-04:00   \n",
       "Alderson Broaddus University                2020-10-02 00:00:00-04:00   \n",
       "\n",
       "                                                          Service End  \\\n",
       "Customers                                                               \n",
       "Alabama A&M University-College Of Education 2021-03-31 00:00:00-04:00   \n",
       "Albertus Magnus College                     2021-08-31 00:00:00-04:00   \n",
       "Albuquerque Public Schools                  2019-11-30 00:00:00-05:00   \n",
       "Alcorn State University                     2018-08-31 00:00:00-04:00   \n",
       "Alderson Broaddus University                2020-12-31 00:00:00-05:00   \n",
       "\n",
       "                                            SubscriptionDuration_Timedelta  \\\n",
       "Customers                                                                    \n",
       "Alabama A&M University-College Of Education                      1095 days   \n",
       "Albertus Magnus College                                          1095 days   \n",
       "Albuquerque Public Schools                                        365 days   \n",
       "Alcorn State University                                           365 days   \n",
       "Alderson Broaddus University                                       90 days   \n",
       "\n",
       "                                             SubscriptionDuration_Years  \n",
       "Customers                                                                \n",
       "Alabama A&M University-College Of Education                        3.00  \n",
       "Albertus Magnus College                                            3.00  \n",
       "Albuquerque Public Schools                                         1.00  \n",
       "Alcorn State University                                            1.00  \n",
       "Alderson Broaddus University                                       0.25  "
      ],
      "text/html": "<div>\n<style scoped>\n    .dataframe tbody tr th:only-of-type {\n        vertical-align: middle;\n    }\n\n    .dataframe tbody tr th {\n        vertical-align: top;\n    }\n\n    .dataframe thead th {\n        text-align: right;\n    }\n</style>\n<table border=\"1\" class=\"dataframe\">\n  <thead>\n    <tr style=\"text-align: right;\">\n      <th></th>\n      <th>Number of Users</th>\n      <th>Invoice Date</th>\n      <th>Invoice #</th>\n      <th>Invoice Amount</th>\n      <th>Subscription</th>\n      <th>Account Code</th>\n      <th>Address</th>\n      <th>State</th>\n      <th>Lat</th>\n      <th>Long</th>\n      <th>Service Start</th>\n      <th>Service End</th>\n      <th>SubscriptionDuration_Timedelta</th>\n      <th>SubscriptionDuration_Years</th>\n    </tr>\n    <tr>\n      <th>Customers</th>\n      <th></th>\n      <th></th>\n      <th></th>\n      <th></th>\n      <th></th>\n      <th></th>\n      <th></th>\n      <th></th>\n      <th></th>\n      <th></th>\n      <th></th>\n      <th></th>\n      <th></th>\n      <th></th>\n    </tr>\n  </thead>\n  <tbody>\n    <tr>\n      <th>Alabama A&amp;M University-College Of Education</th>\n      <td>NaN</td>\n      <td>2018-03-23 00:00:00-04:00</td>\n      <td>105</td>\n      <td>5460.0</td>\n      <td>3 Years</td>\n      <td>4700-0-00-00000-00-0000</td>\n      <td>4900 Meridian St N, Huntsville, AL 35811</td>\n      <td>AL</td>\n      <td>34.785061</td>\n      <td>-86.573280</td>\n      <td>2018-03-21 00:00:00-04:00</td>\n      <td>2021-03-31 00:00:00-04:00</td>\n      <td>1095 days</td>\n      <td>3.00</td>\n    </tr>\n    <tr>\n      <th>Albertus Magnus College</th>\n      <td>NaN</td>\n      <td>2018-05-16 00:00:00-04:00</td>\n      <td>127</td>\n      <td>5670.0</td>\n      <td>3 Years</td>\n      <td>4700-0-00-00000-00-0000</td>\n      <td>700 Prospect St, New Haven, CT 06511</td>\n      <td>CT</td>\n      <td>41.331299</td>\n      <td>-72.921440</td>\n      <td>2018-09-01 00:00:00-04:00</td>\n      <td>2021-08-31 00:00:00-04:00</td>\n      <td>1095 days</td>\n      <td>3.00</td>\n    </tr>\n    <tr>\n      <th>Albuquerque Public Schools</th>\n      <td>NaN</td>\n      <td>2018-11-20 00:00:00-05:00</td>\n      <td>161</td>\n      <td>2270.0</td>\n      <td>1 Year</td>\n      <td>4700-0-00-00000-00-0000</td>\n      <td>Po Box 25704 Albuquerque, NM 87125</td>\n      <td>NM</td>\n      <td>35.092410</td>\n      <td>-106.642950</td>\n      <td>2018-11-19 00:00:00-05:00</td>\n      <td>2019-11-30 00:00:00-05:00</td>\n      <td>365 days</td>\n      <td>1.00</td>\n    </tr>\n    <tr>\n      <th>Alcorn State University</th>\n      <td>NaN</td>\n      <td>2017-10-31 00:00:00-04:00</td>\n      <td>NaN</td>\n      <td>1700.0</td>\n      <td>1 Year</td>\n      <td>4700-0-00-00000-00-0000</td>\n      <td>1000 Asu Dr, Lorman, MS 39096</td>\n      <td>MS</td>\n      <td>31.875710</td>\n      <td>-91.141739</td>\n      <td>2017-08-31 00:00:00-04:00</td>\n      <td>2018-08-31 00:00:00-04:00</td>\n      <td>365 days</td>\n      <td>1.00</td>\n    </tr>\n    <tr>\n      <th>Alderson Broaddus University</th>\n      <td>50.0</td>\n      <td>2020-10-07 00:00:00-04:00</td>\n      <td>NB100820K</td>\n      <td>500.0</td>\n      <td>3 Months</td>\n      <td>4700-0-00-00000-00-0000</td>\n      <td>101 College Hill Rd, Philippi, WV 26416</td>\n      <td>WV</td>\n      <td>39.160261</td>\n      <td>-80.049048</td>\n      <td>2020-10-02 00:00:00-04:00</td>\n      <td>2020-12-31 00:00:00-05:00</td>\n      <td>90 days</td>\n      <td>0.25</td>\n    </tr>\n  </tbody>\n</table>\n</div>"
     },
     "metadata": {},
     "execution_count": 4
    }
   ],
   "source": [
    "# Clean up ATLAS data\n",
    "\n",
    "## Invoice Date\n",
    "atlas[\"Invoice Date\"]           = tools.tool_date.cleanup_date_string_list(atlas[\"Invoice Date\"])\n",
    "\n",
    "## Invoice Amount\n",
    "atlas[\"Invoice Amount\"]         = tools.tool_date.cleanup_dollar_string_list(atlas[\"Invoice Amount\"])\n",
    "\n",
    "## Dates of service\n",
    "dates_of_service                = tools.tool_special_date.extract_subscription_dates_list(atlas[\"Dates of service \"])\n",
    "atlas[\"Service Start\"]          = dates_of_service[0]\n",
    "atlas[\"Service End\"]            = dates_of_service[1]\n",
    "atlas.drop(columns=[\"Dates of service \"], inplace=True)\n",
    "\n",
    "## Transform Subscription into a duration to enable math\n",
    "atlas[\"SubscriptionDuration_Timedelta\"] = tools.tool_duration_parsing.parse_duration_str_list_to_timedelta(atlas[\"Subscription\"])\n",
    "atlas[\"SubscriptionDuration_Years\"] = tools.tool_duration_parsing.parse_duration_str_list_to_years(atlas[\"Subscription\"])\n",
    "\n",
    "atlas.head()\n"
   ]
  },
  {
   "cell_type": "code",
   "execution_count": 5,
   "metadata": {},
   "outputs": [
    {
     "output_type": "execute_result",
     "data": {
      "text/plain": [
       "Number of Users                                            float64\n",
       "Invoice Date                      datetime64[ns, America/New_York]\n",
       "Invoice #                                                   object\n",
       "Invoice Amount                                             float64\n",
       "Subscription                                                object\n",
       "Account Code                                                object\n",
       "Address                                                     object\n",
       "State                                                       object\n",
       "Lat                                                        float64\n",
       "Long                                                       float64\n",
       "Service Start                     datetime64[ns, America/New_York]\n",
       "Service End                       datetime64[ns, America/New_York]\n",
       "SubscriptionDuration_Timedelta                     timedelta64[ns]\n",
       "SubscriptionDuration_Years                                 float64\n",
       "dtype: object"
      ]
     },
     "metadata": {},
     "execution_count": 5
    }
   ],
   "source": [
    "atlas.dtypes"
   ]
  },
  {
   "cell_type": "code",
   "execution_count": 6,
   "metadata": {
    "tags": []
   },
   "outputs": [
    {
     "output_type": "execute_result",
     "data": {
      "text/plain": [
       "                              Mailing State/Province Organization Record Type  \\\n",
       "Organization Name                                                               \n",
       "University Of West Alabama                        AL       College/University   \n",
       "Georgia Gwinnett College                          GA       College/University   \n",
       "University Of Guam                                GU       College/University   \n",
       "University Of Hawaii At Manoa                 Hawaii       College/University   \n",
       "University Of Jamestown                 North Dakota     General Organization   \n",
       "\n",
       "                                ATLAS Customer Type  Subscription Fee  \\\n",
       "Organization Name                                                       \n",
       "University Of West Alabama          System Wide IHE              62.6   \n",
       "Georgia Gwinnett College       Teacher Prep Program             250.0   \n",
       "University Of Guam                              NaN             250.0   \n",
       "University Of Hawaii At Manoa  Teacher Prep Program             425.0   \n",
       "University Of Jamestown                         NaN             425.0   \n",
       "\n",
       "                              Subscription Type       Contract Start Date  \\\n",
       "Organization Name                                                           \n",
       "University Of West Alabama              3-Month 2020-04-01 00:00:00-04:00   \n",
       "Georgia Gwinnett College                3-Month 2020-03-24 00:00:00-04:00   \n",
       "University Of Guam                      3-Month 2020-03-25 00:00:00-04:00   \n",
       "University Of Hawaii At Manoa           3-Month 2020-03-25 00:00:00-04:00   \n",
       "University Of Jamestown                 3-Month 2020-04-09 00:00:00-04:00   \n",
       "\n",
       "                                      Contract End Date  \\\n",
       "Organization Name                                         \n",
       "University Of West Alabama    2020-06-30 00:00:00-04:00   \n",
       "Georgia Gwinnett College      2020-06-30 00:00:00-04:00   \n",
       "University Of Guam            2020-06-30 00:00:00-04:00   \n",
       "University Of Hawaii At Manoa 2020-06-30 00:00:00-04:00   \n",
       "University Of Jamestown       2020-06-30 00:00:00-04:00   \n",
       "\n",
       "                              SubscriptionDuration_Timedelta  \\\n",
       "Organization Name                                              \n",
       "University Of West Alabama                           90 days   \n",
       "Georgia Gwinnett College                             90 days   \n",
       "University Of Guam                                   90 days   \n",
       "University Of Hawaii At Manoa                        90 days   \n",
       "University Of Jamestown                              90 days   \n",
       "\n",
       "                               SubscriptionDuration_Years  \n",
       "Organization Name                                          \n",
       "University Of West Alabama                           0.25  \n",
       "Georgia Gwinnett College                             0.25  \n",
       "University Of Guam                                   0.25  \n",
       "University Of Hawaii At Manoa                        0.25  \n",
       "University Of Jamestown                              0.25  "
      ],
      "text/html": "<div>\n<style scoped>\n    .dataframe tbody tr th:only-of-type {\n        vertical-align: middle;\n    }\n\n    .dataframe tbody tr th {\n        vertical-align: top;\n    }\n\n    .dataframe thead th {\n        text-align: right;\n    }\n</style>\n<table border=\"1\" class=\"dataframe\">\n  <thead>\n    <tr style=\"text-align: right;\">\n      <th></th>\n      <th>Mailing State/Province</th>\n      <th>Organization Record Type</th>\n      <th>ATLAS Customer Type</th>\n      <th>Subscription Fee</th>\n      <th>Subscription Type</th>\n      <th>Contract Start Date</th>\n      <th>Contract End Date</th>\n      <th>SubscriptionDuration_Timedelta</th>\n      <th>SubscriptionDuration_Years</th>\n    </tr>\n    <tr>\n      <th>Organization Name</th>\n      <th></th>\n      <th></th>\n      <th></th>\n      <th></th>\n      <th></th>\n      <th></th>\n      <th></th>\n      <th></th>\n      <th></th>\n    </tr>\n  </thead>\n  <tbody>\n    <tr>\n      <th>University Of West Alabama</th>\n      <td>AL</td>\n      <td>College/University</td>\n      <td>System Wide IHE</td>\n      <td>62.6</td>\n      <td>3-Month</td>\n      <td>2020-04-01 00:00:00-04:00</td>\n      <td>2020-06-30 00:00:00-04:00</td>\n      <td>90 days</td>\n      <td>0.25</td>\n    </tr>\n    <tr>\n      <th>Georgia Gwinnett College</th>\n      <td>GA</td>\n      <td>College/University</td>\n      <td>Teacher Prep Program</td>\n      <td>250.0</td>\n      <td>3-Month</td>\n      <td>2020-03-24 00:00:00-04:00</td>\n      <td>2020-06-30 00:00:00-04:00</td>\n      <td>90 days</td>\n      <td>0.25</td>\n    </tr>\n    <tr>\n      <th>University Of Guam</th>\n      <td>GU</td>\n      <td>College/University</td>\n      <td>NaN</td>\n      <td>250.0</td>\n      <td>3-Month</td>\n      <td>2020-03-25 00:00:00-04:00</td>\n      <td>2020-06-30 00:00:00-04:00</td>\n      <td>90 days</td>\n      <td>0.25</td>\n    </tr>\n    <tr>\n      <th>University Of Hawaii At Manoa</th>\n      <td>Hawaii</td>\n      <td>College/University</td>\n      <td>Teacher Prep Program</td>\n      <td>425.0</td>\n      <td>3-Month</td>\n      <td>2020-03-25 00:00:00-04:00</td>\n      <td>2020-06-30 00:00:00-04:00</td>\n      <td>90 days</td>\n      <td>0.25</td>\n    </tr>\n    <tr>\n      <th>University Of Jamestown</th>\n      <td>North Dakota</td>\n      <td>General Organization</td>\n      <td>NaN</td>\n      <td>425.0</td>\n      <td>3-Month</td>\n      <td>2020-04-09 00:00:00-04:00</td>\n      <td>2020-06-30 00:00:00-04:00</td>\n      <td>90 days</td>\n      <td>0.25</td>\n    </tr>\n  </tbody>\n</table>\n</div>"
     },
     "metadata": {},
     "execution_count": 6
    }
   ],
   "source": [
    "# Clean up 2021 forecast data\n",
    "\n",
    "## Remove blank columns\n",
    "forecast.drop(\n",
    "    columns=[\"Unnamed: 8\", \"Unnamed: 9\", \"Unnamed: 10\", \"Unnamed: 11\", \"Unnamed: 12\", \"Unnamed: 13\", \"Unnamed: 14\", \"Unnamed: 15\", \"Unnamed: 16\", \"Unnamed: 17\", \"Unnamed: 18\", \"Unnamed: 19\", \"Unnamed: 20\", \"Unnamed: 21\", \"Unnamed: 22\", \"Unnamed: 23\", \"Unnamed: 24\", \"Unnamed: 25\", \"Unnamed: 26\", \"Unnamed: 27\", \"Unnamed: 28\", \"Unnamed: 29\", \"Unnamed: 30\", \"Unnamed: 31\", \"Unnamed: 32\", \"Unnamed: 33\", \"Unnamed: 34\", \"Unnamed: 35\", \"Unnamed: 36\", \"Unnamed: 37\", \"Unnamed: 38\", \"Unnamed: 39\", \"Unnamed: 40\", \"Unnamed: 41\", \"Unnamed: 42\", \"Unnamed: 43\", \"Unnamed: 44\", \"Unnamed: 45\", \"Unnamed: 46\", \"Unnamed: 47\", \"Unnamed: 48\", \"Unnamed: 49\", \"Unnamed: 50\", \"Unnamed: 51\", \"Unnamed: 52\", \"Unnamed: 53\", \"Unnamed: 54\", \"Unnamed: 55\", \"Unnamed: 56\", \"Unnamed: 57\", \"Unnamed: 58\", \"Unnamed: 59\", \"Unnamed: 60\", \"Unnamed: 61\", \"Unnamed: 62\", \"Unnamed: 63\", \"Unnamed: 64\", \"Unnamed: 65\", \"Unnamed: 66\", \"Unnamed: 67\", \"Unnamed: 68\", \"Unnamed: 69\", \"Unnamed: 70\", \"Unnamed: 71\", \"Unnamed: 72\", \"Unnamed: 73\", \"Unnamed: 74\", \"Unnamed: 75\", \"Unnamed: 76\", \"Unnamed: 77\", \"Unnamed: 78\", \"Unnamed: 79\", \"Unnamed: 80\", \"Unnamed: 81\", \"Unnamed: 82\", \"Unnamed: 83\", \"Unnamed: 84\", \"Unnamed: 85\", \"Unnamed: 86\", \"Unnamed: 87\", \"Unnamed: 88\", \"Unnamed: 89\", \"Unnamed: 90\", \"Unnamed: 91\", \"Unnamed: 92\", \"Unnamed: 93\", \"Unnamed: 94\", \"Unnamed: 95\", \"Unnamed: 96\", \"Unnamed: 97\", \"Unnamed: 98\", \"Unnamed: 99\", \"Unnamed: 100\", \"Unnamed: 101\", \"Unnamed: 102\", \"Unnamed: 103\", \"Unnamed: 104\", \"Unnamed: 105\", \"Unnamed: 106\", \"Unnamed: 107\", \"Unnamed: 108\", \"Unnamed: 109\", \"Unnamed: 110\", \"Unnamed: 111\", \"Unnamed: 112\", \"Unnamed: 113\"],\n",
    "    inplace=True)\n",
    "\n",
    "## Parse dates\n",
    "forecast[\"Contract Start Date\"]     = tools.tool_date.cleanup_date_string_list(forecast[\"Contract Start Date\"])\n",
    "forecast[\"Contract End Date\"]       = tools.tool_date.cleanup_date_string_list(forecast[\"Contract End Date\"])\n",
    "\n",
    "## Parse dollars\n",
    "forecast[\"Subscription Fee\"]        = tools.tool_date.cleanup_dollar_string_list(forecast[\"Subscription Fee\"])\n",
    "\n",
    "## Transform Subscription into a duration to enable math\n",
    "forecast[\"SubscriptionDuration_Timedelta\"] = tools.tool_duration_parsing.parse_duration_str_list_to_timedelta(forecast[\"Subscription Type\"])\n",
    "forecast[\"SubscriptionDuration_Years\"] = tools.tool_duration_parsing.parse_duration_str_list_to_years(forecast[\"Subscription Type\"])\n",
    "\n",
    "forecast.head()"
   ]
  },
  {
   "cell_type": "code",
   "execution_count": 7,
   "metadata": {},
   "outputs": [
    {
     "output_type": "execute_result",
     "data": {
      "text/plain": [
       "Mailing State/Province                                      object\n",
       "Organization Record Type                                    object\n",
       "ATLAS Customer Type                                         object\n",
       "Subscription Fee                                           float64\n",
       "Subscription Type                                           object\n",
       "Contract Start Date               datetime64[ns, America/New_York]\n",
       "Contract End Date                 datetime64[ns, America/New_York]\n",
       "SubscriptionDuration_Timedelta                     timedelta64[ns]\n",
       "SubscriptionDuration_Years                                 float64\n",
       "dtype: object"
      ]
     },
     "metadata": {},
     "execution_count": 7
    }
   ],
   "source": [
    "forecast.dtypes"
   ]
  },
  {
   "cell_type": "code",
   "execution_count": 8,
   "metadata": {
    "tags": []
   },
   "outputs": [
    {
     "output_type": "execute_result",
     "data": {
      "text/plain": [
       "                        Month    Total          Month_Dateformat\n",
       "Name                                                            \n",
       "Al A&M Univ College       Jan  1820.00 2020-01-05 00:00:00-05:00\n",
       "Albertus Magnus College   Jan  1890.00 2020-01-05 00:00:00-05:00\n",
       "American College Of Ed    Jan   883.33 2020-01-05 00:00:00-05:00\n",
       "Bainbridge Island         Jan  1200.00 2020-01-05 00:00:00-05:00\n",
       "Cerra Scnbn               Jan  1166.67 2020-01-05 00:00:00-05:00"
      ],
      "text/html": "<div>\n<style scoped>\n    .dataframe tbody tr th:only-of-type {\n        vertical-align: middle;\n    }\n\n    .dataframe tbody tr th {\n        vertical-align: top;\n    }\n\n    .dataframe thead th {\n        text-align: right;\n    }\n</style>\n<table border=\"1\" class=\"dataframe\">\n  <thead>\n    <tr style=\"text-align: right;\">\n      <th></th>\n      <th>Month</th>\n      <th>Total</th>\n      <th>Month_Dateformat</th>\n    </tr>\n    <tr>\n      <th>Name</th>\n      <th></th>\n      <th></th>\n      <th></th>\n    </tr>\n  </thead>\n  <tbody>\n    <tr>\n      <th>Al A&amp;M Univ College</th>\n      <td>Jan</td>\n      <td>1820.00</td>\n      <td>2020-01-05 00:00:00-05:00</td>\n    </tr>\n    <tr>\n      <th>Albertus Magnus College</th>\n      <td>Jan</td>\n      <td>1890.00</td>\n      <td>2020-01-05 00:00:00-05:00</td>\n    </tr>\n    <tr>\n      <th>American College Of Ed</th>\n      <td>Jan</td>\n      <td>883.33</td>\n      <td>2020-01-05 00:00:00-05:00</td>\n    </tr>\n    <tr>\n      <th>Bainbridge Island</th>\n      <td>Jan</td>\n      <td>1200.00</td>\n      <td>2020-01-05 00:00:00-05:00</td>\n    </tr>\n    <tr>\n      <th>Cerra Scnbn</th>\n      <td>Jan</td>\n      <td>1166.67</td>\n      <td>2020-01-05 00:00:00-05:00</td>\n    </tr>\n  </tbody>\n</table>\n</div>"
     },
     "metadata": {},
     "execution_count": 8
    }
   ],
   "source": [
    "# Clean up revenue2020 data\n",
    "\n",
    "## Parse dates (dates are a little suspicious since it assumes today's day-of-month and year. Only the month value is accurate.)\n",
    "revenue2020[\"Month_Dateformat\"]     = tools.tool_date.cleanup_date_string_list(revenue2020[\"Month\"])\n",
    "\n",
    "revenue2020.head()"
   ]
  },
  {
   "cell_type": "code",
   "execution_count": 9,
   "metadata": {
    "tags": []
   },
   "outputs": [
    {
     "output_type": "execute_result",
     "data": {
      "text/plain": [
       "                                                             Invoice Date  \\\n",
       "Payee Name                                                                  \n",
       "Southeast/South-Central Educational Cooporative 2019-11-18 00:00:00-05:00   \n",
       "Austin Peay State University                    2019-12-16 00:00:00-05:00   \n",
       "University Of Californina,Riverside             2019-11-18 00:00:00-05:00   \n",
       "Four Corners Coalition/Farmington High School   2019-11-18 00:00:00-05:00   \n",
       "Nm Nt Santa Fe - Santa Fe Public Schools        2019-11-20 00:00:00-05:00   \n",
       "\n",
       "                                                 Invoice #  Vendor ID  \\\n",
       "Payee Name                                                              \n",
       "Southeast/South-Central Educational Cooporative      241.0        NaN   \n",
       "Austin Peay State University                         248.0        NaN   \n",
       "University Of Californina,Riverside                  240.0        NaN   \n",
       "Four Corners Coalition/Farmington High School        212.0        NaN   \n",
       "Nm Nt Santa Fe - Santa Fe Public Schools             244.0        NaN   \n",
       "\n",
       "                                                 Invoice Amount  \\\n",
       "Payee Name                                                        \n",
       "Southeast/South-Central Educational Cooporative           200.0   \n",
       "Austin Peay State University                             2500.0   \n",
       "University Of Californina,Riverside                      1250.0   \n",
       "Four Corners Coalition/Farmington High School             500.0   \n",
       "Nm Nt Santa Fe - Santa Fe Public Schools                  250.0   \n",
       "\n",
       "                                                            Account Code   \\\n",
       "Payee Name                                                                  \n",
       "Southeast/South-Central Educational Cooporative   4700-0-00-00000-00-0000   \n",
       "Austin Peay State University                      4700-0-00-00000-00-0000   \n",
       "University Of Californina,Riverside               4700-0-00-00000-00-0000   \n",
       "Four Corners Coalition/Farmington High School    4700-0-00-00000-00-0000    \n",
       "Nm Nt Santa Fe - Santa Fe Public Schools          4700-0-00-00000-00-0000   \n",
       "\n",
       "                                                                Mail Date  \\\n",
       "Payee Name                                                                  \n",
       "Southeast/South-Central Educational Cooporative 2019-11-18 00:00:00-05:00   \n",
       "Austin Peay State University                    2019-12-16 00:00:00-05:00   \n",
       "University Of Californina,Riverside             2019-11-18 00:00:00-05:00   \n",
       "Four Corners Coalition/Farmington High School   2019-11-18 00:00:00-05:00   \n",
       "Nm Nt Santa Fe - Santa Fe Public Schools        2019-11-20 00:00:00-05:00   \n",
       "\n",
       "                                                 Amount Paid  \\\n",
       "Payee Name                                                     \n",
       "Southeast/South-Central Educational Cooporative        200.0   \n",
       "Austin Peay State University                          2500.0   \n",
       "University Of Californina,Riverside                   1250.0   \n",
       "Four Corners Coalition/Farmington High School          500.0   \n",
       "Nm Nt Santa Fe - Santa Fe Public Schools               250.0   \n",
       "\n",
       "                                                            Pymt Received  \\\n",
       "Payee Name                                                                  \n",
       "Southeast/South-Central Educational Cooporative 2020-01-08 00:00:00-05:00   \n",
       "Austin Peay State University                    2020-01-09 00:00:00-05:00   \n",
       "University Of Californina,Riverside             2020-01-10 00:00:00-05:00   \n",
       "Four Corners Coalition/Farmington High School   2020-01-13 00:00:00-05:00   \n",
       "Nm Nt Santa Fe - Santa Fe Public Schools        2020-01-13 00:00:00-05:00   \n",
       "\n",
       "                                                            Service Start  \\\n",
       "Payee Name                                                                  \n",
       "Southeast/South-Central Educational Cooporative 2019-05-22 00:00:00-04:00   \n",
       "Austin Peay State University                    2019-12-31 00:00:00-05:00   \n",
       "University Of Californina,Riverside             2019-12-31 00:00:00-05:00   \n",
       "Four Corners Coalition/Farmington High School   2019-08-31 00:00:00-04:00   \n",
       "Nm Nt Santa Fe - Santa Fe Public Schools        2019-11-30 00:00:00-05:00   \n",
       "\n",
       "                                                              Service End  \\\n",
       "Payee Name                                                                  \n",
       "Southeast/South-Central Educational Cooporative 2022-05-31 00:00:00-04:00   \n",
       "Austin Peay State University                    2020-12-31 00:00:00-05:00   \n",
       "University Of Californina,Riverside             2020-12-31 00:00:00-05:00   \n",
       "Four Corners Coalition/Farmington High School   2020-08-31 00:00:00-04:00   \n",
       "Nm Nt Santa Fe - Santa Fe Public Schools        2020-11-30 00:00:00-05:00   \n",
       "\n",
       "                                                Service Duration  \n",
       "Payee Name                                                        \n",
       "Southeast/South-Central Educational Cooporative        1105 days  \n",
       "Austin Peay State University                            366 days  \n",
       "University Of Californina,Riverside                     366 days  \n",
       "Four Corners Coalition/Farmington High School           366 days  \n",
       "Nm Nt Santa Fe - Santa Fe Public Schools                366 days  "
      ],
      "text/html": "<div>\n<style scoped>\n    .dataframe tbody tr th:only-of-type {\n        vertical-align: middle;\n    }\n\n    .dataframe tbody tr th {\n        vertical-align: top;\n    }\n\n    .dataframe thead th {\n        text-align: right;\n    }\n</style>\n<table border=\"1\" class=\"dataframe\">\n  <thead>\n    <tr style=\"text-align: right;\">\n      <th></th>\n      <th>Invoice Date</th>\n      <th>Invoice #</th>\n      <th>Vendor ID</th>\n      <th>Invoice Amount</th>\n      <th>Account Code</th>\n      <th>Mail Date</th>\n      <th>Amount Paid</th>\n      <th>Pymt Received</th>\n      <th>Service Start</th>\n      <th>Service End</th>\n      <th>Service Duration</th>\n    </tr>\n    <tr>\n      <th>Payee Name</th>\n      <th></th>\n      <th></th>\n      <th></th>\n      <th></th>\n      <th></th>\n      <th></th>\n      <th></th>\n      <th></th>\n      <th></th>\n      <th></th>\n      <th></th>\n    </tr>\n  </thead>\n  <tbody>\n    <tr>\n      <th>Southeast/South-Central Educational Cooporative</th>\n      <td>2019-11-18 00:00:00-05:00</td>\n      <td>241.0</td>\n      <td>NaN</td>\n      <td>200.0</td>\n      <td>4700-0-00-00000-00-0000</td>\n      <td>2019-11-18 00:00:00-05:00</td>\n      <td>200.0</td>\n      <td>2020-01-08 00:00:00-05:00</td>\n      <td>2019-05-22 00:00:00-04:00</td>\n      <td>2022-05-31 00:00:00-04:00</td>\n      <td>1105 days</td>\n    </tr>\n    <tr>\n      <th>Austin Peay State University</th>\n      <td>2019-12-16 00:00:00-05:00</td>\n      <td>248.0</td>\n      <td>NaN</td>\n      <td>2500.0</td>\n      <td>4700-0-00-00000-00-0000</td>\n      <td>2019-12-16 00:00:00-05:00</td>\n      <td>2500.0</td>\n      <td>2020-01-09 00:00:00-05:00</td>\n      <td>2019-12-31 00:00:00-05:00</td>\n      <td>2020-12-31 00:00:00-05:00</td>\n      <td>366 days</td>\n    </tr>\n    <tr>\n      <th>University Of Californina,Riverside</th>\n      <td>2019-11-18 00:00:00-05:00</td>\n      <td>240.0</td>\n      <td>NaN</td>\n      <td>1250.0</td>\n      <td>4700-0-00-00000-00-0000</td>\n      <td>2019-11-18 00:00:00-05:00</td>\n      <td>1250.0</td>\n      <td>2020-01-10 00:00:00-05:00</td>\n      <td>2019-12-31 00:00:00-05:00</td>\n      <td>2020-12-31 00:00:00-05:00</td>\n      <td>366 days</td>\n    </tr>\n    <tr>\n      <th>Four Corners Coalition/Farmington High School</th>\n      <td>2019-11-18 00:00:00-05:00</td>\n      <td>212.0</td>\n      <td>NaN</td>\n      <td>500.0</td>\n      <td>4700-0-00-00000-00-0000</td>\n      <td>2019-11-18 00:00:00-05:00</td>\n      <td>500.0</td>\n      <td>2020-01-13 00:00:00-05:00</td>\n      <td>2019-08-31 00:00:00-04:00</td>\n      <td>2020-08-31 00:00:00-04:00</td>\n      <td>366 days</td>\n    </tr>\n    <tr>\n      <th>Nm Nt Santa Fe - Santa Fe Public Schools</th>\n      <td>2019-11-20 00:00:00-05:00</td>\n      <td>244.0</td>\n      <td>NaN</td>\n      <td>250.0</td>\n      <td>4700-0-00-00000-00-0000</td>\n      <td>2019-11-20 00:00:00-05:00</td>\n      <td>250.0</td>\n      <td>2020-01-13 00:00:00-05:00</td>\n      <td>2019-11-30 00:00:00-05:00</td>\n      <td>2020-11-30 00:00:00-05:00</td>\n      <td>366 days</td>\n    </tr>\n  </tbody>\n</table>\n</div>"
     },
     "metadata": {},
     "execution_count": 9
    }
   ],
   "source": [
    "# Clean up revenue2020A data\n",
    "\n",
    "## Remove blank columns\n",
    "revenue2020A.drop(\n",
    "    columns=[\"Unnamed: 8\", \"Unnamed: 9\", \"Unnamed: 10\"],\n",
    "    inplace=True)\n",
    "\n",
    "## Numeric types\n",
    "revenue2020A[\"Invoice #\"]           = pd.to_numeric(revenue2020A[\"Invoice #\"], errors='coerce')\n",
    "revenue2020A[\"Vendor ID\"]           = pd.to_numeric(revenue2020A[\"Vendor ID\"], errors='coerce')\n",
    "\n",
    "## Dollar figures\n",
    "revenue2020A[\"Invoice Amount\"]      = tools.tool_date.cleanup_dollar_string_list(revenue2020A[\"Invoice Amount\"])\n",
    "revenue2020A[\"Amount Paid\"]         = tools.tool_date.cleanup_dollar_string_list(revenue2020A[\"Amount Paid\"])\n",
    "\n",
    "## Parse dates\n",
    "revenue2020A[\"Invoice Date\"]        = tools.tool_date.cleanup_date_string_list(revenue2020A[\"Invoice Date\"])\n",
    "revenue2020A[\"Mail Date\"]           = tools.tool_date.cleanup_date_string_list(revenue2020A[\"Mail Date\"])\n",
    "revenue2020A[\" Pymt Received\"]      = tools.tool_date.cleanup_date_string_list(revenue2020A[\" Pymt Received\"])\n",
    "\n",
    "## Dates of service\n",
    "dates_of_service            = tools.tool_special_date.extract_subscription_dates_list(revenue2020A[\"Dates of service \"])\n",
    "revenue2020A[\"Service Start\"]      = dates_of_service[0]\n",
    "revenue2020A[\"Service End\"]        = dates_of_service[1]\n",
    "revenue2020A.drop(columns=[\"Dates of service \"], inplace=True)\n",
    "\n",
    "## Compute service duration\n",
    "revenue2020A[\"Service Duration\"] = revenue2020A[\"Service End\"] - revenue2020A[\"Service Start\"]\n",
    "\n",
    "revenue2020A.head()"
   ]
  },
  {
   "cell_type": "code",
   "execution_count": 10,
   "metadata": {},
   "outputs": [],
   "source": [
    "# Export all files\n",
    "atlas.to_pickle(constants.PREPROCESSED_ATLAS_FILE_PATH)\n",
    "forecast.to_pickle(constants.PREPROCESSED_FORECAST_DATA_FILE_PATH)\n",
    "revenue2020.to_pickle(constants.PREPROCESSED_REVENUE2020_FILE_PATH)\n",
    "revenue2020A.to_pickle(constants.PREPROCESSED_REVENUE2020A_FILE_PATH)\n"
   ]
  }
 ],
 "metadata": {
  "kernelspec": {
   "display_name": "pyvizenv",
   "language": "python",
   "name": "pyvizenv"
  },
  "language_info": {
   "codemirror_mode": {
    "name": "ipython",
    "version": 3
   },
   "file_extension": ".py",
   "mimetype": "text/x-python",
   "name": "python",
   "nbconvert_exporter": "python",
   "pygments_lexer": "ipython3",
   "version": "3.8.3-final"
  }
 },
 "nbformat": 4,
 "nbformat_minor": 4
}