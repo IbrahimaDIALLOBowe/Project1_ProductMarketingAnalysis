{
 "cells": [
  {
   "source": [
    "# Initialize"
   ],
   "cell_type": "markdown",
   "metadata": {}
  },
  {
   "cell_type": "code",
   "execution_count": 23,
   "metadata": {},
   "outputs": [],
   "source": [
    "# Options\n",
    "\n",
    "## Debugging level\n",
    "debug_level = 0\n"
   ]
  },
  {
   "cell_type": "code",
   "execution_count": 24,
   "metadata": {},
   "outputs": [],
   "source": [
    "# Initialize framework\n",
    "constants, tools = init_preprocessing(debug_level)\n",
    "%matplotlib inline\n"
   ]
  },
  {
   "cell_type": "code",
   "execution_count": 25,
   "metadata": {},
   "outputs": [],
   "source": [
    "# Read anonymized data\n",
    "atlas           = pd.read_pickle(constants.PREPROCESSED_ATLAS_FILE_PATH)\n",
    "forecast        = pd.read_pickle(constants.PREPROCESSED_FORECAST_DATA_FILE_PATH)\n",
    "revenue2020     = pd.read_pickle(constants.PREPROCESSED_REVENUE2020_FILE_PATH)\n",
    "revenue2020A    = pd.read_pickle(constants.PREPROCESSED_REVENUE2020A_FILE_PATH)\n"
   ]
  },
  {
   "cell_type": "code",
   "execution_count": 26,
   "metadata": {},
   "outputs": [],
   "source": [
    "# Build lookup tables from the data\n",
    "lut_address_state = forecast[\"Mailing State/Province\"].drop_duplicates().to_dict()\n",
    "lut_record_type = forecast[\"Organization Record Type\"].drop_duplicates().to_dict()\n",
    "lut_customer_type = forecast[\"ATLAS Customer Type\"].drop_duplicates().to_dict()\n",
    "lut_vendor_id = revenue2020A[\"Vendor ID\"].drop_duplicates().to_dict()\n",
    "lut_address = atlas[\"Address\"].drop_duplicates().to_dict()\n",
    "lut_address_lat = atlas[\"Lat\"].drop_duplicates().to_dict()\n",
    "lut_address_lon = atlas[\"Long\"].drop_duplicates().to_dict()\n",
    "\n",
    "# Write lookup tables to file\n",
    "tools.tool_lookup_tables.write_lookup_table(lut_address_state, constants.LUT_ADDRESS_STATE_FILE_PATH)\n",
    "tools.tool_lookup_tables.write_lookup_table(lut_record_type, constants.LUT_RECORD_TYPE_FILE_PATH)\n",
    "tools.tool_lookup_tables.write_lookup_table(lut_customer_type, constants.LUT_CUSTOMER_TYPE_FILE_PATH)\n",
    "tools.tool_lookup_tables.write_lookup_table(lut_vendor_id, constants.LUT_VENDOR_ID_FILE_PATH)\n",
    "tools.tool_lookup_tables.write_lookup_table(lut_address, constants.LUT_ADDRESS_FILE_PATH)\n",
    "tools.tool_lookup_tables.write_lookup_table(lut_address_lat, constants.LUT_ADDRESS_LAT_FILE_PATH)\n",
    "tools.tool_lookup_tables.write_lookup_table(lut_address_lon, constants.LUT_ADDRESS_LON_FILE_PATH)\n"
   ]
  },
  {
   "cell_type": "code",
   "execution_count": 27,
   "metadata": {},
   "outputs": [],
   "source": [
    "# Read lookup tables\n",
    "# tool_lookup_tables.read_lookup_table( constants.LUT_ADDRESS_STATE_FILE_PATH)\n",
    "# tool_lookup_tables.read_lookup_table( constants.LUT_RECORD_TYPE_FILE_PATH)\n",
    "# tool_lookup_tables.read_lookup_table( constants.LUT_CUSTOMER_TYPE_FILE_PATH)\n",
    "# tool_lookup_tables.read_lookup_table( constants.LUT_VENDOR_ID_FILE_PATH)\n",
    "# tool_lookup_tables.read_lookup_table( constants.LUT_ADDRESS_FILE_PATH)\n",
    "# tool_lookup_tables.read_lookup_table( constants.LUT_ADDRESS_LAT_FILE_PATH)\n",
    "# tool_lookup_tables.read_lookup_table( constants.LUT_ADDRESS_LON_FILE_PATH)\n"
   ]
  },
  {
   "cell_type": "code",
   "execution_count": 28,
   "metadata": {},
   "outputs": [],
   "source": [
    "# Build combined data table\n",
    "\n",
    "## Get list of customers to use as the index\n",
    "# customer_list = tools.tool_mapping.read_list(constants.LIST_CUSTOMER_NAME_LIST_FILE_PATH)\n",
    "# invoice_data = pd.DataFrame(index=customer_list)\n",
    "# # invoice_data.append(atlas.loc[invoice_data.index])\n",
    "# atlas.loc[ invoice_data.reset_index()[\"index\"][0] ]\n",
    "# # invoice_data.reset_index()[\"Customers\"].apply(lambda x: atlas.loc[x])\n",
    "\n",
    "## lut_address_state: Names do not match; redundant data.\n",
    "# atlas[\"State\"] = atlas.reset_index()[\"Customers\"].apply(lambda x: lut_address_state.get(x, \"\"))\n",
    "# atlas.State.dropna()\n",
    "\n",
    "## lut_record_type: Not enough data.\n",
    "\n",
    "## lut_customer_type: Not enough data.\n",
    "\n",
    "## lut_vendor_id: Not enough data.\n",
    "\n",
    "## lut_address, lut_address_lat, lut_address_lon: Already in the data.\n",
    "\n",
    "## Export to PREPROCESSED_COMBINED_DATA_FILE_PATH\n",
    "\n",
    "\n",
    "# invoice_data.head(1)"
   ]
  },
  {
   "cell_type": "code",
   "execution_count": 29,
   "metadata": {},
   "outputs": [],
   "source": [
    "# Scratchwork\n",
    "\n",
    "# df2 = pd.DataFrame(np.array([[1, 2, 3], [4, 5, 6], [7, 8, 9]]),\n",
    "#                    columns=['a', 'b', 'c'])\n",
    "\n",
    "# df2.loc[0]\n",
    "# df2\n",
    "\n",
    "# atlas.loc[] \n",
    "\n",
    "# y = invoice_data.reset_index()[\"index\"][0]\n",
    "# z='Louisiana Board Of Regents'\n",
    "# atlas.loc[z]\n",
    "# atlas.append()\n",
    "\n",
    "\n",
    "# customer_list\n"
   ]
  },
  {
   "cell_type": "code",
   "execution_count": 30,
   "metadata": {},
   "outputs": [
    {
     "output_type": "execute_result",
     "data": {
      "text/plain": [
       "Index(['Number of Users', 'Invoice Date', 'Invoice #', 'Invoice Amount',\n",
       "       'Subscription', 'Account Code ', 'Address', 'State', 'Lat', 'Long',\n",
       "       'Service Start', 'Service End', 'Subscription Duration'],\n",
       "      dtype='object')"
      ]
     },
     "metadata": {},
     "execution_count": 30
    }
   ],
   "source": [
    "atlas.columns"
   ]
  },
  {
   "cell_type": "code",
   "execution_count": 31,
   "metadata": {
    "tags": []
   },
   "outputs": [
    {
     "output_type": "execute_result",
     "data": {
      "text/plain": [
       "                                             NumberofUsers  \\\n",
       "Customers                                                    \n",
       "Alabama A&M University-College Of Education            NaN   \n",
       "\n",
       "                                                          InvoiceDate  \\\n",
       "Customers                                                               \n",
       "Alabama A&M University-College Of Education 2018-03-23 00:00:00-04:00   \n",
       "\n",
       "                                            InvoiceNumber  InvoiceAmount  \\\n",
       "Customers                                                                  \n",
       "Alabama A&M University-College Of Education           105         5460.0   \n",
       "\n",
       "                                            Subscription  \\\n",
       "Customers                                                  \n",
       "Alabama A&M University-College Of Education      3 Years   \n",
       "\n",
       "                                                         AccountCode  \\\n",
       "Customers                                                              \n",
       "Alabama A&M University-College Of Education  4700-0-00-00000-00-0000   \n",
       "\n",
       "                                                                              Address  \\\n",
       "Customers                                                                               \n",
       "Alabama A&M University-College Of Education  4900 Meridian St N, Huntsville, AL 35811   \n",
       "\n",
       "                                            Address_State        Lat  \\\n",
       "Customers                                                              \n",
       "Alabama A&M University-College Of Education            AL  34.785061   \n",
       "\n",
       "                                                  Lon  ...  \\\n",
       "Customers                                              ...   \n",
       "Alabama A&M University-College Of Education -86.57328  ...   \n",
       "\n",
       "                                            InvoiceDate_MonthName  \\\n",
       "Customers                                                           \n",
       "Alabama A&M University-College Of Education                 March   \n",
       "\n",
       "                                            InvoiceDate_Quarter  \\\n",
       "Customers                                                         \n",
       "Alabama A&M University-College Of Education                   1   \n",
       "\n",
       "                                            ServiceStart_Year  \\\n",
       "Customers                                                       \n",
       "Alabama A&M University-College Of Education            2018.0   \n",
       "\n",
       "                                             ServiceStart_Month  \\\n",
       "Customers                                                         \n",
       "Alabama A&M University-College Of Education                 3.0   \n",
       "\n",
       "                                             ServiceStart_MonthName  \\\n",
       "Customers                                                             \n",
       "Alabama A&M University-College Of Education                   March   \n",
       "\n",
       "                                             ServiceStart_Quarter  \\\n",
       "Customers                                                           \n",
       "Alabama A&M University-College Of Education                   1.0   \n",
       "\n",
       "                                            ServiceEnd_Year  ServiceEnd_Month  \\\n",
       "Customers                                                                       \n",
       "Alabama A&M University-College Of Education          2021.0               3.0   \n",
       "\n",
       "                                             ServiceEnd_MonthName  \\\n",
       "Customers                                                           \n",
       "Alabama A&M University-College Of Education                 March   \n",
       "\n",
       "                                             ServiceEnd_Quarter  \n",
       "Customers                                                        \n",
       "Alabama A&M University-College Of Education                 1.0  \n",
       "\n",
       "[1 rows x 26 columns]"
      ],
      "text/html": "<div>\n<style scoped>\n    .dataframe tbody tr th:only-of-type {\n        vertical-align: middle;\n    }\n\n    .dataframe tbody tr th {\n        vertical-align: top;\n    }\n\n    .dataframe thead th {\n        text-align: right;\n    }\n</style>\n<table border=\"1\" class=\"dataframe\">\n  <thead>\n    <tr style=\"text-align: right;\">\n      <th></th>\n      <th>NumberofUsers</th>\n      <th>InvoiceDate</th>\n      <th>InvoiceNumber</th>\n      <th>InvoiceAmount</th>\n      <th>Subscription</th>\n      <th>AccountCode</th>\n      <th>Address</th>\n      <th>Address_State</th>\n      <th>Lat</th>\n      <th>Lon</th>\n      <th>...</th>\n      <th>InvoiceDate_MonthName</th>\n      <th>InvoiceDate_Quarter</th>\n      <th>ServiceStart_Year</th>\n      <th>ServiceStart_Month</th>\n      <th>ServiceStart_MonthName</th>\n      <th>ServiceStart_Quarter</th>\n      <th>ServiceEnd_Year</th>\n      <th>ServiceEnd_Month</th>\n      <th>ServiceEnd_MonthName</th>\n      <th>ServiceEnd_Quarter</th>\n    </tr>\n    <tr>\n      <th>Customers</th>\n      <th></th>\n      <th></th>\n      <th></th>\n      <th></th>\n      <th></th>\n      <th></th>\n      <th></th>\n      <th></th>\n      <th></th>\n      <th></th>\n      <th></th>\n      <th></th>\n      <th></th>\n      <th></th>\n      <th></th>\n      <th></th>\n      <th></th>\n      <th></th>\n      <th></th>\n      <th></th>\n      <th></th>\n    </tr>\n  </thead>\n  <tbody>\n    <tr>\n      <th>Alabama A&amp;M University-College Of Education</th>\n      <td>NaN</td>\n      <td>2018-03-23 00:00:00-04:00</td>\n      <td>105</td>\n      <td>5460.0</td>\n      <td>3 Years</td>\n      <td>4700-0-00-00000-00-0000</td>\n      <td>4900 Meridian St N, Huntsville, AL 35811</td>\n      <td>AL</td>\n      <td>34.785061</td>\n      <td>-86.57328</td>\n      <td>...</td>\n      <td>March</td>\n      <td>1</td>\n      <td>2018.0</td>\n      <td>3.0</td>\n      <td>March</td>\n      <td>1.0</td>\n      <td>2021.0</td>\n      <td>3.0</td>\n      <td>March</td>\n      <td>1.0</td>\n    </tr>\n  </tbody>\n</table>\n<p>1 rows × 26 columns</p>\n</div>"
     },
     "metadata": {},
     "execution_count": 31
    }
   ],
   "source": [
    "# Extract existing data into additional columns\n",
    "invoice_data_by_customer = atlas.copy()\n",
    "\n",
    "# Remove spaces from columns\n",
    "invoice_data_by_customer.columns = [ \"NumberofUsers\", \"InvoiceDate\", \"InvoiceNumber\", \"InvoiceAmount\", \"Subscription\", \"AccountCode\", \"Address\", \"Address_State\", \"Lat\", \"Lon\",\n",
    "\"ServiceStart\", \"ServiceEnd\", \"SubscriptionDuration\" ]\n",
    "\n",
    "# Service delay\n",
    "invoice_data_by_customer[\"ServiceDelay\"] = (invoice_data_by_customer[\"InvoiceDate\"] - invoice_data_by_customer[\"ServiceStart\"]).apply(lambda date: date.days)\n",
    "\n",
    "# Extract y/m/q\n",
    "invoice_data_by_customer = tools.tool_data_processing.extract_and_append_year_month_quarter(invoice_data_by_customer, \"InvoiceDate\")\n",
    "invoice_data_by_customer = tools.tool_data_processing.extract_and_append_year_month_quarter(invoice_data_by_customer, \"ServiceStart\")\n",
    "invoice_data_by_customer = tools.tool_data_processing.extract_and_append_year_month_quarter(invoice_data_by_customer, \"ServiceEnd\")\n",
    "\n",
    "# Build historical views\n",
    "invoice_data_by_service_start   = invoice_data_by_customer.copy().reset_index().set_index(\"ServiceStart\").sort_index(ascending=True)\n",
    "invoice_data_by_invoice_date    = invoice_data_by_customer.copy().reset_index().set_index(\"InvoiceDate\").sort_index(ascending=True)\n",
    "\n",
    "invoice_data_by_customer.head(1)"
   ]
  },
  {
   "cell_type": "code",
   "execution_count": 32,
   "metadata": {},
   "outputs": [],
   "source": [
    "# Fix forecast data\n",
    "forecast.columns = [ \"Address_State\", \"OrganizationRecordType\",\n",
    "    \"ATLASCustomerType\", \"SubscriptionFee\", \"SubscriptionType\",\n",
    "    \"ContractStartDate\", \"ContractEndDate\", \"SubscriptionDuration\" ]\n",
    "forecast = tools.tool_data_processing.extract_and_append_year_month_quarter(forecast, \"ContractStartDate\")\n",
    "\n",
    "# Fix revenue2020A data\n",
    "revenue2020A.columns = [ \"InvoiceDate\", \"InvoiceNumber\", \"VendorID\", \"InvoiceAmount\",\n",
    "    \"AccountCode\", \"MailDate\", \"AmountPaid\", \" PymtReceived\",\n",
    "    \"ServiceStart\", \"ServiceEnd\", \"ServiceDuration\"]\n",
    "revenue2020A = tools.tool_data_processing.extract_and_append_year_month_quarter(revenue2020A, \"ServiceStart\")\n"
   ]
  },
  {
   "cell_type": "code",
   "execution_count": 33,
   "metadata": {},
   "outputs": [],
   "source": [
    "# Export\n",
    "invoice_data_by_customer.to_pickle(constants.PREPROCESSED_INVOICE_CUSTOMER_FILE_PATH)\n",
    "invoice_data_by_service_start.to_pickle(constants.PREPROCESSED_INVOICE_SERVICEDATE_FILE_PATH)\n",
    "invoice_data_by_invoice_date.to_pickle(constants.PREPROCESSED_INVOICE_INVOICEDATE_FILE_PATH)\n",
    "forecast.to_pickle(constants.PREPROCESSED_FORECAST_CLEANED_FILE_PATH)\n",
    "revenue2020A.to_pickle(constants.PREPROCESSED_REVENUE2020A_CLEANED_FILE_PATH)\n"
   ]
  },
  {
   "cell_type": "code",
   "execution_count": null,
   "metadata": {},
   "outputs": [],
   "source": []
  }
 ],
 "metadata": {
  "kernelspec": {
   "display_name": "pyvizenv",
   "language": "python",
   "name": "pyvizenv"
  },
  "language_info": {
   "codemirror_mode": {
    "name": "ipython",
    "version": 3
   },
   "file_extension": ".py",
   "mimetype": "text/x-python",
   "name": "python",
   "nbconvert_exporter": "python",
   "pygments_lexer": "ipython3",
   "version": "3.8.3-final"
  }
 },
 "nbformat": 4,
 "nbformat_minor": 4
}