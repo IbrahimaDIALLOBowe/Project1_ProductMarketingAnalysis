{
 "cells": [
  {
   "cell_type": "code",
   "execution_count": null,
   "metadata": {},
   "outputs": [],
   "source": []
  },
  {
   "source": [
    "# Description\n",
    "\n",
    "Forecast using (a) MC best/worst calculation, and (b) MC simulation.\n",
    "\n",
    "\n",
    "\n",
    "\n",
    "Forecasting computed using large-scale, probability-driven MonteCarlo prediction."
   ],
   "cell_type": "markdown",
   "metadata": {}
  },
  {
   "cell_type": "code",
   "execution_count": null,
   "metadata": {},
   "outputs": [],
   "source": [
    "# TODO\n",
    "# [X] Provide gut checks.\n",
    "# [ ] Look into existing MC implementations!!!\n",
    "# [ ] Model regional effects (i.e. customer's state) as [classifiers]!!!\n"
   ]
  },
  {
   "cell_type": "markdown",
   "metadata": {},
   "source": [
    "# Initialize"
   ]
  },
  {
   "cell_type": "code",
   "execution_count": null,
   "metadata": {},
   "outputs": [],
   "source": [
    "# Options\n",
    "\n",
    "## Debugging level\n",
    "debug_level = 0\n"
   ]
  },
  {
   "cell_type": "code",
   "execution_count": null,
   "metadata": {},
   "outputs": [],
   "source": [
    "# Initialize framework\n",
    "from imports import *\n",
    "constants, tools = init_processing(debug_level)\n",
    "pn.extension(\"plotly\")\n",
    "hv.extension('bokeh', 'matplotlib')\n",
    "%matplotlib inline\n"
   ]
  },
  {
   "cell_type": "code",
   "execution_count": null,
   "metadata": {},
   "outputs": [],
   "source": [
    "# Import all preprocessed data\n",
    "invoice_data_by_customer            = pd.read_pickle(constants.PREPROCESSED_INVOICE_CUSTOMER_FILE_PATH)\n",
    "invoice_data_by_service_start       = pd.read_pickle(constants.PREPROCESSED_INVOICE_SERVICEDATE_FILE_PATH)\n",
    "invoice_data_by_invoice_date        = pd.read_pickle(constants.PREPROCESSED_INVOICE_INVOICEDATE_FILE_PATH)\n",
    "forecast                            = pd.read_pickle(constants.PREPROCESSED_FORECAST_CLEANED_FILE_PATH)\n",
    "revenue2020A                        = pd.read_pickle(constants.PREPROCESSED_REVENUE2020A_CLEANED_FILE_PATH)\n",
    "\n",
    "invoice_data_by_customer.shape\n"
   ]
  },
  {
   "cell_type": "code",
   "execution_count": null,
   "metadata": {},
   "outputs": [],
   "source": [
    "# pwd = os.getcwd()\n",
    "# sys.path.append(pwd + \"../lib2\")\n",
    "# # sys.path.append(\"../lib2\")\n",
    "# print(sys.path)\n",
    "\n",
    "# Specialized imports\n",
    "from UpgradeSequenceDataStructures import UpgradeType\n",
    "from UpgradeSequenceDataStructures import CustomerBehaviorObservations\n",
    "from UpgradeSequenceDataStructures import CustomerBehaviorClassifications\n",
    "\n",
    "from MCForecastTools_MacroCustomerSales_DataStructures import MacroCustomerBehaviorNumbers\n",
    "\n",
    "from MCForecastTools_MacroCustomerSales import MacroCustomerSales_HistoricalAnalysis\n",
    "# from MCForecastTools_MacroCustomerSales import MacroCustomerSales_ForwardPredictor\n",
    "# from MCForecastTools_MacroCustomerSales import MacroCustomerSales_InstantaneousVariation\n",
    "# from MCForecastTools_MacroCustomerSales import MacroCustomerSales_MCSimulation\n",
    "\n",
    "tool_historical = MacroCustomerSales_HistoricalAnalysis()\n",
    "# tool_fwd = MacroCustomerSales_ForwardPredictor()\n",
    "# tool_inst = MacroCustomerSales_InstantaneousVariation()\n",
    "\n",
    "from TimeSeriesModels import ModelType\n",
    "from TimeSeriesModels import TimeSeriesModelUtilities\n",
    "from TimeSeriesModels import TimeSeriesModelPredictionPreviewUtilities\n",
    "from TimeSeriesModels import TimeSeriesDictModel\n",
    "from TimeSeriesModels import LinearRegressionDictModel\n",
    "from TimeSeriesModels import PolynomialRegressionDictModel\n",
    "from TimeSeriesModels import ARMARegressionDictModel\n",
    "\n",
    "prediction_preview_tool = TimeSeriesModelPredictionPreviewUtilities()\n",
    "time_series_model_utilities = TimeSeriesModelUtilities()\n"
   ]
  },
  {
   "source": [
    "# Best/Worst Bounds Simulation"
   ],
   "cell_type": "markdown",
   "metadata": {}
  },
  {
   "cell_type": "code",
   "execution_count": null,
   "metadata": {},
   "outputs": [],
   "source": [
    "# TODO"
   ]
  },
  {
   "source": [
    "# Macro Customer Behavior Counts Simulation"
   ],
   "cell_type": "markdown",
   "metadata": {}
  },
  {
   "source": [
    "## Data Preparation"
   ],
   "cell_type": "markdown",
   "metadata": {}
  },
  {
   "cell_type": "code",
   "execution_count": null,
   "metadata": {},
   "outputs": [],
   "source": [
    "year_list = [ 2015, 2016, 2017, 2018, 2019, 2020 ]\n",
    "classification_list = [ CustomerBehaviorClassifications.New, CustomerBehaviorClassifications.Continued_Loyal, CustomerBehaviorClassifications.Continued_AtRisk, CustomerBehaviorClassifications.Continued_Nominal, CustomerBehaviorClassifications.Dropped ]\n"
   ]
  },
  {
   "cell_type": "code",
   "execution_count": null,
   "metadata": {},
   "outputs": [],
   "source": [
    "# Macro customer counts - TODO these are good numbers from spreadsheet analysis.\n",
    "macro_customer_behavior_counts_sequence = pd.DataFrame({\n",
    "    CustomerBehaviorClassifications.New: [ 8, 27, 31, 38, 69, 218 ],\n",
    "    CustomerBehaviorClassifications.Continued_Loyal: [ 0, 5, 8, 21, 15, 33 ],\n",
    "    CustomerBehaviorClassifications.Continued_AtRisk: [ 0, 0, 0, 0, 0, 0 ],\n",
    "    CustomerBehaviorClassifications.Continued_Nominal: [ 0, 0, 0, 0, 0, 0 ],\n",
    "    CustomerBehaviorClassifications.Dropped: [ 0, 16, 21, 18, 16, 20 ]\n",
    "}, index=year_list)\n",
    "\n",
    "# Macro customer counts - fractional change\n",
    "macro_customer_behavior_counts_change_sequence = macro_customer_behavior_counts_sequence.pct_change().replace(np.nan, 0).replace(np.inf, 1.0).replace(-np.inf, -1.0)\n",
    "\n",
    "# Macro customer counts - rolling std\n",
    "macro_customer_behavior_counts_std_sequence = tool_historical.compute_rolling_std(macro_customer_behavior_counts_sequence, 3)\n",
    "\n",
    "# Macro customer counts - fractional change rolling std\n",
    "macro_customer_behavior_counts_change_std_sequence = tool_historical.compute_rolling_std(macro_customer_behavior_counts_change_sequence, 3)\n"
   ]
  },
  {
   "cell_type": "code",
   "execution_count": null,
   "metadata": {},
   "outputs": [],
   "source": [
    "# Display tabulated customer behavior counts data\n",
    "[\n",
    "    display(macro_customer_behavior_counts_sequence),\n",
    "    display(macro_customer_behavior_counts_change_sequence),\n",
    "    display(macro_customer_behavior_counts_std_sequence),\n",
    "    display(macro_customer_behavior_counts_change_std_sequence)\n",
    "]\n"
   ]
  },
  {
   "cell_type": "code",
   "execution_count": null,
   "metadata": {},
   "outputs": [],
   "source": [
    "# Avg annual sales - TODO Made-up numbers\n",
    "macro_customer_avg_annual_sales_sequence = pd.DataFrame({\n",
    "    CustomerBehaviorClassifications.New: [ 5000.0, 5000.0, 5000.0, 5000.0, 5000.0, 5000.0 ],\n",
    "    CustomerBehaviorClassifications.Continued_Loyal: [ 5000.0, 5000.0, 5000.0, 5000.0, 5000.0, 5000.0 ],\n",
    "    CustomerBehaviorClassifications.Continued_AtRisk: [ 5000.0, 5000.0, 5000.0, 5000.0, 5000.0, 5000.0 ],\n",
    "    CustomerBehaviorClassifications.Continued_Nominal: [ 5000.0, 5000.0, 5000.0, 5000.0, 5000.0, 5000.0 ],\n",
    "    CustomerBehaviorClassifications.Dropped: [ 1000.0, 1000.0, 1000.0, 1000.0, 1000.0, 1000.0 ]\n",
    "}, index=year_list)\n",
    "\n",
    "# Avg annual sales - fractional change\n",
    "macro_customer_avg_annual_sales_change_sequence = macro_customer_avg_annual_sales_sequence.pct_change().replace(np.nan, 0).replace(np.inf, 1.0).replace(-np.inf, -1.0)\n",
    "\n",
    "# Avg annual sales - rolling std deviation\n",
    "macro_customer_avg_annual_sales_std_sequence = tool_historical.compute_rolling_std(macro_customer_avg_annual_sales_sequence, 3).replace(np.nan, 0).replace(np.inf, 1.0).replace(-np.inf, -1.0)\n",
    "\n",
    "# Avg annual sales - change rolling std deviation\n",
    "macro_customer_avg_annual_sales_change_std_sequence = tool_historical.compute_rolling_std(macro_customer_avg_annual_sales_change_sequence, 3).replace(np.nan, 0).replace(np.inf, 1.0).replace(-np.inf, -1.0)\n"
   ]
  },
  {
   "cell_type": "code",
   "execution_count": null,
   "metadata": {},
   "outputs": [],
   "source": [
    "# Display tabulated avg. sales data\n",
    "[\n",
    "    display(macro_customer_avg_annual_sales_sequence),\n",
    "    display(macro_customer_avg_annual_sales_change_sequence),\n",
    "    display(macro_customer_avg_annual_sales_std_sequence),\n",
    "    display(macro_customer_avg_annual_sales_change_std_sequence)\n",
    "]\n"
   ]
  },
  {
   "cell_type": "code",
   "execution_count": null,
   "metadata": {},
   "outputs": [],
   "source": []
  },
  {
   "source": [
    "## Predict data to check before running inside Monte-Carlo: macro_customer_behavior_counts_sequence"
   ],
   "cell_type": "markdown",
   "metadata": {}
  },
  {
   "cell_type": "code",
   "execution_count": null,
   "metadata": {},
   "outputs": [],
   "source": [
    "# Generate x values for prediction\n",
    "historical_and_prediction_year_list = [ 2015, 2016, 2017, 2018, 2019, 2020, 2021, 2022, 2023 ]\n",
    "\n",
    "# Generate x axis points for plotting the models\n",
    "years_intermediate_points_for_plotting = np.linspace(year_list[0], year_list[-1], 100)\n"
   ]
  },
  {
   "cell_type": "code",
   "execution_count": null,
   "metadata": {},
   "outputs": [],
   "source": []
  },
  {
   "cell_type": "code",
   "execution_count": null,
   "metadata": {},
   "outputs": [],
   "source": [
    "# LinearRegressionDictModel\n",
    "prediction_preview_tool.generate_prediction_preview(ModelType.LinearRegressionDictModel, \n",
    "    year_list, classification_list,\n",
    "    macro_customer_behavior_counts_sequence, macro_customer_behavior_counts_change_sequence,\n",
    "    { \"use_multi_stage\": False },\n",
    "    historical_and_prediction_year_list)\n"
   ]
  },
  {
   "cell_type": "code",
   "execution_count": null,
   "metadata": {},
   "outputs": [],
   "source": [
    "# PolynomialRegressionDictModel\n",
    "prediction_preview_tool.generate_prediction_preview(ModelType.PolynomialRegressionDictModel, \n",
    "    year_list, classification_list,\n",
    "    macro_customer_behavior_counts_sequence, macro_customer_behavior_counts_change_sequence,\n",
    "    { \"degree\": 3 },\n",
    "    historical_and_prediction_year_list)\n"
   ]
  },
  {
   "cell_type": "code",
   "execution_count": null,
   "metadata": {},
   "outputs": [],
   "source": [
    "# ARMARegressionDictModel\n",
    "# TODO Unable with only 5 data points. Error: \"ValueError: The model specification cannot be estimated. The model contains 5 regressors (0 trend, 0 seasonal, 5 lags) but after adjustment for hold_back and creation of the lags, there are only 1 data points available to estimate parameters.\"\n",
    "# prediction_preview_tool.generate_prediction_preview(ModelType.ARMARegressionDictModel, \n",
    "#     year_list, classification_list,\n",
    "#     macro_customer_behavior_counts_sequence, macro_customer_behavior_counts_change_sequence,\n",
    "#     { \"order\": (1, 1) },\n",
    "#     historical_and_prediction_year_list)\n"
   ]
  },
  {
   "cell_type": "code",
   "execution_count": null,
   "metadata": {},
   "outputs": [],
   "source": []
  },
  {
   "source": [
    "## Plots the simulation input data"
   ],
   "cell_type": "markdown",
   "metadata": {}
  },
  {
   "cell_type": "code",
   "execution_count": null,
   "metadata": {},
   "outputs": [],
   "source": [
    "tools.tool_plot_building.generate_plot__hvplot_line(macro_customer_behavior_counts_sequence,\n",
    "    title=\"Macro Customer Behavior Counts\", xlabel=\"Year Index\", ylabel=\"Nbr. Customers\",\n",
    "    width=1400, height=500)\n"
   ]
  },
  {
   "cell_type": "code",
   "execution_count": null,
   "metadata": {},
   "outputs": [],
   "source": [
    "tools.tool_plot_building.generate_plot__hvplot_line(macro_customer_behavior_counts_change_sequence,\n",
    "    title=\"Macro Customer Behavior Counts - Fractional Change\", xlabel=\"Year Index\", ylabel=\"Fractional Change in Nbr. Customers\",\n",
    "    width=1400, height=500)\n"
   ]
  },
  {
   "cell_type": "code",
   "execution_count": null,
   "metadata": {},
   "outputs": [],
   "source": [
    "tools.tool_plot_building.generate_plot__hvplot_line(macro_customer_behavior_counts_std_sequence,\n",
    "    title=\"Macro Customer Behavior Counts - Standard Deviation\", xlabel=\"Year Index\", ylabel=\"std(Nbr. Customers)\",\n",
    "    width=1400, height=500)\n"
   ]
  },
  {
   "cell_type": "code",
   "execution_count": null,
   "metadata": {},
   "outputs": [],
   "source": [
    "tools.tool_plot_building.generate_plot__hvplot_line(macro_customer_behavior_counts_change_std_sequence,\n",
    "    title=\"Macro Customer Behavior Counts - Fractional Change Standard Deviation\", xlabel=\"Year Index\", ylabel=\"std(Fractional Change in Nbr. Customers)\",\n",
    "    width=1400, height=500)\n"
   ]
  },
  {
   "cell_type": "code",
   "execution_count": null,
   "metadata": {},
   "outputs": [],
   "source": [
    "tools.tool_plot_building.generate_plot__hvplot_line(macro_customer_avg_annual_sales_sequence,\n",
    "    title=\"Macro Customer Avg. Annual Sales\", xlabel=\"Year Index\", ylabel=\"Avg. Annual Sales\",\n",
    "    width=1400, height=500)\n"
   ]
  },
  {
   "cell_type": "code",
   "execution_count": null,
   "metadata": {},
   "outputs": [],
   "source": [
    "tools.tool_plot_building.generate_plot__hvplot_line(macro_customer_avg_annual_sales_change_sequence,\n",
    "    title=\"Macro Customer Avg. Annual Sales - Standard Deviation\", xlabel=\"Year Index\", ylabel=\"Fractional Change of Avg. Annual Sales\",\n",
    "    width=1400, height=500)\n"
   ]
  },
  {
   "cell_type": "code",
   "execution_count": null,
   "metadata": {},
   "outputs": [],
   "source": [
    "tools.tool_plot_building.generate_plot__hvplot_line(macro_customer_avg_annual_sales_std_sequence,\n",
    "    title=\"Macro Customer Avg. Annual Sales - Fractional Change\", xlabel=\"Year Index\", ylabel=\"std(Avg. Annual Sales)\",\n",
    "    width=1400, height=500)\n"
   ]
  },
  {
   "cell_type": "code",
   "execution_count": null,
   "metadata": {},
   "outputs": [],
   "source": [
    "tools.tool_plot_building.generate_plot__hvplot_line(macro_customer_avg_annual_sales_change_std_sequence,\n",
    "    title=\"Macro Customer Avg. Annual Sales - Fractional Change Standard Deviation\", xlabel=\"Year Index\", ylabel=\"std(Fractional Change of Avg. Annual Sales)\",\n",
    "    width=1400, height=500)\n"
   ]
  },
  {
   "cell_type": "code",
   "execution_count": null,
   "metadata": {},
   "outputs": [],
   "source": []
  },
  {
   "source": [
    "## Build simulations"
   ],
   "cell_type": "markdown",
   "metadata": {}
  },
  {
   "cell_type": "code",
   "execution_count": null,
   "metadata": {},
   "outputs": [],
   "source": []
  },
  {
   "cell_type": "code",
   "execution_count": 69,
   "metadata": {},
   "outputs": [
    {
     "output_type": "error",
     "ename": "SyntaxError",
     "evalue": "positional argument follows keyword argument (<ipython-input-69-0a056a47215e>, line 14)",
     "traceback": [
      "\u001b[1;36m  File \u001b[1;32m\"<ipython-input-69-0a056a47215e>\"\u001b[1;36m, line \u001b[1;32m14\u001b[0m\n\u001b[1;33m    dict_lookup_list,\u001b[0m\n\u001b[1;37m    ^\u001b[0m\n\u001b[1;31mSyntaxError\u001b[0m\u001b[1;31m:\u001b[0m positional argument follows keyword argument\n"
     ]
    }
   ],
   "source": [
    "# Configure MC simulation\n",
    "\n",
    "forward_predictor = ForwardPredictor(\n",
    "    debug_level = 0,\n",
    "    all_x_values = historical_and_prediction_year_list,\n",
    "    dict_lookup_list = classification_list,\n",
    "    values_dict = time_series_model_utilities.convert_df_to_series_map(macro_customer_behavior_counts_sequence, classification_list),\n",
    "    change_values_dict = time_series_model_utilities.convert_df_to_series_map(macro_customer_behavior_counts_change_sequence, classification_list),\n",
    "    model_type = ModelType.LinearRegressionDictModel,\n",
    "    opts_dict = { \"use_multi_stage\": False })\n",
    "\n",
    "prediction_fuzzer = PredictionFuzzer()\n",
    "\n",
    "simulator = MCSimulation_MacroCustomerSales(\n",
    "    debug_level=0,\n",
    "    dict_lookup_list = classification_list,\n",
    "    forward_predictor = forward_predictor,\n",
    "    prediction_fuzzer = prediction_fuzzer,\n",
    "    num_simulation = 100)\n"
   ]
  },
  {
   "cell_type": "code",
   "execution_count": null,
   "metadata": {},
   "outputs": [],
   "source": [
    "# Run the simulation\n",
    "simulator.run()\n",
    "simulator.display_results_summary()\n"
   ]
  },
  {
   "cell_type": "code",
   "execution_count": null,
   "metadata": {},
   "outputs": [],
   "source": [
    "# Plot the results\n",
    "simulator.plot_results()\n"
   ]
  },
  {
   "cell_type": "code",
   "execution_count": null,
   "metadata": {},
   "outputs": [],
   "source": [
    "# Save tabulated results\n",
    "results = simulator.get_results()\n"
   ]
  },
  {
   "cell_type": "code",
   "execution_count": null,
   "metadata": {},
   "outputs": [],
   "source": [
    "# TODO These are made-up numbers\n",
    "# macro_customer_behavior_counts_list = [\n",
    "#         MacroCustomerBehaviorCounts(\n",
    "#             nbr_new_customers = 8,\n",
    "#             nbr_continued_loyal_customers = 0,\n",
    "#             nbr_continued_at_risk_customers = 0,\n",
    "#             nbr_continued_nominal_customers = 0,\n",
    "#             nbr_dropped_customers = 0,\n",
    "#             year = 2015),\n",
    "#         MacroCustomerBehaviorCounts(\n",
    "#             nbr_new_customers = 2,\n",
    "#             nbr_continued_loyal_customers = 2,\n",
    "#             nbr_continued_at_risk_customers = 0,\n",
    "#             nbr_continued_nominal_customers = 0,\n",
    "#             nbr_dropped_customers = 1,\n",
    "#             year = 2016),\n",
    "#         MacroCustomerBehaviorCounts(\n",
    "#             nbr_new_customers = 3,\n",
    "#             nbr_continued_loyal_customers = 5,\n",
    "#             nbr_continued_at_risk_customers = 0,\n",
    "#             nbr_continued_nominal_customers = 0,\n",
    "#             nbr_dropped_customers = 2,\n",
    "#             year = 2017),\n",
    "#         MacroCustomerBehaviorCounts(\n",
    "#             nbr_new_customers = 5,\n",
    "#             nbr_continued_loyal_customers = 15,\n",
    "#             nbr_continued_at_risk_customers = 0,\n",
    "#             nbr_continued_nominal_customers = 0,\n",
    "#             nbr_dropped_customers = 3,\n",
    "#             year = 2018),\n",
    "#         MacroCustomerBehaviorCounts(\n",
    "#             nbr_new_customers = 10,\n",
    "#             nbr_continued_loyal_customers = 30,\n",
    "#             nbr_continued_at_risk_customers = 0,\n",
    "#             nbr_continued_nominal_customers = 0,\n",
    "#             nbr_dropped_customers = 4,\n",
    "#             year = 2019),\n",
    "#         MacroCustomerBehaviorCounts(\n",
    "#             nbr_new_customers = 190,\n",
    "#             nbr_continued_loyal_customers = 60,\n",
    "#             nbr_continued_at_risk_customers = 0,\n",
    "#             nbr_continued_nominal_customers = 0,\n",
    "#             nbr_dropped_customers = 10,\n",
    "#             year = 2020)\n",
    "# ]\n",
    "\n",
    "# macro_customer_avg_annual_sales_list = [\n",
    "#         MacroCustomerAverageAnnualSales(\n",
    "#             avg_annual_sales_new_customers = 5000.0,\n",
    "#             avg_annual_sales_continued_loyal_customers = 5000.0,\n",
    "#             avg_annual_sales_continued_at_risk_customers = 5000.0,\n",
    "#             avg_annual_sales_continued_nominal_customers = 5000.0,\n",
    "#             avg_annual_sales_dropped_customers = 1000.0,\n",
    "#             year = 2015),\n",
    "#         MacroCustomerAverageAnnualSales(\n",
    "#             avg_annual_sales_new_customers = 5000.0,\n",
    "#             avg_annual_sales_continued_loyal_customers = 5000.0,\n",
    "#             avg_annual_sales_continued_at_risk_customers = 5000.0,\n",
    "#             avg_annual_sales_continued_nominal_customers = 5000.0,\n",
    "#             avg_annual_sales_dropped_customers = 1000.0,\n",
    "#             year = 2016),\n",
    "#         MacroCustomerAverageAnnualSales(\n",
    "#             avg_annual_sales_new_customers = 5000.0,\n",
    "#             avg_annual_sales_continued_loyal_customers = 5000.0,\n",
    "#             avg_annual_sales_continued_at_risk_customers = 5000.0,\n",
    "#             avg_annual_sales_continued_nominal_customers = 5000.0,\n",
    "#             avg_annual_sales_dropped_customers = 1000.0,\n",
    "#             year = 2017),\n",
    "#         MacroCustomerAverageAnnualSales(\n",
    "#             avg_annual_sales_new_customers = 5000.0,\n",
    "#             avg_annual_sales_continued_loyal_customers = 5000.0,\n",
    "#             avg_annual_sales_continued_at_risk_customers = 5000.0,\n",
    "#             avg_annual_sales_continued_nominal_customers = 5000.0,\n",
    "#             avg_annual_sales_dropped_customers = 1000.0,\n",
    "#             year = 2018),\n",
    "#         MacroCustomerAverageAnnualSales(\n",
    "#             avg_annual_sales_new_customers = 5000.0,\n",
    "#             avg_annual_sales_continued_loyal_customers = 5000.0,\n",
    "#             avg_annual_sales_continued_at_risk_customers = 5000.0,\n",
    "#             avg_annual_sales_continued_nominal_customers = 5000.0,\n",
    "#             avg_annual_sales_dropped_customers = 1000.0,\n",
    "#             year = 2019),\n",
    "#         MacroCustomerAverageAnnualSales(\n",
    "#             avg_annual_sales_new_customers = 5000.0,\n",
    "#             avg_annual_sales_continued_loyal_customers = 5000.0,\n",
    "#             avg_annual_sales_continued_at_risk_customers = 5000.0,\n",
    "#             avg_annual_sales_continued_nominal_customers = 5000.0,\n",
    "#             avg_annual_sales_dropped_customers = 1000.0,\n",
    "#             year = 2020)\n",
    "# ]\n"
   ]
  },
  {
   "source": [
    "# (Old) Simple Generic Simulation"
   ],
   "cell_type": "markdown",
   "metadata": {}
  },
  {
   "cell_type": "code",
   "execution_count": null,
   "metadata": {},
   "outputs": [],
   "source": [
    "# historical_data = atlas.reset_index().set_index(\"Service Start\").sort_index(ascending=True)\n",
    "\n",
    "# historical_data_invoice_amount = historical_data.groupby(\"Service Start\").sum()[\"Invoice Amount\"]\n",
    "# historical_data_invoice_count = historical_data.groupby(\"Service Start\").count()[\"Invoice Amount\"]\n",
    "\n",
    "# # Critical\n",
    "# historical_data_invoice_amount_cumulative = historical_data_invoice_amount.cumsum()\n",
    "# historical_data_invoice_count_cumulative = historical_data_invoice_count.cumsum()\n",
    "\n",
    "# # Extra\n",
    "# historical_data_invoice_mean = historical_data.groupby(\"Service Start\").mean()[\"Invoice Amount\"]\n",
    "# historical_data_nbr_users = historical_data.groupby(\"Service Start\").sum()[\"Number of Users\"]\n",
    "# historical_data_nbr_customers = historical_data.groupby(\"Service Start\").count()[\"Customers\"]\n",
    "\n",
    "# historical_data_nbr_users_cumulative = historical_data_nbr_users.cumsum()\n",
    "# historical_data_nbr_customers_cumulative = historical_data_nbr_customers.cumsum()\n"
   ]
  },
  {
   "cell_type": "code",
   "execution_count": null,
   "metadata": {},
   "outputs": [],
   "source": [
    "# historical_data_invoice_amount_cumulative.tail(20)"
   ]
  },
  {
   "cell_type": "code",
   "execution_count": null,
   "metadata": {},
   "outputs": [],
   "source": [
    "# mc = MCSimulation_Generic(\n",
    "#     value_title=\"Invoice Amount\",\n",
    "#     value_list = historical_data_invoice_amount_cumulative,\n",
    "#     num_simulation=1000,\n",
    "#     num_trailing_points = 10,\n",
    "#     scale_results=True,\n",
    "#     allow_negative_returns = True\n",
    "# )\n",
    "\n",
    "# mc.calc_cumulative_return()\n"
   ]
  },
  {
   "cell_type": "code",
   "execution_count": null,
   "metadata": {},
   "outputs": [],
   "source": [
    "# mc.plot_simulation()"
   ]
  },
  {
   "cell_type": "code",
   "execution_count": null,
   "metadata": {},
   "outputs": [],
   "source": [
    "# # mc.plot_distribution()\n",
    "# mc.simulated_return.iloc[-1, :]\n",
    "# mc.simulated_return.iloc[-1, :].plot(kind='hist', title=\"\")\n",
    "# # mc.simulated_return.iloc[-1, :].plot(kind='hist', bins=10, density=True, title=\"\", height=500, width=800)\n"
   ]
  },
  {
   "cell_type": "code",
   "execution_count": null,
   "metadata": {},
   "outputs": [],
   "source": [
    "# mc.summarize_cumulative_return()"
   ]
  },
  {
   "cell_type": "code",
   "execution_count": null,
   "metadata": {},
   "outputs": [],
   "source": [
    "# historical_data_invoice_amount_cumulative.hvplot.line()"
   ]
  },
  {
   "cell_type": "code",
   "execution_count": null,
   "metadata": {},
   "outputs": [],
   "source": [
    "# historical_data_invoice_count_cumulative.hvplot.line()"
   ]
  },
  {
   "cell_type": "code",
   "execution_count": null,
   "metadata": {},
   "outputs": [],
   "source": [
    "# historical_data_nbr_users_cumulative.hvplot.line()"
   ]
  },
  {
   "cell_type": "code",
   "execution_count": null,
   "metadata": {},
   "outputs": [],
   "source": [
    "# historical_data_nbr_customers_cumulative.hvplot.line()"
   ]
  },
  {
   "cell_type": "code",
   "execution_count": null,
   "metadata": {},
   "outputs": [],
   "source": []
  },
  {
   "cell_type": "code",
   "execution_count": null,
   "metadata": {},
   "outputs": [],
   "source": [
    "# test\n",
    "# df = pd.DataFrame({'A': [0, 100, 110, 115, 120], 'B': [0, 100, 110, 115, 120]}).T\n",
    "# df.rolling(window=3, axis=1).std()\n",
    "\n",
    "df = pd.DataFrame({'A': [0, 100, 110, 115, 120], 'B': [0, 100, 110, 115, 120]})\n",
    "df2 = df.rolling(window=3).std()\n",
    "df2\n",
    "# df2.T.to_dict()\n"
   ]
  },
  {
   "cell_type": "code",
   "execution_count": null,
   "metadata": {},
   "outputs": [],
   "source": []
  }
 ],
 "metadata": {
  "kernelspec": {
   "display_name": "pyvizenv",
   "language": "python",
   "name": "pyvizenv"
  },
  "language_info": {
   "codemirror_mode": {
    "name": "ipython",
    "version": 3
   },
   "file_extension": ".py",
   "mimetype": "text/x-python",
   "name": "python",
   "nbconvert_exporter": "python",
   "pygments_lexer": "ipython3",
   "version": "3.8.3-final"
  }
 },
 "nbformat": 4,
 "nbformat_minor": 4
}