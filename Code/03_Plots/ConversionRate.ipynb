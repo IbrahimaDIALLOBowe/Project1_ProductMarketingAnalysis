{
 "cells": [
  {
   "cell_type": "markdown",
   "metadata": {},
   "source": [
    "# Initialize"
   ]
  },
  {
   "cell_type": "code",
   "execution_count": 1,
   "metadata": {},
   "outputs": [],
   "source": [
    "# Options\n",
    "\n",
    "## Debugging level\n",
    "debug_level = 0\n"
   ]
  },
  {
   "cell_type": "code",
   "execution_count": 2,
   "metadata": {},
   "outputs": [],
   "source": [
    "# Initialize framework\n",
    "constants, tools = init_processing(debug_level)\n",
    "pn.extension(\"plotly\")\n",
    "hv.extension('bokeh', 'matplotlib')\n",
    "%matplotlib inline\n"
   ]
  },
  {
   "cell_type": "code",
   "execution_count": 3,
   "metadata": {},
   "outputs": [],
   "source": [
    "# Import all preprocessed data\n",
    "invoice_data_by_customer            = pd.read_pickle(constants.PREPROCESSED_INVOICE_CUSTOMER_FILE_PATH)\n",
    "invoice_data_by_service_start       = pd.read_pickle(constants.PREPROCESSED_INVOICE_SERVICEDATE_FILE_PATH)\n",
    "invoice_data_by_invoice_date        = pd.read_pickle(constants.PREPROCESSED_INVOICE_INVOICEDATE_FILE_PATH)\n",
    "forecast                            = pd.read_pickle(constants.PREPROCESSED_FORECAST_CLEANED_FILE_PATH)\n",
    "revenue2020A                        = pd.read_pickle(constants.PREPROCESSED_REVENUE2020A_CLEANED_FILE_PATH)\n"
   ]
  },
  {
   "cell_type": "code",
   "execution_count": null,
   "metadata": {},
   "outputs": [],
   "source": [
    "# Define functions\n",
    "\n",
    "# Upgrade sequence\n",
    "def fcn(df):\n",
    "    # print(f\"Size of df: {df.shape}\")\n",
    "    # dfs = df[\"Subscription\"]\n",
    "    # print(f\"Contents of of df[Subscription]: {dfs}\")\n",
    "    # print(f\"Contents of of df: {df}\")\n",
    "\n",
    "    customer_subscriptions_ordered_by_date = df.loc[:, [\"Subscription\", \"Service Start\"]].sort_values(\"Service Start\")\n",
    "    # subscriptions = df#.reset_index().loc[[\"Subscription\", \"Service Start\"]]\n",
    "    # subscriptions = df[\"Subscription\"].values\n",
    "    subscription_upgrade_sequence = customer_subscriptions_ordered_by_date[\"Subscription\"].to_list()\n",
    "\n",
    "    # print(customer_subscriptions_ordered_by_date)\n",
    "\n",
    "    # TODO fcn to compute upgrade, downgrade, and delays between them.\n",
    "\n",
    "    return subscription_upgrade_sequence\n"
   ]
  },
  {
   "cell_type": "code",
   "execution_count": null,
   "metadata": {},
   "outputs": [],
   "source": [
    "invoice_data_by_customer.head(5)"
   ]
  },
  {
   "cell_type": "code",
   "execution_count": null,
   "metadata": {},
   "outputs": [],
   "source": [
    "(atlas[\"Invoice Date\"] - atlas[\"Service Start\"]).apply(lambda date: date.days)"
   ]
  },
  {
   "cell_type": "code",
   "execution_count": null,
   "metadata": {},
   "outputs": [],
   "source": [
    "# Plot delays between marketing initiation and payment date (NOTE: This is sample data and not accurate until relevant data is available.)\n",
    "marketing_delay = atlas[\"Invoice Date\"] - atlas[\"Service Start\"]\n",
    "marketing_delay_days = marketing_delay.apply(lambda date: date.days)\n",
    "marketing_delay_df = pd.DataFrame(marketing_delay_days, columns=[\"Marketing Delay\"])\n",
    "# marketing_delay_df.plot.bar(figsize=(20, 10))\n",
    "marketing_delay_df.topn(10) .plot.bar(figsize=(20, 10))\n",
    "\n",
    "# TODO Group by customer regardless and Group by subscription length.\n",
    "# TODO Response time for each state\n",
    "# TODO Response time for each type of customer (\"ATLAS Customer Type\")\n",
    "# TODO Response time for each type of customer (\"Organization Record Type\")\n",
    "# TODO Data on potential customers and %success\n"
   ]
  },
  {
   "cell_type": "code",
   "execution_count": null,
   "metadata": {},
   "outputs": [],
   "source": [
    "marketing_delay_df.plot.barh(figsize=(20, 30))"
   ]
  },
  {
   "cell_type": "code",
   "execution_count": null,
   "metadata": {},
   "outputs": [],
   "source": [
    "# Basic info\n",
    "total_invoiced_per_customer = atlas.groupby([\"Customers\"]).sum()\n",
    "total_invoiced_per_customer.head()"
   ]
  },
  {
   "cell_type": "code",
   "execution_count": null,
   "metadata": {},
   "outputs": [],
   "source": [
    "# Calculate conversion rates across various subscription combinations\n",
    "repeat_customers = atlas.index.duplicated()\n",
    "print(f\"There are {repeat_customers.sum()} universities in this dataset who purchased 2 or more subscriptions.\")\n",
    "# atlas.loc[repeat_customers].groupby(\"Customers\").apply(lambda x: x[\"Subscription\"])\n",
    "# atlas.loc[repeat_customers].groupby(\"Customers\").apply(lambda x: x[\"Subscription\"])\n",
    "\n",
    "service_upgrades = pd.DataFrame( atlas.loc[repeat_customers].sort_values(\"Service Start\").groupby(\"Customers\").apply(fcn) )\n",
    "service_upgrades.columns = [ \"UpgradeSequence\" ]\n",
    "service_upgrades\n",
    "\n",
    "\n",
    "\n",
    "# TODO Reduce #groups by also grouping by location, type of customer etc.\n",
    "\n",
    "# TODO Add a category and grouping everywhere based on total or trailing invoice value (0-100k, 100k-1M, etc)\n",
    "\n",
    "# TODO: Tag the following:\n",
    "# - Drop-off in subscription length\n",
    "# - Drop-off in subscription coverage\n",
    "# - Upgrades with coverage gaps\n",
    "# - Upgrades with no coverage gaps\n",
    "# - Any coverage gaps\n",
    "\n",
    "# TODO Find late payers past threshold"
   ]
  },
  {
   "cell_type": "code",
   "execution_count": null,
   "metadata": {},
   "outputs": [],
   "source": [
    "# New customers\n",
    "historical = atlas.reset_index().set_index(\"Service Start\").sort_index().reset_index()\n",
    "duplicated_customers = historical.reset_index()[\"Customers\"].duplicated().apply(lambda x: not x)\n",
    "\n",
    "new_customers = historical.loc[duplicated_customers].set_index(\"Service Start\")\n",
    "new_customers.drop(columns=['Customers', 'Number of Users', 'Invoice Date', 'Invoice #',\n",
    "       'Invoice Amount', 'Subscription', 'Account Code ', 'Address', 'Lat',\n",
    "       'Long', 'Service End', 'Subscription Duration'],\n",
    "       inplace=True)\n",
    "# new_customers[\"NumberOfNewUsers\"] = pd.DataFrame( [np.ones([1, new_customers.shape[0]])] )\n",
    "# new_customers\n",
    "\n",
    "new_customers.hvplot.line(width=1000, height=400)\n"
   ]
  },
  {
   "cell_type": "code",
   "execution_count": null,
   "metadata": {},
   "outputs": [],
   "source": [
    "np.ones([1, 10])\n",
    "new_customers.shape"
   ]
  },
  {
   "cell_type": "code",
   "execution_count": null,
   "metadata": {},
   "outputs": [],
   "source": [
    "# atlas.columns\n",
    "atlas.loc[:, [\"Subscription\", \"Service Start\"]]\n",
    "atlas.loc[:, [\"Subscription\", \"Service Start\"]].sort_values(\"Service Start\")"
   ]
  },
  {
   "cell_type": "code",
   "execution_count": null,
   "metadata": {},
   "outputs": [],
   "source": []
  },
  {
   "cell_type": "code",
   "execution_count": null,
   "metadata": {},
   "outputs": [],
   "source": []
  },
  {
   "cell_type": "code",
   "execution_count": null,
   "metadata": {},
   "outputs": [],
   "source": []
  },
  {
   "cell_type": "code",
   "execution_count": null,
   "metadata": {},
   "outputs": [],
   "source": []
  },
  {
   "cell_type": "code",
   "execution_count": null,
   "metadata": {},
   "outputs": [],
   "source": []
  },
  {
   "cell_type": "code",
   "execution_count": null,
   "metadata": {},
   "outputs": [],
   "source": []
  },
  {
   "cell_type": "code",
   "execution_count": null,
   "metadata": {},
   "outputs": [],
   "source": []
  },
  {
   "cell_type": "code",
   "execution_count": null,
   "metadata": {},
   "outputs": [],
   "source": []
  }
 ],
 "metadata": {
  "kernelspec": {
   "display_name": "pyvizenv",
   "language": "python",
   "name": "pyvizenv"
  },
  "language_info": {
   "codemirror_mode": {
    "name": "ipython",
    "version": 3
   },
   "file_extension": ".py",
   "mimetype": "text/x-python",
   "name": "python",
   "nbconvert_exporter": "python",
   "pygments_lexer": "ipython3",
   "version": "3.8.3-final"
  }
 },
 "nbformat": 4,
 "nbformat_minor": 4
}