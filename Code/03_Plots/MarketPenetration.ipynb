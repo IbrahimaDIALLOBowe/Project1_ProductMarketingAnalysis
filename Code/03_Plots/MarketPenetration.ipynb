{
 "cells": [
  {
   "cell_type": "markdown",
   "metadata": {},
   "source": [
    "# Initialize"
   ]
  },
  {
   "cell_type": "code",
   "execution_count": 1,
   "metadata": {},
   "outputs": [],
   "source": [
    "# Options\n",
    "\n",
    "## Debugging level\n",
    "debug_level = 0\n"
   ]
  },
  {
   "cell_type": "code",
   "execution_count": 2,
   "metadata": {},
   "outputs": [],
   "source": [
    "# Initialize framework\n",
    "constants, tools = init_processing(debug_level)\n",
    "pn.extension(\"plotly\")\n",
    "hv.extension('bokeh', 'matplotlib')\n",
    "%matplotlib inline\n"
   ]
  },
  {
   "cell_type": "code",
   "execution_count": 3,
   "metadata": {},
   "outputs": [],
   "source": [
    "# Import all preprocessed data\n",
    "invoice_data_by_customer            = pd.read_pickle(constants.PREPROCESSED_INVOICE_CUSTOMER_FILE_PATH)\n",
    "invoice_data_by_service_start       = pd.read_pickle(constants.PREPROCESSED_INVOICE_SERVICEDATE_FILE_PATH)\n",
    "invoice_data_by_invoice_date        = pd.read_pickle(constants.PREPROCESSED_INVOICE_INVOICEDATE_FILE_PATH)\n",
    "forecast                            = pd.read_pickle(constants.PREPROCESSED_FORECAST_CLEANED_FILE_PATH)\n",
    "revenue2020A                        = pd.read_pickle(constants.PREPROCESSED_REVENUE2020A_CLEANED_FILE_PATH)\n"
   ]
  },
  {
   "cell_type": "code",
   "execution_count": null,
   "metadata": {},
   "outputs": [],
   "source": [
    "# Identify existing and potential customers\n",
    "customer_name_mapping = tool_lookup_tables.read_customer_name_mapping()\n",
    "paying_customers = list(customer_name_mapping.keys())\n",
    "\n",
    "all_potential_customers = paying_customers\n",
    "paying_customers = paying_customers[0:10]\n"
   ]
  },
  {
   "cell_type": "code",
   "execution_count": null,
   "metadata": {},
   "outputs": [],
   "source": [
    "# Calculate market penetration\n",
    "\n",
    "# TODO remove duplicates\n",
    "# TODO Match names\n",
    "# TODO Generate pie chart\n",
    "\n",
    "mp = len(paying_customers) / len(all_potential_customers)\n",
    "\n",
    "print(f\"MP is {mp * 100} %\")\n",
    "\n"
   ]
  },
  {
   "cell_type": "code",
   "execution_count": null,
   "metadata": {},
   "outputs": [],
   "source": [
    "# Calculate market penetration\n",
    "\n",
    "# TODO remove duplicates\n",
    "# TODO Match names\n",
    "# TODO Generate pie chart\n",
    "\n",
    "nbr_paying_customers = len(paying_customers)\n",
    "nbr_potential_customers = len(all_potential_customers)\n",
    "market_penetration = nbr_paying_customers / nbr_potential_customers\n",
    "\n",
    "## Print results\n",
    "print(f\"The number of paying cusomters is {nbr_paying_customers}\")\n",
    "print(f\"The number of potential cusomters is {nbr_potential_customers}\")\n",
    "print(f\"Market penetration is {market_penetration * 100} %\")\n",
    "\n",
    "## Generate heatmap\n",
    "# all_potential_customers   .hvplot.heatmap(x='time.month', y='time.day', C='temperature', \n",
    "#                   height=500, width=500, colorbar=False)\n"
   ]
  },
  {
   "cell_type": "code",
   "execution_count": null,
   "metadata": {},
   "outputs": [],
   "source": [
    "atlas2_ymq_filtered.head(2)"
   ]
  },
  {
   "cell_type": "code",
   "execution_count": null,
   "metadata": {},
   "outputs": [],
   "source": [
    "# Generate heatmap\n",
    "atlas2_ymq_filtered.reset_index().hvplot.heatmap(x='Lat', y='Long', C='Invoice Amount', \n",
    "                  height=500, width=500, colorbar=False)\n"
   ]
  },
  {
   "cell_type": "code",
   "execution_count": null,
   "metadata": {},
   "outputs": [],
   "source": [
    "atlas[\"Number of Users\"].reset_index()"
   ]
  },
  {
   "cell_type": "code",
   "execution_count": null,
   "metadata": {},
   "outputs": [],
   "source": [
    "# Number of customers per state plots, top 15 (bar, map)\n",
    "num_customers = 15\n",
    "\n",
    "# TODO Parse address or lat/lon to get the state: https://docs.mapbox.com/api/search/#forward-geocoding\n",
    "\n",
    "states = pd.DataFrame([\"VA\"] * atlas.shape[0])\n",
    "\n",
    "df = pd.concat([states, atlas[\"Number of Users\"].reset_index()], axis=\"columns\", join=\"inner\")\n",
    "\n",
    "# df = atlas[\"Number of Users\"]\n",
    "# df.append(states)\n",
    "# df = pd.DataFrame([states, atlas[\"Number of Users\"]])\n",
    "# df.plot()\n",
    "\n",
    "df.hvplot.bar()"
   ]
  },
  {
   "cell_type": "code",
   "execution_count": null,
   "metadata": {},
   "outputs": [],
   "source": []
  },
  {
   "cell_type": "code",
   "execution_count": null,
   "metadata": {},
   "outputs": [],
   "source": []
  },
  {
   "cell_type": "code",
   "execution_count": null,
   "metadata": {},
   "outputs": [],
   "source": []
  },
  {
   "cell_type": "code",
   "execution_count": null,
   "metadata": {},
   "outputs": [],
   "source": []
  },
  {
   "cell_type": "code",
   "execution_count": null,
   "metadata": {},
   "outputs": [],
   "source": []
  },
  {
   "cell_type": "code",
   "execution_count": null,
   "metadata": {},
   "outputs": [],
   "source": []
  },
  {
   "cell_type": "code",
   "execution_count": null,
   "metadata": {},
   "outputs": [],
   "source": []
  },
  {
   "cell_type": "code",
   "execution_count": null,
   "metadata": {},
   "outputs": [],
   "source": []
  },
  {
   "cell_type": "code",
   "execution_count": null,
   "metadata": {},
   "outputs": [],
   "source": []
  },
  {
   "cell_type": "code",
   "execution_count": null,
   "metadata": {},
   "outputs": [],
   "source": []
  },
  {
   "cell_type": "code",
   "execution_count": null,
   "metadata": {},
   "outputs": [],
   "source": []
  }
 ],
 "metadata": {
  "kernelspec": {
   "display_name": "pyvizenv",
   "language": "python",
   "name": "pyvizenv"
  },
  "language_info": {
   "codemirror_mode": {
    "name": "ipython",
    "version": 3
   },
   "file_extension": ".py",
   "mimetype": "text/x-python",
   "name": "python",
   "nbconvert_exporter": "python",
   "pygments_lexer": "ipython3",
   "version": "3.8.3-final"
  }
 },
 "nbformat": 4,
 "nbformat_minor": 4
}