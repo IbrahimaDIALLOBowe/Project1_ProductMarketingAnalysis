{
 "cells": [
  {
   "source": [
    "# Description\n",
    "\n",
    "Forecast using (a) MC best/worst calculation, and (b) MC simulation.\n",
    "\n",
    "\n",
    "\n",
    "\n",
    "Forecasting computed using large-scale, probability-driven MonteCarlo prediction."
   ],
   "cell_type": "markdown",
   "metadata": {}
  },
  {
   "cell_type": "markdown",
   "metadata": {},
   "source": [
    "# Initialize"
   ]
  },
  {
   "cell_type": "code",
   "execution_count": 1,
   "metadata": {},
   "outputs": [],
   "source": [
    "# Options\n",
    "\n",
    "## Debugging level\n",
    "debug_level = 0\n"
   ]
  },
  {
   "cell_type": "code",
   "execution_count": 2,
   "metadata": {},
   "outputs": [],
   "source": [
    "# Initialize framework\n",
    "constants, tools = init_processing(debug_level)\n",
    "pn.extension(\"plotly\")\n",
    "hv.extension('bokeh', 'matplotlib')\n",
    "%matplotlib inline\n"
   ]
  },
  {
   "cell_type": "code",
   "execution_count": 3,
   "metadata": {},
   "outputs": [],
   "source": [
    "# Import all preprocessed data\n",
    "invoice_data_by_customer            = pd.read_pickle(constants.PREPROCESSED_INVOICE_CUSTOMER_FILE_PATH)\n",
    "invoice_data_by_service_start       = pd.read_pickle(constants.PREPROCESSED_INVOICE_SERVICEDATE_FILE_PATH)\n",
    "invoice_data_by_invoice_date        = pd.read_pickle(constants.PREPROCESSED_INVOICE_INVOICEDATE_FILE_PATH)\n",
    "forecast                            = pd.read_pickle(constants.PREPROCESSED_FORECAST_CLEANED_FILE_PATH)\n",
    "revenue2020A                        = pd.read_pickle(constants.PREPROCESSED_REVENUE2020A_CLEANED_FILE_PATH)\n"
   ]
  },
  {
   "source": [
    "# Best/Worst Bounds Simulation"
   ],
   "cell_type": "markdown",
   "metadata": {}
  },
  {
   "cell_type": "code",
   "execution_count": null,
   "metadata": {},
   "outputs": [],
   "source": [
    "# TODO"
   ]
  },
  {
   "source": [
    "# Macro Customer Behavior Counts Simulation"
   ],
   "cell_type": "markdown",
   "metadata": {}
  },
  {
   "cell_type": "code",
   "execution_count": 2,
   "metadata": {},
   "outputs": [
    {
     "output_type": "error",
     "ename": "NameError",
     "evalue": "name 'MacroCustomerBehaviorCounts' is not defined",
     "traceback": [
      "\u001b[1;31m---------------------------------------------------------------------------\u001b[0m",
      "\u001b[1;31mNameError\u001b[0m                                 Traceback (most recent call last)",
      "\u001b[1;32m<ipython-input-2-ed8579af7746>\u001b[0m in \u001b[0;36m<module>\u001b[1;34m\u001b[0m\n\u001b[0;32m      1\u001b[0m \u001b[1;31m# TODO These are made-up numbers\u001b[0m\u001b[1;33m\u001b[0m\u001b[1;33m\u001b[0m\u001b[1;33m\u001b[0m\u001b[0m\n\u001b[0;32m      2\u001b[0m projection_type2__macro_customer_behavior_counts_list = [\n\u001b[1;32m----> 3\u001b[1;33m         MacroCustomerBehaviorCounts(\n\u001b[0m\u001b[0;32m      4\u001b[0m             \u001b[0mnbr_new_customers\u001b[0m \u001b[1;33m=\u001b[0m \u001b[1;36m190\u001b[0m\u001b[1;33m,\u001b[0m\u001b[1;33m\u001b[0m\u001b[1;33m\u001b[0m\u001b[0m\n\u001b[0;32m      5\u001b[0m             \u001b[0mnbr_continued_loyal_customers\u001b[0m \u001b[1;33m=\u001b[0m \u001b[1;36m60\u001b[0m\u001b[1;33m,\u001b[0m\u001b[1;33m\u001b[0m\u001b[1;33m\u001b[0m\u001b[0m\n",
      "\u001b[1;31mNameError\u001b[0m: name 'MacroCustomerBehaviorCounts' is not defined"
     ]
    }
   ],
   "source": [
    "# TODO These are made-up numbers\n",
    "\n",
    "Customer Classification\t2015\t2016\t2017\t2018\t2019\t2020\t2021 (projected)\t2023 (projected)\t2023 (projected)\n",
    "New Customers\t8\t27\t31\t38\t69\t218\t\t\t\n",
    "Loyal Customers\t\t5\t8\t21\t15\t33\t\t\t\n",
    "Lost Customers\t\t16\t21\t18\t16\t20\t\t\t\n",
    "\n",
    "\n",
    "macro_customer_behavior_counts_list = [\n",
    "        MacroCustomerBehaviorCounts(\n",
    "            nbr_new_customers = 1,\n",
    "            nbr_continued_loyal_customers = 0,\n",
    "            nbr_continued_at_risk_customers = 0,\n",
    "            nbr_continued_nominal_customers = 0,\n",
    "            nbr_dropped_customers = 0,\n",
    "            year = 2015),\n",
    "        MacroCustomerBehaviorCounts(\n",
    "            nbr_new_customers = 2,\n",
    "            nbr_continued_loyal_customers = 2,\n",
    "            nbr_continued_at_risk_customers = 0,\n",
    "            nbr_continued_nominal_customers = 0,\n",
    "            nbr_dropped_customers = 1,\n",
    "            year = 2016),\n",
    "        MacroCustomerBehaviorCounts(\n",
    "            nbr_new_customers = 3,\n",
    "            nbr_continued_loyal_customers = 5,\n",
    "            nbr_continued_at_risk_customers = 0,\n",
    "            nbr_continued_nominal_customers = 0,\n",
    "            nbr_dropped_customers = 2,\n",
    "            year = 2017),\n",
    "        MacroCustomerBehaviorCounts(\n",
    "            nbr_new_customers = 5,\n",
    "            nbr_continued_loyal_customers = 15,\n",
    "            nbr_continued_at_risk_customers = 0,\n",
    "            nbr_continued_nominal_customers = 0,\n",
    "            nbr_dropped_customers = 3,\n",
    "            year = 2018),\n",
    "        MacroCustomerBehaviorCounts(\n",
    "            nbr_new_customers = 10,\n",
    "            nbr_continued_loyal_customers = 30,\n",
    "            nbr_continued_at_risk_customers = 0,\n",
    "            nbr_continued_nominal_customers = 0,\n",
    "            nbr_dropped_customers = 4,\n",
    "            year = 2019),\n",
    "        MacroCustomerBehaviorCounts(\n",
    "            nbr_new_customers = 190,\n",
    "            nbr_continued_loyal_customers = 60,\n",
    "            nbr_continued_at_risk_customers = 0,\n",
    "            nbr_continued_nominal_customers = 0,\n",
    "            nbr_dropped_customers = 10,\n",
    "            year = 2020)\n",
    "]\n",
    "\n",
    "macro_customer_avg_annual_sales_list = [\n",
    "        MacroCustomerAverageAnnualSales(\n",
    "            avg_annual_sales_new_customers = 5000.0,\n",
    "            avg_annual_sales_continued_loyal_customers = 5000.0,\n",
    "            avg_annual_sales_continued_at_risk_customers = 5000.0,\n",
    "            avg_annual_sales_continued_nominal_customers = 5000.0,\n",
    "            avg_annual_sales_dropped_customers = 1000.0,\n",
    "            year = 2015),\n",
    "        MacroCustomerAverageAnnualSales(\n",
    "            avg_annual_sales_new_customers = 5000.0,\n",
    "            avg_annual_sales_continued_loyal_customers = 5000.0,\n",
    "            avg_annual_sales_continued_at_risk_customers = 5000.0,\n",
    "            avg_annual_sales_continued_nominal_customers = 5000.0,\n",
    "            avg_annual_sales_dropped_customers = 1000.0,\n",
    "            year = 2016),\n",
    "        MacroCustomerAverageAnnualSales(\n",
    "            avg_annual_sales_new_customers = 5000.0,\n",
    "            avg_annual_sales_continued_loyal_customers = 5000.0,\n",
    "            avg_annual_sales_continued_at_risk_customers = 5000.0,\n",
    "            avg_annual_sales_continued_nominal_customers = 5000.0,\n",
    "            avg_annual_sales_dropped_customers = 1000.0,\n",
    "            year = 2017),\n",
    "        MacroCustomerAverageAnnualSales(\n",
    "            avg_annual_sales_new_customers = 5000.0,\n",
    "            avg_annual_sales_continued_loyal_customers = 5000.0,\n",
    "            avg_annual_sales_continued_at_risk_customers = 5000.0,\n",
    "            avg_annual_sales_continued_nominal_customers = 5000.0,\n",
    "            avg_annual_sales_dropped_customers = 1000.0,\n",
    "            year = 2018),\n",
    "        MacroCustomerAverageAnnualSales(\n",
    "            avg_annual_sales_new_customers = 5000.0,\n",
    "            avg_annual_sales_continued_loyal_customers = 5000.0,\n",
    "            avg_annual_sales_continued_at_risk_customers = 5000.0,\n",
    "            avg_annual_sales_continued_nominal_customers = 5000.0,\n",
    "            avg_annual_sales_dropped_customers = 1000.0,\n",
    "            year = 2019),\n",
    "        MacroCustomerAverageAnnualSales(\n",
    "            avg_annual_sales_new_customers = 5000.0,\n",
    "            avg_annual_sales_continued_loyal_customers = 5000.0,\n",
    "            avg_annual_sales_continued_at_risk_customers = 5000.0,\n",
    "            avg_annual_sales_continued_nominal_customers = 5000.0,\n",
    "            avg_annual_sales_dropped_customers = 1000.0,\n",
    "            year = 2020)\n",
    "]\n"
   ]
  },
  {
   "source": [
    "# (Old) Simple Generic Simulation"
   ],
   "cell_type": "markdown",
   "metadata": {}
  },
  {
   "cell_type": "code",
   "execution_count": null,
   "metadata": {},
   "outputs": [],
   "source": [
    "# historical_data = atlas.reset_index().set_index(\"Service Start\").sort_index(ascending=True)\n",
    "\n",
    "# historical_data_invoice_amount = historical_data.groupby(\"Service Start\").sum()[\"Invoice Amount\"]\n",
    "# historical_data_invoice_count = historical_data.groupby(\"Service Start\").count()[\"Invoice Amount\"]\n",
    "\n",
    "# # Critical\n",
    "# historical_data_invoice_amount_cumulative = historical_data_invoice_amount.cumsum()\n",
    "# historical_data_invoice_count_cumulative = historical_data_invoice_count.cumsum()\n",
    "\n",
    "# # Extra\n",
    "# historical_data_invoice_mean = historical_data.groupby(\"Service Start\").mean()[\"Invoice Amount\"]\n",
    "# historical_data_nbr_users = historical_data.groupby(\"Service Start\").sum()[\"Number of Users\"]\n",
    "# historical_data_nbr_customers = historical_data.groupby(\"Service Start\").count()[\"Customers\"]\n",
    "\n",
    "# historical_data_nbr_users_cumulative = historical_data_nbr_users.cumsum()\n",
    "# historical_data_nbr_customers_cumulative = historical_data_nbr_customers.cumsum()\n"
   ]
  },
  {
   "cell_type": "code",
   "execution_count": null,
   "metadata": {},
   "outputs": [],
   "source": [
    "# historical_data_invoice_amount_cumulative.tail(20)"
   ]
  },
  {
   "cell_type": "code",
   "execution_count": null,
   "metadata": {},
   "outputs": [],
   "source": [
    "# mc = MCSimulation_Generic(\n",
    "#     value_title=\"Invoice Amount\",\n",
    "#     value_list = historical_data_invoice_amount_cumulative,\n",
    "#     num_simulation=1000,\n",
    "#     num_trailing_points = 10,\n",
    "#     scale_results=True,\n",
    "#     allow_negative_returns = True\n",
    "# )\n",
    "\n",
    "# mc.calc_cumulative_return()\n"
   ]
  },
  {
   "cell_type": "code",
   "execution_count": null,
   "metadata": {},
   "outputs": [],
   "source": [
    "# mc.plot_simulation()"
   ]
  },
  {
   "cell_type": "code",
   "execution_count": null,
   "metadata": {},
   "outputs": [],
   "source": [
    "# # mc.plot_distribution()\n",
    "# mc.simulated_return.iloc[-1, :]\n",
    "# mc.simulated_return.iloc[-1, :].plot(kind='hist', title=\"\")\n",
    "# # mc.simulated_return.iloc[-1, :].plot(kind='hist', bins=10, density=True, title=\"\", height=500, width=800)\n"
   ]
  },
  {
   "cell_type": "code",
   "execution_count": null,
   "metadata": {},
   "outputs": [],
   "source": [
    "# mc.summarize_cumulative_return()"
   ]
  },
  {
   "cell_type": "code",
   "execution_count": null,
   "metadata": {},
   "outputs": [],
   "source": [
    "# historical_data_invoice_amount_cumulative.hvplot.line()"
   ]
  },
  {
   "cell_type": "code",
   "execution_count": null,
   "metadata": {},
   "outputs": [],
   "source": [
    "# historical_data_invoice_count_cumulative.hvplot.line()"
   ]
  },
  {
   "cell_type": "code",
   "execution_count": null,
   "metadata": {},
   "outputs": [],
   "source": [
    "# historical_data_nbr_users_cumulative.hvplot.line()"
   ]
  },
  {
   "cell_type": "code",
   "execution_count": null,
   "metadata": {},
   "outputs": [],
   "source": [
    "# historical_data_nbr_customers_cumulative.hvplot.line()"
   ]
  },
  {
   "cell_type": "code",
   "execution_count": null,
   "metadata": {},
   "outputs": [],
   "source": []
  }
 ],
 "metadata": {
  "kernelspec": {
   "display_name": "pyvizenv",
   "language": "python",
   "name": "pyvizenv"
  },
  "language_info": {
   "codemirror_mode": {
    "name": "ipython",
    "version": 3
   },
   "file_extension": ".py",
   "mimetype": "text/x-python",
   "name": "python",
   "nbconvert_exporter": "python",
   "pygments_lexer": "ipython3",
   "version": "3.8.3-final"
  }
 },
 "nbformat": 4,
 "nbformat_minor": 4
}