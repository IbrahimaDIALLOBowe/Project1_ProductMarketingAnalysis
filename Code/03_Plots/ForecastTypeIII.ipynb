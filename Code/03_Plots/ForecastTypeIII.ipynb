{
 "cells": [
  {
   "source": [
    "# Description\n",
    "\n",
    "Forecasting computed using large-scale, probability-driven MonteCarlo prediction."
   ],
   "cell_type": "markdown",
   "metadata": {}
  },
  {
   "cell_type": "markdown",
   "metadata": {},
   "source": [
    "# Initialize"
   ]
  },
  {
   "cell_type": "code",
   "execution_count": 1,
   "metadata": {},
   "outputs": [],
   "source": [
    "# Options\n",
    "\n",
    "## Debugging level\n",
    "debug_level = 0\n"
   ]
  },
  {
   "cell_type": "code",
   "execution_count": 2,
   "metadata": {},
   "outputs": [],
   "source": [
    "# Initialize framework\n",
    "constants, tools = init_processing(debug_level)\n",
    "%matplotlib inline\n"
   ]
  },
  {
   "cell_type": "code",
   "execution_count": 3,
   "metadata": {},
   "outputs": [],
   "source": [
    "# Import all preprocessed data\n",
    "invoice_data_by_customer            = pd.read_pickle(constants.PREPROCESSED_INVOICE_CUSTOMER_FILE_PATH)\n",
    "invoice_data_by_service_start       = pd.read_pickle(constants.PREPROCESSED_INVOICE_SERVICEDATE_FILE_PATH)\n",
    "invoice_data_by_invoice_date        = pd.read_pickle(constants.PREPROCESSED_INVOICE_INVOICEDATE_FILE_PATH)\n",
    "forecast                            = pd.read_pickle(constants.PREPROCESSED_FORECAST_CLEANED_FILE_PATH)\n",
    "revenue2020A                        = pd.read_pickle(constants.PREPROCESSED_REVENUE2020A_CLEANED_FILE_PATH)\n"
   ]
  },
  {
   "cell_type": "code",
   "execution_count": null,
   "metadata": {},
   "outputs": [],
   "source": [
    "historical_data = atlas.reset_index().set_index(\"Service Start\").sort_index(ascending=True)\n",
    "\n",
    "historical_data_invoice_amount = historical_data.groupby(\"Service Start\").sum()[\"Invoice Amount\"]\n",
    "historical_data_invoice_count = historical_data.groupby(\"Service Start\").count()[\"Invoice Amount\"]\n",
    "\n",
    "# Critical\n",
    "historical_data_invoice_amount_cumulative = historical_data_invoice_amount.cumsum()\n",
    "historical_data_invoice_count_cumulative = historical_data_invoice_count.cumsum()\n",
    "\n",
    "# Extra\n",
    "historical_data_invoice_mean = historical_data.groupby(\"Service Start\").mean()[\"Invoice Amount\"]\n",
    "historical_data_nbr_users = historical_data.groupby(\"Service Start\").sum()[\"Number of Users\"]\n",
    "historical_data_nbr_customers = historical_data.groupby(\"Service Start\").count()[\"Customers\"]\n",
    "\n",
    "historical_data_nbr_users_cumulative = historical_data_nbr_users.cumsum()\n",
    "historical_data_nbr_customers_cumulative = historical_data_nbr_customers.cumsum()\n"
   ]
  },
  {
   "cell_type": "code",
   "execution_count": null,
   "metadata": {},
   "outputs": [],
   "source": [
    "historical_data_invoice_amount_cumulative.tail(20)"
   ]
  },
  {
   "cell_type": "code",
   "execution_count": null,
   "metadata": {},
   "outputs": [],
   "source": [
    "mc = MCSimulation_Generic(\n",
    "    value_title=\"Invoice Amount\",\n",
    "    value_list = historical_data_invoice_amount_cumulative,\n",
    "    num_simulation=1000,\n",
    "    num_trailing_points = 10,\n",
    "    scale_results=True,\n",
    "    allow_negative_returns = True\n",
    ")\n",
    "\n",
    "mc.calc_cumulative_return()\n"
   ]
  },
  {
   "cell_type": "code",
   "execution_count": null,
   "metadata": {},
   "outputs": [],
   "source": [
    "mc.plot_simulation()"
   ]
  },
  {
   "cell_type": "code",
   "execution_count": null,
   "metadata": {},
   "outputs": [],
   "source": [
    "# mc.plot_distribution()\n",
    "mc.simulated_return.iloc[-1, :]\n",
    "mc.simulated_return.iloc[-1, :].plot(kind='hist', title=\"\")\n",
    "# mc.simulated_return.iloc[-1, :].plot(kind='hist', bins=10, density=True, title=\"\", height=500, width=800)\n"
   ]
  },
  {
   "cell_type": "code",
   "execution_count": null,
   "metadata": {},
   "outputs": [],
   "source": [
    "mc.summarize_cumulative_return()"
   ]
  },
  {
   "cell_type": "code",
   "execution_count": null,
   "metadata": {},
   "outputs": [],
   "source": [
    "historical_data_invoice_amount_cumulative.hvplot.line()"
   ]
  },
  {
   "cell_type": "code",
   "execution_count": null,
   "metadata": {},
   "outputs": [],
   "source": [
    "historical_data_invoice_count_cumulative.hvplot.line()"
   ]
  },
  {
   "cell_type": "code",
   "execution_count": null,
   "metadata": {},
   "outputs": [],
   "source": [
    "historical_data_nbr_users_cumulative.hvplot.line()"
   ]
  },
  {
   "cell_type": "code",
   "execution_count": null,
   "metadata": {},
   "outputs": [],
   "source": [
    "historical_data_nbr_customers_cumulative.hvplot.line()"
   ]
  },
  {
   "cell_type": "code",
   "execution_count": null,
   "metadata": {},
   "outputs": [],
   "source": []
  },
  {
   "cell_type": "code",
   "execution_count": null,
   "metadata": {},
   "outputs": [],
   "source": []
  },
  {
   "cell_type": "code",
   "execution_count": null,
   "metadata": {},
   "outputs": [],
   "source": []
  },
  {
   "cell_type": "code",
   "execution_count": null,
   "metadata": {},
   "outputs": [],
   "source": []
  },
  {
   "cell_type": "code",
   "execution_count": null,
   "metadata": {},
   "outputs": [],
   "source": []
  },
  {
   "cell_type": "code",
   "execution_count": null,
   "metadata": {},
   "outputs": [],
   "source": []
  },
  {
   "cell_type": "code",
   "execution_count": null,
   "metadata": {},
   "outputs": [],
   "source": []
  }
 ],
 "metadata": {
  "kernelspec": {
   "display_name": "pyvizenv",
   "language": "python",
   "name": "pyvizenv"
  },
  "language_info": {
   "codemirror_mode": {
    "name": "ipython",
    "version": 3
   },
   "file_extension": ".py",
   "mimetype": "text/x-python",
   "name": "python",
   "nbconvert_exporter": "python",
   "pygments_lexer": "ipython3",
   "version": "3.8.3-final"
  }
 },
 "nbformat": 4,
 "nbformat_minor": 4
}