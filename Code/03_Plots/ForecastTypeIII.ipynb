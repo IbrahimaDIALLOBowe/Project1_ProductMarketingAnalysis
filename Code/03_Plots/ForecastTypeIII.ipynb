{
 "cells": [
  {
   "source": [
    "# Description\n",
    "\n",
    "Forecast using (a) MC best/worst calculation, and (b) MC simulation.\n",
    "\n",
    "\n",
    "\n",
    "\n",
    "Forecasting computed using large-scale, probability-driven MonteCarlo prediction."
   ],
   "cell_type": "markdown",
   "metadata": {}
  },
  {
   "cell_type": "markdown",
   "metadata": {},
   "source": [
    "# Initialize"
   ]
  },
  {
   "cell_type": "code",
   "execution_count": 1,
   "metadata": {},
   "outputs": [],
   "source": [
    "# Options\n",
    "\n",
    "## Debugging level\n",
    "debug_level = 0\n"
   ]
  },
  {
   "cell_type": "code",
   "execution_count": 2,
   "metadata": {},
   "outputs": [],
   "source": [
    "# Initialize framework\n",
    "constants, tools = init_processing(debug_level)\n",
    "pn.extension(\"plotly\")\n",
    "hv.extension('bokeh', 'matplotlib')\n",
    "%matplotlib inline\n"
   ]
  },
  {
   "cell_type": "code",
   "execution_count": 3,
   "metadata": {},
   "outputs": [],
   "source": [
    "# Import all preprocessed data\n",
    "invoice_data_by_customer            = pd.read_pickle(constants.PREPROCESSED_INVOICE_CUSTOMER_FILE_PATH)\n",
    "invoice_data_by_service_start       = pd.read_pickle(constants.PREPROCESSED_INVOICE_SERVICEDATE_FILE_PATH)\n",
    "invoice_data_by_invoice_date        = pd.read_pickle(constants.PREPROCESSED_INVOICE_INVOICEDATE_FILE_PATH)\n",
    "forecast                            = pd.read_pickle(constants.PREPROCESSED_FORECAST_CLEANED_FILE_PATH)\n",
    "revenue2020A                        = pd.read_pickle(constants.PREPROCESSED_REVENUE2020A_CLEANED_FILE_PATH)\n"
   ]
  },
  {
   "source": [
    "# Best/Worst Bounds Simulation"
   ],
   "cell_type": "markdown",
   "metadata": {}
  },
  {
   "cell_type": "code",
   "execution_count": null,
   "metadata": {},
   "outputs": [],
   "source": [
    "# TODO"
   ]
  },
  {
   "source": [
    "# Macro Customer Behavior Counts Simulation"
   ],
   "cell_type": "markdown",
   "metadata": {}
  },
  {
   "cell_type": "code",
   "execution_count": null,
   "metadata": {},
   "outputs": [],
   "source": [
    "# Define macro customer counts and average sales. These are good numbers from spreadsheet analysis.\n",
    "\n",
    "# Customer Classification\t2015\t2016\t2017\t2018\t2019\t2020\t2021 (projected)\t2023 (projected)\t2023 (projected)\n",
    "# New Customers\t8\t27\t31\t38\t69\t218\t\t\t\n",
    "# Loyal Customers\t\t5\t8\t21\t15\t33\t\t\t\n",
    "# Lost Customers\t\t16\t21\t18\t16\t20\t\t\t\n",
    "\n",
    "macro_customer_behavior_counts_list_map = {\n",
    "    \"years\": [ 2015, 2016, 2017, 2018, 2019, 2020 ],\n",
    "    customer_behavior_classifications_str_map[CustomerBehaviorClassifications.New]: [ 8, 27, 31, 38, 69, 218 ],\n",
    "    customer_behavior_classifications_str_map[CustomerBehaviorClassifications.Continued_Loyal]: [ 0, 5, 8, 21, 15, 33 ],\n",
    "    customer_behavior_classifications_str_map[CustomerBehaviorClassifications.Continued_AtRisk]: [ 0, 0, 0, 0, 0, 0 ],\n",
    "    customer_behavior_classifications_str_map[CustomerBehaviorClassifications.Continued_Nominal]: [ 0, 0, 0, 0, 0, 0 ],\n",
    "    customer_behavior_classifications_str_map[CustomerBehaviorClassifications.Dropped]: [ 0, 16, 21, 18, 16, 20 ]\n",
    "}\n",
    "\n",
    "macro_customer_avg_annual_sales_list_map = {\n",
    "    \"years\": [ 2015, 2016, 2017, 2018, 2019, 2020 ],\n",
    "    customer_behavior_classifications_str_map[CustomerBehaviorClassifications.New]: [ 5000.0, 5000.0, 5000.0, 5000.0, 5000.0, 5000.0 ],\n",
    "    customer_behavior_classifications_str_map[CustomerBehaviorClassifications.Continued_Loyal]: [ 5000.0, 5000.0, 5000.0, 5000.0, 5000.0, 5000.0 ],\n",
    "    customer_behavior_classifications_str_map[CustomerBehaviorClassifications.Continued_AtRisk]: [ 5000.0, 5000.0, 5000.0, 5000.0, 5000.0, 5000.0 ],\n",
    "    customer_behavior_classifications_str_map[CustomerBehaviorClassifications.Continued_Nominal]: [ 5000.0, 5000.0, 5000.0, 5000.0, 5000.0, 5000.0 ],\n",
    "    customer_behavior_classifications_str_map[CustomerBehaviorClassifications.Dropped]: [ 1000.0, 1000.0, 1000.0, 1000.0, 1000.0, 1000.0 ]\n",
    "}\n"
   ]
  },
  {
   "cell_type": "code",
   "execution_count": null,
   "metadata": {},
   "outputs": [],
   "source": [
    "# Compute rolling std deviation\n",
    "macro_customer_behavior_counts_std_list_map = compute_rolling_std(macro_customer_behavior_counts_list_map)\n"
   ]
  },
  {
   "cell_type": "code",
   "execution_count": null,
   "metadata": {},
   "outputs": [],
   "source": [
    "# Configure MC simulation\n",
    "simulator = MCSimulation_MacroCustomerSales()\n"
   ]
  },
  {
   "cell_type": "code",
   "execution_count": null,
   "metadata": {},
   "outputs": [],
   "source": [
    "# Run the simulation\n",
    "simulator.run()\n",
    "simulator.display_results_summary()\n"
   ]
  },
  {
   "cell_type": "code",
   "execution_count": null,
   "metadata": {},
   "outputs": [],
   "source": [
    "# Plot the results\n",
    "simulator.plot_results()\n"
   ]
  },
  {
   "cell_type": "code",
   "execution_count": null,
   "metadata": {},
   "outputs": [],
   "source": [
    "# Save tabulated results\n",
    "results = simulator.get_results()\n"
   ]
  },
  {
   "cell_type": "code",
   "execution_count": 3,
   "metadata": {},
   "outputs": [],
   "source": [
    "# TODO These are made-up numbers\n",
    "# macro_customer_behavior_counts_list = [\n",
    "#         MacroCustomerBehaviorCounts(\n",
    "#             nbr_new_customers = 8,\n",
    "#             nbr_continued_loyal_customers = 0,\n",
    "#             nbr_continued_at_risk_customers = 0,\n",
    "#             nbr_continued_nominal_customers = 0,\n",
    "#             nbr_dropped_customers = 0,\n",
    "#             year = 2015),\n",
    "#         MacroCustomerBehaviorCounts(\n",
    "#             nbr_new_customers = 2,\n",
    "#             nbr_continued_loyal_customers = 2,\n",
    "#             nbr_continued_at_risk_customers = 0,\n",
    "#             nbr_continued_nominal_customers = 0,\n",
    "#             nbr_dropped_customers = 1,\n",
    "#             year = 2016),\n",
    "#         MacroCustomerBehaviorCounts(\n",
    "#             nbr_new_customers = 3,\n",
    "#             nbr_continued_loyal_customers = 5,\n",
    "#             nbr_continued_at_risk_customers = 0,\n",
    "#             nbr_continued_nominal_customers = 0,\n",
    "#             nbr_dropped_customers = 2,\n",
    "#             year = 2017),\n",
    "#         MacroCustomerBehaviorCounts(\n",
    "#             nbr_new_customers = 5,\n",
    "#             nbr_continued_loyal_customers = 15,\n",
    "#             nbr_continued_at_risk_customers = 0,\n",
    "#             nbr_continued_nominal_customers = 0,\n",
    "#             nbr_dropped_customers = 3,\n",
    "#             year = 2018),\n",
    "#         MacroCustomerBehaviorCounts(\n",
    "#             nbr_new_customers = 10,\n",
    "#             nbr_continued_loyal_customers = 30,\n",
    "#             nbr_continued_at_risk_customers = 0,\n",
    "#             nbr_continued_nominal_customers = 0,\n",
    "#             nbr_dropped_customers = 4,\n",
    "#             year = 2019),\n",
    "#         MacroCustomerBehaviorCounts(\n",
    "#             nbr_new_customers = 190,\n",
    "#             nbr_continued_loyal_customers = 60,\n",
    "#             nbr_continued_at_risk_customers = 0,\n",
    "#             nbr_continued_nominal_customers = 0,\n",
    "#             nbr_dropped_customers = 10,\n",
    "#             year = 2020)\n",
    "# ]\n",
    "\n",
    "# macro_customer_avg_annual_sales_list = [\n",
    "#         MacroCustomerAverageAnnualSales(\n",
    "#             avg_annual_sales_new_customers = 5000.0,\n",
    "#             avg_annual_sales_continued_loyal_customers = 5000.0,\n",
    "#             avg_annual_sales_continued_at_risk_customers = 5000.0,\n",
    "#             avg_annual_sales_continued_nominal_customers = 5000.0,\n",
    "#             avg_annual_sales_dropped_customers = 1000.0,\n",
    "#             year = 2015),\n",
    "#         MacroCustomerAverageAnnualSales(\n",
    "#             avg_annual_sales_new_customers = 5000.0,\n",
    "#             avg_annual_sales_continued_loyal_customers = 5000.0,\n",
    "#             avg_annual_sales_continued_at_risk_customers = 5000.0,\n",
    "#             avg_annual_sales_continued_nominal_customers = 5000.0,\n",
    "#             avg_annual_sales_dropped_customers = 1000.0,\n",
    "#             year = 2016),\n",
    "#         MacroCustomerAverageAnnualSales(\n",
    "#             avg_annual_sales_new_customers = 5000.0,\n",
    "#             avg_annual_sales_continued_loyal_customers = 5000.0,\n",
    "#             avg_annual_sales_continued_at_risk_customers = 5000.0,\n",
    "#             avg_annual_sales_continued_nominal_customers = 5000.0,\n",
    "#             avg_annual_sales_dropped_customers = 1000.0,\n",
    "#             year = 2017),\n",
    "#         MacroCustomerAverageAnnualSales(\n",
    "#             avg_annual_sales_new_customers = 5000.0,\n",
    "#             avg_annual_sales_continued_loyal_customers = 5000.0,\n",
    "#             avg_annual_sales_continued_at_risk_customers = 5000.0,\n",
    "#             avg_annual_sales_continued_nominal_customers = 5000.0,\n",
    "#             avg_annual_sales_dropped_customers = 1000.0,\n",
    "#             year = 2018),\n",
    "#         MacroCustomerAverageAnnualSales(\n",
    "#             avg_annual_sales_new_customers = 5000.0,\n",
    "#             avg_annual_sales_continued_loyal_customers = 5000.0,\n",
    "#             avg_annual_sales_continued_at_risk_customers = 5000.0,\n",
    "#             avg_annual_sales_continued_nominal_customers = 5000.0,\n",
    "#             avg_annual_sales_dropped_customers = 1000.0,\n",
    "#             year = 2019),\n",
    "#         MacroCustomerAverageAnnualSales(\n",
    "#             avg_annual_sales_new_customers = 5000.0,\n",
    "#             avg_annual_sales_continued_loyal_customers = 5000.0,\n",
    "#             avg_annual_sales_continued_at_risk_customers = 5000.0,\n",
    "#             avg_annual_sales_continued_nominal_customers = 5000.0,\n",
    "#             avg_annual_sales_dropped_customers = 1000.0,\n",
    "#             year = 2020)\n",
    "# ]\n"
   ]
  },
  {
   "source": [
    "# (Old) Simple Generic Simulation"
   ],
   "cell_type": "markdown",
   "metadata": {}
  },
  {
   "cell_type": "code",
   "execution_count": null,
   "metadata": {},
   "outputs": [],
   "source": [
    "# historical_data = atlas.reset_index().set_index(\"Service Start\").sort_index(ascending=True)\n",
    "\n",
    "# historical_data_invoice_amount = historical_data.groupby(\"Service Start\").sum()[\"Invoice Amount\"]\n",
    "# historical_data_invoice_count = historical_data.groupby(\"Service Start\").count()[\"Invoice Amount\"]\n",
    "\n",
    "# # Critical\n",
    "# historical_data_invoice_amount_cumulative = historical_data_invoice_amount.cumsum()\n",
    "# historical_data_invoice_count_cumulative = historical_data_invoice_count.cumsum()\n",
    "\n",
    "# # Extra\n",
    "# historical_data_invoice_mean = historical_data.groupby(\"Service Start\").mean()[\"Invoice Amount\"]\n",
    "# historical_data_nbr_users = historical_data.groupby(\"Service Start\").sum()[\"Number of Users\"]\n",
    "# historical_data_nbr_customers = historical_data.groupby(\"Service Start\").count()[\"Customers\"]\n",
    "\n",
    "# historical_data_nbr_users_cumulative = historical_data_nbr_users.cumsum()\n",
    "# historical_data_nbr_customers_cumulative = historical_data_nbr_customers.cumsum()\n"
   ]
  },
  {
   "cell_type": "code",
   "execution_count": null,
   "metadata": {},
   "outputs": [],
   "source": [
    "# historical_data_invoice_amount_cumulative.tail(20)"
   ]
  },
  {
   "cell_type": "code",
   "execution_count": null,
   "metadata": {},
   "outputs": [],
   "source": [
    "# mc = MCSimulation_Generic(\n",
    "#     value_title=\"Invoice Amount\",\n",
    "#     value_list = historical_data_invoice_amount_cumulative,\n",
    "#     num_simulation=1000,\n",
    "#     num_trailing_points = 10,\n",
    "#     scale_results=True,\n",
    "#     allow_negative_returns = True\n",
    "# )\n",
    "\n",
    "# mc.calc_cumulative_return()\n"
   ]
  },
  {
   "cell_type": "code",
   "execution_count": null,
   "metadata": {},
   "outputs": [],
   "source": [
    "# mc.plot_simulation()"
   ]
  },
  {
   "cell_type": "code",
   "execution_count": null,
   "metadata": {},
   "outputs": [],
   "source": [
    "# # mc.plot_distribution()\n",
    "# mc.simulated_return.iloc[-1, :]\n",
    "# mc.simulated_return.iloc[-1, :].plot(kind='hist', title=\"\")\n",
    "# # mc.simulated_return.iloc[-1, :].plot(kind='hist', bins=10, density=True, title=\"\", height=500, width=800)\n"
   ]
  },
  {
   "cell_type": "code",
   "execution_count": null,
   "metadata": {},
   "outputs": [],
   "source": [
    "# mc.summarize_cumulative_return()"
   ]
  },
  {
   "cell_type": "code",
   "execution_count": null,
   "metadata": {},
   "outputs": [],
   "source": [
    "# historical_data_invoice_amount_cumulative.hvplot.line()"
   ]
  },
  {
   "cell_type": "code",
   "execution_count": null,
   "metadata": {},
   "outputs": [],
   "source": [
    "# historical_data_invoice_count_cumulative.hvplot.line()"
   ]
  },
  {
   "cell_type": "code",
   "execution_count": null,
   "metadata": {},
   "outputs": [],
   "source": [
    "# historical_data_nbr_users_cumulative.hvplot.line()"
   ]
  },
  {
   "cell_type": "code",
   "execution_count": null,
   "metadata": {},
   "outputs": [],
   "source": [
    "# historical_data_nbr_customers_cumulative.hvplot.line()"
   ]
  },
  {
   "cell_type": "code",
   "execution_count": null,
   "metadata": {},
   "outputs": [],
   "source": []
  },
  {
   "cell_type": "code",
   "execution_count": null,
   "metadata": {},
   "outputs": [],
   "source": [
    "# tmp\n",
    "\n",
    "\n",
    "class CustomerBehaviorClassifications(enum.Enum):\n",
    "    New = 0                     # (Active or Current) and NewThisYear\n",
    "    Continued_Loyal = 1         # ((Active or Current) and (not NewThisYear)) and HighCoverage and HasMultiplePurchases\n",
    "    Continued_AtRisk = 2        # ((Active or Current) and (not NewThisYear)) and (LowCoverage or HasDowngrades)\n",
    "    Continued_Nominal = 3       # ((Active or Current) and (not NewThisYear))\n",
    "    Dropped = 4                 # not (Active or Current)\n",
    "\n"
   ]
  }
 ],
 "metadata": {
  "kernelspec": {
   "display_name": "pyvizenv",
   "language": "python",
   "name": "pyvizenv"
  },
  "language_info": {
   "codemirror_mode": {
    "name": "ipython",
    "version": 3
   },
   "file_extension": ".py",
   "mimetype": "text/x-python",
   "name": "python",
   "nbconvert_exporter": "python",
   "pygments_lexer": "ipython3",
   "version": "3.8.3-final"
  }
 },
 "nbformat": 4,
 "nbformat_minor": 4
}