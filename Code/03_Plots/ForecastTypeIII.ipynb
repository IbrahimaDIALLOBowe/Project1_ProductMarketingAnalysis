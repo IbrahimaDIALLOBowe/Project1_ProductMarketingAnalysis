{
 "cells": [
  {
   "source": [
    "# Description\n",
    "\n",
    "Forecast using (a) MC best/worst calculation, and (b) MC simulation.\n",
    "\n",
    "\n",
    "\n",
    "\n",
    "Forecasting computed using large-scale, probability-driven MonteCarlo prediction."
   ],
   "cell_type": "markdown",
   "metadata": {}
  },
  {
   "cell_type": "markdown",
   "metadata": {},
   "source": [
    "# Initialize"
   ]
  },
  {
   "cell_type": "code",
   "execution_count": 1,
   "metadata": {},
   "outputs": [],
   "source": [
    "# Options\n",
    "\n",
    "## Debugging level\n",
    "debug_level = 0\n"
   ]
  },
  {
   "cell_type": "code",
   "execution_count": 2,
   "metadata": {},
   "outputs": [
    {
     "output_type": "error",
     "ename": "NameError",
     "evalue": "name 'init_processing' is not defined",
     "traceback": [
      "\u001b[1;31m---------------------------------------------------------------------------\u001b[0m",
      "\u001b[1;31mNameError\u001b[0m                                 Traceback (most recent call last)",
      "\u001b[1;32m<ipython-input-2-8b082e7ae932>\u001b[0m in \u001b[0;36m<module>\u001b[1;34m\u001b[0m\n\u001b[0;32m      1\u001b[0m \u001b[1;31m# Initialize framework\u001b[0m\u001b[1;33m\u001b[0m\u001b[1;33m\u001b[0m\u001b[1;33m\u001b[0m\u001b[0m\n\u001b[1;32m----> 2\u001b[1;33m \u001b[0mconstants\u001b[0m\u001b[1;33m,\u001b[0m \u001b[0mtools\u001b[0m \u001b[1;33m=\u001b[0m \u001b[0minit_processing\u001b[0m\u001b[1;33m(\u001b[0m\u001b[0mdebug_level\u001b[0m\u001b[1;33m)\u001b[0m\u001b[1;33m\u001b[0m\u001b[1;33m\u001b[0m\u001b[0m\n\u001b[0m\u001b[0;32m      3\u001b[0m \u001b[0mpn\u001b[0m\u001b[1;33m.\u001b[0m\u001b[0mextension\u001b[0m\u001b[1;33m(\u001b[0m\u001b[1;34m\"plotly\"\u001b[0m\u001b[1;33m)\u001b[0m\u001b[1;33m\u001b[0m\u001b[1;33m\u001b[0m\u001b[0m\n\u001b[0;32m      4\u001b[0m \u001b[0mhv\u001b[0m\u001b[1;33m.\u001b[0m\u001b[0mextension\u001b[0m\u001b[1;33m(\u001b[0m\u001b[1;34m'bokeh'\u001b[0m\u001b[1;33m,\u001b[0m \u001b[1;34m'matplotlib'\u001b[0m\u001b[1;33m)\u001b[0m\u001b[1;33m\u001b[0m\u001b[1;33m\u001b[0m\u001b[0m\n\u001b[0;32m      5\u001b[0m \u001b[0mget_ipython\u001b[0m\u001b[1;33m(\u001b[0m\u001b[1;33m)\u001b[0m\u001b[1;33m.\u001b[0m\u001b[0mrun_line_magic\u001b[0m\u001b[1;33m(\u001b[0m\u001b[1;34m'matplotlib'\u001b[0m\u001b[1;33m,\u001b[0m \u001b[1;34m'inline'\u001b[0m\u001b[1;33m)\u001b[0m\u001b[1;33m\u001b[0m\u001b[1;33m\u001b[0m\u001b[0m\n",
      "\u001b[1;31mNameError\u001b[0m: name 'init_processing' is not defined"
     ]
    }
   ],
   "source": [
    "# Initialize framework\n",
    "constants, tools = init_processing(debug_level)\n",
    "pn.extension(\"plotly\")\n",
    "hv.extension('bokeh', 'matplotlib')\n",
    "%matplotlib inline\n"
   ]
  },
  {
   "cell_type": "code",
   "execution_count": 3,
   "metadata": {},
   "outputs": [
    {
     "output_type": "execute_result",
     "data": {
      "text/plain": [
       "(693, 27)"
      ]
     },
     "metadata": {},
     "execution_count": 3
    }
   ],
   "source": [
    "# Import all preprocessed data\n",
    "invoice_data_by_customer            = pd.read_pickle(constants.PREPROCESSED_INVOICE_CUSTOMER_FILE_PATH)\n",
    "invoice_data_by_service_start       = pd.read_pickle(constants.PREPROCESSED_INVOICE_SERVICEDATE_FILE_PATH)\n",
    "invoice_data_by_invoice_date        = pd.read_pickle(constants.PREPROCESSED_INVOICE_INVOICEDATE_FILE_PATH)\n",
    "forecast                            = pd.read_pickle(constants.PREPROCESSED_FORECAST_CLEANED_FILE_PATH)\n",
    "revenue2020A                        = pd.read_pickle(constants.PREPROCESSED_REVENUE2020A_CLEANED_FILE_PATH)\n",
    "\n",
    "invoice_data_by_customer.shape\n"
   ]
  },
  {
   "cell_type": "code",
   "execution_count": 6,
   "metadata": {},
   "outputs": [
    {
     "output_type": "stream",
     "name": "stdout",
     "text": [
      "['c:\\\\Code\\\\Education\\\\GWFinTech2020\\\\Projects\\\\Project8-david-2\\\\Code\\\\03_Plots', 'c:\\\\Users\\\\david\\\\.vscode\\\\extensions\\\\ms-toolsai.jupyter-2020.11.399280825\\\\pythonFiles\\\\vscode_datascience_helpers\\\\..\\\\.does-not-exist', 'c:\\\\Users\\\\david\\\\.vscode\\\\extensions\\\\ms-toolsai.jupyter-2020.11.399280825\\\\pythonFiles', 'c:\\\\Users\\\\david\\\\.vscode\\\\extensions\\\\ms-toolsai.jupyter-2020.11.399280825\\\\pythonFiles\\\\lib\\\\python', 'C:\\\\ProgramData\\\\Anaconda3\\\\python38.zip', 'C:\\\\ProgramData\\\\Anaconda3\\\\DLLs', 'C:\\\\ProgramData\\\\Anaconda3\\\\lib', 'C:\\\\ProgramData\\\\Anaconda3', '', 'C:\\\\ProgramData\\\\Anaconda3\\\\lib\\\\site-packages', 'C:\\\\ProgramData\\\\Anaconda3\\\\lib\\\\site-packages\\\\win32', 'C:\\\\ProgramData\\\\Anaconda3\\\\lib\\\\site-packages\\\\win32\\\\lib', 'C:\\\\ProgramData\\\\Anaconda3\\\\lib\\\\site-packages\\\\Pythonwin', 'C:\\\\ProgramData\\\\Anaconda3\\\\lib\\\\site-packages\\\\IPython\\\\extensions', 'C:\\\\Users\\\\david\\\\.ipython', '../lib2', '../lib2', '../lib2', 'c:\\\\Code\\\\Education\\\\GWFinTech2020\\\\Projects\\\\Project8-david-2\\\\Code\\\\03_Plots../lib2']\n"
     ]
    },
    {
     "output_type": "error",
     "ename": "ModuleNotFoundError",
     "evalue": "No module named 'UpgradeSequenceDataStructures'",
     "traceback": [
      "\u001b[1;31m---------------------------------------------------------------------------\u001b[0m",
      "\u001b[1;31mModuleNotFoundError\u001b[0m                       Traceback (most recent call last)",
      "\u001b[1;32m<ipython-input-6-3a8ae41aa5c5>\u001b[0m in \u001b[0;36m<module>\u001b[1;34m\u001b[0m\n\u001b[0;32m      7\u001b[0m \u001b[1;33m\u001b[0m\u001b[0m\n\u001b[0;32m      8\u001b[0m \u001b[1;31m# Specialized imports\u001b[0m\u001b[1;33m\u001b[0m\u001b[1;33m\u001b[0m\u001b[1;33m\u001b[0m\u001b[0m\n\u001b[1;32m----> 9\u001b[1;33m \u001b[1;32mfrom\u001b[0m \u001b[0mUpgradeSequenceDataStructures\u001b[0m \u001b[1;32mimport\u001b[0m \u001b[0mUpgradeType\u001b[0m\u001b[1;33m\u001b[0m\u001b[1;33m\u001b[0m\u001b[0m\n\u001b[0m\u001b[0;32m     10\u001b[0m \u001b[1;32mfrom\u001b[0m \u001b[0mUpgradeSequenceDataStructures\u001b[0m \u001b[1;32mimport\u001b[0m \u001b[0mCustomerBehaviorObservations\u001b[0m\u001b[1;33m\u001b[0m\u001b[1;33m\u001b[0m\u001b[0m\n\u001b[0;32m     11\u001b[0m \u001b[1;32mfrom\u001b[0m \u001b[0mUpgradeSequenceDataStructures\u001b[0m \u001b[1;32mimport\u001b[0m \u001b[0mCustomerBehaviorClassifications\u001b[0m\u001b[1;33m\u001b[0m\u001b[1;33m\u001b[0m\u001b[0m\n",
      "\u001b[1;31mModuleNotFoundError\u001b[0m: No module named 'UpgradeSequenceDataStructures'"
     ]
    }
   ],
   "source": [
    "# pwd = os.getcwd()\n",
    "# sys.path.append(pwd + \"../lib2\")\n",
    "# # sys.path.append(\"../lib2\")\n",
    "\n",
    "# print(sys.path)\n",
    "\n",
    "\n",
    "# # Specialized imports\n",
    "# from UpgradeSequenceDataStructures import UpgradeType\n",
    "# from UpgradeSequenceDataStructures import CustomerBehaviorObservations\n",
    "# from UpgradeSequenceDataStructures import CustomerBehaviorClassifications\n",
    "\n",
    "# from MCForecastTools_MacroCustomerSales_DataStructures import MacroCustomerBehaviorCounts\n",
    "# from MCForecastTools_MacroCustomerSales_DataStructures import MacroCustomerAverageAnnualSales\n",
    "\n",
    "# from MCForecastTools_MacroCustomerSales import MacroCustomerSales_HistoricalAnalysis\n",
    "# from MCForecastTools_MacroCustomerSales import MacroCustomerSales_ForwardPredictor\n",
    "# from MCForecastTools_MacroCustomerSales import MacroCustomerSales_InstantaneousVariation\n",
    "# from MCForecastTools_MacroCustomerSales import MacroCustomerSales_MCSimulation\n",
    "\n",
    "# tool_historical = MacroCustomerSales_HistoricalAnalysis()\n",
    "# tool_fwd = MacroCustomerSales_ForwardPredictor()\n",
    "# tool_inst = MacroCustomerSales_InstantaneousVariation()\n"
   ]
  },
  {
   "source": [
    "# Best/Worst Bounds Simulation"
   ],
   "cell_type": "markdown",
   "metadata": {}
  },
  {
   "cell_type": "code",
   "execution_count": null,
   "metadata": {},
   "outputs": [],
   "source": [
    "# TODO"
   ]
  },
  {
   "source": [
    "# Macro Customer Behavior Counts Simulation"
   ],
   "cell_type": "markdown",
   "metadata": {}
  },
  {
   "cell_type": "code",
   "execution_count": null,
   "metadata": {},
   "outputs": [],
   "source": [
    "year_list = [ 2015, 2016, 2017, 2018, 2019, 2020 ]\n"
   ]
  },
  {
   "cell_type": "code",
   "execution_count": null,
   "metadata": {},
   "outputs": [],
   "source": [
    "# Define macro customer counts and average sales. These are good numbers from spreadsheet analysis.\n",
    "\n",
    "# Customer Classification\t2015\t2016\t2017\t2018\t2019\t2020\t2021 (projected)\t2023 (projected)\t2023 (projected)\n",
    "# New Customers\t8\t27\t31\t38\t69\t218\t\t\t\n",
    "# Loyal Customers\t\t5\t8\t21\t15\t33\t\t\t\n",
    "# Lost Customers\t\t16\t21\t18\t16\t20\t\t\t\n",
    "\n",
    "\n",
    "# df = pd.DataFrame({'A': [0, 100, 110, 115, 120], 'B': [0, 100, 110, 115, 120]})\n",
    "# df2 = df.rolling(window=3).std()\n",
    "\n",
    "macro_customer_behavior_counts_sequence = pd.DataFrame({\n",
    "    CustomerBehaviorClassifications.New: [ 8, 27, 31, 38, 69, 218 ],\n",
    "    CustomerBehaviorClassifications.Continued_Loyal: [ 0, 5, 8, 21, 15, 33 ],\n",
    "    CustomerBehaviorClassifications.Continued_AtRisk: [ 0, 0, 0, 0, 0, 0 ],\n",
    "    CustomerBehaviorClassifications.Continued_Nominal: [ 0, 0, 0, 0, 0, 0 ],\n",
    "    CustomerBehaviorClassifications.Dropped: [ 0, 16, 21, 18, 16, 20 ]\n",
    "})\n"
   ]
  },
  {
   "cell_type": "code",
   "execution_count": null,
   "metadata": {},
   "outputs": [],
   "source": [
    "macro_customer_avg_annual_sales_list_map = pd.DataFrame({\n",
    "    CustomerBehaviorClassifications.New: [ 5000.0, 5000.0, 5000.0, 5000.0, 5000.0, 5000.0 ],\n",
    "    CustomerBehaviorClassifications.Continued_Loyal: [ 5000.0, 5000.0, 5000.0, 5000.0, 5000.0, 5000.0 ],\n",
    "    CustomerBehaviorClassifications.Continued_AtRisk: [ 5000.0, 5000.0, 5000.0, 5000.0, 5000.0, 5000.0 ],\n",
    "    CustomerBehaviorClassifications.Continued_Nominal: [ 5000.0, 5000.0, 5000.0, 5000.0, 5000.0, 5000.0 ],\n",
    "    CustomerBehaviorClassifications.Dropped: [ 1000.0, 1000.0, 1000.0, 1000.0, 1000.0, 1000.0 ]\n",
    "})\n"
   ]
  },
  {
   "cell_type": "code",
   "execution_count": null,
   "metadata": {},
   "outputs": [],
   "source": [
    "# Compute rolling std deviation\n",
    "macro_customer_behavior_counts_std_list_map = tools.tool_historical.compute_rolling_std(macro_customer_behavior_counts_list_map, 3)\n"
   ]
  },
  {
   "cell_type": "code",
   "execution_count": null,
   "metadata": {},
   "outputs": [],
   "source": []
  },
  {
   "cell_type": "code",
   "execution_count": null,
   "metadata": {},
   "outputs": [],
   "source": [
    "# Configure MC simulation\n",
    "simulator = MCSimulation_MacroCustomerSales()\n"
   ]
  },
  {
   "cell_type": "code",
   "execution_count": null,
   "metadata": {},
   "outputs": [],
   "source": [
    "# Run the simulation\n",
    "simulator.run()\n",
    "simulator.display_results_summary()\n"
   ]
  },
  {
   "cell_type": "code",
   "execution_count": null,
   "metadata": {},
   "outputs": [],
   "source": [
    "# Plot the results\n",
    "simulator.plot_results()\n"
   ]
  },
  {
   "cell_type": "code",
   "execution_count": null,
   "metadata": {},
   "outputs": [],
   "source": [
    "# Save tabulated results\n",
    "results = simulator.get_results()\n"
   ]
  },
  {
   "cell_type": "code",
   "execution_count": null,
   "metadata": {},
   "outputs": [],
   "source": [
    "# TODO These are made-up numbers\n",
    "# macro_customer_behavior_counts_list = [\n",
    "#         MacroCustomerBehaviorCounts(\n",
    "#             nbr_new_customers = 8,\n",
    "#             nbr_continued_loyal_customers = 0,\n",
    "#             nbr_continued_at_risk_customers = 0,\n",
    "#             nbr_continued_nominal_customers = 0,\n",
    "#             nbr_dropped_customers = 0,\n",
    "#             year = 2015),\n",
    "#         MacroCustomerBehaviorCounts(\n",
    "#             nbr_new_customers = 2,\n",
    "#             nbr_continued_loyal_customers = 2,\n",
    "#             nbr_continued_at_risk_customers = 0,\n",
    "#             nbr_continued_nominal_customers = 0,\n",
    "#             nbr_dropped_customers = 1,\n",
    "#             year = 2016),\n",
    "#         MacroCustomerBehaviorCounts(\n",
    "#             nbr_new_customers = 3,\n",
    "#             nbr_continued_loyal_customers = 5,\n",
    "#             nbr_continued_at_risk_customers = 0,\n",
    "#             nbr_continued_nominal_customers = 0,\n",
    "#             nbr_dropped_customers = 2,\n",
    "#             year = 2017),\n",
    "#         MacroCustomerBehaviorCounts(\n",
    "#             nbr_new_customers = 5,\n",
    "#             nbr_continued_loyal_customers = 15,\n",
    "#             nbr_continued_at_risk_customers = 0,\n",
    "#             nbr_continued_nominal_customers = 0,\n",
    "#             nbr_dropped_customers = 3,\n",
    "#             year = 2018),\n",
    "#         MacroCustomerBehaviorCounts(\n",
    "#             nbr_new_customers = 10,\n",
    "#             nbr_continued_loyal_customers = 30,\n",
    "#             nbr_continued_at_risk_customers = 0,\n",
    "#             nbr_continued_nominal_customers = 0,\n",
    "#             nbr_dropped_customers = 4,\n",
    "#             year = 2019),\n",
    "#         MacroCustomerBehaviorCounts(\n",
    "#             nbr_new_customers = 190,\n",
    "#             nbr_continued_loyal_customers = 60,\n",
    "#             nbr_continued_at_risk_customers = 0,\n",
    "#             nbr_continued_nominal_customers = 0,\n",
    "#             nbr_dropped_customers = 10,\n",
    "#             year = 2020)\n",
    "# ]\n",
    "\n",
    "# macro_customer_avg_annual_sales_list = [\n",
    "#         MacroCustomerAverageAnnualSales(\n",
    "#             avg_annual_sales_new_customers = 5000.0,\n",
    "#             avg_annual_sales_continued_loyal_customers = 5000.0,\n",
    "#             avg_annual_sales_continued_at_risk_customers = 5000.0,\n",
    "#             avg_annual_sales_continued_nominal_customers = 5000.0,\n",
    "#             avg_annual_sales_dropped_customers = 1000.0,\n",
    "#             year = 2015),\n",
    "#         MacroCustomerAverageAnnualSales(\n",
    "#             avg_annual_sales_new_customers = 5000.0,\n",
    "#             avg_annual_sales_continued_loyal_customers = 5000.0,\n",
    "#             avg_annual_sales_continued_at_risk_customers = 5000.0,\n",
    "#             avg_annual_sales_continued_nominal_customers = 5000.0,\n",
    "#             avg_annual_sales_dropped_customers = 1000.0,\n",
    "#             year = 2016),\n",
    "#         MacroCustomerAverageAnnualSales(\n",
    "#             avg_annual_sales_new_customers = 5000.0,\n",
    "#             avg_annual_sales_continued_loyal_customers = 5000.0,\n",
    "#             avg_annual_sales_continued_at_risk_customers = 5000.0,\n",
    "#             avg_annual_sales_continued_nominal_customers = 5000.0,\n",
    "#             avg_annual_sales_dropped_customers = 1000.0,\n",
    "#             year = 2017),\n",
    "#         MacroCustomerAverageAnnualSales(\n",
    "#             avg_annual_sales_new_customers = 5000.0,\n",
    "#             avg_annual_sales_continued_loyal_customers = 5000.0,\n",
    "#             avg_annual_sales_continued_at_risk_customers = 5000.0,\n",
    "#             avg_annual_sales_continued_nominal_customers = 5000.0,\n",
    "#             avg_annual_sales_dropped_customers = 1000.0,\n",
    "#             year = 2018),\n",
    "#         MacroCustomerAverageAnnualSales(\n",
    "#             avg_annual_sales_new_customers = 5000.0,\n",
    "#             avg_annual_sales_continued_loyal_customers = 5000.0,\n",
    "#             avg_annual_sales_continued_at_risk_customers = 5000.0,\n",
    "#             avg_annual_sales_continued_nominal_customers = 5000.0,\n",
    "#             avg_annual_sales_dropped_customers = 1000.0,\n",
    "#             year = 2019),\n",
    "#         MacroCustomerAverageAnnualSales(\n",
    "#             avg_annual_sales_new_customers = 5000.0,\n",
    "#             avg_annual_sales_continued_loyal_customers = 5000.0,\n",
    "#             avg_annual_sales_continued_at_risk_customers = 5000.0,\n",
    "#             avg_annual_sales_continued_nominal_customers = 5000.0,\n",
    "#             avg_annual_sales_dropped_customers = 1000.0,\n",
    "#             year = 2020)\n",
    "# ]\n"
   ]
  },
  {
   "source": [
    "# (Old) Simple Generic Simulation"
   ],
   "cell_type": "markdown",
   "metadata": {}
  },
  {
   "cell_type": "code",
   "execution_count": null,
   "metadata": {},
   "outputs": [],
   "source": [
    "# historical_data = atlas.reset_index().set_index(\"Service Start\").sort_index(ascending=True)\n",
    "\n",
    "# historical_data_invoice_amount = historical_data.groupby(\"Service Start\").sum()[\"Invoice Amount\"]\n",
    "# historical_data_invoice_count = historical_data.groupby(\"Service Start\").count()[\"Invoice Amount\"]\n",
    "\n",
    "# # Critical\n",
    "# historical_data_invoice_amount_cumulative = historical_data_invoice_amount.cumsum()\n",
    "# historical_data_invoice_count_cumulative = historical_data_invoice_count.cumsum()\n",
    "\n",
    "# # Extra\n",
    "# historical_data_invoice_mean = historical_data.groupby(\"Service Start\").mean()[\"Invoice Amount\"]\n",
    "# historical_data_nbr_users = historical_data.groupby(\"Service Start\").sum()[\"Number of Users\"]\n",
    "# historical_data_nbr_customers = historical_data.groupby(\"Service Start\").count()[\"Customers\"]\n",
    "\n",
    "# historical_data_nbr_users_cumulative = historical_data_nbr_users.cumsum()\n",
    "# historical_data_nbr_customers_cumulative = historical_data_nbr_customers.cumsum()\n"
   ]
  },
  {
   "cell_type": "code",
   "execution_count": null,
   "metadata": {},
   "outputs": [],
   "source": [
    "# historical_data_invoice_amount_cumulative.tail(20)"
   ]
  },
  {
   "cell_type": "code",
   "execution_count": null,
   "metadata": {},
   "outputs": [],
   "source": [
    "# mc = MCSimulation_Generic(\n",
    "#     value_title=\"Invoice Amount\",\n",
    "#     value_list = historical_data_invoice_amount_cumulative,\n",
    "#     num_simulation=1000,\n",
    "#     num_trailing_points = 10,\n",
    "#     scale_results=True,\n",
    "#     allow_negative_returns = True\n",
    "# )\n",
    "\n",
    "# mc.calc_cumulative_return()\n"
   ]
  },
  {
   "cell_type": "code",
   "execution_count": null,
   "metadata": {},
   "outputs": [],
   "source": [
    "# mc.plot_simulation()"
   ]
  },
  {
   "cell_type": "code",
   "execution_count": null,
   "metadata": {},
   "outputs": [],
   "source": [
    "# # mc.plot_distribution()\n",
    "# mc.simulated_return.iloc[-1, :]\n",
    "# mc.simulated_return.iloc[-1, :].plot(kind='hist', title=\"\")\n",
    "# # mc.simulated_return.iloc[-1, :].plot(kind='hist', bins=10, density=True, title=\"\", height=500, width=800)\n"
   ]
  },
  {
   "cell_type": "code",
   "execution_count": null,
   "metadata": {},
   "outputs": [],
   "source": [
    "# mc.summarize_cumulative_return()"
   ]
  },
  {
   "cell_type": "code",
   "execution_count": null,
   "metadata": {},
   "outputs": [],
   "source": [
    "# historical_data_invoice_amount_cumulative.hvplot.line()"
   ]
  },
  {
   "cell_type": "code",
   "execution_count": null,
   "metadata": {},
   "outputs": [],
   "source": [
    "# historical_data_invoice_count_cumulative.hvplot.line()"
   ]
  },
  {
   "cell_type": "code",
   "execution_count": null,
   "metadata": {},
   "outputs": [],
   "source": [
    "# historical_data_nbr_users_cumulative.hvplot.line()"
   ]
  },
  {
   "cell_type": "code",
   "execution_count": null,
   "metadata": {},
   "outputs": [],
   "source": [
    "# historical_data_nbr_customers_cumulative.hvplot.line()"
   ]
  },
  {
   "cell_type": "code",
   "execution_count": null,
   "metadata": {},
   "outputs": [],
   "source": []
  },
  {
   "cell_type": "code",
   "execution_count": null,
   "metadata": {},
   "outputs": [],
   "source": [
    "# test\n",
    "# df = pd.DataFrame({'A': [0, 100, 110, 115, 120], 'B': [0, 100, 110, 115, 120]}).T\n",
    "# df.rolling(window=3, axis=1).std()\n",
    "\n",
    "df = pd.DataFrame({'A': [0, 100, 110, 115, 120], 'B': [0, 100, 110, 115, 120]})\n",
    "df2 = df.rolling(window=3).std()\n",
    "df2\n",
    "# df2.T.to_dict()\n"
   ]
  },
  {
   "cell_type": "code",
   "execution_count": null,
   "metadata": {},
   "outputs": [],
   "source": []
  }
 ],
 "metadata": {
  "kernelspec": {
   "display_name": "pyvizenv",
   "language": "python",
   "name": "pyvizenv"
  },
  "language_info": {
   "codemirror_mode": {
    "name": "ipython",
    "version": 3
   },
   "file_extension": ".py",
   "mimetype": "text/x-python",
   "name": "python",
   "nbconvert_exporter": "python",
   "pygments_lexer": "ipython3",
   "version": "3.8.3-final"
  }
 },
 "nbformat": 4,
 "nbformat_minor": 4
}