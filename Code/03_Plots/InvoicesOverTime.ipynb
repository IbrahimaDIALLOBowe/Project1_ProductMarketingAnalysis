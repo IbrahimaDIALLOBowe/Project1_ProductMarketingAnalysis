{
 "cells": [
  {
   "cell_type": "markdown",
   "metadata": {},
   "source": [
    "# Initialize"
   ]
  },
  {
   "cell_type": "code",
   "execution_count": 1,
   "metadata": {},
   "outputs": [],
   "source": [
    "# Options\n",
    "\n",
    "## Debugging level\n",
    "debug_level = 0\n"
   ]
  },
  {
   "cell_type": "code",
   "execution_count": 2,
   "metadata": {},
   "outputs": [],
   "source": [
    "# Initialize framework\n",
    "constants, tools = init_processing(debug_level)\n",
    "pn.extension()\n",
    "%matplotlib inline\n"
   ]
  },
  {
   "cell_type": "code",
   "execution_count": null,
   "metadata": {},
   "outputs": [],
   "source": [
    "# Import all preprocessed data\n",
    "invoice_data_by_customer            = pd.read_pickle(constants.PREPROCESSED_INVOICE_CUSTOMER_FILE_PATH)\n",
    "invoice_data_by_service_start       = pd.read_pickle(constants.PREPROCESSED_INVOICE_SERVICEDATE_FILE_PATH)\n",
    "invoice_data_by_invoice_date        = pd.read_pickle(constants.PREPROCESSED_INVOICE_INVOICEDATE_FILE_PATH)\n",
    "forecast                            = pd.read_pickle(constants.PREPROCESSED_FORECAST_CLEANED_FILE_PATH)\n",
    "revenue2020A                        = pd.read_pickle(constants.PREPROCESSED_REVENUE2020A_CLEANED_FILE_PATH)\n"
   ]
  },
  {
   "cell_type": "code",
   "execution_count": null,
   "metadata": {},
   "outputs": [],
   "source": [
    "invoice_data_by_customer.dtypes"
   ]
  },
  {
   "cell_type": "code",
   "execution_count": null,
   "metadata": {},
   "outputs": [],
   "source": [
    "invoice_data_by_customer[invoice_data_by_customer[\"ServiceStart_Year\"] == 2015]\n"
   ]
  },
  {
   "cell_type": "code",
   "execution_count": null,
   "metadata": {},
   "outputs": [],
   "source": [
    "invoice_data_by_invoice_date[\"InvoiceAmount\"].cumsum().hvplot.line(y=\"InvoiceAmount\", figsize=(15, 5), title=\"Cumulative Invoices over Time\").opts(yformatter=\"%0d\")\n"
   ]
  },
  {
   "cell_type": "code",
   "execution_count": null,
   "metadata": {},
   "outputs": [],
   "source": [
    "# Invoice amounts per year\n",
    "invoices_per_year = invoice_data_by_customer.groupby(\"InvoiceDate_Year\").sum().reset_index().plot.bar(\n",
    "    x=\"InvoiceDate_Year\", y=\"InvoiceAmount\",\n",
    "    title=\"Total Invoices per Year\", xlabel=\"Year\", ylabel=\"Invoice Amount ($)\",\n",
    "    figsize=(15, 5), rot=0, legend=None\n",
    "    ).yaxis.set_major_formatter(FormatStrFormatter(\"%d\"))\n",
    "\n",
    "# Invoice amounts per month\n",
    "invoices_per_month = invoice_data_by_customer.groupby(\"InvoiceDate_MonthName\").sum().reindex(constants.month_names).plot.bar(\n",
    "    y=\"InvoiceAmount\",\n",
    "    title=\"Total Invoices per Month (2015 - 2020)\", xlabel=\"Month\", ylabel=\"Invoice Amount ($)\",\n",
    "    figsize=(15, 5), rot=0, legend=None\n",
    "    ).yaxis.set_major_formatter(FormatStrFormatter(\"%d\"))\n",
    "\n",
    "invoices_per_month_2015 = invoice_data_by_customer[invoice_data_by_customer[\"InvoiceDate_Year\"] == 2015].groupby(\"InvoiceDate_MonthName\").sum().reindex(constants.month_names).plot.bar(\n",
    "    y=\"InvoiceAmount\",\n",
    "    title=\"Total Invoices per Month (2015)\", xlabel=\"Month\", ylabel=\"Invoice Amount ($)\",\n",
    "    figsize=(15, 5), rot=0, legend=None\n",
    "    ).yaxis.set_major_formatter(FormatStrFormatter(\"%d\"))\n",
    "invoices_per_month_2016 = invoice_data_by_customer[invoice_data_by_customer[\"InvoiceDate_Year\"] == 2016].groupby(\"InvoiceDate_MonthName\").sum().reindex(constants.month_names).plot.bar(\n",
    "    y=\"InvoiceAmount\",\n",
    "    title=\"Total Invoices per Month (2016)\", xlabel=\"Month\", ylabel=\"Invoice Amount ($)\",\n",
    "    figsize=(15, 5), rot=0, legend=None\n",
    "    ).yaxis.set_major_formatter(FormatStrFormatter(\"%d\"))\n",
    "invoices_per_month_2017 = invoice_data_by_customer[invoice_data_by_customer[\"InvoiceDate_Year\"] == 2017].groupby(\"InvoiceDate_MonthName\").sum().reindex(constants.month_names).plot.bar(\n",
    "    y=\"InvoiceAmount\",\n",
    "    title=\"Total Invoices per Month (2017)\", xlabel=\"Month\", ylabel=\"Invoice Amount ($)\",\n",
    "    figsize=(15, 5), rot=0, legend=None\n",
    "    ).yaxis.set_major_formatter(FormatStrFormatter(\"%d\"))\n",
    "invoices_per_month_2018 = invoice_data_by_customer[invoice_data_by_customer[\"InvoiceDate_Year\"] == 2018].groupby(\"InvoiceDate_MonthName\").sum().reindex(constants.month_names).plot.bar(\n",
    "    y=\"InvoiceAmount\",\n",
    "    title=\"Total Invoices per Month (2018)\", xlabel=\"Month\", ylabel=\"Invoice Amount ($)\",\n",
    "    figsize=(15, 5), rot=0, legend=None\n",
    "    ).yaxis.set_major_formatter(FormatStrFormatter(\"%d\"))\n",
    "invoices_per_month_2019 = invoice_data_by_customer[invoice_data_by_customer[\"InvoiceDate_Year\"] == 2019].groupby(\"InvoiceDate_MonthName\").sum().reindex(constants.month_names).plot.bar(\n",
    "    y=\"InvoiceAmount\",\n",
    "    title=\"Total Invoices per Month (2019)\", xlabel=\"Month\", ylabel=\"Invoice Amount ($)\",\n",
    "    figsize=(15, 5), rot=0, legend=None\n",
    "    ).yaxis.set_major_formatter(FormatStrFormatter(\"%d\"))\n",
    "invoices_per_month_2020 = invoice_data_by_customer[invoice_data_by_customer[\"InvoiceDate_Year\"] == 2020].groupby(\"InvoiceDate_MonthName\").sum().reindex(constants.month_names).plot.bar(\n",
    "    y=\"InvoiceAmount\",\n",
    "    title=\"Total Invoices per Month (2020)\", xlabel=\"Month\", ylabel=\"Invoice Amount ($)\",\n",
    "    figsize=(15, 5), rot=0, legend=None\n",
    "    ).yaxis.set_major_formatter(FormatStrFormatter(\"%d\"))\n",
    "\n",
    "service_starts_per_month_2020 = invoice_data_by_customer[invoice_data_by_customer[\"ServiceStart_Year\"] == 2020].groupby(\"ServiceStart_MonthName\").sum().reindex(constants.month_names).plot.bar(\n",
    "    y=\"InvoiceAmount\",\n",
    "    title=\"Total Service Starts per Month (2020)\", xlabel=\"Month\", ylabel=\"Invoice Amount ($)\",\n",
    "    figsize=(15, 5), rot=0, legend=None\n",
    "    ).yaxis.set_major_formatter(FormatStrFormatter(\"%d\"))\n",
    "\n",
    "\n",
    "# # Invoice amounts per month\n",
    "# number_of_invoices_per_month = atlas_ymq.groupby(\"Monthly\").sum().reset_index().hvplot.bar(\n",
    "#     x=\"Monthly\", y=\"Invoice Amount\",\n",
    "#     title=\"Total Invoices per Month\", xlabel=\"Month\", ylabel=\"Invoice Amount ($)\",\n",
    "#     figsize=(15, 5), rot=0)\n",
    "\n",
    "# Show plots\n",
    "pn.Column(\n",
    "    invoices_per_year,\n",
    "    invoices_per_month,\n",
    "    invoices_per_month_2015,\n",
    "    invoices_per_month_2016,\n",
    "    invoices_per_month_2017,\n",
    "    invoices_per_month_2018,\n",
    "    invoices_per_month_2019,\n",
    "    invoices_per_month_2020,\n",
    "    # number_of_invoices_per_month\n",
    "    )\n",
    "\n",
    "# TODO Make drop-down to filter by year in the monthly plot.\n"
   ]
  },
  {
   "cell_type": "code",
   "execution_count": null,
   "metadata": {},
   "outputs": [],
   "source": [
    "# invoice_data_by_customer.groupby([\"InvoiceDate_MonthName\"]).count().reindex(constants.month_names).plot.pie(x=\"InvoiceDate_MonthName\", y=\"Subscription\", title=\"Nbr. Subscriptions by Month (2015 - 2020)\", figsize=(8, 8))\n",
    "\n",
    "\n",
    "\n",
    "# plt__atlas_grouped__year_subscription__count = px.bar(invoice_data_by_customer.groupby([\"InvoiceDate_Year\", \"Subscription\"]).count().reset_index(),\n",
    "#     x=\"InvoiceDate_Year\",\n",
    "#     y=\"Subscription\",\n",
    "#     color=\"InvoiceAmount\",\n",
    "#     title=\"Nbr. Invoices per Subscription: 2015 - 2020\",\n",
    "#     # =\"Nbr. of Invoices\",\n",
    "#     barmode=\"group\", width=800, height=400\n",
    "#     )\n",
    "\n",
    "\n",
    "# atlas_grouped__year_subscription__count = invoice_data_by_customer.groupby([\"InvoiceDate_Year\", \"Subscription\"]).count()[\"Invoice Amount\"].to_frame()\n",
    "\n",
    "plt__atlas_grouped__year_subscription__count = tools.tool_plot_building.generate_plot__px_bar(\n",
    "    data=invoice_data_by_customer.groupby([\"InvoiceDate_Year\", \"Subscription\"]).count()[\"InvoiceAmount\"].to_frame().reset_index(),\n",
    "    x=\"InvoiceDate_Year\",\n",
    "    y=\"InvoiceAmount\",\n",
    "    color=\"Subscription\",\n",
    "    title=\"Nbr. Invoices per Subscription: 2015 - 2020\",\n",
    "    ylabel=\"Nbr. of Invoices\",\n",
    "    barmode=\"group\", width=800, height=500\n",
    "    )\n",
    "plt__atlas_grouped__year_subscription__count\n",
    "# invoice_data_by_customer.groupby([\"InvoiceDate_Year\", \"Subscription\"]).count().reset_index()"
   ]
  }
 ],
 "metadata": {
  "kernelspec": {
   "display_name": "pyvizenv",
   "language": "python",
   "name": "pyvizenv"
  },
  "language_info": {
   "codemirror_mode": {
    "name": "ipython",
    "version": 3
   },
   "file_extension": ".py",
   "mimetype": "text/x-python",
   "name": "python",
   "nbconvert_exporter": "python",
   "pygments_lexer": "ipython3",
   "version": "3.8.3-final"
  }
 },
 "nbformat": 4,
 "nbformat_minor": 4
}