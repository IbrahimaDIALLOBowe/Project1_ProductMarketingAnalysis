{
 "cells": [
  {
   "cell_type": "code",
   "execution_count": 18,
   "metadata": {},
   "outputs": [],
   "source": [
    "# Initial imports\n",
    "import os\n",
    "import pandas as pd\n",
    "import matplotlib.pyplot as plt\n",
    "import plotly.express as px\n",
    "import hvplot.pandas\n",
    "import panel as pn\n",
    "from pathlib import Path\n",
    "from dotenv import load_dotenv\n",
    "from panel.interact import interact\n",
    "from panel import widgets\n",
    "from string import digits\n",
    "import csv\n",
    "import json\n",
    "import numpy as np\n",
    "import dateparser\n",
    "from Constants import Constants\n",
    "from PreprocessingTools import CustomerNameCleaningFunctions\n",
    "from PreprocessingTools import DateCleaningFunctions\n",
    "from PreprocessingTools import SpecializedDateCleaningFunctions\n",
    "\n",
    "pn.extension()\n",
    "\n",
    "%matplotlib inline"
   ]
  },
  {
   "cell_type": "code",
   "execution_count": 19,
   "metadata": {},
   "outputs": [],
   "source": [
    "# Build tools\n",
    "debug_level = 0\n",
    "constants = Constants()\n",
    "tool_customer = CustomerNameCleaningFunctions(debug_level)\n",
    "tool_date = DateCleaningFunctions(debug_level)\n",
    "tool_special_date = SpecializedDateCleaningFunctions(debug_level)\n"
   ]
  },
  {
   "cell_type": "code",
   "execution_count": 20,
   "metadata": {},
   "outputs": [],
   "source": [
    "# Read anonymized data\n",
    "atlas           = pd.read_csv(constants.ANON_ATLAS_FILE_PATH, index_col=\"Customers\")\n",
    "forecast        = pd.read_csv(constants.ANON_FORECAST_DATA_FILE_PATH, index_col=\"Organization Name\")\n",
    "revenue2020     = pd.read_csv(constants.ANON_REVENUE2020_FILE_PATH, index_col=\"Name\")\n",
    "revenue2020A    = pd.read_csv(constants.ANON_REVENUE2020A_FILE_PATH, index_col=\"Payee Name\")"
   ]
  },
  {
   "cell_type": "code",
   "execution_count": 21,
   "metadata": {
    "tags": []
   },
   "outputs": [
    {
     "output_type": "execute_result",
     "data": {
      "text/plain": [
       "                            Invoice Date  Invoice #  Invoice Amount  \\\n",
       "Customers                                                             \n",
       "University 1   2015-03-20 00:00:00-04:00  ATLAS 315         72000.0   \n",
       "University 102 2015-05-28 00:00:00-04:00      AJ501          3500.0   \n",
       "University 3   2015-06-23 00:00:00-04:00      AJ502          3500.0   \n",
       "University 4   2015-06-26 00:00:00-04:00      AJ503          6500.0   \n",
       "University 5   2015-10-07 00:00:00-04:00      AJ504           750.0   \n",
       "\n",
       "               Subscription            Account Code   \\\n",
       "Customers                                              \n",
       "University 1         1 Year  4700-0-00-00000-18-0000   \n",
       "University 102       1 Year  4700-0-00-00000-16-0000   \n",
       "University 3         1 Year  4700-0-00-00000-17-0000   \n",
       "University 4         1 Year  4700-0-00-00000-32-0000   \n",
       "University 5         1 Year  4700-0-00-00000-20-0000   \n",
       "\n",
       "                           Service Start               Service End  \n",
       "Customers                                                           \n",
       "University 1   2015-03-18 00:00:00-04:00 2016-06-30 00:00:00-04:00  \n",
       "University 102 2015-06-01 00:00:00-04:00 2016-06-30 00:00:00-04:00  \n",
       "University 3   2015-06-10 00:00:00-04:00 2016-06-30 00:00:00-04:00  \n",
       "University 4   2015-06-01 00:00:00-04:00 2016-06-30 00:00:00-04:00  \n",
       "University 5   2015-10-05 00:00:00-04:00 2016-09-30 00:00:00-04:00  "
      ],
      "text/html": "<div>\n<style scoped>\n    .dataframe tbody tr th:only-of-type {\n        vertical-align: middle;\n    }\n\n    .dataframe tbody tr th {\n        vertical-align: top;\n    }\n\n    .dataframe thead th {\n        text-align: right;\n    }\n</style>\n<table border=\"1\" class=\"dataframe\">\n  <thead>\n    <tr style=\"text-align: right;\">\n      <th></th>\n      <th>Invoice Date</th>\n      <th>Invoice #</th>\n      <th>Invoice Amount</th>\n      <th>Subscription</th>\n      <th>Account Code</th>\n      <th>Service Start</th>\n      <th>Service End</th>\n    </tr>\n    <tr>\n      <th>Customers</th>\n      <th></th>\n      <th></th>\n      <th></th>\n      <th></th>\n      <th></th>\n      <th></th>\n      <th></th>\n    </tr>\n  </thead>\n  <tbody>\n    <tr>\n      <th>University 1</th>\n      <td>2015-03-20 00:00:00-04:00</td>\n      <td>ATLAS 315</td>\n      <td>72000.0</td>\n      <td>1 Year</td>\n      <td>4700-0-00-00000-18-0000</td>\n      <td>2015-03-18 00:00:00-04:00</td>\n      <td>2016-06-30 00:00:00-04:00</td>\n    </tr>\n    <tr>\n      <th>University 102</th>\n      <td>2015-05-28 00:00:00-04:00</td>\n      <td>AJ501</td>\n      <td>3500.0</td>\n      <td>1 Year</td>\n      <td>4700-0-00-00000-16-0000</td>\n      <td>2015-06-01 00:00:00-04:00</td>\n      <td>2016-06-30 00:00:00-04:00</td>\n    </tr>\n    <tr>\n      <th>University 3</th>\n      <td>2015-06-23 00:00:00-04:00</td>\n      <td>AJ502</td>\n      <td>3500.0</td>\n      <td>1 Year</td>\n      <td>4700-0-00-00000-17-0000</td>\n      <td>2015-06-10 00:00:00-04:00</td>\n      <td>2016-06-30 00:00:00-04:00</td>\n    </tr>\n    <tr>\n      <th>University 4</th>\n      <td>2015-06-26 00:00:00-04:00</td>\n      <td>AJ503</td>\n      <td>6500.0</td>\n      <td>1 Year</td>\n      <td>4700-0-00-00000-32-0000</td>\n      <td>2015-06-01 00:00:00-04:00</td>\n      <td>2016-06-30 00:00:00-04:00</td>\n    </tr>\n    <tr>\n      <th>University 5</th>\n      <td>2015-10-07 00:00:00-04:00</td>\n      <td>AJ504</td>\n      <td>750.0</td>\n      <td>1 Year</td>\n      <td>4700-0-00-00000-20-0000</td>\n      <td>2015-10-05 00:00:00-04:00</td>\n      <td>2016-09-30 00:00:00-04:00</td>\n    </tr>\n  </tbody>\n</table>\n</div>"
     },
     "metadata": {},
     "execution_count": 21
    }
   ],
   "source": [
    "# Clean up ATLAS data\n",
    "\n",
    "## Invoice Date\n",
    "atlas[\"Invoice Date\"]       = tool_date.cleanup_date_string_list(atlas[\"Invoice Date\"])\n",
    "\n",
    "## Invoice Amount\n",
    "atlas[\"Invoice Amount\"]      = tool_date.cleanup_dollar_string_list(atlas[\"Invoice Amount\"])\n",
    "\n",
    "## Dates of service\n",
    "dates_of_service            = tool_special_date.extract_subscription_dates_list(atlas[\"Dates of service \"])\n",
    "atlas[\"Service Start\"]      = dates_of_service[0]\n",
    "atlas[\"Service End\"]        = dates_of_service[1]\n",
    "atlas.drop(columns=[\"Dates of service \"], inplace=True)\n",
    "\n",
    "atlas.head()"
   ]
  },
  {
   "cell_type": "code",
   "execution_count": null,
   "metadata": {},
   "outputs": [],
   "source": []
  }
 ],
 "metadata": {
  "kernelspec": {
   "name": "Python 3.8.3 64-bit ('pyvizenv': conda)",
   "display_name": "Python 3.8.3 64-bit ('pyvizenv': conda)",
   "metadata": {
    "interpreter": {
     "hash": "9b71b9fa21544dd8a39d3650f5526997ede89e0b97dc642fc8071b919dea00e5"
    }
   }
  },
  "language_info": {
   "codemirror_mode": {
    "name": "ipython",
    "version": 3
   },
   "file_extension": ".py",
   "mimetype": "text/x-python",
   "name": "python",
   "nbconvert_exporter": "python",
   "pygments_lexer": "ipython3",
   "version": "3.8.3-final"
  }
 },
 "nbformat": 4,
 "nbformat_minor": 4
}