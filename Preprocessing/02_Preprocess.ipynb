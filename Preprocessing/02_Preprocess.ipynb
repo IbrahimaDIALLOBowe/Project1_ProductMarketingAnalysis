{
 "cells": [
  {
   "cell_type": "code",
   "execution_count": 8,
   "metadata": {},
   "outputs": [],
   "source": [
    "# Initial imports\n",
    "import os\n",
    "import pandas as pd\n",
    "import matplotlib.pyplot as plt\n",
    "import plotly.express as px\n",
    "import hvplot.pandas\n",
    "import panel as pn\n",
    "from pathlib import Path\n",
    "from dotenv import load_dotenv\n",
    "from panel.interact import interact\n",
    "from panel import widgets\n",
    "from string import digits\n",
    "import csv\n",
    "import json\n",
    "import numpy as np\n",
    "import dateparser\n",
    "from Constants import Constants\n",
    "from PreprocessingTools import CustomerNameCleaningFunctions\n",
    "from PreprocessingTools import DateCleaningFunctions\n",
    "from PreprocessingTools import SpecializedDateCleaningFunctions\n",
    "\n",
    "pn.extension()\n",
    "\n",
    "%matplotlib inline"
   ]
  },
  {
   "cell_type": "code",
   "execution_count": 9,
   "metadata": {},
   "outputs": [],
   "source": [
    "# Build tools\n",
    "debug_level = 0\n",
    "constants = Constants()\n",
    "tool_customer = CustomerNameCleaningFunctions(debug_level)\n",
    "tool_date = DateCleaningFunctions(debug_level)\n",
    "tool_special_date = SpecializedDateCleaningFunctions(debug_level)\n"
   ]
  },
  {
   "cell_type": "code",
   "execution_count": 10,
   "metadata": {},
   "outputs": [],
   "source": [
    "# Read anonymized data\n",
    "atlas           = pd.read_csv(constants.ANON_ATLAS_FILE_PATH, index_col=\"Customers\")\n",
    "forecast        = pd.read_csv(constants.ANON_FORECAST_DATA_FILE_PATH, index_col=\"Organization Name\")\n",
    "revenue2020     = pd.read_csv(constants.ANON_REVENUE2020_FILE_PATH, index_col=\"Name\")\n",
    "revenue2020A    = pd.read_csv(constants.ANON_REVENUE2020A_FILE_PATH, index_col=\"Payee Name\")"
   ]
  },
  {
   "cell_type": "code",
   "execution_count": 11,
   "metadata": {
    "tags": []
   },
   "outputs": [
    {
     "output_type": "execute_result",
     "data": {
      "text/plain": [
       "                            Invoice Date  Invoice #  Invoice Amount  \\\n",
       "Customers                                                             \n",
       "University 1   2015-03-20 00:00:00-04:00  ATLAS 315         72000.0   \n",
       "University 102 2015-05-28 00:00:00-04:00      AJ501          3500.0   \n",
       "University 3   2015-06-23 00:00:00-04:00      AJ502          3500.0   \n",
       "University 4   2015-06-26 00:00:00-04:00      AJ503          6500.0   \n",
       "University 5   2015-10-07 00:00:00-04:00      AJ504           750.0   \n",
       "\n",
       "               Subscription            Account Code   \\\n",
       "Customers                                              \n",
       "University 1         1 Year  4700-0-00-00000-18-0000   \n",
       "University 102       1 Year  4700-0-00-00000-16-0000   \n",
       "University 3         1 Year  4700-0-00-00000-17-0000   \n",
       "University 4         1 Year  4700-0-00-00000-32-0000   \n",
       "University 5         1 Year  4700-0-00-00000-20-0000   \n",
       "\n",
       "                           Service Start               Service End  \n",
       "Customers                                                           \n",
       "University 1   2015-03-18 00:00:00-04:00 2016-06-30 00:00:00-04:00  \n",
       "University 102 2015-06-01 00:00:00-04:00 2016-06-30 00:00:00-04:00  \n",
       "University 3   2015-06-10 00:00:00-04:00 2016-06-30 00:00:00-04:00  \n",
       "University 4   2015-06-01 00:00:00-04:00 2016-06-30 00:00:00-04:00  \n",
       "University 5   2015-10-05 00:00:00-04:00 2016-09-30 00:00:00-04:00  "
      ],
      "text/html": "<div>\n<style scoped>\n    .dataframe tbody tr th:only-of-type {\n        vertical-align: middle;\n    }\n\n    .dataframe tbody tr th {\n        vertical-align: top;\n    }\n\n    .dataframe thead th {\n        text-align: right;\n    }\n</style>\n<table border=\"1\" class=\"dataframe\">\n  <thead>\n    <tr style=\"text-align: right;\">\n      <th></th>\n      <th>Invoice Date</th>\n      <th>Invoice #</th>\n      <th>Invoice Amount</th>\n      <th>Subscription</th>\n      <th>Account Code</th>\n      <th>Service Start</th>\n      <th>Service End</th>\n    </tr>\n    <tr>\n      <th>Customers</th>\n      <th></th>\n      <th></th>\n      <th></th>\n      <th></th>\n      <th></th>\n      <th></th>\n      <th></th>\n    </tr>\n  </thead>\n  <tbody>\n    <tr>\n      <th>University 1</th>\n      <td>2015-03-20 00:00:00-04:00</td>\n      <td>ATLAS 315</td>\n      <td>72000.0</td>\n      <td>1 Year</td>\n      <td>4700-0-00-00000-18-0000</td>\n      <td>2015-03-18 00:00:00-04:00</td>\n      <td>2016-06-30 00:00:00-04:00</td>\n    </tr>\n    <tr>\n      <th>University 102</th>\n      <td>2015-05-28 00:00:00-04:00</td>\n      <td>AJ501</td>\n      <td>3500.0</td>\n      <td>1 Year</td>\n      <td>4700-0-00-00000-16-0000</td>\n      <td>2015-06-01 00:00:00-04:00</td>\n      <td>2016-06-30 00:00:00-04:00</td>\n    </tr>\n    <tr>\n      <th>University 3</th>\n      <td>2015-06-23 00:00:00-04:00</td>\n      <td>AJ502</td>\n      <td>3500.0</td>\n      <td>1 Year</td>\n      <td>4700-0-00-00000-17-0000</td>\n      <td>2015-06-10 00:00:00-04:00</td>\n      <td>2016-06-30 00:00:00-04:00</td>\n    </tr>\n    <tr>\n      <th>University 4</th>\n      <td>2015-06-26 00:00:00-04:00</td>\n      <td>AJ503</td>\n      <td>6500.0</td>\n      <td>1 Year</td>\n      <td>4700-0-00-00000-32-0000</td>\n      <td>2015-06-01 00:00:00-04:00</td>\n      <td>2016-06-30 00:00:00-04:00</td>\n    </tr>\n    <tr>\n      <th>University 5</th>\n      <td>2015-10-07 00:00:00-04:00</td>\n      <td>AJ504</td>\n      <td>750.0</td>\n      <td>1 Year</td>\n      <td>4700-0-00-00000-20-0000</td>\n      <td>2015-10-05 00:00:00-04:00</td>\n      <td>2016-09-30 00:00:00-04:00</td>\n    </tr>\n  </tbody>\n</table>\n</div>"
     },
     "metadata": {},
     "execution_count": 11
    }
   ],
   "source": [
    "# Clean up ATLAS data\n",
    "\n",
    "## Invoice Date\n",
    "atlas[\"Invoice Date\"]       = tool_date.cleanup_date_string_list(atlas[\"Invoice Date\"])\n",
    "\n",
    "## Invoice Amount\n",
    "atlas[\"Invoice Amount\"]      = tool_date.cleanup_dollar_string_list(atlas[\"Invoice Amount\"])\n",
    "\n",
    "## Dates of service\n",
    "dates_of_service            = tool_special_date.extract_subscription_dates_list(atlas[\"Dates of service \"])\n",
    "atlas[\"Service Start\"]      = dates_of_service[0]\n",
    "atlas[\"Service End\"]        = dates_of_service[1]\n",
    "atlas.drop(columns=[\"Dates of service \"], inplace=True)\n",
    "\n",
    "atlas.head()"
   ]
  },
  {
   "cell_type": "code",
   "execution_count": 12,
   "metadata": {},
   "outputs": [
    {
     "output_type": "execute_result",
     "data": {
      "text/plain": [
       "                  Mailing State/Province Organization Record Type  \\\n",
       "Organization Name                                                   \n",
       "University 1                          AL       College/University   \n",
       "University 2                          GA       College/University   \n",
       "University 3                          GU       College/University   \n",
       "University 4                      Hawaii       College/University   \n",
       "University 92               North Dakota     General Organization   \n",
       "\n",
       "                    ATLAS Customer Type  Subscription Fee Subscription Type  \\\n",
       "Organization Name                                                             \n",
       "University 1            System Wide IHE              62.6           3-Month   \n",
       "University 2       Teacher Prep Program             250.0           3-Month   \n",
       "University 3                        NaN             250.0           3-Month   \n",
       "University 4       Teacher Prep Program             425.0           3-Month   \n",
       "University 92                       NaN             425.0           3-Month   \n",
       "\n",
       "                        Contract Start Date         Contract End Date  \n",
       "Organization Name                                                      \n",
       "University 1      2020-04-01 00:00:00-04:00 2020-06-30 00:00:00-04:00  \n",
       "University 2      2020-03-24 00:00:00-04:00 2020-06-30 00:00:00-04:00  \n",
       "University 3      2020-03-25 00:00:00-04:00 2020-06-30 00:00:00-04:00  \n",
       "University 4      2020-03-25 00:00:00-04:00 2020-06-30 00:00:00-04:00  \n",
       "University 92     2020-04-09 00:00:00-04:00 2020-06-30 00:00:00-04:00  "
      ],
      "text/html": "<div>\n<style scoped>\n    .dataframe tbody tr th:only-of-type {\n        vertical-align: middle;\n    }\n\n    .dataframe tbody tr th {\n        vertical-align: top;\n    }\n\n    .dataframe thead th {\n        text-align: right;\n    }\n</style>\n<table border=\"1\" class=\"dataframe\">\n  <thead>\n    <tr style=\"text-align: right;\">\n      <th></th>\n      <th>Mailing State/Province</th>\n      <th>Organization Record Type</th>\n      <th>ATLAS Customer Type</th>\n      <th>Subscription Fee</th>\n      <th>Subscription Type</th>\n      <th>Contract Start Date</th>\n      <th>Contract End Date</th>\n    </tr>\n    <tr>\n      <th>Organization Name</th>\n      <th></th>\n      <th></th>\n      <th></th>\n      <th></th>\n      <th></th>\n      <th></th>\n      <th></th>\n    </tr>\n  </thead>\n  <tbody>\n    <tr>\n      <th>University 1</th>\n      <td>AL</td>\n      <td>College/University</td>\n      <td>System Wide IHE</td>\n      <td>62.6</td>\n      <td>3-Month</td>\n      <td>2020-04-01 00:00:00-04:00</td>\n      <td>2020-06-30 00:00:00-04:00</td>\n    </tr>\n    <tr>\n      <th>University 2</th>\n      <td>GA</td>\n      <td>College/University</td>\n      <td>Teacher Prep Program</td>\n      <td>250.0</td>\n      <td>3-Month</td>\n      <td>2020-03-24 00:00:00-04:00</td>\n      <td>2020-06-30 00:00:00-04:00</td>\n    </tr>\n    <tr>\n      <th>University 3</th>\n      <td>GU</td>\n      <td>College/University</td>\n      <td>NaN</td>\n      <td>250.0</td>\n      <td>3-Month</td>\n      <td>2020-03-25 00:00:00-04:00</td>\n      <td>2020-06-30 00:00:00-04:00</td>\n    </tr>\n    <tr>\n      <th>University 4</th>\n      <td>Hawaii</td>\n      <td>College/University</td>\n      <td>Teacher Prep Program</td>\n      <td>425.0</td>\n      <td>3-Month</td>\n      <td>2020-03-25 00:00:00-04:00</td>\n      <td>2020-06-30 00:00:00-04:00</td>\n    </tr>\n    <tr>\n      <th>University 92</th>\n      <td>North Dakota</td>\n      <td>General Organization</td>\n      <td>NaN</td>\n      <td>425.0</td>\n      <td>3-Month</td>\n      <td>2020-04-09 00:00:00-04:00</td>\n      <td>2020-06-30 00:00:00-04:00</td>\n    </tr>\n  </tbody>\n</table>\n</div>"
     },
     "metadata": {},
     "execution_count": 12
    }
   ],
   "source": [
    "# Clean up 2021 forecast data\n",
    "\n",
    "## Remove blank columns\n",
    "forecast.drop(\n",
    "    columns=[\"Unnamed: 8\", \"Unnamed: 9\", \"Unnamed: 10\", \"Unnamed: 11\", \"Unnamed: 12\", \"Unnamed: 13\", \"Unnamed: 14\", \"Unnamed: 15\", \"Unnamed: 16\", \"Unnamed: 17\", \"Unnamed: 18\", \"Unnamed: 19\", \"Unnamed: 20\", \"Unnamed: 21\", \"Unnamed: 22\", \"Unnamed: 23\", \"Unnamed: 24\", \"Unnamed: 25\", \"Unnamed: 26\", \"Unnamed: 27\", \"Unnamed: 28\", \"Unnamed: 29\", \"Unnamed: 30\", \"Unnamed: 31\", \"Unnamed: 32\", \"Unnamed: 33\", \"Unnamed: 34\", \"Unnamed: 35\", \"Unnamed: 36\", \"Unnamed: 37\", \"Unnamed: 38\", \"Unnamed: 39\", \"Unnamed: 40\", \"Unnamed: 41\", \"Unnamed: 42\", \"Unnamed: 43\", \"Unnamed: 44\", \"Unnamed: 45\", \"Unnamed: 46\", \"Unnamed: 47\", \"Unnamed: 48\", \"Unnamed: 49\", \"Unnamed: 50\", \"Unnamed: 51\", \"Unnamed: 52\", \"Unnamed: 53\", \"Unnamed: 54\", \"Unnamed: 55\", \"Unnamed: 56\", \"Unnamed: 57\", \"Unnamed: 58\", \"Unnamed: 59\", \"Unnamed: 60\", \"Unnamed: 61\", \"Unnamed: 62\", \"Unnamed: 63\", \"Unnamed: 64\", \"Unnamed: 65\", \"Unnamed: 66\", \"Unnamed: 67\", \"Unnamed: 68\", \"Unnamed: 69\", \"Unnamed: 70\", \"Unnamed: 71\", \"Unnamed: 72\", \"Unnamed: 73\", \"Unnamed: 74\", \"Unnamed: 75\", \"Unnamed: 76\", \"Unnamed: 77\", \"Unnamed: 78\", \"Unnamed: 79\", \"Unnamed: 80\", \"Unnamed: 81\", \"Unnamed: 82\", \"Unnamed: 83\", \"Unnamed: 84\", \"Unnamed: 85\", \"Unnamed: 86\", \"Unnamed: 87\", \"Unnamed: 88\", \"Unnamed: 89\", \"Unnamed: 90\", \"Unnamed: 91\", \"Unnamed: 92\", \"Unnamed: 93\", \"Unnamed: 94\", \"Unnamed: 95\", \"Unnamed: 96\", \"Unnamed: 97\", \"Unnamed: 98\", \"Unnamed: 99\", \"Unnamed: 100\", \"Unnamed: 101\", \"Unnamed: 102\", \"Unnamed: 103\", \"Unnamed: 104\", \"Unnamed: 105\", \"Unnamed: 106\", \"Unnamed: 107\", \"Unnamed: 108\", \"Unnamed: 109\", \"Unnamed: 110\", \"Unnamed: 111\", \"Unnamed: 112\", \"Unnamed: 113\"],\n",
    "    inplace=True)\n",
    "\n",
    "## Parse dates\n",
    "forecast[\"Contract Start Date\"]     = tool_date.cleanup_date_string_list(forecast[\"Contract Start Date\"])\n",
    "forecast[\"Contract End Date\"]       = tool_date.cleanup_date_string_list(forecast[\"Contract End Date\"])\n",
    "\n",
    "## Parse dollars\n",
    "forecast[\"Subscription Fee\"]        = tool_date.cleanup_dollar_string_list(forecast[\"Subscription Fee\"])\n",
    "\n",
    "forecast.head()"
   ]
  },
  {
   "cell_type": "code",
   "execution_count": 13,
   "metadata": {},
   "outputs": [],
   "source": [
    "# tool_date.cleanup_dollar_string_list(forecast[\"Subscription Fee\"])"
   ]
  },
  {
   "cell_type": "code",
   "execution_count": 14,
   "metadata": {},
   "outputs": [
    {
     "output_type": "execute_result",
     "data": {
      "text/plain": [
       "Mailing State/Province                                object\n",
       "Organization Record Type                              object\n",
       "ATLAS Customer Type                                   object\n",
       "Subscription Fee                                     float64\n",
       "Subscription Type                                     object\n",
       "Contract Start Date         datetime64[ns, America/New_York]\n",
       "Contract End Date           datetime64[ns, America/New_York]\n",
       "dtype: object"
      ]
     },
     "metadata": {},
     "execution_count": 14
    }
   ],
   "source": [
    "forecast.dtypes"
   ]
  },
  {
   "cell_type": "code",
   "execution_count": null,
   "metadata": {},
   "outputs": [],
   "source": []
  }
 ],
 "metadata": {
  "kernelspec": {
   "name": "Python 3.8.3 64-bit ('pyvizenv': conda)",
   "display_name": "Python 3.8.3 64-bit ('pyvizenv': conda)",
   "metadata": {
    "interpreter": {
     "hash": "9b71b9fa21544dd8a39d3650f5526997ede89e0b97dc642fc8071b919dea00e5"
    }
   }
  },
  "language_info": {
   "codemirror_mode": {
    "name": "ipython",
    "version": 3
   },
   "file_extension": ".py",
   "mimetype": "text/x-python",
   "name": "python",
   "nbconvert_exporter": "python",
   "pygments_lexer": "ipython3",
   "version": "3.8.3-final"
  }
 },
 "nbformat": 4,
 "nbformat_minor": 4
}