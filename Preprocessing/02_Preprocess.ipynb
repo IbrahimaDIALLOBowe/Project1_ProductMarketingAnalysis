{
 "cells": [
  {
   "cell_type": "code",
   "execution_count": 10,
   "metadata": {},
   "outputs": [],
   "source": [
    "# Initial imports\n",
    "import os\n",
    "import pandas as pd\n",
    "import matplotlib.pyplot as plt\n",
    "import plotly.express as px\n",
    "import hvplot.pandas\n",
    "import panel as pn\n",
    "from pathlib import Path\n",
    "from dotenv import load_dotenv\n",
    "from panel.interact import interact\n",
    "from panel import widgets\n",
    "from string import digits\n",
    "import csv\n",
    "import json\n",
    "import numpy as np\n",
    "import dateparser\n",
    "from Constants import Constants\n",
    "from PreprocessingTools import CustomerNameCleaningFunctions\n",
    "from PreprocessingTools import DateCleaningFunctions\n",
    "from PreprocessingTools import SpecializedDateCleaningFunctions\n",
    "\n",
    "pn.extension()\n",
    "\n",
    "%matplotlib inline"
   ]
  },
  {
   "cell_type": "code",
   "execution_count": 11,
   "metadata": {},
   "outputs": [],
   "source": [
    "# Build tools\n",
    "debug_level = 0\n",
    "constants = Constants()\n",
    "tool_customer = CustomerNameCleaningFunctions(debug_level)\n",
    "tool_date = DateCleaningFunctions(debug_level)\n",
    "tool_special_date = SpecializedDateCleaningFunctions(debug_level)\n"
   ]
  },
  {
   "cell_type": "code",
   "execution_count": 12,
   "metadata": {},
   "outputs": [],
   "source": [
    "# Read anonymized data\n",
    "atlas           = pd.read_csv(constants.ANON_ATLAS_FILE_PATH, index_col=\"Customers\")\n",
    "forecast        = pd.read_csv(constants.ANON_FORECAST_DATA_FILE_PATH, index_col=\"Organization Name\")\n",
    "revenue2020     = pd.read_csv(constants.ANON_REVENUE2020_FILE_PATH, index_col=\"Name\")\n",
    "revenue2020A    = pd.read_csv(constants.ANON_REVENUE2020A_FILE_PATH, index_col=\"Payee Name\")"
   ]
  },
  {
   "cell_type": "code",
   "execution_count": 13,
   "metadata": {
    "tags": []
   },
   "outputs": [
    {
     "output_type": "execute_result",
     "data": {
      "text/plain": [
       "                            Invoice Date  Invoice #  Invoice Amount  \\\n",
       "Customers                                                             \n",
       "University 1   2015-03-20 00:00:00-04:00  ATLAS 315         72000.0   \n",
       "University 102 2015-05-28 00:00:00-04:00      AJ501          3500.0   \n",
       "University 3   2015-06-23 00:00:00-04:00      AJ502          3500.0   \n",
       "University 4   2015-06-26 00:00:00-04:00      AJ503          6500.0   \n",
       "University 5   2015-10-07 00:00:00-04:00      AJ504           750.0   \n",
       "\n",
       "               Subscription            Account Code   \\\n",
       "Customers                                              \n",
       "University 1         1 Year  4700-0-00-00000-18-0000   \n",
       "University 102       1 Year  4700-0-00-00000-16-0000   \n",
       "University 3         1 Year  4700-0-00-00000-17-0000   \n",
       "University 4         1 Year  4700-0-00-00000-32-0000   \n",
       "University 5         1 Year  4700-0-00-00000-20-0000   \n",
       "\n",
       "                           Service Start               Service End  \n",
       "Customers                                                           \n",
       "University 1   2015-03-18 00:00:00-04:00 2016-06-30 00:00:00-04:00  \n",
       "University 102 2015-06-01 00:00:00-04:00 2016-06-30 00:00:00-04:00  \n",
       "University 3   2015-06-10 00:00:00-04:00 2016-06-30 00:00:00-04:00  \n",
       "University 4   2015-06-01 00:00:00-04:00 2016-06-30 00:00:00-04:00  \n",
       "University 5   2015-10-05 00:00:00-04:00 2016-09-30 00:00:00-04:00  "
      ],
      "text/html": "<div>\n<style scoped>\n    .dataframe tbody tr th:only-of-type {\n        vertical-align: middle;\n    }\n\n    .dataframe tbody tr th {\n        vertical-align: top;\n    }\n\n    .dataframe thead th {\n        text-align: right;\n    }\n</style>\n<table border=\"1\" class=\"dataframe\">\n  <thead>\n    <tr style=\"text-align: right;\">\n      <th></th>\n      <th>Invoice Date</th>\n      <th>Invoice #</th>\n      <th>Invoice Amount</th>\n      <th>Subscription</th>\n      <th>Account Code</th>\n      <th>Service Start</th>\n      <th>Service End</th>\n    </tr>\n    <tr>\n      <th>Customers</th>\n      <th></th>\n      <th></th>\n      <th></th>\n      <th></th>\n      <th></th>\n      <th></th>\n      <th></th>\n    </tr>\n  </thead>\n  <tbody>\n    <tr>\n      <th>University 1</th>\n      <td>2015-03-20 00:00:00-04:00</td>\n      <td>ATLAS 315</td>\n      <td>72000.0</td>\n      <td>1 Year</td>\n      <td>4700-0-00-00000-18-0000</td>\n      <td>2015-03-18 00:00:00-04:00</td>\n      <td>2016-06-30 00:00:00-04:00</td>\n    </tr>\n    <tr>\n      <th>University 102</th>\n      <td>2015-05-28 00:00:00-04:00</td>\n      <td>AJ501</td>\n      <td>3500.0</td>\n      <td>1 Year</td>\n      <td>4700-0-00-00000-16-0000</td>\n      <td>2015-06-01 00:00:00-04:00</td>\n      <td>2016-06-30 00:00:00-04:00</td>\n    </tr>\n    <tr>\n      <th>University 3</th>\n      <td>2015-06-23 00:00:00-04:00</td>\n      <td>AJ502</td>\n      <td>3500.0</td>\n      <td>1 Year</td>\n      <td>4700-0-00-00000-17-0000</td>\n      <td>2015-06-10 00:00:00-04:00</td>\n      <td>2016-06-30 00:00:00-04:00</td>\n    </tr>\n    <tr>\n      <th>University 4</th>\n      <td>2015-06-26 00:00:00-04:00</td>\n      <td>AJ503</td>\n      <td>6500.0</td>\n      <td>1 Year</td>\n      <td>4700-0-00-00000-32-0000</td>\n      <td>2015-06-01 00:00:00-04:00</td>\n      <td>2016-06-30 00:00:00-04:00</td>\n    </tr>\n    <tr>\n      <th>University 5</th>\n      <td>2015-10-07 00:00:00-04:00</td>\n      <td>AJ504</td>\n      <td>750.0</td>\n      <td>1 Year</td>\n      <td>4700-0-00-00000-20-0000</td>\n      <td>2015-10-05 00:00:00-04:00</td>\n      <td>2016-09-30 00:00:00-04:00</td>\n    </tr>\n  </tbody>\n</table>\n</div>"
     },
     "metadata": {},
     "execution_count": 13
    }
   ],
   "source": [
    "# Clean up ATLAS data\n",
    "\n",
    "## Invoice Date\n",
    "atlas[\"Invoice Date\"]       = tool_date.cleanup_date_string_list(atlas[\"Invoice Date\"])\n",
    "\n",
    "## Invoice Amount\n",
    "atlas[\"Invoice Amount\"]      = tool_date.cleanup_dollar_string_list(atlas[\"Invoice Amount\"])\n",
    "\n",
    "## Dates of service\n",
    "dates_of_service            = tool_special_date.extract_subscription_dates_list(atlas[\"Dates of service \"])\n",
    "atlas[\"Service Start\"]      = dates_of_service[0]\n",
    "atlas[\"Service End\"]        = dates_of_service[1]\n",
    "atlas.drop(columns=[\"Dates of service \"], inplace=True)\n",
    "\n",
    "atlas.head()"
   ]
  },
  {
   "cell_type": "code",
   "execution_count": 14,
   "metadata": {},
   "outputs": [
    {
     "output_type": "execute_result",
     "data": {
      "text/plain": [
       "                  Mailing State/Province Organization Record Type  \\\n",
       "Organization Name                                                   \n",
       "University 1                          AL       College/University   \n",
       "University 2                          GA       College/University   \n",
       "University 3                          GU       College/University   \n",
       "University 4                      Hawaii       College/University   \n",
       "University 92               North Dakota     General Organization   \n",
       "\n",
       "                    ATLAS Customer Type  Subscription Fee Subscription Type  \\\n",
       "Organization Name                                                             \n",
       "University 1            System Wide IHE              62.6           3-Month   \n",
       "University 2       Teacher Prep Program             250.0           3-Month   \n",
       "University 3                        NaN             250.0           3-Month   \n",
       "University 4       Teacher Prep Program             425.0           3-Month   \n",
       "University 92                       NaN             425.0           3-Month   \n",
       "\n",
       "                        Contract Start Date         Contract End Date  \n",
       "Organization Name                                                      \n",
       "University 1      2020-04-01 00:00:00-04:00 2020-06-30 00:00:00-04:00  \n",
       "University 2      2020-03-24 00:00:00-04:00 2020-06-30 00:00:00-04:00  \n",
       "University 3      2020-03-25 00:00:00-04:00 2020-06-30 00:00:00-04:00  \n",
       "University 4      2020-03-25 00:00:00-04:00 2020-06-30 00:00:00-04:00  \n",
       "University 92     2020-04-09 00:00:00-04:00 2020-06-30 00:00:00-04:00  "
      ],
      "text/html": "<div>\n<style scoped>\n    .dataframe tbody tr th:only-of-type {\n        vertical-align: middle;\n    }\n\n    .dataframe tbody tr th {\n        vertical-align: top;\n    }\n\n    .dataframe thead th {\n        text-align: right;\n    }\n</style>\n<table border=\"1\" class=\"dataframe\">\n  <thead>\n    <tr style=\"text-align: right;\">\n      <th></th>\n      <th>Mailing State/Province</th>\n      <th>Organization Record Type</th>\n      <th>ATLAS Customer Type</th>\n      <th>Subscription Fee</th>\n      <th>Subscription Type</th>\n      <th>Contract Start Date</th>\n      <th>Contract End Date</th>\n    </tr>\n    <tr>\n      <th>Organization Name</th>\n      <th></th>\n      <th></th>\n      <th></th>\n      <th></th>\n      <th></th>\n      <th></th>\n      <th></th>\n    </tr>\n  </thead>\n  <tbody>\n    <tr>\n      <th>University 1</th>\n      <td>AL</td>\n      <td>College/University</td>\n      <td>System Wide IHE</td>\n      <td>62.6</td>\n      <td>3-Month</td>\n      <td>2020-04-01 00:00:00-04:00</td>\n      <td>2020-06-30 00:00:00-04:00</td>\n    </tr>\n    <tr>\n      <th>University 2</th>\n      <td>GA</td>\n      <td>College/University</td>\n      <td>Teacher Prep Program</td>\n      <td>250.0</td>\n      <td>3-Month</td>\n      <td>2020-03-24 00:00:00-04:00</td>\n      <td>2020-06-30 00:00:00-04:00</td>\n    </tr>\n    <tr>\n      <th>University 3</th>\n      <td>GU</td>\n      <td>College/University</td>\n      <td>NaN</td>\n      <td>250.0</td>\n      <td>3-Month</td>\n      <td>2020-03-25 00:00:00-04:00</td>\n      <td>2020-06-30 00:00:00-04:00</td>\n    </tr>\n    <tr>\n      <th>University 4</th>\n      <td>Hawaii</td>\n      <td>College/University</td>\n      <td>Teacher Prep Program</td>\n      <td>425.0</td>\n      <td>3-Month</td>\n      <td>2020-03-25 00:00:00-04:00</td>\n      <td>2020-06-30 00:00:00-04:00</td>\n    </tr>\n    <tr>\n      <th>University 92</th>\n      <td>North Dakota</td>\n      <td>General Organization</td>\n      <td>NaN</td>\n      <td>425.0</td>\n      <td>3-Month</td>\n      <td>2020-04-09 00:00:00-04:00</td>\n      <td>2020-06-30 00:00:00-04:00</td>\n    </tr>\n  </tbody>\n</table>\n</div>"
     },
     "metadata": {},
     "execution_count": 14
    }
   ],
   "source": [
    "# Clean up 2021 forecast data\n",
    "\n",
    "## Remove blank columns\n",
    "forecast.drop(\n",
    "    columns=[\"Unnamed: 8\", \"Unnamed: 9\", \"Unnamed: 10\", \"Unnamed: 11\", \"Unnamed: 12\", \"Unnamed: 13\", \"Unnamed: 14\", \"Unnamed: 15\", \"Unnamed: 16\", \"Unnamed: 17\", \"Unnamed: 18\", \"Unnamed: 19\", \"Unnamed: 20\", \"Unnamed: 21\", \"Unnamed: 22\", \"Unnamed: 23\", \"Unnamed: 24\", \"Unnamed: 25\", \"Unnamed: 26\", \"Unnamed: 27\", \"Unnamed: 28\", \"Unnamed: 29\", \"Unnamed: 30\", \"Unnamed: 31\", \"Unnamed: 32\", \"Unnamed: 33\", \"Unnamed: 34\", \"Unnamed: 35\", \"Unnamed: 36\", \"Unnamed: 37\", \"Unnamed: 38\", \"Unnamed: 39\", \"Unnamed: 40\", \"Unnamed: 41\", \"Unnamed: 42\", \"Unnamed: 43\", \"Unnamed: 44\", \"Unnamed: 45\", \"Unnamed: 46\", \"Unnamed: 47\", \"Unnamed: 48\", \"Unnamed: 49\", \"Unnamed: 50\", \"Unnamed: 51\", \"Unnamed: 52\", \"Unnamed: 53\", \"Unnamed: 54\", \"Unnamed: 55\", \"Unnamed: 56\", \"Unnamed: 57\", \"Unnamed: 58\", \"Unnamed: 59\", \"Unnamed: 60\", \"Unnamed: 61\", \"Unnamed: 62\", \"Unnamed: 63\", \"Unnamed: 64\", \"Unnamed: 65\", \"Unnamed: 66\", \"Unnamed: 67\", \"Unnamed: 68\", \"Unnamed: 69\", \"Unnamed: 70\", \"Unnamed: 71\", \"Unnamed: 72\", \"Unnamed: 73\", \"Unnamed: 74\", \"Unnamed: 75\", \"Unnamed: 76\", \"Unnamed: 77\", \"Unnamed: 78\", \"Unnamed: 79\", \"Unnamed: 80\", \"Unnamed: 81\", \"Unnamed: 82\", \"Unnamed: 83\", \"Unnamed: 84\", \"Unnamed: 85\", \"Unnamed: 86\", \"Unnamed: 87\", \"Unnamed: 88\", \"Unnamed: 89\", \"Unnamed: 90\", \"Unnamed: 91\", \"Unnamed: 92\", \"Unnamed: 93\", \"Unnamed: 94\", \"Unnamed: 95\", \"Unnamed: 96\", \"Unnamed: 97\", \"Unnamed: 98\", \"Unnamed: 99\", \"Unnamed: 100\", \"Unnamed: 101\", \"Unnamed: 102\", \"Unnamed: 103\", \"Unnamed: 104\", \"Unnamed: 105\", \"Unnamed: 106\", \"Unnamed: 107\", \"Unnamed: 108\", \"Unnamed: 109\", \"Unnamed: 110\", \"Unnamed: 111\", \"Unnamed: 112\", \"Unnamed: 113\"],\n",
    "    inplace=True)\n",
    "\n",
    "## Parse dates\n",
    "forecast[\"Contract Start Date\"]     = tool_date.cleanup_date_string_list(forecast[\"Contract Start Date\"])\n",
    "forecast[\"Contract End Date\"]       = tool_date.cleanup_date_string_list(forecast[\"Contract End Date\"])\n",
    "\n",
    "## Parse dollars\n",
    "forecast[\"Subscription Fee\"]        = tool_date.cleanup_dollar_string_list(forecast[\"Subscription Fee\"])\n",
    "\n",
    "forecast.head()"
   ]
  },
  {
   "cell_type": "code",
   "execution_count": 15,
   "metadata": {},
   "outputs": [
    {
     "output_type": "execute_result",
     "data": {
      "text/plain": [
       "                                 Month    Total\n",
       "Name                                           \n",
       "University 1 2020-01-11 00:00:00-05:00  1820.00\n",
       "University 2 2020-01-11 00:00:00-05:00  1890.00\n",
       "University 3 2020-01-11 00:00:00-05:00   883.33\n",
       "University 4 2020-01-11 00:00:00-05:00  1200.00\n",
       "University 5 2020-01-11 00:00:00-05:00  1166.67"
      ],
      "text/html": "<div>\n<style scoped>\n    .dataframe tbody tr th:only-of-type {\n        vertical-align: middle;\n    }\n\n    .dataframe tbody tr th {\n        vertical-align: top;\n    }\n\n    .dataframe thead th {\n        text-align: right;\n    }\n</style>\n<table border=\"1\" class=\"dataframe\">\n  <thead>\n    <tr style=\"text-align: right;\">\n      <th></th>\n      <th>Month</th>\n      <th>Total</th>\n    </tr>\n    <tr>\n      <th>Name</th>\n      <th></th>\n      <th></th>\n    </tr>\n  </thead>\n  <tbody>\n    <tr>\n      <th>University 1</th>\n      <td>2020-01-11 00:00:00-05:00</td>\n      <td>1820.00</td>\n    </tr>\n    <tr>\n      <th>University 2</th>\n      <td>2020-01-11 00:00:00-05:00</td>\n      <td>1890.00</td>\n    </tr>\n    <tr>\n      <th>University 3</th>\n      <td>2020-01-11 00:00:00-05:00</td>\n      <td>883.33</td>\n    </tr>\n    <tr>\n      <th>University 4</th>\n      <td>2020-01-11 00:00:00-05:00</td>\n      <td>1200.00</td>\n    </tr>\n    <tr>\n      <th>University 5</th>\n      <td>2020-01-11 00:00:00-05:00</td>\n      <td>1166.67</td>\n    </tr>\n  </tbody>\n</table>\n</div>"
     },
     "metadata": {},
     "execution_count": 15
    }
   ],
   "source": [
    "# Clean up revenue2020 data\n",
    "\n",
    "## Parse dates (dates are a little suspicious since it assumes today's day-of-month and year. Only the month value is accurate.)\n",
    "revenue2020[\"Month\"]     = tool_date.cleanup_date_string_list(revenue2020[\"Month\"])\n",
    "\n",
    "revenue2020.head()"
   ]
  },
  {
   "cell_type": "code",
   "execution_count": 16,
   "metadata": {},
   "outputs": [
    {
     "output_type": "execute_result",
     "data": {
      "text/plain": [
       "                          Invoice Date  Invoice #  Vendor ID  Invoice Amount  \\\n",
       "Payee Name                                                                     \n",
       "University 1 2019-11-18 00:00:00-05:00      241.0        NaN           200.0   \n",
       "University 2 2019-12-16 00:00:00-05:00      248.0        NaN          2500.0   \n",
       "University 3 2019-11-18 00:00:00-05:00      240.0        NaN          1250.0   \n",
       "University 4 2019-11-18 00:00:00-05:00      212.0        NaN           500.0   \n",
       "University 5 2019-11-20 00:00:00-05:00      244.0        NaN           250.0   \n",
       "\n",
       "                         Account Code                  Mail Date  Amount Paid  \\\n",
       "Payee Name                                                                      \n",
       "University 1   4700-0-00-00000-00-0000 2019-11-18 00:00:00-05:00        200.0   \n",
       "University 2   4700-0-00-00000-00-0000 2019-12-16 00:00:00-05:00       2500.0   \n",
       "University 3   4700-0-00-00000-00-0000 2019-11-18 00:00:00-05:00       1250.0   \n",
       "University 4  4700-0-00-00000-00-0000  2019-11-18 00:00:00-05:00        500.0   \n",
       "University 5   4700-0-00-00000-00-0000 2019-11-20 00:00:00-05:00        250.0   \n",
       "\n",
       "                         Pymt Received             Service Start  \\\n",
       "Payee Name                                                         \n",
       "University 1 2020-01-08 00:00:00-05:00 2019-05-22 00:00:00-04:00   \n",
       "University 2 2020-01-09 00:00:00-05:00                       NaT   \n",
       "University 3 2020-01-10 00:00:00-05:00 2019-12-31 00:00:00-05:00   \n",
       "University 4 2020-01-13 00:00:00-05:00 2019-08-31 00:00:00-04:00   \n",
       "University 5 2020-01-13 00:00:00-05:00 2019-11-30 00:00:00-05:00   \n",
       "\n",
       "                           Service End  \n",
       "Payee Name                              \n",
       "University 1 2022-05-31 00:00:00-04:00  \n",
       "University 2 2020-12-31 00:00:00-05:00  \n",
       "University 3 2020-12-31 00:00:00-05:00  \n",
       "University 4 2020-08-31 00:00:00-04:00  \n",
       "University 5 2020-11-30 00:00:00-05:00  "
      ],
      "text/html": "<div>\n<style scoped>\n    .dataframe tbody tr th:only-of-type {\n        vertical-align: middle;\n    }\n\n    .dataframe tbody tr th {\n        vertical-align: top;\n    }\n\n    .dataframe thead th {\n        text-align: right;\n    }\n</style>\n<table border=\"1\" class=\"dataframe\">\n  <thead>\n    <tr style=\"text-align: right;\">\n      <th></th>\n      <th>Invoice Date</th>\n      <th>Invoice #</th>\n      <th>Vendor ID</th>\n      <th>Invoice Amount</th>\n      <th>Account Code</th>\n      <th>Mail Date</th>\n      <th>Amount Paid</th>\n      <th>Pymt Received</th>\n      <th>Service Start</th>\n      <th>Service End</th>\n    </tr>\n    <tr>\n      <th>Payee Name</th>\n      <th></th>\n      <th></th>\n      <th></th>\n      <th></th>\n      <th></th>\n      <th></th>\n      <th></th>\n      <th></th>\n      <th></th>\n      <th></th>\n    </tr>\n  </thead>\n  <tbody>\n    <tr>\n      <th>University 1</th>\n      <td>2019-11-18 00:00:00-05:00</td>\n      <td>241.0</td>\n      <td>NaN</td>\n      <td>200.0</td>\n      <td>4700-0-00-00000-00-0000</td>\n      <td>2019-11-18 00:00:00-05:00</td>\n      <td>200.0</td>\n      <td>2020-01-08 00:00:00-05:00</td>\n      <td>2019-05-22 00:00:00-04:00</td>\n      <td>2022-05-31 00:00:00-04:00</td>\n    </tr>\n    <tr>\n      <th>University 2</th>\n      <td>2019-12-16 00:00:00-05:00</td>\n      <td>248.0</td>\n      <td>NaN</td>\n      <td>2500.0</td>\n      <td>4700-0-00-00000-00-0000</td>\n      <td>2019-12-16 00:00:00-05:00</td>\n      <td>2500.0</td>\n      <td>2020-01-09 00:00:00-05:00</td>\n      <td>NaT</td>\n      <td>2020-12-31 00:00:00-05:00</td>\n    </tr>\n    <tr>\n      <th>University 3</th>\n      <td>2019-11-18 00:00:00-05:00</td>\n      <td>240.0</td>\n      <td>NaN</td>\n      <td>1250.0</td>\n      <td>4700-0-00-00000-00-0000</td>\n      <td>2019-11-18 00:00:00-05:00</td>\n      <td>1250.0</td>\n      <td>2020-01-10 00:00:00-05:00</td>\n      <td>2019-12-31 00:00:00-05:00</td>\n      <td>2020-12-31 00:00:00-05:00</td>\n    </tr>\n    <tr>\n      <th>University 4</th>\n      <td>2019-11-18 00:00:00-05:00</td>\n      <td>212.0</td>\n      <td>NaN</td>\n      <td>500.0</td>\n      <td>4700-0-00-00000-00-0000</td>\n      <td>2019-11-18 00:00:00-05:00</td>\n      <td>500.0</td>\n      <td>2020-01-13 00:00:00-05:00</td>\n      <td>2019-08-31 00:00:00-04:00</td>\n      <td>2020-08-31 00:00:00-04:00</td>\n    </tr>\n    <tr>\n      <th>University 5</th>\n      <td>2019-11-20 00:00:00-05:00</td>\n      <td>244.0</td>\n      <td>NaN</td>\n      <td>250.0</td>\n      <td>4700-0-00-00000-00-0000</td>\n      <td>2019-11-20 00:00:00-05:00</td>\n      <td>250.0</td>\n      <td>2020-01-13 00:00:00-05:00</td>\n      <td>2019-11-30 00:00:00-05:00</td>\n      <td>2020-11-30 00:00:00-05:00</td>\n    </tr>\n  </tbody>\n</table>\n</div>"
     },
     "metadata": {},
     "execution_count": 16
    }
   ],
   "source": [
    "# Clean up revenue2020A data\n",
    "\n",
    "## Remove blank columns\n",
    "revenue2020A.drop(\n",
    "    columns=[\"Unnamed: 8\", \"Unnamed: 9\", \"Unnamed: 10\"],\n",
    "    inplace=True)\n",
    "\n",
    "## Numeric types\n",
    "revenue2020A[\"Invoice #\"]           = pd.to_numeric(revenue2020A[\"Invoice #\"], errors='coerce')\n",
    "revenue2020A[\"Vendor ID\"]           = pd.to_numeric(revenue2020A[\"Vendor ID\"], errors='coerce')\n",
    "\n",
    "## Dollar figures\n",
    "revenue2020A[\"Invoice Amount\"]      = tool_date.cleanup_dollar_string_list(revenue2020A[\"Invoice Amount\"])\n",
    "revenue2020A[\"Amount Paid\"]         = tool_date.cleanup_dollar_string_list(revenue2020A[\"Amount Paid\"])\n",
    "\n",
    "## Parse dates\n",
    "revenue2020A[\"Invoice Date\"]        = tool_date.cleanup_date_string_list(revenue2020A[\"Invoice Date\"])\n",
    "revenue2020A[\"Mail Date\"]           = tool_date.cleanup_date_string_list(revenue2020A[\"Mail Date\"])\n",
    "revenue2020A[\" Pymt Received\"]      = tool_date.cleanup_date_string_list(revenue2020A[\" Pymt Received\"])\n",
    "\n",
    "## Dates of service\n",
    "dates_of_service            = tool_special_date.extract_subscription_dates_list(revenue2020A[\"Dates of service \"])\n",
    "revenue2020A[\"Service Start\"]      = dates_of_service[0]\n",
    "revenue2020A[\"Service End\"]        = dates_of_service[1]\n",
    "revenue2020A.drop(columns=[\"Dates of service \"], inplace=True)\n",
    "\n",
    "revenue2020A.head()"
   ]
  },
  {
   "cell_type": "code",
   "execution_count": 17,
   "metadata": {},
   "outputs": [
    {
     "output_type": "execute_result",
     "data": {
      "text/plain": [
       "Invoice Date      datetime64[ns, America/New_York]\n",
       "Invoice #                                  float64\n",
       "Vendor ID                                  float64\n",
       "Invoice Amount                             float64\n",
       "Account Code                                object\n",
       "Mail Date         datetime64[ns, America/New_York]\n",
       "Amount Paid                                float64\n",
       " Pymt Received    datetime64[ns, America/New_York]\n",
       "Service Start     datetime64[ns, America/New_York]\n",
       "Service End       datetime64[ns, America/New_York]\n",
       "dtype: object"
      ]
     },
     "metadata": {},
     "execution_count": 17
    }
   ],
   "source": [
    "# Export all files\n",
    "atlas.to_pickle(constants.PREPROCESSED_ATLAS_FILE_PATH)\n",
    "forecast.to_pickle(constants.PREPROCESSED_FORECAST_DATA_FILE_PATH)\n",
    "revenue2020.to_pickle(constants.PREPROCESSED_REVENUE2020_FILE_PATH)\n",
    "revenue2020A.to_pickle(constants.PREPROCESSED_REVENUE2020A_FILE_PATH)"
   ]
  }
 ],
 "metadata": {
  "kernelspec": {
   "name": "Python 3.8.3 64-bit ('pyvizenv': conda)",
   "display_name": "Python 3.8.3 64-bit ('pyvizenv': conda)",
   "metadata": {
    "interpreter": {
     "hash": "9b71b9fa21544dd8a39d3650f5526997ede89e0b97dc642fc8071b919dea00e5"
    }
   }
  },
  "language_info": {
   "codemirror_mode": {
    "name": "ipython",
    "version": 3
   },
   "file_extension": ".py",
   "mimetype": "text/x-python",
   "name": "python",
   "nbconvert_exporter": "python",
   "pygments_lexer": "ipython3",
   "version": "3.8.3-final"
  }
 },
 "nbformat": 4,
 "nbformat_minor": 4
}