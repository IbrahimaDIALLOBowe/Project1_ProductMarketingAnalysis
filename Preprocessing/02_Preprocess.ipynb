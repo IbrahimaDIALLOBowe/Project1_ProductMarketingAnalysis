{
 "cells": [
  {
   "cell_type": "code",
   "execution_count": 56,
   "metadata": {},
   "outputs": [],
   "source": [
    "# TODO Is it de-anonymize or anonymize?\n",
    "\n",
    "# initial imports\n",
    "import os\n",
    "import pandas as pd\n",
    "import matplotlib.pyplot as plt\n",
    "import plotly.express as px\n",
    "import hvplot.pandas\n",
    "import panel as pn\n",
    "from pathlib import Path\n",
    "from dotenv import load_dotenv\n",
    "from panel.interact import interact\n",
    "from panel import widgets\n",
    "from string import digits\n",
    "import csv\n",
    "import json\n",
    "import numpy as np\n",
    "\n",
    "pn.extension()\n",
    "\n",
    "%matplotlib inline"
   ]
  },
  {
   "cell_type": "code",
   "execution_count": 57,
   "metadata": {},
   "outputs": [],
   "source": [
    "# Function definitions: TODO move to .py\n",
    "\n",
    "## Data cleaning\n",
    "def remove_strings_from_customer_names(original_customer_name):\n",
    "    invalid_strings = [\"PYMT\", \"DUE\"]\n",
    "    for invalid_item in invalid_strings:\n",
    "        original_customer_name = original_customer_name.replace(invalid_item, \"\")\n",
    "    return original_customer_name.strip()\n",
    "\n",
    "def remove_numbers_from_customer_names(original_customer_name):\n",
    "    remove_digits = str.maketrans('', '', digits) \n",
    "    return original_customer_name.translate(remove_digits).strip()  \n",
    "\n",
    "def cleanup_customer_names(paying_customers_raw):\n",
    "    paying_customers_cleanedup = []\n",
    "    for customer in paying_customers_raw:\n",
    "        corrected_customer_name = str(customer)\n",
    "        #corrected_customer_name = str(customer).upper()\n",
    "        corrected_customer_name = remove_strings_from_customer_names(corrected_customer_name)\n",
    "        corrected_customer_name = remove_numbers_from_customer_names(corrected_customer_name)\n",
    "        #corrected_customer_name = corrected_customer_name.title()\n",
    "        paying_customers_cleanedup.append(corrected_customer_name)\n",
    "    return paying_customers_cleanedup\n",
    "\n",
    "def build_name_mapping(paying_customers_cleanedup):\n",
    "    name_mapping = {}\n",
    "    n = 1\n",
    "    for customer in paying_customers_cleanedup:\n",
    "        if not customer in name_mapping:\n",
    "            name_mapping[customer] = \"University \" + str(n)\n",
    "            n += 1\n",
    "    return name_mapping\n",
    "\n",
    "def read_name_mapping():\n",
    "    with open(MAPPING_FILE_PATH, \"r\") as file:\n",
    "        return json.loads(file.read())\n",
    "\n",
    "def anonymize_customer_list(customer_list):\n",
    "    anonymized_customer_list = []\n",
    "    for customer in customer_list:\n",
    "        anonymized_customer_list.append(customer_name_mapping[customer])\n",
    "    return anonymized_customer_list\n"
   ]
  },
  {
   "cell_type": "code",
   "execution_count": 58,
   "metadata": {},
   "outputs": [],
   "source": [
    "# Constants - TODO Move to .py\n",
    "MAPPING_DIR                     = Path(\"../Resources/Mappings\")\n",
    "DATA_DIR_RAW                    = Path(\"../Resources/01_Raw\")\n",
    "DATA_DIR_ANONYMIZED             = Path(\"../Resources/02_Anonymized\")\n",
    "DATA_DIR_PREPROCESSED           = Path(\"../Resources/03_Preprocessed\")\n",
    "DATA_DIR_PROCESSED              = Path(\"../Resources/04_Processed\")\n",
    "\n",
    "MAPPING_FILE_PATH               = os.path.join(MAPPING_DIR, Path(\"CustomerNameMapping.json\"))\n",
    "\n",
    "RAW_ATLAS_FILE_PATH             = os.path.join(DATA_DIR_RAW, Path(\"ATLAS.csv\"))\n",
    "RAW_FORECAST_DATA_FILE_PATH     = os.path.join(DATA_DIR_RAW, Path(\"2021 forecast CSV.csv\"))\n",
    "RAW_REVENUE2020_FILE_PATH       = os.path.join(DATA_DIR_RAW, Path(\"Revenue2020.csv\"))\n",
    "RAW_REVENUE2020A_FILE_PATH      = os.path.join(DATA_DIR_RAW, Path(\"Revenue2020A.csv\"))\n",
    "\n",
    "ANON_ATLAS_FILE_PATH            = os.path.join(DATA_DIR_ANONYMIZED, Path(\"ATLAS.csv\"))\n",
    "ANON_FORECAST_DATA_FILE_PATH    = os.path.join(DATA_DIR_ANONYMIZED, Path(\"2021 forecast CSV.csv\"))\n",
    "ANON_REVENUE2020_FILE_PATH      = os.path.join(DATA_DIR_ANONYMIZED, Path(\"Revenue2020.csv\"))\n",
    "ANON_REVENUE2020A_FILE_PATH     = os.path.join(DATA_DIR_ANONYMIZED, Path(\"Revenue2020A.csv\"))"
   ]
  },
  {
   "cell_type": "code",
   "execution_count": 67,
   "metadata": {},
   "outputs": [],
   "source": [
    "def cleanup_date_strings(date_string_list):\n",
    "    date_list = []\n",
    "    for date_string in date_string_list:\n",
    "        try:\n",
    "            date_list.append( pd.Timestamp(date_string.replace(\"//\", \"/\"), tz=\"America/New_York\") )\n",
    "        except:\n",
    "            print(f\"Failed to parse: {date_string}\")\n",
    "    return date_list"
   ]
  },
  {
   "cell_type": "code",
   "execution_count": 69,
   "metadata": {},
   "outputs": [
    {
     "output_type": "execute_result",
     "data": {
      "text/plain": [
       "                            Invoice Date  Invoice # Invoice Amount  \\\n",
       "Customers                                                            \n",
       "University 1   2015-03-20 00:00:00-04:00  ATLAS 315     $72,000.00   \n",
       "University 102 2015-05-28 00:00:00-04:00      AJ501      $3,500.00   \n",
       "University 3   2015-06-23 00:00:00-04:00      AJ502      $3,500.00   \n",
       "University 4   2015-06-26 00:00:00-04:00      AJ503      $6,500.00   \n",
       "University 5   2015-10-07 00:00:00-04:00      AJ504        $750.00   \n",
       "\n",
       "               Subscription            Account Code   \\\n",
       "Customers                                              \n",
       "University 1         1 Year  4700-0-00-00000-18-0000   \n",
       "University 102       1 Year  4700-0-00-00000-16-0000   \n",
       "University 3         1 Year  4700-0-00-00000-17-0000   \n",
       "University 4         1 Year  4700-0-00-00000-32-0000   \n",
       "University 5         1 Year  4700-0-00-00000-20-0000   \n",
       "\n",
       "                                      Dates of service   \n",
       "Customers                                                \n",
       "University 1     1 Year Subscription 3/18/15 to 6/30/16  \n",
       "University 102    1 Year Subscription 6/1/15 to 6/30/16  \n",
       "University 3     1 Year Subscription 6/10/15 to 6/30/16  \n",
       "University 4      1 Year Subscription 6/1/15 to 6/30/16  \n",
       "University 5    1 Year Subscription 10/05/15 to 9/30/16  "
      ],
      "text/html": "<div>\n<style scoped>\n    .dataframe tbody tr th:only-of-type {\n        vertical-align: middle;\n    }\n\n    .dataframe tbody tr th {\n        vertical-align: top;\n    }\n\n    .dataframe thead th {\n        text-align: right;\n    }\n</style>\n<table border=\"1\" class=\"dataframe\">\n  <thead>\n    <tr style=\"text-align: right;\">\n      <th></th>\n      <th>Invoice Date</th>\n      <th>Invoice #</th>\n      <th>Invoice Amount</th>\n      <th>Subscription</th>\n      <th>Account Code</th>\n      <th>Dates of service</th>\n    </tr>\n    <tr>\n      <th>Customers</th>\n      <th></th>\n      <th></th>\n      <th></th>\n      <th></th>\n      <th></th>\n      <th></th>\n    </tr>\n  </thead>\n  <tbody>\n    <tr>\n      <th>University 1</th>\n      <td>2015-03-20 00:00:00-04:00</td>\n      <td>ATLAS 315</td>\n      <td>$72,000.00</td>\n      <td>1 Year</td>\n      <td>4700-0-00-00000-18-0000</td>\n      <td>1 Year Subscription 3/18/15 to 6/30/16</td>\n    </tr>\n    <tr>\n      <th>University 102</th>\n      <td>2015-05-28 00:00:00-04:00</td>\n      <td>AJ501</td>\n      <td>$3,500.00</td>\n      <td>1 Year</td>\n      <td>4700-0-00-00000-16-0000</td>\n      <td>1 Year Subscription 6/1/15 to 6/30/16</td>\n    </tr>\n    <tr>\n      <th>University 3</th>\n      <td>2015-06-23 00:00:00-04:00</td>\n      <td>AJ502</td>\n      <td>$3,500.00</td>\n      <td>1 Year</td>\n      <td>4700-0-00-00000-17-0000</td>\n      <td>1 Year Subscription 6/10/15 to 6/30/16</td>\n    </tr>\n    <tr>\n      <th>University 4</th>\n      <td>2015-06-26 00:00:00-04:00</td>\n      <td>AJ503</td>\n      <td>$6,500.00</td>\n      <td>1 Year</td>\n      <td>4700-0-00-00000-32-0000</td>\n      <td>1 Year Subscription 6/1/15 to 6/30/16</td>\n    </tr>\n    <tr>\n      <th>University 5</th>\n      <td>2015-10-07 00:00:00-04:00</td>\n      <td>AJ504</td>\n      <td>$750.00</td>\n      <td>1 Year</td>\n      <td>4700-0-00-00000-20-0000</td>\n      <td>1 Year Subscription 10/05/15 to 9/30/16</td>\n    </tr>\n  </tbody>\n</table>\n</div>"
     },
     "metadata": {},
     "execution_count": 69
    }
   ],
   "source": [
    "# Read anonymized data\n",
    "atlas           = pd.read_csv(ANON_ATLAS_FILE_PATH, index_col=\"Customers\")\n",
    "forecast        = pd.read_csv(ANON_FORECAST_DATA_FILE_PATH, index_col=\"Organization Name\")\n",
    "revenue2020     = pd.read_csv(ANON_REVENUE2020_FILE_PATH, index_col=\"Name\")\n",
    "revenue2020A    = pd.read_csv(ANON_REVENUE2020A_FILE_PATH, index_col=\"Payee Name\")\n",
    "\n",
    "atlas[\"Invoice Date\"] = cleanup_date_strings(atlas[\"Invoice Date\"])\n",
    "# atlas[\"Invoice Date\"] = np.arange(0, len(atlas[\"Invoice Date\"]))\n",
    "atlas.head()"
   ]
  },
  {
   "cell_type": "code",
   "execution_count": 66,
   "metadata": {},
   "outputs": [
    {
     "output_type": "execute_result",
     "data": {
      "text/plain": [
       "'1/2/3'"
      ]
     },
     "metadata": {},
     "execution_count": 66
    }
   ],
   "source": [
    "date_string = \"1/2//3\"\n",
    "date_string.replace(\"//\", \"/\")"
   ]
  },
  {
   "cell_type": "code",
   "execution_count": null,
   "metadata": {},
   "outputs": [],
   "source": []
  }
 ],
 "metadata": {
  "kernelspec": {
   "name": "Python 3.8.3 64-bit ('pyvizenv': conda)",
   "display_name": "Python 3.8.3 64-bit ('pyvizenv': conda)",
   "metadata": {
    "interpreter": {
     "hash": "9b71b9fa21544dd8a39d3650f5526997ede89e0b97dc642fc8071b919dea00e5"
    }
   }
  },
  "language_info": {
   "codemirror_mode": {
    "name": "ipython",
    "version": 3
   },
   "file_extension": ".py",
   "mimetype": "text/x-python",
   "name": "python",
   "nbconvert_exporter": "python",
   "pygments_lexer": "ipython3",
   "version": "3.8.3-final"
  }
 },
 "nbformat": 4,
 "nbformat_minor": 4
}