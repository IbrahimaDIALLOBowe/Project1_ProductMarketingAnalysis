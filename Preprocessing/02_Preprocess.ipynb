{
 "cells": [
  {
   "cell_type": "code",
   "execution_count": 112,
   "metadata": {},
   "outputs": [],
   "source": [
    "# TODO Is it de-anonymize or anonymize?\n",
    "\n",
    "# initial imports\n",
    "import os\n",
    "import pandas as pd\n",
    "import matplotlib.pyplot as plt\n",
    "import plotly.express as px\n",
    "import hvplot.pandas\n",
    "import panel as pn\n",
    "from pathlib import Path\n",
    "from dotenv import load_dotenv\n",
    "from panel.interact import interact\n",
    "from panel import widgets\n",
    "from string import digits\n",
    "import csv\n",
    "import json\n",
    "import numpy as np\n",
    "\n",
    "pn.extension()\n",
    "\n",
    "%matplotlib inline"
   ]
  },
  {
   "cell_type": "code",
   "execution_count": 113,
   "metadata": {},
   "outputs": [],
   "source": [
    "# Function definitions: TODO move to .py\n",
    "\n",
    "## Data cleaning\n",
    "def remove_strings_from_customer_names(original_customer_name):\n",
    "    invalid_strings = [\"PYMT\", \"DUE\"]\n",
    "    for invalid_item in invalid_strings:\n",
    "        original_customer_name = original_customer_name.replace(invalid_item, \"\")\n",
    "    return original_customer_name.strip()\n",
    "\n",
    "def remove_numbers_from_customer_names(original_customer_name):\n",
    "    remove_digits = str.maketrans('', '', digits) \n",
    "    return original_customer_name.translate(remove_digits).strip()  \n",
    "\n",
    "def cleanup_customer_names(paying_customers_raw):\n",
    "    paying_customers_cleanedup = []\n",
    "    for customer in paying_customers_raw:\n",
    "        corrected_customer_name = str(customer)\n",
    "        #corrected_customer_name = str(customer).upper()\n",
    "        corrected_customer_name = remove_strings_from_customer_names(corrected_customer_name)\n",
    "        corrected_customer_name = remove_numbers_from_customer_names(corrected_customer_name)\n",
    "        #corrected_customer_name = corrected_customer_name.title()\n",
    "        paying_customers_cleanedup.append(corrected_customer_name)\n",
    "    return paying_customers_cleanedup\n",
    "\n",
    "def build_name_mapping(paying_customers_cleanedup):\n",
    "    name_mapping = {}\n",
    "    n = 1\n",
    "    for customer in paying_customers_cleanedup:\n",
    "        if not customer in name_mapping:\n",
    "            name_mapping[customer] = \"University \" + str(n)\n",
    "            n += 1\n",
    "    return name_mapping\n",
    "\n",
    "def read_name_mapping():\n",
    "    with open(MAPPING_FILE_PATH, \"r\") as file:\n",
    "        return json.loads(file.read())\n",
    "\n",
    "def anonymize_customer_list(customer_list):\n",
    "    anonymized_customer_list = []\n",
    "    for customer in customer_list:\n",
    "        anonymized_customer_list.append(customer_name_mapping[customer])\n",
    "    return anonymized_customer_list\n"
   ]
  },
  {
   "cell_type": "code",
   "execution_count": 114,
   "metadata": {},
   "outputs": [],
   "source": [
    "# Constants - TODO Move to .py\n",
    "MAPPING_DIR                     = Path(\"../Resources/Mappings\")\n",
    "DATA_DIR_RAW                    = Path(\"../Resources/01_Raw\")\n",
    "DATA_DIR_ANONYMIZED             = Path(\"../Resources/02_Anonymized\")\n",
    "DATA_DIR_PREPROCESSED           = Path(\"../Resources/03_Preprocessed\")\n",
    "DATA_DIR_PROCESSED              = Path(\"../Resources/04_Processed\")\n",
    "\n",
    "MAPPING_FILE_PATH               = os.path.join(MAPPING_DIR, Path(\"CustomerNameMapping.json\"))\n",
    "\n",
    "RAW_ATLAS_FILE_PATH             = os.path.join(DATA_DIR_RAW, Path(\"ATLAS.csv\"))\n",
    "RAW_FORECAST_DATA_FILE_PATH     = os.path.join(DATA_DIR_RAW, Path(\"2021 forecast CSV.csv\"))\n",
    "RAW_REVENUE2020_FILE_PATH       = os.path.join(DATA_DIR_RAW, Path(\"Revenue2020.csv\"))\n",
    "RAW_REVENUE2020A_FILE_PATH      = os.path.join(DATA_DIR_RAW, Path(\"Revenue2020A.csv\"))\n",
    "\n",
    "ANON_ATLAS_FILE_PATH            = os.path.join(DATA_DIR_ANONYMIZED, Path(\"ATLAS.csv\"))\n",
    "ANON_FORECAST_DATA_FILE_PATH    = os.path.join(DATA_DIR_ANONYMIZED, Path(\"2021 forecast CSV.csv\"))\n",
    "ANON_REVENUE2020_FILE_PATH      = os.path.join(DATA_DIR_ANONYMIZED, Path(\"Revenue2020.csv\"))\n",
    "ANON_REVENUE2020A_FILE_PATH     = os.path.join(DATA_DIR_ANONYMIZED, Path(\"Revenue2020A.csv\"))"
   ]
  },
  {
   "cell_type": "code",
   "execution_count": 115,
   "metadata": {},
   "outputs": [],
   "source": [
    "def cleanup_date_string_list(date_string_list):\n",
    "    date_list = []\n",
    "    for date_string in date_string_list:\n",
    "        try:\n",
    "            date_list.append( pd.Timestamp(date_string.replace(\"//\", \"/\"), tz=\"America/New_York\") )\n",
    "        except:\n",
    "            print(f\"Failed to parse: {date_string}\")\n",
    "    return date_list\n",
    "\n",
    "def cleanup_dollar_string(dollars_string):\n",
    "    return dollars_string.replace('$','').replace(',', '').astype('float')\n",
    "\n",
    "def cleanup_dollar_string_list(dollars_list_in):\n",
    "    dollars_list_out = []\n",
    "    for dollars_string in dollars_list_in:\n",
    "        try:\n",
    "            dollars_list_out.append( cleanup_dollar_string(dollars_string) )\n",
    "        except:\n",
    "            print(f\"Failed to parse: {dollars_string}\")\n",
    "    return dollars_list_out"
   ]
  },
  {
   "cell_type": "code",
   "execution_count": 116,
   "metadata": {},
   "outputs": [],
   "source": [
    "# Read anonymized data\n",
    "atlas           = pd.read_csv(ANON_ATLAS_FILE_PATH, index_col=\"Customers\")\n",
    "forecast        = pd.read_csv(ANON_FORECAST_DATA_FILE_PATH, index_col=\"Organization Name\")\n",
    "revenue2020     = pd.read_csv(ANON_REVENUE2020_FILE_PATH, index_col=\"Name\")\n",
    "revenue2020A    = pd.read_csv(ANON_REVENUE2020A_FILE_PATH, index_col=\"Payee Name\")"
   ]
  },
  {
   "cell_type": "code",
   "execution_count": 117,
   "metadata": {
    "tags": []
   },
   "outputs": [
    {
     "output_type": "stream",
     "name": "stdout",
     "text": [
      "Failed to parse: $72,000.00\nFailed to parse: $3,500.00\nFailed to parse: $3,500.00\nFailed to parse: $6,500.00\nFailed to parse: $750.00\nFailed to parse: $3,400.00\nFailed to parse: $28,000.00\nFailed to parse: $16,200.00\nFailed to parse: $67,000.00\nFailed to parse: $3,500.00\nFailed to parse: $750.00\nFailed to parse: $750.00\nFailed to parse: $2,166.67\nFailed to parse: $2,166.67\nFailed to parse: $2,166.67\nFailed to parse: $3,500.00\nFailed to parse: $750.00\nFailed to parse: $750.00\nFailed to parse: $750.00\nFailed to parse: $3,500.00\nFailed to parse: $1,000.00\nFailed to parse: $750.00\nFailed to parse: $750.00\nFailed to parse: $6,600.00\nFailed to parse: $3,500.00\nFailed to parse: $2,850.00\nFailed to parse: $3,500.00\nFailed to parse: $750.00\nFailed to parse: $9,450.00\nFailed to parse: $750.00\nFailed to parse: $3,500.00\nFailed to parse: $750.00\nFailed to parse: $750.00\nFailed to parse: $2,450.00\nFailed to parse: $750.00\nFailed to parse: $2,450.00\nFailed to parse: $2,450.00\nFailed to parse: $50,000.00\nFailed to parse: $13,650.00\nFailed to parse: $3,500.00\nFailed to parse: $750.00\nFailed to parse: $750.00\nFailed to parse: $1,000.00\nFailed to parse: $3,500.00\nFailed to parse: $750.00\nFailed to parse: $3,500.00\nFailed to parse: $3,500.00\nFailed to parse: $750.00\nFailed to parse: $3,500.00\nFailed to parse: $750.00\nFailed to parse: $750.00\nFailed to parse: $750.00\nFailed to parse: $750.00\nFailed to parse: $50,000.00\nFailed to parse: $8,000.00\nFailed to parse: $750.00\nFailed to parse: $750.00\nFailed to parse: $5,500.00\nFailed to parse: $3,500.00\nFailed to parse: $7,350.00\nFailed to parse: $4,750.00\nFailed to parse: $1,500.00\nFailed to parse: $7,500.00\nFailed to parse: $750.00\nFailed to parse: $4,999.00\nFailed to parse: $4,500.00\nFailed to parse: $1,500.00\nFailed to parse: $750.00\nFailed to parse: $1,500.00\nFailed to parse: $6,300.00\nFailed to parse: $3,500.00\nFailed to parse: $3,000.00\nFailed to parse: $750.00\nFailed to parse: $2,630.00\nFailed to parse: $750.00\nFailed to parse: $15,750.00\nFailed to parse: $750.00\nFailed to parse: $10,500.00\nFailed to parse: $2,550.00\nFailed to parse: $3,500.00\nFailed to parse: $750.00\nFailed to parse: $750.00\nFailed to parse: $10,500.00\nFailed to parse: $4,500.00\nFailed to parse: $9,000.00\nFailed to parse: $3,000.00\nFailed to parse: $11,500.00\nFailed to parse: $50,000.00\nFailed to parse: $750.00\nFailed to parse: $4,500.00\nFailed to parse: $750.00\nFailed to parse: $1,750.00\nFailed to parse: $5,880.00\nFailed to parse: $7,500.00\nFailed to parse: $6,300.00\nFailed to parse: $12,600.00\nFailed to parse: $6,300.00\nFailed to parse: $2,560.00\nFailed to parse: $2,700.00\nFailed to parse: $750.00\nFailed to parse: $750.00\nFailed to parse: $3,760.00\nFailed to parse: $750.00\nFailed to parse: $3,500.00\nFailed to parse: $1,700.00\nFailed to parse: $7,560.00\nFailed to parse: $2,500.00\nFailed to parse: $1,750.00\nFailed to parse: $1,700.00\nFailed to parse: $12,500.00\nFailed to parse: $1,500.00\nFailed to parse: $2,000.00\nFailed to parse: $26,250.00\nFailed to parse: $750.00\nFailed to parse: $1,700.00\nFailed to parse: $2,700.00\nFailed to parse: $6,500.00\nFailed to parse: $3,500.00\nFailed to parse: $1,500.00\nFailed to parse: $4,500.00\nFailed to parse: $1,500.00\nFailed to parse: $1,500.00\nFailed to parse: $250.00\nFailed to parse: $2,750.00\nFailed to parse: $3,500.00\nFailed to parse: $2,650.00\nFailed to parse: $7,500.00\nFailed to parse: $50,000.00\nFailed to parse: $750.00\nFailed to parse: $5,460.00\nFailed to parse: $750.00\nFailed to parse: $1,500.00\nFailed to parse: $5,500.00\nFailed to parse: $750.00\nFailed to parse: $750.00\nFailed to parse: $5,775.00\nFailed to parse: $1,900.00\nFailed to parse: $500.00\nFailed to parse: $750.00\nFailed to parse: $15,750.00\nFailed to parse: $1,700.00\nFailed to parse: $6,825.00\nFailed to parse: $3,100.00\nFailed to parse: $500.00\nFailed to parse: $3,000.00\nFailed to parse: $300.00\nFailed to parse: $5,670.00\nFailed to parse: $6,300.00\nFailed to parse: $1,500.00\nFailed to parse: $4,500.00\nFailed to parse: $5,000.00\nFailed to parse: $2,850.00\nFailed to parse: $3,500.00\nFailed to parse: $2,760.00\nFailed to parse: $6,300.00\nFailed to parse: $1,500.00\nFailed to parse: $3,600.00\nFailed to parse: $7,350.00\nFailed to parse: $1,500.00\nFailed to parse: $510.00\nFailed to parse: $750.00\nFailed to parse: $750.00\nFailed to parse: $3,500.00\nFailed to parse: $1,700.00\nFailed to parse: $3,000.00\nFailed to parse: $7,500.00\nFailed to parse: $1,700.00\nFailed to parse: $1,700.00\nFailed to parse: $2,700.00\nFailed to parse: $4,500.00\nFailed to parse: $2,000.00\nFailed to parse: $5,250.00\nFailed to parse: $1,500.00\nFailed to parse: $3,500.00\nFailed to parse: $1,500.00\nFailed to parse: $1,550.00\nFailed to parse: $1,750.00\nFailed to parse: $2,800.00\nFailed to parse: $2,270.00\nFailed to parse: $4,500.00\nFailed to parse: $2,100.00\nFailed to parse: $1,500.00\nFailed to parse: $7,500.00\nFailed to parse: $1,500.00\nFailed to parse: $750.00\nFailed to parse: $4,200.00\nFailed to parse: $3,500.00\nFailed to parse: $1,000.00\nFailed to parse: $1,750.00\nFailed to parse: $6,850.00\nFailed to parse: $1,250.00\nFailed to parse: $3,500.00\nFailed to parse: $1,000.00\nFailed to parse: $50,000.00\nFailed to parse: $1,250.00\nFailed to parse: $750.00\nFailed to parse: $1,000.00\nFailed to parse: $4,000.00\nFailed to parse: $7,350.00\nFailed to parse: $2,100.00\nFailed to parse: $1,000.00\nFailed to parse: $5,250.00\nFailed to parse: $1,000.00\nFailed to parse: $8,425.00\nFailed to parse: $750.00\nFailed to parse: $3,850.00\nFailed to parse: $1,000.00\nFailed to parse: $6,450.00\nFailed to parse: $2,500.00\nFailed to parse: $2,000.00\nFailed to parse: $3,000.00\nFailed to parse: $1,950.00\nFailed to parse: $4,500.00\nFailed to parse: $3,600.00\nFailed to parse: $7,350.00\nFailed to parse: $2,180.00\nFailed to parse: $4,500.00\nFailed to parse: $1,000.00\nFailed to parse: $2,500.00\nFailed to parse: $170.00\nFailed to parse: $2,000.00\nFailed to parse: $20,000.00\nFailed to parse: $1,000.00\nFailed to parse: $3,260.00\nFailed to parse: $750.00\nFailed to parse: $2,000.00\nFailed to parse: $2,500.00\nFailed to parse: $1,550.00\nFailed to parse: $2,710.00\nFailed to parse: $3,500.00\nFailed to parse: $1,500.00\nFailed to parse: $1,200.00\nFailed to parse: $1,200.00\nFailed to parse: $1,880.00\nFailed to parse: $1,000.00\nFailed to parse: $510.00\nFailed to parse: $1,500.00\nFailed to parse: $750.00\nFailed to parse: $6,000.00\nFailed to parse: $1,500.00\nFailed to parse: $1,500.00\nFailed to parse: $15,000.00\nFailed to parse: $30,000.00\nFailed to parse: $16,000.00\nFailed to parse: $1,000.00\nFailed to parse: $860.00\nFailed to parse: $2,000.00\nFailed to parse: $130.00\nFailed to parse: $1,250.00\nFailed to parse: $1,650.00\nFailed to parse: $1,250.00\nFailed to parse: $200.00\nFailed to parse: $500.00\nFailed to parse: $2,500.00\nFailed to parse: $250.00\nFailed to parse: $1,100.00\nFailed to parse: $600.00\nFailed to parse: $250.00\nFailed to parse: $2,500.00\nFailed to parse: $2,300.00\nFailed to parse: $3,000.00\nFailed to parse: $2,350.00\nFailed to parse: $1,000.00\nFailed to parse: $250.00\nFailed to parse: $750.00\nFailed to parse: $500.00\nFailed to parse: $1,250.00\nFailed to parse: $450.00\nFailed to parse: $1,600.00\nFailed to parse: $750.00\nFailed to parse: $1,730.00\nFailed to parse: $310.00\nFailed to parse: $6,000.00\nFailed to parse: $1,750.00\nFailed to parse: $1,000.00\nFailed to parse: $3,500.00\nFailed to parse: $412.00\nFailed to parse: $2,875.00\nFailed to parse: $875.00\nFailed to parse: $875.00\nFailed to parse: $1,125.00\nFailed to parse: $1,000.00\nFailed to parse: $7,500.00\nFailed to parse: $563.00\nFailed to parse: $3,922.00\nFailed to parse: $438.00\nFailed to parse: $2,125.00\nFailed to parse: $1,000.00\nFailed to parse: $625.00\nFailed to parse: $516.00\nFailed to parse: $625.00\nFailed to parse: $587.00\nFailed to parse: $250.00\nFailed to parse: $5,500.00\nFailed to parse: $13,920.00\nFailed to parse: $4,830.00\nFailed to parse: $2,500.00\nFailed to parse: $250.00\nFailed to parse: $687.00\nFailed to parse: $625.00\nFailed to parse: $1,375.00\nFailed to parse: $455.00\nFailed to parse: $807.00\nFailed to parse: $425.00\nFailed to parse: $1,625.00\nFailed to parse: $1,825.00\nFailed to parse: $100.00\nFailed to parse: $1,666.00\nFailed to parse: $1,625.00\nFailed to parse: $750.00\nFailed to parse: $265.00\nFailed to parse: $62.50\nFailed to parse: $132.50\nFailed to parse: $625.00\nFailed to parse: $875.00\nFailed to parse: $500.00\nFailed to parse: $3,000.00\nFailed to parse: $875.00\nFailed to parse: $1,375.00\nFailed to parse: $1,900.00\nFailed to parse: $50,000.00\nFailed to parse: $130.00\nFailed to parse: $1,900.00\nFailed to parse: $2,100.00\nFailed to parse: $750.00\nFailed to parse: $3,500.00\nFailed to parse: $4,200.00\nFailed to parse: $4,600.00\nFailed to parse: $625.00\nFailed to parse: $3,810.00\nFailed to parse: $625.00\nFailed to parse: $5,500.00\nFailed to parse: $625.00\nFailed to parse: $250.00\nFailed to parse: $150.00\nFailed to parse: $547.43\nFailed to parse: $1,700.00\nFailed to parse: $450.00\nFailed to parse: $500.00\nFailed to parse: $875.00\nFailed to parse: $225.00\nFailed to parse: $875.00\nFailed to parse: $3,500.00\nFailed to parse: $1,600.00\nFailed to parse: $16,000.00\nFailed to parse: $5,250.00\nFailed to parse: $527.00\nFailed to parse: $1,000.00\nFailed to parse: $500.00\nFailed to parse: $2,000.00\nFailed to parse: $625.00\nFailed to parse: $2,500.00\nFailed to parse: $2,700.00\nFailed to parse: $21,500.00\nFailed to parse: $1,000.00\nFailed to parse: $476.00\nFailed to parse: $2,059.00\nFailed to parse: $2,500.00\nFailed to parse: $500.00\nFailed to parse: $10,500.00\nFailed to parse: $2,882.00\nFailed to parse: $6,000.00\nFailed to parse: $1,000.00\nFailed to parse: $1,900.00\nFailed to parse: $3,000.00\nFailed to parse: $2,000.00\nFailed to parse: $750.00\nFailed to parse: $2,500.00\nFailed to parse: $1,000.00\nFailed to parse: $2,000.00\nFailed to parse: $4,800.00\nFailed to parse: $1,800.00\nFailed to parse: $2,250.00\nFailed to parse: $875.00\nFailed to parse: $375.00\nFailed to parse: $7,500.00\nFailed to parse: $4,500.00\nFailed to parse: $7,500.00\nFailed to parse: $1,158.00\nFailed to parse: $12,500.00\nFailed to parse: $3,344.25\nFailed to parse: $5,252.00\nFailed to parse: $2,000.00\nFailed to parse: $1,800.00\nFailed to parse: $3,000.00\nFailed to parse: $5,500.00\nFailed to parse: $625.00\nFailed to parse: $4,500.00\nFailed to parse: $1,000.00\nFailed to parse: $500.00\nFailed to parse: $160.00\nFailed to parse: $1,029.00\nFailed to parse: $4,500.00\nFailed to parse: $3,500.00\nFailed to parse: $3,000.00\nFailed to parse: $540.33\nFailed to parse: $2,500.00\nFailed to parse: $6,500.00\nFailed to parse: $2,500.00\nFailed to parse: $2,058.80\nFailed to parse: $1,600.00\nFailed to parse: $2,500.00\nFailed to parse: $4,500.00\nFailed to parse: $1,000.00\nFailed to parse: $2,750.00\nFailed to parse: $2,650.00\nFailed to parse: $1,700.00\nFailed to parse: $3,500.00\nFailed to parse: $525.00\nFailed to parse: $1,000.00\nFailed to parse: $2,250.00\nFailed to parse: $2,500.00\nFailed to parse: $1,850.00\nFailed to parse: $1,920.00\nFailed to parse: $3,000.00\nFailed to parse: $2,500.00\nFailed to parse: $2,000.00\nFailed to parse: $2,200.00\nFailed to parse: $2,000.00\nFailed to parse: $1,650.00\nFailed to parse: $421.00\nFailed to parse: $1,200.00\nFailed to parse: $750.00\nFailed to parse: $1,500.00\nFailed to parse: $1,222.00\nFailed to parse: $3,500.00\nFailed to parse: $4,500.00\nFailed to parse: $4,000.00\nFailed to parse: $7,000.00\nFailed to parse: $6,500.00\nFailed to parse: $2,500.00\nFailed to parse: $2,000.00\nFailed to parse: $2,300.00\nFailed to parse: $1,470.00\nFailed to parse: $2,500.00\nFailed to parse: $525.00\nFailed to parse: $3,000.00\nFailed to parse: $2,250.00\nFailed to parse: $425.00\nFailed to parse: $2,600.00\nFailed to parse: $2,000.00\nFailed to parse: $7,560.00\nFailed to parse: $3,500.00\nFailed to parse: $1,500.00\nFailed to parse: $1,750.00\nFailed to parse: $3,700.00\nFailed to parse: $1,000.00\nFailed to parse: $550.00\nFailed to parse: $2,600.00\nFailed to parse: $1,150.00\nFailed to parse: $2,100.00\nFailed to parse: $2,000.00\nFailed to parse: $875.00\nFailed to parse: $738.01\nFailed to parse: $3,500.00\nFailed to parse: $237.50\nFailed to parse: $8,500.00\nFailed to parse: $562.00\nFailed to parse: $6,000.00\nFailed to parse: $2,600.00\nFailed to parse: $8,000.00\nFailed to parse: $1,800.00\nFailed to parse: $550.00\nFailed to parse: $2,350.00\nFailed to parse: $1,375.00\nFailed to parse: $11,350.00\nFailed to parse: $750.00\nFailed to parse: $750.00\nFailed to parse: $750.00\nFailed to parse: $1,610.00\nFailed to parse: $2,300.00\nFailed to parse: $2,000.00\nFailed to parse: $1,500.00\nFailed to parse: $2,500.00\nFailed to parse: $4,300.00\nFailed to parse: $450.00\nFailed to parse: $2,510.00\nFailed to parse: $575.00\nFailed to parse: $12,600.00\nFailed to parse: $1,280.00\nFailed to parse: $1,680.00\nFailed to parse: $1,500.00\nFailed to parse: $3,030.00\nFailed to parse: $1,750.00\nFailed to parse: $2,500.00\nFailed to parse: $2,500.00\nFailed to parse: $3,300.00\nFailed to parse: $5,000.00\nFailed to parse: $4,000.00\nFailed to parse: $562.00\nFailed to parse: $2,500.00\nFailed to parse: $950.00\nFailed to parse: $4,500.00\nFailed to parse: $150.00\nFailed to parse: $1,000.00\nFailed to parse: $3,500.00\nFailed to parse: $400.00\nFailed to parse: $2,500.00\nFailed to parse: $1,250.00\nFailed to parse: $437.00\nFailed to parse: $3,000.00\nFailed to parse: $1,650.00\nFailed to parse: $1,750.00\nFailed to parse: $800.00\nFailed to parse: $1,700.00\nFailed to parse: $4,000.00\nFailed to parse: $500.00\nFailed to parse: $565.00\nFailed to parse: $2,500.00\nFailed to parse: $6,500.00\nFailed to parse: $2,500.00\nFailed to parse: $2,070.00\nFailed to parse: $6,600.00\nFailed to parse: $5,100.00\nFailed to parse: $4,000.00\nFailed to parse: $550.00\nFailed to parse: $1,000.00\nFailed to parse: $500.00\nFailed to parse: $525.00\nFailed to parse: $555.00\nFailed to parse: $5,750.00\nFailed to parse: $3,000.00\nFailed to parse: $1,710.00\nFailed to parse: $5,000.00\nFailed to parse: $625.00\nFailed to parse: $5,500.00\nFailed to parse: $2,250.00\nFailed to parse: $400.00\nFailed to parse: $2,100.00\nFailed to parse: $625.00\nFailed to parse: $4,500.00\nFailed to parse: $1,825.00\nFailed to parse: $3,700.00\nFailed to parse: $10,800.00\nFailed to parse: $1,000.00\nFailed to parse: $500.00\nFailed to parse: $1,500.00\nFailed to parse: $4,500.00\nFailed to parse: $1,976.30\nFailed to parse: $6,000.00\nFailed to parse: $1,976.30\nFailed to parse: $2,300.00\nFailed to parse: $5,090.00\nFailed to parse: $2,000.00\nFailed to parse: $800.00\nFailed to parse: $2,480.00\nFailed to parse: $3,000.00\nFailed to parse: $625.00\nFailed to parse: $1,000.00\nFailed to parse: $1,250.00\nFailed to parse: $2,000.00\nFailed to parse: $4,650.00\nFailed to parse: $875.00\nFailed to parse: $15,800.00\nFailed to parse: $937.50\nFailed to parse: $1,710.00\nFailed to parse: $1,500.00\nFailed to parse: $587.00\nFailed to parse: $375.00\nFailed to parse: $1,500.00\nFailed to parse: $3,250.00\nFailed to parse: $4,500.00\nFailed to parse: $290.00\nFailed to parse: $208.30\nFailed to parse: $3,000.00\nFailed to parse: $625.00\nFailed to parse: $512.50\nFailed to parse: $500.00\nFailed to parse: $2,750.00\nFailed to parse: $500.00\nFailed to parse: $3,000.00\nFailed to parse: $391.00\nFailed to parse: $875.00\nFailed to parse: $4,350.00\nFailed to parse: $1,840.00\nFailed to parse: $700.00\nFailed to parse: $5,000.00\nFailed to parse: $750.00\nFailed to parse: $3,500.00\nFailed to parse: $875.00\nFailed to parse: $2,000.00\nFailed to parse: $875.00\nFailed to parse: $7,500.00\nFailed to parse: $250.00\nFailed to parse: $700.00\nFailed to parse: $1,000.00\nFailed to parse: $355.00\nFailed to parse: $1,750.00\nFailed to parse: $2,750.00\nFailed to parse: $500.00\nFailed to parse: $3,500.00\nFailed to parse: $462.00\nFailed to parse: $1,270.00\nFailed to parse: $2,500.00\nFailed to parse: $875.00\nFailed to parse: $130.00\nFailed to parse: $4,500.00\nFailed to parse: $3,000.00\nFailed to parse: $2,250.00\nFailed to parse: $360.00\nFailed to parse: $1,030.00\nFailed to parse: $100.00\nFailed to parse: $2,500.00\nFailed to parse: $4,500.00\nFailed to parse: $750.00\nFailed to parse: $125.00\nFailed to parse: $3,250.00\nFailed to parse: $1,000.00\nFailed to parse: $2,125.00\nFailed to parse: $2,500.00\nFailed to parse: $1,400.00\nFailed to parse: $800.00\nFailed to parse: $2,250.00\nFailed to parse: $50.00\nFailed to parse: $2,500.00\nFailed to parse: $3,250.00\nFailed to parse: $100.00\nFailed to parse: $190.00\nFailed to parse: $500.00\nFailed to parse: $200.00\nFailed to parse: $1,250.00\nFailed to parse: $3,000.00\nFailed to parse: $400.00\nFailed to parse: $1,500.00\nFailed to parse: $15,520.00\nFailed to parse: $3,500.00\nFailed to parse: $450.00\nFailed to parse: $8,880.00\nFailed to parse: $200.00\nFailed to parse: $495.00\nFailed to parse: $1,900.00\nFailed to parse: $200.00\nFailed to parse: $700.00\nFailed to parse: $1,625.00\nFailed to parse: $395.00\nFailed to parse: $500.00\nFailed to parse: $3,250.00\nFailed to parse: $21,000.00\nFailed to parse: $4,700.00\nFailed to parse: $1,200.00\nFailed to parse: $1,000.00\nFailed to parse: $4,500.00\nFailed to parse: $1,640.00\nFailed to parse: $4,800.00\nFailed to parse: $4,500.00\nFailed to parse: $6,500.00\nFailed to parse: $75.00\nFailed to parse: $500.00\nFailed to parse: $2,500.00\nFailed to parse: $410.00\nFailed to parse: $750.00\nFailed to parse: $16,052.00\nFailed to parse: $425.00\nFailed to parse: $100.00\nFailed to parse: $5,000.00\nFailed to parse: $562.00\nFailed to parse: $100.00\nFailed to parse: $300.00\nFailed to parse: $3,366.00\nFailed to parse: $26,250.00\nFailed to parse: $500.00\nFailed to parse: $2,500.00\nFailed to parse: $3,500.00\nFailed to parse: $40.00\nFailed to parse: $500.00\nFailed to parse: $200.00\nFailed to parse: $1,700.00\nFailed to parse: $2,250.00\nFailed to parse: $2,000.00\n"
     ]
    },
    {
     "output_type": "error",
     "ename": "ValueError",
     "evalue": "Length of values (0) does not match length of index (669)",
     "traceback": [
      "\u001b[1;31m---------------------------------------------------------------------------\u001b[0m",
      "\u001b[1;31mValueError\u001b[0m                                Traceback (most recent call last)",
      "\u001b[1;32m<ipython-input-117-d9537b1e0c00>\u001b[0m in \u001b[0;36m<module>\u001b[1;34m\u001b[0m\n\u001b[0;32m      1\u001b[0m \u001b[1;31m# Clean up ATLAS data\u001b[0m\u001b[1;33m\u001b[0m\u001b[1;33m\u001b[0m\u001b[1;33m\u001b[0m\u001b[0m\n\u001b[0;32m      2\u001b[0m \u001b[0matlas\u001b[0m\u001b[1;33m[\u001b[0m\u001b[1;34m\"Invoice Date\"\u001b[0m\u001b[1;33m]\u001b[0m       \u001b[1;33m=\u001b[0m \u001b[0mcleanup_date_string_list\u001b[0m\u001b[1;33m(\u001b[0m\u001b[0matlas\u001b[0m\u001b[1;33m[\u001b[0m\u001b[1;34m\"Invoice Date\"\u001b[0m\u001b[1;33m]\u001b[0m\u001b[1;33m)\u001b[0m\u001b[1;33m\u001b[0m\u001b[1;33m\u001b[0m\u001b[0m\n\u001b[1;32m----> 3\u001b[1;33m \u001b[0matlas\u001b[0m\u001b[1;33m[\u001b[0m\u001b[1;34m\"Invoice Amount\"\u001b[0m\u001b[1;33m]\u001b[0m     \u001b[1;33m=\u001b[0m \u001b[0mcleanup_dollar_string_list\u001b[0m\u001b[1;33m(\u001b[0m\u001b[0matlas\u001b[0m\u001b[1;33m[\u001b[0m\u001b[1;34m\"Invoice Amount\"\u001b[0m\u001b[1;33m]\u001b[0m\u001b[1;33m)\u001b[0m\u001b[1;33m\u001b[0m\u001b[1;33m\u001b[0m\u001b[0m\n\u001b[0m\u001b[0;32m      4\u001b[0m \u001b[0matlas\u001b[0m\u001b[1;33m.\u001b[0m\u001b[0mhead\u001b[0m\u001b[1;33m(\u001b[0m\u001b[1;33m)\u001b[0m\u001b[1;33m\u001b[0m\u001b[1;33m\u001b[0m\u001b[0m\n",
      "\u001b[1;32mC:\\ProgramData\\Anaconda3\\envs\\pyvizenv\\lib\\site-packages\\pandas\\core\\frame.py\u001b[0m in \u001b[0;36m__setitem__\u001b[1;34m(self, key, value)\u001b[0m\n\u001b[0;32m   3038\u001b[0m         \u001b[1;32melse\u001b[0m\u001b[1;33m:\u001b[0m\u001b[1;33m\u001b[0m\u001b[1;33m\u001b[0m\u001b[0m\n\u001b[0;32m   3039\u001b[0m             \u001b[1;31m# set column\u001b[0m\u001b[1;33m\u001b[0m\u001b[1;33m\u001b[0m\u001b[1;33m\u001b[0m\u001b[0m\n\u001b[1;32m-> 3040\u001b[1;33m             \u001b[0mself\u001b[0m\u001b[1;33m.\u001b[0m\u001b[0m_set_item\u001b[0m\u001b[1;33m(\u001b[0m\u001b[0mkey\u001b[0m\u001b[1;33m,\u001b[0m \u001b[0mvalue\u001b[0m\u001b[1;33m)\u001b[0m\u001b[1;33m\u001b[0m\u001b[1;33m\u001b[0m\u001b[0m\n\u001b[0m\u001b[0;32m   3041\u001b[0m \u001b[1;33m\u001b[0m\u001b[0m\n\u001b[0;32m   3042\u001b[0m     \u001b[1;32mdef\u001b[0m \u001b[0m_setitem_slice\u001b[0m\u001b[1;33m(\u001b[0m\u001b[0mself\u001b[0m\u001b[1;33m,\u001b[0m \u001b[0mkey\u001b[0m\u001b[1;33m:\u001b[0m \u001b[0mslice\u001b[0m\u001b[1;33m,\u001b[0m \u001b[0mvalue\u001b[0m\u001b[1;33m)\u001b[0m\u001b[1;33m:\u001b[0m\u001b[1;33m\u001b[0m\u001b[1;33m\u001b[0m\u001b[0m\n",
      "\u001b[1;32mC:\\ProgramData\\Anaconda3\\envs\\pyvizenv\\lib\\site-packages\\pandas\\core\\frame.py\u001b[0m in \u001b[0;36m_set_item\u001b[1;34m(self, key, value)\u001b[0m\n\u001b[0;32m   3114\u001b[0m         \"\"\"\n\u001b[0;32m   3115\u001b[0m         \u001b[0mself\u001b[0m\u001b[1;33m.\u001b[0m\u001b[0m_ensure_valid_index\u001b[0m\u001b[1;33m(\u001b[0m\u001b[0mvalue\u001b[0m\u001b[1;33m)\u001b[0m\u001b[1;33m\u001b[0m\u001b[1;33m\u001b[0m\u001b[0m\n\u001b[1;32m-> 3116\u001b[1;33m         \u001b[0mvalue\u001b[0m \u001b[1;33m=\u001b[0m \u001b[0mself\u001b[0m\u001b[1;33m.\u001b[0m\u001b[0m_sanitize_column\u001b[0m\u001b[1;33m(\u001b[0m\u001b[0mkey\u001b[0m\u001b[1;33m,\u001b[0m \u001b[0mvalue\u001b[0m\u001b[1;33m)\u001b[0m\u001b[1;33m\u001b[0m\u001b[1;33m\u001b[0m\u001b[0m\n\u001b[0m\u001b[0;32m   3117\u001b[0m         \u001b[0mNDFrame\u001b[0m\u001b[1;33m.\u001b[0m\u001b[0m_set_item\u001b[0m\u001b[1;33m(\u001b[0m\u001b[0mself\u001b[0m\u001b[1;33m,\u001b[0m \u001b[0mkey\u001b[0m\u001b[1;33m,\u001b[0m \u001b[0mvalue\u001b[0m\u001b[1;33m)\u001b[0m\u001b[1;33m\u001b[0m\u001b[1;33m\u001b[0m\u001b[0m\n\u001b[0;32m   3118\u001b[0m \u001b[1;33m\u001b[0m\u001b[0m\n",
      "\u001b[1;32mC:\\ProgramData\\Anaconda3\\envs\\pyvizenv\\lib\\site-packages\\pandas\\core\\frame.py\u001b[0m in \u001b[0;36m_sanitize_column\u001b[1;34m(self, key, value, broadcast)\u001b[0m\n\u001b[0;32m   3762\u001b[0m \u001b[1;33m\u001b[0m\u001b[0m\n\u001b[0;32m   3763\u001b[0m             \u001b[1;31m# turn me into an ndarray\u001b[0m\u001b[1;33m\u001b[0m\u001b[1;33m\u001b[0m\u001b[1;33m\u001b[0m\u001b[0m\n\u001b[1;32m-> 3764\u001b[1;33m             \u001b[0mvalue\u001b[0m \u001b[1;33m=\u001b[0m \u001b[0msanitize_index\u001b[0m\u001b[1;33m(\u001b[0m\u001b[0mvalue\u001b[0m\u001b[1;33m,\u001b[0m \u001b[0mself\u001b[0m\u001b[1;33m.\u001b[0m\u001b[0mindex\u001b[0m\u001b[1;33m)\u001b[0m\u001b[1;33m\u001b[0m\u001b[1;33m\u001b[0m\u001b[0m\n\u001b[0m\u001b[0;32m   3765\u001b[0m             \u001b[1;32mif\u001b[0m \u001b[1;32mnot\u001b[0m \u001b[0misinstance\u001b[0m\u001b[1;33m(\u001b[0m\u001b[0mvalue\u001b[0m\u001b[1;33m,\u001b[0m \u001b[1;33m(\u001b[0m\u001b[0mnp\u001b[0m\u001b[1;33m.\u001b[0m\u001b[0mndarray\u001b[0m\u001b[1;33m,\u001b[0m \u001b[0mIndex\u001b[0m\u001b[1;33m)\u001b[0m\u001b[1;33m)\u001b[0m\u001b[1;33m:\u001b[0m\u001b[1;33m\u001b[0m\u001b[1;33m\u001b[0m\u001b[0m\n\u001b[0;32m   3766\u001b[0m                 \u001b[1;32mif\u001b[0m \u001b[0misinstance\u001b[0m\u001b[1;33m(\u001b[0m\u001b[0mvalue\u001b[0m\u001b[1;33m,\u001b[0m \u001b[0mlist\u001b[0m\u001b[1;33m)\u001b[0m \u001b[1;32mand\u001b[0m \u001b[0mlen\u001b[0m\u001b[1;33m(\u001b[0m\u001b[0mvalue\u001b[0m\u001b[1;33m)\u001b[0m \u001b[1;33m>\u001b[0m \u001b[1;36m0\u001b[0m\u001b[1;33m:\u001b[0m\u001b[1;33m\u001b[0m\u001b[1;33m\u001b[0m\u001b[0m\n",
      "\u001b[1;32mC:\\ProgramData\\Anaconda3\\envs\\pyvizenv\\lib\\site-packages\\pandas\\core\\internals\\construction.py\u001b[0m in \u001b[0;36msanitize_index\u001b[1;34m(data, index)\u001b[0m\n\u001b[0;32m    745\u001b[0m     \"\"\"\n\u001b[0;32m    746\u001b[0m     \u001b[1;32mif\u001b[0m \u001b[0mlen\u001b[0m\u001b[1;33m(\u001b[0m\u001b[0mdata\u001b[0m\u001b[1;33m)\u001b[0m \u001b[1;33m!=\u001b[0m \u001b[0mlen\u001b[0m\u001b[1;33m(\u001b[0m\u001b[0mindex\u001b[0m\u001b[1;33m)\u001b[0m\u001b[1;33m:\u001b[0m\u001b[1;33m\u001b[0m\u001b[1;33m\u001b[0m\u001b[0m\n\u001b[1;32m--> 747\u001b[1;33m         raise ValueError(\n\u001b[0m\u001b[0;32m    748\u001b[0m             \u001b[1;34m\"Length of values \"\u001b[0m\u001b[1;33m\u001b[0m\u001b[1;33m\u001b[0m\u001b[0m\n\u001b[0;32m    749\u001b[0m             \u001b[1;34mf\"({len(data)}) \"\u001b[0m\u001b[1;33m\u001b[0m\u001b[1;33m\u001b[0m\u001b[0m\n",
      "\u001b[1;31mValueError\u001b[0m: Length of values (0) does not match length of index (669)"
     ]
    }
   ],
   "source": [
    "# Clean up ATLAS data\n",
    "atlas[\"Invoice Date\"]       = cleanup_date_string_list(atlas[\"Invoice Date\"])\n",
    "atlas[\"Invoice Amount\"]     = cleanup_dollar_string_list(atlas[\"Invoice Amount\"])\n",
    "atlas.head()"
   ]
  },
  {
   "cell_type": "code",
   "execution_count": 111,
   "metadata": {},
   "outputs": [
    {
     "output_type": "execute_result",
     "data": {
      "text/plain": [
       "list"
      ]
     },
     "metadata": {},
     "execution_count": 111
    }
   ],
   "source": [
    "type(atlas[\"Invoice Date\"].to_list()  )"
   ]
  },
  {
   "cell_type": "code",
   "execution_count": null,
   "metadata": {},
   "outputs": [],
   "source": []
  }
 ],
 "metadata": {
  "kernelspec": {
   "name": "Python 3.8.3 64-bit ('pyvizenv': conda)",
   "display_name": "Python 3.8.3 64-bit ('pyvizenv': conda)",
   "metadata": {
    "interpreter": {
     "hash": "9b71b9fa21544dd8a39d3650f5526997ede89e0b97dc642fc8071b919dea00e5"
    }
   }
  },
  "language_info": {
   "codemirror_mode": {
    "name": "ipython",
    "version": 3
   },
   "file_extension": ".py",
   "mimetype": "text/x-python",
   "name": "python",
   "nbconvert_exporter": "python",
   "pygments_lexer": "ipython3",
   "version": "3.8.3-final"
  }
 },
 "nbformat": 4,
 "nbformat_minor": 4
}