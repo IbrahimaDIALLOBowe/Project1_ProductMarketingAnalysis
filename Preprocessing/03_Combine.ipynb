{
 "cells": [
  {
   "cell_type": "code",
   "execution_count": 27,
   "metadata": {},
   "outputs": [],
   "source": [
    "# System imports\n",
    "import os\n",
    "import pandas as pd\n",
    "import matplotlib.pyplot as plt\n",
    "import plotly.express as px\n",
    "import hvplot.pandas\n",
    "import panel as pn\n",
    "from pathlib import Path\n",
    "from dotenv import load_dotenv\n",
    "from panel.interact import interact\n",
    "from panel import widgets\n",
    "from string import digits\n",
    "import csv\n",
    "import json\n",
    "import numpy as np\n",
    "import dateparser\n",
    "\n",
    "pn.extension()\n",
    "\n",
    "%matplotlib inline"
   ]
  },
  {
   "cell_type": "code",
   "execution_count": 28,
   "metadata": {},
   "outputs": [],
   "source": [
    "# Local imports\n",
    "import sys\n",
    "sys.path.append(\"../lib2\")\n",
    "\n",
    "from Constants import Constants\n",
    "from PreprocessingTools import MappingFunctions\n"
   ]
  },
  {
   "cell_type": "code",
   "execution_count": 29,
   "metadata": {},
   "outputs": [],
   "source": [
    "# Construct tools\n",
    "debug_level = 0\n",
    "constants = Constants()\n",
    "tool_mapping = MappingFunctions(debug_level)\n"
   ]
  },
  {
   "cell_type": "code",
   "execution_count": 30,
   "metadata": {},
   "outputs": [],
   "source": [
    "# Read anonymized data\n",
    "atlas                   = pd.read_csv(constants.ANON_ATLAS_FILE_PATH, index_col=\"Customers\")\n",
    "forecast                = pd.read_csv(constants.ANON_FORECAST_DATA_FILE_PATH, index_col=\"Organization Name\")\n",
    "revenue2020             = pd.read_csv(constants.ANON_REVENUE2020_FILE_PATH, index_col=\"Name\")\n",
    "revenue2020A            = pd.read_csv(constants.ANON_REVENUE2020A_FILE_PATH, index_col=\"Payee Name\")\n",
    "atlas2                  = pd.read_csv(constants.ANON_ATLAS_2_FILE_PATH, index_col=\"Customers\")\n"
   ]
  },
  {
   "cell_type": "code",
   "execution_count": null,
   "metadata": {},
   "outputs": [],
   "source": [
    "# Extract items for lookup tables\n"
   ]
  }
 ],
 "metadata": {
  "kernelspec": {
   "name": "python3",
   "display_name": "Python 3.8.3 64-bit ('pyvizenv': conda)",
   "metadata": {
    "interpreter": {
     "hash": "9b71b9fa21544dd8a39d3650f5526997ede89e0b97dc642fc8071b919dea00e5"
    }
   }
  },
  "language_info": {
   "codemirror_mode": {
    "name": "ipython",
    "version": 3
   },
   "file_extension": ".py",
   "mimetype": "text/x-python",
   "name": "python",
   "nbconvert_exporter": "python",
   "pygments_lexer": "ipython3",
   "version": "3.8.3-final"
  }
 },
 "nbformat": 4,
 "nbformat_minor": 4
}